{
 "cells": [
  {
   "cell_type": "code",
   "execution_count": 33,
   "source": [
    "from pyscf import gto, scf, ao2mo, fci\n",
    "import itertools\n",
    "from copy import copy\n",
    "import CC, Wick, GeneralisedWick\n",
    "import numpy as np"
   ],
   "outputs": [],
   "metadata": {}
  },
  {
   "cell_type": "code",
   "execution_count": 2,
   "source": [
    "bohr = 0.529177249\n",
    "\n",
    "H2sep = 1.605 * bohr\n",
    "\n",
    "mol = gto.Mole()\n",
    "mol.verbose = 1\n",
    "mol.atom = 'H 0 0 0; H 0 0 ' + str(H2sep)\n",
    "mol.basis = 'sto-3g'\n",
    "mol.spin = 0\n",
    "mol.build()\n",
    "\n",
    "Enuc = mol.energy_nuc()\n",
    "\n",
    "mf = scf.ROHF(mol)\n",
    "mf.kernel()\n",
    "\n",
    "cisolver = fci.FCI(mol, mf.mo_coeff)"
   ],
   "outputs": [],
   "metadata": {}
  },
  {
   "cell_type": "code",
   "execution_count": 3,
   "source": [
    "cisolver.kernel()"
   ],
   "outputs": [
    {
     "output_type": "execute_result",
     "data": {
      "text/plain": [
       "(-1.1284543355083052,\n",
       " array([[ 9.90656547e-01,  2.77555756e-17],\n",
       "        [ 1.91460513e-17, -1.36380375e-01]]))"
      ]
     },
     "metadata": {},
     "execution_count": 3
    }
   ],
   "metadata": {}
  },
  {
   "cell_type": "code",
   "execution_count": 4,
   "source": [
    "h1 = mf.mo_coeff.T.dot(mf.get_hcore()).dot(mf.mo_coeff)\n",
    "eri = ao2mo.kernel(mol, mf.mo_coeff, compact=False)"
   ],
   "outputs": [],
   "metadata": {}
  },
  {
   "cell_type": "code",
   "execution_count": 5,
   "source": [
    "h1body = CC.get1bodyHamiltonian(mf)\n",
    "h2body = CC.get2bodyHamiltonian(mf)"
   ],
   "outputs": [],
   "metadata": {}
  },
  {
   "cell_type": "code",
   "execution_count": 6,
   "source": [
    "print(h1)\n",
    "print(h1body)"
   ],
   "outputs": [
    {
     "output_type": "stream",
     "name": "stdout",
     "text": [
      "[[-1.18985062e+00  2.60021255e-17]\n",
      " [-4.71423569e-17 -5.33749102e-01]]\n",
      "-1.1898506186070186 * a^{0\\alpha}a_{0\\alpha}\n",
      " + 2.600212552842601e-17 * a^{0\\alpha}a_{1\\alpha}\n",
      " + -1.1898506186070186 * a^{0\\beta}a_{0\\beta}\n",
      " + 2.600212552842601e-17 * a^{0\\beta}a_{1\\beta}\n",
      " + -4.7142356915405136e-17 * a^{1\\alpha}a_{0\\alpha}\n",
      " + -0.5337491016607854 * a^{1\\alpha}a_{1\\alpha}\n",
      " + -4.7142356915405136e-17 * a^{1\\beta}a_{0\\beta}\n",
      " + -0.5337491016607854 * a^{1\\beta}a_{1\\beta}\n"
     ]
    }
   ],
   "metadata": {}
  },
  {
   "cell_type": "code",
   "execution_count": 7,
   "source": [
    "print(0.5 * eri.reshape(2,2,2,2))\n",
    "print(h2body)"
   ],
   "outputs": [
    {
     "output_type": "stream",
     "name": "stdout",
     "text": [
      "[[[[3.27004756e-01 5.55111512e-17]\n",
      "   [4.16333634e-17 3.22624713e-01]]\n",
      "\n",
      "  [[5.89805982e-17 9.37609905e-02]\n",
      "   [9.37609905e-02 5.55111512e-17]]]\n",
      "\n",
      "\n",
      " [[[5.20417043e-17 9.37609905e-02]\n",
      "   [9.37609905e-02 2.77555756e-17]]\n",
      "\n",
      "  [[3.22624713e-01 1.11022302e-16]\n",
      "   [6.93889390e-17 3.39068092e-01]]]]\n",
      "0.3270047556780619 * a^{0\\alpha}a^{0\\alpha}a_{0\\alpha}a_{0\\alpha}\n",
      " + 5.204170427930421e-17 * a^{0\\alpha}a^{0\\alpha}a_{0\\alpha}a_{1\\alpha}\n",
      " + 4.163336342344337e-17 * a^{0\\alpha}a^{0\\alpha}a_{1\\alpha}a_{0\\alpha}\n",
      " + 0.09376099045135429 * a^{0\\alpha}a^{0\\alpha}a_{1\\alpha}a_{1\\alpha}\n",
      " + 0.3270047556780619 * a^{0\\alpha}a^{0\\beta}a_{0\\beta}a_{0\\alpha}\n",
      " + 5.204170427930421e-17 * a^{0\\alpha}a^{0\\beta}a_{0\\beta}a_{1\\alpha}\n",
      " + 4.163336342344337e-17 * a^{0\\alpha}a^{0\\beta}a_{1\\beta}a_{0\\alpha}\n",
      " + 0.09376099045135429 * a^{0\\alpha}a^{0\\beta}a_{1\\beta}a_{1\\alpha}\n",
      " + 4.163336342344337e-17 * a^{0\\alpha}a^{1\\alpha}a_{0\\alpha}a_{0\\alpha}\n",
      " + 0.3226247132942424 * a^{0\\alpha}a^{1\\alpha}a_{1\\alpha}a_{0\\alpha}\n",
      " + 2.7755575615628914e-17 * a^{0\\alpha}a^{1\\alpha}a_{1\\alpha}a_{1\\alpha}\n",
      " + 4.163336342344337e-17 * a^{0\\alpha}a^{1\\beta}a_{0\\beta}a_{0\\alpha}\n",
      " + 0.3226247132942424 * a^{0\\alpha}a^{1\\beta}a_{1\\beta}a_{0\\alpha}\n",
      " + 2.7755575615628914e-17 * a^{0\\alpha}a^{1\\beta}a_{1\\beta}a_{1\\alpha}\n",
      " + 0.3270047556780619 * a^{0\\beta}a^{0\\alpha}a_{0\\alpha}a_{0\\beta}\n",
      " + 5.204170427930421e-17 * a^{0\\beta}a^{0\\alpha}a_{0\\alpha}a_{1\\beta}\n",
      " + 4.163336342344337e-17 * a^{0\\beta}a^{0\\alpha}a_{1\\alpha}a_{0\\beta}\n",
      " + 0.09376099045135429 * a^{0\\beta}a^{0\\alpha}a_{1\\alpha}a_{1\\beta}\n",
      " + 0.3270047556780619 * a^{0\\beta}a^{0\\beta}a_{0\\beta}a_{0\\beta}\n",
      " + 5.204170427930421e-17 * a^{0\\beta}a^{0\\beta}a_{0\\beta}a_{1\\beta}\n",
      " + 4.163336342344337e-17 * a^{0\\beta}a^{0\\beta}a_{1\\beta}a_{0\\beta}\n",
      " + 0.09376099045135429 * a^{0\\beta}a^{0\\beta}a_{1\\beta}a_{1\\beta}\n",
      " + 4.163336342344337e-17 * a^{0\\beta}a^{1\\alpha}a_{0\\alpha}a_{0\\beta}\n",
      " + 0.3226247132942424 * a^{0\\beta}a^{1\\alpha}a_{1\\alpha}a_{0\\beta}\n",
      " + 2.7755575615628914e-17 * a^{0\\beta}a^{1\\alpha}a_{1\\alpha}a_{1\\beta}\n",
      " + 4.163336342344337e-17 * a^{0\\beta}a^{1\\beta}a_{0\\beta}a_{0\\beta}\n",
      " + 0.3226247132942424 * a^{0\\beta}a^{1\\beta}a_{1\\beta}a_{0\\beta}\n",
      " + 2.7755575615628914e-17 * a^{0\\beta}a^{1\\beta}a_{1\\beta}a_{1\\beta}\n",
      " + 5.204170427930421e-17 * a^{1\\alpha}a^{0\\alpha}a_{0\\alpha}a_{0\\alpha}\n",
      " + 0.3226247132942422 * a^{1\\alpha}a^{0\\alpha}a_{0\\alpha}a_{1\\alpha}\n",
      " + 6.938893903907228e-17 * a^{1\\alpha}a^{0\\alpha}a_{1\\alpha}a_{1\\alpha}\n",
      " + 5.204170427930421e-17 * a^{1\\alpha}a^{0\\beta}a_{0\\beta}a_{0\\alpha}\n",
      " + 0.3226247132942422 * a^{1\\alpha}a^{0\\beta}a_{0\\beta}a_{1\\alpha}\n",
      " + 6.938893903907228e-17 * a^{1\\alpha}a^{0\\beta}a_{1\\beta}a_{1\\alpha}\n",
      " + 0.09376099045135429 * a^{1\\alpha}a^{1\\alpha}a_{0\\alpha}a_{0\\alpha}\n",
      " + 6.938893903907228e-17 * a^{1\\alpha}a^{1\\alpha}a_{0\\alpha}a_{1\\alpha}\n",
      " + 2.7755575615628914e-17 * a^{1\\alpha}a^{1\\alpha}a_{1\\alpha}a_{0\\alpha}\n",
      " + 0.33906809184265285 * a^{1\\alpha}a^{1\\alpha}a_{1\\alpha}a_{1\\alpha}\n",
      " + 0.09376099045135429 * a^{1\\alpha}a^{1\\beta}a_{0\\beta}a_{0\\alpha}\n",
      " + 6.938893903907228e-17 * a^{1\\alpha}a^{1\\beta}a_{0\\beta}a_{1\\alpha}\n",
      " + 2.7755575615628914e-17 * a^{1\\alpha}a^{1\\beta}a_{1\\beta}a_{0\\alpha}\n",
      " + 0.33906809184265285 * a^{1\\alpha}a^{1\\beta}a_{1\\beta}a_{1\\alpha}\n",
      " + 5.204170427930421e-17 * a^{1\\beta}a^{0\\alpha}a_{0\\alpha}a_{0\\beta}\n",
      " + 0.3226247132942422 * a^{1\\beta}a^{0\\alpha}a_{0\\alpha}a_{1\\beta}\n",
      " + 6.938893903907228e-17 * a^{1\\beta}a^{0\\alpha}a_{1\\alpha}a_{1\\beta}\n",
      " + 5.204170427930421e-17 * a^{1\\beta}a^{0\\beta}a_{0\\beta}a_{0\\beta}\n",
      " + 0.3226247132942422 * a^{1\\beta}a^{0\\beta}a_{0\\beta}a_{1\\beta}\n",
      " + 6.938893903907228e-17 * a^{1\\beta}a^{0\\beta}a_{1\\beta}a_{1\\beta}\n",
      " + 0.09376099045135429 * a^{1\\beta}a^{1\\alpha}a_{0\\alpha}a_{0\\beta}\n",
      " + 6.938893903907228e-17 * a^{1\\beta}a^{1\\alpha}a_{0\\alpha}a_{1\\beta}\n",
      " + 2.7755575615628914e-17 * a^{1\\beta}a^{1\\alpha}a_{1\\alpha}a_{0\\beta}\n",
      " + 0.33906809184265285 * a^{1\\beta}a^{1\\alpha}a_{1\\alpha}a_{1\\beta}\n",
      " + 0.09376099045135429 * a^{1\\beta}a^{1\\beta}a_{0\\beta}a_{0\\beta}\n",
      " + 6.938893903907228e-17 * a^{1\\beta}a^{1\\beta}a_{0\\beta}a_{1\\beta}\n",
      " + 2.7755575615628914e-17 * a^{1\\beta}a^{1\\beta}a_{1\\beta}a_{0\\beta}\n",
      " + 0.33906809184265285 * a^{1\\beta}a^{1\\beta}a_{1\\beta}a_{1\\beta}\n"
     ]
    }
   ],
   "metadata": {}
  },
  {
   "cell_type": "code",
   "execution_count": 8,
   "source": [
    "h2bodyTensor = GeneralisedWick.Tensor(\"v\", ['g','g'], ['g','g'])"
   ],
   "outputs": [],
   "metadata": {}
  },
  {
   "cell_type": "code",
   "execution_count": 55,
   "source": [
    "#h2bodyTensor.array = 0.5 * eri.reshape(2,2,2,2).swapaxes(2,3).swapaxes(1,2)\n",
    "h2bodyTensor.array = 2 * get2bodyHamiltonianArray(mf)"
   ],
   "outputs": [],
   "metadata": {}
  },
  {
   "cell_type": "code",
   "execution_count": 23,
   "source": [
    "def getDiagrams(tensor, vacuum):\n",
    "    Nocc = sum(vacuum)\n",
    "    Norbs = len(vacuum)\n",
    "    diagrams = []\n",
    "    lowerGeneralIndexCount = sum(i == 'g' for i in tensor.lowerIndexTypes)\n",
    "    lowerSplits = list(itertools.product(['h', 'p'], repeat=lowerGeneralIndexCount))\n",
    "    upperGeneralIndexCount = sum(i == 'g' for i in tensor.upperIndexTypes)\n",
    "    upperSplits = list(itertools.product(['h', 'p'], repeat=upperGeneralIndexCount))\n",
    "    for lowerSplit in lowerSplits:\n",
    "        lowerSlices = [slice(None)] * tensor.excitationRank\n",
    "        lowerSplitIndexTypes = list(lowerSplit)\n",
    "        lGI = 0\n",
    "        newLowerIndexTypes = copy(tensor.lowerIndexTypes)\n",
    "        for lI in range(len(newLowerIndexTypes)):\n",
    "            if newLowerIndexTypes[lI] == 'g':\n",
    "                newLI = lowerSplitIndexTypes[lGI]\n",
    "                if newLI == 'h':\n",
    "                    lowerSlices[lI] = slice(None,Nocc)\n",
    "                elif newLI == 'p':\n",
    "                    lowerSlices[lI] = slice(Nocc, None)\n",
    "                newLowerIndexTypes[lI] = newLI\n",
    "                lGI += 1\n",
    "        for upperSplit in upperSplits:\n",
    "#            print(lowerSplit, upperSplit)\n",
    "            upperSlices = [slice(None)] * tensor.excitationRank\n",
    "            upperSplitIndexTypes = list(upperSplit)\n",
    "            uGI = 0\n",
    "            newUpperIndexTypes = copy(tensor.upperIndexTypes)\n",
    "            for uI in range(len(newUpperIndexTypes)):\n",
    "                if newUpperIndexTypes[uI] == 'g':\n",
    "                    newUI = upperSplitIndexTypes[uGI]\n",
    "                    if newUI == 'h':\n",
    "                        upperSlices[uI] = slice(None,Nocc)\n",
    "                    elif newUI == 'p':\n",
    "                        upperSlices[uI] = slice(Nocc, None)\n",
    "                    newUpperIndexTypes[uI] = newUI\n",
    "                    uGI += 1\n",
    "            slices = tuple(lowerSlices + upperSlices)\n",
    "#            print(lowerSplitIndexTypes)\n",
    "#            print(upperSplitIndexTypes)\n",
    "#            print(newLowerIndexTypes)\n",
    "#            print(newUpperIndexTypes)\n",
    "#            print(slices)\n",
    "            diagram = GeneralisedWick.Tensor(tensor.name, newLowerIndexTypes, newUpperIndexTypes)\n",
    "            diagram.array = tensor.array[slices]\n",
    "            diagrams.append(diagram)\n",
    "    return diagrams"
   ],
   "outputs": [],
   "metadata": {}
  },
  {
   "cell_type": "code",
   "execution_count": 56,
   "source": [
    "h2Diagrams = getDiagrams(h2bodyTensor, [1,0])"
   ],
   "outputs": [],
   "metadata": {}
  },
  {
   "cell_type": "code",
   "execution_count": 57,
   "source": [
    "print(h2Diagrams[0].getOperator(spinFree=True))"
   ],
   "outputs": [
    {
     "output_type": "stream",
     "name": "stdout",
     "text": [
      "1.0 * a_{h_{3}\\beta}a_{h_{2}\\beta}a^{h_{0}\\beta}a^{h_{1}\\beta}\n",
      " + 1.0 * a_{h_{3}\\beta}a_{h_{2}\\alpha}a^{h_{0}\\alpha}a^{h_{1}\\beta}\n",
      " + 1.0 * a_{h_{3}\\alpha}a_{h_{2}\\beta}a^{h_{0}\\beta}a^{h_{1}\\alpha}\n",
      " + 1.0 * a_{h_{3}\\alpha}a_{h_{2}\\alpha}a^{h_{0}\\alpha}a^{h_{1}\\alpha}\n"
     ]
    }
   ],
   "metadata": {}
  },
  {
   "cell_type": "code",
   "execution_count": 28,
   "source": [
    "print(h2Diagrams[0].array)"
   ],
   "outputs": [
    {
     "output_type": "stream",
     "name": "stdout",
     "text": [
      "[[[[0.32700476]]]]\n"
     ]
    }
   ],
   "metadata": {}
  },
  {
   "cell_type": "code",
   "execution_count": 58,
   "source": [
    "for diagram in h2Diagrams:\n",
    "    print(diagram.array)\n",
    "    print(diagram.getOperator(spinFree=True))"
   ],
   "outputs": [
    {
     "output_type": "stream",
     "name": "stdout",
     "text": [
      "[[[[0.65400951]]]]\n",
      "1.0 * a_{h_{3}\\beta}a_{h_{2}\\beta}a^{h_{0}\\beta}a^{h_{1}\\beta}\n",
      " + 1.0 * a_{h_{3}\\beta}a_{h_{2}\\alpha}a^{h_{0}\\alpha}a^{h_{1}\\beta}\n",
      " + 1.0 * a_{h_{3}\\alpha}a_{h_{2}\\beta}a^{h_{0}\\beta}a^{h_{1}\\alpha}\n",
      " + 1.0 * a_{h_{3}\\alpha}a_{h_{2}\\alpha}a^{h_{0}\\alpha}a^{h_{1}\\alpha}\n",
      "[[[[8.32667268e-17]]]]\n",
      "-1.0 * a_{h_{2}\\beta}a^{h_{0}\\beta}a^{h_{1}\\beta}a_{p_{0}\\beta}\n",
      " + -1.0 * a_{h_{2}\\alpha}a^{h_{0}\\alpha}a^{h_{1}\\beta}a_{p_{0}\\beta}\n",
      " + -1.0 * a_{h_{2}\\beta}a^{h_{0}\\beta}a^{h_{1}\\alpha}a_{p_{0}\\alpha}\n",
      " + -1.0 * a_{h_{2}\\alpha}a^{h_{0}\\alpha}a^{h_{1}\\alpha}a_{p_{0}\\alpha}\n",
      "[[[[1.04083409e-16]]]]\n",
      "1.0 * a_{h_{2}\\beta}a^{h_{0}\\beta}a^{h_{1}\\beta}a_{p_{0}\\beta}\n",
      " + 1.0 * a_{h_{2}\\beta}a^{h_{0}\\alpha}a^{h_{1}\\beta}a_{p_{0}\\alpha}\n",
      " + 1.0 * a_{h_{2}\\alpha}a^{h_{0}\\beta}a^{h_{1}\\alpha}a_{p_{0}\\beta}\n",
      " + 1.0 * a_{h_{2}\\alpha}a^{h_{0}\\alpha}a^{h_{1}\\alpha}a_{p_{0}\\alpha}\n",
      "[[[[0.18752198]]]]\n",
      "1.0 * a^{h_{0}\\beta}a^{h_{1}\\beta}a_{p_{1}\\beta}a_{p_{0}\\beta}\n",
      " + 1.0 * a^{h_{0}\\alpha}a^{h_{1}\\beta}a_{p_{1}\\beta}a_{p_{0}\\alpha}\n",
      " + 1.0 * a^{h_{0}\\beta}a^{h_{1}\\alpha}a_{p_{1}\\alpha}a_{p_{0}\\beta}\n",
      " + 1.0 * a^{h_{0}\\alpha}a^{h_{1}\\alpha}a_{p_{1}\\alpha}a_{p_{0}\\alpha}\n",
      "[[[[8.32667268e-17]]]]\n",
      "-1.0 * a^{p_{0}\\beta}a_{h_{2}\\beta}a_{h_{1}\\beta}a^{h_{0}\\beta}\n",
      " + -1.0 * a^{p_{0}\\beta}a_{h_{2}\\beta}a_{h_{1}\\alpha}a^{h_{0}\\alpha}\n",
      " + -1.0 * a^{p_{0}\\alpha}a_{h_{2}\\alpha}a_{h_{1}\\beta}a^{h_{0}\\beta}\n",
      " + -1.0 * a^{p_{0}\\alpha}a_{h_{2}\\alpha}a_{h_{1}\\alpha}a^{h_{0}\\alpha}\n",
      "[[[[0.64524943]]]]\n",
      "-1.0 * a^{p_{0}\\beta}a_{h_{1}\\beta}a^{h_{0}\\beta}a_{p_{1}\\beta}\n",
      " + -1.0 * a^{p_{0}\\beta}a_{h_{1}\\alpha}a^{h_{0}\\alpha}a_{p_{1}\\beta}\n",
      " + -1.0 * a^{p_{0}\\alpha}a_{h_{1}\\beta}a^{h_{0}\\beta}a_{p_{1}\\alpha}\n",
      " + -1.0 * a^{p_{0}\\alpha}a_{h_{1}\\alpha}a^{h_{0}\\alpha}a_{p_{1}\\alpha}\n",
      "[[[[0.]]]]\n",
      "1.0 * a^{p_{0}\\beta}a_{h_{1}\\beta}a^{h_{0}\\beta}a_{p_{1}\\beta}\n",
      " + 1.0 * a^{p_{0}\\beta}a_{h_{1}\\beta}a^{h_{0}\\alpha}a_{p_{1}\\alpha}\n",
      " + 1.0 * a^{p_{0}\\alpha}a_{h_{1}\\alpha}a^{h_{0}\\beta}a_{p_{1}\\beta}\n",
      " + 1.0 * a^{p_{0}\\alpha}a_{h_{1}\\alpha}a^{h_{0}\\alpha}a_{p_{1}\\alpha}\n",
      "[[[[5.55111512e-17]]]]\n",
      "-1.0 * a^{p_{0}\\beta}a^{h_{0}\\beta}a_{p_{2}\\beta}a_{p_{1}\\beta}\n",
      " + -1.0 * a^{p_{0}\\beta}a^{h_{0}\\alpha}a_{p_{2}\\beta}a_{p_{1}\\alpha}\n",
      " + -1.0 * a^{p_{0}\\alpha}a^{h_{0}\\beta}a_{p_{2}\\alpha}a_{p_{1}\\beta}\n",
      " + -1.0 * a^{p_{0}\\alpha}a^{h_{0}\\alpha}a_{p_{2}\\alpha}a_{p_{1}\\alpha}\n",
      "[[[[1.04083409e-16]]]]\n",
      "1.0 * a^{p_{0}\\beta}a_{h_{2}\\beta}a_{h_{1}\\beta}a^{h_{0}\\beta}\n",
      " + 1.0 * a^{p_{0}\\alpha}a_{h_{2}\\beta}a_{h_{1}\\alpha}a^{h_{0}\\beta}\n",
      " + 1.0 * a^{p_{0}\\beta}a_{h_{2}\\alpha}a_{h_{1}\\beta}a^{h_{0}\\alpha}\n",
      " + 1.0 * a^{p_{0}\\alpha}a_{h_{2}\\alpha}a_{h_{1}\\alpha}a^{h_{0}\\alpha}\n",
      "[[[[0.]]]]\n",
      "1.0 * a^{p_{0}\\beta}a_{h_{1}\\beta}a^{h_{0}\\beta}a_{p_{1}\\beta}\n",
      " + 1.0 * a^{p_{0}\\alpha}a_{h_{1}\\alpha}a^{h_{0}\\beta}a_{p_{1}\\beta}\n",
      " + 1.0 * a^{p_{0}\\beta}a_{h_{1}\\beta}a^{h_{0}\\alpha}a_{p_{1}\\alpha}\n",
      " + 1.0 * a^{p_{0}\\alpha}a_{h_{1}\\alpha}a^{h_{0}\\alpha}a_{p_{1}\\alpha}\n",
      "[[[[0.64524943]]]]\n",
      "-1.0 * a^{p_{0}\\beta}a_{h_{1}\\beta}a^{h_{0}\\beta}a_{p_{1}\\beta}\n",
      " + -1.0 * a^{p_{0}\\alpha}a_{h_{1}\\beta}a^{h_{0}\\beta}a_{p_{1}\\alpha}\n",
      " + -1.0 * a^{p_{0}\\beta}a_{h_{1}\\alpha}a^{h_{0}\\alpha}a_{p_{1}\\beta}\n",
      " + -1.0 * a^{p_{0}\\alpha}a_{h_{1}\\alpha}a^{h_{0}\\alpha}a_{p_{1}\\alpha}\n",
      "[[[[1.38777878e-16]]]]\n",
      "1.0 * a^{p_{0}\\beta}a^{h_{0}\\beta}a_{p_{2}\\beta}a_{p_{1}\\beta}\n",
      " + 1.0 * a^{p_{0}\\alpha}a^{h_{0}\\beta}a_{p_{2}\\beta}a_{p_{1}\\alpha}\n",
      " + 1.0 * a^{p_{0}\\beta}a^{h_{0}\\alpha}a_{p_{2}\\alpha}a_{p_{1}\\beta}\n",
      " + 1.0 * a^{p_{0}\\alpha}a^{h_{0}\\alpha}a_{p_{2}\\alpha}a_{p_{1}\\alpha}\n",
      "[[[[0.18752198]]]]\n",
      "1.0 * a^{p_{0}\\beta}a^{p_{1}\\beta}a_{h_{1}\\beta}a_{h_{0}\\beta}\n",
      " + 1.0 * a^{p_{0}\\alpha}a^{p_{1}\\beta}a_{h_{1}\\beta}a_{h_{0}\\alpha}\n",
      " + 1.0 * a^{p_{0}\\beta}a^{p_{1}\\alpha}a_{h_{1}\\alpha}a_{h_{0}\\beta}\n",
      " + 1.0 * a^{p_{0}\\alpha}a^{p_{1}\\alpha}a_{h_{1}\\alpha}a_{h_{0}\\alpha}\n",
      "[[[[5.55111512e-17]]]]\n",
      "-1.0 * a^{p_{0}\\beta}a^{p_{1}\\beta}a_{h_{0}\\beta}a_{p_{2}\\beta}\n",
      " + -1.0 * a^{p_{0}\\alpha}a^{p_{1}\\beta}a_{h_{0}\\alpha}a_{p_{2}\\beta}\n",
      " + -1.0 * a^{p_{0}\\beta}a^{p_{1}\\alpha}a_{h_{0}\\beta}a_{p_{2}\\alpha}\n",
      " + -1.0 * a^{p_{0}\\alpha}a^{p_{1}\\alpha}a_{h_{0}\\alpha}a_{p_{2}\\alpha}\n",
      "[[[[1.38777878e-16]]]]\n",
      "1.0 * a^{p_{0}\\beta}a^{p_{1}\\beta}a_{h_{0}\\beta}a_{p_{2}\\beta}\n",
      " + 1.0 * a^{p_{0}\\alpha}a^{p_{1}\\beta}a_{h_{0}\\beta}a_{p_{2}\\alpha}\n",
      " + 1.0 * a^{p_{0}\\beta}a^{p_{1}\\alpha}a_{h_{0}\\alpha}a_{p_{2}\\beta}\n",
      " + 1.0 * a^{p_{0}\\alpha}a^{p_{1}\\alpha}a_{h_{0}\\alpha}a_{p_{2}\\alpha}\n",
      "[[[[0.67813618]]]]\n",
      "1.0 * a^{p_{0}\\beta}a^{p_{1}\\beta}a_{p_{3}\\beta}a_{p_{2}\\beta}\n",
      " + 1.0 * a^{p_{0}\\alpha}a^{p_{1}\\beta}a_{p_{3}\\beta}a_{p_{2}\\alpha}\n",
      " + 1.0 * a^{p_{0}\\beta}a^{p_{1}\\alpha}a_{p_{3}\\alpha}a_{p_{2}\\beta}\n",
      " + 1.0 * a^{p_{0}\\alpha}a^{p_{1}\\alpha}a_{p_{3}\\alpha}a_{p_{2}\\alpha}\n"
     ]
    }
   ],
   "metadata": {}
  },
  {
   "cell_type": "code",
   "execution_count": 53,
   "source": [
    "def get2bodyHamiltonianArray(mf_):\n",
    "    eri = ao2mo.kernel(mf_.mol, mf_.mo_coeff)\n",
    "    Norbs_ = mf_.mol.nao\n",
    "    hamiltonian2BodyArray = np.zeros((Norbs_,Norbs_,Norbs_,Norbs_))\n",
    "    for p in range(Norbs_):\n",
    "        for q in range(Norbs_):\n",
    "            for r in range(p + 1):\n",
    "                for s in range(q + 1):\n",
    "                    x = int(p + Norbs_ * r - 0.5 * r * (r + 1))\n",
    "                    y = int(q + Norbs_ * s - 0.5 * s * (s + 1))\n",
    "                    if p == r and q == s:\n",
    "                        hamiltonian2BodyArray[p,q,r,s] += 0.5 * eri[x, y]\n",
    "                    else:\n",
    "                        hamiltonian2BodyArray[p,q,r,s] += 0.5 * eri[x, y]\n",
    "                        hamiltonian2BodyArray[r,s,p,q] += 0.5 * np.conjugate(eri[x, y])\n",
    "    return hamiltonian2BodyArray"
   ],
   "outputs": [],
   "metadata": {}
  },
  {
   "cell_type": "code",
   "execution_count": 54,
   "source": [
    "print(2 * get2bodyHamiltonianArray(mf))"
   ],
   "outputs": [
    {
     "output_type": "stream",
     "name": "stdout",
     "text": [
      "[[[[6.54009511e-01 8.32667268e-17]\n",
      "   [1.04083409e-16 1.87521981e-01]]\n",
      "\n",
      "  [[8.32667268e-17 6.45249427e-01]\n",
      "   [0.00000000e+00 5.55111512e-17]]]\n",
      "\n",
      "\n",
      " [[[1.04083409e-16 0.00000000e+00]\n",
      "   [6.45249427e-01 1.38777878e-16]]\n",
      "\n",
      "  [[1.87521981e-01 5.55111512e-17]\n",
      "   [1.38777878e-16 6.78136184e-01]]]]\n"
     ]
    }
   ],
   "metadata": {}
  },
  {
   "cell_type": "code",
   "execution_count": 50,
   "source": [
    "print(eri.reshape(2,2,2,2).swapaxes(2,3).swapaxes(1,2))"
   ],
   "outputs": [
    {
     "output_type": "stream",
     "name": "stdout",
     "text": [
      "[[[[6.54009511e-01 8.32667268e-17]\n",
      "   [1.17961196e-16 1.87521981e-01]]\n",
      "\n",
      "  [[1.11022302e-16 6.45249427e-01]\n",
      "   [1.87521981e-01 1.11022302e-16]]]\n",
      "\n",
      "\n",
      " [[[1.04083409e-16 1.87521981e-01]\n",
      "   [6.45249427e-01 1.38777878e-16]]\n",
      "\n",
      "  [[1.87521981e-01 5.55111512e-17]\n",
      "   [2.22044605e-16 6.78136184e-01]]]]\n"
     ]
    }
   ],
   "metadata": {}
  },
  {
   "cell_type": "code",
   "execution_count": null,
   "source": [],
   "outputs": [],
   "metadata": {}
  }
 ],
 "metadata": {
  "orig_nbformat": 4,
  "language_info": {
   "name": "python",
   "version": "3.8.0",
   "mimetype": "text/x-python",
   "codemirror_mode": {
    "name": "ipython",
    "version": 3
   },
   "pygments_lexer": "ipython3",
   "nbconvert_exporter": "python",
   "file_extension": ".py"
  },
  "kernelspec": {
   "name": "python3",
   "display_name": "Python 3.8.0 64-bit"
  },
  "interpreter": {
   "hash": "aee8b7b246df8f9039afb4144a1f6fd8d2ca17a180786b69acc140d282b71a49"
  }
 },
 "nbformat": 4,
 "nbformat_minor": 2
}