{
 "cells": [
  {
   "cell_type": "code",
   "execution_count": 2,
   "metadata": {},
   "outputs": [],
   "source": [
    "from pyscf import gto, scf, ao2mo, fci\n",
    "import itertools\n",
    "from copy import copy\n",
    "import CC, Deprecated.Wick as Wick, GeneralisedWick\n",
    "import numpy as np\n",
    "from math import factorial, sqrt"
   ]
  },
  {
   "cell_type": "code",
   "execution_count": 3,
   "metadata": {},
   "outputs": [],
   "source": [
    "def commutator(operator1, operator2):\n",
    "    return operator1 * operator2 + (-1) * operator2 * operator1"
   ]
  },
  {
   "cell_type": "code",
   "execution_count": 4,
   "metadata": {},
   "outputs": [],
   "source": [
    "def BCHSimilarityTransform(H, T, order):\n",
    "    result = H\n",
    "    for k in range(order):\n",
    "        nestedCommutator = H\n",
    "        for i in range(k + 1):\n",
    "            nestedCommutator = commutator(nestedCommutator, T)\n",
    "        result += (1 / factorial(k + 1)) * nestedCommutator\n",
    "    if isinstance(H, Wick.operatorProduct) or isinstance(H, Wick.operatorSum):\n",
    "        result.checkNilpotency()\n",
    "    return result"
   ]
  },
  {
   "cell_type": "code",
   "execution_count": 5,
   "metadata": {},
   "outputs": [],
   "source": [
    "def projectionManifold(excitationLevel):\n",
    "    return GeneralisedWick.Tensor('\\Phi', ['h'] * excitationLevel, ['p'] * excitationLevel)"
   ]
  },
  {
   "cell_type": "code",
   "execution_count": 6,
   "metadata": {},
   "outputs": [],
   "source": [
    "h1Tensor = GeneralisedWick.Tensor(\"f\", ['g'], ['g'])\n",
    "h2Tensor = GeneralisedWick.Tensor(\"v\", ['g', 'g'], ['g', 'g'])\n",
    "t2Tensor = GeneralisedWick.Tensor(\"{t_{2}}\", ['p', 'p'], ['h', 'h'])"
   ]
  },
  {
   "cell_type": "code",
   "execution_count": 7,
   "metadata": {},
   "outputs": [],
   "source": [
    "bohr = 0.529177249\n",
    "\n",
    "H2sep = 1.605 * bohr\n",
    "\n",
    "mol = gto.Mole()\n",
    "mol.verbose = 1\n",
    "mol.atom = 'H 0 0 0; H 0 0 ' + str(H2sep)\n",
    "mol.basis = 'sto-3g'\n",
    "mol.spin = 0\n",
    "mol.build()\n",
    "\n",
    "Enuc = mol.energy_nuc()\n",
    "\n",
    "mf = scf.ROHF(mol)\n",
    "mf.kernel()\n",
    "\n",
    "cisolver = fci.FCI(mol, mf.mo_coeff)\n",
    "\n",
    "Norbs = mol.nao\n",
    "Nocc = mf.nelectron_alpha\n",
    "vacuum = [1] * Nocc + [0] * (Norbs - Nocc)\n",
    "\n",
    "h1 = mf.mo_coeff.T.dot(mf.get_hcore()).dot(mf.mo_coeff)\n",
    "eri = ao2mo.kernel(mol, mf.mo_coeff)"
   ]
  },
  {
   "cell_type": "markdown",
   "metadata": {},
   "source": [
    "Generalised Wick"
   ]
  },
  {
   "cell_type": "code",
   "execution_count": 11,
   "metadata": {},
   "outputs": [],
   "source": [
    "h1Tensor.array = h1\n",
    "h2Tensor.array = ao2mo.kernel(mol, mf.mo_coeff, compact=False).reshape((Norbs, Norbs, Norbs, Norbs)).swapaxes(2,3).swapaxes(1,2)\n",
    "#h2Tensor.array = 2 * h2Array"
   ]
  },
  {
   "cell_type": "code",
   "execution_count": 12,
   "metadata": {},
   "outputs": [
    {
     "data": {
      "text/plain": [
       "array([[[[6.54009511e-01, 8.32667268e-17],\n",
       "         [1.17961196e-16, 1.87521981e-01]],\n",
       "\n",
       "        [[1.11022302e-16, 6.45249427e-01],\n",
       "         [1.87521981e-01, 1.11022302e-16]]],\n",
       "\n",
       "\n",
       "       [[[1.04083409e-16, 1.87521981e-01],\n",
       "         [6.45249427e-01, 1.38777878e-16]],\n",
       "\n",
       "        [[1.87521981e-01, 5.55111512e-17],\n",
       "         [2.22044605e-16, 6.78136184e-01]]]])"
      ]
     },
     "execution_count": 12,
     "metadata": {},
     "output_type": "execute_result"
    }
   ],
   "source": [
    "h2Tensor.array"
   ]
  },
  {
   "cell_type": "code",
   "execution_count": 13,
   "metadata": {},
   "outputs": [],
   "source": [
    "h1Diagrams = h1Tensor.getAllDiagrams(vacuum)\n",
    "h2Diagrams = h2Tensor.getAllDiagrams(vacuum)"
   ]
  },
  {
   "cell_type": "code",
   "execution_count": 14,
   "metadata": {},
   "outputs": [
    {
     "name": "stdout",
     "output_type": "stream",
     "text": [
      "[[-1.18985062]]\n",
      "-1.0 * a_{h_{1}\\beta}a^{h_{0}\\beta}\n",
      " + -1.0 * a_{h_{1}\\alpha}a^{h_{0}\\alpha}\n",
      "[[2.60021255e-17]]\n",
      "1.0 * a^{h_{0}\\beta}a_{p_{0}\\beta}\n",
      " + 1.0 * a^{h_{0}\\alpha}a_{p_{0}\\alpha}\n",
      "[[-4.71423569e-17]]\n",
      "1.0 * a^{p_{0}\\beta}a_{h_{0}\\beta}\n",
      " + 1.0 * a^{p_{0}\\alpha}a_{h_{0}\\alpha}\n",
      "[[-0.5337491]]\n",
      "1.0 * a^{p_{0}\\beta}a_{p_{1}\\beta}\n",
      " + 1.0 * a^{p_{0}\\alpha}a_{p_{1}\\alpha}\n"
     ]
    }
   ],
   "source": [
    "for d in h1Diagrams:\n",
    "    print(d.array)\n",
    "    print(d.getOperator(spinFree=True))"
   ]
  },
  {
   "cell_type": "code",
   "execution_count": 15,
   "metadata": {},
   "outputs": [
    {
     "name": "stdout",
     "output_type": "stream",
     "text": [
      "[[[[0.65400951]]]]\n",
      "1.0 * a_{h_{3}\\beta}a_{h_{2}\\beta}a^{h_{0}\\beta}a^{h_{1}\\beta}\n",
      " + 1.0 * a_{h_{3}\\beta}a_{h_{2}\\alpha}a^{h_{0}\\alpha}a^{h_{1}\\beta}\n",
      " + 1.0 * a_{h_{3}\\alpha}a_{h_{2}\\beta}a^{h_{0}\\beta}a^{h_{1}\\alpha}\n",
      " + 1.0 * a_{h_{3}\\alpha}a_{h_{2}\\alpha}a^{h_{0}\\alpha}a^{h_{1}\\alpha}\n",
      "[[[[8.32667268e-17]]]]\n",
      "-1.0 * a_{h_{2}\\beta}a^{h_{0}\\beta}a^{h_{1}\\beta}a_{p_{0}\\beta}\n",
      " + -1.0 * a_{h_{2}\\alpha}a^{h_{0}\\alpha}a^{h_{1}\\beta}a_{p_{0}\\beta}\n",
      " + -1.0 * a_{h_{2}\\beta}a^{h_{0}\\beta}a^{h_{1}\\alpha}a_{p_{0}\\alpha}\n",
      " + -1.0 * a_{h_{2}\\alpha}a^{h_{0}\\alpha}a^{h_{1}\\alpha}a_{p_{0}\\alpha}\n",
      "[[[[1.17961196e-16]]]]\n",
      "1.0 * a_{h_{2}\\beta}a^{h_{0}\\beta}a^{h_{1}\\beta}a_{p_{0}\\beta}\n",
      " + 1.0 * a_{h_{2}\\beta}a^{h_{0}\\alpha}a^{h_{1}\\beta}a_{p_{0}\\alpha}\n",
      " + 1.0 * a_{h_{2}\\alpha}a^{h_{0}\\beta}a^{h_{1}\\alpha}a_{p_{0}\\beta}\n",
      " + 1.0 * a_{h_{2}\\alpha}a^{h_{0}\\alpha}a^{h_{1}\\alpha}a_{p_{0}\\alpha}\n",
      "[[[[0.18752198]]]]\n",
      "1.0 * a^{h_{0}\\beta}a^{h_{1}\\beta}a_{p_{1}\\beta}a_{p_{0}\\beta}\n",
      " + 1.0 * a^{h_{0}\\alpha}a^{h_{1}\\beta}a_{p_{1}\\beta}a_{p_{0}\\alpha}\n",
      " + 1.0 * a^{h_{0}\\beta}a^{h_{1}\\alpha}a_{p_{1}\\alpha}a_{p_{0}\\beta}\n",
      " + 1.0 * a^{h_{0}\\alpha}a^{h_{1}\\alpha}a_{p_{1}\\alpha}a_{p_{0}\\alpha}\n",
      "[[[[1.11022302e-16]]]]\n",
      "-1.0 * a^{p_{0}\\beta}a_{h_{2}\\beta}a_{h_{1}\\beta}a^{h_{0}\\beta}\n",
      " + -1.0 * a^{p_{0}\\beta}a_{h_{2}\\beta}a_{h_{1}\\alpha}a^{h_{0}\\alpha}\n",
      " + -1.0 * a^{p_{0}\\alpha}a_{h_{2}\\alpha}a_{h_{1}\\beta}a^{h_{0}\\beta}\n",
      " + -1.0 * a^{p_{0}\\alpha}a_{h_{2}\\alpha}a_{h_{1}\\alpha}a^{h_{0}\\alpha}\n",
      "[[[[0.64524943]]]]\n",
      "-1.0 * a^{p_{0}\\beta}a_{h_{1}\\beta}a^{h_{0}\\beta}a_{p_{1}\\beta}\n",
      " + -1.0 * a^{p_{0}\\beta}a_{h_{1}\\alpha}a^{h_{0}\\alpha}a_{p_{1}\\beta}\n",
      " + -1.0 * a^{p_{0}\\alpha}a_{h_{1}\\beta}a^{h_{0}\\beta}a_{p_{1}\\alpha}\n",
      " + -1.0 * a^{p_{0}\\alpha}a_{h_{1}\\alpha}a^{h_{0}\\alpha}a_{p_{1}\\alpha}\n",
      "[[[[0.18752198]]]]\n",
      "1.0 * a^{p_{0}\\beta}a_{h_{1}\\beta}a^{h_{0}\\beta}a_{p_{1}\\beta}\n",
      " + 1.0 * a^{p_{0}\\beta}a_{h_{1}\\beta}a^{h_{0}\\alpha}a_{p_{1}\\alpha}\n",
      " + 1.0 * a^{p_{0}\\alpha}a_{h_{1}\\alpha}a^{h_{0}\\beta}a_{p_{1}\\beta}\n",
      " + 1.0 * a^{p_{0}\\alpha}a_{h_{1}\\alpha}a^{h_{0}\\alpha}a_{p_{1}\\alpha}\n",
      "[[[[1.11022302e-16]]]]\n",
      "-1.0 * a^{p_{0}\\beta}a^{h_{0}\\beta}a_{p_{2}\\beta}a_{p_{1}\\beta}\n",
      " + -1.0 * a^{p_{0}\\beta}a^{h_{0}\\alpha}a_{p_{2}\\beta}a_{p_{1}\\alpha}\n",
      " + -1.0 * a^{p_{0}\\alpha}a^{h_{0}\\beta}a_{p_{2}\\alpha}a_{p_{1}\\beta}\n",
      " + -1.0 * a^{p_{0}\\alpha}a^{h_{0}\\alpha}a_{p_{2}\\alpha}a_{p_{1}\\alpha}\n",
      "[[[[1.04083409e-16]]]]\n",
      "1.0 * a^{p_{0}\\beta}a_{h_{2}\\beta}a_{h_{1}\\beta}a^{h_{0}\\beta}\n",
      " + 1.0 * a^{p_{0}\\alpha}a_{h_{2}\\beta}a_{h_{1}\\alpha}a^{h_{0}\\beta}\n",
      " + 1.0 * a^{p_{0}\\beta}a_{h_{2}\\alpha}a_{h_{1}\\beta}a^{h_{0}\\alpha}\n",
      " + 1.0 * a^{p_{0}\\alpha}a_{h_{2}\\alpha}a_{h_{1}\\alpha}a^{h_{0}\\alpha}\n",
      "[[[[0.18752198]]]]\n",
      "1.0 * a^{p_{0}\\beta}a_{h_{1}\\beta}a^{h_{0}\\beta}a_{p_{1}\\beta}\n",
      " + 1.0 * a^{p_{0}\\alpha}a_{h_{1}\\alpha}a^{h_{0}\\beta}a_{p_{1}\\beta}\n",
      " + 1.0 * a^{p_{0}\\beta}a_{h_{1}\\beta}a^{h_{0}\\alpha}a_{p_{1}\\alpha}\n",
      " + 1.0 * a^{p_{0}\\alpha}a_{h_{1}\\alpha}a^{h_{0}\\alpha}a_{p_{1}\\alpha}\n",
      "[[[[0.64524943]]]]\n",
      "-1.0 * a^{p_{0}\\beta}a_{h_{1}\\beta}a^{h_{0}\\beta}a_{p_{1}\\beta}\n",
      " + -1.0 * a^{p_{0}\\alpha}a_{h_{1}\\beta}a^{h_{0}\\beta}a_{p_{1}\\alpha}\n",
      " + -1.0 * a^{p_{0}\\beta}a_{h_{1}\\alpha}a^{h_{0}\\alpha}a_{p_{1}\\beta}\n",
      " + -1.0 * a^{p_{0}\\alpha}a_{h_{1}\\alpha}a^{h_{0}\\alpha}a_{p_{1}\\alpha}\n",
      "[[[[1.38777878e-16]]]]\n",
      "1.0 * a^{p_{0}\\beta}a^{h_{0}\\beta}a_{p_{2}\\beta}a_{p_{1}\\beta}\n",
      " + 1.0 * a^{p_{0}\\alpha}a^{h_{0}\\beta}a_{p_{2}\\beta}a_{p_{1}\\alpha}\n",
      " + 1.0 * a^{p_{0}\\beta}a^{h_{0}\\alpha}a_{p_{2}\\alpha}a_{p_{1}\\beta}\n",
      " + 1.0 * a^{p_{0}\\alpha}a^{h_{0}\\alpha}a_{p_{2}\\alpha}a_{p_{1}\\alpha}\n",
      "[[[[0.18752198]]]]\n",
      "1.0 * a^{p_{0}\\beta}a^{p_{1}\\beta}a_{h_{1}\\beta}a_{h_{0}\\beta}\n",
      " + 1.0 * a^{p_{0}\\alpha}a^{p_{1}\\beta}a_{h_{1}\\beta}a_{h_{0}\\alpha}\n",
      " + 1.0 * a^{p_{0}\\beta}a^{p_{1}\\alpha}a_{h_{1}\\alpha}a_{h_{0}\\beta}\n",
      " + 1.0 * a^{p_{0}\\alpha}a^{p_{1}\\alpha}a_{h_{1}\\alpha}a_{h_{0}\\alpha}\n",
      "[[[[5.55111512e-17]]]]\n",
      "-1.0 * a^{p_{0}\\beta}a^{p_{1}\\beta}a_{h_{0}\\beta}a_{p_{2}\\beta}\n",
      " + -1.0 * a^{p_{0}\\alpha}a^{p_{1}\\beta}a_{h_{0}\\alpha}a_{p_{2}\\beta}\n",
      " + -1.0 * a^{p_{0}\\beta}a^{p_{1}\\alpha}a_{h_{0}\\beta}a_{p_{2}\\alpha}\n",
      " + -1.0 * a^{p_{0}\\alpha}a^{p_{1}\\alpha}a_{h_{0}\\alpha}a_{p_{2}\\alpha}\n",
      "[[[[2.22044605e-16]]]]\n",
      "1.0 * a^{p_{0}\\beta}a^{p_{1}\\beta}a_{h_{0}\\beta}a_{p_{2}\\beta}\n",
      " + 1.0 * a^{p_{0}\\alpha}a^{p_{1}\\beta}a_{h_{0}\\beta}a_{p_{2}\\alpha}\n",
      " + 1.0 * a^{p_{0}\\beta}a^{p_{1}\\alpha}a_{h_{0}\\alpha}a_{p_{2}\\beta}\n",
      " + 1.0 * a^{p_{0}\\alpha}a^{p_{1}\\alpha}a_{h_{0}\\alpha}a_{p_{2}\\alpha}\n",
      "[[[[0.67813618]]]]\n",
      "1.0 * a^{p_{0}\\beta}a^{p_{1}\\beta}a_{p_{3}\\beta}a_{p_{2}\\beta}\n",
      " + 1.0 * a^{p_{0}\\alpha}a^{p_{1}\\beta}a_{p_{3}\\beta}a_{p_{2}\\alpha}\n",
      " + 1.0 * a^{p_{0}\\beta}a^{p_{1}\\alpha}a_{p_{3}\\alpha}a_{p_{2}\\beta}\n",
      " + 1.0 * a^{p_{0}\\alpha}a^{p_{1}\\alpha}a_{p_{3}\\alpha}a_{p_{2}\\alpha}\n"
     ]
    }
   ],
   "source": [
    "for d in h2Diagrams:\n",
    "    print(d.array)\n",
    "    print(d.getOperator(spinFree=True))"
   ]
  },
  {
   "cell_type": "code",
   "execution_count": 16,
   "metadata": {},
   "outputs": [],
   "source": [
    "HamiltonianTensor = sum(h1Diagrams) + 0.5 * sum(h2Diagrams)"
   ]
  },
  {
   "cell_type": "code",
   "execution_count": 17,
   "metadata": {},
   "outputs": [
    {
     "name": "stdout",
     "output_type": "stream",
     "text": [
      "1.0 * f_{h_{0}}^{h_{1}}\n",
      " + 1.0 * f_{h_{0}}^{p_{0}}\n",
      " + 1.0 * f_{p_{0}}^{h_{0}}\n",
      " + 1.0 * f_{p_{0}}^{p_{1}}\n",
      " + 0.5 * v_{h_{0}h_{1}}^{h_{2}h_{3}}\n",
      " + 0.5 * v_{h_{0}h_{1}}^{h_{2}p_{0}}\n",
      " + 0.5 * v_{h_{0}h_{1}}^{p_{0}h_{2}}\n",
      " + 0.5 * v_{h_{0}h_{1}}^{p_{0}p_{1}}\n",
      " + 0.5 * v_{h_{0}p_{0}}^{h_{1}h_{2}}\n",
      " + 0.5 * v_{h_{0}p_{0}}^{h_{1}p_{1}}\n",
      " + 0.5 * v_{h_{0}p_{0}}^{p_{1}h_{1}}\n",
      " + 0.5 * v_{h_{0}p_{0}}^{p_{1}p_{2}}\n",
      " + 0.5 * v_{p_{0}h_{0}}^{h_{1}h_{2}}\n",
      " + 0.5 * v_{p_{0}h_{0}}^{h_{1}p_{1}}\n",
      " + 0.5 * v_{p_{0}h_{0}}^{p_{1}h_{1}}\n",
      " + 0.5 * v_{p_{0}h_{0}}^{p_{1}p_{2}}\n",
      " + 0.5 * v_{p_{0}p_{1}}^{h_{0}h_{1}}\n",
      " + 0.5 * v_{p_{0}p_{1}}^{h_{0}p_{2}}\n",
      " + 0.5 * v_{p_{0}p_{1}}^{p_{2}h_{0}}\n",
      " + 0.5 * v_{p_{0}p_{1}}^{p_{2}p_{3}}\n"
     ]
    }
   ],
   "source": [
    "print(HamiltonianTensor)"
   ]
  },
  {
   "cell_type": "code",
   "execution_count": 18,
   "metadata": {},
   "outputs": [],
   "source": [
    "t2Tensor.array = np.zeros((1,1,1,1))"
   ]
  },
  {
   "cell_type": "code",
   "execution_count": 79,
   "metadata": {},
   "outputs": [],
   "source": [
    "#t2Tensor.array[0,0,0,0] = -0.275333314977893\n",
    "t2Tensor.array[0,0,0,0] = -0.13766666"
   ]
  },
  {
   "cell_type": "code",
   "execution_count": 82,
   "metadata": {},
   "outputs": [
    {
     "name": "stdout",
     "output_type": "stream",
     "text": [
      "0.5 * v_{h_{0}h_{1}}^{p_{0}p_{1}}{t_{2}}_{p_{1}p_{0}}^{h_{1}h_{0}}\n",
      " + -0.25 * v_{h_{0}h_{1}}^{p_{0}p_{1}}{t_{2}}_{p_{0}p_{1}}^{h_{1}h_{0}}\n",
      " + -0.25 * v_{h_{0}h_{1}}^{p_{0}p_{1}}{t_{2}}_{p_{1}p_{0}}^{h_{0}h_{1}}\n",
      " + 0.5 * v_{h_{0}h_{1}}^{p_{0}p_{1}}{t_{2}}_{p_{0}p_{1}}^{h_{0}h_{1}}\n"
     ]
    }
   ],
   "source": [
    "print(GeneralisedWick.evaluateWick(HamiltonianTensor * 0.25 * t2Tensor, spinFree=True))"
   ]
  },
  {
   "cell_type": "code",
   "execution_count": 81,
   "metadata": {},
   "outputs": [
    {
     "data": {
      "text/plain": [
       "-0.01290776239372985"
      ]
     },
     "execution_count": 81,
     "metadata": {},
     "output_type": "execute_result"
    }
   ],
   "source": [
    "GeneralisedWick.contractTensorSum(GeneralisedWick.evaluateWick(HamiltonianTensor * 0.25 * t2Tensor, spinFree=True))"
   ]
  },
  {
   "cell_type": "code",
   "execution_count": 83,
   "metadata": {},
   "outputs": [
    {
     "data": {
      "text/plain": [
       "-0.01290776239372985"
      ]
     },
     "execution_count": 83,
     "metadata": {},
     "output_type": "execute_result"
    }
   ],
   "source": [
    "GeneralisedWick.contractTensorSum(GeneralisedWick.evaluateWick(BCHSimilarityTransform(HamiltonianTensor, 0.25 * t2Tensor, 2), spinFree=True))"
   ]
  },
  {
   "cell_type": "code",
   "execution_count": 23,
   "metadata": {},
   "outputs": [],
   "source": [
    "projectionDoubles = projectionManifold(2)"
   ]
  },
  {
   "cell_type": "code",
   "execution_count": 24,
   "metadata": {},
   "outputs": [],
   "source": [
    "projectionDoubles.array = np.ones_like(t2Tensor.array)"
   ]
  },
  {
   "cell_type": "code",
   "execution_count": 84,
   "metadata": {},
   "outputs": [
    {
     "data": {
      "text/plain": [
       "0.3129146200075132"
      ]
     },
     "execution_count": 84,
     "metadata": {},
     "output_type": "execute_result"
    }
   ],
   "source": [
    "GeneralisedWick.contractTensorSum(GeneralisedWick.evaluateWick(projectionDoubles * BCHSimilarityTransform(HamiltonianTensor, 0.25 * t2Tensor, 2), spinFree=True, normalOrderedParts=False))"
   ]
  },
  {
   "cell_type": "code",
   "execution_count": 26,
   "metadata": {},
   "outputs": [],
   "source": [
    "ConstantAmplitude = GeneralisedWick.evaluateWick(projectionDoubles * 0.5 * sum(h2Diagrams), spinFree=True)\n",
    "LinearAmplitudeFock = GeneralisedWick.evaluateWick(projectionDoubles * sum(h1Diagrams) * 0.25 * t2Tensor, spinFree=True)\n",
    "LinearAmplitudeFluctuation = GeneralisedWick.evaluateWick(projectionDoubles * 0.5 * sum(h2Diagrams) * 0.25 * t2Tensor, spinFree=True)\n",
    "QuadraticAmplitude = GeneralisedWick.evaluateWick(projectionDoubles * 0.5 * sum(h2Diagrams) * 0.25 * t2Tensor * 0.25 * t2Tensor, spinFree=True)"
   ]
  },
  {
   "cell_type": "code",
   "execution_count": 86,
   "metadata": {},
   "outputs": [
    {
     "data": {
      "text/plain": [
       "-0.18064660891784273"
      ]
     },
     "execution_count": 86,
     "metadata": {},
     "output_type": "execute_result"
    }
   ],
   "source": [
    "GeneralisedWick.contractTensorSum(GeneralisedWick.evaluateWick(projectionDoubles * sum(h1Diagrams) * 0.25 * t2Tensor, spinFree=True) + (-1.) * GeneralisedWick.evaluateWick(projectionDoubles * 0.25 * t2Tensor * sum(h1Diagrams), spinFree=True))"
   ]
  },
  {
   "cell_type": "code",
   "execution_count": 88,
   "metadata": {},
   "outputs": [
    {
     "data": {
      "text/plain": [
       "0.12029423565675593"
      ]
     },
     "execution_count": 88,
     "metadata": {},
     "output_type": "execute_result"
    }
   ],
   "source": [
    "GeneralisedWick.contractTensorSum(GeneralisedWick.evaluateWick(projectionDoubles * 0.5 * sum(h2Diagrams) * 0.25 * t2Tensor, spinFree=True) + GeneralisedWick.evaluateWick(projectionDoubles * 0.25 * t2Tensor * 0.5 * sum(h2Diagrams), spinFree=True))"
   ]
  },
  {
   "cell_type": "code",
   "execution_count": 89,
   "metadata": {},
   "outputs": [
    {
     "data": {
      "text/plain": [
       "-0.0017769685368183939"
      ]
     },
     "execution_count": 89,
     "metadata": {},
     "output_type": "execute_result"
    }
   ],
   "source": [
    "0.5 * GeneralisedWick.contractTensorSum(GeneralisedWick.evaluateWick(projectionDoubles * 0.5 * sum(h2Diagrams) * 0.25 * t2Tensor * 0.25 * t2Tensor, spinFree=True)) - GeneralisedWick.contractTensorSum(GeneralisedWick.evaluateWick(projectionDoubles * 0.25 * t2Tensor * 0.5 * sum(h2Diagrams) * 0.25 * t2Tensor, spinFree=True)) + 0.5 * GeneralisedWick.contractTensorSum(GeneralisedWick.evaluateWick(projectionDoubles * 0.25 * t2Tensor * 0.25 * t2Tensor * 0.5 * sum(h2Diagrams), spinFree=True))"
   ]
  },
  {
   "cell_type": "code",
   "execution_count": 30,
   "metadata": {},
   "outputs": [
    {
     "data": {
      "text/plain": [
       "0.2614470913728871"
      ]
     },
     "execution_count": 30,
     "metadata": {},
     "output_type": "execute_result"
    }
   ],
   "source": [
    "GeneralisedWick.contractTensorSum(ConstantAmplitude) + GeneralisedWick.contractTensorSum(LinearAmplitudeFock) + GeneralisedWick.contractTensorSum(LinearAmplitudeFluctuation) + GeneralisedWick.contractTensorSum(QuadraticAmplitude) + GeneralisedWick.contractTensorSum(GeneralisedWick.evaluateWick(HamiltonianTensor * 0.25 * t2Tensor, spinFree=True)) * t2Tensor.array[0,0,0,0]"
   ]
  },
  {
   "cell_type": "code",
   "execution_count": 31,
   "metadata": {},
   "outputs": [
    {
     "data": {
      "text/plain": [
       "-0.025815524316581975"
      ]
     },
     "execution_count": 31,
     "metadata": {},
     "output_type": "execute_result"
    }
   ],
   "source": [
    "GeneralisedWick.contractTensorSum(GeneralisedWick.evaluateWick(HamiltonianTensor * 0.25 * t2Tensor, spinFree=True))# * t2Tensor.array[0,0,0,0]"
   ]
  },
  {
   "cell_type": "code",
   "execution_count": 32,
   "metadata": {},
   "outputs": [
    {
     "data": {
      "text/plain": [
       "-8.673617379884035e-19"
      ]
     },
     "execution_count": 32,
     "metadata": {},
     "output_type": "execute_result"
    }
   ],
   "source": [
    "GeneralisedWick.contractTensorSum(QuadraticAmplitude)"
   ]
  },
  {
   "cell_type": "code",
   "execution_count": 33,
   "metadata": {},
   "outputs": [
    {
     "name": "stdout",
     "output_type": "stream",
     "text": [
      "2.0 * \\Phi_{h_{0}h_{1}}^{p_{0}p_{1}}v_{p_{1}p_{0}}^{h_{1}h_{0}}\n",
      " + -1.0 * \\Phi_{h_{0}h_{1}}^{p_{0}p_{1}}v_{p_{0}p_{1}}^{h_{1}h_{0}}\n",
      " + -1.0 * \\Phi_{h_{0}h_{1}}^{p_{0}p_{1}}v_{p_{1}p_{0}}^{h_{0}h_{1}}\n",
      " + 2.0 * \\Phi_{h_{0}h_{1}}^{p_{0}p_{1}}v_{p_{0}p_{1}}^{h_{0}h_{1}}\n"
     ]
    }
   ],
   "source": [
    "print(ConstantAmplitude)"
   ]
  },
  {
   "cell_type": "code",
   "execution_count": 34,
   "metadata": {},
   "outputs": [
    {
     "data": {
      "text/plain": [
       "0.3750439618054172"
      ]
     },
     "execution_count": 34,
     "metadata": {},
     "output_type": "execute_result"
    }
   ],
   "source": [
    "GeneralisedWick.contractTensorSum(ConstantAmplitude)"
   ]
  },
  {
   "cell_type": "code",
   "execution_count": 35,
   "metadata": {},
   "outputs": [
    {
     "name": "stdout",
     "output_type": "stream",
     "text": [
      "0.5 * \\Phi_{h_{0}h_{1}}^{p_{0}p_{1}}f_{h_{2}}^{h_{0}}{t_{2}}_{p_{1}p_{0}}^{h_{2}h_{1}}\n",
      " + -1.0 * \\Phi_{h_{0}h_{1}}^{p_{0}p_{1}}f_{h_{2}}^{h_{0}}{t_{2}}_{p_{0}p_{1}}^{h_{2}h_{1}}\n",
      " + -1.0 * \\Phi_{h_{0}h_{1}}^{p_{0}p_{1}}f_{h_{2}}^{h_{0}}{t_{2}}_{p_{1}p_{0}}^{h_{1}h_{2}}\n",
      " + 0.5 * \\Phi_{h_{0}h_{1}}^{p_{0}p_{1}}f_{h_{2}}^{h_{0}}{t_{2}}_{p_{0}p_{1}}^{h_{1}h_{2}}\n",
      " + -1.0 * \\Phi_{h_{0}h_{1}}^{p_{0}p_{1}}f_{h_{2}}^{h_{1}}{t_{2}}_{p_{1}p_{0}}^{h_{2}h_{0}}\n",
      " + 0.5 * \\Phi_{h_{0}h_{1}}^{p_{0}p_{1}}f_{h_{2}}^{h_{1}}{t_{2}}_{p_{0}p_{1}}^{h_{2}h_{0}}\n",
      " + 0.5 * \\Phi_{h_{0}h_{1}}^{p_{0}p_{1}}f_{h_{2}}^{h_{1}}{t_{2}}_{p_{1}p_{0}}^{h_{0}h_{2}}\n",
      " + -1.0 * \\Phi_{h_{0}h_{1}}^{p_{0}p_{1}}f_{h_{2}}^{h_{1}}{t_{2}}_{p_{0}p_{1}}^{h_{0}h_{2}}\n",
      " + -0.5 * \\Phi_{h_{0}h_{1}}^{p_{0}p_{1}}f_{p_{1}}^{p_{3}}{t_{2}}_{p_{0}p_{3}}^{h_{1}h_{0}}\n",
      " + 1.0 * \\Phi_{h_{0}h_{1}}^{p_{0}p_{1}}f_{p_{1}}^{p_{3}}{t_{2}}_{p_{3}p_{0}}^{h_{1}h_{0}}\n",
      " + 1.0 * \\Phi_{h_{0}h_{1}}^{p_{0}p_{1}}f_{p_{0}}^{p_{3}}{t_{2}}_{p_{1}p_{3}}^{h_{1}h_{0}}\n",
      " + -0.5 * \\Phi_{h_{0}h_{1}}^{p_{0}p_{1}}f_{p_{0}}^{p_{3}}{t_{2}}_{p_{3}p_{1}}^{h_{1}h_{0}}\n",
      " + 1.0 * \\Phi_{h_{0}h_{1}}^{p_{0}p_{1}}f_{p_{1}}^{p_{3}}{t_{2}}_{p_{0}p_{3}}^{h_{0}h_{1}}\n",
      " + -0.5 * \\Phi_{h_{0}h_{1}}^{p_{0}p_{1}}f_{p_{1}}^{p_{3}}{t_{2}}_{p_{3}p_{0}}^{h_{0}h_{1}}\n",
      " + -0.5 * \\Phi_{h_{0}h_{1}}^{p_{0}p_{1}}f_{p_{0}}^{p_{3}}{t_{2}}_{p_{1}p_{3}}^{h_{0}h_{1}}\n",
      " + 1.0 * \\Phi_{h_{0}h_{1}}^{p_{0}p_{1}}f_{p_{0}}^{p_{3}}{t_{2}}_{p_{3}p_{1}}^{h_{0}h_{1}}\n"
     ]
    }
   ],
   "source": [
    "print(LinearAmplitudeFock)"
   ]
  },
  {
   "cell_type": "code",
   "execution_count": 36,
   "metadata": {},
   "outputs": [
    {
     "data": {
      "text/plain": [
       "-0.3612932112456614"
      ]
     },
     "execution_count": 36,
     "metadata": {},
     "output_type": "execute_result"
    }
   ],
   "source": [
    "GeneralisedWick.contractTensorSum(LinearAmplitudeFock)"
   ]
  },
  {
   "cell_type": "code",
   "execution_count": 37,
   "metadata": {},
   "outputs": [
    {
     "name": "stdout",
     "output_type": "stream",
     "text": [
      "-0.25 * \\Phi_{h_{0}h_{1}}^{p_{0}p_{1}}v_{h_{2}h_{3}}^{h_{1}h_{0}}{t_{2}}_{p_{1}p_{0}}^{h_{3}h_{2}}\n",
      " + 0.5 * \\Phi_{h_{0}h_{1}}^{p_{0}p_{1}}v_{h_{2}h_{3}}^{h_{1}h_{0}}{t_{2}}_{p_{1}p_{0}}^{h_{2}h_{3}}\n",
      " + 0.5 * \\Phi_{h_{0}h_{1}}^{p_{0}p_{1}}v_{h_{2}h_{3}}^{h_{1}h_{0}}{t_{2}}_{p_{0}p_{1}}^{h_{3}h_{2}}\n",
      " + -0.25 * \\Phi_{h_{0}h_{1}}^{p_{0}p_{1}}v_{h_{2}h_{3}}^{h_{1}h_{0}}{t_{2}}_{p_{0}p_{1}}^{h_{2}h_{3}}\n",
      " + 0.5 * \\Phi_{h_{0}h_{1}}^{p_{0}p_{1}}v_{h_{2}h_{3}}^{h_{0}h_{1}}{t_{2}}_{p_{1}p_{0}}^{h_{3}h_{2}}\n",
      " + -0.25 * \\Phi_{h_{0}h_{1}}^{p_{0}p_{1}}v_{h_{2}h_{3}}^{h_{0}h_{1}}{t_{2}}_{p_{1}p_{0}}^{h_{2}h_{3}}\n",
      " + -0.25 * \\Phi_{h_{0}h_{1}}^{p_{0}p_{1}}v_{h_{2}h_{3}}^{h_{0}h_{1}}{t_{2}}_{p_{0}p_{1}}^{h_{3}h_{2}}\n",
      " + 0.5 * \\Phi_{h_{0}h_{1}}^{p_{0}p_{1}}v_{h_{2}h_{3}}^{h_{0}h_{1}}{t_{2}}_{p_{0}p_{1}}^{h_{2}h_{3}}\n",
      " + -0.5 * \\Phi_{h_{0}h_{1}}^{p_{0}p_{1}}v_{h_{2}p_{1}}^{h_{0}p_{3}}{t_{2}}_{p_{0}p_{3}}^{h_{2}h_{1}}\n",
      " + 0.25 * \\Phi_{h_{0}h_{1}}^{p_{0}p_{1}}v_{h_{2}p_{1}}^{h_{0}p_{3}}{t_{2}}_{p_{3}p_{0}}^{h_{2}h_{1}}\n",
      " + 0.25 * \\Phi_{h_{0}h_{1}}^{p_{0}p_{1}}v_{h_{2}p_{0}}^{h_{0}p_{3}}{t_{2}}_{p_{1}p_{3}}^{h_{2}h_{1}}\n",
      " + -0.5 * \\Phi_{h_{0}h_{1}}^{p_{0}p_{1}}v_{h_{2}p_{0}}^{h_{0}p_{3}}{t_{2}}_{p_{3}p_{1}}^{h_{2}h_{1}}\n",
      " + 0.25 * \\Phi_{h_{0}h_{1}}^{p_{0}p_{1}}v_{h_{2}p_{1}}^{h_{0}p_{3}}{t_{2}}_{p_{0}p_{3}}^{h_{1}h_{2}}\n",
      " + -0.5 * \\Phi_{h_{0}h_{1}}^{p_{0}p_{1}}v_{h_{2}p_{1}}^{h_{0}p_{3}}{t_{2}}_{p_{3}p_{0}}^{h_{1}h_{2}}\n",
      " + -0.5 * \\Phi_{h_{0}h_{1}}^{p_{0}p_{1}}v_{h_{2}p_{0}}^{h_{0}p_{3}}{t_{2}}_{p_{1}p_{3}}^{h_{1}h_{2}}\n",
      " + 0.25 * \\Phi_{h_{0}h_{1}}^{p_{0}p_{1}}v_{h_{2}p_{0}}^{h_{0}p_{3}}{t_{2}}_{p_{3}p_{1}}^{h_{1}h_{2}}\n",
      " + 0.25 * \\Phi_{h_{0}h_{1}}^{p_{0}p_{1}}v_{h_{2}p_{1}}^{h_{1}p_{3}}{t_{2}}_{p_{0}p_{3}}^{h_{2}h_{0}}\n",
      " + -0.5 * \\Phi_{h_{0}h_{1}}^{p_{0}p_{1}}v_{h_{2}p_{1}}^{h_{1}p_{3}}{t_{2}}_{p_{3}p_{0}}^{h_{2}h_{0}}\n",
      " + -0.5 * \\Phi_{h_{0}h_{1}}^{p_{0}p_{1}}v_{h_{2}p_{0}}^{h_{1}p_{3}}{t_{2}}_{p_{1}p_{3}}^{h_{2}h_{0}}\n",
      " + 0.25 * \\Phi_{h_{0}h_{1}}^{p_{0}p_{1}}v_{h_{2}p_{0}}^{h_{1}p_{3}}{t_{2}}_{p_{3}p_{1}}^{h_{2}h_{0}}\n",
      " + -0.5 * \\Phi_{h_{0}h_{1}}^{p_{0}p_{1}}v_{h_{2}p_{1}}^{h_{1}p_{3}}{t_{2}}_{p_{0}p_{3}}^{h_{0}h_{2}}\n",
      " + 0.25 * \\Phi_{h_{0}h_{1}}^{p_{0}p_{1}}v_{h_{2}p_{1}}^{h_{1}p_{3}}{t_{2}}_{p_{3}p_{0}}^{h_{0}h_{2}}\n",
      " + 0.25 * \\Phi_{h_{0}h_{1}}^{p_{0}p_{1}}v_{h_{2}p_{0}}^{h_{1}p_{3}}{t_{2}}_{p_{1}p_{3}}^{h_{0}h_{2}}\n",
      " + -0.5 * \\Phi_{h_{0}h_{1}}^{p_{0}p_{1}}v_{h_{2}p_{0}}^{h_{1}p_{3}}{t_{2}}_{p_{3}p_{1}}^{h_{0}h_{2}}\n",
      " + 0.25 * \\Phi_{h_{0}h_{1}}^{p_{0}p_{1}}v_{h_{2}p_{1}}^{p_{3}h_{0}}{t_{2}}_{p_{0}p_{3}}^{h_{2}h_{1}}\n",
      " + -0.5 * \\Phi_{h_{0}h_{1}}^{p_{0}p_{1}}v_{h_{2}p_{1}}^{p_{3}h_{0}}{t_{2}}_{p_{3}p_{0}}^{h_{2}h_{1}}\n",
      " + -0.5 * \\Phi_{h_{0}h_{1}}^{p_{0}p_{1}}v_{h_{2}p_{0}}^{p_{3}h_{0}}{t_{2}}_{p_{1}p_{3}}^{h_{2}h_{1}}\n",
      " + 1.0 * \\Phi_{h_{0}h_{1}}^{p_{0}p_{1}}v_{h_{2}p_{0}}^{p_{3}h_{0}}{t_{2}}_{p_{3}p_{1}}^{h_{2}h_{1}}\n",
      " + -0.5 * \\Phi_{h_{0}h_{1}}^{p_{0}p_{1}}v_{h_{2}p_{1}}^{p_{3}h_{0}}{t_{2}}_{p_{0}p_{3}}^{h_{1}h_{2}}\n",
      " + 0.25 * \\Phi_{h_{0}h_{1}}^{p_{0}p_{1}}v_{h_{2}p_{1}}^{p_{3}h_{0}}{t_{2}}_{p_{3}p_{0}}^{h_{1}h_{2}}\n",
      " + 1.0 * \\Phi_{h_{0}h_{1}}^{p_{0}p_{1}}v_{h_{2}p_{0}}^{p_{3}h_{0}}{t_{2}}_{p_{1}p_{3}}^{h_{1}h_{2}}\n",
      " + -0.5 * \\Phi_{h_{0}h_{1}}^{p_{0}p_{1}}v_{h_{2}p_{0}}^{p_{3}h_{0}}{t_{2}}_{p_{3}p_{1}}^{h_{1}h_{2}}\n",
      " + -0.5 * \\Phi_{h_{0}h_{1}}^{p_{0}p_{1}}v_{h_{2}p_{1}}^{p_{3}h_{1}}{t_{2}}_{p_{0}p_{3}}^{h_{2}h_{0}}\n",
      " + 1.0 * \\Phi_{h_{0}h_{1}}^{p_{0}p_{1}}v_{h_{2}p_{1}}^{p_{3}h_{1}}{t_{2}}_{p_{3}p_{0}}^{h_{2}h_{0}}\n",
      " + 0.25 * \\Phi_{h_{0}h_{1}}^{p_{0}p_{1}}v_{h_{2}p_{0}}^{p_{3}h_{1}}{t_{2}}_{p_{1}p_{3}}^{h_{2}h_{0}}\n",
      " + -0.5 * \\Phi_{h_{0}h_{1}}^{p_{0}p_{1}}v_{h_{2}p_{0}}^{p_{3}h_{1}}{t_{2}}_{p_{3}p_{1}}^{h_{2}h_{0}}\n",
      " + 1.0 * \\Phi_{h_{0}h_{1}}^{p_{0}p_{1}}v_{h_{2}p_{1}}^{p_{3}h_{1}}{t_{2}}_{p_{0}p_{3}}^{h_{0}h_{2}}\n",
      " + -0.5 * \\Phi_{h_{0}h_{1}}^{p_{0}p_{1}}v_{h_{2}p_{1}}^{p_{3}h_{1}}{t_{2}}_{p_{3}p_{0}}^{h_{0}h_{2}}\n",
      " + -0.5 * \\Phi_{h_{0}h_{1}}^{p_{0}p_{1}}v_{h_{2}p_{0}}^{p_{3}h_{1}}{t_{2}}_{p_{1}p_{3}}^{h_{0}h_{2}}\n",
      " + 0.25 * \\Phi_{h_{0}h_{1}}^{p_{0}p_{1}}v_{h_{2}p_{0}}^{p_{3}h_{1}}{t_{2}}_{p_{3}p_{1}}^{h_{0}h_{2}}\n",
      " + 0.25 * \\Phi_{h_{0}h_{1}}^{p_{0}p_{1}}v_{p_{1}h_{2}}^{h_{0}p_{3}}{t_{2}}_{p_{0}p_{3}}^{h_{2}h_{1}}\n",
      " + -0.5 * \\Phi_{h_{0}h_{1}}^{p_{0}p_{1}}v_{p_{1}h_{2}}^{h_{0}p_{3}}{t_{2}}_{p_{3}p_{0}}^{h_{2}h_{1}}\n",
      " + -0.5 * \\Phi_{h_{0}h_{1}}^{p_{0}p_{1}}v_{p_{0}h_{2}}^{h_{0}p_{3}}{t_{2}}_{p_{1}p_{3}}^{h_{2}h_{1}}\n",
      " + 1.0 * \\Phi_{h_{0}h_{1}}^{p_{0}p_{1}}v_{p_{0}h_{2}}^{h_{0}p_{3}}{t_{2}}_{p_{3}p_{1}}^{h_{2}h_{1}}\n",
      " + -0.5 * \\Phi_{h_{0}h_{1}}^{p_{0}p_{1}}v_{p_{1}h_{2}}^{h_{0}p_{3}}{t_{2}}_{p_{0}p_{3}}^{h_{1}h_{2}}\n",
      " + 0.25 * \\Phi_{h_{0}h_{1}}^{p_{0}p_{1}}v_{p_{1}h_{2}}^{h_{0}p_{3}}{t_{2}}_{p_{3}p_{0}}^{h_{1}h_{2}}\n",
      " + 1.0 * \\Phi_{h_{0}h_{1}}^{p_{0}p_{1}}v_{p_{0}h_{2}}^{h_{0}p_{3}}{t_{2}}_{p_{1}p_{3}}^{h_{1}h_{2}}\n",
      " + -0.5 * \\Phi_{h_{0}h_{1}}^{p_{0}p_{1}}v_{p_{0}h_{2}}^{h_{0}p_{3}}{t_{2}}_{p_{3}p_{1}}^{h_{1}h_{2}}\n",
      " + -0.5 * \\Phi_{h_{0}h_{1}}^{p_{0}p_{1}}v_{p_{1}h_{2}}^{h_{1}p_{3}}{t_{2}}_{p_{0}p_{3}}^{h_{2}h_{0}}\n",
      " + 1.0 * \\Phi_{h_{0}h_{1}}^{p_{0}p_{1}}v_{p_{1}h_{2}}^{h_{1}p_{3}}{t_{2}}_{p_{3}p_{0}}^{h_{2}h_{0}}\n",
      " + 0.25 * \\Phi_{h_{0}h_{1}}^{p_{0}p_{1}}v_{p_{0}h_{2}}^{h_{1}p_{3}}{t_{2}}_{p_{1}p_{3}}^{h_{2}h_{0}}\n",
      " + -0.5 * \\Phi_{h_{0}h_{1}}^{p_{0}p_{1}}v_{p_{0}h_{2}}^{h_{1}p_{3}}{t_{2}}_{p_{3}p_{1}}^{h_{2}h_{0}}\n",
      " + 1.0 * \\Phi_{h_{0}h_{1}}^{p_{0}p_{1}}v_{p_{1}h_{2}}^{h_{1}p_{3}}{t_{2}}_{p_{0}p_{3}}^{h_{0}h_{2}}\n",
      " + -0.5 * \\Phi_{h_{0}h_{1}}^{p_{0}p_{1}}v_{p_{1}h_{2}}^{h_{1}p_{3}}{t_{2}}_{p_{3}p_{0}}^{h_{0}h_{2}}\n",
      " + -0.5 * \\Phi_{h_{0}h_{1}}^{p_{0}p_{1}}v_{p_{0}h_{2}}^{h_{1}p_{3}}{t_{2}}_{p_{1}p_{3}}^{h_{0}h_{2}}\n",
      " + 0.25 * \\Phi_{h_{0}h_{1}}^{p_{0}p_{1}}v_{p_{0}h_{2}}^{h_{1}p_{3}}{t_{2}}_{p_{3}p_{1}}^{h_{0}h_{2}}\n",
      " + -0.5 * \\Phi_{h_{0}h_{1}}^{p_{0}p_{1}}v_{p_{1}h_{2}}^{p_{3}h_{0}}{t_{2}}_{p_{0}p_{3}}^{h_{2}h_{1}}\n",
      " + 0.25 * \\Phi_{h_{0}h_{1}}^{p_{0}p_{1}}v_{p_{1}h_{2}}^{p_{3}h_{0}}{t_{2}}_{p_{3}p_{0}}^{h_{2}h_{1}}\n",
      " + 0.25 * \\Phi_{h_{0}h_{1}}^{p_{0}p_{1}}v_{p_{0}h_{2}}^{p_{3}h_{0}}{t_{2}}_{p_{1}p_{3}}^{h_{2}h_{1}}\n",
      " + -0.5 * \\Phi_{h_{0}h_{1}}^{p_{0}p_{1}}v_{p_{0}h_{2}}^{p_{3}h_{0}}{t_{2}}_{p_{3}p_{1}}^{h_{2}h_{1}}\n",
      " + 0.25 * \\Phi_{h_{0}h_{1}}^{p_{0}p_{1}}v_{p_{1}h_{2}}^{p_{3}h_{0}}{t_{2}}_{p_{0}p_{3}}^{h_{1}h_{2}}\n",
      " + -0.5 * \\Phi_{h_{0}h_{1}}^{p_{0}p_{1}}v_{p_{1}h_{2}}^{p_{3}h_{0}}{t_{2}}_{p_{3}p_{0}}^{h_{1}h_{2}}\n",
      " + -0.5 * \\Phi_{h_{0}h_{1}}^{p_{0}p_{1}}v_{p_{0}h_{2}}^{p_{3}h_{0}}{t_{2}}_{p_{1}p_{3}}^{h_{1}h_{2}}\n",
      " + 0.25 * \\Phi_{h_{0}h_{1}}^{p_{0}p_{1}}v_{p_{0}h_{2}}^{p_{3}h_{0}}{t_{2}}_{p_{3}p_{1}}^{h_{1}h_{2}}\n",
      " + 0.25 * \\Phi_{h_{0}h_{1}}^{p_{0}p_{1}}v_{p_{1}h_{2}}^{p_{3}h_{1}}{t_{2}}_{p_{0}p_{3}}^{h_{2}h_{0}}\n",
      " + -0.5 * \\Phi_{h_{0}h_{1}}^{p_{0}p_{1}}v_{p_{1}h_{2}}^{p_{3}h_{1}}{t_{2}}_{p_{3}p_{0}}^{h_{2}h_{0}}\n",
      " + -0.5 * \\Phi_{h_{0}h_{1}}^{p_{0}p_{1}}v_{p_{0}h_{2}}^{p_{3}h_{1}}{t_{2}}_{p_{1}p_{3}}^{h_{2}h_{0}}\n",
      " + 0.25 * \\Phi_{h_{0}h_{1}}^{p_{0}p_{1}}v_{p_{0}h_{2}}^{p_{3}h_{1}}{t_{2}}_{p_{3}p_{1}}^{h_{2}h_{0}}\n",
      " + -0.5 * \\Phi_{h_{0}h_{1}}^{p_{0}p_{1}}v_{p_{1}h_{2}}^{p_{3}h_{1}}{t_{2}}_{p_{0}p_{3}}^{h_{0}h_{2}}\n",
      " + 0.25 * \\Phi_{h_{0}h_{1}}^{p_{0}p_{1}}v_{p_{1}h_{2}}^{p_{3}h_{1}}{t_{2}}_{p_{3}p_{0}}^{h_{0}h_{2}}\n",
      " + 0.25 * \\Phi_{h_{0}h_{1}}^{p_{0}p_{1}}v_{p_{0}h_{2}}^{p_{3}h_{1}}{t_{2}}_{p_{1}p_{3}}^{h_{0}h_{2}}\n",
      " + -0.5 * \\Phi_{h_{0}h_{1}}^{p_{0}p_{1}}v_{p_{0}h_{2}}^{p_{3}h_{1}}{t_{2}}_{p_{3}p_{1}}^{h_{0}h_{2}}\n",
      " + -0.25 * \\Phi_{h_{0}h_{1}}^{p_{0}p_{1}}v_{p_{1}p_{0}}^{p_{4}p_{5}}{t_{2}}_{p_{5}p_{4}}^{h_{1}h_{0}}\n",
      " + 0.5 * \\Phi_{h_{0}h_{1}}^{p_{0}p_{1}}v_{p_{1}p_{0}}^{p_{4}p_{5}}{t_{2}}_{p_{4}p_{5}}^{h_{1}h_{0}}\n",
      " + 0.5 * \\Phi_{h_{0}h_{1}}^{p_{0}p_{1}}v_{p_{0}p_{1}}^{p_{4}p_{5}}{t_{2}}_{p_{5}p_{4}}^{h_{1}h_{0}}\n",
      " + -0.25 * \\Phi_{h_{0}h_{1}}^{p_{0}p_{1}}v_{p_{0}p_{1}}^{p_{4}p_{5}}{t_{2}}_{p_{4}p_{5}}^{h_{1}h_{0}}\n",
      " + 0.5 * \\Phi_{h_{0}h_{1}}^{p_{0}p_{1}}v_{p_{1}p_{0}}^{p_{4}p_{5}}{t_{2}}_{p_{5}p_{4}}^{h_{0}h_{1}}\n",
      " + -0.25 * \\Phi_{h_{0}h_{1}}^{p_{0}p_{1}}v_{p_{1}p_{0}}^{p_{4}p_{5}}{t_{2}}_{p_{4}p_{5}}^{h_{0}h_{1}}\n",
      " + -0.25 * \\Phi_{h_{0}h_{1}}^{p_{0}p_{1}}v_{p_{0}p_{1}}^{p_{4}p_{5}}{t_{2}}_{p_{5}p_{4}}^{h_{0}h_{1}}\n",
      " + 0.5 * \\Phi_{h_{0}h_{1}}^{p_{0}p_{1}}v_{p_{0}p_{1}}^{p_{4}p_{5}}{t_{2}}_{p_{4}p_{5}}^{h_{0}h_{1}}\n"
     ]
    }
   ],
   "source": [
    "print(LinearAmplitudeFluctuation)"
   ]
  },
  {
   "cell_type": "code",
   "execution_count": 38,
   "metadata": {},
   "outputs": [
    {
     "data": {
      "text/plain": [
       "0.24058846692515437"
      ]
     },
     "execution_count": 38,
     "metadata": {},
     "output_type": "execute_result"
    }
   ],
   "source": [
    "GeneralisedWick.contractTensorSum(LinearAmplitudeFluctuation)"
   ]
  },
  {
   "cell_type": "code",
   "execution_count": 39,
   "metadata": {},
   "outputs": [
    {
     "name": "stdout",
     "output_type": "stream",
     "text": [
      "-1.0 * a_{h_{1}\\beta}a^{h_{0}\\beta}\n",
      " + -1.0 * a_{h_{1}\\alpha}a^{h_{0}\\alpha}\n",
      " + 1.0 * a^{h_{0}\\beta}a_{p_{0}\\beta}\n",
      " + 1.0 * a^{h_{0}\\alpha}a_{p_{0}\\alpha}\n",
      " + 1.0 * a^{p_{0}\\beta}a_{h_{0}\\beta}\n",
      " + 1.0 * a^{p_{0}\\alpha}a_{h_{0}\\alpha}\n",
      " + 1.0 * a^{p_{0}\\beta}a_{p_{1}\\beta}\n",
      " + 1.0 * a^{p_{0}\\alpha}a_{p_{1}\\alpha}\n",
      " + 1.0 * a_{h_{3}\\beta}a_{h_{2}\\beta}a^{h_{0}\\beta}a^{h_{1}\\beta}\n",
      " + 1.0 * a_{h_{3}\\beta}a_{h_{2}\\alpha}a^{h_{0}\\alpha}a^{h_{1}\\beta}\n",
      " + 1.0 * a_{h_{3}\\alpha}a_{h_{2}\\beta}a^{h_{0}\\beta}a^{h_{1}\\alpha}\n",
      " + 1.0 * a_{h_{3}\\alpha}a_{h_{2}\\alpha}a^{h_{0}\\alpha}a^{h_{1}\\alpha}\n",
      " + 0.0 * a_{h_{2}\\beta}a^{h_{0}\\beta}a^{h_{1}\\beta}a_{p_{0}\\beta}\n",
      " + -1.0 * a_{h_{2}\\alpha}a^{h_{0}\\alpha}a^{h_{1}\\beta}a_{p_{0}\\beta}\n",
      " + -1.0 * a_{h_{2}\\beta}a^{h_{0}\\beta}a^{h_{1}\\alpha}a_{p_{0}\\alpha}\n",
      " + 0.0 * a_{h_{2}\\alpha}a^{h_{0}\\alpha}a^{h_{1}\\alpha}a_{p_{0}\\alpha}\n",
      " + 1.0 * a_{h_{2}\\beta}a^{h_{0}\\alpha}a^{h_{1}\\beta}a_{p_{0}\\alpha}\n",
      " + 1.0 * a_{h_{2}\\alpha}a^{h_{0}\\beta}a^{h_{1}\\alpha}a_{p_{0}\\beta}\n",
      " + 1.0 * a^{h_{0}\\beta}a^{h_{1}\\beta}a_{p_{1}\\beta}a_{p_{0}\\beta}\n",
      " + 1.0 * a^{h_{0}\\alpha}a^{h_{1}\\beta}a_{p_{1}\\beta}a_{p_{0}\\alpha}\n",
      " + 1.0 * a^{h_{0}\\beta}a^{h_{1}\\alpha}a_{p_{1}\\alpha}a_{p_{0}\\beta}\n",
      " + 1.0 * a^{h_{0}\\alpha}a^{h_{1}\\alpha}a_{p_{1}\\alpha}a_{p_{0}\\alpha}\n",
      " + 0.0 * a^{p_{0}\\beta}a_{h_{2}\\beta}a_{h_{1}\\beta}a^{h_{0}\\beta}\n",
      " + -1.0 * a^{p_{0}\\beta}a_{h_{2}\\beta}a_{h_{1}\\alpha}a^{h_{0}\\alpha}\n",
      " + -1.0 * a^{p_{0}\\alpha}a_{h_{2}\\alpha}a_{h_{1}\\beta}a^{h_{0}\\beta}\n",
      " + 0.0 * a^{p_{0}\\alpha}a_{h_{2}\\alpha}a_{h_{1}\\alpha}a^{h_{0}\\alpha}\n",
      " + 0.0 * a^{p_{0}\\beta}a_{h_{1}\\beta}a^{h_{0}\\beta}a_{p_{1}\\beta}\n",
      " + -2.0 * a^{p_{0}\\beta}a_{h_{1}\\alpha}a^{h_{0}\\alpha}a_{p_{1}\\beta}\n",
      " + -2.0 * a^{p_{0}\\alpha}a_{h_{1}\\beta}a^{h_{0}\\beta}a_{p_{1}\\alpha}\n",
      " + 0.0 * a^{p_{0}\\alpha}a_{h_{1}\\alpha}a^{h_{0}\\alpha}a_{p_{1}\\alpha}\n",
      " + 2.0 * a^{p_{0}\\beta}a_{h_{1}\\beta}a^{h_{0}\\alpha}a_{p_{1}\\alpha}\n",
      " + 2.0 * a^{p_{0}\\alpha}a_{h_{1}\\alpha}a^{h_{0}\\beta}a_{p_{1}\\beta}\n",
      " + 0.0 * a^{p_{0}\\beta}a^{h_{0}\\beta}a_{p_{2}\\beta}a_{p_{1}\\beta}\n",
      " + -1.0 * a^{p_{0}\\beta}a^{h_{0}\\alpha}a_{p_{2}\\beta}a_{p_{1}\\alpha}\n",
      " + -1.0 * a^{p_{0}\\alpha}a^{h_{0}\\beta}a_{p_{2}\\alpha}a_{p_{1}\\beta}\n",
      " + 0.0 * a^{p_{0}\\alpha}a^{h_{0}\\alpha}a_{p_{2}\\alpha}a_{p_{1}\\alpha}\n",
      " + 1.0 * a^{p_{0}\\alpha}a_{h_{2}\\beta}a_{h_{1}\\alpha}a^{h_{0}\\beta}\n",
      " + 1.0 * a^{p_{0}\\beta}a_{h_{2}\\alpha}a_{h_{1}\\beta}a^{h_{0}\\alpha}\n",
      " + 1.0 * a^{p_{0}\\alpha}a^{h_{0}\\beta}a_{p_{2}\\beta}a_{p_{1}\\alpha}\n",
      " + 1.0 * a^{p_{0}\\beta}a^{h_{0}\\alpha}a_{p_{2}\\alpha}a_{p_{1}\\beta}\n",
      " + 1.0 * a^{p_{0}\\beta}a^{p_{1}\\beta}a_{h_{1}\\beta}a_{h_{0}\\beta}\n",
      " + 1.0 * a^{p_{0}\\alpha}a^{p_{1}\\beta}a_{h_{1}\\beta}a_{h_{0}\\alpha}\n",
      " + 1.0 * a^{p_{0}\\beta}a^{p_{1}\\alpha}a_{h_{1}\\alpha}a_{h_{0}\\beta}\n",
      " + 1.0 * a^{p_{0}\\alpha}a^{p_{1}\\alpha}a_{h_{1}\\alpha}a_{h_{0}\\alpha}\n",
      " + 0.0 * a^{p_{0}\\beta}a^{p_{1}\\beta}a_{h_{0}\\beta}a_{p_{2}\\beta}\n",
      " + -1.0 * a^{p_{0}\\alpha}a^{p_{1}\\beta}a_{h_{0}\\alpha}a_{p_{2}\\beta}\n",
      " + -1.0 * a^{p_{0}\\beta}a^{p_{1}\\alpha}a_{h_{0}\\beta}a_{p_{2}\\alpha}\n",
      " + 0.0 * a^{p_{0}\\alpha}a^{p_{1}\\alpha}a_{h_{0}\\alpha}a_{p_{2}\\alpha}\n",
      " + 1.0 * a^{p_{0}\\alpha}a^{p_{1}\\beta}a_{h_{0}\\beta}a_{p_{2}\\alpha}\n",
      " + 1.0 * a^{p_{0}\\beta}a^{p_{1}\\alpha}a_{h_{0}\\alpha}a_{p_{2}\\beta}\n",
      " + 1.0 * a^{p_{0}\\beta}a^{p_{1}\\beta}a_{p_{3}\\beta}a_{p_{2}\\beta}\n",
      " + 1.0 * a^{p_{0}\\alpha}a^{p_{1}\\beta}a_{p_{3}\\beta}a_{p_{2}\\alpha}\n",
      " + 1.0 * a^{p_{0}\\beta}a^{p_{1}\\alpha}a_{p_{3}\\alpha}a_{p_{2}\\beta}\n",
      " + 1.0 * a^{p_{0}\\alpha}a^{p_{1}\\alpha}a_{p_{3}\\alpha}a_{p_{2}\\alpha}\n"
     ]
    }
   ],
   "source": [
    "print(HamiltonianTensor.getOperator(spinFree=True))"
   ]
  },
  {
   "cell_type": "code",
   "execution_count": 40,
   "metadata": {},
   "outputs": [
    {
     "data": {
      "text/plain": [
       "-0.0"
      ]
     },
     "execution_count": 40,
     "metadata": {},
     "output_type": "execute_result"
    }
   ],
   "source": [
    "-0.5 * GeneralisedWick.contractTensorSum(GeneralisedWick.evaluateWick(projectionDoubles * 0.25 * t2Tensor * 0.25 * t2Tensor * HamiltonianTensor * 0.25 * t2Tensor, spinFree=True))"
   ]
  },
  {
   "cell_type": "markdown",
   "metadata": {},
   "source": [
    "Old Code version"
   ]
  },
  {
   "cell_type": "code",
   "execution_count": 41,
   "metadata": {},
   "outputs": [],
   "source": [
    "def spinFreeSingleExcitation(p, q):\n",
    "    summandList = []\n",
    "    for spin in range(2):\n",
    "        summandList.append(Wick.operatorProduct([Wick.basicOperator(p,1,spin), Wick.basicOperator(q,0,spin)]))\n",
    "    return Wick.operatorSum(summandList)"
   ]
  },
  {
   "cell_type": "code",
   "execution_count": 42,
   "metadata": {},
   "outputs": [],
   "source": [
    "def spinFreeDoubleExcitation(p, q, r, s):\n",
    "    summandList = []\n",
    "    for spin1 in range(2):\n",
    "        for spin2 in range(2):\n",
    "            summandList.append(Wick.operatorProduct([Wick.basicOperator(p,1,spin2), Wick.basicOperator(q,1,spin1), Wick.basicOperator(s,0,spin1), Wick.basicOperator(r,0,spin2)]))\n",
    "    return Wick.operatorSum(summandList)"
   ]
  },
  {
   "cell_type": "code",
   "execution_count": 43,
   "metadata": {},
   "outputs": [],
   "source": [
    "h1Operator = Wick.operatorSum([])\n",
    "for p in range(Norbs):\n",
    "    for q in range(Norbs):\n",
    "        h1Operator = h1Operator + h1[p, q] * spinFreeSingleExcitation(p, q)"
   ]
  },
  {
   "cell_type": "code",
   "execution_count": 44,
   "metadata": {},
   "outputs": [
    {
     "name": "stdout",
     "output_type": "stream",
     "text": [
      "0 0 0 0\n",
      "0 0\n",
      "0 1 0 0\n",
      "0 1\n",
      "0 1 0 1\n",
      "0 2\n",
      "1 0 0 0\n",
      "1 0\n",
      "1 0 1 0\n",
      "2 0\n",
      "1 1 0 0\n",
      "1 1\n",
      "1 1 0 1\n",
      "1 2\n",
      "1 1 1 0\n",
      "2 1\n",
      "1 1 1 1\n",
      "2 2\n"
     ]
    }
   ],
   "source": [
    "h2Operator = Wick.operatorSum([])\n",
    "h2Array = np.zeros((Norbs,Norbs,Norbs,Norbs))\n",
    "for p in range(Norbs):\n",
    "    for q in range(Norbs):\n",
    "        for r in range(p + 1):\n",
    "            for s in range(q + 1):\n",
    "                x = int(p + Norbs * r - 0.5 * r * (r + 1))\n",
    "                y = int(q + Norbs * s - 0.5 * s * (s + 1))\n",
    "                print(p, q, r, s)\n",
    "                print(x, y)\n",
    "                if p == r and q == s:\n",
    "                    h2Operator = h2Operator + 0.5 * eri[x, y] * spinFreeDoubleExcitation(p, q, r, s)\n",
    "                    h2Array[p,q,r,s] += 0.5 * eri[x, y]\n",
    "                else:\n",
    "                    h2Operator = h2Operator + 0.5 * eri[x, y] * spinFreeDoubleExcitation(p, q, r, s) + 0.5 * np.conjugate(eri[x, y]) * spinFreeDoubleExcitation(r, s, p, q)\n",
    "                    h2Array[p,q,r,s] += 0.5 * eri[x, y]\n",
    "                    h2Array[r,s,p,q] += 0.5 * np.conjugate(eri[x, y])"
   ]
  },
  {
   "cell_type": "code",
   "execution_count": 45,
   "metadata": {},
   "outputs": [
    {
     "data": {
      "text/plain": [
       "array([[[[3.27004756e-01, 4.16333634e-17],\n",
       "         [5.20417043e-17, 9.37609905e-02]],\n",
       "\n",
       "        [[4.16333634e-17, 3.22624713e-01],\n",
       "         [0.00000000e+00, 2.77555756e-17]]],\n",
       "\n",
       "\n",
       "       [[[5.20417043e-17, 0.00000000e+00],\n",
       "         [3.22624713e-01, 6.93889390e-17]],\n",
       "\n",
       "        [[9.37609905e-02, 2.77555756e-17],\n",
       "         [6.93889390e-17, 3.39068092e-01]]]])"
      ]
     },
     "execution_count": 45,
     "metadata": {},
     "output_type": "execute_result"
    }
   ],
   "source": [
    "h2Array"
   ]
  },
  {
   "cell_type": "code",
   "execution_count": 46,
   "metadata": {},
   "outputs": [],
   "source": [
    "doublesAmplitudes = np.array([[[[-0.275333314977893]]]])\n",
    "clusterDoubles = Wick.operatorSum([])\n",
    "for a in range(Nocc):\n",
    "    for b in range(Nocc):\n",
    "        for k in range(Norbs - Nocc):\n",
    "            r = k + Nocc\n",
    "            for l in range(Norbs - Nocc):\n",
    "                s = l + Nocc\n",
    "                clusterDoubles = clusterDoubles + doublesAmplitudes[a,b,k,l] * spinFreeDoubleExcitation(r, s, a, b)\n",
    "clusterDoubles.checkNilpotency()"
   ]
  },
  {
   "cell_type": "code",
   "execution_count": 47,
   "metadata": {},
   "outputs": [],
   "source": [
    "projectionDoublesOperator = spinFreeDoubleExcitation(1,1,0,0).conjugate()"
   ]
  },
  {
   "cell_type": "code",
   "execution_count": 48,
   "metadata": {},
   "outputs": [
    {
     "name": "stdout",
     "output_type": "stream",
     "text": [
      "1.0 * a^{0\\alpha}a^{0\\alpha}a_{1\\alpha}a_{1\\alpha}\n",
      " + 1.0 * a^{0\\alpha}a^{0\\beta}a_{1\\beta}a_{1\\alpha}\n",
      " + 1.0 * a^{0\\beta}a^{0\\alpha}a_{1\\alpha}a_{1\\beta}\n",
      " + 1.0 * a^{0\\beta}a^{0\\beta}a_{1\\beta}a_{1\\beta}\n"
     ]
    }
   ],
   "source": [
    "print(projectionDoublesOperator)"
   ]
  },
  {
   "cell_type": "code",
   "execution_count": 49,
   "metadata": {},
   "outputs": [
    {
     "name": "stdout",
     "output_type": "stream",
     "text": [
      "0.09376099045135429 * a^{0\\alpha}a^{0\\beta}a_{1\\beta}a_{1\\alpha}a^{1\\alpha}a^{1\\beta}a_{0\\beta}a_{0\\alpha}\n",
      "0.09376099045135429 * a^{0\\alpha}a^{0\\beta}a_{1\\beta}a_{1\\alpha}a^{1\\beta}a^{1\\alpha}a_{0\\alpha}a_{0\\beta}\n",
      "0.09376099045135429 * a^{0\\beta}a^{0\\alpha}a_{1\\alpha}a_{1\\beta}a^{1\\alpha}a^{1\\beta}a_{0\\beta}a_{0\\alpha}\n",
      "0.09376099045135429 * a^{0\\beta}a^{0\\alpha}a_{1\\alpha}a_{1\\beta}a^{1\\beta}a^{1\\alpha}a_{0\\alpha}a_{0\\beta}\n"
     ]
    }
   ],
   "source": [
    "ConstantAmplitudeOld = Wick.vacuumExpectationValue(projectionDoublesOperator * h2Operator, vacuum, printing=True)"
   ]
  },
  {
   "cell_type": "code",
   "execution_count": 50,
   "metadata": {},
   "outputs": [
    {
     "name": "stdout",
     "output_type": "stream",
     "text": [
      "0.37504396180541716\n"
     ]
    }
   ],
   "source": [
    "print(ConstantAmplitudeOld)"
   ]
  },
  {
   "cell_type": "code",
   "execution_count": 51,
   "metadata": {},
   "outputs": [
    {
     "name": "stdout",
     "output_type": "stream",
     "text": [
      "0.03673972738168411 * a^{0\\alpha}a^{0\\beta}a_{1\\beta}a_{1\\alpha}a^{1\\alpha}a_{1\\alpha}a^{1\\alpha}a^{1\\beta}a_{0\\beta}a_{0\\alpha}\n",
      "0.03673972738168411 * a^{0\\alpha}a^{0\\beta}a_{1\\beta}a_{1\\alpha}a^{1\\alpha}a_{1\\alpha}a^{1\\beta}a^{1\\alpha}a_{0\\alpha}a_{0\\beta}\n",
      "0.03673972738168411 * a^{0\\alpha}a^{0\\beta}a_{1\\beta}a_{1\\alpha}a^{1\\beta}a_{1\\beta}a^{1\\alpha}a^{1\\beta}a_{0\\beta}a_{0\\alpha}\n",
      "0.03673972738168411 * a^{0\\alpha}a^{0\\beta}a_{1\\beta}a_{1\\alpha}a^{1\\beta}a_{1\\beta}a^{1\\beta}a^{1\\alpha}a_{0\\alpha}a_{0\\beta}\n",
      "0.03673972738168411 * a^{0\\beta}a^{0\\alpha}a_{1\\alpha}a_{1\\beta}a^{1\\alpha}a_{1\\alpha}a^{1\\alpha}a^{1\\beta}a_{0\\beta}a_{0\\alpha}\n",
      "0.03673972738168411 * a^{0\\beta}a^{0\\alpha}a_{1\\alpha}a_{1\\beta}a^{1\\alpha}a_{1\\alpha}a^{1\\beta}a^{1\\alpha}a_{0\\alpha}a_{0\\beta}\n",
      "0.03673972738168411 * a^{0\\beta}a^{0\\alpha}a_{1\\alpha}a_{1\\beta}a^{1\\beta}a_{1\\beta}a^{1\\alpha}a^{1\\beta}a_{0\\beta}a_{0\\alpha}\n",
      "0.03673972738168411 * a^{0\\beta}a^{0\\alpha}a_{1\\alpha}a_{1\\beta}a^{1\\beta}a_{1\\beta}a^{1\\beta}a^{1\\alpha}a_{0\\alpha}a_{0\\beta}\n",
      "0.08190137878739176 * a^{0\\alpha}a^{0\\beta}a_{1\\beta}a_{1\\alpha}a^{1\\alpha}a^{1\\beta}a_{0\\beta}a_{0\\alpha}a^{0\\alpha}a_{0\\alpha}\n",
      "0.08190137878739176 * a^{0\\alpha}a^{0\\beta}a_{1\\beta}a_{1\\alpha}a^{1\\alpha}a^{1\\beta}a_{0\\beta}a_{0\\alpha}a^{0\\beta}a_{0\\beta}\n",
      "0.08190137878739176 * a^{0\\alpha}a^{0\\beta}a_{1\\beta}a_{1\\alpha}a^{1\\beta}a^{1\\alpha}a_{0\\alpha}a_{0\\beta}a^{0\\alpha}a_{0\\alpha}\n",
      "0.08190137878739176 * a^{0\\alpha}a^{0\\beta}a_{1\\beta}a_{1\\alpha}a^{1\\beta}a^{1\\alpha}a_{0\\alpha}a_{0\\beta}a^{0\\beta}a_{0\\beta}\n",
      "0.08190137878739176 * a^{0\\beta}a^{0\\alpha}a_{1\\alpha}a_{1\\beta}a^{1\\alpha}a^{1\\beta}a_{0\\beta}a_{0\\alpha}a^{0\\alpha}a_{0\\alpha}\n",
      "0.08190137878739176 * a^{0\\beta}a^{0\\alpha}a_{1\\alpha}a_{1\\beta}a^{1\\alpha}a^{1\\beta}a_{0\\beta}a_{0\\alpha}a^{0\\beta}a_{0\\beta}\n",
      "0.08190137878739176 * a^{0\\beta}a^{0\\alpha}a_{1\\alpha}a_{1\\beta}a^{1\\beta}a^{1\\alpha}a_{0\\alpha}a_{0\\beta}a^{0\\alpha}a_{0\\alpha}\n",
      "0.08190137878739176 * a^{0\\beta}a^{0\\alpha}a_{1\\alpha}a_{1\\beta}a^{1\\beta}a^{1\\alpha}a_{0\\alpha}a_{0\\beta}a^{0\\beta}a_{0\\beta}\n"
     ]
    }
   ],
   "source": [
    "LinearAmplitudeFockOld = Wick.vacuumExpectationValue(projectionDoublesOperator * h1Operator * 0.25 * clusterDoubles, vacuum, printing=True) - Wick.vacuumExpectationValue(projectionDoublesOperator * 0.25 * clusterDoubles * h1Operator, vacuum, printing=True)"
   ]
  },
  {
   "cell_type": "code",
   "execution_count": 52,
   "metadata": {},
   "outputs": [
    {
     "name": "stdout",
     "output_type": "stream",
     "text": [
      "0.08190137878739176 * a^{0\\alpha}a^{0\\beta}a_{1\\beta}a_{1\\alpha}a^{1\\alpha}a^{1\\beta}a_{0\\beta}a_{0\\alpha}a^{0\\alpha}a_{0\\alpha}\n",
      "0.08190137878739176 * a^{0\\alpha}a^{0\\beta}a_{1\\beta}a_{1\\alpha}a^{1\\alpha}a^{1\\beta}a_{0\\beta}a_{0\\alpha}a^{0\\beta}a_{0\\beta}\n",
      "0.08190137878739176 * a^{0\\alpha}a^{0\\beta}a_{1\\beta}a_{1\\alpha}a^{1\\beta}a^{1\\alpha}a_{0\\alpha}a_{0\\beta}a^{0\\alpha}a_{0\\alpha}\n",
      "0.08190137878739176 * a^{0\\alpha}a^{0\\beta}a_{1\\beta}a_{1\\alpha}a^{1\\beta}a^{1\\alpha}a_{0\\alpha}a_{0\\beta}a^{0\\beta}a_{0\\beta}\n",
      "0.08190137878739176 * a^{0\\beta}a^{0\\alpha}a_{1\\alpha}a_{1\\beta}a^{1\\alpha}a^{1\\beta}a_{0\\beta}a_{0\\alpha}a^{0\\alpha}a_{0\\alpha}\n",
      "0.08190137878739176 * a^{0\\beta}a^{0\\alpha}a_{1\\alpha}a_{1\\beta}a^{1\\alpha}a^{1\\beta}a_{0\\beta}a_{0\\alpha}a^{0\\beta}a_{0\\beta}\n",
      "0.08190137878739176 * a^{0\\beta}a^{0\\alpha}a_{1\\alpha}a_{1\\beta}a^{1\\beta}a^{1\\alpha}a_{0\\alpha}a_{0\\beta}a^{0\\alpha}a_{0\\alpha}\n",
      "0.08190137878739176 * a^{0\\beta}a^{0\\alpha}a_{1\\alpha}a_{1\\beta}a^{1\\beta}a^{1\\alpha}a_{0\\alpha}a_{0\\beta}a^{0\\beta}a_{0\\beta}\n"
     ]
    },
    {
     "data": {
      "text/plain": [
       "0.6552110302991342"
      ]
     },
     "execution_count": 52,
     "metadata": {},
     "output_type": "execute_result"
    }
   ],
   "source": [
    "Wick.vacuumExpectationValue(projectionDoublesOperator * 0.25 * clusterDoubles * h1Operator, vacuum, printing=True)"
   ]
  },
  {
   "cell_type": "code",
   "execution_count": 53,
   "metadata": {},
   "outputs": [
    {
     "name": "stdout",
     "output_type": "stream",
     "text": [
      "-0.3612932112456613\n"
     ]
    }
   ],
   "source": [
    "print(LinearAmplitudeFockOld)"
   ]
  },
  {
   "cell_type": "code",
   "execution_count": 94,
   "metadata": {},
   "outputs": [
    {
     "name": "stdout",
     "output_type": "stream",
     "text": [
      "1.0 * a^{0\\alpha}a^{0\\alpha}a_{1\\alpha}a_{1\\alpha}\n",
      " + 1.0 * a^{0\\alpha}a^{0\\beta}a_{1\\beta}a_{1\\alpha}\n",
      " + 1.0 * a^{0\\beta}a^{0\\alpha}a_{1\\alpha}a_{1\\beta}\n",
      " + 1.0 * a^{0\\beta}a^{0\\beta}a_{1\\beta}a_{1\\beta}\n",
      "0.0\n",
      " + 0.3270047556780619 * a_{0\\alpha}a_{0\\beta}a^{0\\beta}a^{0\\alpha}\n",
      " + -4.163336342344337e-17 * a_{0\\alpha}a^{0\\alpha}a^{0\\beta}a_{1\\beta}\n",
      " + 5.204170427930421e-17 * a_{0\\alpha}a^{0\\beta}a^{0\\alpha}a_{1\\beta}\n",
      " + 0.3270047556780619 * a_{0\\beta}a_{0\\alpha}a^{0\\alpha}a^{0\\beta}\n",
      " + 0.3270047556780619 * a_{0\\beta}a_{0\\beta}a^{0\\beta}a^{0\\beta}\n",
      " + 5.204170427930421e-17 * a_{0\\beta}a^{0\\alpha}a^{0\\beta}a_{1\\alpha}\n",
      " + -4.163336342344337e-17 * a_{0\\beta}a^{0\\beta}a^{0\\alpha}a_{1\\alpha}\n",
      " + 1.0408340855860843e-17 * a_{0\\beta}a^{0\\beta}a^{0\\beta}a_{1\\beta}\n",
      " + 1.0408340855860843e-17 * a^{1\\alpha}a_{0\\alpha}a_{0\\alpha}a^{0\\alpha}\n",
      " + -4.163336342344337e-17 * a^{1\\alpha}a_{0\\alpha}a_{0\\beta}a^{0\\beta}\n",
      " + -0.6452494265884846 * a^{1\\alpha}a_{0\\alpha}a^{0\\alpha}a_{1\\alpha}\n",
      " + 5.204170427930421e-17 * a^{1\\alpha}a_{0\\beta}a_{0\\alpha}a^{0\\beta}\n",
      " + -0.6452494265884846 * a^{1\\alpha}a_{0\\beta}a^{0\\beta}a_{1\\alpha}\n",
      " + 0.09376099045135429 * a^{1\\alpha}a^{1\\alpha}a_{0\\alpha}a_{0\\alpha}\n",
      " + 4.163336342344337e-17 * a^{1\\alpha}a^{1\\alpha}a_{0\\alpha}a_{1\\alpha}\n",
      " + 0.33906809184265285 * a^{1\\alpha}a^{1\\alpha}a_{1\\alpha}a_{1\\alpha}\n",
      " + -2.7755575615628914e-17 * a^{1\\alpha}a^{1\\beta}a_{0\\alpha}a_{1\\beta}\n",
      " + 0.09376099045135429 * a^{1\\alpha}a^{1\\beta}a_{0\\beta}a_{0\\alpha}\n",
      " + 6.938893903907228e-17 * a^{1\\alpha}a^{1\\beta}a_{0\\beta}a_{1\\alpha}\n",
      " + 0.33906809184265285 * a^{1\\alpha}a^{1\\beta}a_{1\\beta}a_{1\\alpha}\n",
      " + 4.163336342344337e-17 * a^{1\\alpha}a^{0\\alpha}a_{1\\alpha}a_{1\\alpha}\n",
      " + -2.7755575615628914e-17 * a^{1\\alpha}a^{0\\beta}a_{1\\alpha}a_{1\\beta}\n",
      " + 6.938893903907228e-17 * a^{1\\alpha}a^{0\\beta}a_{1\\beta}a_{1\\alpha}\n",
      " + 5.204170427930421e-17 * a^{1\\beta}a_{0\\alpha}a_{0\\beta}a^{0\\alpha}\n",
      " + -0.6452494265884846 * a^{1\\beta}a_{0\\alpha}a^{0\\alpha}a_{1\\beta}\n",
      " + -4.163336342344337e-17 * a^{1\\beta}a_{0\\beta}a_{0\\alpha}a^{0\\alpha}\n",
      " + 1.0408340855860843e-17 * a^{1\\beta}a_{0\\beta}a_{0\\beta}a^{0\\beta}\n",
      " + -0.6452494265884846 * a^{1\\beta}a_{0\\beta}a^{0\\beta}a_{1\\beta}\n",
      " + 0.09376099045135429 * a^{1\\beta}a^{1\\alpha}a_{0\\alpha}a_{0\\beta}\n",
      " + 6.938893903907228e-17 * a^{1\\beta}a^{1\\alpha}a_{0\\alpha}a_{1\\beta}\n",
      " + -2.7755575615628914e-17 * a^{1\\beta}a^{1\\alpha}a_{0\\beta}a_{1\\alpha}\n",
      " + 0.33906809184265285 * a^{1\\beta}a^{1\\alpha}a_{1\\alpha}a_{1\\beta}\n",
      " + 0.09376099045135429 * a^{1\\beta}a^{1\\beta}a_{0\\beta}a_{0\\beta}\n",
      " + 4.163336342344337e-17 * a^{1\\beta}a^{1\\beta}a_{0\\beta}a_{1\\beta}\n",
      " + 6.938893903907228e-17 * a^{1\\beta}a^{0\\alpha}a_{1\\alpha}a_{1\\beta}\n",
      " + -2.7755575615628914e-17 * a^{1\\beta}a^{0\\alpha}a_{1\\beta}a_{1\\alpha}\n",
      " + 4.163336342344337e-17 * a^{1\\beta}a^{0\\beta}a_{1\\beta}a_{1\\beta}\n",
      " + 0.33906809184265285 * a^{1\\beta}a^{1\\beta}a_{1\\beta}a_{1\\beta}\n",
      " + 0.09376099045135429 * a^{0\\alpha}a^{0\\beta}a_{1\\beta}a_{1\\alpha}\n",
      " + 0.09376099045135429 * a^{0\\beta}a^{0\\alpha}a_{1\\alpha}a_{1\\beta}\n",
      " + 0.09376099045135429 * a^{0\\beta}a^{0\\beta}a_{1\\beta}a_{1\\beta}\n",
      "0.0\n",
      " + -0.275333314977893 * a^{1\\alpha}a^{1\\beta}a_{0\\beta}a_{0\\alpha}\n",
      " + -0.275333314977893 * a^{1\\beta}a^{1\\alpha}a_{0\\alpha}a_{0\\beta}\n"
     ]
    }
   ],
   "source": [
    "print(Wick.normalOrder(projectionDoublesOperator, vacuum))\n",
    "print(Wick.normalOrder(h2Operator, vacuum))\n",
    "print(Wick.normalOrder(clusterDoubles, vacuum))"
   ]
  },
  {
   "cell_type": "code",
   "execution_count": 97,
   "metadata": {},
   "outputs": [
    {
     "name": "stdout",
     "output_type": "stream",
     "text": [
      "0.0\n",
      " + -0.0 * a^{1\\alpha}a^{1\\beta}a_{0\\beta}a_{0\\alpha}\n",
      " + -0.0 * a^{1\\beta}a^{1\\alpha}a_{0\\alpha}a_{0\\beta}\n",
      " + 0.0 * a^{0\\alpha}a^{0\\beta}a_{1\\beta}a_{1\\alpha}\n",
      " + 0.0 * a^{0\\beta}a^{0\\alpha}a_{1\\alpha}a_{1\\beta}\n",
      " + 0.0 * a^{0\\alpha}a^{0\\beta}a_{1\\beta}a_{1\\alpha}a^{1\\alpha}a^{1\\beta}a_{0\\beta}a_{0\\alpha}\n",
      " + 0.0 * a^{0\\alpha}a^{0\\beta}a_{1\\beta}a_{1\\alpha}a^{1\\alpha}a^{1\\beta}a_{0\\beta}a_{1\\alpha}\n",
      " + 0.0 * a^{0\\alpha}a^{0\\beta}a_{1\\beta}a_{1\\alpha}a^{1\\alpha}a^{1\\beta}a_{1\\beta}a_{0\\alpha}\n",
      " + 0.0 * a^{0\\alpha}a^{0\\beta}a_{1\\beta}a_{1\\alpha}a^{1\\alpha}a^{1\\beta}a_{1\\beta}a_{1\\alpha}\n",
      " + 0.0 * a^{0\\alpha}a^{0\\beta}a_{1\\beta}a_{1\\alpha}a^{1\\beta}a^{1\\alpha}a_{0\\alpha}a_{0\\beta}\n",
      " + 0.0 * a^{0\\alpha}a^{0\\beta}a_{1\\beta}a_{1\\alpha}a^{1\\beta}a^{1\\alpha}a_{0\\alpha}a_{1\\beta}\n",
      " + 0.0 * a^{0\\alpha}a^{0\\beta}a_{1\\beta}a_{1\\alpha}a^{1\\beta}a^{1\\alpha}a_{1\\alpha}a_{0\\beta}\n",
      " + 0.0 * a^{0\\alpha}a^{0\\beta}a_{1\\beta}a_{1\\alpha}a^{1\\beta}a^{1\\alpha}a_{1\\alpha}a_{1\\beta}\n",
      " + 0.0 * a^{0\\beta}a^{0\\alpha}a_{1\\alpha}a_{1\\beta}a^{1\\alpha}a^{1\\beta}a_{0\\beta}a_{0\\alpha}\n",
      " + 0.0 * a^{0\\beta}a^{0\\alpha}a_{1\\alpha}a_{1\\beta}a^{1\\alpha}a^{1\\beta}a_{0\\beta}a_{1\\alpha}\n",
      " + 0.0 * a^{0\\beta}a^{0\\alpha}a_{1\\alpha}a_{1\\beta}a^{1\\alpha}a^{1\\beta}a_{1\\beta}a_{0\\alpha}\n",
      " + 0.0 * a^{0\\beta}a^{0\\alpha}a_{1\\alpha}a_{1\\beta}a^{1\\alpha}a^{1\\beta}a_{1\\beta}a_{1\\alpha}\n",
      " + 0.0 * a^{0\\beta}a^{0\\alpha}a_{1\\alpha}a_{1\\beta}a^{1\\beta}a^{1\\alpha}a_{0\\alpha}a_{0\\beta}\n",
      " + 0.0 * a^{0\\beta}a^{0\\alpha}a_{1\\alpha}a_{1\\beta}a^{1\\beta}a^{1\\alpha}a_{0\\alpha}a_{1\\beta}\n",
      " + 0.0 * a^{0\\beta}a^{0\\alpha}a_{1\\alpha}a_{1\\beta}a^{1\\beta}a^{1\\alpha}a_{1\\alpha}a_{0\\beta}\n",
      " + 0.0 * a^{0\\beta}a^{0\\alpha}a_{1\\alpha}a_{1\\beta}a^{1\\beta}a^{1\\alpha}a_{1\\alpha}a_{1\\beta}\n",
      " + -0.02333918543256657 * a^{0\\alpha}a^{0\\beta}a_{1\\beta}a_{1\\alpha}a^{1\\alpha}a^{1\\beta}a_{1\\beta}a_{1\\alpha}a^{1\\alpha}a^{1\\beta}a_{0\\beta}a_{0\\alpha}\n",
      " + -0.02333918543256657 * a^{0\\alpha}a^{0\\beta}a_{1\\beta}a_{1\\alpha}a^{1\\alpha}a^{1\\beta}a_{1\\beta}a_{1\\alpha}a^{1\\beta}a^{1\\alpha}a_{0\\alpha}a_{0\\beta}\n",
      " + -0.02333918543256657 * a^{0\\alpha}a^{0\\beta}a_{1\\beta}a_{1\\alpha}a^{1\\beta}a^{1\\alpha}a_{1\\alpha}a_{1\\beta}a^{1\\alpha}a^{1\\beta}a_{0\\beta}a_{0\\alpha}\n",
      " + -0.02333918543256657 * a^{0\\alpha}a^{0\\beta}a_{1\\beta}a_{1\\alpha}a^{1\\beta}a^{1\\alpha}a_{1\\alpha}a_{1\\beta}a^{1\\beta}a^{1\\alpha}a_{0\\alpha}a_{0\\beta}\n",
      " + -0.02333918543256657 * a^{0\\beta}a^{0\\alpha}a_{1\\alpha}a_{1\\beta}a^{1\\alpha}a^{1\\beta}a_{1\\beta}a_{1\\alpha}a^{1\\alpha}a^{1\\beta}a_{0\\beta}a_{0\\alpha}\n",
      " + -0.02333918543256657 * a^{0\\beta}a^{0\\alpha}a_{1\\alpha}a_{1\\beta}a^{1\\alpha}a^{1\\beta}a_{1\\beta}a_{1\\alpha}a^{1\\beta}a^{1\\alpha}a_{0\\alpha}a_{0\\beta}\n",
      " + -0.02333918543256657 * a^{0\\beta}a^{0\\alpha}a_{1\\alpha}a_{1\\beta}a^{1\\beta}a^{1\\alpha}a_{1\\alpha}a_{1\\beta}a^{1\\alpha}a^{1\\beta}a_{0\\beta}a_{0\\alpha}\n",
      " + -0.02333918543256657 * a^{0\\beta}a^{0\\alpha}a_{1\\alpha}a_{1\\beta}a^{1\\beta}a^{1\\alpha}a_{1\\alpha}a_{1\\beta}a^{1\\beta}a^{1\\alpha}a_{0\\alpha}a_{0\\beta}\n"
     ]
    }
   ],
   "source": [
    "print(projectionDoublesOperator * h2Operator * 0.25 * clusterDoubles)"
   ]
  },
  {
   "cell_type": "code",
   "execution_count": null,
   "metadata": {},
   "outputs": [],
   "source": [
    "print(Wick.normalOrder(projectionDoublesOperator, vacuum) * Wick.normalOrder(h2Operator, vacuum) * 0.25 * Wick.normalOrder(clusterDoubles, vacuum))"
   ]
  },
  {
   "cell_type": "code",
   "execution_count": 98,
   "metadata": {},
   "outputs": [
    {
     "name": "stdout",
     "output_type": "stream",
     "text": [
      "-0.02250882584859419 * a^{0\\alpha}a^{0\\beta}a_{1\\beta}a_{1\\alpha}a_{0\\alpha}a_{0\\beta}a^{0\\beta}a^{0\\alpha}a^{1\\alpha}a^{1\\beta}a_{0\\beta}a_{0\\alpha}\n",
      "-0.02250882584859419 * a^{0\\alpha}a^{0\\beta}a_{1\\beta}a_{1\\alpha}a_{0\\alpha}a_{0\\beta}a^{0\\beta}a^{0\\alpha}a^{1\\beta}a^{1\\alpha}a_{0\\alpha}a_{0\\beta}\n",
      "-0.02250882584859419 * a^{0\\alpha}a^{0\\beta}a_{1\\beta}a_{1\\alpha}a_{0\\beta}a_{0\\alpha}a^{0\\alpha}a^{0\\beta}a^{1\\alpha}a^{1\\beta}a_{0\\beta}a_{0\\alpha}\n",
      "-0.02250882584859419 * a^{0\\alpha}a^{0\\beta}a_{1\\beta}a_{1\\alpha}a_{0\\beta}a_{0\\alpha}a^{0\\alpha}a^{0\\beta}a^{1\\beta}a^{1\\alpha}a_{0\\alpha}a_{0\\beta}\n",
      "0.044414665902548014 * a^{0\\alpha}a^{0\\beta}a_{1\\beta}a_{1\\alpha}a^{1\\alpha}a_{0\\alpha}a^{0\\alpha}a_{1\\alpha}a^{1\\alpha}a^{1\\beta}a_{0\\beta}a_{0\\alpha}\n",
      "0.044414665902548014 * a^{0\\alpha}a^{0\\beta}a_{1\\beta}a_{1\\alpha}a^{1\\alpha}a_{0\\alpha}a^{0\\alpha}a_{1\\alpha}a^{1\\beta}a^{1\\alpha}a_{0\\alpha}a_{0\\beta}\n",
      "0.044414665902548014 * a^{0\\alpha}a^{0\\beta}a_{1\\beta}a_{1\\alpha}a^{1\\alpha}a_{0\\beta}a^{0\\beta}a_{1\\alpha}a^{1\\alpha}a^{1\\beta}a_{0\\beta}a_{0\\alpha}\n",
      "0.044414665902548014 * a^{0\\alpha}a^{0\\beta}a_{1\\beta}a_{1\\alpha}a^{1\\alpha}a_{0\\beta}a^{0\\beta}a_{1\\alpha}a^{1\\beta}a^{1\\alpha}a_{0\\alpha}a_{0\\beta}\n",
      "-0.02333918543256657 * a^{0\\alpha}a^{0\\beta}a_{1\\beta}a_{1\\alpha}a^{1\\alpha}a^{1\\beta}a_{1\\beta}a_{1\\alpha}a^{1\\alpha}a^{1\\beta}a_{0\\beta}a_{0\\alpha}\n",
      "-0.02333918543256657 * a^{0\\alpha}a^{0\\beta}a_{1\\beta}a_{1\\alpha}a^{1\\alpha}a^{1\\beta}a_{1\\beta}a_{1\\alpha}a^{1\\beta}a^{1\\alpha}a_{0\\alpha}a_{0\\beta}\n",
      "0.044414665902548014 * a^{0\\alpha}a^{0\\beta}a_{1\\beta}a_{1\\alpha}a^{1\\beta}a_{0\\alpha}a^{0\\alpha}a_{1\\beta}a^{1\\alpha}a^{1\\beta}a_{0\\beta}a_{0\\alpha}\n",
      "0.044414665902548014 * a^{0\\alpha}a^{0\\beta}a_{1\\beta}a_{1\\alpha}a^{1\\beta}a_{0\\alpha}a^{0\\alpha}a_{1\\beta}a^{1\\beta}a^{1\\alpha}a_{0\\alpha}a_{0\\beta}\n",
      "0.044414665902548014 * a^{0\\alpha}a^{0\\beta}a_{1\\beta}a_{1\\alpha}a^{1\\beta}a_{0\\beta}a^{0\\beta}a_{1\\beta}a^{1\\alpha}a^{1\\beta}a_{0\\beta}a_{0\\alpha}\n",
      "0.044414665902548014 * a^{0\\alpha}a^{0\\beta}a_{1\\beta}a_{1\\alpha}a^{1\\beta}a_{0\\beta}a^{0\\beta}a_{1\\beta}a^{1\\beta}a^{1\\alpha}a_{0\\alpha}a_{0\\beta}\n",
      "-0.02333918543256657 * a^{0\\alpha}a^{0\\beta}a_{1\\beta}a_{1\\alpha}a^{1\\beta}a^{1\\alpha}a_{1\\alpha}a_{1\\beta}a^{1\\alpha}a^{1\\beta}a_{0\\beta}a_{0\\alpha}\n",
      "-0.02333918543256657 * a^{0\\alpha}a^{0\\beta}a_{1\\beta}a_{1\\alpha}a^{1\\beta}a^{1\\alpha}a_{1\\alpha}a_{1\\beta}a^{1\\beta}a^{1\\alpha}a_{0\\alpha}a_{0\\beta}\n",
      "-0.02250882584859419 * a^{0\\beta}a^{0\\alpha}a_{1\\alpha}a_{1\\beta}a_{0\\alpha}a_{0\\beta}a^{0\\beta}a^{0\\alpha}a^{1\\alpha}a^{1\\beta}a_{0\\beta}a_{0\\alpha}\n",
      "-0.02250882584859419 * a^{0\\beta}a^{0\\alpha}a_{1\\alpha}a_{1\\beta}a_{0\\alpha}a_{0\\beta}a^{0\\beta}a^{0\\alpha}a^{1\\beta}a^{1\\alpha}a_{0\\alpha}a_{0\\beta}\n",
      "-0.02250882584859419 * a^{0\\beta}a^{0\\alpha}a_{1\\alpha}a_{1\\beta}a_{0\\beta}a_{0\\alpha}a^{0\\alpha}a^{0\\beta}a^{1\\alpha}a^{1\\beta}a_{0\\beta}a_{0\\alpha}\n",
      "-0.02250882584859419 * a^{0\\beta}a^{0\\alpha}a_{1\\alpha}a_{1\\beta}a_{0\\beta}a_{0\\alpha}a^{0\\alpha}a^{0\\beta}a^{1\\beta}a^{1\\alpha}a_{0\\alpha}a_{0\\beta}\n",
      "0.044414665902548014 * a^{0\\beta}a^{0\\alpha}a_{1\\alpha}a_{1\\beta}a^{1\\alpha}a_{0\\alpha}a^{0\\alpha}a_{1\\alpha}a^{1\\alpha}a^{1\\beta}a_{0\\beta}a_{0\\alpha}\n",
      "0.044414665902548014 * a^{0\\beta}a^{0\\alpha}a_{1\\alpha}a_{1\\beta}a^{1\\alpha}a_{0\\alpha}a^{0\\alpha}a_{1\\alpha}a^{1\\beta}a^{1\\alpha}a_{0\\alpha}a_{0\\beta}\n",
      "0.044414665902548014 * a^{0\\beta}a^{0\\alpha}a_{1\\alpha}a_{1\\beta}a^{1\\alpha}a_{0\\beta}a^{0\\beta}a_{1\\alpha}a^{1\\alpha}a^{1\\beta}a_{0\\beta}a_{0\\alpha}\n",
      "0.044414665902548014 * a^{0\\beta}a^{0\\alpha}a_{1\\alpha}a_{1\\beta}a^{1\\alpha}a_{0\\beta}a^{0\\beta}a_{1\\alpha}a^{1\\beta}a^{1\\alpha}a_{0\\alpha}a_{0\\beta}\n",
      "-0.02333918543256657 * a^{0\\beta}a^{0\\alpha}a_{1\\alpha}a_{1\\beta}a^{1\\alpha}a^{1\\beta}a_{1\\beta}a_{1\\alpha}a^{1\\alpha}a^{1\\beta}a_{0\\beta}a_{0\\alpha}\n",
      "-0.02333918543256657 * a^{0\\beta}a^{0\\alpha}a_{1\\alpha}a_{1\\beta}a^{1\\alpha}a^{1\\beta}a_{1\\beta}a_{1\\alpha}a^{1\\beta}a^{1\\alpha}a_{0\\alpha}a_{0\\beta}\n",
      "0.044414665902548014 * a^{0\\beta}a^{0\\alpha}a_{1\\alpha}a_{1\\beta}a^{1\\beta}a_{0\\alpha}a^{0\\alpha}a_{1\\beta}a^{1\\alpha}a^{1\\beta}a_{0\\beta}a_{0\\alpha}\n",
      "0.044414665902548014 * a^{0\\beta}a^{0\\alpha}a_{1\\alpha}a_{1\\beta}a^{1\\beta}a_{0\\alpha}a^{0\\alpha}a_{1\\beta}a^{1\\beta}a^{1\\alpha}a_{0\\alpha}a_{0\\beta}\n",
      "0.044414665902548014 * a^{0\\beta}a^{0\\alpha}a_{1\\alpha}a_{1\\beta}a^{1\\beta}a_{0\\beta}a^{0\\beta}a_{1\\beta}a^{1\\alpha}a^{1\\beta}a_{0\\beta}a_{0\\alpha}\n",
      "0.044414665902548014 * a^{0\\beta}a^{0\\alpha}a_{1\\alpha}a_{1\\beta}a^{1\\beta}a_{0\\beta}a^{0\\beta}a_{1\\beta}a^{1\\beta}a^{1\\alpha}a_{0\\alpha}a_{0\\beta}\n",
      "-0.02333918543256657 * a^{0\\beta}a^{0\\alpha}a_{1\\alpha}a_{1\\beta}a^{1\\beta}a^{1\\alpha}a_{1\\alpha}a_{1\\beta}a^{1\\alpha}a^{1\\beta}a_{0\\beta}a_{0\\alpha}\n",
      "-0.02333918543256657 * a^{0\\beta}a^{0\\alpha}a_{1\\alpha}a_{1\\beta}a^{1\\beta}a^{1\\alpha}a_{1\\alpha}a_{1\\beta}a^{1\\beta}a^{1\\alpha}a_{0\\alpha}a_{0\\beta}\n"
     ]
    },
    {
     "data": {
      "text/plain": [
       "0.34385056419148197"
      ]
     },
     "execution_count": 98,
     "metadata": {},
     "output_type": "execute_result"
    }
   ],
   "source": [
    "Wick.vacuumExpectationValue(Wick.normalOrder(projectionDoublesOperator, vacuum) * Wick.normalOrder(h2Operator, vacuum) * 0.25 * Wick.normalOrder(clusterDoubles, vacuum), vacuum, printing=True)"
   ]
  },
  {
   "cell_type": "code",
   "execution_count": 100,
   "metadata": {},
   "outputs": [
    {
     "data": {
      "text/plain": [
       "0.0"
      ]
     },
     "execution_count": 100,
     "metadata": {},
     "output_type": "execute_result"
    }
   ],
   "source": [
    "Wick.vacuumExpectationValue(Wick.normalOrder(projectionDoublesOperator, vacuum) * 0.25 * Wick.normalOrder(clusterDoubles, vacuum) * Wick.normalOrder(h2Operator, vacuum), vacuum, printing=True)"
   ]
  },
  {
   "cell_type": "code",
   "execution_count": 55,
   "metadata": {},
   "outputs": [
    {
     "name": "stdout",
     "output_type": "stream",
     "text": [
      "-0.02333918543256657 * a^{0\\alpha}a^{0\\beta}a_{1\\beta}a_{1\\alpha}a^{1\\alpha}a^{1\\beta}a_{1\\beta}a_{1\\alpha}a^{1\\alpha}a^{1\\beta}a_{0\\beta}a_{0\\alpha}\n",
      "-0.02333918543256657 * a^{0\\alpha}a^{0\\beta}a_{1\\beta}a_{1\\alpha}a^{1\\alpha}a^{1\\beta}a_{1\\beta}a_{1\\alpha}a^{1\\beta}a^{1\\alpha}a_{0\\alpha}a_{0\\beta}\n",
      "-0.02333918543256657 * a^{0\\alpha}a^{0\\beta}a_{1\\beta}a_{1\\alpha}a^{1\\beta}a^{1\\alpha}a_{1\\alpha}a_{1\\beta}a^{1\\alpha}a^{1\\beta}a_{0\\beta}a_{0\\alpha}\n",
      "-0.02333918543256657 * a^{0\\alpha}a^{0\\beta}a_{1\\beta}a_{1\\alpha}a^{1\\beta}a^{1\\alpha}a_{1\\alpha}a_{1\\beta}a^{1\\beta}a^{1\\alpha}a_{0\\alpha}a_{0\\beta}\n",
      "-0.02333918543256657 * a^{0\\beta}a^{0\\alpha}a_{1\\alpha}a_{1\\beta}a^{1\\alpha}a^{1\\beta}a_{1\\beta}a_{1\\alpha}a^{1\\alpha}a^{1\\beta}a_{0\\beta}a_{0\\alpha}\n",
      "-0.02333918543256657 * a^{0\\beta}a^{0\\alpha}a_{1\\alpha}a_{1\\beta}a^{1\\alpha}a^{1\\beta}a_{1\\beta}a_{1\\alpha}a^{1\\beta}a^{1\\alpha}a_{0\\alpha}a_{0\\beta}\n",
      "-0.02333918543256657 * a^{0\\beta}a^{0\\alpha}a_{1\\alpha}a_{1\\beta}a^{1\\beta}a^{1\\alpha}a_{1\\alpha}a_{1\\beta}a^{1\\alpha}a^{1\\beta}a_{0\\beta}a_{0\\alpha}\n",
      "-0.02333918543256657 * a^{0\\beta}a^{0\\alpha}a_{1\\alpha}a_{1\\beta}a^{1\\beta}a^{1\\alpha}a_{1\\alpha}a_{1\\beta}a^{1\\beta}a^{1\\alpha}a_{0\\alpha}a_{0\\beta}\n",
      "-0.02250882584859419 * a^{0\\alpha}a^{0\\beta}a_{1\\beta}a_{1\\alpha}a^{1\\alpha}a^{1\\beta}a_{0\\beta}a_{0\\alpha}a^{0\\alpha}a^{0\\beta}a_{0\\beta}a_{0\\alpha}\n",
      "-0.02250882584859419 * a^{0\\alpha}a^{0\\beta}a_{1\\beta}a_{1\\alpha}a^{1\\alpha}a^{1\\beta}a_{0\\beta}a_{0\\alpha}a^{0\\beta}a^{0\\alpha}a_{0\\alpha}a_{0\\beta}\n",
      "-0.02250882584859419 * a^{0\\alpha}a^{0\\beta}a_{1\\beta}a_{1\\alpha}a^{1\\beta}a^{1\\alpha}a_{0\\alpha}a_{0\\beta}a^{0\\alpha}a^{0\\beta}a_{0\\beta}a_{0\\alpha}\n",
      "-0.02250882584859419 * a^{0\\alpha}a^{0\\beta}a_{1\\beta}a_{1\\alpha}a^{1\\beta}a^{1\\alpha}a_{0\\alpha}a_{0\\beta}a^{0\\beta}a^{0\\alpha}a_{0\\alpha}a_{0\\beta}\n",
      "-0.02250882584859419 * a^{0\\beta}a^{0\\alpha}a_{1\\alpha}a_{1\\beta}a^{1\\alpha}a^{1\\beta}a_{0\\beta}a_{0\\alpha}a^{0\\alpha}a^{0\\beta}a_{0\\beta}a_{0\\alpha}\n",
      "-0.02250882584859419 * a^{0\\beta}a^{0\\alpha}a_{1\\alpha}a_{1\\beta}a^{1\\alpha}a^{1\\beta}a_{0\\beta}a_{0\\alpha}a^{0\\beta}a^{0\\alpha}a_{0\\alpha}a_{0\\beta}\n",
      "-0.02250882584859419 * a^{0\\beta}a^{0\\alpha}a_{1\\alpha}a_{1\\beta}a^{1\\beta}a^{1\\alpha}a_{0\\alpha}a_{0\\beta}a^{0\\alpha}a^{0\\beta}a_{0\\beta}a_{0\\alpha}\n",
      "-0.02250882584859419 * a^{0\\beta}a^{0\\alpha}a_{1\\alpha}a_{1\\beta}a^{1\\beta}a^{1\\alpha}a_{0\\alpha}a_{0\\beta}a^{0\\beta}a^{0\\alpha}a_{0\\alpha}a_{0\\beta}\n"
     ]
    }
   ],
   "source": [
    "LinearAmplitudeFluctuationOld = Wick.vacuumExpectationValue(projectionDoublesOperator * h2Operator * 0.25 * clusterDoubles, vacuum, printing=True)- Wick.vacuumExpectationValue(projectionDoublesOperator * 0.25 * clusterDoubles * h2Operator, vacuum, printing=True)"
   ]
  },
  {
   "cell_type": "code",
   "execution_count": 56,
   "metadata": {},
   "outputs": [
    {
     "name": "stdout",
     "output_type": "stream",
     "text": [
      "-0.006642876671779069\n"
     ]
    }
   ],
   "source": [
    "print(LinearAmplitudeFluctuationOld)"
   ]
  },
  {
   "cell_type": "code",
   "execution_count": 57,
   "metadata": {},
   "outputs": [
    {
     "name": "stdout",
     "output_type": "stream",
     "text": [
      "0.00044424211799855707 * a^{0\\alpha}a^{0\\beta}a_{1\\beta}a_{1\\alpha}a^{1\\alpha}a^{1\\beta}a_{0\\beta}a_{0\\alpha}a^{0\\alpha}a^{0\\beta}a_{1\\beta}a_{1\\alpha}a^{1\\alpha}a^{1\\beta}a_{0\\beta}a_{0\\alpha}\n",
      "0.00044424211799855707 * a^{0\\alpha}a^{0\\beta}a_{1\\beta}a_{1\\alpha}a^{1\\alpha}a^{1\\beta}a_{0\\beta}a_{0\\alpha}a^{0\\alpha}a^{0\\beta}a_{1\\beta}a_{1\\alpha}a^{1\\beta}a^{1\\alpha}a_{0\\alpha}a_{0\\beta}\n",
      "0.00044424211799855707 * a^{0\\alpha}a^{0\\beta}a_{1\\beta}a_{1\\alpha}a^{1\\alpha}a^{1\\beta}a_{0\\beta}a_{0\\alpha}a^{0\\beta}a^{0\\alpha}a_{1\\alpha}a_{1\\beta}a^{1\\alpha}a^{1\\beta}a_{0\\beta}a_{0\\alpha}\n",
      "0.00044424211799855707 * a^{0\\alpha}a^{0\\beta}a_{1\\beta}a_{1\\alpha}a^{1\\alpha}a^{1\\beta}a_{0\\beta}a_{0\\alpha}a^{0\\beta}a^{0\\alpha}a_{1\\alpha}a_{1\\beta}a^{1\\beta}a^{1\\alpha}a_{0\\alpha}a_{0\\beta}\n",
      "0.00044424211799855707 * a^{0\\alpha}a^{0\\beta}a_{1\\beta}a_{1\\alpha}a^{1\\beta}a^{1\\alpha}a_{0\\alpha}a_{0\\beta}a^{0\\alpha}a^{0\\beta}a_{1\\beta}a_{1\\alpha}a^{1\\alpha}a^{1\\beta}a_{0\\beta}a_{0\\alpha}\n",
      "0.00044424211799855707 * a^{0\\alpha}a^{0\\beta}a_{1\\beta}a_{1\\alpha}a^{1\\beta}a^{1\\alpha}a_{0\\alpha}a_{0\\beta}a^{0\\alpha}a^{0\\beta}a_{1\\beta}a_{1\\alpha}a^{1\\beta}a^{1\\alpha}a_{0\\alpha}a_{0\\beta}\n",
      "0.00044424211799855707 * a^{0\\alpha}a^{0\\beta}a_{1\\beta}a_{1\\alpha}a^{1\\beta}a^{1\\alpha}a_{0\\alpha}a_{0\\beta}a^{0\\beta}a^{0\\alpha}a_{1\\alpha}a_{1\\beta}a^{1\\alpha}a^{1\\beta}a_{0\\beta}a_{0\\alpha}\n",
      "0.00044424211799855707 * a^{0\\alpha}a^{0\\beta}a_{1\\beta}a_{1\\alpha}a^{1\\beta}a^{1\\alpha}a_{0\\alpha}a_{0\\beta}a^{0\\beta}a^{0\\alpha}a_{1\\alpha}a_{1\\beta}a^{1\\beta}a^{1\\alpha}a_{0\\alpha}a_{0\\beta}\n",
      "0.00044424211799855707 * a^{0\\beta}a^{0\\alpha}a_{1\\alpha}a_{1\\beta}a^{1\\alpha}a^{1\\beta}a_{0\\beta}a_{0\\alpha}a^{0\\alpha}a^{0\\beta}a_{1\\beta}a_{1\\alpha}a^{1\\alpha}a^{1\\beta}a_{0\\beta}a_{0\\alpha}\n",
      "0.00044424211799855707 * a^{0\\beta}a^{0\\alpha}a_{1\\alpha}a_{1\\beta}a^{1\\alpha}a^{1\\beta}a_{0\\beta}a_{0\\alpha}a^{0\\alpha}a^{0\\beta}a_{1\\beta}a_{1\\alpha}a^{1\\beta}a^{1\\alpha}a_{0\\alpha}a_{0\\beta}\n",
      "0.00044424211799855707 * a^{0\\beta}a^{0\\alpha}a_{1\\alpha}a_{1\\beta}a^{1\\alpha}a^{1\\beta}a_{0\\beta}a_{0\\alpha}a^{0\\beta}a^{0\\alpha}a_{1\\alpha}a_{1\\beta}a^{1\\alpha}a^{1\\beta}a_{0\\beta}a_{0\\alpha}\n",
      "0.00044424211799855707 * a^{0\\beta}a^{0\\alpha}a_{1\\alpha}a_{1\\beta}a^{1\\alpha}a^{1\\beta}a_{0\\beta}a_{0\\alpha}a^{0\\beta}a^{0\\alpha}a_{1\\alpha}a_{1\\beta}a^{1\\beta}a^{1\\alpha}a_{0\\alpha}a_{0\\beta}\n",
      "0.00044424211799855707 * a^{0\\beta}a^{0\\alpha}a_{1\\alpha}a_{1\\beta}a^{1\\beta}a^{1\\alpha}a_{0\\alpha}a_{0\\beta}a^{0\\alpha}a^{0\\beta}a_{1\\beta}a_{1\\alpha}a^{1\\alpha}a^{1\\beta}a_{0\\beta}a_{0\\alpha}\n",
      "0.00044424211799855707 * a^{0\\beta}a^{0\\alpha}a_{1\\alpha}a_{1\\beta}a^{1\\beta}a^{1\\alpha}a_{0\\alpha}a_{0\\beta}a^{0\\alpha}a^{0\\beta}a_{1\\beta}a_{1\\alpha}a^{1\\beta}a^{1\\alpha}a_{0\\alpha}a_{0\\beta}\n",
      "0.00044424211799855707 * a^{0\\beta}a^{0\\alpha}a_{1\\alpha}a_{1\\beta}a^{1\\beta}a^{1\\alpha}a_{0\\alpha}a_{0\\beta}a^{0\\beta}a^{0\\alpha}a_{1\\alpha}a_{1\\beta}a^{1\\alpha}a^{1\\beta}a_{0\\beta}a_{0\\alpha}\n",
      "0.00044424211799855707 * a^{0\\beta}a^{0\\alpha}a_{1\\alpha}a_{1\\beta}a^{1\\beta}a^{1\\alpha}a_{0\\alpha}a_{0\\beta}a^{0\\beta}a^{0\\alpha}a_{1\\alpha}a_{1\\beta}a^{1\\beta}a^{1\\alpha}a_{0\\alpha}a_{0\\beta}\n"
     ]
    }
   ],
   "source": [
    "QuadraticAmplitudeFluctuationOld = 0.5 * Wick.vacuumExpectationValue(projectionDoublesOperator * h2Operator * 0.25 * clusterDoubles * 0.25 * clusterDoubles, vacuum, printing=True) + 0.5 * Wick.vacuumExpectationValue(projectionDoublesOperator * 0.25 * clusterDoubles * 0.25 * clusterDoubles * h2Operator, vacuum, printing=True) - Wick.vacuumExpectationValue(projectionDoublesOperator * 0.25 * clusterDoubles * h2Operator * 0.25 * clusterDoubles, vacuum, printing=True)"
   ]
  },
  {
   "cell_type": "code",
   "execution_count": 58,
   "metadata": {},
   "outputs": [
    {
     "name": "stdout",
     "output_type": "stream",
     "text": [
      "-0.007107873887976914\n"
     ]
    }
   ],
   "source": [
    "print(QuadraticAmplitudeFluctuationOld)"
   ]
  },
  {
   "cell_type": "code",
   "execution_count": 59,
   "metadata": {},
   "outputs": [
    {
     "data": {
      "text/plain": [
       "0.007107873887976762"
      ]
     },
     "execution_count": 59,
     "metadata": {},
     "output_type": "execute_result"
    }
   ],
   "source": [
    "ConstantAmplitudeOld + LinearAmplitudeFockOld + LinearAmplitudeFluctuationOld "
   ]
  },
  {
   "cell_type": "code",
   "execution_count": 60,
   "metadata": {},
   "outputs": [
    {
     "name": "stdout",
     "output_type": "stream",
     "text": [
      "-1.1898506186070186 * a^{0\\alpha}a_{0\\alpha}\n",
      "-1.1898506186070186 * a^{0\\beta}a_{0\\beta}\n",
      "0.3270047556780619 * a^{0\\alpha}a^{0\\beta}a_{0\\beta}a_{0\\alpha}\n",
      "0.3270047556780619 * a^{0\\beta}a^{0\\alpha}a_{0\\alpha}a_{0\\beta}\n",
      "-0.006453881079145487 * a^{0\\alpha}a^{0\\beta}a_{1\\beta}a_{1\\alpha}a^{1\\alpha}a^{1\\beta}a_{0\\beta}a_{0\\alpha}\n",
      "-0.006453881079145487 * a^{0\\alpha}a^{0\\beta}a_{1\\beta}a_{1\\alpha}a^{1\\beta}a^{1\\alpha}a_{0\\alpha}a_{0\\beta}\n",
      "-0.006453881079145487 * a^{0\\beta}a^{0\\alpha}a_{1\\alpha}a_{1\\beta}a^{1\\alpha}a^{1\\beta}a_{0\\beta}a_{0\\alpha}\n",
      "-0.006453881079145487 * a^{0\\beta}a^{0\\alpha}a_{1\\alpha}a_{1\\beta}a^{1\\beta}a^{1\\alpha}a_{0\\alpha}a_{0\\beta}\n"
     ]
    },
    {
     "data": {
      "text/plain": [
       "-1.751507250174495"
      ]
     },
     "execution_count": 60,
     "metadata": {},
     "output_type": "execute_result"
    }
   ],
   "source": [
    "Wick.vacuumExpectationValue(BCHSimilarityTransform(h1Operator + h2Operator, 0.25 * clusterDoubles, 2), vacuum, printing=True)"
   ]
  },
  {
   "cell_type": "code",
   "execution_count": 61,
   "metadata": {},
   "outputs": [
    {
     "name": "stdout",
     "output_type": "stream",
     "text": [
      "0.0\n",
      " + -4.7142356915405136e-17 * a^{1\\alpha}a_{0\\alpha}\n",
      " + -0.5337491016607854 * a^{1\\alpha}a_{1\\alpha}\n",
      " + -4.7142356915405136e-17 * a^{1\\beta}a_{0\\beta}\n",
      " + -0.5337491016607854 * a^{1\\beta}a_{1\\beta}\n",
      " + -1.1898506186070186 * a^{0\\alpha}a_{0\\alpha}\n",
      " + 2.600212552842601e-17 * a^{0\\alpha}a_{1\\alpha}\n",
      " + -1.1898506186070186 * a^{0\\beta}a_{0\\beta}\n",
      " + 2.600212552842601e-17 * a^{0\\beta}a_{1\\beta}\n",
      " + 0.0\n",
      " + 0.3226247132942424 * a^{0\\alpha}a^{1\\alpha}a_{1\\alpha}a_{0\\alpha}\n",
      " + 0.0\n",
      " + 4.163336342344337e-17 * a^{0\\alpha}a^{1\\beta}a_{0\\beta}a_{0\\alpha}\n",
      " + 0.3226247132942424 * a^{0\\alpha}a^{1\\beta}a_{1\\beta}a_{0\\alpha}\n",
      " + 2.7755575615628914e-17 * a^{0\\alpha}a^{1\\beta}a_{1\\beta}a_{1\\alpha}\n",
      " + 0.0\n",
      " + 0.0\n",
      " + 0.0\n",
      " + 0.0\n",
      " + 4.163336342344337e-17 * a^{0\\beta}a^{1\\alpha}a_{0\\alpha}a_{0\\beta}\n",
      " + 0.3226247132942424 * a^{0\\beta}a^{1\\alpha}a_{1\\alpha}a_{0\\beta}\n",
      " + 2.7755575615628914e-17 * a^{0\\beta}a^{1\\alpha}a_{1\\alpha}a_{1\\beta}\n",
      " + 0.0\n",
      " + 0.3226247132942424 * a^{0\\beta}a^{1\\beta}a_{1\\beta}a_{0\\beta}\n",
      " + 0.0\n",
      " + 0.0\n",
      " + 0.3226247132942422 * a^{1\\alpha}a^{0\\alpha}a_{0\\alpha}a_{1\\alpha}\n",
      " + 0.0\n",
      " + 5.204170427930421e-17 * a^{1\\alpha}a^{0\\beta}a_{0\\beta}a_{0\\alpha}\n",
      " + 0.3226247132942422 * a^{1\\alpha}a^{0\\beta}a_{0\\beta}a_{1\\alpha}\n",
      " + 6.938893903907228e-17 * a^{1\\alpha}a^{0\\beta}a_{1\\beta}a_{1\\alpha}\n",
      " + 0.0\n",
      " + 0.0\n",
      " + 0.0\n",
      " + 0.0\n",
      " + 0.09376099045135429 * a^{1\\alpha}a^{1\\beta}a_{0\\beta}a_{0\\alpha}\n",
      " + 6.938893903907228e-17 * a^{1\\alpha}a^{1\\beta}a_{0\\beta}a_{1\\alpha}\n",
      " + 2.7755575615628914e-17 * a^{1\\alpha}a^{1\\beta}a_{1\\beta}a_{0\\alpha}\n",
      " + 0.33906809184265285 * a^{1\\alpha}a^{1\\beta}a_{1\\beta}a_{1\\alpha}\n",
      " + 5.204170427930421e-17 * a^{1\\beta}a^{0\\alpha}a_{0\\alpha}a_{0\\beta}\n",
      " + 0.3226247132942422 * a^{1\\beta}a^{0\\alpha}a_{0\\alpha}a_{1\\beta}\n",
      " + 6.938893903907228e-17 * a^{1\\beta}a^{0\\alpha}a_{1\\alpha}a_{1\\beta}\n",
      " + 0.0\n",
      " + 0.3226247132942422 * a^{1\\beta}a^{0\\beta}a_{0\\beta}a_{1\\beta}\n",
      " + 0.0\n",
      " + 0.09376099045135429 * a^{1\\beta}a^{1\\alpha}a_{0\\alpha}a_{0\\beta}\n",
      " + 6.938893903907228e-17 * a^{1\\beta}a^{1\\alpha}a_{0\\alpha}a_{1\\beta}\n",
      " + 2.7755575615628914e-17 * a^{1\\beta}a^{1\\alpha}a_{1\\alpha}a_{0\\beta}\n",
      " + 0.33906809184265285 * a^{1\\beta}a^{1\\alpha}a_{1\\alpha}a_{1\\beta}\n",
      " + 0.0\n",
      " + 0.0\n",
      " + 0.0\n",
      " + 0.0\n",
      " + 0.3270047556780619 * a^{0\\alpha}a^{0\\beta}a_{0\\beta}a_{0\\alpha}\n",
      " + 5.204170427930421e-17 * a^{0\\alpha}a^{0\\beta}a_{0\\beta}a_{1\\alpha}\n",
      " + 4.163336342344337e-17 * a^{0\\alpha}a^{0\\beta}a_{1\\beta}a_{0\\alpha}\n",
      " + 0.09376099045135429 * a^{0\\alpha}a^{0\\beta}a_{1\\beta}a_{1\\alpha}\n",
      " + 0.3270047556780619 * a^{0\\beta}a^{0\\alpha}a_{0\\alpha}a_{0\\beta}\n",
      " + 5.204170427930421e-17 * a^{0\\beta}a^{0\\alpha}a_{0\\alpha}a_{1\\beta}\n",
      " + 4.163336342344337e-17 * a^{0\\beta}a^{0\\alpha}a_{1\\alpha}a_{0\\beta}\n",
      " + 0.09376099045135429 * a^{0\\beta}a^{0\\alpha}a_{1\\alpha}a_{1\\beta}\n",
      " + -0.08190137878739176 * a^{1\\alpha}a^{1\\beta}a_{0\\beta}a_{0\\alpha}a^{0\\alpha}a_{0\\alpha}\n",
      " + 1.789812854553208e-18 * a^{1\\alpha}a^{1\\beta}a_{0\\beta}a_{0\\alpha}a^{0\\alpha}a_{1\\alpha}\n",
      " + -0.08190137878739176 * a^{1\\alpha}a^{1\\beta}a_{0\\beta}a_{0\\alpha}a^{0\\beta}a_{0\\beta}\n",
      " + 1.789812854553208e-18 * a^{1\\alpha}a^{1\\beta}a_{0\\beta}a_{0\\alpha}a^{0\\beta}a_{1\\beta}\n",
      " + 0.03673972738168411 * a^{1\\alpha}a_{1\\alpha}a^{1\\alpha}a^{1\\beta}a_{0\\beta}a_{0\\alpha}\n",
      " + 0.03673972738168411 * a^{1\\alpha}a_{1\\alpha}a^{1\\beta}a^{1\\alpha}a_{0\\alpha}a_{0\\beta}\n",
      " + -0.08190137878739176 * a^{1\\beta}a^{1\\alpha}a_{0\\alpha}a_{0\\beta}a^{0\\alpha}a_{0\\alpha}\n",
      " + 1.789812854553208e-18 * a^{1\\beta}a^{1\\alpha}a_{0\\alpha}a_{0\\beta}a^{0\\alpha}a_{1\\alpha}\n",
      " + -0.08190137878739176 * a^{1\\beta}a^{1\\alpha}a_{0\\alpha}a_{0\\beta}a^{0\\beta}a_{0\\beta}\n",
      " + 1.789812854553208e-18 * a^{1\\beta}a^{1\\alpha}a_{0\\alpha}a_{0\\beta}a^{0\\beta}a_{1\\beta}\n",
      " + 0.03673972738168411 * a^{1\\beta}a_{1\\beta}a^{1\\alpha}a^{1\\beta}a_{0\\beta}a_{0\\alpha}\n",
      " + 0.03673972738168411 * a^{1\\beta}a_{1\\beta}a^{1\\beta}a^{1\\alpha}a_{0\\alpha}a_{0\\beta}\n",
      " + -1.789812854553208e-18 * a^{0\\alpha}a_{1\\alpha}a^{1\\alpha}a^{1\\beta}a_{0\\beta}a_{0\\alpha}\n",
      " + -1.789812854553208e-18 * a^{0\\alpha}a_{1\\alpha}a^{1\\beta}a^{1\\alpha}a_{0\\alpha}a_{0\\beta}\n",
      " + -1.789812854553208e-18 * a^{0\\beta}a_{1\\beta}a^{1\\alpha}a^{1\\beta}a_{0\\beta}a_{0\\alpha}\n",
      " + -1.789812854553208e-18 * a^{0\\beta}a_{1\\beta}a^{1\\beta}a^{1\\alpha}a_{0\\alpha}a_{0\\beta}\n",
      " + -1.9105086608426704e-18 * a^{0\\alpha}a^{1\\beta}a_{1\\beta}a_{1\\alpha}a^{1\\alpha}a^{1\\beta}a_{0\\beta}a_{0\\alpha}\n",
      " + -1.9105086608426704e-18 * a^{0\\alpha}a^{1\\beta}a_{1\\beta}a_{1\\alpha}a^{1\\beta}a^{1\\alpha}a_{0\\alpha}a_{0\\beta}\n",
      " + -1.9105086608426704e-18 * a^{0\\beta}a^{1\\alpha}a_{1\\alpha}a_{1\\beta}a^{1\\alpha}a^{1\\beta}a_{0\\beta}a_{0\\alpha}\n",
      " + -1.9105086608426704e-18 * a^{0\\beta}a^{1\\alpha}a_{1\\alpha}a_{1\\beta}a^{1\\beta}a^{1\\alpha}a_{0\\alpha}a_{0\\beta}\n",
      " + -4.776271652106676e-18 * a^{1\\alpha}a^{0\\beta}a_{1\\beta}a_{1\\alpha}a^{1\\alpha}a^{1\\beta}a_{0\\beta}a_{0\\alpha}\n",
      " + -4.776271652106676e-18 * a^{1\\alpha}a^{0\\beta}a_{1\\beta}a_{1\\alpha}a^{1\\beta}a^{1\\alpha}a_{0\\alpha}a_{0\\beta}\n",
      " + 0.02250882584859419 * a^{1\\alpha}a^{1\\beta}a_{0\\beta}a_{0\\alpha}a^{0\\alpha}a^{0\\beta}a_{0\\beta}a_{0\\alpha}\n",
      " + 3.582203739080007e-18 * a^{1\\alpha}a^{1\\beta}a_{0\\beta}a_{0\\alpha}a^{0\\alpha}a^{0\\beta}a_{0\\beta}a_{1\\alpha}\n",
      " + 2.8657629912640058e-18 * a^{1\\alpha}a^{1\\beta}a_{0\\beta}a_{0\\alpha}a^{0\\alpha}a^{0\\beta}a_{1\\beta}a_{0\\alpha}\n",
      " + 0.006453881079145487 * a^{1\\alpha}a^{1\\beta}a_{0\\beta}a_{0\\alpha}a^{0\\alpha}a^{0\\beta}a_{1\\beta}a_{1\\alpha}\n",
      " + 0.02250882584859419 * a^{1\\alpha}a^{1\\beta}a_{0\\beta}a_{0\\alpha}a^{0\\beta}a^{0\\alpha}a_{0\\alpha}a_{0\\beta}\n",
      " + 3.582203739080007e-18 * a^{1\\alpha}a^{1\\beta}a_{0\\beta}a_{0\\alpha}a^{0\\beta}a^{0\\alpha}a_{0\\alpha}a_{1\\beta}\n",
      " + 2.8657629912640058e-18 * a^{1\\alpha}a^{1\\beta}a_{0\\beta}a_{0\\alpha}a^{0\\beta}a^{0\\alpha}a_{1\\alpha}a_{0\\beta}\n",
      " + 0.006453881079145487 * a^{1\\alpha}a^{1\\beta}a_{0\\beta}a_{0\\alpha}a^{0\\beta}a^{0\\alpha}a_{1\\alpha}a_{1\\beta}\n",
      " + -0.02333918543256657 * a^{1\\alpha}a^{1\\beta}a_{1\\beta}a_{1\\alpha}a^{1\\alpha}a^{1\\beta}a_{0\\beta}a_{0\\alpha}\n",
      " + -0.02333918543256657 * a^{1\\alpha}a^{1\\beta}a_{1\\beta}a_{1\\alpha}a^{1\\beta}a^{1\\alpha}a_{0\\alpha}a_{0\\beta}\n",
      " + -4.776271652106676e-18 * a^{1\\beta}a^{0\\alpha}a_{1\\alpha}a_{1\\beta}a^{1\\alpha}a^{1\\beta}a_{0\\beta}a_{0\\alpha}\n",
      " + -4.776271652106676e-18 * a^{1\\beta}a^{0\\alpha}a_{1\\alpha}a_{1\\beta}a^{1\\beta}a^{1\\alpha}a_{0\\alpha}a_{0\\beta}\n",
      " + 0.02250882584859419 * a^{1\\beta}a^{1\\alpha}a_{0\\alpha}a_{0\\beta}a^{0\\alpha}a^{0\\beta}a_{0\\beta}a_{0\\alpha}\n",
      " + 3.582203739080007e-18 * a^{1\\beta}a^{1\\alpha}a_{0\\alpha}a_{0\\beta}a^{0\\alpha}a^{0\\beta}a_{0\\beta}a_{1\\alpha}\n",
      " + 2.8657629912640058e-18 * a^{1\\beta}a^{1\\alpha}a_{0\\alpha}a_{0\\beta}a^{0\\alpha}a^{0\\beta}a_{1\\beta}a_{0\\alpha}\n",
      " + 0.006453881079145487 * a^{1\\beta}a^{1\\alpha}a_{0\\alpha}a_{0\\beta}a^{0\\alpha}a^{0\\beta}a_{1\\beta}a_{1\\alpha}\n",
      " + 0.02250882584859419 * a^{1\\beta}a^{1\\alpha}a_{0\\alpha}a_{0\\beta}a^{0\\beta}a^{0\\alpha}a_{0\\alpha}a_{0\\beta}\n",
      " + 3.582203739080007e-18 * a^{1\\beta}a^{1\\alpha}a_{0\\alpha}a_{0\\beta}a^{0\\beta}a^{0\\alpha}a_{0\\alpha}a_{1\\beta}\n",
      " + 2.8657629912640058e-18 * a^{1\\beta}a^{1\\alpha}a_{0\\alpha}a_{0\\beta}a^{0\\beta}a^{0\\alpha}a_{1\\alpha}a_{0\\beta}\n",
      " + 0.006453881079145487 * a^{1\\beta}a^{1\\alpha}a_{0\\alpha}a_{0\\beta}a^{0\\beta}a^{0\\alpha}a_{1\\alpha}a_{1\\beta}\n",
      " + -0.02333918543256657 * a^{1\\beta}a^{1\\alpha}a_{1\\alpha}a_{1\\beta}a^{1\\alpha}a^{1\\beta}a_{0\\beta}a_{0\\alpha}\n",
      " + -0.02333918543256657 * a^{1\\beta}a^{1\\alpha}a_{1\\alpha}a_{1\\beta}a^{1\\beta}a^{1\\alpha}a_{0\\alpha}a_{0\\beta}\n",
      " + -0.006453881079145487 * a^{0\\alpha}a^{0\\beta}a_{1\\beta}a_{1\\alpha}a^{1\\alpha}a^{1\\beta}a_{0\\beta}a_{0\\alpha}\n",
      " + -0.006453881079145487 * a^{0\\alpha}a^{0\\beta}a_{1\\beta}a_{1\\alpha}a^{1\\beta}a^{1\\alpha}a_{0\\alpha}a_{0\\beta}\n",
      " + -0.006453881079145487 * a^{0\\beta}a^{0\\alpha}a_{1\\alpha}a_{1\\beta}a^{1\\alpha}a^{1\\beta}a_{0\\beta}a_{0\\alpha}\n",
      " + -0.006453881079145487 * a^{0\\beta}a^{0\\alpha}a_{1\\alpha}a_{1\\beta}a^{1\\beta}a^{1\\alpha}a_{0\\alpha}a_{0\\beta}\n",
      " + -0.00044424211799855707 * a^{1\\alpha}a^{1\\beta}a_{0\\beta}a_{0\\alpha}a^{0\\alpha}a^{0\\beta}a_{1\\beta}a_{1\\alpha}a^{1\\alpha}a^{1\\beta}a_{0\\beta}a_{0\\alpha}\n",
      " + -0.00044424211799855707 * a^{1\\alpha}a^{1\\beta}a_{0\\beta}a_{0\\alpha}a^{0\\alpha}a^{0\\beta}a_{1\\beta}a_{1\\alpha}a^{1\\beta}a^{1\\alpha}a_{0\\alpha}a_{0\\beta}\n",
      " + -0.00044424211799855707 * a^{1\\alpha}a^{1\\beta}a_{0\\beta}a_{0\\alpha}a^{0\\beta}a^{0\\alpha}a_{1\\alpha}a_{1\\beta}a^{1\\alpha}a^{1\\beta}a_{0\\beta}a_{0\\alpha}\n",
      " + -0.00044424211799855707 * a^{1\\alpha}a^{1\\beta}a_{0\\beta}a_{0\\alpha}a^{0\\beta}a^{0\\alpha}a_{1\\alpha}a_{1\\beta}a^{1\\beta}a^{1\\alpha}a_{0\\alpha}a_{0\\beta}\n",
      " + -0.00044424211799855707 * a^{1\\beta}a^{1\\alpha}a_{0\\alpha}a_{0\\beta}a^{0\\alpha}a^{0\\beta}a_{1\\beta}a_{1\\alpha}a^{1\\alpha}a^{1\\beta}a_{0\\beta}a_{0\\alpha}\n",
      " + -0.00044424211799855707 * a^{1\\beta}a^{1\\alpha}a_{0\\alpha}a_{0\\beta}a^{0\\alpha}a^{0\\beta}a_{1\\beta}a_{1\\alpha}a^{1\\beta}a^{1\\alpha}a_{0\\alpha}a_{0\\beta}\n",
      " + -0.00044424211799855707 * a^{1\\beta}a^{1\\alpha}a_{0\\alpha}a_{0\\beta}a^{0\\beta}a^{0\\alpha}a_{1\\alpha}a_{1\\beta}a^{1\\alpha}a^{1\\beta}a_{0\\beta}a_{0\\alpha}\n",
      " + -0.00044424211799855707 * a^{1\\beta}a^{1\\alpha}a_{0\\alpha}a_{0\\beta}a^{0\\beta}a^{0\\alpha}a_{1\\alpha}a_{1\\beta}a^{1\\beta}a^{1\\alpha}a_{0\\alpha}a_{0\\beta}\n"
     ]
    }
   ],
   "source": [
    "bch = BCHSimilarityTransform(h1Operator + h2Operator, 0.25 * clusterDoubles, 4)\n",
    "bch.checkNilpotency()\n",
    "print(bch)"
   ]
  },
  {
   "cell_type": "code",
   "execution_count": 62,
   "metadata": {},
   "outputs": [
    {
     "name": "stdout",
     "output_type": "stream",
     "text": [
      "0.09376099045135429 * a^{0\\alpha}a^{0\\beta}a_{1\\beta}a_{1\\alpha}a^{1\\alpha}a^{1\\beta}a_{0\\beta}a_{0\\alpha}\n",
      "0.09376099045135429 * a^{0\\alpha}a^{0\\beta}a_{1\\beta}a_{1\\alpha}a^{1\\beta}a^{1\\alpha}a_{0\\alpha}a_{0\\beta}\n",
      "0.09376099045135429 * a^{0\\beta}a^{0\\alpha}a_{1\\alpha}a_{1\\beta}a^{1\\alpha}a^{1\\beta}a_{0\\beta}a_{0\\alpha}\n",
      "0.09376099045135429 * a^{0\\beta}a^{0\\alpha}a_{1\\alpha}a_{1\\beta}a^{1\\beta}a^{1\\alpha}a_{0\\alpha}a_{0\\beta}\n",
      "-0.08190137878739176 * a^{0\\alpha}a^{0\\beta}a_{1\\beta}a_{1\\alpha}a^{1\\alpha}a^{1\\beta}a_{0\\beta}a_{0\\alpha}a^{0\\alpha}a_{0\\alpha}\n",
      "-0.08190137878739176 * a^{0\\alpha}a^{0\\beta}a_{1\\beta}a_{1\\alpha}a^{1\\alpha}a^{1\\beta}a_{0\\beta}a_{0\\alpha}a^{0\\beta}a_{0\\beta}\n",
      "0.03673972738168411 * a^{0\\alpha}a^{0\\beta}a_{1\\beta}a_{1\\alpha}a^{1\\alpha}a_{1\\alpha}a^{1\\alpha}a^{1\\beta}a_{0\\beta}a_{0\\alpha}\n",
      "0.03673972738168411 * a^{0\\alpha}a^{0\\beta}a_{1\\beta}a_{1\\alpha}a^{1\\alpha}a_{1\\alpha}a^{1\\beta}a^{1\\alpha}a_{0\\alpha}a_{0\\beta}\n",
      "-0.08190137878739176 * a^{0\\alpha}a^{0\\beta}a_{1\\beta}a_{1\\alpha}a^{1\\beta}a^{1\\alpha}a_{0\\alpha}a_{0\\beta}a^{0\\alpha}a_{0\\alpha}\n",
      "-0.08190137878739176 * a^{0\\alpha}a^{0\\beta}a_{1\\beta}a_{1\\alpha}a^{1\\beta}a^{1\\alpha}a_{0\\alpha}a_{0\\beta}a^{0\\beta}a_{0\\beta}\n",
      "0.03673972738168411 * a^{0\\alpha}a^{0\\beta}a_{1\\beta}a_{1\\alpha}a^{1\\beta}a_{1\\beta}a^{1\\alpha}a^{1\\beta}a_{0\\beta}a_{0\\alpha}\n",
      "0.03673972738168411 * a^{0\\alpha}a^{0\\beta}a_{1\\beta}a_{1\\alpha}a^{1\\beta}a_{1\\beta}a^{1\\beta}a^{1\\alpha}a_{0\\alpha}a_{0\\beta}\n",
      "-0.08190137878739176 * a^{0\\beta}a^{0\\alpha}a_{1\\alpha}a_{1\\beta}a^{1\\alpha}a^{1\\beta}a_{0\\beta}a_{0\\alpha}a^{0\\alpha}a_{0\\alpha}\n",
      "-0.08190137878739176 * a^{0\\beta}a^{0\\alpha}a_{1\\alpha}a_{1\\beta}a^{1\\alpha}a^{1\\beta}a_{0\\beta}a_{0\\alpha}a^{0\\beta}a_{0\\beta}\n",
      "0.03673972738168411 * a^{0\\beta}a^{0\\alpha}a_{1\\alpha}a_{1\\beta}a^{1\\alpha}a_{1\\alpha}a^{1\\alpha}a^{1\\beta}a_{0\\beta}a_{0\\alpha}\n",
      "0.03673972738168411 * a^{0\\beta}a^{0\\alpha}a_{1\\alpha}a_{1\\beta}a^{1\\alpha}a_{1\\alpha}a^{1\\beta}a^{1\\alpha}a_{0\\alpha}a_{0\\beta}\n",
      "-0.08190137878739176 * a^{0\\beta}a^{0\\alpha}a_{1\\alpha}a_{1\\beta}a^{1\\beta}a^{1\\alpha}a_{0\\alpha}a_{0\\beta}a^{0\\alpha}a_{0\\alpha}\n",
      "-0.08190137878739176 * a^{0\\beta}a^{0\\alpha}a_{1\\alpha}a_{1\\beta}a^{1\\beta}a^{1\\alpha}a_{0\\alpha}a_{0\\beta}a^{0\\beta}a_{0\\beta}\n",
      "0.03673972738168411 * a^{0\\beta}a^{0\\alpha}a_{1\\alpha}a_{1\\beta}a^{1\\beta}a_{1\\beta}a^{1\\alpha}a^{1\\beta}a_{0\\beta}a_{0\\alpha}\n",
      "0.03673972738168411 * a^{0\\beta}a^{0\\alpha}a_{1\\alpha}a_{1\\beta}a^{1\\beta}a_{1\\beta}a^{1\\beta}a^{1\\alpha}a_{0\\alpha}a_{0\\beta}\n",
      "0.02250882584859419 * a^{0\\alpha}a^{0\\beta}a_{1\\beta}a_{1\\alpha}a^{1\\alpha}a^{1\\beta}a_{0\\beta}a_{0\\alpha}a^{0\\alpha}a^{0\\beta}a_{0\\beta}a_{0\\alpha}\n",
      "0.02250882584859419 * a^{0\\alpha}a^{0\\beta}a_{1\\beta}a_{1\\alpha}a^{1\\alpha}a^{1\\beta}a_{0\\beta}a_{0\\alpha}a^{0\\beta}a^{0\\alpha}a_{0\\alpha}a_{0\\beta}\n",
      "-0.02333918543256657 * a^{0\\alpha}a^{0\\beta}a_{1\\beta}a_{1\\alpha}a^{1\\alpha}a^{1\\beta}a_{1\\beta}a_{1\\alpha}a^{1\\alpha}a^{1\\beta}a_{0\\beta}a_{0\\alpha}\n",
      "-0.02333918543256657 * a^{0\\alpha}a^{0\\beta}a_{1\\beta}a_{1\\alpha}a^{1\\alpha}a^{1\\beta}a_{1\\beta}a_{1\\alpha}a^{1\\beta}a^{1\\alpha}a_{0\\alpha}a_{0\\beta}\n",
      "0.02250882584859419 * a^{0\\alpha}a^{0\\beta}a_{1\\beta}a_{1\\alpha}a^{1\\beta}a^{1\\alpha}a_{0\\alpha}a_{0\\beta}a^{0\\alpha}a^{0\\beta}a_{0\\beta}a_{0\\alpha}\n",
      "0.02250882584859419 * a^{0\\alpha}a^{0\\beta}a_{1\\beta}a_{1\\alpha}a^{1\\beta}a^{1\\alpha}a_{0\\alpha}a_{0\\beta}a^{0\\beta}a^{0\\alpha}a_{0\\alpha}a_{0\\beta}\n",
      "-0.02333918543256657 * a^{0\\alpha}a^{0\\beta}a_{1\\beta}a_{1\\alpha}a^{1\\beta}a^{1\\alpha}a_{1\\alpha}a_{1\\beta}a^{1\\alpha}a^{1\\beta}a_{0\\beta}a_{0\\alpha}\n",
      "-0.02333918543256657 * a^{0\\alpha}a^{0\\beta}a_{1\\beta}a_{1\\alpha}a^{1\\beta}a^{1\\alpha}a_{1\\alpha}a_{1\\beta}a^{1\\beta}a^{1\\alpha}a_{0\\alpha}a_{0\\beta}\n",
      "0.02250882584859419 * a^{0\\beta}a^{0\\alpha}a_{1\\alpha}a_{1\\beta}a^{1\\alpha}a^{1\\beta}a_{0\\beta}a_{0\\alpha}a^{0\\alpha}a^{0\\beta}a_{0\\beta}a_{0\\alpha}\n",
      "0.02250882584859419 * a^{0\\beta}a^{0\\alpha}a_{1\\alpha}a_{1\\beta}a^{1\\alpha}a^{1\\beta}a_{0\\beta}a_{0\\alpha}a^{0\\beta}a^{0\\alpha}a_{0\\alpha}a_{0\\beta}\n",
      "-0.02333918543256657 * a^{0\\beta}a^{0\\alpha}a_{1\\alpha}a_{1\\beta}a^{1\\alpha}a^{1\\beta}a_{1\\beta}a_{1\\alpha}a^{1\\alpha}a^{1\\beta}a_{0\\beta}a_{0\\alpha}\n",
      "-0.02333918543256657 * a^{0\\beta}a^{0\\alpha}a_{1\\alpha}a_{1\\beta}a^{1\\alpha}a^{1\\beta}a_{1\\beta}a_{1\\alpha}a^{1\\beta}a^{1\\alpha}a_{0\\alpha}a_{0\\beta}\n",
      "0.02250882584859419 * a^{0\\beta}a^{0\\alpha}a_{1\\alpha}a_{1\\beta}a^{1\\beta}a^{1\\alpha}a_{0\\alpha}a_{0\\beta}a^{0\\alpha}a^{0\\beta}a_{0\\beta}a_{0\\alpha}\n",
      "0.02250882584859419 * a^{0\\beta}a^{0\\alpha}a_{1\\alpha}a_{1\\beta}a^{1\\beta}a^{1\\alpha}a_{0\\alpha}a_{0\\beta}a^{0\\beta}a^{0\\alpha}a_{0\\alpha}a_{0\\beta}\n",
      "-0.02333918543256657 * a^{0\\beta}a^{0\\alpha}a_{1\\alpha}a_{1\\beta}a^{1\\beta}a^{1\\alpha}a_{1\\alpha}a_{1\\beta}a^{1\\alpha}a^{1\\beta}a_{0\\beta}a_{0\\alpha}\n",
      "-0.02333918543256657 * a^{0\\beta}a^{0\\alpha}a_{1\\alpha}a_{1\\beta}a^{1\\beta}a^{1\\alpha}a_{1\\alpha}a_{1\\beta}a^{1\\beta}a^{1\\alpha}a_{0\\alpha}a_{0\\beta}\n",
      "-0.00044424211799855707 * a^{0\\alpha}a^{0\\beta}a_{1\\beta}a_{1\\alpha}a^{1\\alpha}a^{1\\beta}a_{0\\beta}a_{0\\alpha}a^{0\\alpha}a^{0\\beta}a_{1\\beta}a_{1\\alpha}a^{1\\alpha}a^{1\\beta}a_{0\\beta}a_{0\\alpha}\n",
      "-0.00044424211799855707 * a^{0\\alpha}a^{0\\beta}a_{1\\beta}a_{1\\alpha}a^{1\\alpha}a^{1\\beta}a_{0\\beta}a_{0\\alpha}a^{0\\alpha}a^{0\\beta}a_{1\\beta}a_{1\\alpha}a^{1\\beta}a^{1\\alpha}a_{0\\alpha}a_{0\\beta}\n",
      "-0.00044424211799855707 * a^{0\\alpha}a^{0\\beta}a_{1\\beta}a_{1\\alpha}a^{1\\alpha}a^{1\\beta}a_{0\\beta}a_{0\\alpha}a^{0\\beta}a^{0\\alpha}a_{1\\alpha}a_{1\\beta}a^{1\\alpha}a^{1\\beta}a_{0\\beta}a_{0\\alpha}\n",
      "-0.00044424211799855707 * a^{0\\alpha}a^{0\\beta}a_{1\\beta}a_{1\\alpha}a^{1\\alpha}a^{1\\beta}a_{0\\beta}a_{0\\alpha}a^{0\\beta}a^{0\\alpha}a_{1\\alpha}a_{1\\beta}a^{1\\beta}a^{1\\alpha}a_{0\\alpha}a_{0\\beta}\n",
      "-0.00044424211799855707 * a^{0\\alpha}a^{0\\beta}a_{1\\beta}a_{1\\alpha}a^{1\\beta}a^{1\\alpha}a_{0\\alpha}a_{0\\beta}a^{0\\alpha}a^{0\\beta}a_{1\\beta}a_{1\\alpha}a^{1\\alpha}a^{1\\beta}a_{0\\beta}a_{0\\alpha}\n",
      "-0.00044424211799855707 * a^{0\\alpha}a^{0\\beta}a_{1\\beta}a_{1\\alpha}a^{1\\beta}a^{1\\alpha}a_{0\\alpha}a_{0\\beta}a^{0\\alpha}a^{0\\beta}a_{1\\beta}a_{1\\alpha}a^{1\\beta}a^{1\\alpha}a_{0\\alpha}a_{0\\beta}\n",
      "-0.00044424211799855707 * a^{0\\alpha}a^{0\\beta}a_{1\\beta}a_{1\\alpha}a^{1\\beta}a^{1\\alpha}a_{0\\alpha}a_{0\\beta}a^{0\\beta}a^{0\\alpha}a_{1\\alpha}a_{1\\beta}a^{1\\alpha}a^{1\\beta}a_{0\\beta}a_{0\\alpha}\n",
      "-0.00044424211799855707 * a^{0\\alpha}a^{0\\beta}a_{1\\beta}a_{1\\alpha}a^{1\\beta}a^{1\\alpha}a_{0\\alpha}a_{0\\beta}a^{0\\beta}a^{0\\alpha}a_{1\\alpha}a_{1\\beta}a^{1\\beta}a^{1\\alpha}a_{0\\alpha}a_{0\\beta}\n",
      "-0.00044424211799855707 * a^{0\\beta}a^{0\\alpha}a_{1\\alpha}a_{1\\beta}a^{1\\alpha}a^{1\\beta}a_{0\\beta}a_{0\\alpha}a^{0\\alpha}a^{0\\beta}a_{1\\beta}a_{1\\alpha}a^{1\\alpha}a^{1\\beta}a_{0\\beta}a_{0\\alpha}\n",
      "-0.00044424211799855707 * a^{0\\beta}a^{0\\alpha}a_{1\\alpha}a_{1\\beta}a^{1\\alpha}a^{1\\beta}a_{0\\beta}a_{0\\alpha}a^{0\\alpha}a^{0\\beta}a_{1\\beta}a_{1\\alpha}a^{1\\beta}a^{1\\alpha}a_{0\\alpha}a_{0\\beta}\n",
      "-0.00044424211799855707 * a^{0\\beta}a^{0\\alpha}a_{1\\alpha}a_{1\\beta}a^{1\\alpha}a^{1\\beta}a_{0\\beta}a_{0\\alpha}a^{0\\beta}a^{0\\alpha}a_{1\\alpha}a_{1\\beta}a^{1\\alpha}a^{1\\beta}a_{0\\beta}a_{0\\alpha}\n",
      "-0.00044424211799855707 * a^{0\\beta}a^{0\\alpha}a_{1\\alpha}a_{1\\beta}a^{1\\alpha}a^{1\\beta}a_{0\\beta}a_{0\\alpha}a^{0\\beta}a^{0\\alpha}a_{1\\alpha}a_{1\\beta}a^{1\\beta}a^{1\\alpha}a_{0\\alpha}a_{0\\beta}\n",
      "-0.00044424211799855707 * a^{0\\beta}a^{0\\alpha}a_{1\\alpha}a_{1\\beta}a^{1\\beta}a^{1\\alpha}a_{0\\alpha}a_{0\\beta}a^{0\\alpha}a^{0\\beta}a_{1\\beta}a_{1\\alpha}a^{1\\alpha}a^{1\\beta}a_{0\\beta}a_{0\\alpha}\n",
      "-0.00044424211799855707 * a^{0\\beta}a^{0\\alpha}a_{1\\alpha}a_{1\\beta}a^{1\\beta}a^{1\\alpha}a_{0\\alpha}a_{0\\beta}a^{0\\alpha}a^{0\\beta}a_{1\\beta}a_{1\\alpha}a^{1\\beta}a^{1\\alpha}a_{0\\alpha}a_{0\\beta}\n",
      "-0.00044424211799855707 * a^{0\\beta}a^{0\\alpha}a_{1\\alpha}a_{1\\beta}a^{1\\beta}a^{1\\alpha}a_{0\\alpha}a_{0\\beta}a^{0\\beta}a^{0\\alpha}a_{1\\alpha}a_{1\\beta}a^{1\\alpha}a^{1\\beta}a_{0\\beta}a_{0\\alpha}\n",
      "-0.00044424211799855707 * a^{0\\beta}a^{0\\alpha}a_{1\\alpha}a_{1\\beta}a^{1\\beta}a^{1\\alpha}a_{0\\alpha}a_{0\\beta}a^{0\\beta}a^{0\\alpha}a_{1\\alpha}a_{1\\beta}a^{1\\beta}a^{1\\alpha}a_{0\\alpha}a_{0\\beta}\n",
      "3.2526065174565133e-19\n"
     ]
    }
   ],
   "source": [
    "projected = projectionDoublesOperator * BCHSimilarityTransform(h1Operator + h2Operator, 0.25 * clusterDoubles, 2)\n",
    "amplitudeEq = Wick.vacuumExpectationValue(projected, vacuum, printing=True)\n",
    "print(amplitudeEq)"
   ]
  },
  {
   "cell_type": "code",
   "execution_count": 63,
   "metadata": {},
   "outputs": [
    {
     "name": "stdout",
     "output_type": "stream",
     "text": [
      "0.09376099045135429 * a^{0\\alpha}a^{0\\beta}a_{1\\beta}a_{1\\alpha}a^{1\\alpha}a^{1\\beta}a_{0\\beta}a_{0\\alpha}\n",
      "0.09376099045135429 * a^{0\\alpha}a^{0\\beta}a_{1\\beta}a_{1\\alpha}a^{1\\beta}a^{1\\alpha}a_{0\\alpha}a_{0\\beta}\n",
      "0.09376099045135429 * a^{0\\beta}a^{0\\alpha}a_{1\\alpha}a_{1\\beta}a^{1\\alpha}a^{1\\beta}a_{0\\beta}a_{0\\alpha}\n",
      "0.09376099045135429 * a^{0\\beta}a^{0\\alpha}a_{1\\alpha}a_{1\\beta}a^{1\\beta}a^{1\\alpha}a_{0\\alpha}a_{0\\beta}\n",
      "-0.08190137878739176 * a^{0\\alpha}a^{0\\beta}a_{1\\beta}a_{1\\alpha}a^{1\\alpha}a^{1\\beta}a_{0\\beta}a_{0\\alpha}a^{0\\alpha}a_{0\\alpha}\n",
      "-0.08190137878739176 * a^{0\\alpha}a^{0\\beta}a_{1\\beta}a_{1\\alpha}a^{1\\alpha}a^{1\\beta}a_{0\\beta}a_{0\\alpha}a^{0\\beta}a_{0\\beta}\n",
      "0.03673972738168411 * a^{0\\alpha}a^{0\\beta}a_{1\\beta}a_{1\\alpha}a^{1\\alpha}a_{1\\alpha}a^{1\\alpha}a^{1\\beta}a_{0\\beta}a_{0\\alpha}\n",
      "0.03673972738168411 * a^{0\\alpha}a^{0\\beta}a_{1\\beta}a_{1\\alpha}a^{1\\alpha}a_{1\\alpha}a^{1\\beta}a^{1\\alpha}a_{0\\alpha}a_{0\\beta}\n",
      "-0.08190137878739176 * a^{0\\alpha}a^{0\\beta}a_{1\\beta}a_{1\\alpha}a^{1\\beta}a^{1\\alpha}a_{0\\alpha}a_{0\\beta}a^{0\\alpha}a_{0\\alpha}\n",
      "-0.08190137878739176 * a^{0\\alpha}a^{0\\beta}a_{1\\beta}a_{1\\alpha}a^{1\\beta}a^{1\\alpha}a_{0\\alpha}a_{0\\beta}a^{0\\beta}a_{0\\beta}\n",
      "0.03673972738168411 * a^{0\\alpha}a^{0\\beta}a_{1\\beta}a_{1\\alpha}a^{1\\beta}a_{1\\beta}a^{1\\alpha}a^{1\\beta}a_{0\\beta}a_{0\\alpha}\n",
      "0.03673972738168411 * a^{0\\alpha}a^{0\\beta}a_{1\\beta}a_{1\\alpha}a^{1\\beta}a_{1\\beta}a^{1\\beta}a^{1\\alpha}a_{0\\alpha}a_{0\\beta}\n",
      "-0.08190137878739176 * a^{0\\beta}a^{0\\alpha}a_{1\\alpha}a_{1\\beta}a^{1\\alpha}a^{1\\beta}a_{0\\beta}a_{0\\alpha}a^{0\\alpha}a_{0\\alpha}\n",
      "-0.08190137878739176 * a^{0\\beta}a^{0\\alpha}a_{1\\alpha}a_{1\\beta}a^{1\\alpha}a^{1\\beta}a_{0\\beta}a_{0\\alpha}a^{0\\beta}a_{0\\beta}\n",
      "0.03673972738168411 * a^{0\\beta}a^{0\\alpha}a_{1\\alpha}a_{1\\beta}a^{1\\alpha}a_{1\\alpha}a^{1\\alpha}a^{1\\beta}a_{0\\beta}a_{0\\alpha}\n",
      "0.03673972738168411 * a^{0\\beta}a^{0\\alpha}a_{1\\alpha}a_{1\\beta}a^{1\\alpha}a_{1\\alpha}a^{1\\beta}a^{1\\alpha}a_{0\\alpha}a_{0\\beta}\n",
      "-0.08190137878739176 * a^{0\\beta}a^{0\\alpha}a_{1\\alpha}a_{1\\beta}a^{1\\beta}a^{1\\alpha}a_{0\\alpha}a_{0\\beta}a^{0\\alpha}a_{0\\alpha}\n",
      "-0.08190137878739176 * a^{0\\beta}a^{0\\alpha}a_{1\\alpha}a_{1\\beta}a^{1\\beta}a^{1\\alpha}a_{0\\alpha}a_{0\\beta}a^{0\\beta}a_{0\\beta}\n",
      "0.03673972738168411 * a^{0\\beta}a^{0\\alpha}a_{1\\alpha}a_{1\\beta}a^{1\\beta}a_{1\\beta}a^{1\\alpha}a^{1\\beta}a_{0\\beta}a_{0\\alpha}\n",
      "0.03673972738168411 * a^{0\\beta}a^{0\\alpha}a_{1\\alpha}a_{1\\beta}a^{1\\beta}a_{1\\beta}a^{1\\beta}a^{1\\alpha}a_{0\\alpha}a_{0\\beta}\n",
      "0.02250882584859419 * a^{0\\alpha}a^{0\\beta}a_{1\\beta}a_{1\\alpha}a^{1\\alpha}a^{1\\beta}a_{0\\beta}a_{0\\alpha}a^{0\\alpha}a^{0\\beta}a_{0\\beta}a_{0\\alpha}\n",
      "0.02250882584859419 * a^{0\\alpha}a^{0\\beta}a_{1\\beta}a_{1\\alpha}a^{1\\alpha}a^{1\\beta}a_{0\\beta}a_{0\\alpha}a^{0\\beta}a^{0\\alpha}a_{0\\alpha}a_{0\\beta}\n",
      "-0.02333918543256657 * a^{0\\alpha}a^{0\\beta}a_{1\\beta}a_{1\\alpha}a^{1\\alpha}a^{1\\beta}a_{1\\beta}a_{1\\alpha}a^{1\\alpha}a^{1\\beta}a_{0\\beta}a_{0\\alpha}\n",
      "-0.02333918543256657 * a^{0\\alpha}a^{0\\beta}a_{1\\beta}a_{1\\alpha}a^{1\\alpha}a^{1\\beta}a_{1\\beta}a_{1\\alpha}a^{1\\beta}a^{1\\alpha}a_{0\\alpha}a_{0\\beta}\n",
      "0.02250882584859419 * a^{0\\alpha}a^{0\\beta}a_{1\\beta}a_{1\\alpha}a^{1\\beta}a^{1\\alpha}a_{0\\alpha}a_{0\\beta}a^{0\\alpha}a^{0\\beta}a_{0\\beta}a_{0\\alpha}\n",
      "0.02250882584859419 * a^{0\\alpha}a^{0\\beta}a_{1\\beta}a_{1\\alpha}a^{1\\beta}a^{1\\alpha}a_{0\\alpha}a_{0\\beta}a^{0\\beta}a^{0\\alpha}a_{0\\alpha}a_{0\\beta}\n",
      "-0.02333918543256657 * a^{0\\alpha}a^{0\\beta}a_{1\\beta}a_{1\\alpha}a^{1\\beta}a^{1\\alpha}a_{1\\alpha}a_{1\\beta}a^{1\\alpha}a^{1\\beta}a_{0\\beta}a_{0\\alpha}\n",
      "-0.02333918543256657 * a^{0\\alpha}a^{0\\beta}a_{1\\beta}a_{1\\alpha}a^{1\\beta}a^{1\\alpha}a_{1\\alpha}a_{1\\beta}a^{1\\beta}a^{1\\alpha}a_{0\\alpha}a_{0\\beta}\n",
      "0.02250882584859419 * a^{0\\beta}a^{0\\alpha}a_{1\\alpha}a_{1\\beta}a^{1\\alpha}a^{1\\beta}a_{0\\beta}a_{0\\alpha}a^{0\\alpha}a^{0\\beta}a_{0\\beta}a_{0\\alpha}\n",
      "0.02250882584859419 * a^{0\\beta}a^{0\\alpha}a_{1\\alpha}a_{1\\beta}a^{1\\alpha}a^{1\\beta}a_{0\\beta}a_{0\\alpha}a^{0\\beta}a^{0\\alpha}a_{0\\alpha}a_{0\\beta}\n",
      "-0.02333918543256657 * a^{0\\beta}a^{0\\alpha}a_{1\\alpha}a_{1\\beta}a^{1\\alpha}a^{1\\beta}a_{1\\beta}a_{1\\alpha}a^{1\\alpha}a^{1\\beta}a_{0\\beta}a_{0\\alpha}\n",
      "-0.02333918543256657 * a^{0\\beta}a^{0\\alpha}a_{1\\alpha}a_{1\\beta}a^{1\\alpha}a^{1\\beta}a_{1\\beta}a_{1\\alpha}a^{1\\beta}a^{1\\alpha}a_{0\\alpha}a_{0\\beta}\n",
      "0.02250882584859419 * a^{0\\beta}a^{0\\alpha}a_{1\\alpha}a_{1\\beta}a^{1\\beta}a^{1\\alpha}a_{0\\alpha}a_{0\\beta}a^{0\\alpha}a^{0\\beta}a_{0\\beta}a_{0\\alpha}\n",
      "0.02250882584859419 * a^{0\\beta}a^{0\\alpha}a_{1\\alpha}a_{1\\beta}a^{1\\beta}a^{1\\alpha}a_{0\\alpha}a_{0\\beta}a^{0\\beta}a^{0\\alpha}a_{0\\alpha}a_{0\\beta}\n",
      "-0.02333918543256657 * a^{0\\beta}a^{0\\alpha}a_{1\\alpha}a_{1\\beta}a^{1\\beta}a^{1\\alpha}a_{1\\alpha}a_{1\\beta}a^{1\\alpha}a^{1\\beta}a_{0\\beta}a_{0\\alpha}\n",
      "-0.02333918543256657 * a^{0\\beta}a^{0\\alpha}a_{1\\alpha}a_{1\\beta}a^{1\\beta}a^{1\\alpha}a_{1\\alpha}a_{1\\beta}a^{1\\beta}a^{1\\alpha}a_{0\\alpha}a_{0\\beta}\n",
      "-0.00044424211799855707 * a^{0\\alpha}a^{0\\beta}a_{1\\beta}a_{1\\alpha}a^{1\\alpha}a^{1\\beta}a_{0\\beta}a_{0\\alpha}a^{0\\alpha}a^{0\\beta}a_{1\\beta}a_{1\\alpha}a^{1\\alpha}a^{1\\beta}a_{0\\beta}a_{0\\alpha}\n",
      "-0.00044424211799855707 * a^{0\\alpha}a^{0\\beta}a_{1\\beta}a_{1\\alpha}a^{1\\alpha}a^{1\\beta}a_{0\\beta}a_{0\\alpha}a^{0\\alpha}a^{0\\beta}a_{1\\beta}a_{1\\alpha}a^{1\\beta}a^{1\\alpha}a_{0\\alpha}a_{0\\beta}\n",
      "-0.00044424211799855707 * a^{0\\alpha}a^{0\\beta}a_{1\\beta}a_{1\\alpha}a^{1\\alpha}a^{1\\beta}a_{0\\beta}a_{0\\alpha}a^{0\\beta}a^{0\\alpha}a_{1\\alpha}a_{1\\beta}a^{1\\alpha}a^{1\\beta}a_{0\\beta}a_{0\\alpha}\n",
      "-0.00044424211799855707 * a^{0\\alpha}a^{0\\beta}a_{1\\beta}a_{1\\alpha}a^{1\\alpha}a^{1\\beta}a_{0\\beta}a_{0\\alpha}a^{0\\beta}a^{0\\alpha}a_{1\\alpha}a_{1\\beta}a^{1\\beta}a^{1\\alpha}a_{0\\alpha}a_{0\\beta}\n",
      "-0.00044424211799855707 * a^{0\\alpha}a^{0\\beta}a_{1\\beta}a_{1\\alpha}a^{1\\beta}a^{1\\alpha}a_{0\\alpha}a_{0\\beta}a^{0\\alpha}a^{0\\beta}a_{1\\beta}a_{1\\alpha}a^{1\\alpha}a^{1\\beta}a_{0\\beta}a_{0\\alpha}\n",
      "-0.00044424211799855707 * a^{0\\alpha}a^{0\\beta}a_{1\\beta}a_{1\\alpha}a^{1\\beta}a^{1\\alpha}a_{0\\alpha}a_{0\\beta}a^{0\\alpha}a^{0\\beta}a_{1\\beta}a_{1\\alpha}a^{1\\beta}a^{1\\alpha}a_{0\\alpha}a_{0\\beta}\n",
      "-0.00044424211799855707 * a^{0\\alpha}a^{0\\beta}a_{1\\beta}a_{1\\alpha}a^{1\\beta}a^{1\\alpha}a_{0\\alpha}a_{0\\beta}a^{0\\beta}a^{0\\alpha}a_{1\\alpha}a_{1\\beta}a^{1\\alpha}a^{1\\beta}a_{0\\beta}a_{0\\alpha}\n",
      "-0.00044424211799855707 * a^{0\\alpha}a^{0\\beta}a_{1\\beta}a_{1\\alpha}a^{1\\beta}a^{1\\alpha}a_{0\\alpha}a_{0\\beta}a^{0\\beta}a^{0\\alpha}a_{1\\alpha}a_{1\\beta}a^{1\\beta}a^{1\\alpha}a_{0\\alpha}a_{0\\beta}\n",
      "-0.00044424211799855707 * a^{0\\beta}a^{0\\alpha}a_{1\\alpha}a_{1\\beta}a^{1\\alpha}a^{1\\beta}a_{0\\beta}a_{0\\alpha}a^{0\\alpha}a^{0\\beta}a_{1\\beta}a_{1\\alpha}a^{1\\alpha}a^{1\\beta}a_{0\\beta}a_{0\\alpha}\n",
      "-0.00044424211799855707 * a^{0\\beta}a^{0\\alpha}a_{1\\alpha}a_{1\\beta}a^{1\\alpha}a^{1\\beta}a_{0\\beta}a_{0\\alpha}a^{0\\alpha}a^{0\\beta}a_{1\\beta}a_{1\\alpha}a^{1\\beta}a^{1\\alpha}a_{0\\alpha}a_{0\\beta}\n",
      "-0.00044424211799855707 * a^{0\\beta}a^{0\\alpha}a_{1\\alpha}a_{1\\beta}a^{1\\alpha}a^{1\\beta}a_{0\\beta}a_{0\\alpha}a^{0\\beta}a^{0\\alpha}a_{1\\alpha}a_{1\\beta}a^{1\\alpha}a^{1\\beta}a_{0\\beta}a_{0\\alpha}\n",
      "-0.00044424211799855707 * a^{0\\beta}a^{0\\alpha}a_{1\\alpha}a_{1\\beta}a^{1\\alpha}a^{1\\beta}a_{0\\beta}a_{0\\alpha}a^{0\\beta}a^{0\\alpha}a_{1\\alpha}a_{1\\beta}a^{1\\beta}a^{1\\alpha}a_{0\\alpha}a_{0\\beta}\n",
      "-0.00044424211799855707 * a^{0\\beta}a^{0\\alpha}a_{1\\alpha}a_{1\\beta}a^{1\\beta}a^{1\\alpha}a_{0\\alpha}a_{0\\beta}a^{0\\alpha}a^{0\\beta}a_{1\\beta}a_{1\\alpha}a^{1\\alpha}a^{1\\beta}a_{0\\beta}a_{0\\alpha}\n",
      "-0.00044424211799855707 * a^{0\\beta}a^{0\\alpha}a_{1\\alpha}a_{1\\beta}a^{1\\beta}a^{1\\alpha}a_{0\\alpha}a_{0\\beta}a^{0\\alpha}a^{0\\beta}a_{1\\beta}a_{1\\alpha}a^{1\\beta}a^{1\\alpha}a_{0\\alpha}a_{0\\beta}\n",
      "-0.00044424211799855707 * a^{0\\beta}a^{0\\alpha}a_{1\\alpha}a_{1\\beta}a^{1\\beta}a^{1\\alpha}a_{0\\alpha}a_{0\\beta}a^{0\\beta}a^{0\\alpha}a_{1\\alpha}a_{1\\beta}a^{1\\alpha}a^{1\\beta}a_{0\\beta}a_{0\\alpha}\n",
      "-0.00044424211799855707 * a^{0\\beta}a^{0\\alpha}a_{1\\alpha}a_{1\\beta}a^{1\\beta}a^{1\\alpha}a_{0\\alpha}a_{0\\beta}a^{0\\beta}a^{0\\alpha}a_{1\\alpha}a_{1\\beta}a^{1\\beta}a^{1\\alpha}a_{0\\alpha}a_{0\\beta}\n",
      "3.2526065174565133e-19\n"
     ]
    }
   ],
   "source": [
    "projected.checkNilpotency()\n",
    "amplitudeEq = Wick.vacuumExpectationValue(projected, vacuum, printing=True)\n",
    "print(amplitudeEq)"
   ]
  },
  {
   "cell_type": "code",
   "execution_count": 64,
   "metadata": {},
   "outputs": [
    {
     "data": {
      "text/plain": [
       "-0.275333314977893"
      ]
     },
     "execution_count": 64,
     "metadata": {},
     "output_type": "execute_result"
    }
   ],
   "source": [
    "-0.06883332874447325 * 4"
   ]
  },
  {
   "cell_type": "code",
   "execution_count": 65,
   "metadata": {},
   "outputs": [
    {
     "name": "stdout",
     "output_type": "stream",
     "text": [
      "0.0\n",
      " + 0.0\n",
      " + 0.0\n",
      " + 0.0\n",
      " + 0.3270047556780619 * a^{0\\alpha}a^{0\\beta}a_{0\\beta}a_{0\\alpha}\n",
      " + 5.204170427930421e-17 * a^{0\\alpha}a^{0\\beta}a_{0\\beta}a_{1\\alpha}\n",
      " + 4.163336342344337e-17 * a^{0\\alpha}a^{0\\beta}a_{1\\beta}a_{0\\alpha}\n",
      " + 0.09376099045135429 * a^{0\\alpha}a^{0\\beta}a_{1\\beta}a_{1\\alpha}\n",
      " + 4.163336342344337e-17 * a^{0\\alpha}a^{1\\alpha}a_{0\\alpha}a_{0\\alpha}\n",
      " + 0.3226247132942424 * a^{0\\alpha}a^{1\\alpha}a_{1\\alpha}a_{0\\alpha}\n",
      " + 2.7755575615628914e-17 * a^{0\\alpha}a^{1\\alpha}a_{1\\alpha}a_{1\\alpha}\n",
      " + 4.163336342344337e-17 * a^{0\\alpha}a^{1\\beta}a_{0\\beta}a_{0\\alpha}\n",
      " + 0.3226247132942424 * a^{0\\alpha}a^{1\\beta}a_{1\\beta}a_{0\\alpha}\n",
      " + 2.7755575615628914e-17 * a^{0\\alpha}a^{1\\beta}a_{1\\beta}a_{1\\alpha}\n",
      " + 0.3270047556780619 * a^{0\\beta}a^{0\\alpha}a_{0\\alpha}a_{0\\beta}\n",
      " + 5.204170427930421e-17 * a^{0\\beta}a^{0\\alpha}a_{0\\alpha}a_{1\\beta}\n",
      " + 4.163336342344337e-17 * a^{0\\beta}a^{0\\alpha}a_{1\\alpha}a_{0\\beta}\n",
      " + 0.09376099045135429 * a^{0\\beta}a^{0\\alpha}a_{1\\alpha}a_{1\\beta}\n",
      " + 0.3270047556780619 * a^{0\\beta}a^{0\\beta}a_{0\\beta}a_{0\\beta}\n",
      " + 5.204170427930421e-17 * a^{0\\beta}a^{0\\beta}a_{0\\beta}a_{1\\beta}\n",
      " + 4.163336342344337e-17 * a^{0\\beta}a^{0\\beta}a_{1\\beta}a_{0\\beta}\n",
      " + 0.09376099045135429 * a^{0\\beta}a^{0\\beta}a_{1\\beta}a_{1\\beta}\n",
      " + 4.163336342344337e-17 * a^{0\\beta}a^{1\\alpha}a_{0\\alpha}a_{0\\beta}\n",
      " + 0.3226247132942424 * a^{0\\beta}a^{1\\alpha}a_{1\\alpha}a_{0\\beta}\n",
      " + 2.7755575615628914e-17 * a^{0\\beta}a^{1\\alpha}a_{1\\alpha}a_{1\\beta}\n",
      " + 4.163336342344337e-17 * a^{0\\beta}a^{1\\beta}a_{0\\beta}a_{0\\beta}\n",
      " + 0.3226247132942424 * a^{0\\beta}a^{1\\beta}a_{1\\beta}a_{0\\beta}\n",
      " + 2.7755575615628914e-17 * a^{0\\beta}a^{1\\beta}a_{1\\beta}a_{1\\beta}\n",
      " + 5.204170427930421e-17 * a^{1\\alpha}a^{0\\alpha}a_{0\\alpha}a_{0\\alpha}\n",
      " + 0.3226247132942422 * a^{1\\alpha}a^{0\\alpha}a_{0\\alpha}a_{1\\alpha}\n",
      " + 6.938893903907228e-17 * a^{1\\alpha}a^{0\\alpha}a_{1\\alpha}a_{1\\alpha}\n",
      " + 5.204170427930421e-17 * a^{1\\alpha}a^{0\\beta}a_{0\\beta}a_{0\\alpha}\n",
      " + 0.3226247132942422 * a^{1\\alpha}a^{0\\beta}a_{0\\beta}a_{1\\alpha}\n",
      " + 6.938893903907228e-17 * a^{1\\alpha}a^{0\\beta}a_{1\\beta}a_{1\\alpha}\n",
      " + 0.09376099045135429 * a^{1\\alpha}a^{1\\alpha}a_{0\\alpha}a_{0\\alpha}\n",
      " + 6.938893903907228e-17 * a^{1\\alpha}a^{1\\alpha}a_{0\\alpha}a_{1\\alpha}\n",
      " + 2.7755575615628914e-17 * a^{1\\alpha}a^{1\\alpha}a_{1\\alpha}a_{0\\alpha}\n",
      " + 0.33906809184265285 * a^{1\\alpha}a^{1\\alpha}a_{1\\alpha}a_{1\\alpha}\n",
      " + 0.09376099045135429 * a^{1\\alpha}a^{1\\beta}a_{0\\beta}a_{0\\alpha}\n",
      " + 6.938893903907228e-17 * a^{1\\alpha}a^{1\\beta}a_{0\\beta}a_{1\\alpha}\n",
      " + 2.7755575615628914e-17 * a^{1\\alpha}a^{1\\beta}a_{1\\beta}a_{0\\alpha}\n",
      " + 0.33906809184265285 * a^{1\\alpha}a^{1\\beta}a_{1\\beta}a_{1\\alpha}\n",
      " + 5.204170427930421e-17 * a^{1\\beta}a^{0\\alpha}a_{0\\alpha}a_{0\\beta}\n",
      " + 0.3226247132942422 * a^{1\\beta}a^{0\\alpha}a_{0\\alpha}a_{1\\beta}\n",
      " + 6.938893903907228e-17 * a^{1\\beta}a^{0\\alpha}a_{1\\alpha}a_{1\\beta}\n",
      " + 5.204170427930421e-17 * a^{1\\beta}a^{0\\beta}a_{0\\beta}a_{0\\beta}\n",
      " + 0.3226247132942422 * a^{1\\beta}a^{0\\beta}a_{0\\beta}a_{1\\beta}\n",
      " + 6.938893903907228e-17 * a^{1\\beta}a^{0\\beta}a_{1\\beta}a_{1\\beta}\n",
      " + 0.09376099045135429 * a^{1\\beta}a^{1\\alpha}a_{0\\alpha}a_{0\\beta}\n",
      " + 6.938893903907228e-17 * a^{1\\beta}a^{1\\alpha}a_{0\\alpha}a_{1\\beta}\n",
      " + 2.7755575615628914e-17 * a^{1\\beta}a^{1\\alpha}a_{1\\alpha}a_{0\\beta}\n",
      " + 0.33906809184265285 * a^{1\\beta}a^{1\\alpha}a_{1\\alpha}a_{1\\beta}\n",
      " + 0.09376099045135429 * a^{1\\beta}a^{1\\beta}a_{0\\beta}a_{0\\beta}\n",
      " + 6.938893903907228e-17 * a^{1\\beta}a^{1\\beta}a_{0\\beta}a_{1\\beta}\n",
      " + 2.7755575615628914e-17 * a^{1\\beta}a^{1\\beta}a_{1\\beta}a_{0\\beta}\n",
      " + 0.33906809184265285 * a^{1\\beta}a^{1\\beta}a_{1\\beta}a_{1\\beta}\n"
     ]
    }
   ],
   "source": [
    "print(h2Operator)"
   ]
  },
  {
   "cell_type": "markdown",
   "metadata": {},
   "source": [
    "Difference is in the linear part of the amplitude equations with the 2-body part of the Hamiltonian"
   ]
  },
  {
   "cell_type": "code",
   "execution_count": 66,
   "metadata": {},
   "outputs": [
    {
     "name": "stdout",
     "output_type": "stream",
     "text": [
      "-0.25 * \\Phi_{h_{0}h_{1}}^{p_{0}p_{1}}v_{h_{2}h_{3}}^{h_{1}h_{0}}{t_{2}}_{p_{1}p_{0}}^{h_{3}h_{2}}\n",
      " + 0.5 * \\Phi_{h_{0}h_{1}}^{p_{0}p_{1}}v_{h_{2}h_{3}}^{h_{1}h_{0}}{t_{2}}_{p_{1}p_{0}}^{h_{2}h_{3}}\n",
      " + 0.5 * \\Phi_{h_{0}h_{1}}^{p_{0}p_{1}}v_{h_{2}h_{3}}^{h_{1}h_{0}}{t_{2}}_{p_{0}p_{1}}^{h_{3}h_{2}}\n",
      " + -0.25 * \\Phi_{h_{0}h_{1}}^{p_{0}p_{1}}v_{h_{2}h_{3}}^{h_{1}h_{0}}{t_{2}}_{p_{0}p_{1}}^{h_{2}h_{3}}\n",
      " + 0.5 * \\Phi_{h_{0}h_{1}}^{p_{0}p_{1}}v_{h_{2}h_{3}}^{h_{0}h_{1}}{t_{2}}_{p_{1}p_{0}}^{h_{3}h_{2}}\n",
      " + -0.25 * \\Phi_{h_{0}h_{1}}^{p_{0}p_{1}}v_{h_{2}h_{3}}^{h_{0}h_{1}}{t_{2}}_{p_{1}p_{0}}^{h_{2}h_{3}}\n",
      " + -0.25 * \\Phi_{h_{0}h_{1}}^{p_{0}p_{1}}v_{h_{2}h_{3}}^{h_{0}h_{1}}{t_{2}}_{p_{0}p_{1}}^{h_{3}h_{2}}\n",
      " + 0.5 * \\Phi_{h_{0}h_{1}}^{p_{0}p_{1}}v_{h_{2}h_{3}}^{h_{0}h_{1}}{t_{2}}_{p_{0}p_{1}}^{h_{2}h_{3}}\n",
      " + -0.5 * \\Phi_{h_{0}h_{1}}^{p_{0}p_{1}}v_{h_{2}p_{1}}^{h_{0}p_{3}}{t_{2}}_{p_{0}p_{3}}^{h_{2}h_{1}}\n",
      " + 0.25 * \\Phi_{h_{0}h_{1}}^{p_{0}p_{1}}v_{h_{2}p_{1}}^{h_{0}p_{3}}{t_{2}}_{p_{3}p_{0}}^{h_{2}h_{1}}\n",
      " + 0.25 * \\Phi_{h_{0}h_{1}}^{p_{0}p_{1}}v_{h_{2}p_{0}}^{h_{0}p_{3}}{t_{2}}_{p_{1}p_{3}}^{h_{2}h_{1}}\n",
      " + -0.5 * \\Phi_{h_{0}h_{1}}^{p_{0}p_{1}}v_{h_{2}p_{0}}^{h_{0}p_{3}}{t_{2}}_{p_{3}p_{1}}^{h_{2}h_{1}}\n",
      " + 0.25 * \\Phi_{h_{0}h_{1}}^{p_{0}p_{1}}v_{h_{2}p_{1}}^{h_{0}p_{3}}{t_{2}}_{p_{0}p_{3}}^{h_{1}h_{2}}\n",
      " + -0.5 * \\Phi_{h_{0}h_{1}}^{p_{0}p_{1}}v_{h_{2}p_{1}}^{h_{0}p_{3}}{t_{2}}_{p_{3}p_{0}}^{h_{1}h_{2}}\n",
      " + -0.5 * \\Phi_{h_{0}h_{1}}^{p_{0}p_{1}}v_{h_{2}p_{0}}^{h_{0}p_{3}}{t_{2}}_{p_{1}p_{3}}^{h_{1}h_{2}}\n",
      " + 0.25 * \\Phi_{h_{0}h_{1}}^{p_{0}p_{1}}v_{h_{2}p_{0}}^{h_{0}p_{3}}{t_{2}}_{p_{3}p_{1}}^{h_{1}h_{2}}\n",
      " + 0.25 * \\Phi_{h_{0}h_{1}}^{p_{0}p_{1}}v_{h_{2}p_{1}}^{h_{1}p_{3}}{t_{2}}_{p_{0}p_{3}}^{h_{2}h_{0}}\n",
      " + -0.5 * \\Phi_{h_{0}h_{1}}^{p_{0}p_{1}}v_{h_{2}p_{1}}^{h_{1}p_{3}}{t_{2}}_{p_{3}p_{0}}^{h_{2}h_{0}}\n",
      " + -0.5 * \\Phi_{h_{0}h_{1}}^{p_{0}p_{1}}v_{h_{2}p_{0}}^{h_{1}p_{3}}{t_{2}}_{p_{1}p_{3}}^{h_{2}h_{0}}\n",
      " + 0.25 * \\Phi_{h_{0}h_{1}}^{p_{0}p_{1}}v_{h_{2}p_{0}}^{h_{1}p_{3}}{t_{2}}_{p_{3}p_{1}}^{h_{2}h_{0}}\n",
      " + -0.5 * \\Phi_{h_{0}h_{1}}^{p_{0}p_{1}}v_{h_{2}p_{1}}^{h_{1}p_{3}}{t_{2}}_{p_{0}p_{3}}^{h_{0}h_{2}}\n",
      " + 0.25 * \\Phi_{h_{0}h_{1}}^{p_{0}p_{1}}v_{h_{2}p_{1}}^{h_{1}p_{3}}{t_{2}}_{p_{3}p_{0}}^{h_{0}h_{2}}\n",
      " + 0.25 * \\Phi_{h_{0}h_{1}}^{p_{0}p_{1}}v_{h_{2}p_{0}}^{h_{1}p_{3}}{t_{2}}_{p_{1}p_{3}}^{h_{0}h_{2}}\n",
      " + -0.5 * \\Phi_{h_{0}h_{1}}^{p_{0}p_{1}}v_{h_{2}p_{0}}^{h_{1}p_{3}}{t_{2}}_{p_{3}p_{1}}^{h_{0}h_{2}}\n",
      " + 0.25 * \\Phi_{h_{0}h_{1}}^{p_{0}p_{1}}v_{h_{2}p_{1}}^{p_{3}h_{0}}{t_{2}}_{p_{0}p_{3}}^{h_{2}h_{1}}\n",
      " + -0.5 * \\Phi_{h_{0}h_{1}}^{p_{0}p_{1}}v_{h_{2}p_{1}}^{p_{3}h_{0}}{t_{2}}_{p_{3}p_{0}}^{h_{2}h_{1}}\n",
      " + -0.5 * \\Phi_{h_{0}h_{1}}^{p_{0}p_{1}}v_{h_{2}p_{0}}^{p_{3}h_{0}}{t_{2}}_{p_{1}p_{3}}^{h_{2}h_{1}}\n",
      " + 1.0 * \\Phi_{h_{0}h_{1}}^{p_{0}p_{1}}v_{h_{2}p_{0}}^{p_{3}h_{0}}{t_{2}}_{p_{3}p_{1}}^{h_{2}h_{1}}\n",
      " + -0.5 * \\Phi_{h_{0}h_{1}}^{p_{0}p_{1}}v_{h_{2}p_{1}}^{p_{3}h_{0}}{t_{2}}_{p_{0}p_{3}}^{h_{1}h_{2}}\n",
      " + 0.25 * \\Phi_{h_{0}h_{1}}^{p_{0}p_{1}}v_{h_{2}p_{1}}^{p_{3}h_{0}}{t_{2}}_{p_{3}p_{0}}^{h_{1}h_{2}}\n",
      " + 1.0 * \\Phi_{h_{0}h_{1}}^{p_{0}p_{1}}v_{h_{2}p_{0}}^{p_{3}h_{0}}{t_{2}}_{p_{1}p_{3}}^{h_{1}h_{2}}\n",
      " + -0.5 * \\Phi_{h_{0}h_{1}}^{p_{0}p_{1}}v_{h_{2}p_{0}}^{p_{3}h_{0}}{t_{2}}_{p_{3}p_{1}}^{h_{1}h_{2}}\n",
      " + -0.5 * \\Phi_{h_{0}h_{1}}^{p_{0}p_{1}}v_{h_{2}p_{1}}^{p_{3}h_{1}}{t_{2}}_{p_{0}p_{3}}^{h_{2}h_{0}}\n",
      " + 1.0 * \\Phi_{h_{0}h_{1}}^{p_{0}p_{1}}v_{h_{2}p_{1}}^{p_{3}h_{1}}{t_{2}}_{p_{3}p_{0}}^{h_{2}h_{0}}\n",
      " + 0.25 * \\Phi_{h_{0}h_{1}}^{p_{0}p_{1}}v_{h_{2}p_{0}}^{p_{3}h_{1}}{t_{2}}_{p_{1}p_{3}}^{h_{2}h_{0}}\n",
      " + -0.5 * \\Phi_{h_{0}h_{1}}^{p_{0}p_{1}}v_{h_{2}p_{0}}^{p_{3}h_{1}}{t_{2}}_{p_{3}p_{1}}^{h_{2}h_{0}}\n",
      " + 1.0 * \\Phi_{h_{0}h_{1}}^{p_{0}p_{1}}v_{h_{2}p_{1}}^{p_{3}h_{1}}{t_{2}}_{p_{0}p_{3}}^{h_{0}h_{2}}\n",
      " + -0.5 * \\Phi_{h_{0}h_{1}}^{p_{0}p_{1}}v_{h_{2}p_{1}}^{p_{3}h_{1}}{t_{2}}_{p_{3}p_{0}}^{h_{0}h_{2}}\n",
      " + -0.5 * \\Phi_{h_{0}h_{1}}^{p_{0}p_{1}}v_{h_{2}p_{0}}^{p_{3}h_{1}}{t_{2}}_{p_{1}p_{3}}^{h_{0}h_{2}}\n",
      " + 0.25 * \\Phi_{h_{0}h_{1}}^{p_{0}p_{1}}v_{h_{2}p_{0}}^{p_{3}h_{1}}{t_{2}}_{p_{3}p_{1}}^{h_{0}h_{2}}\n",
      " + 0.25 * \\Phi_{h_{0}h_{1}}^{p_{0}p_{1}}v_{p_{1}h_{2}}^{h_{0}p_{3}}{t_{2}}_{p_{0}p_{3}}^{h_{2}h_{1}}\n",
      " + -0.5 * \\Phi_{h_{0}h_{1}}^{p_{0}p_{1}}v_{p_{1}h_{2}}^{h_{0}p_{3}}{t_{2}}_{p_{3}p_{0}}^{h_{2}h_{1}}\n",
      " + -0.5 * \\Phi_{h_{0}h_{1}}^{p_{0}p_{1}}v_{p_{0}h_{2}}^{h_{0}p_{3}}{t_{2}}_{p_{1}p_{3}}^{h_{2}h_{1}}\n",
      " + 1.0 * \\Phi_{h_{0}h_{1}}^{p_{0}p_{1}}v_{p_{0}h_{2}}^{h_{0}p_{3}}{t_{2}}_{p_{3}p_{1}}^{h_{2}h_{1}}\n",
      " + -0.5 * \\Phi_{h_{0}h_{1}}^{p_{0}p_{1}}v_{p_{1}h_{2}}^{h_{0}p_{3}}{t_{2}}_{p_{0}p_{3}}^{h_{1}h_{2}}\n",
      " + 0.25 * \\Phi_{h_{0}h_{1}}^{p_{0}p_{1}}v_{p_{1}h_{2}}^{h_{0}p_{3}}{t_{2}}_{p_{3}p_{0}}^{h_{1}h_{2}}\n",
      " + 1.0 * \\Phi_{h_{0}h_{1}}^{p_{0}p_{1}}v_{p_{0}h_{2}}^{h_{0}p_{3}}{t_{2}}_{p_{1}p_{3}}^{h_{1}h_{2}}\n",
      " + -0.5 * \\Phi_{h_{0}h_{1}}^{p_{0}p_{1}}v_{p_{0}h_{2}}^{h_{0}p_{3}}{t_{2}}_{p_{3}p_{1}}^{h_{1}h_{2}}\n",
      " + -0.5 * \\Phi_{h_{0}h_{1}}^{p_{0}p_{1}}v_{p_{1}h_{2}}^{h_{1}p_{3}}{t_{2}}_{p_{0}p_{3}}^{h_{2}h_{0}}\n",
      " + 1.0 * \\Phi_{h_{0}h_{1}}^{p_{0}p_{1}}v_{p_{1}h_{2}}^{h_{1}p_{3}}{t_{2}}_{p_{3}p_{0}}^{h_{2}h_{0}}\n",
      " + 0.25 * \\Phi_{h_{0}h_{1}}^{p_{0}p_{1}}v_{p_{0}h_{2}}^{h_{1}p_{3}}{t_{2}}_{p_{1}p_{3}}^{h_{2}h_{0}}\n",
      " + -0.5 * \\Phi_{h_{0}h_{1}}^{p_{0}p_{1}}v_{p_{0}h_{2}}^{h_{1}p_{3}}{t_{2}}_{p_{3}p_{1}}^{h_{2}h_{0}}\n",
      " + 1.0 * \\Phi_{h_{0}h_{1}}^{p_{0}p_{1}}v_{p_{1}h_{2}}^{h_{1}p_{3}}{t_{2}}_{p_{0}p_{3}}^{h_{0}h_{2}}\n",
      " + -0.5 * \\Phi_{h_{0}h_{1}}^{p_{0}p_{1}}v_{p_{1}h_{2}}^{h_{1}p_{3}}{t_{2}}_{p_{3}p_{0}}^{h_{0}h_{2}}\n",
      " + -0.5 * \\Phi_{h_{0}h_{1}}^{p_{0}p_{1}}v_{p_{0}h_{2}}^{h_{1}p_{3}}{t_{2}}_{p_{1}p_{3}}^{h_{0}h_{2}}\n",
      " + 0.25 * \\Phi_{h_{0}h_{1}}^{p_{0}p_{1}}v_{p_{0}h_{2}}^{h_{1}p_{3}}{t_{2}}_{p_{3}p_{1}}^{h_{0}h_{2}}\n",
      " + -0.5 * \\Phi_{h_{0}h_{1}}^{p_{0}p_{1}}v_{p_{1}h_{2}}^{p_{3}h_{0}}{t_{2}}_{p_{0}p_{3}}^{h_{2}h_{1}}\n",
      " + 0.25 * \\Phi_{h_{0}h_{1}}^{p_{0}p_{1}}v_{p_{1}h_{2}}^{p_{3}h_{0}}{t_{2}}_{p_{3}p_{0}}^{h_{2}h_{1}}\n",
      " + 0.25 * \\Phi_{h_{0}h_{1}}^{p_{0}p_{1}}v_{p_{0}h_{2}}^{p_{3}h_{0}}{t_{2}}_{p_{1}p_{3}}^{h_{2}h_{1}}\n",
      " + -0.5 * \\Phi_{h_{0}h_{1}}^{p_{0}p_{1}}v_{p_{0}h_{2}}^{p_{3}h_{0}}{t_{2}}_{p_{3}p_{1}}^{h_{2}h_{1}}\n",
      " + 0.25 * \\Phi_{h_{0}h_{1}}^{p_{0}p_{1}}v_{p_{1}h_{2}}^{p_{3}h_{0}}{t_{2}}_{p_{0}p_{3}}^{h_{1}h_{2}}\n",
      " + -0.5 * \\Phi_{h_{0}h_{1}}^{p_{0}p_{1}}v_{p_{1}h_{2}}^{p_{3}h_{0}}{t_{2}}_{p_{3}p_{0}}^{h_{1}h_{2}}\n",
      " + -0.5 * \\Phi_{h_{0}h_{1}}^{p_{0}p_{1}}v_{p_{0}h_{2}}^{p_{3}h_{0}}{t_{2}}_{p_{1}p_{3}}^{h_{1}h_{2}}\n",
      " + 0.25 * \\Phi_{h_{0}h_{1}}^{p_{0}p_{1}}v_{p_{0}h_{2}}^{p_{3}h_{0}}{t_{2}}_{p_{3}p_{1}}^{h_{1}h_{2}}\n",
      " + 0.25 * \\Phi_{h_{0}h_{1}}^{p_{0}p_{1}}v_{p_{1}h_{2}}^{p_{3}h_{1}}{t_{2}}_{p_{0}p_{3}}^{h_{2}h_{0}}\n",
      " + -0.5 * \\Phi_{h_{0}h_{1}}^{p_{0}p_{1}}v_{p_{1}h_{2}}^{p_{3}h_{1}}{t_{2}}_{p_{3}p_{0}}^{h_{2}h_{0}}\n",
      " + -0.5 * \\Phi_{h_{0}h_{1}}^{p_{0}p_{1}}v_{p_{0}h_{2}}^{p_{3}h_{1}}{t_{2}}_{p_{1}p_{3}}^{h_{2}h_{0}}\n",
      " + 0.25 * \\Phi_{h_{0}h_{1}}^{p_{0}p_{1}}v_{p_{0}h_{2}}^{p_{3}h_{1}}{t_{2}}_{p_{3}p_{1}}^{h_{2}h_{0}}\n",
      " + -0.5 * \\Phi_{h_{0}h_{1}}^{p_{0}p_{1}}v_{p_{1}h_{2}}^{p_{3}h_{1}}{t_{2}}_{p_{0}p_{3}}^{h_{0}h_{2}}\n",
      " + 0.25 * \\Phi_{h_{0}h_{1}}^{p_{0}p_{1}}v_{p_{1}h_{2}}^{p_{3}h_{1}}{t_{2}}_{p_{3}p_{0}}^{h_{0}h_{2}}\n",
      " + 0.25 * \\Phi_{h_{0}h_{1}}^{p_{0}p_{1}}v_{p_{0}h_{2}}^{p_{3}h_{1}}{t_{2}}_{p_{1}p_{3}}^{h_{0}h_{2}}\n",
      " + -0.5 * \\Phi_{h_{0}h_{1}}^{p_{0}p_{1}}v_{p_{0}h_{2}}^{p_{3}h_{1}}{t_{2}}_{p_{3}p_{1}}^{h_{0}h_{2}}\n",
      " + -0.25 * \\Phi_{h_{0}h_{1}}^{p_{0}p_{1}}v_{p_{1}p_{0}}^{p_{4}p_{5}}{t_{2}}_{p_{5}p_{4}}^{h_{1}h_{0}}\n",
      " + 0.5 * \\Phi_{h_{0}h_{1}}^{p_{0}p_{1}}v_{p_{1}p_{0}}^{p_{4}p_{5}}{t_{2}}_{p_{4}p_{5}}^{h_{1}h_{0}}\n",
      " + 0.5 * \\Phi_{h_{0}h_{1}}^{p_{0}p_{1}}v_{p_{0}p_{1}}^{p_{4}p_{5}}{t_{2}}_{p_{5}p_{4}}^{h_{1}h_{0}}\n",
      " + -0.25 * \\Phi_{h_{0}h_{1}}^{p_{0}p_{1}}v_{p_{0}p_{1}}^{p_{4}p_{5}}{t_{2}}_{p_{4}p_{5}}^{h_{1}h_{0}}\n",
      " + 0.5 * \\Phi_{h_{0}h_{1}}^{p_{0}p_{1}}v_{p_{1}p_{0}}^{p_{4}p_{5}}{t_{2}}_{p_{5}p_{4}}^{h_{0}h_{1}}\n",
      " + -0.25 * \\Phi_{h_{0}h_{1}}^{p_{0}p_{1}}v_{p_{1}p_{0}}^{p_{4}p_{5}}{t_{2}}_{p_{4}p_{5}}^{h_{0}h_{1}}\n",
      " + -0.25 * \\Phi_{h_{0}h_{1}}^{p_{0}p_{1}}v_{p_{0}p_{1}}^{p_{4}p_{5}}{t_{2}}_{p_{5}p_{4}}^{h_{0}h_{1}}\n",
      " + 0.5 * \\Phi_{h_{0}h_{1}}^{p_{0}p_{1}}v_{p_{0}p_{1}}^{p_{4}p_{5}}{t_{2}}_{p_{4}p_{5}}^{h_{0}h_{1}}\n"
     ]
    }
   ],
   "source": [
    "print(LinearAmplitudeFluctuation)"
   ]
  },
  {
   "cell_type": "code",
   "execution_count": 67,
   "metadata": {},
   "outputs": [
    {
     "name": "stdout",
     "output_type": "stream",
     "text": [
      "-0.25 \\Phi_{h_{0}h_{1}}^{p_{0}p_{1}} v_{h_{2}h_{3}}^{h_{1}h_{0}} {t_{2}}_{p_{1}p_{0}}^{h_{3}h_{2}}\n",
      "1.0 * a^{h_{0}\\beta}a^{h_{1}\\beta}a_{p_{1}\\beta}a_{p_{0}\\beta}a_{h_{0}\\beta}a_{h_{1}\\beta}a^{h_{2}\\beta}a^{h_{3}\\beta}a^{p_{1}\\beta}a^{p_{0}\\beta}a_{h_{2}\\beta}a_{h_{3}\\beta}\n",
      " + 1.0 * a^{h_{0}\\alpha}a^{h_{1}\\beta}a_{p_{1}\\beta}a_{p_{0}\\alpha}a_{h_{0}\\beta}a_{h_{1}\\beta}a^{h_{2}\\beta}a^{h_{3}\\beta}a^{p_{1}\\beta}a^{p_{0}\\beta}a_{h_{2}\\beta}a_{h_{3}\\beta}\n",
      " + 1.0 * a^{h_{0}\\beta}a^{h_{1}\\alpha}a_{p_{1}\\alpha}a_{p_{0}\\beta}a_{h_{0}\\beta}a_{h_{1}\\beta}a^{h_{2}\\beta}a^{h_{3}\\beta}a^{p_{1}\\beta}a^{p_{0}\\beta}a_{h_{2}\\beta}a_{h_{3}\\beta}\n",
      " + 1.0 * a^{h_{0}\\alpha}a^{h_{1}\\alpha}a_{p_{1}\\alpha}a_{p_{0}\\alpha}a_{h_{0}\\beta}a_{h_{1}\\beta}a^{h_{2}\\beta}a^{h_{3}\\beta}a^{p_{1}\\beta}a^{p_{0}\\beta}a_{h_{2}\\beta}a_{h_{3}\\beta}\n",
      " + 1.0 * a^{h_{0}\\beta}a^{h_{1}\\beta}a_{p_{1}\\beta}a_{p_{0}\\beta}a_{h_{0}\\beta}a_{h_{1}\\alpha}a^{h_{2}\\alpha}a^{h_{3}\\beta}a^{p_{1}\\beta}a^{p_{0}\\beta}a_{h_{2}\\beta}a_{h_{3}\\beta}\n",
      " + 1.0 * a^{h_{0}\\alpha}a^{h_{1}\\beta}a_{p_{1}\\beta}a_{p_{0}\\alpha}a_{h_{0}\\beta}a_{h_{1}\\alpha}a^{h_{2}\\alpha}a^{h_{3}\\beta}a^{p_{1}\\beta}a^{p_{0}\\beta}a_{h_{2}\\beta}a_{h_{3}\\beta}\n",
      " + 1.0 * a^{h_{0}\\beta}a^{h_{1}\\alpha}a_{p_{1}\\alpha}a_{p_{0}\\beta}a_{h_{0}\\beta}a_{h_{1}\\alpha}a^{h_{2}\\alpha}a^{h_{3}\\beta}a^{p_{1}\\beta}a^{p_{0}\\beta}a_{h_{2}\\beta}a_{h_{3}\\beta}\n",
      " + 1.0 * a^{h_{0}\\alpha}a^{h_{1}\\alpha}a_{p_{1}\\alpha}a_{p_{0}\\alpha}a_{h_{0}\\beta}a_{h_{1}\\alpha}a^{h_{2}\\alpha}a^{h_{3}\\beta}a^{p_{1}\\beta}a^{p_{0}\\beta}a_{h_{2}\\beta}a_{h_{3}\\beta}\n",
      " + 1.0 * a^{h_{0}\\beta}a^{h_{1}\\beta}a_{p_{1}\\beta}a_{p_{0}\\beta}a_{h_{0}\\alpha}a_{h_{1}\\beta}a^{h_{2}\\beta}a^{h_{3}\\alpha}a^{p_{1}\\beta}a^{p_{0}\\beta}a_{h_{2}\\beta}a_{h_{3}\\beta}\n",
      " + 1.0 * a^{h_{0}\\alpha}a^{h_{1}\\beta}a_{p_{1}\\beta}a_{p_{0}\\alpha}a_{h_{0}\\alpha}a_{h_{1}\\beta}a^{h_{2}\\beta}a^{h_{3}\\alpha}a^{p_{1}\\beta}a^{p_{0}\\beta}a_{h_{2}\\beta}a_{h_{3}\\beta}\n",
      " + 1.0 * a^{h_{0}\\beta}a^{h_{1}\\alpha}a_{p_{1}\\alpha}a_{p_{0}\\beta}a_{h_{0}\\alpha}a_{h_{1}\\beta}a^{h_{2}\\beta}a^{h_{3}\\alpha}a^{p_{1}\\beta}a^{p_{0}\\beta}a_{h_{2}\\beta}a_{h_{3}\\beta}\n",
      " + 1.0 * a^{h_{0}\\alpha}a^{h_{1}\\alpha}a_{p_{1}\\alpha}a_{p_{0}\\alpha}a_{h_{0}\\alpha}a_{h_{1}\\beta}a^{h_{2}\\beta}a^{h_{3}\\alpha}a^{p_{1}\\beta}a^{p_{0}\\beta}a_{h_{2}\\beta}a_{h_{3}\\beta}\n",
      " + 1.0 * a^{h_{0}\\beta}a^{h_{1}\\beta}a_{p_{1}\\beta}a_{p_{0}\\beta}a_{h_{0}\\alpha}a_{h_{1}\\alpha}a^{h_{2}\\alpha}a^{h_{3}\\alpha}a^{p_{1}\\beta}a^{p_{0}\\beta}a_{h_{2}\\beta}a_{h_{3}\\beta}\n",
      " + 1.0 * a^{h_{0}\\alpha}a^{h_{1}\\beta}a_{p_{1}\\beta}a_{p_{0}\\alpha}a_{h_{0}\\alpha}a_{h_{1}\\alpha}a^{h_{2}\\alpha}a^{h_{3}\\alpha}a^{p_{1}\\beta}a^{p_{0}\\beta}a_{h_{2}\\beta}a_{h_{3}\\beta}\n",
      " + 1.0 * a^{h_{0}\\beta}a^{h_{1}\\alpha}a_{p_{1}\\alpha}a_{p_{0}\\beta}a_{h_{0}\\alpha}a_{h_{1}\\alpha}a^{h_{2}\\alpha}a^{h_{3}\\alpha}a^{p_{1}\\beta}a^{p_{0}\\beta}a_{h_{2}\\beta}a_{h_{3}\\beta}\n",
      " + 1.0 * a^{h_{0}\\alpha}a^{h_{1}\\alpha}a_{p_{1}\\alpha}a_{p_{0}\\alpha}a_{h_{0}\\alpha}a_{h_{1}\\alpha}a^{h_{2}\\alpha}a^{h_{3}\\alpha}a^{p_{1}\\beta}a^{p_{0}\\beta}a_{h_{2}\\beta}a_{h_{3}\\beta}\n",
      " + 1.0 * a^{h_{0}\\beta}a^{h_{1}\\beta}a_{p_{1}\\beta}a_{p_{0}\\beta}a_{h_{0}\\beta}a_{h_{1}\\beta}a^{h_{2}\\beta}a^{h_{3}\\beta}a^{p_{1}\\alpha}a^{p_{0}\\beta}a_{h_{2}\\beta}a_{h_{3}\\alpha}\n",
      " + 1.0 * a^{h_{0}\\alpha}a^{h_{1}\\beta}a_{p_{1}\\beta}a_{p_{0}\\alpha}a_{h_{0}\\beta}a_{h_{1}\\beta}a^{h_{2}\\beta}a^{h_{3}\\beta}a^{p_{1}\\alpha}a^{p_{0}\\beta}a_{h_{2}\\beta}a_{h_{3}\\alpha}\n",
      " + 1.0 * a^{h_{0}\\beta}a^{h_{1}\\alpha}a_{p_{1}\\alpha}a_{p_{0}\\beta}a_{h_{0}\\beta}a_{h_{1}\\beta}a^{h_{2}\\beta}a^{h_{3}\\beta}a^{p_{1}\\alpha}a^{p_{0}\\beta}a_{h_{2}\\beta}a_{h_{3}\\alpha}\n",
      " + 1.0 * a^{h_{0}\\alpha}a^{h_{1}\\alpha}a_{p_{1}\\alpha}a_{p_{0}\\alpha}a_{h_{0}\\beta}a_{h_{1}\\beta}a^{h_{2}\\beta}a^{h_{3}\\beta}a^{p_{1}\\alpha}a^{p_{0}\\beta}a_{h_{2}\\beta}a_{h_{3}\\alpha}\n",
      " + 1.0 * a^{h_{0}\\beta}a^{h_{1}\\beta}a_{p_{1}\\beta}a_{p_{0}\\beta}a_{h_{0}\\beta}a_{h_{1}\\alpha}a^{h_{2}\\alpha}a^{h_{3}\\beta}a^{p_{1}\\alpha}a^{p_{0}\\beta}a_{h_{2}\\beta}a_{h_{3}\\alpha}\n",
      " + 1.0 * a^{h_{0}\\alpha}a^{h_{1}\\beta}a_{p_{1}\\beta}a_{p_{0}\\alpha}a_{h_{0}\\beta}a_{h_{1}\\alpha}a^{h_{2}\\alpha}a^{h_{3}\\beta}a^{p_{1}\\alpha}a^{p_{0}\\beta}a_{h_{2}\\beta}a_{h_{3}\\alpha}\n",
      " + 1.0 * a^{h_{0}\\beta}a^{h_{1}\\alpha}a_{p_{1}\\alpha}a_{p_{0}\\beta}a_{h_{0}\\beta}a_{h_{1}\\alpha}a^{h_{2}\\alpha}a^{h_{3}\\beta}a^{p_{1}\\alpha}a^{p_{0}\\beta}a_{h_{2}\\beta}a_{h_{3}\\alpha}\n",
      " + 1.0 * a^{h_{0}\\alpha}a^{h_{1}\\alpha}a_{p_{1}\\alpha}a_{p_{0}\\alpha}a_{h_{0}\\beta}a_{h_{1}\\alpha}a^{h_{2}\\alpha}a^{h_{3}\\beta}a^{p_{1}\\alpha}a^{p_{0}\\beta}a_{h_{2}\\beta}a_{h_{3}\\alpha}\n",
      " + 1.0 * a^{h_{0}\\beta}a^{h_{1}\\beta}a_{p_{1}\\beta}a_{p_{0}\\beta}a_{h_{0}\\alpha}a_{h_{1}\\beta}a^{h_{2}\\beta}a^{h_{3}\\alpha}a^{p_{1}\\alpha}a^{p_{0}\\beta}a_{h_{2}\\beta}a_{h_{3}\\alpha}\n",
      " + 1.0 * a^{h_{0}\\alpha}a^{h_{1}\\beta}a_{p_{1}\\beta}a_{p_{0}\\alpha}a_{h_{0}\\alpha}a_{h_{1}\\beta}a^{h_{2}\\beta}a^{h_{3}\\alpha}a^{p_{1}\\alpha}a^{p_{0}\\beta}a_{h_{2}\\beta}a_{h_{3}\\alpha}\n",
      " + 1.0 * a^{h_{0}\\beta}a^{h_{1}\\alpha}a_{p_{1}\\alpha}a_{p_{0}\\beta}a_{h_{0}\\alpha}a_{h_{1}\\beta}a^{h_{2}\\beta}a^{h_{3}\\alpha}a^{p_{1}\\alpha}a^{p_{0}\\beta}a_{h_{2}\\beta}a_{h_{3}\\alpha}\n",
      " + 1.0 * a^{h_{0}\\alpha}a^{h_{1}\\alpha}a_{p_{1}\\alpha}a_{p_{0}\\alpha}a_{h_{0}\\alpha}a_{h_{1}\\beta}a^{h_{2}\\beta}a^{h_{3}\\alpha}a^{p_{1}\\alpha}a^{p_{0}\\beta}a_{h_{2}\\beta}a_{h_{3}\\alpha}\n",
      " + 1.0 * a^{h_{0}\\beta}a^{h_{1}\\beta}a_{p_{1}\\beta}a_{p_{0}\\beta}a_{h_{0}\\alpha}a_{h_{1}\\alpha}a^{h_{2}\\alpha}a^{h_{3}\\alpha}a^{p_{1}\\alpha}a^{p_{0}\\beta}a_{h_{2}\\beta}a_{h_{3}\\alpha}\n",
      " + 1.0 * a^{h_{0}\\alpha}a^{h_{1}\\beta}a_{p_{1}\\beta}a_{p_{0}\\alpha}a_{h_{0}\\alpha}a_{h_{1}\\alpha}a^{h_{2}\\alpha}a^{h_{3}\\alpha}a^{p_{1}\\alpha}a^{p_{0}\\beta}a_{h_{2}\\beta}a_{h_{3}\\alpha}\n",
      " + 1.0 * a^{h_{0}\\beta}a^{h_{1}\\alpha}a_{p_{1}\\alpha}a_{p_{0}\\beta}a_{h_{0}\\alpha}a_{h_{1}\\alpha}a^{h_{2}\\alpha}a^{h_{3}\\alpha}a^{p_{1}\\alpha}a^{p_{0}\\beta}a_{h_{2}\\beta}a_{h_{3}\\alpha}\n",
      " + 1.0 * a^{h_{0}\\alpha}a^{h_{1}\\alpha}a_{p_{1}\\alpha}a_{p_{0}\\alpha}a_{h_{0}\\alpha}a_{h_{1}\\alpha}a^{h_{2}\\alpha}a^{h_{3}\\alpha}a^{p_{1}\\alpha}a^{p_{0}\\beta}a_{h_{2}\\beta}a_{h_{3}\\alpha}\n",
      " + 1.0 * a^{h_{0}\\beta}a^{h_{1}\\beta}a_{p_{1}\\beta}a_{p_{0}\\beta}a_{h_{0}\\beta}a_{h_{1}\\beta}a^{h_{2}\\beta}a^{h_{3}\\beta}a^{p_{1}\\beta}a^{p_{0}\\alpha}a_{h_{2}\\alpha}a_{h_{3}\\beta}\n",
      " + 1.0 * a^{h_{0}\\alpha}a^{h_{1}\\beta}a_{p_{1}\\beta}a_{p_{0}\\alpha}a_{h_{0}\\beta}a_{h_{1}\\beta}a^{h_{2}\\beta}a^{h_{3}\\beta}a^{p_{1}\\beta}a^{p_{0}\\alpha}a_{h_{2}\\alpha}a_{h_{3}\\beta}\n",
      " + 1.0 * a^{h_{0}\\beta}a^{h_{1}\\alpha}a_{p_{1}\\alpha}a_{p_{0}\\beta}a_{h_{0}\\beta}a_{h_{1}\\beta}a^{h_{2}\\beta}a^{h_{3}\\beta}a^{p_{1}\\beta}a^{p_{0}\\alpha}a_{h_{2}\\alpha}a_{h_{3}\\beta}\n",
      " + 1.0 * a^{h_{0}\\alpha}a^{h_{1}\\alpha}a_{p_{1}\\alpha}a_{p_{0}\\alpha}a_{h_{0}\\beta}a_{h_{1}\\beta}a^{h_{2}\\beta}a^{h_{3}\\beta}a^{p_{1}\\beta}a^{p_{0}\\alpha}a_{h_{2}\\alpha}a_{h_{3}\\beta}\n",
      " + 1.0 * a^{h_{0}\\beta}a^{h_{1}\\beta}a_{p_{1}\\beta}a_{p_{0}\\beta}a_{h_{0}\\beta}a_{h_{1}\\alpha}a^{h_{2}\\alpha}a^{h_{3}\\beta}a^{p_{1}\\beta}a^{p_{0}\\alpha}a_{h_{2}\\alpha}a_{h_{3}\\beta}\n",
      " + 1.0 * a^{h_{0}\\alpha}a^{h_{1}\\beta}a_{p_{1}\\beta}a_{p_{0}\\alpha}a_{h_{0}\\beta}a_{h_{1}\\alpha}a^{h_{2}\\alpha}a^{h_{3}\\beta}a^{p_{1}\\beta}a^{p_{0}\\alpha}a_{h_{2}\\alpha}a_{h_{3}\\beta}\n",
      " + 1.0 * a^{h_{0}\\beta}a^{h_{1}\\alpha}a_{p_{1}\\alpha}a_{p_{0}\\beta}a_{h_{0}\\beta}a_{h_{1}\\alpha}a^{h_{2}\\alpha}a^{h_{3}\\beta}a^{p_{1}\\beta}a^{p_{0}\\alpha}a_{h_{2}\\alpha}a_{h_{3}\\beta}\n",
      " + 1.0 * a^{h_{0}\\alpha}a^{h_{1}\\alpha}a_{p_{1}\\alpha}a_{p_{0}\\alpha}a_{h_{0}\\beta}a_{h_{1}\\alpha}a^{h_{2}\\alpha}a^{h_{3}\\beta}a^{p_{1}\\beta}a^{p_{0}\\alpha}a_{h_{2}\\alpha}a_{h_{3}\\beta}\n",
      " + 1.0 * a^{h_{0}\\beta}a^{h_{1}\\beta}a_{p_{1}\\beta}a_{p_{0}\\beta}a_{h_{0}\\alpha}a_{h_{1}\\beta}a^{h_{2}\\beta}a^{h_{3}\\alpha}a^{p_{1}\\beta}a^{p_{0}\\alpha}a_{h_{2}\\alpha}a_{h_{3}\\beta}\n",
      " + 1.0 * a^{h_{0}\\alpha}a^{h_{1}\\beta}a_{p_{1}\\beta}a_{p_{0}\\alpha}a_{h_{0}\\alpha}a_{h_{1}\\beta}a^{h_{2}\\beta}a^{h_{3}\\alpha}a^{p_{1}\\beta}a^{p_{0}\\alpha}a_{h_{2}\\alpha}a_{h_{3}\\beta}\n",
      " + 1.0 * a^{h_{0}\\beta}a^{h_{1}\\alpha}a_{p_{1}\\alpha}a_{p_{0}\\beta}a_{h_{0}\\alpha}a_{h_{1}\\beta}a^{h_{2}\\beta}a^{h_{3}\\alpha}a^{p_{1}\\beta}a^{p_{0}\\alpha}a_{h_{2}\\alpha}a_{h_{3}\\beta}\n",
      " + 1.0 * a^{h_{0}\\alpha}a^{h_{1}\\alpha}a_{p_{1}\\alpha}a_{p_{0}\\alpha}a_{h_{0}\\alpha}a_{h_{1}\\beta}a^{h_{2}\\beta}a^{h_{3}\\alpha}a^{p_{1}\\beta}a^{p_{0}\\alpha}a_{h_{2}\\alpha}a_{h_{3}\\beta}\n",
      " + 1.0 * a^{h_{0}\\beta}a^{h_{1}\\beta}a_{p_{1}\\beta}a_{p_{0}\\beta}a_{h_{0}\\alpha}a_{h_{1}\\alpha}a^{h_{2}\\alpha}a^{h_{3}\\alpha}a^{p_{1}\\beta}a^{p_{0}\\alpha}a_{h_{2}\\alpha}a_{h_{3}\\beta}\n",
      " + 1.0 * a^{h_{0}\\alpha}a^{h_{1}\\beta}a_{p_{1}\\beta}a_{p_{0}\\alpha}a_{h_{0}\\alpha}a_{h_{1}\\alpha}a^{h_{2}\\alpha}a^{h_{3}\\alpha}a^{p_{1}\\beta}a^{p_{0}\\alpha}a_{h_{2}\\alpha}a_{h_{3}\\beta}\n",
      " + 1.0 * a^{h_{0}\\beta}a^{h_{1}\\alpha}a_{p_{1}\\alpha}a_{p_{0}\\beta}a_{h_{0}\\alpha}a_{h_{1}\\alpha}a^{h_{2}\\alpha}a^{h_{3}\\alpha}a^{p_{1}\\beta}a^{p_{0}\\alpha}a_{h_{2}\\alpha}a_{h_{3}\\beta}\n",
      " + 1.0 * a^{h_{0}\\alpha}a^{h_{1}\\alpha}a_{p_{1}\\alpha}a_{p_{0}\\alpha}a_{h_{0}\\alpha}a_{h_{1}\\alpha}a^{h_{2}\\alpha}a^{h_{3}\\alpha}a^{p_{1}\\beta}a^{p_{0}\\alpha}a_{h_{2}\\alpha}a_{h_{3}\\beta}\n",
      " + 1.0 * a^{h_{0}\\beta}a^{h_{1}\\beta}a_{p_{1}\\beta}a_{p_{0}\\beta}a_{h_{0}\\beta}a_{h_{1}\\beta}a^{h_{2}\\beta}a^{h_{3}\\beta}a^{p_{1}\\alpha}a^{p_{0}\\alpha}a_{h_{2}\\alpha}a_{h_{3}\\alpha}\n",
      " + 1.0 * a^{h_{0}\\alpha}a^{h_{1}\\beta}a_{p_{1}\\beta}a_{p_{0}\\alpha}a_{h_{0}\\beta}a_{h_{1}\\beta}a^{h_{2}\\beta}a^{h_{3}\\beta}a^{p_{1}\\alpha}a^{p_{0}\\alpha}a_{h_{2}\\alpha}a_{h_{3}\\alpha}\n",
      " + 1.0 * a^{h_{0}\\beta}a^{h_{1}\\alpha}a_{p_{1}\\alpha}a_{p_{0}\\beta}a_{h_{0}\\beta}a_{h_{1}\\beta}a^{h_{2}\\beta}a^{h_{3}\\beta}a^{p_{1}\\alpha}a^{p_{0}\\alpha}a_{h_{2}\\alpha}a_{h_{3}\\alpha}\n",
      " + 1.0 * a^{h_{0}\\alpha}a^{h_{1}\\alpha}a_{p_{1}\\alpha}a_{p_{0}\\alpha}a_{h_{0}\\beta}a_{h_{1}\\beta}a^{h_{2}\\beta}a^{h_{3}\\beta}a^{p_{1}\\alpha}a^{p_{0}\\alpha}a_{h_{2}\\alpha}a_{h_{3}\\alpha}\n",
      " + 1.0 * a^{h_{0}\\beta}a^{h_{1}\\beta}a_{p_{1}\\beta}a_{p_{0}\\beta}a_{h_{0}\\beta}a_{h_{1}\\alpha}a^{h_{2}\\alpha}a^{h_{3}\\beta}a^{p_{1}\\alpha}a^{p_{0}\\alpha}a_{h_{2}\\alpha}a_{h_{3}\\alpha}\n",
      " + 1.0 * a^{h_{0}\\alpha}a^{h_{1}\\beta}a_{p_{1}\\beta}a_{p_{0}\\alpha}a_{h_{0}\\beta}a_{h_{1}\\alpha}a^{h_{2}\\alpha}a^{h_{3}\\beta}a^{p_{1}\\alpha}a^{p_{0}\\alpha}a_{h_{2}\\alpha}a_{h_{3}\\alpha}\n",
      " + 1.0 * a^{h_{0}\\beta}a^{h_{1}\\alpha}a_{p_{1}\\alpha}a_{p_{0}\\beta}a_{h_{0}\\beta}a_{h_{1}\\alpha}a^{h_{2}\\alpha}a^{h_{3}\\beta}a^{p_{1}\\alpha}a^{p_{0}\\alpha}a_{h_{2}\\alpha}a_{h_{3}\\alpha}\n",
      " + 1.0 * a^{h_{0}\\alpha}a^{h_{1}\\alpha}a_{p_{1}\\alpha}a_{p_{0}\\alpha}a_{h_{0}\\beta}a_{h_{1}\\alpha}a^{h_{2}\\alpha}a^{h_{3}\\beta}a^{p_{1}\\alpha}a^{p_{0}\\alpha}a_{h_{2}\\alpha}a_{h_{3}\\alpha}\n",
      " + 1.0 * a^{h_{0}\\beta}a^{h_{1}\\beta}a_{p_{1}\\beta}a_{p_{0}\\beta}a_{h_{0}\\alpha}a_{h_{1}\\beta}a^{h_{2}\\beta}a^{h_{3}\\alpha}a^{p_{1}\\alpha}a^{p_{0}\\alpha}a_{h_{2}\\alpha}a_{h_{3}\\alpha}\n",
      " + 1.0 * a^{h_{0}\\alpha}a^{h_{1}\\beta}a_{p_{1}\\beta}a_{p_{0}\\alpha}a_{h_{0}\\alpha}a_{h_{1}\\beta}a^{h_{2}\\beta}a^{h_{3}\\alpha}a^{p_{1}\\alpha}a^{p_{0}\\alpha}a_{h_{2}\\alpha}a_{h_{3}\\alpha}\n",
      " + 1.0 * a^{h_{0}\\beta}a^{h_{1}\\alpha}a_{p_{1}\\alpha}a_{p_{0}\\beta}a_{h_{0}\\alpha}a_{h_{1}\\beta}a^{h_{2}\\beta}a^{h_{3}\\alpha}a^{p_{1}\\alpha}a^{p_{0}\\alpha}a_{h_{2}\\alpha}a_{h_{3}\\alpha}\n",
      " + 1.0 * a^{h_{0}\\alpha}a^{h_{1}\\alpha}a_{p_{1}\\alpha}a_{p_{0}\\alpha}a_{h_{0}\\alpha}a_{h_{1}\\beta}a^{h_{2}\\beta}a^{h_{3}\\alpha}a^{p_{1}\\alpha}a^{p_{0}\\alpha}a_{h_{2}\\alpha}a_{h_{3}\\alpha}\n",
      " + 1.0 * a^{h_{0}\\beta}a^{h_{1}\\beta}a_{p_{1}\\beta}a_{p_{0}\\beta}a_{h_{0}\\alpha}a_{h_{1}\\alpha}a^{h_{2}\\alpha}a^{h_{3}\\alpha}a^{p_{1}\\alpha}a^{p_{0}\\alpha}a_{h_{2}\\alpha}a_{h_{3}\\alpha}\n",
      " + 1.0 * a^{h_{0}\\alpha}a^{h_{1}\\beta}a_{p_{1}\\beta}a_{p_{0}\\alpha}a_{h_{0}\\alpha}a_{h_{1}\\alpha}a^{h_{2}\\alpha}a^{h_{3}\\alpha}a^{p_{1}\\alpha}a^{p_{0}\\alpha}a_{h_{2}\\alpha}a_{h_{3}\\alpha}\n",
      " + 1.0 * a^{h_{0}\\beta}a^{h_{1}\\alpha}a_{p_{1}\\alpha}a_{p_{0}\\beta}a_{h_{0}\\alpha}a_{h_{1}\\alpha}a^{h_{2}\\alpha}a^{h_{3}\\alpha}a^{p_{1}\\alpha}a^{p_{0}\\alpha}a_{h_{2}\\alpha}a_{h_{3}\\alpha}\n",
      " + 1.0 * a^{h_{0}\\alpha}a^{h_{1}\\alpha}a_{p_{1}\\alpha}a_{p_{0}\\alpha}a_{h_{0}\\alpha}a_{h_{1}\\alpha}a^{h_{2}\\alpha}a^{h_{3}\\alpha}a^{p_{1}\\alpha}a^{p_{0}\\alpha}a_{h_{2}\\alpha}a_{h_{3}\\alpha}\n",
      "-2.0 * \\delta^{h_{0}}_{h_{0}}\\delta^{h_{1}}_{h_{1}}\\delta^{p_{1}}_{p_{1}}\\delta^{p_{0}}_{p_{0}}\\delta^{h_{2}}_{h_{2}}\\delta^{h_{3}}_{h_{3}}\n",
      " + 4.0 * \\delta^{h_{0}}_{h_{0}}\\delta^{h_{1}}_{h_{1}}\\delta^{p_{1}}_{p_{1}}\\delta^{p_{0}}_{p_{0}}\\delta^{h_{2}}_{h_{3}}\\delta^{h_{3}}_{h_{2}}\n",
      " + 4.0 * \\delta^{h_{0}}_{h_{0}}\\delta^{h_{1}}_{h_{1}}\\delta^{p_{0}}_{p_{1}}\\delta^{p_{1}}_{p_{0}}\\delta^{h_{2}}_{h_{2}}\\delta^{h_{3}}_{h_{3}}\n",
      " + -2.0 * \\delta^{h_{0}}_{h_{0}}\\delta^{h_{1}}_{h_{1}}\\delta^{p_{0}}_{p_{1}}\\delta^{p_{1}}_{p_{0}}\\delta^{h_{2}}_{h_{3}}\\delta^{h_{3}}_{h_{2}}\n",
      " + 4.0 * \\delta^{h_{0}}_{h_{1}}\\delta^{h_{1}}_{h_{0}}\\delta^{p_{1}}_{p_{1}}\\delta^{p_{0}}_{p_{0}}\\delta^{h_{2}}_{h_{2}}\\delta^{h_{3}}_{h_{3}}\n",
      " + -2.0 * \\delta^{h_{0}}_{h_{1}}\\delta^{h_{1}}_{h_{0}}\\delta^{p_{1}}_{p_{1}}\\delta^{p_{0}}_{p_{0}}\\delta^{h_{2}}_{h_{3}}\\delta^{h_{3}}_{h_{2}}\n",
      " + -2.0 * \\delta^{h_{0}}_{h_{1}}\\delta^{h_{1}}_{h_{0}}\\delta^{p_{0}}_{p_{1}}\\delta^{p_{1}}_{p_{0}}\\delta^{h_{2}}_{h_{2}}\\delta^{h_{3}}_{h_{3}}\n",
      " + 4.0 * \\delta^{h_{0}}_{h_{1}}\\delta^{h_{1}}_{h_{0}}\\delta^{p_{0}}_{p_{1}}\\delta^{p_{1}}_{p_{0}}\\delta^{h_{2}}_{h_{3}}\\delta^{h_{3}}_{h_{2}}\n"
     ]
    }
   ],
   "source": [
    "print(LinearAmplitudeFluctuation.summandList[0].prefactor, *LinearAmplitudeFluctuation.summandList[0].vertexList)\n",
    "print(LinearAmplitudeFluctuation.summandList[0].getOperator(spinFree=True))\n",
    "print(GeneralisedWick.vacuumExpectationValue(LinearAmplitudeFluctuation.summandList[0].getOperator(spinFree=True), vacuum))"
   ]
  },
  {
   "cell_type": "code",
   "execution_count": 68,
   "metadata": {},
   "outputs": [
    {
     "name": "stdout",
     "output_type": "stream",
     "text": [
      "(0.04501765169718838, [], []) -0.25 * \\Phi_{h_{0}h_{1}}^{p_{0}p_{1}}v_{h_{2}h_{3}}^{h_{1}h_{0}}{t_{2}}_{p_{1}p_{0}}^{h_{3}h_{2}}\n",
      "(-0.09003530339437676, [], []) 0.5 * \\Phi_{h_{0}h_{1}}^{p_{0}p_{1}}v_{h_{2}h_{3}}^{h_{1}h_{0}}{t_{2}}_{p_{1}p_{0}}^{h_{2}h_{3}}\n",
      "(-0.09003530339437676, [], []) 0.5 * \\Phi_{h_{0}h_{1}}^{p_{0}p_{1}}v_{h_{2}h_{3}}^{h_{1}h_{0}}{t_{2}}_{p_{0}p_{1}}^{h_{3}h_{2}}\n",
      "(0.04501765169718838, [], []) -0.25 * \\Phi_{h_{0}h_{1}}^{p_{0}p_{1}}v_{h_{2}h_{3}}^{h_{1}h_{0}}{t_{2}}_{p_{0}p_{1}}^{h_{2}h_{3}}\n",
      "(-0.09003530339437676, [], []) 0.5 * \\Phi_{h_{0}h_{1}}^{p_{0}p_{1}}v_{h_{2}h_{3}}^{h_{0}h_{1}}{t_{2}}_{p_{1}p_{0}}^{h_{3}h_{2}}\n",
      "(0.04501765169718838, [], []) -0.25 * \\Phi_{h_{0}h_{1}}^{p_{0}p_{1}}v_{h_{2}h_{3}}^{h_{0}h_{1}}{t_{2}}_{p_{1}p_{0}}^{h_{2}h_{3}}\n",
      "(0.04501765169718838, [], []) -0.25 * \\Phi_{h_{0}h_{1}}^{p_{0}p_{1}}v_{h_{2}h_{3}}^{h_{0}h_{1}}{t_{2}}_{p_{0}p_{1}}^{h_{3}h_{2}}\n",
      "(-0.09003530339437676, [], []) 0.5 * \\Phi_{h_{0}h_{1}}^{p_{0}p_{1}}v_{h_{2}h_{3}}^{h_{0}h_{1}}{t_{2}}_{p_{0}p_{1}}^{h_{2}h_{3}}\n",
      "(0.08882933180509607, [], []) -0.5 * \\Phi_{h_{0}h_{1}}^{p_{0}p_{1}}v_{h_{2}p_{1}}^{h_{0}p_{3}}{t_{2}}_{p_{0}p_{3}}^{h_{2}h_{1}}\n",
      "(-0.044414665902548035, [], []) 0.25 * \\Phi_{h_{0}h_{1}}^{p_{0}p_{1}}v_{h_{2}p_{1}}^{h_{0}p_{3}}{t_{2}}_{p_{3}p_{0}}^{h_{2}h_{1}}\n",
      "(-0.044414665902548035, [], []) 0.25 * \\Phi_{h_{0}h_{1}}^{p_{0}p_{1}}v_{h_{2}p_{0}}^{h_{0}p_{3}}{t_{2}}_{p_{1}p_{3}}^{h_{2}h_{1}}\n",
      "(0.08882933180509607, [], []) -0.5 * \\Phi_{h_{0}h_{1}}^{p_{0}p_{1}}v_{h_{2}p_{0}}^{h_{0}p_{3}}{t_{2}}_{p_{3}p_{1}}^{h_{2}h_{1}}\n",
      "(-0.044414665902548035, [], []) 0.25 * \\Phi_{h_{0}h_{1}}^{p_{0}p_{1}}v_{h_{2}p_{1}}^{h_{0}p_{3}}{t_{2}}_{p_{0}p_{3}}^{h_{1}h_{2}}\n",
      "(0.08882933180509607, [], []) -0.5 * \\Phi_{h_{0}h_{1}}^{p_{0}p_{1}}v_{h_{2}p_{1}}^{h_{0}p_{3}}{t_{2}}_{p_{3}p_{0}}^{h_{1}h_{2}}\n",
      "(0.08882933180509607, [], []) -0.5 * \\Phi_{h_{0}h_{1}}^{p_{0}p_{1}}v_{h_{2}p_{0}}^{h_{0}p_{3}}{t_{2}}_{p_{1}p_{3}}^{h_{1}h_{2}}\n",
      "(-0.044414665902548035, [], []) 0.25 * \\Phi_{h_{0}h_{1}}^{p_{0}p_{1}}v_{h_{2}p_{0}}^{h_{0}p_{3}}{t_{2}}_{p_{3}p_{1}}^{h_{1}h_{2}}\n",
      "(-0.044414665902548035, [], []) 0.25 * \\Phi_{h_{0}h_{1}}^{p_{0}p_{1}}v_{h_{2}p_{1}}^{h_{1}p_{3}}{t_{2}}_{p_{0}p_{3}}^{h_{2}h_{0}}\n",
      "(0.08882933180509607, [], []) -0.5 * \\Phi_{h_{0}h_{1}}^{p_{0}p_{1}}v_{h_{2}p_{1}}^{h_{1}p_{3}}{t_{2}}_{p_{3}p_{0}}^{h_{2}h_{0}}\n",
      "(0.08882933180509607, [], []) -0.5 * \\Phi_{h_{0}h_{1}}^{p_{0}p_{1}}v_{h_{2}p_{0}}^{h_{1}p_{3}}{t_{2}}_{p_{1}p_{3}}^{h_{2}h_{0}}\n",
      "(-0.044414665902548035, [], []) 0.25 * \\Phi_{h_{0}h_{1}}^{p_{0}p_{1}}v_{h_{2}p_{0}}^{h_{1}p_{3}}{t_{2}}_{p_{3}p_{1}}^{h_{2}h_{0}}\n",
      "(0.08882933180509607, [], []) -0.5 * \\Phi_{h_{0}h_{1}}^{p_{0}p_{1}}v_{h_{2}p_{1}}^{h_{1}p_{3}}{t_{2}}_{p_{0}p_{3}}^{h_{0}h_{2}}\n",
      "(-0.044414665902548035, [], []) 0.25 * \\Phi_{h_{0}h_{1}}^{p_{0}p_{1}}v_{h_{2}p_{1}}^{h_{1}p_{3}}{t_{2}}_{p_{3}p_{0}}^{h_{0}h_{2}}\n",
      "(-0.044414665902548035, [], []) 0.25 * \\Phi_{h_{0}h_{1}}^{p_{0}p_{1}}v_{h_{2}p_{0}}^{h_{1}p_{3}}{t_{2}}_{p_{1}p_{3}}^{h_{0}h_{2}}\n",
      "(0.08882933180509607, [], []) -0.5 * \\Phi_{h_{0}h_{1}}^{p_{0}p_{1}}v_{h_{2}p_{0}}^{h_{1}p_{3}}{t_{2}}_{p_{3}p_{1}}^{h_{0}h_{2}}\n",
      "(-0.012907762158290988, [], []) 0.25 * \\Phi_{h_{0}h_{1}}^{p_{0}p_{1}}v_{h_{2}p_{1}}^{p_{3}h_{0}}{t_{2}}_{p_{0}p_{3}}^{h_{2}h_{1}}\n",
      "(0.025815524316581975, [], []) -0.5 * \\Phi_{h_{0}h_{1}}^{p_{0}p_{1}}v_{h_{2}p_{1}}^{p_{3}h_{0}}{t_{2}}_{p_{3}p_{0}}^{h_{2}h_{1}}\n",
      "(0.025815524316581975, [], []) -0.5 * \\Phi_{h_{0}h_{1}}^{p_{0}p_{1}}v_{h_{2}p_{0}}^{p_{3}h_{0}}{t_{2}}_{p_{1}p_{3}}^{h_{2}h_{1}}\n",
      "(-0.05163104863316395, [], []) 1.0 * \\Phi_{h_{0}h_{1}}^{p_{0}p_{1}}v_{h_{2}p_{0}}^{p_{3}h_{0}}{t_{2}}_{p_{3}p_{1}}^{h_{2}h_{1}}\n",
      "(0.025815524316581975, [], []) -0.5 * \\Phi_{h_{0}h_{1}}^{p_{0}p_{1}}v_{h_{2}p_{1}}^{p_{3}h_{0}}{t_{2}}_{p_{0}p_{3}}^{h_{1}h_{2}}\n",
      "(-0.012907762158290988, [], []) 0.25 * \\Phi_{h_{0}h_{1}}^{p_{0}p_{1}}v_{h_{2}p_{1}}^{p_{3}h_{0}}{t_{2}}_{p_{3}p_{0}}^{h_{1}h_{2}}\n",
      "(-0.05163104863316395, [], []) 1.0 * \\Phi_{h_{0}h_{1}}^{p_{0}p_{1}}v_{h_{2}p_{0}}^{p_{3}h_{0}}{t_{2}}_{p_{1}p_{3}}^{h_{1}h_{2}}\n",
      "(0.025815524316581975, [], []) -0.5 * \\Phi_{h_{0}h_{1}}^{p_{0}p_{1}}v_{h_{2}p_{0}}^{p_{3}h_{0}}{t_{2}}_{p_{3}p_{1}}^{h_{1}h_{2}}\n",
      "(0.025815524316581975, [], []) -0.5 * \\Phi_{h_{0}h_{1}}^{p_{0}p_{1}}v_{h_{2}p_{1}}^{p_{3}h_{1}}{t_{2}}_{p_{0}p_{3}}^{h_{2}h_{0}}\n",
      "(-0.05163104863316395, [], []) 1.0 * \\Phi_{h_{0}h_{1}}^{p_{0}p_{1}}v_{h_{2}p_{1}}^{p_{3}h_{1}}{t_{2}}_{p_{3}p_{0}}^{h_{2}h_{0}}\n",
      "(-0.012907762158290988, [], []) 0.25 * \\Phi_{h_{0}h_{1}}^{p_{0}p_{1}}v_{h_{2}p_{0}}^{p_{3}h_{1}}{t_{2}}_{p_{1}p_{3}}^{h_{2}h_{0}}\n",
      "(0.025815524316581975, [], []) -0.5 * \\Phi_{h_{0}h_{1}}^{p_{0}p_{1}}v_{h_{2}p_{0}}^{p_{3}h_{1}}{t_{2}}_{p_{3}p_{1}}^{h_{2}h_{0}}\n",
      "(-0.05163104863316395, [], []) 1.0 * \\Phi_{h_{0}h_{1}}^{p_{0}p_{1}}v_{h_{2}p_{1}}^{p_{3}h_{1}}{t_{2}}_{p_{0}p_{3}}^{h_{0}h_{2}}\n",
      "(0.025815524316581975, [], []) -0.5 * \\Phi_{h_{0}h_{1}}^{p_{0}p_{1}}v_{h_{2}p_{1}}^{p_{3}h_{1}}{t_{2}}_{p_{3}p_{0}}^{h_{0}h_{2}}\n",
      "(0.025815524316581975, [], []) -0.5 * \\Phi_{h_{0}h_{1}}^{p_{0}p_{1}}v_{h_{2}p_{0}}^{p_{3}h_{1}}{t_{2}}_{p_{1}p_{3}}^{h_{0}h_{2}}\n",
      "(-0.012907762158290988, [], []) 0.25 * \\Phi_{h_{0}h_{1}}^{p_{0}p_{1}}v_{h_{2}p_{0}}^{p_{3}h_{1}}{t_{2}}_{p_{3}p_{1}}^{h_{0}h_{2}}\n",
      "(-0.012907762158290974, [], []) 0.25 * \\Phi_{h_{0}h_{1}}^{p_{0}p_{1}}v_{p_{1}h_{2}}^{h_{0}p_{3}}{t_{2}}_{p_{0}p_{3}}^{h_{2}h_{1}}\n",
      "(0.025815524316581948, [], []) -0.5 * \\Phi_{h_{0}h_{1}}^{p_{0}p_{1}}v_{p_{1}h_{2}}^{h_{0}p_{3}}{t_{2}}_{p_{3}p_{0}}^{h_{2}h_{1}}\n",
      "(0.025815524316581948, [], []) -0.5 * \\Phi_{h_{0}h_{1}}^{p_{0}p_{1}}v_{p_{0}h_{2}}^{h_{0}p_{3}}{t_{2}}_{p_{1}p_{3}}^{h_{2}h_{1}}\n",
      "(-0.051631048633163895, [], []) 1.0 * \\Phi_{h_{0}h_{1}}^{p_{0}p_{1}}v_{p_{0}h_{2}}^{h_{0}p_{3}}{t_{2}}_{p_{3}p_{1}}^{h_{2}h_{1}}\n",
      "(0.025815524316581948, [], []) -0.5 * \\Phi_{h_{0}h_{1}}^{p_{0}p_{1}}v_{p_{1}h_{2}}^{h_{0}p_{3}}{t_{2}}_{p_{0}p_{3}}^{h_{1}h_{2}}\n",
      "(-0.012907762158290974, [], []) 0.25 * \\Phi_{h_{0}h_{1}}^{p_{0}p_{1}}v_{p_{1}h_{2}}^{h_{0}p_{3}}{t_{2}}_{p_{3}p_{0}}^{h_{1}h_{2}}\n",
      "(-0.051631048633163895, [], []) 1.0 * \\Phi_{h_{0}h_{1}}^{p_{0}p_{1}}v_{p_{0}h_{2}}^{h_{0}p_{3}}{t_{2}}_{p_{1}p_{3}}^{h_{1}h_{2}}\n",
      "(0.025815524316581948, [], []) -0.5 * \\Phi_{h_{0}h_{1}}^{p_{0}p_{1}}v_{p_{0}h_{2}}^{h_{0}p_{3}}{t_{2}}_{p_{3}p_{1}}^{h_{1}h_{2}}\n",
      "(0.025815524316581948, [], []) -0.5 * \\Phi_{h_{0}h_{1}}^{p_{0}p_{1}}v_{p_{1}h_{2}}^{h_{1}p_{3}}{t_{2}}_{p_{0}p_{3}}^{h_{2}h_{0}}\n",
      "(-0.051631048633163895, [], []) 1.0 * \\Phi_{h_{0}h_{1}}^{p_{0}p_{1}}v_{p_{1}h_{2}}^{h_{1}p_{3}}{t_{2}}_{p_{3}p_{0}}^{h_{2}h_{0}}\n",
      "(-0.012907762158290974, [], []) 0.25 * \\Phi_{h_{0}h_{1}}^{p_{0}p_{1}}v_{p_{0}h_{2}}^{h_{1}p_{3}}{t_{2}}_{p_{1}p_{3}}^{h_{2}h_{0}}\n",
      "(0.025815524316581948, [], []) -0.5 * \\Phi_{h_{0}h_{1}}^{p_{0}p_{1}}v_{p_{0}h_{2}}^{h_{1}p_{3}}{t_{2}}_{p_{3}p_{1}}^{h_{2}h_{0}}\n",
      "(-0.051631048633163895, [], []) 1.0 * \\Phi_{h_{0}h_{1}}^{p_{0}p_{1}}v_{p_{1}h_{2}}^{h_{1}p_{3}}{t_{2}}_{p_{0}p_{3}}^{h_{0}h_{2}}\n",
      "(0.025815524316581948, [], []) -0.5 * \\Phi_{h_{0}h_{1}}^{p_{0}p_{1}}v_{p_{1}h_{2}}^{h_{1}p_{3}}{t_{2}}_{p_{3}p_{0}}^{h_{0}h_{2}}\n",
      "(0.025815524316581948, [], []) -0.5 * \\Phi_{h_{0}h_{1}}^{p_{0}p_{1}}v_{p_{0}h_{2}}^{h_{1}p_{3}}{t_{2}}_{p_{1}p_{3}}^{h_{0}h_{2}}\n",
      "(-0.012907762158290974, [], []) 0.25 * \\Phi_{h_{0}h_{1}}^{p_{0}p_{1}}v_{p_{0}h_{2}}^{h_{1}p_{3}}{t_{2}}_{p_{3}p_{1}}^{h_{0}h_{2}}\n",
      "(0.088829331805096, [], []) -0.5 * \\Phi_{h_{0}h_{1}}^{p_{0}p_{1}}v_{p_{1}h_{2}}^{p_{3}h_{0}}{t_{2}}_{p_{0}p_{3}}^{h_{2}h_{1}}\n",
      "(-0.044414665902548, [], []) 0.25 * \\Phi_{h_{0}h_{1}}^{p_{0}p_{1}}v_{p_{1}h_{2}}^{p_{3}h_{0}}{t_{2}}_{p_{3}p_{0}}^{h_{2}h_{1}}\n",
      "(-0.044414665902548, [], []) 0.25 * \\Phi_{h_{0}h_{1}}^{p_{0}p_{1}}v_{p_{0}h_{2}}^{p_{3}h_{0}}{t_{2}}_{p_{1}p_{3}}^{h_{2}h_{1}}\n",
      "(0.088829331805096, [], []) -0.5 * \\Phi_{h_{0}h_{1}}^{p_{0}p_{1}}v_{p_{0}h_{2}}^{p_{3}h_{0}}{t_{2}}_{p_{3}p_{1}}^{h_{2}h_{1}}\n",
      "(-0.044414665902548, [], []) 0.25 * \\Phi_{h_{0}h_{1}}^{p_{0}p_{1}}v_{p_{1}h_{2}}^{p_{3}h_{0}}{t_{2}}_{p_{0}p_{3}}^{h_{1}h_{2}}\n",
      "(0.088829331805096, [], []) -0.5 * \\Phi_{h_{0}h_{1}}^{p_{0}p_{1}}v_{p_{1}h_{2}}^{p_{3}h_{0}}{t_{2}}_{p_{3}p_{0}}^{h_{1}h_{2}}\n",
      "(0.088829331805096, [], []) -0.5 * \\Phi_{h_{0}h_{1}}^{p_{0}p_{1}}v_{p_{0}h_{2}}^{p_{3}h_{0}}{t_{2}}_{p_{1}p_{3}}^{h_{1}h_{2}}\n",
      "(-0.044414665902548, [], []) 0.25 * \\Phi_{h_{0}h_{1}}^{p_{0}p_{1}}v_{p_{0}h_{2}}^{p_{3}h_{0}}{t_{2}}_{p_{3}p_{1}}^{h_{1}h_{2}}\n",
      "(-0.044414665902548, [], []) 0.25 * \\Phi_{h_{0}h_{1}}^{p_{0}p_{1}}v_{p_{1}h_{2}}^{p_{3}h_{1}}{t_{2}}_{p_{0}p_{3}}^{h_{2}h_{0}}\n",
      "(0.088829331805096, [], []) -0.5 * \\Phi_{h_{0}h_{1}}^{p_{0}p_{1}}v_{p_{1}h_{2}}^{p_{3}h_{1}}{t_{2}}_{p_{3}p_{0}}^{h_{2}h_{0}}\n",
      "(0.088829331805096, [], []) -0.5 * \\Phi_{h_{0}h_{1}}^{p_{0}p_{1}}v_{p_{0}h_{2}}^{p_{3}h_{1}}{t_{2}}_{p_{1}p_{3}}^{h_{2}h_{0}}\n",
      "(-0.044414665902548, [], []) 0.25 * \\Phi_{h_{0}h_{1}}^{p_{0}p_{1}}v_{p_{0}h_{2}}^{p_{3}h_{1}}{t_{2}}_{p_{3}p_{1}}^{h_{2}h_{0}}\n",
      "(0.088829331805096, [], []) -0.5 * \\Phi_{h_{0}h_{1}}^{p_{0}p_{1}}v_{p_{1}h_{2}}^{p_{3}h_{1}}{t_{2}}_{p_{0}p_{3}}^{h_{0}h_{2}}\n",
      "(-0.044414665902548, [], []) 0.25 * \\Phi_{h_{0}h_{1}}^{p_{0}p_{1}}v_{p_{1}h_{2}}^{p_{3}h_{1}}{t_{2}}_{p_{3}p_{0}}^{h_{0}h_{2}}\n",
      "(-0.044414665902548, [], []) 0.25 * \\Phi_{h_{0}h_{1}}^{p_{0}p_{1}}v_{p_{0}h_{2}}^{p_{3}h_{1}}{t_{2}}_{p_{1}p_{3}}^{h_{0}h_{2}}\n",
      "(0.088829331805096, [], []) -0.5 * \\Phi_{h_{0}h_{1}}^{p_{0}p_{1}}v_{p_{0}h_{2}}^{p_{3}h_{1}}{t_{2}}_{p_{3}p_{1}}^{h_{0}h_{2}}\n",
      "(0.04667837086513314, [], []) -0.25 * \\Phi_{h_{0}h_{1}}^{p_{0}p_{1}}v_{p_{1}p_{0}}^{p_{4}p_{5}}{t_{2}}_{p_{5}p_{4}}^{h_{1}h_{0}}\n",
      "(-0.09335674173026628, [], []) 0.5 * \\Phi_{h_{0}h_{1}}^{p_{0}p_{1}}v_{p_{1}p_{0}}^{p_{4}p_{5}}{t_{2}}_{p_{4}p_{5}}^{h_{1}h_{0}}\n",
      "(-0.09335674173026628, [], []) 0.5 * \\Phi_{h_{0}h_{1}}^{p_{0}p_{1}}v_{p_{0}p_{1}}^{p_{4}p_{5}}{t_{2}}_{p_{5}p_{4}}^{h_{1}h_{0}}\n",
      "(0.04667837086513314, [], []) -0.25 * \\Phi_{h_{0}h_{1}}^{p_{0}p_{1}}v_{p_{0}p_{1}}^{p_{4}p_{5}}{t_{2}}_{p_{4}p_{5}}^{h_{1}h_{0}}\n",
      "(-0.09335674173026628, [], []) 0.5 * \\Phi_{h_{0}h_{1}}^{p_{0}p_{1}}v_{p_{1}p_{0}}^{p_{4}p_{5}}{t_{2}}_{p_{5}p_{4}}^{h_{0}h_{1}}\n",
      "(0.04667837086513314, [], []) -0.25 * \\Phi_{h_{0}h_{1}}^{p_{0}p_{1}}v_{p_{1}p_{0}}^{p_{4}p_{5}}{t_{2}}_{p_{4}p_{5}}^{h_{0}h_{1}}\n",
      "(0.04667837086513314, [], []) -0.25 * \\Phi_{h_{0}h_{1}}^{p_{0}p_{1}}v_{p_{0}p_{1}}^{p_{4}p_{5}}{t_{2}}_{p_{5}p_{4}}^{h_{0}h_{1}}\n",
      "(-0.09335674173026628, [], []) 0.5 * \\Phi_{h_{0}h_{1}}^{p_{0}p_{1}}v_{p_{0}p_{1}}^{p_{4}p_{5}}{t_{2}}_{p_{4}p_{5}}^{h_{0}h_{1}}\n"
     ]
    }
   ],
   "source": [
    "for term in LinearAmplitudeFluctuation.summandList:\n",
    "    print(GeneralisedWick.getContractedArray(term), term)"
   ]
  },
  {
   "cell_type": "code",
   "execution_count": 69,
   "metadata": {},
   "outputs": [
    {
     "name": "stdout",
     "output_type": "stream",
     "text": [
      "-0.5 * \\Phi_{h_{0}h_{1}}^{p_{0}p_{1}}v_{h_{2}p_{1}}^{h_{0}p_{3}}{t_{2}}_{p_{0}p_{3}}^{h_{2}h_{1}}\n",
      "-0.5 * \\Phi_{h_{0}h_{1}}^{p_{0}p_{1}}v_{p_{1}h_{2}}^{p_{3}h_{0}}{t_{2}}_{p_{0}p_{3}}^{h_{2}h_{1}}\n"
     ]
    }
   ],
   "source": [
    "print(LinearAmplitudeFluctuation.summandList[8])\n",
    "print(LinearAmplitudeFluctuation.summandList[-24])"
   ]
  },
  {
   "cell_type": "code",
   "execution_count": 70,
   "metadata": {},
   "outputs": [
    {
     "name": "stdout",
     "output_type": "stream",
     "text": [
      "-1.0 * a^{p_{1}\\beta}a_{h_{0}\\beta}a^{h_{2}\\beta}a_{p_{3}\\beta}\n",
      " + -1.0 * a^{p_{1}\\beta}a_{h_{0}\\alpha}a^{h_{2}\\alpha}a_{p_{3}\\beta}\n",
      " + -1.0 * a^{p_{1}\\alpha}a_{h_{0}\\beta}a^{h_{2}\\beta}a_{p_{3}\\alpha}\n",
      " + -1.0 * a^{p_{1}\\alpha}a_{h_{0}\\alpha}a^{h_{2}\\alpha}a_{p_{3}\\alpha}\n"
     ]
    }
   ],
   "source": [
    "print(LinearAmplitudeFluctuation.summandList[8].vertexList[1].getOperator(spinFree=True, normalOrdered=True))"
   ]
  },
  {
   "cell_type": "code",
   "execution_count": 71,
   "metadata": {},
   "outputs": [
    {
     "name": "stdout",
     "output_type": "stream",
     "text": [
      "-1.0 * a^{p_{1}\\beta}a_{h_{0}\\beta}a^{h_{2}\\beta}a_{p_{3}\\beta}\n",
      " + -1.0 * a^{p_{1}\\alpha}a_{h_{0}\\beta}a^{h_{2}\\beta}a_{p_{3}\\alpha}\n",
      " + -1.0 * a^{p_{1}\\beta}a_{h_{0}\\alpha}a^{h_{2}\\alpha}a_{p_{3}\\beta}\n",
      " + -1.0 * a^{p_{1}\\alpha}a_{h_{0}\\alpha}a^{h_{2}\\alpha}a_{p_{3}\\alpha}\n"
     ]
    }
   ],
   "source": [
    "print(LinearAmplitudeFluctuation.summandList[-24].vertexList[1].getOperator(spinFree=True, normalOrdered=True))"
   ]
  },
  {
   "cell_type": "code",
   "execution_count": 72,
   "metadata": {},
   "outputs": [
    {
     "name": "stdout",
     "output_type": "stream",
     "text": [
      "-1.0 * a^{h_{0}\\beta}a^{h_{1}\\beta}a_{p_{1}\\beta}a_{p_{0}\\beta}a^{p_{1}\\beta}a_{h_{0}\\beta}a^{h_{2}\\beta}a_{p_{3}\\beta}a^{p_{0}\\beta}a^{p_{3}\\beta}a_{h_{1}\\beta}a_{h_{2}\\beta}\n",
      " + -1.0 * a^{h_{0}\\alpha}a^{h_{1}\\beta}a_{p_{1}\\beta}a_{p_{0}\\alpha}a^{p_{1}\\beta}a_{h_{0}\\beta}a^{h_{2}\\beta}a_{p_{3}\\beta}a^{p_{0}\\beta}a^{p_{3}\\beta}a_{h_{1}\\beta}a_{h_{2}\\beta}\n",
      " + -1.0 * a^{h_{0}\\beta}a^{h_{1}\\alpha}a_{p_{1}\\alpha}a_{p_{0}\\beta}a^{p_{1}\\beta}a_{h_{0}\\beta}a^{h_{2}\\beta}a_{p_{3}\\beta}a^{p_{0}\\beta}a^{p_{3}\\beta}a_{h_{1}\\beta}a_{h_{2}\\beta}\n",
      " + -1.0 * a^{h_{0}\\alpha}a^{h_{1}\\alpha}a_{p_{1}\\alpha}a_{p_{0}\\alpha}a^{p_{1}\\beta}a_{h_{0}\\beta}a^{h_{2}\\beta}a_{p_{3}\\beta}a^{p_{0}\\beta}a^{p_{3}\\beta}a_{h_{1}\\beta}a_{h_{2}\\beta}\n",
      " + -1.0 * a^{h_{0}\\beta}a^{h_{1}\\beta}a_{p_{1}\\beta}a_{p_{0}\\beta}a^{p_{1}\\beta}a_{h_{0}\\alpha}a^{h_{2}\\alpha}a_{p_{3}\\beta}a^{p_{0}\\beta}a^{p_{3}\\beta}a_{h_{1}\\beta}a_{h_{2}\\beta}\n",
      " + -1.0 * a^{h_{0}\\alpha}a^{h_{1}\\beta}a_{p_{1}\\beta}a_{p_{0}\\alpha}a^{p_{1}\\beta}a_{h_{0}\\alpha}a^{h_{2}\\alpha}a_{p_{3}\\beta}a^{p_{0}\\beta}a^{p_{3}\\beta}a_{h_{1}\\beta}a_{h_{2}\\beta}\n",
      " + -1.0 * a^{h_{0}\\beta}a^{h_{1}\\alpha}a_{p_{1}\\alpha}a_{p_{0}\\beta}a^{p_{1}\\beta}a_{h_{0}\\alpha}a^{h_{2}\\alpha}a_{p_{3}\\beta}a^{p_{0}\\beta}a^{p_{3}\\beta}a_{h_{1}\\beta}a_{h_{2}\\beta}\n",
      " + -1.0 * a^{h_{0}\\alpha}a^{h_{1}\\alpha}a_{p_{1}\\alpha}a_{p_{0}\\alpha}a^{p_{1}\\beta}a_{h_{0}\\alpha}a^{h_{2}\\alpha}a_{p_{3}\\beta}a^{p_{0}\\beta}a^{p_{3}\\beta}a_{h_{1}\\beta}a_{h_{2}\\beta}\n",
      " + -1.0 * a^{h_{0}\\beta}a^{h_{1}\\beta}a_{p_{1}\\beta}a_{p_{0}\\beta}a^{p_{1}\\alpha}a_{h_{0}\\beta}a^{h_{2}\\beta}a_{p_{3}\\alpha}a^{p_{0}\\beta}a^{p_{3}\\beta}a_{h_{1}\\beta}a_{h_{2}\\beta}\n",
      " + -1.0 * a^{h_{0}\\alpha}a^{h_{1}\\beta}a_{p_{1}\\beta}a_{p_{0}\\alpha}a^{p_{1}\\alpha}a_{h_{0}\\beta}a^{h_{2}\\beta}a_{p_{3}\\alpha}a^{p_{0}\\beta}a^{p_{3}\\beta}a_{h_{1}\\beta}a_{h_{2}\\beta}\n",
      " + -1.0 * a^{h_{0}\\beta}a^{h_{1}\\alpha}a_{p_{1}\\alpha}a_{p_{0}\\beta}a^{p_{1}\\alpha}a_{h_{0}\\beta}a^{h_{2}\\beta}a_{p_{3}\\alpha}a^{p_{0}\\beta}a^{p_{3}\\beta}a_{h_{1}\\beta}a_{h_{2}\\beta}\n",
      " + -1.0 * a^{h_{0}\\alpha}a^{h_{1}\\alpha}a_{p_{1}\\alpha}a_{p_{0}\\alpha}a^{p_{1}\\alpha}a_{h_{0}\\beta}a^{h_{2}\\beta}a_{p_{3}\\alpha}a^{p_{0}\\beta}a^{p_{3}\\beta}a_{h_{1}\\beta}a_{h_{2}\\beta}\n",
      " + -1.0 * a^{h_{0}\\beta}a^{h_{1}\\beta}a_{p_{1}\\beta}a_{p_{0}\\beta}a^{p_{1}\\alpha}a_{h_{0}\\alpha}a^{h_{2}\\alpha}a_{p_{3}\\alpha}a^{p_{0}\\beta}a^{p_{3}\\beta}a_{h_{1}\\beta}a_{h_{2}\\beta}\n",
      " + -1.0 * a^{h_{0}\\alpha}a^{h_{1}\\beta}a_{p_{1}\\beta}a_{p_{0}\\alpha}a^{p_{1}\\alpha}a_{h_{0}\\alpha}a^{h_{2}\\alpha}a_{p_{3}\\alpha}a^{p_{0}\\beta}a^{p_{3}\\beta}a_{h_{1}\\beta}a_{h_{2}\\beta}\n",
      " + -1.0 * a^{h_{0}\\beta}a^{h_{1}\\alpha}a_{p_{1}\\alpha}a_{p_{0}\\beta}a^{p_{1}\\alpha}a_{h_{0}\\alpha}a^{h_{2}\\alpha}a_{p_{3}\\alpha}a^{p_{0}\\beta}a^{p_{3}\\beta}a_{h_{1}\\beta}a_{h_{2}\\beta}\n",
      " + -1.0 * a^{h_{0}\\alpha}a^{h_{1}\\alpha}a_{p_{1}\\alpha}a_{p_{0}\\alpha}a^{p_{1}\\alpha}a_{h_{0}\\alpha}a^{h_{2}\\alpha}a_{p_{3}\\alpha}a^{p_{0}\\beta}a^{p_{3}\\beta}a_{h_{1}\\beta}a_{h_{2}\\beta}\n",
      " + -1.0 * a^{h_{0}\\beta}a^{h_{1}\\beta}a_{p_{1}\\beta}a_{p_{0}\\beta}a^{p_{1}\\beta}a_{h_{0}\\beta}a^{h_{2}\\beta}a_{p_{3}\\beta}a^{p_{0}\\alpha}a^{p_{3}\\beta}a_{h_{1}\\beta}a_{h_{2}\\alpha}\n",
      " + -1.0 * a^{h_{0}\\alpha}a^{h_{1}\\beta}a_{p_{1}\\beta}a_{p_{0}\\alpha}a^{p_{1}\\beta}a_{h_{0}\\beta}a^{h_{2}\\beta}a_{p_{3}\\beta}a^{p_{0}\\alpha}a^{p_{3}\\beta}a_{h_{1}\\beta}a_{h_{2}\\alpha}\n",
      " + -1.0 * a^{h_{0}\\beta}a^{h_{1}\\alpha}a_{p_{1}\\alpha}a_{p_{0}\\beta}a^{p_{1}\\beta}a_{h_{0}\\beta}a^{h_{2}\\beta}a_{p_{3}\\beta}a^{p_{0}\\alpha}a^{p_{3}\\beta}a_{h_{1}\\beta}a_{h_{2}\\alpha}\n",
      " + -1.0 * a^{h_{0}\\alpha}a^{h_{1}\\alpha}a_{p_{1}\\alpha}a_{p_{0}\\alpha}a^{p_{1}\\beta}a_{h_{0}\\beta}a^{h_{2}\\beta}a_{p_{3}\\beta}a^{p_{0}\\alpha}a^{p_{3}\\beta}a_{h_{1}\\beta}a_{h_{2}\\alpha}\n",
      " + -1.0 * a^{h_{0}\\beta}a^{h_{1}\\beta}a_{p_{1}\\beta}a_{p_{0}\\beta}a^{p_{1}\\beta}a_{h_{0}\\alpha}a^{h_{2}\\alpha}a_{p_{3}\\beta}a^{p_{0}\\alpha}a^{p_{3}\\beta}a_{h_{1}\\beta}a_{h_{2}\\alpha}\n",
      " + -1.0 * a^{h_{0}\\alpha}a^{h_{1}\\beta}a_{p_{1}\\beta}a_{p_{0}\\alpha}a^{p_{1}\\beta}a_{h_{0}\\alpha}a^{h_{2}\\alpha}a_{p_{3}\\beta}a^{p_{0}\\alpha}a^{p_{3}\\beta}a_{h_{1}\\beta}a_{h_{2}\\alpha}\n",
      " + -1.0 * a^{h_{0}\\beta}a^{h_{1}\\alpha}a_{p_{1}\\alpha}a_{p_{0}\\beta}a^{p_{1}\\beta}a_{h_{0}\\alpha}a^{h_{2}\\alpha}a_{p_{3}\\beta}a^{p_{0}\\alpha}a^{p_{3}\\beta}a_{h_{1}\\beta}a_{h_{2}\\alpha}\n",
      " + -1.0 * a^{h_{0}\\alpha}a^{h_{1}\\alpha}a_{p_{1}\\alpha}a_{p_{0}\\alpha}a^{p_{1}\\beta}a_{h_{0}\\alpha}a^{h_{2}\\alpha}a_{p_{3}\\beta}a^{p_{0}\\alpha}a^{p_{3}\\beta}a_{h_{1}\\beta}a_{h_{2}\\alpha}\n",
      " + -1.0 * a^{h_{0}\\beta}a^{h_{1}\\beta}a_{p_{1}\\beta}a_{p_{0}\\beta}a^{p_{1}\\alpha}a_{h_{0}\\beta}a^{h_{2}\\beta}a_{p_{3}\\alpha}a^{p_{0}\\alpha}a^{p_{3}\\beta}a_{h_{1}\\beta}a_{h_{2}\\alpha}\n",
      " + -1.0 * a^{h_{0}\\alpha}a^{h_{1}\\beta}a_{p_{1}\\beta}a_{p_{0}\\alpha}a^{p_{1}\\alpha}a_{h_{0}\\beta}a^{h_{2}\\beta}a_{p_{3}\\alpha}a^{p_{0}\\alpha}a^{p_{3}\\beta}a_{h_{1}\\beta}a_{h_{2}\\alpha}\n",
      " + -1.0 * a^{h_{0}\\beta}a^{h_{1}\\alpha}a_{p_{1}\\alpha}a_{p_{0}\\beta}a^{p_{1}\\alpha}a_{h_{0}\\beta}a^{h_{2}\\beta}a_{p_{3}\\alpha}a^{p_{0}\\alpha}a^{p_{3}\\beta}a_{h_{1}\\beta}a_{h_{2}\\alpha}\n",
      " + -1.0 * a^{h_{0}\\alpha}a^{h_{1}\\alpha}a_{p_{1}\\alpha}a_{p_{0}\\alpha}a^{p_{1}\\alpha}a_{h_{0}\\beta}a^{h_{2}\\beta}a_{p_{3}\\alpha}a^{p_{0}\\alpha}a^{p_{3}\\beta}a_{h_{1}\\beta}a_{h_{2}\\alpha}\n",
      " + -1.0 * a^{h_{0}\\beta}a^{h_{1}\\beta}a_{p_{1}\\beta}a_{p_{0}\\beta}a^{p_{1}\\alpha}a_{h_{0}\\alpha}a^{h_{2}\\alpha}a_{p_{3}\\alpha}a^{p_{0}\\alpha}a^{p_{3}\\beta}a_{h_{1}\\beta}a_{h_{2}\\alpha}\n",
      " + -1.0 * a^{h_{0}\\alpha}a^{h_{1}\\beta}a_{p_{1}\\beta}a_{p_{0}\\alpha}a^{p_{1}\\alpha}a_{h_{0}\\alpha}a^{h_{2}\\alpha}a_{p_{3}\\alpha}a^{p_{0}\\alpha}a^{p_{3}\\beta}a_{h_{1}\\beta}a_{h_{2}\\alpha}\n",
      " + -1.0 * a^{h_{0}\\beta}a^{h_{1}\\alpha}a_{p_{1}\\alpha}a_{p_{0}\\beta}a^{p_{1}\\alpha}a_{h_{0}\\alpha}a^{h_{2}\\alpha}a_{p_{3}\\alpha}a^{p_{0}\\alpha}a^{p_{3}\\beta}a_{h_{1}\\beta}a_{h_{2}\\alpha}\n",
      " + -1.0 * a^{h_{0}\\alpha}a^{h_{1}\\alpha}a_{p_{1}\\alpha}a_{p_{0}\\alpha}a^{p_{1}\\alpha}a_{h_{0}\\alpha}a^{h_{2}\\alpha}a_{p_{3}\\alpha}a^{p_{0}\\alpha}a^{p_{3}\\beta}a_{h_{1}\\beta}a_{h_{2}\\alpha}\n",
      " + -1.0 * a^{h_{0}\\beta}a^{h_{1}\\beta}a_{p_{1}\\beta}a_{p_{0}\\beta}a^{p_{1}\\beta}a_{h_{0}\\beta}a^{h_{2}\\beta}a_{p_{3}\\beta}a^{p_{0}\\beta}a^{p_{3}\\alpha}a_{h_{1}\\alpha}a_{h_{2}\\beta}\n",
      " + -1.0 * a^{h_{0}\\alpha}a^{h_{1}\\beta}a_{p_{1}\\beta}a_{p_{0}\\alpha}a^{p_{1}\\beta}a_{h_{0}\\beta}a^{h_{2}\\beta}a_{p_{3}\\beta}a^{p_{0}\\beta}a^{p_{3}\\alpha}a_{h_{1}\\alpha}a_{h_{2}\\beta}\n",
      " + -1.0 * a^{h_{0}\\beta}a^{h_{1}\\alpha}a_{p_{1}\\alpha}a_{p_{0}\\beta}a^{p_{1}\\beta}a_{h_{0}\\beta}a^{h_{2}\\beta}a_{p_{3}\\beta}a^{p_{0}\\beta}a^{p_{3}\\alpha}a_{h_{1}\\alpha}a_{h_{2}\\beta}\n",
      " + -1.0 * a^{h_{0}\\alpha}a^{h_{1}\\alpha}a_{p_{1}\\alpha}a_{p_{0}\\alpha}a^{p_{1}\\beta}a_{h_{0}\\beta}a^{h_{2}\\beta}a_{p_{3}\\beta}a^{p_{0}\\beta}a^{p_{3}\\alpha}a_{h_{1}\\alpha}a_{h_{2}\\beta}\n",
      " + -1.0 * a^{h_{0}\\beta}a^{h_{1}\\beta}a_{p_{1}\\beta}a_{p_{0}\\beta}a^{p_{1}\\beta}a_{h_{0}\\alpha}a^{h_{2}\\alpha}a_{p_{3}\\beta}a^{p_{0}\\beta}a^{p_{3}\\alpha}a_{h_{1}\\alpha}a_{h_{2}\\beta}\n",
      " + -1.0 * a^{h_{0}\\alpha}a^{h_{1}\\beta}a_{p_{1}\\beta}a_{p_{0}\\alpha}a^{p_{1}\\beta}a_{h_{0}\\alpha}a^{h_{2}\\alpha}a_{p_{3}\\beta}a^{p_{0}\\beta}a^{p_{3}\\alpha}a_{h_{1}\\alpha}a_{h_{2}\\beta}\n",
      " + -1.0 * a^{h_{0}\\beta}a^{h_{1}\\alpha}a_{p_{1}\\alpha}a_{p_{0}\\beta}a^{p_{1}\\beta}a_{h_{0}\\alpha}a^{h_{2}\\alpha}a_{p_{3}\\beta}a^{p_{0}\\beta}a^{p_{3}\\alpha}a_{h_{1}\\alpha}a_{h_{2}\\beta}\n",
      " + -1.0 * a^{h_{0}\\alpha}a^{h_{1}\\alpha}a_{p_{1}\\alpha}a_{p_{0}\\alpha}a^{p_{1}\\beta}a_{h_{0}\\alpha}a^{h_{2}\\alpha}a_{p_{3}\\beta}a^{p_{0}\\beta}a^{p_{3}\\alpha}a_{h_{1}\\alpha}a_{h_{2}\\beta}\n",
      " + -1.0 * a^{h_{0}\\beta}a^{h_{1}\\beta}a_{p_{1}\\beta}a_{p_{0}\\beta}a^{p_{1}\\alpha}a_{h_{0}\\beta}a^{h_{2}\\beta}a_{p_{3}\\alpha}a^{p_{0}\\beta}a^{p_{3}\\alpha}a_{h_{1}\\alpha}a_{h_{2}\\beta}\n",
      " + -1.0 * a^{h_{0}\\alpha}a^{h_{1}\\beta}a_{p_{1}\\beta}a_{p_{0}\\alpha}a^{p_{1}\\alpha}a_{h_{0}\\beta}a^{h_{2}\\beta}a_{p_{3}\\alpha}a^{p_{0}\\beta}a^{p_{3}\\alpha}a_{h_{1}\\alpha}a_{h_{2}\\beta}\n",
      " + -1.0 * a^{h_{0}\\beta}a^{h_{1}\\alpha}a_{p_{1}\\alpha}a_{p_{0}\\beta}a^{p_{1}\\alpha}a_{h_{0}\\beta}a^{h_{2}\\beta}a_{p_{3}\\alpha}a^{p_{0}\\beta}a^{p_{3}\\alpha}a_{h_{1}\\alpha}a_{h_{2}\\beta}\n",
      " + -1.0 * a^{h_{0}\\alpha}a^{h_{1}\\alpha}a_{p_{1}\\alpha}a_{p_{0}\\alpha}a^{p_{1}\\alpha}a_{h_{0}\\beta}a^{h_{2}\\beta}a_{p_{3}\\alpha}a^{p_{0}\\beta}a^{p_{3}\\alpha}a_{h_{1}\\alpha}a_{h_{2}\\beta}\n",
      " + -1.0 * a^{h_{0}\\beta}a^{h_{1}\\beta}a_{p_{1}\\beta}a_{p_{0}\\beta}a^{p_{1}\\alpha}a_{h_{0}\\alpha}a^{h_{2}\\alpha}a_{p_{3}\\alpha}a^{p_{0}\\beta}a^{p_{3}\\alpha}a_{h_{1}\\alpha}a_{h_{2}\\beta}\n",
      " + -1.0 * a^{h_{0}\\alpha}a^{h_{1}\\beta}a_{p_{1}\\beta}a_{p_{0}\\alpha}a^{p_{1}\\alpha}a_{h_{0}\\alpha}a^{h_{2}\\alpha}a_{p_{3}\\alpha}a^{p_{0}\\beta}a^{p_{3}\\alpha}a_{h_{1}\\alpha}a_{h_{2}\\beta}\n",
      " + -1.0 * a^{h_{0}\\beta}a^{h_{1}\\alpha}a_{p_{1}\\alpha}a_{p_{0}\\beta}a^{p_{1}\\alpha}a_{h_{0}\\alpha}a^{h_{2}\\alpha}a_{p_{3}\\alpha}a^{p_{0}\\beta}a^{p_{3}\\alpha}a_{h_{1}\\alpha}a_{h_{2}\\beta}\n",
      " + -1.0 * a^{h_{0}\\alpha}a^{h_{1}\\alpha}a_{p_{1}\\alpha}a_{p_{0}\\alpha}a^{p_{1}\\alpha}a_{h_{0}\\alpha}a^{h_{2}\\alpha}a_{p_{3}\\alpha}a^{p_{0}\\beta}a^{p_{3}\\alpha}a_{h_{1}\\alpha}a_{h_{2}\\beta}\n",
      " + -1.0 * a^{h_{0}\\beta}a^{h_{1}\\beta}a_{p_{1}\\beta}a_{p_{0}\\beta}a^{p_{1}\\beta}a_{h_{0}\\beta}a^{h_{2}\\beta}a_{p_{3}\\beta}a^{p_{0}\\alpha}a^{p_{3}\\alpha}a_{h_{1}\\alpha}a_{h_{2}\\alpha}\n",
      " + -1.0 * a^{h_{0}\\alpha}a^{h_{1}\\beta}a_{p_{1}\\beta}a_{p_{0}\\alpha}a^{p_{1}\\beta}a_{h_{0}\\beta}a^{h_{2}\\beta}a_{p_{3}\\beta}a^{p_{0}\\alpha}a^{p_{3}\\alpha}a_{h_{1}\\alpha}a_{h_{2}\\alpha}\n",
      " + -1.0 * a^{h_{0}\\beta}a^{h_{1}\\alpha}a_{p_{1}\\alpha}a_{p_{0}\\beta}a^{p_{1}\\beta}a_{h_{0}\\beta}a^{h_{2}\\beta}a_{p_{3}\\beta}a^{p_{0}\\alpha}a^{p_{3}\\alpha}a_{h_{1}\\alpha}a_{h_{2}\\alpha}\n",
      " + -1.0 * a^{h_{0}\\alpha}a^{h_{1}\\alpha}a_{p_{1}\\alpha}a_{p_{0}\\alpha}a^{p_{1}\\beta}a_{h_{0}\\beta}a^{h_{2}\\beta}a_{p_{3}\\beta}a^{p_{0}\\alpha}a^{p_{3}\\alpha}a_{h_{1}\\alpha}a_{h_{2}\\alpha}\n",
      " + -1.0 * a^{h_{0}\\beta}a^{h_{1}\\beta}a_{p_{1}\\beta}a_{p_{0}\\beta}a^{p_{1}\\beta}a_{h_{0}\\alpha}a^{h_{2}\\alpha}a_{p_{3}\\beta}a^{p_{0}\\alpha}a^{p_{3}\\alpha}a_{h_{1}\\alpha}a_{h_{2}\\alpha}\n",
      " + -1.0 * a^{h_{0}\\alpha}a^{h_{1}\\beta}a_{p_{1}\\beta}a_{p_{0}\\alpha}a^{p_{1}\\beta}a_{h_{0}\\alpha}a^{h_{2}\\alpha}a_{p_{3}\\beta}a^{p_{0}\\alpha}a^{p_{3}\\alpha}a_{h_{1}\\alpha}a_{h_{2}\\alpha}\n",
      " + -1.0 * a^{h_{0}\\beta}a^{h_{1}\\alpha}a_{p_{1}\\alpha}a_{p_{0}\\beta}a^{p_{1}\\beta}a_{h_{0}\\alpha}a^{h_{2}\\alpha}a_{p_{3}\\beta}a^{p_{0}\\alpha}a^{p_{3}\\alpha}a_{h_{1}\\alpha}a_{h_{2}\\alpha}\n",
      " + -1.0 * a^{h_{0}\\alpha}a^{h_{1}\\alpha}a_{p_{1}\\alpha}a_{p_{0}\\alpha}a^{p_{1}\\beta}a_{h_{0}\\alpha}a^{h_{2}\\alpha}a_{p_{3}\\beta}a^{p_{0}\\alpha}a^{p_{3}\\alpha}a_{h_{1}\\alpha}a_{h_{2}\\alpha}\n",
      " + -1.0 * a^{h_{0}\\beta}a^{h_{1}\\beta}a_{p_{1}\\beta}a_{p_{0}\\beta}a^{p_{1}\\alpha}a_{h_{0}\\beta}a^{h_{2}\\beta}a_{p_{3}\\alpha}a^{p_{0}\\alpha}a^{p_{3}\\alpha}a_{h_{1}\\alpha}a_{h_{2}\\alpha}\n",
      " + -1.0 * a^{h_{0}\\alpha}a^{h_{1}\\beta}a_{p_{1}\\beta}a_{p_{0}\\alpha}a^{p_{1}\\alpha}a_{h_{0}\\beta}a^{h_{2}\\beta}a_{p_{3}\\alpha}a^{p_{0}\\alpha}a^{p_{3}\\alpha}a_{h_{1}\\alpha}a_{h_{2}\\alpha}\n",
      " + -1.0 * a^{h_{0}\\beta}a^{h_{1}\\alpha}a_{p_{1}\\alpha}a_{p_{0}\\beta}a^{p_{1}\\alpha}a_{h_{0}\\beta}a^{h_{2}\\beta}a_{p_{3}\\alpha}a^{p_{0}\\alpha}a^{p_{3}\\alpha}a_{h_{1}\\alpha}a_{h_{2}\\alpha}\n",
      " + -1.0 * a^{h_{0}\\alpha}a^{h_{1}\\alpha}a_{p_{1}\\alpha}a_{p_{0}\\alpha}a^{p_{1}\\alpha}a_{h_{0}\\beta}a^{h_{2}\\beta}a_{p_{3}\\alpha}a^{p_{0}\\alpha}a^{p_{3}\\alpha}a_{h_{1}\\alpha}a_{h_{2}\\alpha}\n",
      " + -1.0 * a^{h_{0}\\beta}a^{h_{1}\\beta}a_{p_{1}\\beta}a_{p_{0}\\beta}a^{p_{1}\\alpha}a_{h_{0}\\alpha}a^{h_{2}\\alpha}a_{p_{3}\\alpha}a^{p_{0}\\alpha}a^{p_{3}\\alpha}a_{h_{1}\\alpha}a_{h_{2}\\alpha}\n",
      " + -1.0 * a^{h_{0}\\alpha}a^{h_{1}\\beta}a_{p_{1}\\beta}a_{p_{0}\\alpha}a^{p_{1}\\alpha}a_{h_{0}\\alpha}a^{h_{2}\\alpha}a_{p_{3}\\alpha}a^{p_{0}\\alpha}a^{p_{3}\\alpha}a_{h_{1}\\alpha}a_{h_{2}\\alpha}\n",
      " + -1.0 * a^{h_{0}\\beta}a^{h_{1}\\alpha}a_{p_{1}\\alpha}a_{p_{0}\\beta}a^{p_{1}\\alpha}a_{h_{0}\\alpha}a^{h_{2}\\alpha}a_{p_{3}\\alpha}a^{p_{0}\\alpha}a^{p_{3}\\alpha}a_{h_{1}\\alpha}a_{h_{2}\\alpha}\n",
      " + -1.0 * a^{h_{0}\\alpha}a^{h_{1}\\alpha}a_{p_{1}\\alpha}a_{p_{0}\\alpha}a^{p_{1}\\alpha}a_{h_{0}\\alpha}a^{h_{2}\\alpha}a_{p_{3}\\alpha}a^{p_{0}\\alpha}a^{p_{3}\\alpha}a_{h_{1}\\alpha}a_{h_{2}\\alpha}\n",
      "-1.0 * a^{h_{0}\\beta}a^{h_{1}\\beta}a_{p_{1}\\beta}a_{p_{0}\\beta}a^{p_{1}\\beta}a_{h_{0}\\beta}a^{h_{2}\\beta}a_{p_{3}\\beta}a^{p_{0}\\beta}a^{p_{3}\\beta}a_{h_{1}\\beta}a_{h_{2}\\beta}\n",
      " + -1.0 * a^{h_{0}\\alpha}a^{h_{1}\\beta}a_{p_{1}\\beta}a_{p_{0}\\alpha}a^{p_{1}\\beta}a_{h_{0}\\beta}a^{h_{2}\\beta}a_{p_{3}\\beta}a^{p_{0}\\beta}a^{p_{3}\\beta}a_{h_{1}\\beta}a_{h_{2}\\beta}\n",
      " + -1.0 * a^{h_{0}\\beta}a^{h_{1}\\alpha}a_{p_{1}\\alpha}a_{p_{0}\\beta}a^{p_{1}\\beta}a_{h_{0}\\beta}a^{h_{2}\\beta}a_{p_{3}\\beta}a^{p_{0}\\beta}a^{p_{3}\\beta}a_{h_{1}\\beta}a_{h_{2}\\beta}\n",
      " + -1.0 * a^{h_{0}\\alpha}a^{h_{1}\\alpha}a_{p_{1}\\alpha}a_{p_{0}\\alpha}a^{p_{1}\\beta}a_{h_{0}\\beta}a^{h_{2}\\beta}a_{p_{3}\\beta}a^{p_{0}\\beta}a^{p_{3}\\beta}a_{h_{1}\\beta}a_{h_{2}\\beta}\n",
      " + -1.0 * a^{h_{0}\\beta}a^{h_{1}\\beta}a_{p_{1}\\beta}a_{p_{0}\\beta}a^{p_{1}\\alpha}a_{h_{0}\\beta}a^{h_{2}\\beta}a_{p_{3}\\alpha}a^{p_{0}\\beta}a^{p_{3}\\beta}a_{h_{1}\\beta}a_{h_{2}\\beta}\n",
      " + -1.0 * a^{h_{0}\\alpha}a^{h_{1}\\beta}a_{p_{1}\\beta}a_{p_{0}\\alpha}a^{p_{1}\\alpha}a_{h_{0}\\beta}a^{h_{2}\\beta}a_{p_{3}\\alpha}a^{p_{0}\\beta}a^{p_{3}\\beta}a_{h_{1}\\beta}a_{h_{2}\\beta}\n",
      " + -1.0 * a^{h_{0}\\beta}a^{h_{1}\\alpha}a_{p_{1}\\alpha}a_{p_{0}\\beta}a^{p_{1}\\alpha}a_{h_{0}\\beta}a^{h_{2}\\beta}a_{p_{3}\\alpha}a^{p_{0}\\beta}a^{p_{3}\\beta}a_{h_{1}\\beta}a_{h_{2}\\beta}\n",
      " + -1.0 * a^{h_{0}\\alpha}a^{h_{1}\\alpha}a_{p_{1}\\alpha}a_{p_{0}\\alpha}a^{p_{1}\\alpha}a_{h_{0}\\beta}a^{h_{2}\\beta}a_{p_{3}\\alpha}a^{p_{0}\\beta}a^{p_{3}\\beta}a_{h_{1}\\beta}a_{h_{2}\\beta}\n",
      " + -1.0 * a^{h_{0}\\beta}a^{h_{1}\\beta}a_{p_{1}\\beta}a_{p_{0}\\beta}a^{p_{1}\\beta}a_{h_{0}\\alpha}a^{h_{2}\\alpha}a_{p_{3}\\beta}a^{p_{0}\\beta}a^{p_{3}\\beta}a_{h_{1}\\beta}a_{h_{2}\\beta}\n",
      " + -1.0 * a^{h_{0}\\alpha}a^{h_{1}\\beta}a_{p_{1}\\beta}a_{p_{0}\\alpha}a^{p_{1}\\beta}a_{h_{0}\\alpha}a^{h_{2}\\alpha}a_{p_{3}\\beta}a^{p_{0}\\beta}a^{p_{3}\\beta}a_{h_{1}\\beta}a_{h_{2}\\beta}\n",
      " + -1.0 * a^{h_{0}\\beta}a^{h_{1}\\alpha}a_{p_{1}\\alpha}a_{p_{0}\\beta}a^{p_{1}\\beta}a_{h_{0}\\alpha}a^{h_{2}\\alpha}a_{p_{3}\\beta}a^{p_{0}\\beta}a^{p_{3}\\beta}a_{h_{1}\\beta}a_{h_{2}\\beta}\n",
      " + -1.0 * a^{h_{0}\\alpha}a^{h_{1}\\alpha}a_{p_{1}\\alpha}a_{p_{0}\\alpha}a^{p_{1}\\beta}a_{h_{0}\\alpha}a^{h_{2}\\alpha}a_{p_{3}\\beta}a^{p_{0}\\beta}a^{p_{3}\\beta}a_{h_{1}\\beta}a_{h_{2}\\beta}\n",
      " + -1.0 * a^{h_{0}\\beta}a^{h_{1}\\beta}a_{p_{1}\\beta}a_{p_{0}\\beta}a^{p_{1}\\alpha}a_{h_{0}\\alpha}a^{h_{2}\\alpha}a_{p_{3}\\alpha}a^{p_{0}\\beta}a^{p_{3}\\beta}a_{h_{1}\\beta}a_{h_{2}\\beta}\n",
      " + -1.0 * a^{h_{0}\\alpha}a^{h_{1}\\beta}a_{p_{1}\\beta}a_{p_{0}\\alpha}a^{p_{1}\\alpha}a_{h_{0}\\alpha}a^{h_{2}\\alpha}a_{p_{3}\\alpha}a^{p_{0}\\beta}a^{p_{3}\\beta}a_{h_{1}\\beta}a_{h_{2}\\beta}\n",
      " + -1.0 * a^{h_{0}\\beta}a^{h_{1}\\alpha}a_{p_{1}\\alpha}a_{p_{0}\\beta}a^{p_{1}\\alpha}a_{h_{0}\\alpha}a^{h_{2}\\alpha}a_{p_{3}\\alpha}a^{p_{0}\\beta}a^{p_{3}\\beta}a_{h_{1}\\beta}a_{h_{2}\\beta}\n",
      " + -1.0 * a^{h_{0}\\alpha}a^{h_{1}\\alpha}a_{p_{1}\\alpha}a_{p_{0}\\alpha}a^{p_{1}\\alpha}a_{h_{0}\\alpha}a^{h_{2}\\alpha}a_{p_{3}\\alpha}a^{p_{0}\\beta}a^{p_{3}\\beta}a_{h_{1}\\beta}a_{h_{2}\\beta}\n",
      " + -1.0 * a^{h_{0}\\beta}a^{h_{1}\\beta}a_{p_{1}\\beta}a_{p_{0}\\beta}a^{p_{1}\\beta}a_{h_{0}\\beta}a^{h_{2}\\beta}a_{p_{3}\\beta}a^{p_{0}\\alpha}a^{p_{3}\\beta}a_{h_{1}\\beta}a_{h_{2}\\alpha}\n",
      " + -1.0 * a^{h_{0}\\alpha}a^{h_{1}\\beta}a_{p_{1}\\beta}a_{p_{0}\\alpha}a^{p_{1}\\beta}a_{h_{0}\\beta}a^{h_{2}\\beta}a_{p_{3}\\beta}a^{p_{0}\\alpha}a^{p_{3}\\beta}a_{h_{1}\\beta}a_{h_{2}\\alpha}\n",
      " + -1.0 * a^{h_{0}\\beta}a^{h_{1}\\alpha}a_{p_{1}\\alpha}a_{p_{0}\\beta}a^{p_{1}\\beta}a_{h_{0}\\beta}a^{h_{2}\\beta}a_{p_{3}\\beta}a^{p_{0}\\alpha}a^{p_{3}\\beta}a_{h_{1}\\beta}a_{h_{2}\\alpha}\n",
      " + -1.0 * a^{h_{0}\\alpha}a^{h_{1}\\alpha}a_{p_{1}\\alpha}a_{p_{0}\\alpha}a^{p_{1}\\beta}a_{h_{0}\\beta}a^{h_{2}\\beta}a_{p_{3}\\beta}a^{p_{0}\\alpha}a^{p_{3}\\beta}a_{h_{1}\\beta}a_{h_{2}\\alpha}\n",
      " + -1.0 * a^{h_{0}\\beta}a^{h_{1}\\beta}a_{p_{1}\\beta}a_{p_{0}\\beta}a^{p_{1}\\alpha}a_{h_{0}\\beta}a^{h_{2}\\beta}a_{p_{3}\\alpha}a^{p_{0}\\alpha}a^{p_{3}\\beta}a_{h_{1}\\beta}a_{h_{2}\\alpha}\n",
      " + -1.0 * a^{h_{0}\\alpha}a^{h_{1}\\beta}a_{p_{1}\\beta}a_{p_{0}\\alpha}a^{p_{1}\\alpha}a_{h_{0}\\beta}a^{h_{2}\\beta}a_{p_{3}\\alpha}a^{p_{0}\\alpha}a^{p_{3}\\beta}a_{h_{1}\\beta}a_{h_{2}\\alpha}\n",
      " + -1.0 * a^{h_{0}\\beta}a^{h_{1}\\alpha}a_{p_{1}\\alpha}a_{p_{0}\\beta}a^{p_{1}\\alpha}a_{h_{0}\\beta}a^{h_{2}\\beta}a_{p_{3}\\alpha}a^{p_{0}\\alpha}a^{p_{3}\\beta}a_{h_{1}\\beta}a_{h_{2}\\alpha}\n",
      " + -1.0 * a^{h_{0}\\alpha}a^{h_{1}\\alpha}a_{p_{1}\\alpha}a_{p_{0}\\alpha}a^{p_{1}\\alpha}a_{h_{0}\\beta}a^{h_{2}\\beta}a_{p_{3}\\alpha}a^{p_{0}\\alpha}a^{p_{3}\\beta}a_{h_{1}\\beta}a_{h_{2}\\alpha}\n",
      " + -1.0 * a^{h_{0}\\beta}a^{h_{1}\\beta}a_{p_{1}\\beta}a_{p_{0}\\beta}a^{p_{1}\\beta}a_{h_{0}\\alpha}a^{h_{2}\\alpha}a_{p_{3}\\beta}a^{p_{0}\\alpha}a^{p_{3}\\beta}a_{h_{1}\\beta}a_{h_{2}\\alpha}\n",
      " + -1.0 * a^{h_{0}\\alpha}a^{h_{1}\\beta}a_{p_{1}\\beta}a_{p_{0}\\alpha}a^{p_{1}\\beta}a_{h_{0}\\alpha}a^{h_{2}\\alpha}a_{p_{3}\\beta}a^{p_{0}\\alpha}a^{p_{3}\\beta}a_{h_{1}\\beta}a_{h_{2}\\alpha}\n",
      " + -1.0 * a^{h_{0}\\beta}a^{h_{1}\\alpha}a_{p_{1}\\alpha}a_{p_{0}\\beta}a^{p_{1}\\beta}a_{h_{0}\\alpha}a^{h_{2}\\alpha}a_{p_{3}\\beta}a^{p_{0}\\alpha}a^{p_{3}\\beta}a_{h_{1}\\beta}a_{h_{2}\\alpha}\n",
      " + -1.0 * a^{h_{0}\\alpha}a^{h_{1}\\alpha}a_{p_{1}\\alpha}a_{p_{0}\\alpha}a^{p_{1}\\beta}a_{h_{0}\\alpha}a^{h_{2}\\alpha}a_{p_{3}\\beta}a^{p_{0}\\alpha}a^{p_{3}\\beta}a_{h_{1}\\beta}a_{h_{2}\\alpha}\n",
      " + -1.0 * a^{h_{0}\\beta}a^{h_{1}\\beta}a_{p_{1}\\beta}a_{p_{0}\\beta}a^{p_{1}\\alpha}a_{h_{0}\\alpha}a^{h_{2}\\alpha}a_{p_{3}\\alpha}a^{p_{0}\\alpha}a^{p_{3}\\beta}a_{h_{1}\\beta}a_{h_{2}\\alpha}\n",
      " + -1.0 * a^{h_{0}\\alpha}a^{h_{1}\\beta}a_{p_{1}\\beta}a_{p_{0}\\alpha}a^{p_{1}\\alpha}a_{h_{0}\\alpha}a^{h_{2}\\alpha}a_{p_{3}\\alpha}a^{p_{0}\\alpha}a^{p_{3}\\beta}a_{h_{1}\\beta}a_{h_{2}\\alpha}\n",
      " + -1.0 * a^{h_{0}\\beta}a^{h_{1}\\alpha}a_{p_{1}\\alpha}a_{p_{0}\\beta}a^{p_{1}\\alpha}a_{h_{0}\\alpha}a^{h_{2}\\alpha}a_{p_{3}\\alpha}a^{p_{0}\\alpha}a^{p_{3}\\beta}a_{h_{1}\\beta}a_{h_{2}\\alpha}\n",
      " + -1.0 * a^{h_{0}\\alpha}a^{h_{1}\\alpha}a_{p_{1}\\alpha}a_{p_{0}\\alpha}a^{p_{1}\\alpha}a_{h_{0}\\alpha}a^{h_{2}\\alpha}a_{p_{3}\\alpha}a^{p_{0}\\alpha}a^{p_{3}\\beta}a_{h_{1}\\beta}a_{h_{2}\\alpha}\n",
      " + -1.0 * a^{h_{0}\\beta}a^{h_{1}\\beta}a_{p_{1}\\beta}a_{p_{0}\\beta}a^{p_{1}\\beta}a_{h_{0}\\beta}a^{h_{2}\\beta}a_{p_{3}\\beta}a^{p_{0}\\beta}a^{p_{3}\\alpha}a_{h_{1}\\alpha}a_{h_{2}\\beta}\n",
      " + -1.0 * a^{h_{0}\\alpha}a^{h_{1}\\beta}a_{p_{1}\\beta}a_{p_{0}\\alpha}a^{p_{1}\\beta}a_{h_{0}\\beta}a^{h_{2}\\beta}a_{p_{3}\\beta}a^{p_{0}\\beta}a^{p_{3}\\alpha}a_{h_{1}\\alpha}a_{h_{2}\\beta}\n",
      " + -1.0 * a^{h_{0}\\beta}a^{h_{1}\\alpha}a_{p_{1}\\alpha}a_{p_{0}\\beta}a^{p_{1}\\beta}a_{h_{0}\\beta}a^{h_{2}\\beta}a_{p_{3}\\beta}a^{p_{0}\\beta}a^{p_{3}\\alpha}a_{h_{1}\\alpha}a_{h_{2}\\beta}\n",
      " + -1.0 * a^{h_{0}\\alpha}a^{h_{1}\\alpha}a_{p_{1}\\alpha}a_{p_{0}\\alpha}a^{p_{1}\\beta}a_{h_{0}\\beta}a^{h_{2}\\beta}a_{p_{3}\\beta}a^{p_{0}\\beta}a^{p_{3}\\alpha}a_{h_{1}\\alpha}a_{h_{2}\\beta}\n",
      " + -1.0 * a^{h_{0}\\beta}a^{h_{1}\\beta}a_{p_{1}\\beta}a_{p_{0}\\beta}a^{p_{1}\\alpha}a_{h_{0}\\beta}a^{h_{2}\\beta}a_{p_{3}\\alpha}a^{p_{0}\\beta}a^{p_{3}\\alpha}a_{h_{1}\\alpha}a_{h_{2}\\beta}\n",
      " + -1.0 * a^{h_{0}\\alpha}a^{h_{1}\\beta}a_{p_{1}\\beta}a_{p_{0}\\alpha}a^{p_{1}\\alpha}a_{h_{0}\\beta}a^{h_{2}\\beta}a_{p_{3}\\alpha}a^{p_{0}\\beta}a^{p_{3}\\alpha}a_{h_{1}\\alpha}a_{h_{2}\\beta}\n",
      " + -1.0 * a^{h_{0}\\beta}a^{h_{1}\\alpha}a_{p_{1}\\alpha}a_{p_{0}\\beta}a^{p_{1}\\alpha}a_{h_{0}\\beta}a^{h_{2}\\beta}a_{p_{3}\\alpha}a^{p_{0}\\beta}a^{p_{3}\\alpha}a_{h_{1}\\alpha}a_{h_{2}\\beta}\n",
      " + -1.0 * a^{h_{0}\\alpha}a^{h_{1}\\alpha}a_{p_{1}\\alpha}a_{p_{0}\\alpha}a^{p_{1}\\alpha}a_{h_{0}\\beta}a^{h_{2}\\beta}a_{p_{3}\\alpha}a^{p_{0}\\beta}a^{p_{3}\\alpha}a_{h_{1}\\alpha}a_{h_{2}\\beta}\n",
      " + -1.0 * a^{h_{0}\\beta}a^{h_{1}\\beta}a_{p_{1}\\beta}a_{p_{0}\\beta}a^{p_{1}\\beta}a_{h_{0}\\alpha}a^{h_{2}\\alpha}a_{p_{3}\\beta}a^{p_{0}\\beta}a^{p_{3}\\alpha}a_{h_{1}\\alpha}a_{h_{2}\\beta}\n",
      " + -1.0 * a^{h_{0}\\alpha}a^{h_{1}\\beta}a_{p_{1}\\beta}a_{p_{0}\\alpha}a^{p_{1}\\beta}a_{h_{0}\\alpha}a^{h_{2}\\alpha}a_{p_{3}\\beta}a^{p_{0}\\beta}a^{p_{3}\\alpha}a_{h_{1}\\alpha}a_{h_{2}\\beta}\n",
      " + -1.0 * a^{h_{0}\\beta}a^{h_{1}\\alpha}a_{p_{1}\\alpha}a_{p_{0}\\beta}a^{p_{1}\\beta}a_{h_{0}\\alpha}a^{h_{2}\\alpha}a_{p_{3}\\beta}a^{p_{0}\\beta}a^{p_{3}\\alpha}a_{h_{1}\\alpha}a_{h_{2}\\beta}\n",
      " + -1.0 * a^{h_{0}\\alpha}a^{h_{1}\\alpha}a_{p_{1}\\alpha}a_{p_{0}\\alpha}a^{p_{1}\\beta}a_{h_{0}\\alpha}a^{h_{2}\\alpha}a_{p_{3}\\beta}a^{p_{0}\\beta}a^{p_{3}\\alpha}a_{h_{1}\\alpha}a_{h_{2}\\beta}\n",
      " + -1.0 * a^{h_{0}\\beta}a^{h_{1}\\beta}a_{p_{1}\\beta}a_{p_{0}\\beta}a^{p_{1}\\alpha}a_{h_{0}\\alpha}a^{h_{2}\\alpha}a_{p_{3}\\alpha}a^{p_{0}\\beta}a^{p_{3}\\alpha}a_{h_{1}\\alpha}a_{h_{2}\\beta}\n",
      " + -1.0 * a^{h_{0}\\alpha}a^{h_{1}\\beta}a_{p_{1}\\beta}a_{p_{0}\\alpha}a^{p_{1}\\alpha}a_{h_{0}\\alpha}a^{h_{2}\\alpha}a_{p_{3}\\alpha}a^{p_{0}\\beta}a^{p_{3}\\alpha}a_{h_{1}\\alpha}a_{h_{2}\\beta}\n",
      " + -1.0 * a^{h_{0}\\beta}a^{h_{1}\\alpha}a_{p_{1}\\alpha}a_{p_{0}\\beta}a^{p_{1}\\alpha}a_{h_{0}\\alpha}a^{h_{2}\\alpha}a_{p_{3}\\alpha}a^{p_{0}\\beta}a^{p_{3}\\alpha}a_{h_{1}\\alpha}a_{h_{2}\\beta}\n",
      " + -1.0 * a^{h_{0}\\alpha}a^{h_{1}\\alpha}a_{p_{1}\\alpha}a_{p_{0}\\alpha}a^{p_{1}\\alpha}a_{h_{0}\\alpha}a^{h_{2}\\alpha}a_{p_{3}\\alpha}a^{p_{0}\\beta}a^{p_{3}\\alpha}a_{h_{1}\\alpha}a_{h_{2}\\beta}\n",
      " + -1.0 * a^{h_{0}\\beta}a^{h_{1}\\beta}a_{p_{1}\\beta}a_{p_{0}\\beta}a^{p_{1}\\beta}a_{h_{0}\\beta}a^{h_{2}\\beta}a_{p_{3}\\beta}a^{p_{0}\\alpha}a^{p_{3}\\alpha}a_{h_{1}\\alpha}a_{h_{2}\\alpha}\n",
      " + -1.0 * a^{h_{0}\\alpha}a^{h_{1}\\beta}a_{p_{1}\\beta}a_{p_{0}\\alpha}a^{p_{1}\\beta}a_{h_{0}\\beta}a^{h_{2}\\beta}a_{p_{3}\\beta}a^{p_{0}\\alpha}a^{p_{3}\\alpha}a_{h_{1}\\alpha}a_{h_{2}\\alpha}\n",
      " + -1.0 * a^{h_{0}\\beta}a^{h_{1}\\alpha}a_{p_{1}\\alpha}a_{p_{0}\\beta}a^{p_{1}\\beta}a_{h_{0}\\beta}a^{h_{2}\\beta}a_{p_{3}\\beta}a^{p_{0}\\alpha}a^{p_{3}\\alpha}a_{h_{1}\\alpha}a_{h_{2}\\alpha}\n",
      " + -1.0 * a^{h_{0}\\alpha}a^{h_{1}\\alpha}a_{p_{1}\\alpha}a_{p_{0}\\alpha}a^{p_{1}\\beta}a_{h_{0}\\beta}a^{h_{2}\\beta}a_{p_{3}\\beta}a^{p_{0}\\alpha}a^{p_{3}\\alpha}a_{h_{1}\\alpha}a_{h_{2}\\alpha}\n",
      " + -1.0 * a^{h_{0}\\beta}a^{h_{1}\\beta}a_{p_{1}\\beta}a_{p_{0}\\beta}a^{p_{1}\\alpha}a_{h_{0}\\beta}a^{h_{2}\\beta}a_{p_{3}\\alpha}a^{p_{0}\\alpha}a^{p_{3}\\alpha}a_{h_{1}\\alpha}a_{h_{2}\\alpha}\n",
      " + -1.0 * a^{h_{0}\\alpha}a^{h_{1}\\beta}a_{p_{1}\\beta}a_{p_{0}\\alpha}a^{p_{1}\\alpha}a_{h_{0}\\beta}a^{h_{2}\\beta}a_{p_{3}\\alpha}a^{p_{0}\\alpha}a^{p_{3}\\alpha}a_{h_{1}\\alpha}a_{h_{2}\\alpha}\n",
      " + -1.0 * a^{h_{0}\\beta}a^{h_{1}\\alpha}a_{p_{1}\\alpha}a_{p_{0}\\beta}a^{p_{1}\\alpha}a_{h_{0}\\beta}a^{h_{2}\\beta}a_{p_{3}\\alpha}a^{p_{0}\\alpha}a^{p_{3}\\alpha}a_{h_{1}\\alpha}a_{h_{2}\\alpha}\n",
      " + -1.0 * a^{h_{0}\\alpha}a^{h_{1}\\alpha}a_{p_{1}\\alpha}a_{p_{0}\\alpha}a^{p_{1}\\alpha}a_{h_{0}\\beta}a^{h_{2}\\beta}a_{p_{3}\\alpha}a^{p_{0}\\alpha}a^{p_{3}\\alpha}a_{h_{1}\\alpha}a_{h_{2}\\alpha}\n",
      " + -1.0 * a^{h_{0}\\beta}a^{h_{1}\\beta}a_{p_{1}\\beta}a_{p_{0}\\beta}a^{p_{1}\\beta}a_{h_{0}\\alpha}a^{h_{2}\\alpha}a_{p_{3}\\beta}a^{p_{0}\\alpha}a^{p_{3}\\alpha}a_{h_{1}\\alpha}a_{h_{2}\\alpha}\n",
      " + -1.0 * a^{h_{0}\\alpha}a^{h_{1}\\beta}a_{p_{1}\\beta}a_{p_{0}\\alpha}a^{p_{1}\\beta}a_{h_{0}\\alpha}a^{h_{2}\\alpha}a_{p_{3}\\beta}a^{p_{0}\\alpha}a^{p_{3}\\alpha}a_{h_{1}\\alpha}a_{h_{2}\\alpha}\n",
      " + -1.0 * a^{h_{0}\\beta}a^{h_{1}\\alpha}a_{p_{1}\\alpha}a_{p_{0}\\beta}a^{p_{1}\\beta}a_{h_{0}\\alpha}a^{h_{2}\\alpha}a_{p_{3}\\beta}a^{p_{0}\\alpha}a^{p_{3}\\alpha}a_{h_{1}\\alpha}a_{h_{2}\\alpha}\n",
      " + -1.0 * a^{h_{0}\\alpha}a^{h_{1}\\alpha}a_{p_{1}\\alpha}a_{p_{0}\\alpha}a^{p_{1}\\beta}a_{h_{0}\\alpha}a^{h_{2}\\alpha}a_{p_{3}\\beta}a^{p_{0}\\alpha}a^{p_{3}\\alpha}a_{h_{1}\\alpha}a_{h_{2}\\alpha}\n",
      " + -1.0 * a^{h_{0}\\beta}a^{h_{1}\\beta}a_{p_{1}\\beta}a_{p_{0}\\beta}a^{p_{1}\\alpha}a_{h_{0}\\alpha}a^{h_{2}\\alpha}a_{p_{3}\\alpha}a^{p_{0}\\alpha}a^{p_{3}\\alpha}a_{h_{1}\\alpha}a_{h_{2}\\alpha}\n",
      " + -1.0 * a^{h_{0}\\alpha}a^{h_{1}\\beta}a_{p_{1}\\beta}a_{p_{0}\\alpha}a^{p_{1}\\alpha}a_{h_{0}\\alpha}a^{h_{2}\\alpha}a_{p_{3}\\alpha}a^{p_{0}\\alpha}a^{p_{3}\\alpha}a_{h_{1}\\alpha}a_{h_{2}\\alpha}\n",
      " + -1.0 * a^{h_{0}\\beta}a^{h_{1}\\alpha}a_{p_{1}\\alpha}a_{p_{0}\\beta}a^{p_{1}\\alpha}a_{h_{0}\\alpha}a^{h_{2}\\alpha}a_{p_{3}\\alpha}a^{p_{0}\\alpha}a^{p_{3}\\alpha}a_{h_{1}\\alpha}a_{h_{2}\\alpha}\n",
      " + -1.0 * a^{h_{0}\\alpha}a^{h_{1}\\alpha}a_{p_{1}\\alpha}a_{p_{0}\\alpha}a^{p_{1}\\alpha}a_{h_{0}\\alpha}a^{h_{2}\\alpha}a_{p_{3}\\alpha}a^{p_{0}\\alpha}a^{p_{3}\\alpha}a_{h_{1}\\alpha}a_{h_{2}\\alpha}\n"
     ]
    }
   ],
   "source": [
    "print(LinearAmplitudeFluctuation.summandList[8].getOperator(spinFree=True))\n",
    "print(LinearAmplitudeFluctuation.summandList[-24].getOperator(spinFree=True))"
   ]
  },
  {
   "cell_type": "code",
   "execution_count": 73,
   "metadata": {},
   "outputs": [
    {
     "name": "stdout",
     "output_type": "stream",
     "text": [
      "(0.08882933180509607, [], [])\n",
      "(0.088829331805096, [], [])\n"
     ]
    }
   ],
   "source": [
    "print(GeneralisedWick.getContractedArray(LinearAmplitudeFluctuation.summandList[8]))\n",
    "print(GeneralisedWick.getContractedArray(LinearAmplitudeFluctuation.summandList[-24]))"
   ]
  },
  {
   "cell_type": "code",
   "execution_count": 74,
   "metadata": {},
   "outputs": [
    {
     "name": "stdout",
     "output_type": "stream",
     "text": [
      "-0.36678409024928604\n"
     ]
    }
   ],
   "source": [
    "total = 0\n",
    "for term in LinearAmplitudeFluctuation.summandList[:8] + LinearAmplitudeFluctuation.summandList[-8:]:\n",
    "#    print(GeneralisedWick.getContractedArray(term))\n",
    "    total += GeneralisedWick.getContractedArray(term)[0]\n",
    "print(total)"
   ]
  },
  {
   "cell_type": "code",
   "execution_count": 75,
   "metadata": {},
   "outputs": [
    {
     "data": {
      "text/plain": [
       "-0.006642876671779069"
      ]
     },
     "execution_count": 75,
     "metadata": {},
     "output_type": "execute_result"
    }
   ],
   "source": [
    "LinearAmplitudeFluctuationOld"
   ]
  },
  {
   "cell_type": "code",
   "execution_count": 76,
   "metadata": {},
   "outputs": [
    {
     "name": "stdout",
     "output_type": "stream",
     "text": [
      "0.0\n",
      " + -0.275333314977893 * a^{1\\alpha}a^{1\\beta}a_{0\\beta}a_{0\\alpha}\n",
      " + -0.275333314977893 * a^{1\\beta}a^{1\\alpha}a_{0\\alpha}a_{0\\beta}\n",
      " + 0.0\n"
     ]
    }
   ],
   "source": [
    "print(clusterDoubles)"
   ]
  },
  {
   "cell_type": "code",
   "execution_count": 77,
   "metadata": {},
   "outputs": [
    {
     "data": {
      "text/plain": [
       "-0.02250882584859419"
      ]
     },
     "execution_count": 77,
     "metadata": {},
     "output_type": "execute_result"
    }
   ],
   "source": [
    "-0.275333314977893 * 0.25 * h2Array[0,0,0,0]"
   ]
  },
  {
   "cell_type": "code",
   "execution_count": 78,
   "metadata": {},
   "outputs": [
    {
     "name": "stdout",
     "output_type": "stream",
     "text": [
      "0.0\n",
      " + -0.0 * a^{1\\alpha}a^{1\\beta}a_{0\\beta}a_{0\\alpha}\n",
      " + -0.0 * a^{1\\beta}a^{1\\alpha}a_{0\\alpha}a_{0\\beta}\n",
      " + 0.0 * a^{0\\alpha}a^{0\\beta}a_{1\\beta}a_{1\\alpha}\n",
      " + 0.0 * a^{0\\beta}a^{0\\alpha}a_{1\\alpha}a_{1\\beta}\n",
      " + 0.0 * a^{0\\alpha}a^{0\\beta}a_{1\\beta}a_{1\\alpha}a^{1\\alpha}a^{1\\beta}a_{0\\beta}a_{0\\alpha}\n",
      " + 0.0 * a^{0\\alpha}a^{0\\beta}a_{1\\beta}a_{1\\alpha}a^{1\\alpha}a^{1\\beta}a_{0\\beta}a_{1\\alpha}\n",
      " + 0.0 * a^{0\\alpha}a^{0\\beta}a_{1\\beta}a_{1\\alpha}a^{1\\alpha}a^{1\\beta}a_{1\\beta}a_{0\\alpha}\n",
      " + 0.0 * a^{0\\alpha}a^{0\\beta}a_{1\\beta}a_{1\\alpha}a^{1\\alpha}a^{1\\beta}a_{1\\beta}a_{1\\alpha}\n",
      " + 0.0 * a^{0\\alpha}a^{0\\beta}a_{1\\beta}a_{1\\alpha}a^{1\\beta}a^{1\\alpha}a_{0\\alpha}a_{0\\beta}\n",
      " + 0.0 * a^{0\\alpha}a^{0\\beta}a_{1\\beta}a_{1\\alpha}a^{1\\beta}a^{1\\alpha}a_{0\\alpha}a_{1\\beta}\n",
      " + 0.0 * a^{0\\alpha}a^{0\\beta}a_{1\\beta}a_{1\\alpha}a^{1\\beta}a^{1\\alpha}a_{1\\alpha}a_{0\\beta}\n",
      " + 0.0 * a^{0\\alpha}a^{0\\beta}a_{1\\beta}a_{1\\alpha}a^{1\\beta}a^{1\\alpha}a_{1\\alpha}a_{1\\beta}\n",
      " + 0.0 * a^{0\\beta}a^{0\\alpha}a_{1\\alpha}a_{1\\beta}a^{1\\alpha}a^{1\\beta}a_{0\\beta}a_{0\\alpha}\n",
      " + 0.0 * a^{0\\beta}a^{0\\alpha}a_{1\\alpha}a_{1\\beta}a^{1\\alpha}a^{1\\beta}a_{0\\beta}a_{1\\alpha}\n",
      " + 0.0 * a^{0\\beta}a^{0\\alpha}a_{1\\alpha}a_{1\\beta}a^{1\\alpha}a^{1\\beta}a_{1\\beta}a_{0\\alpha}\n",
      " + 0.0 * a^{0\\beta}a^{0\\alpha}a_{1\\alpha}a_{1\\beta}a^{1\\alpha}a^{1\\beta}a_{1\\beta}a_{1\\alpha}\n",
      " + 0.0 * a^{0\\beta}a^{0\\alpha}a_{1\\alpha}a_{1\\beta}a^{1\\beta}a^{1\\alpha}a_{0\\alpha}a_{0\\beta}\n",
      " + 0.0 * a^{0\\beta}a^{0\\alpha}a_{1\\alpha}a_{1\\beta}a^{1\\beta}a^{1\\alpha}a_{0\\alpha}a_{1\\beta}\n",
      " + 0.0 * a^{0\\beta}a^{0\\alpha}a_{1\\alpha}a_{1\\beta}a^{1\\beta}a^{1\\alpha}a_{1\\alpha}a_{0\\beta}\n",
      " + 0.0 * a^{0\\beta}a^{0\\alpha}a_{1\\alpha}a_{1\\beta}a^{1\\beta}a^{1\\alpha}a_{1\\alpha}a_{1\\beta}\n",
      " + -0.02333918543256657 * a^{0\\alpha}a^{0\\beta}a_{1\\beta}a_{1\\alpha}a^{1\\alpha}a^{1\\beta}a_{1\\beta}a_{1\\alpha}a^{1\\alpha}a^{1\\beta}a_{0\\beta}a_{0\\alpha}\n",
      " + -0.02333918543256657 * a^{0\\alpha}a^{0\\beta}a_{1\\beta}a_{1\\alpha}a^{1\\alpha}a^{1\\beta}a_{1\\beta}a_{1\\alpha}a^{1\\beta}a^{1\\alpha}a_{0\\alpha}a_{0\\beta}\n",
      " + -0.02333918543256657 * a^{0\\alpha}a^{0\\beta}a_{1\\beta}a_{1\\alpha}a^{1\\beta}a^{1\\alpha}a_{1\\alpha}a_{1\\beta}a^{1\\alpha}a^{1\\beta}a_{0\\beta}a_{0\\alpha}\n",
      " + -0.02333918543256657 * a^{0\\alpha}a^{0\\beta}a_{1\\beta}a_{1\\alpha}a^{1\\beta}a^{1\\alpha}a_{1\\alpha}a_{1\\beta}a^{1\\beta}a^{1\\alpha}a_{0\\alpha}a_{0\\beta}\n",
      " + -0.02333918543256657 * a^{0\\beta}a^{0\\alpha}a_{1\\alpha}a_{1\\beta}a^{1\\alpha}a^{1\\beta}a_{1\\beta}a_{1\\alpha}a^{1\\alpha}a^{1\\beta}a_{0\\beta}a_{0\\alpha}\n",
      " + -0.02333918543256657 * a^{0\\beta}a^{0\\alpha}a_{1\\alpha}a_{1\\beta}a^{1\\alpha}a^{1\\beta}a_{1\\beta}a_{1\\alpha}a^{1\\beta}a^{1\\alpha}a_{0\\alpha}a_{0\\beta}\n",
      " + -0.02333918543256657 * a^{0\\beta}a^{0\\alpha}a_{1\\alpha}a_{1\\beta}a^{1\\beta}a^{1\\alpha}a_{1\\alpha}a_{1\\beta}a^{1\\alpha}a^{1\\beta}a_{0\\beta}a_{0\\alpha}\n",
      " + -0.02333918543256657 * a^{0\\beta}a^{0\\alpha}a_{1\\alpha}a_{1\\beta}a^{1\\beta}a^{1\\alpha}a_{1\\alpha}a_{1\\beta}a^{1\\beta}a^{1\\alpha}a_{0\\alpha}a_{0\\beta}\n",
      "0.0\n",
      " + 0.0 * a^{0\\alpha}a^{1\\alpha}a_{1\\alpha}a_{0\\alpha}\n",
      " + 0.0 * a^{0\\alpha}a^{1\\beta}a_{0\\beta}a_{0\\alpha}\n",
      " + 0.0 * a^{0\\alpha}a^{1\\beta}a_{1\\beta}a_{0\\alpha}\n",
      " + 0.0 * a^{0\\alpha}a^{1\\beta}a_{1\\beta}a_{1\\alpha}\n",
      " + 0.0 * a^{0\\beta}a^{1\\alpha}a_{0\\alpha}a_{0\\beta}\n",
      " + 0.0 * a^{0\\beta}a^{1\\alpha}a_{1\\alpha}a_{0\\beta}\n",
      " + 0.0 * a^{0\\beta}a^{1\\alpha}a_{1\\alpha}a_{1\\beta}\n",
      " + 0.0 * a^{0\\beta}a^{1\\beta}a_{1\\beta}a_{0\\beta}\n",
      " + 0.0 * a^{1\\alpha}a^{0\\alpha}a_{0\\alpha}a_{1\\alpha}\n",
      " + 0.0 * a^{1\\alpha}a^{0\\beta}a_{0\\beta}a_{0\\alpha}\n",
      " + 0.0 * a^{1\\alpha}a^{0\\beta}a_{0\\beta}a_{1\\alpha}\n",
      " + 0.0 * a^{1\\alpha}a^{0\\beta}a_{1\\beta}a_{1\\alpha}\n",
      " + 0.0 * a^{1\\alpha}a^{1\\beta}a_{0\\beta}a_{0\\alpha}\n",
      " + 0.0 * a^{1\\alpha}a^{1\\beta}a_{0\\beta}a_{1\\alpha}\n",
      " + 0.0 * a^{1\\alpha}a^{1\\beta}a_{1\\beta}a_{0\\alpha}\n",
      " + 0.0 * a^{1\\alpha}a^{1\\beta}a_{1\\beta}a_{1\\alpha}\n",
      " + 0.0 * a^{1\\beta}a^{0\\alpha}a_{0\\alpha}a_{0\\beta}\n",
      " + 0.0 * a^{1\\beta}a^{0\\alpha}a_{0\\alpha}a_{1\\beta}\n",
      " + 0.0 * a^{1\\beta}a^{0\\alpha}a_{1\\alpha}a_{1\\beta}\n",
      " + 0.0 * a^{1\\beta}a^{0\\beta}a_{0\\beta}a_{1\\beta}\n",
      " + 0.0 * a^{1\\beta}a^{1\\alpha}a_{0\\alpha}a_{0\\beta}\n",
      " + 0.0 * a^{1\\beta}a^{1\\alpha}a_{0\\alpha}a_{1\\beta}\n",
      " + 0.0 * a^{1\\beta}a^{1\\alpha}a_{1\\alpha}a_{0\\beta}\n",
      " + 0.0 * a^{1\\beta}a^{1\\alpha}a_{1\\alpha}a_{1\\beta}\n",
      " + 0.0 * a^{0\\alpha}a^{0\\beta}a_{0\\beta}a_{0\\alpha}\n",
      " + 0.0 * a^{0\\alpha}a^{0\\beta}a_{0\\beta}a_{1\\alpha}\n",
      " + 0.0 * a^{0\\alpha}a^{0\\beta}a_{1\\beta}a_{0\\alpha}\n",
      " + 0.0 * a^{0\\alpha}a^{0\\beta}a_{1\\beta}a_{1\\alpha}\n",
      " + 0.0 * a^{0\\beta}a^{0\\alpha}a_{0\\alpha}a_{0\\beta}\n",
      " + 0.0 * a^{0\\beta}a^{0\\alpha}a_{0\\alpha}a_{1\\beta}\n",
      " + 0.0 * a^{0\\beta}a^{0\\alpha}a_{1\\alpha}a_{0\\beta}\n",
      " + 0.0 * a^{0\\beta}a^{0\\alpha}a_{1\\alpha}a_{1\\beta}\n",
      " + 0.0 * a^{0\\alpha}a^{0\\beta}a_{1\\beta}a_{1\\alpha}a^{1\\alpha}a^{1\\beta}a_{0\\beta}a_{0\\alpha}\n",
      " + 0.0 * a^{0\\alpha}a^{0\\beta}a_{1\\beta}a_{1\\alpha}a^{1\\alpha}a^{1\\beta}a_{0\\beta}a_{1\\alpha}\n",
      " + 0.0 * a^{0\\alpha}a^{0\\beta}a_{1\\beta}a_{1\\alpha}a^{1\\alpha}a^{1\\beta}a_{1\\beta}a_{0\\alpha}\n",
      " + 0.0 * a^{0\\alpha}a^{0\\beta}a_{1\\beta}a_{1\\alpha}a^{1\\alpha}a^{1\\beta}a_{1\\beta}a_{1\\alpha}\n",
      " + 0.0 * a^{0\\alpha}a^{0\\beta}a_{1\\beta}a_{1\\alpha}a^{1\\beta}a^{1\\alpha}a_{0\\alpha}a_{0\\beta}\n",
      " + 0.0 * a^{0\\alpha}a^{0\\beta}a_{1\\beta}a_{1\\alpha}a^{1\\beta}a^{1\\alpha}a_{0\\alpha}a_{1\\beta}\n",
      " + 0.0 * a^{0\\alpha}a^{0\\beta}a_{1\\beta}a_{1\\alpha}a^{1\\beta}a^{1\\alpha}a_{1\\alpha}a_{0\\beta}\n",
      " + 0.0 * a^{0\\alpha}a^{0\\beta}a_{1\\beta}a_{1\\alpha}a^{1\\beta}a^{1\\alpha}a_{1\\alpha}a_{1\\beta}\n",
      " + 0.0 * a^{0\\beta}a^{0\\alpha}a_{1\\alpha}a_{1\\beta}a^{1\\alpha}a^{1\\beta}a_{0\\beta}a_{0\\alpha}\n",
      " + 0.0 * a^{0\\beta}a^{0\\alpha}a_{1\\alpha}a_{1\\beta}a^{1\\alpha}a^{1\\beta}a_{0\\beta}a_{1\\alpha}\n",
      " + 0.0 * a^{0\\beta}a^{0\\alpha}a_{1\\alpha}a_{1\\beta}a^{1\\alpha}a^{1\\beta}a_{1\\beta}a_{0\\alpha}\n",
      " + 0.0 * a^{0\\beta}a^{0\\alpha}a_{1\\alpha}a_{1\\beta}a^{1\\alpha}a^{1\\beta}a_{1\\beta}a_{1\\alpha}\n",
      " + 0.0 * a^{0\\beta}a^{0\\alpha}a_{1\\alpha}a_{1\\beta}a^{1\\beta}a^{1\\alpha}a_{0\\alpha}a_{0\\beta}\n",
      " + 0.0 * a^{0\\beta}a^{0\\alpha}a_{1\\alpha}a_{1\\beta}a^{1\\beta}a^{1\\alpha}a_{0\\alpha}a_{1\\beta}\n",
      " + 0.0 * a^{0\\beta}a^{0\\alpha}a_{1\\alpha}a_{1\\beta}a^{1\\beta}a^{1\\alpha}a_{1\\alpha}a_{0\\beta}\n",
      " + 0.0 * a^{0\\beta}a^{0\\alpha}a_{1\\alpha}a_{1\\beta}a^{1\\beta}a^{1\\alpha}a_{1\\alpha}a_{1\\beta}\n",
      " + -0.02250882584859419 * a^{0\\alpha}a^{0\\beta}a_{1\\beta}a_{1\\alpha}a^{1\\alpha}a^{1\\beta}a_{0\\beta}a_{0\\alpha}a^{0\\alpha}a^{0\\beta}a_{0\\beta}a_{0\\alpha}\n",
      " + -3.582203739080007e-18 * a^{0\\alpha}a^{0\\beta}a_{1\\beta}a_{1\\alpha}a^{1\\alpha}a^{1\\beta}a_{0\\beta}a_{0\\alpha}a^{0\\alpha}a^{0\\beta}a_{0\\beta}a_{1\\alpha}\n",
      " + -2.8657629912640058e-18 * a^{0\\alpha}a^{0\\beta}a_{1\\beta}a_{1\\alpha}a^{1\\alpha}a^{1\\beta}a_{0\\beta}a_{0\\alpha}a^{0\\alpha}a^{0\\beta}a_{1\\beta}a_{0\\alpha}\n",
      " + -0.006453881079145487 * a^{0\\alpha}a^{0\\beta}a_{1\\beta}a_{1\\alpha}a^{1\\alpha}a^{1\\beta}a_{0\\beta}a_{0\\alpha}a^{0\\alpha}a^{0\\beta}a_{1\\beta}a_{1\\alpha}\n",
      " + -0.02250882584859419 * a^{0\\alpha}a^{0\\beta}a_{1\\beta}a_{1\\alpha}a^{1\\alpha}a^{1\\beta}a_{0\\beta}a_{0\\alpha}a^{0\\beta}a^{0\\alpha}a_{0\\alpha}a_{0\\beta}\n",
      " + -3.582203739080007e-18 * a^{0\\alpha}a^{0\\beta}a_{1\\beta}a_{1\\alpha}a^{1\\alpha}a^{1\\beta}a_{0\\beta}a_{0\\alpha}a^{0\\beta}a^{0\\alpha}a_{0\\alpha}a_{1\\beta}\n",
      " + -2.8657629912640058e-18 * a^{0\\alpha}a^{0\\beta}a_{1\\beta}a_{1\\alpha}a^{1\\alpha}a^{1\\beta}a_{0\\beta}a_{0\\alpha}a^{0\\beta}a^{0\\alpha}a_{1\\alpha}a_{0\\beta}\n",
      " + -0.006453881079145487 * a^{0\\alpha}a^{0\\beta}a_{1\\beta}a_{1\\alpha}a^{1\\alpha}a^{1\\beta}a_{0\\beta}a_{0\\alpha}a^{0\\beta}a^{0\\alpha}a_{1\\alpha}a_{1\\beta}\n",
      " + -0.02250882584859419 * a^{0\\alpha}a^{0\\beta}a_{1\\beta}a_{1\\alpha}a^{1\\beta}a^{1\\alpha}a_{0\\alpha}a_{0\\beta}a^{0\\alpha}a^{0\\beta}a_{0\\beta}a_{0\\alpha}\n",
      " + -3.582203739080007e-18 * a^{0\\alpha}a^{0\\beta}a_{1\\beta}a_{1\\alpha}a^{1\\beta}a^{1\\alpha}a_{0\\alpha}a_{0\\beta}a^{0\\alpha}a^{0\\beta}a_{0\\beta}a_{1\\alpha}\n",
      " + -2.8657629912640058e-18 * a^{0\\alpha}a^{0\\beta}a_{1\\beta}a_{1\\alpha}a^{1\\beta}a^{1\\alpha}a_{0\\alpha}a_{0\\beta}a^{0\\alpha}a^{0\\beta}a_{1\\beta}a_{0\\alpha}\n",
      " + -0.006453881079145487 * a^{0\\alpha}a^{0\\beta}a_{1\\beta}a_{1\\alpha}a^{1\\beta}a^{1\\alpha}a_{0\\alpha}a_{0\\beta}a^{0\\alpha}a^{0\\beta}a_{1\\beta}a_{1\\alpha}\n",
      " + -0.02250882584859419 * a^{0\\alpha}a^{0\\beta}a_{1\\beta}a_{1\\alpha}a^{1\\beta}a^{1\\alpha}a_{0\\alpha}a_{0\\beta}a^{0\\beta}a^{0\\alpha}a_{0\\alpha}a_{0\\beta}\n",
      " + -3.582203739080007e-18 * a^{0\\alpha}a^{0\\beta}a_{1\\beta}a_{1\\alpha}a^{1\\beta}a^{1\\alpha}a_{0\\alpha}a_{0\\beta}a^{0\\beta}a^{0\\alpha}a_{0\\alpha}a_{1\\beta}\n",
      " + -2.8657629912640058e-18 * a^{0\\alpha}a^{0\\beta}a_{1\\beta}a_{1\\alpha}a^{1\\beta}a^{1\\alpha}a_{0\\alpha}a_{0\\beta}a^{0\\beta}a^{0\\alpha}a_{1\\alpha}a_{0\\beta}\n",
      " + -0.006453881079145487 * a^{0\\alpha}a^{0\\beta}a_{1\\beta}a_{1\\alpha}a^{1\\beta}a^{1\\alpha}a_{0\\alpha}a_{0\\beta}a^{0\\beta}a^{0\\alpha}a_{1\\alpha}a_{1\\beta}\n",
      " + -0.02250882584859419 * a^{0\\beta}a^{0\\alpha}a_{1\\alpha}a_{1\\beta}a^{1\\alpha}a^{1\\beta}a_{0\\beta}a_{0\\alpha}a^{0\\alpha}a^{0\\beta}a_{0\\beta}a_{0\\alpha}\n",
      " + -3.582203739080007e-18 * a^{0\\beta}a^{0\\alpha}a_{1\\alpha}a_{1\\beta}a^{1\\alpha}a^{1\\beta}a_{0\\beta}a_{0\\alpha}a^{0\\alpha}a^{0\\beta}a_{0\\beta}a_{1\\alpha}\n",
      " + -2.8657629912640058e-18 * a^{0\\beta}a^{0\\alpha}a_{1\\alpha}a_{1\\beta}a^{1\\alpha}a^{1\\beta}a_{0\\beta}a_{0\\alpha}a^{0\\alpha}a^{0\\beta}a_{1\\beta}a_{0\\alpha}\n",
      " + -0.006453881079145487 * a^{0\\beta}a^{0\\alpha}a_{1\\alpha}a_{1\\beta}a^{1\\alpha}a^{1\\beta}a_{0\\beta}a_{0\\alpha}a^{0\\alpha}a^{0\\beta}a_{1\\beta}a_{1\\alpha}\n",
      " + -0.02250882584859419 * a^{0\\beta}a^{0\\alpha}a_{1\\alpha}a_{1\\beta}a^{1\\alpha}a^{1\\beta}a_{0\\beta}a_{0\\alpha}a^{0\\beta}a^{0\\alpha}a_{0\\alpha}a_{0\\beta}\n",
      " + -3.582203739080007e-18 * a^{0\\beta}a^{0\\alpha}a_{1\\alpha}a_{1\\beta}a^{1\\alpha}a^{1\\beta}a_{0\\beta}a_{0\\alpha}a^{0\\beta}a^{0\\alpha}a_{0\\alpha}a_{1\\beta}\n",
      " + -2.8657629912640058e-18 * a^{0\\beta}a^{0\\alpha}a_{1\\alpha}a_{1\\beta}a^{1\\alpha}a^{1\\beta}a_{0\\beta}a_{0\\alpha}a^{0\\beta}a^{0\\alpha}a_{1\\alpha}a_{0\\beta}\n",
      " + -0.006453881079145487 * a^{0\\beta}a^{0\\alpha}a_{1\\alpha}a_{1\\beta}a^{1\\alpha}a^{1\\beta}a_{0\\beta}a_{0\\alpha}a^{0\\beta}a^{0\\alpha}a_{1\\alpha}a_{1\\beta}\n",
      " + -0.02250882584859419 * a^{0\\beta}a^{0\\alpha}a_{1\\alpha}a_{1\\beta}a^{1\\beta}a^{1\\alpha}a_{0\\alpha}a_{0\\beta}a^{0\\alpha}a^{0\\beta}a_{0\\beta}a_{0\\alpha}\n",
      " + -3.582203739080007e-18 * a^{0\\beta}a^{0\\alpha}a_{1\\alpha}a_{1\\beta}a^{1\\beta}a^{1\\alpha}a_{0\\alpha}a_{0\\beta}a^{0\\alpha}a^{0\\beta}a_{0\\beta}a_{1\\alpha}\n",
      " + -2.8657629912640058e-18 * a^{0\\beta}a^{0\\alpha}a_{1\\alpha}a_{1\\beta}a^{1\\beta}a^{1\\alpha}a_{0\\alpha}a_{0\\beta}a^{0\\alpha}a^{0\\beta}a_{1\\beta}a_{0\\alpha}\n",
      " + -0.006453881079145487 * a^{0\\beta}a^{0\\alpha}a_{1\\alpha}a_{1\\beta}a^{1\\beta}a^{1\\alpha}a_{0\\alpha}a_{0\\beta}a^{0\\alpha}a^{0\\beta}a_{1\\beta}a_{1\\alpha}\n",
      " + -0.02250882584859419 * a^{0\\beta}a^{0\\alpha}a_{1\\alpha}a_{1\\beta}a^{1\\beta}a^{1\\alpha}a_{0\\alpha}a_{0\\beta}a^{0\\beta}a^{0\\alpha}a_{0\\alpha}a_{0\\beta}\n",
      " + -3.582203739080007e-18 * a^{0\\beta}a^{0\\alpha}a_{1\\alpha}a_{1\\beta}a^{1\\beta}a^{1\\alpha}a_{0\\alpha}a_{0\\beta}a^{0\\beta}a^{0\\alpha}a_{0\\alpha}a_{1\\beta}\n",
      " + -2.8657629912640058e-18 * a^{0\\beta}a^{0\\alpha}a_{1\\alpha}a_{1\\beta}a^{1\\beta}a^{1\\alpha}a_{0\\alpha}a_{0\\beta}a^{0\\beta}a^{0\\alpha}a_{1\\alpha}a_{0\\beta}\n",
      " + -0.006453881079145487 * a^{0\\beta}a^{0\\alpha}a_{1\\alpha}a_{1\\beta}a^{1\\beta}a^{1\\alpha}a_{0\\alpha}a_{0\\beta}a^{0\\beta}a^{0\\alpha}a_{1\\alpha}a_{1\\beta}\n"
     ]
    }
   ],
   "source": [
    "print(projectionDoublesOperator * h2Operator * 0.25 * clusterDoubles)\n",
    "print(projectionDoublesOperator * 0.25 * clusterDoubles * h2Operator)"
   ]
  }
 ],
 "metadata": {
  "interpreter": {
   "hash": "aee8b7b246df8f9039afb4144a1f6fd8d2ca17a180786b69acc140d282b71a49"
  },
  "kernelspec": {
   "display_name": "Python 3.8.0 64-bit",
   "name": "python3"
  },
  "language_info": {
   "codemirror_mode": {
    "name": "ipython",
    "version": 3
   },
   "file_extension": ".py",
   "mimetype": "text/x-python",
   "name": "python",
   "nbconvert_exporter": "python",
   "pygments_lexer": "ipython3",
   "version": "3.8.0"
  },
  "orig_nbformat": 4
 },
 "nbformat": 4,
 "nbformat_minor": 2
}
