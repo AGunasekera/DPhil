{
 "metadata": {
  "language_info": {
   "codemirror_mode": {
    "name": "ipython",
    "version": 3
   },
   "file_extension": ".py",
   "mimetype": "text/x-python",
   "name": "python",
   "nbconvert_exporter": "python",
   "pygments_lexer": "ipython3",
   "version": "3.8.0"
  },
  "orig_nbformat": 2,
  "kernelspec": {
   "name": "python3",
   "display_name": "Python 3.8.0 64-bit"
  },
  "interpreter": {
   "hash": "aee8b7b246df8f9039afb4144a1f6fd8d2ca17a180786b69acc140d282b71a49"
  }
 },
 "nbformat": 4,
 "nbformat_minor": 2,
 "cells": [
  {
   "cell_type": "code",
   "execution_count": 1,
   "source": [
    "import numpy as np\n",
    "from pyscf import gto, scf, ao2mo, fci\n",
    "from Wick import *\n",
    "from math import factorial, sqrt"
   ],
   "outputs": [],
   "metadata": {}
  },
  {
   "cell_type": "code",
   "execution_count": 2,
   "source": [
    "norbs = 3\n",
    "Nocc = 2\n",
    "vacuumOccupations = [1 for i in range(Nocc)] + [0 for i in range (norbs - Nocc)]\n",
    "print(vacuumOccupations)"
   ],
   "outputs": [
    {
     "output_type": "stream",
     "name": "stdout",
     "text": [
      "[1, 1, 0]\n"
     ]
    }
   ],
   "metadata": {}
  },
  {
   "cell_type": "code",
   "execution_count": 3,
   "source": [
    "oP = operatorProduct([basicOperator(2,0,1), basicOperator(1,0,1), basicOperator(2,1,1), basicOperator(1,1,1)])\n",
    "nOP = normalOrder(oP, vacuumOccupations)\n",
    "print(oP)\n",
    "print(nOP)\n",
    "print(wickExpand(oP, vacuumOccupations))\n",
    "print(vacuumExpectationValue(oP, vacuumOccupations))"
   ],
   "outputs": [
    {
     "output_type": "stream",
     "name": "stdout",
     "text": [
      "1.0 * a_{2\\alpha}a_{1\\alpha}a^{2\\alpha}a^{1\\alpha}\n",
      "1.0 * a_{1\\alpha}a^{2\\alpha}a_{2\\alpha}a^{1\\alpha}\n",
      "0\n",
      "-1.0 * a_{1\\alpha}a^{1\\alpha}\n",
      "0\n",
      "0\n",
      "0\n",
      "0\n",
      "0\n",
      "0\n",
      "0\n",
      "-1.0 * a_{1\\alpha}a^{1\\alpha}\n",
      " + 1.0 * a_{1\\alpha}a^{2\\alpha}a_{2\\alpha}a^{1\\alpha}\n",
      "0.0\n"
     ]
    }
   ],
   "metadata": {}
  },
  {
   "cell_type": "code",
   "execution_count": 4,
   "source": [
    "bohr = 0.529177249\n",
    "\n",
    "H2sep = 1.605 * bohr\n",
    "\n",
    "mol = gto.Mole()\n",
    "mol.verbose = 1\n",
    "mol.atom = 'H 0 0 0; H 0 0 ' + str(H2sep)\n",
    "mol.basis = 'sto-3g'\n",
    "mol.spin = 0\n",
    "mol.build()\n",
    "\n",
    "Enuc = mol.energy_nuc()\n",
    "\n",
    "mf = scf.ROHF(mol)\n",
    "mf.kernel()\n",
    "\n",
    "h1 = mf.mo_coeff.T.dot(mf.get_hcore()).dot(mf.mo_coeff)\n",
    "eri = ao2mo.kernel(mol, mf.mo_coeff)\n",
    "\n",
    "cisolver = fci.FCI(mol, mf.mo_coeff)"
   ],
   "outputs": [],
   "metadata": {}
  },
  {
   "cell_type": "code",
   "execution_count": 5,
   "source": [
    "h1"
   ],
   "outputs": [
    {
     "output_type": "execute_result",
     "data": {
      "text/plain": [
       "array([[-1.18985062e+00,  2.60021255e-17],\n",
       "       [-4.71423569e-17, -5.33749102e-01]])"
      ]
     },
     "metadata": {},
     "execution_count": 5
    }
   ],
   "metadata": {}
  },
  {
   "cell_type": "code",
   "execution_count": 6,
   "source": [
    "eri"
   ],
   "outputs": [
    {
     "output_type": "execute_result",
     "data": {
      "text/plain": [
       "array([[6.54009511e-01, 8.32667268e-17, 6.45249427e-01],\n",
       "       [1.04083409e-16, 1.87521981e-01, 5.55111512e-17],\n",
       "       [6.45249427e-01, 1.38777878e-16, 6.78136184e-01]])"
      ]
     },
     "metadata": {},
     "execution_count": 6
    }
   ],
   "metadata": {}
  },
  {
   "cell_type": "code",
   "execution_count": 7,
   "source": [
    "mf.energy_elec() + mf.energy_nuc()"
   ],
   "outputs": [
    {
     "output_type": "execute_result",
     "data": {
      "text/plain": [
       "array([-1.10263881,  1.27706243])"
      ]
     },
     "metadata": {},
     "execution_count": 7
    }
   ],
   "metadata": {}
  },
  {
   "cell_type": "code",
   "execution_count": 8,
   "source": [
    "mf.mo_coeff"
   ],
   "outputs": [
    {
     "output_type": "execute_result",
     "data": {
      "text/plain": [
       "array([[ 0.56092571, -1.10314488],\n",
       "       [ 0.56092571,  1.10314488]])"
      ]
     },
     "metadata": {},
     "execution_count": 8
    }
   ],
   "metadata": {}
  },
  {
   "cell_type": "code",
   "execution_count": 9,
   "source": [
    "mf.nelec"
   ],
   "outputs": [
    {
     "output_type": "execute_result",
     "data": {
      "text/plain": [
       "(1, 1)"
      ]
     },
     "metadata": {},
     "execution_count": 9
    }
   ],
   "metadata": {}
  },
  {
   "cell_type": "code",
   "execution_count": 10,
   "source": [
    "def spinFreeSingleExcitation(p, q):\n",
    "    summandList = []\n",
    "    for spin in range(2):\n",
    "        summandList.append(operatorProduct([basicOperator(p,1,spin), basicOperator(q,0,spin)]))\n",
    "    return operatorSum(summandList)"
   ],
   "outputs": [],
   "metadata": {}
  },
  {
   "cell_type": "code",
   "execution_count": 11,
   "source": [
    "def spinFreeDoubleExcitation(p, q, r, s):\n",
    "    summandList = []\n",
    "    for spin1 in range(2):\n",
    "        for spin2 in range(2):\n",
    "            summandList.append(operatorProduct([basicOperator(p,1,spin2), basicOperator(q,1,spin1), basicOperator(s,0,spin1), basicOperator(r,0,spin2)]))\n",
    "    return operatorSum(summandList)"
   ],
   "outputs": [],
   "metadata": {}
  },
  {
   "cell_type": "code",
   "execution_count": 12,
   "source": [
    "mf.mol.nao"
   ],
   "outputs": [
    {
     "output_type": "execute_result",
     "data": {
      "text/plain": [
       "2"
      ]
     },
     "metadata": {},
     "execution_count": 12
    }
   ],
   "metadata": {}
  },
  {
   "cell_type": "code",
   "execution_count": 13,
   "source": [
    "Norbs = mol.nao\n",
    "Nocc = mf.nelectron_alpha\n",
    "vacuum = [1 for i in range(Nocc)] + [0 for i in range (Norbs - Nocc)]\n"
   ],
   "outputs": [],
   "metadata": {}
  },
  {
   "cell_type": "code",
   "execution_count": 14,
   "source": [
    "hamiltonian1Body = operatorSum([])\n",
    "for p in range(Norbs):\n",
    "    for q in range(Norbs):\n",
    "        hamiltonian1Body = hamiltonian1Body + h1[p, q] * spinFreeSingleExcitation(p, q)"
   ],
   "outputs": [],
   "metadata": {}
  },
  {
   "cell_type": "code",
   "execution_count": 15,
   "source": [
    "print(hamiltonian1Body)"
   ],
   "outputs": [
    {
     "output_type": "stream",
     "name": "stdout",
     "text": [
      "-1.1898506186070186 * a^{0\\alpha}a_{0\\alpha}\n",
      " + 2.600212552842601e-17 * a^{0\\alpha}a_{1\\alpha}\n",
      " + -1.1898506186070186 * a^{0\\beta}a_{0\\beta}\n",
      " + 2.600212552842601e-17 * a^{0\\beta}a_{1\\beta}\n",
      " + -4.7142356915405136e-17 * a^{1\\alpha}a_{0\\alpha}\n",
      " + -0.5337491016607854 * a^{1\\alpha}a_{1\\alpha}\n",
      " + -4.7142356915405136e-17 * a^{1\\beta}a_{0\\beta}\n",
      " + -0.5337491016607854 * a^{1\\beta}a_{1\\beta}\n"
     ]
    }
   ],
   "metadata": {}
  },
  {
   "cell_type": "code",
   "execution_count": 16,
   "source": [
    "print(wickExpand(hamiltonian1Body, [1,0]))"
   ],
   "outputs": [
    {
     "output_type": "stream",
     "name": "stdout",
     "text": [
      "-1.1898506186070186\n",
      "0\n",
      "-1.1898506186070186\n",
      "0\n",
      "0\n",
      "0\n",
      "0\n",
      "0\n",
      "-2.379701237214037\n",
      " + 1.1898506186070186 * a_{0\\alpha}a^{0\\alpha}\n",
      " + 1.1898506186070186 * a_{0\\beta}a^{0\\beta}\n",
      " + -4.7142356915405136e-17 * a^{1\\alpha}a_{0\\alpha}\n",
      " + -0.5337491016607854 * a^{1\\alpha}a_{1\\alpha}\n",
      " + -4.7142356915405136e-17 * a^{1\\beta}a_{0\\beta}\n",
      " + -0.5337491016607854 * a^{1\\beta}a_{1\\beta}\n",
      " + 2.600212552842601e-17 * a^{0\\alpha}a_{1\\alpha}\n",
      " + 2.600212552842601e-17 * a^{0\\beta}a_{1\\beta}\n"
     ]
    }
   ],
   "metadata": {}
  },
  {
   "cell_type": "code",
   "execution_count": 17,
   "source": [
    "hamiltonian1Body"
   ],
   "outputs": [
    {
     "output_type": "execute_result",
     "data": {
      "text/plain": [
       "<Wick.operatorSum at 0x10b7a03a0>"
      ]
     },
     "metadata": {},
     "execution_count": 17
    }
   ],
   "metadata": {}
  },
  {
   "cell_type": "code",
   "execution_count": 18,
   "source": [
    "wickExpand(hamiltonian1Body, [1,0])"
   ],
   "outputs": [
    {
     "output_type": "stream",
     "name": "stdout",
     "text": [
      "-1.1898506186070186\n",
      "0\n",
      "-1.1898506186070186\n",
      "0\n",
      "0\n",
      "0\n",
      "0\n",
      "0\n"
     ]
    },
    {
     "output_type": "execute_result",
     "data": {
      "text/plain": [
       "<Wick.operatorSum at 0x10b77f7f0>"
      ]
     },
     "metadata": {},
     "execution_count": 18
    }
   ],
   "metadata": {}
  },
  {
   "cell_type": "code",
   "execution_count": 19,
   "source": [
    "for s in hamiltonian1Body.summandList:\n",
    "    print(s)"
   ],
   "outputs": [
    {
     "output_type": "stream",
     "name": "stdout",
     "text": [
      "-1.1898506186070186 * a^{0\\alpha}a_{0\\alpha}\n",
      "2.600212552842601e-17 * a^{0\\alpha}a_{1\\alpha}\n",
      "-1.1898506186070186 * a^{0\\beta}a_{0\\beta}\n",
      "2.600212552842601e-17 * a^{0\\beta}a_{1\\beta}\n",
      "-4.7142356915405136e-17 * a^{1\\alpha}a_{0\\alpha}\n",
      "-0.5337491016607854 * a^{1\\alpha}a_{1\\alpha}\n",
      "-4.7142356915405136e-17 * a^{1\\beta}a_{0\\beta}\n",
      "-0.5337491016607854 * a^{1\\beta}a_{1\\beta}\n"
     ]
    }
   ],
   "metadata": {}
  },
  {
   "cell_type": "code",
   "execution_count": 20,
   "source": [
    "for s in normalOrder(hamiltonian1Body, [1,0]).summandList:\n",
    "    print(s)"
   ],
   "outputs": [
    {
     "output_type": "stream",
     "name": "stdout",
     "text": [
      "1.1898506186070186 * a_{0\\alpha}a^{0\\alpha}\n",
      "1.1898506186070186 * a_{0\\beta}a^{0\\beta}\n",
      "-4.7142356915405136e-17 * a^{1\\alpha}a_{0\\alpha}\n",
      "-0.5337491016607854 * a^{1\\alpha}a_{1\\alpha}\n",
      "-4.7142356915405136e-17 * a^{1\\beta}a_{0\\beta}\n",
      "-0.5337491016607854 * a^{1\\beta}a_{1\\beta}\n",
      "2.600212552842601e-17 * a^{0\\alpha}a_{1\\alpha}\n",
      "2.600212552842601e-17 * a^{0\\beta}a_{1\\beta}\n"
     ]
    }
   ],
   "metadata": {}
  },
  {
   "cell_type": "code",
   "execution_count": 21,
   "source": [
    "for s in wickExpand(hamiltonian1Body, [1,0]).summandList:\n",
    "    print(s)"
   ],
   "outputs": [
    {
     "output_type": "stream",
     "name": "stdout",
     "text": [
      "-1.1898506186070186\n",
      "0\n",
      "-1.1898506186070186\n",
      "0\n",
      "0\n",
      "0\n",
      "0\n",
      "0\n",
      "-2.379701237214037\n",
      "1.1898506186070186 * a_{0\\alpha}a^{0\\alpha}\n",
      "1.1898506186070186 * a_{0\\beta}a^{0\\beta}\n",
      "-4.7142356915405136e-17 * a^{1\\alpha}a_{0\\alpha}\n",
      "-0.5337491016607854 * a^{1\\alpha}a_{1\\alpha}\n",
      "-4.7142356915405136e-17 * a^{1\\beta}a_{0\\beta}\n",
      "-0.5337491016607854 * a^{1\\beta}a_{1\\beta}\n",
      "2.600212552842601e-17 * a^{0\\alpha}a_{1\\alpha}\n",
      "2.600212552842601e-17 * a^{0\\beta}a_{1\\beta}\n"
     ]
    }
   ],
   "metadata": {}
  },
  {
   "cell_type": "code",
   "execution_count": 22,
   "source": [
    "w = wickExpand(hamiltonian1Body, [1,0])"
   ],
   "outputs": [
    {
     "output_type": "stream",
     "name": "stdout",
     "text": [
      "-1.1898506186070186\n",
      "0\n",
      "-1.1898506186070186\n",
      "0\n",
      "0\n",
      "0\n",
      "0\n",
      "0\n"
     ]
    }
   ],
   "metadata": {}
  },
  {
   "cell_type": "code",
   "execution_count": 23,
   "source": [
    "w"
   ],
   "outputs": [
    {
     "output_type": "execute_result",
     "data": {
      "text/plain": [
       "<Wick.operatorSum at 0x11ed25400>"
      ]
     },
     "metadata": {},
     "execution_count": 23
    }
   ],
   "metadata": {}
  },
  {
   "cell_type": "code",
   "execution_count": 24,
   "source": [
    "print(w)"
   ],
   "outputs": [
    {
     "output_type": "stream",
     "name": "stdout",
     "text": [
      "-2.379701237214037\n",
      " + 1.1898506186070186 * a_{0\\alpha}a^{0\\alpha}\n",
      " + 1.1898506186070186 * a_{0\\beta}a^{0\\beta}\n",
      " + -4.7142356915405136e-17 * a^{1\\alpha}a_{0\\alpha}\n",
      " + -0.5337491016607854 * a^{1\\alpha}a_{1\\alpha}\n",
      " + -4.7142356915405136e-17 * a^{1\\beta}a_{0\\beta}\n",
      " + -0.5337491016607854 * a^{1\\beta}a_{1\\beta}\n",
      " + 2.600212552842601e-17 * a^{0\\alpha}a_{1\\alpha}\n",
      " + 2.600212552842601e-17 * a^{0\\beta}a_{1\\beta}\n"
     ]
    }
   ],
   "metadata": {}
  },
  {
   "cell_type": "code",
   "execution_count": 25,
   "source": [
    "vacuumExpectationValue(hamiltonian1Body, [1,0])"
   ],
   "outputs": [
    {
     "output_type": "execute_result",
     "data": {
      "text/plain": [
       "-2.379701237214037"
      ]
     },
     "metadata": {},
     "execution_count": 25
    }
   ],
   "metadata": {}
  },
  {
   "cell_type": "code",
   "execution_count": 26,
   "source": [
    "vEV = 0.\n",
    "for summand in w.summandList:\n",
    "    if summand.operatorList == []:\n",
    "        print(summand)\n",
    "        vEV += summand.prefactor\n"
   ],
   "outputs": [
    {
     "output_type": "stream",
     "name": "stdout",
     "text": [
      "-2.379701237214037\n"
     ]
    }
   ],
   "metadata": {}
  },
  {
   "cell_type": "code",
   "execution_count": 27,
   "source": [
    "vEV"
   ],
   "outputs": [
    {
     "output_type": "execute_result",
     "data": {
      "text/plain": [
       "-2.379701237214037"
      ]
     },
     "metadata": {},
     "execution_count": 27
    }
   ],
   "metadata": {}
  },
  {
   "cell_type": "code",
   "execution_count": 28,
   "source": [
    "mf.energy_nuc()"
   ],
   "outputs": [
    {
     "output_type": "execute_result",
     "data": {
      "text/plain": [
       "0.6230529146661897"
      ]
     },
     "metadata": {},
     "execution_count": 28
    }
   ],
   "metadata": {}
  },
  {
   "cell_type": "code",
   "execution_count": 29,
   "source": [
    "mf.energy_elec()"
   ],
   "outputs": [
    {
     "output_type": "execute_result",
     "data": {
      "text/plain": [
       "(-1.7256917258579134, 0.6540095113561237)"
      ]
     },
     "metadata": {},
     "execution_count": 29
    }
   ],
   "metadata": {}
  },
  {
   "cell_type": "code",
   "execution_count": 30,
   "source": [
    "hamiltonian2Body = operatorSum([])\n",
    "for p in range(Norbs):\n",
    "    for q in range(p, Norbs):\n",
    "        for r in range(Norbs):\n",
    "            for s in range(r, Norbs):\n",
    "                x = int(q + Norbs * p - 0.5 * p * (p + 1))\n",
    "                y = int(s + Norbs * r - 0.5 * r * (r + 1))\n",
    "                hamiltonian2Body = hamiltonian2Body + 0.5 * eri[x, y] * spinFreeDoubleExcitation(p, q, r, s)"
   ],
   "outputs": [],
   "metadata": {}
  },
  {
   "cell_type": "code",
   "execution_count": 31,
   "source": [
    "hamiltonian2Body = operatorSum([])\n",
    "for p in range(Norbs):\n",
    "    for q in range(Norbs):\n",
    "        for r in range(p):\n",
    "            for s in range(q):\n",
    "                if r >= p:\n",
    "                    x = int(q + Norbs * p - 0.5 * p * (p + 1))\n",
    "                else:\n",
    "                    x = int(p + Norbs * r - 0.5 * r * (r + 1))\n",
    "                if q >= s:\n",
    "                    y = int(s + Norbs * r - 0.5 * r * (r + 1))\n",
    "                else:\n",
    "                    y = int(q + Norbs * s - 0.5 * s * (s + 1))\n",
    "                hamiltonian2Body = hamiltonian2Body + 0.5 * eri[x, y] * spinFreeDoubleExcitation(p, q, r, s)"
   ],
   "outputs": [],
   "metadata": {}
  },
  {
   "cell_type": "code",
   "execution_count": 207,
   "source": [
    "print(eri)"
   ],
   "outputs": [
    {
     "output_type": "stream",
     "name": "stdout",
     "text": [
      "[[6.54009511e-01 8.32667268e-17 6.45249427e-01]\n",
      " [1.04083409e-16 1.87521981e-01 5.55111512e-17]\n",
      " [6.45249427e-01 1.38777878e-16 6.78136184e-01]]\n"
     ]
    }
   ],
   "metadata": {}
  },
  {
   "cell_type": "code",
   "execution_count": 32,
   "source": [
    "hamiltonian2Body = operatorSum([])\n",
    "for p in range(Norbs):\n",
    "    for q in range(Norbs):\n",
    "        for r in range(p + 1):\n",
    "            for s in range(q + 1):\n",
    "                x = int(p + Norbs * r - 0.5 * r * (r + 1))\n",
    "                y = int(q + Norbs * s - 0.5 * s * (s + 1))\n",
    "                print(p, q, r, s)\n",
    "                print(x, y)\n",
    "                if p == r and q == s:\n",
    "                    hamiltonian2Body = hamiltonian2Body + 0.5 * eri[x, y] * spinFreeDoubleExcitation(p, q, r, s)\n",
    "                else:\n",
    "                    hamiltonian2Body = hamiltonian2Body + 0.5 * eri[x, y] * spinFreeDoubleExcitation(p, q, r, s) + 0.5 * np.conjugate(eri[x, y]) * spinFreeDoubleExcitation(r, s, p, q)\n"
   ],
   "outputs": [
    {
     "output_type": "stream",
     "name": "stdout",
     "text": [
      "0 0 0 0\n",
      "0 0\n",
      "0 1 0 0\n",
      "0 1\n",
      "0 1 0 1\n",
      "0 2\n",
      "1 0 0 0\n",
      "1 0\n",
      "1 0 1 0\n",
      "2 0\n",
      "1 1 0 0\n",
      "1 1\n",
      "1 1 0 1\n",
      "1 2\n",
      "1 1 1 0\n",
      "2 1\n",
      "1 1 1 1\n",
      "2 2\n"
     ]
    }
   ],
   "metadata": {}
  },
  {
   "cell_type": "code",
   "execution_count": 33,
   "source": [
    "print(eri)"
   ],
   "outputs": [
    {
     "output_type": "stream",
     "name": "stdout",
     "text": [
      "[[6.54009511e-01 8.32667268e-17 6.45249427e-01]\n",
      " [1.04083409e-16 1.87521981e-01 5.55111512e-17]\n",
      " [6.45249427e-01 1.38777878e-16 6.78136184e-01]]\n"
     ]
    }
   ],
   "metadata": {}
  },
  {
   "cell_type": "code",
   "execution_count": 34,
   "source": [
    "print(hamiltonian2Body)"
   ],
   "outputs": [
    {
     "output_type": "stream",
     "name": "stdout",
     "text": [
      "0.3270047556780619 * a^{0\\alpha}a^{0\\alpha}a_{0\\alpha}a_{0\\alpha}\n",
      " + 5.204170427930421e-17 * a^{0\\alpha}a^{0\\alpha}a_{0\\alpha}a_{1\\alpha}\n",
      " + 4.163336342344337e-17 * a^{0\\alpha}a^{0\\alpha}a_{1\\alpha}a_{0\\alpha}\n",
      " + 0.09376099045135429 * a^{0\\alpha}a^{0\\alpha}a_{1\\alpha}a_{1\\alpha}\n",
      " + 0.3270047556780619 * a^{0\\alpha}a^{0\\beta}a_{0\\beta}a_{0\\alpha}\n",
      " + 5.204170427930421e-17 * a^{0\\alpha}a^{0\\beta}a_{0\\beta}a_{1\\alpha}\n",
      " + 4.163336342344337e-17 * a^{0\\alpha}a^{0\\beta}a_{1\\beta}a_{0\\alpha}\n",
      " + 0.09376099045135429 * a^{0\\alpha}a^{0\\beta}a_{1\\beta}a_{1\\alpha}\n",
      " + 4.163336342344337e-17 * a^{0\\alpha}a^{1\\alpha}a_{0\\alpha}a_{0\\alpha}\n",
      " + 0.3226247132942424 * a^{0\\alpha}a^{1\\alpha}a_{1\\alpha}a_{0\\alpha}\n",
      " + 2.7755575615628914e-17 * a^{0\\alpha}a^{1\\alpha}a_{1\\alpha}a_{1\\alpha}\n",
      " + 4.163336342344337e-17 * a^{0\\alpha}a^{1\\beta}a_{0\\beta}a_{0\\alpha}\n",
      " + 0.3226247132942424 * a^{0\\alpha}a^{1\\beta}a_{1\\beta}a_{0\\alpha}\n",
      " + 2.7755575615628914e-17 * a^{0\\alpha}a^{1\\beta}a_{1\\beta}a_{1\\alpha}\n",
      " + 0.3270047556780619 * a^{0\\beta}a^{0\\alpha}a_{0\\alpha}a_{0\\beta}\n",
      " + 5.204170427930421e-17 * a^{0\\beta}a^{0\\alpha}a_{0\\alpha}a_{1\\beta}\n",
      " + 4.163336342344337e-17 * a^{0\\beta}a^{0\\alpha}a_{1\\alpha}a_{0\\beta}\n",
      " + 0.09376099045135429 * a^{0\\beta}a^{0\\alpha}a_{1\\alpha}a_{1\\beta}\n",
      " + 0.3270047556780619 * a^{0\\beta}a^{0\\beta}a_{0\\beta}a_{0\\beta}\n",
      " + 5.204170427930421e-17 * a^{0\\beta}a^{0\\beta}a_{0\\beta}a_{1\\beta}\n",
      " + 4.163336342344337e-17 * a^{0\\beta}a^{0\\beta}a_{1\\beta}a_{0\\beta}\n",
      " + 0.09376099045135429 * a^{0\\beta}a^{0\\beta}a_{1\\beta}a_{1\\beta}\n",
      " + 4.163336342344337e-17 * a^{0\\beta}a^{1\\alpha}a_{0\\alpha}a_{0\\beta}\n",
      " + 0.3226247132942424 * a^{0\\beta}a^{1\\alpha}a_{1\\alpha}a_{0\\beta}\n",
      " + 2.7755575615628914e-17 * a^{0\\beta}a^{1\\alpha}a_{1\\alpha}a_{1\\beta}\n",
      " + 4.163336342344337e-17 * a^{0\\beta}a^{1\\beta}a_{0\\beta}a_{0\\beta}\n",
      " + 0.3226247132942424 * a^{0\\beta}a^{1\\beta}a_{1\\beta}a_{0\\beta}\n",
      " + 2.7755575615628914e-17 * a^{0\\beta}a^{1\\beta}a_{1\\beta}a_{1\\beta}\n",
      " + 5.204170427930421e-17 * a^{1\\alpha}a^{0\\alpha}a_{0\\alpha}a_{0\\alpha}\n",
      " + 0.3226247132942422 * a^{1\\alpha}a^{0\\alpha}a_{0\\alpha}a_{1\\alpha}\n",
      " + 6.938893903907228e-17 * a^{1\\alpha}a^{0\\alpha}a_{1\\alpha}a_{1\\alpha}\n",
      " + 5.204170427930421e-17 * a^{1\\alpha}a^{0\\beta}a_{0\\beta}a_{0\\alpha}\n",
      " + 0.3226247132942422 * a^{1\\alpha}a^{0\\beta}a_{0\\beta}a_{1\\alpha}\n",
      " + 6.938893903907228e-17 * a^{1\\alpha}a^{0\\beta}a_{1\\beta}a_{1\\alpha}\n",
      " + 0.09376099045135429 * a^{1\\alpha}a^{1\\alpha}a_{0\\alpha}a_{0\\alpha}\n",
      " + 6.938893903907228e-17 * a^{1\\alpha}a^{1\\alpha}a_{0\\alpha}a_{1\\alpha}\n",
      " + 2.7755575615628914e-17 * a^{1\\alpha}a^{1\\alpha}a_{1\\alpha}a_{0\\alpha}\n",
      " + 0.33906809184265285 * a^{1\\alpha}a^{1\\alpha}a_{1\\alpha}a_{1\\alpha}\n",
      " + 0.09376099045135429 * a^{1\\alpha}a^{1\\beta}a_{0\\beta}a_{0\\alpha}\n",
      " + 6.938893903907228e-17 * a^{1\\alpha}a^{1\\beta}a_{0\\beta}a_{1\\alpha}\n",
      " + 2.7755575615628914e-17 * a^{1\\alpha}a^{1\\beta}a_{1\\beta}a_{0\\alpha}\n",
      " + 0.33906809184265285 * a^{1\\alpha}a^{1\\beta}a_{1\\beta}a_{1\\alpha}\n",
      " + 5.204170427930421e-17 * a^{1\\beta}a^{0\\alpha}a_{0\\alpha}a_{0\\beta}\n",
      " + 0.3226247132942422 * a^{1\\beta}a^{0\\alpha}a_{0\\alpha}a_{1\\beta}\n",
      " + 6.938893903907228e-17 * a^{1\\beta}a^{0\\alpha}a_{1\\alpha}a_{1\\beta}\n",
      " + 5.204170427930421e-17 * a^{1\\beta}a^{0\\beta}a_{0\\beta}a_{0\\beta}\n",
      " + 0.3226247132942422 * a^{1\\beta}a^{0\\beta}a_{0\\beta}a_{1\\beta}\n",
      " + 6.938893903907228e-17 * a^{1\\beta}a^{0\\beta}a_{1\\beta}a_{1\\beta}\n",
      " + 0.09376099045135429 * a^{1\\beta}a^{1\\alpha}a_{0\\alpha}a_{0\\beta}\n",
      " + 6.938893903907228e-17 * a^{1\\beta}a^{1\\alpha}a_{0\\alpha}a_{1\\beta}\n",
      " + 2.7755575615628914e-17 * a^{1\\beta}a^{1\\alpha}a_{1\\alpha}a_{0\\beta}\n",
      " + 0.33906809184265285 * a^{1\\beta}a^{1\\alpha}a_{1\\alpha}a_{1\\beta}\n",
      " + 0.09376099045135429 * a^{1\\beta}a^{1\\beta}a_{0\\beta}a_{0\\beta}\n",
      " + 6.938893903907228e-17 * a^{1\\beta}a^{1\\beta}a_{0\\beta}a_{1\\beta}\n",
      " + 2.7755575615628914e-17 * a^{1\\beta}a^{1\\beta}a_{1\\beta}a_{0\\beta}\n",
      " + 0.33906809184265285 * a^{1\\beta}a^{1\\beta}a_{1\\beta}a_{1\\beta}\n"
     ]
    }
   ],
   "metadata": {}
  },
  {
   "cell_type": "code",
   "execution_count": 35,
   "source": [
    "#for s in wickExpand(hamiltonian2Body, [1,0]).summandList:\n",
    " #   print(s)"
   ],
   "outputs": [],
   "metadata": {}
  },
  {
   "cell_type": "code",
   "execution_count": 36,
   "source": [
    "vacuumExpectationValue(hamiltonian2Body, [1,0])"
   ],
   "outputs": [
    {
     "output_type": "execute_result",
     "data": {
      "text/plain": [
       "0.6540095113561238"
      ]
     },
     "metadata": {},
     "execution_count": 36
    }
   ],
   "metadata": {}
  },
  {
   "cell_type": "code",
   "execution_count": 39,
   "source": [
    "vacuumExpectationValue(hamiltonian2Body, [0,1])"
   ],
   "outputs": [
    {
     "output_type": "execute_result",
     "data": {
      "text/plain": [
       "0.6781361836853057"
      ]
     },
     "metadata": {},
     "execution_count": 39
    }
   ],
   "metadata": {}
  },
  {
   "cell_type": "code",
   "execution_count": 40,
   "source": [
    "vacuumExpectationValue(hamiltonian1Body, [1,0]) + vacuumExpectationValue(hamiltonian2Body, [1,0])"
   ],
   "outputs": [
    {
     "output_type": "execute_result",
     "data": {
      "text/plain": [
       "-1.7256917258579132"
      ]
     },
     "metadata": {},
     "execution_count": 40
    }
   ],
   "metadata": {}
  },
  {
   "cell_type": "code",
   "execution_count": 41,
   "source": [
    "vacuumExpectationValue(hamiltonian2Body, [1,0])"
   ],
   "outputs": [
    {
     "output_type": "execute_result",
     "data": {
      "text/plain": [
       "0.6540095113561238"
      ]
     },
     "metadata": {},
     "execution_count": 41
    }
   ],
   "metadata": {}
  },
  {
   "cell_type": "code",
   "execution_count": 42,
   "source": [
    "mf.energy_elec()"
   ],
   "outputs": [
    {
     "output_type": "execute_result",
     "data": {
      "text/plain": [
       "(-1.7256917258579134, 0.6540095113561237)"
      ]
     },
     "metadata": {},
     "execution_count": 42
    }
   ],
   "metadata": {}
  },
  {
   "cell_type": "code",
   "execution_count": 43,
   "source": [
    "hamiltonian = hamiltonian1Body + hamiltonian2Body"
   ],
   "outputs": [],
   "metadata": {}
  },
  {
   "cell_type": "code",
   "execution_count": 204,
   "source": [
    "print(hamiltonian)"
   ],
   "outputs": [
    {
     "output_type": "stream",
     "name": "stdout",
     "text": [
      "-4.7142356915405136e-17 * a^{1\\alpha}a_{0\\alpha}\n",
      " + -0.5337491016607854 * a^{1\\alpha}a_{1\\alpha}\n",
      " + -4.7142356915405136e-17 * a^{1\\beta}a_{0\\beta}\n",
      " + -0.5337491016607854 * a^{1\\beta}a_{1\\beta}\n",
      " + -1.1898506186070186 * a^{0\\alpha}a_{0\\alpha}\n",
      " + 2.600212552842601e-17 * a^{0\\alpha}a_{1\\alpha}\n",
      " + -1.1898506186070186 * a^{0\\beta}a_{0\\beta}\n",
      " + 2.600212552842601e-17 * a^{0\\beta}a_{1\\beta}\n",
      " + 0.0\n",
      " + 0.0\n",
      " + 0.0\n",
      " + 0.0\n",
      " + 0.09376099045135429 * a^{1\\alpha}a^{1\\beta}a_{0\\beta}a_{0\\alpha}\n",
      " + 6.938893903907228e-17 * a^{1\\alpha}a^{1\\beta}a_{0\\beta}a_{1\\alpha}\n",
      " + 2.7755575615628914e-17 * a^{1\\alpha}a^{1\\beta}a_{1\\beta}a_{0\\alpha}\n",
      " + 0.33906809184265285 * a^{1\\alpha}a^{1\\beta}a_{1\\beta}a_{1\\alpha}\n",
      " + 0.0\n",
      " + 0.3226247132942422 * a^{1\\alpha}a^{0\\alpha}a_{0\\alpha}a_{1\\alpha}\n",
      " + 0.0\n",
      " + 5.204170427930421e-17 * a^{1\\alpha}a^{0\\beta}a_{0\\beta}a_{0\\alpha}\n",
      " + 0.3226247132942422 * a^{1\\alpha}a^{0\\beta}a_{0\\beta}a_{1\\alpha}\n",
      " + 6.938893903907228e-17 * a^{1\\alpha}a^{0\\beta}a_{1\\beta}a_{1\\alpha}\n",
      " + 0.09376099045135429 * a^{1\\beta}a^{1\\alpha}a_{0\\alpha}a_{0\\beta}\n",
      " + 6.938893903907228e-17 * a^{1\\beta}a^{1\\alpha}a_{0\\alpha}a_{1\\beta}\n",
      " + 2.7755575615628914e-17 * a^{1\\beta}a^{1\\alpha}a_{1\\alpha}a_{0\\beta}\n",
      " + 0.33906809184265285 * a^{1\\beta}a^{1\\alpha}a_{1\\alpha}a_{1\\beta}\n",
      " + 0.0\n",
      " + 0.0\n",
      " + 0.0\n",
      " + 0.0\n",
      " + 5.204170427930421e-17 * a^{1\\beta}a^{0\\alpha}a_{0\\alpha}a_{0\\beta}\n",
      " + 0.3226247132942422 * a^{1\\beta}a^{0\\alpha}a_{0\\alpha}a_{1\\beta}\n",
      " + 6.938893903907228e-17 * a^{1\\beta}a^{0\\alpha}a_{1\\alpha}a_{1\\beta}\n",
      " + 0.0\n",
      " + 0.3226247132942422 * a^{1\\beta}a^{0\\beta}a_{0\\beta}a_{1\\beta}\n",
      " + 0.0\n",
      " + 0.0\n",
      " + 0.3226247132942424 * a^{0\\alpha}a^{1\\alpha}a_{1\\alpha}a_{0\\alpha}\n",
      " + 0.0\n",
      " + 4.163336342344337e-17 * a^{0\\alpha}a^{1\\beta}a_{0\\beta}a_{0\\alpha}\n",
      " + 0.3226247132942424 * a^{0\\alpha}a^{1\\beta}a_{1\\beta}a_{0\\alpha}\n",
      " + 2.7755575615628914e-17 * a^{0\\alpha}a^{1\\beta}a_{1\\beta}a_{1\\alpha}\n",
      " + 0.0\n",
      " + 0.0\n",
      " + 0.0\n",
      " + 0.0\n",
      " + 0.3270047556780619 * a^{0\\alpha}a^{0\\beta}a_{0\\beta}a_{0\\alpha}\n",
      " + 5.204170427930421e-17 * a^{0\\alpha}a^{0\\beta}a_{0\\beta}a_{1\\alpha}\n",
      " + 4.163336342344337e-17 * a^{0\\alpha}a^{0\\beta}a_{1\\beta}a_{0\\alpha}\n",
      " + 0.09376099045135429 * a^{0\\alpha}a^{0\\beta}a_{1\\beta}a_{1\\alpha}\n",
      " + 4.163336342344337e-17 * a^{0\\beta}a^{1\\alpha}a_{0\\alpha}a_{0\\beta}\n",
      " + 0.3226247132942424 * a^{0\\beta}a^{1\\alpha}a_{1\\alpha}a_{0\\beta}\n",
      " + 2.7755575615628914e-17 * a^{0\\beta}a^{1\\alpha}a_{1\\alpha}a_{1\\beta}\n",
      " + 0.0\n",
      " + 0.3226247132942424 * a^{0\\beta}a^{1\\beta}a_{1\\beta}a_{0\\beta}\n",
      " + 0.0\n",
      " + 0.3270047556780619 * a^{0\\beta}a^{0\\alpha}a_{0\\alpha}a_{0\\beta}\n",
      " + 5.204170427930421e-17 * a^{0\\beta}a^{0\\alpha}a_{0\\alpha}a_{1\\beta}\n",
      " + 4.163336342344337e-17 * a^{0\\beta}a^{0\\alpha}a_{1\\alpha}a_{0\\beta}\n",
      " + 0.09376099045135429 * a^{0\\beta}a^{0\\alpha}a_{1\\alpha}a_{1\\beta}\n",
      " + 0.0\n",
      " + 0.0\n",
      " + 0.0\n",
      " + 0.0\n"
     ]
    }
   ],
   "metadata": {}
  },
  {
   "cell_type": "code",
   "execution_count": 206,
   "source": [
    "print(hamiltonian2Body)"
   ],
   "outputs": [
    {
     "output_type": "stream",
     "name": "stdout",
     "text": [
      "0.0\n",
      " + 0.0\n",
      " + 0.0\n",
      " + 0.0\n",
      " + 0.3270047556780619 * a^{0\\alpha}a^{0\\beta}a_{0\\beta}a_{0\\alpha}\n",
      " + 5.204170427930421e-17 * a^{0\\alpha}a^{0\\beta}a_{0\\beta}a_{1\\alpha}\n",
      " + 4.163336342344337e-17 * a^{0\\alpha}a^{0\\beta}a_{1\\beta}a_{0\\alpha}\n",
      " + 0.09376099045135429 * a^{0\\alpha}a^{0\\beta}a_{1\\beta}a_{1\\alpha}\n",
      " + 4.163336342344337e-17 * a^{0\\alpha}a^{1\\alpha}a_{0\\alpha}a_{0\\alpha}\n",
      " + 0.3226247132942424 * a^{0\\alpha}a^{1\\alpha}a_{1\\alpha}a_{0\\alpha}\n",
      " + 2.7755575615628914e-17 * a^{0\\alpha}a^{1\\alpha}a_{1\\alpha}a_{1\\alpha}\n",
      " + 4.163336342344337e-17 * a^{0\\alpha}a^{1\\beta}a_{0\\beta}a_{0\\alpha}\n",
      " + 0.3226247132942424 * a^{0\\alpha}a^{1\\beta}a_{1\\beta}a_{0\\alpha}\n",
      " + 2.7755575615628914e-17 * a^{0\\alpha}a^{1\\beta}a_{1\\beta}a_{1\\alpha}\n",
      " + 0.3270047556780619 * a^{0\\beta}a^{0\\alpha}a_{0\\alpha}a_{0\\beta}\n",
      " + 5.204170427930421e-17 * a^{0\\beta}a^{0\\alpha}a_{0\\alpha}a_{1\\beta}\n",
      " + 4.163336342344337e-17 * a^{0\\beta}a^{0\\alpha}a_{1\\alpha}a_{0\\beta}\n",
      " + 0.09376099045135429 * a^{0\\beta}a^{0\\alpha}a_{1\\alpha}a_{1\\beta}\n",
      " + 0.0\n",
      " + 0.0\n",
      " + 0.0\n",
      " + 0.0\n",
      " + 4.163336342344337e-17 * a^{0\\beta}a^{1\\alpha}a_{0\\alpha}a_{0\\beta}\n",
      " + 0.3226247132942424 * a^{0\\beta}a^{1\\alpha}a_{1\\alpha}a_{0\\beta}\n",
      " + 2.7755575615628914e-17 * a^{0\\beta}a^{1\\alpha}a_{1\\alpha}a_{1\\beta}\n",
      " + 4.163336342344337e-17 * a^{0\\beta}a^{1\\beta}a_{0\\beta}a_{0\\beta}\n",
      " + 0.3226247132942424 * a^{0\\beta}a^{1\\beta}a_{1\\beta}a_{0\\beta}\n",
      " + 2.7755575615628914e-17 * a^{0\\beta}a^{1\\beta}a_{1\\beta}a_{1\\beta}\n",
      " + 5.204170427930421e-17 * a^{1\\alpha}a^{0\\alpha}a_{0\\alpha}a_{0\\alpha}\n",
      " + 0.3226247132942422 * a^{1\\alpha}a^{0\\alpha}a_{0\\alpha}a_{1\\alpha}\n",
      " + 6.938893903907228e-17 * a^{1\\alpha}a^{0\\alpha}a_{1\\alpha}a_{1\\alpha}\n",
      " + 5.204170427930421e-17 * a^{1\\alpha}a^{0\\beta}a_{0\\beta}a_{0\\alpha}\n",
      " + 0.3226247132942422 * a^{1\\alpha}a^{0\\beta}a_{0\\beta}a_{1\\alpha}\n",
      " + 6.938893903907228e-17 * a^{1\\alpha}a^{0\\beta}a_{1\\beta}a_{1\\alpha}\n",
      " + 0.09376099045135429 * a^{1\\alpha}a^{1\\alpha}a_{0\\alpha}a_{0\\alpha}\n",
      " + 6.938893903907228e-17 * a^{1\\alpha}a^{1\\alpha}a_{0\\alpha}a_{1\\alpha}\n",
      " + 2.7755575615628914e-17 * a^{1\\alpha}a^{1\\alpha}a_{1\\alpha}a_{0\\alpha}\n",
      " + 0.33906809184265285 * a^{1\\alpha}a^{1\\alpha}a_{1\\alpha}a_{1\\alpha}\n",
      " + 0.09376099045135429 * a^{1\\alpha}a^{1\\beta}a_{0\\beta}a_{0\\alpha}\n",
      " + 6.938893903907228e-17 * a^{1\\alpha}a^{1\\beta}a_{0\\beta}a_{1\\alpha}\n",
      " + 2.7755575615628914e-17 * a^{1\\alpha}a^{1\\beta}a_{1\\beta}a_{0\\alpha}\n",
      " + 0.33906809184265285 * a^{1\\alpha}a^{1\\beta}a_{1\\beta}a_{1\\alpha}\n",
      " + 5.204170427930421e-17 * a^{1\\beta}a^{0\\alpha}a_{0\\alpha}a_{0\\beta}\n",
      " + 0.3226247132942422 * a^{1\\beta}a^{0\\alpha}a_{0\\alpha}a_{1\\beta}\n",
      " + 6.938893903907228e-17 * a^{1\\beta}a^{0\\alpha}a_{1\\alpha}a_{1\\beta}\n",
      " + 5.204170427930421e-17 * a^{1\\beta}a^{0\\beta}a_{0\\beta}a_{0\\beta}\n",
      " + 0.3226247132942422 * a^{1\\beta}a^{0\\beta}a_{0\\beta}a_{1\\beta}\n",
      " + 6.938893903907228e-17 * a^{1\\beta}a^{0\\beta}a_{1\\beta}a_{1\\beta}\n",
      " + 0.09376099045135429 * a^{1\\beta}a^{1\\alpha}a_{0\\alpha}a_{0\\beta}\n",
      " + 6.938893903907228e-17 * a^{1\\beta}a^{1\\alpha}a_{0\\alpha}a_{1\\beta}\n",
      " + 2.7755575615628914e-17 * a^{1\\beta}a^{1\\alpha}a_{1\\alpha}a_{0\\beta}\n",
      " + 0.33906809184265285 * a^{1\\beta}a^{1\\alpha}a_{1\\alpha}a_{1\\beta}\n",
      " + 0.09376099045135429 * a^{1\\beta}a^{1\\beta}a_{0\\beta}a_{0\\beta}\n",
      " + 6.938893903907228e-17 * a^{1\\beta}a^{1\\beta}a_{0\\beta}a_{1\\beta}\n",
      " + 2.7755575615628914e-17 * a^{1\\beta}a^{1\\beta}a_{1\\beta}a_{0\\beta}\n",
      " + 0.33906809184265285 * a^{1\\beta}a^{1\\beta}a_{1\\beta}a_{1\\beta}\n"
     ]
    }
   ],
   "metadata": {}
  },
  {
   "cell_type": "code",
   "execution_count": 44,
   "source": [
    "vacuumExpectationValue(hamiltonian, [1,0])"
   ],
   "outputs": [
    {
     "output_type": "execute_result",
     "data": {
      "text/plain": [
       "-1.7256917258579132"
      ]
     },
     "metadata": {},
     "execution_count": 44
    }
   ],
   "metadata": {}
  },
  {
   "cell_type": "code",
   "execution_count": 45,
   "source": [
    "singlesAmplitudes = np.ones((Nocc, Norbs - Nocc))"
   ],
   "outputs": [],
   "metadata": {}
  },
  {
   "cell_type": "code",
   "execution_count": 197,
   "source": [
    "doublesAmplitudes = np.ones((Nocc, Nocc, Norbs-Nocc, Norbs-Nocc))"
   ],
   "outputs": [],
   "metadata": {}
  },
  {
   "cell_type": "code",
   "execution_count": 198,
   "source": [
    "doublesAmplitudes"
   ],
   "outputs": [
    {
     "output_type": "execute_result",
     "data": {
      "text/plain": [
       "array([[[[1.]]]])"
      ]
     },
     "metadata": {},
     "execution_count": 198
    }
   ],
   "metadata": {}
  },
  {
   "cell_type": "code",
   "execution_count": 199,
   "source": [
    "newdoublesAmplitudes = deepcopy(doublesAmplitudes)\n",
    "newdoublesAmplitudes[0,0,0,0] = -0.136380375 *0.5 / 0.990656547\n"
   ],
   "outputs": [],
   "metadata": {}
  },
  {
   "cell_type": "code",
   "execution_count": 49,
   "source": [
    "clusterSingles = operatorSum([])\n",
    "for a in range(Nocc):\n",
    "    for k in range(Norbs - Nocc):\n",
    "        r = k + Nocc\n",
    "        clusterSingles = clusterSingles + singlesAmplitudes[a,k] * spinFreeSingleExcitation(r, a)"
   ],
   "outputs": [],
   "metadata": {}
  },
  {
   "cell_type": "code",
   "execution_count": 200,
   "source": [
    "clusterDoubles = operatorSum([])\n",
    "for a in range(Nocc):\n",
    "    for b in range(Nocc):\n",
    "        for k in range(Norbs - Nocc):\n",
    "            r = k + Nocc\n",
    "            for l in range(Norbs - Nocc):\n",
    "                s = l + Nocc\n",
    "                clusterDoubles = clusterDoubles + doublesAmplitudes[a,b,k,l] * spinFreeDoubleExcitation(r, s, a, b)\n",
    "clusterDoubles.checkNilpotency()"
   ],
   "outputs": [],
   "metadata": {}
  },
  {
   "cell_type": "code",
   "execution_count": 51,
   "source": [
    "newclusterDoubles = operatorSum([])\n",
    "for a in range(Nocc):\n",
    "    for b in range(Nocc):\n",
    "        for k in range(Norbs - Nocc):\n",
    "            r = k + Nocc\n",
    "            for l in range(Norbs - Nocc):\n",
    "                s = l + Nocc\n",
    "                newclusterDoubles = newclusterDoubles + newdoublesAmplitudes[a,b,k,l] * spinFreeDoubleExcitation(r, s, a, b)\n",
    "newclusterDoubles.checkNilpotency()"
   ],
   "outputs": [],
   "metadata": {}
  },
  {
   "cell_type": "code",
   "execution_count": 201,
   "source": [
    "print(newclusterDoubles)"
   ],
   "outputs": [
    {
     "output_type": "stream",
     "name": "stdout",
     "text": [
      "0.0\n",
      " + -0.06883332846938728 * a^{1\\alpha}a^{1\\beta}a_{0\\beta}a_{0\\alpha}\n",
      " + -0.06883332846938728 * a^{1\\beta}a^{1\\alpha}a_{0\\alpha}a_{0\\beta}\n",
      " + 0.0\n"
     ]
    }
   ],
   "metadata": {}
  },
  {
   "cell_type": "code",
   "execution_count": 53,
   "source": [
    "print(clusterSingles.summandList[0] * clusterDoubles.summandList[0])\n"
   ],
   "outputs": [
    {
     "output_type": "stream",
     "name": "stdout",
     "text": [
      "0.0 * a^{1\\alpha}a_{0\\alpha}\n"
     ]
    }
   ],
   "metadata": {}
  },
  {
   "cell_type": "code",
   "execution_count": 202,
   "source": [
    "print(clusterSingles)\n",
    "print(clusterDoubles)\n",
    "print(hamiltonian)"
   ],
   "outputs": [
    {
     "output_type": "stream",
     "name": "stdout",
     "text": [
      "1.0 * a^{1\\alpha}a_{0\\alpha}\n",
      " + 1.0 * a^{1\\beta}a_{0\\beta}\n",
      "0.0\n",
      " + 1.0 * a^{1\\alpha}a^{1\\beta}a_{0\\beta}a_{0\\alpha}\n",
      " + 1.0 * a^{1\\beta}a^{1\\alpha}a_{0\\alpha}a_{0\\beta}\n",
      " + 0.0\n",
      "-4.7142356915405136e-17 * a^{1\\alpha}a_{0\\alpha}\n",
      " + -0.5337491016607854 * a^{1\\alpha}a_{1\\alpha}\n",
      " + -4.7142356915405136e-17 * a^{1\\beta}a_{0\\beta}\n",
      " + -0.5337491016607854 * a^{1\\beta}a_{1\\beta}\n",
      " + -1.1898506186070186 * a^{0\\alpha}a_{0\\alpha}\n",
      " + 2.600212552842601e-17 * a^{0\\alpha}a_{1\\alpha}\n",
      " + -1.1898506186070186 * a^{0\\beta}a_{0\\beta}\n",
      " + 2.600212552842601e-17 * a^{0\\beta}a_{1\\beta}\n",
      " + 0.0\n",
      " + 0.0\n",
      " + 0.0\n",
      " + 0.0\n",
      " + 0.09376099045135429 * a^{1\\alpha}a^{1\\beta}a_{0\\beta}a_{0\\alpha}\n",
      " + 6.938893903907228e-17 * a^{1\\alpha}a^{1\\beta}a_{0\\beta}a_{1\\alpha}\n",
      " + 2.7755575615628914e-17 * a^{1\\alpha}a^{1\\beta}a_{1\\beta}a_{0\\alpha}\n",
      " + 0.33906809184265285 * a^{1\\alpha}a^{1\\beta}a_{1\\beta}a_{1\\alpha}\n",
      " + 0.0\n",
      " + 0.3226247132942422 * a^{1\\alpha}a^{0\\alpha}a_{0\\alpha}a_{1\\alpha}\n",
      " + 0.0\n",
      " + 5.204170427930421e-17 * a^{1\\alpha}a^{0\\beta}a_{0\\beta}a_{0\\alpha}\n",
      " + 0.3226247132942422 * a^{1\\alpha}a^{0\\beta}a_{0\\beta}a_{1\\alpha}\n",
      " + 6.938893903907228e-17 * a^{1\\alpha}a^{0\\beta}a_{1\\beta}a_{1\\alpha}\n",
      " + 0.09376099045135429 * a^{1\\beta}a^{1\\alpha}a_{0\\alpha}a_{0\\beta}\n",
      " + 6.938893903907228e-17 * a^{1\\beta}a^{1\\alpha}a_{0\\alpha}a_{1\\beta}\n",
      " + 2.7755575615628914e-17 * a^{1\\beta}a^{1\\alpha}a_{1\\alpha}a_{0\\beta}\n",
      " + 0.33906809184265285 * a^{1\\beta}a^{1\\alpha}a_{1\\alpha}a_{1\\beta}\n",
      " + 0.0\n",
      " + 0.0\n",
      " + 0.0\n",
      " + 0.0\n",
      " + 5.204170427930421e-17 * a^{1\\beta}a^{0\\alpha}a_{0\\alpha}a_{0\\beta}\n",
      " + 0.3226247132942422 * a^{1\\beta}a^{0\\alpha}a_{0\\alpha}a_{1\\beta}\n",
      " + 6.938893903907228e-17 * a^{1\\beta}a^{0\\alpha}a_{1\\alpha}a_{1\\beta}\n",
      " + 0.0\n",
      " + 0.3226247132942422 * a^{1\\beta}a^{0\\beta}a_{0\\beta}a_{1\\beta}\n",
      " + 0.0\n",
      " + 0.0\n",
      " + 0.3226247132942424 * a^{0\\alpha}a^{1\\alpha}a_{1\\alpha}a_{0\\alpha}\n",
      " + 0.0\n",
      " + 4.163336342344337e-17 * a^{0\\alpha}a^{1\\beta}a_{0\\beta}a_{0\\alpha}\n",
      " + 0.3226247132942424 * a^{0\\alpha}a^{1\\beta}a_{1\\beta}a_{0\\alpha}\n",
      " + 2.7755575615628914e-17 * a^{0\\alpha}a^{1\\beta}a_{1\\beta}a_{1\\alpha}\n",
      " + 0.0\n",
      " + 0.0\n",
      " + 0.0\n",
      " + 0.0\n",
      " + 0.3270047556780619 * a^{0\\alpha}a^{0\\beta}a_{0\\beta}a_{0\\alpha}\n",
      " + 5.204170427930421e-17 * a^{0\\alpha}a^{0\\beta}a_{0\\beta}a_{1\\alpha}\n",
      " + 4.163336342344337e-17 * a^{0\\alpha}a^{0\\beta}a_{1\\beta}a_{0\\alpha}\n",
      " + 0.09376099045135429 * a^{0\\alpha}a^{0\\beta}a_{1\\beta}a_{1\\alpha}\n",
      " + 4.163336342344337e-17 * a^{0\\beta}a^{1\\alpha}a_{0\\alpha}a_{0\\beta}\n",
      " + 0.3226247132942424 * a^{0\\beta}a^{1\\alpha}a_{1\\alpha}a_{0\\beta}\n",
      " + 2.7755575615628914e-17 * a^{0\\beta}a^{1\\alpha}a_{1\\alpha}a_{1\\beta}\n",
      " + 0.0\n",
      " + 0.3226247132942424 * a^{0\\beta}a^{1\\beta}a_{1\\beta}a_{0\\beta}\n",
      " + 0.0\n",
      " + 0.3270047556780619 * a^{0\\beta}a^{0\\alpha}a_{0\\alpha}a_{0\\beta}\n",
      " + 5.204170427930421e-17 * a^{0\\beta}a^{0\\alpha}a_{0\\alpha}a_{1\\beta}\n",
      " + 4.163336342344337e-17 * a^{0\\beta}a^{0\\alpha}a_{1\\alpha}a_{0\\beta}\n",
      " + 0.09376099045135429 * a^{0\\beta}a^{0\\alpha}a_{1\\alpha}a_{1\\beta}\n",
      " + 0.0\n",
      " + 0.0\n",
      " + 0.0\n",
      " + 0.0\n"
     ]
    }
   ],
   "metadata": {}
  },
  {
   "cell_type": "code",
   "execution_count": 55,
   "source": [
    "hamiltonian.checkNilpotency()\n",
    "print(hamiltonian)"
   ],
   "outputs": [
    {
     "output_type": "stream",
     "name": "stdout",
     "text": [
      "-4.7142356915405136e-17 * a^{1\\alpha}a_{0\\alpha}\n",
      " + -0.5337491016607854 * a^{1\\alpha}a_{1\\alpha}\n",
      " + -4.7142356915405136e-17 * a^{1\\beta}a_{0\\beta}\n",
      " + -0.5337491016607854 * a^{1\\beta}a_{1\\beta}\n",
      " + -1.1898506186070186 * a^{0\\alpha}a_{0\\alpha}\n",
      " + 2.600212552842601e-17 * a^{0\\alpha}a_{1\\alpha}\n",
      " + -1.1898506186070186 * a^{0\\beta}a_{0\\beta}\n",
      " + 2.600212552842601e-17 * a^{0\\beta}a_{1\\beta}\n",
      " + 0.0\n",
      " + 0.0\n",
      " + 0.0\n",
      " + 0.0\n",
      " + 0.09376099045135429 * a^{1\\alpha}a^{1\\beta}a_{0\\beta}a_{0\\alpha}\n",
      " + 6.938893903907228e-17 * a^{1\\alpha}a^{1\\beta}a_{0\\beta}a_{1\\alpha}\n",
      " + 2.7755575615628914e-17 * a^{1\\alpha}a^{1\\beta}a_{1\\beta}a_{0\\alpha}\n",
      " + 0.33906809184265285 * a^{1\\alpha}a^{1\\beta}a_{1\\beta}a_{1\\alpha}\n",
      " + 0.0\n",
      " + 0.3226247132942422 * a^{1\\alpha}a^{0\\alpha}a_{0\\alpha}a_{1\\alpha}\n",
      " + 0.0\n",
      " + 5.204170427930421e-17 * a^{1\\alpha}a^{0\\beta}a_{0\\beta}a_{0\\alpha}\n",
      " + 0.3226247132942422 * a^{1\\alpha}a^{0\\beta}a_{0\\beta}a_{1\\alpha}\n",
      " + 6.938893903907228e-17 * a^{1\\alpha}a^{0\\beta}a_{1\\beta}a_{1\\alpha}\n",
      " + 0.09376099045135429 * a^{1\\beta}a^{1\\alpha}a_{0\\alpha}a_{0\\beta}\n",
      " + 6.938893903907228e-17 * a^{1\\beta}a^{1\\alpha}a_{0\\alpha}a_{1\\beta}\n",
      " + 2.7755575615628914e-17 * a^{1\\beta}a^{1\\alpha}a_{1\\alpha}a_{0\\beta}\n",
      " + 0.33906809184265285 * a^{1\\beta}a^{1\\alpha}a_{1\\alpha}a_{1\\beta}\n",
      " + 0.0\n",
      " + 0.0\n",
      " + 0.0\n",
      " + 0.0\n",
      " + 5.204170427930421e-17 * a^{1\\beta}a^{0\\alpha}a_{0\\alpha}a_{0\\beta}\n",
      " + 0.3226247132942422 * a^{1\\beta}a^{0\\alpha}a_{0\\alpha}a_{1\\beta}\n",
      " + 6.938893903907228e-17 * a^{1\\beta}a^{0\\alpha}a_{1\\alpha}a_{1\\beta}\n",
      " + 0.0\n",
      " + 0.3226247132942422 * a^{1\\beta}a^{0\\beta}a_{0\\beta}a_{1\\beta}\n",
      " + 0.0\n",
      " + 0.0\n",
      " + 0.3226247132942424 * a^{0\\alpha}a^{1\\alpha}a_{1\\alpha}a_{0\\alpha}\n",
      " + 0.0\n",
      " + 4.163336342344337e-17 * a^{0\\alpha}a^{1\\beta}a_{0\\beta}a_{0\\alpha}\n",
      " + 0.3226247132942424 * a^{0\\alpha}a^{1\\beta}a_{1\\beta}a_{0\\alpha}\n",
      " + 2.7755575615628914e-17 * a^{0\\alpha}a^{1\\beta}a_{1\\beta}a_{1\\alpha}\n",
      " + 0.0\n",
      " + 0.0\n",
      " + 0.0\n",
      " + 0.0\n",
      " + 0.3270047556780619 * a^{0\\alpha}a^{0\\beta}a_{0\\beta}a_{0\\alpha}\n",
      " + 5.204170427930421e-17 * a^{0\\alpha}a^{0\\beta}a_{0\\beta}a_{1\\alpha}\n",
      " + 4.163336342344337e-17 * a^{0\\alpha}a^{0\\beta}a_{1\\beta}a_{0\\alpha}\n",
      " + 0.09376099045135429 * a^{0\\alpha}a^{0\\beta}a_{1\\beta}a_{1\\alpha}\n",
      " + 4.163336342344337e-17 * a^{0\\beta}a^{1\\alpha}a_{0\\alpha}a_{0\\beta}\n",
      " + 0.3226247132942424 * a^{0\\beta}a^{1\\alpha}a_{1\\alpha}a_{0\\beta}\n",
      " + 2.7755575615628914e-17 * a^{0\\beta}a^{1\\alpha}a_{1\\alpha}a_{1\\beta}\n",
      " + 0.0\n",
      " + 0.3226247132942424 * a^{0\\beta}a^{1\\beta}a_{1\\beta}a_{0\\beta}\n",
      " + 0.0\n",
      " + 0.3270047556780619 * a^{0\\beta}a^{0\\alpha}a_{0\\alpha}a_{0\\beta}\n",
      " + 5.204170427930421e-17 * a^{0\\beta}a^{0\\alpha}a_{0\\alpha}a_{1\\beta}\n",
      " + 4.163336342344337e-17 * a^{0\\beta}a^{0\\alpha}a_{1\\alpha}a_{0\\beta}\n",
      " + 0.09376099045135429 * a^{0\\beta}a^{0\\alpha}a_{1\\alpha}a_{1\\beta}\n",
      " + 0.0\n",
      " + 0.0\n",
      " + 0.0\n",
      " + 0.0\n"
     ]
    }
   ],
   "metadata": {}
  },
  {
   "cell_type": "code",
   "execution_count": 203,
   "source": [
    "projectionDoubles = clusterDoubles.conjugate()"
   ],
   "outputs": [],
   "metadata": {}
  },
  {
   "cell_type": "code",
   "execution_count": 56,
   "source": [
    "print(clusterSingles * hamiltonian * clusterSingles)"
   ],
   "outputs": [
    {
     "output_type": "stream",
     "name": "stdout",
     "text": [
      "0.0\n",
      " + 0.0 * a^{1\\alpha}a_{0\\alpha}\n",
      " + 0.0 * a^{1\\beta}a_{0\\beta}\n",
      " + 0.0 * a^{1\\alpha}a_{0\\alpha}a^{1\\beta}a_{0\\beta}\n",
      " + 0.0 * a^{1\\beta}a_{0\\beta}a^{1\\alpha}a_{0\\alpha}\n",
      " + -0.5337491016607854 * a^{1\\alpha}a_{0\\alpha}a^{1\\beta}a_{1\\beta}a^{1\\beta}a_{0\\beta}\n",
      " + -1.1898506186070186 * a^{1\\alpha}a_{0\\alpha}a^{0\\alpha}a_{0\\alpha}a^{1\\beta}a_{0\\beta}\n",
      " + 2.600212552842601e-17 * a^{1\\alpha}a_{0\\alpha}a^{0\\alpha}a_{1\\alpha}a^{1\\alpha}a_{0\\alpha}\n",
      " + 2.600212552842601e-17 * a^{1\\alpha}a_{0\\alpha}a^{0\\alpha}a_{1\\alpha}a^{1\\beta}a_{0\\beta}\n",
      " + 2.600212552842601e-17 * a^{1\\alpha}a_{0\\alpha}a^{0\\beta}a_{1\\beta}a^{1\\beta}a_{0\\beta}\n",
      " + -0.5337491016607854 * a^{1\\beta}a_{0\\beta}a^{1\\alpha}a_{1\\alpha}a^{1\\alpha}a_{0\\alpha}\n",
      " + 2.600212552842601e-17 * a^{1\\beta}a_{0\\beta}a^{0\\alpha}a_{1\\alpha}a^{1\\alpha}a_{0\\alpha}\n",
      " + -1.1898506186070186 * a^{1\\beta}a_{0\\beta}a^{0\\beta}a_{0\\beta}a^{1\\alpha}a_{0\\alpha}\n",
      " + 2.600212552842601e-17 * a^{1\\beta}a_{0\\beta}a^{0\\beta}a_{1\\beta}a^{1\\alpha}a_{0\\alpha}\n",
      " + 2.600212552842601e-17 * a^{1\\beta}a_{0\\beta}a^{0\\beta}a_{1\\beta}a^{1\\beta}a_{0\\beta}\n",
      " + 0.3226247132942422 * a^{1\\alpha}a_{0\\alpha}a^{1\\beta}a^{0\\alpha}a_{0\\alpha}a_{1\\beta}a^{1\\beta}a_{0\\beta}\n",
      " + 6.938893903907228e-17 * a^{1\\alpha}a_{0\\alpha}a^{1\\beta}a^{0\\alpha}a_{1\\alpha}a_{1\\beta}a^{1\\alpha}a_{0\\alpha}\n",
      " + 6.938893903907228e-17 * a^{1\\alpha}a_{0\\alpha}a^{1\\beta}a^{0\\alpha}a_{1\\alpha}a_{1\\beta}a^{1\\beta}a_{0\\beta}\n",
      " + 0.3226247132942424 * a^{1\\alpha}a_{0\\alpha}a^{0\\alpha}a^{1\\beta}a_{1\\beta}a_{0\\alpha}a^{1\\beta}a_{0\\beta}\n",
      " + 2.7755575615628914e-17 * a^{1\\alpha}a_{0\\alpha}a^{0\\alpha}a^{1\\beta}a_{1\\beta}a_{1\\alpha}a^{1\\alpha}a_{0\\alpha}\n",
      " + 2.7755575615628914e-17 * a^{1\\alpha}a_{0\\alpha}a^{0\\alpha}a^{1\\beta}a_{1\\beta}a_{1\\alpha}a^{1\\beta}a_{0\\beta}\n",
      " + 5.204170427930421e-17 * a^{1\\alpha}a_{0\\alpha}a^{0\\alpha}a^{0\\beta}a_{0\\beta}a_{1\\alpha}a^{1\\alpha}a_{0\\alpha}\n",
      " + 4.163336342344337e-17 * a^{1\\alpha}a_{0\\alpha}a^{0\\alpha}a^{0\\beta}a_{1\\beta}a_{0\\alpha}a^{1\\beta}a_{0\\beta}\n",
      " + 0.09376099045135429 * a^{1\\alpha}a_{0\\alpha}a^{0\\alpha}a^{0\\beta}a_{1\\beta}a_{1\\alpha}a^{1\\alpha}a_{0\\alpha}\n",
      " + 0.09376099045135429 * a^{1\\alpha}a_{0\\alpha}a^{0\\alpha}a^{0\\beta}a_{1\\beta}a_{1\\alpha}a^{1\\beta}a_{0\\beta}\n",
      " + 5.204170427930421e-17 * a^{1\\alpha}a_{0\\alpha}a^{0\\beta}a^{0\\alpha}a_{0\\alpha}a_{1\\beta}a^{1\\beta}a_{0\\beta}\n",
      " + 4.163336342344337e-17 * a^{1\\alpha}a_{0\\alpha}a^{0\\beta}a^{0\\alpha}a_{1\\alpha}a_{0\\beta}a^{1\\alpha}a_{0\\alpha}\n",
      " + 0.09376099045135429 * a^{1\\alpha}a_{0\\alpha}a^{0\\beta}a^{0\\alpha}a_{1\\alpha}a_{1\\beta}a^{1\\alpha}a_{0\\alpha}\n",
      " + 0.09376099045135429 * a^{1\\alpha}a_{0\\alpha}a^{0\\beta}a^{0\\alpha}a_{1\\alpha}a_{1\\beta}a^{1\\beta}a_{0\\beta}\n",
      " + 0.3226247132942422 * a^{1\\beta}a_{0\\beta}a^{1\\alpha}a^{0\\beta}a_{0\\beta}a_{1\\alpha}a^{1\\alpha}a_{0\\alpha}\n",
      " + 6.938893903907228e-17 * a^{1\\beta}a_{0\\beta}a^{1\\alpha}a^{0\\beta}a_{1\\beta}a_{1\\alpha}a^{1\\alpha}a_{0\\alpha}\n",
      " + 6.938893903907228e-17 * a^{1\\beta}a_{0\\beta}a^{1\\alpha}a^{0\\beta}a_{1\\beta}a_{1\\alpha}a^{1\\beta}a_{0\\beta}\n",
      " + 5.204170427930421e-17 * a^{1\\beta}a_{0\\beta}a^{0\\alpha}a^{0\\beta}a_{0\\beta}a_{1\\alpha}a^{1\\alpha}a_{0\\alpha}\n",
      " + 4.163336342344337e-17 * a^{1\\beta}a_{0\\beta}a^{0\\alpha}a^{0\\beta}a_{1\\beta}a_{0\\alpha}a^{1\\beta}a_{0\\beta}\n",
      " + 0.09376099045135429 * a^{1\\beta}a_{0\\beta}a^{0\\alpha}a^{0\\beta}a_{1\\beta}a_{1\\alpha}a^{1\\alpha}a_{0\\alpha}\n",
      " + 0.09376099045135429 * a^{1\\beta}a_{0\\beta}a^{0\\alpha}a^{0\\beta}a_{1\\beta}a_{1\\alpha}a^{1\\beta}a_{0\\beta}\n",
      " + 0.3226247132942424 * a^{1\\beta}a_{0\\beta}a^{0\\beta}a^{1\\alpha}a_{1\\alpha}a_{0\\beta}a^{1\\alpha}a_{0\\alpha}\n",
      " + 2.7755575615628914e-17 * a^{1\\beta}a_{0\\beta}a^{0\\beta}a^{1\\alpha}a_{1\\alpha}a_{1\\beta}a^{1\\alpha}a_{0\\alpha}\n",
      " + 2.7755575615628914e-17 * a^{1\\beta}a_{0\\beta}a^{0\\beta}a^{1\\alpha}a_{1\\alpha}a_{1\\beta}a^{1\\beta}a_{0\\beta}\n",
      " + 5.204170427930421e-17 * a^{1\\beta}a_{0\\beta}a^{0\\beta}a^{0\\alpha}a_{0\\alpha}a_{1\\beta}a^{1\\beta}a_{0\\beta}\n",
      " + 4.163336342344337e-17 * a^{1\\beta}a_{0\\beta}a^{0\\beta}a^{0\\alpha}a_{1\\alpha}a_{0\\beta}a^{1\\alpha}a_{0\\alpha}\n",
      " + 0.09376099045135429 * a^{1\\beta}a_{0\\beta}a^{0\\beta}a^{0\\alpha}a_{1\\alpha}a_{1\\beta}a^{1\\alpha}a_{0\\alpha}\n",
      " + 0.09376099045135429 * a^{1\\beta}a_{0\\beta}a^{0\\beta}a^{0\\alpha}a_{1\\alpha}a_{1\\beta}a^{1\\beta}a_{0\\beta}\n"
     ]
    }
   ],
   "metadata": {}
  },
  {
   "cell_type": "code",
   "execution_count": 57,
   "source": [
    "def exponentialOperator(operator, maxOrder):\n",
    "    exponential = operatorSum([operatorProduct([], 1.)])\n",
    "    for k in range(maxOrder):\n",
    "        exponential += (1 / factorial(k + 1)) * pow(operator, k + 1)\n",
    "    return exponential"
   ],
   "outputs": [],
   "metadata": {}
  },
  {
   "cell_type": "code",
   "execution_count": 58,
   "source": [
    "print(exponentialOperator(clusterDoubles, 3))"
   ],
   "outputs": [
    {
     "output_type": "stream",
     "name": "stdout",
     "text": [
      "1.0\n",
      " + 1.0 * a^{1\\alpha}a^{1\\beta}a_{0\\beta}a_{0\\alpha}\n",
      " + 1.0 * a^{1\\beta}a^{1\\alpha}a_{0\\alpha}a_{0\\beta}\n"
     ]
    }
   ],
   "metadata": {}
  },
  {
   "cell_type": "code",
   "execution_count": 59,
   "source": [
    "def commutator(operator1, operator2):\n",
    "    return operator1 * operator2 + (-1) * operator2 * operator1"
   ],
   "outputs": [],
   "metadata": {}
  },
  {
   "cell_type": "code",
   "execution_count": 60,
   "source": [
    "print(commutator(clusterSingles, clusterSingles))"
   ],
   "outputs": [
    {
     "output_type": "stream",
     "name": "stdout",
     "text": [
      "0.0\n",
      " + 0.0 * a^{1\\alpha}a_{0\\alpha}a^{1\\beta}a_{0\\beta}\n",
      " + 0.0 * a^{1\\beta}a_{0\\beta}a^{1\\alpha}a_{0\\alpha}\n"
     ]
    }
   ],
   "metadata": {}
  },
  {
   "cell_type": "code",
   "execution_count": 61,
   "source": [
    "def BCHSimilarityTransform(H, T, order):\n",
    "    result = H\n",
    "    for k in range(order):\n",
    "        nestedCommutator = H\n",
    "        for i in range(k + 1):\n",
    "            nestedCommutator = commutator(nestedCommutator, T)\n",
    "        result += (1 / factorial(k + 1)) * nestedCommutator\n",
    "    result.checkNilpotency()\n",
    "    return result"
   ],
   "outputs": [],
   "metadata": {}
  },
  {
   "cell_type": "code",
   "execution_count": 180,
   "source": [
    "print(hamiltonian1Body)\n",
    "print(clusterSingles)\n",
    "print(exponentialOperator((-1) * clusterSingles, 3) * hamiltonian1Body * exponentialOperator(clusterSingles, 3))\n",
    "print(BCHSimilarityTransform(hamiltonian1Body, clusterSingles, 3))\n",
    "print(exponentialOperator((-1) * clusterSingles, 4) * hamiltonian1Body * exponentialOperator(clusterSingles, 4) + (-1) * BCHSimilarityTransform(hamiltonian1Body, clusterSingles, 4))"
   ],
   "outputs": [
    {
     "output_type": "stream",
     "name": "stdout",
     "text": [
      "-1.1898506186070186 * a^{0\\alpha}a_{0\\alpha}\n",
      " + 2.600212552842601e-17 * a^{0\\alpha}a_{1\\alpha}\n",
      " + -1.1898506186070186 * a^{0\\beta}a_{0\\beta}\n",
      " + 2.600212552842601e-17 * a^{0\\beta}a_{1\\beta}\n",
      " + -4.7142356915405136e-17 * a^{1\\alpha}a_{0\\alpha}\n",
      " + -0.5337491016607854 * a^{1\\alpha}a_{1\\alpha}\n",
      " + -4.7142356915405136e-17 * a^{1\\beta}a_{0\\beta}\n",
      " + -0.5337491016607854 * a^{1\\beta}a_{1\\beta}\n",
      "1.0 * a^{1\\alpha}a_{0\\alpha}\n",
      " + 1.0 * a^{1\\beta}a_{0\\beta}\n",
      "0.0\n",
      " + -4.7142356915405136e-17 * a^{1\\alpha}a_{0\\alpha}\n",
      " + 0.0 * a^{1\\alpha}a_{0\\alpha}\n",
      " + -0.5337491016607854 * a^{1\\alpha}a_{1\\alpha}\n",
      " + -4.7142356915405136e-17 * a^{1\\beta}a_{0\\beta}\n",
      " + 0.0 * a^{1\\beta}a_{0\\beta}\n",
      " + -0.5337491016607854 * a^{1\\beta}a_{1\\beta}\n",
      " + -1.1898506186070186 * a^{0\\alpha}a_{0\\alpha}\n",
      " + 2.600212552842601e-17 * a^{0\\alpha}a_{1\\alpha}\n",
      " + -1.1898506186070186 * a^{0\\beta}a_{0\\beta}\n",
      " + 2.600212552842601e-17 * a^{0\\beta}a_{1\\beta}\n",
      " + -4.7142356915405136e-17 * a^{1\\alpha}a_{0\\alpha}a^{1\\beta}a_{0\\beta}\n",
      " + 4.7142356915405136e-17 * a^{1\\alpha}a_{0\\alpha}a^{1\\beta}a_{0\\beta}\n",
      " + 0.0 * a^{1\\alpha}a_{0\\alpha}a^{1\\beta}a_{0\\beta}\n",
      " + 0.5337491016607854 * a^{1\\alpha}a_{0\\alpha}a^{1\\beta}a_{1\\beta}\n",
      " + 1.1898506186070186 * a^{1\\alpha}a_{0\\alpha}a^{0\\alpha}a_{0\\alpha}\n",
      " + -2.600212552842601e-17 * a^{1\\alpha}a_{0\\alpha}a^{0\\alpha}a_{1\\alpha}\n",
      " + 1.1898506186070186 * a^{1\\alpha}a_{0\\alpha}a^{0\\beta}a_{0\\beta}\n",
      " + -2.600212552842601e-17 * a^{1\\alpha}a_{0\\alpha}a^{0\\beta}a_{1\\beta}\n",
      " + -0.5337491016607854 * a^{1\\alpha}a_{1\\alpha}a^{1\\alpha}a_{0\\alpha}\n",
      " + -0.5337491016607854 * a^{1\\alpha}a_{1\\alpha}a^{1\\beta}a_{0\\beta}\n",
      " + -4.7142356915405136e-17 * a^{1\\beta}a_{0\\beta}a^{1\\alpha}a_{0\\alpha}\n",
      " + 4.7142356915405136e-17 * a^{1\\beta}a_{0\\beta}a^{1\\alpha}a_{0\\alpha}\n",
      " + 0.0 * a^{1\\beta}a_{0\\beta}a^{1\\alpha}a_{0\\alpha}\n",
      " + 0.5337491016607854 * a^{1\\beta}a_{0\\beta}a^{1\\alpha}a_{1\\alpha}\n",
      " + 1.1898506186070186 * a^{1\\beta}a_{0\\beta}a^{0\\alpha}a_{0\\alpha}\n",
      " + -2.600212552842601e-17 * a^{1\\beta}a_{0\\beta}a^{0\\alpha}a_{1\\alpha}\n",
      " + 1.1898506186070186 * a^{1\\beta}a_{0\\beta}a^{0\\beta}a_{0\\beta}\n",
      " + -2.600212552842601e-17 * a^{1\\beta}a_{0\\beta}a^{0\\beta}a_{1\\beta}\n",
      " + -0.5337491016607854 * a^{1\\beta}a_{1\\beta}a^{1\\alpha}a_{0\\alpha}\n",
      " + -0.5337491016607854 * a^{1\\beta}a_{1\\beta}a^{1\\beta}a_{0\\beta}\n",
      " + -1.1898506186070186 * a^{0\\alpha}a_{0\\alpha}a^{1\\beta}a_{0\\beta}\n",
      " + 2.600212552842601e-17 * a^{0\\alpha}a_{1\\alpha}a^{1\\alpha}a_{0\\alpha}\n",
      " + 2.600212552842601e-17 * a^{0\\alpha}a_{1\\alpha}a^{1\\beta}a_{0\\beta}\n",
      " + -1.1898506186070186 * a^{0\\beta}a_{0\\beta}a^{1\\alpha}a_{0\\alpha}\n",
      " + 2.600212552842601e-17 * a^{0\\beta}a_{1\\beta}a^{1\\alpha}a_{0\\alpha}\n",
      " + 2.600212552842601e-17 * a^{0\\beta}a_{1\\beta}a^{1\\beta}a_{0\\beta}\n",
      " + -0.5949253093035093 * a^{1\\alpha}a_{0\\alpha}a^{1\\beta}a_{0\\beta}a^{0\\alpha}a_{0\\alpha}\n",
      " + 1.3001062764213006e-17 * a^{1\\alpha}a_{0\\alpha}a^{1\\beta}a_{0\\beta}a^{0\\alpha}a_{1\\alpha}\n",
      " + -0.5949253093035093 * a^{1\\alpha}a_{0\\alpha}a^{1\\beta}a_{0\\beta}a^{0\\beta}a_{0\\beta}\n",
      " + 1.3001062764213006e-17 * a^{1\\alpha}a_{0\\alpha}a^{1\\beta}a_{0\\beta}a^{0\\beta}a_{1\\beta}\n",
      " + 0.5337491016607854 * a^{1\\alpha}a_{0\\alpha}a^{1\\beta}a_{1\\beta}a^{1\\beta}a_{0\\beta}\n",
      " + 1.1898506186070186 * a^{1\\alpha}a_{0\\alpha}a^{0\\alpha}a_{0\\alpha}a^{1\\beta}a_{0\\beta}\n",
      " + -2.600212552842601e-17 * a^{1\\alpha}a_{0\\alpha}a^{0\\alpha}a_{1\\alpha}a^{1\\alpha}a_{0\\alpha}\n",
      " + -2.600212552842601e-17 * a^{1\\alpha}a_{0\\alpha}a^{0\\alpha}a_{1\\alpha}a^{1\\beta}a_{0\\beta}\n",
      " + -2.600212552842601e-17 * a^{1\\alpha}a_{0\\alpha}a^{0\\beta}a_{1\\beta}a^{1\\beta}a_{0\\beta}\n",
      " + -0.2668745508303927 * a^{1\\alpha}a_{1\\alpha}a^{1\\alpha}a_{0\\alpha}a^{1\\beta}a_{0\\beta}\n",
      " + -0.2668745508303927 * a^{1\\alpha}a_{1\\alpha}a^{1\\beta}a_{0\\beta}a^{1\\alpha}a_{0\\alpha}\n",
      " + -0.5949253093035093 * a^{1\\beta}a_{0\\beta}a^{1\\alpha}a_{0\\alpha}a^{0\\alpha}a_{0\\alpha}\n",
      " + 1.3001062764213006e-17 * a^{1\\beta}a_{0\\beta}a^{1\\alpha}a_{0\\alpha}a^{0\\alpha}a_{1\\alpha}\n",
      " + -0.5949253093035093 * a^{1\\beta}a_{0\\beta}a^{1\\alpha}a_{0\\alpha}a^{0\\beta}a_{0\\beta}\n",
      " + 1.3001062764213006e-17 * a^{1\\beta}a_{0\\beta}a^{1\\alpha}a_{0\\alpha}a^{0\\beta}a_{1\\beta}\n",
      " + 0.5337491016607854 * a^{1\\beta}a_{0\\beta}a^{1\\alpha}a_{1\\alpha}a^{1\\alpha}a_{0\\alpha}\n",
      " + -2.600212552842601e-17 * a^{1\\beta}a_{0\\beta}a^{0\\alpha}a_{1\\alpha}a^{1\\alpha}a_{0\\alpha}\n",
      " + 1.1898506186070186 * a^{1\\beta}a_{0\\beta}a^{0\\beta}a_{0\\beta}a^{1\\alpha}a_{0\\alpha}\n",
      " + -2.600212552842601e-17 * a^{1\\beta}a_{0\\beta}a^{0\\beta}a_{1\\beta}a^{1\\alpha}a_{0\\alpha}\n",
      " + -2.600212552842601e-17 * a^{1\\beta}a_{0\\beta}a^{0\\beta}a_{1\\beta}a^{1\\beta}a_{0\\beta}\n",
      " + -0.2668745508303927 * a^{1\\beta}a_{1\\beta}a^{1\\alpha}a_{0\\alpha}a^{1\\beta}a_{0\\beta}\n",
      " + -0.2668745508303927 * a^{1\\beta}a_{1\\beta}a^{1\\beta}a_{0\\beta}a^{1\\alpha}a_{0\\alpha}\n",
      " + 1.3001062764213006e-17 * a^{0\\alpha}a_{1\\alpha}a^{1\\alpha}a_{0\\alpha}a^{1\\beta}a_{0\\beta}\n",
      " + 1.3001062764213006e-17 * a^{0\\alpha}a_{1\\alpha}a^{1\\beta}a_{0\\beta}a^{1\\alpha}a_{0\\alpha}\n",
      " + 1.3001062764213006e-17 * a^{0\\beta}a_{1\\beta}a^{1\\alpha}a_{0\\alpha}a^{1\\beta}a_{0\\beta}\n",
      " + 1.3001062764213006e-17 * a^{0\\beta}a_{1\\beta}a^{1\\beta}a_{0\\beta}a^{1\\alpha}a_{0\\alpha}\n",
      " + 1.3001062764213006e-17 * a^{1\\alpha}a_{0\\alpha}a^{1\\beta}a_{0\\beta}a^{0\\alpha}a_{1\\alpha}a^{1\\alpha}a_{0\\alpha}\n",
      " + 1.3001062764213006e-17 * a^{1\\alpha}a_{0\\alpha}a^{1\\beta}a_{0\\beta}a^{0\\beta}a_{1\\beta}a^{1\\beta}a_{0\\beta}\n",
      " + -1.3001062764213006e-17 * a^{1\\alpha}a_{0\\alpha}a^{0\\alpha}a_{1\\alpha}a^{1\\alpha}a_{0\\alpha}a^{1\\beta}a_{0\\beta}\n",
      " + -1.3001062764213006e-17 * a^{1\\alpha}a_{0\\alpha}a^{0\\alpha}a_{1\\alpha}a^{1\\beta}a_{0\\beta}a^{1\\alpha}a_{0\\alpha}\n",
      " + 1.3001062764213006e-17 * a^{1\\beta}a_{0\\beta}a^{1\\alpha}a_{0\\alpha}a^{0\\alpha}a_{1\\alpha}a^{1\\alpha}a_{0\\alpha}\n",
      " + 1.3001062764213006e-17 * a^{1\\beta}a_{0\\beta}a^{1\\alpha}a_{0\\alpha}a^{0\\beta}a_{1\\beta}a^{1\\beta}a_{0\\beta}\n",
      " + -1.3001062764213006e-17 * a^{1\\beta}a_{0\\beta}a^{0\\beta}a_{1\\beta}a^{1\\alpha}a_{0\\alpha}a^{1\\beta}a_{0\\beta}\n",
      " + -1.3001062764213006e-17 * a^{1\\beta}a_{0\\beta}a^{0\\beta}a_{1\\beta}a^{1\\beta}a_{0\\beta}a^{1\\alpha}a_{0\\alpha}\n",
      "0.0\n",
      " + -4.7142356915405136e-17 * a^{1\\alpha}a_{0\\alpha}\n",
      " + -0.0 * a^{1\\alpha}a_{0\\alpha}\n",
      " + -0.5337491016607854 * a^{1\\alpha}a_{1\\alpha}\n",
      " + -4.7142356915405136e-17 * a^{1\\beta}a_{0\\beta}\n",
      " + -0.0 * a^{1\\beta}a_{0\\beta}\n",
      " + -0.5337491016607854 * a^{1\\beta}a_{1\\beta}\n",
      " + -1.1898506186070186 * a^{0\\alpha}a_{0\\alpha}\n",
      " + 2.600212552842601e-17 * a^{0\\alpha}a_{1\\alpha}\n",
      " + -1.1898506186070186 * a^{0\\beta}a_{0\\beta}\n",
      " + 2.600212552842601e-17 * a^{0\\beta}a_{1\\beta}\n",
      " + -4.7142356915405136e-17 * a^{1\\alpha}a_{0\\alpha}a^{1\\beta}a_{0\\beta}\n",
      " + 4.7142356915405136e-17 * a^{1\\alpha}a_{0\\alpha}a^{1\\beta}a_{0\\beta}\n",
      " + 0.0 * a^{1\\alpha}a_{0\\alpha}a^{1\\beta}a_{0\\beta}\n",
      " + 0.5337491016607854 * a^{1\\alpha}a_{0\\alpha}a^{1\\beta}a_{1\\beta}\n",
      " + 1.1898506186070186 * a^{1\\alpha}a_{0\\alpha}a^{0\\alpha}a_{0\\alpha}\n",
      " + -2.600212552842601e-17 * a^{1\\alpha}a_{0\\alpha}a^{0\\alpha}a_{1\\alpha}\n",
      " + 1.1898506186070186 * a^{1\\alpha}a_{0\\alpha}a^{0\\beta}a_{0\\beta}\n",
      " + -2.600212552842601e-17 * a^{1\\alpha}a_{0\\alpha}a^{0\\beta}a_{1\\beta}\n",
      " + -0.5337491016607854 * a^{1\\alpha}a_{1\\alpha}a^{1\\alpha}a_{0\\alpha}\n",
      " + -0.5337491016607854 * a^{1\\alpha}a_{1\\alpha}a^{1\\beta}a_{0\\beta}\n",
      " + -4.7142356915405136e-17 * a^{1\\beta}a_{0\\beta}a^{1\\alpha}a_{0\\alpha}\n",
      " + 4.7142356915405136e-17 * a^{1\\beta}a_{0\\beta}a^{1\\alpha}a_{0\\alpha}\n",
      " + 0.0 * a^{1\\beta}a_{0\\beta}a^{1\\alpha}a_{0\\alpha}\n",
      " + 0.5337491016607854 * a^{1\\beta}a_{0\\beta}a^{1\\alpha}a_{1\\alpha}\n",
      " + 1.1898506186070186 * a^{1\\beta}a_{0\\beta}a^{0\\alpha}a_{0\\alpha}\n",
      " + -2.600212552842601e-17 * a^{1\\beta}a_{0\\beta}a^{0\\alpha}a_{1\\alpha}\n",
      " + 1.1898506186070186 * a^{1\\beta}a_{0\\beta}a^{0\\beta}a_{0\\beta}\n",
      " + -2.600212552842601e-17 * a^{1\\beta}a_{0\\beta}a^{0\\beta}a_{1\\beta}\n",
      " + -0.5337491016607854 * a^{1\\beta}a_{1\\beta}a^{1\\alpha}a_{0\\alpha}\n",
      " + -0.5337491016607854 * a^{1\\beta}a_{1\\beta}a^{1\\beta}a_{0\\beta}\n",
      " + -1.1898506186070186 * a^{0\\alpha}a_{0\\alpha}a^{1\\beta}a_{0\\beta}\n",
      " + 2.600212552842601e-17 * a^{0\\alpha}a_{1\\alpha}a^{1\\alpha}a_{0\\alpha}\n",
      " + 2.600212552842601e-17 * a^{0\\alpha}a_{1\\alpha}a^{1\\beta}a_{0\\beta}\n",
      " + -1.1898506186070186 * a^{0\\beta}a_{0\\beta}a^{1\\alpha}a_{0\\alpha}\n",
      " + 2.600212552842601e-17 * a^{0\\beta}a_{1\\beta}a^{1\\alpha}a_{0\\alpha}\n",
      " + 2.600212552842601e-17 * a^{0\\beta}a_{1\\beta}a^{1\\beta}a_{0\\beta}\n",
      " + -0.5949253093035093 * a^{1\\alpha}a_{0\\alpha}a^{1\\beta}a_{0\\beta}a^{0\\alpha}a_{0\\alpha}\n",
      " + 1.3001062764213006e-17 * a^{1\\alpha}a_{0\\alpha}a^{1\\beta}a_{0\\beta}a^{0\\alpha}a_{1\\alpha}\n",
      " + -0.5949253093035093 * a^{1\\alpha}a_{0\\alpha}a^{1\\beta}a_{0\\beta}a^{0\\beta}a_{0\\beta}\n",
      " + 1.3001062764213006e-17 * a^{1\\alpha}a_{0\\alpha}a^{1\\beta}a_{0\\beta}a^{0\\beta}a_{1\\beta}\n",
      " + 0.5337491016607854 * a^{1\\alpha}a_{0\\alpha}a^{1\\beta}a_{1\\beta}a^{1\\beta}a_{0\\beta}\n",
      " + 1.1898506186070186 * a^{1\\alpha}a_{0\\alpha}a^{0\\alpha}a_{0\\alpha}a^{1\\beta}a_{0\\beta}\n",
      " + -2.600212552842601e-17 * a^{1\\alpha}a_{0\\alpha}a^{0\\alpha}a_{1\\alpha}a^{1\\alpha}a_{0\\alpha}\n",
      " + -2.600212552842601e-17 * a^{1\\alpha}a_{0\\alpha}a^{0\\alpha}a_{1\\alpha}a^{1\\beta}a_{0\\beta}\n",
      " + -2.600212552842601e-17 * a^{1\\alpha}a_{0\\alpha}a^{0\\beta}a_{1\\beta}a^{1\\beta}a_{0\\beta}\n",
      " + -0.2668745508303927 * a^{1\\alpha}a_{1\\alpha}a^{1\\alpha}a_{0\\alpha}a^{1\\beta}a_{0\\beta}\n",
      " + -0.2668745508303927 * a^{1\\alpha}a_{1\\alpha}a^{1\\beta}a_{0\\beta}a^{1\\alpha}a_{0\\alpha}\n",
      " + -0.5949253093035093 * a^{1\\beta}a_{0\\beta}a^{1\\alpha}a_{0\\alpha}a^{0\\alpha}a_{0\\alpha}\n",
      " + 1.3001062764213006e-17 * a^{1\\beta}a_{0\\beta}a^{1\\alpha}a_{0\\alpha}a^{0\\alpha}a_{1\\alpha}\n",
      " + -0.5949253093035093 * a^{1\\beta}a_{0\\beta}a^{1\\alpha}a_{0\\alpha}a^{0\\beta}a_{0\\beta}\n",
      " + 1.3001062764213006e-17 * a^{1\\beta}a_{0\\beta}a^{1\\alpha}a_{0\\alpha}a^{0\\beta}a_{1\\beta}\n",
      " + 0.5337491016607854 * a^{1\\beta}a_{0\\beta}a^{1\\alpha}a_{1\\alpha}a^{1\\alpha}a_{0\\alpha}\n",
      " + -2.600212552842601e-17 * a^{1\\beta}a_{0\\beta}a^{0\\alpha}a_{1\\alpha}a^{1\\alpha}a_{0\\alpha}\n",
      " + 1.1898506186070186 * a^{1\\beta}a_{0\\beta}a^{0\\beta}a_{0\\beta}a^{1\\alpha}a_{0\\alpha}\n",
      " + -2.600212552842601e-17 * a^{1\\beta}a_{0\\beta}a^{0\\beta}a_{1\\beta}a^{1\\alpha}a_{0\\alpha}\n",
      " + -2.600212552842601e-17 * a^{1\\beta}a_{0\\beta}a^{0\\beta}a_{1\\beta}a^{1\\beta}a_{0\\beta}\n",
      " + -0.2668745508303927 * a^{1\\beta}a_{1\\beta}a^{1\\alpha}a_{0\\alpha}a^{1\\beta}a_{0\\beta}\n",
      " + -0.2668745508303927 * a^{1\\beta}a_{1\\beta}a^{1\\beta}a_{0\\beta}a^{1\\alpha}a_{0\\alpha}\n",
      " + 1.3001062764213006e-17 * a^{0\\alpha}a_{1\\alpha}a^{1\\alpha}a_{0\\alpha}a^{1\\beta}a_{0\\beta}\n",
      " + 1.3001062764213006e-17 * a^{0\\alpha}a_{1\\alpha}a^{1\\beta}a_{0\\beta}a^{1\\alpha}a_{0\\alpha}\n",
      " + 1.3001062764213006e-17 * a^{0\\beta}a_{1\\beta}a^{1\\alpha}a_{0\\alpha}a^{1\\beta}a_{0\\beta}\n",
      " + 1.3001062764213006e-17 * a^{0\\beta}a_{1\\beta}a^{1\\beta}a_{0\\beta}a^{1\\alpha}a_{0\\alpha}\n",
      " + 1.3001062764213006e-17 * a^{1\\alpha}a_{0\\alpha}a^{1\\beta}a_{0\\beta}a^{0\\alpha}a_{1\\alpha}a^{1\\alpha}a_{0\\alpha}\n",
      " + 1.3001062764213006e-17 * a^{1\\alpha}a_{0\\alpha}a^{1\\beta}a_{0\\beta}a^{0\\beta}a_{1\\beta}a^{1\\beta}a_{0\\beta}\n",
      " + -1.3001062764213006e-17 * a^{1\\alpha}a_{0\\alpha}a^{0\\alpha}a_{1\\alpha}a^{1\\alpha}a_{0\\alpha}a^{1\\beta}a_{0\\beta}\n",
      " + -1.3001062764213006e-17 * a^{1\\alpha}a_{0\\alpha}a^{0\\alpha}a_{1\\alpha}a^{1\\beta}a_{0\\beta}a^{1\\alpha}a_{0\\alpha}\n",
      " + 1.3001062764213006e-17 * a^{1\\beta}a_{0\\beta}a^{1\\alpha}a_{0\\alpha}a^{0\\alpha}a_{1\\alpha}a^{1\\alpha}a_{0\\alpha}\n",
      " + 1.3001062764213006e-17 * a^{1\\beta}a_{0\\beta}a^{1\\alpha}a_{0\\alpha}a^{0\\beta}a_{1\\beta}a^{1\\beta}a_{0\\beta}\n",
      " + -1.3001062764213006e-17 * a^{1\\beta}a_{0\\beta}a^{0\\beta}a_{1\\beta}a^{1\\alpha}a_{0\\alpha}a^{1\\beta}a_{0\\beta}\n",
      " + -1.3001062764213006e-17 * a^{1\\beta}a_{0\\beta}a^{0\\beta}a_{1\\beta}a^{1\\beta}a_{0\\beta}a^{1\\alpha}a_{0\\alpha}\n",
      "-0.0\n",
      " + 0.0 * a^{1\\alpha}a_{0\\alpha}\n",
      " + 0.0 * a^{1\\alpha}a_{0\\alpha}\n",
      " + 0.0 * a^{1\\alpha}a_{1\\alpha}\n",
      " + 0.0 * a^{1\\beta}a_{0\\beta}\n",
      " + 0.0 * a^{1\\beta}a_{0\\beta}\n",
      " + 0.0 * a^{1\\beta}a_{1\\beta}\n",
      " + 0.0 * a^{0\\alpha}a_{0\\alpha}\n",
      " + 0.0 * a^{0\\alpha}a_{1\\alpha}\n",
      " + 0.0 * a^{0\\beta}a_{0\\beta}\n",
      " + 0.0 * a^{0\\beta}a_{1\\beta}\n",
      " + 0.0 * a^{1\\alpha}a_{0\\alpha}a^{1\\beta}a_{0\\beta}\n",
      " + 0.0 * a^{1\\alpha}a_{0\\alpha}a^{1\\beta}a_{0\\beta}\n",
      " + -0.0 * a^{1\\alpha}a_{0\\alpha}a^{1\\beta}a_{0\\beta}\n",
      " + 0.0 * a^{1\\alpha}a_{0\\alpha}a^{1\\beta}a_{1\\beta}\n",
      " + 0.0 * a^{1\\alpha}a_{0\\alpha}a^{0\\alpha}a_{0\\alpha}\n",
      " + 0.0 * a^{1\\alpha}a_{0\\alpha}a^{0\\alpha}a_{1\\alpha}\n",
      " + 0.0 * a^{1\\alpha}a_{0\\alpha}a^{0\\beta}a_{0\\beta}\n",
      " + 0.0 * a^{1\\alpha}a_{0\\alpha}a^{0\\beta}a_{1\\beta}\n",
      " + 0.0 * a^{1\\alpha}a_{1\\alpha}a^{1\\alpha}a_{0\\alpha}\n",
      " + 0.0 * a^{1\\alpha}a_{1\\alpha}a^{1\\beta}a_{0\\beta}\n",
      " + 0.0 * a^{1\\beta}a_{0\\beta}a^{1\\alpha}a_{0\\alpha}\n",
      " + 0.0 * a^{1\\beta}a_{0\\beta}a^{1\\alpha}a_{0\\alpha}\n",
      " + -0.0 * a^{1\\beta}a_{0\\beta}a^{1\\alpha}a_{0\\alpha}\n",
      " + 0.0 * a^{1\\beta}a_{0\\beta}a^{1\\alpha}a_{1\\alpha}\n",
      " + 0.0 * a^{1\\beta}a_{0\\beta}a^{0\\alpha}a_{0\\alpha}\n",
      " + 0.0 * a^{1\\beta}a_{0\\beta}a^{0\\alpha}a_{1\\alpha}\n",
      " + 0.0 * a^{1\\beta}a_{0\\beta}a^{0\\beta}a_{0\\beta}\n",
      " + 0.0 * a^{1\\beta}a_{0\\beta}a^{0\\beta}a_{1\\beta}\n",
      " + 0.0 * a^{1\\beta}a_{1\\beta}a^{1\\alpha}a_{0\\alpha}\n",
      " + 0.0 * a^{1\\beta}a_{1\\beta}a^{1\\beta}a_{0\\beta}\n",
      " + 0.0 * a^{0\\alpha}a_{0\\alpha}a^{1\\beta}a_{0\\beta}\n",
      " + 0.0 * a^{0\\alpha}a_{1\\alpha}a^{1\\alpha}a_{0\\alpha}\n",
      " + 0.0 * a^{0\\alpha}a_{1\\alpha}a^{1\\beta}a_{0\\beta}\n",
      " + 0.0 * a^{0\\beta}a_{0\\beta}a^{1\\alpha}a_{0\\alpha}\n",
      " + 0.0 * a^{0\\beta}a_{1\\beta}a^{1\\alpha}a_{0\\alpha}\n",
      " + 0.0 * a^{0\\beta}a_{1\\beta}a^{1\\beta}a_{0\\beta}\n",
      " + 0.0 * a^{1\\alpha}a_{0\\alpha}a^{1\\beta}a_{0\\beta}a^{0\\alpha}a_{0\\alpha}\n",
      " + 0.0 * a^{1\\alpha}a_{0\\alpha}a^{1\\beta}a_{0\\beta}a^{0\\alpha}a_{1\\alpha}\n",
      " + 0.0 * a^{1\\alpha}a_{0\\alpha}a^{1\\beta}a_{0\\beta}a^{0\\beta}a_{0\\beta}\n",
      " + 0.0 * a^{1\\alpha}a_{0\\alpha}a^{1\\beta}a_{0\\beta}a^{0\\beta}a_{1\\beta}\n",
      " + 0.0 * a^{1\\alpha}a_{0\\alpha}a^{1\\beta}a_{1\\beta}a^{1\\beta}a_{0\\beta}\n",
      " + 0.0 * a^{1\\alpha}a_{0\\alpha}a^{0\\alpha}a_{0\\alpha}a^{1\\beta}a_{0\\beta}\n",
      " + 0.0 * a^{1\\alpha}a_{0\\alpha}a^{0\\alpha}a_{1\\alpha}a^{1\\alpha}a_{0\\alpha}\n",
      " + 0.0 * a^{1\\alpha}a_{0\\alpha}a^{0\\alpha}a_{1\\alpha}a^{1\\beta}a_{0\\beta}\n",
      " + 0.0 * a^{1\\alpha}a_{0\\alpha}a^{0\\beta}a_{1\\beta}a^{1\\beta}a_{0\\beta}\n",
      " + 0.0 * a^{1\\alpha}a_{1\\alpha}a^{1\\alpha}a_{0\\alpha}a^{1\\beta}a_{0\\beta}\n",
      " + 0.0 * a^{1\\alpha}a_{1\\alpha}a^{1\\beta}a_{0\\beta}a^{1\\alpha}a_{0\\alpha}\n",
      " + 0.0 * a^{1\\beta}a_{0\\beta}a^{1\\alpha}a_{0\\alpha}a^{0\\alpha}a_{0\\alpha}\n",
      " + 0.0 * a^{1\\beta}a_{0\\beta}a^{1\\alpha}a_{0\\alpha}a^{0\\alpha}a_{1\\alpha}\n",
      " + 0.0 * a^{1\\beta}a_{0\\beta}a^{1\\alpha}a_{0\\alpha}a^{0\\beta}a_{0\\beta}\n",
      " + 0.0 * a^{1\\beta}a_{0\\beta}a^{1\\alpha}a_{0\\alpha}a^{0\\beta}a_{1\\beta}\n",
      " + 0.0 * a^{1\\beta}a_{0\\beta}a^{1\\alpha}a_{1\\alpha}a^{1\\alpha}a_{0\\alpha}\n",
      " + 0.0 * a^{1\\beta}a_{0\\beta}a^{0\\alpha}a_{1\\alpha}a^{1\\alpha}a_{0\\alpha}\n",
      " + 0.0 * a^{1\\beta}a_{0\\beta}a^{0\\beta}a_{0\\beta}a^{1\\alpha}a_{0\\alpha}\n",
      " + 0.0 * a^{1\\beta}a_{0\\beta}a^{0\\beta}a_{1\\beta}a^{1\\alpha}a_{0\\alpha}\n",
      " + 0.0 * a^{1\\beta}a_{0\\beta}a^{0\\beta}a_{1\\beta}a^{1\\beta}a_{0\\beta}\n",
      " + 0.0 * a^{1\\beta}a_{1\\beta}a^{1\\alpha}a_{0\\alpha}a^{1\\beta}a_{0\\beta}\n",
      " + 0.0 * a^{1\\beta}a_{1\\beta}a^{1\\beta}a_{0\\beta}a^{1\\alpha}a_{0\\alpha}\n",
      " + 0.0 * a^{0\\alpha}a_{1\\alpha}a^{1\\alpha}a_{0\\alpha}a^{1\\beta}a_{0\\beta}\n",
      " + 0.0 * a^{0\\alpha}a_{1\\alpha}a^{1\\beta}a_{0\\beta}a^{1\\alpha}a_{0\\alpha}\n",
      " + 0.0 * a^{0\\beta}a_{1\\beta}a^{1\\alpha}a_{0\\alpha}a^{1\\beta}a_{0\\beta}\n",
      " + 0.0 * a^{0\\beta}a_{1\\beta}a^{1\\beta}a_{0\\beta}a^{1\\alpha}a_{0\\alpha}\n",
      " + 0.0 * a^{1\\alpha}a_{0\\alpha}a^{1\\beta}a_{0\\beta}a^{0\\alpha}a_{1\\alpha}a^{1\\alpha}a_{0\\alpha}\n",
      " + 0.0 * a^{1\\alpha}a_{0\\alpha}a^{1\\beta}a_{0\\beta}a^{0\\beta}a_{1\\beta}a^{1\\beta}a_{0\\beta}\n",
      " + 0.0 * a^{1\\alpha}a_{0\\alpha}a^{0\\alpha}a_{1\\alpha}a^{1\\alpha}a_{0\\alpha}a^{1\\beta}a_{0\\beta}\n",
      " + 0.0 * a^{1\\alpha}a_{0\\alpha}a^{0\\alpha}a_{1\\alpha}a^{1\\beta}a_{0\\beta}a^{1\\alpha}a_{0\\alpha}\n",
      " + 0.0 * a^{1\\beta}a_{0\\beta}a^{1\\alpha}a_{0\\alpha}a^{0\\alpha}a_{1\\alpha}a^{1\\alpha}a_{0\\alpha}\n",
      " + 0.0 * a^{1\\beta}a_{0\\beta}a^{1\\alpha}a_{0\\alpha}a^{0\\beta}a_{1\\beta}a^{1\\beta}a_{0\\beta}\n",
      " + 0.0 * a^{1\\beta}a_{0\\beta}a^{0\\beta}a_{1\\beta}a^{1\\alpha}a_{0\\alpha}a^{1\\beta}a_{0\\beta}\n",
      " + 0.0 * a^{1\\beta}a_{0\\beta}a^{0\\beta}a_{1\\beta}a^{1\\beta}a_{0\\beta}a^{1\\alpha}a_{0\\alpha}\n"
     ]
    }
   ],
   "metadata": {}
  },
  {
   "cell_type": "code",
   "execution_count": 63,
   "source": [
    "print(BCHSimilarityTransform(hamiltonian, clusterSingles, 1))"
   ],
   "outputs": [
    {
     "output_type": "stream",
     "name": "stdout",
     "text": [
      "0.0\n",
      " + -4.7142356915405136e-17 * a^{1\\alpha}a_{0\\alpha}\n",
      " + -0.0 * a^{1\\alpha}a_{0\\alpha}\n",
      " + -0.5337491016607854 * a^{1\\alpha}a_{1\\alpha}\n",
      " + -4.7142356915405136e-17 * a^{1\\beta}a_{0\\beta}\n",
      " + -0.0 * a^{1\\beta}a_{0\\beta}\n",
      " + -0.5337491016607854 * a^{1\\beta}a_{1\\beta}\n",
      " + -1.1898506186070186 * a^{0\\alpha}a_{0\\alpha}\n",
      " + 2.600212552842601e-17 * a^{0\\alpha}a_{1\\alpha}\n",
      " + -1.1898506186070186 * a^{0\\beta}a_{0\\beta}\n",
      " + 2.600212552842601e-17 * a^{0\\beta}a_{1\\beta}\n",
      " + -4.7142356915405136e-17 * a^{1\\alpha}a_{0\\alpha}a^{1\\beta}a_{0\\beta}\n",
      " + 0.09376099045135429 * a^{1\\alpha}a^{1\\beta}a_{0\\beta}a_{0\\alpha}\n",
      " + 6.938893903907228e-17 * a^{1\\alpha}a^{1\\beta}a_{0\\beta}a_{1\\alpha}\n",
      " + 2.7755575615628914e-17 * a^{1\\alpha}a^{1\\beta}a_{1\\beta}a_{0\\alpha}\n",
      " + 0.33906809184265285 * a^{1\\alpha}a^{1\\beta}a_{1\\beta}a_{1\\alpha}\n",
      " + 0.3226247132942422 * a^{1\\alpha}a^{0\\alpha}a_{0\\alpha}a_{1\\alpha}\n",
      " + 4.7142356915405136e-17 * a^{1\\alpha}a_{0\\alpha}a^{1\\beta}a_{0\\beta}\n",
      " + 0.5337491016607854 * a^{1\\alpha}a_{0\\alpha}a^{1\\beta}a_{1\\beta}\n",
      " + 1.1898506186070186 * a^{1\\alpha}a_{0\\alpha}a^{0\\alpha}a_{0\\alpha}\n",
      " + -2.600212552842601e-17 * a^{1\\alpha}a_{0\\alpha}a^{0\\alpha}a_{1\\alpha}\n",
      " + 1.1898506186070186 * a^{1\\alpha}a_{0\\alpha}a^{0\\beta}a_{0\\beta}\n",
      " + -2.600212552842601e-17 * a^{1\\alpha}a_{0\\alpha}a^{0\\beta}a_{1\\beta}\n",
      " + 5.204170427930421e-17 * a^{1\\alpha}a^{0\\beta}a_{0\\beta}a_{0\\alpha}\n",
      " + 0.3226247132942422 * a^{1\\alpha}a^{0\\beta}a_{0\\beta}a_{1\\alpha}\n",
      " + 6.938893903907228e-17 * a^{1\\alpha}a^{0\\beta}a_{1\\beta}a_{1\\alpha}\n",
      " + -0.5337491016607854 * a^{1\\alpha}a_{1\\alpha}a^{1\\alpha}a_{0\\alpha}\n",
      " + -0.5337491016607854 * a^{1\\alpha}a_{1\\alpha}a^{1\\beta}a_{0\\beta}\n",
      " + -4.7142356915405136e-17 * a^{1\\beta}a_{0\\beta}a^{1\\alpha}a_{0\\alpha}\n",
      " + 0.09376099045135429 * a^{1\\beta}a^{1\\alpha}a_{0\\alpha}a_{0\\beta}\n",
      " + 6.938893903907228e-17 * a^{1\\beta}a^{1\\alpha}a_{0\\alpha}a_{1\\beta}\n",
      " + 2.7755575615628914e-17 * a^{1\\beta}a^{1\\alpha}a_{1\\alpha}a_{0\\beta}\n",
      " + 0.33906809184265285 * a^{1\\beta}a^{1\\alpha}a_{1\\alpha}a_{1\\beta}\n",
      " + 5.204170427930421e-17 * a^{1\\beta}a^{0\\alpha}a_{0\\alpha}a_{0\\beta}\n",
      " + 0.3226247132942422 * a^{1\\beta}a^{0\\alpha}a_{0\\alpha}a_{1\\beta}\n",
      " + 6.938893903907228e-17 * a^{1\\beta}a^{0\\alpha}a_{1\\alpha}a_{1\\beta}\n",
      " + 0.3226247132942422 * a^{1\\beta}a^{0\\beta}a_{0\\beta}a_{1\\beta}\n",
      " + 4.7142356915405136e-17 * a^{1\\beta}a_{0\\beta}a^{1\\alpha}a_{0\\alpha}\n",
      " + 0.5337491016607854 * a^{1\\beta}a_{0\\beta}a^{1\\alpha}a_{1\\alpha}\n",
      " + 1.1898506186070186 * a^{1\\beta}a_{0\\beta}a^{0\\alpha}a_{0\\alpha}\n",
      " + -2.600212552842601e-17 * a^{1\\beta}a_{0\\beta}a^{0\\alpha}a_{1\\alpha}\n",
      " + 1.1898506186070186 * a^{1\\beta}a_{0\\beta}a^{0\\beta}a_{0\\beta}\n",
      " + -2.600212552842601e-17 * a^{1\\beta}a_{0\\beta}a^{0\\beta}a_{1\\beta}\n",
      " + -0.5337491016607854 * a^{1\\beta}a_{1\\beta}a^{1\\alpha}a_{0\\alpha}\n",
      " + -0.5337491016607854 * a^{1\\beta}a_{1\\beta}a^{1\\beta}a_{0\\beta}\n",
      " + -1.1898506186070186 * a^{0\\alpha}a_{0\\alpha}a^{1\\beta}a_{0\\beta}\n",
      " + 0.3226247132942424 * a^{0\\alpha}a^{1\\alpha}a_{1\\alpha}a_{0\\alpha}\n",
      " + 4.163336342344337e-17 * a^{0\\alpha}a^{1\\beta}a_{0\\beta}a_{0\\alpha}\n",
      " + 0.3226247132942424 * a^{0\\alpha}a^{1\\beta}a_{1\\beta}a_{0\\alpha}\n",
      " + 2.7755575615628914e-17 * a^{0\\alpha}a^{1\\beta}a_{1\\beta}a_{1\\alpha}\n",
      " + 0.3270047556780619 * a^{0\\alpha}a^{0\\beta}a_{0\\beta}a_{0\\alpha}\n",
      " + 5.204170427930421e-17 * a^{0\\alpha}a^{0\\beta}a_{0\\beta}a_{1\\alpha}\n",
      " + 4.163336342344337e-17 * a^{0\\alpha}a^{0\\beta}a_{1\\beta}a_{0\\alpha}\n",
      " + 0.09376099045135429 * a^{0\\alpha}a^{0\\beta}a_{1\\beta}a_{1\\alpha}\n",
      " + 2.600212552842601e-17 * a^{0\\alpha}a_{1\\alpha}a^{1\\alpha}a_{0\\alpha}\n",
      " + 2.600212552842601e-17 * a^{0\\alpha}a_{1\\alpha}a^{1\\beta}a_{0\\beta}\n",
      " + -1.1898506186070186 * a^{0\\beta}a_{0\\beta}a^{1\\alpha}a_{0\\alpha}\n",
      " + 4.163336342344337e-17 * a^{0\\beta}a^{1\\alpha}a_{0\\alpha}a_{0\\beta}\n",
      " + 0.3226247132942424 * a^{0\\beta}a^{1\\alpha}a_{1\\alpha}a_{0\\beta}\n",
      " + 2.7755575615628914e-17 * a^{0\\beta}a^{1\\alpha}a_{1\\alpha}a_{1\\beta}\n",
      " + 0.3226247132942424 * a^{0\\beta}a^{1\\beta}a_{1\\beta}a_{0\\beta}\n",
      " + 0.3270047556780619 * a^{0\\beta}a^{0\\alpha}a_{0\\alpha}a_{0\\beta}\n",
      " + 5.204170427930421e-17 * a^{0\\beta}a^{0\\alpha}a_{0\\alpha}a_{1\\beta}\n",
      " + 4.163336342344337e-17 * a^{0\\beta}a^{0\\alpha}a_{1\\alpha}a_{0\\beta}\n",
      " + 0.09376099045135429 * a^{0\\beta}a^{0\\alpha}a_{1\\alpha}a_{1\\beta}\n",
      " + 2.600212552842601e-17 * a^{0\\beta}a_{1\\beta}a^{1\\alpha}a_{0\\alpha}\n",
      " + 2.600212552842601e-17 * a^{0\\beta}a_{1\\beta}a^{1\\beta}a_{0\\beta}\n",
      " + 6.938893903907228e-17 * a^{1\\alpha}a^{1\\beta}a_{0\\beta}a_{1\\alpha}a^{1\\alpha}a_{0\\alpha}\n",
      " + 2.7755575615628914e-17 * a^{1\\alpha}a^{1\\beta}a_{1\\beta}a_{0\\alpha}a^{1\\beta}a_{0\\beta}\n",
      " + 0.33906809184265285 * a^{1\\alpha}a^{1\\beta}a_{1\\beta}a_{1\\alpha}a^{1\\alpha}a_{0\\alpha}\n",
      " + 0.33906809184265285 * a^{1\\alpha}a^{1\\beta}a_{1\\beta}a_{1\\alpha}a^{1\\beta}a_{0\\beta}\n",
      " + 0.3226247132942422 * a^{1\\alpha}a^{0\\alpha}a_{0\\alpha}a_{1\\alpha}a^{1\\beta}a_{0\\beta}\n",
      " + -5.204170427930421e-17 * a^{1\\alpha}a_{0\\alpha}a^{1\\beta}a^{0\\alpha}a_{0\\alpha}a_{0\\beta}\n",
      " + -0.3226247132942422 * a^{1\\alpha}a_{0\\alpha}a^{1\\beta}a^{0\\alpha}a_{0\\alpha}a_{1\\beta}\n",
      " + -6.938893903907228e-17 * a^{1\\alpha}a_{0\\alpha}a^{1\\beta}a^{0\\alpha}a_{1\\alpha}a_{1\\beta}\n",
      " + -0.3226247132942422 * a^{1\\alpha}a_{0\\alpha}a^{1\\beta}a^{0\\beta}a_{0\\beta}a_{1\\beta}\n",
      " + -4.163336342344337e-17 * a^{1\\alpha}a_{0\\alpha}a^{0\\alpha}a^{1\\beta}a_{0\\beta}a_{0\\alpha}\n",
      " + -0.3226247132942424 * a^{1\\alpha}a_{0\\alpha}a^{0\\alpha}a^{1\\beta}a_{1\\beta}a_{0\\alpha}\n",
      " + -2.7755575615628914e-17 * a^{1\\alpha}a_{0\\alpha}a^{0\\alpha}a^{1\\beta}a_{1\\beta}a_{1\\alpha}\n",
      " + -0.3270047556780619 * a^{1\\alpha}a_{0\\alpha}a^{0\\alpha}a^{0\\beta}a_{0\\beta}a_{0\\alpha}\n",
      " + -5.204170427930421e-17 * a^{1\\alpha}a_{0\\alpha}a^{0\\alpha}a^{0\\beta}a_{0\\beta}a_{1\\alpha}\n",
      " + -4.163336342344337e-17 * a^{1\\alpha}a_{0\\alpha}a^{0\\alpha}a^{0\\beta}a_{1\\beta}a_{0\\alpha}\n",
      " + -0.09376099045135429 * a^{1\\alpha}a_{0\\alpha}a^{0\\alpha}a^{0\\beta}a_{1\\beta}a_{1\\alpha}\n",
      " + -0.3226247132942424 * a^{1\\alpha}a_{0\\alpha}a^{0\\beta}a^{1\\beta}a_{1\\beta}a_{0\\beta}\n",
      " + -0.3270047556780619 * a^{1\\alpha}a_{0\\alpha}a^{0\\beta}a^{0\\alpha}a_{0\\alpha}a_{0\\beta}\n",
      " + -5.204170427930421e-17 * a^{1\\alpha}a_{0\\alpha}a^{0\\beta}a^{0\\alpha}a_{0\\alpha}a_{1\\beta}\n",
      " + -4.163336342344337e-17 * a^{1\\alpha}a_{0\\alpha}a^{0\\beta}a^{0\\alpha}a_{1\\alpha}a_{0\\beta}\n",
      " + -0.09376099045135429 * a^{1\\alpha}a_{0\\alpha}a^{0\\beta}a^{0\\alpha}a_{1\\alpha}a_{1\\beta}\n",
      " + 0.3226247132942422 * a^{1\\alpha}a^{0\\beta}a_{0\\beta}a_{1\\alpha}a^{1\\alpha}a_{0\\alpha}\n",
      " + 6.938893903907228e-17 * a^{1\\alpha}a^{0\\beta}a_{1\\beta}a_{1\\alpha}a^{1\\alpha}a_{0\\alpha}\n",
      " + 6.938893903907228e-17 * a^{1\\alpha}a^{0\\beta}a_{1\\beta}a_{1\\alpha}a^{1\\beta}a_{0\\beta}\n",
      " + 6.938893903907228e-17 * a^{1\\beta}a^{1\\alpha}a_{0\\alpha}a_{1\\beta}a^{1\\beta}a_{0\\beta}\n",
      " + 2.7755575615628914e-17 * a^{1\\beta}a^{1\\alpha}a_{1\\alpha}a_{0\\beta}a^{1\\alpha}a_{0\\alpha}\n",
      " + 0.33906809184265285 * a^{1\\beta}a^{1\\alpha}a_{1\\alpha}a_{1\\beta}a^{1\\alpha}a_{0\\alpha}\n",
      " + 0.33906809184265285 * a^{1\\beta}a^{1\\alpha}a_{1\\alpha}a_{1\\beta}a^{1\\beta}a_{0\\beta}\n",
      " + 0.3226247132942422 * a^{1\\beta}a^{0\\alpha}a_{0\\alpha}a_{1\\beta}a^{1\\beta}a_{0\\beta}\n",
      " + 6.938893903907228e-17 * a^{1\\beta}a^{0\\alpha}a_{1\\alpha}a_{1\\beta}a^{1\\alpha}a_{0\\alpha}\n",
      " + 6.938893903907228e-17 * a^{1\\beta}a^{0\\alpha}a_{1\\alpha}a_{1\\beta}a^{1\\beta}a_{0\\beta}\n",
      " + 0.3226247132942422 * a^{1\\beta}a^{0\\beta}a_{0\\beta}a_{1\\beta}a^{1\\alpha}a_{0\\alpha}\n",
      " + -0.3226247132942422 * a^{1\\beta}a_{0\\beta}a^{1\\alpha}a^{0\\alpha}a_{0\\alpha}a_{1\\alpha}\n",
      " + -5.204170427930421e-17 * a^{1\\beta}a_{0\\beta}a^{1\\alpha}a^{0\\beta}a_{0\\beta}a_{0\\alpha}\n",
      " + -0.3226247132942422 * a^{1\\beta}a_{0\\beta}a^{1\\alpha}a^{0\\beta}a_{0\\beta}a_{1\\alpha}\n",
      " + -6.938893903907228e-17 * a^{1\\beta}a_{0\\beta}a^{1\\alpha}a^{0\\beta}a_{1\\beta}a_{1\\alpha}\n",
      " + -0.3226247132942424 * a^{1\\beta}a_{0\\beta}a^{0\\alpha}a^{1\\alpha}a_{1\\alpha}a_{0\\alpha}\n",
      " + -0.3270047556780619 * a^{1\\beta}a_{0\\beta}a^{0\\alpha}a^{0\\beta}a_{0\\beta}a_{0\\alpha}\n",
      " + -5.204170427930421e-17 * a^{1\\beta}a_{0\\beta}a^{0\\alpha}a^{0\\beta}a_{0\\beta}a_{1\\alpha}\n",
      " + -4.163336342344337e-17 * a^{1\\beta}a_{0\\beta}a^{0\\alpha}a^{0\\beta}a_{1\\beta}a_{0\\alpha}\n",
      " + -0.09376099045135429 * a^{1\\beta}a_{0\\beta}a^{0\\alpha}a^{0\\beta}a_{1\\beta}a_{1\\alpha}\n",
      " + -4.163336342344337e-17 * a^{1\\beta}a_{0\\beta}a^{0\\beta}a^{1\\alpha}a_{0\\alpha}a_{0\\beta}\n",
      " + -0.3226247132942424 * a^{1\\beta}a_{0\\beta}a^{0\\beta}a^{1\\alpha}a_{1\\alpha}a_{0\\beta}\n",
      " + -2.7755575615628914e-17 * a^{1\\beta}a_{0\\beta}a^{0\\beta}a^{1\\alpha}a_{1\\alpha}a_{1\\beta}\n",
      " + -0.3270047556780619 * a^{1\\beta}a_{0\\beta}a^{0\\beta}a^{0\\alpha}a_{0\\alpha}a_{0\\beta}\n",
      " + -5.204170427930421e-17 * a^{1\\beta}a_{0\\beta}a^{0\\beta}a^{0\\alpha}a_{0\\alpha}a_{1\\beta}\n",
      " + -4.163336342344337e-17 * a^{1\\beta}a_{0\\beta}a^{0\\beta}a^{0\\alpha}a_{1\\alpha}a_{0\\beta}\n",
      " + -0.09376099045135429 * a^{1\\beta}a_{0\\beta}a^{0\\beta}a^{0\\alpha}a_{1\\alpha}a_{1\\beta}\n",
      " + 0.3226247132942424 * a^{0\\alpha}a^{1\\alpha}a_{1\\alpha}a_{0\\alpha}a^{1\\beta}a_{0\\beta}\n",
      " + 0.3226247132942424 * a^{0\\alpha}a^{1\\beta}a_{1\\beta}a_{0\\alpha}a^{1\\beta}a_{0\\beta}\n",
      " + 2.7755575615628914e-17 * a^{0\\alpha}a^{1\\beta}a_{1\\beta}a_{1\\alpha}a^{1\\alpha}a_{0\\alpha}\n",
      " + 2.7755575615628914e-17 * a^{0\\alpha}a^{1\\beta}a_{1\\beta}a_{1\\alpha}a^{1\\beta}a_{0\\beta}\n",
      " + 5.204170427930421e-17 * a^{0\\alpha}a^{0\\beta}a_{0\\beta}a_{1\\alpha}a^{1\\alpha}a_{0\\alpha}\n",
      " + 4.163336342344337e-17 * a^{0\\alpha}a^{0\\beta}a_{1\\beta}a_{0\\alpha}a^{1\\beta}a_{0\\beta}\n",
      " + 0.09376099045135429 * a^{0\\alpha}a^{0\\beta}a_{1\\beta}a_{1\\alpha}a^{1\\alpha}a_{0\\alpha}\n",
      " + 0.09376099045135429 * a^{0\\alpha}a^{0\\beta}a_{1\\beta}a_{1\\alpha}a^{1\\beta}a_{0\\beta}\n",
      " + 0.3226247132942424 * a^{0\\beta}a^{1\\alpha}a_{1\\alpha}a_{0\\beta}a^{1\\alpha}a_{0\\alpha}\n",
      " + 2.7755575615628914e-17 * a^{0\\beta}a^{1\\alpha}a_{1\\alpha}a_{1\\beta}a^{1\\alpha}a_{0\\alpha}\n",
      " + 2.7755575615628914e-17 * a^{0\\beta}a^{1\\alpha}a_{1\\alpha}a_{1\\beta}a^{1\\beta}a_{0\\beta}\n",
      " + 0.3226247132942424 * a^{0\\beta}a^{1\\beta}a_{1\\beta}a_{0\\beta}a^{1\\alpha}a_{0\\alpha}\n",
      " + 5.204170427930421e-17 * a^{0\\beta}a^{0\\alpha}a_{0\\alpha}a_{1\\beta}a^{1\\beta}a_{0\\beta}\n",
      " + 4.163336342344337e-17 * a^{0\\beta}a^{0\\alpha}a_{1\\alpha}a_{0\\beta}a^{1\\alpha}a_{0\\alpha}\n",
      " + 0.09376099045135429 * a^{0\\beta}a^{0\\alpha}a_{1\\alpha}a_{1\\beta}a^{1\\alpha}a_{0\\alpha}\n",
      " + 0.09376099045135429 * a^{0\\beta}a^{0\\alpha}a_{1\\alpha}a_{1\\beta}a^{1\\beta}a_{0\\beta}\n"
     ]
    }
   ],
   "metadata": {}
  },
  {
   "cell_type": "code",
   "execution_count": 181,
   "source": [
    "bch = BCHSimilarityTransform(hamiltonian, clusterDoubles, 4)\n",
    "bch.checkNilpotency()\n",
    "print(bch)"
   ],
   "outputs": [
    {
     "output_type": "stream",
     "name": "stdout",
     "text": [
      "0.0\n",
      " + -4.7142356915405136e-17 * a^{1\\alpha}a_{0\\alpha}\n",
      " + -0.5337491016607854 * a^{1\\alpha}a_{1\\alpha}\n",
      " + -4.7142356915405136e-17 * a^{1\\beta}a_{0\\beta}\n",
      " + -0.5337491016607854 * a^{1\\beta}a_{1\\beta}\n",
      " + -1.1898506186070186 * a^{0\\alpha}a_{0\\alpha}\n",
      " + 2.600212552842601e-17 * a^{0\\alpha}a_{1\\alpha}\n",
      " + -1.1898506186070186 * a^{0\\beta}a_{0\\beta}\n",
      " + 2.600212552842601e-17 * a^{0\\beta}a_{1\\beta}\n",
      " + 0.09376099045135429 * a^{1\\alpha}a^{1\\beta}a_{0\\beta}a_{0\\alpha}\n",
      " + 6.938893903907228e-17 * a^{1\\alpha}a^{1\\beta}a_{0\\beta}a_{1\\alpha}\n",
      " + 2.7755575615628914e-17 * a^{1\\alpha}a^{1\\beta}a_{1\\beta}a_{0\\alpha}\n",
      " + 0.33906809184265285 * a^{1\\alpha}a^{1\\beta}a_{1\\beta}a_{1\\alpha}\n",
      " + 0.3226247132942422 * a^{1\\alpha}a^{0\\alpha}a_{0\\alpha}a_{1\\alpha}\n",
      " + 5.204170427930421e-17 * a^{1\\alpha}a^{0\\beta}a_{0\\beta}a_{0\\alpha}\n",
      " + 0.3226247132942422 * a^{1\\alpha}a^{0\\beta}a_{0\\beta}a_{1\\alpha}\n",
      " + 6.938893903907228e-17 * a^{1\\alpha}a^{0\\beta}a_{1\\beta}a_{1\\alpha}\n",
      " + 0.09376099045135429 * a^{1\\beta}a^{1\\alpha}a_{0\\alpha}a_{0\\beta}\n",
      " + 6.938893903907228e-17 * a^{1\\beta}a^{1\\alpha}a_{0\\alpha}a_{1\\beta}\n",
      " + 2.7755575615628914e-17 * a^{1\\beta}a^{1\\alpha}a_{1\\alpha}a_{0\\beta}\n",
      " + 0.33906809184265285 * a^{1\\beta}a^{1\\alpha}a_{1\\alpha}a_{1\\beta}\n",
      " + 5.204170427930421e-17 * a^{1\\beta}a^{0\\alpha}a_{0\\alpha}a_{0\\beta}\n",
      " + 0.3226247132942422 * a^{1\\beta}a^{0\\alpha}a_{0\\alpha}a_{1\\beta}\n",
      " + 6.938893903907228e-17 * a^{1\\beta}a^{0\\alpha}a_{1\\alpha}a_{1\\beta}\n",
      " + 0.3226247132942422 * a^{1\\beta}a^{0\\beta}a_{0\\beta}a_{1\\beta}\n",
      " + 0.3226247132942424 * a^{0\\alpha}a^{1\\alpha}a_{1\\alpha}a_{0\\alpha}\n",
      " + 4.163336342344337e-17 * a^{0\\alpha}a^{1\\beta}a_{0\\beta}a_{0\\alpha}\n",
      " + 0.3226247132942424 * a^{0\\alpha}a^{1\\beta}a_{1\\beta}a_{0\\alpha}\n",
      " + 2.7755575615628914e-17 * a^{0\\alpha}a^{1\\beta}a_{1\\beta}a_{1\\alpha}\n",
      " + 0.3270047556780619 * a^{0\\alpha}a^{0\\beta}a_{0\\beta}a_{0\\alpha}\n",
      " + 5.204170427930421e-17 * a^{0\\alpha}a^{0\\beta}a_{0\\beta}a_{1\\alpha}\n",
      " + 4.163336342344337e-17 * a^{0\\alpha}a^{0\\beta}a_{1\\beta}a_{0\\alpha}\n",
      " + 0.09376099045135429 * a^{0\\alpha}a^{0\\beta}a_{1\\beta}a_{1\\alpha}\n",
      " + 4.163336342344337e-17 * a^{0\\beta}a^{1\\alpha}a_{0\\alpha}a_{0\\beta}\n",
      " + 0.3226247132942424 * a^{0\\beta}a^{1\\alpha}a_{1\\alpha}a_{0\\beta}\n",
      " + 2.7755575615628914e-17 * a^{0\\beta}a^{1\\alpha}a_{1\\alpha}a_{1\\beta}\n",
      " + 0.3226247132942424 * a^{0\\beta}a^{1\\beta}a_{1\\beta}a_{0\\beta}\n",
      " + 0.3270047556780619 * a^{0\\beta}a^{0\\alpha}a_{0\\alpha}a_{0\\beta}\n",
      " + 5.204170427930421e-17 * a^{0\\beta}a^{0\\alpha}a_{0\\alpha}a_{1\\beta}\n",
      " + 4.163336342344337e-17 * a^{0\\beta}a^{0\\alpha}a_{1\\alpha}a_{0\\beta}\n",
      " + 0.09376099045135429 * a^{0\\beta}a^{0\\alpha}a_{1\\alpha}a_{1\\beta}\n",
      " + -0.08190137878739176 * a^{1\\alpha}a^{1\\beta}a_{0\\beta}a_{0\\alpha}a^{0\\alpha}a_{0\\alpha}\n",
      " + 1.789812854553208e-18 * a^{1\\alpha}a^{1\\beta}a_{0\\beta}a_{0\\alpha}a^{0\\alpha}a_{1\\alpha}\n",
      " + -0.08190137878739176 * a^{1\\alpha}a^{1\\beta}a_{0\\beta}a_{0\\alpha}a^{0\\beta}a_{0\\beta}\n",
      " + 1.789812854553208e-18 * a^{1\\alpha}a^{1\\beta}a_{0\\beta}a_{0\\alpha}a^{0\\beta}a_{1\\beta}\n",
      " + 0.03673972738168411 * a^{1\\alpha}a_{1\\alpha}a^{1\\alpha}a^{1\\beta}a_{0\\beta}a_{0\\alpha}\n",
      " + 0.03673972738168411 * a^{1\\alpha}a_{1\\alpha}a^{1\\beta}a^{1\\alpha}a_{0\\alpha}a_{0\\beta}\n",
      " + -0.08190137878739176 * a^{1\\beta}a^{1\\alpha}a_{0\\alpha}a_{0\\beta}a^{0\\alpha}a_{0\\alpha}\n",
      " + 1.789812854553208e-18 * a^{1\\beta}a^{1\\alpha}a_{0\\alpha}a_{0\\beta}a^{0\\alpha}a_{1\\alpha}\n",
      " + -0.08190137878739176 * a^{1\\beta}a^{1\\alpha}a_{0\\alpha}a_{0\\beta}a^{0\\beta}a_{0\\beta}\n",
      " + 1.789812854553208e-18 * a^{1\\beta}a^{1\\alpha}a_{0\\alpha}a_{0\\beta}a^{0\\beta}a_{1\\beta}\n",
      " + 0.03673972738168411 * a^{1\\beta}a_{1\\beta}a^{1\\alpha}a^{1\\beta}a_{0\\beta}a_{0\\alpha}\n",
      " + 0.03673972738168411 * a^{1\\beta}a_{1\\beta}a^{1\\beta}a^{1\\alpha}a_{0\\alpha}a_{0\\beta}\n",
      " + -1.789812854553208e-18 * a^{0\\alpha}a_{1\\alpha}a^{1\\alpha}a^{1\\beta}a_{0\\beta}a_{0\\alpha}\n",
      " + -1.789812854553208e-18 * a^{0\\alpha}a_{1\\alpha}a^{1\\beta}a^{1\\alpha}a_{0\\alpha}a_{0\\beta}\n",
      " + -1.789812854553208e-18 * a^{0\\beta}a_{1\\beta}a^{1\\alpha}a^{1\\beta}a_{0\\beta}a_{0\\alpha}\n",
      " + -1.789812854553208e-18 * a^{0\\beta}a_{1\\beta}a^{1\\beta}a^{1\\alpha}a_{0\\alpha}a_{0\\beta}\n",
      " + 0.02250882584859419 * a^{1\\alpha}a^{1\\beta}a_{0\\beta}a_{0\\alpha}a^{0\\alpha}a^{0\\beta}a_{0\\beta}a_{0\\alpha}\n",
      " + 3.582203739080007e-18 * a^{1\\alpha}a^{1\\beta}a_{0\\beta}a_{0\\alpha}a^{0\\alpha}a^{0\\beta}a_{0\\beta}a_{1\\alpha}\n",
      " + 2.8657629912640058e-18 * a^{1\\alpha}a^{1\\beta}a_{0\\beta}a_{0\\alpha}a^{0\\alpha}a^{0\\beta}a_{1\\beta}a_{0\\alpha}\n",
      " + 0.006453881079145487 * a^{1\\alpha}a^{1\\beta}a_{0\\beta}a_{0\\alpha}a^{0\\alpha}a^{0\\beta}a_{1\\beta}a_{1\\alpha}\n",
      " + 0.02250882584859419 * a^{1\\alpha}a^{1\\beta}a_{0\\beta}a_{0\\alpha}a^{0\\beta}a^{0\\alpha}a_{0\\alpha}a_{0\\beta}\n",
      " + 3.582203739080007e-18 * a^{1\\alpha}a^{1\\beta}a_{0\\beta}a_{0\\alpha}a^{0\\beta}a^{0\\alpha}a_{0\\alpha}a_{1\\beta}\n",
      " + 2.8657629912640058e-18 * a^{1\\alpha}a^{1\\beta}a_{0\\beta}a_{0\\alpha}a^{0\\beta}a^{0\\alpha}a_{1\\alpha}a_{0\\beta}\n",
      " + 0.006453881079145487 * a^{1\\alpha}a^{1\\beta}a_{0\\beta}a_{0\\alpha}a^{0\\beta}a^{0\\alpha}a_{1\\alpha}a_{1\\beta}\n",
      " + -0.02333918543256657 * a^{1\\alpha}a^{1\\beta}a_{1\\beta}a_{1\\alpha}a^{1\\alpha}a^{1\\beta}a_{0\\beta}a_{0\\alpha}\n",
      " + -0.02333918543256657 * a^{1\\alpha}a^{1\\beta}a_{1\\beta}a_{1\\alpha}a^{1\\beta}a^{1\\alpha}a_{0\\alpha}a_{0\\beta}\n",
      " + -4.776271652106676e-18 * a^{1\\alpha}a^{0\\beta}a_{1\\beta}a_{1\\alpha}a^{1\\alpha}a^{1\\beta}a_{0\\beta}a_{0\\alpha}\n",
      " + -4.776271652106676e-18 * a^{1\\alpha}a^{0\\beta}a_{1\\beta}a_{1\\alpha}a^{1\\beta}a^{1\\alpha}a_{0\\alpha}a_{0\\beta}\n",
      " + 0.02250882584859419 * a^{1\\beta}a^{1\\alpha}a_{0\\alpha}a_{0\\beta}a^{0\\alpha}a^{0\\beta}a_{0\\beta}a_{0\\alpha}\n",
      " + 3.582203739080007e-18 * a^{1\\beta}a^{1\\alpha}a_{0\\alpha}a_{0\\beta}a^{0\\alpha}a^{0\\beta}a_{0\\beta}a_{1\\alpha}\n",
      " + 2.8657629912640058e-18 * a^{1\\beta}a^{1\\alpha}a_{0\\alpha}a_{0\\beta}a^{0\\alpha}a^{0\\beta}a_{1\\beta}a_{0\\alpha}\n",
      " + 0.006453881079145487 * a^{1\\beta}a^{1\\alpha}a_{0\\alpha}a_{0\\beta}a^{0\\alpha}a^{0\\beta}a_{1\\beta}a_{1\\alpha}\n",
      " + 0.02250882584859419 * a^{1\\beta}a^{1\\alpha}a_{0\\alpha}a_{0\\beta}a^{0\\beta}a^{0\\alpha}a_{0\\alpha}a_{0\\beta}\n",
      " + 3.582203739080007e-18 * a^{1\\beta}a^{1\\alpha}a_{0\\alpha}a_{0\\beta}a^{0\\beta}a^{0\\alpha}a_{0\\alpha}a_{1\\beta}\n",
      " + 2.8657629912640058e-18 * a^{1\\beta}a^{1\\alpha}a_{0\\alpha}a_{0\\beta}a^{0\\beta}a^{0\\alpha}a_{1\\alpha}a_{0\\beta}\n",
      " + 0.006453881079145487 * a^{1\\beta}a^{1\\alpha}a_{0\\alpha}a_{0\\beta}a^{0\\beta}a^{0\\alpha}a_{1\\alpha}a_{1\\beta}\n",
      " + -0.02333918543256657 * a^{1\\beta}a^{1\\alpha}a_{1\\alpha}a_{1\\beta}a^{1\\alpha}a^{1\\beta}a_{0\\beta}a_{0\\alpha}\n",
      " + -0.02333918543256657 * a^{1\\beta}a^{1\\alpha}a_{1\\alpha}a_{1\\beta}a^{1\\beta}a^{1\\alpha}a_{0\\alpha}a_{0\\beta}\n",
      " + -4.776271652106676e-18 * a^{1\\beta}a^{0\\alpha}a_{1\\alpha}a_{1\\beta}a^{1\\alpha}a^{1\\beta}a_{0\\beta}a_{0\\alpha}\n",
      " + -4.776271652106676e-18 * a^{1\\beta}a^{0\\alpha}a_{1\\alpha}a_{1\\beta}a^{1\\beta}a^{1\\alpha}a_{0\\alpha}a_{0\\beta}\n",
      " + -1.9105086608426704e-18 * a^{0\\alpha}a^{1\\beta}a_{1\\beta}a_{1\\alpha}a^{1\\alpha}a^{1\\beta}a_{0\\beta}a_{0\\alpha}\n",
      " + -1.9105086608426704e-18 * a^{0\\alpha}a^{1\\beta}a_{1\\beta}a_{1\\alpha}a^{1\\beta}a^{1\\alpha}a_{0\\alpha}a_{0\\beta}\n",
      " + -0.006453881079145487 * a^{0\\alpha}a^{0\\beta}a_{1\\beta}a_{1\\alpha}a^{1\\alpha}a^{1\\beta}a_{0\\beta}a_{0\\alpha}\n",
      " + -0.006453881079145487 * a^{0\\alpha}a^{0\\beta}a_{1\\beta}a_{1\\alpha}a^{1\\beta}a^{1\\alpha}a_{0\\alpha}a_{0\\beta}\n",
      " + -1.9105086608426704e-18 * a^{0\\beta}a^{1\\alpha}a_{1\\alpha}a_{1\\beta}a^{1\\alpha}a^{1\\beta}a_{0\\beta}a_{0\\alpha}\n",
      " + -1.9105086608426704e-18 * a^{0\\beta}a^{1\\alpha}a_{1\\alpha}a_{1\\beta}a^{1\\beta}a^{1\\alpha}a_{0\\alpha}a_{0\\beta}\n",
      " + -0.006453881079145487 * a^{0\\beta}a^{0\\alpha}a_{1\\alpha}a_{1\\beta}a^{1\\alpha}a^{1\\beta}a_{0\\beta}a_{0\\alpha}\n",
      " + -0.006453881079145487 * a^{0\\beta}a^{0\\alpha}a_{1\\alpha}a_{1\\beta}a^{1\\beta}a^{1\\alpha}a_{0\\alpha}a_{0\\beta}\n",
      " + -0.00044424211799855707 * a^{1\\alpha}a^{1\\beta}a_{0\\beta}a_{0\\alpha}a^{0\\alpha}a^{0\\beta}a_{1\\beta}a_{1\\alpha}a^{1\\alpha}a^{1\\beta}a_{0\\beta}a_{0\\alpha}\n",
      " + -0.00044424211799855707 * a^{1\\alpha}a^{1\\beta}a_{0\\beta}a_{0\\alpha}a^{0\\alpha}a^{0\\beta}a_{1\\beta}a_{1\\alpha}a^{1\\beta}a^{1\\alpha}a_{0\\alpha}a_{0\\beta}\n",
      " + -0.00044424211799855707 * a^{1\\alpha}a^{1\\beta}a_{0\\beta}a_{0\\alpha}a^{0\\beta}a^{0\\alpha}a_{1\\alpha}a_{1\\beta}a^{1\\alpha}a^{1\\beta}a_{0\\beta}a_{0\\alpha}\n",
      " + -0.00044424211799855707 * a^{1\\alpha}a^{1\\beta}a_{0\\beta}a_{0\\alpha}a^{0\\beta}a^{0\\alpha}a_{1\\alpha}a_{1\\beta}a^{1\\beta}a^{1\\alpha}a_{0\\alpha}a_{0\\beta}\n",
      " + -0.00044424211799855707 * a^{1\\beta}a^{1\\alpha}a_{0\\alpha}a_{0\\beta}a^{0\\alpha}a^{0\\beta}a_{1\\beta}a_{1\\alpha}a^{1\\alpha}a^{1\\beta}a_{0\\beta}a_{0\\alpha}\n",
      " + -0.00044424211799855707 * a^{1\\beta}a^{1\\alpha}a_{0\\alpha}a_{0\\beta}a^{0\\alpha}a^{0\\beta}a_{1\\beta}a_{1\\alpha}a^{1\\beta}a^{1\\alpha}a_{0\\alpha}a_{0\\beta}\n",
      " + -0.00044424211799855707 * a^{1\\beta}a^{1\\alpha}a_{0\\alpha}a_{0\\beta}a^{0\\beta}a^{0\\alpha}a_{1\\alpha}a_{1\\beta}a^{1\\alpha}a^{1\\beta}a_{0\\beta}a_{0\\alpha}\n",
      " + -0.00044424211799855707 * a^{1\\beta}a^{1\\alpha}a_{0\\alpha}a_{0\\beta}a^{0\\beta}a^{0\\alpha}a_{1\\alpha}a_{1\\beta}a^{1\\beta}a^{1\\alpha}a_{0\\alpha}a_{0\\beta}\n"
     ]
    }
   ],
   "metadata": {
    "tags": []
   }
  },
  {
   "cell_type": "code",
   "execution_count": 192,
   "source": [
    "print(clusterDoubles)"
   ],
   "outputs": [
    {
     "output_type": "stream",
     "name": "stdout",
     "text": [
      "0.0\n",
      " + -0.06883332874447325 * a^{1\\alpha}a^{1\\beta}a_{0\\beta}a_{0\\alpha}\n",
      " + -0.06883332874447325 * a^{1\\beta}a^{1\\alpha}a_{0\\alpha}a_{0\\beta}\n",
      " + 0.0\n"
     ]
    }
   ],
   "metadata": {}
  },
  {
   "cell_type": "code",
   "execution_count": 182,
   "source": [
    "newbch = BCHSimilarityTransform(hamiltonian, newclusterDoubles, 4)\n",
    "newbch.checkNilpotency()\n",
    "print(newbch)"
   ],
   "outputs": [
    {
     "output_type": "stream",
     "name": "stdout",
     "text": [
      "0.0\n",
      " + -4.7142356915405136e-17 * a^{1\\alpha}a_{0\\alpha}\n",
      " + -0.5337491016607854 * a^{1\\alpha}a_{1\\alpha}\n",
      " + -4.7142356915405136e-17 * a^{1\\beta}a_{0\\beta}\n",
      " + -0.5337491016607854 * a^{1\\beta}a_{1\\beta}\n",
      " + -1.1898506186070186 * a^{0\\alpha}a_{0\\alpha}\n",
      " + 2.600212552842601e-17 * a^{0\\alpha}a_{1\\alpha}\n",
      " + -1.1898506186070186 * a^{0\\beta}a_{0\\beta}\n",
      " + 2.600212552842601e-17 * a^{0\\beta}a_{1\\beta}\n",
      " + 0.09376099045135429 * a^{1\\alpha}a^{1\\beta}a_{0\\beta}a_{0\\alpha}\n",
      " + 6.938893903907228e-17 * a^{1\\alpha}a^{1\\beta}a_{0\\beta}a_{1\\alpha}\n",
      " + 2.7755575615628914e-17 * a^{1\\alpha}a^{1\\beta}a_{1\\beta}a_{0\\alpha}\n",
      " + 0.33906809184265285 * a^{1\\alpha}a^{1\\beta}a_{1\\beta}a_{1\\alpha}\n",
      " + 0.3226247132942422 * a^{1\\alpha}a^{0\\alpha}a_{0\\alpha}a_{1\\alpha}\n",
      " + 5.204170427930421e-17 * a^{1\\alpha}a^{0\\beta}a_{0\\beta}a_{0\\alpha}\n",
      " + 0.3226247132942422 * a^{1\\alpha}a^{0\\beta}a_{0\\beta}a_{1\\alpha}\n",
      " + 6.938893903907228e-17 * a^{1\\alpha}a^{0\\beta}a_{1\\beta}a_{1\\alpha}\n",
      " + 0.09376099045135429 * a^{1\\beta}a^{1\\alpha}a_{0\\alpha}a_{0\\beta}\n",
      " + 6.938893903907228e-17 * a^{1\\beta}a^{1\\alpha}a_{0\\alpha}a_{1\\beta}\n",
      " + 2.7755575615628914e-17 * a^{1\\beta}a^{1\\alpha}a_{1\\alpha}a_{0\\beta}\n",
      " + 0.33906809184265285 * a^{1\\beta}a^{1\\alpha}a_{1\\alpha}a_{1\\beta}\n",
      " + 5.204170427930421e-17 * a^{1\\beta}a^{0\\alpha}a_{0\\alpha}a_{0\\beta}\n",
      " + 0.3226247132942422 * a^{1\\beta}a^{0\\alpha}a_{0\\alpha}a_{1\\beta}\n",
      " + 6.938893903907228e-17 * a^{1\\beta}a^{0\\alpha}a_{1\\alpha}a_{1\\beta}\n",
      " + 0.3226247132942422 * a^{1\\beta}a^{0\\beta}a_{0\\beta}a_{1\\beta}\n",
      " + 0.3226247132942424 * a^{0\\alpha}a^{1\\alpha}a_{1\\alpha}a_{0\\alpha}\n",
      " + 4.163336342344337e-17 * a^{0\\alpha}a^{1\\beta}a_{0\\beta}a_{0\\alpha}\n",
      " + 0.3226247132942424 * a^{0\\alpha}a^{1\\beta}a_{1\\beta}a_{0\\alpha}\n",
      " + 2.7755575615628914e-17 * a^{0\\alpha}a^{1\\beta}a_{1\\beta}a_{1\\alpha}\n",
      " + 0.3270047556780619 * a^{0\\alpha}a^{0\\beta}a_{0\\beta}a_{0\\alpha}\n",
      " + 5.204170427930421e-17 * a^{0\\alpha}a^{0\\beta}a_{0\\beta}a_{1\\alpha}\n",
      " + 4.163336342344337e-17 * a^{0\\alpha}a^{0\\beta}a_{1\\beta}a_{0\\alpha}\n",
      " + 0.09376099045135429 * a^{0\\alpha}a^{0\\beta}a_{1\\beta}a_{1\\alpha}\n",
      " + 4.163336342344337e-17 * a^{0\\beta}a^{1\\alpha}a_{0\\alpha}a_{0\\beta}\n",
      " + 0.3226247132942424 * a^{0\\beta}a^{1\\alpha}a_{1\\alpha}a_{0\\beta}\n",
      " + 2.7755575615628914e-17 * a^{0\\beta}a^{1\\alpha}a_{1\\alpha}a_{1\\beta}\n",
      " + 0.3226247132942424 * a^{0\\beta}a^{1\\beta}a_{1\\beta}a_{0\\beta}\n",
      " + 0.3270047556780619 * a^{0\\beta}a^{0\\alpha}a_{0\\alpha}a_{0\\beta}\n",
      " + 5.204170427930421e-17 * a^{0\\beta}a^{0\\alpha}a_{0\\alpha}a_{1\\beta}\n",
      " + 4.163336342344337e-17 * a^{0\\beta}a^{0\\alpha}a_{1\\alpha}a_{0\\beta}\n",
      " + 0.09376099045135429 * a^{0\\beta}a^{0\\alpha}a_{1\\alpha}a_{1\\beta}\n",
      " + -0.08190137846008055 * a^{1\\alpha}a^{1\\beta}a_{0\\beta}a_{0\\alpha}a^{0\\alpha}a_{0\\alpha}\n",
      " + 1.7898128474003877e-18 * a^{1\\alpha}a^{1\\beta}a_{0\\beta}a_{0\\alpha}a^{0\\alpha}a_{1\\alpha}\n",
      " + -0.08190137846008055 * a^{1\\alpha}a^{1\\beta}a_{0\\beta}a_{0\\alpha}a^{0\\beta}a_{0\\beta}\n",
      " + 1.7898128474003877e-18 * a^{1\\alpha}a^{1\\beta}a_{0\\beta}a_{0\\alpha}a^{0\\beta}a_{1\\beta}\n",
      " + 0.036739727234857224 * a^{1\\alpha}a_{1\\alpha}a^{1\\alpha}a^{1\\beta}a_{0\\beta}a_{0\\alpha}\n",
      " + 0.036739727234857224 * a^{1\\alpha}a_{1\\alpha}a^{1\\beta}a^{1\\alpha}a_{0\\alpha}a_{0\\beta}\n",
      " + -0.08190137846008055 * a^{1\\beta}a^{1\\alpha}a_{0\\alpha}a_{0\\beta}a^{0\\alpha}a_{0\\alpha}\n",
      " + 1.7898128474003877e-18 * a^{1\\beta}a^{1\\alpha}a_{0\\alpha}a_{0\\beta}a^{0\\alpha}a_{1\\alpha}\n",
      " + -0.08190137846008055 * a^{1\\beta}a^{1\\alpha}a_{0\\alpha}a_{0\\beta}a^{0\\beta}a_{0\\beta}\n",
      " + 1.7898128474003877e-18 * a^{1\\beta}a^{1\\alpha}a_{0\\alpha}a_{0\\beta}a^{0\\beta}a_{1\\beta}\n",
      " + 0.036739727234857224 * a^{1\\beta}a_{1\\beta}a^{1\\alpha}a^{1\\beta}a_{0\\beta}a_{0\\alpha}\n",
      " + 0.036739727234857224 * a^{1\\beta}a_{1\\beta}a^{1\\beta}a^{1\\alpha}a_{0\\alpha}a_{0\\beta}\n",
      " + -1.7898128474003877e-18 * a^{0\\alpha}a_{1\\alpha}a^{1\\alpha}a^{1\\beta}a_{0\\beta}a_{0\\alpha}\n",
      " + -1.7898128474003877e-18 * a^{0\\alpha}a_{1\\alpha}a^{1\\beta}a^{1\\alpha}a_{0\\alpha}a_{0\\beta}\n",
      " + -1.7898128474003877e-18 * a^{0\\beta}a_{1\\beta}a^{1\\alpha}a^{1\\beta}a_{0\\beta}a_{0\\alpha}\n",
      " + -1.7898128474003877e-18 * a^{0\\beta}a_{1\\beta}a^{1\\beta}a^{1\\alpha}a_{0\\alpha}a_{0\\beta}\n",
      " + 0.022508825758639772 * a^{1\\alpha}a^{1\\beta}a_{0\\beta}a_{0\\alpha}a^{0\\alpha}a^{0\\beta}a_{0\\beta}a_{0\\alpha}\n",
      " + 3.582203724764064e-18 * a^{1\\alpha}a^{1\\beta}a_{0\\beta}a_{0\\alpha}a^{0\\alpha}a^{0\\beta}a_{0\\beta}a_{1\\alpha}\n",
      " + 2.8657629798112515e-18 * a^{1\\alpha}a^{1\\beta}a_{0\\beta}a_{0\\alpha}a^{0\\alpha}a^{0\\beta}a_{1\\beta}a_{0\\alpha}\n",
      " + 0.006453881053353154 * a^{1\\alpha}a^{1\\beta}a_{0\\beta}a_{0\\alpha}a^{0\\alpha}a^{0\\beta}a_{1\\beta}a_{1\\alpha}\n",
      " + 0.022508825758639772 * a^{1\\alpha}a^{1\\beta}a_{0\\beta}a_{0\\alpha}a^{0\\beta}a^{0\\alpha}a_{0\\alpha}a_{0\\beta}\n",
      " + 3.582203724764064e-18 * a^{1\\alpha}a^{1\\beta}a_{0\\beta}a_{0\\alpha}a^{0\\beta}a^{0\\alpha}a_{0\\alpha}a_{1\\beta}\n",
      " + 2.8657629798112515e-18 * a^{1\\alpha}a^{1\\beta}a_{0\\beta}a_{0\\alpha}a^{0\\beta}a^{0\\alpha}a_{1\\alpha}a_{0\\beta}\n",
      " + 0.006453881053353154 * a^{1\\alpha}a^{1\\beta}a_{0\\beta}a_{0\\alpha}a^{0\\beta}a^{0\\alpha}a_{1\\alpha}a_{1\\beta}\n",
      " + -0.023339185339293696 * a^{1\\alpha}a^{1\\beta}a_{1\\beta}a_{1\\alpha}a^{1\\alpha}a^{1\\beta}a_{0\\beta}a_{0\\alpha}\n",
      " + -0.023339185339293696 * a^{1\\alpha}a^{1\\beta}a_{1\\beta}a_{1\\alpha}a^{1\\beta}a^{1\\alpha}a_{0\\alpha}a_{0\\beta}\n",
      " + -4.7762716330187526e-18 * a^{1\\alpha}a^{0\\beta}a_{1\\beta}a_{1\\alpha}a^{1\\alpha}a^{1\\beta}a_{0\\beta}a_{0\\alpha}\n",
      " + -4.7762716330187526e-18 * a^{1\\alpha}a^{0\\beta}a_{1\\beta}a_{1\\alpha}a^{1\\beta}a^{1\\alpha}a_{0\\alpha}a_{0\\beta}\n",
      " + 0.022508825758639772 * a^{1\\beta}a^{1\\alpha}a_{0\\alpha}a_{0\\beta}a^{0\\alpha}a^{0\\beta}a_{0\\beta}a_{0\\alpha}\n",
      " + 3.582203724764064e-18 * a^{1\\beta}a^{1\\alpha}a_{0\\alpha}a_{0\\beta}a^{0\\alpha}a^{0\\beta}a_{0\\beta}a_{1\\alpha}\n",
      " + 2.8657629798112515e-18 * a^{1\\beta}a^{1\\alpha}a_{0\\alpha}a_{0\\beta}a^{0\\alpha}a^{0\\beta}a_{1\\beta}a_{0\\alpha}\n",
      " + 0.006453881053353154 * a^{1\\beta}a^{1\\alpha}a_{0\\alpha}a_{0\\beta}a^{0\\alpha}a^{0\\beta}a_{1\\beta}a_{1\\alpha}\n",
      " + 0.022508825758639772 * a^{1\\beta}a^{1\\alpha}a_{0\\alpha}a_{0\\beta}a^{0\\beta}a^{0\\alpha}a_{0\\alpha}a_{0\\beta}\n",
      " + 3.582203724764064e-18 * a^{1\\beta}a^{1\\alpha}a_{0\\alpha}a_{0\\beta}a^{0\\beta}a^{0\\alpha}a_{0\\alpha}a_{1\\beta}\n",
      " + 2.8657629798112515e-18 * a^{1\\beta}a^{1\\alpha}a_{0\\alpha}a_{0\\beta}a^{0\\beta}a^{0\\alpha}a_{1\\alpha}a_{0\\beta}\n",
      " + 0.006453881053353154 * a^{1\\beta}a^{1\\alpha}a_{0\\alpha}a_{0\\beta}a^{0\\beta}a^{0\\alpha}a_{1\\alpha}a_{1\\beta}\n",
      " + -0.023339185339293696 * a^{1\\beta}a^{1\\alpha}a_{1\\alpha}a_{1\\beta}a^{1\\alpha}a^{1\\beta}a_{0\\beta}a_{0\\alpha}\n",
      " + -0.023339185339293696 * a^{1\\beta}a^{1\\alpha}a_{1\\alpha}a_{1\\beta}a^{1\\beta}a^{1\\alpha}a_{0\\alpha}a_{0\\beta}\n",
      " + -4.7762716330187526e-18 * a^{1\\beta}a^{0\\alpha}a_{1\\alpha}a_{1\\beta}a^{1\\alpha}a^{1\\beta}a_{0\\beta}a_{0\\alpha}\n",
      " + -4.7762716330187526e-18 * a^{1\\beta}a^{0\\alpha}a_{1\\alpha}a_{1\\beta}a^{1\\beta}a^{1\\alpha}a_{0\\alpha}a_{0\\beta}\n",
      " + -1.910508653207501e-18 * a^{0\\alpha}a^{1\\beta}a_{1\\beta}a_{1\\alpha}a^{1\\alpha}a^{1\\beta}a_{0\\beta}a_{0\\alpha}\n",
      " + -1.910508653207501e-18 * a^{0\\alpha}a^{1\\beta}a_{1\\beta}a_{1\\alpha}a^{1\\beta}a^{1\\alpha}a_{0\\alpha}a_{0\\beta}\n",
      " + -0.006453881053353154 * a^{0\\alpha}a^{0\\beta}a_{1\\beta}a_{1\\alpha}a^{1\\alpha}a^{1\\beta}a_{0\\beta}a_{0\\alpha}\n",
      " + -0.006453881053353154 * a^{0\\alpha}a^{0\\beta}a_{1\\beta}a_{1\\alpha}a^{1\\beta}a^{1\\alpha}a_{0\\alpha}a_{0\\beta}\n",
      " + -1.910508653207501e-18 * a^{0\\beta}a^{1\\alpha}a_{1\\alpha}a_{1\\beta}a^{1\\alpha}a^{1\\beta}a_{0\\beta}a_{0\\alpha}\n",
      " + -1.910508653207501e-18 * a^{0\\beta}a^{1\\alpha}a_{1\\alpha}a_{1\\beta}a^{1\\beta}a^{1\\alpha}a_{0\\alpha}a_{0\\beta}\n",
      " + -0.006453881053353154 * a^{0\\beta}a^{0\\alpha}a_{1\\alpha}a_{1\\beta}a^{1\\alpha}a^{1\\beta}a_{0\\beta}a_{0\\alpha}\n",
      " + -0.006453881053353154 * a^{0\\beta}a^{0\\alpha}a_{1\\alpha}a_{1\\beta}a^{1\\beta}a^{1\\alpha}a_{0\\alpha}a_{0\\beta}\n",
      " + -0.00044424211444781285 * a^{1\\alpha}a^{1\\beta}a_{0\\beta}a_{0\\alpha}a^{0\\alpha}a^{0\\beta}a_{1\\beta}a_{1\\alpha}a^{1\\alpha}a^{1\\beta}a_{0\\beta}a_{0\\alpha}\n",
      " + -0.00044424211444781285 * a^{1\\alpha}a^{1\\beta}a_{0\\beta}a_{0\\alpha}a^{0\\alpha}a^{0\\beta}a_{1\\beta}a_{1\\alpha}a^{1\\beta}a^{1\\alpha}a_{0\\alpha}a_{0\\beta}\n",
      " + -0.00044424211444781285 * a^{1\\alpha}a^{1\\beta}a_{0\\beta}a_{0\\alpha}a^{0\\beta}a^{0\\alpha}a_{1\\alpha}a_{1\\beta}a^{1\\alpha}a^{1\\beta}a_{0\\beta}a_{0\\alpha}\n",
      " + -0.00044424211444781285 * a^{1\\alpha}a^{1\\beta}a_{0\\beta}a_{0\\alpha}a^{0\\beta}a^{0\\alpha}a_{1\\alpha}a_{1\\beta}a^{1\\beta}a^{1\\alpha}a_{0\\alpha}a_{0\\beta}\n",
      " + -0.00044424211444781285 * a^{1\\beta}a^{1\\alpha}a_{0\\alpha}a_{0\\beta}a^{0\\alpha}a^{0\\beta}a_{1\\beta}a_{1\\alpha}a^{1\\alpha}a^{1\\beta}a_{0\\beta}a_{0\\alpha}\n",
      " + -0.00044424211444781285 * a^{1\\beta}a^{1\\alpha}a_{0\\alpha}a_{0\\beta}a^{0\\alpha}a^{0\\beta}a_{1\\beta}a_{1\\alpha}a^{1\\beta}a^{1\\alpha}a_{0\\alpha}a_{0\\beta}\n",
      " + -0.00044424211444781285 * a^{1\\beta}a^{1\\alpha}a_{0\\alpha}a_{0\\beta}a^{0\\beta}a^{0\\alpha}a_{1\\alpha}a_{1\\beta}a^{1\\alpha}a^{1\\beta}a_{0\\beta}a_{0\\alpha}\n",
      " + -0.00044424211444781285 * a^{1\\beta}a^{1\\alpha}a_{0\\alpha}a_{0\\beta}a^{0\\beta}a^{0\\alpha}a_{1\\alpha}a_{1\\beta}a^{1\\beta}a^{1\\alpha}a_{0\\alpha}a_{0\\beta}\n"
     ]
    }
   ],
   "metadata": {}
  },
  {
   "cell_type": "code",
   "execution_count": 67,
   "source": [
    "for s in bch.summandList:\n",
    "    print(s)\n",
    "    print(vacuumExpectationValue(s, vacuum))\n"
   ],
   "outputs": [
    {
     "output_type": "stream",
     "name": "stdout",
     "text": [
      "0.0\n",
      "0.0\n",
      "-4.7142356915405136e-17 * a^{1\\alpha}a_{0\\alpha}\n",
      "-0.0\n",
      "-0.5337491016607854 * a^{1\\alpha}a_{1\\alpha}\n",
      "-0.0\n",
      "-4.7142356915405136e-17 * a^{1\\beta}a_{0\\beta}\n",
      "-0.0\n",
      "-0.5337491016607854 * a^{1\\beta}a_{1\\beta}\n",
      "-0.0\n",
      "-1.1898506186070186 * a^{0\\alpha}a_{0\\alpha}\n",
      "-1.1898506186070186\n",
      "2.600212552842601e-17 * a^{0\\alpha}a_{1\\alpha}\n",
      "0.0\n",
      "-1.1898506186070186 * a^{0\\beta}a_{0\\beta}\n",
      "-1.1898506186070186\n",
      "2.600212552842601e-17 * a^{0\\beta}a_{1\\beta}\n",
      "0.0\n",
      "0.09376099045135429 * a^{1\\alpha}a^{1\\beta}a_{0\\beta}a_{0\\alpha}\n",
      "0\n",
      "6.938893903907228e-17 * a^{1\\alpha}a^{1\\beta}a_{0\\beta}a_{1\\alpha}\n",
      "0\n",
      "0.0 * a^{1\\alpha}a^{1\\beta}a_{0\\beta}a_{0\\alpha}\n",
      "0\n",
      "2.7755575615628914e-17 * a^{1\\alpha}a^{1\\beta}a_{1\\beta}a_{0\\alpha}\n",
      "0\n",
      "0.33906809184265285 * a^{1\\alpha}a^{1\\beta}a_{1\\beta}a_{1\\alpha}\n",
      "0\n",
      "0.3226247132942422 * a^{1\\alpha}a^{0\\alpha}a_{0\\alpha}a_{1\\alpha}\n",
      "0\n",
      "5.204170427930421e-17 * a^{1\\alpha}a^{0\\beta}a_{0\\beta}a_{0\\alpha}\n",
      "0\n",
      "0.3226247132942422 * a^{1\\alpha}a^{0\\beta}a_{0\\beta}a_{1\\alpha}\n",
      "0\n",
      "6.938893903907228e-17 * a^{1\\alpha}a^{0\\beta}a_{1\\beta}a_{1\\alpha}\n",
      "0\n",
      "0.09376099045135429 * a^{1\\beta}a^{1\\alpha}a_{0\\alpha}a_{0\\beta}\n",
      "0\n",
      "6.938893903907228e-17 * a^{1\\beta}a^{1\\alpha}a_{0\\alpha}a_{1\\beta}\n",
      "0\n",
      "0.0 * a^{1\\beta}a^{1\\alpha}a_{0\\alpha}a_{0\\beta}\n",
      "0\n",
      "2.7755575615628914e-17 * a^{1\\beta}a^{1\\alpha}a_{1\\alpha}a_{0\\beta}\n",
      "0\n",
      "0.33906809184265285 * a^{1\\beta}a^{1\\alpha}a_{1\\alpha}a_{1\\beta}\n",
      "0\n",
      "5.204170427930421e-17 * a^{1\\beta}a^{0\\alpha}a_{0\\alpha}a_{0\\beta}\n",
      "0\n",
      "0.3226247132942422 * a^{1\\beta}a^{0\\alpha}a_{0\\alpha}a_{1\\beta}\n",
      "0\n",
      "6.938893903907228e-17 * a^{1\\beta}a^{0\\alpha}a_{1\\alpha}a_{1\\beta}\n",
      "0\n",
      "0.3226247132942422 * a^{1\\beta}a^{0\\beta}a_{0\\beta}a_{1\\beta}\n",
      "0\n",
      "0.3226247132942424 * a^{0\\alpha}a^{1\\alpha}a_{1\\alpha}a_{0\\alpha}\n",
      "0.0\n",
      "4.163336342344337e-17 * a^{0\\alpha}a^{1\\beta}a_{0\\beta}a_{0\\alpha}\n",
      "0.0\n",
      "0.3226247132942424 * a^{0\\alpha}a^{1\\beta}a_{1\\beta}a_{0\\alpha}\n",
      "0.0\n",
      "2.7755575615628914e-17 * a^{0\\alpha}a^{1\\beta}a_{1\\beta}a_{1\\alpha}\n",
      "0\n",
      "0.3270047556780619 * a^{0\\alpha}a^{0\\beta}a_{0\\beta}a_{0\\alpha}\n",
      "0.3270047556780619\n",
      "5.204170427930421e-17 * a^{0\\alpha}a^{0\\beta}a_{0\\beta}a_{1\\alpha}\n",
      "0\n",
      "4.163336342344337e-17 * a^{0\\alpha}a^{0\\beta}a_{1\\beta}a_{0\\alpha}\n",
      "0.0\n",
      "0.09376099045135429 * a^{0\\alpha}a^{0\\beta}a_{1\\beta}a_{1\\alpha}\n",
      "0\n",
      "4.163336342344337e-17 * a^{0\\beta}a^{1\\alpha}a_{0\\alpha}a_{0\\beta}\n",
      "0.0\n",
      "0.3226247132942424 * a^{0\\beta}a^{1\\alpha}a_{1\\alpha}a_{0\\beta}\n",
      "0.0\n",
      "2.7755575615628914e-17 * a^{0\\beta}a^{1\\alpha}a_{1\\alpha}a_{1\\beta}\n",
      "0\n",
      "0.3226247132942424 * a^{0\\beta}a^{1\\beta}a_{1\\beta}a_{0\\beta}\n",
      "0.0\n",
      "0.3270047556780619 * a^{0\\beta}a^{0\\alpha}a_{0\\alpha}a_{0\\beta}\n",
      "0.3270047556780619\n",
      "5.204170427930421e-17 * a^{0\\beta}a^{0\\alpha}a_{0\\alpha}a_{1\\beta}\n",
      "0\n",
      "4.163336342344337e-17 * a^{0\\beta}a^{0\\alpha}a_{1\\alpha}a_{0\\beta}\n",
      "0.0\n",
      "0.09376099045135429 * a^{0\\beta}a^{0\\alpha}a_{1\\alpha}a_{1\\beta}\n",
      "0\n",
      "1.1898506186070186 * a^{1\\alpha}a^{1\\beta}a_{0\\beta}a_{0\\alpha}a^{0\\alpha}a_{0\\alpha}\n",
      "0\n",
      "-2.600212552842601e-17 * a^{1\\alpha}a^{1\\beta}a_{0\\beta}a_{0\\alpha}a^{0\\alpha}a_{1\\alpha}\n",
      "0\n",
      "1.1898506186070186 * a^{1\\alpha}a^{1\\beta}a_{0\\beta}a_{0\\alpha}a^{0\\beta}a_{0\\beta}\n",
      "0\n",
      "-2.600212552842601e-17 * a^{1\\alpha}a^{1\\beta}a_{0\\beta}a_{0\\alpha}a^{0\\beta}a_{1\\beta}\n",
      "0\n",
      "-0.5337491016607854 * a^{1\\alpha}a_{1\\alpha}a^{1\\alpha}a^{1\\beta}a_{0\\beta}a_{0\\alpha}\n",
      "0\n",
      "-0.5337491016607854 * a^{1\\alpha}a_{1\\alpha}a^{1\\beta}a^{1\\alpha}a_{0\\alpha}a_{0\\beta}\n",
      "0\n",
      "1.1898506186070186 * a^{1\\beta}a^{1\\alpha}a_{0\\alpha}a_{0\\beta}a^{0\\alpha}a_{0\\alpha}\n",
      "0\n",
      "-2.600212552842601e-17 * a^{1\\beta}a^{1\\alpha}a_{0\\alpha}a_{0\\beta}a^{0\\alpha}a_{1\\alpha}\n",
      "0\n",
      "1.1898506186070186 * a^{1\\beta}a^{1\\alpha}a_{0\\alpha}a_{0\\beta}a^{0\\beta}a_{0\\beta}\n",
      "0\n",
      "-2.600212552842601e-17 * a^{1\\beta}a^{1\\alpha}a_{0\\alpha}a_{0\\beta}a^{0\\beta}a_{1\\beta}\n",
      "0\n",
      "-0.5337491016607854 * a^{1\\beta}a_{1\\beta}a^{1\\alpha}a^{1\\beta}a_{0\\beta}a_{0\\alpha}\n",
      "0\n",
      "-0.5337491016607854 * a^{1\\beta}a_{1\\beta}a^{1\\beta}a^{1\\alpha}a_{0\\alpha}a_{0\\beta}\n",
      "0\n",
      "2.600212552842601e-17 * a^{0\\alpha}a_{1\\alpha}a^{1\\alpha}a^{1\\beta}a_{0\\beta}a_{0\\alpha}\n",
      "0.0\n",
      "2.600212552842601e-17 * a^{0\\alpha}a_{1\\alpha}a^{1\\beta}a^{1\\alpha}a_{0\\alpha}a_{0\\beta}\n",
      "0.0\n",
      "2.600212552842601e-17 * a^{0\\beta}a_{1\\beta}a^{1\\alpha}a^{1\\beta}a_{0\\beta}a_{0\\alpha}\n",
      "0.0\n",
      "2.600212552842601e-17 * a^{0\\beta}a_{1\\beta}a^{1\\beta}a^{1\\alpha}a_{0\\alpha}a_{0\\beta}\n",
      "0.0\n",
      "-0.3270047556780619 * a^{1\\alpha}a^{1\\beta}a_{0\\beta}a_{0\\alpha}a^{0\\alpha}a^{0\\beta}a_{0\\beta}a_{0\\alpha}\n",
      "0\n",
      "-5.204170427930421e-17 * a^{1\\alpha}a^{1\\beta}a_{0\\beta}a_{0\\alpha}a^{0\\alpha}a^{0\\beta}a_{0\\beta}a_{1\\alpha}\n",
      "0\n",
      "-4.163336342344337e-17 * a^{1\\alpha}a^{1\\beta}a_{0\\beta}a_{0\\alpha}a^{0\\alpha}a^{0\\beta}a_{1\\beta}a_{0\\alpha}\n",
      "0\n",
      "-0.09376099045135429 * a^{1\\alpha}a^{1\\beta}a_{0\\beta}a_{0\\alpha}a^{0\\alpha}a^{0\\beta}a_{1\\beta}a_{1\\alpha}\n",
      "0\n",
      "-0.3270047556780619 * a^{1\\alpha}a^{1\\beta}a_{0\\beta}a_{0\\alpha}a^{0\\beta}a^{0\\alpha}a_{0\\alpha}a_{0\\beta}\n",
      "0\n",
      "-5.204170427930421e-17 * a^{1\\alpha}a^{1\\beta}a_{0\\beta}a_{0\\alpha}a^{0\\beta}a^{0\\alpha}a_{0\\alpha}a_{1\\beta}\n",
      "0\n",
      "-4.163336342344337e-17 * a^{1\\alpha}a^{1\\beta}a_{0\\beta}a_{0\\alpha}a^{0\\beta}a^{0\\alpha}a_{1\\alpha}a_{0\\beta}\n",
      "0\n",
      "-0.09376099045135429 * a^{1\\alpha}a^{1\\beta}a_{0\\beta}a_{0\\alpha}a^{0\\beta}a^{0\\alpha}a_{1\\alpha}a_{1\\beta}\n",
      "0\n",
      "0.33906809184265285 * a^{1\\alpha}a^{1\\beta}a_{1\\beta}a_{1\\alpha}a^{1\\alpha}a^{1\\beta}a_{0\\beta}a_{0\\alpha}\n",
      "0\n",
      "0.33906809184265285 * a^{1\\alpha}a^{1\\beta}a_{1\\beta}a_{1\\alpha}a^{1\\beta}a^{1\\alpha}a_{0\\alpha}a_{0\\beta}\n",
      "0\n",
      "6.938893903907228e-17 * a^{1\\alpha}a^{0\\beta}a_{1\\beta}a_{1\\alpha}a^{1\\alpha}a^{1\\beta}a_{0\\beta}a_{0\\alpha}\n",
      "0\n",
      "6.938893903907228e-17 * a^{1\\alpha}a^{0\\beta}a_{1\\beta}a_{1\\alpha}a^{1\\beta}a^{1\\alpha}a_{0\\alpha}a_{0\\beta}\n",
      "0\n",
      "-0.3270047556780619 * a^{1\\beta}a^{1\\alpha}a_{0\\alpha}a_{0\\beta}a^{0\\alpha}a^{0\\beta}a_{0\\beta}a_{0\\alpha}\n",
      "0\n",
      "-5.204170427930421e-17 * a^{1\\beta}a^{1\\alpha}a_{0\\alpha}a_{0\\beta}a^{0\\alpha}a^{0\\beta}a_{0\\beta}a_{1\\alpha}\n",
      "0\n",
      "-4.163336342344337e-17 * a^{1\\beta}a^{1\\alpha}a_{0\\alpha}a_{0\\beta}a^{0\\alpha}a^{0\\beta}a_{1\\beta}a_{0\\alpha}\n",
      "0\n",
      "-0.09376099045135429 * a^{1\\beta}a^{1\\alpha}a_{0\\alpha}a_{0\\beta}a^{0\\alpha}a^{0\\beta}a_{1\\beta}a_{1\\alpha}\n",
      "0\n",
      "-0.3270047556780619 * a^{1\\beta}a^{1\\alpha}a_{0\\alpha}a_{0\\beta}a^{0\\beta}a^{0\\alpha}a_{0\\alpha}a_{0\\beta}\n",
      "0\n",
      "-5.204170427930421e-17 * a^{1\\beta}a^{1\\alpha}a_{0\\alpha}a_{0\\beta}a^{0\\beta}a^{0\\alpha}a_{0\\alpha}a_{1\\beta}\n",
      "0\n",
      "-4.163336342344337e-17 * a^{1\\beta}a^{1\\alpha}a_{0\\alpha}a_{0\\beta}a^{0\\beta}a^{0\\alpha}a_{1\\alpha}a_{0\\beta}\n",
      "0\n",
      "-0.09376099045135429 * a^{1\\beta}a^{1\\alpha}a_{0\\alpha}a_{0\\beta}a^{0\\beta}a^{0\\alpha}a_{1\\alpha}a_{1\\beta}\n",
      "0\n",
      "0.33906809184265285 * a^{1\\beta}a^{1\\alpha}a_{1\\alpha}a_{1\\beta}a^{1\\alpha}a^{1\\beta}a_{0\\beta}a_{0\\alpha}\n",
      "0\n",
      "0.33906809184265285 * a^{1\\beta}a^{1\\alpha}a_{1\\alpha}a_{1\\beta}a^{1\\beta}a^{1\\alpha}a_{0\\alpha}a_{0\\beta}\n",
      "0\n",
      "6.938893903907228e-17 * a^{1\\beta}a^{0\\alpha}a_{1\\alpha}a_{1\\beta}a^{1\\alpha}a^{1\\beta}a_{0\\beta}a_{0\\alpha}\n",
      "0\n",
      "6.938893903907228e-17 * a^{1\\beta}a^{0\\alpha}a_{1\\alpha}a_{1\\beta}a^{1\\beta}a^{1\\alpha}a_{0\\alpha}a_{0\\beta}\n",
      "0\n",
      "2.7755575615628914e-17 * a^{0\\alpha}a^{1\\beta}a_{1\\beta}a_{1\\alpha}a^{1\\alpha}a^{1\\beta}a_{0\\beta}a_{0\\alpha}\n",
      "0\n",
      "2.7755575615628914e-17 * a^{0\\alpha}a^{1\\beta}a_{1\\beta}a_{1\\alpha}a^{1\\beta}a^{1\\alpha}a_{0\\alpha}a_{0\\beta}\n",
      "0\n",
      "0.09376099045135429 * a^{0\\alpha}a^{0\\beta}a_{1\\beta}a_{1\\alpha}a^{1\\alpha}a^{1\\beta}a_{0\\beta}a_{0\\alpha}\n",
      "0.09376099045135429\n",
      "0.09376099045135429 * a^{0\\alpha}a^{0\\beta}a_{1\\beta}a_{1\\alpha}a^{1\\beta}a^{1\\alpha}a_{0\\alpha}a_{0\\beta}\n",
      "0.09376099045135429\n",
      "2.7755575615628914e-17 * a^{0\\beta}a^{1\\alpha}a_{1\\alpha}a_{1\\beta}a^{1\\alpha}a^{1\\beta}a_{0\\beta}a_{0\\alpha}\n",
      "0\n",
      "2.7755575615628914e-17 * a^{0\\beta}a^{1\\alpha}a_{1\\alpha}a_{1\\beta}a^{1\\beta}a^{1\\alpha}a_{0\\alpha}a_{0\\beta}\n",
      "0\n",
      "0.09376099045135429 * a^{0\\beta}a^{0\\alpha}a_{1\\alpha}a_{1\\beta}a^{1\\alpha}a^{1\\beta}a_{0\\beta}a_{0\\alpha}\n",
      "0.09376099045135429\n",
      "0.09376099045135429 * a^{0\\beta}a^{0\\alpha}a_{1\\alpha}a_{1\\beta}a^{1\\beta}a^{1\\alpha}a_{0\\alpha}a_{0\\beta}\n",
      "0.09376099045135429\n",
      "-0.09376099045135429 * a^{1\\alpha}a^{1\\beta}a_{0\\beta}a_{0\\alpha}a^{0\\alpha}a^{0\\beta}a_{1\\beta}a_{1\\alpha}a^{1\\alpha}a^{1\\beta}a_{0\\beta}a_{0\\alpha}\n",
      "0\n",
      "-0.09376099045135429 * a^{1\\alpha}a^{1\\beta}a_{0\\beta}a_{0\\alpha}a^{0\\alpha}a^{0\\beta}a_{1\\beta}a_{1\\alpha}a^{1\\beta}a^{1\\alpha}a_{0\\alpha}a_{0\\beta}\n",
      "0\n",
      "-0.09376099045135429 * a^{1\\alpha}a^{1\\beta}a_{0\\beta}a_{0\\alpha}a^{0\\beta}a^{0\\alpha}a_{1\\alpha}a_{1\\beta}a^{1\\alpha}a^{1\\beta}a_{0\\beta}a_{0\\alpha}\n",
      "0\n",
      "-0.09376099045135429 * a^{1\\alpha}a^{1\\beta}a_{0\\beta}a_{0\\alpha}a^{0\\beta}a^{0\\alpha}a_{1\\alpha}a_{1\\beta}a^{1\\beta}a^{1\\alpha}a_{0\\alpha}a_{0\\beta}\n",
      "0\n",
      "-0.09376099045135429 * a^{1\\beta}a^{1\\alpha}a_{0\\alpha}a_{0\\beta}a^{0\\alpha}a^{0\\beta}a_{1\\beta}a_{1\\alpha}a^{1\\alpha}a^{1\\beta}a_{0\\beta}a_{0\\alpha}\n",
      "0\n",
      "-0.09376099045135429 * a^{1\\beta}a^{1\\alpha}a_{0\\alpha}a_{0\\beta}a^{0\\alpha}a^{0\\beta}a_{1\\beta}a_{1\\alpha}a^{1\\beta}a^{1\\alpha}a_{0\\alpha}a_{0\\beta}\n",
      "0\n",
      "-0.09376099045135429 * a^{1\\beta}a^{1\\alpha}a_{0\\alpha}a_{0\\beta}a^{0\\beta}a^{0\\alpha}a_{1\\alpha}a_{1\\beta}a^{1\\alpha}a^{1\\beta}a_{0\\beta}a_{0\\alpha}\n",
      "0\n",
      "-0.09376099045135429 * a^{1\\beta}a^{1\\alpha}a_{0\\alpha}a_{0\\beta}a^{0\\beta}a^{0\\alpha}a_{1\\alpha}a_{1\\beta}a^{1\\beta}a^{1\\alpha}a_{0\\alpha}a_{0\\beta}\n",
      "0\n"
     ]
    }
   ],
   "metadata": {
    "tags": []
   }
  },
  {
   "cell_type": "code",
   "execution_count": 68,
   "source": [
    "print(bch.summandList[31])"
   ],
   "outputs": [
    {
     "output_type": "stream",
     "name": "stdout",
     "text": [
      "0.3270047556780619 * a^{0\\alpha}a^{0\\beta}a_{0\\beta}a_{0\\alpha}\n"
     ]
    }
   ],
   "metadata": {}
  },
  {
   "cell_type": "code",
   "execution_count": 193,
   "source": [
    "energyEquation = vacuumExpectationValue(bch, vacuum, printing=True)\n",
    "print(energyEquation)"
   ],
   "outputs": [
    {
     "output_type": "stream",
     "name": "stdout",
     "text": [
      "-1.1898506186070186 * a^{0\\alpha}a_{0\\alpha}\n",
      "-1.1898506186070186 * a^{0\\beta}a_{0\\beta}\n",
      "0.3270047556780619 * a^{0\\alpha}a^{0\\beta}a_{0\\beta}a_{0\\alpha}\n",
      "0.3270047556780619 * a^{0\\beta}a^{0\\alpha}a_{0\\alpha}a_{0\\beta}\n",
      "-0.006453881079145487 * a^{0\\alpha}a^{0\\beta}a_{1\\beta}a_{1\\alpha}a^{1\\alpha}a^{1\\beta}a_{0\\beta}a_{0\\alpha}\n",
      "-0.006453881079145487 * a^{0\\alpha}a^{0\\beta}a_{1\\beta}a_{1\\alpha}a^{1\\beta}a^{1\\alpha}a_{0\\alpha}a_{0\\beta}\n",
      "-0.006453881079145487 * a^{0\\beta}a^{0\\alpha}a_{1\\alpha}a_{1\\beta}a^{1\\alpha}a^{1\\beta}a_{0\\beta}a_{0\\alpha}\n",
      "-0.006453881079145487 * a^{0\\beta}a^{0\\alpha}a_{1\\alpha}a_{1\\beta}a^{1\\beta}a^{1\\alpha}a_{0\\alpha}a_{0\\beta}\n",
      "-1.751507250174495\n"
     ]
    }
   ],
   "metadata": {
    "tags": []
   }
  },
  {
   "cell_type": "code",
   "execution_count": 189,
   "source": [
    "newenergyEquation = vacuumExpectationValue(newbch, vacuum, printing=True)\n",
    "print(newenergyEquation)"
   ],
   "outputs": [
    {
     "output_type": "stream",
     "name": "stdout",
     "text": [
      "-1.1898506186070186 * a^{0\\alpha}a_{0\\alpha}\n",
      "-1.1898506186070186 * a^{0\\beta}a_{0\\beta}\n",
      "0.3270047556780619 * a^{0\\alpha}a^{0\\beta}a_{0\\beta}a_{0\\alpha}\n",
      "0.3270047556780619 * a^{0\\beta}a^{0\\alpha}a_{0\\alpha}a_{0\\beta}\n",
      "-0.006453881053353154 * a^{0\\alpha}a^{0\\beta}a_{1\\beta}a_{1\\alpha}a^{1\\alpha}a^{1\\beta}a_{0\\beta}a_{0\\alpha}\n",
      "-0.006453881053353154 * a^{0\\alpha}a^{0\\beta}a_{1\\beta}a_{1\\alpha}a^{1\\beta}a^{1\\alpha}a_{0\\alpha}a_{0\\beta}\n",
      "-0.006453881053353154 * a^{0\\beta}a^{0\\alpha}a_{1\\alpha}a_{1\\beta}a^{1\\alpha}a^{1\\beta}a_{0\\beta}a_{0\\alpha}\n",
      "-0.006453881053353154 * a^{0\\beta}a^{0\\alpha}a_{1\\alpha}a_{1\\beta}a^{1\\beta}a^{1\\alpha}a_{0\\alpha}a_{0\\beta}\n",
      "-1.751507250071326\n"
     ]
    }
   ],
   "metadata": {
    "tags": []
   }
  },
  {
   "cell_type": "code",
   "execution_count": 188,
   "source": [
    "print(clusterDoubles)"
   ],
   "outputs": [
    {
     "output_type": "stream",
     "name": "stdout",
     "text": [
      "0.0\n",
      " + -0.06883332874447325 * a^{1\\alpha}a^{1\\beta}a_{0\\beta}a_{0\\alpha}\n",
      " + -0.06883332874447325 * a^{1\\beta}a^{1\\alpha}a_{0\\alpha}a_{0\\beta}\n",
      " + 0.0\n"
     ]
    }
   ],
   "metadata": {}
  },
  {
   "cell_type": "code",
   "execution_count": 187,
   "source": [
    "print(clusterDoubles.conjugate())"
   ],
   "outputs": [
    {
     "output_type": "stream",
     "name": "stdout",
     "text": [
      "0.0\n",
      " + -0.06883332874447325 * a^{0\\alpha}a^{0\\beta}a_{1\\beta}a_{1\\alpha}\n",
      " + -0.06883332874447325 * a^{0\\beta}a^{0\\alpha}a_{1\\alpha}a_{1\\beta}\n"
     ]
    }
   ],
   "metadata": {}
  },
  {
   "cell_type": "code",
   "execution_count": 183,
   "source": [
    "projected = clusterDoubles.conjugate() * bch\n",
    "projected.checkNilpotency()\n",
    "print(projected)"
   ],
   "outputs": [
    {
     "output_type": "stream",
     "name": "stdout",
     "text": [
      "0.0\n",
      " + -0.0 * a^{1\\alpha}a_{0\\alpha}\n",
      " + -0.0 * a^{1\\alpha}a_{1\\alpha}\n",
      " + -0.0 * a^{1\\beta}a_{0\\beta}\n",
      " + -0.0 * a^{1\\beta}a_{1\\beta}\n",
      " + -0.0 * a^{0\\alpha}a_{0\\alpha}\n",
      " + 0.0 * a^{0\\alpha}a_{1\\alpha}\n",
      " + -0.0 * a^{0\\beta}a_{0\\beta}\n",
      " + 0.0 * a^{0\\beta}a_{1\\beta}\n",
      " + -0.0 * a^{0\\alpha}a^{0\\beta}a_{1\\beta}a_{1\\alpha}\n",
      " + -0.0 * a^{0\\beta}a^{0\\alpha}a_{1\\alpha}a_{1\\beta}\n",
      " + 0.0 * a^{1\\alpha}a^{1\\beta}a_{0\\beta}a_{0\\alpha}\n",
      " + 0.0 * a^{1\\alpha}a^{1\\beta}a_{0\\beta}a_{1\\alpha}\n",
      " + 0.0 * a^{1\\alpha}a^{1\\beta}a_{1\\beta}a_{0\\alpha}\n",
      " + 0.0 * a^{1\\alpha}a^{1\\beta}a_{1\\beta}a_{1\\alpha}\n",
      " + 0.0 * a^{1\\alpha}a^{0\\alpha}a_{0\\alpha}a_{1\\alpha}\n",
      " + 0.0 * a^{1\\alpha}a^{0\\beta}a_{0\\beta}a_{0\\alpha}\n",
      " + 0.0 * a^{1\\alpha}a^{0\\beta}a_{0\\beta}a_{1\\alpha}\n",
      " + 0.0 * a^{1\\alpha}a^{0\\beta}a_{1\\beta}a_{1\\alpha}\n",
      " + 0.0 * a^{1\\beta}a^{1\\alpha}a_{0\\alpha}a_{0\\beta}\n",
      " + 0.0 * a^{1\\beta}a^{1\\alpha}a_{0\\alpha}a_{1\\beta}\n",
      " + 0.0 * a^{1\\beta}a^{1\\alpha}a_{1\\alpha}a_{0\\beta}\n",
      " + 0.0 * a^{1\\beta}a^{1\\alpha}a_{1\\alpha}a_{1\\beta}\n",
      " + 0.0 * a^{1\\beta}a^{0\\alpha}a_{0\\alpha}a_{0\\beta}\n",
      " + 0.0 * a^{1\\beta}a^{0\\alpha}a_{0\\alpha}a_{1\\beta}\n",
      " + 0.0 * a^{1\\beta}a^{0\\alpha}a_{1\\alpha}a_{1\\beta}\n",
      " + 0.0 * a^{1\\beta}a^{0\\beta}a_{0\\beta}a_{1\\beta}\n",
      " + 0.0 * a^{0\\alpha}a^{1\\alpha}a_{1\\alpha}a_{0\\alpha}\n",
      " + 0.0 * a^{0\\alpha}a^{1\\beta}a_{0\\beta}a_{0\\alpha}\n",
      " + 0.0 * a^{0\\alpha}a^{1\\beta}a_{1\\beta}a_{0\\alpha}\n",
      " + 0.0 * a^{0\\alpha}a^{1\\beta}a_{1\\beta}a_{1\\alpha}\n",
      " + 0.0 * a^{0\\alpha}a^{0\\beta}a_{0\\beta}a_{0\\alpha}\n",
      " + 0.0 * a^{0\\alpha}a^{0\\beta}a_{0\\beta}a_{1\\alpha}\n",
      " + 0.0 * a^{0\\alpha}a^{0\\beta}a_{1\\beta}a_{0\\alpha}\n",
      " + 0.0 * a^{0\\alpha}a^{0\\beta}a_{1\\beta}a_{1\\alpha}\n",
      " + 0.0 * a^{0\\beta}a^{1\\alpha}a_{0\\alpha}a_{0\\beta}\n",
      " + 0.0 * a^{0\\beta}a^{1\\alpha}a_{1\\alpha}a_{0\\beta}\n",
      " + 0.0 * a^{0\\beta}a^{1\\alpha}a_{1\\alpha}a_{1\\beta}\n",
      " + 0.0 * a^{0\\beta}a^{1\\beta}a_{1\\beta}a_{0\\beta}\n",
      " + 0.0 * a^{0\\beta}a^{0\\alpha}a_{0\\alpha}a_{0\\beta}\n",
      " + 0.0 * a^{0\\beta}a^{0\\alpha}a_{0\\alpha}a_{1\\beta}\n",
      " + 0.0 * a^{0\\beta}a^{0\\alpha}a_{1\\alpha}a_{0\\beta}\n",
      " + 0.0 * a^{0\\beta}a^{0\\alpha}a_{1\\alpha}a_{1\\beta}\n",
      " + 3.2449653513473734e-18 * a^{0\\alpha}a^{0\\beta}a_{1\\beta}a_{1\\alpha}a^{1\\alpha}a_{0\\alpha}\n",
      " + 0.03673972738168411 * a^{0\\alpha}a^{0\\beta}a_{1\\beta}a_{1\\alpha}a^{1\\alpha}a_{1\\alpha}\n",
      " + 3.2449653513473734e-18 * a^{0\\alpha}a^{0\\beta}a_{1\\beta}a_{1\\alpha}a^{1\\beta}a_{0\\beta}\n",
      " + 0.03673972738168411 * a^{0\\alpha}a^{0\\beta}a_{1\\beta}a_{1\\alpha}a^{1\\beta}a_{1\\beta}\n",
      " + 3.2449653513473734e-18 * a^{0\\beta}a^{0\\alpha}a_{1\\alpha}a_{1\\beta}a^{1\\alpha}a_{0\\alpha}\n",
      " + 0.03673972738168411 * a^{0\\beta}a^{0\\alpha}a_{1\\alpha}a_{1\\beta}a^{1\\alpha}a_{1\\alpha}\n",
      " + 3.2449653513473734e-18 * a^{0\\beta}a^{0\\alpha}a_{1\\alpha}a_{1\\beta}a^{1\\beta}a_{0\\beta}\n",
      " + 0.03673972738168411 * a^{0\\beta}a^{0\\alpha}a_{1\\alpha}a_{1\\beta}a^{1\\beta}a_{1\\beta}\n",
      " + -0.0 * a^{1\\alpha}a^{1\\beta}a_{0\\beta}a_{0\\alpha}a^{0\\alpha}a_{0\\alpha}\n",
      " + 0.0 * a^{1\\alpha}a^{1\\beta}a_{0\\beta}a_{0\\alpha}a^{0\\alpha}a_{1\\alpha}\n",
      " + -0.0 * a^{1\\alpha}a^{1\\beta}a_{0\\beta}a_{0\\alpha}a^{0\\beta}a_{0\\beta}\n",
      " + 0.0 * a^{1\\alpha}a^{1\\beta}a_{0\\beta}a_{0\\alpha}a^{0\\beta}a_{1\\beta}\n",
      " + 0.0 * a^{1\\alpha}a_{1\\alpha}a^{1\\alpha}a^{1\\beta}a_{0\\beta}a_{0\\alpha}\n",
      " + 0.0 * a^{1\\alpha}a_{1\\alpha}a^{1\\beta}a^{1\\alpha}a_{0\\alpha}a_{0\\beta}\n",
      " + -0.0 * a^{1\\beta}a^{1\\alpha}a_{0\\alpha}a_{0\\beta}a^{0\\alpha}a_{0\\alpha}\n",
      " + 0.0 * a^{1\\beta}a^{1\\alpha}a_{0\\alpha}a_{0\\beta}a^{0\\alpha}a_{1\\alpha}\n",
      " + -0.0 * a^{1\\beta}a^{1\\alpha}a_{0\\alpha}a_{0\\beta}a^{0\\beta}a_{0\\beta}\n",
      " + 0.0 * a^{1\\beta}a^{1\\alpha}a_{0\\alpha}a_{0\\beta}a^{0\\beta}a_{1\\beta}\n",
      " + 0.0 * a^{1\\beta}a_{1\\beta}a^{1\\alpha}a^{1\\beta}a_{0\\beta}a_{0\\alpha}\n",
      " + 0.0 * a^{1\\beta}a_{1\\beta}a^{1\\beta}a^{1\\alpha}a_{0\\alpha}a_{0\\beta}\n",
      " + -0.0 * a^{0\\alpha}a_{1\\alpha}a^{1\\alpha}a^{1\\beta}a_{0\\beta}a_{0\\alpha}\n",
      " + -0.0 * a^{0\\alpha}a_{1\\alpha}a^{1\\beta}a^{1\\alpha}a_{0\\alpha}a_{0\\beta}\n",
      " + -0.0 * a^{0\\beta}a_{1\\beta}a^{1\\alpha}a^{1\\beta}a_{0\\beta}a_{0\\alpha}\n",
      " + -0.0 * a^{0\\beta}a_{1\\beta}a^{1\\beta}a^{1\\alpha}a_{0\\alpha}a_{0\\beta}\n",
      " + -0.006453881079145487 * a^{0\\alpha}a^{0\\beta}a_{1\\beta}a_{1\\alpha}a^{1\\alpha}a^{1\\beta}a_{0\\beta}a_{0\\alpha}\n",
      " + -4.776271652106676e-18 * a^{0\\alpha}a^{0\\beta}a_{1\\beta}a_{1\\alpha}a^{1\\alpha}a^{1\\beta}a_{0\\beta}a_{1\\alpha}\n",
      " + -1.9105086608426704e-18 * a^{0\\alpha}a^{0\\beta}a_{1\\beta}a_{1\\alpha}a^{1\\alpha}a^{1\\beta}a_{1\\beta}a_{0\\alpha}\n",
      " + -0.02333918543256657 * a^{0\\alpha}a^{0\\beta}a_{1\\beta}a_{1\\alpha}a^{1\\alpha}a^{1\\beta}a_{1\\beta}a_{1\\alpha}\n",
      " + -0.006453881079145487 * a^{0\\alpha}a^{0\\beta}a_{1\\beta}a_{1\\alpha}a^{1\\beta}a^{1\\alpha}a_{0\\alpha}a_{0\\beta}\n",
      " + -4.776271652106676e-18 * a^{0\\alpha}a^{0\\beta}a_{1\\beta}a_{1\\alpha}a^{1\\beta}a^{1\\alpha}a_{0\\alpha}a_{1\\beta}\n",
      " + -1.9105086608426704e-18 * a^{0\\alpha}a^{0\\beta}a_{1\\beta}a_{1\\alpha}a^{1\\beta}a^{1\\alpha}a_{1\\alpha}a_{0\\beta}\n",
      " + -0.02333918543256657 * a^{0\\alpha}a^{0\\beta}a_{1\\beta}a_{1\\alpha}a^{1\\beta}a^{1\\alpha}a_{1\\alpha}a_{1\\beta}\n",
      " + -0.006453881079145487 * a^{0\\beta}a^{0\\alpha}a_{1\\alpha}a_{1\\beta}a^{1\\alpha}a^{1\\beta}a_{0\\beta}a_{0\\alpha}\n",
      " + -4.776271652106676e-18 * a^{0\\beta}a^{0\\alpha}a_{1\\alpha}a_{1\\beta}a^{1\\alpha}a^{1\\beta}a_{0\\beta}a_{1\\alpha}\n",
      " + -1.9105086608426704e-18 * a^{0\\beta}a^{0\\alpha}a_{1\\alpha}a_{1\\beta}a^{1\\alpha}a^{1\\beta}a_{1\\beta}a_{0\\alpha}\n",
      " + -0.02333918543256657 * a^{0\\beta}a^{0\\alpha}a_{1\\alpha}a_{1\\beta}a^{1\\alpha}a^{1\\beta}a_{1\\beta}a_{1\\alpha}\n",
      " + -0.006453881079145487 * a^{0\\beta}a^{0\\alpha}a_{1\\alpha}a_{1\\beta}a^{1\\beta}a^{1\\alpha}a_{0\\alpha}a_{0\\beta}\n",
      " + -4.776271652106676e-18 * a^{0\\beta}a^{0\\alpha}a_{1\\alpha}a_{1\\beta}a^{1\\beta}a^{1\\alpha}a_{0\\alpha}a_{1\\beta}\n",
      " + -1.9105086608426704e-18 * a^{0\\beta}a^{0\\alpha}a_{1\\alpha}a_{1\\beta}a^{1\\beta}a^{1\\alpha}a_{1\\alpha}a_{0\\beta}\n",
      " + -0.02333918543256657 * a^{0\\beta}a^{0\\alpha}a_{1\\alpha}a_{1\\beta}a^{1\\beta}a^{1\\alpha}a_{1\\alpha}a_{1\\beta}\n",
      " + 0.0 * a^{1\\alpha}a^{1\\beta}a_{0\\beta}a_{0\\alpha}a^{0\\alpha}a^{0\\beta}a_{0\\beta}a_{0\\alpha}\n",
      " + 0.0 * a^{1\\alpha}a^{1\\beta}a_{0\\beta}a_{0\\alpha}a^{0\\alpha}a^{0\\beta}a_{0\\beta}a_{1\\alpha}\n",
      " + 0.0 * a^{1\\alpha}a^{1\\beta}a_{0\\beta}a_{0\\alpha}a^{0\\alpha}a^{0\\beta}a_{1\\beta}a_{0\\alpha}\n",
      " + 0.0 * a^{1\\alpha}a^{1\\beta}a_{0\\beta}a_{0\\alpha}a^{0\\alpha}a^{0\\beta}a_{1\\beta}a_{1\\alpha}\n",
      " + 0.0 * a^{1\\alpha}a^{1\\beta}a_{0\\beta}a_{0\\alpha}a^{0\\beta}a^{0\\alpha}a_{0\\alpha}a_{0\\beta}\n",
      " + 0.0 * a^{1\\alpha}a^{1\\beta}a_{0\\beta}a_{0\\alpha}a^{0\\beta}a^{0\\alpha}a_{0\\alpha}a_{1\\beta}\n",
      " + 0.0 * a^{1\\alpha}a^{1\\beta}a_{0\\beta}a_{0\\alpha}a^{0\\beta}a^{0\\alpha}a_{1\\alpha}a_{0\\beta}\n",
      " + 0.0 * a^{1\\alpha}a^{1\\beta}a_{0\\beta}a_{0\\alpha}a^{0\\beta}a^{0\\alpha}a_{1\\alpha}a_{1\\beta}\n",
      " + -0.0 * a^{1\\alpha}a^{1\\beta}a_{1\\beta}a_{1\\alpha}a^{1\\alpha}a^{1\\beta}a_{0\\beta}a_{0\\alpha}\n",
      " + -0.0 * a^{1\\alpha}a^{1\\beta}a_{1\\beta}a_{1\\alpha}a^{1\\beta}a^{1\\alpha}a_{0\\alpha}a_{0\\beta}\n",
      " + -0.0 * a^{1\\alpha}a^{0\\beta}a_{1\\beta}a_{1\\alpha}a^{1\\alpha}a^{1\\beta}a_{0\\beta}a_{0\\alpha}\n",
      " + -0.0 * a^{1\\alpha}a^{0\\beta}a_{1\\beta}a_{1\\alpha}a^{1\\beta}a^{1\\alpha}a_{0\\alpha}a_{0\\beta}\n",
      " + 0.0 * a^{1\\beta}a^{1\\alpha}a_{0\\alpha}a_{0\\beta}a^{0\\alpha}a^{0\\beta}a_{0\\beta}a_{0\\alpha}\n",
      " + 0.0 * a^{1\\beta}a^{1\\alpha}a_{0\\alpha}a_{0\\beta}a^{0\\alpha}a^{0\\beta}a_{0\\beta}a_{1\\alpha}\n",
      " + 0.0 * a^{1\\beta}a^{1\\alpha}a_{0\\alpha}a_{0\\beta}a^{0\\alpha}a^{0\\beta}a_{1\\beta}a_{0\\alpha}\n",
      " + 0.0 * a^{1\\beta}a^{1\\alpha}a_{0\\alpha}a_{0\\beta}a^{0\\alpha}a^{0\\beta}a_{1\\beta}a_{1\\alpha}\n",
      " + 0.0 * a^{1\\beta}a^{1\\alpha}a_{0\\alpha}a_{0\\beta}a^{0\\beta}a^{0\\alpha}a_{0\\alpha}a_{0\\beta}\n",
      " + 0.0 * a^{1\\beta}a^{1\\alpha}a_{0\\alpha}a_{0\\beta}a^{0\\beta}a^{0\\alpha}a_{0\\alpha}a_{1\\beta}\n",
      " + 0.0 * a^{1\\beta}a^{1\\alpha}a_{0\\alpha}a_{0\\beta}a^{0\\beta}a^{0\\alpha}a_{1\\alpha}a_{0\\beta}\n",
      " + 0.0 * a^{1\\beta}a^{1\\alpha}a_{0\\alpha}a_{0\\beta}a^{0\\beta}a^{0\\alpha}a_{1\\alpha}a_{1\\beta}\n",
      " + -0.0 * a^{1\\beta}a^{1\\alpha}a_{1\\alpha}a_{1\\beta}a^{1\\alpha}a^{1\\beta}a_{0\\beta}a_{0\\alpha}\n",
      " + -0.0 * a^{1\\beta}a^{1\\alpha}a_{1\\alpha}a_{1\\beta}a^{1\\beta}a^{1\\alpha}a_{0\\alpha}a_{0\\beta}\n",
      " + -0.0 * a^{1\\beta}a^{0\\alpha}a_{1\\alpha}a_{1\\beta}a^{1\\alpha}a^{1\\beta}a_{0\\beta}a_{0\\alpha}\n",
      " + -0.0 * a^{1\\beta}a^{0\\alpha}a_{1\\alpha}a_{1\\beta}a^{1\\beta}a^{1\\alpha}a_{0\\alpha}a_{0\\beta}\n",
      " + -0.0 * a^{0\\alpha}a^{1\\beta}a_{1\\beta}a_{1\\alpha}a^{1\\alpha}a^{1\\beta}a_{0\\beta}a_{0\\alpha}\n",
      " + -0.0 * a^{0\\alpha}a^{1\\beta}a_{1\\beta}a_{1\\alpha}a^{1\\beta}a^{1\\alpha}a_{0\\alpha}a_{0\\beta}\n",
      " + -0.0 * a^{0\\alpha}a^{0\\beta}a_{1\\beta}a_{1\\alpha}a^{1\\alpha}a^{1\\beta}a_{0\\beta}a_{0\\alpha}\n",
      " + -0.0 * a^{0\\alpha}a^{0\\beta}a_{1\\beta}a_{1\\alpha}a^{1\\beta}a^{1\\alpha}a_{0\\alpha}a_{0\\beta}\n",
      " + -0.0 * a^{0\\beta}a^{1\\alpha}a_{1\\alpha}a_{1\\beta}a^{1\\alpha}a^{1\\beta}a_{0\\beta}a_{0\\alpha}\n",
      " + -0.0 * a^{0\\beta}a^{1\\alpha}a_{1\\alpha}a_{1\\beta}a^{1\\beta}a^{1\\alpha}a_{0\\alpha}a_{0\\beta}\n",
      " + -0.0 * a^{0\\beta}a^{0\\alpha}a_{1\\alpha}a_{1\\beta}a^{1\\alpha}a^{1\\beta}a_{0\\beta}a_{0\\alpha}\n",
      " + -0.0 * a^{0\\beta}a^{0\\alpha}a_{1\\alpha}a_{1\\beta}a^{1\\beta}a^{1\\alpha}a_{0\\alpha}a_{0\\beta}\n",
      " + 0.005637544530698165 * a^{0\\alpha}a^{0\\beta}a_{1\\beta}a_{1\\alpha}a^{1\\alpha}a^{1\\beta}a_{0\\beta}a_{0\\alpha}a^{0\\alpha}a_{0\\alpha}\n",
      " + -1.2319877660854503e-19 * a^{0\\alpha}a^{0\\beta}a_{1\\beta}a_{1\\alpha}a^{1\\alpha}a^{1\\beta}a_{0\\beta}a_{0\\alpha}a^{0\\alpha}a_{1\\alpha}\n",
      " + 0.005637544530698165 * a^{0\\alpha}a^{0\\beta}a_{1\\beta}a_{1\\alpha}a^{1\\alpha}a^{1\\beta}a_{0\\beta}a_{0\\alpha}a^{0\\beta}a_{0\\beta}\n",
      " + -1.2319877660854503e-19 * a^{0\\alpha}a^{0\\beta}a_{1\\beta}a_{1\\alpha}a^{1\\alpha}a^{1\\beta}a_{0\\beta}a_{0\\alpha}a^{0\\beta}a_{1\\beta}\n",
      " + -0.0025289177328457874 * a^{0\\alpha}a^{0\\beta}a_{1\\beta}a_{1\\alpha}a^{1\\alpha}a_{1\\alpha}a^{1\\alpha}a^{1\\beta}a_{0\\beta}a_{0\\alpha}\n",
      " + -0.0025289177328457874 * a^{0\\alpha}a^{0\\beta}a_{1\\beta}a_{1\\alpha}a^{1\\alpha}a_{1\\alpha}a^{1\\beta}a^{1\\alpha}a_{0\\alpha}a_{0\\beta}\n",
      " + 0.005637544530698165 * a^{0\\alpha}a^{0\\beta}a_{1\\beta}a_{1\\alpha}a^{1\\beta}a^{1\\alpha}a_{0\\alpha}a_{0\\beta}a^{0\\alpha}a_{0\\alpha}\n",
      " + -1.2319877660854503e-19 * a^{0\\alpha}a^{0\\beta}a_{1\\beta}a_{1\\alpha}a^{1\\beta}a^{1\\alpha}a_{0\\alpha}a_{0\\beta}a^{0\\alpha}a_{1\\alpha}\n",
      " + 0.005637544530698165 * a^{0\\alpha}a^{0\\beta}a_{1\\beta}a_{1\\alpha}a^{1\\beta}a^{1\\alpha}a_{0\\alpha}a_{0\\beta}a^{0\\beta}a_{0\\beta}\n",
      " + -1.2319877660854503e-19 * a^{0\\alpha}a^{0\\beta}a_{1\\beta}a_{1\\alpha}a^{1\\beta}a^{1\\alpha}a_{0\\alpha}a_{0\\beta}a^{0\\beta}a_{1\\beta}\n",
      " + -0.0025289177328457874 * a^{0\\alpha}a^{0\\beta}a_{1\\beta}a_{1\\alpha}a^{1\\beta}a_{1\\beta}a^{1\\alpha}a^{1\\beta}a_{0\\beta}a_{0\\alpha}\n",
      " + -0.0025289177328457874 * a^{0\\alpha}a^{0\\beta}a_{1\\beta}a_{1\\alpha}a^{1\\beta}a_{1\\beta}a^{1\\beta}a^{1\\alpha}a_{0\\alpha}a_{0\\beta}\n",
      " + 0.005637544530698165 * a^{0\\beta}a^{0\\alpha}a_{1\\alpha}a_{1\\beta}a^{1\\alpha}a^{1\\beta}a_{0\\beta}a_{0\\alpha}a^{0\\alpha}a_{0\\alpha}\n",
      " + -1.2319877660854503e-19 * a^{0\\beta}a^{0\\alpha}a_{1\\alpha}a_{1\\beta}a^{1\\alpha}a^{1\\beta}a_{0\\beta}a_{0\\alpha}a^{0\\alpha}a_{1\\alpha}\n",
      " + 0.005637544530698165 * a^{0\\beta}a^{0\\alpha}a_{1\\alpha}a_{1\\beta}a^{1\\alpha}a^{1\\beta}a_{0\\beta}a_{0\\alpha}a^{0\\beta}a_{0\\beta}\n",
      " + -1.2319877660854503e-19 * a^{0\\beta}a^{0\\alpha}a_{1\\alpha}a_{1\\beta}a^{1\\alpha}a^{1\\beta}a_{0\\beta}a_{0\\alpha}a^{0\\beta}a_{1\\beta}\n",
      " + -0.0025289177328457874 * a^{0\\beta}a^{0\\alpha}a_{1\\alpha}a_{1\\beta}a^{1\\alpha}a_{1\\alpha}a^{1\\alpha}a^{1\\beta}a_{0\\beta}a_{0\\alpha}\n",
      " + -0.0025289177328457874 * a^{0\\beta}a^{0\\alpha}a_{1\\alpha}a_{1\\beta}a^{1\\alpha}a_{1\\alpha}a^{1\\beta}a^{1\\alpha}a_{0\\alpha}a_{0\\beta}\n",
      " + 0.005637544530698165 * a^{0\\beta}a^{0\\alpha}a_{1\\alpha}a_{1\\beta}a^{1\\beta}a^{1\\alpha}a_{0\\alpha}a_{0\\beta}a^{0\\alpha}a_{0\\alpha}\n",
      " + -1.2319877660854503e-19 * a^{0\\beta}a^{0\\alpha}a_{1\\alpha}a_{1\\beta}a^{1\\beta}a^{1\\alpha}a_{0\\alpha}a_{0\\beta}a^{0\\alpha}a_{1\\alpha}\n",
      " + 0.005637544530698165 * a^{0\\beta}a^{0\\alpha}a_{1\\alpha}a_{1\\beta}a^{1\\beta}a^{1\\alpha}a_{0\\alpha}a_{0\\beta}a^{0\\beta}a_{0\\beta}\n",
      " + -1.2319877660854503e-19 * a^{0\\beta}a^{0\\alpha}a_{1\\alpha}a_{1\\beta}a^{1\\beta}a^{1\\alpha}a_{0\\alpha}a_{0\\beta}a^{0\\beta}a_{1\\beta}\n",
      " + -0.0025289177328457874 * a^{0\\beta}a^{0\\alpha}a_{1\\alpha}a_{1\\beta}a^{1\\beta}a_{1\\beta}a^{1\\alpha}a^{1\\beta}a_{0\\beta}a_{0\\alpha}\n",
      " + -0.0025289177328457874 * a^{0\\beta}a^{0\\alpha}a_{1\\alpha}a_{1\\beta}a^{1\\beta}a_{1\\beta}a^{1\\beta}a^{1\\alpha}a_{0\\alpha}a_{0\\beta}\n",
      " + -0.0015493574092883809 * a^{0\\alpha}a^{0\\beta}a_{1\\beta}a_{1\\alpha}a^{1\\alpha}a^{1\\beta}a_{0\\beta}a_{0\\alpha}a^{0\\alpha}a^{0\\beta}a_{0\\beta}a_{0\\alpha}\n",
      " + -2.4657500760177537e-19 * a^{0\\alpha}a^{0\\beta}a_{1\\beta}a_{1\\alpha}a^{1\\alpha}a^{1\\beta}a_{0\\beta}a_{0\\alpha}a^{0\\alpha}a^{0\\beta}a_{0\\beta}a_{1\\alpha}\n",
      " + -1.9726000608142033e-19 * a^{0\\alpha}a^{0\\beta}a_{1\\beta}a_{1\\alpha}a^{1\\alpha}a^{1\\beta}a_{0\\beta}a_{0\\alpha}a^{0\\alpha}a^{0\\beta}a_{1\\beta}a_{0\\alpha}\n",
      " + -0.00044424211799855707 * a^{0\\alpha}a^{0\\beta}a_{1\\beta}a_{1\\alpha}a^{1\\alpha}a^{1\\beta}a_{0\\beta}a_{0\\alpha}a^{0\\alpha}a^{0\\beta}a_{1\\beta}a_{1\\alpha}\n",
      " + -0.0015493574092883809 * a^{0\\alpha}a^{0\\beta}a_{1\\beta}a_{1\\alpha}a^{1\\alpha}a^{1\\beta}a_{0\\beta}a_{0\\alpha}a^{0\\beta}a^{0\\alpha}a_{0\\alpha}a_{0\\beta}\n",
      " + -2.4657500760177537e-19 * a^{0\\alpha}a^{0\\beta}a_{1\\beta}a_{1\\alpha}a^{1\\alpha}a^{1\\beta}a_{0\\beta}a_{0\\alpha}a^{0\\beta}a^{0\\alpha}a_{0\\alpha}a_{1\\beta}\n",
      " + -1.9726000608142033e-19 * a^{0\\alpha}a^{0\\beta}a_{1\\beta}a_{1\\alpha}a^{1\\alpha}a^{1\\beta}a_{0\\beta}a_{0\\alpha}a^{0\\beta}a^{0\\alpha}a_{1\\alpha}a_{0\\beta}\n",
      " + -0.00044424211799855707 * a^{0\\alpha}a^{0\\beta}a_{1\\beta}a_{1\\alpha}a^{1\\alpha}a^{1\\beta}a_{0\\beta}a_{0\\alpha}a^{0\\beta}a^{0\\alpha}a_{1\\alpha}a_{1\\beta}\n",
      " + 0.001606513823508076 * a^{0\\alpha}a^{0\\beta}a_{1\\beta}a_{1\\alpha}a^{1\\alpha}a^{1\\beta}a_{1\\beta}a_{1\\alpha}a^{1\\alpha}a^{1\\beta}a_{0\\beta}a_{0\\alpha}\n",
      " + 0.001606513823508076 * a^{0\\alpha}a^{0\\beta}a_{1\\beta}a_{1\\alpha}a^{1\\alpha}a^{1\\beta}a_{1\\beta}a_{1\\alpha}a^{1\\beta}a^{1\\alpha}a_{0\\alpha}a_{0\\beta}\n",
      " + -0.0015493574092883809 * a^{0\\alpha}a^{0\\beta}a_{1\\beta}a_{1\\alpha}a^{1\\beta}a^{1\\alpha}a_{0\\alpha}a_{0\\beta}a^{0\\alpha}a^{0\\beta}a_{0\\beta}a_{0\\alpha}\n",
      " + -2.4657500760177537e-19 * a^{0\\alpha}a^{0\\beta}a_{1\\beta}a_{1\\alpha}a^{1\\beta}a^{1\\alpha}a_{0\\alpha}a_{0\\beta}a^{0\\alpha}a^{0\\beta}a_{0\\beta}a_{1\\alpha}\n",
      " + -1.9726000608142033e-19 * a^{0\\alpha}a^{0\\beta}a_{1\\beta}a_{1\\alpha}a^{1\\beta}a^{1\\alpha}a_{0\\alpha}a_{0\\beta}a^{0\\alpha}a^{0\\beta}a_{1\\beta}a_{0\\alpha}\n",
      " + -0.00044424211799855707 * a^{0\\alpha}a^{0\\beta}a_{1\\beta}a_{1\\alpha}a^{1\\beta}a^{1\\alpha}a_{0\\alpha}a_{0\\beta}a^{0\\alpha}a^{0\\beta}a_{1\\beta}a_{1\\alpha}\n",
      " + -0.0015493574092883809 * a^{0\\alpha}a^{0\\beta}a_{1\\beta}a_{1\\alpha}a^{1\\beta}a^{1\\alpha}a_{0\\alpha}a_{0\\beta}a^{0\\beta}a^{0\\alpha}a_{0\\alpha}a_{0\\beta}\n",
      " + -2.4657500760177537e-19 * a^{0\\alpha}a^{0\\beta}a_{1\\beta}a_{1\\alpha}a^{1\\beta}a^{1\\alpha}a_{0\\alpha}a_{0\\beta}a^{0\\beta}a^{0\\alpha}a_{0\\alpha}a_{1\\beta}\n",
      " + -1.9726000608142033e-19 * a^{0\\alpha}a^{0\\beta}a_{1\\beta}a_{1\\alpha}a^{1\\beta}a^{1\\alpha}a_{0\\alpha}a_{0\\beta}a^{0\\beta}a^{0\\alpha}a_{1\\alpha}a_{0\\beta}\n",
      " + -0.00044424211799855707 * a^{0\\alpha}a^{0\\beta}a_{1\\beta}a_{1\\alpha}a^{1\\beta}a^{1\\alpha}a_{0\\alpha}a_{0\\beta}a^{0\\beta}a^{0\\alpha}a_{1\\alpha}a_{1\\beta}\n",
      " + 0.001606513823508076 * a^{0\\alpha}a^{0\\beta}a_{1\\beta}a_{1\\alpha}a^{1\\beta}a^{1\\alpha}a_{1\\alpha}a_{1\\beta}a^{1\\alpha}a^{1\\beta}a_{0\\beta}a_{0\\alpha}\n",
      " + 0.001606513823508076 * a^{0\\alpha}a^{0\\beta}a_{1\\beta}a_{1\\alpha}a^{1\\beta}a^{1\\alpha}a_{1\\alpha}a_{1\\beta}a^{1\\beta}a^{1\\alpha}a_{0\\alpha}a_{0\\beta}\n",
      " + -0.0015493574092883809 * a^{0\\beta}a^{0\\alpha}a_{1\\alpha}a_{1\\beta}a^{1\\alpha}a^{1\\beta}a_{0\\beta}a_{0\\alpha}a^{0\\alpha}a^{0\\beta}a_{0\\beta}a_{0\\alpha}\n",
      " + -2.4657500760177537e-19 * a^{0\\beta}a^{0\\alpha}a_{1\\alpha}a_{1\\beta}a^{1\\alpha}a^{1\\beta}a_{0\\beta}a_{0\\alpha}a^{0\\alpha}a^{0\\beta}a_{0\\beta}a_{1\\alpha}\n",
      " + -1.9726000608142033e-19 * a^{0\\beta}a^{0\\alpha}a_{1\\alpha}a_{1\\beta}a^{1\\alpha}a^{1\\beta}a_{0\\beta}a_{0\\alpha}a^{0\\alpha}a^{0\\beta}a_{1\\beta}a_{0\\alpha}\n",
      " + -0.00044424211799855707 * a^{0\\beta}a^{0\\alpha}a_{1\\alpha}a_{1\\beta}a^{1\\alpha}a^{1\\beta}a_{0\\beta}a_{0\\alpha}a^{0\\alpha}a^{0\\beta}a_{1\\beta}a_{1\\alpha}\n",
      " + -0.0015493574092883809 * a^{0\\beta}a^{0\\alpha}a_{1\\alpha}a_{1\\beta}a^{1\\alpha}a^{1\\beta}a_{0\\beta}a_{0\\alpha}a^{0\\beta}a^{0\\alpha}a_{0\\alpha}a_{0\\beta}\n",
      " + -2.4657500760177537e-19 * a^{0\\beta}a^{0\\alpha}a_{1\\alpha}a_{1\\beta}a^{1\\alpha}a^{1\\beta}a_{0\\beta}a_{0\\alpha}a^{0\\beta}a^{0\\alpha}a_{0\\alpha}a_{1\\beta}\n",
      " + -1.9726000608142033e-19 * a^{0\\beta}a^{0\\alpha}a_{1\\alpha}a_{1\\beta}a^{1\\alpha}a^{1\\beta}a_{0\\beta}a_{0\\alpha}a^{0\\beta}a^{0\\alpha}a_{1\\alpha}a_{0\\beta}\n",
      " + -0.00044424211799855707 * a^{0\\beta}a^{0\\alpha}a_{1\\alpha}a_{1\\beta}a^{1\\alpha}a^{1\\beta}a_{0\\beta}a_{0\\alpha}a^{0\\beta}a^{0\\alpha}a_{1\\alpha}a_{1\\beta}\n",
      " + 0.001606513823508076 * a^{0\\beta}a^{0\\alpha}a_{1\\alpha}a_{1\\beta}a^{1\\alpha}a^{1\\beta}a_{1\\beta}a_{1\\alpha}a^{1\\alpha}a^{1\\beta}a_{0\\beta}a_{0\\alpha}\n",
      " + 0.001606513823508076 * a^{0\\beta}a^{0\\alpha}a_{1\\alpha}a_{1\\beta}a^{1\\alpha}a^{1\\beta}a_{1\\beta}a_{1\\alpha}a^{1\\beta}a^{1\\alpha}a_{0\\alpha}a_{0\\beta}\n",
      " + -0.0015493574092883809 * a^{0\\beta}a^{0\\alpha}a_{1\\alpha}a_{1\\beta}a^{1\\beta}a^{1\\alpha}a_{0\\alpha}a_{0\\beta}a^{0\\alpha}a^{0\\beta}a_{0\\beta}a_{0\\alpha}\n",
      " + -2.4657500760177537e-19 * a^{0\\beta}a^{0\\alpha}a_{1\\alpha}a_{1\\beta}a^{1\\beta}a^{1\\alpha}a_{0\\alpha}a_{0\\beta}a^{0\\alpha}a^{0\\beta}a_{0\\beta}a_{1\\alpha}\n",
      " + -1.9726000608142033e-19 * a^{0\\beta}a^{0\\alpha}a_{1\\alpha}a_{1\\beta}a^{1\\beta}a^{1\\alpha}a_{0\\alpha}a_{0\\beta}a^{0\\alpha}a^{0\\beta}a_{1\\beta}a_{0\\alpha}\n",
      " + -0.00044424211799855707 * a^{0\\beta}a^{0\\alpha}a_{1\\alpha}a_{1\\beta}a^{1\\beta}a^{1\\alpha}a_{0\\alpha}a_{0\\beta}a^{0\\alpha}a^{0\\beta}a_{1\\beta}a_{1\\alpha}\n",
      " + -0.0015493574092883809 * a^{0\\beta}a^{0\\alpha}a_{1\\alpha}a_{1\\beta}a^{1\\beta}a^{1\\alpha}a_{0\\alpha}a_{0\\beta}a^{0\\beta}a^{0\\alpha}a_{0\\alpha}a_{0\\beta}\n",
      " + -2.4657500760177537e-19 * a^{0\\beta}a^{0\\alpha}a_{1\\alpha}a_{1\\beta}a^{1\\beta}a^{1\\alpha}a_{0\\alpha}a_{0\\beta}a^{0\\beta}a^{0\\alpha}a_{0\\alpha}a_{1\\beta}\n",
      " + -1.9726000608142033e-19 * a^{0\\beta}a^{0\\alpha}a_{1\\alpha}a_{1\\beta}a^{1\\beta}a^{1\\alpha}a_{0\\alpha}a_{0\\beta}a^{0\\beta}a^{0\\alpha}a_{1\\alpha}a_{0\\beta}\n",
      " + -0.00044424211799855707 * a^{0\\beta}a^{0\\alpha}a_{1\\alpha}a_{1\\beta}a^{1\\beta}a^{1\\alpha}a_{0\\alpha}a_{0\\beta}a^{0\\beta}a^{0\\alpha}a_{1\\alpha}a_{1\\beta}\n",
      " + 0.001606513823508076 * a^{0\\beta}a^{0\\alpha}a_{1\\alpha}a_{1\\beta}a^{1\\beta}a^{1\\alpha}a_{1\\alpha}a_{1\\beta}a^{1\\alpha}a^{1\\beta}a_{0\\beta}a_{0\\alpha}\n",
      " + 0.001606513823508076 * a^{0\\beta}a^{0\\alpha}a_{1\\alpha}a_{1\\beta}a^{1\\beta}a^{1\\alpha}a_{1\\alpha}a_{1\\beta}a^{1\\beta}a^{1\\alpha}a_{0\\alpha}a_{0\\beta}\n",
      " + -0.0 * a^{1\\alpha}a^{1\\beta}a_{0\\beta}a_{0\\alpha}a^{0\\alpha}a^{0\\beta}a_{1\\beta}a_{1\\alpha}a^{1\\alpha}a^{1\\beta}a_{0\\beta}a_{0\\alpha}\n",
      " + -0.0 * a^{1\\alpha}a^{1\\beta}a_{0\\beta}a_{0\\alpha}a^{0\\alpha}a^{0\\beta}a_{1\\beta}a_{1\\alpha}a^{1\\beta}a^{1\\alpha}a_{0\\alpha}a_{0\\beta}\n",
      " + -0.0 * a^{1\\alpha}a^{1\\beta}a_{0\\beta}a_{0\\alpha}a^{0\\beta}a^{0\\alpha}a_{1\\alpha}a_{1\\beta}a^{1\\alpha}a^{1\\beta}a_{0\\beta}a_{0\\alpha}\n",
      " + -0.0 * a^{1\\alpha}a^{1\\beta}a_{0\\beta}a_{0\\alpha}a^{0\\beta}a^{0\\alpha}a_{1\\alpha}a_{1\\beta}a^{1\\beta}a^{1\\alpha}a_{0\\alpha}a_{0\\beta}\n",
      " + -0.0 * a^{1\\beta}a^{1\\alpha}a_{0\\alpha}a_{0\\beta}a^{0\\alpha}a^{0\\beta}a_{1\\beta}a_{1\\alpha}a^{1\\alpha}a^{1\\beta}a_{0\\beta}a_{0\\alpha}\n",
      " + -0.0 * a^{1\\beta}a^{1\\alpha}a_{0\\alpha}a_{0\\beta}a^{0\\alpha}a^{0\\beta}a_{1\\beta}a_{1\\alpha}a^{1\\beta}a^{1\\alpha}a_{0\\alpha}a_{0\\beta}\n",
      " + -0.0 * a^{1\\beta}a^{1\\alpha}a_{0\\alpha}a_{0\\beta}a^{0\\beta}a^{0\\alpha}a_{1\\alpha}a_{1\\beta}a^{1\\alpha}a^{1\\beta}a_{0\\beta}a_{0\\alpha}\n",
      " + -0.0 * a^{1\\beta}a^{1\\alpha}a_{0\\alpha}a_{0\\beta}a^{0\\beta}a^{0\\alpha}a_{1\\alpha}a_{1\\beta}a^{1\\beta}a^{1\\alpha}a_{0\\alpha}a_{0\\beta}\n",
      " + 3.057866375033575e-05 * a^{0\\alpha}a^{0\\beta}a_{1\\beta}a_{1\\alpha}a^{1\\alpha}a^{1\\beta}a_{0\\beta}a_{0\\alpha}a^{0\\alpha}a^{0\\beta}a_{1\\beta}a_{1\\alpha}a^{1\\alpha}a^{1\\beta}a_{0\\beta}a_{0\\alpha}\n",
      " + 3.057866375033575e-05 * a^{0\\alpha}a^{0\\beta}a_{1\\beta}a_{1\\alpha}a^{1\\alpha}a^{1\\beta}a_{0\\beta}a_{0\\alpha}a^{0\\alpha}a^{0\\beta}a_{1\\beta}a_{1\\alpha}a^{1\\beta}a^{1\\alpha}a_{0\\alpha}a_{0\\beta}\n",
      " + 3.057866375033575e-05 * a^{0\\alpha}a^{0\\beta}a_{1\\beta}a_{1\\alpha}a^{1\\alpha}a^{1\\beta}a_{0\\beta}a_{0\\alpha}a^{0\\beta}a^{0\\alpha}a_{1\\alpha}a_{1\\beta}a^{1\\alpha}a^{1\\beta}a_{0\\beta}a_{0\\alpha}\n",
      " + 3.057866375033575e-05 * a^{0\\alpha}a^{0\\beta}a_{1\\beta}a_{1\\alpha}a^{1\\alpha}a^{1\\beta}a_{0\\beta}a_{0\\alpha}a^{0\\beta}a^{0\\alpha}a_{1\\alpha}a_{1\\beta}a^{1\\beta}a^{1\\alpha}a_{0\\alpha}a_{0\\beta}\n",
      " + 3.057866375033575e-05 * a^{0\\alpha}a^{0\\beta}a_{1\\beta}a_{1\\alpha}a^{1\\beta}a^{1\\alpha}a_{0\\alpha}a_{0\\beta}a^{0\\alpha}a^{0\\beta}a_{1\\beta}a_{1\\alpha}a^{1\\alpha}a^{1\\beta}a_{0\\beta}a_{0\\alpha}\n",
      " + 3.057866375033575e-05 * a^{0\\alpha}a^{0\\beta}a_{1\\beta}a_{1\\alpha}a^{1\\beta}a^{1\\alpha}a_{0\\alpha}a_{0\\beta}a^{0\\alpha}a^{0\\beta}a_{1\\beta}a_{1\\alpha}a^{1\\beta}a^{1\\alpha}a_{0\\alpha}a_{0\\beta}\n",
      " + 3.057866375033575e-05 * a^{0\\alpha}a^{0\\beta}a_{1\\beta}a_{1\\alpha}a^{1\\beta}a^{1\\alpha}a_{0\\alpha}a_{0\\beta}a^{0\\beta}a^{0\\alpha}a_{1\\alpha}a_{1\\beta}a^{1\\alpha}a^{1\\beta}a_{0\\beta}a_{0\\alpha}\n",
      " + 3.057866375033575e-05 * a^{0\\alpha}a^{0\\beta}a_{1\\beta}a_{1\\alpha}a^{1\\beta}a^{1\\alpha}a_{0\\alpha}a_{0\\beta}a^{0\\beta}a^{0\\alpha}a_{1\\alpha}a_{1\\beta}a^{1\\beta}a^{1\\alpha}a_{0\\alpha}a_{0\\beta}\n",
      " + 3.057866375033575e-05 * a^{0\\beta}a^{0\\alpha}a_{1\\alpha}a_{1\\beta}a^{1\\alpha}a^{1\\beta}a_{0\\beta}a_{0\\alpha}a^{0\\alpha}a^{0\\beta}a_{1\\beta}a_{1\\alpha}a^{1\\alpha}a^{1\\beta}a_{0\\beta}a_{0\\alpha}\n",
      " + 3.057866375033575e-05 * a^{0\\beta}a^{0\\alpha}a_{1\\alpha}a_{1\\beta}a^{1\\alpha}a^{1\\beta}a_{0\\beta}a_{0\\alpha}a^{0\\alpha}a^{0\\beta}a_{1\\beta}a_{1\\alpha}a^{1\\beta}a^{1\\alpha}a_{0\\alpha}a_{0\\beta}\n",
      " + 3.057866375033575e-05 * a^{0\\beta}a^{0\\alpha}a_{1\\alpha}a_{1\\beta}a^{1\\alpha}a^{1\\beta}a_{0\\beta}a_{0\\alpha}a^{0\\beta}a^{0\\alpha}a_{1\\alpha}a_{1\\beta}a^{1\\alpha}a^{1\\beta}a_{0\\beta}a_{0\\alpha}\n",
      " + 3.057866375033575e-05 * a^{0\\beta}a^{0\\alpha}a_{1\\alpha}a_{1\\beta}a^{1\\alpha}a^{1\\beta}a_{0\\beta}a_{0\\alpha}a^{0\\beta}a^{0\\alpha}a_{1\\alpha}a_{1\\beta}a^{1\\beta}a^{1\\alpha}a_{0\\alpha}a_{0\\beta}\n",
      " + 3.057866375033575e-05 * a^{0\\beta}a^{0\\alpha}a_{1\\alpha}a_{1\\beta}a^{1\\beta}a^{1\\alpha}a_{0\\alpha}a_{0\\beta}a^{0\\alpha}a^{0\\beta}a_{1\\beta}a_{1\\alpha}a^{1\\alpha}a^{1\\beta}a_{0\\beta}a_{0\\alpha}\n",
      " + 3.057866375033575e-05 * a^{0\\beta}a^{0\\alpha}a_{1\\alpha}a_{1\\beta}a^{1\\beta}a^{1\\alpha}a_{0\\alpha}a_{0\\beta}a^{0\\alpha}a^{0\\beta}a_{1\\beta}a_{1\\alpha}a^{1\\beta}a^{1\\alpha}a_{0\\alpha}a_{0\\beta}\n",
      " + 3.057866375033575e-05 * a^{0\\beta}a^{0\\alpha}a_{1\\alpha}a_{1\\beta}a^{1\\beta}a^{1\\alpha}a_{0\\alpha}a_{0\\beta}a^{0\\beta}a^{0\\alpha}a_{1\\alpha}a_{1\\beta}a^{1\\alpha}a^{1\\beta}a_{0\\beta}a_{0\\alpha}\n",
      " + 3.057866375033575e-05 * a^{0\\beta}a^{0\\alpha}a_{1\\alpha}a_{1\\beta}a^{1\\beta}a^{1\\alpha}a_{0\\alpha}a_{0\\beta}a^{0\\beta}a^{0\\alpha}a_{1\\alpha}a_{1\\beta}a^{1\\beta}a^{1\\alpha}a_{0\\alpha}a_{0\\beta}\n"
     ]
    }
   ],
   "metadata": {
    "tags": [
     "outputPrepend"
    ]
   }
  },
  {
   "cell_type": "code",
   "execution_count": 184,
   "source": [
    "newprojected = newclusterDoubles.summandList[1].conjugate() * newbch\n",
    "newprojected.checkNilpotency()\n",
    "print(newprojected)"
   ],
   "outputs": [
    {
     "output_type": "stream",
     "name": "stdout",
     "text": [
      "0.0\n",
      " + -0.0 * a^{0\\alpha}a^{0\\beta}a_{1\\beta}a_{1\\alpha}\n",
      " + 3.2449653383791726e-18 * a^{0\\alpha}a^{0\\beta}a_{1\\beta}a_{1\\alpha}a^{1\\alpha}a_{0\\alpha}\n",
      " + 0.036739727234857224 * a^{0\\alpha}a^{0\\beta}a_{1\\beta}a_{1\\alpha}a^{1\\alpha}a_{1\\alpha}\n",
      " + 3.2449653383791726e-18 * a^{0\\alpha}a^{0\\beta}a_{1\\beta}a_{1\\alpha}a^{1\\beta}a_{0\\beta}\n",
      " + 0.036739727234857224 * a^{0\\alpha}a^{0\\beta}a_{1\\beta}a_{1\\alpha}a^{1\\beta}a_{1\\beta}\n",
      " + -0.006453881053353154 * a^{0\\alpha}a^{0\\beta}a_{1\\beta}a_{1\\alpha}a^{1\\alpha}a^{1\\beta}a_{0\\beta}a_{0\\alpha}\n",
      " + -4.7762716330187526e-18 * a^{0\\alpha}a^{0\\beta}a_{1\\beta}a_{1\\alpha}a^{1\\alpha}a^{1\\beta}a_{0\\beta}a_{1\\alpha}\n",
      " + -1.910508653207501e-18 * a^{0\\alpha}a^{0\\beta}a_{1\\beta}a_{1\\alpha}a^{1\\alpha}a^{1\\beta}a_{1\\beta}a_{0\\alpha}\n",
      " + -0.023339185339293696 * a^{0\\alpha}a^{0\\beta}a_{1\\beta}a_{1\\alpha}a^{1\\alpha}a^{1\\beta}a_{1\\beta}a_{1\\alpha}\n",
      " + -0.006453881053353154 * a^{0\\alpha}a^{0\\beta}a_{1\\beta}a_{1\\alpha}a^{1\\beta}a^{1\\alpha}a_{0\\alpha}a_{0\\beta}\n",
      " + -4.7762716330187526e-18 * a^{0\\alpha}a^{0\\beta}a_{1\\beta}a_{1\\alpha}a^{1\\beta}a^{1\\alpha}a_{0\\alpha}a_{1\\beta}\n",
      " + -1.910508653207501e-18 * a^{0\\alpha}a^{0\\beta}a_{1\\beta}a_{1\\alpha}a^{1\\beta}a^{1\\alpha}a_{1\\alpha}a_{0\\beta}\n",
      " + -0.023339185339293696 * a^{0\\alpha}a^{0\\beta}a_{1\\beta}a_{1\\alpha}a^{1\\beta}a^{1\\alpha}a_{1\\alpha}a_{1\\beta}\n",
      " + 0.005637544485638325 * a^{0\\alpha}a^{0\\beta}a_{1\\beta}a_{1\\alpha}a^{1\\alpha}a^{1\\beta}a_{0\\beta}a_{0\\alpha}a^{0\\alpha}a_{0\\alpha}\n",
      " + -1.231987756238402e-19 * a^{0\\alpha}a^{0\\beta}a_{1\\beta}a_{1\\alpha}a^{1\\alpha}a^{1\\beta}a_{0\\beta}a_{0\\alpha}a^{0\\alpha}a_{1\\alpha}\n",
      " + 0.005637544485638325 * a^{0\\alpha}a^{0\\beta}a_{1\\beta}a_{1\\alpha}a^{1\\alpha}a^{1\\beta}a_{0\\beta}a_{0\\alpha}a^{0\\beta}a_{0\\beta}\n",
      " + -1.231987756238402e-19 * a^{0\\alpha}a^{0\\beta}a_{1\\beta}a_{1\\alpha}a^{1\\alpha}a^{1\\beta}a_{0\\beta}a_{0\\alpha}a^{0\\beta}a_{1\\beta}\n",
      " + -0.0025289177126326208 * a^{0\\alpha}a^{0\\beta}a_{1\\beta}a_{1\\alpha}a^{1\\alpha}a_{1\\alpha}a^{1\\alpha}a^{1\\beta}a_{0\\beta}a_{0\\alpha}\n",
      " + -0.0025289177126326208 * a^{0\\alpha}a^{0\\beta}a_{1\\beta}a_{1\\alpha}a^{1\\alpha}a_{1\\alpha}a^{1\\beta}a^{1\\alpha}a_{0\\alpha}a_{0\\beta}\n",
      " + 0.005637544485638325 * a^{0\\alpha}a^{0\\beta}a_{1\\beta}a_{1\\alpha}a^{1\\beta}a^{1\\alpha}a_{0\\alpha}a_{0\\beta}a^{0\\alpha}a_{0\\alpha}\n",
      " + -1.231987756238402e-19 * a^{0\\alpha}a^{0\\beta}a_{1\\beta}a_{1\\alpha}a^{1\\beta}a^{1\\alpha}a_{0\\alpha}a_{0\\beta}a^{0\\alpha}a_{1\\alpha}\n",
      " + 0.005637544485638325 * a^{0\\alpha}a^{0\\beta}a_{1\\beta}a_{1\\alpha}a^{1\\beta}a^{1\\alpha}a_{0\\alpha}a_{0\\beta}a^{0\\beta}a_{0\\beta}\n",
      " + -1.231987756238402e-19 * a^{0\\alpha}a^{0\\beta}a_{1\\beta}a_{1\\alpha}a^{1\\beta}a^{1\\alpha}a_{0\\alpha}a_{0\\beta}a^{0\\beta}a_{1\\beta}\n",
      " + -0.0025289177126326208 * a^{0\\alpha}a^{0\\beta}a_{1\\beta}a_{1\\alpha}a^{1\\beta}a_{1\\beta}a^{1\\alpha}a^{1\\beta}a_{0\\beta}a_{0\\alpha}\n",
      " + -0.0025289177126326208 * a^{0\\alpha}a^{0\\beta}a_{1\\beta}a_{1\\alpha}a^{1\\beta}a_{1\\beta}a^{1\\beta}a^{1\\alpha}a_{0\\alpha}a_{0\\beta}\n",
      " + -0.0015493573969046568 * a^{0\\alpha}a^{0\\beta}a_{1\\beta}a_{1\\alpha}a^{1\\alpha}a^{1\\beta}a_{0\\beta}a_{0\\alpha}a^{0\\alpha}a^{0\\beta}a_{0\\beta}a_{0\\alpha}\n",
      " + -2.465750056309474e-19 * a^{0\\alpha}a^{0\\beta}a_{1\\beta}a_{1\\alpha}a^{1\\alpha}a^{1\\beta}a_{0\\beta}a_{0\\alpha}a^{0\\alpha}a^{0\\beta}a_{0\\beta}a_{1\\alpha}\n",
      " + -1.9726000450475795e-19 * a^{0\\alpha}a^{0\\beta}a_{1\\beta}a_{1\\alpha}a^{1\\alpha}a^{1\\beta}a_{0\\beta}a_{0\\alpha}a^{0\\alpha}a^{0\\beta}a_{1\\beta}a_{0\\alpha}\n",
      " + -0.00044424211444781285 * a^{0\\alpha}a^{0\\beta}a_{1\\beta}a_{1\\alpha}a^{1\\alpha}a^{1\\beta}a_{0\\beta}a_{0\\alpha}a^{0\\alpha}a^{0\\beta}a_{1\\beta}a_{1\\alpha}\n",
      " + -0.0015493573969046568 * a^{0\\alpha}a^{0\\beta}a_{1\\beta}a_{1\\alpha}a^{1\\alpha}a^{1\\beta}a_{0\\beta}a_{0\\alpha}a^{0\\beta}a^{0\\alpha}a_{0\\alpha}a_{0\\beta}\n",
      " + -2.465750056309474e-19 * a^{0\\alpha}a^{0\\beta}a_{1\\beta}a_{1\\alpha}a^{1\\alpha}a^{1\\beta}a_{0\\beta}a_{0\\alpha}a^{0\\beta}a^{0\\alpha}a_{0\\alpha}a_{1\\beta}\n",
      " + -1.9726000450475795e-19 * a^{0\\alpha}a^{0\\beta}a_{1\\beta}a_{1\\alpha}a^{1\\alpha}a^{1\\beta}a_{0\\beta}a_{0\\alpha}a^{0\\beta}a^{0\\alpha}a_{1\\alpha}a_{0\\beta}\n",
      " + -0.00044424211444781285 * a^{0\\alpha}a^{0\\beta}a_{1\\beta}a_{1\\alpha}a^{1\\alpha}a^{1\\beta}a_{0\\beta}a_{0\\alpha}a^{0\\beta}a^{0\\alpha}a_{1\\alpha}a_{1\\beta}\n",
      " + 0.001606513810667511 * a^{0\\alpha}a^{0\\beta}a_{1\\beta}a_{1\\alpha}a^{1\\alpha}a^{1\\beta}a_{1\\beta}a_{1\\alpha}a^{1\\alpha}a^{1\\beta}a_{0\\beta}a_{0\\alpha}\n",
      " + 0.001606513810667511 * a^{0\\alpha}a^{0\\beta}a_{1\\beta}a_{1\\alpha}a^{1\\alpha}a^{1\\beta}a_{1\\beta}a_{1\\alpha}a^{1\\beta}a^{1\\alpha}a_{0\\alpha}a_{0\\beta}\n",
      " + -0.0015493573969046568 * a^{0\\alpha}a^{0\\beta}a_{1\\beta}a_{1\\alpha}a^{1\\beta}a^{1\\alpha}a_{0\\alpha}a_{0\\beta}a^{0\\alpha}a^{0\\beta}a_{0\\beta}a_{0\\alpha}\n",
      " + -2.465750056309474e-19 * a^{0\\alpha}a^{0\\beta}a_{1\\beta}a_{1\\alpha}a^{1\\beta}a^{1\\alpha}a_{0\\alpha}a_{0\\beta}a^{0\\alpha}a^{0\\beta}a_{0\\beta}a_{1\\alpha}\n",
      " + -1.9726000450475795e-19 * a^{0\\alpha}a^{0\\beta}a_{1\\beta}a_{1\\alpha}a^{1\\beta}a^{1\\alpha}a_{0\\alpha}a_{0\\beta}a^{0\\alpha}a^{0\\beta}a_{1\\beta}a_{0\\alpha}\n",
      " + -0.00044424211444781285 * a^{0\\alpha}a^{0\\beta}a_{1\\beta}a_{1\\alpha}a^{1\\beta}a^{1\\alpha}a_{0\\alpha}a_{0\\beta}a^{0\\alpha}a^{0\\beta}a_{1\\beta}a_{1\\alpha}\n",
      " + -0.0015493573969046568 * a^{0\\alpha}a^{0\\beta}a_{1\\beta}a_{1\\alpha}a^{1\\beta}a^{1\\alpha}a_{0\\alpha}a_{0\\beta}a^{0\\beta}a^{0\\alpha}a_{0\\alpha}a_{0\\beta}\n",
      " + -2.465750056309474e-19 * a^{0\\alpha}a^{0\\beta}a_{1\\beta}a_{1\\alpha}a^{1\\beta}a^{1\\alpha}a_{0\\alpha}a_{0\\beta}a^{0\\beta}a^{0\\alpha}a_{0\\alpha}a_{1\\beta}\n",
      " + -1.9726000450475795e-19 * a^{0\\alpha}a^{0\\beta}a_{1\\beta}a_{1\\alpha}a^{1\\beta}a^{1\\alpha}a_{0\\alpha}a_{0\\beta}a^{0\\beta}a^{0\\alpha}a_{1\\alpha}a_{0\\beta}\n",
      " + -0.00044424211444781285 * a^{0\\alpha}a^{0\\beta}a_{1\\beta}a_{1\\alpha}a^{1\\beta}a^{1\\alpha}a_{0\\alpha}a_{0\\beta}a^{0\\beta}a^{0\\alpha}a_{1\\alpha}a_{1\\beta}\n",
      " + 0.001606513810667511 * a^{0\\alpha}a^{0\\beta}a_{1\\beta}a_{1\\alpha}a^{1\\beta}a^{1\\alpha}a_{1\\alpha}a_{1\\beta}a^{1\\alpha}a^{1\\beta}a_{0\\beta}a_{0\\alpha}\n",
      " + 0.001606513810667511 * a^{0\\alpha}a^{0\\beta}a_{1\\beta}a_{1\\alpha}a^{1\\beta}a^{1\\alpha}a_{1\\alpha}a_{1\\beta}a^{1\\beta}a^{1\\alpha}a_{0\\alpha}a_{0\\beta}\n",
      " + 3.057866338372144e-05 * a^{0\\alpha}a^{0\\beta}a_{1\\beta}a_{1\\alpha}a^{1\\alpha}a^{1\\beta}a_{0\\beta}a_{0\\alpha}a^{0\\alpha}a^{0\\beta}a_{1\\beta}a_{1\\alpha}a^{1\\alpha}a^{1\\beta}a_{0\\beta}a_{0\\alpha}\n",
      " + 3.057866338372144e-05 * a^{0\\alpha}a^{0\\beta}a_{1\\beta}a_{1\\alpha}a^{1\\alpha}a^{1\\beta}a_{0\\beta}a_{0\\alpha}a^{0\\alpha}a^{0\\beta}a_{1\\beta}a_{1\\alpha}a^{1\\beta}a^{1\\alpha}a_{0\\alpha}a_{0\\beta}\n",
      " + 3.057866338372144e-05 * a^{0\\alpha}a^{0\\beta}a_{1\\beta}a_{1\\alpha}a^{1\\alpha}a^{1\\beta}a_{0\\beta}a_{0\\alpha}a^{0\\beta}a^{0\\alpha}a_{1\\alpha}a_{1\\beta}a^{1\\alpha}a^{1\\beta}a_{0\\beta}a_{0\\alpha}\n",
      " + 3.057866338372144e-05 * a^{0\\alpha}a^{0\\beta}a_{1\\beta}a_{1\\alpha}a^{1\\alpha}a^{1\\beta}a_{0\\beta}a_{0\\alpha}a^{0\\beta}a^{0\\alpha}a_{1\\alpha}a_{1\\beta}a^{1\\beta}a^{1\\alpha}a_{0\\alpha}a_{0\\beta}\n",
      " + 3.057866338372144e-05 * a^{0\\alpha}a^{0\\beta}a_{1\\beta}a_{1\\alpha}a^{1\\beta}a^{1\\alpha}a_{0\\alpha}a_{0\\beta}a^{0\\alpha}a^{0\\beta}a_{1\\beta}a_{1\\alpha}a^{1\\alpha}a^{1\\beta}a_{0\\beta}a_{0\\alpha}\n",
      " + 3.057866338372144e-05 * a^{0\\alpha}a^{0\\beta}a_{1\\beta}a_{1\\alpha}a^{1\\beta}a^{1\\alpha}a_{0\\alpha}a_{0\\beta}a^{0\\alpha}a^{0\\beta}a_{1\\beta}a_{1\\alpha}a^{1\\beta}a^{1\\alpha}a_{0\\alpha}a_{0\\beta}\n",
      " + 3.057866338372144e-05 * a^{0\\alpha}a^{0\\beta}a_{1\\beta}a_{1\\alpha}a^{1\\beta}a^{1\\alpha}a_{0\\alpha}a_{0\\beta}a^{0\\beta}a^{0\\alpha}a_{1\\alpha}a_{1\\beta}a^{1\\alpha}a^{1\\beta}a_{0\\beta}a_{0\\alpha}\n",
      " + 3.057866338372144e-05 * a^{0\\alpha}a^{0\\beta}a_{1\\beta}a_{1\\alpha}a^{1\\beta}a^{1\\alpha}a_{0\\alpha}a_{0\\beta}a^{0\\beta}a^{0\\alpha}a_{1\\alpha}a_{1\\beta}a^{1\\beta}a^{1\\alpha}a_{0\\alpha}a_{0\\beta}\n"
     ]
    }
   ],
   "metadata": {}
  },
  {
   "cell_type": "code",
   "execution_count": 77,
   "source": [
    "#print(getPositionsForMultipleContraction(newprojected.summandList[42], 8))\n",
    "#print(sumNFoldContractions(newprojected.summandList[42], 8))"
   ],
   "outputs": [],
   "metadata": {
    "tags": []
   }
  },
  {
   "cell_type": "code",
   "execution_count": 185,
   "source": [
    "projectedAmplitudeEquation = vacuumExpectationValue(projected, vacuum, printing=True)\n",
    "print(projectedAmplitudeEquation)"
   ],
   "outputs": [
    {
     "output_type": "stream",
     "name": "stdout",
     "text": [
      "-0.006453881079145487 * a^{0\\alpha}a^{0\\beta}a_{1\\beta}a_{1\\alpha}a^{1\\alpha}a^{1\\beta}a_{0\\beta}a_{0\\alpha}\n",
      "-0.006453881079145487 * a^{0\\alpha}a^{0\\beta}a_{1\\beta}a_{1\\alpha}a^{1\\beta}a^{1\\alpha}a_{0\\alpha}a_{0\\beta}\n",
      "-0.006453881079145487 * a^{0\\beta}a^{0\\alpha}a_{1\\alpha}a_{1\\beta}a^{1\\alpha}a^{1\\beta}a_{0\\beta}a_{0\\alpha}\n",
      "-0.006453881079145487 * a^{0\\beta}a^{0\\alpha}a_{1\\alpha}a_{1\\beta}a^{1\\beta}a^{1\\alpha}a_{0\\alpha}a_{0\\beta}\n",
      "0.005637544530698165 * a^{0\\alpha}a^{0\\beta}a_{1\\beta}a_{1\\alpha}a^{1\\alpha}a^{1\\beta}a_{0\\beta}a_{0\\alpha}a^{0\\alpha}a_{0\\alpha}\n",
      "0.005637544530698165 * a^{0\\alpha}a^{0\\beta}a_{1\\beta}a_{1\\alpha}a^{1\\alpha}a^{1\\beta}a_{0\\beta}a_{0\\alpha}a^{0\\beta}a_{0\\beta}\n",
      "-0.0025289177328457874 * a^{0\\alpha}a^{0\\beta}a_{1\\beta}a_{1\\alpha}a^{1\\alpha}a_{1\\alpha}a^{1\\alpha}a^{1\\beta}a_{0\\beta}a_{0\\alpha}\n",
      "-0.0025289177328457874 * a^{0\\alpha}a^{0\\beta}a_{1\\beta}a_{1\\alpha}a^{1\\alpha}a_{1\\alpha}a^{1\\beta}a^{1\\alpha}a_{0\\alpha}a_{0\\beta}\n",
      "0.005637544530698165 * a^{0\\alpha}a^{0\\beta}a_{1\\beta}a_{1\\alpha}a^{1\\beta}a^{1\\alpha}a_{0\\alpha}a_{0\\beta}a^{0\\alpha}a_{0\\alpha}\n",
      "0.005637544530698165 * a^{0\\alpha}a^{0\\beta}a_{1\\beta}a_{1\\alpha}a^{1\\beta}a^{1\\alpha}a_{0\\alpha}a_{0\\beta}a^{0\\beta}a_{0\\beta}\n",
      "-0.0025289177328457874 * a^{0\\alpha}a^{0\\beta}a_{1\\beta}a_{1\\alpha}a^{1\\beta}a_{1\\beta}a^{1\\alpha}a^{1\\beta}a_{0\\beta}a_{0\\alpha}\n",
      "-0.0025289177328457874 * a^{0\\alpha}a^{0\\beta}a_{1\\beta}a_{1\\alpha}a^{1\\beta}a_{1\\beta}a^{1\\beta}a^{1\\alpha}a_{0\\alpha}a_{0\\beta}\n",
      "0.005637544530698165 * a^{0\\beta}a^{0\\alpha}a_{1\\alpha}a_{1\\beta}a^{1\\alpha}a^{1\\beta}a_{0\\beta}a_{0\\alpha}a^{0\\alpha}a_{0\\alpha}\n",
      "0.005637544530698165 * a^{0\\beta}a^{0\\alpha}a_{1\\alpha}a_{1\\beta}a^{1\\alpha}a^{1\\beta}a_{0\\beta}a_{0\\alpha}a^{0\\beta}a_{0\\beta}\n",
      "-0.0025289177328457874 * a^{0\\beta}a^{0\\alpha}a_{1\\alpha}a_{1\\beta}a^{1\\alpha}a_{1\\alpha}a^{1\\alpha}a^{1\\beta}a_{0\\beta}a_{0\\alpha}\n",
      "-0.0025289177328457874 * a^{0\\beta}a^{0\\alpha}a_{1\\alpha}a_{1\\beta}a^{1\\alpha}a_{1\\alpha}a^{1\\beta}a^{1\\alpha}a_{0\\alpha}a_{0\\beta}\n",
      "0.005637544530698165 * a^{0\\beta}a^{0\\alpha}a_{1\\alpha}a_{1\\beta}a^{1\\beta}a^{1\\alpha}a_{0\\alpha}a_{0\\beta}a^{0\\alpha}a_{0\\alpha}\n",
      "0.005637544530698165 * a^{0\\beta}a^{0\\alpha}a_{1\\alpha}a_{1\\beta}a^{1\\beta}a^{1\\alpha}a_{0\\alpha}a_{0\\beta}a^{0\\beta}a_{0\\beta}\n",
      "-0.0025289177328457874 * a^{0\\beta}a^{0\\alpha}a_{1\\alpha}a_{1\\beta}a^{1\\beta}a_{1\\beta}a^{1\\alpha}a^{1\\beta}a_{0\\beta}a_{0\\alpha}\n",
      "-0.0025289177328457874 * a^{0\\beta}a^{0\\alpha}a_{1\\alpha}a_{1\\beta}a^{1\\beta}a_{1\\beta}a^{1\\beta}a^{1\\alpha}a_{0\\alpha}a_{0\\beta}\n",
      "-0.0015493574092883809 * a^{0\\alpha}a^{0\\beta}a_{1\\beta}a_{1\\alpha}a^{1\\alpha}a^{1\\beta}a_{0\\beta}a_{0\\alpha}a^{0\\alpha}a^{0\\beta}a_{0\\beta}a_{0\\alpha}\n",
      "-0.0015493574092883809 * a^{0\\alpha}a^{0\\beta}a_{1\\beta}a_{1\\alpha}a^{1\\alpha}a^{1\\beta}a_{0\\beta}a_{0\\alpha}a^{0\\beta}a^{0\\alpha}a_{0\\alpha}a_{0\\beta}\n",
      "0.001606513823508076 * a^{0\\alpha}a^{0\\beta}a_{1\\beta}a_{1\\alpha}a^{1\\alpha}a^{1\\beta}a_{1\\beta}a_{1\\alpha}a^{1\\alpha}a^{1\\beta}a_{0\\beta}a_{0\\alpha}\n",
      "0.001606513823508076 * a^{0\\alpha}a^{0\\beta}a_{1\\beta}a_{1\\alpha}a^{1\\alpha}a^{1\\beta}a_{1\\beta}a_{1\\alpha}a^{1\\beta}a^{1\\alpha}a_{0\\alpha}a_{0\\beta}\n",
      "-0.0015493574092883809 * a^{0\\alpha}a^{0\\beta}a_{1\\beta}a_{1\\alpha}a^{1\\beta}a^{1\\alpha}a_{0\\alpha}a_{0\\beta}a^{0\\alpha}a^{0\\beta}a_{0\\beta}a_{0\\alpha}\n",
      "-0.0015493574092883809 * a^{0\\alpha}a^{0\\beta}a_{1\\beta}a_{1\\alpha}a^{1\\beta}a^{1\\alpha}a_{0\\alpha}a_{0\\beta}a^{0\\beta}a^{0\\alpha}a_{0\\alpha}a_{0\\beta}\n",
      "0.001606513823508076 * a^{0\\alpha}a^{0\\beta}a_{1\\beta}a_{1\\alpha}a^{1\\beta}a^{1\\alpha}a_{1\\alpha}a_{1\\beta}a^{1\\alpha}a^{1\\beta}a_{0\\beta}a_{0\\alpha}\n",
      "0.001606513823508076 * a^{0\\alpha}a^{0\\beta}a_{1\\beta}a_{1\\alpha}a^{1\\beta}a^{1\\alpha}a_{1\\alpha}a_{1\\beta}a^{1\\beta}a^{1\\alpha}a_{0\\alpha}a_{0\\beta}\n",
      "-0.0015493574092883809 * a^{0\\beta}a^{0\\alpha}a_{1\\alpha}a_{1\\beta}a^{1\\alpha}a^{1\\beta}a_{0\\beta}a_{0\\alpha}a^{0\\alpha}a^{0\\beta}a_{0\\beta}a_{0\\alpha}\n",
      "-0.0015493574092883809 * a^{0\\beta}a^{0\\alpha}a_{1\\alpha}a_{1\\beta}a^{1\\alpha}a^{1\\beta}a_{0\\beta}a_{0\\alpha}a^{0\\beta}a^{0\\alpha}a_{0\\alpha}a_{0\\beta}\n",
      "0.001606513823508076 * a^{0\\beta}a^{0\\alpha}a_{1\\alpha}a_{1\\beta}a^{1\\alpha}a^{1\\beta}a_{1\\beta}a_{1\\alpha}a^{1\\alpha}a^{1\\beta}a_{0\\beta}a_{0\\alpha}\n",
      "0.001606513823508076 * a^{0\\beta}a^{0\\alpha}a_{1\\alpha}a_{1\\beta}a^{1\\alpha}a^{1\\beta}a_{1\\beta}a_{1\\alpha}a^{1\\beta}a^{1\\alpha}a_{0\\alpha}a_{0\\beta}\n",
      "-0.0015493574092883809 * a^{0\\beta}a^{0\\alpha}a_{1\\alpha}a_{1\\beta}a^{1\\beta}a^{1\\alpha}a_{0\\alpha}a_{0\\beta}a^{0\\alpha}a^{0\\beta}a_{0\\beta}a_{0\\alpha}\n",
      "-0.0015493574092883809 * a^{0\\beta}a^{0\\alpha}a_{1\\alpha}a_{1\\beta}a^{1\\beta}a^{1\\alpha}a_{0\\alpha}a_{0\\beta}a^{0\\beta}a^{0\\alpha}a_{0\\alpha}a_{0\\beta}\n",
      "0.001606513823508076 * a^{0\\beta}a^{0\\alpha}a_{1\\alpha}a_{1\\beta}a^{1\\beta}a^{1\\alpha}a_{1\\alpha}a_{1\\beta}a^{1\\alpha}a^{1\\beta}a_{0\\beta}a_{0\\alpha}\n",
      "0.001606513823508076 * a^{0\\beta}a^{0\\alpha}a_{1\\alpha}a_{1\\beta}a^{1\\beta}a^{1\\alpha}a_{1\\alpha}a_{1\\beta}a^{1\\beta}a^{1\\alpha}a_{0\\alpha}a_{0\\beta}\n",
      "3.057866375033575e-05 * a^{0\\alpha}a^{0\\beta}a_{1\\beta}a_{1\\alpha}a^{1\\alpha}a^{1\\beta}a_{0\\beta}a_{0\\alpha}a^{0\\alpha}a^{0\\beta}a_{1\\beta}a_{1\\alpha}a^{1\\alpha}a^{1\\beta}a_{0\\beta}a_{0\\alpha}\n",
      "3.057866375033575e-05 * a^{0\\alpha}a^{0\\beta}a_{1\\beta}a_{1\\alpha}a^{1\\alpha}a^{1\\beta}a_{0\\beta}a_{0\\alpha}a^{0\\alpha}a^{0\\beta}a_{1\\beta}a_{1\\alpha}a^{1\\beta}a^{1\\alpha}a_{0\\alpha}a_{0\\beta}\n",
      "3.057866375033575e-05 * a^{0\\alpha}a^{0\\beta}a_{1\\beta}a_{1\\alpha}a^{1\\alpha}a^{1\\beta}a_{0\\beta}a_{0\\alpha}a^{0\\beta}a^{0\\alpha}a_{1\\alpha}a_{1\\beta}a^{1\\alpha}a^{1\\beta}a_{0\\beta}a_{0\\alpha}\n",
      "3.057866375033575e-05 * a^{0\\alpha}a^{0\\beta}a_{1\\beta}a_{1\\alpha}a^{1\\alpha}a^{1\\beta}a_{0\\beta}a_{0\\alpha}a^{0\\beta}a^{0\\alpha}a_{1\\alpha}a_{1\\beta}a^{1\\beta}a^{1\\alpha}a_{0\\alpha}a_{0\\beta}\n",
      "3.057866375033575e-05 * a^{0\\alpha}a^{0\\beta}a_{1\\beta}a_{1\\alpha}a^{1\\beta}a^{1\\alpha}a_{0\\alpha}a_{0\\beta}a^{0\\alpha}a^{0\\beta}a_{1\\beta}a_{1\\alpha}a^{1\\alpha}a^{1\\beta}a_{0\\beta}a_{0\\alpha}\n",
      "3.057866375033575e-05 * a^{0\\alpha}a^{0\\beta}a_{1\\beta}a_{1\\alpha}a^{1\\beta}a^{1\\alpha}a_{0\\alpha}a_{0\\beta}a^{0\\alpha}a^{0\\beta}a_{1\\beta}a_{1\\alpha}a^{1\\beta}a^{1\\alpha}a_{0\\alpha}a_{0\\beta}\n",
      "3.057866375033575e-05 * a^{0\\alpha}a^{0\\beta}a_{1\\beta}a_{1\\alpha}a^{1\\beta}a^{1\\alpha}a_{0\\alpha}a_{0\\beta}a^{0\\beta}a^{0\\alpha}a_{1\\alpha}a_{1\\beta}a^{1\\alpha}a^{1\\beta}a_{0\\beta}a_{0\\alpha}\n",
      "3.057866375033575e-05 * a^{0\\alpha}a^{0\\beta}a_{1\\beta}a_{1\\alpha}a^{1\\beta}a^{1\\alpha}a_{0\\alpha}a_{0\\beta}a^{0\\beta}a^{0\\alpha}a_{1\\alpha}a_{1\\beta}a^{1\\beta}a^{1\\alpha}a_{0\\alpha}a_{0\\beta}\n",
      "3.057866375033575e-05 * a^{0\\beta}a^{0\\alpha}a_{1\\alpha}a_{1\\beta}a^{1\\alpha}a^{1\\beta}a_{0\\beta}a_{0\\alpha}a^{0\\alpha}a^{0\\beta}a_{1\\beta}a_{1\\alpha}a^{1\\alpha}a^{1\\beta}a_{0\\beta}a_{0\\alpha}\n",
      "3.057866375033575e-05 * a^{0\\beta}a^{0\\alpha}a_{1\\alpha}a_{1\\beta}a^{1\\alpha}a^{1\\beta}a_{0\\beta}a_{0\\alpha}a^{0\\alpha}a^{0\\beta}a_{1\\beta}a_{1\\alpha}a^{1\\beta}a^{1\\alpha}a_{0\\alpha}a_{0\\beta}\n",
      "3.057866375033575e-05 * a^{0\\beta}a^{0\\alpha}a_{1\\alpha}a_{1\\beta}a^{1\\alpha}a^{1\\beta}a_{0\\beta}a_{0\\alpha}a^{0\\beta}a^{0\\alpha}a_{1\\alpha}a_{1\\beta}a^{1\\alpha}a^{1\\beta}a_{0\\beta}a_{0\\alpha}\n",
      "3.057866375033575e-05 * a^{0\\beta}a^{0\\alpha}a_{1\\alpha}a_{1\\beta}a^{1\\alpha}a^{1\\beta}a_{0\\beta}a_{0\\alpha}a^{0\\beta}a^{0\\alpha}a_{1\\alpha}a_{1\\beta}a^{1\\beta}a^{1\\alpha}a_{0\\alpha}a_{0\\beta}\n",
      "3.057866375033575e-05 * a^{0\\beta}a^{0\\alpha}a_{1\\alpha}a_{1\\beta}a^{1\\beta}a^{1\\alpha}a_{0\\alpha}a_{0\\beta}a^{0\\alpha}a^{0\\beta}a_{1\\beta}a_{1\\alpha}a^{1\\alpha}a^{1\\beta}a_{0\\beta}a_{0\\alpha}\n",
      "3.057866375033575e-05 * a^{0\\beta}a^{0\\alpha}a_{1\\alpha}a_{1\\beta}a^{1\\beta}a^{1\\alpha}a_{0\\alpha}a_{0\\beta}a^{0\\alpha}a^{0\\beta}a_{1\\beta}a_{1\\alpha}a^{1\\beta}a^{1\\alpha}a_{0\\alpha}a_{0\\beta}\n",
      "3.057866375033575e-05 * a^{0\\beta}a^{0\\alpha}a_{1\\alpha}a_{1\\beta}a^{1\\beta}a^{1\\alpha}a_{0\\alpha}a_{0\\beta}a^{0\\beta}a^{0\\alpha}a_{1\\alpha}a_{1\\beta}a^{1\\alpha}a^{1\\beta}a_{0\\beta}a_{0\\alpha}\n",
      "3.057866375033575e-05 * a^{0\\beta}a^{0\\alpha}a_{1\\alpha}a_{1\\beta}a^{1\\beta}a^{1\\alpha}a_{0\\alpha}a_{0\\beta}a^{0\\beta}a^{0\\alpha}a_{1\\alpha}a_{1\\beta}a^{1\\beta}a^{1\\alpha}a_{0\\alpha}a_{0\\beta}\n",
      "1.3552527156068805e-20\n"
     ]
    }
   ],
   "metadata": {
    "tags": []
   }
  },
  {
   "cell_type": "code",
   "execution_count": 186,
   "source": [
    "newprojectedAmplitudeEquation = vacuumExpectationValue(newprojected, vacuum, printing=True)\n",
    "print(newprojectedAmplitudeEquation)"
   ],
   "outputs": [
    {
     "output_type": "stream",
     "name": "stdout",
     "text": [
      "-0.006453881053353154 * a^{0\\alpha}a^{0\\beta}a_{1\\beta}a_{1\\alpha}a^{1\\alpha}a^{1\\beta}a_{0\\beta}a_{0\\alpha}\n",
      "-0.006453881053353154 * a^{0\\alpha}a^{0\\beta}a_{1\\beta}a_{1\\alpha}a^{1\\beta}a^{1\\alpha}a_{0\\alpha}a_{0\\beta}\n",
      "0.005637544485638325 * a^{0\\alpha}a^{0\\beta}a_{1\\beta}a_{1\\alpha}a^{1\\alpha}a^{1\\beta}a_{0\\beta}a_{0\\alpha}a^{0\\alpha}a_{0\\alpha}\n",
      "0.005637544485638325 * a^{0\\alpha}a^{0\\beta}a_{1\\beta}a_{1\\alpha}a^{1\\alpha}a^{1\\beta}a_{0\\beta}a_{0\\alpha}a^{0\\beta}a_{0\\beta}\n",
      "-0.0025289177126326208 * a^{0\\alpha}a^{0\\beta}a_{1\\beta}a_{1\\alpha}a^{1\\alpha}a_{1\\alpha}a^{1\\alpha}a^{1\\beta}a_{0\\beta}a_{0\\alpha}\n",
      "-0.0025289177126326208 * a^{0\\alpha}a^{0\\beta}a_{1\\beta}a_{1\\alpha}a^{1\\alpha}a_{1\\alpha}a^{1\\beta}a^{1\\alpha}a_{0\\alpha}a_{0\\beta}\n",
      "0.005637544485638325 * a^{0\\alpha}a^{0\\beta}a_{1\\beta}a_{1\\alpha}a^{1\\beta}a^{1\\alpha}a_{0\\alpha}a_{0\\beta}a^{0\\alpha}a_{0\\alpha}\n",
      "0.005637544485638325 * a^{0\\alpha}a^{0\\beta}a_{1\\beta}a_{1\\alpha}a^{1\\beta}a^{1\\alpha}a_{0\\alpha}a_{0\\beta}a^{0\\beta}a_{0\\beta}\n",
      "-0.0025289177126326208 * a^{0\\alpha}a^{0\\beta}a_{1\\beta}a_{1\\alpha}a^{1\\beta}a_{1\\beta}a^{1\\alpha}a^{1\\beta}a_{0\\beta}a_{0\\alpha}\n",
      "-0.0025289177126326208 * a^{0\\alpha}a^{0\\beta}a_{1\\beta}a_{1\\alpha}a^{1\\beta}a_{1\\beta}a^{1\\beta}a^{1\\alpha}a_{0\\alpha}a_{0\\beta}\n",
      "-0.0015493573969046568 * a^{0\\alpha}a^{0\\beta}a_{1\\beta}a_{1\\alpha}a^{1\\alpha}a^{1\\beta}a_{0\\beta}a_{0\\alpha}a^{0\\alpha}a^{0\\beta}a_{0\\beta}a_{0\\alpha}\n",
      "-0.0015493573969046568 * a^{0\\alpha}a^{0\\beta}a_{1\\beta}a_{1\\alpha}a^{1\\alpha}a^{1\\beta}a_{0\\beta}a_{0\\alpha}a^{0\\beta}a^{0\\alpha}a_{0\\alpha}a_{0\\beta}\n",
      "0.001606513810667511 * a^{0\\alpha}a^{0\\beta}a_{1\\beta}a_{1\\alpha}a^{1\\alpha}a^{1\\beta}a_{1\\beta}a_{1\\alpha}a^{1\\alpha}a^{1\\beta}a_{0\\beta}a_{0\\alpha}\n",
      "0.001606513810667511 * a^{0\\alpha}a^{0\\beta}a_{1\\beta}a_{1\\alpha}a^{1\\alpha}a^{1\\beta}a_{1\\beta}a_{1\\alpha}a^{1\\beta}a^{1\\alpha}a_{0\\alpha}a_{0\\beta}\n",
      "-0.0015493573969046568 * a^{0\\alpha}a^{0\\beta}a_{1\\beta}a_{1\\alpha}a^{1\\beta}a^{1\\alpha}a_{0\\alpha}a_{0\\beta}a^{0\\alpha}a^{0\\beta}a_{0\\beta}a_{0\\alpha}\n",
      "-0.0015493573969046568 * a^{0\\alpha}a^{0\\beta}a_{1\\beta}a_{1\\alpha}a^{1\\beta}a^{1\\alpha}a_{0\\alpha}a_{0\\beta}a^{0\\beta}a^{0\\alpha}a_{0\\alpha}a_{0\\beta}\n",
      "0.001606513810667511 * a^{0\\alpha}a^{0\\beta}a_{1\\beta}a_{1\\alpha}a^{1\\beta}a^{1\\alpha}a_{1\\alpha}a_{1\\beta}a^{1\\alpha}a^{1\\beta}a_{0\\beta}a_{0\\alpha}\n",
      "0.001606513810667511 * a^{0\\alpha}a^{0\\beta}a_{1\\beta}a_{1\\alpha}a^{1\\beta}a^{1\\alpha}a_{1\\alpha}a_{1\\beta}a^{1\\beta}a^{1\\alpha}a_{0\\alpha}a_{0\\beta}\n",
      "3.057866338372144e-05 * a^{0\\alpha}a^{0\\beta}a_{1\\beta}a_{1\\alpha}a^{1\\alpha}a^{1\\beta}a_{0\\beta}a_{0\\alpha}a^{0\\alpha}a^{0\\beta}a_{1\\beta}a_{1\\alpha}a^{1\\alpha}a^{1\\beta}a_{0\\beta}a_{0\\alpha}\n",
      "3.057866338372144e-05 * a^{0\\alpha}a^{0\\beta}a_{1\\beta}a_{1\\alpha}a^{1\\alpha}a^{1\\beta}a_{0\\beta}a_{0\\alpha}a^{0\\alpha}a^{0\\beta}a_{1\\beta}a_{1\\alpha}a^{1\\beta}a^{1\\alpha}a_{0\\alpha}a_{0\\beta}\n",
      "3.057866338372144e-05 * a^{0\\alpha}a^{0\\beta}a_{1\\beta}a_{1\\alpha}a^{1\\alpha}a^{1\\beta}a_{0\\beta}a_{0\\alpha}a^{0\\beta}a^{0\\alpha}a_{1\\alpha}a_{1\\beta}a^{1\\alpha}a^{1\\beta}a_{0\\beta}a_{0\\alpha}\n",
      "3.057866338372144e-05 * a^{0\\alpha}a^{0\\beta}a_{1\\beta}a_{1\\alpha}a^{1\\alpha}a^{1\\beta}a_{0\\beta}a_{0\\alpha}a^{0\\beta}a^{0\\alpha}a_{1\\alpha}a_{1\\beta}a^{1\\beta}a^{1\\alpha}a_{0\\alpha}a_{0\\beta}\n",
      "3.057866338372144e-05 * a^{0\\alpha}a^{0\\beta}a_{1\\beta}a_{1\\alpha}a^{1\\beta}a^{1\\alpha}a_{0\\alpha}a_{0\\beta}a^{0\\alpha}a^{0\\beta}a_{1\\beta}a_{1\\alpha}a^{1\\alpha}a^{1\\beta}a_{0\\beta}a_{0\\alpha}\n",
      "3.057866338372144e-05 * a^{0\\alpha}a^{0\\beta}a_{1\\beta}a_{1\\alpha}a^{1\\beta}a^{1\\alpha}a_{0\\alpha}a_{0\\beta}a^{0\\alpha}a^{0\\beta}a_{1\\beta}a_{1\\alpha}a^{1\\beta}a^{1\\alpha}a_{0\\alpha}a_{0\\beta}\n",
      "3.057866338372144e-05 * a^{0\\alpha}a^{0\\beta}a_{1\\beta}a_{1\\alpha}a^{1\\beta}a^{1\\alpha}a_{0\\alpha}a_{0\\beta}a^{0\\beta}a^{0\\alpha}a_{1\\alpha}a_{1\\beta}a^{1\\alpha}a^{1\\beta}a_{0\\beta}a_{0\\alpha}\n",
      "3.057866338372144e-05 * a^{0\\alpha}a^{0\\beta}a_{1\\beta}a_{1\\alpha}a^{1\\beta}a^{1\\alpha}a_{0\\alpha}a_{0\\beta}a^{0\\beta}a^{0\\alpha}a_{1\\alpha}a_{1\\beta}a^{1\\beta}a^{1\\alpha}a_{0\\alpha}a_{0\\beta}\n",
      "-5.256230352227234e-11\n"
     ]
    }
   ],
   "metadata": {}
  },
  {
   "cell_type": "code",
   "execution_count": 174,
   "source": [
    "hartreeFockElectronicEnergy = vacuumExpectationValue(hamiltonian, vacuum)\n",
    "hartreeFockEnergy = hartreeFockElectronicEnergy + mol.energy_nuc()\n",
    "print(hartreeFockEnergy)"
   ],
   "outputs": [
    {
     "output_type": "stream",
     "name": "stdout",
     "text": [
      "-1.1026388111917234\n"
     ]
    }
   ],
   "metadata": {}
  },
  {
   "cell_type": "code",
   "execution_count": 84,
   "source": [
    "cisolver.kernel()"
   ],
   "outputs": [
    {
     "output_type": "execute_result",
     "data": {
      "text/plain": [
       "(-1.1284543355083052,\n",
       " array([[ 9.90656547e-01,  2.77555756e-17],\n",
       "        [ 1.91460513e-17, -1.36380375e-01]]))"
      ]
     },
     "metadata": {},
     "execution_count": 84
    }
   ],
   "metadata": {}
  },
  {
   "cell_type": "code",
   "execution_count": 86,
   "source": [
    "vacuumExpectationValue((1. + (-1.) * clusterDoubles) * hamiltonian * (1. + clusterDoubles), vacuum)"
   ],
   "outputs": [
    {
     "output_type": "execute_result",
     "data": {
      "text/plain": [
       "-1.3506477640524959"
      ]
     },
     "metadata": {},
     "execution_count": 86
    }
   ],
   "metadata": {}
  },
  {
   "cell_type": "code",
   "execution_count": 87,
   "source": [
    "HT2 = hamiltonian * clusterDoubles\n",
    "HT2.checkNilpotency()\n",
    "print(HT2)"
   ],
   "outputs": [
    {
     "output_type": "stream",
     "name": "stdout",
     "text": [
      "0.0\n",
      " + -0.0 * a^{1\\alpha}a_{0\\alpha}\n",
      " + -0.0 * a^{1\\alpha}a_{1\\alpha}\n",
      " + -0.0 * a^{1\\beta}a_{0\\beta}\n",
      " + -0.0 * a^{1\\beta}a_{1\\beta}\n",
      " + -0.0 * a^{0\\alpha}a_{0\\alpha}\n",
      " + 0.0 * a^{0\\alpha}a_{1\\alpha}\n",
      " + -0.0 * a^{0\\beta}a_{0\\beta}\n",
      " + 0.0 * a^{0\\beta}a_{1\\beta}\n",
      " + 0.0 * a^{1\\alpha}a^{1\\beta}a_{0\\beta}a_{0\\alpha}\n",
      " + 0.0 * a^{1\\alpha}a^{1\\beta}a_{0\\beta}a_{1\\alpha}\n",
      " + 0.0 * a^{1\\alpha}a^{1\\beta}a_{1\\beta}a_{0\\alpha}\n",
      " + 0.0 * a^{1\\alpha}a^{1\\beta}a_{1\\beta}a_{1\\alpha}\n",
      " + 0.0 * a^{1\\alpha}a^{0\\alpha}a_{0\\alpha}a_{1\\alpha}\n",
      " + 0.0 * a^{1\\alpha}a^{0\\beta}a_{0\\beta}a_{0\\alpha}\n",
      " + 0.0 * a^{1\\alpha}a^{0\\beta}a_{0\\beta}a_{1\\alpha}\n",
      " + 0.0 * a^{1\\alpha}a^{0\\beta}a_{1\\beta}a_{1\\alpha}\n",
      " + 0.0 * a^{1\\beta}a^{1\\alpha}a_{0\\alpha}a_{0\\beta}\n",
      " + 0.0 * a^{1\\beta}a^{1\\alpha}a_{0\\alpha}a_{1\\beta}\n",
      " + 0.0 * a^{1\\beta}a^{1\\alpha}a_{1\\alpha}a_{0\\beta}\n",
      " + 0.0 * a^{1\\beta}a^{1\\alpha}a_{1\\alpha}a_{1\\beta}\n",
      " + 0.0 * a^{1\\beta}a^{0\\alpha}a_{0\\alpha}a_{0\\beta}\n",
      " + 0.0 * a^{1\\beta}a^{0\\alpha}a_{0\\alpha}a_{1\\beta}\n",
      " + 0.0 * a^{1\\beta}a^{0\\alpha}a_{1\\alpha}a_{1\\beta}\n",
      " + 0.0 * a^{1\\beta}a^{0\\beta}a_{0\\beta}a_{1\\beta}\n",
      " + 0.0 * a^{0\\alpha}a^{1\\alpha}a_{1\\alpha}a_{0\\alpha}\n",
      " + 0.0 * a^{0\\alpha}a^{1\\beta}a_{0\\beta}a_{0\\alpha}\n",
      " + 0.0 * a^{0\\alpha}a^{1\\beta}a_{1\\beta}a_{0\\alpha}\n",
      " + 0.0 * a^{0\\alpha}a^{1\\beta}a_{1\\beta}a_{1\\alpha}\n",
      " + 0.0 * a^{0\\alpha}a^{0\\beta}a_{0\\beta}a_{0\\alpha}\n",
      " + 0.0 * a^{0\\alpha}a^{0\\beta}a_{0\\beta}a_{1\\alpha}\n",
      " + 0.0 * a^{0\\alpha}a^{0\\beta}a_{1\\beta}a_{0\\alpha}\n",
      " + 0.0 * a^{0\\alpha}a^{0\\beta}a_{1\\beta}a_{1\\alpha}\n",
      " + 0.0 * a^{0\\beta}a^{1\\alpha}a_{0\\alpha}a_{0\\beta}\n",
      " + 0.0 * a^{0\\beta}a^{1\\alpha}a_{1\\alpha}a_{0\\beta}\n",
      " + 0.0 * a^{0\\beta}a^{1\\alpha}a_{1\\alpha}a_{1\\beta}\n",
      " + 0.0 * a^{0\\beta}a^{1\\beta}a_{1\\beta}a_{0\\beta}\n",
      " + 0.0 * a^{0\\beta}a^{0\\alpha}a_{0\\alpha}a_{0\\beta}\n",
      " + 0.0 * a^{0\\beta}a^{0\\alpha}a_{0\\alpha}a_{1\\beta}\n",
      " + 0.0 * a^{0\\beta}a^{0\\alpha}a_{1\\alpha}a_{0\\beta}\n",
      " + 0.0 * a^{0\\beta}a^{0\\alpha}a_{1\\alpha}a_{1\\beta}\n",
      " + -0.5337491016607854 * a^{1\\alpha}a_{1\\alpha}a^{1\\alpha}a^{1\\beta}a_{0\\beta}a_{0\\alpha}\n",
      " + -0.5337491016607854 * a^{1\\alpha}a_{1\\alpha}a^{1\\beta}a^{1\\alpha}a_{0\\alpha}a_{0\\beta}\n",
      " + -0.5337491016607854 * a^{1\\beta}a_{1\\beta}a^{1\\alpha}a^{1\\beta}a_{0\\beta}a_{0\\alpha}\n",
      " + -0.5337491016607854 * a^{1\\beta}a_{1\\beta}a^{1\\beta}a^{1\\alpha}a_{0\\alpha}a_{0\\beta}\n",
      " + 2.600212552842601e-17 * a^{0\\alpha}a_{1\\alpha}a^{1\\alpha}a^{1\\beta}a_{0\\beta}a_{0\\alpha}\n",
      " + 2.600212552842601e-17 * a^{0\\alpha}a_{1\\alpha}a^{1\\beta}a^{1\\alpha}a_{0\\alpha}a_{0\\beta}\n",
      " + 2.600212552842601e-17 * a^{0\\beta}a_{1\\beta}a^{1\\alpha}a^{1\\beta}a_{0\\beta}a_{0\\alpha}\n",
      " + 2.600212552842601e-17 * a^{0\\beta}a_{1\\beta}a^{1\\beta}a^{1\\alpha}a_{0\\alpha}a_{0\\beta}\n",
      " + 0.33906809184265285 * a^{1\\alpha}a^{1\\beta}a_{1\\beta}a_{1\\alpha}a^{1\\alpha}a^{1\\beta}a_{0\\beta}a_{0\\alpha}\n",
      " + 0.33906809184265285 * a^{1\\alpha}a^{1\\beta}a_{1\\beta}a_{1\\alpha}a^{1\\beta}a^{1\\alpha}a_{0\\alpha}a_{0\\beta}\n",
      " + 6.938893903907228e-17 * a^{1\\alpha}a^{0\\beta}a_{1\\beta}a_{1\\alpha}a^{1\\alpha}a^{1\\beta}a_{0\\beta}a_{0\\alpha}\n",
      " + 6.938893903907228e-17 * a^{1\\alpha}a^{0\\beta}a_{1\\beta}a_{1\\alpha}a^{1\\beta}a^{1\\alpha}a_{0\\alpha}a_{0\\beta}\n",
      " + 0.33906809184265285 * a^{1\\beta}a^{1\\alpha}a_{1\\alpha}a_{1\\beta}a^{1\\alpha}a^{1\\beta}a_{0\\beta}a_{0\\alpha}\n",
      " + 0.33906809184265285 * a^{1\\beta}a^{1\\alpha}a_{1\\alpha}a_{1\\beta}a^{1\\beta}a^{1\\alpha}a_{0\\alpha}a_{0\\beta}\n",
      " + 6.938893903907228e-17 * a^{1\\beta}a^{0\\alpha}a_{1\\alpha}a_{1\\beta}a^{1\\alpha}a^{1\\beta}a_{0\\beta}a_{0\\alpha}\n",
      " + 6.938893903907228e-17 * a^{1\\beta}a^{0\\alpha}a_{1\\alpha}a_{1\\beta}a^{1\\beta}a^{1\\alpha}a_{0\\alpha}a_{0\\beta}\n",
      " + 2.7755575615628914e-17 * a^{0\\alpha}a^{1\\beta}a_{1\\beta}a_{1\\alpha}a^{1\\alpha}a^{1\\beta}a_{0\\beta}a_{0\\alpha}\n",
      " + 2.7755575615628914e-17 * a^{0\\alpha}a^{1\\beta}a_{1\\beta}a_{1\\alpha}a^{1\\beta}a^{1\\alpha}a_{0\\alpha}a_{0\\beta}\n",
      " + 0.09376099045135429 * a^{0\\alpha}a^{0\\beta}a_{1\\beta}a_{1\\alpha}a^{1\\alpha}a^{1\\beta}a_{0\\beta}a_{0\\alpha}\n",
      " + 0.09376099045135429 * a^{0\\alpha}a^{0\\beta}a_{1\\beta}a_{1\\alpha}a^{1\\beta}a^{1\\alpha}a_{0\\alpha}a_{0\\beta}\n",
      " + 2.7755575615628914e-17 * a^{0\\beta}a^{1\\alpha}a_{1\\alpha}a_{1\\beta}a^{1\\alpha}a^{1\\beta}a_{0\\beta}a_{0\\alpha}\n",
      " + 2.7755575615628914e-17 * a^{0\\beta}a^{1\\alpha}a_{1\\alpha}a_{1\\beta}a^{1\\beta}a^{1\\alpha}a_{0\\alpha}a_{0\\beta}\n",
      " + 0.09376099045135429 * a^{0\\beta}a^{0\\alpha}a_{1\\alpha}a_{1\\beta}a^{1\\alpha}a^{1\\beta}a_{0\\beta}a_{0\\alpha}\n",
      " + 0.09376099045135429 * a^{0\\beta}a^{0\\alpha}a_{1\\alpha}a_{1\\beta}a^{1\\beta}a^{1\\alpha}a_{0\\alpha}a_{0\\beta}\n"
     ]
    }
   ],
   "metadata": {}
  },
  {
   "cell_type": "code",
   "execution_count": 89,
   "source": [
    "HT2CorrelationEnergy = vacuumExpectationValue(HT2, vacuum)"
   ],
   "outputs": [],
   "metadata": {}
  },
  {
   "cell_type": "code",
   "execution_count": 90,
   "source": [
    "print(HT2CorrelationEnergy)"
   ],
   "outputs": [
    {
     "output_type": "stream",
     "name": "stdout",
     "text": [
      "0.37504396180541716\n"
     ]
    }
   ],
   "metadata": {}
  },
  {
   "cell_type": "code",
   "execution_count": 91,
   "source": [
    "ECCD = hartreeFockElectronicEnergy + HT2CorrelationEnergy"
   ],
   "outputs": [],
   "metadata": {}
  },
  {
   "cell_type": "code",
   "execution_count": 92,
   "source": [
    "ECCD"
   ],
   "outputs": [
    {
     "output_type": "execute_result",
     "data": {
      "text/plain": [
       "-1.350647764052496"
      ]
     },
     "metadata": {},
     "execution_count": 92
    }
   ],
   "metadata": {}
  },
  {
   "cell_type": "code",
   "execution_count": 94,
   "source": [
    "vacuumExpectationValue(hamiltonian, vacuum)"
   ],
   "outputs": [
    {
     "output_type": "execute_result",
     "data": {
      "text/plain": [
       "-1.7256917258579132"
      ]
     },
     "metadata": {},
     "execution_count": 94
    }
   ],
   "metadata": {}
  },
  {
   "cell_type": "code",
   "execution_count": 95,
   "source": [
    "newenergyEquation + mol.energy_nuc()"
   ],
   "outputs": [
    {
     "output_type": "execute_result",
     "data": {
      "text/plain": [
       "-1.1284543354051362"
      ]
     },
     "metadata": {},
     "execution_count": 95
    }
   ],
   "metadata": {}
  },
  {
   "cell_type": "code",
   "execution_count": 96,
   "source": [
    "cisolver.kernel()"
   ],
   "outputs": [
    {
     "output_type": "execute_result",
     "data": {
      "text/plain": [
       "(-1.1284543355083052,\n",
       " array([[ 9.90656547e-01,  2.77555756e-17],\n",
       "        [ 1.91460513e-17, -1.36380375e-01]]))"
      ]
     },
     "metadata": {},
     "execution_count": 96
    }
   ],
   "metadata": {}
  },
  {
   "cell_type": "code",
   "execution_count": 97,
   "source": [
    "def contract2operators(o1, o2):\n",
    "    if o1.quasi_cre_ann:\n",
    "        return 0\n",
    "    elif o2.quasi_cre_ann and (o1.spin == o2.spin):\n",
    "        return int(o1.orbital == o2.orbital)\n",
    "    else:\n",
    "        return 0"
   ],
   "outputs": [],
   "metadata": {}
  },
  {
   "cell_type": "code",
   "execution_count": 98,
   "source": [
    "def recursiveFullContraction(operatorProduct_, vacuum):\n",
    "    operatorProduct_.applyFermiVacuum(vacuum)\n",
    "    operatorList_ = operatorProduct_.operatorList\n",
    "    if len(operatorList_) == 0:\n",
    "        result = operatorProduct_.prefactor\n",
    "    elif len(operatorList_) == 2:\n",
    "        result = operatorProduct_.prefactor * contract2operators(operatorList_[0], operatorList_[1])\n",
    "    elif len(operatorList_) % 2 == 0:\n",
    "        result = 0\n",
    "        for i in range(1, len(operatorList_) - 1):\n",
    "            if contract2operators(operatorList_[0], operatorList_[i]):\n",
    "                result += pow(-1, i-1) * recursiveFullContraction(operatorProduct(operatorList_[1:i] + operatorList_[i+1:], operatorProduct_.prefactor), vacuum)\n",
    "            else:\n",
    "                result += 0\n",
    "        if contract2operators(operatorList_[0], operatorList_[-1]):\n",
    "            result += recursiveFullContraction(operatorProduct(operatorList_[1:-1], operatorProduct_.prefactor), vacuum)\n",
    "        else:\n",
    "            result += 0\n",
    "    return result\n",
    "        \n"
   ],
   "outputs": [],
   "metadata": {}
  },
  {
   "cell_type": "code",
   "execution_count": 99,
   "source": [
    "print(newprojected.summandList[42])\n",
    "print(recursiveFullContraction(newprojected.summandList[42], vacuum))"
   ],
   "outputs": [
    {
     "output_type": "stream",
     "name": "stdout",
     "text": [
      "-1.9726000450475795e-19 * a^{0\\alpha}a^{0\\beta}a_{1\\beta}a_{1\\alpha}a^{1\\beta}a^{1\\alpha}a_{0\\alpha}a_{0\\beta}a^{0\\beta}a^{0\\alpha}a_{1\\alpha}a_{0\\beta}\n",
      "0.0\n"
     ]
    }
   ],
   "metadata": {}
  },
  {
   "cell_type": "code",
   "execution_count": 100,
   "source": [
    "recursivehartreeFockElectronicEnergy = 0\n",
    "for product in hamiltonian.summandList:\n",
    "    recursivehartreeFockElectronicEnergy += recursiveFullContraction(product, vacuum)\n",
    "recursivehartreeFockEnergy = recursivehartreeFockElectronicEnergy + mol.energy_nuc()\n",
    "print(recursivehartreeFockEnergy)"
   ],
   "outputs": [
    {
     "output_type": "stream",
     "name": "stdout",
     "text": [
      "-1.1026388111917234\n"
     ]
    }
   ],
   "metadata": {}
  },
  {
   "cell_type": "code",
   "execution_count": 101,
   "source": [
    "newprojected = newclusterDoubles.summandList[1].conjugate() * newbch\n",
    "newprojected.checkNilpotency()\n",
    "print(newprojected)"
   ],
   "outputs": [
    {
     "output_type": "stream",
     "name": "stdout",
     "text": [
      "0.0\n",
      " + -0.0 * a^{0\\alpha}a^{0\\beta}a_{1\\beta}a_{1\\alpha}\n",
      " + 3.2449653383791726e-18 * a^{0\\alpha}a^{0\\beta}a_{1\\beta}a_{1\\alpha}a^{1\\alpha}a_{0\\alpha}\n",
      " + 0.036739727234857224 * a^{0\\alpha}a^{0\\beta}a_{1\\beta}a_{1\\alpha}a^{1\\alpha}a_{1\\alpha}\n",
      " + 3.2449653383791726e-18 * a^{0\\alpha}a^{0\\beta}a_{1\\beta}a_{1\\alpha}a^{1\\beta}a_{0\\beta}\n",
      " + 0.036739727234857224 * a^{0\\alpha}a^{0\\beta}a_{1\\beta}a_{1\\alpha}a^{1\\beta}a_{1\\beta}\n",
      " + -0.006453881053353154 * a^{0\\alpha}a^{0\\beta}a_{1\\beta}a_{1\\alpha}a^{1\\alpha}a^{1\\beta}a_{0\\beta}a_{0\\alpha}\n",
      " + -4.7762716330187526e-18 * a^{0\\alpha}a^{0\\beta}a_{1\\beta}a_{1\\alpha}a^{1\\alpha}a^{1\\beta}a_{0\\beta}a_{1\\alpha}\n",
      " + -1.910508653207501e-18 * a^{0\\alpha}a^{0\\beta}a_{1\\beta}a_{1\\alpha}a^{1\\alpha}a^{1\\beta}a_{1\\beta}a_{0\\alpha}\n",
      " + -0.023339185339293696 * a^{0\\alpha}a^{0\\beta}a_{1\\beta}a_{1\\alpha}a^{1\\alpha}a^{1\\beta}a_{1\\beta}a_{1\\alpha}\n",
      " + -0.006453881053353154 * a^{0\\alpha}a^{0\\beta}a_{1\\beta}a_{1\\alpha}a^{1\\beta}a^{1\\alpha}a_{0\\alpha}a_{0\\beta}\n",
      " + -4.7762716330187526e-18 * a^{0\\alpha}a^{0\\beta}a_{1\\beta}a_{1\\alpha}a^{1\\beta}a^{1\\alpha}a_{0\\alpha}a_{1\\beta}\n",
      " + -1.910508653207501e-18 * a^{0\\alpha}a^{0\\beta}a_{1\\beta}a_{1\\alpha}a^{1\\beta}a^{1\\alpha}a_{1\\alpha}a_{0\\beta}\n",
      " + -0.023339185339293696 * a^{0\\alpha}a^{0\\beta}a_{1\\beta}a_{1\\alpha}a^{1\\beta}a^{1\\alpha}a_{1\\alpha}a_{1\\beta}\n",
      " + 0.005637544485638325 * a^{0\\alpha}a^{0\\beta}a_{1\\beta}a_{1\\alpha}a^{1\\alpha}a^{1\\beta}a_{0\\beta}a_{0\\alpha}a^{0\\alpha}a_{0\\alpha}\n",
      " + -1.231987756238402e-19 * a^{0\\alpha}a^{0\\beta}a_{1\\beta}a_{1\\alpha}a^{1\\alpha}a^{1\\beta}a_{0\\beta}a_{0\\alpha}a^{0\\alpha}a_{1\\alpha}\n",
      " + 0.005637544485638325 * a^{0\\alpha}a^{0\\beta}a_{1\\beta}a_{1\\alpha}a^{1\\alpha}a^{1\\beta}a_{0\\beta}a_{0\\alpha}a^{0\\beta}a_{0\\beta}\n",
      " + -1.231987756238402e-19 * a^{0\\alpha}a^{0\\beta}a_{1\\beta}a_{1\\alpha}a^{1\\alpha}a^{1\\beta}a_{0\\beta}a_{0\\alpha}a^{0\\beta}a_{1\\beta}\n",
      " + -0.0025289177126326208 * a^{0\\alpha}a^{0\\beta}a_{1\\beta}a_{1\\alpha}a^{1\\alpha}a_{1\\alpha}a^{1\\alpha}a^{1\\beta}a_{0\\beta}a_{0\\alpha}\n",
      " + -0.0025289177126326208 * a^{0\\alpha}a^{0\\beta}a_{1\\beta}a_{1\\alpha}a^{1\\alpha}a_{1\\alpha}a^{1\\beta}a^{1\\alpha}a_{0\\alpha}a_{0\\beta}\n",
      " + 0.005637544485638325 * a^{0\\alpha}a^{0\\beta}a_{1\\beta}a_{1\\alpha}a^{1\\beta}a^{1\\alpha}a_{0\\alpha}a_{0\\beta}a^{0\\alpha}a_{0\\alpha}\n",
      " + -1.231987756238402e-19 * a^{0\\alpha}a^{0\\beta}a_{1\\beta}a_{1\\alpha}a^{1\\beta}a^{1\\alpha}a_{0\\alpha}a_{0\\beta}a^{0\\alpha}a_{1\\alpha}\n",
      " + 0.005637544485638325 * a^{0\\alpha}a^{0\\beta}a_{1\\beta}a_{1\\alpha}a^{1\\beta}a^{1\\alpha}a_{0\\alpha}a_{0\\beta}a^{0\\beta}a_{0\\beta}\n",
      " + -1.231987756238402e-19 * a^{0\\alpha}a^{0\\beta}a_{1\\beta}a_{1\\alpha}a^{1\\beta}a^{1\\alpha}a_{0\\alpha}a_{0\\beta}a^{0\\beta}a_{1\\beta}\n",
      " + -0.0025289177126326208 * a^{0\\alpha}a^{0\\beta}a_{1\\beta}a_{1\\alpha}a^{1\\beta}a_{1\\beta}a^{1\\alpha}a^{1\\beta}a_{0\\beta}a_{0\\alpha}\n",
      " + -0.0025289177126326208 * a^{0\\alpha}a^{0\\beta}a_{1\\beta}a_{1\\alpha}a^{1\\beta}a_{1\\beta}a^{1\\beta}a^{1\\alpha}a_{0\\alpha}a_{0\\beta}\n",
      " + -0.0015493573969046568 * a^{0\\alpha}a^{0\\beta}a_{1\\beta}a_{1\\alpha}a^{1\\alpha}a^{1\\beta}a_{0\\beta}a_{0\\alpha}a^{0\\alpha}a^{0\\beta}a_{0\\beta}a_{0\\alpha}\n",
      " + -2.465750056309474e-19 * a^{0\\alpha}a^{0\\beta}a_{1\\beta}a_{1\\alpha}a^{1\\alpha}a^{1\\beta}a_{0\\beta}a_{0\\alpha}a^{0\\alpha}a^{0\\beta}a_{0\\beta}a_{1\\alpha}\n",
      " + -1.9726000450475795e-19 * a^{0\\alpha}a^{0\\beta}a_{1\\beta}a_{1\\alpha}a^{1\\alpha}a^{1\\beta}a_{0\\beta}a_{0\\alpha}a^{0\\alpha}a^{0\\beta}a_{1\\beta}a_{0\\alpha}\n",
      " + -0.00044424211444781285 * a^{0\\alpha}a^{0\\beta}a_{1\\beta}a_{1\\alpha}a^{1\\alpha}a^{1\\beta}a_{0\\beta}a_{0\\alpha}a^{0\\alpha}a^{0\\beta}a_{1\\beta}a_{1\\alpha}\n",
      " + -0.0015493573969046568 * a^{0\\alpha}a^{0\\beta}a_{1\\beta}a_{1\\alpha}a^{1\\alpha}a^{1\\beta}a_{0\\beta}a_{0\\alpha}a^{0\\beta}a^{0\\alpha}a_{0\\alpha}a_{0\\beta}\n",
      " + -2.465750056309474e-19 * a^{0\\alpha}a^{0\\beta}a_{1\\beta}a_{1\\alpha}a^{1\\alpha}a^{1\\beta}a_{0\\beta}a_{0\\alpha}a^{0\\beta}a^{0\\alpha}a_{0\\alpha}a_{1\\beta}\n",
      " + -1.9726000450475795e-19 * a^{0\\alpha}a^{0\\beta}a_{1\\beta}a_{1\\alpha}a^{1\\alpha}a^{1\\beta}a_{0\\beta}a_{0\\alpha}a^{0\\beta}a^{0\\alpha}a_{1\\alpha}a_{0\\beta}\n",
      " + -0.00044424211444781285 * a^{0\\alpha}a^{0\\beta}a_{1\\beta}a_{1\\alpha}a^{1\\alpha}a^{1\\beta}a_{0\\beta}a_{0\\alpha}a^{0\\beta}a^{0\\alpha}a_{1\\alpha}a_{1\\beta}\n",
      " + 0.001606513810667511 * a^{0\\alpha}a^{0\\beta}a_{1\\beta}a_{1\\alpha}a^{1\\alpha}a^{1\\beta}a_{1\\beta}a_{1\\alpha}a^{1\\alpha}a^{1\\beta}a_{0\\beta}a_{0\\alpha}\n",
      " + 0.001606513810667511 * a^{0\\alpha}a^{0\\beta}a_{1\\beta}a_{1\\alpha}a^{1\\alpha}a^{1\\beta}a_{1\\beta}a_{1\\alpha}a^{1\\beta}a^{1\\alpha}a_{0\\alpha}a_{0\\beta}\n",
      " + -0.0015493573969046568 * a^{0\\alpha}a^{0\\beta}a_{1\\beta}a_{1\\alpha}a^{1\\beta}a^{1\\alpha}a_{0\\alpha}a_{0\\beta}a^{0\\alpha}a^{0\\beta}a_{0\\beta}a_{0\\alpha}\n",
      " + -2.465750056309474e-19 * a^{0\\alpha}a^{0\\beta}a_{1\\beta}a_{1\\alpha}a^{1\\beta}a^{1\\alpha}a_{0\\alpha}a_{0\\beta}a^{0\\alpha}a^{0\\beta}a_{0\\beta}a_{1\\alpha}\n",
      " + -1.9726000450475795e-19 * a^{0\\alpha}a^{0\\beta}a_{1\\beta}a_{1\\alpha}a^{1\\beta}a^{1\\alpha}a_{0\\alpha}a_{0\\beta}a^{0\\alpha}a^{0\\beta}a_{1\\beta}a_{0\\alpha}\n",
      " + -0.00044424211444781285 * a^{0\\alpha}a^{0\\beta}a_{1\\beta}a_{1\\alpha}a^{1\\beta}a^{1\\alpha}a_{0\\alpha}a_{0\\beta}a^{0\\alpha}a^{0\\beta}a_{1\\beta}a_{1\\alpha}\n",
      " + -0.0015493573969046568 * a^{0\\alpha}a^{0\\beta}a_{1\\beta}a_{1\\alpha}a^{1\\beta}a^{1\\alpha}a_{0\\alpha}a_{0\\beta}a^{0\\beta}a^{0\\alpha}a_{0\\alpha}a_{0\\beta}\n",
      " + -2.465750056309474e-19 * a^{0\\alpha}a^{0\\beta}a_{1\\beta}a_{1\\alpha}a^{1\\beta}a^{1\\alpha}a_{0\\alpha}a_{0\\beta}a^{0\\beta}a^{0\\alpha}a_{0\\alpha}a_{1\\beta}\n",
      " + -1.9726000450475795e-19 * a^{0\\alpha}a^{0\\beta}a_{1\\beta}a_{1\\alpha}a^{1\\beta}a^{1\\alpha}a_{0\\alpha}a_{0\\beta}a^{0\\beta}a^{0\\alpha}a_{1\\alpha}a_{0\\beta}\n",
      " + -0.00044424211444781285 * a^{0\\alpha}a^{0\\beta}a_{1\\beta}a_{1\\alpha}a^{1\\beta}a^{1\\alpha}a_{0\\alpha}a_{0\\beta}a^{0\\beta}a^{0\\alpha}a_{1\\alpha}a_{1\\beta}\n",
      " + 0.001606513810667511 * a^{0\\alpha}a^{0\\beta}a_{1\\beta}a_{1\\alpha}a^{1\\beta}a^{1\\alpha}a_{1\\alpha}a_{1\\beta}a^{1\\alpha}a^{1\\beta}a_{0\\beta}a_{0\\alpha}\n",
      " + 0.001606513810667511 * a^{0\\alpha}a^{0\\beta}a_{1\\beta}a_{1\\alpha}a^{1\\beta}a^{1\\alpha}a_{1\\alpha}a_{1\\beta}a^{1\\beta}a^{1\\alpha}a_{0\\alpha}a_{0\\beta}\n",
      " + 3.057866338372144e-05 * a^{0\\alpha}a^{0\\beta}a_{1\\beta}a_{1\\alpha}a^{1\\alpha}a^{1\\beta}a_{0\\beta}a_{0\\alpha}a^{0\\alpha}a^{0\\beta}a_{1\\beta}a_{1\\alpha}a^{1\\alpha}a^{1\\beta}a_{0\\beta}a_{0\\alpha}\n",
      " + 3.057866338372144e-05 * a^{0\\alpha}a^{0\\beta}a_{1\\beta}a_{1\\alpha}a^{1\\alpha}a^{1\\beta}a_{0\\beta}a_{0\\alpha}a^{0\\alpha}a^{0\\beta}a_{1\\beta}a_{1\\alpha}a^{1\\beta}a^{1\\alpha}a_{0\\alpha}a_{0\\beta}\n",
      " + 3.057866338372144e-05 * a^{0\\alpha}a^{0\\beta}a_{1\\beta}a_{1\\alpha}a^{1\\alpha}a^{1\\beta}a_{0\\beta}a_{0\\alpha}a^{0\\beta}a^{0\\alpha}a_{1\\alpha}a_{1\\beta}a^{1\\alpha}a^{1\\beta}a_{0\\beta}a_{0\\alpha}\n",
      " + 3.057866338372144e-05 * a^{0\\alpha}a^{0\\beta}a_{1\\beta}a_{1\\alpha}a^{1\\alpha}a^{1\\beta}a_{0\\beta}a_{0\\alpha}a^{0\\beta}a^{0\\alpha}a_{1\\alpha}a_{1\\beta}a^{1\\beta}a^{1\\alpha}a_{0\\alpha}a_{0\\beta}\n",
      " + 3.057866338372144e-05 * a^{0\\alpha}a^{0\\beta}a_{1\\beta}a_{1\\alpha}a^{1\\beta}a^{1\\alpha}a_{0\\alpha}a_{0\\beta}a^{0\\alpha}a^{0\\beta}a_{1\\beta}a_{1\\alpha}a^{1\\alpha}a^{1\\beta}a_{0\\beta}a_{0\\alpha}\n",
      " + 3.057866338372144e-05 * a^{0\\alpha}a^{0\\beta}a_{1\\beta}a_{1\\alpha}a^{1\\beta}a^{1\\alpha}a_{0\\alpha}a_{0\\beta}a^{0\\alpha}a^{0\\beta}a_{1\\beta}a_{1\\alpha}a^{1\\beta}a^{1\\alpha}a_{0\\alpha}a_{0\\beta}\n",
      " + 3.057866338372144e-05 * a^{0\\alpha}a^{0\\beta}a_{1\\beta}a_{1\\alpha}a^{1\\beta}a^{1\\alpha}a_{0\\alpha}a_{0\\beta}a^{0\\beta}a^{0\\alpha}a_{1\\alpha}a_{1\\beta}a^{1\\alpha}a^{1\\beta}a_{0\\beta}a_{0\\alpha}\n",
      " + 3.057866338372144e-05 * a^{0\\alpha}a^{0\\beta}a_{1\\beta}a_{1\\alpha}a^{1\\beta}a^{1\\alpha}a_{0\\alpha}a_{0\\beta}a^{0\\beta}a^{0\\alpha}a_{1\\alpha}a_{1\\beta}a^{1\\beta}a^{1\\alpha}a_{0\\alpha}a_{0\\beta}\n"
     ]
    }
   ],
   "metadata": {}
  },
  {
   "cell_type": "code",
   "execution_count": 102,
   "source": [
    "recursiveFullContractedNewprojected = 0\n",
    "for product in newprojected.summandList:\n",
    "    recursiveFullContractedNewprojected += recursiveFullContraction(product, vacuum)\n",
    "print(recursiveFullContractedNewprojected)"
   ],
   "outputs": [
    {
     "output_type": "stream",
     "name": "stdout",
     "text": [
      "-5.256230352227234e-11\n"
     ]
    }
   ],
   "metadata": {}
  },
  {
   "cell_type": "code",
   "execution_count": 103,
   "source": [
    "print(newclusterDoubles)"
   ],
   "outputs": [
    {
     "output_type": "stream",
     "name": "stdout",
     "text": [
      "0.0\n",
      " + -0.06883332846938728 * a^{1\\alpha}a^{1\\beta}a_{0\\beta}a_{0\\alpha}\n",
      " + -0.06883332846938728 * a^{1\\beta}a^{1\\alpha}a_{0\\alpha}a_{0\\beta}\n",
      " + 0.0\n"
     ]
    }
   ],
   "metadata": {}
  },
  {
   "cell_type": "code",
   "execution_count": 104,
   "source": [
    "def getClusterDoubles(doublesAmplitudes_, Nocc_, Norbs_):\n",
    "    clusterDoubles = operatorSum([])\n",
    "    for a in range(Nocc_):\n",
    "        for b in range(Nocc_):\n",
    "            for k in range(Norbs_ - Nocc_):\n",
    "                r = k + Nocc_\n",
    "                for l in range(Norbs_ - Nocc_):\n",
    "                    s = l + Nocc_\n",
    "                    clusterDoubles = clusterDoubles + doublesAmplitudes_[a,b,k,l] * spinFreeDoubleExcitation(r, s, a, b)\n",
    "    clusterDoubles.checkNilpotency()\n",
    "    return clusterDoubles"
   ],
   "outputs": [],
   "metadata": {}
  },
  {
   "cell_type": "code",
   "execution_count": 105,
   "source": [
    "def getClusterSingles(singlesAmplitudes_, Nocc_, Norbs_):\n",
    "    clusterSingles = operatorSum([])\n",
    "    for a in range(Nocc_):\n",
    "        for k in range(Norbs_ - Nocc_):\n",
    "            r = k + Nocc_\n",
    "            clusterSingles = clusterSingles + singlesAmplitudes_[a,k] * spinFreeSingleExcitation(r, a)\n",
    "    clusterSingles.checkNilpotency()\n",
    "    return clusterSingles"
   ],
   "outputs": [],
   "metadata": {}
  },
  {
   "cell_type": "code",
   "execution_count": 106,
   "source": [
    "Nocc1 = 2\n",
    "Norbs1 = 4\n",
    "singlesAmplitudes1 = np.zeros((Nocc1, Norbs1-Nocc1))\n",
    "doublesAmplitudes1 = np.zeros((Nocc1, Nocc1, Norbs1-Nocc1, Norbs1-Nocc1))"
   ],
   "outputs": [],
   "metadata": {}
  },
  {
   "cell_type": "code",
   "execution_count": 107,
   "source": [
    "flatSinglesAmplitudes = []\n",
    "singlesExcitations1 = []\n",
    "for a in range(Nocc1):\n",
    "    for r in range(Nocc1, Norbs1):\n",
    "        print(a,r)\n",
    "        flatSinglesAmplitudes.append(0.)\n",
    "        singlesExcitations1.append(spinFreeSingleExcitation(r, a))"
   ],
   "outputs": [
    {
     "output_type": "stream",
     "name": "stdout",
     "text": [
      "0 2\n",
      "0 3\n",
      "1 2\n",
      "1 3\n"
     ]
    }
   ],
   "metadata": {}
  },
  {
   "cell_type": "code",
   "execution_count": 108,
   "source": [
    "flatDoublesAmplitudes = []\n",
    "doublesExcitations1 = []\n",
    "for a in range(Nocc1):\n",
    "    for b in range(Nocc1):\n",
    "        for r in range(Nocc1, Norbs1):\n",
    "            for s in range(Nocc1, Norbs1):\n",
    "                print(a,b,r,s)\n",
    "                flatDoublesAmplitudes.append(0.)\n",
    "                doublesExcitations1.append(spinFreeDoubleExcitation(r,s,a,b))"
   ],
   "outputs": [
    {
     "output_type": "stream",
     "name": "stdout",
     "text": [
      "0 0 2 2\n",
      "0 0 2 3\n",
      "0 0 3 2\n",
      "0 0 3 3\n",
      "0 1 2 2\n",
      "0 1 2 3\n",
      "0 1 3 2\n",
      "0 1 3 3\n",
      "1 0 2 2\n",
      "1 0 2 3\n",
      "1 0 3 2\n",
      "1 0 3 3\n",
      "1 1 2 2\n",
      "1 1 2 3\n",
      "1 1 3 2\n",
      "1 1 3 3\n"
     ]
    }
   ],
   "metadata": {}
  },
  {
   "cell_type": "code",
   "execution_count": 109,
   "source": [
    "import itertools"
   ],
   "outputs": [],
   "metadata": {}
  },
  {
   "cell_type": "code",
   "execution_count": 110,
   "source": [
    "def spinFreeNtupleExcitation(creTuple, annTuple):\n",
    "    N = len(creTuple)\n",
    "    if len(annTuple) != N:\n",
    "        print(\"particle number not conserved\")\n",
    "        return 0\n",
    "    summandList = []\n",
    "    spinCombs = itertools.product(range(2), repeat=N)\n",
    "    for spinComb in spinCombs:\n",
    "        productList = []\n",
    "        for o in range(N):\n",
    "            productList = [basicOperator(creTuple[o], 1, spinComb[o])] + productList + [basicOperator(annTuple[o], 0, spinComb[o])]\n",
    "        summandList.append(operatorProduct(productList))\n",
    "    return operatorSum(summandList)"
   ],
   "outputs": [],
   "metadata": {}
  },
  {
   "cell_type": "code",
   "execution_count": 111,
   "source": [
    "spFE = spinFreeNtupleExcitation((2,2,3), (0,1,1))\n",
    "print(spFE)"
   ],
   "outputs": [
    {
     "output_type": "stream",
     "name": "stdout",
     "text": [
      "1.0 * a^{3\\alpha}a^{2\\alpha}a^{2\\alpha}a_{0\\alpha}a_{1\\alpha}a_{1\\alpha}\n",
      " + 1.0 * a^{3\\alpha}a^{2\\alpha}a^{2\\beta}a_{0\\beta}a_{1\\alpha}a_{1\\alpha}\n",
      " + 1.0 * a^{3\\alpha}a^{2\\beta}a^{2\\alpha}a_{0\\alpha}a_{1\\beta}a_{1\\alpha}\n",
      " + 1.0 * a^{3\\alpha}a^{2\\beta}a^{2\\beta}a_{0\\beta}a_{1\\beta}a_{1\\alpha}\n",
      " + 1.0 * a^{3\\beta}a^{2\\alpha}a^{2\\alpha}a_{0\\alpha}a_{1\\alpha}a_{1\\beta}\n",
      " + 1.0 * a^{3\\beta}a^{2\\alpha}a^{2\\beta}a_{0\\beta}a_{1\\alpha}a_{1\\beta}\n",
      " + 1.0 * a^{3\\beta}a^{2\\beta}a^{2\\alpha}a_{0\\alpha}a_{1\\beta}a_{1\\beta}\n",
      " + 1.0 * a^{3\\beta}a^{2\\beta}a^{2\\beta}a_{0\\beta}a_{1\\beta}a_{1\\beta}\n"
     ]
    }
   ],
   "metadata": {}
  },
  {
   "cell_type": "code",
   "execution_count": 113,
   "source": [
    "from itertools import combinations_with_replacement\n",
    "Nocc2 = 3\n",
    "Norbs2 = 6\n",
    "occupiedCombinations = combinations_with_replacement(range(Nocc2), 2)\n",
    "virtualCombinations = combinations_with_replacement(range(Nocc2, Norbs2), 2)\n",
    "for o in occupiedCombinations:\n",
    "    print(o)\n",
    "for v in virtualCombinations:\n",
    "    print(v)"
   ],
   "outputs": [
    {
     "output_type": "stream",
     "name": "stdout",
     "text": [
      "(0, 0)\n",
      "(0, 1)\n",
      "(0, 2)\n",
      "(1, 1)\n",
      "(1, 2)\n",
      "(2, 2)\n",
      "(3, 3)\n",
      "(3, 4)\n",
      "(3, 5)\n",
      "(4, 4)\n",
      "(4, 5)\n",
      "(5, 5)\n"
     ]
    }
   ],
   "metadata": {}
  },
  {
   "cell_type": "code",
   "execution_count": 114,
   "source": [
    "print(singlesAmplitudes1)\n",
    "print([o.__str__() for o in singlesExcitations1])"
   ],
   "outputs": [
    {
     "output_type": "stream",
     "name": "stdout",
     "text": [
      "[[0. 0.]\n",
      " [0. 0.]]\n",
      "['1.0 * a^{2\\\\alpha}a_{0\\\\alpha}\\n + 1.0 * a^{2\\\\beta}a_{0\\\\beta}', '1.0 * a^{3\\\\alpha}a_{0\\\\alpha}\\n + 1.0 * a^{3\\\\beta}a_{0\\\\beta}', '1.0 * a^{2\\\\alpha}a_{1\\\\alpha}\\n + 1.0 * a^{2\\\\beta}a_{1\\\\beta}', '1.0 * a^{3\\\\alpha}a_{1\\\\alpha}\\n + 1.0 * a^{3\\\\beta}a_{1\\\\beta}']\n"
     ]
    }
   ],
   "metadata": {}
  },
  {
   "cell_type": "code",
   "execution_count": 115,
   "source": [
    "print(doublesAmplitudes1)\n",
    "print([o.__str__() for o in doublesExcitations1])"
   ],
   "outputs": [
    {
     "output_type": "stream",
     "name": "stdout",
     "text": [
      "[[[[0. 0.]\n",
      "   [0. 0.]]\n",
      "\n",
      "  [[0. 0.]\n",
      "   [0. 0.]]]\n",
      "\n",
      "\n",
      " [[[0. 0.]\n",
      "   [0. 0.]]\n",
      "\n",
      "  [[0. 0.]\n",
      "   [0. 0.]]]]\n",
      "['1.0 * a^{2\\\\alpha}a^{2\\\\alpha}a_{0\\\\alpha}a_{0\\\\alpha}\\n + 1.0 * a^{2\\\\alpha}a^{2\\\\beta}a_{0\\\\beta}a_{0\\\\alpha}\\n + 1.0 * a^{2\\\\beta}a^{2\\\\alpha}a_{0\\\\alpha}a_{0\\\\beta}\\n + 1.0 * a^{2\\\\beta}a^{2\\\\beta}a_{0\\\\beta}a_{0\\\\beta}', '1.0 * a^{2\\\\alpha}a^{3\\\\alpha}a_{0\\\\alpha}a_{0\\\\alpha}\\n + 1.0 * a^{2\\\\alpha}a^{3\\\\beta}a_{0\\\\beta}a_{0\\\\alpha}\\n + 1.0 * a^{2\\\\beta}a^{3\\\\alpha}a_{0\\\\alpha}a_{0\\\\beta}\\n + 1.0 * a^{2\\\\beta}a^{3\\\\beta}a_{0\\\\beta}a_{0\\\\beta}', '1.0 * a^{3\\\\alpha}a^{2\\\\alpha}a_{0\\\\alpha}a_{0\\\\alpha}\\n + 1.0 * a^{3\\\\alpha}a^{2\\\\beta}a_{0\\\\beta}a_{0\\\\alpha}\\n + 1.0 * a^{3\\\\beta}a^{2\\\\alpha}a_{0\\\\alpha}a_{0\\\\beta}\\n + 1.0 * a^{3\\\\beta}a^{2\\\\beta}a_{0\\\\beta}a_{0\\\\beta}', '1.0 * a^{3\\\\alpha}a^{3\\\\alpha}a_{0\\\\alpha}a_{0\\\\alpha}\\n + 1.0 * a^{3\\\\alpha}a^{3\\\\beta}a_{0\\\\beta}a_{0\\\\alpha}\\n + 1.0 * a^{3\\\\beta}a^{3\\\\alpha}a_{0\\\\alpha}a_{0\\\\beta}\\n + 1.0 * a^{3\\\\beta}a^{3\\\\beta}a_{0\\\\beta}a_{0\\\\beta}', '1.0 * a^{2\\\\alpha}a^{2\\\\alpha}a_{1\\\\alpha}a_{0\\\\alpha}\\n + 1.0 * a^{2\\\\alpha}a^{2\\\\beta}a_{1\\\\beta}a_{0\\\\alpha}\\n + 1.0 * a^{2\\\\beta}a^{2\\\\alpha}a_{1\\\\alpha}a_{0\\\\beta}\\n + 1.0 * a^{2\\\\beta}a^{2\\\\beta}a_{1\\\\beta}a_{0\\\\beta}', '1.0 * a^{2\\\\alpha}a^{3\\\\alpha}a_{1\\\\alpha}a_{0\\\\alpha}\\n + 1.0 * a^{2\\\\alpha}a^{3\\\\beta}a_{1\\\\beta}a_{0\\\\alpha}\\n + 1.0 * a^{2\\\\beta}a^{3\\\\alpha}a_{1\\\\alpha}a_{0\\\\beta}\\n + 1.0 * a^{2\\\\beta}a^{3\\\\beta}a_{1\\\\beta}a_{0\\\\beta}', '1.0 * a^{3\\\\alpha}a^{2\\\\alpha}a_{1\\\\alpha}a_{0\\\\alpha}\\n + 1.0 * a^{3\\\\alpha}a^{2\\\\beta}a_{1\\\\beta}a_{0\\\\alpha}\\n + 1.0 * a^{3\\\\beta}a^{2\\\\alpha}a_{1\\\\alpha}a_{0\\\\beta}\\n + 1.0 * a^{3\\\\beta}a^{2\\\\beta}a_{1\\\\beta}a_{0\\\\beta}', '1.0 * a^{3\\\\alpha}a^{3\\\\alpha}a_{1\\\\alpha}a_{0\\\\alpha}\\n + 1.0 * a^{3\\\\alpha}a^{3\\\\beta}a_{1\\\\beta}a_{0\\\\alpha}\\n + 1.0 * a^{3\\\\beta}a^{3\\\\alpha}a_{1\\\\alpha}a_{0\\\\beta}\\n + 1.0 * a^{3\\\\beta}a^{3\\\\beta}a_{1\\\\beta}a_{0\\\\beta}', '1.0 * a^{2\\\\alpha}a^{2\\\\alpha}a_{0\\\\alpha}a_{1\\\\alpha}\\n + 1.0 * a^{2\\\\alpha}a^{2\\\\beta}a_{0\\\\beta}a_{1\\\\alpha}\\n + 1.0 * a^{2\\\\beta}a^{2\\\\alpha}a_{0\\\\alpha}a_{1\\\\beta}\\n + 1.0 * a^{2\\\\beta}a^{2\\\\beta}a_{0\\\\beta}a_{1\\\\beta}', '1.0 * a^{2\\\\alpha}a^{3\\\\alpha}a_{0\\\\alpha}a_{1\\\\alpha}\\n + 1.0 * a^{2\\\\alpha}a^{3\\\\beta}a_{0\\\\beta}a_{1\\\\alpha}\\n + 1.0 * a^{2\\\\beta}a^{3\\\\alpha}a_{0\\\\alpha}a_{1\\\\beta}\\n + 1.0 * a^{2\\\\beta}a^{3\\\\beta}a_{0\\\\beta}a_{1\\\\beta}', '1.0 * a^{3\\\\alpha}a^{2\\\\alpha}a_{0\\\\alpha}a_{1\\\\alpha}\\n + 1.0 * a^{3\\\\alpha}a^{2\\\\beta}a_{0\\\\beta}a_{1\\\\alpha}\\n + 1.0 * a^{3\\\\beta}a^{2\\\\alpha}a_{0\\\\alpha}a_{1\\\\beta}\\n + 1.0 * a^{3\\\\beta}a^{2\\\\beta}a_{0\\\\beta}a_{1\\\\beta}', '1.0 * a^{3\\\\alpha}a^{3\\\\alpha}a_{0\\\\alpha}a_{1\\\\alpha}\\n + 1.0 * a^{3\\\\alpha}a^{3\\\\beta}a_{0\\\\beta}a_{1\\\\alpha}\\n + 1.0 * a^{3\\\\beta}a^{3\\\\alpha}a_{0\\\\alpha}a_{1\\\\beta}\\n + 1.0 * a^{3\\\\beta}a^{3\\\\beta}a_{0\\\\beta}a_{1\\\\beta}', '1.0 * a^{2\\\\alpha}a^{2\\\\alpha}a_{1\\\\alpha}a_{1\\\\alpha}\\n + 1.0 * a^{2\\\\alpha}a^{2\\\\beta}a_{1\\\\beta}a_{1\\\\alpha}\\n + 1.0 * a^{2\\\\beta}a^{2\\\\alpha}a_{1\\\\alpha}a_{1\\\\beta}\\n + 1.0 * a^{2\\\\beta}a^{2\\\\beta}a_{1\\\\beta}a_{1\\\\beta}', '1.0 * a^{2\\\\alpha}a^{3\\\\alpha}a_{1\\\\alpha}a_{1\\\\alpha}\\n + 1.0 * a^{2\\\\alpha}a^{3\\\\beta}a_{1\\\\beta}a_{1\\\\alpha}\\n + 1.0 * a^{2\\\\beta}a^{3\\\\alpha}a_{1\\\\alpha}a_{1\\\\beta}\\n + 1.0 * a^{2\\\\beta}a^{3\\\\beta}a_{1\\\\beta}a_{1\\\\beta}', '1.0 * a^{3\\\\alpha}a^{2\\\\alpha}a_{1\\\\alpha}a_{1\\\\alpha}\\n + 1.0 * a^{3\\\\alpha}a^{2\\\\beta}a_{1\\\\beta}a_{1\\\\alpha}\\n + 1.0 * a^{3\\\\beta}a^{2\\\\alpha}a_{1\\\\alpha}a_{1\\\\beta}\\n + 1.0 * a^{3\\\\beta}a^{2\\\\beta}a_{1\\\\beta}a_{1\\\\beta}', '1.0 * a^{3\\\\alpha}a^{3\\\\alpha}a_{1\\\\alpha}a_{1\\\\alpha}\\n + 1.0 * a^{3\\\\alpha}a^{3\\\\beta}a_{1\\\\beta}a_{1\\\\alpha}\\n + 1.0 * a^{3\\\\beta}a^{3\\\\alpha}a_{1\\\\alpha}a_{1\\\\beta}\\n + 1.0 * a^{3\\\\beta}a^{3\\\\beta}a_{1\\\\beta}a_{1\\\\beta}']\n"
     ]
    }
   ],
   "metadata": {}
  },
  {
   "cell_type": "code",
   "execution_count": 116,
   "source": [
    "bch = BCHSimilarityTransform(hamiltonian, getClusterDoubles(doublesAmplitudes, Nocc, Norbs), 4)\n",
    "bch.checkNilpotency()\n",
    "print(bch)"
   ],
   "outputs": [
    {
     "output_type": "stream",
     "name": "stdout",
     "text": [
      "0.0\n",
      " + -4.7142356915405136e-17 * a^{1\\alpha}a_{0\\alpha}\n",
      " + -0.5337491016607854 * a^{1\\alpha}a_{1\\alpha}\n",
      " + -4.7142356915405136e-17 * a^{1\\beta}a_{0\\beta}\n",
      " + -0.5337491016607854 * a^{1\\beta}a_{1\\beta}\n",
      " + -1.1898506186070186 * a^{0\\alpha}a_{0\\alpha}\n",
      " + 2.600212552842601e-17 * a^{0\\alpha}a_{1\\alpha}\n",
      " + -1.1898506186070186 * a^{0\\beta}a_{0\\beta}\n",
      " + 2.600212552842601e-17 * a^{0\\beta}a_{1\\beta}\n",
      " + 0.09376099045135429 * a^{1\\alpha}a^{1\\beta}a_{0\\beta}a_{0\\alpha}\n",
      " + 6.938893903907228e-17 * a^{1\\alpha}a^{1\\beta}a_{0\\beta}a_{1\\alpha}\n",
      " + 0.0 * a^{1\\alpha}a^{1\\beta}a_{0\\beta}a_{0\\alpha}\n",
      " + 2.7755575615628914e-17 * a^{1\\alpha}a^{1\\beta}a_{1\\beta}a_{0\\alpha}\n",
      " + 0.33906809184265285 * a^{1\\alpha}a^{1\\beta}a_{1\\beta}a_{1\\alpha}\n",
      " + 0.3226247132942422 * a^{1\\alpha}a^{0\\alpha}a_{0\\alpha}a_{1\\alpha}\n",
      " + 5.204170427930421e-17 * a^{1\\alpha}a^{0\\beta}a_{0\\beta}a_{0\\alpha}\n",
      " + 0.3226247132942422 * a^{1\\alpha}a^{0\\beta}a_{0\\beta}a_{1\\alpha}\n",
      " + 6.938893903907228e-17 * a^{1\\alpha}a^{0\\beta}a_{1\\beta}a_{1\\alpha}\n",
      " + 0.09376099045135429 * a^{1\\beta}a^{1\\alpha}a_{0\\alpha}a_{0\\beta}\n",
      " + 6.938893903907228e-17 * a^{1\\beta}a^{1\\alpha}a_{0\\alpha}a_{1\\beta}\n",
      " + 0.0 * a^{1\\beta}a^{1\\alpha}a_{0\\alpha}a_{0\\beta}\n",
      " + 2.7755575615628914e-17 * a^{1\\beta}a^{1\\alpha}a_{1\\alpha}a_{0\\beta}\n",
      " + 0.33906809184265285 * a^{1\\beta}a^{1\\alpha}a_{1\\alpha}a_{1\\beta}\n",
      " + 5.204170427930421e-17 * a^{1\\beta}a^{0\\alpha}a_{0\\alpha}a_{0\\beta}\n",
      " + 0.3226247132942422 * a^{1\\beta}a^{0\\alpha}a_{0\\alpha}a_{1\\beta}\n",
      " + 6.938893903907228e-17 * a^{1\\beta}a^{0\\alpha}a_{1\\alpha}a_{1\\beta}\n",
      " + 0.3226247132942422 * a^{1\\beta}a^{0\\beta}a_{0\\beta}a_{1\\beta}\n",
      " + 0.3226247132942424 * a^{0\\alpha}a^{1\\alpha}a_{1\\alpha}a_{0\\alpha}\n",
      " + 4.163336342344337e-17 * a^{0\\alpha}a^{1\\beta}a_{0\\beta}a_{0\\alpha}\n",
      " + 0.3226247132942424 * a^{0\\alpha}a^{1\\beta}a_{1\\beta}a_{0\\alpha}\n",
      " + 2.7755575615628914e-17 * a^{0\\alpha}a^{1\\beta}a_{1\\beta}a_{1\\alpha}\n",
      " + 0.3270047556780619 * a^{0\\alpha}a^{0\\beta}a_{0\\beta}a_{0\\alpha}\n",
      " + 5.204170427930421e-17 * a^{0\\alpha}a^{0\\beta}a_{0\\beta}a_{1\\alpha}\n",
      " + 4.163336342344337e-17 * a^{0\\alpha}a^{0\\beta}a_{1\\beta}a_{0\\alpha}\n",
      " + 0.09376099045135429 * a^{0\\alpha}a^{0\\beta}a_{1\\beta}a_{1\\alpha}\n",
      " + 4.163336342344337e-17 * a^{0\\beta}a^{1\\alpha}a_{0\\alpha}a_{0\\beta}\n",
      " + 0.3226247132942424 * a^{0\\beta}a^{1\\alpha}a_{1\\alpha}a_{0\\beta}\n",
      " + 2.7755575615628914e-17 * a^{0\\beta}a^{1\\alpha}a_{1\\alpha}a_{1\\beta}\n",
      " + 0.3226247132942424 * a^{0\\beta}a^{1\\beta}a_{1\\beta}a_{0\\beta}\n",
      " + 0.3270047556780619 * a^{0\\beta}a^{0\\alpha}a_{0\\alpha}a_{0\\beta}\n",
      " + 5.204170427930421e-17 * a^{0\\beta}a^{0\\alpha}a_{0\\alpha}a_{1\\beta}\n",
      " + 4.163336342344337e-17 * a^{0\\beta}a^{0\\alpha}a_{1\\alpha}a_{0\\beta}\n",
      " + 0.09376099045135429 * a^{0\\beta}a^{0\\alpha}a_{1\\alpha}a_{1\\beta}\n",
      " + 1.1898506186070186 * a^{1\\alpha}a^{1\\beta}a_{0\\beta}a_{0\\alpha}a^{0\\alpha}a_{0\\alpha}\n",
      " + -2.600212552842601e-17 * a^{1\\alpha}a^{1\\beta}a_{0\\beta}a_{0\\alpha}a^{0\\alpha}a_{1\\alpha}\n",
      " + 1.1898506186070186 * a^{1\\alpha}a^{1\\beta}a_{0\\beta}a_{0\\alpha}a^{0\\beta}a_{0\\beta}\n",
      " + -2.600212552842601e-17 * a^{1\\alpha}a^{1\\beta}a_{0\\beta}a_{0\\alpha}a^{0\\beta}a_{1\\beta}\n",
      " + -0.5337491016607854 * a^{1\\alpha}a_{1\\alpha}a^{1\\alpha}a^{1\\beta}a_{0\\beta}a_{0\\alpha}\n",
      " + -0.5337491016607854 * a^{1\\alpha}a_{1\\alpha}a^{1\\beta}a^{1\\alpha}a_{0\\alpha}a_{0\\beta}\n",
      " + 1.1898506186070186 * a^{1\\beta}a^{1\\alpha}a_{0\\alpha}a_{0\\beta}a^{0\\alpha}a_{0\\alpha}\n",
      " + -2.600212552842601e-17 * a^{1\\beta}a^{1\\alpha}a_{0\\alpha}a_{0\\beta}a^{0\\alpha}a_{1\\alpha}\n",
      " + 1.1898506186070186 * a^{1\\beta}a^{1\\alpha}a_{0\\alpha}a_{0\\beta}a^{0\\beta}a_{0\\beta}\n",
      " + -2.600212552842601e-17 * a^{1\\beta}a^{1\\alpha}a_{0\\alpha}a_{0\\beta}a^{0\\beta}a_{1\\beta}\n",
      " + -0.5337491016607854 * a^{1\\beta}a_{1\\beta}a^{1\\alpha}a^{1\\beta}a_{0\\beta}a_{0\\alpha}\n",
      " + -0.5337491016607854 * a^{1\\beta}a_{1\\beta}a^{1\\beta}a^{1\\alpha}a_{0\\alpha}a_{0\\beta}\n",
      " + 2.600212552842601e-17 * a^{0\\alpha}a_{1\\alpha}a^{1\\alpha}a^{1\\beta}a_{0\\beta}a_{0\\alpha}\n",
      " + 2.600212552842601e-17 * a^{0\\alpha}a_{1\\alpha}a^{1\\beta}a^{1\\alpha}a_{0\\alpha}a_{0\\beta}\n",
      " + 2.600212552842601e-17 * a^{0\\beta}a_{1\\beta}a^{1\\alpha}a^{1\\beta}a_{0\\beta}a_{0\\alpha}\n",
      " + 2.600212552842601e-17 * a^{0\\beta}a_{1\\beta}a^{1\\beta}a^{1\\alpha}a_{0\\alpha}a_{0\\beta}\n",
      " + -0.3270047556780619 * a^{1\\alpha}a^{1\\beta}a_{0\\beta}a_{0\\alpha}a^{0\\alpha}a^{0\\beta}a_{0\\beta}a_{0\\alpha}\n",
      " + -5.204170427930421e-17 * a^{1\\alpha}a^{1\\beta}a_{0\\beta}a_{0\\alpha}a^{0\\alpha}a^{0\\beta}a_{0\\beta}a_{1\\alpha}\n",
      " + -4.163336342344337e-17 * a^{1\\alpha}a^{1\\beta}a_{0\\beta}a_{0\\alpha}a^{0\\alpha}a^{0\\beta}a_{1\\beta}a_{0\\alpha}\n",
      " + -0.09376099045135429 * a^{1\\alpha}a^{1\\beta}a_{0\\beta}a_{0\\alpha}a^{0\\alpha}a^{0\\beta}a_{1\\beta}a_{1\\alpha}\n",
      " + -0.3270047556780619 * a^{1\\alpha}a^{1\\beta}a_{0\\beta}a_{0\\alpha}a^{0\\beta}a^{0\\alpha}a_{0\\alpha}a_{0\\beta}\n",
      " + -5.204170427930421e-17 * a^{1\\alpha}a^{1\\beta}a_{0\\beta}a_{0\\alpha}a^{0\\beta}a^{0\\alpha}a_{0\\alpha}a_{1\\beta}\n",
      " + -4.163336342344337e-17 * a^{1\\alpha}a^{1\\beta}a_{0\\beta}a_{0\\alpha}a^{0\\beta}a^{0\\alpha}a_{1\\alpha}a_{0\\beta}\n",
      " + -0.09376099045135429 * a^{1\\alpha}a^{1\\beta}a_{0\\beta}a_{0\\alpha}a^{0\\beta}a^{0\\alpha}a_{1\\alpha}a_{1\\beta}\n",
      " + 0.33906809184265285 * a^{1\\alpha}a^{1\\beta}a_{1\\beta}a_{1\\alpha}a^{1\\alpha}a^{1\\beta}a_{0\\beta}a_{0\\alpha}\n",
      " + 0.33906809184265285 * a^{1\\alpha}a^{1\\beta}a_{1\\beta}a_{1\\alpha}a^{1\\beta}a^{1\\alpha}a_{0\\alpha}a_{0\\beta}\n",
      " + 6.938893903907228e-17 * a^{1\\alpha}a^{0\\beta}a_{1\\beta}a_{1\\alpha}a^{1\\alpha}a^{1\\beta}a_{0\\beta}a_{0\\alpha}\n",
      " + 6.938893903907228e-17 * a^{1\\alpha}a^{0\\beta}a_{1\\beta}a_{1\\alpha}a^{1\\beta}a^{1\\alpha}a_{0\\alpha}a_{0\\beta}\n",
      " + -0.3270047556780619 * a^{1\\beta}a^{1\\alpha}a_{0\\alpha}a_{0\\beta}a^{0\\alpha}a^{0\\beta}a_{0\\beta}a_{0\\alpha}\n",
      " + -5.204170427930421e-17 * a^{1\\beta}a^{1\\alpha}a_{0\\alpha}a_{0\\beta}a^{0\\alpha}a^{0\\beta}a_{0\\beta}a_{1\\alpha}\n",
      " + -4.163336342344337e-17 * a^{1\\beta}a^{1\\alpha}a_{0\\alpha}a_{0\\beta}a^{0\\alpha}a^{0\\beta}a_{1\\beta}a_{0\\alpha}\n",
      " + -0.09376099045135429 * a^{1\\beta}a^{1\\alpha}a_{0\\alpha}a_{0\\beta}a^{0\\alpha}a^{0\\beta}a_{1\\beta}a_{1\\alpha}\n",
      " + -0.3270047556780619 * a^{1\\beta}a^{1\\alpha}a_{0\\alpha}a_{0\\beta}a^{0\\beta}a^{0\\alpha}a_{0\\alpha}a_{0\\beta}\n",
      " + -5.204170427930421e-17 * a^{1\\beta}a^{1\\alpha}a_{0\\alpha}a_{0\\beta}a^{0\\beta}a^{0\\alpha}a_{0\\alpha}a_{1\\beta}\n",
      " + -4.163336342344337e-17 * a^{1\\beta}a^{1\\alpha}a_{0\\alpha}a_{0\\beta}a^{0\\beta}a^{0\\alpha}a_{1\\alpha}a_{0\\beta}\n",
      " + -0.09376099045135429 * a^{1\\beta}a^{1\\alpha}a_{0\\alpha}a_{0\\beta}a^{0\\beta}a^{0\\alpha}a_{1\\alpha}a_{1\\beta}\n",
      " + 0.33906809184265285 * a^{1\\beta}a^{1\\alpha}a_{1\\alpha}a_{1\\beta}a^{1\\alpha}a^{1\\beta}a_{0\\beta}a_{0\\alpha}\n",
      " + 0.33906809184265285 * a^{1\\beta}a^{1\\alpha}a_{1\\alpha}a_{1\\beta}a^{1\\beta}a^{1\\alpha}a_{0\\alpha}a_{0\\beta}\n",
      " + 6.938893903907228e-17 * a^{1\\beta}a^{0\\alpha}a_{1\\alpha}a_{1\\beta}a^{1\\alpha}a^{1\\beta}a_{0\\beta}a_{0\\alpha}\n",
      " + 6.938893903907228e-17 * a^{1\\beta}a^{0\\alpha}a_{1\\alpha}a_{1\\beta}a^{1\\beta}a^{1\\alpha}a_{0\\alpha}a_{0\\beta}\n",
      " + 2.7755575615628914e-17 * a^{0\\alpha}a^{1\\beta}a_{1\\beta}a_{1\\alpha}a^{1\\alpha}a^{1\\beta}a_{0\\beta}a_{0\\alpha}\n",
      " + 2.7755575615628914e-17 * a^{0\\alpha}a^{1\\beta}a_{1\\beta}a_{1\\alpha}a^{1\\beta}a^{1\\alpha}a_{0\\alpha}a_{0\\beta}\n",
      " + 0.09376099045135429 * a^{0\\alpha}a^{0\\beta}a_{1\\beta}a_{1\\alpha}a^{1\\alpha}a^{1\\beta}a_{0\\beta}a_{0\\alpha}\n",
      " + 0.09376099045135429 * a^{0\\alpha}a^{0\\beta}a_{1\\beta}a_{1\\alpha}a^{1\\beta}a^{1\\alpha}a_{0\\alpha}a_{0\\beta}\n",
      " + 2.7755575615628914e-17 * a^{0\\beta}a^{1\\alpha}a_{1\\alpha}a_{1\\beta}a^{1\\alpha}a^{1\\beta}a_{0\\beta}a_{0\\alpha}\n",
      " + 2.7755575615628914e-17 * a^{0\\beta}a^{1\\alpha}a_{1\\alpha}a_{1\\beta}a^{1\\beta}a^{1\\alpha}a_{0\\alpha}a_{0\\beta}\n",
      " + 0.09376099045135429 * a^{0\\beta}a^{0\\alpha}a_{1\\alpha}a_{1\\beta}a^{1\\alpha}a^{1\\beta}a_{0\\beta}a_{0\\alpha}\n",
      " + 0.09376099045135429 * a^{0\\beta}a^{0\\alpha}a_{1\\alpha}a_{1\\beta}a^{1\\beta}a^{1\\alpha}a_{0\\alpha}a_{0\\beta}\n",
      " + -0.09376099045135429 * a^{1\\alpha}a^{1\\beta}a_{0\\beta}a_{0\\alpha}a^{0\\alpha}a^{0\\beta}a_{1\\beta}a_{1\\alpha}a^{1\\alpha}a^{1\\beta}a_{0\\beta}a_{0\\alpha}\n",
      " + -0.09376099045135429 * a^{1\\alpha}a^{1\\beta}a_{0\\beta}a_{0\\alpha}a^{0\\alpha}a^{0\\beta}a_{1\\beta}a_{1\\alpha}a^{1\\beta}a^{1\\alpha}a_{0\\alpha}a_{0\\beta}\n",
      " + -0.09376099045135429 * a^{1\\alpha}a^{1\\beta}a_{0\\beta}a_{0\\alpha}a^{0\\beta}a^{0\\alpha}a_{1\\alpha}a_{1\\beta}a^{1\\alpha}a^{1\\beta}a_{0\\beta}a_{0\\alpha}\n",
      " + -0.09376099045135429 * a^{1\\alpha}a^{1\\beta}a_{0\\beta}a_{0\\alpha}a^{0\\beta}a^{0\\alpha}a_{1\\alpha}a_{1\\beta}a^{1\\beta}a^{1\\alpha}a_{0\\alpha}a_{0\\beta}\n",
      " + -0.09376099045135429 * a^{1\\beta}a^{1\\alpha}a_{0\\alpha}a_{0\\beta}a^{0\\alpha}a^{0\\beta}a_{1\\beta}a_{1\\alpha}a^{1\\alpha}a^{1\\beta}a_{0\\beta}a_{0\\alpha}\n",
      " + -0.09376099045135429 * a^{1\\beta}a^{1\\alpha}a_{0\\alpha}a_{0\\beta}a^{0\\alpha}a^{0\\beta}a_{1\\beta}a_{1\\alpha}a^{1\\beta}a^{1\\alpha}a_{0\\alpha}a_{0\\beta}\n",
      " + -0.09376099045135429 * a^{1\\beta}a^{1\\alpha}a_{0\\alpha}a_{0\\beta}a^{0\\beta}a^{0\\alpha}a_{1\\alpha}a_{1\\beta}a^{1\\alpha}a^{1\\beta}a_{0\\beta}a_{0\\alpha}\n",
      " + -0.09376099045135429 * a^{1\\beta}a^{1\\alpha}a_{0\\alpha}a_{0\\beta}a^{0\\beta}a^{0\\alpha}a_{1\\alpha}a_{1\\beta}a^{1\\beta}a^{1\\alpha}a_{0\\alpha}a_{0\\beta}\n"
     ]
    }
   ],
   "metadata": {}
  },
  {
   "cell_type": "code",
   "execution_count": 118,
   "source": [
    "print(vacuumExpectationValue(bch, vacuum) + mol.energy_nuc())\n",
    "print(mf.e_tot)"
   ],
   "outputs": [
    {
     "output_type": "stream",
     "name": "stdout",
     "text": [
      "-0.7275948493863061\n",
      "-1.1026388111917238\n"
     ]
    }
   ],
   "metadata": {}
  },
  {
   "cell_type": "code",
   "execution_count": 119,
   "source": [
    "print(spinFreeDoubleExcitation(1,1,0,0).conjugate())"
   ],
   "outputs": [
    {
     "output_type": "stream",
     "name": "stdout",
     "text": [
      "1.0 * a^{0\\alpha}a^{0\\alpha}a_{1\\alpha}a_{1\\alpha}\n",
      " + 1.0 * a^{0\\alpha}a^{0\\beta}a_{1\\beta}a_{1\\alpha}\n",
      " + 1.0 * a^{0\\beta}a^{0\\alpha}a_{1\\alpha}a_{1\\beta}\n",
      " + 1.0 * a^{0\\beta}a^{0\\beta}a_{1\\beta}a_{1\\beta}\n"
     ]
    }
   ],
   "metadata": {}
  },
  {
   "cell_type": "code",
   "execution_count": 120,
   "source": [
    "projected = spinFreeDoubleExcitation(1,1,0,0).conjugate() * bch\n",
    "print(projected)"
   ],
   "outputs": [
    {
     "output_type": "stream",
     "name": "stdout",
     "text": [
      "0.0\n",
      " + 0.0 * a^{0\\alpha}a^{0\\beta}a_{1\\beta}a_{1\\alpha}\n",
      " + 0.0 * a^{0\\beta}a^{0\\alpha}a_{1\\alpha}a_{1\\beta}\n",
      " + -4.7142356915405136e-17 * a^{0\\alpha}a^{0\\beta}a_{1\\beta}a_{1\\alpha}a^{1\\alpha}a_{0\\alpha}\n",
      " + -0.5337491016607854 * a^{0\\alpha}a^{0\\beta}a_{1\\beta}a_{1\\alpha}a^{1\\alpha}a_{1\\alpha}\n",
      " + -4.7142356915405136e-17 * a^{0\\alpha}a^{0\\beta}a_{1\\beta}a_{1\\alpha}a^{1\\beta}a_{0\\beta}\n",
      " + -0.5337491016607854 * a^{0\\alpha}a^{0\\beta}a_{1\\beta}a_{1\\alpha}a^{1\\beta}a_{1\\beta}\n",
      " + -4.7142356915405136e-17 * a^{0\\beta}a^{0\\alpha}a_{1\\alpha}a_{1\\beta}a^{1\\alpha}a_{0\\alpha}\n",
      " + -0.5337491016607854 * a^{0\\beta}a^{0\\alpha}a_{1\\alpha}a_{1\\beta}a^{1\\alpha}a_{1\\alpha}\n",
      " + -4.7142356915405136e-17 * a^{0\\beta}a^{0\\alpha}a_{1\\alpha}a_{1\\beta}a^{1\\beta}a_{0\\beta}\n",
      " + -0.5337491016607854 * a^{0\\beta}a^{0\\alpha}a_{1\\alpha}a_{1\\beta}a^{1\\beta}a_{1\\beta}\n",
      " + 0.09376099045135429 * a^{0\\alpha}a^{0\\beta}a_{1\\beta}a_{1\\alpha}a^{1\\alpha}a^{1\\beta}a_{0\\beta}a_{0\\alpha}\n",
      " + 6.938893903907228e-17 * a^{0\\alpha}a^{0\\beta}a_{1\\beta}a_{1\\alpha}a^{1\\alpha}a^{1\\beta}a_{0\\beta}a_{1\\alpha}\n",
      " + 2.7755575615628914e-17 * a^{0\\alpha}a^{0\\beta}a_{1\\beta}a_{1\\alpha}a^{1\\alpha}a^{1\\beta}a_{1\\beta}a_{0\\alpha}\n",
      " + 0.33906809184265285 * a^{0\\alpha}a^{0\\beta}a_{1\\beta}a_{1\\alpha}a^{1\\alpha}a^{1\\beta}a_{1\\beta}a_{1\\alpha}\n",
      " + 0.09376099045135429 * a^{0\\alpha}a^{0\\beta}a_{1\\beta}a_{1\\alpha}a^{1\\beta}a^{1\\alpha}a_{0\\alpha}a_{0\\beta}\n",
      " + 6.938893903907228e-17 * a^{0\\alpha}a^{0\\beta}a_{1\\beta}a_{1\\alpha}a^{1\\beta}a^{1\\alpha}a_{0\\alpha}a_{1\\beta}\n",
      " + 2.7755575615628914e-17 * a^{0\\alpha}a^{0\\beta}a_{1\\beta}a_{1\\alpha}a^{1\\beta}a^{1\\alpha}a_{1\\alpha}a_{0\\beta}\n",
      " + 0.33906809184265285 * a^{0\\alpha}a^{0\\beta}a_{1\\beta}a_{1\\alpha}a^{1\\beta}a^{1\\alpha}a_{1\\alpha}a_{1\\beta}\n",
      " + 0.09376099045135429 * a^{0\\beta}a^{0\\alpha}a_{1\\alpha}a_{1\\beta}a^{1\\alpha}a^{1\\beta}a_{0\\beta}a_{0\\alpha}\n",
      " + 6.938893903907228e-17 * a^{0\\beta}a^{0\\alpha}a_{1\\alpha}a_{1\\beta}a^{1\\alpha}a^{1\\beta}a_{0\\beta}a_{1\\alpha}\n",
      " + 2.7755575615628914e-17 * a^{0\\beta}a^{0\\alpha}a_{1\\alpha}a_{1\\beta}a^{1\\alpha}a^{1\\beta}a_{1\\beta}a_{0\\alpha}\n",
      " + 0.33906809184265285 * a^{0\\beta}a^{0\\alpha}a_{1\\alpha}a_{1\\beta}a^{1\\alpha}a^{1\\beta}a_{1\\beta}a_{1\\alpha}\n",
      " + 0.09376099045135429 * a^{0\\beta}a^{0\\alpha}a_{1\\alpha}a_{1\\beta}a^{1\\beta}a^{1\\alpha}a_{0\\alpha}a_{0\\beta}\n",
      " + 6.938893903907228e-17 * a^{0\\beta}a^{0\\alpha}a_{1\\alpha}a_{1\\beta}a^{1\\beta}a^{1\\alpha}a_{0\\alpha}a_{1\\beta}\n",
      " + 2.7755575615628914e-17 * a^{0\\beta}a^{0\\alpha}a_{1\\alpha}a_{1\\beta}a^{1\\beta}a^{1\\alpha}a_{1\\alpha}a_{0\\beta}\n",
      " + 0.33906809184265285 * a^{0\\beta}a^{0\\alpha}a_{1\\alpha}a_{1\\beta}a^{1\\beta}a^{1\\alpha}a_{1\\alpha}a_{1\\beta}\n",
      " + 1.1898506186070186 * a^{0\\alpha}a^{0\\beta}a_{1\\beta}a_{1\\alpha}a^{1\\alpha}a^{1\\beta}a_{0\\beta}a_{0\\alpha}a^{0\\alpha}a_{0\\alpha}\n",
      " + -2.600212552842601e-17 * a^{0\\alpha}a^{0\\beta}a_{1\\beta}a_{1\\alpha}a^{1\\alpha}a^{1\\beta}a_{0\\beta}a_{0\\alpha}a^{0\\alpha}a_{1\\alpha}\n",
      " + 1.1898506186070186 * a^{0\\alpha}a^{0\\beta}a_{1\\beta}a_{1\\alpha}a^{1\\alpha}a^{1\\beta}a_{0\\beta}a_{0\\alpha}a^{0\\beta}a_{0\\beta}\n",
      " + -2.600212552842601e-17 * a^{0\\alpha}a^{0\\beta}a_{1\\beta}a_{1\\alpha}a^{1\\alpha}a^{1\\beta}a_{0\\beta}a_{0\\alpha}a^{0\\beta}a_{1\\beta}\n",
      " + -0.5337491016607854 * a^{0\\alpha}a^{0\\beta}a_{1\\beta}a_{1\\alpha}a^{1\\alpha}a_{1\\alpha}a^{1\\alpha}a^{1\\beta}a_{0\\beta}a_{0\\alpha}\n",
      " + -0.5337491016607854 * a^{0\\alpha}a^{0\\beta}a_{1\\beta}a_{1\\alpha}a^{1\\alpha}a_{1\\alpha}a^{1\\beta}a^{1\\alpha}a_{0\\alpha}a_{0\\beta}\n",
      " + 1.1898506186070186 * a^{0\\alpha}a^{0\\beta}a_{1\\beta}a_{1\\alpha}a^{1\\beta}a^{1\\alpha}a_{0\\alpha}a_{0\\beta}a^{0\\alpha}a_{0\\alpha}\n",
      " + -2.600212552842601e-17 * a^{0\\alpha}a^{0\\beta}a_{1\\beta}a_{1\\alpha}a^{1\\beta}a^{1\\alpha}a_{0\\alpha}a_{0\\beta}a^{0\\alpha}a_{1\\alpha}\n",
      " + 1.1898506186070186 * a^{0\\alpha}a^{0\\beta}a_{1\\beta}a_{1\\alpha}a^{1\\beta}a^{1\\alpha}a_{0\\alpha}a_{0\\beta}a^{0\\beta}a_{0\\beta}\n",
      " + -2.600212552842601e-17 * a^{0\\alpha}a^{0\\beta}a_{1\\beta}a_{1\\alpha}a^{1\\beta}a^{1\\alpha}a_{0\\alpha}a_{0\\beta}a^{0\\beta}a_{1\\beta}\n",
      " + -0.5337491016607854 * a^{0\\alpha}a^{0\\beta}a_{1\\beta}a_{1\\alpha}a^{1\\beta}a_{1\\beta}a^{1\\alpha}a^{1\\beta}a_{0\\beta}a_{0\\alpha}\n",
      " + -0.5337491016607854 * a^{0\\alpha}a^{0\\beta}a_{1\\beta}a_{1\\alpha}a^{1\\beta}a_{1\\beta}a^{1\\beta}a^{1\\alpha}a_{0\\alpha}a_{0\\beta}\n",
      " + 1.1898506186070186 * a^{0\\beta}a^{0\\alpha}a_{1\\alpha}a_{1\\beta}a^{1\\alpha}a^{1\\beta}a_{0\\beta}a_{0\\alpha}a^{0\\alpha}a_{0\\alpha}\n",
      " + -2.600212552842601e-17 * a^{0\\beta}a^{0\\alpha}a_{1\\alpha}a_{1\\beta}a^{1\\alpha}a^{1\\beta}a_{0\\beta}a_{0\\alpha}a^{0\\alpha}a_{1\\alpha}\n",
      " + 1.1898506186070186 * a^{0\\beta}a^{0\\alpha}a_{1\\alpha}a_{1\\beta}a^{1\\alpha}a^{1\\beta}a_{0\\beta}a_{0\\alpha}a^{0\\beta}a_{0\\beta}\n",
      " + -2.600212552842601e-17 * a^{0\\beta}a^{0\\alpha}a_{1\\alpha}a_{1\\beta}a^{1\\alpha}a^{1\\beta}a_{0\\beta}a_{0\\alpha}a^{0\\beta}a_{1\\beta}\n",
      " + -0.5337491016607854 * a^{0\\beta}a^{0\\alpha}a_{1\\alpha}a_{1\\beta}a^{1\\alpha}a_{1\\alpha}a^{1\\alpha}a^{1\\beta}a_{0\\beta}a_{0\\alpha}\n",
      " + -0.5337491016607854 * a^{0\\beta}a^{0\\alpha}a_{1\\alpha}a_{1\\beta}a^{1\\alpha}a_{1\\alpha}a^{1\\beta}a^{1\\alpha}a_{0\\alpha}a_{0\\beta}\n",
      " + 1.1898506186070186 * a^{0\\beta}a^{0\\alpha}a_{1\\alpha}a_{1\\beta}a^{1\\beta}a^{1\\alpha}a_{0\\alpha}a_{0\\beta}a^{0\\alpha}a_{0\\alpha}\n",
      " + -2.600212552842601e-17 * a^{0\\beta}a^{0\\alpha}a_{1\\alpha}a_{1\\beta}a^{1\\beta}a^{1\\alpha}a_{0\\alpha}a_{0\\beta}a^{0\\alpha}a_{1\\alpha}\n",
      " + 1.1898506186070186 * a^{0\\beta}a^{0\\alpha}a_{1\\alpha}a_{1\\beta}a^{1\\beta}a^{1\\alpha}a_{0\\alpha}a_{0\\beta}a^{0\\beta}a_{0\\beta}\n",
      " + -2.600212552842601e-17 * a^{0\\beta}a^{0\\alpha}a_{1\\alpha}a_{1\\beta}a^{1\\beta}a^{1\\alpha}a_{0\\alpha}a_{0\\beta}a^{0\\beta}a_{1\\beta}\n",
      " + -0.5337491016607854 * a^{0\\beta}a^{0\\alpha}a_{1\\alpha}a_{1\\beta}a^{1\\beta}a_{1\\beta}a^{1\\alpha}a^{1\\beta}a_{0\\beta}a_{0\\alpha}\n",
      " + -0.5337491016607854 * a^{0\\beta}a^{0\\alpha}a_{1\\alpha}a_{1\\beta}a^{1\\beta}a_{1\\beta}a^{1\\beta}a^{1\\alpha}a_{0\\alpha}a_{0\\beta}\n",
      " + -0.3270047556780619 * a^{0\\alpha}a^{0\\beta}a_{1\\beta}a_{1\\alpha}a^{1\\alpha}a^{1\\beta}a_{0\\beta}a_{0\\alpha}a^{0\\alpha}a^{0\\beta}a_{0\\beta}a_{0\\alpha}\n",
      " + -5.204170427930421e-17 * a^{0\\alpha}a^{0\\beta}a_{1\\beta}a_{1\\alpha}a^{1\\alpha}a^{1\\beta}a_{0\\beta}a_{0\\alpha}a^{0\\alpha}a^{0\\beta}a_{0\\beta}a_{1\\alpha}\n",
      " + -4.163336342344337e-17 * a^{0\\alpha}a^{0\\beta}a_{1\\beta}a_{1\\alpha}a^{1\\alpha}a^{1\\beta}a_{0\\beta}a_{0\\alpha}a^{0\\alpha}a^{0\\beta}a_{1\\beta}a_{0\\alpha}\n",
      " + -0.09376099045135429 * a^{0\\alpha}a^{0\\beta}a_{1\\beta}a_{1\\alpha}a^{1\\alpha}a^{1\\beta}a_{0\\beta}a_{0\\alpha}a^{0\\alpha}a^{0\\beta}a_{1\\beta}a_{1\\alpha}\n",
      " + -0.3270047556780619 * a^{0\\alpha}a^{0\\beta}a_{1\\beta}a_{1\\alpha}a^{1\\alpha}a^{1\\beta}a_{0\\beta}a_{0\\alpha}a^{0\\beta}a^{0\\alpha}a_{0\\alpha}a_{0\\beta}\n",
      " + -5.204170427930421e-17 * a^{0\\alpha}a^{0\\beta}a_{1\\beta}a_{1\\alpha}a^{1\\alpha}a^{1\\beta}a_{0\\beta}a_{0\\alpha}a^{0\\beta}a^{0\\alpha}a_{0\\alpha}a_{1\\beta}\n",
      " + -4.163336342344337e-17 * a^{0\\alpha}a^{0\\beta}a_{1\\beta}a_{1\\alpha}a^{1\\alpha}a^{1\\beta}a_{0\\beta}a_{0\\alpha}a^{0\\beta}a^{0\\alpha}a_{1\\alpha}a_{0\\beta}\n",
      " + -0.09376099045135429 * a^{0\\alpha}a^{0\\beta}a_{1\\beta}a_{1\\alpha}a^{1\\alpha}a^{1\\beta}a_{0\\beta}a_{0\\alpha}a^{0\\beta}a^{0\\alpha}a_{1\\alpha}a_{1\\beta}\n",
      " + 0.33906809184265285 * a^{0\\alpha}a^{0\\beta}a_{1\\beta}a_{1\\alpha}a^{1\\alpha}a^{1\\beta}a_{1\\beta}a_{1\\alpha}a^{1\\alpha}a^{1\\beta}a_{0\\beta}a_{0\\alpha}\n",
      " + 0.33906809184265285 * a^{0\\alpha}a^{0\\beta}a_{1\\beta}a_{1\\alpha}a^{1\\alpha}a^{1\\beta}a_{1\\beta}a_{1\\alpha}a^{1\\beta}a^{1\\alpha}a_{0\\alpha}a_{0\\beta}\n",
      " + -0.3270047556780619 * a^{0\\alpha}a^{0\\beta}a_{1\\beta}a_{1\\alpha}a^{1\\beta}a^{1\\alpha}a_{0\\alpha}a_{0\\beta}a^{0\\alpha}a^{0\\beta}a_{0\\beta}a_{0\\alpha}\n",
      " + -5.204170427930421e-17 * a^{0\\alpha}a^{0\\beta}a_{1\\beta}a_{1\\alpha}a^{1\\beta}a^{1\\alpha}a_{0\\alpha}a_{0\\beta}a^{0\\alpha}a^{0\\beta}a_{0\\beta}a_{1\\alpha}\n",
      " + -4.163336342344337e-17 * a^{0\\alpha}a^{0\\beta}a_{1\\beta}a_{1\\alpha}a^{1\\beta}a^{1\\alpha}a_{0\\alpha}a_{0\\beta}a^{0\\alpha}a^{0\\beta}a_{1\\beta}a_{0\\alpha}\n",
      " + -0.09376099045135429 * a^{0\\alpha}a^{0\\beta}a_{1\\beta}a_{1\\alpha}a^{1\\beta}a^{1\\alpha}a_{0\\alpha}a_{0\\beta}a^{0\\alpha}a^{0\\beta}a_{1\\beta}a_{1\\alpha}\n",
      " + -0.3270047556780619 * a^{0\\alpha}a^{0\\beta}a_{1\\beta}a_{1\\alpha}a^{1\\beta}a^{1\\alpha}a_{0\\alpha}a_{0\\beta}a^{0\\beta}a^{0\\alpha}a_{0\\alpha}a_{0\\beta}\n",
      " + -5.204170427930421e-17 * a^{0\\alpha}a^{0\\beta}a_{1\\beta}a_{1\\alpha}a^{1\\beta}a^{1\\alpha}a_{0\\alpha}a_{0\\beta}a^{0\\beta}a^{0\\alpha}a_{0\\alpha}a_{1\\beta}\n",
      " + -4.163336342344337e-17 * a^{0\\alpha}a^{0\\beta}a_{1\\beta}a_{1\\alpha}a^{1\\beta}a^{1\\alpha}a_{0\\alpha}a_{0\\beta}a^{0\\beta}a^{0\\alpha}a_{1\\alpha}a_{0\\beta}\n",
      " + -0.09376099045135429 * a^{0\\alpha}a^{0\\beta}a_{1\\beta}a_{1\\alpha}a^{1\\beta}a^{1\\alpha}a_{0\\alpha}a_{0\\beta}a^{0\\beta}a^{0\\alpha}a_{1\\alpha}a_{1\\beta}\n",
      " + 0.33906809184265285 * a^{0\\alpha}a^{0\\beta}a_{1\\beta}a_{1\\alpha}a^{1\\beta}a^{1\\alpha}a_{1\\alpha}a_{1\\beta}a^{1\\alpha}a^{1\\beta}a_{0\\beta}a_{0\\alpha}\n",
      " + 0.33906809184265285 * a^{0\\alpha}a^{0\\beta}a_{1\\beta}a_{1\\alpha}a^{1\\beta}a^{1\\alpha}a_{1\\alpha}a_{1\\beta}a^{1\\beta}a^{1\\alpha}a_{0\\alpha}a_{0\\beta}\n",
      " + -0.3270047556780619 * a^{0\\beta}a^{0\\alpha}a_{1\\alpha}a_{1\\beta}a^{1\\alpha}a^{1\\beta}a_{0\\beta}a_{0\\alpha}a^{0\\alpha}a^{0\\beta}a_{0\\beta}a_{0\\alpha}\n",
      " + -5.204170427930421e-17 * a^{0\\beta}a^{0\\alpha}a_{1\\alpha}a_{1\\beta}a^{1\\alpha}a^{1\\beta}a_{0\\beta}a_{0\\alpha}a^{0\\alpha}a^{0\\beta}a_{0\\beta}a_{1\\alpha}\n",
      " + -4.163336342344337e-17 * a^{0\\beta}a^{0\\alpha}a_{1\\alpha}a_{1\\beta}a^{1\\alpha}a^{1\\beta}a_{0\\beta}a_{0\\alpha}a^{0\\alpha}a^{0\\beta}a_{1\\beta}a_{0\\alpha}\n",
      " + -0.09376099045135429 * a^{0\\beta}a^{0\\alpha}a_{1\\alpha}a_{1\\beta}a^{1\\alpha}a^{1\\beta}a_{0\\beta}a_{0\\alpha}a^{0\\alpha}a^{0\\beta}a_{1\\beta}a_{1\\alpha}\n",
      " + -0.3270047556780619 * a^{0\\beta}a^{0\\alpha}a_{1\\alpha}a_{1\\beta}a^{1\\alpha}a^{1\\beta}a_{0\\beta}a_{0\\alpha}a^{0\\beta}a^{0\\alpha}a_{0\\alpha}a_{0\\beta}\n",
      " + -5.204170427930421e-17 * a^{0\\beta}a^{0\\alpha}a_{1\\alpha}a_{1\\beta}a^{1\\alpha}a^{1\\beta}a_{0\\beta}a_{0\\alpha}a^{0\\beta}a^{0\\alpha}a_{0\\alpha}a_{1\\beta}\n",
      " + -4.163336342344337e-17 * a^{0\\beta}a^{0\\alpha}a_{1\\alpha}a_{1\\beta}a^{1\\alpha}a^{1\\beta}a_{0\\beta}a_{0\\alpha}a^{0\\beta}a^{0\\alpha}a_{1\\alpha}a_{0\\beta}\n",
      " + -0.09376099045135429 * a^{0\\beta}a^{0\\alpha}a_{1\\alpha}a_{1\\beta}a^{1\\alpha}a^{1\\beta}a_{0\\beta}a_{0\\alpha}a^{0\\beta}a^{0\\alpha}a_{1\\alpha}a_{1\\beta}\n",
      " + 0.33906809184265285 * a^{0\\beta}a^{0\\alpha}a_{1\\alpha}a_{1\\beta}a^{1\\alpha}a^{1\\beta}a_{1\\beta}a_{1\\alpha}a^{1\\alpha}a^{1\\beta}a_{0\\beta}a_{0\\alpha}\n",
      " + 0.33906809184265285 * a^{0\\beta}a^{0\\alpha}a_{1\\alpha}a_{1\\beta}a^{1\\alpha}a^{1\\beta}a_{1\\beta}a_{1\\alpha}a^{1\\beta}a^{1\\alpha}a_{0\\alpha}a_{0\\beta}\n",
      " + -0.3270047556780619 * a^{0\\beta}a^{0\\alpha}a_{1\\alpha}a_{1\\beta}a^{1\\beta}a^{1\\alpha}a_{0\\alpha}a_{0\\beta}a^{0\\alpha}a^{0\\beta}a_{0\\beta}a_{0\\alpha}\n",
      " + -5.204170427930421e-17 * a^{0\\beta}a^{0\\alpha}a_{1\\alpha}a_{1\\beta}a^{1\\beta}a^{1\\alpha}a_{0\\alpha}a_{0\\beta}a^{0\\alpha}a^{0\\beta}a_{0\\beta}a_{1\\alpha}\n",
      " + -4.163336342344337e-17 * a^{0\\beta}a^{0\\alpha}a_{1\\alpha}a_{1\\beta}a^{1\\beta}a^{1\\alpha}a_{0\\alpha}a_{0\\beta}a^{0\\alpha}a^{0\\beta}a_{1\\beta}a_{0\\alpha}\n",
      " + -0.09376099045135429 * a^{0\\beta}a^{0\\alpha}a_{1\\alpha}a_{1\\beta}a^{1\\beta}a^{1\\alpha}a_{0\\alpha}a_{0\\beta}a^{0\\alpha}a^{0\\beta}a_{1\\beta}a_{1\\alpha}\n",
      " + -0.3270047556780619 * a^{0\\beta}a^{0\\alpha}a_{1\\alpha}a_{1\\beta}a^{1\\beta}a^{1\\alpha}a_{0\\alpha}a_{0\\beta}a^{0\\beta}a^{0\\alpha}a_{0\\alpha}a_{0\\beta}\n",
      " + -5.204170427930421e-17 * a^{0\\beta}a^{0\\alpha}a_{1\\alpha}a_{1\\beta}a^{1\\beta}a^{1\\alpha}a_{0\\alpha}a_{0\\beta}a^{0\\beta}a^{0\\alpha}a_{0\\alpha}a_{1\\beta}\n",
      " + -4.163336342344337e-17 * a^{0\\beta}a^{0\\alpha}a_{1\\alpha}a_{1\\beta}a^{1\\beta}a^{1\\alpha}a_{0\\alpha}a_{0\\beta}a^{0\\beta}a^{0\\alpha}a_{1\\alpha}a_{0\\beta}\n",
      " + -0.09376099045135429 * a^{0\\beta}a^{0\\alpha}a_{1\\alpha}a_{1\\beta}a^{1\\beta}a^{1\\alpha}a_{0\\alpha}a_{0\\beta}a^{0\\beta}a^{0\\alpha}a_{1\\alpha}a_{1\\beta}\n",
      " + 0.33906809184265285 * a^{0\\beta}a^{0\\alpha}a_{1\\alpha}a_{1\\beta}a^{1\\beta}a^{1\\alpha}a_{1\\alpha}a_{1\\beta}a^{1\\alpha}a^{1\\beta}a_{0\\beta}a_{0\\alpha}\n",
      " + 0.33906809184265285 * a^{0\\beta}a^{0\\alpha}a_{1\\alpha}a_{1\\beta}a^{1\\beta}a^{1\\alpha}a_{1\\alpha}a_{1\\beta}a^{1\\beta}a^{1\\alpha}a_{0\\alpha}a_{0\\beta}\n",
      " + -0.09376099045135429 * a^{0\\alpha}a^{0\\beta}a_{1\\beta}a_{1\\alpha}a^{1\\alpha}a^{1\\beta}a_{0\\beta}a_{0\\alpha}a^{0\\alpha}a^{0\\beta}a_{1\\beta}a_{1\\alpha}a^{1\\alpha}a^{1\\beta}a_{0\\beta}a_{0\\alpha}\n",
      " + -0.09376099045135429 * a^{0\\alpha}a^{0\\beta}a_{1\\beta}a_{1\\alpha}a^{1\\alpha}a^{1\\beta}a_{0\\beta}a_{0\\alpha}a^{0\\alpha}a^{0\\beta}a_{1\\beta}a_{1\\alpha}a^{1\\beta}a^{1\\alpha}a_{0\\alpha}a_{0\\beta}\n",
      " + -0.09376099045135429 * a^{0\\alpha}a^{0\\beta}a_{1\\beta}a_{1\\alpha}a^{1\\alpha}a^{1\\beta}a_{0\\beta}a_{0\\alpha}a^{0\\beta}a^{0\\alpha}a_{1\\alpha}a_{1\\beta}a^{1\\alpha}a^{1\\beta}a_{0\\beta}a_{0\\alpha}\n",
      " + -0.09376099045135429 * a^{0\\alpha}a^{0\\beta}a_{1\\beta}a_{1\\alpha}a^{1\\alpha}a^{1\\beta}a_{0\\beta}a_{0\\alpha}a^{0\\beta}a^{0\\alpha}a_{1\\alpha}a_{1\\beta}a^{1\\beta}a^{1\\alpha}a_{0\\alpha}a_{0\\beta}\n",
      " + -0.09376099045135429 * a^{0\\alpha}a^{0\\beta}a_{1\\beta}a_{1\\alpha}a^{1\\beta}a^{1\\alpha}a_{0\\alpha}a_{0\\beta}a^{0\\alpha}a^{0\\beta}a_{1\\beta}a_{1\\alpha}a^{1\\alpha}a^{1\\beta}a_{0\\beta}a_{0\\alpha}\n",
      " + -0.09376099045135429 * a^{0\\alpha}a^{0\\beta}a_{1\\beta}a_{1\\alpha}a^{1\\beta}a^{1\\alpha}a_{0\\alpha}a_{0\\beta}a^{0\\alpha}a^{0\\beta}a_{1\\beta}a_{1\\alpha}a^{1\\beta}a^{1\\alpha}a_{0\\alpha}a_{0\\beta}\n",
      " + -0.09376099045135429 * a^{0\\alpha}a^{0\\beta}a_{1\\beta}a_{1\\alpha}a^{1\\beta}a^{1\\alpha}a_{0\\alpha}a_{0\\beta}a^{0\\beta}a^{0\\alpha}a_{1\\alpha}a_{1\\beta}a^{1\\alpha}a^{1\\beta}a_{0\\beta}a_{0\\alpha}\n",
      " + -0.09376099045135429 * a^{0\\alpha}a^{0\\beta}a_{1\\beta}a_{1\\alpha}a^{1\\beta}a^{1\\alpha}a_{0\\alpha}a_{0\\beta}a^{0\\beta}a^{0\\alpha}a_{1\\alpha}a_{1\\beta}a^{1\\beta}a^{1\\alpha}a_{0\\alpha}a_{0\\beta}\n",
      " + -0.09376099045135429 * a^{0\\beta}a^{0\\alpha}a_{1\\alpha}a_{1\\beta}a^{1\\alpha}a^{1\\beta}a_{0\\beta}a_{0\\alpha}a^{0\\alpha}a^{0\\beta}a_{1\\beta}a_{1\\alpha}a^{1\\alpha}a^{1\\beta}a_{0\\beta}a_{0\\alpha}\n",
      " + -0.09376099045135429 * a^{0\\beta}a^{0\\alpha}a_{1\\alpha}a_{1\\beta}a^{1\\alpha}a^{1\\beta}a_{0\\beta}a_{0\\alpha}a^{0\\alpha}a^{0\\beta}a_{1\\beta}a_{1\\alpha}a^{1\\beta}a^{1\\alpha}a_{0\\alpha}a_{0\\beta}\n",
      " + -0.09376099045135429 * a^{0\\beta}a^{0\\alpha}a_{1\\alpha}a_{1\\beta}a^{1\\alpha}a^{1\\beta}a_{0\\beta}a_{0\\alpha}a^{0\\beta}a^{0\\alpha}a_{1\\alpha}a_{1\\beta}a^{1\\alpha}a^{1\\beta}a_{0\\beta}a_{0\\alpha}\n",
      " + -0.09376099045135429 * a^{0\\beta}a^{0\\alpha}a_{1\\alpha}a_{1\\beta}a^{1\\alpha}a^{1\\beta}a_{0\\beta}a_{0\\alpha}a^{0\\beta}a^{0\\alpha}a_{1\\alpha}a_{1\\beta}a^{1\\beta}a^{1\\alpha}a_{0\\alpha}a_{0\\beta}\n",
      " + -0.09376099045135429 * a^{0\\beta}a^{0\\alpha}a_{1\\alpha}a_{1\\beta}a^{1\\beta}a^{1\\alpha}a_{0\\alpha}a_{0\\beta}a^{0\\alpha}a^{0\\beta}a_{1\\beta}a_{1\\alpha}a^{1\\alpha}a^{1\\beta}a_{0\\beta}a_{0\\alpha}\n",
      " + -0.09376099045135429 * a^{0\\beta}a^{0\\alpha}a_{1\\alpha}a_{1\\beta}a^{1\\beta}a^{1\\alpha}a_{0\\alpha}a_{0\\beta}a^{0\\alpha}a^{0\\beta}a_{1\\beta}a_{1\\alpha}a^{1\\beta}a^{1\\alpha}a_{0\\alpha}a_{0\\beta}\n",
      " + -0.09376099045135429 * a^{0\\beta}a^{0\\alpha}a_{1\\alpha}a_{1\\beta}a^{1\\beta}a^{1\\alpha}a_{0\\alpha}a_{0\\beta}a^{0\\beta}a^{0\\alpha}a_{1\\alpha}a_{1\\beta}a^{1\\alpha}a^{1\\beta}a_{0\\beta}a_{0\\alpha}\n",
      " + -0.09376099045135429 * a^{0\\beta}a^{0\\alpha}a_{1\\alpha}a_{1\\beta}a^{1\\beta}a^{1\\alpha}a_{0\\alpha}a_{0\\beta}a^{0\\beta}a^{0\\alpha}a_{1\\alpha}a_{1\\beta}a^{1\\beta}a^{1\\alpha}a_{0\\alpha}a_{0\\beta}\n"
     ]
    }
   ],
   "metadata": {}
  },
  {
   "cell_type": "code",
   "execution_count": 122,
   "source": [
    "vacuumExpectationValue(projected, vacuum)"
   ],
   "outputs": [
    {
     "output_type": "execute_result",
     "data": {
      "text/plain": [
       "4.2201869394703415"
      ]
     },
     "metadata": {},
     "execution_count": 122
    }
   ],
   "metadata": {}
  },
  {
   "cell_type": "code",
   "execution_count": 123,
   "source": [
    "doublesAmplitudes[0,0,0,0] = -0.07016307"
   ],
   "outputs": [],
   "metadata": {}
  },
  {
   "cell_type": "code",
   "execution_count": 125,
   "source": [
    "newbch = BCHSimilarityTransform(hamiltonian, getClusterDoubles(doublesAmplitudes, Nocc, Norbs), 4)\n",
    "newbch.checkNilpotency()\n",
    "excitation = spinFreeDoubleExcitation(1,1,0,0)\n",
    "newprojected = (1 / sqrt(vacuumExpectationValue(excitation.conjugate() * excitation, vacuum))) * excitation.conjugate() * newbch\n",
    "print(vacuumExpectationValue(newbch, vacuum))\n",
    "print(vacuumExpectationValue(newprojected, vacuum, True))\n",
    "#print(newprojected)\n"
   ],
   "outputs": [
    {
     "output_type": "stream",
     "name": "stdout",
     "text": [
      "-1.7520059616031438\n",
      "0.046880495225677145 * a^{0\\alpha}a^{0\\beta}a_{1\\beta}a_{1\\alpha}a^{1\\alpha}a^{1\\beta}a_{0\\beta}a_{0\\alpha}\n",
      "0.046880495225677145 * a^{0\\alpha}a^{0\\beta}a_{1\\beta}a_{1\\alpha}a^{1\\beta}a^{1\\alpha}a_{0\\alpha}a_{0\\beta}\n",
      "0.046880495225677145 * a^{0\\beta}a^{0\\alpha}a_{1\\alpha}a_{1\\beta}a^{1\\alpha}a^{1\\beta}a_{0\\beta}a_{0\\alpha}\n",
      "0.046880495225677145 * a^{0\\beta}a^{0\\alpha}a_{1\\alpha}a_{1\\beta}a^{1\\beta}a^{1\\alpha}a_{0\\alpha}a_{0\\beta}\n",
      "-0.04174178612143377 * a^{0\\alpha}a^{0\\beta}a_{1\\beta}a_{1\\alpha}a^{1\\alpha}a^{1\\beta}a_{0\\beta}a_{0\\alpha}a^{0\\alpha}a_{0\\alpha}\n",
      "-0.04174178612143377 * a^{0\\alpha}a^{0\\beta}a_{1\\beta}a_{1\\alpha}a^{1\\alpha}a^{1\\beta}a_{0\\beta}a_{0\\alpha}a^{0\\beta}a_{0\\beta}\n",
      "0.018724737791131398 * a^{0\\alpha}a^{0\\beta}a_{1\\beta}a_{1\\alpha}a^{1\\alpha}a_{1\\alpha}a^{1\\alpha}a^{1\\beta}a_{0\\beta}a_{0\\alpha}\n",
      "0.018724737791131398 * a^{0\\alpha}a^{0\\beta}a_{1\\beta}a_{1\\alpha}a^{1\\alpha}a_{1\\alpha}a^{1\\beta}a^{1\\alpha}a_{0\\alpha}a_{0\\beta}\n",
      "-0.04174178612143377 * a^{0\\alpha}a^{0\\beta}a_{1\\beta}a_{1\\alpha}a^{1\\beta}a^{1\\alpha}a_{0\\alpha}a_{0\\beta}a^{0\\alpha}a_{0\\alpha}\n",
      "-0.04174178612143377 * a^{0\\alpha}a^{0\\beta}a_{1\\beta}a_{1\\alpha}a^{1\\beta}a^{1\\alpha}a_{0\\alpha}a_{0\\beta}a^{0\\beta}a_{0\\beta}\n",
      "0.018724737791131398 * a^{0\\alpha}a^{0\\beta}a_{1\\beta}a_{1\\alpha}a^{1\\beta}a_{1\\beta}a^{1\\alpha}a^{1\\beta}a_{0\\beta}a_{0\\alpha}\n",
      "0.018724737791131398 * a^{0\\alpha}a^{0\\beta}a_{1\\beta}a_{1\\alpha}a^{1\\beta}a_{1\\beta}a^{1\\beta}a^{1\\alpha}a_{0\\alpha}a_{0\\beta}\n",
      "-0.04174178612143377 * a^{0\\beta}a^{0\\alpha}a_{1\\alpha}a_{1\\beta}a^{1\\alpha}a^{1\\beta}a_{0\\beta}a_{0\\alpha}a^{0\\alpha}a_{0\\alpha}\n",
      "-0.04174178612143377 * a^{0\\beta}a^{0\\alpha}a_{1\\alpha}a_{1\\beta}a^{1\\alpha}a^{1\\beta}a_{0\\beta}a_{0\\alpha}a^{0\\beta}a_{0\\beta}\n",
      "0.018724737791131398 * a^{0\\beta}a^{0\\alpha}a_{1\\alpha}a_{1\\beta}a^{1\\alpha}a_{1\\alpha}a^{1\\alpha}a^{1\\beta}a_{0\\beta}a_{0\\alpha}\n",
      "0.018724737791131398 * a^{0\\beta}a^{0\\alpha}a_{1\\alpha}a_{1\\beta}a^{1\\alpha}a_{1\\alpha}a^{1\\beta}a^{1\\alpha}a_{0\\alpha}a_{0\\beta}\n",
      "-0.04174178612143377 * a^{0\\beta}a^{0\\alpha}a_{1\\alpha}a_{1\\beta}a^{1\\beta}a^{1\\alpha}a_{0\\alpha}a_{0\\beta}a^{0\\alpha}a_{0\\alpha}\n",
      "-0.04174178612143377 * a^{0\\beta}a^{0\\alpha}a_{1\\alpha}a_{1\\beta}a^{1\\beta}a^{1\\alpha}a_{0\\alpha}a_{0\\beta}a^{0\\beta}a_{0\\beta}\n",
      "0.018724737791131398 * a^{0\\beta}a^{0\\alpha}a_{1\\alpha}a_{1\\beta}a^{1\\beta}a_{1\\beta}a^{1\\alpha}a^{1\\beta}a_{0\\beta}a_{0\\alpha}\n",
      "0.018724737791131398 * a^{0\\beta}a^{0\\alpha}a_{1\\alpha}a_{1\\beta}a^{1\\beta}a_{1\\beta}a^{1\\beta}a^{1\\alpha}a_{0\\alpha}a_{0\\beta}\n",
      "0.011471828781486377 * a^{0\\alpha}a^{0\\beta}a_{1\\beta}a_{1\\alpha}a^{1\\alpha}a^{1\\beta}a_{0\\beta}a_{0\\alpha}a^{0\\alpha}a^{0\\beta}a_{0\\beta}a_{0\\alpha}\n",
      "0.011471828781486377 * a^{0\\alpha}a^{0\\beta}a_{1\\beta}a_{1\\alpha}a^{1\\alpha}a^{1\\beta}a_{0\\beta}a_{0\\alpha}a^{0\\beta}a^{0\\alpha}a_{0\\alpha}a_{0\\beta}\n",
      "-0.01189502913136124 * a^{0\\alpha}a^{0\\beta}a_{1\\beta}a_{1\\alpha}a^{1\\alpha}a^{1\\beta}a_{1\\beta}a_{1\\alpha}a^{1\\alpha}a^{1\\beta}a_{0\\beta}a_{0\\alpha}\n",
      "-0.01189502913136124 * a^{0\\alpha}a^{0\\beta}a_{1\\beta}a_{1\\alpha}a^{1\\alpha}a^{1\\beta}a_{1\\beta}a_{1\\alpha}a^{1\\beta}a^{1\\alpha}a_{0\\alpha}a_{0\\beta}\n",
      "0.011471828781486377 * a^{0\\alpha}a^{0\\beta}a_{1\\beta}a_{1\\alpha}a^{1\\beta}a^{1\\alpha}a_{0\\alpha}a_{0\\beta}a^{0\\alpha}a^{0\\beta}a_{0\\beta}a_{0\\alpha}\n",
      "0.011471828781486377 * a^{0\\alpha}a^{0\\beta}a_{1\\beta}a_{1\\alpha}a^{1\\beta}a^{1\\alpha}a_{0\\alpha}a_{0\\beta}a^{0\\beta}a^{0\\alpha}a_{0\\alpha}a_{0\\beta}\n",
      "-0.01189502913136124 * a^{0\\alpha}a^{0\\beta}a_{1\\beta}a_{1\\alpha}a^{1\\beta}a^{1\\alpha}a_{1\\alpha}a_{1\\beta}a^{1\\alpha}a^{1\\beta}a_{0\\beta}a_{0\\alpha}\n",
      "-0.01189502913136124 * a^{0\\alpha}a^{0\\beta}a_{1\\beta}a_{1\\alpha}a^{1\\beta}a^{1\\alpha}a_{1\\alpha}a_{1\\beta}a^{1\\beta}a^{1\\alpha}a_{0\\alpha}a_{0\\beta}\n",
      "0.011471828781486377 * a^{0\\beta}a^{0\\alpha}a_{1\\alpha}a_{1\\beta}a^{1\\alpha}a^{1\\beta}a_{0\\beta}a_{0\\alpha}a^{0\\alpha}a^{0\\beta}a_{0\\beta}a_{0\\alpha}\n",
      "0.011471828781486377 * a^{0\\beta}a^{0\\alpha}a_{1\\alpha}a_{1\\beta}a^{1\\alpha}a^{1\\beta}a_{0\\beta}a_{0\\alpha}a^{0\\beta}a^{0\\alpha}a_{0\\alpha}a_{0\\beta}\n",
      "-0.01189502913136124 * a^{0\\beta}a^{0\\alpha}a_{1\\alpha}a_{1\\beta}a^{1\\alpha}a^{1\\beta}a_{1\\beta}a_{1\\alpha}a^{1\\alpha}a^{1\\beta}a_{0\\beta}a_{0\\alpha}\n",
      "-0.01189502913136124 * a^{0\\beta}a^{0\\alpha}a_{1\\alpha}a_{1\\beta}a^{1\\alpha}a^{1\\beta}a_{1\\beta}a_{1\\alpha}a^{1\\beta}a^{1\\alpha}a_{0\\alpha}a_{0\\beta}\n",
      "0.011471828781486377 * a^{0\\beta}a^{0\\alpha}a_{1\\alpha}a_{1\\beta}a^{1\\beta}a^{1\\alpha}a_{0\\alpha}a_{0\\beta}a^{0\\alpha}a^{0\\beta}a_{0\\beta}a_{0\\alpha}\n",
      "0.011471828781486377 * a^{0\\beta}a^{0\\alpha}a_{1\\alpha}a_{1\\beta}a^{1\\beta}a^{1\\alpha}a_{0\\alpha}a_{0\\beta}a^{0\\beta}a^{0\\alpha}a_{0\\alpha}a_{0\\beta}\n",
      "-0.01189502913136124 * a^{0\\beta}a^{0\\alpha}a_{1\\alpha}a_{1\\beta}a^{1\\beta}a^{1\\alpha}a_{1\\alpha}a_{1\\beta}a^{1\\alpha}a^{1\\beta}a_{0\\beta}a_{0\\alpha}\n",
      "-0.01189502913136124 * a^{0\\beta}a^{0\\alpha}a_{1\\alpha}a_{1\\beta}a^{1\\beta}a^{1\\alpha}a_{1\\alpha}a_{1\\beta}a^{1\\beta}a^{1\\alpha}a_{0\\alpha}a_{0\\beta}\n",
      "-0.00023078594557364142 * a^{0\\alpha}a^{0\\beta}a_{1\\beta}a_{1\\alpha}a^{1\\alpha}a^{1\\beta}a_{0\\beta}a_{0\\alpha}a^{0\\alpha}a^{0\\beta}a_{1\\beta}a_{1\\alpha}a^{1\\alpha}a^{1\\beta}a_{0\\beta}a_{0\\alpha}\n",
      "-0.00023078594557364142 * a^{0\\alpha}a^{0\\beta}a_{1\\beta}a_{1\\alpha}a^{1\\alpha}a^{1\\beta}a_{0\\beta}a_{0\\alpha}a^{0\\alpha}a^{0\\beta}a_{1\\beta}a_{1\\alpha}a^{1\\beta}a^{1\\alpha}a_{0\\alpha}a_{0\\beta}\n",
      "-0.00023078594557364142 * a^{0\\alpha}a^{0\\beta}a_{1\\beta}a_{1\\alpha}a^{1\\alpha}a^{1\\beta}a_{0\\beta}a_{0\\alpha}a^{0\\beta}a^{0\\alpha}a_{1\\alpha}a_{1\\beta}a^{1\\alpha}a^{1\\beta}a_{0\\beta}a_{0\\alpha}\n",
      "-0.00023078594557364142 * a^{0\\alpha}a^{0\\beta}a_{1\\beta}a_{1\\alpha}a^{1\\alpha}a^{1\\beta}a_{0\\beta}a_{0\\alpha}a^{0\\beta}a^{0\\alpha}a_{1\\alpha}a_{1\\beta}a^{1\\beta}a^{1\\alpha}a_{0\\alpha}a_{0\\beta}\n",
      "-0.00023078594557364142 * a^{0\\alpha}a^{0\\beta}a_{1\\beta}a_{1\\alpha}a^{1\\beta}a^{1\\alpha}a_{0\\alpha}a_{0\\beta}a^{0\\alpha}a^{0\\beta}a_{1\\beta}a_{1\\alpha}a^{1\\alpha}a^{1\\beta}a_{0\\beta}a_{0\\alpha}\n",
      "-0.00023078594557364142 * a^{0\\alpha}a^{0\\beta}a_{1\\beta}a_{1\\alpha}a^{1\\beta}a^{1\\alpha}a_{0\\alpha}a_{0\\beta}a^{0\\alpha}a^{0\\beta}a_{1\\beta}a_{1\\alpha}a^{1\\beta}a^{1\\alpha}a_{0\\alpha}a_{0\\beta}\n",
      "-0.00023078594557364142 * a^{0\\alpha}a^{0\\beta}a_{1\\beta}a_{1\\alpha}a^{1\\beta}a^{1\\alpha}a_{0\\alpha}a_{0\\beta}a^{0\\beta}a^{0\\alpha}a_{1\\alpha}a_{1\\beta}a^{1\\alpha}a^{1\\beta}a_{0\\beta}a_{0\\alpha}\n",
      "-0.00023078594557364142 * a^{0\\alpha}a^{0\\beta}a_{1\\beta}a_{1\\alpha}a^{1\\beta}a^{1\\alpha}a_{0\\alpha}a_{0\\beta}a^{0\\beta}a^{0\\alpha}a_{1\\alpha}a_{1\\beta}a^{1\\beta}a^{1\\alpha}a_{0\\alpha}a_{0\\beta}\n",
      "-0.00023078594557364142 * a^{0\\beta}a^{0\\alpha}a_{1\\alpha}a_{1\\beta}a^{1\\alpha}a^{1\\beta}a_{0\\beta}a_{0\\alpha}a^{0\\alpha}a^{0\\beta}a_{1\\beta}a_{1\\alpha}a^{1\\alpha}a^{1\\beta}a_{0\\beta}a_{0\\alpha}\n",
      "-0.00023078594557364142 * a^{0\\beta}a^{0\\alpha}a_{1\\alpha}a_{1\\beta}a^{1\\alpha}a^{1\\beta}a_{0\\beta}a_{0\\alpha}a^{0\\alpha}a^{0\\beta}a_{1\\beta}a_{1\\alpha}a^{1\\beta}a^{1\\alpha}a_{0\\alpha}a_{0\\beta}\n",
      "-0.00023078594557364142 * a^{0\\beta}a^{0\\alpha}a_{1\\alpha}a_{1\\beta}a^{1\\alpha}a^{1\\beta}a_{0\\beta}a_{0\\alpha}a^{0\\beta}a^{0\\alpha}a_{1\\alpha}a_{1\\beta}a^{1\\alpha}a^{1\\beta}a_{0\\beta}a_{0\\alpha}\n",
      "-0.00023078594557364142 * a^{0\\beta}a^{0\\alpha}a_{1\\alpha}a_{1\\beta}a^{1\\alpha}a^{1\\beta}a_{0\\beta}a_{0\\alpha}a^{0\\beta}a^{0\\alpha}a_{1\\alpha}a_{1\\beta}a^{1\\beta}a^{1\\alpha}a_{0\\alpha}a_{0\\beta}\n",
      "-0.00023078594557364142 * a^{0\\beta}a^{0\\alpha}a_{1\\alpha}a_{1\\beta}a^{1\\beta}a^{1\\alpha}a_{0\\alpha}a_{0\\beta}a^{0\\alpha}a^{0\\beta}a_{1\\beta}a_{1\\alpha}a^{1\\alpha}a^{1\\beta}a_{0\\beta}a_{0\\alpha}\n",
      "-0.00023078594557364142 * a^{0\\beta}a^{0\\alpha}a_{1\\alpha}a_{1\\beta}a^{1\\beta}a^{1\\alpha}a_{0\\alpha}a_{0\\beta}a^{0\\alpha}a^{0\\beta}a_{1\\beta}a_{1\\alpha}a^{1\\beta}a^{1\\alpha}a_{0\\alpha}a_{0\\beta}\n",
      "-0.00023078594557364142 * a^{0\\beta}a^{0\\alpha}a_{1\\alpha}a_{1\\beta}a^{1\\beta}a^{1\\alpha}a_{0\\alpha}a_{0\\beta}a^{0\\beta}a^{0\\alpha}a_{1\\alpha}a_{1\\beta}a^{1\\alpha}a^{1\\beta}a_{0\\beta}a_{0\\alpha}\n",
      "-0.00023078594557364142 * a^{0\\beta}a^{0\\alpha}a_{1\\alpha}a_{1\\beta}a^{1\\beta}a^{1\\alpha}a_{0\\alpha}a_{0\\beta}a^{0\\beta}a^{0\\alpha}a_{1\\alpha}a_{1\\beta}a^{1\\beta}a^{1\\alpha}a_{0\\alpha}a_{0\\beta}\n",
      "-0.0036925836678875575\n"
     ]
    }
   ],
   "metadata": {
    "tags": []
   }
  },
  {
   "cell_type": "code",
   "execution_count": 126,
   "source": [
    "print(vacuumExpectationValue(newbch, vacuum) + mol.energy_nuc())"
   ],
   "outputs": [
    {
     "output_type": "stream",
     "name": "stdout",
     "text": [
      "-1.128953046936954\n"
     ]
    }
   ],
   "metadata": {}
  },
  {
   "cell_type": "code",
   "execution_count": 127,
   "source": [
    "clusterDoubles = getClusterDoubles(doublesAmplitudes, Nocc, Norbs)\n",
    "waveoperator = exponentialOperator(clusterDoubles, 3)\n",
    "print(waveoperator)\n",
    "inversewaveoperator = exponentialOperator((-1) * clusterDoubles, 3)\n",
    "print(inversewaveoperator)"
   ],
   "outputs": [
    {
     "output_type": "stream",
     "name": "stdout",
     "text": [
      "1.0\n",
      " + -0.07016307 * a^{1\\alpha}a^{1\\beta}a_{0\\beta}a_{0\\alpha}\n",
      " + -0.07016307 * a^{1\\beta}a^{1\\alpha}a_{0\\alpha}a_{0\\beta}\n",
      "1.0\n",
      " + 0.07016307 * a^{1\\alpha}a^{1\\beta}a_{0\\beta}a_{0\\alpha}\n",
      " + 0.07016307 * a^{1\\beta}a^{1\\alpha}a_{0\\alpha}a_{0\\beta}\n"
     ]
    }
   ],
   "metadata": {}
  },
  {
   "cell_type": "code",
   "execution_count": 128,
   "source": [
    "doubleexcitation = getClusterDoubles(np.array([[[[1.]]]]), Nocc, Norbs).summandList[1]\n",
    "fcioperator = (0.990656547) + (-0.136380375) * doubleexcitation\n",
    "print(fcioperator)"
   ],
   "outputs": [
    {
     "output_type": "stream",
     "name": "stdout",
     "text": [
      "0.990656547\n",
      " + -0.136380375 * a^{1\\alpha}a^{1\\beta}a_{0\\beta}a_{0\\alpha}\n"
     ]
    }
   ],
   "metadata": {}
  },
  {
   "cell_type": "code",
   "execution_count": 130,
   "source": [
    "fcinormFactor = vacuumExpectationValue(fcioperator.conjugate() * fcioperator, vacuum, True)\n",
    "print(fcinormFactor)\n",
    "electronicFCIEnergy = vacuumExpectationValue(fcioperator.conjugate() * hamiltonian * fcioperator, vacuum, True) / fcinormFactor\n",
    "print(electronicFCIEnergy)\n",
    "print(electronicFCIEnergy + mol.energy_nuc())"
   ],
   "outputs": [
    {
     "output_type": "stream",
     "name": "stdout",
     "text": [
      "0.9814003941139633\n",
      "0.018599606685140626 * a^{0\\alpha}a^{0\\beta}a_{1\\beta}a_{1\\alpha}a^{1\\alpha}a^{1\\beta}a_{0\\beta}a_{0\\alpha}\n",
      "1.000000000799104\n",
      "-1.167719866037671 * a^{0\\alpha}a_{0\\alpha}\n",
      "-1.167719866037671 * a^{0\\beta}a_{0\\beta}\n",
      "0.32092259609959023 * a^{0\\alpha}a^{0\\beta}a_{0\\beta}a_{0\\alpha}\n",
      "0.32092259609959023 * a^{0\\beta}a^{0\\alpha}a_{0\\alpha}a_{0\\beta}\n",
      "-0.012667682818650852 * a^{0\\alpha}a^{0\\beta}a_{1\\beta}a_{1\\alpha}a^{1\\alpha}a^{1\\beta}a_{0\\beta}a_{0\\alpha}\n",
      "-0.012667682818650852 * a^{0\\alpha}a^{0\\beta}a_{1\\beta}a_{1\\alpha}a^{1\\beta}a^{1\\alpha}a_{0\\alpha}a_{0\\beta}\n",
      "-0.012667682818650852 * a^{0\\alpha}a^{0\\beta}a_{1\\beta}a_{1\\alpha}a^{1\\alpha}a^{1\\beta}a_{0\\beta}a_{0\\alpha}\n",
      "-0.012667682818650852 * a^{0\\beta}a^{0\\alpha}a_{1\\alpha}a_{1\\beta}a^{1\\alpha}a^{1\\beta}a_{0\\beta}a_{0\\alpha}\n",
      "-0.009927523359437748 * a^{0\\alpha}a^{0\\beta}a_{1\\beta}a_{1\\alpha}a^{1\\alpha}a_{1\\alpha}a^{1\\alpha}a^{1\\beta}a_{0\\beta}a_{0\\alpha}\n",
      "-0.009927523359437748 * a^{0\\alpha}a^{0\\beta}a_{1\\beta}a_{1\\alpha}a^{1\\beta}a_{1\\beta}a^{1\\alpha}a^{1\\beta}a_{0\\beta}a_{0\\alpha}\n",
      "0.006306533147754481 * a^{0\\alpha}a^{0\\beta}a_{1\\beta}a_{1\\alpha}a^{1\\alpha}a^{1\\beta}a_{1\\beta}a_{1\\alpha}a^{1\\alpha}a^{1\\beta}a_{0\\beta}a_{0\\alpha}\n",
      "0.006306533147754481 * a^{0\\alpha}a^{0\\beta}a_{1\\beta}a_{1\\alpha}a^{1\\beta}a^{1\\alpha}a_{1\\alpha}a_{1\\beta}a^{1\\alpha}a^{1\\beta}a_{0\\beta}a_{0\\alpha}\n",
      "-1.751507250174496\n",
      "-1.128454335508306\n"
     ]
    }
   ],
   "metadata": {}
  },
  {
   "cell_type": "code",
   "execution_count": 131,
   "source": [
    "cisolver.kernel()"
   ],
   "outputs": [
    {
     "output_type": "execute_result",
     "data": {
      "text/plain": [
       "(-1.1284543355083052,\n",
       " array([[ 9.90656547e-01,  2.77555756e-17],\n",
       "        [ 1.91460513e-17, -1.36380375e-01]]))"
      ]
     },
     "metadata": {},
     "execution_count": 131
    }
   ],
   "metadata": {}
  },
  {
   "cell_type": "code",
   "execution_count": 133,
   "source": [
    "print(vacuumExpectationValue(inversewaveoperator * hamiltonian * waveoperator, vacuum))"
   ],
   "outputs": [
    {
     "output_type": "stream",
     "name": "stdout",
     "text": [
      "-1.7520059616031438\n"
     ]
    }
   ],
   "metadata": {}
  },
  {
   "cell_type": "code",
   "execution_count": 134,
   "source": [
    "normFactor = vacuumExpectationValue(waveoperator.conjugate() * waveoperator, vacuum)\n",
    "electronicCCEnergy = vacuumExpectationValue(waveoperator.conjugate() * hamiltonian * waveoperator, vacuum) / normFactor\n",
    "print(electronicCCEnergy)\n",
    "print(electronicCCEnergy + mol.energy_nuc())"
   ],
   "outputs": [
    {
     "output_type": "stream",
     "name": "stdout",
     "text": [
      "-1.7514978019778398\n",
      "-1.12844488731165\n"
     ]
    }
   ],
   "metadata": {}
  },
  {
   "cell_type": "code",
   "execution_count": 138,
   "source": [
    "def testDoublesAmplitudes(doublesAmplitudes_):\n",
    "    newbch = BCHSimilarityTransform(hamiltonian, getClusterDoubles(doublesAmplitudes_, Nocc, Norbs), 4)\n",
    "    newbch.checkNilpotency()\n",
    "    excitation = spinFreeDoubleExcitation(1,1,0,0)\n",
    "#    newprojected = (1 / sqrt(vacuumExpectationValue3(excitation.conjugate() * excitation, vacuum))) * excitation.conjugate() * newbch\n",
    "    newprojected = excitation.conjugate() * newbch\n",
    "    return vacuumExpectationValue(newprojected, vacuum)"
   ],
   "outputs": [],
   "metadata": {}
  },
  {
   "cell_type": "code",
   "execution_count": 139,
   "source": [
    "def testSinglesAmplitudes(singlesAmplitudes_):\n",
    "    newbch = BCHSimilarityTransform(hamiltonian, getClusterSingles(singlesAmplitudes_, Nocc, Norbs), 4)\n",
    "    newbch.checkNilpotency()\n",
    "    excitation = spinFreeSingleExcitation(1,0)\n",
    "    newprojected = excitation.conjugate() * newbch\n",
    "    return vacuumExpectationValue(newprojected, vacuum)"
   ],
   "outputs": [],
   "metadata": {}
  },
  {
   "cell_type": "code",
   "execution_count": 140,
   "source": [
    "vacuumExpectationValue(hamiltonian, vacuum)"
   ],
   "outputs": [
    {
     "output_type": "execute_result",
     "data": {
      "text/plain": [
       "-1.7256917258579132"
      ]
     },
     "metadata": {},
     "execution_count": 140
    }
   ],
   "metadata": {}
  },
  {
   "cell_type": "code",
   "execution_count": 141,
   "source": [
    "def testAmplitudes(singlesAmplitudes_, doublesAmplitudes_):\n",
    "    newbch = BCHSimilarityTransform(hamiltonian, getClusterSingles(singlesAmplitudes_, Nocc, Norbs) + getClusterDoubles(doublesAmplitudes_, Nocc, Norbs), 4)\n",
    "    newbch.checkNilpotency()\n",
    "    excitations = [spinFreeSingleExcitation(1,0), spinFreeDoubleExcitation(1,1,0,0)]\n",
    "    projectedVEVs = []\n",
    "    for excitation in excitations:\n",
    "        newprojected = excitation.conjugate() * newbch\n",
    "        projectedVEVs.append(vacuumExpectationValue(newprojected, vacuum))\n",
    "    return projectedVEVs\n"
   ],
   "outputs": [],
   "metadata": {}
  },
  {
   "cell_type": "code",
   "execution_count": 142,
   "source": [
    "print(testDoublesAmplitudes(doublesAmplitudes))"
   ],
   "outputs": [
    {
     "output_type": "stream",
     "name": "stdout",
     "text": [
      "-0.007385167335775115\n"
     ]
    }
   ],
   "metadata": {}
  },
  {
   "cell_type": "code",
   "execution_count": 143,
   "source": [
    "print(singlesAmplitudes, doublesAmplitudes)\n",
    "print(testAmplitudes(singlesAmplitudes, doublesAmplitudes))"
   ],
   "outputs": [
    {
     "output_type": "stream",
     "name": "stdout",
     "text": [
      "[[1.]] [[[[-0.07016307]]]]\n",
      "[0.9722673740422316, 0.45095247819856366]\n"
     ]
    }
   ],
   "metadata": {}
  },
  {
   "cell_type": "code",
   "execution_count": 144,
   "source": [
    "from scipy.optimize import fsolve\n",
    "def testFunc(x):\n",
    "    doublesAmplitudes[0,0,0,0] = x\n",
    "#    singlesAmplitudes[0,0] = x\n",
    "    test = testDoublesAmplitudes(doublesAmplitudes)\n",
    "    print(x, test)\n",
    "    return test"
   ],
   "outputs": [],
   "metadata": {}
  },
  {
   "cell_type": "code",
   "execution_count": 145,
   "source": [
    "amplitude = fsolve(testFunc, 0)\n",
    "print(amplitude)"
   ],
   "outputs": [
    {
     "output_type": "stream",
     "name": "stdout",
     "text": [
      "[0] 0.37504396180541716\n",
      "[0.] 0.37504396180541716\n",
      "[0.] 0.37504396180541716\n",
      "[1.49011612e-08] 0.3750440414568746\n",
      "[-0.07016307] -0.0073851496474540805\n",
      "[-0.06880814] 0.00013986172659737056\n",
      "[-0.06883332] 5.023655752880215e-08\n",
      "[-0.06883333] -3.420283804442259e-13\n",
      "[-0.06883333] 3.2526065174565133e-19\n",
      "[-0.06883333]\n"
     ]
    }
   ],
   "metadata": {
    "tags": []
   }
  },
  {
   "cell_type": "code",
   "execution_count": 147,
   "source": [
    "print(amplitude[0])\n",
    "doublesAmplitudes[0,0,0,0] = amplitude[0]\n",
    "clusterDoubles = getClusterDoubles(doublesAmplitudes, Nocc, Norbs)\n",
    "waveoperator = exponentialOperator(clusterDoubles, 3)\n",
    "print(waveoperator)\n",
    "inversewaveoperator = exponentialOperator((-1) * clusterDoubles, 3)\n",
    "print(inversewaveoperator)\n",
    "electronicCCEnergy = vacuumExpectationValue(inversewaveoperator * hamiltonian * waveoperator, vacuum)\n",
    "print(electronicCCEnergy)\n",
    "print(electronicCCEnergy + mol.energy_nuc())"
   ],
   "outputs": [
    {
     "output_type": "stream",
     "name": "stdout",
     "text": [
      "-0.06883332874447325\n",
      "1.0\n",
      " + -0.06883332874447325 * a^{1\\alpha}a^{1\\beta}a_{0\\beta}a_{0\\alpha}\n",
      " + -0.06883332874447325 * a^{1\\beta}a^{1\\alpha}a_{0\\alpha}a_{0\\beta}\n",
      "1.0\n",
      " + 0.06883332874447325 * a^{1\\alpha}a^{1\\beta}a_{0\\beta}a_{0\\alpha}\n",
      " + 0.06883332874447325 * a^{1\\beta}a^{1\\alpha}a_{0\\alpha}a_{0\\beta}\n",
      "-1.751507250174495\n",
      "-1.1284543355083052\n"
     ]
    }
   ],
   "metadata": {}
  },
  {
   "cell_type": "code",
   "execution_count": 149,
   "source": [
    "excitation = spinFreeDoubleExcitation(1,1,0,0)\n",
    "print(excitation)\n",
    "excitation.checkNilpotency()\n",
    "print(excitation)\n",
    "print(vacuumExpectationValue(excitation.conjugate() * excitation, vacuum))\n",
    "excitedenergy = (1 / sqrt(vacuumExpectationValue(excitation.conjugate() * excitation, vacuum))) * excitation.conjugate() * hamiltonian * (1 / sqrt(vacuumExpectationValue(excitation.conjugate() * excitation, vacuum))) * excitation\n",
    "print(vacuumExpectationValue(excitedenergy, vacuum))"
   ],
   "outputs": [
    {
     "output_type": "stream",
     "name": "stdout",
     "text": [
      "1.0 * a^{1\\alpha}a^{1\\alpha}a_{0\\alpha}a_{0\\alpha}\n",
      " + 1.0 * a^{1\\alpha}a^{1\\beta}a_{0\\beta}a_{0\\alpha}\n",
      " + 1.0 * a^{1\\beta}a^{1\\alpha}a_{0\\alpha}a_{0\\beta}\n",
      " + 1.0 * a^{1\\beta}a^{1\\beta}a_{0\\beta}a_{0\\beta}\n",
      "0.0\n",
      " + 1.0 * a^{1\\alpha}a^{1\\beta}a_{0\\beta}a_{0\\alpha}\n",
      " + 1.0 * a^{1\\beta}a^{1\\alpha}a_{0\\alpha}a_{0\\beta}\n",
      " + 0.0\n",
      "4.0\n",
      "-0.38936201963626527\n"
     ]
    }
   ],
   "metadata": {}
  },
  {
   "cell_type": "code",
   "execution_count": 150,
   "source": [
    "mf.mo_occ"
   ],
   "outputs": [
    {
     "output_type": "execute_result",
     "data": {
      "text/plain": [
       "NPArrayWithTag([2., 0.])"
      ]
     },
     "metadata": {},
     "execution_count": 150
    }
   ],
   "metadata": {}
  },
  {
   "cell_type": "code",
   "execution_count": 151,
   "source": [
    "print(hamiltonian)"
   ],
   "outputs": [
    {
     "output_type": "stream",
     "name": "stdout",
     "text": [
      "-4.7142356915405136e-17 * a^{1\\alpha}a_{0\\alpha}\n",
      " + -0.5337491016607854 * a^{1\\alpha}a_{1\\alpha}\n",
      " + -4.7142356915405136e-17 * a^{1\\beta}a_{0\\beta}\n",
      " + -0.5337491016607854 * a^{1\\beta}a_{1\\beta}\n",
      " + -1.1898506186070186 * a^{0\\alpha}a_{0\\alpha}\n",
      " + 2.600212552842601e-17 * a^{0\\alpha}a_{1\\alpha}\n",
      " + -1.1898506186070186 * a^{0\\beta}a_{0\\beta}\n",
      " + 2.600212552842601e-17 * a^{0\\beta}a_{1\\beta}\n",
      " + 0.0\n",
      " + 0.0\n",
      " + 0.0\n",
      " + 0.0\n",
      " + 0.09376099045135429 * a^{1\\alpha}a^{1\\beta}a_{0\\beta}a_{0\\alpha}\n",
      " + 6.938893903907228e-17 * a^{1\\alpha}a^{1\\beta}a_{0\\beta}a_{1\\alpha}\n",
      " + 2.7755575615628914e-17 * a^{1\\alpha}a^{1\\beta}a_{1\\beta}a_{0\\alpha}\n",
      " + 0.33906809184265285 * a^{1\\alpha}a^{1\\beta}a_{1\\beta}a_{1\\alpha}\n",
      " + 0.0\n",
      " + 0.3226247132942422 * a^{1\\alpha}a^{0\\alpha}a_{0\\alpha}a_{1\\alpha}\n",
      " + 0.0\n",
      " + 5.204170427930421e-17 * a^{1\\alpha}a^{0\\beta}a_{0\\beta}a_{0\\alpha}\n",
      " + 0.3226247132942422 * a^{1\\alpha}a^{0\\beta}a_{0\\beta}a_{1\\alpha}\n",
      " + 6.938893903907228e-17 * a^{1\\alpha}a^{0\\beta}a_{1\\beta}a_{1\\alpha}\n",
      " + 0.09376099045135429 * a^{1\\beta}a^{1\\alpha}a_{0\\alpha}a_{0\\beta}\n",
      " + 6.938893903907228e-17 * a^{1\\beta}a^{1\\alpha}a_{0\\alpha}a_{1\\beta}\n",
      " + 2.7755575615628914e-17 * a^{1\\beta}a^{1\\alpha}a_{1\\alpha}a_{0\\beta}\n",
      " + 0.33906809184265285 * a^{1\\beta}a^{1\\alpha}a_{1\\alpha}a_{1\\beta}\n",
      " + 0.0\n",
      " + 0.0\n",
      " + 0.0\n",
      " + 0.0\n",
      " + 5.204170427930421e-17 * a^{1\\beta}a^{0\\alpha}a_{0\\alpha}a_{0\\beta}\n",
      " + 0.3226247132942422 * a^{1\\beta}a^{0\\alpha}a_{0\\alpha}a_{1\\beta}\n",
      " + 6.938893903907228e-17 * a^{1\\beta}a^{0\\alpha}a_{1\\alpha}a_{1\\beta}\n",
      " + 0.0\n",
      " + 0.3226247132942422 * a^{1\\beta}a^{0\\beta}a_{0\\beta}a_{1\\beta}\n",
      " + 0.0\n",
      " + 0.0\n",
      " + 0.3226247132942424 * a^{0\\alpha}a^{1\\alpha}a_{1\\alpha}a_{0\\alpha}\n",
      " + 0.0\n",
      " + 4.163336342344337e-17 * a^{0\\alpha}a^{1\\beta}a_{0\\beta}a_{0\\alpha}\n",
      " + 0.3226247132942424 * a^{0\\alpha}a^{1\\beta}a_{1\\beta}a_{0\\alpha}\n",
      " + 2.7755575615628914e-17 * a^{0\\alpha}a^{1\\beta}a_{1\\beta}a_{1\\alpha}\n",
      " + 0.0\n",
      " + 0.0\n",
      " + 0.0\n",
      " + 0.0\n",
      " + 0.3270047556780619 * a^{0\\alpha}a^{0\\beta}a_{0\\beta}a_{0\\alpha}\n",
      " + 5.204170427930421e-17 * a^{0\\alpha}a^{0\\beta}a_{0\\beta}a_{1\\alpha}\n",
      " + 4.163336342344337e-17 * a^{0\\alpha}a^{0\\beta}a_{1\\beta}a_{0\\alpha}\n",
      " + 0.09376099045135429 * a^{0\\alpha}a^{0\\beta}a_{1\\beta}a_{1\\alpha}\n",
      " + 4.163336342344337e-17 * a^{0\\beta}a^{1\\alpha}a_{0\\alpha}a_{0\\beta}\n",
      " + 0.3226247132942424 * a^{0\\beta}a^{1\\alpha}a_{1\\alpha}a_{0\\beta}\n",
      " + 2.7755575615628914e-17 * a^{0\\beta}a^{1\\alpha}a_{1\\alpha}a_{1\\beta}\n",
      " + 0.0\n",
      " + 0.3226247132942424 * a^{0\\beta}a^{1\\beta}a_{1\\beta}a_{0\\beta}\n",
      " + 0.0\n",
      " + 0.3270047556780619 * a^{0\\beta}a^{0\\alpha}a_{0\\alpha}a_{0\\beta}\n",
      " + 5.204170427930421e-17 * a^{0\\beta}a^{0\\alpha}a_{0\\alpha}a_{1\\beta}\n",
      " + 4.163336342344337e-17 * a^{0\\beta}a^{0\\alpha}a_{1\\alpha}a_{0\\beta}\n",
      " + 0.09376099045135429 * a^{0\\beta}a^{0\\alpha}a_{1\\alpha}a_{1\\beta}\n",
      " + 0.0\n",
      " + 0.0\n",
      " + 0.0\n",
      " + 0.0\n"
     ]
    }
   ],
   "metadata": {}
  },
  {
   "cell_type": "code",
   "execution_count": 152,
   "source": [
    "eri"
   ],
   "outputs": [
    {
     "output_type": "execute_result",
     "data": {
      "text/plain": [
       "array([[6.54009511e-01, 8.32667268e-17, 6.45249427e-01],\n",
       "       [1.04083409e-16, 1.87521981e-01, 5.55111512e-17],\n",
       "       [6.45249427e-01, 1.38777878e-16, 6.78136184e-01]])"
      ]
     },
     "metadata": {},
     "execution_count": 152
    }
   ],
   "metadata": {}
  },
  {
   "cell_type": "code",
   "execution_count": 153,
   "source": [
    "print(hamiltonian2Body)"
   ],
   "outputs": [
    {
     "output_type": "stream",
     "name": "stdout",
     "text": [
      "0.0\n",
      " + 0.0\n",
      " + 0.0\n",
      " + 0.0\n",
      " + 0.3270047556780619 * a^{0\\alpha}a^{0\\beta}a_{0\\beta}a_{0\\alpha}\n",
      " + 5.204170427930421e-17 * a^{0\\alpha}a^{0\\beta}a_{0\\beta}a_{1\\alpha}\n",
      " + 4.163336342344337e-17 * a^{0\\alpha}a^{0\\beta}a_{1\\beta}a_{0\\alpha}\n",
      " + 0.09376099045135429 * a^{0\\alpha}a^{0\\beta}a_{1\\beta}a_{1\\alpha}\n",
      " + 4.163336342344337e-17 * a^{0\\alpha}a^{1\\alpha}a_{0\\alpha}a_{0\\alpha}\n",
      " + 0.3226247132942424 * a^{0\\alpha}a^{1\\alpha}a_{1\\alpha}a_{0\\alpha}\n",
      " + 2.7755575615628914e-17 * a^{0\\alpha}a^{1\\alpha}a_{1\\alpha}a_{1\\alpha}\n",
      " + 4.163336342344337e-17 * a^{0\\alpha}a^{1\\beta}a_{0\\beta}a_{0\\alpha}\n",
      " + 0.3226247132942424 * a^{0\\alpha}a^{1\\beta}a_{1\\beta}a_{0\\alpha}\n",
      " + 2.7755575615628914e-17 * a^{0\\alpha}a^{1\\beta}a_{1\\beta}a_{1\\alpha}\n",
      " + 0.3270047556780619 * a^{0\\beta}a^{0\\alpha}a_{0\\alpha}a_{0\\beta}\n",
      " + 5.204170427930421e-17 * a^{0\\beta}a^{0\\alpha}a_{0\\alpha}a_{1\\beta}\n",
      " + 4.163336342344337e-17 * a^{0\\beta}a^{0\\alpha}a_{1\\alpha}a_{0\\beta}\n",
      " + 0.09376099045135429 * a^{0\\beta}a^{0\\alpha}a_{1\\alpha}a_{1\\beta}\n",
      " + 0.0\n",
      " + 0.0\n",
      " + 0.0\n",
      " + 0.0\n",
      " + 4.163336342344337e-17 * a^{0\\beta}a^{1\\alpha}a_{0\\alpha}a_{0\\beta}\n",
      " + 0.3226247132942424 * a^{0\\beta}a^{1\\alpha}a_{1\\alpha}a_{0\\beta}\n",
      " + 2.7755575615628914e-17 * a^{0\\beta}a^{1\\alpha}a_{1\\alpha}a_{1\\beta}\n",
      " + 4.163336342344337e-17 * a^{0\\beta}a^{1\\beta}a_{0\\beta}a_{0\\beta}\n",
      " + 0.3226247132942424 * a^{0\\beta}a^{1\\beta}a_{1\\beta}a_{0\\beta}\n",
      " + 2.7755575615628914e-17 * a^{0\\beta}a^{1\\beta}a_{1\\beta}a_{1\\beta}\n",
      " + 5.204170427930421e-17 * a^{1\\alpha}a^{0\\alpha}a_{0\\alpha}a_{0\\alpha}\n",
      " + 0.3226247132942422 * a^{1\\alpha}a^{0\\alpha}a_{0\\alpha}a_{1\\alpha}\n",
      " + 6.938893903907228e-17 * a^{1\\alpha}a^{0\\alpha}a_{1\\alpha}a_{1\\alpha}\n",
      " + 5.204170427930421e-17 * a^{1\\alpha}a^{0\\beta}a_{0\\beta}a_{0\\alpha}\n",
      " + 0.3226247132942422 * a^{1\\alpha}a^{0\\beta}a_{0\\beta}a_{1\\alpha}\n",
      " + 6.938893903907228e-17 * a^{1\\alpha}a^{0\\beta}a_{1\\beta}a_{1\\alpha}\n",
      " + 0.09376099045135429 * a^{1\\alpha}a^{1\\alpha}a_{0\\alpha}a_{0\\alpha}\n",
      " + 6.938893903907228e-17 * a^{1\\alpha}a^{1\\alpha}a_{0\\alpha}a_{1\\alpha}\n",
      " + 2.7755575615628914e-17 * a^{1\\alpha}a^{1\\alpha}a_{1\\alpha}a_{0\\alpha}\n",
      " + 0.33906809184265285 * a^{1\\alpha}a^{1\\alpha}a_{1\\alpha}a_{1\\alpha}\n",
      " + 0.09376099045135429 * a^{1\\alpha}a^{1\\beta}a_{0\\beta}a_{0\\alpha}\n",
      " + 6.938893903907228e-17 * a^{1\\alpha}a^{1\\beta}a_{0\\beta}a_{1\\alpha}\n",
      " + 2.7755575615628914e-17 * a^{1\\alpha}a^{1\\beta}a_{1\\beta}a_{0\\alpha}\n",
      " + 0.33906809184265285 * a^{1\\alpha}a^{1\\beta}a_{1\\beta}a_{1\\alpha}\n",
      " + 5.204170427930421e-17 * a^{1\\beta}a^{0\\alpha}a_{0\\alpha}a_{0\\beta}\n",
      " + 0.3226247132942422 * a^{1\\beta}a^{0\\alpha}a_{0\\alpha}a_{1\\beta}\n",
      " + 6.938893903907228e-17 * a^{1\\beta}a^{0\\alpha}a_{1\\alpha}a_{1\\beta}\n",
      " + 5.204170427930421e-17 * a^{1\\beta}a^{0\\beta}a_{0\\beta}a_{0\\beta}\n",
      " + 0.3226247132942422 * a^{1\\beta}a^{0\\beta}a_{0\\beta}a_{1\\beta}\n",
      " + 6.938893903907228e-17 * a^{1\\beta}a^{0\\beta}a_{1\\beta}a_{1\\beta}\n",
      " + 0.09376099045135429 * a^{1\\beta}a^{1\\alpha}a_{0\\alpha}a_{0\\beta}\n",
      " + 6.938893903907228e-17 * a^{1\\beta}a^{1\\alpha}a_{0\\alpha}a_{1\\beta}\n",
      " + 2.7755575615628914e-17 * a^{1\\beta}a^{1\\alpha}a_{1\\alpha}a_{0\\beta}\n",
      " + 0.33906809184265285 * a^{1\\beta}a^{1\\alpha}a_{1\\alpha}a_{1\\beta}\n",
      " + 0.09376099045135429 * a^{1\\beta}a^{1\\beta}a_{0\\beta}a_{0\\beta}\n",
      " + 6.938893903907228e-17 * a^{1\\beta}a^{1\\beta}a_{0\\beta}a_{1\\beta}\n",
      " + 2.7755575615628914e-17 * a^{1\\beta}a^{1\\beta}a_{1\\beta}a_{0\\beta}\n",
      " + 0.33906809184265285 * a^{1\\beta}a^{1\\beta}a_{1\\beta}a_{1\\beta}\n"
     ]
    }
   ],
   "metadata": {}
  },
  {
   "cell_type": "code",
   "execution_count": 154,
   "source": [
    "h1"
   ],
   "outputs": [
    {
     "output_type": "execute_result",
     "data": {
      "text/plain": [
       "array([[-1.18985062e+00,  2.60021255e-17],\n",
       "       [-4.71423569e-17, -5.33749102e-01]])"
      ]
     },
     "metadata": {},
     "execution_count": 154
    }
   ],
   "metadata": {}
  },
  {
   "cell_type": "code",
   "execution_count": 155,
   "source": [
    "print(hamiltonian1Body)"
   ],
   "outputs": [
    {
     "output_type": "stream",
     "name": "stdout",
     "text": [
      "-1.1898506186070186 * a^{0\\alpha}a_{0\\alpha}\n",
      " + 2.600212552842601e-17 * a^{0\\alpha}a_{1\\alpha}\n",
      " + -1.1898506186070186 * a^{0\\beta}a_{0\\beta}\n",
      " + 2.600212552842601e-17 * a^{0\\beta}a_{1\\beta}\n",
      " + -4.7142356915405136e-17 * a^{1\\alpha}a_{0\\alpha}\n",
      " + -0.5337491016607854 * a^{1\\alpha}a_{1\\alpha}\n",
      " + -4.7142356915405136e-17 * a^{1\\beta}a_{0\\beta}\n",
      " + -0.5337491016607854 * a^{1\\beta}a_{1\\beta}\n"
     ]
    }
   ],
   "metadata": {}
  },
  {
   "cell_type": "code",
   "execution_count": 156,
   "source": [
    "print(excitation)"
   ],
   "outputs": [
    {
     "output_type": "stream",
     "name": "stdout",
     "text": [
      "0.0\n",
      " + 1.0 * a^{1\\alpha}a^{1\\beta}a_{0\\beta}a_{0\\alpha}\n",
      " + 1.0 * a^{1\\beta}a^{1\\alpha}a_{0\\alpha}a_{0\\beta}\n",
      " + 0.0\n"
     ]
    }
   ],
   "metadata": {}
  },
  {
   "cell_type": "code",
   "execution_count": 158,
   "source": [
    "vacuumExpectationValue(0.25 * excitation.conjugate() * hamiltonian * excitation, [1,0], True)"
   ],
   "outputs": [
    {
     "output_type": "stream",
     "name": "stdout",
     "text": [
      "-0.13343727541519634 * a^{0\\alpha}a^{0\\beta}a_{1\\beta}a_{1\\alpha}a^{1\\alpha}a_{1\\alpha}a^{1\\alpha}a^{1\\beta}a_{0\\beta}a_{0\\alpha}\n",
      "-0.13343727541519634 * a^{0\\alpha}a^{0\\beta}a_{1\\beta}a_{1\\alpha}a^{1\\alpha}a_{1\\alpha}a^{1\\beta}a^{1\\alpha}a_{0\\alpha}a_{0\\beta}\n",
      "-0.13343727541519634 * a^{0\\alpha}a^{0\\beta}a_{1\\beta}a_{1\\alpha}a^{1\\beta}a_{1\\beta}a^{1\\alpha}a^{1\\beta}a_{0\\beta}a_{0\\alpha}\n",
      "-0.13343727541519634 * a^{0\\alpha}a^{0\\beta}a_{1\\beta}a_{1\\alpha}a^{1\\beta}a_{1\\beta}a^{1\\beta}a^{1\\alpha}a_{0\\alpha}a_{0\\beta}\n",
      "-0.13343727541519634 * a^{0\\beta}a^{0\\alpha}a_{1\\alpha}a_{1\\beta}a^{1\\alpha}a_{1\\alpha}a^{1\\alpha}a^{1\\beta}a_{0\\beta}a_{0\\alpha}\n",
      "-0.13343727541519634 * a^{0\\beta}a^{0\\alpha}a_{1\\alpha}a_{1\\beta}a^{1\\alpha}a_{1\\alpha}a^{1\\beta}a^{1\\alpha}a_{0\\alpha}a_{0\\beta}\n",
      "-0.13343727541519634 * a^{0\\beta}a^{0\\alpha}a_{1\\alpha}a_{1\\beta}a^{1\\beta}a_{1\\beta}a^{1\\alpha}a^{1\\beta}a_{0\\beta}a_{0\\alpha}\n",
      "-0.13343727541519634 * a^{0\\beta}a^{0\\alpha}a_{1\\alpha}a_{1\\beta}a^{1\\beta}a_{1\\beta}a^{1\\beta}a^{1\\alpha}a_{0\\alpha}a_{0\\beta}\n",
      "0.08476702296066321 * a^{0\\alpha}a^{0\\beta}a_{1\\beta}a_{1\\alpha}a^{1\\alpha}a^{1\\beta}a_{1\\beta}a_{1\\alpha}a^{1\\alpha}a^{1\\beta}a_{0\\beta}a_{0\\alpha}\n",
      "0.08476702296066321 * a^{0\\alpha}a^{0\\beta}a_{1\\beta}a_{1\\alpha}a^{1\\alpha}a^{1\\beta}a_{1\\beta}a_{1\\alpha}a^{1\\beta}a^{1\\alpha}a_{0\\alpha}a_{0\\beta}\n",
      "0.08476702296066321 * a^{0\\alpha}a^{0\\beta}a_{1\\beta}a_{1\\alpha}a^{1\\beta}a^{1\\alpha}a_{1\\alpha}a_{1\\beta}a^{1\\alpha}a^{1\\beta}a_{0\\beta}a_{0\\alpha}\n",
      "0.08476702296066321 * a^{0\\alpha}a^{0\\beta}a_{1\\beta}a_{1\\alpha}a^{1\\beta}a^{1\\alpha}a_{1\\alpha}a_{1\\beta}a^{1\\beta}a^{1\\alpha}a_{0\\alpha}a_{0\\beta}\n",
      "0.08476702296066321 * a^{0\\beta}a^{0\\alpha}a_{1\\alpha}a_{1\\beta}a^{1\\alpha}a^{1\\beta}a_{1\\beta}a_{1\\alpha}a^{1\\alpha}a^{1\\beta}a_{0\\beta}a_{0\\alpha}\n",
      "0.08476702296066321 * a^{0\\beta}a^{0\\alpha}a_{1\\alpha}a_{1\\beta}a^{1\\alpha}a^{1\\beta}a_{1\\beta}a_{1\\alpha}a^{1\\beta}a^{1\\alpha}a_{0\\alpha}a_{0\\beta}\n",
      "0.08476702296066321 * a^{0\\beta}a^{0\\alpha}a_{1\\alpha}a_{1\\beta}a^{1\\beta}a^{1\\alpha}a_{1\\alpha}a_{1\\beta}a^{1\\alpha}a^{1\\beta}a_{0\\beta}a_{0\\alpha}\n",
      "0.08476702296066321 * a^{0\\beta}a^{0\\alpha}a_{1\\alpha}a_{1\\beta}a^{1\\beta}a^{1\\alpha}a_{1\\alpha}a_{1\\beta}a^{1\\beta}a^{1\\alpha}a_{0\\alpha}a_{0\\beta}\n"
     ]
    },
    {
     "output_type": "execute_result",
     "data": {
      "text/plain": [
       "-0.38936201963626527"
      ]
     },
     "metadata": {},
     "execution_count": 158
    }
   ],
   "metadata": {}
  },
  {
   "cell_type": "code",
   "execution_count": 160,
   "source": [
    "vacuumExpectationValue(operatorProduct([basicOperator(1,0,0)]) * hamiltonian * operatorProduct([basicOperator(0,0,0)]), vacuum, True)"
   ],
   "outputs": [
    {
     "output_type": "stream",
     "name": "stdout",
     "text": [
      "0.0 * a_{0\\beta}\n"
     ]
    },
    {
     "output_type": "error",
     "ename": "TypeError",
     "evalue": "unsupported operand type(s) for +=: 'float' and 'NoneType'",
     "traceback": [
      "\u001b[0;31m---------------------------------------------------------------------------\u001b[0m",
      "\u001b[0;31mTypeError\u001b[0m                                 Traceback (most recent call last)",
      "\u001b[0;32m<ipython-input-160-096d8375d029>\u001b[0m in \u001b[0;36m<module>\u001b[0;34m\u001b[0m\n\u001b[0;32m----> 1\u001b[0;31m \u001b[0mvacuumExpectationValue\u001b[0m\u001b[0;34m(\u001b[0m\u001b[0moperatorProduct\u001b[0m\u001b[0;34m(\u001b[0m\u001b[0;34m[\u001b[0m\u001b[0mbasicOperator\u001b[0m\u001b[0;34m(\u001b[0m\u001b[0;36m1\u001b[0m\u001b[0;34m,\u001b[0m\u001b[0;36m0\u001b[0m\u001b[0;34m,\u001b[0m\u001b[0;36m0\u001b[0m\u001b[0;34m)\u001b[0m\u001b[0;34m]\u001b[0m\u001b[0;34m)\u001b[0m \u001b[0;34m*\u001b[0m \u001b[0mhamiltonian\u001b[0m \u001b[0;34m*\u001b[0m \u001b[0moperatorProduct\u001b[0m\u001b[0;34m(\u001b[0m\u001b[0;34m[\u001b[0m\u001b[0mbasicOperator\u001b[0m\u001b[0;34m(\u001b[0m\u001b[0;36m0\u001b[0m\u001b[0;34m,\u001b[0m\u001b[0;36m0\u001b[0m\u001b[0;34m,\u001b[0m\u001b[0;36m0\u001b[0m\u001b[0;34m)\u001b[0m\u001b[0;34m]\u001b[0m\u001b[0;34m)\u001b[0m\u001b[0;34m,\u001b[0m \u001b[0mvacuum\u001b[0m\u001b[0;34m,\u001b[0m \u001b[0;32mTrue\u001b[0m\u001b[0;34m)\u001b[0m\u001b[0;34m\u001b[0m\u001b[0;34m\u001b[0m\u001b[0m\n\u001b[0m",
      "\u001b[0;32m~/Documents/DPhil/code/DPhil/COSCC/Wick.py\u001b[0m in \u001b[0;36mvacuumExpectationValue\u001b[0;34m(operator, vacuum, printing)\u001b[0m\n\u001b[1;32m    570\u001b[0m             \u001b[0;32mif\u001b[0m \u001b[0mprinting\u001b[0m \u001b[0;32mand\u001b[0m \u001b[0mterm\u001b[0m \u001b[0;34m!=\u001b[0m \u001b[0;36m0.\u001b[0m\u001b[0;34m:\u001b[0m\u001b[0;34m\u001b[0m\u001b[0;34m\u001b[0m\u001b[0m\n\u001b[1;32m    571\u001b[0m                 \u001b[0mprint\u001b[0m\u001b[0;34m(\u001b[0m\u001b[0mproduct\u001b[0m\u001b[0;34m)\u001b[0m\u001b[0;34m\u001b[0m\u001b[0;34m\u001b[0m\u001b[0m\n\u001b[0;32m--> 572\u001b[0;31m             \u001b[0mresult\u001b[0m \u001b[0;34m+=\u001b[0m \u001b[0mterm\u001b[0m\u001b[0;34m\u001b[0m\u001b[0;34m\u001b[0m\u001b[0m\n\u001b[0m\u001b[1;32m    573\u001b[0m         \u001b[0;32mreturn\u001b[0m \u001b[0mresult\u001b[0m\u001b[0;34m\u001b[0m\u001b[0;34m\u001b[0m\u001b[0m\n\u001b[1;32m    574\u001b[0m     \u001b[0;32melif\u001b[0m \u001b[0misinstance\u001b[0m\u001b[0;34m(\u001b[0m\u001b[0moperator\u001b[0m\u001b[0;34m,\u001b[0m \u001b[0mNumber\u001b[0m\u001b[0;34m)\u001b[0m\u001b[0;34m:\u001b[0m\u001b[0;34m\u001b[0m\u001b[0;34m\u001b[0m\u001b[0m\n",
      "\u001b[0;31mTypeError\u001b[0m: unsupported operand type(s) for +=: 'float' and 'NoneType'"
     ]
    }
   ],
   "metadata": {}
  },
  {
   "cell_type": "code",
   "execution_count": 161,
   "source": [
    "h1[1,1]"
   ],
   "outputs": [
    {
     "output_type": "execute_result",
     "data": {
      "text/plain": [
       "-0.5337491016607854"
      ]
     },
     "metadata": {},
     "execution_count": 161
    }
   ],
   "metadata": {}
  },
  {
   "cell_type": "code",
   "execution_count": 162,
   "source": [
    "eri[2,2]"
   ],
   "outputs": [
    {
     "output_type": "execute_result",
     "data": {
      "text/plain": [
       "0.6781361836853057"
      ]
     },
     "metadata": {},
     "execution_count": 162
    }
   ],
   "metadata": {}
  },
  {
   "cell_type": "code",
   "execution_count": 163,
   "source": [
    "2 * h1[1,1] + 1 * eri[2,2]"
   ],
   "outputs": [
    {
     "output_type": "execute_result",
     "data": {
      "text/plain": [
       "-0.38936201963626504"
      ]
     },
     "metadata": {},
     "execution_count": 163
    }
   ],
   "metadata": {}
  },
  {
   "cell_type": "code",
   "execution_count": 164,
   "source": [
    "print(fcioperator)"
   ],
   "outputs": [
    {
     "output_type": "stream",
     "name": "stdout",
     "text": [
      "0.990656547\n",
      " + -0.136380375 * a^{1\\alpha}a^{1\\beta}a_{0\\beta}a_{0\\alpha}\n"
     ]
    }
   ],
   "metadata": {}
  },
  {
   "cell_type": "code",
   "execution_count": 165,
   "source": [
    "a, b = 0.990656547, -0.136380375"
   ],
   "outputs": [],
   "metadata": {}
  },
  {
   "cell_type": "code",
   "execution_count": 166,
   "source": [
    "h00 = 2 * h1[0,0] + 1 * eri[0,0]\n",
    "h01 = 2 * h1[0,1] + 1 * eri[1,1] #Mistake is here!!!!! (eri[0,2] -> eri[1,1])\n",
    "h11 = 2 * h1[1,1] + 1 * eri[2,2]\n",
    "\n",
    "print(h00, h01, h11)"
   ],
   "outputs": [
    {
     "output_type": "stream",
     "name": "stdout",
     "text": [
      "-1.7256917258579132 0.18752198090270863 -0.38936201963626504\n"
     ]
    }
   ],
   "metadata": {}
  },
  {
   "cell_type": "code",
   "execution_count": 167,
   "source": [
    "fcienergy = a * a * h00 + 2 * a * b * h01 + b * b * h11"
   ],
   "outputs": [],
   "metadata": {}
  },
  {
   "cell_type": "code",
   "execution_count": 168,
   "source": [
    "fcienergy + mol.energy_nuc()"
   ],
   "outputs": [
    {
     "output_type": "execute_result",
     "data": {
      "text/plain": [
       "-1.1284543369079416"
      ]
     },
     "metadata": {},
     "execution_count": 168
    }
   ],
   "metadata": {}
  },
  {
   "cell_type": "code",
   "execution_count": 170,
   "source": [
    "vacuumExpectationValue(hamiltonian * excitation, vacuum, True)"
   ],
   "outputs": [
    {
     "output_type": "stream",
     "name": "stdout",
     "text": [
      "0.09376099045135429 * a^{0\\alpha}a^{0\\beta}a_{1\\beta}a_{1\\alpha}a^{1\\alpha}a^{1\\beta}a_{0\\beta}a_{0\\alpha}\n",
      "0.09376099045135429 * a^{0\\alpha}a^{0\\beta}a_{1\\beta}a_{1\\alpha}a^{1\\beta}a^{1\\alpha}a_{0\\alpha}a_{0\\beta}\n",
      "0.09376099045135429 * a^{0\\beta}a^{0\\alpha}a_{1\\alpha}a_{1\\beta}a^{1\\alpha}a^{1\\beta}a_{0\\beta}a_{0\\alpha}\n",
      "0.09376099045135429 * a^{0\\beta}a^{0\\alpha}a_{1\\alpha}a_{1\\beta}a^{1\\beta}a^{1\\alpha}a_{0\\alpha}a_{0\\beta}\n"
     ]
    },
    {
     "output_type": "execute_result",
     "data": {
      "text/plain": [
       "0.37504396180541716"
      ]
     },
     "metadata": {},
     "execution_count": 170
    }
   ],
   "metadata": {}
  },
  {
   "cell_type": "code",
   "execution_count": 171,
   "source": [
    "cisolver.kernel()"
   ],
   "outputs": [
    {
     "output_type": "execute_result",
     "data": {
      "text/plain": [
       "(-1.1284543355083052,\n",
       " array([[ 9.90656547e-01,  2.77555756e-17],\n",
       "        [ 1.91460513e-17, -1.36380375e-01]]))"
      ]
     },
     "metadata": {},
     "execution_count": 171
    }
   ],
   "metadata": {}
  },
  {
   "cell_type": "code",
   "execution_count": null,
   "source": [],
   "outputs": [],
   "metadata": {}
  }
 ]
}