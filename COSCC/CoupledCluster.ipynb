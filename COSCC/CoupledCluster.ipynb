{
 "metadata": {
  "language_info": {
   "codemirror_mode": {
    "name": "ipython",
    "version": 3
   },
   "file_extension": ".py",
   "mimetype": "text/x-python",
   "name": "python",
   "nbconvert_exporter": "python",
   "pygments_lexer": "ipython3",
   "version": "3.8.0-final"
  },
  "orig_nbformat": 2,
  "kernelspec": {
   "name": "python3",
   "display_name": "Python 3",
   "language": "python"
  }
 },
 "nbformat": 4,
 "nbformat_minor": 2,
 "cells": [
  {
   "cell_type": "code",
   "execution_count": 48,
   "metadata": {},
   "outputs": [],
   "source": [
    "import numpy as np\n",
    "from pyscf import gto, scf, ao2mo, fci\n",
    "from Wick import *"
   ]
  },
  {
   "cell_type": "code",
   "execution_count": 49,
   "metadata": {},
   "outputs": [
    {
     "output_type": "stream",
     "name": "stdout",
     "text": [
      "[1, 1, 0]\n"
     ]
    }
   ],
   "source": [
    "norbs = 3\n",
    "Nocc = 2\n",
    "vacuumOccupations = [1 for i in range(Nocc)] + [0 for i in range (norbs - Nocc)]\n",
    "print(vacuumOccupations)"
   ]
  },
  {
   "cell_type": "code",
   "execution_count": 50,
   "metadata": {},
   "outputs": [
    {
     "output_type": "stream",
     "name": "stdout",
     "text": [
      "1.0 * a_{2\\alpha}a_{1\\alpha}a^{2\\alpha}a^{1\\alpha}\n1.0 * a_{1\\alpha}a^{2\\alpha}a_{2\\alpha}a^{1\\alpha}\n1.0 * a_{1\\alpha}a^{2\\alpha}a_{2\\alpha}a^{1\\alpha} + -1.0 * a_{1\\alpha}a^{1\\alpha}\n0.0\n"
     ]
    }
   ],
   "source": [
    "oP = operatorProduct([basicOperator(2,0,1), basicOperator(1,0,1), basicOperator(2,1,1), basicOperator(1,1,1)])\n",
    "nOP = normalOrder(oP, vacuumOccupations)\n",
    "print(oP)\n",
    "print(nOP)\n",
    "print(wickExpand(oP, vacuumOccupations))\n",
    "print(vacuumExpectationValue(oP, vacuumOccupations))"
   ]
  },
  {
   "cell_type": "code",
   "execution_count": 51,
   "metadata": {},
   "outputs": [],
   "source": [
    "bohr = 0.529177249\n",
    "\n",
    "H2sep = 1.605 * bohr\n",
    "\n",
    "mol = gto.Mole()\n",
    "mol.verbose = 1\n",
    "mol.atom = 'H 0 0 0; H 0 0 ' + str(H2sep)\n",
    "mol.basis = 'sto-3g'\n",
    "mol.spin = 0\n",
    "mol.build()\n",
    "\n",
    "Enuc = mol.energy_nuc()\n",
    "\n",
    "mf = scf.ROHF(mol)\n",
    "mf.kernel()\n",
    "\n",
    "h1 = mf.mo_coeff.T.dot(mf.get_hcore()).dot(mf.mo_coeff)\n",
    "eri = ao2mo.kernel(mol, mf.mo_coeff)\n",
    "\n",
    "cisolver = fci.FCI(mol, mf.mo_coeff)"
   ]
  },
  {
   "cell_type": "code",
   "execution_count": 52,
   "metadata": {},
   "outputs": [
    {
     "output_type": "execute_result",
     "data": {
      "text/plain": [
       "array([[-1.18985062e+00,  2.60021255e-17],\n",
       "       [-4.71423569e-17, -5.33749102e-01]])"
      ]
     },
     "metadata": {},
     "execution_count": 52
    }
   ],
   "source": [
    "h1"
   ]
  },
  {
   "cell_type": "code",
   "execution_count": 53,
   "metadata": {},
   "outputs": [
    {
     "output_type": "execute_result",
     "data": {
      "text/plain": [
       "array([[6.54009511e-01, 8.32667268e-17, 6.45249427e-01],\n",
       "       [1.04083409e-16, 1.87521981e-01, 5.55111512e-17],\n",
       "       [6.45249427e-01, 1.38777878e-16, 6.78136184e-01]])"
      ]
     },
     "metadata": {},
     "execution_count": 53
    }
   ],
   "source": [
    "eri"
   ]
  },
  {
   "cell_type": "code",
   "execution_count": 54,
   "metadata": {},
   "outputs": [
    {
     "output_type": "execute_result",
     "data": {
      "text/plain": [
       "array([-1.10263881,  1.27706243])"
      ]
     },
     "metadata": {},
     "execution_count": 54
    }
   ],
   "source": [
    "mf.energy_elec() + mf.energy_nuc()"
   ]
  },
  {
   "cell_type": "code",
   "execution_count": 55,
   "metadata": {},
   "outputs": [
    {
     "output_type": "execute_result",
     "data": {
      "text/plain": [
       "array([[ 0.56092571, -1.10314488],\n",
       "       [ 0.56092571,  1.10314488]])"
      ]
     },
     "metadata": {},
     "execution_count": 55
    }
   ],
   "source": [
    "mf.mo_coeff"
   ]
  },
  {
   "cell_type": "code",
   "execution_count": 56,
   "metadata": {},
   "outputs": [
    {
     "output_type": "execute_result",
     "data": {
      "text/plain": [
       "(1, 1)"
      ]
     },
     "metadata": {},
     "execution_count": 56
    }
   ],
   "source": [
    "mf.nelec"
   ]
  },
  {
   "cell_type": "code",
   "execution_count": 57,
   "metadata": {},
   "outputs": [],
   "source": [
    "def spinFreeSingleExcitation(p, q):\n",
    "    summandList = []\n",
    "    for spin in range(2):\n",
    "        summandList.append(operatorProduct([basicOperator(p,1,spin), basicOperator(q,0,spin)]))\n",
    "    return operatorSum(summandList)"
   ]
  },
  {
   "cell_type": "code",
   "execution_count": 58,
   "metadata": {},
   "outputs": [],
   "source": [
    "def spinFreeDoubleExcitation(p, q, r, s):\n",
    "    summandList = []\n",
    "    for spin1 in range(2):\n",
    "        for spin2 in range(2):\n",
    "            summandList.append(operatorProduct([basicOperator(p,1,spin2), basicOperator(q,1,spin1), basicOperator(s,0,spin1), basicOperator(r,0,spin2)]))\n",
    "    return operatorSum(summandList)"
   ]
  },
  {
   "cell_type": "code",
   "execution_count": 59,
   "metadata": {},
   "outputs": [],
   "source": [
    "Norbs = mol.nao"
   ]
  },
  {
   "cell_type": "code",
   "execution_count": 60,
   "metadata": {},
   "outputs": [],
   "source": [
    "hamiltonian1Body = operatorSum([])\n",
    "for p in range(Norbs):\n",
    "    for q in range(Norbs):\n",
    "        hamiltonian1Body = hamiltonian1Body + h1[p, q] * spinFreeSingleExcitation(p, q)"
   ]
  },
  {
   "cell_type": "code",
   "execution_count": 61,
   "metadata": {},
   "outputs": [
    {
     "output_type": "stream",
     "name": "stdout",
     "text": [
      "-1.1898506186070186 * a^{0\\beta}a_{0\\beta} + -1.1898506186070186 * a^{0\\alpha}a_{0\\alpha} + 2.600212552842601e-17 * a^{0\\beta}a_{1\\beta} + 2.600212552842601e-17 * a^{0\\alpha}a_{1\\alpha} + -4.7142356915405136e-17 * a^{1\\beta}a_{0\\beta} + -4.7142356915405136e-17 * a^{1\\alpha}a_{0\\alpha} + -0.5337491016607854 * a^{1\\beta}a_{1\\beta} + -0.5337491016607854 * a^{1\\alpha}a_{1\\alpha}\n"
     ]
    }
   ],
   "source": [
    "print(hamiltonian1Body)"
   ]
  },
  {
   "cell_type": "code",
   "execution_count": 62,
   "metadata": {},
   "outputs": [
    {
     "output_type": "stream",
     "name": "stdout",
     "text": [
      "1.1898506186070186 * a_{0\\beta}a^{0\\beta} + -1.1898506186070186 + 1.1898506186070186 * a_{0\\alpha}a^{0\\alpha} + -1.1898506186070186 + 2.600212552842601e-17 * a^{0\\beta}a_{1\\beta} + 2.600212552842601e-17 * a^{0\\alpha}a_{1\\alpha} + -4.7142356915405136e-17 * a^{1\\beta}a_{0\\beta} + -4.7142356915405136e-17 * a^{1\\alpha}a_{0\\alpha} + -0.5337491016607854 * a^{1\\beta}a_{1\\beta} + -0.5337491016607854 * a^{1\\alpha}a_{1\\alpha}\n"
     ]
    }
   ],
   "source": [
    "print(wickExpand(hamiltonian1Body, [1,0]))"
   ]
  },
  {
   "cell_type": "code",
   "execution_count": 63,
   "metadata": {},
   "outputs": [
    {
     "output_type": "execute_result",
     "data": {
      "text/plain": [
       "<Wick.operatorSum at 0x11d8a7280>"
      ]
     },
     "metadata": {},
     "execution_count": 63
    }
   ],
   "source": [
    "hamiltonian1Body"
   ]
  },
  {
   "cell_type": "code",
   "execution_count": 64,
   "metadata": {},
   "outputs": [
    {
     "output_type": "execute_result",
     "data": {
      "text/plain": [
       "<Wick.operatorSum at 0x11d042400>"
      ]
     },
     "metadata": {},
     "execution_count": 64
    }
   ],
   "source": [
    "wickExpand(hamiltonian1Body, [1,0])"
   ]
  },
  {
   "cell_type": "code",
   "execution_count": 65,
   "metadata": {},
   "outputs": [
    {
     "output_type": "stream",
     "name": "stdout",
     "text": [
      "-1.1898506186070186 * a^{0\\beta}a_{0\\beta}\n-1.1898506186070186 * a^{0\\alpha}a_{0\\alpha}\n2.600212552842601e-17 * a^{0\\beta}a_{1\\beta}\n2.600212552842601e-17 * a^{0\\alpha}a_{1\\alpha}\n-4.7142356915405136e-17 * a^{1\\beta}a_{0\\beta}\n-4.7142356915405136e-17 * a^{1\\alpha}a_{0\\alpha}\n-0.5337491016607854 * a^{1\\beta}a_{1\\beta}\n-0.5337491016607854 * a^{1\\alpha}a_{1\\alpha}\n"
     ]
    }
   ],
   "source": [
    "for s in hamiltonian1Body.summandList:\n",
    "    print(s)"
   ]
  },
  {
   "cell_type": "code",
   "execution_count": 66,
   "metadata": {},
   "outputs": [
    {
     "output_type": "stream",
     "name": "stdout",
     "text": [
      "1.1898506186070186 * a_{0\\beta}a^{0\\beta}\n1.1898506186070186 * a_{0\\alpha}a^{0\\alpha}\n2.600212552842601e-17 * a^{0\\beta}a_{1\\beta}\n2.600212552842601e-17 * a^{0\\alpha}a_{1\\alpha}\n-4.7142356915405136e-17 * a^{1\\beta}a_{0\\beta}\n-4.7142356915405136e-17 * a^{1\\alpha}a_{0\\alpha}\n-0.5337491016607854 * a^{1\\beta}a_{1\\beta}\n-0.5337491016607854 * a^{1\\alpha}a_{1\\alpha}\n"
     ]
    }
   ],
   "source": [
    "for s in normalOrder(hamiltonian1Body, [1,0]).summandList:\n",
    "    print(s)"
   ]
  },
  {
   "cell_type": "code",
   "execution_count": 67,
   "metadata": {},
   "outputs": [
    {
     "output_type": "stream",
     "name": "stdout",
     "text": [
      "1.1898506186070186 * a_{0\\beta}a^{0\\beta}\n-1.1898506186070186\n1.1898506186070186 * a_{0\\alpha}a^{0\\alpha}\n-1.1898506186070186\n2.600212552842601e-17 * a^{0\\beta}a_{1\\beta}\n2.600212552842601e-17 * a^{0\\alpha}a_{1\\alpha}\n-4.7142356915405136e-17 * a^{1\\beta}a_{0\\beta}\n-4.7142356915405136e-17 * a^{1\\alpha}a_{0\\alpha}\n-0.5337491016607854 * a^{1\\beta}a_{1\\beta}\n-0.5337491016607854 * a^{1\\alpha}a_{1\\alpha}\n"
     ]
    }
   ],
   "source": [
    "for s in wickExpand(hamiltonian1Body, [1,0]).summandList:\n",
    "    print(s)"
   ]
  },
  {
   "cell_type": "code",
   "execution_count": 68,
   "metadata": {},
   "outputs": [],
   "source": [
    "w = wickExpand(hamiltonian1Body, [1,0])"
   ]
  },
  {
   "cell_type": "code",
   "execution_count": 69,
   "metadata": {},
   "outputs": [
    {
     "output_type": "execute_result",
     "data": {
      "text/plain": [
       "<Wick.operatorSum at 0x11d8aac70>"
      ]
     },
     "metadata": {},
     "execution_count": 69
    }
   ],
   "source": [
    "w"
   ]
  },
  {
   "cell_type": "code",
   "execution_count": 70,
   "metadata": {},
   "outputs": [
    {
     "output_type": "stream",
     "name": "stdout",
     "text": [
      "1.1898506186070186 * a_{0\\beta}a^{0\\beta} + -1.1898506186070186 + 1.1898506186070186 * a_{0\\alpha}a^{0\\alpha} + -1.1898506186070186 + 2.600212552842601e-17 * a^{0\\beta}a_{1\\beta} + 2.600212552842601e-17 * a^{0\\alpha}a_{1\\alpha} + -4.7142356915405136e-17 * a^{1\\beta}a_{0\\beta} + -4.7142356915405136e-17 * a^{1\\alpha}a_{0\\alpha} + -0.5337491016607854 * a^{1\\beta}a_{1\\beta} + -0.5337491016607854 * a^{1\\alpha}a_{1\\alpha}\n"
     ]
    }
   ],
   "source": [
    "print(w)"
   ]
  },
  {
   "cell_type": "code",
   "execution_count": 71,
   "metadata": {},
   "outputs": [
    {
     "output_type": "execute_result",
     "data": {
      "text/plain": [
       "-2.379701237214037"
      ]
     },
     "metadata": {},
     "execution_count": 71
    }
   ],
   "source": [
    "vacuumExpectationValue(hamiltonian1Body, [1,0])"
   ]
  },
  {
   "cell_type": "code",
   "execution_count": 72,
   "metadata": {},
   "outputs": [
    {
     "output_type": "stream",
     "name": "stdout",
     "text": [
      "-1.1898506186070186\n-1.1898506186070186\n"
     ]
    }
   ],
   "source": [
    "vEV = 0.\n",
    "for summand in w.summandList:\n",
    "    if summand.operatorList == []:\n",
    "        print(summand)\n",
    "        vEV += summand.prefactor\n"
   ]
  },
  {
   "cell_type": "code",
   "execution_count": 73,
   "metadata": {},
   "outputs": [
    {
     "output_type": "execute_result",
     "data": {
      "text/plain": [
       "-2.379701237214037"
      ]
     },
     "metadata": {},
     "execution_count": 73
    }
   ],
   "source": [
    "vEV"
   ]
  },
  {
   "cell_type": "code",
   "execution_count": 74,
   "metadata": {},
   "outputs": [
    {
     "output_type": "execute_result",
     "data": {
      "text/plain": [
       "0.6230529146661897"
      ]
     },
     "metadata": {},
     "execution_count": 74
    }
   ],
   "source": [
    "mf.energy_nuc()"
   ]
  },
  {
   "cell_type": "code",
   "execution_count": 75,
   "metadata": {},
   "outputs": [
    {
     "output_type": "execute_result",
     "data": {
      "text/plain": [
       "(-1.7256917258579134, 0.6540095113561237)"
      ]
     },
     "metadata": {},
     "execution_count": 75
    }
   ],
   "source": [
    "mf.energy_elec()"
   ]
  },
  {
   "cell_type": "code",
   "execution_count": 76,
   "metadata": {},
   "outputs": [],
   "source": [
    "hamiltonian2Body = operatorSum([])\n",
    "for p in range(Norbs):\n",
    "    for q in range(p, Norbs):\n",
    "        for r in range(Norbs):\n",
    "            for s in range(r, Norbs):\n",
    "                x = int(q + Norbs * p - 0.5 * p * (p + 1))\n",
    "                y = int(s + Norbs * r - 0.5 * r * (r + 1))\n",
    "                hamiltonian2Body = hamiltonian2Body + 0.5 * eri[x, y] * spinFreeDoubleExcitation(p, q, r, s)"
   ]
  },
  {
   "cell_type": "code",
   "execution_count": 77,
   "metadata": {},
   "outputs": [
    {
     "output_type": "stream",
     "name": "stdout",
     "text": [
      "0.3270047556780619 * a_{0\\beta}a_{0\\beta}a^{0\\beta}a^{0\\beta}\n0.3270047556780619 * a_{0\\beta}a^{0\\beta}\n-0.3270047556780619 * a_{0\\beta}a^{0\\beta}\n-0.3270047556780619 * a_{0\\beta}a^{0\\beta}\n0.3270047556780619 * a_{0\\beta}a^{0\\beta}\n-0.3270047556780619\n0.3270047556780619\n0.3270047556780619 * a_{0\\beta}a_{0\\alpha}a^{0\\alpha}a^{0\\beta}\n-0.3270047556780619 * a_{0\\beta}a^{0\\beta}\n-0.3270047556780619 * a_{0\\alpha}a^{0\\alpha}\n0.3270047556780619\n0.3270047556780619 * a_{0\\alpha}a_{0\\beta}a^{0\\beta}a^{0\\alpha}\n-0.3270047556780619 * a_{0\\alpha}a^{0\\alpha}\n-0.3270047556780619 * a_{0\\beta}a^{0\\beta}\n0.3270047556780619\n0.3270047556780619 * a_{0\\alpha}a_{0\\alpha}a^{0\\alpha}a^{0\\alpha}\n0.3270047556780619 * a_{0\\alpha}a^{0\\alpha}\n-0.3270047556780619 * a_{0\\alpha}a^{0\\alpha}\n-0.3270047556780619 * a_{0\\alpha}a^{0\\alpha}\n0.3270047556780619 * a_{0\\alpha}a^{0\\alpha}\n-0.3270047556780619\n0.3270047556780619\n-4.163336342344337e-17 * a_{0\\beta}a^{0\\beta}a^{0\\beta}a_{1\\beta}\n4.163336342344337e-17 * a^{0\\beta}a_{1\\beta}\n-4.163336342344337e-17 * a^{0\\beta}a_{1\\beta}\n-4.163336342344337e-17 * a_{0\\alpha}a^{0\\alpha}a^{0\\beta}a_{1\\beta}\n4.163336342344337e-17 * a^{0\\beta}a_{1\\beta}\n-4.163336342344337e-17 * a_{0\\beta}a^{0\\beta}a^{0\\alpha}a_{1\\alpha}\n4.163336342344337e-17 * a^{0\\alpha}a_{1\\alpha}\n-4.163336342344337e-17 * a_{0\\alpha}a^{0\\alpha}a^{0\\alpha}a_{1\\alpha}\n4.163336342344337e-17 * a^{0\\alpha}a_{1\\alpha}\n-4.163336342344337e-17 * a^{0\\alpha}a_{1\\alpha}\n0.3226247132942424 * a^{0\\beta}a^{0\\beta}a_{1\\beta}a_{1\\beta}\n0.3226247132942424 * a^{0\\alpha}a^{0\\beta}a_{1\\beta}a_{1\\alpha}\n0.3226247132942424 * a^{0\\beta}a^{0\\alpha}a_{1\\alpha}a_{1\\beta}\n0.3226247132942424 * a^{0\\alpha}a^{0\\alpha}a_{1\\alpha}a_{1\\alpha}\n-5.204170427930421e-17 * a^{1\\beta}a_{0\\beta}a_{0\\beta}a^{0\\beta}\n-5.204170427930421e-17 * a^{1\\beta}a_{0\\beta}\n5.204170427930421e-17 * a^{1\\beta}a_{0\\beta}\n-5.204170427930421e-17 * a^{1\\beta}a_{0\\beta}a_{0\\alpha}a^{0\\alpha}\n5.204170427930421e-17 * a^{1\\beta}a_{0\\beta}\n-5.204170427930421e-17 * a^{1\\alpha}a_{0\\alpha}a_{0\\beta}a^{0\\beta}\n5.204170427930421e-17 * a^{1\\alpha}a_{0\\alpha}\n-5.204170427930421e-17 * a^{1\\alpha}a_{0\\alpha}a_{0\\alpha}a^{0\\alpha}\n-5.204170427930421e-17 * a^{1\\alpha}a_{0\\alpha}\n5.204170427930421e-17 * a^{1\\alpha}a_{0\\alpha}\n-0.09376099045135429 * a^{1\\beta}a_{0\\beta}a^{0\\beta}a_{1\\beta}\n0.09376099045135429 * a^{1\\beta}a_{1\\beta}\n-0.09376099045135429 * a^{1\\beta}a_{0\\alpha}a^{0\\alpha}a_{1\\beta}\n0.09376099045135429 * a^{1\\beta}a_{1\\beta}\n-0.09376099045135429 * a^{1\\alpha}a_{0\\beta}a^{0\\beta}a_{1\\alpha}\n0.09376099045135429 * a^{1\\alpha}a_{1\\alpha}\n-0.09376099045135429 * a^{1\\alpha}a_{0\\alpha}a^{0\\alpha}a_{1\\alpha}\n0.09376099045135429 * a^{1\\alpha}a_{1\\alpha}\n-2.7755575615628914e-17 * a^{1\\beta}a^{0\\beta}a_{1\\beta}a_{1\\beta}\n-2.7755575615628914e-17 * a^{1\\beta}a^{0\\alpha}a_{1\\beta}a_{1\\alpha}\n-2.7755575615628914e-17 * a^{1\\alpha}a^{0\\beta}a_{1\\alpha}a_{1\\beta}\n-2.7755575615628914e-17 * a^{1\\alpha}a^{0\\alpha}a_{1\\alpha}a_{1\\alpha}\n0.3226247132942422 * a^{1\\beta}a^{1\\beta}a_{0\\beta}a_{0\\beta}\n0.3226247132942422 * a^{1\\alpha}a^{1\\beta}a_{0\\beta}a_{0\\alpha}\n0.3226247132942422 * a^{1\\beta}a^{1\\alpha}a_{0\\alpha}a_{0\\beta}\n0.3226247132942422 * a^{1\\alpha}a^{1\\alpha}a_{0\\alpha}a_{0\\alpha}\n-6.938893903907228e-17 * a^{1\\beta}a^{1\\beta}a_{0\\beta}a_{1\\beta}\n-6.938893903907228e-17 * a^{1\\alpha}a^{1\\beta}a_{0\\alpha}a_{1\\beta}\n-6.938893903907228e-17 * a^{1\\beta}a^{1\\alpha}a_{0\\beta}a_{1\\alpha}\n-6.938893903907228e-17 * a^{1\\alpha}a^{1\\alpha}a_{0\\alpha}a_{1\\alpha}\n0.33906809184265285 * a^{1\\beta}a^{1\\beta}a_{1\\beta}a_{1\\beta}\n0.33906809184265285 * a^{1\\alpha}a^{1\\beta}a_{1\\beta}a_{1\\alpha}\n0.33906809184265285 * a^{1\\beta}a^{1\\alpha}a_{1\\alpha}a_{1\\beta}\n0.33906809184265285 * a^{1\\alpha}a^{1\\alpha}a_{1\\alpha}a_{1\\alpha}\n"
     ]
    }
   ],
   "source": [
    "for s in wickExpand(hamiltonian2Body, [1,0]).summandList:\n",
    "    print(s)"
   ]
  },
  {
   "cell_type": "code",
   "execution_count": 78,
   "metadata": {},
   "outputs": [
    {
     "output_type": "execute_result",
     "data": {
      "text/plain": [
       "0.6540095113561238"
      ]
     },
     "metadata": {},
     "execution_count": 78
    }
   ],
   "source": [
    "vacuumExpectationValue(hamiltonian2Body, [1,0])"
   ]
  },
  {
   "cell_type": "code",
   "execution_count": 79,
   "metadata": {},
   "outputs": [
    {
     "output_type": "execute_result",
     "data": {
      "text/plain": [
       "-1.7256917258579132"
      ]
     },
     "metadata": {},
     "execution_count": 79
    }
   ],
   "source": [
    "vacuumExpectationValue(hamiltonian1Body, [1,0]) + vacuumExpectationValue(hamiltonian2Body, [1,0])"
   ]
  },
  {
   "cell_type": "code",
   "execution_count": 80,
   "metadata": {},
   "outputs": [
    {
     "output_type": "execute_result",
     "data": {
      "text/plain": [
       "0.6540095113561238"
      ]
     },
     "metadata": {},
     "execution_count": 80
    }
   ],
   "source": [
    "vacuumExpectationValue(hamiltonian2Body, [1,0])"
   ]
  },
  {
   "cell_type": "code",
   "execution_count": 81,
   "metadata": {},
   "outputs": [
    {
     "output_type": "execute_result",
     "data": {
      "text/plain": [
       "(-1.7256917258579134, 0.6540095113561237)"
      ]
     },
     "metadata": {},
     "execution_count": 81
    }
   ],
   "source": [
    "mf.energy_elec()"
   ]
  },
  {
   "cell_type": "code",
   "execution_count": 82,
   "metadata": {},
   "outputs": [],
   "source": [
    "hamiltonian = hamiltonian1Body + hamiltonian2Body"
   ]
  },
  {
   "cell_type": "code",
   "execution_count": 83,
   "metadata": {},
   "outputs": [
    {
     "output_type": "execute_result",
     "data": {
      "text/plain": [
       "-1.7256917258579132"
      ]
     },
     "metadata": {},
     "execution_count": 83
    }
   ],
   "source": [
    "vacuumExpectationValue(hamiltonian, [1,0])"
   ]
  },
  {
   "cell_type": "code",
   "execution_count": null,
   "metadata": {},
   "outputs": [],
   "source": [
    "amplitudes = []"
   ]
  },
  {
   "cell_type": "code",
   "execution_count": null,
   "metadata": {},
   "outputs": [],
   "source": [
    "for "
   ]
  }
 ]
}