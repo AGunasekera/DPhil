{
 "metadata": {
  "language_info": {
   "codemirror_mode": {
    "name": "ipython",
    "version": 3
   },
   "file_extension": ".py",
   "mimetype": "text/x-python",
   "name": "python",
   "nbconvert_exporter": "python",
   "pygments_lexer": "ipython3",
   "version": "3.8.0-final"
  },
  "orig_nbformat": 2,
  "kernelspec": {
   "name": "python3",
   "display_name": "Python 3",
   "language": "python"
  }
 },
 "nbformat": 4,
 "nbformat_minor": 2,
 "cells": [
  {
   "cell_type": "code",
   "execution_count": 1,
   "metadata": {},
   "outputs": [],
   "source": [
    "import numpy as np\n",
    "from pyscf import gto, scf, ao2mo, fci\n",
    "from Wick import *\n",
    "from math import factorial, sqrt"
   ]
  },
  {
   "cell_type": "code",
   "execution_count": 2,
   "metadata": {},
   "outputs": [
    {
     "output_type": "stream",
     "name": "stdout",
     "text": [
      "[1, 1, 0]\n"
     ]
    }
   ],
   "source": [
    "norbs = 3\n",
    "Nocc = 2\n",
    "vacuumOccupations = [1 for i in range(Nocc)] + [0 for i in range (norbs - Nocc)]\n",
    "print(vacuumOccupations)"
   ]
  },
  {
   "cell_type": "code",
   "execution_count": 3,
   "metadata": {},
   "outputs": [
    {
     "output_type": "stream",
     "name": "stdout",
     "text": [
      "1.0 * a_{2\\alpha}a_{1\\alpha}a^{2\\alpha}a^{1\\alpha}\n1.0 * a_{1\\alpha}a^{2\\alpha}a_{2\\alpha}a^{1\\alpha}\n0\n-1.0 * a_{1\\alpha}a^{1\\alpha}\n0\n0\n0\n0\n0\n0\n0\n-1.0 * a_{1\\alpha}a^{1\\alpha}\n + 1.0 * a_{1\\alpha}a^{2\\alpha}a_{2\\alpha}a^{1\\alpha}\n0\n-1.0 * a_{1\\alpha}a^{1\\alpha}\n0\n0\n0\n0\n0\n0\n0\n0.0\n"
     ]
    }
   ],
   "source": [
    "oP = operatorProduct([basicOperator(2,0,1), basicOperator(1,0,1), basicOperator(2,1,1), basicOperator(1,1,1)])\n",
    "nOP = normalOrder(oP, vacuumOccupations)\n",
    "print(oP)\n",
    "print(nOP)\n",
    "print(wickExpand(oP, vacuumOccupations))\n",
    "print(vacuumExpectationValue(oP, vacuumOccupations))"
   ]
  },
  {
   "cell_type": "code",
   "execution_count": 4,
   "metadata": {},
   "outputs": [],
   "source": [
    "bohr = 0.529177249\n",
    "\n",
    "H2sep = 1.605 * bohr\n",
    "\n",
    "mol = gto.Mole()\n",
    "mol.verbose = 1\n",
    "mol.atom = 'H 0 0 0; H 0 0 ' + str(H2sep)\n",
    "mol.basis = 'sto-3g'\n",
    "mol.spin = 0\n",
    "mol.build()\n",
    "\n",
    "Enuc = mol.energy_nuc()\n",
    "\n",
    "mf = scf.ROHF(mol)\n",
    "mf.kernel()\n",
    "\n",
    "h1 = mf.mo_coeff.T.dot(mf.get_hcore()).dot(mf.mo_coeff)\n",
    "eri = ao2mo.kernel(mol, mf.mo_coeff)\n",
    "\n",
    "cisolver = fci.FCI(mol, mf.mo_coeff)"
   ]
  },
  {
   "cell_type": "code",
   "execution_count": 5,
   "metadata": {},
   "outputs": [
    {
     "output_type": "execute_result",
     "data": {
      "text/plain": [
       "array([[-1.18985062e+00,  2.60021255e-17],\n",
       "       [-4.71423569e-17, -5.33749102e-01]])"
      ]
     },
     "metadata": {},
     "execution_count": 5
    }
   ],
   "source": [
    "h1"
   ]
  },
  {
   "cell_type": "code",
   "execution_count": 6,
   "metadata": {},
   "outputs": [
    {
     "output_type": "execute_result",
     "data": {
      "text/plain": [
       "array([[6.54009511e-01, 8.32667268e-17, 6.45249427e-01],\n",
       "       [1.04083409e-16, 1.87521981e-01, 5.55111512e-17],\n",
       "       [6.45249427e-01, 1.38777878e-16, 6.78136184e-01]])"
      ]
     },
     "metadata": {},
     "execution_count": 6
    }
   ],
   "source": [
    "eri"
   ]
  },
  {
   "cell_type": "code",
   "execution_count": 7,
   "metadata": {},
   "outputs": [
    {
     "output_type": "execute_result",
     "data": {
      "text/plain": [
       "array([-1.10263881,  1.27706243])"
      ]
     },
     "metadata": {},
     "execution_count": 7
    }
   ],
   "source": [
    "mf.energy_elec() + mf.energy_nuc()"
   ]
  },
  {
   "cell_type": "code",
   "execution_count": 8,
   "metadata": {},
   "outputs": [
    {
     "output_type": "execute_result",
     "data": {
      "text/plain": [
       "array([[ 0.56092571, -1.10314488],\n",
       "       [ 0.56092571,  1.10314488]])"
      ]
     },
     "metadata": {},
     "execution_count": 8
    }
   ],
   "source": [
    "mf.mo_coeff"
   ]
  },
  {
   "cell_type": "code",
   "execution_count": 9,
   "metadata": {},
   "outputs": [
    {
     "output_type": "execute_result",
     "data": {
      "text/plain": [
       "(1, 1)"
      ]
     },
     "metadata": {},
     "execution_count": 9
    }
   ],
   "source": [
    "mf.nelec"
   ]
  },
  {
   "cell_type": "code",
   "execution_count": 10,
   "metadata": {},
   "outputs": [],
   "source": [
    "def spinFreeSingleExcitation(p, q):\n",
    "    summandList = []\n",
    "    for spin in range(2):\n",
    "        summandList.append(operatorProduct([basicOperator(p,1,spin), basicOperator(q,0,spin)]))\n",
    "    return operatorSum(summandList)"
   ]
  },
  {
   "cell_type": "code",
   "execution_count": 11,
   "metadata": {},
   "outputs": [],
   "source": [
    "def spinFreeDoubleExcitation(p, q, r, s):\n",
    "    summandList = []\n",
    "    for spin1 in range(2):\n",
    "        for spin2 in range(2):\n",
    "            summandList.append(operatorProduct([basicOperator(p,1,spin2), basicOperator(q,1,spin1), basicOperator(s,0,spin1), basicOperator(r,0,spin2)]))\n",
    "    return operatorSum(summandList)"
   ]
  },
  {
   "cell_type": "code",
   "execution_count": 12,
   "metadata": {},
   "outputs": [],
   "source": [
    "Norbs = mol.nao\n",
    "Nocc = mf.nelectron_alpha\n",
    "vacuum = [1 for i in range(Nocc)] + [0 for i in range (Norbs - Nocc)]\n"
   ]
  },
  {
   "cell_type": "code",
   "execution_count": 13,
   "metadata": {},
   "outputs": [],
   "source": [
    "hamiltonian1Body = operatorSum([])\n",
    "for p in range(Norbs):\n",
    "    for q in range(Norbs):\n",
    "        hamiltonian1Body = hamiltonian1Body + h1[p, q] * spinFreeSingleExcitation(p, q)"
   ]
  },
  {
   "cell_type": "code",
   "execution_count": 14,
   "metadata": {},
   "outputs": [
    {
     "output_type": "stream",
     "name": "stdout",
     "text": [
      "-1.1898506186070186 * a^{0\\alpha}a_{0\\alpha}\n + 2.600212552842601e-17 * a^{0\\alpha}a_{1\\alpha}\n + -1.1898506186070186 * a^{0\\beta}a_{0\\beta}\n + 2.600212552842601e-17 * a^{0\\beta}a_{1\\beta}\n + -4.7142356915405136e-17 * a^{1\\alpha}a_{0\\alpha}\n + -0.5337491016607854 * a^{1\\alpha}a_{1\\alpha}\n + -4.7142356915405136e-17 * a^{1\\beta}a_{0\\beta}\n + -0.5337491016607854 * a^{1\\beta}a_{1\\beta}\n"
     ]
    }
   ],
   "source": [
    "print(hamiltonian1Body)"
   ]
  },
  {
   "cell_type": "code",
   "execution_count": 15,
   "metadata": {},
   "outputs": [
    {
     "output_type": "stream",
     "name": "stdout",
     "text": [
      "-1.1898506186070186\n0\n-1.1898506186070186\n0\n0\n0\n0\n0\n-2.379701237214037\n + 1.1898506186070186 * a_{0\\alpha}a^{0\\alpha}\n + 1.1898506186070186 * a_{0\\beta}a^{0\\beta}\n + -4.7142356915405136e-17 * a^{1\\alpha}a_{0\\alpha}\n + -0.5337491016607854 * a^{1\\alpha}a_{1\\alpha}\n + -4.7142356915405136e-17 * a^{1\\beta}a_{0\\beta}\n + -0.5337491016607854 * a^{1\\beta}a_{1\\beta}\n + 2.600212552842601e-17 * a^{0\\alpha}a_{1\\alpha}\n + 2.600212552842601e-17 * a^{0\\beta}a_{1\\beta}\n"
     ]
    }
   ],
   "source": [
    "print(wickExpand(hamiltonian1Body, [1,0]))"
   ]
  },
  {
   "cell_type": "code",
   "execution_count": 16,
   "metadata": {},
   "outputs": [
    {
     "output_type": "execute_result",
     "data": {
      "text/plain": [
       "<Wick.operatorSum at 0x117e45d90>"
      ]
     },
     "metadata": {},
     "execution_count": 16
    }
   ],
   "source": [
    "hamiltonian1Body"
   ]
  },
  {
   "cell_type": "code",
   "execution_count": 17,
   "metadata": {},
   "outputs": [
    {
     "output_type": "stream",
     "name": "stdout",
     "text": [
      "-1.1898506186070186\n0\n-1.1898506186070186\n0\n0\n0\n0\n0\n"
     ]
    },
    {
     "output_type": "execute_result",
     "data": {
      "text/plain": [
       "<Wick.operatorSum at 0x109e0df10>"
      ]
     },
     "metadata": {},
     "execution_count": 17
    }
   ],
   "source": [
    "wickExpand(hamiltonian1Body, [1,0])"
   ]
  },
  {
   "cell_type": "code",
   "execution_count": 18,
   "metadata": {},
   "outputs": [
    {
     "output_type": "stream",
     "name": "stdout",
     "text": [
      "-1.1898506186070186 * a^{0\\alpha}a_{0\\alpha}\n2.600212552842601e-17 * a^{0\\alpha}a_{1\\alpha}\n-1.1898506186070186 * a^{0\\beta}a_{0\\beta}\n2.600212552842601e-17 * a^{0\\beta}a_{1\\beta}\n-4.7142356915405136e-17 * a^{1\\alpha}a_{0\\alpha}\n-0.5337491016607854 * a^{1\\alpha}a_{1\\alpha}\n-4.7142356915405136e-17 * a^{1\\beta}a_{0\\beta}\n-0.5337491016607854 * a^{1\\beta}a_{1\\beta}\n"
     ]
    }
   ],
   "source": [
    "for s in hamiltonian1Body.summandList:\n",
    "    print(s)"
   ]
  },
  {
   "cell_type": "code",
   "execution_count": 19,
   "metadata": {},
   "outputs": [
    {
     "output_type": "stream",
     "name": "stdout",
     "text": [
      "1.1898506186070186 * a_{0\\alpha}a^{0\\alpha}\n1.1898506186070186 * a_{0\\beta}a^{0\\beta}\n-4.7142356915405136e-17 * a^{1\\alpha}a_{0\\alpha}\n-0.5337491016607854 * a^{1\\alpha}a_{1\\alpha}\n-4.7142356915405136e-17 * a^{1\\beta}a_{0\\beta}\n-0.5337491016607854 * a^{1\\beta}a_{1\\beta}\n2.600212552842601e-17 * a^{0\\alpha}a_{1\\alpha}\n2.600212552842601e-17 * a^{0\\beta}a_{1\\beta}\n"
     ]
    }
   ],
   "source": [
    "for s in normalOrder(hamiltonian1Body, [1,0]).summandList:\n",
    "    print(s)"
   ]
  },
  {
   "cell_type": "code",
   "execution_count": 20,
   "metadata": {},
   "outputs": [
    {
     "output_type": "stream",
     "name": "stdout",
     "text": [
      "-1.1898506186070186\n0\n-1.1898506186070186\n0\n0\n0\n0\n0\n-2.379701237214037\n1.1898506186070186 * a_{0\\alpha}a^{0\\alpha}\n1.1898506186070186 * a_{0\\beta}a^{0\\beta}\n-4.7142356915405136e-17 * a^{1\\alpha}a_{0\\alpha}\n-0.5337491016607854 * a^{1\\alpha}a_{1\\alpha}\n-4.7142356915405136e-17 * a^{1\\beta}a_{0\\beta}\n-0.5337491016607854 * a^{1\\beta}a_{1\\beta}\n2.600212552842601e-17 * a^{0\\alpha}a_{1\\alpha}\n2.600212552842601e-17 * a^{0\\beta}a_{1\\beta}\n"
     ]
    }
   ],
   "source": [
    "for s in wickExpand(hamiltonian1Body, [1,0]).summandList:\n",
    "    print(s)"
   ]
  },
  {
   "cell_type": "code",
   "execution_count": 21,
   "metadata": {},
   "outputs": [
    {
     "output_type": "stream",
     "name": "stdout",
     "text": [
      "-1.1898506186070186\n0\n-1.1898506186070186\n0\n0\n0\n0\n0\n"
     ]
    }
   ],
   "source": [
    "w = wickExpand(hamiltonian1Body, [1,0])"
   ]
  },
  {
   "cell_type": "code",
   "execution_count": 22,
   "metadata": {},
   "outputs": [
    {
     "output_type": "execute_result",
     "data": {
      "text/plain": [
       "<Wick.operatorSum at 0x11d3632b0>"
      ]
     },
     "metadata": {},
     "execution_count": 22
    }
   ],
   "source": [
    "w"
   ]
  },
  {
   "cell_type": "code",
   "execution_count": 23,
   "metadata": {},
   "outputs": [
    {
     "output_type": "stream",
     "name": "stdout",
     "text": [
      "-2.379701237214037\n + 1.1898506186070186 * a_{0\\alpha}a^{0\\alpha}\n + 1.1898506186070186 * a_{0\\beta}a^{0\\beta}\n + -4.7142356915405136e-17 * a^{1\\alpha}a_{0\\alpha}\n + -0.5337491016607854 * a^{1\\alpha}a_{1\\alpha}\n + -4.7142356915405136e-17 * a^{1\\beta}a_{0\\beta}\n + -0.5337491016607854 * a^{1\\beta}a_{1\\beta}\n + 2.600212552842601e-17 * a^{0\\alpha}a_{1\\alpha}\n + 2.600212552842601e-17 * a^{0\\beta}a_{1\\beta}\n"
     ]
    }
   ],
   "source": [
    "print(w)"
   ]
  },
  {
   "cell_type": "code",
   "execution_count": 24,
   "metadata": {},
   "outputs": [
    {
     "output_type": "stream",
     "name": "stdout",
     "text": [
      "-1.1898506186070186\n0\n-1.1898506186070186\n0\n0\n0\n0\n0\n"
     ]
    },
    {
     "output_type": "execute_result",
     "data": {
      "text/plain": [
       "-2.379701237214037"
      ]
     },
     "metadata": {},
     "execution_count": 24
    }
   ],
   "source": [
    "vacuumExpectationValue(hamiltonian1Body, [1,0])"
   ]
  },
  {
   "cell_type": "code",
   "execution_count": 25,
   "metadata": {},
   "outputs": [
    {
     "output_type": "stream",
     "name": "stdout",
     "text": [
      "-2.379701237214037\n"
     ]
    }
   ],
   "source": [
    "vEV = 0.\n",
    "for summand in w.summandList:\n",
    "    if summand.operatorList == []:\n",
    "        print(summand)\n",
    "        vEV += summand.prefactor\n"
   ]
  },
  {
   "cell_type": "code",
   "execution_count": 26,
   "metadata": {},
   "outputs": [
    {
     "output_type": "execute_result",
     "data": {
      "text/plain": [
       "-2.379701237214037"
      ]
     },
     "metadata": {},
     "execution_count": 26
    }
   ],
   "source": [
    "vEV"
   ]
  },
  {
   "cell_type": "code",
   "execution_count": 27,
   "metadata": {},
   "outputs": [
    {
     "output_type": "execute_result",
     "data": {
      "text/plain": [
       "0.6230529146661897"
      ]
     },
     "metadata": {},
     "execution_count": 27
    }
   ],
   "source": [
    "mf.energy_nuc()"
   ]
  },
  {
   "cell_type": "code",
   "execution_count": 28,
   "metadata": {},
   "outputs": [
    {
     "output_type": "execute_result",
     "data": {
      "text/plain": [
       "(-1.7256917258579134, 0.6540095113561237)"
      ]
     },
     "metadata": {},
     "execution_count": 28
    }
   ],
   "source": [
    "mf.energy_elec()"
   ]
  },
  {
   "cell_type": "code",
   "execution_count": 247,
   "metadata": {},
   "outputs": [],
   "source": [
    "hamiltonian2Body = operatorSum([])\n",
    "for p in range(Norbs):\n",
    "    for q in range(p, Norbs):\n",
    "        for r in range(Norbs):\n",
    "            for s in range(r, Norbs):\n",
    "                x = int(q + Norbs * p - 0.5 * p * (p + 1))\n",
    "                y = int(s + Norbs * r - 0.5 * r * (r + 1))\n",
    "                hamiltonian2Body = hamiltonian2Body + 0.5 * eri[x, y] * spinFreeDoubleExcitation(p, q, r, s)"
   ]
  },
  {
   "cell_type": "code",
   "execution_count": 361,
   "metadata": {},
   "outputs": [],
   "source": [
    "hamiltonian2Body = operatorSum([])\n",
    "for p in range(Norbs):\n",
    "    for q in range(Norbs):\n",
    "        for r in range(p):\n",
    "            for s in range(q):\n",
    "                if r >= p:\n",
    "                    x = int(q + Norbs * p - 0.5 * p * (p + 1))\n",
    "                else:\n",
    "                    x = int(p + Norbs * r - 0.5 * r * (r + 1))\n",
    "                if q >= s:\n",
    "                    y = int(s + Norbs * r - 0.5 * r * (r + 1))\n",
    "                else:\n",
    "                    y = int(q + Norbs * s - 0.5 * s * (s + 1))\n",
    "                hamiltonian2Body = hamiltonian2Body + 0.5 * eri[x, y] * spinFreeDoubleExcitation(p, q, r, s)"
   ]
  },
  {
   "cell_type": "code",
   "execution_count": 522,
   "metadata": {},
   "outputs": [
    {
     "output_type": "stream",
     "name": "stdout",
     "text": [
      "0 0 0 0\n0 0\n0 1 0 0\n0 1\n0 1 0 1\n0 2\n1 0 0 0\n1 0\n1 0 1 0\n2 0\n1 1 0 0\n1 1\n1 1 0 1\n1 2\n1 1 1 0\n2 1\n1 1 1 1\n2 2\n"
     ]
    }
   ],
   "source": [
    "hamiltonian2Body = operatorSum([])\n",
    "for p in range(Norbs):\n",
    "    for q in range(Norbs):\n",
    "        for r in range(p + 1):\n",
    "            for s in range(q + 1):\n",
    "                x = int(p + Norbs * r - 0.5 * r * (r + 1))\n",
    "                y = int(q + Norbs * s - 0.5 * s * (s + 1))\n",
    "                print(p, q, r, s)\n",
    "                print(x, y)\n",
    "                if p == r and q == s:\n",
    "                    hamiltonian2Body = hamiltonian2Body + 0.5 * eri[x, y] * spinFreeDoubleExcitation(p, q, r, s)\n",
    "                else:\n",
    "                    hamiltonian2Body = hamiltonian2Body + 0.5 * eri[x, y] * spinFreeDoubleExcitation(p, q, r, s) + 0.5 * eri[x, y] * spinFreeDoubleExcitation(r, s, p, q)\n"
   ]
  },
  {
   "cell_type": "code",
   "execution_count": 523,
   "metadata": {},
   "outputs": [
    {
     "output_type": "stream",
     "name": "stdout",
     "text": [
      "[[6.54009511e-01 8.32667268e-17 6.45249427e-01]\n [1.04083409e-16 1.87521981e-01 5.55111512e-17]\n [6.45249427e-01 1.38777878e-16 6.78136184e-01]]\n"
     ]
    }
   ],
   "source": [
    "print(eri)"
   ]
  },
  {
   "cell_type": "code",
   "execution_count": 524,
   "metadata": {},
   "outputs": [
    {
     "output_type": "stream",
     "name": "stdout",
     "text": [
      "0.3270047556780619 * a^{0\\alpha}a^{0\\alpha}a_{0\\alpha}a_{0\\alpha}\n + 5.204170427930421e-17 * a^{0\\alpha}a^{0\\alpha}a_{0\\alpha}a_{1\\alpha}\n + 4.163336342344337e-17 * a^{0\\alpha}a^{0\\alpha}a_{1\\alpha}a_{0\\alpha}\n + 0.09376099045135429 * a^{0\\alpha}a^{0\\alpha}a_{1\\alpha}a_{1\\alpha}\n + 0.3270047556780619 * a^{0\\alpha}a^{0\\beta}a_{0\\beta}a_{0\\alpha}\n + 5.204170427930421e-17 * a^{0\\alpha}a^{0\\beta}a_{0\\beta}a_{1\\alpha}\n + 4.163336342344337e-17 * a^{0\\alpha}a^{0\\beta}a_{1\\beta}a_{0\\alpha}\n + 0.09376099045135429 * a^{0\\alpha}a^{0\\beta}a_{1\\beta}a_{1\\alpha}\n + 4.163336342344337e-17 * a^{0\\alpha}a^{1\\alpha}a_{0\\alpha}a_{0\\alpha}\n + 0.3226247132942424 * a^{0\\alpha}a^{1\\alpha}a_{1\\alpha}a_{0\\alpha}\n + 2.7755575615628914e-17 * a^{0\\alpha}a^{1\\alpha}a_{1\\alpha}a_{1\\alpha}\n + 4.163336342344337e-17 * a^{0\\alpha}a^{1\\beta}a_{0\\beta}a_{0\\alpha}\n + 0.3226247132942424 * a^{0\\alpha}a^{1\\beta}a_{1\\beta}a_{0\\alpha}\n + 2.7755575615628914e-17 * a^{0\\alpha}a^{1\\beta}a_{1\\beta}a_{1\\alpha}\n + 0.3270047556780619 * a^{0\\beta}a^{0\\alpha}a_{0\\alpha}a_{0\\beta}\n + 5.204170427930421e-17 * a^{0\\beta}a^{0\\alpha}a_{0\\alpha}a_{1\\beta}\n + 4.163336342344337e-17 * a^{0\\beta}a^{0\\alpha}a_{1\\alpha}a_{0\\beta}\n + 0.09376099045135429 * a^{0\\beta}a^{0\\alpha}a_{1\\alpha}a_{1\\beta}\n + 0.3270047556780619 * a^{0\\beta}a^{0\\beta}a_{0\\beta}a_{0\\beta}\n + 5.204170427930421e-17 * a^{0\\beta}a^{0\\beta}a_{0\\beta}a_{1\\beta}\n + 4.163336342344337e-17 * a^{0\\beta}a^{0\\beta}a_{1\\beta}a_{0\\beta}\n + 0.09376099045135429 * a^{0\\beta}a^{0\\beta}a_{1\\beta}a_{1\\beta}\n + 4.163336342344337e-17 * a^{0\\beta}a^{1\\alpha}a_{0\\alpha}a_{0\\beta}\n + 0.3226247132942424 * a^{0\\beta}a^{1\\alpha}a_{1\\alpha}a_{0\\beta}\n + 2.7755575615628914e-17 * a^{0\\beta}a^{1\\alpha}a_{1\\alpha}a_{1\\beta}\n + 4.163336342344337e-17 * a^{0\\beta}a^{1\\beta}a_{0\\beta}a_{0\\beta}\n + 0.3226247132942424 * a^{0\\beta}a^{1\\beta}a_{1\\beta}a_{0\\beta}\n + 2.7755575615628914e-17 * a^{0\\beta}a^{1\\beta}a_{1\\beta}a_{1\\beta}\n + 5.204170427930421e-17 * a^{1\\alpha}a^{0\\alpha}a_{0\\alpha}a_{0\\alpha}\n + 0.3226247132942422 * a^{1\\alpha}a^{0\\alpha}a_{0\\alpha}a_{1\\alpha}\n + 6.938893903907228e-17 * a^{1\\alpha}a^{0\\alpha}a_{1\\alpha}a_{1\\alpha}\n + 5.204170427930421e-17 * a^{1\\alpha}a^{0\\beta}a_{0\\beta}a_{0\\alpha}\n + 0.3226247132942422 * a^{1\\alpha}a^{0\\beta}a_{0\\beta}a_{1\\alpha}\n + 6.938893903907228e-17 * a^{1\\alpha}a^{0\\beta}a_{1\\beta}a_{1\\alpha}\n + 0.09376099045135429 * a^{1\\alpha}a^{1\\alpha}a_{0\\alpha}a_{0\\alpha}\n + 6.938893903907228e-17 * a^{1\\alpha}a^{1\\alpha}a_{0\\alpha}a_{1\\alpha}\n + 2.7755575615628914e-17 * a^{1\\alpha}a^{1\\alpha}a_{1\\alpha}a_{0\\alpha}\n + 0.33906809184265285 * a^{1\\alpha}a^{1\\alpha}a_{1\\alpha}a_{1\\alpha}\n + 0.09376099045135429 * a^{1\\alpha}a^{1\\beta}a_{0\\beta}a_{0\\alpha}\n + 6.938893903907228e-17 * a^{1\\alpha}a^{1\\beta}a_{0\\beta}a_{1\\alpha}\n + 2.7755575615628914e-17 * a^{1\\alpha}a^{1\\beta}a_{1\\beta}a_{0\\alpha}\n + 0.33906809184265285 * a^{1\\alpha}a^{1\\beta}a_{1\\beta}a_{1\\alpha}\n + 5.204170427930421e-17 * a^{1\\beta}a^{0\\alpha}a_{0\\alpha}a_{0\\beta}\n + 0.3226247132942422 * a^{1\\beta}a^{0\\alpha}a_{0\\alpha}a_{1\\beta}\n + 6.938893903907228e-17 * a^{1\\beta}a^{0\\alpha}a_{1\\alpha}a_{1\\beta}\n + 5.204170427930421e-17 * a^{1\\beta}a^{0\\beta}a_{0\\beta}a_{0\\beta}\n + 0.3226247132942422 * a^{1\\beta}a^{0\\beta}a_{0\\beta}a_{1\\beta}\n + 6.938893903907228e-17 * a^{1\\beta}a^{0\\beta}a_{1\\beta}a_{1\\beta}\n + 0.09376099045135429 * a^{1\\beta}a^{1\\alpha}a_{0\\alpha}a_{0\\beta}\n + 6.938893903907228e-17 * a^{1\\beta}a^{1\\alpha}a_{0\\alpha}a_{1\\beta}\n + 2.7755575615628914e-17 * a^{1\\beta}a^{1\\alpha}a_{1\\alpha}a_{0\\beta}\n + 0.33906809184265285 * a^{1\\beta}a^{1\\alpha}a_{1\\alpha}a_{1\\beta}\n + 0.09376099045135429 * a^{1\\beta}a^{1\\beta}a_{0\\beta}a_{0\\beta}\n + 6.938893903907228e-17 * a^{1\\beta}a^{1\\beta}a_{0\\beta}a_{1\\beta}\n + 2.7755575615628914e-17 * a^{1\\beta}a^{1\\beta}a_{1\\beta}a_{0\\beta}\n + 0.33906809184265285 * a^{1\\beta}a^{1\\beta}a_{1\\beta}a_{1\\beta}\n"
     ]
    }
   ],
   "source": [
    "print(hamiltonian2Body)"
   ]
  },
  {
   "cell_type": "code",
   "execution_count": 400,
   "metadata": {},
   "outputs": [],
   "source": [
    "#for s in wickExpand(hamiltonian2Body, [1,0]).summandList:\n",
    " #   print(s)"
   ]
  },
  {
   "cell_type": "code",
   "execution_count": 525,
   "metadata": {},
   "outputs": [
    {
     "output_type": "stream",
     "name": "stdout",
     "text": [
      "0\n0\n0.3270047556780619 * a^{0\\beta}a_{0\\beta}\n0.3270047556780619 * a^{0\\alpha}a_{0\\alpha}\n0\n0\n0\n0\n0.3270047556780619\n0\n0\n0\n5.204170427930421e-17 * a^{0\\alpha}a_{1\\alpha}\n0\n0\n0\n0\n0\n0\n0\n4.163336342344337e-17 * a^{0\\beta}a_{1\\beta}\n0\n0\n0\n0\n0\n0\n0\n0\n0\n0\n0\n0\n0\n0\n0\n0\n0\n0.3226247132942424 * a^{1\\alpha}a_{1\\alpha}\n0\n0\n0\n0\n0\n0\n0\n0\n4.163336342344337e-17 * a^{1\\beta}a_{0\\beta}\n0\n0\n0\n0\n0\n0\n0\n0\n0.3226247132942424 * a^{1\\beta}a_{1\\beta}\n0\n0\n0\n0\n0\n0\n0\n0\n0\n0\n0\n0\n0\n0\n0\n0\n0\n0.3270047556780619 * a^{0\\alpha}a_{0\\alpha}\n0.3270047556780619 * a^{0\\beta}a_{0\\beta}\n0\n0\n0\n0\n0.3270047556780619\n0\n0\n0\n5.204170427930421e-17 * a^{0\\beta}a_{1\\beta}\n0\n0\n0\n0\n0\n0\n0\n4.163336342344337e-17 * a^{0\\alpha}a_{1\\alpha}\n0\n0\n0\n0\n0\n0\n0\n0\n0\n0\n0\n0\n0\n0\n0\n0\n0\n4.163336342344337e-17 * a^{1\\alpha}a_{0\\alpha}\n0\n0\n0\n0\n0\n0\n0\n0\n0.3226247132942424 * a^{1\\alpha}a_{1\\alpha}\n0\n0\n0\n0\n0\n0\n0\n0\n0\n0\n0\n0\n0\n0\n0\n0\n0\n0.3226247132942424 * a^{1\\beta}a_{1\\beta}\n0\n0\n0\n0\n0\n0\n0\n0\n0\n0.3226247132942422 * a^{1\\alpha}a_{1\\alpha}\n0\n0\n0\n0\n0\n0\n0\n0\n5.204170427930421e-17 * a^{1\\alpha}a_{0\\alpha}\n0\n0\n0\n0\n0\n0\n0\n0\n0.3226247132942422 * a^{1\\alpha}a_{1\\alpha}\n0\n0\n0\n0\n0\n0\n0\n0\n0\n0\n0\n0\n0\n0\n0\n0\n0\n0\n0\n0\n0\n0\n0\n0\n0\n0\n0\n0\n0\n0\n0\n0\n0\n0\n0\n0\n0\n0\n0\n0\n0\n0\n0\n0\n0\n0\n0\n0\n0\n0\n0\n0\n0\n5.204170427930421e-17 * a^{1\\beta}a_{0\\beta}\n0\n0\n0\n0\n0\n0\n0\n0\n0.3226247132942422 * a^{1\\beta}a_{1\\beta}\n0\n0\n0\n0\n0\n0\n0\n0\n0\n0\n0\n0\n0\n0\n0\n0\n0\n0.3226247132942422 * a^{1\\beta}a_{1\\beta}\n0\n0\n0\n0\n0\n0\n0\n0\n0\n0\n0\n0\n0\n0\n0\n0\n0\n0\n0\n0\n0\n0\n0\n0\n0\n0\n0\n0\n0\n0\n0\n0\n0\n0\n0\n0\n0\n0\n0\n0\n0\n"
     ]
    },
    {
     "output_type": "execute_result",
     "data": {
      "text/plain": [
       "0.6540095113561238"
      ]
     },
     "metadata": {},
     "execution_count": 525
    }
   ],
   "source": [
    "vacuumExpectationValue(hamiltonian2Body, [1,0])"
   ]
  },
  {
   "cell_type": "code",
   "execution_count": 526,
   "metadata": {},
   "outputs": [
    {
     "output_type": "execute_result",
     "data": {
      "text/plain": [
       "0.6781361836853057"
      ]
     },
     "metadata": {},
     "execution_count": 526
    }
   ],
   "source": [
    "vacuumExpectationValue3(hamiltonian2Body, [0,1])"
   ]
  },
  {
   "cell_type": "code",
   "execution_count": 527,
   "metadata": {},
   "outputs": [
    {
     "output_type": "stream",
     "name": "stdout",
     "text": [
      "-1.1898506186070186\n",
      "0\n",
      "-1.1898506186070186\n",
      "0\n",
      "0\n",
      "0\n",
      "0\n",
      "0\n",
      "0\n",
      "0\n",
      "0.3270047556780619 * a^{0\\beta}a_{0\\beta}\n",
      "0.3270047556780619 * a^{0\\alpha}a_{0\\alpha}\n",
      "0\n",
      "0\n",
      "0\n",
      "0\n",
      "0.3270047556780619\n",
      "0\n",
      "0\n",
      "0\n",
      "5.204170427930421e-17 * a^{0\\alpha}a_{1\\alpha}\n",
      "0\n",
      "0\n",
      "0\n",
      "0\n",
      "0\n",
      "0\n",
      "0\n",
      "4.163336342344337e-17 * a^{0\\beta}a_{1\\beta}\n",
      "0\n",
      "0\n",
      "0\n",
      "0\n",
      "0\n",
      "0\n",
      "0\n",
      "0\n",
      "0\n",
      "0\n",
      "0\n",
      "0\n",
      "0\n",
      "0\n",
      "0\n",
      "0\n",
      "0\n",
      "0.3226247132942424 * a^{1\\alpha}a_{1\\alpha}\n",
      "0\n",
      "0\n",
      "0\n",
      "0\n",
      "0\n",
      "0\n",
      "0\n",
      "0\n",
      "4.163336342344337e-17 * a^{1\\beta}a_{0\\beta}\n",
      "0\n",
      "0\n",
      "0\n",
      "0\n",
      "0\n",
      "0\n",
      "0\n",
      "0\n",
      "0.3226247132942424 * a^{1\\beta}a_{1\\beta}\n",
      "0\n",
      "0\n",
      "0\n",
      "0\n",
      "0\n",
      "0\n",
      "0\n",
      "0\n",
      "0\n",
      "0\n",
      "0\n",
      "0\n",
      "0\n",
      "0\n",
      "0\n",
      "0\n",
      "0\n",
      "0.3270047556780619 * a^{0\\alpha}a_{0\\alpha}\n",
      "0.3270047556780619 * a^{0\\beta}a_{0\\beta}\n",
      "0\n",
      "0\n",
      "0\n",
      "0\n",
      "0.3270047556780619\n",
      "0\n",
      "0\n",
      "0\n",
      "5.204170427930421e-17 * a^{0\\beta}a_{1\\beta}\n",
      "0\n",
      "0\n",
      "0\n",
      "0\n",
      "0\n",
      "0\n",
      "0\n",
      "4.163336342344337e-17 * a^{0\\alpha}a_{1\\alpha}\n",
      "0\n",
      "0\n",
      "0\n",
      "0\n",
      "0\n",
      "0\n",
      "0\n",
      "0\n",
      "0\n",
      "0\n",
      "0\n",
      "0\n",
      "0\n",
      "0\n",
      "0\n",
      "0\n",
      "0\n",
      "4.163336342344337e-17 * a^{1\\alpha}a_{0\\alpha}\n",
      "0\n",
      "0\n",
      "0\n",
      "0\n",
      "0\n",
      "0\n",
      "0\n",
      "0\n",
      "0.3226247132942424 * a^{1\\alpha}a_{1\\alpha}\n",
      "0\n",
      "0\n",
      "0\n",
      "0\n",
      "0\n",
      "0\n",
      "0\n",
      "0\n",
      "0\n",
      "0\n",
      "0\n",
      "0\n",
      "0\n",
      "0\n",
      "0\n",
      "0\n",
      "0\n",
      "0.3226247132942424 * a^{1\\beta}a_{1\\beta}\n",
      "0\n",
      "0\n",
      "0\n",
      "0\n",
      "0\n",
      "0\n",
      "0\n",
      "0\n",
      "0\n",
      "0.3226247132942422 * a^{1\\alpha}a_{1\\alpha}\n",
      "0\n",
      "0\n",
      "0\n",
      "0\n",
      "0\n",
      "0\n",
      "0\n",
      "0\n",
      "5.204170427930421e-17 * a^{1\\alpha}a_{0\\alpha}\n",
      "0\n",
      "0\n",
      "0\n",
      "0\n",
      "0\n",
      "0\n",
      "0\n",
      "0\n",
      "0.3226247132942422 * a^{1\\alpha}a_{1\\alpha}\n",
      "0\n",
      "0\n",
      "0\n",
      "0\n",
      "0\n",
      "0\n",
      "0\n",
      "0\n",
      "0\n",
      "0\n",
      "0\n",
      "0\n",
      "0\n",
      "0\n",
      "0\n",
      "0\n",
      "0\n",
      "0\n",
      "0\n",
      "0\n",
      "0\n",
      "0\n",
      "0\n",
      "0\n",
      "0\n",
      "0\n",
      "0\n",
      "0\n",
      "0\n",
      "0\n",
      "0\n",
      "0\n",
      "0\n",
      "0\n",
      "0\n",
      "0\n",
      "0\n",
      "0\n",
      "0\n",
      "0\n",
      "0\n",
      "0\n",
      "0\n",
      "0\n",
      "0\n",
      "0\n",
      "0\n",
      "0\n",
      "0\n",
      "0\n",
      "0\n",
      "0\n",
      "0\n",
      "5.204170427930421e-17 * a^{1\\beta}a_{0\\beta}\n",
      "0\n",
      "0\n",
      "0\n",
      "0\n",
      "0\n",
      "0\n",
      "0\n",
      "0\n",
      "0.3226247132942422 * a^{1\\beta}a_{1\\beta}\n",
      "0\n",
      "0\n",
      "0\n",
      "0\n",
      "0\n",
      "0\n",
      "0\n",
      "0\n",
      "0\n",
      "0\n",
      "0\n",
      "0\n",
      "0\n",
      "0\n",
      "0\n",
      "0\n",
      "0\n",
      "0.3226247132942422 * a^{1\\beta}a_{1\\beta}\n",
      "0\n",
      "0\n",
      "0\n",
      "0\n",
      "0\n",
      "0\n",
      "0\n",
      "0\n",
      "0\n",
      "0\n",
      "0\n",
      "0\n",
      "0\n",
      "0\n",
      "0\n",
      "0\n",
      "0\n",
      "0\n",
      "0\n",
      "0\n",
      "0\n",
      "0\n",
      "0\n",
      "0\n",
      "0\n",
      "0\n",
      "0\n",
      "0\n",
      "0\n",
      "0\n",
      "0\n",
      "0\n",
      "0\n",
      "0\n",
      "0\n",
      "0\n",
      "0\n",
      "0\n",
      "0\n",
      "0\n",
      "0\n"
     ]
    },
    {
     "output_type": "execute_result",
     "data": {
      "text/plain": [
       "-1.7256917258579132"
      ]
     },
     "metadata": {},
     "execution_count": 527
    }
   ],
   "source": [
    "vacuumExpectationValue(hamiltonian1Body, [1,0]) + vacuumExpectationValue(hamiltonian2Body, [1,0])"
   ]
  },
  {
   "cell_type": "code",
   "execution_count": 528,
   "metadata": {},
   "outputs": [
    {
     "output_type": "stream",
     "name": "stdout",
     "text": [
      "0\n",
      "0\n",
      "0.3270047556780619 * a^{0\\beta}a_{0\\beta}\n",
      "0.3270047556780619 * a^{0\\alpha}a_{0\\alpha}\n",
      "0\n",
      "0\n",
      "0\n",
      "0\n",
      "0.3270047556780619\n",
      "0\n",
      "0\n",
      "0\n",
      "5.204170427930421e-17 * a^{0\\alpha}a_{1\\alpha}\n",
      "0\n",
      "0\n",
      "0\n",
      "0\n",
      "0\n",
      "0\n",
      "0\n",
      "4.163336342344337e-17 * a^{0\\beta}a_{1\\beta}\n",
      "0\n",
      "0\n",
      "0\n",
      "0\n",
      "0\n",
      "0\n",
      "0\n",
      "0\n",
      "0\n",
      "0\n",
      "0\n",
      "0\n",
      "0\n",
      "0\n",
      "0\n",
      "0\n",
      "0\n",
      "0.3226247132942424 * a^{1\\alpha}a_{1\\alpha}\n",
      "0\n",
      "0\n",
      "0\n",
      "0\n",
      "0\n",
      "0\n",
      "0\n",
      "0\n",
      "4.163336342344337e-17 * a^{1\\beta}a_{0\\beta}\n",
      "0\n",
      "0\n",
      "0\n",
      "0\n",
      "0\n",
      "0\n",
      "0\n",
      "0\n",
      "0.3226247132942424 * a^{1\\beta}a_{1\\beta}\n",
      "0\n",
      "0\n",
      "0\n",
      "0\n",
      "0\n",
      "0\n",
      "0\n",
      "0\n",
      "0\n",
      "0\n",
      "0\n",
      "0\n",
      "0\n",
      "0\n",
      "0\n",
      "0\n",
      "0\n",
      "0.3270047556780619 * a^{0\\alpha}a_{0\\alpha}\n",
      "0.3270047556780619 * a^{0\\beta}a_{0\\beta}\n",
      "0\n",
      "0\n",
      "0\n",
      "0\n",
      "0.3270047556780619\n",
      "0\n",
      "0\n",
      "0\n",
      "5.204170427930421e-17 * a^{0\\beta}a_{1\\beta}\n",
      "0\n",
      "0\n",
      "0\n",
      "0\n",
      "0\n",
      "0\n",
      "0\n",
      "4.163336342344337e-17 * a^{0\\alpha}a_{1\\alpha}\n",
      "0\n",
      "0\n",
      "0\n",
      "0\n",
      "0\n",
      "0\n",
      "0\n",
      "0\n",
      "0\n",
      "0\n",
      "0\n",
      "0\n",
      "0\n",
      "0\n",
      "0\n",
      "0\n",
      "0\n",
      "4.163336342344337e-17 * a^{1\\alpha}a_{0\\alpha}\n",
      "0\n",
      "0\n",
      "0\n",
      "0\n",
      "0\n",
      "0\n",
      "0\n",
      "0\n",
      "0.3226247132942424 * a^{1\\alpha}a_{1\\alpha}\n",
      "0\n",
      "0\n",
      "0\n",
      "0\n",
      "0\n",
      "0\n",
      "0\n",
      "0\n",
      "0\n",
      "0\n",
      "0\n",
      "0\n",
      "0\n",
      "0\n",
      "0\n",
      "0\n",
      "0\n",
      "0.3226247132942424 * a^{1\\beta}a_{1\\beta}\n",
      "0\n",
      "0\n",
      "0\n",
      "0\n",
      "0\n",
      "0\n",
      "0\n",
      "0\n",
      "0\n",
      "0.3226247132942422 * a^{1\\alpha}a_{1\\alpha}\n",
      "0\n",
      "0\n",
      "0\n",
      "0\n",
      "0\n",
      "0\n",
      "0\n",
      "0\n",
      "5.204170427930421e-17 * a^{1\\alpha}a_{0\\alpha}\n",
      "0\n",
      "0\n",
      "0\n",
      "0\n",
      "0\n",
      "0\n",
      "0\n",
      "0\n",
      "0.3226247132942422 * a^{1\\alpha}a_{1\\alpha}\n",
      "0\n",
      "0\n",
      "0\n",
      "0\n",
      "0\n",
      "0\n",
      "0\n",
      "0\n",
      "0\n",
      "0\n",
      "0\n",
      "0\n",
      "0\n",
      "0\n",
      "0\n",
      "0\n",
      "0\n",
      "0\n",
      "0\n",
      "0\n",
      "0\n",
      "0\n",
      "0\n",
      "0\n",
      "0\n",
      "0\n",
      "0\n",
      "0\n",
      "0\n",
      "0\n",
      "0\n",
      "0\n",
      "0\n",
      "0\n",
      "0\n",
      "0\n",
      "0\n",
      "0\n",
      "0\n",
      "0\n",
      "0\n",
      "0\n",
      "0\n",
      "0\n",
      "0\n",
      "0\n",
      "0\n",
      "0\n",
      "0\n",
      "0\n",
      "0\n",
      "0\n",
      "0\n",
      "5.204170427930421e-17 * a^{1\\beta}a_{0\\beta}\n",
      "0\n",
      "0\n",
      "0\n",
      "0\n",
      "0\n",
      "0\n",
      "0\n",
      "0\n",
      "0.3226247132942422 * a^{1\\beta}a_{1\\beta}\n",
      "0\n",
      "0\n",
      "0\n",
      "0\n",
      "0\n",
      "0\n",
      "0\n",
      "0\n",
      "0\n",
      "0\n",
      "0\n",
      "0\n",
      "0\n",
      "0\n",
      "0\n",
      "0\n",
      "0\n",
      "0.3226247132942422 * a^{1\\beta}a_{1\\beta}\n",
      "0\n",
      "0\n",
      "0\n",
      "0\n",
      "0\n",
      "0\n",
      "0\n",
      "0\n",
      "0\n",
      "0\n",
      "0\n",
      "0\n",
      "0\n",
      "0\n",
      "0\n",
      "0\n",
      "0\n",
      "0\n",
      "0\n",
      "0\n",
      "0\n",
      "0\n",
      "0\n",
      "0\n",
      "0\n",
      "0\n",
      "0\n",
      "0\n",
      "0\n",
      "0\n",
      "0\n",
      "0\n",
      "0\n",
      "0\n",
      "0\n",
      "0\n",
      "0\n",
      "0\n",
      "0\n",
      "0\n",
      "0\n"
     ]
    },
    {
     "output_type": "execute_result",
     "data": {
      "text/plain": [
       "0.6540095113561238"
      ]
     },
     "metadata": {},
     "execution_count": 528
    }
   ],
   "source": [
    "vacuumExpectationValue(hamiltonian2Body, [1,0])"
   ]
  },
  {
   "cell_type": "code",
   "execution_count": 529,
   "metadata": {},
   "outputs": [
    {
     "output_type": "execute_result",
     "data": {
      "text/plain": [
       "(-1.7256917258579134, 0.6540095113561237)"
      ]
     },
     "metadata": {},
     "execution_count": 529
    }
   ],
   "source": [
    "mf.energy_elec()"
   ]
  },
  {
   "cell_type": "code",
   "execution_count": 530,
   "metadata": {},
   "outputs": [],
   "source": [
    "hamiltonian = hamiltonian1Body + hamiltonian2Body"
   ]
  },
  {
   "cell_type": "code",
   "execution_count": 531,
   "metadata": {},
   "outputs": [
    {
     "output_type": "stream",
     "name": "stdout",
     "text": [
      "0\n",
      "0\n",
      "0\n",
      "0\n",
      "-1.1898506186070186\n",
      "0\n",
      "-1.1898506186070186\n",
      "0\n",
      "0\n",
      "0\n",
      "0\n",
      "0\n",
      "0\n",
      "0\n",
      "0\n",
      "0\n",
      "0\n",
      "0\n",
      "0\n",
      "0\n",
      "0\n",
      "0\n",
      "0\n",
      "0\n",
      "0\n",
      "0\n",
      "0\n",
      "0\n",
      "0\n",
      "0\n",
      "0\n",
      "0\n",
      "0\n",
      "0\n",
      "0\n",
      "0\n",
      "0\n",
      "0\n",
      "0\n",
      "0\n",
      "0\n",
      "0\n",
      "0\n",
      "0\n",
      "0\n",
      "0\n",
      "0\n",
      "0.3226247132942422 * a^{1\\alpha}a_{1\\alpha}\n",
      "0\n",
      "0\n",
      "0\n",
      "0\n",
      "0\n",
      "0\n",
      "0\n",
      "0\n",
      "5.204170427930421e-17 * a^{1\\alpha}a_{0\\alpha}\n",
      "0\n",
      "0\n",
      "0\n",
      "0\n",
      "0\n",
      "0\n",
      "0\n",
      "0\n",
      "0.3226247132942422 * a^{1\\alpha}a_{1\\alpha}\n",
      "0\n",
      "0\n",
      "0\n",
      "0\n",
      "0\n",
      "0\n",
      "0\n",
      "0\n",
      "0\n",
      "0\n",
      "0\n",
      "0\n",
      "0\n",
      "0\n",
      "0\n",
      "0\n",
      "0\n",
      "0\n",
      "0\n",
      "0\n",
      "0\n",
      "0\n",
      "0\n",
      "0\n",
      "0\n",
      "0\n",
      "0\n",
      "0\n",
      "0\n",
      "0\n",
      "0\n",
      "0\n",
      "0\n",
      "0\n",
      "0\n",
      "0\n",
      "0\n",
      "0\n",
      "0\n",
      "0\n",
      "0\n",
      "0\n",
      "0\n",
      "0\n",
      "0\n",
      "0\n",
      "0\n",
      "0\n",
      "0\n",
      "0\n",
      "0\n",
      "0\n",
      "0\n",
      "5.204170427930421e-17 * a^{1\\beta}a_{0\\beta}\n",
      "0\n",
      "0\n",
      "0\n",
      "0\n",
      "0\n",
      "0\n",
      "0\n",
      "0\n",
      "0.3226247132942422 * a^{1\\beta}a_{1\\beta}\n",
      "0\n",
      "0\n",
      "0\n",
      "0\n",
      "0\n",
      "0\n",
      "0\n",
      "0\n",
      "0\n",
      "0\n",
      "0\n",
      "0\n",
      "0\n",
      "0\n",
      "0\n",
      "0\n",
      "0\n",
      "0.3226247132942422 * a^{1\\beta}a_{1\\beta}\n",
      "0\n",
      "0\n",
      "0\n",
      "0\n",
      "0\n",
      "0\n",
      "0\n",
      "0.3226247132942424 * a^{1\\alpha}a_{1\\alpha}\n",
      "0\n",
      "0\n",
      "0\n",
      "0\n",
      "0\n",
      "0\n",
      "0\n",
      "0\n",
      "4.163336342344337e-17 * a^{1\\beta}a_{0\\beta}\n",
      "0\n",
      "0\n",
      "0\n",
      "0\n",
      "0\n",
      "0\n",
      "0\n",
      "0\n",
      "0.3226247132942424 * a^{1\\beta}a_{1\\beta}\n",
      "0\n",
      "0\n",
      "0\n",
      "0\n",
      "0\n",
      "0\n",
      "0\n",
      "0\n",
      "0\n",
      "0\n",
      "0\n",
      "0\n",
      "0\n",
      "0\n",
      "0\n",
      "0\n",
      "0\n",
      "0.3270047556780619 * a^{0\\beta}a_{0\\beta}\n",
      "0.3270047556780619 * a^{0\\alpha}a_{0\\alpha}\n",
      "0\n",
      "0\n",
      "0\n",
      "0\n",
      "0.3270047556780619\n",
      "0\n",
      "0\n",
      "0\n",
      "5.204170427930421e-17 * a^{0\\alpha}a_{1\\alpha}\n",
      "0\n",
      "0\n",
      "0\n",
      "0\n",
      "0\n",
      "0\n",
      "0\n",
      "4.163336342344337e-17 * a^{0\\beta}a_{1\\beta}\n",
      "0\n",
      "0\n",
      "0\n",
      "0\n",
      "0\n",
      "0\n",
      "0\n",
      "0\n",
      "0\n",
      "0\n",
      "0\n",
      "0\n",
      "0\n",
      "0\n",
      "0\n",
      "0\n",
      "0\n",
      "4.163336342344337e-17 * a^{1\\alpha}a_{0\\alpha}\n",
      "0\n",
      "0\n",
      "0\n",
      "0\n",
      "0\n",
      "0\n",
      "0\n",
      "0\n",
      "0.3226247132942424 * a^{1\\alpha}a_{1\\alpha}\n",
      "0\n",
      "0\n",
      "0\n",
      "0\n",
      "0\n",
      "0\n",
      "0\n",
      "0\n",
      "0\n",
      "0\n",
      "0\n",
      "0\n",
      "0\n",
      "0\n",
      "0\n",
      "0\n",
      "0\n",
      "0.3226247132942424 * a^{1\\beta}a_{1\\beta}\n",
      "0\n",
      "0\n",
      "0\n",
      "0\n",
      "0\n",
      "0\n",
      "0\n",
      "0\n",
      "0.3270047556780619 * a^{0\\alpha}a_{0\\alpha}\n",
      "0.3270047556780619 * a^{0\\beta}a_{0\\beta}\n",
      "0\n",
      "0\n",
      "0\n",
      "0\n",
      "0.3270047556780619\n",
      "0\n",
      "0\n",
      "0\n",
      "5.204170427930421e-17 * a^{0\\beta}a_{1\\beta}\n",
      "0\n",
      "0\n",
      "0\n",
      "0\n",
      "0\n",
      "0\n",
      "0\n",
      "4.163336342344337e-17 * a^{0\\alpha}a_{1\\alpha}\n",
      "0\n",
      "0\n",
      "0\n",
      "0\n",
      "0\n",
      "0\n",
      "0\n",
      "0\n",
      "0\n",
      "0\n",
      "0\n",
      "0\n",
      "0\n",
      "0\n",
      "0\n"
     ]
    },
    {
     "output_type": "execute_result",
     "data": {
      "text/plain": [
       "-1.7256917258579132"
      ]
     },
     "metadata": {},
     "execution_count": 531
    }
   ],
   "source": [
    "vacuumExpectationValue(hamiltonian, [1,0])"
   ]
  },
  {
   "cell_type": "code",
   "execution_count": 532,
   "metadata": {},
   "outputs": [],
   "source": [
    "singlesAmplitudes = np.ones((Nocc, Norbs - Nocc))"
   ]
  },
  {
   "cell_type": "code",
   "execution_count": 533,
   "metadata": {},
   "outputs": [],
   "source": [
    "doublesAmplitudes = np.ones((Nocc, Nocc, Norbs-Nocc, Norbs-Nocc))"
   ]
  },
  {
   "cell_type": "code",
   "execution_count": 534,
   "metadata": {},
   "outputs": [
    {
     "output_type": "execute_result",
     "data": {
      "text/plain": [
       "array([[[[1.]]]])"
      ]
     },
     "metadata": {},
     "execution_count": 534
    }
   ],
   "source": [
    "doublesAmplitudes"
   ]
  },
  {
   "cell_type": "code",
   "execution_count": 535,
   "metadata": {},
   "outputs": [],
   "source": [
    "newdoublesAmplitudes = deepcopy(doublesAmplitudes)\n",
    "newdoublesAmplitudes[0,0,0,0] = -0.136380375 *0.5 / 0.990656547\n"
   ]
  },
  {
   "cell_type": "code",
   "execution_count": 536,
   "metadata": {},
   "outputs": [],
   "source": [
    "clusterSingles = operatorSum([])\n",
    "for a in range(Nocc):\n",
    "    for k in range(Norbs - Nocc):\n",
    "        r = k + Nocc\n",
    "        clusterSingles = clusterSingles + singlesAmplitudes[a,k] * spinFreeSingleExcitation(r, a)"
   ]
  },
  {
   "cell_type": "code",
   "execution_count": 537,
   "metadata": {},
   "outputs": [],
   "source": [
    "clusterDoubles = operatorSum([])\n",
    "for a in range(Nocc):\n",
    "    for b in range(Nocc):\n",
    "        for k in range(Norbs - Nocc):\n",
    "            r = k + Nocc\n",
    "            for l in range(Norbs - Nocc):\n",
    "                s = l + Nocc\n",
    "                clusterDoubles = clusterDoubles + doublesAmplitudes[a,b,k,l] * spinFreeDoubleExcitation(r, s, a, b)\n",
    "clusterDoubles.checkNilpotency()"
   ]
  },
  {
   "cell_type": "code",
   "execution_count": 538,
   "metadata": {},
   "outputs": [],
   "source": [
    "newclusterDoubles = operatorSum([])\n",
    "for a in range(Nocc):\n",
    "    for b in range(Nocc):\n",
    "        for k in range(Norbs - Nocc):\n",
    "            r = k + Nocc\n",
    "            for l in range(Norbs - Nocc):\n",
    "                s = l + Nocc\n",
    "                newclusterDoubles = newclusterDoubles + newdoublesAmplitudes[a,b,k,l] * spinFreeDoubleExcitation(r, s, a, b)\n",
    "newclusterDoubles.checkNilpotency()"
   ]
  },
  {
   "cell_type": "code",
   "execution_count": 539,
   "metadata": {},
   "outputs": [
    {
     "output_type": "stream",
     "name": "stdout",
     "text": [
      "0.0\n + -0.06883332846938728 * a^{1\\alpha}a^{1\\beta}a_{0\\beta}a_{0\\alpha}\n + -0.06883332846938728 * a^{1\\beta}a^{1\\alpha}a_{0\\alpha}a_{0\\beta}\n + 0.0\n"
     ]
    }
   ],
   "source": [
    "print(newclusterDoubles)"
   ]
  },
  {
   "cell_type": "code",
   "execution_count": 540,
   "metadata": {},
   "outputs": [
    {
     "output_type": "stream",
     "name": "stdout",
     "text": [
      "0.0 * a^{1\\alpha}a_{0\\alpha}\n"
     ]
    }
   ],
   "source": [
    "print(clusterSingles.summandList[0] * clusterDoubles.summandList[0])\n"
   ]
  },
  {
   "cell_type": "code",
   "execution_count": 541,
   "metadata": {},
   "outputs": [
    {
     "output_type": "stream",
     "name": "stdout",
     "text": [
      "1.0 * a^{1\\alpha}a_{0\\alpha}\n + 1.0 * a^{1\\beta}a_{0\\beta}\n0.0\n + 1.0 * a^{1\\alpha}a^{1\\beta}a_{0\\beta}a_{0\\alpha}\n + 1.0 * a^{1\\beta}a^{1\\alpha}a_{0\\alpha}a_{0\\beta}\n + 0.0\n0.0\n + -4.7142356915405136e-17 * a^{1\\alpha}a_{0\\alpha}\n + -0.5337491016607854 * a^{1\\alpha}a_{1\\alpha}\n + -4.7142356915405136e-17 * a^{1\\beta}a_{0\\beta}\n + -0.5337491016607854 * a^{1\\beta}a_{1\\beta}\n + -1.1898506186070186 * a^{0\\alpha}a_{0\\alpha}\n + 2.600212552842601e-17 * a^{0\\alpha}a_{1\\alpha}\n + -1.1898506186070186 * a^{0\\beta}a_{0\\beta}\n + 2.600212552842601e-17 * a^{0\\beta}a_{1\\beta}\n + 0.09376099045135429 * a^{1\\alpha}a^{1\\beta}a_{0\\beta}a_{0\\alpha}\n + 6.938893903907228e-17 * a^{1\\alpha}a^{1\\beta}a_{0\\beta}a_{1\\alpha}\n + 2.7755575615628914e-17 * a^{1\\alpha}a^{1\\beta}a_{1\\beta}a_{0\\alpha}\n + 0.33906809184265285 * a^{1\\alpha}a^{1\\beta}a_{1\\beta}a_{1\\alpha}\n + 0.3226247132942422 * a^{1\\alpha}a^{0\\alpha}a_{0\\alpha}a_{1\\alpha}\n + 5.204170427930421e-17 * a^{1\\alpha}a^{0\\beta}a_{0\\beta}a_{0\\alpha}\n + 0.3226247132942422 * a^{1\\alpha}a^{0\\beta}a_{0\\beta}a_{1\\alpha}\n + 6.938893903907228e-17 * a^{1\\alpha}a^{0\\beta}a_{1\\beta}a_{1\\alpha}\n + 0.09376099045135429 * a^{1\\beta}a^{1\\alpha}a_{0\\alpha}a_{0\\beta}\n + 6.938893903907228e-17 * a^{1\\beta}a^{1\\alpha}a_{0\\alpha}a_{1\\beta}\n + 2.7755575615628914e-17 * a^{1\\beta}a^{1\\alpha}a_{1\\alpha}a_{0\\beta}\n + 0.33906809184265285 * a^{1\\beta}a^{1\\alpha}a_{1\\alpha}a_{1\\beta}\n + 5.204170427930421e-17 * a^{1\\beta}a^{0\\alpha}a_{0\\alpha}a_{0\\beta}\n + 0.3226247132942422 * a^{1\\beta}a^{0\\alpha}a_{0\\alpha}a_{1\\beta}\n + 6.938893903907228e-17 * a^{1\\beta}a^{0\\alpha}a_{1\\alpha}a_{1\\beta}\n + 0.3226247132942422 * a^{1\\beta}a^{0\\beta}a_{0\\beta}a_{1\\beta}\n + 0.3226247132942424 * a^{0\\alpha}a^{1\\alpha}a_{1\\alpha}a_{0\\alpha}\n + 4.163336342344337e-17 * a^{0\\alpha}a^{1\\beta}a_{0\\beta}a_{0\\alpha}\n + 0.3226247132942424 * a^{0\\alpha}a^{1\\beta}a_{1\\beta}a_{0\\alpha}\n + 2.7755575615628914e-17 * a^{0\\alpha}a^{1\\beta}a_{1\\beta}a_{1\\alpha}\n + 0.3270047556780619 * a^{0\\alpha}a^{0\\beta}a_{0\\beta}a_{0\\alpha}\n + 5.204170427930421e-17 * a^{0\\alpha}a^{0\\beta}a_{0\\beta}a_{1\\alpha}\n + 4.163336342344337e-17 * a^{0\\alpha}a^{0\\beta}a_{1\\beta}a_{0\\alpha}\n + 0.09376099045135429 * a^{0\\alpha}a^{0\\beta}a_{1\\beta}a_{1\\alpha}\n + 4.163336342344337e-17 * a^{0\\beta}a^{1\\alpha}a_{0\\alpha}a_{0\\beta}\n + 0.3226247132942424 * a^{0\\beta}a^{1\\alpha}a_{1\\alpha}a_{0\\beta}\n + 2.7755575615628914e-17 * a^{0\\beta}a^{1\\alpha}a_{1\\alpha}a_{1\\beta}\n + 0.3226247132942424 * a^{0\\beta}a^{1\\beta}a_{1\\beta}a_{0\\beta}\n + 0.3270047556780619 * a^{0\\beta}a^{0\\alpha}a_{0\\alpha}a_{0\\beta}\n + 5.204170427930421e-17 * a^{0\\beta}a^{0\\alpha}a_{0\\alpha}a_{1\\beta}\n + 4.163336342344337e-17 * a^{0\\beta}a^{0\\alpha}a_{1\\alpha}a_{0\\beta}\n + 0.09376099045135429 * a^{0\\beta}a^{0\\alpha}a_{1\\alpha}a_{1\\beta}\n"
     ]
    }
   ],
   "source": [
    "print(clusterSingles)\n",
    "print(clusterDoubles)\n",
    "print(hamiltonian)"
   ]
  },
  {
   "cell_type": "code",
   "execution_count": 542,
   "metadata": {},
   "outputs": [
    {
     "output_type": "stream",
     "name": "stdout",
     "text": [
      "0.0\n + -4.7142356915405136e-17 * a^{1\\alpha}a_{0\\alpha}\n + -0.5337491016607854 * a^{1\\alpha}a_{1\\alpha}\n + -4.7142356915405136e-17 * a^{1\\beta}a_{0\\beta}\n + -0.5337491016607854 * a^{1\\beta}a_{1\\beta}\n + -1.1898506186070186 * a^{0\\alpha}a_{0\\alpha}\n + 2.600212552842601e-17 * a^{0\\alpha}a_{1\\alpha}\n + -1.1898506186070186 * a^{0\\beta}a_{0\\beta}\n + 2.600212552842601e-17 * a^{0\\beta}a_{1\\beta}\n + 0.09376099045135429 * a^{1\\alpha}a^{1\\beta}a_{0\\beta}a_{0\\alpha}\n + 6.938893903907228e-17 * a^{1\\alpha}a^{1\\beta}a_{0\\beta}a_{1\\alpha}\n + 2.7755575615628914e-17 * a^{1\\alpha}a^{1\\beta}a_{1\\beta}a_{0\\alpha}\n + 0.33906809184265285 * a^{1\\alpha}a^{1\\beta}a_{1\\beta}a_{1\\alpha}\n + 0.3226247132942422 * a^{1\\alpha}a^{0\\alpha}a_{0\\alpha}a_{1\\alpha}\n + 5.204170427930421e-17 * a^{1\\alpha}a^{0\\beta}a_{0\\beta}a_{0\\alpha}\n + 0.3226247132942422 * a^{1\\alpha}a^{0\\beta}a_{0\\beta}a_{1\\alpha}\n + 6.938893903907228e-17 * a^{1\\alpha}a^{0\\beta}a_{1\\beta}a_{1\\alpha}\n + 0.09376099045135429 * a^{1\\beta}a^{1\\alpha}a_{0\\alpha}a_{0\\beta}\n + 6.938893903907228e-17 * a^{1\\beta}a^{1\\alpha}a_{0\\alpha}a_{1\\beta}\n + 2.7755575615628914e-17 * a^{1\\beta}a^{1\\alpha}a_{1\\alpha}a_{0\\beta}\n + 0.33906809184265285 * a^{1\\beta}a^{1\\alpha}a_{1\\alpha}a_{1\\beta}\n + 5.204170427930421e-17 * a^{1\\beta}a^{0\\alpha}a_{0\\alpha}a_{0\\beta}\n + 0.3226247132942422 * a^{1\\beta}a^{0\\alpha}a_{0\\alpha}a_{1\\beta}\n + 6.938893903907228e-17 * a^{1\\beta}a^{0\\alpha}a_{1\\alpha}a_{1\\beta}\n + 0.3226247132942422 * a^{1\\beta}a^{0\\beta}a_{0\\beta}a_{1\\beta}\n + 0.3226247132942424 * a^{0\\alpha}a^{1\\alpha}a_{1\\alpha}a_{0\\alpha}\n + 4.163336342344337e-17 * a^{0\\alpha}a^{1\\beta}a_{0\\beta}a_{0\\alpha}\n + 0.3226247132942424 * a^{0\\alpha}a^{1\\beta}a_{1\\beta}a_{0\\alpha}\n + 2.7755575615628914e-17 * a^{0\\alpha}a^{1\\beta}a_{1\\beta}a_{1\\alpha}\n + 0.3270047556780619 * a^{0\\alpha}a^{0\\beta}a_{0\\beta}a_{0\\alpha}\n + 5.204170427930421e-17 * a^{0\\alpha}a^{0\\beta}a_{0\\beta}a_{1\\alpha}\n + 4.163336342344337e-17 * a^{0\\alpha}a^{0\\beta}a_{1\\beta}a_{0\\alpha}\n + 0.09376099045135429 * a^{0\\alpha}a^{0\\beta}a_{1\\beta}a_{1\\alpha}\n + 4.163336342344337e-17 * a^{0\\beta}a^{1\\alpha}a_{0\\alpha}a_{0\\beta}\n + 0.3226247132942424 * a^{0\\beta}a^{1\\alpha}a_{1\\alpha}a_{0\\beta}\n + 2.7755575615628914e-17 * a^{0\\beta}a^{1\\alpha}a_{1\\alpha}a_{1\\beta}\n + 0.3226247132942424 * a^{0\\beta}a^{1\\beta}a_{1\\beta}a_{0\\beta}\n + 0.3270047556780619 * a^{0\\beta}a^{0\\alpha}a_{0\\alpha}a_{0\\beta}\n + 5.204170427930421e-17 * a^{0\\beta}a^{0\\alpha}a_{0\\alpha}a_{1\\beta}\n + 4.163336342344337e-17 * a^{0\\beta}a^{0\\alpha}a_{1\\alpha}a_{0\\beta}\n + 0.09376099045135429 * a^{0\\beta}a^{0\\alpha}a_{1\\alpha}a_{1\\beta}\n"
     ]
    }
   ],
   "source": [
    "hamiltonian.checkNilpotency()\n",
    "print(hamiltonian)"
   ]
  },
  {
   "cell_type": "code",
   "execution_count": 543,
   "metadata": {},
   "outputs": [
    {
     "output_type": "stream",
     "name": "stdout",
     "text": [
      "0.0\n + 0.0 * a^{1\\alpha}a_{0\\alpha}\n + 0.0 * a^{1\\beta}a_{0\\beta}\n + 0.0 * a^{1\\alpha}a_{0\\alpha}a^{1\\beta}a_{0\\beta}\n + 0.0 * a^{1\\beta}a_{0\\beta}a^{1\\alpha}a_{0\\alpha}\n + -0.5337491016607854 * a^{1\\alpha}a_{0\\alpha}a^{1\\beta}a_{1\\beta}a^{1\\beta}a_{0\\beta}\n + -1.1898506186070186 * a^{1\\alpha}a_{0\\alpha}a^{0\\alpha}a_{0\\alpha}a^{1\\beta}a_{0\\beta}\n + 2.600212552842601e-17 * a^{1\\alpha}a_{0\\alpha}a^{0\\alpha}a_{1\\alpha}a^{1\\alpha}a_{0\\alpha}\n + 2.600212552842601e-17 * a^{1\\alpha}a_{0\\alpha}a^{0\\alpha}a_{1\\alpha}a^{1\\beta}a_{0\\beta}\n + 2.600212552842601e-17 * a^{1\\alpha}a_{0\\alpha}a^{0\\beta}a_{1\\beta}a^{1\\beta}a_{0\\beta}\n + -0.5337491016607854 * a^{1\\beta}a_{0\\beta}a^{1\\alpha}a_{1\\alpha}a^{1\\alpha}a_{0\\alpha}\n + 2.600212552842601e-17 * a^{1\\beta}a_{0\\beta}a^{0\\alpha}a_{1\\alpha}a^{1\\alpha}a_{0\\alpha}\n + -1.1898506186070186 * a^{1\\beta}a_{0\\beta}a^{0\\beta}a_{0\\beta}a^{1\\alpha}a_{0\\alpha}\n + 2.600212552842601e-17 * a^{1\\beta}a_{0\\beta}a^{0\\beta}a_{1\\beta}a^{1\\alpha}a_{0\\alpha}\n + 2.600212552842601e-17 * a^{1\\beta}a_{0\\beta}a^{0\\beta}a_{1\\beta}a^{1\\beta}a_{0\\beta}\n + 0.3226247132942422 * a^{1\\alpha}a_{0\\alpha}a^{1\\beta}a^{0\\alpha}a_{0\\alpha}a_{1\\beta}a^{1\\beta}a_{0\\beta}\n + 6.938893903907228e-17 * a^{1\\alpha}a_{0\\alpha}a^{1\\beta}a^{0\\alpha}a_{1\\alpha}a_{1\\beta}a^{1\\alpha}a_{0\\alpha}\n + 6.938893903907228e-17 * a^{1\\alpha}a_{0\\alpha}a^{1\\beta}a^{0\\alpha}a_{1\\alpha}a_{1\\beta}a^{1\\beta}a_{0\\beta}\n + 0.3226247132942424 * a^{1\\alpha}a_{0\\alpha}a^{0\\alpha}a^{1\\beta}a_{1\\beta}a_{0\\alpha}a^{1\\beta}a_{0\\beta}\n + 2.7755575615628914e-17 * a^{1\\alpha}a_{0\\alpha}a^{0\\alpha}a^{1\\beta}a_{1\\beta}a_{1\\alpha}a^{1\\alpha}a_{0\\alpha}\n + 2.7755575615628914e-17 * a^{1\\alpha}a_{0\\alpha}a^{0\\alpha}a^{1\\beta}a_{1\\beta}a_{1\\alpha}a^{1\\beta}a_{0\\beta}\n + 5.204170427930421e-17 * a^{1\\alpha}a_{0\\alpha}a^{0\\alpha}a^{0\\beta}a_{0\\beta}a_{1\\alpha}a^{1\\alpha}a_{0\\alpha}\n + 4.163336342344337e-17 * a^{1\\alpha}a_{0\\alpha}a^{0\\alpha}a^{0\\beta}a_{1\\beta}a_{0\\alpha}a^{1\\beta}a_{0\\beta}\n + 0.09376099045135429 * a^{1\\alpha}a_{0\\alpha}a^{0\\alpha}a^{0\\beta}a_{1\\beta}a_{1\\alpha}a^{1\\alpha}a_{0\\alpha}\n + 0.09376099045135429 * a^{1\\alpha}a_{0\\alpha}a^{0\\alpha}a^{0\\beta}a_{1\\beta}a_{1\\alpha}a^{1\\beta}a_{0\\beta}\n + 5.204170427930421e-17 * a^{1\\alpha}a_{0\\alpha}a^{0\\beta}a^{0\\alpha}a_{0\\alpha}a_{1\\beta}a^{1\\beta}a_{0\\beta}\n + 4.163336342344337e-17 * a^{1\\alpha}a_{0\\alpha}a^{0\\beta}a^{0\\alpha}a_{1\\alpha}a_{0\\beta}a^{1\\alpha}a_{0\\alpha}\n + 0.09376099045135429 * a^{1\\alpha}a_{0\\alpha}a^{0\\beta}a^{0\\alpha}a_{1\\alpha}a_{1\\beta}a^{1\\alpha}a_{0\\alpha}\n + 0.09376099045135429 * a^{1\\alpha}a_{0\\alpha}a^{0\\beta}a^{0\\alpha}a_{1\\alpha}a_{1\\beta}a^{1\\beta}a_{0\\beta}\n + 0.3226247132942422 * a^{1\\beta}a_{0\\beta}a^{1\\alpha}a^{0\\beta}a_{0\\beta}a_{1\\alpha}a^{1\\alpha}a_{0\\alpha}\n + 6.938893903907228e-17 * a^{1\\beta}a_{0\\beta}a^{1\\alpha}a^{0\\beta}a_{1\\beta}a_{1\\alpha}a^{1\\alpha}a_{0\\alpha}\n + 6.938893903907228e-17 * a^{1\\beta}a_{0\\beta}a^{1\\alpha}a^{0\\beta}a_{1\\beta}a_{1\\alpha}a^{1\\beta}a_{0\\beta}\n + 5.204170427930421e-17 * a^{1\\beta}a_{0\\beta}a^{0\\alpha}a^{0\\beta}a_{0\\beta}a_{1\\alpha}a^{1\\alpha}a_{0\\alpha}\n + 4.163336342344337e-17 * a^{1\\beta}a_{0\\beta}a^{0\\alpha}a^{0\\beta}a_{1\\beta}a_{0\\alpha}a^{1\\beta}a_{0\\beta}\n + 0.09376099045135429 * a^{1\\beta}a_{0\\beta}a^{0\\alpha}a^{0\\beta}a_{1\\beta}a_{1\\alpha}a^{1\\alpha}a_{0\\alpha}\n + 0.09376099045135429 * a^{1\\beta}a_{0\\beta}a^{0\\alpha}a^{0\\beta}a_{1\\beta}a_{1\\alpha}a^{1\\beta}a_{0\\beta}\n + 0.3226247132942424 * a^{1\\beta}a_{0\\beta}a^{0\\beta}a^{1\\alpha}a_{1\\alpha}a_{0\\beta}a^{1\\alpha}a_{0\\alpha}\n + 2.7755575615628914e-17 * a^{1\\beta}a_{0\\beta}a^{0\\beta}a^{1\\alpha}a_{1\\alpha}a_{1\\beta}a^{1\\alpha}a_{0\\alpha}\n + 2.7755575615628914e-17 * a^{1\\beta}a_{0\\beta}a^{0\\beta}a^{1\\alpha}a_{1\\alpha}a_{1\\beta}a^{1\\beta}a_{0\\beta}\n + 5.204170427930421e-17 * a^{1\\beta}a_{0\\beta}a^{0\\beta}a^{0\\alpha}a_{0\\alpha}a_{1\\beta}a^{1\\beta}a_{0\\beta}\n + 4.163336342344337e-17 * a^{1\\beta}a_{0\\beta}a^{0\\beta}a^{0\\alpha}a_{1\\alpha}a_{0\\beta}a^{1\\alpha}a_{0\\alpha}\n + 0.09376099045135429 * a^{1\\beta}a_{0\\beta}a^{0\\beta}a^{0\\alpha}a_{1\\alpha}a_{1\\beta}a^{1\\alpha}a_{0\\alpha}\n + 0.09376099045135429 * a^{1\\beta}a_{0\\beta}a^{0\\beta}a^{0\\alpha}a_{1\\alpha}a_{1\\beta}a^{1\\beta}a_{0\\beta}\n"
     ]
    }
   ],
   "source": [
    "print(clusterSingles * hamiltonian * clusterSingles)"
   ]
  },
  {
   "cell_type": "code",
   "execution_count": 544,
   "metadata": {},
   "outputs": [],
   "source": [
    "def exponentialOperator(operator, maxOrder):\n",
    "    exponential = operatorSum([operatorProduct([], 1.)])\n",
    "    for k in range(maxOrder):\n",
    "        exponential += (1 / factorial(k + 1)) * pow(operator, k + 1)\n",
    "    return exponential"
   ]
  },
  {
   "cell_type": "code",
   "execution_count": 545,
   "metadata": {},
   "outputs": [
    {
     "output_type": "stream",
     "name": "stdout",
     "text": [
      "1.0\n + 1.0 * a^{1\\alpha}a^{1\\beta}a_{0\\beta}a_{0\\alpha}\n + 1.0 * a^{1\\beta}a^{1\\alpha}a_{0\\alpha}a_{0\\beta}\n"
     ]
    }
   ],
   "source": [
    "print(exponentialOperator(clusterDoubles, 3))"
   ]
  },
  {
   "cell_type": "code",
   "execution_count": 546,
   "metadata": {},
   "outputs": [],
   "source": [
    "def commutator(operator1, operator2):\n",
    "    return operator1 * operator2 + (-1) * operator2 * operator1"
   ]
  },
  {
   "cell_type": "code",
   "execution_count": 547,
   "metadata": {},
   "outputs": [
    {
     "output_type": "stream",
     "name": "stdout",
     "text": [
      "0.0\n + 0.0 * a^{1\\alpha}a_{0\\alpha}a^{1\\beta}a_{0\\beta}\n + 0.0 * a^{1\\beta}a_{0\\beta}a^{1\\alpha}a_{0\\alpha}\n"
     ]
    }
   ],
   "source": [
    "print(commutator(clusterSingles, clusterSingles))"
   ]
  },
  {
   "cell_type": "code",
   "execution_count": 548,
   "metadata": {},
   "outputs": [],
   "source": [
    "def BCHSimilarityTransform(H, T, order):\n",
    "    result = H\n",
    "    for k in range(order):\n",
    "        nestedCommutator = H\n",
    "        for i in range(k + 1):\n",
    "            nestedCommutator = commutator(nestedCommutator, T)\n",
    "        result += (1 / factorial(k + 1)) * nestedCommutator\n",
    "    result.checkNilpotency()\n",
    "    return result"
   ]
  },
  {
   "cell_type": "code",
   "execution_count": 549,
   "metadata": {},
   "outputs": [
    {
     "output_type": "stream",
     "name": "stdout",
     "text": [
      "-1.1898506186070186 * a^{0\\alpha}a_{0\\alpha}\n",
      " + 2.600212552842601e-17 * a^{0\\alpha}a_{1\\alpha}\n",
      " + -1.1898506186070186 * a^{0\\beta}a_{0\\beta}\n",
      " + 2.600212552842601e-17 * a^{0\\beta}a_{1\\beta}\n",
      " + -4.7142356915405136e-17 * a^{1\\alpha}a_{0\\alpha}\n",
      " + -0.5337491016607854 * a^{1\\alpha}a_{1\\alpha}\n",
      " + -4.7142356915405136e-17 * a^{1\\beta}a_{0\\beta}\n",
      " + -0.5337491016607854 * a^{1\\beta}a_{1\\beta}\n",
      "1.0 * a^{1\\alpha}a_{0\\alpha}\n",
      " + 1.0 * a^{1\\beta}a_{0\\beta}\n",
      "0.0\n",
      " + -4.7142356915405136e-17 * a^{1\\alpha}a_{0\\alpha}\n",
      " + 0.0 * a^{1\\alpha}a_{0\\alpha}\n",
      " + -0.5337491016607854 * a^{1\\alpha}a_{1\\alpha}\n",
      " + -4.7142356915405136e-17 * a^{1\\beta}a_{0\\beta}\n",
      " + 0.0 * a^{1\\beta}a_{0\\beta}\n",
      " + -0.5337491016607854 * a^{1\\beta}a_{1\\beta}\n",
      " + -1.1898506186070186 * a^{0\\alpha}a_{0\\alpha}\n",
      " + 2.600212552842601e-17 * a^{0\\alpha}a_{1\\alpha}\n",
      " + -1.1898506186070186 * a^{0\\beta}a_{0\\beta}\n",
      " + 2.600212552842601e-17 * a^{0\\beta}a_{1\\beta}\n",
      " + -4.7142356915405136e-17 * a^{1\\alpha}a_{0\\alpha}a^{1\\beta}a_{0\\beta}\n",
      " + 4.7142356915405136e-17 * a^{1\\alpha}a_{0\\alpha}a^{1\\beta}a_{0\\beta}\n",
      " + 0.0 * a^{1\\alpha}a_{0\\alpha}a^{1\\beta}a_{0\\beta}\n",
      " + 0.5337491016607854 * a^{1\\alpha}a_{0\\alpha}a^{1\\beta}a_{1\\beta}\n",
      " + 1.1898506186070186 * a^{1\\alpha}a_{0\\alpha}a^{0\\alpha}a_{0\\alpha}\n",
      " + -2.600212552842601e-17 * a^{1\\alpha}a_{0\\alpha}a^{0\\alpha}a_{1\\alpha}\n",
      " + 1.1898506186070186 * a^{1\\alpha}a_{0\\alpha}a^{0\\beta}a_{0\\beta}\n",
      " + -2.600212552842601e-17 * a^{1\\alpha}a_{0\\alpha}a^{0\\beta}a_{1\\beta}\n",
      " + -0.5337491016607854 * a^{1\\alpha}a_{1\\alpha}a^{1\\alpha}a_{0\\alpha}\n",
      " + -0.5337491016607854 * a^{1\\alpha}a_{1\\alpha}a^{1\\beta}a_{0\\beta}\n",
      " + -4.7142356915405136e-17 * a^{1\\beta}a_{0\\beta}a^{1\\alpha}a_{0\\alpha}\n",
      " + 4.7142356915405136e-17 * a^{1\\beta}a_{0\\beta}a^{1\\alpha}a_{0\\alpha}\n",
      " + 0.0 * a^{1\\beta}a_{0\\beta}a^{1\\alpha}a_{0\\alpha}\n",
      " + 0.5337491016607854 * a^{1\\beta}a_{0\\beta}a^{1\\alpha}a_{1\\alpha}\n",
      " + 1.1898506186070186 * a^{1\\beta}a_{0\\beta}a^{0\\alpha}a_{0\\alpha}\n",
      " + -2.600212552842601e-17 * a^{1\\beta}a_{0\\beta}a^{0\\alpha}a_{1\\alpha}\n",
      " + 1.1898506186070186 * a^{1\\beta}a_{0\\beta}a^{0\\beta}a_{0\\beta}\n",
      " + -2.600212552842601e-17 * a^{1\\beta}a_{0\\beta}a^{0\\beta}a_{1\\beta}\n",
      " + -0.5337491016607854 * a^{1\\beta}a_{1\\beta}a^{1\\alpha}a_{0\\alpha}\n",
      " + -0.5337491016607854 * a^{1\\beta}a_{1\\beta}a^{1\\beta}a_{0\\beta}\n",
      " + -1.1898506186070186 * a^{0\\alpha}a_{0\\alpha}a^{1\\beta}a_{0\\beta}\n",
      " + 2.600212552842601e-17 * a^{0\\alpha}a_{1\\alpha}a^{1\\alpha}a_{0\\alpha}\n",
      " + 2.600212552842601e-17 * a^{0\\alpha}a_{1\\alpha}a^{1\\beta}a_{0\\beta}\n",
      " + -1.1898506186070186 * a^{0\\beta}a_{0\\beta}a^{1\\alpha}a_{0\\alpha}\n",
      " + 2.600212552842601e-17 * a^{0\\beta}a_{1\\beta}a^{1\\alpha}a_{0\\alpha}\n",
      " + 2.600212552842601e-17 * a^{0\\beta}a_{1\\beta}a^{1\\beta}a_{0\\beta}\n",
      " + -0.5949253093035093 * a^{1\\alpha}a_{0\\alpha}a^{1\\beta}a_{0\\beta}a^{0\\alpha}a_{0\\alpha}\n",
      " + 1.3001062764213006e-17 * a^{1\\alpha}a_{0\\alpha}a^{1\\beta}a_{0\\beta}a^{0\\alpha}a_{1\\alpha}\n",
      " + -0.5949253093035093 * a^{1\\alpha}a_{0\\alpha}a^{1\\beta}a_{0\\beta}a^{0\\beta}a_{0\\beta}\n",
      " + 1.3001062764213006e-17 * a^{1\\alpha}a_{0\\alpha}a^{1\\beta}a_{0\\beta}a^{0\\beta}a_{1\\beta}\n",
      " + 0.5337491016607854 * a^{1\\alpha}a_{0\\alpha}a^{1\\beta}a_{1\\beta}a^{1\\beta}a_{0\\beta}\n",
      " + 1.1898506186070186 * a^{1\\alpha}a_{0\\alpha}a^{0\\alpha}a_{0\\alpha}a^{1\\beta}a_{0\\beta}\n",
      " + -2.600212552842601e-17 * a^{1\\alpha}a_{0\\alpha}a^{0\\alpha}a_{1\\alpha}a^{1\\alpha}a_{0\\alpha}\n",
      " + -2.600212552842601e-17 * a^{1\\alpha}a_{0\\alpha}a^{0\\alpha}a_{1\\alpha}a^{1\\beta}a_{0\\beta}\n",
      " + -2.600212552842601e-17 * a^{1\\alpha}a_{0\\alpha}a^{0\\beta}a_{1\\beta}a^{1\\beta}a_{0\\beta}\n",
      " + -0.2668745508303927 * a^{1\\alpha}a_{1\\alpha}a^{1\\alpha}a_{0\\alpha}a^{1\\beta}a_{0\\beta}\n",
      " + -0.2668745508303927 * a^{1\\alpha}a_{1\\alpha}a^{1\\beta}a_{0\\beta}a^{1\\alpha}a_{0\\alpha}\n",
      " + -0.5949253093035093 * a^{1\\beta}a_{0\\beta}a^{1\\alpha}a_{0\\alpha}a^{0\\alpha}a_{0\\alpha}\n",
      " + 1.3001062764213006e-17 * a^{1\\beta}a_{0\\beta}a^{1\\alpha}a_{0\\alpha}a^{0\\alpha}a_{1\\alpha}\n",
      " + -0.5949253093035093 * a^{1\\beta}a_{0\\beta}a^{1\\alpha}a_{0\\alpha}a^{0\\beta}a_{0\\beta}\n",
      " + 1.3001062764213006e-17 * a^{1\\beta}a_{0\\beta}a^{1\\alpha}a_{0\\alpha}a^{0\\beta}a_{1\\beta}\n",
      " + 0.5337491016607854 * a^{1\\beta}a_{0\\beta}a^{1\\alpha}a_{1\\alpha}a^{1\\alpha}a_{0\\alpha}\n",
      " + -2.600212552842601e-17 * a^{1\\beta}a_{0\\beta}a^{0\\alpha}a_{1\\alpha}a^{1\\alpha}a_{0\\alpha}\n",
      " + 1.1898506186070186 * a^{1\\beta}a_{0\\beta}a^{0\\beta}a_{0\\beta}a^{1\\alpha}a_{0\\alpha}\n",
      " + -2.600212552842601e-17 * a^{1\\beta}a_{0\\beta}a^{0\\beta}a_{1\\beta}a^{1\\alpha}a_{0\\alpha}\n",
      " + -2.600212552842601e-17 * a^{1\\beta}a_{0\\beta}a^{0\\beta}a_{1\\beta}a^{1\\beta}a_{0\\beta}\n",
      " + -0.2668745508303927 * a^{1\\beta}a_{1\\beta}a^{1\\alpha}a_{0\\alpha}a^{1\\beta}a_{0\\beta}\n",
      " + -0.2668745508303927 * a^{1\\beta}a_{1\\beta}a^{1\\beta}a_{0\\beta}a^{1\\alpha}a_{0\\alpha}\n",
      " + 1.3001062764213006e-17 * a^{0\\alpha}a_{1\\alpha}a^{1\\alpha}a_{0\\alpha}a^{1\\beta}a_{0\\beta}\n",
      " + 1.3001062764213006e-17 * a^{0\\alpha}a_{1\\alpha}a^{1\\beta}a_{0\\beta}a^{1\\alpha}a_{0\\alpha}\n",
      " + 1.3001062764213006e-17 * a^{0\\beta}a_{1\\beta}a^{1\\alpha}a_{0\\alpha}a^{1\\beta}a_{0\\beta}\n",
      " + 1.3001062764213006e-17 * a^{0\\beta}a_{1\\beta}a^{1\\beta}a_{0\\beta}a^{1\\alpha}a_{0\\alpha}\n",
      " + 1.3001062764213006e-17 * a^{1\\alpha}a_{0\\alpha}a^{1\\beta}a_{0\\beta}a^{0\\alpha}a_{1\\alpha}a^{1\\alpha}a_{0\\alpha}\n",
      " + 1.3001062764213006e-17 * a^{1\\alpha}a_{0\\alpha}a^{1\\beta}a_{0\\beta}a^{0\\beta}a_{1\\beta}a^{1\\beta}a_{0\\beta}\n",
      " + -1.3001062764213006e-17 * a^{1\\alpha}a_{0\\alpha}a^{0\\alpha}a_{1\\alpha}a^{1\\alpha}a_{0\\alpha}a^{1\\beta}a_{0\\beta}\n",
      " + -1.3001062764213006e-17 * a^{1\\alpha}a_{0\\alpha}a^{0\\alpha}a_{1\\alpha}a^{1\\beta}a_{0\\beta}a^{1\\alpha}a_{0\\alpha}\n",
      " + 1.3001062764213006e-17 * a^{1\\beta}a_{0\\beta}a^{1\\alpha}a_{0\\alpha}a^{0\\alpha}a_{1\\alpha}a^{1\\alpha}a_{0\\alpha}\n",
      " + 1.3001062764213006e-17 * a^{1\\beta}a_{0\\beta}a^{1\\alpha}a_{0\\alpha}a^{0\\beta}a_{1\\beta}a^{1\\beta}a_{0\\beta}\n",
      " + -1.3001062764213006e-17 * a^{1\\beta}a_{0\\beta}a^{0\\beta}a_{1\\beta}a^{1\\alpha}a_{0\\alpha}a^{1\\beta}a_{0\\beta}\n",
      " + -1.3001062764213006e-17 * a^{1\\beta}a_{0\\beta}a^{0\\beta}a_{1\\beta}a^{1\\beta}a_{0\\beta}a^{1\\alpha}a_{0\\alpha}\n",
      "0.0\n",
      " + -4.7142356915405136e-17 * a^{1\\alpha}a_{0\\alpha}\n",
      " + -0.0 * a^{1\\alpha}a_{0\\alpha}\n",
      " + -0.5337491016607854 * a^{1\\alpha}a_{1\\alpha}\n",
      " + -4.7142356915405136e-17 * a^{1\\beta}a_{0\\beta}\n",
      " + -0.0 * a^{1\\beta}a_{0\\beta}\n",
      " + -0.5337491016607854 * a^{1\\beta}a_{1\\beta}\n",
      " + -1.1898506186070186 * a^{0\\alpha}a_{0\\alpha}\n",
      " + 2.600212552842601e-17 * a^{0\\alpha}a_{1\\alpha}\n",
      " + -1.1898506186070186 * a^{0\\beta}a_{0\\beta}\n",
      " + 2.600212552842601e-17 * a^{0\\beta}a_{1\\beta}\n",
      " + -4.7142356915405136e-17 * a^{1\\alpha}a_{0\\alpha}a^{1\\beta}a_{0\\beta}\n",
      " + 4.7142356915405136e-17 * a^{1\\alpha}a_{0\\alpha}a^{1\\beta}a_{0\\beta}\n",
      " + 0.0 * a^{1\\alpha}a_{0\\alpha}a^{1\\beta}a_{0\\beta}\n",
      " + 0.5337491016607854 * a^{1\\alpha}a_{0\\alpha}a^{1\\beta}a_{1\\beta}\n",
      " + 1.1898506186070186 * a^{1\\alpha}a_{0\\alpha}a^{0\\alpha}a_{0\\alpha}\n",
      " + -2.600212552842601e-17 * a^{1\\alpha}a_{0\\alpha}a^{0\\alpha}a_{1\\alpha}\n",
      " + 1.1898506186070186 * a^{1\\alpha}a_{0\\alpha}a^{0\\beta}a_{0\\beta}\n",
      " + -2.600212552842601e-17 * a^{1\\alpha}a_{0\\alpha}a^{0\\beta}a_{1\\beta}\n",
      " + -0.5337491016607854 * a^{1\\alpha}a_{1\\alpha}a^{1\\alpha}a_{0\\alpha}\n",
      " + -0.5337491016607854 * a^{1\\alpha}a_{1\\alpha}a^{1\\beta}a_{0\\beta}\n",
      " + -4.7142356915405136e-17 * a^{1\\beta}a_{0\\beta}a^{1\\alpha}a_{0\\alpha}\n",
      " + 4.7142356915405136e-17 * a^{1\\beta}a_{0\\beta}a^{1\\alpha}a_{0\\alpha}\n",
      " + 0.0 * a^{1\\beta}a_{0\\beta}a^{1\\alpha}a_{0\\alpha}\n",
      " + 0.5337491016607854 * a^{1\\beta}a_{0\\beta}a^{1\\alpha}a_{1\\alpha}\n",
      " + 1.1898506186070186 * a^{1\\beta}a_{0\\beta}a^{0\\alpha}a_{0\\alpha}\n",
      " + -2.600212552842601e-17 * a^{1\\beta}a_{0\\beta}a^{0\\alpha}a_{1\\alpha}\n",
      " + 1.1898506186070186 * a^{1\\beta}a_{0\\beta}a^{0\\beta}a_{0\\beta}\n",
      " + -2.600212552842601e-17 * a^{1\\beta}a_{0\\beta}a^{0\\beta}a_{1\\beta}\n",
      " + -0.5337491016607854 * a^{1\\beta}a_{1\\beta}a^{1\\alpha}a_{0\\alpha}\n",
      " + -0.5337491016607854 * a^{1\\beta}a_{1\\beta}a^{1\\beta}a_{0\\beta}\n",
      " + -1.1898506186070186 * a^{0\\alpha}a_{0\\alpha}a^{1\\beta}a_{0\\beta}\n",
      " + 2.600212552842601e-17 * a^{0\\alpha}a_{1\\alpha}a^{1\\alpha}a_{0\\alpha}\n",
      " + 2.600212552842601e-17 * a^{0\\alpha}a_{1\\alpha}a^{1\\beta}a_{0\\beta}\n",
      " + -1.1898506186070186 * a^{0\\beta}a_{0\\beta}a^{1\\alpha}a_{0\\alpha}\n",
      " + 2.600212552842601e-17 * a^{0\\beta}a_{1\\beta}a^{1\\alpha}a_{0\\alpha}\n",
      " + 2.600212552842601e-17 * a^{0\\beta}a_{1\\beta}a^{1\\beta}a_{0\\beta}\n",
      " + -0.5949253093035093 * a^{1\\alpha}a_{0\\alpha}a^{1\\beta}a_{0\\beta}a^{0\\alpha}a_{0\\alpha}\n",
      " + 1.3001062764213006e-17 * a^{1\\alpha}a_{0\\alpha}a^{1\\beta}a_{0\\beta}a^{0\\alpha}a_{1\\alpha}\n",
      " + -0.5949253093035093 * a^{1\\alpha}a_{0\\alpha}a^{1\\beta}a_{0\\beta}a^{0\\beta}a_{0\\beta}\n",
      " + 1.3001062764213006e-17 * a^{1\\alpha}a_{0\\alpha}a^{1\\beta}a_{0\\beta}a^{0\\beta}a_{1\\beta}\n",
      " + 0.5337491016607854 * a^{1\\alpha}a_{0\\alpha}a^{1\\beta}a_{1\\beta}a^{1\\beta}a_{0\\beta}\n",
      " + 1.1898506186070186 * a^{1\\alpha}a_{0\\alpha}a^{0\\alpha}a_{0\\alpha}a^{1\\beta}a_{0\\beta}\n",
      " + -2.600212552842601e-17 * a^{1\\alpha}a_{0\\alpha}a^{0\\alpha}a_{1\\alpha}a^{1\\alpha}a_{0\\alpha}\n",
      " + -2.600212552842601e-17 * a^{1\\alpha}a_{0\\alpha}a^{0\\alpha}a_{1\\alpha}a^{1\\beta}a_{0\\beta}\n",
      " + -2.600212552842601e-17 * a^{1\\alpha}a_{0\\alpha}a^{0\\beta}a_{1\\beta}a^{1\\beta}a_{0\\beta}\n",
      " + -0.2668745508303927 * a^{1\\alpha}a_{1\\alpha}a^{1\\alpha}a_{0\\alpha}a^{1\\beta}a_{0\\beta}\n",
      " + -0.2668745508303927 * a^{1\\alpha}a_{1\\alpha}a^{1\\beta}a_{0\\beta}a^{1\\alpha}a_{0\\alpha}\n",
      " + -0.5949253093035093 * a^{1\\beta}a_{0\\beta}a^{1\\alpha}a_{0\\alpha}a^{0\\alpha}a_{0\\alpha}\n",
      " + 1.3001062764213006e-17 * a^{1\\beta}a_{0\\beta}a^{1\\alpha}a_{0\\alpha}a^{0\\alpha}a_{1\\alpha}\n",
      " + -0.5949253093035093 * a^{1\\beta}a_{0\\beta}a^{1\\alpha}a_{0\\alpha}a^{0\\beta}a_{0\\beta}\n",
      " + 1.3001062764213006e-17 * a^{1\\beta}a_{0\\beta}a^{1\\alpha}a_{0\\alpha}a^{0\\beta}a_{1\\beta}\n",
      " + 0.5337491016607854 * a^{1\\beta}a_{0\\beta}a^{1\\alpha}a_{1\\alpha}a^{1\\alpha}a_{0\\alpha}\n",
      " + -2.600212552842601e-17 * a^{1\\beta}a_{0\\beta}a^{0\\alpha}a_{1\\alpha}a^{1\\alpha}a_{0\\alpha}\n",
      " + 1.1898506186070186 * a^{1\\beta}a_{0\\beta}a^{0\\beta}a_{0\\beta}a^{1\\alpha}a_{0\\alpha}\n",
      " + -2.600212552842601e-17 * a^{1\\beta}a_{0\\beta}a^{0\\beta}a_{1\\beta}a^{1\\alpha}a_{0\\alpha}\n",
      " + -2.600212552842601e-17 * a^{1\\beta}a_{0\\beta}a^{0\\beta}a_{1\\beta}a^{1\\beta}a_{0\\beta}\n",
      " + -0.2668745508303927 * a^{1\\beta}a_{1\\beta}a^{1\\alpha}a_{0\\alpha}a^{1\\beta}a_{0\\beta}\n",
      " + -0.2668745508303927 * a^{1\\beta}a_{1\\beta}a^{1\\beta}a_{0\\beta}a^{1\\alpha}a_{0\\alpha}\n",
      " + 1.3001062764213006e-17 * a^{0\\alpha}a_{1\\alpha}a^{1\\alpha}a_{0\\alpha}a^{1\\beta}a_{0\\beta}\n",
      " + 1.3001062764213006e-17 * a^{0\\alpha}a_{1\\alpha}a^{1\\beta}a_{0\\beta}a^{1\\alpha}a_{0\\alpha}\n",
      " + 1.3001062764213006e-17 * a^{0\\beta}a_{1\\beta}a^{1\\alpha}a_{0\\alpha}a^{1\\beta}a_{0\\beta}\n",
      " + 1.3001062764213006e-17 * a^{0\\beta}a_{1\\beta}a^{1\\beta}a_{0\\beta}a^{1\\alpha}a_{0\\alpha}\n",
      " + 1.3001062764213006e-17 * a^{1\\alpha}a_{0\\alpha}a^{1\\beta}a_{0\\beta}a^{0\\alpha}a_{1\\alpha}a^{1\\alpha}a_{0\\alpha}\n",
      " + 1.3001062764213006e-17 * a^{1\\alpha}a_{0\\alpha}a^{1\\beta}a_{0\\beta}a^{0\\beta}a_{1\\beta}a^{1\\beta}a_{0\\beta}\n",
      " + -1.3001062764213006e-17 * a^{1\\alpha}a_{0\\alpha}a^{0\\alpha}a_{1\\alpha}a^{1\\alpha}a_{0\\alpha}a^{1\\beta}a_{0\\beta}\n",
      " + -1.3001062764213006e-17 * a^{1\\alpha}a_{0\\alpha}a^{0\\alpha}a_{1\\alpha}a^{1\\beta}a_{0\\beta}a^{1\\alpha}a_{0\\alpha}\n",
      " + 1.3001062764213006e-17 * a^{1\\beta}a_{0\\beta}a^{1\\alpha}a_{0\\alpha}a^{0\\alpha}a_{1\\alpha}a^{1\\alpha}a_{0\\alpha}\n",
      " + 1.3001062764213006e-17 * a^{1\\beta}a_{0\\beta}a^{1\\alpha}a_{0\\alpha}a^{0\\beta}a_{1\\beta}a^{1\\beta}a_{0\\beta}\n",
      " + -1.3001062764213006e-17 * a^{1\\beta}a_{0\\beta}a^{0\\beta}a_{1\\beta}a^{1\\alpha}a_{0\\alpha}a^{1\\beta}a_{0\\beta}\n",
      " + -1.3001062764213006e-17 * a^{1\\beta}a_{0\\beta}a^{0\\beta}a_{1\\beta}a^{1\\beta}a_{0\\beta}a^{1\\alpha}a_{0\\alpha}\n",
      "-0.0\n",
      " + 0.0 * a^{1\\alpha}a_{0\\alpha}\n",
      " + 0.0 * a^{1\\alpha}a_{0\\alpha}\n",
      " + 0.0 * a^{1\\alpha}a_{1\\alpha}\n",
      " + 0.0 * a^{1\\beta}a_{0\\beta}\n",
      " + 0.0 * a^{1\\beta}a_{0\\beta}\n",
      " + 0.0 * a^{1\\beta}a_{1\\beta}\n",
      " + 0.0 * a^{0\\alpha}a_{0\\alpha}\n",
      " + 0.0 * a^{0\\alpha}a_{1\\alpha}\n",
      " + 0.0 * a^{0\\beta}a_{0\\beta}\n",
      " + 0.0 * a^{0\\beta}a_{1\\beta}\n",
      " + 0.0 * a^{1\\alpha}a_{0\\alpha}a^{1\\beta}a_{0\\beta}\n",
      " + 0.0 * a^{1\\alpha}a_{0\\alpha}a^{1\\beta}a_{0\\beta}\n",
      " + -0.0 * a^{1\\alpha}a_{0\\alpha}a^{1\\beta}a_{0\\beta}\n",
      " + 0.0 * a^{1\\alpha}a_{0\\alpha}a^{1\\beta}a_{1\\beta}\n",
      " + 0.0 * a^{1\\alpha}a_{0\\alpha}a^{0\\alpha}a_{0\\alpha}\n",
      " + 0.0 * a^{1\\alpha}a_{0\\alpha}a^{0\\alpha}a_{1\\alpha}\n",
      " + 0.0 * a^{1\\alpha}a_{0\\alpha}a^{0\\beta}a_{0\\beta}\n",
      " + 0.0 * a^{1\\alpha}a_{0\\alpha}a^{0\\beta}a_{1\\beta}\n",
      " + 0.0 * a^{1\\alpha}a_{1\\alpha}a^{1\\alpha}a_{0\\alpha}\n",
      " + 0.0 * a^{1\\alpha}a_{1\\alpha}a^{1\\beta}a_{0\\beta}\n",
      " + 0.0 * a^{1\\beta}a_{0\\beta}a^{1\\alpha}a_{0\\alpha}\n",
      " + 0.0 * a^{1\\beta}a_{0\\beta}a^{1\\alpha}a_{0\\alpha}\n",
      " + -0.0 * a^{1\\beta}a_{0\\beta}a^{1\\alpha}a_{0\\alpha}\n",
      " + 0.0 * a^{1\\beta}a_{0\\beta}a^{1\\alpha}a_{1\\alpha}\n",
      " + 0.0 * a^{1\\beta}a_{0\\beta}a^{0\\alpha}a_{0\\alpha}\n",
      " + 0.0 * a^{1\\beta}a_{0\\beta}a^{0\\alpha}a_{1\\alpha}\n",
      " + 0.0 * a^{1\\beta}a_{0\\beta}a^{0\\beta}a_{0\\beta}\n",
      " + 0.0 * a^{1\\beta}a_{0\\beta}a^{0\\beta}a_{1\\beta}\n",
      " + 0.0 * a^{1\\beta}a_{1\\beta}a^{1\\alpha}a_{0\\alpha}\n",
      " + 0.0 * a^{1\\beta}a_{1\\beta}a^{1\\beta}a_{0\\beta}\n",
      " + 0.0 * a^{0\\alpha}a_{0\\alpha}a^{1\\beta}a_{0\\beta}\n",
      " + 0.0 * a^{0\\alpha}a_{1\\alpha}a^{1\\alpha}a_{0\\alpha}\n",
      " + 0.0 * a^{0\\alpha}a_{1\\alpha}a^{1\\beta}a_{0\\beta}\n",
      " + 0.0 * a^{0\\beta}a_{0\\beta}a^{1\\alpha}a_{0\\alpha}\n",
      " + 0.0 * a^{0\\beta}a_{1\\beta}a^{1\\alpha}a_{0\\alpha}\n",
      " + 0.0 * a^{0\\beta}a_{1\\beta}a^{1\\beta}a_{0\\beta}\n",
      " + 0.0 * a^{1\\alpha}a_{0\\alpha}a^{1\\beta}a_{0\\beta}a^{0\\alpha}a_{0\\alpha}\n",
      " + 0.0 * a^{1\\alpha}a_{0\\alpha}a^{1\\beta}a_{0\\beta}a^{0\\alpha}a_{1\\alpha}\n",
      " + 0.0 * a^{1\\alpha}a_{0\\alpha}a^{1\\beta}a_{0\\beta}a^{0\\beta}a_{0\\beta}\n",
      " + 0.0 * a^{1\\alpha}a_{0\\alpha}a^{1\\beta}a_{0\\beta}a^{0\\beta}a_{1\\beta}\n",
      " + 0.0 * a^{1\\alpha}a_{0\\alpha}a^{1\\beta}a_{1\\beta}a^{1\\beta}a_{0\\beta}\n",
      " + 0.0 * a^{1\\alpha}a_{0\\alpha}a^{0\\alpha}a_{0\\alpha}a^{1\\beta}a_{0\\beta}\n",
      " + 0.0 * a^{1\\alpha}a_{0\\alpha}a^{0\\alpha}a_{1\\alpha}a^{1\\alpha}a_{0\\alpha}\n",
      " + 0.0 * a^{1\\alpha}a_{0\\alpha}a^{0\\alpha}a_{1\\alpha}a^{1\\beta}a_{0\\beta}\n",
      " + 0.0 * a^{1\\alpha}a_{0\\alpha}a^{0\\beta}a_{1\\beta}a^{1\\beta}a_{0\\beta}\n",
      " + 0.0 * a^{1\\alpha}a_{1\\alpha}a^{1\\alpha}a_{0\\alpha}a^{1\\beta}a_{0\\beta}\n",
      " + 0.0 * a^{1\\alpha}a_{1\\alpha}a^{1\\beta}a_{0\\beta}a^{1\\alpha}a_{0\\alpha}\n",
      " + 0.0 * a^{1\\beta}a_{0\\beta}a^{1\\alpha}a_{0\\alpha}a^{0\\alpha}a_{0\\alpha}\n",
      " + 0.0 * a^{1\\beta}a_{0\\beta}a^{1\\alpha}a_{0\\alpha}a^{0\\alpha}a_{1\\alpha}\n",
      " + 0.0 * a^{1\\beta}a_{0\\beta}a^{1\\alpha}a_{0\\alpha}a^{0\\beta}a_{0\\beta}\n",
      " + 0.0 * a^{1\\beta}a_{0\\beta}a^{1\\alpha}a_{0\\alpha}a^{0\\beta}a_{1\\beta}\n",
      " + 0.0 * a^{1\\beta}a_{0\\beta}a^{1\\alpha}a_{1\\alpha}a^{1\\alpha}a_{0\\alpha}\n",
      " + 0.0 * a^{1\\beta}a_{0\\beta}a^{0\\alpha}a_{1\\alpha}a^{1\\alpha}a_{0\\alpha}\n",
      " + 0.0 * a^{1\\beta}a_{0\\beta}a^{0\\beta}a_{0\\beta}a^{1\\alpha}a_{0\\alpha}\n",
      " + 0.0 * a^{1\\beta}a_{0\\beta}a^{0\\beta}a_{1\\beta}a^{1\\alpha}a_{0\\alpha}\n",
      " + 0.0 * a^{1\\beta}a_{0\\beta}a^{0\\beta}a_{1\\beta}a^{1\\beta}a_{0\\beta}\n",
      " + 0.0 * a^{1\\beta}a_{1\\beta}a^{1\\alpha}a_{0\\alpha}a^{1\\beta}a_{0\\beta}\n",
      " + 0.0 * a^{1\\beta}a_{1\\beta}a^{1\\beta}a_{0\\beta}a^{1\\alpha}a_{0\\alpha}\n",
      " + 0.0 * a^{0\\alpha}a_{1\\alpha}a^{1\\alpha}a_{0\\alpha}a^{1\\beta}a_{0\\beta}\n",
      " + 0.0 * a^{0\\alpha}a_{1\\alpha}a^{1\\beta}a_{0\\beta}a^{1\\alpha}a_{0\\alpha}\n",
      " + 0.0 * a^{0\\beta}a_{1\\beta}a^{1\\alpha}a_{0\\alpha}a^{1\\beta}a_{0\\beta}\n",
      " + 0.0 * a^{0\\beta}a_{1\\beta}a^{1\\beta}a_{0\\beta}a^{1\\alpha}a_{0\\alpha}\n",
      " + 0.0 * a^{1\\alpha}a_{0\\alpha}a^{1\\beta}a_{0\\beta}a^{0\\alpha}a_{1\\alpha}a^{1\\alpha}a_{0\\alpha}\n",
      " + 0.0 * a^{1\\alpha}a_{0\\alpha}a^{1\\beta}a_{0\\beta}a^{0\\beta}a_{1\\beta}a^{1\\beta}a_{0\\beta}\n",
      " + 0.0 * a^{1\\alpha}a_{0\\alpha}a^{0\\alpha}a_{1\\alpha}a^{1\\alpha}a_{0\\alpha}a^{1\\beta}a_{0\\beta}\n",
      " + 0.0 * a^{1\\alpha}a_{0\\alpha}a^{0\\alpha}a_{1\\alpha}a^{1\\beta}a_{0\\beta}a^{1\\alpha}a_{0\\alpha}\n",
      " + 0.0 * a^{1\\beta}a_{0\\beta}a^{1\\alpha}a_{0\\alpha}a^{0\\alpha}a_{1\\alpha}a^{1\\alpha}a_{0\\alpha}\n",
      " + 0.0 * a^{1\\beta}a_{0\\beta}a^{1\\alpha}a_{0\\alpha}a^{0\\beta}a_{1\\beta}a^{1\\beta}a_{0\\beta}\n",
      " + 0.0 * a^{1\\beta}a_{0\\beta}a^{0\\beta}a_{1\\beta}a^{1\\alpha}a_{0\\alpha}a^{1\\beta}a_{0\\beta}\n",
      " + 0.0 * a^{1\\beta}a_{0\\beta}a^{0\\beta}a_{1\\beta}a^{1\\beta}a_{0\\beta}a^{1\\alpha}a_{0\\alpha}\n"
     ]
    }
   ],
   "source": [
    "print(hamiltonian1Body)\n",
    "print(clusterSingles)\n",
    "print(exponentialOperator((-1) * clusterSingles, 3) * hamiltonian1Body * exponentialOperator(clusterSingles, 3))\n",
    "print(BCHSimilarityTransform(hamiltonian1Body, clusterSingles, 3))\n",
    "print(exponentialOperator((-1) * clusterSingles, 4) * hamiltonian1Body * exponentialOperator(clusterSingles, 4) + (-1) * BCHSimilarityTransform(hamiltonian1Body, clusterSingles, 4))"
   ]
  },
  {
   "cell_type": "code",
   "execution_count": 550,
   "metadata": {},
   "outputs": [
    {
     "output_type": "stream",
     "name": "stdout",
     "text": [
      "0.0\n + -4.7142356915405136e-17 * a^{1\\alpha}a_{0\\alpha}\n + -0.0 * a^{1\\alpha}a_{0\\alpha}\n + -0.5337491016607854 * a^{1\\alpha}a_{1\\alpha}\n + -4.7142356915405136e-17 * a^{1\\beta}a_{0\\beta}\n + -0.0 * a^{1\\beta}a_{0\\beta}\n + -0.5337491016607854 * a^{1\\beta}a_{1\\beta}\n + -1.1898506186070186 * a^{0\\alpha}a_{0\\alpha}\n + 2.600212552842601e-17 * a^{0\\alpha}a_{1\\alpha}\n + -1.1898506186070186 * a^{0\\beta}a_{0\\beta}\n + 2.600212552842601e-17 * a^{0\\beta}a_{1\\beta}\n + -4.7142356915405136e-17 * a^{1\\alpha}a_{0\\alpha}a^{1\\beta}a_{0\\beta}\n + 0.09376099045135429 * a^{1\\alpha}a^{1\\beta}a_{0\\beta}a_{0\\alpha}\n + 6.938893903907228e-17 * a^{1\\alpha}a^{1\\beta}a_{0\\beta}a_{1\\alpha}\n + 2.7755575615628914e-17 * a^{1\\alpha}a^{1\\beta}a_{1\\beta}a_{0\\alpha}\n + 0.33906809184265285 * a^{1\\alpha}a^{1\\beta}a_{1\\beta}a_{1\\alpha}\n + 0.3226247132942422 * a^{1\\alpha}a^{0\\alpha}a_{0\\alpha}a_{1\\alpha}\n + 4.7142356915405136e-17 * a^{1\\alpha}a_{0\\alpha}a^{1\\beta}a_{0\\beta}\n + 0.5337491016607854 * a^{1\\alpha}a_{0\\alpha}a^{1\\beta}a_{1\\beta}\n + 1.1898506186070186 * a^{1\\alpha}a_{0\\alpha}a^{0\\alpha}a_{0\\alpha}\n + -2.600212552842601e-17 * a^{1\\alpha}a_{0\\alpha}a^{0\\alpha}a_{1\\alpha}\n + 1.1898506186070186 * a^{1\\alpha}a_{0\\alpha}a^{0\\beta}a_{0\\beta}\n + -2.600212552842601e-17 * a^{1\\alpha}a_{0\\alpha}a^{0\\beta}a_{1\\beta}\n + 5.204170427930421e-17 * a^{1\\alpha}a^{0\\beta}a_{0\\beta}a_{0\\alpha}\n + 0.3226247132942422 * a^{1\\alpha}a^{0\\beta}a_{0\\beta}a_{1\\alpha}\n + 6.938893903907228e-17 * a^{1\\alpha}a^{0\\beta}a_{1\\beta}a_{1\\alpha}\n + -0.5337491016607854 * a^{1\\alpha}a_{1\\alpha}a^{1\\alpha}a_{0\\alpha}\n + -0.5337491016607854 * a^{1\\alpha}a_{1\\alpha}a^{1\\beta}a_{0\\beta}\n + -4.7142356915405136e-17 * a^{1\\beta}a_{0\\beta}a^{1\\alpha}a_{0\\alpha}\n + 0.09376099045135429 * a^{1\\beta}a^{1\\alpha}a_{0\\alpha}a_{0\\beta}\n + 6.938893903907228e-17 * a^{1\\beta}a^{1\\alpha}a_{0\\alpha}a_{1\\beta}\n + 2.7755575615628914e-17 * a^{1\\beta}a^{1\\alpha}a_{1\\alpha}a_{0\\beta}\n + 0.33906809184265285 * a^{1\\beta}a^{1\\alpha}a_{1\\alpha}a_{1\\beta}\n + 5.204170427930421e-17 * a^{1\\beta}a^{0\\alpha}a_{0\\alpha}a_{0\\beta}\n + 0.3226247132942422 * a^{1\\beta}a^{0\\alpha}a_{0\\alpha}a_{1\\beta}\n + 6.938893903907228e-17 * a^{1\\beta}a^{0\\alpha}a_{1\\alpha}a_{1\\beta}\n + 0.3226247132942422 * a^{1\\beta}a^{0\\beta}a_{0\\beta}a_{1\\beta}\n + 4.7142356915405136e-17 * a^{1\\beta}a_{0\\beta}a^{1\\alpha}a_{0\\alpha}\n + 0.5337491016607854 * a^{1\\beta}a_{0\\beta}a^{1\\alpha}a_{1\\alpha}\n + 1.1898506186070186 * a^{1\\beta}a_{0\\beta}a^{0\\alpha}a_{0\\alpha}\n + -2.600212552842601e-17 * a^{1\\beta}a_{0\\beta}a^{0\\alpha}a_{1\\alpha}\n + 1.1898506186070186 * a^{1\\beta}a_{0\\beta}a^{0\\beta}a_{0\\beta}\n + -2.600212552842601e-17 * a^{1\\beta}a_{0\\beta}a^{0\\beta}a_{1\\beta}\n + -0.5337491016607854 * a^{1\\beta}a_{1\\beta}a^{1\\alpha}a_{0\\alpha}\n + -0.5337491016607854 * a^{1\\beta}a_{1\\beta}a^{1\\beta}a_{0\\beta}\n + -1.1898506186070186 * a^{0\\alpha}a_{0\\alpha}a^{1\\beta}a_{0\\beta}\n + 0.3226247132942424 * a^{0\\alpha}a^{1\\alpha}a_{1\\alpha}a_{0\\alpha}\n + 4.163336342344337e-17 * a^{0\\alpha}a^{1\\beta}a_{0\\beta}a_{0\\alpha}\n + 0.3226247132942424 * a^{0\\alpha}a^{1\\beta}a_{1\\beta}a_{0\\alpha}\n + 2.7755575615628914e-17 * a^{0\\alpha}a^{1\\beta}a_{1\\beta}a_{1\\alpha}\n + 0.3270047556780619 * a^{0\\alpha}a^{0\\beta}a_{0\\beta}a_{0\\alpha}\n + 5.204170427930421e-17 * a^{0\\alpha}a^{0\\beta}a_{0\\beta}a_{1\\alpha}\n + 4.163336342344337e-17 * a^{0\\alpha}a^{0\\beta}a_{1\\beta}a_{0\\alpha}\n + 0.09376099045135429 * a^{0\\alpha}a^{0\\beta}a_{1\\beta}a_{1\\alpha}\n + 2.600212552842601e-17 * a^{0\\alpha}a_{1\\alpha}a^{1\\alpha}a_{0\\alpha}\n + 2.600212552842601e-17 * a^{0\\alpha}a_{1\\alpha}a^{1\\beta}a_{0\\beta}\n + -1.1898506186070186 * a^{0\\beta}a_{0\\beta}a^{1\\alpha}a_{0\\alpha}\n + 4.163336342344337e-17 * a^{0\\beta}a^{1\\alpha}a_{0\\alpha}a_{0\\beta}\n + 0.3226247132942424 * a^{0\\beta}a^{1\\alpha}a_{1\\alpha}a_{0\\beta}\n + 2.7755575615628914e-17 * a^{0\\beta}a^{1\\alpha}a_{1\\alpha}a_{1\\beta}\n + 0.3226247132942424 * a^{0\\beta}a^{1\\beta}a_{1\\beta}a_{0\\beta}\n + 0.3270047556780619 * a^{0\\beta}a^{0\\alpha}a_{0\\alpha}a_{0\\beta}\n + 5.204170427930421e-17 * a^{0\\beta}a^{0\\alpha}a_{0\\alpha}a_{1\\beta}\n + 4.163336342344337e-17 * a^{0\\beta}a^{0\\alpha}a_{1\\alpha}a_{0\\beta}\n + 0.09376099045135429 * a^{0\\beta}a^{0\\alpha}a_{1\\alpha}a_{1\\beta}\n + 2.600212552842601e-17 * a^{0\\beta}a_{1\\beta}a^{1\\alpha}a_{0\\alpha}\n + 2.600212552842601e-17 * a^{0\\beta}a_{1\\beta}a^{1\\beta}a_{0\\beta}\n + 6.938893903907228e-17 * a^{1\\alpha}a^{1\\beta}a_{0\\beta}a_{1\\alpha}a^{1\\alpha}a_{0\\alpha}\n + 2.7755575615628914e-17 * a^{1\\alpha}a^{1\\beta}a_{1\\beta}a_{0\\alpha}a^{1\\beta}a_{0\\beta}\n + 0.33906809184265285 * a^{1\\alpha}a^{1\\beta}a_{1\\beta}a_{1\\alpha}a^{1\\alpha}a_{0\\alpha}\n + 0.33906809184265285 * a^{1\\alpha}a^{1\\beta}a_{1\\beta}a_{1\\alpha}a^{1\\beta}a_{0\\beta}\n + 0.3226247132942422 * a^{1\\alpha}a^{0\\alpha}a_{0\\alpha}a_{1\\alpha}a^{1\\beta}a_{0\\beta}\n + -5.204170427930421e-17 * a^{1\\alpha}a_{0\\alpha}a^{1\\beta}a^{0\\alpha}a_{0\\alpha}a_{0\\beta}\n + -0.3226247132942422 * a^{1\\alpha}a_{0\\alpha}a^{1\\beta}a^{0\\alpha}a_{0\\alpha}a_{1\\beta}\n + -6.938893903907228e-17 * a^{1\\alpha}a_{0\\alpha}a^{1\\beta}a^{0\\alpha}a_{1\\alpha}a_{1\\beta}\n + -0.3226247132942422 * a^{1\\alpha}a_{0\\alpha}a^{1\\beta}a^{0\\beta}a_{0\\beta}a_{1\\beta}\n + -4.163336342344337e-17 * a^{1\\alpha}a_{0\\alpha}a^{0\\alpha}a^{1\\beta}a_{0\\beta}a_{0\\alpha}\n + -0.3226247132942424 * a^{1\\alpha}a_{0\\alpha}a^{0\\alpha}a^{1\\beta}a_{1\\beta}a_{0\\alpha}\n + -2.7755575615628914e-17 * a^{1\\alpha}a_{0\\alpha}a^{0\\alpha}a^{1\\beta}a_{1\\beta}a_{1\\alpha}\n + -0.3270047556780619 * a^{1\\alpha}a_{0\\alpha}a^{0\\alpha}a^{0\\beta}a_{0\\beta}a_{0\\alpha}\n + -5.204170427930421e-17 * a^{1\\alpha}a_{0\\alpha}a^{0\\alpha}a^{0\\beta}a_{0\\beta}a_{1\\alpha}\n + -4.163336342344337e-17 * a^{1\\alpha}a_{0\\alpha}a^{0\\alpha}a^{0\\beta}a_{1\\beta}a_{0\\alpha}\n + -0.09376099045135429 * a^{1\\alpha}a_{0\\alpha}a^{0\\alpha}a^{0\\beta}a_{1\\beta}a_{1\\alpha}\n + -0.3226247132942424 * a^{1\\alpha}a_{0\\alpha}a^{0\\beta}a^{1\\beta}a_{1\\beta}a_{0\\beta}\n + -0.3270047556780619 * a^{1\\alpha}a_{0\\alpha}a^{0\\beta}a^{0\\alpha}a_{0\\alpha}a_{0\\beta}\n + -5.204170427930421e-17 * a^{1\\alpha}a_{0\\alpha}a^{0\\beta}a^{0\\alpha}a_{0\\alpha}a_{1\\beta}\n + -4.163336342344337e-17 * a^{1\\alpha}a_{0\\alpha}a^{0\\beta}a^{0\\alpha}a_{1\\alpha}a_{0\\beta}\n + -0.09376099045135429 * a^{1\\alpha}a_{0\\alpha}a^{0\\beta}a^{0\\alpha}a_{1\\alpha}a_{1\\beta}\n + 0.3226247132942422 * a^{1\\alpha}a^{0\\beta}a_{0\\beta}a_{1\\alpha}a^{1\\alpha}a_{0\\alpha}\n + 6.938893903907228e-17 * a^{1\\alpha}a^{0\\beta}a_{1\\beta}a_{1\\alpha}a^{1\\alpha}a_{0\\alpha}\n + 6.938893903907228e-17 * a^{1\\alpha}a^{0\\beta}a_{1\\beta}a_{1\\alpha}a^{1\\beta}a_{0\\beta}\n + 6.938893903907228e-17 * a^{1\\beta}a^{1\\alpha}a_{0\\alpha}a_{1\\beta}a^{1\\beta}a_{0\\beta}\n + 2.7755575615628914e-17 * a^{1\\beta}a^{1\\alpha}a_{1\\alpha}a_{0\\beta}a^{1\\alpha}a_{0\\alpha}\n + 0.33906809184265285 * a^{1\\beta}a^{1\\alpha}a_{1\\alpha}a_{1\\beta}a^{1\\alpha}a_{0\\alpha}\n + 0.33906809184265285 * a^{1\\beta}a^{1\\alpha}a_{1\\alpha}a_{1\\beta}a^{1\\beta}a_{0\\beta}\n + 0.3226247132942422 * a^{1\\beta}a^{0\\alpha}a_{0\\alpha}a_{1\\beta}a^{1\\beta}a_{0\\beta}\n + 6.938893903907228e-17 * a^{1\\beta}a^{0\\alpha}a_{1\\alpha}a_{1\\beta}a^{1\\alpha}a_{0\\alpha}\n + 6.938893903907228e-17 * a^{1\\beta}a^{0\\alpha}a_{1\\alpha}a_{1\\beta}a^{1\\beta}a_{0\\beta}\n + 0.3226247132942422 * a^{1\\beta}a^{0\\beta}a_{0\\beta}a_{1\\beta}a^{1\\alpha}a_{0\\alpha}\n + -0.3226247132942422 * a^{1\\beta}a_{0\\beta}a^{1\\alpha}a^{0\\alpha}a_{0\\alpha}a_{1\\alpha}\n + -5.204170427930421e-17 * a^{1\\beta}a_{0\\beta}a^{1\\alpha}a^{0\\beta}a_{0\\beta}a_{0\\alpha}\n + -0.3226247132942422 * a^{1\\beta}a_{0\\beta}a^{1\\alpha}a^{0\\beta}a_{0\\beta}a_{1\\alpha}\n + -6.938893903907228e-17 * a^{1\\beta}a_{0\\beta}a^{1\\alpha}a^{0\\beta}a_{1\\beta}a_{1\\alpha}\n + -0.3226247132942424 * a^{1\\beta}a_{0\\beta}a^{0\\alpha}a^{1\\alpha}a_{1\\alpha}a_{0\\alpha}\n + -0.3270047556780619 * a^{1\\beta}a_{0\\beta}a^{0\\alpha}a^{0\\beta}a_{0\\beta}a_{0\\alpha}\n + -5.204170427930421e-17 * a^{1\\beta}a_{0\\beta}a^{0\\alpha}a^{0\\beta}a_{0\\beta}a_{1\\alpha}\n + -4.163336342344337e-17 * a^{1\\beta}a_{0\\beta}a^{0\\alpha}a^{0\\beta}a_{1\\beta}a_{0\\alpha}\n + -0.09376099045135429 * a^{1\\beta}a_{0\\beta}a^{0\\alpha}a^{0\\beta}a_{1\\beta}a_{1\\alpha}\n + -4.163336342344337e-17 * a^{1\\beta}a_{0\\beta}a^{0\\beta}a^{1\\alpha}a_{0\\alpha}a_{0\\beta}\n + -0.3226247132942424 * a^{1\\beta}a_{0\\beta}a^{0\\beta}a^{1\\alpha}a_{1\\alpha}a_{0\\beta}\n + -2.7755575615628914e-17 * a^{1\\beta}a_{0\\beta}a^{0\\beta}a^{1\\alpha}a_{1\\alpha}a_{1\\beta}\n + -0.3270047556780619 * a^{1\\beta}a_{0\\beta}a^{0\\beta}a^{0\\alpha}a_{0\\alpha}a_{0\\beta}\n + -5.204170427930421e-17 * a^{1\\beta}a_{0\\beta}a^{0\\beta}a^{0\\alpha}a_{0\\alpha}a_{1\\beta}\n + -4.163336342344337e-17 * a^{1\\beta}a_{0\\beta}a^{0\\beta}a^{0\\alpha}a_{1\\alpha}a_{0\\beta}\n + -0.09376099045135429 * a^{1\\beta}a_{0\\beta}a^{0\\beta}a^{0\\alpha}a_{1\\alpha}a_{1\\beta}\n + 0.3226247132942424 * a^{0\\alpha}a^{1\\alpha}a_{1\\alpha}a_{0\\alpha}a^{1\\beta}a_{0\\beta}\n + 0.3226247132942424 * a^{0\\alpha}a^{1\\beta}a_{1\\beta}a_{0\\alpha}a^{1\\beta}a_{0\\beta}\n + 2.7755575615628914e-17 * a^{0\\alpha}a^{1\\beta}a_{1\\beta}a_{1\\alpha}a^{1\\alpha}a_{0\\alpha}\n + 2.7755575615628914e-17 * a^{0\\alpha}a^{1\\beta}a_{1\\beta}a_{1\\alpha}a^{1\\beta}a_{0\\beta}\n + 5.204170427930421e-17 * a^{0\\alpha}a^{0\\beta}a_{0\\beta}a_{1\\alpha}a^{1\\alpha}a_{0\\alpha}\n + 4.163336342344337e-17 * a^{0\\alpha}a^{0\\beta}a_{1\\beta}a_{0\\alpha}a^{1\\beta}a_{0\\beta}\n + 0.09376099045135429 * a^{0\\alpha}a^{0\\beta}a_{1\\beta}a_{1\\alpha}a^{1\\alpha}a_{0\\alpha}\n + 0.09376099045135429 * a^{0\\alpha}a^{0\\beta}a_{1\\beta}a_{1\\alpha}a^{1\\beta}a_{0\\beta}\n + 0.3226247132942424 * a^{0\\beta}a^{1\\alpha}a_{1\\alpha}a_{0\\beta}a^{1\\alpha}a_{0\\alpha}\n + 2.7755575615628914e-17 * a^{0\\beta}a^{1\\alpha}a_{1\\alpha}a_{1\\beta}a^{1\\alpha}a_{0\\alpha}\n + 2.7755575615628914e-17 * a^{0\\beta}a^{1\\alpha}a_{1\\alpha}a_{1\\beta}a^{1\\beta}a_{0\\beta}\n + 0.3226247132942424 * a^{0\\beta}a^{1\\beta}a_{1\\beta}a_{0\\beta}a^{1\\alpha}a_{0\\alpha}\n + 5.204170427930421e-17 * a^{0\\beta}a^{0\\alpha}a_{0\\alpha}a_{1\\beta}a^{1\\beta}a_{0\\beta}\n + 4.163336342344337e-17 * a^{0\\beta}a^{0\\alpha}a_{1\\alpha}a_{0\\beta}a^{1\\alpha}a_{0\\alpha}\n + 0.09376099045135429 * a^{0\\beta}a^{0\\alpha}a_{1\\alpha}a_{1\\beta}a^{1\\alpha}a_{0\\alpha}\n + 0.09376099045135429 * a^{0\\beta}a^{0\\alpha}a_{1\\alpha}a_{1\\beta}a^{1\\beta}a_{0\\beta}\n"
     ]
    }
   ],
   "source": [
    "print(BCHSimilarityTransform(hamiltonian, clusterSingles, 1))"
   ]
  },
  {
   "cell_type": "code",
   "execution_count": 551,
   "metadata": {
    "tags": []
   },
   "outputs": [
    {
     "output_type": "stream",
     "name": "stdout",
     "text": [
      "0.0\n + -4.7142356915405136e-17 * a^{1\\alpha}a_{0\\alpha}\n + -0.5337491016607854 * a^{1\\alpha}a_{1\\alpha}\n + -4.7142356915405136e-17 * a^{1\\beta}a_{0\\beta}\n + -0.5337491016607854 * a^{1\\beta}a_{1\\beta}\n + -1.1898506186070186 * a^{0\\alpha}a_{0\\alpha}\n + 2.600212552842601e-17 * a^{0\\alpha}a_{1\\alpha}\n + -1.1898506186070186 * a^{0\\beta}a_{0\\beta}\n + 2.600212552842601e-17 * a^{0\\beta}a_{1\\beta}\n + 0.09376099045135429 * a^{1\\alpha}a^{1\\beta}a_{0\\beta}a_{0\\alpha}\n + 6.938893903907228e-17 * a^{1\\alpha}a^{1\\beta}a_{0\\beta}a_{1\\alpha}\n + 0.0 * a^{1\\alpha}a^{1\\beta}a_{0\\beta}a_{0\\alpha}\n + 2.7755575615628914e-17 * a^{1\\alpha}a^{1\\beta}a_{1\\beta}a_{0\\alpha}\n + 0.33906809184265285 * a^{1\\alpha}a^{1\\beta}a_{1\\beta}a_{1\\alpha}\n + 0.3226247132942422 * a^{1\\alpha}a^{0\\alpha}a_{0\\alpha}a_{1\\alpha}\n + 5.204170427930421e-17 * a^{1\\alpha}a^{0\\beta}a_{0\\beta}a_{0\\alpha}\n + 0.3226247132942422 * a^{1\\alpha}a^{0\\beta}a_{0\\beta}a_{1\\alpha}\n + 6.938893903907228e-17 * a^{1\\alpha}a^{0\\beta}a_{1\\beta}a_{1\\alpha}\n + 0.09376099045135429 * a^{1\\beta}a^{1\\alpha}a_{0\\alpha}a_{0\\beta}\n + 6.938893903907228e-17 * a^{1\\beta}a^{1\\alpha}a_{0\\alpha}a_{1\\beta}\n + 0.0 * a^{1\\beta}a^{1\\alpha}a_{0\\alpha}a_{0\\beta}\n + 2.7755575615628914e-17 * a^{1\\beta}a^{1\\alpha}a_{1\\alpha}a_{0\\beta}\n + 0.33906809184265285 * a^{1\\beta}a^{1\\alpha}a_{1\\alpha}a_{1\\beta}\n + 5.204170427930421e-17 * a^{1\\beta}a^{0\\alpha}a_{0\\alpha}a_{0\\beta}\n + 0.3226247132942422 * a^{1\\beta}a^{0\\alpha}a_{0\\alpha}a_{1\\beta}\n + 6.938893903907228e-17 * a^{1\\beta}a^{0\\alpha}a_{1\\alpha}a_{1\\beta}\n + 0.3226247132942422 * a^{1\\beta}a^{0\\beta}a_{0\\beta}a_{1\\beta}\n + 0.3226247132942424 * a^{0\\alpha}a^{1\\alpha}a_{1\\alpha}a_{0\\alpha}\n + 4.163336342344337e-17 * a^{0\\alpha}a^{1\\beta}a_{0\\beta}a_{0\\alpha}\n + 0.3226247132942424 * a^{0\\alpha}a^{1\\beta}a_{1\\beta}a_{0\\alpha}\n + 2.7755575615628914e-17 * a^{0\\alpha}a^{1\\beta}a_{1\\beta}a_{1\\alpha}\n + 0.3270047556780619 * a^{0\\alpha}a^{0\\beta}a_{0\\beta}a_{0\\alpha}\n + 5.204170427930421e-17 * a^{0\\alpha}a^{0\\beta}a_{0\\beta}a_{1\\alpha}\n + 4.163336342344337e-17 * a^{0\\alpha}a^{0\\beta}a_{1\\beta}a_{0\\alpha}\n + 0.09376099045135429 * a^{0\\alpha}a^{0\\beta}a_{1\\beta}a_{1\\alpha}\n + 4.163336342344337e-17 * a^{0\\beta}a^{1\\alpha}a_{0\\alpha}a_{0\\beta}\n + 0.3226247132942424 * a^{0\\beta}a^{1\\alpha}a_{1\\alpha}a_{0\\beta}\n + 2.7755575615628914e-17 * a^{0\\beta}a^{1\\alpha}a_{1\\alpha}a_{1\\beta}\n + 0.3226247132942424 * a^{0\\beta}a^{1\\beta}a_{1\\beta}a_{0\\beta}\n + 0.3270047556780619 * a^{0\\beta}a^{0\\alpha}a_{0\\alpha}a_{0\\beta}\n + 5.204170427930421e-17 * a^{0\\beta}a^{0\\alpha}a_{0\\alpha}a_{1\\beta}\n + 4.163336342344337e-17 * a^{0\\beta}a^{0\\alpha}a_{1\\alpha}a_{0\\beta}\n + 0.09376099045135429 * a^{0\\beta}a^{0\\alpha}a_{1\\alpha}a_{1\\beta}\n + 1.1898506186070186 * a^{1\\alpha}a^{1\\beta}a_{0\\beta}a_{0\\alpha}a^{0\\alpha}a_{0\\alpha}\n + -2.600212552842601e-17 * a^{1\\alpha}a^{1\\beta}a_{0\\beta}a_{0\\alpha}a^{0\\alpha}a_{1\\alpha}\n + 1.1898506186070186 * a^{1\\alpha}a^{1\\beta}a_{0\\beta}a_{0\\alpha}a^{0\\beta}a_{0\\beta}\n + -2.600212552842601e-17 * a^{1\\alpha}a^{1\\beta}a_{0\\beta}a_{0\\alpha}a^{0\\beta}a_{1\\beta}\n + -0.5337491016607854 * a^{1\\alpha}a_{1\\alpha}a^{1\\alpha}a^{1\\beta}a_{0\\beta}a_{0\\alpha}\n + -0.5337491016607854 * a^{1\\alpha}a_{1\\alpha}a^{1\\beta}a^{1\\alpha}a_{0\\alpha}a_{0\\beta}\n + 1.1898506186070186 * a^{1\\beta}a^{1\\alpha}a_{0\\alpha}a_{0\\beta}a^{0\\alpha}a_{0\\alpha}\n + -2.600212552842601e-17 * a^{1\\beta}a^{1\\alpha}a_{0\\alpha}a_{0\\beta}a^{0\\alpha}a_{1\\alpha}\n + 1.1898506186070186 * a^{1\\beta}a^{1\\alpha}a_{0\\alpha}a_{0\\beta}a^{0\\beta}a_{0\\beta}\n + -2.600212552842601e-17 * a^{1\\beta}a^{1\\alpha}a_{0\\alpha}a_{0\\beta}a^{0\\beta}a_{1\\beta}\n + -0.5337491016607854 * a^{1\\beta}a_{1\\beta}a^{1\\alpha}a^{1\\beta}a_{0\\beta}a_{0\\alpha}\n + -0.5337491016607854 * a^{1\\beta}a_{1\\beta}a^{1\\beta}a^{1\\alpha}a_{0\\alpha}a_{0\\beta}\n + 2.600212552842601e-17 * a^{0\\alpha}a_{1\\alpha}a^{1\\alpha}a^{1\\beta}a_{0\\beta}a_{0\\alpha}\n + 2.600212552842601e-17 * a^{0\\alpha}a_{1\\alpha}a^{1\\beta}a^{1\\alpha}a_{0\\alpha}a_{0\\beta}\n + 2.600212552842601e-17 * a^{0\\beta}a_{1\\beta}a^{1\\alpha}a^{1\\beta}a_{0\\beta}a_{0\\alpha}\n + 2.600212552842601e-17 * a^{0\\beta}a_{1\\beta}a^{1\\beta}a^{1\\alpha}a_{0\\alpha}a_{0\\beta}\n + -0.3270047556780619 * a^{1\\alpha}a^{1\\beta}a_{0\\beta}a_{0\\alpha}a^{0\\alpha}a^{0\\beta}a_{0\\beta}a_{0\\alpha}\n + -5.204170427930421e-17 * a^{1\\alpha}a^{1\\beta}a_{0\\beta}a_{0\\alpha}a^{0\\alpha}a^{0\\beta}a_{0\\beta}a_{1\\alpha}\n + -4.163336342344337e-17 * a^{1\\alpha}a^{1\\beta}a_{0\\beta}a_{0\\alpha}a^{0\\alpha}a^{0\\beta}a_{1\\beta}a_{0\\alpha}\n + -0.09376099045135429 * a^{1\\alpha}a^{1\\beta}a_{0\\beta}a_{0\\alpha}a^{0\\alpha}a^{0\\beta}a_{1\\beta}a_{1\\alpha}\n + -0.3270047556780619 * a^{1\\alpha}a^{1\\beta}a_{0\\beta}a_{0\\alpha}a^{0\\beta}a^{0\\alpha}a_{0\\alpha}a_{0\\beta}\n + -5.204170427930421e-17 * a^{1\\alpha}a^{1\\beta}a_{0\\beta}a_{0\\alpha}a^{0\\beta}a^{0\\alpha}a_{0\\alpha}a_{1\\beta}\n + -4.163336342344337e-17 * a^{1\\alpha}a^{1\\beta}a_{0\\beta}a_{0\\alpha}a^{0\\beta}a^{0\\alpha}a_{1\\alpha}a_{0\\beta}\n + -0.09376099045135429 * a^{1\\alpha}a^{1\\beta}a_{0\\beta}a_{0\\alpha}a^{0\\beta}a^{0\\alpha}a_{1\\alpha}a_{1\\beta}\n + 0.33906809184265285 * a^{1\\alpha}a^{1\\beta}a_{1\\beta}a_{1\\alpha}a^{1\\alpha}a^{1\\beta}a_{0\\beta}a_{0\\alpha}\n + 0.33906809184265285 * a^{1\\alpha}a^{1\\beta}a_{1\\beta}a_{1\\alpha}a^{1\\beta}a^{1\\alpha}a_{0\\alpha}a_{0\\beta}\n + 6.938893903907228e-17 * a^{1\\alpha}a^{0\\beta}a_{1\\beta}a_{1\\alpha}a^{1\\alpha}a^{1\\beta}a_{0\\beta}a_{0\\alpha}\n + 6.938893903907228e-17 * a^{1\\alpha}a^{0\\beta}a_{1\\beta}a_{1\\alpha}a^{1\\beta}a^{1\\alpha}a_{0\\alpha}a_{0\\beta}\n + -0.3270047556780619 * a^{1\\beta}a^{1\\alpha}a_{0\\alpha}a_{0\\beta}a^{0\\alpha}a^{0\\beta}a_{0\\beta}a_{0\\alpha}\n + -5.204170427930421e-17 * a^{1\\beta}a^{1\\alpha}a_{0\\alpha}a_{0\\beta}a^{0\\alpha}a^{0\\beta}a_{0\\beta}a_{1\\alpha}\n + -4.163336342344337e-17 * a^{1\\beta}a^{1\\alpha}a_{0\\alpha}a_{0\\beta}a^{0\\alpha}a^{0\\beta}a_{1\\beta}a_{0\\alpha}\n + -0.09376099045135429 * a^{1\\beta}a^{1\\alpha}a_{0\\alpha}a_{0\\beta}a^{0\\alpha}a^{0\\beta}a_{1\\beta}a_{1\\alpha}\n + -0.3270047556780619 * a^{1\\beta}a^{1\\alpha}a_{0\\alpha}a_{0\\beta}a^{0\\beta}a^{0\\alpha}a_{0\\alpha}a_{0\\beta}\n + -5.204170427930421e-17 * a^{1\\beta}a^{1\\alpha}a_{0\\alpha}a_{0\\beta}a^{0\\beta}a^{0\\alpha}a_{0\\alpha}a_{1\\beta}\n + -4.163336342344337e-17 * a^{1\\beta}a^{1\\alpha}a_{0\\alpha}a_{0\\beta}a^{0\\beta}a^{0\\alpha}a_{1\\alpha}a_{0\\beta}\n + -0.09376099045135429 * a^{1\\beta}a^{1\\alpha}a_{0\\alpha}a_{0\\beta}a^{0\\beta}a^{0\\alpha}a_{1\\alpha}a_{1\\beta}\n + 0.33906809184265285 * a^{1\\beta}a^{1\\alpha}a_{1\\alpha}a_{1\\beta}a^{1\\alpha}a^{1\\beta}a_{0\\beta}a_{0\\alpha}\n + 0.33906809184265285 * a^{1\\beta}a^{1\\alpha}a_{1\\alpha}a_{1\\beta}a^{1\\beta}a^{1\\alpha}a_{0\\alpha}a_{0\\beta}\n + 6.938893903907228e-17 * a^{1\\beta}a^{0\\alpha}a_{1\\alpha}a_{1\\beta}a^{1\\alpha}a^{1\\beta}a_{0\\beta}a_{0\\alpha}\n + 6.938893903907228e-17 * a^{1\\beta}a^{0\\alpha}a_{1\\alpha}a_{1\\beta}a^{1\\beta}a^{1\\alpha}a_{0\\alpha}a_{0\\beta}\n + 2.7755575615628914e-17 * a^{0\\alpha}a^{1\\beta}a_{1\\beta}a_{1\\alpha}a^{1\\alpha}a^{1\\beta}a_{0\\beta}a_{0\\alpha}\n + 2.7755575615628914e-17 * a^{0\\alpha}a^{1\\beta}a_{1\\beta}a_{1\\alpha}a^{1\\beta}a^{1\\alpha}a_{0\\alpha}a_{0\\beta}\n + 0.09376099045135429 * a^{0\\alpha}a^{0\\beta}a_{1\\beta}a_{1\\alpha}a^{1\\alpha}a^{1\\beta}a_{0\\beta}a_{0\\alpha}\n + 0.09376099045135429 * a^{0\\alpha}a^{0\\beta}a_{1\\beta}a_{1\\alpha}a^{1\\beta}a^{1\\alpha}a_{0\\alpha}a_{0\\beta}\n + 2.7755575615628914e-17 * a^{0\\beta}a^{1\\alpha}a_{1\\alpha}a_{1\\beta}a^{1\\alpha}a^{1\\beta}a_{0\\beta}a_{0\\alpha}\n + 2.7755575615628914e-17 * a^{0\\beta}a^{1\\alpha}a_{1\\alpha}a_{1\\beta}a^{1\\beta}a^{1\\alpha}a_{0\\alpha}a_{0\\beta}\n + 0.09376099045135429 * a^{0\\beta}a^{0\\alpha}a_{1\\alpha}a_{1\\beta}a^{1\\alpha}a^{1\\beta}a_{0\\beta}a_{0\\alpha}\n + 0.09376099045135429 * a^{0\\beta}a^{0\\alpha}a_{1\\alpha}a_{1\\beta}a^{1\\beta}a^{1\\alpha}a_{0\\alpha}a_{0\\beta}\n + -0.09376099045135429 * a^{1\\alpha}a^{1\\beta}a_{0\\beta}a_{0\\alpha}a^{0\\alpha}a^{0\\beta}a_{1\\beta}a_{1\\alpha}a^{1\\alpha}a^{1\\beta}a_{0\\beta}a_{0\\alpha}\n + -0.09376099045135429 * a^{1\\alpha}a^{1\\beta}a_{0\\beta}a_{0\\alpha}a^{0\\alpha}a^{0\\beta}a_{1\\beta}a_{1\\alpha}a^{1\\beta}a^{1\\alpha}a_{0\\alpha}a_{0\\beta}\n + -0.09376099045135429 * a^{1\\alpha}a^{1\\beta}a_{0\\beta}a_{0\\alpha}a^{0\\beta}a^{0\\alpha}a_{1\\alpha}a_{1\\beta}a^{1\\alpha}a^{1\\beta}a_{0\\beta}a_{0\\alpha}\n + -0.09376099045135429 * a^{1\\alpha}a^{1\\beta}a_{0\\beta}a_{0\\alpha}a^{0\\beta}a^{0\\alpha}a_{1\\alpha}a_{1\\beta}a^{1\\beta}a^{1\\alpha}a_{0\\alpha}a_{0\\beta}\n + -0.09376099045135429 * a^{1\\beta}a^{1\\alpha}a_{0\\alpha}a_{0\\beta}a^{0\\alpha}a^{0\\beta}a_{1\\beta}a_{1\\alpha}a^{1\\alpha}a^{1\\beta}a_{0\\beta}a_{0\\alpha}\n + -0.09376099045135429 * a^{1\\beta}a^{1\\alpha}a_{0\\alpha}a_{0\\beta}a^{0\\alpha}a^{0\\beta}a_{1\\beta}a_{1\\alpha}a^{1\\beta}a^{1\\alpha}a_{0\\alpha}a_{0\\beta}\n + -0.09376099045135429 * a^{1\\beta}a^{1\\alpha}a_{0\\alpha}a_{0\\beta}a^{0\\beta}a^{0\\alpha}a_{1\\alpha}a_{1\\beta}a^{1\\alpha}a^{1\\beta}a_{0\\beta}a_{0\\alpha}\n + -0.09376099045135429 * a^{1\\beta}a^{1\\alpha}a_{0\\alpha}a_{0\\beta}a^{0\\beta}a^{0\\alpha}a_{1\\alpha}a_{1\\beta}a^{1\\beta}a^{1\\alpha}a_{0\\alpha}a_{0\\beta}\n"
     ]
    }
   ],
   "source": [
    "bch = BCHSimilarityTransform(hamiltonian, clusterDoubles, 4)\n",
    "bch.checkNilpotency()\n",
    "print(bch)"
   ]
  },
  {
   "cell_type": "code",
   "execution_count": 552,
   "metadata": {},
   "outputs": [
    {
     "output_type": "stream",
     "name": "stdout",
     "text": [
      "0.0\n + -4.7142356915405136e-17 * a^{1\\alpha}a_{0\\alpha}\n + -0.5337491016607854 * a^{1\\alpha}a_{1\\alpha}\n + -4.7142356915405136e-17 * a^{1\\beta}a_{0\\beta}\n + -0.5337491016607854 * a^{1\\beta}a_{1\\beta}\n + -1.1898506186070186 * a^{0\\alpha}a_{0\\alpha}\n + 2.600212552842601e-17 * a^{0\\alpha}a_{1\\alpha}\n + -1.1898506186070186 * a^{0\\beta}a_{0\\beta}\n + 2.600212552842601e-17 * a^{0\\beta}a_{1\\beta}\n + 0.09376099045135429 * a^{1\\alpha}a^{1\\beta}a_{0\\beta}a_{0\\alpha}\n + 6.938893903907228e-17 * a^{1\\alpha}a^{1\\beta}a_{0\\beta}a_{1\\alpha}\n + -0.0 * a^{1\\alpha}a^{1\\beta}a_{0\\beta}a_{0\\alpha}\n + 2.7755575615628914e-17 * a^{1\\alpha}a^{1\\beta}a_{1\\beta}a_{0\\alpha}\n + 0.33906809184265285 * a^{1\\alpha}a^{1\\beta}a_{1\\beta}a_{1\\alpha}\n + 0.3226247132942422 * a^{1\\alpha}a^{0\\alpha}a_{0\\alpha}a_{1\\alpha}\n + 5.204170427930421e-17 * a^{1\\alpha}a^{0\\beta}a_{0\\beta}a_{0\\alpha}\n + 0.3226247132942422 * a^{1\\alpha}a^{0\\beta}a_{0\\beta}a_{1\\alpha}\n + 6.938893903907228e-17 * a^{1\\alpha}a^{0\\beta}a_{1\\beta}a_{1\\alpha}\n + 0.09376099045135429 * a^{1\\beta}a^{1\\alpha}a_{0\\alpha}a_{0\\beta}\n + 6.938893903907228e-17 * a^{1\\beta}a^{1\\alpha}a_{0\\alpha}a_{1\\beta}\n + -0.0 * a^{1\\beta}a^{1\\alpha}a_{0\\alpha}a_{0\\beta}\n + 2.7755575615628914e-17 * a^{1\\beta}a^{1\\alpha}a_{1\\alpha}a_{0\\beta}\n + 0.33906809184265285 * a^{1\\beta}a^{1\\alpha}a_{1\\alpha}a_{1\\beta}\n + 5.204170427930421e-17 * a^{1\\beta}a^{0\\alpha}a_{0\\alpha}a_{0\\beta}\n + 0.3226247132942422 * a^{1\\beta}a^{0\\alpha}a_{0\\alpha}a_{1\\beta}\n + 6.938893903907228e-17 * a^{1\\beta}a^{0\\alpha}a_{1\\alpha}a_{1\\beta}\n + 0.3226247132942422 * a^{1\\beta}a^{0\\beta}a_{0\\beta}a_{1\\beta}\n + 0.3226247132942424 * a^{0\\alpha}a^{1\\alpha}a_{1\\alpha}a_{0\\alpha}\n + 4.163336342344337e-17 * a^{0\\alpha}a^{1\\beta}a_{0\\beta}a_{0\\alpha}\n + 0.3226247132942424 * a^{0\\alpha}a^{1\\beta}a_{1\\beta}a_{0\\alpha}\n + 2.7755575615628914e-17 * a^{0\\alpha}a^{1\\beta}a_{1\\beta}a_{1\\alpha}\n + 0.3270047556780619 * a^{0\\alpha}a^{0\\beta}a_{0\\beta}a_{0\\alpha}\n + 5.204170427930421e-17 * a^{0\\alpha}a^{0\\beta}a_{0\\beta}a_{1\\alpha}\n + 4.163336342344337e-17 * a^{0\\alpha}a^{0\\beta}a_{1\\beta}a_{0\\alpha}\n + 0.09376099045135429 * a^{0\\alpha}a^{0\\beta}a_{1\\beta}a_{1\\alpha}\n + 4.163336342344337e-17 * a^{0\\beta}a^{1\\alpha}a_{0\\alpha}a_{0\\beta}\n + 0.3226247132942424 * a^{0\\beta}a^{1\\alpha}a_{1\\alpha}a_{0\\beta}\n + 2.7755575615628914e-17 * a^{0\\beta}a^{1\\alpha}a_{1\\alpha}a_{1\\beta}\n + 0.3226247132942424 * a^{0\\beta}a^{1\\beta}a_{1\\beta}a_{0\\beta}\n + 0.3270047556780619 * a^{0\\beta}a^{0\\alpha}a_{0\\alpha}a_{0\\beta}\n + 5.204170427930421e-17 * a^{0\\beta}a^{0\\alpha}a_{0\\alpha}a_{1\\beta}\n + 4.163336342344337e-17 * a^{0\\beta}a^{0\\alpha}a_{1\\alpha}a_{0\\beta}\n + 0.09376099045135429 * a^{0\\beta}a^{0\\alpha}a_{1\\alpha}a_{1\\beta}\n + -0.08190137846008055 * a^{1\\alpha}a^{1\\beta}a_{0\\beta}a_{0\\alpha}a^{0\\alpha}a_{0\\alpha}\n + 1.7898128474003877e-18 * a^{1\\alpha}a^{1\\beta}a_{0\\beta}a_{0\\alpha}a^{0\\alpha}a_{1\\alpha}\n + -0.08190137846008055 * a^{1\\alpha}a^{1\\beta}a_{0\\beta}a_{0\\alpha}a^{0\\beta}a_{0\\beta}\n + 1.7898128474003877e-18 * a^{1\\alpha}a^{1\\beta}a_{0\\beta}a_{0\\alpha}a^{0\\beta}a_{1\\beta}\n + 0.036739727234857224 * a^{1\\alpha}a_{1\\alpha}a^{1\\alpha}a^{1\\beta}a_{0\\beta}a_{0\\alpha}\n + 0.036739727234857224 * a^{1\\alpha}a_{1\\alpha}a^{1\\beta}a^{1\\alpha}a_{0\\alpha}a_{0\\beta}\n + -0.08190137846008055 * a^{1\\beta}a^{1\\alpha}a_{0\\alpha}a_{0\\beta}a^{0\\alpha}a_{0\\alpha}\n + 1.7898128474003877e-18 * a^{1\\beta}a^{1\\alpha}a_{0\\alpha}a_{0\\beta}a^{0\\alpha}a_{1\\alpha}\n + -0.08190137846008055 * a^{1\\beta}a^{1\\alpha}a_{0\\alpha}a_{0\\beta}a^{0\\beta}a_{0\\beta}\n + 1.7898128474003877e-18 * a^{1\\beta}a^{1\\alpha}a_{0\\alpha}a_{0\\beta}a^{0\\beta}a_{1\\beta}\n + 0.036739727234857224 * a^{1\\beta}a_{1\\beta}a^{1\\alpha}a^{1\\beta}a_{0\\beta}a_{0\\alpha}\n + 0.036739727234857224 * a^{1\\beta}a_{1\\beta}a^{1\\beta}a^{1\\alpha}a_{0\\alpha}a_{0\\beta}\n + -1.7898128474003877e-18 * a^{0\\alpha}a_{1\\alpha}a^{1\\alpha}a^{1\\beta}a_{0\\beta}a_{0\\alpha}\n + -1.7898128474003877e-18 * a^{0\\alpha}a_{1\\alpha}a^{1\\beta}a^{1\\alpha}a_{0\\alpha}a_{0\\beta}\n + -1.7898128474003877e-18 * a^{0\\beta}a_{1\\beta}a^{1\\alpha}a^{1\\beta}a_{0\\beta}a_{0\\alpha}\n + -1.7898128474003877e-18 * a^{0\\beta}a_{1\\beta}a^{1\\beta}a^{1\\alpha}a_{0\\alpha}a_{0\\beta}\n + 0.022508825758639772 * a^{1\\alpha}a^{1\\beta}a_{0\\beta}a_{0\\alpha}a^{0\\alpha}a^{0\\beta}a_{0\\beta}a_{0\\alpha}\n + 3.582203724764064e-18 * a^{1\\alpha}a^{1\\beta}a_{0\\beta}a_{0\\alpha}a^{0\\alpha}a^{0\\beta}a_{0\\beta}a_{1\\alpha}\n + 2.8657629798112515e-18 * a^{1\\alpha}a^{1\\beta}a_{0\\beta}a_{0\\alpha}a^{0\\alpha}a^{0\\beta}a_{1\\beta}a_{0\\alpha}\n + 0.006453881053353154 * a^{1\\alpha}a^{1\\beta}a_{0\\beta}a_{0\\alpha}a^{0\\alpha}a^{0\\beta}a_{1\\beta}a_{1\\alpha}\n + 0.022508825758639772 * a^{1\\alpha}a^{1\\beta}a_{0\\beta}a_{0\\alpha}a^{0\\beta}a^{0\\alpha}a_{0\\alpha}a_{0\\beta}\n + 3.582203724764064e-18 * a^{1\\alpha}a^{1\\beta}a_{0\\beta}a_{0\\alpha}a^{0\\beta}a^{0\\alpha}a_{0\\alpha}a_{1\\beta}\n + 2.8657629798112515e-18 * a^{1\\alpha}a^{1\\beta}a_{0\\beta}a_{0\\alpha}a^{0\\beta}a^{0\\alpha}a_{1\\alpha}a_{0\\beta}\n + 0.006453881053353154 * a^{1\\alpha}a^{1\\beta}a_{0\\beta}a_{0\\alpha}a^{0\\beta}a^{0\\alpha}a_{1\\alpha}a_{1\\beta}\n + -0.023339185339293696 * a^{1\\alpha}a^{1\\beta}a_{1\\beta}a_{1\\alpha}a^{1\\alpha}a^{1\\beta}a_{0\\beta}a_{0\\alpha}\n + -0.023339185339293696 * a^{1\\alpha}a^{1\\beta}a_{1\\beta}a_{1\\alpha}a^{1\\beta}a^{1\\alpha}a_{0\\alpha}a_{0\\beta}\n + -4.7762716330187526e-18 * a^{1\\alpha}a^{0\\beta}a_{1\\beta}a_{1\\alpha}a^{1\\alpha}a^{1\\beta}a_{0\\beta}a_{0\\alpha}\n + -4.7762716330187526e-18 * a^{1\\alpha}a^{0\\beta}a_{1\\beta}a_{1\\alpha}a^{1\\beta}a^{1\\alpha}a_{0\\alpha}a_{0\\beta}\n + 0.022508825758639772 * a^{1\\beta}a^{1\\alpha}a_{0\\alpha}a_{0\\beta}a^{0\\alpha}a^{0\\beta}a_{0\\beta}a_{0\\alpha}\n + 3.582203724764064e-18 * a^{1\\beta}a^{1\\alpha}a_{0\\alpha}a_{0\\beta}a^{0\\alpha}a^{0\\beta}a_{0\\beta}a_{1\\alpha}\n + 2.8657629798112515e-18 * a^{1\\beta}a^{1\\alpha}a_{0\\alpha}a_{0\\beta}a^{0\\alpha}a^{0\\beta}a_{1\\beta}a_{0\\alpha}\n + 0.006453881053353154 * a^{1\\beta}a^{1\\alpha}a_{0\\alpha}a_{0\\beta}a^{0\\alpha}a^{0\\beta}a_{1\\beta}a_{1\\alpha}\n + 0.022508825758639772 * a^{1\\beta}a^{1\\alpha}a_{0\\alpha}a_{0\\beta}a^{0\\beta}a^{0\\alpha}a_{0\\alpha}a_{0\\beta}\n + 3.582203724764064e-18 * a^{1\\beta}a^{1\\alpha}a_{0\\alpha}a_{0\\beta}a^{0\\beta}a^{0\\alpha}a_{0\\alpha}a_{1\\beta}\n + 2.8657629798112515e-18 * a^{1\\beta}a^{1\\alpha}a_{0\\alpha}a_{0\\beta}a^{0\\beta}a^{0\\alpha}a_{1\\alpha}a_{0\\beta}\n + 0.006453881053353154 * a^{1\\beta}a^{1\\alpha}a_{0\\alpha}a_{0\\beta}a^{0\\beta}a^{0\\alpha}a_{1\\alpha}a_{1\\beta}\n + -0.023339185339293696 * a^{1\\beta}a^{1\\alpha}a_{1\\alpha}a_{1\\beta}a^{1\\alpha}a^{1\\beta}a_{0\\beta}a_{0\\alpha}\n + -0.023339185339293696 * a^{1\\beta}a^{1\\alpha}a_{1\\alpha}a_{1\\beta}a^{1\\beta}a^{1\\alpha}a_{0\\alpha}a_{0\\beta}\n + -4.7762716330187526e-18 * a^{1\\beta}a^{0\\alpha}a_{1\\alpha}a_{1\\beta}a^{1\\alpha}a^{1\\beta}a_{0\\beta}a_{0\\alpha}\n + -4.7762716330187526e-18 * a^{1\\beta}a^{0\\alpha}a_{1\\alpha}a_{1\\beta}a^{1\\beta}a^{1\\alpha}a_{0\\alpha}a_{0\\beta}\n + -1.910508653207501e-18 * a^{0\\alpha}a^{1\\beta}a_{1\\beta}a_{1\\alpha}a^{1\\alpha}a^{1\\beta}a_{0\\beta}a_{0\\alpha}\n + -1.910508653207501e-18 * a^{0\\alpha}a^{1\\beta}a_{1\\beta}a_{1\\alpha}a^{1\\beta}a^{1\\alpha}a_{0\\alpha}a_{0\\beta}\n + -0.006453881053353154 * a^{0\\alpha}a^{0\\beta}a_{1\\beta}a_{1\\alpha}a^{1\\alpha}a^{1\\beta}a_{0\\beta}a_{0\\alpha}\n + -0.006453881053353154 * a^{0\\alpha}a^{0\\beta}a_{1\\beta}a_{1\\alpha}a^{1\\beta}a^{1\\alpha}a_{0\\alpha}a_{0\\beta}\n + -1.910508653207501e-18 * a^{0\\beta}a^{1\\alpha}a_{1\\alpha}a_{1\\beta}a^{1\\alpha}a^{1\\beta}a_{0\\beta}a_{0\\alpha}\n + -1.910508653207501e-18 * a^{0\\beta}a^{1\\alpha}a_{1\\alpha}a_{1\\beta}a^{1\\beta}a^{1\\alpha}a_{0\\alpha}a_{0\\beta}\n + -0.006453881053353154 * a^{0\\beta}a^{0\\alpha}a_{1\\alpha}a_{1\\beta}a^{1\\alpha}a^{1\\beta}a_{0\\beta}a_{0\\alpha}\n + -0.006453881053353154 * a^{0\\beta}a^{0\\alpha}a_{1\\alpha}a_{1\\beta}a^{1\\beta}a^{1\\alpha}a_{0\\alpha}a_{0\\beta}\n + -0.00044424211444781285 * a^{1\\alpha}a^{1\\beta}a_{0\\beta}a_{0\\alpha}a^{0\\alpha}a^{0\\beta}a_{1\\beta}a_{1\\alpha}a^{1\\alpha}a^{1\\beta}a_{0\\beta}a_{0\\alpha}\n + -0.00044424211444781285 * a^{1\\alpha}a^{1\\beta}a_{0\\beta}a_{0\\alpha}a^{0\\alpha}a^{0\\beta}a_{1\\beta}a_{1\\alpha}a^{1\\beta}a^{1\\alpha}a_{0\\alpha}a_{0\\beta}\n + -0.00044424211444781285 * a^{1\\alpha}a^{1\\beta}a_{0\\beta}a_{0\\alpha}a^{0\\beta}a^{0\\alpha}a_{1\\alpha}a_{1\\beta}a^{1\\alpha}a^{1\\beta}a_{0\\beta}a_{0\\alpha}\n + -0.00044424211444781285 * a^{1\\alpha}a^{1\\beta}a_{0\\beta}a_{0\\alpha}a^{0\\beta}a^{0\\alpha}a_{1\\alpha}a_{1\\beta}a^{1\\beta}a^{1\\alpha}a_{0\\alpha}a_{0\\beta}\n + -0.00044424211444781285 * a^{1\\beta}a^{1\\alpha}a_{0\\alpha}a_{0\\beta}a^{0\\alpha}a^{0\\beta}a_{1\\beta}a_{1\\alpha}a^{1\\alpha}a^{1\\beta}a_{0\\beta}a_{0\\alpha}\n + -0.00044424211444781285 * a^{1\\beta}a^{1\\alpha}a_{0\\alpha}a_{0\\beta}a^{0\\alpha}a^{0\\beta}a_{1\\beta}a_{1\\alpha}a^{1\\beta}a^{1\\alpha}a_{0\\alpha}a_{0\\beta}\n + -0.00044424211444781285 * a^{1\\beta}a^{1\\alpha}a_{0\\alpha}a_{0\\beta}a^{0\\beta}a^{0\\alpha}a_{1\\alpha}a_{1\\beta}a^{1\\alpha}a^{1\\beta}a_{0\\beta}a_{0\\alpha}\n + -0.00044424211444781285 * a^{1\\beta}a^{1\\alpha}a_{0\\alpha}a_{0\\beta}a^{0\\beta}a^{0\\alpha}a_{1\\alpha}a_{1\\beta}a^{1\\beta}a^{1\\alpha}a_{0\\alpha}a_{0\\beta}\n"
     ]
    }
   ],
   "source": [
    "newbch = BCHSimilarityTransform(hamiltonian, newclusterDoubles, 4)\n",
    "newbch.checkNilpotency()\n",
    "print(newbch)"
   ]
  },
  {
   "cell_type": "code",
   "execution_count": 553,
   "metadata": {
    "tags": []
   },
   "outputs": [
    {
     "output_type": "stream",
     "name": "stdout",
     "text": [
      "0.0\n0.0\n-4.7142356915405136e-17 * a^{1\\alpha}a_{0\\alpha}\n-0.0\n-0.5337491016607854 * a^{1\\alpha}a_{1\\alpha}\n-0.0\n-4.7142356915405136e-17 * a^{1\\beta}a_{0\\beta}\n-0.0\n-0.5337491016607854 * a^{1\\beta}a_{1\\beta}\n-0.0\n-1.1898506186070186 * a^{0\\alpha}a_{0\\alpha}\n-1.1898506186070186\n2.600212552842601e-17 * a^{0\\alpha}a_{1\\alpha}\n0.0\n-1.1898506186070186 * a^{0\\beta}a_{0\\beta}\n-1.1898506186070186\n2.600212552842601e-17 * a^{0\\beta}a_{1\\beta}\n0.0\n0.09376099045135429 * a^{1\\alpha}a^{1\\beta}a_{0\\beta}a_{0\\alpha}\n0\n6.938893903907228e-17 * a^{1\\alpha}a^{1\\beta}a_{0\\beta}a_{1\\alpha}\n0\n0.0 * a^{1\\alpha}a^{1\\beta}a_{0\\beta}a_{0\\alpha}\n0\n2.7755575615628914e-17 * a^{1\\alpha}a^{1\\beta}a_{1\\beta}a_{0\\alpha}\n0\n0.33906809184265285 * a^{1\\alpha}a^{1\\beta}a_{1\\beta}a_{1\\alpha}\n0\n0.3226247132942422 * a^{1\\alpha}a^{0\\alpha}a_{0\\alpha}a_{1\\alpha}\n0\n5.204170427930421e-17 * a^{1\\alpha}a^{0\\beta}a_{0\\beta}a_{0\\alpha}\n0\n0.3226247132942422 * a^{1\\alpha}a^{0\\beta}a_{0\\beta}a_{1\\alpha}\n0\n6.938893903907228e-17 * a^{1\\alpha}a^{0\\beta}a_{1\\beta}a_{1\\alpha}\n0\n0.09376099045135429 * a^{1\\beta}a^{1\\alpha}a_{0\\alpha}a_{0\\beta}\n0\n6.938893903907228e-17 * a^{1\\beta}a^{1\\alpha}a_{0\\alpha}a_{1\\beta}\n0\n0.0 * a^{1\\beta}a^{1\\alpha}a_{0\\alpha}a_{0\\beta}\n0\n2.7755575615628914e-17 * a^{1\\beta}a^{1\\alpha}a_{1\\alpha}a_{0\\beta}\n0\n0.33906809184265285 * a^{1\\beta}a^{1\\alpha}a_{1\\alpha}a_{1\\beta}\n0\n5.204170427930421e-17 * a^{1\\beta}a^{0\\alpha}a_{0\\alpha}a_{0\\beta}\n0\n0.3226247132942422 * a^{1\\beta}a^{0\\alpha}a_{0\\alpha}a_{1\\beta}\n0\n6.938893903907228e-17 * a^{1\\beta}a^{0\\alpha}a_{1\\alpha}a_{1\\beta}\n0\n0.3226247132942422 * a^{1\\beta}a^{0\\beta}a_{0\\beta}a_{1\\beta}\n0\n0.3226247132942424 * a^{0\\alpha}a^{1\\alpha}a_{1\\alpha}a_{0\\alpha}\n0.0\n4.163336342344337e-17 * a^{0\\alpha}a^{1\\beta}a_{0\\beta}a_{0\\alpha}\n0.0\n0.3226247132942424 * a^{0\\alpha}a^{1\\beta}a_{1\\beta}a_{0\\alpha}\n0.0\n2.7755575615628914e-17 * a^{0\\alpha}a^{1\\beta}a_{1\\beta}a_{1\\alpha}\n0\n0.3270047556780619 * a^{0\\alpha}a^{0\\beta}a_{0\\beta}a_{0\\alpha}\n0.3270047556780619\n5.204170427930421e-17 * a^{0\\alpha}a^{0\\beta}a_{0\\beta}a_{1\\alpha}\n0\n4.163336342344337e-17 * a^{0\\alpha}a^{0\\beta}a_{1\\beta}a_{0\\alpha}\n0.0\n0.09376099045135429 * a^{0\\alpha}a^{0\\beta}a_{1\\beta}a_{1\\alpha}\n0\n4.163336342344337e-17 * a^{0\\beta}a^{1\\alpha}a_{0\\alpha}a_{0\\beta}\n0.0\n0.3226247132942424 * a^{0\\beta}a^{1\\alpha}a_{1\\alpha}a_{0\\beta}\n0.0\n2.7755575615628914e-17 * a^{0\\beta}a^{1\\alpha}a_{1\\alpha}a_{1\\beta}\n0\n0.3226247132942424 * a^{0\\beta}a^{1\\beta}a_{1\\beta}a_{0\\beta}\n0.0\n0.3270047556780619 * a^{0\\beta}a^{0\\alpha}a_{0\\alpha}a_{0\\beta}\n0.3270047556780619\n5.204170427930421e-17 * a^{0\\beta}a^{0\\alpha}a_{0\\alpha}a_{1\\beta}\n0\n4.163336342344337e-17 * a^{0\\beta}a^{0\\alpha}a_{1\\alpha}a_{0\\beta}\n0.0\n0.09376099045135429 * a^{0\\beta}a^{0\\alpha}a_{1\\alpha}a_{1\\beta}\n0\n1.1898506186070186 * a^{1\\alpha}a^{1\\beta}a_{0\\beta}a_{0\\alpha}a^{0\\alpha}a_{0\\alpha}\n0\n-2.600212552842601e-17 * a^{1\\alpha}a^{1\\beta}a_{0\\beta}a_{0\\alpha}a^{0\\alpha}a_{1\\alpha}\n0\n1.1898506186070186 * a^{1\\alpha}a^{1\\beta}a_{0\\beta}a_{0\\alpha}a^{0\\beta}a_{0\\beta}\n0\n-2.600212552842601e-17 * a^{1\\alpha}a^{1\\beta}a_{0\\beta}a_{0\\alpha}a^{0\\beta}a_{1\\beta}\n0\n-0.5337491016607854 * a^{1\\alpha}a_{1\\alpha}a^{1\\alpha}a^{1\\beta}a_{0\\beta}a_{0\\alpha}\n0\n-0.5337491016607854 * a^{1\\alpha}a_{1\\alpha}a^{1\\beta}a^{1\\alpha}a_{0\\alpha}a_{0\\beta}\n0\n1.1898506186070186 * a^{1\\beta}a^{1\\alpha}a_{0\\alpha}a_{0\\beta}a^{0\\alpha}a_{0\\alpha}\n0\n-2.600212552842601e-17 * a^{1\\beta}a^{1\\alpha}a_{0\\alpha}a_{0\\beta}a^{0\\alpha}a_{1\\alpha}\n0\n1.1898506186070186 * a^{1\\beta}a^{1\\alpha}a_{0\\alpha}a_{0\\beta}a^{0\\beta}a_{0\\beta}\n0\n-2.600212552842601e-17 * a^{1\\beta}a^{1\\alpha}a_{0\\alpha}a_{0\\beta}a^{0\\beta}a_{1\\beta}\n0\n-0.5337491016607854 * a^{1\\beta}a_{1\\beta}a^{1\\alpha}a^{1\\beta}a_{0\\beta}a_{0\\alpha}\n0\n-0.5337491016607854 * a^{1\\beta}a_{1\\beta}a^{1\\beta}a^{1\\alpha}a_{0\\alpha}a_{0\\beta}\n0\n2.600212552842601e-17 * a^{0\\alpha}a_{1\\alpha}a^{1\\alpha}a^{1\\beta}a_{0\\beta}a_{0\\alpha}\n0.0\n2.600212552842601e-17 * a^{0\\alpha}a_{1\\alpha}a^{1\\beta}a^{1\\alpha}a_{0\\alpha}a_{0\\beta}\n0.0\n2.600212552842601e-17 * a^{0\\beta}a_{1\\beta}a^{1\\alpha}a^{1\\beta}a_{0\\beta}a_{0\\alpha}\n0.0\n2.600212552842601e-17 * a^{0\\beta}a_{1\\beta}a^{1\\beta}a^{1\\alpha}a_{0\\alpha}a_{0\\beta}\n0.0\n-0.3270047556780619 * a^{1\\alpha}a^{1\\beta}a_{0\\beta}a_{0\\alpha}a^{0\\alpha}a^{0\\beta}a_{0\\beta}a_{0\\alpha}\n0\n-5.204170427930421e-17 * a^{1\\alpha}a^{1\\beta}a_{0\\beta}a_{0\\alpha}a^{0\\alpha}a^{0\\beta}a_{0\\beta}a_{1\\alpha}\n0\n-4.163336342344337e-17 * a^{1\\alpha}a^{1\\beta}a_{0\\beta}a_{0\\alpha}a^{0\\alpha}a^{0\\beta}a_{1\\beta}a_{0\\alpha}\n0\n-0.09376099045135429 * a^{1\\alpha}a^{1\\beta}a_{0\\beta}a_{0\\alpha}a^{0\\alpha}a^{0\\beta}a_{1\\beta}a_{1\\alpha}\n0\n-0.3270047556780619 * a^{1\\alpha}a^{1\\beta}a_{0\\beta}a_{0\\alpha}a^{0\\beta}a^{0\\alpha}a_{0\\alpha}a_{0\\beta}\n0\n-5.204170427930421e-17 * a^{1\\alpha}a^{1\\beta}a_{0\\beta}a_{0\\alpha}a^{0\\beta}a^{0\\alpha}a_{0\\alpha}a_{1\\beta}\n0\n-4.163336342344337e-17 * a^{1\\alpha}a^{1\\beta}a_{0\\beta}a_{0\\alpha}a^{0\\beta}a^{0\\alpha}a_{1\\alpha}a_{0\\beta}\n0\n-0.09376099045135429 * a^{1\\alpha}a^{1\\beta}a_{0\\beta}a_{0\\alpha}a^{0\\beta}a^{0\\alpha}a_{1\\alpha}a_{1\\beta}\n0\n0.33906809184265285 * a^{1\\alpha}a^{1\\beta}a_{1\\beta}a_{1\\alpha}a^{1\\alpha}a^{1\\beta}a_{0\\beta}a_{0\\alpha}\n0\n0.33906809184265285 * a^{1\\alpha}a^{1\\beta}a_{1\\beta}a_{1\\alpha}a^{1\\beta}a^{1\\alpha}a_{0\\alpha}a_{0\\beta}\n0\n6.938893903907228e-17 * a^{1\\alpha}a^{0\\beta}a_{1\\beta}a_{1\\alpha}a^{1\\alpha}a^{1\\beta}a_{0\\beta}a_{0\\alpha}\n0\n6.938893903907228e-17 * a^{1\\alpha}a^{0\\beta}a_{1\\beta}a_{1\\alpha}a^{1\\beta}a^{1\\alpha}a_{0\\alpha}a_{0\\beta}\n0\n-0.3270047556780619 * a^{1\\beta}a^{1\\alpha}a_{0\\alpha}a_{0\\beta}a^{0\\alpha}a^{0\\beta}a_{0\\beta}a_{0\\alpha}\n0\n-5.204170427930421e-17 * a^{1\\beta}a^{1\\alpha}a_{0\\alpha}a_{0\\beta}a^{0\\alpha}a^{0\\beta}a_{0\\beta}a_{1\\alpha}\n0\n-4.163336342344337e-17 * a^{1\\beta}a^{1\\alpha}a_{0\\alpha}a_{0\\beta}a^{0\\alpha}a^{0\\beta}a_{1\\beta}a_{0\\alpha}\n0\n-0.09376099045135429 * a^{1\\beta}a^{1\\alpha}a_{0\\alpha}a_{0\\beta}a^{0\\alpha}a^{0\\beta}a_{1\\beta}a_{1\\alpha}\n0\n-0.3270047556780619 * a^{1\\beta}a^{1\\alpha}a_{0\\alpha}a_{0\\beta}a^{0\\beta}a^{0\\alpha}a_{0\\alpha}a_{0\\beta}\n0\n-5.204170427930421e-17 * a^{1\\beta}a^{1\\alpha}a_{0\\alpha}a_{0\\beta}a^{0\\beta}a^{0\\alpha}a_{0\\alpha}a_{1\\beta}\n0\n-4.163336342344337e-17 * a^{1\\beta}a^{1\\alpha}a_{0\\alpha}a_{0\\beta}a^{0\\beta}a^{0\\alpha}a_{1\\alpha}a_{0\\beta}\n0\n-0.09376099045135429 * a^{1\\beta}a^{1\\alpha}a_{0\\alpha}a_{0\\beta}a^{0\\beta}a^{0\\alpha}a_{1\\alpha}a_{1\\beta}\n0\n0.33906809184265285 * a^{1\\beta}a^{1\\alpha}a_{1\\alpha}a_{1\\beta}a^{1\\alpha}a^{1\\beta}a_{0\\beta}a_{0\\alpha}\n0\n0.33906809184265285 * a^{1\\beta}a^{1\\alpha}a_{1\\alpha}a_{1\\beta}a^{1\\beta}a^{1\\alpha}a_{0\\alpha}a_{0\\beta}\n0\n6.938893903907228e-17 * a^{1\\beta}a^{0\\alpha}a_{1\\alpha}a_{1\\beta}a^{1\\alpha}a^{1\\beta}a_{0\\beta}a_{0\\alpha}\n0\n6.938893903907228e-17 * a^{1\\beta}a^{0\\alpha}a_{1\\alpha}a_{1\\beta}a^{1\\beta}a^{1\\alpha}a_{0\\alpha}a_{0\\beta}\n0\n2.7755575615628914e-17 * a^{0\\alpha}a^{1\\beta}a_{1\\beta}a_{1\\alpha}a^{1\\alpha}a^{1\\beta}a_{0\\beta}a_{0\\alpha}\n0\n2.7755575615628914e-17 * a^{0\\alpha}a^{1\\beta}a_{1\\beta}a_{1\\alpha}a^{1\\beta}a^{1\\alpha}a_{0\\alpha}a_{0\\beta}\n0\n0.09376099045135429 * a^{0\\alpha}a^{0\\beta}a_{1\\beta}a_{1\\alpha}a^{1\\alpha}a^{1\\beta}a_{0\\beta}a_{0\\alpha}\n0.09376099045135429\n0.09376099045135429 * a^{0\\alpha}a^{0\\beta}a_{1\\beta}a_{1\\alpha}a^{1\\beta}a^{1\\alpha}a_{0\\alpha}a_{0\\beta}\n0.09376099045135429\n2.7755575615628914e-17 * a^{0\\beta}a^{1\\alpha}a_{1\\alpha}a_{1\\beta}a^{1\\alpha}a^{1\\beta}a_{0\\beta}a_{0\\alpha}\n0\n2.7755575615628914e-17 * a^{0\\beta}a^{1\\alpha}a_{1\\alpha}a_{1\\beta}a^{1\\beta}a^{1\\alpha}a_{0\\alpha}a_{0\\beta}\n0\n0.09376099045135429 * a^{0\\beta}a^{0\\alpha}a_{1\\alpha}a_{1\\beta}a^{1\\alpha}a^{1\\beta}a_{0\\beta}a_{0\\alpha}\n0.09376099045135429\n0.09376099045135429 * a^{0\\beta}a^{0\\alpha}a_{1\\alpha}a_{1\\beta}a^{1\\beta}a^{1\\alpha}a_{0\\alpha}a_{0\\beta}\n0.09376099045135429\n-0.09376099045135429 * a^{1\\alpha}a^{1\\beta}a_{0\\beta}a_{0\\alpha}a^{0\\alpha}a^{0\\beta}a_{1\\beta}a_{1\\alpha}a^{1\\alpha}a^{1\\beta}a_{0\\beta}a_{0\\alpha}\n0\n-0.09376099045135429 * a^{1\\alpha}a^{1\\beta}a_{0\\beta}a_{0\\alpha}a^{0\\alpha}a^{0\\beta}a_{1\\beta}a_{1\\alpha}a^{1\\beta}a^{1\\alpha}a_{0\\alpha}a_{0\\beta}\n0\n-0.09376099045135429 * a^{1\\alpha}a^{1\\beta}a_{0\\beta}a_{0\\alpha}a^{0\\beta}a^{0\\alpha}a_{1\\alpha}a_{1\\beta}a^{1\\alpha}a^{1\\beta}a_{0\\beta}a_{0\\alpha}\n0\n-0.09376099045135429 * a^{1\\alpha}a^{1\\beta}a_{0\\beta}a_{0\\alpha}a^{0\\beta}a^{0\\alpha}a_{1\\alpha}a_{1\\beta}a^{1\\beta}a^{1\\alpha}a_{0\\alpha}a_{0\\beta}\n0\n-0.09376099045135429 * a^{1\\beta}a^{1\\alpha}a_{0\\alpha}a_{0\\beta}a^{0\\alpha}a^{0\\beta}a_{1\\beta}a_{1\\alpha}a^{1\\alpha}a^{1\\beta}a_{0\\beta}a_{0\\alpha}\n0\n-0.09376099045135429 * a^{1\\beta}a^{1\\alpha}a_{0\\alpha}a_{0\\beta}a^{0\\alpha}a^{0\\beta}a_{1\\beta}a_{1\\alpha}a^{1\\beta}a^{1\\alpha}a_{0\\alpha}a_{0\\beta}\n0\n-0.09376099045135429 * a^{1\\beta}a^{1\\alpha}a_{0\\alpha}a_{0\\beta}a^{0\\beta}a^{0\\alpha}a_{1\\alpha}a_{1\\beta}a^{1\\alpha}a^{1\\beta}a_{0\\beta}a_{0\\alpha}\n0\n-0.09376099045135429 * a^{1\\beta}a^{1\\alpha}a_{0\\alpha}a_{0\\beta}a^{0\\beta}a^{0\\alpha}a_{1\\alpha}a_{1\\beta}a^{1\\beta}a^{1\\alpha}a_{0\\alpha}a_{0\\beta}\n0\n"
     ]
    }
   ],
   "source": [
    "for s in bch.summandList:\n",
    "    print(s)\n",
    "    print(vacuumExpectationValue3(s, vacuum))\n"
   ]
  },
  {
   "cell_type": "code",
   "execution_count": 554,
   "metadata": {},
   "outputs": [
    {
     "output_type": "stream",
     "name": "stdout",
     "text": [
      "0.3270047556780619 * a^{0\\alpha}a^{0\\beta}a_{0\\beta}a_{0\\alpha}\n"
     ]
    }
   ],
   "source": [
    "print(bch.summandList[31])"
   ]
  },
  {
   "cell_type": "code",
   "execution_count": 555,
   "metadata": {
    "tags": []
   },
   "outputs": [
    {
     "output_type": "stream",
     "name": "stdout",
     "text": [
      "-1.3506477640524959\n"
     ]
    }
   ],
   "source": [
    "energyEquation = vacuumExpectationValue3(bch, vacuum)\n",
    "print(energyEquation)"
   ]
  },
  {
   "cell_type": "code",
   "execution_count": 556,
   "metadata": {
    "tags": []
   },
   "outputs": [
    {
     "output_type": "stream",
     "name": "stdout",
     "text": [
      "-1.751507250071326\n"
     ]
    }
   ],
   "source": [
    "newenergyEquation = vacuumExpectationValue3(newbch, vacuum)\n",
    "print(newenergyEquation)"
   ]
  },
  {
   "cell_type": "code",
   "execution_count": 557,
   "metadata": {},
   "outputs": [
    {
     "output_type": "stream",
     "name": "stdout",
     "text": [
      "0.0\n + 1.0 * a^{1\\alpha}a^{1\\beta}a_{0\\beta}a_{0\\alpha}\n + 1.0 * a^{1\\beta}a^{1\\alpha}a_{0\\alpha}a_{0\\beta}\n + 0.0\n"
     ]
    }
   ],
   "source": [
    "print(clusterDoubles)"
   ]
  },
  {
   "cell_type": "code",
   "execution_count": 558,
   "metadata": {},
   "outputs": [
    {
     "output_type": "stream",
     "name": "stdout",
     "text": [
      "0.0\n + 1.0 * a^{0\\alpha}a^{0\\beta}a_{1\\beta}a_{1\\alpha}\n + 1.0 * a^{0\\beta}a^{0\\alpha}a_{1\\alpha}a_{1\\beta}\n"
     ]
    }
   ],
   "source": [
    "print(clusterDoubles.conjugate())"
   ]
  },
  {
   "cell_type": "code",
   "execution_count": 559,
   "metadata": {
    "tags": [
     "outputPrepend"
    ]
   },
   "outputs": [
    {
     "output_type": "stream",
     "name": "stdout",
     "text": [
      "pha}a^{0\\beta}a_{1\\beta}a_{1\\alpha}a^{1\\beta}a_{0\\beta}\n + -0.5337491016607854 * a^{0\\alpha}a^{0\\beta}a_{1\\beta}a_{1\\alpha}a^{1\\beta}a_{1\\beta}\n + -4.7142356915405136e-17 * a^{0\\beta}a^{0\\alpha}a_{1\\alpha}a_{1\\beta}a^{1\\alpha}a_{0\\alpha}\n + -0.5337491016607854 * a^{0\\beta}a^{0\\alpha}a_{1\\alpha}a_{1\\beta}a^{1\\alpha}a_{1\\alpha}\n + -4.7142356915405136e-17 * a^{0\\beta}a^{0\\alpha}a_{1\\alpha}a_{1\\beta}a^{1\\beta}a_{0\\beta}\n + -0.5337491016607854 * a^{0\\beta}a^{0\\alpha}a_{1\\alpha}a_{1\\beta}a^{1\\beta}a_{1\\beta}\n + 0.0 * a^{1\\alpha}a^{1\\beta}a_{0\\beta}a_{0\\alpha}a^{0\\alpha}a_{0\\alpha}\n + -0.0 * a^{1\\alpha}a^{1\\beta}a_{0\\beta}a_{0\\alpha}a^{0\\alpha}a_{1\\alpha}\n + 0.0 * a^{1\\alpha}a^{1\\beta}a_{0\\beta}a_{0\\alpha}a^{0\\beta}a_{0\\beta}\n + -0.0 * a^{1\\alpha}a^{1\\beta}a_{0\\beta}a_{0\\alpha}a^{0\\beta}a_{1\\beta}\n + -0.0 * a^{1\\alpha}a_{1\\alpha}a^{1\\alpha}a^{1\\beta}a_{0\\beta}a_{0\\alpha}\n + -0.0 * a^{1\\alpha}a_{1\\alpha}a^{1\\beta}a^{1\\alpha}a_{0\\alpha}a_{0\\beta}\n + 0.0 * a^{1\\beta}a^{1\\alpha}a_{0\\alpha}a_{0\\beta}a^{0\\alpha}a_{0\\alpha}\n + -0.0 * a^{1\\beta}a^{1\\alpha}a_{0\\alpha}a_{0\\beta}a^{0\\alpha}a_{1\\alpha}\n + 0.0 * a^{1\\beta}a^{1\\alpha}a_{0\\alpha}a_{0\\beta}a^{0\\beta}a_{0\\beta}\n + -0.0 * a^{1\\beta}a^{1\\alpha}a_{0\\alpha}a_{0\\beta}a^{0\\beta}a_{1\\beta}\n + -0.0 * a^{1\\beta}a_{1\\beta}a^{1\\alpha}a^{1\\beta}a_{0\\beta}a_{0\\alpha}\n + -0.0 * a^{1\\beta}a_{1\\beta}a^{1\\beta}a^{1\\alpha}a_{0\\alpha}a_{0\\beta}\n + 0.0 * a^{0\\alpha}a_{1\\alpha}a^{1\\alpha}a^{1\\beta}a_{0\\beta}a_{0\\alpha}\n + 0.0 * a^{0\\alpha}a_{1\\alpha}a^{1\\beta}a^{1\\alpha}a_{0\\alpha}a_{0\\beta}\n + 0.0 * a^{0\\beta}a_{1\\beta}a^{1\\alpha}a^{1\\beta}a_{0\\beta}a_{0\\alpha}\n + 0.0 * a^{0\\beta}a_{1\\beta}a^{1\\beta}a^{1\\alpha}a_{0\\alpha}a_{0\\beta}\n + 0.09376099045135429 * a^{0\\alpha}a^{0\\beta}a_{1\\beta}a_{1\\alpha}a^{1\\alpha}a^{1\\beta}a_{0\\beta}a_{0\\alpha}\n + 6.938893903907228e-17 * a^{0\\alpha}a^{0\\beta}a_{1\\beta}a_{1\\alpha}a^{1\\alpha}a^{1\\beta}a_{0\\beta}a_{1\\alpha}\n + 2.7755575615628914e-17 * a^{0\\alpha}a^{0\\beta}a_{1\\beta}a_{1\\alpha}a^{1\\alpha}a^{1\\beta}a_{1\\beta}a_{0\\alpha}\n + 0.33906809184265285 * a^{0\\alpha}a^{0\\beta}a_{1\\beta}a_{1\\alpha}a^{1\\alpha}a^{1\\beta}a_{1\\beta}a_{1\\alpha}\n + 0.09376099045135429 * a^{0\\alpha}a^{0\\beta}a_{1\\beta}a_{1\\alpha}a^{1\\beta}a^{1\\alpha}a_{0\\alpha}a_{0\\beta}\n + 6.938893903907228e-17 * a^{0\\alpha}a^{0\\beta}a_{1\\beta}a_{1\\alpha}a^{1\\beta}a^{1\\alpha}a_{0\\alpha}a_{1\\beta}\n + 2.7755575615628914e-17 * a^{0\\alpha}a^{0\\beta}a_{1\\beta}a_{1\\alpha}a^{1\\beta}a^{1\\alpha}a_{1\\alpha}a_{0\\beta}\n + 0.33906809184265285 * a^{0\\alpha}a^{0\\beta}a_{1\\beta}a_{1\\alpha}a^{1\\beta}a^{1\\alpha}a_{1\\alpha}a_{1\\beta}\n + 0.09376099045135429 * a^{0\\beta}a^{0\\alpha}a_{1\\alpha}a_{1\\beta}a^{1\\alpha}a^{1\\beta}a_{0\\beta}a_{0\\alpha}\n + 6.938893903907228e-17 * a^{0\\beta}a^{0\\alpha}a_{1\\alpha}a_{1\\beta}a^{1\\alpha}a^{1\\beta}a_{0\\beta}a_{1\\alpha}\n + 2.7755575615628914e-17 * a^{0\\beta}a^{0\\alpha}a_{1\\alpha}a_{1\\beta}a^{1\\alpha}a^{1\\beta}a_{1\\beta}a_{0\\alpha}\n + 0.33906809184265285 * a^{0\\beta}a^{0\\alpha}a_{1\\alpha}a_{1\\beta}a^{1\\alpha}a^{1\\beta}a_{1\\beta}a_{1\\alpha}\n + 0.09376099045135429 * a^{0\\beta}a^{0\\alpha}a_{1\\alpha}a_{1\\beta}a^{1\\beta}a^{1\\alpha}a_{0\\alpha}a_{0\\beta}\n + 6.938893903907228e-17 * a^{0\\beta}a^{0\\alpha}a_{1\\alpha}a_{1\\beta}a^{1\\beta}a^{1\\alpha}a_{0\\alpha}a_{1\\beta}\n + 2.7755575615628914e-17 * a^{0\\beta}a^{0\\alpha}a_{1\\alpha}a_{1\\beta}a^{1\\beta}a^{1\\alpha}a_{1\\alpha}a_{0\\beta}\n + 0.33906809184265285 * a^{0\\beta}a^{0\\alpha}a_{1\\alpha}a_{1\\beta}a^{1\\beta}a^{1\\alpha}a_{1\\alpha}a_{1\\beta}\n + -0.0 * a^{1\\alpha}a^{1\\beta}a_{0\\beta}a_{0\\alpha}a^{0\\alpha}a^{0\\beta}a_{0\\beta}a_{0\\alpha}\n + -0.0 * a^{1\\alpha}a^{1\\beta}a_{0\\beta}a_{0\\alpha}a^{0\\alpha}a^{0\\beta}a_{0\\beta}a_{1\\alpha}\n + -0.0 * a^{1\\alpha}a^{1\\beta}a_{0\\beta}a_{0\\alpha}a^{0\\alpha}a^{0\\beta}a_{1\\beta}a_{0\\alpha}\n + -0.0 * a^{1\\alpha}a^{1\\beta}a_{0\\beta}a_{0\\alpha}a^{0\\alpha}a^{0\\beta}a_{1\\beta}a_{1\\alpha}\n + -0.0 * a^{1\\alpha}a^{1\\beta}a_{0\\beta}a_{0\\alpha}a^{0\\beta}a^{0\\alpha}a_{0\\alpha}a_{0\\beta}\n + -0.0 * a^{1\\alpha}a^{1\\beta}a_{0\\beta}a_{0\\alpha}a^{0\\beta}a^{0\\alpha}a_{0\\alpha}a_{1\\beta}\n + -0.0 * a^{1\\alpha}a^{1\\beta}a_{0\\beta}a_{0\\alpha}a^{0\\beta}a^{0\\alpha}a_{1\\alpha}a_{0\\beta}\n + -0.0 * a^{1\\alpha}a^{1\\beta}a_{0\\beta}a_{0\\alpha}a^{0\\beta}a^{0\\alpha}a_{1\\alpha}a_{1\\beta}\n + 0.0 * a^{1\\alpha}a^{1\\beta}a_{1\\beta}a_{1\\alpha}a^{1\\alpha}a^{1\\beta}a_{0\\beta}a_{0\\alpha}\n + 0.0 * a^{1\\alpha}a^{1\\beta}a_{1\\beta}a_{1\\alpha}a^{1\\beta}a^{1\\alpha}a_{0\\alpha}a_{0\\beta}\n + 0.0 * a^{1\\alpha}a^{0\\beta}a_{1\\beta}a_{1\\alpha}a^{1\\alpha}a^{1\\beta}a_{0\\beta}a_{0\\alpha}\n + 0.0 * a^{1\\alpha}a^{0\\beta}a_{1\\beta}a_{1\\alpha}a^{1\\beta}a^{1\\alpha}a_{0\\alpha}a_{0\\beta}\n + -0.0 * a^{1\\beta}a^{1\\alpha}a_{0\\alpha}a_{0\\beta}a^{0\\alpha}a^{0\\beta}a_{0\\beta}a_{0\\alpha}\n + -0.0 * a^{1\\beta}a^{1\\alpha}a_{0\\alpha}a_{0\\beta}a^{0\\alpha}a^{0\\beta}a_{0\\beta}a_{1\\alpha}\n + -0.0 * a^{1\\beta}a^{1\\alpha}a_{0\\alpha}a_{0\\beta}a^{0\\alpha}a^{0\\beta}a_{1\\beta}a_{0\\alpha}\n + -0.0 * a^{1\\beta}a^{1\\alpha}a_{0\\alpha}a_{0\\beta}a^{0\\alpha}a^{0\\beta}a_{1\\beta}a_{1\\alpha}\n + -0.0 * a^{1\\beta}a^{1\\alpha}a_{0\\alpha}a_{0\\beta}a^{0\\beta}a^{0\\alpha}a_{0\\alpha}a_{0\\beta}\n + -0.0 * a^{1\\beta}a^{1\\alpha}a_{0\\alpha}a_{0\\beta}a^{0\\beta}a^{0\\alpha}a_{0\\alpha}a_{1\\beta}\n + -0.0 * a^{1\\beta}a^{1\\alpha}a_{0\\alpha}a_{0\\beta}a^{0\\beta}a^{0\\alpha}a_{1\\alpha}a_{0\\beta}\n + -0.0 * a^{1\\beta}a^{1\\alpha}a_{0\\alpha}a_{0\\beta}a^{0\\beta}a^{0\\alpha}a_{1\\alpha}a_{1\\beta}\n + 0.0 * a^{1\\beta}a^{1\\alpha}a_{1\\alpha}a_{1\\beta}a^{1\\alpha}a^{1\\beta}a_{0\\beta}a_{0\\alpha}\n + 0.0 * a^{1\\beta}a^{1\\alpha}a_{1\\alpha}a_{1\\beta}a^{1\\beta}a^{1\\alpha}a_{0\\alpha}a_{0\\beta}\n + 0.0 * a^{1\\beta}a^{0\\alpha}a_{1\\alpha}a_{1\\beta}a^{1\\alpha}a^{1\\beta}a_{0\\beta}a_{0\\alpha}\n + 0.0 * a^{1\\beta}a^{0\\alpha}a_{1\\alpha}a_{1\\beta}a^{1\\beta}a^{1\\alpha}a_{0\\alpha}a_{0\\beta}\n + 0.0 * a^{0\\alpha}a^{1\\beta}a_{1\\beta}a_{1\\alpha}a^{1\\alpha}a^{1\\beta}a_{0\\beta}a_{0\\alpha}\n + 0.0 * a^{0\\alpha}a^{1\\beta}a_{1\\beta}a_{1\\alpha}a^{1\\beta}a^{1\\alpha}a_{0\\alpha}a_{0\\beta}\n + 0.0 * a^{0\\alpha}a^{0\\beta}a_{1\\beta}a_{1\\alpha}a^{1\\alpha}a^{1\\beta}a_{0\\beta}a_{0\\alpha}\n + 0.0 * a^{0\\alpha}a^{0\\beta}a_{1\\beta}a_{1\\alpha}a^{1\\beta}a^{1\\alpha}a_{0\\alpha}a_{0\\beta}\n + 0.0 * a^{0\\beta}a^{1\\alpha}a_{1\\alpha}a_{1\\beta}a^{1\\alpha}a^{1\\beta}a_{0\\beta}a_{0\\alpha}\n + 0.0 * a^{0\\beta}a^{1\\alpha}a_{1\\alpha}a_{1\\beta}a^{1\\beta}a^{1\\alpha}a_{0\\alpha}a_{0\\beta}\n + 0.0 * a^{0\\beta}a^{0\\alpha}a_{1\\alpha}a_{1\\beta}a^{1\\alpha}a^{1\\beta}a_{0\\beta}a_{0\\alpha}\n + 0.0 * a^{0\\beta}a^{0\\alpha}a_{1\\alpha}a_{1\\beta}a^{1\\beta}a^{1\\alpha}a_{0\\alpha}a_{0\\beta}\n + 1.1898506186070186 * a^{0\\alpha}a^{0\\beta}a_{1\\beta}a_{1\\alpha}a^{1\\alpha}a^{1\\beta}a_{0\\beta}a_{0\\alpha}a^{0\\alpha}a_{0\\alpha}\n + -2.600212552842601e-17 * a^{0\\alpha}a^{0\\beta}a_{1\\beta}a_{1\\alpha}a^{1\\alpha}a^{1\\beta}a_{0\\beta}a_{0\\alpha}a^{0\\alpha}a_{1\\alpha}\n + 1.1898506186070186 * a^{0\\alpha}a^{0\\beta}a_{1\\beta}a_{1\\alpha}a^{1\\alpha}a^{1\\beta}a_{0\\beta}a_{0\\alpha}a^{0\\beta}a_{0\\beta}\n + -2.600212552842601e-17 * a^{0\\alpha}a^{0\\beta}a_{1\\beta}a_{1\\alpha}a^{1\\alpha}a^{1\\beta}a_{0\\beta}a_{0\\alpha}a^{0\\beta}a_{1\\beta}\n + -0.5337491016607854 * a^{0\\alpha}a^{0\\beta}a_{1\\beta}a_{1\\alpha}a^{1\\alpha}a_{1\\alpha}a^{1\\alpha}a^{1\\beta}a_{0\\beta}a_{0\\alpha}\n + -0.5337491016607854 * a^{0\\alpha}a^{0\\beta}a_{1\\beta}a_{1\\alpha}a^{1\\alpha}a_{1\\alpha}a^{1\\beta}a^{1\\alpha}a_{0\\alpha}a_{0\\beta}\n + 1.1898506186070186 * a^{0\\alpha}a^{0\\beta}a_{1\\beta}a_{1\\alpha}a^{1\\beta}a^{1\\alpha}a_{0\\alpha}a_{0\\beta}a^{0\\alpha}a_{0\\alpha}\n + -2.600212552842601e-17 * a^{0\\alpha}a^{0\\beta}a_{1\\beta}a_{1\\alpha}a^{1\\beta}a^{1\\alpha}a_{0\\alpha}a_{0\\beta}a^{0\\alpha}a_{1\\alpha}\n + 1.1898506186070186 * a^{0\\alpha}a^{0\\beta}a_{1\\beta}a_{1\\alpha}a^{1\\beta}a^{1\\alpha}a_{0\\alpha}a_{0\\beta}a^{0\\beta}a_{0\\beta}\n + -2.600212552842601e-17 * a^{0\\alpha}a^{0\\beta}a_{1\\beta}a_{1\\alpha}a^{1\\beta}a^{1\\alpha}a_{0\\alpha}a_{0\\beta}a^{0\\beta}a_{1\\beta}\n + -0.5337491016607854 * a^{0\\alpha}a^{0\\beta}a_{1\\beta}a_{1\\alpha}a^{1\\beta}a_{1\\beta}a^{1\\alpha}a^{1\\beta}a_{0\\beta}a_{0\\alpha}\n + -0.5337491016607854 * a^{0\\alpha}a^{0\\beta}a_{1\\beta}a_{1\\alpha}a^{1\\beta}a_{1\\beta}a^{1\\beta}a^{1\\alpha}a_{0\\alpha}a_{0\\beta}\n + 1.1898506186070186 * a^{0\\beta}a^{0\\alpha}a_{1\\alpha}a_{1\\beta}a^{1\\alpha}a^{1\\beta}a_{0\\beta}a_{0\\alpha}a^{0\\alpha}a_{0\\alpha}\n + -2.600212552842601e-17 * a^{0\\beta}a^{0\\alpha}a_{1\\alpha}a_{1\\beta}a^{1\\alpha}a^{1\\beta}a_{0\\beta}a_{0\\alpha}a^{0\\alpha}a_{1\\alpha}\n + 1.1898506186070186 * a^{0\\beta}a^{0\\alpha}a_{1\\alpha}a_{1\\beta}a^{1\\alpha}a^{1\\beta}a_{0\\beta}a_{0\\alpha}a^{0\\beta}a_{0\\beta}\n + -2.600212552842601e-17 * a^{0\\beta}a^{0\\alpha}a_{1\\alpha}a_{1\\beta}a^{1\\alpha}a^{1\\beta}a_{0\\beta}a_{0\\alpha}a^{0\\beta}a_{1\\beta}\n + -0.5337491016607854 * a^{0\\beta}a^{0\\alpha}a_{1\\alpha}a_{1\\beta}a^{1\\alpha}a_{1\\alpha}a^{1\\alpha}a^{1\\beta}a_{0\\beta}a_{0\\alpha}\n + -0.5337491016607854 * a^{0\\beta}a^{0\\alpha}a_{1\\alpha}a_{1\\beta}a^{1\\alpha}a_{1\\alpha}a^{1\\beta}a^{1\\alpha}a_{0\\alpha}a_{0\\beta}\n + 1.1898506186070186 * a^{0\\beta}a^{0\\alpha}a_{1\\alpha}a_{1\\beta}a^{1\\beta}a^{1\\alpha}a_{0\\alpha}a_{0\\beta}a^{0\\alpha}a_{0\\alpha}\n + -2.600212552842601e-17 * a^{0\\beta}a^{0\\alpha}a_{1\\alpha}a_{1\\beta}a^{1\\beta}a^{1\\alpha}a_{0\\alpha}a_{0\\beta}a^{0\\alpha}a_{1\\alpha}\n + 1.1898506186070186 * a^{0\\beta}a^{0\\alpha}a_{1\\alpha}a_{1\\beta}a^{1\\beta}a^{1\\alpha}a_{0\\alpha}a_{0\\beta}a^{0\\beta}a_{0\\beta}\n + -2.600212552842601e-17 * a^{0\\beta}a^{0\\alpha}a_{1\\alpha}a_{1\\beta}a^{1\\beta}a^{1\\alpha}a_{0\\alpha}a_{0\\beta}a^{0\\beta}a_{1\\beta}\n + -0.5337491016607854 * a^{0\\beta}a^{0\\alpha}a_{1\\alpha}a_{1\\beta}a^{1\\beta}a_{1\\beta}a^{1\\alpha}a^{1\\beta}a_{0\\beta}a_{0\\alpha}\n + -0.5337491016607854 * a^{0\\beta}a^{0\\alpha}a_{1\\alpha}a_{1\\beta}a^{1\\beta}a_{1\\beta}a^{1\\beta}a^{1\\alpha}a_{0\\alpha}a_{0\\beta}\n + -0.3270047556780619 * a^{0\\alpha}a^{0\\beta}a_{1\\beta}a_{1\\alpha}a^{1\\alpha}a^{1\\beta}a_{0\\beta}a_{0\\alpha}a^{0\\alpha}a^{0\\beta}a_{0\\beta}a_{0\\alpha}\n + -5.204170427930421e-17 * a^{0\\alpha}a^{0\\beta}a_{1\\beta}a_{1\\alpha}a^{1\\alpha}a^{1\\beta}a_{0\\beta}a_{0\\alpha}a^{0\\alpha}a^{0\\beta}a_{0\\beta}a_{1\\alpha}\n + -4.163336342344337e-17 * a^{0\\alpha}a^{0\\beta}a_{1\\beta}a_{1\\alpha}a^{1\\alpha}a^{1\\beta}a_{0\\beta}a_{0\\alpha}a^{0\\alpha}a^{0\\beta}a_{1\\beta}a_{0\\alpha}\n + -0.09376099045135429 * a^{0\\alpha}a^{0\\beta}a_{1\\beta}a_{1\\alpha}a^{1\\alpha}a^{1\\beta}a_{0\\beta}a_{0\\alpha}a^{0\\alpha}a^{0\\beta}a_{1\\beta}a_{1\\alpha}\n + -0.3270047556780619 * a^{0\\alpha}a^{0\\beta}a_{1\\beta}a_{1\\alpha}a^{1\\alpha}a^{1\\beta}a_{0\\beta}a_{0\\alpha}a^{0\\beta}a^{0\\alpha}a_{0\\alpha}a_{0\\beta}\n + -5.204170427930421e-17 * a^{0\\alpha}a^{0\\beta}a_{1\\beta}a_{1\\alpha}a^{1\\alpha}a^{1\\beta}a_{0\\beta}a_{0\\alpha}a^{0\\beta}a^{0\\alpha}a_{0\\alpha}a_{1\\beta}\n + -4.163336342344337e-17 * a^{0\\alpha}a^{0\\beta}a_{1\\beta}a_{1\\alpha}a^{1\\alpha}a^{1\\beta}a_{0\\beta}a_{0\\alpha}a^{0\\beta}a^{0\\alpha}a_{1\\alpha}a_{0\\beta}\n + -0.09376099045135429 * a^{0\\alpha}a^{0\\beta}a_{1\\beta}a_{1\\alpha}a^{1\\alpha}a^{1\\beta}a_{0\\beta}a_{0\\alpha}a^{0\\beta}a^{0\\alpha}a_{1\\alpha}a_{1\\beta}\n + 0.33906809184265285 * a^{0\\alpha}a^{0\\beta}a_{1\\beta}a_{1\\alpha}a^{1\\alpha}a^{1\\beta}a_{1\\beta}a_{1\\alpha}a^{1\\alpha}a^{1\\beta}a_{0\\beta}a_{0\\alpha}\n + 0.33906809184265285 * a^{0\\alpha}a^{0\\beta}a_{1\\beta}a_{1\\alpha}a^{1\\alpha}a^{1\\beta}a_{1\\beta}a_{1\\alpha}a^{1\\beta}a^{1\\alpha}a_{0\\alpha}a_{0\\beta}\n + -0.3270047556780619 * a^{0\\alpha}a^{0\\beta}a_{1\\beta}a_{1\\alpha}a^{1\\beta}a^{1\\alpha}a_{0\\alpha}a_{0\\beta}a^{0\\alpha}a^{0\\beta}a_{0\\beta}a_{0\\alpha}\n + -5.204170427930421e-17 * a^{0\\alpha}a^{0\\beta}a_{1\\beta}a_{1\\alpha}a^{1\\beta}a^{1\\alpha}a_{0\\alpha}a_{0\\beta}a^{0\\alpha}a^{0\\beta}a_{0\\beta}a_{1\\alpha}\n + -4.163336342344337e-17 * a^{0\\alpha}a^{0\\beta}a_{1\\beta}a_{1\\alpha}a^{1\\beta}a^{1\\alpha}a_{0\\alpha}a_{0\\beta}a^{0\\alpha}a^{0\\beta}a_{1\\beta}a_{0\\alpha}\n + -0.09376099045135429 * a^{0\\alpha}a^{0\\beta}a_{1\\beta}a_{1\\alpha}a^{1\\beta}a^{1\\alpha}a_{0\\alpha}a_{0\\beta}a^{0\\alpha}a^{0\\beta}a_{1\\beta}a_{1\\alpha}\n + -0.3270047556780619 * a^{0\\alpha}a^{0\\beta}a_{1\\beta}a_{1\\alpha}a^{1\\beta}a^{1\\alpha}a_{0\\alpha}a_{0\\beta}a^{0\\beta}a^{0\\alpha}a_{0\\alpha}a_{0\\beta}\n + -5.204170427930421e-17 * a^{0\\alpha}a^{0\\beta}a_{1\\beta}a_{1\\alpha}a^{1\\beta}a^{1\\alpha}a_{0\\alpha}a_{0\\beta}a^{0\\beta}a^{0\\alpha}a_{0\\alpha}a_{1\\beta}\n + -4.163336342344337e-17 * a^{0\\alpha}a^{0\\beta}a_{1\\beta}a_{1\\alpha}a^{1\\beta}a^{1\\alpha}a_{0\\alpha}a_{0\\beta}a^{0\\beta}a^{0\\alpha}a_{1\\alpha}a_{0\\beta}\n + -0.09376099045135429 * a^{0\\alpha}a^{0\\beta}a_{1\\beta}a_{1\\alpha}a^{1\\beta}a^{1\\alpha}a_{0\\alpha}a_{0\\beta}a^{0\\beta}a^{0\\alpha}a_{1\\alpha}a_{1\\beta}\n + 0.33906809184265285 * a^{0\\alpha}a^{0\\beta}a_{1\\beta}a_{1\\alpha}a^{1\\beta}a^{1\\alpha}a_{1\\alpha}a_{1\\beta}a^{1\\alpha}a^{1\\beta}a_{0\\beta}a_{0\\alpha}\n + 0.33906809184265285 * a^{0\\alpha}a^{0\\beta}a_{1\\beta}a_{1\\alpha}a^{1\\beta}a^{1\\alpha}a_{1\\alpha}a_{1\\beta}a^{1\\beta}a^{1\\alpha}a_{0\\alpha}a_{0\\beta}\n + -0.3270047556780619 * a^{0\\beta}a^{0\\alpha}a_{1\\alpha}a_{1\\beta}a^{1\\alpha}a^{1\\beta}a_{0\\beta}a_{0\\alpha}a^{0\\alpha}a^{0\\beta}a_{0\\beta}a_{0\\alpha}\n + -5.204170427930421e-17 * a^{0\\beta}a^{0\\alpha}a_{1\\alpha}a_{1\\beta}a^{1\\alpha}a^{1\\beta}a_{0\\beta}a_{0\\alpha}a^{0\\alpha}a^{0\\beta}a_{0\\beta}a_{1\\alpha}\n + -4.163336342344337e-17 * a^{0\\beta}a^{0\\alpha}a_{1\\alpha}a_{1\\beta}a^{1\\alpha}a^{1\\beta}a_{0\\beta}a_{0\\alpha}a^{0\\alpha}a^{0\\beta}a_{1\\beta}a_{0\\alpha}\n + -0.09376099045135429 * a^{0\\beta}a^{0\\alpha}a_{1\\alpha}a_{1\\beta}a^{1\\alpha}a^{1\\beta}a_{0\\beta}a_{0\\alpha}a^{0\\alpha}a^{0\\beta}a_{1\\beta}a_{1\\alpha}\n + -0.3270047556780619 * a^{0\\beta}a^{0\\alpha}a_{1\\alpha}a_{1\\beta}a^{1\\alpha}a^{1\\beta}a_{0\\beta}a_{0\\alpha}a^{0\\beta}a^{0\\alpha}a_{0\\alpha}a_{0\\beta}\n + -5.204170427930421e-17 * a^{0\\beta}a^{0\\alpha}a_{1\\alpha}a_{1\\beta}a^{1\\alpha}a^{1\\beta}a_{0\\beta}a_{0\\alpha}a^{0\\beta}a^{0\\alpha}a_{0\\alpha}a_{1\\beta}\n + -4.163336342344337e-17 * a^{0\\beta}a^{0\\alpha}a_{1\\alpha}a_{1\\beta}a^{1\\alpha}a^{1\\beta}a_{0\\beta}a_{0\\alpha}a^{0\\beta}a^{0\\alpha}a_{1\\alpha}a_{0\\beta}\n + -0.09376099045135429 * a^{0\\beta}a^{0\\alpha}a_{1\\alpha}a_{1\\beta}a^{1\\alpha}a^{1\\beta}a_{0\\beta}a_{0\\alpha}a^{0\\beta}a^{0\\alpha}a_{1\\alpha}a_{1\\beta}\n + 0.33906809184265285 * a^{0\\beta}a^{0\\alpha}a_{1\\alpha}a_{1\\beta}a^{1\\alpha}a^{1\\beta}a_{1\\beta}a_{1\\alpha}a^{1\\alpha}a^{1\\beta}a_{0\\beta}a_{0\\alpha}\n + 0.33906809184265285 * a^{0\\beta}a^{0\\alpha}a_{1\\alpha}a_{1\\beta}a^{1\\alpha}a^{1\\beta}a_{1\\beta}a_{1\\alpha}a^{1\\beta}a^{1\\alpha}a_{0\\alpha}a_{0\\beta}\n + -0.3270047556780619 * a^{0\\beta}a^{0\\alpha}a_{1\\alpha}a_{1\\beta}a^{1\\beta}a^{1\\alpha}a_{0\\alpha}a_{0\\beta}a^{0\\alpha}a^{0\\beta}a_{0\\beta}a_{0\\alpha}\n + -5.204170427930421e-17 * a^{0\\beta}a^{0\\alpha}a_{1\\alpha}a_{1\\beta}a^{1\\beta}a^{1\\alpha}a_{0\\alpha}a_{0\\beta}a^{0\\alpha}a^{0\\beta}a_{0\\beta}a_{1\\alpha}\n + -4.163336342344337e-17 * a^{0\\beta}a^{0\\alpha}a_{1\\alpha}a_{1\\beta}a^{1\\beta}a^{1\\alpha}a_{0\\alpha}a_{0\\beta}a^{0\\alpha}a^{0\\beta}a_{1\\beta}a_{0\\alpha}\n + -0.09376099045135429 * a^{0\\beta}a^{0\\alpha}a_{1\\alpha}a_{1\\beta}a^{1\\beta}a^{1\\alpha}a_{0\\alpha}a_{0\\beta}a^{0\\alpha}a^{0\\beta}a_{1\\beta}a_{1\\alpha}\n + -0.3270047556780619 * a^{0\\beta}a^{0\\alpha}a_{1\\alpha}a_{1\\beta}a^{1\\beta}a^{1\\alpha}a_{0\\alpha}a_{0\\beta}a^{0\\beta}a^{0\\alpha}a_{0\\alpha}a_{0\\beta}\n + -5.204170427930421e-17 * a^{0\\beta}a^{0\\alpha}a_{1\\alpha}a_{1\\beta}a^{1\\beta}a^{1\\alpha}a_{0\\alpha}a_{0\\beta}a^{0\\beta}a^{0\\alpha}a_{0\\alpha}a_{1\\beta}\n + -4.163336342344337e-17 * a^{0\\beta}a^{0\\alpha}a_{1\\alpha}a_{1\\beta}a^{1\\beta}a^{1\\alpha}a_{0\\alpha}a_{0\\beta}a^{0\\beta}a^{0\\alpha}a_{1\\alpha}a_{0\\beta}\n + -0.09376099045135429 * a^{0\\beta}a^{0\\alpha}a_{1\\alpha}a_{1\\beta}a^{1\\beta}a^{1\\alpha}a_{0\\alpha}a_{0\\beta}a^{0\\beta}a^{0\\alpha}a_{1\\alpha}a_{1\\beta}\n + 0.33906809184265285 * a^{0\\beta}a^{0\\alpha}a_{1\\alpha}a_{1\\beta}a^{1\\beta}a^{1\\alpha}a_{1\\alpha}a_{1\\beta}a^{1\\alpha}a^{1\\beta}a_{0\\beta}a_{0\\alpha}\n + 0.33906809184265285 * a^{0\\beta}a^{0\\alpha}a_{1\\alpha}a_{1\\beta}a^{1\\beta}a^{1\\alpha}a_{1\\alpha}a_{1\\beta}a^{1\\beta}a^{1\\alpha}a_{0\\alpha}a_{0\\beta}\n + -0.0 * a^{1\\alpha}a^{1\\beta}a_{0\\beta}a_{0\\alpha}a^{0\\alpha}a^{0\\beta}a_{1\\beta}a_{1\\alpha}a^{1\\alpha}a^{1\\beta}a_{0\\beta}a_{0\\alpha}\n + -0.0 * a^{1\\alpha}a^{1\\beta}a_{0\\beta}a_{0\\alpha}a^{0\\alpha}a^{0\\beta}a_{1\\beta}a_{1\\alpha}a^{1\\beta}a^{1\\alpha}a_{0\\alpha}a_{0\\beta}\n + -0.0 * a^{1\\alpha}a^{1\\beta}a_{0\\beta}a_{0\\alpha}a^{0\\beta}a^{0\\alpha}a_{1\\alpha}a_{1\\beta}a^{1\\alpha}a^{1\\beta}a_{0\\beta}a_{0\\alpha}\n + -0.0 * a^{1\\alpha}a^{1\\beta}a_{0\\beta}a_{0\\alpha}a^{0\\beta}a^{0\\alpha}a_{1\\alpha}a_{1\\beta}a^{1\\beta}a^{1\\alpha}a_{0\\alpha}a_{0\\beta}\n + -0.0 * a^{1\\beta}a^{1\\alpha}a_{0\\alpha}a_{0\\beta}a^{0\\alpha}a^{0\\beta}a_{1\\beta}a_{1\\alpha}a^{1\\alpha}a^{1\\beta}a_{0\\beta}a_{0\\alpha}\n + -0.0 * a^{1\\beta}a^{1\\alpha}a_{0\\alpha}a_{0\\beta}a^{0\\alpha}a^{0\\beta}a_{1\\beta}a_{1\\alpha}a^{1\\beta}a^{1\\alpha}a_{0\\alpha}a_{0\\beta}\n + -0.0 * a^{1\\beta}a^{1\\alpha}a_{0\\alpha}a_{0\\beta}a^{0\\beta}a^{0\\alpha}a_{1\\alpha}a_{1\\beta}a^{1\\alpha}a^{1\\beta}a_{0\\beta}a_{0\\alpha}\n + -0.0 * a^{1\\beta}a^{1\\alpha}a_{0\\alpha}a_{0\\beta}a^{0\\beta}a^{0\\alpha}a_{1\\alpha}a_{1\\beta}a^{1\\beta}a^{1\\alpha}a_{0\\alpha}a_{0\\beta}\n + -0.09376099045135429 * a^{0\\alpha}a^{0\\beta}a_{1\\beta}a_{1\\alpha}a^{1\\alpha}a^{1\\beta}a_{0\\beta}a_{0\\alpha}a^{0\\alpha}a^{0\\beta}a_{1\\beta}a_{1\\alpha}a^{1\\alpha}a^{1\\beta}a_{0\\beta}a_{0\\alpha}\n + -0.09376099045135429 * a^{0\\alpha}a^{0\\beta}a_{1\\beta}a_{1\\alpha}a^{1\\alpha}a^{1\\beta}a_{0\\beta}a_{0\\alpha}a^{0\\alpha}a^{0\\beta}a_{1\\beta}a_{1\\alpha}a^{1\\beta}a^{1\\alpha}a_{0\\alpha}a_{0\\beta}\n + -0.09376099045135429 * a^{0\\alpha}a^{0\\beta}a_{1\\beta}a_{1\\alpha}a^{1\\alpha}a^{1\\beta}a_{0\\beta}a_{0\\alpha}a^{0\\beta}a^{0\\alpha}a_{1\\alpha}a_{1\\beta}a^{1\\alpha}a^{1\\beta}a_{0\\beta}a_{0\\alpha}\n + -0.09376099045135429 * a^{0\\alpha}a^{0\\beta}a_{1\\beta}a_{1\\alpha}a^{1\\alpha}a^{1\\beta}a_{0\\beta}a_{0\\alpha}a^{0\\beta}a^{0\\alpha}a_{1\\alpha}a_{1\\beta}a^{1\\beta}a^{1\\alpha}a_{0\\alpha}a_{0\\beta}\n + -0.09376099045135429 * a^{0\\alpha}a^{0\\beta}a_{1\\beta}a_{1\\alpha}a^{1\\beta}a^{1\\alpha}a_{0\\alpha}a_{0\\beta}a^{0\\alpha}a^{0\\beta}a_{1\\beta}a_{1\\alpha}a^{1\\alpha}a^{1\\beta}a_{0\\beta}a_{0\\alpha}\n + -0.09376099045135429 * a^{0\\alpha}a^{0\\beta}a_{1\\beta}a_{1\\alpha}a^{1\\beta}a^{1\\alpha}a_{0\\alpha}a_{0\\beta}a^{0\\alpha}a^{0\\beta}a_{1\\beta}a_{1\\alpha}a^{1\\beta}a^{1\\alpha}a_{0\\alpha}a_{0\\beta}\n + -0.09376099045135429 * a^{0\\alpha}a^{0\\beta}a_{1\\beta}a_{1\\alpha}a^{1\\beta}a^{1\\alpha}a_{0\\alpha}a_{0\\beta}a^{0\\beta}a^{0\\alpha}a_{1\\alpha}a_{1\\beta}a^{1\\alpha}a^{1\\beta}a_{0\\beta}a_{0\\alpha}\n + -0.09376099045135429 * a^{0\\alpha}a^{0\\beta}a_{1\\beta}a_{1\\alpha}a^{1\\beta}a^{1\\alpha}a_{0\\alpha}a_{0\\beta}a^{0\\beta}a^{0\\alpha}a_{1\\alpha}a_{1\\beta}a^{1\\beta}a^{1\\alpha}a_{0\\alpha}a_{0\\beta}\n + -0.09376099045135429 * a^{0\\beta}a^{0\\alpha}a_{1\\alpha}a_{1\\beta}a^{1\\alpha}a^{1\\beta}a_{0\\beta}a_{0\\alpha}a^{0\\alpha}a^{0\\beta}a_{1\\beta}a_{1\\alpha}a^{1\\alpha}a^{1\\beta}a_{0\\beta}a_{0\\alpha}\n + -0.09376099045135429 * a^{0\\beta}a^{0\\alpha}a_{1\\alpha}a_{1\\beta}a^{1\\alpha}a^{1\\beta}a_{0\\beta}a_{0\\alpha}a^{0\\alpha}a^{0\\beta}a_{1\\beta}a_{1\\alpha}a^{1\\beta}a^{1\\alpha}a_{0\\alpha}a_{0\\beta}\n + -0.09376099045135429 * a^{0\\beta}a^{0\\alpha}a_{1\\alpha}a_{1\\beta}a^{1\\alpha}a^{1\\beta}a_{0\\beta}a_{0\\alpha}a^{0\\beta}a^{0\\alpha}a_{1\\alpha}a_{1\\beta}a^{1\\alpha}a^{1\\beta}a_{0\\beta}a_{0\\alpha}\n + -0.09376099045135429 * a^{0\\beta}a^{0\\alpha}a_{1\\alpha}a_{1\\beta}a^{1\\alpha}a^{1\\beta}a_{0\\beta}a_{0\\alpha}a^{0\\beta}a^{0\\alpha}a_{1\\alpha}a_{1\\beta}a^{1\\beta}a^{1\\alpha}a_{0\\alpha}a_{0\\beta}\n + -0.09376099045135429 * a^{0\\beta}a^{0\\alpha}a_{1\\alpha}a_{1\\beta}a^{1\\beta}a^{1\\alpha}a_{0\\alpha}a_{0\\beta}a^{0\\alpha}a^{0\\beta}a_{1\\beta}a_{1\\alpha}a^{1\\alpha}a^{1\\beta}a_{0\\beta}a_{0\\alpha}\n + -0.09376099045135429 * a^{0\\beta}a^{0\\alpha}a_{1\\alpha}a_{1\\beta}a^{1\\beta}a^{1\\alpha}a_{0\\alpha}a_{0\\beta}a^{0\\alpha}a^{0\\beta}a_{1\\beta}a_{1\\alpha}a^{1\\beta}a^{1\\alpha}a_{0\\alpha}a_{0\\beta}\n + -0.09376099045135429 * a^{0\\beta}a^{0\\alpha}a_{1\\alpha}a_{1\\beta}a^{1\\beta}a^{1\\alpha}a_{0\\alpha}a_{0\\beta}a^{0\\beta}a^{0\\alpha}a_{1\\alpha}a_{1\\beta}a^{1\\alpha}a^{1\\beta}a_{0\\beta}a_{0\\alpha}\n + -0.09376099045135429 * a^{0\\beta}a^{0\\alpha}a_{1\\alpha}a_{1\\beta}a^{1\\beta}a^{1\\alpha}a_{0\\alpha}a_{0\\beta}a^{0\\beta}a^{0\\alpha}a_{1\\alpha}a_{1\\beta}a^{1\\beta}a^{1\\alpha}a_{0\\alpha}a_{0\\beta}\n"
     ]
    }
   ],
   "source": [
    "projected = clusterDoubles.conjugate() * bch\n",
    "projected.checkNilpotency()\n",
    "print(projected)"
   ]
  },
  {
   "cell_type": "code",
   "execution_count": 560,
   "metadata": {},
   "outputs": [
    {
     "output_type": "stream",
     "name": "stdout",
     "text": [
      "0.0\n + -0.0 * a^{0\\alpha}a^{0\\beta}a_{1\\beta}a_{1\\alpha}\n + 3.2449653383791726e-18 * a^{0\\alpha}a^{0\\beta}a_{1\\beta}a_{1\\alpha}a^{1\\alpha}a_{0\\alpha}\n + 0.036739727234857224 * a^{0\\alpha}a^{0\\beta}a_{1\\beta}a_{1\\alpha}a^{1\\alpha}a_{1\\alpha}\n + 3.2449653383791726e-18 * a^{0\\alpha}a^{0\\beta}a_{1\\beta}a_{1\\alpha}a^{1\\beta}a_{0\\beta}\n + 0.036739727234857224 * a^{0\\alpha}a^{0\\beta}a_{1\\beta}a_{1\\alpha}a^{1\\beta}a_{1\\beta}\n + -0.006453881053353154 * a^{0\\alpha}a^{0\\beta}a_{1\\beta}a_{1\\alpha}a^{1\\alpha}a^{1\\beta}a_{0\\beta}a_{0\\alpha}\n + -4.7762716330187526e-18 * a^{0\\alpha}a^{0\\beta}a_{1\\beta}a_{1\\alpha}a^{1\\alpha}a^{1\\beta}a_{0\\beta}a_{1\\alpha}\n + -1.910508653207501e-18 * a^{0\\alpha}a^{0\\beta}a_{1\\beta}a_{1\\alpha}a^{1\\alpha}a^{1\\beta}a_{1\\beta}a_{0\\alpha}\n + -0.023339185339293696 * a^{0\\alpha}a^{0\\beta}a_{1\\beta}a_{1\\alpha}a^{1\\alpha}a^{1\\beta}a_{1\\beta}a_{1\\alpha}\n + -0.006453881053353154 * a^{0\\alpha}a^{0\\beta}a_{1\\beta}a_{1\\alpha}a^{1\\beta}a^{1\\alpha}a_{0\\alpha}a_{0\\beta}\n + -4.7762716330187526e-18 * a^{0\\alpha}a^{0\\beta}a_{1\\beta}a_{1\\alpha}a^{1\\beta}a^{1\\alpha}a_{0\\alpha}a_{1\\beta}\n + -1.910508653207501e-18 * a^{0\\alpha}a^{0\\beta}a_{1\\beta}a_{1\\alpha}a^{1\\beta}a^{1\\alpha}a_{1\\alpha}a_{0\\beta}\n + -0.023339185339293696 * a^{0\\alpha}a^{0\\beta}a_{1\\beta}a_{1\\alpha}a^{1\\beta}a^{1\\alpha}a_{1\\alpha}a_{1\\beta}\n + 0.005637544485638325 * a^{0\\alpha}a^{0\\beta}a_{1\\beta}a_{1\\alpha}a^{1\\alpha}a^{1\\beta}a_{0\\beta}a_{0\\alpha}a^{0\\alpha}a_{0\\alpha}\n + -1.231987756238402e-19 * a^{0\\alpha}a^{0\\beta}a_{1\\beta}a_{1\\alpha}a^{1\\alpha}a^{1\\beta}a_{0\\beta}a_{0\\alpha}a^{0\\alpha}a_{1\\alpha}\n + 0.005637544485638325 * a^{0\\alpha}a^{0\\beta}a_{1\\beta}a_{1\\alpha}a^{1\\alpha}a^{1\\beta}a_{0\\beta}a_{0\\alpha}a^{0\\beta}a_{0\\beta}\n + -1.231987756238402e-19 * a^{0\\alpha}a^{0\\beta}a_{1\\beta}a_{1\\alpha}a^{1\\alpha}a^{1\\beta}a_{0\\beta}a_{0\\alpha}a^{0\\beta}a_{1\\beta}\n + -0.0025289177126326208 * a^{0\\alpha}a^{0\\beta}a_{1\\beta}a_{1\\alpha}a^{1\\alpha}a_{1\\alpha}a^{1\\alpha}a^{1\\beta}a_{0\\beta}a_{0\\alpha}\n + -0.0025289177126326208 * a^{0\\alpha}a^{0\\beta}a_{1\\beta}a_{1\\alpha}a^{1\\alpha}a_{1\\alpha}a^{1\\beta}a^{1\\alpha}a_{0\\alpha}a_{0\\beta}\n + 0.005637544485638325 * a^{0\\alpha}a^{0\\beta}a_{1\\beta}a_{1\\alpha}a^{1\\beta}a^{1\\alpha}a_{0\\alpha}a_{0\\beta}a^{0\\alpha}a_{0\\alpha}\n + -1.231987756238402e-19 * a^{0\\alpha}a^{0\\beta}a_{1\\beta}a_{1\\alpha}a^{1\\beta}a^{1\\alpha}a_{0\\alpha}a_{0\\beta}a^{0\\alpha}a_{1\\alpha}\n + 0.005637544485638325 * a^{0\\alpha}a^{0\\beta}a_{1\\beta}a_{1\\alpha}a^{1\\beta}a^{1\\alpha}a_{0\\alpha}a_{0\\beta}a^{0\\beta}a_{0\\beta}\n + -1.231987756238402e-19 * a^{0\\alpha}a^{0\\beta}a_{1\\beta}a_{1\\alpha}a^{1\\beta}a^{1\\alpha}a_{0\\alpha}a_{0\\beta}a^{0\\beta}a_{1\\beta}\n + -0.0025289177126326208 * a^{0\\alpha}a^{0\\beta}a_{1\\beta}a_{1\\alpha}a^{1\\beta}a_{1\\beta}a^{1\\alpha}a^{1\\beta}a_{0\\beta}a_{0\\alpha}\n + -0.0025289177126326208 * a^{0\\alpha}a^{0\\beta}a_{1\\beta}a_{1\\alpha}a^{1\\beta}a_{1\\beta}a^{1\\beta}a^{1\\alpha}a_{0\\alpha}a_{0\\beta}\n + -0.0015493573969046568 * a^{0\\alpha}a^{0\\beta}a_{1\\beta}a_{1\\alpha}a^{1\\alpha}a^{1\\beta}a_{0\\beta}a_{0\\alpha}a^{0\\alpha}a^{0\\beta}a_{0\\beta}a_{0\\alpha}\n + -2.465750056309474e-19 * a^{0\\alpha}a^{0\\beta}a_{1\\beta}a_{1\\alpha}a^{1\\alpha}a^{1\\beta}a_{0\\beta}a_{0\\alpha}a^{0\\alpha}a^{0\\beta}a_{0\\beta}a_{1\\alpha}\n + -1.9726000450475795e-19 * a^{0\\alpha}a^{0\\beta}a_{1\\beta}a_{1\\alpha}a^{1\\alpha}a^{1\\beta}a_{0\\beta}a_{0\\alpha}a^{0\\alpha}a^{0\\beta}a_{1\\beta}a_{0\\alpha}\n + -0.00044424211444781285 * a^{0\\alpha}a^{0\\beta}a_{1\\beta}a_{1\\alpha}a^{1\\alpha}a^{1\\beta}a_{0\\beta}a_{0\\alpha}a^{0\\alpha}a^{0\\beta}a_{1\\beta}a_{1\\alpha}\n + -0.0015493573969046568 * a^{0\\alpha}a^{0\\beta}a_{1\\beta}a_{1\\alpha}a^{1\\alpha}a^{1\\beta}a_{0\\beta}a_{0\\alpha}a^{0\\beta}a^{0\\alpha}a_{0\\alpha}a_{0\\beta}\n + -2.465750056309474e-19 * a^{0\\alpha}a^{0\\beta}a_{1\\beta}a_{1\\alpha}a^{1\\alpha}a^{1\\beta}a_{0\\beta}a_{0\\alpha}a^{0\\beta}a^{0\\alpha}a_{0\\alpha}a_{1\\beta}\n + -1.9726000450475795e-19 * a^{0\\alpha}a^{0\\beta}a_{1\\beta}a_{1\\alpha}a^{1\\alpha}a^{1\\beta}a_{0\\beta}a_{0\\alpha}a^{0\\beta}a^{0\\alpha}a_{1\\alpha}a_{0\\beta}\n + -0.00044424211444781285 * a^{0\\alpha}a^{0\\beta}a_{1\\beta}a_{1\\alpha}a^{1\\alpha}a^{1\\beta}a_{0\\beta}a_{0\\alpha}a^{0\\beta}a^{0\\alpha}a_{1\\alpha}a_{1\\beta}\n + 0.001606513810667511 * a^{0\\alpha}a^{0\\beta}a_{1\\beta}a_{1\\alpha}a^{1\\alpha}a^{1\\beta}a_{1\\beta}a_{1\\alpha}a^{1\\alpha}a^{1\\beta}a_{0\\beta}a_{0\\alpha}\n + 0.001606513810667511 * a^{0\\alpha}a^{0\\beta}a_{1\\beta}a_{1\\alpha}a^{1\\alpha}a^{1\\beta}a_{1\\beta}a_{1\\alpha}a^{1\\beta}a^{1\\alpha}a_{0\\alpha}a_{0\\beta}\n + -0.0015493573969046568 * a^{0\\alpha}a^{0\\beta}a_{1\\beta}a_{1\\alpha}a^{1\\beta}a^{1\\alpha}a_{0\\alpha}a_{0\\beta}a^{0\\alpha}a^{0\\beta}a_{0\\beta}a_{0\\alpha}\n + -2.465750056309474e-19 * a^{0\\alpha}a^{0\\beta}a_{1\\beta}a_{1\\alpha}a^{1\\beta}a^{1\\alpha}a_{0\\alpha}a_{0\\beta}a^{0\\alpha}a^{0\\beta}a_{0\\beta}a_{1\\alpha}\n + -1.9726000450475795e-19 * a^{0\\alpha}a^{0\\beta}a_{1\\beta}a_{1\\alpha}a^{1\\beta}a^{1\\alpha}a_{0\\alpha}a_{0\\beta}a^{0\\alpha}a^{0\\beta}a_{1\\beta}a_{0\\alpha}\n + -0.00044424211444781285 * a^{0\\alpha}a^{0\\beta}a_{1\\beta}a_{1\\alpha}a^{1\\beta}a^{1\\alpha}a_{0\\alpha}a_{0\\beta}a^{0\\alpha}a^{0\\beta}a_{1\\beta}a_{1\\alpha}\n + -0.0015493573969046568 * a^{0\\alpha}a^{0\\beta}a_{1\\beta}a_{1\\alpha}a^{1\\beta}a^{1\\alpha}a_{0\\alpha}a_{0\\beta}a^{0\\beta}a^{0\\alpha}a_{0\\alpha}a_{0\\beta}\n + -2.465750056309474e-19 * a^{0\\alpha}a^{0\\beta}a_{1\\beta}a_{1\\alpha}a^{1\\beta}a^{1\\alpha}a_{0\\alpha}a_{0\\beta}a^{0\\beta}a^{0\\alpha}a_{0\\alpha}a_{1\\beta}\n + -1.9726000450475795e-19 * a^{0\\alpha}a^{0\\beta}a_{1\\beta}a_{1\\alpha}a^{1\\beta}a^{1\\alpha}a_{0\\alpha}a_{0\\beta}a^{0\\beta}a^{0\\alpha}a_{1\\alpha}a_{0\\beta}\n + -0.00044424211444781285 * a^{0\\alpha}a^{0\\beta}a_{1\\beta}a_{1\\alpha}a^{1\\beta}a^{1\\alpha}a_{0\\alpha}a_{0\\beta}a^{0\\beta}a^{0\\alpha}a_{1\\alpha}a_{1\\beta}\n + 0.001606513810667511 * a^{0\\alpha}a^{0\\beta}a_{1\\beta}a_{1\\alpha}a^{1\\beta}a^{1\\alpha}a_{1\\alpha}a_{1\\beta}a^{1\\alpha}a^{1\\beta}a_{0\\beta}a_{0\\alpha}\n + 0.001606513810667511 * a^{0\\alpha}a^{0\\beta}a_{1\\beta}a_{1\\alpha}a^{1\\beta}a^{1\\alpha}a_{1\\alpha}a_{1\\beta}a^{1\\beta}a^{1\\alpha}a_{0\\alpha}a_{0\\beta}\n + 3.057866338372144e-05 * a^{0\\alpha}a^{0\\beta}a_{1\\beta}a_{1\\alpha}a^{1\\alpha}a^{1\\beta}a_{0\\beta}a_{0\\alpha}a^{0\\alpha}a^{0\\beta}a_{1\\beta}a_{1\\alpha}a^{1\\alpha}a^{1\\beta}a_{0\\beta}a_{0\\alpha}\n + 3.057866338372144e-05 * a^{0\\alpha}a^{0\\beta}a_{1\\beta}a_{1\\alpha}a^{1\\alpha}a^{1\\beta}a_{0\\beta}a_{0\\alpha}a^{0\\alpha}a^{0\\beta}a_{1\\beta}a_{1\\alpha}a^{1\\beta}a^{1\\alpha}a_{0\\alpha}a_{0\\beta}\n + 3.057866338372144e-05 * a^{0\\alpha}a^{0\\beta}a_{1\\beta}a_{1\\alpha}a^{1\\alpha}a^{1\\beta}a_{0\\beta}a_{0\\alpha}a^{0\\beta}a^{0\\alpha}a_{1\\alpha}a_{1\\beta}a^{1\\alpha}a^{1\\beta}a_{0\\beta}a_{0\\alpha}\n + 3.057866338372144e-05 * a^{0\\alpha}a^{0\\beta}a_{1\\beta}a_{1\\alpha}a^{1\\alpha}a^{1\\beta}a_{0\\beta}a_{0\\alpha}a^{0\\beta}a^{0\\alpha}a_{1\\alpha}a_{1\\beta}a^{1\\beta}a^{1\\alpha}a_{0\\alpha}a_{0\\beta}\n + 3.057866338372144e-05 * a^{0\\alpha}a^{0\\beta}a_{1\\beta}a_{1\\alpha}a^{1\\beta}a^{1\\alpha}a_{0\\alpha}a_{0\\beta}a^{0\\alpha}a^{0\\beta}a_{1\\beta}a_{1\\alpha}a^{1\\alpha}a^{1\\beta}a_{0\\beta}a_{0\\alpha}\n + 3.057866338372144e-05 * a^{0\\alpha}a^{0\\beta}a_{1\\beta}a_{1\\alpha}a^{1\\beta}a^{1\\alpha}a_{0\\alpha}a_{0\\beta}a^{0\\alpha}a^{0\\beta}a_{1\\beta}a_{1\\alpha}a^{1\\beta}a^{1\\alpha}a_{0\\alpha}a_{0\\beta}\n + 3.057866338372144e-05 * a^{0\\alpha}a^{0\\beta}a_{1\\beta}a_{1\\alpha}a^{1\\beta}a^{1\\alpha}a_{0\\alpha}a_{0\\beta}a^{0\\beta}a^{0\\alpha}a_{1\\alpha}a_{1\\beta}a^{1\\alpha}a^{1\\beta}a_{0\\beta}a_{0\\alpha}\n + 3.057866338372144e-05 * a^{0\\alpha}a^{0\\beta}a_{1\\beta}a_{1\\alpha}a^{1\\beta}a^{1\\alpha}a_{0\\alpha}a_{0\\beta}a^{0\\beta}a^{0\\alpha}a_{1\\alpha}a_{1\\beta}a^{1\\beta}a^{1\\alpha}a_{0\\alpha}a_{0\\beta}\n"
     ]
    }
   ],
   "source": [
    "newprojected = newclusterDoubles.summandList[1].conjugate() * newbch\n",
    "newprojected.checkNilpotency()\n",
    "print(newprojected)"
   ]
  },
  {
   "cell_type": "code",
   "execution_count": 561,
   "metadata": {
    "tags": []
   },
   "outputs": [],
   "source": [
    "#print(getPositionsForMultipleContraction(newprojected.summandList[42], 8))\n",
    "#print(sumNFoldContractions(newprojected.summandList[42], 8))"
   ]
  },
  {
   "cell_type": "code",
   "execution_count": 562,
   "metadata": {
    "tags": []
   },
   "outputs": [
    {
     "output_type": "stream",
     "name": "stdout",
     "text": [
      "4.2201869394703415\n"
     ]
    }
   ],
   "source": [
    "projectedAmplitudeEquation = vacuumExpectationValue3(projected, vacuum)\n",
    "print(projectedAmplitudeEquation)"
   ]
  },
  {
   "cell_type": "code",
   "execution_count": 563,
   "metadata": {},
   "outputs": [
    {
     "output_type": "stream",
     "name": "stdout",
     "text": [
      "-5.256230352227234e-11\n"
     ]
    }
   ],
   "source": [
    "newprojectedAmplitudeEquation = vacuumExpectationValue3(newprojected, vacuum)\n",
    "print(newprojectedAmplitudeEquation)"
   ]
  },
  {
   "cell_type": "code",
   "execution_count": 564,
   "metadata": {},
   "outputs": [
    {
     "output_type": "stream",
     "name": "stdout",
     "text": [
      "-1.1026388111917234\n"
     ]
    }
   ],
   "source": [
    "hartreeFockElectronicEnergy = vacuumExpectationValue3(hamiltonian, vacuum)\n",
    "hartreeFockEnergy = hartreeFockElectronicEnergy + mol.energy_nuc()\n",
    "print(hartreeFockEnergy)"
   ]
  },
  {
   "cell_type": "code",
   "execution_count": 565,
   "metadata": {},
   "outputs": [
    {
     "output_type": "execute_result",
     "data": {
      "text/plain": [
       "(-1.1284543355083052,\n",
       " array([[ 9.90656547e-01,  2.77555756e-17],\n",
       "        [ 1.91460513e-17, -1.36380375e-01]]))"
      ]
     },
     "metadata": {},
     "execution_count": 565
    }
   ],
   "source": [
    "cisolver.kernel()"
   ]
  },
  {
   "cell_type": "code",
   "execution_count": 566,
   "metadata": {},
   "outputs": [
    {
     "output_type": "execute_result",
     "data": {
      "text/plain": [
       "-1.3506477640524959"
      ]
     },
     "metadata": {},
     "execution_count": 566
    }
   ],
   "source": [
    "vacuumExpectationValue3((1. + (-1.) * clusterDoubles) * hamiltonian * (1. + clusterDoubles), vacuum)"
   ]
  },
  {
   "cell_type": "code",
   "execution_count": 567,
   "metadata": {},
   "outputs": [
    {
     "output_type": "stream",
     "name": "stdout",
     "text": [
      "0.0\n + -0.0 * a^{1\\alpha}a_{0\\alpha}\n + -0.0 * a^{1\\alpha}a_{1\\alpha}\n + -0.0 * a^{1\\beta}a_{0\\beta}\n + -0.0 * a^{1\\beta}a_{1\\beta}\n + -0.0 * a^{0\\alpha}a_{0\\alpha}\n + 0.0 * a^{0\\alpha}a_{1\\alpha}\n + -0.0 * a^{0\\beta}a_{0\\beta}\n + 0.0 * a^{0\\beta}a_{1\\beta}\n + 0.0 * a^{1\\alpha}a^{1\\beta}a_{0\\beta}a_{0\\alpha}\n + 0.0 * a^{1\\alpha}a^{1\\beta}a_{0\\beta}a_{1\\alpha}\n + 0.0 * a^{1\\alpha}a^{1\\beta}a_{1\\beta}a_{0\\alpha}\n + 0.0 * a^{1\\alpha}a^{1\\beta}a_{1\\beta}a_{1\\alpha}\n + 0.0 * a^{1\\alpha}a^{0\\alpha}a_{0\\alpha}a_{1\\alpha}\n + 0.0 * a^{1\\alpha}a^{0\\beta}a_{0\\beta}a_{0\\alpha}\n + 0.0 * a^{1\\alpha}a^{0\\beta}a_{0\\beta}a_{1\\alpha}\n + 0.0 * a^{1\\alpha}a^{0\\beta}a_{1\\beta}a_{1\\alpha}\n + 0.0 * a^{1\\beta}a^{1\\alpha}a_{0\\alpha}a_{0\\beta}\n + 0.0 * a^{1\\beta}a^{1\\alpha}a_{0\\alpha}a_{1\\beta}\n + 0.0 * a^{1\\beta}a^{1\\alpha}a_{1\\alpha}a_{0\\beta}\n + 0.0 * a^{1\\beta}a^{1\\alpha}a_{1\\alpha}a_{1\\beta}\n + 0.0 * a^{1\\beta}a^{0\\alpha}a_{0\\alpha}a_{0\\beta}\n + 0.0 * a^{1\\beta}a^{0\\alpha}a_{0\\alpha}a_{1\\beta}\n + 0.0 * a^{1\\beta}a^{0\\alpha}a_{1\\alpha}a_{1\\beta}\n + 0.0 * a^{1\\beta}a^{0\\beta}a_{0\\beta}a_{1\\beta}\n + 0.0 * a^{0\\alpha}a^{1\\alpha}a_{1\\alpha}a_{0\\alpha}\n + 0.0 * a^{0\\alpha}a^{1\\beta}a_{0\\beta}a_{0\\alpha}\n + 0.0 * a^{0\\alpha}a^{1\\beta}a_{1\\beta}a_{0\\alpha}\n + 0.0 * a^{0\\alpha}a^{1\\beta}a_{1\\beta}a_{1\\alpha}\n + 0.0 * a^{0\\alpha}a^{0\\beta}a_{0\\beta}a_{0\\alpha}\n + 0.0 * a^{0\\alpha}a^{0\\beta}a_{0\\beta}a_{1\\alpha}\n + 0.0 * a^{0\\alpha}a^{0\\beta}a_{1\\beta}a_{0\\alpha}\n + 0.0 * a^{0\\alpha}a^{0\\beta}a_{1\\beta}a_{1\\alpha}\n + 0.0 * a^{0\\beta}a^{1\\alpha}a_{0\\alpha}a_{0\\beta}\n + 0.0 * a^{0\\beta}a^{1\\alpha}a_{1\\alpha}a_{0\\beta}\n + 0.0 * a^{0\\beta}a^{1\\alpha}a_{1\\alpha}a_{1\\beta}\n + 0.0 * a^{0\\beta}a^{1\\beta}a_{1\\beta}a_{0\\beta}\n + 0.0 * a^{0\\beta}a^{0\\alpha}a_{0\\alpha}a_{0\\beta}\n + 0.0 * a^{0\\beta}a^{0\\alpha}a_{0\\alpha}a_{1\\beta}\n + 0.0 * a^{0\\beta}a^{0\\alpha}a_{1\\alpha}a_{0\\beta}\n + 0.0 * a^{0\\beta}a^{0\\alpha}a_{1\\alpha}a_{1\\beta}\n + -0.5337491016607854 * a^{1\\alpha}a_{1\\alpha}a^{1\\alpha}a^{1\\beta}a_{0\\beta}a_{0\\alpha}\n + -0.5337491016607854 * a^{1\\alpha}a_{1\\alpha}a^{1\\beta}a^{1\\alpha}a_{0\\alpha}a_{0\\beta}\n + -0.5337491016607854 * a^{1\\beta}a_{1\\beta}a^{1\\alpha}a^{1\\beta}a_{0\\beta}a_{0\\alpha}\n + -0.5337491016607854 * a^{1\\beta}a_{1\\beta}a^{1\\beta}a^{1\\alpha}a_{0\\alpha}a_{0\\beta}\n + 2.600212552842601e-17 * a^{0\\alpha}a_{1\\alpha}a^{1\\alpha}a^{1\\beta}a_{0\\beta}a_{0\\alpha}\n + 2.600212552842601e-17 * a^{0\\alpha}a_{1\\alpha}a^{1\\beta}a^{1\\alpha}a_{0\\alpha}a_{0\\beta}\n + 2.600212552842601e-17 * a^{0\\beta}a_{1\\beta}a^{1\\alpha}a^{1\\beta}a_{0\\beta}a_{0\\alpha}\n + 2.600212552842601e-17 * a^{0\\beta}a_{1\\beta}a^{1\\beta}a^{1\\alpha}a_{0\\alpha}a_{0\\beta}\n + 0.33906809184265285 * a^{1\\alpha}a^{1\\beta}a_{1\\beta}a_{1\\alpha}a^{1\\alpha}a^{1\\beta}a_{0\\beta}a_{0\\alpha}\n + 0.33906809184265285 * a^{1\\alpha}a^{1\\beta}a_{1\\beta}a_{1\\alpha}a^{1\\beta}a^{1\\alpha}a_{0\\alpha}a_{0\\beta}\n + 6.938893903907228e-17 * a^{1\\alpha}a^{0\\beta}a_{1\\beta}a_{1\\alpha}a^{1\\alpha}a^{1\\beta}a_{0\\beta}a_{0\\alpha}\n + 6.938893903907228e-17 * a^{1\\alpha}a^{0\\beta}a_{1\\beta}a_{1\\alpha}a^{1\\beta}a^{1\\alpha}a_{0\\alpha}a_{0\\beta}\n + 0.33906809184265285 * a^{1\\beta}a^{1\\alpha}a_{1\\alpha}a_{1\\beta}a^{1\\alpha}a^{1\\beta}a_{0\\beta}a_{0\\alpha}\n + 0.33906809184265285 * a^{1\\beta}a^{1\\alpha}a_{1\\alpha}a_{1\\beta}a^{1\\beta}a^{1\\alpha}a_{0\\alpha}a_{0\\beta}\n + 6.938893903907228e-17 * a^{1\\beta}a^{0\\alpha}a_{1\\alpha}a_{1\\beta}a^{1\\alpha}a^{1\\beta}a_{0\\beta}a_{0\\alpha}\n + 6.938893903907228e-17 * a^{1\\beta}a^{0\\alpha}a_{1\\alpha}a_{1\\beta}a^{1\\beta}a^{1\\alpha}a_{0\\alpha}a_{0\\beta}\n + 2.7755575615628914e-17 * a^{0\\alpha}a^{1\\beta}a_{1\\beta}a_{1\\alpha}a^{1\\alpha}a^{1\\beta}a_{0\\beta}a_{0\\alpha}\n + 2.7755575615628914e-17 * a^{0\\alpha}a^{1\\beta}a_{1\\beta}a_{1\\alpha}a^{1\\beta}a^{1\\alpha}a_{0\\alpha}a_{0\\beta}\n + 0.09376099045135429 * a^{0\\alpha}a^{0\\beta}a_{1\\beta}a_{1\\alpha}a^{1\\alpha}a^{1\\beta}a_{0\\beta}a_{0\\alpha}\n + 0.09376099045135429 * a^{0\\alpha}a^{0\\beta}a_{1\\beta}a_{1\\alpha}a^{1\\beta}a^{1\\alpha}a_{0\\alpha}a_{0\\beta}\n + 2.7755575615628914e-17 * a^{0\\beta}a^{1\\alpha}a_{1\\alpha}a_{1\\beta}a^{1\\alpha}a^{1\\beta}a_{0\\beta}a_{0\\alpha}\n + 2.7755575615628914e-17 * a^{0\\beta}a^{1\\alpha}a_{1\\alpha}a_{1\\beta}a^{1\\beta}a^{1\\alpha}a_{0\\alpha}a_{0\\beta}\n + 0.09376099045135429 * a^{0\\beta}a^{0\\alpha}a_{1\\alpha}a_{1\\beta}a^{1\\alpha}a^{1\\beta}a_{0\\beta}a_{0\\alpha}\n + 0.09376099045135429 * a^{0\\beta}a^{0\\alpha}a_{1\\alpha}a_{1\\beta}a^{1\\beta}a^{1\\alpha}a_{0\\alpha}a_{0\\beta}\n"
     ]
    }
   ],
   "source": [
    "HT2 = hamiltonian * clusterDoubles\n",
    "HT2.checkNilpotency()\n",
    "print(HT2)"
   ]
  },
  {
   "cell_type": "code",
   "execution_count": 568,
   "metadata": {},
   "outputs": [],
   "source": [
    "HT2CorrelationEnergy = vacuumExpectationValue3(HT2, vacuum)"
   ]
  },
  {
   "cell_type": "code",
   "execution_count": 569,
   "metadata": {},
   "outputs": [
    {
     "output_type": "stream",
     "name": "stdout",
     "text": [
      "0.37504396180541716\n"
     ]
    }
   ],
   "source": [
    "print(HT2CorrelationEnergy)"
   ]
  },
  {
   "cell_type": "code",
   "execution_count": 570,
   "metadata": {},
   "outputs": [],
   "source": [
    "ECCD = hartreeFockElectronicEnergy + HT2CorrelationEnergy"
   ]
  },
  {
   "cell_type": "code",
   "execution_count": 571,
   "metadata": {},
   "outputs": [
    {
     "output_type": "execute_result",
     "data": {
      "text/plain": [
       "-1.350647764052496"
      ]
     },
     "metadata": {},
     "execution_count": 571
    }
   ],
   "source": [
    "ECCD"
   ]
  },
  {
   "cell_type": "code",
   "execution_count": 572,
   "metadata": {},
   "outputs": [
    {
     "output_type": "execute_result",
     "data": {
      "text/plain": [
       "-1.7256917258579132"
      ]
     },
     "metadata": {},
     "execution_count": 572
    }
   ],
   "source": [
    "vacuumExpectationValue3(hamiltonian, vacuum)"
   ]
  },
  {
   "cell_type": "code",
   "execution_count": 573,
   "metadata": {},
   "outputs": [
    {
     "output_type": "execute_result",
     "data": {
      "text/plain": [
       "-1.1284543354051362"
      ]
     },
     "metadata": {},
     "execution_count": 573
    }
   ],
   "source": [
    "newenergyEquation + mol.energy_nuc()"
   ]
  },
  {
   "cell_type": "code",
   "execution_count": 574,
   "metadata": {},
   "outputs": [
    {
     "output_type": "execute_result",
     "data": {
      "text/plain": [
       "(-1.1284543355083052,\n",
       " array([[ 9.90656547e-01,  2.77555756e-17],\n",
       "        [ 1.91460513e-17, -1.36380375e-01]]))"
      ]
     },
     "metadata": {},
     "execution_count": 574
    }
   ],
   "source": [
    "cisolver.kernel()"
   ]
  },
  {
   "cell_type": "code",
   "execution_count": 575,
   "metadata": {},
   "outputs": [],
   "source": [
    "def contract2operators(o1, o2):\n",
    "    if o1.quasi_cre_ann:\n",
    "        return 0\n",
    "    elif o2.quasi_cre_ann and (o1.spin == o2.spin):\n",
    "        return int(o1.orbital == o2.orbital)\n",
    "    else:\n",
    "        return 0"
   ]
  },
  {
   "cell_type": "code",
   "execution_count": 576,
   "metadata": {},
   "outputs": [],
   "source": [
    "def recursiveFullContraction(operatorProduct_, vacuum):\n",
    "    operatorProduct_.applyFermiVacuum(vacuum)\n",
    "    operatorList_ = operatorProduct_.operatorList\n",
    "    if len(operatorList_) == 0:\n",
    "        result = operatorProduct_.prefactor\n",
    "    elif len(operatorList_) == 2:\n",
    "        result = operatorProduct_.prefactor * contract2operators(operatorList_[0], operatorList_[1])\n",
    "    elif len(operatorList_) % 2 == 0:\n",
    "        result = 0\n",
    "        for i in range(1, len(operatorList_) - 1):\n",
    "            if contract2operators(operatorList_[0], operatorList_[i]):\n",
    "                result += pow(-1, i-1) * recursiveFullContraction(operatorProduct(operatorList_[1:i] + operatorList_[i+1:], operatorProduct_.prefactor), vacuum)\n",
    "            else:\n",
    "                result += 0\n",
    "        if contract2operators(operatorList_[0], operatorList_[-1]):\n",
    "            result += recursiveFullContraction(operatorProduct(operatorList_[1:-1], operatorProduct_.prefactor), vacuum)\n",
    "        else:\n",
    "            result += 0\n",
    "    return result\n",
    "        \n"
   ]
  },
  {
   "cell_type": "code",
   "execution_count": 577,
   "metadata": {},
   "outputs": [
    {
     "output_type": "stream",
     "name": "stdout",
     "text": [
      "-1.9726000450475795e-19 * a^{0\\alpha}a^{0\\beta}a_{1\\beta}a_{1\\alpha}a^{1\\beta}a^{1\\alpha}a_{0\\alpha}a_{0\\beta}a^{0\\beta}a^{0\\alpha}a_{1\\alpha}a_{0\\beta}\n0.0\n"
     ]
    }
   ],
   "source": [
    "print(newprojected.summandList[42])\n",
    "print(recursiveFullContraction(newprojected.summandList[42], vacuum))"
   ]
  },
  {
   "cell_type": "code",
   "execution_count": 578,
   "metadata": {},
   "outputs": [
    {
     "output_type": "stream",
     "name": "stdout",
     "text": [
      "-1.1026388111917234\n"
     ]
    }
   ],
   "source": [
    "recursivehartreeFockElectronicEnergy = 0\n",
    "for product in hamiltonian.summandList:\n",
    "    recursivehartreeFockElectronicEnergy += recursiveFullContraction(product, vacuum)\n",
    "recursivehartreeFockEnergy = recursivehartreeFockElectronicEnergy + mol.energy_nuc()\n",
    "print(recursivehartreeFockEnergy)"
   ]
  },
  {
   "cell_type": "code",
   "execution_count": 579,
   "metadata": {},
   "outputs": [
    {
     "output_type": "stream",
     "name": "stdout",
     "text": [
      "0.0\n + -0.0 * a^{0\\alpha}a^{0\\beta}a_{1\\beta}a_{1\\alpha}\n + 3.2449653383791726e-18 * a^{0\\alpha}a^{0\\beta}a_{1\\beta}a_{1\\alpha}a^{1\\alpha}a_{0\\alpha}\n + 0.036739727234857224 * a^{0\\alpha}a^{0\\beta}a_{1\\beta}a_{1\\alpha}a^{1\\alpha}a_{1\\alpha}\n + 3.2449653383791726e-18 * a^{0\\alpha}a^{0\\beta}a_{1\\beta}a_{1\\alpha}a^{1\\beta}a_{0\\beta}\n + 0.036739727234857224 * a^{0\\alpha}a^{0\\beta}a_{1\\beta}a_{1\\alpha}a^{1\\beta}a_{1\\beta}\n + -0.006453881053353154 * a^{0\\alpha}a^{0\\beta}a_{1\\beta}a_{1\\alpha}a^{1\\alpha}a^{1\\beta}a_{0\\beta}a_{0\\alpha}\n + -4.7762716330187526e-18 * a^{0\\alpha}a^{0\\beta}a_{1\\beta}a_{1\\alpha}a^{1\\alpha}a^{1\\beta}a_{0\\beta}a_{1\\alpha}\n + -1.910508653207501e-18 * a^{0\\alpha}a^{0\\beta}a_{1\\beta}a_{1\\alpha}a^{1\\alpha}a^{1\\beta}a_{1\\beta}a_{0\\alpha}\n + -0.023339185339293696 * a^{0\\alpha}a^{0\\beta}a_{1\\beta}a_{1\\alpha}a^{1\\alpha}a^{1\\beta}a_{1\\beta}a_{1\\alpha}\n + -0.006453881053353154 * a^{0\\alpha}a^{0\\beta}a_{1\\beta}a_{1\\alpha}a^{1\\beta}a^{1\\alpha}a_{0\\alpha}a_{0\\beta}\n + -4.7762716330187526e-18 * a^{0\\alpha}a^{0\\beta}a_{1\\beta}a_{1\\alpha}a^{1\\beta}a^{1\\alpha}a_{0\\alpha}a_{1\\beta}\n + -1.910508653207501e-18 * a^{0\\alpha}a^{0\\beta}a_{1\\beta}a_{1\\alpha}a^{1\\beta}a^{1\\alpha}a_{1\\alpha}a_{0\\beta}\n + -0.023339185339293696 * a^{0\\alpha}a^{0\\beta}a_{1\\beta}a_{1\\alpha}a^{1\\beta}a^{1\\alpha}a_{1\\alpha}a_{1\\beta}\n + 0.005637544485638325 * a^{0\\alpha}a^{0\\beta}a_{1\\beta}a_{1\\alpha}a^{1\\alpha}a^{1\\beta}a_{0\\beta}a_{0\\alpha}a^{0\\alpha}a_{0\\alpha}\n + -1.231987756238402e-19 * a^{0\\alpha}a^{0\\beta}a_{1\\beta}a_{1\\alpha}a^{1\\alpha}a^{1\\beta}a_{0\\beta}a_{0\\alpha}a^{0\\alpha}a_{1\\alpha}\n + 0.005637544485638325 * a^{0\\alpha}a^{0\\beta}a_{1\\beta}a_{1\\alpha}a^{1\\alpha}a^{1\\beta}a_{0\\beta}a_{0\\alpha}a^{0\\beta}a_{0\\beta}\n + -1.231987756238402e-19 * a^{0\\alpha}a^{0\\beta}a_{1\\beta}a_{1\\alpha}a^{1\\alpha}a^{1\\beta}a_{0\\beta}a_{0\\alpha}a^{0\\beta}a_{1\\beta}\n + -0.0025289177126326208 * a^{0\\alpha}a^{0\\beta}a_{1\\beta}a_{1\\alpha}a^{1\\alpha}a_{1\\alpha}a^{1\\alpha}a^{1\\beta}a_{0\\beta}a_{0\\alpha}\n + -0.0025289177126326208 * a^{0\\alpha}a^{0\\beta}a_{1\\beta}a_{1\\alpha}a^{1\\alpha}a_{1\\alpha}a^{1\\beta}a^{1\\alpha}a_{0\\alpha}a_{0\\beta}\n + 0.005637544485638325 * a^{0\\alpha}a^{0\\beta}a_{1\\beta}a_{1\\alpha}a^{1\\beta}a^{1\\alpha}a_{0\\alpha}a_{0\\beta}a^{0\\alpha}a_{0\\alpha}\n + -1.231987756238402e-19 * a^{0\\alpha}a^{0\\beta}a_{1\\beta}a_{1\\alpha}a^{1\\beta}a^{1\\alpha}a_{0\\alpha}a_{0\\beta}a^{0\\alpha}a_{1\\alpha}\n + 0.005637544485638325 * a^{0\\alpha}a^{0\\beta}a_{1\\beta}a_{1\\alpha}a^{1\\beta}a^{1\\alpha}a_{0\\alpha}a_{0\\beta}a^{0\\beta}a_{0\\beta}\n + -1.231987756238402e-19 * a^{0\\alpha}a^{0\\beta}a_{1\\beta}a_{1\\alpha}a^{1\\beta}a^{1\\alpha}a_{0\\alpha}a_{0\\beta}a^{0\\beta}a_{1\\beta}\n + -0.0025289177126326208 * a^{0\\alpha}a^{0\\beta}a_{1\\beta}a_{1\\alpha}a^{1\\beta}a_{1\\beta}a^{1\\alpha}a^{1\\beta}a_{0\\beta}a_{0\\alpha}\n + -0.0025289177126326208 * a^{0\\alpha}a^{0\\beta}a_{1\\beta}a_{1\\alpha}a^{1\\beta}a_{1\\beta}a^{1\\beta}a^{1\\alpha}a_{0\\alpha}a_{0\\beta}\n + -0.0015493573969046568 * a^{0\\alpha}a^{0\\beta}a_{1\\beta}a_{1\\alpha}a^{1\\alpha}a^{1\\beta}a_{0\\beta}a_{0\\alpha}a^{0\\alpha}a^{0\\beta}a_{0\\beta}a_{0\\alpha}\n + -2.465750056309474e-19 * a^{0\\alpha}a^{0\\beta}a_{1\\beta}a_{1\\alpha}a^{1\\alpha}a^{1\\beta}a_{0\\beta}a_{0\\alpha}a^{0\\alpha}a^{0\\beta}a_{0\\beta}a_{1\\alpha}\n + -1.9726000450475795e-19 * a^{0\\alpha}a^{0\\beta}a_{1\\beta}a_{1\\alpha}a^{1\\alpha}a^{1\\beta}a_{0\\beta}a_{0\\alpha}a^{0\\alpha}a^{0\\beta}a_{1\\beta}a_{0\\alpha}\n + -0.00044424211444781285 * a^{0\\alpha}a^{0\\beta}a_{1\\beta}a_{1\\alpha}a^{1\\alpha}a^{1\\beta}a_{0\\beta}a_{0\\alpha}a^{0\\alpha}a^{0\\beta}a_{1\\beta}a_{1\\alpha}\n + -0.0015493573969046568 * a^{0\\alpha}a^{0\\beta}a_{1\\beta}a_{1\\alpha}a^{1\\alpha}a^{1\\beta}a_{0\\beta}a_{0\\alpha}a^{0\\beta}a^{0\\alpha}a_{0\\alpha}a_{0\\beta}\n + -2.465750056309474e-19 * a^{0\\alpha}a^{0\\beta}a_{1\\beta}a_{1\\alpha}a^{1\\alpha}a^{1\\beta}a_{0\\beta}a_{0\\alpha}a^{0\\beta}a^{0\\alpha}a_{0\\alpha}a_{1\\beta}\n + -1.9726000450475795e-19 * a^{0\\alpha}a^{0\\beta}a_{1\\beta}a_{1\\alpha}a^{1\\alpha}a^{1\\beta}a_{0\\beta}a_{0\\alpha}a^{0\\beta}a^{0\\alpha}a_{1\\alpha}a_{0\\beta}\n + -0.00044424211444781285 * a^{0\\alpha}a^{0\\beta}a_{1\\beta}a_{1\\alpha}a^{1\\alpha}a^{1\\beta}a_{0\\beta}a_{0\\alpha}a^{0\\beta}a^{0\\alpha}a_{1\\alpha}a_{1\\beta}\n + 0.001606513810667511 * a^{0\\alpha}a^{0\\beta}a_{1\\beta}a_{1\\alpha}a^{1\\alpha}a^{1\\beta}a_{1\\beta}a_{1\\alpha}a^{1\\alpha}a^{1\\beta}a_{0\\beta}a_{0\\alpha}\n + 0.001606513810667511 * a^{0\\alpha}a^{0\\beta}a_{1\\beta}a_{1\\alpha}a^{1\\alpha}a^{1\\beta}a_{1\\beta}a_{1\\alpha}a^{1\\beta}a^{1\\alpha}a_{0\\alpha}a_{0\\beta}\n + -0.0015493573969046568 * a^{0\\alpha}a^{0\\beta}a_{1\\beta}a_{1\\alpha}a^{1\\beta}a^{1\\alpha}a_{0\\alpha}a_{0\\beta}a^{0\\alpha}a^{0\\beta}a_{0\\beta}a_{0\\alpha}\n + -2.465750056309474e-19 * a^{0\\alpha}a^{0\\beta}a_{1\\beta}a_{1\\alpha}a^{1\\beta}a^{1\\alpha}a_{0\\alpha}a_{0\\beta}a^{0\\alpha}a^{0\\beta}a_{0\\beta}a_{1\\alpha}\n + -1.9726000450475795e-19 * a^{0\\alpha}a^{0\\beta}a_{1\\beta}a_{1\\alpha}a^{1\\beta}a^{1\\alpha}a_{0\\alpha}a_{0\\beta}a^{0\\alpha}a^{0\\beta}a_{1\\beta}a_{0\\alpha}\n + -0.00044424211444781285 * a^{0\\alpha}a^{0\\beta}a_{1\\beta}a_{1\\alpha}a^{1\\beta}a^{1\\alpha}a_{0\\alpha}a_{0\\beta}a^{0\\alpha}a^{0\\beta}a_{1\\beta}a_{1\\alpha}\n + -0.0015493573969046568 * a^{0\\alpha}a^{0\\beta}a_{1\\beta}a_{1\\alpha}a^{1\\beta}a^{1\\alpha}a_{0\\alpha}a_{0\\beta}a^{0\\beta}a^{0\\alpha}a_{0\\alpha}a_{0\\beta}\n + -2.465750056309474e-19 * a^{0\\alpha}a^{0\\beta}a_{1\\beta}a_{1\\alpha}a^{1\\beta}a^{1\\alpha}a_{0\\alpha}a_{0\\beta}a^{0\\beta}a^{0\\alpha}a_{0\\alpha}a_{1\\beta}\n + -1.9726000450475795e-19 * a^{0\\alpha}a^{0\\beta}a_{1\\beta}a_{1\\alpha}a^{1\\beta}a^{1\\alpha}a_{0\\alpha}a_{0\\beta}a^{0\\beta}a^{0\\alpha}a_{1\\alpha}a_{0\\beta}\n + -0.00044424211444781285 * a^{0\\alpha}a^{0\\beta}a_{1\\beta}a_{1\\alpha}a^{1\\beta}a^{1\\alpha}a_{0\\alpha}a_{0\\beta}a^{0\\beta}a^{0\\alpha}a_{1\\alpha}a_{1\\beta}\n + 0.001606513810667511 * a^{0\\alpha}a^{0\\beta}a_{1\\beta}a_{1\\alpha}a^{1\\beta}a^{1\\alpha}a_{1\\alpha}a_{1\\beta}a^{1\\alpha}a^{1\\beta}a_{0\\beta}a_{0\\alpha}\n + 0.001606513810667511 * a^{0\\alpha}a^{0\\beta}a_{1\\beta}a_{1\\alpha}a^{1\\beta}a^{1\\alpha}a_{1\\alpha}a_{1\\beta}a^{1\\beta}a^{1\\alpha}a_{0\\alpha}a_{0\\beta}\n + 3.057866338372144e-05 * a^{0\\alpha}a^{0\\beta}a_{1\\beta}a_{1\\alpha}a^{1\\alpha}a^{1\\beta}a_{0\\beta}a_{0\\alpha}a^{0\\alpha}a^{0\\beta}a_{1\\beta}a_{1\\alpha}a^{1\\alpha}a^{1\\beta}a_{0\\beta}a_{0\\alpha}\n + 3.057866338372144e-05 * a^{0\\alpha}a^{0\\beta}a_{1\\beta}a_{1\\alpha}a^{1\\alpha}a^{1\\beta}a_{0\\beta}a_{0\\alpha}a^{0\\alpha}a^{0\\beta}a_{1\\beta}a_{1\\alpha}a^{1\\beta}a^{1\\alpha}a_{0\\alpha}a_{0\\beta}\n + 3.057866338372144e-05 * a^{0\\alpha}a^{0\\beta}a_{1\\beta}a_{1\\alpha}a^{1\\alpha}a^{1\\beta}a_{0\\beta}a_{0\\alpha}a^{0\\beta}a^{0\\alpha}a_{1\\alpha}a_{1\\beta}a^{1\\alpha}a^{1\\beta}a_{0\\beta}a_{0\\alpha}\n + 3.057866338372144e-05 * a^{0\\alpha}a^{0\\beta}a_{1\\beta}a_{1\\alpha}a^{1\\alpha}a^{1\\beta}a_{0\\beta}a_{0\\alpha}a^{0\\beta}a^{0\\alpha}a_{1\\alpha}a_{1\\beta}a^{1\\beta}a^{1\\alpha}a_{0\\alpha}a_{0\\beta}\n + 3.057866338372144e-05 * a^{0\\alpha}a^{0\\beta}a_{1\\beta}a_{1\\alpha}a^{1\\beta}a^{1\\alpha}a_{0\\alpha}a_{0\\beta}a^{0\\alpha}a^{0\\beta}a_{1\\beta}a_{1\\alpha}a^{1\\alpha}a^{1\\beta}a_{0\\beta}a_{0\\alpha}\n + 3.057866338372144e-05 * a^{0\\alpha}a^{0\\beta}a_{1\\beta}a_{1\\alpha}a^{1\\beta}a^{1\\alpha}a_{0\\alpha}a_{0\\beta}a^{0\\alpha}a^{0\\beta}a_{1\\beta}a_{1\\alpha}a^{1\\beta}a^{1\\alpha}a_{0\\alpha}a_{0\\beta}\n + 3.057866338372144e-05 * a^{0\\alpha}a^{0\\beta}a_{1\\beta}a_{1\\alpha}a^{1\\beta}a^{1\\alpha}a_{0\\alpha}a_{0\\beta}a^{0\\beta}a^{0\\alpha}a_{1\\alpha}a_{1\\beta}a^{1\\alpha}a^{1\\beta}a_{0\\beta}a_{0\\alpha}\n + 3.057866338372144e-05 * a^{0\\alpha}a^{0\\beta}a_{1\\beta}a_{1\\alpha}a^{1\\beta}a^{1\\alpha}a_{0\\alpha}a_{0\\beta}a^{0\\beta}a^{0\\alpha}a_{1\\alpha}a_{1\\beta}a^{1\\beta}a^{1\\alpha}a_{0\\alpha}a_{0\\beta}\n"
     ]
    }
   ],
   "source": [
    "newprojected = newclusterDoubles.summandList[1].conjugate() * newbch\n",
    "newprojected.checkNilpotency()\n",
    "print(newprojected)"
   ]
  },
  {
   "cell_type": "code",
   "execution_count": 580,
   "metadata": {},
   "outputs": [
    {
     "output_type": "stream",
     "name": "stdout",
     "text": [
      "-5.256230352227234e-11\n"
     ]
    }
   ],
   "source": [
    "recursiveFullContractedNewprojected = 0\n",
    "for product in newprojected.summandList:\n",
    "    recursiveFullContractedNewprojected += recursiveFullContraction(product, vacuum)\n",
    "print(recursiveFullContractedNewprojected)"
   ]
  },
  {
   "cell_type": "code",
   "execution_count": 581,
   "metadata": {},
   "outputs": [
    {
     "output_type": "stream",
     "name": "stdout",
     "text": [
      "0.0\n + -0.06883332846938728 * a^{1\\alpha}a^{1\\beta}a_{0\\beta}a_{0\\alpha}\n + -0.06883332846938728 * a^{1\\beta}a^{1\\alpha}a_{0\\alpha}a_{0\\beta}\n + 0.0\n"
     ]
    }
   ],
   "source": [
    "print(newclusterDoubles)"
   ]
  },
  {
   "cell_type": "code",
   "execution_count": 582,
   "metadata": {},
   "outputs": [],
   "source": [
    "def getClusterDoubles(doublesAmplitudes_, Nocc_, Norbs_):\n",
    "    clusterDoubles = operatorSum([])\n",
    "    for a in range(Nocc_):\n",
    "        for b in range(Nocc_):\n",
    "            for k in range(Norbs_ - Nocc_):\n",
    "                r = k + Nocc_\n",
    "                for l in range(Norbs_ - Nocc_):\n",
    "                    s = l + Nocc_\n",
    "                    clusterDoubles = clusterDoubles + doublesAmplitudes_[a,b,k,l] * spinFreeDoubleExcitation(r, s, a, b)\n",
    "    clusterDoubles.checkNilpotency()\n",
    "    return clusterDoubles"
   ]
  },
  {
   "cell_type": "code",
   "execution_count": 583,
   "metadata": {},
   "outputs": [],
   "source": [
    "def getClusterSingles(singlesAmplitudes_, Nocc_, Norbs_):\n",
    "    clusterSingles = operatorSum([])\n",
    "    for a in range(Nocc_):\n",
    "        for k in range(Norbs_ - Nocc_):\n",
    "            r = k + Nocc_\n",
    "            clusterSingles = clusterSingles + singlesAmplitudes_[a,k] * spinFreeSingleExcitation(r, a)\n",
    "    clusterSingles.checkNilpotency()\n",
    "    return clusterSingles"
   ]
  },
  {
   "cell_type": "code",
   "execution_count": 584,
   "metadata": {},
   "outputs": [],
   "source": [
    "doublesAmplitudes = np.zeros((Nocc, Nocc, Norbs-Nocc, Norbs-Nocc))"
   ]
  },
  {
   "cell_type": "code",
   "execution_count": 585,
   "metadata": {},
   "outputs": [
    {
     "output_type": "stream",
     "name": "stdout",
     "text": [
      "0.0\n + -4.7142356915405136e-17 * a^{1\\alpha}a_{0\\alpha}\n + -0.5337491016607854 * a^{1\\alpha}a_{1\\alpha}\n + -4.7142356915405136e-17 * a^{1\\beta}a_{0\\beta}\n + -0.5337491016607854 * a^{1\\beta}a_{1\\beta}\n + -1.1898506186070186 * a^{0\\alpha}a_{0\\alpha}\n + 2.600212552842601e-17 * a^{0\\alpha}a_{1\\alpha}\n + -1.1898506186070186 * a^{0\\beta}a_{0\\beta}\n + 2.600212552842601e-17 * a^{0\\beta}a_{1\\beta}\n + 0.09376099045135429 * a^{1\\alpha}a^{1\\beta}a_{0\\beta}a_{0\\alpha}\n + 6.938893903907228e-17 * a^{1\\alpha}a^{1\\beta}a_{0\\beta}a_{1\\alpha}\n + 0.0 * a^{1\\alpha}a^{1\\beta}a_{0\\beta}a_{0\\alpha}\n + 2.7755575615628914e-17 * a^{1\\alpha}a^{1\\beta}a_{1\\beta}a_{0\\alpha}\n + 0.33906809184265285 * a^{1\\alpha}a^{1\\beta}a_{1\\beta}a_{1\\alpha}\n + 0.3226247132942422 * a^{1\\alpha}a^{0\\alpha}a_{0\\alpha}a_{1\\alpha}\n + 5.204170427930421e-17 * a^{1\\alpha}a^{0\\beta}a_{0\\beta}a_{0\\alpha}\n + 0.3226247132942422 * a^{1\\alpha}a^{0\\beta}a_{0\\beta}a_{1\\alpha}\n + 6.938893903907228e-17 * a^{1\\alpha}a^{0\\beta}a_{1\\beta}a_{1\\alpha}\n + 0.09376099045135429 * a^{1\\beta}a^{1\\alpha}a_{0\\alpha}a_{0\\beta}\n + 6.938893903907228e-17 * a^{1\\beta}a^{1\\alpha}a_{0\\alpha}a_{1\\beta}\n + 0.0 * a^{1\\beta}a^{1\\alpha}a_{0\\alpha}a_{0\\beta}\n + 2.7755575615628914e-17 * a^{1\\beta}a^{1\\alpha}a_{1\\alpha}a_{0\\beta}\n + 0.33906809184265285 * a^{1\\beta}a^{1\\alpha}a_{1\\alpha}a_{1\\beta}\n + 5.204170427930421e-17 * a^{1\\beta}a^{0\\alpha}a_{0\\alpha}a_{0\\beta}\n + 0.3226247132942422 * a^{1\\beta}a^{0\\alpha}a_{0\\alpha}a_{1\\beta}\n + 6.938893903907228e-17 * a^{1\\beta}a^{0\\alpha}a_{1\\alpha}a_{1\\beta}\n + 0.3226247132942422 * a^{1\\beta}a^{0\\beta}a_{0\\beta}a_{1\\beta}\n + 0.3226247132942424 * a^{0\\alpha}a^{1\\alpha}a_{1\\alpha}a_{0\\alpha}\n + 4.163336342344337e-17 * a^{0\\alpha}a^{1\\beta}a_{0\\beta}a_{0\\alpha}\n + 0.3226247132942424 * a^{0\\alpha}a^{1\\beta}a_{1\\beta}a_{0\\alpha}\n + 2.7755575615628914e-17 * a^{0\\alpha}a^{1\\beta}a_{1\\beta}a_{1\\alpha}\n + 0.3270047556780619 * a^{0\\alpha}a^{0\\beta}a_{0\\beta}a_{0\\alpha}\n + 5.204170427930421e-17 * a^{0\\alpha}a^{0\\beta}a_{0\\beta}a_{1\\alpha}\n + 4.163336342344337e-17 * a^{0\\alpha}a^{0\\beta}a_{1\\beta}a_{0\\alpha}\n + 0.09376099045135429 * a^{0\\alpha}a^{0\\beta}a_{1\\beta}a_{1\\alpha}\n + 4.163336342344337e-17 * a^{0\\beta}a^{1\\alpha}a_{0\\alpha}a_{0\\beta}\n + 0.3226247132942424 * a^{0\\beta}a^{1\\alpha}a_{1\\alpha}a_{0\\beta}\n + 2.7755575615628914e-17 * a^{0\\beta}a^{1\\alpha}a_{1\\alpha}a_{1\\beta}\n + 0.3226247132942424 * a^{0\\beta}a^{1\\beta}a_{1\\beta}a_{0\\beta}\n + 0.3270047556780619 * a^{0\\beta}a^{0\\alpha}a_{0\\alpha}a_{0\\beta}\n + 5.204170427930421e-17 * a^{0\\beta}a^{0\\alpha}a_{0\\alpha}a_{1\\beta}\n + 4.163336342344337e-17 * a^{0\\beta}a^{0\\alpha}a_{1\\alpha}a_{0\\beta}\n + 0.09376099045135429 * a^{0\\beta}a^{0\\alpha}a_{1\\alpha}a_{1\\beta}\n + -0.0 * a^{1\\alpha}a^{1\\beta}a_{0\\beta}a_{0\\alpha}a^{0\\alpha}a_{0\\alpha}\n + 0.0 * a^{1\\alpha}a^{1\\beta}a_{0\\beta}a_{0\\alpha}a^{0\\alpha}a_{1\\alpha}\n + -0.0 * a^{1\\alpha}a^{1\\beta}a_{0\\beta}a_{0\\alpha}a^{0\\beta}a_{0\\beta}\n + 0.0 * a^{1\\alpha}a^{1\\beta}a_{0\\beta}a_{0\\alpha}a^{0\\beta}a_{1\\beta}\n + 0.0 * a^{1\\alpha}a_{1\\alpha}a^{1\\alpha}a^{1\\beta}a_{0\\beta}a_{0\\alpha}\n + 0.0 * a^{1\\alpha}a_{1\\alpha}a^{1\\beta}a^{1\\alpha}a_{0\\alpha}a_{0\\beta}\n + -0.0 * a^{1\\beta}a^{1\\alpha}a_{0\\alpha}a_{0\\beta}a^{0\\alpha}a_{0\\alpha}\n + 0.0 * a^{1\\beta}a^{1\\alpha}a_{0\\alpha}a_{0\\beta}a^{0\\alpha}a_{1\\alpha}\n + -0.0 * a^{1\\beta}a^{1\\alpha}a_{0\\alpha}a_{0\\beta}a^{0\\beta}a_{0\\beta}\n + 0.0 * a^{1\\beta}a^{1\\alpha}a_{0\\alpha}a_{0\\beta}a^{0\\beta}a_{1\\beta}\n + 0.0 * a^{1\\beta}a_{1\\beta}a^{1\\alpha}a^{1\\beta}a_{0\\beta}a_{0\\alpha}\n + 0.0 * a^{1\\beta}a_{1\\beta}a^{1\\beta}a^{1\\alpha}a_{0\\alpha}a_{0\\beta}\n + -0.0 * a^{0\\alpha}a_{1\\alpha}a^{1\\alpha}a^{1\\beta}a_{0\\beta}a_{0\\alpha}\n + -0.0 * a^{0\\alpha}a_{1\\alpha}a^{1\\beta}a^{1\\alpha}a_{0\\alpha}a_{0\\beta}\n + -0.0 * a^{0\\beta}a_{1\\beta}a^{1\\alpha}a^{1\\beta}a_{0\\beta}a_{0\\alpha}\n + -0.0 * a^{0\\beta}a_{1\\beta}a^{1\\beta}a^{1\\alpha}a_{0\\alpha}a_{0\\beta}\n + 0.0 * a^{1\\alpha}a^{1\\beta}a_{0\\beta}a_{0\\alpha}a^{0\\alpha}a^{0\\beta}a_{0\\beta}a_{0\\alpha}\n + 0.0 * a^{1\\alpha}a^{1\\beta}a_{0\\beta}a_{0\\alpha}a^{0\\alpha}a^{0\\beta}a_{0\\beta}a_{1\\alpha}\n + 0.0 * a^{1\\alpha}a^{1\\beta}a_{0\\beta}a_{0\\alpha}a^{0\\alpha}a^{0\\beta}a_{1\\beta}a_{0\\alpha}\n + 0.0 * a^{1\\alpha}a^{1\\beta}a_{0\\beta}a_{0\\alpha}a^{0\\alpha}a^{0\\beta}a_{1\\beta}a_{1\\alpha}\n + 0.0 * a^{1\\alpha}a^{1\\beta}a_{0\\beta}a_{0\\alpha}a^{0\\beta}a^{0\\alpha}a_{0\\alpha}a_{0\\beta}\n + 0.0 * a^{1\\alpha}a^{1\\beta}a_{0\\beta}a_{0\\alpha}a^{0\\beta}a^{0\\alpha}a_{0\\alpha}a_{1\\beta}\n + 0.0 * a^{1\\alpha}a^{1\\beta}a_{0\\beta}a_{0\\alpha}a^{0\\beta}a^{0\\alpha}a_{1\\alpha}a_{0\\beta}\n + 0.0 * a^{1\\alpha}a^{1\\beta}a_{0\\beta}a_{0\\alpha}a^{0\\beta}a^{0\\alpha}a_{1\\alpha}a_{1\\beta}\n + -0.0 * a^{1\\alpha}a^{1\\beta}a_{1\\beta}a_{1\\alpha}a^{1\\alpha}a^{1\\beta}a_{0\\beta}a_{0\\alpha}\n + -0.0 * a^{1\\alpha}a^{1\\beta}a_{1\\beta}a_{1\\alpha}a^{1\\beta}a^{1\\alpha}a_{0\\alpha}a_{0\\beta}\n + -0.0 * a^{1\\alpha}a^{0\\beta}a_{1\\beta}a_{1\\alpha}a^{1\\alpha}a^{1\\beta}a_{0\\beta}a_{0\\alpha}\n + -0.0 * a^{1\\alpha}a^{0\\beta}a_{1\\beta}a_{1\\alpha}a^{1\\beta}a^{1\\alpha}a_{0\\alpha}a_{0\\beta}\n + 0.0 * a^{1\\beta}a^{1\\alpha}a_{0\\alpha}a_{0\\beta}a^{0\\alpha}a^{0\\beta}a_{0\\beta}a_{0\\alpha}\n + 0.0 * a^{1\\beta}a^{1\\alpha}a_{0\\alpha}a_{0\\beta}a^{0\\alpha}a^{0\\beta}a_{0\\beta}a_{1\\alpha}\n + 0.0 * a^{1\\beta}a^{1\\alpha}a_{0\\alpha}a_{0\\beta}a^{0\\alpha}a^{0\\beta}a_{1\\beta}a_{0\\alpha}\n + 0.0 * a^{1\\beta}a^{1\\alpha}a_{0\\alpha}a_{0\\beta}a^{0\\alpha}a^{0\\beta}a_{1\\beta}a_{1\\alpha}\n + 0.0 * a^{1\\beta}a^{1\\alpha}a_{0\\alpha}a_{0\\beta}a^{0\\beta}a^{0\\alpha}a_{0\\alpha}a_{0\\beta}\n + 0.0 * a^{1\\beta}a^{1\\alpha}a_{0\\alpha}a_{0\\beta}a^{0\\beta}a^{0\\alpha}a_{0\\alpha}a_{1\\beta}\n + 0.0 * a^{1\\beta}a^{1\\alpha}a_{0\\alpha}a_{0\\beta}a^{0\\beta}a^{0\\alpha}a_{1\\alpha}a_{0\\beta}\n + 0.0 * a^{1\\beta}a^{1\\alpha}a_{0\\alpha}a_{0\\beta}a^{0\\beta}a^{0\\alpha}a_{1\\alpha}a_{1\\beta}\n + -0.0 * a^{1\\beta}a^{1\\alpha}a_{1\\alpha}a_{1\\beta}a^{1\\alpha}a^{1\\beta}a_{0\\beta}a_{0\\alpha}\n + -0.0 * a^{1\\beta}a^{1\\alpha}a_{1\\alpha}a_{1\\beta}a^{1\\beta}a^{1\\alpha}a_{0\\alpha}a_{0\\beta}\n + -0.0 * a^{1\\beta}a^{0\\alpha}a_{1\\alpha}a_{1\\beta}a^{1\\alpha}a^{1\\beta}a_{0\\beta}a_{0\\alpha}\n + -0.0 * a^{1\\beta}a^{0\\alpha}a_{1\\alpha}a_{1\\beta}a^{1\\beta}a^{1\\alpha}a_{0\\alpha}a_{0\\beta}\n + -0.0 * a^{0\\alpha}a^{1\\beta}a_{1\\beta}a_{1\\alpha}a^{1\\alpha}a^{1\\beta}a_{0\\beta}a_{0\\alpha}\n + -0.0 * a^{0\\alpha}a^{1\\beta}a_{1\\beta}a_{1\\alpha}a^{1\\beta}a^{1\\alpha}a_{0\\alpha}a_{0\\beta}\n + -0.0 * a^{0\\alpha}a^{0\\beta}a_{1\\beta}a_{1\\alpha}a^{1\\alpha}a^{1\\beta}a_{0\\beta}a_{0\\alpha}\n + -0.0 * a^{0\\alpha}a^{0\\beta}a_{1\\beta}a_{1\\alpha}a^{1\\beta}a^{1\\alpha}a_{0\\alpha}a_{0\\beta}\n + -0.0 * a^{0\\beta}a^{1\\alpha}a_{1\\alpha}a_{1\\beta}a^{1\\alpha}a^{1\\beta}a_{0\\beta}a_{0\\alpha}\n + -0.0 * a^{0\\beta}a^{1\\alpha}a_{1\\alpha}a_{1\\beta}a^{1\\beta}a^{1\\alpha}a_{0\\alpha}a_{0\\beta}\n + -0.0 * a^{0\\beta}a^{0\\alpha}a_{1\\alpha}a_{1\\beta}a^{1\\alpha}a^{1\\beta}a_{0\\beta}a_{0\\alpha}\n + -0.0 * a^{0\\beta}a^{0\\alpha}a_{1\\alpha}a_{1\\beta}a^{1\\beta}a^{1\\alpha}a_{0\\alpha}a_{0\\beta}\n + -0.0 * a^{1\\alpha}a^{1\\beta}a_{0\\beta}a_{0\\alpha}a^{0\\alpha}a^{0\\beta}a_{1\\beta}a_{1\\alpha}a^{1\\alpha}a^{1\\beta}a_{0\\beta}a_{0\\alpha}\n + -0.0 * a^{1\\alpha}a^{1\\beta}a_{0\\beta}a_{0\\alpha}a^{0\\alpha}a^{0\\beta}a_{1\\beta}a_{1\\alpha}a^{1\\beta}a^{1\\alpha}a_{0\\alpha}a_{0\\beta}\n + -0.0 * a^{1\\alpha}a^{1\\beta}a_{0\\beta}a_{0\\alpha}a^{0\\beta}a^{0\\alpha}a_{1\\alpha}a_{1\\beta}a^{1\\alpha}a^{1\\beta}a_{0\\beta}a_{0\\alpha}\n + -0.0 * a^{1\\alpha}a^{1\\beta}a_{0\\beta}a_{0\\alpha}a^{0\\beta}a^{0\\alpha}a_{1\\alpha}a_{1\\beta}a^{1\\beta}a^{1\\alpha}a_{0\\alpha}a_{0\\beta}\n + -0.0 * a^{1\\beta}a^{1\\alpha}a_{0\\alpha}a_{0\\beta}a^{0\\alpha}a^{0\\beta}a_{1\\beta}a_{1\\alpha}a^{1\\alpha}a^{1\\beta}a_{0\\beta}a_{0\\alpha}\n + -0.0 * a^{1\\beta}a^{1\\alpha}a_{0\\alpha}a_{0\\beta}a^{0\\alpha}a^{0\\beta}a_{1\\beta}a_{1\\alpha}a^{1\\beta}a^{1\\alpha}a_{0\\alpha}a_{0\\beta}\n + -0.0 * a^{1\\beta}a^{1\\alpha}a_{0\\alpha}a_{0\\beta}a^{0\\beta}a^{0\\alpha}a_{1\\alpha}a_{1\\beta}a^{1\\alpha}a^{1\\beta}a_{0\\beta}a_{0\\alpha}\n + -0.0 * a^{1\\beta}a^{1\\alpha}a_{0\\alpha}a_{0\\beta}a^{0\\beta}a^{0\\alpha}a_{1\\alpha}a_{1\\beta}a^{1\\beta}a^{1\\alpha}a_{0\\alpha}a_{0\\beta}\n"
     ]
    }
   ],
   "source": [
    "bch = BCHSimilarityTransform(hamiltonian, getClusterDoubles(doublesAmplitudes, Nocc, Norbs), 4)\n",
    "bch.checkNilpotency()\n",
    "print(bch)"
   ]
  },
  {
   "cell_type": "code",
   "execution_count": 586,
   "metadata": {},
   "outputs": [
    {
     "output_type": "stream",
     "name": "stdout",
     "text": [
      "-1.1026388111917234\n-1.1026388111917238\n"
     ]
    }
   ],
   "source": [
    "print(vacuumExpectationValue3(bch, vacuum) + mol.energy_nuc())\n",
    "print(mf.e_tot)"
   ]
  },
  {
   "cell_type": "code",
   "execution_count": 587,
   "metadata": {},
   "outputs": [
    {
     "output_type": "stream",
     "name": "stdout",
     "text": [
      "1.0 * a^{0\\alpha}a^{0\\alpha}a_{1\\alpha}a_{1\\alpha}\n + 1.0 * a^{0\\alpha}a^{0\\beta}a_{1\\beta}a_{1\\alpha}\n + 1.0 * a^{0\\beta}a^{0\\alpha}a_{1\\alpha}a_{1\\beta}\n + 1.0 * a^{0\\beta}a^{0\\beta}a_{1\\beta}a_{1\\beta}\n"
     ]
    }
   ],
   "source": [
    "print(spinFreeDoubleExcitation(1,1,0,0).conjugate())"
   ]
  },
  {
   "cell_type": "code",
   "execution_count": 588,
   "metadata": {},
   "outputs": [
    {
     "output_type": "stream",
     "name": "stdout",
     "text": [
      "0.0\n + 0.0 * a^{0\\alpha}a^{0\\beta}a_{1\\beta}a_{1\\alpha}\n + 0.0 * a^{0\\beta}a^{0\\alpha}a_{1\\alpha}a_{1\\beta}\n + -4.7142356915405136e-17 * a^{0\\alpha}a^{0\\beta}a_{1\\beta}a_{1\\alpha}a^{1\\alpha}a_{0\\alpha}\n + -0.5337491016607854 * a^{0\\alpha}a^{0\\beta}a_{1\\beta}a_{1\\alpha}a^{1\\alpha}a_{1\\alpha}\n + -4.7142356915405136e-17 * a^{0\\alpha}a^{0\\beta}a_{1\\beta}a_{1\\alpha}a^{1\\beta}a_{0\\beta}\n + -0.5337491016607854 * a^{0\\alpha}a^{0\\beta}a_{1\\beta}a_{1\\alpha}a^{1\\beta}a_{1\\beta}\n + -4.7142356915405136e-17 * a^{0\\beta}a^{0\\alpha}a_{1\\alpha}a_{1\\beta}a^{1\\alpha}a_{0\\alpha}\n + -0.5337491016607854 * a^{0\\beta}a^{0\\alpha}a_{1\\alpha}a_{1\\beta}a^{1\\alpha}a_{1\\alpha}\n + -4.7142356915405136e-17 * a^{0\\beta}a^{0\\alpha}a_{1\\alpha}a_{1\\beta}a^{1\\beta}a_{0\\beta}\n + -0.5337491016607854 * a^{0\\beta}a^{0\\alpha}a_{1\\alpha}a_{1\\beta}a^{1\\beta}a_{1\\beta}\n + 0.09376099045135429 * a^{0\\alpha}a^{0\\beta}a_{1\\beta}a_{1\\alpha}a^{1\\alpha}a^{1\\beta}a_{0\\beta}a_{0\\alpha}\n + 6.938893903907228e-17 * a^{0\\alpha}a^{0\\beta}a_{1\\beta}a_{1\\alpha}a^{1\\alpha}a^{1\\beta}a_{0\\beta}a_{1\\alpha}\n + 2.7755575615628914e-17 * a^{0\\alpha}a^{0\\beta}a_{1\\beta}a_{1\\alpha}a^{1\\alpha}a^{1\\beta}a_{1\\beta}a_{0\\alpha}\n + 0.33906809184265285 * a^{0\\alpha}a^{0\\beta}a_{1\\beta}a_{1\\alpha}a^{1\\alpha}a^{1\\beta}a_{1\\beta}a_{1\\alpha}\n + 0.09376099045135429 * a^{0\\alpha}a^{0\\beta}a_{1\\beta}a_{1\\alpha}a^{1\\beta}a^{1\\alpha}a_{0\\alpha}a_{0\\beta}\n + 6.938893903907228e-17 * a^{0\\alpha}a^{0\\beta}a_{1\\beta}a_{1\\alpha}a^{1\\beta}a^{1\\alpha}a_{0\\alpha}a_{1\\beta}\n + 2.7755575615628914e-17 * a^{0\\alpha}a^{0\\beta}a_{1\\beta}a_{1\\alpha}a^{1\\beta}a^{1\\alpha}a_{1\\alpha}a_{0\\beta}\n + 0.33906809184265285 * a^{0\\alpha}a^{0\\beta}a_{1\\beta}a_{1\\alpha}a^{1\\beta}a^{1\\alpha}a_{1\\alpha}a_{1\\beta}\n + 0.09376099045135429 * a^{0\\beta}a^{0\\alpha}a_{1\\alpha}a_{1\\beta}a^{1\\alpha}a^{1\\beta}a_{0\\beta}a_{0\\alpha}\n + 6.938893903907228e-17 * a^{0\\beta}a^{0\\alpha}a_{1\\alpha}a_{1\\beta}a^{1\\alpha}a^{1\\beta}a_{0\\beta}a_{1\\alpha}\n + 2.7755575615628914e-17 * a^{0\\beta}a^{0\\alpha}a_{1\\alpha}a_{1\\beta}a^{1\\alpha}a^{1\\beta}a_{1\\beta}a_{0\\alpha}\n + 0.33906809184265285 * a^{0\\beta}a^{0\\alpha}a_{1\\alpha}a_{1\\beta}a^{1\\alpha}a^{1\\beta}a_{1\\beta}a_{1\\alpha}\n + 0.09376099045135429 * a^{0\\beta}a^{0\\alpha}a_{1\\alpha}a_{1\\beta}a^{1\\beta}a^{1\\alpha}a_{0\\alpha}a_{0\\beta}\n + 6.938893903907228e-17 * a^{0\\beta}a^{0\\alpha}a_{1\\alpha}a_{1\\beta}a^{1\\beta}a^{1\\alpha}a_{0\\alpha}a_{1\\beta}\n + 2.7755575615628914e-17 * a^{0\\beta}a^{0\\alpha}a_{1\\alpha}a_{1\\beta}a^{1\\beta}a^{1\\alpha}a_{1\\alpha}a_{0\\beta}\n + 0.33906809184265285 * a^{0\\beta}a^{0\\alpha}a_{1\\alpha}a_{1\\beta}a^{1\\beta}a^{1\\alpha}a_{1\\alpha}a_{1\\beta}\n + -0.0 * a^{0\\alpha}a^{0\\beta}a_{1\\beta}a_{1\\alpha}a^{1\\alpha}a^{1\\beta}a_{0\\beta}a_{0\\alpha}a^{0\\alpha}a_{0\\alpha}\n + 0.0 * a^{0\\alpha}a^{0\\beta}a_{1\\beta}a_{1\\alpha}a^{1\\alpha}a^{1\\beta}a_{0\\beta}a_{0\\alpha}a^{0\\alpha}a_{1\\alpha}\n + -0.0 * a^{0\\alpha}a^{0\\beta}a_{1\\beta}a_{1\\alpha}a^{1\\alpha}a^{1\\beta}a_{0\\beta}a_{0\\alpha}a^{0\\beta}a_{0\\beta}\n + 0.0 * a^{0\\alpha}a^{0\\beta}a_{1\\beta}a_{1\\alpha}a^{1\\alpha}a^{1\\beta}a_{0\\beta}a_{0\\alpha}a^{0\\beta}a_{1\\beta}\n + 0.0 * a^{0\\alpha}a^{0\\beta}a_{1\\beta}a_{1\\alpha}a^{1\\alpha}a_{1\\alpha}a^{1\\alpha}a^{1\\beta}a_{0\\beta}a_{0\\alpha}\n + 0.0 * a^{0\\alpha}a^{0\\beta}a_{1\\beta}a_{1\\alpha}a^{1\\alpha}a_{1\\alpha}a^{1\\beta}a^{1\\alpha}a_{0\\alpha}a_{0\\beta}\n + -0.0 * a^{0\\alpha}a^{0\\beta}a_{1\\beta}a_{1\\alpha}a^{1\\beta}a^{1\\alpha}a_{0\\alpha}a_{0\\beta}a^{0\\alpha}a_{0\\alpha}\n + 0.0 * a^{0\\alpha}a^{0\\beta}a_{1\\beta}a_{1\\alpha}a^{1\\beta}a^{1\\alpha}a_{0\\alpha}a_{0\\beta}a^{0\\alpha}a_{1\\alpha}\n + -0.0 * a^{0\\alpha}a^{0\\beta}a_{1\\beta}a_{1\\alpha}a^{1\\beta}a^{1\\alpha}a_{0\\alpha}a_{0\\beta}a^{0\\beta}a_{0\\beta}\n + 0.0 * a^{0\\alpha}a^{0\\beta}a_{1\\beta}a_{1\\alpha}a^{1\\beta}a^{1\\alpha}a_{0\\alpha}a_{0\\beta}a^{0\\beta}a_{1\\beta}\n + 0.0 * a^{0\\alpha}a^{0\\beta}a_{1\\beta}a_{1\\alpha}a^{1\\beta}a_{1\\beta}a^{1\\alpha}a^{1\\beta}a_{0\\beta}a_{0\\alpha}\n + 0.0 * a^{0\\alpha}a^{0\\beta}a_{1\\beta}a_{1\\alpha}a^{1\\beta}a_{1\\beta}a^{1\\beta}a^{1\\alpha}a_{0\\alpha}a_{0\\beta}\n + -0.0 * a^{0\\beta}a^{0\\alpha}a_{1\\alpha}a_{1\\beta}a^{1\\alpha}a^{1\\beta}a_{0\\beta}a_{0\\alpha}a^{0\\alpha}a_{0\\alpha}\n + 0.0 * a^{0\\beta}a^{0\\alpha}a_{1\\alpha}a_{1\\beta}a^{1\\alpha}a^{1\\beta}a_{0\\beta}a_{0\\alpha}a^{0\\alpha}a_{1\\alpha}\n + -0.0 * a^{0\\beta}a^{0\\alpha}a_{1\\alpha}a_{1\\beta}a^{1\\alpha}a^{1\\beta}a_{0\\beta}a_{0\\alpha}a^{0\\beta}a_{0\\beta}\n + 0.0 * a^{0\\beta}a^{0\\alpha}a_{1\\alpha}a_{1\\beta}a^{1\\alpha}a^{1\\beta}a_{0\\beta}a_{0\\alpha}a^{0\\beta}a_{1\\beta}\n + 0.0 * a^{0\\beta}a^{0\\alpha}a_{1\\alpha}a_{1\\beta}a^{1\\alpha}a_{1\\alpha}a^{1\\alpha}a^{1\\beta}a_{0\\beta}a_{0\\alpha}\n + 0.0 * a^{0\\beta}a^{0\\alpha}a_{1\\alpha}a_{1\\beta}a^{1\\alpha}a_{1\\alpha}a^{1\\beta}a^{1\\alpha}a_{0\\alpha}a_{0\\beta}\n + -0.0 * a^{0\\beta}a^{0\\alpha}a_{1\\alpha}a_{1\\beta}a^{1\\beta}a^{1\\alpha}a_{0\\alpha}a_{0\\beta}a^{0\\alpha}a_{0\\alpha}\n + 0.0 * a^{0\\beta}a^{0\\alpha}a_{1\\alpha}a_{1\\beta}a^{1\\beta}a^{1\\alpha}a_{0\\alpha}a_{0\\beta}a^{0\\alpha}a_{1\\alpha}\n + -0.0 * a^{0\\beta}a^{0\\alpha}a_{1\\alpha}a_{1\\beta}a^{1\\beta}a^{1\\alpha}a_{0\\alpha}a_{0\\beta}a^{0\\beta}a_{0\\beta}\n + 0.0 * a^{0\\beta}a^{0\\alpha}a_{1\\alpha}a_{1\\beta}a^{1\\beta}a^{1\\alpha}a_{0\\alpha}a_{0\\beta}a^{0\\beta}a_{1\\beta}\n + 0.0 * a^{0\\beta}a^{0\\alpha}a_{1\\alpha}a_{1\\beta}a^{1\\beta}a_{1\\beta}a^{1\\alpha}a^{1\\beta}a_{0\\beta}a_{0\\alpha}\n + 0.0 * a^{0\\beta}a^{0\\alpha}a_{1\\alpha}a_{1\\beta}a^{1\\beta}a_{1\\beta}a^{1\\beta}a^{1\\alpha}a_{0\\alpha}a_{0\\beta}\n + 0.0 * a^{0\\alpha}a^{0\\beta}a_{1\\beta}a_{1\\alpha}a^{1\\alpha}a^{1\\beta}a_{0\\beta}a_{0\\alpha}a^{0\\alpha}a^{0\\beta}a_{0\\beta}a_{0\\alpha}\n + 0.0 * a^{0\\alpha}a^{0\\beta}a_{1\\beta}a_{1\\alpha}a^{1\\alpha}a^{1\\beta}a_{0\\beta}a_{0\\alpha}a^{0\\alpha}a^{0\\beta}a_{0\\beta}a_{1\\alpha}\n + 0.0 * a^{0\\alpha}a^{0\\beta}a_{1\\beta}a_{1\\alpha}a^{1\\alpha}a^{1\\beta}a_{0\\beta}a_{0\\alpha}a^{0\\alpha}a^{0\\beta}a_{1\\beta}a_{0\\alpha}\n + 0.0 * a^{0\\alpha}a^{0\\beta}a_{1\\beta}a_{1\\alpha}a^{1\\alpha}a^{1\\beta}a_{0\\beta}a_{0\\alpha}a^{0\\alpha}a^{0\\beta}a_{1\\beta}a_{1\\alpha}\n + 0.0 * a^{0\\alpha}a^{0\\beta}a_{1\\beta}a_{1\\alpha}a^{1\\alpha}a^{1\\beta}a_{0\\beta}a_{0\\alpha}a^{0\\beta}a^{0\\alpha}a_{0\\alpha}a_{0\\beta}\n + 0.0 * a^{0\\alpha}a^{0\\beta}a_{1\\beta}a_{1\\alpha}a^{1\\alpha}a^{1\\beta}a_{0\\beta}a_{0\\alpha}a^{0\\beta}a^{0\\alpha}a_{0\\alpha}a_{1\\beta}\n + 0.0 * a^{0\\alpha}a^{0\\beta}a_{1\\beta}a_{1\\alpha}a^{1\\alpha}a^{1\\beta}a_{0\\beta}a_{0\\alpha}a^{0\\beta}a^{0\\alpha}a_{1\\alpha}a_{0\\beta}\n + 0.0 * a^{0\\alpha}a^{0\\beta}a_{1\\beta}a_{1\\alpha}a^{1\\alpha}a^{1\\beta}a_{0\\beta}a_{0\\alpha}a^{0\\beta}a^{0\\alpha}a_{1\\alpha}a_{1\\beta}\n + -0.0 * a^{0\\alpha}a^{0\\beta}a_{1\\beta}a_{1\\alpha}a^{1\\alpha}a^{1\\beta}a_{1\\beta}a_{1\\alpha}a^{1\\alpha}a^{1\\beta}a_{0\\beta}a_{0\\alpha}\n + -0.0 * a^{0\\alpha}a^{0\\beta}a_{1\\beta}a_{1\\alpha}a^{1\\alpha}a^{1\\beta}a_{1\\beta}a_{1\\alpha}a^{1\\beta}a^{1\\alpha}a_{0\\alpha}a_{0\\beta}\n + 0.0 * a^{0\\alpha}a^{0\\beta}a_{1\\beta}a_{1\\alpha}a^{1\\beta}a^{1\\alpha}a_{0\\alpha}a_{0\\beta}a^{0\\alpha}a^{0\\beta}a_{0\\beta}a_{0\\alpha}\n + 0.0 * a^{0\\alpha}a^{0\\beta}a_{1\\beta}a_{1\\alpha}a^{1\\beta}a^{1\\alpha}a_{0\\alpha}a_{0\\beta}a^{0\\alpha}a^{0\\beta}a_{0\\beta}a_{1\\alpha}\n + 0.0 * a^{0\\alpha}a^{0\\beta}a_{1\\beta}a_{1\\alpha}a^{1\\beta}a^{1\\alpha}a_{0\\alpha}a_{0\\beta}a^{0\\alpha}a^{0\\beta}a_{1\\beta}a_{0\\alpha}\n + 0.0 * a^{0\\alpha}a^{0\\beta}a_{1\\beta}a_{1\\alpha}a^{1\\beta}a^{1\\alpha}a_{0\\alpha}a_{0\\beta}a^{0\\alpha}a^{0\\beta}a_{1\\beta}a_{1\\alpha}\n + 0.0 * a^{0\\alpha}a^{0\\beta}a_{1\\beta}a_{1\\alpha}a^{1\\beta}a^{1\\alpha}a_{0\\alpha}a_{0\\beta}a^{0\\beta}a^{0\\alpha}a_{0\\alpha}a_{0\\beta}\n + 0.0 * a^{0\\alpha}a^{0\\beta}a_{1\\beta}a_{1\\alpha}a^{1\\beta}a^{1\\alpha}a_{0\\alpha}a_{0\\beta}a^{0\\beta}a^{0\\alpha}a_{0\\alpha}a_{1\\beta}\n + 0.0 * a^{0\\alpha}a^{0\\beta}a_{1\\beta}a_{1\\alpha}a^{1\\beta}a^{1\\alpha}a_{0\\alpha}a_{0\\beta}a^{0\\beta}a^{0\\alpha}a_{1\\alpha}a_{0\\beta}\n + 0.0 * a^{0\\alpha}a^{0\\beta}a_{1\\beta}a_{1\\alpha}a^{1\\beta}a^{1\\alpha}a_{0\\alpha}a_{0\\beta}a^{0\\beta}a^{0\\alpha}a_{1\\alpha}a_{1\\beta}\n + -0.0 * a^{0\\alpha}a^{0\\beta}a_{1\\beta}a_{1\\alpha}a^{1\\beta}a^{1\\alpha}a_{1\\alpha}a_{1\\beta}a^{1\\alpha}a^{1\\beta}a_{0\\beta}a_{0\\alpha}\n + -0.0 * a^{0\\alpha}a^{0\\beta}a_{1\\beta}a_{1\\alpha}a^{1\\beta}a^{1\\alpha}a_{1\\alpha}a_{1\\beta}a^{1\\beta}a^{1\\alpha}a_{0\\alpha}a_{0\\beta}\n + 0.0 * a^{0\\beta}a^{0\\alpha}a_{1\\alpha}a_{1\\beta}a^{1\\alpha}a^{1\\beta}a_{0\\beta}a_{0\\alpha}a^{0\\alpha}a^{0\\beta}a_{0\\beta}a_{0\\alpha}\n + 0.0 * a^{0\\beta}a^{0\\alpha}a_{1\\alpha}a_{1\\beta}a^{1\\alpha}a^{1\\beta}a_{0\\beta}a_{0\\alpha}a^{0\\alpha}a^{0\\beta}a_{0\\beta}a_{1\\alpha}\n + 0.0 * a^{0\\beta}a^{0\\alpha}a_{1\\alpha}a_{1\\beta}a^{1\\alpha}a^{1\\beta}a_{0\\beta}a_{0\\alpha}a^{0\\alpha}a^{0\\beta}a_{1\\beta}a_{0\\alpha}\n + 0.0 * a^{0\\beta}a^{0\\alpha}a_{1\\alpha}a_{1\\beta}a^{1\\alpha}a^{1\\beta}a_{0\\beta}a_{0\\alpha}a^{0\\alpha}a^{0\\beta}a_{1\\beta}a_{1\\alpha}\n + 0.0 * a^{0\\beta}a^{0\\alpha}a_{1\\alpha}a_{1\\beta}a^{1\\alpha}a^{1\\beta}a_{0\\beta}a_{0\\alpha}a^{0\\beta}a^{0\\alpha}a_{0\\alpha}a_{0\\beta}\n + 0.0 * a^{0\\beta}a^{0\\alpha}a_{1\\alpha}a_{1\\beta}a^{1\\alpha}a^{1\\beta}a_{0\\beta}a_{0\\alpha}a^{0\\beta}a^{0\\alpha}a_{0\\alpha}a_{1\\beta}\n + 0.0 * a^{0\\beta}a^{0\\alpha}a_{1\\alpha}a_{1\\beta}a^{1\\alpha}a^{1\\beta}a_{0\\beta}a_{0\\alpha}a^{0\\beta}a^{0\\alpha}a_{1\\alpha}a_{0\\beta}\n + 0.0 * a^{0\\beta}a^{0\\alpha}a_{1\\alpha}a_{1\\beta}a^{1\\alpha}a^{1\\beta}a_{0\\beta}a_{0\\alpha}a^{0\\beta}a^{0\\alpha}a_{1\\alpha}a_{1\\beta}\n + -0.0 * a^{0\\beta}a^{0\\alpha}a_{1\\alpha}a_{1\\beta}a^{1\\alpha}a^{1\\beta}a_{1\\beta}a_{1\\alpha}a^{1\\alpha}a^{1\\beta}a_{0\\beta}a_{0\\alpha}\n + -0.0 * a^{0\\beta}a^{0\\alpha}a_{1\\alpha}a_{1\\beta}a^{1\\alpha}a^{1\\beta}a_{1\\beta}a_{1\\alpha}a^{1\\beta}a^{1\\alpha}a_{0\\alpha}a_{0\\beta}\n + 0.0 * a^{0\\beta}a^{0\\alpha}a_{1\\alpha}a_{1\\beta}a^{1\\beta}a^{1\\alpha}a_{0\\alpha}a_{0\\beta}a^{0\\alpha}a^{0\\beta}a_{0\\beta}a_{0\\alpha}\n + 0.0 * a^{0\\beta}a^{0\\alpha}a_{1\\alpha}a_{1\\beta}a^{1\\beta}a^{1\\alpha}a_{0\\alpha}a_{0\\beta}a^{0\\alpha}a^{0\\beta}a_{0\\beta}a_{1\\alpha}\n + 0.0 * a^{0\\beta}a^{0\\alpha}a_{1\\alpha}a_{1\\beta}a^{1\\beta}a^{1\\alpha}a_{0\\alpha}a_{0\\beta}a^{0\\alpha}a^{0\\beta}a_{1\\beta}a_{0\\alpha}\n + 0.0 * a^{0\\beta}a^{0\\alpha}a_{1\\alpha}a_{1\\beta}a^{1\\beta}a^{1\\alpha}a_{0\\alpha}a_{0\\beta}a^{0\\alpha}a^{0\\beta}a_{1\\beta}a_{1\\alpha}\n + 0.0 * a^{0\\beta}a^{0\\alpha}a_{1\\alpha}a_{1\\beta}a^{1\\beta}a^{1\\alpha}a_{0\\alpha}a_{0\\beta}a^{0\\beta}a^{0\\alpha}a_{0\\alpha}a_{0\\beta}\n + 0.0 * a^{0\\beta}a^{0\\alpha}a_{1\\alpha}a_{1\\beta}a^{1\\beta}a^{1\\alpha}a_{0\\alpha}a_{0\\beta}a^{0\\beta}a^{0\\alpha}a_{0\\alpha}a_{1\\beta}\n + 0.0 * a^{0\\beta}a^{0\\alpha}a_{1\\alpha}a_{1\\beta}a^{1\\beta}a^{1\\alpha}a_{0\\alpha}a_{0\\beta}a^{0\\beta}a^{0\\alpha}a_{1\\alpha}a_{0\\beta}\n + 0.0 * a^{0\\beta}a^{0\\alpha}a_{1\\alpha}a_{1\\beta}a^{1\\beta}a^{1\\alpha}a_{0\\alpha}a_{0\\beta}a^{0\\beta}a^{0\\alpha}a_{1\\alpha}a_{1\\beta}\n + -0.0 * a^{0\\beta}a^{0\\alpha}a_{1\\alpha}a_{1\\beta}a^{1\\beta}a^{1\\alpha}a_{1\\alpha}a_{1\\beta}a^{1\\alpha}a^{1\\beta}a_{0\\beta}a_{0\\alpha}\n + -0.0 * a^{0\\beta}a^{0\\alpha}a_{1\\alpha}a_{1\\beta}a^{1\\beta}a^{1\\alpha}a_{1\\alpha}a_{1\\beta}a^{1\\beta}a^{1\\alpha}a_{0\\alpha}a_{0\\beta}\n + -0.0 * a^{0\\alpha}a^{0\\beta}a_{1\\beta}a_{1\\alpha}a^{1\\alpha}a^{1\\beta}a_{0\\beta}a_{0\\alpha}a^{0\\alpha}a^{0\\beta}a_{1\\beta}a_{1\\alpha}a^{1\\alpha}a^{1\\beta}a_{0\\beta}a_{0\\alpha}\n + -0.0 * a^{0\\alpha}a^{0\\beta}a_{1\\beta}a_{1\\alpha}a^{1\\alpha}a^{1\\beta}a_{0\\beta}a_{0\\alpha}a^{0\\alpha}a^{0\\beta}a_{1\\beta}a_{1\\alpha}a^{1\\beta}a^{1\\alpha}a_{0\\alpha}a_{0\\beta}\n + -0.0 * a^{0\\alpha}a^{0\\beta}a_{1\\beta}a_{1\\alpha}a^{1\\alpha}a^{1\\beta}a_{0\\beta}a_{0\\alpha}a^{0\\beta}a^{0\\alpha}a_{1\\alpha}a_{1\\beta}a^{1\\alpha}a^{1\\beta}a_{0\\beta}a_{0\\alpha}\n + -0.0 * a^{0\\alpha}a^{0\\beta}a_{1\\beta}a_{1\\alpha}a^{1\\alpha}a^{1\\beta}a_{0\\beta}a_{0\\alpha}a^{0\\beta}a^{0\\alpha}a_{1\\alpha}a_{1\\beta}a^{1\\beta}a^{1\\alpha}a_{0\\alpha}a_{0\\beta}\n + -0.0 * a^{0\\alpha}a^{0\\beta}a_{1\\beta}a_{1\\alpha}a^{1\\beta}a^{1\\alpha}a_{0\\alpha}a_{0\\beta}a^{0\\alpha}a^{0\\beta}a_{1\\beta}a_{1\\alpha}a^{1\\alpha}a^{1\\beta}a_{0\\beta}a_{0\\alpha}\n + -0.0 * a^{0\\alpha}a^{0\\beta}a_{1\\beta}a_{1\\alpha}a^{1\\beta}a^{1\\alpha}a_{0\\alpha}a_{0\\beta}a^{0\\alpha}a^{0\\beta}a_{1\\beta}a_{1\\alpha}a^{1\\beta}a^{1\\alpha}a_{0\\alpha}a_{0\\beta}\n + -0.0 * a^{0\\alpha}a^{0\\beta}a_{1\\beta}a_{1\\alpha}a^{1\\beta}a^{1\\alpha}a_{0\\alpha}a_{0\\beta}a^{0\\beta}a^{0\\alpha}a_{1\\alpha}a_{1\\beta}a^{1\\alpha}a^{1\\beta}a_{0\\beta}a_{0\\alpha}\n + -0.0 * a^{0\\alpha}a^{0\\beta}a_{1\\beta}a_{1\\alpha}a^{1\\beta}a^{1\\alpha}a_{0\\alpha}a_{0\\beta}a^{0\\beta}a^{0\\alpha}a_{1\\alpha}a_{1\\beta}a^{1\\beta}a^{1\\alpha}a_{0\\alpha}a_{0\\beta}\n + -0.0 * a^{0\\beta}a^{0\\alpha}a_{1\\alpha}a_{1\\beta}a^{1\\alpha}a^{1\\beta}a_{0\\beta}a_{0\\alpha}a^{0\\alpha}a^{0\\beta}a_{1\\beta}a_{1\\alpha}a^{1\\alpha}a^{1\\beta}a_{0\\beta}a_{0\\alpha}\n + -0.0 * a^{0\\beta}a^{0\\alpha}a_{1\\alpha}a_{1\\beta}a^{1\\alpha}a^{1\\beta}a_{0\\beta}a_{0\\alpha}a^{0\\alpha}a^{0\\beta}a_{1\\beta}a_{1\\alpha}a^{1\\beta}a^{1\\alpha}a_{0\\alpha}a_{0\\beta}\n + -0.0 * a^{0\\beta}a^{0\\alpha}a_{1\\alpha}a_{1\\beta}a^{1\\alpha}a^{1\\beta}a_{0\\beta}a_{0\\alpha}a^{0\\beta}a^{0\\alpha}a_{1\\alpha}a_{1\\beta}a^{1\\alpha}a^{1\\beta}a_{0\\beta}a_{0\\alpha}\n + -0.0 * a^{0\\beta}a^{0\\alpha}a_{1\\alpha}a_{1\\beta}a^{1\\alpha}a^{1\\beta}a_{0\\beta}a_{0\\alpha}a^{0\\beta}a^{0\\alpha}a_{1\\alpha}a_{1\\beta}a^{1\\beta}a^{1\\alpha}a_{0\\alpha}a_{0\\beta}\n + -0.0 * a^{0\\beta}a^{0\\alpha}a_{1\\alpha}a_{1\\beta}a^{1\\beta}a^{1\\alpha}a_{0\\alpha}a_{0\\beta}a^{0\\alpha}a^{0\\beta}a_{1\\beta}a_{1\\alpha}a^{1\\alpha}a^{1\\beta}a_{0\\beta}a_{0\\alpha}\n + -0.0 * a^{0\\beta}a^{0\\alpha}a_{1\\alpha}a_{1\\beta}a^{1\\beta}a^{1\\alpha}a_{0\\alpha}a_{0\\beta}a^{0\\alpha}a^{0\\beta}a_{1\\beta}a_{1\\alpha}a^{1\\beta}a^{1\\alpha}a_{0\\alpha}a_{0\\beta}\n + -0.0 * a^{0\\beta}a^{0\\alpha}a_{1\\alpha}a_{1\\beta}a^{1\\beta}a^{1\\alpha}a_{0\\alpha}a_{0\\beta}a^{0\\beta}a^{0\\alpha}a_{1\\alpha}a_{1\\beta}a^{1\\alpha}a^{1\\beta}a_{0\\beta}a_{0\\alpha}\n + -0.0 * a^{0\\beta}a^{0\\alpha}a_{1\\alpha}a_{1\\beta}a^{1\\beta}a^{1\\alpha}a_{0\\alpha}a_{0\\beta}a^{0\\beta}a^{0\\alpha}a_{1\\alpha}a_{1\\beta}a^{1\\beta}a^{1\\alpha}a_{0\\alpha}a_{0\\beta}\n"
     ]
    }
   ],
   "source": [
    "projected = spinFreeDoubleExcitation(1,1,0,0).conjugate() * bch\n",
    "print(projected)"
   ]
  },
  {
   "cell_type": "code",
   "execution_count": 589,
   "metadata": {},
   "outputs": [
    {
     "output_type": "execute_result",
     "data": {
      "text/plain": [
       "0.37504396180541716"
      ]
     },
     "metadata": {},
     "execution_count": 589
    }
   ],
   "source": [
    "vacuumExpectationValue3(projected, vacuum)"
   ]
  },
  {
   "cell_type": "code",
   "execution_count": 590,
   "metadata": {},
   "outputs": [],
   "source": [
    "doublesAmplitudes[0,0,0,0] = -0.07016307"
   ]
  },
  {
   "cell_type": "code",
   "execution_count": 591,
   "metadata": {
    "tags": []
   },
   "outputs": [
    {
     "output_type": "stream",
     "name": "stdout",
     "text": [
      "-1.7520059616031438\n0.046880495225677145 * a^{0\\alpha}a^{0\\beta}a_{1\\beta}a_{1\\alpha}a^{1\\alpha}a^{1\\beta}a_{0\\beta}a_{0\\alpha}\n0.046880495225677145 * a^{0\\alpha}a^{0\\beta}a_{1\\beta}a_{1\\alpha}a^{1\\beta}a^{1\\alpha}a_{0\\alpha}a_{0\\beta}\n0.046880495225677145 * a^{0\\beta}a^{0\\alpha}a_{1\\alpha}a_{1\\beta}a^{1\\alpha}a^{1\\beta}a_{0\\beta}a_{0\\alpha}\n0.046880495225677145 * a^{0\\beta}a^{0\\alpha}a_{1\\alpha}a_{1\\beta}a^{1\\beta}a^{1\\alpha}a_{0\\alpha}a_{0\\beta}\n-0.04174178612143377 * a^{0\\alpha}a^{0\\beta}a_{1\\beta}a_{1\\alpha}a^{1\\alpha}a^{1\\beta}a_{0\\beta}a_{0\\alpha}a^{0\\alpha}a_{0\\alpha}\n-0.04174178612143377 * a^{0\\alpha}a^{0\\beta}a_{1\\beta}a_{1\\alpha}a^{1\\alpha}a^{1\\beta}a_{0\\beta}a_{0\\alpha}a^{0\\beta}a_{0\\beta}\n0.018724737791131398 * a^{0\\alpha}a^{0\\beta}a_{1\\beta}a_{1\\alpha}a^{1\\alpha}a_{1\\alpha}a^{1\\alpha}a^{1\\beta}a_{0\\beta}a_{0\\alpha}\n0.018724737791131398 * a^{0\\alpha}a^{0\\beta}a_{1\\beta}a_{1\\alpha}a^{1\\alpha}a_{1\\alpha}a^{1\\beta}a^{1\\alpha}a_{0\\alpha}a_{0\\beta}\n-0.04174178612143377 * a^{0\\alpha}a^{0\\beta}a_{1\\beta}a_{1\\alpha}a^{1\\beta}a^{1\\alpha}a_{0\\alpha}a_{0\\beta}a^{0\\alpha}a_{0\\alpha}\n-0.04174178612143377 * a^{0\\alpha}a^{0\\beta}a_{1\\beta}a_{1\\alpha}a^{1\\beta}a^{1\\alpha}a_{0\\alpha}a_{0\\beta}a^{0\\beta}a_{0\\beta}\n0.018724737791131398 * a^{0\\alpha}a^{0\\beta}a_{1\\beta}a_{1\\alpha}a^{1\\beta}a_{1\\beta}a^{1\\alpha}a^{1\\beta}a_{0\\beta}a_{0\\alpha}\n0.018724737791131398 * a^{0\\alpha}a^{0\\beta}a_{1\\beta}a_{1\\alpha}a^{1\\beta}a_{1\\beta}a^{1\\beta}a^{1\\alpha}a_{0\\alpha}a_{0\\beta}\n-0.04174178612143377 * a^{0\\beta}a^{0\\alpha}a_{1\\alpha}a_{1\\beta}a^{1\\alpha}a^{1\\beta}a_{0\\beta}a_{0\\alpha}a^{0\\alpha}a_{0\\alpha}\n-0.04174178612143377 * a^{0\\beta}a^{0\\alpha}a_{1\\alpha}a_{1\\beta}a^{1\\alpha}a^{1\\beta}a_{0\\beta}a_{0\\alpha}a^{0\\beta}a_{0\\beta}\n0.018724737791131398 * a^{0\\beta}a^{0\\alpha}a_{1\\alpha}a_{1\\beta}a^{1\\alpha}a_{1\\alpha}a^{1\\alpha}a^{1\\beta}a_{0\\beta}a_{0\\alpha}\n0.018724737791131398 * a^{0\\beta}a^{0\\alpha}a_{1\\alpha}a_{1\\beta}a^{1\\alpha}a_{1\\alpha}a^{1\\beta}a^{1\\alpha}a_{0\\alpha}a_{0\\beta}\n-0.04174178612143377 * a^{0\\beta}a^{0\\alpha}a_{1\\alpha}a_{1\\beta}a^{1\\beta}a^{1\\alpha}a_{0\\alpha}a_{0\\beta}a^{0\\alpha}a_{0\\alpha}\n-0.04174178612143377 * a^{0\\beta}a^{0\\alpha}a_{1\\alpha}a_{1\\beta}a^{1\\beta}a^{1\\alpha}a_{0\\alpha}a_{0\\beta}a^{0\\beta}a_{0\\beta}\n0.018724737791131398 * a^{0\\beta}a^{0\\alpha}a_{1\\alpha}a_{1\\beta}a^{1\\beta}a_{1\\beta}a^{1\\alpha}a^{1\\beta}a_{0\\beta}a_{0\\alpha}\n0.018724737791131398 * a^{0\\beta}a^{0\\alpha}a_{1\\alpha}a_{1\\beta}a^{1\\beta}a_{1\\beta}a^{1\\beta}a^{1\\alpha}a_{0\\alpha}a_{0\\beta}\n0.011471828781486377 * a^{0\\alpha}a^{0\\beta}a_{1\\beta}a_{1\\alpha}a^{1\\alpha}a^{1\\beta}a_{0\\beta}a_{0\\alpha}a^{0\\alpha}a^{0\\beta}a_{0\\beta}a_{0\\alpha}\n0.011471828781486377 * a^{0\\alpha}a^{0\\beta}a_{1\\beta}a_{1\\alpha}a^{1\\alpha}a^{1\\beta}a_{0\\beta}a_{0\\alpha}a^{0\\beta}a^{0\\alpha}a_{0\\alpha}a_{0\\beta}\n-0.01189502913136124 * a^{0\\alpha}a^{0\\beta}a_{1\\beta}a_{1\\alpha}a^{1\\alpha}a^{1\\beta}a_{1\\beta}a_{1\\alpha}a^{1\\alpha}a^{1\\beta}a_{0\\beta}a_{0\\alpha}\n-0.01189502913136124 * a^{0\\alpha}a^{0\\beta}a_{1\\beta}a_{1\\alpha}a^{1\\alpha}a^{1\\beta}a_{1\\beta}a_{1\\alpha}a^{1\\beta}a^{1\\alpha}a_{0\\alpha}a_{0\\beta}\n0.011471828781486377 * a^{0\\alpha}a^{0\\beta}a_{1\\beta}a_{1\\alpha}a^{1\\beta}a^{1\\alpha}a_{0\\alpha}a_{0\\beta}a^{0\\alpha}a^{0\\beta}a_{0\\beta}a_{0\\alpha}\n0.011471828781486377 * a^{0\\alpha}a^{0\\beta}a_{1\\beta}a_{1\\alpha}a^{1\\beta}a^{1\\alpha}a_{0\\alpha}a_{0\\beta}a^{0\\beta}a^{0\\alpha}a_{0\\alpha}a_{0\\beta}\n-0.01189502913136124 * a^{0\\alpha}a^{0\\beta}a_{1\\beta}a_{1\\alpha}a^{1\\beta}a^{1\\alpha}a_{1\\alpha}a_{1\\beta}a^{1\\alpha}a^{1\\beta}a_{0\\beta}a_{0\\alpha}\n-0.01189502913136124 * a^{0\\alpha}a^{0\\beta}a_{1\\beta}a_{1\\alpha}a^{1\\beta}a^{1\\alpha}a_{1\\alpha}a_{1\\beta}a^{1\\beta}a^{1\\alpha}a_{0\\alpha}a_{0\\beta}\n0.011471828781486377 * a^{0\\beta}a^{0\\alpha}a_{1\\alpha}a_{1\\beta}a^{1\\alpha}a^{1\\beta}a_{0\\beta}a_{0\\alpha}a^{0\\alpha}a^{0\\beta}a_{0\\beta}a_{0\\alpha}\n0.011471828781486377 * a^{0\\beta}a^{0\\alpha}a_{1\\alpha}a_{1\\beta}a^{1\\alpha}a^{1\\beta}a_{0\\beta}a_{0\\alpha}a^{0\\beta}a^{0\\alpha}a_{0\\alpha}a_{0\\beta}\n-0.01189502913136124 * a^{0\\beta}a^{0\\alpha}a_{1\\alpha}a_{1\\beta}a^{1\\alpha}a^{1\\beta}a_{1\\beta}a_{1\\alpha}a^{1\\alpha}a^{1\\beta}a_{0\\beta}a_{0\\alpha}\n-0.01189502913136124 * a^{0\\beta}a^{0\\alpha}a_{1\\alpha}a_{1\\beta}a^{1\\alpha}a^{1\\beta}a_{1\\beta}a_{1\\alpha}a^{1\\beta}a^{1\\alpha}a_{0\\alpha}a_{0\\beta}\n0.011471828781486377 * a^{0\\beta}a^{0\\alpha}a_{1\\alpha}a_{1\\beta}a^{1\\beta}a^{1\\alpha}a_{0\\alpha}a_{0\\beta}a^{0\\alpha}a^{0\\beta}a_{0\\beta}a_{0\\alpha}\n0.011471828781486377 * a^{0\\beta}a^{0\\alpha}a_{1\\alpha}a_{1\\beta}a^{1\\beta}a^{1\\alpha}a_{0\\alpha}a_{0\\beta}a^{0\\beta}a^{0\\alpha}a_{0\\alpha}a_{0\\beta}\n-0.01189502913136124 * a^{0\\beta}a^{0\\alpha}a_{1\\alpha}a_{1\\beta}a^{1\\beta}a^{1\\alpha}a_{1\\alpha}a_{1\\beta}a^{1\\alpha}a^{1\\beta}a_{0\\beta}a_{0\\alpha}\n-0.01189502913136124 * a^{0\\beta}a^{0\\alpha}a_{1\\alpha}a_{1\\beta}a^{1\\beta}a^{1\\alpha}a_{1\\alpha}a_{1\\beta}a^{1\\beta}a^{1\\alpha}a_{0\\alpha}a_{0\\beta}\n-0.00023078594557364142 * a^{0\\alpha}a^{0\\beta}a_{1\\beta}a_{1\\alpha}a^{1\\alpha}a^{1\\beta}a_{0\\beta}a_{0\\alpha}a^{0\\alpha}a^{0\\beta}a_{1\\beta}a_{1\\alpha}a^{1\\alpha}a^{1\\beta}a_{0\\beta}a_{0\\alpha}\n-0.00023078594557364142 * a^{0\\alpha}a^{0\\beta}a_{1\\beta}a_{1\\alpha}a^{1\\alpha}a^{1\\beta}a_{0\\beta}a_{0\\alpha}a^{0\\alpha}a^{0\\beta}a_{1\\beta}a_{1\\alpha}a^{1\\beta}a^{1\\alpha}a_{0\\alpha}a_{0\\beta}\n-0.00023078594557364142 * a^{0\\alpha}a^{0\\beta}a_{1\\beta}a_{1\\alpha}a^{1\\alpha}a^{1\\beta}a_{0\\beta}a_{0\\alpha}a^{0\\beta}a^{0\\alpha}a_{1\\alpha}a_{1\\beta}a^{1\\alpha}a^{1\\beta}a_{0\\beta}a_{0\\alpha}\n-0.00023078594557364142 * a^{0\\alpha}a^{0\\beta}a_{1\\beta}a_{1\\alpha}a^{1\\alpha}a^{1\\beta}a_{0\\beta}a_{0\\alpha}a^{0\\beta}a^{0\\alpha}a_{1\\alpha}a_{1\\beta}a^{1\\beta}a^{1\\alpha}a_{0\\alpha}a_{0\\beta}\n-0.00023078594557364142 * a^{0\\alpha}a^{0\\beta}a_{1\\beta}a_{1\\alpha}a^{1\\beta}a^{1\\alpha}a_{0\\alpha}a_{0\\beta}a^{0\\alpha}a^{0\\beta}a_{1\\beta}a_{1\\alpha}a^{1\\alpha}a^{1\\beta}a_{0\\beta}a_{0\\alpha}\n-0.00023078594557364142 * a^{0\\alpha}a^{0\\beta}a_{1\\beta}a_{1\\alpha}a^{1\\beta}a^{1\\alpha}a_{0\\alpha}a_{0\\beta}a^{0\\alpha}a^{0\\beta}a_{1\\beta}a_{1\\alpha}a^{1\\beta}a^{1\\alpha}a_{0\\alpha}a_{0\\beta}\n-0.00023078594557364142 * a^{0\\alpha}a^{0\\beta}a_{1\\beta}a_{1\\alpha}a^{1\\beta}a^{1\\alpha}a_{0\\alpha}a_{0\\beta}a^{0\\beta}a^{0\\alpha}a_{1\\alpha}a_{1\\beta}a^{1\\alpha}a^{1\\beta}a_{0\\beta}a_{0\\alpha}\n-0.00023078594557364142 * a^{0\\alpha}a^{0\\beta}a_{1\\beta}a_{1\\alpha}a^{1\\beta}a^{1\\alpha}a_{0\\alpha}a_{0\\beta}a^{0\\beta}a^{0\\alpha}a_{1\\alpha}a_{1\\beta}a^{1\\beta}a^{1\\alpha}a_{0\\alpha}a_{0\\beta}\n-0.00023078594557364142 * a^{0\\beta}a^{0\\alpha}a_{1\\alpha}a_{1\\beta}a^{1\\alpha}a^{1\\beta}a_{0\\beta}a_{0\\alpha}a^{0\\alpha}a^{0\\beta}a_{1\\beta}a_{1\\alpha}a^{1\\alpha}a^{1\\beta}a_{0\\beta}a_{0\\alpha}\n-0.00023078594557364142 * a^{0\\beta}a^{0\\alpha}a_{1\\alpha}a_{1\\beta}a^{1\\alpha}a^{1\\beta}a_{0\\beta}a_{0\\alpha}a^{0\\alpha}a^{0\\beta}a_{1\\beta}a_{1\\alpha}a^{1\\beta}a^{1\\alpha}a_{0\\alpha}a_{0\\beta}\n-0.00023078594557364142 * a^{0\\beta}a^{0\\alpha}a_{1\\alpha}a_{1\\beta}a^{1\\alpha}a^{1\\beta}a_{0\\beta}a_{0\\alpha}a^{0\\beta}a^{0\\alpha}a_{1\\alpha}a_{1\\beta}a^{1\\alpha}a^{1\\beta}a_{0\\beta}a_{0\\alpha}\n-0.00023078594557364142 * a^{0\\beta}a^{0\\alpha}a_{1\\alpha}a_{1\\beta}a^{1\\alpha}a^{1\\beta}a_{0\\beta}a_{0\\alpha}a^{0\\beta}a^{0\\alpha}a_{1\\alpha}a_{1\\beta}a^{1\\beta}a^{1\\alpha}a_{0\\alpha}a_{0\\beta}\n-0.00023078594557364142 * a^{0\\beta}a^{0\\alpha}a_{1\\alpha}a_{1\\beta}a^{1\\beta}a^{1\\alpha}a_{0\\alpha}a_{0\\beta}a^{0\\alpha}a^{0\\beta}a_{1\\beta}a_{1\\alpha}a^{1\\alpha}a^{1\\beta}a_{0\\beta}a_{0\\alpha}\n-0.00023078594557364142 * a^{0\\beta}a^{0\\alpha}a_{1\\alpha}a_{1\\beta}a^{1\\beta}a^{1\\alpha}a_{0\\alpha}a_{0\\beta}a^{0\\alpha}a^{0\\beta}a_{1\\beta}a_{1\\alpha}a^{1\\beta}a^{1\\alpha}a_{0\\alpha}a_{0\\beta}\n-0.00023078594557364142 * a^{0\\beta}a^{0\\alpha}a_{1\\alpha}a_{1\\beta}a^{1\\beta}a^{1\\alpha}a_{0\\alpha}a_{0\\beta}a^{0\\beta}a^{0\\alpha}a_{1\\alpha}a_{1\\beta}a^{1\\alpha}a^{1\\beta}a_{0\\beta}a_{0\\alpha}\n-0.00023078594557364142 * a^{0\\beta}a^{0\\alpha}a_{1\\alpha}a_{1\\beta}a^{1\\beta}a^{1\\alpha}a_{0\\alpha}a_{0\\beta}a^{0\\beta}a^{0\\alpha}a_{1\\alpha}a_{1\\beta}a^{1\\beta}a^{1\\alpha}a_{0\\alpha}a_{0\\beta}\n-0.0036925836678875575\n"
     ]
    }
   ],
   "source": [
    "newbch = BCHSimilarityTransform(hamiltonian, getClusterDoubles(doublesAmplitudes, Nocc, Norbs), 4)\n",
    "newbch.checkNilpotency()\n",
    "excitation = spinFreeDoubleExcitation(1,1,0,0)\n",
    "newprojected = (1 / sqrt(vacuumExpectationValue3(excitation.conjugate() * excitation, vacuum))) * excitation.conjugate() * newbch\n",
    "print(vacuumExpectationValue3(newbch, vacuum))\n",
    "print(vacuumExpectationValue3(newprojected, vacuum, True))\n",
    "#print(newprojected)\n"
   ]
  },
  {
   "cell_type": "code",
   "execution_count": 592,
   "metadata": {},
   "outputs": [
    {
     "output_type": "stream",
     "name": "stdout",
     "text": [
      "-1.128953046936954\n"
     ]
    }
   ],
   "source": [
    "print(vacuumExpectationValue3(newbch, vacuum) + mol.energy_nuc())"
   ]
  },
  {
   "cell_type": "code",
   "execution_count": 593,
   "metadata": {},
   "outputs": [
    {
     "output_type": "stream",
     "name": "stdout",
     "text": [
      "1.0\n + -0.07016307 * a^{1\\alpha}a^{1\\beta}a_{0\\beta}a_{0\\alpha}\n + -0.07016307 * a^{1\\beta}a^{1\\alpha}a_{0\\alpha}a_{0\\beta}\n1.0\n + 0.07016307 * a^{1\\alpha}a^{1\\beta}a_{0\\beta}a_{0\\alpha}\n + 0.07016307 * a^{1\\beta}a^{1\\alpha}a_{0\\alpha}a_{0\\beta}\n"
     ]
    }
   ],
   "source": [
    "clusterDoubles = getClusterDoubles(doublesAmplitudes, Nocc, Norbs)\n",
    "waveoperator = exponentialOperator(clusterDoubles, 3)\n",
    "print(waveoperator)\n",
    "inversewaveoperator = exponentialOperator((-1) * clusterDoubles, 3)\n",
    "print(inversewaveoperator)"
   ]
  },
  {
   "cell_type": "code",
   "execution_count": null,
   "metadata": {},
   "outputs": [],
   "source": []
  },
  {
   "cell_type": "code",
   "execution_count": 594,
   "metadata": {},
   "outputs": [
    {
     "output_type": "stream",
     "name": "stdout",
     "text": [
      "0.990656547\n + -0.136380375 * a^{1\\alpha}a^{1\\beta}a_{0\\beta}a_{0\\alpha}\n"
     ]
    }
   ],
   "source": [
    "doubleexcitation = getClusterDoubles(np.array([[[[1.]]]]), Nocc, Norbs).summandList[1]\n",
    "fcioperator = (0.990656547) + (-0.136380375) * doubleexcitation\n",
    "print(fcioperator)"
   ]
  },
  {
   "cell_type": "code",
   "execution_count": 595,
   "metadata": {},
   "outputs": [
    {
     "output_type": "stream",
     "name": "stdout",
     "text": [
      "0.9814003941139633\n",
      "0.018599606685140626 * a^{0\\alpha}a^{0\\beta}a_{1\\beta}a_{1\\alpha}a^{1\\alpha}a^{1\\beta}a_{0\\beta}a_{0\\alpha}\n",
      "1.000000000799104\n",
      "-1.167719866037671 * a^{0\\alpha}a_{0\\alpha}\n",
      "-1.167719866037671 * a^{0\\beta}a_{0\\beta}\n",
      "0.32092259609959023 * a^{0\\alpha}a^{0\\beta}a_{0\\beta}a_{0\\alpha}\n",
      "0.32092259609959023 * a^{0\\beta}a^{0\\alpha}a_{0\\alpha}a_{0\\beta}\n",
      "-0.012667682818650852 * a^{0\\alpha}a^{0\\beta}a_{1\\beta}a_{1\\alpha}a^{1\\alpha}a^{1\\beta}a_{0\\beta}a_{0\\alpha}\n",
      "-0.012667682818650852 * a^{0\\alpha}a^{0\\beta}a_{1\\beta}a_{1\\alpha}a^{1\\beta}a^{1\\alpha}a_{0\\alpha}a_{0\\beta}\n",
      "-0.012667682818650852 * a^{0\\alpha}a^{0\\beta}a_{1\\beta}a_{1\\alpha}a^{1\\alpha}a^{1\\beta}a_{0\\beta}a_{0\\alpha}\n",
      "-0.012667682818650852 * a^{0\\beta}a^{0\\alpha}a_{1\\alpha}a_{1\\beta}a^{1\\alpha}a^{1\\beta}a_{0\\beta}a_{0\\alpha}\n",
      "-0.009927523359437748 * a^{0\\alpha}a^{0\\beta}a_{1\\beta}a_{1\\alpha}a^{1\\alpha}a_{1\\alpha}a^{1\\alpha}a^{1\\beta}a_{0\\beta}a_{0\\alpha}\n",
      "-0.009927523359437748 * a^{0\\alpha}a^{0\\beta}a_{1\\beta}a_{1\\alpha}a^{1\\beta}a_{1\\beta}a^{1\\alpha}a^{1\\beta}a_{0\\beta}a_{0\\alpha}\n",
      "0.006306533147754481 * a^{0\\alpha}a^{0\\beta}a_{1\\beta}a_{1\\alpha}a^{1\\alpha}a^{1\\beta}a_{1\\beta}a_{1\\alpha}a^{1\\alpha}a^{1\\beta}a_{0\\beta}a_{0\\alpha}\n",
      "0.006306533147754481 * a^{0\\alpha}a^{0\\beta}a_{1\\beta}a_{1\\alpha}a^{1\\beta}a^{1\\alpha}a_{1\\alpha}a_{1\\beta}a^{1\\alpha}a^{1\\beta}a_{0\\beta}a_{0\\alpha}\n",
      "-1.751507250174496\n",
      "-1.128454335508306\n"
     ]
    }
   ],
   "source": [
    "fcinormFactor = vacuumExpectationValue3(fcioperator.conjugate() * fcioperator, vacuum, True)\n",
    "print(fcinormFactor)\n",
    "electronicFCIEnergy = vacuumExpectationValue3(fcioperator.conjugate() * hamiltonian * fcioperator, vacuum, True) / fcinormFactor\n",
    "print(electronicFCIEnergy)\n",
    "print(electronicFCIEnergy + mol.energy_nuc())"
   ]
  },
  {
   "cell_type": "code",
   "execution_count": 596,
   "metadata": {},
   "outputs": [
    {
     "output_type": "execute_result",
     "data": {
      "text/plain": [
       "(-1.1284543355083052,\n",
       " array([[ 9.90656547e-01,  2.77555756e-17],\n",
       "        [ 1.91460513e-17, -1.36380375e-01]]))"
      ]
     },
     "metadata": {},
     "execution_count": 596
    }
   ],
   "source": [
    "cisolver.kernel()"
   ]
  },
  {
   "cell_type": "code",
   "execution_count": 597,
   "metadata": {},
   "outputs": [
    {
     "output_type": "stream",
     "name": "stdout",
     "text": [
      "-1.7520059616031438\n"
     ]
    }
   ],
   "source": [
    "print(vacuumExpectationValue3(inversewaveoperator * hamiltonian * waveoperator, vacuum))"
   ]
  },
  {
   "cell_type": "code",
   "execution_count": 598,
   "metadata": {},
   "outputs": [
    {
     "output_type": "stream",
     "name": "stdout",
     "text": [
      "-1.7514978019778398\n-1.12844488731165\n"
     ]
    }
   ],
   "source": [
    "normFactor = vacuumExpectationValue3(waveoperator.conjugate() * waveoperator, vacuum)\n",
    "electronicCCEnergy = vacuumExpectationValue3(waveoperator.conjugate() * hamiltonian * waveoperator, vacuum) / normFactor\n",
    "print(electronicCCEnergy)\n",
    "print(electronicCCEnergy + mol.energy_nuc())"
   ]
  },
  {
   "cell_type": "code",
   "execution_count": 599,
   "metadata": {},
   "outputs": [],
   "source": [
    "def testDoublesAmplitudes(doublesAmplitudes_):\n",
    "    newbch = BCHSimilarityTransform(hamiltonian, getClusterDoubles(doublesAmplitudes_, Nocc, Norbs), 4)\n",
    "    newbch.checkNilpotency()\n",
    "    excitation = spinFreeDoubleExcitation(1,1,0,0)\n",
    "#    newprojected = (1 / sqrt(vacuumExpectationValue3(excitation.conjugate() * excitation, vacuum))) * excitation.conjugate() * newbch\n",
    "    newprojected = excitation.conjugate() * newbch\n",
    "    return vacuumExpectationValue3(newprojected, vacuum)"
   ]
  },
  {
   "cell_type": "code",
   "execution_count": 600,
   "metadata": {},
   "outputs": [],
   "source": [
    "def testSinglesAmplitudes(singlesAmplitudes_):\n",
    "    newbch = BCHSimilarityTransform(hamiltonian, getClusterSingles(singlesAmplitudes_, Nocc, Norbs), 4)\n",
    "    newbch.checkNilpotency()\n",
    "    excitation = spinFreeSingleExcitation(1,0)\n",
    "    newprojected = excitation.conjugate() * newbch\n",
    "    return vacuumExpectationValue3(newprojected, vacuum)"
   ]
  },
  {
   "cell_type": "code",
   "execution_count": 601,
   "metadata": {},
   "outputs": [
    {
     "output_type": "execute_result",
     "data": {
      "text/plain": [
       "-1.7256917258579132"
      ]
     },
     "metadata": {},
     "execution_count": 601
    }
   ],
   "source": [
    "vacuumExpectationValue3(hamiltonian, vacuum)"
   ]
  },
  {
   "cell_type": "code",
   "execution_count": 602,
   "metadata": {},
   "outputs": [],
   "source": [
    "def testAmplitudes(singlesAmplitudes_, doublesAmplitudes_):\n",
    "    newbch = BCHSimilarityTransform(hamiltonian, getClusterSingles(singlesAmplitudes_, Nocc, Norbs) + getClusterDoubles(doublesAmplitudes_, Nocc, Norbs), 4)\n",
    "    newbch.checkNilpotency()\n",
    "    excitations = [spinFreeSingleExcitation(1,0), spinFreeDoubleExcitation(1,1,0,0)]\n",
    "    projectedVEVs = []\n",
    "    for excitation in excitations:\n",
    "        newprojected = excitation.conjugate() * newbch\n",
    "        projectedVEVs.append(vacuumExpectationValue3(newprojected, vacuum))\n",
    "    return projectedVEVs\n"
   ]
  },
  {
   "cell_type": "code",
   "execution_count": 603,
   "metadata": {},
   "outputs": [
    {
     "output_type": "stream",
     "name": "stdout",
     "text": [
      "-0.007385167335775115\n"
     ]
    }
   ],
   "source": [
    "print(testDoublesAmplitudes(doublesAmplitudes))"
   ]
  },
  {
   "cell_type": "code",
   "execution_count": 604,
   "metadata": {},
   "outputs": [
    {
     "output_type": "stream",
     "name": "stdout",
     "text": [
      "[[1.]] [[[[-0.07016307]]]]\n",
      "[0.9722673740422316, 0.45095247819856366]\n"
     ]
    }
   ],
   "source": [
    "print(singlesAmplitudes, doublesAmplitudes)\n",
    "print(testAmplitudes(singlesAmplitudes, doublesAmplitudes))"
   ]
  },
  {
   "cell_type": "code",
   "execution_count": 605,
   "metadata": {},
   "outputs": [],
   "source": [
    "from scipy.optimize import fsolve\n",
    "def testFunc(x):\n",
    "    doublesAmplitudes[0,0,0,0] = x\n",
    "#    singlesAmplitudes[0,0] = x\n",
    "    test = testDoublesAmplitudes(doublesAmplitudes)\n",
    "    print(x, test)\n",
    "    return test"
   ]
  },
  {
   "cell_type": "code",
   "execution_count": 606,
   "metadata": {
    "tags": []
   },
   "outputs": [
    {
     "output_type": "stream",
     "name": "stdout",
     "text": [
      "[0] 0.37504396180541716\n",
      "[0.] 0.37504396180541716\n",
      "[0.] 0.37504396180541716\n",
      "[1.49011612e-08] 0.3750440414568746\n",
      "[-0.07016307] -0.0073851496474540805\n",
      "[-0.06880814] 0.00013986172659737056\n",
      "[-0.06883332] 5.023655752880215e-08\n",
      "[-0.06883333] -3.420283804442259e-13\n",
      "[-0.06883333] 3.2526065174565133e-19\n",
      "[-0.06883333]\n"
     ]
    }
   ],
   "source": [
    "amplitude = fsolve(testFunc, 0)\n",
    "print(amplitude)"
   ]
  },
  {
   "cell_type": "code",
   "execution_count": 631,
   "metadata": {},
   "outputs": [
    {
     "output_type": "stream",
     "name": "stdout",
     "text": [
      "-0.06883332874447325\n1.0\n + -0.06883332874447325 * a^{1\\alpha}a^{1\\beta}a_{0\\beta}a_{0\\alpha}\n + -0.06883332874447325 * a^{1\\beta}a^{1\\alpha}a_{0\\alpha}a_{0\\beta}\n1.0\n + 0.06883332874447325 * a^{1\\alpha}a^{1\\beta}a_{0\\beta}a_{0\\alpha}\n + 0.06883332874447325 * a^{1\\beta}a^{1\\alpha}a_{0\\alpha}a_{0\\beta}\n-1.751507250174495\n-1.1284543355083052\n"
     ]
    }
   ],
   "source": [
    "print(amplitude[0])\n",
    "doublesAmplitudes[0,0,0,0] = amplitude[0]\n",
    "clusterDoubles = getClusterDoubles(doublesAmplitudes, Nocc, Norbs)\n",
    "waveoperator = exponentialOperator(clusterDoubles, 3)\n",
    "print(waveoperator)\n",
    "inversewaveoperator = exponentialOperator((-1) * clusterDoubles, 3)\n",
    "print(inversewaveoperator)\n",
    "electronicCCEnergy = vacuumExpectationValue3(inversewaveoperator * hamiltonian * waveoperator, vacuum)\n",
    "print(electronicCCEnergy)\n",
    "print(electronicCCEnergy + mol.energy_nuc())"
   ]
  },
  {
   "cell_type": "code",
   "execution_count": 607,
   "metadata": {},
   "outputs": [
    {
     "output_type": "stream",
     "name": "stdout",
     "text": [
      "1.0 * a^{1\\alpha}a^{1\\alpha}a_{0\\alpha}a_{0\\alpha}\n",
      " + 1.0 * a^{1\\alpha}a^{1\\beta}a_{0\\beta}a_{0\\alpha}\n",
      " + 1.0 * a^{1\\beta}a^{1\\alpha}a_{0\\alpha}a_{0\\beta}\n",
      " + 1.0 * a^{1\\beta}a^{1\\beta}a_{0\\beta}a_{0\\beta}\n",
      "0.0\n",
      " + 1.0 * a^{1\\alpha}a^{1\\beta}a_{0\\beta}a_{0\\alpha}\n",
      " + 1.0 * a^{1\\beta}a^{1\\alpha}a_{0\\alpha}a_{0\\beta}\n",
      " + 0.0\n",
      "4.0\n",
      "-0.38936201963626527\n"
     ]
    }
   ],
   "source": [
    "excitation = spinFreeDoubleExcitation(1,1,0,0)\n",
    "print(excitation)\n",
    "excitation.checkNilpotency()\n",
    "print(excitation)\n",
    "print(vacuumExpectationValue3(excitation.conjugate() * excitation, vacuum))\n",
    "excitedenergy = (1 / sqrt(vacuumExpectationValue3(excitation.conjugate() * excitation, vacuum))) * excitation.conjugate() * hamiltonian * (1 / sqrt(vacuumExpectationValue3(excitation.conjugate() * excitation, vacuum))) * excitation\n",
    "print(vacuumExpectationValue3(excitedenergy, vacuum))"
   ]
  },
  {
   "cell_type": "code",
   "execution_count": 608,
   "metadata": {},
   "outputs": [
    {
     "output_type": "execute_result",
     "data": {
      "text/plain": [
       "NPArrayWithTag([2., 0.])"
      ]
     },
     "metadata": {},
     "execution_count": 608
    }
   ],
   "source": [
    "mf.mo_occ"
   ]
  },
  {
   "cell_type": "code",
   "execution_count": 609,
   "metadata": {},
   "outputs": [
    {
     "output_type": "stream",
     "name": "stdout",
     "text": [
      "0.0\n + -4.7142356915405136e-17 * a^{1\\alpha}a_{0\\alpha}\n + -0.5337491016607854 * a^{1\\alpha}a_{1\\alpha}\n + -4.7142356915405136e-17 * a^{1\\beta}a_{0\\beta}\n + -0.5337491016607854 * a^{1\\beta}a_{1\\beta}\n + -1.1898506186070186 * a^{0\\alpha}a_{0\\alpha}\n + 2.600212552842601e-17 * a^{0\\alpha}a_{1\\alpha}\n + -1.1898506186070186 * a^{0\\beta}a_{0\\beta}\n + 2.600212552842601e-17 * a^{0\\beta}a_{1\\beta}\n + 0.09376099045135429 * a^{1\\alpha}a^{1\\beta}a_{0\\beta}a_{0\\alpha}\n + 6.938893903907228e-17 * a^{1\\alpha}a^{1\\beta}a_{0\\beta}a_{1\\alpha}\n + 2.7755575615628914e-17 * a^{1\\alpha}a^{1\\beta}a_{1\\beta}a_{0\\alpha}\n + 0.33906809184265285 * a^{1\\alpha}a^{1\\beta}a_{1\\beta}a_{1\\alpha}\n + 0.3226247132942422 * a^{1\\alpha}a^{0\\alpha}a_{0\\alpha}a_{1\\alpha}\n + 5.204170427930421e-17 * a^{1\\alpha}a^{0\\beta}a_{0\\beta}a_{0\\alpha}\n + 0.3226247132942422 * a^{1\\alpha}a^{0\\beta}a_{0\\beta}a_{1\\alpha}\n + 6.938893903907228e-17 * a^{1\\alpha}a^{0\\beta}a_{1\\beta}a_{1\\alpha}\n + 0.09376099045135429 * a^{1\\beta}a^{1\\alpha}a_{0\\alpha}a_{0\\beta}\n + 6.938893903907228e-17 * a^{1\\beta}a^{1\\alpha}a_{0\\alpha}a_{1\\beta}\n + 2.7755575615628914e-17 * a^{1\\beta}a^{1\\alpha}a_{1\\alpha}a_{0\\beta}\n + 0.33906809184265285 * a^{1\\beta}a^{1\\alpha}a_{1\\alpha}a_{1\\beta}\n + 5.204170427930421e-17 * a^{1\\beta}a^{0\\alpha}a_{0\\alpha}a_{0\\beta}\n + 0.3226247132942422 * a^{1\\beta}a^{0\\alpha}a_{0\\alpha}a_{1\\beta}\n + 6.938893903907228e-17 * a^{1\\beta}a^{0\\alpha}a_{1\\alpha}a_{1\\beta}\n + 0.3226247132942422 * a^{1\\beta}a^{0\\beta}a_{0\\beta}a_{1\\beta}\n + 0.3226247132942424 * a^{0\\alpha}a^{1\\alpha}a_{1\\alpha}a_{0\\alpha}\n + 4.163336342344337e-17 * a^{0\\alpha}a^{1\\beta}a_{0\\beta}a_{0\\alpha}\n + 0.3226247132942424 * a^{0\\alpha}a^{1\\beta}a_{1\\beta}a_{0\\alpha}\n + 2.7755575615628914e-17 * a^{0\\alpha}a^{1\\beta}a_{1\\beta}a_{1\\alpha}\n + 0.3270047556780619 * a^{0\\alpha}a^{0\\beta}a_{0\\beta}a_{0\\alpha}\n + 5.204170427930421e-17 * a^{0\\alpha}a^{0\\beta}a_{0\\beta}a_{1\\alpha}\n + 4.163336342344337e-17 * a^{0\\alpha}a^{0\\beta}a_{1\\beta}a_{0\\alpha}\n + 0.09376099045135429 * a^{0\\alpha}a^{0\\beta}a_{1\\beta}a_{1\\alpha}\n + 4.163336342344337e-17 * a^{0\\beta}a^{1\\alpha}a_{0\\alpha}a_{0\\beta}\n + 0.3226247132942424 * a^{0\\beta}a^{1\\alpha}a_{1\\alpha}a_{0\\beta}\n + 2.7755575615628914e-17 * a^{0\\beta}a^{1\\alpha}a_{1\\alpha}a_{1\\beta}\n + 0.3226247132942424 * a^{0\\beta}a^{1\\beta}a_{1\\beta}a_{0\\beta}\n + 0.3270047556780619 * a^{0\\beta}a^{0\\alpha}a_{0\\alpha}a_{0\\beta}\n + 5.204170427930421e-17 * a^{0\\beta}a^{0\\alpha}a_{0\\alpha}a_{1\\beta}\n + 4.163336342344337e-17 * a^{0\\beta}a^{0\\alpha}a_{1\\alpha}a_{0\\beta}\n + 0.09376099045135429 * a^{0\\beta}a^{0\\alpha}a_{1\\alpha}a_{1\\beta}\n"
     ]
    }
   ],
   "source": [
    "print(hamiltonian)"
   ]
  },
  {
   "cell_type": "code",
   "execution_count": 610,
   "metadata": {},
   "outputs": [
    {
     "output_type": "execute_result",
     "data": {
      "text/plain": [
       "array([[6.54009511e-01, 8.32667268e-17, 6.45249427e-01],\n",
       "       [1.04083409e-16, 1.87521981e-01, 5.55111512e-17],\n",
       "       [6.45249427e-01, 1.38777878e-16, 6.78136184e-01]])"
      ]
     },
     "metadata": {},
     "execution_count": 610
    }
   ],
   "source": [
    "eri"
   ]
  },
  {
   "cell_type": "code",
   "execution_count": 611,
   "metadata": {},
   "outputs": [
    {
     "output_type": "stream",
     "name": "stdout",
     "text": [
      "0.0\n + 0.0\n + 0.0\n + 0.0\n + 0.3270047556780619 * a^{0\\alpha}a^{0\\beta}a_{0\\beta}a_{0\\alpha}\n + 5.204170427930421e-17 * a^{0\\alpha}a^{0\\beta}a_{0\\beta}a_{1\\alpha}\n + 4.163336342344337e-17 * a^{0\\alpha}a^{0\\beta}a_{1\\beta}a_{0\\alpha}\n + 0.09376099045135429 * a^{0\\alpha}a^{0\\beta}a_{1\\beta}a_{1\\alpha}\n + 0.0\n + 0.3226247132942424 * a^{0\\alpha}a^{1\\alpha}a_{1\\alpha}a_{0\\alpha}\n + 0.0\n + 4.163336342344337e-17 * a^{0\\alpha}a^{1\\beta}a_{0\\beta}a_{0\\alpha}\n + 0.3226247132942424 * a^{0\\alpha}a^{1\\beta}a_{1\\beta}a_{0\\alpha}\n + 2.7755575615628914e-17 * a^{0\\alpha}a^{1\\beta}a_{1\\beta}a_{1\\alpha}\n + 0.3270047556780619 * a^{0\\beta}a^{0\\alpha}a_{0\\alpha}a_{0\\beta}\n + 5.204170427930421e-17 * a^{0\\beta}a^{0\\alpha}a_{0\\alpha}a_{1\\beta}\n + 4.163336342344337e-17 * a^{0\\beta}a^{0\\alpha}a_{1\\alpha}a_{0\\beta}\n + 0.09376099045135429 * a^{0\\beta}a^{0\\alpha}a_{1\\alpha}a_{1\\beta}\n + 0.0\n + 0.0\n + 0.0\n + 0.0\n + 4.163336342344337e-17 * a^{0\\beta}a^{1\\alpha}a_{0\\alpha}a_{0\\beta}\n + 0.3226247132942424 * a^{0\\beta}a^{1\\alpha}a_{1\\alpha}a_{0\\beta}\n + 2.7755575615628914e-17 * a^{0\\beta}a^{1\\alpha}a_{1\\alpha}a_{1\\beta}\n + 0.0\n + 0.3226247132942424 * a^{0\\beta}a^{1\\beta}a_{1\\beta}a_{0\\beta}\n + 0.0\n + 0.0\n + 0.3226247132942422 * a^{1\\alpha}a^{0\\alpha}a_{0\\alpha}a_{1\\alpha}\n + 0.0\n + 5.204170427930421e-17 * a^{1\\alpha}a^{0\\beta}a_{0\\beta}a_{0\\alpha}\n + 0.3226247132942422 * a^{1\\alpha}a^{0\\beta}a_{0\\beta}a_{1\\alpha}\n + 6.938893903907228e-17 * a^{1\\alpha}a^{0\\beta}a_{1\\beta}a_{1\\alpha}\n + 0.0\n + 0.0\n + 0.0\n + 0.0\n + 0.09376099045135429 * a^{1\\alpha}a^{1\\beta}a_{0\\beta}a_{0\\alpha}\n + 6.938893903907228e-17 * a^{1\\alpha}a^{1\\beta}a_{0\\beta}a_{1\\alpha}\n + 2.7755575615628914e-17 * a^{1\\alpha}a^{1\\beta}a_{1\\beta}a_{0\\alpha}\n + 0.33906809184265285 * a^{1\\alpha}a^{1\\beta}a_{1\\beta}a_{1\\alpha}\n + 5.204170427930421e-17 * a^{1\\beta}a^{0\\alpha}a_{0\\alpha}a_{0\\beta}\n + 0.3226247132942422 * a^{1\\beta}a^{0\\alpha}a_{0\\alpha}a_{1\\beta}\n + 6.938893903907228e-17 * a^{1\\beta}a^{0\\alpha}a_{1\\alpha}a_{1\\beta}\n + 0.0\n + 0.3226247132942422 * a^{1\\beta}a^{0\\beta}a_{0\\beta}a_{1\\beta}\n + 0.0\n + 0.09376099045135429 * a^{1\\beta}a^{1\\alpha}a_{0\\alpha}a_{0\\beta}\n + 6.938893903907228e-17 * a^{1\\beta}a^{1\\alpha}a_{0\\alpha}a_{1\\beta}\n + 2.7755575615628914e-17 * a^{1\\beta}a^{1\\alpha}a_{1\\alpha}a_{0\\beta}\n + 0.33906809184265285 * a^{1\\beta}a^{1\\alpha}a_{1\\alpha}a_{1\\beta}\n + 0.0\n + 0.0\n + 0.0\n + 0.0\n"
     ]
    }
   ],
   "source": [
    "print(hamiltonian2Body)"
   ]
  },
  {
   "cell_type": "code",
   "execution_count": 612,
   "metadata": {},
   "outputs": [
    {
     "output_type": "execute_result",
     "data": {
      "text/plain": [
       "array([[-1.18985062e+00,  2.60021255e-17],\n",
       "       [-4.71423569e-17, -5.33749102e-01]])"
      ]
     },
     "metadata": {},
     "execution_count": 612
    }
   ],
   "source": [
    "h1"
   ]
  },
  {
   "cell_type": "code",
   "execution_count": 613,
   "metadata": {},
   "outputs": [
    {
     "output_type": "stream",
     "name": "stdout",
     "text": [
      "-1.1898506186070186 * a^{0\\alpha}a_{0\\alpha}\n + 2.600212552842601e-17 * a^{0\\alpha}a_{1\\alpha}\n + -1.1898506186070186 * a^{0\\beta}a_{0\\beta}\n + 2.600212552842601e-17 * a^{0\\beta}a_{1\\beta}\n + -4.7142356915405136e-17 * a^{1\\alpha}a_{0\\alpha}\n + -0.5337491016607854 * a^{1\\alpha}a_{1\\alpha}\n + -4.7142356915405136e-17 * a^{1\\beta}a_{0\\beta}\n + -0.5337491016607854 * a^{1\\beta}a_{1\\beta}\n"
     ]
    }
   ],
   "source": [
    "print(hamiltonian1Body)"
   ]
  },
  {
   "cell_type": "code",
   "execution_count": 614,
   "metadata": {},
   "outputs": [
    {
     "output_type": "stream",
     "name": "stdout",
     "text": [
      "0.0\n + 1.0 * a^{1\\alpha}a^{1\\beta}a_{0\\beta}a_{0\\alpha}\n + 1.0 * a^{1\\beta}a^{1\\alpha}a_{0\\alpha}a_{0\\beta}\n + 0.0\n"
     ]
    }
   ],
   "source": [
    "print(excitation)"
   ]
  },
  {
   "cell_type": "code",
   "execution_count": 615,
   "metadata": {},
   "outputs": [
    {
     "output_type": "stream",
     "name": "stdout",
     "text": [
      "-0.13343727541519634 * a^{0\\alpha}a^{0\\beta}a_{1\\beta}a_{1\\alpha}a^{1\\alpha}a_{1\\alpha}a^{1\\alpha}a^{1\\beta}a_{0\\beta}a_{0\\alpha}\n-0.13343727541519634 * a^{0\\alpha}a^{0\\beta}a_{1\\beta}a_{1\\alpha}a^{1\\alpha}a_{1\\alpha}a^{1\\beta}a^{1\\alpha}a_{0\\alpha}a_{0\\beta}\n-0.13343727541519634 * a^{0\\alpha}a^{0\\beta}a_{1\\beta}a_{1\\alpha}a^{1\\beta}a_{1\\beta}a^{1\\alpha}a^{1\\beta}a_{0\\beta}a_{0\\alpha}\n-0.13343727541519634 * a^{0\\alpha}a^{0\\beta}a_{1\\beta}a_{1\\alpha}a^{1\\beta}a_{1\\beta}a^{1\\beta}a^{1\\alpha}a_{0\\alpha}a_{0\\beta}\n-0.13343727541519634 * a^{0\\beta}a^{0\\alpha}a_{1\\alpha}a_{1\\beta}a^{1\\alpha}a_{1\\alpha}a^{1\\alpha}a^{1\\beta}a_{0\\beta}a_{0\\alpha}\n-0.13343727541519634 * a^{0\\beta}a^{0\\alpha}a_{1\\alpha}a_{1\\beta}a^{1\\alpha}a_{1\\alpha}a^{1\\beta}a^{1\\alpha}a_{0\\alpha}a_{0\\beta}\n-0.13343727541519634 * a^{0\\beta}a^{0\\alpha}a_{1\\alpha}a_{1\\beta}a^{1\\beta}a_{1\\beta}a^{1\\alpha}a^{1\\beta}a_{0\\beta}a_{0\\alpha}\n-0.13343727541519634 * a^{0\\beta}a^{0\\alpha}a_{1\\alpha}a_{1\\beta}a^{1\\beta}a_{1\\beta}a^{1\\beta}a^{1\\alpha}a_{0\\alpha}a_{0\\beta}\n0.08476702296066321 * a^{0\\alpha}a^{0\\beta}a_{1\\beta}a_{1\\alpha}a^{1\\alpha}a^{1\\beta}a_{1\\beta}a_{1\\alpha}a^{1\\alpha}a^{1\\beta}a_{0\\beta}a_{0\\alpha}\n0.08476702296066321 * a^{0\\alpha}a^{0\\beta}a_{1\\beta}a_{1\\alpha}a^{1\\alpha}a^{1\\beta}a_{1\\beta}a_{1\\alpha}a^{1\\beta}a^{1\\alpha}a_{0\\alpha}a_{0\\beta}\n0.08476702296066321 * a^{0\\alpha}a^{0\\beta}a_{1\\beta}a_{1\\alpha}a^{1\\beta}a^{1\\alpha}a_{1\\alpha}a_{1\\beta}a^{1\\alpha}a^{1\\beta}a_{0\\beta}a_{0\\alpha}\n0.08476702296066321 * a^{0\\alpha}a^{0\\beta}a_{1\\beta}a_{1\\alpha}a^{1\\beta}a^{1\\alpha}a_{1\\alpha}a_{1\\beta}a^{1\\beta}a^{1\\alpha}a_{0\\alpha}a_{0\\beta}\n0.08476702296066321 * a^{0\\beta}a^{0\\alpha}a_{1\\alpha}a_{1\\beta}a^{1\\alpha}a^{1\\beta}a_{1\\beta}a_{1\\alpha}a^{1\\alpha}a^{1\\beta}a_{0\\beta}a_{0\\alpha}\n0.08476702296066321 * a^{0\\beta}a^{0\\alpha}a_{1\\alpha}a_{1\\beta}a^{1\\alpha}a^{1\\beta}a_{1\\beta}a_{1\\alpha}a^{1\\beta}a^{1\\alpha}a_{0\\alpha}a_{0\\beta}\n0.08476702296066321 * a^{0\\beta}a^{0\\alpha}a_{1\\alpha}a_{1\\beta}a^{1\\beta}a^{1\\alpha}a_{1\\alpha}a_{1\\beta}a^{1\\alpha}a^{1\\beta}a_{0\\beta}a_{0\\alpha}\n0.08476702296066321 * a^{0\\beta}a^{0\\alpha}a_{1\\alpha}a_{1\\beta}a^{1\\beta}a^{1\\alpha}a_{1\\alpha}a_{1\\beta}a^{1\\beta}a^{1\\alpha}a_{0\\alpha}a_{0\\beta}\n"
     ]
    },
    {
     "output_type": "execute_result",
     "data": {
      "text/plain": [
       "-0.38936201963626527"
      ]
     },
     "metadata": {},
     "execution_count": 615
    }
   ],
   "source": [
    "vacuumExpectationValue3(0.25 * excitation.conjugate() * hamiltonian * excitation, [1,0], True)"
   ]
  },
  {
   "cell_type": "code",
   "execution_count": 616,
   "metadata": {},
   "outputs": [
    {
     "output_type": "error",
     "ename": "UnboundLocalError",
     "evalue": "local variable 'result' referenced before assignment",
     "traceback": [
      "\u001b[0;31m---------------------------------------------------------------------------\u001b[0m",
      "\u001b[0;31mUnboundLocalError\u001b[0m                         Traceback (most recent call last)",
      "\u001b[0;32m<ipython-input-616-cab24b6b5ccf>\u001b[0m in \u001b[0;36m<module>\u001b[0;34m\u001b[0m\n\u001b[0;32m----> 1\u001b[0;31m \u001b[0mvacuumExpectationValue3\u001b[0m\u001b[0;34m(\u001b[0m\u001b[0moperatorProduct\u001b[0m\u001b[0;34m(\u001b[0m\u001b[0;34m[\u001b[0m\u001b[0mbasicOperator\u001b[0m\u001b[0;34m(\u001b[0m\u001b[0;36m1\u001b[0m\u001b[0;34m,\u001b[0m\u001b[0;36m0\u001b[0m\u001b[0;34m,\u001b[0m\u001b[0;36m0\u001b[0m\u001b[0;34m)\u001b[0m\u001b[0;34m]\u001b[0m\u001b[0;34m)\u001b[0m \u001b[0;34m*\u001b[0m \u001b[0mhamiltonian\u001b[0m \u001b[0;34m*\u001b[0m \u001b[0moperatorProduct\u001b[0m\u001b[0;34m(\u001b[0m\u001b[0;34m[\u001b[0m\u001b[0mbasicOperator\u001b[0m\u001b[0;34m(\u001b[0m\u001b[0;36m0\u001b[0m\u001b[0;34m,\u001b[0m\u001b[0;36m0\u001b[0m\u001b[0;34m,\u001b[0m\u001b[0;36m0\u001b[0m\u001b[0;34m)\u001b[0m\u001b[0;34m]\u001b[0m\u001b[0;34m)\u001b[0m\u001b[0;34m,\u001b[0m \u001b[0mvacuum\u001b[0m\u001b[0;34m,\u001b[0m \u001b[0;32mTrue\u001b[0m\u001b[0;34m)\u001b[0m\u001b[0;34m\u001b[0m\u001b[0;34m\u001b[0m\u001b[0m\n\u001b[0m",
      "\u001b[0;32m~/Documents/DPhil/code/DPhil/COSCC/Wick.py\u001b[0m in \u001b[0;36mvacuumExpectationValue3\u001b[0;34m(operator, vacuum, printing)\u001b[0m\n\u001b[1;32m    567\u001b[0m         \u001b[0mresult\u001b[0m \u001b[0;34m=\u001b[0m \u001b[0;36m0\u001b[0m\u001b[0;34m\u001b[0m\u001b[0;34m\u001b[0m\u001b[0m\n\u001b[1;32m    568\u001b[0m         \u001b[0;32mfor\u001b[0m \u001b[0mproduct\u001b[0m \u001b[0;32min\u001b[0m \u001b[0moperator\u001b[0m\u001b[0;34m.\u001b[0m\u001b[0msummandList\u001b[0m\u001b[0;34m:\u001b[0m\u001b[0;34m\u001b[0m\u001b[0;34m\u001b[0m\u001b[0m\n\u001b[0;32m--> 569\u001b[0;31m             \u001b[0mterm\u001b[0m \u001b[0;34m=\u001b[0m \u001b[0mrecursiveFullContraction\u001b[0m\u001b[0;34m(\u001b[0m\u001b[0mproduct\u001b[0m\u001b[0;34m,\u001b[0m \u001b[0mvacuum\u001b[0m\u001b[0;34m)\u001b[0m\u001b[0;34m\u001b[0m\u001b[0;34m\u001b[0m\u001b[0m\n\u001b[0m\u001b[1;32m    570\u001b[0m             \u001b[0;32mif\u001b[0m \u001b[0mprinting\u001b[0m \u001b[0;32mand\u001b[0m \u001b[0mterm\u001b[0m \u001b[0;34m!=\u001b[0m \u001b[0;36m0.\u001b[0m\u001b[0;34m:\u001b[0m\u001b[0;34m\u001b[0m\u001b[0;34m\u001b[0m\u001b[0m\n\u001b[1;32m    571\u001b[0m                 \u001b[0mprint\u001b[0m\u001b[0;34m(\u001b[0m\u001b[0mproduct\u001b[0m\u001b[0;34m)\u001b[0m\u001b[0;34m\u001b[0m\u001b[0;34m\u001b[0m\u001b[0m\n",
      "\u001b[0;32m~/Documents/DPhil/code/DPhil/COSCC/Wick.py\u001b[0m in \u001b[0;36mrecursiveFullContraction\u001b[0;34m(operatorProduct_, vacuum)\u001b[0m\n\u001b[1;32m    559\u001b[0m \u001b[0;31m#        else:\u001b[0m\u001b[0;34m\u001b[0m\u001b[0;34m\u001b[0m\u001b[0;34m\u001b[0m\u001b[0m\n\u001b[1;32m    560\u001b[0m \u001b[0;31m#            result += 0\u001b[0m\u001b[0;34m\u001b[0m\u001b[0;34m\u001b[0m\u001b[0;34m\u001b[0m\u001b[0m\n\u001b[0;32m--> 561\u001b[0;31m         \u001b[0;32mreturn\u001b[0m \u001b[0mresult\u001b[0m\u001b[0;34m\u001b[0m\u001b[0;34m\u001b[0m\u001b[0m\n\u001b[0m\u001b[1;32m    562\u001b[0m \u001b[0;34m\u001b[0m\u001b[0m\n\u001b[1;32m    563\u001b[0m \u001b[0;32mdef\u001b[0m \u001b[0mvacuumExpectationValue3\u001b[0m\u001b[0;34m(\u001b[0m\u001b[0moperator\u001b[0m\u001b[0;34m,\u001b[0m \u001b[0mvacuum\u001b[0m\u001b[0;34m,\u001b[0m \u001b[0mprinting\u001b[0m\u001b[0;34m=\u001b[0m\u001b[0;32mFalse\u001b[0m\u001b[0;34m)\u001b[0m\u001b[0;34m:\u001b[0m\u001b[0;34m\u001b[0m\u001b[0;34m\u001b[0m\u001b[0m\n",
      "\u001b[0;31mUnboundLocalError\u001b[0m: local variable 'result' referenced before assignment"
     ]
    }
   ],
   "source": [
    "vacuumExpectationValue3(operatorProduct([basicOperator(1,0,0)]) * hamiltonian * operatorProduct([basicOperator(0,0,0)]), vacuum, True)"
   ]
  },
  {
   "cell_type": "code",
   "execution_count": 617,
   "metadata": {},
   "outputs": [
    {
     "output_type": "execute_result",
     "data": {
      "text/plain": [
       "-0.5337491016607854"
      ]
     },
     "metadata": {},
     "execution_count": 617
    }
   ],
   "source": [
    "h1[1,1]"
   ]
  },
  {
   "cell_type": "code",
   "execution_count": 618,
   "metadata": {},
   "outputs": [
    {
     "output_type": "execute_result",
     "data": {
      "text/plain": [
       "0.6781361836853057"
      ]
     },
     "metadata": {},
     "execution_count": 618
    }
   ],
   "source": [
    "eri[2,2]"
   ]
  },
  {
   "cell_type": "code",
   "execution_count": 619,
   "metadata": {},
   "outputs": [
    {
     "output_type": "execute_result",
     "data": {
      "text/plain": [
       "-0.38936201963626504"
      ]
     },
     "metadata": {},
     "execution_count": 619
    }
   ],
   "source": [
    "2 * h1[1,1] + 1 * eri[2,2]"
   ]
  },
  {
   "cell_type": "code",
   "execution_count": 620,
   "metadata": {},
   "outputs": [
    {
     "output_type": "stream",
     "name": "stdout",
     "text": [
      "0.990656547\n + -0.136380375 * a^{1\\alpha}a^{1\\beta}a_{0\\beta}a_{0\\alpha}\n"
     ]
    }
   ],
   "source": [
    "print(fcioperator)"
   ]
  },
  {
   "cell_type": "code",
   "execution_count": 621,
   "metadata": {},
   "outputs": [],
   "source": [
    "a, b = 0.990656547, -0.136380375"
   ]
  },
  {
   "cell_type": "code",
   "execution_count": 622,
   "metadata": {},
   "outputs": [
    {
     "output_type": "stream",
     "name": "stdout",
     "text": [
      "-1.7256917258579132 0.18752198090270863 -0.38936201963626504\n"
     ]
    }
   ],
   "source": [
    "h00 = 2 * h1[0,0] + 1 * eri[0,0]\n",
    "h01 = 2 * h1[0,1] + 1 * eri[1,1] #Mistake is here!!!!! (eri[0,2] -> eri[1,1])\n",
    "h11 = 2 * h1[1,1] + 1 * eri[2,2]\n",
    "\n",
    "print(h00, h01, h11)"
   ]
  },
  {
   "cell_type": "code",
   "execution_count": 623,
   "metadata": {},
   "outputs": [],
   "source": [
    "fcienergy = a * a * h00 + 2 * a * b * h01 + b * b * h11"
   ]
  },
  {
   "cell_type": "code",
   "execution_count": 624,
   "metadata": {},
   "outputs": [
    {
     "output_type": "execute_result",
     "data": {
      "text/plain": [
       "-1.1284543369079416"
      ]
     },
     "metadata": {},
     "execution_count": 624
    }
   ],
   "source": [
    "fcienergy + mol.energy_nuc()"
   ]
  },
  {
   "cell_type": "code",
   "execution_count": 625,
   "metadata": {},
   "outputs": [
    {
     "output_type": "stream",
     "name": "stdout",
     "text": [
      "0.09376099045135429 * a^{0\\alpha}a^{0\\beta}a_{1\\beta}a_{1\\alpha}a^{1\\alpha}a^{1\\beta}a_{0\\beta}a_{0\\alpha}\n0.09376099045135429 * a^{0\\alpha}a^{0\\beta}a_{1\\beta}a_{1\\alpha}a^{1\\beta}a^{1\\alpha}a_{0\\alpha}a_{0\\beta}\n0.09376099045135429 * a^{0\\beta}a^{0\\alpha}a_{1\\alpha}a_{1\\beta}a^{1\\alpha}a^{1\\beta}a_{0\\beta}a_{0\\alpha}\n0.09376099045135429 * a^{0\\beta}a^{0\\alpha}a_{1\\alpha}a_{1\\beta}a^{1\\beta}a^{1\\alpha}a_{0\\alpha}a_{0\\beta}\n"
     ]
    },
    {
     "output_type": "execute_result",
     "data": {
      "text/plain": [
       "0.37504396180541716"
      ]
     },
     "metadata": {},
     "execution_count": 625
    }
   ],
   "source": [
    "vacuumExpectationValue3(hamiltonian * excitation, vacuum, True)"
   ]
  },
  {
   "cell_type": "code",
   "execution_count": 626,
   "metadata": {},
   "outputs": [
    {
     "output_type": "execute_result",
     "data": {
      "text/plain": [
       "(-1.1284543355083052,\n",
       " array([[ 9.90656547e-01,  2.77555756e-17],\n",
       "        [ 1.91460513e-17, -1.36380375e-01]]))"
      ]
     },
     "metadata": {},
     "execution_count": 626
    }
   ],
   "source": [
    "cisolver.kernel()"
   ]
  },
  {
   "cell_type": "code",
   "execution_count": null,
   "metadata": {},
   "outputs": [],
   "source": []
  }
 ]
}