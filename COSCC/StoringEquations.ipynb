{
 "cells": [
  {
   "cell_type": "code",
   "execution_count": 1,
   "metadata": {},
   "outputs": [],
   "source": [
    "import pickle"
   ]
  },
  {
   "cell_type": "code",
   "execution_count": 2,
   "metadata": {},
   "outputs": [],
   "source": [
    "from GeneralisedWick import *"
   ]
  },
  {
   "cell_type": "code",
   "execution_count": 3,
   "metadata": {},
   "outputs": [],
   "source": [
    "fockTensor = Tensor(\"f\", ['g'], ['g'])\n",
    "h1Tensor = Tensor(\"h\", ['g'], ['g'])\n",
    "h2Tensor = Tensor(\"v\", ['g', 'g'], ['g', 'g'])\n",
    "t2Tensor = Tensor(\"{t_{2}}\", ['p', 'p'], ['h', 'h'])"
   ]
  },
  {
   "cell_type": "code",
   "execution_count": 4,
   "metadata": {},
   "outputs": [],
   "source": [
    "fockTensor.getAllDiagramsGeneral()\n",
    "h2Tensor.getAllDiagramsGeneral()"
   ]
  },
  {
   "cell_type": "code",
   "execution_count": 5,
   "metadata": {},
   "outputs": [],
   "source": [
    "def commutator(operator1, operator2):\n",
    "    return operator1 * operator2 + (-1) * operator2 * operator1"
   ]
  },
  {
   "cell_type": "code",
   "execution_count": 6,
   "metadata": {},
   "outputs": [],
   "source": [
    "def BCHSimilarityTransform(H, T, order):\n",
    "    result = H\n",
    "    for k in range(order):\n",
    "        nestedCommutator = H\n",
    "        for i in range(k + 1):\n",
    "            nestedCommutator = commutator(nestedCommutator, T)\n",
    "        result += (1 / factorial(k + 1)) * nestedCommutator\n",
    "    return result"
   ]
  },
  {
   "cell_type": "code",
   "execution_count": 7,
   "metadata": {},
   "outputs": [],
   "source": [
    "def projectionManifold(excitationLevel):\n",
    "    return Tensor('\\Phi', ['h'] * excitationLevel, ['p'] * excitationLevel)"
   ]
  },
  {
   "cell_type": "code",
   "execution_count": 8,
   "metadata": {},
   "outputs": [],
   "source": [
    "normalOrderedHamiltonian = sum(fockTensor.diagrams) + (1. / 2.) * sum(h2Tensor.diagrams)\n",
    "BCHTransformedNormalOrderedHamiltonian = BCHSimilarityTransform(normalOrderedHamiltonian, 0.25 * t2Tensor, 4)"
   ]
  },
  {
   "cell_type": "code",
   "execution_count": 9,
   "metadata": {},
   "outputs": [],
   "source": [
    "def pickleEquation(equation, name):\n",
    "    with open(name + \".pkl\", \"wb\") as f:\n",
    "        p = pickle.Pickler(f)\n",
    "        p.dump(equation)"
   ]
  },
  {
   "cell_type": "code",
   "execution_count": 10,
   "metadata": {},
   "outputs": [],
   "source": [
    "def unpickleEquation(name):\n",
    "    with open(name + \".pkl\", \"rb\") as f:\n",
    "        up = pickle.Unpickler(f)\n",
    "        return up.load()"
   ]
  },
  {
   "cell_type": "code",
   "execution_count": 9,
   "metadata": {},
   "outputs": [],
   "source": [
    "CCDEnergyEquation = evaluateWick(BCHTransformedNormalOrderedHamiltonian, True)"
   ]
  },
  {
   "cell_type": "code",
   "execution_count": 12,
   "metadata": {},
   "outputs": [],
   "source": [
    "pickleEquation(CCDEnergyEquation, \"CCDEnergyEquation\")"
   ]
  },
  {
   "cell_type": "code",
   "execution_count": 13,
   "metadata": {},
   "outputs": [],
   "source": [
    "UnpickledCCDEnergyEquation = unpickleEquation(\"CCDEnergyEquation\")"
   ]
  },
  {
   "cell_type": "code",
   "execution_count": 18,
   "metadata": {},
   "outputs": [
    {
     "name": "stdout",
     "output_type": "stream",
     "text": [
      "v_{hh}^{pp} {t_{2}}_{pp}^{hh}\n"
     ]
    }
   ],
   "source": [
    "print(*UnpickledCCDEnergyEquation.summandList[0].tensorList)"
   ]
  },
  {
   "cell_type": "code",
   "execution_count": 19,
   "metadata": {},
   "outputs": [
    {
     "data": {
      "text/plain": [
       "{'__name__': '__main__',\n",
       " '__doc__': 'Automatically created module for IPython interactive environment',\n",
       " '__package__': None,\n",
       " '__loader__': None,\n",
       " '__spec__': None,\n",
       " '__builtin__': <module 'builtins' (built-in)>,\n",
       " '__builtins__': <module 'builtins' (built-in)>,\n",
       " '_ih': ['',\n",
       "  'import pickle',\n",
       "  'from GeneralisedWick import *',\n",
       "  'fockTensor = Tensor(\"f\", [\\'g\\'], [\\'g\\'])\\nh1Tensor = Tensor(\"h\", [\\'g\\'], [\\'g\\'])\\nh2Tensor = Tensor(\"v\", [\\'g\\', \\'g\\'], [\\'g\\', \\'g\\'])\\nt2Tensor = Tensor(\"{t_{2}}\", [\\'p\\', \\'p\\'], [\\'h\\', \\'h\\'])',\n",
       "  'fockTensor.getAllDiagramsGeneral()\\nh2Tensor.getAllDiagramsGeneral()',\n",
       "  'def commutator(operator1, operator2):\\n    return operator1 * operator2 + (-1) * operator2 * operator1',\n",
       "  'def BCHSimilarityTransform(H, T, order):\\n    result = H\\n    for k in range(order):\\n        nestedCommutator = H\\n        for i in range(k + 1):\\n            nestedCommutator = commutator(nestedCommutator, T)\\n        result += (1 / factorial(k + 1)) * nestedCommutator\\n    return result',\n",
       "  \"def projectionManifold(excitationLevel):\\n    return Tensor('\\\\Phi', ['h'] * excitationLevel, ['p'] * excitationLevel)\",\n",
       "  'normalOrderedHamiltonian = sum(fockTensor.diagrams) + (1. / 2.) * sum(h2Tensor.diagrams)\\nBCHTransformedNormalOrderedHamiltonian = BCHSimilarityTransform(normalOrderedHamiltonian, 0.25 * t2Tensor, 4)',\n",
       "  'def pickleEquation(equation, name):\\n    with open(name + \".pkl\", \"wb\") as f:\\n        p = pickle.Pickler(f)\\n        p.dump(equation)',\n",
       "  'def unpickleEquation(name):\\n    with open(name + \".pkl\", \"rb\") as f:\\n        up = pickle.Unpickler(f)\\n        return up.load()',\n",
       "  'CCDEnergyEquation = evaluateWick(BCHTransformedNormalOrderedHamiltonian, True)',\n",
       "  'pickleEquation(CCDEnergyEquation, \"CCDEnergyEquation\")',\n",
       "  'UnpickledCCDEnergyEquation = unpickleEquation(\"CCDEnergyEquation\")',\n",
       "  'print(UnpickledCCDEnergyEquation)',\n",
       "  'print(UnpickledCCDEnergyEquation.summandList[0].tensorList)',\n",
       "  'print(UnpickledCCDEnergyEquation.summandList[0].tensorList)\\nprint(UnpickledCCDEnergyEquation.summandList[1].tensorList)',\n",
       "  'print(UnpickledCCDEnergyEquation.summandList[0].tensorList)\\nprint(UnpickledCCDEnergyEquation.summandList[1].tensorList[0])',\n",
       "  'print(*UnpickledCCDEnergyEquation.summandList[0].tensorList)',\n",
       "  'globals()'],\n",
       " '_oh': {},\n",
       " '_dh': ['/home/dpt02/dpt/iclb0552/code/DPhil/COSCC'],\n",
       " 'In': ['',\n",
       "  'import pickle',\n",
       "  'from GeneralisedWick import *',\n",
       "  'fockTensor = Tensor(\"f\", [\\'g\\'], [\\'g\\'])\\nh1Tensor = Tensor(\"h\", [\\'g\\'], [\\'g\\'])\\nh2Tensor = Tensor(\"v\", [\\'g\\', \\'g\\'], [\\'g\\', \\'g\\'])\\nt2Tensor = Tensor(\"{t_{2}}\", [\\'p\\', \\'p\\'], [\\'h\\', \\'h\\'])',\n",
       "  'fockTensor.getAllDiagramsGeneral()\\nh2Tensor.getAllDiagramsGeneral()',\n",
       "  'def commutator(operator1, operator2):\\n    return operator1 * operator2 + (-1) * operator2 * operator1',\n",
       "  'def BCHSimilarityTransform(H, T, order):\\n    result = H\\n    for k in range(order):\\n        nestedCommutator = H\\n        for i in range(k + 1):\\n            nestedCommutator = commutator(nestedCommutator, T)\\n        result += (1 / factorial(k + 1)) * nestedCommutator\\n    return result',\n",
       "  \"def projectionManifold(excitationLevel):\\n    return Tensor('\\\\Phi', ['h'] * excitationLevel, ['p'] * excitationLevel)\",\n",
       "  'normalOrderedHamiltonian = sum(fockTensor.diagrams) + (1. / 2.) * sum(h2Tensor.diagrams)\\nBCHTransformedNormalOrderedHamiltonian = BCHSimilarityTransform(normalOrderedHamiltonian, 0.25 * t2Tensor, 4)',\n",
       "  'def pickleEquation(equation, name):\\n    with open(name + \".pkl\", \"wb\") as f:\\n        p = pickle.Pickler(f)\\n        p.dump(equation)',\n",
       "  'def unpickleEquation(name):\\n    with open(name + \".pkl\", \"rb\") as f:\\n        up = pickle.Unpickler(f)\\n        return up.load()',\n",
       "  'CCDEnergyEquation = evaluateWick(BCHTransformedNormalOrderedHamiltonian, True)',\n",
       "  'pickleEquation(CCDEnergyEquation, \"CCDEnergyEquation\")',\n",
       "  'UnpickledCCDEnergyEquation = unpickleEquation(\"CCDEnergyEquation\")',\n",
       "  'print(UnpickledCCDEnergyEquation)',\n",
       "  'print(UnpickledCCDEnergyEquation.summandList[0].tensorList)',\n",
       "  'print(UnpickledCCDEnergyEquation.summandList[0].tensorList)\\nprint(UnpickledCCDEnergyEquation.summandList[1].tensorList)',\n",
       "  'print(UnpickledCCDEnergyEquation.summandList[0].tensorList)\\nprint(UnpickledCCDEnergyEquation.summandList[1].tensorList[0])',\n",
       "  'print(*UnpickledCCDEnergyEquation.summandList[0].tensorList)',\n",
       "  'globals()'],\n",
       " 'Out': {},\n",
       " 'get_ipython': <bound method InteractiveShell.get_ipython of <ipykernel.zmqshell.ZMQInteractiveShell object at 0x7f17c2f6a080>>,\n",
       " 'exit': <IPython.core.autocall.ZMQExitAutocall at 0x7f17b48fb208>,\n",
       " 'quit': <IPython.core.autocall.ZMQExitAutocall at 0x7f17b48fb208>,\n",
       " '_': '',\n",
       " '__': '',\n",
       " '___': '',\n",
       " 'os': <module 'os' from '/usr/lib64/python3.6/os.py'>,\n",
       " 'sys': <module 'sys' (built-in)>,\n",
       " '_i': 'print(*UnpickledCCDEnergyEquation.summandList[0].tensorList)',\n",
       " '_ii': 'print(UnpickledCCDEnergyEquation.summandList[0].tensorList)\\nprint(UnpickledCCDEnergyEquation.summandList[1].tensorList[0])',\n",
       " '_iii': 'print(UnpickledCCDEnergyEquation.summandList[0].tensorList)\\nprint(UnpickledCCDEnergyEquation.summandList[1].tensorList)',\n",
       " '_i1': 'import pickle',\n",
       " 'pickle': <module 'pickle' from '/usr/lib64/python3.6/pickle.py'>,\n",
       " '_i2': 'from GeneralisedWick import *',\n",
       " 'np': <module 'numpy' from '/u/dpt/iclb0552/.local/lib/python3.6/site-packages/numpy/__init__.py'>,\n",
       " 'Number': numbers.Number,\n",
       " 'gto': <module 'pyscf.gto' from '/u/dpt/iclb0552/.local/lib/python3.6/site-packages/pyscf/gto/__init__.py'>,\n",
       " 'scf': <module 'pyscf.scf' from '/u/dpt/iclb0552/.local/lib/python3.6/site-packages/pyscf/scf/__init__.py'>,\n",
       " 'ao2mo': <module 'pyscf.ao2mo' from '/u/dpt/iclb0552/.local/lib/python3.6/site-packages/pyscf/ao2mo/__init__.py'>,\n",
       " 'fci': <module 'pyscf.fci' from '/u/dpt/iclb0552/.local/lib/python3.6/site-packages/pyscf/fci/__init__.py'>,\n",
       " 'deepcopy': <function copy.deepcopy(x, memo=None, _nil=[])>,\n",
       " 'copy': <function copy.copy(x)>,\n",
       " 'factorial': <function math.factorial>,\n",
       " 'itertools': <module 'itertools' (built-in)>,\n",
       " 'string': <module 'string' from '/usr/lib64/python3.6/string.py'>,\n",
       " 'Index': GeneralisedWick.Index,\n",
       " 'basicOperator': GeneralisedWick.basicOperator,\n",
       " 'operatorProduct': GeneralisedWick.operatorProduct,\n",
       " 'operatorSum': GeneralisedWick.operatorSum,\n",
       " 'excitation': GeneralisedWick.excitation,\n",
       " 'spinFreeExcitation': GeneralisedWick.spinFreeExcitation,\n",
       " 'Tensor': GeneralisedWick.Tensor,\n",
       " 'Vertex': GeneralisedWick.Vertex,\n",
       " 'TensorProduct': GeneralisedWick.TensorProduct,\n",
       " 'TensorSum': GeneralisedWick.TensorSum,\n",
       " 'normalOrder': <function GeneralisedWick.normalOrder(operator)>,\n",
       " 'canContract': <function GeneralisedWick.canContract(o1, o2)>,\n",
       " 'recursiveFullContraction': <function GeneralisedWick.recursiveFullContraction(operatorProduct_, speedup=False)>,\n",
       " 'vacuumExpectationValue': <function GeneralisedWick.vacuumExpectationValue(operator, speedup=False, printing=False)>,\n",
       " 'evaluateWick': <function GeneralisedWick.evaluateWick(term, spinFree, normalOrderedParts=True)>,\n",
       " 'getAxis': <function GeneralisedWick.getAxis(vertex, index)>,\n",
       " 'getContractedArray': <function GeneralisedWick.getContractedArray(tensorProduct_, targetLowerIndexList=None, targetUpperIndexList=None)>,\n",
       " 'contractTensorSum': <function GeneralisedWick.contractTensorSum(tensorSum_)>,\n",
       " '_i3': 'fockTensor = Tensor(\"f\", [\\'g\\'], [\\'g\\'])\\nh1Tensor = Tensor(\"h\", [\\'g\\'], [\\'g\\'])\\nh2Tensor = Tensor(\"v\", [\\'g\\', \\'g\\'], [\\'g\\', \\'g\\'])\\nt2Tensor = Tensor(\"{t_{2}}\", [\\'p\\', \\'p\\'], [\\'h\\', \\'h\\'])',\n",
       " 'fockTensor': <GeneralisedWick.Tensor at 0x7f17795ad2e8>,\n",
       " 'h1Tensor': <GeneralisedWick.Tensor at 0x7f17795ad390>,\n",
       " 'h2Tensor': <GeneralisedWick.Tensor at 0x7f17795adf98>,\n",
       " 't2Tensor': <GeneralisedWick.Tensor at 0x7f17795adfd0>,\n",
       " '_i4': 'fockTensor.getAllDiagramsGeneral()\\nh2Tensor.getAllDiagramsGeneral()',\n",
       " '_i5': 'def commutator(operator1, operator2):\\n    return operator1 * operator2 + (-1) * operator2 * operator1',\n",
       " 'commutator': <function __main__.commutator(operator1, operator2)>,\n",
       " '_i6': 'def BCHSimilarityTransform(H, T, order):\\n    result = H\\n    for k in range(order):\\n        nestedCommutator = H\\n        for i in range(k + 1):\\n            nestedCommutator = commutator(nestedCommutator, T)\\n        result += (1 / factorial(k + 1)) * nestedCommutator\\n    return result',\n",
       " 'BCHSimilarityTransform': <function __main__.BCHSimilarityTransform(H, T, order)>,\n",
       " '_i7': \"def projectionManifold(excitationLevel):\\n    return Tensor('\\\\Phi', ['h'] * excitationLevel, ['p'] * excitationLevel)\",\n",
       " 'projectionManifold': <function __main__.projectionManifold(excitationLevel)>,\n",
       " '_i8': 'normalOrderedHamiltonian = sum(fockTensor.diagrams) + (1. / 2.) * sum(h2Tensor.diagrams)\\nBCHTransformedNormalOrderedHamiltonian = BCHSimilarityTransform(normalOrderedHamiltonian, 0.25 * t2Tensor, 4)',\n",
       " 'normalOrderedHamiltonian': <GeneralisedWick.TensorSum at 0x7f17795ad240>,\n",
       " 'BCHTransformedNormalOrderedHamiltonian': <GeneralisedWick.TensorSum at 0x7f1778e23b38>,\n",
       " '_i9': 'def pickleEquation(equation, name):\\n    with open(name + \".pkl\", \"wb\") as f:\\n        p = pickle.Pickler(f)\\n        p.dump(equation)',\n",
       " 'pickleEquation': <function __main__.pickleEquation(equation, name)>,\n",
       " '_i10': 'def unpickleEquation(name):\\n    with open(name + \".pkl\", \"rb\") as f:\\n        up = pickle.Unpickler(f)\\n        return up.load()',\n",
       " 'unpickleEquation': <function __main__.unpickleEquation(name)>,\n",
       " '_i11': 'CCDEnergyEquation = evaluateWick(BCHTransformedNormalOrderedHamiltonian, True)',\n",
       " 'CCDEnergyEquation': <GeneralisedWick.TensorSum at 0x7f17b49240b8>,\n",
       " '_i12': 'pickleEquation(CCDEnergyEquation, \"CCDEnergyEquation\")',\n",
       " '_i13': 'UnpickledCCDEnergyEquation = unpickleEquation(\"CCDEnergyEquation\")',\n",
       " 'UnpickledCCDEnergyEquation': <GeneralisedWick.TensorSum at 0x7f1778e26da0>,\n",
       " '_i14': 'print(UnpickledCCDEnergyEquation)',\n",
       " '_i15': 'print(UnpickledCCDEnergyEquation.summandList[0].tensorList)',\n",
       " '_i16': 'print(UnpickledCCDEnergyEquation.summandList[0].tensorList)\\nprint(UnpickledCCDEnergyEquation.summandList[1].tensorList)',\n",
       " '_i17': 'print(UnpickledCCDEnergyEquation.summandList[0].tensorList)\\nprint(UnpickledCCDEnergyEquation.summandList[1].tensorList[0])',\n",
       " '_i18': 'print(*UnpickledCCDEnergyEquation.summandList[0].tensorList)',\n",
       " '_i19': 'globals()'}"
      ]
     },
     "execution_count": 19,
     "metadata": {},
     "output_type": "execute_result"
    }
   ],
   "source": [
    "globals()"
   ]
  },
  {
   "cell_type": "code",
   "execution_count": 10,
   "metadata": {},
   "outputs": [],
   "source": [
    "def save(filename, *args):\n",
    "    # Get global dictionary\n",
    "    glob = globals()\n",
    "    d = {}\n",
    "    for v in args:\n",
    "        # Copy over desired values\n",
    "        d[v] = glob[v]\n",
    "    with open(filename, 'wb') as f:\n",
    "        # Put them in the file \n",
    "        pickle.dump(d, f)\n",
    "\n",
    "def load(filename):\n",
    "    # Get global dictionary\n",
    "    glob = globals()\n",
    "    with open(filename, 'rb') as f:\n",
    "        for k, v in pickle.load(f).items():\n",
    "            # Set each global variable to the value from the file\n",
    "            glob[k] = v"
   ]
  },
  {
   "cell_type": "code",
   "execution_count": 37,
   "metadata": {},
   "outputs": [],
   "source": [
    "def collectTensors(equation):\n",
    "    return set([tensor for summand in equation.summandList for tensor in summand.tensorList])"
   ]
  },
  {
   "cell_type": "code",
   "execution_count": 38,
   "metadata": {},
   "outputs": [],
   "source": [
    "def saveEquation(filename, equation):\n",
    "    save(filename, equation, *collectTensors(equation))"
   ]
  },
  {
   "cell_type": "code",
   "execution_count": 11,
   "metadata": {},
   "outputs": [],
   "source": [
    "save(\"testCCDSave.pkl\", \"CCDEnergyEquation\", \"fockTensor\", \"h2Tensor\", \"t2Tensor\")"
   ]
  },
  {
   "cell_type": "code",
   "execution_count": null,
   "metadata": {},
   "outputs": [],
   "source": []
  },
  {
   "cell_type": "code",
   "execution_count": 11,
   "metadata": {},
   "outputs": [
    {
     "data": {
      "text/plain": [
       "{'__name__': '__main__',\n",
       " '__doc__': 'Automatically created module for IPython interactive environment',\n",
       " '__package__': None,\n",
       " '__loader__': None,\n",
       " '__spec__': None,\n",
       " '__builtin__': <module 'builtins' (built-in)>,\n",
       " '__builtins__': <module 'builtins' (built-in)>,\n",
       " '_ih': ['',\n",
       "  'globals()',\n",
       "  'import pickle',\n",
       "  'from GeneralisedWick import *',\n",
       "  'get_ipython().run_line_magic(\\'load\\', \\'(\"CCDEnergyEquation.pkl\")\\')',\n",
       "  \"def save(filename, *args):\\n    # Get global dictionary\\n    glob = globals()\\n    d = {}\\n    for v in args:\\n        # Copy over desired values\\n        d[v] = glob[v]\\n    with open(filename, 'wb') as f:\\n        # Put them in the file \\n        pickle.dump(d, f)\\n\\ndef load(filename):\\n    # Get global dictionary\\n    glob = globals()\\n    with open(filename, 'rb') as f:\\n        for k, v in pickle.load(f).items():\\n            # Set each global variable to the value from the file\\n            glob[k] = v\",\n",
       "  'load(\"CCDEnergyEquation.pkl\")',\n",
       "  \"def save(filename, *args):\\n    # Get global dictionary\\n    glob = globals()\\n    d = {}\\n    for v in args:\\n        # Copy over desired values\\n        d[v] = glob[v]\\n    with open(filename, 'wb') as f:\\n        # Put them in the file \\n        pickle.dump(d, f)\\n\\ndef load(filename):\\n    # Get global dictionary\\n    glob = globals()\\n    with open(filename, 'rb') as f:\\n        for k, v in pickle.load(f).items():\\n            # Set each global variable to the value from the file\\n            glob[k] = v\",\n",
       "  'globals()',\n",
       "  'load(\"CCDEnergyEquation.pkl\")',\n",
       "  'load(\"testCCDSave.pkl\")',\n",
       "  'globals()'],\n",
       " '_oh': {1: {...}, 8: {...}},\n",
       " '_dh': ['/home/dpt02/dpt/iclb0552/code/DPhil/COSCC'],\n",
       " 'In': ['',\n",
       "  'globals()',\n",
       "  'import pickle',\n",
       "  'from GeneralisedWick import *',\n",
       "  'get_ipython().run_line_magic(\\'load\\', \\'(\"CCDEnergyEquation.pkl\")\\')',\n",
       "  \"def save(filename, *args):\\n    # Get global dictionary\\n    glob = globals()\\n    d = {}\\n    for v in args:\\n        # Copy over desired values\\n        d[v] = glob[v]\\n    with open(filename, 'wb') as f:\\n        # Put them in the file \\n        pickle.dump(d, f)\\n\\ndef load(filename):\\n    # Get global dictionary\\n    glob = globals()\\n    with open(filename, 'rb') as f:\\n        for k, v in pickle.load(f).items():\\n            # Set each global variable to the value from the file\\n            glob[k] = v\",\n",
       "  'load(\"CCDEnergyEquation.pkl\")',\n",
       "  \"def save(filename, *args):\\n    # Get global dictionary\\n    glob = globals()\\n    d = {}\\n    for v in args:\\n        # Copy over desired values\\n        d[v] = glob[v]\\n    with open(filename, 'wb') as f:\\n        # Put them in the file \\n        pickle.dump(d, f)\\n\\ndef load(filename):\\n    # Get global dictionary\\n    glob = globals()\\n    with open(filename, 'rb') as f:\\n        for k, v in pickle.load(f).items():\\n            # Set each global variable to the value from the file\\n            glob[k] = v\",\n",
       "  'globals()',\n",
       "  'load(\"CCDEnergyEquation.pkl\")',\n",
       "  'load(\"testCCDSave.pkl\")',\n",
       "  'globals()'],\n",
       " 'Out': {1: {...}, 8: {...}},\n",
       " 'get_ipython': <bound method InteractiveShell.get_ipython of <ipykernel.zmqshell.ZMQInteractiveShell object at 0x7f160666fe10>>,\n",
       " 'exit': <IPython.core.autocall.ZMQExitAutocall at 0x7f1604574278>,\n",
       " 'quit': <IPython.core.autocall.ZMQExitAutocall at 0x7f1604574278>,\n",
       " '_': {...},\n",
       " '__': {...},\n",
       " '___': '',\n",
       " 'os': <module 'os' from '/usr/lib64/python3.6/os.py'>,\n",
       " 'sys': <module 'sys' (built-in)>,\n",
       " '_i': 'load(\"testCCDSave.pkl\")',\n",
       " '_ii': 'load(\"CCDEnergyEquation.pkl\")',\n",
       " '_iii': 'globals()',\n",
       " '_i1': 'globals()',\n",
       " '_1': {...},\n",
       " '_i2': 'import pickle',\n",
       " 'pickle': <module 'pickle' from '/usr/lib64/python3.6/pickle.py'>,\n",
       " '_i3': 'from GeneralisedWick import *',\n",
       " 'np': <module 'numpy' from '/u/dpt/iclb0552/.local/lib/python3.6/site-packages/numpy/__init__.py'>,\n",
       " 'Number': numbers.Number,\n",
       " 'gto': <module 'pyscf.gto' from '/u/dpt/iclb0552/.local/lib/python3.6/site-packages/pyscf/gto/__init__.py'>,\n",
       " 'scf': <module 'pyscf.scf' from '/u/dpt/iclb0552/.local/lib/python3.6/site-packages/pyscf/scf/__init__.py'>,\n",
       " 'ao2mo': <module 'pyscf.ao2mo' from '/u/dpt/iclb0552/.local/lib/python3.6/site-packages/pyscf/ao2mo/__init__.py'>,\n",
       " 'fci': <module 'pyscf.fci' from '/u/dpt/iclb0552/.local/lib/python3.6/site-packages/pyscf/fci/__init__.py'>,\n",
       " 'deepcopy': <function copy.deepcopy(x, memo=None, _nil=[])>,\n",
       " 'copy': <function copy.copy(x)>,\n",
       " 'factorial': <function math.factorial>,\n",
       " 'itertools': <module 'itertools' (built-in)>,\n",
       " 'string': <module 'string' from '/usr/lib64/python3.6/string.py'>,\n",
       " 'Index': GeneralisedWick.Index,\n",
       " 'basicOperator': GeneralisedWick.basicOperator,\n",
       " 'operatorProduct': GeneralisedWick.operatorProduct,\n",
       " 'operatorSum': GeneralisedWick.operatorSum,\n",
       " 'excitation': GeneralisedWick.excitation,\n",
       " 'spinFreeExcitation': GeneralisedWick.spinFreeExcitation,\n",
       " 'Tensor': GeneralisedWick.Tensor,\n",
       " 'Vertex': GeneralisedWick.Vertex,\n",
       " 'TensorProduct': GeneralisedWick.TensorProduct,\n",
       " 'TensorSum': GeneralisedWick.TensorSum,\n",
       " 'normalOrder': <function GeneralisedWick.normalOrder(operator)>,\n",
       " 'canContract': <function GeneralisedWick.canContract(o1, o2)>,\n",
       " 'recursiveFullContraction': <function GeneralisedWick.recursiveFullContraction(operatorProduct_, speedup=False)>,\n",
       " 'vacuumExpectationValue': <function GeneralisedWick.vacuumExpectationValue(operator, speedup=False, printing=False)>,\n",
       " 'evaluateWick': <function GeneralisedWick.evaluateWick(term, spinFree, normalOrderedParts=True)>,\n",
       " 'getAxis': <function GeneralisedWick.getAxis(vertex, index)>,\n",
       " 'getContractedArray': <function GeneralisedWick.getContractedArray(tensorProduct_, targetLowerIndexList=None, targetUpperIndexList=None)>,\n",
       " 'contractTensorSum': <function GeneralisedWick.contractTensorSum(tensorSum_)>,\n",
       " '_i4': 'load(\"CCDEnergyEquation.pkl\")',\n",
       " '_i5': \"def save(filename, *args):\\n    # Get global dictionary\\n    glob = globals()\\n    d = {}\\n    for v in args:\\n        # Copy over desired values\\n        d[v] = glob[v]\\n    with open(filename, 'wb') as f:\\n        # Put them in the file \\n        pickle.dump(d, f)\\n\\ndef load(filename):\\n    # Get global dictionary\\n    glob = globals()\\n    with open(filename, 'rb') as f:\\n        for k, v in pickle.load(f).items():\\n            # Set each global variable to the value from the file\\n            glob[k] = v\",\n",
       " 'save': <function __main__.save(filename, *args)>,\n",
       " 'load': <function __main__.load(filename)>,\n",
       " '_i6': 'load(\"CCDEnergyEquation.pkl\")',\n",
       " '_i7': \"def save(filename, *args):\\n    # Get global dictionary\\n    glob = globals()\\n    d = {}\\n    for v in args:\\n        # Copy over desired values\\n        d[v] = glob[v]\\n    with open(filename, 'wb') as f:\\n        # Put them in the file \\n        pickle.dump(d, f)\\n\\ndef load(filename):\\n    # Get global dictionary\\n    glob = globals()\\n    with open(filename, 'rb') as f:\\n        for k, v in pickle.load(f).items():\\n            # Set each global variable to the value from the file\\n            glob[k] = v\",\n",
       " '_i8': 'globals()',\n",
       " '_8': {...},\n",
       " '_i9': 'load(\"CCDEnergyEquation.pkl\")',\n",
       " '_i10': 'load(\"testCCDSave.pkl\")',\n",
       " 'CCDEnergyEquation': <GeneralisedWick.TensorSum at 0x7f15c7a15d30>,\n",
       " 'fockTensor': <GeneralisedWick.Tensor at 0x7f15c7a32518>,\n",
       " 'h2Tensor': <GeneralisedWick.Tensor at 0x7f15c7a32ac8>,\n",
       " 't2Tensor': <GeneralisedWick.Tensor at 0x7f15c7a15d68>,\n",
       " '_i11': 'globals()'}"
      ]
     },
     "execution_count": 11,
     "metadata": {},
     "output_type": "execute_result"
    }
   ],
   "source": [
    "globals()"
   ]
  },
  {
   "cell_type": "code",
   "execution_count": 10,
   "metadata": {},
   "outputs": [],
   "source": [
    "load(\"testCCDSave.pkl\")"
   ]
  },
  {
   "cell_type": "code",
   "execution_count": 13,
   "metadata": {},
   "outputs": [
    {
     "name": "stdout",
     "output_type": "stream",
     "text": [
      "0.5 * v_{h_{0}h_{1}}^{p_{0}p_{1}}{t_{2}}_{p_{1}p_{0}}^{h_{1}h_{0}}\n",
      " + -0.25 * v_{h_{0}h_{1}}^{p_{0}p_{1}}{t_{2}}_{p_{0}p_{1}}^{h_{1}h_{0}}\n",
      " + -0.25 * v_{h_{0}h_{1}}^{p_{0}p_{1}}{t_{2}}_{p_{1}p_{0}}^{h_{0}h_{1}}\n",
      " + 0.5 * v_{h_{0}h_{1}}^{p_{0}p_{1}}{t_{2}}_{p_{0}p_{1}}^{h_{0}h_{1}}\n"
     ]
    }
   ],
   "source": [
    "print(CCDEnergyEquation)"
   ]
  },
  {
   "cell_type": "code",
   "execution_count": 29,
   "metadata": {},
   "outputs": [],
   "source": [
    "bohr = 0.529177249\n",
    "\n",
    "H2sep = 1.605 * bohr\n",
    "\n",
    "mol = gto.Mole()\n",
    "mol.verbose = 1\n",
    "#mol.atom = 'Be 0 0 0'\n",
    "#mol.basis = 'sto-3g'\n",
    "mol.atom = 'H 0 0 0; H 0 0 ' + str(H2sep)\n",
    "mol.basis = '6-31g'\n",
    "mol.spin = 0\n",
    "mol.build()\n",
    "\n",
    "Enuc = mol.energy_nuc()\n",
    "\n",
    "mf = scf.ROHF(mol)\n",
    "mf.kernel()\n",
    "\n",
    "cisolver = fci.FCI(mol, mf.mo_coeff)\n",
    "\n",
    "Norbs = mol.nao\n",
    "Nocc = mf.nelectron_alpha\n",
    "vacuum = [1] * Nocc + [0] * (Norbs - Nocc)\n",
    "\n",
    "h1 = mf.mo_coeff.T.dot(mf.get_hcore()).dot(mf.mo_coeff)\n",
    "eri = ao2mo.kernel(mol, mf.mo_coeff, compact=False)\n",
    "\n",
    "h2Tensor.array = eri.reshape((Norbs, Norbs, Norbs, Norbs)).swapaxes(2,3).swapaxes(1,2)\n",
    "\n",
    "fock = h1\n",
    "for p in range(Norbs):\n",
    "    for q in range(Norbs):\n",
    "        fock[p,q] += sum([2 * h2Tensor.array[p,i,q,i] - h2Tensor.array[p,i,i,q] for i in range(Nocc)])\n",
    "fockTensor.array = fock\n",
    "\n",
    "fockTensor.assignDiagramArrays(vacuum)\n",
    "h2Tensor.assignDiagramArrays(vacuum)\n",
    "t2Tensor.getShape(vacuum)"
   ]
  },
  {
   "cell_type": "code",
   "execution_count": 30,
   "metadata": {},
   "outputs": [
    {
     "data": {
      "text/plain": [
       "0.0"
      ]
     },
     "execution_count": 30,
     "metadata": {},
     "output_type": "execute_result"
    }
   ],
   "source": [
    "contractTensorSum(CCDEnergyEquation)"
   ]
  },
  {
   "cell_type": "code",
   "execution_count": 31,
   "metadata": {},
   "outputs": [],
   "source": [
    "import CC"
   ]
  },
  {
   "cell_type": "code",
   "execution_count": 32,
   "metadata": {},
   "outputs": [
    {
     "data": {
      "text/plain": [
       "[1, 0, 0, 0]"
      ]
     },
     "execution_count": 32,
     "metadata": {},
     "output_type": "execute_result"
    }
   ],
   "source": [
    "vacuum"
   ]
  },
  {
   "cell_type": "code",
   "execution_count": 33,
   "metadata": {},
   "outputs": [],
   "source": [
    "residualTensor = Tensor(\"R\", ['p', 'p'], ['h', 'h'])\n",
    "residualTensor.array = h2Tensor.diagrams[12].array"
   ]
  },
  {
   "cell_type": "code",
   "execution_count": 34,
   "metadata": {},
   "outputs": [
    {
     "data": {
      "text/plain": [
       "(3, 3, 1, 1)"
      ]
     },
     "execution_count": 34,
     "metadata": {},
     "output_type": "execute_result"
    }
   ],
   "source": [
    "h2Tensor.diagrams[12].array.shape"
   ]
  },
  {
   "cell_type": "code",
   "execution_count": 35,
   "metadata": {},
   "outputs": [
    {
     "data": {
      "text/plain": [
       "array([[[[-5.93124751e-02]],\n",
       "\n",
       "        [[-5.10245496e-17]],\n",
       "\n",
       "        [[-3.08991288e-02]]],\n",
       "\n",
       "\n",
       "       [[[-1.55911290e-17]],\n",
       "\n",
       "        [[-3.70716089e-02]],\n",
       "\n",
       "        [[-2.80018313e-17]]],\n",
       "\n",
       "\n",
       "       [[[-3.08991288e-02]],\n",
       "\n",
       "        [[-3.37369716e-19]],\n",
       "\n",
       "        [[-3.41821777e-02]]]])"
      ]
     },
     "execution_count": 35,
     "metadata": {},
     "output_type": "execute_result"
    }
   ],
   "source": [
    "CC.iterateDoublesAmplitudes(t2Tensor, residualTensor, fockTensor.array)"
   ]
  },
  {
   "cell_type": "code",
   "execution_count": 36,
   "metadata": {},
   "outputs": [
    {
     "data": {
      "text/plain": [
       "-0.009291639221900173"
      ]
     },
     "execution_count": 36,
     "metadata": {},
     "output_type": "execute_result"
    }
   ],
   "source": [
    "contractTensorSum(CCDEnergyEquation)"
   ]
  }
 ],
 "metadata": {
  "interpreter": {
   "hash": "31f2aee4e71d21fbe5cf8b01ff0e069b9275f58929596ceb00d14d90e3e16cd6"
  },
  "kernelspec": {
   "display_name": "Python 3.6.8 64-bit",
   "name": "python3"
  },
  "language_info": {
   "codemirror_mode": {
    "name": "ipython",
    "version": 3
   },
   "file_extension": ".py",
   "mimetype": "text/x-python",
   "name": "python",
   "nbconvert_exporter": "python",
   "pygments_lexer": "ipython3",
   "version": "3.6.8"
  },
  "orig_nbformat": 4
 },
 "nbformat": 4,
 "nbformat_minor": 2
}
