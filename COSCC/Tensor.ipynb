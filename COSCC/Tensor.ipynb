{
 "metadata": {
  "language_info": {
   "codemirror_mode": {
    "name": "ipython",
    "version": 3
   },
   "file_extension": ".py",
   "mimetype": "text/x-python",
   "name": "python",
   "nbconvert_exporter": "python",
   "pygments_lexer": "ipython3",
   "version": "3.8.0"
  },
  "orig_nbformat": 2,
  "kernelspec": {
   "name": "python3",
   "display_name": "Python 3",
   "language": "python"
  }
 },
 "nbformat": 4,
 "nbformat_minor": 2,
 "cells": [
  {
   "cell_type": "code",
   "execution_count": 240,
   "metadata": {},
   "outputs": [],
   "source": [
    "import numpy as np\n",
    "from pyscf import gto, scf, ao2mo, fci\n",
    "import CC, Wick\n",
    "from math import factorial, sqrt\n",
    "import itertools, copy, collections\n",
    "from numbers import Number"
   ]
  },
  {
   "cell_type": "code",
   "execution_count": 2,
   "metadata": {},
   "outputs": [],
   "source": [
    "bohr = 0.529177249\n",
    "\n",
    "H2sep = 1.605 * bohr\n",
    "\n",
    "mol = gto.Mole()\n",
    "mol.verbose = 1\n",
    "mol.atom = 'H 0 0 0; H 0 0 ' + str(H2sep)\n",
    "mol.basis = 'sto-3g'\n",
    "mol.spin = 0\n",
    "mol.build()\n",
    "\n",
    "Enuc = mol.energy_nuc()\n",
    "\n",
    "mf = scf.ROHF(mol)\n",
    "mf.kernel()\n",
    "\n",
    "h1 = mf.mo_coeff.T.dot(mf.get_hcore()).dot(mf.mo_coeff)\n",
    "eri = ao2mo.kernel(mol, mf.mo_coeff)\n",
    "\n",
    "cisolver = fci.FCI(mol, mf.mo_coeff)"
   ]
  },
  {
   "cell_type": "code",
   "execution_count": 3,
   "metadata": {},
   "outputs": [
    {
     "output_type": "execute_result",
     "data": {
      "text/plain": [
       "-1.1026388111917238"
      ]
     },
     "metadata": {},
     "execution_count": 3
    }
   ],
   "source": [
    "mf.energy_tot()"
   ]
  },
  {
   "cell_type": "code",
   "execution_count": 4,
   "metadata": {},
   "outputs": [
    {
     "output_type": "execute_result",
     "data": {
      "text/plain": [
       "(-1.1284543355083052,\n",
       " array([[ 9.90656547e-01,  2.77555756e-17],\n",
       "        [ 1.91460513e-17, -1.36380375e-01]]))"
      ]
     },
     "metadata": {},
     "execution_count": 4
    }
   ],
   "source": [
    "cisolver.kernel()"
   ]
  },
  {
   "cell_type": "code",
   "execution_count": 5,
   "metadata": {},
   "outputs": [
    {
     "output_type": "execute_result",
     "data": {
      "text/plain": [
       "array([[-1.18985062e+00,  2.60021255e-17],\n",
       "       [-4.71423569e-17, -5.33749102e-01]])"
      ]
     },
     "metadata": {},
     "execution_count": 5
    }
   ],
   "source": [
    "h1"
   ]
  },
  {
   "cell_type": "code",
   "execution_count": 6,
   "metadata": {},
   "outputs": [
    {
     "output_type": "execute_result",
     "data": {
      "text/plain": [
       "array([[6.54009511e-01, 8.32667268e-17, 6.45249427e-01],\n",
       "       [1.04083409e-16, 1.87521981e-01, 5.55111512e-17],\n",
       "       [6.45249427e-01, 1.38777878e-16, 6.78136184e-01]])"
      ]
     },
     "metadata": {},
     "execution_count": 6
    }
   ],
   "source": [
    "eri"
   ]
  },
  {
   "cell_type": "code",
   "execution_count": 7,
   "metadata": {},
   "outputs": [],
   "source": [
    "Norbs = mol.nao\n",
    "Nocc = mf.nelectron_alpha\n",
    "vacuum = [1 for i in range(Nocc)] + [0 for i in range (Norbs - Nocc)]"
   ]
  },
  {
   "cell_type": "code",
   "execution_count": 8,
   "metadata": {},
   "outputs": [
    {
     "output_type": "stream",
     "name": "stdout",
     "text": [
      "0 0 0 0\n0 0\n0 1 0 0\n0 1\n0 1 0 1\n0 2\n1 0 0 0\n1 0\n1 0 1 0\n2 0\n1 1 0 0\n1 1\n1 1 0 1\n1 2\n1 1 1 0\n2 1\n1 1 1 1\n2 2\n"
     ]
    }
   ],
   "source": [
    "integralTensor2body = np.zeros((Norbs, Norbs, Norbs, Norbs))\n",
    "for p in range(Norbs):\n",
    "    for q in range(Norbs):\n",
    "        for r in range(p + 1):\n",
    "            for s in range(q + 1):\n",
    "                x = int(p + Norbs * r - 0.5 * r * (r + 1))\n",
    "                y = int(q + Norbs * s - 0.5 * s * (s + 1))\n",
    "                print(p, q, r, s)\n",
    "                print(x, y)\n",
    "                if p == r and q == s:\n",
    "                    integralTensor2body[p,q,r,s] = eri[x, y]\n",
    "#                    hamiltonian2Body = hamiltonian2Body + 0.5 * eri[x, y] * spinFreeDoubleExcitation(p, q, r, s)\n",
    "                else:\n",
    "                    integralTensor2body[p,q,r,s] = eri[x, y]\n",
    "                    integralTensor2body[r,s,p,q] = np.conjugate(eri[x, y])\n",
    "#                    hamiltonian2Body = hamiltonian2Body + 0.5 * eri[x, y] * spinFreeDoubleExcitation(p, q, r, s) + 0.5 * np.conjugate(eri[x, y]) * spinFreeDoubleExcitation(r, s, p, q)"
   ]
  },
  {
   "cell_type": "code",
   "execution_count": 9,
   "metadata": {},
   "outputs": [
    {
     "output_type": "execute_result",
     "data": {
      "text/plain": [
       "array([[[[6.54009511e-01, 8.32667268e-17],\n",
       "         [1.04083409e-16, 1.87521981e-01]],\n",
       "\n",
       "        [[8.32667268e-17, 6.45249427e-01],\n",
       "         [0.00000000e+00, 5.55111512e-17]]],\n",
       "\n",
       "\n",
       "       [[[1.04083409e-16, 0.00000000e+00],\n",
       "         [6.45249427e-01, 1.38777878e-16]],\n",
       "\n",
       "        [[1.87521981e-01, 5.55111512e-17],\n",
       "         [1.38777878e-16, 6.78136184e-01]]]])"
      ]
     },
     "metadata": {},
     "execution_count": 9
    }
   ],
   "source": [
    "integralTensor2body"
   ]
  },
  {
   "cell_type": "code",
   "execution_count": 10,
   "metadata": {},
   "outputs": [
    {
     "output_type": "execute_result",
     "data": {
      "text/plain": [
       "0.6452494265884844"
      ]
     },
     "metadata": {},
     "execution_count": 10
    }
   ],
   "source": [
    "integralTensor2body[1,0,1,0]"
   ]
  },
  {
   "cell_type": "code",
   "execution_count": 11,
   "metadata": {},
   "outputs": [],
   "source": [
    "UGgenerators1body = np.ndarray((Norbs, Norbs), dtype=Wick.operatorSum)\n",
    "for p in range(Norbs):\n",
    "    for q in range(Norbs):\n",
    "        UGgenerators1body[p,q] = CC.spinFreeNtupleExcitation((p,), (q,))"
   ]
  },
  {
   "cell_type": "code",
   "execution_count": 12,
   "metadata": {},
   "outputs": [],
   "source": [
    "UGgenerators2body = np.ndarray((Norbs, Norbs, Norbs, Norbs), dtype=Wick.operatorSum)\n",
    "for p in range(Norbs):\n",
    "    for q in range(Norbs):\n",
    "        for r in range(Norbs):\n",
    "            for s in range(Norbs):\n",
    "                UGgenerators2body[p,q,r,s] = CC.spinFreeNtupleExcitation((p, q), (r, s))"
   ]
  },
  {
   "cell_type": "code",
   "execution_count": 13,
   "metadata": {},
   "outputs": [
    {
     "output_type": "stream",
     "name": "stdout",
     "text": [
      "1.0 * a^{0\\alpha}a^{1\\alpha}a_{0\\alpha}a_{1\\alpha}\n + 1.0 * a^{0\\alpha}a^{1\\beta}a_{0\\beta}a_{1\\alpha}\n + 1.0 * a^{0\\beta}a^{1\\alpha}a_{0\\alpha}a_{1\\beta}\n + 1.0 * a^{0\\beta}a^{1\\beta}a_{0\\beta}a_{1\\beta}\n"
     ]
    }
   ],
   "source": [
    "print(UGgenerators2body[0,1,1,0])"
   ]
  },
  {
   "cell_type": "code",
   "execution_count": 14,
   "metadata": {},
   "outputs": [],
   "source": [
    "class Index:\n",
    "    '''\n",
    "    Class for an orbital index\n",
    "    Orbital types are 'g' (general), 'h' (inactive hole), 'a' (active), and 'p' (particle)\n",
    "    '''\n",
    "    def __init__(self, name, orbitalType):\n",
    "        self.name = name\n",
    "        self.orbitalType = orbitalType\n",
    "        self.tuple = (self.name, self.orbitalType)\n",
    "\n",
    "    def __hash__(self):\n",
    "        return hash(self.tuple)\n",
    "\n",
    "    def __eq__(self, other):\n",
    "        return self.tuple == other\n",
    "\n",
    "    def __str__(self):\n",
    "        return self.name\n",
    "#        return self.orbitalType + str(self.indexNumber)\n"
   ]
  },
  {
   "cell_type": "code",
   "execution_count": 15,
   "metadata": {},
   "outputs": [],
   "source": [
    "class Tensor:\n",
    "    '''\n",
    "    Class for amplitude tensors of spin-free excitation operators\n",
    "    '''\n",
    "    def __init__(self, name, array, lowerIndicesTuple, upperIndicesTuple):\n",
    "        self.name = name\n",
    "        self.lowerIndices = lowerIndicesTuple\n",
    "        self.upperIndices = upperIndicesTuple\n",
    "        self.excitationRank = len(self.lowerIndices)\n",
    "        self.array = array\n",
    "\n",
    "    def setArray(self, array):\n",
    "        if array.shape == self.array.shape:\n",
    "            self.array = array\n",
    "        else:\n",
    "            print(\"Array is of wrong shape\")\n",
    "\n",
    "    def getOperator(self):\n",
    "        operator = Wick.operatorSum([])\n",
    "        it = np.nditer(self.array, flags=[\"multi_index\"])\n",
    "        \n",
    "        for i in it:\n",
    "            indices = it.multi_index\n",
    "            creationIndices = indices[:self.excitationRank]\n",
    "            annihilationIndices = indices[self.excitationRank:]\n",
    "            operator += i * CC.spinFreeNtupleExcitation(creationIndices, annihilationIndices)\n",
    "        return operator\n",
    "\n",
    "    def __str__(self):\n",
    "        string = self.name + \"_{\"\n",
    "        for p in self.lowerIndices:\n",
    "            string += p.__str__()\n",
    "        string += \"}^{\"\n",
    "        for q in self.upperIndices:\n",
    "            string += q.__str__()\n",
    "        string += \"}\"\n",
    "        return string"
   ]
  },
  {
   "cell_type": "code",
   "execution_count": 16,
   "metadata": {},
   "outputs": [],
   "source": [
    "class productOfTensors:\n",
    "    def __init__(self, listOfTensors):\n",
    "        self.name = name\n",
    "        self.listOfTensors = listOfTensors\n",
    "\n",
    "    def __str__(self):\n",
    "        string = \"\"\n",
    "        for t in self.listOfTensors:\n",
    "            string += t.__str__()\n",
    "        return string"
   ]
  },
  {
   "cell_type": "code",
   "execution_count": 17,
   "metadata": {},
   "outputs": [],
   "source": [
    "p = Index('p','g')\n",
    "q = Index('q','g')\n",
    "r = Index('r','g')\n",
    "s = Index('s','g')"
   ]
  },
  {
   "cell_type": "code",
   "execution_count": 18,
   "metadata": {},
   "outputs": [],
   "source": [
    "hpq = Tensor('h', h1, (p,), (q,))"
   ]
  },
  {
   "cell_type": "code",
   "execution_count": 19,
   "metadata": {},
   "outputs": [
    {
     "output_type": "stream",
     "name": "stdout",
     "text": [
      "h_{p}^{q}\n"
     ]
    }
   ],
   "source": [
    "print(hpq)"
   ]
  },
  {
   "cell_type": "code",
   "execution_count": 20,
   "metadata": {},
   "outputs": [],
   "source": [
    "hpq.setArray(h1)"
   ]
  },
  {
   "cell_type": "code",
   "execution_count": 21,
   "metadata": {},
   "outputs": [
    {
     "output_type": "execute_result",
     "data": {
      "text/plain": [
       "array([[-1.18985062e+00,  2.60021255e-17],\n",
       "       [-4.71423569e-17, -5.33749102e-01]])"
      ]
     },
     "metadata": {},
     "execution_count": 21
    }
   ],
   "source": [
    "h1"
   ]
  },
  {
   "cell_type": "code",
   "execution_count": 22,
   "metadata": {},
   "outputs": [
    {
     "output_type": "stream",
     "name": "stdout",
     "text": [
      "-1.1898506186070186 * a^{0\\alpha}a_{0\\alpha}\n + 2.600212552842601e-17 * a^{0\\alpha}a_{1\\alpha}\n + -1.1898506186070186 * a^{0\\beta}a_{0\\beta}\n + 2.600212552842601e-17 * a^{0\\beta}a_{1\\beta}\n + -4.7142356915405136e-17 * a^{1\\alpha}a_{0\\alpha}\n + -0.5337491016607854 * a^{1\\alpha}a_{1\\alpha}\n + -4.7142356915405136e-17 * a^{1\\beta}a_{0\\beta}\n + -0.5337491016607854 * a^{1\\beta}a_{1\\beta}\n"
     ]
    }
   ],
   "source": [
    "print(hpq.getOperator())"
   ]
  },
  {
   "cell_type": "code",
   "execution_count": 23,
   "metadata": {},
   "outputs": [
    {
     "output_type": "stream",
     "name": "stdout",
     "text": [
      "g_{pq}^{rs}\n[[[[6.54009511e-01 8.32667268e-17]\n   [1.04083409e-16 1.87521981e-01]]\n\n  [[8.32667268e-17 6.45249427e-01]\n   [0.00000000e+00 5.55111512e-17]]]\n\n\n [[[1.04083409e-16 0.00000000e+00]\n   [6.45249427e-01 1.38777878e-16]]\n\n  [[1.87521981e-01 5.55111512e-17]\n   [1.38777878e-16 6.78136184e-01]]]]\n"
     ]
    }
   ],
   "source": [
    "gpqrs = Tensor('g', integralTensor2body, (p, q), (r,s))\n",
    "print(gpqrs)\n",
    "print(gpqrs.array)"
   ]
  },
  {
   "cell_type": "code",
   "execution_count": 24,
   "metadata": {},
   "outputs": [
    {
     "output_type": "stream",
     "name": "stdout",
     "text": [
      "[[0 1]\n [2 3]]\n"
     ]
    }
   ],
   "source": [
    "i = Index('i', 'g')\n",
    "j = Index('j', 'g')\n",
    "Aij = Tensor('A',np.arange(4).reshape(2,2),(i,),(j,))\n",
    "print(Aij.array)"
   ]
  },
  {
   "cell_type": "code",
   "execution_count": 25,
   "metadata": {},
   "outputs": [
    {
     "output_type": "stream",
     "name": "stdout",
     "text": [
      "[[0 1]\n [2 3]]\n"
     ]
    }
   ],
   "source": [
    "k = Index('k', 'g')\n",
    "l = Index('l', 'g')\n",
    "Bkl = Tensor('B',np.arange(4).reshape(2,2),(k,),(l,))\n",
    "print(Bkl.array)"
   ]
  },
  {
   "cell_type": "code",
   "execution_count": 26,
   "metadata": {},
   "outputs": [
    {
     "output_type": "execute_result",
     "data": {
      "text/plain": [
       "(<__main__.Index at 0x116e934f0>,)"
      ]
     },
     "metadata": {},
     "execution_count": 26
    }
   ],
   "source": [
    "Aij.lowerIndices"
   ]
  },
  {
   "cell_type": "code",
   "execution_count": 27,
   "metadata": {},
   "outputs": [
    {
     "output_type": "execute_result",
     "data": {
      "text/plain": [
       "True"
      ]
     },
     "metadata": {},
     "execution_count": 27
    }
   ],
   "source": [
    "j != Aij.lowerIndices[0]"
   ]
  },
  {
   "cell_type": "code",
   "execution_count": 28,
   "metadata": {},
   "outputs": [],
   "source": [
    "def getAxis(tensor, index):\n",
    "    for a in range(tensor.excitationRank):\n",
    "        if tensor.lowerIndices[a] == index:\n",
    "            return a\n",
    "        elif tensor.upperIndices[a] == index:\n",
    "            return tensor.excitationRank + a"
   ]
  },
  {
   "cell_type": "code",
   "execution_count": 29,
   "metadata": {},
   "outputs": [
    {
     "output_type": "execute_result",
     "data": {
      "text/plain": [
       "3"
      ]
     },
     "metadata": {},
     "execution_count": 29
    }
   ],
   "source": [
    "getAxis(gpqrs, s)"
   ]
  },
  {
   "cell_type": "code",
   "execution_count": 30,
   "metadata": {},
   "outputs": [
    {
     "output_type": "execute_result",
     "data": {
      "text/plain": [
       "-1.1026388111917234"
      ]
     },
     "metadata": {},
     "execution_count": 30
    }
   ],
   "source": [
    "Wick.vacuumExpectationValue(hpq.getOperator() + 0.5 * gpqrs.getOperator(), [1,0]) + Enuc"
   ]
  },
  {
   "cell_type": "code",
   "execution_count": 31,
   "metadata": {},
   "outputs": [],
   "source": [
    "def contract(Tensor1, Tensor2, index1, index2):\n",
    "    axis1 = getAxis(Tensor1, index1)\n",
    "    axis2 = getAxis(Tensor2, index2)\n",
    "    newLowerIndicesList = list(Tensor1.lowerIndices)\n",
    "    newLowerIndicesList.remove(index1)\n",
    "    newLowerIndicesList = newLowerIndicesList + list(Tensor2.lowerIndices)\n",
    "    newUpperIndicesList = list(Tensor2.upperIndices)\n",
    "    newUpperIndicesList.remove(index2)\n",
    "    newUpperIndicesList = list(Tensor1.upperIndices) + newUpperIndicesList\n",
    "    name = Tensor1.name + Tensor2.name\n",
    "    resultArray = np.tensordot(Tensor1.array, Tensor2.array, axes=(axis1, axis2))\n",
    "    result = Tensor(name, resultArray, newLowerIndicesList, newUpperIndicesList)\n",
    "    return result"
   ]
  },
  {
   "cell_type": "code",
   "execution_count": 32,
   "metadata": {},
   "outputs": [],
   "source": [
    "vacuum = np.array([1,0])"
   ]
  },
  {
   "cell_type": "code",
   "execution_count": 33,
   "metadata": {},
   "outputs": [
    {
     "output_type": "execute_result",
     "data": {
      "text/plain": [
       "1.3080190227122477"
      ]
     },
     "metadata": {},
     "execution_count": 33
    }
   ],
   "source": [
    "Wick.vacuumExpectationValue(gpqrs.getOperator(), vacuum)"
   ]
  },
  {
   "cell_type": "code",
   "execution_count": 34,
   "metadata": {},
   "outputs": [
    {
     "output_type": "execute_result",
     "data": {
      "text/plain": [
       "-2.379701237214037"
      ]
     },
     "metadata": {},
     "execution_count": 34
    }
   ],
   "source": [
    "2 * np.tensordot(np.tensordot(vacuum, hpq.array, axes=1), vacuum, axes=1)"
   ]
  },
  {
   "cell_type": "code",
   "execution_count": 35,
   "metadata": {},
   "outputs": [
    {
     "output_type": "execute_result",
     "data": {
      "text/plain": [
       "1.3080190227122477"
      ]
     },
     "metadata": {},
     "execution_count": 35
    }
   ],
   "source": [
    "2 * np.tensordot(np.tensordot(np.tensordot(np.tensordot(vacuum, gpqrs.array, axes=1), vacuum, axes=1), vacuum, axes=1), vacuum, axes=1)"
   ]
  },
  {
   "cell_type": "code",
   "execution_count": 36,
   "metadata": {},
   "outputs": [
    {
     "output_type": "stream",
     "name": "stdout",
     "text": [
      "A_{i}^{j}\n[[0 1]\n [2 3]]\nB_{k}^{l}\n[[0 1]\n [2 3]]\n"
     ]
    }
   ],
   "source": [
    "print(Aij)\n",
    "print(Aij.array)\n",
    "print(Bkl)\n",
    "print(Bkl.array)"
   ]
  },
  {
   "cell_type": "code",
   "execution_count": 37,
   "metadata": {},
   "outputs": [
    {
     "output_type": "stream",
     "name": "stdout",
     "text": [
      "AB_{k}^{j}\n2.0 * a^{0\\alpha}a_{0\\alpha}\n + 6.0 * a^{0\\alpha}a_{1\\alpha}\n + 2.0 * a^{0\\beta}a_{0\\beta}\n + 6.0 * a^{0\\beta}a_{1\\beta}\n + 3.0 * a^{1\\alpha}a_{0\\alpha}\n + 11.0 * a^{1\\alpha}a_{1\\alpha}\n + 3.0 * a^{1\\beta}a_{0\\beta}\n + 11.0 * a^{1\\beta}a_{1\\beta}\n"
     ]
    }
   ],
   "source": [
    "print(contract(Aij, Bkl, i, l))\n",
    "print(contract(Aij, Bkl, i, l).getOperator())"
   ]
  },
  {
   "cell_type": "code",
   "execution_count": 38,
   "metadata": {},
   "outputs": [
    {
     "output_type": "stream",
     "name": "stdout",
     "text": [
      "[[0 1 2]\n [3 4 5]\n [6 7 8]]\n"
     ]
    }
   ],
   "source": [
    "a = np.arange(9).reshape((3,3))\n",
    "print(a)"
   ]
  },
  {
   "cell_type": "code",
   "execution_count": 39,
   "metadata": {},
   "outputs": [
    {
     "output_type": "stream",
     "name": "stdout",
     "text": [
      "[[0 1 2]\n [3 4 5]\n [6 7 8]]\n"
     ]
    }
   ],
   "source": [
    "b = np.arange(9).reshape((3,3))\n",
    "print(b)"
   ]
  },
  {
   "cell_type": "code",
   "execution_count": 40,
   "metadata": {},
   "outputs": [
    {
     "output_type": "execute_result",
     "data": {
      "text/plain": [
       "array([[ 27,  36,  45],\n",
       "       [108, 144, 180],\n",
       "       [189, 252, 315]])"
      ]
     },
     "metadata": {},
     "execution_count": 40
    }
   ],
   "source": [
    "np.einsum(\"ij,kl->il\", a, b)"
   ]
  },
  {
   "cell_type": "code",
   "execution_count": 41,
   "metadata": {},
   "outputs": [],
   "source": [
    "def addNewIndex(indicesList, orbitalType):\n",
    "    newIndexName = orbitalType + \"_{\" + str(len(indicesList)) + \"}\"\n",
    "    indicesList.append(Index(newIndexName, orbitalType))\n",
    "    return indicesList[-1]"
   ]
  },
  {
   "cell_type": "code",
   "execution_count": 42,
   "metadata": {},
   "outputs": [],
   "source": [
    "generalIndices = []\n",
    "particleIndices = []\n",
    "holeIndices = []\n",
    "activeIndices = []"
   ]
  },
  {
   "cell_type": "code",
   "execution_count": 43,
   "metadata": {},
   "outputs": [
    {
     "output_type": "stream",
     "name": "stdout",
     "text": [
      "h_{g_{0}}^{g_{1}}\n"
     ]
    }
   ],
   "source": [
    "h = Tensor('h', np.zeros((2,2)), (addNewIndex(generalIndices, 'g'),), (addNewIndex(generalIndices, 'g'),))\n",
    "h.setArray(h1)\n",
    "print(h)"
   ]
  },
  {
   "cell_type": "code",
   "execution_count": 44,
   "metadata": {},
   "outputs": [
    {
     "output_type": "stream",
     "name": "stdout",
     "text": [
      "g_{g_{0}g_{2}}^{g_{1}g_{3}}\n"
     ]
    }
   ],
   "source": [
    "g = Tensor('g', np.zeros((2,2,2,2)), (generalIndices[0], addNewIndex(generalIndices, 'g')), (generalIndices[1], addNewIndex(generalIndices, 'g')))\n",
    "g.setArray(integralTensor2body)\n",
    "print(g)"
   ]
  },
  {
   "cell_type": "code",
   "execution_count": 45,
   "metadata": {},
   "outputs": [
    {
     "output_type": "stream",
     "name": "stdout",
     "text": [
      "t2_{pp}^{hh}\n"
     ]
    }
   ],
   "source": [
    "t2 = Tensor('t2', np.zeros((1,1,1,1)), ('p', 'p'), ('h', 'h'))\n",
    "print(t2)"
   ]
  },
  {
   "cell_type": "code",
   "execution_count": 46,
   "metadata": {},
   "outputs": [],
   "source": [
    "t2amplitudes = np.arange(16).reshape((2,2,2,2))"
   ]
  },
  {
   "cell_type": "code",
   "execution_count": 47,
   "metadata": {},
   "outputs": [
    {
     "output_type": "error",
     "ename": "TypeError",
     "evalue": "'numpy.int64' object is not iterable",
     "traceback": [
      "\u001b[0;31m---------------------------------------------------------------------------\u001b[0m",
      "\u001b[0;31mTypeError\u001b[0m                                 Traceback (most recent call last)",
      "\u001b[0;32m<ipython-input-47-14c78b901542>\u001b[0m in \u001b[0;36m<module>\u001b[0;34m\u001b[0m\n\u001b[1;32m      1\u001b[0m \u001b[0mt2new\u001b[0m \u001b[0;34m=\u001b[0m \u001b[0mTensor\u001b[0m\u001b[0;34m(\u001b[0m\u001b[0;34m't2'\u001b[0m\u001b[0;34m,\u001b[0m \u001b[0;34m(\u001b[0m\u001b[0maddNewIndex\u001b[0m\u001b[0;34m(\u001b[0m\u001b[0mparticleIndices\u001b[0m\u001b[0;34m,\u001b[0m \u001b[0;34m'p'\u001b[0m\u001b[0;34m)\u001b[0m\u001b[0;34m,\u001b[0m \u001b[0maddNewIndex\u001b[0m\u001b[0;34m(\u001b[0m\u001b[0mparticleIndices\u001b[0m\u001b[0;34m,\u001b[0m \u001b[0;34m'p'\u001b[0m\u001b[0;34m)\u001b[0m\u001b[0;34m)\u001b[0m\u001b[0;34m,\u001b[0m \u001b[0;34m(\u001b[0m\u001b[0maddNewIndex\u001b[0m\u001b[0;34m(\u001b[0m\u001b[0mholeIndices\u001b[0m\u001b[0;34m,\u001b[0m \u001b[0;34m'h'\u001b[0m\u001b[0;34m)\u001b[0m\u001b[0;34m,\u001b[0m \u001b[0maddNewIndex\u001b[0m\u001b[0;34m(\u001b[0m\u001b[0mholeIndices\u001b[0m\u001b[0;34m,\u001b[0m \u001b[0;34m'h'\u001b[0m\u001b[0;34m)\u001b[0m\u001b[0;34m)\u001b[0m\u001b[0;34m,\u001b[0m \u001b[0mNorbs\u001b[0m\u001b[0;34m)\u001b[0m\u001b[0;34m\u001b[0m\u001b[0;34m\u001b[0m\u001b[0m\n\u001b[0;32m----> 2\u001b[0;31m \u001b[0mprint\u001b[0m\u001b[0;34m(\u001b[0m\u001b[0mt2new\u001b[0m\u001b[0;34m)\u001b[0m\u001b[0;34m\u001b[0m\u001b[0;34m\u001b[0m\u001b[0m\n\u001b[0m",
      "\u001b[0;32m<ipython-input-15-1ddb38ec9877>\u001b[0m in \u001b[0;36m__str__\u001b[0;34m(self)\u001b[0m\n\u001b[1;32m     32\u001b[0m             \u001b[0mstring\u001b[0m \u001b[0;34m+=\u001b[0m \u001b[0mp\u001b[0m\u001b[0;34m.\u001b[0m\u001b[0m__str__\u001b[0m\u001b[0;34m(\u001b[0m\u001b[0;34m)\u001b[0m\u001b[0;34m\u001b[0m\u001b[0;34m\u001b[0m\u001b[0m\n\u001b[1;32m     33\u001b[0m         \u001b[0mstring\u001b[0m \u001b[0;34m+=\u001b[0m \u001b[0;34m\"}^{\"\u001b[0m\u001b[0;34m\u001b[0m\u001b[0;34m\u001b[0m\u001b[0m\n\u001b[0;32m---> 34\u001b[0;31m         \u001b[0;32mfor\u001b[0m \u001b[0mq\u001b[0m \u001b[0;32min\u001b[0m \u001b[0mself\u001b[0m\u001b[0;34m.\u001b[0m\u001b[0mupperIndices\u001b[0m\u001b[0;34m:\u001b[0m\u001b[0;34m\u001b[0m\u001b[0;34m\u001b[0m\u001b[0m\n\u001b[0m\u001b[1;32m     35\u001b[0m             \u001b[0mstring\u001b[0m \u001b[0;34m+=\u001b[0m \u001b[0mq\u001b[0m\u001b[0;34m.\u001b[0m\u001b[0m__str__\u001b[0m\u001b[0;34m(\u001b[0m\u001b[0;34m)\u001b[0m\u001b[0;34m\u001b[0m\u001b[0;34m\u001b[0m\u001b[0m\n\u001b[1;32m     36\u001b[0m         \u001b[0mstring\u001b[0m \u001b[0;34m+=\u001b[0m \u001b[0;34m\"}\"\u001b[0m\u001b[0;34m\u001b[0m\u001b[0;34m\u001b[0m\u001b[0m\n",
      "\u001b[0;31mTypeError\u001b[0m: 'numpy.int64' object is not iterable"
     ]
    }
   ],
   "source": [
    "t2new = Tensor('t2', (addNewIndex(particleIndices, 'p'), addNewIndex(particleIndices, 'p')), (addNewIndex(holeIndices, 'h'), addNewIndex(holeIndices, 'h')), Norbs)\n",
    "print(t2new)"
   ]
  },
  {
   "cell_type": "code",
   "execution_count": 444,
   "metadata": {},
   "outputs": [
    {
     "output_type": "error",
     "ename": "AttributeError",
     "evalue": "'list' object has no attribute 'shape'",
     "traceback": [
      "\u001b[0;31m---------------------------------------------------------------------------\u001b[0m",
      "\u001b[0;31mAttributeError\u001b[0m                            Traceback (most recent call last)",
      "\u001b[0;32m<ipython-input-444-dc19cc572217>\u001b[0m in \u001b[0;36m<module>\u001b[0;34m\u001b[0m\n\u001b[0;32m----> 1\u001b[0;31m \u001b[0mt2\u001b[0m\u001b[0;34m.\u001b[0m\u001b[0msetArray\u001b[0m\u001b[0;34m(\u001b[0m\u001b[0mt2amplitudes\u001b[0m\u001b[0;34m)\u001b[0m\u001b[0;34m\u001b[0m\u001b[0;34m\u001b[0m\u001b[0m\n\u001b[0m\u001b[1;32m      2\u001b[0m \u001b[0mt2new\u001b[0m\u001b[0;34m.\u001b[0m\u001b[0msetArray\u001b[0m\u001b[0;34m(\u001b[0m\u001b[0mt2amplitudes\u001b[0m\u001b[0;34m)\u001b[0m\u001b[0;34m\u001b[0m\u001b[0;34m\u001b[0m\u001b[0m\n",
      "\u001b[0;32m<ipython-input-411-1ddb38ec9877>\u001b[0m in \u001b[0;36msetArray\u001b[0;34m(self, array)\u001b[0m\n\u001b[1;32m     11\u001b[0m \u001b[0;34m\u001b[0m\u001b[0m\n\u001b[1;32m     12\u001b[0m     \u001b[0;32mdef\u001b[0m \u001b[0msetArray\u001b[0m\u001b[0;34m(\u001b[0m\u001b[0mself\u001b[0m\u001b[0;34m,\u001b[0m \u001b[0marray\u001b[0m\u001b[0;34m)\u001b[0m\u001b[0;34m:\u001b[0m\u001b[0;34m\u001b[0m\u001b[0;34m\u001b[0m\u001b[0m\n\u001b[0;32m---> 13\u001b[0;31m         \u001b[0;32mif\u001b[0m \u001b[0marray\u001b[0m\u001b[0;34m.\u001b[0m\u001b[0mshape\u001b[0m \u001b[0;34m==\u001b[0m \u001b[0mself\u001b[0m\u001b[0;34m.\u001b[0m\u001b[0marray\u001b[0m\u001b[0;34m.\u001b[0m\u001b[0mshape\u001b[0m\u001b[0;34m:\u001b[0m\u001b[0;34m\u001b[0m\u001b[0;34m\u001b[0m\u001b[0m\n\u001b[0m\u001b[1;32m     14\u001b[0m             \u001b[0mself\u001b[0m\u001b[0;34m.\u001b[0m\u001b[0marray\u001b[0m \u001b[0;34m=\u001b[0m \u001b[0marray\u001b[0m\u001b[0;34m\u001b[0m\u001b[0;34m\u001b[0m\u001b[0m\n\u001b[1;32m     15\u001b[0m         \u001b[0;32melse\u001b[0m\u001b[0;34m:\u001b[0m\u001b[0;34m\u001b[0m\u001b[0;34m\u001b[0m\u001b[0m\n",
      "\u001b[0;31mAttributeError\u001b[0m: 'list' object has no attribute 'shape'"
     ]
    }
   ],
   "source": [
    "t2.setArray(t2amplitudes)\n",
    "t2new.setArray(t2amplitudes)"
   ]
  },
  {
   "cell_type": "code",
   "execution_count": 445,
   "metadata": {},
   "outputs": [],
   "source": [
    "t2amplitudes[0,0,0,0] = 1"
   ]
  },
  {
   "cell_type": "code",
   "execution_count": 446,
   "metadata": {},
   "outputs": [
    {
     "output_type": "stream",
     "name": "stdout",
     "text": [
      "[<__main__.Index object at 0x11baabe50>, <__main__.Index object at 0x11baab1c0>]\n"
     ]
    }
   ],
   "source": [
    "print(t2.array)"
   ]
  },
  {
   "cell_type": "code",
   "execution_count": 677,
   "metadata": {},
   "outputs": [],
   "source": [
    "class Tensor:\n",
    "    '''\n",
    "    Class for amplitude tensors of spin-free excitation operators\n",
    "    '''\n",
    "    def __init__(self, name, lowerIndexTypesList, upperIndexTypesList, array=None):\n",
    "        self.name = name\n",
    "        self.lowerIndexTypes = lowerIndexTypesList\n",
    "        self.upperIndexTypes = upperIndexTypesList\n",
    "        self.excitationRank = len(self.lowerIndexTypes)\n",
    "        self.array = np.zeros(self.getShape())\n",
    "        if array is not None:\n",
    "            self.setArray(array)\n",
    "\n",
    "    def getShape(self):\n",
    "        shapeList = []\n",
    "        for iType in self.lowerIndexTypes:\n",
    "            if iType == 'g':\n",
    "                shapeList.append(Norbs)\n",
    "            elif iType == 'p':\n",
    "                shapeList.append(Norbs - Nocc)\n",
    "            elif iType == 'h':\n",
    "                shapeList.append(Nocc)\n",
    "            else:\n",
    "                print('Orbital index type Error')\n",
    "        for iType in self.upperIndexTypes:\n",
    "            if iType == 'g':\n",
    "                shapeList.append(Norbs)\n",
    "            elif iType == 'p':\n",
    "                shapeList.append(Norbs - Nocc)\n",
    "            elif iType == 'h':\n",
    "                shapeList.append(Nocc)\n",
    "            else:\n",
    "                print('Orbital index type Error')\n",
    "        return tuple(shapeList)\n",
    "\n",
    "    def setArray(self, array):\n",
    "        if array.shape == self.array.shape:\n",
    "            self.array = array\n",
    "        else:\n",
    "            print(\"Array is of wrong shape\")\n",
    "\n",
    "    def getOperator(self):\n",
    "        operator = Wick.operatorSum([])\n",
    "        it = np.nditer(self.array, flags=[\"multi_index\"])\n",
    "        \n",
    "        for i in it:\n",
    "            indices = it.multi_index\n",
    "            creationIndices = indices[:self.excitationRank]\n",
    "            annihilationIndices = indices[self.excitationRank:]\n",
    "            operator += i * CC.spinFreeNtupleExcitation(creationIndices, annihilationIndices)\n",
    "        return operator\n",
    "\n",
    "    def getDiagrams(self):\n",
    "        diagrams = []\n",
    "        lowerGeneralIndexCount = sum(i == 'g' for i in self.lowerIndexTypes)\n",
    "        lowerSplits = list(itertools.combinations_with_replacement(['h', 'p'], lowerGeneralIndexCount))\n",
    "        upperGeneralIndexCount = sum(i == 'g' for i in self.upperIndexTypes)\n",
    "        upperSplits = list(itertools.combinations_with_replacement(['h', 'p'], upperGeneralIndexCount))\n",
    "        for lowerSplit in lowerSplits:\n",
    "            lowerSlices = [slice(None)] * self.excitationRank\n",
    "            lowerSplitIndexTypes = list(lowerSplit)\n",
    "            lGI = 0\n",
    "            newLowerIndexTypes = copy.copy(self.lowerIndexTypes)\n",
    "            for lI in range(len(newLowerIndexTypes)):\n",
    "                if newLowerIndexTypes[lI] == 'g':\n",
    "                    newLI = lowerSplitIndexTypes[lGI]\n",
    "                    if newLI == 'h':\n",
    "                        lowerSlices[lI] = slice(None,Nocc)\n",
    "                    elif newLI == 'p':\n",
    "                        lowerSlices[lI] = slice(Nocc, None)\n",
    "                    newLowerIndexTypes[lI] = newLI\n",
    "                    lGI += 1\n",
    "            for upperSplit in upperSplits:\n",
    "                upperSlices = [slice(None)] * self.excitationRank\n",
    "                upperSplitIndexTypes = list(upperSplit)\n",
    "                uGI = 0\n",
    "                newUpperIndexTypes = copy.copy(self.upperIndexTypes)\n",
    "                for uI in range(len(newUpperIndexTypes)):\n",
    "                    if newUpperIndexTypes[uI] == 'g':\n",
    "                        newUI = upperSplitIndexTypes[uGI]\n",
    "                        if newUI == 'h':\n",
    "                            upperSlices[uI] = slice(None,Nocc)\n",
    "                        elif newUI == 'p':\n",
    "                            upperSlices[uI] = slice(Nocc, None)\n",
    "                        newUpperIndexTypes[uI] = newUI\n",
    "                        uGI += 1\n",
    "                slices = lowerSlices + upperSlices\n",
    "                print(lowerSplitIndexTypes)\n",
    "                print(upperSplitIndexTypes)\n",
    "                print(newLowerIndexTypes)\n",
    "                print(newUpperIndexTypes)\n",
    "                print(slices)\n",
    "                diagram = Tensor(self.name, newLowerIndexTypes, newUpperIndexTypes, self.array[slices])\n",
    "                diagrams.append(diagram)\n",
    "        return diagrams\n",
    "\n",
    "    def __add__(self, other):\n",
    "        if isinstance(other, Tensor):\n",
    "            return TensorSum([TensorProduct([self]), TensorProduct([other])])\n",
    "\n",
    "    def __mul__(self, other):\n",
    "        if isinstance(other, Tensor):\n",
    "            return TensorProduct([self, other])\n",
    "        elif isinstance(other, Number):\n",
    "            return TensorProduct([self], other)\n",
    "        else:\n",
    "            return NotImplemented\n",
    "\n",
    "    def __rmul__(self, other):\n",
    "        if isinstance(other, Number):\n",
    "            return TensorProduct([self], other)\n",
    "        else:\n",
    "            return NotImplemented\n",
    "\n",
    "    def __str__(self):\n",
    "        string = self.name + \"_{\"\n",
    "        for p in self.lowerIndexTypes:\n",
    "            string += p.__str__()\n",
    "        string += \"}^{\"\n",
    "        for q in self.upperIndexTypes:\n",
    "            string += q.__str__()\n",
    "        string += \"}\"\n",
    "        return string"
   ]
  },
  {
   "cell_type": "code",
   "execution_count": 678,
   "metadata": {},
   "outputs": [],
   "source": [
    "class Vertex:\n",
    "    '''\n",
    "    Class for amplitude tensors of spin-free excitation operators\n",
    "    '''\n",
    "    def __init__(self, tensor, lowerIndicesList, upperIndicesList):\n",
    "        self.name = tensor.name\n",
    "        self.tensor = tensor\n",
    "        self.lowerIndices = lowerIndicesList\n",
    "        self.upperIndices = upperIndicesList\n",
    "        self.excitationRank = len(self.lowerIndices)\n",
    "\n",
    "    def getOperator(self):\n",
    "        operator = Wick.operatorSum([])\n",
    "        it = np.nditer(self.tensor.array, flags=[\"multi_index\"])\n",
    "        \n",
    "        for i in it:\n",
    "            indices = it.multi_index\n",
    "            creationIndices = indices[:self.excitationRank]\n",
    "            annihilationIndices = indices[self.excitationRank:]\n",
    "            operator += i * CC.spinFreeNtupleExcitation(creationIndices, annihilationIndices)\n",
    "        return operator\n",
    "\n",
    "    def __str__(self):\n",
    "        string = self.name + \"_{\"\n",
    "        for p in self.lowerIndices:\n",
    "            string += p.__str__()\n",
    "        string += \"}^{\"\n",
    "        for q in self.upperIndices:\n",
    "            string += q.__str__()\n",
    "        string += \"}\"\n",
    "        return string"
   ]
  },
  {
   "cell_type": "code",
   "execution_count": 679,
   "metadata": {},
   "outputs": [],
   "source": [
    "f = Tensor('f', ['g'], ['g'], h1)"
   ]
  },
  {
   "cell_type": "code",
   "execution_count": 680,
   "metadata": {},
   "outputs": [
    {
     "output_type": "execute_result",
     "data": {
      "text/plain": [
       "array([[-1.18985062e+00,  2.60021255e-17],\n",
       "       [-4.71423569e-17, -5.33749102e-01]])"
      ]
     },
     "metadata": {},
     "execution_count": 680
    }
   ],
   "source": [
    "f.array"
   ]
  },
  {
   "cell_type": "code",
   "execution_count": 681,
   "metadata": {},
   "outputs": [
    {
     "output_type": "execute_result",
     "data": {
      "text/plain": [
       "(2, 2)"
      ]
     },
     "metadata": {},
     "execution_count": 681
    }
   ],
   "source": [
    "f.array.shape"
   ]
  },
  {
   "cell_type": "code",
   "execution_count": 683,
   "metadata": {},
   "outputs": [
    {
     "output_type": "stream",
     "name": "stdout",
     "text": [
      "['h']\n['h']\n['h']\n['h']\n[slice(None, 1, None), slice(None, 1, None)]\n['h']\n['p']\n['h']\n['p']\n[slice(None, 1, None), slice(1, None, None)]\n['p']\n['h']\n['p']\n['h']\n[slice(1, None, None), slice(None, 1, None)]\n['p']\n['p']\n['p']\n['p']\n[slice(1, None, None), slice(1, None, None)]\n"
     ]
    }
   ],
   "source": [
    "diagrams = f.getDiagrams()"
   ]
  },
  {
   "cell_type": "code",
   "execution_count": 685,
   "metadata": {},
   "outputs": [
    {
     "output_type": "stream",
     "name": "stdout",
     "text": [
      "[[-0.5337491]]\n"
     ]
    }
   ],
   "source": [
    "print(diagrams[3].array)"
   ]
  },
  {
   "cell_type": "code",
   "execution_count": 686,
   "metadata": {},
   "outputs": [
    {
     "output_type": "stream",
     "name": "stdout",
     "text": [
      "f_{g}^{g}\n"
     ]
    }
   ],
   "source": [
    "print(f)"
   ]
  },
  {
   "cell_type": "code",
   "execution_count": 687,
   "metadata": {},
   "outputs": [],
   "source": [
    "v = Tensor('v', ['g', 'g'], ['g', 'g'], integralTensor2body)"
   ]
  },
  {
   "cell_type": "code",
   "execution_count": 688,
   "metadata": {},
   "outputs": [
    {
     "output_type": "execute_result",
     "data": {
      "text/plain": [
       "array([[[[6.54009511e-01, 8.32667268e-17],\n",
       "         [1.04083409e-16, 1.87521981e-01]],\n",
       "\n",
       "        [[8.32667268e-17, 6.45249427e-01],\n",
       "         [0.00000000e+00, 5.55111512e-17]]],\n",
       "\n",
       "\n",
       "       [[[1.04083409e-16, 0.00000000e+00],\n",
       "         [6.45249427e-01, 1.38777878e-16]],\n",
       "\n",
       "        [[1.87521981e-01, 5.55111512e-17],\n",
       "         [1.38777878e-16, 6.78136184e-01]]]])"
      ]
     },
     "metadata": {},
     "execution_count": 688
    }
   ],
   "source": [
    "v.array"
   ]
  },
  {
   "cell_type": "code",
   "execution_count": 689,
   "metadata": {},
   "outputs": [
    {
     "output_type": "stream",
     "name": "stdout",
     "text": [
      "v_{gg}^{gg}\n"
     ]
    }
   ],
   "source": [
    "print(v)"
   ]
  },
  {
   "cell_type": "code",
   "execution_count": 690,
   "metadata": {},
   "outputs": [
    {
     "output_type": "stream",
     "name": "stdout",
     "text": [
      "['h', 'h']\n['h', 'h']\n['h', 'h']\n['h', 'h']\n[slice(None, 1, None), slice(None, 1, None), slice(None, 1, None), slice(None, 1, None)]\n['h', 'h']\n['h', 'p']\n['h', 'h']\n['h', 'p']\n[slice(None, 1, None), slice(None, 1, None), slice(None, 1, None), slice(1, None, None)]\n['h', 'h']\n['p', 'p']\n['h', 'h']\n['p', 'p']\n[slice(None, 1, None), slice(None, 1, None), slice(1, None, None), slice(1, None, None)]\n['h', 'p']\n['h', 'h']\n['h', 'p']\n['h', 'h']\n[slice(None, 1, None), slice(1, None, None), slice(None, 1, None), slice(None, 1, None)]\n['h', 'p']\n['h', 'p']\n['h', 'p']\n['h', 'p']\n[slice(None, 1, None), slice(1, None, None), slice(None, 1, None), slice(1, None, None)]\n['h', 'p']\n['p', 'p']\n['h', 'p']\n['p', 'p']\n[slice(None, 1, None), slice(1, None, None), slice(1, None, None), slice(1, None, None)]\n['p', 'p']\n['h', 'h']\n['p', 'p']\n['h', 'h']\n[slice(1, None, None), slice(1, None, None), slice(None, 1, None), slice(None, 1, None)]\n['p', 'p']\n['h', 'p']\n['p', 'p']\n['h', 'p']\n[slice(1, None, None), slice(1, None, None), slice(None, 1, None), slice(1, None, None)]\n['p', 'p']\n['p', 'p']\n['p', 'p']\n['p', 'p']\n[slice(1, None, None), slice(1, None, None), slice(1, None, None), slice(1, None, None)]\n"
     ]
    }
   ],
   "source": [
    "diagrams = v.getDiagrams()"
   ]
  },
  {
   "cell_type": "code",
   "execution_count": 477,
   "metadata": {},
   "outputs": [
    {
     "output_type": "execute_result",
     "data": {
      "text/plain": [
       "2"
      ]
     },
     "metadata": {},
     "execution_count": 477
    }
   ],
   "source": [
    "Norbs"
   ]
  },
  {
   "cell_type": "code",
   "execution_count": 478,
   "metadata": {},
   "outputs": [],
   "source": [
    "t2 = Tensor('t', ['p', 'p'], ['h', 'h'])"
   ]
  },
  {
   "cell_type": "code",
   "execution_count": 479,
   "metadata": {},
   "outputs": [
    {
     "output_type": "execute_result",
     "data": {
      "text/plain": [
       "array([[[[0.]]]])"
      ]
     },
     "metadata": {},
     "execution_count": 479
    }
   ],
   "source": [
    "t2.array"
   ]
  },
  {
   "cell_type": "code",
   "execution_count": 480,
   "metadata": {},
   "outputs": [],
   "source": [
    "generalIndices = []\n",
    "particleIndices = []\n",
    "holeIndices = []\n",
    "activeIndices = []"
   ]
  },
  {
   "cell_type": "code",
   "execution_count": 481,
   "metadata": {},
   "outputs": [],
   "source": [
    "fock = Vertex(f, [addNewIndex(generalIndices, 'g')], [addNewIndex(generalIndices, 'g')])"
   ]
  },
  {
   "cell_type": "code",
   "execution_count": 482,
   "metadata": {},
   "outputs": [
    {
     "output_type": "stream",
     "name": "stdout",
     "text": [
      "f_{g_{0}}^{g_{1}}\n"
     ]
    }
   ],
   "source": [
    "print(fock)"
   ]
  },
  {
   "cell_type": "code",
   "execution_count": 483,
   "metadata": {},
   "outputs": [
    {
     "output_type": "execute_result",
     "data": {
      "text/plain": [
       "[<__main__.Index at 0x11721ab50>]"
      ]
     },
     "metadata": {},
     "execution_count": 483
    }
   ],
   "source": [
    "fock.lowerIndices"
   ]
  },
  {
   "cell_type": "code",
   "execution_count": 484,
   "metadata": {},
   "outputs": [
    {
     "output_type": "stream",
     "name": "stdout",
     "text": [
      "g_{0}\n"
     ]
    }
   ],
   "source": [
    "for i in fock.lowerIndices:\n",
    "    print(i)"
   ]
  },
  {
   "cell_type": "code",
   "execution_count": 485,
   "metadata": {},
   "outputs": [
    {
     "output_type": "stream",
     "name": "stdout",
     "text": [
      "g_{0}\n"
     ]
    }
   ],
   "source": [
    "print(generalIndices[0])"
   ]
  },
  {
   "cell_type": "code",
   "execution_count": 486,
   "metadata": {},
   "outputs": [],
   "source": [
    "fock.lowerIndices[0] = generalIndices[0]"
   ]
  },
  {
   "cell_type": "code",
   "execution_count": 639,
   "metadata": {},
   "outputs": [],
   "source": [
    "class TensorProduct:\n",
    "    def __init__(self, tensorList, prefactor=1.):\n",
    "        self.tensorList = tensorList\n",
    "        self.lowerIndices = {'g':[], 'p':[], 'h':[], 'a':[]}\n",
    "        self.upperIndices = {'g':[], 'p':[], 'h':[], 'a':[]}\n",
    "        self.vertexList = self.getVertexList(tensorList)\n",
    "        self.prefactor = prefactor\n",
    "\n",
    "    def addNewIndex(self, orbitalType, lowerBool):\n",
    "        count = len(self.lowerIndices[orbitalType]) + len(self.upperIndices[orbitalType])\n",
    "        newIndexName = orbitalType + \"_{\" + str(count) + \"}\"\n",
    "        newIndex = Index(newIndexName, orbitalType)\n",
    "        if lowerBool:\n",
    "            self.lowerIndices[orbitalType].append(newIndex)\n",
    "        else:\n",
    "            self.upperIndices[orbitalType].append(newIndex)\n",
    "        return newIndex\n",
    "\n",
    "    def getVertexList(self, tensorList_):\n",
    "        vertexList = []\n",
    "        for t in tensorList_:\n",
    "            lowerIndexList = []\n",
    "            for i in t.lowerIndexTypes:\n",
    "                lowerIndexList.append(self.addNewIndex(i, True))\n",
    "            upperIndexList = []\n",
    "            for i in t.upperIndexTypes:\n",
    "                upperIndexList.append(self.addNewIndex(i, False))\n",
    "            vertexList.append(Vertex(t, lowerIndexList, upperIndexList))\n",
    "        return vertexList\n",
    "\n",
    "    def contractibleIndices(self):\n",
    "        contractiblePairsList = []\n",
    "        for v1 in range(len(self.vertexList) - 1):\n",
    "            possibleUpperIndices = [i1 for i1 in self.vertexList[v1].upperIndices if (i1.orbitalType == 'p' or i1.orbitalType == 'g')]\n",
    "            for v2 in range(v1 + 1, len(self.vertexList)):\n",
    "                possibleLowerIndices = [i2 for i2 in self.vertexList[v2].lowerIndices if (i2.orbitalType == 'p' or i2.orbitalType == 'g')]\n",
    "                contractiblePairsList += list(itertools.product(possibleLowerIndices, possibleUpperIndices))\n",
    "        for v1 in range(len(self.vertexList) - 1):\n",
    "            possibleLowerIndices = [i1 for i1 in self.vertexList[v1].lowerIndices if (i1.orbitalType == 'h' or i1.orbitalType == 'g')]\n",
    "            for v2 in range(v1 + 1, len(self.vertexList)):\n",
    "                possibleUpperIndices = [i2 for i2 in self.vertexList[v2].upperIndices if (i2.orbitalType == 'h' or i2.orbitalType == 'g')]\n",
    "                contractiblePairsList += list(itertools.product(possibleLowerIndices, possibleUpperIndices))\n",
    "        return contractiblePairsList\n",
    "\n",
    "    def getFullyContractedTopologies(self):\n",
    "        contractiblePairs = self.contractibleIndices()\n",
    "        totalNumberOfIndices = sum([len(l) for l in self.lowerIndices.values()]) + sum([len(l) for l in self.upperIndices.values()])\n",
    "        possibleTopologies = itertools.combinations(contractiblePairs, int(totalNumberOfIndices / 2))\n",
    "        return [topology for topology in possibleTopologies if len(set(itertools.chain(*topology))) == totalNumberOfIndices]\n",
    "\n",
    "    def getTopologiesLeavingFreeIndices(self, freeLowerIndexTypeList, freeUpperIndexTypeList, allowGeneral=True):\n",
    "        currentFreeLowerIndexCounts = {}\n",
    "        currentFreeUpperIndexCounts = {}\n",
    "        freeLowerIndexCounts = {}\n",
    "        freeUpperIndexCounts = {}\n",
    "        for iType in self.upperIndices:\n",
    "            currentFreeUpperIndexCounts[iType] = len(self.upperIndices[iType])\n",
    "            currentFreeLowerIndexCounts[iType] = len(self.lowerIndices[iType])\n",
    "            freeLowerIndexCounts[iType] = 0\n",
    "            freeUpperIndexCounts[iType] = 0\n",
    "        for iType in freeLowerIndexTypeList:\n",
    "            freeLowerIndexCounts[iType] += 1\n",
    "        for iType in freeUpperIndexTypeList:\n",
    "            freeUpperIndexCounts[iType] += 1\n",
    "        contractiblePairs = self.contractibleIndices()\n",
    "#        currentFreeLowerIndexTypeList = []\n",
    "#        for iType in self.lowerIndices:\n",
    "#            currentFreeLowerIndexTypeList += [iType] * len(self.lowerIndices[iType])\n",
    "#        currentFreeUpperIndexTypeList = []\n",
    "#        for iType in self.upperIndices:\n",
    "#            currentFreeUpperIndexTypeList += [iType] * len(self.upperIndices[iType])\n",
    "        numberOfContractions = sum([len(l) for l in self.lowerIndices.values()]) - len(freeLowerIndexTypeList)\n",
    "        possibleTopologies = itertools.combinations(contractiblePairs, numberOfContractions)\n",
    "        chosenTopologies = []\n",
    "        for topology in possibleTopologies:\n",
    "            contractedLowerIndexCounts = {'g':0, 'p':0, 'h':0, 'a':0}\n",
    "            contractedUpperIndexCounts = {'g':0, 'p':0, 'h':0, 'a':0}\n",
    "            for pair in topology:\n",
    "                contractedLowerIndexCounts[pair[0].orbitalType] += 1\n",
    "                contractedUpperIndexCounts[pair[1].orbitalType] += 1\n",
    "                print(pair[0], pair[1])\n",
    "#            contractedLowerIndexTypes = [pair[0].orbitalType for pair in topology]\n",
    "#            contractedUpperIndexTypes = [pair[1].orbitalType for pair in topology]\n",
    "#            if collections.Counter(freeLowerIndexTypeList + contractedLowerIndexTypes) == collections.Counter(currentFreeLowerIndexTypeList) and collections.Counter(freeUpperIndexTypeList + contractedUpperIndexTypes) == collections.Counter(currentFreeUpperIndexTypeList):\n",
    "            topologyAllowed = False\n",
    "            if allowGeneral and len(set(itertools.chain(*topology))) == 2 * numberOfContractions:\n",
    "                spareGeneralLowerIndexCount = currentFreeLowerIndexCounts['g'] - contractedLowerIndexCounts['g']\n",
    "                spareGeneralUpperIndexCount = currentFreeUpperIndexCounts['g'] - contractedUpperIndexCounts['g']\n",
    "                print(spareGeneralLowerIndexCount)\n",
    "                for lgp in range(spareGeneralLowerIndexCount + 1):\n",
    "                    for lgh in range(spareGeneralLowerIndexCount + 1 - lgp):\n",
    "                        for ugp in range(spareGeneralUpperIndexCount + 1):\n",
    "                            for ugh in range(spareGeneralUpperIndexCount + 1 - ugp):\n",
    "                                print(currentFreeLowerIndexCounts['p'] - contractedLowerIndexCounts['p'] + lgp, freeLowerIndexCounts['p'], currentFreeLowerIndexCounts['h'] - contractedLowerIndexCounts['h'] + lgh, freeLowerIndexCounts['h'], currentFreeUpperIndexCounts['p'] - contractedUpperIndexCounts['p'] + ugp, freeUpperIndexCounts['p'], currentFreeUpperIndexCounts['h'] - contractedUpperIndexCounts['h'] + ugh, freeUpperIndexCounts['h'])\n",
    "                                if (currentFreeLowerIndexCounts['p'] - contractedLowerIndexCounts['p'] + lgp == freeLowerIndexCounts['p']) and (currentFreeLowerIndexCounts['h'] - contractedLowerIndexCounts['h'] + lgh == freeLowerIndexCounts['h']) and (currentFreeUpperIndexCounts['p'] - contractedUpperIndexCounts['p'] + ugp == freeUpperIndexCounts['p']) and (currentFreeUpperIndexCounts['h'] - contractedUpperIndexCounts['h'] + ugh == freeUpperIndexCounts['h']):\n",
    "                                    topologyAllowed = True\n",
    "            elif len(set(itertools.chain(*topology))) == 2 * numberOfContractions:\n",
    "                if all([(currentFreeLowerIndexCounts[itype] - contractedLowerIndexCounts[iType] == freeLowerIndexCounts[iType]) for itype in self.lowerIndices]) and all([(currentFreeUpperIndexCounts[iType] - contractedUpperIndexCounts[iType] == freeUpperIndexCounts[itype]) for itype in self.upperIndices]):\n",
    "                    topologyAllowed = True\n",
    "            if topologyAllowed:\n",
    "                chosenTopologies.append(topology)\n",
    "        return chosenTopologies\n",
    "\n",
    "    def __mul__(self, other):\n",
    "        if isinstance(other, Tensor):\n",
    "            return TensorProduct(self.tensorList + [other])\n",
    "        elif isinstance(other, TensorProduct):\n",
    "            return TensorProduct(self.tensorList + other.tensorList)\n",
    "        elif isinstance(other, Number):\n",
    "            return TensorProduct(self.tensorList, self.prefactor * other)\n",
    "\n",
    "    def __rmul__(self, other):\n",
    "        if isinstance(other, Tensor):\n",
    "            return TensorProduct([other] + self.tensorList)\n",
    "        elif isinstance(other, Number):\n",
    "            return TensorProduct(self.tensorList, other * self.prefactor)\n",
    "\n",
    "    def __str__(self):\n",
    "        string = ''\n",
    "        for v in self.vertexList:\n",
    "            string += v.__str__()\n",
    "        return string"
   ]
  },
  {
   "cell_type": "code",
   "execution_count": 640,
   "metadata": {},
   "outputs": [],
   "source": [
    "tP = v * t2"
   ]
  },
  {
   "cell_type": "code",
   "execution_count": 641,
   "metadata": {},
   "outputs": [
    {
     "output_type": "stream",
     "name": "stdout",
     "text": [
      "v_{g_{0}g_{1}}^{g_{2}g_{3}}t_{p_{0}p_{1}}^{h_{0}h_{1}}\n"
     ]
    }
   ],
   "source": [
    "print(tP)"
   ]
  },
  {
   "cell_type": "code",
   "execution_count": 642,
   "metadata": {},
   "outputs": [
    {
     "output_type": "execute_result",
     "data": {
      "text/plain": [
       "2"
      ]
     },
     "metadata": {},
     "execution_count": 642
    }
   ],
   "source": [
    "sum([len(l) for l in tP.lowerIndices.values()]) - len(['h', 'h'])"
   ]
  },
  {
   "cell_type": "code",
   "execution_count": 692,
   "metadata": {},
   "outputs": [
    {
     "output_type": "stream",
     "name": "stdout",
     "text": [
      "p_{0} g_{2}\np_{0} g_{3}\np_{0} g_{2}\np_{1} g_{2}\np_{0} g_{2}\np_{1} g_{3}\n2\n0 2 0 0 0 0 2 2\n0 2 1 0 0 0 2 2\n0 2 2 0 0 0 2 2\n1 2 0 0 0 0 2 2\n1 2 1 0 0 0 2 2\n2 2 0 0 0 0 2 2\np_{0} g_{2}\ng_{0} h_{0}\n1\n1 2 0 0 0 0 1 2\n1 2 0 0 0 0 2 2\n1 2 0 0 1 0 1 2\n1 2 1 0 0 0 1 2\n1 2 1 0 0 0 2 2\n1 2 1 0 1 0 1 2\n2 2 0 0 0 0 1 2\n2 2 0 0 0 0 2 2\n2 2 0 0 1 0 1 2\np_{0} g_{2}\ng_{0} h_{1}\n1\n1 2 0 0 0 0 1 2\n1 2 0 0 0 0 2 2\n1 2 0 0 1 0 1 2\n1 2 1 0 0 0 1 2\n1 2 1 0 0 0 2 2\n1 2 1 0 1 0 1 2\n2 2 0 0 0 0 1 2\n2 2 0 0 0 0 2 2\n2 2 0 0 1 0 1 2\np_{0} g_{2}\ng_{1} h_{0}\n1\n1 2 0 0 0 0 1 2\n1 2 0 0 0 0 2 2\n1 2 0 0 1 0 1 2\n1 2 1 0 0 0 1 2\n1 2 1 0 0 0 2 2\n1 2 1 0 1 0 1 2\n2 2 0 0 0 0 1 2\n2 2 0 0 0 0 2 2\n2 2 0 0 1 0 1 2\np_{0} g_{2}\ng_{1} h_{1}\n1\n1 2 0 0 0 0 1 2\n1 2 0 0 0 0 2 2\n1 2 0 0 1 0 1 2\n1 2 1 0 0 0 1 2\n1 2 1 0 0 0 2 2\n1 2 1 0 1 0 1 2\n2 2 0 0 0 0 1 2\n2 2 0 0 0 0 2 2\n2 2 0 0 1 0 1 2\np_{0} g_{3}\np_{1} g_{2}\n2\n0 2 0 0 0 0 2 2\n0 2 1 0 0 0 2 2\n0 2 2 0 0 0 2 2\n1 2 0 0 0 0 2 2\n1 2 1 0 0 0 2 2\n2 2 0 0 0 0 2 2\np_{0} g_{3}\np_{1} g_{3}\np_{0} g_{3}\ng_{0} h_{0}\n1\n1 2 0 0 0 0 1 2\n1 2 0 0 0 0 2 2\n1 2 0 0 1 0 1 2\n1 2 1 0 0 0 1 2\n1 2 1 0 0 0 2 2\n1 2 1 0 1 0 1 2\n2 2 0 0 0 0 1 2\n2 2 0 0 0 0 2 2\n2 2 0 0 1 0 1 2\np_{0} g_{3}\ng_{0} h_{1}\n1\n1 2 0 0 0 0 1 2\n1 2 0 0 0 0 2 2\n1 2 0 0 1 0 1 2\n1 2 1 0 0 0 1 2\n1 2 1 0 0 0 2 2\n1 2 1 0 1 0 1 2\n2 2 0 0 0 0 1 2\n2 2 0 0 0 0 2 2\n2 2 0 0 1 0 1 2\np_{0} g_{3}\ng_{1} h_{0}\n1\n1 2 0 0 0 0 1 2\n1 2 0 0 0 0 2 2\n1 2 0 0 1 0 1 2\n1 2 1 0 0 0 1 2\n1 2 1 0 0 0 2 2\n1 2 1 0 1 0 1 2\n2 2 0 0 0 0 1 2\n2 2 0 0 0 0 2 2\n2 2 0 0 1 0 1 2\np_{0} g_{3}\ng_{1} h_{1}\n1\n1 2 0 0 0 0 1 2\n1 2 0 0 0 0 2 2\n1 2 0 0 1 0 1 2\n1 2 1 0 0 0 1 2\n1 2 1 0 0 0 2 2\n1 2 1 0 1 0 1 2\n2 2 0 0 0 0 1 2\n2 2 0 0 0 0 2 2\n2 2 0 0 1 0 1 2\np_{1} g_{2}\np_{1} g_{3}\np_{1} g_{2}\ng_{0} h_{0}\n1\n1 2 0 0 0 0 1 2\n1 2 0 0 0 0 2 2\n1 2 0 0 1 0 1 2\n1 2 1 0 0 0 1 2\n1 2 1 0 0 0 2 2\n1 2 1 0 1 0 1 2\n2 2 0 0 0 0 1 2\n2 2 0 0 0 0 2 2\n2 2 0 0 1 0 1 2\np_{1} g_{2}\ng_{0} h_{1}\n1\n1 2 0 0 0 0 1 2\n1 2 0 0 0 0 2 2\n1 2 0 0 1 0 1 2\n1 2 1 0 0 0 1 2\n1 2 1 0 0 0 2 2\n1 2 1 0 1 0 1 2\n2 2 0 0 0 0 1 2\n2 2 0 0 0 0 2 2\n2 2 0 0 1 0 1 2\np_{1} g_{2}\ng_{1} h_{0}\n1\n1 2 0 0 0 0 1 2\n1 2 0 0 0 0 2 2\n1 2 0 0 1 0 1 2\n1 2 1 0 0 0 1 2\n1 2 1 0 0 0 2 2\n1 2 1 0 1 0 1 2\n2 2 0 0 0 0 1 2\n2 2 0 0 0 0 2 2\n2 2 0 0 1 0 1 2\np_{1} g_{2}\ng_{1} h_{1}\n1\n1 2 0 0 0 0 1 2\n1 2 0 0 0 0 2 2\n1 2 0 0 1 0 1 2\n1 2 1 0 0 0 1 2\n1 2 1 0 0 0 2 2\n1 2 1 0 1 0 1 2\n2 2 0 0 0 0 1 2\n2 2 0 0 0 0 2 2\n2 2 0 0 1 0 1 2\np_{1} g_{3}\ng_{0} h_{0}\n1\n1 2 0 0 0 0 1 2\n1 2 0 0 0 0 2 2\n1 2 0 0 1 0 1 2\n1 2 1 0 0 0 1 2\n1 2 1 0 0 0 2 2\n1 2 1 0 1 0 1 2\n2 2 0 0 0 0 1 2\n2 2 0 0 0 0 2 2\n2 2 0 0 1 0 1 2\np_{1} g_{3}\ng_{0} h_{1}\n1\n1 2 0 0 0 0 1 2\n1 2 0 0 0 0 2 2\n1 2 0 0 1 0 1 2\n1 2 1 0 0 0 1 2\n1 2 1 0 0 0 2 2\n1 2 1 0 1 0 1 2\n2 2 0 0 0 0 1 2\n2 2 0 0 0 0 2 2\n2 2 0 0 1 0 1 2\np_{1} g_{3}\ng_{1} h_{0}\n1\n1 2 0 0 0 0 1 2\n1 2 0 0 0 0 2 2\n1 2 0 0 1 0 1 2\n1 2 1 0 0 0 1 2\n1 2 1 0 0 0 2 2\n1 2 1 0 1 0 1 2\n2 2 0 0 0 0 1 2\n2 2 0 0 0 0 2 2\n2 2 0 0 1 0 1 2\np_{1} g_{3}\ng_{1} h_{1}\n1\n1 2 0 0 0 0 1 2\n1 2 0 0 0 0 2 2\n1 2 0 0 1 0 1 2\n1 2 1 0 0 0 1 2\n1 2 1 0 0 0 2 2\n1 2 1 0 1 0 1 2\n2 2 0 0 0 0 1 2\n2 2 0 0 0 0 2 2\n2 2 0 0 1 0 1 2\ng_{0} h_{0}\ng_{0} h_{1}\ng_{0} h_{0}\ng_{1} h_{0}\ng_{0} h_{0}\ng_{1} h_{1}\n0\n2 2 0 0 0 0 0 2\n2 2 0 0 0 0 1 2\n2 2 0 0 0 0 2 2\n2 2 0 0 1 0 0 2\n2 2 0 0 1 0 1 2\n2 2 0 0 2 0 0 2\ng_{0} h_{1}\ng_{1} h_{0}\n0\n2 2 0 0 0 0 0 2\n2 2 0 0 0 0 1 2\n2 2 0 0 0 0 2 2\n2 2 0 0 1 0 0 2\n2 2 0 0 1 0 1 2\n2 2 0 0 2 0 0 2\ng_{0} h_{1}\ng_{1} h_{1}\ng_{1} h_{0}\ng_{1} h_{1}\n"
     ]
    },
    {
     "output_type": "execute_result",
     "data": {
      "text/plain": [
       "20"
      ]
     },
     "metadata": {},
     "execution_count": 692
    }
   ],
   "source": [
    "len(tP.getTopologiesLeavingFreeIndices(['p', 'p'], ['h', 'h']))"
   ]
  },
  {
   "cell_type": "code",
   "execution_count": 644,
   "metadata": {},
   "outputs": [
    {
     "output_type": "stream",
     "name": "stdout",
     "text": [
      "p_{0} g_{2}\np_{0} g_{3}\np_{0} g_{2}\np_{1} g_{2}\np_{0} g_{2}\np_{1} g_{3}\n2\n0 2 0 0 0 0 2 2\n0 2 1 0 0 0 2 2\n0 2 2 0 0 0 2 2\n1 2 0 0 0 0 2 2\n1 2 1 0 0 0 2 2\n2 2 0 0 0 0 2 2\np_{0} g_{2}\ng_{0} h_{0}\n1\n1 2 0 0 0 0 1 2\n1 2 0 0 0 0 2 2\n1 2 0 0 1 0 1 2\n1 2 1 0 0 0 1 2\n1 2 1 0 0 0 2 2\n1 2 1 0 1 0 1 2\n2 2 0 0 0 0 1 2\n2 2 0 0 0 0 2 2\n2 2 0 0 1 0 1 2\np_{0} g_{2}\ng_{0} h_{1}\n1\n1 2 0 0 0 0 1 2\n1 2 0 0 0 0 2 2\n1 2 0 0 1 0 1 2\n1 2 1 0 0 0 1 2\n1 2 1 0 0 0 2 2\n1 2 1 0 1 0 1 2\n2 2 0 0 0 0 1 2\n2 2 0 0 0 0 2 2\n2 2 0 0 1 0 1 2\np_{0} g_{2}\ng_{1} h_{0}\n1\n1 2 0 0 0 0 1 2\n1 2 0 0 0 0 2 2\n1 2 0 0 1 0 1 2\n1 2 1 0 0 0 1 2\n1 2 1 0 0 0 2 2\n1 2 1 0 1 0 1 2\n2 2 0 0 0 0 1 2\n2 2 0 0 0 0 2 2\n2 2 0 0 1 0 1 2\np_{0} g_{2}\ng_{1} h_{1}\n1\n1 2 0 0 0 0 1 2\n1 2 0 0 0 0 2 2\n1 2 0 0 1 0 1 2\n1 2 1 0 0 0 1 2\n1 2 1 0 0 0 2 2\n1 2 1 0 1 0 1 2\n2 2 0 0 0 0 1 2\n2 2 0 0 0 0 2 2\n2 2 0 0 1 0 1 2\np_{0} g_{3}\np_{1} g_{2}\n2\n0 2 0 0 0 0 2 2\n0 2 1 0 0 0 2 2\n0 2 2 0 0 0 2 2\n1 2 0 0 0 0 2 2\n1 2 1 0 0 0 2 2\n2 2 0 0 0 0 2 2\np_{0} g_{3}\np_{1} g_{3}\np_{0} g_{3}\ng_{0} h_{0}\n1\n1 2 0 0 0 0 1 2\n1 2 0 0 0 0 2 2\n1 2 0 0 1 0 1 2\n1 2 1 0 0 0 1 2\n1 2 1 0 0 0 2 2\n1 2 1 0 1 0 1 2\n2 2 0 0 0 0 1 2\n2 2 0 0 0 0 2 2\n2 2 0 0 1 0 1 2\np_{0} g_{3}\ng_{0} h_{1}\n1\n1 2 0 0 0 0 1 2\n1 2 0 0 0 0 2 2\n1 2 0 0 1 0 1 2\n1 2 1 0 0 0 1 2\n1 2 1 0 0 0 2 2\n1 2 1 0 1 0 1 2\n2 2 0 0 0 0 1 2\n2 2 0 0 0 0 2 2\n2 2 0 0 1 0 1 2\np_{0} g_{3}\ng_{1} h_{0}\n1\n1 2 0 0 0 0 1 2\n1 2 0 0 0 0 2 2\n1 2 0 0 1 0 1 2\n1 2 1 0 0 0 1 2\n1 2 1 0 0 0 2 2\n1 2 1 0 1 0 1 2\n2 2 0 0 0 0 1 2\n2 2 0 0 0 0 2 2\n2 2 0 0 1 0 1 2\np_{0} g_{3}\ng_{1} h_{1}\n1\n1 2 0 0 0 0 1 2\n1 2 0 0 0 0 2 2\n1 2 0 0 1 0 1 2\n1 2 1 0 0 0 1 2\n1 2 1 0 0 0 2 2\n1 2 1 0 1 0 1 2\n2 2 0 0 0 0 1 2\n2 2 0 0 0 0 2 2\n2 2 0 0 1 0 1 2\np_{1} g_{2}\np_{1} g_{3}\np_{1} g_{2}\ng_{0} h_{0}\n1\n1 2 0 0 0 0 1 2\n1 2 0 0 0 0 2 2\n1 2 0 0 1 0 1 2\n1 2 1 0 0 0 1 2\n1 2 1 0 0 0 2 2\n1 2 1 0 1 0 1 2\n2 2 0 0 0 0 1 2\n2 2 0 0 0 0 2 2\n2 2 0 0 1 0 1 2\np_{1} g_{2}\ng_{0} h_{1}\n1\n1 2 0 0 0 0 1 2\n1 2 0 0 0 0 2 2\n1 2 0 0 1 0 1 2\n1 2 1 0 0 0 1 2\n1 2 1 0 0 0 2 2\n1 2 1 0 1 0 1 2\n2 2 0 0 0 0 1 2\n2 2 0 0 0 0 2 2\n2 2 0 0 1 0 1 2\np_{1} g_{2}\ng_{1} h_{0}\n1\n1 2 0 0 0 0 1 2\n1 2 0 0 0 0 2 2\n1 2 0 0 1 0 1 2\n1 2 1 0 0 0 1 2\n1 2 1 0 0 0 2 2\n1 2 1 0 1 0 1 2\n2 2 0 0 0 0 1 2\n2 2 0 0 0 0 2 2\n2 2 0 0 1 0 1 2\np_{1} g_{2}\ng_{1} h_{1}\n1\n1 2 0 0 0 0 1 2\n1 2 0 0 0 0 2 2\n1 2 0 0 1 0 1 2\n1 2 1 0 0 0 1 2\n1 2 1 0 0 0 2 2\n1 2 1 0 1 0 1 2\n2 2 0 0 0 0 1 2\n2 2 0 0 0 0 2 2\n2 2 0 0 1 0 1 2\np_{1} g_{3}\ng_{0} h_{0}\n1\n1 2 0 0 0 0 1 2\n1 2 0 0 0 0 2 2\n1 2 0 0 1 0 1 2\n1 2 1 0 0 0 1 2\n1 2 1 0 0 0 2 2\n1 2 1 0 1 0 1 2\n2 2 0 0 0 0 1 2\n2 2 0 0 0 0 2 2\n2 2 0 0 1 0 1 2\np_{1} g_{3}\ng_{0} h_{1}\n1\n1 2 0 0 0 0 1 2\n1 2 0 0 0 0 2 2\n1 2 0 0 1 0 1 2\n1 2 1 0 0 0 1 2\n1 2 1 0 0 0 2 2\n1 2 1 0 1 0 1 2\n2 2 0 0 0 0 1 2\n2 2 0 0 0 0 2 2\n2 2 0 0 1 0 1 2\np_{1} g_{3}\ng_{1} h_{0}\n1\n1 2 0 0 0 0 1 2\n1 2 0 0 0 0 2 2\n1 2 0 0 1 0 1 2\n1 2 1 0 0 0 1 2\n1 2 1 0 0 0 2 2\n1 2 1 0 1 0 1 2\n2 2 0 0 0 0 1 2\n2 2 0 0 0 0 2 2\n2 2 0 0 1 0 1 2\np_{1} g_{3}\ng_{1} h_{1}\n1\n1 2 0 0 0 0 1 2\n1 2 0 0 0 0 2 2\n1 2 0 0 1 0 1 2\n1 2 1 0 0 0 1 2\n1 2 1 0 0 0 2 2\n1 2 1 0 1 0 1 2\n2 2 0 0 0 0 1 2\n2 2 0 0 0 0 2 2\n2 2 0 0 1 0 1 2\ng_{0} h_{0}\ng_{0} h_{1}\ng_{0} h_{0}\ng_{1} h_{0}\ng_{0} h_{0}\ng_{1} h_{1}\n0\n2 2 0 0 0 0 0 2\n2 2 0 0 0 0 1 2\n2 2 0 0 0 0 2 2\n2 2 0 0 1 0 0 2\n2 2 0 0 1 0 1 2\n2 2 0 0 2 0 0 2\ng_{0} h_{1}\ng_{1} h_{0}\n0\n2 2 0 0 0 0 0 2\n2 2 0 0 0 0 1 2\n2 2 0 0 0 0 2 2\n2 2 0 0 1 0 0 2\n2 2 0 0 1 0 1 2\n2 2 0 0 2 0 0 2\ng_{0} h_{1}\ng_{1} h_{1}\ng_{1} h_{0}\ng_{1} h_{1}\n"
     ]
    }
   ],
   "source": [
    "doublesResidualTopologies = tP.getTopologiesLeavingFreeIndices(['p', 'p'], ['h', 'h'])"
   ]
  },
  {
   "cell_type": "code",
   "execution_count": 645,
   "metadata": {},
   "outputs": [
    {
     "output_type": "execute_result",
     "data": {
      "text/plain": [
       "20"
      ]
     },
     "metadata": {},
     "execution_count": 645
    }
   ],
   "source": [
    "len(doublesResidualTopologies)"
   ]
  },
  {
   "cell_type": "code",
   "execution_count": 651,
   "metadata": {},
   "outputs": [
    {
     "output_type": "stream",
     "name": "stdout",
     "text": [
      "p_{0} g_{3}\np_{1} g_{2}\n"
     ]
    }
   ],
   "source": [
    "for pair in doublesResidualTopologies[5]:\n",
    "    print(pair[0], pair[1])"
   ]
  },
  {
   "cell_type": "code",
   "execution_count": 584,
   "metadata": {},
   "outputs": [
    {
     "output_type": "stream",
     "name": "stdout",
     "text": [
      "p_{0} g_{2}\np_{0} g_{3}\np_{1} g_{2}\np_{1} g_{3}\ng_{0} h_{0}\ng_{0} h_{1}\ng_{1} h_{0}\ng_{1} h_{1}\n"
     ]
    }
   ],
   "source": [
    "for pair in tP.contractibleIndices():\n",
    "    print(pair[0], pair[1])"
   ]
  },
  {
   "cell_type": "code",
   "execution_count": 490,
   "metadata": {},
   "outputs": [
    {
     "output_type": "execute_result",
     "data": {
      "text/plain": [
       "{'g': [<__main__.Index at 0x11721a4c0>, <__main__.Index at 0x11721ad00>],\n",
       " 'p': [<__main__.Index at 0x117fa1c10>, <__main__.Index at 0x117fa1af0>],\n",
       " 'h': [],\n",
       " 'a': []}"
      ]
     },
     "metadata": {},
     "execution_count": 490
    }
   ],
   "source": [
    "tP.lowerIndices"
   ]
  },
  {
   "cell_type": "code",
   "execution_count": 491,
   "metadata": {},
   "outputs": [
    {
     "output_type": "stream",
     "name": "stdout",
     "text": [
      "g\n[<__main__.Index object at 0x11721a4c0>, <__main__.Index object at 0x11721ad00>]\np\n[<__main__.Index object at 0x117fa1c10>, <__main__.Index object at 0x117fa1af0>]\nh\n[]\na\n[]\n"
     ]
    }
   ],
   "source": [
    "for iT in tP.lowerIndices:\n",
    "    print(iT)\n",
    "    print(tP.lowerIndices[iT])"
   ]
  },
  {
   "cell_type": "code",
   "execution_count": 694,
   "metadata": {},
   "outputs": [],
   "source": [
    "term = TensorProduct([v,t2])"
   ]
  },
  {
   "cell_type": "code",
   "execution_count": 695,
   "metadata": {},
   "outputs": [
    {
     "output_type": "stream",
     "name": "stdout",
     "text": [
      "v_{g_{0}g_{1}}^{g_{2}g_{3}}t_{p_{0}p_{1}}^{h_{0}h_{1}}\n"
     ]
    }
   ],
   "source": [
    "print(term)"
   ]
  },
  {
   "cell_type": "code",
   "execution_count": 494,
   "metadata": {},
   "outputs": [
    {
     "output_type": "stream",
     "name": "stdout",
     "text": [
      "[<__main__.Index object at 0x1171ec2e0>, <__main__.Index object at 0x1171ec2b0>]\n"
     ]
    }
   ],
   "source": [
    "print(term.vertexList[0].lowerIndices)"
   ]
  },
  {
   "cell_type": "code",
   "execution_count": 696,
   "metadata": {},
   "outputs": [],
   "source": [
    "contractiblePairs = term.contractibleIndices()"
   ]
  },
  {
   "cell_type": "code",
   "execution_count": 496,
   "metadata": {},
   "outputs": [
    {
     "output_type": "stream",
     "name": "stdout",
     "text": [
      "p_{0} g_{2}\np_{0} g_{3}\np_{1} g_{2}\np_{1} g_{3}\ng_{0} h_{0}\ng_{0} h_{1}\ng_{1} h_{0}\ng_{1} h_{1}\n"
     ]
    }
   ],
   "source": [
    "for p in contractiblePairs:\n",
    "    print(p[0], p[1])"
   ]
  },
  {
   "cell_type": "code",
   "execution_count": 693,
   "metadata": {},
   "outputs": [],
   "source": [
    "class ContractedTerm:\n",
    "    def __init__(self, tensorProduct, contractionTopology):\n",
    "        self.tensorList = tensorProduct.tensorList\n",
    "        self.prefactor = tensorProduct.prefactor\n",
    "        self.lowerIndices = copy.deepcopy(tensorProduct.lowerIndices)\n",
    "        self.upperIndices = copy.deepcopy(tensorProduct.upperIndices)\n",
    "        self.vertexList = copy.deepcopy(tensorProduct.vertexList)\n",
    "        self.contractionTopology = contractionTopology\n",
    "        self.contractedIndicesList = []\n",
    "        self.applyContractions(self.contractionTopology)\n",
    "        self.loops = self.getLoops()\n",
    "        self.prefactor = self.prefactor * pow(-2, len(self.loops))\n",
    "        self.prefactor = self.prefactor * pow(-1, sum((i.orbitalType == 'h' or i.orbitalType == 'a') for i in self.contractedIndicesList))\n",
    "\n",
    "    def contractibleIndices(self):\n",
    "        contractiblePairsList = []\n",
    "        for v1 in range(len(self.vertexList) - 1):\n",
    "            possibleFirstIndices = [i1 for i1 in self.vertexList[v1].upperIndices if (i1.orbitalType == 'p' or i1.orbitalType == 'g')]\n",
    "            for v2 in range(v1 + 1, len(self.vertexList)):\n",
    "                possibleSecondIndices = [i2 for i2 in self.vertexList[v2].lowerIndices if (i2.orbitalType == 'p' or i2.orbitalType == 'g')]\n",
    "                contractiblePairsList += list(itertools.product(possibleFirstIndices, possibleSecondIndices))\n",
    "        for v1 in range(len(self.vertexList) - 1):\n",
    "            possibleFirstIndices = [i1 for i1 in self.vertexList[v1].lowerIndices if (i1.orbitalType == 'h' or i1.orbitalType == 'g')]\n",
    "            for v2 in range(v1 + 1, len(self.vertexList)):\n",
    "                possibleSecondIndices = [i2 for i2 in self.vertexList[v2].upperIndices if (i2.orbitalType == 'h' or i2.orbitalType == 'g')]\n",
    "                contractiblePairsList += list(itertools.product(possibleFirstIndices, possibleSecondIndices))\n",
    "        return contractiblePairsList\n",
    "\n",
    "    def contractIndexPair(self, indexPair):\n",
    "        for vertex in self.vertexList:\n",
    "            keep = 0\n",
    "            discard = 1\n",
    "            if indexPair[0].orbitalType == 'a':\n",
    "                pass\n",
    "            elif indexPair[1].orbitalType == 'a':\n",
    "                keep = 1\n",
    "                discard = 0\n",
    "            elif indexPair[0].orbitalType == 'h' or indexPair[0].orbitalType == 'p':\n",
    "                pass\n",
    "            elif indexPair[1].orbitalType == 'h' or indexPair[1].orbitalType == 'p':\n",
    "                keep = 1\n",
    "                discard = 0\n",
    "            else:\n",
    "                pass\n",
    "            if indexPair[keep] not in self.contractedIndicesList:\n",
    "                vertex.upperIndices = [indexPair[keep] if i.name == indexPair[discard].name else i for i in vertex.upperIndices]\n",
    "                vertex.lowerIndices = [indexPair[keep] if i.name == indexPair[discard].name else i for i in vertex.lowerIndices]\n",
    "                self.contractedIndicesList.append(indexPair[keep])\n",
    "#            vertex = self.vertexList[v]\n",
    "#            for i in range(len(vertex.lowerIndices)):\n",
    "#                if vertex.upperIndices[i] is indexPair[1]:\n",
    "#                    self.vertexList[v].upperIndices[i] = indexPair[0]\n",
    "#            for i in range(len(vertex.upperIndices)):\n",
    "#                if vertex.lowerIndices[i] is indexPair[1]:\n",
    "#                    self.vertexList[v].lowerIndices[i] = indexPair[0]\n",
    "        for iType in self.lowerIndices:\n",
    "            for index in self.lowerIndices[iType]:\n",
    "                if index.name == indexPair[0].name:\n",
    "                    self.lowerIndices[iType].remove(index)\n",
    "        for iType in self.upperIndices:\n",
    "            for index in self.upperIndices[iType]:\n",
    "                if index.name == indexPair[1].name:\n",
    "                    self.upperIndices[iType].remove(index)\n",
    "\n",
    "    def applyContractions(self, topology):\n",
    "        for indexPair in topology:\n",
    "            self.contractIndexPair(indexPair)\n",
    "\n",
    "    def followIndexOut(self, ingoingIndex):\n",
    "        found = False\n",
    "        outgoingIndex = ingoingIndex\n",
    "        for vertex in self.vertexList:\n",
    "            for i in range(len(vertex.upperIndices)):\n",
    "                if vertex.upperIndices[i] == ingoingIndex and not found:\n",
    "                    outgoingIndex = vertex.lowerIndices[i]\n",
    "                    found = True\n",
    "                elif vertex.upperIndices[i] == ingoingIndex:\n",
    "                    print(\"Error: index appears more than once\")\n",
    "        return outgoingIndex\n",
    "\n",
    "    def getLoops(self):\n",
    "        loopsList = []\n",
    "        pool = copy.copy(self.contractedIndicesList)\n",
    "        while len(pool) > 0:\n",
    "            loopList = []\n",
    "            start = pool[0]\n",
    "            contraction = 0\n",
    "            while True:\n",
    "                inIndex = pool[contraction]\n",
    "                outIndex = self.followIndexOut(inIndex)\n",
    "                loopList.append(outIndex)\n",
    "                pool.remove(pool[contraction])\n",
    "                if outIndex == start:\n",
    "                    break\n",
    "                for p in range(len(pool)):\n",
    "                    if pool[p] == outIndex:\n",
    "                        contraction = p\n",
    "            loopsList.append(tuple(loopList))\n",
    "        return tuple(loopsList)\n",
    "\n",
    "    def __add__(self, other):\n",
    "        if isinstance(other, ContractedTerm):\n",
    "            return TensorSum([self, other])\n",
    "\n",
    "    def __radd__(self, other):\n",
    "        if other == 0:\n",
    "            return self\n",
    "\n",
    "\n",
    "    def __str__(self):\n",
    "        string = str(self.prefactor) + ' * '\n",
    "        for vertex in self.vertexList:\n",
    "            string += vertex.__str__()\n",
    "        return string"
   ]
  },
  {
   "cell_type": "code",
   "execution_count": 697,
   "metadata": {},
   "outputs": [],
   "source": [
    "fullyContractedTopologies = term.getFullyContractedTopologies()"
   ]
  },
  {
   "cell_type": "code",
   "execution_count": 698,
   "metadata": {},
   "outputs": [],
   "source": [
    "contractedTerm = ContractedTerm(term, fullyContractedTopologies[0])"
   ]
  },
  {
   "cell_type": "code",
   "execution_count": 500,
   "metadata": {},
   "outputs": [
    {
     "output_type": "stream",
     "name": "stdout",
     "text": [
      "p_{0} g_{2}\np_{1} g_{3}\ng_{0} h_{0}\ng_{1} h_{1}\n"
     ]
    }
   ],
   "source": [
    "for pair in fullyContractedTopologies[0]:\n",
    "    print(pair[0], pair[1])"
   ]
  },
  {
   "cell_type": "code",
   "execution_count": 501,
   "metadata": {},
   "outputs": [
    {
     "output_type": "stream",
     "name": "stdout",
     "text": [
      "v_{g_{0}g_{1}}^{g_{2}g_{3}}t_{p_{0}p_{1}}^{h_{0}h_{1}}\n"
     ]
    }
   ],
   "source": [
    "print(term)"
   ]
  },
  {
   "cell_type": "code",
   "execution_count": 699,
   "metadata": {},
   "outputs": [
    {
     "output_type": "stream",
     "name": "stdout",
     "text": [
      "4.0 * v_{h_{0}h_{1}}^{p_{0}p_{1}}t_{p_{0}p_{1}}^{h_{0}h_{1}}\n"
     ]
    }
   ],
   "source": [
    "print(contractedTerm)"
   ]
  },
  {
   "cell_type": "code",
   "execution_count": 703,
   "metadata": {},
   "outputs": [
    {
     "output_type": "execute_result",
     "data": {
      "text/plain": [
       "[<__main__.Index at 0x117b73910>, <__main__.Index at 0x117b73280>]"
      ]
     },
     "metadata": {},
     "execution_count": 703
    }
   ],
   "source": [
    "contractedTerm.vertexList[0].lowerIndices"
   ]
  },
  {
   "cell_type": "code",
   "execution_count": 503,
   "metadata": {},
   "outputs": [],
   "source": [
    "contractedTerm.contractIndexPair(fullyContractedTopologies[0][0])"
   ]
  },
  {
   "cell_type": "code",
   "execution_count": 504,
   "metadata": {},
   "outputs": [
    {
     "output_type": "stream",
     "name": "stdout",
     "text": [
      "4.0 * v_{h_{0}h_{1}}^{p_{0}p_{1}}t_{p_{0}p_{1}}^{h_{0}h_{1}}\n"
     ]
    }
   ],
   "source": [
    "print(contractedTerm)"
   ]
  },
  {
   "cell_type": "code",
   "execution_count": 505,
   "metadata": {},
   "outputs": [],
   "source": [
    "contractedTerms = [ContractedTerm(term, topology) for topology in fullyContractedTopologies]"
   ]
  },
  {
   "cell_type": "code",
   "execution_count": 506,
   "metadata": {},
   "outputs": [
    {
     "output_type": "stream",
     "name": "stdout",
     "text": [
      "4.0 * v_{h_{0}h_{1}}^{p_{0}p_{1}}t_{p_{0}p_{1}}^{h_{0}h_{1}}\n-2.0 * v_{h_{1}h_{0}}^{p_{0}p_{1}}t_{p_{0}p_{1}}^{h_{0}h_{1}}\n-2.0 * v_{h_{0}h_{1}}^{p_{1}p_{0}}t_{p_{0}p_{1}}^{h_{0}h_{1}}\n4.0 * v_{h_{1}h_{0}}^{p_{1}p_{0}}t_{p_{0}p_{1}}^{h_{0}h_{1}}\n"
     ]
    }
   ],
   "source": [
    "for cTerm in contractedTerms:\n",
    "    print(cTerm)"
   ]
  },
  {
   "cell_type": "code",
   "execution_count": 507,
   "metadata": {},
   "outputs": [
    {
     "output_type": "execute_result",
     "data": {
      "text/plain": [
       "{'g': [], 'p': [], 'h': [], 'a': []}"
      ]
     },
     "metadata": {},
     "execution_count": 507
    }
   ],
   "source": [
    "contractedTerm.lowerIndices"
   ]
  },
  {
   "cell_type": "code",
   "execution_count": 508,
   "metadata": {},
   "outputs": [
    {
     "output_type": "execute_result",
     "data": {
      "text/plain": [
       "[<__main__.Index at 0x1171ec2e0>, <__main__.Index at 0x1171ec2b0>]"
      ]
     },
     "metadata": {},
     "execution_count": 508
    }
   ],
   "source": [
    "term.vertexList[0].lowerIndices"
   ]
  },
  {
   "cell_type": "code",
   "execution_count": 509,
   "metadata": {},
   "outputs": [],
   "source": [
    "topologies = []\n",
    "topologies.append([])\n",
    "topologies[0].append(contractiblePairs[0])\n",
    "possiblePairsList = contractiblePairs[1:]"
   ]
  },
  {
   "cell_type": "code",
   "execution_count": 510,
   "metadata": {},
   "outputs": [
    {
     "output_type": "stream",
     "name": "stdout",
     "text": [
      "True\nTrue\nFalse\nFalse\nFalse\nFalse\nFalse\n"
     ]
    }
   ],
   "source": [
    "for p in possiblePairsList:\n",
    "    print(p[0] in topologies[0][0] or p[1] in topologies[0][0])"
   ]
  },
  {
   "cell_type": "code",
   "execution_count": 511,
   "metadata": {},
   "outputs": [],
   "source": [
    "topologies.append([])\n",
    "topologies[1].append(contractiblePairs[1])\n",
    "possiblePairsList = contractiblePairs[2:]"
   ]
  },
  {
   "cell_type": "code",
   "execution_count": 512,
   "metadata": {},
   "outputs": [
    {
     "output_type": "stream",
     "name": "stdout",
     "text": [
      "False\nTrue\nFalse\nFalse\nFalse\nFalse\n"
     ]
    }
   ],
   "source": [
    "for p in possiblePairsList:\n",
    "    print(p[0] in topologies[1][0] or p[1] in topologies[1][0])"
   ]
  },
  {
   "cell_type": "code",
   "execution_count": 513,
   "metadata": {},
   "outputs": [],
   "source": [
    "def getContractionTopologies(contractiblePairsList):\n",
    "    possiblePairsList = contractiblePairsList\n",
    "    "
   ]
  },
  {
   "cell_type": "code",
   "execution_count": 514,
   "metadata": {},
   "outputs": [],
   "source": [
    "contractionTopology = []"
   ]
  },
  {
   "cell_type": "code",
   "execution_count": 515,
   "metadata": {},
   "outputs": [
    {
     "output_type": "stream",
     "name": "stdout",
     "text": [
      "0\n1\n2\n3\n4\n5\n6\n7\n"
     ]
    }
   ],
   "source": [
    "i = 0\n",
    "while i < len(contractiblePairs):\n",
    "    print(i)\n",
    "    alreadyContracted = False\n",
    "    j = 0\n",
    "    while j < len(contractionTopology):\n",
    "        c = contractionTopology[j]\n",
    "        if p[0] in c or p[1] in c:\n",
    "            alreadyContracted = True\n",
    "            j += 1\n",
    "        else:\n",
    "            j += 1\n",
    "    if not alreadyContracted:\n",
    "        contractionTopology.append(contractiblePairs[i])\n",
    "    i += 1"
   ]
  },
  {
   "cell_type": "code",
   "execution_count": 516,
   "metadata": {},
   "outputs": [
    {
     "output_type": "stream",
     "name": "stdout",
     "text": [
      "[(<__main__.Index object at 0x11850c7f0>, <__main__.Index object at 0x1171ecc70>), (<__main__.Index object at 0x11850c7f0>, <__main__.Index object at 0x1171ecac0>), (<__main__.Index object at 0x11850c340>, <__main__.Index object at 0x1171ecc70>), (<__main__.Index object at 0x11850c340>, <__main__.Index object at 0x1171ecac0>), (<__main__.Index object at 0x1171ec2e0>, <__main__.Index object at 0x117237d90>), (<__main__.Index object at 0x1171ec2e0>, <__main__.Index object at 0x117237220>)]\np_{0} g_{2}\n"
     ]
    }
   ],
   "source": [
    "print(contractionTopology)\n",
    "print(contractionTopology[0][0], contractionTopology[0][1])"
   ]
  },
  {
   "cell_type": "code",
   "execution_count": 517,
   "metadata": {},
   "outputs": [
    {
     "output_type": "stream",
     "name": "stdout",
     "text": [
      "v_{gg}^{gg}\n"
     ]
    }
   ],
   "source": [
    "print(v)"
   ]
  },
  {
   "cell_type": "code",
   "execution_count": 518,
   "metadata": {},
   "outputs": [
    {
     "output_type": "stream",
     "name": "stdout",
     "text": [
      "t_{pp}^{hh}\n"
     ]
    }
   ],
   "source": [
    "print(t2)"
   ]
  },
  {
   "cell_type": "code",
   "execution_count": 519,
   "metadata": {},
   "outputs": [],
   "source": [
    "transformFluctuation = TensorProduct([v, t2])"
   ]
  },
  {
   "cell_type": "code",
   "execution_count": 520,
   "metadata": {},
   "outputs": [
    {
     "output_type": "stream",
     "name": "stdout",
     "text": [
      "v_{g_{0}g_{1}}^{g_{2}g_{3}}t_{p_{0}p_{1}}^{h_{0}h_{1}}\n"
     ]
    }
   ],
   "source": [
    "print(transformFluctuation)"
   ]
  },
  {
   "cell_type": "code",
   "execution_count": 521,
   "metadata": {},
   "outputs": [],
   "source": [
    "fullyContractedTransformFluctuation = transformFluctuation.getFullyContractedTopologies()"
   ]
  },
  {
   "cell_type": "code",
   "execution_count": 522,
   "metadata": {},
   "outputs": [
    {
     "output_type": "stream",
     "name": "stdout",
     "text": [
      "[((<__main__.Index object at 0x118554a30>, <__main__.Index object at 0x1185326d0>), (<__main__.Index object at 0x118554ca0>, <__main__.Index object at 0x1185321c0>), (<__main__.Index object at 0x118532670>, <__main__.Index object at 0x1185543a0>), (<__main__.Index object at 0x118532e20>, <__main__.Index object at 0x118554310>)), ((<__main__.Index object at 0x118554a30>, <__main__.Index object at 0x1185326d0>), (<__main__.Index object at 0x118554ca0>, <__main__.Index object at 0x1185321c0>), (<__main__.Index object at 0x118532670>, <__main__.Index object at 0x118554310>), (<__main__.Index object at 0x118532e20>, <__main__.Index object at 0x1185543a0>)), ((<__main__.Index object at 0x118554a30>, <__main__.Index object at 0x1185321c0>), (<__main__.Index object at 0x118554ca0>, <__main__.Index object at 0x1185326d0>), (<__main__.Index object at 0x118532670>, <__main__.Index object at 0x1185543a0>), (<__main__.Index object at 0x118532e20>, <__main__.Index object at 0x118554310>)), ((<__main__.Index object at 0x118554a30>, <__main__.Index object at 0x1185321c0>), (<__main__.Index object at 0x118554ca0>, <__main__.Index object at 0x1185326d0>), (<__main__.Index object at 0x118532670>, <__main__.Index object at 0x118554310>), (<__main__.Index object at 0x118532e20>, <__main__.Index object at 0x1185543a0>))]\n"
     ]
    }
   ],
   "source": [
    "print(fullyContractedTransformFluctuation)"
   ]
  },
  {
   "cell_type": "code",
   "execution_count": 523,
   "metadata": {},
   "outputs": [],
   "source": [
    "energyTerm = TensorProduct([v, t2], 0.5)\n",
    "CCDEnergyTerms = [ContractedTerm(energyTerm, topology) for topology in energyTerm.getFullyContractedTopologies()]"
   ]
  },
  {
   "cell_type": "code",
   "execution_count": 524,
   "metadata": {},
   "outputs": [
    {
     "output_type": "stream",
     "name": "stdout",
     "text": [
      "v_{g_{0}g_{1}}^{g_{2}g_{3}}t_{p_{0}p_{1}}^{h_{0}h_{1}}\n"
     ]
    }
   ],
   "source": [
    "print(energyTerm)"
   ]
  },
  {
   "cell_type": "code",
   "execution_count": 525,
   "metadata": {},
   "outputs": [
    {
     "output_type": "stream",
     "name": "stdout",
     "text": [
      "[<__main__.ContractedTerm object at 0x1189a15e0>, <__main__.ContractedTerm object at 0x117b820a0>, <__main__.ContractedTerm object at 0x117b7a0d0>, <__main__.ContractedTerm object at 0x117b7aa00>]\n"
     ]
    }
   ],
   "source": [
    "print(CCDEnergyTerms)"
   ]
  },
  {
   "cell_type": "code",
   "execution_count": 526,
   "metadata": {},
   "outputs": [
    {
     "output_type": "stream",
     "name": "stdout",
     "text": [
      "2.0 * v_{h_{0}h_{1}}^{p_{0}p_{1}}t_{p_{0}p_{1}}^{h_{0}h_{1}}\n"
     ]
    }
   ],
   "source": [
    "cTerm0 = CCDEnergyTerms[0]\n",
    "print(cTerm0)"
   ]
  },
  {
   "cell_type": "code",
   "execution_count": 527,
   "metadata": {},
   "outputs": [],
   "source": [
    "testIndex = cTerm0.vertexList[0].upperIndices[1]"
   ]
  },
  {
   "cell_type": "code",
   "execution_count": 528,
   "metadata": {},
   "outputs": [
    {
     "output_type": "stream",
     "name": "stdout",
     "text": [
      "p_{1}\n"
     ]
    }
   ],
   "source": [
    "print(testIndex)"
   ]
  },
  {
   "cell_type": "code",
   "execution_count": 529,
   "metadata": {},
   "outputs": [],
   "source": [
    "def followIndexOut(term, ingoingIndex):\n",
    "    found = False\n",
    "    outgoingIndex = ingoingIndex\n",
    "    for vertex in term.vertexList:\n",
    "        for i in range(len(vertex.upperIndices)):\n",
    "            if vertex.upperIndices[i] == ingoingIndex and not found:\n",
    "                outgoingIndex = vertex.lowerIndices[i]\n",
    "                found = True\n",
    "            elif vertex.upperIndices[i] == ingoingIndex:\n",
    "                print(\"Error: index appears more than once\")\n",
    "    return outgoingIndex"
   ]
  },
  {
   "cell_type": "code",
   "execution_count": 530,
   "metadata": {},
   "outputs": [],
   "source": [
    "testedIndex = cTerm0.followIndexOut(testIndex)"
   ]
  },
  {
   "cell_type": "code",
   "execution_count": 531,
   "metadata": {},
   "outputs": [
    {
     "output_type": "stream",
     "name": "stdout",
     "text": [
      "h_{1}\n"
     ]
    }
   ],
   "source": [
    "print(testedIndex)"
   ]
  },
  {
   "cell_type": "code",
   "execution_count": 532,
   "metadata": {},
   "outputs": [
    {
     "output_type": "stream",
     "name": "stdout",
     "text": [
      "h_{0}\n"
     ]
    }
   ],
   "source": [
    "print(cTerm0.vertexList[0].lowerIndices[0])"
   ]
  },
  {
   "cell_type": "code",
   "execution_count": 533,
   "metadata": {},
   "outputs": [
    {
     "output_type": "stream",
     "name": "stdout",
     "text": [
      "((<__main__.Index object at 0x11893ea00>, <__main__.Index object at 0x116ebb1f0>), (<__main__.Index object at 0x11893e2e0>, <__main__.Index object at 0x1186ead60>), (<__main__.Index object at 0x116ebb8b0>, <__main__.Index object at 0x11893e790>), (<__main__.Index object at 0x116ebb7c0>, <__main__.Index object at 0x11893ee50>))\n"
     ]
    }
   ],
   "source": [
    "print(cTerm0.contractionTopology)"
   ]
  },
  {
   "cell_type": "code",
   "execution_count": 534,
   "metadata": {},
   "outputs": [
    {
     "output_type": "execute_result",
     "data": {
      "text/plain": [
       "[(<__main__.Index at 0x11893ea00>, <__main__.Index at 0x116ebb1f0>),\n",
       " (<__main__.Index at 0x11893e2e0>, <__main__.Index at 0x1186ead60>),\n",
       " (<__main__.Index at 0x116ebb8b0>, <__main__.Index at 0x11893e790>),\n",
       " (<__main__.Index at 0x116ebb7c0>, <__main__.Index at 0x11893ee50>)]"
      ]
     },
     "metadata": {},
     "execution_count": 534
    }
   ],
   "source": [
    "list(cTerm0.contractionTopology)"
   ]
  },
  {
   "cell_type": "code",
   "execution_count": 535,
   "metadata": {},
   "outputs": [
    {
     "output_type": "stream",
     "name": "stdout",
     "text": [
      "p_{0}\np_{1}\nh_{0}\nh_{1}\n"
     ]
    }
   ],
   "source": [
    "for i in cTerm0.contractedIndicesList:\n",
    "    print(i)"
   ]
  },
  {
   "cell_type": "code",
   "execution_count": 536,
   "metadata": {},
   "outputs": [
    {
     "output_type": "stream",
     "name": "stdout",
     "text": [
      "p_{0} g_{2}\np_{1} g_{3}\ng_{0} h_{0}\ng_{1} h_{1}\n"
     ]
    }
   ],
   "source": [
    "for p in cTerm0.contractionTopology:\n",
    "    print(p[0], p[1])"
   ]
  },
  {
   "cell_type": "code",
   "execution_count": 537,
   "metadata": {},
   "outputs": [],
   "source": [
    "def getLoops(contractedTerm):\n",
    "    loopsList = []\n",
    "    pool = copy.copy(contractedTerm.contractedIndicesList)\n",
    "    while len(pool) > 0:\n",
    "#    for i in range(10):\n",
    "        loopList = []\n",
    "        start = pool[0]\n",
    "#        print(start)\n",
    "        contraction = 0\n",
    "        while True:\n",
    "#        for i in range(10):\n",
    "            inIndex = pool[contraction]\n",
    "#            print(inIndex)\n",
    "            outIndex = contractedTerm.followIndexOut(inIndex)\n",
    "#            print(contraction)\n",
    "#            print(outIndex)\n",
    "            loopList.append(outIndex)\n",
    "#            print(pool)\n",
    "            pool.remove(pool[contraction])\n",
    "#            print(pool)\n",
    "            if outIndex == start:\n",
    "                break\n",
    "            for p in range(len(pool)):\n",
    "                if pool[p] == outIndex:\n",
    "                    contraction = p\n",
    "        loopsList.append(tuple(loopList))\n",
    "    return tuple(loopsList)"
   ]
  },
  {
   "cell_type": "code",
   "execution_count": 538,
   "metadata": {},
   "outputs": [
    {
     "output_type": "stream",
     "name": "stdout",
     "text": [
      "((<__main__.Index object at 0x11893e790>, <__main__.Index object at 0x11850cac0>), (<__main__.Index object at 0x11893ee50>, <__main__.Index object at 0x116e54d60>))\n"
     ]
    }
   ],
   "source": [
    "print(getLoops(CCDEnergyTerms[3]))"
   ]
  },
  {
   "cell_type": "code",
   "execution_count": 539,
   "metadata": {},
   "outputs": [],
   "source": [
    "CCDEnergyEquation = sum(CCDEnergyTerms)"
   ]
  },
  {
   "cell_type": "code",
   "execution_count": 540,
   "metadata": {},
   "outputs": [
    {
     "output_type": "stream",
     "name": "stdout",
     "text": [
      "None\n"
     ]
    }
   ],
   "source": [
    "print(CCDEnergyEquation)"
   ]
  },
  {
   "cell_type": "code",
   "execution_count": 541,
   "metadata": {},
   "outputs": [
    {
     "output_type": "stream",
     "name": "stdout",
     "text": [
      "2.0 * v_{h_{0}h_{1}}^{p_{0}p_{1}}t_{p_{0}p_{1}}^{h_{0}h_{1}}\n",
      "-1.0 * v_{h_{1}h_{0}}^{p_{0}p_{1}}t_{p_{0}p_{1}}^{h_{0}h_{1}}\n",
      "-1.0 * v_{h_{0}h_{1}}^{p_{1}p_{0}}t_{p_{0}p_{1}}^{h_{0}h_{1}}\n",
      "2.0 * v_{h_{1}h_{0}}^{p_{1}p_{0}}t_{p_{0}p_{1}}^{h_{0}h_{1}}\n"
     ]
    }
   ],
   "source": [
    "for cTerm in CCDEnergyTerms:\n",
    "    print(cTerm)"
   ]
  },
  {
   "cell_type": "code",
   "execution_count": 542,
   "metadata": {},
   "outputs": [],
   "source": [
    "projectedSingleExcitationTensors = []\n",
    "for h in range(Nocc):\n",
    "    for p in range(Nocc, Norbs):\n",
    "        name = \"\\Psi_{\" + str(p) + \"}^{\" + str(h) + \"}\"\n",
    "        projectedSingleExcitationTensors.append(Tensor(name, ['p'], ['h']))\n",
    "        projectedSingleExcitationTensors[-1].array[p-Nocc, h] = 1"
   ]
  },
  {
   "cell_type": "code",
   "execution_count": 543,
   "metadata": {},
   "outputs": [
    {
     "output_type": "execute_result",
     "data": {
      "text/plain": [
       "'\\\\Psi_{1}^{0}'"
      ]
     },
     "metadata": {},
     "execution_count": 543
    }
   ],
   "source": [
    "projectedSingleExcitationTensors[0].name"
   ]
  },
  {
   "cell_type": "code",
   "execution_count": 544,
   "metadata": {},
   "outputs": [],
   "source": [
    "projectedDoubleExcitationTensors = []\n",
    "for h in range(Nocc):\n",
    "    for h2 in range(Nocc):\n",
    "        for p1 in range(Nocc, Norbs):\n",
    "            for p2 in range(Nocc, Norbs):\n",
    "                name = \"\\Psi_{\" + str(p1) + str(p2) + \"}^{\" + str(h) + str(h2) + \"}\"\n",
    "                projectedDoubleExcitationTensors.append(Tensor(name, ['p', 'p'], ['h', 'h']))\n",
    "                projectedDoubleExcitationTensors[-1].array[p1-Nocc, p2-Nocc, h, h2] = 1"
   ]
  },
  {
   "cell_type": "code",
   "execution_count": 545,
   "metadata": {},
   "outputs": [
    {
     "output_type": "execute_result",
     "data": {
      "text/plain": [
       "'\\\\Psi_{11}^{00}'"
      ]
     },
     "metadata": {},
     "execution_count": 545
    }
   ],
   "source": [
    "projectedDoubleExcitationTensors[0].name"
   ]
  },
  {
   "cell_type": "code",
   "execution_count": 546,
   "metadata": {},
   "outputs": [],
   "source": [
    "class TensorSum:\n",
    "    def __init__(self, summandList):\n",
    "        self.summandList = summandList\n",
    "\n",
    "    def __add__(self, other):\n",
    "        if isinstance(other, TensorSum):\n",
    "            return TensorSum(self.summandList + other.summandList)\n",
    "\n",
    "    def __mul__(self, other):\n",
    "        if isinstance(other, Tensor) or isinstance(other, TensorProduct) or isinstance(other, TensorSum) or isinstance(other, Number):\n",
    "            return TensorSum([summand * other for summand in self.summandList])\n",
    "\n",
    "    def __rmul__(self, other):\n",
    "        if isinstance(other, Tensor) or isinstance(other, TensorProduct) or isinstance(other, TensorSum) or isinstance(other, Number):\n",
    "            return TensorSum([other * summand for summand in self.summandList])\n",
    "\n",
    "    def __str__(self):\n",
    "        if len(self.summandList) == 0:\n",
    "            return \"\"\n",
    "        string = self.summandList[0].__str__()\n",
    "        for summand in self.summandList[1:]:\n",
    "            string += \"\\n + \"\n",
    "            string += summand.__str__()\n",
    "        return string"
   ]
  },
  {
   "cell_type": "code",
   "execution_count": 547,
   "metadata": {},
   "outputs": [
    {
     "output_type": "stream",
     "name": "stdout",
     "text": [
      "2.0 * v_{h_{0}h_{1}}^{p_{0}p_{1}}t_{p_{0}p_{1}}^{h_{0}h_{1}}\n + -1.0 * v_{h_{1}h_{0}}^{p_{0}p_{1}}t_{p_{0}p_{1}}^{h_{0}h_{1}}\n + -1.0 * v_{h_{0}h_{1}}^{p_{1}p_{0}}t_{p_{0}p_{1}}^{h_{0}h_{1}}\n + 2.0 * v_{h_{1}h_{0}}^{p_{1}p_{0}}t_{p_{0}p_{1}}^{h_{0}h_{1}}\n"
     ]
    }
   ],
   "source": [
    "print(TensorSum(CCDEnergyTerms))"
   ]
  },
  {
   "cell_type": "code",
   "execution_count": 548,
   "metadata": {},
   "outputs": [
    {
     "output_type": "execute_result",
     "data": {
      "text/plain": [
       "<__main__.TensorProduct at 0x116ec7250>"
      ]
     },
     "metadata": {},
     "execution_count": 548
    }
   ],
   "source": [
    "v * t2"
   ]
  },
  {
   "cell_type": "code",
   "execution_count": 549,
   "metadata": {},
   "outputs": [
    {
     "output_type": "execute_result",
     "data": {
      "text/plain": [
       "<__main__.TensorProduct at 0x1185548e0>"
      ]
     },
     "metadata": {},
     "execution_count": 549
    }
   ],
   "source": [
    "t2 * v"
   ]
  },
  {
   "cell_type": "code",
   "execution_count": 550,
   "metadata": {},
   "outputs": [],
   "source": [
    "projectedSingleExcitationTensor = Tensor(\"\\Phi\", ['p'], ['h'], np.ones((Norbs - Nocc, Nocc)))"
   ]
  },
  {
   "cell_type": "code",
   "execution_count": 551,
   "metadata": {},
   "outputs": [],
   "source": [
    "projectedDoubleExcitationTensor = Tensor(\"\\Phi\", ['h', 'h'], ['p', 'p'], np.ones((Nocc, Nocc, Norbs - Nocc, Norbs - Nocc)))"
   ]
  },
  {
   "cell_type": "code",
   "execution_count": 552,
   "metadata": {},
   "outputs": [],
   "source": [
    "amplitude = projectedDoubleExcitationTensor * v * t2"
   ]
  },
  {
   "cell_type": "code",
   "execution_count": 553,
   "metadata": {},
   "outputs": [
    {
     "output_type": "stream",
     "name": "stdout",
     "text": [
      "\\Phi_{h_{0}h_{1}}^{p_{0}p_{1}}v_{g_{0}g_{1}}^{g_{2}g_{3}}t_{p_{2}p_{3}}^{h_{2}h_{3}}\n"
     ]
    }
   ],
   "source": [
    "print(amplitude)"
   ]
  },
  {
   "cell_type": "code",
   "execution_count": 554,
   "metadata": {
    "tags": []
   },
   "outputs": [
    {
     "output_type": "stream",
     "name": "stdout",
     "text": [
      "g_{0} p_{0}\ng_{1} p_{1}\np_{2} g_{2}\np_{3} g_{3}\nh_{0} h_{2}\nh_{1} h_{3}\n___\ng_{0} p_{0}\ng_{1} p_{1}\np_{2} g_{2}\np_{3} g_{3}\nh_{0} h_{3}\nh_{1} h_{2}\n___\ng_{0} p_{0}\ng_{1} p_{1}\np_{2} g_{3}\np_{3} g_{2}\nh_{0} h_{2}\nh_{1} h_{3}\n___\ng_{0} p_{0}\ng_{1} p_{1}\np_{2} g_{3}\np_{3} g_{2}\nh_{0} h_{3}\nh_{1} h_{2}\n___\ng_{0} p_{0}\np_{2} p_{1}\np_{3} g_{2}\nh_{0} g_{3}\nh_{1} h_{2}\ng_{1} h_{3}\n___\ng_{0} p_{0}\np_{2} p_{1}\np_{3} g_{2}\nh_{0} g_{3}\nh_{1} h_{3}\ng_{1} h_{2}\n___\ng_{0} p_{0}\np_{2} p_{1}\np_{3} g_{2}\nh_{1} g_{3}\nh_{0} h_{2}\ng_{1} h_{3}\n___\ng_{0} p_{0}\np_{2} p_{1}\np_{3} g_{2}\nh_{1} g_{3}\nh_{0} h_{3}\ng_{1} h_{2}\n___\ng_{0} p_{0}\np_{2} p_{1}\np_{3} g_{3}\nh_{0} g_{2}\nh_{1} h_{2}\ng_{1} h_{3}\n___\ng_{0} p_{0}\np_{2} p_{1}\np_{3} g_{3}\nh_{0} g_{2}\nh_{1} h_{3}\ng_{1} h_{2}\n___\ng_{0} p_{0}\np_{2} p_{1}\np_{3} g_{3}\nh_{1} g_{2}\nh_{0} h_{2}\ng_{1} h_{3}\n___\ng_{0} p_{0}\np_{2} p_{1}\np_{3} g_{3}\nh_{1} g_{2}\nh_{0} h_{3}\ng_{1} h_{2}\n___\ng_{0} p_{0}\np_{3} p_{1}\np_{2} g_{2}\nh_{0} g_{3}\nh_{1} h_{2}\ng_{1} h_{3}\n___\ng_{0} p_{0}\np_{3} p_{1}\np_{2} g_{2}\nh_{0} g_{3}\nh_{1} h_{3}\ng_{1} h_{2}\n___\ng_{0} p_{0}\np_{3} p_{1}\np_{2} g_{2}\nh_{1} g_{3}\nh_{0} h_{2}\ng_{1} h_{3}\n___\ng_{0} p_{0}\np_{3} p_{1}\np_{2} g_{2}\nh_{1} g_{3}\nh_{0} h_{3}\ng_{1} h_{2}\n___\ng_{0} p_{0}\np_{3} p_{1}\np_{2} g_{3}\nh_{0} g_{2}\nh_{1} h_{2}\ng_{1} h_{3}\n___\ng_{0} p_{0}\np_{3} p_{1}\np_{2} g_{3}\nh_{0} g_{2}\nh_{1} h_{3}\ng_{1} h_{2}\n___\ng_{0} p_{0}\np_{3} p_{1}\np_{2} g_{3}\nh_{1} g_{2}\nh_{0} h_{2}\ng_{1} h_{3}\n___\ng_{0} p_{0}\np_{3} p_{1}\np_{2} g_{3}\nh_{1} g_{2}\nh_{0} h_{3}\ng_{1} h_{2}\n___\ng_{0} p_{1}\ng_{1} p_{0}\np_{2} g_{2}\np_{3} g_{3}\nh_{0} h_{2}\nh_{1} h_{3}\n___\ng_{0} p_{1}\ng_{1} p_{0}\np_{2} g_{2}\np_{3} g_{3}\nh_{0} h_{3}\nh_{1} h_{2}\n___\ng_{0} p_{1}\ng_{1} p_{0}\np_{2} g_{3}\np_{3} g_{2}\nh_{0} h_{2}\nh_{1} h_{3}\n___\ng_{0} p_{1}\ng_{1} p_{0}\np_{2} g_{3}\np_{3} g_{2}\nh_{0} h_{3}\nh_{1} h_{2}\n___\ng_{0} p_{1}\np_{2} p_{0}\np_{3} g_{2}\nh_{0} g_{3}\nh_{1} h_{2}\ng_{1} h_{3}\n___\ng_{0} p_{1}\np_{2} p_{0}\np_{3} g_{2}\nh_{0} g_{3}\nh_{1} h_{3}\ng_{1} h_{2}\n___\ng_{0} p_{1}\np_{2} p_{0}\np_{3} g_{2}\nh_{1} g_{3}\nh_{0} h_{2}\ng_{1} h_{3}\n___\ng_{0} p_{1}\np_{2} p_{0}\np_{3} g_{2}\nh_{1} g_{3}\nh_{0} h_{3}\ng_{1} h_{2}\n___\ng_{0} p_{1}\np_{2} p_{0}\np_{3} g_{3}\nh_{0} g_{2}\nh_{1} h_{2}\ng_{1} h_{3}\n___\ng_{0} p_{1}\np_{2} p_{0}\np_{3} g_{3}\nh_{0} g_{2}\nh_{1} h_{3}\ng_{1} h_{2}\n___\ng_{0} p_{1}\np_{2} p_{0}\np_{3} g_{3}\nh_{1} g_{2}\nh_{0} h_{2}\ng_{1} h_{3}\n___\ng_{0} p_{1}\np_{2} p_{0}\np_{3} g_{3}\nh_{1} g_{2}\nh_{0} h_{3}\ng_{1} h_{2}\n___\ng_{0} p_{1}\np_{3} p_{0}\np_{2} g_{2}\nh_{0} g_{3}\nh_{1} h_{2}\ng_{1} h_{3}\n___\ng_{0} p_{1}\np_{3} p_{0}\np_{2} g_{2}\nh_{0} g_{3}\nh_{1} h_{3}\ng_{1} h_{2}\n___\ng_{0} p_{1}\np_{3} p_{0}\np_{2} g_{2}\nh_{1} g_{3}\nh_{0} h_{2}\ng_{1} h_{3}\n___\ng_{0} p_{1}\np_{3} p_{0}\np_{2} g_{2}\nh_{1} g_{3}\nh_{0} h_{3}\ng_{1} h_{2}\n___\ng_{0} p_{1}\np_{3} p_{0}\np_{2} g_{3}\nh_{0} g_{2}\nh_{1} h_{2}\ng_{1} h_{3}\n___\ng_{0} p_{1}\np_{3} p_{0}\np_{2} g_{3}\nh_{0} g_{2}\nh_{1} h_{3}\ng_{1} h_{2}\n___\ng_{0} p_{1}\np_{3} p_{0}\np_{2} g_{3}\nh_{1} g_{2}\nh_{0} h_{2}\ng_{1} h_{3}\n___\ng_{0} p_{1}\np_{3} p_{0}\np_{2} g_{3}\nh_{1} g_{2}\nh_{0} h_{3}\ng_{1} h_{2}\n___\ng_{1} p_{0}\np_{2} p_{1}\np_{3} g_{2}\nh_{0} g_{3}\nh_{1} h_{2}\ng_{0} h_{3}\n___\ng_{1} p_{0}\np_{2} p_{1}\np_{3} g_{2}\nh_{0} g_{3}\nh_{1} h_{3}\ng_{0} h_{2}\n___\ng_{1} p_{0}\np_{2} p_{1}\np_{3} g_{2}\nh_{1} g_{3}\nh_{0} h_{2}\ng_{0} h_{3}\n___\ng_{1} p_{0}\np_{2} p_{1}\np_{3} g_{2}\nh_{1} g_{3}\nh_{0} h_{3}\ng_{0} h_{2}\n___\ng_{1} p_{0}\np_{2} p_{1}\np_{3} g_{3}\nh_{0} g_{2}\nh_{1} h_{2}\ng_{0} h_{3}\n___\ng_{1} p_{0}\np_{2} p_{1}\np_{3} g_{3}\nh_{0} g_{2}\nh_{1} h_{3}\ng_{0} h_{2}\n___\ng_{1} p_{0}\np_{2} p_{1}\np_{3} g_{3}\nh_{1} g_{2}\nh_{0} h_{2}\ng_{0} h_{3}\n___\ng_{1} p_{0}\np_{2} p_{1}\np_{3} g_{3}\nh_{1} g_{2}\nh_{0} h_{3}\ng_{0} h_{2}\n___\ng_{1} p_{0}\np_{3} p_{1}\np_{2} g_{2}\nh_{0} g_{3}\nh_{1} h_{2}\ng_{0} h_{3}\n___\ng_{1} p_{0}\np_{3} p_{1}\np_{2} g_{2}\nh_{0} g_{3}\nh_{1} h_{3}\ng_{0} h_{2}\n___\ng_{1} p_{0}\np_{3} p_{1}\np_{2} g_{2}\nh_{1} g_{3}\nh_{0} h_{2}\ng_{0} h_{3}\n___\ng_{1} p_{0}\np_{3} p_{1}\np_{2} g_{2}\nh_{1} g_{3}\nh_{0} h_{3}\ng_{0} h_{2}\n___\ng_{1} p_{0}\np_{3} p_{1}\np_{2} g_{3}\nh_{0} g_{2}\nh_{1} h_{2}\ng_{0} h_{3}\n___\ng_{1} p_{0}\np_{3} p_{1}\np_{2} g_{3}\nh_{0} g_{2}\nh_{1} h_{3}\ng_{0} h_{2}\n___\ng_{1} p_{0}\np_{3} p_{1}\np_{2} g_{3}\nh_{1} g_{2}\nh_{0} h_{2}\ng_{0} h_{3}\n___\ng_{1} p_{0}\np_{3} p_{1}\np_{2} g_{3}\nh_{1} g_{2}\nh_{0} h_{3}\ng_{0} h_{2}\n___\ng_{1} p_{1}\np_{2} p_{0}\np_{3} g_{2}\nh_{0} g_{3}\nh_{1} h_{2}\ng_{0} h_{3}\n___\ng_{1} p_{1}\np_{2} p_{0}\np_{3} g_{2}\nh_{0} g_{3}\nh_{1} h_{3}\ng_{0} h_{2}\n___\ng_{1} p_{1}\np_{2} p_{0}\np_{3} g_{2}\nh_{1} g_{3}\nh_{0} h_{2}\ng_{0} h_{3}\n___\ng_{1} p_{1}\np_{2} p_{0}\np_{3} g_{2}\nh_{1} g_{3}\nh_{0} h_{3}\ng_{0} h_{2}\n___\ng_{1} p_{1}\np_{2} p_{0}\np_{3} g_{3}\nh_{0} g_{2}\nh_{1} h_{2}\ng_{0} h_{3}\n___\ng_{1} p_{1}\np_{2} p_{0}\np_{3} g_{3}\nh_{0} g_{2}\nh_{1} h_{3}\ng_{0} h_{2}\n___\ng_{1} p_{1}\np_{2} p_{0}\np_{3} g_{3}\nh_{1} g_{2}\nh_{0} h_{2}\ng_{0} h_{3}\n___\ng_{1} p_{1}\np_{2} p_{0}\np_{3} g_{3}\nh_{1} g_{2}\nh_{0} h_{3}\ng_{0} h_{2}\n___\ng_{1} p_{1}\np_{3} p_{0}\np_{2} g_{2}\nh_{0} g_{3}\nh_{1} h_{2}\ng_{0} h_{3}\n___\ng_{1} p_{1}\np_{3} p_{0}\np_{2} g_{2}\nh_{0} g_{3}\nh_{1} h_{3}\ng_{0} h_{2}\n___\ng_{1} p_{1}\np_{3} p_{0}\np_{2} g_{2}\nh_{1} g_{3}\nh_{0} h_{2}\ng_{0} h_{3}\n___\ng_{1} p_{1}\np_{3} p_{0}\np_{2} g_{2}\nh_{1} g_{3}\nh_{0} h_{3}\ng_{0} h_{2}\n___\ng_{1} p_{1}\np_{3} p_{0}\np_{2} g_{3}\nh_{0} g_{2}\nh_{1} h_{2}\ng_{0} h_{3}\n___\ng_{1} p_{1}\np_{3} p_{0}\np_{2} g_{3}\nh_{0} g_{2}\nh_{1} h_{3}\ng_{0} h_{2}\n___\ng_{1} p_{1}\np_{3} p_{0}\np_{2} g_{3}\nh_{1} g_{2}\nh_{0} h_{2}\ng_{0} h_{3}\n___\ng_{1} p_{1}\np_{3} p_{0}\np_{2} g_{3}\nh_{1} g_{2}\nh_{0} h_{3}\ng_{0} h_{2}\n___\np_{2} p_{0}\np_{3} p_{1}\nh_{0} g_{2}\nh_{1} g_{3}\ng_{0} h_{2}\ng_{1} h_{3}\n___\np_{2} p_{0}\np_{3} p_{1}\nh_{0} g_{2}\nh_{1} g_{3}\ng_{0} h_{3}\ng_{1} h_{2}\n___\np_{2} p_{0}\np_{3} p_{1}\nh_{0} g_{3}\nh_{1} g_{2}\ng_{0} h_{2}\ng_{1} h_{3}\n___\np_{2} p_{0}\np_{3} p_{1}\nh_{0} g_{3}\nh_{1} g_{2}\ng_{0} h_{3}\ng_{1} h_{2}\n___\np_{2} p_{1}\np_{3} p_{0}\nh_{0} g_{2}\nh_{1} g_{3}\ng_{0} h_{2}\ng_{1} h_{3}\n___\np_{2} p_{1}\np_{3} p_{0}\nh_{0} g_{2}\nh_{1} g_{3}\ng_{0} h_{3}\ng_{1} h_{2}\n___\np_{2} p_{1}\np_{3} p_{0}\nh_{0} g_{3}\nh_{1} g_{2}\ng_{0} h_{2}\ng_{1} h_{3}\n___\np_{2} p_{1}\np_{3} p_{0}\nh_{0} g_{3}\nh_{1} g_{2}\ng_{0} h_{3}\ng_{1} h_{2}\n___\n"
     ]
    }
   ],
   "source": [
    "for top in amplitude.getFullyContractedTopologies():\n",
    "    for pair in top:\n",
    "        print(pair[0], pair[1])\n",
    "    print(\"___\")"
   ]
  },
  {
   "cell_type": "code",
   "execution_count": 555,
   "metadata": {},
   "outputs": [],
   "source": [
    "hamiltonianTensorSum = f + v"
   ]
  },
  {
   "cell_type": "code",
   "execution_count": 556,
   "metadata": {},
   "outputs": [
    {
     "output_type": "stream",
     "name": "stdout",
     "text": [
      "f_{g_{0}}^{g_{1}}\n + v_{g_{0}g_{1}}^{g_{2}g_{3}}\n"
     ]
    }
   ],
   "source": [
    "print(hamiltonianTensorSum)"
   ]
  },
  {
   "cell_type": "code",
   "execution_count": 557,
   "metadata": {},
   "outputs": [
    {
     "output_type": "execute_result",
     "data": {
      "text/plain": [
       "<__main__.TensorProduct at 0x116ebb670>"
      ]
     },
     "metadata": {},
     "execution_count": 557
    }
   ],
   "source": [
    "v * t2"
   ]
  },
  {
   "cell_type": "code",
   "execution_count": 558,
   "metadata": {
    "tags": []
   },
   "outputs": [
    {
     "output_type": "stream",
     "name": "stdout",
     "text": [
      "4.0 * v_{h_{0}h_{1}}^{p_{0}p_{1}}t_{p_{0}p_{1}}^{h_{0}h_{1}}\n-2.0 * v_{h_{1}h_{0}}^{p_{0}p_{1}}t_{p_{0}p_{1}}^{h_{0}h_{1}}\n-2.0 * v_{h_{0}h_{1}}^{p_{1}p_{0}}t_{p_{0}p_{1}}^{h_{0}h_{1}}\n4.0 * v_{h_{1}h_{0}}^{p_{1}p_{0}}t_{p_{0}p_{1}}^{h_{0}h_{1}}\n"
     ]
    }
   ],
   "source": [
    "for tensor in hamiltonianTensorSum.summandList:\n",
    "    energy = tensor * t2\n",
    "    for top in energy.getFullyContractedTopologies():\n",
    "        print(ContractedTerm(energy, top))"
   ]
  },
  {
   "cell_type": "code",
   "execution_count": 559,
   "metadata": {
    "tags": []
   },
   "outputs": [],
   "source": [
    "for tensor in hamiltonianTensorSum.summandList:\n",
    "    partiallyContracted = tensor * t2\n",
    "    for top in partiallyContracted.getTopologiesLeavingFreeIndices(['p', 'p'], ['h', 'h']):\n",
    "        print(ContractedTerm(partiallyContracted, top))"
   ]
  },
  {
   "cell_type": "code",
   "execution_count": 560,
   "metadata": {},
   "outputs": [
    {
     "output_type": "execute_result",
     "data": {
      "text/plain": [
       "['h', 'h']"
      ]
     },
     "metadata": {},
     "execution_count": 560
    }
   ],
   "source": [
    "projectedDoubleExcitationTensor.lowerIndexTypes"
   ]
  },
  {
   "cell_type": "code",
   "execution_count": 561,
   "metadata": {},
   "outputs": [],
   "source": [
    "def commutator(operator1, operator2):\n",
    "    return operator1 * operator2 + (-1) * (operator2 * operator1)"
   ]
  },
  {
   "cell_type": "code",
   "execution_count": 562,
   "metadata": {},
   "outputs": [],
   "source": [
    "def BCHSimilarityTransform(H, T, order):\n",
    "    result = H\n",
    "    for k in range(order):\n",
    "        nestedCommutator = H\n",
    "        for i in range(k + 1):\n",
    "            nestedCommutator = commutator(nestedCommutator, T)\n",
    "        result += (1 / factorial(k + 1)) * nestedCommutator\n",
    "    return result"
   ]
  },
  {
   "cell_type": "code",
   "execution_count": 563,
   "metadata": {},
   "outputs": [],
   "source": [
    "CCDEnergyEquation = BCHSimilarityTransform(hamiltonianTensorSum, t2, 4)"
   ]
  },
  {
   "cell_type": "code",
   "execution_count": 564,
   "metadata": {},
   "outputs": [
    {
     "output_type": "execute_result",
     "data": {
      "text/plain": [
       "<__main__.TensorSum at 0x11826ae20>"
      ]
     },
     "metadata": {},
     "execution_count": 564
    }
   ],
   "source": [
    "t2 * hamiltonianTensorSum"
   ]
  },
  {
   "cell_type": "code",
   "execution_count": 565,
   "metadata": {},
   "outputs": [
    {
     "output_type": "execute_result",
     "data": {
      "text/plain": [
       "<__main__.Tensor at 0x11721a130>"
      ]
     },
     "metadata": {},
     "execution_count": 565
    }
   ],
   "source": [
    "t2"
   ]
  },
  {
   "cell_type": "code",
   "execution_count": 566,
   "metadata": {},
   "outputs": [
    {
     "output_type": "stream",
     "name": "stdout",
     "text": [
      "t_{p_{0}p_{1}}^{h_{0}h_{1}}v_{g_{0}g_{1}}^{g_{2}g_{3}}\n"
     ]
    }
   ],
   "source": [
    "print(t2 * hamiltonianTensorSum.summandList[1])"
   ]
  },
  {
   "cell_type": "code",
   "execution_count": 567,
   "metadata": {},
   "outputs": [
    {
     "output_type": "execute_result",
     "data": {
      "text/plain": [
       "<__main__.Tensor at 0x11721a130>"
      ]
     },
     "metadata": {},
     "execution_count": 567
    }
   ],
   "source": [
    "t2"
   ]
  },
  {
   "cell_type": "code",
   "execution_count": 568,
   "metadata": {},
   "outputs": [
    {
     "output_type": "stream",
     "name": "stdout",
     "text": [
      "f_{g_{0}}^{g_{1}}\n + v_{g_{0}g_{1}}^{g_{2}g_{3}}\n + f_{g_{0}}^{g_{1}}t_{p_{0}p_{1}}^{h_{0}h_{1}}\n + v_{g_{0}g_{1}}^{g_{2}g_{3}}t_{p_{0}p_{1}}^{h_{0}h_{1}}\n + t_{p_{0}p_{1}}^{h_{0}h_{1}}f_{g_{0}}^{g_{1}}\n + t_{p_{0}p_{1}}^{h_{0}h_{1}}v_{g_{0}g_{1}}^{g_{2}g_{3}}\n + f_{g_{0}}^{g_{1}}t_{p_{0}p_{1}}^{h_{0}h_{1}}t_{p_{2}p_{3}}^{h_{2}h_{3}}\n + v_{g_{0}g_{1}}^{g_{2}g_{3}}t_{p_{0}p_{1}}^{h_{0}h_{1}}t_{p_{2}p_{3}}^{h_{2}h_{3}}\n + t_{p_{0}p_{1}}^{h_{0}h_{1}}f_{g_{0}}^{g_{1}}t_{p_{2}p_{3}}^{h_{2}h_{3}}\n + t_{p_{0}p_{1}}^{h_{0}h_{1}}v_{g_{0}g_{1}}^{g_{2}g_{3}}t_{p_{2}p_{3}}^{h_{2}h_{3}}\n + t_{p_{0}p_{1}}^{h_{0}h_{1}}f_{g_{0}}^{g_{1}}t_{p_{2}p_{3}}^{h_{2}h_{3}}\n + t_{p_{0}p_{1}}^{h_{0}h_{1}}v_{g_{0}g_{1}}^{g_{2}g_{3}}t_{p_{2}p_{3}}^{h_{2}h_{3}}\n + t_{p_{0}p_{1}}^{h_{0}h_{1}}t_{p_{2}p_{3}}^{h_{2}h_{3}}f_{g_{0}}^{g_{1}}\n + t_{p_{0}p_{1}}^{h_{0}h_{1}}t_{p_{2}p_{3}}^{h_{2}h_{3}}v_{g_{0}g_{1}}^{g_{2}g_{3}}\n + f_{g_{0}}^{g_{1}}t_{p_{0}p_{1}}^{h_{0}h_{1}}t_{p_{2}p_{3}}^{h_{2}h_{3}}t_{p_{4}p_{5}}^{h_{4}h_{5}}\n + v_{g_{0}g_{1}}^{g_{2}g_{3}}t_{p_{0}p_{1}}^{h_{0}h_{1}}t_{p_{2}p_{3}}^{h_{2}h_{3}}t_{p_{4}p_{5}}^{h_{4}h_{5}}\n + t_{p_{0}p_{1}}^{h_{0}h_{1}}f_{g_{0}}^{g_{1}}t_{p_{2}p_{3}}^{h_{2}h_{3}}t_{p_{4}p_{5}}^{h_{4}h_{5}}\n + t_{p_{0}p_{1}}^{h_{0}h_{1}}v_{g_{0}g_{1}}^{g_{2}g_{3}}t_{p_{2}p_{3}}^{h_{2}h_{3}}t_{p_{4}p_{5}}^{h_{4}h_{5}}\n + t_{p_{0}p_{1}}^{h_{0}h_{1}}f_{g_{0}}^{g_{1}}t_{p_{2}p_{3}}^{h_{2}h_{3}}t_{p_{4}p_{5}}^{h_{4}h_{5}}\n + t_{p_{0}p_{1}}^{h_{0}h_{1}}v_{g_{0}g_{1}}^{g_{2}g_{3}}t_{p_{2}p_{3}}^{h_{2}h_{3}}t_{p_{4}p_{5}}^{h_{4}h_{5}}\n + t_{p_{0}p_{1}}^{h_{0}h_{1}}t_{p_{2}p_{3}}^{h_{2}h_{3}}f_{g_{0}}^{g_{1}}t_{p_{4}p_{5}}^{h_{4}h_{5}}\n + t_{p_{0}p_{1}}^{h_{0}h_{1}}t_{p_{2}p_{3}}^{h_{2}h_{3}}v_{g_{0}g_{1}}^{g_{2}g_{3}}t_{p_{4}p_{5}}^{h_{4}h_{5}}\n + t_{p_{0}p_{1}}^{h_{0}h_{1}}f_{g_{0}}^{g_{1}}t_{p_{2}p_{3}}^{h_{2}h_{3}}t_{p_{4}p_{5}}^{h_{4}h_{5}}\n + t_{p_{0}p_{1}}^{h_{0}h_{1}}v_{g_{0}g_{1}}^{g_{2}g_{3}}t_{p_{2}p_{3}}^{h_{2}h_{3}}t_{p_{4}p_{5}}^{h_{4}h_{5}}\n + t_{p_{0}p_{1}}^{h_{0}h_{1}}t_{p_{2}p_{3}}^{h_{2}h_{3}}f_{g_{0}}^{g_{1}}t_{p_{4}p_{5}}^{h_{4}h_{5}}\n + t_{p_{0}p_{1}}^{h_{0}h_{1}}t_{p_{2}p_{3}}^{h_{2}h_{3}}v_{g_{0}g_{1}}^{g_{2}g_{3}}t_{p_{4}p_{5}}^{h_{4}h_{5}}\n + t_{p_{0}p_{1}}^{h_{0}h_{1}}t_{p_{2}p_{3}}^{h_{2}h_{3}}f_{g_{0}}^{g_{1}}t_{p_{4}p_{5}}^{h_{4}h_{5}}\n + t_{p_{0}p_{1}}^{h_{0}h_{1}}t_{p_{2}p_{3}}^{h_{2}h_{3}}v_{g_{0}g_{1}}^{g_{2}g_{3}}t_{p_{4}p_{5}}^{h_{4}h_{5}}\n + t_{p_{0}p_{1}}^{h_{0}h_{1}}t_{p_{2}p_{3}}^{h_{2}h_{3}}t_{p_{4}p_{5}}^{h_{4}h_{5}}f_{g_{0}}^{g_{1}}\n + t_{p_{0}p_{1}}^{h_{0}h_{1}}t_{p_{2}p_{3}}^{h_{2}h_{3}}t_{p_{4}p_{5}}^{h_{4}h_{5}}v_{g_{0}g_{1}}^{g_{2}g_{3}}\n + f_{g_{0}}^{g_{1}}t_{p_{0}p_{1}}^{h_{0}h_{1}}t_{p_{2}p_{3}}^{h_{2}h_{3}}t_{p_{4}p_{5}}^{h_{4}h_{5}}t_{p_{6}p_{7}}^{h_{6}h_{7}}\n + v_{g_{0}g_{1}}^{g_{2}g_{3}}t_{p_{0}p_{1}}^{h_{0}h_{1}}t_{p_{2}p_{3}}^{h_{2}h_{3}}t_{p_{4}p_{5}}^{h_{4}h_{5}}t_{p_{6}p_{7}}^{h_{6}h_{7}}\n + t_{p_{0}p_{1}}^{h_{0}h_{1}}f_{g_{0}}^{g_{1}}t_{p_{2}p_{3}}^{h_{2}h_{3}}t_{p_{4}p_{5}}^{h_{4}h_{5}}t_{p_{6}p_{7}}^{h_{6}h_{7}}\n + t_{p_{0}p_{1}}^{h_{0}h_{1}}v_{g_{0}g_{1}}^{g_{2}g_{3}}t_{p_{2}p_{3}}^{h_{2}h_{3}}t_{p_{4}p_{5}}^{h_{4}h_{5}}t_{p_{6}p_{7}}^{h_{6}h_{7}}\n + t_{p_{0}p_{1}}^{h_{0}h_{1}}f_{g_{0}}^{g_{1}}t_{p_{2}p_{3}}^{h_{2}h_{3}}t_{p_{4}p_{5}}^{h_{4}h_{5}}t_{p_{6}p_{7}}^{h_{6}h_{7}}\n + t_{p_{0}p_{1}}^{h_{0}h_{1}}v_{g_{0}g_{1}}^{g_{2}g_{3}}t_{p_{2}p_{3}}^{h_{2}h_{3}}t_{p_{4}p_{5}}^{h_{4}h_{5}}t_{p_{6}p_{7}}^{h_{6}h_{7}}\n + t_{p_{0}p_{1}}^{h_{0}h_{1}}t_{p_{2}p_{3}}^{h_{2}h_{3}}f_{g_{0}}^{g_{1}}t_{p_{4}p_{5}}^{h_{4}h_{5}}t_{p_{6}p_{7}}^{h_{6}h_{7}}\n + t_{p_{0}p_{1}}^{h_{0}h_{1}}t_{p_{2}p_{3}}^{h_{2}h_{3}}v_{g_{0}g_{1}}^{g_{2}g_{3}}t_{p_{4}p_{5}}^{h_{4}h_{5}}t_{p_{6}p_{7}}^{h_{6}h_{7}}\n + t_{p_{0}p_{1}}^{h_{0}h_{1}}f_{g_{0}}^{g_{1}}t_{p_{2}p_{3}}^{h_{2}h_{3}}t_{p_{4}p_{5}}^{h_{4}h_{5}}t_{p_{6}p_{7}}^{h_{6}h_{7}}\n + t_{p_{0}p_{1}}^{h_{0}h_{1}}v_{g_{0}g_{1}}^{g_{2}g_{3}}t_{p_{2}p_{3}}^{h_{2}h_{3}}t_{p_{4}p_{5}}^{h_{4}h_{5}}t_{p_{6}p_{7}}^{h_{6}h_{7}}\n + t_{p_{0}p_{1}}^{h_{0}h_{1}}t_{p_{2}p_{3}}^{h_{2}h_{3}}f_{g_{0}}^{g_{1}}t_{p_{4}p_{5}}^{h_{4}h_{5}}t_{p_{6}p_{7}}^{h_{6}h_{7}}\n + t_{p_{0}p_{1}}^{h_{0}h_{1}}t_{p_{2}p_{3}}^{h_{2}h_{3}}v_{g_{0}g_{1}}^{g_{2}g_{3}}t_{p_{4}p_{5}}^{h_{4}h_{5}}t_{p_{6}p_{7}}^{h_{6}h_{7}}\n + t_{p_{0}p_{1}}^{h_{0}h_{1}}t_{p_{2}p_{3}}^{h_{2}h_{3}}f_{g_{0}}^{g_{1}}t_{p_{4}p_{5}}^{h_{4}h_{5}}t_{p_{6}p_{7}}^{h_{6}h_{7}}\n + t_{p_{0}p_{1}}^{h_{0}h_{1}}t_{p_{2}p_{3}}^{h_{2}h_{3}}v_{g_{0}g_{1}}^{g_{2}g_{3}}t_{p_{4}p_{5}}^{h_{4}h_{5}}t_{p_{6}p_{7}}^{h_{6}h_{7}}\n + t_{p_{0}p_{1}}^{h_{0}h_{1}}t_{p_{2}p_{3}}^{h_{2}h_{3}}t_{p_{4}p_{5}}^{h_{4}h_{5}}f_{g_{0}}^{g_{1}}t_{p_{6}p_{7}}^{h_{6}h_{7}}\n + t_{p_{0}p_{1}}^{h_{0}h_{1}}t_{p_{2}p_{3}}^{h_{2}h_{3}}t_{p_{4}p_{5}}^{h_{4}h_{5}}v_{g_{0}g_{1}}^{g_{2}g_{3}}t_{p_{6}p_{7}}^{h_{6}h_{7}}\n + t_{p_{0}p_{1}}^{h_{0}h_{1}}f_{g_{0}}^{g_{1}}t_{p_{2}p_{3}}^{h_{2}h_{3}}t_{p_{4}p_{5}}^{h_{4}h_{5}}t_{p_{6}p_{7}}^{h_{6}h_{7}}\n + t_{p_{0}p_{1}}^{h_{0}h_{1}}v_{g_{0}g_{1}}^{g_{2}g_{3}}t_{p_{2}p_{3}}^{h_{2}h_{3}}t_{p_{4}p_{5}}^{h_{4}h_{5}}t_{p_{6}p_{7}}^{h_{6}h_{7}}\n + t_{p_{0}p_{1}}^{h_{0}h_{1}}t_{p_{2}p_{3}}^{h_{2}h_{3}}f_{g_{0}}^{g_{1}}t_{p_{4}p_{5}}^{h_{4}h_{5}}t_{p_{6}p_{7}}^{h_{6}h_{7}}\n + t_{p_{0}p_{1}}^{h_{0}h_{1}}t_{p_{2}p_{3}}^{h_{2}h_{3}}v_{g_{0}g_{1}}^{g_{2}g_{3}}t_{p_{4}p_{5}}^{h_{4}h_{5}}t_{p_{6}p_{7}}^{h_{6}h_{7}}\n + t_{p_{0}p_{1}}^{h_{0}h_{1}}t_{p_{2}p_{3}}^{h_{2}h_{3}}f_{g_{0}}^{g_{1}}t_{p_{4}p_{5}}^{h_{4}h_{5}}t_{p_{6}p_{7}}^{h_{6}h_{7}}\n + t_{p_{0}p_{1}}^{h_{0}h_{1}}t_{p_{2}p_{3}}^{h_{2}h_{3}}v_{g_{0}g_{1}}^{g_{2}g_{3}}t_{p_{4}p_{5}}^{h_{4}h_{5}}t_{p_{6}p_{7}}^{h_{6}h_{7}}\n + t_{p_{0}p_{1}}^{h_{0}h_{1}}t_{p_{2}p_{3}}^{h_{2}h_{3}}t_{p_{4}p_{5}}^{h_{4}h_{5}}f_{g_{0}}^{g_{1}}t_{p_{6}p_{7}}^{h_{6}h_{7}}\n + t_{p_{0}p_{1}}^{h_{0}h_{1}}t_{p_{2}p_{3}}^{h_{2}h_{3}}t_{p_{4}p_{5}}^{h_{4}h_{5}}v_{g_{0}g_{1}}^{g_{2}g_{3}}t_{p_{6}p_{7}}^{h_{6}h_{7}}\n + t_{p_{0}p_{1}}^{h_{0}h_{1}}t_{p_{2}p_{3}}^{h_{2}h_{3}}f_{g_{0}}^{g_{1}}t_{p_{4}p_{5}}^{h_{4}h_{5}}t_{p_{6}p_{7}}^{h_{6}h_{7}}\n + t_{p_{0}p_{1}}^{h_{0}h_{1}}t_{p_{2}p_{3}}^{h_{2}h_{3}}v_{g_{0}g_{1}}^{g_{2}g_{3}}t_{p_{4}p_{5}}^{h_{4}h_{5}}t_{p_{6}p_{7}}^{h_{6}h_{7}}\n + t_{p_{0}p_{1}}^{h_{0}h_{1}}t_{p_{2}p_{3}}^{h_{2}h_{3}}t_{p_{4}p_{5}}^{h_{4}h_{5}}f_{g_{0}}^{g_{1}}t_{p_{6}p_{7}}^{h_{6}h_{7}}\n + t_{p_{0}p_{1}}^{h_{0}h_{1}}t_{p_{2}p_{3}}^{h_{2}h_{3}}t_{p_{4}p_{5}}^{h_{4}h_{5}}v_{g_{0}g_{1}}^{g_{2}g_{3}}t_{p_{6}p_{7}}^{h_{6}h_{7}}\n + t_{p_{0}p_{1}}^{h_{0}h_{1}}t_{p_{2}p_{3}}^{h_{2}h_{3}}t_{p_{4}p_{5}}^{h_{4}h_{5}}f_{g_{0}}^{g_{1}}t_{p_{6}p_{7}}^{h_{6}h_{7}}\n + t_{p_{0}p_{1}}^{h_{0}h_{1}}t_{p_{2}p_{3}}^{h_{2}h_{3}}t_{p_{4}p_{5}}^{h_{4}h_{5}}v_{g_{0}g_{1}}^{g_{2}g_{3}}t_{p_{6}p_{7}}^{h_{6}h_{7}}\n + t_{p_{0}p_{1}}^{h_{0}h_{1}}t_{p_{2}p_{3}}^{h_{2}h_{3}}t_{p_{4}p_{5}}^{h_{4}h_{5}}t_{p_{6}p_{7}}^{h_{6}h_{7}}f_{g_{0}}^{g_{1}}\n + t_{p_{0}p_{1}}^{h_{0}h_{1}}t_{p_{2}p_{3}}^{h_{2}h_{3}}t_{p_{4}p_{5}}^{h_{4}h_{5}}t_{p_{6}p_{7}}^{h_{6}h_{7}}v_{g_{0}g_{1}}^{g_{2}g_{3}}\n"
     ]
    }
   ],
   "source": [
    "print(CCDEnergyEquation)"
   ]
  },
  {
   "cell_type": "code",
   "execution_count": 570,
   "metadata": {},
   "outputs": [
    {
     "output_type": "execute_result",
     "data": {
      "text/plain": [
       "62"
      ]
     },
     "metadata": {},
     "execution_count": 570
    }
   ],
   "source": [
    "len(CCDEnergyEquation.summandList)"
   ]
  },
  {
   "cell_type": "code",
   "execution_count": 575,
   "metadata": {},
   "outputs": [
    {
     "output_type": "stream",
     "name": "stdout",
     "text": [
      "0\n",
      "1\n",
      "2\n",
      "3\n",
      "0\n",
      "4.0 * v_{h_{0}h_{1}}^{p_{0}p_{1}}t_{p_{0}p_{1}}^{h_{0}h_{1}}\n",
      "1\n",
      "-2.0 * v_{h_{1}h_{0}}^{p_{0}p_{1}}t_{p_{0}p_{1}}^{h_{0}h_{1}}\n",
      "1\n",
      "-2.0 * v_{h_{0}h_{1}}^{p_{1}p_{0}}t_{p_{0}p_{1}}^{h_{0}h_{1}}\n",
      "1\n",
      "4.0 * v_{h_{1}h_{0}}^{p_{1}p_{0}}t_{p_{0}p_{1}}^{h_{0}h_{1}}\n",
      "4\n",
      "5\n",
      "6\n",
      "7\n",
      "8\n",
      "9\n",
      "10\n",
      "11\n",
      "12\n",
      "13\n",
      "14\n",
      "15\n",
      "16\n",
      "17\n",
      "18\n",
      "19\n",
      "20\n",
      "21\n",
      "22\n",
      "23\n",
      "24\n",
      "25\n",
      "26\n",
      "27\n",
      "28\n",
      "29\n",
      "30\n",
      "31\n",
      "32\n",
      "33\n",
      "34\n",
      "35\n",
      "36\n",
      "37\n",
      "38\n",
      "39\n",
      "40\n",
      "41\n",
      "42\n",
      "43\n",
      "44\n",
      "45\n",
      "46\n",
      "47\n",
      "48\n",
      "49\n",
      "50\n",
      "51\n",
      "52\n",
      "53\n",
      "54\n",
      "55\n",
      "56\n",
      "57\n",
      "58\n",
      "59\n",
      "60\n",
      "61\n"
     ]
    }
   ],
   "source": [
    "i = 0\n",
    "for term in CCDEnergyEquation.summandList:\n",
    "    j = 0\n",
    "    print(i)\n",
    "    for top in term.getFullyContractedTopologies():\n",
    "        print(j)\n",
    "        print(ContractedTerm(term, top))\n",
    "        j =+ 1\n",
    "    i += 1"
   ]
  },
  {
   "cell_type": "code",
   "execution_count": null,
   "metadata": {},
   "outputs": [],
   "source": []
  }
 ]
}