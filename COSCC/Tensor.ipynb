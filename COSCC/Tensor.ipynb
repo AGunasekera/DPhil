{
 "metadata": {
  "language_info": {
   "codemirror_mode": {
    "name": "ipython",
    "version": 3
   },
   "file_extension": ".py",
   "mimetype": "text/x-python",
   "name": "python",
   "nbconvert_exporter": "python",
   "pygments_lexer": "ipython3",
   "version": "3.8.0"
  },
  "orig_nbformat": 2,
  "kernelspec": {
   "name": "python3",
   "display_name": "Python 3",
   "language": "python"
  }
 },
 "nbformat": 4,
 "nbformat_minor": 2,
 "cells": [
  {
   "cell_type": "code",
   "execution_count": 1,
   "metadata": {},
   "outputs": [],
   "source": [
    "import numpy as np\n",
    "from pyscf import gto, scf, ao2mo, fci\n",
    "import CC, Wick\n",
    "from math import factorial, sqrt"
   ]
  },
  {
   "cell_type": "code",
   "execution_count": 2,
   "metadata": {},
   "outputs": [],
   "source": [
    "bohr = 0.529177249\n",
    "\n",
    "H2sep = 1.605 * bohr\n",
    "\n",
    "mol = gto.Mole()\n",
    "mol.verbose = 1\n",
    "mol.atom = 'H 0 0 0; H 0 0 ' + str(H2sep)\n",
    "mol.basis = 'sto-3g'\n",
    "mol.spin = 0\n",
    "mol.build()\n",
    "\n",
    "Enuc = mol.energy_nuc()\n",
    "\n",
    "mf = scf.ROHF(mol)\n",
    "mf.kernel()\n",
    "\n",
    "h1 = mf.mo_coeff.T.dot(mf.get_hcore()).dot(mf.mo_coeff)\n",
    "eri = ao2mo.kernel(mol, mf.mo_coeff)\n",
    "\n",
    "cisolver = fci.FCI(mol, mf.mo_coeff)"
   ]
  },
  {
   "cell_type": "code",
   "execution_count": 3,
   "metadata": {},
   "outputs": [
    {
     "output_type": "execute_result",
     "data": {
      "text/plain": [
       "-1.1026388111917238"
      ]
     },
     "metadata": {},
     "execution_count": 3
    }
   ],
   "source": [
    "mf.energy_tot()"
   ]
  },
  {
   "cell_type": "code",
   "execution_count": 4,
   "metadata": {},
   "outputs": [
    {
     "output_type": "execute_result",
     "data": {
      "text/plain": [
       "(-1.1284543355083052,\n",
       " array([[ 9.90656547e-01,  2.77555756e-17],\n",
       "        [ 1.91460513e-17, -1.36380375e-01]]))"
      ]
     },
     "metadata": {},
     "execution_count": 4
    }
   ],
   "source": [
    "cisolver.kernel()"
   ]
  },
  {
   "cell_type": "code",
   "execution_count": 5,
   "metadata": {},
   "outputs": [
    {
     "output_type": "execute_result",
     "data": {
      "text/plain": [
       "array([[-1.18985062e+00,  2.60021255e-17],\n",
       "       [-4.71423569e-17, -5.33749102e-01]])"
      ]
     },
     "metadata": {},
     "execution_count": 5
    }
   ],
   "source": [
    "h1"
   ]
  },
  {
   "cell_type": "code",
   "execution_count": 6,
   "metadata": {},
   "outputs": [
    {
     "output_type": "execute_result",
     "data": {
      "text/plain": [
       "array([[6.54009511e-01, 8.32667268e-17, 6.45249427e-01],\n",
       "       [1.04083409e-16, 1.87521981e-01, 5.55111512e-17],\n",
       "       [6.45249427e-01, 1.38777878e-16, 6.78136184e-01]])"
      ]
     },
     "metadata": {},
     "execution_count": 6
    }
   ],
   "source": [
    "eri"
   ]
  },
  {
   "cell_type": "code",
   "execution_count": 7,
   "metadata": {},
   "outputs": [],
   "source": [
    "Norbs = mol.nao\n",
    "Nocc = mf.nelectron_alpha\n",
    "vacuum = [1 for i in range(Nocc)] + [0 for i in range (Norbs - Nocc)]"
   ]
  },
  {
   "cell_type": "code",
   "execution_count": 8,
   "metadata": {},
   "outputs": [
    {
     "output_type": "stream",
     "name": "stdout",
     "text": [
      "0 0 0 0\n0 0\n0 1 0 0\n0 1\n0 1 0 1\n0 2\n1 0 0 0\n1 0\n1 0 1 0\n2 0\n1 1 0 0\n1 1\n1 1 0 1\n1 2\n1 1 1 0\n2 1\n1 1 1 1\n2 2\n"
     ]
    }
   ],
   "source": [
    "integralTensor2body = np.zeros((Norbs, Norbs, Norbs, Norbs))\n",
    "for p in range(Norbs):\n",
    "    for q in range(Norbs):\n",
    "        for r in range(p + 1):\n",
    "            for s in range(q + 1):\n",
    "                x = int(p + Norbs * r - 0.5 * r * (r + 1))\n",
    "                y = int(q + Norbs * s - 0.5 * s * (s + 1))\n",
    "                print(p, q, r, s)\n",
    "                print(x, y)\n",
    "                if p == r and q == s:\n",
    "                    integralTensor2body[p,q,r,s] = eri[x, y]\n",
    "#                    hamiltonian2Body = hamiltonian2Body + 0.5 * eri[x, y] * spinFreeDoubleExcitation(p, q, r, s)\n",
    "                else:\n",
    "                    integralTensor2body[p,q,r,s] = eri[x, y]\n",
    "                    integralTensor2body[r,s,p,q] = np.conjugate(eri[x, y])\n",
    "#                    hamiltonian2Body = hamiltonian2Body + 0.5 * eri[x, y] * spinFreeDoubleExcitation(p, q, r, s) + 0.5 * np.conjugate(eri[x, y]) * spinFreeDoubleExcitation(r, s, p, q)"
   ]
  },
  {
   "cell_type": "code",
   "execution_count": 9,
   "metadata": {},
   "outputs": [
    {
     "output_type": "execute_result",
     "data": {
      "text/plain": [
       "array([[[[6.54009511e-01, 8.32667268e-17],\n",
       "         [1.04083409e-16, 1.87521981e-01]],\n",
       "\n",
       "        [[8.32667268e-17, 6.45249427e-01],\n",
       "         [0.00000000e+00, 5.55111512e-17]]],\n",
       "\n",
       "\n",
       "       [[[1.04083409e-16, 0.00000000e+00],\n",
       "         [6.45249427e-01, 1.38777878e-16]],\n",
       "\n",
       "        [[1.87521981e-01, 5.55111512e-17],\n",
       "         [1.38777878e-16, 6.78136184e-01]]]])"
      ]
     },
     "metadata": {},
     "execution_count": 9
    }
   ],
   "source": [
    "integralTensor2body"
   ]
  },
  {
   "cell_type": "code",
   "execution_count": 10,
   "metadata": {},
   "outputs": [
    {
     "output_type": "execute_result",
     "data": {
      "text/plain": [
       "0.6452494265884844"
      ]
     },
     "metadata": {},
     "execution_count": 10
    }
   ],
   "source": [
    "integralTensor2body[1,0,1,0]"
   ]
  },
  {
   "cell_type": "code",
   "execution_count": 11,
   "metadata": {},
   "outputs": [],
   "source": [
    "UGgenerators1body = np.ndarray((Norbs, Norbs), dtype=Wick.operatorSum)\n",
    "for p in range(Norbs):\n",
    "    for q in range(Norbs):\n",
    "        UGgenerators1body[p,q] = CC.spinFreeNtupleExcitation((p,), (q,))"
   ]
  },
  {
   "cell_type": "code",
   "execution_count": 12,
   "metadata": {},
   "outputs": [],
   "source": [
    "UGgenerators2body = np.ndarray((Norbs, Norbs, Norbs, Norbs), dtype=Wick.operatorSum)\n",
    "for p in range(Norbs):\n",
    "    for q in range(Norbs):\n",
    "        for r in range(Norbs):\n",
    "            for s in range(Norbs):\n",
    "                UGgenerators2body[p,q,r,s] = CC.spinFreeNtupleExcitation((p, q), (r, s))"
   ]
  },
  {
   "cell_type": "code",
   "execution_count": 13,
   "metadata": {},
   "outputs": [
    {
     "output_type": "stream",
     "name": "stdout",
     "text": [
      "1.0 * a^{0\\alpha}a^{1\\alpha}a_{0\\alpha}a_{1\\alpha}\n + 1.0 * a^{0\\alpha}a^{1\\beta}a_{0\\beta}a_{1\\alpha}\n + 1.0 * a^{0\\beta}a^{1\\alpha}a_{0\\alpha}a_{1\\beta}\n + 1.0 * a^{0\\beta}a^{1\\beta}a_{0\\beta}a_{1\\beta}\n"
     ]
    }
   ],
   "source": [
    "print(UGgenerators2body[0,1,1,0])"
   ]
  },
  {
   "cell_type": "code",
   "execution_count": 38,
   "metadata": {},
   "outputs": [],
   "source": [
    "class Index:\n",
    "    '''\n",
    "    Class for an orbital index\n",
    "    Orbital types are 'g' (general), 'h' (inactive hole), 'a' (active), and 'p' (particle)\n",
    "    '''\n",
    "    def __init__(self, name, orbitalType):\n",
    "        self.name = name\n",
    "        self.orbitalType = orbitalType\n",
    "\n",
    "    def __str__(self):\n",
    "        return self.name\n",
    "#        return self.orbitalType + str(self.indexNumber)\n"
   ]
  },
  {
   "cell_type": "code",
   "execution_count": 238,
   "metadata": {},
   "outputs": [],
   "source": [
    "class Tensor:\n",
    "    '''\n",
    "    Class for amplitude tensors of spin-free excitation operators\n",
    "    '''\n",
    "    def __init__(self, name, lowerIndicesTuple, upperIndicesTuple, range):\n",
    "        self.name = name\n",
    "        self.lowerIndices = lowerIndicesTuple\n",
    "        self.upperIndices = upperIndicesTuple\n",
    "        self.excitationRank = len(self.lowerIndices)\n",
    "        self.range = range\n",
    "        self.array = np.zeros(tuple([self.range] * (2 * self.excitationRank)))\n",
    "\n",
    "    def setArray(self, array):\n",
    "        if array.shape == self.array.shape:\n",
    "            self.array = array\n",
    "        else:\n",
    "            print(\"Array is of wrong shape\")\n",
    "\n",
    "    def getOperator(self):\n",
    "        operator = Wick.operatorSum([])\n",
    "        it = np.nditer(self.array, flags=[\"multi_index\"])\n",
    "        \n",
    "        for i in it:\n",
    "            indices = it.multi_index\n",
    "            creationIndices = indices[:self.excitationRank]\n",
    "            annihilationIndices = indices[self.excitationRank:]\n",
    "            operator += i * CC.spinFreeNtupleExcitation(creationIndices, annihilationIndices)\n",
    "        return operator\n",
    "\n",
    "    def __str__(self):\n",
    "        string = self.name + \"_{\"\n",
    "        for p in self.lowerIndices:\n",
    "            string += p.__str__()\n",
    "        string += \"}^{\"\n",
    "        for q in self.upperIndices:\n",
    "            string += q.__str__()\n",
    "        string += \"}\"\n",
    "        return string"
   ]
  },
  {
   "cell_type": "code",
   "execution_count": 178,
   "metadata": {},
   "outputs": [],
   "source": [
    "class productOfTensors:\n",
    "    def __init__(self, listOfTensors):\n",
    "        self.name = name\n",
    "        self.listOfTensors = listOfTensors\n",
    "\n",
    "    def __str__(self):\n",
    "        string = \"\"\n",
    "        for t in self.listOfTensors:\n",
    "            string += t.__str__()\n",
    "        return string"
   ]
  },
  {
   "cell_type": "code",
   "execution_count": 156,
   "metadata": {},
   "outputs": [],
   "source": [
    "p = Index('p','g')\n",
    "q = Index('q','g')\n",
    "r = Index('r','g')\n",
    "s = Index('s','g')"
   ]
  },
  {
   "cell_type": "code",
   "execution_count": 157,
   "metadata": {},
   "outputs": [],
   "source": [
    "hpq = Tensor('h', (p,), (q,), Norbs)"
   ]
  },
  {
   "cell_type": "code",
   "execution_count": 158,
   "metadata": {},
   "outputs": [
    {
     "output_type": "stream",
     "name": "stdout",
     "text": [
      "h_{p}^{q}\n"
     ]
    }
   ],
   "source": [
    "print(hpq)"
   ]
  },
  {
   "cell_type": "code",
   "execution_count": 159,
   "metadata": {},
   "outputs": [],
   "source": [
    "hpq.setArray(h1)"
   ]
  },
  {
   "cell_type": "code",
   "execution_count": 160,
   "metadata": {},
   "outputs": [
    {
     "output_type": "execute_result",
     "data": {
      "text/plain": [
       "array([[-1.18985062e+00,  2.60021255e-17],\n",
       "       [-4.71423569e-17, -5.33749102e-01]])"
      ]
     },
     "metadata": {},
     "execution_count": 160
    }
   ],
   "source": [
    "h1"
   ]
  },
  {
   "cell_type": "code",
   "execution_count": 161,
   "metadata": {},
   "outputs": [
    {
     "output_type": "stream",
     "name": "stdout",
     "text": [
      "-1.1898506186070186 * a^{0\\alpha}a_{0\\alpha}\n + 2.600212552842601e-17 * a^{0\\alpha}a_{1\\alpha}\n + -1.1898506186070186 * a^{0\\beta}a_{0\\beta}\n + 2.600212552842601e-17 * a^{0\\beta}a_{1\\beta}\n + -4.7142356915405136e-17 * a^{1\\alpha}a_{0\\alpha}\n + -0.5337491016607854 * a^{1\\alpha}a_{1\\alpha}\n + -4.7142356915405136e-17 * a^{1\\beta}a_{0\\beta}\n + -0.5337491016607854 * a^{1\\beta}a_{1\\beta}\n"
     ]
    }
   ],
   "source": [
    "print(hpq.getOperator())"
   ]
  },
  {
   "cell_type": "code",
   "execution_count": 162,
   "metadata": {},
   "outputs": [
    {
     "output_type": "stream",
     "name": "stdout",
     "text": [
      "g_{pq}^{rs}\n"
     ]
    }
   ],
   "source": [
    "gpqrs = Tensor('g', (p, q), (r,s), Norbs)\n",
    "print(gpqrs)"
   ]
  },
  {
   "cell_type": "code",
   "execution_count": 163,
   "metadata": {},
   "outputs": [
    {
     "output_type": "stream",
     "name": "stdout",
     "text": [
      "[[0. 0.]\n [0. 0.]]\n"
     ]
    }
   ],
   "source": [
    "print(h.array)"
   ]
  },
  {
   "cell_type": "code",
   "execution_count": 164,
   "metadata": {},
   "outputs": [
    {
     "output_type": "stream",
     "name": "stdout",
     "text": [
      "[[0. 0.]\n [0. 0.]]\n[[0 1]\n [2 3]]\n"
     ]
    }
   ],
   "source": [
    "i = Index('i', 'g')\n",
    "j = Index('j', 'g')\n",
    "Aij = Tensor('A',(i,),(j,),2)\n",
    "print(Aij.array)\n",
    "Aij.setArray(np.arange(4).reshape(2,2))\n",
    "print(Aij.array)"
   ]
  },
  {
   "cell_type": "code",
   "execution_count": 177,
   "metadata": {},
   "outputs": [
    {
     "output_type": "stream",
     "name": "stdout",
     "text": [
      "[[0.0e+000 4.9e-324]\n [9.9e-324 1.5e-323]]\n[[0 1]\n [2 3]]\n"
     ]
    }
   ],
   "source": [
    "k = Index('k', 'g')\n",
    "l = Index('l', 'g')\n",
    "Bkl = Tensor('B',(k,),(l,),2)\n",
    "print(Bkl.array)\n",
    "Bkl.setArray(np.arange(4).reshape(2,2))\n",
    "print(Bkl.array)"
   ]
  },
  {
   "cell_type": "code",
   "execution_count": 165,
   "metadata": {},
   "outputs": [
    {
     "output_type": "execute_result",
     "data": {
      "text/plain": [
       "(<__main__.Index at 0x10dafce50>,)"
      ]
     },
     "metadata": {},
     "execution_count": 165
    }
   ],
   "source": [
    "Aij.lowerIndices"
   ]
  },
  {
   "cell_type": "code",
   "execution_count": 166,
   "metadata": {},
   "outputs": [
    {
     "output_type": "execute_result",
     "data": {
      "text/plain": [
       "True"
      ]
     },
     "metadata": {},
     "execution_count": 166
    }
   ],
   "source": [
    "j != Aij.lowerIndices[0]"
   ]
  },
  {
   "cell_type": "code",
   "execution_count": 167,
   "metadata": {},
   "outputs": [],
   "source": [
    "def getAxis(tensor, index):\n",
    "    for a in range(tensor.excitationRank):\n",
    "        if tensor.lowerIndices[a] == index:\n",
    "            return a\n",
    "        elif tensor.upperIndices[a] == index:\n",
    "            return tensor.excitationRank + a"
   ]
  },
  {
   "cell_type": "code",
   "execution_count": 176,
   "metadata": {},
   "outputs": [
    {
     "output_type": "execute_result",
     "data": {
      "text/plain": [
       "3"
      ]
     },
     "metadata": {},
     "execution_count": 176
    }
   ],
   "source": [
    "getAxis(gpqrs, s)"
   ]
  },
  {
   "cell_type": "code",
   "execution_count": 171,
   "metadata": {},
   "outputs": [
    {
     "output_type": "stream",
     "name": "stdout",
     "text": [
      "[[[[6.54009511e-01 8.32667268e-17]\n   [1.04083409e-16 1.87521981e-01]]\n\n  [[8.32667268e-17 6.45249427e-01]\n   [0.00000000e+00 5.55111512e-17]]]\n\n\n [[[1.04083409e-16 0.00000000e+00]\n   [6.45249427e-01 1.38777878e-16]]\n\n  [[1.87521981e-01 5.55111512e-17]\n   [1.38777878e-16 6.78136184e-01]]]]\n[[[[6.54009511e-01 8.32667268e-17]\n   [1.04083409e-16 1.87521981e-01]]\n\n  [[8.32667268e-17 6.45249427e-01]\n   [0.00000000e+00 5.55111512e-17]]]\n\n\n [[[1.04083409e-16 0.00000000e+00]\n   [6.45249427e-01 1.38777878e-16]]\n\n  [[1.87521981e-01 5.55111512e-17]\n   [1.38777878e-16 6.78136184e-01]]]]\n"
     ]
    }
   ],
   "source": [
    "gpqrs = Tensor('g',(p,q), (r,s), Norbs)\n",
    "print(gpqrs.array)\n",
    "gpqrs.setArray(integralTensor2body)\n",
    "print(gpqrs.array)"
   ]
  },
  {
   "cell_type": "code",
   "execution_count": 131,
   "metadata": {},
   "outputs": [
    {
     "output_type": "execute_result",
     "data": {
      "text/plain": [
       "-1.1026388111917234"
      ]
     },
     "metadata": {},
     "execution_count": 131
    }
   ],
   "source": [
    "Wick.vacuumExpectationValue(hpq.getOperator() + 0.5 * gpqrs.getOperator(), [1,0]) + Enuc"
   ]
  },
  {
   "cell_type": "code",
   "execution_count": 201,
   "metadata": {},
   "outputs": [],
   "source": [
    "def contract(Tensor1, Tensor2, index1, index2):\n",
    "    axis1 = getAxis(Tensor1, index1)\n",
    "    axis2 = getAxis(Tensor2, index2)\n",
    "    newLowerIndicesList = list(Tensor1.lowerIndices)\n",
    "    newLowerIndicesList.remove(index1)\n",
    "    newLowerIndicesList = newLowerIndicesList + list(Tensor2.lowerIndices)\n",
    "    newUpperIndicesList = list(Tensor2.upperIndices)\n",
    "    newUpperIndicesList.remove(index2)\n",
    "    newUpperIndicesList = list(Tensor1.upperIndices) + newUpperIndicesList\n",
    "    name = Tensor1.name + Tensor2.name\n",
    "    resultArray = np.tensordot(Tensor1.array, Tensor2.array, axes=(axis1, axis2))\n",
    "    result = Tensor(name, newLowerIndicesList, newUpperIndicesList, Norbs)\n",
    "    result.setArray(resultArray)\n",
    "    return result"
   ]
  },
  {
   "cell_type": "code",
   "execution_count": 209,
   "metadata": {},
   "outputs": [],
   "source": [
    "vacuum = np.array([1,0])"
   ]
  },
  {
   "cell_type": "code",
   "execution_count": 214,
   "metadata": {},
   "outputs": [
    {
     "output_type": "execute_result",
     "data": {
      "text/plain": [
       "1.3080190227122477"
      ]
     },
     "metadata": {},
     "execution_count": 214
    }
   ],
   "source": [
    "Wick.vacuumExpectationValue(gpqrs.getOperator(), vacuum)"
   ]
  },
  {
   "cell_type": "code",
   "execution_count": 213,
   "metadata": {},
   "outputs": [
    {
     "output_type": "execute_result",
     "data": {
      "text/plain": [
       "-2.379701237214037"
      ]
     },
     "metadata": {},
     "execution_count": 213
    }
   ],
   "source": [
    "2 * np.tensordot(np.tensordot(vacuum, hpq.array, axes=1), vacuum, axes=1)"
   ]
  },
  {
   "cell_type": "code",
   "execution_count": 216,
   "metadata": {},
   "outputs": [
    {
     "output_type": "execute_result",
     "data": {
      "text/plain": [
       "1.3080190227122477"
      ]
     },
     "metadata": {},
     "execution_count": 216
    }
   ],
   "source": [
    "2 * np.tensordot(np.tensordot(np.tensordot(np.tensordot(vacuum, gpqrs.array, axes=1), vacuum, axes=1), vacuum, axes=1), vacuum, axes=1)"
   ]
  },
  {
   "cell_type": "code",
   "execution_count": 197,
   "metadata": {},
   "outputs": [
    {
     "output_type": "stream",
     "name": "stdout",
     "text": [
      "A_{i}^{j}\n[[0 1]\n [2 3]]\nB_{k}^{l}\n[[0 1]\n [2 3]]\n"
     ]
    }
   ],
   "source": [
    "print(Aij)\n",
    "print(Aij.array)\n",
    "print(Bkl)\n",
    "print(Bkl.array)"
   ]
  },
  {
   "cell_type": "code",
   "execution_count": 208,
   "metadata": {},
   "outputs": [
    {
     "output_type": "stream",
     "name": "stdout",
     "text": [
      "AB_{k}^{j}\n2.0 * a^{0\\alpha}a_{0\\alpha}\n + 6.0 * a^{0\\alpha}a_{1\\alpha}\n + 2.0 * a^{0\\beta}a_{0\\beta}\n + 6.0 * a^{0\\beta}a_{1\\beta}\n + 3.0 * a^{1\\alpha}a_{0\\alpha}\n + 11.0 * a^{1\\alpha}a_{1\\alpha}\n + 3.0 * a^{1\\beta}a_{0\\beta}\n + 11.0 * a^{1\\beta}a_{1\\beta}\n"
     ]
    }
   ],
   "source": [
    "print(contract(Aij, Bkl, i, l))\n",
    "print(contract(Aij, Bkl, i, l).getOperator())"
   ]
  },
  {
   "cell_type": "code",
   "execution_count": null,
   "metadata": {},
   "outputs": [],
   "source": []
  },
  {
   "cell_type": "code",
   "execution_count": 207,
   "metadata": {},
   "outputs": [
    {
     "output_type": "stream",
     "name": "stdout",
     "text": [
      "[[[[6.54009511e-01 8.32667268e-17]\n   [1.04083409e-16 1.87521981e-01]]\n\n  [[8.32667268e-17 6.45249427e-01]\n   [0.00000000e+00 5.55111512e-17]]]\n\n\n [[[1.04083409e-16 0.00000000e+00]\n   [6.45249427e-01 1.38777878e-16]]\n\n  [[1.87521981e-01 5.55111512e-17]\n   [1.38777878e-16 6.78136184e-01]]]]\n"
     ]
    }
   ],
   "source": [
    "print(gpqrs.array)"
   ]
  },
  {
   "cell_type": "code",
   "execution_count": 180,
   "metadata": {},
   "outputs": [
    {
     "output_type": "error",
     "ename": "TypeError",
     "evalue": "__init__() missing 1 required positional argument: 'range'",
     "traceback": [
      "\u001b[0;31m---------------------------------------------------------------------------\u001b[0m",
      "\u001b[0;31mTypeError\u001b[0m                                 Traceback (most recent call last)",
      "\u001b[0;32m<ipython-input-180-9ca419e38cd2>\u001b[0m in \u001b[0;36m<module>\u001b[0;34m\u001b[0m\n\u001b[0;32m----> 1\u001b[0;31m \u001b[0mt\u001b[0m \u001b[0;34m=\u001b[0m \u001b[0mTensor\u001b[0m\u001b[0;34m(\u001b[0m\u001b[0;36m2\u001b[0m\u001b[0;34m,\u001b[0m \u001b[0;36m2\u001b[0m\u001b[0;34m,\u001b[0m \u001b[0;36m3\u001b[0m\u001b[0;34m)\u001b[0m\u001b[0;34m\u001b[0m\u001b[0;34m\u001b[0m\u001b[0m\n\u001b[0m",
      "\u001b[0;31mTypeError\u001b[0m: __init__() missing 1 required positional argument: 'range'"
     ]
    }
   ],
   "source": [
    "t = Tensor(2, 2, 3)"
   ]
  },
  {
   "cell_type": "code",
   "execution_count": 18,
   "metadata": {},
   "outputs": [
    {
     "output_type": "execute_result",
     "data": {
      "text/plain": [
       "array([[[[0., 0., 0.],\n",
       "         [0., 0., 0.],\n",
       "         [0., 0., 0.]],\n",
       "\n",
       "        [[0., 0., 0.],\n",
       "         [0., 0., 0.],\n",
       "         [0., 0., 0.]],\n",
       "\n",
       "        [[0., 0., 0.],\n",
       "         [0., 0., 0.],\n",
       "         [0., 0., 0.]]],\n",
       "\n",
       "\n",
       "       [[[0., 0., 0.],\n",
       "         [0., 0., 0.],\n",
       "         [0., 0., 0.]],\n",
       "\n",
       "        [[0., 0., 0.],\n",
       "         [0., 0., 0.],\n",
       "         [0., 0., 0.]],\n",
       "\n",
       "        [[0., 0., 0.],\n",
       "         [0., 0., 0.],\n",
       "         [0., 0., 0.]]],\n",
       "\n",
       "\n",
       "       [[[0., 0., 0.],\n",
       "         [0., 0., 0.],\n",
       "         [0., 0., 0.]],\n",
       "\n",
       "        [[0., 0., 0.],\n",
       "         [0., 0., 0.],\n",
       "         [0., 0., 0.]],\n",
       "\n",
       "        [[0., 0., 0.],\n",
       "         [0., 0., 0.],\n",
       "         [0., 0., 0.]]]])"
      ]
     },
     "metadata": {},
     "execution_count": 18
    }
   ],
   "source": [
    "t.array"
   ]
  },
  {
   "cell_type": "code",
   "execution_count": 19,
   "metadata": {},
   "outputs": [
    {
     "output_type": "error",
     "ename": "AttributeError",
     "evalue": "'Tensor' object has no attribute 'shape'",
     "traceback": [
      "\u001b[0;31m---------------------------------------------------------------------------\u001b[0m",
      "\u001b[0;31mAttributeError\u001b[0m                            Traceback (most recent call last)",
      "\u001b[0;32m<ipython-input-19-d68eea4137f8>\u001b[0m in \u001b[0;36m<module>\u001b[0;34m\u001b[0m\n\u001b[0;32m----> 1\u001b[0;31m \u001b[0mt\u001b[0m\u001b[0;34m.\u001b[0m\u001b[0mshape\u001b[0m\u001b[0;34m\u001b[0m\u001b[0;34m\u001b[0m\u001b[0m\n\u001b[0m",
      "\u001b[0;31mAttributeError\u001b[0m: 'Tensor' object has no attribute 'shape'"
     ]
    }
   ],
   "source": [
    "t.shape"
   ]
  },
  {
   "cell_type": "code",
   "execution_count": 12,
   "metadata": {},
   "outputs": [],
   "source": [
    "u = Tensor(1, 1, 3)"
   ]
  },
  {
   "cell_type": "code",
   "execution_count": 13,
   "metadata": {},
   "outputs": [
    {
     "output_type": "execute_result",
     "data": {
      "text/plain": [
       "array([[0., 0., 0.],\n",
       "       [0., 0., 0.],\n",
       "       [0., 0., 0.]])"
      ]
     },
     "metadata": {},
     "execution_count": 13
    }
   ],
   "source": [
    "u.array"
   ]
  },
  {
   "cell_type": "code",
   "execution_count": 20,
   "metadata": {},
   "outputs": [
    {
     "output_type": "execute_result",
     "data": {
      "text/plain": [
       "0.0"
      ]
     },
     "metadata": {},
     "execution_count": 20
    }
   ],
   "source": [
    "np.einsum('ii', u.array)"
   ]
  },
  {
   "cell_type": "code",
   "execution_count": 21,
   "metadata": {},
   "outputs": [
    {
     "output_type": "stream",
     "name": "stdout",
     "text": [
      "[[0 1 2]\n [3 4 5]\n [6 7 8]]\n"
     ]
    }
   ],
   "source": [
    "a = np.arange(9).reshape((3,3))\n",
    "print(a)"
   ]
  },
  {
   "cell_type": "code",
   "execution_count": 22,
   "metadata": {},
   "outputs": [
    {
     "output_type": "stream",
     "name": "stdout",
     "text": [
      "[[0 1 2]\n [3 4 5]\n [6 7 8]]\n"
     ]
    }
   ],
   "source": [
    "b = np.arange(9).reshape((3,3))\n",
    "print(b)"
   ]
  },
  {
   "cell_type": "code",
   "execution_count": 39,
   "metadata": {},
   "outputs": [
    {
     "output_type": "execute_result",
     "data": {
      "text/plain": [
       "array([[ 27,  36,  45],\n",
       "       [108, 144, 180],\n",
       "       [189, 252, 315]])"
      ]
     },
     "metadata": {},
     "execution_count": 39
    }
   ],
   "source": [
    "np.einsum(\"ij,kl->il\", a, b)"
   ]
  },
  {
   "cell_type": "code",
   "execution_count": 228,
   "metadata": {},
   "outputs": [],
   "source": [
    "def addNewIndex(indicesList, orbitalType):\n",
    "    newIndexName = orbitalType + \"_{\" + str(len(indicesList)) + \"}\"\n",
    "    indicesList.append(Index(newIndexName, orbitalType))\n",
    "    return indicesList[-1]"
   ]
  },
  {
   "cell_type": "code",
   "execution_count": 235,
   "metadata": {},
   "outputs": [],
   "source": [
    "generalIndices = []\n",
    "particleIndices = []\n",
    "holeIndices = []\n",
    "activeIndices = []"
   ]
  },
  {
   "cell_type": "code",
   "execution_count": 236,
   "metadata": {},
   "outputs": [
    {
     "output_type": "stream",
     "name": "stdout",
     "text": [
      "h_{g_{0}}^{g_{1}}\n"
     ]
    }
   ],
   "source": [
    "h = Tensor('h', (addNewIndex(generalIndices, 'g'),), (addNewIndex(generalIndices, 'g'),), Norbs)\n",
    "h.setArray(h1)\n",
    "print(h)"
   ]
  },
  {
   "cell_type": "code",
   "execution_count": 237,
   "metadata": {},
   "outputs": [
    {
     "output_type": "stream",
     "name": "stdout",
     "text": [
      "g_{g_{0}g_{2}}^{g_{1}g_{3}}\n"
     ]
    }
   ],
   "source": [
    "g = Tensor('g', (generalIndices[0], addNewIndex(generalIndices, 'g')), (generalIndices[1], addNewIndex(generalIndices, 'g')), Norbs)\n",
    "g.setArray(integralTensor2body)\n",
    "print(g)"
   ]
  },
  {
   "cell_type": "code",
   "execution_count": 240,
   "metadata": {},
   "outputs": [
    {
     "output_type": "stream",
     "name": "stdout",
     "text": [
      "t2_{p_{2}p_{3}}^{h_{2}h_{3}}\n"
     ]
    }
   ],
   "source": [
    "t2 = Tensor('t2', (addNewIndex(particleIndices, 'p'), addNewIndex(particleIndices, 'p')), (addNewIndex(holeIndices, 'h'), addNewIndex(holeIndices, 'h')), Norbs)\n",
    "print(t2)"
   ]
  },
  {
   "cell_type": "code",
   "execution_count": 245,
   "metadata": {},
   "outputs": [],
   "source": [
    "t2amplitudes = np.arange(16).reshape((2,2,2,2))"
   ]
  },
  {
   "cell_type": "code",
   "execution_count": 246,
   "metadata": {},
   "outputs": [
    {
     "output_type": "stream",
     "name": "stdout",
     "text": [
      "t2_{p_{4}p_{5}}^{h_{4}h_{5}}\n"
     ]
    }
   ],
   "source": [
    "t2new = Tensor('t2', (addNewIndex(particleIndices, 'p'), addNewIndex(particleIndices, 'p')), (addNewIndex(holeIndices, 'h'), addNewIndex(holeIndices, 'h')), Norbs)\n",
    "print(t2new)"
   ]
  },
  {
   "cell_type": "code",
   "execution_count": 249,
   "metadata": {},
   "outputs": [],
   "source": [
    "t2.setArray(t2amplitudes)\n",
    "t2new.setArray(t2amplitudes)"
   ]
  },
  {
   "cell_type": "code",
   "execution_count": 252,
   "metadata": {},
   "outputs": [],
   "source": [
    "t2amplitudes[0,0,0,0] = 1"
   ]
  },
  {
   "cell_type": "code",
   "execution_count": 254,
   "metadata": {},
   "outputs": [
    {
     "output_type": "stream",
     "name": "stdout",
     "text": [
      "[[[[ 1  1]\n   [ 2  3]]\n\n  [[ 4  5]\n   [ 6  7]]]\n\n\n [[[ 8  9]\n   [10 11]]\n\n  [[12 13]\n   [14 15]]]]\n"
     ]
    }
   ],
   "source": [
    "print(t2.array)"
   ]
  }
 ]
}