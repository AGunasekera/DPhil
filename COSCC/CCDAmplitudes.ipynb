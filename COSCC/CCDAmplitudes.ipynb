{
 "cells": [
  {
   "cell_type": "code",
   "execution_count": 1,
   "metadata": {},
   "outputs": [],
   "source": [
    "from pyscf import gto, scf, ao2mo, fci\n",
    "from GeneralisedWick import *\n",
    "from scipy.optimize import fsolve"
   ]
  },
  {
   "cell_type": "code",
   "execution_count": 2,
   "metadata": {},
   "outputs": [],
   "source": [
    "def commutator(operator1, operator2):\n",
    "    return operator1 * operator2 + (-1) * operator2 * operator1"
   ]
  },
  {
   "cell_type": "code",
   "execution_count": 3,
   "metadata": {},
   "outputs": [],
   "source": [
    "def BCHSimilarityTransform(H, T, order):\n",
    "    result = H\n",
    "    for k in range(order):\n",
    "        nestedCommutator = H\n",
    "        for i in range(k + 1):\n",
    "            nestedCommutator = commutator(nestedCommutator, T)\n",
    "        result += (1 / factorial(k + 1)) * nestedCommutator\n",
    "    return result"
   ]
  },
  {
   "cell_type": "code",
   "execution_count": 4,
   "metadata": {},
   "outputs": [],
   "source": [
    "def projectionManifold(excitationLevel):\n",
    "    return Tensor('\\Phi', ['h'] * excitationLevel, ['p'] * excitationLevel)"
   ]
  },
  {
   "cell_type": "code",
   "execution_count": 5,
   "metadata": {},
   "outputs": [],
   "source": [
    "fockTensor = Tensor(\"f\", ['g'], ['g'])\n",
    "h1Tensor = Tensor(\"h\", ['g'], ['g'])\n",
    "h2Tensor = Tensor(\"v\", ['g', 'g'], ['g', 'g'])\n",
    "t2Tensor = Tensor(\"{t_{2}}\", ['p', 'p'], ['h', 'h'])"
   ]
  },
  {
   "cell_type": "code",
   "execution_count": 6,
   "metadata": {},
   "outputs": [],
   "source": [
    "bohr = 0.529177249\n",
    "\n",
    "H2sep = 1.605 * bohr\n",
    "\n",
    "mol = gto.Mole()\n",
    "mol.verbose = 1\n",
    "#mol.atom = 'Be 0 0 0'\n",
    "#mol.basis = 'sto-3g'\n",
    "mol.atom = 'H 0 0 0; H 0 0 ' + str(H2sep)\n",
    "mol.basis = '6-31g'\n",
    "mol.spin = 0\n",
    "mol.build()\n",
    "\n",
    "Enuc = mol.energy_nuc()\n",
    "\n",
    "mf = scf.ROHF(mol)\n",
    "mf.kernel()\n",
    "\n",
    "cisolver = fci.FCI(mol, mf.mo_coeff)\n",
    "\n",
    "Norbs = mol.nao\n",
    "Nocc = mf.nelectron_alpha\n",
    "vacuum = [1] * Nocc + [0] * (Norbs - Nocc)\n",
    "\n",
    "h1 = mf.mo_coeff.T.dot(mf.get_hcore()).dot(mf.mo_coeff)\n",
    "eri = ao2mo.kernel(mol, mf.mo_coeff, compact=False)"
   ]
  },
  {
   "cell_type": "code",
   "execution_count": 7,
   "metadata": {},
   "outputs": [],
   "source": [
    "from pyscf import cc, ccn"
   ]
  },
  {
   "cell_type": "code",
   "execution_count": 167,
   "metadata": {},
   "outputs": [],
   "source": [
    "trueCCD = cc.CCSD(mf)"
   ]
  },
  {
   "cell_type": "code",
   "execution_count": 121,
   "metadata": {},
   "outputs": [
    {
     "data": {
      "text/plain": [
       "<bound method update_amps of <pyscf.cc.uccsd.UCCSD object at 0x7fc6fea58a90>>"
      ]
     },
     "execution_count": 121,
     "metadata": {},
     "output_type": "execute_result"
    }
   ],
   "source": [
    "trueCCD.update_amps"
   ]
  },
  {
   "cell_type": "code",
   "execution_count": 168,
   "metadata": {},
   "outputs": [],
   "source": [
    "old_update_amps = trueCCD.update_amps\n",
    "def update_amps(t1, t2, eris):\n",
    "    t1, t2 = old_update_amps(t1, t2, eris)\n",
    "#    print(t1)\n",
    "    return (np.zeros_like(t1[0]), np.zeros_like(t1[1])), t2\n",
    "trueCCD.update_amps = update_amps"
   ]
  },
  {
   "cell_type": "code",
   "execution_count": 169,
   "metadata": {},
   "outputs": [
    {
     "data": {
      "text/plain": [
       "(-0.027384725833890754,\n",
       " (array([[0., 0., 0.]]), array([[0., 0., 0.]])),\n",
       " (array([[[[0., 0., 0.],\n",
       "           [0., 0., 0.],\n",
       "           [0., 0., 0.]]]]),\n",
       "  array([[[[-1.00150759e-01, -3.56674702e-17, -5.09840280e-02],\n",
       "           [-1.91402868e-17, -4.56719620e-02, -6.00589164e-17],\n",
       "           [-5.09840280e-02, -3.20448951e-17, -4.14451365e-02]]]]),\n",
       "  array([[[[0., 0., 0.],\n",
       "           [0., 0., 0.],\n",
       "           [0., 0., 0.]]]])))"
      ]
     },
     "execution_count": 169,
     "metadata": {},
     "output_type": "execute_result"
    }
   ],
   "source": [
    "trueCCD.kernel()"
   ]
  },
  {
   "cell_type": "code",
   "execution_count": null,
   "metadata": {},
   "outputs": [],
   "source": []
  },
  {
   "cell_type": "code",
   "execution_count": 128,
   "metadata": {},
   "outputs": [
    {
     "data": {
      "text/plain": [
       "<function __main__.update_amps(t1, t2, eris)>"
      ]
     },
     "execution_count": 128,
     "metadata": {},
     "output_type": "execute_result"
    }
   ],
   "source": [
    "trueCCD.update_amps"
   ]
  },
  {
   "cell_type": "code",
   "execution_count": 143,
   "metadata": {},
   "outputs": [
    {
     "ename": "SyntaxError",
     "evalue": "invalid syntax (<ipython-input-143-54f6fde26642>, line 1)",
     "output_type": "error",
     "traceback": [
      "\u001b[0;36m  File \u001b[0;32m\"<ipython-input-143-54f6fde26642>\"\u001b[0;36m, line \u001b[0;32m1\u001b[0m\n\u001b[0;31m    trueCCD.\u001b[0m\n\u001b[0m            ^\u001b[0m\n\u001b[0;31mSyntaxError\u001b[0m\u001b[0;31m:\u001b[0m invalid syntax\n"
     ]
    }
   ],
   "source": [
    "trueCCD."
   ]
  },
  {
   "cell_type": "code",
   "execution_count": 10,
   "metadata": {},
   "outputs": [],
   "source": [
    "trueAmplitudeArray = trueCCD[2][1].swapaxes(0,2).swapaxes(1,3)"
   ]
  },
  {
   "cell_type": "code",
   "execution_count": 11,
   "metadata": {},
   "outputs": [
    {
     "data": {
      "text/plain": [
       "array([[[[-1.00108543e-01]],\n",
       "\n",
       "        [[-8.89555065e-17]],\n",
       "\n",
       "        [[-5.16134266e-02]]],\n",
       "\n",
       "\n",
       "       [[[-6.87692457e-17]],\n",
       "\n",
       "        [[-4.53856765e-02]],\n",
       "\n",
       "        [[-5.19382925e-17]]],\n",
       "\n",
       "\n",
       "       [[[-5.16134266e-02]],\n",
       "\n",
       "        [[-2.31946442e-17]],\n",
       "\n",
       "        [[-4.22705615e-02]]]])"
      ]
     },
     "execution_count": 11,
     "metadata": {},
     "output_type": "execute_result"
    }
   ],
   "source": [
    "trueAmplitudeArray"
   ]
  },
  {
   "cell_type": "code",
   "execution_count": 12,
   "metadata": {},
   "outputs": [],
   "source": [
    "#t2Tensor.array"
   ]
  },
  {
   "cell_type": "code",
   "execution_count": null,
   "metadata": {},
   "outputs": [],
   "source": []
  },
  {
   "cell_type": "code",
   "execution_count": 13,
   "metadata": {},
   "outputs": [],
   "source": [
    "def get2bodyHamiltonianArray(mf_):\n",
    "    eri = ao2mo.kernel(mf_.mol, mf_.mo_coeff)\n",
    "    Norbs_ = mf_.mol.nao\n",
    "    hamiltonian2BodyArray = np.zeros((Norbs_,Norbs_,Norbs_,Norbs_))\n",
    "    for p in range(Norbs_):\n",
    "        for q in range(Norbs_):\n",
    "            for r in range(p + 1):\n",
    "                for s in range(q + 1):\n",
    "                    x = int(p + Norbs_ * r - 0.5 * r * (r + 1))\n",
    "                    y = int(q + Norbs_ * s - 0.5 * s * (s + 1))\n",
    "                    if p == r and q == s:\n",
    "                        hamiltonian2BodyArray[p,q,r,s] += eri[x, y]\n",
    "                    else:\n",
    "                        hamiltonian2BodyArray[p,q,r,s] += eri[x, y]\n",
    "                        hamiltonian2BodyArray[r,s,p,q] += np.conjugate(eri[x, y])\n",
    "    return hamiltonian2BodyArray"
   ]
  },
  {
   "cell_type": "code",
   "execution_count": 14,
   "metadata": {},
   "outputs": [],
   "source": [
    "h1Tensor.array = h1\n",
    "h2Tensor.array = eri.reshape((Norbs, Norbs, Norbs, Norbs)).swapaxes(2,3).swapaxes(1,2)\n",
    "t2Tensor.getShape(vacuum)"
   ]
  },
  {
   "cell_type": "code",
   "execution_count": 15,
   "metadata": {},
   "outputs": [],
   "source": [
    "#t2Tensor.array[0, 0, 0, 0] = -0.275333314977893 * 0.5\n",
    "t2Tensor.array = np.zeros(t2Tensor.array.shape)\n",
    "#t2Tensor.array = trueAmplitudeArray"
   ]
  },
  {
   "cell_type": "code",
   "execution_count": 16,
   "metadata": {},
   "outputs": [
    {
     "data": {
      "text/plain": [
       "array([[-1.17699652e+00,  4.86344149e-16, -1.53193765e-01,\n",
       "         4.98835655e-18],\n",
       "       [ 7.21155607e-16, -5.73866278e-01,  1.87640153e-16,\n",
       "        -2.03002602e-01],\n",
       "       [-1.53193765e-01, -1.08784094e-16, -1.08071573e-01,\n",
       "        -8.91361467e-17],\n",
       "       [-3.81087394e-17, -2.03002602e-01, -1.51037500e-16,\n",
       "         1.63887344e-01]])"
      ]
     },
     "execution_count": 16,
     "metadata": {},
     "output_type": "execute_result"
    }
   ],
   "source": [
    "h1"
   ]
  },
  {
   "cell_type": "code",
   "execution_count": 17,
   "metadata": {},
   "outputs": [
    {
     "data": {
      "text/plain": [
       "NPArrayWithTag([-0.56467538,  0.20875728,  0.82891329,  1.28023505])"
      ]
     },
     "execution_count": 17,
     "metadata": {},
     "output_type": "execute_result"
    }
   ],
   "source": [
    "mf.mo_energy"
   ]
  },
  {
   "cell_type": "code",
   "execution_count": 18,
   "metadata": {},
   "outputs": [
    {
     "data": {
      "text/plain": [
       "array([[ 6.12321260e-01, -3.34968904e-16,  1.53193685e-01,\n",
       "        -2.79148766e-16, -3.09636953e-16,  4.37186032e-01,\n",
       "        -4.29537612e-17,  1.41953596e-01,  1.53193685e-01,\n",
       "        -5.32258994e-17,  5.20155049e-01,  9.18276830e-17,\n",
       "        -3.46655211e-16,  1.41953596e-01,  9.60641438e-17,\n",
       "         6.21237009e-01],\n",
       "       [-3.91069650e-16,  9.17484084e-02,  1.32010509e-17,\n",
       "         8.09045221e-02,  9.17484084e-02, -3.69309873e-16,\n",
       "        -8.80797318e-03,  3.59280805e-17,  1.10514385e-17,\n",
       "        -8.80797318e-03, -6.91883539e-18,  9.87001421e-02,\n",
       "         8.09045221e-02,  5.39168144e-17,  9.87001421e-02,\n",
       "        -9.82161813e-16],\n",
       "       [ 1.53193685e-01,  5.40844729e-18,  1.03325146e-01,\n",
       "         8.10671166e-17, -8.44973838e-19,  5.78044849e-02,\n",
       "        -2.74581992e-17,  7.76385037e-02,  1.03325146e-01,\n",
       "        -2.29972719e-17,  1.19739160e-01,  3.32295076e-16,\n",
       "         7.65543083e-17,  7.76385037e-02,  3.18137536e-16,\n",
       "         1.88932088e-01],\n",
       "       [-2.31371301e-16,  8.09045221e-02,  5.46296074e-17,\n",
       "         1.26126117e-01,  8.09045221e-02, -1.27537884e-16,\n",
       "         3.35316491e-02, -4.46146384e-16,  6.29742429e-17,\n",
       "         3.35316491e-02,  2.84223038e-16,  1.25582665e-01,\n",
       "         1.26126117e-01, -4.40679193e-16,  1.25582665e-01,\n",
       "        -6.59319497e-16],\n",
       "       [-3.39984761e-16,  9.17484084e-02,  6.38930743e-17,\n",
       "         8.09045221e-02,  9.17484084e-02, -3.36477123e-16,\n",
       "        -8.80797318e-03, -1.35978842e-16,  6.94716304e-17,\n",
       "        -8.80797318e-03, -1.46132948e-17,  9.87001421e-02,\n",
       "         8.09045221e-02, -1.41793770e-16,  9.87001421e-02,\n",
       "        -5.44651796e-16],\n",
       "       [ 4.37186032e-01, -2.75106718e-16,  5.78044849e-02,\n",
       "        -1.00200431e-16, -3.76481194e-16,  3.91769771e-01,\n",
       "         8.73086829e-17,  6.20451205e-02,  5.78044849e-02,\n",
       "        -7.52092288e-18,  3.89227342e-01, -1.44615556e-16,\n",
       "        -3.87519351e-17,  6.20451205e-02, -1.08585494e-16,\n",
       "         4.45769071e-01],\n",
       "       [-3.97843217e-17, -8.80797318e-03,  5.70644347e-17,\n",
       "         3.35316491e-02, -8.80797318e-03, -4.09607503e-16,\n",
       "         3.44389594e-02,  6.12498432e-16,  5.60328395e-17,\n",
       "         3.44389594e-02,  7.17621551e-18,  1.50366119e-02,\n",
       "         3.35316491e-02,  6.06975318e-16,  1.50366119e-02,\n",
       "        -9.62798729e-16],\n",
       "       [ 1.41953596e-01, -9.39152014e-17,  7.76385037e-02,\n",
       "        -3.46623015e-16, -1.02356556e-16,  6.20451205e-02,\n",
       "        -1.98615884e-16,  7.44736263e-02,  7.76385037e-02,\n",
       "        -2.08563989e-16,  1.07188175e-01,  1.59576575e-16,\n",
       "        -3.27091365e-16,  7.44736263e-02,  2.01110952e-16,\n",
       "         1.67279523e-01],\n",
       "       [ 1.53193685e-01,  4.62971229e-17,  1.03325146e-01,\n",
       "         7.33666138e-17,  5.21421477e-17,  5.78044849e-02,\n",
       "        -1.73330356e-17,  7.76385037e-02,  1.03325146e-01,\n",
       "        -3.86690903e-19,  1.19739160e-01,  3.91296778e-16,\n",
       "         4.56643033e-17,  7.76385037e-02,  3.63638630e-16,\n",
       "         1.88932088e-01],\n",
       "       [-1.08487300e-17, -8.80797318e-03,  5.79926599e-17,\n",
       "         3.35316491e-02, -8.80797318e-03, -4.86706208e-18,\n",
       "         3.44389594e-02,  1.30689420e-16,  5.95079854e-17,\n",
       "         3.44389594e-02,  4.78912845e-17,  1.50366119e-02,\n",
       "         3.35316491e-02,  1.29748834e-16,  1.50366119e-02,\n",
       "        -4.18158868e-16],\n",
       "       [ 5.20155049e-01, -6.69165482e-17,  1.19739160e-01,\n",
       "         1.55749028e-16,  2.17473019e-17,  3.89227342e-01,\n",
       "         9.28633701e-17,  1.07188175e-01,  1.19739160e-01,\n",
       "         1.22773776e-16,  4.66995861e-01,  4.54379495e-16,\n",
       "         1.50726578e-16,  1.07188175e-01,  4.23420410e-16,\n",
       "         5.43867592e-01],\n",
       "       [ 1.51957274e-16,  9.87001421e-02,  3.00392489e-16,\n",
       "         1.25582665e-01,  9.87001421e-02, -4.98804224e-16,\n",
       "         1.50366119e-02,  7.83889524e-17,  2.81880783e-16,\n",
       "         1.50366119e-02,  5.26172243e-16,  1.46931274e-01,\n",
       "         1.25582665e-01,  4.44913764e-17,  1.46931274e-01,\n",
       "        -1.32487945e-17],\n",
       "       [-2.33746242e-16,  8.09045221e-02,  2.76838403e-17,\n",
       "         1.26126117e-01,  8.09045221e-02, -5.02847202e-16,\n",
       "         3.35316491e-02,  4.95193113e-17,  2.79493607e-17,\n",
       "         3.35316491e-02,  2.26572259e-16,  1.25582665e-01,\n",
       "         1.26126117e-01,  5.72961518e-17,  1.25582665e-01,\n",
       "        -1.03930882e-15],\n",
       "       [ 1.41953596e-01, -2.19559979e-16,  7.76385037e-02,\n",
       "        -1.60034488e-16, -2.21210556e-16,  6.20451205e-02,\n",
       "         6.50131835e-17,  7.44736263e-02,  7.76385037e-02,\n",
       "         6.86194229e-17,  1.07188175e-01, -1.56523902e-16,\n",
       "        -1.42131944e-16,  7.44736263e-02, -1.65561502e-16,\n",
       "         1.67279523e-01],\n",
       "       [ 1.26498584e-16,  9.87001421e-02,  2.85988070e-16,\n",
       "         1.25582665e-01,  9.87001421e-02, -1.87671030e-16,\n",
       "         1.50366119e-02,  2.75005015e-16,  2.97722798e-16,\n",
       "         1.50366119e-02,  4.66739757e-16,  1.46931274e-01,\n",
       "         1.25582665e-01,  2.65723473e-16,  1.46931274e-01,\n",
       "        -7.30599394e-16],\n",
       "       [ 6.21237009e-01, -6.46521821e-16,  1.88932088e-01,\n",
       "        -6.30690388e-16, -6.25125002e-16,  4.45769071e-01,\n",
       "        -4.51581328e-16,  1.67279523e-01,  1.88932088e-01,\n",
       "        -3.95388428e-16,  5.43867592e-01, -1.37607954e-16,\n",
       "        -8.61829834e-16,  1.67279523e-01,  5.77305409e-17,\n",
       "         6.92386316e-01]])"
      ]
     },
     "execution_count": 18,
     "metadata": {},
     "output_type": "execute_result"
    }
   ],
   "source": [
    "eri"
   ]
  },
  {
   "cell_type": "code",
   "execution_count": 19,
   "metadata": {},
   "outputs": [
    {
     "data": {
      "text/plain": [
       "array([[[[ 6.12321260e-01, -3.09636953e-16,  1.53193685e-01,\n",
       "          -3.46655211e-16],\n",
       "         [-3.91069650e-16,  9.17484084e-02,  1.10514385e-17,\n",
       "           8.09045221e-02],\n",
       "         [ 1.53193685e-01, -8.44973838e-19,  1.03325146e-01,\n",
       "           7.65543083e-17],\n",
       "         [-2.31371301e-16,  8.09045221e-02,  6.29742429e-17,\n",
       "           1.26126117e-01]],\n",
       "\n",
       "        [[-3.34968904e-16,  4.37186032e-01, -5.32258994e-17,\n",
       "           1.41953596e-01],\n",
       "         [ 9.17484084e-02, -3.69309873e-16, -8.80797318e-03,\n",
       "           5.39168144e-17],\n",
       "         [ 5.40844729e-18,  5.78044849e-02, -2.29972719e-17,\n",
       "           7.76385037e-02],\n",
       "         [ 8.09045221e-02, -1.27537884e-16,  3.35316491e-02,\n",
       "          -4.40679193e-16]],\n",
       "\n",
       "        [[ 1.53193685e-01, -4.29537612e-17,  5.20155049e-01,\n",
       "           9.60641438e-17],\n",
       "         [ 1.32010509e-17, -8.80797318e-03, -6.91883539e-18,\n",
       "           9.87001421e-02],\n",
       "         [ 1.03325146e-01, -2.74581992e-17,  1.19739160e-01,\n",
       "           3.18137536e-16],\n",
       "         [ 5.46296074e-17,  3.35316491e-02,  2.84223038e-16,\n",
       "           1.25582665e-01]],\n",
       "\n",
       "        [[-2.79148766e-16,  1.41953596e-01,  9.18276830e-17,\n",
       "           6.21237009e-01],\n",
       "         [ 8.09045221e-02,  3.59280805e-17,  9.87001421e-02,\n",
       "          -9.82161813e-16],\n",
       "         [ 8.10671166e-17,  7.76385037e-02,  3.32295076e-16,\n",
       "           1.88932088e-01],\n",
       "         [ 1.26126117e-01, -4.46146384e-16,  1.25582665e-01,\n",
       "          -6.59319497e-16]]],\n",
       "\n",
       "\n",
       "       [[[-3.39984761e-16,  9.17484084e-02,  6.94716304e-17,\n",
       "           8.09045221e-02],\n",
       "         [ 4.37186032e-01, -3.76481194e-16,  5.78044849e-02,\n",
       "          -3.87519351e-17],\n",
       "         [-3.97843217e-17, -8.80797318e-03,  5.60328395e-17,\n",
       "           3.35316491e-02],\n",
       "         [ 1.41953596e-01, -1.02356556e-16,  7.76385037e-02,\n",
       "          -3.27091365e-16]],\n",
       "\n",
       "        [[ 9.17484084e-02, -3.36477123e-16, -8.80797318e-03,\n",
       "          -1.41793770e-16],\n",
       "         [-2.75106718e-16,  3.91769771e-01, -7.52092288e-18,\n",
       "           6.20451205e-02],\n",
       "         [-8.80797318e-03, -4.09607503e-16,  3.44389594e-02,\n",
       "           6.06975318e-16],\n",
       "         [-9.39152014e-17,  6.20451205e-02, -2.08563989e-16,\n",
       "           7.44736263e-02]],\n",
       "\n",
       "        [[ 6.38930743e-17, -8.80797318e-03, -1.46132948e-17,\n",
       "           9.87001421e-02],\n",
       "         [ 5.78044849e-02,  8.73086829e-17,  3.89227342e-01,\n",
       "          -1.08585494e-16],\n",
       "         [ 5.70644347e-17,  3.44389594e-02,  7.17621551e-18,\n",
       "           1.50366119e-02],\n",
       "         [ 7.76385037e-02, -1.98615884e-16,  1.07188175e-01,\n",
       "           2.01110952e-16]],\n",
       "\n",
       "        [[ 8.09045221e-02, -1.35978842e-16,  9.87001421e-02,\n",
       "          -5.44651796e-16],\n",
       "         [-1.00200431e-16,  6.20451205e-02, -1.44615556e-16,\n",
       "           4.45769071e-01],\n",
       "         [ 3.35316491e-02,  6.12498432e-16,  1.50366119e-02,\n",
       "          -9.62798729e-16],\n",
       "         [-3.46623015e-16,  7.44736263e-02,  1.59576575e-16,\n",
       "           1.67279523e-01]]],\n",
       "\n",
       "\n",
       "       [[[ 1.53193685e-01,  5.21421477e-17,  1.03325146e-01,\n",
       "           4.56643033e-17],\n",
       "         [-1.08487300e-17, -8.80797318e-03,  5.95079854e-17,\n",
       "           3.35316491e-02],\n",
       "         [ 5.20155049e-01,  2.17473019e-17,  1.19739160e-01,\n",
       "           1.50726578e-16],\n",
       "         [ 1.51957274e-16,  9.87001421e-02,  2.81880783e-16,\n",
       "           1.25582665e-01]],\n",
       "\n",
       "        [[ 4.62971229e-17,  5.78044849e-02, -3.86690903e-19,\n",
       "           7.76385037e-02],\n",
       "         [-8.80797318e-03, -4.86706208e-18,  3.44389594e-02,\n",
       "           1.29748834e-16],\n",
       "         [-6.69165482e-17,  3.89227342e-01,  1.22773776e-16,\n",
       "           1.07188175e-01],\n",
       "         [ 9.87001421e-02, -4.98804224e-16,  1.50366119e-02,\n",
       "           4.44913764e-17]],\n",
       "\n",
       "        [[ 1.03325146e-01, -1.73330356e-17,  1.19739160e-01,\n",
       "           3.63638630e-16],\n",
       "         [ 5.79926599e-17,  3.44389594e-02,  4.78912845e-17,\n",
       "           1.50366119e-02],\n",
       "         [ 1.19739160e-01,  9.28633701e-17,  4.66995861e-01,\n",
       "           4.23420410e-16],\n",
       "         [ 3.00392489e-16,  1.50366119e-02,  5.26172243e-16,\n",
       "           1.46931274e-01]],\n",
       "\n",
       "        [[ 7.33666138e-17,  7.76385037e-02,  3.91296778e-16,\n",
       "           1.88932088e-01],\n",
       "         [ 3.35316491e-02,  1.30689420e-16,  1.50366119e-02,\n",
       "          -4.18158868e-16],\n",
       "         [ 1.55749028e-16,  1.07188175e-01,  4.54379495e-16,\n",
       "           5.43867592e-01],\n",
       "         [ 1.25582665e-01,  7.83889524e-17,  1.46931274e-01,\n",
       "          -1.32487945e-17]]],\n",
       "\n",
       "\n",
       "       [[[-2.33746242e-16,  8.09045221e-02,  2.79493607e-17,\n",
       "           1.26126117e-01],\n",
       "         [ 1.41953596e-01, -2.21210556e-16,  7.76385037e-02,\n",
       "          -1.42131944e-16],\n",
       "         [ 1.26498584e-16,  9.87001421e-02,  2.97722798e-16,\n",
       "           1.25582665e-01],\n",
       "         [ 6.21237009e-01, -6.25125002e-16,  1.88932088e-01,\n",
       "          -8.61829834e-16]],\n",
       "\n",
       "        [[ 8.09045221e-02, -5.02847202e-16,  3.35316491e-02,\n",
       "           5.72961518e-17],\n",
       "         [-2.19559979e-16,  6.20451205e-02,  6.86194229e-17,\n",
       "           7.44736263e-02],\n",
       "         [ 9.87001421e-02, -1.87671030e-16,  1.50366119e-02,\n",
       "           2.65723473e-16],\n",
       "         [-6.46521821e-16,  4.45769071e-01, -3.95388428e-16,\n",
       "           1.67279523e-01]],\n",
       "\n",
       "        [[ 2.76838403e-17,  3.35316491e-02,  2.26572259e-16,\n",
       "           1.25582665e-01],\n",
       "         [ 7.76385037e-02,  6.50131835e-17,  1.07188175e-01,\n",
       "          -1.65561502e-16],\n",
       "         [ 2.85988070e-16,  1.50366119e-02,  4.66739757e-16,\n",
       "           1.46931274e-01],\n",
       "         [ 1.88932088e-01, -4.51581328e-16,  5.43867592e-01,\n",
       "           5.77305409e-17]],\n",
       "\n",
       "        [[ 1.26126117e-01,  4.95193113e-17,  1.25582665e-01,\n",
       "          -1.03930882e-15],\n",
       "         [-1.60034488e-16,  7.44736263e-02, -1.56523902e-16,\n",
       "           1.67279523e-01],\n",
       "         [ 1.25582665e-01,  2.75005015e-16,  1.46931274e-01,\n",
       "          -7.30599394e-16],\n",
       "         [-6.30690388e-16,  1.67279523e-01, -1.37607954e-16,\n",
       "           6.92386316e-01]]]])"
      ]
     },
     "execution_count": 19,
     "metadata": {},
     "output_type": "execute_result"
    }
   ],
   "source": [
    "h2Tensor.array"
   ]
  },
  {
   "cell_type": "code",
   "execution_count": 20,
   "metadata": {},
   "outputs": [],
   "source": [
    "#fock = mf.get_fock(h1e=h1, vhf=eri)"
   ]
  },
  {
   "cell_type": "code",
   "execution_count": 21,
   "metadata": {},
   "outputs": [],
   "source": [
    "#print(fock)\n",
    "#print(np.linalg.eig(fock))"
   ]
  },
  {
   "cell_type": "code",
   "execution_count": 22,
   "metadata": {},
   "outputs": [
    {
     "data": {
      "text/plain": [
       "array([[[[ 6.12321260e-01, -3.09636953e-16,  1.53193685e-01,\n",
       "          -3.46655211e-16],\n",
       "         [-3.91069650e-16,  9.17484084e-02,  1.10514385e-17,\n",
       "           8.09045221e-02],\n",
       "         [ 1.53193685e-01, -8.44973838e-19,  1.03325146e-01,\n",
       "           7.65543083e-17],\n",
       "         [-2.31371301e-16,  8.09045221e-02,  6.29742429e-17,\n",
       "           1.26126117e-01]],\n",
       "\n",
       "        [[-3.34968904e-16,  4.37186032e-01, -5.32258994e-17,\n",
       "           1.41953596e-01],\n",
       "         [ 9.17484084e-02, -3.69309873e-16, -8.80797318e-03,\n",
       "           5.39168144e-17],\n",
       "         [ 5.40844729e-18,  5.78044849e-02, -2.29972719e-17,\n",
       "           7.76385037e-02],\n",
       "         [ 8.09045221e-02, -1.27537884e-16,  3.35316491e-02,\n",
       "          -4.40679193e-16]],\n",
       "\n",
       "        [[ 1.53193685e-01, -4.29537612e-17,  5.20155049e-01,\n",
       "           9.60641438e-17],\n",
       "         [ 1.32010509e-17, -8.80797318e-03, -6.91883539e-18,\n",
       "           9.87001421e-02],\n",
       "         [ 1.03325146e-01, -2.74581992e-17,  1.19739160e-01,\n",
       "           3.18137536e-16],\n",
       "         [ 5.46296074e-17,  3.35316491e-02,  2.84223038e-16,\n",
       "           1.25582665e-01]],\n",
       "\n",
       "        [[-2.79148766e-16,  1.41953596e-01,  9.18276830e-17,\n",
       "           6.21237009e-01],\n",
       "         [ 8.09045221e-02,  3.59280805e-17,  9.87001421e-02,\n",
       "          -9.82161813e-16],\n",
       "         [ 8.10671166e-17,  7.76385037e-02,  3.32295076e-16,\n",
       "           1.88932088e-01],\n",
       "         [ 1.26126117e-01, -4.46146384e-16,  1.25582665e-01,\n",
       "          -6.59319497e-16]]],\n",
       "\n",
       "\n",
       "       [[[-3.39984761e-16,  9.17484084e-02,  6.94716304e-17,\n",
       "           8.09045221e-02],\n",
       "         [ 4.37186032e-01, -3.76481194e-16,  5.78044849e-02,\n",
       "          -3.87519351e-17],\n",
       "         [-3.97843217e-17, -8.80797318e-03,  5.60328395e-17,\n",
       "           3.35316491e-02],\n",
       "         [ 1.41953596e-01, -1.02356556e-16,  7.76385037e-02,\n",
       "          -3.27091365e-16]],\n",
       "\n",
       "        [[ 9.17484084e-02, -3.36477123e-16, -8.80797318e-03,\n",
       "          -1.41793770e-16],\n",
       "         [-2.75106718e-16,  3.91769771e-01, -7.52092288e-18,\n",
       "           6.20451205e-02],\n",
       "         [-8.80797318e-03, -4.09607503e-16,  3.44389594e-02,\n",
       "           6.06975318e-16],\n",
       "         [-9.39152014e-17,  6.20451205e-02, -2.08563989e-16,\n",
       "           7.44736263e-02]],\n",
       "\n",
       "        [[ 6.38930743e-17, -8.80797318e-03, -1.46132948e-17,\n",
       "           9.87001421e-02],\n",
       "         [ 5.78044849e-02,  8.73086829e-17,  3.89227342e-01,\n",
       "          -1.08585494e-16],\n",
       "         [ 5.70644347e-17,  3.44389594e-02,  7.17621551e-18,\n",
       "           1.50366119e-02],\n",
       "         [ 7.76385037e-02, -1.98615884e-16,  1.07188175e-01,\n",
       "           2.01110952e-16]],\n",
       "\n",
       "        [[ 8.09045221e-02, -1.35978842e-16,  9.87001421e-02,\n",
       "          -5.44651796e-16],\n",
       "         [-1.00200431e-16,  6.20451205e-02, -1.44615556e-16,\n",
       "           4.45769071e-01],\n",
       "         [ 3.35316491e-02,  6.12498432e-16,  1.50366119e-02,\n",
       "          -9.62798729e-16],\n",
       "         [-3.46623015e-16,  7.44736263e-02,  1.59576575e-16,\n",
       "           1.67279523e-01]]],\n",
       "\n",
       "\n",
       "       [[[ 1.53193685e-01,  5.21421477e-17,  1.03325146e-01,\n",
       "           4.56643033e-17],\n",
       "         [-1.08487300e-17, -8.80797318e-03,  5.95079854e-17,\n",
       "           3.35316491e-02],\n",
       "         [ 5.20155049e-01,  2.17473019e-17,  1.19739160e-01,\n",
       "           1.50726578e-16],\n",
       "         [ 1.51957274e-16,  9.87001421e-02,  2.81880783e-16,\n",
       "           1.25582665e-01]],\n",
       "\n",
       "        [[ 4.62971229e-17,  5.78044849e-02, -3.86690903e-19,\n",
       "           7.76385037e-02],\n",
       "         [-8.80797318e-03, -4.86706208e-18,  3.44389594e-02,\n",
       "           1.29748834e-16],\n",
       "         [-6.69165482e-17,  3.89227342e-01,  1.22773776e-16,\n",
       "           1.07188175e-01],\n",
       "         [ 9.87001421e-02, -4.98804224e-16,  1.50366119e-02,\n",
       "           4.44913764e-17]],\n",
       "\n",
       "        [[ 1.03325146e-01, -1.73330356e-17,  1.19739160e-01,\n",
       "           3.63638630e-16],\n",
       "         [ 5.79926599e-17,  3.44389594e-02,  4.78912845e-17,\n",
       "           1.50366119e-02],\n",
       "         [ 1.19739160e-01,  9.28633701e-17,  4.66995861e-01,\n",
       "           4.23420410e-16],\n",
       "         [ 3.00392489e-16,  1.50366119e-02,  5.26172243e-16,\n",
       "           1.46931274e-01]],\n",
       "\n",
       "        [[ 7.33666138e-17,  7.76385037e-02,  3.91296778e-16,\n",
       "           1.88932088e-01],\n",
       "         [ 3.35316491e-02,  1.30689420e-16,  1.50366119e-02,\n",
       "          -4.18158868e-16],\n",
       "         [ 1.55749028e-16,  1.07188175e-01,  4.54379495e-16,\n",
       "           5.43867592e-01],\n",
       "         [ 1.25582665e-01,  7.83889524e-17,  1.46931274e-01,\n",
       "          -1.32487945e-17]]],\n",
       "\n",
       "\n",
       "       [[[-2.33746242e-16,  8.09045221e-02,  2.79493607e-17,\n",
       "           1.26126117e-01],\n",
       "         [ 1.41953596e-01, -2.21210556e-16,  7.76385037e-02,\n",
       "          -1.42131944e-16],\n",
       "         [ 1.26498584e-16,  9.87001421e-02,  2.97722798e-16,\n",
       "           1.25582665e-01],\n",
       "         [ 6.21237009e-01, -6.25125002e-16,  1.88932088e-01,\n",
       "          -8.61829834e-16]],\n",
       "\n",
       "        [[ 8.09045221e-02, -5.02847202e-16,  3.35316491e-02,\n",
       "           5.72961518e-17],\n",
       "         [-2.19559979e-16,  6.20451205e-02,  6.86194229e-17,\n",
       "           7.44736263e-02],\n",
       "         [ 9.87001421e-02, -1.87671030e-16,  1.50366119e-02,\n",
       "           2.65723473e-16],\n",
       "         [-6.46521821e-16,  4.45769071e-01, -3.95388428e-16,\n",
       "           1.67279523e-01]],\n",
       "\n",
       "        [[ 2.76838403e-17,  3.35316491e-02,  2.26572259e-16,\n",
       "           1.25582665e-01],\n",
       "         [ 7.76385037e-02,  6.50131835e-17,  1.07188175e-01,\n",
       "          -1.65561502e-16],\n",
       "         [ 2.85988070e-16,  1.50366119e-02,  4.66739757e-16,\n",
       "           1.46931274e-01],\n",
       "         [ 1.88932088e-01, -4.51581328e-16,  5.43867592e-01,\n",
       "           5.77305409e-17]],\n",
       "\n",
       "        [[ 1.26126117e-01,  4.95193113e-17,  1.25582665e-01,\n",
       "          -1.03930882e-15],\n",
       "         [-1.60034488e-16,  7.44736263e-02, -1.56523902e-16,\n",
       "           1.67279523e-01],\n",
       "         [ 1.25582665e-01,  2.75005015e-16,  1.46931274e-01,\n",
       "          -7.30599394e-16],\n",
       "         [-6.30690388e-16,  1.67279523e-01, -1.37607954e-16,\n",
       "           6.92386316e-01]]]])"
      ]
     },
     "execution_count": 22,
     "metadata": {},
     "output_type": "execute_result"
    }
   ],
   "source": [
    "eri.reshape((Norbs, Norbs, Norbs, Norbs)).swapaxes(2,3).swapaxes(1,2)"
   ]
  },
  {
   "cell_type": "code",
   "execution_count": 23,
   "metadata": {},
   "outputs": [],
   "source": [
    "fock = h1\n",
    "for p in range(Norbs):\n",
    "    for q in range(Norbs):\n",
    "        fock[p,q] += sum([2 * h2Tensor.array[p,i,q,i] - h2Tensor.array[p,i,i,q] for i in range(Nocc)])"
   ]
  },
  {
   "cell_type": "code",
   "execution_count": 24,
   "metadata": {},
   "outputs": [
    {
     "data": {
      "text/plain": [
       "array([[-5.64675261e-01,  1.38418012e-17, -8.01293097e-08,\n",
       "        -1.11099034e-16],\n",
       "       [ 3.81170846e-16,  2.08757379e-01,  3.85998797e-17,\n",
       "         6.79839383e-08],\n",
       "       [-8.01293098e-08, -1.82623702e-16,  8.28913379e-01,\n",
       "         1.69114098e-16],\n",
       "       [-2.71854981e-16,  6.79839386e-08,  7.40103067e-17,\n",
       "         1.28023524e+00]])"
      ]
     },
     "execution_count": 24,
     "metadata": {},
     "output_type": "execute_result"
    }
   ],
   "source": [
    "fock"
   ]
  },
  {
   "cell_type": "code",
   "execution_count": 25,
   "metadata": {},
   "outputs": [],
   "source": [
    "fockTensor.array = fock"
   ]
  },
  {
   "cell_type": "code",
   "execution_count": 26,
   "metadata": {},
   "outputs": [
    {
     "data": {
      "text/plain": [
       "(array([-0.56467526,  0.82891338,  0.20875738,  1.28023524]),\n",
       " array([[-1.00000000e+00,  5.74985382e-08,  1.78965590e-17,\n",
       "         -6.02192152e-17],\n",
       "        [ 4.92830066e-16,  1.30536998e-17,  1.00000000e+00,\n",
       "          6.34487566e-08],\n",
       "        [-5.74985383e-08, -1.00000000e+00,  2.78319954e-16,\n",
       "          3.81142508e-16],\n",
       "        [-1.47354037e-16,  1.63985677e-16, -6.34487569e-08,\n",
       "          1.00000000e+00]]))"
      ]
     },
     "execution_count": 26,
     "metadata": {},
     "output_type": "execute_result"
    }
   ],
   "source": [
    "np.linalg.eig(fock)"
   ]
  },
  {
   "cell_type": "code",
   "execution_count": 27,
   "metadata": {},
   "outputs": [
    {
     "data": {
      "text/plain": [
       "NPArrayWithTag([-0.56467538,  0.20875728,  0.82891329,  1.28023505])"
      ]
     },
     "execution_count": 27,
     "metadata": {},
     "output_type": "execute_result"
    }
   ],
   "source": [
    "mf.mo_energy"
   ]
  },
  {
   "cell_type": "markdown",
   "metadata": {},
   "source": [
    "Hard code spin-free equations from Bartlett & Shavitt Chapter 12"
   ]
  },
  {
   "cell_type": "code",
   "execution_count": 28,
   "metadata": {},
   "outputs": [],
   "source": [
    "fockDiagrams = fockTensor.getAllDiagrams(vacuum)\n",
    "h2Diagrams = h2Tensor.getAllDiagrams(vacuum)"
   ]
  },
  {
   "cell_type": "code",
   "execution_count": 29,
   "metadata": {},
   "outputs": [
    {
     "name": "stdout",
     "output_type": "stream",
     "text": [
      "f_{h}^{h} f_{h}^{p} f_{p}^{h} f_{p}^{p}\n"
     ]
    }
   ],
   "source": [
    "print(*fockDiagrams)"
   ]
  },
  {
   "cell_type": "code",
   "execution_count": 30,
   "metadata": {},
   "outputs": [
    {
     "name": "stdout",
     "output_type": "stream",
     "text": [
      "[(1, 1), (1, 3), (3, 1), (3, 3)]\n"
     ]
    }
   ],
   "source": [
    "print([fockDiagram.array.shape for fockDiagram in fockDiagrams])"
   ]
  },
  {
   "cell_type": "code",
   "execution_count": 31,
   "metadata": {},
   "outputs": [
    {
     "name": "stdout",
     "output_type": "stream",
     "text": [
      "v_{hh}^{hh} v_{hh}^{hp} v_{hh}^{ph} v_{hh}^{pp} v_{hp}^{hh} v_{hp}^{hp} v_{hp}^{ph} v_{hp}^{pp} v_{ph}^{hh} v_{ph}^{hp} v_{ph}^{ph} v_{ph}^{pp} v_{pp}^{hh} v_{pp}^{hp} v_{pp}^{ph} v_{pp}^{pp}\n"
     ]
    }
   ],
   "source": [
    "print(*h2Diagrams)"
   ]
  },
  {
   "cell_type": "code",
   "execution_count": 32,
   "metadata": {},
   "outputs": [
    {
     "name": "stdout",
     "output_type": "stream",
     "text": [
      "[(1, 1, 1, 1), (1, 1, 1, 3), (1, 1, 3, 1), (1, 1, 3, 3), (1, 3, 1, 1), (1, 3, 1, 3), (1, 3, 3, 1), (1, 3, 3, 3), (3, 1, 1, 1), (3, 1, 1, 3), (3, 1, 3, 1), (3, 1, 3, 3), (3, 3, 1, 1), (3, 3, 1, 3), (3, 3, 3, 1), (3, 3, 3, 3)]\n"
     ]
    }
   ],
   "source": [
    "print([h2Diagram.array.shape for h2Diagram in h2Diagrams])"
   ]
  },
  {
   "cell_type": "code",
   "execution_count": 33,
   "metadata": {},
   "outputs": [],
   "source": [
    "I = Index(\"I\", True)\n",
    "J = Index(\"J\", True)\n",
    "K = Index(\"K\", True)\n",
    "L = Index(\"L\", True)\n",
    "A = Index(\"A\", False)\n",
    "B = Index(\"B\", False)\n",
    "C = Index(\"C\", False)\n",
    "D = Index(\"D\", False)"
   ]
  },
  {
   "cell_type": "code",
   "execution_count": 34,
   "metadata": {},
   "outputs": [],
   "source": [
    "D1 = TensorSum([TensorProduct([h2Diagrams[12]], vertexList=[Vertex(h2Diagrams[12], [A,B], [I,J])])])"
   ]
  },
  {
   "cell_type": "code",
   "execution_count": 35,
   "metadata": {},
   "outputs": [],
   "source": [
    "D2a = TensorSum([TensorProduct([fockDiagrams[3], t2Tensor], vertexList=[Vertex(fockDiagrams[3], [B], [C]), Vertex(t2Tensor, [A,C], [I,J])]), TensorProduct([fockDiagrams[3], t2Tensor], vertexList=[Vertex(fockDiagrams[3], [A], [C]), Vertex(t2Tensor, [B,C], [J,I])])])"
   ]
  },
  {
   "cell_type": "code",
   "execution_count": 36,
   "metadata": {},
   "outputs": [],
   "source": [
    "D2b = TensorSum([TensorProduct([fockDiagrams[0], t2Tensor], vertexList=[Vertex(fockDiagrams[0], [K], [J]), Vertex(t2Tensor, [A,B], [I,K])]), TensorProduct([fockDiagrams[0], t2Tensor], vertexList=[Vertex(fockDiagrams[0], [K], [I]), Vertex(t2Tensor, [B,A], [J,K])])])"
   ]
  },
  {
   "cell_type": "code",
   "execution_count": 37,
   "metadata": {},
   "outputs": [],
   "source": [
    "D2c = TensorSum([TensorProduct([h2Diagrams[15], t2Tensor], vertexList=[Vertex(h2Diagrams[15], [A,B], [C,D]), Vertex(t2Tensor, [C,D], [I,J])]), TensorProduct([h2Diagrams[15], t2Tensor], vertexList=[Vertex(h2Diagrams[15], [B,A], [C,D]), Vertex(t2Tensor, [C,D], [J,I])])])"
   ]
  },
  {
   "cell_type": "code",
   "execution_count": 38,
   "metadata": {},
   "outputs": [],
   "source": [
    "D2d = TensorSum([TensorProduct([h2Diagrams[0], t2Tensor], vertexList=[Vertex(h2Diagrams[0], [K,L], [I,J]), Vertex(t2Tensor, [A,B], [K,L])]), TensorProduct([h2Diagrams[0], t2Tensor], vertexList=[Vertex(h2Diagrams[0], [K,L], [J,I]), Vertex(t2Tensor, [B,A], [K,L])])])"
   ]
  },
  {
   "cell_type": "code",
   "execution_count": 39,
   "metadata": {},
   "outputs": [],
   "source": [
    "D2e = TensorSum([TensorProduct([h2Diagrams[6], t2Tensor], vertexList=[Vertex(h2Diagrams[6], [K,B], [C,J]), Vertex(t2Tensor, [A,C], [I,K])]), TensorProduct([h2Diagrams[6], t2Tensor], vertexList=[Vertex(h2Diagrams[6], [K,A], [C,I]), Vertex(t2Tensor, [B,C], [J,K])])])"
   ]
  },
  {
   "cell_type": "code",
   "execution_count": 40,
   "metadata": {},
   "outputs": [],
   "source": [
    "D2ex1 = TensorSum([TensorProduct([h2Diagrams[6], t2Tensor], vertexList=[Vertex(h2Diagrams[6], [K,B], [C,J]), Vertex(t2Tensor, [A,C], [K,I])]), TensorProduct([h2Diagrams[6], t2Tensor], vertexList=[Vertex(h2Diagrams[6], [K,A], [C,I]), Vertex(t2Tensor, [B,C], [K,J])])])"
   ]
  },
  {
   "cell_type": "code",
   "execution_count": 41,
   "metadata": {},
   "outputs": [],
   "source": [
    "D2ex2 = TensorSum([TensorProduct([h2Diagrams[5], t2Tensor], vertexList=[Vertex(h2Diagrams[5], [K,B], [I,C]), Vertex(t2Tensor, [A,C], [K,J])]), TensorProduct([h2Diagrams[5], t2Tensor], vertexList=[Vertex(h2Diagrams[5], [K,A], [J,C]), Vertex(t2Tensor, [B,C], [K,I])])])"
   ]
  },
  {
   "cell_type": "code",
   "execution_count": 42,
   "metadata": {},
   "outputs": [],
   "source": [
    "D2ex3 = TensorSum([TensorProduct([h2Diagrams[5], t2Tensor], vertexList=[Vertex(h2Diagrams[5], [K,B], [J,C]), Vertex(t2Tensor, [A,C], [I,K])]), TensorProduct([h2Diagrams[5], t2Tensor], vertexList=[Vertex(h2Diagrams[5], [K,A], [I,C]), Vertex(t2Tensor, [B,C], [J,K])])])"
   ]
  },
  {
   "cell_type": "code",
   "execution_count": 43,
   "metadata": {},
   "outputs": [],
   "source": [
    "D3a = TensorSum([TensorProduct([h2Diagrams[3], t2Tensor], vertexList=[Vertex(h2Diagrams[3], [K,L], [C,D]), Vertex(t2Tensor, [C,D], [I,J]), Vertex(t2Tensor, [A,B], [K,L])]), TensorProduct([h2Diagrams[3], t2Tensor], vertexList=[Vertex(h2Diagrams[3], [K,L], [C,D]), Vertex(t2Tensor, [C,D], [J,I]), Vertex(t2Tensor, [B,A], [K,L])])])"
   ]
  },
  {
   "cell_type": "code",
   "execution_count": 44,
   "metadata": {},
   "outputs": [],
   "source": [
    "D3b = TensorSum([TensorProduct([h2Diagrams[3], t2Tensor], vertexList=[Vertex(h2Diagrams[3], [K,L], [C,D]), Vertex(t2Tensor, [A,C], [I,K]), Vertex(t2Tensor, [D,B], [L,J])]), TensorProduct([h2Diagrams[3], t2Tensor], vertexList=[Vertex(h2Diagrams[3], [K,L], [C,D]), Vertex(t2Tensor, [B,C], [J,K]), Vertex(t2Tensor, [D,A], [L,I])])])"
   ]
  },
  {
   "cell_type": "code",
   "execution_count": 45,
   "metadata": {},
   "outputs": [],
   "source": [
    "D3bx1 = TensorSum([TensorProduct([h2Diagrams[3], t2Tensor], vertexList=[Vertex(h2Diagrams[3], [K,L], [C,D]), Vertex(t2Tensor, [A,C], [I,K]), Vertex(t2Tensor, [D,B], [J,L])]), TensorProduct([h2Diagrams[3], t2Tensor], vertexList=[Vertex(h2Diagrams[3], [K,L], [C,D]), Vertex(t2Tensor, [B,C], [J,K]), Vertex(t2Tensor, [D,A], [I,L])])])"
   ]
  },
  {
   "cell_type": "code",
   "execution_count": 46,
   "metadata": {},
   "outputs": [],
   "source": [
    "D3bx2 = TensorSum([TensorProduct([h2Diagrams[3], t2Tensor], vertexList=[Vertex(h2Diagrams[3], [K,L], [C,D]), Vertex(t2Tensor, [C,A], [I,K]), Vertex(t2Tensor, [B,D], [L,J])]), TensorProduct([h2Diagrams[3], t2Tensor], vertexList=[Vertex(h2Diagrams[3], [K,L], [C,D]), Vertex(t2Tensor, [C,B], [J,K]), Vertex(t2Tensor, [A,D], [L,I])])])"
   ]
  },
  {
   "cell_type": "code",
   "execution_count": 47,
   "metadata": {},
   "outputs": [],
   "source": [
    "D3bx3 = TensorSum([TensorProduct([h2Diagrams[3], t2Tensor], vertexList=[Vertex(h2Diagrams[3], [K,L], [C,D]), Vertex(t2Tensor, [A,D], [I,K]), Vertex(t2Tensor, [C,B], [L,J])]), TensorProduct([h2Diagrams[3], t2Tensor], vertexList=[Vertex(h2Diagrams[3], [K,L], [C,D]), Vertex(t2Tensor, [B,D], [J,K]), Vertex(t2Tensor, [C,A], [L,I])])])"
   ]
  },
  {
   "cell_type": "code",
   "execution_count": 48,
   "metadata": {},
   "outputs": [],
   "source": [
    "D3bx4 = TensorSum([TensorProduct([h2Diagrams[3], t2Tensor], vertexList=[Vertex(h2Diagrams[3], [K,L], [C,D]), Vertex(t2Tensor, [A,D], [K,I]), Vertex(t2Tensor, [C,B], [L,J])]), TensorProduct([h2Diagrams[3], t2Tensor], vertexList=[Vertex(h2Diagrams[3], [K,L], [C,D]), Vertex(t2Tensor, [B,D], [K,J]), Vertex(t2Tensor, [C,A], [L,I])])])"
   ]
  },
  {
   "cell_type": "code",
   "execution_count": 49,
   "metadata": {},
   "outputs": [],
   "source": [
    "D3bx5 = TensorSum([TensorProduct([h2Diagrams[3], t2Tensor], vertexList=[Vertex(h2Diagrams[3], [K,L], [C,D]), Vertex(t2Tensor, [C,B], [I,L]), Vertex(t2Tensor, [A,D], [K,J])]), TensorProduct([h2Diagrams[3], t2Tensor], vertexList=[Vertex(h2Diagrams[3], [K,L], [C,D]), Vertex(t2Tensor, [C,A], [J,L]), Vertex(t2Tensor, [B,D], [K,I])])])"
   ]
  },
  {
   "cell_type": "code",
   "execution_count": 50,
   "metadata": {},
   "outputs": [],
   "source": [
    "D3c = TensorSum([TensorProduct([h2Diagrams[3], t2Tensor], vertexList=[Vertex(h2Diagrams[3], [K,L], [C,D]), Vertex(t2Tensor, [C,D], [K,I]), Vertex(t2Tensor, [A,B], [L,J])]), TensorProduct([h2Diagrams[3], t2Tensor], vertexList=[Vertex(h2Diagrams[3], [K,L], [C,D]), Vertex(t2Tensor, [C,D], [K,J]), Vertex(t2Tensor, [B,A], [L,I])])])"
   ]
  },
  {
   "cell_type": "code",
   "execution_count": 51,
   "metadata": {},
   "outputs": [],
   "source": [
    "D3cx = TensorSum([TensorProduct([h2Diagrams[3], t2Tensor], vertexList=[Vertex(h2Diagrams[3], [K,L], [C,D]), Vertex(t2Tensor, [C,D], [I,K]), Vertex(t2Tensor, [A,B], [L,J])]), TensorProduct([h2Diagrams[3], t2Tensor], vertexList=[Vertex(h2Diagrams[3], [K,L], [C,D]), Vertex(t2Tensor, [C,D], [J,K]), Vertex(t2Tensor, [B,A], [L,I])])])"
   ]
  },
  {
   "cell_type": "code",
   "execution_count": 52,
   "metadata": {},
   "outputs": [],
   "source": [
    "D3d = TensorSum([TensorProduct([h2Diagrams[3], t2Tensor], vertexList=[Vertex(h2Diagrams[3], [K,L], [C,D]), Vertex(t2Tensor, [C,A], [K,L]), Vertex(t2Tensor, [D,B], [I,J])]), TensorProduct([h2Diagrams[3], t2Tensor], vertexList=[Vertex(h2Diagrams[3], [K,L], [C,D]), Vertex(t2Tensor, [C,B], [K,L]), Vertex(t2Tensor, [D,A], [J,I])])])"
   ]
  },
  {
   "cell_type": "code",
   "execution_count": 53,
   "metadata": {},
   "outputs": [],
   "source": [
    "D3dx = TensorSum([TensorProduct([h2Diagrams[3], t2Tensor], vertexList=[Vertex(h2Diagrams[3], [K,L], [C,D]), Vertex(t2Tensor, [A,C], [K,L]), Vertex(t2Tensor, [D,B], [I,J])]), TensorProduct([h2Diagrams[3], t2Tensor], vertexList=[Vertex(h2Diagrams[3], [K,L], [C,D]), Vertex(t2Tensor, [B,C], [K,L]), Vertex(t2Tensor, [D,A], [J,I])])])"
   ]
  },
  {
   "cell_type": "code",
   "execution_count": 54,
   "metadata": {},
   "outputs": [],
   "source": [
    "amplitudeDiagrams = [D1, D2a, D2b, D2c, D2d, D2e, D2ex1, D2ex2, D2ex3, D3a, D3b, D3bx1, D3bx2, D3bx3, D3bx4, D3bx5, D3c, D3cx, D3d, D3dx]\n",
    "amplitudeFactors = [1., 1., -1., 0.5, 0.5, 2., -1., -1., -1., 0.5, 2., -2., 0.5, -1., 1., 0.5, -2., 1., -2., 1.]"
   ]
  },
  {
   "cell_type": "code",
   "execution_count": 55,
   "metadata": {},
   "outputs": [
    {
     "name": "stdout",
     "output_type": "stream",
     "text": [
      "1.0 * f_{B}^{C}{t_{2}}_{AC}^{IJ}\n",
      " + 1.0 * f_{A}^{C}{t_{2}}_{BC}^{JI}\n"
     ]
    }
   ],
   "source": [
    "print(D2a)"
   ]
  },
  {
   "cell_type": "code",
   "execution_count": 56,
   "metadata": {},
   "outputs": [
    {
     "data": {
      "text/plain": [
       "(3, 3, 1, 1)"
      ]
     },
     "execution_count": 56,
     "metadata": {},
     "output_type": "execute_result"
    }
   ],
   "source": [
    "D2a.summandList[0].vertexList[1].tensor.array.shape"
   ]
  },
  {
   "cell_type": "code",
   "execution_count": 57,
   "metadata": {},
   "outputs": [
    {
     "data": {
      "text/plain": [
       "(3, 3, 1, 1)"
      ]
     },
     "execution_count": 57,
     "metadata": {},
     "output_type": "execute_result"
    }
   ],
   "source": [
    "contractTensorSum(TensorSum([D2a.summandList[0]])).shape"
   ]
  },
  {
   "cell_type": "code",
   "execution_count": 58,
   "metadata": {},
   "outputs": [],
   "source": [
    "def testContractedArray(tensorProduct_, targetLowerIndexList=[A,B], targetUpperIndexList=[I,J]):\n",
    "    lowerIndexList = list(itertools.chain.from_iterable([vertex.lowerIndices for vertex in tensorProduct_.vertexList]))\n",
    "    upperIndexList = list(itertools.chain.from_iterable([vertex.upperIndices for vertex in tensorProduct_.vertexList]))\n",
    "    lowerIndexLetters = string.ascii_lowercase[:len(lowerIndexList)]\n",
    "    upperIndexLetters = ''\n",
    "    freeLowerIndexMask = np.ones(len(lowerIndexList))\n",
    "    freeUpperIndexMask = np.ones(len(upperIndexList))\n",
    "    nFreeUpperIndices = 0\n",
    "    for uI, upperIndex in enumerate(upperIndexList):\n",
    "        free = True\n",
    "        for lI, lowerIndex in enumerate(lowerIndexList):\n",
    "            if upperIndex == lowerIndex:\n",
    "                #print(upperIndex, lowerIndex)\n",
    "                upperIndexLetters += lowerIndexLetters[lI]\n",
    "                freeLowerIndexMask[lI] = 0\n",
    "                freeUpperIndexMask[uI] = 0\n",
    "                free = False\n",
    "        if free:\n",
    "            upperIndexLetters += string.ascii_lowercase[len(lowerIndexList) + nFreeUpperIndices]\n",
    "            nFreeUpperIndices += 1\n",
    "    newLowerIndexList = [lowerIndex for lI, lowerIndex in enumerate(lowerIndexList) if freeLowerIndexMask[lI]]\n",
    "    newUpperIndexList = [upperIndex for uI, upperIndex in enumerate(upperIndexList) if freeUpperIndexMask[uI]]\n",
    "    summandZero = False\n",
    "    if targetLowerIndexList == None and targetUpperIndexList == None:\n",
    "        targetLowerIndexList = newLowerIndexList\n",
    "        targetUpperIndexList = newUpperIndexList\n",
    "        summandZero = True\n",
    "    freeLowerIndexLetters = \"\".join([lowerIndexLetters[lowerIndexList.index(lowerIndex)] for lowerIndex in targetLowerIndexList])\n",
    "    freeUpperIndexLetters = \"\".join([upperIndexLetters[upperIndexList.index(upperIndex)] for upperIndex in targetUpperIndexList])\n",
    "    einsumSubstrings = []\n",
    "    start = 0\n",
    "    for vertex in tensorProduct_.vertexList:\n",
    "        end = start + vertex.excitationRank\n",
    "        einsumSubstring = lowerIndexLetters[start:end] + upperIndexLetters[start:end]\n",
    "        einsumSubstrings.append(einsumSubstring)\n",
    "        start = end\n",
    "    einsumString = \",\".join(einsumSubstrings)\n",
    "    einsumString += '->' + freeLowerIndexLetters + freeUpperIndexLetters\n",
    "    print(*lowerIndexList, *upperIndexList)\n",
    "    print(*lowerIndexLetters, *upperIndexLetters)\n",
    "    print(*newLowerIndexList, *newUpperIndexList)\n",
    "    print(*freeLowerIndexLetters, *freeUpperIndexLetters)\n",
    "    print(einsumString)\n",
    "    contribution = tensorProduct_.prefactor * np.einsum(einsumString, *[vertex.tensor.array for vertex in tensorProduct_.vertexList])\n",
    "    #print(*newLowerIndexList, *newUpperIndexList)\n",
    "    #if summandZero:\n",
    "    #    return contribution, newLowerIndexList, newUpperIndexList\n",
    "    return contribution"
   ]
  },
  {
   "cell_type": "code",
   "execution_count": 59,
   "metadata": {},
   "outputs": [
    {
     "data": {
      "text/plain": [
       "(3, 3, 1, 1)"
      ]
     },
     "execution_count": 59,
     "metadata": {},
     "output_type": "execute_result"
    }
   ],
   "source": [
    "t2Tensor.array.shape"
   ]
  },
  {
   "cell_type": "code",
   "execution_count": 60,
   "metadata": {},
   "outputs": [
    {
     "name": "stdout",
     "output_type": "stream",
     "text": [
      "B A C C I J\n",
      "a b c c d e\n",
      "B A I J\n",
      "b a d e\n",
      "ac,bcde->bade\n",
      "1.0 * f_{A}^{C}{t_{2}}_{BC}^{JI}\n",
      "[[[[0.]]\n",
      "\n",
      "  [[0.]]\n",
      "\n",
      "  [[0.]]]\n",
      "\n",
      "\n",
      " [[[0.]]\n",
      "\n",
      "  [[0.]]\n",
      "\n",
      "  [[0.]]]\n",
      "\n",
      "\n",
      " [[[0.]]\n",
      "\n",
      "  [[0.]]\n",
      "\n",
      "  [[0.]]]]\n",
      "(3, 3, 1, 1)\n"
     ]
    }
   ],
   "source": [
    "tCA = testContractedArray(D2a.summandList[0])\n",
    "print(D2a.summandList[1])\n",
    "print(tCA)\n",
    "print(tCA.shape)\n",
    "#print(*tCA[1])\n",
    "#print(*tCA[2])"
   ]
  },
  {
   "cell_type": "code",
   "execution_count": 61,
   "metadata": {},
   "outputs": [
    {
     "name": "stdout",
     "output_type": "stream",
     "text": [
      "1.0 * v_{AB}^{IJ}\n",
      "[[[[9.17484084e-02]]\n",
      "\n",
      "  [[6.38930743e-17]]\n",
      "\n",
      "  [[8.09045221e-02]]]\n",
      "\n",
      "\n",
      " [[[4.62971229e-17]]\n",
      "\n",
      "  [[1.03325146e-01]]\n",
      "\n",
      "  [[7.33666138e-17]]]\n",
      "\n",
      "\n",
      " [[[8.09045221e-02]]\n",
      "\n",
      "  [[2.76838403e-17]]\n",
      "\n",
      "  [[1.26126117e-01]]]]\n",
      "1.0 * f_{B}^{C}{t_{2}}_{AC}^{IJ}\n",
      " + 1.0 * f_{A}^{C}{t_{2}}_{BC}^{JI}\n",
      "[[[[0.]]\n",
      "\n",
      "  [[0.]]\n",
      "\n",
      "  [[0.]]]\n",
      "\n",
      "\n",
      " [[[0.]]\n",
      "\n",
      "  [[0.]]\n",
      "\n",
      "  [[0.]]]\n",
      "\n",
      "\n",
      " [[[0.]]\n",
      "\n",
      "  [[0.]]\n",
      "\n",
      "  [[0.]]]]\n",
      "1.0 * f_{K}^{J}{t_{2}}_{AB}^{IK}\n",
      " + 1.0 * f_{K}^{I}{t_{2}}_{BA}^{JK}\n",
      "[[[[0.]]\n",
      "\n",
      "  [[0.]]\n",
      "\n",
      "  [[0.]]]\n",
      "\n",
      "\n",
      " [[[0.]]\n",
      "\n",
      "  [[0.]]\n",
      "\n",
      "  [[0.]]]\n",
      "\n",
      "\n",
      " [[[0.]]\n",
      "\n",
      "  [[0.]]\n",
      "\n",
      "  [[0.]]]]\n",
      "1.0 * v_{AB}^{CD}{t_{2}}_{CD}^{IJ}\n",
      " + 1.0 * v_{BA}^{CD}{t_{2}}_{CD}^{JI}\n",
      "[[[[0.]]\n",
      "\n",
      "  [[0.]]\n",
      "\n",
      "  [[0.]]]\n",
      "\n",
      "\n",
      " [[[0.]]\n",
      "\n",
      "  [[0.]]\n",
      "\n",
      "  [[0.]]]\n",
      "\n",
      "\n",
      " [[[0.]]\n",
      "\n",
      "  [[0.]]\n",
      "\n",
      "  [[0.]]]]\n",
      "1.0 * v_{KL}^{IJ}{t_{2}}_{AB}^{KL}\n",
      " + 1.0 * v_{KL}^{JI}{t_{2}}_{BA}^{KL}\n",
      "[[[[0.]]\n",
      "\n",
      "  [[0.]]\n",
      "\n",
      "  [[0.]]]\n",
      "\n",
      "\n",
      " [[[0.]]\n",
      "\n",
      "  [[0.]]\n",
      "\n",
      "  [[0.]]]\n",
      "\n",
      "\n",
      " [[[0.]]\n",
      "\n",
      "  [[0.]]\n",
      "\n",
      "  [[0.]]]]\n",
      "1.0 * v_{KB}^{CJ}{t_{2}}_{AC}^{IK}\n",
      " + 1.0 * v_{KA}^{CI}{t_{2}}_{BC}^{JK}\n",
      "[[[[0.]]\n",
      "\n",
      "  [[0.]]\n",
      "\n",
      "  [[0.]]]\n",
      "\n",
      "\n",
      " [[[0.]]\n",
      "\n",
      "  [[0.]]\n",
      "\n",
      "  [[0.]]]\n",
      "\n",
      "\n",
      " [[[0.]]\n",
      "\n",
      "  [[0.]]\n",
      "\n",
      "  [[0.]]]]\n",
      "1.0 * v_{KB}^{CJ}{t_{2}}_{AC}^{KI}\n",
      " + 1.0 * v_{KA}^{CI}{t_{2}}_{BC}^{KJ}\n",
      "[[[[0.]]\n",
      "\n",
      "  [[0.]]\n",
      "\n",
      "  [[0.]]]\n",
      "\n",
      "\n",
      " [[[0.]]\n",
      "\n",
      "  [[0.]]\n",
      "\n",
      "  [[0.]]]\n",
      "\n",
      "\n",
      " [[[0.]]\n",
      "\n",
      "  [[0.]]\n",
      "\n",
      "  [[0.]]]]\n",
      "1.0 * v_{KB}^{IC}{t_{2}}_{AC}^{KJ}\n",
      " + 1.0 * v_{KA}^{JC}{t_{2}}_{BC}^{KI}\n",
      "[[[[0.]]\n",
      "\n",
      "  [[0.]]\n",
      "\n",
      "  [[0.]]]\n",
      "\n",
      "\n",
      " [[[0.]]\n",
      "\n",
      "  [[0.]]\n",
      "\n",
      "  [[0.]]]\n",
      "\n",
      "\n",
      " [[[0.]]\n",
      "\n",
      "  [[0.]]\n",
      "\n",
      "  [[0.]]]]\n",
      "1.0 * v_{KB}^{JC}{t_{2}}_{AC}^{IK}\n",
      " + 1.0 * v_{KA}^{IC}{t_{2}}_{BC}^{JK}\n",
      "[[[[0.]]\n",
      "\n",
      "  [[0.]]\n",
      "\n",
      "  [[0.]]]\n",
      "\n",
      "\n",
      " [[[0.]]\n",
      "\n",
      "  [[0.]]\n",
      "\n",
      "  [[0.]]]\n",
      "\n",
      "\n",
      " [[[0.]]\n",
      "\n",
      "  [[0.]]\n",
      "\n",
      "  [[0.]]]]\n",
      "1.0 * v_{KL}^{CD}{t_{2}}_{CD}^{IJ}{t_{2}}_{AB}^{KL}\n",
      " + 1.0 * v_{KL}^{CD}{t_{2}}_{CD}^{JI}{t_{2}}_{BA}^{KL}\n",
      "[[[[0.]]\n",
      "\n",
      "  [[0.]]\n",
      "\n",
      "  [[0.]]]\n",
      "\n",
      "\n",
      " [[[0.]]\n",
      "\n",
      "  [[0.]]\n",
      "\n",
      "  [[0.]]]\n",
      "\n",
      "\n",
      " [[[0.]]\n",
      "\n",
      "  [[0.]]\n",
      "\n",
      "  [[0.]]]]\n",
      "1.0 * v_{KL}^{CD}{t_{2}}_{AC}^{IK}{t_{2}}_{DB}^{LJ}\n",
      " + 1.0 * v_{KL}^{CD}{t_{2}}_{BC}^{JK}{t_{2}}_{DA}^{LI}\n",
      "[[[[0.]]\n",
      "\n",
      "  [[0.]]\n",
      "\n",
      "  [[0.]]]\n",
      "\n",
      "\n",
      " [[[0.]]\n",
      "\n",
      "  [[0.]]\n",
      "\n",
      "  [[0.]]]\n",
      "\n",
      "\n",
      " [[[0.]]\n",
      "\n",
      "  [[0.]]\n",
      "\n",
      "  [[0.]]]]\n",
      "1.0 * v_{KL}^{CD}{t_{2}}_{AC}^{IK}{t_{2}}_{DB}^{JL}\n",
      " + 1.0 * v_{KL}^{CD}{t_{2}}_{BC}^{JK}{t_{2}}_{DA}^{IL}\n",
      "[[[[0.]]\n",
      "\n",
      "  [[0.]]\n",
      "\n",
      "  [[0.]]]\n",
      "\n",
      "\n",
      " [[[0.]]\n",
      "\n",
      "  [[0.]]\n",
      "\n",
      "  [[0.]]]\n",
      "\n",
      "\n",
      " [[[0.]]\n",
      "\n",
      "  [[0.]]\n",
      "\n",
      "  [[0.]]]]\n",
      "1.0 * v_{KL}^{CD}{t_{2}}_{CA}^{IK}{t_{2}}_{BD}^{LJ}\n",
      " + 1.0 * v_{KL}^{CD}{t_{2}}_{CB}^{JK}{t_{2}}_{AD}^{LI}\n",
      "[[[[0.]]\n",
      "\n",
      "  [[0.]]\n",
      "\n",
      "  [[0.]]]\n",
      "\n",
      "\n",
      " [[[0.]]\n",
      "\n",
      "  [[0.]]\n",
      "\n",
      "  [[0.]]]\n",
      "\n",
      "\n",
      " [[[0.]]\n",
      "\n",
      "  [[0.]]\n",
      "\n",
      "  [[0.]]]]\n",
      "1.0 * v_{KL}^{CD}{t_{2}}_{AD}^{IK}{t_{2}}_{CB}^{LJ}\n",
      " + 1.0 * v_{KL}^{CD}{t_{2}}_{BD}^{JK}{t_{2}}_{CA}^{LI}\n",
      "[[[[0.]]\n",
      "\n",
      "  [[0.]]\n",
      "\n",
      "  [[0.]]]\n",
      "\n",
      "\n",
      " [[[0.]]\n",
      "\n",
      "  [[0.]]\n",
      "\n",
      "  [[0.]]]\n",
      "\n",
      "\n",
      " [[[0.]]\n",
      "\n",
      "  [[0.]]\n",
      "\n",
      "  [[0.]]]]\n",
      "1.0 * v_{KL}^{CD}{t_{2}}_{AD}^{KI}{t_{2}}_{CB}^{LJ}\n",
      " + 1.0 * v_{KL}^{CD}{t_{2}}_{BD}^{KJ}{t_{2}}_{CA}^{LI}\n",
      "[[[[0.]]\n",
      "\n",
      "  [[0.]]\n",
      "\n",
      "  [[0.]]]\n",
      "\n",
      "\n",
      " [[[0.]]\n",
      "\n",
      "  [[0.]]\n",
      "\n",
      "  [[0.]]]\n",
      "\n",
      "\n",
      " [[[0.]]\n",
      "\n",
      "  [[0.]]\n",
      "\n",
      "  [[0.]]]]\n",
      "1.0 * v_{KL}^{CD}{t_{2}}_{CB}^{IL}{t_{2}}_{AD}^{KJ}\n",
      " + 1.0 * v_{KL}^{CD}{t_{2}}_{CA}^{JL}{t_{2}}_{BD}^{KI}\n",
      "[[[[0.]]\n",
      "\n",
      "  [[0.]]\n",
      "\n",
      "  [[0.]]]\n",
      "\n",
      "\n",
      " [[[0.]]\n",
      "\n",
      "  [[0.]]\n",
      "\n",
      "  [[0.]]]\n",
      "\n",
      "\n",
      " [[[0.]]\n",
      "\n",
      "  [[0.]]\n",
      "\n",
      "  [[0.]]]]\n",
      "1.0 * v_{KL}^{CD}{t_{2}}_{CD}^{KI}{t_{2}}_{AB}^{LJ}\n",
      " + 1.0 * v_{KL}^{CD}{t_{2}}_{CD}^{KJ}{t_{2}}_{BA}^{LI}\n",
      "[[[[0.]]\n",
      "\n",
      "  [[0.]]\n",
      "\n",
      "  [[0.]]]\n",
      "\n",
      "\n",
      " [[[0.]]\n",
      "\n",
      "  [[0.]]\n",
      "\n",
      "  [[0.]]]\n",
      "\n",
      "\n",
      " [[[0.]]\n",
      "\n",
      "  [[0.]]\n",
      "\n",
      "  [[0.]]]]\n",
      "1.0 * v_{KL}^{CD}{t_{2}}_{CD}^{IK}{t_{2}}_{AB}^{LJ}\n",
      " + 1.0 * v_{KL}^{CD}{t_{2}}_{CD}^{JK}{t_{2}}_{BA}^{LI}\n",
      "[[[[0.]]\n",
      "\n",
      "  [[0.]]\n",
      "\n",
      "  [[0.]]]\n",
      "\n",
      "\n",
      " [[[0.]]\n",
      "\n",
      "  [[0.]]\n",
      "\n",
      "  [[0.]]]\n",
      "\n",
      "\n",
      " [[[0.]]\n",
      "\n",
      "  [[0.]]\n",
      "\n",
      "  [[0.]]]]\n",
      "1.0 * v_{KL}^{CD}{t_{2}}_{CA}^{KL}{t_{2}}_{DB}^{IJ}\n",
      " + 1.0 * v_{KL}^{CD}{t_{2}}_{CB}^{KL}{t_{2}}_{DA}^{JI}\n",
      "[[[[0.]]\n",
      "\n",
      "  [[0.]]\n",
      "\n",
      "  [[0.]]]\n",
      "\n",
      "\n",
      " [[[0.]]\n",
      "\n",
      "  [[0.]]\n",
      "\n",
      "  [[0.]]]\n",
      "\n",
      "\n",
      " [[[0.]]\n",
      "\n",
      "  [[0.]]\n",
      "\n",
      "  [[0.]]]]\n",
      "1.0 * v_{KL}^{CD}{t_{2}}_{AC}^{KL}{t_{2}}_{DB}^{IJ}\n",
      " + 1.0 * v_{KL}^{CD}{t_{2}}_{BC}^{KL}{t_{2}}_{DA}^{JI}\n",
      "[[[[0.]]\n",
      "\n",
      "  [[0.]]\n",
      "\n",
      "  [[0.]]]\n",
      "\n",
      "\n",
      " [[[0.]]\n",
      "\n",
      "  [[0.]]\n",
      "\n",
      "  [[0.]]]\n",
      "\n",
      "\n",
      " [[[0.]]\n",
      "\n",
      "  [[0.]]\n",
      "\n",
      "  [[0.]]]]\n"
     ]
    }
   ],
   "source": [
    "amplitudes = TensorSum([])\n",
    "for d, diagram in enumerate(amplitudeDiagrams):\n",
    "    for summand in diagram.summandList:\n",
    "        amplitudes.summandList.append(copy(summand))\n",
    "        amplitudes.summandList[-1].prefactor *= amplitudeFactors[d]\n",
    "    print(diagram)\n",
    "    print(contractTensorSum(diagram))\n",
    "#    print(amplitudeFactors[d] * contractTensorSum(diagram))"
   ]
  },
  {
   "cell_type": "code",
   "execution_count": 62,
   "metadata": {},
   "outputs": [],
   "source": [
    "#t2Tensor.array[0, 0, 0, 0] = -0.38"
   ]
  },
  {
   "cell_type": "code",
   "execution_count": 63,
   "metadata": {},
   "outputs": [],
   "source": [
    "h2Tensor.array = get2bodyHamiltonianArray(mf)"
   ]
  },
  {
   "cell_type": "code",
   "execution_count": 64,
   "metadata": {},
   "outputs": [],
   "source": [
    "residualTerms = [amplitudeFactors[d] * contractTensorSum(diagram) for d, diagram in enumerate(amplitudeDiagrams)]"
   ]
  },
  {
   "cell_type": "code",
   "execution_count": 65,
   "metadata": {},
   "outputs": [
    {
     "name": "stdout",
     "output_type": "stream",
     "text": [
      "A B I J\n",
      "a b c d\n",
      "A B I J\n",
      "a b c d\n",
      "abcd->abcd\n",
      "B A C C I J\n",
      "a b c c d e\n",
      "B A I J\n",
      "b a d e\n",
      "ac,bcde->bade\n",
      "A B C C J I\n",
      "a b c c d e\n",
      "A B J I\n",
      "a b e d\n",
      "ac,bcde->abed\n",
      "K A B J I K\n",
      "a b c d e a\n",
      "A B J I\n",
      "b c e d\n",
      "ad,bcea->bced\n",
      "K B A I J K\n",
      "a b c d e a\n",
      "B A I J\n",
      "c b d e\n",
      "ad,bcea->cbde\n",
      "A B C D C D I J\n",
      "a b c d c d e f\n",
      "A B I J\n",
      "a b e f\n",
      "abcd,cdef->abef\n",
      "B A C D C D J I\n",
      "a b c d c d e f\n",
      "B A J I\n",
      "b a f e\n",
      "abcd,cdef->bafe\n",
      "K L A B I J K L\n",
      "a b c d e f a b\n",
      "A B I J\n",
      "c d e f\n",
      "abef,cdab->cdef\n",
      "K L B A J I K L\n",
      "a b c d e f a b\n",
      "B A J I\n",
      "d c f e\n",
      "abef,cdab->dcfe\n",
      "K B A C C J I K\n",
      "a b c d d e f a\n",
      "B A J I\n",
      "c b f e\n",
      "abde,cdfa->cbfe\n",
      "K A B C C I J K\n",
      "a b c d d e f a\n",
      "A B I J\n",
      "b c e f\n",
      "abde,cdfa->bcef\n",
      "K B A C C J K I\n",
      "a b c d d e a f\n",
      "B A J I\n",
      "c b f e\n",
      "abde,cdaf->cbfe\n",
      "K A B C C I K J\n",
      "a b c d d e a f\n",
      "A B I J\n",
      "b c e f\n",
      "abde,cdaf->bcef\n",
      "K B A C I C K J\n",
      "a b c d e d a f\n",
      "B A I J\n",
      "c b e f\n",
      "abed,cdaf->cbef\n",
      "K A B C J C K I\n",
      "a b c d e d a f\n",
      "A B J I\n",
      "b c f e\n",
      "abed,cdaf->bcfe\n",
      "K B A C J C I K\n",
      "a b c d e d f a\n",
      "B A J I\n",
      "c b f e\n",
      "abed,cdfa->cbfe\n",
      "K A B C I C J K\n",
      "a b c d e d f a\n",
      "A B I J\n",
      "b c e f\n",
      "abed,cdfa->bcef\n",
      "K L C D A B C D I J K L\n",
      "a b c d e f c d g h a b\n",
      "A B I J\n",
      "e f g h\n",
      "abcd,cdgh,efab->efgh\n",
      "K L C D B A C D J I K L\n",
      "a b c d e f c d g h a b\n",
      "B A J I\n",
      "f e h g\n",
      "abcd,cdgh,efab->fehg\n",
      "K L A C D B C D I K L J\n",
      "a b c d e f d e g a b h\n",
      "A B I J\n",
      "c f g h\n",
      "abde,cdga,efbh->cfgh\n",
      "K L B C D A C D J K L I\n",
      "a b c d e f d e g a b h\n",
      "B A J I\n",
      "f c h g\n",
      "abde,cdga,efbh->fchg\n",
      "K L A C D B C D I K J L\n",
      "a b c d e f d e g a h b\n",
      "A B I J\n",
      "c f g h\n",
      "abde,cdga,efhb->cfgh\n",
      "K L B C D A C D J K I L\n",
      "a b c d e f d e g a h b\n",
      "B A J I\n",
      "f c h g\n",
      "abde,cdga,efhb->fchg\n",
      "K L C A B D C D I K L J\n",
      "a b c d e f c f g a b h\n",
      "A B I J\n",
      "d e g h\n",
      "abcf,cdga,efbh->degh\n",
      "K L C B A D C D J K L I\n",
      "a b c d e f c f g a b h\n",
      "B A J I\n",
      "e d h g\n",
      "abcf,cdga,efbh->edhg\n",
      "K L A D C B C D I K L J\n",
      "a b c d e f e d g a b h\n",
      "A B I J\n",
      "c f g h\n",
      "abed,cdga,efbh->cfgh\n",
      "K L B D C A C D J K L I\n",
      "a b c d e f e d g a b h\n",
      "B A J I\n",
      "f c h g\n",
      "abed,cdga,efbh->fchg\n",
      "K L A D C B C D K I L J\n",
      "a b c d e f e d a g b h\n",
      "A B I J\n",
      "c f g h\n",
      "abed,cdag,efbh->cfgh\n",
      "K L B D C A C D K J L I\n",
      "a b c d e f e d a g b h\n",
      "B A J I\n",
      "f c h g\n",
      "abed,cdag,efbh->fchg\n",
      "K L C B A D C D I L K J\n",
      "a b c d e f c f g b a h\n",
      "B A I J\n",
      "e d g h\n",
      "abcf,cdgb,efah->edgh\n",
      "K L C A B D C D J L K I\n",
      "a b c d e f c f g b a h\n",
      "A B J I\n",
      "d e h g\n",
      "abcf,cdgb,efah->dehg\n",
      "K L C D A B C D K I L J\n",
      "a b c d e f c d a g b h\n",
      "A B I J\n",
      "e f g h\n",
      "abcd,cdag,efbh->efgh\n",
      "K L C D B A C D K J L I\n",
      "a b c d e f c d a g b h\n",
      "B A J I\n",
      "f e h g\n",
      "abcd,cdag,efbh->fehg\n",
      "K L C D A B C D I K L J\n",
      "a b c d e f c d g a b h\n",
      "A B I J\n",
      "e f g h\n",
      "abcd,cdga,efbh->efgh\n",
      "K L C D B A C D J K L I\n",
      "a b c d e f c d g a b h\n",
      "B A J I\n",
      "f e h g\n",
      "abcd,cdga,efbh->fehg\n",
      "K L C A D B C D K L I J\n",
      "a b c d e f c e a b g h\n",
      "A B I J\n",
      "d f g h\n",
      "abce,cdab,efgh->dfgh\n",
      "K L C B D A C D K L J I\n",
      "a b c d e f c e a b g h\n",
      "B A J I\n",
      "f d h g\n",
      "abce,cdab,efgh->fdhg\n",
      "K L A C D B C D K L I J\n",
      "a b c d e f d e a b g h\n",
      "A B I J\n",
      "c f g h\n",
      "abde,cdab,efgh->cfgh\n",
      "K L B C D A C D K L J I\n",
      "a b c d e f d e a b g h\n",
      "B A J I\n",
      "f c h g\n",
      "abde,cdab,efgh->fchg\n"
     ]
    },
    {
     "data": {
      "text/plain": [
       "array([[[[9.17484084e-02]],\n",
       "\n",
       "        [[6.38930743e-17]],\n",
       "\n",
       "        [[8.09045221e-02]]],\n",
       "\n",
       "\n",
       "       [[[4.62971229e-17]],\n",
       "\n",
       "        [[1.03325146e-01]],\n",
       "\n",
       "        [[7.33666138e-17]]],\n",
       "\n",
       "\n",
       "       [[[8.09045221e-02]],\n",
       "\n",
       "        [[2.76838403e-17]],\n",
       "\n",
       "        [[1.26126117e-01]]]])"
      ]
     },
     "execution_count": 65,
     "metadata": {},
     "output_type": "execute_result"
    }
   ],
   "source": [
    "sum([testContractedArray(term) for term in amplitudes.summandList])"
   ]
  },
  {
   "cell_type": "code",
   "execution_count": 66,
   "metadata": {},
   "outputs": [
    {
     "data": {
      "text/plain": [
       "array([[[[9.17484084e-02]],\n",
       "\n",
       "        [[6.38930743e-17]],\n",
       "\n",
       "        [[8.09045221e-02]]],\n",
       "\n",
       "\n",
       "       [[[4.62971229e-17]],\n",
       "\n",
       "        [[1.03325146e-01]],\n",
       "\n",
       "        [[7.33666138e-17]]],\n",
       "\n",
       "\n",
       "       [[[8.09045221e-02]],\n",
       "\n",
       "        [[2.76838403e-17]],\n",
       "\n",
       "        [[1.26126117e-01]]]])"
      ]
     },
     "execution_count": 66,
     "metadata": {},
     "output_type": "execute_result"
    }
   ],
   "source": [
    "contractTensorSum(amplitudes)"
   ]
  },
  {
   "cell_type": "code",
   "execution_count": 67,
   "metadata": {},
   "outputs": [
    {
     "data": {
      "text/plain": [
       "[array([[[[9.17484084e-02]],\n",
       " \n",
       "         [[6.38930743e-17]],\n",
       " \n",
       "         [[8.09045221e-02]]],\n",
       " \n",
       " \n",
       "        [[[4.62971229e-17]],\n",
       " \n",
       "         [[1.03325146e-01]],\n",
       " \n",
       "         [[7.33666138e-17]]],\n",
       " \n",
       " \n",
       "        [[[8.09045221e-02]],\n",
       " \n",
       "         [[2.76838403e-17]],\n",
       " \n",
       "         [[1.26126117e-01]]]]),\n",
       " array([[[[0.]],\n",
       " \n",
       "         [[0.]],\n",
       " \n",
       "         [[0.]]],\n",
       " \n",
       " \n",
       "        [[[0.]],\n",
       " \n",
       "         [[0.]],\n",
       " \n",
       "         [[0.]]],\n",
       " \n",
       " \n",
       "        [[[0.]],\n",
       " \n",
       "         [[0.]],\n",
       " \n",
       "         [[0.]]]]),\n",
       " array([[[[-0.]],\n",
       " \n",
       "         [[-0.]],\n",
       " \n",
       "         [[-0.]]],\n",
       " \n",
       " \n",
       "        [[[-0.]],\n",
       " \n",
       "         [[-0.]],\n",
       " \n",
       "         [[-0.]]],\n",
       " \n",
       " \n",
       "        [[[-0.]],\n",
       " \n",
       "         [[-0.]],\n",
       " \n",
       "         [[-0.]]]]),\n",
       " array([[[[0.]],\n",
       " \n",
       "         [[0.]],\n",
       " \n",
       "         [[0.]]],\n",
       " \n",
       " \n",
       "        [[[0.]],\n",
       " \n",
       "         [[0.]],\n",
       " \n",
       "         [[0.]]],\n",
       " \n",
       " \n",
       "        [[[0.]],\n",
       " \n",
       "         [[0.]],\n",
       " \n",
       "         [[0.]]]]),\n",
       " array([[[[0.]],\n",
       " \n",
       "         [[0.]],\n",
       " \n",
       "         [[0.]]],\n",
       " \n",
       " \n",
       "        [[[0.]],\n",
       " \n",
       "         [[0.]],\n",
       " \n",
       "         [[0.]]],\n",
       " \n",
       " \n",
       "        [[[0.]],\n",
       " \n",
       "         [[0.]],\n",
       " \n",
       "         [[0.]]]]),\n",
       " array([[[[0.]],\n",
       " \n",
       "         [[0.]],\n",
       " \n",
       "         [[0.]]],\n",
       " \n",
       " \n",
       "        [[[0.]],\n",
       " \n",
       "         [[0.]],\n",
       " \n",
       "         [[0.]]],\n",
       " \n",
       " \n",
       "        [[[0.]],\n",
       " \n",
       "         [[0.]],\n",
       " \n",
       "         [[0.]]]]),\n",
       " array([[[[-0.]],\n",
       " \n",
       "         [[-0.]],\n",
       " \n",
       "         [[-0.]]],\n",
       " \n",
       " \n",
       "        [[[-0.]],\n",
       " \n",
       "         [[-0.]],\n",
       " \n",
       "         [[-0.]]],\n",
       " \n",
       " \n",
       "        [[[-0.]],\n",
       " \n",
       "         [[-0.]],\n",
       " \n",
       "         [[-0.]]]]),\n",
       " array([[[[-0.]],\n",
       " \n",
       "         [[-0.]],\n",
       " \n",
       "         [[-0.]]],\n",
       " \n",
       " \n",
       "        [[[-0.]],\n",
       " \n",
       "         [[-0.]],\n",
       " \n",
       "         [[-0.]]],\n",
       " \n",
       " \n",
       "        [[[-0.]],\n",
       " \n",
       "         [[-0.]],\n",
       " \n",
       "         [[-0.]]]]),\n",
       " array([[[[-0.]],\n",
       " \n",
       "         [[-0.]],\n",
       " \n",
       "         [[-0.]]],\n",
       " \n",
       " \n",
       "        [[[-0.]],\n",
       " \n",
       "         [[-0.]],\n",
       " \n",
       "         [[-0.]]],\n",
       " \n",
       " \n",
       "        [[[-0.]],\n",
       " \n",
       "         [[-0.]],\n",
       " \n",
       "         [[-0.]]]]),\n",
       " array([[[[0.]],\n",
       " \n",
       "         [[0.]],\n",
       " \n",
       "         [[0.]]],\n",
       " \n",
       " \n",
       "        [[[0.]],\n",
       " \n",
       "         [[0.]],\n",
       " \n",
       "         [[0.]]],\n",
       " \n",
       " \n",
       "        [[[0.]],\n",
       " \n",
       "         [[0.]],\n",
       " \n",
       "         [[0.]]]]),\n",
       " array([[[[0.]],\n",
       " \n",
       "         [[0.]],\n",
       " \n",
       "         [[0.]]],\n",
       " \n",
       " \n",
       "        [[[0.]],\n",
       " \n",
       "         [[0.]],\n",
       " \n",
       "         [[0.]]],\n",
       " \n",
       " \n",
       "        [[[0.]],\n",
       " \n",
       "         [[0.]],\n",
       " \n",
       "         [[0.]]]]),\n",
       " array([[[[-0.]],\n",
       " \n",
       "         [[-0.]],\n",
       " \n",
       "         [[-0.]]],\n",
       " \n",
       " \n",
       "        [[[-0.]],\n",
       " \n",
       "         [[-0.]],\n",
       " \n",
       "         [[-0.]]],\n",
       " \n",
       " \n",
       "        [[[-0.]],\n",
       " \n",
       "         [[-0.]],\n",
       " \n",
       "         [[-0.]]]]),\n",
       " array([[[[0.]],\n",
       " \n",
       "         [[0.]],\n",
       " \n",
       "         [[0.]]],\n",
       " \n",
       " \n",
       "        [[[0.]],\n",
       " \n",
       "         [[0.]],\n",
       " \n",
       "         [[0.]]],\n",
       " \n",
       " \n",
       "        [[[0.]],\n",
       " \n",
       "         [[0.]],\n",
       " \n",
       "         [[0.]]]]),\n",
       " array([[[[-0.]],\n",
       " \n",
       "         [[-0.]],\n",
       " \n",
       "         [[-0.]]],\n",
       " \n",
       " \n",
       "        [[[-0.]],\n",
       " \n",
       "         [[-0.]],\n",
       " \n",
       "         [[-0.]]],\n",
       " \n",
       " \n",
       "        [[[-0.]],\n",
       " \n",
       "         [[-0.]],\n",
       " \n",
       "         [[-0.]]]]),\n",
       " array([[[[0.]],\n",
       " \n",
       "         [[0.]],\n",
       " \n",
       "         [[0.]]],\n",
       " \n",
       " \n",
       "        [[[0.]],\n",
       " \n",
       "         [[0.]],\n",
       " \n",
       "         [[0.]]],\n",
       " \n",
       " \n",
       "        [[[0.]],\n",
       " \n",
       "         [[0.]],\n",
       " \n",
       "         [[0.]]]]),\n",
       " array([[[[0.]],\n",
       " \n",
       "         [[0.]],\n",
       " \n",
       "         [[0.]]],\n",
       " \n",
       " \n",
       "        [[[0.]],\n",
       " \n",
       "         [[0.]],\n",
       " \n",
       "         [[0.]]],\n",
       " \n",
       " \n",
       "        [[[0.]],\n",
       " \n",
       "         [[0.]],\n",
       " \n",
       "         [[0.]]]]),\n",
       " array([[[[-0.]],\n",
       " \n",
       "         [[-0.]],\n",
       " \n",
       "         [[-0.]]],\n",
       " \n",
       " \n",
       "        [[[-0.]],\n",
       " \n",
       "         [[-0.]],\n",
       " \n",
       "         [[-0.]]],\n",
       " \n",
       " \n",
       "        [[[-0.]],\n",
       " \n",
       "         [[-0.]],\n",
       " \n",
       "         [[-0.]]]]),\n",
       " array([[[[0.]],\n",
       " \n",
       "         [[0.]],\n",
       " \n",
       "         [[0.]]],\n",
       " \n",
       " \n",
       "        [[[0.]],\n",
       " \n",
       "         [[0.]],\n",
       " \n",
       "         [[0.]]],\n",
       " \n",
       " \n",
       "        [[[0.]],\n",
       " \n",
       "         [[0.]],\n",
       " \n",
       "         [[0.]]]]),\n",
       " array([[[[-0.]],\n",
       " \n",
       "         [[-0.]],\n",
       " \n",
       "         [[-0.]]],\n",
       " \n",
       " \n",
       "        [[[-0.]],\n",
       " \n",
       "         [[-0.]],\n",
       " \n",
       "         [[-0.]]],\n",
       " \n",
       " \n",
       "        [[[-0.]],\n",
       " \n",
       "         [[-0.]],\n",
       " \n",
       "         [[-0.]]]]),\n",
       " array([[[[0.]],\n",
       " \n",
       "         [[0.]],\n",
       " \n",
       "         [[0.]]],\n",
       " \n",
       " \n",
       "        [[[0.]],\n",
       " \n",
       "         [[0.]],\n",
       " \n",
       "         [[0.]]],\n",
       " \n",
       " \n",
       "        [[[0.]],\n",
       " \n",
       "         [[0.]],\n",
       " \n",
       "         [[0.]]]])]"
      ]
     },
     "execution_count": 67,
     "metadata": {},
     "output_type": "execute_result"
    }
   ],
   "source": [
    "residualTerms"
   ]
  },
  {
   "cell_type": "code",
   "execution_count": 68,
   "metadata": {},
   "outputs": [],
   "source": [
    "constant = sum(residualTerms[:1])\n",
    "linearFock = sum(residualTerms[1:3])\n",
    "linearFluctuation = sum(residualTerms[3:9])\n",
    "quadratic = sum(residualTerms[9:])"
   ]
  },
  {
   "cell_type": "code",
   "execution_count": 69,
   "metadata": {},
   "outputs": [
    {
     "name": "stdout",
     "output_type": "stream",
     "text": [
      "[[[[0.]]\n",
      "\n",
      "  [[0.]]\n",
      "\n",
      "  [[0.]]]\n",
      "\n",
      "\n",
      " [[[0.]]\n",
      "\n",
      "  [[0.]]\n",
      "\n",
      "  [[0.]]]\n",
      "\n",
      "\n",
      " [[[0.]]\n",
      "\n",
      "  [[0.]]\n",
      "\n",
      "  [[0.]]]]\n"
     ]
    }
   ],
   "source": [
    "supposedLinearFluctuation = residualTerms[3] - residualTerms[4]\n",
    "print(supposedLinearFluctuation)"
   ]
  },
  {
   "cell_type": "code",
   "execution_count": 70,
   "metadata": {},
   "outputs": [
    {
     "name": "stdout",
     "output_type": "stream",
     "text": [
      "[[[[9.17484084e-02]]\n",
      "\n",
      "  [[6.38930743e-17]]\n",
      "\n",
      "  [[8.09045221e-02]]]\n",
      "\n",
      "\n",
      " [[[4.62971229e-17]]\n",
      "\n",
      "  [[1.03325146e-01]]\n",
      "\n",
      "  [[7.33666138e-17]]]\n",
      "\n",
      "\n",
      " [[[8.09045221e-02]]\n",
      "\n",
      "  [[2.76838403e-17]]\n",
      "\n",
      "  [[1.26126117e-01]]]]\n",
      "[[[[0.]]\n",
      "\n",
      "  [[0.]]\n",
      "\n",
      "  [[0.]]]\n",
      "\n",
      "\n",
      " [[[0.]]\n",
      "\n",
      "  [[0.]]\n",
      "\n",
      "  [[0.]]]\n",
      "\n",
      "\n",
      " [[[0.]]\n",
      "\n",
      "  [[0.]]\n",
      "\n",
      "  [[0.]]]]\n",
      "[[[[0.]]\n",
      "\n",
      "  [[0.]]\n",
      "\n",
      "  [[0.]]]\n",
      "\n",
      "\n",
      " [[[0.]]\n",
      "\n",
      "  [[0.]]\n",
      "\n",
      "  [[0.]]]\n",
      "\n",
      "\n",
      " [[[0.]]\n",
      "\n",
      "  [[0.]]\n",
      "\n",
      "  [[0.]]]]\n",
      "[[[[0.]]\n",
      "\n",
      "  [[0.]]\n",
      "\n",
      "  [[0.]]]\n",
      "\n",
      "\n",
      " [[[0.]]\n",
      "\n",
      "  [[0.]]\n",
      "\n",
      "  [[0.]]]\n",
      "\n",
      "\n",
      " [[[0.]]\n",
      "\n",
      "  [[0.]]\n",
      "\n",
      "  [[0.]]]]\n"
     ]
    }
   ],
   "source": [
    "print(constant)\n",
    "print(linearFock)\n",
    "print(linearFluctuation)\n",
    "print(quadratic)"
   ]
  },
  {
   "cell_type": "code",
   "execution_count": 71,
   "metadata": {},
   "outputs": [
    {
     "data": {
      "text/plain": [
       "array([[[[9.17484084e-02]],\n",
       "\n",
       "        [[6.38930743e-17]],\n",
       "\n",
       "        [[8.09045221e-02]]],\n",
       "\n",
       "\n",
       "       [[[4.62971229e-17]],\n",
       "\n",
       "        [[1.03325146e-01]],\n",
       "\n",
       "        [[7.33666138e-17]]],\n",
       "\n",
       "\n",
       "       [[[8.09045221e-02]],\n",
       "\n",
       "        [[2.76838403e-17]],\n",
       "\n",
       "        [[1.26126117e-01]]]])"
      ]
     },
     "execution_count": 71,
     "metadata": {},
     "output_type": "execute_result"
    }
   ],
   "source": [
    "constant + linearFock + supposedLinearFluctuation + quadratic"
   ]
  },
  {
   "cell_type": "code",
   "execution_count": 72,
   "metadata": {},
   "outputs": [
    {
     "data": {
      "text/plain": [
       "array([[[[9.17484084e-02]],\n",
       "\n",
       "        [[6.38930743e-17]],\n",
       "\n",
       "        [[8.09045221e-02]]],\n",
       "\n",
       "\n",
       "       [[[4.62971229e-17]],\n",
       "\n",
       "        [[1.03325146e-01]],\n",
       "\n",
       "        [[7.33666138e-17]]],\n",
       "\n",
       "\n",
       "       [[[8.09045221e-02]],\n",
       "\n",
       "        [[2.76838403e-17]],\n",
       "\n",
       "        [[1.26126117e-01]]]])"
      ]
     },
     "execution_count": 72,
     "metadata": {},
     "output_type": "execute_result"
    }
   ],
   "source": [
    "sum(residualTerms)"
   ]
  },
  {
   "cell_type": "code",
   "execution_count": 73,
   "metadata": {},
   "outputs": [
    {
     "data": {
      "text/plain": [
       "array([[[[0.]],\n",
       "\n",
       "        [[0.]],\n",
       "\n",
       "        [[0.]]],\n",
       "\n",
       "\n",
       "       [[[0.]],\n",
       "\n",
       "        [[0.]],\n",
       "\n",
       "        [[0.]]],\n",
       "\n",
       "\n",
       "       [[[0.]],\n",
       "\n",
       "        [[0.]],\n",
       "\n",
       "        [[0.]]]])"
      ]
     },
     "execution_count": 73,
     "metadata": {},
     "output_type": "execute_result"
    }
   ],
   "source": [
    "sum(residualTerms[9:])"
   ]
  },
  {
   "cell_type": "code",
   "execution_count": 74,
   "metadata": {},
   "outputs": [
    {
     "data": {
      "text/plain": [
       "array([[[[9.17484084e-02]],\n",
       "\n",
       "        [[6.38930743e-17]],\n",
       "\n",
       "        [[8.09045221e-02]]],\n",
       "\n",
       "\n",
       "       [[[4.62971229e-17]],\n",
       "\n",
       "        [[1.03325146e-01]],\n",
       "\n",
       "        [[7.33666138e-17]]],\n",
       "\n",
       "\n",
       "       [[[8.09045221e-02]],\n",
       "\n",
       "        [[2.76838403e-17]],\n",
       "\n",
       "        [[1.26126117e-01]]]])"
      ]
     },
     "execution_count": 74,
     "metadata": {},
     "output_type": "execute_result"
    }
   ],
   "source": [
    "sum(residualTerms[:5]) + sum(residualTerms[9:])"
   ]
  },
  {
   "cell_type": "code",
   "execution_count": 75,
   "metadata": {},
   "outputs": [],
   "source": [
    "Ej = TensorSum([TensorProduct([h2Diagrams[3], t2Tensor], vertexList=[Vertex(h2Diagrams[3], [I,J], [A,B]), Vertex(t2Tensor, [A,B], [I,J])])])\n",
    "Ek = TensorSum([TensorProduct([h2Diagrams[3], t2Tensor], vertexList=[Vertex(h2Diagrams[3], [I,J], [B,A]), Vertex(t2Tensor, [A,B], [I,J])])])"
   ]
  },
  {
   "cell_type": "code",
   "execution_count": 76,
   "metadata": {},
   "outputs": [
    {
     "name": "stdout",
     "output_type": "stream",
     "text": [
      "0.0\n"
     ]
    }
   ],
   "source": [
    "ECCD = 2 * contractTensorSum(Ej) - contractTensorSum(Ek)\n",
    "print(ECCD)"
   ]
  },
  {
   "cell_type": "code",
   "execution_count": 77,
   "metadata": {},
   "outputs": [],
   "source": [
    "def getCCDEnergy(doublesTensor):\n",
    "    Ej = TensorSum([TensorProduct([h2Diagrams[3], doublesTensor], vertexList=[Vertex(h2Diagrams[3], [I,J], [A,B]), Vertex(doublesTensor, [A,B], [I,J])])])\n",
    "    Ek = TensorSum([TensorProduct([h2Diagrams[3], doublesTensor], vertexList=[Vertex(h2Diagrams[3], [I,J], [B,A]), Vertex(doublesTensor, [A,B], [I,J])])])\n",
    "    return 2 * contractTensorSum(Ej) - contractTensorSum(Ek)"
   ]
  },
  {
   "cell_type": "code",
   "execution_count": 78,
   "metadata": {},
   "outputs": [
    {
     "data": {
      "text/plain": [
       "array([[[[0.]],\n",
       "\n",
       "        [[0.]],\n",
       "\n",
       "        [[0.]]],\n",
       "\n",
       "\n",
       "       [[[0.]],\n",
       "\n",
       "        [[0.]],\n",
       "\n",
       "        [[0.]]],\n",
       "\n",
       "\n",
       "       [[[0.]],\n",
       "\n",
       "        [[0.]],\n",
       "\n",
       "        [[0.]]]])"
      ]
     },
     "execution_count": 78,
     "metadata": {},
     "output_type": "execute_result"
    }
   ],
   "source": [
    "t2Tensor.array * ECCD"
   ]
  },
  {
   "cell_type": "code",
   "execution_count": 79,
   "metadata": {},
   "outputs": [
    {
     "name": "stdout",
     "output_type": "stream",
     "text": [
      "1.0 * v_{IJ}^{AB}{t_{2}}_{AB}^{IJ}\n",
      "1.0 * v_{IJ}^{BA}{t_{2}}_{AB}^{IJ}\n"
     ]
    }
   ],
   "source": [
    "print(Ej)\n",
    "print(Ek)"
   ]
  },
  {
   "cell_type": "markdown",
   "metadata": {},
   "source": [
    "Coupled cluster"
   ]
  },
  {
   "cell_type": "code",
   "execution_count": 80,
   "metadata": {},
   "outputs": [
    {
     "name": "stdout",
     "output_type": "stream",
     "text": [
      "[0. 0. 0. 0. 0. 0. 0. 0. 0.]\n"
     ]
    }
   ],
   "source": [
    "print(t2Tensor.array.reshape((-1)))"
   ]
  },
  {
   "cell_type": "code",
   "execution_count": 81,
   "metadata": {},
   "outputs": [],
   "source": [
    "residualTensor = Tensor(\"R\", ['p', 'p'], ['h', 'h'])"
   ]
  },
  {
   "cell_type": "code",
   "execution_count": 82,
   "metadata": {},
   "outputs": [],
   "source": [
    "residualTensor.array = contractTensorSum(amplitudes)"
   ]
  },
  {
   "cell_type": "code",
   "execution_count": 83,
   "metadata": {},
   "outputs": [
    {
     "name": "stdout",
     "output_type": "stream",
     "text": [
      "[9.17484084e-02 6.38930743e-17 8.09045221e-02 4.62971229e-17\n",
      " 1.03325146e-01 7.33666138e-17 8.09045221e-02 2.76838403e-17\n",
      " 1.26126117e-01]\n"
     ]
    }
   ],
   "source": [
    "print(residualTensor.array.reshape((-1)))"
   ]
  },
  {
   "cell_type": "code",
   "execution_count": 84,
   "metadata": {},
   "outputs": [
    {
     "name": "stdout",
     "output_type": "stream",
     "text": [
      "[[[[0.]]\n",
      "\n",
      "  [[0.]]\n",
      "\n",
      "  [[0.]]]\n",
      "\n",
      "\n",
      " [[[0.]]\n",
      "\n",
      "  [[0.]]\n",
      "\n",
      "  [[0.]]]\n",
      "\n",
      "\n",
      " [[[0.]]\n",
      "\n",
      "  [[0.]]\n",
      "\n",
      "  [[0.]]]]\n"
     ]
    }
   ],
   "source": [
    "print(t2Tensor.array)"
   ]
  },
  {
   "cell_type": "code",
   "execution_count": 85,
   "metadata": {},
   "outputs": [],
   "source": [
    "def doublesAmplitudesToVector(doublesAmplitudeTensor):\n",
    "    vec = []\n",
    "#    for i in range()\n",
    "    return vec"
   ]
  },
  {
   "cell_type": "code",
   "execution_count": 86,
   "metadata": {},
   "outputs": [],
   "source": [
    "def testAmplitudes(amplitudeVector):\n",
    "    t2Tensor.array = amplitudeVector.reshape(t2Tensor.array.shape)\n",
    "    residualTensor.array = contractTensorSum(amplitudes)\n",
    "    return residualTensor.array.reshape((-1))"
   ]
  },
  {
   "cell_type": "code",
   "execution_count": 87,
   "metadata": {},
   "outputs": [],
   "source": [
    "def getDoublesMP2Amplitudes(doublesTensor):\n",
    "    mp2Amplitudes = np.zeros_like(doublesTensor.array)\n",
    "    for i in range(mp2Amplitudes.shape[0]):\n",
    "        for j in range(mp2Amplitudes.shape[1]):\n",
    "            for k in range(mp2Amplitudes.shape[2]):\n",
    "                for l in range(mp2Amplitudes.shape[3]):\n",
    "#                    mp2Amplitudes[i,j,k,l] = -(2 - (i==j)) * h2Diagrams[12].array[i,j,k,l] / (fock[i + Nocc, i + Nocc] + fock[j + Nocc, j + Nocc] - fock[k, k] - fock[l, l])\n",
    "                    mp2Amplitudes[i,j,k,l] = -h2Diagrams[12].array[i,j,k,l] / (fock[i + Nocc, i + Nocc] + fock[j + Nocc, j + Nocc] - fock[k, k] - fock[l, l])\n",
    "    return mp2Amplitudes"
   ]
  },
  {
   "cell_type": "code",
   "execution_count": 88,
   "metadata": {},
   "outputs": [],
   "source": [
    "def iterateDoublesAmplitudes(doublesTensor, residual):\n",
    "    amplitudes = doublesTensor.array\n",
    "    for i in range(amplitudes.shape[0]):\n",
    "        for j in range(amplitudes.shape[1]):\n",
    "            for k in range(amplitudes.shape[2]):\n",
    "                for l in range(amplitudes.shape[3]):\n",
    "#                    mp2Amplitudes[i,j,k,l] = (2 - (i==j)) * residual.array[i,j,k,l] / (fock[i + Nocc, i + Nocc] + fock[j + Nocc, j + Nocc] - fock[k, k] - fock[l, l])\n",
    "                    amplitudes[i,j,k,l] -= residual.array[i,j,k,l] / (fock[i + Nocc, i + Nocc] + fock[j + Nocc, j + Nocc] - fock[k, k] - fock[l, l])\n",
    "    return amplitudes"
   ]
  },
  {
   "cell_type": "code",
   "execution_count": 89,
   "metadata": {},
   "outputs": [
    {
     "data": {
      "text/plain": [
       "array([[[[-5.93124751e-02]],\n",
       "\n",
       "        [[-2.94842856e-17]],\n",
       "\n",
       "        [[-3.08991288e-02]]],\n",
       "\n",
       "\n",
       "       [[[-2.13644062e-17]],\n",
       "\n",
       "        [[-3.70716089e-02]],\n",
       "\n",
       "        [[-2.26545108e-17]]],\n",
       "\n",
       "\n",
       "       [[[-3.08991288e-02]],\n",
       "\n",
       "        [[-8.54835499e-18]],\n",
       "\n",
       "        [[-3.41821777e-02]]]])"
      ]
     },
     "execution_count": 89,
     "metadata": {},
     "output_type": "execute_result"
    }
   ],
   "source": [
    "iterateDoublesAmplitudes(t2Tensor, h2Diagrams[12])"
   ]
  },
  {
   "cell_type": "code",
   "execution_count": 90,
   "metadata": {},
   "outputs": [],
   "source": [
    "t2Tensor.array = np.zeros_like(t2Tensor.array)"
   ]
  },
  {
   "cell_type": "code",
   "execution_count": 91,
   "metadata": {},
   "outputs": [],
   "source": [
    "Energy = getCCDEnergy(t2Tensor)"
   ]
  },
  {
   "cell_type": "code",
   "execution_count": 92,
   "metadata": {},
   "outputs": [
    {
     "name": "stdout",
     "output_type": "stream",
     "text": [
      "[[[[0.]]\n",
      "\n",
      "  [[0.]]\n",
      "\n",
      "  [[0.]]]\n",
      "\n",
      "\n",
      " [[[0.]]\n",
      "\n",
      "  [[0.]]\n",
      "\n",
      "  [[0.]]]\n",
      "\n",
      "\n",
      " [[[0.]]\n",
      "\n",
      "  [[0.]]\n",
      "\n",
      "  [[0.]]]]\n"
     ]
    }
   ],
   "source": [
    "print(t2Tensor.array)"
   ]
  },
  {
   "cell_type": "code",
   "execution_count": 93,
   "metadata": {},
   "outputs": [
    {
     "name": "stdout",
     "output_type": "stream",
     "text": [
      "[[[[-5.93124751e-02]]\n",
      "\n",
      "  [[-2.94842856e-17]]\n",
      "\n",
      "  [[-3.08991288e-02]]]\n",
      "\n",
      "\n",
      " [[[-2.13644062e-17]]\n",
      "\n",
      "  [[-3.70716089e-02]]\n",
      "\n",
      "  [[-2.26545108e-17]]]\n",
      "\n",
      "\n",
      " [[[-3.08991288e-02]]\n",
      "\n",
      "  [[-8.54835499e-18]]\n",
      "\n",
      "  [[-3.41821777e-02]]]]\n"
     ]
    }
   ],
   "source": [
    "print(getDoublesMP2Amplitudes(t2Tensor))"
   ]
  },
  {
   "cell_type": "code",
   "execution_count": 94,
   "metadata": {},
   "outputs": [],
   "source": [
    "def convergeDoublesAmplitudes():\n",
    "    t2Tensor.array = np.zeros_like(t2Tensor.array)\n",
    "#    t2Tensor.array = trueAmplitudeArray\n",
    "    Energy = getCCDEnergy(t2Tensor)\n",
    "    residualTensor.array = h2Diagrams[12].array\n",
    "    while True:\n",
    "        print(Energy)\n",
    "        t2Tensor.array = iterateDoublesAmplitudes(t2Tensor, residualTensor)\n",
    "        residualTensor.array = contractTensorSum(amplitudes)\n",
    "        Energy = getCCDEnergy(t2Tensor)\n",
    "#        newEnergy = getCCDEnergy(t2Tensor)\n",
    "#        if abs(newEnergy - Energy) < 0.00000001:\n",
    "        if np.all(abs(residualTensor.array) < 0.0000000000000001):\n",
    "            break\n",
    "#        Energy = newEnergy\n",
    "    print(Energy)\n",
    "    print(t2Tensor.array)"
   ]
  },
  {
   "cell_type": "code",
   "execution_count": 95,
   "metadata": {},
   "outputs": [
    {
     "data": {
      "text/plain": [
       "array([[[[9.17484084e-02]],\n",
       "\n",
       "        [[6.38930743e-17]],\n",
       "\n",
       "        [[8.09045221e-02]]],\n",
       "\n",
       "\n",
       "       [[[4.62971229e-17]],\n",
       "\n",
       "        [[1.03325146e-01]],\n",
       "\n",
       "        [[7.33666138e-17]]],\n",
       "\n",
       "\n",
       "       [[[8.09045221e-02]],\n",
       "\n",
       "        [[2.76838403e-17]],\n",
       "\n",
       "        [[1.26126117e-01]]]])"
      ]
     },
     "execution_count": 95,
     "metadata": {},
     "output_type": "execute_result"
    }
   ],
   "source": [
    "residualTensor.array"
   ]
  },
  {
   "cell_type": "code",
   "execution_count": 170,
   "metadata": {},
   "outputs": [
    {
     "data": {
      "text/plain": [
       "(-0.027384725833890754,\n",
       " (array([[0., 0., 0.]]), array([[0., 0., 0.]])),\n",
       " (array([[[[0., 0., 0.],\n",
       "           [0., 0., 0.],\n",
       "           [0., 0., 0.]]]]),\n",
       "  array([[[[-1.00150759e-01, -3.56674702e-17, -5.09840280e-02],\n",
       "           [-1.91402868e-17, -4.56719620e-02, -6.00589164e-17],\n",
       "           [-5.09840280e-02, -3.20448951e-17, -4.14451365e-02]]]]),\n",
       "  array([[[[0., 0., 0.],\n",
       "           [0., 0., 0.],\n",
       "           [0., 0., 0.]]]])))"
      ]
     },
     "execution_count": 170,
     "metadata": {},
     "output_type": "execute_result"
    }
   ],
   "source": [
    "trueCCD.kernel()"
   ]
  },
  {
   "cell_type": "code",
   "execution_count": 171,
   "metadata": {},
   "outputs": [
    {
     "name": "stdout",
     "output_type": "stream",
     "text": [
      "0.0\n",
      "-0.01858327844380032\n",
      "-0.024338688080780043\n",
      "-0.026258028934063937\n",
      "-0.026948474547471984\n",
      "-0.02721103919349661\n",
      "-0.02731445883556027\n",
      "-0.027356042437742843\n",
      "-0.02737295871979066\n",
      "-0.027379885135130934\n",
      "-0.027382731413169607\n",
      "-0.027383903382645118\n",
      "-0.027384386487644026\n",
      "-0.027384585756915897\n",
      "-0.027384667980100502\n",
      "-0.02738470191425738\n",
      "-0.027384715920808215\n",
      "-0.02738472170250636\n",
      "-0.027384724089204397\n",
      "-0.02738472507446315\n",
      "-0.027384725481196456\n",
      "-0.027384725649105195\n",
      "-0.027384725718422157\n",
      "-0.027384725747038055\n",
      "-0.0273847257588515\n",
      "-0.02738472576372844\n",
      "-0.02738472576574178\n",
      "-0.02738472576657294\n",
      "-0.027384725766916064\n",
      "-0.027384725767057715\n",
      "-0.027384725767116203\n",
      "-0.02738472576714034\n",
      "-0.027384725767150304\n",
      "-0.027384725767154425\n",
      "-0.027384725767156125\n",
      "-0.027384725767156816\n",
      "-0.0273847257671571\n",
      "-0.027384725767157225\n",
      "-0.02738472576715727\n",
      "-0.027384725767157295\n",
      "[[[[-1.00150758e-01]]\n",
      "\n",
      "  [[-1.92328091e-16]]\n",
      "\n",
      "  [[-5.09840279e-02]]]\n",
      "\n",
      "\n",
      " [[[ 1.24347205e-16]]\n",
      "\n",
      "  [[-4.56719620e-02]]\n",
      "\n",
      "  [[-2.53910966e-16]]]\n",
      "\n",
      "\n",
      " [[[-5.09840279e-02]]\n",
      "\n",
      "  [[ 2.96229110e-16]]\n",
      "\n",
      "  [[-4.14451365e-02]]]]\n"
     ]
    }
   ],
   "source": [
    "convergeDoublesAmplitudes()"
   ]
  },
  {
   "cell_type": "code",
   "execution_count": 98,
   "metadata": {},
   "outputs": [
    {
     "data": {
      "text/plain": [
       "array([[[[ 4.16333634e-17]],\n",
       "\n",
       "        [[ 8.40009911e-18]],\n",
       "\n",
       "        [[ 9.90960786e-17]]],\n",
       "\n",
       "\n",
       "       [[[-9.19585231e-18]],\n",
       "\n",
       "        [[-3.51823605e-17]],\n",
       "\n",
       "        [[ 1.92923914e-17]]],\n",
       "\n",
       "\n",
       "       [[[ 4.01154804e-17]],\n",
       "\n",
       "        [[-2.63903821e-17]],\n",
       "\n",
       "        [[-3.64291930e-17]]]])"
      ]
     },
     "execution_count": 98,
     "metadata": {},
     "output_type": "execute_result"
    }
   ],
   "source": [
    "residualTensor.array"
   ]
  },
  {
   "cell_type": "code",
   "execution_count": 99,
   "metadata": {},
   "outputs": [
    {
     "data": {
      "text/plain": [
       "(-0.02754924051347242,\n",
       " (array([[-5.46837800e-16,  8.78987007e-03,  1.66942383e-16]]),\n",
       "  array([[-4.90379607e-16,  8.78987007e-03,  1.71047985e-16]])),\n",
       " (array([[[[0., 0., 0.],\n",
       "           [0., 0., 0.],\n",
       "           [0., 0., 0.]]]]),\n",
       "  array([[[[-1.00108543e-01, -8.89555065e-17, -5.16134266e-02],\n",
       "           [-6.87692457e-17, -4.53856765e-02, -5.19382925e-17],\n",
       "           [-5.16134266e-02, -2.31946442e-17, -4.22705615e-02]]]]),\n",
       "  array([[[[0., 0., 0.],\n",
       "           [0., 0., 0.],\n",
       "           [0., 0., 0.]]]])))"
      ]
     },
     "execution_count": 99,
     "metadata": {},
     "output_type": "execute_result"
    }
   ],
   "source": [
    "trueCCD"
   ]
  },
  {
   "cell_type": "code",
   "execution_count": 100,
   "metadata": {},
   "outputs": [
    {
     "data": {
      "text/plain": [
       "array([[[[-1.00150758e-01]],\n",
       "\n",
       "        [[-1.92328091e-16]],\n",
       "\n",
       "        [[-5.09840279e-02]]],\n",
       "\n",
       "\n",
       "       [[[ 1.24347205e-16]],\n",
       "\n",
       "        [[-4.56719620e-02]],\n",
       "\n",
       "        [[-2.53910966e-16]]],\n",
       "\n",
       "\n",
       "       [[[-5.09840279e-02]],\n",
       "\n",
       "        [[ 2.96229110e-16]],\n",
       "\n",
       "        [[-4.14451365e-02]]]])"
      ]
     },
     "execution_count": 100,
     "metadata": {},
     "output_type": "execute_result"
    }
   ],
   "source": [
    "t2Tensor.array"
   ]
  },
  {
   "cell_type": "code",
   "execution_count": 101,
   "metadata": {},
   "outputs": [
    {
     "data": {
      "text/plain": [
       "array([[[[-1.00108543e-01]],\n",
       "\n",
       "        [[-8.89555065e-17]],\n",
       "\n",
       "        [[-5.16134266e-02]]],\n",
       "\n",
       "\n",
       "       [[[-6.87692457e-17]],\n",
       "\n",
       "        [[-4.53856765e-02]],\n",
       "\n",
       "        [[-5.19382925e-17]]],\n",
       "\n",
       "\n",
       "       [[[-5.16134266e-02]],\n",
       "\n",
       "        [[-2.31946442e-17]],\n",
       "\n",
       "        [[-4.22705615e-02]]]])"
      ]
     },
     "execution_count": 101,
     "metadata": {},
     "output_type": "execute_result"
    }
   ],
   "source": [
    "trueAmplitudeArray"
   ]
  },
  {
   "cell_type": "code",
   "execution_count": 102,
   "metadata": {},
   "outputs": [
    {
     "data": {
      "text/plain": [
       "array([-1.25193285e-01,  1.21574507e-09, -9.59743061e-02, -2.11597919e-09,\n",
       "       -4.67115764e-02,  3.88925452e-10,  4.50300633e-02, -8.79183171e-10,\n",
       "       -2.76078403e-02])"
      ]
     },
     "execution_count": 102,
     "metadata": {},
     "output_type": "execute_result"
    }
   ],
   "source": [
    "t2Tensor.array = getDoublesMP2Amplitudes(t2Tensor)\n",
    "fsolve(testAmplitudes, t2Tensor.array.reshape((-1)))"
   ]
  },
  {
   "cell_type": "code",
   "execution_count": 103,
   "metadata": {},
   "outputs": [
    {
     "data": {
      "text/plain": [
       "array([[[[-1.25193285e-01]],\n",
       "\n",
       "        [[ 8.09790572e-10]],\n",
       "\n",
       "        [[-9.59743043e-02]]],\n",
       "\n",
       "\n",
       "       [[[-1.40887435e-09]],\n",
       "\n",
       "        [[-4.67115763e-02]],\n",
       "\n",
       "        [[ 2.63123857e-10]]],\n",
       "\n",
       "\n",
       "       [[[ 4.50300594e-02]],\n",
       "\n",
       "        [[-5.88652350e-10]],\n",
       "\n",
       "        [[-2.76078409e-02]]]])"
      ]
     },
     "execution_count": 103,
     "metadata": {},
     "output_type": "execute_result"
    }
   ],
   "source": [
    "t2Tensor.array"
   ]
  },
  {
   "cell_type": "code",
   "execution_count": 104,
   "metadata": {},
   "outputs": [
    {
     "data": {
      "text/plain": [
       "-0.023916454602257702"
      ]
     },
     "execution_count": 104,
     "metadata": {},
     "output_type": "execute_result"
    }
   ],
   "source": [
    "2 * contractTensorSum(Ej) - contractTensorSum(Ek)"
   ]
  },
  {
   "cell_type": "code",
   "execution_count": 105,
   "metadata": {},
   "outputs": [
    {
     "data": {
      "text/plain": [
       "array([[[[-1.00108543e-01]],\n",
       "\n",
       "        [[-8.89555065e-17]],\n",
       "\n",
       "        [[-5.16134266e-02]]],\n",
       "\n",
       "\n",
       "       [[[-6.87692457e-17]],\n",
       "\n",
       "        [[-4.53856765e-02]],\n",
       "\n",
       "        [[-5.19382925e-17]]],\n",
       "\n",
       "\n",
       "       [[[-5.16134266e-02]],\n",
       "\n",
       "        [[-2.31946442e-17]],\n",
       "\n",
       "        [[-4.22705615e-02]]]])"
      ]
     },
     "execution_count": 105,
     "metadata": {},
     "output_type": "execute_result"
    }
   ],
   "source": [
    "trueAmplitudeArray"
   ]
  },
  {
   "cell_type": "code",
   "execution_count": 106,
   "metadata": {},
   "outputs": [
    {
     "data": {
      "text/plain": [
       "array([[[[ 7.76592766e-13]],\n",
       "\n",
       "        [[ 1.76101135e-13]],\n",
       "\n",
       "        [[-5.42563498e-14]]],\n",
       "\n",
       "\n",
       "       [[[ 1.76083539e-13]],\n",
       "\n",
       "        [[-4.36852702e-14]],\n",
       "\n",
       "        [[ 1.88955376e-12]]],\n",
       "\n",
       "\n",
       "       [[[-5.42951101e-14]],\n",
       "\n",
       "        [[ 1.88950807e-12]],\n",
       "\n",
       "        [[-4.65148211e-14]]]])"
      ]
     },
     "execution_count": 106,
     "metadata": {},
     "output_type": "execute_result"
    }
   ],
   "source": [
    "residualTensor.array"
   ]
  },
  {
   "cell_type": "code",
   "execution_count": 107,
   "metadata": {},
   "outputs": [],
   "source": [
    "def amplitudesToVector(amplitudeTensor):\n",
    "    amplitudeArray = amplitudeTensor.array"
   ]
  },
  {
   "cell_type": "code",
   "execution_count": 108,
   "metadata": {},
   "outputs": [],
   "source": [
    "from importlib import reload"
   ]
  },
  {
   "cell_type": "code",
   "execution_count": 109,
   "metadata": {},
   "outputs": [],
   "source": [
    "import texify\n",
    "#reload(texify)"
   ]
  },
  {
   "cell_type": "code",
   "execution_count": 110,
   "metadata": {},
   "outputs": [],
   "source": [
    "\n",
    "texify.texify([Ej, Ek], \"CCDEnergyTerms\")"
   ]
  },
  {
   "cell_type": "code",
   "execution_count": 111,
   "metadata": {},
   "outputs": [],
   "source": [
    "t2Tensor.array = trueAmplitudeArray"
   ]
  },
  {
   "cell_type": "code",
   "execution_count": 112,
   "metadata": {},
   "outputs": [
    {
     "data": {
      "text/plain": [
       "-0.027557222193220297"
      ]
     },
     "execution_count": 112,
     "metadata": {},
     "output_type": "execute_result"
    }
   ],
   "source": [
    "2 * contractTensorSum(Ej) - contractTensorSum(Ek)"
   ]
  },
  {
   "cell_type": "code",
   "execution_count": 113,
   "metadata": {},
   "outputs": [
    {
     "data": {
      "text/plain": [
       "array([[[[-5.93124751e-02]],\n",
       "\n",
       "        [[-2.94842856e-17]],\n",
       "\n",
       "        [[-3.08991288e-02]]],\n",
       "\n",
       "\n",
       "       [[[-2.13644062e-17]],\n",
       "\n",
       "        [[-3.70716089e-02]],\n",
       "\n",
       "        [[-2.26545108e-17]]],\n",
       "\n",
       "\n",
       "       [[[-3.08991288e-02]],\n",
       "\n",
       "        [[-8.54835499e-18]],\n",
       "\n",
       "        [[-3.41821777e-02]]]])"
      ]
     },
     "execution_count": 113,
     "metadata": {},
     "output_type": "execute_result"
    }
   ],
   "source": [
    "getDoublesMP2Amplitudes(t2Tensor)"
   ]
  },
  {
   "cell_type": "code",
   "execution_count": 114,
   "metadata": {},
   "outputs": [
    {
     "data": {
      "text/plain": [
       "-0.01858327844380032"
      ]
     },
     "execution_count": 114,
     "metadata": {},
     "output_type": "execute_result"
    }
   ],
   "source": [
    "t2Tensor.array = getDoublesMP2Amplitudes(t2Tensor)\n",
    "2 * contractTensorSum(Ej) - contractTensorSum(Ek)"
   ]
  },
  {
   "cell_type": "code",
   "execution_count": 115,
   "metadata": {},
   "outputs": [],
   "source": [
    "from pyscf import mp"
   ]
  },
  {
   "cell_type": "code",
   "execution_count": 116,
   "metadata": {},
   "outputs": [],
   "source": [
    "trueMP2 = mp.MP2(mf)"
   ]
  },
  {
   "cell_type": "code",
   "execution_count": 117,
   "metadata": {},
   "outputs": [
    {
     "data": {
      "text/plain": [
       "(-0.018583278498233442,\n",
       " (array([[[[ 0.00000000e+00, -5.26821666e-18,  1.04083409e-17],\n",
       "           [ 5.26821666e-18,  0.00000000e+00, -1.66848949e-17],\n",
       "           [-1.04083409e-17,  1.66848949e-17,  0.00000000e+00]]]]),\n",
       "  array([[[[-5.93124735e-02,  1.67028935e-18, -3.08991295e-02],\n",
       "           [ 6.93850601e-18, -3.70716082e-02, -3.90769698e-17],\n",
       "           [-3.08991295e-02, -2.23920750e-17, -3.41821791e-02]]]]),\n",
       "  array([[[[ 0.00000000e+00, -5.26821666e-18,  1.04083409e-17],\n",
       "           [ 5.26821666e-18,  0.00000000e+00, -1.66848949e-17],\n",
       "           [-1.04083409e-17,  1.66848949e-17,  0.00000000e+00]]]])))"
      ]
     },
     "execution_count": 117,
     "metadata": {},
     "output_type": "execute_result"
    }
   ],
   "source": [
    "trueMP2.kernel()"
   ]
  }
 ],
 "metadata": {
  "interpreter": {
   "hash": "31f2aee4e71d21fbe5cf8b01ff0e069b9275f58929596ceb00d14d90e3e16cd6"
  },
  "kernelspec": {
   "display_name": "Python 3.6.8 64-bit",
   "name": "python3"
  },
  "language_info": {
   "codemirror_mode": {
    "name": "ipython",
    "version": 3
   },
   "file_extension": ".py",
   "mimetype": "text/x-python",
   "name": "python",
   "nbconvert_exporter": "python",
   "pygments_lexer": "ipython3",
   "version": "3.6.8"
  },
  "orig_nbformat": 4
 },
 "nbformat": 4,
 "nbformat_minor": 2
}
