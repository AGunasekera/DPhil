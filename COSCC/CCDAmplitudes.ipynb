{
 "cells": [
  {
   "cell_type": "code",
   "execution_count": 1,
   "source": [
    "from pyscf import gto, scf, ao2mo, fci\n",
    "from GeneralisedWick import *\n",
    "from scipy.optimize import fsolve"
   ],
   "outputs": [],
   "metadata": {}
  },
  {
   "cell_type": "code",
   "execution_count": 2,
   "source": [
    "def commutator(operator1, operator2):\n",
    "    return operator1 * operator2 + (-1) * operator2 * operator1"
   ],
   "outputs": [],
   "metadata": {}
  },
  {
   "cell_type": "code",
   "execution_count": 3,
   "source": [
    "def BCHSimilarityTransform(H, T, order):\n",
    "    result = H\n",
    "    for k in range(order):\n",
    "        nestedCommutator = H\n",
    "        for i in range(k + 1):\n",
    "            nestedCommutator = commutator(nestedCommutator, T)\n",
    "        result += (1 / factorial(k + 1)) * nestedCommutator\n",
    "    return result"
   ],
   "outputs": [],
   "metadata": {}
  },
  {
   "cell_type": "code",
   "execution_count": 4,
   "source": [
    "def projectionManifold(excitationLevel):\n",
    "    return Tensor('\\Phi', ['h'] * excitationLevel, ['p'] * excitationLevel)"
   ],
   "outputs": [],
   "metadata": {}
  },
  {
   "cell_type": "code",
   "execution_count": 5,
   "source": [
    "h1Tensor = Tensor(\"f\", ['g'], ['g'])\n",
    "h2Tensor = Tensor(\"v\", ['g', 'g'], ['g', 'g'])\n",
    "t2Tensor = Tensor(\"{t_{2}}\", ['p', 'p'], ['h', 'h'])"
   ],
   "outputs": [],
   "metadata": {}
  },
  {
   "cell_type": "code",
   "execution_count": 12,
   "source": [
    "bohr = 0.529177249\n",
    "\n",
    "H2sep = 1.605 * bohr\n",
    "\n",
    "mol = gto.Mole()\n",
    "mol.verbose = 1\n",
    "mol.atom = 'H 0 0 0; H 0 0 ' + str(H2sep)\n",
    "mol.basis = 'sto-3g'\n",
    "mol.spin = 0\n",
    "mol.build()\n",
    "\n",
    "Enuc = mol.energy_nuc()\n",
    "\n",
    "mf = scf.ROHF(mol)\n",
    "mf.kernel()\n",
    "\n",
    "cisolver = fci.FCI(mol, mf.mo_coeff)\n",
    "\n",
    "Norbs = mol.nao\n",
    "Nocc = mf.nelectron_alpha\n",
    "vacuum = [1] * Nocc + [0] * (Norbs - Nocc)\n",
    "\n",
    "h1 = mf.mo_coeff.T.dot(mf.get_hcore()).dot(mf.mo_coeff)\n",
    "eri = ao2mo.kernel(mol, mf.mo_coeff, compact=False)"
   ],
   "outputs": [],
   "metadata": {}
  },
  {
   "cell_type": "code",
   "execution_count": 289,
   "source": [
    "from pyscf import cc, ccn"
   ],
   "outputs": [],
   "metadata": {}
  },
  {
   "cell_type": "code",
   "execution_count": 294,
   "source": [
    "trueCCD = cc.CCSD(mf).kernel()"
   ],
   "outputs": [],
   "metadata": {}
  },
  {
   "cell_type": "code",
   "execution_count": 311,
   "source": [
    "trueCCD"
   ],
   "outputs": [
    {
     "output_type": "execute_result",
     "data": {
      "text/plain": [
       "(-0.02581552431935216,\n",
       " (array([[-1.61881792e-16]]), array([[-6.76294976e-17]])),\n",
       " (array([[[[0.]]]]), array([[[[-0.13766666]]]]), array([[[[0.]]]])))"
      ]
     },
     "metadata": {},
     "execution_count": 311
    }
   ],
   "metadata": {}
  },
  {
   "cell_type": "code",
   "execution_count": 298,
   "source": [
    "trueAmplitudeArray = trueCCD[2][1]"
   ],
   "outputs": [],
   "metadata": {}
  },
  {
   "cell_type": "code",
   "execution_count": 299,
   "source": [
    "trueAmplitudeArray"
   ],
   "outputs": [
    {
     "output_type": "execute_result",
     "data": {
      "text/plain": [
       "array([[[[-0.13766666]]]])"
      ]
     },
     "metadata": {},
     "execution_count": 299
    }
   ],
   "metadata": {}
  },
  {
   "cell_type": "code",
   "execution_count": 300,
   "source": [
    "t2Tensor.array"
   ],
   "outputs": [
    {
     "output_type": "execute_result",
     "data": {
      "text/plain": [
       "array([[[[-0.13766666]]]])"
      ]
     },
     "metadata": {},
     "execution_count": 300
    }
   ],
   "metadata": {}
  },
  {
   "cell_type": "code",
   "execution_count": null,
   "source": [],
   "outputs": [],
   "metadata": {}
  },
  {
   "cell_type": "code",
   "execution_count": 13,
   "source": [
    "def get2bodyHamiltonianArray(mf_):\n",
    "    eri = ao2mo.kernel(mf_.mol, mf_.mo_coeff)\n",
    "    Norbs_ = mf_.mol.nao\n",
    "    hamiltonian2BodyArray = np.zeros((Norbs_,Norbs_,Norbs_,Norbs_))\n",
    "    for p in range(Norbs_):\n",
    "        for q in range(Norbs_):\n",
    "            for r in range(p + 1):\n",
    "                for s in range(q + 1):\n",
    "                    x = int(p + Norbs_ * r - 0.5 * r * (r + 1))\n",
    "                    y = int(q + Norbs_ * s - 0.5 * s * (s + 1))\n",
    "                    if p == r and q == s:\n",
    "                        hamiltonian2BodyArray[p,q,r,s] += eri[x, y]\n",
    "                    else:\n",
    "                        hamiltonian2BodyArray[p,q,r,s] += eri[x, y]\n",
    "                        hamiltonian2BodyArray[r,s,p,q] += np.conjugate(eri[x, y])\n",
    "    return hamiltonian2BodyArray"
   ],
   "outputs": [],
   "metadata": {}
  },
  {
   "cell_type": "code",
   "execution_count": 14,
   "source": [
    "h1Tensor.array = h1\n",
    "h2Tensor.array = eri.reshape((Norbs, Norbs, Norbs, Norbs)).swapaxes(2,3).swapaxes(1,2)\n",
    "t2Tensor.getShape(vacuum)"
   ],
   "outputs": [],
   "metadata": {}
  },
  {
   "cell_type": "code",
   "execution_count": 313,
   "source": [
    "#t2Tensor.array[0, 0, 0, 0] = -0.275333314977893 * 0.5\n",
    "t2Tensor.array = trueAmplitudeArray"
   ],
   "outputs": [],
   "metadata": {}
  },
  {
   "cell_type": "code",
   "execution_count": 318,
   "source": [
    "h1"
   ],
   "outputs": [
    {
     "output_type": "execute_result",
     "data": {
      "text/plain": [
       "array([[-1.18985062e+00,  2.60021255e-17],\n",
       "       [-4.71423569e-17, -5.33749102e-01]])"
      ]
     },
     "metadata": {},
     "execution_count": 318
    }
   ],
   "metadata": {}
  },
  {
   "cell_type": "code",
   "execution_count": 317,
   "source": [
    "eri.reshape((Norbs, Norbs, Norbs, Norbs)).swapaxes(2,3).swapaxes(1,2)"
   ],
   "outputs": [
    {
     "output_type": "execute_result",
     "data": {
      "text/plain": [
       "array([[[[6.54009511e-01, 8.32667268e-17],\n",
       "         [1.17961196e-16, 1.87521981e-01]],\n",
       "\n",
       "        [[1.11022302e-16, 6.45249427e-01],\n",
       "         [1.87521981e-01, 1.11022302e-16]]],\n",
       "\n",
       "\n",
       "       [[[1.04083409e-16, 1.87521981e-01],\n",
       "         [6.45249427e-01, 1.38777878e-16]],\n",
       "\n",
       "        [[1.87521981e-01, 5.55111512e-17],\n",
       "         [2.22044605e-16, 6.78136184e-01]]]])"
      ]
     },
     "metadata": {},
     "execution_count": 317
    }
   ],
   "metadata": {}
  },
  {
   "cell_type": "markdown",
   "source": [
    "Hard code spin-free equations from Bartlett & Shavitt Chapter 12"
   ],
   "metadata": {}
  },
  {
   "cell_type": "code",
   "execution_count": 26,
   "source": [
    "h1Diagrams = h1Tensor.getAllDiagrams(vacuum)\n",
    "h2Diagrams = h2Tensor.getAllDiagrams(vacuum)"
   ],
   "outputs": [],
   "metadata": {}
  },
  {
   "cell_type": "code",
   "execution_count": 33,
   "source": [
    "print(*h1Diagrams)"
   ],
   "outputs": [
    {
     "output_type": "stream",
     "name": "stdout",
     "text": [
      "f_{h}^{h} f_{h}^{p} f_{p}^{h} f_{p}^{p}\n"
     ]
    }
   ],
   "metadata": {}
  },
  {
   "cell_type": "code",
   "execution_count": 36,
   "source": [
    "print(*h2Diagrams)"
   ],
   "outputs": [
    {
     "output_type": "stream",
     "name": "stdout",
     "text": [
      "v_{hh}^{hh} v_{hh}^{hp} v_{hh}^{ph} v_{hh}^{pp} v_{hp}^{hh} v_{hp}^{hp} v_{hp}^{ph} v_{hp}^{pp} v_{ph}^{hh} v_{ph}^{hp} v_{ph}^{ph} v_{ph}^{pp} v_{pp}^{hh} v_{pp}^{hp} v_{pp}^{ph} v_{pp}^{pp}\n"
     ]
    }
   ],
   "metadata": {}
  },
  {
   "cell_type": "code",
   "execution_count": 38,
   "source": [
    "I = Index(\"I\", True)\n",
    "J = Index(\"J\", True)\n",
    "K = Index(\"K\", True)\n",
    "L = Index(\"L\", True)\n",
    "A = Index(\"A\", False)\n",
    "B = Index(\"B\", False)\n",
    "C = Index(\"C\", False)\n",
    "D = Index(\"D\", False)"
   ],
   "outputs": [],
   "metadata": {}
  },
  {
   "cell_type": "code",
   "execution_count": 104,
   "source": [
    "D1 = TensorSum([TensorProduct([h2Diagrams[12]], vertexList=[Vertex(h2Diagrams[12], [A,B], [I,J])])])"
   ],
   "outputs": [],
   "metadata": {}
  },
  {
   "cell_type": "code",
   "execution_count": 105,
   "source": [
    "D2a = TensorSum([TensorProduct([h1Diagrams[3], t2Tensor], vertexList=[Vertex(h1Diagrams[3], [B], [C]), Vertex(t2Tensor, [A,C], [I,J])]), TensorProduct([h1Diagrams[3], t2Tensor], vertexList=[Vertex(h1Diagrams[3], [A], [C]), Vertex(t2Tensor, [B,C], [J,I])])])"
   ],
   "outputs": [],
   "metadata": {}
  },
  {
   "cell_type": "code",
   "execution_count": 106,
   "source": [
    "D2b = TensorSum([TensorProduct([h1Diagrams[0], t2Tensor], vertexList=[Vertex(h1Diagrams[0], [K], [J]), Vertex(t2Tensor, [A,B], [I,K])]), TensorProduct([h1Diagrams[0], t2Tensor], vertexList=[Vertex(h1Diagrams[0], [K], [I]), Vertex(t2Tensor, [B,A], [J,K])])])"
   ],
   "outputs": [],
   "metadata": {}
  },
  {
   "cell_type": "code",
   "execution_count": 107,
   "source": [
    "D2c = TensorSum([TensorProduct([h2Diagrams[15], t2Tensor], vertexList=[Vertex(h2Diagrams[15], [A,B], [C,D]), Vertex(t2Tensor, [C,D], [I,J])]), TensorProduct([h2Diagrams[15], t2Tensor], vertexList=[Vertex(h2Diagrams[15], [B,A], [C,D]), Vertex(t2Tensor, [C,D], [J,I])])])"
   ],
   "outputs": [],
   "metadata": {}
  },
  {
   "cell_type": "code",
   "execution_count": 108,
   "source": [
    "D2d = TensorSum([TensorProduct([h2Diagrams[0], t2Tensor], vertexList=[Vertex(h2Diagrams[0], [K,L], [I,J]), Vertex(t2Tensor, [A,B], [K,L])]), TensorProduct([h2Diagrams[0], t2Tensor], vertexList=[Vertex(h2Diagrams[0], [K,L], [J,I]), Vertex(t2Tensor, [B,A], [K,L])])])"
   ],
   "outputs": [],
   "metadata": {}
  },
  {
   "cell_type": "code",
   "execution_count": 109,
   "source": [
    "D2e = TensorSum([TensorProduct([h2Diagrams[6], t2Tensor], vertexList=[Vertex(h2Diagrams[6], [K,B], [C,J]), Vertex(t2Tensor, [A,C], [I,K])]), TensorProduct([h2Diagrams[6], t2Tensor], vertexList=[Vertex(h2Diagrams[6], [K,A], [C,I]), Vertex(t2Tensor, [B,C], [J,K])])])"
   ],
   "outputs": [],
   "metadata": {}
  },
  {
   "cell_type": "code",
   "execution_count": 110,
   "source": [
    "D2ex1 = TensorSum([TensorProduct([h2Diagrams[6], t2Tensor], vertexList=[Vertex(h2Diagrams[6], [K,B], [C,J]), Vertex(t2Tensor, [A,C], [K,I])]), TensorProduct([h2Diagrams[6], t2Tensor], vertexList=[Vertex(h2Diagrams[6], [K,A], [C,I]), Vertex(t2Tensor, [B,C], [K,J])])])"
   ],
   "outputs": [],
   "metadata": {}
  },
  {
   "cell_type": "code",
   "execution_count": 111,
   "source": [
    "D2ex2 = TensorSum([TensorProduct([h2Diagrams[5], t2Tensor], vertexList=[Vertex(h2Diagrams[5], [K,B], [I,C]), Vertex(t2Tensor, [A,C], [K,J])]), TensorProduct([h2Diagrams[5], t2Tensor], vertexList=[Vertex(h2Diagrams[5], [K,A], [J,C]), Vertex(t2Tensor, [B,C], [K,I])])])"
   ],
   "outputs": [],
   "metadata": {}
  },
  {
   "cell_type": "code",
   "execution_count": 112,
   "source": [
    "D2ex3 = TensorSum([TensorProduct([h2Diagrams[5], t2Tensor], vertexList=[Vertex(h2Diagrams[5], [K,B], [J,C]), Vertex(t2Tensor, [A,C], [I,K])]), TensorProduct([h2Diagrams[5], t2Tensor], vertexList=[Vertex(h2Diagrams[5], [K,A], [I,C]), Vertex(t2Tensor, [B,C], [J,K])])])"
   ],
   "outputs": [],
   "metadata": {}
  },
  {
   "cell_type": "code",
   "execution_count": 113,
   "source": [
    "D3a = TensorSum([TensorProduct([h2Diagrams[3], t2Tensor], vertexList=[Vertex(h2Diagrams[3], [K,L], [C,D]), Vertex(t2Tensor, [C,D], [I,J]), Vertex(t2Tensor, [A,B], [K,L])]), TensorProduct([h2Diagrams[3], t2Tensor], vertexList=[Vertex(h2Diagrams[3], [K,L], [C,D]), Vertex(t2Tensor, [C,D], [J,I]), Vertex(t2Tensor, [B,A], [K,L])])])"
   ],
   "outputs": [],
   "metadata": {}
  },
  {
   "cell_type": "code",
   "execution_count": 114,
   "source": [
    "D3b = TensorSum([TensorProduct([h2Diagrams[3], t2Tensor], vertexList=[Vertex(h2Diagrams[3], [K,L], [C,D]), Vertex(t2Tensor, [A,C], [I,K]), Vertex(t2Tensor, [D,B], [L,J])]), TensorProduct([h2Diagrams[3], t2Tensor], vertexList=[Vertex(h2Diagrams[3], [K,L], [C,D]), Vertex(t2Tensor, [B,C], [J,K]), Vertex(t2Tensor, [D,A], [L,I])])])"
   ],
   "outputs": [],
   "metadata": {}
  },
  {
   "cell_type": "code",
   "execution_count": 115,
   "source": [
    "D3bx1 = TensorSum([TensorProduct([h2Diagrams[3], t2Tensor], vertexList=[Vertex(h2Diagrams[3], [K,L], [C,D]), Vertex(t2Tensor, [A,C], [I,K]), Vertex(t2Tensor, [D,B], [J,L])]), TensorProduct([h2Diagrams[3], t2Tensor], vertexList=[Vertex(h2Diagrams[3], [K,L], [C,D]), Vertex(t2Tensor, [B,C], [J,K]), Vertex(t2Tensor, [D,A], [I,L])])])"
   ],
   "outputs": [],
   "metadata": {}
  },
  {
   "cell_type": "code",
   "execution_count": 116,
   "source": [
    "D3bx2 = TensorSum([TensorProduct([h2Diagrams[3], t2Tensor], vertexList=[Vertex(h2Diagrams[3], [K,L], [C,D]), Vertex(t2Tensor, [C,A], [I,K]), Vertex(t2Tensor, [B,D], [L,J])]), TensorProduct([h2Diagrams[3], t2Tensor], vertexList=[Vertex(h2Diagrams[3], [K,L], [C,D]), Vertex(t2Tensor, [C,B], [J,K]), Vertex(t2Tensor, [A,D], [L,I])])])"
   ],
   "outputs": [],
   "metadata": {}
  },
  {
   "cell_type": "code",
   "execution_count": 117,
   "source": [
    "D3bx3 = TensorSum([TensorProduct([h2Diagrams[3], t2Tensor], vertexList=[Vertex(h2Diagrams[3], [K,L], [C,D]), Vertex(t2Tensor, [A,D], [I,K]), Vertex(t2Tensor, [C,B], [L,J])]), TensorProduct([h2Diagrams[3], t2Tensor], vertexList=[Vertex(h2Diagrams[3], [K,L], [C,D]), Vertex(t2Tensor, [B,D], [J,K]), Vertex(t2Tensor, [C,A], [L,I])])])"
   ],
   "outputs": [],
   "metadata": {}
  },
  {
   "cell_type": "code",
   "execution_count": 118,
   "source": [
    "D3bx4 = TensorSum([TensorProduct([h2Diagrams[3], t2Tensor], vertexList=[Vertex(h2Diagrams[3], [K,L], [C,D]), Vertex(t2Tensor, [A,D], [K,I]), Vertex(t2Tensor, [C,B], [L,J])]), TensorProduct([h2Diagrams[3], t2Tensor], vertexList=[Vertex(h2Diagrams[3], [K,L], [C,D]), Vertex(t2Tensor, [B,D], [K,J]), Vertex(t2Tensor, [C,A], [L,I])])])"
   ],
   "outputs": [],
   "metadata": {}
  },
  {
   "cell_type": "code",
   "execution_count": 119,
   "source": [
    "D3bx5 = TensorSum([TensorProduct([h2Diagrams[3], t2Tensor], vertexList=[Vertex(h2Diagrams[3], [K,L], [C,D]), Vertex(t2Tensor, [C,B], [I,L]), Vertex(t2Tensor, [A,D], [K,J])]), TensorProduct([h2Diagrams[3], t2Tensor], vertexList=[Vertex(h2Diagrams[3], [K,L], [C,D]), Vertex(t2Tensor, [C,A], [J,L]), Vertex(t2Tensor, [B,D], [K,I])])])"
   ],
   "outputs": [],
   "metadata": {}
  },
  {
   "cell_type": "code",
   "execution_count": 120,
   "source": [
    "D3c = TensorSum([TensorProduct([h2Diagrams[3], t2Tensor], vertexList=[Vertex(h2Diagrams[3], [K,L], [C,D]), Vertex(t2Tensor, [C,D], [K,I]), Vertex(t2Tensor, [A,B], [L,J])]), TensorProduct([h2Diagrams[3], t2Tensor], vertexList=[Vertex(h2Diagrams[3], [K,L], [C,D]), Vertex(t2Tensor, [C,D], [K,J]), Vertex(t2Tensor, [B,A], [L,I])])])"
   ],
   "outputs": [],
   "metadata": {}
  },
  {
   "cell_type": "code",
   "execution_count": 121,
   "source": [
    "D3cx = TensorSum([TensorProduct([h2Diagrams[3], t2Tensor], vertexList=[Vertex(h2Diagrams[3], [K,L], [C,D]), Vertex(t2Tensor, [C,D], [I,K]), Vertex(t2Tensor, [A,B], [L,J])]), TensorProduct([h2Diagrams[3], t2Tensor], vertexList=[Vertex(h2Diagrams[3], [K,L], [C,D]), Vertex(t2Tensor, [C,D], [J,K]), Vertex(t2Tensor, [B,A], [L,I])])])"
   ],
   "outputs": [],
   "metadata": {}
  },
  {
   "cell_type": "code",
   "execution_count": 122,
   "source": [
    "D3d = TensorSum([TensorProduct([h2Diagrams[3], t2Tensor], vertexList=[Vertex(h2Diagrams[3], [K,L], [C,D]), Vertex(t2Tensor, [C,A], [K,L]), Vertex(t2Tensor, [D,B], [I,J])]), TensorProduct([h2Diagrams[3], t2Tensor], vertexList=[Vertex(h2Diagrams[3], [K,L], [C,D]), Vertex(t2Tensor, [C,B], [K,L]), Vertex(t2Tensor, [D,A], [J,I])])])"
   ],
   "outputs": [],
   "metadata": {}
  },
  {
   "cell_type": "code",
   "execution_count": 123,
   "source": [
    "D3dx = TensorSum([TensorProduct([h2Diagrams[3], t2Tensor], vertexList=[Vertex(h2Diagrams[3], [K,L], [C,D]), Vertex(t2Tensor, [A,C], [K,L]), Vertex(t2Tensor, [D,B], [I,J])]), TensorProduct([h2Diagrams[3], t2Tensor], vertexList=[Vertex(h2Diagrams[3], [K,L], [C,D]), Vertex(t2Tensor, [B,C], [K,L]), Vertex(t2Tensor, [D,A], [J,I])])])"
   ],
   "outputs": [],
   "metadata": {}
  },
  {
   "cell_type": "code",
   "execution_count": 265,
   "source": [
    "amplitudeDiagrams = [D1, D2a, D2b, D2c, D2d, D2e, D2ex1, D2ex2, D2ex3, D3a, D3b, D3bx1, D3bx2, D3bx3, D3bx4, D3bx5, D3c, D3cx, D3d, D3dx]\n",
    "amplitudeFactors = [1., 1., -1., 0.5, 0.5, 2., -1., -1., -1., 0.5, 2., -2., 0.5, -1., 1., 0.5, -2., 1., -2., 1.]"
   ],
   "outputs": [],
   "metadata": {}
  },
  {
   "cell_type": "code",
   "execution_count": 207,
   "source": [
    "for d, diagram in enumerate(amplitudeDiagrams):\n",
    "    print(diagram)\n",
    "    print(amplitudeFactors[d] * contractTensorSum(diagram))"
   ],
   "outputs": [
    {
     "output_type": "stream",
     "name": "stdout",
     "text": [
      "1.0 * v_{AB}^{IJ}\n",
      "[[[[0.18752198]]]]\n",
      "1.0 * f_{B}^{C}{t_{2}}_{AC}^{IJ}\n",
      " + 1.0 * f_{A}^{C}{t_{2}}_{BC}^{JI}\n",
      "[[[[0.14695891]]]]\n",
      "1.0 * f_{K}^{J}{t_{2}}_{AB}^{IK}\n",
      " + 1.0 * f_{K}^{I}{t_{2}}_{BA}^{JK}\n",
      "[[[[-0.32760552]]]]\n",
      "1.0 * v_{AB}^{CD}{t_{2}}_{CD}^{IJ}\n",
      " + 1.0 * v_{BA}^{CD}{t_{2}}_{CD}^{JI}\n",
      "[[[[-0.09335674]]]]\n",
      "1.0 * v_{KL}^{IJ}{t_{2}}_{AB}^{KL}\n",
      " + 1.0 * v_{KL}^{JI}{t_{2}}_{BA}^{KL}\n",
      "[[[[-0.0900353]]]]\n",
      "1.0 * v_{KB}^{CJ}{t_{2}}_{AC}^{IK}\n",
      " + 1.0 * v_{KA}^{CI}{t_{2}}_{BC}^{JK}\n",
      "[[[[-0.1032621]]]]\n",
      "1.0 * v_{KB}^{CJ}{t_{2}}_{AC}^{KI}\n",
      " + 1.0 * v_{KA}^{CI}{t_{2}}_{BC}^{KJ}\n",
      "[[[[0.05163105]]]]\n",
      "1.0 * v_{KB}^{IC}{t_{2}}_{AC}^{KJ}\n",
      " + 1.0 * v_{KA}^{JC}{t_{2}}_{BC}^{KI}\n",
      "[[[[0.17765866]]]]\n",
      "1.0 * v_{KB}^{JC}{t_{2}}_{AC}^{IK}\n",
      " + 1.0 * v_{KA}^{IC}{t_{2}}_{BC}^{JK}\n",
      "[[[[0.17765866]]]]\n",
      "1.0 * v_{KL}^{CD}{t_{2}}_{CD}^{IJ}{t_{2}}_{AB}^{KL}\n",
      " + 1.0 * v_{KL}^{CD}{t_{2}}_{CD}^{JI}{t_{2}}_{BA}^{KL}\n",
      "[[[[0.00355394]]]]\n",
      "1.0 * v_{KL}^{CD}{t_{2}}_{AC}^{IK}{t_{2}}_{DB}^{LJ}\n",
      " + 1.0 * v_{KL}^{CD}{t_{2}}_{BC}^{JK}{t_{2}}_{DA}^{LI}\n",
      "[[[[0.01421575]]]]\n",
      "1.0 * v_{KL}^{CD}{t_{2}}_{AC}^{IK}{t_{2}}_{DB}^{JL}\n",
      " + 1.0 * v_{KL}^{CD}{t_{2}}_{BC}^{JK}{t_{2}}_{DA}^{IL}\n",
      "[[[[-0.01421575]]]]\n",
      "1.0 * v_{KL}^{CD}{t_{2}}_{CA}^{IK}{t_{2}}_{BD}^{LJ}\n",
      " + 1.0 * v_{KL}^{CD}{t_{2}}_{CB}^{JK}{t_{2}}_{AD}^{LI}\n",
      "[[[[0.00355394]]]]\n",
      "1.0 * v_{KL}^{CD}{t_{2}}_{AD}^{IK}{t_{2}}_{CB}^{LJ}\n",
      " + 1.0 * v_{KL}^{CD}{t_{2}}_{BD}^{JK}{t_{2}}_{CA}^{LI}\n",
      "[[[[-0.00710787]]]]\n",
      "1.0 * v_{KL}^{CD}{t_{2}}_{AD}^{KI}{t_{2}}_{CB}^{LJ}\n",
      " + 1.0 * v_{KL}^{CD}{t_{2}}_{BD}^{KJ}{t_{2}}_{CA}^{LI}\n",
      "[[[[0.00710787]]]]\n",
      "1.0 * v_{KL}^{CD}{t_{2}}_{CB}^{IL}{t_{2}}_{AD}^{KJ}\n",
      " + 1.0 * v_{KL}^{CD}{t_{2}}_{CA}^{JL}{t_{2}}_{BD}^{KI}\n",
      "[[[[0.00355394]]]]\n",
      "1.0 * v_{KL}^{CD}{t_{2}}_{CD}^{KI}{t_{2}}_{AB}^{LJ}\n",
      " + 1.0 * v_{KL}^{CD}{t_{2}}_{CD}^{KJ}{t_{2}}_{BA}^{LI}\n",
      "[[[[-0.01421575]]]]\n",
      "1.0 * v_{KL}^{CD}{t_{2}}_{CD}^{IK}{t_{2}}_{AB}^{LJ}\n",
      " + 1.0 * v_{KL}^{CD}{t_{2}}_{CD}^{JK}{t_{2}}_{BA}^{LI}\n",
      "[[[[0.00710787]]]]\n",
      "1.0 * v_{KL}^{CD}{t_{2}}_{CA}^{KL}{t_{2}}_{DB}^{IJ}\n",
      " + 1.0 * v_{KL}^{CD}{t_{2}}_{CB}^{KL}{t_{2}}_{DA}^{JI}\n",
      "[[[[-0.01421575]]]]\n",
      "1.0 * v_{KL}^{CD}{t_{2}}_{AC}^{KL}{t_{2}}_{DB}^{IJ}\n",
      " + 1.0 * v_{KL}^{CD}{t_{2}}_{BC}^{KL}{t_{2}}_{DA}^{JI}\n",
      "[[[[0.00710787]]]]\n"
     ]
    }
   ],
   "metadata": {}
  },
  {
   "cell_type": "code",
   "execution_count": 237,
   "source": [
    "t2Tensor.array[0, 0, 0, 0] = -0.38"
   ],
   "outputs": [],
   "metadata": {}
  },
  {
   "cell_type": "code",
   "execution_count": 209,
   "source": [
    "h2Tensor.array = get2bodyHamiltonianArray(mf)"
   ],
   "outputs": [],
   "metadata": {}
  },
  {
   "cell_type": "code",
   "execution_count": 266,
   "source": [
    "residualTerms = [amplitudeFactors[d] * contractTensorSum(diagram) for d, diagram in enumerate(amplitudeDiagrams)]"
   ],
   "outputs": [],
   "metadata": {}
  },
  {
   "cell_type": "code",
   "execution_count": 267,
   "source": [
    "residualTerms"
   ],
   "outputs": [
    {
     "output_type": "execute_result",
     "data": {
      "text/plain": [
       "[array([[[[0.18752198]]]]),\n",
       " array([[[[0.14695891]]]]),\n",
       " array([[[[-0.32760552]]]]),\n",
       " array([[[[-0.09335674]]]]),\n",
       " array([[[[-0.0900353]]]]),\n",
       " array([[[[-0.1032621]]]]),\n",
       " array([[[[0.05163105]]]]),\n",
       " array([[[[0.17765866]]]]),\n",
       " array([[[[0.17765866]]]]),\n",
       " array([[[[0.00355394]]]]),\n",
       " array([[[[0.01421575]]]]),\n",
       " array([[[[-0.01421575]]]]),\n",
       " array([[[[0.00355394]]]]),\n",
       " array([[[[-0.00710787]]]]),\n",
       " array([[[[0.00710787]]]]),\n",
       " array([[[[0.00355394]]]]),\n",
       " array([[[[-0.01421575]]]]),\n",
       " array([[[[0.00710787]]]]),\n",
       " array([[[[-0.01421575]]]]),\n",
       " array([[[[0.00710787]]]])]"
      ]
     },
     "metadata": {},
     "execution_count": 267
    }
   ],
   "metadata": {}
  },
  {
   "cell_type": "code",
   "execution_count": 323,
   "source": [
    "constant = sum(residualTerms[:1])\n",
    "linearFock = sum(residualTerms[1:3])\n",
    "linearFluctuation = sum(residualTerms[3:9])\n",
    "quadratic = sum(residualTerms[9:])"
   ],
   "outputs": [],
   "metadata": {}
  },
  {
   "cell_type": "code",
   "execution_count": 322,
   "source": [
    "supposedLinearFluctuation = residualTerms[3] - residualTerms[4]\n",
    "print(supposedLinearFluctuation)"
   ],
   "outputs": [
    {
     "output_type": "stream",
     "name": "stdout",
     "text": [
      "[[[[-0.00332144]]]]\n"
     ]
    }
   ],
   "metadata": {}
  },
  {
   "cell_type": "code",
   "execution_count": 324,
   "source": [
    "print(constant)\n",
    "print(linearFock)\n",
    "print(linearFluctuation)\n",
    "print(quadratic)"
   ],
   "outputs": [
    {
     "output_type": "stream",
     "name": "stdout",
     "text": [
      "[[[[0.18752198]]]]\n",
      "[[[[-0.18064661]]]]\n",
      "[[[[0.12029423]]]]\n",
      "[[[[-0.00355394]]]]\n"
     ]
    }
   ],
   "metadata": {}
  },
  {
   "cell_type": "code",
   "execution_count": 327,
   "source": [
    "constant + linearFock + supposedLinearFluctuation + quadratic"
   ],
   "outputs": [
    {
     "output_type": "execute_result",
     "data": {
      "text/plain": [
       "array([[[[1.6479873e-17]]]])"
      ]
     },
     "metadata": {},
     "execution_count": 327
    }
   ],
   "metadata": {}
  },
  {
   "cell_type": "code",
   "execution_count": 326,
   "source": [
    "sum(residualTerms)"
   ],
   "outputs": [
    {
     "output_type": "execute_result",
     "data": {
      "text/plain": [
       "array([[[[0.12361567]]]])"
      ]
     },
     "metadata": {},
     "execution_count": 326
    }
   ],
   "metadata": {}
  },
  {
   "cell_type": "code",
   "execution_count": 262,
   "source": [
    "sum(residualTerms[9:])"
   ],
   "outputs": [
    {
     "output_type": "execute_result",
     "data": {
      "text/plain": [
       "array([[[[-0.00355394]]]])"
      ]
     },
     "metadata": {},
     "execution_count": 262
    }
   ],
   "metadata": {}
  },
  {
   "cell_type": "code",
   "execution_count": 263,
   "source": [
    "sum(residualTerms[:5]) + sum(residualTerms[9:])"
   ],
   "outputs": [
    {
     "output_type": "execute_result",
     "data": {
      "text/plain": [
       "array([[[[-0.18007061]]]])"
      ]
     },
     "metadata": {},
     "execution_count": 263
    }
   ],
   "metadata": {}
  },
  {
   "cell_type": "code",
   "execution_count": 308,
   "source": [
    "Ej = TensorSum([TensorProduct([h2Diagrams[3], t2Tensor], vertexList=[Vertex(h2Diagrams[3], [I,J], [A,B]), Vertex(t2Tensor, [A,B], [I,J])])])\n",
    "Ek = TensorSum([TensorProduct([h2Diagrams[3], t2Tensor], vertexList=[Vertex(h2Diagrams[3], [I,J], [B,A]), Vertex(t2Tensor, [A,B], [I,J])])])"
   ],
   "outputs": [],
   "metadata": {}
  },
  {
   "cell_type": "code",
   "execution_count": 309,
   "source": [
    "ECCD = 2 * contractTensorSum(Ej) - contractTensorSum(Ek)\n",
    "print(ECCD)"
   ],
   "outputs": [
    {
     "output_type": "stream",
     "name": "stdout",
     "text": [
      "-0.025815524316581975\n"
     ]
    }
   ],
   "metadata": {}
  },
  {
   "cell_type": "code",
   "execution_count": 257,
   "source": [
    "t2Tensor.array * ECCD"
   ],
   "outputs": [
    {
     "output_type": "execute_result",
     "data": {
      "text/plain": [
       "array([[[[0.00355394]]]])"
      ]
     },
     "metadata": {},
     "execution_count": 257
    }
   ],
   "metadata": {}
  },
  {
   "cell_type": "code",
   "execution_count": 303,
   "source": [
    "print(Ej)\n",
    "print(Ek)"
   ],
   "outputs": [
    {
     "output_type": "stream",
     "name": "stdout",
     "text": [
      "1.0 * v_{IJ}^{AB}{t_{2}}_{AB}^{IJ}\n",
      "1.0 * v_{IJ}^{BA}{t_{2}}_{AB}^{IJ}\n"
     ]
    }
   ],
   "metadata": {}
  },
  {
   "cell_type": "code",
   "execution_count": 349,
   "source": [
    "from importlib import reload"
   ],
   "outputs": [],
   "metadata": {}
  },
  {
   "cell_type": "code",
   "execution_count": 350,
   "source": [
    "import texify\n",
    "#reload(texify)"
   ],
   "outputs": [
    {
     "output_type": "execute_result",
     "data": {
      "text/plain": [
       "<module 'texify' from '/Users/alexgunasekera/Documents/DPhil/code/DPhil/COSCC/texify.py'>"
      ]
     },
     "metadata": {},
     "execution_count": 350
    }
   ],
   "metadata": {}
  },
  {
   "cell_type": "code",
   "execution_count": 348,
   "source": [
    "\n",
    "texify.texify([Ej, Ek], \"CCDEnergyTerms\")"
   ],
   "outputs": [],
   "metadata": {}
  }
 ],
 "metadata": {
  "orig_nbformat": 4,
  "language_info": {
   "name": "python",
   "version": "3.8.0",
   "mimetype": "text/x-python",
   "codemirror_mode": {
    "name": "ipython",
    "version": 3
   },
   "pygments_lexer": "ipython3",
   "nbconvert_exporter": "python",
   "file_extension": ".py"
  },
  "kernelspec": {
   "name": "python3",
   "display_name": "Python 3.8.0 64-bit"
  },
  "interpreter": {
   "hash": "aee8b7b246df8f9039afb4144a1f6fd8d2ca17a180786b69acc140d282b71a49"
  }
 },
 "nbformat": 4,
 "nbformat_minor": 2
}