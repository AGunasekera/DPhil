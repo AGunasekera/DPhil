{
 "cells": [
  {
   "cell_type": "code",
   "execution_count": 1,
   "metadata": {},
   "outputs": [],
   "source": [
    "import numpy as np\n",
    "from numbers import Number\n",
    "from pyscf import gto, scf, ao2mo, fci\n",
    "from copy import deepcopy, copy\n",
    "from math import factorial\n",
    "import time\n",
    "\n",
    "#define vacuum\n",
    "#take in operator string\n",
    "#format: string of indices, bitstring of creation vs annihilation\n",
    "#return normal-ordered operator string plus contracted terms, according to Wick's theorem\n",
    "\n"
   ]
  },
  {
   "cell_type": "code",
   "execution_count": 3,
   "metadata": {},
   "outputs": [],
   "source": [
    "class Index:\n",
    "    '''\n",
    "    Class for an orbital index\n",
    "    name (str): name given to index\n",
    "    occupiedInVaccum (bool): whether the index refers to orbitals that are occupied in the vacuum (i.e. hole orbitals) or not (particle orbitals)\n",
    "    '''\n",
    "    def __init__(self, name, occupiedInVacuum):\n",
    "        self.name = name\n",
    "        self.occupiedInVacuum = occupiedInVacuum\n",
    "        self.tuple = (self.name, self.occupiedInVacuum)\n",
    "\n",
    "    def __hash__(self):\n",
    "        return hash(self.tuple)\n",
    "\n",
    "    def __eq__(self, other):\n",
    "        return self.tuple == other\n",
    "\n",
    "    def __str__(self):\n",
    "        return self.name"
   ]
  },
  {
   "cell_type": "code",
   "execution_count": 4,
   "metadata": {},
   "outputs": [],
   "source": [
    "class basicOperator:\n",
    "    '''\n",
    "    Class for a basic fermionic creation or annihilation operator, with arbitrary index\n",
    "    index (Index): the index for the orbitals on which this operator acts\n",
    "    creation_annihilation (bool): True for creation, False for annihilation\n",
    "    spin (bool): True for alpha, False for beta\n",
    "    quasi_cre_ann (bool): creation or annihilation with respect to Fermi vacuum\n",
    "    '''\n",
    "    def __init__(self, index_, creation_annihilation_, spin_):\n",
    "        self.index = index_\n",
    "        self.spin = spin_\n",
    "        self.creation_annihilation = creation_annihilation_\n",
    "        self.quasi_cre_ann = not (self.creation_annihilation == self.index.occupiedInVacuum)\n",
    "\n",
    "    def __copy__(self):\n",
    "        return basicOperator(self.index, self.creation_annihilation, self.spin)\n",
    "\n",
    "    def __str__(self):\n",
    "        string = \"a\"\n",
    "        if bool(self.creation_annihilation):\n",
    "            string = string + \"^\"\n",
    "        else:\n",
    "            string = string + \"_\"\n",
    "        if bool(self.spin):\n",
    "            string = string + \"{\" + self.index.__str__() + \"\\\\alpha}\"\n",
    "        else:\n",
    "            string = string + \"{\" + self.index.__str__() + \"\\\\beta}\"\n",
    "        return string\n",
    "\n",
    "    def __eq__(self, other):\n",
    "        if isinstance(other, basicOperator):\n",
    "            return self.index == other.index and self.spin == other.spin and self.creation_annihilation == other.creation_annihilation\n",
    "        return False\n",
    "\n",
    "    def conjugate(self):\n",
    "        return basicOperator(self.index, not self.creation_annihilation, self.spin)"
   ]
  },
  {
   "cell_type": "code",
   "execution_count": 5,
   "metadata": {},
   "outputs": [],
   "source": [
    "class operatorProduct:\n",
    "    def __init__(self, operatorList_=[], prefactor_=1., contractionsList_=[]):\n",
    "        self.operatorList = operatorList_\n",
    "        self.prefactor = prefactor_\n",
    "        self.contractionsList = contractionsList_\n",
    "\n",
    "    def isProportional(self, other):\n",
    "        if isinstance(other, operatorProduct):\n",
    "            return self.operatorList == other.operatorList and set(self.contractionsList) == set(other.contractionsList)\n",
    "        else:\n",
    "            return NotImplemented\n",
    "\n",
    "    def __copy__(self):\n",
    "        return operatorProduct(copy(self.operatorList), self.prefactor, copy(self.contractionsList))\n",
    "\n",
    "    def __str__(self):\n",
    "        string = str(self.prefactor)\n",
    "        if(len(self.operatorList) + len(self.contractionsList) > 0):\n",
    "            string = string + \" * \"\n",
    "        for o in self.operatorList:\n",
    "            string = string + o.__str__()\n",
    "        for contraction in self.contractionsList:\n",
    "            string = string + \"\\delta^{\" + contraction[0].__str__() + \"}_{\" + contraction[1].__str__() + \"}\"\n",
    "        return string\n",
    "\n",
    "    def __mul__(self, other):\n",
    "        if isinstance(other, operatorProduct):\n",
    "            return operatorProduct(self.operatorList + other.operatorList, self.prefactor * other.prefactor, self.contractionsList + other.contractionsList)\n",
    "        elif isinstance(other, operatorSum):\n",
    "            newSummandList = []\n",
    "            for s in other.summandList:\n",
    "                newSummandList.append(self * s)\n",
    "            return operatorSum(newSummandList)\n",
    "        elif isinstance(other, Number):\n",
    "            return operatorProduct(self.operatorList, self.prefactor * other, self.contractionsList)\n",
    "        else:\n",
    "            return NotImplemented\n",
    "\n",
    "    def __rmul__(self, other):\n",
    "        if isinstance(other, Number):\n",
    "            return operatorProduct(self.operatorList, other * self.prefactor, self.contractionsList)\n",
    "        else:\n",
    "            return NotImplemented\n",
    "\n",
    "    def __add__(self, other):\n",
    "        if isinstance(other, operatorProduct):\n",
    "            if self.isProportional(other):\n",
    "                return operatorProduct(self.operatorList, self.prefactor + other.prefactor, self.contractionsList)\n",
    "            else:\n",
    "                return operatorSum([self, other])\n",
    "        elif other == 0:\n",
    "            return self\n",
    "        else:\n",
    "            return NotImplemented\n",
    "\n",
    "    def __radd__(self, other):\n",
    "        if other == 0:\n",
    "            return self\n",
    "        else:\n",
    "            return NotImplemented\n",
    "\n",
    "    def __eq__(self, other):\n",
    "        if isinstance(other, operatorProduct):\n",
    "            return self.operatorList == other.operatorList and self.prefactor == other.prefactor and self.contractionsList == other.contractionsList\n",
    "        else:\n",
    "            return NotImplemented\n",
    "            \n",
    "    def checkNilpotency(self):\n",
    "        nonZero = True\n",
    "        i = 0\n",
    "        while i < len(self.operatorList):\n",
    "            j = i + 1\n",
    "            while j < len(self.operatorList):\n",
    "                if self.operatorList[j] == self.operatorList[i]:\n",
    "                    nonZero = False\n",
    "                elif self.operatorList[j] == self.operatorList[i].conjugate():\n",
    "                    break\n",
    "                j = j + 1\n",
    "            i = i + 1\n",
    "        return nonZero\n",
    "\n",
    "    def conjugate(self):\n",
    "        return operatorProduct([o.conjugate() for o in self.operatorList], np.conjugate(self.prefactor), self.contractionsList)"
   ]
  },
  {
   "cell_type": "code",
   "execution_count": 6,
   "metadata": {},
   "outputs": [],
   "source": [
    "class operatorSum:\n",
    "    def __init__(self, summandList_=[]):\n",
    "        self.summandList = self.collectSummandList(summandList_)\n",
    "\n",
    "    def collectSummandList(self, summandList):\n",
    "        oldSummandList = copy(summandList)\n",
    "        newSummandList = []\n",
    "        while len(oldSummandList) > 0:\n",
    "            newSummand = oldSummandList[0]\n",
    "            i = 1\n",
    "            while i < len(oldSummandList):\n",
    "                if newSummand.isProportional(oldSummandList[i]):\n",
    "                    newSummand += oldSummandList[i]\n",
    "                    oldSummandList.pop(i)\n",
    "                else:\n",
    "                    i += 1\n",
    "            newSummandList.append(newSummand)\n",
    "            oldSummandList.pop(0)\n",
    "        return newSummandList\n",
    "\n",
    "    def __copy__(self):\n",
    "        return operatorSum(copy(self.summandList))\n",
    "\n",
    "    def __str__(self):\n",
    "        if len(self.summandList) == 0:\n",
    "            return str(0)\n",
    "        string = self.summandList[0].__str__()\n",
    "        s = 1\n",
    "        while s < len(self.summandList):\n",
    "            string = string + \"\\n + \" + self.summandList[s].__str__()\n",
    "            s = s + 1\n",
    "        return string\n",
    "\n",
    "    def __add__(self, other):\n",
    "        if isinstance(other, operatorSum):\n",
    "            return operatorSum(self.summandList + other.summandList)\n",
    "        elif isinstance(other, operatorProduct):\n",
    "            if other.prefactor == 0:\n",
    "                return self\n",
    "            newSummandList = copy(self.summandList)\n",
    "            alreadyInSum = False\n",
    "            for summand in newSummandList:\n",
    "                if summand.isProportional(other):\n",
    "                    alreadyInSum = True\n",
    "                    summand.prefactor += other.prefactor\n",
    "            if not alreadyInSum:\n",
    "                newSummandList.append(other)\n",
    "            return operatorSum(newSummandList)\n",
    "        elif other == 0:\n",
    "            return self\n",
    "        else:\n",
    "            return NotImplemented\n",
    "            \n",
    "    def __radd__(self, other):\n",
    "        if isinstance(other, operatorProduct):\n",
    "            if other.prefactor == 0:\n",
    "                return self\n",
    "            newSummandList = copy(self.summandList)\n",
    "            alreadyInSum = False\n",
    "            for summand in newSummandList:\n",
    "                if summand.isProportional(other):\n",
    "                    alreadyInSum = True\n",
    "                    summand.prefactor += other.prefactor\n",
    "            if not alreadyInSum:\n",
    "                newSummandList.append(other)\n",
    "            return operatorSum(newSummandList)\n",
    "        elif other == 0:\n",
    "            return self\n",
    "        else:\n",
    "            return NotImplemented\n",
    "\n",
    "    def __mul__(self, other):\n",
    "        if isinstance(other, operatorProduct):\n",
    "            newSummandList = []\n",
    "            for s in self.summandList:\n",
    "                newSummandList.append(s * other)\n",
    "            return operatorSum(newSummandList)\n",
    "        elif isinstance(other, operatorSum):\n",
    "            newSummandList = []\n",
    "            for o in other.summandList:\n",
    "                partialSum = self * o\n",
    "                newSummandList = newSummandList + partialSum.summandList\n",
    "            return operatorSum(newSummandList)\n",
    "        elif isinstance(other, Number):\n",
    "            return operatorSum([self.summandList[s] * other for s in range(len(self.summandList))])\n",
    "        else:\n",
    "            return NotImplemented\n",
    "\n",
    "    def __rmul__(self, other):\n",
    "        if isinstance(other, operatorProduct):\n",
    "            newSummandList = []\n",
    "            for s in self.summandList:\n",
    "                newSummandList.append(other * s)\n",
    "            return operatorSum(newSummandList)\n",
    "        elif isinstance(other, Number):\n",
    "            return operatorSum([other * self.summandList[s] for s in range(len(self.summandList))])\n",
    "        else:\n",
    "            return NotImplemented\n",
    "\n",
    "    def conjugate(self):\n",
    "        return operatorSum([s.conjugate() for s in self.summandList])"
   ]
  },
  {
   "cell_type": "code",
   "execution_count": 7,
   "metadata": {},
   "outputs": [],
   "source": [
    "def normalOrder(operator):\n",
    "    '''\n",
    "    Input: an operatorProduct or operatorSum and a list corresponding to which orbitals are occupied in the Fermi vacuum\n",
    "    Output: normal ordered form of input, with respect to vacuum\n",
    "    '''\n",
    "    if isinstance(operator, operatorSum):\n",
    "        return operatorSum([normalOrder(product) for product in operator.summandList])\n",
    "    quasiCreationList, quasiAnnihilationList = [], []\n",
    "    quasiCreationCount = 0\n",
    "    sign = 1\n",
    "    for o in range(len(operator.operatorList)):\n",
    "        op = operator.operatorList[o]\n",
    "        if bool(op.quasi_cre_ann):\n",
    "            quasiCreationList.append(op)\n",
    "            if (o - quasiCreationCount) % 2 == 1:\n",
    "                sign = -sign\n",
    "            quasiCreationCount += 1\n",
    "        else:\n",
    "            quasiAnnihilationList.append(op)\n",
    "    return operatorProduct(quasiCreationList + quasiAnnihilationList, sign * operator.prefactor, operator.contractionsList)"
   ]
  },
  {
   "cell_type": "code",
   "execution_count": 9,
   "metadata": {},
   "outputs": [],
   "source": [
    "def anticommute(operatorProduct_, first):\n",
    "    '''\n",
    "    Apply fermionic anticommutation relation to two adjacent second-quantized operators in an operatorProduct\n",
    "    '''\n",
    "    operatorList_ = operatorProduct_.operatorList\n",
    "#    firstIndex = operatorList_[first].orbital\n",
    "#    secondIndex = operatorList_[first + 1].orbital\n",
    "    commutedTerm = operatorProduct(operatorList_[:first] + operatorList_[first + 1] + operatorList_[first] + operatorList_[first + 1:], operatorProduct_.prefactor * (-1))\n",
    "#    if operatorList_[first].quasi_cre_ann == operatorList_[second].quasi_cre_ann:\n",
    "    return commutedTerm\n",
    "#    elif firstIndex == secondIndex:\n",
    "#        contractedTerm = operatorProduct(operatorList_[:first] + operatorList_[first+2:], operatorProduct_.prefactor)\n",
    "#        return operatorSum([contractedTerm, commutedTerm])\n",
    "#    else:\n",
    "#        return commutedTerm"
   ]
  },
  {
   "cell_type": "code",
   "execution_count": 10,
   "metadata": {},
   "outputs": [],
   "source": [
    "def anticommuteInPlace(operatorProduct_, first):\n",
    "    '''\n",
    "    Apply fermionic anticommutation relation in place to two adjacent second-quantized operators in an operatorProduct\n",
    "    '''\n",
    "    operatorList_ = operatorProduct_.operatorList\n",
    "    if operatorList_ == []:\n",
    "        return\n",
    "    firstOperatorCopy = copy(operatorList_[first])\n",
    "    operatorList_[first], operatorList_[first + 1] = operatorList_[first + 1], firstOperatorCopy\n",
    "    operatorProduct_.prefactor = -operatorProduct_.prefactor\n",
    "    return"
   ]
  },
  {
   "cell_type": "code",
   "execution_count": 11,
   "metadata": {},
   "outputs": [],
   "source": [
    "def contract(operatorProduct_, first, second):\n",
    "    '''\n",
    "    Make a contraction between the indices of operators at the positions given by first and second in operatorProduct_\n",
    "    '''\n",
    "    operatorList_ = operatorProduct_.operatorList\n",
    "    existingContractions = operatorProduct_.contractionsList\n",
    "    if operatorList_ == []:\n",
    "        return operatorProduct_\n",
    "    firstIndex = operatorList_[first].index\n",
    "    secondIndex = operatorList_[second].index\n",
    "#    if firstIndex == secondIndex:\n",
    "    if firstIndex.occupiedInVacuum != secondIndex.occupiedInVacuum:\n",
    "        return operatorProduct([],0)\n",
    "    if operatorList_[first].spin != operatorList_[second].spin:\n",
    "        return operatorProduct([],0)\n",
    "    if operatorList_[first].quasi_cre_ann:\n",
    "        return operatorProduct([],0)\n",
    "    if not operatorList_[second].quasi_cre_ann:\n",
    "        return operatorProduct([],0)\n",
    "    else:\n",
    "        contractionTuple = tuple()\n",
    "        if operatorList_[first].creation_annihilation:\n",
    "            contractionTuple = (firstIndex, secondIndex)\n",
    "        else:\n",
    "            contractionTuple = (secondIndex, firstIndex)\n",
    "        return operatorProduct(operatorList_[:first] + operatorList_[first+1:second] + operatorList_[second + 1:], operatorProduct_.prefactor * ((-1) ** (1 + second - first)), existingContractions + [contractionTuple])"
   ]
  },
  {
   "cell_type": "code",
   "execution_count": 12,
   "metadata": {},
   "outputs": [],
   "source": [
    "def reorderForContraction(operatorProduct_, first, second):\n",
    "    '''\n",
    "    Reorder operators using anticommutation relation so that two operators to be contracted are in positions 0 and 1\n",
    "    '''\n",
    "    operatorProductCopy = copy(operatorProduct_)\n",
    "    i = first\n",
    "    j = second\n",
    "    while i > 0:\n",
    "        anticommuteInPlace(operatorProductCopy, i-1)\n",
    "        i = i - 1\n",
    "    while j > 1:\n",
    "        anticommuteInPlace(operatorProductCopy, j-1)\n",
    "        j = j - 1\n",
    "    return operatorProductCopy\n"
   ]
  },
  {
   "cell_type": "code",
   "execution_count": 13,
   "metadata": {},
   "outputs": [],
   "source": [
    "def reorderForMultipleContraction(operatorProduct_, pairsList):\n",
    "    '''\n",
    "    Reorder operators using anticommutation relation so that each pair of operators to be contracted are adjacent\n",
    "    '''\n",
    "    operatorProductCopy = copy(operatorProduct_)\n",
    "    finalPosition = 0\n",
    "    for positionPair in pairsList:\n",
    "        i = positionPair[0]\n",
    "        j = positionPair[1]\n",
    "        while i > finalPosition:\n",
    "            anticommuteInPlace(operatorProductCopy, i-1)\n",
    "            i = i - 1\n",
    "        while j > finalPosition + 1:\n",
    "            anticommuteInPlace(operatorProductCopy, j-1)\n",
    "            j = j - 1\n",
    "        finalPosition = finalPosition + 2\n",
    "    return operatorProductCopy"
   ]
  },
  {
   "cell_type": "code",
   "execution_count": 14,
   "metadata": {},
   "outputs": [],
   "source": [
    "def updateFlattenedPositionList(flattenedPositions):\n",
    "    for i in range(len(flattenedPositions)):\n",
    "        if flattenedPositions[i] > flattenedPositions[1]:\n",
    "            flattenedPositions[i] -= 2\n",
    "        elif flattenedPositions[i] > flattenedPositions[0]:\n",
    "            flattenedPositions[i] -= 1\n",
    "    return flattenedPositions[2:]"
   ]
  },
  {
   "cell_type": "code",
   "execution_count": 15,
   "metadata": {},
   "outputs": [],
   "source": [
    "def multipleContraction(operatorProduct_, positionPairsList):\n",
    "    '''\n",
    "    Contractions between multiple pairs of operators in a product, at the positions given by entries 2i and 2i+1 in positionPairsList\n",
    "    '''\n",
    "    product = copy(operatorProduct_)\n",
    "    while len(positionPairsList) > 0:\n",
    "#    for positionPair in pairsList:\n",
    "        reorderedProduct = reorderForContraction(product, positionPairsList[0], positionPairsList[1])\n",
    "        product = contract(reorderedProduct, 0, 1)\n",
    "        positionPairsList = updateFlattenedPositionList(positionPairsList) #NOTE: reduces length of positionPairsList by 2\n",
    "    return product"
   ]
  },
  {
   "cell_type": "code",
   "execution_count": 16,
   "metadata": {},
   "outputs": [],
   "source": [
    "def nFoldContractionFromStart(operatorProduct_, n):\n",
    "    product = copy(operatorProduct_)\n",
    "    if (2 * n <= len(product.operatorList)):\n",
    "        for i in range(n):\n",
    "            product = contract(product, 0, 1)\n",
    "    return product"
   ]
  },
  {
   "cell_type": "code",
   "execution_count": 8,
   "metadata": {},
   "outputs": [
    {
     "output_type": "stream",
     "name": "stdout",
     "text": [
      "a^{p\\alpha}\na_{p\\alpha}\n1.0 * a^{p\\alpha}a_{p\\alpha}\n1.0 * a^{p\\alpha}a_{p\\alpha}\n4.0 * a^{p\\alpha}a_{p\\alpha}a^{p\\alpha}a_{p\\alpha}\nTrue\nTrue\n"
     ]
    }
   ],
   "source": [
    "oP = operatorProduct([basicOperator(Index('p', False),1,1), basicOperator(Index('p', False),0,1)])\n",
    "nOP = normalOrder(oP)\n",
    "for i in range(len(nOP.operatorList)):\n",
    "    print(nOP.operatorList[i])\n",
    "\n",
    "print(oP)\n",
    "print(nOP)\n",
    "\n",
    "print((nOP + oP) * (nOP + oP))\n",
    "\n",
    "a = basicOperator(Index('p', False),1,1)\n",
    "b = basicOperator(Index('p', False),1,1)\n",
    "\n",
    "print(a==b)\n",
    "\n",
    "print((nOP * nOP).checkNilpotency())"
   ]
  },
  {
   "cell_type": "code",
   "execution_count": 17,
   "metadata": {},
   "outputs": [
    {
     "output_type": "stream",
     "name": "stdout",
     "text": [
      "1.0 * a_{a\\alpha}a_{b\\alpha}a^{a\\alpha}a^{b\\alpha}\n",
      "1.0 * a^{a\\alpha}a^{b\\alpha}a_{a\\alpha}a_{b\\alpha}\n",
      "----\n",
      "-1.0 * a_{b\\alpha}a^{b\\alpha}\\delta^{a}_{a}\n",
      "-1.0 * a_{a\\alpha}a^{a\\alpha}\\delta^{b}_{b}\n",
      "-1.0 * \\delta^{a}_{a}\\delta^{b}_{b}\n",
      "0\n",
      "4\n",
      "----\n",
      "-1.0 * a_{a\\alpha}a^{a\\alpha}a_{b\\alpha}a^{b\\alpha}\n",
      "-1.0 * a_{b\\alpha}a^{b\\alpha}\\delta^{a}_{a}\n",
      "----\n",
      "1.0 * a_{a\\alpha}a_{b\\alpha}a^{a\\alpha}a^{b\\alpha}\n"
     ]
    }
   ],
   "source": [
    "oP2 = operatorProduct([basicOperator(Index('a', False),0,1), basicOperator(Index('b', False),0,1), basicOperator(Index('a', False),1,1), basicOperator(Index('b', False),1,1)])\n",
    "nOP2 = normalOrder(oP2)\n",
    "print(oP2)\n",
    "print(nOP2)\n",
    "\n",
    "print(\"----\")\n",
    "\n",
    "print(contract(oP2, 0,2))\n",
    "print(contract(oP2, 1,3))\n",
    "print(contract(contract(oP2, 0,2),0,1))\n",
    "print(nFoldContractionFromStart(oP2, 1))\n",
    "print(len(oP2.operatorList))\n",
    "\n",
    "print(\"----\")\n",
    "\n",
    "print(reorderForContraction(oP2,0,2))\n",
    "print(nFoldContractionFromStart(reorderForContraction(oP2,0,2), 1))\n",
    "\n",
    "print(\"----\")\n",
    "\n",
    "print(multipleContraction(oP2, []))"
   ]
  },
  {
   "cell_type": "code",
   "execution_count": 2,
   "metadata": {},
   "outputs": [],
   "source": [
    "bohr = 0.529177249\n",
    "\n",
    "H2sep = 1.605 * bohr\n",
    "\n",
    "mol = gto.Mole()\n",
    "mol.verbose = 1\n",
    "mol.atom = 'H 0 0 0; H 0 0 ' + str(H2sep)\n",
    "mol.basis = 'sto-3g'\n",
    "mol.spin = 0\n",
    "mol.build()\n",
    "\n",
    "Enuc = mol.energy_nuc()\n",
    "\n",
    "mf = scf.ROHF(mol)\n",
    "mf.kernel()\n",
    "\n",
    "h1 = mf.mo_coeff.T.dot(mf.get_hcore()).dot(mf.mo_coeff)\n",
    "eri = ao2mo.kernel(mol, mf.mo_coeff, compact=False)\n",
    "\n",
    "cisolver = fci.FCI(mol, mf.mo_coeff)\n",
    "\n",
    "Norbs = mol.nao\n",
    "Nocc = mf.nelectron_alpha\n",
    "vacuum = [1 for i in range(Nocc)] + [0 for i in range (Norbs - Nocc)]"
   ]
  },
  {
   "cell_type": "code",
   "execution_count": 18,
   "metadata": {},
   "outputs": [
    {
     "output_type": "stream",
     "name": "stdout",
     "text": [
      "[0, 2, 1, 3]\n[0, 1]\n[0, 2, 1, 3]\n"
     ]
    }
   ],
   "source": [
    "positionPairs = [(0,2),(1,3)]\n",
    "flattenedPositions = [pos for pair in positionPairs for pos in pair]\n",
    "print(flattenedPositions)\n",
    "flattenedPositionsAfterContraction = copy(flattenedPositions)\n",
    "for i in range(len(flattenedPositionsAfterContraction)):\n",
    "    if flattenedPositionsAfterContraction[i] > flattenedPositionsAfterContraction[1]:\n",
    "        flattenedPositionsAfterContraction[i] -= 2\n",
    "    elif flattenedPositionsAfterContraction[i] > flattenedPositionsAfterContraction[0]:\n",
    "        flattenedPositionsAfterContraction[i] -= 1\n",
    "print(flattenedPositionsAfterContraction[2:])\n",
    "print(flattenedPositions)"
   ]
  },
  {
   "cell_type": "code",
   "execution_count": 19,
   "metadata": {},
   "outputs": [],
   "source": [
    "def genPairOrderedLists(list_):\n",
    "    '''\n",
    "    Given an ordered list with an even number of elements, returns list of all permutations of that list where each adjacent pair is ordered, and where the first elements of pairs are ordered\n",
    "    '''\n",
    "    pairOrderedLists = []\n",
    "    if len(list_) == 2:\n",
    "        pairOrderedLists.append(list_)\n",
    "    else:\n",
    "        for i in range(1,len(list_)):\n",
    "            swappedList = [list_[0]] + [list_[i]] + list_[1:i]\n",
    "            if i < len(list_):\n",
    "                swappedList = swappedList + list_[i+1:]\n",
    "            subLists = genPairOrderedLists(swappedList[2:])\n",
    "            for l in range(len(subLists)):\n",
    "                pairOrderedLists.append(swappedList[:2] + subLists[l])\n",
    "    return pairOrderedLists"
   ]
  },
  {
   "cell_type": "code",
   "execution_count": 20,
   "metadata": {},
   "outputs": [
    {
     "output_type": "stream",
     "name": "stdout",
     "text": [
      "[['a', 'b', 'c', 'd', 'e', 'f'], ['a', 'b', 'c', 'e', 'd', 'f'], ['a', 'b', 'c', 'f', 'd', 'e'], ['a', 'c', 'b', 'd', 'e', 'f'], ['a', 'c', 'b', 'e', 'd', 'f'], ['a', 'c', 'b', 'f', 'd', 'e'], ['a', 'd', 'b', 'c', 'e', 'f'], ['a', 'd', 'b', 'e', 'c', 'f'], ['a', 'd', 'b', 'f', 'c', 'e'], ['a', 'e', 'b', 'c', 'd', 'f'], ['a', 'e', 'b', 'd', 'c', 'f'], ['a', 'e', 'b', 'f', 'c', 'd'], ['a', 'f', 'b', 'c', 'd', 'e'], ['a', 'f', 'b', 'd', 'c', 'e'], ['a', 'f', 'b', 'e', 'c', 'd']]\n"
     ]
    }
   ],
   "source": [
    "objectList = [\"a\", \"b\", \"c\", \"d\", \"e\", \"f\"]\n",
    "print(genPairOrderedLists(objectList))"
   ]
  },
  {
   "cell_type": "code",
   "execution_count": 21,
   "metadata": {},
   "outputs": [],
   "source": [
    "from itertools import combinations"
   ]
  },
  {
   "cell_type": "code",
   "execution_count": 22,
   "metadata": {},
   "outputs": [],
   "source": [
    "def getPositionsForMultipleContraction(operatorProduct_, n):\n",
    "    nOperators = len(operatorProduct_.operatorList)\n",
    "    operatorPositions = range(nOperators)\n",
    "    nToChoose = 2 * n\n",
    "    if nToChoose <= nOperators:\n",
    "        return combinations(operatorPositions, nToChoose)\n"
   ]
  },
  {
   "cell_type": "code",
   "execution_count": 23,
   "metadata": {},
   "outputs": [
    {
     "output_type": "stream",
     "name": "stdout",
     "text": [
      "1.0 * a_{a\\alpha}a_{b\\alpha}a^{a\\alpha}a^{b\\alpha}\n[[0, 1, 2, 3]]\n[]\n"
     ]
    }
   ],
   "source": [
    "print(oP2)\n",
    "chosenPositions = getPositionsForMultipleContraction(oP2, 2)\n",
    "print([list(c) for c in chosenPositions])\n",
    "print([genPairOrderedLists(list(d)) for d in chosenPositions])"
   ]
  },
  {
   "cell_type": "code",
   "execution_count": 24,
   "metadata": {},
   "outputs": [],
   "source": [
    "def sumNFoldContractions(operatorProduct_, n):\n",
    "    chosenPositions = getPositionsForMultipleContraction(operatorProduct_, n)\n",
    "    if n == 0:\n",
    "        return operatorProduct_\n",
    "    operatorSum_ = operatorSum([])\n",
    "    for c in chosenPositions:\n",
    "        pairOrderedList = genPairOrderedLists(list(c))\n",
    "        for l in pairOrderedList:\n",
    "            operatorSum_ = operatorSum_ + multipleContraction(operatorProduct_, l)\n",
    "    return operatorSum_"
   ]
  },
  {
   "cell_type": "code",
   "execution_count": 25,
   "metadata": {},
   "outputs": [
    {
     "output_type": "stream",
     "name": "stdout",
     "text": [
      "1.0 * a_{a\\alpha}a_{b\\alpha}a^{a\\alpha}a^{b\\alpha}\n-1.0 * \\delta^{a}_{a}\\delta^{b}_{b}\n-1.0 * a_{b\\alpha}a^{b\\alpha}\\delta^{a}_{a}\n + 1.0 * a_{b\\alpha}a^{a\\alpha}\\delta^{b}_{a}\n + 1.0 * a_{a\\alpha}a^{b\\alpha}\\delta^{a}_{b}\n + -1.0 * a_{a\\alpha}a^{a\\alpha}\\delta^{b}_{b}\n"
     ]
    }
   ],
   "source": [
    "print(oP2)\n",
    "print(multipleContraction(oP2, [0,2,1,3]))\n",
    "print(sumNFoldContractions(oP2, 1))"
   ]
  },
  {
   "cell_type": "code",
   "execution_count": 26,
   "metadata": {},
   "outputs": [],
   "source": [
    "def wickExpand(operator):\n",
    "    if isinstance(operator, operatorSum):\n",
    "        wickExpansion = operatorSum([])\n",
    "        for product in operator.summandList:\n",
    "            wickExpansion = wickExpansion + wickExpand(product)\n",
    "        return wickExpansion\n",
    "    wickExpansion = operatorSum([normalOrder(operator)])\n",
    "    highestOrder = len(operator.operatorList) // 2\n",
    "    for n in range(highestOrder):\n",
    "        wickExpansion = wickExpansion + sumNFoldContractions(operator, n + 1)\n",
    "    return normalOrder(wickExpansion)"
   ]
  },
  {
   "cell_type": "code",
   "execution_count": 27,
   "metadata": {},
   "outputs": [],
   "source": [
    "def vacuumExpectationValue(operator):\n",
    "    wickExpansion = wickExpand(operator)\n",
    "    vEV = operatorSum()\n",
    "    for summand in wickExpansion.summandList:\n",
    "        if summand.operatorList == []:\n",
    "            topologyAlreadyFound = False\n",
    "            for topology in vEV.summandList:\n",
    "                if set(summand.contractionsList) == set(topology.contractionsList):\n",
    "                    topology.prefactor += summand.prefactor\n",
    "                    topologyAlreadyFound = True\n",
    "            if not topologyAlreadyFound:\n",
    "                vEV += summand\n",
    "    return vEV"
   ]
  },
  {
   "cell_type": "code",
   "execution_count": 28,
   "metadata": {},
   "outputs": [
    {
     "output_type": "stream",
     "name": "stdout",
     "text": [
      "1.0 * a_{a\\alpha}a_{b\\alpha}a^{a\\alpha}a^{b\\alpha}\n1.0 * a^{a\\alpha}a^{b\\alpha}a_{a\\alpha}a_{b\\alpha}\n + 1.0 * a^{b\\alpha}a_{b\\alpha}\\delta^{a}_{a}\n + -1.0 * a^{a\\alpha}a_{b\\alpha}\\delta^{b}_{a}\n + -1.0 * a^{b\\alpha}a_{a\\alpha}\\delta^{a}_{b}\n + 1.0 * a^{a\\alpha}a_{a\\alpha}\\delta^{b}_{b}\n + -1.0 * \\delta^{a}_{a}\\delta^{b}_{b}\n + 1.0 * \\delta^{b}_{a}\\delta^{a}_{b}\n-1.0 * \\delta^{a}_{a}\\delta^{b}_{b}\n + 1.0 * \\delta^{b}_{a}\\delta^{a}_{b}\n"
     ]
    }
   ],
   "source": [
    "print(oP2)\n",
    "print(wickExpand(oP2))\n",
    "print(vacuumExpectationValue(oP2))"
   ]
  },
  {
   "cell_type": "code",
   "execution_count": 29,
   "metadata": {},
   "outputs": [],
   "source": [
    "#Particle number-conserving excitation operators, normal ordered with respect to true vacuum\n",
    "class excitation(operatorProduct):\n",
    "    def __init__(self, creationIndicesList_, annihilationIndicesList_, spinList_):\n",
    "        super(excitation, self).__init__()\n",
    "        self.operatorList = []\n",
    "        for i in range(len(creationIndicesList_)):\n",
    "            self.operatorList.append(basicOperator(creationIndicesList_[i], True, spinList_[i]))\n",
    "        for i in range(len(annihilationIndicesList_)):\n",
    "            self.operatorList.append(basicOperator(annihilationIndicesList_[i], False, spinList_[i+len(creationIndicesList_)]))"
   ]
  },
  {
   "cell_type": "code",
   "execution_count": 30,
   "metadata": {},
   "outputs": [],
   "source": [
    "class spinFreeExcitation(operatorSum):\n",
    "    def __init__(self, creationList_, annihilationList_):\n",
    "        self.summandList = []\n",
    "        spinLists = np.reshape(np.zeros(len(creationList_)), (1, -1))\n",
    "        for i in range(len(creationList_)):\n",
    "            newspinLists = copy(spinLists)\n",
    "            for s in range(len(spinLists)):\n",
    "                newspinLists[s,i] = 1\n",
    "            spinLists = np.concatenate((spinLists, newspinLists))\n",
    "        for l in range(len(spinLists)):\n",
    "            spinList = spinLists[l]\n",
    "            self.summandList.append(excitation(creationList_, annihilationList_, [*spinList, *spinList[::-1]]))"
   ]
  },
  {
   "cell_type": "code",
   "execution_count": 31,
   "metadata": {},
   "outputs": [],
   "source": [
    "aI = Index('a', True)\n",
    "bI = Index('b', True)\n",
    "cI = Index('c', True)\n",
    "dI = Index('d', True)\n",
    "rI = Index('r', False)\n",
    "sI = Index('s', False)\n",
    "tI = Index('t', False)\n",
    "uI = Index('u', False)"
   ]
  },
  {
   "cell_type": "code",
   "execution_count": 32,
   "metadata": {},
   "outputs": [],
   "source": [
    "testOperator = spinFreeExcitation([rI], [aI])"
   ]
  },
  {
   "cell_type": "code",
   "execution_count": 33,
   "metadata": {},
   "outputs": [
    {
     "output_type": "stream",
     "name": "stdout",
     "text": [
      "1.0 * a^{r\\beta}a_{a\\beta}\n + 1.0 * a^{r\\alpha}a_{a\\alpha}\n"
     ]
    }
   ],
   "source": [
    "print(testOperator)"
   ]
  },
  {
   "cell_type": "code",
   "execution_count": 34,
   "metadata": {},
   "outputs": [
    {
     "output_type": "stream",
     "name": "stdout",
     "text": [
      "1.0 * a^{r\\beta}a_{a\\beta}\n + 1.0 * a^{r\\alpha}a_{a\\alpha}\n"
     ]
    }
   ],
   "source": [
    "print(normalOrder(testOperator))"
   ]
  },
  {
   "cell_type": "code",
   "execution_count": 35,
   "metadata": {},
   "outputs": [
    {
     "output_type": "stream",
     "name": "stdout",
     "text": [
      "1.0 * a^{r\\beta}a_{a\\beta}\n + 1.0 * a^{r\\alpha}a_{a\\alpha}\n"
     ]
    }
   ],
   "source": [
    "print(wickExpand(testOperator))"
   ]
  },
  {
   "cell_type": "code",
   "execution_count": 36,
   "metadata": {},
   "outputs": [],
   "source": [
    "testOperator1 = spinFreeExcitation([sI], [bI])"
   ]
  },
  {
   "cell_type": "code",
   "execution_count": 37,
   "metadata": {},
   "outputs": [
    {
     "output_type": "stream",
     "name": "stdout",
     "text": [
      "1.0 * a_{r\\beta}a^{a\\beta}a^{s\\beta}a_{b\\beta}\n + 1.0 * a_{r\\alpha}a^{a\\alpha}a^{s\\beta}a_{b\\beta}\n + 1.0 * a_{r\\beta}a^{a\\beta}a^{s\\alpha}a_{b\\alpha}\n + 1.0 * a_{r\\alpha}a^{a\\alpha}a^{s\\alpha}a_{b\\alpha}\n"
     ]
    }
   ],
   "source": [
    "print(testOperator.conjugate() * testOperator1)"
   ]
  },
  {
   "cell_type": "code",
   "execution_count": 38,
   "metadata": {},
   "outputs": [
    {
     "output_type": "stream",
     "name": "stdout",
     "text": [
      "1.0 * a^{s\\beta}a_{b\\beta}a_{r\\beta}a^{a\\beta}\n + 1.0 * a_{b\\beta}a^{a\\beta}\\delta^{s}_{r}\n + 1.0 * a^{s\\beta}a_{r\\beta}\\delta^{a}_{b}\n + -2.0 * \\delta^{s}_{r}\\delta^{a}_{b}\n + 1.0 * a^{s\\beta}a_{b\\beta}a_{r\\alpha}a^{a\\alpha}\n + 1.0 * a^{s\\alpha}a_{b\\alpha}a_{r\\beta}a^{a\\beta}\n + 1.0 * a^{s\\alpha}a_{b\\alpha}a_{r\\alpha}a^{a\\alpha}\n + 1.0 * a_{b\\alpha}a^{a\\alpha}\\delta^{s}_{r}\n + 1.0 * a^{s\\alpha}a_{r\\alpha}\\delta^{a}_{b}\n"
     ]
    }
   ],
   "source": [
    "print(wickExpand(testOperator.conjugate() * testOperator1))"
   ]
  },
  {
   "cell_type": "code",
   "execution_count": 39,
   "metadata": {},
   "outputs": [],
   "source": [
    "def canContract(o1, o2):\n",
    "    if o1.quasi_cre_ann:\n",
    "        return 0\n",
    "    elif o2.quasi_cre_ann and (o1.spin == o2.spin):\n",
    "        return int(o1.index.occupiedInVacuum == o2.index.occupiedInVacuum)\n",
    "    else:\n",
    "        return 0"
   ]
  },
  {
   "cell_type": "code",
   "execution_count": 40,
   "metadata": {},
   "outputs": [],
   "source": [
    "def recursiveFullContraction(operatorProduct_, speedup=False):\n",
    "#    if isinstance(operatorProduct_, Number):\n",
    "#        return operatorProduct_\n",
    "    operatorList_ = operatorProduct_.operatorList\n",
    "    if speedup:\n",
    "        if not sum(o.quasi_cre_ann for o in operatorList_) == sum(not o.quasi_cre_ann for o in operatorList_):\n",
    "            return 0\n",
    "    existingContractions = operatorProduct_.contractionsList\n",
    "    if len(operatorList_) == 0:\n",
    "        return operatorProduct_\n",
    "    elif len(operatorList_) == 2:\n",
    "        if canContract(operatorList_[0], operatorList_[1]):\n",
    "            contractionTuple = tuple()\n",
    "            if operatorList_[0].creation_annihilation:\n",
    "                contractionTuple = (operatorList_[0].index, operatorList_[1].index)\n",
    "            else:\n",
    "                contractionTuple = (operatorList_[1].index, operatorList_[0].index)\n",
    "            return operatorProduct([], operatorProduct_.prefactor, existingContractions + [contractionTuple])\n",
    "        else:\n",
    "            return 0\n",
    "    elif len(operatorList_) % 2 == 0:\n",
    "        result = 0\n",
    "        for i in range(1, len(operatorList_) - 1):\n",
    "            if canContract(operatorList_[0], operatorList_[i]):\n",
    "                contractionTuple = tuple()\n",
    "                if operatorList_[0].creation_annihilation:\n",
    "                    contractionTuple = (operatorList_[0].index, operatorList_[i].index)\n",
    "                else:\n",
    "                    contractionTuple = (operatorList_[i].index, operatorList_[0].index)\n",
    "                result += pow(-1, i-1) * recursiveFullContraction(operatorProduct(operatorList_[1:i] + operatorList_[i+1:], operatorProduct_.prefactor, existingContractions + [contractionTuple]))\n",
    "        if canContract(operatorList_[0], operatorList_[-1]):\n",
    "            contractionTuple = tuple()\n",
    "            if operatorList_[0].creation_annihilation:\n",
    "                contractionTuple = (operatorList_[0].index, operatorList_[-1].index)\n",
    "            else:\n",
    "                contractionTuple = (operatorList_[-1].index, operatorList_[0].index)\n",
    "            result += recursiveFullContraction(operatorProduct(operatorList_[1:-1], operatorProduct_.prefactor, existingContractions + [contractionTuple]))\n",
    "        return result\n",
    "    else:\n",
    "        return 0"
   ]
  },
  {
   "cell_type": "code",
   "execution_count": 41,
   "metadata": {},
   "outputs": [
    {
     "output_type": "stream",
     "name": "stdout",
     "text": [
      "1.0 * a_{r\\beta}a^{a\\beta}a^{s\\beta}a_{b\\beta}\n"
     ]
    }
   ],
   "source": [
    "print((testOperator.conjugate() * testOperator1).summandList[0])"
   ]
  },
  {
   "cell_type": "code",
   "execution_count": 42,
   "metadata": {},
   "outputs": [
    {
     "output_type": "stream",
     "name": "stdout",
     "text": [
      "-1.0 * \\delta^{s}_{r}\\delta^{a}_{b}\n"
     ]
    }
   ],
   "source": [
    "print(recursiveFullContraction((testOperator.conjugate() * testOperator1).summandList[0]))"
   ]
  },
  {
   "cell_type": "code",
   "execution_count": 43,
   "metadata": {},
   "outputs": [],
   "source": [
    "def recursiveVacuumExpectationValue(operator, speedup=False, printing=False):\n",
    "    if isinstance(operator, operatorProduct):\n",
    "        return recursiveFullContraction(operator, speedup)\n",
    "    elif isinstance(operator, operatorSum):\n",
    "        result = operatorSum([])\n",
    "        for product in operator.summandList:\n",
    "            term = recursiveFullContraction(product, speedup)\n",
    "            if printing and term != 0.:\n",
    "                print(product)\n",
    "            result += term\n",
    "        return result\n",
    "    elif isinstance(operator, Number):\n",
    "        return operatorSum([operatorProduct([], operator)])\n",
    "    else:\n",
    "        return operatorSum([])"
   ]
  },
  {
   "cell_type": "code",
   "execution_count": 44,
   "metadata": {},
   "outputs": [
    {
     "output_type": "stream",
     "name": "stdout",
     "text": [
      "[(<__main__.Index object at 0x121070f70>, <__main__.Index object at 0x121070e80>), (<__main__.Index object at 0x121070040>, <__main__.Index object at 0x1210709a0>)]\n"
     ]
    }
   ],
   "source": [
    "print(vacuumExpectationValue(testOperator.conjugate() * testOperator1).summandList[0].contractionsList)"
   ]
  },
  {
   "cell_type": "code",
   "execution_count": 125,
   "metadata": {},
   "outputs": [],
   "source": [
    "class Tensor:\n",
    "    '''\n",
    "    Class for amplitude tensors of spin-free excitation operators\n",
    "    '''\n",
    "#    def __init__(self, name, lowerIndexTypesList, upperIndexTypesList, array=None):\n",
    "    def __init__(self, name, lowerIndexTypesList, upperIndexTypesList):\n",
    "        self.name = name\n",
    "        self.lowerIndexTypes = lowerIndexTypesList\n",
    "        self.upperIndexTypes = upperIndexTypesList\n",
    "        self.excitationRank = len(self.lowerIndexTypes)\n",
    "#        self.array = np.zeros(self.getShape())\n",
    "#        if array is not None:\n",
    "#            self.setArray(array)\n",
    "\n",
    "    def getShape(self, vacuum):\n",
    "        Norbs = len(vacuum)\n",
    "        Nocc = sum(vacuum)\n",
    "        shapeList = []\n",
    "        for iType in self.lowerIndexTypes:\n",
    "            if iType == 'g':\n",
    "                shapeList.append(Norbs)\n",
    "            elif iType == 'p':\n",
    "                shapeList.append(Norbs - Nocc)\n",
    "            elif iType == 'h':\n",
    "                shapeList.append(Nocc)\n",
    "            else:\n",
    "                print('Orbital index type Error')\n",
    "        for iType in self.upperIndexTypes:\n",
    "            if iType == 'g':\n",
    "                shapeList.append(Norbs)\n",
    "            elif iType == 'p':\n",
    "                shapeList.append(Norbs - Nocc)\n",
    "            elif iType == 'h':\n",
    "                shapeList.append(Nocc)\n",
    "            else:\n",
    "                print('Orbital index type Error')\n",
    "#        return tuple(shapeList)\n",
    "        self.array = np.zeros(tuple(shapeList))\n",
    "\n",
    "    def setArray(self, array):\n",
    "        if array.shape == self.array.shape:\n",
    "            self.array = array\n",
    "        else:\n",
    "            print(\"Array is of wrong shape\")\n",
    "\n",
    "    def getOperator(self):\n",
    "        return TensorProduct([self]).getOperator()\n",
    "#        operator = operatorSum([])\n",
    "#        it = np.nditer(self.array, flags=[\"multi_index\"])\n",
    "#        \n",
    "#        for i in it:\n",
    "#            indices = it.multi_index\n",
    "#            creationIndices = indices[:self.excitationRank]\n",
    "#            annihilationIndices = indices[self.excitationRank:]\n",
    "#            operator += i * spinFreeExcitation(creationIndices, annihilationIndices)\n",
    "#        return operator\n",
    "\n",
    "    def getDiagrams(self):\n",
    "        diagrams = []\n",
    "        lowerGeneralIndexCount = sum(i == 'g' for i in self.lowerIndexTypes)\n",
    "        lowerSplits = list(itertools.combinations_with_replacement(['h', 'p'], lowerGeneralIndexCount))\n",
    "        upperGeneralIndexCount = sum(i == 'g' for i in self.upperIndexTypes)\n",
    "        upperSplits = list(itertools.combinations_with_replacement(['h', 'p'], upperGeneralIndexCount))\n",
    "        for lowerSplit in lowerSplits:\n",
    "            lowerSlices = [slice(None)] * self.excitationRank\n",
    "            lowerSplitIndexTypes = list(lowerSplit)\n",
    "            lGI = 0\n",
    "            newLowerIndexTypes = copy.copy(self.lowerIndexTypes)\n",
    "            for lI in range(len(newLowerIndexTypes)):\n",
    "                if newLowerIndexTypes[lI] == 'g':\n",
    "                    newLI = lowerSplitIndexTypes[lGI]\n",
    "                    if newLI == 'h':\n",
    "                        lowerSlices[lI] = slice(None,Nocc)\n",
    "                    elif newLI == 'p':\n",
    "                        lowerSlices[lI] = slice(Nocc, None)\n",
    "                    newLowerIndexTypes[lI] = newLI\n",
    "                    lGI += 1\n",
    "            for upperSplit in upperSplits:\n",
    "                upperSlices = [slice(None)] * self.excitationRank\n",
    "                upperSplitIndexTypes = list(upperSplit)\n",
    "                uGI = 0\n",
    "                newUpperIndexTypes = copy.copy(self.upperIndexTypes)\n",
    "                for uI in range(len(newUpperIndexTypes)):\n",
    "                    if newUpperIndexTypes[uI] == 'g':\n",
    "                        newUI = upperSplitIndexTypes[uGI]\n",
    "                        if newUI == 'h':\n",
    "                            upperSlices[uI] = slice(None,Nocc)\n",
    "                        elif newUI == 'p':\n",
    "                            upperSlices[uI] = slice(Nocc, None)\n",
    "                        newUpperIndexTypes[uI] = newUI\n",
    "                        uGI += 1\n",
    "                slices = lowerSlices + upperSlices\n",
    "                print(lowerSplitIndexTypes)\n",
    "                print(upperSplitIndexTypes)\n",
    "                print(newLowerIndexTypes)\n",
    "                print(newUpperIndexTypes)\n",
    "                print(slices)\n",
    "                diagram = Tensor(self.name, newLowerIndexTypes, newUpperIndexTypes, self.array[slices])\n",
    "                diagrams.append(diagram)\n",
    "        return diagrams\n",
    "\n",
    "    def __add__(self, other):\n",
    "        if isinstance(other, Tensor):\n",
    "            return TensorSum([TensorProduct([self]), TensorProduct([other])])\n",
    "        elif other == 0:\n",
    "            return self\n",
    "        else:\n",
    "            return NotImplemented\n",
    "\n",
    "    def __radd__(self, other):\n",
    "        if other == 0:\n",
    "            return self\n",
    "        else:\n",
    "            return NotImplemented\n",
    "\n",
    "    def __mul__(self, other):\n",
    "        if isinstance(other, Tensor):\n",
    "            return TensorProduct([self, other])\n",
    "        elif isinstance(other, Number):\n",
    "            return TensorProduct([self], other)\n",
    "        else:\n",
    "            return NotImplemented\n",
    "\n",
    "    def __rmul__(self, other):\n",
    "        if isinstance(other, Number):\n",
    "            return TensorProduct([self], other)\n",
    "        else:\n",
    "            return NotImplemented\n",
    "\n",
    "    def __str__(self):\n",
    "        string = self.name + \"_{\"\n",
    "        for p in self.lowerIndexTypes:\n",
    "            string += p.__str__()\n",
    "        string += \"}^{\"\n",
    "        for q in self.upperIndexTypes:\n",
    "            string += q.__str__()\n",
    "        string += \"}\"\n",
    "        return string"
   ]
  },
  {
   "cell_type": "code",
   "execution_count": 46,
   "metadata": {},
   "outputs": [],
   "source": [
    "class Vertex:\n",
    "    '''\n",
    "    Class for amplitude tensors of spin-free excitation operators\n",
    "    '''\n",
    "    def __init__(self, tensor, lowerIndicesList, upperIndicesList):\n",
    "        self.name = tensor.name\n",
    "        self.tensor = tensor\n",
    "        self.lowerIndices = lowerIndicesList\n",
    "        self.upperIndices = upperIndicesList\n",
    "        self.excitationRank = len(self.lowerIndices)\n",
    "\n",
    "    def applyContraction(self, contraction):\n",
    "        for lowerIndex in self.lowerIndices:\n",
    "            if lowerIndex == contraction[0]:\n",
    "                lowerIndex = contraction[1]\n",
    "\n",
    "    def getOperator(self):\n",
    "        return spinFreeExcitation(self.lowerIndices, self.upperIndices)\n",
    "\n",
    "    def __copy__(self):\n",
    "        return vertex(self.tensor, self.lowerIndices, self.upperIndices)\n",
    "\n",
    "    def __str__(self):\n",
    "        string = self.name + \"_{\"\n",
    "        for p in self.lowerIndices:\n",
    "            string += p.__str__()\n",
    "        string += \"}^{\"\n",
    "        for q in self.upperIndices:\n",
    "            string += q.__str__()\n",
    "        string += \"}\"\n",
    "        return string"
   ]
  },
  {
   "cell_type": "code",
   "execution_count": 47,
   "metadata": {},
   "outputs": [],
   "source": [
    "class TensorProduct:\n",
    "    def __init__(self, tensorList, prefactor=1., vertexList=None):\n",
    "        self.tensorList = tensorList\n",
    "        self.lowerIndices = {'g':[], 'p':[], 'h':[], 'a':[]}\n",
    "        self.upperIndices = {'g':[], 'p':[], 'h':[], 'a':[]}\n",
    "        self.prefactor = prefactor\n",
    "        if vertexList is None:\n",
    "            self.vertexList = self.getVertexList(tensorList)\n",
    "\n",
    "    def applyContraction(self, contraction):\n",
    "        for vertex in self.vertexList:\n",
    "            vertex.applyContraction(contraction)\n",
    "        for orbitalType in self.lowerIndices:\n",
    "            if contraction[0] in self.lowerIndices[orbitalType]:\n",
    "                self.lowerIndices[orbitalType].remove(contraction[0])\n",
    "\n",
    "    def addNewIndex(self, orbitalType, lowerBool):\n",
    "        count = len(self.lowerIndices[orbitalType]) + len(self.upperIndices[orbitalType])\n",
    "        newIndexName = orbitalType + \"_{\" + str(count) + \"}\"\n",
    "        occupiedInVacuum = None\n",
    "        if orbitalType == \"h\" or orbitalType == \"a\":\n",
    "            occupiedInVacuum = True\n",
    "        elif orbitalType == \"p\":\n",
    "            occupiedInVacuum = False\n",
    "        newIndex = Index(newIndexName, occupiedInVacuum)\n",
    "        if lowerBool:\n",
    "            self.lowerIndices[orbitalType].append(newIndex)\n",
    "        else:\n",
    "            self.upperIndices[orbitalType].append(newIndex)\n",
    "        return newIndex\n",
    "\n",
    "    def getVertexList(self, tensorList_):\n",
    "        vertexList = []\n",
    "        for t in tensorList_:\n",
    "            lowerIndexList = []\n",
    "            for i in t.lowerIndexTypes:\n",
    "                lowerIndexList.append(self.addNewIndex(i, True))\n",
    "            upperIndexList = []\n",
    "            for i in t.upperIndexTypes:\n",
    "                upperIndexList.append(self.addNewIndex(i, False))\n",
    "            vertexList.append(Vertex(t, lowerIndexList, upperIndexList))\n",
    "        return vertexList\n",
    "\n",
    "    def getOperator(self):\n",
    "        operator = 1\n",
    "        for vertex in self.vertexList:\n",
    "            operator = operator * vertex.getOperator()\n",
    "        return operator\n",
    "\n",
    "    def getVacuumExpectationValue(self):\n",
    "        return vacuumExpectationValue(self.getOperator())\n",
    "\n",
    "    def __copy__(self):\n",
    "        return TensorProduct(copy(self.tensorList), self.prefactor)\n",
    "\n",
    "    def __add__(self, other):\n",
    "        if isinstance(other, TensorProduct):\n",
    "            return TensorSum([self, other])\n",
    "        elif isinstance(other, Tensor):\n",
    "            return TensorSum([self, TensorProduct([other])])\n",
    "        else:\n",
    "            return NotImplemented\n",
    "\n",
    "    def __radd__(self, other):\n",
    "        if isinstance(other, Tensor):\n",
    "            return TensorSum([TensorProduct([other]), self])\n",
    "        elif other == 0:\n",
    "            return self\n",
    "        else:\n",
    "            return NotImplemented\n",
    "\n",
    "    def __mul__(self, other):\n",
    "        if isinstance(other, Tensor):\n",
    "            return TensorProduct(self.tensorList + [other], self.prefactor)\n",
    "        elif isinstance(other, TensorProduct):\n",
    "            return TensorProduct(self.tensorList + other.tensorList, self.prefactor * other.prefactor)\n",
    "        elif isinstance(other, Number):\n",
    "            return TensorProduct(self.tensorList, self.prefactor * other)\n",
    "        else:\n",
    "            return NotImplemented\n",
    "\n",
    "    def __rmul__(self, other):\n",
    "        if isinstance(other, Tensor):\n",
    "            return TensorProduct([other] + self.tensorList, self.prefactor)\n",
    "        elif isinstance(other, Number):\n",
    "            return TensorProduct(self.tensorList, other * self.prefactor)\n",
    "        else:\n",
    "            return NotImplemented\n",
    "\n",
    "    def __str__(self):\n",
    "        string = str(self.prefactor)\n",
    "        if(len(self.vertexList) > 0):\n",
    "            string = string + \" * \"\n",
    "        for v in self.vertexList:\n",
    "            string += v.__str__()\n",
    "        return string"
   ]
  },
  {
   "cell_type": "code",
   "execution_count": 48,
   "metadata": {},
   "outputs": [],
   "source": [
    "class TensorSum:\n",
    "    def __init__(self, summandList):\n",
    "        self.summandList = summandList\n",
    "\n",
    "    def getOperator(self):\n",
    "        operator = 0\n",
    "        for summand in self.summandList:\n",
    "            operator = operator + summand.getOperator()\n",
    "        return operator\n",
    "\n",
    "    def __copy__(self):\n",
    "        return TensorSum(copy(self.summandList))\n",
    "\n",
    "    def __add__(self, other):\n",
    "        if isinstance(other, TensorSum):\n",
    "            return TensorSum(self.summandList + other.summandList)\n",
    "        elif isinstance(other, TensorProduct):\n",
    "            return TensorSum(self.summandList + [other])\n",
    "        elif isinstance(other, Tensor):\n",
    "            return TensorSum(self.summandList + [TensorProduct([other])])\n",
    "        else:\n",
    "            return NotImplemented\n",
    "\n",
    "    def __radd__(self, other):\n",
    "        if isinstance(other, TensorProduct):\n",
    "            return TensorSum([other] + self.summandList)\n",
    "        elif isinstance(other, Tensor):\n",
    "            return TensorSum(self.summandList + [TensorProduct([other])])\n",
    "        elif other == 0:\n",
    "            return self\n",
    "        else:\n",
    "            return NotImplemented\n",
    "\n",
    "    def __mul__(self, other):\n",
    "        if isinstance(other, Tensor) or isinstance(other, TensorProduct) or isinstance(other, TensorSum) or isinstance(other, Number):\n",
    "            return TensorSum([summand * other for summand in self.summandList])\n",
    "\n",
    "    def __rmul__(self, other):\n",
    "        if isinstance(other, Tensor) or isinstance(other, TensorProduct) or isinstance(other, TensorSum) or isinstance(other, Number):\n",
    "            return TensorSum([other * summand for summand in self.summandList])\n",
    "\n",
    "    def __str__(self):\n",
    "        if len(self.summandList) == 0:\n",
    "            return \"\"\n",
    "        string = self.summandList[0].__str__()\n",
    "        for summand in self.summandList[1:]:\n",
    "            string += \"\\n + \"\n",
    "            string += summand.__str__()\n",
    "        return string"
   ]
  },
  {
   "cell_type": "code",
   "execution_count": 236,
   "metadata": {},
   "outputs": [],
   "source": [
    "fDiagrams = [Tensor('f', ['p'], ['p']), Tensor('f', ['p'], ['h']), Tensor('f', ['h'], ['p']), Tensor('f', ['h'], ['h'])]"
   ]
  },
  {
   "cell_type": "code",
   "execution_count": 237,
   "metadata": {},
   "outputs": [],
   "source": [
    "vDiagrams = [Tensor('v', ['p', 'p'], ['p', 'p']), Tensor('v', ['h', 'h'], ['h', 'h']), Tensor('v', ['h', 'p'], ['p', 'h']), Tensor('v', ['p', 'h'], ['p', 'p']), Tensor('v', ['h', 'h'], ['h', 'p']), Tensor('v', ['p', 'p'], ['p', 'h']), Tensor('v', ['h', 'p'], ['h', 'h']), Tensor('v', ['p', 'p'], ['h', 'h']), Tensor('v', ['h', 'h'], ['p', 'p'])]"
   ]
  },
  {
   "cell_type": "code",
   "execution_count": 238,
   "metadata": {},
   "outputs": [],
   "source": [
    "t1 = Tensor('t1', ['p'], ['h'])\n",
    "t2 = Tensor('t2', ['p', 'p'], ['h', 'h'])"
   ]
  },
  {
   "cell_type": "code",
   "execution_count": 52,
   "metadata": {},
   "outputs": [],
   "source": [
    "term = vDiagrams[8] * t2\n",
    "#print(term, vacuumExpectationValue(term.getOperator()))"
   ]
  },
  {
   "cell_type": "code",
   "execution_count": 53,
   "metadata": {},
   "outputs": [],
   "source": [
    "fullContractions = vacuumExpectationValue(term.getOperator())"
   ]
  },
  {
   "cell_type": "code",
   "execution_count": 54,
   "metadata": {},
   "outputs": [],
   "source": [
    "recursiveFullContractions = recursiveVacuumExpectationValue(term.getOperator())"
   ]
  },
  {
   "cell_type": "code",
   "execution_count": 55,
   "metadata": {},
   "outputs": [
    {
     "output_type": "stream",
     "name": "stdout",
     "text": [
      "4.0 * \\delta^{h_{0}}_{h_{2}}\\delta^{h_{1}}_{h_{3}}\\delta^{p_{2}}_{p_{0}}\\delta^{p_{3}}_{p_{1}}\n-2.0 * \\delta^{h_{0}}_{h_{2}}\\delta^{h_{1}}_{h_{3}}\\delta^{p_{3}}_{p_{0}}\\delta^{p_{2}}_{p_{1}}\n-2.0 * \\delta^{h_{0}}_{h_{3}}\\delta^{h_{1}}_{h_{2}}\\delta^{p_{2}}_{p_{0}}\\delta^{p_{3}}_{p_{1}}\n4.0 * \\delta^{h_{0}}_{h_{3}}\\delta^{h_{1}}_{h_{2}}\\delta^{p_{3}}_{p_{0}}\\delta^{p_{2}}_{p_{1}}\n"
     ]
    }
   ],
   "source": [
    "for fC in fullContractions.summandList:\n",
    "    print(fC)"
   ]
  },
  {
   "cell_type": "code",
   "execution_count": 56,
   "metadata": {},
   "outputs": [
    {
     "output_type": "stream",
     "name": "stdout",
     "text": [
      "4.0 * \\delta^{h_{0}}_{h_{2}}\\delta^{h_{1}}_{h_{3}}\\delta^{p_{2}}_{p_{0}}\\delta^{p_{3}}_{p_{1}}\n + -2.0 * \\delta^{h_{0}}_{h_{2}}\\delta^{h_{1}}_{h_{3}}\\delta^{p_{3}}_{p_{0}}\\delta^{p_{2}}_{p_{1}}\n + -2.0 * \\delta^{h_{0}}_{h_{3}}\\delta^{h_{1}}_{h_{2}}\\delta^{p_{2}}_{p_{0}}\\delta^{p_{3}}_{p_{1}}\n + 4.0 * \\delta^{h_{0}}_{h_{3}}\\delta^{h_{1}}_{h_{2}}\\delta^{p_{3}}_{p_{0}}\\delta^{p_{2}}_{p_{1}}\n"
     ]
    }
   ],
   "source": [
    "print(fullContractions)"
   ]
  },
  {
   "cell_type": "code",
   "execution_count": 57,
   "metadata": {},
   "outputs": [
    {
     "output_type": "stream",
     "name": "stdout",
     "text": [
      "4.0 * \\delta^{h_{0}}_{h_{2}}\\delta^{h_{1}}_{h_{3}}\\delta^{p_{2}}_{p_{0}}\\delta^{p_{3}}_{p_{1}}\n + -2.0 * \\delta^{h_{0}}_{h_{2}}\\delta^{h_{1}}_{h_{3}}\\delta^{p_{3}}_{p_{0}}\\delta^{p_{2}}_{p_{1}}\n + -2.0 * \\delta^{h_{0}}_{h_{3}}\\delta^{h_{1}}_{h_{2}}\\delta^{p_{2}}_{p_{0}}\\delta^{p_{3}}_{p_{1}}\n + 4.0 * \\delta^{h_{0}}_{h_{3}}\\delta^{h_{1}}_{h_{2}}\\delta^{p_{3}}_{p_{0}}\\delta^{p_{2}}_{p_{1}}\n"
     ]
    }
   ],
   "source": [
    "print(recursiveFullContractions)"
   ]
  },
  {
   "cell_type": "code",
   "execution_count": 58,
   "metadata": {},
   "outputs": [
    {
     "output_type": "stream",
     "name": "stdout",
     "text": [
      "1.0 * v_{h_{0}h_{1}}^{p_{0}p_{1}}t2_{p_{2}p_{3}}^{h_{2}h_{3}}\n"
     ]
    }
   ],
   "source": [
    "print(term)"
   ]
  },
  {
   "cell_type": "code",
   "execution_count": 59,
   "metadata": {},
   "outputs": [],
   "source": [
    "contractedTerm = copy(term)"
   ]
  },
  {
   "cell_type": "code",
   "execution_count": 60,
   "metadata": {},
   "outputs": [],
   "source": [
    "top = recursiveFullContractions.summandList[0]"
   ]
  },
  {
   "cell_type": "code",
   "execution_count": 61,
   "metadata": {},
   "outputs": [
    {
     "output_type": "stream",
     "name": "stdout",
     "text": [
      "4.0 * \\delta^{h_{0}}_{h_{2}}\\delta^{h_{1}}_{h_{3}}\\delta^{p_{2}}_{p_{0}}\\delta^{p_{3}}_{p_{1}}\n"
     ]
    }
   ],
   "source": [
    "print(top)"
   ]
  },
  {
   "cell_type": "code",
   "execution_count": 62,
   "metadata": {},
   "outputs": [
    {
     "output_type": "stream",
     "name": "stdout",
     "text": [
      "v_{h_{0}h_{1}}^{p_{0}p_{1}}\nh_{0}\nh_{0} h_{2}\nh_{1} h_{3}\np_{2} p_{0}\np_{3} p_{1}\nh_{1}\nh_{0} h_{2}\nh_{1} h_{3}\np_{2} p_{0}\np_{3} p_{1}\nt2_{p_{2}p_{3}}^{h_{2}h_{3}}\np_{2}\nh_{0} h_{2}\nh_{1} h_{3}\np_{2} p_{0}\np_{3} p_{1}\np_{3}\nh_{0} h_{2}\nh_{1} h_{3}\np_{2} p_{0}\np_{3} p_{1}\n"
     ]
    }
   ],
   "source": [
    "#contractedTerm.prefactor *= top.prefactor\n",
    "for v, vertex in enumerate(term.vertexList):\n",
    "    print(vertex)\n",
    "    for i, index in enumerate(vertex.lowerIndices):\n",
    "        print(index)\n",
    "        for c, contraction in enumerate(top.contractionsList):\n",
    "            print(contraction[0], contraction[1])\n",
    "            if term.vertexList[v].lowerIndices[i] == top.contractionsList[c][0]:\n",
    "                contractedTerm.vertexList[v].lowerIndices[i] = top.contractionsList[c][1]"
   ]
  },
  {
   "cell_type": "code",
   "execution_count": 63,
   "metadata": {},
   "outputs": [
    {
     "output_type": "stream",
     "name": "stdout",
     "text": [
      "1.0 * v_{h_{2}h_{3}}^{p_{0}p_{1}}t2_{p_{0}p_{1}}^{h_{2}h_{3}}\n"
     ]
    }
   ],
   "source": [
    "print(contractedTerm)"
   ]
  },
  {
   "cell_type": "code",
   "execution_count": 64,
   "metadata": {},
   "outputs": [],
   "source": [
    "contractedTerm = top.prefactor * contractedTerm"
   ]
  },
  {
   "cell_type": "code",
   "execution_count": 65,
   "metadata": {},
   "outputs": [
    {
     "output_type": "stream",
     "name": "stdout",
     "text": [
      "h_{0} h_{2}\nh_{1} h_{3}\np_{2} p_{0}\np_{3} p_{1}\n"
     ]
    }
   ],
   "source": [
    "for c, contraction in enumerate(top.contractionsList):\n",
    "    print(contraction[0], contraction[1])\n",
    "    contractedTerm.applyContraction(contraction)"
   ]
  },
  {
   "cell_type": "code",
   "execution_count": 66,
   "metadata": {},
   "outputs": [
    {
     "output_type": "stream",
     "name": "stdout",
     "text": [
      "h_{0}\n"
     ]
    }
   ],
   "source": [
    "print(top.contractionsList[0][0])"
   ]
  },
  {
   "cell_type": "code",
   "execution_count": 67,
   "metadata": {},
   "outputs": [
    {
     "output_type": "stream",
     "name": "stdout",
     "text": [
      "True\n"
     ]
    }
   ],
   "source": [
    "print(term.vertexList[0].lowerIndices[0] == top.contractionsList[0][0])"
   ]
  },
  {
   "cell_type": "code",
   "execution_count": 68,
   "metadata": {},
   "outputs": [],
   "source": [
    "contractedTerm.vertexList[0].lowerIndices[0] = top.contractionsList[0][1]"
   ]
  },
  {
   "cell_type": "code",
   "execution_count": 69,
   "metadata": {},
   "outputs": [
    {
     "output_type": "stream",
     "name": "stdout",
     "text": [
      "h_{2}\n"
     ]
    }
   ],
   "source": [
    "print(contractedTerm.vertexList[0].lowerIndices[0])"
   ]
  },
  {
   "cell_type": "code",
   "execution_count": 70,
   "metadata": {},
   "outputs": [
    {
     "output_type": "stream",
     "name": "stdout",
     "text": [
      "4.0 * v_{h_{2}h_{1}}^{p_{0}p_{1}}t2_{p_{2}p_{3}}^{h_{2}h_{3}}\n"
     ]
    }
   ],
   "source": [
    "print(contractedTerm)"
   ]
  },
  {
   "cell_type": "code",
   "execution_count": 71,
   "metadata": {},
   "outputs": [],
   "source": [
    "contractionsList = fullContractions.summandList[0].contractionsList"
   ]
  },
  {
   "cell_type": "code",
   "execution_count": 72,
   "metadata": {},
   "outputs": [
    {
     "output_type": "execute_result",
     "data": {
      "text/plain": [
       "4.0"
      ]
     },
     "metadata": {},
     "execution_count": 72
    }
   ],
   "source": [
    "fullContractions.summandList[0].prefactor"
   ]
  },
  {
   "cell_type": "code",
   "execution_count": 73,
   "metadata": {},
   "outputs": [],
   "source": [
    "contractedTerm = copy(term) * 4"
   ]
  },
  {
   "cell_type": "code",
   "execution_count": 74,
   "metadata": {},
   "outputs": [
    {
     "output_type": "execute_result",
     "data": {
      "text/plain": [
       "[<__main__.Index at 0x121046a90>, <__main__.Index at 0x10e8ae370>]"
      ]
     },
     "metadata": {},
     "execution_count": 74
    }
   ],
   "source": [
    "contractedTerm.vertexList[0].lowerIndices"
   ]
  },
  {
   "cell_type": "code",
   "execution_count": 75,
   "metadata": {},
   "outputs": [
    {
     "output_type": "stream",
     "name": "stdout",
     "text": [
      "1.0 * v_{h_{0}h_{1}}^{p_{0}p_{1}}t2_{p_{2}p_{3}}^{h_{2}h_{3}}\n"
     ]
    }
   ],
   "source": [
    "print(term)"
   ]
  },
  {
   "cell_type": "code",
   "execution_count": 76,
   "metadata": {},
   "outputs": [
    {
     "output_type": "execute_result",
     "data": {
      "text/plain": [
       "1.0"
      ]
     },
     "metadata": {},
     "execution_count": 76
    }
   ],
   "source": [
    "term.prefactor"
   ]
  },
  {
   "cell_type": "code",
   "execution_count": 77,
   "metadata": {},
   "outputs": [],
   "source": [
    "term = term * 4"
   ]
  },
  {
   "cell_type": "code",
   "execution_count": 78,
   "metadata": {},
   "outputs": [
    {
     "output_type": "stream",
     "name": "stdout",
     "text": [
      "h_{0} h_{2}\nh_{1} h_{3}\np_{2} p_{0}\np_{3} p_{1}\nh_{0} h_{2}\nh_{1} h_{3}\np_{2} p_{0}\np_{3} p_{1}\nh_{0} h_{2}\nh_{1} h_{3}\np_{2} p_{0}\np_{3} p_{1}\nh_{0} h_{2}\nh_{1} h_{3}\np_{2} p_{0}\np_{3} p_{1}\n"
     ]
    }
   ],
   "source": [
    "for vertex in contractedTerm.vertexList:\n",
    "    for i in range(len(vertex.lowerIndices)):\n",
    "        for contraction in contractionsList:\n",
    "            print(contraction[0], contraction[1])\n",
    "            if vertex.lowerIndices[i] == contraction[0]:\n",
    "                vertex.lowerIndices[i] = contraction[1]"
   ]
  },
  {
   "cell_type": "code",
   "execution_count": null,
   "metadata": {},
   "outputs": [],
   "source": []
  },
  {
   "cell_type": "code",
   "execution_count": 79,
   "metadata": {},
   "outputs": [
    {
     "output_type": "stream",
     "name": "stdout",
     "text": [
      "4.0 * v_{h_{2}h_{3}}^{p_{0}p_{1}}t2_{p_{0}p_{1}}^{h_{2}h_{3}}\n"
     ]
    }
   ],
   "source": [
    "print(contractedTerm)"
   ]
  },
  {
   "cell_type": "code",
   "execution_count": 80,
   "metadata": {},
   "outputs": [],
   "source": [
    "del contractedTerm"
   ]
  },
  {
   "cell_type": "code",
   "execution_count": 205,
   "metadata": {},
   "outputs": [],
   "source": [
    "def evaluateWick(term):\n",
    "    '''\n",
    "    Wick's theorem applied to a term\n",
    "\n",
    "    input: term (TensorProduct)\n",
    "    output: sum of fully contracted terms (TensorSum)\n",
    "    '''\n",
    "    if isinstance(term, TensorSum):\n",
    "        return sum([evaluateWick(summand) for summand in term.summandList])\n",
    "    summandList = []\n",
    "    fullContractions = recursiveVacuumExpectationValue(term.getOperator(), speedup=True)\n",
    "    for topology in fullContractions.summandList:\n",
    "        contractionsList = topology.contractionsList\n",
    "        prefactor = topology.prefactor\n",
    "        contractedTerm = copy(term)\n",
    "        contractedTerm.prefactor *= topology.prefactor\n",
    "        for c, contraction in enumerate(contractionsList):\n",
    "            for v, vertex in reversed(list(enumerate(term.vertexList))):\n",
    "                if contraction[0] in vertex.lowerIndices:\n",
    "                    contractedTerm.vertexList[v].lowerIndices[vertex.lowerIndices.index(contraction[0])] = contraction[1]\n",
    "                    break\n",
    "                elif contraction[1] in vertex.upperIndices:\n",
    "                    contractedTerm.vertexList[v].upperIndices[vertex.upperIndices.index(contraction[1])] = contraction[0]\n",
    "                    break\n",
    "#            for i, index in enumerate(vertex.lowerIndices):\n",
    "#        for v, vertex in reversed(list(enumerate(term.vertexList))):\n",
    "#            for i, index in reversed(list(enumerate(vertex.lowerIndices))):\n",
    "#                for c, contraction in enumerate(topology.contractionsList):\n",
    "#                    if index == contraction[0]:\n",
    "#                        contractedTerm.vertexList[v].lowerIndices[i] = contraction[1]\n",
    "        summandList.append(contractedTerm)\n",
    "    return TensorSum(summandList)\n"
   ]
  },
  {
   "cell_type": "code",
   "execution_count": 195,
   "metadata": {},
   "outputs": [],
   "source": [
    "CCDEnergyTerms = sum([0.5 * d * t2 for d in vDiagrams])"
   ]
  },
  {
   "cell_type": "code",
   "execution_count": 196,
   "metadata": {},
   "outputs": [],
   "source": [
    "contractions = recursiveVacuumExpectationValue((vDiagrams[8] * t2).getOperator())"
   ]
  },
  {
   "cell_type": "code",
   "execution_count": 197,
   "metadata": {},
   "outputs": [
    {
     "output_type": "stream",
     "name": "stdout",
     "text": [
      "-2.0 * \\delta^{h_{0}}_{h_{2}}\\delta^{h_{1}}_{h_{3}}\\delta^{p_{3}}_{p_{0}}\\delta^{p_{2}}_{p_{1}}\n"
     ]
    }
   ],
   "source": [
    "print(contractions.summandList[1])"
   ]
  },
  {
   "cell_type": "code",
   "execution_count": 204,
   "metadata": {},
   "outputs": [
    {
     "output_type": "stream",
     "name": "stdout",
     "text": [
      "0.5 * v_{p_{0}p_{1}}^{p_{2}p_{3}}t2_{p_{4}p_{5}}^{h_{0}h_{1}}\n0.5 * v_{h_{0}h_{1}}^{h_{2}h_{3}}t2_{p_{0}p_{1}}^{h_{4}h_{5}}\n0.5 * v_{h_{0}p_{0}}^{p_{1}h_{1}}t2_{p_{2}p_{3}}^{h_{2}h_{3}}\n0.5 * v_{p_{0}h_{0}}^{p_{1}p_{2}}t2_{p_{3}p_{4}}^{h_{1}h_{2}}\n0.5 * v_{h_{0}h_{1}}^{h_{2}p_{0}}t2_{p_{1}p_{2}}^{h_{3}h_{4}}\n0.5 * v_{p_{0}p_{1}}^{p_{2}h_{0}}t2_{p_{3}p_{4}}^{h_{1}h_{2}}\n0.5 * v_{h_{0}p_{0}}^{h_{1}h_{2}}t2_{p_{1}p_{2}}^{h_{3}h_{4}}\n0.5 * v_{p_{0}p_{1}}^{h_{0}h_{1}}t2_{p_{2}p_{3}}^{h_{2}h_{3}}\n0.5 * v_{h_{0}h_{1}}^{p_{0}p_{1}}t2_{p_{2}p_{3}}^{h_{2}h_{3}}\n"
     ]
    }
   ],
   "source": [
    "for term in CCDEnergyTerms.summandList:\n",
    "    print(term)"
   ]
  },
  {
   "cell_type": "code",
   "execution_count": 206,
   "metadata": {},
   "outputs": [],
   "source": [
    "CCDEnergy = evaluateWick(CCDEnergyTerms)"
   ]
  },
  {
   "cell_type": "code",
   "execution_count": null,
   "metadata": {},
   "outputs": [],
   "source": []
  },
  {
   "cell_type": "code",
   "execution_count": 200,
   "metadata": {},
   "outputs": [
    {
     "output_type": "stream",
     "name": "stdout",
     "text": [
      "4.0 * \\delta^{h_{0}}_{h_{2}}\\delta^{h_{1}}_{h_{3}}\\delta^{p_{2}}_{p_{0}}\\delta^{p_{3}}_{p_{1}}\n + -2.0 * \\delta^{h_{0}}_{h_{2}}\\delta^{h_{1}}_{h_{3}}\\delta^{p_{3}}_{p_{0}}\\delta^{p_{2}}_{p_{1}}\n + -2.0 * \\delta^{h_{0}}_{h_{3}}\\delta^{h_{1}}_{h_{2}}\\delta^{p_{2}}_{p_{0}}\\delta^{p_{3}}_{p_{1}}\n + 4.0 * \\delta^{h_{0}}_{h_{3}}\\delta^{h_{1}}_{h_{2}}\\delta^{p_{3}}_{p_{0}}\\delta^{p_{2}}_{p_{1}}\n"
     ]
    }
   ],
   "source": [
    "print(recursiveVacuumExpectationValue(CCDEnergyTerms.getOperator()))"
   ]
  },
  {
   "cell_type": "code",
   "execution_count": 207,
   "metadata": {},
   "outputs": [
    {
     "output_type": "stream",
     "name": "stdout",
     "text": [
      "2.0 * v_{h_{0}h_{1}}^{p_{0}p_{1}}t2_{p_{0}p_{1}}^{h_{0}h_{1}}\n + -1.0 * v_{h_{0}h_{1}}^{p_{0}p_{1}}t2_{p_{1}p_{0}}^{h_{0}h_{1}}\n + -1.0 * v_{h_{0}h_{1}}^{p_{0}p_{1}}t2_{p_{0}p_{1}}^{h_{1}h_{0}}\n + 2.0 * v_{h_{0}h_{1}}^{p_{0}p_{1}}t2_{p_{1}p_{0}}^{h_{1}h_{0}}\n"
     ]
    }
   ],
   "source": [
    "print(CCDEnergy)"
   ]
  },
  {
   "cell_type": "code",
   "execution_count": 239,
   "metadata": {},
   "outputs": [],
   "source": [
    "def commutator(operator1, operator2):\n",
    "    return operator1 * operator2 + (-1) * operator2 * operator1"
   ]
  },
  {
   "cell_type": "code",
   "execution_count": 89,
   "metadata": {},
   "outputs": [
    {
     "output_type": "stream",
     "name": "stdout",
     "text": [
      "1.0 * v_{h_{0}h_{1}}^{p_{0}p_{1}}t2_{p_{2}p_{3}}^{h_{2}h_{3}}t2_{p_{4}p_{5}}^{h_{4}h_{5}}\n + -1 * t2_{p_{0}p_{1}}^{h_{0}h_{1}}v_{h_{2}h_{3}}^{p_{2}p_{3}}t2_{p_{4}p_{5}}^{h_{4}h_{5}}\n + -1.0 * t2_{p_{0}p_{1}}^{h_{0}h_{1}}v_{h_{2}h_{3}}^{p_{2}p_{3}}t2_{p_{4}p_{5}}^{h_{4}h_{5}}\n + 1 * t2_{p_{0}p_{1}}^{h_{0}h_{1}}t2_{p_{2}p_{3}}^{h_{2}h_{3}}v_{h_{4}h_{5}}^{p_{4}p_{5}}\n"
     ]
    }
   ],
   "source": [
    "print(commutator(commutator(vDiagrams[8], t2), t2))"
   ]
  },
  {
   "cell_type": "code",
   "execution_count": 240,
   "metadata": {},
   "outputs": [],
   "source": [
    "def BCHSimilarityTransform(H, T, order):\n",
    "    result = H\n",
    "    for k in range(order):\n",
    "        nestedCommutator = H\n",
    "        for i in range(k + 1):\n",
    "            nestedCommutator = commutator(nestedCommutator, T)\n",
    "        result += (1 / factorial(k + 1)) * nestedCommutator\n",
    "    return result"
   ]
  },
  {
   "cell_type": "code",
   "execution_count": 91,
   "metadata": {},
   "outputs": [
    {
     "output_type": "stream",
     "name": "stdout",
     "text": [
      "1.0 * v_{p_{0}p_{1}}^{p_{2}p_{3}}\n + 1.0 * v_{h_{0}h_{1}}^{h_{2}h_{3}}\n + 1.0 * v_{h_{0}p_{0}}^{p_{1}h_{1}}\n + 1.0 * v_{p_{0}h_{0}}^{p_{1}p_{2}}\n + 1.0 * v_{h_{0}h_{1}}^{h_{2}p_{0}}\n + 1.0 * v_{p_{0}p_{1}}^{p_{2}h_{0}}\n + 1.0 * v_{h_{0}p_{0}}^{h_{1}h_{2}}\n + 1.0 * v_{p_{0}p_{1}}^{h_{0}h_{1}}\n + 1.0 * v_{h_{0}h_{1}}^{p_{0}p_{1}}\n"
     ]
    }
   ],
   "source": [
    "print(sum(vDiagrams))"
   ]
  },
  {
   "cell_type": "code",
   "execution_count": 241,
   "metadata": {},
   "outputs": [],
   "source": [
    "transformH = sum([BCHSimilarityTransform(d, (1./4.) * t2, 4) for d in fDiagrams] + [BCHSimilarityTransform((1./2.) * d, (1./4.) * t2, 4) for d in vDiagrams])"
   ]
  },
  {
   "cell_type": "code",
   "execution_count": 93,
   "metadata": {
    "tags": []
   },
   "outputs": [
    {
     "output_type": "stream",
     "name": "stdout",
     "text": [
      "0.25 * f_{p_{0}}^{p_{1}}t2_{p_{2}p_{3}}^{h_{0}h_{1}}\n + -0.25 * t2_{p_{0}p_{1}}^{h_{0}h_{1}}f_{p_{2}}^{p_{3}}\n + 1.0 * f_{p_{0}}^{p_{1}}\n + 0.03125 * f_{p_{0}}^{p_{1}}t2_{p_{2}p_{3}}^{h_{0}h_{1}}t2_{p_{4}p_{5}}^{h_{2}h_{3}}\n + -0.03125 * t2_{p_{0}p_{1}}^{h_{0}h_{1}}f_{p_{2}}^{p_{3}}t2_{p_{4}p_{5}}^{h_{2}h_{3}}\n + -0.03125 * t2_{p_{0}p_{1}}^{h_{0}h_{1}}f_{p_{2}}^{p_{3}}t2_{p_{4}p_{5}}^{h_{2}h_{3}}\n + 0.03125 * t2_{p_{0}p_{1}}^{h_{0}h_{1}}t2_{p_{2}p_{3}}^{h_{2}h_{3}}f_{p_{4}}^{p_{5}}\n + 0.0026041666666666665 * f_{p_{0}}^{p_{1}}t2_{p_{2}p_{3}}^{h_{0}h_{1}}t2_{p_{4}p_{5}}^{h_{2}h_{3}}t2_{p_{6}p_{7}}^{h_{4}h_{5}}\n + -0.0026041666666666665 * t2_{p_{0}p_{1}}^{h_{0}h_{1}}f_{p_{2}}^{p_{3}}t2_{p_{4}p_{5}}^{h_{2}h_{3}}t2_{p_{6}p_{7}}^{h_{4}h_{5}}\n + -0.0026041666666666665 * t2_{p_{0}p_{1}}^{h_{0}h_{1}}f_{p_{2}}^{p_{3}}t2_{p_{4}p_{5}}^{h_{2}h_{3}}t2_{p_{6}p_{7}}^{h_{4}h_{5}}\n + 0.0026041666666666665 * t2_{p_{0}p_{1}}^{h_{0}h_{1}}t2_{p_{2}p_{3}}^{h_{2}h_{3}}f_{p_{4}}^{p_{5}}t2_{p_{6}p_{7}}^{h_{4}h_{5}}\n + -0.0026041666666666665 * t2_{p_{0}p_{1}}^{h_{0}h_{1}}f_{p_{2}}^{p_{3}}t2_{p_{4}p_{5}}^{h_{2}h_{3}}t2_{p_{6}p_{7}}^{h_{4}h_{5}}\n + 0.0026041666666666665 * t2_{p_{0}p_{1}}^{h_{0}h_{1}}t2_{p_{2}p_{3}}^{h_{2}h_{3}}f_{p_{4}}^{p_{5}}t2_{p_{6}p_{7}}^{h_{4}h_{5}}\n + 0.0026041666666666665 * t2_{p_{0}p_{1}}^{h_{0}h_{1}}t2_{p_{2}p_{3}}^{h_{2}h_{3}}f_{p_{4}}^{p_{5}}t2_{p_{6}p_{7}}^{h_{4}h_{5}}\n + -0.0026041666666666665 * t2_{p_{0}p_{1}}^{h_{0}h_{1}}t2_{p_{2}p_{3}}^{h_{2}h_{3}}t2_{p_{4}p_{5}}^{h_{4}h_{5}}f_{p_{6}}^{p_{7}}\n + 0.00016276041666666666 * f_{p_{0}}^{p_{1}}t2_{p_{2}p_{3}}^{h_{0}h_{1}}t2_{p_{4}p_{5}}^{h_{2}h_{3}}t2_{p_{6}p_{7}}^{h_{4}h_{5}}t2_{p_{8}p_{9}}^{h_{6}h_{7}}\n + -0.00016276041666666666 * t2_{p_{0}p_{1}}^{h_{0}h_{1}}f_{p_{2}}^{p_{3}}t2_{p_{4}p_{5}}^{h_{2}h_{3}}t2_{p_{6}p_{7}}^{h_{4}h_{5}}t2_{p_{8}p_{9}}^{h_{6}h_{7}}\n + -0.00016276041666666666 * t2_{p_{0}p_{1}}^{h_{0}h_{1}}f_{p_{2}}^{p_{3}}t2_{p_{4}p_{5}}^{h_{2}h_{3}}t2_{p_{6}p_{7}}^{h_{4}h_{5}}t2_{p_{8}p_{9}}^{h_{6}h_{7}}\n + 0.00016276041666666666 * t2_{p_{0}p_{1}}^{h_{0}h_{1}}t2_{p_{2}p_{3}}^{h_{2}h_{3}}f_{p_{4}}^{p_{5}}t2_{p_{6}p_{7}}^{h_{4}h_{5}}t2_{p_{8}p_{9}}^{h_{6}h_{7}}\n + -0.00016276041666666666 * t2_{p_{0}p_{1}}^{h_{0}h_{1}}f_{p_{2}}^{p_{3}}t2_{p_{4}p_{5}}^{h_{2}h_{3}}t2_{p_{6}p_{7}}^{h_{4}h_{5}}t2_{p_{8}p_{9}}^{h_{6}h_{7}}\n + 0.00016276041666666666 * t2_{p_{0}p_{1}}^{h_{0}h_{1}}t2_{p_{2}p_{3}}^{h_{2}h_{3}}f_{p_{4}}^{p_{5}}t2_{p_{6}p_{7}}^{h_{4}h_{5}}t2_{p_{8}p_{9}}^{h_{6}h_{7}}\n + 0.00016276041666666666 * t2_{p_{0}p_{1}}^{h_{0}h_{1}}t2_{p_{2}p_{3}}^{h_{2}h_{3}}f_{p_{4}}^{p_{5}}t2_{p_{6}p_{7}}^{h_{4}h_{5}}t2_{p_{8}p_{9}}^{h_{6}h_{7}}\n + -0.00016276041666666666 * t2_{p_{0}p_{1}}^{h_{0}h_{1}}t2_{p_{2}p_{3}}^{h_{2}h_{3}}t2_{p_{4}p_{5}}^{h_{4}h_{5}}f_{p_{6}}^{p_{7}}t2_{p_{8}p_{9}}^{h_{6}h_{7}}\n + -0.00016276041666666666 * t2_{p_{0}p_{1}}^{h_{0}h_{1}}f_{p_{2}}^{p_{3}}t2_{p_{4}p_{5}}^{h_{2}h_{3}}t2_{p_{6}p_{7}}^{h_{4}h_{5}}t2_{p_{8}p_{9}}^{h_{6}h_{7}}\n + 0.00016276041666666666 * t2_{p_{0}p_{1}}^{h_{0}h_{1}}t2_{p_{2}p_{3}}^{h_{2}h_{3}}f_{p_{4}}^{p_{5}}t2_{p_{6}p_{7}}^{h_{4}h_{5}}t2_{p_{8}p_{9}}^{h_{6}h_{7}}\n + 0.00016276041666666666 * t2_{p_{0}p_{1}}^{h_{0}h_{1}}t2_{p_{2}p_{3}}^{h_{2}h_{3}}f_{p_{4}}^{p_{5}}t2_{p_{6}p_{7}}^{h_{4}h_{5}}t2_{p_{8}p_{9}}^{h_{6}h_{7}}\n + -0.00016276041666666666 * t2_{p_{0}p_{1}}^{h_{0}h_{1}}t2_{p_{2}p_{3}}^{h_{2}h_{3}}t2_{p_{4}p_{5}}^{h_{4}h_{5}}f_{p_{6}}^{p_{7}}t2_{p_{8}p_{9}}^{h_{6}h_{7}}\n + 0.00016276041666666666 * t2_{p_{0}p_{1}}^{h_{0}h_{1}}t2_{p_{2}p_{3}}^{h_{2}h_{3}}f_{p_{4}}^{p_{5}}t2_{p_{6}p_{7}}^{h_{4}h_{5}}t2_{p_{8}p_{9}}^{h_{6}h_{7}}\n + -0.00016276041666666666 * t2_{p_{0}p_{1}}^{h_{0}h_{1}}t2_{p_{2}p_{3}}^{h_{2}h_{3}}t2_{p_{4}p_{5}}^{h_{4}h_{5}}f_{p_{6}}^{p_{7}}t2_{p_{8}p_{9}}^{h_{6}h_{7}}\n + -0.00016276041666666666 * t2_{p_{0}p_{1}}^{h_{0}h_{1}}t2_{p_{2}p_{3}}^{h_{2}h_{3}}t2_{p_{4}p_{5}}^{h_{4}h_{5}}f_{p_{6}}^{p_{7}}t2_{p_{8}p_{9}}^{h_{6}h_{7}}\n + 0.00016276041666666666 * t2_{p_{0}p_{1}}^{h_{0}h_{1}}t2_{p_{2}p_{3}}^{h_{2}h_{3}}t2_{p_{4}p_{5}}^{h_{4}h_{5}}t2_{p_{6}p_{7}}^{h_{6}h_{7}}f_{p_{8}}^{p_{9}}\n + 0.25 * f_{p_{0}}^{h_{0}}t2_{p_{1}p_{2}}^{h_{1}h_{2}}\n + -0.25 * t2_{p_{0}p_{1}}^{h_{0}h_{1}}f_{p_{2}}^{h_{2}}\n + 1.0 * f_{p_{0}}^{h_{0}}\n + 0.03125 * f_{p_{0}}^{h_{0}}t2_{p_{1}p_{2}}^{h_{1}h_{2}}t2_{p_{3}p_{4}}^{h_{3}h_{4}}\n + -0.03125 * t2_{p_{0}p_{1}}^{h_{0}h_{1}}f_{p_{2}}^{h_{2}}t2_{p_{3}p_{4}}^{h_{3}h_{4}}\n + -0.03125 * t2_{p_{0}p_{1}}^{h_{0}h_{1}}f_{p_{2}}^{h_{2}}t2_{p_{3}p_{4}}^{h_{3}h_{4}}\n + 0.03125 * t2_{p_{0}p_{1}}^{h_{0}h_{1}}t2_{p_{2}p_{3}}^{h_{2}h_{3}}f_{p_{4}}^{h_{4}}\n + 0.0026041666666666665 * f_{p_{0}}^{h_{0}}t2_{p_{1}p_{2}}^{h_{1}h_{2}}t2_{p_{3}p_{4}}^{h_{3}h_{4}}t2_{p_{5}p_{6}}^{h_{5}h_{6}}\n + -0.0026041666666666665 * t2_{p_{0}p_{1}}^{h_{0}h_{1}}f_{p_{2}}^{h_{2}}t2_{p_{3}p_{4}}^{h_{3}h_{4}}t2_{p_{5}p_{6}}^{h_{5}h_{6}}\n + -0.0026041666666666665 * t2_{p_{0}p_{1}}^{h_{0}h_{1}}f_{p_{2}}^{h_{2}}t2_{p_{3}p_{4}}^{h_{3}h_{4}}t2_{p_{5}p_{6}}^{h_{5}h_{6}}\n + 0.0026041666666666665 * t2_{p_{0}p_{1}}^{h_{0}h_{1}}t2_{p_{2}p_{3}}^{h_{2}h_{3}}f_{p_{4}}^{h_{4}}t2_{p_{5}p_{6}}^{h_{5}h_{6}}\n + -0.0026041666666666665 * t2_{p_{0}p_{1}}^{h_{0}h_{1}}f_{p_{2}}^{h_{2}}t2_{p_{3}p_{4}}^{h_{3}h_{4}}t2_{p_{5}p_{6}}^{h_{5}h_{6}}\n + 0.0026041666666666665 * t2_{p_{0}p_{1}}^{h_{0}h_{1}}t2_{p_{2}p_{3}}^{h_{2}h_{3}}f_{p_{4}}^{h_{4}}t2_{p_{5}p_{6}}^{h_{5}h_{6}}\n + 0.0026041666666666665 * t2_{p_{0}p_{1}}^{h_{0}h_{1}}t2_{p_{2}p_{3}}^{h_{2}h_{3}}f_{p_{4}}^{h_{4}}t2_{p_{5}p_{6}}^{h_{5}h_{6}}\n + -0.0026041666666666665 * t2_{p_{0}p_{1}}^{h_{0}h_{1}}t2_{p_{2}p_{3}}^{h_{2}h_{3}}t2_{p_{4}p_{5}}^{h_{4}h_{5}}f_{p_{6}}^{h_{6}}\n + 0.00016276041666666666 * f_{p_{0}}^{h_{0}}t2_{p_{1}p_{2}}^{h_{1}h_{2}}t2_{p_{3}p_{4}}^{h_{3}h_{4}}t2_{p_{5}p_{6}}^{h_{5}h_{6}}t2_{p_{7}p_{8}}^{h_{7}h_{8}}\n + -0.00016276041666666666 * t2_{p_{0}p_{1}}^{h_{0}h_{1}}f_{p_{2}}^{h_{2}}t2_{p_{3}p_{4}}^{h_{3}h_{4}}t2_{p_{5}p_{6}}^{h_{5}h_{6}}t2_{p_{7}p_{8}}^{h_{7}h_{8}}\n + -0.00016276041666666666 * t2_{p_{0}p_{1}}^{h_{0}h_{1}}f_{p_{2}}^{h_{2}}t2_{p_{3}p_{4}}^{h_{3}h_{4}}t2_{p_{5}p_{6}}^{h_{5}h_{6}}t2_{p_{7}p_{8}}^{h_{7}h_{8}}\n + 0.00016276041666666666 * t2_{p_{0}p_{1}}^{h_{0}h_{1}}t2_{p_{2}p_{3}}^{h_{2}h_{3}}f_{p_{4}}^{h_{4}}t2_{p_{5}p_{6}}^{h_{5}h_{6}}t2_{p_{7}p_{8}}^{h_{7}h_{8}}\n + -0.00016276041666666666 * t2_{p_{0}p_{1}}^{h_{0}h_{1}}f_{p_{2}}^{h_{2}}t2_{p_{3}p_{4}}^{h_{3}h_{4}}t2_{p_{5}p_{6}}^{h_{5}h_{6}}t2_{p_{7}p_{8}}^{h_{7}h_{8}}\n + 0.00016276041666666666 * t2_{p_{0}p_{1}}^{h_{0}h_{1}}t2_{p_{2}p_{3}}^{h_{2}h_{3}}f_{p_{4}}^{h_{4}}t2_{p_{5}p_{6}}^{h_{5}h_{6}}t2_{p_{7}p_{8}}^{h_{7}h_{8}}\n + 0.00016276041666666666 * t2_{p_{0}p_{1}}^{h_{0}h_{1}}t2_{p_{2}p_{3}}^{h_{2}h_{3}}f_{p_{4}}^{h_{4}}t2_{p_{5}p_{6}}^{h_{5}h_{6}}t2_{p_{7}p_{8}}^{h_{7}h_{8}}\n + -0.00016276041666666666 * t2_{p_{0}p_{1}}^{h_{0}h_{1}}t2_{p_{2}p_{3}}^{h_{2}h_{3}}t2_{p_{4}p_{5}}^{h_{4}h_{5}}f_{p_{6}}^{h_{6}}t2_{p_{7}p_{8}}^{h_{7}h_{8}}\n + -0.00016276041666666666 * t2_{p_{0}p_{1}}^{h_{0}h_{1}}f_{p_{2}}^{h_{2}}t2_{p_{3}p_{4}}^{h_{3}h_{4}}t2_{p_{5}p_{6}}^{h_{5}h_{6}}t2_{p_{7}p_{8}}^{h_{7}h_{8}}\n + 0.00016276041666666666 * t2_{p_{0}p_{1}}^{h_{0}h_{1}}t2_{p_{2}p_{3}}^{h_{2}h_{3}}f_{p_{4}}^{h_{4}}t2_{p_{5}p_{6}}^{h_{5}h_{6}}t2_{p_{7}p_{8}}^{h_{7}h_{8}}\n + 0.00016276041666666666 * t2_{p_{0}p_{1}}^{h_{0}h_{1}}t2_{p_{2}p_{3}}^{h_{2}h_{3}}f_{p_{4}}^{h_{4}}t2_{p_{5}p_{6}}^{h_{5}h_{6}}t2_{p_{7}p_{8}}^{h_{7}h_{8}}\n + -0.00016276041666666666 * t2_{p_{0}p_{1}}^{h_{0}h_{1}}t2_{p_{2}p_{3}}^{h_{2}h_{3}}t2_{p_{4}p_{5}}^{h_{4}h_{5}}f_{p_{6}}^{h_{6}}t2_{p_{7}p_{8}}^{h_{7}h_{8}}\n + 0.00016276041666666666 * t2_{p_{0}p_{1}}^{h_{0}h_{1}}t2_{p_{2}p_{3}}^{h_{2}h_{3}}f_{p_{4}}^{h_{4}}t2_{p_{5}p_{6}}^{h_{5}h_{6}}t2_{p_{7}p_{8}}^{h_{7}h_{8}}\n + -0.00016276041666666666 * t2_{p_{0}p_{1}}^{h_{0}h_{1}}t2_{p_{2}p_{3}}^{h_{2}h_{3}}t2_{p_{4}p_{5}}^{h_{4}h_{5}}f_{p_{6}}^{h_{6}}t2_{p_{7}p_{8}}^{h_{7}h_{8}}\n + -0.00016276041666666666 * t2_{p_{0}p_{1}}^{h_{0}h_{1}}t2_{p_{2}p_{3}}^{h_{2}h_{3}}t2_{p_{4}p_{5}}^{h_{4}h_{5}}f_{p_{6}}^{h_{6}}t2_{p_{7}p_{8}}^{h_{7}h_{8}}\n + 0.00016276041666666666 * t2_{p_{0}p_{1}}^{h_{0}h_{1}}t2_{p_{2}p_{3}}^{h_{2}h_{3}}t2_{p_{4}p_{5}}^{h_{4}h_{5}}t2_{p_{6}p_{7}}^{h_{6}h_{7}}f_{p_{8}}^{h_{8}}\n + 0.25 * f_{h_{0}}^{p_{0}}t2_{p_{1}p_{2}}^{h_{1}h_{2}}\n + -0.25 * t2_{p_{0}p_{1}}^{h_{0}h_{1}}f_{h_{2}}^{p_{2}}\n + 1.0 * f_{h_{0}}^{p_{0}}\n + 0.03125 * f_{h_{0}}^{p_{0}}t2_{p_{1}p_{2}}^{h_{1}h_{2}}t2_{p_{3}p_{4}}^{h_{3}h_{4}}\n + -0.03125 * t2_{p_{0}p_{1}}^{h_{0}h_{1}}f_{h_{2}}^{p_{2}}t2_{p_{3}p_{4}}^{h_{3}h_{4}}\n + -0.03125 * t2_{p_{0}p_{1}}^{h_{0}h_{1}}f_{h_{2}}^{p_{2}}t2_{p_{3}p_{4}}^{h_{3}h_{4}}\n + 0.03125 * t2_{p_{0}p_{1}}^{h_{0}h_{1}}t2_{p_{2}p_{3}}^{h_{2}h_{3}}f_{h_{4}}^{p_{4}}\n + 0.0026041666666666665 * f_{h_{0}}^{p_{0}}t2_{p_{1}p_{2}}^{h_{1}h_{2}}t2_{p_{3}p_{4}}^{h_{3}h_{4}}t2_{p_{5}p_{6}}^{h_{5}h_{6}}\n + -0.0026041666666666665 * t2_{p_{0}p_{1}}^{h_{0}h_{1}}f_{h_{2}}^{p_{2}}t2_{p_{3}p_{4}}^{h_{3}h_{4}}t2_{p_{5}p_{6}}^{h_{5}h_{6}}\n + -0.0026041666666666665 * t2_{p_{0}p_{1}}^{h_{0}h_{1}}f_{h_{2}}^{p_{2}}t2_{p_{3}p_{4}}^{h_{3}h_{4}}t2_{p_{5}p_{6}}^{h_{5}h_{6}}\n + 0.0026041666666666665 * t2_{p_{0}p_{1}}^{h_{0}h_{1}}t2_{p_{2}p_{3}}^{h_{2}h_{3}}f_{h_{4}}^{p_{4}}t2_{p_{5}p_{6}}^{h_{5}h_{6}}\n + -0.0026041666666666665 * t2_{p_{0}p_{1}}^{h_{0}h_{1}}f_{h_{2}}^{p_{2}}t2_{p_{3}p_{4}}^{h_{3}h_{4}}t2_{p_{5}p_{6}}^{h_{5}h_{6}}\n + 0.0026041666666666665 * t2_{p_{0}p_{1}}^{h_{0}h_{1}}t2_{p_{2}p_{3}}^{h_{2}h_{3}}f_{h_{4}}^{p_{4}}t2_{p_{5}p_{6}}^{h_{5}h_{6}}\n + 0.0026041666666666665 * t2_{p_{0}p_{1}}^{h_{0}h_{1}}t2_{p_{2}p_{3}}^{h_{2}h_{3}}f_{h_{4}}^{p_{4}}t2_{p_{5}p_{6}}^{h_{5}h_{6}}\n + -0.0026041666666666665 * t2_{p_{0}p_{1}}^{h_{0}h_{1}}t2_{p_{2}p_{3}}^{h_{2}h_{3}}t2_{p_{4}p_{5}}^{h_{4}h_{5}}f_{h_{6}}^{p_{6}}\n + 0.00016276041666666666 * f_{h_{0}}^{p_{0}}t2_{p_{1}p_{2}}^{h_{1}h_{2}}t2_{p_{3}p_{4}}^{h_{3}h_{4}}t2_{p_{5}p_{6}}^{h_{5}h_{6}}t2_{p_{7}p_{8}}^{h_{7}h_{8}}\n + -0.00016276041666666666 * t2_{p_{0}p_{1}}^{h_{0}h_{1}}f_{h_{2}}^{p_{2}}t2_{p_{3}p_{4}}^{h_{3}h_{4}}t2_{p_{5}p_{6}}^{h_{5}h_{6}}t2_{p_{7}p_{8}}^{h_{7}h_{8}}\n + -0.00016276041666666666 * t2_{p_{0}p_{1}}^{h_{0}h_{1}}f_{h_{2}}^{p_{2}}t2_{p_{3}p_{4}}^{h_{3}h_{4}}t2_{p_{5}p_{6}}^{h_{5}h_{6}}t2_{p_{7}p_{8}}^{h_{7}h_{8}}\n + 0.00016276041666666666 * t2_{p_{0}p_{1}}^{h_{0}h_{1}}t2_{p_{2}p_{3}}^{h_{2}h_{3}}f_{h_{4}}^{p_{4}}t2_{p_{5}p_{6}}^{h_{5}h_{6}}t2_{p_{7}p_{8}}^{h_{7}h_{8}}\n + -0.00016276041666666666 * t2_{p_{0}p_{1}}^{h_{0}h_{1}}f_{h_{2}}^{p_{2}}t2_{p_{3}p_{4}}^{h_{3}h_{4}}t2_{p_{5}p_{6}}^{h_{5}h_{6}}t2_{p_{7}p_{8}}^{h_{7}h_{8}}\n + 0.00016276041666666666 * t2_{p_{0}p_{1}}^{h_{0}h_{1}}t2_{p_{2}p_{3}}^{h_{2}h_{3}}f_{h_{4}}^{p_{4}}t2_{p_{5}p_{6}}^{h_{5}h_{6}}t2_{p_{7}p_{8}}^{h_{7}h_{8}}\n + 0.00016276041666666666 * t2_{p_{0}p_{1}}^{h_{0}h_{1}}t2_{p_{2}p_{3}}^{h_{2}h_{3}}f_{h_{4}}^{p_{4}}t2_{p_{5}p_{6}}^{h_{5}h_{6}}t2_{p_{7}p_{8}}^{h_{7}h_{8}}\n + -0.00016276041666666666 * t2_{p_{0}p_{1}}^{h_{0}h_{1}}t2_{p_{2}p_{3}}^{h_{2}h_{3}}t2_{p_{4}p_{5}}^{h_{4}h_{5}}f_{h_{6}}^{p_{6}}t2_{p_{7}p_{8}}^{h_{7}h_{8}}\n + -0.00016276041666666666 * t2_{p_{0}p_{1}}^{h_{0}h_{1}}f_{h_{2}}^{p_{2}}t2_{p_{3}p_{4}}^{h_{3}h_{4}}t2_{p_{5}p_{6}}^{h_{5}h_{6}}t2_{p_{7}p_{8}}^{h_{7}h_{8}}\n + 0.00016276041666666666 * t2_{p_{0}p_{1}}^{h_{0}h_{1}}t2_{p_{2}p_{3}}^{h_{2}h_{3}}f_{h_{4}}^{p_{4}}t2_{p_{5}p_{6}}^{h_{5}h_{6}}t2_{p_{7}p_{8}}^{h_{7}h_{8}}\n + 0.00016276041666666666 * t2_{p_{0}p_{1}}^{h_{0}h_{1}}t2_{p_{2}p_{3}}^{h_{2}h_{3}}f_{h_{4}}^{p_{4}}t2_{p_{5}p_{6}}^{h_{5}h_{6}}t2_{p_{7}p_{8}}^{h_{7}h_{8}}\n + -0.00016276041666666666 * t2_{p_{0}p_{1}}^{h_{0}h_{1}}t2_{p_{2}p_{3}}^{h_{2}h_{3}}t2_{p_{4}p_{5}}^{h_{4}h_{5}}f_{h_{6}}^{p_{6}}t2_{p_{7}p_{8}}^{h_{7}h_{8}}\n + 0.00016276041666666666 * t2_{p_{0}p_{1}}^{h_{0}h_{1}}t2_{p_{2}p_{3}}^{h_{2}h_{3}}f_{h_{4}}^{p_{4}}t2_{p_{5}p_{6}}^{h_{5}h_{6}}t2_{p_{7}p_{8}}^{h_{7}h_{8}}\n + -0.00016276041666666666 * t2_{p_{0}p_{1}}^{h_{0}h_{1}}t2_{p_{2}p_{3}}^{h_{2}h_{3}}t2_{p_{4}p_{5}}^{h_{4}h_{5}}f_{h_{6}}^{p_{6}}t2_{p_{7}p_{8}}^{h_{7}h_{8}}\n + -0.00016276041666666666 * t2_{p_{0}p_{1}}^{h_{0}h_{1}}t2_{p_{2}p_{3}}^{h_{2}h_{3}}t2_{p_{4}p_{5}}^{h_{4}h_{5}}f_{h_{6}}^{p_{6}}t2_{p_{7}p_{8}}^{h_{7}h_{8}}\n + 0.00016276041666666666 * t2_{p_{0}p_{1}}^{h_{0}h_{1}}t2_{p_{2}p_{3}}^{h_{2}h_{3}}t2_{p_{4}p_{5}}^{h_{4}h_{5}}t2_{p_{6}p_{7}}^{h_{6}h_{7}}f_{h_{8}}^{p_{8}}\n + 0.25 * f_{h_{0}}^{h_{1}}t2_{p_{0}p_{1}}^{h_{2}h_{3}}\n + -0.25 * t2_{p_{0}p_{1}}^{h_{0}h_{1}}f_{h_{2}}^{h_{3}}\n + 1.0 * f_{h_{0}}^{h_{1}}\n + 0.03125 * f_{h_{0}}^{h_{1}}t2_{p_{0}p_{1}}^{h_{2}h_{3}}t2_{p_{2}p_{3}}^{h_{4}h_{5}}\n + -0.03125 * t2_{p_{0}p_{1}}^{h_{0}h_{1}}f_{h_{2}}^{h_{3}}t2_{p_{2}p_{3}}^{h_{4}h_{5}}\n + -0.03125 * t2_{p_{0}p_{1}}^{h_{0}h_{1}}f_{h_{2}}^{h_{3}}t2_{p_{2}p_{3}}^{h_{4}h_{5}}\n + 0.03125 * t2_{p_{0}p_{1}}^{h_{0}h_{1}}t2_{p_{2}p_{3}}^{h_{2}h_{3}}f_{h_{4}}^{h_{5}}\n + 0.0026041666666666665 * f_{h_{0}}^{h_{1}}t2_{p_{0}p_{1}}^{h_{2}h_{3}}t2_{p_{2}p_{3}}^{h_{4}h_{5}}t2_{p_{4}p_{5}}^{h_{6}h_{7}}\n + -0.0026041666666666665 * t2_{p_{0}p_{1}}^{h_{0}h_{1}}f_{h_{2}}^{h_{3}}t2_{p_{2}p_{3}}^{h_{4}h_{5}}t2_{p_{4}p_{5}}^{h_{6}h_{7}}\n + -0.0026041666666666665 * t2_{p_{0}p_{1}}^{h_{0}h_{1}}f_{h_{2}}^{h_{3}}t2_{p_{2}p_{3}}^{h_{4}h_{5}}t2_{p_{4}p_{5}}^{h_{6}h_{7}}\n + 0.0026041666666666665 * t2_{p_{0}p_{1}}^{h_{0}h_{1}}t2_{p_{2}p_{3}}^{h_{2}h_{3}}f_{h_{4}}^{h_{5}}t2_{p_{4}p_{5}}^{h_{6}h_{7}}\n + -0.0026041666666666665 * t2_{p_{0}p_{1}}^{h_{0}h_{1}}f_{h_{2}}^{h_{3}}t2_{p_{2}p_{3}}^{h_{4}h_{5}}t2_{p_{4}p_{5}}^{h_{6}h_{7}}\n + 0.0026041666666666665 * t2_{p_{0}p_{1}}^{h_{0}h_{1}}t2_{p_{2}p_{3}}^{h_{2}h_{3}}f_{h_{4}}^{h_{5}}t2_{p_{4}p_{5}}^{h_{6}h_{7}}\n + 0.0026041666666666665 * t2_{p_{0}p_{1}}^{h_{0}h_{1}}t2_{p_{2}p_{3}}^{h_{2}h_{3}}f_{h_{4}}^{h_{5}}t2_{p_{4}p_{5}}^{h_{6}h_{7}}\n + -0.0026041666666666665 * t2_{p_{0}p_{1}}^{h_{0}h_{1}}t2_{p_{2}p_{3}}^{h_{2}h_{3}}t2_{p_{4}p_{5}}^{h_{4}h_{5}}f_{h_{6}}^{h_{7}}\n + 0.00016276041666666666 * f_{h_{0}}^{h_{1}}t2_{p_{0}p_{1}}^{h_{2}h_{3}}t2_{p_{2}p_{3}}^{h_{4}h_{5}}t2_{p_{4}p_{5}}^{h_{6}h_{7}}t2_{p_{6}p_{7}}^{h_{8}h_{9}}\n + -0.00016276041666666666 * t2_{p_{0}p_{1}}^{h_{0}h_{1}}f_{h_{2}}^{h_{3}}t2_{p_{2}p_{3}}^{h_{4}h_{5}}t2_{p_{4}p_{5}}^{h_{6}h_{7}}t2_{p_{6}p_{7}}^{h_{8}h_{9}}\n + -0.00016276041666666666 * t2_{p_{0}p_{1}}^{h_{0}h_{1}}f_{h_{2}}^{h_{3}}t2_{p_{2}p_{3}}^{h_{4}h_{5}}t2_{p_{4}p_{5}}^{h_{6}h_{7}}t2_{p_{6}p_{7}}^{h_{8}h_{9}}\n + 0.00016276041666666666 * t2_{p_{0}p_{1}}^{h_{0}h_{1}}t2_{p_{2}p_{3}}^{h_{2}h_{3}}f_{h_{4}}^{h_{5}}t2_{p_{4}p_{5}}^{h_{6}h_{7}}t2_{p_{6}p_{7}}^{h_{8}h_{9}}\n + -0.00016276041666666666 * t2_{p_{0}p_{1}}^{h_{0}h_{1}}f_{h_{2}}^{h_{3}}t2_{p_{2}p_{3}}^{h_{4}h_{5}}t2_{p_{4}p_{5}}^{h_{6}h_{7}}t2_{p_{6}p_{7}}^{h_{8}h_{9}}\n + 0.00016276041666666666 * t2_{p_{0}p_{1}}^{h_{0}h_{1}}t2_{p_{2}p_{3}}^{h_{2}h_{3}}f_{h_{4}}^{h_{5}}t2_{p_{4}p_{5}}^{h_{6}h_{7}}t2_{p_{6}p_{7}}^{h_{8}h_{9}}\n + 0.00016276041666666666 * t2_{p_{0}p_{1}}^{h_{0}h_{1}}t2_{p_{2}p_{3}}^{h_{2}h_{3}}f_{h_{4}}^{h_{5}}t2_{p_{4}p_{5}}^{h_{6}h_{7}}t2_{p_{6}p_{7}}^{h_{8}h_{9}}\n + -0.00016276041666666666 * t2_{p_{0}p_{1}}^{h_{0}h_{1}}t2_{p_{2}p_{3}}^{h_{2}h_{3}}t2_{p_{4}p_{5}}^{h_{4}h_{5}}f_{h_{6}}^{h_{7}}t2_{p_{6}p_{7}}^{h_{8}h_{9}}\n + -0.00016276041666666666 * t2_{p_{0}p_{1}}^{h_{0}h_{1}}f_{h_{2}}^{h_{3}}t2_{p_{2}p_{3}}^{h_{4}h_{5}}t2_{p_{4}p_{5}}^{h_{6}h_{7}}t2_{p_{6}p_{7}}^{h_{8}h_{9}}\n + 0.00016276041666666666 * t2_{p_{0}p_{1}}^{h_{0}h_{1}}t2_{p_{2}p_{3}}^{h_{2}h_{3}}f_{h_{4}}^{h_{5}}t2_{p_{4}p_{5}}^{h_{6}h_{7}}t2_{p_{6}p_{7}}^{h_{8}h_{9}}\n + 0.00016276041666666666 * t2_{p_{0}p_{1}}^{h_{0}h_{1}}t2_{p_{2}p_{3}}^{h_{2}h_{3}}f_{h_{4}}^{h_{5}}t2_{p_{4}p_{5}}^{h_{6}h_{7}}t2_{p_{6}p_{7}}^{h_{8}h_{9}}\n + -0.00016276041666666666 * t2_{p_{0}p_{1}}^{h_{0}h_{1}}t2_{p_{2}p_{3}}^{h_{2}h_{3}}t2_{p_{4}p_{5}}^{h_{4}h_{5}}f_{h_{6}}^{h_{7}}t2_{p_{6}p_{7}}^{h_{8}h_{9}}\n + 0.00016276041666666666 * t2_{p_{0}p_{1}}^{h_{0}h_{1}}t2_{p_{2}p_{3}}^{h_{2}h_{3}}f_{h_{4}}^{h_{5}}t2_{p_{4}p_{5}}^{h_{6}h_{7}}t2_{p_{6}p_{7}}^{h_{8}h_{9}}\n + -0.00016276041666666666 * t2_{p_{0}p_{1}}^{h_{0}h_{1}}t2_{p_{2}p_{3}}^{h_{2}h_{3}}t2_{p_{4}p_{5}}^{h_{4}h_{5}}f_{h_{6}}^{h_{7}}t2_{p_{6}p_{7}}^{h_{8}h_{9}}\n + -0.00016276041666666666 * t2_{p_{0}p_{1}}^{h_{0}h_{1}}t2_{p_{2}p_{3}}^{h_{2}h_{3}}t2_{p_{4}p_{5}}^{h_{4}h_{5}}f_{h_{6}}^{h_{7}}t2_{p_{6}p_{7}}^{h_{8}h_{9}}\n + 0.00016276041666666666 * t2_{p_{0}p_{1}}^{h_{0}h_{1}}t2_{p_{2}p_{3}}^{h_{2}h_{3}}t2_{p_{4}p_{5}}^{h_{4}h_{5}}t2_{p_{6}p_{7}}^{h_{6}h_{7}}f_{h_{8}}^{h_{9}}\n + 0.5 * v_{p_{0}p_{1}}^{p_{2}p_{3}}\n + 0.125 * v_{p_{0}p_{1}}^{p_{2}p_{3}}t2_{p_{4}p_{5}}^{h_{0}h_{1}}\n + -0.125 * t2_{p_{0}p_{1}}^{h_{0}h_{1}}v_{p_{2}p_{3}}^{p_{4}p_{5}}\n + 0.015625 * v_{p_{0}p_{1}}^{p_{2}p_{3}}t2_{p_{4}p_{5}}^{h_{0}h_{1}}t2_{p_{6}p_{7}}^{h_{2}h_{3}}\n + -0.015625 * t2_{p_{0}p_{1}}^{h_{0}h_{1}}v_{p_{2}p_{3}}^{p_{4}p_{5}}t2_{p_{6}p_{7}}^{h_{2}h_{3}}\n + -0.015625 * t2_{p_{0}p_{1}}^{h_{0}h_{1}}v_{p_{2}p_{3}}^{p_{4}p_{5}}t2_{p_{6}p_{7}}^{h_{2}h_{3}}\n + 0.015625 * t2_{p_{0}p_{1}}^{h_{0}h_{1}}t2_{p_{2}p_{3}}^{h_{2}h_{3}}v_{p_{4}p_{5}}^{p_{6}p_{7}}\n + 0.0013020833333333333 * v_{p_{0}p_{1}}^{p_{2}p_{3}}t2_{p_{4}p_{5}}^{h_{0}h_{1}}t2_{p_{6}p_{7}}^{h_{2}h_{3}}t2_{p_{8}p_{9}}^{h_{4}h_{5}}\n + -0.0013020833333333333 * t2_{p_{0}p_{1}}^{h_{0}h_{1}}v_{p_{2}p_{3}}^{p_{4}p_{5}}t2_{p_{6}p_{7}}^{h_{2}h_{3}}t2_{p_{8}p_{9}}^{h_{4}h_{5}}\n + -0.0013020833333333333 * t2_{p_{0}p_{1}}^{h_{0}h_{1}}v_{p_{2}p_{3}}^{p_{4}p_{5}}t2_{p_{6}p_{7}}^{h_{2}h_{3}}t2_{p_{8}p_{9}}^{h_{4}h_{5}}\n + 0.0013020833333333333 * t2_{p_{0}p_{1}}^{h_{0}h_{1}}t2_{p_{2}p_{3}}^{h_{2}h_{3}}v_{p_{4}p_{5}}^{p_{6}p_{7}}t2_{p_{8}p_{9}}^{h_{4}h_{5}}\n + -0.0013020833333333333 * t2_{p_{0}p_{1}}^{h_{0}h_{1}}v_{p_{2}p_{3}}^{p_{4}p_{5}}t2_{p_{6}p_{7}}^{h_{2}h_{3}}t2_{p_{8}p_{9}}^{h_{4}h_{5}}\n + 0.0013020833333333333 * t2_{p_{0}p_{1}}^{h_{0}h_{1}}t2_{p_{2}p_{3}}^{h_{2}h_{3}}v_{p_{4}p_{5}}^{p_{6}p_{7}}t2_{p_{8}p_{9}}^{h_{4}h_{5}}\n + 0.0013020833333333333 * t2_{p_{0}p_{1}}^{h_{0}h_{1}}t2_{p_{2}p_{3}}^{h_{2}h_{3}}v_{p_{4}p_{5}}^{p_{6}p_{7}}t2_{p_{8}p_{9}}^{h_{4}h_{5}}\n + -0.0013020833333333333 * t2_{p_{0}p_{1}}^{h_{0}h_{1}}t2_{p_{2}p_{3}}^{h_{2}h_{3}}t2_{p_{4}p_{5}}^{h_{4}h_{5}}v_{p_{6}p_{7}}^{p_{8}p_{9}}\n + 8.138020833333333e-05 * v_{p_{0}p_{1}}^{p_{2}p_{3}}t2_{p_{4}p_{5}}^{h_{0}h_{1}}t2_{p_{6}p_{7}}^{h_{2}h_{3}}t2_{p_{8}p_{9}}^{h_{4}h_{5}}t2_{p_{10}p_{11}}^{h_{6}h_{7}}\n + -8.138020833333333e-05 * t2_{p_{0}p_{1}}^{h_{0}h_{1}}v_{p_{2}p_{3}}^{p_{4}p_{5}}t2_{p_{6}p_{7}}^{h_{2}h_{3}}t2_{p_{8}p_{9}}^{h_{4}h_{5}}t2_{p_{10}p_{11}}^{h_{6}h_{7}}\n + -8.138020833333333e-05 * t2_{p_{0}p_{1}}^{h_{0}h_{1}}v_{p_{2}p_{3}}^{p_{4}p_{5}}t2_{p_{6}p_{7}}^{h_{2}h_{3}}t2_{p_{8}p_{9}}^{h_{4}h_{5}}t2_{p_{10}p_{11}}^{h_{6}h_{7}}\n + 8.138020833333333e-05 * t2_{p_{0}p_{1}}^{h_{0}h_{1}}t2_{p_{2}p_{3}}^{h_{2}h_{3}}v_{p_{4}p_{5}}^{p_{6}p_{7}}t2_{p_{8}p_{9}}^{h_{4}h_{5}}t2_{p_{10}p_{11}}^{h_{6}h_{7}}\n + -8.138020833333333e-05 * t2_{p_{0}p_{1}}^{h_{0}h_{1}}v_{p_{2}p_{3}}^{p_{4}p_{5}}t2_{p_{6}p_{7}}^{h_{2}h_{3}}t2_{p_{8}p_{9}}^{h_{4}h_{5}}t2_{p_{10}p_{11}}^{h_{6}h_{7}}\n + 8.138020833333333e-05 * t2_{p_{0}p_{1}}^{h_{0}h_{1}}t2_{p_{2}p_{3}}^{h_{2}h_{3}}v_{p_{4}p_{5}}^{p_{6}p_{7}}t2_{p_{8}p_{9}}^{h_{4}h_{5}}t2_{p_{10}p_{11}}^{h_{6}h_{7}}\n + 8.138020833333333e-05 * t2_{p_{0}p_{1}}^{h_{0}h_{1}}t2_{p_{2}p_{3}}^{h_{2}h_{3}}v_{p_{4}p_{5}}^{p_{6}p_{7}}t2_{p_{8}p_{9}}^{h_{4}h_{5}}t2_{p_{10}p_{11}}^{h_{6}h_{7}}\n + -8.138020833333333e-05 * t2_{p_{0}p_{1}}^{h_{0}h_{1}}t2_{p_{2}p_{3}}^{h_{2}h_{3}}t2_{p_{4}p_{5}}^{h_{4}h_{5}}v_{p_{6}p_{7}}^{p_{8}p_{9}}t2_{p_{10}p_{11}}^{h_{6}h_{7}}\n + -8.138020833333333e-05 * t2_{p_{0}p_{1}}^{h_{0}h_{1}}v_{p_{2}p_{3}}^{p_{4}p_{5}}t2_{p_{6}p_{7}}^{h_{2}h_{3}}t2_{p_{8}p_{9}}^{h_{4}h_{5}}t2_{p_{10}p_{11}}^{h_{6}h_{7}}\n + 8.138020833333333e-05 * t2_{p_{0}p_{1}}^{h_{0}h_{1}}t2_{p_{2}p_{3}}^{h_{2}h_{3}}v_{p_{4}p_{5}}^{p_{6}p_{7}}t2_{p_{8}p_{9}}^{h_{4}h_{5}}t2_{p_{10}p_{11}}^{h_{6}h_{7}}\n + 8.138020833333333e-05 * t2_{p_{0}p_{1}}^{h_{0}h_{1}}t2_{p_{2}p_{3}}^{h_{2}h_{3}}v_{p_{4}p_{5}}^{p_{6}p_{7}}t2_{p_{8}p_{9}}^{h_{4}h_{5}}t2_{p_{10}p_{11}}^{h_{6}h_{7}}\n + -8.138020833333333e-05 * t2_{p_{0}p_{1}}^{h_{0}h_{1}}t2_{p_{2}p_{3}}^{h_{2}h_{3}}t2_{p_{4}p_{5}}^{h_{4}h_{5}}v_{p_{6}p_{7}}^{p_{8}p_{9}}t2_{p_{10}p_{11}}^{h_{6}h_{7}}\n + 8.138020833333333e-05 * t2_{p_{0}p_{1}}^{h_{0}h_{1}}t2_{p_{2}p_{3}}^{h_{2}h_{3}}v_{p_{4}p_{5}}^{p_{6}p_{7}}t2_{p_{8}p_{9}}^{h_{4}h_{5}}t2_{p_{10}p_{11}}^{h_{6}h_{7}}\n + -8.138020833333333e-05 * t2_{p_{0}p_{1}}^{h_{0}h_{1}}t2_{p_{2}p_{3}}^{h_{2}h_{3}}t2_{p_{4}p_{5}}^{h_{4}h_{5}}v_{p_{6}p_{7}}^{p_{8}p_{9}}t2_{p_{10}p_{11}}^{h_{6}h_{7}}\n + -8.138020833333333e-05 * t2_{p_{0}p_{1}}^{h_{0}h_{1}}t2_{p_{2}p_{3}}^{h_{2}h_{3}}t2_{p_{4}p_{5}}^{h_{4}h_{5}}v_{p_{6}p_{7}}^{p_{8}p_{9}}t2_{p_{10}p_{11}}^{h_{6}h_{7}}\n + 8.138020833333333e-05 * t2_{p_{0}p_{1}}^{h_{0}h_{1}}t2_{p_{2}p_{3}}^{h_{2}h_{3}}t2_{p_{4}p_{5}}^{h_{4}h_{5}}t2_{p_{6}p_{7}}^{h_{6}h_{7}}v_{p_{8}p_{9}}^{p_{10}p_{11}}\n + 0.5 * v_{h_{0}h_{1}}^{h_{2}h_{3}}\n + 0.125 * v_{h_{0}h_{1}}^{h_{2}h_{3}}t2_{p_{0}p_{1}}^{h_{4}h_{5}}\n + -0.125 * t2_{p_{0}p_{1}}^{h_{0}h_{1}}v_{h_{2}h_{3}}^{h_{4}h_{5}}\n + 0.015625 * v_{h_{0}h_{1}}^{h_{2}h_{3}}t2_{p_{0}p_{1}}^{h_{4}h_{5}}t2_{p_{2}p_{3}}^{h_{6}h_{7}}\n + -0.015625 * t2_{p_{0}p_{1}}^{h_{0}h_{1}}v_{h_{2}h_{3}}^{h_{4}h_{5}}t2_{p_{2}p_{3}}^{h_{6}h_{7}}\n + -0.015625 * t2_{p_{0}p_{1}}^{h_{0}h_{1}}v_{h_{2}h_{3}}^{h_{4}h_{5}}t2_{p_{2}p_{3}}^{h_{6}h_{7}}\n + 0.015625 * t2_{p_{0}p_{1}}^{h_{0}h_{1}}t2_{p_{2}p_{3}}^{h_{2}h_{3}}v_{h_{4}h_{5}}^{h_{6}h_{7}}\n + 0.0013020833333333333 * v_{h_{0}h_{1}}^{h_{2}h_{3}}t2_{p_{0}p_{1}}^{h_{4}h_{5}}t2_{p_{2}p_{3}}^{h_{6}h_{7}}t2_{p_{4}p_{5}}^{h_{8}h_{9}}\n + -0.0013020833333333333 * t2_{p_{0}p_{1}}^{h_{0}h_{1}}v_{h_{2}h_{3}}^{h_{4}h_{5}}t2_{p_{2}p_{3}}^{h_{6}h_{7}}t2_{p_{4}p_{5}}^{h_{8}h_{9}}\n + -0.0013020833333333333 * t2_{p_{0}p_{1}}^{h_{0}h_{1}}v_{h_{2}h_{3}}^{h_{4}h_{5}}t2_{p_{2}p_{3}}^{h_{6}h_{7}}t2_{p_{4}p_{5}}^{h_{8}h_{9}}\n + 0.0013020833333333333 * t2_{p_{0}p_{1}}^{h_{0}h_{1}}t2_{p_{2}p_{3}}^{h_{2}h_{3}}v_{h_{4}h_{5}}^{h_{6}h_{7}}t2_{p_{4}p_{5}}^{h_{8}h_{9}}\n + -0.0013020833333333333 * t2_{p_{0}p_{1}}^{h_{0}h_{1}}v_{h_{2}h_{3}}^{h_{4}h_{5}}t2_{p_{2}p_{3}}^{h_{6}h_{7}}t2_{p_{4}p_{5}}^{h_{8}h_{9}}\n + 0.0013020833333333333 * t2_{p_{0}p_{1}}^{h_{0}h_{1}}t2_{p_{2}p_{3}}^{h_{2}h_{3}}v_{h_{4}h_{5}}^{h_{6}h_{7}}t2_{p_{4}p_{5}}^{h_{8}h_{9}}\n + 0.0013020833333333333 * t2_{p_{0}p_{1}}^{h_{0}h_{1}}t2_{p_{2}p_{3}}^{h_{2}h_{3}}v_{h_{4}h_{5}}^{h_{6}h_{7}}t2_{p_{4}p_{5}}^{h_{8}h_{9}}\n + -0.0013020833333333333 * t2_{p_{0}p_{1}}^{h_{0}h_{1}}t2_{p_{2}p_{3}}^{h_{2}h_{3}}t2_{p_{4}p_{5}}^{h_{4}h_{5}}v_{h_{6}h_{7}}^{h_{8}h_{9}}\n + 8.138020833333333e-05 * v_{h_{0}h_{1}}^{h_{2}h_{3}}t2_{p_{0}p_{1}}^{h_{4}h_{5}}t2_{p_{2}p_{3}}^{h_{6}h_{7}}t2_{p_{4}p_{5}}^{h_{8}h_{9}}t2_{p_{6}p_{7}}^{h_{10}h_{11}}\n + -8.138020833333333e-05 * t2_{p_{0}p_{1}}^{h_{0}h_{1}}v_{h_{2}h_{3}}^{h_{4}h_{5}}t2_{p_{2}p_{3}}^{h_{6}h_{7}}t2_{p_{4}p_{5}}^{h_{8}h_{9}}t2_{p_{6}p_{7}}^{h_{10}h_{11}}\n + -8.138020833333333e-05 * t2_{p_{0}p_{1}}^{h_{0}h_{1}}v_{h_{2}h_{3}}^{h_{4}h_{5}}t2_{p_{2}p_{3}}^{h_{6}h_{7}}t2_{p_{4}p_{5}}^{h_{8}h_{9}}t2_{p_{6}p_{7}}^{h_{10}h_{11}}\n + 8.138020833333333e-05 * t2_{p_{0}p_{1}}^{h_{0}h_{1}}t2_{p_{2}p_{3}}^{h_{2}h_{3}}v_{h_{4}h_{5}}^{h_{6}h_{7}}t2_{p_{4}p_{5}}^{h_{8}h_{9}}t2_{p_{6}p_{7}}^{h_{10}h_{11}}\n + -8.138020833333333e-05 * t2_{p_{0}p_{1}}^{h_{0}h_{1}}v_{h_{2}h_{3}}^{h_{4}h_{5}}t2_{p_{2}p_{3}}^{h_{6}h_{7}}t2_{p_{4}p_{5}}^{h_{8}h_{9}}t2_{p_{6}p_{7}}^{h_{10}h_{11}}\n + 8.138020833333333e-05 * t2_{p_{0}p_{1}}^{h_{0}h_{1}}t2_{p_{2}p_{3}}^{h_{2}h_{3}}v_{h_{4}h_{5}}^{h_{6}h_{7}}t2_{p_{4}p_{5}}^{h_{8}h_{9}}t2_{p_{6}p_{7}}^{h_{10}h_{11}}\n + 8.138020833333333e-05 * t2_{p_{0}p_{1}}^{h_{0}h_{1}}t2_{p_{2}p_{3}}^{h_{2}h_{3}}v_{h_{4}h_{5}}^{h_{6}h_{7}}t2_{p_{4}p_{5}}^{h_{8}h_{9}}t2_{p_{6}p_{7}}^{h_{10}h_{11}}\n + -8.138020833333333e-05 * t2_{p_{0}p_{1}}^{h_{0}h_{1}}t2_{p_{2}p_{3}}^{h_{2}h_{3}}t2_{p_{4}p_{5}}^{h_{4}h_{5}}v_{h_{6}h_{7}}^{h_{8}h_{9}}t2_{p_{6}p_{7}}^{h_{10}h_{11}}\n + -8.138020833333333e-05 * t2_{p_{0}p_{1}}^{h_{0}h_{1}}v_{h_{2}h_{3}}^{h_{4}h_{5}}t2_{p_{2}p_{3}}^{h_{6}h_{7}}t2_{p_{4}p_{5}}^{h_{8}h_{9}}t2_{p_{6}p_{7}}^{h_{10}h_{11}}\n + 8.138020833333333e-05 * t2_{p_{0}p_{1}}^{h_{0}h_{1}}t2_{p_{2}p_{3}}^{h_{2}h_{3}}v_{h_{4}h_{5}}^{h_{6}h_{7}}t2_{p_{4}p_{5}}^{h_{8}h_{9}}t2_{p_{6}p_{7}}^{h_{10}h_{11}}\n + 8.138020833333333e-05 * t2_{p_{0}p_{1}}^{h_{0}h_{1}}t2_{p_{2}p_{3}}^{h_{2}h_{3}}v_{h_{4}h_{5}}^{h_{6}h_{7}}t2_{p_{4}p_{5}}^{h_{8}h_{9}}t2_{p_{6}p_{7}}^{h_{10}h_{11}}\n + -8.138020833333333e-05 * t2_{p_{0}p_{1}}^{h_{0}h_{1}}t2_{p_{2}p_{3}}^{h_{2}h_{3}}t2_{p_{4}p_{5}}^{h_{4}h_{5}}v_{h_{6}h_{7}}^{h_{8}h_{9}}t2_{p_{6}p_{7}}^{h_{10}h_{11}}\n + 8.138020833333333e-05 * t2_{p_{0}p_{1}}^{h_{0}h_{1}}t2_{p_{2}p_{3}}^{h_{2}h_{3}}v_{h_{4}h_{5}}^{h_{6}h_{7}}t2_{p_{4}p_{5}}^{h_{8}h_{9}}t2_{p_{6}p_{7}}^{h_{10}h_{11}}\n + -8.138020833333333e-05 * t2_{p_{0}p_{1}}^{h_{0}h_{1}}t2_{p_{2}p_{3}}^{h_{2}h_{3}}t2_{p_{4}p_{5}}^{h_{4}h_{5}}v_{h_{6}h_{7}}^{h_{8}h_{9}}t2_{p_{6}p_{7}}^{h_{10}h_{11}}\n + -8.138020833333333e-05 * t2_{p_{0}p_{1}}^{h_{0}h_{1}}t2_{p_{2}p_{3}}^{h_{2}h_{3}}t2_{p_{4}p_{5}}^{h_{4}h_{5}}v_{h_{6}h_{7}}^{h_{8}h_{9}}t2_{p_{6}p_{7}}^{h_{10}h_{11}}\n + 8.138020833333333e-05 * t2_{p_{0}p_{1}}^{h_{0}h_{1}}t2_{p_{2}p_{3}}^{h_{2}h_{3}}t2_{p_{4}p_{5}}^{h_{4}h_{5}}t2_{p_{6}p_{7}}^{h_{6}h_{7}}v_{h_{8}h_{9}}^{h_{10}h_{11}}\n + 0.5 * v_{h_{0}p_{0}}^{p_{1}h_{1}}\n + 0.125 * v_{h_{0}p_{0}}^{p_{1}h_{1}}t2_{p_{2}p_{3}}^{h_{2}h_{3}}\n + -0.125 * t2_{p_{0}p_{1}}^{h_{0}h_{1}}v_{h_{2}p_{2}}^{p_{3}h_{3}}\n + 0.015625 * v_{h_{0}p_{0}}^{p_{1}h_{1}}t2_{p_{2}p_{3}}^{h_{2}h_{3}}t2_{p_{4}p_{5}}^{h_{4}h_{5}}\n + -0.015625 * t2_{p_{0}p_{1}}^{h_{0}h_{1}}v_{h_{2}p_{2}}^{p_{3}h_{3}}t2_{p_{4}p_{5}}^{h_{4}h_{5}}\n + -0.015625 * t2_{p_{0}p_{1}}^{h_{0}h_{1}}v_{h_{2}p_{2}}^{p_{3}h_{3}}t2_{p_{4}p_{5}}^{h_{4}h_{5}}\n + 0.015625 * t2_{p_{0}p_{1}}^{h_{0}h_{1}}t2_{p_{2}p_{3}}^{h_{2}h_{3}}v_{h_{4}p_{4}}^{p_{5}h_{5}}\n + 0.0013020833333333333 * v_{h_{0}p_{0}}^{p_{1}h_{1}}t2_{p_{2}p_{3}}^{h_{2}h_{3}}t2_{p_{4}p_{5}}^{h_{4}h_{5}}t2_{p_{6}p_{7}}^{h_{6}h_{7}}\n + -0.0013020833333333333 * t2_{p_{0}p_{1}}^{h_{0}h_{1}}v_{h_{2}p_{2}}^{p_{3}h_{3}}t2_{p_{4}p_{5}}^{h_{4}h_{5}}t2_{p_{6}p_{7}}^{h_{6}h_{7}}\n + -0.0013020833333333333 * t2_{p_{0}p_{1}}^{h_{0}h_{1}}v_{h_{2}p_{2}}^{p_{3}h_{3}}t2_{p_{4}p_{5}}^{h_{4}h_{5}}t2_{p_{6}p_{7}}^{h_{6}h_{7}}\n + 0.0013020833333333333 * t2_{p_{0}p_{1}}^{h_{0}h_{1}}t2_{p_{2}p_{3}}^{h_{2}h_{3}}v_{h_{4}p_{4}}^{p_{5}h_{5}}t2_{p_{6}p_{7}}^{h_{6}h_{7}}\n + -0.0013020833333333333 * t2_{p_{0}p_{1}}^{h_{0}h_{1}}v_{h_{2}p_{2}}^{p_{3}h_{3}}t2_{p_{4}p_{5}}^{h_{4}h_{5}}t2_{p_{6}p_{7}}^{h_{6}h_{7}}\n + 0.0013020833333333333 * t2_{p_{0}p_{1}}^{h_{0}h_{1}}t2_{p_{2}p_{3}}^{h_{2}h_{3}}v_{h_{4}p_{4}}^{p_{5}h_{5}}t2_{p_{6}p_{7}}^{h_{6}h_{7}}\n + 0.0013020833333333333 * t2_{p_{0}p_{1}}^{h_{0}h_{1}}t2_{p_{2}p_{3}}^{h_{2}h_{3}}v_{h_{4}p_{4}}^{p_{5}h_{5}}t2_{p_{6}p_{7}}^{h_{6}h_{7}}\n + -0.0013020833333333333 * t2_{p_{0}p_{1}}^{h_{0}h_{1}}t2_{p_{2}p_{3}}^{h_{2}h_{3}}t2_{p_{4}p_{5}}^{h_{4}h_{5}}v_{h_{6}p_{6}}^{p_{7}h_{7}}\n + 8.138020833333333e-05 * v_{h_{0}p_{0}}^{p_{1}h_{1}}t2_{p_{2}p_{3}}^{h_{2}h_{3}}t2_{p_{4}p_{5}}^{h_{4}h_{5}}t2_{p_{6}p_{7}}^{h_{6}h_{7}}t2_{p_{8}p_{9}}^{h_{8}h_{9}}\n + -8.138020833333333e-05 * t2_{p_{0}p_{1}}^{h_{0}h_{1}}v_{h_{2}p_{2}}^{p_{3}h_{3}}t2_{p_{4}p_{5}}^{h_{4}h_{5}}t2_{p_{6}p_{7}}^{h_{6}h_{7}}t2_{p_{8}p_{9}}^{h_{8}h_{9}}\n + -8.138020833333333e-05 * t2_{p_{0}p_{1}}^{h_{0}h_{1}}v_{h_{2}p_{2}}^{p_{3}h_{3}}t2_{p_{4}p_{5}}^{h_{4}h_{5}}t2_{p_{6}p_{7}}^{h_{6}h_{7}}t2_{p_{8}p_{9}}^{h_{8}h_{9}}\n + 8.138020833333333e-05 * t2_{p_{0}p_{1}}^{h_{0}h_{1}}t2_{p_{2}p_{3}}^{h_{2}h_{3}}v_{h_{4}p_{4}}^{p_{5}h_{5}}t2_{p_{6}p_{7}}^{h_{6}h_{7}}t2_{p_{8}p_{9}}^{h_{8}h_{9}}\n + -8.138020833333333e-05 * t2_{p_{0}p_{1}}^{h_{0}h_{1}}v_{h_{2}p_{2}}^{p_{3}h_{3}}t2_{p_{4}p_{5}}^{h_{4}h_{5}}t2_{p_{6}p_{7}}^{h_{6}h_{7}}t2_{p_{8}p_{9}}^{h_{8}h_{9}}\n + 8.138020833333333e-05 * t2_{p_{0}p_{1}}^{h_{0}h_{1}}t2_{p_{2}p_{3}}^{h_{2}h_{3}}v_{h_{4}p_{4}}^{p_{5}h_{5}}t2_{p_{6}p_{7}}^{h_{6}h_{7}}t2_{p_{8}p_{9}}^{h_{8}h_{9}}\n + 8.138020833333333e-05 * t2_{p_{0}p_{1}}^{h_{0}h_{1}}t2_{p_{2}p_{3}}^{h_{2}h_{3}}v_{h_{4}p_{4}}^{p_{5}h_{5}}t2_{p_{6}p_{7}}^{h_{6}h_{7}}t2_{p_{8}p_{9}}^{h_{8}h_{9}}\n + -8.138020833333333e-05 * t2_{p_{0}p_{1}}^{h_{0}h_{1}}t2_{p_{2}p_{3}}^{h_{2}h_{3}}t2_{p_{4}p_{5}}^{h_{4}h_{5}}v_{h_{6}p_{6}}^{p_{7}h_{7}}t2_{p_{8}p_{9}}^{h_{8}h_{9}}\n + -8.138020833333333e-05 * t2_{p_{0}p_{1}}^{h_{0}h_{1}}v_{h_{2}p_{2}}^{p_{3}h_{3}}t2_{p_{4}p_{5}}^{h_{4}h_{5}}t2_{p_{6}p_{7}}^{h_{6}h_{7}}t2_{p_{8}p_{9}}^{h_{8}h_{9}}\n + 8.138020833333333e-05 * t2_{p_{0}p_{1}}^{h_{0}h_{1}}t2_{p_{2}p_{3}}^{h_{2}h_{3}}v_{h_{4}p_{4}}^{p_{5}h_{5}}t2_{p_{6}p_{7}}^{h_{6}h_{7}}t2_{p_{8}p_{9}}^{h_{8}h_{9}}\n + 8.138020833333333e-05 * t2_{p_{0}p_{1}}^{h_{0}h_{1}}t2_{p_{2}p_{3}}^{h_{2}h_{3}}v_{h_{4}p_{4}}^{p_{5}h_{5}}t2_{p_{6}p_{7}}^{h_{6}h_{7}}t2_{p_{8}p_{9}}^{h_{8}h_{9}}\n + -8.138020833333333e-05 * t2_{p_{0}p_{1}}^{h_{0}h_{1}}t2_{p_{2}p_{3}}^{h_{2}h_{3}}t2_{p_{4}p_{5}}^{h_{4}h_{5}}v_{h_{6}p_{6}}^{p_{7}h_{7}}t2_{p_{8}p_{9}}^{h_{8}h_{9}}\n + 8.138020833333333e-05 * t2_{p_{0}p_{1}}^{h_{0}h_{1}}t2_{p_{2}p_{3}}^{h_{2}h_{3}}v_{h_{4}p_{4}}^{p_{5}h_{5}}t2_{p_{6}p_{7}}^{h_{6}h_{7}}t2_{p_{8}p_{9}}^{h_{8}h_{9}}\n + -8.138020833333333e-05 * t2_{p_{0}p_{1}}^{h_{0}h_{1}}t2_{p_{2}p_{3}}^{h_{2}h_{3}}t2_{p_{4}p_{5}}^{h_{4}h_{5}}v_{h_{6}p_{6}}^{p_{7}h_{7}}t2_{p_{8}p_{9}}^{h_{8}h_{9}}\n + -8.138020833333333e-05 * t2_{p_{0}p_{1}}^{h_{0}h_{1}}t2_{p_{2}p_{3}}^{h_{2}h_{3}}t2_{p_{4}p_{5}}^{h_{4}h_{5}}v_{h_{6}p_{6}}^{p_{7}h_{7}}t2_{p_{8}p_{9}}^{h_{8}h_{9}}\n + 8.138020833333333e-05 * t2_{p_{0}p_{1}}^{h_{0}h_{1}}t2_{p_{2}p_{3}}^{h_{2}h_{3}}t2_{p_{4}p_{5}}^{h_{4}h_{5}}t2_{p_{6}p_{7}}^{h_{6}h_{7}}v_{h_{8}p_{8}}^{p_{9}h_{9}}\n + 0.5 * v_{p_{0}h_{0}}^{p_{1}p_{2}}\n + 0.125 * v_{p_{0}h_{0}}^{p_{1}p_{2}}t2_{p_{3}p_{4}}^{h_{1}h_{2}}\n + -0.125 * t2_{p_{0}p_{1}}^{h_{0}h_{1}}v_{p_{2}h_{2}}^{p_{3}p_{4}}\n + 0.015625 * v_{p_{0}h_{0}}^{p_{1}p_{2}}t2_{p_{3}p_{4}}^{h_{1}h_{2}}t2_{p_{5}p_{6}}^{h_{3}h_{4}}\n + -0.015625 * t2_{p_{0}p_{1}}^{h_{0}h_{1}}v_{p_{2}h_{2}}^{p_{3}p_{4}}t2_{p_{5}p_{6}}^{h_{3}h_{4}}\n + -0.015625 * t2_{p_{0}p_{1}}^{h_{0}h_{1}}v_{p_{2}h_{2}}^{p_{3}p_{4}}t2_{p_{5}p_{6}}^{h_{3}h_{4}}\n + 0.015625 * t2_{p_{0}p_{1}}^{h_{0}h_{1}}t2_{p_{2}p_{3}}^{h_{2}h_{3}}v_{p_{4}h_{4}}^{p_{5}p_{6}}\n + 0.0013020833333333333 * v_{p_{0}h_{0}}^{p_{1}p_{2}}t2_{p_{3}p_{4}}^{h_{1}h_{2}}t2_{p_{5}p_{6}}^{h_{3}h_{4}}t2_{p_{7}p_{8}}^{h_{5}h_{6}}\n + -0.0013020833333333333 * t2_{p_{0}p_{1}}^{h_{0}h_{1}}v_{p_{2}h_{2}}^{p_{3}p_{4}}t2_{p_{5}p_{6}}^{h_{3}h_{4}}t2_{p_{7}p_{8}}^{h_{5}h_{6}}\n + -0.0013020833333333333 * t2_{p_{0}p_{1}}^{h_{0}h_{1}}v_{p_{2}h_{2}}^{p_{3}p_{4}}t2_{p_{5}p_{6}}^{h_{3}h_{4}}t2_{p_{7}p_{8}}^{h_{5}h_{6}}\n + 0.0013020833333333333 * t2_{p_{0}p_{1}}^{h_{0}h_{1}}t2_{p_{2}p_{3}}^{h_{2}h_{3}}v_{p_{4}h_{4}}^{p_{5}p_{6}}t2_{p_{7}p_{8}}^{h_{5}h_{6}}\n + -0.0013020833333333333 * t2_{p_{0}p_{1}}^{h_{0}h_{1}}v_{p_{2}h_{2}}^{p_{3}p_{4}}t2_{p_{5}p_{6}}^{h_{3}h_{4}}t2_{p_{7}p_{8}}^{h_{5}h_{6}}\n + 0.0013020833333333333 * t2_{p_{0}p_{1}}^{h_{0}h_{1}}t2_{p_{2}p_{3}}^{h_{2}h_{3}}v_{p_{4}h_{4}}^{p_{5}p_{6}}t2_{p_{7}p_{8}}^{h_{5}h_{6}}\n + 0.0013020833333333333 * t2_{p_{0}p_{1}}^{h_{0}h_{1}}t2_{p_{2}p_{3}}^{h_{2}h_{3}}v_{p_{4}h_{4}}^{p_{5}p_{6}}t2_{p_{7}p_{8}}^{h_{5}h_{6}}\n + -0.0013020833333333333 * t2_{p_{0}p_{1}}^{h_{0}h_{1}}t2_{p_{2}p_{3}}^{h_{2}h_{3}}t2_{p_{4}p_{5}}^{h_{4}h_{5}}v_{p_{6}h_{6}}^{p_{7}p_{8}}\n + 8.138020833333333e-05 * v_{p_{0}h_{0}}^{p_{1}p_{2}}t2_{p_{3}p_{4}}^{h_{1}h_{2}}t2_{p_{5}p_{6}}^{h_{3}h_{4}}t2_{p_{7}p_{8}}^{h_{5}h_{6}}t2_{p_{9}p_{10}}^{h_{7}h_{8}}\n + -8.138020833333333e-05 * t2_{p_{0}p_{1}}^{h_{0}h_{1}}v_{p_{2}h_{2}}^{p_{3}p_{4}}t2_{p_{5}p_{6}}^{h_{3}h_{4}}t2_{p_{7}p_{8}}^{h_{5}h_{6}}t2_{p_{9}p_{10}}^{h_{7}h_{8}}\n + -8.138020833333333e-05 * t2_{p_{0}p_{1}}^{h_{0}h_{1}}v_{p_{2}h_{2}}^{p_{3}p_{4}}t2_{p_{5}p_{6}}^{h_{3}h_{4}}t2_{p_{7}p_{8}}^{h_{5}h_{6}}t2_{p_{9}p_{10}}^{h_{7}h_{8}}\n + 8.138020833333333e-05 * t2_{p_{0}p_{1}}^{h_{0}h_{1}}t2_{p_{2}p_{3}}^{h_{2}h_{3}}v_{p_{4}h_{4}}^{p_{5}p_{6}}t2_{p_{7}p_{8}}^{h_{5}h_{6}}t2_{p_{9}p_{10}}^{h_{7}h_{8}}\n + -8.138020833333333e-05 * t2_{p_{0}p_{1}}^{h_{0}h_{1}}v_{p_{2}h_{2}}^{p_{3}p_{4}}t2_{p_{5}p_{6}}^{h_{3}h_{4}}t2_{p_{7}p_{8}}^{h_{5}h_{6}}t2_{p_{9}p_{10}}^{h_{7}h_{8}}\n + 8.138020833333333e-05 * t2_{p_{0}p_{1}}^{h_{0}h_{1}}t2_{p_{2}p_{3}}^{h_{2}h_{3}}v_{p_{4}h_{4}}^{p_{5}p_{6}}t2_{p_{7}p_{8}}^{h_{5}h_{6}}t2_{p_{9}p_{10}}^{h_{7}h_{8}}\n + 8.138020833333333e-05 * t2_{p_{0}p_{1}}^{h_{0}h_{1}}t2_{p_{2}p_{3}}^{h_{2}h_{3}}v_{p_{4}h_{4}}^{p_{5}p_{6}}t2_{p_{7}p_{8}}^{h_{5}h_{6}}t2_{p_{9}p_{10}}^{h_{7}h_{8}}\n + -8.138020833333333e-05 * t2_{p_{0}p_{1}}^{h_{0}h_{1}}t2_{p_{2}p_{3}}^{h_{2}h_{3}}t2_{p_{4}p_{5}}^{h_{4}h_{5}}v_{p_{6}h_{6}}^{p_{7}p_{8}}t2_{p_{9}p_{10}}^{h_{7}h_{8}}\n + -8.138020833333333e-05 * t2_{p_{0}p_{1}}^{h_{0}h_{1}}v_{p_{2}h_{2}}^{p_{3}p_{4}}t2_{p_{5}p_{6}}^{h_{3}h_{4}}t2_{p_{7}p_{8}}^{h_{5}h_{6}}t2_{p_{9}p_{10}}^{h_{7}h_{8}}\n + 8.138020833333333e-05 * t2_{p_{0}p_{1}}^{h_{0}h_{1}}t2_{p_{2}p_{3}}^{h_{2}h_{3}}v_{p_{4}h_{4}}^{p_{5}p_{6}}t2_{p_{7}p_{8}}^{h_{5}h_{6}}t2_{p_{9}p_{10}}^{h_{7}h_{8}}\n + 8.138020833333333e-05 * t2_{p_{0}p_{1}}^{h_{0}h_{1}}t2_{p_{2}p_{3}}^{h_{2}h_{3}}v_{p_{4}h_{4}}^{p_{5}p_{6}}t2_{p_{7}p_{8}}^{h_{5}h_{6}}t2_{p_{9}p_{10}}^{h_{7}h_{8}}\n + -8.138020833333333e-05 * t2_{p_{0}p_{1}}^{h_{0}h_{1}}t2_{p_{2}p_{3}}^{h_{2}h_{3}}t2_{p_{4}p_{5}}^{h_{4}h_{5}}v_{p_{6}h_{6}}^{p_{7}p_{8}}t2_{p_{9}p_{10}}^{h_{7}h_{8}}\n + 8.138020833333333e-05 * t2_{p_{0}p_{1}}^{h_{0}h_{1}}t2_{p_{2}p_{3}}^{h_{2}h_{3}}v_{p_{4}h_{4}}^{p_{5}p_{6}}t2_{p_{7}p_{8}}^{h_{5}h_{6}}t2_{p_{9}p_{10}}^{h_{7}h_{8}}\n + -8.138020833333333e-05 * t2_{p_{0}p_{1}}^{h_{0}h_{1}}t2_{p_{2}p_{3}}^{h_{2}h_{3}}t2_{p_{4}p_{5}}^{h_{4}h_{5}}v_{p_{6}h_{6}}^{p_{7}p_{8}}t2_{p_{9}p_{10}}^{h_{7}h_{8}}\n + -8.138020833333333e-05 * t2_{p_{0}p_{1}}^{h_{0}h_{1}}t2_{p_{2}p_{3}}^{h_{2}h_{3}}t2_{p_{4}p_{5}}^{h_{4}h_{5}}v_{p_{6}h_{6}}^{p_{7}p_{8}}t2_{p_{9}p_{10}}^{h_{7}h_{8}}\n + 8.138020833333333e-05 * t2_{p_{0}p_{1}}^{h_{0}h_{1}}t2_{p_{2}p_{3}}^{h_{2}h_{3}}t2_{p_{4}p_{5}}^{h_{4}h_{5}}t2_{p_{6}p_{7}}^{h_{6}h_{7}}v_{p_{8}h_{8}}^{p_{9}p_{10}}\n + 0.5 * v_{h_{0}h_{1}}^{h_{2}p_{0}}\n + 0.125 * v_{h_{0}h_{1}}^{h_{2}p_{0}}t2_{p_{1}p_{2}}^{h_{3}h_{4}}\n + -0.125 * t2_{p_{0}p_{1}}^{h_{0}h_{1}}v_{h_{2}h_{3}}^{h_{4}p_{2}}\n + 0.015625 * v_{h_{0}h_{1}}^{h_{2}p_{0}}t2_{p_{1}p_{2}}^{h_{3}h_{4}}t2_{p_{3}p_{4}}^{h_{5}h_{6}}\n + -0.015625 * t2_{p_{0}p_{1}}^{h_{0}h_{1}}v_{h_{2}h_{3}}^{h_{4}p_{2}}t2_{p_{3}p_{4}}^{h_{5}h_{6}}\n + -0.015625 * t2_{p_{0}p_{1}}^{h_{0}h_{1}}v_{h_{2}h_{3}}^{h_{4}p_{2}}t2_{p_{3}p_{4}}^{h_{5}h_{6}}\n + 0.015625 * t2_{p_{0}p_{1}}^{h_{0}h_{1}}t2_{p_{2}p_{3}}^{h_{2}h_{3}}v_{h_{4}h_{5}}^{h_{6}p_{4}}\n + 0.0013020833333333333 * v_{h_{0}h_{1}}^{h_{2}p_{0}}t2_{p_{1}p_{2}}^{h_{3}h_{4}}t2_{p_{3}p_{4}}^{h_{5}h_{6}}t2_{p_{5}p_{6}}^{h_{7}h_{8}}\n + -0.0013020833333333333 * t2_{p_{0}p_{1}}^{h_{0}h_{1}}v_{h_{2}h_{3}}^{h_{4}p_{2}}t2_{p_{3}p_{4}}^{h_{5}h_{6}}t2_{p_{5}p_{6}}^{h_{7}h_{8}}\n + -0.0013020833333333333 * t2_{p_{0}p_{1}}^{h_{0}h_{1}}v_{h_{2}h_{3}}^{h_{4}p_{2}}t2_{p_{3}p_{4}}^{h_{5}h_{6}}t2_{p_{5}p_{6}}^{h_{7}h_{8}}\n + 0.0013020833333333333 * t2_{p_{0}p_{1}}^{h_{0}h_{1}}t2_{p_{2}p_{3}}^{h_{2}h_{3}}v_{h_{4}h_{5}}^{h_{6}p_{4}}t2_{p_{5}p_{6}}^{h_{7}h_{8}}\n + -0.0013020833333333333 * t2_{p_{0}p_{1}}^{h_{0}h_{1}}v_{h_{2}h_{3}}^{h_{4}p_{2}}t2_{p_{3}p_{4}}^{h_{5}h_{6}}t2_{p_{5}p_{6}}^{h_{7}h_{8}}\n + 0.0013020833333333333 * t2_{p_{0}p_{1}}^{h_{0}h_{1}}t2_{p_{2}p_{3}}^{h_{2}h_{3}}v_{h_{4}h_{5}}^{h_{6}p_{4}}t2_{p_{5}p_{6}}^{h_{7}h_{8}}\n + 0.0013020833333333333 * t2_{p_{0}p_{1}}^{h_{0}h_{1}}t2_{p_{2}p_{3}}^{h_{2}h_{3}}v_{h_{4}h_{5}}^{h_{6}p_{4}}t2_{p_{5}p_{6}}^{h_{7}h_{8}}\n + -0.0013020833333333333 * t2_{p_{0}p_{1}}^{h_{0}h_{1}}t2_{p_{2}p_{3}}^{h_{2}h_{3}}t2_{p_{4}p_{5}}^{h_{4}h_{5}}v_{h_{6}h_{7}}^{h_{8}p_{6}}\n + 8.138020833333333e-05 * v_{h_{0}h_{1}}^{h_{2}p_{0}}t2_{p_{1}p_{2}}^{h_{3}h_{4}}t2_{p_{3}p_{4}}^{h_{5}h_{6}}t2_{p_{5}p_{6}}^{h_{7}h_{8}}t2_{p_{7}p_{8}}^{h_{9}h_{10}}\n + -8.138020833333333e-05 * t2_{p_{0}p_{1}}^{h_{0}h_{1}}v_{h_{2}h_{3}}^{h_{4}p_{2}}t2_{p_{3}p_{4}}^{h_{5}h_{6}}t2_{p_{5}p_{6}}^{h_{7}h_{8}}t2_{p_{7}p_{8}}^{h_{9}h_{10}}\n + -8.138020833333333e-05 * t2_{p_{0}p_{1}}^{h_{0}h_{1}}v_{h_{2}h_{3}}^{h_{4}p_{2}}t2_{p_{3}p_{4}}^{h_{5}h_{6}}t2_{p_{5}p_{6}}^{h_{7}h_{8}}t2_{p_{7}p_{8}}^{h_{9}h_{10}}\n + 8.138020833333333e-05 * t2_{p_{0}p_{1}}^{h_{0}h_{1}}t2_{p_{2}p_{3}}^{h_{2}h_{3}}v_{h_{4}h_{5}}^{h_{6}p_{4}}t2_{p_{5}p_{6}}^{h_{7}h_{8}}t2_{p_{7}p_{8}}^{h_{9}h_{10}}\n + -8.138020833333333e-05 * t2_{p_{0}p_{1}}^{h_{0}h_{1}}v_{h_{2}h_{3}}^{h_{4}p_{2}}t2_{p_{3}p_{4}}^{h_{5}h_{6}}t2_{p_{5}p_{6}}^{h_{7}h_{8}}t2_{p_{7}p_{8}}^{h_{9}h_{10}}\n + 8.138020833333333e-05 * t2_{p_{0}p_{1}}^{h_{0}h_{1}}t2_{p_{2}p_{3}}^{h_{2}h_{3}}v_{h_{4}h_{5}}^{h_{6}p_{4}}t2_{p_{5}p_{6}}^{h_{7}h_{8}}t2_{p_{7}p_{8}}^{h_{9}h_{10}}\n + 8.138020833333333e-05 * t2_{p_{0}p_{1}}^{h_{0}h_{1}}t2_{p_{2}p_{3}}^{h_{2}h_{3}}v_{h_{4}h_{5}}^{h_{6}p_{4}}t2_{p_{5}p_{6}}^{h_{7}h_{8}}t2_{p_{7}p_{8}}^{h_{9}h_{10}}\n + -8.138020833333333e-05 * t2_{p_{0}p_{1}}^{h_{0}h_{1}}t2_{p_{2}p_{3}}^{h_{2}h_{3}}t2_{p_{4}p_{5}}^{h_{4}h_{5}}v_{h_{6}h_{7}}^{h_{8}p_{6}}t2_{p_{7}p_{8}}^{h_{9}h_{10}}\n + -8.138020833333333e-05 * t2_{p_{0}p_{1}}^{h_{0}h_{1}}v_{h_{2}h_{3}}^{h_{4}p_{2}}t2_{p_{3}p_{4}}^{h_{5}h_{6}}t2_{p_{5}p_{6}}^{h_{7}h_{8}}t2_{p_{7}p_{8}}^{h_{9}h_{10}}\n + 8.138020833333333e-05 * t2_{p_{0}p_{1}}^{h_{0}h_{1}}t2_{p_{2}p_{3}}^{h_{2}h_{3}}v_{h_{4}h_{5}}^{h_{6}p_{4}}t2_{p_{5}p_{6}}^{h_{7}h_{8}}t2_{p_{7}p_{8}}^{h_{9}h_{10}}\n + 8.138020833333333e-05 * t2_{p_{0}p_{1}}^{h_{0}h_{1}}t2_{p_{2}p_{3}}^{h_{2}h_{3}}v_{h_{4}h_{5}}^{h_{6}p_{4}}t2_{p_{5}p_{6}}^{h_{7}h_{8}}t2_{p_{7}p_{8}}^{h_{9}h_{10}}\n + -8.138020833333333e-05 * t2_{p_{0}p_{1}}^{h_{0}h_{1}}t2_{p_{2}p_{3}}^{h_{2}h_{3}}t2_{p_{4}p_{5}}^{h_{4}h_{5}}v_{h_{6}h_{7}}^{h_{8}p_{6}}t2_{p_{7}p_{8}}^{h_{9}h_{10}}\n + 8.138020833333333e-05 * t2_{p_{0}p_{1}}^{h_{0}h_{1}}t2_{p_{2}p_{3}}^{h_{2}h_{3}}v_{h_{4}h_{5}}^{h_{6}p_{4}}t2_{p_{5}p_{6}}^{h_{7}h_{8}}t2_{p_{7}p_{8}}^{h_{9}h_{10}}\n + -8.138020833333333e-05 * t2_{p_{0}p_{1}}^{h_{0}h_{1}}t2_{p_{2}p_{3}}^{h_{2}h_{3}}t2_{p_{4}p_{5}}^{h_{4}h_{5}}v_{h_{6}h_{7}}^{h_{8}p_{6}}t2_{p_{7}p_{8}}^{h_{9}h_{10}}\n + -8.138020833333333e-05 * t2_{p_{0}p_{1}}^{h_{0}h_{1}}t2_{p_{2}p_{3}}^{h_{2}h_{3}}t2_{p_{4}p_{5}}^{h_{4}h_{5}}v_{h_{6}h_{7}}^{h_{8}p_{6}}t2_{p_{7}p_{8}}^{h_{9}h_{10}}\n + 8.138020833333333e-05 * t2_{p_{0}p_{1}}^{h_{0}h_{1}}t2_{p_{2}p_{3}}^{h_{2}h_{3}}t2_{p_{4}p_{5}}^{h_{4}h_{5}}t2_{p_{6}p_{7}}^{h_{6}h_{7}}v_{h_{8}h_{9}}^{h_{10}p_{8}}\n + 0.5 * v_{p_{0}p_{1}}^{p_{2}h_{0}}\n + 0.125 * v_{p_{0}p_{1}}^{p_{2}h_{0}}t2_{p_{3}p_{4}}^{h_{1}h_{2}}\n + -0.125 * t2_{p_{0}p_{1}}^{h_{0}h_{1}}v_{p_{2}p_{3}}^{p_{4}h_{2}}\n + 0.015625 * v_{p_{0}p_{1}}^{p_{2}h_{0}}t2_{p_{3}p_{4}}^{h_{1}h_{2}}t2_{p_{5}p_{6}}^{h_{3}h_{4}}\n + -0.015625 * t2_{p_{0}p_{1}}^{h_{0}h_{1}}v_{p_{2}p_{3}}^{p_{4}h_{2}}t2_{p_{5}p_{6}}^{h_{3}h_{4}}\n + -0.015625 * t2_{p_{0}p_{1}}^{h_{0}h_{1}}v_{p_{2}p_{3}}^{p_{4}h_{2}}t2_{p_{5}p_{6}}^{h_{3}h_{4}}\n + 0.015625 * t2_{p_{0}p_{1}}^{h_{0}h_{1}}t2_{p_{2}p_{3}}^{h_{2}h_{3}}v_{p_{4}p_{5}}^{p_{6}h_{4}}\n + 0.0013020833333333333 * v_{p_{0}p_{1}}^{p_{2}h_{0}}t2_{p_{3}p_{4}}^{h_{1}h_{2}}t2_{p_{5}p_{6}}^{h_{3}h_{4}}t2_{p_{7}p_{8}}^{h_{5}h_{6}}\n + -0.0013020833333333333 * t2_{p_{0}p_{1}}^{h_{0}h_{1}}v_{p_{2}p_{3}}^{p_{4}h_{2}}t2_{p_{5}p_{6}}^{h_{3}h_{4}}t2_{p_{7}p_{8}}^{h_{5}h_{6}}\n + -0.0013020833333333333 * t2_{p_{0}p_{1}}^{h_{0}h_{1}}v_{p_{2}p_{3}}^{p_{4}h_{2}}t2_{p_{5}p_{6}}^{h_{3}h_{4}}t2_{p_{7}p_{8}}^{h_{5}h_{6}}\n + 0.0013020833333333333 * t2_{p_{0}p_{1}}^{h_{0}h_{1}}t2_{p_{2}p_{3}}^{h_{2}h_{3}}v_{p_{4}p_{5}}^{p_{6}h_{4}}t2_{p_{7}p_{8}}^{h_{5}h_{6}}\n + -0.0013020833333333333 * t2_{p_{0}p_{1}}^{h_{0}h_{1}}v_{p_{2}p_{3}}^{p_{4}h_{2}}t2_{p_{5}p_{6}}^{h_{3}h_{4}}t2_{p_{7}p_{8}}^{h_{5}h_{6}}\n + 0.0013020833333333333 * t2_{p_{0}p_{1}}^{h_{0}h_{1}}t2_{p_{2}p_{3}}^{h_{2}h_{3}}v_{p_{4}p_{5}}^{p_{6}h_{4}}t2_{p_{7}p_{8}}^{h_{5}h_{6}}\n + 0.0013020833333333333 * t2_{p_{0}p_{1}}^{h_{0}h_{1}}t2_{p_{2}p_{3}}^{h_{2}h_{3}}v_{p_{4}p_{5}}^{p_{6}h_{4}}t2_{p_{7}p_{8}}^{h_{5}h_{6}}\n + -0.0013020833333333333 * t2_{p_{0}p_{1}}^{h_{0}h_{1}}t2_{p_{2}p_{3}}^{h_{2}h_{3}}t2_{p_{4}p_{5}}^{h_{4}h_{5}}v_{p_{6}p_{7}}^{p_{8}h_{6}}\n + 8.138020833333333e-05 * v_{p_{0}p_{1}}^{p_{2}h_{0}}t2_{p_{3}p_{4}}^{h_{1}h_{2}}t2_{p_{5}p_{6}}^{h_{3}h_{4}}t2_{p_{7}p_{8}}^{h_{5}h_{6}}t2_{p_{9}p_{10}}^{h_{7}h_{8}}\n + -8.138020833333333e-05 * t2_{p_{0}p_{1}}^{h_{0}h_{1}}v_{p_{2}p_{3}}^{p_{4}h_{2}}t2_{p_{5}p_{6}}^{h_{3}h_{4}}t2_{p_{7}p_{8}}^{h_{5}h_{6}}t2_{p_{9}p_{10}}^{h_{7}h_{8}}\n + -8.138020833333333e-05 * t2_{p_{0}p_{1}}^{h_{0}h_{1}}v_{p_{2}p_{3}}^{p_{4}h_{2}}t2_{p_{5}p_{6}}^{h_{3}h_{4}}t2_{p_{7}p_{8}}^{h_{5}h_{6}}t2_{p_{9}p_{10}}^{h_{7}h_{8}}\n + 8.138020833333333e-05 * t2_{p_{0}p_{1}}^{h_{0}h_{1}}t2_{p_{2}p_{3}}^{h_{2}h_{3}}v_{p_{4}p_{5}}^{p_{6}h_{4}}t2_{p_{7}p_{8}}^{h_{5}h_{6}}t2_{p_{9}p_{10}}^{h_{7}h_{8}}\n + -8.138020833333333e-05 * t2_{p_{0}p_{1}}^{h_{0}h_{1}}v_{p_{2}p_{3}}^{p_{4}h_{2}}t2_{p_{5}p_{6}}^{h_{3}h_{4}}t2_{p_{7}p_{8}}^{h_{5}h_{6}}t2_{p_{9}p_{10}}^{h_{7}h_{8}}\n + 8.138020833333333e-05 * t2_{p_{0}p_{1}}^{h_{0}h_{1}}t2_{p_{2}p_{3}}^{h_{2}h_{3}}v_{p_{4}p_{5}}^{p_{6}h_{4}}t2_{p_{7}p_{8}}^{h_{5}h_{6}}t2_{p_{9}p_{10}}^{h_{7}h_{8}}\n + 8.138020833333333e-05 * t2_{p_{0}p_{1}}^{h_{0}h_{1}}t2_{p_{2}p_{3}}^{h_{2}h_{3}}v_{p_{4}p_{5}}^{p_{6}h_{4}}t2_{p_{7}p_{8}}^{h_{5}h_{6}}t2_{p_{9}p_{10}}^{h_{7}h_{8}}\n + -8.138020833333333e-05 * t2_{p_{0}p_{1}}^{h_{0}h_{1}}t2_{p_{2}p_{3}}^{h_{2}h_{3}}t2_{p_{4}p_{5}}^{h_{4}h_{5}}v_{p_{6}p_{7}}^{p_{8}h_{6}}t2_{p_{9}p_{10}}^{h_{7}h_{8}}\n + -8.138020833333333e-05 * t2_{p_{0}p_{1}}^{h_{0}h_{1}}v_{p_{2}p_{3}}^{p_{4}h_{2}}t2_{p_{5}p_{6}}^{h_{3}h_{4}}t2_{p_{7}p_{8}}^{h_{5}h_{6}}t2_{p_{9}p_{10}}^{h_{7}h_{8}}\n + 8.138020833333333e-05 * t2_{p_{0}p_{1}}^{h_{0}h_{1}}t2_{p_{2}p_{3}}^{h_{2}h_{3}}v_{p_{4}p_{5}}^{p_{6}h_{4}}t2_{p_{7}p_{8}}^{h_{5}h_{6}}t2_{p_{9}p_{10}}^{h_{7}h_{8}}\n + 8.138020833333333e-05 * t2_{p_{0}p_{1}}^{h_{0}h_{1}}t2_{p_{2}p_{3}}^{h_{2}h_{3}}v_{p_{4}p_{5}}^{p_{6}h_{4}}t2_{p_{7}p_{8}}^{h_{5}h_{6}}t2_{p_{9}p_{10}}^{h_{7}h_{8}}\n + -8.138020833333333e-05 * t2_{p_{0}p_{1}}^{h_{0}h_{1}}t2_{p_{2}p_{3}}^{h_{2}h_{3}}t2_{p_{4}p_{5}}^{h_{4}h_{5}}v_{p_{6}p_{7}}^{p_{8}h_{6}}t2_{p_{9}p_{10}}^{h_{7}h_{8}}\n + 8.138020833333333e-05 * t2_{p_{0}p_{1}}^{h_{0}h_{1}}t2_{p_{2}p_{3}}^{h_{2}h_{3}}v_{p_{4}p_{5}}^{p_{6}h_{4}}t2_{p_{7}p_{8}}^{h_{5}h_{6}}t2_{p_{9}p_{10}}^{h_{7}h_{8}}\n + -8.138020833333333e-05 * t2_{p_{0}p_{1}}^{h_{0}h_{1}}t2_{p_{2}p_{3}}^{h_{2}h_{3}}t2_{p_{4}p_{5}}^{h_{4}h_{5}}v_{p_{6}p_{7}}^{p_{8}h_{6}}t2_{p_{9}p_{10}}^{h_{7}h_{8}}\n + -8.138020833333333e-05 * t2_{p_{0}p_{1}}^{h_{0}h_{1}}t2_{p_{2}p_{3}}^{h_{2}h_{3}}t2_{p_{4}p_{5}}^{h_{4}h_{5}}v_{p_{6}p_{7}}^{p_{8}h_{6}}t2_{p_{9}p_{10}}^{h_{7}h_{8}}\n + 8.138020833333333e-05 * t2_{p_{0}p_{1}}^{h_{0}h_{1}}t2_{p_{2}p_{3}}^{h_{2}h_{3}}t2_{p_{4}p_{5}}^{h_{4}h_{5}}t2_{p_{6}p_{7}}^{h_{6}h_{7}}v_{p_{8}p_{9}}^{p_{10}h_{8}}\n + 0.5 * v_{h_{0}p_{0}}^{h_{1}h_{2}}\n + 0.125 * v_{h_{0}p_{0}}^{h_{1}h_{2}}t2_{p_{1}p_{2}}^{h_{3}h_{4}}\n + -0.125 * t2_{p_{0}p_{1}}^{h_{0}h_{1}}v_{h_{2}p_{2}}^{h_{3}h_{4}}\n + 0.015625 * v_{h_{0}p_{0}}^{h_{1}h_{2}}t2_{p_{1}p_{2}}^{h_{3}h_{4}}t2_{p_{3}p_{4}}^{h_{5}h_{6}}\n + -0.015625 * t2_{p_{0}p_{1}}^{h_{0}h_{1}}v_{h_{2}p_{2}}^{h_{3}h_{4}}t2_{p_{3}p_{4}}^{h_{5}h_{6}}\n + -0.015625 * t2_{p_{0}p_{1}}^{h_{0}h_{1}}v_{h_{2}p_{2}}^{h_{3}h_{4}}t2_{p_{3}p_{4}}^{h_{5}h_{6}}\n + 0.015625 * t2_{p_{0}p_{1}}^{h_{0}h_{1}}t2_{p_{2}p_{3}}^{h_{2}h_{3}}v_{h_{4}p_{4}}^{h_{5}h_{6}}\n + 0.0013020833333333333 * v_{h_{0}p_{0}}^{h_{1}h_{2}}t2_{p_{1}p_{2}}^{h_{3}h_{4}}t2_{p_{3}p_{4}}^{h_{5}h_{6}}t2_{p_{5}p_{6}}^{h_{7}h_{8}}\n + -0.0013020833333333333 * t2_{p_{0}p_{1}}^{h_{0}h_{1}}v_{h_{2}p_{2}}^{h_{3}h_{4}}t2_{p_{3}p_{4}}^{h_{5}h_{6}}t2_{p_{5}p_{6}}^{h_{7}h_{8}}\n + -0.0013020833333333333 * t2_{p_{0}p_{1}}^{h_{0}h_{1}}v_{h_{2}p_{2}}^{h_{3}h_{4}}t2_{p_{3}p_{4}}^{h_{5}h_{6}}t2_{p_{5}p_{6}}^{h_{7}h_{8}}\n + 0.0013020833333333333 * t2_{p_{0}p_{1}}^{h_{0}h_{1}}t2_{p_{2}p_{3}}^{h_{2}h_{3}}v_{h_{4}p_{4}}^{h_{5}h_{6}}t2_{p_{5}p_{6}}^{h_{7}h_{8}}\n + -0.0013020833333333333 * t2_{p_{0}p_{1}}^{h_{0}h_{1}}v_{h_{2}p_{2}}^{h_{3}h_{4}}t2_{p_{3}p_{4}}^{h_{5}h_{6}}t2_{p_{5}p_{6}}^{h_{7}h_{8}}\n + 0.0013020833333333333 * t2_{p_{0}p_{1}}^{h_{0}h_{1}}t2_{p_{2}p_{3}}^{h_{2}h_{3}}v_{h_{4}p_{4}}^{h_{5}h_{6}}t2_{p_{5}p_{6}}^{h_{7}h_{8}}\n + 0.0013020833333333333 * t2_{p_{0}p_{1}}^{h_{0}h_{1}}t2_{p_{2}p_{3}}^{h_{2}h_{3}}v_{h_{4}p_{4}}^{h_{5}h_{6}}t2_{p_{5}p_{6}}^{h_{7}h_{8}}\n + -0.0013020833333333333 * t2_{p_{0}p_{1}}^{h_{0}h_{1}}t2_{p_{2}p_{3}}^{h_{2}h_{3}}t2_{p_{4}p_{5}}^{h_{4}h_{5}}v_{h_{6}p_{6}}^{h_{7}h_{8}}\n + 8.138020833333333e-05 * v_{h_{0}p_{0}}^{h_{1}h_{2}}t2_{p_{1}p_{2}}^{h_{3}h_{4}}t2_{p_{3}p_{4}}^{h_{5}h_{6}}t2_{p_{5}p_{6}}^{h_{7}h_{8}}t2_{p_{7}p_{8}}^{h_{9}h_{10}}\n + -8.138020833333333e-05 * t2_{p_{0}p_{1}}^{h_{0}h_{1}}v_{h_{2}p_{2}}^{h_{3}h_{4}}t2_{p_{3}p_{4}}^{h_{5}h_{6}}t2_{p_{5}p_{6}}^{h_{7}h_{8}}t2_{p_{7}p_{8}}^{h_{9}h_{10}}\n + -8.138020833333333e-05 * t2_{p_{0}p_{1}}^{h_{0}h_{1}}v_{h_{2}p_{2}}^{h_{3}h_{4}}t2_{p_{3}p_{4}}^{h_{5}h_{6}}t2_{p_{5}p_{6}}^{h_{7}h_{8}}t2_{p_{7}p_{8}}^{h_{9}h_{10}}\n + 8.138020833333333e-05 * t2_{p_{0}p_{1}}^{h_{0}h_{1}}t2_{p_{2}p_{3}}^{h_{2}h_{3}}v_{h_{4}p_{4}}^{h_{5}h_{6}}t2_{p_{5}p_{6}}^{h_{7}h_{8}}t2_{p_{7}p_{8}}^{h_{9}h_{10}}\n + -8.138020833333333e-05 * t2_{p_{0}p_{1}}^{h_{0}h_{1}}v_{h_{2}p_{2}}^{h_{3}h_{4}}t2_{p_{3}p_{4}}^{h_{5}h_{6}}t2_{p_{5}p_{6}}^{h_{7}h_{8}}t2_{p_{7}p_{8}}^{h_{9}h_{10}}\n + 8.138020833333333e-05 * t2_{p_{0}p_{1}}^{h_{0}h_{1}}t2_{p_{2}p_{3}}^{h_{2}h_{3}}v_{h_{4}p_{4}}^{h_{5}h_{6}}t2_{p_{5}p_{6}}^{h_{7}h_{8}}t2_{p_{7}p_{8}}^{h_{9}h_{10}}\n + 8.138020833333333e-05 * t2_{p_{0}p_{1}}^{h_{0}h_{1}}t2_{p_{2}p_{3}}^{h_{2}h_{3}}v_{h_{4}p_{4}}^{h_{5}h_{6}}t2_{p_{5}p_{6}}^{h_{7}h_{8}}t2_{p_{7}p_{8}}^{h_{9}h_{10}}\n + -8.138020833333333e-05 * t2_{p_{0}p_{1}}^{h_{0}h_{1}}t2_{p_{2}p_{3}}^{h_{2}h_{3}}t2_{p_{4}p_{5}}^{h_{4}h_{5}}v_{h_{6}p_{6}}^{h_{7}h_{8}}t2_{p_{7}p_{8}}^{h_{9}h_{10}}\n + -8.138020833333333e-05 * t2_{p_{0}p_{1}}^{h_{0}h_{1}}v_{h_{2}p_{2}}^{h_{3}h_{4}}t2_{p_{3}p_{4}}^{h_{5}h_{6}}t2_{p_{5}p_{6}}^{h_{7}h_{8}}t2_{p_{7}p_{8}}^{h_{9}h_{10}}\n + 8.138020833333333e-05 * t2_{p_{0}p_{1}}^{h_{0}h_{1}}t2_{p_{2}p_{3}}^{h_{2}h_{3}}v_{h_{4}p_{4}}^{h_{5}h_{6}}t2_{p_{5}p_{6}}^{h_{7}h_{8}}t2_{p_{7}p_{8}}^{h_{9}h_{10}}\n + 8.138020833333333e-05 * t2_{p_{0}p_{1}}^{h_{0}h_{1}}t2_{p_{2}p_{3}}^{h_{2}h_{3}}v_{h_{4}p_{4}}^{h_{5}h_{6}}t2_{p_{5}p_{6}}^{h_{7}h_{8}}t2_{p_{7}p_{8}}^{h_{9}h_{10}}\n + -8.138020833333333e-05 * t2_{p_{0}p_{1}}^{h_{0}h_{1}}t2_{p_{2}p_{3}}^{h_{2}h_{3}}t2_{p_{4}p_{5}}^{h_{4}h_{5}}v_{h_{6}p_{6}}^{h_{7}h_{8}}t2_{p_{7}p_{8}}^{h_{9}h_{10}}\n + 8.138020833333333e-05 * t2_{p_{0}p_{1}}^{h_{0}h_{1}}t2_{p_{2}p_{3}}^{h_{2}h_{3}}v_{h_{4}p_{4}}^{h_{5}h_{6}}t2_{p_{5}p_{6}}^{h_{7}h_{8}}t2_{p_{7}p_{8}}^{h_{9}h_{10}}\n + -8.138020833333333e-05 * t2_{p_{0}p_{1}}^{h_{0}h_{1}}t2_{p_{2}p_{3}}^{h_{2}h_{3}}t2_{p_{4}p_{5}}^{h_{4}h_{5}}v_{h_{6}p_{6}}^{h_{7}h_{8}}t2_{p_{7}p_{8}}^{h_{9}h_{10}}\n + -8.138020833333333e-05 * t2_{p_{0}p_{1}}^{h_{0}h_{1}}t2_{p_{2}p_{3}}^{h_{2}h_{3}}t2_{p_{4}p_{5}}^{h_{4}h_{5}}v_{h_{6}p_{6}}^{h_{7}h_{8}}t2_{p_{7}p_{8}}^{h_{9}h_{10}}\n + 8.138020833333333e-05 * t2_{p_{0}p_{1}}^{h_{0}h_{1}}t2_{p_{2}p_{3}}^{h_{2}h_{3}}t2_{p_{4}p_{5}}^{h_{4}h_{5}}t2_{p_{6}p_{7}}^{h_{6}h_{7}}v_{h_{8}p_{8}}^{h_{9}h_{10}}\n + 0.5 * v_{p_{0}p_{1}}^{h_{0}h_{1}}\n + 0.125 * v_{p_{0}p_{1}}^{h_{0}h_{1}}t2_{p_{2}p_{3}}^{h_{2}h_{3}}\n + -0.125 * t2_{p_{0}p_{1}}^{h_{0}h_{1}}v_{p_{2}p_{3}}^{h_{2}h_{3}}\n + 0.015625 * v_{p_{0}p_{1}}^{h_{0}h_{1}}t2_{p_{2}p_{3}}^{h_{2}h_{3}}t2_{p_{4}p_{5}}^{h_{4}h_{5}}\n + -0.015625 * t2_{p_{0}p_{1}}^{h_{0}h_{1}}v_{p_{2}p_{3}}^{h_{2}h_{3}}t2_{p_{4}p_{5}}^{h_{4}h_{5}}\n + -0.015625 * t2_{p_{0}p_{1}}^{h_{0}h_{1}}v_{p_{2}p_{3}}^{h_{2}h_{3}}t2_{p_{4}p_{5}}^{h_{4}h_{5}}\n + 0.015625 * t2_{p_{0}p_{1}}^{h_{0}h_{1}}t2_{p_{2}p_{3}}^{h_{2}h_{3}}v_{p_{4}p_{5}}^{h_{4}h_{5}}\n + 0.0013020833333333333 * v_{p_{0}p_{1}}^{h_{0}h_{1}}t2_{p_{2}p_{3}}^{h_{2}h_{3}}t2_{p_{4}p_{5}}^{h_{4}h_{5}}t2_{p_{6}p_{7}}^{h_{6}h_{7}}\n + -0.0013020833333333333 * t2_{p_{0}p_{1}}^{h_{0}h_{1}}v_{p_{2}p_{3}}^{h_{2}h_{3}}t2_{p_{4}p_{5}}^{h_{4}h_{5}}t2_{p_{6}p_{7}}^{h_{6}h_{7}}\n + -0.0013020833333333333 * t2_{p_{0}p_{1}}^{h_{0}h_{1}}v_{p_{2}p_{3}}^{h_{2}h_{3}}t2_{p_{4}p_{5}}^{h_{4}h_{5}}t2_{p_{6}p_{7}}^{h_{6}h_{7}}\n + 0.0013020833333333333 * t2_{p_{0}p_{1}}^{h_{0}h_{1}}t2_{p_{2}p_{3}}^{h_{2}h_{3}}v_{p_{4}p_{5}}^{h_{4}h_{5}}t2_{p_{6}p_{7}}^{h_{6}h_{7}}\n + -0.0013020833333333333 * t2_{p_{0}p_{1}}^{h_{0}h_{1}}v_{p_{2}p_{3}}^{h_{2}h_{3}}t2_{p_{4}p_{5}}^{h_{4}h_{5}}t2_{p_{6}p_{7}}^{h_{6}h_{7}}\n + 0.0013020833333333333 * t2_{p_{0}p_{1}}^{h_{0}h_{1}}t2_{p_{2}p_{3}}^{h_{2}h_{3}}v_{p_{4}p_{5}}^{h_{4}h_{5}}t2_{p_{6}p_{7}}^{h_{6}h_{7}}\n + 0.0013020833333333333 * t2_{p_{0}p_{1}}^{h_{0}h_{1}}t2_{p_{2}p_{3}}^{h_{2}h_{3}}v_{p_{4}p_{5}}^{h_{4}h_{5}}t2_{p_{6}p_{7}}^{h_{6}h_{7}}\n + -0.0013020833333333333 * t2_{p_{0}p_{1}}^{h_{0}h_{1}}t2_{p_{2}p_{3}}^{h_{2}h_{3}}t2_{p_{4}p_{5}}^{h_{4}h_{5}}v_{p_{6}p_{7}}^{h_{6}h_{7}}\n + 8.138020833333333e-05 * v_{p_{0}p_{1}}^{h_{0}h_{1}}t2_{p_{2}p_{3}}^{h_{2}h_{3}}t2_{p_{4}p_{5}}^{h_{4}h_{5}}t2_{p_{6}p_{7}}^{h_{6}h_{7}}t2_{p_{8}p_{9}}^{h_{8}h_{9}}\n + -8.138020833333333e-05 * t2_{p_{0}p_{1}}^{h_{0}h_{1}}v_{p_{2}p_{3}}^{h_{2}h_{3}}t2_{p_{4}p_{5}}^{h_{4}h_{5}}t2_{p_{6}p_{7}}^{h_{6}h_{7}}t2_{p_{8}p_{9}}^{h_{8}h_{9}}\n + -8.138020833333333e-05 * t2_{p_{0}p_{1}}^{h_{0}h_{1}}v_{p_{2}p_{3}}^{h_{2}h_{3}}t2_{p_{4}p_{5}}^{h_{4}h_{5}}t2_{p_{6}p_{7}}^{h_{6}h_{7}}t2_{p_{8}p_{9}}^{h_{8}h_{9}}\n + 8.138020833333333e-05 * t2_{p_{0}p_{1}}^{h_{0}h_{1}}t2_{p_{2}p_{3}}^{h_{2}h_{3}}v_{p_{4}p_{5}}^{h_{4}h_{5}}t2_{p_{6}p_{7}}^{h_{6}h_{7}}t2_{p_{8}p_{9}}^{h_{8}h_{9}}\n + -8.138020833333333e-05 * t2_{p_{0}p_{1}}^{h_{0}h_{1}}v_{p_{2}p_{3}}^{h_{2}h_{3}}t2_{p_{4}p_{5}}^{h_{4}h_{5}}t2_{p_{6}p_{7}}^{h_{6}h_{7}}t2_{p_{8}p_{9}}^{h_{8}h_{9}}\n + 8.138020833333333e-05 * t2_{p_{0}p_{1}}^{h_{0}h_{1}}t2_{p_{2}p_{3}}^{h_{2}h_{3}}v_{p_{4}p_{5}}^{h_{4}h_{5}}t2_{p_{6}p_{7}}^{h_{6}h_{7}}t2_{p_{8}p_{9}}^{h_{8}h_{9}}\n + 8.138020833333333e-05 * t2_{p_{0}p_{1}}^{h_{0}h_{1}}t2_{p_{2}p_{3}}^{h_{2}h_{3}}v_{p_{4}p_{5}}^{h_{4}h_{5}}t2_{p_{6}p_{7}}^{h_{6}h_{7}}t2_{p_{8}p_{9}}^{h_{8}h_{9}}\n + -8.138020833333333e-05 * t2_{p_{0}p_{1}}^{h_{0}h_{1}}t2_{p_{2}p_{3}}^{h_{2}h_{3}}t2_{p_{4}p_{5}}^{h_{4}h_{5}}v_{p_{6}p_{7}}^{h_{6}h_{7}}t2_{p_{8}p_{9}}^{h_{8}h_{9}}\n + -8.138020833333333e-05 * t2_{p_{0}p_{1}}^{h_{0}h_{1}}v_{p_{2}p_{3}}^{h_{2}h_{3}}t2_{p_{4}p_{5}}^{h_{4}h_{5}}t2_{p_{6}p_{7}}^{h_{6}h_{7}}t2_{p_{8}p_{9}}^{h_{8}h_{9}}\n + 8.138020833333333e-05 * t2_{p_{0}p_{1}}^{h_{0}h_{1}}t2_{p_{2}p_{3}}^{h_{2}h_{3}}v_{p_{4}p_{5}}^{h_{4}h_{5}}t2_{p_{6}p_{7}}^{h_{6}h_{7}}t2_{p_{8}p_{9}}^{h_{8}h_{9}}\n + 8.138020833333333e-05 * t2_{p_{0}p_{1}}^{h_{0}h_{1}}t2_{p_{2}p_{3}}^{h_{2}h_{3}}v_{p_{4}p_{5}}^{h_{4}h_{5}}t2_{p_{6}p_{7}}^{h_{6}h_{7}}t2_{p_{8}p_{9}}^{h_{8}h_{9}}\n + -8.138020833333333e-05 * t2_{p_{0}p_{1}}^{h_{0}h_{1}}t2_{p_{2}p_{3}}^{h_{2}h_{3}}t2_{p_{4}p_{5}}^{h_{4}h_{5}}v_{p_{6}p_{7}}^{h_{6}h_{7}}t2_{p_{8}p_{9}}^{h_{8}h_{9}}\n + 8.138020833333333e-05 * t2_{p_{0}p_{1}}^{h_{0}h_{1}}t2_{p_{2}p_{3}}^{h_{2}h_{3}}v_{p_{4}p_{5}}^{h_{4}h_{5}}t2_{p_{6}p_{7}}^{h_{6}h_{7}}t2_{p_{8}p_{9}}^{h_{8}h_{9}}\n + -8.138020833333333e-05 * t2_{p_{0}p_{1}}^{h_{0}h_{1}}t2_{p_{2}p_{3}}^{h_{2}h_{3}}t2_{p_{4}p_{5}}^{h_{4}h_{5}}v_{p_{6}p_{7}}^{h_{6}h_{7}}t2_{p_{8}p_{9}}^{h_{8}h_{9}}\n + -8.138020833333333e-05 * t2_{p_{0}p_{1}}^{h_{0}h_{1}}t2_{p_{2}p_{3}}^{h_{2}h_{3}}t2_{p_{4}p_{5}}^{h_{4}h_{5}}v_{p_{6}p_{7}}^{h_{6}h_{7}}t2_{p_{8}p_{9}}^{h_{8}h_{9}}\n + 8.138020833333333e-05 * t2_{p_{0}p_{1}}^{h_{0}h_{1}}t2_{p_{2}p_{3}}^{h_{2}h_{3}}t2_{p_{4}p_{5}}^{h_{4}h_{5}}t2_{p_{6}p_{7}}^{h_{6}h_{7}}v_{p_{8}p_{9}}^{h_{8}h_{9}}\n + 0.5 * v_{h_{0}h_{1}}^{p_{0}p_{1}}\n + 0.125 * v_{h_{0}h_{1}}^{p_{0}p_{1}}t2_{p_{2}p_{3}}^{h_{2}h_{3}}\n + -0.125 * t2_{p_{0}p_{1}}^{h_{0}h_{1}}v_{h_{2}h_{3}}^{p_{2}p_{3}}\n + 0.015625 * v_{h_{0}h_{1}}^{p_{0}p_{1}}t2_{p_{2}p_{3}}^{h_{2}h_{3}}t2_{p_{4}p_{5}}^{h_{4}h_{5}}\n + -0.015625 * t2_{p_{0}p_{1}}^{h_{0}h_{1}}v_{h_{2}h_{3}}^{p_{2}p_{3}}t2_{p_{4}p_{5}}^{h_{4}h_{5}}\n + -0.015625 * t2_{p_{0}p_{1}}^{h_{0}h_{1}}v_{h_{2}h_{3}}^{p_{2}p_{3}}t2_{p_{4}p_{5}}^{h_{4}h_{5}}\n + 0.015625 * t2_{p_{0}p_{1}}^{h_{0}h_{1}}t2_{p_{2}p_{3}}^{h_{2}h_{3}}v_{h_{4}h_{5}}^{p_{4}p_{5}}\n + 0.0013020833333333333 * v_{h_{0}h_{1}}^{p_{0}p_{1}}t2_{p_{2}p_{3}}^{h_{2}h_{3}}t2_{p_{4}p_{5}}^{h_{4}h_{5}}t2_{p_{6}p_{7}}^{h_{6}h_{7}}\n + -0.0013020833333333333 * t2_{p_{0}p_{1}}^{h_{0}h_{1}}v_{h_{2}h_{3}}^{p_{2}p_{3}}t2_{p_{4}p_{5}}^{h_{4}h_{5}}t2_{p_{6}p_{7}}^{h_{6}h_{7}}\n + -0.0013020833333333333 * t2_{p_{0}p_{1}}^{h_{0}h_{1}}v_{h_{2}h_{3}}^{p_{2}p_{3}}t2_{p_{4}p_{5}}^{h_{4}h_{5}}t2_{p_{6}p_{7}}^{h_{6}h_{7}}\n + 0.0013020833333333333 * t2_{p_{0}p_{1}}^{h_{0}h_{1}}t2_{p_{2}p_{3}}^{h_{2}h_{3}}v_{h_{4}h_{5}}^{p_{4}p_{5}}t2_{p_{6}p_{7}}^{h_{6}h_{7}}\n + -0.0013020833333333333 * t2_{p_{0}p_{1}}^{h_{0}h_{1}}v_{h_{2}h_{3}}^{p_{2}p_{3}}t2_{p_{4}p_{5}}^{h_{4}h_{5}}t2_{p_{6}p_{7}}^{h_{6}h_{7}}\n + 0.0013020833333333333 * t2_{p_{0}p_{1}}^{h_{0}h_{1}}t2_{p_{2}p_{3}}^{h_{2}h_{3}}v_{h_{4}h_{5}}^{p_{4}p_{5}}t2_{p_{6}p_{7}}^{h_{6}h_{7}}\n + 0.0013020833333333333 * t2_{p_{0}p_{1}}^{h_{0}h_{1}}t2_{p_{2}p_{3}}^{h_{2}h_{3}}v_{h_{4}h_{5}}^{p_{4}p_{5}}t2_{p_{6}p_{7}}^{h_{6}h_{7}}\n + -0.0013020833333333333 * t2_{p_{0}p_{1}}^{h_{0}h_{1}}t2_{p_{2}p_{3}}^{h_{2}h_{3}}t2_{p_{4}p_{5}}^{h_{4}h_{5}}v_{h_{6}h_{7}}^{p_{6}p_{7}}\n + 8.138020833333333e-05 * v_{h_{0}h_{1}}^{p_{0}p_{1}}t2_{p_{2}p_{3}}^{h_{2}h_{3}}t2_{p_{4}p_{5}}^{h_{4}h_{5}}t2_{p_{6}p_{7}}^{h_{6}h_{7}}t2_{p_{8}p_{9}}^{h_{8}h_{9}}\n + -8.138020833333333e-05 * t2_{p_{0}p_{1}}^{h_{0}h_{1}}v_{h_{2}h_{3}}^{p_{2}p_{3}}t2_{p_{4}p_{5}}^{h_{4}h_{5}}t2_{p_{6}p_{7}}^{h_{6}h_{7}}t2_{p_{8}p_{9}}^{h_{8}h_{9}}\n + -8.138020833333333e-05 * t2_{p_{0}p_{1}}^{h_{0}h_{1}}v_{h_{2}h_{3}}^{p_{2}p_{3}}t2_{p_{4}p_{5}}^{h_{4}h_{5}}t2_{p_{6}p_{7}}^{h_{6}h_{7}}t2_{p_{8}p_{9}}^{h_{8}h_{9}}\n + 8.138020833333333e-05 * t2_{p_{0}p_{1}}^{h_{0}h_{1}}t2_{p_{2}p_{3}}^{h_{2}h_{3}}v_{h_{4}h_{5}}^{p_{4}p_{5}}t2_{p_{6}p_{7}}^{h_{6}h_{7}}t2_{p_{8}p_{9}}^{h_{8}h_{9}}\n + -8.138020833333333e-05 * t2_{p_{0}p_{1}}^{h_{0}h_{1}}v_{h_{2}h_{3}}^{p_{2}p_{3}}t2_{p_{4}p_{5}}^{h_{4}h_{5}}t2_{p_{6}p_{7}}^{h_{6}h_{7}}t2_{p_{8}p_{9}}^{h_{8}h_{9}}\n + 8.138020833333333e-05 * t2_{p_{0}p_{1}}^{h_{0}h_{1}}t2_{p_{2}p_{3}}^{h_{2}h_{3}}v_{h_{4}h_{5}}^{p_{4}p_{5}}t2_{p_{6}p_{7}}^{h_{6}h_{7}}t2_{p_{8}p_{9}}^{h_{8}h_{9}}\n + 8.138020833333333e-05 * t2_{p_{0}p_{1}}^{h_{0}h_{1}}t2_{p_{2}p_{3}}^{h_{2}h_{3}}v_{h_{4}h_{5}}^{p_{4}p_{5}}t2_{p_{6}p_{7}}^{h_{6}h_{7}}t2_{p_{8}p_{9}}^{h_{8}h_{9}}\n + -8.138020833333333e-05 * t2_{p_{0}p_{1}}^{h_{0}h_{1}}t2_{p_{2}p_{3}}^{h_{2}h_{3}}t2_{p_{4}p_{5}}^{h_{4}h_{5}}v_{h_{6}h_{7}}^{p_{6}p_{7}}t2_{p_{8}p_{9}}^{h_{8}h_{9}}\n + -8.138020833333333e-05 * t2_{p_{0}p_{1}}^{h_{0}h_{1}}v_{h_{2}h_{3}}^{p_{2}p_{3}}t2_{p_{4}p_{5}}^{h_{4}h_{5}}t2_{p_{6}p_{7}}^{h_{6}h_{7}}t2_{p_{8}p_{9}}^{h_{8}h_{9}}\n + 8.138020833333333e-05 * t2_{p_{0}p_{1}}^{h_{0}h_{1}}t2_{p_{2}p_{3}}^{h_{2}h_{3}}v_{h_{4}h_{5}}^{p_{4}p_{5}}t2_{p_{6}p_{7}}^{h_{6}h_{7}}t2_{p_{8}p_{9}}^{h_{8}h_{9}}\n + 8.138020833333333e-05 * t2_{p_{0}p_{1}}^{h_{0}h_{1}}t2_{p_{2}p_{3}}^{h_{2}h_{3}}v_{h_{4}h_{5}}^{p_{4}p_{5}}t2_{p_{6}p_{7}}^{h_{6}h_{7}}t2_{p_{8}p_{9}}^{h_{8}h_{9}}\n + -8.138020833333333e-05 * t2_{p_{0}p_{1}}^{h_{0}h_{1}}t2_{p_{2}p_{3}}^{h_{2}h_{3}}t2_{p_{4}p_{5}}^{h_{4}h_{5}}v_{h_{6}h_{7}}^{p_{6}p_{7}}t2_{p_{8}p_{9}}^{h_{8}h_{9}}\n + 8.138020833333333e-05 * t2_{p_{0}p_{1}}^{h_{0}h_{1}}t2_{p_{2}p_{3}}^{h_{2}h_{3}}v_{h_{4}h_{5}}^{p_{4}p_{5}}t2_{p_{6}p_{7}}^{h_{6}h_{7}}t2_{p_{8}p_{9}}^{h_{8}h_{9}}\n + -8.138020833333333e-05 * t2_{p_{0}p_{1}}^{h_{0}h_{1}}t2_{p_{2}p_{3}}^{h_{2}h_{3}}t2_{p_{4}p_{5}}^{h_{4}h_{5}}v_{h_{6}h_{7}}^{p_{6}p_{7}}t2_{p_{8}p_{9}}^{h_{8}h_{9}}\n + -8.138020833333333e-05 * t2_{p_{0}p_{1}}^{h_{0}h_{1}}t2_{p_{2}p_{3}}^{h_{2}h_{3}}t2_{p_{4}p_{5}}^{h_{4}h_{5}}v_{h_{6}h_{7}}^{p_{6}p_{7}}t2_{p_{8}p_{9}}^{h_{8}h_{9}}\n + 8.138020833333333e-05 * t2_{p_{0}p_{1}}^{h_{0}h_{1}}t2_{p_{2}p_{3}}^{h_{2}h_{3}}t2_{p_{4}p_{5}}^{h_{4}h_{5}}t2_{p_{6}p_{7}}^{h_{6}h_{7}}v_{h_{8}h_{9}}^{p_{8}p_{9}}\n"
     ]
    }
   ],
   "source": [
    "print(transformH)"
   ]
  },
  {
   "cell_type": "code",
   "execution_count": 94,
   "metadata": {},
   "outputs": [
    {
     "output_type": "stream",
     "name": "stdout",
     "text": [
      "8.138020833333333e-05 * t2_{p_{0}p_{1}}^{h_{0}h_{1}}t2_{p_{2}p_{3}}^{h_{2}h_{3}}t2_{p_{4}p_{5}}^{h_{4}h_{5}}t2_{p_{6}p_{7}}^{h_{6}h_{7}}v_{h_{8}h_{9}}^{p_{8}p_{9}}\n"
     ]
    }
   ],
   "source": [
    "print(transformH.summandList[402])"
   ]
  },
  {
   "cell_type": "code",
   "execution_count": 95,
   "metadata": {},
   "outputs": [
    {
     "output_type": "stream",
     "name": "stdout",
     "text": [
      "1.0 * t2_{p_{0}p_{1}}^{h_{0}h_{1}}t2_{p_{2}p_{3}}^{h_{2}h_{3}}\n"
     ]
    }
   ],
   "source": [
    "print(t2 * t2)"
   ]
  },
  {
   "cell_type": "code",
   "execution_count": null,
   "metadata": {},
   "outputs": [],
   "source": []
  },
  {
   "cell_type": "code",
   "execution_count": 208,
   "metadata": {},
   "outputs": [
    {
     "output_type": "stream",
     "name": "stdout",
     "text": [
      "0.004615277997800149\n4.0 * v_{h_{0}h_{1}}^{p_{0}p_{1}}t2_{p_{0}p_{1}}^{h_{0}h_{1}}\n + -2.0 * v_{h_{0}h_{1}}^{p_{0}p_{1}}t2_{p_{1}p_{0}}^{h_{0}h_{1}}\n + -2.0 * v_{h_{0}h_{1}}^{p_{0}p_{1}}t2_{p_{0}p_{1}}^{h_{1}h_{0}}\n + 4.0 * v_{h_{0}h_{1}}^{p_{0}p_{1}}t2_{p_{1}p_{0}}^{h_{1}h_{0}}\n"
     ]
    }
   ],
   "source": [
    "time0 = time.time()\n",
    "first = evaluateWick(vDiagrams[8] * t2)\n",
    "time1 = time.time()\n",
    "print(time1-time0)\n",
    "print(first)"
   ]
  },
  {
   "cell_type": "code",
   "execution_count": 209,
   "metadata": {},
   "outputs": [
    {
     "output_type": "stream",
     "name": "stdout",
     "text": [
      "0.003674377003335394\n\n"
     ]
    }
   ],
   "source": [
    "time0 = time.time()\n",
    "second = evaluateWick(vDiagrams[8] * t2 * t2)\n",
    "time1 = time.time()\n",
    "print(time1-time0)\n",
    "print(second)"
   ]
  },
  {
   "cell_type": "code",
   "execution_count": 210,
   "metadata": {},
   "outputs": [
    {
     "output_type": "execute_result",
     "data": {
      "text/plain": [
       "__main__.Tensor"
      ]
     },
     "metadata": {},
     "execution_count": 210
    }
   ],
   "source": [
    "type(vDiagrams[8])"
   ]
  },
  {
   "cell_type": "code",
   "execution_count": 211,
   "metadata": {},
   "outputs": [
    {
     "output_type": "stream",
     "name": "stdout",
     "text": [
      "0.016796209994936362\n0\n"
     ]
    }
   ],
   "source": [
    "product = vDiagrams[8] * t2 * t2 * t2 * t2\n",
    "op = product.getOperator()\n",
    "time0 = time.time()\n",
    "firstContractions = recursiveVacuumExpectationValue(op.summandList[0])\n",
    "time1 = time.time()\n",
    "print(time1-time0)\n",
    "print(firstContractions)"
   ]
  },
  {
   "cell_type": "code",
   "execution_count": 212,
   "metadata": {},
   "outputs": [
    {
     "output_type": "stream",
     "name": "stdout",
     "text": [
      "1.072306223999476\n\n"
     ]
    }
   ],
   "source": [
    "time0 = time.time()\n",
    "CCDEnergyLastTerm = evaluateWick(transformH.summandList[402])\n",
    "time1 = time.time()\n",
    "print(time1-time0)\n",
    "print(CCDEnergyLastTerm)"
   ]
  },
  {
   "cell_type": "code",
   "execution_count": 242,
   "metadata": {},
   "outputs": [
    {
     "output_type": "stream",
     "name": "stdout",
     "text": [
      "161.05956860099832\n2.0 * f_{h_{1}}^{h_{1}}\n + -1.0 * v_{h_{2}h_{3}}^{h_{2}h_{3}}\n + 2.0 * v_{h_{3}h_{2}}^{h_{2}h_{3}}\n + 0.5 * v_{h_{0}h_{1}}^{p_{0}p_{1}}t2_{p_{0}p_{1}}^{h_{0}h_{1}}\n + -0.25 * v_{h_{0}h_{1}}^{p_{0}p_{1}}t2_{p_{1}p_{0}}^{h_{0}h_{1}}\n + -0.25 * v_{h_{0}h_{1}}^{p_{0}p_{1}}t2_{p_{0}p_{1}}^{h_{1}h_{0}}\n + 0.5 * v_{h_{0}h_{1}}^{p_{0}p_{1}}t2_{p_{1}p_{0}}^{h_{1}h_{0}}\n"
     ]
    }
   ],
   "source": [
    "time0 = time.time()\n",
    "CCDEnergy = evaluateWick(transformH)\n",
    "time1 = time.time()\n",
    "print(time1-time0)\n",
    "print(CCDEnergy)"
   ]
  },
  {
   "cell_type": "code",
   "execution_count": 102,
   "metadata": {},
   "outputs": [
    {
     "output_type": "stream",
     "name": "stdout",
     "text": [
      "4.0 * \\delta^{h_{0}}_{h_{2}}\\delta^{h_{1}}_{h_{3}}\\delta^{p_{2}}_{p_{0}}\\delta^{p_{3}}_{p_{1}}\n + -2.0 * \\delta^{h_{0}}_{h_{2}}\\delta^{h_{1}}_{h_{3}}\\delta^{p_{3}}_{p_{0}}\\delta^{p_{2}}_{p_{1}}\n + -2.0 * \\delta^{h_{0}}_{h_{3}}\\delta^{h_{1}}_{h_{2}}\\delta^{p_{2}}_{p_{0}}\\delta^{p_{3}}_{p_{1}}\n + 4.0 * \\delta^{h_{0}}_{h_{3}}\\delta^{h_{1}}_{h_{2}}\\delta^{p_{3}}_{p_{0}}\\delta^{p_{2}}_{p_{1}}\n"
     ]
    }
   ],
   "source": [
    "print(recursiveVacuumExpectationValue((vDiagrams[8] * t2).getOperator()))"
   ]
  },
  {
   "cell_type": "code",
   "execution_count": 103,
   "metadata": {},
   "outputs": [
    {
     "output_type": "stream",
     "name": "stdout",
     "text": [
      "4.0 * v_{h_{2}h_{3}}^{p_{0}p_{1}}t2_{p_{0}p_{1}}^{h_{2}h_{3}}\n + -2.0 * v_{h_{2}h_{3}}^{p_{0}p_{1}}t2_{p_{1}p_{0}}^{h_{2}h_{3}}\n + -2.0 * v_{h_{3}h_{2}}^{p_{0}p_{1}}t2_{p_{0}p_{1}}^{h_{2}h_{3}}\n + 4.0 * v_{h_{3}h_{2}}^{p_{0}p_{1}}t2_{p_{1}p_{0}}^{h_{2}h_{3}}\n"
     ]
    }
   ],
   "source": [
    "print(evaluateWick(vDiagrams[8] * t2))"
   ]
  },
  {
   "cell_type": "code",
   "execution_count": 214,
   "metadata": {},
   "outputs": [],
   "source": [
    "E = evaluateWick(vDiagrams[8] * t2)"
   ]
  },
  {
   "cell_type": "code",
   "execution_count": 215,
   "metadata": {},
   "outputs": [
    {
     "output_type": "stream",
     "name": "stdout",
     "text": [
      "[<__main__.Tensor object at 0x11ff551c0>, <__main__.Tensor object at 0x12181efa0>]\n"
     ]
    }
   ],
   "source": [
    "print(E.summandList[3].tensorList)"
   ]
  },
  {
   "cell_type": "code",
   "execution_count": 216,
   "metadata": {},
   "outputs": [
    {
     "output_type": "execute_result",
     "data": {
      "text/plain": [
       "<__main__.Tensor at 0x12181efa0>"
      ]
     },
     "metadata": {},
     "execution_count": 216
    }
   ],
   "source": [
    "t2"
   ]
  },
  {
   "cell_type": "code",
   "execution_count": 106,
   "metadata": {},
   "outputs": [],
   "source": [
    "projectionSingles = Tensor('\\Phi', ['h'], ['p'])\n",
    "projectionDoubles = Tensor('\\Phi', ['h', 'h'], ['p', 'p'])"
   ]
  },
  {
   "cell_type": "code",
   "execution_count": 107,
   "metadata": {},
   "outputs": [],
   "source": [
    "def projectionManifold(excitationLevel):\n",
    "    return Tensor('\\Phi', ['h'] * excitationLevel, ['p'] * excitationLevel)"
   ]
  },
  {
   "cell_type": "code",
   "execution_count": 108,
   "metadata": {},
   "outputs": [
    {
     "output_type": "stream",
     "name": "stdout",
     "text": [
      "\\Phi_{hh}^{pp}\n"
     ]
    }
   ],
   "source": [
    "print(projectionManifold(2))"
   ]
  },
  {
   "cell_type": "code",
   "execution_count": 109,
   "metadata": {
    "tags": []
   },
   "outputs": [
    {
     "output_type": "stream",
     "name": "stdout",
     "text": [
      "2308.2655238360003\n-0.5 * \\Phi_{h_{2}h_{3}}^{p_{0}p_{1}}f_{p_{0}}^{p_{3}}t2_{p_{1}p_{3}}^{h_{2}h_{3}}\n + 1.0 * \\Phi_{h_{2}h_{3}}^{p_{0}p_{1}}f_{p_{0}}^{p_{3}}t2_{p_{3}p_{1}}^{h_{2}h_{3}}\n + 1.0 * \\Phi_{h_{2}h_{3}}^{p_{0}p_{1}}f_{p_{1}}^{p_{3}}t2_{p_{0}p_{3}}^{h_{2}h_{3}}\n + -0.5 * \\Phi_{h_{2}h_{3}}^{p_{0}p_{1}}f_{p_{1}}^{p_{3}}t2_{p_{3}p_{0}}^{h_{2}h_{3}}\n + 1.0 * \\Phi_{h_{3}h_{2}}^{p_{0}p_{1}}f_{p_{0}}^{p_{3}}t2_{p_{1}p_{3}}^{h_{2}h_{3}}\n + -0.5 * \\Phi_{h_{3}h_{2}}^{p_{0}p_{1}}f_{p_{0}}^{p_{3}}t2_{p_{3}p_{1}}^{h_{2}h_{3}}\n + -0.5 * \\Phi_{h_{3}h_{2}}^{p_{0}p_{1}}f_{p_{1}}^{p_{3}}t2_{p_{0}p_{3}}^{h_{2}h_{3}}\n + 1.0 * \\Phi_{h_{3}h_{2}}^{p_{0}p_{1}}f_{p_{1}}^{p_{3}}t2_{p_{3}p_{0}}^{h_{2}h_{3}}\n + 0.5 * \\Phi_{h_{3}h_{4}}^{p_{0}p_{1}}f_{h_{5}}^{h_{3}}t2_{p_{0}p_{1}}^{h_{4}h_{5}}\n + -1.0 * \\Phi_{h_{3}h_{4}}^{p_{0}p_{1}}f_{h_{5}}^{h_{3}}t2_{p_{1}p_{0}}^{h_{4}h_{5}}\n + -1.0 * \\Phi_{h_{3}h_{5}}^{p_{0}p_{1}}f_{h_{4}}^{h_{3}}t2_{p_{0}p_{1}}^{h_{4}h_{5}}\n + 0.5 * \\Phi_{h_{3}h_{5}}^{p_{0}p_{1}}f_{h_{4}}^{h_{3}}t2_{p_{1}p_{0}}^{h_{4}h_{5}}\n + -1.0 * \\Phi_{h_{4}h_{3}}^{p_{0}p_{1}}f_{h_{5}}^{h_{3}}t2_{p_{0}p_{1}}^{h_{4}h_{5}}\n + 0.5 * \\Phi_{h_{4}h_{3}}^{p_{0}p_{1}}f_{h_{5}}^{h_{3}}t2_{p_{1}p_{0}}^{h_{4}h_{5}}\n + 2.0 * \\Phi_{h_{4}h_{5}}^{p_{0}p_{1}}f_{h_{3}}^{h_{3}}t2_{p_{0}p_{1}}^{h_{4}h_{5}}\n + -1.0 * \\Phi_{h_{4}h_{5}}^{p_{0}p_{1}}f_{h_{3}}^{h_{3}}t2_{p_{1}p_{0}}^{h_{4}h_{5}}\n + 0.5 * \\Phi_{h_{5}h_{3}}^{p_{0}p_{1}}f_{h_{4}}^{h_{3}}t2_{p_{0}p_{1}}^{h_{4}h_{5}}\n + -1.0 * \\Phi_{h_{5}h_{3}}^{p_{0}p_{1}}f_{h_{4}}^{h_{3}}t2_{p_{1}p_{0}}^{h_{4}h_{5}}\n + -1.0 * \\Phi_{h_{5}h_{4}}^{p_{0}p_{1}}f_{h_{3}}^{h_{3}}t2_{p_{0}p_{1}}^{h_{4}h_{5}}\n + 2.0 * \\Phi_{h_{5}h_{4}}^{p_{0}p_{1}}f_{h_{3}}^{h_{3}}t2_{p_{1}p_{0}}^{h_{4}h_{5}}\n + -2.0 * \\Phi_{h_{2}h_{3}}^{p_{0}p_{1}}t2_{p_{0}p_{1}}^{h_{2}h_{3}}f_{h_{5}}^{h_{5}}\n + 1.0 * \\Phi_{h_{2}h_{3}}^{p_{0}p_{1}}t2_{p_{1}p_{0}}^{h_{2}h_{3}}f_{h_{5}}^{h_{5}}\n + 1.0 * \\Phi_{h_{3}h_{2}}^{p_{0}p_{1}}t2_{p_{0}p_{1}}^{h_{2}h_{3}}f_{h_{5}}^{h_{5}}\n + -2.0 * \\Phi_{h_{3}h_{2}}^{p_{0}p_{1}}t2_{p_{1}p_{0}}^{h_{2}h_{3}}f_{h_{5}}^{h_{5}}\n + -0.25 * \\Phi_{h_{2}h_{3}}^{p_{0}p_{1}}v_{p_{0}p_{1}}^{p_{4}p_{5}}t2_{p_{4}p_{5}}^{h_{2}h_{3}}\n + 0.5 * \\Phi_{h_{2}h_{3}}^{p_{0}p_{1}}v_{p_{0}p_{1}}^{p_{4}p_{5}}t2_{p_{5}p_{4}}^{h_{2}h_{3}}\n + 0.5 * \\Phi_{h_{2}h_{3}}^{p_{0}p_{1}}v_{p_{1}p_{0}}^{p_{4}p_{5}}t2_{p_{4}p_{5}}^{h_{2}h_{3}}\n + -0.25 * \\Phi_{h_{2}h_{3}}^{p_{0}p_{1}}v_{p_{1}p_{0}}^{p_{4}p_{5}}t2_{p_{5}p_{4}}^{h_{2}h_{3}}\n + 0.5 * \\Phi_{h_{3}h_{2}}^{p_{0}p_{1}}v_{p_{0}p_{1}}^{p_{4}p_{5}}t2_{p_{4}p_{5}}^{h_{2}h_{3}}\n + -0.25 * \\Phi_{h_{3}h_{2}}^{p_{0}p_{1}}v_{p_{0}p_{1}}^{p_{4}p_{5}}t2_{p_{5}p_{4}}^{h_{2}h_{3}}\n + -0.25 * \\Phi_{h_{3}h_{2}}^{p_{0}p_{1}}v_{p_{1}p_{0}}^{p_{4}p_{5}}t2_{p_{4}p_{5}}^{h_{2}h_{3}}\n + 0.5 * \\Phi_{h_{3}h_{2}}^{p_{0}p_{1}}v_{p_{1}p_{0}}^{p_{4}p_{5}}t2_{p_{5}p_{4}}^{h_{2}h_{3}}\n + -0.25 * \\Phi_{h_{4}h_{5}}^{p_{0}p_{1}}v_{h_{6}h_{7}}^{h_{4}h_{5}}t2_{p_{0}p_{1}}^{h_{6}h_{7}}\n + 0.5 * \\Phi_{h_{4}h_{5}}^{p_{0}p_{1}}v_{h_{7}h_{6}}^{h_{4}h_{5}}t2_{p_{0}p_{1}}^{h_{6}h_{7}}\n + 0.5 * \\Phi_{h_{4}h_{5}}^{p_{0}p_{1}}v_{h_{6}h_{7}}^{h_{4}h_{5}}t2_{p_{1}p_{0}}^{h_{6}h_{7}}\n + -0.25 * \\Phi_{h_{4}h_{5}}^{p_{0}p_{1}}v_{h_{7}h_{6}}^{h_{4}h_{5}}t2_{p_{1}p_{0}}^{h_{6}h_{7}}\n + 0.5 * \\Phi_{h_{4}h_{6}}^{p_{0}p_{1}}v_{h_{5}h_{7}}^{h_{4}h_{5}}t2_{p_{0}p_{1}}^{h_{6}h_{7}}\n + -0.25 * \\Phi_{h_{4}h_{6}}^{p_{0}p_{1}}v_{h_{7}h_{5}}^{h_{4}h_{5}}t2_{p_{0}p_{1}}^{h_{6}h_{7}}\n + -1.0 * \\Phi_{h_{4}h_{6}}^{p_{0}p_{1}}v_{h_{5}h_{7}}^{h_{4}h_{5}}t2_{p_{1}p_{0}}^{h_{6}h_{7}}\n + 0.5 * \\Phi_{h_{4}h_{6}}^{p_{0}p_{1}}v_{h_{7}h_{5}}^{h_{4}h_{5}}t2_{p_{1}p_{0}}^{h_{6}h_{7}}\n + -1.0 * \\Phi_{h_{4}h_{7}}^{p_{0}p_{1}}v_{h_{5}h_{6}}^{h_{4}h_{5}}t2_{p_{0}p_{1}}^{h_{6}h_{7}}\n + 0.5 * \\Phi_{h_{4}h_{7}}^{p_{0}p_{1}}v_{h_{6}h_{5}}^{h_{4}h_{5}}t2_{p_{0}p_{1}}^{h_{6}h_{7}}\n + 0.5 * \\Phi_{h_{4}h_{7}}^{p_{0}p_{1}}v_{h_{5}h_{6}}^{h_{4}h_{5}}t2_{p_{1}p_{0}}^{h_{6}h_{7}}\n + -0.25 * \\Phi_{h_{4}h_{7}}^{p_{0}p_{1}}v_{h_{6}h_{5}}^{h_{4}h_{5}}t2_{p_{1}p_{0}}^{h_{6}h_{7}}\n + 0.5 * \\Phi_{h_{5}h_{4}}^{p_{0}p_{1}}v_{h_{6}h_{7}}^{h_{4}h_{5}}t2_{p_{0}p_{1}}^{h_{6}h_{7}}\n + -0.25 * \\Phi_{h_{5}h_{4}}^{p_{0}p_{1}}v_{h_{7}h_{6}}^{h_{4}h_{5}}t2_{p_{0}p_{1}}^{h_{6}h_{7}}\n + -0.25 * \\Phi_{h_{5}h_{4}}^{p_{0}p_{1}}v_{h_{6}h_{7}}^{h_{4}h_{5}}t2_{p_{1}p_{0}}^{h_{6}h_{7}}\n + 0.5 * \\Phi_{h_{5}h_{4}}^{p_{0}p_{1}}v_{h_{7}h_{6}}^{h_{4}h_{5}}t2_{p_{1}p_{0}}^{h_{6}h_{7}}\n + -0.25 * \\Phi_{h_{5}h_{6}}^{p_{0}p_{1}}v_{h_{4}h_{7}}^{h_{4}h_{5}}t2_{p_{0}p_{1}}^{h_{6}h_{7}}\n + 0.5 * \\Phi_{h_{5}h_{6}}^{p_{0}p_{1}}v_{h_{7}h_{4}}^{h_{4}h_{5}}t2_{p_{0}p_{1}}^{h_{6}h_{7}}\n + 0.5 * \\Phi_{h_{5}h_{6}}^{p_{0}p_{1}}v_{h_{4}h_{7}}^{h_{4}h_{5}}t2_{p_{1}p_{0}}^{h_{6}h_{7}}\n + -1.0 * \\Phi_{h_{5}h_{6}}^{p_{0}p_{1}}v_{h_{7}h_{4}}^{h_{4}h_{5}}t2_{p_{1}p_{0}}^{h_{6}h_{7}}\n + 0.5 * \\Phi_{h_{5}h_{7}}^{p_{0}p_{1}}v_{h_{4}h_{6}}^{h_{4}h_{5}}t2_{p_{0}p_{1}}^{h_{6}h_{7}}\n + -1.0 * \\Phi_{h_{5}h_{7}}^{p_{0}p_{1}}v_{h_{6}h_{4}}^{h_{4}h_{5}}t2_{p_{0}p_{1}}^{h_{6}h_{7}}\n + -0.25 * \\Phi_{h_{5}h_{7}}^{p_{0}p_{1}}v_{h_{4}h_{6}}^{h_{4}h_{5}}t2_{p_{1}p_{0}}^{h_{6}h_{7}}\n + 0.5 * \\Phi_{h_{5}h_{7}}^{p_{0}p_{1}}v_{h_{6}h_{4}}^{h_{4}h_{5}}t2_{p_{1}p_{0}}^{h_{6}h_{7}}\n + -1.0 * \\Phi_{h_{6}h_{4}}^{p_{0}p_{1}}v_{h_{5}h_{7}}^{h_{4}h_{5}}t2_{p_{0}p_{1}}^{h_{6}h_{7}}\n + 0.5 * \\Phi_{h_{6}h_{4}}^{p_{0}p_{1}}v_{h_{7}h_{5}}^{h_{4}h_{5}}t2_{p_{0}p_{1}}^{h_{6}h_{7}}\n + 0.5 * \\Phi_{h_{6}h_{4}}^{p_{0}p_{1}}v_{h_{5}h_{7}}^{h_{4}h_{5}}t2_{p_{1}p_{0}}^{h_{6}h_{7}}\n + -0.25 * \\Phi_{h_{6}h_{4}}^{p_{0}p_{1}}v_{h_{7}h_{5}}^{h_{4}h_{5}}t2_{p_{1}p_{0}}^{h_{6}h_{7}}\n + 0.5 * \\Phi_{h_{6}h_{5}}^{p_{0}p_{1}}v_{h_{4}h_{7}}^{h_{4}h_{5}}t2_{p_{0}p_{1}}^{h_{6}h_{7}}\n + -1.0 * \\Phi_{h_{6}h_{5}}^{p_{0}p_{1}}v_{h_{7}h_{4}}^{h_{4}h_{5}}t2_{p_{0}p_{1}}^{h_{6}h_{7}}\n + -0.25 * \\Phi_{h_{6}h_{5}}^{p_{0}p_{1}}v_{h_{4}h_{7}}^{h_{4}h_{5}}t2_{p_{1}p_{0}}^{h_{6}h_{7}}\n + 0.5 * \\Phi_{h_{6}h_{5}}^{p_{0}p_{1}}v_{h_{7}h_{4}}^{h_{4}h_{5}}t2_{p_{1}p_{0}}^{h_{6}h_{7}}\n + -1.0 * \\Phi_{h_{6}h_{7}}^{p_{0}p_{1}}v_{h_{4}h_{5}}^{h_{4}h_{5}}t2_{p_{0}p_{1}}^{h_{6}h_{7}}\n + 2.0 * \\Phi_{h_{6}h_{7}}^{p_{0}p_{1}}v_{h_{5}h_{4}}^{h_{4}h_{5}}t2_{p_{0}p_{1}}^{h_{6}h_{7}}\n + 0.5 * \\Phi_{h_{6}h_{7}}^{p_{0}p_{1}}v_{h_{4}h_{5}}^{h_{4}h_{5}}t2_{p_{1}p_{0}}^{h_{6}h_{7}}\n + -1.0 * \\Phi_{h_{6}h_{7}}^{p_{0}p_{1}}v_{h_{5}h_{4}}^{h_{4}h_{5}}t2_{p_{1}p_{0}}^{h_{6}h_{7}}\n + 0.5 * \\Phi_{h_{7}h_{4}}^{p_{0}p_{1}}v_{h_{5}h_{6}}^{h_{4}h_{5}}t2_{p_{0}p_{1}}^{h_{6}h_{7}}\n + -0.25 * \\Phi_{h_{7}h_{4}}^{p_{0}p_{1}}v_{h_{6}h_{5}}^{h_{4}h_{5}}t2_{p_{0}p_{1}}^{h_{6}h_{7}}\n + -1.0 * \\Phi_{h_{7}h_{4}}^{p_{0}p_{1}}v_{h_{5}h_{6}}^{h_{4}h_{5}}t2_{p_{1}p_{0}}^{h_{6}h_{7}}\n + 0.5 * \\Phi_{h_{7}h_{4}}^{p_{0}p_{1}}v_{h_{6}h_{5}}^{h_{4}h_{5}}t2_{p_{1}p_{0}}^{h_{6}h_{7}}\n + -0.25 * \\Phi_{h_{7}h_{5}}^{p_{0}p_{1}}v_{h_{4}h_{6}}^{h_{4}h_{5}}t2_{p_{0}p_{1}}^{h_{6}h_{7}}\n + 0.5 * \\Phi_{h_{7}h_{5}}^{p_{0}p_{1}}v_{h_{6}h_{4}}^{h_{4}h_{5}}t2_{p_{0}p_{1}}^{h_{6}h_{7}}\n + 0.5 * \\Phi_{h_{7}h_{5}}^{p_{0}p_{1}}v_{h_{4}h_{6}}^{h_{4}h_{5}}t2_{p_{1}p_{0}}^{h_{6}h_{7}}\n + -1.0 * \\Phi_{h_{7}h_{5}}^{p_{0}p_{1}}v_{h_{6}h_{4}}^{h_{4}h_{5}}t2_{p_{1}p_{0}}^{h_{6}h_{7}}\n + 0.5 * \\Phi_{h_{7}h_{6}}^{p_{0}p_{1}}v_{h_{4}h_{5}}^{h_{4}h_{5}}t2_{p_{0}p_{1}}^{h_{6}h_{7}}\n + -1.0 * \\Phi_{h_{7}h_{6}}^{p_{0}p_{1}}v_{h_{5}h_{4}}^{h_{4}h_{5}}t2_{p_{0}p_{1}}^{h_{6}h_{7}}\n + -1.0 * \\Phi_{h_{7}h_{6}}^{p_{0}p_{1}}v_{h_{4}h_{5}}^{h_{4}h_{5}}t2_{p_{1}p_{0}}^{h_{6}h_{7}}\n + 2.0 * \\Phi_{h_{7}h_{6}}^{p_{0}p_{1}}v_{h_{5}h_{4}}^{h_{4}h_{5}}t2_{p_{1}p_{0}}^{h_{6}h_{7}}\n + 1.0 * \\Phi_{h_{2}h_{3}}^{p_{0}p_{1}}t2_{p_{0}p_{1}}^{h_{2}h_{3}}v_{h_{6}h_{7}}^{h_{6}h_{7}}\n + -2.0 * \\Phi_{h_{2}h_{3}}^{p_{0}p_{1}}t2_{p_{0}p_{1}}^{h_{2}h_{3}}v_{h_{7}h_{6}}^{h_{6}h_{7}}\n + -0.5 * \\Phi_{h_{2}h_{3}}^{p_{0}p_{1}}t2_{p_{1}p_{0}}^{h_{2}h_{3}}v_{h_{6}h_{7}}^{h_{6}h_{7}}\n + 1.0 * \\Phi_{h_{2}h_{3}}^{p_{0}p_{1}}t2_{p_{1}p_{0}}^{h_{2}h_{3}}v_{h_{7}h_{6}}^{h_{6}h_{7}}\n + -0.5 * \\Phi_{h_{3}h_{2}}^{p_{0}p_{1}}t2_{p_{0}p_{1}}^{h_{2}h_{3}}v_{h_{6}h_{7}}^{h_{6}h_{7}}\n + 1.0 * \\Phi_{h_{3}h_{2}}^{p_{0}p_{1}}t2_{p_{0}p_{1}}^{h_{2}h_{3}}v_{h_{7}h_{6}}^{h_{6}h_{7}}\n + 1.0 * \\Phi_{h_{3}h_{2}}^{p_{0}p_{1}}t2_{p_{1}p_{0}}^{h_{2}h_{3}}v_{h_{6}h_{7}}^{h_{6}h_{7}}\n + -2.0 * \\Phi_{h_{3}h_{2}}^{p_{0}p_{1}}t2_{p_{1}p_{0}}^{h_{2}h_{3}}v_{h_{7}h_{6}}^{h_{6}h_{7}}\n + -0.5 * \\Phi_{h_{3}h_{4}}^{p_{0}p_{1}}v_{h_{5}p_{0}}^{p_{3}h_{3}}t2_{p_{1}p_{3}}^{h_{4}h_{5}}\n + 0.25 * \\Phi_{h_{3}h_{4}}^{p_{0}p_{1}}v_{h_{5}p_{0}}^{p_{3}h_{3}}t2_{p_{3}p_{1}}^{h_{4}h_{5}}\n + 0.25 * \\Phi_{h_{3}h_{4}}^{p_{0}p_{1}}v_{h_{5}p_{1}}^{p_{3}h_{3}}t2_{p_{0}p_{3}}^{h_{4}h_{5}}\n + -0.5 * \\Phi_{h_{3}h_{4}}^{p_{0}p_{1}}v_{h_{5}p_{1}}^{p_{3}h_{3}}t2_{p_{3}p_{0}}^{h_{4}h_{5}}\n + 0.25 * \\Phi_{h_{3}h_{5}}^{p_{0}p_{1}}v_{h_{4}p_{0}}^{p_{3}h_{3}}t2_{p_{1}p_{3}}^{h_{4}h_{5}}\n + -0.5 * \\Phi_{h_{3}h_{5}}^{p_{0}p_{1}}v_{h_{4}p_{0}}^{p_{3}h_{3}}t2_{p_{3}p_{1}}^{h_{4}h_{5}}\n + -0.5 * \\Phi_{h_{3}h_{5}}^{p_{0}p_{1}}v_{h_{4}p_{1}}^{p_{3}h_{3}}t2_{p_{0}p_{3}}^{h_{4}h_{5}}\n + 0.25 * \\Phi_{h_{3}h_{5}}^{p_{0}p_{1}}v_{h_{4}p_{1}}^{p_{3}h_{3}}t2_{p_{3}p_{0}}^{h_{4}h_{5}}\n + 0.25 * \\Phi_{h_{4}h_{3}}^{p_{0}p_{1}}v_{h_{5}p_{0}}^{p_{3}h_{3}}t2_{p_{1}p_{3}}^{h_{4}h_{5}}\n + -0.5 * \\Phi_{h_{4}h_{3}}^{p_{0}p_{1}}v_{h_{5}p_{0}}^{p_{3}h_{3}}t2_{p_{3}p_{1}}^{h_{4}h_{5}}\n + -0.5 * \\Phi_{h_{4}h_{3}}^{p_{0}p_{1}}v_{h_{5}p_{1}}^{p_{3}h_{3}}t2_{p_{0}p_{3}}^{h_{4}h_{5}}\n + 0.25 * \\Phi_{h_{4}h_{3}}^{p_{0}p_{1}}v_{h_{5}p_{1}}^{p_{3}h_{3}}t2_{p_{3}p_{0}}^{h_{4}h_{5}}\n + -0.5 * \\Phi_{h_{4}h_{5}}^{p_{0}p_{1}}v_{h_{3}p_{0}}^{p_{3}h_{3}}t2_{p_{1}p_{3}}^{h_{4}h_{5}}\n + 1.0 * \\Phi_{h_{4}h_{5}}^{p_{0}p_{1}}v_{h_{3}p_{0}}^{p_{3}h_{3}}t2_{p_{3}p_{1}}^{h_{4}h_{5}}\n + 1.0 * \\Phi_{h_{4}h_{5}}^{p_{0}p_{1}}v_{h_{3}p_{1}}^{p_{3}h_{3}}t2_{p_{0}p_{3}}^{h_{4}h_{5}}\n + -0.5 * \\Phi_{h_{4}h_{5}}^{p_{0}p_{1}}v_{h_{3}p_{1}}^{p_{3}h_{3}}t2_{p_{3}p_{0}}^{h_{4}h_{5}}\n + -0.5 * \\Phi_{h_{5}h_{3}}^{p_{0}p_{1}}v_{h_{4}p_{0}}^{p_{3}h_{3}}t2_{p_{1}p_{3}}^{h_{4}h_{5}}\n + 0.25 * \\Phi_{h_{5}h_{3}}^{p_{0}p_{1}}v_{h_{4}p_{0}}^{p_{3}h_{3}}t2_{p_{3}p_{1}}^{h_{4}h_{5}}\n + 0.25 * \\Phi_{h_{5}h_{3}}^{p_{0}p_{1}}v_{h_{4}p_{1}}^{p_{3}h_{3}}t2_{p_{0}p_{3}}^{h_{4}h_{5}}\n + -0.5 * \\Phi_{h_{5}h_{3}}^{p_{0}p_{1}}v_{h_{4}p_{1}}^{p_{3}h_{3}}t2_{p_{3}p_{0}}^{h_{4}h_{5}}\n + 1.0 * \\Phi_{h_{5}h_{4}}^{p_{0}p_{1}}v_{h_{3}p_{0}}^{p_{3}h_{3}}t2_{p_{1}p_{3}}^{h_{4}h_{5}}\n + -0.5 * \\Phi_{h_{5}h_{4}}^{p_{0}p_{1}}v_{h_{3}p_{0}}^{p_{3}h_{3}}t2_{p_{3}p_{1}}^{h_{4}h_{5}}\n + -0.5 * \\Phi_{h_{5}h_{4}}^{p_{0}p_{1}}v_{h_{3}p_{1}}^{p_{3}h_{3}}t2_{p_{0}p_{3}}^{h_{4}h_{5}}\n + 1.0 * \\Phi_{h_{5}h_{4}}^{p_{0}p_{1}}v_{h_{3}p_{1}}^{p_{3}h_{3}}t2_{p_{3}p_{0}}^{h_{4}h_{5}}\n + 2.0 * \\Phi_{h_{2}h_{3}}^{p_{0}p_{1}}v_{p_{0}p_{1}}^{h_{2}h_{3}}\n + -1.0 * \\Phi_{h_{2}h_{3}}^{p_{0}p_{1}}v_{p_{1}p_{0}}^{h_{2}h_{3}}\n + -1.0 * \\Phi_{h_{3}h_{2}}^{p_{0}p_{1}}v_{p_{0}p_{1}}^{h_{2}h_{3}}\n + 2.0 * \\Phi_{h_{3}h_{2}}^{p_{0}p_{1}}v_{p_{1}p_{0}}^{h_{2}h_{3}}\n + 0.25 * \\Phi_{h_{4}h_{5}}^{p_{0}p_{1}}v_{h_{6}h_{7}}^{p_{2}p_{3}}t2_{p_{0}p_{1}}^{h_{4}h_{5}}t2_{p_{2}p_{3}}^{h_{6}h_{7}}\n + -0.125 * \\Phi_{h_{4}h_{5}}^{p_{0}p_{1}}v_{h_{6}h_{7}}^{p_{2}p_{3}}t2_{p_{0}p_{1}}^{h_{4}h_{5}}t2_{p_{3}p_{2}}^{h_{6}h_{7}}\n + -0.125 * \\Phi_{h_{4}h_{5}}^{p_{0}p_{1}}v_{h_{7}h_{6}}^{p_{2}p_{3}}t2_{p_{0}p_{1}}^{h_{4}h_{5}}t2_{p_{2}p_{3}}^{h_{6}h_{7}}\n + 0.25 * \\Phi_{h_{4}h_{5}}^{p_{0}p_{1}}v_{h_{7}h_{6}}^{p_{2}p_{3}}t2_{p_{0}p_{1}}^{h_{4}h_{5}}t2_{p_{3}p_{2}}^{h_{6}h_{7}}\n + -0.125 * \\Phi_{h_{4}h_{5}}^{p_{0}p_{1}}v_{h_{6}h_{7}}^{p_{2}p_{3}}t2_{p_{0}p_{2}}^{h_{4}h_{5}}t2_{p_{1}p_{3}}^{h_{6}h_{7}}\n + 0.0625 * \\Phi_{h_{4}h_{5}}^{p_{0}p_{1}}v_{h_{6}h_{7}}^{p_{2}p_{3}}t2_{p_{0}p_{3}}^{h_{4}h_{5}}t2_{p_{1}p_{2}}^{h_{6}h_{7}}\n + 0.0625 * \\Phi_{h_{4}h_{5}}^{p_{0}p_{1}}v_{h_{7}h_{6}}^{p_{2}p_{3}}t2_{p_{0}p_{2}}^{h_{4}h_{5}}t2_{p_{1}p_{3}}^{h_{6}h_{7}}\n + -0.125 * \\Phi_{h_{4}h_{5}}^{p_{0}p_{1}}v_{h_{7}h_{6}}^{p_{2}p_{3}}t2_{p_{0}p_{3}}^{h_{4}h_{5}}t2_{p_{1}p_{2}}^{h_{6}h_{7}}\n + 0.0625 * \\Phi_{h_{4}h_{5}}^{p_{0}p_{1}}v_{h_{6}h_{7}}^{p_{2}p_{3}}t2_{p_{0}p_{2}}^{h_{4}h_{5}}t2_{p_{3}p_{1}}^{h_{6}h_{7}}\n + -0.125 * \\Phi_{h_{4}h_{5}}^{p_{0}p_{1}}v_{h_{6}h_{7}}^{p_{2}p_{3}}t2_{p_{0}p_{3}}^{h_{4}h_{5}}t2_{p_{2}p_{1}}^{h_{6}h_{7}}\n + -0.125 * \\Phi_{h_{4}h_{5}}^{p_{0}p_{1}}v_{h_{7}h_{6}}^{p_{2}p_{3}}t2_{p_{0}p_{2}}^{h_{4}h_{5}}t2_{p_{3}p_{1}}^{h_{6}h_{7}}\n + 0.0625 * \\Phi_{h_{4}h_{5}}^{p_{0}p_{1}}v_{h_{7}h_{6}}^{p_{2}p_{3}}t2_{p_{0}p_{3}}^{h_{4}h_{5}}t2_{p_{2}p_{1}}^{h_{6}h_{7}}\n + -0.125 * \\Phi_{h_{4}h_{5}}^{p_{0}p_{1}}v_{h_{6}h_{7}}^{p_{2}p_{3}}t2_{p_{1}p_{0}}^{h_{4}h_{5}}t2_{p_{2}p_{3}}^{h_{6}h_{7}}\n + 0.0625 * \\Phi_{h_{4}h_{5}}^{p_{0}p_{1}}v_{h_{6}h_{7}}^{p_{2}p_{3}}t2_{p_{1}p_{0}}^{h_{4}h_{5}}t2_{p_{3}p_{2}}^{h_{6}h_{7}}\n + 0.0625 * \\Phi_{h_{4}h_{5}}^{p_{0}p_{1}}v_{h_{7}h_{6}}^{p_{2}p_{3}}t2_{p_{1}p_{0}}^{h_{4}h_{5}}t2_{p_{2}p_{3}}^{h_{6}h_{7}}\n + -0.125 * \\Phi_{h_{4}h_{5}}^{p_{0}p_{1}}v_{h_{7}h_{6}}^{p_{2}p_{3}}t2_{p_{1}p_{0}}^{h_{4}h_{5}}t2_{p_{3}p_{2}}^{h_{6}h_{7}}\n + 0.0625 * \\Phi_{h_{4}h_{5}}^{p_{0}p_{1}}v_{h_{6}h_{7}}^{p_{2}p_{3}}t2_{p_{2}p_{0}}^{h_{4}h_{5}}t2_{p_{1}p_{3}}^{h_{6}h_{7}}\n + -0.03125 * \\Phi_{h_{4}h_{5}}^{p_{0}p_{1}}v_{h_{6}h_{7}}^{p_{2}p_{3}}t2_{p_{3}p_{0}}^{h_{4}h_{5}}t2_{p_{1}p_{2}}^{h_{6}h_{7}}\n + -0.03125 * \\Phi_{h_{4}h_{5}}^{p_{0}p_{1}}v_{h_{7}h_{6}}^{p_{2}p_{3}}t2_{p_{2}p_{0}}^{h_{4}h_{5}}t2_{p_{1}p_{3}}^{h_{6}h_{7}}\n + 0.0625 * \\Phi_{h_{4}h_{5}}^{p_{0}p_{1}}v_{h_{7}h_{6}}^{p_{2}p_{3}}t2_{p_{3}p_{0}}^{h_{4}h_{5}}t2_{p_{1}p_{2}}^{h_{6}h_{7}}\n + -0.03125 * \\Phi_{h_{4}h_{5}}^{p_{0}p_{1}}v_{h_{6}h_{7}}^{p_{2}p_{3}}t2_{p_{2}p_{0}}^{h_{4}h_{5}}t2_{p_{3}p_{1}}^{h_{6}h_{7}}\n + 0.0625 * \\Phi_{h_{4}h_{5}}^{p_{0}p_{1}}v_{h_{6}h_{7}}^{p_{2}p_{3}}t2_{p_{3}p_{0}}^{h_{4}h_{5}}t2_{p_{2}p_{1}}^{h_{6}h_{7}}\n + 0.0625 * \\Phi_{h_{4}h_{5}}^{p_{0}p_{1}}v_{h_{7}h_{6}}^{p_{2}p_{3}}t2_{p_{2}p_{0}}^{h_{4}h_{5}}t2_{p_{3}p_{1}}^{h_{6}h_{7}}\n + -0.03125 * \\Phi_{h_{4}h_{5}}^{p_{0}p_{1}}v_{h_{7}h_{6}}^{p_{2}p_{3}}t2_{p_{3}p_{0}}^{h_{4}h_{5}}t2_{p_{2}p_{1}}^{h_{6}h_{7}}\n + 0.0625 * \\Phi_{h_{4}h_{5}}^{p_{0}p_{1}}v_{h_{6}h_{7}}^{p_{2}p_{3}}t2_{p_{1}p_{2}}^{h_{4}h_{5}}t2_{p_{0}p_{3}}^{h_{6}h_{7}}\n + -0.03125 * \\Phi_{h_{4}h_{5}}^{p_{0}p_{1}}v_{h_{6}h_{7}}^{p_{2}p_{3}}t2_{p_{1}p_{3}}^{h_{4}h_{5}}t2_{p_{0}p_{2}}^{h_{6}h_{7}}\n + -0.03125 * \\Phi_{h_{4}h_{5}}^{p_{0}p_{1}}v_{h_{7}h_{6}}^{p_{2}p_{3}}t2_{p_{1}p_{2}}^{h_{4}h_{5}}t2_{p_{0}p_{3}}^{h_{6}h_{7}}\n + 0.0625 * \\Phi_{h_{4}h_{5}}^{p_{0}p_{1}}v_{h_{7}h_{6}}^{p_{2}p_{3}}t2_{p_{1}p_{3}}^{h_{4}h_{5}}t2_{p_{0}p_{2}}^{h_{6}h_{7}}\n + -0.125 * \\Phi_{h_{4}h_{5}}^{p_{0}p_{1}}v_{h_{6}h_{7}}^{p_{2}p_{3}}t2_{p_{2}p_{1}}^{h_{4}h_{5}}t2_{p_{0}p_{3}}^{h_{6}h_{7}}\n + 0.0625 * \\Phi_{h_{4}h_{5}}^{p_{0}p_{1}}v_{h_{6}h_{7}}^{p_{2}p_{3}}t2_{p_{3}p_{1}}^{h_{4}h_{5}}t2_{p_{0}p_{2}}^{h_{6}h_{7}}\n + 0.0625 * \\Phi_{h_{4}h_{5}}^{p_{0}p_{1}}v_{h_{7}h_{6}}^{p_{2}p_{3}}t2_{p_{2}p_{1}}^{h_{4}h_{5}}t2_{p_{0}p_{3}}^{h_{6}h_{7}}\n + -0.125 * \\Phi_{h_{4}h_{5}}^{p_{0}p_{1}}v_{h_{7}h_{6}}^{p_{2}p_{3}}t2_{p_{3}p_{1}}^{h_{4}h_{5}}t2_{p_{0}p_{2}}^{h_{6}h_{7}}\n + 0.0625 * \\Phi_{h_{4}h_{5}}^{p_{0}p_{1}}v_{h_{6}h_{7}}^{p_{2}p_{3}}t2_{p_{2}p_{3}}^{h_{4}h_{5}}t2_{p_{0}p_{1}}^{h_{6}h_{7}}\n + -0.03125 * \\Phi_{h_{4}h_{5}}^{p_{0}p_{1}}v_{h_{6}h_{7}}^{p_{2}p_{3}}t2_{p_{3}p_{2}}^{h_{4}h_{5}}t2_{p_{0}p_{1}}^{h_{6}h_{7}}\n + -0.03125 * \\Phi_{h_{4}h_{5}}^{p_{0}p_{1}}v_{h_{7}h_{6}}^{p_{2}p_{3}}t2_{p_{2}p_{3}}^{h_{4}h_{5}}t2_{p_{0}p_{1}}^{h_{6}h_{7}}\n + 0.0625 * \\Phi_{h_{4}h_{5}}^{p_{0}p_{1}}v_{h_{7}h_{6}}^{p_{2}p_{3}}t2_{p_{3}p_{2}}^{h_{4}h_{5}}t2_{p_{0}p_{1}}^{h_{6}h_{7}}\n + -0.03125 * \\Phi_{h_{4}h_{5}}^{p_{0}p_{1}}v_{h_{6}h_{7}}^{p_{2}p_{3}}t2_{p_{1}p_{2}}^{h_{4}h_{5}}t2_{p_{3}p_{0}}^{h_{6}h_{7}}\n + 0.0625 * \\Phi_{h_{4}h_{5}}^{p_{0}p_{1}}v_{h_{6}h_{7}}^{p_{2}p_{3}}t2_{p_{1}p_{3}}^{h_{4}h_{5}}t2_{p_{2}p_{0}}^{h_{6}h_{7}}\n + 0.0625 * \\Phi_{h_{4}h_{5}}^{p_{0}p_{1}}v_{h_{7}h_{6}}^{p_{2}p_{3}}t2_{p_{1}p_{2}}^{h_{4}h_{5}}t2_{p_{3}p_{0}}^{h_{6}h_{7}}\n + -0.03125 * \\Phi_{h_{4}h_{5}}^{p_{0}p_{1}}v_{h_{7}h_{6}}^{p_{2}p_{3}}t2_{p_{1}p_{3}}^{h_{4}h_{5}}t2_{p_{2}p_{0}}^{h_{6}h_{7}}\n + 0.0625 * \\Phi_{h_{4}h_{5}}^{p_{0}p_{1}}v_{h_{6}h_{7}}^{p_{2}p_{3}}t2_{p_{2}p_{1}}^{h_{4}h_{5}}t2_{p_{3}p_{0}}^{h_{6}h_{7}}\n + -0.125 * \\Phi_{h_{4}h_{5}}^{p_{0}p_{1}}v_{h_{6}h_{7}}^{p_{2}p_{3}}t2_{p_{3}p_{1}}^{h_{4}h_{5}}t2_{p_{2}p_{0}}^{h_{6}h_{7}}\n + -0.125 * \\Phi_{h_{4}h_{5}}^{p_{0}p_{1}}v_{h_{7}h_{6}}^{p_{2}p_{3}}t2_{p_{2}p_{1}}^{h_{4}h_{5}}t2_{p_{3}p_{0}}^{h_{6}h_{7}}\n + 0.0625 * \\Phi_{h_{4}h_{5}}^{p_{0}p_{1}}v_{h_{7}h_{6}}^{p_{2}p_{3}}t2_{p_{3}p_{1}}^{h_{4}h_{5}}t2_{p_{2}p_{0}}^{h_{6}h_{7}}\n + -0.03125 * \\Phi_{h_{4}h_{5}}^{p_{0}p_{1}}v_{h_{6}h_{7}}^{p_{2}p_{3}}t2_{p_{2}p_{3}}^{h_{4}h_{5}}t2_{p_{1}p_{0}}^{h_{6}h_{7}}\n + 0.0625 * \\Phi_{h_{4}h_{5}}^{p_{0}p_{1}}v_{h_{6}h_{7}}^{p_{2}p_{3}}t2_{p_{3}p_{2}}^{h_{4}h_{5}}t2_{p_{1}p_{0}}^{h_{6}h_{7}}\n + 0.0625 * \\Phi_{h_{4}h_{5}}^{p_{0}p_{1}}v_{h_{7}h_{6}}^{p_{2}p_{3}}t2_{p_{2}p_{3}}^{h_{4}h_{5}}t2_{p_{1}p_{0}}^{h_{6}h_{7}}\n + -0.03125 * \\Phi_{h_{4}h_{5}}^{p_{0}p_{1}}v_{h_{7}h_{6}}^{p_{2}p_{3}}t2_{p_{3}p_{2}}^{h_{4}h_{5}}t2_{p_{1}p_{0}}^{h_{6}h_{7}}\n + -0.125 * \\Phi_{h_{4}h_{6}}^{p_{0}p_{1}}v_{h_{5}h_{7}}^{p_{2}p_{3}}t2_{p_{0}p_{1}}^{h_{4}h_{5}}t2_{p_{2}p_{3}}^{h_{6}h_{7}}\n + 0.0625 * \\Phi_{h_{4}h_{6}}^{p_{0}p_{1}}v_{h_{5}h_{7}}^{p_{2}p_{3}}t2_{p_{0}p_{1}}^{h_{4}h_{5}}t2_{p_{3}p_{2}}^{h_{6}h_{7}}\n + 0.0625 * \\Phi_{h_{4}h_{6}}^{p_{0}p_{1}}v_{h_{7}h_{5}}^{p_{2}p_{3}}t2_{p_{0}p_{1}}^{h_{4}h_{5}}t2_{p_{2}p_{3}}^{h_{6}h_{7}}\n + -0.125 * \\Phi_{h_{4}h_{6}}^{p_{0}p_{1}}v_{h_{7}h_{5}}^{p_{2}p_{3}}t2_{p_{0}p_{1}}^{h_{4}h_{5}}t2_{p_{3}p_{2}}^{h_{6}h_{7}}\n + 0.0625 * \\Phi_{h_{4}h_{6}}^{p_{0}p_{1}}v_{h_{5}h_{7}}^{p_{2}p_{3}}t2_{p_{0}p_{2}}^{h_{4}h_{5}}t2_{p_{1}p_{3}}^{h_{6}h_{7}}\n + -0.03125 * \\Phi_{h_{4}h_{6}}^{p_{0}p_{1}}v_{h_{5}h_{7}}^{p_{2}p_{3}}t2_{p_{0}p_{3}}^{h_{4}h_{5}}t2_{p_{1}p_{2}}^{h_{6}h_{7}}\n + -0.03125 * \\Phi_{h_{4}h_{6}}^{p_{0}p_{1}}v_{h_{7}h_{5}}^{p_{2}p_{3}}t2_{p_{0}p_{2}}^{h_{4}h_{5}}t2_{p_{1}p_{3}}^{h_{6}h_{7}}\n + 0.0625 * \\Phi_{h_{4}h_{6}}^{p_{0}p_{1}}v_{h_{7}h_{5}}^{p_{2}p_{3}}t2_{p_{0}p_{3}}^{h_{4}h_{5}}t2_{p_{1}p_{2}}^{h_{6}h_{7}}\n + -0.03125 * \\Phi_{h_{4}h_{6}}^{p_{0}p_{1}}v_{h_{5}h_{7}}^{p_{2}p_{3}}t2_{p_{0}p_{2}}^{h_{4}h_{5}}t2_{p_{3}p_{1}}^{h_{6}h_{7}}\n + 0.0625 * \\Phi_{h_{4}h_{6}}^{p_{0}p_{1}}v_{h_{5}h_{7}}^{p_{2}p_{3}}t2_{p_{0}p_{3}}^{h_{4}h_{5}}t2_{p_{2}p_{1}}^{h_{6}h_{7}}\n + 0.0625 * \\Phi_{h_{4}h_{6}}^{p_{0}p_{1}}v_{h_{7}h_{5}}^{p_{2}p_{3}}t2_{p_{0}p_{2}}^{h_{4}h_{5}}t2_{p_{3}p_{1}}^{h_{6}h_{7}}\n + -0.03125 * \\Phi_{h_{4}h_{6}}^{p_{0}p_{1}}v_{h_{7}h_{5}}^{p_{2}p_{3}}t2_{p_{0}p_{3}}^{h_{4}h_{5}}t2_{p_{2}p_{1}}^{h_{6}h_{7}}\n + 0.0625 * \\Phi_{h_{4}h_{6}}^{p_{0}p_{1}}v_{h_{5}h_{7}}^{p_{2}p_{3}}t2_{p_{1}p_{0}}^{h_{4}h_{5}}t2_{p_{2}p_{3}}^{h_{6}h_{7}}\n + -0.03125 * \\Phi_{h_{4}h_{6}}^{p_{0}p_{1}}v_{h_{5}h_{7}}^{p_{2}p_{3}}t2_{p_{1}p_{0}}^{h_{4}h_{5}}t2_{p_{3}p_{2}}^{h_{6}h_{7}}\n + -0.03125 * \\Phi_{h_{4}h_{6}}^{p_{0}p_{1}}v_{h_{7}h_{5}}^{p_{2}p_{3}}t2_{p_{1}p_{0}}^{h_{4}h_{5}}t2_{p_{2}p_{3}}^{h_{6}h_{7}}\n + 0.0625 * \\Phi_{h_{4}h_{6}}^{p_{0}p_{1}}v_{h_{7}h_{5}}^{p_{2}p_{3}}t2_{p_{1}p_{0}}^{h_{4}h_{5}}t2_{p_{3}p_{2}}^{h_{6}h_{7}}\n + -0.03125 * \\Phi_{h_{4}h_{6}}^{p_{0}p_{1}}v_{h_{5}h_{7}}^{p_{2}p_{3}}t2_{p_{2}p_{0}}^{h_{4}h_{5}}t2_{p_{1}p_{3}}^{h_{6}h_{7}}\n + 0.0625 * \\Phi_{h_{4}h_{6}}^{p_{0}p_{1}}v_{h_{5}h_{7}}^{p_{2}p_{3}}t2_{p_{3}p_{0}}^{h_{4}h_{5}}t2_{p_{1}p_{2}}^{h_{6}h_{7}}\n + 0.0625 * \\Phi_{h_{4}h_{6}}^{p_{0}p_{1}}v_{h_{7}h_{5}}^{p_{2}p_{3}}t2_{p_{2}p_{0}}^{h_{4}h_{5}}t2_{p_{1}p_{3}}^{h_{6}h_{7}}\n + -0.03125 * \\Phi_{h_{4}h_{6}}^{p_{0}p_{1}}v_{h_{7}h_{5}}^{p_{2}p_{3}}t2_{p_{3}p_{0}}^{h_{4}h_{5}}t2_{p_{1}p_{2}}^{h_{6}h_{7}}\n + 0.0625 * \\Phi_{h_{4}h_{6}}^{p_{0}p_{1}}v_{h_{5}h_{7}}^{p_{2}p_{3}}t2_{p_{2}p_{0}}^{h_{4}h_{5}}t2_{p_{3}p_{1}}^{h_{6}h_{7}}\n + -0.125 * \\Phi_{h_{4}h_{6}}^{p_{0}p_{1}}v_{h_{5}h_{7}}^{p_{2}p_{3}}t2_{p_{3}p_{0}}^{h_{4}h_{5}}t2_{p_{2}p_{1}}^{h_{6}h_{7}}\n + -0.125 * \\Phi_{h_{4}h_{6}}^{p_{0}p_{1}}v_{h_{7}h_{5}}^{p_{2}p_{3}}t2_{p_{2}p_{0}}^{h_{4}h_{5}}t2_{p_{3}p_{1}}^{h_{6}h_{7}}\n + 0.0625 * \\Phi_{h_{4}h_{6}}^{p_{0}p_{1}}v_{h_{7}h_{5}}^{p_{2}p_{3}}t2_{p_{3}p_{0}}^{h_{4}h_{5}}t2_{p_{2}p_{1}}^{h_{6}h_{7}}\n + -0.03125 * \\Phi_{h_{4}h_{6}}^{p_{0}p_{1}}v_{h_{5}h_{7}}^{p_{2}p_{3}}t2_{p_{1}p_{2}}^{h_{4}h_{5}}t2_{p_{0}p_{3}}^{h_{6}h_{7}}\n + 0.0625 * \\Phi_{h_{4}h_{6}}^{p_{0}p_{1}}v_{h_{5}h_{7}}^{p_{2}p_{3}}t2_{p_{1}p_{3}}^{h_{4}h_{5}}t2_{p_{0}p_{2}}^{h_{6}h_{7}}\n + 0.0625 * \\Phi_{h_{4}h_{6}}^{p_{0}p_{1}}v_{h_{7}h_{5}}^{p_{2}p_{3}}t2_{p_{1}p_{2}}^{h_{4}h_{5}}t2_{p_{0}p_{3}}^{h_{6}h_{7}}\n + -0.03125 * \\Phi_{h_{4}h_{6}}^{p_{0}p_{1}}v_{h_{7}h_{5}}^{p_{2}p_{3}}t2_{p_{1}p_{3}}^{h_{4}h_{5}}t2_{p_{0}p_{2}}^{h_{6}h_{7}}\n + 0.0625 * \\Phi_{h_{4}h_{6}}^{p_{0}p_{1}}v_{h_{5}h_{7}}^{p_{2}p_{3}}t2_{p_{2}p_{1}}^{h_{4}h_{5}}t2_{p_{0}p_{3}}^{h_{6}h_{7}}\n + -0.125 * \\Phi_{h_{4}h_{6}}^{p_{0}p_{1}}v_{h_{5}h_{7}}^{p_{2}p_{3}}t2_{p_{3}p_{1}}^{h_{4}h_{5}}t2_{p_{0}p_{2}}^{h_{6}h_{7}}\n + -0.125 * \\Phi_{h_{4}h_{6}}^{p_{0}p_{1}}v_{h_{7}h_{5}}^{p_{2}p_{3}}t2_{p_{2}p_{1}}^{h_{4}h_{5}}t2_{p_{0}p_{3}}^{h_{6}h_{7}}\n + 0.0625 * \\Phi_{h_{4}h_{6}}^{p_{0}p_{1}}v_{h_{7}h_{5}}^{p_{2}p_{3}}t2_{p_{3}p_{1}}^{h_{4}h_{5}}t2_{p_{0}p_{2}}^{h_{6}h_{7}}\n + -0.03125 * \\Phi_{h_{4}h_{6}}^{p_{0}p_{1}}v_{h_{5}h_{7}}^{p_{2}p_{3}}t2_{p_{2}p_{3}}^{h_{4}h_{5}}t2_{p_{0}p_{1}}^{h_{6}h_{7}}\n + 0.0625 * \\Phi_{h_{4}h_{6}}^{p_{0}p_{1}}v_{h_{5}h_{7}}^{p_{2}p_{3}}t2_{p_{3}p_{2}}^{h_{4}h_{5}}t2_{p_{0}p_{1}}^{h_{6}h_{7}}\n + 0.0625 * \\Phi_{h_{4}h_{6}}^{p_{0}p_{1}}v_{h_{7}h_{5}}^{p_{2}p_{3}}t2_{p_{2}p_{3}}^{h_{4}h_{5}}t2_{p_{0}p_{1}}^{h_{6}h_{7}}\n + -0.03125 * \\Phi_{h_{4}h_{6}}^{p_{0}p_{1}}v_{h_{7}h_{5}}^{p_{2}p_{3}}t2_{p_{3}p_{2}}^{h_{4}h_{5}}t2_{p_{0}p_{1}}^{h_{6}h_{7}}\n + 0.0625 * \\Phi_{h_{4}h_{6}}^{p_{0}p_{1}}v_{h_{5}h_{7}}^{p_{2}p_{3}}t2_{p_{1}p_{2}}^{h_{4}h_{5}}t2_{p_{3}p_{0}}^{h_{6}h_{7}}\n + -0.125 * \\Phi_{h_{4}h_{6}}^{p_{0}p_{1}}v_{h_{5}h_{7}}^{p_{2}p_{3}}t2_{p_{1}p_{3}}^{h_{4}h_{5}}t2_{p_{2}p_{0}}^{h_{6}h_{7}}\n + -0.125 * \\Phi_{h_{4}h_{6}}^{p_{0}p_{1}}v_{h_{7}h_{5}}^{p_{2}p_{3}}t2_{p_{1}p_{2}}^{h_{4}h_{5}}t2_{p_{3}p_{0}}^{h_{6}h_{7}}\n + 0.0625 * \\Phi_{h_{4}h_{6}}^{p_{0}p_{1}}v_{h_{7}h_{5}}^{p_{2}p_{3}}t2_{p_{1}p_{3}}^{h_{4}h_{5}}t2_{p_{2}p_{0}}^{h_{6}h_{7}}\n + -0.125 * \\Phi_{h_{4}h_{6}}^{p_{0}p_{1}}v_{h_{5}h_{7}}^{p_{2}p_{3}}t2_{p_{2}p_{1}}^{h_{4}h_{5}}t2_{p_{3}p_{0}}^{h_{6}h_{7}}\n + 0.25 * \\Phi_{h_{4}h_{6}}^{p_{0}p_{1}}v_{h_{5}h_{7}}^{p_{2}p_{3}}t2_{p_{3}p_{1}}^{h_{4}h_{5}}t2_{p_{2}p_{0}}^{h_{6}h_{7}}\n + 0.25 * \\Phi_{h_{4}h_{6}}^{p_{0}p_{1}}v_{h_{7}h_{5}}^{p_{2}p_{3}}t2_{p_{2}p_{1}}^{h_{4}h_{5}}t2_{p_{3}p_{0}}^{h_{6}h_{7}}\n + -0.125 * \\Phi_{h_{4}h_{6}}^{p_{0}p_{1}}v_{h_{7}h_{5}}^{p_{2}p_{3}}t2_{p_{3}p_{1}}^{h_{4}h_{5}}t2_{p_{2}p_{0}}^{h_{6}h_{7}}\n + 0.0625 * \\Phi_{h_{4}h_{6}}^{p_{0}p_{1}}v_{h_{5}h_{7}}^{p_{2}p_{3}}t2_{p_{2}p_{3}}^{h_{4}h_{5}}t2_{p_{1}p_{0}}^{h_{6}h_{7}}\n + -0.125 * \\Phi_{h_{4}h_{6}}^{p_{0}p_{1}}v_{h_{5}h_{7}}^{p_{2}p_{3}}t2_{p_{3}p_{2}}^{h_{4}h_{5}}t2_{p_{1}p_{0}}^{h_{6}h_{7}}\n + -0.125 * \\Phi_{h_{4}h_{6}}^{p_{0}p_{1}}v_{h_{7}h_{5}}^{p_{2}p_{3}}t2_{p_{2}p_{3}}^{h_{4}h_{5}}t2_{p_{1}p_{0}}^{h_{6}h_{7}}\n + 0.0625 * \\Phi_{h_{4}h_{6}}^{p_{0}p_{1}}v_{h_{7}h_{5}}^{p_{2}p_{3}}t2_{p_{3}p_{2}}^{h_{4}h_{5}}t2_{p_{1}p_{0}}^{h_{6}h_{7}}\n + 0.0625 * \\Phi_{h_{4}h_{7}}^{p_{0}p_{1}}v_{h_{5}h_{6}}^{p_{2}p_{3}}t2_{p_{0}p_{1}}^{h_{4}h_{5}}t2_{p_{2}p_{3}}^{h_{6}h_{7}}\n + -0.125 * \\Phi_{h_{4}h_{7}}^{p_{0}p_{1}}v_{h_{5}h_{6}}^{p_{2}p_{3}}t2_{p_{0}p_{1}}^{h_{4}h_{5}}t2_{p_{3}p_{2}}^{h_{6}h_{7}}\n + -0.125 * \\Phi_{h_{4}h_{7}}^{p_{0}p_{1}}v_{h_{6}h_{5}}^{p_{2}p_{3}}t2_{p_{0}p_{1}}^{h_{4}h_{5}}t2_{p_{2}p_{3}}^{h_{6}h_{7}}\n + 0.0625 * \\Phi_{h_{4}h_{7}}^{p_{0}p_{1}}v_{h_{6}h_{5}}^{p_{2}p_{3}}t2_{p_{0}p_{1}}^{h_{4}h_{5}}t2_{p_{3}p_{2}}^{h_{6}h_{7}}\n + -0.03125 * \\Phi_{h_{4}h_{7}}^{p_{0}p_{1}}v_{h_{5}h_{6}}^{p_{2}p_{3}}t2_{p_{0}p_{2}}^{h_{4}h_{5}}t2_{p_{1}p_{3}}^{h_{6}h_{7}}\n + 0.0625 * \\Phi_{h_{4}h_{7}}^{p_{0}p_{1}}v_{h_{5}h_{6}}^{p_{2}p_{3}}t2_{p_{0}p_{3}}^{h_{4}h_{5}}t2_{p_{1}p_{2}}^{h_{6}h_{7}}\n + 0.0625 * \\Phi_{h_{4}h_{7}}^{p_{0}p_{1}}v_{h_{6}h_{5}}^{p_{2}p_{3}}t2_{p_{0}p_{2}}^{h_{4}h_{5}}t2_{p_{1}p_{3}}^{h_{6}h_{7}}\n + -0.03125 * \\Phi_{h_{4}h_{7}}^{p_{0}p_{1}}v_{h_{6}h_{5}}^{p_{2}p_{3}}t2_{p_{0}p_{3}}^{h_{4}h_{5}}t2_{p_{1}p_{2}}^{h_{6}h_{7}}\n + 0.0625 * \\Phi_{h_{4}h_{7}}^{p_{0}p_{1}}v_{h_{5}h_{6}}^{p_{2}p_{3}}t2_{p_{0}p_{2}}^{h_{4}h_{5}}t2_{p_{3}p_{1}}^{h_{6}h_{7}}\n + -0.03125 * \\Phi_{h_{4}h_{7}}^{p_{0}p_{1}}v_{h_{5}h_{6}}^{p_{2}p_{3}}t2_{p_{0}p_{3}}^{h_{4}h_{5}}t2_{p_{2}p_{1}}^{h_{6}h_{7}}\n + -0.03125 * \\Phi_{h_{4}h_{7}}^{p_{0}p_{1}}v_{h_{6}h_{5}}^{p_{2}p_{3}}t2_{p_{0}p_{2}}^{h_{4}h_{5}}t2_{p_{3}p_{1}}^{h_{6}h_{7}}\n + 0.0625 * \\Phi_{h_{4}h_{7}}^{p_{0}p_{1}}v_{h_{6}h_{5}}^{p_{2}p_{3}}t2_{p_{0}p_{3}}^{h_{4}h_{5}}t2_{p_{2}p_{1}}^{h_{6}h_{7}}\n + -0.03125 * \\Phi_{h_{4}h_{7}}^{p_{0}p_{1}}v_{h_{5}h_{6}}^{p_{2}p_{3}}t2_{p_{1}p_{0}}^{h_{4}h_{5}}t2_{p_{2}p_{3}}^{h_{6}h_{7}}\n + 0.0625 * \\Phi_{h_{4}h_{7}}^{p_{0}p_{1}}v_{h_{5}h_{6}}^{p_{2}p_{3}}t2_{p_{1}p_{0}}^{h_{4}h_{5}}t2_{p_{3}p_{2}}^{h_{6}h_{7}}\n + 0.0625 * \\Phi_{h_{4}h_{7}}^{p_{0}p_{1}}v_{h_{6}h_{5}}^{p_{2}p_{3}}t2_{p_{1}p_{0}}^{h_{4}h_{5}}t2_{p_{2}p_{3}}^{h_{6}h_{7}}\n + -0.03125 * \\Phi_{h_{4}h_{7}}^{p_{0}p_{1}}v_{h_{6}h_{5}}^{p_{2}p_{3}}t2_{p_{1}p_{0}}^{h_{4}h_{5}}t2_{p_{3}p_{2}}^{h_{6}h_{7}}\n + 0.0625 * \\Phi_{h_{4}h_{7}}^{p_{0}p_{1}}v_{h_{5}h_{6}}^{p_{2}p_{3}}t2_{p_{2}p_{0}}^{h_{4}h_{5}}t2_{p_{1}p_{3}}^{h_{6}h_{7}}\n + -0.125 * \\Phi_{h_{4}h_{7}}^{p_{0}p_{1}}v_{h_{5}h_{6}}^{p_{2}p_{3}}t2_{p_{3}p_{0}}^{h_{4}h_{5}}t2_{p_{1}p_{2}}^{h_{6}h_{7}}\n + -0.125 * \\Phi_{h_{4}h_{7}}^{p_{0}p_{1}}v_{h_{6}h_{5}}^{p_{2}p_{3}}t2_{p_{2}p_{0}}^{h_{4}h_{5}}t2_{p_{1}p_{3}}^{h_{6}h_{7}}\n + 0.0625 * \\Phi_{h_{4}h_{7}}^{p_{0}p_{1}}v_{h_{6}h_{5}}^{p_{2}p_{3}}t2_{p_{3}p_{0}}^{h_{4}h_{5}}t2_{p_{1}p_{2}}^{h_{6}h_{7}}\n + -0.03125 * \\Phi_{h_{4}h_{7}}^{p_{0}p_{1}}v_{h_{5}h_{6}}^{p_{2}p_{3}}t2_{p_{2}p_{0}}^{h_{4}h_{5}}t2_{p_{3}p_{1}}^{h_{6}h_{7}}\n + 0.0625 * \\Phi_{h_{4}h_{7}}^{p_{0}p_{1}}v_{h_{5}h_{6}}^{p_{2}p_{3}}t2_{p_{3}p_{0}}^{h_{4}h_{5}}t2_{p_{2}p_{1}}^{h_{6}h_{7}}\n + 0.0625 * \\Phi_{h_{4}h_{7}}^{p_{0}p_{1}}v_{h_{6}h_{5}}^{p_{2}p_{3}}t2_{p_{2}p_{0}}^{h_{4}h_{5}}t2_{p_{3}p_{1}}^{h_{6}h_{7}}\n + -0.03125 * \\Phi_{h_{4}h_{7}}^{p_{0}p_{1}}v_{h_{6}h_{5}}^{p_{2}p_{3}}t2_{p_{3}p_{0}}^{h_{4}h_{5}}t2_{p_{2}p_{1}}^{h_{6}h_{7}}\n + 0.0625 * \\Phi_{h_{4}h_{7}}^{p_{0}p_{1}}v_{h_{5}h_{6}}^{p_{2}p_{3}}t2_{p_{1}p_{2}}^{h_{4}h_{5}}t2_{p_{0}p_{3}}^{h_{6}h_{7}}\n + -0.125 * \\Phi_{h_{4}h_{7}}^{p_{0}p_{1}}v_{h_{5}h_{6}}^{p_{2}p_{3}}t2_{p_{1}p_{3}}^{h_{4}h_{5}}t2_{p_{0}p_{2}}^{h_{6}h_{7}}\n + -0.125 * \\Phi_{h_{4}h_{7}}^{p_{0}p_{1}}v_{h_{6}h_{5}}^{p_{2}p_{3}}t2_{p_{1}p_{2}}^{h_{4}h_{5}}t2_{p_{0}p_{3}}^{h_{6}h_{7}}\n + 0.0625 * \\Phi_{h_{4}h_{7}}^{p_{0}p_{1}}v_{h_{6}h_{5}}^{p_{2}p_{3}}t2_{p_{1}p_{3}}^{h_{4}h_{5}}t2_{p_{0}p_{2}}^{h_{6}h_{7}}\n + -0.125 * \\Phi_{h_{4}h_{7}}^{p_{0}p_{1}}v_{h_{5}h_{6}}^{p_{2}p_{3}}t2_{p_{2}p_{1}}^{h_{4}h_{5}}t2_{p_{0}p_{3}}^{h_{6}h_{7}}\n + 0.25 * \\Phi_{h_{4}h_{7}}^{p_{0}p_{1}}v_{h_{5}h_{6}}^{p_{2}p_{3}}t2_{p_{3}p_{1}}^{h_{4}h_{5}}t2_{p_{0}p_{2}}^{h_{6}h_{7}}\n + 0.25 * \\Phi_{h_{4}h_{7}}^{p_{0}p_{1}}v_{h_{6}h_{5}}^{p_{2}p_{3}}t2_{p_{2}p_{1}}^{h_{4}h_{5}}t2_{p_{0}p_{3}}^{h_{6}h_{7}}\n + -0.125 * \\Phi_{h_{4}h_{7}}^{p_{0}p_{1}}v_{h_{6}h_{5}}^{p_{2}p_{3}}t2_{p_{3}p_{1}}^{h_{4}h_{5}}t2_{p_{0}p_{2}}^{h_{6}h_{7}}\n + 0.0625 * \\Phi_{h_{4}h_{7}}^{p_{0}p_{1}}v_{h_{5}h_{6}}^{p_{2}p_{3}}t2_{p_{2}p_{3}}^{h_{4}h_{5}}t2_{p_{0}p_{1}}^{h_{6}h_{7}}\n + -0.125 * \\Phi_{h_{4}h_{7}}^{p_{0}p_{1}}v_{h_{5}h_{6}}^{p_{2}p_{3}}t2_{p_{3}p_{2}}^{h_{4}h_{5}}t2_{p_{0}p_{1}}^{h_{6}h_{7}}\n + -0.125 * \\Phi_{h_{4}h_{7}}^{p_{0}p_{1}}v_{h_{6}h_{5}}^{p_{2}p_{3}}t2_{p_{2}p_{3}}^{h_{4}h_{5}}t2_{p_{0}p_{1}}^{h_{6}h_{7}}\n + 0.0625 * \\Phi_{h_{4}h_{7}}^{p_{0}p_{1}}v_{h_{6}h_{5}}^{p_{2}p_{3}}t2_{p_{3}p_{2}}^{h_{4}h_{5}}t2_{p_{0}p_{1}}^{h_{6}h_{7}}\n + -0.03125 * \\Phi_{h_{4}h_{7}}^{p_{0}p_{1}}v_{h_{5}h_{6}}^{p_{2}p_{3}}t2_{p_{1}p_{2}}^{h_{4}h_{5}}t2_{p_{3}p_{0}}^{h_{6}h_{7}}\n + 0.0625 * \\Phi_{h_{4}h_{7}}^{p_{0}p_{1}}v_{h_{5}h_{6}}^{p_{2}p_{3}}t2_{p_{1}p_{3}}^{h_{4}h_{5}}t2_{p_{2}p_{0}}^{h_{6}h_{7}}\n + 0.0625 * \\Phi_{h_{4}h_{7}}^{p_{0}p_{1}}v_{h_{6}h_{5}}^{p_{2}p_{3}}t2_{p_{1}p_{2}}^{h_{4}h_{5}}t2_{p_{3}p_{0}}^{h_{6}h_{7}}\n + -0.03125 * \\Phi_{h_{4}h_{7}}^{p_{0}p_{1}}v_{h_{6}h_{5}}^{p_{2}p_{3}}t2_{p_{1}p_{3}}^{h_{4}h_{5}}t2_{p_{2}p_{0}}^{h_{6}h_{7}}\n + 0.0625 * \\Phi_{h_{4}h_{7}}^{p_{0}p_{1}}v_{h_{5}h_{6}}^{p_{2}p_{3}}t2_{p_{2}p_{1}}^{h_{4}h_{5}}t2_{p_{3}p_{0}}^{h_{6}h_{7}}\n + -0.125 * \\Phi_{h_{4}h_{7}}^{p_{0}p_{1}}v_{h_{5}h_{6}}^{p_{2}p_{3}}t2_{p_{3}p_{1}}^{h_{4}h_{5}}t2_{p_{2}p_{0}}^{h_{6}h_{7}}\n + -0.125 * \\Phi_{h_{4}h_{7}}^{p_{0}p_{1}}v_{h_{6}h_{5}}^{p_{2}p_{3}}t2_{p_{2}p_{1}}^{h_{4}h_{5}}t2_{p_{3}p_{0}}^{h_{6}h_{7}}\n + 0.0625 * \\Phi_{h_{4}h_{7}}^{p_{0}p_{1}}v_{h_{6}h_{5}}^{p_{2}p_{3}}t2_{p_{3}p_{1}}^{h_{4}h_{5}}t2_{p_{2}p_{0}}^{h_{6}h_{7}}\n + -0.03125 * \\Phi_{h_{4}h_{7}}^{p_{0}p_{1}}v_{h_{5}h_{6}}^{p_{2}p_{3}}t2_{p_{2}p_{3}}^{h_{4}h_{5}}t2_{p_{1}p_{0}}^{h_{6}h_{7}}\n + 0.0625 * \\Phi_{h_{4}h_{7}}^{p_{0}p_{1}}v_{h_{5}h_{6}}^{p_{2}p_{3}}t2_{p_{3}p_{2}}^{h_{4}h_{5}}t2_{p_{1}p_{0}}^{h_{6}h_{7}}\n + 0.0625 * \\Phi_{h_{4}h_{7}}^{p_{0}p_{1}}v_{h_{6}h_{5}}^{p_{2}p_{3}}t2_{p_{2}p_{3}}^{h_{4}h_{5}}t2_{p_{1}p_{0}}^{h_{6}h_{7}}\n + -0.03125 * \\Phi_{h_{4}h_{7}}^{p_{0}p_{1}}v_{h_{6}h_{5}}^{p_{2}p_{3}}t2_{p_{3}p_{2}}^{h_{4}h_{5}}t2_{p_{1}p_{0}}^{h_{6}h_{7}}\n + -0.125 * \\Phi_{h_{5}h_{4}}^{p_{0}p_{1}}v_{h_{6}h_{7}}^{p_{2}p_{3}}t2_{p_{0}p_{1}}^{h_{4}h_{5}}t2_{p_{2}p_{3}}^{h_{6}h_{7}}\n + 0.0625 * \\Phi_{h_{5}h_{4}}^{p_{0}p_{1}}v_{h_{6}h_{7}}^{p_{2}p_{3}}t2_{p_{0}p_{1}}^{h_{4}h_{5}}t2_{p_{3}p_{2}}^{h_{6}h_{7}}\n + 0.0625 * \\Phi_{h_{5}h_{4}}^{p_{0}p_{1}}v_{h_{7}h_{6}}^{p_{2}p_{3}}t2_{p_{0}p_{1}}^{h_{4}h_{5}}t2_{p_{2}p_{3}}^{h_{6}h_{7}}\n + -0.125 * \\Phi_{h_{5}h_{4}}^{p_{0}p_{1}}v_{h_{7}h_{6}}^{p_{2}p_{3}}t2_{p_{0}p_{1}}^{h_{4}h_{5}}t2_{p_{3}p_{2}}^{h_{6}h_{7}}\n + 0.0625 * \\Phi_{h_{5}h_{4}}^{p_{0}p_{1}}v_{h_{6}h_{7}}^{p_{2}p_{3}}t2_{p_{0}p_{2}}^{h_{4}h_{5}}t2_{p_{1}p_{3}}^{h_{6}h_{7}}\n + -0.03125 * \\Phi_{h_{5}h_{4}}^{p_{0}p_{1}}v_{h_{6}h_{7}}^{p_{2}p_{3}}t2_{p_{0}p_{3}}^{h_{4}h_{5}}t2_{p_{1}p_{2}}^{h_{6}h_{7}}\n + -0.03125 * \\Phi_{h_{5}h_{4}}^{p_{0}p_{1}}v_{h_{7}h_{6}}^{p_{2}p_{3}}t2_{p_{0}p_{2}}^{h_{4}h_{5}}t2_{p_{1}p_{3}}^{h_{6}h_{7}}\n + 0.0625 * \\Phi_{h_{5}h_{4}}^{p_{0}p_{1}}v_{h_{7}h_{6}}^{p_{2}p_{3}}t2_{p_{0}p_{3}}^{h_{4}h_{5}}t2_{p_{1}p_{2}}^{h_{6}h_{7}}\n + -0.03125 * \\Phi_{h_{5}h_{4}}^{p_{0}p_{1}}v_{h_{6}h_{7}}^{p_{2}p_{3}}t2_{p_{0}p_{2}}^{h_{4}h_{5}}t2_{p_{3}p_{1}}^{h_{6}h_{7}}\n + 0.0625 * \\Phi_{h_{5}h_{4}}^{p_{0}p_{1}}v_{h_{6}h_{7}}^{p_{2}p_{3}}t2_{p_{0}p_{3}}^{h_{4}h_{5}}t2_{p_{2}p_{1}}^{h_{6}h_{7}}\n + 0.0625 * \\Phi_{h_{5}h_{4}}^{p_{0}p_{1}}v_{h_{7}h_{6}}^{p_{2}p_{3}}t2_{p_{0}p_{2}}^{h_{4}h_{5}}t2_{p_{3}p_{1}}^{h_{6}h_{7}}\n + -0.03125 * \\Phi_{h_{5}h_{4}}^{p_{0}p_{1}}v_{h_{7}h_{6}}^{p_{2}p_{3}}t2_{p_{0}p_{3}}^{h_{4}h_{5}}t2_{p_{2}p_{1}}^{h_{6}h_{7}}\n + 0.25 * \\Phi_{h_{5}h_{4}}^{p_{0}p_{1}}v_{h_{6}h_{7}}^{p_{2}p_{3}}t2_{p_{1}p_{0}}^{h_{4}h_{5}}t2_{p_{2}p_{3}}^{h_{6}h_{7}}\n + -0.125 * \\Phi_{h_{5}h_{4}}^{p_{0}p_{1}}v_{h_{6}h_{7}}^{p_{2}p_{3}}t2_{p_{1}p_{0}}^{h_{4}h_{5}}t2_{p_{3}p_{2}}^{h_{6}h_{7}}\n + -0.125 * \\Phi_{h_{5}h_{4}}^{p_{0}p_{1}}v_{h_{7}h_{6}}^{p_{2}p_{3}}t2_{p_{1}p_{0}}^{h_{4}h_{5}}t2_{p_{2}p_{3}}^{h_{6}h_{7}}\n + 0.25 * \\Phi_{h_{5}h_{4}}^{p_{0}p_{1}}v_{h_{7}h_{6}}^{p_{2}p_{3}}t2_{p_{1}p_{0}}^{h_{4}h_{5}}t2_{p_{3}p_{2}}^{h_{6}h_{7}}\n + -0.125 * \\Phi_{h_{5}h_{4}}^{p_{0}p_{1}}v_{h_{6}h_{7}}^{p_{2}p_{3}}t2_{p_{2}p_{0}}^{h_{4}h_{5}}t2_{p_{1}p_{3}}^{h_{6}h_{7}}\n + 0.0625 * \\Phi_{h_{5}h_{4}}^{p_{0}p_{1}}v_{h_{6}h_{7}}^{p_{2}p_{3}}t2_{p_{3}p_{0}}^{h_{4}h_{5}}t2_{p_{1}p_{2}}^{h_{6}h_{7}}\n + 0.0625 * \\Phi_{h_{5}h_{4}}^{p_{0}p_{1}}v_{h_{7}h_{6}}^{p_{2}p_{3}}t2_{p_{2}p_{0}}^{h_{4}h_{5}}t2_{p_{1}p_{3}}^{h_{6}h_{7}}\n + -0.125 * \\Phi_{h_{5}h_{4}}^{p_{0}p_{1}}v_{h_{7}h_{6}}^{p_{2}p_{3}}t2_{p_{3}p_{0}}^{h_{4}h_{5}}t2_{p_{1}p_{2}}^{h_{6}h_{7}}\n + 0.0625 * \\Phi_{h_{5}h_{4}}^{p_{0}p_{1}}v_{h_{6}h_{7}}^{p_{2}p_{3}}t2_{p_{2}p_{0}}^{h_{4}h_{5}}t2_{p_{3}p_{1}}^{h_{6}h_{7}}\n + -0.125 * \\Phi_{h_{5}h_{4}}^{p_{0}p_{1}}v_{h_{6}h_{7}}^{p_{2}p_{3}}t2_{p_{3}p_{0}}^{h_{4}h_{5}}t2_{p_{2}p_{1}}^{h_{6}h_{7}}\n + -0.125 * \\Phi_{h_{5}h_{4}}^{p_{0}p_{1}}v_{h_{7}h_{6}}^{p_{2}p_{3}}t2_{p_{2}p_{0}}^{h_{4}h_{5}}t2_{p_{3}p_{1}}^{h_{6}h_{7}}\n + 0.0625 * \\Phi_{h_{5}h_{4}}^{p_{0}p_{1}}v_{h_{7}h_{6}}^{p_{2}p_{3}}t2_{p_{3}p_{0}}^{h_{4}h_{5}}t2_{p_{2}p_{1}}^{h_{6}h_{7}}\n + -0.125 * \\Phi_{h_{5}h_{4}}^{p_{0}p_{1}}v_{h_{6}h_{7}}^{p_{2}p_{3}}t2_{p_{1}p_{2}}^{h_{4}h_{5}}t2_{p_{0}p_{3}}^{h_{6}h_{7}}\n + 0.0625 * \\Phi_{h_{5}h_{4}}^{p_{0}p_{1}}v_{h_{6}h_{7}}^{p_{2}p_{3}}t2_{p_{1}p_{3}}^{h_{4}h_{5}}t2_{p_{0}p_{2}}^{h_{6}h_{7}}\n + 0.0625 * \\Phi_{h_{5}h_{4}}^{p_{0}p_{1}}v_{h_{7}h_{6}}^{p_{2}p_{3}}t2_{p_{1}p_{2}}^{h_{4}h_{5}}t2_{p_{0}p_{3}}^{h_{6}h_{7}}\n + -0.125 * \\Phi_{h_{5}h_{4}}^{p_{0}p_{1}}v_{h_{7}h_{6}}^{p_{2}p_{3}}t2_{p_{1}p_{3}}^{h_{4}h_{5}}t2_{p_{0}p_{2}}^{h_{6}h_{7}}\n + 0.0625 * \\Phi_{h_{5}h_{4}}^{p_{0}p_{1}}v_{h_{6}h_{7}}^{p_{2}p_{3}}t2_{p_{2}p_{1}}^{h_{4}h_{5}}t2_{p_{0}p_{3}}^{h_{6}h_{7}}\n + -0.03125 * \\Phi_{h_{5}h_{4}}^{p_{0}p_{1}}v_{h_{6}h_{7}}^{p_{2}p_{3}}t2_{p_{3}p_{1}}^{h_{4}h_{5}}t2_{p_{0}p_{2}}^{h_{6}h_{7}}\n + -0.03125 * \\Phi_{h_{5}h_{4}}^{p_{0}p_{1}}v_{h_{7}h_{6}}^{p_{2}p_{3}}t2_{p_{2}p_{1}}^{h_{4}h_{5}}t2_{p_{0}p_{3}}^{h_{6}h_{7}}\n + 0.0625 * \\Phi_{h_{5}h_{4}}^{p_{0}p_{1}}v_{h_{7}h_{6}}^{p_{2}p_{3}}t2_{p_{3}p_{1}}^{h_{4}h_{5}}t2_{p_{0}p_{2}}^{h_{6}h_{7}}\n + -0.03125 * \\Phi_{h_{5}h_{4}}^{p_{0}p_{1}}v_{h_{6}h_{7}}^{p_{2}p_{3}}t2_{p_{2}p_{3}}^{h_{4}h_{5}}t2_{p_{0}p_{1}}^{h_{6}h_{7}}\n + 0.0625 * \\Phi_{h_{5}h_{4}}^{p_{0}p_{1}}v_{h_{6}h_{7}}^{p_{2}p_{3}}t2_{p_{3}p_{2}}^{h_{4}h_{5}}t2_{p_{0}p_{1}}^{h_{6}h_{7}}\n + 0.0625 * \\Phi_{h_{5}h_{4}}^{p_{0}p_{1}}v_{h_{7}h_{6}}^{p_{2}p_{3}}t2_{p_{2}p_{3}}^{h_{4}h_{5}}t2_{p_{0}p_{1}}^{h_{6}h_{7}}\n + -0.03125 * \\Phi_{h_{5}h_{4}}^{p_{0}p_{1}}v_{h_{7}h_{6}}^{p_{2}p_{3}}t2_{p_{3}p_{2}}^{h_{4}h_{5}}t2_{p_{0}p_{1}}^{h_{6}h_{7}}\n + 0.0625 * \\Phi_{h_{5}h_{4}}^{p_{0}p_{1}}v_{h_{6}h_{7}}^{p_{2}p_{3}}t2_{p_{1}p_{2}}^{h_{4}h_{5}}t2_{p_{3}p_{0}}^{h_{6}h_{7}}\n + -0.125 * \\Phi_{h_{5}h_{4}}^{p_{0}p_{1}}v_{h_{6}h_{7}}^{p_{2}p_{3}}t2_{p_{1}p_{3}}^{h_{4}h_{5}}t2_{p_{2}p_{0}}^{h_{6}h_{7}}\n + -0.125 * \\Phi_{h_{5}h_{4}}^{p_{0}p_{1}}v_{h_{7}h_{6}}^{p_{2}p_{3}}t2_{p_{1}p_{2}}^{h_{4}h_{5}}t2_{p_{3}p_{0}}^{h_{6}h_{7}}\n + 0.0625 * \\Phi_{h_{5}h_{4}}^{p_{0}p_{1}}v_{h_{7}h_{6}}^{p_{2}p_{3}}t2_{p_{1}p_{3}}^{h_{4}h_{5}}t2_{p_{2}p_{0}}^{h_{6}h_{7}}\n + -0.03125 * \\Phi_{h_{5}h_{4}}^{p_{0}p_{1}}v_{h_{6}h_{7}}^{p_{2}p_{3}}t2_{p_{2}p_{1}}^{h_{4}h_{5}}t2_{p_{3}p_{0}}^{h_{6}h_{7}}\n + 0.0625 * \\Phi_{h_{5}h_{4}}^{p_{0}p_{1}}v_{h_{6}h_{7}}^{p_{2}p_{3}}t2_{p_{3}p_{1}}^{h_{4}h_{5}}t2_{p_{2}p_{0}}^{h_{6}h_{7}}\n + 0.0625 * \\Phi_{h_{5}h_{4}}^{p_{0}p_{1}}v_{h_{7}h_{6}}^{p_{2}p_{3}}t2_{p_{2}p_{1}}^{h_{4}h_{5}}t2_{p_{3}p_{0}}^{h_{6}h_{7}}\n + -0.03125 * \\Phi_{h_{5}h_{4}}^{p_{0}p_{1}}v_{h_{7}h_{6}}^{p_{2}p_{3}}t2_{p_{3}p_{1}}^{h_{4}h_{5}}t2_{p_{2}p_{0}}^{h_{6}h_{7}}\n + 0.0625 * \\Phi_{h_{5}h_{4}}^{p_{0}p_{1}}v_{h_{6}h_{7}}^{p_{2}p_{3}}t2_{p_{2}p_{3}}^{h_{4}h_{5}}t2_{p_{1}p_{0}}^{h_{6}h_{7}}\n + -0.03125 * \\Phi_{h_{5}h_{4}}^{p_{0}p_{1}}v_{h_{6}h_{7}}^{p_{2}p_{3}}t2_{p_{3}p_{2}}^{h_{4}h_{5}}t2_{p_{1}p_{0}}^{h_{6}h_{7}}\n + -0.03125 * \\Phi_{h_{5}h_{4}}^{p_{0}p_{1}}v_{h_{7}h_{6}}^{p_{2}p_{3}}t2_{p_{2}p_{3}}^{h_{4}h_{5}}t2_{p_{1}p_{0}}^{h_{6}h_{7}}\n + 0.0625 * \\Phi_{h_{5}h_{4}}^{p_{0}p_{1}}v_{h_{7}h_{6}}^{p_{2}p_{3}}t2_{p_{3}p_{2}}^{h_{4}h_{5}}t2_{p_{1}p_{0}}^{h_{6}h_{7}}\n + 0.0625 * \\Phi_{h_{5}h_{6}}^{p_{0}p_{1}}v_{h_{4}h_{7}}^{p_{2}p_{3}}t2_{p_{0}p_{1}}^{h_{4}h_{5}}t2_{p_{2}p_{3}}^{h_{6}h_{7}}\n + -0.03125 * \\Phi_{h_{5}h_{6}}^{p_{0}p_{1}}v_{h_{4}h_{7}}^{p_{2}p_{3}}t2_{p_{0}p_{1}}^{h_{4}h_{5}}t2_{p_{3}p_{2}}^{h_{6}h_{7}}\n + -0.03125 * \\Phi_{h_{5}h_{6}}^{p_{0}p_{1}}v_{h_{7}h_{4}}^{p_{2}p_{3}}t2_{p_{0}p_{1}}^{h_{4}h_{5}}t2_{p_{2}p_{3}}^{h_{6}h_{7}}\n + 0.0625 * \\Phi_{h_{5}h_{6}}^{p_{0}p_{1}}v_{h_{7}h_{4}}^{p_{2}p_{3}}t2_{p_{0}p_{1}}^{h_{4}h_{5}}t2_{p_{3}p_{2}}^{h_{6}h_{7}}\n + -0.03125 * \\Phi_{h_{5}h_{6}}^{p_{0}p_{1}}v_{h_{4}h_{7}}^{p_{2}p_{3}}t2_{p_{0}p_{2}}^{h_{4}h_{5}}t2_{p_{1}p_{3}}^{h_{6}h_{7}}\n + 0.0625 * \\Phi_{h_{5}h_{6}}^{p_{0}p_{1}}v_{h_{4}h_{7}}^{p_{2}p_{3}}t2_{p_{0}p_{3}}^{h_{4}h_{5}}t2_{p_{1}p_{2}}^{h_{6}h_{7}}\n + 0.0625 * \\Phi_{h_{5}h_{6}}^{p_{0}p_{1}}v_{h_{7}h_{4}}^{p_{2}p_{3}}t2_{p_{0}p_{2}}^{h_{4}h_{5}}t2_{p_{1}p_{3}}^{h_{6}h_{7}}\n + -0.03125 * \\Phi_{h_{5}h_{6}}^{p_{0}p_{1}}v_{h_{7}h_{4}}^{p_{2}p_{3}}t2_{p_{0}p_{3}}^{h_{4}h_{5}}t2_{p_{1}p_{2}}^{h_{6}h_{7}}\n + 0.0625 * \\Phi_{h_{5}h_{6}}^{p_{0}p_{1}}v_{h_{4}h_{7}}^{p_{2}p_{3}}t2_{p_{0}p_{2}}^{h_{4}h_{5}}t2_{p_{3}p_{1}}^{h_{6}h_{7}}\n + -0.125 * \\Phi_{h_{5}h_{6}}^{p_{0}p_{1}}v_{h_{4}h_{7}}^{p_{2}p_{3}}t2_{p_{0}p_{3}}^{h_{4}h_{5}}t2_{p_{2}p_{1}}^{h_{6}h_{7}}\n + -0.125 * \\Phi_{h_{5}h_{6}}^{p_{0}p_{1}}v_{h_{7}h_{4}}^{p_{2}p_{3}}t2_{p_{0}p_{2}}^{h_{4}h_{5}}t2_{p_{3}p_{1}}^{h_{6}h_{7}}\n + 0.0625 * \\Phi_{h_{5}h_{6}}^{p_{0}p_{1}}v_{h_{7}h_{4}}^{p_{2}p_{3}}t2_{p_{0}p_{3}}^{h_{4}h_{5}}t2_{p_{2}p_{1}}^{h_{6}h_{7}}\n + -0.125 * \\Phi_{h_{5}h_{6}}^{p_{0}p_{1}}v_{h_{4}h_{7}}^{p_{2}p_{3}}t2_{p_{1}p_{0}}^{h_{4}h_{5}}t2_{p_{2}p_{3}}^{h_{6}h_{7}}\n + 0.0625 * \\Phi_{h_{5}h_{6}}^{p_{0}p_{1}}v_{h_{4}h_{7}}^{p_{2}p_{3}}t2_{p_{1}p_{0}}^{h_{4}h_{5}}t2_{p_{3}p_{2}}^{h_{6}h_{7}}\n + 0.0625 * \\Phi_{h_{5}h_{6}}^{p_{0}p_{1}}v_{h_{7}h_{4}}^{p_{2}p_{3}}t2_{p_{1}p_{0}}^{h_{4}h_{5}}t2_{p_{2}p_{3}}^{h_{6}h_{7}}\n + -0.125 * \\Phi_{h_{5}h_{6}}^{p_{0}p_{1}}v_{h_{7}h_{4}}^{p_{2}p_{3}}t2_{p_{1}p_{0}}^{h_{4}h_{5}}t2_{p_{3}p_{2}}^{h_{6}h_{7}}\n + 0.0625 * \\Phi_{h_{5}h_{6}}^{p_{0}p_{1}}v_{h_{4}h_{7}}^{p_{2}p_{3}}t2_{p_{2}p_{0}}^{h_{4}h_{5}}t2_{p_{1}p_{3}}^{h_{6}h_{7}}\n + -0.03125 * \\Phi_{h_{5}h_{6}}^{p_{0}p_{1}}v_{h_{4}h_{7}}^{p_{2}p_{3}}t2_{p_{3}p_{0}}^{h_{4}h_{5}}t2_{p_{1}p_{2}}^{h_{6}h_{7}}\n + -0.03125 * \\Phi_{h_{5}h_{6}}^{p_{0}p_{1}}v_{h_{7}h_{4}}^{p_{2}p_{3}}t2_{p_{2}p_{0}}^{h_{4}h_{5}}t2_{p_{1}p_{3}}^{h_{6}h_{7}}\n + 0.0625 * \\Phi_{h_{5}h_{6}}^{p_{0}p_{1}}v_{h_{7}h_{4}}^{p_{2}p_{3}}t2_{p_{3}p_{0}}^{h_{4}h_{5}}t2_{p_{1}p_{2}}^{h_{6}h_{7}}\n + -0.03125 * \\Phi_{h_{5}h_{6}}^{p_{0}p_{1}}v_{h_{4}h_{7}}^{p_{2}p_{3}}t2_{p_{2}p_{0}}^{h_{4}h_{5}}t2_{p_{3}p_{1}}^{h_{6}h_{7}}\n + 0.0625 * \\Phi_{h_{5}h_{6}}^{p_{0}p_{1}}v_{h_{4}h_{7}}^{p_{2}p_{3}}t2_{p_{3}p_{0}}^{h_{4}h_{5}}t2_{p_{2}p_{1}}^{h_{6}h_{7}}\n + 0.0625 * \\Phi_{h_{5}h_{6}}^{p_{0}p_{1}}v_{h_{7}h_{4}}^{p_{2}p_{3}}t2_{p_{2}p_{0}}^{h_{4}h_{5}}t2_{p_{3}p_{1}}^{h_{6}h_{7}}\n + -0.03125 * \\Phi_{h_{5}h_{6}}^{p_{0}p_{1}}v_{h_{7}h_{4}}^{p_{2}p_{3}}t2_{p_{3}p_{0}}^{h_{4}h_{5}}t2_{p_{2}p_{1}}^{h_{6}h_{7}}\n + 0.0625 * \\Phi_{h_{5}h_{6}}^{p_{0}p_{1}}v_{h_{4}h_{7}}^{p_{2}p_{3}}t2_{p_{1}p_{2}}^{h_{4}h_{5}}t2_{p_{0}p_{3}}^{h_{6}h_{7}}\n + -0.125 * \\Phi_{h_{5}h_{6}}^{p_{0}p_{1}}v_{h_{4}h_{7}}^{p_{2}p_{3}}t2_{p_{1}p_{3}}^{h_{4}h_{5}}t2_{p_{0}p_{2}}^{h_{6}h_{7}}\n + -0.125 * \\Phi_{h_{5}h_{6}}^{p_{0}p_{1}}v_{h_{7}h_{4}}^{p_{2}p_{3}}t2_{p_{1}p_{2}}^{h_{4}h_{5}}t2_{p_{0}p_{3}}^{h_{6}h_{7}}\n + 0.0625 * \\Phi_{h_{5}h_{6}}^{p_{0}p_{1}}v_{h_{7}h_{4}}^{p_{2}p_{3}}t2_{p_{1}p_{3}}^{h_{4}h_{5}}t2_{p_{0}p_{2}}^{h_{6}h_{7}}\n + -0.03125 * \\Phi_{h_{5}h_{6}}^{p_{0}p_{1}}v_{h_{4}h_{7}}^{p_{2}p_{3}}t2_{p_{2}p_{1}}^{h_{4}h_{5}}t2_{p_{0}p_{3}}^{h_{6}h_{7}}\n + 0.0625 * \\Phi_{h_{5}h_{6}}^{p_{0}p_{1}}v_{h_{4}h_{7}}^{p_{2}p_{3}}t2_{p_{3}p_{1}}^{h_{4}h_{5}}t2_{p_{0}p_{2}}^{h_{6}h_{7}}\n + 0.0625 * \\Phi_{h_{5}h_{6}}^{p_{0}p_{1}}v_{h_{7}h_{4}}^{p_{2}p_{3}}t2_{p_{2}p_{1}}^{h_{4}h_{5}}t2_{p_{0}p_{3}}^{h_{6}h_{7}}\n + -0.03125 * \\Phi_{h_{5}h_{6}}^{p_{0}p_{1}}v_{h_{7}h_{4}}^{p_{2}p_{3}}t2_{p_{3}p_{1}}^{h_{4}h_{5}}t2_{p_{0}p_{2}}^{h_{6}h_{7}}\n + 0.0625 * \\Phi_{h_{5}h_{6}}^{p_{0}p_{1}}v_{h_{4}h_{7}}^{p_{2}p_{3}}t2_{p_{2}p_{3}}^{h_{4}h_{5}}t2_{p_{0}p_{1}}^{h_{6}h_{7}}\n + -0.03125 * \\Phi_{h_{5}h_{6}}^{p_{0}p_{1}}v_{h_{4}h_{7}}^{p_{2}p_{3}}t2_{p_{3}p_{2}}^{h_{4}h_{5}}t2_{p_{0}p_{1}}^{h_{6}h_{7}}\n + -0.03125 * \\Phi_{h_{5}h_{6}}^{p_{0}p_{1}}v_{h_{7}h_{4}}^{p_{2}p_{3}}t2_{p_{2}p_{3}}^{h_{4}h_{5}}t2_{p_{0}p_{1}}^{h_{6}h_{7}}\n + 0.0625 * \\Phi_{h_{5}h_{6}}^{p_{0}p_{1}}v_{h_{7}h_{4}}^{p_{2}p_{3}}t2_{p_{3}p_{2}}^{h_{4}h_{5}}t2_{p_{0}p_{1}}^{h_{6}h_{7}}\n + -0.125 * \\Phi_{h_{5}h_{6}}^{p_{0}p_{1}}v_{h_{4}h_{7}}^{p_{2}p_{3}}t2_{p_{1}p_{2}}^{h_{4}h_{5}}t2_{p_{3}p_{0}}^{h_{6}h_{7}}\n + 0.25 * \\Phi_{h_{5}h_{6}}^{p_{0}p_{1}}v_{h_{4}h_{7}}^{p_{2}p_{3}}t2_{p_{1}p_{3}}^{h_{4}h_{5}}t2_{p_{2}p_{0}}^{h_{6}h_{7}}\n + 0.25 * \\Phi_{h_{5}h_{6}}^{p_{0}p_{1}}v_{h_{7}h_{4}}^{p_{2}p_{3}}t2_{p_{1}p_{2}}^{h_{4}h_{5}}t2_{p_{3}p_{0}}^{h_{6}h_{7}}\n + -0.125 * \\Phi_{h_{5}h_{6}}^{p_{0}p_{1}}v_{h_{7}h_{4}}^{p_{2}p_{3}}t2_{p_{1}p_{3}}^{h_{4}h_{5}}t2_{p_{2}p_{0}}^{h_{6}h_{7}}\n + 0.0625 * \\Phi_{h_{5}h_{6}}^{p_{0}p_{1}}v_{h_{4}h_{7}}^{p_{2}p_{3}}t2_{p_{2}p_{1}}^{h_{4}h_{5}}t2_{p_{3}p_{0}}^{h_{6}h_{7}}\n + -0.125 * \\Phi_{h_{5}h_{6}}^{p_{0}p_{1}}v_{h_{4}h_{7}}^{p_{2}p_{3}}t2_{p_{3}p_{1}}^{h_{4}h_{5}}t2_{p_{2}p_{0}}^{h_{6}h_{7}}\n + -0.125 * \\Phi_{h_{5}h_{6}}^{p_{0}p_{1}}v_{h_{7}h_{4}}^{p_{2}p_{3}}t2_{p_{2}p_{1}}^{h_{4}h_{5}}t2_{p_{3}p_{0}}^{h_{6}h_{7}}\n + 0.0625 * \\Phi_{h_{5}h_{6}}^{p_{0}p_{1}}v_{h_{7}h_{4}}^{p_{2}p_{3}}t2_{p_{3}p_{1}}^{h_{4}h_{5}}t2_{p_{2}p_{0}}^{h_{6}h_{7}}\n + -0.125 * \\Phi_{h_{5}h_{6}}^{p_{0}p_{1}}v_{h_{4}h_{7}}^{p_{2}p_{3}}t2_{p_{2}p_{3}}^{h_{4}h_{5}}t2_{p_{1}p_{0}}^{h_{6}h_{7}}\n + 0.0625 * \\Phi_{h_{5}h_{6}}^{p_{0}p_{1}}v_{h_{4}h_{7}}^{p_{2}p_{3}}t2_{p_{3}p_{2}}^{h_{4}h_{5}}t2_{p_{1}p_{0}}^{h_{6}h_{7}}\n + 0.0625 * \\Phi_{h_{5}h_{6}}^{p_{0}p_{1}}v_{h_{7}h_{4}}^{p_{2}p_{3}}t2_{p_{2}p_{3}}^{h_{4}h_{5}}t2_{p_{1}p_{0}}^{h_{6}h_{7}}\n + -0.125 * \\Phi_{h_{5}h_{6}}^{p_{0}p_{1}}v_{h_{7}h_{4}}^{p_{2}p_{3}}t2_{p_{3}p_{2}}^{h_{4}h_{5}}t2_{p_{1}p_{0}}^{h_{6}h_{7}}\n + -0.03125 * \\Phi_{h_{5}h_{7}}^{p_{0}p_{1}}v_{h_{4}h_{6}}^{p_{2}p_{3}}t2_{p_{0}p_{1}}^{h_{4}h_{5}}t2_{p_{2}p_{3}}^{h_{6}h_{7}}\n + 0.0625 * \\Phi_{h_{5}h_{7}}^{p_{0}p_{1}}v_{h_{4}h_{6}}^{p_{2}p_{3}}t2_{p_{0}p_{1}}^{h_{4}h_{5}}t2_{p_{3}p_{2}}^{h_{6}h_{7}}\n + 0.0625 * \\Phi_{h_{5}h_{7}}^{p_{0}p_{1}}v_{h_{6}h_{4}}^{p_{2}p_{3}}t2_{p_{0}p_{1}}^{h_{4}h_{5}}t2_{p_{2}p_{3}}^{h_{6}h_{7}}\n + -0.03125 * \\Phi_{h_{5}h_{7}}^{p_{0}p_{1}}v_{h_{6}h_{4}}^{p_{2}p_{3}}t2_{p_{0}p_{1}}^{h_{4}h_{5}}t2_{p_{3}p_{2}}^{h_{6}h_{7}}\n + 0.0625 * \\Phi_{h_{5}h_{7}}^{p_{0}p_{1}}v_{h_{4}h_{6}}^{p_{2}p_{3}}t2_{p_{0}p_{2}}^{h_{4}h_{5}}t2_{p_{1}p_{3}}^{h_{6}h_{7}}\n + -0.125 * \\Phi_{h_{5}h_{7}}^{p_{0}p_{1}}v_{h_{4}h_{6}}^{p_{2}p_{3}}t2_{p_{0}p_{3}}^{h_{4}h_{5}}t2_{p_{1}p_{2}}^{h_{6}h_{7}}\n + -0.125 * \\Phi_{h_{5}h_{7}}^{p_{0}p_{1}}v_{h_{6}h_{4}}^{p_{2}p_{3}}t2_{p_{0}p_{2}}^{h_{4}h_{5}}t2_{p_{1}p_{3}}^{h_{6}h_{7}}\n + 0.0625 * \\Phi_{h_{5}h_{7}}^{p_{0}p_{1}}v_{h_{6}h_{4}}^{p_{2}p_{3}}t2_{p_{0}p_{3}}^{h_{4}h_{5}}t2_{p_{1}p_{2}}^{h_{6}h_{7}}\n + -0.03125 * \\Phi_{h_{5}h_{7}}^{p_{0}p_{1}}v_{h_{4}h_{6}}^{p_{2}p_{3}}t2_{p_{0}p_{2}}^{h_{4}h_{5}}t2_{p_{3}p_{1}}^{h_{6}h_{7}}\n + 0.0625 * \\Phi_{h_{5}h_{7}}^{p_{0}p_{1}}v_{h_{4}h_{6}}^{p_{2}p_{3}}t2_{p_{0}p_{3}}^{h_{4}h_{5}}t2_{p_{2}p_{1}}^{h_{6}h_{7}}\n + 0.0625 * \\Phi_{h_{5}h_{7}}^{p_{0}p_{1}}v_{h_{6}h_{4}}^{p_{2}p_{3}}t2_{p_{0}p_{2}}^{h_{4}h_{5}}t2_{p_{3}p_{1}}^{h_{6}h_{7}}\n + -0.03125 * \\Phi_{h_{5}h_{7}}^{p_{0}p_{1}}v_{h_{6}h_{4}}^{p_{2}p_{3}}t2_{p_{0}p_{3}}^{h_{4}h_{5}}t2_{p_{2}p_{1}}^{h_{6}h_{7}}\n + 0.0625 * \\Phi_{h_{5}h_{7}}^{p_{0}p_{1}}v_{h_{4}h_{6}}^{p_{2}p_{3}}t2_{p_{1}p_{0}}^{h_{4}h_{5}}t2_{p_{2}p_{3}}^{h_{6}h_{7}}\n + -0.125 * \\Phi_{h_{5}h_{7}}^{p_{0}p_{1}}v_{h_{4}h_{6}}^{p_{2}p_{3}}t2_{p_{1}p_{0}}^{h_{4}h_{5}}t2_{p_{3}p_{2}}^{h_{6}h_{7}}\n + -0.125 * \\Phi_{h_{5}h_{7}}^{p_{0}p_{1}}v_{h_{6}h_{4}}^{p_{2}p_{3}}t2_{p_{1}p_{0}}^{h_{4}h_{5}}t2_{p_{2}p_{3}}^{h_{6}h_{7}}\n + 0.0625 * \\Phi_{h_{5}h_{7}}^{p_{0}p_{1}}v_{h_{6}h_{4}}^{p_{2}p_{3}}t2_{p_{1}p_{0}}^{h_{4}h_{5}}t2_{p_{3}p_{2}}^{h_{6}h_{7}}\n + -0.03125 * \\Phi_{h_{5}h_{7}}^{p_{0}p_{1}}v_{h_{4}h_{6}}^{p_{2}p_{3}}t2_{p_{2}p_{0}}^{h_{4}h_{5}}t2_{p_{1}p_{3}}^{h_{6}h_{7}}\n + 0.0625 * \\Phi_{h_{5}h_{7}}^{p_{0}p_{1}}v_{h_{4}h_{6}}^{p_{2}p_{3}}t2_{p_{3}p_{0}}^{h_{4}h_{5}}t2_{p_{1}p_{2}}^{h_{6}h_{7}}\n + 0.0625 * \\Phi_{h_{5}h_{7}}^{p_{0}p_{1}}v_{h_{6}h_{4}}^{p_{2}p_{3}}t2_{p_{2}p_{0}}^{h_{4}h_{5}}t2_{p_{1}p_{3}}^{h_{6}h_{7}}\n + -0.03125 * \\Phi_{h_{5}h_{7}}^{p_{0}p_{1}}v_{h_{6}h_{4}}^{p_{2}p_{3}}t2_{p_{3}p_{0}}^{h_{4}h_{5}}t2_{p_{1}p_{2}}^{h_{6}h_{7}}\n + 0.0625 * \\Phi_{h_{5}h_{7}}^{p_{0}p_{1}}v_{h_{4}h_{6}}^{p_{2}p_{3}}t2_{p_{2}p_{0}}^{h_{4}h_{5}}t2_{p_{3}p_{1}}^{h_{6}h_{7}}\n + -0.03125 * \\Phi_{h_{5}h_{7}}^{p_{0}p_{1}}v_{h_{4}h_{6}}^{p_{2}p_{3}}t2_{p_{3}p_{0}}^{h_{4}h_{5}}t2_{p_{2}p_{1}}^{h_{6}h_{7}}\n + -0.03125 * \\Phi_{h_{5}h_{7}}^{p_{0}p_{1}}v_{h_{6}h_{4}}^{p_{2}p_{3}}t2_{p_{2}p_{0}}^{h_{4}h_{5}}t2_{p_{3}p_{1}}^{h_{6}h_{7}}\n + 0.0625 * \\Phi_{h_{5}h_{7}}^{p_{0}p_{1}}v_{h_{6}h_{4}}^{p_{2}p_{3}}t2_{p_{3}p_{0}}^{h_{4}h_{5}}t2_{p_{2}p_{1}}^{h_{6}h_{7}}\n + -0.125 * \\Phi_{h_{5}h_{7}}^{p_{0}p_{1}}v_{h_{4}h_{6}}^{p_{2}p_{3}}t2_{p_{1}p_{2}}^{h_{4}h_{5}}t2_{p_{0}p_{3}}^{h_{6}h_{7}}\n + 0.25 * \\Phi_{h_{5}h_{7}}^{p_{0}p_{1}}v_{h_{4}h_{6}}^{p_{2}p_{3}}t2_{p_{1}p_{3}}^{h_{4}h_{5}}t2_{p_{0}p_{2}}^{h_{6}h_{7}}\n + 0.25 * \\Phi_{h_{5}h_{7}}^{p_{0}p_{1}}v_{h_{6}h_{4}}^{p_{2}p_{3}}t2_{p_{1}p_{2}}^{h_{4}h_{5}}t2_{p_{0}p_{3}}^{h_{6}h_{7}}\n + -0.125 * \\Phi_{h_{5}h_{7}}^{p_{0}p_{1}}v_{h_{6}h_{4}}^{p_{2}p_{3}}t2_{p_{1}p_{3}}^{h_{4}h_{5}}t2_{p_{0}p_{2}}^{h_{6}h_{7}}\n + 0.0625 * \\Phi_{h_{5}h_{7}}^{p_{0}p_{1}}v_{h_{4}h_{6}}^{p_{2}p_{3}}t2_{p_{2}p_{1}}^{h_{4}h_{5}}t2_{p_{0}p_{3}}^{h_{6}h_{7}}\n + -0.125 * \\Phi_{h_{5}h_{7}}^{p_{0}p_{1}}v_{h_{4}h_{6}}^{p_{2}p_{3}}t2_{p_{3}p_{1}}^{h_{4}h_{5}}t2_{p_{0}p_{2}}^{h_{6}h_{7}}\n + -0.125 * \\Phi_{h_{5}h_{7}}^{p_{0}p_{1}}v_{h_{6}h_{4}}^{p_{2}p_{3}}t2_{p_{2}p_{1}}^{h_{4}h_{5}}t2_{p_{0}p_{3}}^{h_{6}h_{7}}\n + 0.0625 * \\Phi_{h_{5}h_{7}}^{p_{0}p_{1}}v_{h_{6}h_{4}}^{p_{2}p_{3}}t2_{p_{3}p_{1}}^{h_{4}h_{5}}t2_{p_{0}p_{2}}^{h_{6}h_{7}}\n + -0.125 * \\Phi_{h_{5}h_{7}}^{p_{0}p_{1}}v_{h_{4}h_{6}}^{p_{2}p_{3}}t2_{p_{2}p_{3}}^{h_{4}h_{5}}t2_{p_{0}p_{1}}^{h_{6}h_{7}}\n + 0.0625 * \\Phi_{h_{5}h_{7}}^{p_{0}p_{1}}v_{h_{4}h_{6}}^{p_{2}p_{3}}t2_{p_{3}p_{2}}^{h_{4}h_{5}}t2_{p_{0}p_{1}}^{h_{6}h_{7}}\n + 0.0625 * \\Phi_{h_{5}h_{7}}^{p_{0}p_{1}}v_{h_{6}h_{4}}^{p_{2}p_{3}}t2_{p_{2}p_{3}}^{h_{4}h_{5}}t2_{p_{0}p_{1}}^{h_{6}h_{7}}\n + -0.125 * \\Phi_{h_{5}h_{7}}^{p_{0}p_{1}}v_{h_{6}h_{4}}^{p_{2}p_{3}}t2_{p_{3}p_{2}}^{h_{4}h_{5}}t2_{p_{0}p_{1}}^{h_{6}h_{7}}\n + 0.0625 * \\Phi_{h_{5}h_{7}}^{p_{0}p_{1}}v_{h_{4}h_{6}}^{p_{2}p_{3}}t2_{p_{1}p_{2}}^{h_{4}h_{5}}t2_{p_{3}p_{0}}^{h_{6}h_{7}}\n + -0.125 * \\Phi_{h_{5}h_{7}}^{p_{0}p_{1}}v_{h_{4}h_{6}}^{p_{2}p_{3}}t2_{p_{1}p_{3}}^{h_{4}h_{5}}t2_{p_{2}p_{0}}^{h_{6}h_{7}}\n + -0.125 * \\Phi_{h_{5}h_{7}}^{p_{0}p_{1}}v_{h_{6}h_{4}}^{p_{2}p_{3}}t2_{p_{1}p_{2}}^{h_{4}h_{5}}t2_{p_{3}p_{0}}^{h_{6}h_{7}}\n + 0.0625 * \\Phi_{h_{5}h_{7}}^{p_{0}p_{1}}v_{h_{6}h_{4}}^{p_{2}p_{3}}t2_{p_{1}p_{3}}^{h_{4}h_{5}}t2_{p_{2}p_{0}}^{h_{6}h_{7}}\n + -0.03125 * \\Phi_{h_{5}h_{7}}^{p_{0}p_{1}}v_{h_{4}h_{6}}^{p_{2}p_{3}}t2_{p_{2}p_{1}}^{h_{4}h_{5}}t2_{p_{3}p_{0}}^{h_{6}h_{7}}\n + 0.0625 * \\Phi_{h_{5}h_{7}}^{p_{0}p_{1}}v_{h_{4}h_{6}}^{p_{2}p_{3}}t2_{p_{3}p_{1}}^{h_{4}h_{5}}t2_{p_{2}p_{0}}^{h_{6}h_{7}}\n + 0.0625 * \\Phi_{h_{5}h_{7}}^{p_{0}p_{1}}v_{h_{6}h_{4}}^{p_{2}p_{3}}t2_{p_{2}p_{1}}^{h_{4}h_{5}}t2_{p_{3}p_{0}}^{h_{6}h_{7}}\n + -0.03125 * \\Phi_{h_{5}h_{7}}^{p_{0}p_{1}}v_{h_{6}h_{4}}^{p_{2}p_{3}}t2_{p_{3}p_{1}}^{h_{4}h_{5}}t2_{p_{2}p_{0}}^{h_{6}h_{7}}\n + 0.0625 * \\Phi_{h_{5}h_{7}}^{p_{0}p_{1}}v_{h_{4}h_{6}}^{p_{2}p_{3}}t2_{p_{2}p_{3}}^{h_{4}h_{5}}t2_{p_{1}p_{0}}^{h_{6}h_{7}}\n + -0.03125 * \\Phi_{h_{5}h_{7}}^{p_{0}p_{1}}v_{h_{4}h_{6}}^{p_{2}p_{3}}t2_{p_{3}p_{2}}^{h_{4}h_{5}}t2_{p_{1}p_{0}}^{h_{6}h_{7}}\n + -0.03125 * \\Phi_{h_{5}h_{7}}^{p_{0}p_{1}}v_{h_{6}h_{4}}^{p_{2}p_{3}}t2_{p_{2}p_{3}}^{h_{4}h_{5}}t2_{p_{1}p_{0}}^{h_{6}h_{7}}\n + 0.0625 * \\Phi_{h_{5}h_{7}}^{p_{0}p_{1}}v_{h_{6}h_{4}}^{p_{2}p_{3}}t2_{p_{3}p_{2}}^{h_{4}h_{5}}t2_{p_{1}p_{0}}^{h_{6}h_{7}}\n + 0.0625 * \\Phi_{h_{6}h_{4}}^{p_{0}p_{1}}v_{h_{5}h_{7}}^{p_{2}p_{3}}t2_{p_{0}p_{1}}^{h_{4}h_{5}}t2_{p_{2}p_{3}}^{h_{6}h_{7}}\n + -0.03125 * \\Phi_{h_{6}h_{4}}^{p_{0}p_{1}}v_{h_{5}h_{7}}^{p_{2}p_{3}}t2_{p_{0}p_{1}}^{h_{4}h_{5}}t2_{p_{3}p_{2}}^{h_{6}h_{7}}\n + -0.03125 * \\Phi_{h_{6}h_{4}}^{p_{0}p_{1}}v_{h_{7}h_{5}}^{p_{2}p_{3}}t2_{p_{0}p_{1}}^{h_{4}h_{5}}t2_{p_{2}p_{3}}^{h_{6}h_{7}}\n + 0.0625 * \\Phi_{h_{6}h_{4}}^{p_{0}p_{1}}v_{h_{7}h_{5}}^{p_{2}p_{3}}t2_{p_{0}p_{1}}^{h_{4}h_{5}}t2_{p_{3}p_{2}}^{h_{6}h_{7}}\n + -0.03125 * \\Phi_{h_{6}h_{4}}^{p_{0}p_{1}}v_{h_{5}h_{7}}^{p_{2}p_{3}}t2_{p_{0}p_{2}}^{h_{4}h_{5}}t2_{p_{1}p_{3}}^{h_{6}h_{7}}\n + 0.0625 * \\Phi_{h_{6}h_{4}}^{p_{0}p_{1}}v_{h_{5}h_{7}}^{p_{2}p_{3}}t2_{p_{0}p_{3}}^{h_{4}h_{5}}t2_{p_{1}p_{2}}^{h_{6}h_{7}}\n + 0.0625 * \\Phi_{h_{6}h_{4}}^{p_{0}p_{1}}v_{h_{7}h_{5}}^{p_{2}p_{3}}t2_{p_{0}p_{2}}^{h_{4}h_{5}}t2_{p_{1}p_{3}}^{h_{6}h_{7}}\n + -0.03125 * \\Phi_{h_{6}h_{4}}^{p_{0}p_{1}}v_{h_{7}h_{5}}^{p_{2}p_{3}}t2_{p_{0}p_{3}}^{h_{4}h_{5}}t2_{p_{1}p_{2}}^{h_{6}h_{7}}\n + 0.0625 * \\Phi_{h_{6}h_{4}}^{p_{0}p_{1}}v_{h_{5}h_{7}}^{p_{2}p_{3}}t2_{p_{0}p_{2}}^{h_{4}h_{5}}t2_{p_{3}p_{1}}^{h_{6}h_{7}}\n + -0.125 * \\Phi_{h_{6}h_{4}}^{p_{0}p_{1}}v_{h_{5}h_{7}}^{p_{2}p_{3}}t2_{p_{0}p_{3}}^{h_{4}h_{5}}t2_{p_{2}p_{1}}^{h_{6}h_{7}}\n + -0.125 * \\Phi_{h_{6}h_{4}}^{p_{0}p_{1}}v_{h_{7}h_{5}}^{p_{2}p_{3}}t2_{p_{0}p_{2}}^{h_{4}h_{5}}t2_{p_{3}p_{1}}^{h_{6}h_{7}}\n + 0.0625 * \\Phi_{h_{6}h_{4}}^{p_{0}p_{1}}v_{h_{7}h_{5}}^{p_{2}p_{3}}t2_{p_{0}p_{3}}^{h_{4}h_{5}}t2_{p_{2}p_{1}}^{h_{6}h_{7}}\n + -0.125 * \\Phi_{h_{6}h_{4}}^{p_{0}p_{1}}v_{h_{5}h_{7}}^{p_{2}p_{3}}t2_{p_{1}p_{0}}^{h_{4}h_{5}}t2_{p_{2}p_{3}}^{h_{6}h_{7}}\n + 0.0625 * \\Phi_{h_{6}h_{4}}^{p_{0}p_{1}}v_{h_{5}h_{7}}^{p_{2}p_{3}}t2_{p_{1}p_{0}}^{h_{4}h_{5}}t2_{p_{3}p_{2}}^{h_{6}h_{7}}\n + 0.0625 * \\Phi_{h_{6}h_{4}}^{p_{0}p_{1}}v_{h_{7}h_{5}}^{p_{2}p_{3}}t2_{p_{1}p_{0}}^{h_{4}h_{5}}t2_{p_{2}p_{3}}^{h_{6}h_{7}}\n + -0.125 * \\Phi_{h_{6}h_{4}}^{p_{0}p_{1}}v_{h_{7}h_{5}}^{p_{2}p_{3}}t2_{p_{1}p_{0}}^{h_{4}h_{5}}t2_{p_{3}p_{2}}^{h_{6}h_{7}}\n + 0.0625 * \\Phi_{h_{6}h_{4}}^{p_{0}p_{1}}v_{h_{5}h_{7}}^{p_{2}p_{3}}t2_{p_{2}p_{0}}^{h_{4}h_{5}}t2_{p_{1}p_{3}}^{h_{6}h_{7}}\n + -0.125 * \\Phi_{h_{6}h_{4}}^{p_{0}p_{1}}v_{h_{5}h_{7}}^{p_{2}p_{3}}t2_{p_{3}p_{0}}^{h_{4}h_{5}}t2_{p_{1}p_{2}}^{h_{6}h_{7}}\n + -0.125 * \\Phi_{h_{6}h_{4}}^{p_{0}p_{1}}v_{h_{7}h_{5}}^{p_{2}p_{3}}t2_{p_{2}p_{0}}^{h_{4}h_{5}}t2_{p_{1}p_{3}}^{h_{6}h_{7}}\n + 0.0625 * \\Phi_{h_{6}h_{4}}^{p_{0}p_{1}}v_{h_{7}h_{5}}^{p_{2}p_{3}}t2_{p_{3}p_{0}}^{h_{4}h_{5}}t2_{p_{1}p_{2}}^{h_{6}h_{7}}\n + -0.125 * \\Phi_{h_{6}h_{4}}^{p_{0}p_{1}}v_{h_{5}h_{7}}^{p_{2}p_{3}}t2_{p_{2}p_{0}}^{h_{4}h_{5}}t2_{p_{3}p_{1}}^{h_{6}h_{7}}\n + 0.25 * \\Phi_{h_{6}h_{4}}^{p_{0}p_{1}}v_{h_{5}h_{7}}^{p_{2}p_{3}}t2_{p_{3}p_{0}}^{h_{4}h_{5}}t2_{p_{2}p_{1}}^{h_{6}h_{7}}\n + 0.25 * \\Phi_{h_{6}h_{4}}^{p_{0}p_{1}}v_{h_{7}h_{5}}^{p_{2}p_{3}}t2_{p_{2}p_{0}}^{h_{4}h_{5}}t2_{p_{3}p_{1}}^{h_{6}h_{7}}\n + -0.125 * \\Phi_{h_{6}h_{4}}^{p_{0}p_{1}}v_{h_{7}h_{5}}^{p_{2}p_{3}}t2_{p_{3}p_{0}}^{h_{4}h_{5}}t2_{p_{2}p_{1}}^{h_{6}h_{7}}\n + 0.0625 * \\Phi_{h_{6}h_{4}}^{p_{0}p_{1}}v_{h_{5}h_{7}}^{p_{2}p_{3}}t2_{p_{1}p_{2}}^{h_{4}h_{5}}t2_{p_{0}p_{3}}^{h_{6}h_{7}}\n + -0.03125 * \\Phi_{h_{6}h_{4}}^{p_{0}p_{1}}v_{h_{5}h_{7}}^{p_{2}p_{3}}t2_{p_{1}p_{3}}^{h_{4}h_{5}}t2_{p_{0}p_{2}}^{h_{6}h_{7}}\n + -0.03125 * \\Phi_{h_{6}h_{4}}^{p_{0}p_{1}}v_{h_{7}h_{5}}^{p_{2}p_{3}}t2_{p_{1}p_{2}}^{h_{4}h_{5}}t2_{p_{0}p_{3}}^{h_{6}h_{7}}\n + 0.0625 * \\Phi_{h_{6}h_{4}}^{p_{0}p_{1}}v_{h_{7}h_{5}}^{p_{2}p_{3}}t2_{p_{1}p_{3}}^{h_{4}h_{5}}t2_{p_{0}p_{2}}^{h_{6}h_{7}}\n + -0.03125 * \\Phi_{h_{6}h_{4}}^{p_{0}p_{1}}v_{h_{5}h_{7}}^{p_{2}p_{3}}t2_{p_{2}p_{1}}^{h_{4}h_{5}}t2_{p_{0}p_{3}}^{h_{6}h_{7}}\n + 0.0625 * \\Phi_{h_{6}h_{4}}^{p_{0}p_{1}}v_{h_{5}h_{7}}^{p_{2}p_{3}}t2_{p_{3}p_{1}}^{h_{4}h_{5}}t2_{p_{0}p_{2}}^{h_{6}h_{7}}\n + 0.0625 * \\Phi_{h_{6}h_{4}}^{p_{0}p_{1}}v_{h_{7}h_{5}}^{p_{2}p_{3}}t2_{p_{2}p_{1}}^{h_{4}h_{5}}t2_{p_{0}p_{3}}^{h_{6}h_{7}}\n + -0.03125 * \\Phi_{h_{6}h_{4}}^{p_{0}p_{1}}v_{h_{7}h_{5}}^{p_{2}p_{3}}t2_{p_{3}p_{1}}^{h_{4}h_{5}}t2_{p_{0}p_{2}}^{h_{6}h_{7}}\n + 0.0625 * \\Phi_{h_{6}h_{4}}^{p_{0}p_{1}}v_{h_{5}h_{7}}^{p_{2}p_{3}}t2_{p_{2}p_{3}}^{h_{4}h_{5}}t2_{p_{0}p_{1}}^{h_{6}h_{7}}\n + -0.125 * \\Phi_{h_{6}h_{4}}^{p_{0}p_{1}}v_{h_{5}h_{7}}^{p_{2}p_{3}}t2_{p_{3}p_{2}}^{h_{4}h_{5}}t2_{p_{0}p_{1}}^{h_{6}h_{7}}\n + -0.125 * \\Phi_{h_{6}h_{4}}^{p_{0}p_{1}}v_{h_{7}h_{5}}^{p_{2}p_{3}}t2_{p_{2}p_{3}}^{h_{4}h_{5}}t2_{p_{0}p_{1}}^{h_{6}h_{7}}\n + 0.0625 * \\Phi_{h_{6}h_{4}}^{p_{0}p_{1}}v_{h_{7}h_{5}}^{p_{2}p_{3}}t2_{p_{3}p_{2}}^{h_{4}h_{5}}t2_{p_{0}p_{1}}^{h_{6}h_{7}}\n + -0.03125 * \\Phi_{h_{6}h_{4}}^{p_{0}p_{1}}v_{h_{5}h_{7}}^{p_{2}p_{3}}t2_{p_{1}p_{2}}^{h_{4}h_{5}}t2_{p_{3}p_{0}}^{h_{6}h_{7}}\n + 0.0625 * \\Phi_{h_{6}h_{4}}^{p_{0}p_{1}}v_{h_{5}h_{7}}^{p_{2}p_{3}}t2_{p_{1}p_{3}}^{h_{4}h_{5}}t2_{p_{2}p_{0}}^{h_{6}h_{7}}\n + 0.0625 * \\Phi_{h_{6}h_{4}}^{p_{0}p_{1}}v_{h_{7}h_{5}}^{p_{2}p_{3}}t2_{p_{1}p_{2}}^{h_{4}h_{5}}t2_{p_{3}p_{0}}^{h_{6}h_{7}}\n + -0.03125 * \\Phi_{h_{6}h_{4}}^{p_{0}p_{1}}v_{h_{7}h_{5}}^{p_{2}p_{3}}t2_{p_{1}p_{3}}^{h_{4}h_{5}}t2_{p_{2}p_{0}}^{h_{6}h_{7}}\n + 0.0625 * \\Phi_{h_{6}h_{4}}^{p_{0}p_{1}}v_{h_{5}h_{7}}^{p_{2}p_{3}}t2_{p_{2}p_{1}}^{h_{4}h_{5}}t2_{p_{3}p_{0}}^{h_{6}h_{7}}\n + -0.125 * \\Phi_{h_{6}h_{4}}^{p_{0}p_{1}}v_{h_{5}h_{7}}^{p_{2}p_{3}}t2_{p_{3}p_{1}}^{h_{4}h_{5}}t2_{p_{2}p_{0}}^{h_{6}h_{7}}\n + -0.125 * \\Phi_{h_{6}h_{4}}^{p_{0}p_{1}}v_{h_{7}h_{5}}^{p_{2}p_{3}}t2_{p_{2}p_{1}}^{h_{4}h_{5}}t2_{p_{3}p_{0}}^{h_{6}h_{7}}\n + 0.0625 * \\Phi_{h_{6}h_{4}}^{p_{0}p_{1}}v_{h_{7}h_{5}}^{p_{2}p_{3}}t2_{p_{3}p_{1}}^{h_{4}h_{5}}t2_{p_{2}p_{0}}^{h_{6}h_{7}}\n + -0.03125 * \\Phi_{h_{6}h_{4}}^{p_{0}p_{1}}v_{h_{5}h_{7}}^{p_{2}p_{3}}t2_{p_{2}p_{3}}^{h_{4}h_{5}}t2_{p_{1}p_{0}}^{h_{6}h_{7}}\n + 0.0625 * \\Phi_{h_{6}h_{4}}^{p_{0}p_{1}}v_{h_{5}h_{7}}^{p_{2}p_{3}}t2_{p_{3}p_{2}}^{h_{4}h_{5}}t2_{p_{1}p_{0}}^{h_{6}h_{7}}\n + 0.0625 * \\Phi_{h_{6}h_{4}}^{p_{0}p_{1}}v_{h_{7}h_{5}}^{p_{2}p_{3}}t2_{p_{2}p_{3}}^{h_{4}h_{5}}t2_{p_{1}p_{0}}^{h_{6}h_{7}}\n + -0.03125 * \\Phi_{h_{6}h_{4}}^{p_{0}p_{1}}v_{h_{7}h_{5}}^{p_{2}p_{3}}t2_{p_{3}p_{2}}^{h_{4}h_{5}}t2_{p_{1}p_{0}}^{h_{6}h_{7}}\n + -0.125 * \\Phi_{h_{6}h_{5}}^{p_{0}p_{1}}v_{h_{4}h_{7}}^{p_{2}p_{3}}t2_{p_{0}p_{1}}^{h_{4}h_{5}}t2_{p_{2}p_{3}}^{h_{6}h_{7}}\n + 0.0625 * \\Phi_{h_{6}h_{5}}^{p_{0}p_{1}}v_{h_{4}h_{7}}^{p_{2}p_{3}}t2_{p_{0}p_{1}}^{h_{4}h_{5}}t2_{p_{3}p_{2}}^{h_{6}h_{7}}\n + 0.0625 * \\Phi_{h_{6}h_{5}}^{p_{0}p_{1}}v_{h_{7}h_{4}}^{p_{2}p_{3}}t2_{p_{0}p_{1}}^{h_{4}h_{5}}t2_{p_{2}p_{3}}^{h_{6}h_{7}}\n + -0.125 * \\Phi_{h_{6}h_{5}}^{p_{0}p_{1}}v_{h_{7}h_{4}}^{p_{2}p_{3}}t2_{p_{0}p_{1}}^{h_{4}h_{5}}t2_{p_{3}p_{2}}^{h_{6}h_{7}}\n + 0.0625 * \\Phi_{h_{6}h_{5}}^{p_{0}p_{1}}v_{h_{4}h_{7}}^{p_{2}p_{3}}t2_{p_{0}p_{2}}^{h_{4}h_{5}}t2_{p_{1}p_{3}}^{h_{6}h_{7}}\n + -0.125 * \\Phi_{h_{6}h_{5}}^{p_{0}p_{1}}v_{h_{4}h_{7}}^{p_{2}p_{3}}t2_{p_{0}p_{3}}^{h_{4}h_{5}}t2_{p_{1}p_{2}}^{h_{6}h_{7}}\n + -0.125 * \\Phi_{h_{6}h_{5}}^{p_{0}p_{1}}v_{h_{7}h_{4}}^{p_{2}p_{3}}t2_{p_{0}p_{2}}^{h_{4}h_{5}}t2_{p_{1}p_{3}}^{h_{6}h_{7}}\n + 0.0625 * \\Phi_{h_{6}h_{5}}^{p_{0}p_{1}}v_{h_{7}h_{4}}^{p_{2}p_{3}}t2_{p_{0}p_{3}}^{h_{4}h_{5}}t2_{p_{1}p_{2}}^{h_{6}h_{7}}\n + -0.125 * \\Phi_{h_{6}h_{5}}^{p_{0}p_{1}}v_{h_{4}h_{7}}^{p_{2}p_{3}}t2_{p_{0}p_{2}}^{h_{4}h_{5}}t2_{p_{3}p_{1}}^{h_{6}h_{7}}\n + 0.25 * \\Phi_{h_{6}h_{5}}^{p_{0}p_{1}}v_{h_{4}h_{7}}^{p_{2}p_{3}}t2_{p_{0}p_{3}}^{h_{4}h_{5}}t2_{p_{2}p_{1}}^{h_{6}h_{7}}\n + 0.25 * \\Phi_{h_{6}h_{5}}^{p_{0}p_{1}}v_{h_{7}h_{4}}^{p_{2}p_{3}}t2_{p_{0}p_{2}}^{h_{4}h_{5}}t2_{p_{3}p_{1}}^{h_{6}h_{7}}\n + -0.125 * \\Phi_{h_{6}h_{5}}^{p_{0}p_{1}}v_{h_{7}h_{4}}^{p_{2}p_{3}}t2_{p_{0}p_{3}}^{h_{4}h_{5}}t2_{p_{2}p_{1}}^{h_{6}h_{7}}\n + 0.0625 * \\Phi_{h_{6}h_{5}}^{p_{0}p_{1}}v_{h_{4}h_{7}}^{p_{2}p_{3}}t2_{p_{1}p_{0}}^{h_{4}h_{5}}t2_{p_{2}p_{3}}^{h_{6}h_{7}}\n + -0.03125 * \\Phi_{h_{6}h_{5}}^{p_{0}p_{1}}v_{h_{4}h_{7}}^{p_{2}p_{3}}t2_{p_{1}p_{0}}^{h_{4}h_{5}}t2_{p_{3}p_{2}}^{h_{6}h_{7}}\n + -0.03125 * \\Phi_{h_{6}h_{5}}^{p_{0}p_{1}}v_{h_{7}h_{4}}^{p_{2}p_{3}}t2_{p_{1}p_{0}}^{h_{4}h_{5}}t2_{p_{2}p_{3}}^{h_{6}h_{7}}\n + 0.0625 * \\Phi_{h_{6}h_{5}}^{p_{0}p_{1}}v_{h_{7}h_{4}}^{p_{2}p_{3}}t2_{p_{1}p_{0}}^{h_{4}h_{5}}t2_{p_{3}p_{2}}^{h_{6}h_{7}}\n + -0.03125 * \\Phi_{h_{6}h_{5}}^{p_{0}p_{1}}v_{h_{4}h_{7}}^{p_{2}p_{3}}t2_{p_{2}p_{0}}^{h_{4}h_{5}}t2_{p_{1}p_{3}}^{h_{6}h_{7}}\n + 0.0625 * \\Phi_{h_{6}h_{5}}^{p_{0}p_{1}}v_{h_{4}h_{7}}^{p_{2}p_{3}}t2_{p_{3}p_{0}}^{h_{4}h_{5}}t2_{p_{1}p_{2}}^{h_{6}h_{7}}\n + 0.0625 * \\Phi_{h_{6}h_{5}}^{p_{0}p_{1}}v_{h_{7}h_{4}}^{p_{2}p_{3}}t2_{p_{2}p_{0}}^{h_{4}h_{5}}t2_{p_{1}p_{3}}^{h_{6}h_{7}}\n + -0.03125 * \\Phi_{h_{6}h_{5}}^{p_{0}p_{1}}v_{h_{7}h_{4}}^{p_{2}p_{3}}t2_{p_{3}p_{0}}^{h_{4}h_{5}}t2_{p_{1}p_{2}}^{h_{6}h_{7}}\n + 0.0625 * \\Phi_{h_{6}h_{5}}^{p_{0}p_{1}}v_{h_{4}h_{7}}^{p_{2}p_{3}}t2_{p_{2}p_{0}}^{h_{4}h_{5}}t2_{p_{3}p_{1}}^{h_{6}h_{7}}\n + -0.125 * \\Phi_{h_{6}h_{5}}^{p_{0}p_{1}}v_{h_{4}h_{7}}^{p_{2}p_{3}}t2_{p_{3}p_{0}}^{h_{4}h_{5}}t2_{p_{2}p_{1}}^{h_{6}h_{7}}\n + -0.125 * \\Phi_{h_{6}h_{5}}^{p_{0}p_{1}}v_{h_{7}h_{4}}^{p_{2}p_{3}}t2_{p_{2}p_{0}}^{h_{4}h_{5}}t2_{p_{3}p_{1}}^{h_{6}h_{7}}\n + 0.0625 * \\Phi_{h_{6}h_{5}}^{p_{0}p_{1}}v_{h_{7}h_{4}}^{p_{2}p_{3}}t2_{p_{3}p_{0}}^{h_{4}h_{5}}t2_{p_{2}p_{1}}^{h_{6}h_{7}}\n + -0.03125 * \\Phi_{h_{6}h_{5}}^{p_{0}p_{1}}v_{h_{4}h_{7}}^{p_{2}p_{3}}t2_{p_{1}p_{2}}^{h_{4}h_{5}}t2_{p_{0}p_{3}}^{h_{6}h_{7}}\n + 0.0625 * \\Phi_{h_{6}h_{5}}^{p_{0}p_{1}}v_{h_{4}h_{7}}^{p_{2}p_{3}}t2_{p_{1}p_{3}}^{h_{4}h_{5}}t2_{p_{0}p_{2}}^{h_{6}h_{7}}\n + 0.0625 * \\Phi_{h_{6}h_{5}}^{p_{0}p_{1}}v_{h_{7}h_{4}}^{p_{2}p_{3}}t2_{p_{1}p_{2}}^{h_{4}h_{5}}t2_{p_{0}p_{3}}^{h_{6}h_{7}}\n + -0.03125 * \\Phi_{h_{6}h_{5}}^{p_{0}p_{1}}v_{h_{7}h_{4}}^{p_{2}p_{3}}t2_{p_{1}p_{3}}^{h_{4}h_{5}}t2_{p_{0}p_{2}}^{h_{6}h_{7}}\n + 0.0625 * \\Phi_{h_{6}h_{5}}^{p_{0}p_{1}}v_{h_{4}h_{7}}^{p_{2}p_{3}}t2_{p_{2}p_{1}}^{h_{4}h_{5}}t2_{p_{0}p_{3}}^{h_{6}h_{7}}\n + -0.03125 * \\Phi_{h_{6}h_{5}}^{p_{0}p_{1}}v_{h_{4}h_{7}}^{p_{2}p_{3}}t2_{p_{3}p_{1}}^{h_{4}h_{5}}t2_{p_{0}p_{2}}^{h_{6}h_{7}}\n + -0.03125 * \\Phi_{h_{6}h_{5}}^{p_{0}p_{1}}v_{h_{7}h_{4}}^{p_{2}p_{3}}t2_{p_{2}p_{1}}^{h_{4}h_{5}}t2_{p_{0}p_{3}}^{h_{6}h_{7}}\n + 0.0625 * \\Phi_{h_{6}h_{5}}^{p_{0}p_{1}}v_{h_{7}h_{4}}^{p_{2}p_{3}}t2_{p_{3}p_{1}}^{h_{4}h_{5}}t2_{p_{0}p_{2}}^{h_{6}h_{7}}\n + -0.125 * \\Phi_{h_{6}h_{5}}^{p_{0}p_{1}}v_{h_{4}h_{7}}^{p_{2}p_{3}}t2_{p_{2}p_{3}}^{h_{4}h_{5}}t2_{p_{0}p_{1}}^{h_{6}h_{7}}\n + 0.0625 * \\Phi_{h_{6}h_{5}}^{p_{0}p_{1}}v_{h_{4}h_{7}}^{p_{2}p_{3}}t2_{p_{3}p_{2}}^{h_{4}h_{5}}t2_{p_{0}p_{1}}^{h_{6}h_{7}}\n + 0.0625 * \\Phi_{h_{6}h_{5}}^{p_{0}p_{1}}v_{h_{7}h_{4}}^{p_{2}p_{3}}t2_{p_{2}p_{3}}^{h_{4}h_{5}}t2_{p_{0}p_{1}}^{h_{6}h_{7}}\n + -0.125 * \\Phi_{h_{6}h_{5}}^{p_{0}p_{1}}v_{h_{7}h_{4}}^{p_{2}p_{3}}t2_{p_{3}p_{2}}^{h_{4}h_{5}}t2_{p_{0}p_{1}}^{h_{6}h_{7}}\n + 0.0625 * \\Phi_{h_{6}h_{5}}^{p_{0}p_{1}}v_{h_{4}h_{7}}^{p_{2}p_{3}}t2_{p_{1}p_{2}}^{h_{4}h_{5}}t2_{p_{3}p_{0}}^{h_{6}h_{7}}\n + -0.125 * \\Phi_{h_{6}h_{5}}^{p_{0}p_{1}}v_{h_{4}h_{7}}^{p_{2}p_{3}}t2_{p_{1}p_{3}}^{h_{4}h_{5}}t2_{p_{2}p_{0}}^{h_{6}h_{7}}\n + -0.125 * \\Phi_{h_{6}h_{5}}^{p_{0}p_{1}}v_{h_{7}h_{4}}^{p_{2}p_{3}}t2_{p_{1}p_{2}}^{h_{4}h_{5}}t2_{p_{3}p_{0}}^{h_{6}h_{7}}\n + 0.0625 * \\Phi_{h_{6}h_{5}}^{p_{0}p_{1}}v_{h_{7}h_{4}}^{p_{2}p_{3}}t2_{p_{1}p_{3}}^{h_{4}h_{5}}t2_{p_{2}p_{0}}^{h_{6}h_{7}}\n + -0.03125 * \\Phi_{h_{6}h_{5}}^{p_{0}p_{1}}v_{h_{4}h_{7}}^{p_{2}p_{3}}t2_{p_{2}p_{1}}^{h_{4}h_{5}}t2_{p_{3}p_{0}}^{h_{6}h_{7}}\n + 0.0625 * \\Phi_{h_{6}h_{5}}^{p_{0}p_{1}}v_{h_{4}h_{7}}^{p_{2}p_{3}}t2_{p_{3}p_{1}}^{h_{4}h_{5}}t2_{p_{2}p_{0}}^{h_{6}h_{7}}\n + 0.0625 * \\Phi_{h_{6}h_{5}}^{p_{0}p_{1}}v_{h_{7}h_{4}}^{p_{2}p_{3}}t2_{p_{2}p_{1}}^{h_{4}h_{5}}t2_{p_{3}p_{0}}^{h_{6}h_{7}}\n + -0.03125 * \\Phi_{h_{6}h_{5}}^{p_{0}p_{1}}v_{h_{7}h_{4}}^{p_{2}p_{3}}t2_{p_{3}p_{1}}^{h_{4}h_{5}}t2_{p_{2}p_{0}}^{h_{6}h_{7}}\n + 0.0625 * \\Phi_{h_{6}h_{5}}^{p_{0}p_{1}}v_{h_{4}h_{7}}^{p_{2}p_{3}}t2_{p_{2}p_{3}}^{h_{4}h_{5}}t2_{p_{1}p_{0}}^{h_{6}h_{7}}\n + -0.03125 * \\Phi_{h_{6}h_{5}}^{p_{0}p_{1}}v_{h_{4}h_{7}}^{p_{2}p_{3}}t2_{p_{3}p_{2}}^{h_{4}h_{5}}t2_{p_{1}p_{0}}^{h_{6}h_{7}}\n + -0.03125 * \\Phi_{h_{6}h_{5}}^{p_{0}p_{1}}v_{h_{7}h_{4}}^{p_{2}p_{3}}t2_{p_{2}p_{3}}^{h_{4}h_{5}}t2_{p_{1}p_{0}}^{h_{6}h_{7}}\n + 0.0625 * \\Phi_{h_{6}h_{5}}^{p_{0}p_{1}}v_{h_{7}h_{4}}^{p_{2}p_{3}}t2_{p_{3}p_{2}}^{h_{4}h_{5}}t2_{p_{1}p_{0}}^{h_{6}h_{7}}\n + 0.0625 * \\Phi_{h_{6}h_{7}}^{p_{0}p_{1}}v_{h_{4}h_{5}}^{p_{2}p_{3}}t2_{p_{0}p_{1}}^{h_{4}h_{5}}t2_{p_{2}p_{3}}^{h_{6}h_{7}}\n + -0.03125 * \\Phi_{h_{6}h_{7}}^{p_{0}p_{1}}v_{h_{4}h_{5}}^{p_{2}p_{3}}t2_{p_{0}p_{1}}^{h_{4}h_{5}}t2_{p_{3}p_{2}}^{h_{6}h_{7}}\n + -0.03125 * \\Phi_{h_{6}h_{7}}^{p_{0}p_{1}}v_{h_{5}h_{4}}^{p_{2}p_{3}}t2_{p_{0}p_{1}}^{h_{4}h_{5}}t2_{p_{2}p_{3}}^{h_{6}h_{7}}\n + 0.0625 * \\Phi_{h_{6}h_{7}}^{p_{0}p_{1}}v_{h_{5}h_{4}}^{p_{2}p_{3}}t2_{p_{0}p_{1}}^{h_{4}h_{5}}t2_{p_{3}p_{2}}^{h_{6}h_{7}}\n + -0.03125 * \\Phi_{h_{6}h_{7}}^{p_{0}p_{1}}v_{h_{4}h_{5}}^{p_{2}p_{3}}t2_{p_{0}p_{2}}^{h_{4}h_{5}}t2_{p_{1}p_{3}}^{h_{6}h_{7}}\n + 0.0625 * \\Phi_{h_{6}h_{7}}^{p_{0}p_{1}}v_{h_{4}h_{5}}^{p_{2}p_{3}}t2_{p_{0}p_{3}}^{h_{4}h_{5}}t2_{p_{1}p_{2}}^{h_{6}h_{7}}\n + 0.0625 * \\Phi_{h_{6}h_{7}}^{p_{0}p_{1}}v_{h_{5}h_{4}}^{p_{2}p_{3}}t2_{p_{0}p_{2}}^{h_{4}h_{5}}t2_{p_{1}p_{3}}^{h_{6}h_{7}}\n + -0.03125 * \\Phi_{h_{6}h_{7}}^{p_{0}p_{1}}v_{h_{5}h_{4}}^{p_{2}p_{3}}t2_{p_{0}p_{3}}^{h_{4}h_{5}}t2_{p_{1}p_{2}}^{h_{6}h_{7}}\n + 0.0625 * \\Phi_{h_{6}h_{7}}^{p_{0}p_{1}}v_{h_{4}h_{5}}^{p_{2}p_{3}}t2_{p_{0}p_{2}}^{h_{4}h_{5}}t2_{p_{3}p_{1}}^{h_{6}h_{7}}\n + -0.125 * \\Phi_{h_{6}h_{7}}^{p_{0}p_{1}}v_{h_{4}h_{5}}^{p_{2}p_{3}}t2_{p_{0}p_{3}}^{h_{4}h_{5}}t2_{p_{2}p_{1}}^{h_{6}h_{7}}\n + -0.125 * \\Phi_{h_{6}h_{7}}^{p_{0}p_{1}}v_{h_{5}h_{4}}^{p_{2}p_{3}}t2_{p_{0}p_{2}}^{h_{4}h_{5}}t2_{p_{3}p_{1}}^{h_{6}h_{7}}\n + 0.0625 * \\Phi_{h_{6}h_{7}}^{p_{0}p_{1}}v_{h_{5}h_{4}}^{p_{2}p_{3}}t2_{p_{0}p_{3}}^{h_{4}h_{5}}t2_{p_{2}p_{1}}^{h_{6}h_{7}}\n + -0.03125 * \\Phi_{h_{6}h_{7}}^{p_{0}p_{1}}v_{h_{4}h_{5}}^{p_{2}p_{3}}t2_{p_{1}p_{0}}^{h_{4}h_{5}}t2_{p_{2}p_{3}}^{h_{6}h_{7}}\n + 0.0625 * \\Phi_{h_{6}h_{7}}^{p_{0}p_{1}}v_{h_{4}h_{5}}^{p_{2}p_{3}}t2_{p_{1}p_{0}}^{h_{4}h_{5}}t2_{p_{3}p_{2}}^{h_{6}h_{7}}\n + 0.0625 * \\Phi_{h_{6}h_{7}}^{p_{0}p_{1}}v_{h_{5}h_{4}}^{p_{2}p_{3}}t2_{p_{1}p_{0}}^{h_{4}h_{5}}t2_{p_{2}p_{3}}^{h_{6}h_{7}}\n + -0.03125 * \\Phi_{h_{6}h_{7}}^{p_{0}p_{1}}v_{h_{5}h_{4}}^{p_{2}p_{3}}t2_{p_{1}p_{0}}^{h_{4}h_{5}}t2_{p_{3}p_{2}}^{h_{6}h_{7}}\n + 0.0625 * \\Phi_{h_{6}h_{7}}^{p_{0}p_{1}}v_{h_{4}h_{5}}^{p_{2}p_{3}}t2_{p_{2}p_{0}}^{h_{4}h_{5}}t2_{p_{1}p_{3}}^{h_{6}h_{7}}\n + -0.03125 * \\Phi_{h_{6}h_{7}}^{p_{0}p_{1}}v_{h_{4}h_{5}}^{p_{2}p_{3}}t2_{p_{3}p_{0}}^{h_{4}h_{5}}t2_{p_{1}p_{2}}^{h_{6}h_{7}}\n + -0.03125 * \\Phi_{h_{6}h_{7}}^{p_{0}p_{1}}v_{h_{5}h_{4}}^{p_{2}p_{3}}t2_{p_{2}p_{0}}^{h_{4}h_{5}}t2_{p_{1}p_{3}}^{h_{6}h_{7}}\n + 0.0625 * \\Phi_{h_{6}h_{7}}^{p_{0}p_{1}}v_{h_{5}h_{4}}^{p_{2}p_{3}}t2_{p_{3}p_{0}}^{h_{4}h_{5}}t2_{p_{1}p_{2}}^{h_{6}h_{7}}\n + -0.125 * \\Phi_{h_{6}h_{7}}^{p_{0}p_{1}}v_{h_{4}h_{5}}^{p_{2}p_{3}}t2_{p_{2}p_{0}}^{h_{4}h_{5}}t2_{p_{3}p_{1}}^{h_{6}h_{7}}\n + 0.0625 * \\Phi_{h_{6}h_{7}}^{p_{0}p_{1}}v_{h_{4}h_{5}}^{p_{2}p_{3}}t2_{p_{3}p_{0}}^{h_{4}h_{5}}t2_{p_{2}p_{1}}^{h_{6}h_{7}}\n + 0.0625 * \\Phi_{h_{6}h_{7}}^{p_{0}p_{1}}v_{h_{5}h_{4}}^{p_{2}p_{3}}t2_{p_{2}p_{0}}^{h_{4}h_{5}}t2_{p_{3}p_{1}}^{h_{6}h_{7}}\n + -0.125 * \\Phi_{h_{6}h_{7}}^{p_{0}p_{1}}v_{h_{5}h_{4}}^{p_{2}p_{3}}t2_{p_{3}p_{0}}^{h_{4}h_{5}}t2_{p_{2}p_{1}}^{h_{6}h_{7}}\n + 0.0625 * \\Phi_{h_{6}h_{7}}^{p_{0}p_{1}}v_{h_{4}h_{5}}^{p_{2}p_{3}}t2_{p_{1}p_{2}}^{h_{4}h_{5}}t2_{p_{0}p_{3}}^{h_{6}h_{7}}\n + -0.125 * \\Phi_{h_{6}h_{7}}^{p_{0}p_{1}}v_{h_{4}h_{5}}^{p_{2}p_{3}}t2_{p_{1}p_{3}}^{h_{4}h_{5}}t2_{p_{0}p_{2}}^{h_{6}h_{7}}\n + -0.125 * \\Phi_{h_{6}h_{7}}^{p_{0}p_{1}}v_{h_{5}h_{4}}^{p_{2}p_{3}}t2_{p_{1}p_{2}}^{h_{4}h_{5}}t2_{p_{0}p_{3}}^{h_{6}h_{7}}\n + 0.0625 * \\Phi_{h_{6}h_{7}}^{p_{0}p_{1}}v_{h_{5}h_{4}}^{p_{2}p_{3}}t2_{p_{1}p_{3}}^{h_{4}h_{5}}t2_{p_{0}p_{2}}^{h_{6}h_{7}}\n + -0.125 * \\Phi_{h_{6}h_{7}}^{p_{0}p_{1}}v_{h_{4}h_{5}}^{p_{2}p_{3}}t2_{p_{2}p_{1}}^{h_{4}h_{5}}t2_{p_{0}p_{3}}^{h_{6}h_{7}}\n + 0.0625 * \\Phi_{h_{6}h_{7}}^{p_{0}p_{1}}v_{h_{4}h_{5}}^{p_{2}p_{3}}t2_{p_{3}p_{1}}^{h_{4}h_{5}}t2_{p_{0}p_{2}}^{h_{6}h_{7}}\n + 0.0625 * \\Phi_{h_{6}h_{7}}^{p_{0}p_{1}}v_{h_{5}h_{4}}^{p_{2}p_{3}}t2_{p_{2}p_{1}}^{h_{4}h_{5}}t2_{p_{0}p_{3}}^{h_{6}h_{7}}\n + -0.125 * \\Phi_{h_{6}h_{7}}^{p_{0}p_{1}}v_{h_{5}h_{4}}^{p_{2}p_{3}}t2_{p_{3}p_{1}}^{h_{4}h_{5}}t2_{p_{0}p_{2}}^{h_{6}h_{7}}\n + 0.25 * \\Phi_{h_{6}h_{7}}^{p_{0}p_{1}}v_{h_{4}h_{5}}^{p_{2}p_{3}}t2_{p_{2}p_{3}}^{h_{4}h_{5}}t2_{p_{0}p_{1}}^{h_{6}h_{7}}\n + -0.125 * \\Phi_{h_{6}h_{7}}^{p_{0}p_{1}}v_{h_{4}h_{5}}^{p_{2}p_{3}}t2_{p_{3}p_{2}}^{h_{4}h_{5}}t2_{p_{0}p_{1}}^{h_{6}h_{7}}\n + -0.125 * \\Phi_{h_{6}h_{7}}^{p_{0}p_{1}}v_{h_{5}h_{4}}^{p_{2}p_{3}}t2_{p_{2}p_{3}}^{h_{4}h_{5}}t2_{p_{0}p_{1}}^{h_{6}h_{7}}\n + 0.25 * \\Phi_{h_{6}h_{7}}^{p_{0}p_{1}}v_{h_{5}h_{4}}^{p_{2}p_{3}}t2_{p_{3}p_{2}}^{h_{4}h_{5}}t2_{p_{0}p_{1}}^{h_{6}h_{7}}\n + -0.03125 * \\Phi_{h_{6}h_{7}}^{p_{0}p_{1}}v_{h_{4}h_{5}}^{p_{2}p_{3}}t2_{p_{1}p_{2}}^{h_{4}h_{5}}t2_{p_{3}p_{0}}^{h_{6}h_{7}}\n + 0.0625 * \\Phi_{h_{6}h_{7}}^{p_{0}p_{1}}v_{h_{4}h_{5}}^{p_{2}p_{3}}t2_{p_{1}p_{3}}^{h_{4}h_{5}}t2_{p_{2}p_{0}}^{h_{6}h_{7}}\n + 0.0625 * \\Phi_{h_{6}h_{7}}^{p_{0}p_{1}}v_{h_{5}h_{4}}^{p_{2}p_{3}}t2_{p_{1}p_{2}}^{h_{4}h_{5}}t2_{p_{3}p_{0}}^{h_{6}h_{7}}\n + -0.03125 * \\Phi_{h_{6}h_{7}}^{p_{0}p_{1}}v_{h_{5}h_{4}}^{p_{2}p_{3}}t2_{p_{1}p_{3}}^{h_{4}h_{5}}t2_{p_{2}p_{0}}^{h_{6}h_{7}}\n + 0.0625 * \\Phi_{h_{6}h_{7}}^{p_{0}p_{1}}v_{h_{4}h_{5}}^{p_{2}p_{3}}t2_{p_{2}p_{1}}^{h_{4}h_{5}}t2_{p_{3}p_{0}}^{h_{6}h_{7}}\n + -0.03125 * \\Phi_{h_{6}h_{7}}^{p_{0}p_{1}}v_{h_{4}h_{5}}^{p_{2}p_{3}}t2_{p_{3}p_{1}}^{h_{4}h_{5}}t2_{p_{2}p_{0}}^{h_{6}h_{7}}\n + -0.03125 * \\Phi_{h_{6}h_{7}}^{p_{0}p_{1}}v_{h_{5}h_{4}}^{p_{2}p_{3}}t2_{p_{2}p_{1}}^{h_{4}h_{5}}t2_{p_{3}p_{0}}^{h_{6}h_{7}}\n + 0.0625 * \\Phi_{h_{6}h_{7}}^{p_{0}p_{1}}v_{h_{5}h_{4}}^{p_{2}p_{3}}t2_{p_{3}p_{1}}^{h_{4}h_{5}}t2_{p_{2}p_{0}}^{h_{6}h_{7}}\n + -0.125 * \\Phi_{h_{6}h_{7}}^{p_{0}p_{1}}v_{h_{4}h_{5}}^{p_{2}p_{3}}t2_{p_{2}p_{3}}^{h_{4}h_{5}}t2_{p_{1}p_{0}}^{h_{6}h_{7}}\n + 0.0625 * \\Phi_{h_{6}h_{7}}^{p_{0}p_{1}}v_{h_{4}h_{5}}^{p_{2}p_{3}}t2_{p_{3}p_{2}}^{h_{4}h_{5}}t2_{p_{1}p_{0}}^{h_{6}h_{7}}\n + 0.0625 * \\Phi_{h_{6}h_{7}}^{p_{0}p_{1}}v_{h_{5}h_{4}}^{p_{2}p_{3}}t2_{p_{2}p_{3}}^{h_{4}h_{5}}t2_{p_{1}p_{0}}^{h_{6}h_{7}}\n + -0.125 * \\Phi_{h_{6}h_{7}}^{p_{0}p_{1}}v_{h_{5}h_{4}}^{p_{2}p_{3}}t2_{p_{3}p_{2}}^{h_{4}h_{5}}t2_{p_{1}p_{0}}^{h_{6}h_{7}}\n + -0.03125 * \\Phi_{h_{7}h_{4}}^{p_{0}p_{1}}v_{h_{5}h_{6}}^{p_{2}p_{3}}t2_{p_{0}p_{1}}^{h_{4}h_{5}}t2_{p_{2}p_{3}}^{h_{6}h_{7}}\n + 0.0625 * \\Phi_{h_{7}h_{4}}^{p_{0}p_{1}}v_{h_{5}h_{6}}^{p_{2}p_{3}}t2_{p_{0}p_{1}}^{h_{4}h_{5}}t2_{p_{3}p_{2}}^{h_{6}h_{7}}\n + 0.0625 * \\Phi_{h_{7}h_{4}}^{p_{0}p_{1}}v_{h_{6}h_{5}}^{p_{2}p_{3}}t2_{p_{0}p_{1}}^{h_{4}h_{5}}t2_{p_{2}p_{3}}^{h_{6}h_{7}}\n + -0.03125 * \\Phi_{h_{7}h_{4}}^{p_{0}p_{1}}v_{h_{6}h_{5}}^{p_{2}p_{3}}t2_{p_{0}p_{1}}^{h_{4}h_{5}}t2_{p_{3}p_{2}}^{h_{6}h_{7}}\n + 0.0625 * \\Phi_{h_{7}h_{4}}^{p_{0}p_{1}}v_{h_{5}h_{6}}^{p_{2}p_{3}}t2_{p_{0}p_{2}}^{h_{4}h_{5}}t2_{p_{1}p_{3}}^{h_{6}h_{7}}\n + -0.125 * \\Phi_{h_{7}h_{4}}^{p_{0}p_{1}}v_{h_{5}h_{6}}^{p_{2}p_{3}}t2_{p_{0}p_{3}}^{h_{4}h_{5}}t2_{p_{1}p_{2}}^{h_{6}h_{7}}\n + -0.125 * \\Phi_{h_{7}h_{4}}^{p_{0}p_{1}}v_{h_{6}h_{5}}^{p_{2}p_{3}}t2_{p_{0}p_{2}}^{h_{4}h_{5}}t2_{p_{1}p_{3}}^{h_{6}h_{7}}\n + 0.0625 * \\Phi_{h_{7}h_{4}}^{p_{0}p_{1}}v_{h_{6}h_{5}}^{p_{2}p_{3}}t2_{p_{0}p_{3}}^{h_{4}h_{5}}t2_{p_{1}p_{2}}^{h_{6}h_{7}}\n + -0.03125 * \\Phi_{h_{7}h_{4}}^{p_{0}p_{1}}v_{h_{5}h_{6}}^{p_{2}p_{3}}t2_{p_{0}p_{2}}^{h_{4}h_{5}}t2_{p_{3}p_{1}}^{h_{6}h_{7}}\n + 0.0625 * \\Phi_{h_{7}h_{4}}^{p_{0}p_{1}}v_{h_{5}h_{6}}^{p_{2}p_{3}}t2_{p_{0}p_{3}}^{h_{4}h_{5}}t2_{p_{2}p_{1}}^{h_{6}h_{7}}\n + 0.0625 * \\Phi_{h_{7}h_{4}}^{p_{0}p_{1}}v_{h_{6}h_{5}}^{p_{2}p_{3}}t2_{p_{0}p_{2}}^{h_{4}h_{5}}t2_{p_{3}p_{1}}^{h_{6}h_{7}}\n + -0.03125 * \\Phi_{h_{7}h_{4}}^{p_{0}p_{1}}v_{h_{6}h_{5}}^{p_{2}p_{3}}t2_{p_{0}p_{3}}^{h_{4}h_{5}}t2_{p_{2}p_{1}}^{h_{6}h_{7}}\n + 0.0625 * \\Phi_{h_{7}h_{4}}^{p_{0}p_{1}}v_{h_{5}h_{6}}^{p_{2}p_{3}}t2_{p_{1}p_{0}}^{h_{4}h_{5}}t2_{p_{2}p_{3}}^{h_{6}h_{7}}\n + -0.125 * \\Phi_{h_{7}h_{4}}^{p_{0}p_{1}}v_{h_{5}h_{6}}^{p_{2}p_{3}}t2_{p_{1}p_{0}}^{h_{4}h_{5}}t2_{p_{3}p_{2}}^{h_{6}h_{7}}\n + -0.125 * \\Phi_{h_{7}h_{4}}^{p_{0}p_{1}}v_{h_{6}h_{5}}^{p_{2}p_{3}}t2_{p_{1}p_{0}}^{h_{4}h_{5}}t2_{p_{2}p_{3}}^{h_{6}h_{7}}\n + 0.0625 * \\Phi_{h_{7}h_{4}}^{p_{0}p_{1}}v_{h_{6}h_{5}}^{p_{2}p_{3}}t2_{p_{1}p_{0}}^{h_{4}h_{5}}t2_{p_{3}p_{2}}^{h_{6}h_{7}}\n + -0.125 * \\Phi_{h_{7}h_{4}}^{p_{0}p_{1}}v_{h_{5}h_{6}}^{p_{2}p_{3}}t2_{p_{2}p_{0}}^{h_{4}h_{5}}t2_{p_{1}p_{3}}^{h_{6}h_{7}}\n + 0.25 * \\Phi_{h_{7}h_{4}}^{p_{0}p_{1}}v_{h_{5}h_{6}}^{p_{2}p_{3}}t2_{p_{3}p_{0}}^{h_{4}h_{5}}t2_{p_{1}p_{2}}^{h_{6}h_{7}}\n + 0.25 * \\Phi_{h_{7}h_{4}}^{p_{0}p_{1}}v_{h_{6}h_{5}}^{p_{2}p_{3}}t2_{p_{2}p_{0}}^{h_{4}h_{5}}t2_{p_{1}p_{3}}^{h_{6}h_{7}}\n + -0.125 * \\Phi_{h_{7}h_{4}}^{p_{0}p_{1}}v_{h_{6}h_{5}}^{p_{2}p_{3}}t2_{p_{3}p_{0}}^{h_{4}h_{5}}t2_{p_{1}p_{2}}^{h_{6}h_{7}}\n + 0.0625 * \\Phi_{h_{7}h_{4}}^{p_{0}p_{1}}v_{h_{5}h_{6}}^{p_{2}p_{3}}t2_{p_{2}p_{0}}^{h_{4}h_{5}}t2_{p_{3}p_{1}}^{h_{6}h_{7}}\n + -0.125 * \\Phi_{h_{7}h_{4}}^{p_{0}p_{1}}v_{h_{5}h_{6}}^{p_{2}p_{3}}t2_{p_{3}p_{0}}^{h_{4}h_{5}}t2_{p_{2}p_{1}}^{h_{6}h_{7}}\n + -0.125 * \\Phi_{h_{7}h_{4}}^{p_{0}p_{1}}v_{h_{6}h_{5}}^{p_{2}p_{3}}t2_{p_{2}p_{0}}^{h_{4}h_{5}}t2_{p_{3}p_{1}}^{h_{6}h_{7}}\n + 0.0625 * \\Phi_{h_{7}h_{4}}^{p_{0}p_{1}}v_{h_{6}h_{5}}^{p_{2}p_{3}}t2_{p_{3}p_{0}}^{h_{4}h_{5}}t2_{p_{2}p_{1}}^{h_{6}h_{7}}\n + -0.03125 * \\Phi_{h_{7}h_{4}}^{p_{0}p_{1}}v_{h_{5}h_{6}}^{p_{2}p_{3}}t2_{p_{1}p_{2}}^{h_{4}h_{5}}t2_{p_{0}p_{3}}^{h_{6}h_{7}}\n + 0.0625 * \\Phi_{h_{7}h_{4}}^{p_{0}p_{1}}v_{h_{5}h_{6}}^{p_{2}p_{3}}t2_{p_{1}p_{3}}^{h_{4}h_{5}}t2_{p_{0}p_{2}}^{h_{6}h_{7}}\n + 0.0625 * \\Phi_{h_{7}h_{4}}^{p_{0}p_{1}}v_{h_{6}h_{5}}^{p_{2}p_{3}}t2_{p_{1}p_{2}}^{h_{4}h_{5}}t2_{p_{0}p_{3}}^{h_{6}h_{7}}\n + -0.03125 * \\Phi_{h_{7}h_{4}}^{p_{0}p_{1}}v_{h_{6}h_{5}}^{p_{2}p_{3}}t2_{p_{1}p_{3}}^{h_{4}h_{5}}t2_{p_{0}p_{2}}^{h_{6}h_{7}}\n + 0.0625 * \\Phi_{h_{7}h_{4}}^{p_{0}p_{1}}v_{h_{5}h_{6}}^{p_{2}p_{3}}t2_{p_{2}p_{1}}^{h_{4}h_{5}}t2_{p_{0}p_{3}}^{h_{6}h_{7}}\n + -0.125 * \\Phi_{h_{7}h_{4}}^{p_{0}p_{1}}v_{h_{5}h_{6}}^{p_{2}p_{3}}t2_{p_{3}p_{1}}^{h_{4}h_{5}}t2_{p_{0}p_{2}}^{h_{6}h_{7}}\n + -0.125 * \\Phi_{h_{7}h_{4}}^{p_{0}p_{1}}v_{h_{6}h_{5}}^{p_{2}p_{3}}t2_{p_{2}p_{1}}^{h_{4}h_{5}}t2_{p_{0}p_{3}}^{h_{6}h_{7}}\n + 0.0625 * \\Phi_{h_{7}h_{4}}^{p_{0}p_{1}}v_{h_{6}h_{5}}^{p_{2}p_{3}}t2_{p_{3}p_{1}}^{h_{4}h_{5}}t2_{p_{0}p_{2}}^{h_{6}h_{7}}\n + -0.03125 * \\Phi_{h_{7}h_{4}}^{p_{0}p_{1}}v_{h_{5}h_{6}}^{p_{2}p_{3}}t2_{p_{2}p_{3}}^{h_{4}h_{5}}t2_{p_{0}p_{1}}^{h_{6}h_{7}}\n + 0.0625 * \\Phi_{h_{7}h_{4}}^{p_{0}p_{1}}v_{h_{5}h_{6}}^{p_{2}p_{3}}t2_{p_{3}p_{2}}^{h_{4}h_{5}}t2_{p_{0}p_{1}}^{h_{6}h_{7}}\n + 0.0625 * \\Phi_{h_{7}h_{4}}^{p_{0}p_{1}}v_{h_{6}h_{5}}^{p_{2}p_{3}}t2_{p_{2}p_{3}}^{h_{4}h_{5}}t2_{p_{0}p_{1}}^{h_{6}h_{7}}\n + -0.03125 * \\Phi_{h_{7}h_{4}}^{p_{0}p_{1}}v_{h_{6}h_{5}}^{p_{2}p_{3}}t2_{p_{3}p_{2}}^{h_{4}h_{5}}t2_{p_{0}p_{1}}^{h_{6}h_{7}}\n + 0.0625 * \\Phi_{h_{7}h_{4}}^{p_{0}p_{1}}v_{h_{5}h_{6}}^{p_{2}p_{3}}t2_{p_{1}p_{2}}^{h_{4}h_{5}}t2_{p_{3}p_{0}}^{h_{6}h_{7}}\n + -0.03125 * \\Phi_{h_{7}h_{4}}^{p_{0}p_{1}}v_{h_{5}h_{6}}^{p_{2}p_{3}}t2_{p_{1}p_{3}}^{h_{4}h_{5}}t2_{p_{2}p_{0}}^{h_{6}h_{7}}\n + -0.03125 * \\Phi_{h_{7}h_{4}}^{p_{0}p_{1}}v_{h_{6}h_{5}}^{p_{2}p_{3}}t2_{p_{1}p_{2}}^{h_{4}h_{5}}t2_{p_{3}p_{0}}^{h_{6}h_{7}}\n + 0.0625 * \\Phi_{h_{7}h_{4}}^{p_{0}p_{1}}v_{h_{6}h_{5}}^{p_{2}p_{3}}t2_{p_{1}p_{3}}^{h_{4}h_{5}}t2_{p_{2}p_{0}}^{h_{6}h_{7}}\n + -0.03125 * \\Phi_{h_{7}h_{4}}^{p_{0}p_{1}}v_{h_{5}h_{6}}^{p_{2}p_{3}}t2_{p_{2}p_{1}}^{h_{4}h_{5}}t2_{p_{3}p_{0}}^{h_{6}h_{7}}\n + 0.0625 * \\Phi_{h_{7}h_{4}}^{p_{0}p_{1}}v_{h_{5}h_{6}}^{p_{2}p_{3}}t2_{p_{3}p_{1}}^{h_{4}h_{5}}t2_{p_{2}p_{0}}^{h_{6}h_{7}}\n + 0.0625 * \\Phi_{h_{7}h_{4}}^{p_{0}p_{1}}v_{h_{6}h_{5}}^{p_{2}p_{3}}t2_{p_{2}p_{1}}^{h_{4}h_{5}}t2_{p_{3}p_{0}}^{h_{6}h_{7}}\n + -0.03125 * \\Phi_{h_{7}h_{4}}^{p_{0}p_{1}}v_{h_{6}h_{5}}^{p_{2}p_{3}}t2_{p_{3}p_{1}}^{h_{4}h_{5}}t2_{p_{2}p_{0}}^{h_{6}h_{7}}\n + 0.0625 * \\Phi_{h_{7}h_{4}}^{p_{0}p_{1}}v_{h_{5}h_{6}}^{p_{2}p_{3}}t2_{p_{2}p_{3}}^{h_{4}h_{5}}t2_{p_{1}p_{0}}^{h_{6}h_{7}}\n + -0.125 * \\Phi_{h_{7}h_{4}}^{p_{0}p_{1}}v_{h_{5}h_{6}}^{p_{2}p_{3}}t2_{p_{3}p_{2}}^{h_{4}h_{5}}t2_{p_{1}p_{0}}^{h_{6}h_{7}}\n + -0.125 * \\Phi_{h_{7}h_{4}}^{p_{0}p_{1}}v_{h_{6}h_{5}}^{p_{2}p_{3}}t2_{p_{2}p_{3}}^{h_{4}h_{5}}t2_{p_{1}p_{0}}^{h_{6}h_{7}}\n + 0.0625 * \\Phi_{h_{7}h_{4}}^{p_{0}p_{1}}v_{h_{6}h_{5}}^{p_{2}p_{3}}t2_{p_{3}p_{2}}^{h_{4}h_{5}}t2_{p_{1}p_{0}}^{h_{6}h_{7}}\n + 0.0625 * \\Phi_{h_{7}h_{5}}^{p_{0}p_{1}}v_{h_{4}h_{6}}^{p_{2}p_{3}}t2_{p_{0}p_{1}}^{h_{4}h_{5}}t2_{p_{2}p_{3}}^{h_{6}h_{7}}\n + -0.125 * \\Phi_{h_{7}h_{5}}^{p_{0}p_{1}}v_{h_{4}h_{6}}^{p_{2}p_{3}}t2_{p_{0}p_{1}}^{h_{4}h_{5}}t2_{p_{3}p_{2}}^{h_{6}h_{7}}\n + -0.125 * \\Phi_{h_{7}h_{5}}^{p_{0}p_{1}}v_{h_{6}h_{4}}^{p_{2}p_{3}}t2_{p_{0}p_{1}}^{h_{4}h_{5}}t2_{p_{2}p_{3}}^{h_{6}h_{7}}\n + 0.0625 * \\Phi_{h_{7}h_{5}}^{p_{0}p_{1}}v_{h_{6}h_{4}}^{p_{2}p_{3}}t2_{p_{0}p_{1}}^{h_{4}h_{5}}t2_{p_{3}p_{2}}^{h_{6}h_{7}}\n + -0.125 * \\Phi_{h_{7}h_{5}}^{p_{0}p_{1}}v_{h_{4}h_{6}}^{p_{2}p_{3}}t2_{p_{0}p_{2}}^{h_{4}h_{5}}t2_{p_{1}p_{3}}^{h_{6}h_{7}}\n + 0.25 * \\Phi_{h_{7}h_{5}}^{p_{0}p_{1}}v_{h_{4}h_{6}}^{p_{2}p_{3}}t2_{p_{0}p_{3}}^{h_{4}h_{5}}t2_{p_{1}p_{2}}^{h_{6}h_{7}}\n + 0.25 * \\Phi_{h_{7}h_{5}}^{p_{0}p_{1}}v_{h_{6}h_{4}}^{p_{2}p_{3}}t2_{p_{0}p_{2}}^{h_{4}h_{5}}t2_{p_{1}p_{3}}^{h_{6}h_{7}}\n + -0.125 * \\Phi_{h_{7}h_{5}}^{p_{0}p_{1}}v_{h_{6}h_{4}}^{p_{2}p_{3}}t2_{p_{0}p_{3}}^{h_{4}h_{5}}t2_{p_{1}p_{2}}^{h_{6}h_{7}}\n + 0.0625 * \\Phi_{h_{7}h_{5}}^{p_{0}p_{1}}v_{h_{4}h_{6}}^{p_{2}p_{3}}t2_{p_{0}p_{2}}^{h_{4}h_{5}}t2_{p_{3}p_{1}}^{h_{6}h_{7}}\n + -0.125 * \\Phi_{h_{7}h_{5}}^{p_{0}p_{1}}v_{h_{4}h_{6}}^{p_{2}p_{3}}t2_{p_{0}p_{3}}^{h_{4}h_{5}}t2_{p_{2}p_{1}}^{h_{6}h_{7}}\n + -0.125 * \\Phi_{h_{7}h_{5}}^{p_{0}p_{1}}v_{h_{6}h_{4}}^{p_{2}p_{3}}t2_{p_{0}p_{2}}^{h_{4}h_{5}}t2_{p_{3}p_{1}}^{h_{6}h_{7}}\n + 0.0625 * \\Phi_{h_{7}h_{5}}^{p_{0}p_{1}}v_{h_{6}h_{4}}^{p_{2}p_{3}}t2_{p_{0}p_{3}}^{h_{4}h_{5}}t2_{p_{2}p_{1}}^{h_{6}h_{7}}\n + -0.03125 * \\Phi_{h_{7}h_{5}}^{p_{0}p_{1}}v_{h_{4}h_{6}}^{p_{2}p_{3}}t2_{p_{1}p_{0}}^{h_{4}h_{5}}t2_{p_{2}p_{3}}^{h_{6}h_{7}}\n + 0.0625 * \\Phi_{h_{7}h_{5}}^{p_{0}p_{1}}v_{h_{4}h_{6}}^{p_{2}p_{3}}t2_{p_{1}p_{0}}^{h_{4}h_{5}}t2_{p_{3}p_{2}}^{h_{6}h_{7}}\n + 0.0625 * \\Phi_{h_{7}h_{5}}^{p_{0}p_{1}}v_{h_{6}h_{4}}^{p_{2}p_{3}}t2_{p_{1}p_{0}}^{h_{4}h_{5}}t2_{p_{2}p_{3}}^{h_{6}h_{7}}\n + -0.03125 * \\Phi_{h_{7}h_{5}}^{p_{0}p_{1}}v_{h_{6}h_{4}}^{p_{2}p_{3}}t2_{p_{1}p_{0}}^{h_{4}h_{5}}t2_{p_{3}p_{2}}^{h_{6}h_{7}}\n + 0.0625 * \\Phi_{h_{7}h_{5}}^{p_{0}p_{1}}v_{h_{4}h_{6}}^{p_{2}p_{3}}t2_{p_{2}p_{0}}^{h_{4}h_{5}}t2_{p_{1}p_{3}}^{h_{6}h_{7}}\n + -0.125 * \\Phi_{h_{7}h_{5}}^{p_{0}p_{1}}v_{h_{4}h_{6}}^{p_{2}p_{3}}t2_{p_{3}p_{0}}^{h_{4}h_{5}}t2_{p_{1}p_{2}}^{h_{6}h_{7}}\n + -0.125 * \\Phi_{h_{7}h_{5}}^{p_{0}p_{1}}v_{h_{6}h_{4}}^{p_{2}p_{3}}t2_{p_{2}p_{0}}^{h_{4}h_{5}}t2_{p_{1}p_{3}}^{h_{6}h_{7}}\n + 0.0625 * \\Phi_{h_{7}h_{5}}^{p_{0}p_{1}}v_{h_{6}h_{4}}^{p_{2}p_{3}}t2_{p_{3}p_{0}}^{h_{4}h_{5}}t2_{p_{1}p_{2}}^{h_{6}h_{7}}\n + -0.03125 * \\Phi_{h_{7}h_{5}}^{p_{0}p_{1}}v_{h_{4}h_{6}}^{p_{2}p_{3}}t2_{p_{2}p_{0}}^{h_{4}h_{5}}t2_{p_{3}p_{1}}^{h_{6}h_{7}}\n + 0.0625 * \\Phi_{h_{7}h_{5}}^{p_{0}p_{1}}v_{h_{4}h_{6}}^{p_{2}p_{3}}t2_{p_{3}p_{0}}^{h_{4}h_{5}}t2_{p_{2}p_{1}}^{h_{6}h_{7}}\n + 0.0625 * \\Phi_{h_{7}h_{5}}^{p_{0}p_{1}}v_{h_{6}h_{4}}^{p_{2}p_{3}}t2_{p_{2}p_{0}}^{h_{4}h_{5}}t2_{p_{3}p_{1}}^{h_{6}h_{7}}\n + -0.03125 * \\Phi_{h_{7}h_{5}}^{p_{0}p_{1}}v_{h_{6}h_{4}}^{p_{2}p_{3}}t2_{p_{3}p_{0}}^{h_{4}h_{5}}t2_{p_{2}p_{1}}^{h_{6}h_{7}}\n + 0.0625 * \\Phi_{h_{7}h_{5}}^{p_{0}p_{1}}v_{h_{4}h_{6}}^{p_{2}p_{3}}t2_{p_{1}p_{2}}^{h_{4}h_{5}}t2_{p_{0}p_{3}}^{h_{6}h_{7}}\n + -0.125 * \\Phi_{h_{7}h_{5}}^{p_{0}p_{1}}v_{h_{4}h_{6}}^{p_{2}p_{3}}t2_{p_{1}p_{3}}^{h_{4}h_{5}}t2_{p_{0}p_{2}}^{h_{6}h_{7}}\n + -0.125 * \\Phi_{h_{7}h_{5}}^{p_{0}p_{1}}v_{h_{6}h_{4}}^{p_{2}p_{3}}t2_{p_{1}p_{2}}^{h_{4}h_{5}}t2_{p_{0}p_{3}}^{h_{6}h_{7}}\n + 0.0625 * \\Phi_{h_{7}h_{5}}^{p_{0}p_{1}}v_{h_{6}h_{4}}^{p_{2}p_{3}}t2_{p_{1}p_{3}}^{h_{4}h_{5}}t2_{p_{0}p_{2}}^{h_{6}h_{7}}\n + -0.03125 * \\Phi_{h_{7}h_{5}}^{p_{0}p_{1}}v_{h_{4}h_{6}}^{p_{2}p_{3}}t2_{p_{2}p_{1}}^{h_{4}h_{5}}t2_{p_{0}p_{3}}^{h_{6}h_{7}}\n + 0.0625 * \\Phi_{h_{7}h_{5}}^{p_{0}p_{1}}v_{h_{4}h_{6}}^{p_{2}p_{3}}t2_{p_{3}p_{1}}^{h_{4}h_{5}}t2_{p_{0}p_{2}}^{h_{6}h_{7}}\n + 0.0625 * \\Phi_{h_{7}h_{5}}^{p_{0}p_{1}}v_{h_{6}h_{4}}^{p_{2}p_{3}}t2_{p_{2}p_{1}}^{h_{4}h_{5}}t2_{p_{0}p_{3}}^{h_{6}h_{7}}\n + -0.03125 * \\Phi_{h_{7}h_{5}}^{p_{0}p_{1}}v_{h_{6}h_{4}}^{p_{2}p_{3}}t2_{p_{3}p_{1}}^{h_{4}h_{5}}t2_{p_{0}p_{2}}^{h_{6}h_{7}}\n + 0.0625 * \\Phi_{h_{7}h_{5}}^{p_{0}p_{1}}v_{h_{4}h_{6}}^{p_{2}p_{3}}t2_{p_{2}p_{3}}^{h_{4}h_{5}}t2_{p_{0}p_{1}}^{h_{6}h_{7}}\n + -0.03125 * \\Phi_{h_{7}h_{5}}^{p_{0}p_{1}}v_{h_{4}h_{6}}^{p_{2}p_{3}}t2_{p_{3}p_{2}}^{h_{4}h_{5}}t2_{p_{0}p_{1}}^{h_{6}h_{7}}\n + -0.03125 * \\Phi_{h_{7}h_{5}}^{p_{0}p_{1}}v_{h_{6}h_{4}}^{p_{2}p_{3}}t2_{p_{2}p_{3}}^{h_{4}h_{5}}t2_{p_{0}p_{1}}^{h_{6}h_{7}}\n + 0.0625 * \\Phi_{h_{7}h_{5}}^{p_{0}p_{1}}v_{h_{6}h_{4}}^{p_{2}p_{3}}t2_{p_{3}p_{2}}^{h_{4}h_{5}}t2_{p_{0}p_{1}}^{h_{6}h_{7}}\n + -0.03125 * \\Phi_{h_{7}h_{5}}^{p_{0}p_{1}}v_{h_{4}h_{6}}^{p_{2}p_{3}}t2_{p_{1}p_{2}}^{h_{4}h_{5}}t2_{p_{3}p_{0}}^{h_{6}h_{7}}\n + 0.0625 * \\Phi_{h_{7}h_{5}}^{p_{0}p_{1}}v_{h_{4}h_{6}}^{p_{2}p_{3}}t2_{p_{1}p_{3}}^{h_{4}h_{5}}t2_{p_{2}p_{0}}^{h_{6}h_{7}}\n + 0.0625 * \\Phi_{h_{7}h_{5}}^{p_{0}p_{1}}v_{h_{6}h_{4}}^{p_{2}p_{3}}t2_{p_{1}p_{2}}^{h_{4}h_{5}}t2_{p_{3}p_{0}}^{h_{6}h_{7}}\n + -0.03125 * \\Phi_{h_{7}h_{5}}^{p_{0}p_{1}}v_{h_{6}h_{4}}^{p_{2}p_{3}}t2_{p_{1}p_{3}}^{h_{4}h_{5}}t2_{p_{2}p_{0}}^{h_{6}h_{7}}\n + 0.0625 * \\Phi_{h_{7}h_{5}}^{p_{0}p_{1}}v_{h_{4}h_{6}}^{p_{2}p_{3}}t2_{p_{2}p_{1}}^{h_{4}h_{5}}t2_{p_{3}p_{0}}^{h_{6}h_{7}}\n + -0.03125 * \\Phi_{h_{7}h_{5}}^{p_{0}p_{1}}v_{h_{4}h_{6}}^{p_{2}p_{3}}t2_{p_{3}p_{1}}^{h_{4}h_{5}}t2_{p_{2}p_{0}}^{h_{6}h_{7}}\n + -0.03125 * \\Phi_{h_{7}h_{5}}^{p_{0}p_{1}}v_{h_{6}h_{4}}^{p_{2}p_{3}}t2_{p_{2}p_{1}}^{h_{4}h_{5}}t2_{p_{3}p_{0}}^{h_{6}h_{7}}\n + 0.0625 * \\Phi_{h_{7}h_{5}}^{p_{0}p_{1}}v_{h_{6}h_{4}}^{p_{2}p_{3}}t2_{p_{3}p_{1}}^{h_{4}h_{5}}t2_{p_{2}p_{0}}^{h_{6}h_{7}}\n + -0.125 * \\Phi_{h_{7}h_{5}}^{p_{0}p_{1}}v_{h_{4}h_{6}}^{p_{2}p_{3}}t2_{p_{2}p_{3}}^{h_{4}h_{5}}t2_{p_{1}p_{0}}^{h_{6}h_{7}}\n + 0.0625 * \\Phi_{h_{7}h_{5}}^{p_{0}p_{1}}v_{h_{4}h_{6}}^{p_{2}p_{3}}t2_{p_{3}p_{2}}^{h_{4}h_{5}}t2_{p_{1}p_{0}}^{h_{6}h_{7}}\n + 0.0625 * \\Phi_{h_{7}h_{5}}^{p_{0}p_{1}}v_{h_{6}h_{4}}^{p_{2}p_{3}}t2_{p_{2}p_{3}}^{h_{4}h_{5}}t2_{p_{1}p_{0}}^{h_{6}h_{7}}\n + -0.125 * \\Phi_{h_{7}h_{5}}^{p_{0}p_{1}}v_{h_{6}h_{4}}^{p_{2}p_{3}}t2_{p_{3}p_{2}}^{h_{4}h_{5}}t2_{p_{1}p_{0}}^{h_{6}h_{7}}\n + -0.03125 * \\Phi_{h_{7}h_{6}}^{p_{0}p_{1}}v_{h_{4}h_{5}}^{p_{2}p_{3}}t2_{p_{0}p_{1}}^{h_{4}h_{5}}t2_{p_{2}p_{3}}^{h_{6}h_{7}}\n + 0.0625 * \\Phi_{h_{7}h_{6}}^{p_{0}p_{1}}v_{h_{4}h_{5}}^{p_{2}p_{3}}t2_{p_{0}p_{1}}^{h_{4}h_{5}}t2_{p_{3}p_{2}}^{h_{6}h_{7}}\n + 0.0625 * \\Phi_{h_{7}h_{6}}^{p_{0}p_{1}}v_{h_{5}h_{4}}^{p_{2}p_{3}}t2_{p_{0}p_{1}}^{h_{4}h_{5}}t2_{p_{2}p_{3}}^{h_{6}h_{7}}\n + -0.03125 * \\Phi_{h_{7}h_{6}}^{p_{0}p_{1}}v_{h_{5}h_{4}}^{p_{2}p_{3}}t2_{p_{0}p_{1}}^{h_{4}h_{5}}t2_{p_{3}p_{2}}^{h_{6}h_{7}}\n + 0.0625 * \\Phi_{h_{7}h_{6}}^{p_{0}p_{1}}v_{h_{4}h_{5}}^{p_{2}p_{3}}t2_{p_{0}p_{2}}^{h_{4}h_{5}}t2_{p_{1}p_{3}}^{h_{6}h_{7}}\n + -0.125 * \\Phi_{h_{7}h_{6}}^{p_{0}p_{1}}v_{h_{4}h_{5}}^{p_{2}p_{3}}t2_{p_{0}p_{3}}^{h_{4}h_{5}}t2_{p_{1}p_{2}}^{h_{6}h_{7}}\n + -0.125 * \\Phi_{h_{7}h_{6}}^{p_{0}p_{1}}v_{h_{5}h_{4}}^{p_{2}p_{3}}t2_{p_{0}p_{2}}^{h_{4}h_{5}}t2_{p_{1}p_{3}}^{h_{6}h_{7}}\n + 0.0625 * \\Phi_{h_{7}h_{6}}^{p_{0}p_{1}}v_{h_{5}h_{4}}^{p_{2}p_{3}}t2_{p_{0}p_{3}}^{h_{4}h_{5}}t2_{p_{1}p_{2}}^{h_{6}h_{7}}\n + -0.03125 * \\Phi_{h_{7}h_{6}}^{p_{0}p_{1}}v_{h_{4}h_{5}}^{p_{2}p_{3}}t2_{p_{0}p_{2}}^{h_{4}h_{5}}t2_{p_{3}p_{1}}^{h_{6}h_{7}}\n + 0.0625 * \\Phi_{h_{7}h_{6}}^{p_{0}p_{1}}v_{h_{4}h_{5}}^{p_{2}p_{3}}t2_{p_{0}p_{3}}^{h_{4}h_{5}}t2_{p_{2}p_{1}}^{h_{6}h_{7}}\n + 0.0625 * \\Phi_{h_{7}h_{6}}^{p_{0}p_{1}}v_{h_{5}h_{4}}^{p_{2}p_{3}}t2_{p_{0}p_{2}}^{h_{4}h_{5}}t2_{p_{3}p_{1}}^{h_{6}h_{7}}\n + -0.03125 * \\Phi_{h_{7}h_{6}}^{p_{0}p_{1}}v_{h_{5}h_{4}}^{p_{2}p_{3}}t2_{p_{0}p_{3}}^{h_{4}h_{5}}t2_{p_{2}p_{1}}^{h_{6}h_{7}}\n + 0.0625 * \\Phi_{h_{7}h_{6}}^{p_{0}p_{1}}v_{h_{4}h_{5}}^{p_{2}p_{3}}t2_{p_{1}p_{0}}^{h_{4}h_{5}}t2_{p_{2}p_{3}}^{h_{6}h_{7}}\n + -0.03125 * \\Phi_{h_{7}h_{6}}^{p_{0}p_{1}}v_{h_{4}h_{5}}^{p_{2}p_{3}}t2_{p_{1}p_{0}}^{h_{4}h_{5}}t2_{p_{3}p_{2}}^{h_{6}h_{7}}\n + -0.03125 * \\Phi_{h_{7}h_{6}}^{p_{0}p_{1}}v_{h_{5}h_{4}}^{p_{2}p_{3}}t2_{p_{1}p_{0}}^{h_{4}h_{5}}t2_{p_{2}p_{3}}^{h_{6}h_{7}}\n + 0.0625 * \\Phi_{h_{7}h_{6}}^{p_{0}p_{1}}v_{h_{5}h_{4}}^{p_{2}p_{3}}t2_{p_{1}p_{0}}^{h_{4}h_{5}}t2_{p_{3}p_{2}}^{h_{6}h_{7}}\n + -0.125 * \\Phi_{h_{7}h_{6}}^{p_{0}p_{1}}v_{h_{4}h_{5}}^{p_{2}p_{3}}t2_{p_{2}p_{0}}^{h_{4}h_{5}}t2_{p_{1}p_{3}}^{h_{6}h_{7}}\n + 0.0625 * \\Phi_{h_{7}h_{6}}^{p_{0}p_{1}}v_{h_{4}h_{5}}^{p_{2}p_{3}}t2_{p_{3}p_{0}}^{h_{4}h_{5}}t2_{p_{1}p_{2}}^{h_{6}h_{7}}\n + 0.0625 * \\Phi_{h_{7}h_{6}}^{p_{0}p_{1}}v_{h_{5}h_{4}}^{p_{2}p_{3}}t2_{p_{2}p_{0}}^{h_{4}h_{5}}t2_{p_{1}p_{3}}^{h_{6}h_{7}}\n + -0.125 * \\Phi_{h_{7}h_{6}}^{p_{0}p_{1}}v_{h_{5}h_{4}}^{p_{2}p_{3}}t2_{p_{3}p_{0}}^{h_{4}h_{5}}t2_{p_{1}p_{2}}^{h_{6}h_{7}}\n + 0.0625 * \\Phi_{h_{7}h_{6}}^{p_{0}p_{1}}v_{h_{4}h_{5}}^{p_{2}p_{3}}t2_{p_{2}p_{0}}^{h_{4}h_{5}}t2_{p_{3}p_{1}}^{h_{6}h_{7}}\n + -0.03125 * \\Phi_{h_{7}h_{6}}^{p_{0}p_{1}}v_{h_{4}h_{5}}^{p_{2}p_{3}}t2_{p_{3}p_{0}}^{h_{4}h_{5}}t2_{p_{2}p_{1}}^{h_{6}h_{7}}\n + -0.03125 * \\Phi_{h_{7}h_{6}}^{p_{0}p_{1}}v_{h_{5}h_{4}}^{p_{2}p_{3}}t2_{p_{2}p_{0}}^{h_{4}h_{5}}t2_{p_{3}p_{1}}^{h_{6}h_{7}}\n + 0.0625 * \\Phi_{h_{7}h_{6}}^{p_{0}p_{1}}v_{h_{5}h_{4}}^{p_{2}p_{3}}t2_{p_{3}p_{0}}^{h_{4}h_{5}}t2_{p_{2}p_{1}}^{h_{6}h_{7}}\n + -0.03125 * \\Phi_{h_{7}h_{6}}^{p_{0}p_{1}}v_{h_{4}h_{5}}^{p_{2}p_{3}}t2_{p_{1}p_{2}}^{h_{4}h_{5}}t2_{p_{0}p_{3}}^{h_{6}h_{7}}\n + 0.0625 * \\Phi_{h_{7}h_{6}}^{p_{0}p_{1}}v_{h_{4}h_{5}}^{p_{2}p_{3}}t2_{p_{1}p_{3}}^{h_{4}h_{5}}t2_{p_{0}p_{2}}^{h_{6}h_{7}}\n + 0.0625 * \\Phi_{h_{7}h_{6}}^{p_{0}p_{1}}v_{h_{5}h_{4}}^{p_{2}p_{3}}t2_{p_{1}p_{2}}^{h_{4}h_{5}}t2_{p_{0}p_{3}}^{h_{6}h_{7}}\n + -0.03125 * \\Phi_{h_{7}h_{6}}^{p_{0}p_{1}}v_{h_{5}h_{4}}^{p_{2}p_{3}}t2_{p_{1}p_{3}}^{h_{4}h_{5}}t2_{p_{0}p_{2}}^{h_{6}h_{7}}\n + 0.0625 * \\Phi_{h_{7}h_{6}}^{p_{0}p_{1}}v_{h_{4}h_{5}}^{p_{2}p_{3}}t2_{p_{2}p_{1}}^{h_{4}h_{5}}t2_{p_{0}p_{3}}^{h_{6}h_{7}}\n + -0.03125 * \\Phi_{h_{7}h_{6}}^{p_{0}p_{1}}v_{h_{4}h_{5}}^{p_{2}p_{3}}t2_{p_{3}p_{1}}^{h_{4}h_{5}}t2_{p_{0}p_{2}}^{h_{6}h_{7}}\n + -0.03125 * \\Phi_{h_{7}h_{6}}^{p_{0}p_{1}}v_{h_{5}h_{4}}^{p_{2}p_{3}}t2_{p_{2}p_{1}}^{h_{4}h_{5}}t2_{p_{0}p_{3}}^{h_{6}h_{7}}\n + 0.0625 * \\Phi_{h_{7}h_{6}}^{p_{0}p_{1}}v_{h_{5}h_{4}}^{p_{2}p_{3}}t2_{p_{3}p_{1}}^{h_{4}h_{5}}t2_{p_{0}p_{2}}^{h_{6}h_{7}}\n + -0.125 * \\Phi_{h_{7}h_{6}}^{p_{0}p_{1}}v_{h_{4}h_{5}}^{p_{2}p_{3}}t2_{p_{2}p_{3}}^{h_{4}h_{5}}t2_{p_{0}p_{1}}^{h_{6}h_{7}}\n + 0.0625 * \\Phi_{h_{7}h_{6}}^{p_{0}p_{1}}v_{h_{4}h_{5}}^{p_{2}p_{3}}t2_{p_{3}p_{2}}^{h_{4}h_{5}}t2_{p_{0}p_{1}}^{h_{6}h_{7}}\n + 0.0625 * \\Phi_{h_{7}h_{6}}^{p_{0}p_{1}}v_{h_{5}h_{4}}^{p_{2}p_{3}}t2_{p_{2}p_{3}}^{h_{4}h_{5}}t2_{p_{0}p_{1}}^{h_{6}h_{7}}\n + -0.125 * \\Phi_{h_{7}h_{6}}^{p_{0}p_{1}}v_{h_{5}h_{4}}^{p_{2}p_{3}}t2_{p_{3}p_{2}}^{h_{4}h_{5}}t2_{p_{0}p_{1}}^{h_{6}h_{7}}\n + 0.0625 * \\Phi_{h_{7}h_{6}}^{p_{0}p_{1}}v_{h_{4}h_{5}}^{p_{2}p_{3}}t2_{p_{1}p_{2}}^{h_{4}h_{5}}t2_{p_{3}p_{0}}^{h_{6}h_{7}}\n + -0.125 * \\Phi_{h_{7}h_{6}}^{p_{0}p_{1}}v_{h_{4}h_{5}}^{p_{2}p_{3}}t2_{p_{1}p_{3}}^{h_{4}h_{5}}t2_{p_{2}p_{0}}^{h_{6}h_{7}}\n + -0.125 * \\Phi_{h_{7}h_{6}}^{p_{0}p_{1}}v_{h_{5}h_{4}}^{p_{2}p_{3}}t2_{p_{1}p_{2}}^{h_{4}h_{5}}t2_{p_{3}p_{0}}^{h_{6}h_{7}}\n + 0.0625 * \\Phi_{h_{7}h_{6}}^{p_{0}p_{1}}v_{h_{5}h_{4}}^{p_{2}p_{3}}t2_{p_{1}p_{3}}^{h_{4}h_{5}}t2_{p_{2}p_{0}}^{h_{6}h_{7}}\n + -0.125 * \\Phi_{h_{7}h_{6}}^{p_{0}p_{1}}v_{h_{4}h_{5}}^{p_{2}p_{3}}t2_{p_{2}p_{1}}^{h_{4}h_{5}}t2_{p_{3}p_{0}}^{h_{6}h_{7}}\n + 0.0625 * \\Phi_{h_{7}h_{6}}^{p_{0}p_{1}}v_{h_{4}h_{5}}^{p_{2}p_{3}}t2_{p_{3}p_{1}}^{h_{4}h_{5}}t2_{p_{2}p_{0}}^{h_{6}h_{7}}\n + 0.0625 * \\Phi_{h_{7}h_{6}}^{p_{0}p_{1}}v_{h_{5}h_{4}}^{p_{2}p_{3}}t2_{p_{2}p_{1}}^{h_{4}h_{5}}t2_{p_{3}p_{0}}^{h_{6}h_{7}}\n + -0.125 * \\Phi_{h_{7}h_{6}}^{p_{0}p_{1}}v_{h_{5}h_{4}}^{p_{2}p_{3}}t2_{p_{3}p_{1}}^{h_{4}h_{5}}t2_{p_{2}p_{0}}^{h_{6}h_{7}}\n + 0.25 * \\Phi_{h_{7}h_{6}}^{p_{0}p_{1}}v_{h_{4}h_{5}}^{p_{2}p_{3}}t2_{p_{2}p_{3}}^{h_{4}h_{5}}t2_{p_{1}p_{0}}^{h_{6}h_{7}}\n + -0.125 * \\Phi_{h_{7}h_{6}}^{p_{0}p_{1}}v_{h_{4}h_{5}}^{p_{2}p_{3}}t2_{p_{3}p_{2}}^{h_{4}h_{5}}t2_{p_{1}p_{0}}^{h_{6}h_{7}}\n + -0.125 * \\Phi_{h_{7}h_{6}}^{p_{0}p_{1}}v_{h_{5}h_{4}}^{p_{2}p_{3}}t2_{p_{2}p_{3}}^{h_{4}h_{5}}t2_{p_{1}p_{0}}^{h_{6}h_{7}}\n + 0.25 * \\Phi_{h_{7}h_{6}}^{p_{0}p_{1}}v_{h_{5}h_{4}}^{p_{2}p_{3}}t2_{p_{3}p_{2}}^{h_{4}h_{5}}t2_{p_{1}p_{0}}^{h_{6}h_{7}}\n + -0.25 * \\Phi_{h_{2}h_{3}}^{p_{0}p_{1}}t2_{p_{0}p_{1}}^{h_{2}h_{3}}v_{h_{6}h_{7}}^{p_{4}p_{5}}t2_{p_{4}p_{5}}^{h_{6}h_{7}}\n + 0.125 * \\Phi_{h_{2}h_{3}}^{p_{0}p_{1}}t2_{p_{0}p_{1}}^{h_{2}h_{3}}v_{h_{6}h_{7}}^{p_{4}p_{5}}t2_{p_{5}p_{4}}^{h_{6}h_{7}}\n + 0.125 * \\Phi_{h_{2}h_{3}}^{p_{0}p_{1}}t2_{p_{0}p_{1}}^{h_{2}h_{3}}v_{h_{7}h_{6}}^{p_{4}p_{5}}t2_{p_{4}p_{5}}^{h_{6}h_{7}}\n + -0.25 * \\Phi_{h_{2}h_{3}}^{p_{0}p_{1}}t2_{p_{0}p_{1}}^{h_{2}h_{3}}v_{h_{7}h_{6}}^{p_{4}p_{5}}t2_{p_{5}p_{4}}^{h_{6}h_{7}}\n + 0.125 * \\Phi_{h_{2}h_{3}}^{p_{0}p_{1}}t2_{p_{1}p_{0}}^{h_{2}h_{3}}v_{h_{6}h_{7}}^{p_{4}p_{5}}t2_{p_{4}p_{5}}^{h_{6}h_{7}}\n + -0.0625 * \\Phi_{h_{2}h_{3}}^{p_{0}p_{1}}t2_{p_{1}p_{0}}^{h_{2}h_{3}}v_{h_{6}h_{7}}^{p_{4}p_{5}}t2_{p_{5}p_{4}}^{h_{6}h_{7}}\n + -0.0625 * \\Phi_{h_{2}h_{3}}^{p_{0}p_{1}}t2_{p_{1}p_{0}}^{h_{2}h_{3}}v_{h_{7}h_{6}}^{p_{4}p_{5}}t2_{p_{4}p_{5}}^{h_{6}h_{7}}\n + 0.125 * \\Phi_{h_{2}h_{3}}^{p_{0}p_{1}}t2_{p_{1}p_{0}}^{h_{2}h_{3}}v_{h_{7}h_{6}}^{p_{4}p_{5}}t2_{p_{5}p_{4}}^{h_{6}h_{7}}\n + 0.125 * \\Phi_{h_{3}h_{2}}^{p_{0}p_{1}}t2_{p_{0}p_{1}}^{h_{2}h_{3}}v_{h_{6}h_{7}}^{p_{4}p_{5}}t2_{p_{4}p_{5}}^{h_{6}h_{7}}\n + -0.0625 * \\Phi_{h_{3}h_{2}}^{p_{0}p_{1}}t2_{p_{0}p_{1}}^{h_{2}h_{3}}v_{h_{6}h_{7}}^{p_{4}p_{5}}t2_{p_{5}p_{4}}^{h_{6}h_{7}}\n + -0.0625 * \\Phi_{h_{3}h_{2}}^{p_{0}p_{1}}t2_{p_{0}p_{1}}^{h_{2}h_{3}}v_{h_{7}h_{6}}^{p_{4}p_{5}}t2_{p_{4}p_{5}}^{h_{6}h_{7}}\n + 0.125 * \\Phi_{h_{3}h_{2}}^{p_{0}p_{1}}t2_{p_{0}p_{1}}^{h_{2}h_{3}}v_{h_{7}h_{6}}^{p_{4}p_{5}}t2_{p_{5}p_{4}}^{h_{6}h_{7}}\n + -0.25 * \\Phi_{h_{3}h_{2}}^{p_{0}p_{1}}t2_{p_{1}p_{0}}^{h_{2}h_{3}}v_{h_{6}h_{7}}^{p_{4}p_{5}}t2_{p_{4}p_{5}}^{h_{6}h_{7}}\n + 0.125 * \\Phi_{h_{3}h_{2}}^{p_{0}p_{1}}t2_{p_{1}p_{0}}^{h_{2}h_{3}}v_{h_{6}h_{7}}^{p_{4}p_{5}}t2_{p_{5}p_{4}}^{h_{6}h_{7}}\n + 0.125 * \\Phi_{h_{3}h_{2}}^{p_{0}p_{1}}t2_{p_{1}p_{0}}^{h_{2}h_{3}}v_{h_{7}h_{6}}^{p_{4}p_{5}}t2_{p_{4}p_{5}}^{h_{6}h_{7}}\n + -0.25 * \\Phi_{h_{3}h_{2}}^{p_{0}p_{1}}t2_{p_{1}p_{0}}^{h_{2}h_{3}}v_{h_{7}h_{6}}^{p_{4}p_{5}}t2_{p_{5}p_{4}}^{h_{6}h_{7}}\n + -0.25 * \\Phi_{h_{2}h_{3}}^{p_{0}p_{1}}t2_{p_{0}p_{1}}^{h_{2}h_{3}}v_{h_{6}h_{7}}^{p_{4}p_{5}}t2_{p_{4}p_{5}}^{h_{6}h_{7}}\n + 0.125 * \\Phi_{h_{2}h_{3}}^{p_{0}p_{1}}t2_{p_{0}p_{1}}^{h_{2}h_{3}}v_{h_{6}h_{7}}^{p_{4}p_{5}}t2_{p_{5}p_{4}}^{h_{6}h_{7}}\n + 0.125 * \\Phi_{h_{2}h_{3}}^{p_{0}p_{1}}t2_{p_{0}p_{1}}^{h_{2}h_{3}}v_{h_{7}h_{6}}^{p_{4}p_{5}}t2_{p_{4}p_{5}}^{h_{6}h_{7}}\n + -0.25 * \\Phi_{h_{2}h_{3}}^{p_{0}p_{1}}t2_{p_{0}p_{1}}^{h_{2}h_{3}}v_{h_{7}h_{6}}^{p_{4}p_{5}}t2_{p_{5}p_{4}}^{h_{6}h_{7}}\n + 0.125 * \\Phi_{h_{2}h_{3}}^{p_{0}p_{1}}t2_{p_{1}p_{0}}^{h_{2}h_{3}}v_{h_{6}h_{7}}^{p_{4}p_{5}}t2_{p_{4}p_{5}}^{h_{6}h_{7}}\n + -0.0625 * \\Phi_{h_{2}h_{3}}^{p_{0}p_{1}}t2_{p_{1}p_{0}}^{h_{2}h_{3}}v_{h_{6}h_{7}}^{p_{4}p_{5}}t2_{p_{5}p_{4}}^{h_{6}h_{7}}\n + -0.0625 * \\Phi_{h_{2}h_{3}}^{p_{0}p_{1}}t2_{p_{1}p_{0}}^{h_{2}h_{3}}v_{h_{7}h_{6}}^{p_{4}p_{5}}t2_{p_{4}p_{5}}^{h_{6}h_{7}}\n + 0.125 * \\Phi_{h_{2}h_{3}}^{p_{0}p_{1}}t2_{p_{1}p_{0}}^{h_{2}h_{3}}v_{h_{7}h_{6}}^{p_{4}p_{5}}t2_{p_{5}p_{4}}^{h_{6}h_{7}}\n + 0.125 * \\Phi_{h_{3}h_{2}}^{p_{0}p_{1}}t2_{p_{0}p_{1}}^{h_{2}h_{3}}v_{h_{6}h_{7}}^{p_{4}p_{5}}t2_{p_{4}p_{5}}^{h_{6}h_{7}}\n + -0.0625 * \\Phi_{h_{3}h_{2}}^{p_{0}p_{1}}t2_{p_{0}p_{1}}^{h_{2}h_{3}}v_{h_{6}h_{7}}^{p_{4}p_{5}}t2_{p_{5}p_{4}}^{h_{6}h_{7}}\n + -0.0625 * \\Phi_{h_{3}h_{2}}^{p_{0}p_{1}}t2_{p_{0}p_{1}}^{h_{2}h_{3}}v_{h_{7}h_{6}}^{p_{4}p_{5}}t2_{p_{4}p_{5}}^{h_{6}h_{7}}\n + 0.125 * \\Phi_{h_{3}h_{2}}^{p_{0}p_{1}}t2_{p_{0}p_{1}}^{h_{2}h_{3}}v_{h_{7}h_{6}}^{p_{4}p_{5}}t2_{p_{5}p_{4}}^{h_{6}h_{7}}\n + -0.25 * \\Phi_{h_{3}h_{2}}^{p_{0}p_{1}}t2_{p_{1}p_{0}}^{h_{2}h_{3}}v_{h_{6}h_{7}}^{p_{4}p_{5}}t2_{p_{4}p_{5}}^{h_{6}h_{7}}\n + 0.125 * \\Phi_{h_{3}h_{2}}^{p_{0}p_{1}}t2_{p_{1}p_{0}}^{h_{2}h_{3}}v_{h_{6}h_{7}}^{p_{4}p_{5}}t2_{p_{5}p_{4}}^{h_{6}h_{7}}\n + 0.125 * \\Phi_{h_{3}h_{2}}^{p_{0}p_{1}}t2_{p_{1}p_{0}}^{h_{2}h_{3}}v_{h_{7}h_{6}}^{p_{4}p_{5}}t2_{p_{4}p_{5}}^{h_{6}h_{7}}\n + -0.25 * \\Phi_{h_{3}h_{2}}^{p_{0}p_{1}}t2_{p_{1}p_{0}}^{h_{2}h_{3}}v_{h_{7}h_{6}}^{p_{4}p_{5}}t2_{p_{5}p_{4}}^{h_{6}h_{7}}\n"
     ]
    }
   ],
   "source": [
    "time0 = time.time()\n",
    "CCDDoublesResidual = evaluateWick(projectionManifold(2) *  transformH)\n",
    "time1 = time.time()\n",
    "print(time1-time0)\n",
    "print(CCDDoublesResidual)"
   ]
  },
  {
   "cell_type": "code",
   "execution_count": 110,
   "metadata": {},
   "outputs": [
    {
     "output_type": "stream",
     "name": "stdout",
     "text": [
      "2308.2655238360003\n"
     ]
    }
   ],
   "source": [
    "print(time1-time0)"
   ]
  },
  {
   "cell_type": "code",
   "execution_count": 182,
   "metadata": {},
   "outputs": [
    {
     "output_type": "execute_result",
     "data": {
      "text/plain": [
       "[<__main__.Tensor at 0x11bd9c1f0>,\n",
       " <__main__.Tensor at 0x1210afa60>,\n",
       " <__main__.Tensor at 0x10e0521f0>]"
      ]
     },
     "metadata": {},
     "execution_count": 182
    }
   ],
   "source": [
    "CCDDoublesResidual.summandList[0].tensorList"
   ]
  },
  {
   "cell_type": "code",
   "execution_count": 111,
   "metadata": {},
   "outputs": [
    {
     "output_type": "stream",
     "name": "stdout",
     "text": [
      "-2.0 * \\delta^{h_{0}}_{h_{2}}\\delta^{h_{1}}_{h_{3}}\\delta^{p_{2}}_{p_{0}}\\delta^{p_{4}}_{p_{1}}\\delta^{p_{5}}_{p_{3}}\n4.0 * \\delta^{h_{0}}_{h_{2}}\\delta^{h_{1}}_{h_{3}}\\delta^{p_{2}}_{p_{0}}\\delta^{p_{5}}_{p_{1}}\\delta^{p_{4}}_{p_{3}}\n4.0 * \\delta^{h_{0}}_{h_{2}}\\delta^{h_{1}}_{h_{3}}\\delta^{p_{4}}_{p_{0}}\\delta^{p_{2}}_{p_{1}}\\delta^{p_{5}}_{p_{3}}\n-2.0 * \\delta^{h_{0}}_{h_{2}}\\delta^{h_{1}}_{h_{3}}\\delta^{p_{5}}_{p_{0}}\\delta^{p_{2}}_{p_{1}}\\delta^{p_{4}}_{p_{3}}\n4.0 * \\delta^{h_{0}}_{h_{3}}\\delta^{h_{1}}_{h_{2}}\\delta^{p_{2}}_{p_{0}}\\delta^{p_{4}}_{p_{1}}\\delta^{p_{5}}_{p_{3}}\n-2.0 * \\delta^{h_{0}}_{h_{3}}\\delta^{h_{1}}_{h_{2}}\\delta^{p_{2}}_{p_{0}}\\delta^{p_{5}}_{p_{1}}\\delta^{p_{4}}_{p_{3}}\n-2.0 * \\delta^{h_{0}}_{h_{3}}\\delta^{h_{1}}_{h_{2}}\\delta^{p_{4}}_{p_{0}}\\delta^{p_{2}}_{p_{1}}\\delta^{p_{5}}_{p_{3}}\n4.0 * \\delta^{h_{0}}_{h_{3}}\\delta^{h_{1}}_{h_{2}}\\delta^{p_{5}}_{p_{0}}\\delta^{p_{2}}_{p_{1}}\\delta^{p_{4}}_{p_{3}}\n"
     ]
    }
   ],
   "source": [
    "for s in recursiveVacuumExpectationValue((projectionManifold(2) * transformH.summandList[0]).getOperator(), speedup=False).summandList:\n",
    "    print(s)"
   ]
  },
  {
   "cell_type": "code",
   "execution_count": 112,
   "metadata": {},
   "outputs": [
    {
     "output_type": "stream",
     "name": "stdout",
     "text": [
      "-0.5 * \\Phi_{h_{2}h_{3}}^{p_{0}p_{1}}f_{p_{0}}^{p_{3}}t2_{p_{1}p_{3}}^{h_{2}h_{3}}\n + 1.0 * \\Phi_{h_{2}h_{3}}^{p_{0}p_{1}}f_{p_{0}}^{p_{3}}t2_{p_{3}p_{1}}^{h_{2}h_{3}}\n + 1.0 * \\Phi_{h_{2}h_{3}}^{p_{0}p_{1}}f_{p_{1}}^{p_{3}}t2_{p_{0}p_{3}}^{h_{2}h_{3}}\n + -0.5 * \\Phi_{h_{2}h_{3}}^{p_{0}p_{1}}f_{p_{1}}^{p_{3}}t2_{p_{3}p_{0}}^{h_{2}h_{3}}\n + 1.0 * \\Phi_{h_{3}h_{2}}^{p_{0}p_{1}}f_{p_{0}}^{p_{3}}t2_{p_{1}p_{3}}^{h_{2}h_{3}}\n + -0.5 * \\Phi_{h_{3}h_{2}}^{p_{0}p_{1}}f_{p_{0}}^{p_{3}}t2_{p_{3}p_{1}}^{h_{2}h_{3}}\n + -0.5 * \\Phi_{h_{3}h_{2}}^{p_{0}p_{1}}f_{p_{1}}^{p_{3}}t2_{p_{0}p_{3}}^{h_{2}h_{3}}\n + 1.0 * \\Phi_{h_{3}h_{2}}^{p_{0}p_{1}}f_{p_{1}}^{p_{3}}t2_{p_{3}p_{0}}^{h_{2}h_{3}}\n + 0.5 * \\Phi_{h_{3}h_{4}}^{p_{0}p_{1}}f_{h_{5}}^{h_{3}}t2_{p_{0}p_{1}}^{h_{4}h_{5}}\n + -1.0 * \\Phi_{h_{3}h_{4}}^{p_{0}p_{1}}f_{h_{5}}^{h_{3}}t2_{p_{1}p_{0}}^{h_{4}h_{5}}\n + -1.0 * \\Phi_{h_{3}h_{5}}^{p_{0}p_{1}}f_{h_{4}}^{h_{3}}t2_{p_{0}p_{1}}^{h_{4}h_{5}}\n + 0.5 * \\Phi_{h_{3}h_{5}}^{p_{0}p_{1}}f_{h_{4}}^{h_{3}}t2_{p_{1}p_{0}}^{h_{4}h_{5}}\n + -1.0 * \\Phi_{h_{4}h_{3}}^{p_{0}p_{1}}f_{h_{5}}^{h_{3}}t2_{p_{0}p_{1}}^{h_{4}h_{5}}\n + 0.5 * \\Phi_{h_{4}h_{3}}^{p_{0}p_{1}}f_{h_{5}}^{h_{3}}t2_{p_{1}p_{0}}^{h_{4}h_{5}}\n + 2.0 * \\Phi_{h_{4}h_{5}}^{p_{0}p_{1}}f_{h_{3}}^{h_{3}}t2_{p_{0}p_{1}}^{h_{4}h_{5}}\n + -1.0 * \\Phi_{h_{4}h_{5}}^{p_{0}p_{1}}f_{h_{3}}^{h_{3}}t2_{p_{1}p_{0}}^{h_{4}h_{5}}\n + 0.5 * \\Phi_{h_{5}h_{3}}^{p_{0}p_{1}}f_{h_{4}}^{h_{3}}t2_{p_{0}p_{1}}^{h_{4}h_{5}}\n + -1.0 * \\Phi_{h_{5}h_{3}}^{p_{0}p_{1}}f_{h_{4}}^{h_{3}}t2_{p_{1}p_{0}}^{h_{4}h_{5}}\n + -1.0 * \\Phi_{h_{5}h_{4}}^{p_{0}p_{1}}f_{h_{3}}^{h_{3}}t2_{p_{0}p_{1}}^{h_{4}h_{5}}\n + 2.0 * \\Phi_{h_{5}h_{4}}^{p_{0}p_{1}}f_{h_{3}}^{h_{3}}t2_{p_{1}p_{0}}^{h_{4}h_{5}}\n + -2.0 * \\Phi_{h_{2}h_{3}}^{p_{0}p_{1}}t2_{p_{0}p_{1}}^{h_{2}h_{3}}f_{h_{5}}^{h_{5}}\n + 1.0 * \\Phi_{h_{2}h_{3}}^{p_{0}p_{1}}t2_{p_{1}p_{0}}^{h_{2}h_{3}}f_{h_{5}}^{h_{5}}\n + 1.0 * \\Phi_{h_{3}h_{2}}^{p_{0}p_{1}}t2_{p_{0}p_{1}}^{h_{2}h_{3}}f_{h_{5}}^{h_{5}}\n + -2.0 * \\Phi_{h_{3}h_{2}}^{p_{0}p_{1}}t2_{p_{1}p_{0}}^{h_{2}h_{3}}f_{h_{5}}^{h_{5}}\n + -0.25 * \\Phi_{h_{2}h_{3}}^{p_{0}p_{1}}v_{p_{0}p_{1}}^{p_{4}p_{5}}t2_{p_{4}p_{5}}^{h_{2}h_{3}}\n + 0.5 * \\Phi_{h_{2}h_{3}}^{p_{0}p_{1}}v_{p_{0}p_{1}}^{p_{4}p_{5}}t2_{p_{5}p_{4}}^{h_{2}h_{3}}\n + 0.5 * \\Phi_{h_{2}h_{3}}^{p_{0}p_{1}}v_{p_{1}p_{0}}^{p_{4}p_{5}}t2_{p_{4}p_{5}}^{h_{2}h_{3}}\n + -0.25 * \\Phi_{h_{2}h_{3}}^{p_{0}p_{1}}v_{p_{1}p_{0}}^{p_{4}p_{5}}t2_{p_{5}p_{4}}^{h_{2}h_{3}}\n + 0.5 * \\Phi_{h_{3}h_{2}}^{p_{0}p_{1}}v_{p_{0}p_{1}}^{p_{4}p_{5}}t2_{p_{4}p_{5}}^{h_{2}h_{3}}\n + -0.25 * \\Phi_{h_{3}h_{2}}^{p_{0}p_{1}}v_{p_{0}p_{1}}^{p_{4}p_{5}}t2_{p_{5}p_{4}}^{h_{2}h_{3}}\n + -0.25 * \\Phi_{h_{3}h_{2}}^{p_{0}p_{1}}v_{p_{1}p_{0}}^{p_{4}p_{5}}t2_{p_{4}p_{5}}^{h_{2}h_{3}}\n + 0.5 * \\Phi_{h_{3}h_{2}}^{p_{0}p_{1}}v_{p_{1}p_{0}}^{p_{4}p_{5}}t2_{p_{5}p_{4}}^{h_{2}h_{3}}\n + -0.25 * \\Phi_{h_{4}h_{5}}^{p_{0}p_{1}}v_{h_{6}h_{7}}^{h_{4}h_{5}}t2_{p_{0}p_{1}}^{h_{6}h_{7}}\n + 0.5 * \\Phi_{h_{4}h_{5}}^{p_{0}p_{1}}v_{h_{7}h_{6}}^{h_{4}h_{5}}t2_{p_{0}p_{1}}^{h_{6}h_{7}}\n + 0.5 * \\Phi_{h_{4}h_{5}}^{p_{0}p_{1}}v_{h_{6}h_{7}}^{h_{4}h_{5}}t2_{p_{1}p_{0}}^{h_{6}h_{7}}\n + -0.25 * \\Phi_{h_{4}h_{5}}^{p_{0}p_{1}}v_{h_{7}h_{6}}^{h_{4}h_{5}}t2_{p_{1}p_{0}}^{h_{6}h_{7}}\n + 0.5 * \\Phi_{h_{4}h_{6}}^{p_{0}p_{1}}v_{h_{5}h_{7}}^{h_{4}h_{5}}t2_{p_{0}p_{1}}^{h_{6}h_{7}}\n + -0.25 * \\Phi_{h_{4}h_{6}}^{p_{0}p_{1}}v_{h_{7}h_{5}}^{h_{4}h_{5}}t2_{p_{0}p_{1}}^{h_{6}h_{7}}\n + -1.0 * \\Phi_{h_{4}h_{6}}^{p_{0}p_{1}}v_{h_{5}h_{7}}^{h_{4}h_{5}}t2_{p_{1}p_{0}}^{h_{6}h_{7}}\n + 0.5 * \\Phi_{h_{4}h_{6}}^{p_{0}p_{1}}v_{h_{7}h_{5}}^{h_{4}h_{5}}t2_{p_{1}p_{0}}^{h_{6}h_{7}}\n + -1.0 * \\Phi_{h_{4}h_{7}}^{p_{0}p_{1}}v_{h_{5}h_{6}}^{h_{4}h_{5}}t2_{p_{0}p_{1}}^{h_{6}h_{7}}\n + 0.5 * \\Phi_{h_{4}h_{7}}^{p_{0}p_{1}}v_{h_{6}h_{5}}^{h_{4}h_{5}}t2_{p_{0}p_{1}}^{h_{6}h_{7}}\n + 0.5 * \\Phi_{h_{4}h_{7}}^{p_{0}p_{1}}v_{h_{5}h_{6}}^{h_{4}h_{5}}t2_{p_{1}p_{0}}^{h_{6}h_{7}}\n + -0.25 * \\Phi_{h_{4}h_{7}}^{p_{0}p_{1}}v_{h_{6}h_{5}}^{h_{4}h_{5}}t2_{p_{1}p_{0}}^{h_{6}h_{7}}\n + 0.5 * \\Phi_{h_{5}h_{4}}^{p_{0}p_{1}}v_{h_{6}h_{7}}^{h_{4}h_{5}}t2_{p_{0}p_{1}}^{h_{6}h_{7}}\n + -0.25 * \\Phi_{h_{5}h_{4}}^{p_{0}p_{1}}v_{h_{7}h_{6}}^{h_{4}h_{5}}t2_{p_{0}p_{1}}^{h_{6}h_{7}}\n + -0.25 * \\Phi_{h_{5}h_{4}}^{p_{0}p_{1}}v_{h_{6}h_{7}}^{h_{4}h_{5}}t2_{p_{1}p_{0}}^{h_{6}h_{7}}\n + 0.5 * \\Phi_{h_{5}h_{4}}^{p_{0}p_{1}}v_{h_{7}h_{6}}^{h_{4}h_{5}}t2_{p_{1}p_{0}}^{h_{6}h_{7}}\n + -0.25 * \\Phi_{h_{5}h_{6}}^{p_{0}p_{1}}v_{h_{4}h_{7}}^{h_{4}h_{5}}t2_{p_{0}p_{1}}^{h_{6}h_{7}}\n + 0.5 * \\Phi_{h_{5}h_{6}}^{p_{0}p_{1}}v_{h_{7}h_{4}}^{h_{4}h_{5}}t2_{p_{0}p_{1}}^{h_{6}h_{7}}\n + 0.5 * \\Phi_{h_{5}h_{6}}^{p_{0}p_{1}}v_{h_{4}h_{7}}^{h_{4}h_{5}}t2_{p_{1}p_{0}}^{h_{6}h_{7}}\n + -1.0 * \\Phi_{h_{5}h_{6}}^{p_{0}p_{1}}v_{h_{7}h_{4}}^{h_{4}h_{5}}t2_{p_{1}p_{0}}^{h_{6}h_{7}}\n + 0.5 * \\Phi_{h_{5}h_{7}}^{p_{0}p_{1}}v_{h_{4}h_{6}}^{h_{4}h_{5}}t2_{p_{0}p_{1}}^{h_{6}h_{7}}\n + -1.0 * \\Phi_{h_{5}h_{7}}^{p_{0}p_{1}}v_{h_{6}h_{4}}^{h_{4}h_{5}}t2_{p_{0}p_{1}}^{h_{6}h_{7}}\n + -0.25 * \\Phi_{h_{5}h_{7}}^{p_{0}p_{1}}v_{h_{4}h_{6}}^{h_{4}h_{5}}t2_{p_{1}p_{0}}^{h_{6}h_{7}}\n + 0.5 * \\Phi_{h_{5}h_{7}}^{p_{0}p_{1}}v_{h_{6}h_{4}}^{h_{4}h_{5}}t2_{p_{1}p_{0}}^{h_{6}h_{7}}\n + -1.0 * \\Phi_{h_{6}h_{4}}^{p_{0}p_{1}}v_{h_{5}h_{7}}^{h_{4}h_{5}}t2_{p_{0}p_{1}}^{h_{6}h_{7}}\n + 0.5 * \\Phi_{h_{6}h_{4}}^{p_{0}p_{1}}v_{h_{7}h_{5}}^{h_{4}h_{5}}t2_{p_{0}p_{1}}^{h_{6}h_{7}}\n + 0.5 * \\Phi_{h_{6}h_{4}}^{p_{0}p_{1}}v_{h_{5}h_{7}}^{h_{4}h_{5}}t2_{p_{1}p_{0}}^{h_{6}h_{7}}\n + -0.25 * \\Phi_{h_{6}h_{4}}^{p_{0}p_{1}}v_{h_{7}h_{5}}^{h_{4}h_{5}}t2_{p_{1}p_{0}}^{h_{6}h_{7}}\n + 0.5 * \\Phi_{h_{6}h_{5}}^{p_{0}p_{1}}v_{h_{4}h_{7}}^{h_{4}h_{5}}t2_{p_{0}p_{1}}^{h_{6}h_{7}}\n + -1.0 * \\Phi_{h_{6}h_{5}}^{p_{0}p_{1}}v_{h_{7}h_{4}}^{h_{4}h_{5}}t2_{p_{0}p_{1}}^{h_{6}h_{7}}\n + -0.25 * \\Phi_{h_{6}h_{5}}^{p_{0}p_{1}}v_{h_{4}h_{7}}^{h_{4}h_{5}}t2_{p_{1}p_{0}}^{h_{6}h_{7}}\n + 0.5 * \\Phi_{h_{6}h_{5}}^{p_{0}p_{1}}v_{h_{7}h_{4}}^{h_{4}h_{5}}t2_{p_{1}p_{0}}^{h_{6}h_{7}}\n + -1.0 * \\Phi_{h_{6}h_{7}}^{p_{0}p_{1}}v_{h_{4}h_{5}}^{h_{4}h_{5}}t2_{p_{0}p_{1}}^{h_{6}h_{7}}\n + 2.0 * \\Phi_{h_{6}h_{7}}^{p_{0}p_{1}}v_{h_{5}h_{4}}^{h_{4}h_{5}}t2_{p_{0}p_{1}}^{h_{6}h_{7}}\n + 0.5 * \\Phi_{h_{6}h_{7}}^{p_{0}p_{1}}v_{h_{4}h_{5}}^{h_{4}h_{5}}t2_{p_{1}p_{0}}^{h_{6}h_{7}}\n + -1.0 * \\Phi_{h_{6}h_{7}}^{p_{0}p_{1}}v_{h_{5}h_{4}}^{h_{4}h_{5}}t2_{p_{1}p_{0}}^{h_{6}h_{7}}\n + 0.5 * \\Phi_{h_{7}h_{4}}^{p_{0}p_{1}}v_{h_{5}h_{6}}^{h_{4}h_{5}}t2_{p_{0}p_{1}}^{h_{6}h_{7}}\n + -0.25 * \\Phi_{h_{7}h_{4}}^{p_{0}p_{1}}v_{h_{6}h_{5}}^{h_{4}h_{5}}t2_{p_{0}p_{1}}^{h_{6}h_{7}}\n + -1.0 * \\Phi_{h_{7}h_{4}}^{p_{0}p_{1}}v_{h_{5}h_{6}}^{h_{4}h_{5}}t2_{p_{1}p_{0}}^{h_{6}h_{7}}\n + 0.5 * \\Phi_{h_{7}h_{4}}^{p_{0}p_{1}}v_{h_{6}h_{5}}^{h_{4}h_{5}}t2_{p_{1}p_{0}}^{h_{6}h_{7}}\n + -0.25 * \\Phi_{h_{7}h_{5}}^{p_{0}p_{1}}v_{h_{4}h_{6}}^{h_{4}h_{5}}t2_{p_{0}p_{1}}^{h_{6}h_{7}}\n + 0.5 * \\Phi_{h_{7}h_{5}}^{p_{0}p_{1}}v_{h_{6}h_{4}}^{h_{4}h_{5}}t2_{p_{0}p_{1}}^{h_{6}h_{7}}\n + 0.5 * \\Phi_{h_{7}h_{5}}^{p_{0}p_{1}}v_{h_{4}h_{6}}^{h_{4}h_{5}}t2_{p_{1}p_{0}}^{h_{6}h_{7}}\n + -1.0 * \\Phi_{h_{7}h_{5}}^{p_{0}p_{1}}v_{h_{6}h_{4}}^{h_{4}h_{5}}t2_{p_{1}p_{0}}^{h_{6}h_{7}}\n + 0.5 * \\Phi_{h_{7}h_{6}}^{p_{0}p_{1}}v_{h_{4}h_{5}}^{h_{4}h_{5}}t2_{p_{0}p_{1}}^{h_{6}h_{7}}\n + -1.0 * \\Phi_{h_{7}h_{6}}^{p_{0}p_{1}}v_{h_{5}h_{4}}^{h_{4}h_{5}}t2_{p_{0}p_{1}}^{h_{6}h_{7}}\n + -1.0 * \\Phi_{h_{7}h_{6}}^{p_{0}p_{1}}v_{h_{4}h_{5}}^{h_{4}h_{5}}t2_{p_{1}p_{0}}^{h_{6}h_{7}}\n + 2.0 * \\Phi_{h_{7}h_{6}}^{p_{0}p_{1}}v_{h_{5}h_{4}}^{h_{4}h_{5}}t2_{p_{1}p_{0}}^{h_{6}h_{7}}\n + 1.0 * \\Phi_{h_{2}h_{3}}^{p_{0}p_{1}}t2_{p_{0}p_{1}}^{h_{2}h_{3}}v_{h_{6}h_{7}}^{h_{6}h_{7}}\n + -2.0 * \\Phi_{h_{2}h_{3}}^{p_{0}p_{1}}t2_{p_{0}p_{1}}^{h_{2}h_{3}}v_{h_{7}h_{6}}^{h_{6}h_{7}}\n + -0.5 * \\Phi_{h_{2}h_{3}}^{p_{0}p_{1}}t2_{p_{1}p_{0}}^{h_{2}h_{3}}v_{h_{6}h_{7}}^{h_{6}h_{7}}\n + 1.0 * \\Phi_{h_{2}h_{3}}^{p_{0}p_{1}}t2_{p_{1}p_{0}}^{h_{2}h_{3}}v_{h_{7}h_{6}}^{h_{6}h_{7}}\n + -0.5 * \\Phi_{h_{3}h_{2}}^{p_{0}p_{1}}t2_{p_{0}p_{1}}^{h_{2}h_{3}}v_{h_{6}h_{7}}^{h_{6}h_{7}}\n + 1.0 * \\Phi_{h_{3}h_{2}}^{p_{0}p_{1}}t2_{p_{0}p_{1}}^{h_{2}h_{3}}v_{h_{7}h_{6}}^{h_{6}h_{7}}\n + 1.0 * \\Phi_{h_{3}h_{2}}^{p_{0}p_{1}}t2_{p_{1}p_{0}}^{h_{2}h_{3}}v_{h_{6}h_{7}}^{h_{6}h_{7}}\n + -2.0 * \\Phi_{h_{3}h_{2}}^{p_{0}p_{1}}t2_{p_{1}p_{0}}^{h_{2}h_{3}}v_{h_{7}h_{6}}^{h_{6}h_{7}}\n + -0.5 * \\Phi_{h_{3}h_{4}}^{p_{0}p_{1}}v_{h_{5}p_{0}}^{p_{3}h_{3}}t2_{p_{1}p_{3}}^{h_{4}h_{5}}\n + 0.25 * \\Phi_{h_{3}h_{4}}^{p_{0}p_{1}}v_{h_{5}p_{0}}^{p_{3}h_{3}}t2_{p_{3}p_{1}}^{h_{4}h_{5}}\n + 0.25 * \\Phi_{h_{3}h_{4}}^{p_{0}p_{1}}v_{h_{5}p_{1}}^{p_{3}h_{3}}t2_{p_{0}p_{3}}^{h_{4}h_{5}}\n + -0.5 * \\Phi_{h_{3}h_{4}}^{p_{0}p_{1}}v_{h_{5}p_{1}}^{p_{3}h_{3}}t2_{p_{3}p_{0}}^{h_{4}h_{5}}\n + 0.25 * \\Phi_{h_{3}h_{5}}^{p_{0}p_{1}}v_{h_{4}p_{0}}^{p_{3}h_{3}}t2_{p_{1}p_{3}}^{h_{4}h_{5}}\n + -0.5 * \\Phi_{h_{3}h_{5}}^{p_{0}p_{1}}v_{h_{4}p_{0}}^{p_{3}h_{3}}t2_{p_{3}p_{1}}^{h_{4}h_{5}}\n + -0.5 * \\Phi_{h_{3}h_{5}}^{p_{0}p_{1}}v_{h_{4}p_{1}}^{p_{3}h_{3}}t2_{p_{0}p_{3}}^{h_{4}h_{5}}\n + 0.25 * \\Phi_{h_{3}h_{5}}^{p_{0}p_{1}}v_{h_{4}p_{1}}^{p_{3}h_{3}}t2_{p_{3}p_{0}}^{h_{4}h_{5}}\n + 0.25 * \\Phi_{h_{4}h_{3}}^{p_{0}p_{1}}v_{h_{5}p_{0}}^{p_{3}h_{3}}t2_{p_{1}p_{3}}^{h_{4}h_{5}}\n + -0.5 * \\Phi_{h_{4}h_{3}}^{p_{0}p_{1}}v_{h_{5}p_{0}}^{p_{3}h_{3}}t2_{p_{3}p_{1}}^{h_{4}h_{5}}\n + -0.5 * \\Phi_{h_{4}h_{3}}^{p_{0}p_{1}}v_{h_{5}p_{1}}^{p_{3}h_{3}}t2_{p_{0}p_{3}}^{h_{4}h_{5}}\n + 0.25 * \\Phi_{h_{4}h_{3}}^{p_{0}p_{1}}v_{h_{5}p_{1}}^{p_{3}h_{3}}t2_{p_{3}p_{0}}^{h_{4}h_{5}}\n + -0.5 * \\Phi_{h_{4}h_{5}}^{p_{0}p_{1}}v_{h_{3}p_{0}}^{p_{3}h_{3}}t2_{p_{1}p_{3}}^{h_{4}h_{5}}\n + 1.0 * \\Phi_{h_{4}h_{5}}^{p_{0}p_{1}}v_{h_{3}p_{0}}^{p_{3}h_{3}}t2_{p_{3}p_{1}}^{h_{4}h_{5}}\n + 1.0 * \\Phi_{h_{4}h_{5}}^{p_{0}p_{1}}v_{h_{3}p_{1}}^{p_{3}h_{3}}t2_{p_{0}p_{3}}^{h_{4}h_{5}}\n + -0.5 * \\Phi_{h_{4}h_{5}}^{p_{0}p_{1}}v_{h_{3}p_{1}}^{p_{3}h_{3}}t2_{p_{3}p_{0}}^{h_{4}h_{5}}\n + -0.5 * \\Phi_{h_{5}h_{3}}^{p_{0}p_{1}}v_{h_{4}p_{0}}^{p_{3}h_{3}}t2_{p_{1}p_{3}}^{h_{4}h_{5}}\n + 0.25 * \\Phi_{h_{5}h_{3}}^{p_{0}p_{1}}v_{h_{4}p_{0}}^{p_{3}h_{3}}t2_{p_{3}p_{1}}^{h_{4}h_{5}}\n + 0.25 * \\Phi_{h_{5}h_{3}}^{p_{0}p_{1}}v_{h_{4}p_{1}}^{p_{3}h_{3}}t2_{p_{0}p_{3}}^{h_{4}h_{5}}\n + -0.5 * \\Phi_{h_{5}h_{3}}^{p_{0}p_{1}}v_{h_{4}p_{1}}^{p_{3}h_{3}}t2_{p_{3}p_{0}}^{h_{4}h_{5}}\n + 1.0 * \\Phi_{h_{5}h_{4}}^{p_{0}p_{1}}v_{h_{3}p_{0}}^{p_{3}h_{3}}t2_{p_{1}p_{3}}^{h_{4}h_{5}}\n + -0.5 * \\Phi_{h_{5}h_{4}}^{p_{0}p_{1}}v_{h_{3}p_{0}}^{p_{3}h_{3}}t2_{p_{3}p_{1}}^{h_{4}h_{5}}\n + -0.5 * \\Phi_{h_{5}h_{4}}^{p_{0}p_{1}}v_{h_{3}p_{1}}^{p_{3}h_{3}}t2_{p_{0}p_{3}}^{h_{4}h_{5}}\n + 1.0 * \\Phi_{h_{5}h_{4}}^{p_{0}p_{1}}v_{h_{3}p_{1}}^{p_{3}h_{3}}t2_{p_{3}p_{0}}^{h_{4}h_{5}}\n + 2.0 * \\Phi_{h_{2}h_{3}}^{p_{0}p_{1}}v_{p_{0}p_{1}}^{h_{2}h_{3}}\n + -1.0 * \\Phi_{h_{2}h_{3}}^{p_{0}p_{1}}v_{p_{1}p_{0}}^{h_{2}h_{3}}\n + -1.0 * \\Phi_{h_{3}h_{2}}^{p_{0}p_{1}}v_{p_{0}p_{1}}^{h_{2}h_{3}}\n + 2.0 * \\Phi_{h_{3}h_{2}}^{p_{0}p_{1}}v_{p_{1}p_{0}}^{h_{2}h_{3}}\n + 0.25 * \\Phi_{h_{4}h_{5}}^{p_{0}p_{1}}v_{h_{6}h_{7}}^{p_{2}p_{3}}t2_{p_{0}p_{1}}^{h_{4}h_{5}}t2_{p_{2}p_{3}}^{h_{6}h_{7}}\n + -0.125 * \\Phi_{h_{4}h_{5}}^{p_{0}p_{1}}v_{h_{6}h_{7}}^{p_{2}p_{3}}t2_{p_{0}p_{1}}^{h_{4}h_{5}}t2_{p_{3}p_{2}}^{h_{6}h_{7}}\n + -0.125 * \\Phi_{h_{4}h_{5}}^{p_{0}p_{1}}v_{h_{7}h_{6}}^{p_{2}p_{3}}t2_{p_{0}p_{1}}^{h_{4}h_{5}}t2_{p_{2}p_{3}}^{h_{6}h_{7}}\n + 0.25 * \\Phi_{h_{4}h_{5}}^{p_{0}p_{1}}v_{h_{7}h_{6}}^{p_{2}p_{3}}t2_{p_{0}p_{1}}^{h_{4}h_{5}}t2_{p_{3}p_{2}}^{h_{6}h_{7}}\n + -0.125 * \\Phi_{h_{4}h_{5}}^{p_{0}p_{1}}v_{h_{6}h_{7}}^{p_{2}p_{3}}t2_{p_{0}p_{2}}^{h_{4}h_{5}}t2_{p_{1}p_{3}}^{h_{6}h_{7}}\n + 0.0625 * \\Phi_{h_{4}h_{5}}^{p_{0}p_{1}}v_{h_{6}h_{7}}^{p_{2}p_{3}}t2_{p_{0}p_{3}}^{h_{4}h_{5}}t2_{p_{1}p_{2}}^{h_{6}h_{7}}\n + 0.0625 * \\Phi_{h_{4}h_{5}}^{p_{0}p_{1}}v_{h_{7}h_{6}}^{p_{2}p_{3}}t2_{p_{0}p_{2}}^{h_{4}h_{5}}t2_{p_{1}p_{3}}^{h_{6}h_{7}}\n + -0.125 * \\Phi_{h_{4}h_{5}}^{p_{0}p_{1}}v_{h_{7}h_{6}}^{p_{2}p_{3}}t2_{p_{0}p_{3}}^{h_{4}h_{5}}t2_{p_{1}p_{2}}^{h_{6}h_{7}}\n + 0.0625 * \\Phi_{h_{4}h_{5}}^{p_{0}p_{1}}v_{h_{6}h_{7}}^{p_{2}p_{3}}t2_{p_{0}p_{2}}^{h_{4}h_{5}}t2_{p_{3}p_{1}}^{h_{6}h_{7}}\n + -0.125 * \\Phi_{h_{4}h_{5}}^{p_{0}p_{1}}v_{h_{6}h_{7}}^{p_{2}p_{3}}t2_{p_{0}p_{3}}^{h_{4}h_{5}}t2_{p_{2}p_{1}}^{h_{6}h_{7}}\n + -0.125 * \\Phi_{h_{4}h_{5}}^{p_{0}p_{1}}v_{h_{7}h_{6}}^{p_{2}p_{3}}t2_{p_{0}p_{2}}^{h_{4}h_{5}}t2_{p_{3}p_{1}}^{h_{6}h_{7}}\n + 0.0625 * \\Phi_{h_{4}h_{5}}^{p_{0}p_{1}}v_{h_{7}h_{6}}^{p_{2}p_{3}}t2_{p_{0}p_{3}}^{h_{4}h_{5}}t2_{p_{2}p_{1}}^{h_{6}h_{7}}\n + -0.125 * \\Phi_{h_{4}h_{5}}^{p_{0}p_{1}}v_{h_{6}h_{7}}^{p_{2}p_{3}}t2_{p_{1}p_{0}}^{h_{4}h_{5}}t2_{p_{2}p_{3}}^{h_{6}h_{7}}\n + 0.0625 * \\Phi_{h_{4}h_{5}}^{p_{0}p_{1}}v_{h_{6}h_{7}}^{p_{2}p_{3}}t2_{p_{1}p_{0}}^{h_{4}h_{5}}t2_{p_{3}p_{2}}^{h_{6}h_{7}}\n + 0.0625 * \\Phi_{h_{4}h_{5}}^{p_{0}p_{1}}v_{h_{7}h_{6}}^{p_{2}p_{3}}t2_{p_{1}p_{0}}^{h_{4}h_{5}}t2_{p_{2}p_{3}}^{h_{6}h_{7}}\n + -0.125 * \\Phi_{h_{4}h_{5}}^{p_{0}p_{1}}v_{h_{7}h_{6}}^{p_{2}p_{3}}t2_{p_{1}p_{0}}^{h_{4}h_{5}}t2_{p_{3}p_{2}}^{h_{6}h_{7}}\n + 0.0625 * \\Phi_{h_{4}h_{5}}^{p_{0}p_{1}}v_{h_{6}h_{7}}^{p_{2}p_{3}}t2_{p_{2}p_{0}}^{h_{4}h_{5}}t2_{p_{1}p_{3}}^{h_{6}h_{7}}\n + -0.03125 * \\Phi_{h_{4}h_{5}}^{p_{0}p_{1}}v_{h_{6}h_{7}}^{p_{2}p_{3}}t2_{p_{3}p_{0}}^{h_{4}h_{5}}t2_{p_{1}p_{2}}^{h_{6}h_{7}}\n + -0.03125 * \\Phi_{h_{4}h_{5}}^{p_{0}p_{1}}v_{h_{7}h_{6}}^{p_{2}p_{3}}t2_{p_{2}p_{0}}^{h_{4}h_{5}}t2_{p_{1}p_{3}}^{h_{6}h_{7}}\n + 0.0625 * \\Phi_{h_{4}h_{5}}^{p_{0}p_{1}}v_{h_{7}h_{6}}^{p_{2}p_{3}}t2_{p_{3}p_{0}}^{h_{4}h_{5}}t2_{p_{1}p_{2}}^{h_{6}h_{7}}\n + -0.03125 * \\Phi_{h_{4}h_{5}}^{p_{0}p_{1}}v_{h_{6}h_{7}}^{p_{2}p_{3}}t2_{p_{2}p_{0}}^{h_{4}h_{5}}t2_{p_{3}p_{1}}^{h_{6}h_{7}}\n + 0.0625 * \\Phi_{h_{4}h_{5}}^{p_{0}p_{1}}v_{h_{6}h_{7}}^{p_{2}p_{3}}t2_{p_{3}p_{0}}^{h_{4}h_{5}}t2_{p_{2}p_{1}}^{h_{6}h_{7}}\n + 0.0625 * \\Phi_{h_{4}h_{5}}^{p_{0}p_{1}}v_{h_{7}h_{6}}^{p_{2}p_{3}}t2_{p_{2}p_{0}}^{h_{4}h_{5}}t2_{p_{3}p_{1}}^{h_{6}h_{7}}\n + -0.03125 * \\Phi_{h_{4}h_{5}}^{p_{0}p_{1}}v_{h_{7}h_{6}}^{p_{2}p_{3}}t2_{p_{3}p_{0}}^{h_{4}h_{5}}t2_{p_{2}p_{1}}^{h_{6}h_{7}}\n + 0.0625 * \\Phi_{h_{4}h_{5}}^{p_{0}p_{1}}v_{h_{6}h_{7}}^{p_{2}p_{3}}t2_{p_{1}p_{2}}^{h_{4}h_{5}}t2_{p_{0}p_{3}}^{h_{6}h_{7}}\n + -0.03125 * \\Phi_{h_{4}h_{5}}^{p_{0}p_{1}}v_{h_{6}h_{7}}^{p_{2}p_{3}}t2_{p_{1}p_{3}}^{h_{4}h_{5}}t2_{p_{0}p_{2}}^{h_{6}h_{7}}\n + -0.03125 * \\Phi_{h_{4}h_{5}}^{p_{0}p_{1}}v_{h_{7}h_{6}}^{p_{2}p_{3}}t2_{p_{1}p_{2}}^{h_{4}h_{5}}t2_{p_{0}p_{3}}^{h_{6}h_{7}}\n + 0.0625 * \\Phi_{h_{4}h_{5}}^{p_{0}p_{1}}v_{h_{7}h_{6}}^{p_{2}p_{3}}t2_{p_{1}p_{3}}^{h_{4}h_{5}}t2_{p_{0}p_{2}}^{h_{6}h_{7}}\n + -0.125 * \\Phi_{h_{4}h_{5}}^{p_{0}p_{1}}v_{h_{6}h_{7}}^{p_{2}p_{3}}t2_{p_{2}p_{1}}^{h_{4}h_{5}}t2_{p_{0}p_{3}}^{h_{6}h_{7}}\n + 0.0625 * \\Phi_{h_{4}h_{5}}^{p_{0}p_{1}}v_{h_{6}h_{7}}^{p_{2}p_{3}}t2_{p_{3}p_{1}}^{h_{4}h_{5}}t2_{p_{0}p_{2}}^{h_{6}h_{7}}\n + 0.0625 * \\Phi_{h_{4}h_{5}}^{p_{0}p_{1}}v_{h_{7}h_{6}}^{p_{2}p_{3}}t2_{p_{2}p_{1}}^{h_{4}h_{5}}t2_{p_{0}p_{3}}^{h_{6}h_{7}}\n + -0.125 * \\Phi_{h_{4}h_{5}}^{p_{0}p_{1}}v_{h_{7}h_{6}}^{p_{2}p_{3}}t2_{p_{3}p_{1}}^{h_{4}h_{5}}t2_{p_{0}p_{2}}^{h_{6}h_{7}}\n + 0.0625 * \\Phi_{h_{4}h_{5}}^{p_{0}p_{1}}v_{h_{6}h_{7}}^{p_{2}p_{3}}t2_{p_{2}p_{3}}^{h_{4}h_{5}}t2_{p_{0}p_{1}}^{h_{6}h_{7}}\n + -0.03125 * \\Phi_{h_{4}h_{5}}^{p_{0}p_{1}}v_{h_{6}h_{7}}^{p_{2}p_{3}}t2_{p_{3}p_{2}}^{h_{4}h_{5}}t2_{p_{0}p_{1}}^{h_{6}h_{7}}\n + -0.03125 * \\Phi_{h_{4}h_{5}}^{p_{0}p_{1}}v_{h_{7}h_{6}}^{p_{2}p_{3}}t2_{p_{2}p_{3}}^{h_{4}h_{5}}t2_{p_{0}p_{1}}^{h_{6}h_{7}}\n + 0.0625 * \\Phi_{h_{4}h_{5}}^{p_{0}p_{1}}v_{h_{7}h_{6}}^{p_{2}p_{3}}t2_{p_{3}p_{2}}^{h_{4}h_{5}}t2_{p_{0}p_{1}}^{h_{6}h_{7}}\n + -0.03125 * \\Phi_{h_{4}h_{5}}^{p_{0}p_{1}}v_{h_{6}h_{7}}^{p_{2}p_{3}}t2_{p_{1}p_{2}}^{h_{4}h_{5}}t2_{p_{3}p_{0}}^{h_{6}h_{7}}\n + 0.0625 * \\Phi_{h_{4}h_{5}}^{p_{0}p_{1}}v_{h_{6}h_{7}}^{p_{2}p_{3}}t2_{p_{1}p_{3}}^{h_{4}h_{5}}t2_{p_{2}p_{0}}^{h_{6}h_{7}}\n + 0.0625 * \\Phi_{h_{4}h_{5}}^{p_{0}p_{1}}v_{h_{7}h_{6}}^{p_{2}p_{3}}t2_{p_{1}p_{2}}^{h_{4}h_{5}}t2_{p_{3}p_{0}}^{h_{6}h_{7}}\n + -0.03125 * \\Phi_{h_{4}h_{5}}^{p_{0}p_{1}}v_{h_{7}h_{6}}^{p_{2}p_{3}}t2_{p_{1}p_{3}}^{h_{4}h_{5}}t2_{p_{2}p_{0}}^{h_{6}h_{7}}\n + 0.0625 * \\Phi_{h_{4}h_{5}}^{p_{0}p_{1}}v_{h_{6}h_{7}}^{p_{2}p_{3}}t2_{p_{2}p_{1}}^{h_{4}h_{5}}t2_{p_{3}p_{0}}^{h_{6}h_{7}}\n + -0.125 * \\Phi_{h_{4}h_{5}}^{p_{0}p_{1}}v_{h_{6}h_{7}}^{p_{2}p_{3}}t2_{p_{3}p_{1}}^{h_{4}h_{5}}t2_{p_{2}p_{0}}^{h_{6}h_{7}}\n + -0.125 * \\Phi_{h_{4}h_{5}}^{p_{0}p_{1}}v_{h_{7}h_{6}}^{p_{2}p_{3}}t2_{p_{2}p_{1}}^{h_{4}h_{5}}t2_{p_{3}p_{0}}^{h_{6}h_{7}}\n + 0.0625 * \\Phi_{h_{4}h_{5}}^{p_{0}p_{1}}v_{h_{7}h_{6}}^{p_{2}p_{3}}t2_{p_{3}p_{1}}^{h_{4}h_{5}}t2_{p_{2}p_{0}}^{h_{6}h_{7}}\n + -0.03125 * \\Phi_{h_{4}h_{5}}^{p_{0}p_{1}}v_{h_{6}h_{7}}^{p_{2}p_{3}}t2_{p_{2}p_{3}}^{h_{4}h_{5}}t2_{p_{1}p_{0}}^{h_{6}h_{7}}\n + 0.0625 * \\Phi_{h_{4}h_{5}}^{p_{0}p_{1}}v_{h_{6}h_{7}}^{p_{2}p_{3}}t2_{p_{3}p_{2}}^{h_{4}h_{5}}t2_{p_{1}p_{0}}^{h_{6}h_{7}}\n + 0.0625 * \\Phi_{h_{4}h_{5}}^{p_{0}p_{1}}v_{h_{7}h_{6}}^{p_{2}p_{3}}t2_{p_{2}p_{3}}^{h_{4}h_{5}}t2_{p_{1}p_{0}}^{h_{6}h_{7}}\n + -0.03125 * \\Phi_{h_{4}h_{5}}^{p_{0}p_{1}}v_{h_{7}h_{6}}^{p_{2}p_{3}}t2_{p_{3}p_{2}}^{h_{4}h_{5}}t2_{p_{1}p_{0}}^{h_{6}h_{7}}\n + -0.125 * \\Phi_{h_{4}h_{6}}^{p_{0}p_{1}}v_{h_{5}h_{7}}^{p_{2}p_{3}}t2_{p_{0}p_{1}}^{h_{4}h_{5}}t2_{p_{2}p_{3}}^{h_{6}h_{7}}\n + 0.0625 * \\Phi_{h_{4}h_{6}}^{p_{0}p_{1}}v_{h_{5}h_{7}}^{p_{2}p_{3}}t2_{p_{0}p_{1}}^{h_{4}h_{5}}t2_{p_{3}p_{2}}^{h_{6}h_{7}}\n + 0.0625 * \\Phi_{h_{4}h_{6}}^{p_{0}p_{1}}v_{h_{7}h_{5}}^{p_{2}p_{3}}t2_{p_{0}p_{1}}^{h_{4}h_{5}}t2_{p_{2}p_{3}}^{h_{6}h_{7}}\n + -0.125 * \\Phi_{h_{4}h_{6}}^{p_{0}p_{1}}v_{h_{7}h_{5}}^{p_{2}p_{3}}t2_{p_{0}p_{1}}^{h_{4}h_{5}}t2_{p_{3}p_{2}}^{h_{6}h_{7}}\n + 0.0625 * \\Phi_{h_{4}h_{6}}^{p_{0}p_{1}}v_{h_{5}h_{7}}^{p_{2}p_{3}}t2_{p_{0}p_{2}}^{h_{4}h_{5}}t2_{p_{1}p_{3}}^{h_{6}h_{7}}\n + -0.03125 * \\Phi_{h_{4}h_{6}}^{p_{0}p_{1}}v_{h_{5}h_{7}}^{p_{2}p_{3}}t2_{p_{0}p_{3}}^{h_{4}h_{5}}t2_{p_{1}p_{2}}^{h_{6}h_{7}}\n + -0.03125 * \\Phi_{h_{4}h_{6}}^{p_{0}p_{1}}v_{h_{7}h_{5}}^{p_{2}p_{3}}t2_{p_{0}p_{2}}^{h_{4}h_{5}}t2_{p_{1}p_{3}}^{h_{6}h_{7}}\n + 0.0625 * \\Phi_{h_{4}h_{6}}^{p_{0}p_{1}}v_{h_{7}h_{5}}^{p_{2}p_{3}}t2_{p_{0}p_{3}}^{h_{4}h_{5}}t2_{p_{1}p_{2}}^{h_{6}h_{7}}\n + -0.03125 * \\Phi_{h_{4}h_{6}}^{p_{0}p_{1}}v_{h_{5}h_{7}}^{p_{2}p_{3}}t2_{p_{0}p_{2}}^{h_{4}h_{5}}t2_{p_{3}p_{1}}^{h_{6}h_{7}}\n + 0.0625 * \\Phi_{h_{4}h_{6}}^{p_{0}p_{1}}v_{h_{5}h_{7}}^{p_{2}p_{3}}t2_{p_{0}p_{3}}^{h_{4}h_{5}}t2_{p_{2}p_{1}}^{h_{6}h_{7}}\n + 0.0625 * \\Phi_{h_{4}h_{6}}^{p_{0}p_{1}}v_{h_{7}h_{5}}^{p_{2}p_{3}}t2_{p_{0}p_{2}}^{h_{4}h_{5}}t2_{p_{3}p_{1}}^{h_{6}h_{7}}\n + -0.03125 * \\Phi_{h_{4}h_{6}}^{p_{0}p_{1}}v_{h_{7}h_{5}}^{p_{2}p_{3}}t2_{p_{0}p_{3}}^{h_{4}h_{5}}t2_{p_{2}p_{1}}^{h_{6}h_{7}}\n + 0.0625 * \\Phi_{h_{4}h_{6}}^{p_{0}p_{1}}v_{h_{5}h_{7}}^{p_{2}p_{3}}t2_{p_{1}p_{0}}^{h_{4}h_{5}}t2_{p_{2}p_{3}}^{h_{6}h_{7}}\n + -0.03125 * \\Phi_{h_{4}h_{6}}^{p_{0}p_{1}}v_{h_{5}h_{7}}^{p_{2}p_{3}}t2_{p_{1}p_{0}}^{h_{4}h_{5}}t2_{p_{3}p_{2}}^{h_{6}h_{7}}\n + -0.03125 * \\Phi_{h_{4}h_{6}}^{p_{0}p_{1}}v_{h_{7}h_{5}}^{p_{2}p_{3}}t2_{p_{1}p_{0}}^{h_{4}h_{5}}t2_{p_{2}p_{3}}^{h_{6}h_{7}}\n + 0.0625 * \\Phi_{h_{4}h_{6}}^{p_{0}p_{1}}v_{h_{7}h_{5}}^{p_{2}p_{3}}t2_{p_{1}p_{0}}^{h_{4}h_{5}}t2_{p_{3}p_{2}}^{h_{6}h_{7}}\n + -0.03125 * \\Phi_{h_{4}h_{6}}^{p_{0}p_{1}}v_{h_{5}h_{7}}^{p_{2}p_{3}}t2_{p_{2}p_{0}}^{h_{4}h_{5}}t2_{p_{1}p_{3}}^{h_{6}h_{7}}\n + 0.0625 * \\Phi_{h_{4}h_{6}}^{p_{0}p_{1}}v_{h_{5}h_{7}}^{p_{2}p_{3}}t2_{p_{3}p_{0}}^{h_{4}h_{5}}t2_{p_{1}p_{2}}^{h_{6}h_{7}}\n + 0.0625 * \\Phi_{h_{4}h_{6}}^{p_{0}p_{1}}v_{h_{7}h_{5}}^{p_{2}p_{3}}t2_{p_{2}p_{0}}^{h_{4}h_{5}}t2_{p_{1}p_{3}}^{h_{6}h_{7}}\n + -0.03125 * \\Phi_{h_{4}h_{6}}^{p_{0}p_{1}}v_{h_{7}h_{5}}^{p_{2}p_{3}}t2_{p_{3}p_{0}}^{h_{4}h_{5}}t2_{p_{1}p_{2}}^{h_{6}h_{7}}\n + 0.0625 * \\Phi_{h_{4}h_{6}}^{p_{0}p_{1}}v_{h_{5}h_{7}}^{p_{2}p_{3}}t2_{p_{2}p_{0}}^{h_{4}h_{5}}t2_{p_{3}p_{1}}^{h_{6}h_{7}}\n + -0.125 * \\Phi_{h_{4}h_{6}}^{p_{0}p_{1}}v_{h_{5}h_{7}}^{p_{2}p_{3}}t2_{p_{3}p_{0}}^{h_{4}h_{5}}t2_{p_{2}p_{1}}^{h_{6}h_{7}}\n + -0.125 * \\Phi_{h_{4}h_{6}}^{p_{0}p_{1}}v_{h_{7}h_{5}}^{p_{2}p_{3}}t2_{p_{2}p_{0}}^{h_{4}h_{5}}t2_{p_{3}p_{1}}^{h_{6}h_{7}}\n + 0.0625 * \\Phi_{h_{4}h_{6}}^{p_{0}p_{1}}v_{h_{7}h_{5}}^{p_{2}p_{3}}t2_{p_{3}p_{0}}^{h_{4}h_{5}}t2_{p_{2}p_{1}}^{h_{6}h_{7}}\n + -0.03125 * \\Phi_{h_{4}h_{6}}^{p_{0}p_{1}}v_{h_{5}h_{7}}^{p_{2}p_{3}}t2_{p_{1}p_{2}}^{h_{4}h_{5}}t2_{p_{0}p_{3}}^{h_{6}h_{7}}\n + 0.0625 * \\Phi_{h_{4}h_{6}}^{p_{0}p_{1}}v_{h_{5}h_{7}}^{p_{2}p_{3}}t2_{p_{1}p_{3}}^{h_{4}h_{5}}t2_{p_{0}p_{2}}^{h_{6}h_{7}}\n + 0.0625 * \\Phi_{h_{4}h_{6}}^{p_{0}p_{1}}v_{h_{7}h_{5}}^{p_{2}p_{3}}t2_{p_{1}p_{2}}^{h_{4}h_{5}}t2_{p_{0}p_{3}}^{h_{6}h_{7}}\n + -0.03125 * \\Phi_{h_{4}h_{6}}^{p_{0}p_{1}}v_{h_{7}h_{5}}^{p_{2}p_{3}}t2_{p_{1}p_{3}}^{h_{4}h_{5}}t2_{p_{0}p_{2}}^{h_{6}h_{7}}\n + 0.0625 * \\Phi_{h_{4}h_{6}}^{p_{0}p_{1}}v_{h_{5}h_{7}}^{p_{2}p_{3}}t2_{p_{2}p_{1}}^{h_{4}h_{5}}t2_{p_{0}p_{3}}^{h_{6}h_{7}}\n + -0.125 * \\Phi_{h_{4}h_{6}}^{p_{0}p_{1}}v_{h_{5}h_{7}}^{p_{2}p_{3}}t2_{p_{3}p_{1}}^{h_{4}h_{5}}t2_{p_{0}p_{2}}^{h_{6}h_{7}}\n + -0.125 * \\Phi_{h_{4}h_{6}}^{p_{0}p_{1}}v_{h_{7}h_{5}}^{p_{2}p_{3}}t2_{p_{2}p_{1}}^{h_{4}h_{5}}t2_{p_{0}p_{3}}^{h_{6}h_{7}}\n + 0.0625 * \\Phi_{h_{4}h_{6}}^{p_{0}p_{1}}v_{h_{7}h_{5}}^{p_{2}p_{3}}t2_{p_{3}p_{1}}^{h_{4}h_{5}}t2_{p_{0}p_{2}}^{h_{6}h_{7}}\n + -0.03125 * \\Phi_{h_{4}h_{6}}^{p_{0}p_{1}}v_{h_{5}h_{7}}^{p_{2}p_{3}}t2_{p_{2}p_{3}}^{h_{4}h_{5}}t2_{p_{0}p_{1}}^{h_{6}h_{7}}\n + 0.0625 * \\Phi_{h_{4}h_{6}}^{p_{0}p_{1}}v_{h_{5}h_{7}}^{p_{2}p_{3}}t2_{p_{3}p_{2}}^{h_{4}h_{5}}t2_{p_{0}p_{1}}^{h_{6}h_{7}}\n + 0.0625 * \\Phi_{h_{4}h_{6}}^{p_{0}p_{1}}v_{h_{7}h_{5}}^{p_{2}p_{3}}t2_{p_{2}p_{3}}^{h_{4}h_{5}}t2_{p_{0}p_{1}}^{h_{6}h_{7}}\n + -0.03125 * \\Phi_{h_{4}h_{6}}^{p_{0}p_{1}}v_{h_{7}h_{5}}^{p_{2}p_{3}}t2_{p_{3}p_{2}}^{h_{4}h_{5}}t2_{p_{0}p_{1}}^{h_{6}h_{7}}\n + 0.0625 * \\Phi_{h_{4}h_{6}}^{p_{0}p_{1}}v_{h_{5}h_{7}}^{p_{2}p_{3}}t2_{p_{1}p_{2}}^{h_{4}h_{5}}t2_{p_{3}p_{0}}^{h_{6}h_{7}}\n + -0.125 * \\Phi_{h_{4}h_{6}}^{p_{0}p_{1}}v_{h_{5}h_{7}}^{p_{2}p_{3}}t2_{p_{1}p_{3}}^{h_{4}h_{5}}t2_{p_{2}p_{0}}^{h_{6}h_{7}}\n + -0.125 * \\Phi_{h_{4}h_{6}}^{p_{0}p_{1}}v_{h_{7}h_{5}}^{p_{2}p_{3}}t2_{p_{1}p_{2}}^{h_{4}h_{5}}t2_{p_{3}p_{0}}^{h_{6}h_{7}}\n + 0.0625 * \\Phi_{h_{4}h_{6}}^{p_{0}p_{1}}v_{h_{7}h_{5}}^{p_{2}p_{3}}t2_{p_{1}p_{3}}^{h_{4}h_{5}}t2_{p_{2}p_{0}}^{h_{6}h_{7}}\n + -0.125 * \\Phi_{h_{4}h_{6}}^{p_{0}p_{1}}v_{h_{5}h_{7}}^{p_{2}p_{3}}t2_{p_{2}p_{1}}^{h_{4}h_{5}}t2_{p_{3}p_{0}}^{h_{6}h_{7}}\n + 0.25 * \\Phi_{h_{4}h_{6}}^{p_{0}p_{1}}v_{h_{5}h_{7}}^{p_{2}p_{3}}t2_{p_{3}p_{1}}^{h_{4}h_{5}}t2_{p_{2}p_{0}}^{h_{6}h_{7}}\n + 0.25 * \\Phi_{h_{4}h_{6}}^{p_{0}p_{1}}v_{h_{7}h_{5}}^{p_{2}p_{3}}t2_{p_{2}p_{1}}^{h_{4}h_{5}}t2_{p_{3}p_{0}}^{h_{6}h_{7}}\n + -0.125 * \\Phi_{h_{4}h_{6}}^{p_{0}p_{1}}v_{h_{7}h_{5}}^{p_{2}p_{3}}t2_{p_{3}p_{1}}^{h_{4}h_{5}}t2_{p_{2}p_{0}}^{h_{6}h_{7}}\n + 0.0625 * \\Phi_{h_{4}h_{6}}^{p_{0}p_{1}}v_{h_{5}h_{7}}^{p_{2}p_{3}}t2_{p_{2}p_{3}}^{h_{4}h_{5}}t2_{p_{1}p_{0}}^{h_{6}h_{7}}\n + -0.125 * \\Phi_{h_{4}h_{6}}^{p_{0}p_{1}}v_{h_{5}h_{7}}^{p_{2}p_{3}}t2_{p_{3}p_{2}}^{h_{4}h_{5}}t2_{p_{1}p_{0}}^{h_{6}h_{7}}\n + -0.125 * \\Phi_{h_{4}h_{6}}^{p_{0}p_{1}}v_{h_{7}h_{5}}^{p_{2}p_{3}}t2_{p_{2}p_{3}}^{h_{4}h_{5}}t2_{p_{1}p_{0}}^{h_{6}h_{7}}\n + 0.0625 * \\Phi_{h_{4}h_{6}}^{p_{0}p_{1}}v_{h_{7}h_{5}}^{p_{2}p_{3}}t2_{p_{3}p_{2}}^{h_{4}h_{5}}t2_{p_{1}p_{0}}^{h_{6}h_{7}}\n + 0.0625 * \\Phi_{h_{4}h_{7}}^{p_{0}p_{1}}v_{h_{5}h_{6}}^{p_{2}p_{3}}t2_{p_{0}p_{1}}^{h_{4}h_{5}}t2_{p_{2}p_{3}}^{h_{6}h_{7}}\n + -0.125 * \\Phi_{h_{4}h_{7}}^{p_{0}p_{1}}v_{h_{5}h_{6}}^{p_{2}p_{3}}t2_{p_{0}p_{1}}^{h_{4}h_{5}}t2_{p_{3}p_{2}}^{h_{6}h_{7}}\n + -0.125 * \\Phi_{h_{4}h_{7}}^{p_{0}p_{1}}v_{h_{6}h_{5}}^{p_{2}p_{3}}t2_{p_{0}p_{1}}^{h_{4}h_{5}}t2_{p_{2}p_{3}}^{h_{6}h_{7}}\n + 0.0625 * \\Phi_{h_{4}h_{7}}^{p_{0}p_{1}}v_{h_{6}h_{5}}^{p_{2}p_{3}}t2_{p_{0}p_{1}}^{h_{4}h_{5}}t2_{p_{3}p_{2}}^{h_{6}h_{7}}\n + -0.03125 * \\Phi_{h_{4}h_{7}}^{p_{0}p_{1}}v_{h_{5}h_{6}}^{p_{2}p_{3}}t2_{p_{0}p_{2}}^{h_{4}h_{5}}t2_{p_{1}p_{3}}^{h_{6}h_{7}}\n + 0.0625 * \\Phi_{h_{4}h_{7}}^{p_{0}p_{1}}v_{h_{5}h_{6}}^{p_{2}p_{3}}t2_{p_{0}p_{3}}^{h_{4}h_{5}}t2_{p_{1}p_{2}}^{h_{6}h_{7}}\n + 0.0625 * \\Phi_{h_{4}h_{7}}^{p_{0}p_{1}}v_{h_{6}h_{5}}^{p_{2}p_{3}}t2_{p_{0}p_{2}}^{h_{4}h_{5}}t2_{p_{1}p_{3}}^{h_{6}h_{7}}\n + -0.03125 * \\Phi_{h_{4}h_{7}}^{p_{0}p_{1}}v_{h_{6}h_{5}}^{p_{2}p_{3}}t2_{p_{0}p_{3}}^{h_{4}h_{5}}t2_{p_{1}p_{2}}^{h_{6}h_{7}}\n + 0.0625 * \\Phi_{h_{4}h_{7}}^{p_{0}p_{1}}v_{h_{5}h_{6}}^{p_{2}p_{3}}t2_{p_{0}p_{2}}^{h_{4}h_{5}}t2_{p_{3}p_{1}}^{h_{6}h_{7}}\n + -0.03125 * \\Phi_{h_{4}h_{7}}^{p_{0}p_{1}}v_{h_{5}h_{6}}^{p_{2}p_{3}}t2_{p_{0}p_{3}}^{h_{4}h_{5}}t2_{p_{2}p_{1}}^{h_{6}h_{7}}\n + -0.03125 * \\Phi_{h_{4}h_{7}}^{p_{0}p_{1}}v_{h_{6}h_{5}}^{p_{2}p_{3}}t2_{p_{0}p_{2}}^{h_{4}h_{5}}t2_{p_{3}p_{1}}^{h_{6}h_{7}}\n + 0.0625 * \\Phi_{h_{4}h_{7}}^{p_{0}p_{1}}v_{h_{6}h_{5}}^{p_{2}p_{3}}t2_{p_{0}p_{3}}^{h_{4}h_{5}}t2_{p_{2}p_{1}}^{h_{6}h_{7}}\n + -0.03125 * \\Phi_{h_{4}h_{7}}^{p_{0}p_{1}}v_{h_{5}h_{6}}^{p_{2}p_{3}}t2_{p_{1}p_{0}}^{h_{4}h_{5}}t2_{p_{2}p_{3}}^{h_{6}h_{7}}\n + 0.0625 * \\Phi_{h_{4}h_{7}}^{p_{0}p_{1}}v_{h_{5}h_{6}}^{p_{2}p_{3}}t2_{p_{1}p_{0}}^{h_{4}h_{5}}t2_{p_{3}p_{2}}^{h_{6}h_{7}}\n + 0.0625 * \\Phi_{h_{4}h_{7}}^{p_{0}p_{1}}v_{h_{6}h_{5}}^{p_{2}p_{3}}t2_{p_{1}p_{0}}^{h_{4}h_{5}}t2_{p_{2}p_{3}}^{h_{6}h_{7}}\n + -0.03125 * \\Phi_{h_{4}h_{7}}^{p_{0}p_{1}}v_{h_{6}h_{5}}^{p_{2}p_{3}}t2_{p_{1}p_{0}}^{h_{4}h_{5}}t2_{p_{3}p_{2}}^{h_{6}h_{7}}\n + 0.0625 * \\Phi_{h_{4}h_{7}}^{p_{0}p_{1}}v_{h_{5}h_{6}}^{p_{2}p_{3}}t2_{p_{2}p_{0}}^{h_{4}h_{5}}t2_{p_{1}p_{3}}^{h_{6}h_{7}}\n + -0.125 * \\Phi_{h_{4}h_{7}}^{p_{0}p_{1}}v_{h_{5}h_{6}}^{p_{2}p_{3}}t2_{p_{3}p_{0}}^{h_{4}h_{5}}t2_{p_{1}p_{2}}^{h_{6}h_{7}}\n + -0.125 * \\Phi_{h_{4}h_{7}}^{p_{0}p_{1}}v_{h_{6}h_{5}}^{p_{2}p_{3}}t2_{p_{2}p_{0}}^{h_{4}h_{5}}t2_{p_{1}p_{3}}^{h_{6}h_{7}}\n + 0.0625 * \\Phi_{h_{4}h_{7}}^{p_{0}p_{1}}v_{h_{6}h_{5}}^{p_{2}p_{3}}t2_{p_{3}p_{0}}^{h_{4}h_{5}}t2_{p_{1}p_{2}}^{h_{6}h_{7}}\n + -0.03125 * \\Phi_{h_{4}h_{7}}^{p_{0}p_{1}}v_{h_{5}h_{6}}^{p_{2}p_{3}}t2_{p_{2}p_{0}}^{h_{4}h_{5}}t2_{p_{3}p_{1}}^{h_{6}h_{7}}\n + 0.0625 * \\Phi_{h_{4}h_{7}}^{p_{0}p_{1}}v_{h_{5}h_{6}}^{p_{2}p_{3}}t2_{p_{3}p_{0}}^{h_{4}h_{5}}t2_{p_{2}p_{1}}^{h_{6}h_{7}}\n + 0.0625 * \\Phi_{h_{4}h_{7}}^{p_{0}p_{1}}v_{h_{6}h_{5}}^{p_{2}p_{3}}t2_{p_{2}p_{0}}^{h_{4}h_{5}}t2_{p_{3}p_{1}}^{h_{6}h_{7}}\n + -0.03125 * \\Phi_{h_{4}h_{7}}^{p_{0}p_{1}}v_{h_{6}h_{5}}^{p_{2}p_{3}}t2_{p_{3}p_{0}}^{h_{4}h_{5}}t2_{p_{2}p_{1}}^{h_{6}h_{7}}\n + 0.0625 * \\Phi_{h_{4}h_{7}}^{p_{0}p_{1}}v_{h_{5}h_{6}}^{p_{2}p_{3}}t2_{p_{1}p_{2}}^{h_{4}h_{5}}t2_{p_{0}p_{3}}^{h_{6}h_{7}}\n + -0.125 * \\Phi_{h_{4}h_{7}}^{p_{0}p_{1}}v_{h_{5}h_{6}}^{p_{2}p_{3}}t2_{p_{1}p_{3}}^{h_{4}h_{5}}t2_{p_{0}p_{2}}^{h_{6}h_{7}}\n + -0.125 * \\Phi_{h_{4}h_{7}}^{p_{0}p_{1}}v_{h_{6}h_{5}}^{p_{2}p_{3}}t2_{p_{1}p_{2}}^{h_{4}h_{5}}t2_{p_{0}p_{3}}^{h_{6}h_{7}}\n + 0.0625 * \\Phi_{h_{4}h_{7}}^{p_{0}p_{1}}v_{h_{6}h_{5}}^{p_{2}p_{3}}t2_{p_{1}p_{3}}^{h_{4}h_{5}}t2_{p_{0}p_{2}}^{h_{6}h_{7}}\n + -0.125 * \\Phi_{h_{4}h_{7}}^{p_{0}p_{1}}v_{h_{5}h_{6}}^{p_{2}p_{3}}t2_{p_{2}p_{1}}^{h_{4}h_{5}}t2_{p_{0}p_{3}}^{h_{6}h_{7}}\n + 0.25 * \\Phi_{h_{4}h_{7}}^{p_{0}p_{1}}v_{h_{5}h_{6}}^{p_{2}p_{3}}t2_{p_{3}p_{1}}^{h_{4}h_{5}}t2_{p_{0}p_{2}}^{h_{6}h_{7}}\n + 0.25 * \\Phi_{h_{4}h_{7}}^{p_{0}p_{1}}v_{h_{6}h_{5}}^{p_{2}p_{3}}t2_{p_{2}p_{1}}^{h_{4}h_{5}}t2_{p_{0}p_{3}}^{h_{6}h_{7}}\n + -0.125 * \\Phi_{h_{4}h_{7}}^{p_{0}p_{1}}v_{h_{6}h_{5}}^{p_{2}p_{3}}t2_{p_{3}p_{1}}^{h_{4}h_{5}}t2_{p_{0}p_{2}}^{h_{6}h_{7}}\n + 0.0625 * \\Phi_{h_{4}h_{7}}^{p_{0}p_{1}}v_{h_{5}h_{6}}^{p_{2}p_{3}}t2_{p_{2}p_{3}}^{h_{4}h_{5}}t2_{p_{0}p_{1}}^{h_{6}h_{7}}\n + -0.125 * \\Phi_{h_{4}h_{7}}^{p_{0}p_{1}}v_{h_{5}h_{6}}^{p_{2}p_{3}}t2_{p_{3}p_{2}}^{h_{4}h_{5}}t2_{p_{0}p_{1}}^{h_{6}h_{7}}\n + -0.125 * \\Phi_{h_{4}h_{7}}^{p_{0}p_{1}}v_{h_{6}h_{5}}^{p_{2}p_{3}}t2_{p_{2}p_{3}}^{h_{4}h_{5}}t2_{p_{0}p_{1}}^{h_{6}h_{7}}\n + 0.0625 * \\Phi_{h_{4}h_{7}}^{p_{0}p_{1}}v_{h_{6}h_{5}}^{p_{2}p_{3}}t2_{p_{3}p_{2}}^{h_{4}h_{5}}t2_{p_{0}p_{1}}^{h_{6}h_{7}}\n + -0.03125 * \\Phi_{h_{4}h_{7}}^{p_{0}p_{1}}v_{h_{5}h_{6}}^{p_{2}p_{3}}t2_{p_{1}p_{2}}^{h_{4}h_{5}}t2_{p_{3}p_{0}}^{h_{6}h_{7}}\n + 0.0625 * \\Phi_{h_{4}h_{7}}^{p_{0}p_{1}}v_{h_{5}h_{6}}^{p_{2}p_{3}}t2_{p_{1}p_{3}}^{h_{4}h_{5}}t2_{p_{2}p_{0}}^{h_{6}h_{7}}\n + 0.0625 * \\Phi_{h_{4}h_{7}}^{p_{0}p_{1}}v_{h_{6}h_{5}}^{p_{2}p_{3}}t2_{p_{1}p_{2}}^{h_{4}h_{5}}t2_{p_{3}p_{0}}^{h_{6}h_{7}}\n + -0.03125 * \\Phi_{h_{4}h_{7}}^{p_{0}p_{1}}v_{h_{6}h_{5}}^{p_{2}p_{3}}t2_{p_{1}p_{3}}^{h_{4}h_{5}}t2_{p_{2}p_{0}}^{h_{6}h_{7}}\n + 0.0625 * \\Phi_{h_{4}h_{7}}^{p_{0}p_{1}}v_{h_{5}h_{6}}^{p_{2}p_{3}}t2_{p_{2}p_{1}}^{h_{4}h_{5}}t2_{p_{3}p_{0}}^{h_{6}h_{7}}\n + -0.125 * \\Phi_{h_{4}h_{7}}^{p_{0}p_{1}}v_{h_{5}h_{6}}^{p_{2}p_{3}}t2_{p_{3}p_{1}}^{h_{4}h_{5}}t2_{p_{2}p_{0}}^{h_{6}h_{7}}\n + -0.125 * \\Phi_{h_{4}h_{7}}^{p_{0}p_{1}}v_{h_{6}h_{5}}^{p_{2}p_{3}}t2_{p_{2}p_{1}}^{h_{4}h_{5}}t2_{p_{3}p_{0}}^{h_{6}h_{7}}\n + 0.0625 * \\Phi_{h_{4}h_{7}}^{p_{0}p_{1}}v_{h_{6}h_{5}}^{p_{2}p_{3}}t2_{p_{3}p_{1}}^{h_{4}h_{5}}t2_{p_{2}p_{0}}^{h_{6}h_{7}}\n + -0.03125 * \\Phi_{h_{4}h_{7}}^{p_{0}p_{1}}v_{h_{5}h_{6}}^{p_{2}p_{3}}t2_{p_{2}p_{3}}^{h_{4}h_{5}}t2_{p_{1}p_{0}}^{h_{6}h_{7}}\n + 0.0625 * \\Phi_{h_{4}h_{7}}^{p_{0}p_{1}}v_{h_{5}h_{6}}^{p_{2}p_{3}}t2_{p_{3}p_{2}}^{h_{4}h_{5}}t2_{p_{1}p_{0}}^{h_{6}h_{7}}\n + 0.0625 * \\Phi_{h_{4}h_{7}}^{p_{0}p_{1}}v_{h_{6}h_{5}}^{p_{2}p_{3}}t2_{p_{2}p_{3}}^{h_{4}h_{5}}t2_{p_{1}p_{0}}^{h_{6}h_{7}}\n + -0.03125 * \\Phi_{h_{4}h_{7}}^{p_{0}p_{1}}v_{h_{6}h_{5}}^{p_{2}p_{3}}t2_{p_{3}p_{2}}^{h_{4}h_{5}}t2_{p_{1}p_{0}}^{h_{6}h_{7}}\n + -0.125 * \\Phi_{h_{5}h_{4}}^{p_{0}p_{1}}v_{h_{6}h_{7}}^{p_{2}p_{3}}t2_{p_{0}p_{1}}^{h_{4}h_{5}}t2_{p_{2}p_{3}}^{h_{6}h_{7}}\n + 0.0625 * \\Phi_{h_{5}h_{4}}^{p_{0}p_{1}}v_{h_{6}h_{7}}^{p_{2}p_{3}}t2_{p_{0}p_{1}}^{h_{4}h_{5}}t2_{p_{3}p_{2}}^{h_{6}h_{7}}\n + 0.0625 * \\Phi_{h_{5}h_{4}}^{p_{0}p_{1}}v_{h_{7}h_{6}}^{p_{2}p_{3}}t2_{p_{0}p_{1}}^{h_{4}h_{5}}t2_{p_{2}p_{3}}^{h_{6}h_{7}}\n + -0.125 * \\Phi_{h_{5}h_{4}}^{p_{0}p_{1}}v_{h_{7}h_{6}}^{p_{2}p_{3}}t2_{p_{0}p_{1}}^{h_{4}h_{5}}t2_{p_{3}p_{2}}^{h_{6}h_{7}}\n + 0.0625 * \\Phi_{h_{5}h_{4}}^{p_{0}p_{1}}v_{h_{6}h_{7}}^{p_{2}p_{3}}t2_{p_{0}p_{2}}^{h_{4}h_{5}}t2_{p_{1}p_{3}}^{h_{6}h_{7}}\n + -0.03125 * \\Phi_{h_{5}h_{4}}^{p_{0}p_{1}}v_{h_{6}h_{7}}^{p_{2}p_{3}}t2_{p_{0}p_{3}}^{h_{4}h_{5}}t2_{p_{1}p_{2}}^{h_{6}h_{7}}\n + -0.03125 * \\Phi_{h_{5}h_{4}}^{p_{0}p_{1}}v_{h_{7}h_{6}}^{p_{2}p_{3}}t2_{p_{0}p_{2}}^{h_{4}h_{5}}t2_{p_{1}p_{3}}^{h_{6}h_{7}}\n + 0.0625 * \\Phi_{h_{5}h_{4}}^{p_{0}p_{1}}v_{h_{7}h_{6}}^{p_{2}p_{3}}t2_{p_{0}p_{3}}^{h_{4}h_{5}}t2_{p_{1}p_{2}}^{h_{6}h_{7}}\n + -0.03125 * \\Phi_{h_{5}h_{4}}^{p_{0}p_{1}}v_{h_{6}h_{7}}^{p_{2}p_{3}}t2_{p_{0}p_{2}}^{h_{4}h_{5}}t2_{p_{3}p_{1}}^{h_{6}h_{7}}\n + 0.0625 * \\Phi_{h_{5}h_{4}}^{p_{0}p_{1}}v_{h_{6}h_{7}}^{p_{2}p_{3}}t2_{p_{0}p_{3}}^{h_{4}h_{5}}t2_{p_{2}p_{1}}^{h_{6}h_{7}}\n + 0.0625 * \\Phi_{h_{5}h_{4}}^{p_{0}p_{1}}v_{h_{7}h_{6}}^{p_{2}p_{3}}t2_{p_{0}p_{2}}^{h_{4}h_{5}}t2_{p_{3}p_{1}}^{h_{6}h_{7}}\n + -0.03125 * \\Phi_{h_{5}h_{4}}^{p_{0}p_{1}}v_{h_{7}h_{6}}^{p_{2}p_{3}}t2_{p_{0}p_{3}}^{h_{4}h_{5}}t2_{p_{2}p_{1}}^{h_{6}h_{7}}\n + 0.25 * \\Phi_{h_{5}h_{4}}^{p_{0}p_{1}}v_{h_{6}h_{7}}^{p_{2}p_{3}}t2_{p_{1}p_{0}}^{h_{4}h_{5}}t2_{p_{2}p_{3}}^{h_{6}h_{7}}\n + -0.125 * \\Phi_{h_{5}h_{4}}^{p_{0}p_{1}}v_{h_{6}h_{7}}^{p_{2}p_{3}}t2_{p_{1}p_{0}}^{h_{4}h_{5}}t2_{p_{3}p_{2}}^{h_{6}h_{7}}\n + -0.125 * \\Phi_{h_{5}h_{4}}^{p_{0}p_{1}}v_{h_{7}h_{6}}^{p_{2}p_{3}}t2_{p_{1}p_{0}}^{h_{4}h_{5}}t2_{p_{2}p_{3}}^{h_{6}h_{7}}\n + 0.25 * \\Phi_{h_{5}h_{4}}^{p_{0}p_{1}}v_{h_{7}h_{6}}^{p_{2}p_{3}}t2_{p_{1}p_{0}}^{h_{4}h_{5}}t2_{p_{3}p_{2}}^{h_{6}h_{7}}\n + -0.125 * \\Phi_{h_{5}h_{4}}^{p_{0}p_{1}}v_{h_{6}h_{7}}^{p_{2}p_{3}}t2_{p_{2}p_{0}}^{h_{4}h_{5}}t2_{p_{1}p_{3}}^{h_{6}h_{7}}\n + 0.0625 * \\Phi_{h_{5}h_{4}}^{p_{0}p_{1}}v_{h_{6}h_{7}}^{p_{2}p_{3}}t2_{p_{3}p_{0}}^{h_{4}h_{5}}t2_{p_{1}p_{2}}^{h_{6}h_{7}}\n + 0.0625 * \\Phi_{h_{5}h_{4}}^{p_{0}p_{1}}v_{h_{7}h_{6}}^{p_{2}p_{3}}t2_{p_{2}p_{0}}^{h_{4}h_{5}}t2_{p_{1}p_{3}}^{h_{6}h_{7}}\n + -0.125 * \\Phi_{h_{5}h_{4}}^{p_{0}p_{1}}v_{h_{7}h_{6}}^{p_{2}p_{3}}t2_{p_{3}p_{0}}^{h_{4}h_{5}}t2_{p_{1}p_{2}}^{h_{6}h_{7}}\n + 0.0625 * \\Phi_{h_{5}h_{4}}^{p_{0}p_{1}}v_{h_{6}h_{7}}^{p_{2}p_{3}}t2_{p_{2}p_{0}}^{h_{4}h_{5}}t2_{p_{3}p_{1}}^{h_{6}h_{7}}\n + -0.125 * \\Phi_{h_{5}h_{4}}^{p_{0}p_{1}}v_{h_{6}h_{7}}^{p_{2}p_{3}}t2_{p_{3}p_{0}}^{h_{4}h_{5}}t2_{p_{2}p_{1}}^{h_{6}h_{7}}\n + -0.125 * \\Phi_{h_{5}h_{4}}^{p_{0}p_{1}}v_{h_{7}h_{6}}^{p_{2}p_{3}}t2_{p_{2}p_{0}}^{h_{4}h_{5}}t2_{p_{3}p_{1}}^{h_{6}h_{7}}\n + 0.0625 * \\Phi_{h_{5}h_{4}}^{p_{0}p_{1}}v_{h_{7}h_{6}}^{p_{2}p_{3}}t2_{p_{3}p_{0}}^{h_{4}h_{5}}t2_{p_{2}p_{1}}^{h_{6}h_{7}}\n + -0.125 * \\Phi_{h_{5}h_{4}}^{p_{0}p_{1}}v_{h_{6}h_{7}}^{p_{2}p_{3}}t2_{p_{1}p_{2}}^{h_{4}h_{5}}t2_{p_{0}p_{3}}^{h_{6}h_{7}}\n + 0.0625 * \\Phi_{h_{5}h_{4}}^{p_{0}p_{1}}v_{h_{6}h_{7}}^{p_{2}p_{3}}t2_{p_{1}p_{3}}^{h_{4}h_{5}}t2_{p_{0}p_{2}}^{h_{6}h_{7}}\n + 0.0625 * \\Phi_{h_{5}h_{4}}^{p_{0}p_{1}}v_{h_{7}h_{6}}^{p_{2}p_{3}}t2_{p_{1}p_{2}}^{h_{4}h_{5}}t2_{p_{0}p_{3}}^{h_{6}h_{7}}\n + -0.125 * \\Phi_{h_{5}h_{4}}^{p_{0}p_{1}}v_{h_{7}h_{6}}^{p_{2}p_{3}}t2_{p_{1}p_{3}}^{h_{4}h_{5}}t2_{p_{0}p_{2}}^{h_{6}h_{7}}\n + 0.0625 * \\Phi_{h_{5}h_{4}}^{p_{0}p_{1}}v_{h_{6}h_{7}}^{p_{2}p_{3}}t2_{p_{2}p_{1}}^{h_{4}h_{5}}t2_{p_{0}p_{3}}^{h_{6}h_{7}}\n + -0.03125 * \\Phi_{h_{5}h_{4}}^{p_{0}p_{1}}v_{h_{6}h_{7}}^{p_{2}p_{3}}t2_{p_{3}p_{1}}^{h_{4}h_{5}}t2_{p_{0}p_{2}}^{h_{6}h_{7}}\n + -0.03125 * \\Phi_{h_{5}h_{4}}^{p_{0}p_{1}}v_{h_{7}h_{6}}^{p_{2}p_{3}}t2_{p_{2}p_{1}}^{h_{4}h_{5}}t2_{p_{0}p_{3}}^{h_{6}h_{7}}\n + 0.0625 * \\Phi_{h_{5}h_{4}}^{p_{0}p_{1}}v_{h_{7}h_{6}}^{p_{2}p_{3}}t2_{p_{3}p_{1}}^{h_{4}h_{5}}t2_{p_{0}p_{2}}^{h_{6}h_{7}}\n + -0.03125 * \\Phi_{h_{5}h_{4}}^{p_{0}p_{1}}v_{h_{6}h_{7}}^{p_{2}p_{3}}t2_{p_{2}p_{3}}^{h_{4}h_{5}}t2_{p_{0}p_{1}}^{h_{6}h_{7}}\n + 0.0625 * \\Phi_{h_{5}h_{4}}^{p_{0}p_{1}}v_{h_{6}h_{7}}^{p_{2}p_{3}}t2_{p_{3}p_{2}}^{h_{4}h_{5}}t2_{p_{0}p_{1}}^{h_{6}h_{7}}\n + 0.0625 * \\Phi_{h_{5}h_{4}}^{p_{0}p_{1}}v_{h_{7}h_{6}}^{p_{2}p_{3}}t2_{p_{2}p_{3}}^{h_{4}h_{5}}t2_{p_{0}p_{1}}^{h_{6}h_{7}}\n + -0.03125 * \\Phi_{h_{5}h_{4}}^{p_{0}p_{1}}v_{h_{7}h_{6}}^{p_{2}p_{3}}t2_{p_{3}p_{2}}^{h_{4}h_{5}}t2_{p_{0}p_{1}}^{h_{6}h_{7}}\n + 0.0625 * \\Phi_{h_{5}h_{4}}^{p_{0}p_{1}}v_{h_{6}h_{7}}^{p_{2}p_{3}}t2_{p_{1}p_{2}}^{h_{4}h_{5}}t2_{p_{3}p_{0}}^{h_{6}h_{7}}\n + -0.125 * \\Phi_{h_{5}h_{4}}^{p_{0}p_{1}}v_{h_{6}h_{7}}^{p_{2}p_{3}}t2_{p_{1}p_{3}}^{h_{4}h_{5}}t2_{p_{2}p_{0}}^{h_{6}h_{7}}\n + -0.125 * \\Phi_{h_{5}h_{4}}^{p_{0}p_{1}}v_{h_{7}h_{6}}^{p_{2}p_{3}}t2_{p_{1}p_{2}}^{h_{4}h_{5}}t2_{p_{3}p_{0}}^{h_{6}h_{7}}\n + 0.0625 * \\Phi_{h_{5}h_{4}}^{p_{0}p_{1}}v_{h_{7}h_{6}}^{p_{2}p_{3}}t2_{p_{1}p_{3}}^{h_{4}h_{5}}t2_{p_{2}p_{0}}^{h_{6}h_{7}}\n + -0.03125 * \\Phi_{h_{5}h_{4}}^{p_{0}p_{1}}v_{h_{6}h_{7}}^{p_{2}p_{3}}t2_{p_{2}p_{1}}^{h_{4}h_{5}}t2_{p_{3}p_{0}}^{h_{6}h_{7}}\n + 0.0625 * \\Phi_{h_{5}h_{4}}^{p_{0}p_{1}}v_{h_{6}h_{7}}^{p_{2}p_{3}}t2_{p_{3}p_{1}}^{h_{4}h_{5}}t2_{p_{2}p_{0}}^{h_{6}h_{7}}\n + 0.0625 * \\Phi_{h_{5}h_{4}}^{p_{0}p_{1}}v_{h_{7}h_{6}}^{p_{2}p_{3}}t2_{p_{2}p_{1}}^{h_{4}h_{5}}t2_{p_{3}p_{0}}^{h_{6}h_{7}}\n + -0.03125 * \\Phi_{h_{5}h_{4}}^{p_{0}p_{1}}v_{h_{7}h_{6}}^{p_{2}p_{3}}t2_{p_{3}p_{1}}^{h_{4}h_{5}}t2_{p_{2}p_{0}}^{h_{6}h_{7}}\n + 0.0625 * \\Phi_{h_{5}h_{4}}^{p_{0}p_{1}}v_{h_{6}h_{7}}^{p_{2}p_{3}}t2_{p_{2}p_{3}}^{h_{4}h_{5}}t2_{p_{1}p_{0}}^{h_{6}h_{7}}\n + -0.03125 * \\Phi_{h_{5}h_{4}}^{p_{0}p_{1}}v_{h_{6}h_{7}}^{p_{2}p_{3}}t2_{p_{3}p_{2}}^{h_{4}h_{5}}t2_{p_{1}p_{0}}^{h_{6}h_{7}}\n + -0.03125 * \\Phi_{h_{5}h_{4}}^{p_{0}p_{1}}v_{h_{7}h_{6}}^{p_{2}p_{3}}t2_{p_{2}p_{3}}^{h_{4}h_{5}}t2_{p_{1}p_{0}}^{h_{6}h_{7}}\n + 0.0625 * \\Phi_{h_{5}h_{4}}^{p_{0}p_{1}}v_{h_{7}h_{6}}^{p_{2}p_{3}}t2_{p_{3}p_{2}}^{h_{4}h_{5}}t2_{p_{1}p_{0}}^{h_{6}h_{7}}\n + 0.0625 * \\Phi_{h_{5}h_{6}}^{p_{0}p_{1}}v_{h_{4}h_{7}}^{p_{2}p_{3}}t2_{p_{0}p_{1}}^{h_{4}h_{5}}t2_{p_{2}p_{3}}^{h_{6}h_{7}}\n + -0.03125 * \\Phi_{h_{5}h_{6}}^{p_{0}p_{1}}v_{h_{4}h_{7}}^{p_{2}p_{3}}t2_{p_{0}p_{1}}^{h_{4}h_{5}}t2_{p_{3}p_{2}}^{h_{6}h_{7}}\n + -0.03125 * \\Phi_{h_{5}h_{6}}^{p_{0}p_{1}}v_{h_{7}h_{4}}^{p_{2}p_{3}}t2_{p_{0}p_{1}}^{h_{4}h_{5}}t2_{p_{2}p_{3}}^{h_{6}h_{7}}\n + 0.0625 * \\Phi_{h_{5}h_{6}}^{p_{0}p_{1}}v_{h_{7}h_{4}}^{p_{2}p_{3}}t2_{p_{0}p_{1}}^{h_{4}h_{5}}t2_{p_{3}p_{2}}^{h_{6}h_{7}}\n + -0.03125 * \\Phi_{h_{5}h_{6}}^{p_{0}p_{1}}v_{h_{4}h_{7}}^{p_{2}p_{3}}t2_{p_{0}p_{2}}^{h_{4}h_{5}}t2_{p_{1}p_{3}}^{h_{6}h_{7}}\n + 0.0625 * \\Phi_{h_{5}h_{6}}^{p_{0}p_{1}}v_{h_{4}h_{7}}^{p_{2}p_{3}}t2_{p_{0}p_{3}}^{h_{4}h_{5}}t2_{p_{1}p_{2}}^{h_{6}h_{7}}\n + 0.0625 * \\Phi_{h_{5}h_{6}}^{p_{0}p_{1}}v_{h_{7}h_{4}}^{p_{2}p_{3}}t2_{p_{0}p_{2}}^{h_{4}h_{5}}t2_{p_{1}p_{3}}^{h_{6}h_{7}}\n + -0.03125 * \\Phi_{h_{5}h_{6}}^{p_{0}p_{1}}v_{h_{7}h_{4}}^{p_{2}p_{3}}t2_{p_{0}p_{3}}^{h_{4}h_{5}}t2_{p_{1}p_{2}}^{h_{6}h_{7}}\n + 0.0625 * \\Phi_{h_{5}h_{6}}^{p_{0}p_{1}}v_{h_{4}h_{7}}^{p_{2}p_{3}}t2_{p_{0}p_{2}}^{h_{4}h_{5}}t2_{p_{3}p_{1}}^{h_{6}h_{7}}\n + -0.125 * \\Phi_{h_{5}h_{6}}^{p_{0}p_{1}}v_{h_{4}h_{7}}^{p_{2}p_{3}}t2_{p_{0}p_{3}}^{h_{4}h_{5}}t2_{p_{2}p_{1}}^{h_{6}h_{7}}\n + -0.125 * \\Phi_{h_{5}h_{6}}^{p_{0}p_{1}}v_{h_{7}h_{4}}^{p_{2}p_{3}}t2_{p_{0}p_{2}}^{h_{4}h_{5}}t2_{p_{3}p_{1}}^{h_{6}h_{7}}\n + 0.0625 * \\Phi_{h_{5}h_{6}}^{p_{0}p_{1}}v_{h_{7}h_{4}}^{p_{2}p_{3}}t2_{p_{0}p_{3}}^{h_{4}h_{5}}t2_{p_{2}p_{1}}^{h_{6}h_{7}}\n + -0.125 * \\Phi_{h_{5}h_{6}}^{p_{0}p_{1}}v_{h_{4}h_{7}}^{p_{2}p_{3}}t2_{p_{1}p_{0}}^{h_{4}h_{5}}t2_{p_{2}p_{3}}^{h_{6}h_{7}}\n + 0.0625 * \\Phi_{h_{5}h_{6}}^{p_{0}p_{1}}v_{h_{4}h_{7}}^{p_{2}p_{3}}t2_{p_{1}p_{0}}^{h_{4}h_{5}}t2_{p_{3}p_{2}}^{h_{6}h_{7}}\n + 0.0625 * \\Phi_{h_{5}h_{6}}^{p_{0}p_{1}}v_{h_{7}h_{4}}^{p_{2}p_{3}}t2_{p_{1}p_{0}}^{h_{4}h_{5}}t2_{p_{2}p_{3}}^{h_{6}h_{7}}\n + -0.125 * \\Phi_{h_{5}h_{6}}^{p_{0}p_{1}}v_{h_{7}h_{4}}^{p_{2}p_{3}}t2_{p_{1}p_{0}}^{h_{4}h_{5}}t2_{p_{3}p_{2}}^{h_{6}h_{7}}\n + 0.0625 * \\Phi_{h_{5}h_{6}}^{p_{0}p_{1}}v_{h_{4}h_{7}}^{p_{2}p_{3}}t2_{p_{2}p_{0}}^{h_{4}h_{5}}t2_{p_{1}p_{3}}^{h_{6}h_{7}}\n + -0.03125 * \\Phi_{h_{5}h_{6}}^{p_{0}p_{1}}v_{h_{4}h_{7}}^{p_{2}p_{3}}t2_{p_{3}p_{0}}^{h_{4}h_{5}}t2_{p_{1}p_{2}}^{h_{6}h_{7}}\n + -0.03125 * \\Phi_{h_{5}h_{6}}^{p_{0}p_{1}}v_{h_{7}h_{4}}^{p_{2}p_{3}}t2_{p_{2}p_{0}}^{h_{4}h_{5}}t2_{p_{1}p_{3}}^{h_{6}h_{7}}\n + 0.0625 * \\Phi_{h_{5}h_{6}}^{p_{0}p_{1}}v_{h_{7}h_{4}}^{p_{2}p_{3}}t2_{p_{3}p_{0}}^{h_{4}h_{5}}t2_{p_{1}p_{2}}^{h_{6}h_{7}}\n + -0.03125 * \\Phi_{h_{5}h_{6}}^{p_{0}p_{1}}v_{h_{4}h_{7}}^{p_{2}p_{3}}t2_{p_{2}p_{0}}^{h_{4}h_{5}}t2_{p_{3}p_{1}}^{h_{6}h_{7}}\n + 0.0625 * \\Phi_{h_{5}h_{6}}^{p_{0}p_{1}}v_{h_{4}h_{7}}^{p_{2}p_{3}}t2_{p_{3}p_{0}}^{h_{4}h_{5}}t2_{p_{2}p_{1}}^{h_{6}h_{7}}\n + 0.0625 * \\Phi_{h_{5}h_{6}}^{p_{0}p_{1}}v_{h_{7}h_{4}}^{p_{2}p_{3}}t2_{p_{2}p_{0}}^{h_{4}h_{5}}t2_{p_{3}p_{1}}^{h_{6}h_{7}}\n + -0.03125 * \\Phi_{h_{5}h_{6}}^{p_{0}p_{1}}v_{h_{7}h_{4}}^{p_{2}p_{3}}t2_{p_{3}p_{0}}^{h_{4}h_{5}}t2_{p_{2}p_{1}}^{h_{6}h_{7}}\n + 0.0625 * \\Phi_{h_{5}h_{6}}^{p_{0}p_{1}}v_{h_{4}h_{7}}^{p_{2}p_{3}}t2_{p_{1}p_{2}}^{h_{4}h_{5}}t2_{p_{0}p_{3}}^{h_{6}h_{7}}\n + -0.125 * \\Phi_{h_{5}h_{6}}^{p_{0}p_{1}}v_{h_{4}h_{7}}^{p_{2}p_{3}}t2_{p_{1}p_{3}}^{h_{4}h_{5}}t2_{p_{0}p_{2}}^{h_{6}h_{7}}\n + -0.125 * \\Phi_{h_{5}h_{6}}^{p_{0}p_{1}}v_{h_{7}h_{4}}^{p_{2}p_{3}}t2_{p_{1}p_{2}}^{h_{4}h_{5}}t2_{p_{0}p_{3}}^{h_{6}h_{7}}\n + 0.0625 * \\Phi_{h_{5}h_{6}}^{p_{0}p_{1}}v_{h_{7}h_{4}}^{p_{2}p_{3}}t2_{p_{1}p_{3}}^{h_{4}h_{5}}t2_{p_{0}p_{2}}^{h_{6}h_{7}}\n + -0.03125 * \\Phi_{h_{5}h_{6}}^{p_{0}p_{1}}v_{h_{4}h_{7}}^{p_{2}p_{3}}t2_{p_{2}p_{1}}^{h_{4}h_{5}}t2_{p_{0}p_{3}}^{h_{6}h_{7}}\n + 0.0625 * \\Phi_{h_{5}h_{6}}^{p_{0}p_{1}}v_{h_{4}h_{7}}^{p_{2}p_{3}}t2_{p_{3}p_{1}}^{h_{4}h_{5}}t2_{p_{0}p_{2}}^{h_{6}h_{7}}\n + 0.0625 * \\Phi_{h_{5}h_{6}}^{p_{0}p_{1}}v_{h_{7}h_{4}}^{p_{2}p_{3}}t2_{p_{2}p_{1}}^{h_{4}h_{5}}t2_{p_{0}p_{3}}^{h_{6}h_{7}}\n + -0.03125 * \\Phi_{h_{5}h_{6}}^{p_{0}p_{1}}v_{h_{7}h_{4}}^{p_{2}p_{3}}t2_{p_{3}p_{1}}^{h_{4}h_{5}}t2_{p_{0}p_{2}}^{h_{6}h_{7}}\n + 0.0625 * \\Phi_{h_{5}h_{6}}^{p_{0}p_{1}}v_{h_{4}h_{7}}^{p_{2}p_{3}}t2_{p_{2}p_{3}}^{h_{4}h_{5}}t2_{p_{0}p_{1}}^{h_{6}h_{7}}\n + -0.03125 * \\Phi_{h_{5}h_{6}}^{p_{0}p_{1}}v_{h_{4}h_{7}}^{p_{2}p_{3}}t2_{p_{3}p_{2}}^{h_{4}h_{5}}t2_{p_{0}p_{1}}^{h_{6}h_{7}}\n + -0.03125 * \\Phi_{h_{5}h_{6}}^{p_{0}p_{1}}v_{h_{7}h_{4}}^{p_{2}p_{3}}t2_{p_{2}p_{3}}^{h_{4}h_{5}}t2_{p_{0}p_{1}}^{h_{6}h_{7}}\n + 0.0625 * \\Phi_{h_{5}h_{6}}^{p_{0}p_{1}}v_{h_{7}h_{4}}^{p_{2}p_{3}}t2_{p_{3}p_{2}}^{h_{4}h_{5}}t2_{p_{0}p_{1}}^{h_{6}h_{7}}\n + -0.125 * \\Phi_{h_{5}h_{6}}^{p_{0}p_{1}}v_{h_{4}h_{7}}^{p_{2}p_{3}}t2_{p_{1}p_{2}}^{h_{4}h_{5}}t2_{p_{3}p_{0}}^{h_{6}h_{7}}\n + 0.25 * \\Phi_{h_{5}h_{6}}^{p_{0}p_{1}}v_{h_{4}h_{7}}^{p_{2}p_{3}}t2_{p_{1}p_{3}}^{h_{4}h_{5}}t2_{p_{2}p_{0}}^{h_{6}h_{7}}\n + 0.25 * \\Phi_{h_{5}h_{6}}^{p_{0}p_{1}}v_{h_{7}h_{4}}^{p_{2}p_{3}}t2_{p_{1}p_{2}}^{h_{4}h_{5}}t2_{p_{3}p_{0}}^{h_{6}h_{7}}\n + -0.125 * \\Phi_{h_{5}h_{6}}^{p_{0}p_{1}}v_{h_{7}h_{4}}^{p_{2}p_{3}}t2_{p_{1}p_{3}}^{h_{4}h_{5}}t2_{p_{2}p_{0}}^{h_{6}h_{7}}\n + 0.0625 * \\Phi_{h_{5}h_{6}}^{p_{0}p_{1}}v_{h_{4}h_{7}}^{p_{2}p_{3}}t2_{p_{2}p_{1}}^{h_{4}h_{5}}t2_{p_{3}p_{0}}^{h_{6}h_{7}}\n + -0.125 * \\Phi_{h_{5}h_{6}}^{p_{0}p_{1}}v_{h_{4}h_{7}}^{p_{2}p_{3}}t2_{p_{3}p_{1}}^{h_{4}h_{5}}t2_{p_{2}p_{0}}^{h_{6}h_{7}}\n + -0.125 * \\Phi_{h_{5}h_{6}}^{p_{0}p_{1}}v_{h_{7}h_{4}}^{p_{2}p_{3}}t2_{p_{2}p_{1}}^{h_{4}h_{5}}t2_{p_{3}p_{0}}^{h_{6}h_{7}}\n + 0.0625 * \\Phi_{h_{5}h_{6}}^{p_{0}p_{1}}v_{h_{7}h_{4}}^{p_{2}p_{3}}t2_{p_{3}p_{1}}^{h_{4}h_{5}}t2_{p_{2}p_{0}}^{h_{6}h_{7}}\n + -0.125 * \\Phi_{h_{5}h_{6}}^{p_{0}p_{1}}v_{h_{4}h_{7}}^{p_{2}p_{3}}t2_{p_{2}p_{3}}^{h_{4}h_{5}}t2_{p_{1}p_{0}}^{h_{6}h_{7}}\n + 0.0625 * \\Phi_{h_{5}h_{6}}^{p_{0}p_{1}}v_{h_{4}h_{7}}^{p_{2}p_{3}}t2_{p_{3}p_{2}}^{h_{4}h_{5}}t2_{p_{1}p_{0}}^{h_{6}h_{7}}\n + 0.0625 * \\Phi_{h_{5}h_{6}}^{p_{0}p_{1}}v_{h_{7}h_{4}}^{p_{2}p_{3}}t2_{p_{2}p_{3}}^{h_{4}h_{5}}t2_{p_{1}p_{0}}^{h_{6}h_{7}}\n + -0.125 * \\Phi_{h_{5}h_{6}}^{p_{0}p_{1}}v_{h_{7}h_{4}}^{p_{2}p_{3}}t2_{p_{3}p_{2}}^{h_{4}h_{5}}t2_{p_{1}p_{0}}^{h_{6}h_{7}}\n + -0.03125 * \\Phi_{h_{5}h_{7}}^{p_{0}p_{1}}v_{h_{4}h_{6}}^{p_{2}p_{3}}t2_{p_{0}p_{1}}^{h_{4}h_{5}}t2_{p_{2}p_{3}}^{h_{6}h_{7}}\n + 0.0625 * \\Phi_{h_{5}h_{7}}^{p_{0}p_{1}}v_{h_{4}h_{6}}^{p_{2}p_{3}}t2_{p_{0}p_{1}}^{h_{4}h_{5}}t2_{p_{3}p_{2}}^{h_{6}h_{7}}\n + 0.0625 * \\Phi_{h_{5}h_{7}}^{p_{0}p_{1}}v_{h_{6}h_{4}}^{p_{2}p_{3}}t2_{p_{0}p_{1}}^{h_{4}h_{5}}t2_{p_{2}p_{3}}^{h_{6}h_{7}}\n + -0.03125 * \\Phi_{h_{5}h_{7}}^{p_{0}p_{1}}v_{h_{6}h_{4}}^{p_{2}p_{3}}t2_{p_{0}p_{1}}^{h_{4}h_{5}}t2_{p_{3}p_{2}}^{h_{6}h_{7}}\n + 0.0625 * \\Phi_{h_{5}h_{7}}^{p_{0}p_{1}}v_{h_{4}h_{6}}^{p_{2}p_{3}}t2_{p_{0}p_{2}}^{h_{4}h_{5}}t2_{p_{1}p_{3}}^{h_{6}h_{7}}\n + -0.125 * \\Phi_{h_{5}h_{7}}^{p_{0}p_{1}}v_{h_{4}h_{6}}^{p_{2}p_{3}}t2_{p_{0}p_{3}}^{h_{4}h_{5}}t2_{p_{1}p_{2}}^{h_{6}h_{7}}\n + -0.125 * \\Phi_{h_{5}h_{7}}^{p_{0}p_{1}}v_{h_{6}h_{4}}^{p_{2}p_{3}}t2_{p_{0}p_{2}}^{h_{4}h_{5}}t2_{p_{1}p_{3}}^{h_{6}h_{7}}\n + 0.0625 * \\Phi_{h_{5}h_{7}}^{p_{0}p_{1}}v_{h_{6}h_{4}}^{p_{2}p_{3}}t2_{p_{0}p_{3}}^{h_{4}h_{5}}t2_{p_{1}p_{2}}^{h_{6}h_{7}}\n + -0.03125 * \\Phi_{h_{5}h_{7}}^{p_{0}p_{1}}v_{h_{4}h_{6}}^{p_{2}p_{3}}t2_{p_{0}p_{2}}^{h_{4}h_{5}}t2_{p_{3}p_{1}}^{h_{6}h_{7}}\n + 0.0625 * \\Phi_{h_{5}h_{7}}^{p_{0}p_{1}}v_{h_{4}h_{6}}^{p_{2}p_{3}}t2_{p_{0}p_{3}}^{h_{4}h_{5}}t2_{p_{2}p_{1}}^{h_{6}h_{7}}\n + 0.0625 * \\Phi_{h_{5}h_{7}}^{p_{0}p_{1}}v_{h_{6}h_{4}}^{p_{2}p_{3}}t2_{p_{0}p_{2}}^{h_{4}h_{5}}t2_{p_{3}p_{1}}^{h_{6}h_{7}}\n + -0.03125 * \\Phi_{h_{5}h_{7}}^{p_{0}p_{1}}v_{h_{6}h_{4}}^{p_{2}p_{3}}t2_{p_{0}p_{3}}^{h_{4}h_{5}}t2_{p_{2}p_{1}}^{h_{6}h_{7}}\n + 0.0625 * \\Phi_{h_{5}h_{7}}^{p_{0}p_{1}}v_{h_{4}h_{6}}^{p_{2}p_{3}}t2_{p_{1}p_{0}}^{h_{4}h_{5}}t2_{p_{2}p_{3}}^{h_{6}h_{7}}\n + -0.125 * \\Phi_{h_{5}h_{7}}^{p_{0}p_{1}}v_{h_{4}h_{6}}^{p_{2}p_{3}}t2_{p_{1}p_{0}}^{h_{4}h_{5}}t2_{p_{3}p_{2}}^{h_{6}h_{7}}\n + -0.125 * \\Phi_{h_{5}h_{7}}^{p_{0}p_{1}}v_{h_{6}h_{4}}^{p_{2}p_{3}}t2_{p_{1}p_{0}}^{h_{4}h_{5}}t2_{p_{2}p_{3}}^{h_{6}h_{7}}\n + 0.0625 * \\Phi_{h_{5}h_{7}}^{p_{0}p_{1}}v_{h_{6}h_{4}}^{p_{2}p_{3}}t2_{p_{1}p_{0}}^{h_{4}h_{5}}t2_{p_{3}p_{2}}^{h_{6}h_{7}}\n + -0.03125 * \\Phi_{h_{5}h_{7}}^{p_{0}p_{1}}v_{h_{4}h_{6}}^{p_{2}p_{3}}t2_{p_{2}p_{0}}^{h_{4}h_{5}}t2_{p_{1}p_{3}}^{h_{6}h_{7}}\n + 0.0625 * \\Phi_{h_{5}h_{7}}^{p_{0}p_{1}}v_{h_{4}h_{6}}^{p_{2}p_{3}}t2_{p_{3}p_{0}}^{h_{4}h_{5}}t2_{p_{1}p_{2}}^{h_{6}h_{7}}\n + 0.0625 * \\Phi_{h_{5}h_{7}}^{p_{0}p_{1}}v_{h_{6}h_{4}}^{p_{2}p_{3}}t2_{p_{2}p_{0}}^{h_{4}h_{5}}t2_{p_{1}p_{3}}^{h_{6}h_{7}}\n + -0.03125 * \\Phi_{h_{5}h_{7}}^{p_{0}p_{1}}v_{h_{6}h_{4}}^{p_{2}p_{3}}t2_{p_{3}p_{0}}^{h_{4}h_{5}}t2_{p_{1}p_{2}}^{h_{6}h_{7}}\n + 0.0625 * \\Phi_{h_{5}h_{7}}^{p_{0}p_{1}}v_{h_{4}h_{6}}^{p_{2}p_{3}}t2_{p_{2}p_{0}}^{h_{4}h_{5}}t2_{p_{3}p_{1}}^{h_{6}h_{7}}\n + -0.03125 * \\Phi_{h_{5}h_{7}}^{p_{0}p_{1}}v_{h_{4}h_{6}}^{p_{2}p_{3}}t2_{p_{3}p_{0}}^{h_{4}h_{5}}t2_{p_{2}p_{1}}^{h_{6}h_{7}}\n + -0.03125 * \\Phi_{h_{5}h_{7}}^{p_{0}p_{1}}v_{h_{6}h_{4}}^{p_{2}p_{3}}t2_{p_{2}p_{0}}^{h_{4}h_{5}}t2_{p_{3}p_{1}}^{h_{6}h_{7}}\n + 0.0625 * \\Phi_{h_{5}h_{7}}^{p_{0}p_{1}}v_{h_{6}h_{4}}^{p_{2}p_{3}}t2_{p_{3}p_{0}}^{h_{4}h_{5}}t2_{p_{2}p_{1}}^{h_{6}h_{7}}\n + -0.125 * \\Phi_{h_{5}h_{7}}^{p_{0}p_{1}}v_{h_{4}h_{6}}^{p_{2}p_{3}}t2_{p_{1}p_{2}}^{h_{4}h_{5}}t2_{p_{0}p_{3}}^{h_{6}h_{7}}\n + 0.25 * \\Phi_{h_{5}h_{7}}^{p_{0}p_{1}}v_{h_{4}h_{6}}^{p_{2}p_{3}}t2_{p_{1}p_{3}}^{h_{4}h_{5}}t2_{p_{0}p_{2}}^{h_{6}h_{7}}\n + 0.25 * \\Phi_{h_{5}h_{7}}^{p_{0}p_{1}}v_{h_{6}h_{4}}^{p_{2}p_{3}}t2_{p_{1}p_{2}}^{h_{4}h_{5}}t2_{p_{0}p_{3}}^{h_{6}h_{7}}\n + -0.125 * \\Phi_{h_{5}h_{7}}^{p_{0}p_{1}}v_{h_{6}h_{4}}^{p_{2}p_{3}}t2_{p_{1}p_{3}}^{h_{4}h_{5}}t2_{p_{0}p_{2}}^{h_{6}h_{7}}\n + 0.0625 * \\Phi_{h_{5}h_{7}}^{p_{0}p_{1}}v_{h_{4}h_{6}}^{p_{2}p_{3}}t2_{p_{2}p_{1}}^{h_{4}h_{5}}t2_{p_{0}p_{3}}^{h_{6}h_{7}}\n + -0.125 * \\Phi_{h_{5}h_{7}}^{p_{0}p_{1}}v_{h_{4}h_{6}}^{p_{2}p_{3}}t2_{p_{3}p_{1}}^{h_{4}h_{5}}t2_{p_{0}p_{2}}^{h_{6}h_{7}}\n + -0.125 * \\Phi_{h_{5}h_{7}}^{p_{0}p_{1}}v_{h_{6}h_{4}}^{p_{2}p_{3}}t2_{p_{2}p_{1}}^{h_{4}h_{5}}t2_{p_{0}p_{3}}^{h_{6}h_{7}}\n + 0.0625 * \\Phi_{h_{5}h_{7}}^{p_{0}p_{1}}v_{h_{6}h_{4}}^{p_{2}p_{3}}t2_{p_{3}p_{1}}^{h_{4}h_{5}}t2_{p_{0}p_{2}}^{h_{6}h_{7}}\n + -0.125 * \\Phi_{h_{5}h_{7}}^{p_{0}p_{1}}v_{h_{4}h_{6}}^{p_{2}p_{3}}t2_{p_{2}p_{3}}^{h_{4}h_{5}}t2_{p_{0}p_{1}}^{h_{6}h_{7}}\n + 0.0625 * \\Phi_{h_{5}h_{7}}^{p_{0}p_{1}}v_{h_{4}h_{6}}^{p_{2}p_{3}}t2_{p_{3}p_{2}}^{h_{4}h_{5}}t2_{p_{0}p_{1}}^{h_{6}h_{7}}\n + 0.0625 * \\Phi_{h_{5}h_{7}}^{p_{0}p_{1}}v_{h_{6}h_{4}}^{p_{2}p_{3}}t2_{p_{2}p_{3}}^{h_{4}h_{5}}t2_{p_{0}p_{1}}^{h_{6}h_{7}}\n + -0.125 * \\Phi_{h_{5}h_{7}}^{p_{0}p_{1}}v_{h_{6}h_{4}}^{p_{2}p_{3}}t2_{p_{3}p_{2}}^{h_{4}h_{5}}t2_{p_{0}p_{1}}^{h_{6}h_{7}}\n + 0.0625 * \\Phi_{h_{5}h_{7}}^{p_{0}p_{1}}v_{h_{4}h_{6}}^{p_{2}p_{3}}t2_{p_{1}p_{2}}^{h_{4}h_{5}}t2_{p_{3}p_{0}}^{h_{6}h_{7}}\n + -0.125 * \\Phi_{h_{5}h_{7}}^{p_{0}p_{1}}v_{h_{4}h_{6}}^{p_{2}p_{3}}t2_{p_{1}p_{3}}^{h_{4}h_{5}}t2_{p_{2}p_{0}}^{h_{6}h_{7}}\n + -0.125 * \\Phi_{h_{5}h_{7}}^{p_{0}p_{1}}v_{h_{6}h_{4}}^{p_{2}p_{3}}t2_{p_{1}p_{2}}^{h_{4}h_{5}}t2_{p_{3}p_{0}}^{h_{6}h_{7}}\n + 0.0625 * \\Phi_{h_{5}h_{7}}^{p_{0}p_{1}}v_{h_{6}h_{4}}^{p_{2}p_{3}}t2_{p_{1}p_{3}}^{h_{4}h_{5}}t2_{p_{2}p_{0}}^{h_{6}h_{7}}\n + -0.03125 * \\Phi_{h_{5}h_{7}}^{p_{0}p_{1}}v_{h_{4}h_{6}}^{p_{2}p_{3}}t2_{p_{2}p_{1}}^{h_{4}h_{5}}t2_{p_{3}p_{0}}^{h_{6}h_{7}}\n + 0.0625 * \\Phi_{h_{5}h_{7}}^{p_{0}p_{1}}v_{h_{4}h_{6}}^{p_{2}p_{3}}t2_{p_{3}p_{1}}^{h_{4}h_{5}}t2_{p_{2}p_{0}}^{h_{6}h_{7}}\n + 0.0625 * \\Phi_{h_{5}h_{7}}^{p_{0}p_{1}}v_{h_{6}h_{4}}^{p_{2}p_{3}}t2_{p_{2}p_{1}}^{h_{4}h_{5}}t2_{p_{3}p_{0}}^{h_{6}h_{7}}\n + -0.03125 * \\Phi_{h_{5}h_{7}}^{p_{0}p_{1}}v_{h_{6}h_{4}}^{p_{2}p_{3}}t2_{p_{3}p_{1}}^{h_{4}h_{5}}t2_{p_{2}p_{0}}^{h_{6}h_{7}}\n + 0.0625 * \\Phi_{h_{5}h_{7}}^{p_{0}p_{1}}v_{h_{4}h_{6}}^{p_{2}p_{3}}t2_{p_{2}p_{3}}^{h_{4}h_{5}}t2_{p_{1}p_{0}}^{h_{6}h_{7}}\n + -0.03125 * \\Phi_{h_{5}h_{7}}^{p_{0}p_{1}}v_{h_{4}h_{6}}^{p_{2}p_{3}}t2_{p_{3}p_{2}}^{h_{4}h_{5}}t2_{p_{1}p_{0}}^{h_{6}h_{7}}\n + -0.03125 * \\Phi_{h_{5}h_{7}}^{p_{0}p_{1}}v_{h_{6}h_{4}}^{p_{2}p_{3}}t2_{p_{2}p_{3}}^{h_{4}h_{5}}t2_{p_{1}p_{0}}^{h_{6}h_{7}}\n + 0.0625 * \\Phi_{h_{5}h_{7}}^{p_{0}p_{1}}v_{h_{6}h_{4}}^{p_{2}p_{3}}t2_{p_{3}p_{2}}^{h_{4}h_{5}}t2_{p_{1}p_{0}}^{h_{6}h_{7}}\n + 0.0625 * \\Phi_{h_{6}h_{4}}^{p_{0}p_{1}}v_{h_{5}h_{7}}^{p_{2}p_{3}}t2_{p_{0}p_{1}}^{h_{4}h_{5}}t2_{p_{2}p_{3}}^{h_{6}h_{7}}\n + -0.03125 * \\Phi_{h_{6}h_{4}}^{p_{0}p_{1}}v_{h_{5}h_{7}}^{p_{2}p_{3}}t2_{p_{0}p_{1}}^{h_{4}h_{5}}t2_{p_{3}p_{2}}^{h_{6}h_{7}}\n + -0.03125 * \\Phi_{h_{6}h_{4}}^{p_{0}p_{1}}v_{h_{7}h_{5}}^{p_{2}p_{3}}t2_{p_{0}p_{1}}^{h_{4}h_{5}}t2_{p_{2}p_{3}}^{h_{6}h_{7}}\n + 0.0625 * \\Phi_{h_{6}h_{4}}^{p_{0}p_{1}}v_{h_{7}h_{5}}^{p_{2}p_{3}}t2_{p_{0}p_{1}}^{h_{4}h_{5}}t2_{p_{3}p_{2}}^{h_{6}h_{7}}\n + -0.03125 * \\Phi_{h_{6}h_{4}}^{p_{0}p_{1}}v_{h_{5}h_{7}}^{p_{2}p_{3}}t2_{p_{0}p_{2}}^{h_{4}h_{5}}t2_{p_{1}p_{3}}^{h_{6}h_{7}}\n + 0.0625 * \\Phi_{h_{6}h_{4}}^{p_{0}p_{1}}v_{h_{5}h_{7}}^{p_{2}p_{3}}t2_{p_{0}p_{3}}^{h_{4}h_{5}}t2_{p_{1}p_{2}}^{h_{6}h_{7}}\n + 0.0625 * \\Phi_{h_{6}h_{4}}^{p_{0}p_{1}}v_{h_{7}h_{5}}^{p_{2}p_{3}}t2_{p_{0}p_{2}}^{h_{4}h_{5}}t2_{p_{1}p_{3}}^{h_{6}h_{7}}\n + -0.03125 * \\Phi_{h_{6}h_{4}}^{p_{0}p_{1}}v_{h_{7}h_{5}}^{p_{2}p_{3}}t2_{p_{0}p_{3}}^{h_{4}h_{5}}t2_{p_{1}p_{2}}^{h_{6}h_{7}}\n + 0.0625 * \\Phi_{h_{6}h_{4}}^{p_{0}p_{1}}v_{h_{5}h_{7}}^{p_{2}p_{3}}t2_{p_{0}p_{2}}^{h_{4}h_{5}}t2_{p_{3}p_{1}}^{h_{6}h_{7}}\n + -0.125 * \\Phi_{h_{6}h_{4}}^{p_{0}p_{1}}v_{h_{5}h_{7}}^{p_{2}p_{3}}t2_{p_{0}p_{3}}^{h_{4}h_{5}}t2_{p_{2}p_{1}}^{h_{6}h_{7}}\n + -0.125 * \\Phi_{h_{6}h_{4}}^{p_{0}p_{1}}v_{h_{7}h_{5}}^{p_{2}p_{3}}t2_{p_{0}p_{2}}^{h_{4}h_{5}}t2_{p_{3}p_{1}}^{h_{6}h_{7}}\n + 0.0625 * \\Phi_{h_{6}h_{4}}^{p_{0}p_{1}}v_{h_{7}h_{5}}^{p_{2}p_{3}}t2_{p_{0}p_{3}}^{h_{4}h_{5}}t2_{p_{2}p_{1}}^{h_{6}h_{7}}\n + -0.125 * \\Phi_{h_{6}h_{4}}^{p_{0}p_{1}}v_{h_{5}h_{7}}^{p_{2}p_{3}}t2_{p_{1}p_{0}}^{h_{4}h_{5}}t2_{p_{2}p_{3}}^{h_{6}h_{7}}\n + 0.0625 * \\Phi_{h_{6}h_{4}}^{p_{0}p_{1}}v_{h_{5}h_{7}}^{p_{2}p_{3}}t2_{p_{1}p_{0}}^{h_{4}h_{5}}t2_{p_{3}p_{2}}^{h_{6}h_{7}}\n + 0.0625 * \\Phi_{h_{6}h_{4}}^{p_{0}p_{1}}v_{h_{7}h_{5}}^{p_{2}p_{3}}t2_{p_{1}p_{0}}^{h_{4}h_{5}}t2_{p_{2}p_{3}}^{h_{6}h_{7}}\n + -0.125 * \\Phi_{h_{6}h_{4}}^{p_{0}p_{1}}v_{h_{7}h_{5}}^{p_{2}p_{3}}t2_{p_{1}p_{0}}^{h_{4}h_{5}}t2_{p_{3}p_{2}}^{h_{6}h_{7}}\n + 0.0625 * \\Phi_{h_{6}h_{4}}^{p_{0}p_{1}}v_{h_{5}h_{7}}^{p_{2}p_{3}}t2_{p_{2}p_{0}}^{h_{4}h_{5}}t2_{p_{1}p_{3}}^{h_{6}h_{7}}\n + -0.125 * \\Phi_{h_{6}h_{4}}^{p_{0}p_{1}}v_{h_{5}h_{7}}^{p_{2}p_{3}}t2_{p_{3}p_{0}}^{h_{4}h_{5}}t2_{p_{1}p_{2}}^{h_{6}h_{7}}\n + -0.125 * \\Phi_{h_{6}h_{4}}^{p_{0}p_{1}}v_{h_{7}h_{5}}^{p_{2}p_{3}}t2_{p_{2}p_{0}}^{h_{4}h_{5}}t2_{p_{1}p_{3}}^{h_{6}h_{7}}\n + 0.0625 * \\Phi_{h_{6}h_{4}}^{p_{0}p_{1}}v_{h_{7}h_{5}}^{p_{2}p_{3}}t2_{p_{3}p_{0}}^{h_{4}h_{5}}t2_{p_{1}p_{2}}^{h_{6}h_{7}}\n + -0.125 * \\Phi_{h_{6}h_{4}}^{p_{0}p_{1}}v_{h_{5}h_{7}}^{p_{2}p_{3}}t2_{p_{2}p_{0}}^{h_{4}h_{5}}t2_{p_{3}p_{1}}^{h_{6}h_{7}}\n + 0.25 * \\Phi_{h_{6}h_{4}}^{p_{0}p_{1}}v_{h_{5}h_{7}}^{p_{2}p_{3}}t2_{p_{3}p_{0}}^{h_{4}h_{5}}t2_{p_{2}p_{1}}^{h_{6}h_{7}}\n + 0.25 * \\Phi_{h_{6}h_{4}}^{p_{0}p_{1}}v_{h_{7}h_{5}}^{p_{2}p_{3}}t2_{p_{2}p_{0}}^{h_{4}h_{5}}t2_{p_{3}p_{1}}^{h_{6}h_{7}}\n + -0.125 * \\Phi_{h_{6}h_{4}}^{p_{0}p_{1}}v_{h_{7}h_{5}}^{p_{2}p_{3}}t2_{p_{3}p_{0}}^{h_{4}h_{5}}t2_{p_{2}p_{1}}^{h_{6}h_{7}}\n + 0.0625 * \\Phi_{h_{6}h_{4}}^{p_{0}p_{1}}v_{h_{5}h_{7}}^{p_{2}p_{3}}t2_{p_{1}p_{2}}^{h_{4}h_{5}}t2_{p_{0}p_{3}}^{h_{6}h_{7}}\n + -0.03125 * \\Phi_{h_{6}h_{4}}^{p_{0}p_{1}}v_{h_{5}h_{7}}^{p_{2}p_{3}}t2_{p_{1}p_{3}}^{h_{4}h_{5}}t2_{p_{0}p_{2}}^{h_{6}h_{7}}\n + -0.03125 * \\Phi_{h_{6}h_{4}}^{p_{0}p_{1}}v_{h_{7}h_{5}}^{p_{2}p_{3}}t2_{p_{1}p_{2}}^{h_{4}h_{5}}t2_{p_{0}p_{3}}^{h_{6}h_{7}}\n + 0.0625 * \\Phi_{h_{6}h_{4}}^{p_{0}p_{1}}v_{h_{7}h_{5}}^{p_{2}p_{3}}t2_{p_{1}p_{3}}^{h_{4}h_{5}}t2_{p_{0}p_{2}}^{h_{6}h_{7}}\n + -0.03125 * \\Phi_{h_{6}h_{4}}^{p_{0}p_{1}}v_{h_{5}h_{7}}^{p_{2}p_{3}}t2_{p_{2}p_{1}}^{h_{4}h_{5}}t2_{p_{0}p_{3}}^{h_{6}h_{7}}\n + 0.0625 * \\Phi_{h_{6}h_{4}}^{p_{0}p_{1}}v_{h_{5}h_{7}}^{p_{2}p_{3}}t2_{p_{3}p_{1}}^{h_{4}h_{5}}t2_{p_{0}p_{2}}^{h_{6}h_{7}}\n + 0.0625 * \\Phi_{h_{6}h_{4}}^{p_{0}p_{1}}v_{h_{7}h_{5}}^{p_{2}p_{3}}t2_{p_{2}p_{1}}^{h_{4}h_{5}}t2_{p_{0}p_{3}}^{h_{6}h_{7}}\n + -0.03125 * \\Phi_{h_{6}h_{4}}^{p_{0}p_{1}}v_{h_{7}h_{5}}^{p_{2}p_{3}}t2_{p_{3}p_{1}}^{h_{4}h_{5}}t2_{p_{0}p_{2}}^{h_{6}h_{7}}\n + 0.0625 * \\Phi_{h_{6}h_{4}}^{p_{0}p_{1}}v_{h_{5}h_{7}}^{p_{2}p_{3}}t2_{p_{2}p_{3}}^{h_{4}h_{5}}t2_{p_{0}p_{1}}^{h_{6}h_{7}}\n + -0.125 * \\Phi_{h_{6}h_{4}}^{p_{0}p_{1}}v_{h_{5}h_{7}}^{p_{2}p_{3}}t2_{p_{3}p_{2}}^{h_{4}h_{5}}t2_{p_{0}p_{1}}^{h_{6}h_{7}}\n + -0.125 * \\Phi_{h_{6}h_{4}}^{p_{0}p_{1}}v_{h_{7}h_{5}}^{p_{2}p_{3}}t2_{p_{2}p_{3}}^{h_{4}h_{5}}t2_{p_{0}p_{1}}^{h_{6}h_{7}}\n + 0.0625 * \\Phi_{h_{6}h_{4}}^{p_{0}p_{1}}v_{h_{7}h_{5}}^{p_{2}p_{3}}t2_{p_{3}p_{2}}^{h_{4}h_{5}}t2_{p_{0}p_{1}}^{h_{6}h_{7}}\n + -0.03125 * \\Phi_{h_{6}h_{4}}^{p_{0}p_{1}}v_{h_{5}h_{7}}^{p_{2}p_{3}}t2_{p_{1}p_{2}}^{h_{4}h_{5}}t2_{p_{3}p_{0}}^{h_{6}h_{7}}\n + 0.0625 * \\Phi_{h_{6}h_{4}}^{p_{0}p_{1}}v_{h_{5}h_{7}}^{p_{2}p_{3}}t2_{p_{1}p_{3}}^{h_{4}h_{5}}t2_{p_{2}p_{0}}^{h_{6}h_{7}}\n + 0.0625 * \\Phi_{h_{6}h_{4}}^{p_{0}p_{1}}v_{h_{7}h_{5}}^{p_{2}p_{3}}t2_{p_{1}p_{2}}^{h_{4}h_{5}}t2_{p_{3}p_{0}}^{h_{6}h_{7}}\n + -0.03125 * \\Phi_{h_{6}h_{4}}^{p_{0}p_{1}}v_{h_{7}h_{5}}^{p_{2}p_{3}}t2_{p_{1}p_{3}}^{h_{4}h_{5}}t2_{p_{2}p_{0}}^{h_{6}h_{7}}\n + 0.0625 * \\Phi_{h_{6}h_{4}}^{p_{0}p_{1}}v_{h_{5}h_{7}}^{p_{2}p_{3}}t2_{p_{2}p_{1}}^{h_{4}h_{5}}t2_{p_{3}p_{0}}^{h_{6}h_{7}}\n + -0.125 * \\Phi_{h_{6}h_{4}}^{p_{0}p_{1}}v_{h_{5}h_{7}}^{p_{2}p_{3}}t2_{p_{3}p_{1}}^{h_{4}h_{5}}t2_{p_{2}p_{0}}^{h_{6}h_{7}}\n + -0.125 * \\Phi_{h_{6}h_{4}}^{p_{0}p_{1}}v_{h_{7}h_{5}}^{p_{2}p_{3}}t2_{p_{2}p_{1}}^{h_{4}h_{5}}t2_{p_{3}p_{0}}^{h_{6}h_{7}}\n + 0.0625 * \\Phi_{h_{6}h_{4}}^{p_{0}p_{1}}v_{h_{7}h_{5}}^{p_{2}p_{3}}t2_{p_{3}p_{1}}^{h_{4}h_{5}}t2_{p_{2}p_{0}}^{h_{6}h_{7}}\n + -0.03125 * \\Phi_{h_{6}h_{4}}^{p_{0}p_{1}}v_{h_{5}h_{7}}^{p_{2}p_{3}}t2_{p_{2}p_{3}}^{h_{4}h_{5}}t2_{p_{1}p_{0}}^{h_{6}h_{7}}\n + 0.0625 * \\Phi_{h_{6}h_{4}}^{p_{0}p_{1}}v_{h_{5}h_{7}}^{p_{2}p_{3}}t2_{p_{3}p_{2}}^{h_{4}h_{5}}t2_{p_{1}p_{0}}^{h_{6}h_{7}}\n + 0.0625 * \\Phi_{h_{6}h_{4}}^{p_{0}p_{1}}v_{h_{7}h_{5}}^{p_{2}p_{3}}t2_{p_{2}p_{3}}^{h_{4}h_{5}}t2_{p_{1}p_{0}}^{h_{6}h_{7}}\n + -0.03125 * \\Phi_{h_{6}h_{4}}^{p_{0}p_{1}}v_{h_{7}h_{5}}^{p_{2}p_{3}}t2_{p_{3}p_{2}}^{h_{4}h_{5}}t2_{p_{1}p_{0}}^{h_{6}h_{7}}\n + -0.125 * \\Phi_{h_{6}h_{5}}^{p_{0}p_{1}}v_{h_{4}h_{7}}^{p_{2}p_{3}}t2_{p_{0}p_{1}}^{h_{4}h_{5}}t2_{p_{2}p_{3}}^{h_{6}h_{7}}\n + 0.0625 * \\Phi_{h_{6}h_{5}}^{p_{0}p_{1}}v_{h_{4}h_{7}}^{p_{2}p_{3}}t2_{p_{0}p_{1}}^{h_{4}h_{5}}t2_{p_{3}p_{2}}^{h_{6}h_{7}}\n + 0.0625 * \\Phi_{h_{6}h_{5}}^{p_{0}p_{1}}v_{h_{7}h_{4}}^{p_{2}p_{3}}t2_{p_{0}p_{1}}^{h_{4}h_{5}}t2_{p_{2}p_{3}}^{h_{6}h_{7}}\n + -0.125 * \\Phi_{h_{6}h_{5}}^{p_{0}p_{1}}v_{h_{7}h_{4}}^{p_{2}p_{3}}t2_{p_{0}p_{1}}^{h_{4}h_{5}}t2_{p_{3}p_{2}}^{h_{6}h_{7}}\n + 0.0625 * \\Phi_{h_{6}h_{5}}^{p_{0}p_{1}}v_{h_{4}h_{7}}^{p_{2}p_{3}}t2_{p_{0}p_{2}}^{h_{4}h_{5}}t2_{p_{1}p_{3}}^{h_{6}h_{7}}\n + -0.125 * \\Phi_{h_{6}h_{5}}^{p_{0}p_{1}}v_{h_{4}h_{7}}^{p_{2}p_{3}}t2_{p_{0}p_{3}}^{h_{4}h_{5}}t2_{p_{1}p_{2}}^{h_{6}h_{7}}\n + -0.125 * \\Phi_{h_{6}h_{5}}^{p_{0}p_{1}}v_{h_{7}h_{4}}^{p_{2}p_{3}}t2_{p_{0}p_{2}}^{h_{4}h_{5}}t2_{p_{1}p_{3}}^{h_{6}h_{7}}\n + 0.0625 * \\Phi_{h_{6}h_{5}}^{p_{0}p_{1}}v_{h_{7}h_{4}}^{p_{2}p_{3}}t2_{p_{0}p_{3}}^{h_{4}h_{5}}t2_{p_{1}p_{2}}^{h_{6}h_{7}}\n + -0.125 * \\Phi_{h_{6}h_{5}}^{p_{0}p_{1}}v_{h_{4}h_{7}}^{p_{2}p_{3}}t2_{p_{0}p_{2}}^{h_{4}h_{5}}t2_{p_{3}p_{1}}^{h_{6}h_{7}}\n + 0.25 * \\Phi_{h_{6}h_{5}}^{p_{0}p_{1}}v_{h_{4}h_{7}}^{p_{2}p_{3}}t2_{p_{0}p_{3}}^{h_{4}h_{5}}t2_{p_{2}p_{1}}^{h_{6}h_{7}}\n + 0.25 * \\Phi_{h_{6}h_{5}}^{p_{0}p_{1}}v_{h_{7}h_{4}}^{p_{2}p_{3}}t2_{p_{0}p_{2}}^{h_{4}h_{5}}t2_{p_{3}p_{1}}^{h_{6}h_{7}}\n + -0.125 * \\Phi_{h_{6}h_{5}}^{p_{0}p_{1}}v_{h_{7}h_{4}}^{p_{2}p_{3}}t2_{p_{0}p_{3}}^{h_{4}h_{5}}t2_{p_{2}p_{1}}^{h_{6}h_{7}}\n + 0.0625 * \\Phi_{h_{6}h_{5}}^{p_{0}p_{1}}v_{h_{4}h_{7}}^{p_{2}p_{3}}t2_{p_{1}p_{0}}^{h_{4}h_{5}}t2_{p_{2}p_{3}}^{h_{6}h_{7}}\n + -0.03125 * \\Phi_{h_{6}h_{5}}^{p_{0}p_{1}}v_{h_{4}h_{7}}^{p_{2}p_{3}}t2_{p_{1}p_{0}}^{h_{4}h_{5}}t2_{p_{3}p_{2}}^{h_{6}h_{7}}\n + -0.03125 * \\Phi_{h_{6}h_{5}}^{p_{0}p_{1}}v_{h_{7}h_{4}}^{p_{2}p_{3}}t2_{p_{1}p_{0}}^{h_{4}h_{5}}t2_{p_{2}p_{3}}^{h_{6}h_{7}}\n + 0.0625 * \\Phi_{h_{6}h_{5}}^{p_{0}p_{1}}v_{h_{7}h_{4}}^{p_{2}p_{3}}t2_{p_{1}p_{0}}^{h_{4}h_{5}}t2_{p_{3}p_{2}}^{h_{6}h_{7}}\n + -0.03125 * \\Phi_{h_{6}h_{5}}^{p_{0}p_{1}}v_{h_{4}h_{7}}^{p_{2}p_{3}}t2_{p_{2}p_{0}}^{h_{4}h_{5}}t2_{p_{1}p_{3}}^{h_{6}h_{7}}\n + 0.0625 * \\Phi_{h_{6}h_{5}}^{p_{0}p_{1}}v_{h_{4}h_{7}}^{p_{2}p_{3}}t2_{p_{3}p_{0}}^{h_{4}h_{5}}t2_{p_{1}p_{2}}^{h_{6}h_{7}}\n + 0.0625 * \\Phi_{h_{6}h_{5}}^{p_{0}p_{1}}v_{h_{7}h_{4}}^{p_{2}p_{3}}t2_{p_{2}p_{0}}^{h_{4}h_{5}}t2_{p_{1}p_{3}}^{h_{6}h_{7}}\n + -0.03125 * \\Phi_{h_{6}h_{5}}^{p_{0}p_{1}}v_{h_{7}h_{4}}^{p_{2}p_{3}}t2_{p_{3}p_{0}}^{h_{4}h_{5}}t2_{p_{1}p_{2}}^{h_{6}h_{7}}\n + 0.0625 * \\Phi_{h_{6}h_{5}}^{p_{0}p_{1}}v_{h_{4}h_{7}}^{p_{2}p_{3}}t2_{p_{2}p_{0}}^{h_{4}h_{5}}t2_{p_{3}p_{1}}^{h_{6}h_{7}}\n + -0.125 * \\Phi_{h_{6}h_{5}}^{p_{0}p_{1}}v_{h_{4}h_{7}}^{p_{2}p_{3}}t2_{p_{3}p_{0}}^{h_{4}h_{5}}t2_{p_{2}p_{1}}^{h_{6}h_{7}}\n + -0.125 * \\Phi_{h_{6}h_{5}}^{p_{0}p_{1}}v_{h_{7}h_{4}}^{p_{2}p_{3}}t2_{p_{2}p_{0}}^{h_{4}h_{5}}t2_{p_{3}p_{1}}^{h_{6}h_{7}}\n + 0.0625 * \\Phi_{h_{6}h_{5}}^{p_{0}p_{1}}v_{h_{7}h_{4}}^{p_{2}p_{3}}t2_{p_{3}p_{0}}^{h_{4}h_{5}}t2_{p_{2}p_{1}}^{h_{6}h_{7}}\n + -0.03125 * \\Phi_{h_{6}h_{5}}^{p_{0}p_{1}}v_{h_{4}h_{7}}^{p_{2}p_{3}}t2_{p_{1}p_{2}}^{h_{4}h_{5}}t2_{p_{0}p_{3}}^{h_{6}h_{7}}\n + 0.0625 * \\Phi_{h_{6}h_{5}}^{p_{0}p_{1}}v_{h_{4}h_{7}}^{p_{2}p_{3}}t2_{p_{1}p_{3}}^{h_{4}h_{5}}t2_{p_{0}p_{2}}^{h_{6}h_{7}}\n + 0.0625 * \\Phi_{h_{6}h_{5}}^{p_{0}p_{1}}v_{h_{7}h_{4}}^{p_{2}p_{3}}t2_{p_{1}p_{2}}^{h_{4}h_{5}}t2_{p_{0}p_{3}}^{h_{6}h_{7}}\n + -0.03125 * \\Phi_{h_{6}h_{5}}^{p_{0}p_{1}}v_{h_{7}h_{4}}^{p_{2}p_{3}}t2_{p_{1}p_{3}}^{h_{4}h_{5}}t2_{p_{0}p_{2}}^{h_{6}h_{7}}\n + 0.0625 * \\Phi_{h_{6}h_{5}}^{p_{0}p_{1}}v_{h_{4}h_{7}}^{p_{2}p_{3}}t2_{p_{2}p_{1}}^{h_{4}h_{5}}t2_{p_{0}p_{3}}^{h_{6}h_{7}}\n + -0.03125 * \\Phi_{h_{6}h_{5}}^{p_{0}p_{1}}v_{h_{4}h_{7}}^{p_{2}p_{3}}t2_{p_{3}p_{1}}^{h_{4}h_{5}}t2_{p_{0}p_{2}}^{h_{6}h_{7}}\n + -0.03125 * \\Phi_{h_{6}h_{5}}^{p_{0}p_{1}}v_{h_{7}h_{4}}^{p_{2}p_{3}}t2_{p_{2}p_{1}}^{h_{4}h_{5}}t2_{p_{0}p_{3}}^{h_{6}h_{7}}\n + 0.0625 * \\Phi_{h_{6}h_{5}}^{p_{0}p_{1}}v_{h_{7}h_{4}}^{p_{2}p_{3}}t2_{p_{3}p_{1}}^{h_{4}h_{5}}t2_{p_{0}p_{2}}^{h_{6}h_{7}}\n + -0.125 * \\Phi_{h_{6}h_{5}}^{p_{0}p_{1}}v_{h_{4}h_{7}}^{p_{2}p_{3}}t2_{p_{2}p_{3}}^{h_{4}h_{5}}t2_{p_{0}p_{1}}^{h_{6}h_{7}}\n + 0.0625 * \\Phi_{h_{6}h_{5}}^{p_{0}p_{1}}v_{h_{4}h_{7}}^{p_{2}p_{3}}t2_{p_{3}p_{2}}^{h_{4}h_{5}}t2_{p_{0}p_{1}}^{h_{6}h_{7}}\n + 0.0625 * \\Phi_{h_{6}h_{5}}^{p_{0}p_{1}}v_{h_{7}h_{4}}^{p_{2}p_{3}}t2_{p_{2}p_{3}}^{h_{4}h_{5}}t2_{p_{0}p_{1}}^{h_{6}h_{7}}\n + -0.125 * \\Phi_{h_{6}h_{5}}^{p_{0}p_{1}}v_{h_{7}h_{4}}^{p_{2}p_{3}}t2_{p_{3}p_{2}}^{h_{4}h_{5}}t2_{p_{0}p_{1}}^{h_{6}h_{7}}\n + 0.0625 * \\Phi_{h_{6}h_{5}}^{p_{0}p_{1}}v_{h_{4}h_{7}}^{p_{2}p_{3}}t2_{p_{1}p_{2}}^{h_{4}h_{5}}t2_{p_{3}p_{0}}^{h_{6}h_{7}}\n + -0.125 * \\Phi_{h_{6}h_{5}}^{p_{0}p_{1}}v_{h_{4}h_{7}}^{p_{2}p_{3}}t2_{p_{1}p_{3}}^{h_{4}h_{5}}t2_{p_{2}p_{0}}^{h_{6}h_{7}}\n + -0.125 * \\Phi_{h_{6}h_{5}}^{p_{0}p_{1}}v_{h_{7}h_{4}}^{p_{2}p_{3}}t2_{p_{1}p_{2}}^{h_{4}h_{5}}t2_{p_{3}p_{0}}^{h_{6}h_{7}}\n + 0.0625 * \\Phi_{h_{6}h_{5}}^{p_{0}p_{1}}v_{h_{7}h_{4}}^{p_{2}p_{3}}t2_{p_{1}p_{3}}^{h_{4}h_{5}}t2_{p_{2}p_{0}}^{h_{6}h_{7}}\n + -0.03125 * \\Phi_{h_{6}h_{5}}^{p_{0}p_{1}}v_{h_{4}h_{7}}^{p_{2}p_{3}}t2_{p_{2}p_{1}}^{h_{4}h_{5}}t2_{p_{3}p_{0}}^{h_{6}h_{7}}\n + 0.0625 * \\Phi_{h_{6}h_{5}}^{p_{0}p_{1}}v_{h_{4}h_{7}}^{p_{2}p_{3}}t2_{p_{3}p_{1}}^{h_{4}h_{5}}t2_{p_{2}p_{0}}^{h_{6}h_{7}}\n + 0.0625 * \\Phi_{h_{6}h_{5}}^{p_{0}p_{1}}v_{h_{7}h_{4}}^{p_{2}p_{3}}t2_{p_{2}p_{1}}^{h_{4}h_{5}}t2_{p_{3}p_{0}}^{h_{6}h_{7}}\n + -0.03125 * \\Phi_{h_{6}h_{5}}^{p_{0}p_{1}}v_{h_{7}h_{4}}^{p_{2}p_{3}}t2_{p_{3}p_{1}}^{h_{4}h_{5}}t2_{p_{2}p_{0}}^{h_{6}h_{7}}\n + 0.0625 * \\Phi_{h_{6}h_{5}}^{p_{0}p_{1}}v_{h_{4}h_{7}}^{p_{2}p_{3}}t2_{p_{2}p_{3}}^{h_{4}h_{5}}t2_{p_{1}p_{0}}^{h_{6}h_{7}}\n + -0.03125 * \\Phi_{h_{6}h_{5}}^{p_{0}p_{1}}v_{h_{4}h_{7}}^{p_{2}p_{3}}t2_{p_{3}p_{2}}^{h_{4}h_{5}}t2_{p_{1}p_{0}}^{h_{6}h_{7}}\n + -0.03125 * \\Phi_{h_{6}h_{5}}^{p_{0}p_{1}}v_{h_{7}h_{4}}^{p_{2}p_{3}}t2_{p_{2}p_{3}}^{h_{4}h_{5}}t2_{p_{1}p_{0}}^{h_{6}h_{7}}\n + 0.0625 * \\Phi_{h_{6}h_{5}}^{p_{0}p_{1}}v_{h_{7}h_{4}}^{p_{2}p_{3}}t2_{p_{3}p_{2}}^{h_{4}h_{5}}t2_{p_{1}p_{0}}^{h_{6}h_{7}}\n + 0.0625 * \\Phi_{h_{6}h_{7}}^{p_{0}p_{1}}v_{h_{4}h_{5}}^{p_{2}p_{3}}t2_{p_{0}p_{1}}^{h_{4}h_{5}}t2_{p_{2}p_{3}}^{h_{6}h_{7}}\n + -0.03125 * \\Phi_{h_{6}h_{7}}^{p_{0}p_{1}}v_{h_{4}h_{5}}^{p_{2}p_{3}}t2_{p_{0}p_{1}}^{h_{4}h_{5}}t2_{p_{3}p_{2}}^{h_{6}h_{7}}\n + -0.03125 * \\Phi_{h_{6}h_{7}}^{p_{0}p_{1}}v_{h_{5}h_{4}}^{p_{2}p_{3}}t2_{p_{0}p_{1}}^{h_{4}h_{5}}t2_{p_{2}p_{3}}^{h_{6}h_{7}}\n + 0.0625 * \\Phi_{h_{6}h_{7}}^{p_{0}p_{1}}v_{h_{5}h_{4}}^{p_{2}p_{3}}t2_{p_{0}p_{1}}^{h_{4}h_{5}}t2_{p_{3}p_{2}}^{h_{6}h_{7}}\n + -0.03125 * \\Phi_{h_{6}h_{7}}^{p_{0}p_{1}}v_{h_{4}h_{5}}^{p_{2}p_{3}}t2_{p_{0}p_{2}}^{h_{4}h_{5}}t2_{p_{1}p_{3}}^{h_{6}h_{7}}\n + 0.0625 * \\Phi_{h_{6}h_{7}}^{p_{0}p_{1}}v_{h_{4}h_{5}}^{p_{2}p_{3}}t2_{p_{0}p_{3}}^{h_{4}h_{5}}t2_{p_{1}p_{2}}^{h_{6}h_{7}}\n + 0.0625 * \\Phi_{h_{6}h_{7}}^{p_{0}p_{1}}v_{h_{5}h_{4}}^{p_{2}p_{3}}t2_{p_{0}p_{2}}^{h_{4}h_{5}}t2_{p_{1}p_{3}}^{h_{6}h_{7}}\n + -0.03125 * \\Phi_{h_{6}h_{7}}^{p_{0}p_{1}}v_{h_{5}h_{4}}^{p_{2}p_{3}}t2_{p_{0}p_{3}}^{h_{4}h_{5}}t2_{p_{1}p_{2}}^{h_{6}h_{7}}\n + 0.0625 * \\Phi_{h_{6}h_{7}}^{p_{0}p_{1}}v_{h_{4}h_{5}}^{p_{2}p_{3}}t2_{p_{0}p_{2}}^{h_{4}h_{5}}t2_{p_{3}p_{1}}^{h_{6}h_{7}}\n + -0.125 * \\Phi_{h_{6}h_{7}}^{p_{0}p_{1}}v_{h_{4}h_{5}}^{p_{2}p_{3}}t2_{p_{0}p_{3}}^{h_{4}h_{5}}t2_{p_{2}p_{1}}^{h_{6}h_{7}}\n + -0.125 * \\Phi_{h_{6}h_{7}}^{p_{0}p_{1}}v_{h_{5}h_{4}}^{p_{2}p_{3}}t2_{p_{0}p_{2}}^{h_{4}h_{5}}t2_{p_{3}p_{1}}^{h_{6}h_{7}}\n + 0.0625 * \\Phi_{h_{6}h_{7}}^{p_{0}p_{1}}v_{h_{5}h_{4}}^{p_{2}p_{3}}t2_{p_{0}p_{3}}^{h_{4}h_{5}}t2_{p_{2}p_{1}}^{h_{6}h_{7}}\n + -0.03125 * \\Phi_{h_{6}h_{7}}^{p_{0}p_{1}}v_{h_{4}h_{5}}^{p_{2}p_{3}}t2_{p_{1}p_{0}}^{h_{4}h_{5}}t2_{p_{2}p_{3}}^{h_{6}h_{7}}\n + 0.0625 * \\Phi_{h_{6}h_{7}}^{p_{0}p_{1}}v_{h_{4}h_{5}}^{p_{2}p_{3}}t2_{p_{1}p_{0}}^{h_{4}h_{5}}t2_{p_{3}p_{2}}^{h_{6}h_{7}}\n + 0.0625 * \\Phi_{h_{6}h_{7}}^{p_{0}p_{1}}v_{h_{5}h_{4}}^{p_{2}p_{3}}t2_{p_{1}p_{0}}^{h_{4}h_{5}}t2_{p_{2}p_{3}}^{h_{6}h_{7}}\n + -0.03125 * \\Phi_{h_{6}h_{7}}^{p_{0}p_{1}}v_{h_{5}h_{4}}^{p_{2}p_{3}}t2_{p_{1}p_{0}}^{h_{4}h_{5}}t2_{p_{3}p_{2}}^{h_{6}h_{7}}\n + 0.0625 * \\Phi_{h_{6}h_{7}}^{p_{0}p_{1}}v_{h_{4}h_{5}}^{p_{2}p_{3}}t2_{p_{2}p_{0}}^{h_{4}h_{5}}t2_{p_{1}p_{3}}^{h_{6}h_{7}}\n + -0.03125 * \\Phi_{h_{6}h_{7}}^{p_{0}p_{1}}v_{h_{4}h_{5}}^{p_{2}p_{3}}t2_{p_{3}p_{0}}^{h_{4}h_{5}}t2_{p_{1}p_{2}}^{h_{6}h_{7}}\n + -0.03125 * \\Phi_{h_{6}h_{7}}^{p_{0}p_{1}}v_{h_{5}h_{4}}^{p_{2}p_{3}}t2_{p_{2}p_{0}}^{h_{4}h_{5}}t2_{p_{1}p_{3}}^{h_{6}h_{7}}\n + 0.0625 * \\Phi_{h_{6}h_{7}}^{p_{0}p_{1}}v_{h_{5}h_{4}}^{p_{2}p_{3}}t2_{p_{3}p_{0}}^{h_{4}h_{5}}t2_{p_{1}p_{2}}^{h_{6}h_{7}}\n + -0.125 * \\Phi_{h_{6}h_{7}}^{p_{0}p_{1}}v_{h_{4}h_{5}}^{p_{2}p_{3}}t2_{p_{2}p_{0}}^{h_{4}h_{5}}t2_{p_{3}p_{1}}^{h_{6}h_{7}}\n + 0.0625 * \\Phi_{h_{6}h_{7}}^{p_{0}p_{1}}v_{h_{4}h_{5}}^{p_{2}p_{3}}t2_{p_{3}p_{0}}^{h_{4}h_{5}}t2_{p_{2}p_{1}}^{h_{6}h_{7}}\n + 0.0625 * \\Phi_{h_{6}h_{7}}^{p_{0}p_{1}}v_{h_{5}h_{4}}^{p_{2}p_{3}}t2_{p_{2}p_{0}}^{h_{4}h_{5}}t2_{p_{3}p_{1}}^{h_{6}h_{7}}\n + -0.125 * \\Phi_{h_{6}h_{7}}^{p_{0}p_{1}}v_{h_{5}h_{4}}^{p_{2}p_{3}}t2_{p_{3}p_{0}}^{h_{4}h_{5}}t2_{p_{2}p_{1}}^{h_{6}h_{7}}\n + 0.0625 * \\Phi_{h_{6}h_{7}}^{p_{0}p_{1}}v_{h_{4}h_{5}}^{p_{2}p_{3}}t2_{p_{1}p_{2}}^{h_{4}h_{5}}t2_{p_{0}p_{3}}^{h_{6}h_{7}}\n + -0.125 * \\Phi_{h_{6}h_{7}}^{p_{0}p_{1}}v_{h_{4}h_{5}}^{p_{2}p_{3}}t2_{p_{1}p_{3}}^{h_{4}h_{5}}t2_{p_{0}p_{2}}^{h_{6}h_{7}}\n + -0.125 * \\Phi_{h_{6}h_{7}}^{p_{0}p_{1}}v_{h_{5}h_{4}}^{p_{2}p_{3}}t2_{p_{1}p_{2}}^{h_{4}h_{5}}t2_{p_{0}p_{3}}^{h_{6}h_{7}}\n + 0.0625 * \\Phi_{h_{6}h_{7}}^{p_{0}p_{1}}v_{h_{5}h_{4}}^{p_{2}p_{3}}t2_{p_{1}p_{3}}^{h_{4}h_{5}}t2_{p_{0}p_{2}}^{h_{6}h_{7}}\n + -0.125 * \\Phi_{h_{6}h_{7}}^{p_{0}p_{1}}v_{h_{4}h_{5}}^{p_{2}p_{3}}t2_{p_{2}p_{1}}^{h_{4}h_{5}}t2_{p_{0}p_{3}}^{h_{6}h_{7}}\n + 0.0625 * \\Phi_{h_{6}h_{7}}^{p_{0}p_{1}}v_{h_{4}h_{5}}^{p_{2}p_{3}}t2_{p_{3}p_{1}}^{h_{4}h_{5}}t2_{p_{0}p_{2}}^{h_{6}h_{7}}\n + 0.0625 * \\Phi_{h_{6}h_{7}}^{p_{0}p_{1}}v_{h_{5}h_{4}}^{p_{2}p_{3}}t2_{p_{2}p_{1}}^{h_{4}h_{5}}t2_{p_{0}p_{3}}^{h_{6}h_{7}}\n + -0.125 * \\Phi_{h_{6}h_{7}}^{p_{0}p_{1}}v_{h_{5}h_{4}}^{p_{2}p_{3}}t2_{p_{3}p_{1}}^{h_{4}h_{5}}t2_{p_{0}p_{2}}^{h_{6}h_{7}}\n + 0.25 * \\Phi_{h_{6}h_{7}}^{p_{0}p_{1}}v_{h_{4}h_{5}}^{p_{2}p_{3}}t2_{p_{2}p_{3}}^{h_{4}h_{5}}t2_{p_{0}p_{1}}^{h_{6}h_{7}}\n + -0.125 * \\Phi_{h_{6}h_{7}}^{p_{0}p_{1}}v_{h_{4}h_{5}}^{p_{2}p_{3}}t2_{p_{3}p_{2}}^{h_{4}h_{5}}t2_{p_{0}p_{1}}^{h_{6}h_{7}}\n + -0.125 * \\Phi_{h_{6}h_{7}}^{p_{0}p_{1}}v_{h_{5}h_{4}}^{p_{2}p_{3}}t2_{p_{2}p_{3}}^{h_{4}h_{5}}t2_{p_{0}p_{1}}^{h_{6}h_{7}}\n + 0.25 * \\Phi_{h_{6}h_{7}}^{p_{0}p_{1}}v_{h_{5}h_{4}}^{p_{2}p_{3}}t2_{p_{3}p_{2}}^{h_{4}h_{5}}t2_{p_{0}p_{1}}^{h_{6}h_{7}}\n + -0.03125 * \\Phi_{h_{6}h_{7}}^{p_{0}p_{1}}v_{h_{4}h_{5}}^{p_{2}p_{3}}t2_{p_{1}p_{2}}^{h_{4}h_{5}}t2_{p_{3}p_{0}}^{h_{6}h_{7}}\n + 0.0625 * \\Phi_{h_{6}h_{7}}^{p_{0}p_{1}}v_{h_{4}h_{5}}^{p_{2}p_{3}}t2_{p_{1}p_{3}}^{h_{4}h_{5}}t2_{p_{2}p_{0}}^{h_{6}h_{7}}\n + 0.0625 * \\Phi_{h_{6}h_{7}}^{p_{0}p_{1}}v_{h_{5}h_{4}}^{p_{2}p_{3}}t2_{p_{1}p_{2}}^{h_{4}h_{5}}t2_{p_{3}p_{0}}^{h_{6}h_{7}}\n + -0.03125 * \\Phi_{h_{6}h_{7}}^{p_{0}p_{1}}v_{h_{5}h_{4}}^{p_{2}p_{3}}t2_{p_{1}p_{3}}^{h_{4}h_{5}}t2_{p_{2}p_{0}}^{h_{6}h_{7}}\n + 0.0625 * \\Phi_{h_{6}h_{7}}^{p_{0}p_{1}}v_{h_{4}h_{5}}^{p_{2}p_{3}}t2_{p_{2}p_{1}}^{h_{4}h_{5}}t2_{p_{3}p_{0}}^{h_{6}h_{7}}\n + -0.03125 * \\Phi_{h_{6}h_{7}}^{p_{0}p_{1}}v_{h_{4}h_{5}}^{p_{2}p_{3}}t2_{p_{3}p_{1}}^{h_{4}h_{5}}t2_{p_{2}p_{0}}^{h_{6}h_{7}}\n + -0.03125 * \\Phi_{h_{6}h_{7}}^{p_{0}p_{1}}v_{h_{5}h_{4}}^{p_{2}p_{3}}t2_{p_{2}p_{1}}^{h_{4}h_{5}}t2_{p_{3}p_{0}}^{h_{6}h_{7}}\n + 0.0625 * \\Phi_{h_{6}h_{7}}^{p_{0}p_{1}}v_{h_{5}h_{4}}^{p_{2}p_{3}}t2_{p_{3}p_{1}}^{h_{4}h_{5}}t2_{p_{2}p_{0}}^{h_{6}h_{7}}\n + -0.125 * \\Phi_{h_{6}h_{7}}^{p_{0}p_{1}}v_{h_{4}h_{5}}^{p_{2}p_{3}}t2_{p_{2}p_{3}}^{h_{4}h_{5}}t2_{p_{1}p_{0}}^{h_{6}h_{7}}\n + 0.0625 * \\Phi_{h_{6}h_{7}}^{p_{0}p_{1}}v_{h_{4}h_{5}}^{p_{2}p_{3}}t2_{p_{3}p_{2}}^{h_{4}h_{5}}t2_{p_{1}p_{0}}^{h_{6}h_{7}}\n + 0.0625 * \\Phi_{h_{6}h_{7}}^{p_{0}p_{1}}v_{h_{5}h_{4}}^{p_{2}p_{3}}t2_{p_{2}p_{3}}^{h_{4}h_{5}}t2_{p_{1}p_{0}}^{h_{6}h_{7}}\n + -0.125 * \\Phi_{h_{6}h_{7}}^{p_{0}p_{1}}v_{h_{5}h_{4}}^{p_{2}p_{3}}t2_{p_{3}p_{2}}^{h_{4}h_{5}}t2_{p_{1}p_{0}}^{h_{6}h_{7}}\n + -0.03125 * \\Phi_{h_{7}h_{4}}^{p_{0}p_{1}}v_{h_{5}h_{6}}^{p_{2}p_{3}}t2_{p_{0}p_{1}}^{h_{4}h_{5}}t2_{p_{2}p_{3}}^{h_{6}h_{7}}\n + 0.0625 * \\Phi_{h_{7}h_{4}}^{p_{0}p_{1}}v_{h_{5}h_{6}}^{p_{2}p_{3}}t2_{p_{0}p_{1}}^{h_{4}h_{5}}t2_{p_{3}p_{2}}^{h_{6}h_{7}}\n + 0.0625 * \\Phi_{h_{7}h_{4}}^{p_{0}p_{1}}v_{h_{6}h_{5}}^{p_{2}p_{3}}t2_{p_{0}p_{1}}^{h_{4}h_{5}}t2_{p_{2}p_{3}}^{h_{6}h_{7}}\n + -0.03125 * \\Phi_{h_{7}h_{4}}^{p_{0}p_{1}}v_{h_{6}h_{5}}^{p_{2}p_{3}}t2_{p_{0}p_{1}}^{h_{4}h_{5}}t2_{p_{3}p_{2}}^{h_{6}h_{7}}\n + 0.0625 * \\Phi_{h_{7}h_{4}}^{p_{0}p_{1}}v_{h_{5}h_{6}}^{p_{2}p_{3}}t2_{p_{0}p_{2}}^{h_{4}h_{5}}t2_{p_{1}p_{3}}^{h_{6}h_{7}}\n + -0.125 * \\Phi_{h_{7}h_{4}}^{p_{0}p_{1}}v_{h_{5}h_{6}}^{p_{2}p_{3}}t2_{p_{0}p_{3}}^{h_{4}h_{5}}t2_{p_{1}p_{2}}^{h_{6}h_{7}}\n + -0.125 * \\Phi_{h_{7}h_{4}}^{p_{0}p_{1}}v_{h_{6}h_{5}}^{p_{2}p_{3}}t2_{p_{0}p_{2}}^{h_{4}h_{5}}t2_{p_{1}p_{3}}^{h_{6}h_{7}}\n + 0.0625 * \\Phi_{h_{7}h_{4}}^{p_{0}p_{1}}v_{h_{6}h_{5}}^{p_{2}p_{3}}t2_{p_{0}p_{3}}^{h_{4}h_{5}}t2_{p_{1}p_{2}}^{h_{6}h_{7}}\n + -0.03125 * \\Phi_{h_{7}h_{4}}^{p_{0}p_{1}}v_{h_{5}h_{6}}^{p_{2}p_{3}}t2_{p_{0}p_{2}}^{h_{4}h_{5}}t2_{p_{3}p_{1}}^{h_{6}h_{7}}\n + 0.0625 * \\Phi_{h_{7}h_{4}}^{p_{0}p_{1}}v_{h_{5}h_{6}}^{p_{2}p_{3}}t2_{p_{0}p_{3}}^{h_{4}h_{5}}t2_{p_{2}p_{1}}^{h_{6}h_{7}}\n + 0.0625 * \\Phi_{h_{7}h_{4}}^{p_{0}p_{1}}v_{h_{6}h_{5}}^{p_{2}p_{3}}t2_{p_{0}p_{2}}^{h_{4}h_{5}}t2_{p_{3}p_{1}}^{h_{6}h_{7}}\n + -0.03125 * \\Phi_{h_{7}h_{4}}^{p_{0}p_{1}}v_{h_{6}h_{5}}^{p_{2}p_{3}}t2_{p_{0}p_{3}}^{h_{4}h_{5}}t2_{p_{2}p_{1}}^{h_{6}h_{7}}\n + 0.0625 * \\Phi_{h_{7}h_{4}}^{p_{0}p_{1}}v_{h_{5}h_{6}}^{p_{2}p_{3}}t2_{p_{1}p_{0}}^{h_{4}h_{5}}t2_{p_{2}p_{3}}^{h_{6}h_{7}}\n + -0.125 * \\Phi_{h_{7}h_{4}}^{p_{0}p_{1}}v_{h_{5}h_{6}}^{p_{2}p_{3}}t2_{p_{1}p_{0}}^{h_{4}h_{5}}t2_{p_{3}p_{2}}^{h_{6}h_{7}}\n + -0.125 * \\Phi_{h_{7}h_{4}}^{p_{0}p_{1}}v_{h_{6}h_{5}}^{p_{2}p_{3}}t2_{p_{1}p_{0}}^{h_{4}h_{5}}t2_{p_{2}p_{3}}^{h_{6}h_{7}}\n + 0.0625 * \\Phi_{h_{7}h_{4}}^{p_{0}p_{1}}v_{h_{6}h_{5}}^{p_{2}p_{3}}t2_{p_{1}p_{0}}^{h_{4}h_{5}}t2_{p_{3}p_{2}}^{h_{6}h_{7}}\n + -0.125 * \\Phi_{h_{7}h_{4}}^{p_{0}p_{1}}v_{h_{5}h_{6}}^{p_{2}p_{3}}t2_{p_{2}p_{0}}^{h_{4}h_{5}}t2_{p_{1}p_{3}}^{h_{6}h_{7}}\n + 0.25 * \\Phi_{h_{7}h_{4}}^{p_{0}p_{1}}v_{h_{5}h_{6}}^{p_{2}p_{3}}t2_{p_{3}p_{0}}^{h_{4}h_{5}}t2_{p_{1}p_{2}}^{h_{6}h_{7}}\n + 0.25 * \\Phi_{h_{7}h_{4}}^{p_{0}p_{1}}v_{h_{6}h_{5}}^{p_{2}p_{3}}t2_{p_{2}p_{0}}^{h_{4}h_{5}}t2_{p_{1}p_{3}}^{h_{6}h_{7}}\n + -0.125 * \\Phi_{h_{7}h_{4}}^{p_{0}p_{1}}v_{h_{6}h_{5}}^{p_{2}p_{3}}t2_{p_{3}p_{0}}^{h_{4}h_{5}}t2_{p_{1}p_{2}}^{h_{6}h_{7}}\n + 0.0625 * \\Phi_{h_{7}h_{4}}^{p_{0}p_{1}}v_{h_{5}h_{6}}^{p_{2}p_{3}}t2_{p_{2}p_{0}}^{h_{4}h_{5}}t2_{p_{3}p_{1}}^{h_{6}h_{7}}\n + -0.125 * \\Phi_{h_{7}h_{4}}^{p_{0}p_{1}}v_{h_{5}h_{6}}^{p_{2}p_{3}}t2_{p_{3}p_{0}}^{h_{4}h_{5}}t2_{p_{2}p_{1}}^{h_{6}h_{7}}\n + -0.125 * \\Phi_{h_{7}h_{4}}^{p_{0}p_{1}}v_{h_{6}h_{5}}^{p_{2}p_{3}}t2_{p_{2}p_{0}}^{h_{4}h_{5}}t2_{p_{3}p_{1}}^{h_{6}h_{7}}\n + 0.0625 * \\Phi_{h_{7}h_{4}}^{p_{0}p_{1}}v_{h_{6}h_{5}}^{p_{2}p_{3}}t2_{p_{3}p_{0}}^{h_{4}h_{5}}t2_{p_{2}p_{1}}^{h_{6}h_{7}}\n + -0.03125 * \\Phi_{h_{7}h_{4}}^{p_{0}p_{1}}v_{h_{5}h_{6}}^{p_{2}p_{3}}t2_{p_{1}p_{2}}^{h_{4}h_{5}}t2_{p_{0}p_{3}}^{h_{6}h_{7}}\n + 0.0625 * \\Phi_{h_{7}h_{4}}^{p_{0}p_{1}}v_{h_{5}h_{6}}^{p_{2}p_{3}}t2_{p_{1}p_{3}}^{h_{4}h_{5}}t2_{p_{0}p_{2}}^{h_{6}h_{7}}\n + 0.0625 * \\Phi_{h_{7}h_{4}}^{p_{0}p_{1}}v_{h_{6}h_{5}}^{p_{2}p_{3}}t2_{p_{1}p_{2}}^{h_{4}h_{5}}t2_{p_{0}p_{3}}^{h_{6}h_{7}}\n + -0.03125 * \\Phi_{h_{7}h_{4}}^{p_{0}p_{1}}v_{h_{6}h_{5}}^{p_{2}p_{3}}t2_{p_{1}p_{3}}^{h_{4}h_{5}}t2_{p_{0}p_{2}}^{h_{6}h_{7}}\n + 0.0625 * \\Phi_{h_{7}h_{4}}^{p_{0}p_{1}}v_{h_{5}h_{6}}^{p_{2}p_{3}}t2_{p_{2}p_{1}}^{h_{4}h_{5}}t2_{p_{0}p_{3}}^{h_{6}h_{7}}\n + -0.125 * \\Phi_{h_{7}h_{4}}^{p_{0}p_{1}}v_{h_{5}h_{6}}^{p_{2}p_{3}}t2_{p_{3}p_{1}}^{h_{4}h_{5}}t2_{p_{0}p_{2}}^{h_{6}h_{7}}\n + -0.125 * \\Phi_{h_{7}h_{4}}^{p_{0}p_{1}}v_{h_{6}h_{5}}^{p_{2}p_{3}}t2_{p_{2}p_{1}}^{h_{4}h_{5}}t2_{p_{0}p_{3}}^{h_{6}h_{7}}\n + 0.0625 * \\Phi_{h_{7}h_{4}}^{p_{0}p_{1}}v_{h_{6}h_{5}}^{p_{2}p_{3}}t2_{p_{3}p_{1}}^{h_{4}h_{5}}t2_{p_{0}p_{2}}^{h_{6}h_{7}}\n + -0.03125 * \\Phi_{h_{7}h_{4}}^{p_{0}p_{1}}v_{h_{5}h_{6}}^{p_{2}p_{3}}t2_{p_{2}p_{3}}^{h_{4}h_{5}}t2_{p_{0}p_{1}}^{h_{6}h_{7}}\n + 0.0625 * \\Phi_{h_{7}h_{4}}^{p_{0}p_{1}}v_{h_{5}h_{6}}^{p_{2}p_{3}}t2_{p_{3}p_{2}}^{h_{4}h_{5}}t2_{p_{0}p_{1}}^{h_{6}h_{7}}\n + 0.0625 * \\Phi_{h_{7}h_{4}}^{p_{0}p_{1}}v_{h_{6}h_{5}}^{p_{2}p_{3}}t2_{p_{2}p_{3}}^{h_{4}h_{5}}t2_{p_{0}p_{1}}^{h_{6}h_{7}}\n + -0.03125 * \\Phi_{h_{7}h_{4}}^{p_{0}p_{1}}v_{h_{6}h_{5}}^{p_{2}p_{3}}t2_{p_{3}p_{2}}^{h_{4}h_{5}}t2_{p_{0}p_{1}}^{h_{6}h_{7}}\n + 0.0625 * \\Phi_{h_{7}h_{4}}^{p_{0}p_{1}}v_{h_{5}h_{6}}^{p_{2}p_{3}}t2_{p_{1}p_{2}}^{h_{4}h_{5}}t2_{p_{3}p_{0}}^{h_{6}h_{7}}\n + -0.03125 * \\Phi_{h_{7}h_{4}}^{p_{0}p_{1}}v_{h_{5}h_{6}}^{p_{2}p_{3}}t2_{p_{1}p_{3}}^{h_{4}h_{5}}t2_{p_{2}p_{0}}^{h_{6}h_{7}}\n + -0.03125 * \\Phi_{h_{7}h_{4}}^{p_{0}p_{1}}v_{h_{6}h_{5}}^{p_{2}p_{3}}t2_{p_{1}p_{2}}^{h_{4}h_{5}}t2_{p_{3}p_{0}}^{h_{6}h_{7}}\n + 0.0625 * \\Phi_{h_{7}h_{4}}^{p_{0}p_{1}}v_{h_{6}h_{5}}^{p_{2}p_{3}}t2_{p_{1}p_{3}}^{h_{4}h_{5}}t2_{p_{2}p_{0}}^{h_{6}h_{7}}\n + -0.03125 * \\Phi_{h_{7}h_{4}}^{p_{0}p_{1}}v_{h_{5}h_{6}}^{p_{2}p_{3}}t2_{p_{2}p_{1}}^{h_{4}h_{5}}t2_{p_{3}p_{0}}^{h_{6}h_{7}}\n + 0.0625 * \\Phi_{h_{7}h_{4}}^{p_{0}p_{1}}v_{h_{5}h_{6}}^{p_{2}p_{3}}t2_{p_{3}p_{1}}^{h_{4}h_{5}}t2_{p_{2}p_{0}}^{h_{6}h_{7}}\n + 0.0625 * \\Phi_{h_{7}h_{4}}^{p_{0}p_{1}}v_{h_{6}h_{5}}^{p_{2}p_{3}}t2_{p_{2}p_{1}}^{h_{4}h_{5}}t2_{p_{3}p_{0}}^{h_{6}h_{7}}\n + -0.03125 * \\Phi_{h_{7}h_{4}}^{p_{0}p_{1}}v_{h_{6}h_{5}}^{p_{2}p_{3}}t2_{p_{3}p_{1}}^{h_{4}h_{5}}t2_{p_{2}p_{0}}^{h_{6}h_{7}}\n + 0.0625 * \\Phi_{h_{7}h_{4}}^{p_{0}p_{1}}v_{h_{5}h_{6}}^{p_{2}p_{3}}t2_{p_{2}p_{3}}^{h_{4}h_{5}}t2_{p_{1}p_{0}}^{h_{6}h_{7}}\n + -0.125 * \\Phi_{h_{7}h_{4}}^{p_{0}p_{1}}v_{h_{5}h_{6}}^{p_{2}p_{3}}t2_{p_{3}p_{2}}^{h_{4}h_{5}}t2_{p_{1}p_{0}}^{h_{6}h_{7}}\n + -0.125 * \\Phi_{h_{7}h_{4}}^{p_{0}p_{1}}v_{h_{6}h_{5}}^{p_{2}p_{3}}t2_{p_{2}p_{3}}^{h_{4}h_{5}}t2_{p_{1}p_{0}}^{h_{6}h_{7}}\n + 0.0625 * \\Phi_{h_{7}h_{4}}^{p_{0}p_{1}}v_{h_{6}h_{5}}^{p_{2}p_{3}}t2_{p_{3}p_{2}}^{h_{4}h_{5}}t2_{p_{1}p_{0}}^{h_{6}h_{7}}\n + 0.0625 * \\Phi_{h_{7}h_{5}}^{p_{0}p_{1}}v_{h_{4}h_{6}}^{p_{2}p_{3}}t2_{p_{0}p_{1}}^{h_{4}h_{5}}t2_{p_{2}p_{3}}^{h_{6}h_{7}}\n + -0.125 * \\Phi_{h_{7}h_{5}}^{p_{0}p_{1}}v_{h_{4}h_{6}}^{p_{2}p_{3}}t2_{p_{0}p_{1}}^{h_{4}h_{5}}t2_{p_{3}p_{2}}^{h_{6}h_{7}}\n + -0.125 * \\Phi_{h_{7}h_{5}}^{p_{0}p_{1}}v_{h_{6}h_{4}}^{p_{2}p_{3}}t2_{p_{0}p_{1}}^{h_{4}h_{5}}t2_{p_{2}p_{3}}^{h_{6}h_{7}}\n + 0.0625 * \\Phi_{h_{7}h_{5}}^{p_{0}p_{1}}v_{h_{6}h_{4}}^{p_{2}p_{3}}t2_{p_{0}p_{1}}^{h_{4}h_{5}}t2_{p_{3}p_{2}}^{h_{6}h_{7}}\n + -0.125 * \\Phi_{h_{7}h_{5}}^{p_{0}p_{1}}v_{h_{4}h_{6}}^{p_{2}p_{3}}t2_{p_{0}p_{2}}^{h_{4}h_{5}}t2_{p_{1}p_{3}}^{h_{6}h_{7}}\n + 0.25 * \\Phi_{h_{7}h_{5}}^{p_{0}p_{1}}v_{h_{4}h_{6}}^{p_{2}p_{3}}t2_{p_{0}p_{3}}^{h_{4}h_{5}}t2_{p_{1}p_{2}}^{h_{6}h_{7}}\n + 0.25 * \\Phi_{h_{7}h_{5}}^{p_{0}p_{1}}v_{h_{6}h_{4}}^{p_{2}p_{3}}t2_{p_{0}p_{2}}^{h_{4}h_{5}}t2_{p_{1}p_{3}}^{h_{6}h_{7}}\n + -0.125 * \\Phi_{h_{7}h_{5}}^{p_{0}p_{1}}v_{h_{6}h_{4}}^{p_{2}p_{3}}t2_{p_{0}p_{3}}^{h_{4}h_{5}}t2_{p_{1}p_{2}}^{h_{6}h_{7}}\n + 0.0625 * \\Phi_{h_{7}h_{5}}^{p_{0}p_{1}}v_{h_{4}h_{6}}^{p_{2}p_{3}}t2_{p_{0}p_{2}}^{h_{4}h_{5}}t2_{p_{3}p_{1}}^{h_{6}h_{7}}\n + -0.125 * \\Phi_{h_{7}h_{5}}^{p_{0}p_{1}}v_{h_{4}h_{6}}^{p_{2}p_{3}}t2_{p_{0}p_{3}}^{h_{4}h_{5}}t2_{p_{2}p_{1}}^{h_{6}h_{7}}\n + -0.125 * \\Phi_{h_{7}h_{5}}^{p_{0}p_{1}}v_{h_{6}h_{4}}^{p_{2}p_{3}}t2_{p_{0}p_{2}}^{h_{4}h_{5}}t2_{p_{3}p_{1}}^{h_{6}h_{7}}\n + 0.0625 * \\Phi_{h_{7}h_{5}}^{p_{0}p_{1}}v_{h_{6}h_{4}}^{p_{2}p_{3}}t2_{p_{0}p_{3}}^{h_{4}h_{5}}t2_{p_{2}p_{1}}^{h_{6}h_{7}}\n + -0.03125 * \\Phi_{h_{7}h_{5}}^{p_{0}p_{1}}v_{h_{4}h_{6}}^{p_{2}p_{3}}t2_{p_{1}p_{0}}^{h_{4}h_{5}}t2_{p_{2}p_{3}}^{h_{6}h_{7}}\n + 0.0625 * \\Phi_{h_{7}h_{5}}^{p_{0}p_{1}}v_{h_{4}h_{6}}^{p_{2}p_{3}}t2_{p_{1}p_{0}}^{h_{4}h_{5}}t2_{p_{3}p_{2}}^{h_{6}h_{7}}\n + 0.0625 * \\Phi_{h_{7}h_{5}}^{p_{0}p_{1}}v_{h_{6}h_{4}}^{p_{2}p_{3}}t2_{p_{1}p_{0}}^{h_{4}h_{5}}t2_{p_{2}p_{3}}^{h_{6}h_{7}}\n + -0.03125 * \\Phi_{h_{7}h_{5}}^{p_{0}p_{1}}v_{h_{6}h_{4}}^{p_{2}p_{3}}t2_{p_{1}p_{0}}^{h_{4}h_{5}}t2_{p_{3}p_{2}}^{h_{6}h_{7}}\n + 0.0625 * \\Phi_{h_{7}h_{5}}^{p_{0}p_{1}}v_{h_{4}h_{6}}^{p_{2}p_{3}}t2_{p_{2}p_{0}}^{h_{4}h_{5}}t2_{p_{1}p_{3}}^{h_{6}h_{7}}\n + -0.125 * \\Phi_{h_{7}h_{5}}^{p_{0}p_{1}}v_{h_{4}h_{6}}^{p_{2}p_{3}}t2_{p_{3}p_{0}}^{h_{4}h_{5}}t2_{p_{1}p_{2}}^{h_{6}h_{7}}\n + -0.125 * \\Phi_{h_{7}h_{5}}^{p_{0}p_{1}}v_{h_{6}h_{4}}^{p_{2}p_{3}}t2_{p_{2}p_{0}}^{h_{4}h_{5}}t2_{p_{1}p_{3}}^{h_{6}h_{7}}\n + 0.0625 * \\Phi_{h_{7}h_{5}}^{p_{0}p_{1}}v_{h_{6}h_{4}}^{p_{2}p_{3}}t2_{p_{3}p_{0}}^{h_{4}h_{5}}t2_{p_{1}p_{2}}^{h_{6}h_{7}}\n + -0.03125 * \\Phi_{h_{7}h_{5}}^{p_{0}p_{1}}v_{h_{4}h_{6}}^{p_{2}p_{3}}t2_{p_{2}p_{0}}^{h_{4}h_{5}}t2_{p_{3}p_{1}}^{h_{6}h_{7}}\n + 0.0625 * \\Phi_{h_{7}h_{5}}^{p_{0}p_{1}}v_{h_{4}h_{6}}^{p_{2}p_{3}}t2_{p_{3}p_{0}}^{h_{4}h_{5}}t2_{p_{2}p_{1}}^{h_{6}h_{7}}\n + 0.0625 * \\Phi_{h_{7}h_{5}}^{p_{0}p_{1}}v_{h_{6}h_{4}}^{p_{2}p_{3}}t2_{p_{2}p_{0}}^{h_{4}h_{5}}t2_{p_{3}p_{1}}^{h_{6}h_{7}}\n + -0.03125 * \\Phi_{h_{7}h_{5}}^{p_{0}p_{1}}v_{h_{6}h_{4}}^{p_{2}p_{3}}t2_{p_{3}p_{0}}^{h_{4}h_{5}}t2_{p_{2}p_{1}}^{h_{6}h_{7}}\n + 0.0625 * \\Phi_{h_{7}h_{5}}^{p_{0}p_{1}}v_{h_{4}h_{6}}^{p_{2}p_{3}}t2_{p_{1}p_{2}}^{h_{4}h_{5}}t2_{p_{0}p_{3}}^{h_{6}h_{7}}\n + -0.125 * \\Phi_{h_{7}h_{5}}^{p_{0}p_{1}}v_{h_{4}h_{6}}^{p_{2}p_{3}}t2_{p_{1}p_{3}}^{h_{4}h_{5}}t2_{p_{0}p_{2}}^{h_{6}h_{7}}\n + -0.125 * \\Phi_{h_{7}h_{5}}^{p_{0}p_{1}}v_{h_{6}h_{4}}^{p_{2}p_{3}}t2_{p_{1}p_{2}}^{h_{4}h_{5}}t2_{p_{0}p_{3}}^{h_{6}h_{7}}\n + 0.0625 * \\Phi_{h_{7}h_{5}}^{p_{0}p_{1}}v_{h_{6}h_{4}}^{p_{2}p_{3}}t2_{p_{1}p_{3}}^{h_{4}h_{5}}t2_{p_{0}p_{2}}^{h_{6}h_{7}}\n + -0.03125 * \\Phi_{h_{7}h_{5}}^{p_{0}p_{1}}v_{h_{4}h_{6}}^{p_{2}p_{3}}t2_{p_{2}p_{1}}^{h_{4}h_{5}}t2_{p_{0}p_{3}}^{h_{6}h_{7}}\n + 0.0625 * \\Phi_{h_{7}h_{5}}^{p_{0}p_{1}}v_{h_{4}h_{6}}^{p_{2}p_{3}}t2_{p_{3}p_{1}}^{h_{4}h_{5}}t2_{p_{0}p_{2}}^{h_{6}h_{7}}\n + 0.0625 * \\Phi_{h_{7}h_{5}}^{p_{0}p_{1}}v_{h_{6}h_{4}}^{p_{2}p_{3}}t2_{p_{2}p_{1}}^{h_{4}h_{5}}t2_{p_{0}p_{3}}^{h_{6}h_{7}}\n + -0.03125 * \\Phi_{h_{7}h_{5}}^{p_{0}p_{1}}v_{h_{6}h_{4}}^{p_{2}p_{3}}t2_{p_{3}p_{1}}^{h_{4}h_{5}}t2_{p_{0}p_{2}}^{h_{6}h_{7}}\n + 0.0625 * \\Phi_{h_{7}h_{5}}^{p_{0}p_{1}}v_{h_{4}h_{6}}^{p_{2}p_{3}}t2_{p_{2}p_{3}}^{h_{4}h_{5}}t2_{p_{0}p_{1}}^{h_{6}h_{7}}\n + -0.03125 * \\Phi_{h_{7}h_{5}}^{p_{0}p_{1}}v_{h_{4}h_{6}}^{p_{2}p_{3}}t2_{p_{3}p_{2}}^{h_{4}h_{5}}t2_{p_{0}p_{1}}^{h_{6}h_{7}}\n + -0.03125 * \\Phi_{h_{7}h_{5}}^{p_{0}p_{1}}v_{h_{6}h_{4}}^{p_{2}p_{3}}t2_{p_{2}p_{3}}^{h_{4}h_{5}}t2_{p_{0}p_{1}}^{h_{6}h_{7}}\n + 0.0625 * \\Phi_{h_{7}h_{5}}^{p_{0}p_{1}}v_{h_{6}h_{4}}^{p_{2}p_{3}}t2_{p_{3}p_{2}}^{h_{4}h_{5}}t2_{p_{0}p_{1}}^{h_{6}h_{7}}\n + -0.03125 * \\Phi_{h_{7}h_{5}}^{p_{0}p_{1}}v_{h_{4}h_{6}}^{p_{2}p_{3}}t2_{p_{1}p_{2}}^{h_{4}h_{5}}t2_{p_{3}p_{0}}^{h_{6}h_{7}}\n + 0.0625 * \\Phi_{h_{7}h_{5}}^{p_{0}p_{1}}v_{h_{4}h_{6}}^{p_{2}p_{3}}t2_{p_{1}p_{3}}^{h_{4}h_{5}}t2_{p_{2}p_{0}}^{h_{6}h_{7}}\n + 0.0625 * \\Phi_{h_{7}h_{5}}^{p_{0}p_{1}}v_{h_{6}h_{4}}^{p_{2}p_{3}}t2_{p_{1}p_{2}}^{h_{4}h_{5}}t2_{p_{3}p_{0}}^{h_{6}h_{7}}\n + -0.03125 * \\Phi_{h_{7}h_{5}}^{p_{0}p_{1}}v_{h_{6}h_{4}}^{p_{2}p_{3}}t2_{p_{1}p_{3}}^{h_{4}h_{5}}t2_{p_{2}p_{0}}^{h_{6}h_{7}}\n + 0.0625 * \\Phi_{h_{7}h_{5}}^{p_{0}p_{1}}v_{h_{4}h_{6}}^{p_{2}p_{3}}t2_{p_{2}p_{1}}^{h_{4}h_{5}}t2_{p_{3}p_{0}}^{h_{6}h_{7}}\n + -0.03125 * \\Phi_{h_{7}h_{5}}^{p_{0}p_{1}}v_{h_{4}h_{6}}^{p_{2}p_{3}}t2_{p_{3}p_{1}}^{h_{4}h_{5}}t2_{p_{2}p_{0}}^{h_{6}h_{7}}\n + -0.03125 * \\Phi_{h_{7}h_{5}}^{p_{0}p_{1}}v_{h_{6}h_{4}}^{p_{2}p_{3}}t2_{p_{2}p_{1}}^{h_{4}h_{5}}t2_{p_{3}p_{0}}^{h_{6}h_{7}}\n + 0.0625 * \\Phi_{h_{7}h_{5}}^{p_{0}p_{1}}v_{h_{6}h_{4}}^{p_{2}p_{3}}t2_{p_{3}p_{1}}^{h_{4}h_{5}}t2_{p_{2}p_{0}}^{h_{6}h_{7}}\n + -0.125 * \\Phi_{h_{7}h_{5}}^{p_{0}p_{1}}v_{h_{4}h_{6}}^{p_{2}p_{3}}t2_{p_{2}p_{3}}^{h_{4}h_{5}}t2_{p_{1}p_{0}}^{h_{6}h_{7}}\n + 0.0625 * \\Phi_{h_{7}h_{5}}^{p_{0}p_{1}}v_{h_{4}h_{6}}^{p_{2}p_{3}}t2_{p_{3}p_{2}}^{h_{4}h_{5}}t2_{p_{1}p_{0}}^{h_{6}h_{7}}\n + 0.0625 * \\Phi_{h_{7}h_{5}}^{p_{0}p_{1}}v_{h_{6}h_{4}}^{p_{2}p_{3}}t2_{p_{2}p_{3}}^{h_{4}h_{5}}t2_{p_{1}p_{0}}^{h_{6}h_{7}}\n + -0.125 * \\Phi_{h_{7}h_{5}}^{p_{0}p_{1}}v_{h_{6}h_{4}}^{p_{2}p_{3}}t2_{p_{3}p_{2}}^{h_{4}h_{5}}t2_{p_{1}p_{0}}^{h_{6}h_{7}}\n + -0.03125 * \\Phi_{h_{7}h_{6}}^{p_{0}p_{1}}v_{h_{4}h_{5}}^{p_{2}p_{3}}t2_{p_{0}p_{1}}^{h_{4}h_{5}}t2_{p_{2}p_{3}}^{h_{6}h_{7}}\n + 0.0625 * \\Phi_{h_{7}h_{6}}^{p_{0}p_{1}}v_{h_{4}h_{5}}^{p_{2}p_{3}}t2_{p_{0}p_{1}}^{h_{4}h_{5}}t2_{p_{3}p_{2}}^{h_{6}h_{7}}\n + 0.0625 * \\Phi_{h_{7}h_{6}}^{p_{0}p_{1}}v_{h_{5}h_{4}}^{p_{2}p_{3}}t2_{p_{0}p_{1}}^{h_{4}h_{5}}t2_{p_{2}p_{3}}^{h_{6}h_{7}}\n + -0.03125 * \\Phi_{h_{7}h_{6}}^{p_{0}p_{1}}v_{h_{5}h_{4}}^{p_{2}p_{3}}t2_{p_{0}p_{1}}^{h_{4}h_{5}}t2_{p_{3}p_{2}}^{h_{6}h_{7}}\n + 0.0625 * \\Phi_{h_{7}h_{6}}^{p_{0}p_{1}}v_{h_{4}h_{5}}^{p_{2}p_{3}}t2_{p_{0}p_{2}}^{h_{4}h_{5}}t2_{p_{1}p_{3}}^{h_{6}h_{7}}\n + -0.125 * \\Phi_{h_{7}h_{6}}^{p_{0}p_{1}}v_{h_{4}h_{5}}^{p_{2}p_{3}}t2_{p_{0}p_{3}}^{h_{4}h_{5}}t2_{p_{1}p_{2}}^{h_{6}h_{7}}\n + -0.125 * \\Phi_{h_{7}h_{6}}^{p_{0}p_{1}}v_{h_{5}h_{4}}^{p_{2}p_{3}}t2_{p_{0}p_{2}}^{h_{4}h_{5}}t2_{p_{1}p_{3}}^{h_{6}h_{7}}\n + 0.0625 * \\Phi_{h_{7}h_{6}}^{p_{0}p_{1}}v_{h_{5}h_{4}}^{p_{2}p_{3}}t2_{p_{0}p_{3}}^{h_{4}h_{5}}t2_{p_{1}p_{2}}^{h_{6}h_{7}}\n + -0.03125 * \\Phi_{h_{7}h_{6}}^{p_{0}p_{1}}v_{h_{4}h_{5}}^{p_{2}p_{3}}t2_{p_{0}p_{2}}^{h_{4}h_{5}}t2_{p_{3}p_{1}}^{h_{6}h_{7}}\n + 0.0625 * \\Phi_{h_{7}h_{6}}^{p_{0}p_{1}}v_{h_{4}h_{5}}^{p_{2}p_{3}}t2_{p_{0}p_{3}}^{h_{4}h_{5}}t2_{p_{2}p_{1}}^{h_{6}h_{7}}\n + 0.0625 * \\Phi_{h_{7}h_{6}}^{p_{0}p_{1}}v_{h_{5}h_{4}}^{p_{2}p_{3}}t2_{p_{0}p_{2}}^{h_{4}h_{5}}t2_{p_{3}p_{1}}^{h_{6}h_{7}}\n + -0.03125 * \\Phi_{h_{7}h_{6}}^{p_{0}p_{1}}v_{h_{5}h_{4}}^{p_{2}p_{3}}t2_{p_{0}p_{3}}^{h_{4}h_{5}}t2_{p_{2}p_{1}}^{h_{6}h_{7}}\n + 0.0625 * \\Phi_{h_{7}h_{6}}^{p_{0}p_{1}}v_{h_{4}h_{5}}^{p_{2}p_{3}}t2_{p_{1}p_{0}}^{h_{4}h_{5}}t2_{p_{2}p_{3}}^{h_{6}h_{7}}\n + -0.03125 * \\Phi_{h_{7}h_{6}}^{p_{0}p_{1}}v_{h_{4}h_{5}}^{p_{2}p_{3}}t2_{p_{1}p_{0}}^{h_{4}h_{5}}t2_{p_{3}p_{2}}^{h_{6}h_{7}}\n + -0.03125 * \\Phi_{h_{7}h_{6}}^{p_{0}p_{1}}v_{h_{5}h_{4}}^{p_{2}p_{3}}t2_{p_{1}p_{0}}^{h_{4}h_{5}}t2_{p_{2}p_{3}}^{h_{6}h_{7}}\n + 0.0625 * \\Phi_{h_{7}h_{6}}^{p_{0}p_{1}}v_{h_{5}h_{4}}^{p_{2}p_{3}}t2_{p_{1}p_{0}}^{h_{4}h_{5}}t2_{p_{3}p_{2}}^{h_{6}h_{7}}\n + -0.125 * \\Phi_{h_{7}h_{6}}^{p_{0}p_{1}}v_{h_{4}h_{5}}^{p_{2}p_{3}}t2_{p_{2}p_{0}}^{h_{4}h_{5}}t2_{p_{1}p_{3}}^{h_{6}h_{7}}\n + 0.0625 * \\Phi_{h_{7}h_{6}}^{p_{0}p_{1}}v_{h_{4}h_{5}}^{p_{2}p_{3}}t2_{p_{3}p_{0}}^{h_{4}h_{5}}t2_{p_{1}p_{2}}^{h_{6}h_{7}}\n + 0.0625 * \\Phi_{h_{7}h_{6}}^{p_{0}p_{1}}v_{h_{5}h_{4}}^{p_{2}p_{3}}t2_{p_{2}p_{0}}^{h_{4}h_{5}}t2_{p_{1}p_{3}}^{h_{6}h_{7}}\n + -0.125 * \\Phi_{h_{7}h_{6}}^{p_{0}p_{1}}v_{h_{5}h_{4}}^{p_{2}p_{3}}t2_{p_{3}p_{0}}^{h_{4}h_{5}}t2_{p_{1}p_{2}}^{h_{6}h_{7}}\n + 0.0625 * \\Phi_{h_{7}h_{6}}^{p_{0}p_{1}}v_{h_{4}h_{5}}^{p_{2}p_{3}}t2_{p_{2}p_{0}}^{h_{4}h_{5}}t2_{p_{3}p_{1}}^{h_{6}h_{7}}\n + -0.03125 * \\Phi_{h_{7}h_{6}}^{p_{0}p_{1}}v_{h_{4}h_{5}}^{p_{2}p_{3}}t2_{p_{3}p_{0}}^{h_{4}h_{5}}t2_{p_{2}p_{1}}^{h_{6}h_{7}}\n + -0.03125 * \\Phi_{h_{7}h_{6}}^{p_{0}p_{1}}v_{h_{5}h_{4}}^{p_{2}p_{3}}t2_{p_{2}p_{0}}^{h_{4}h_{5}}t2_{p_{3}p_{1}}^{h_{6}h_{7}}\n + 0.0625 * \\Phi_{h_{7}h_{6}}^{p_{0}p_{1}}v_{h_{5}h_{4}}^{p_{2}p_{3}}t2_{p_{3}p_{0}}^{h_{4}h_{5}}t2_{p_{2}p_{1}}^{h_{6}h_{7}}\n + -0.03125 * \\Phi_{h_{7}h_{6}}^{p_{0}p_{1}}v_{h_{4}h_{5}}^{p_{2}p_{3}}t2_{p_{1}p_{2}}^{h_{4}h_{5}}t2_{p_{0}p_{3}}^{h_{6}h_{7}}\n + 0.0625 * \\Phi_{h_{7}h_{6}}^{p_{0}p_{1}}v_{h_{4}h_{5}}^{p_{2}p_{3}}t2_{p_{1}p_{3}}^{h_{4}h_{5}}t2_{p_{0}p_{2}}^{h_{6}h_{7}}\n + 0.0625 * \\Phi_{h_{7}h_{6}}^{p_{0}p_{1}}v_{h_{5}h_{4}}^{p_{2}p_{3}}t2_{p_{1}p_{2}}^{h_{4}h_{5}}t2_{p_{0}p_{3}}^{h_{6}h_{7}}\n + -0.03125 * \\Phi_{h_{7}h_{6}}^{p_{0}p_{1}}v_{h_{5}h_{4}}^{p_{2}p_{3}}t2_{p_{1}p_{3}}^{h_{4}h_{5}}t2_{p_{0}p_{2}}^{h_{6}h_{7}}\n + 0.0625 * \\Phi_{h_{7}h_{6}}^{p_{0}p_{1}}v_{h_{4}h_{5}}^{p_{2}p_{3}}t2_{p_{2}p_{1}}^{h_{4}h_{5}}t2_{p_{0}p_{3}}^{h_{6}h_{7}}\n + -0.03125 * \\Phi_{h_{7}h_{6}}^{p_{0}p_{1}}v_{h_{4}h_{5}}^{p_{2}p_{3}}t2_{p_{3}p_{1}}^{h_{4}h_{5}}t2_{p_{0}p_{2}}^{h_{6}h_{7}}\n + -0.03125 * \\Phi_{h_{7}h_{6}}^{p_{0}p_{1}}v_{h_{5}h_{4}}^{p_{2}p_{3}}t2_{p_{2}p_{1}}^{h_{4}h_{5}}t2_{p_{0}p_{3}}^{h_{6}h_{7}}\n + 0.0625 * \\Phi_{h_{7}h_{6}}^{p_{0}p_{1}}v_{h_{5}h_{4}}^{p_{2}p_{3}}t2_{p_{3}p_{1}}^{h_{4}h_{5}}t2_{p_{0}p_{2}}^{h_{6}h_{7}}\n + -0.125 * \\Phi_{h_{7}h_{6}}^{p_{0}p_{1}}v_{h_{4}h_{5}}^{p_{2}p_{3}}t2_{p_{2}p_{3}}^{h_{4}h_{5}}t2_{p_{0}p_{1}}^{h_{6}h_{7}}\n + 0.0625 * \\Phi_{h_{7}h_{6}}^{p_{0}p_{1}}v_{h_{4}h_{5}}^{p_{2}p_{3}}t2_{p_{3}p_{2}}^{h_{4}h_{5}}t2_{p_{0}p_{1}}^{h_{6}h_{7}}\n + 0.0625 * \\Phi_{h_{7}h_{6}}^{p_{0}p_{1}}v_{h_{5}h_{4}}^{p_{2}p_{3}}t2_{p_{2}p_{3}}^{h_{4}h_{5}}t2_{p_{0}p_{1}}^{h_{6}h_{7}}\n + -0.125 * \\Phi_{h_{7}h_{6}}^{p_{0}p_{1}}v_{h_{5}h_{4}}^{p_{2}p_{3}}t2_{p_{3}p_{2}}^{h_{4}h_{5}}t2_{p_{0}p_{1}}^{h_{6}h_{7}}\n + 0.0625 * \\Phi_{h_{7}h_{6}}^{p_{0}p_{1}}v_{h_{4}h_{5}}^{p_{2}p_{3}}t2_{p_{1}p_{2}}^{h_{4}h_{5}}t2_{p_{3}p_{0}}^{h_{6}h_{7}}\n + -0.125 * \\Phi_{h_{7}h_{6}}^{p_{0}p_{1}}v_{h_{4}h_{5}}^{p_{2}p_{3}}t2_{p_{1}p_{3}}^{h_{4}h_{5}}t2_{p_{2}p_{0}}^{h_{6}h_{7}}\n + -0.125 * \\Phi_{h_{7}h_{6}}^{p_{0}p_{1}}v_{h_{5}h_{4}}^{p_{2}p_{3}}t2_{p_{1}p_{2}}^{h_{4}h_{5}}t2_{p_{3}p_{0}}^{h_{6}h_{7}}\n + 0.0625 * \\Phi_{h_{7}h_{6}}^{p_{0}p_{1}}v_{h_{5}h_{4}}^{p_{2}p_{3}}t2_{p_{1}p_{3}}^{h_{4}h_{5}}t2_{p_{2}p_{0}}^{h_{6}h_{7}}\n + -0.125 * \\Phi_{h_{7}h_{6}}^{p_{0}p_{1}}v_{h_{4}h_{5}}^{p_{2}p_{3}}t2_{p_{2}p_{1}}^{h_{4}h_{5}}t2_{p_{3}p_{0}}^{h_{6}h_{7}}\n + 0.0625 * \\Phi_{h_{7}h_{6}}^{p_{0}p_{1}}v_{h_{4}h_{5}}^{p_{2}p_{3}}t2_{p_{3}p_{1}}^{h_{4}h_{5}}t2_{p_{2}p_{0}}^{h_{6}h_{7}}\n + 0.0625 * \\Phi_{h_{7}h_{6}}^{p_{0}p_{1}}v_{h_{5}h_{4}}^{p_{2}p_{3}}t2_{p_{2}p_{1}}^{h_{4}h_{5}}t2_{p_{3}p_{0}}^{h_{6}h_{7}}\n + -0.125 * \\Phi_{h_{7}h_{6}}^{p_{0}p_{1}}v_{h_{5}h_{4}}^{p_{2}p_{3}}t2_{p_{3}p_{1}}^{h_{4}h_{5}}t2_{p_{2}p_{0}}^{h_{6}h_{7}}\n + 0.25 * \\Phi_{h_{7}h_{6}}^{p_{0}p_{1}}v_{h_{4}h_{5}}^{p_{2}p_{3}}t2_{p_{2}p_{3}}^{h_{4}h_{5}}t2_{p_{1}p_{0}}^{h_{6}h_{7}}\n + -0.125 * \\Phi_{h_{7}h_{6}}^{p_{0}p_{1}}v_{h_{4}h_{5}}^{p_{2}p_{3}}t2_{p_{3}p_{2}}^{h_{4}h_{5}}t2_{p_{1}p_{0}}^{h_{6}h_{7}}\n + -0.125 * \\Phi_{h_{7}h_{6}}^{p_{0}p_{1}}v_{h_{5}h_{4}}^{p_{2}p_{3}}t2_{p_{2}p_{3}}^{h_{4}h_{5}}t2_{p_{1}p_{0}}^{h_{6}h_{7}}\n + 0.25 * \\Phi_{h_{7}h_{6}}^{p_{0}p_{1}}v_{h_{5}h_{4}}^{p_{2}p_{3}}t2_{p_{3}p_{2}}^{h_{4}h_{5}}t2_{p_{1}p_{0}}^{h_{6}h_{7}}\n + -0.25 * \\Phi_{h_{2}h_{3}}^{p_{0}p_{1}}t2_{p_{0}p_{1}}^{h_{2}h_{3}}v_{h_{6}h_{7}}^{p_{4}p_{5}}t2_{p_{4}p_{5}}^{h_{6}h_{7}}\n + 0.125 * \\Phi_{h_{2}h_{3}}^{p_{0}p_{1}}t2_{p_{0}p_{1}}^{h_{2}h_{3}}v_{h_{6}h_{7}}^{p_{4}p_{5}}t2_{p_{5}p_{4}}^{h_{6}h_{7}}\n + 0.125 * \\Phi_{h_{2}h_{3}}^{p_{0}p_{1}}t2_{p_{0}p_{1}}^{h_{2}h_{3}}v_{h_{7}h_{6}}^{p_{4}p_{5}}t2_{p_{4}p_{5}}^{h_{6}h_{7}}\n + -0.25 * \\Phi_{h_{2}h_{3}}^{p_{0}p_{1}}t2_{p_{0}p_{1}}^{h_{2}h_{3}}v_{h_{7}h_{6}}^{p_{4}p_{5}}t2_{p_{5}p_{4}}^{h_{6}h_{7}}\n + 0.125 * \\Phi_{h_{2}h_{3}}^{p_{0}p_{1}}t2_{p_{1}p_{0}}^{h_{2}h_{3}}v_{h_{6}h_{7}}^{p_{4}p_{5}}t2_{p_{4}p_{5}}^{h_{6}h_{7}}\n + -0.0625 * \\Phi_{h_{2}h_{3}}^{p_{0}p_{1}}t2_{p_{1}p_{0}}^{h_{2}h_{3}}v_{h_{6}h_{7}}^{p_{4}p_{5}}t2_{p_{5}p_{4}}^{h_{6}h_{7}}\n + -0.0625 * \\Phi_{h_{2}h_{3}}^{p_{0}p_{1}}t2_{p_{1}p_{0}}^{h_{2}h_{3}}v_{h_{7}h_{6}}^{p_{4}p_{5}}t2_{p_{4}p_{5}}^{h_{6}h_{7}}\n + 0.125 * \\Phi_{h_{2}h_{3}}^{p_{0}p_{1}}t2_{p_{1}p_{0}}^{h_{2}h_{3}}v_{h_{7}h_{6}}^{p_{4}p_{5}}t2_{p_{5}p_{4}}^{h_{6}h_{7}}\n + 0.125 * \\Phi_{h_{3}h_{2}}^{p_{0}p_{1}}t2_{p_{0}p_{1}}^{h_{2}h_{3}}v_{h_{6}h_{7}}^{p_{4}p_{5}}t2_{p_{4}p_{5}}^{h_{6}h_{7}}\n + -0.0625 * \\Phi_{h_{3}h_{2}}^{p_{0}p_{1}}t2_{p_{0}p_{1}}^{h_{2}h_{3}}v_{h_{6}h_{7}}^{p_{4}p_{5}}t2_{p_{5}p_{4}}^{h_{6}h_{7}}\n + -0.0625 * \\Phi_{h_{3}h_{2}}^{p_{0}p_{1}}t2_{p_{0}p_{1}}^{h_{2}h_{3}}v_{h_{7}h_{6}}^{p_{4}p_{5}}t2_{p_{4}p_{5}}^{h_{6}h_{7}}\n + 0.125 * \\Phi_{h_{3}h_{2}}^{p_{0}p_{1}}t2_{p_{0}p_{1}}^{h_{2}h_{3}}v_{h_{7}h_{6}}^{p_{4}p_{5}}t2_{p_{5}p_{4}}^{h_{6}h_{7}}\n + -0.25 * \\Phi_{h_{3}h_{2}}^{p_{0}p_{1}}t2_{p_{1}p_{0}}^{h_{2}h_{3}}v_{h_{6}h_{7}}^{p_{4}p_{5}}t2_{p_{4}p_{5}}^{h_{6}h_{7}}\n + 0.125 * \\Phi_{h_{3}h_{2}}^{p_{0}p_{1}}t2_{p_{1}p_{0}}^{h_{2}h_{3}}v_{h_{6}h_{7}}^{p_{4}p_{5}}t2_{p_{5}p_{4}}^{h_{6}h_{7}}\n + 0.125 * \\Phi_{h_{3}h_{2}}^{p_{0}p_{1}}t2_{p_{1}p_{0}}^{h_{2}h_{3}}v_{h_{7}h_{6}}^{p_{4}p_{5}}t2_{p_{4}p_{5}}^{h_{6}h_{7}}\n + -0.25 * \\Phi_{h_{3}h_{2}}^{p_{0}p_{1}}t2_{p_{1}p_{0}}^{h_{2}h_{3}}v_{h_{7}h_{6}}^{p_{4}p_{5}}t2_{p_{5}p_{4}}^{h_{6}h_{7}}\n + -0.25 * \\Phi_{h_{2}h_{3}}^{p_{0}p_{1}}t2_{p_{0}p_{1}}^{h_{2}h_{3}}v_{h_{6}h_{7}}^{p_{4}p_{5}}t2_{p_{4}p_{5}}^{h_{6}h_{7}}\n + 0.125 * \\Phi_{h_{2}h_{3}}^{p_{0}p_{1}}t2_{p_{0}p_{1}}^{h_{2}h_{3}}v_{h_{6}h_{7}}^{p_{4}p_{5}}t2_{p_{5}p_{4}}^{h_{6}h_{7}}\n + 0.125 * \\Phi_{h_{2}h_{3}}^{p_{0}p_{1}}t2_{p_{0}p_{1}}^{h_{2}h_{3}}v_{h_{7}h_{6}}^{p_{4}p_{5}}t2_{p_{4}p_{5}}^{h_{6}h_{7}}\n + -0.25 * \\Phi_{h_{2}h_{3}}^{p_{0}p_{1}}t2_{p_{0}p_{1}}^{h_{2}h_{3}}v_{h_{7}h_{6}}^{p_{4}p_{5}}t2_{p_{5}p_{4}}^{h_{6}h_{7}}\n + 0.125 * \\Phi_{h_{2}h_{3}}^{p_{0}p_{1}}t2_{p_{1}p_{0}}^{h_{2}h_{3}}v_{h_{6}h_{7}}^{p_{4}p_{5}}t2_{p_{4}p_{5}}^{h_{6}h_{7}}\n + -0.0625 * \\Phi_{h_{2}h_{3}}^{p_{0}p_{1}}t2_{p_{1}p_{0}}^{h_{2}h_{3}}v_{h_{6}h_{7}}^{p_{4}p_{5}}t2_{p_{5}p_{4}}^{h_{6}h_{7}}\n + -0.0625 * \\Phi_{h_{2}h_{3}}^{p_{0}p_{1}}t2_{p_{1}p_{0}}^{h_{2}h_{3}}v_{h_{7}h_{6}}^{p_{4}p_{5}}t2_{p_{4}p_{5}}^{h_{6}h_{7}}\n + 0.125 * \\Phi_{h_{2}h_{3}}^{p_{0}p_{1}}t2_{p_{1}p_{0}}^{h_{2}h_{3}}v_{h_{7}h_{6}}^{p_{4}p_{5}}t2_{p_{5}p_{4}}^{h_{6}h_{7}}\n + 0.125 * \\Phi_{h_{3}h_{2}}^{p_{0}p_{1}}t2_{p_{0}p_{1}}^{h_{2}h_{3}}v_{h_{6}h_{7}}^{p_{4}p_{5}}t2_{p_{4}p_{5}}^{h_{6}h_{7}}\n + -0.0625 * \\Phi_{h_{3}h_{2}}^{p_{0}p_{1}}t2_{p_{0}p_{1}}^{h_{2}h_{3}}v_{h_{6}h_{7}}^{p_{4}p_{5}}t2_{p_{5}p_{4}}^{h_{6}h_{7}}\n + -0.0625 * \\Phi_{h_{3}h_{2}}^{p_{0}p_{1}}t2_{p_{0}p_{1}}^{h_{2}h_{3}}v_{h_{7}h_{6}}^{p_{4}p_{5}}t2_{p_{4}p_{5}}^{h_{6}h_{7}}\n + 0.125 * \\Phi_{h_{3}h_{2}}^{p_{0}p_{1}}t2_{p_{0}p_{1}}^{h_{2}h_{3}}v_{h_{7}h_{6}}^{p_{4}p_{5}}t2_{p_{5}p_{4}}^{h_{6}h_{7}}\n + -0.25 * \\Phi_{h_{3}h_{2}}^{p_{0}p_{1}}t2_{p_{1}p_{0}}^{h_{2}h_{3}}v_{h_{6}h_{7}}^{p_{4}p_{5}}t2_{p_{4}p_{5}}^{h_{6}h_{7}}\n + 0.125 * \\Phi_{h_{3}h_{2}}^{p_{0}p_{1}}t2_{p_{1}p_{0}}^{h_{2}h_{3}}v_{h_{6}h_{7}}^{p_{4}p_{5}}t2_{p_{5}p_{4}}^{h_{6}h_{7}}\n + 0.125 * \\Phi_{h_{3}h_{2}}^{p_{0}p_{1}}t2_{p_{1}p_{0}}^{h_{2}h_{3}}v_{h_{7}h_{6}}^{p_{4}p_{5}}t2_{p_{4}p_{5}}^{h_{6}h_{7}}\n + -0.25 * \\Phi_{h_{3}h_{2}}^{p_{0}p_{1}}t2_{p_{1}p_{0}}^{h_{2}h_{3}}v_{h_{7}h_{6}}^{p_{4}p_{5}}t2_{p_{5}p_{4}}^{h_{6}h_{7}}\n"
     ]
    }
   ],
   "source": [
    "print(CCDDoublesResidual)"
   ]
  },
  {
   "cell_type": "code",
   "execution_count": 113,
   "metadata": {},
   "outputs": [
    {
     "output_type": "execute_result",
     "data": {
      "text/plain": [
       "724"
      ]
     },
     "metadata": {},
     "execution_count": 113
    }
   ],
   "source": [
    "len(CCDDoublesResidual.summandList)"
   ]
  },
  {
   "cell_type": "code",
   "execution_count": 114,
   "metadata": {},
   "outputs": [],
   "source": [
    "testCCDDoublesResidual = copy(CCDDoublesResidual)"
   ]
  },
  {
   "cell_type": "code",
   "execution_count": 115,
   "metadata": {},
   "outputs": [
    {
     "output_type": "stream",
     "name": "stdout",
     "text": [
      "\\Phi_{h_{2}h_{3}}^{p_{0}p_{1}}\n"
     ]
    }
   ],
   "source": [
    "print(testCCDDoublesResidual.summandList[0].vertexList[0])"
   ]
  },
  {
   "cell_type": "code",
   "execution_count": 116,
   "metadata": {},
   "outputs": [],
   "source": [
    "for summand in testCCDDoublesResidual.summandList:\n",
    "    summand.vertexList.pop(0)"
   ]
  },
  {
   "cell_type": "code",
   "execution_count": 117,
   "metadata": {},
   "outputs": [
    {
     "output_type": "stream",
     "name": "stdout",
     "text": [
      "-0.5 * f_{p_{0}}^{p_{3}}t2_{p_{1}p_{3}}^{h_{2}h_{3}}\n + 1.0 * f_{p_{0}}^{p_{3}}t2_{p_{3}p_{1}}^{h_{2}h_{3}}\n + 1.0 * f_{p_{1}}^{p_{3}}t2_{p_{0}p_{3}}^{h_{2}h_{3}}\n + -0.5 * f_{p_{1}}^{p_{3}}t2_{p_{3}p_{0}}^{h_{2}h_{3}}\n + 1.0 * f_{p_{0}}^{p_{3}}t2_{p_{1}p_{3}}^{h_{2}h_{3}}\n + -0.5 * f_{p_{0}}^{p_{3}}t2_{p_{3}p_{1}}^{h_{2}h_{3}}\n + -0.5 * f_{p_{1}}^{p_{3}}t2_{p_{0}p_{3}}^{h_{2}h_{3}}\n + 1.0 * f_{p_{1}}^{p_{3}}t2_{p_{3}p_{0}}^{h_{2}h_{3}}\n + 0.5 * f_{h_{5}}^{h_{3}}t2_{p_{0}p_{1}}^{h_{4}h_{5}}\n + -1.0 * f_{h_{5}}^{h_{3}}t2_{p_{1}p_{0}}^{h_{4}h_{5}}\n + -1.0 * f_{h_{4}}^{h_{3}}t2_{p_{0}p_{1}}^{h_{4}h_{5}}\n + 0.5 * f_{h_{4}}^{h_{3}}t2_{p_{1}p_{0}}^{h_{4}h_{5}}\n + -1.0 * f_{h_{5}}^{h_{3}}t2_{p_{0}p_{1}}^{h_{4}h_{5}}\n + 0.5 * f_{h_{5}}^{h_{3}}t2_{p_{1}p_{0}}^{h_{4}h_{5}}\n + 2.0 * f_{h_{3}}^{h_{3}}t2_{p_{0}p_{1}}^{h_{4}h_{5}}\n + -1.0 * f_{h_{3}}^{h_{3}}t2_{p_{1}p_{0}}^{h_{4}h_{5}}\n + 0.5 * f_{h_{4}}^{h_{3}}t2_{p_{0}p_{1}}^{h_{4}h_{5}}\n + -1.0 * f_{h_{4}}^{h_{3}}t2_{p_{1}p_{0}}^{h_{4}h_{5}}\n + -1.0 * f_{h_{3}}^{h_{3}}t2_{p_{0}p_{1}}^{h_{4}h_{5}}\n + 2.0 * f_{h_{3}}^{h_{3}}t2_{p_{1}p_{0}}^{h_{4}h_{5}}\n + -2.0 * t2_{p_{0}p_{1}}^{h_{2}h_{3}}f_{h_{5}}^{h_{5}}\n + 1.0 * t2_{p_{1}p_{0}}^{h_{2}h_{3}}f_{h_{5}}^{h_{5}}\n + 1.0 * t2_{p_{0}p_{1}}^{h_{2}h_{3}}f_{h_{5}}^{h_{5}}\n + -2.0 * t2_{p_{1}p_{0}}^{h_{2}h_{3}}f_{h_{5}}^{h_{5}}\n + -0.25 * v_{p_{0}p_{1}}^{p_{4}p_{5}}t2_{p_{4}p_{5}}^{h_{2}h_{3}}\n + 0.5 * v_{p_{0}p_{1}}^{p_{4}p_{5}}t2_{p_{5}p_{4}}^{h_{2}h_{3}}\n + 0.5 * v_{p_{1}p_{0}}^{p_{4}p_{5}}t2_{p_{4}p_{5}}^{h_{2}h_{3}}\n + -0.25 * v_{p_{1}p_{0}}^{p_{4}p_{5}}t2_{p_{5}p_{4}}^{h_{2}h_{3}}\n + 0.5 * v_{p_{0}p_{1}}^{p_{4}p_{5}}t2_{p_{4}p_{5}}^{h_{2}h_{3}}\n + -0.25 * v_{p_{0}p_{1}}^{p_{4}p_{5}}t2_{p_{5}p_{4}}^{h_{2}h_{3}}\n + -0.25 * v_{p_{1}p_{0}}^{p_{4}p_{5}}t2_{p_{4}p_{5}}^{h_{2}h_{3}}\n + 0.5 * v_{p_{1}p_{0}}^{p_{4}p_{5}}t2_{p_{5}p_{4}}^{h_{2}h_{3}}\n + -0.25 * v_{h_{6}h_{7}}^{h_{4}h_{5}}t2_{p_{0}p_{1}}^{h_{6}h_{7}}\n + 0.5 * v_{h_{7}h_{6}}^{h_{4}h_{5}}t2_{p_{0}p_{1}}^{h_{6}h_{7}}\n + 0.5 * v_{h_{6}h_{7}}^{h_{4}h_{5}}t2_{p_{1}p_{0}}^{h_{6}h_{7}}\n + -0.25 * v_{h_{7}h_{6}}^{h_{4}h_{5}}t2_{p_{1}p_{0}}^{h_{6}h_{7}}\n + 0.5 * v_{h_{5}h_{7}}^{h_{4}h_{5}}t2_{p_{0}p_{1}}^{h_{6}h_{7}}\n + -0.25 * v_{h_{7}h_{5}}^{h_{4}h_{5}}t2_{p_{0}p_{1}}^{h_{6}h_{7}}\n + -1.0 * v_{h_{5}h_{7}}^{h_{4}h_{5}}t2_{p_{1}p_{0}}^{h_{6}h_{7}}\n + 0.5 * v_{h_{7}h_{5}}^{h_{4}h_{5}}t2_{p_{1}p_{0}}^{h_{6}h_{7}}\n + -1.0 * v_{h_{5}h_{6}}^{h_{4}h_{5}}t2_{p_{0}p_{1}}^{h_{6}h_{7}}\n + 0.5 * v_{h_{6}h_{5}}^{h_{4}h_{5}}t2_{p_{0}p_{1}}^{h_{6}h_{7}}\n + 0.5 * v_{h_{5}h_{6}}^{h_{4}h_{5}}t2_{p_{1}p_{0}}^{h_{6}h_{7}}\n + -0.25 * v_{h_{6}h_{5}}^{h_{4}h_{5}}t2_{p_{1}p_{0}}^{h_{6}h_{7}}\n + 0.5 * v_{h_{6}h_{7}}^{h_{4}h_{5}}t2_{p_{0}p_{1}}^{h_{6}h_{7}}\n + -0.25 * v_{h_{7}h_{6}}^{h_{4}h_{5}}t2_{p_{0}p_{1}}^{h_{6}h_{7}}\n + -0.25 * v_{h_{6}h_{7}}^{h_{4}h_{5}}t2_{p_{1}p_{0}}^{h_{6}h_{7}}\n + 0.5 * v_{h_{7}h_{6}}^{h_{4}h_{5}}t2_{p_{1}p_{0}}^{h_{6}h_{7}}\n + -0.25 * v_{h_{4}h_{7}}^{h_{4}h_{5}}t2_{p_{0}p_{1}}^{h_{6}h_{7}}\n + 0.5 * v_{h_{7}h_{4}}^{h_{4}h_{5}}t2_{p_{0}p_{1}}^{h_{6}h_{7}}\n + 0.5 * v_{h_{4}h_{7}}^{h_{4}h_{5}}t2_{p_{1}p_{0}}^{h_{6}h_{7}}\n + -1.0 * v_{h_{7}h_{4}}^{h_{4}h_{5}}t2_{p_{1}p_{0}}^{h_{6}h_{7}}\n + 0.5 * v_{h_{4}h_{6}}^{h_{4}h_{5}}t2_{p_{0}p_{1}}^{h_{6}h_{7}}\n + -1.0 * v_{h_{6}h_{4}}^{h_{4}h_{5}}t2_{p_{0}p_{1}}^{h_{6}h_{7}}\n + -0.25 * v_{h_{4}h_{6}}^{h_{4}h_{5}}t2_{p_{1}p_{0}}^{h_{6}h_{7}}\n + 0.5 * v_{h_{6}h_{4}}^{h_{4}h_{5}}t2_{p_{1}p_{0}}^{h_{6}h_{7}}\n + -1.0 * v_{h_{5}h_{7}}^{h_{4}h_{5}}t2_{p_{0}p_{1}}^{h_{6}h_{7}}\n + 0.5 * v_{h_{7}h_{5}}^{h_{4}h_{5}}t2_{p_{0}p_{1}}^{h_{6}h_{7}}\n + 0.5 * v_{h_{5}h_{7}}^{h_{4}h_{5}}t2_{p_{1}p_{0}}^{h_{6}h_{7}}\n + -0.25 * v_{h_{7}h_{5}}^{h_{4}h_{5}}t2_{p_{1}p_{0}}^{h_{6}h_{7}}\n + 0.5 * v_{h_{4}h_{7}}^{h_{4}h_{5}}t2_{p_{0}p_{1}}^{h_{6}h_{7}}\n + -1.0 * v_{h_{7}h_{4}}^{h_{4}h_{5}}t2_{p_{0}p_{1}}^{h_{6}h_{7}}\n + -0.25 * v_{h_{4}h_{7}}^{h_{4}h_{5}}t2_{p_{1}p_{0}}^{h_{6}h_{7}}\n + 0.5 * v_{h_{7}h_{4}}^{h_{4}h_{5}}t2_{p_{1}p_{0}}^{h_{6}h_{7}}\n + -1.0 * v_{h_{4}h_{5}}^{h_{4}h_{5}}t2_{p_{0}p_{1}}^{h_{6}h_{7}}\n + 2.0 * v_{h_{5}h_{4}}^{h_{4}h_{5}}t2_{p_{0}p_{1}}^{h_{6}h_{7}}\n + 0.5 * v_{h_{4}h_{5}}^{h_{4}h_{5}}t2_{p_{1}p_{0}}^{h_{6}h_{7}}\n + -1.0 * v_{h_{5}h_{4}}^{h_{4}h_{5}}t2_{p_{1}p_{0}}^{h_{6}h_{7}}\n + 0.5 * v_{h_{5}h_{6}}^{h_{4}h_{5}}t2_{p_{0}p_{1}}^{h_{6}h_{7}}\n + -0.25 * v_{h_{6}h_{5}}^{h_{4}h_{5}}t2_{p_{0}p_{1}}^{h_{6}h_{7}}\n + -1.0 * v_{h_{5}h_{6}}^{h_{4}h_{5}}t2_{p_{1}p_{0}}^{h_{6}h_{7}}\n + 0.5 * v_{h_{6}h_{5}}^{h_{4}h_{5}}t2_{p_{1}p_{0}}^{h_{6}h_{7}}\n + -0.25 * v_{h_{4}h_{6}}^{h_{4}h_{5}}t2_{p_{0}p_{1}}^{h_{6}h_{7}}\n + 0.5 * v_{h_{6}h_{4}}^{h_{4}h_{5}}t2_{p_{0}p_{1}}^{h_{6}h_{7}}\n + 0.5 * v_{h_{4}h_{6}}^{h_{4}h_{5}}t2_{p_{1}p_{0}}^{h_{6}h_{7}}\n + -1.0 * v_{h_{6}h_{4}}^{h_{4}h_{5}}t2_{p_{1}p_{0}}^{h_{6}h_{7}}\n + 0.5 * v_{h_{4}h_{5}}^{h_{4}h_{5}}t2_{p_{0}p_{1}}^{h_{6}h_{7}}\n + -1.0 * v_{h_{5}h_{4}}^{h_{4}h_{5}}t2_{p_{0}p_{1}}^{h_{6}h_{7}}\n + -1.0 * v_{h_{4}h_{5}}^{h_{4}h_{5}}t2_{p_{1}p_{0}}^{h_{6}h_{7}}\n + 2.0 * v_{h_{5}h_{4}}^{h_{4}h_{5}}t2_{p_{1}p_{0}}^{h_{6}h_{7}}\n + 1.0 * t2_{p_{0}p_{1}}^{h_{2}h_{3}}v_{h_{6}h_{7}}^{h_{6}h_{7}}\n + -2.0 * t2_{p_{0}p_{1}}^{h_{2}h_{3}}v_{h_{7}h_{6}}^{h_{6}h_{7}}\n + -0.5 * t2_{p_{1}p_{0}}^{h_{2}h_{3}}v_{h_{6}h_{7}}^{h_{6}h_{7}}\n + 1.0 * t2_{p_{1}p_{0}}^{h_{2}h_{3}}v_{h_{7}h_{6}}^{h_{6}h_{7}}\n + -0.5 * t2_{p_{0}p_{1}}^{h_{2}h_{3}}v_{h_{6}h_{7}}^{h_{6}h_{7}}\n + 1.0 * t2_{p_{0}p_{1}}^{h_{2}h_{3}}v_{h_{7}h_{6}}^{h_{6}h_{7}}\n + 1.0 * t2_{p_{1}p_{0}}^{h_{2}h_{3}}v_{h_{6}h_{7}}^{h_{6}h_{7}}\n + -2.0 * t2_{p_{1}p_{0}}^{h_{2}h_{3}}v_{h_{7}h_{6}}^{h_{6}h_{7}}\n + -0.5 * v_{h_{5}p_{0}}^{p_{3}h_{3}}t2_{p_{1}p_{3}}^{h_{4}h_{5}}\n + 0.25 * v_{h_{5}p_{0}}^{p_{3}h_{3}}t2_{p_{3}p_{1}}^{h_{4}h_{5}}\n + 0.25 * v_{h_{5}p_{1}}^{p_{3}h_{3}}t2_{p_{0}p_{3}}^{h_{4}h_{5}}\n + -0.5 * v_{h_{5}p_{1}}^{p_{3}h_{3}}t2_{p_{3}p_{0}}^{h_{4}h_{5}}\n + 0.25 * v_{h_{4}p_{0}}^{p_{3}h_{3}}t2_{p_{1}p_{3}}^{h_{4}h_{5}}\n + -0.5 * v_{h_{4}p_{0}}^{p_{3}h_{3}}t2_{p_{3}p_{1}}^{h_{4}h_{5}}\n + -0.5 * v_{h_{4}p_{1}}^{p_{3}h_{3}}t2_{p_{0}p_{3}}^{h_{4}h_{5}}\n + 0.25 * v_{h_{4}p_{1}}^{p_{3}h_{3}}t2_{p_{3}p_{0}}^{h_{4}h_{5}}\n + 0.25 * v_{h_{5}p_{0}}^{p_{3}h_{3}}t2_{p_{1}p_{3}}^{h_{4}h_{5}}\n + -0.5 * v_{h_{5}p_{0}}^{p_{3}h_{3}}t2_{p_{3}p_{1}}^{h_{4}h_{5}}\n + -0.5 * v_{h_{5}p_{1}}^{p_{3}h_{3}}t2_{p_{0}p_{3}}^{h_{4}h_{5}}\n + 0.25 * v_{h_{5}p_{1}}^{p_{3}h_{3}}t2_{p_{3}p_{0}}^{h_{4}h_{5}}\n + -0.5 * v_{h_{3}p_{0}}^{p_{3}h_{3}}t2_{p_{1}p_{3}}^{h_{4}h_{5}}\n + 1.0 * v_{h_{3}p_{0}}^{p_{3}h_{3}}t2_{p_{3}p_{1}}^{h_{4}h_{5}}\n + 1.0 * v_{h_{3}p_{1}}^{p_{3}h_{3}}t2_{p_{0}p_{3}}^{h_{4}h_{5}}\n + -0.5 * v_{h_{3}p_{1}}^{p_{3}h_{3}}t2_{p_{3}p_{0}}^{h_{4}h_{5}}\n + -0.5 * v_{h_{4}p_{0}}^{p_{3}h_{3}}t2_{p_{1}p_{3}}^{h_{4}h_{5}}\n + 0.25 * v_{h_{4}p_{0}}^{p_{3}h_{3}}t2_{p_{3}p_{1}}^{h_{4}h_{5}}\n + 0.25 * v_{h_{4}p_{1}}^{p_{3}h_{3}}t2_{p_{0}p_{3}}^{h_{4}h_{5}}\n + -0.5 * v_{h_{4}p_{1}}^{p_{3}h_{3}}t2_{p_{3}p_{0}}^{h_{4}h_{5}}\n + 1.0 * v_{h_{3}p_{0}}^{p_{3}h_{3}}t2_{p_{1}p_{3}}^{h_{4}h_{5}}\n + -0.5 * v_{h_{3}p_{0}}^{p_{3}h_{3}}t2_{p_{3}p_{1}}^{h_{4}h_{5}}\n + -0.5 * v_{h_{3}p_{1}}^{p_{3}h_{3}}t2_{p_{0}p_{3}}^{h_{4}h_{5}}\n + 1.0 * v_{h_{3}p_{1}}^{p_{3}h_{3}}t2_{p_{3}p_{0}}^{h_{4}h_{5}}\n + 2.0 * v_{p_{0}p_{1}}^{h_{2}h_{3}}\n + -1.0 * v_{p_{1}p_{0}}^{h_{2}h_{3}}\n + -1.0 * v_{p_{0}p_{1}}^{h_{2}h_{3}}\n + 2.0 * v_{p_{1}p_{0}}^{h_{2}h_{3}}\n + 0.25 * v_{h_{6}h_{7}}^{p_{2}p_{3}}t2_{p_{0}p_{1}}^{h_{4}h_{5}}t2_{p_{2}p_{3}}^{h_{6}h_{7}}\n + -0.125 * v_{h_{6}h_{7}}^{p_{2}p_{3}}t2_{p_{0}p_{1}}^{h_{4}h_{5}}t2_{p_{3}p_{2}}^{h_{6}h_{7}}\n + -0.125 * v_{h_{7}h_{6}}^{p_{2}p_{3}}t2_{p_{0}p_{1}}^{h_{4}h_{5}}t2_{p_{2}p_{3}}^{h_{6}h_{7}}\n + 0.25 * v_{h_{7}h_{6}}^{p_{2}p_{3}}t2_{p_{0}p_{1}}^{h_{4}h_{5}}t2_{p_{3}p_{2}}^{h_{6}h_{7}}\n + -0.125 * v_{h_{6}h_{7}}^{p_{2}p_{3}}t2_{p_{0}p_{2}}^{h_{4}h_{5}}t2_{p_{1}p_{3}}^{h_{6}h_{7}}\n + 0.0625 * v_{h_{6}h_{7}}^{p_{2}p_{3}}t2_{p_{0}p_{3}}^{h_{4}h_{5}}t2_{p_{1}p_{2}}^{h_{6}h_{7}}\n + 0.0625 * v_{h_{7}h_{6}}^{p_{2}p_{3}}t2_{p_{0}p_{2}}^{h_{4}h_{5}}t2_{p_{1}p_{3}}^{h_{6}h_{7}}\n + -0.125 * v_{h_{7}h_{6}}^{p_{2}p_{3}}t2_{p_{0}p_{3}}^{h_{4}h_{5}}t2_{p_{1}p_{2}}^{h_{6}h_{7}}\n + 0.0625 * v_{h_{6}h_{7}}^{p_{2}p_{3}}t2_{p_{0}p_{2}}^{h_{4}h_{5}}t2_{p_{3}p_{1}}^{h_{6}h_{7}}\n + -0.125 * v_{h_{6}h_{7}}^{p_{2}p_{3}}t2_{p_{0}p_{3}}^{h_{4}h_{5}}t2_{p_{2}p_{1}}^{h_{6}h_{7}}\n + -0.125 * v_{h_{7}h_{6}}^{p_{2}p_{3}}t2_{p_{0}p_{2}}^{h_{4}h_{5}}t2_{p_{3}p_{1}}^{h_{6}h_{7}}\n + 0.0625 * v_{h_{7}h_{6}}^{p_{2}p_{3}}t2_{p_{0}p_{3}}^{h_{4}h_{5}}t2_{p_{2}p_{1}}^{h_{6}h_{7}}\n + -0.125 * v_{h_{6}h_{7}}^{p_{2}p_{3}}t2_{p_{1}p_{0}}^{h_{4}h_{5}}t2_{p_{2}p_{3}}^{h_{6}h_{7}}\n + 0.0625 * v_{h_{6}h_{7}}^{p_{2}p_{3}}t2_{p_{1}p_{0}}^{h_{4}h_{5}}t2_{p_{3}p_{2}}^{h_{6}h_{7}}\n + 0.0625 * v_{h_{7}h_{6}}^{p_{2}p_{3}}t2_{p_{1}p_{0}}^{h_{4}h_{5}}t2_{p_{2}p_{3}}^{h_{6}h_{7}}\n + -0.125 * v_{h_{7}h_{6}}^{p_{2}p_{3}}t2_{p_{1}p_{0}}^{h_{4}h_{5}}t2_{p_{3}p_{2}}^{h_{6}h_{7}}\n + 0.0625 * v_{h_{6}h_{7}}^{p_{2}p_{3}}t2_{p_{2}p_{0}}^{h_{4}h_{5}}t2_{p_{1}p_{3}}^{h_{6}h_{7}}\n + -0.03125 * v_{h_{6}h_{7}}^{p_{2}p_{3}}t2_{p_{3}p_{0}}^{h_{4}h_{5}}t2_{p_{1}p_{2}}^{h_{6}h_{7}}\n + -0.03125 * v_{h_{7}h_{6}}^{p_{2}p_{3}}t2_{p_{2}p_{0}}^{h_{4}h_{5}}t2_{p_{1}p_{3}}^{h_{6}h_{7}}\n + 0.0625 * v_{h_{7}h_{6}}^{p_{2}p_{3}}t2_{p_{3}p_{0}}^{h_{4}h_{5}}t2_{p_{1}p_{2}}^{h_{6}h_{7}}\n + -0.03125 * v_{h_{6}h_{7}}^{p_{2}p_{3}}t2_{p_{2}p_{0}}^{h_{4}h_{5}}t2_{p_{3}p_{1}}^{h_{6}h_{7}}\n + 0.0625 * v_{h_{6}h_{7}}^{p_{2}p_{3}}t2_{p_{3}p_{0}}^{h_{4}h_{5}}t2_{p_{2}p_{1}}^{h_{6}h_{7}}\n + 0.0625 * v_{h_{7}h_{6}}^{p_{2}p_{3}}t2_{p_{2}p_{0}}^{h_{4}h_{5}}t2_{p_{3}p_{1}}^{h_{6}h_{7}}\n + -0.03125 * v_{h_{7}h_{6}}^{p_{2}p_{3}}t2_{p_{3}p_{0}}^{h_{4}h_{5}}t2_{p_{2}p_{1}}^{h_{6}h_{7}}\n + 0.0625 * v_{h_{6}h_{7}}^{p_{2}p_{3}}t2_{p_{1}p_{2}}^{h_{4}h_{5}}t2_{p_{0}p_{3}}^{h_{6}h_{7}}\n + -0.03125 * v_{h_{6}h_{7}}^{p_{2}p_{3}}t2_{p_{1}p_{3}}^{h_{4}h_{5}}t2_{p_{0}p_{2}}^{h_{6}h_{7}}\n + -0.03125 * v_{h_{7}h_{6}}^{p_{2}p_{3}}t2_{p_{1}p_{2}}^{h_{4}h_{5}}t2_{p_{0}p_{3}}^{h_{6}h_{7}}\n + 0.0625 * v_{h_{7}h_{6}}^{p_{2}p_{3}}t2_{p_{1}p_{3}}^{h_{4}h_{5}}t2_{p_{0}p_{2}}^{h_{6}h_{7}}\n + -0.125 * v_{h_{6}h_{7}}^{p_{2}p_{3}}t2_{p_{2}p_{1}}^{h_{4}h_{5}}t2_{p_{0}p_{3}}^{h_{6}h_{7}}\n + 0.0625 * v_{h_{6}h_{7}}^{p_{2}p_{3}}t2_{p_{3}p_{1}}^{h_{4}h_{5}}t2_{p_{0}p_{2}}^{h_{6}h_{7}}\n + 0.0625 * v_{h_{7}h_{6}}^{p_{2}p_{3}}t2_{p_{2}p_{1}}^{h_{4}h_{5}}t2_{p_{0}p_{3}}^{h_{6}h_{7}}\n + -0.125 * v_{h_{7}h_{6}}^{p_{2}p_{3}}t2_{p_{3}p_{1}}^{h_{4}h_{5}}t2_{p_{0}p_{2}}^{h_{6}h_{7}}\n + 0.0625 * v_{h_{6}h_{7}}^{p_{2}p_{3}}t2_{p_{2}p_{3}}^{h_{4}h_{5}}t2_{p_{0}p_{1}}^{h_{6}h_{7}}\n + -0.03125 * v_{h_{6}h_{7}}^{p_{2}p_{3}}t2_{p_{3}p_{2}}^{h_{4}h_{5}}t2_{p_{0}p_{1}}^{h_{6}h_{7}}\n + -0.03125 * v_{h_{7}h_{6}}^{p_{2}p_{3}}t2_{p_{2}p_{3}}^{h_{4}h_{5}}t2_{p_{0}p_{1}}^{h_{6}h_{7}}\n + 0.0625 * v_{h_{7}h_{6}}^{p_{2}p_{3}}t2_{p_{3}p_{2}}^{h_{4}h_{5}}t2_{p_{0}p_{1}}^{h_{6}h_{7}}\n + -0.03125 * v_{h_{6}h_{7}}^{p_{2}p_{3}}t2_{p_{1}p_{2}}^{h_{4}h_{5}}t2_{p_{3}p_{0}}^{h_{6}h_{7}}\n + 0.0625 * v_{h_{6}h_{7}}^{p_{2}p_{3}}t2_{p_{1}p_{3}}^{h_{4}h_{5}}t2_{p_{2}p_{0}}^{h_{6}h_{7}}\n + 0.0625 * v_{h_{7}h_{6}}^{p_{2}p_{3}}t2_{p_{1}p_{2}}^{h_{4}h_{5}}t2_{p_{3}p_{0}}^{h_{6}h_{7}}\n + -0.03125 * v_{h_{7}h_{6}}^{p_{2}p_{3}}t2_{p_{1}p_{3}}^{h_{4}h_{5}}t2_{p_{2}p_{0}}^{h_{6}h_{7}}\n + 0.0625 * v_{h_{6}h_{7}}^{p_{2}p_{3}}t2_{p_{2}p_{1}}^{h_{4}h_{5}}t2_{p_{3}p_{0}}^{h_{6}h_{7}}\n + -0.125 * v_{h_{6}h_{7}}^{p_{2}p_{3}}t2_{p_{3}p_{1}}^{h_{4}h_{5}}t2_{p_{2}p_{0}}^{h_{6}h_{7}}\n + -0.125 * v_{h_{7}h_{6}}^{p_{2}p_{3}}t2_{p_{2}p_{1}}^{h_{4}h_{5}}t2_{p_{3}p_{0}}^{h_{6}h_{7}}\n + 0.0625 * v_{h_{7}h_{6}}^{p_{2}p_{3}}t2_{p_{3}p_{1}}^{h_{4}h_{5}}t2_{p_{2}p_{0}}^{h_{6}h_{7}}\n + -0.03125 * v_{h_{6}h_{7}}^{p_{2}p_{3}}t2_{p_{2}p_{3}}^{h_{4}h_{5}}t2_{p_{1}p_{0}}^{h_{6}h_{7}}\n + 0.0625 * v_{h_{6}h_{7}}^{p_{2}p_{3}}t2_{p_{3}p_{2}}^{h_{4}h_{5}}t2_{p_{1}p_{0}}^{h_{6}h_{7}}\n + 0.0625 * v_{h_{7}h_{6}}^{p_{2}p_{3}}t2_{p_{2}p_{3}}^{h_{4}h_{5}}t2_{p_{1}p_{0}}^{h_{6}h_{7}}\n + -0.03125 * v_{h_{7}h_{6}}^{p_{2}p_{3}}t2_{p_{3}p_{2}}^{h_{4}h_{5}}t2_{p_{1}p_{0}}^{h_{6}h_{7}}\n + -0.125 * v_{h_{5}h_{7}}^{p_{2}p_{3}}t2_{p_{0}p_{1}}^{h_{4}h_{5}}t2_{p_{2}p_{3}}^{h_{6}h_{7}}\n + 0.0625 * v_{h_{5}h_{7}}^{p_{2}p_{3}}t2_{p_{0}p_{1}}^{h_{4}h_{5}}t2_{p_{3}p_{2}}^{h_{6}h_{7}}\n + 0.0625 * v_{h_{7}h_{5}}^{p_{2}p_{3}}t2_{p_{0}p_{1}}^{h_{4}h_{5}}t2_{p_{2}p_{3}}^{h_{6}h_{7}}\n + -0.125 * v_{h_{7}h_{5}}^{p_{2}p_{3}}t2_{p_{0}p_{1}}^{h_{4}h_{5}}t2_{p_{3}p_{2}}^{h_{6}h_{7}}\n + 0.0625 * v_{h_{5}h_{7}}^{p_{2}p_{3}}t2_{p_{0}p_{2}}^{h_{4}h_{5}}t2_{p_{1}p_{3}}^{h_{6}h_{7}}\n + -0.03125 * v_{h_{5}h_{7}}^{p_{2}p_{3}}t2_{p_{0}p_{3}}^{h_{4}h_{5}}t2_{p_{1}p_{2}}^{h_{6}h_{7}}\n + -0.03125 * v_{h_{7}h_{5}}^{p_{2}p_{3}}t2_{p_{0}p_{2}}^{h_{4}h_{5}}t2_{p_{1}p_{3}}^{h_{6}h_{7}}\n + 0.0625 * v_{h_{7}h_{5}}^{p_{2}p_{3}}t2_{p_{0}p_{3}}^{h_{4}h_{5}}t2_{p_{1}p_{2}}^{h_{6}h_{7}}\n + -0.03125 * v_{h_{5}h_{7}}^{p_{2}p_{3}}t2_{p_{0}p_{2}}^{h_{4}h_{5}}t2_{p_{3}p_{1}}^{h_{6}h_{7}}\n + 0.0625 * v_{h_{5}h_{7}}^{p_{2}p_{3}}t2_{p_{0}p_{3}}^{h_{4}h_{5}}t2_{p_{2}p_{1}}^{h_{6}h_{7}}\n + 0.0625 * v_{h_{7}h_{5}}^{p_{2}p_{3}}t2_{p_{0}p_{2}}^{h_{4}h_{5}}t2_{p_{3}p_{1}}^{h_{6}h_{7}}\n + -0.03125 * v_{h_{7}h_{5}}^{p_{2}p_{3}}t2_{p_{0}p_{3}}^{h_{4}h_{5}}t2_{p_{2}p_{1}}^{h_{6}h_{7}}\n + 0.0625 * v_{h_{5}h_{7}}^{p_{2}p_{3}}t2_{p_{1}p_{0}}^{h_{4}h_{5}}t2_{p_{2}p_{3}}^{h_{6}h_{7}}\n + -0.03125 * v_{h_{5}h_{7}}^{p_{2}p_{3}}t2_{p_{1}p_{0}}^{h_{4}h_{5}}t2_{p_{3}p_{2}}^{h_{6}h_{7}}\n + -0.03125 * v_{h_{7}h_{5}}^{p_{2}p_{3}}t2_{p_{1}p_{0}}^{h_{4}h_{5}}t2_{p_{2}p_{3}}^{h_{6}h_{7}}\n + 0.0625 * v_{h_{7}h_{5}}^{p_{2}p_{3}}t2_{p_{1}p_{0}}^{h_{4}h_{5}}t2_{p_{3}p_{2}}^{h_{6}h_{7}}\n + -0.03125 * v_{h_{5}h_{7}}^{p_{2}p_{3}}t2_{p_{2}p_{0}}^{h_{4}h_{5}}t2_{p_{1}p_{3}}^{h_{6}h_{7}}\n + 0.0625 * v_{h_{5}h_{7}}^{p_{2}p_{3}}t2_{p_{3}p_{0}}^{h_{4}h_{5}}t2_{p_{1}p_{2}}^{h_{6}h_{7}}\n + 0.0625 * v_{h_{7}h_{5}}^{p_{2}p_{3}}t2_{p_{2}p_{0}}^{h_{4}h_{5}}t2_{p_{1}p_{3}}^{h_{6}h_{7}}\n + -0.03125 * v_{h_{7}h_{5}}^{p_{2}p_{3}}t2_{p_{3}p_{0}}^{h_{4}h_{5}}t2_{p_{1}p_{2}}^{h_{6}h_{7}}\n + 0.0625 * v_{h_{5}h_{7}}^{p_{2}p_{3}}t2_{p_{2}p_{0}}^{h_{4}h_{5}}t2_{p_{3}p_{1}}^{h_{6}h_{7}}\n + -0.125 * v_{h_{5}h_{7}}^{p_{2}p_{3}}t2_{p_{3}p_{0}}^{h_{4}h_{5}}t2_{p_{2}p_{1}}^{h_{6}h_{7}}\n + -0.125 * v_{h_{7}h_{5}}^{p_{2}p_{3}}t2_{p_{2}p_{0}}^{h_{4}h_{5}}t2_{p_{3}p_{1}}^{h_{6}h_{7}}\n + 0.0625 * v_{h_{7}h_{5}}^{p_{2}p_{3}}t2_{p_{3}p_{0}}^{h_{4}h_{5}}t2_{p_{2}p_{1}}^{h_{6}h_{7}}\n + -0.03125 * v_{h_{5}h_{7}}^{p_{2}p_{3}}t2_{p_{1}p_{2}}^{h_{4}h_{5}}t2_{p_{0}p_{3}}^{h_{6}h_{7}}\n + 0.0625 * v_{h_{5}h_{7}}^{p_{2}p_{3}}t2_{p_{1}p_{3}}^{h_{4}h_{5}}t2_{p_{0}p_{2}}^{h_{6}h_{7}}\n + 0.0625 * v_{h_{7}h_{5}}^{p_{2}p_{3}}t2_{p_{1}p_{2}}^{h_{4}h_{5}}t2_{p_{0}p_{3}}^{h_{6}h_{7}}\n + -0.03125 * v_{h_{7}h_{5}}^{p_{2}p_{3}}t2_{p_{1}p_{3}}^{h_{4}h_{5}}t2_{p_{0}p_{2}}^{h_{6}h_{7}}\n + 0.0625 * v_{h_{5}h_{7}}^{p_{2}p_{3}}t2_{p_{2}p_{1}}^{h_{4}h_{5}}t2_{p_{0}p_{3}}^{h_{6}h_{7}}\n + -0.125 * v_{h_{5}h_{7}}^{p_{2}p_{3}}t2_{p_{3}p_{1}}^{h_{4}h_{5}}t2_{p_{0}p_{2}}^{h_{6}h_{7}}\n + -0.125 * v_{h_{7}h_{5}}^{p_{2}p_{3}}t2_{p_{2}p_{1}}^{h_{4}h_{5}}t2_{p_{0}p_{3}}^{h_{6}h_{7}}\n + 0.0625 * v_{h_{7}h_{5}}^{p_{2}p_{3}}t2_{p_{3}p_{1}}^{h_{4}h_{5}}t2_{p_{0}p_{2}}^{h_{6}h_{7}}\n + -0.03125 * v_{h_{5}h_{7}}^{p_{2}p_{3}}t2_{p_{2}p_{3}}^{h_{4}h_{5}}t2_{p_{0}p_{1}}^{h_{6}h_{7}}\n + 0.0625 * v_{h_{5}h_{7}}^{p_{2}p_{3}}t2_{p_{3}p_{2}}^{h_{4}h_{5}}t2_{p_{0}p_{1}}^{h_{6}h_{7}}\n + 0.0625 * v_{h_{7}h_{5}}^{p_{2}p_{3}}t2_{p_{2}p_{3}}^{h_{4}h_{5}}t2_{p_{0}p_{1}}^{h_{6}h_{7}}\n + -0.03125 * v_{h_{7}h_{5}}^{p_{2}p_{3}}t2_{p_{3}p_{2}}^{h_{4}h_{5}}t2_{p_{0}p_{1}}^{h_{6}h_{7}}\n + 0.0625 * v_{h_{5}h_{7}}^{p_{2}p_{3}}t2_{p_{1}p_{2}}^{h_{4}h_{5}}t2_{p_{3}p_{0}}^{h_{6}h_{7}}\n + -0.125 * v_{h_{5}h_{7}}^{p_{2}p_{3}}t2_{p_{1}p_{3}}^{h_{4}h_{5}}t2_{p_{2}p_{0}}^{h_{6}h_{7}}\n + -0.125 * v_{h_{7}h_{5}}^{p_{2}p_{3}}t2_{p_{1}p_{2}}^{h_{4}h_{5}}t2_{p_{3}p_{0}}^{h_{6}h_{7}}\n + 0.0625 * v_{h_{7}h_{5}}^{p_{2}p_{3}}t2_{p_{1}p_{3}}^{h_{4}h_{5}}t2_{p_{2}p_{0}}^{h_{6}h_{7}}\n + -0.125 * v_{h_{5}h_{7}}^{p_{2}p_{3}}t2_{p_{2}p_{1}}^{h_{4}h_{5}}t2_{p_{3}p_{0}}^{h_{6}h_{7}}\n + 0.25 * v_{h_{5}h_{7}}^{p_{2}p_{3}}t2_{p_{3}p_{1}}^{h_{4}h_{5}}t2_{p_{2}p_{0}}^{h_{6}h_{7}}\n + 0.25 * v_{h_{7}h_{5}}^{p_{2}p_{3}}t2_{p_{2}p_{1}}^{h_{4}h_{5}}t2_{p_{3}p_{0}}^{h_{6}h_{7}}\n + -0.125 * v_{h_{7}h_{5}}^{p_{2}p_{3}}t2_{p_{3}p_{1}}^{h_{4}h_{5}}t2_{p_{2}p_{0}}^{h_{6}h_{7}}\n + 0.0625 * v_{h_{5}h_{7}}^{p_{2}p_{3}}t2_{p_{2}p_{3}}^{h_{4}h_{5}}t2_{p_{1}p_{0}}^{h_{6}h_{7}}\n + -0.125 * v_{h_{5}h_{7}}^{p_{2}p_{3}}t2_{p_{3}p_{2}}^{h_{4}h_{5}}t2_{p_{1}p_{0}}^{h_{6}h_{7}}\n + -0.125 * v_{h_{7}h_{5}}^{p_{2}p_{3}}t2_{p_{2}p_{3}}^{h_{4}h_{5}}t2_{p_{1}p_{0}}^{h_{6}h_{7}}\n + 0.0625 * v_{h_{7}h_{5}}^{p_{2}p_{3}}t2_{p_{3}p_{2}}^{h_{4}h_{5}}t2_{p_{1}p_{0}}^{h_{6}h_{7}}\n + 0.0625 * v_{h_{5}h_{6}}^{p_{2}p_{3}}t2_{p_{0}p_{1}}^{h_{4}h_{5}}t2_{p_{2}p_{3}}^{h_{6}h_{7}}\n + -0.125 * v_{h_{5}h_{6}}^{p_{2}p_{3}}t2_{p_{0}p_{1}}^{h_{4}h_{5}}t2_{p_{3}p_{2}}^{h_{6}h_{7}}\n + -0.125 * v_{h_{6}h_{5}}^{p_{2}p_{3}}t2_{p_{0}p_{1}}^{h_{4}h_{5}}t2_{p_{2}p_{3}}^{h_{6}h_{7}}\n + 0.0625 * v_{h_{6}h_{5}}^{p_{2}p_{3}}t2_{p_{0}p_{1}}^{h_{4}h_{5}}t2_{p_{3}p_{2}}^{h_{6}h_{7}}\n + -0.03125 * v_{h_{5}h_{6}}^{p_{2}p_{3}}t2_{p_{0}p_{2}}^{h_{4}h_{5}}t2_{p_{1}p_{3}}^{h_{6}h_{7}}\n + 0.0625 * v_{h_{5}h_{6}}^{p_{2}p_{3}}t2_{p_{0}p_{3}}^{h_{4}h_{5}}t2_{p_{1}p_{2}}^{h_{6}h_{7}}\n + 0.0625 * v_{h_{6}h_{5}}^{p_{2}p_{3}}t2_{p_{0}p_{2}}^{h_{4}h_{5}}t2_{p_{1}p_{3}}^{h_{6}h_{7}}\n + -0.03125 * v_{h_{6}h_{5}}^{p_{2}p_{3}}t2_{p_{0}p_{3}}^{h_{4}h_{5}}t2_{p_{1}p_{2}}^{h_{6}h_{7}}\n + 0.0625 * v_{h_{5}h_{6}}^{p_{2}p_{3}}t2_{p_{0}p_{2}}^{h_{4}h_{5}}t2_{p_{3}p_{1}}^{h_{6}h_{7}}\n + -0.03125 * v_{h_{5}h_{6}}^{p_{2}p_{3}}t2_{p_{0}p_{3}}^{h_{4}h_{5}}t2_{p_{2}p_{1}}^{h_{6}h_{7}}\n + -0.03125 * v_{h_{6}h_{5}}^{p_{2}p_{3}}t2_{p_{0}p_{2}}^{h_{4}h_{5}}t2_{p_{3}p_{1}}^{h_{6}h_{7}}\n + 0.0625 * v_{h_{6}h_{5}}^{p_{2}p_{3}}t2_{p_{0}p_{3}}^{h_{4}h_{5}}t2_{p_{2}p_{1}}^{h_{6}h_{7}}\n + -0.03125 * v_{h_{5}h_{6}}^{p_{2}p_{3}}t2_{p_{1}p_{0}}^{h_{4}h_{5}}t2_{p_{2}p_{3}}^{h_{6}h_{7}}\n + 0.0625 * v_{h_{5}h_{6}}^{p_{2}p_{3}}t2_{p_{1}p_{0}}^{h_{4}h_{5}}t2_{p_{3}p_{2}}^{h_{6}h_{7}}\n + 0.0625 * v_{h_{6}h_{5}}^{p_{2}p_{3}}t2_{p_{1}p_{0}}^{h_{4}h_{5}}t2_{p_{2}p_{3}}^{h_{6}h_{7}}\n + -0.03125 * v_{h_{6}h_{5}}^{p_{2}p_{3}}t2_{p_{1}p_{0}}^{h_{4}h_{5}}t2_{p_{3}p_{2}}^{h_{6}h_{7}}\n + 0.0625 * v_{h_{5}h_{6}}^{p_{2}p_{3}}t2_{p_{2}p_{0}}^{h_{4}h_{5}}t2_{p_{1}p_{3}}^{h_{6}h_{7}}\n + -0.125 * v_{h_{5}h_{6}}^{p_{2}p_{3}}t2_{p_{3}p_{0}}^{h_{4}h_{5}}t2_{p_{1}p_{2}}^{h_{6}h_{7}}\n + -0.125 * v_{h_{6}h_{5}}^{p_{2}p_{3}}t2_{p_{2}p_{0}}^{h_{4}h_{5}}t2_{p_{1}p_{3}}^{h_{6}h_{7}}\n + 0.0625 * v_{h_{6}h_{5}}^{p_{2}p_{3}}t2_{p_{3}p_{0}}^{h_{4}h_{5}}t2_{p_{1}p_{2}}^{h_{6}h_{7}}\n + -0.03125 * v_{h_{5}h_{6}}^{p_{2}p_{3}}t2_{p_{2}p_{0}}^{h_{4}h_{5}}t2_{p_{3}p_{1}}^{h_{6}h_{7}}\n + 0.0625 * v_{h_{5}h_{6}}^{p_{2}p_{3}}t2_{p_{3}p_{0}}^{h_{4}h_{5}}t2_{p_{2}p_{1}}^{h_{6}h_{7}}\n + 0.0625 * v_{h_{6}h_{5}}^{p_{2}p_{3}}t2_{p_{2}p_{0}}^{h_{4}h_{5}}t2_{p_{3}p_{1}}^{h_{6}h_{7}}\n + -0.03125 * v_{h_{6}h_{5}}^{p_{2}p_{3}}t2_{p_{3}p_{0}}^{h_{4}h_{5}}t2_{p_{2}p_{1}}^{h_{6}h_{7}}\n + 0.0625 * v_{h_{5}h_{6}}^{p_{2}p_{3}}t2_{p_{1}p_{2}}^{h_{4}h_{5}}t2_{p_{0}p_{3}}^{h_{6}h_{7}}\n + -0.125 * v_{h_{5}h_{6}}^{p_{2}p_{3}}t2_{p_{1}p_{3}}^{h_{4}h_{5}}t2_{p_{0}p_{2}}^{h_{6}h_{7}}\n + -0.125 * v_{h_{6}h_{5}}^{p_{2}p_{3}}t2_{p_{1}p_{2}}^{h_{4}h_{5}}t2_{p_{0}p_{3}}^{h_{6}h_{7}}\n + 0.0625 * v_{h_{6}h_{5}}^{p_{2}p_{3}}t2_{p_{1}p_{3}}^{h_{4}h_{5}}t2_{p_{0}p_{2}}^{h_{6}h_{7}}\n + -0.125 * v_{h_{5}h_{6}}^{p_{2}p_{3}}t2_{p_{2}p_{1}}^{h_{4}h_{5}}t2_{p_{0}p_{3}}^{h_{6}h_{7}}\n + 0.25 * v_{h_{5}h_{6}}^{p_{2}p_{3}}t2_{p_{3}p_{1}}^{h_{4}h_{5}}t2_{p_{0}p_{2}}^{h_{6}h_{7}}\n + 0.25 * v_{h_{6}h_{5}}^{p_{2}p_{3}}t2_{p_{2}p_{1}}^{h_{4}h_{5}}t2_{p_{0}p_{3}}^{h_{6}h_{7}}\n + -0.125 * v_{h_{6}h_{5}}^{p_{2}p_{3}}t2_{p_{3}p_{1}}^{h_{4}h_{5}}t2_{p_{0}p_{2}}^{h_{6}h_{7}}\n + 0.0625 * v_{h_{5}h_{6}}^{p_{2}p_{3}}t2_{p_{2}p_{3}}^{h_{4}h_{5}}t2_{p_{0}p_{1}}^{h_{6}h_{7}}\n + -0.125 * v_{h_{5}h_{6}}^{p_{2}p_{3}}t2_{p_{3}p_{2}}^{h_{4}h_{5}}t2_{p_{0}p_{1}}^{h_{6}h_{7}}\n + -0.125 * v_{h_{6}h_{5}}^{p_{2}p_{3}}t2_{p_{2}p_{3}}^{h_{4}h_{5}}t2_{p_{0}p_{1}}^{h_{6}h_{7}}\n + 0.0625 * v_{h_{6}h_{5}}^{p_{2}p_{3}}t2_{p_{3}p_{2}}^{h_{4}h_{5}}t2_{p_{0}p_{1}}^{h_{6}h_{7}}\n + -0.03125 * v_{h_{5}h_{6}}^{p_{2}p_{3}}t2_{p_{1}p_{2}}^{h_{4}h_{5}}t2_{p_{3}p_{0}}^{h_{6}h_{7}}\n + 0.0625 * v_{h_{5}h_{6}}^{p_{2}p_{3}}t2_{p_{1}p_{3}}^{h_{4}h_{5}}t2_{p_{2}p_{0}}^{h_{6}h_{7}}\n + 0.0625 * v_{h_{6}h_{5}}^{p_{2}p_{3}}t2_{p_{1}p_{2}}^{h_{4}h_{5}}t2_{p_{3}p_{0}}^{h_{6}h_{7}}\n + -0.03125 * v_{h_{6}h_{5}}^{p_{2}p_{3}}t2_{p_{1}p_{3}}^{h_{4}h_{5}}t2_{p_{2}p_{0}}^{h_{6}h_{7}}\n + 0.0625 * v_{h_{5}h_{6}}^{p_{2}p_{3}}t2_{p_{2}p_{1}}^{h_{4}h_{5}}t2_{p_{3}p_{0}}^{h_{6}h_{7}}\n + -0.125 * v_{h_{5}h_{6}}^{p_{2}p_{3}}t2_{p_{3}p_{1}}^{h_{4}h_{5}}t2_{p_{2}p_{0}}^{h_{6}h_{7}}\n + -0.125 * v_{h_{6}h_{5}}^{p_{2}p_{3}}t2_{p_{2}p_{1}}^{h_{4}h_{5}}t2_{p_{3}p_{0}}^{h_{6}h_{7}}\n + 0.0625 * v_{h_{6}h_{5}}^{p_{2}p_{3}}t2_{p_{3}p_{1}}^{h_{4}h_{5}}t2_{p_{2}p_{0}}^{h_{6}h_{7}}\n + -0.03125 * v_{h_{5}h_{6}}^{p_{2}p_{3}}t2_{p_{2}p_{3}}^{h_{4}h_{5}}t2_{p_{1}p_{0}}^{h_{6}h_{7}}\n + 0.0625 * v_{h_{5}h_{6}}^{p_{2}p_{3}}t2_{p_{3}p_{2}}^{h_{4}h_{5}}t2_{p_{1}p_{0}}^{h_{6}h_{7}}\n + 0.0625 * v_{h_{6}h_{5}}^{p_{2}p_{3}}t2_{p_{2}p_{3}}^{h_{4}h_{5}}t2_{p_{1}p_{0}}^{h_{6}h_{7}}\n + -0.03125 * v_{h_{6}h_{5}}^{p_{2}p_{3}}t2_{p_{3}p_{2}}^{h_{4}h_{5}}t2_{p_{1}p_{0}}^{h_{6}h_{7}}\n + -0.125 * v_{h_{6}h_{7}}^{p_{2}p_{3}}t2_{p_{0}p_{1}}^{h_{4}h_{5}}t2_{p_{2}p_{3}}^{h_{6}h_{7}}\n + 0.0625 * v_{h_{6}h_{7}}^{p_{2}p_{3}}t2_{p_{0}p_{1}}^{h_{4}h_{5}}t2_{p_{3}p_{2}}^{h_{6}h_{7}}\n + 0.0625 * v_{h_{7}h_{6}}^{p_{2}p_{3}}t2_{p_{0}p_{1}}^{h_{4}h_{5}}t2_{p_{2}p_{3}}^{h_{6}h_{7}}\n + -0.125 * v_{h_{7}h_{6}}^{p_{2}p_{3}}t2_{p_{0}p_{1}}^{h_{4}h_{5}}t2_{p_{3}p_{2}}^{h_{6}h_{7}}\n + 0.0625 * v_{h_{6}h_{7}}^{p_{2}p_{3}}t2_{p_{0}p_{2}}^{h_{4}h_{5}}t2_{p_{1}p_{3}}^{h_{6}h_{7}}\n + -0.03125 * v_{h_{6}h_{7}}^{p_{2}p_{3}}t2_{p_{0}p_{3}}^{h_{4}h_{5}}t2_{p_{1}p_{2}}^{h_{6}h_{7}}\n + -0.03125 * v_{h_{7}h_{6}}^{p_{2}p_{3}}t2_{p_{0}p_{2}}^{h_{4}h_{5}}t2_{p_{1}p_{3}}^{h_{6}h_{7}}\n + 0.0625 * v_{h_{7}h_{6}}^{p_{2}p_{3}}t2_{p_{0}p_{3}}^{h_{4}h_{5}}t2_{p_{1}p_{2}}^{h_{6}h_{7}}\n + -0.03125 * v_{h_{6}h_{7}}^{p_{2}p_{3}}t2_{p_{0}p_{2}}^{h_{4}h_{5}}t2_{p_{3}p_{1}}^{h_{6}h_{7}}\n + 0.0625 * v_{h_{6}h_{7}}^{p_{2}p_{3}}t2_{p_{0}p_{3}}^{h_{4}h_{5}}t2_{p_{2}p_{1}}^{h_{6}h_{7}}\n + 0.0625 * v_{h_{7}h_{6}}^{p_{2}p_{3}}t2_{p_{0}p_{2}}^{h_{4}h_{5}}t2_{p_{3}p_{1}}^{h_{6}h_{7}}\n + -0.03125 * v_{h_{7}h_{6}}^{p_{2}p_{3}}t2_{p_{0}p_{3}}^{h_{4}h_{5}}t2_{p_{2}p_{1}}^{h_{6}h_{7}}\n + 0.25 * v_{h_{6}h_{7}}^{p_{2}p_{3}}t2_{p_{1}p_{0}}^{h_{4}h_{5}}t2_{p_{2}p_{3}}^{h_{6}h_{7}}\n + -0.125 * v_{h_{6}h_{7}}^{p_{2}p_{3}}t2_{p_{1}p_{0}}^{h_{4}h_{5}}t2_{p_{3}p_{2}}^{h_{6}h_{7}}\n + -0.125 * v_{h_{7}h_{6}}^{p_{2}p_{3}}t2_{p_{1}p_{0}}^{h_{4}h_{5}}t2_{p_{2}p_{3}}^{h_{6}h_{7}}\n + 0.25 * v_{h_{7}h_{6}}^{p_{2}p_{3}}t2_{p_{1}p_{0}}^{h_{4}h_{5}}t2_{p_{3}p_{2}}^{h_{6}h_{7}}\n + -0.125 * v_{h_{6}h_{7}}^{p_{2}p_{3}}t2_{p_{2}p_{0}}^{h_{4}h_{5}}t2_{p_{1}p_{3}}^{h_{6}h_{7}}\n + 0.0625 * v_{h_{6}h_{7}}^{p_{2}p_{3}}t2_{p_{3}p_{0}}^{h_{4}h_{5}}t2_{p_{1}p_{2}}^{h_{6}h_{7}}\n + 0.0625 * v_{h_{7}h_{6}}^{p_{2}p_{3}}t2_{p_{2}p_{0}}^{h_{4}h_{5}}t2_{p_{1}p_{3}}^{h_{6}h_{7}}\n + -0.125 * v_{h_{7}h_{6}}^{p_{2}p_{3}}t2_{p_{3}p_{0}}^{h_{4}h_{5}}t2_{p_{1}p_{2}}^{h_{6}h_{7}}\n + 0.0625 * v_{h_{6}h_{7}}^{p_{2}p_{3}}t2_{p_{2}p_{0}}^{h_{4}h_{5}}t2_{p_{3}p_{1}}^{h_{6}h_{7}}\n + -0.125 * v_{h_{6}h_{7}}^{p_{2}p_{3}}t2_{p_{3}p_{0}}^{h_{4}h_{5}}t2_{p_{2}p_{1}}^{h_{6}h_{7}}\n + -0.125 * v_{h_{7}h_{6}}^{p_{2}p_{3}}t2_{p_{2}p_{0}}^{h_{4}h_{5}}t2_{p_{3}p_{1}}^{h_{6}h_{7}}\n + 0.0625 * v_{h_{7}h_{6}}^{p_{2}p_{3}}t2_{p_{3}p_{0}}^{h_{4}h_{5}}t2_{p_{2}p_{1}}^{h_{6}h_{7}}\n + -0.125 * v_{h_{6}h_{7}}^{p_{2}p_{3}}t2_{p_{1}p_{2}}^{h_{4}h_{5}}t2_{p_{0}p_{3}}^{h_{6}h_{7}}\n + 0.0625 * v_{h_{6}h_{7}}^{p_{2}p_{3}}t2_{p_{1}p_{3}}^{h_{4}h_{5}}t2_{p_{0}p_{2}}^{h_{6}h_{7}}\n + 0.0625 * v_{h_{7}h_{6}}^{p_{2}p_{3}}t2_{p_{1}p_{2}}^{h_{4}h_{5}}t2_{p_{0}p_{3}}^{h_{6}h_{7}}\n + -0.125 * v_{h_{7}h_{6}}^{p_{2}p_{3}}t2_{p_{1}p_{3}}^{h_{4}h_{5}}t2_{p_{0}p_{2}}^{h_{6}h_{7}}\n + 0.0625 * v_{h_{6}h_{7}}^{p_{2}p_{3}}t2_{p_{2}p_{1}}^{h_{4}h_{5}}t2_{p_{0}p_{3}}^{h_{6}h_{7}}\n + -0.03125 * v_{h_{6}h_{7}}^{p_{2}p_{3}}t2_{p_{3}p_{1}}^{h_{4}h_{5}}t2_{p_{0}p_{2}}^{h_{6}h_{7}}\n + -0.03125 * v_{h_{7}h_{6}}^{p_{2}p_{3}}t2_{p_{2}p_{1}}^{h_{4}h_{5}}t2_{p_{0}p_{3}}^{h_{6}h_{7}}\n + 0.0625 * v_{h_{7}h_{6}}^{p_{2}p_{3}}t2_{p_{3}p_{1}}^{h_{4}h_{5}}t2_{p_{0}p_{2}}^{h_{6}h_{7}}\n + -0.03125 * v_{h_{6}h_{7}}^{p_{2}p_{3}}t2_{p_{2}p_{3}}^{h_{4}h_{5}}t2_{p_{0}p_{1}}^{h_{6}h_{7}}\n + 0.0625 * v_{h_{6}h_{7}}^{p_{2}p_{3}}t2_{p_{3}p_{2}}^{h_{4}h_{5}}t2_{p_{0}p_{1}}^{h_{6}h_{7}}\n + 0.0625 * v_{h_{7}h_{6}}^{p_{2}p_{3}}t2_{p_{2}p_{3}}^{h_{4}h_{5}}t2_{p_{0}p_{1}}^{h_{6}h_{7}}\n + -0.03125 * v_{h_{7}h_{6}}^{p_{2}p_{3}}t2_{p_{3}p_{2}}^{h_{4}h_{5}}t2_{p_{0}p_{1}}^{h_{6}h_{7}}\n + 0.0625 * v_{h_{6}h_{7}}^{p_{2}p_{3}}t2_{p_{1}p_{2}}^{h_{4}h_{5}}t2_{p_{3}p_{0}}^{h_{6}h_{7}}\n + -0.125 * v_{h_{6}h_{7}}^{p_{2}p_{3}}t2_{p_{1}p_{3}}^{h_{4}h_{5}}t2_{p_{2}p_{0}}^{h_{6}h_{7}}\n + -0.125 * v_{h_{7}h_{6}}^{p_{2}p_{3}}t2_{p_{1}p_{2}}^{h_{4}h_{5}}t2_{p_{3}p_{0}}^{h_{6}h_{7}}\n + 0.0625 * v_{h_{7}h_{6}}^{p_{2}p_{3}}t2_{p_{1}p_{3}}^{h_{4}h_{5}}t2_{p_{2}p_{0}}^{h_{6}h_{7}}\n + -0.03125 * v_{h_{6}h_{7}}^{p_{2}p_{3}}t2_{p_{2}p_{1}}^{h_{4}h_{5}}t2_{p_{3}p_{0}}^{h_{6}h_{7}}\n + 0.0625 * v_{h_{6}h_{7}}^{p_{2}p_{3}}t2_{p_{3}p_{1}}^{h_{4}h_{5}}t2_{p_{2}p_{0}}^{h_{6}h_{7}}\n + 0.0625 * v_{h_{7}h_{6}}^{p_{2}p_{3}}t2_{p_{2}p_{1}}^{h_{4}h_{5}}t2_{p_{3}p_{0}}^{h_{6}h_{7}}\n + -0.03125 * v_{h_{7}h_{6}}^{p_{2}p_{3}}t2_{p_{3}p_{1}}^{h_{4}h_{5}}t2_{p_{2}p_{0}}^{h_{6}h_{7}}\n + 0.0625 * v_{h_{6}h_{7}}^{p_{2}p_{3}}t2_{p_{2}p_{3}}^{h_{4}h_{5}}t2_{p_{1}p_{0}}^{h_{6}h_{7}}\n + -0.03125 * v_{h_{6}h_{7}}^{p_{2}p_{3}}t2_{p_{3}p_{2}}^{h_{4}h_{5}}t2_{p_{1}p_{0}}^{h_{6}h_{7}}\n + -0.03125 * v_{h_{7}h_{6}}^{p_{2}p_{3}}t2_{p_{2}p_{3}}^{h_{4}h_{5}}t2_{p_{1}p_{0}}^{h_{6}h_{7}}\n + 0.0625 * v_{h_{7}h_{6}}^{p_{2}p_{3}}t2_{p_{3}p_{2}}^{h_{4}h_{5}}t2_{p_{1}p_{0}}^{h_{6}h_{7}}\n + 0.0625 * v_{h_{4}h_{7}}^{p_{2}p_{3}}t2_{p_{0}p_{1}}^{h_{4}h_{5}}t2_{p_{2}p_{3}}^{h_{6}h_{7}}\n + -0.03125 * v_{h_{4}h_{7}}^{p_{2}p_{3}}t2_{p_{0}p_{1}}^{h_{4}h_{5}}t2_{p_{3}p_{2}}^{h_{6}h_{7}}\n + -0.03125 * v_{h_{7}h_{4}}^{p_{2}p_{3}}t2_{p_{0}p_{1}}^{h_{4}h_{5}}t2_{p_{2}p_{3}}^{h_{6}h_{7}}\n + 0.0625 * v_{h_{7}h_{4}}^{p_{2}p_{3}}t2_{p_{0}p_{1}}^{h_{4}h_{5}}t2_{p_{3}p_{2}}^{h_{6}h_{7}}\n + -0.03125 * v_{h_{4}h_{7}}^{p_{2}p_{3}}t2_{p_{0}p_{2}}^{h_{4}h_{5}}t2_{p_{1}p_{3}}^{h_{6}h_{7}}\n + 0.0625 * v_{h_{4}h_{7}}^{p_{2}p_{3}}t2_{p_{0}p_{3}}^{h_{4}h_{5}}t2_{p_{1}p_{2}}^{h_{6}h_{7}}\n + 0.0625 * v_{h_{7}h_{4}}^{p_{2}p_{3}}t2_{p_{0}p_{2}}^{h_{4}h_{5}}t2_{p_{1}p_{3}}^{h_{6}h_{7}}\n + -0.03125 * v_{h_{7}h_{4}}^{p_{2}p_{3}}t2_{p_{0}p_{3}}^{h_{4}h_{5}}t2_{p_{1}p_{2}}^{h_{6}h_{7}}\n + 0.0625 * v_{h_{4}h_{7}}^{p_{2}p_{3}}t2_{p_{0}p_{2}}^{h_{4}h_{5}}t2_{p_{3}p_{1}}^{h_{6}h_{7}}\n + -0.125 * v_{h_{4}h_{7}}^{p_{2}p_{3}}t2_{p_{0}p_{3}}^{h_{4}h_{5}}t2_{p_{2}p_{1}}^{h_{6}h_{7}}\n + -0.125 * v_{h_{7}h_{4}}^{p_{2}p_{3}}t2_{p_{0}p_{2}}^{h_{4}h_{5}}t2_{p_{3}p_{1}}^{h_{6}h_{7}}\n + 0.0625 * v_{h_{7}h_{4}}^{p_{2}p_{3}}t2_{p_{0}p_{3}}^{h_{4}h_{5}}t2_{p_{2}p_{1}}^{h_{6}h_{7}}\n + -0.125 * v_{h_{4}h_{7}}^{p_{2}p_{3}}t2_{p_{1}p_{0}}^{h_{4}h_{5}}t2_{p_{2}p_{3}}^{h_{6}h_{7}}\n + 0.0625 * v_{h_{4}h_{7}}^{p_{2}p_{3}}t2_{p_{1}p_{0}}^{h_{4}h_{5}}t2_{p_{3}p_{2}}^{h_{6}h_{7}}\n + 0.0625 * v_{h_{7}h_{4}}^{p_{2}p_{3}}t2_{p_{1}p_{0}}^{h_{4}h_{5}}t2_{p_{2}p_{3}}^{h_{6}h_{7}}\n + -0.125 * v_{h_{7}h_{4}}^{p_{2}p_{3}}t2_{p_{1}p_{0}}^{h_{4}h_{5}}t2_{p_{3}p_{2}}^{h_{6}h_{7}}\n + 0.0625 * v_{h_{4}h_{7}}^{p_{2}p_{3}}t2_{p_{2}p_{0}}^{h_{4}h_{5}}t2_{p_{1}p_{3}}^{h_{6}h_{7}}\n + -0.03125 * v_{h_{4}h_{7}}^{p_{2}p_{3}}t2_{p_{3}p_{0}}^{h_{4}h_{5}}t2_{p_{1}p_{2}}^{h_{6}h_{7}}\n + -0.03125 * v_{h_{7}h_{4}}^{p_{2}p_{3}}t2_{p_{2}p_{0}}^{h_{4}h_{5}}t2_{p_{1}p_{3}}^{h_{6}h_{7}}\n + 0.0625 * v_{h_{7}h_{4}}^{p_{2}p_{3}}t2_{p_{3}p_{0}}^{h_{4}h_{5}}t2_{p_{1}p_{2}}^{h_{6}h_{7}}\n + -0.03125 * v_{h_{4}h_{7}}^{p_{2}p_{3}}t2_{p_{2}p_{0}}^{h_{4}h_{5}}t2_{p_{3}p_{1}}^{h_{6}h_{7}}\n + 0.0625 * v_{h_{4}h_{7}}^{p_{2}p_{3}}t2_{p_{3}p_{0}}^{h_{4}h_{5}}t2_{p_{2}p_{1}}^{h_{6}h_{7}}\n + 0.0625 * v_{h_{7}h_{4}}^{p_{2}p_{3}}t2_{p_{2}p_{0}}^{h_{4}h_{5}}t2_{p_{3}p_{1}}^{h_{6}h_{7}}\n + -0.03125 * v_{h_{7}h_{4}}^{p_{2}p_{3}}t2_{p_{3}p_{0}}^{h_{4}h_{5}}t2_{p_{2}p_{1}}^{h_{6}h_{7}}\n + 0.0625 * v_{h_{4}h_{7}}^{p_{2}p_{3}}t2_{p_{1}p_{2}}^{h_{4}h_{5}}t2_{p_{0}p_{3}}^{h_{6}h_{7}}\n + -0.125 * v_{h_{4}h_{7}}^{p_{2}p_{3}}t2_{p_{1}p_{3}}^{h_{4}h_{5}}t2_{p_{0}p_{2}}^{h_{6}h_{7}}\n + -0.125 * v_{h_{7}h_{4}}^{p_{2}p_{3}}t2_{p_{1}p_{2}}^{h_{4}h_{5}}t2_{p_{0}p_{3}}^{h_{6}h_{7}}\n + 0.0625 * v_{h_{7}h_{4}}^{p_{2}p_{3}}t2_{p_{1}p_{3}}^{h_{4}h_{5}}t2_{p_{0}p_{2}}^{h_{6}h_{7}}\n + -0.03125 * v_{h_{4}h_{7}}^{p_{2}p_{3}}t2_{p_{2}p_{1}}^{h_{4}h_{5}}t2_{p_{0}p_{3}}^{h_{6}h_{7}}\n + 0.0625 * v_{h_{4}h_{7}}^{p_{2}p_{3}}t2_{p_{3}p_{1}}^{h_{4}h_{5}}t2_{p_{0}p_{2}}^{h_{6}h_{7}}\n + 0.0625 * v_{h_{7}h_{4}}^{p_{2}p_{3}}t2_{p_{2}p_{1}}^{h_{4}h_{5}}t2_{p_{0}p_{3}}^{h_{6}h_{7}}\n + -0.03125 * v_{h_{7}h_{4}}^{p_{2}p_{3}}t2_{p_{3}p_{1}}^{h_{4}h_{5}}t2_{p_{0}p_{2}}^{h_{6}h_{7}}\n + 0.0625 * v_{h_{4}h_{7}}^{p_{2}p_{3}}t2_{p_{2}p_{3}}^{h_{4}h_{5}}t2_{p_{0}p_{1}}^{h_{6}h_{7}}\n + -0.03125 * v_{h_{4}h_{7}}^{p_{2}p_{3}}t2_{p_{3}p_{2}}^{h_{4}h_{5}}t2_{p_{0}p_{1}}^{h_{6}h_{7}}\n + -0.03125 * v_{h_{7}h_{4}}^{p_{2}p_{3}}t2_{p_{2}p_{3}}^{h_{4}h_{5}}t2_{p_{0}p_{1}}^{h_{6}h_{7}}\n + 0.0625 * v_{h_{7}h_{4}}^{p_{2}p_{3}}t2_{p_{3}p_{2}}^{h_{4}h_{5}}t2_{p_{0}p_{1}}^{h_{6}h_{7}}\n + -0.125 * v_{h_{4}h_{7}}^{p_{2}p_{3}}t2_{p_{1}p_{2}}^{h_{4}h_{5}}t2_{p_{3}p_{0}}^{h_{6}h_{7}}\n + 0.25 * v_{h_{4}h_{7}}^{p_{2}p_{3}}t2_{p_{1}p_{3}}^{h_{4}h_{5}}t2_{p_{2}p_{0}}^{h_{6}h_{7}}\n + 0.25 * v_{h_{7}h_{4}}^{p_{2}p_{3}}t2_{p_{1}p_{2}}^{h_{4}h_{5}}t2_{p_{3}p_{0}}^{h_{6}h_{7}}\n + -0.125 * v_{h_{7}h_{4}}^{p_{2}p_{3}}t2_{p_{1}p_{3}}^{h_{4}h_{5}}t2_{p_{2}p_{0}}^{h_{6}h_{7}}\n + 0.0625 * v_{h_{4}h_{7}}^{p_{2}p_{3}}t2_{p_{2}p_{1}}^{h_{4}h_{5}}t2_{p_{3}p_{0}}^{h_{6}h_{7}}\n + -0.125 * v_{h_{4}h_{7}}^{p_{2}p_{3}}t2_{p_{3}p_{1}}^{h_{4}h_{5}}t2_{p_{2}p_{0}}^{h_{6}h_{7}}\n + -0.125 * v_{h_{7}h_{4}}^{p_{2}p_{3}}t2_{p_{2}p_{1}}^{h_{4}h_{5}}t2_{p_{3}p_{0}}^{h_{6}h_{7}}\n + 0.0625 * v_{h_{7}h_{4}}^{p_{2}p_{3}}t2_{p_{3}p_{1}}^{h_{4}h_{5}}t2_{p_{2}p_{0}}^{h_{6}h_{7}}\n + -0.125 * v_{h_{4}h_{7}}^{p_{2}p_{3}}t2_{p_{2}p_{3}}^{h_{4}h_{5}}t2_{p_{1}p_{0}}^{h_{6}h_{7}}\n + 0.0625 * v_{h_{4}h_{7}}^{p_{2}p_{3}}t2_{p_{3}p_{2}}^{h_{4}h_{5}}t2_{p_{1}p_{0}}^{h_{6}h_{7}}\n + 0.0625 * v_{h_{7}h_{4}}^{p_{2}p_{3}}t2_{p_{2}p_{3}}^{h_{4}h_{5}}t2_{p_{1}p_{0}}^{h_{6}h_{7}}\n + -0.125 * v_{h_{7}h_{4}}^{p_{2}p_{3}}t2_{p_{3}p_{2}}^{h_{4}h_{5}}t2_{p_{1}p_{0}}^{h_{6}h_{7}}\n + -0.03125 * v_{h_{4}h_{6}}^{p_{2}p_{3}}t2_{p_{0}p_{1}}^{h_{4}h_{5}}t2_{p_{2}p_{3}}^{h_{6}h_{7}}\n + 0.0625 * v_{h_{4}h_{6}}^{p_{2}p_{3}}t2_{p_{0}p_{1}}^{h_{4}h_{5}}t2_{p_{3}p_{2}}^{h_{6}h_{7}}\n + 0.0625 * v_{h_{6}h_{4}}^{p_{2}p_{3}}t2_{p_{0}p_{1}}^{h_{4}h_{5}}t2_{p_{2}p_{3}}^{h_{6}h_{7}}\n + -0.03125 * v_{h_{6}h_{4}}^{p_{2}p_{3}}t2_{p_{0}p_{1}}^{h_{4}h_{5}}t2_{p_{3}p_{2}}^{h_{6}h_{7}}\n + 0.0625 * v_{h_{4}h_{6}}^{p_{2}p_{3}}t2_{p_{0}p_{2}}^{h_{4}h_{5}}t2_{p_{1}p_{3}}^{h_{6}h_{7}}\n + -0.125 * v_{h_{4}h_{6}}^{p_{2}p_{3}}t2_{p_{0}p_{3}}^{h_{4}h_{5}}t2_{p_{1}p_{2}}^{h_{6}h_{7}}\n + -0.125 * v_{h_{6}h_{4}}^{p_{2}p_{3}}t2_{p_{0}p_{2}}^{h_{4}h_{5}}t2_{p_{1}p_{3}}^{h_{6}h_{7}}\n + 0.0625 * v_{h_{6}h_{4}}^{p_{2}p_{3}}t2_{p_{0}p_{3}}^{h_{4}h_{5}}t2_{p_{1}p_{2}}^{h_{6}h_{7}}\n + -0.03125 * v_{h_{4}h_{6}}^{p_{2}p_{3}}t2_{p_{0}p_{2}}^{h_{4}h_{5}}t2_{p_{3}p_{1}}^{h_{6}h_{7}}\n + 0.0625 * v_{h_{4}h_{6}}^{p_{2}p_{3}}t2_{p_{0}p_{3}}^{h_{4}h_{5}}t2_{p_{2}p_{1}}^{h_{6}h_{7}}\n + 0.0625 * v_{h_{6}h_{4}}^{p_{2}p_{3}}t2_{p_{0}p_{2}}^{h_{4}h_{5}}t2_{p_{3}p_{1}}^{h_{6}h_{7}}\n + -0.03125 * v_{h_{6}h_{4}}^{p_{2}p_{3}}t2_{p_{0}p_{3}}^{h_{4}h_{5}}t2_{p_{2}p_{1}}^{h_{6}h_{7}}\n + 0.0625 * v_{h_{4}h_{6}}^{p_{2}p_{3}}t2_{p_{1}p_{0}}^{h_{4}h_{5}}t2_{p_{2}p_{3}}^{h_{6}h_{7}}\n + -0.125 * v_{h_{4}h_{6}}^{p_{2}p_{3}}t2_{p_{1}p_{0}}^{h_{4}h_{5}}t2_{p_{3}p_{2}}^{h_{6}h_{7}}\n + -0.125 * v_{h_{6}h_{4}}^{p_{2}p_{3}}t2_{p_{1}p_{0}}^{h_{4}h_{5}}t2_{p_{2}p_{3}}^{h_{6}h_{7}}\n + 0.0625 * v_{h_{6}h_{4}}^{p_{2}p_{3}}t2_{p_{1}p_{0}}^{h_{4}h_{5}}t2_{p_{3}p_{2}}^{h_{6}h_{7}}\n + -0.03125 * v_{h_{4}h_{6}}^{p_{2}p_{3}}t2_{p_{2}p_{0}}^{h_{4}h_{5}}t2_{p_{1}p_{3}}^{h_{6}h_{7}}\n + 0.0625 * v_{h_{4}h_{6}}^{p_{2}p_{3}}t2_{p_{3}p_{0}}^{h_{4}h_{5}}t2_{p_{1}p_{2}}^{h_{6}h_{7}}\n + 0.0625 * v_{h_{6}h_{4}}^{p_{2}p_{3}}t2_{p_{2}p_{0}}^{h_{4}h_{5}}t2_{p_{1}p_{3}}^{h_{6}h_{7}}\n + -0.03125 * v_{h_{6}h_{4}}^{p_{2}p_{3}}t2_{p_{3}p_{0}}^{h_{4}h_{5}}t2_{p_{1}p_{2}}^{h_{6}h_{7}}\n + 0.0625 * v_{h_{4}h_{6}}^{p_{2}p_{3}}t2_{p_{2}p_{0}}^{h_{4}h_{5}}t2_{p_{3}p_{1}}^{h_{6}h_{7}}\n + -0.03125 * v_{h_{4}h_{6}}^{p_{2}p_{3}}t2_{p_{3}p_{0}}^{h_{4}h_{5}}t2_{p_{2}p_{1}}^{h_{6}h_{7}}\n + -0.03125 * v_{h_{6}h_{4}}^{p_{2}p_{3}}t2_{p_{2}p_{0}}^{h_{4}h_{5}}t2_{p_{3}p_{1}}^{h_{6}h_{7}}\n + 0.0625 * v_{h_{6}h_{4}}^{p_{2}p_{3}}t2_{p_{3}p_{0}}^{h_{4}h_{5}}t2_{p_{2}p_{1}}^{h_{6}h_{7}}\n + -0.125 * v_{h_{4}h_{6}}^{p_{2}p_{3}}t2_{p_{1}p_{2}}^{h_{4}h_{5}}t2_{p_{0}p_{3}}^{h_{6}h_{7}}\n + 0.25 * v_{h_{4}h_{6}}^{p_{2}p_{3}}t2_{p_{1}p_{3}}^{h_{4}h_{5}}t2_{p_{0}p_{2}}^{h_{6}h_{7}}\n + 0.25 * v_{h_{6}h_{4}}^{p_{2}p_{3}}t2_{p_{1}p_{2}}^{h_{4}h_{5}}t2_{p_{0}p_{3}}^{h_{6}h_{7}}\n + -0.125 * v_{h_{6}h_{4}}^{p_{2}p_{3}}t2_{p_{1}p_{3}}^{h_{4}h_{5}}t2_{p_{0}p_{2}}^{h_{6}h_{7}}\n + 0.0625 * v_{h_{4}h_{6}}^{p_{2}p_{3}}t2_{p_{2}p_{1}}^{h_{4}h_{5}}t2_{p_{0}p_{3}}^{h_{6}h_{7}}\n + -0.125 * v_{h_{4}h_{6}}^{p_{2}p_{3}}t2_{p_{3}p_{1}}^{h_{4}h_{5}}t2_{p_{0}p_{2}}^{h_{6}h_{7}}\n + -0.125 * v_{h_{6}h_{4}}^{p_{2}p_{3}}t2_{p_{2}p_{1}}^{h_{4}h_{5}}t2_{p_{0}p_{3}}^{h_{6}h_{7}}\n + 0.0625 * v_{h_{6}h_{4}}^{p_{2}p_{3}}t2_{p_{3}p_{1}}^{h_{4}h_{5}}t2_{p_{0}p_{2}}^{h_{6}h_{7}}\n + -0.125 * v_{h_{4}h_{6}}^{p_{2}p_{3}}t2_{p_{2}p_{3}}^{h_{4}h_{5}}t2_{p_{0}p_{1}}^{h_{6}h_{7}}\n + 0.0625 * v_{h_{4}h_{6}}^{p_{2}p_{3}}t2_{p_{3}p_{2}}^{h_{4}h_{5}}t2_{p_{0}p_{1}}^{h_{6}h_{7}}\n + 0.0625 * v_{h_{6}h_{4}}^{p_{2}p_{3}}t2_{p_{2}p_{3}}^{h_{4}h_{5}}t2_{p_{0}p_{1}}^{h_{6}h_{7}}\n + -0.125 * v_{h_{6}h_{4}}^{p_{2}p_{3}}t2_{p_{3}p_{2}}^{h_{4}h_{5}}t2_{p_{0}p_{1}}^{h_{6}h_{7}}\n + 0.0625 * v_{h_{4}h_{6}}^{p_{2}p_{3}}t2_{p_{1}p_{2}}^{h_{4}h_{5}}t2_{p_{3}p_{0}}^{h_{6}h_{7}}\n + -0.125 * v_{h_{4}h_{6}}^{p_{2}p_{3}}t2_{p_{1}p_{3}}^{h_{4}h_{5}}t2_{p_{2}p_{0}}^{h_{6}h_{7}}\n + -0.125 * v_{h_{6}h_{4}}^{p_{2}p_{3}}t2_{p_{1}p_{2}}^{h_{4}h_{5}}t2_{p_{3}p_{0}}^{h_{6}h_{7}}\n + 0.0625 * v_{h_{6}h_{4}}^{p_{2}p_{3}}t2_{p_{1}p_{3}}^{h_{4}h_{5}}t2_{p_{2}p_{0}}^{h_{6}h_{7}}\n + -0.03125 * v_{h_{4}h_{6}}^{p_{2}p_{3}}t2_{p_{2}p_{1}}^{h_{4}h_{5}}t2_{p_{3}p_{0}}^{h_{6}h_{7}}\n + 0.0625 * v_{h_{4}h_{6}}^{p_{2}p_{3}}t2_{p_{3}p_{1}}^{h_{4}h_{5}}t2_{p_{2}p_{0}}^{h_{6}h_{7}}\n + 0.0625 * v_{h_{6}h_{4}}^{p_{2}p_{3}}t2_{p_{2}p_{1}}^{h_{4}h_{5}}t2_{p_{3}p_{0}}^{h_{6}h_{7}}\n + -0.03125 * v_{h_{6}h_{4}}^{p_{2}p_{3}}t2_{p_{3}p_{1}}^{h_{4}h_{5}}t2_{p_{2}p_{0}}^{h_{6}h_{7}}\n + 0.0625 * v_{h_{4}h_{6}}^{p_{2}p_{3}}t2_{p_{2}p_{3}}^{h_{4}h_{5}}t2_{p_{1}p_{0}}^{h_{6}h_{7}}\n + -0.03125 * v_{h_{4}h_{6}}^{p_{2}p_{3}}t2_{p_{3}p_{2}}^{h_{4}h_{5}}t2_{p_{1}p_{0}}^{h_{6}h_{7}}\n + -0.03125 * v_{h_{6}h_{4}}^{p_{2}p_{3}}t2_{p_{2}p_{3}}^{h_{4}h_{5}}t2_{p_{1}p_{0}}^{h_{6}h_{7}}\n + 0.0625 * v_{h_{6}h_{4}}^{p_{2}p_{3}}t2_{p_{3}p_{2}}^{h_{4}h_{5}}t2_{p_{1}p_{0}}^{h_{6}h_{7}}\n + 0.0625 * v_{h_{5}h_{7}}^{p_{2}p_{3}}t2_{p_{0}p_{1}}^{h_{4}h_{5}}t2_{p_{2}p_{3}}^{h_{6}h_{7}}\n + -0.03125 * v_{h_{5}h_{7}}^{p_{2}p_{3}}t2_{p_{0}p_{1}}^{h_{4}h_{5}}t2_{p_{3}p_{2}}^{h_{6}h_{7}}\n + -0.03125 * v_{h_{7}h_{5}}^{p_{2}p_{3}}t2_{p_{0}p_{1}}^{h_{4}h_{5}}t2_{p_{2}p_{3}}^{h_{6}h_{7}}\n + 0.0625 * v_{h_{7}h_{5}}^{p_{2}p_{3}}t2_{p_{0}p_{1}}^{h_{4}h_{5}}t2_{p_{3}p_{2}}^{h_{6}h_{7}}\n + -0.03125 * v_{h_{5}h_{7}}^{p_{2}p_{3}}t2_{p_{0}p_{2}}^{h_{4}h_{5}}t2_{p_{1}p_{3}}^{h_{6}h_{7}}\n + 0.0625 * v_{h_{5}h_{7}}^{p_{2}p_{3}}t2_{p_{0}p_{3}}^{h_{4}h_{5}}t2_{p_{1}p_{2}}^{h_{6}h_{7}}\n + 0.0625 * v_{h_{7}h_{5}}^{p_{2}p_{3}}t2_{p_{0}p_{2}}^{h_{4}h_{5}}t2_{p_{1}p_{3}}^{h_{6}h_{7}}\n + -0.03125 * v_{h_{7}h_{5}}^{p_{2}p_{3}}t2_{p_{0}p_{3}}^{h_{4}h_{5}}t2_{p_{1}p_{2}}^{h_{6}h_{7}}\n + 0.0625 * v_{h_{5}h_{7}}^{p_{2}p_{3}}t2_{p_{0}p_{2}}^{h_{4}h_{5}}t2_{p_{3}p_{1}}^{h_{6}h_{7}}\n + -0.125 * v_{h_{5}h_{7}}^{p_{2}p_{3}}t2_{p_{0}p_{3}}^{h_{4}h_{5}}t2_{p_{2}p_{1}}^{h_{6}h_{7}}\n + -0.125 * v_{h_{7}h_{5}}^{p_{2}p_{3}}t2_{p_{0}p_{2}}^{h_{4}h_{5}}t2_{p_{3}p_{1}}^{h_{6}h_{7}}\n + 0.0625 * v_{h_{7}h_{5}}^{p_{2}p_{3}}t2_{p_{0}p_{3}}^{h_{4}h_{5}}t2_{p_{2}p_{1}}^{h_{6}h_{7}}\n + -0.125 * v_{h_{5}h_{7}}^{p_{2}p_{3}}t2_{p_{1}p_{0}}^{h_{4}h_{5}}t2_{p_{2}p_{3}}^{h_{6}h_{7}}\n + 0.0625 * v_{h_{5}h_{7}}^{p_{2}p_{3}}t2_{p_{1}p_{0}}^{h_{4}h_{5}}t2_{p_{3}p_{2}}^{h_{6}h_{7}}\n + 0.0625 * v_{h_{7}h_{5}}^{p_{2}p_{3}}t2_{p_{1}p_{0}}^{h_{4}h_{5}}t2_{p_{2}p_{3}}^{h_{6}h_{7}}\n + -0.125 * v_{h_{7}h_{5}}^{p_{2}p_{3}}t2_{p_{1}p_{0}}^{h_{4}h_{5}}t2_{p_{3}p_{2}}^{h_{6}h_{7}}\n + 0.0625 * v_{h_{5}h_{7}}^{p_{2}p_{3}}t2_{p_{2}p_{0}}^{h_{4}h_{5}}t2_{p_{1}p_{3}}^{h_{6}h_{7}}\n + -0.125 * v_{h_{5}h_{7}}^{p_{2}p_{3}}t2_{p_{3}p_{0}}^{h_{4}h_{5}}t2_{p_{1}p_{2}}^{h_{6}h_{7}}\n + -0.125 * v_{h_{7}h_{5}}^{p_{2}p_{3}}t2_{p_{2}p_{0}}^{h_{4}h_{5}}t2_{p_{1}p_{3}}^{h_{6}h_{7}}\n + 0.0625 * v_{h_{7}h_{5}}^{p_{2}p_{3}}t2_{p_{3}p_{0}}^{h_{4}h_{5}}t2_{p_{1}p_{2}}^{h_{6}h_{7}}\n + -0.125 * v_{h_{5}h_{7}}^{p_{2}p_{3}}t2_{p_{2}p_{0}}^{h_{4}h_{5}}t2_{p_{3}p_{1}}^{h_{6}h_{7}}\n + 0.25 * v_{h_{5}h_{7}}^{p_{2}p_{3}}t2_{p_{3}p_{0}}^{h_{4}h_{5}}t2_{p_{2}p_{1}}^{h_{6}h_{7}}\n + 0.25 * v_{h_{7}h_{5}}^{p_{2}p_{3}}t2_{p_{2}p_{0}}^{h_{4}h_{5}}t2_{p_{3}p_{1}}^{h_{6}h_{7}}\n + -0.125 * v_{h_{7}h_{5}}^{p_{2}p_{3}}t2_{p_{3}p_{0}}^{h_{4}h_{5}}t2_{p_{2}p_{1}}^{h_{6}h_{7}}\n + 0.0625 * v_{h_{5}h_{7}}^{p_{2}p_{3}}t2_{p_{1}p_{2}}^{h_{4}h_{5}}t2_{p_{0}p_{3}}^{h_{6}h_{7}}\n + -0.03125 * v_{h_{5}h_{7}}^{p_{2}p_{3}}t2_{p_{1}p_{3}}^{h_{4}h_{5}}t2_{p_{0}p_{2}}^{h_{6}h_{7}}\n + -0.03125 * v_{h_{7}h_{5}}^{p_{2}p_{3}}t2_{p_{1}p_{2}}^{h_{4}h_{5}}t2_{p_{0}p_{3}}^{h_{6}h_{7}}\n + 0.0625 * v_{h_{7}h_{5}}^{p_{2}p_{3}}t2_{p_{1}p_{3}}^{h_{4}h_{5}}t2_{p_{0}p_{2}}^{h_{6}h_{7}}\n + -0.03125 * v_{h_{5}h_{7}}^{p_{2}p_{3}}t2_{p_{2}p_{1}}^{h_{4}h_{5}}t2_{p_{0}p_{3}}^{h_{6}h_{7}}\n + 0.0625 * v_{h_{5}h_{7}}^{p_{2}p_{3}}t2_{p_{3}p_{1}}^{h_{4}h_{5}}t2_{p_{0}p_{2}}^{h_{6}h_{7}}\n + 0.0625 * v_{h_{7}h_{5}}^{p_{2}p_{3}}t2_{p_{2}p_{1}}^{h_{4}h_{5}}t2_{p_{0}p_{3}}^{h_{6}h_{7}}\n + -0.03125 * v_{h_{7}h_{5}}^{p_{2}p_{3}}t2_{p_{3}p_{1}}^{h_{4}h_{5}}t2_{p_{0}p_{2}}^{h_{6}h_{7}}\n + 0.0625 * v_{h_{5}h_{7}}^{p_{2}p_{3}}t2_{p_{2}p_{3}}^{h_{4}h_{5}}t2_{p_{0}p_{1}}^{h_{6}h_{7}}\n + -0.125 * v_{h_{5}h_{7}}^{p_{2}p_{3}}t2_{p_{3}p_{2}}^{h_{4}h_{5}}t2_{p_{0}p_{1}}^{h_{6}h_{7}}\n + -0.125 * v_{h_{7}h_{5}}^{p_{2}p_{3}}t2_{p_{2}p_{3}}^{h_{4}h_{5}}t2_{p_{0}p_{1}}^{h_{6}h_{7}}\n + 0.0625 * v_{h_{7}h_{5}}^{p_{2}p_{3}}t2_{p_{3}p_{2}}^{h_{4}h_{5}}t2_{p_{0}p_{1}}^{h_{6}h_{7}}\n + -0.03125 * v_{h_{5}h_{7}}^{p_{2}p_{3}}t2_{p_{1}p_{2}}^{h_{4}h_{5}}t2_{p_{3}p_{0}}^{h_{6}h_{7}}\n + 0.0625 * v_{h_{5}h_{7}}^{p_{2}p_{3}}t2_{p_{1}p_{3}}^{h_{4}h_{5}}t2_{p_{2}p_{0}}^{h_{6}h_{7}}\n + 0.0625 * v_{h_{7}h_{5}}^{p_{2}p_{3}}t2_{p_{1}p_{2}}^{h_{4}h_{5}}t2_{p_{3}p_{0}}^{h_{6}h_{7}}\n + -0.03125 * v_{h_{7}h_{5}}^{p_{2}p_{3}}t2_{p_{1}p_{3}}^{h_{4}h_{5}}t2_{p_{2}p_{0}}^{h_{6}h_{7}}\n + 0.0625 * v_{h_{5}h_{7}}^{p_{2}p_{3}}t2_{p_{2}p_{1}}^{h_{4}h_{5}}t2_{p_{3}p_{0}}^{h_{6}h_{7}}\n + -0.125 * v_{h_{5}h_{7}}^{p_{2}p_{3}}t2_{p_{3}p_{1}}^{h_{4}h_{5}}t2_{p_{2}p_{0}}^{h_{6}h_{7}}\n + -0.125 * v_{h_{7}h_{5}}^{p_{2}p_{3}}t2_{p_{2}p_{1}}^{h_{4}h_{5}}t2_{p_{3}p_{0}}^{h_{6}h_{7}}\n + 0.0625 * v_{h_{7}h_{5}}^{p_{2}p_{3}}t2_{p_{3}p_{1}}^{h_{4}h_{5}}t2_{p_{2}p_{0}}^{h_{6}h_{7}}\n + -0.03125 * v_{h_{5}h_{7}}^{p_{2}p_{3}}t2_{p_{2}p_{3}}^{h_{4}h_{5}}t2_{p_{1}p_{0}}^{h_{6}h_{7}}\n + 0.0625 * v_{h_{5}h_{7}}^{p_{2}p_{3}}t2_{p_{3}p_{2}}^{h_{4}h_{5}}t2_{p_{1}p_{0}}^{h_{6}h_{7}}\n + 0.0625 * v_{h_{7}h_{5}}^{p_{2}p_{3}}t2_{p_{2}p_{3}}^{h_{4}h_{5}}t2_{p_{1}p_{0}}^{h_{6}h_{7}}\n + -0.03125 * v_{h_{7}h_{5}}^{p_{2}p_{3}}t2_{p_{3}p_{2}}^{h_{4}h_{5}}t2_{p_{1}p_{0}}^{h_{6}h_{7}}\n + -0.125 * v_{h_{4}h_{7}}^{p_{2}p_{3}}t2_{p_{0}p_{1}}^{h_{4}h_{5}}t2_{p_{2}p_{3}}^{h_{6}h_{7}}\n + 0.0625 * v_{h_{4}h_{7}}^{p_{2}p_{3}}t2_{p_{0}p_{1}}^{h_{4}h_{5}}t2_{p_{3}p_{2}}^{h_{6}h_{7}}\n + 0.0625 * v_{h_{7}h_{4}}^{p_{2}p_{3}}t2_{p_{0}p_{1}}^{h_{4}h_{5}}t2_{p_{2}p_{3}}^{h_{6}h_{7}}\n + -0.125 * v_{h_{7}h_{4}}^{p_{2}p_{3}}t2_{p_{0}p_{1}}^{h_{4}h_{5}}t2_{p_{3}p_{2}}^{h_{6}h_{7}}\n + 0.0625 * v_{h_{4}h_{7}}^{p_{2}p_{3}}t2_{p_{0}p_{2}}^{h_{4}h_{5}}t2_{p_{1}p_{3}}^{h_{6}h_{7}}\n + -0.125 * v_{h_{4}h_{7}}^{p_{2}p_{3}}t2_{p_{0}p_{3}}^{h_{4}h_{5}}t2_{p_{1}p_{2}}^{h_{6}h_{7}}\n + -0.125 * v_{h_{7}h_{4}}^{p_{2}p_{3}}t2_{p_{0}p_{2}}^{h_{4}h_{5}}t2_{p_{1}p_{3}}^{h_{6}h_{7}}\n + 0.0625 * v_{h_{7}h_{4}}^{p_{2}p_{3}}t2_{p_{0}p_{3}}^{h_{4}h_{5}}t2_{p_{1}p_{2}}^{h_{6}h_{7}}\n + -0.125 * v_{h_{4}h_{7}}^{p_{2}p_{3}}t2_{p_{0}p_{2}}^{h_{4}h_{5}}t2_{p_{3}p_{1}}^{h_{6}h_{7}}\n + 0.25 * v_{h_{4}h_{7}}^{p_{2}p_{3}}t2_{p_{0}p_{3}}^{h_{4}h_{5}}t2_{p_{2}p_{1}}^{h_{6}h_{7}}\n + 0.25 * v_{h_{7}h_{4}}^{p_{2}p_{3}}t2_{p_{0}p_{2}}^{h_{4}h_{5}}t2_{p_{3}p_{1}}^{h_{6}h_{7}}\n + -0.125 * v_{h_{7}h_{4}}^{p_{2}p_{3}}t2_{p_{0}p_{3}}^{h_{4}h_{5}}t2_{p_{2}p_{1}}^{h_{6}h_{7}}\n + 0.0625 * v_{h_{4}h_{7}}^{p_{2}p_{3}}t2_{p_{1}p_{0}}^{h_{4}h_{5}}t2_{p_{2}p_{3}}^{h_{6}h_{7}}\n + -0.03125 * v_{h_{4}h_{7}}^{p_{2}p_{3}}t2_{p_{1}p_{0}}^{h_{4}h_{5}}t2_{p_{3}p_{2}}^{h_{6}h_{7}}\n + -0.03125 * v_{h_{7}h_{4}}^{p_{2}p_{3}}t2_{p_{1}p_{0}}^{h_{4}h_{5}}t2_{p_{2}p_{3}}^{h_{6}h_{7}}\n + 0.0625 * v_{h_{7}h_{4}}^{p_{2}p_{3}}t2_{p_{1}p_{0}}^{h_{4}h_{5}}t2_{p_{3}p_{2}}^{h_{6}h_{7}}\n + -0.03125 * v_{h_{4}h_{7}}^{p_{2}p_{3}}t2_{p_{2}p_{0}}^{h_{4}h_{5}}t2_{p_{1}p_{3}}^{h_{6}h_{7}}\n + 0.0625 * v_{h_{4}h_{7}}^{p_{2}p_{3}}t2_{p_{3}p_{0}}^{h_{4}h_{5}}t2_{p_{1}p_{2}}^{h_{6}h_{7}}\n + 0.0625 * v_{h_{7}h_{4}}^{p_{2}p_{3}}t2_{p_{2}p_{0}}^{h_{4}h_{5}}t2_{p_{1}p_{3}}^{h_{6}h_{7}}\n + -0.03125 * v_{h_{7}h_{4}}^{p_{2}p_{3}}t2_{p_{3}p_{0}}^{h_{4}h_{5}}t2_{p_{1}p_{2}}^{h_{6}h_{7}}\n + 0.0625 * v_{h_{4}h_{7}}^{p_{2}p_{3}}t2_{p_{2}p_{0}}^{h_{4}h_{5}}t2_{p_{3}p_{1}}^{h_{6}h_{7}}\n + -0.125 * v_{h_{4}h_{7}}^{p_{2}p_{3}}t2_{p_{3}p_{0}}^{h_{4}h_{5}}t2_{p_{2}p_{1}}^{h_{6}h_{7}}\n + -0.125 * v_{h_{7}h_{4}}^{p_{2}p_{3}}t2_{p_{2}p_{0}}^{h_{4}h_{5}}t2_{p_{3}p_{1}}^{h_{6}h_{7}}\n + 0.0625 * v_{h_{7}h_{4}}^{p_{2}p_{3}}t2_{p_{3}p_{0}}^{h_{4}h_{5}}t2_{p_{2}p_{1}}^{h_{6}h_{7}}\n + -0.03125 * v_{h_{4}h_{7}}^{p_{2}p_{3}}t2_{p_{1}p_{2}}^{h_{4}h_{5}}t2_{p_{0}p_{3}}^{h_{6}h_{7}}\n + 0.0625 * v_{h_{4}h_{7}}^{p_{2}p_{3}}t2_{p_{1}p_{3}}^{h_{4}h_{5}}t2_{p_{0}p_{2}}^{h_{6}h_{7}}\n + 0.0625 * v_{h_{7}h_{4}}^{p_{2}p_{3}}t2_{p_{1}p_{2}}^{h_{4}h_{5}}t2_{p_{0}p_{3}}^{h_{6}h_{7}}\n + -0.03125 * v_{h_{7}h_{4}}^{p_{2}p_{3}}t2_{p_{1}p_{3}}^{h_{4}h_{5}}t2_{p_{0}p_{2}}^{h_{6}h_{7}}\n + 0.0625 * v_{h_{4}h_{7}}^{p_{2}p_{3}}t2_{p_{2}p_{1}}^{h_{4}h_{5}}t2_{p_{0}p_{3}}^{h_{6}h_{7}}\n + -0.03125 * v_{h_{4}h_{7}}^{p_{2}p_{3}}t2_{p_{3}p_{1}}^{h_{4}h_{5}}t2_{p_{0}p_{2}}^{h_{6}h_{7}}\n + -0.03125 * v_{h_{7}h_{4}}^{p_{2}p_{3}}t2_{p_{2}p_{1}}^{h_{4}h_{5}}t2_{p_{0}p_{3}}^{h_{6}h_{7}}\n + 0.0625 * v_{h_{7}h_{4}}^{p_{2}p_{3}}t2_{p_{3}p_{1}}^{h_{4}h_{5}}t2_{p_{0}p_{2}}^{h_{6}h_{7}}\n + -0.125 * v_{h_{4}h_{7}}^{p_{2}p_{3}}t2_{p_{2}p_{3}}^{h_{4}h_{5}}t2_{p_{0}p_{1}}^{h_{6}h_{7}}\n + 0.0625 * v_{h_{4}h_{7}}^{p_{2}p_{3}}t2_{p_{3}p_{2}}^{h_{4}h_{5}}t2_{p_{0}p_{1}}^{h_{6}h_{7}}\n + 0.0625 * v_{h_{7}h_{4}}^{p_{2}p_{3}}t2_{p_{2}p_{3}}^{h_{4}h_{5}}t2_{p_{0}p_{1}}^{h_{6}h_{7}}\n + -0.125 * v_{h_{7}h_{4}}^{p_{2}p_{3}}t2_{p_{3}p_{2}}^{h_{4}h_{5}}t2_{p_{0}p_{1}}^{h_{6}h_{7}}\n + 0.0625 * v_{h_{4}h_{7}}^{p_{2}p_{3}}t2_{p_{1}p_{2}}^{h_{4}h_{5}}t2_{p_{3}p_{0}}^{h_{6}h_{7}}\n + -0.125 * v_{h_{4}h_{7}}^{p_{2}p_{3}}t2_{p_{1}p_{3}}^{h_{4}h_{5}}t2_{p_{2}p_{0}}^{h_{6}h_{7}}\n + -0.125 * v_{h_{7}h_{4}}^{p_{2}p_{3}}t2_{p_{1}p_{2}}^{h_{4}h_{5}}t2_{p_{3}p_{0}}^{h_{6}h_{7}}\n + 0.0625 * v_{h_{7}h_{4}}^{p_{2}p_{3}}t2_{p_{1}p_{3}}^{h_{4}h_{5}}t2_{p_{2}p_{0}}^{h_{6}h_{7}}\n + -0.03125 * v_{h_{4}h_{7}}^{p_{2}p_{3}}t2_{p_{2}p_{1}}^{h_{4}h_{5}}t2_{p_{3}p_{0}}^{h_{6}h_{7}}\n + 0.0625 * v_{h_{4}h_{7}}^{p_{2}p_{3}}t2_{p_{3}p_{1}}^{h_{4}h_{5}}t2_{p_{2}p_{0}}^{h_{6}h_{7}}\n + 0.0625 * v_{h_{7}h_{4}}^{p_{2}p_{3}}t2_{p_{2}p_{1}}^{h_{4}h_{5}}t2_{p_{3}p_{0}}^{h_{6}h_{7}}\n + -0.03125 * v_{h_{7}h_{4}}^{p_{2}p_{3}}t2_{p_{3}p_{1}}^{h_{4}h_{5}}t2_{p_{2}p_{0}}^{h_{6}h_{7}}\n + 0.0625 * v_{h_{4}h_{7}}^{p_{2}p_{3}}t2_{p_{2}p_{3}}^{h_{4}h_{5}}t2_{p_{1}p_{0}}^{h_{6}h_{7}}\n + -0.03125 * v_{h_{4}h_{7}}^{p_{2}p_{3}}t2_{p_{3}p_{2}}^{h_{4}h_{5}}t2_{p_{1}p_{0}}^{h_{6}h_{7}}\n + -0.03125 * v_{h_{7}h_{4}}^{p_{2}p_{3}}t2_{p_{2}p_{3}}^{h_{4}h_{5}}t2_{p_{1}p_{0}}^{h_{6}h_{7}}\n + 0.0625 * v_{h_{7}h_{4}}^{p_{2}p_{3}}t2_{p_{3}p_{2}}^{h_{4}h_{5}}t2_{p_{1}p_{0}}^{h_{6}h_{7}}\n + 0.0625 * v_{h_{4}h_{5}}^{p_{2}p_{3}}t2_{p_{0}p_{1}}^{h_{4}h_{5}}t2_{p_{2}p_{3}}^{h_{6}h_{7}}\n + -0.03125 * v_{h_{4}h_{5}}^{p_{2}p_{3}}t2_{p_{0}p_{1}}^{h_{4}h_{5}}t2_{p_{3}p_{2}}^{h_{6}h_{7}}\n + -0.03125 * v_{h_{5}h_{4}}^{p_{2}p_{3}}t2_{p_{0}p_{1}}^{h_{4}h_{5}}t2_{p_{2}p_{3}}^{h_{6}h_{7}}\n + 0.0625 * v_{h_{5}h_{4}}^{p_{2}p_{3}}t2_{p_{0}p_{1}}^{h_{4}h_{5}}t2_{p_{3}p_{2}}^{h_{6}h_{7}}\n + -0.03125 * v_{h_{4}h_{5}}^{p_{2}p_{3}}t2_{p_{0}p_{2}}^{h_{4}h_{5}}t2_{p_{1}p_{3}}^{h_{6}h_{7}}\n + 0.0625 * v_{h_{4}h_{5}}^{p_{2}p_{3}}t2_{p_{0}p_{3}}^{h_{4}h_{5}}t2_{p_{1}p_{2}}^{h_{6}h_{7}}\n + 0.0625 * v_{h_{5}h_{4}}^{p_{2}p_{3}}t2_{p_{0}p_{2}}^{h_{4}h_{5}}t2_{p_{1}p_{3}}^{h_{6}h_{7}}\n + -0.03125 * v_{h_{5}h_{4}}^{p_{2}p_{3}}t2_{p_{0}p_{3}}^{h_{4}h_{5}}t2_{p_{1}p_{2}}^{h_{6}h_{7}}\n + 0.0625 * v_{h_{4}h_{5}}^{p_{2}p_{3}}t2_{p_{0}p_{2}}^{h_{4}h_{5}}t2_{p_{3}p_{1}}^{h_{6}h_{7}}\n + -0.125 * v_{h_{4}h_{5}}^{p_{2}p_{3}}t2_{p_{0}p_{3}}^{h_{4}h_{5}}t2_{p_{2}p_{1}}^{h_{6}h_{7}}\n + -0.125 * v_{h_{5}h_{4}}^{p_{2}p_{3}}t2_{p_{0}p_{2}}^{h_{4}h_{5}}t2_{p_{3}p_{1}}^{h_{6}h_{7}}\n + 0.0625 * v_{h_{5}h_{4}}^{p_{2}p_{3}}t2_{p_{0}p_{3}}^{h_{4}h_{5}}t2_{p_{2}p_{1}}^{h_{6}h_{7}}\n + -0.03125 * v_{h_{4}h_{5}}^{p_{2}p_{3}}t2_{p_{1}p_{0}}^{h_{4}h_{5}}t2_{p_{2}p_{3}}^{h_{6}h_{7}}\n + 0.0625 * v_{h_{4}h_{5}}^{p_{2}p_{3}}t2_{p_{1}p_{0}}^{h_{4}h_{5}}t2_{p_{3}p_{2}}^{h_{6}h_{7}}\n + 0.0625 * v_{h_{5}h_{4}}^{p_{2}p_{3}}t2_{p_{1}p_{0}}^{h_{4}h_{5}}t2_{p_{2}p_{3}}^{h_{6}h_{7}}\n + -0.03125 * v_{h_{5}h_{4}}^{p_{2}p_{3}}t2_{p_{1}p_{0}}^{h_{4}h_{5}}t2_{p_{3}p_{2}}^{h_{6}h_{7}}\n + 0.0625 * v_{h_{4}h_{5}}^{p_{2}p_{3}}t2_{p_{2}p_{0}}^{h_{4}h_{5}}t2_{p_{1}p_{3}}^{h_{6}h_{7}}\n + -0.03125 * v_{h_{4}h_{5}}^{p_{2}p_{3}}t2_{p_{3}p_{0}}^{h_{4}h_{5}}t2_{p_{1}p_{2}}^{h_{6}h_{7}}\n + -0.03125 * v_{h_{5}h_{4}}^{p_{2}p_{3}}t2_{p_{2}p_{0}}^{h_{4}h_{5}}t2_{p_{1}p_{3}}^{h_{6}h_{7}}\n + 0.0625 * v_{h_{5}h_{4}}^{p_{2}p_{3}}t2_{p_{3}p_{0}}^{h_{4}h_{5}}t2_{p_{1}p_{2}}^{h_{6}h_{7}}\n + -0.125 * v_{h_{4}h_{5}}^{p_{2}p_{3}}t2_{p_{2}p_{0}}^{h_{4}h_{5}}t2_{p_{3}p_{1}}^{h_{6}h_{7}}\n + 0.0625 * v_{h_{4}h_{5}}^{p_{2}p_{3}}t2_{p_{3}p_{0}}^{h_{4}h_{5}}t2_{p_{2}p_{1}}^{h_{6}h_{7}}\n + 0.0625 * v_{h_{5}h_{4}}^{p_{2}p_{3}}t2_{p_{2}p_{0}}^{h_{4}h_{5}}t2_{p_{3}p_{1}}^{h_{6}h_{7}}\n + -0.125 * v_{h_{5}h_{4}}^{p_{2}p_{3}}t2_{p_{3}p_{0}}^{h_{4}h_{5}}t2_{p_{2}p_{1}}^{h_{6}h_{7}}\n + 0.0625 * v_{h_{4}h_{5}}^{p_{2}p_{3}}t2_{p_{1}p_{2}}^{h_{4}h_{5}}t2_{p_{0}p_{3}}^{h_{6}h_{7}}\n + -0.125 * v_{h_{4}h_{5}}^{p_{2}p_{3}}t2_{p_{1}p_{3}}^{h_{4}h_{5}}t2_{p_{0}p_{2}}^{h_{6}h_{7}}\n + -0.125 * v_{h_{5}h_{4}}^{p_{2}p_{3}}t2_{p_{1}p_{2}}^{h_{4}h_{5}}t2_{p_{0}p_{3}}^{h_{6}h_{7}}\n + 0.0625 * v_{h_{5}h_{4}}^{p_{2}p_{3}}t2_{p_{1}p_{3}}^{h_{4}h_{5}}t2_{p_{0}p_{2}}^{h_{6}h_{7}}\n + -0.125 * v_{h_{4}h_{5}}^{p_{2}p_{3}}t2_{p_{2}p_{1}}^{h_{4}h_{5}}t2_{p_{0}p_{3}}^{h_{6}h_{7}}\n + 0.0625 * v_{h_{4}h_{5}}^{p_{2}p_{3}}t2_{p_{3}p_{1}}^{h_{4}h_{5}}t2_{p_{0}p_{2}}^{h_{6}h_{7}}\n + 0.0625 * v_{h_{5}h_{4}}^{p_{2}p_{3}}t2_{p_{2}p_{1}}^{h_{4}h_{5}}t2_{p_{0}p_{3}}^{h_{6}h_{7}}\n + -0.125 * v_{h_{5}h_{4}}^{p_{2}p_{3}}t2_{p_{3}p_{1}}^{h_{4}h_{5}}t2_{p_{0}p_{2}}^{h_{6}h_{7}}\n + 0.25 * v_{h_{4}h_{5}}^{p_{2}p_{3}}t2_{p_{2}p_{3}}^{h_{4}h_{5}}t2_{p_{0}p_{1}}^{h_{6}h_{7}}\n + -0.125 * v_{h_{4}h_{5}}^{p_{2}p_{3}}t2_{p_{3}p_{2}}^{h_{4}h_{5}}t2_{p_{0}p_{1}}^{h_{6}h_{7}}\n + -0.125 * v_{h_{5}h_{4}}^{p_{2}p_{3}}t2_{p_{2}p_{3}}^{h_{4}h_{5}}t2_{p_{0}p_{1}}^{h_{6}h_{7}}\n + 0.25 * v_{h_{5}h_{4}}^{p_{2}p_{3}}t2_{p_{3}p_{2}}^{h_{4}h_{5}}t2_{p_{0}p_{1}}^{h_{6}h_{7}}\n + -0.03125 * v_{h_{4}h_{5}}^{p_{2}p_{3}}t2_{p_{1}p_{2}}^{h_{4}h_{5}}t2_{p_{3}p_{0}}^{h_{6}h_{7}}\n + 0.0625 * v_{h_{4}h_{5}}^{p_{2}p_{3}}t2_{p_{1}p_{3}}^{h_{4}h_{5}}t2_{p_{2}p_{0}}^{h_{6}h_{7}}\n + 0.0625 * v_{h_{5}h_{4}}^{p_{2}p_{3}}t2_{p_{1}p_{2}}^{h_{4}h_{5}}t2_{p_{3}p_{0}}^{h_{6}h_{7}}\n + -0.03125 * v_{h_{5}h_{4}}^{p_{2}p_{3}}t2_{p_{1}p_{3}}^{h_{4}h_{5}}t2_{p_{2}p_{0}}^{h_{6}h_{7}}\n + 0.0625 * v_{h_{4}h_{5}}^{p_{2}p_{3}}t2_{p_{2}p_{1}}^{h_{4}h_{5}}t2_{p_{3}p_{0}}^{h_{6}h_{7}}\n + -0.03125 * v_{h_{4}h_{5}}^{p_{2}p_{3}}t2_{p_{3}p_{1}}^{h_{4}h_{5}}t2_{p_{2}p_{0}}^{h_{6}h_{7}}\n + -0.03125 * v_{h_{5}h_{4}}^{p_{2}p_{3}}t2_{p_{2}p_{1}}^{h_{4}h_{5}}t2_{p_{3}p_{0}}^{h_{6}h_{7}}\n + 0.0625 * v_{h_{5}h_{4}}^{p_{2}p_{3}}t2_{p_{3}p_{1}}^{h_{4}h_{5}}t2_{p_{2}p_{0}}^{h_{6}h_{7}}\n + -0.125 * v_{h_{4}h_{5}}^{p_{2}p_{3}}t2_{p_{2}p_{3}}^{h_{4}h_{5}}t2_{p_{1}p_{0}}^{h_{6}h_{7}}\n + 0.0625 * v_{h_{4}h_{5}}^{p_{2}p_{3}}t2_{p_{3}p_{2}}^{h_{4}h_{5}}t2_{p_{1}p_{0}}^{h_{6}h_{7}}\n + 0.0625 * v_{h_{5}h_{4}}^{p_{2}p_{3}}t2_{p_{2}p_{3}}^{h_{4}h_{5}}t2_{p_{1}p_{0}}^{h_{6}h_{7}}\n + -0.125 * v_{h_{5}h_{4}}^{p_{2}p_{3}}t2_{p_{3}p_{2}}^{h_{4}h_{5}}t2_{p_{1}p_{0}}^{h_{6}h_{7}}\n + -0.03125 * v_{h_{5}h_{6}}^{p_{2}p_{3}}t2_{p_{0}p_{1}}^{h_{4}h_{5}}t2_{p_{2}p_{3}}^{h_{6}h_{7}}\n + 0.0625 * v_{h_{5}h_{6}}^{p_{2}p_{3}}t2_{p_{0}p_{1}}^{h_{4}h_{5}}t2_{p_{3}p_{2}}^{h_{6}h_{7}}\n + 0.0625 * v_{h_{6}h_{5}}^{p_{2}p_{3}}t2_{p_{0}p_{1}}^{h_{4}h_{5}}t2_{p_{2}p_{3}}^{h_{6}h_{7}}\n + -0.03125 * v_{h_{6}h_{5}}^{p_{2}p_{3}}t2_{p_{0}p_{1}}^{h_{4}h_{5}}t2_{p_{3}p_{2}}^{h_{6}h_{7}}\n + 0.0625 * v_{h_{5}h_{6}}^{p_{2}p_{3}}t2_{p_{0}p_{2}}^{h_{4}h_{5}}t2_{p_{1}p_{3}}^{h_{6}h_{7}}\n + -0.125 * v_{h_{5}h_{6}}^{p_{2}p_{3}}t2_{p_{0}p_{3}}^{h_{4}h_{5}}t2_{p_{1}p_{2}}^{h_{6}h_{7}}\n + -0.125 * v_{h_{6}h_{5}}^{p_{2}p_{3}}t2_{p_{0}p_{2}}^{h_{4}h_{5}}t2_{p_{1}p_{3}}^{h_{6}h_{7}}\n + 0.0625 * v_{h_{6}h_{5}}^{p_{2}p_{3}}t2_{p_{0}p_{3}}^{h_{4}h_{5}}t2_{p_{1}p_{2}}^{h_{6}h_{7}}\n + -0.03125 * v_{h_{5}h_{6}}^{p_{2}p_{3}}t2_{p_{0}p_{2}}^{h_{4}h_{5}}t2_{p_{3}p_{1}}^{h_{6}h_{7}}\n + 0.0625 * v_{h_{5}h_{6}}^{p_{2}p_{3}}t2_{p_{0}p_{3}}^{h_{4}h_{5}}t2_{p_{2}p_{1}}^{h_{6}h_{7}}\n + 0.0625 * v_{h_{6}h_{5}}^{p_{2}p_{3}}t2_{p_{0}p_{2}}^{h_{4}h_{5}}t2_{p_{3}p_{1}}^{h_{6}h_{7}}\n + -0.03125 * v_{h_{6}h_{5}}^{p_{2}p_{3}}t2_{p_{0}p_{3}}^{h_{4}h_{5}}t2_{p_{2}p_{1}}^{h_{6}h_{7}}\n + 0.0625 * v_{h_{5}h_{6}}^{p_{2}p_{3}}t2_{p_{1}p_{0}}^{h_{4}h_{5}}t2_{p_{2}p_{3}}^{h_{6}h_{7}}\n + -0.125 * v_{h_{5}h_{6}}^{p_{2}p_{3}}t2_{p_{1}p_{0}}^{h_{4}h_{5}}t2_{p_{3}p_{2}}^{h_{6}h_{7}}\n + -0.125 * v_{h_{6}h_{5}}^{p_{2}p_{3}}t2_{p_{1}p_{0}}^{h_{4}h_{5}}t2_{p_{2}p_{3}}^{h_{6}h_{7}}\n + 0.0625 * v_{h_{6}h_{5}}^{p_{2}p_{3}}t2_{p_{1}p_{0}}^{h_{4}h_{5}}t2_{p_{3}p_{2}}^{h_{6}h_{7}}\n + -0.125 * v_{h_{5}h_{6}}^{p_{2}p_{3}}t2_{p_{2}p_{0}}^{h_{4}h_{5}}t2_{p_{1}p_{3}}^{h_{6}h_{7}}\n + 0.25 * v_{h_{5}h_{6}}^{p_{2}p_{3}}t2_{p_{3}p_{0}}^{h_{4}h_{5}}t2_{p_{1}p_{2}}^{h_{6}h_{7}}\n + 0.25 * v_{h_{6}h_{5}}^{p_{2}p_{3}}t2_{p_{2}p_{0}}^{h_{4}h_{5}}t2_{p_{1}p_{3}}^{h_{6}h_{7}}\n + -0.125 * v_{h_{6}h_{5}}^{p_{2}p_{3}}t2_{p_{3}p_{0}}^{h_{4}h_{5}}t2_{p_{1}p_{2}}^{h_{6}h_{7}}\n + 0.0625 * v_{h_{5}h_{6}}^{p_{2}p_{3}}t2_{p_{2}p_{0}}^{h_{4}h_{5}}t2_{p_{3}p_{1}}^{h_{6}h_{7}}\n + -0.125 * v_{h_{5}h_{6}}^{p_{2}p_{3}}t2_{p_{3}p_{0}}^{h_{4}h_{5}}t2_{p_{2}p_{1}}^{h_{6}h_{7}}\n + -0.125 * v_{h_{6}h_{5}}^{p_{2}p_{3}}t2_{p_{2}p_{0}}^{h_{4}h_{5}}t2_{p_{3}p_{1}}^{h_{6}h_{7}}\n + 0.0625 * v_{h_{6}h_{5}}^{p_{2}p_{3}}t2_{p_{3}p_{0}}^{h_{4}h_{5}}t2_{p_{2}p_{1}}^{h_{6}h_{7}}\n + -0.03125 * v_{h_{5}h_{6}}^{p_{2}p_{3}}t2_{p_{1}p_{2}}^{h_{4}h_{5}}t2_{p_{0}p_{3}}^{h_{6}h_{7}}\n + 0.0625 * v_{h_{5}h_{6}}^{p_{2}p_{3}}t2_{p_{1}p_{3}}^{h_{4}h_{5}}t2_{p_{0}p_{2}}^{h_{6}h_{7}}\n + 0.0625 * v_{h_{6}h_{5}}^{p_{2}p_{3}}t2_{p_{1}p_{2}}^{h_{4}h_{5}}t2_{p_{0}p_{3}}^{h_{6}h_{7}}\n + -0.03125 * v_{h_{6}h_{5}}^{p_{2}p_{3}}t2_{p_{1}p_{3}}^{h_{4}h_{5}}t2_{p_{0}p_{2}}^{h_{6}h_{7}}\n + 0.0625 * v_{h_{5}h_{6}}^{p_{2}p_{3}}t2_{p_{2}p_{1}}^{h_{4}h_{5}}t2_{p_{0}p_{3}}^{h_{6}h_{7}}\n + -0.125 * v_{h_{5}h_{6}}^{p_{2}p_{3}}t2_{p_{3}p_{1}}^{h_{4}h_{5}}t2_{p_{0}p_{2}}^{h_{6}h_{7}}\n + -0.125 * v_{h_{6}h_{5}}^{p_{2}p_{3}}t2_{p_{2}p_{1}}^{h_{4}h_{5}}t2_{p_{0}p_{3}}^{h_{6}h_{7}}\n + 0.0625 * v_{h_{6}h_{5}}^{p_{2}p_{3}}t2_{p_{3}p_{1}}^{h_{4}h_{5}}t2_{p_{0}p_{2}}^{h_{6}h_{7}}\n + -0.03125 * v_{h_{5}h_{6}}^{p_{2}p_{3}}t2_{p_{2}p_{3}}^{h_{4}h_{5}}t2_{p_{0}p_{1}}^{h_{6}h_{7}}\n + 0.0625 * v_{h_{5}h_{6}}^{p_{2}p_{3}}t2_{p_{3}p_{2}}^{h_{4}h_{5}}t2_{p_{0}p_{1}}^{h_{6}h_{7}}\n + 0.0625 * v_{h_{6}h_{5}}^{p_{2}p_{3}}t2_{p_{2}p_{3}}^{h_{4}h_{5}}t2_{p_{0}p_{1}}^{h_{6}h_{7}}\n + -0.03125 * v_{h_{6}h_{5}}^{p_{2}p_{3}}t2_{p_{3}p_{2}}^{h_{4}h_{5}}t2_{p_{0}p_{1}}^{h_{6}h_{7}}\n + 0.0625 * v_{h_{5}h_{6}}^{p_{2}p_{3}}t2_{p_{1}p_{2}}^{h_{4}h_{5}}t2_{p_{3}p_{0}}^{h_{6}h_{7}}\n + -0.03125 * v_{h_{5}h_{6}}^{p_{2}p_{3}}t2_{p_{1}p_{3}}^{h_{4}h_{5}}t2_{p_{2}p_{0}}^{h_{6}h_{7}}\n + -0.03125 * v_{h_{6}h_{5}}^{p_{2}p_{3}}t2_{p_{1}p_{2}}^{h_{4}h_{5}}t2_{p_{3}p_{0}}^{h_{6}h_{7}}\n + 0.0625 * v_{h_{6}h_{5}}^{p_{2}p_{3}}t2_{p_{1}p_{3}}^{h_{4}h_{5}}t2_{p_{2}p_{0}}^{h_{6}h_{7}}\n + -0.03125 * v_{h_{5}h_{6}}^{p_{2}p_{3}}t2_{p_{2}p_{1}}^{h_{4}h_{5}}t2_{p_{3}p_{0}}^{h_{6}h_{7}}\n + 0.0625 * v_{h_{5}h_{6}}^{p_{2}p_{3}}t2_{p_{3}p_{1}}^{h_{4}h_{5}}t2_{p_{2}p_{0}}^{h_{6}h_{7}}\n + 0.0625 * v_{h_{6}h_{5}}^{p_{2}p_{3}}t2_{p_{2}p_{1}}^{h_{4}h_{5}}t2_{p_{3}p_{0}}^{h_{6}h_{7}}\n + -0.03125 * v_{h_{6}h_{5}}^{p_{2}p_{3}}t2_{p_{3}p_{1}}^{h_{4}h_{5}}t2_{p_{2}p_{0}}^{h_{6}h_{7}}\n + 0.0625 * v_{h_{5}h_{6}}^{p_{2}p_{3}}t2_{p_{2}p_{3}}^{h_{4}h_{5}}t2_{p_{1}p_{0}}^{h_{6}h_{7}}\n + -0.125 * v_{h_{5}h_{6}}^{p_{2}p_{3}}t2_{p_{3}p_{2}}^{h_{4}h_{5}}t2_{p_{1}p_{0}}^{h_{6}h_{7}}\n + -0.125 * v_{h_{6}h_{5}}^{p_{2}p_{3}}t2_{p_{2}p_{3}}^{h_{4}h_{5}}t2_{p_{1}p_{0}}^{h_{6}h_{7}}\n + 0.0625 * v_{h_{6}h_{5}}^{p_{2}p_{3}}t2_{p_{3}p_{2}}^{h_{4}h_{5}}t2_{p_{1}p_{0}}^{h_{6}h_{7}}\n + 0.0625 * v_{h_{4}h_{6}}^{p_{2}p_{3}}t2_{p_{0}p_{1}}^{h_{4}h_{5}}t2_{p_{2}p_{3}}^{h_{6}h_{7}}\n + -0.125 * v_{h_{4}h_{6}}^{p_{2}p_{3}}t2_{p_{0}p_{1}}^{h_{4}h_{5}}t2_{p_{3}p_{2}}^{h_{6}h_{7}}\n + -0.125 * v_{h_{6}h_{4}}^{p_{2}p_{3}}t2_{p_{0}p_{1}}^{h_{4}h_{5}}t2_{p_{2}p_{3}}^{h_{6}h_{7}}\n + 0.0625 * v_{h_{6}h_{4}}^{p_{2}p_{3}}t2_{p_{0}p_{1}}^{h_{4}h_{5}}t2_{p_{3}p_{2}}^{h_{6}h_{7}}\n + -0.125 * v_{h_{4}h_{6}}^{p_{2}p_{3}}t2_{p_{0}p_{2}}^{h_{4}h_{5}}t2_{p_{1}p_{3}}^{h_{6}h_{7}}\n + 0.25 * v_{h_{4}h_{6}}^{p_{2}p_{3}}t2_{p_{0}p_{3}}^{h_{4}h_{5}}t2_{p_{1}p_{2}}^{h_{6}h_{7}}\n + 0.25 * v_{h_{6}h_{4}}^{p_{2}p_{3}}t2_{p_{0}p_{2}}^{h_{4}h_{5}}t2_{p_{1}p_{3}}^{h_{6}h_{7}}\n + -0.125 * v_{h_{6}h_{4}}^{p_{2}p_{3}}t2_{p_{0}p_{3}}^{h_{4}h_{5}}t2_{p_{1}p_{2}}^{h_{6}h_{7}}\n + 0.0625 * v_{h_{4}h_{6}}^{p_{2}p_{3}}t2_{p_{0}p_{2}}^{h_{4}h_{5}}t2_{p_{3}p_{1}}^{h_{6}h_{7}}\n + -0.125 * v_{h_{4}h_{6}}^{p_{2}p_{3}}t2_{p_{0}p_{3}}^{h_{4}h_{5}}t2_{p_{2}p_{1}}^{h_{6}h_{7}}\n + -0.125 * v_{h_{6}h_{4}}^{p_{2}p_{3}}t2_{p_{0}p_{2}}^{h_{4}h_{5}}t2_{p_{3}p_{1}}^{h_{6}h_{7}}\n + 0.0625 * v_{h_{6}h_{4}}^{p_{2}p_{3}}t2_{p_{0}p_{3}}^{h_{4}h_{5}}t2_{p_{2}p_{1}}^{h_{6}h_{7}}\n + -0.03125 * v_{h_{4}h_{6}}^{p_{2}p_{3}}t2_{p_{1}p_{0}}^{h_{4}h_{5}}t2_{p_{2}p_{3}}^{h_{6}h_{7}}\n + 0.0625 * v_{h_{4}h_{6}}^{p_{2}p_{3}}t2_{p_{1}p_{0}}^{h_{4}h_{5}}t2_{p_{3}p_{2}}^{h_{6}h_{7}}\n + 0.0625 * v_{h_{6}h_{4}}^{p_{2}p_{3}}t2_{p_{1}p_{0}}^{h_{4}h_{5}}t2_{p_{2}p_{3}}^{h_{6}h_{7}}\n + -0.03125 * v_{h_{6}h_{4}}^{p_{2}p_{3}}t2_{p_{1}p_{0}}^{h_{4}h_{5}}t2_{p_{3}p_{2}}^{h_{6}h_{7}}\n + 0.0625 * v_{h_{4}h_{6}}^{p_{2}p_{3}}t2_{p_{2}p_{0}}^{h_{4}h_{5}}t2_{p_{1}p_{3}}^{h_{6}h_{7}}\n + -0.125 * v_{h_{4}h_{6}}^{p_{2}p_{3}}t2_{p_{3}p_{0}}^{h_{4}h_{5}}t2_{p_{1}p_{2}}^{h_{6}h_{7}}\n + -0.125 * v_{h_{6}h_{4}}^{p_{2}p_{3}}t2_{p_{2}p_{0}}^{h_{4}h_{5}}t2_{p_{1}p_{3}}^{h_{6}h_{7}}\n + 0.0625 * v_{h_{6}h_{4}}^{p_{2}p_{3}}t2_{p_{3}p_{0}}^{h_{4}h_{5}}t2_{p_{1}p_{2}}^{h_{6}h_{7}}\n + -0.03125 * v_{h_{4}h_{6}}^{p_{2}p_{3}}t2_{p_{2}p_{0}}^{h_{4}h_{5}}t2_{p_{3}p_{1}}^{h_{6}h_{7}}\n + 0.0625 * v_{h_{4}h_{6}}^{p_{2}p_{3}}t2_{p_{3}p_{0}}^{h_{4}h_{5}}t2_{p_{2}p_{1}}^{h_{6}h_{7}}\n + 0.0625 * v_{h_{6}h_{4}}^{p_{2}p_{3}}t2_{p_{2}p_{0}}^{h_{4}h_{5}}t2_{p_{3}p_{1}}^{h_{6}h_{7}}\n + -0.03125 * v_{h_{6}h_{4}}^{p_{2}p_{3}}t2_{p_{3}p_{0}}^{h_{4}h_{5}}t2_{p_{2}p_{1}}^{h_{6}h_{7}}\n + 0.0625 * v_{h_{4}h_{6}}^{p_{2}p_{3}}t2_{p_{1}p_{2}}^{h_{4}h_{5}}t2_{p_{0}p_{3}}^{h_{6}h_{7}}\n + -0.125 * v_{h_{4}h_{6}}^{p_{2}p_{3}}t2_{p_{1}p_{3}}^{h_{4}h_{5}}t2_{p_{0}p_{2}}^{h_{6}h_{7}}\n + -0.125 * v_{h_{6}h_{4}}^{p_{2}p_{3}}t2_{p_{1}p_{2}}^{h_{4}h_{5}}t2_{p_{0}p_{3}}^{h_{6}h_{7}}\n + 0.0625 * v_{h_{6}h_{4}}^{p_{2}p_{3}}t2_{p_{1}p_{3}}^{h_{4}h_{5}}t2_{p_{0}p_{2}}^{h_{6}h_{7}}\n + -0.03125 * v_{h_{4}h_{6}}^{p_{2}p_{3}}t2_{p_{2}p_{1}}^{h_{4}h_{5}}t2_{p_{0}p_{3}}^{h_{6}h_{7}}\n + 0.0625 * v_{h_{4}h_{6}}^{p_{2}p_{3}}t2_{p_{3}p_{1}}^{h_{4}h_{5}}t2_{p_{0}p_{2}}^{h_{6}h_{7}}\n + 0.0625 * v_{h_{6}h_{4}}^{p_{2}p_{3}}t2_{p_{2}p_{1}}^{h_{4}h_{5}}t2_{p_{0}p_{3}}^{h_{6}h_{7}}\n + -0.03125 * v_{h_{6}h_{4}}^{p_{2}p_{3}}t2_{p_{3}p_{1}}^{h_{4}h_{5}}t2_{p_{0}p_{2}}^{h_{6}h_{7}}\n + 0.0625 * v_{h_{4}h_{6}}^{p_{2}p_{3}}t2_{p_{2}p_{3}}^{h_{4}h_{5}}t2_{p_{0}p_{1}}^{h_{6}h_{7}}\n + -0.03125 * v_{h_{4}h_{6}}^{p_{2}p_{3}}t2_{p_{3}p_{2}}^{h_{4}h_{5}}t2_{p_{0}p_{1}}^{h_{6}h_{7}}\n + -0.03125 * v_{h_{6}h_{4}}^{p_{2}p_{3}}t2_{p_{2}p_{3}}^{h_{4}h_{5}}t2_{p_{0}p_{1}}^{h_{6}h_{7}}\n + 0.0625 * v_{h_{6}h_{4}}^{p_{2}p_{3}}t2_{p_{3}p_{2}}^{h_{4}h_{5}}t2_{p_{0}p_{1}}^{h_{6}h_{7}}\n + -0.03125 * v_{h_{4}h_{6}}^{p_{2}p_{3}}t2_{p_{1}p_{2}}^{h_{4}h_{5}}t2_{p_{3}p_{0}}^{h_{6}h_{7}}\n + 0.0625 * v_{h_{4}h_{6}}^{p_{2}p_{3}}t2_{p_{1}p_{3}}^{h_{4}h_{5}}t2_{p_{2}p_{0}}^{h_{6}h_{7}}\n + 0.0625 * v_{h_{6}h_{4}}^{p_{2}p_{3}}t2_{p_{1}p_{2}}^{h_{4}h_{5}}t2_{p_{3}p_{0}}^{h_{6}h_{7}}\n + -0.03125 * v_{h_{6}h_{4}}^{p_{2}p_{3}}t2_{p_{1}p_{3}}^{h_{4}h_{5}}t2_{p_{2}p_{0}}^{h_{6}h_{7}}\n + 0.0625 * v_{h_{4}h_{6}}^{p_{2}p_{3}}t2_{p_{2}p_{1}}^{h_{4}h_{5}}t2_{p_{3}p_{0}}^{h_{6}h_{7}}\n + -0.03125 * v_{h_{4}h_{6}}^{p_{2}p_{3}}t2_{p_{3}p_{1}}^{h_{4}h_{5}}t2_{p_{2}p_{0}}^{h_{6}h_{7}}\n + -0.03125 * v_{h_{6}h_{4}}^{p_{2}p_{3}}t2_{p_{2}p_{1}}^{h_{4}h_{5}}t2_{p_{3}p_{0}}^{h_{6}h_{7}}\n + 0.0625 * v_{h_{6}h_{4}}^{p_{2}p_{3}}t2_{p_{3}p_{1}}^{h_{4}h_{5}}t2_{p_{2}p_{0}}^{h_{6}h_{7}}\n + -0.125 * v_{h_{4}h_{6}}^{p_{2}p_{3}}t2_{p_{2}p_{3}}^{h_{4}h_{5}}t2_{p_{1}p_{0}}^{h_{6}h_{7}}\n + 0.0625 * v_{h_{4}h_{6}}^{p_{2}p_{3}}t2_{p_{3}p_{2}}^{h_{4}h_{5}}t2_{p_{1}p_{0}}^{h_{6}h_{7}}\n + 0.0625 * v_{h_{6}h_{4}}^{p_{2}p_{3}}t2_{p_{2}p_{3}}^{h_{4}h_{5}}t2_{p_{1}p_{0}}^{h_{6}h_{7}}\n + -0.125 * v_{h_{6}h_{4}}^{p_{2}p_{3}}t2_{p_{3}p_{2}}^{h_{4}h_{5}}t2_{p_{1}p_{0}}^{h_{6}h_{7}}\n + -0.03125 * v_{h_{4}h_{5}}^{p_{2}p_{3}}t2_{p_{0}p_{1}}^{h_{4}h_{5}}t2_{p_{2}p_{3}}^{h_{6}h_{7}}\n + 0.0625 * v_{h_{4}h_{5}}^{p_{2}p_{3}}t2_{p_{0}p_{1}}^{h_{4}h_{5}}t2_{p_{3}p_{2}}^{h_{6}h_{7}}\n + 0.0625 * v_{h_{5}h_{4}}^{p_{2}p_{3}}t2_{p_{0}p_{1}}^{h_{4}h_{5}}t2_{p_{2}p_{3}}^{h_{6}h_{7}}\n + -0.03125 * v_{h_{5}h_{4}}^{p_{2}p_{3}}t2_{p_{0}p_{1}}^{h_{4}h_{5}}t2_{p_{3}p_{2}}^{h_{6}h_{7}}\n + 0.0625 * v_{h_{4}h_{5}}^{p_{2}p_{3}}t2_{p_{0}p_{2}}^{h_{4}h_{5}}t2_{p_{1}p_{3}}^{h_{6}h_{7}}\n + -0.125 * v_{h_{4}h_{5}}^{p_{2}p_{3}}t2_{p_{0}p_{3}}^{h_{4}h_{5}}t2_{p_{1}p_{2}}^{h_{6}h_{7}}\n + -0.125 * v_{h_{5}h_{4}}^{p_{2}p_{3}}t2_{p_{0}p_{2}}^{h_{4}h_{5}}t2_{p_{1}p_{3}}^{h_{6}h_{7}}\n + 0.0625 * v_{h_{5}h_{4}}^{p_{2}p_{3}}t2_{p_{0}p_{3}}^{h_{4}h_{5}}t2_{p_{1}p_{2}}^{h_{6}h_{7}}\n + -0.03125 * v_{h_{4}h_{5}}^{p_{2}p_{3}}t2_{p_{0}p_{2}}^{h_{4}h_{5}}t2_{p_{3}p_{1}}^{h_{6}h_{7}}\n + 0.0625 * v_{h_{4}h_{5}}^{p_{2}p_{3}}t2_{p_{0}p_{3}}^{h_{4}h_{5}}t2_{p_{2}p_{1}}^{h_{6}h_{7}}\n + 0.0625 * v_{h_{5}h_{4}}^{p_{2}p_{3}}t2_{p_{0}p_{2}}^{h_{4}h_{5}}t2_{p_{3}p_{1}}^{h_{6}h_{7}}\n + -0.03125 * v_{h_{5}h_{4}}^{p_{2}p_{3}}t2_{p_{0}p_{3}}^{h_{4}h_{5}}t2_{p_{2}p_{1}}^{h_{6}h_{7}}\n + 0.0625 * v_{h_{4}h_{5}}^{p_{2}p_{3}}t2_{p_{1}p_{0}}^{h_{4}h_{5}}t2_{p_{2}p_{3}}^{h_{6}h_{7}}\n + -0.03125 * v_{h_{4}h_{5}}^{p_{2}p_{3}}t2_{p_{1}p_{0}}^{h_{4}h_{5}}t2_{p_{3}p_{2}}^{h_{6}h_{7}}\n + -0.03125 * v_{h_{5}h_{4}}^{p_{2}p_{3}}t2_{p_{1}p_{0}}^{h_{4}h_{5}}t2_{p_{2}p_{3}}^{h_{6}h_{7}}\n + 0.0625 * v_{h_{5}h_{4}}^{p_{2}p_{3}}t2_{p_{1}p_{0}}^{h_{4}h_{5}}t2_{p_{3}p_{2}}^{h_{6}h_{7}}\n + -0.125 * v_{h_{4}h_{5}}^{p_{2}p_{3}}t2_{p_{2}p_{0}}^{h_{4}h_{5}}t2_{p_{1}p_{3}}^{h_{6}h_{7}}\n + 0.0625 * v_{h_{4}h_{5}}^{p_{2}p_{3}}t2_{p_{3}p_{0}}^{h_{4}h_{5}}t2_{p_{1}p_{2}}^{h_{6}h_{7}}\n + 0.0625 * v_{h_{5}h_{4}}^{p_{2}p_{3}}t2_{p_{2}p_{0}}^{h_{4}h_{5}}t2_{p_{1}p_{3}}^{h_{6}h_{7}}\n + -0.125 * v_{h_{5}h_{4}}^{p_{2}p_{3}}t2_{p_{3}p_{0}}^{h_{4}h_{5}}t2_{p_{1}p_{2}}^{h_{6}h_{7}}\n + 0.0625 * v_{h_{4}h_{5}}^{p_{2}p_{3}}t2_{p_{2}p_{0}}^{h_{4}h_{5}}t2_{p_{3}p_{1}}^{h_{6}h_{7}}\n + -0.03125 * v_{h_{4}h_{5}}^{p_{2}p_{3}}t2_{p_{3}p_{0}}^{h_{4}h_{5}}t2_{p_{2}p_{1}}^{h_{6}h_{7}}\n + -0.03125 * v_{h_{5}h_{4}}^{p_{2}p_{3}}t2_{p_{2}p_{0}}^{h_{4}h_{5}}t2_{p_{3}p_{1}}^{h_{6}h_{7}}\n + 0.0625 * v_{h_{5}h_{4}}^{p_{2}p_{3}}t2_{p_{3}p_{0}}^{h_{4}h_{5}}t2_{p_{2}p_{1}}^{h_{6}h_{7}}\n + -0.03125 * v_{h_{4}h_{5}}^{p_{2}p_{3}}t2_{p_{1}p_{2}}^{h_{4}h_{5}}t2_{p_{0}p_{3}}^{h_{6}h_{7}}\n + 0.0625 * v_{h_{4}h_{5}}^{p_{2}p_{3}}t2_{p_{1}p_{3}}^{h_{4}h_{5}}t2_{p_{0}p_{2}}^{h_{6}h_{7}}\n + 0.0625 * v_{h_{5}h_{4}}^{p_{2}p_{3}}t2_{p_{1}p_{2}}^{h_{4}h_{5}}t2_{p_{0}p_{3}}^{h_{6}h_{7}}\n + -0.03125 * v_{h_{5}h_{4}}^{p_{2}p_{3}}t2_{p_{1}p_{3}}^{h_{4}h_{5}}t2_{p_{0}p_{2}}^{h_{6}h_{7}}\n + 0.0625 * v_{h_{4}h_{5}}^{p_{2}p_{3}}t2_{p_{2}p_{1}}^{h_{4}h_{5}}t2_{p_{0}p_{3}}^{h_{6}h_{7}}\n + -0.03125 * v_{h_{4}h_{5}}^{p_{2}p_{3}}t2_{p_{3}p_{1}}^{h_{4}h_{5}}t2_{p_{0}p_{2}}^{h_{6}h_{7}}\n + -0.03125 * v_{h_{5}h_{4}}^{p_{2}p_{3}}t2_{p_{2}p_{1}}^{h_{4}h_{5}}t2_{p_{0}p_{3}}^{h_{6}h_{7}}\n + 0.0625 * v_{h_{5}h_{4}}^{p_{2}p_{3}}t2_{p_{3}p_{1}}^{h_{4}h_{5}}t2_{p_{0}p_{2}}^{h_{6}h_{7}}\n + -0.125 * v_{h_{4}h_{5}}^{p_{2}p_{3}}t2_{p_{2}p_{3}}^{h_{4}h_{5}}t2_{p_{0}p_{1}}^{h_{6}h_{7}}\n + 0.0625 * v_{h_{4}h_{5}}^{p_{2}p_{3}}t2_{p_{3}p_{2}}^{h_{4}h_{5}}t2_{p_{0}p_{1}}^{h_{6}h_{7}}\n + 0.0625 * v_{h_{5}h_{4}}^{p_{2}p_{3}}t2_{p_{2}p_{3}}^{h_{4}h_{5}}t2_{p_{0}p_{1}}^{h_{6}h_{7}}\n + -0.125 * v_{h_{5}h_{4}}^{p_{2}p_{3}}t2_{p_{3}p_{2}}^{h_{4}h_{5}}t2_{p_{0}p_{1}}^{h_{6}h_{7}}\n + 0.0625 * v_{h_{4}h_{5}}^{p_{2}p_{3}}t2_{p_{1}p_{2}}^{h_{4}h_{5}}t2_{p_{3}p_{0}}^{h_{6}h_{7}}\n + -0.125 * v_{h_{4}h_{5}}^{p_{2}p_{3}}t2_{p_{1}p_{3}}^{h_{4}h_{5}}t2_{p_{2}p_{0}}^{h_{6}h_{7}}\n + -0.125 * v_{h_{5}h_{4}}^{p_{2}p_{3}}t2_{p_{1}p_{2}}^{h_{4}h_{5}}t2_{p_{3}p_{0}}^{h_{6}h_{7}}\n + 0.0625 * v_{h_{5}h_{4}}^{p_{2}p_{3}}t2_{p_{1}p_{3}}^{h_{4}h_{5}}t2_{p_{2}p_{0}}^{h_{6}h_{7}}\n + -0.125 * v_{h_{4}h_{5}}^{p_{2}p_{3}}t2_{p_{2}p_{1}}^{h_{4}h_{5}}t2_{p_{3}p_{0}}^{h_{6}h_{7}}\n + 0.0625 * v_{h_{4}h_{5}}^{p_{2}p_{3}}t2_{p_{3}p_{1}}^{h_{4}h_{5}}t2_{p_{2}p_{0}}^{h_{6}h_{7}}\n + 0.0625 * v_{h_{5}h_{4}}^{p_{2}p_{3}}t2_{p_{2}p_{1}}^{h_{4}h_{5}}t2_{p_{3}p_{0}}^{h_{6}h_{7}}\n + -0.125 * v_{h_{5}h_{4}}^{p_{2}p_{3}}t2_{p_{3}p_{1}}^{h_{4}h_{5}}t2_{p_{2}p_{0}}^{h_{6}h_{7}}\n + 0.25 * v_{h_{4}h_{5}}^{p_{2}p_{3}}t2_{p_{2}p_{3}}^{h_{4}h_{5}}t2_{p_{1}p_{0}}^{h_{6}h_{7}}\n + -0.125 * v_{h_{4}h_{5}}^{p_{2}p_{3}}t2_{p_{3}p_{2}}^{h_{4}h_{5}}t2_{p_{1}p_{0}}^{h_{6}h_{7}}\n + -0.125 * v_{h_{5}h_{4}}^{p_{2}p_{3}}t2_{p_{2}p_{3}}^{h_{4}h_{5}}t2_{p_{1}p_{0}}^{h_{6}h_{7}}\n + 0.25 * v_{h_{5}h_{4}}^{p_{2}p_{3}}t2_{p_{3}p_{2}}^{h_{4}h_{5}}t2_{p_{1}p_{0}}^{h_{6}h_{7}}\n + -0.25 * t2_{p_{0}p_{1}}^{h_{2}h_{3}}v_{h_{6}h_{7}}^{p_{4}p_{5}}t2_{p_{4}p_{5}}^{h_{6}h_{7}}\n + 0.125 * t2_{p_{0}p_{1}}^{h_{2}h_{3}}v_{h_{6}h_{7}}^{p_{4}p_{5}}t2_{p_{5}p_{4}}^{h_{6}h_{7}}\n + 0.125 * t2_{p_{0}p_{1}}^{h_{2}h_{3}}v_{h_{7}h_{6}}^{p_{4}p_{5}}t2_{p_{4}p_{5}}^{h_{6}h_{7}}\n + -0.25 * t2_{p_{0}p_{1}}^{h_{2}h_{3}}v_{h_{7}h_{6}}^{p_{4}p_{5}}t2_{p_{5}p_{4}}^{h_{6}h_{7}}\n + 0.125 * t2_{p_{1}p_{0}}^{h_{2}h_{3}}v_{h_{6}h_{7}}^{p_{4}p_{5}}t2_{p_{4}p_{5}}^{h_{6}h_{7}}\n + -0.0625 * t2_{p_{1}p_{0}}^{h_{2}h_{3}}v_{h_{6}h_{7}}^{p_{4}p_{5}}t2_{p_{5}p_{4}}^{h_{6}h_{7}}\n + -0.0625 * t2_{p_{1}p_{0}}^{h_{2}h_{3}}v_{h_{7}h_{6}}^{p_{4}p_{5}}t2_{p_{4}p_{5}}^{h_{6}h_{7}}\n + 0.125 * t2_{p_{1}p_{0}}^{h_{2}h_{3}}v_{h_{7}h_{6}}^{p_{4}p_{5}}t2_{p_{5}p_{4}}^{h_{6}h_{7}}\n + 0.125 * t2_{p_{0}p_{1}}^{h_{2}h_{3}}v_{h_{6}h_{7}}^{p_{4}p_{5}}t2_{p_{4}p_{5}}^{h_{6}h_{7}}\n + -0.0625 * t2_{p_{0}p_{1}}^{h_{2}h_{3}}v_{h_{6}h_{7}}^{p_{4}p_{5}}t2_{p_{5}p_{4}}^{h_{6}h_{7}}\n + -0.0625 * t2_{p_{0}p_{1}}^{h_{2}h_{3}}v_{h_{7}h_{6}}^{p_{4}p_{5}}t2_{p_{4}p_{5}}^{h_{6}h_{7}}\n + 0.125 * t2_{p_{0}p_{1}}^{h_{2}h_{3}}v_{h_{7}h_{6}}^{p_{4}p_{5}}t2_{p_{5}p_{4}}^{h_{6}h_{7}}\n + -0.25 * t2_{p_{1}p_{0}}^{h_{2}h_{3}}v_{h_{6}h_{7}}^{p_{4}p_{5}}t2_{p_{4}p_{5}}^{h_{6}h_{7}}\n + 0.125 * t2_{p_{1}p_{0}}^{h_{2}h_{3}}v_{h_{6}h_{7}}^{p_{4}p_{5}}t2_{p_{5}p_{4}}^{h_{6}h_{7}}\n + 0.125 * t2_{p_{1}p_{0}}^{h_{2}h_{3}}v_{h_{7}h_{6}}^{p_{4}p_{5}}t2_{p_{4}p_{5}}^{h_{6}h_{7}}\n + -0.25 * t2_{p_{1}p_{0}}^{h_{2}h_{3}}v_{h_{7}h_{6}}^{p_{4}p_{5}}t2_{p_{5}p_{4}}^{h_{6}h_{7}}\n + -0.25 * t2_{p_{0}p_{1}}^{h_{2}h_{3}}v_{h_{6}h_{7}}^{p_{4}p_{5}}t2_{p_{4}p_{5}}^{h_{6}h_{7}}\n + 0.125 * t2_{p_{0}p_{1}}^{h_{2}h_{3}}v_{h_{6}h_{7}}^{p_{4}p_{5}}t2_{p_{5}p_{4}}^{h_{6}h_{7}}\n + 0.125 * t2_{p_{0}p_{1}}^{h_{2}h_{3}}v_{h_{7}h_{6}}^{p_{4}p_{5}}t2_{p_{4}p_{5}}^{h_{6}h_{7}}\n + -0.25 * t2_{p_{0}p_{1}}^{h_{2}h_{3}}v_{h_{7}h_{6}}^{p_{4}p_{5}}t2_{p_{5}p_{4}}^{h_{6}h_{7}}\n + 0.125 * t2_{p_{1}p_{0}}^{h_{2}h_{3}}v_{h_{6}h_{7}}^{p_{4}p_{5}}t2_{p_{4}p_{5}}^{h_{6}h_{7}}\n + -0.0625 * t2_{p_{1}p_{0}}^{h_{2}h_{3}}v_{h_{6}h_{7}}^{p_{4}p_{5}}t2_{p_{5}p_{4}}^{h_{6}h_{7}}\n + -0.0625 * t2_{p_{1}p_{0}}^{h_{2}h_{3}}v_{h_{7}h_{6}}^{p_{4}p_{5}}t2_{p_{4}p_{5}}^{h_{6}h_{7}}\n + 0.125 * t2_{p_{1}p_{0}}^{h_{2}h_{3}}v_{h_{7}h_{6}}^{p_{4}p_{5}}t2_{p_{5}p_{4}}^{h_{6}h_{7}}\n + 0.125 * t2_{p_{0}p_{1}}^{h_{2}h_{3}}v_{h_{6}h_{7}}^{p_{4}p_{5}}t2_{p_{4}p_{5}}^{h_{6}h_{7}}\n + -0.0625 * t2_{p_{0}p_{1}}^{h_{2}h_{3}}v_{h_{6}h_{7}}^{p_{4}p_{5}}t2_{p_{5}p_{4}}^{h_{6}h_{7}}\n + -0.0625 * t2_{p_{0}p_{1}}^{h_{2}h_{3}}v_{h_{7}h_{6}}^{p_{4}p_{5}}t2_{p_{4}p_{5}}^{h_{6}h_{7}}\n + 0.125 * t2_{p_{0}p_{1}}^{h_{2}h_{3}}v_{h_{7}h_{6}}^{p_{4}p_{5}}t2_{p_{5}p_{4}}^{h_{6}h_{7}}\n + -0.25 * t2_{p_{1}p_{0}}^{h_{2}h_{3}}v_{h_{6}h_{7}}^{p_{4}p_{5}}t2_{p_{4}p_{5}}^{h_{6}h_{7}}\n + 0.125 * t2_{p_{1}p_{0}}^{h_{2}h_{3}}v_{h_{6}h_{7}}^{p_{4}p_{5}}t2_{p_{5}p_{4}}^{h_{6}h_{7}}\n + 0.125 * t2_{p_{1}p_{0}}^{h_{2}h_{3}}v_{h_{7}h_{6}}^{p_{4}p_{5}}t2_{p_{4}p_{5}}^{h_{6}h_{7}}\n + -0.25 * t2_{p_{1}p_{0}}^{h_{2}h_{3}}v_{h_{7}h_{6}}^{p_{4}p_{5}}t2_{p_{5}p_{4}}^{h_{6}h_{7}}\n"
     ]
    }
   ],
   "source": [
    "print(testCCDDoublesResidual)"
   ]
  },
  {
   "cell_type": "code",
   "execution_count": 190,
   "metadata": {},
   "outputs": [],
   "source": [
    "CCDDoublesResidualSummandList = [s for s in (projectionManifold(2) * transformH).summandList if (s.vertexList[0].lowerIndices == [('h_{0}', True), ('h_{1}', True)] and s.vertexList[0].upperIndices == [('p_{0}', False), ('p_{1}', False)])]"
   ]
  },
  {
   "cell_type": "code",
   "execution_count": 191,
   "metadata": {},
   "outputs": [
    {
     "output_type": "stream",
     "name": "stdout",
     "text": [
      "0.25 * \\Phi_{h_{0}h_{1}}^{p_{0}p_{1}}f_{p_{2}}^{p_{3}}t2_{p_{4}p_{5}}^{h_{2}h_{3}}\n + -0.25 * \\Phi_{h_{0}h_{1}}^{p_{0}p_{1}}t2_{p_{2}p_{3}}^{h_{2}h_{3}}f_{p_{4}}^{p_{5}}\n + 1.0 * \\Phi_{h_{0}h_{1}}^{p_{0}p_{1}}f_{p_{2}}^{p_{3}}\n + 0.03125 * \\Phi_{h_{0}h_{1}}^{p_{0}p_{1}}f_{p_{2}}^{p_{3}}t2_{p_{4}p_{5}}^{h_{2}h_{3}}t2_{p_{6}p_{7}}^{h_{4}h_{5}}\n + -0.03125 * \\Phi_{h_{0}h_{1}}^{p_{0}p_{1}}t2_{p_{2}p_{3}}^{h_{2}h_{3}}f_{p_{4}}^{p_{5}}t2_{p_{6}p_{7}}^{h_{4}h_{5}}\n + -0.03125 * \\Phi_{h_{0}h_{1}}^{p_{0}p_{1}}t2_{p_{2}p_{3}}^{h_{2}h_{3}}f_{p_{4}}^{p_{5}}t2_{p_{6}p_{7}}^{h_{4}h_{5}}\n + 0.03125 * \\Phi_{h_{0}h_{1}}^{p_{0}p_{1}}t2_{p_{2}p_{3}}^{h_{2}h_{3}}t2_{p_{4}p_{5}}^{h_{4}h_{5}}f_{p_{6}}^{p_{7}}\n + 0.0026041666666666665 * \\Phi_{h_{0}h_{1}}^{p_{0}p_{1}}f_{p_{2}}^{p_{3}}t2_{p_{4}p_{5}}^{h_{2}h_{3}}t2_{p_{6}p_{7}}^{h_{4}h_{5}}t2_{p_{8}p_{9}}^{h_{6}h_{7}}\n + -0.0026041666666666665 * \\Phi_{h_{0}h_{1}}^{p_{0}p_{1}}t2_{p_{2}p_{3}}^{h_{2}h_{3}}f_{p_{4}}^{p_{5}}t2_{p_{6}p_{7}}^{h_{4}h_{5}}t2_{p_{8}p_{9}}^{h_{6}h_{7}}\n + -0.0026041666666666665 * \\Phi_{h_{0}h_{1}}^{p_{0}p_{1}}t2_{p_{2}p_{3}}^{h_{2}h_{3}}f_{p_{4}}^{p_{5}}t2_{p_{6}p_{7}}^{h_{4}h_{5}}t2_{p_{8}p_{9}}^{h_{6}h_{7}}\n + 0.0026041666666666665 * \\Phi_{h_{0}h_{1}}^{p_{0}p_{1}}t2_{p_{2}p_{3}}^{h_{2}h_{3}}t2_{p_{4}p_{5}}^{h_{4}h_{5}}f_{p_{6}}^{p_{7}}t2_{p_{8}p_{9}}^{h_{6}h_{7}}\n + -0.0026041666666666665 * \\Phi_{h_{0}h_{1}}^{p_{0}p_{1}}t2_{p_{2}p_{3}}^{h_{2}h_{3}}f_{p_{4}}^{p_{5}}t2_{p_{6}p_{7}}^{h_{4}h_{5}}t2_{p_{8}p_{9}}^{h_{6}h_{7}}\n + 0.0026041666666666665 * \\Phi_{h_{0}h_{1}}^{p_{0}p_{1}}t2_{p_{2}p_{3}}^{h_{2}h_{3}}t2_{p_{4}p_{5}}^{h_{4}h_{5}}f_{p_{6}}^{p_{7}}t2_{p_{8}p_{9}}^{h_{6}h_{7}}\n + 0.0026041666666666665 * \\Phi_{h_{0}h_{1}}^{p_{0}p_{1}}t2_{p_{2}p_{3}}^{h_{2}h_{3}}t2_{p_{4}p_{5}}^{h_{4}h_{5}}f_{p_{6}}^{p_{7}}t2_{p_{8}p_{9}}^{h_{6}h_{7}}\n + -0.0026041666666666665 * \\Phi_{h_{0}h_{1}}^{p_{0}p_{1}}t2_{p_{2}p_{3}}^{h_{2}h_{3}}t2_{p_{4}p_{5}}^{h_{4}h_{5}}t2_{p_{6}p_{7}}^{h_{6}h_{7}}f_{p_{8}}^{p_{9}}\n + 0.00016276041666666666 * \\Phi_{h_{0}h_{1}}^{p_{0}p_{1}}f_{p_{2}}^{p_{3}}t2_{p_{4}p_{5}}^{h_{2}h_{3}}t2_{p_{6}p_{7}}^{h_{4}h_{5}}t2_{p_{8}p_{9}}^{h_{6}h_{7}}t2_{p_{10}p_{11}}^{h_{8}h_{9}}\n + -0.00016276041666666666 * \\Phi_{h_{0}h_{1}}^{p_{0}p_{1}}t2_{p_{2}p_{3}}^{h_{2}h_{3}}f_{p_{4}}^{p_{5}}t2_{p_{6}p_{7}}^{h_{4}h_{5}}t2_{p_{8}p_{9}}^{h_{6}h_{7}}t2_{p_{10}p_{11}}^{h_{8}h_{9}}\n + -0.00016276041666666666 * \\Phi_{h_{0}h_{1}}^{p_{0}p_{1}}t2_{p_{2}p_{3}}^{h_{2}h_{3}}f_{p_{4}}^{p_{5}}t2_{p_{6}p_{7}}^{h_{4}h_{5}}t2_{p_{8}p_{9}}^{h_{6}h_{7}}t2_{p_{10}p_{11}}^{h_{8}h_{9}}\n + 0.00016276041666666666 * \\Phi_{h_{0}h_{1}}^{p_{0}p_{1}}t2_{p_{2}p_{3}}^{h_{2}h_{3}}t2_{p_{4}p_{5}}^{h_{4}h_{5}}f_{p_{6}}^{p_{7}}t2_{p_{8}p_{9}}^{h_{6}h_{7}}t2_{p_{10}p_{11}}^{h_{8}h_{9}}\n + -0.00016276041666666666 * \\Phi_{h_{0}h_{1}}^{p_{0}p_{1}}t2_{p_{2}p_{3}}^{h_{2}h_{3}}f_{p_{4}}^{p_{5}}t2_{p_{6}p_{7}}^{h_{4}h_{5}}t2_{p_{8}p_{9}}^{h_{6}h_{7}}t2_{p_{10}p_{11}}^{h_{8}h_{9}}\n + 0.00016276041666666666 * \\Phi_{h_{0}h_{1}}^{p_{0}p_{1}}t2_{p_{2}p_{3}}^{h_{2}h_{3}}t2_{p_{4}p_{5}}^{h_{4}h_{5}}f_{p_{6}}^{p_{7}}t2_{p_{8}p_{9}}^{h_{6}h_{7}}t2_{p_{10}p_{11}}^{h_{8}h_{9}}\n + 0.00016276041666666666 * \\Phi_{h_{0}h_{1}}^{p_{0}p_{1}}t2_{p_{2}p_{3}}^{h_{2}h_{3}}t2_{p_{4}p_{5}}^{h_{4}h_{5}}f_{p_{6}}^{p_{7}}t2_{p_{8}p_{9}}^{h_{6}h_{7}}t2_{p_{10}p_{11}}^{h_{8}h_{9}}\n + -0.00016276041666666666 * \\Phi_{h_{0}h_{1}}^{p_{0}p_{1}}t2_{p_{2}p_{3}}^{h_{2}h_{3}}t2_{p_{4}p_{5}}^{h_{4}h_{5}}t2_{p_{6}p_{7}}^{h_{6}h_{7}}f_{p_{8}}^{p_{9}}t2_{p_{10}p_{11}}^{h_{8}h_{9}}\n + -0.00016276041666666666 * \\Phi_{h_{0}h_{1}}^{p_{0}p_{1}}t2_{p_{2}p_{3}}^{h_{2}h_{3}}f_{p_{4}}^{p_{5}}t2_{p_{6}p_{7}}^{h_{4}h_{5}}t2_{p_{8}p_{9}}^{h_{6}h_{7}}t2_{p_{10}p_{11}}^{h_{8}h_{9}}\n + 0.00016276041666666666 * \\Phi_{h_{0}h_{1}}^{p_{0}p_{1}}t2_{p_{2}p_{3}}^{h_{2}h_{3}}t2_{p_{4}p_{5}}^{h_{4}h_{5}}f_{p_{6}}^{p_{7}}t2_{p_{8}p_{9}}^{h_{6}h_{7}}t2_{p_{10}p_{11}}^{h_{8}h_{9}}\n + 0.00016276041666666666 * \\Phi_{h_{0}h_{1}}^{p_{0}p_{1}}t2_{p_{2}p_{3}}^{h_{2}h_{3}}t2_{p_{4}p_{5}}^{h_{4}h_{5}}f_{p_{6}}^{p_{7}}t2_{p_{8}p_{9}}^{h_{6}h_{7}}t2_{p_{10}p_{11}}^{h_{8}h_{9}}\n + -0.00016276041666666666 * \\Phi_{h_{0}h_{1}}^{p_{0}p_{1}}t2_{p_{2}p_{3}}^{h_{2}h_{3}}t2_{p_{4}p_{5}}^{h_{4}h_{5}}t2_{p_{6}p_{7}}^{h_{6}h_{7}}f_{p_{8}}^{p_{9}}t2_{p_{10}p_{11}}^{h_{8}h_{9}}\n + 0.00016276041666666666 * \\Phi_{h_{0}h_{1}}^{p_{0}p_{1}}t2_{p_{2}p_{3}}^{h_{2}h_{3}}t2_{p_{4}p_{5}}^{h_{4}h_{5}}f_{p_{6}}^{p_{7}}t2_{p_{8}p_{9}}^{h_{6}h_{7}}t2_{p_{10}p_{11}}^{h_{8}h_{9}}\n + -0.00016276041666666666 * \\Phi_{h_{0}h_{1}}^{p_{0}p_{1}}t2_{p_{2}p_{3}}^{h_{2}h_{3}}t2_{p_{4}p_{5}}^{h_{4}h_{5}}t2_{p_{6}p_{7}}^{h_{6}h_{7}}f_{p_{8}}^{p_{9}}t2_{p_{10}p_{11}}^{h_{8}h_{9}}\n + -0.00016276041666666666 * \\Phi_{h_{0}h_{1}}^{p_{0}p_{1}}t2_{p_{2}p_{3}}^{h_{2}h_{3}}t2_{p_{4}p_{5}}^{h_{4}h_{5}}t2_{p_{6}p_{7}}^{h_{6}h_{7}}f_{p_{8}}^{p_{9}}t2_{p_{10}p_{11}}^{h_{8}h_{9}}\n + 0.00016276041666666666 * \\Phi_{h_{0}h_{1}}^{p_{0}p_{1}}t2_{p_{2}p_{3}}^{h_{2}h_{3}}t2_{p_{4}p_{5}}^{h_{4}h_{5}}t2_{p_{6}p_{7}}^{h_{6}h_{7}}t2_{p_{8}p_{9}}^{h_{8}h_{9}}f_{p_{10}}^{p_{11}}\n + 0.25 * \\Phi_{h_{0}h_{1}}^{p_{0}p_{1}}f_{p_{2}}^{h_{2}}t2_{p_{3}p_{4}}^{h_{3}h_{4}}\n + -0.25 * \\Phi_{h_{0}h_{1}}^{p_{0}p_{1}}t2_{p_{2}p_{3}}^{h_{2}h_{3}}f_{p_{4}}^{h_{4}}\n + 1.0 * \\Phi_{h_{0}h_{1}}^{p_{0}p_{1}}f_{p_{2}}^{h_{2}}\n + 0.03125 * \\Phi_{h_{0}h_{1}}^{p_{0}p_{1}}f_{p_{2}}^{h_{2}}t2_{p_{3}p_{4}}^{h_{3}h_{4}}t2_{p_{5}p_{6}}^{h_{5}h_{6}}\n + -0.03125 * \\Phi_{h_{0}h_{1}}^{p_{0}p_{1}}t2_{p_{2}p_{3}}^{h_{2}h_{3}}f_{p_{4}}^{h_{4}}t2_{p_{5}p_{6}}^{h_{5}h_{6}}\n + -0.03125 * \\Phi_{h_{0}h_{1}}^{p_{0}p_{1}}t2_{p_{2}p_{3}}^{h_{2}h_{3}}f_{p_{4}}^{h_{4}}t2_{p_{5}p_{6}}^{h_{5}h_{6}}\n + 0.03125 * \\Phi_{h_{0}h_{1}}^{p_{0}p_{1}}t2_{p_{2}p_{3}}^{h_{2}h_{3}}t2_{p_{4}p_{5}}^{h_{4}h_{5}}f_{p_{6}}^{h_{6}}\n + 0.0026041666666666665 * \\Phi_{h_{0}h_{1}}^{p_{0}p_{1}}f_{p_{2}}^{h_{2}}t2_{p_{3}p_{4}}^{h_{3}h_{4}}t2_{p_{5}p_{6}}^{h_{5}h_{6}}t2_{p_{7}p_{8}}^{h_{7}h_{8}}\n + -0.0026041666666666665 * \\Phi_{h_{0}h_{1}}^{p_{0}p_{1}}t2_{p_{2}p_{3}}^{h_{2}h_{3}}f_{p_{4}}^{h_{4}}t2_{p_{5}p_{6}}^{h_{5}h_{6}}t2_{p_{7}p_{8}}^{h_{7}h_{8}}\n + -0.0026041666666666665 * \\Phi_{h_{0}h_{1}}^{p_{0}p_{1}}t2_{p_{2}p_{3}}^{h_{2}h_{3}}f_{p_{4}}^{h_{4}}t2_{p_{5}p_{6}}^{h_{5}h_{6}}t2_{p_{7}p_{8}}^{h_{7}h_{8}}\n + 0.0026041666666666665 * \\Phi_{h_{0}h_{1}}^{p_{0}p_{1}}t2_{p_{2}p_{3}}^{h_{2}h_{3}}t2_{p_{4}p_{5}}^{h_{4}h_{5}}f_{p_{6}}^{h_{6}}t2_{p_{7}p_{8}}^{h_{7}h_{8}}\n + -0.0026041666666666665 * \\Phi_{h_{0}h_{1}}^{p_{0}p_{1}}t2_{p_{2}p_{3}}^{h_{2}h_{3}}f_{p_{4}}^{h_{4}}t2_{p_{5}p_{6}}^{h_{5}h_{6}}t2_{p_{7}p_{8}}^{h_{7}h_{8}}\n + 0.0026041666666666665 * \\Phi_{h_{0}h_{1}}^{p_{0}p_{1}}t2_{p_{2}p_{3}}^{h_{2}h_{3}}t2_{p_{4}p_{5}}^{h_{4}h_{5}}f_{p_{6}}^{h_{6}}t2_{p_{7}p_{8}}^{h_{7}h_{8}}\n + 0.0026041666666666665 * \\Phi_{h_{0}h_{1}}^{p_{0}p_{1}}t2_{p_{2}p_{3}}^{h_{2}h_{3}}t2_{p_{4}p_{5}}^{h_{4}h_{5}}f_{p_{6}}^{h_{6}}t2_{p_{7}p_{8}}^{h_{7}h_{8}}\n + -0.0026041666666666665 * \\Phi_{h_{0}h_{1}}^{p_{0}p_{1}}t2_{p_{2}p_{3}}^{h_{2}h_{3}}t2_{p_{4}p_{5}}^{h_{4}h_{5}}t2_{p_{6}p_{7}}^{h_{6}h_{7}}f_{p_{8}}^{h_{8}}\n + 0.00016276041666666666 * \\Phi_{h_{0}h_{1}}^{p_{0}p_{1}}f_{p_{2}}^{h_{2}}t2_{p_{3}p_{4}}^{h_{3}h_{4}}t2_{p_{5}p_{6}}^{h_{5}h_{6}}t2_{p_{7}p_{8}}^{h_{7}h_{8}}t2_{p_{9}p_{10}}^{h_{9}h_{10}}\n + -0.00016276041666666666 * \\Phi_{h_{0}h_{1}}^{p_{0}p_{1}}t2_{p_{2}p_{3}}^{h_{2}h_{3}}f_{p_{4}}^{h_{4}}t2_{p_{5}p_{6}}^{h_{5}h_{6}}t2_{p_{7}p_{8}}^{h_{7}h_{8}}t2_{p_{9}p_{10}}^{h_{9}h_{10}}\n + -0.00016276041666666666 * \\Phi_{h_{0}h_{1}}^{p_{0}p_{1}}t2_{p_{2}p_{3}}^{h_{2}h_{3}}f_{p_{4}}^{h_{4}}t2_{p_{5}p_{6}}^{h_{5}h_{6}}t2_{p_{7}p_{8}}^{h_{7}h_{8}}t2_{p_{9}p_{10}}^{h_{9}h_{10}}\n + 0.00016276041666666666 * \\Phi_{h_{0}h_{1}}^{p_{0}p_{1}}t2_{p_{2}p_{3}}^{h_{2}h_{3}}t2_{p_{4}p_{5}}^{h_{4}h_{5}}f_{p_{6}}^{h_{6}}t2_{p_{7}p_{8}}^{h_{7}h_{8}}t2_{p_{9}p_{10}}^{h_{9}h_{10}}\n + -0.00016276041666666666 * \\Phi_{h_{0}h_{1}}^{p_{0}p_{1}}t2_{p_{2}p_{3}}^{h_{2}h_{3}}f_{p_{4}}^{h_{4}}t2_{p_{5}p_{6}}^{h_{5}h_{6}}t2_{p_{7}p_{8}}^{h_{7}h_{8}}t2_{p_{9}p_{10}}^{h_{9}h_{10}}\n + 0.00016276041666666666 * \\Phi_{h_{0}h_{1}}^{p_{0}p_{1}}t2_{p_{2}p_{3}}^{h_{2}h_{3}}t2_{p_{4}p_{5}}^{h_{4}h_{5}}f_{p_{6}}^{h_{6}}t2_{p_{7}p_{8}}^{h_{7}h_{8}}t2_{p_{9}p_{10}}^{h_{9}h_{10}}\n + 0.00016276041666666666 * \\Phi_{h_{0}h_{1}}^{p_{0}p_{1}}t2_{p_{2}p_{3}}^{h_{2}h_{3}}t2_{p_{4}p_{5}}^{h_{4}h_{5}}f_{p_{6}}^{h_{6}}t2_{p_{7}p_{8}}^{h_{7}h_{8}}t2_{p_{9}p_{10}}^{h_{9}h_{10}}\n + -0.00016276041666666666 * \\Phi_{h_{0}h_{1}}^{p_{0}p_{1}}t2_{p_{2}p_{3}}^{h_{2}h_{3}}t2_{p_{4}p_{5}}^{h_{4}h_{5}}t2_{p_{6}p_{7}}^{h_{6}h_{7}}f_{p_{8}}^{h_{8}}t2_{p_{9}p_{10}}^{h_{9}h_{10}}\n + -0.00016276041666666666 * \\Phi_{h_{0}h_{1}}^{p_{0}p_{1}}t2_{p_{2}p_{3}}^{h_{2}h_{3}}f_{p_{4}}^{h_{4}}t2_{p_{5}p_{6}}^{h_{5}h_{6}}t2_{p_{7}p_{8}}^{h_{7}h_{8}}t2_{p_{9}p_{10}}^{h_{9}h_{10}}\n + 0.00016276041666666666 * \\Phi_{h_{0}h_{1}}^{p_{0}p_{1}}t2_{p_{2}p_{3}}^{h_{2}h_{3}}t2_{p_{4}p_{5}}^{h_{4}h_{5}}f_{p_{6}}^{h_{6}}t2_{p_{7}p_{8}}^{h_{7}h_{8}}t2_{p_{9}p_{10}}^{h_{9}h_{10}}\n + 0.00016276041666666666 * \\Phi_{h_{0}h_{1}}^{p_{0}p_{1}}t2_{p_{2}p_{3}}^{h_{2}h_{3}}t2_{p_{4}p_{5}}^{h_{4}h_{5}}f_{p_{6}}^{h_{6}}t2_{p_{7}p_{8}}^{h_{7}h_{8}}t2_{p_{9}p_{10}}^{h_{9}h_{10}}\n + -0.00016276041666666666 * \\Phi_{h_{0}h_{1}}^{p_{0}p_{1}}t2_{p_{2}p_{3}}^{h_{2}h_{3}}t2_{p_{4}p_{5}}^{h_{4}h_{5}}t2_{p_{6}p_{7}}^{h_{6}h_{7}}f_{p_{8}}^{h_{8}}t2_{p_{9}p_{10}}^{h_{9}h_{10}}\n + 0.00016276041666666666 * \\Phi_{h_{0}h_{1}}^{p_{0}p_{1}}t2_{p_{2}p_{3}}^{h_{2}h_{3}}t2_{p_{4}p_{5}}^{h_{4}h_{5}}f_{p_{6}}^{h_{6}}t2_{p_{7}p_{8}}^{h_{7}h_{8}}t2_{p_{9}p_{10}}^{h_{9}h_{10}}\n + -0.00016276041666666666 * \\Phi_{h_{0}h_{1}}^{p_{0}p_{1}}t2_{p_{2}p_{3}}^{h_{2}h_{3}}t2_{p_{4}p_{5}}^{h_{4}h_{5}}t2_{p_{6}p_{7}}^{h_{6}h_{7}}f_{p_{8}}^{h_{8}}t2_{p_{9}p_{10}}^{h_{9}h_{10}}\n + -0.00016276041666666666 * \\Phi_{h_{0}h_{1}}^{p_{0}p_{1}}t2_{p_{2}p_{3}}^{h_{2}h_{3}}t2_{p_{4}p_{5}}^{h_{4}h_{5}}t2_{p_{6}p_{7}}^{h_{6}h_{7}}f_{p_{8}}^{h_{8}}t2_{p_{9}p_{10}}^{h_{9}h_{10}}\n + 0.00016276041666666666 * \\Phi_{h_{0}h_{1}}^{p_{0}p_{1}}t2_{p_{2}p_{3}}^{h_{2}h_{3}}t2_{p_{4}p_{5}}^{h_{4}h_{5}}t2_{p_{6}p_{7}}^{h_{6}h_{7}}t2_{p_{8}p_{9}}^{h_{8}h_{9}}f_{p_{10}}^{h_{10}}\n + 0.25 * \\Phi_{h_{0}h_{1}}^{p_{0}p_{1}}f_{h_{2}}^{p_{2}}t2_{p_{3}p_{4}}^{h_{3}h_{4}}\n + -0.25 * \\Phi_{h_{0}h_{1}}^{p_{0}p_{1}}t2_{p_{2}p_{3}}^{h_{2}h_{3}}f_{h_{4}}^{p_{4}}\n + 1.0 * \\Phi_{h_{0}h_{1}}^{p_{0}p_{1}}f_{h_{2}}^{p_{2}}\n + 0.03125 * \\Phi_{h_{0}h_{1}}^{p_{0}p_{1}}f_{h_{2}}^{p_{2}}t2_{p_{3}p_{4}}^{h_{3}h_{4}}t2_{p_{5}p_{6}}^{h_{5}h_{6}}\n + -0.03125 * \\Phi_{h_{0}h_{1}}^{p_{0}p_{1}}t2_{p_{2}p_{3}}^{h_{2}h_{3}}f_{h_{4}}^{p_{4}}t2_{p_{5}p_{6}}^{h_{5}h_{6}}\n + -0.03125 * \\Phi_{h_{0}h_{1}}^{p_{0}p_{1}}t2_{p_{2}p_{3}}^{h_{2}h_{3}}f_{h_{4}}^{p_{4}}t2_{p_{5}p_{6}}^{h_{5}h_{6}}\n + 0.03125 * \\Phi_{h_{0}h_{1}}^{p_{0}p_{1}}t2_{p_{2}p_{3}}^{h_{2}h_{3}}t2_{p_{4}p_{5}}^{h_{4}h_{5}}f_{h_{6}}^{p_{6}}\n + 0.0026041666666666665 * \\Phi_{h_{0}h_{1}}^{p_{0}p_{1}}f_{h_{2}}^{p_{2}}t2_{p_{3}p_{4}}^{h_{3}h_{4}}t2_{p_{5}p_{6}}^{h_{5}h_{6}}t2_{p_{7}p_{8}}^{h_{7}h_{8}}\n + -0.0026041666666666665 * \\Phi_{h_{0}h_{1}}^{p_{0}p_{1}}t2_{p_{2}p_{3}}^{h_{2}h_{3}}f_{h_{4}}^{p_{4}}t2_{p_{5}p_{6}}^{h_{5}h_{6}}t2_{p_{7}p_{8}}^{h_{7}h_{8}}\n + -0.0026041666666666665 * \\Phi_{h_{0}h_{1}}^{p_{0}p_{1}}t2_{p_{2}p_{3}}^{h_{2}h_{3}}f_{h_{4}}^{p_{4}}t2_{p_{5}p_{6}}^{h_{5}h_{6}}t2_{p_{7}p_{8}}^{h_{7}h_{8}}\n + 0.0026041666666666665 * \\Phi_{h_{0}h_{1}}^{p_{0}p_{1}}t2_{p_{2}p_{3}}^{h_{2}h_{3}}t2_{p_{4}p_{5}}^{h_{4}h_{5}}f_{h_{6}}^{p_{6}}t2_{p_{7}p_{8}}^{h_{7}h_{8}}\n + -0.0026041666666666665 * \\Phi_{h_{0}h_{1}}^{p_{0}p_{1}}t2_{p_{2}p_{3}}^{h_{2}h_{3}}f_{h_{4}}^{p_{4}}t2_{p_{5}p_{6}}^{h_{5}h_{6}}t2_{p_{7}p_{8}}^{h_{7}h_{8}}\n + 0.0026041666666666665 * \\Phi_{h_{0}h_{1}}^{p_{0}p_{1}}t2_{p_{2}p_{3}}^{h_{2}h_{3}}t2_{p_{4}p_{5}}^{h_{4}h_{5}}f_{h_{6}}^{p_{6}}t2_{p_{7}p_{8}}^{h_{7}h_{8}}\n + 0.0026041666666666665 * \\Phi_{h_{0}h_{1}}^{p_{0}p_{1}}t2_{p_{2}p_{3}}^{h_{2}h_{3}}t2_{p_{4}p_{5}}^{h_{4}h_{5}}f_{h_{6}}^{p_{6}}t2_{p_{7}p_{8}}^{h_{7}h_{8}}\n + -0.0026041666666666665 * \\Phi_{h_{0}h_{1}}^{p_{0}p_{1}}t2_{p_{2}p_{3}}^{h_{2}h_{3}}t2_{p_{4}p_{5}}^{h_{4}h_{5}}t2_{p_{6}p_{7}}^{h_{6}h_{7}}f_{h_{8}}^{p_{8}}\n + 0.00016276041666666666 * \\Phi_{h_{0}h_{1}}^{p_{0}p_{1}}f_{h_{2}}^{p_{2}}t2_{p_{3}p_{4}}^{h_{3}h_{4}}t2_{p_{5}p_{6}}^{h_{5}h_{6}}t2_{p_{7}p_{8}}^{h_{7}h_{8}}t2_{p_{9}p_{10}}^{h_{9}h_{10}}\n + -0.00016276041666666666 * \\Phi_{h_{0}h_{1}}^{p_{0}p_{1}}t2_{p_{2}p_{3}}^{h_{2}h_{3}}f_{h_{4}}^{p_{4}}t2_{p_{5}p_{6}}^{h_{5}h_{6}}t2_{p_{7}p_{8}}^{h_{7}h_{8}}t2_{p_{9}p_{10}}^{h_{9}h_{10}}\n + -0.00016276041666666666 * \\Phi_{h_{0}h_{1}}^{p_{0}p_{1}}t2_{p_{2}p_{3}}^{h_{2}h_{3}}f_{h_{4}}^{p_{4}}t2_{p_{5}p_{6}}^{h_{5}h_{6}}t2_{p_{7}p_{8}}^{h_{7}h_{8}}t2_{p_{9}p_{10}}^{h_{9}h_{10}}\n + 0.00016276041666666666 * \\Phi_{h_{0}h_{1}}^{p_{0}p_{1}}t2_{p_{2}p_{3}}^{h_{2}h_{3}}t2_{p_{4}p_{5}}^{h_{4}h_{5}}f_{h_{6}}^{p_{6}}t2_{p_{7}p_{8}}^{h_{7}h_{8}}t2_{p_{9}p_{10}}^{h_{9}h_{10}}\n + -0.00016276041666666666 * \\Phi_{h_{0}h_{1}}^{p_{0}p_{1}}t2_{p_{2}p_{3}}^{h_{2}h_{3}}f_{h_{4}}^{p_{4}}t2_{p_{5}p_{6}}^{h_{5}h_{6}}t2_{p_{7}p_{8}}^{h_{7}h_{8}}t2_{p_{9}p_{10}}^{h_{9}h_{10}}\n + 0.00016276041666666666 * \\Phi_{h_{0}h_{1}}^{p_{0}p_{1}}t2_{p_{2}p_{3}}^{h_{2}h_{3}}t2_{p_{4}p_{5}}^{h_{4}h_{5}}f_{h_{6}}^{p_{6}}t2_{p_{7}p_{8}}^{h_{7}h_{8}}t2_{p_{9}p_{10}}^{h_{9}h_{10}}\n + 0.00016276041666666666 * \\Phi_{h_{0}h_{1}}^{p_{0}p_{1}}t2_{p_{2}p_{3}}^{h_{2}h_{3}}t2_{p_{4}p_{5}}^{h_{4}h_{5}}f_{h_{6}}^{p_{6}}t2_{p_{7}p_{8}}^{h_{7}h_{8}}t2_{p_{9}p_{10}}^{h_{9}h_{10}}\n + -0.00016276041666666666 * \\Phi_{h_{0}h_{1}}^{p_{0}p_{1}}t2_{p_{2}p_{3}}^{h_{2}h_{3}}t2_{p_{4}p_{5}}^{h_{4}h_{5}}t2_{p_{6}p_{7}}^{h_{6}h_{7}}f_{h_{8}}^{p_{8}}t2_{p_{9}p_{10}}^{h_{9}h_{10}}\n + -0.00016276041666666666 * \\Phi_{h_{0}h_{1}}^{p_{0}p_{1}}t2_{p_{2}p_{3}}^{h_{2}h_{3}}f_{h_{4}}^{p_{4}}t2_{p_{5}p_{6}}^{h_{5}h_{6}}t2_{p_{7}p_{8}}^{h_{7}h_{8}}t2_{p_{9}p_{10}}^{h_{9}h_{10}}\n + 0.00016276041666666666 * \\Phi_{h_{0}h_{1}}^{p_{0}p_{1}}t2_{p_{2}p_{3}}^{h_{2}h_{3}}t2_{p_{4}p_{5}}^{h_{4}h_{5}}f_{h_{6}}^{p_{6}}t2_{p_{7}p_{8}}^{h_{7}h_{8}}t2_{p_{9}p_{10}}^{h_{9}h_{10}}\n + 0.00016276041666666666 * \\Phi_{h_{0}h_{1}}^{p_{0}p_{1}}t2_{p_{2}p_{3}}^{h_{2}h_{3}}t2_{p_{4}p_{5}}^{h_{4}h_{5}}f_{h_{6}}^{p_{6}}t2_{p_{7}p_{8}}^{h_{7}h_{8}}t2_{p_{9}p_{10}}^{h_{9}h_{10}}\n + -0.00016276041666666666 * \\Phi_{h_{0}h_{1}}^{p_{0}p_{1}}t2_{p_{2}p_{3}}^{h_{2}h_{3}}t2_{p_{4}p_{5}}^{h_{4}h_{5}}t2_{p_{6}p_{7}}^{h_{6}h_{7}}f_{h_{8}}^{p_{8}}t2_{p_{9}p_{10}}^{h_{9}h_{10}}\n + 0.00016276041666666666 * \\Phi_{h_{0}h_{1}}^{p_{0}p_{1}}t2_{p_{2}p_{3}}^{h_{2}h_{3}}t2_{p_{4}p_{5}}^{h_{4}h_{5}}f_{h_{6}}^{p_{6}}t2_{p_{7}p_{8}}^{h_{7}h_{8}}t2_{p_{9}p_{10}}^{h_{9}h_{10}}\n + -0.00016276041666666666 * \\Phi_{h_{0}h_{1}}^{p_{0}p_{1}}t2_{p_{2}p_{3}}^{h_{2}h_{3}}t2_{p_{4}p_{5}}^{h_{4}h_{5}}t2_{p_{6}p_{7}}^{h_{6}h_{7}}f_{h_{8}}^{p_{8}}t2_{p_{9}p_{10}}^{h_{9}h_{10}}\n + -0.00016276041666666666 * \\Phi_{h_{0}h_{1}}^{p_{0}p_{1}}t2_{p_{2}p_{3}}^{h_{2}h_{3}}t2_{p_{4}p_{5}}^{h_{4}h_{5}}t2_{p_{6}p_{7}}^{h_{6}h_{7}}f_{h_{8}}^{p_{8}}t2_{p_{9}p_{10}}^{h_{9}h_{10}}\n + 0.00016276041666666666 * \\Phi_{h_{0}h_{1}}^{p_{0}p_{1}}t2_{p_{2}p_{3}}^{h_{2}h_{3}}t2_{p_{4}p_{5}}^{h_{4}h_{5}}t2_{p_{6}p_{7}}^{h_{6}h_{7}}t2_{p_{8}p_{9}}^{h_{8}h_{9}}f_{h_{10}}^{p_{10}}\n + 0.25 * \\Phi_{h_{0}h_{1}}^{p_{0}p_{1}}f_{h_{2}}^{h_{3}}t2_{p_{2}p_{3}}^{h_{4}h_{5}}\n + -0.25 * \\Phi_{h_{0}h_{1}}^{p_{0}p_{1}}t2_{p_{2}p_{3}}^{h_{2}h_{3}}f_{h_{4}}^{h_{5}}\n + 1.0 * \\Phi_{h_{0}h_{1}}^{p_{0}p_{1}}f_{h_{2}}^{h_{3}}\n + 0.03125 * \\Phi_{h_{0}h_{1}}^{p_{0}p_{1}}f_{h_{2}}^{h_{3}}t2_{p_{2}p_{3}}^{h_{4}h_{5}}t2_{p_{4}p_{5}}^{h_{6}h_{7}}\n + -0.03125 * \\Phi_{h_{0}h_{1}}^{p_{0}p_{1}}t2_{p_{2}p_{3}}^{h_{2}h_{3}}f_{h_{4}}^{h_{5}}t2_{p_{4}p_{5}}^{h_{6}h_{7}}\n + -0.03125 * \\Phi_{h_{0}h_{1}}^{p_{0}p_{1}}t2_{p_{2}p_{3}}^{h_{2}h_{3}}f_{h_{4}}^{h_{5}}t2_{p_{4}p_{5}}^{h_{6}h_{7}}\n + 0.03125 * \\Phi_{h_{0}h_{1}}^{p_{0}p_{1}}t2_{p_{2}p_{3}}^{h_{2}h_{3}}t2_{p_{4}p_{5}}^{h_{4}h_{5}}f_{h_{6}}^{h_{7}}\n + 0.0026041666666666665 * \\Phi_{h_{0}h_{1}}^{p_{0}p_{1}}f_{h_{2}}^{h_{3}}t2_{p_{2}p_{3}}^{h_{4}h_{5}}t2_{p_{4}p_{5}}^{h_{6}h_{7}}t2_{p_{6}p_{7}}^{h_{8}h_{9}}\n + -0.0026041666666666665 * \\Phi_{h_{0}h_{1}}^{p_{0}p_{1}}t2_{p_{2}p_{3}}^{h_{2}h_{3}}f_{h_{4}}^{h_{5}}t2_{p_{4}p_{5}}^{h_{6}h_{7}}t2_{p_{6}p_{7}}^{h_{8}h_{9}}\n + -0.0026041666666666665 * \\Phi_{h_{0}h_{1}}^{p_{0}p_{1}}t2_{p_{2}p_{3}}^{h_{2}h_{3}}f_{h_{4}}^{h_{5}}t2_{p_{4}p_{5}}^{h_{6}h_{7}}t2_{p_{6}p_{7}}^{h_{8}h_{9}}\n + 0.0026041666666666665 * \\Phi_{h_{0}h_{1}}^{p_{0}p_{1}}t2_{p_{2}p_{3}}^{h_{2}h_{3}}t2_{p_{4}p_{5}}^{h_{4}h_{5}}f_{h_{6}}^{h_{7}}t2_{p_{6}p_{7}}^{h_{8}h_{9}}\n + -0.0026041666666666665 * \\Phi_{h_{0}h_{1}}^{p_{0}p_{1}}t2_{p_{2}p_{3}}^{h_{2}h_{3}}f_{h_{4}}^{h_{5}}t2_{p_{4}p_{5}}^{h_{6}h_{7}}t2_{p_{6}p_{7}}^{h_{8}h_{9}}\n + 0.0026041666666666665 * \\Phi_{h_{0}h_{1}}^{p_{0}p_{1}}t2_{p_{2}p_{3}}^{h_{2}h_{3}}t2_{p_{4}p_{5}}^{h_{4}h_{5}}f_{h_{6}}^{h_{7}}t2_{p_{6}p_{7}}^{h_{8}h_{9}}\n + 0.0026041666666666665 * \\Phi_{h_{0}h_{1}}^{p_{0}p_{1}}t2_{p_{2}p_{3}}^{h_{2}h_{3}}t2_{p_{4}p_{5}}^{h_{4}h_{5}}f_{h_{6}}^{h_{7}}t2_{p_{6}p_{7}}^{h_{8}h_{9}}\n + -0.0026041666666666665 * \\Phi_{h_{0}h_{1}}^{p_{0}p_{1}}t2_{p_{2}p_{3}}^{h_{2}h_{3}}t2_{p_{4}p_{5}}^{h_{4}h_{5}}t2_{p_{6}p_{7}}^{h_{6}h_{7}}f_{h_{8}}^{h_{9}}\n + 0.00016276041666666666 * \\Phi_{h_{0}h_{1}}^{p_{0}p_{1}}f_{h_{2}}^{h_{3}}t2_{p_{2}p_{3}}^{h_{4}h_{5}}t2_{p_{4}p_{5}}^{h_{6}h_{7}}t2_{p_{6}p_{7}}^{h_{8}h_{9}}t2_{p_{8}p_{9}}^{h_{10}h_{11}}\n + -0.00016276041666666666 * \\Phi_{h_{0}h_{1}}^{p_{0}p_{1}}t2_{p_{2}p_{3}}^{h_{2}h_{3}}f_{h_{4}}^{h_{5}}t2_{p_{4}p_{5}}^{h_{6}h_{7}}t2_{p_{6}p_{7}}^{h_{8}h_{9}}t2_{p_{8}p_{9}}^{h_{10}h_{11}}\n + -0.00016276041666666666 * \\Phi_{h_{0}h_{1}}^{p_{0}p_{1}}t2_{p_{2}p_{3}}^{h_{2}h_{3}}f_{h_{4}}^{h_{5}}t2_{p_{4}p_{5}}^{h_{6}h_{7}}t2_{p_{6}p_{7}}^{h_{8}h_{9}}t2_{p_{8}p_{9}}^{h_{10}h_{11}}\n + 0.00016276041666666666 * \\Phi_{h_{0}h_{1}}^{p_{0}p_{1}}t2_{p_{2}p_{3}}^{h_{2}h_{3}}t2_{p_{4}p_{5}}^{h_{4}h_{5}}f_{h_{6}}^{h_{7}}t2_{p_{6}p_{7}}^{h_{8}h_{9}}t2_{p_{8}p_{9}}^{h_{10}h_{11}}\n + -0.00016276041666666666 * \\Phi_{h_{0}h_{1}}^{p_{0}p_{1}}t2_{p_{2}p_{3}}^{h_{2}h_{3}}f_{h_{4}}^{h_{5}}t2_{p_{4}p_{5}}^{h_{6}h_{7}}t2_{p_{6}p_{7}}^{h_{8}h_{9}}t2_{p_{8}p_{9}}^{h_{10}h_{11}}\n + 0.00016276041666666666 * \\Phi_{h_{0}h_{1}}^{p_{0}p_{1}}t2_{p_{2}p_{3}}^{h_{2}h_{3}}t2_{p_{4}p_{5}}^{h_{4}h_{5}}f_{h_{6}}^{h_{7}}t2_{p_{6}p_{7}}^{h_{8}h_{9}}t2_{p_{8}p_{9}}^{h_{10}h_{11}}\n + 0.00016276041666666666 * \\Phi_{h_{0}h_{1}}^{p_{0}p_{1}}t2_{p_{2}p_{3}}^{h_{2}h_{3}}t2_{p_{4}p_{5}}^{h_{4}h_{5}}f_{h_{6}}^{h_{7}}t2_{p_{6}p_{7}}^{h_{8}h_{9}}t2_{p_{8}p_{9}}^{h_{10}h_{11}}\n + -0.00016276041666666666 * \\Phi_{h_{0}h_{1}}^{p_{0}p_{1}}t2_{p_{2}p_{3}}^{h_{2}h_{3}}t2_{p_{4}p_{5}}^{h_{4}h_{5}}t2_{p_{6}p_{7}}^{h_{6}h_{7}}f_{h_{8}}^{h_{9}}t2_{p_{8}p_{9}}^{h_{10}h_{11}}\n + -0.00016276041666666666 * \\Phi_{h_{0}h_{1}}^{p_{0}p_{1}}t2_{p_{2}p_{3}}^{h_{2}h_{3}}f_{h_{4}}^{h_{5}}t2_{p_{4}p_{5}}^{h_{6}h_{7}}t2_{p_{6}p_{7}}^{h_{8}h_{9}}t2_{p_{8}p_{9}}^{h_{10}h_{11}}\n + 0.00016276041666666666 * \\Phi_{h_{0}h_{1}}^{p_{0}p_{1}}t2_{p_{2}p_{3}}^{h_{2}h_{3}}t2_{p_{4}p_{5}}^{h_{4}h_{5}}f_{h_{6}}^{h_{7}}t2_{p_{6}p_{7}}^{h_{8}h_{9}}t2_{p_{8}p_{9}}^{h_{10}h_{11}}\n + 0.00016276041666666666 * \\Phi_{h_{0}h_{1}}^{p_{0}p_{1}}t2_{p_{2}p_{3}}^{h_{2}h_{3}}t2_{p_{4}p_{5}}^{h_{4}h_{5}}f_{h_{6}}^{h_{7}}t2_{p_{6}p_{7}}^{h_{8}h_{9}}t2_{p_{8}p_{9}}^{h_{10}h_{11}}\n + -0.00016276041666666666 * \\Phi_{h_{0}h_{1}}^{p_{0}p_{1}}t2_{p_{2}p_{3}}^{h_{2}h_{3}}t2_{p_{4}p_{5}}^{h_{4}h_{5}}t2_{p_{6}p_{7}}^{h_{6}h_{7}}f_{h_{8}}^{h_{9}}t2_{p_{8}p_{9}}^{h_{10}h_{11}}\n + 0.00016276041666666666 * \\Phi_{h_{0}h_{1}}^{p_{0}p_{1}}t2_{p_{2}p_{3}}^{h_{2}h_{3}}t2_{p_{4}p_{5}}^{h_{4}h_{5}}f_{h_{6}}^{h_{7}}t2_{p_{6}p_{7}}^{h_{8}h_{9}}t2_{p_{8}p_{9}}^{h_{10}h_{11}}\n + -0.00016276041666666666 * \\Phi_{h_{0}h_{1}}^{p_{0}p_{1}}t2_{p_{2}p_{3}}^{h_{2}h_{3}}t2_{p_{4}p_{5}}^{h_{4}h_{5}}t2_{p_{6}p_{7}}^{h_{6}h_{7}}f_{h_{8}}^{h_{9}}t2_{p_{8}p_{9}}^{h_{10}h_{11}}\n + -0.00016276041666666666 * \\Phi_{h_{0}h_{1}}^{p_{0}p_{1}}t2_{p_{2}p_{3}}^{h_{2}h_{3}}t2_{p_{4}p_{5}}^{h_{4}h_{5}}t2_{p_{6}p_{7}}^{h_{6}h_{7}}f_{h_{8}}^{h_{9}}t2_{p_{8}p_{9}}^{h_{10}h_{11}}\n + 0.00016276041666666666 * \\Phi_{h_{0}h_{1}}^{p_{0}p_{1}}t2_{p_{2}p_{3}}^{h_{2}h_{3}}t2_{p_{4}p_{5}}^{h_{4}h_{5}}t2_{p_{6}p_{7}}^{h_{6}h_{7}}t2_{p_{8}p_{9}}^{h_{8}h_{9}}f_{h_{10}}^{h_{11}}\n + 0.5 * \\Phi_{h_{0}h_{1}}^{p_{0}p_{1}}v_{p_{2}p_{3}}^{p_{4}p_{5}}\n + 0.125 * \\Phi_{h_{0}h_{1}}^{p_{0}p_{1}}v_{p_{2}p_{3}}^{p_{4}p_{5}}t2_{p_{6}p_{7}}^{h_{2}h_{3}}\n + -0.125 * \\Phi_{h_{0}h_{1}}^{p_{0}p_{1}}t2_{p_{2}p_{3}}^{h_{2}h_{3}}v_{p_{4}p_{5}}^{p_{6}p_{7}}\n + 0.015625 * \\Phi_{h_{0}h_{1}}^{p_{0}p_{1}}v_{p_{2}p_{3}}^{p_{4}p_{5}}t2_{p_{6}p_{7}}^{h_{2}h_{3}}t2_{p_{8}p_{9}}^{h_{4}h_{5}}\n + -0.015625 * \\Phi_{h_{0}h_{1}}^{p_{0}p_{1}}t2_{p_{2}p_{3}}^{h_{2}h_{3}}v_{p_{4}p_{5}}^{p_{6}p_{7}}t2_{p_{8}p_{9}}^{h_{4}h_{5}}\n + -0.015625 * \\Phi_{h_{0}h_{1}}^{p_{0}p_{1}}t2_{p_{2}p_{3}}^{h_{2}h_{3}}v_{p_{4}p_{5}}^{p_{6}p_{7}}t2_{p_{8}p_{9}}^{h_{4}h_{5}}\n + 0.015625 * \\Phi_{h_{0}h_{1}}^{p_{0}p_{1}}t2_{p_{2}p_{3}}^{h_{2}h_{3}}t2_{p_{4}p_{5}}^{h_{4}h_{5}}v_{p_{6}p_{7}}^{p_{8}p_{9}}\n + 0.0013020833333333333 * \\Phi_{h_{0}h_{1}}^{p_{0}p_{1}}v_{p_{2}p_{3}}^{p_{4}p_{5}}t2_{p_{6}p_{7}}^{h_{2}h_{3}}t2_{p_{8}p_{9}}^{h_{4}h_{5}}t2_{p_{10}p_{11}}^{h_{6}h_{7}}\n + -0.0013020833333333333 * \\Phi_{h_{0}h_{1}}^{p_{0}p_{1}}t2_{p_{2}p_{3}}^{h_{2}h_{3}}v_{p_{4}p_{5}}^{p_{6}p_{7}}t2_{p_{8}p_{9}}^{h_{4}h_{5}}t2_{p_{10}p_{11}}^{h_{6}h_{7}}\n + -0.0013020833333333333 * \\Phi_{h_{0}h_{1}}^{p_{0}p_{1}}t2_{p_{2}p_{3}}^{h_{2}h_{3}}v_{p_{4}p_{5}}^{p_{6}p_{7}}t2_{p_{8}p_{9}}^{h_{4}h_{5}}t2_{p_{10}p_{11}}^{h_{6}h_{7}}\n + 0.0013020833333333333 * \\Phi_{h_{0}h_{1}}^{p_{0}p_{1}}t2_{p_{2}p_{3}}^{h_{2}h_{3}}t2_{p_{4}p_{5}}^{h_{4}h_{5}}v_{p_{6}p_{7}}^{p_{8}p_{9}}t2_{p_{10}p_{11}}^{h_{6}h_{7}}\n + -0.0013020833333333333 * \\Phi_{h_{0}h_{1}}^{p_{0}p_{1}}t2_{p_{2}p_{3}}^{h_{2}h_{3}}v_{p_{4}p_{5}}^{p_{6}p_{7}}t2_{p_{8}p_{9}}^{h_{4}h_{5}}t2_{p_{10}p_{11}}^{h_{6}h_{7}}\n + 0.0013020833333333333 * \\Phi_{h_{0}h_{1}}^{p_{0}p_{1}}t2_{p_{2}p_{3}}^{h_{2}h_{3}}t2_{p_{4}p_{5}}^{h_{4}h_{5}}v_{p_{6}p_{7}}^{p_{8}p_{9}}t2_{p_{10}p_{11}}^{h_{6}h_{7}}\n + 0.0013020833333333333 * \\Phi_{h_{0}h_{1}}^{p_{0}p_{1}}t2_{p_{2}p_{3}}^{h_{2}h_{3}}t2_{p_{4}p_{5}}^{h_{4}h_{5}}v_{p_{6}p_{7}}^{p_{8}p_{9}}t2_{p_{10}p_{11}}^{h_{6}h_{7}}\n + -0.0013020833333333333 * \\Phi_{h_{0}h_{1}}^{p_{0}p_{1}}t2_{p_{2}p_{3}}^{h_{2}h_{3}}t2_{p_{4}p_{5}}^{h_{4}h_{5}}t2_{p_{6}p_{7}}^{h_{6}h_{7}}v_{p_{8}p_{9}}^{p_{10}p_{11}}\n + 8.138020833333333e-05 * \\Phi_{h_{0}h_{1}}^{p_{0}p_{1}}v_{p_{2}p_{3}}^{p_{4}p_{5}}t2_{p_{6}p_{7}}^{h_{2}h_{3}}t2_{p_{8}p_{9}}^{h_{4}h_{5}}t2_{p_{10}p_{11}}^{h_{6}h_{7}}t2_{p_{12}p_{13}}^{h_{8}h_{9}}\n + -8.138020833333333e-05 * \\Phi_{h_{0}h_{1}}^{p_{0}p_{1}}t2_{p_{2}p_{3}}^{h_{2}h_{3}}v_{p_{4}p_{5}}^{p_{6}p_{7}}t2_{p_{8}p_{9}}^{h_{4}h_{5}}t2_{p_{10}p_{11}}^{h_{6}h_{7}}t2_{p_{12}p_{13}}^{h_{8}h_{9}}\n + -8.138020833333333e-05 * \\Phi_{h_{0}h_{1}}^{p_{0}p_{1}}t2_{p_{2}p_{3}}^{h_{2}h_{3}}v_{p_{4}p_{5}}^{p_{6}p_{7}}t2_{p_{8}p_{9}}^{h_{4}h_{5}}t2_{p_{10}p_{11}}^{h_{6}h_{7}}t2_{p_{12}p_{13}}^{h_{8}h_{9}}\n + 8.138020833333333e-05 * \\Phi_{h_{0}h_{1}}^{p_{0}p_{1}}t2_{p_{2}p_{3}}^{h_{2}h_{3}}t2_{p_{4}p_{5}}^{h_{4}h_{5}}v_{p_{6}p_{7}}^{p_{8}p_{9}}t2_{p_{10}p_{11}}^{h_{6}h_{7}}t2_{p_{12}p_{13}}^{h_{8}h_{9}}\n + -8.138020833333333e-05 * \\Phi_{h_{0}h_{1}}^{p_{0}p_{1}}t2_{p_{2}p_{3}}^{h_{2}h_{3}}v_{p_{4}p_{5}}^{p_{6}p_{7}}t2_{p_{8}p_{9}}^{h_{4}h_{5}}t2_{p_{10}p_{11}}^{h_{6}h_{7}}t2_{p_{12}p_{13}}^{h_{8}h_{9}}\n + 8.138020833333333e-05 * \\Phi_{h_{0}h_{1}}^{p_{0}p_{1}}t2_{p_{2}p_{3}}^{h_{2}h_{3}}t2_{p_{4}p_{5}}^{h_{4}h_{5}}v_{p_{6}p_{7}}^{p_{8}p_{9}}t2_{p_{10}p_{11}}^{h_{6}h_{7}}t2_{p_{12}p_{13}}^{h_{8}h_{9}}\n + 8.138020833333333e-05 * \\Phi_{h_{0}h_{1}}^{p_{0}p_{1}}t2_{p_{2}p_{3}}^{h_{2}h_{3}}t2_{p_{4}p_{5}}^{h_{4}h_{5}}v_{p_{6}p_{7}}^{p_{8}p_{9}}t2_{p_{10}p_{11}}^{h_{6}h_{7}}t2_{p_{12}p_{13}}^{h_{8}h_{9}}\n + -8.138020833333333e-05 * \\Phi_{h_{0}h_{1}}^{p_{0}p_{1}}t2_{p_{2}p_{3}}^{h_{2}h_{3}}t2_{p_{4}p_{5}}^{h_{4}h_{5}}t2_{p_{6}p_{7}}^{h_{6}h_{7}}v_{p_{8}p_{9}}^{p_{10}p_{11}}t2_{p_{12}p_{13}}^{h_{8}h_{9}}\n + -8.138020833333333e-05 * \\Phi_{h_{0}h_{1}}^{p_{0}p_{1}}t2_{p_{2}p_{3}}^{h_{2}h_{3}}v_{p_{4}p_{5}}^{p_{6}p_{7}}t2_{p_{8}p_{9}}^{h_{4}h_{5}}t2_{p_{10}p_{11}}^{h_{6}h_{7}}t2_{p_{12}p_{13}}^{h_{8}h_{9}}\n + 8.138020833333333e-05 * \\Phi_{h_{0}h_{1}}^{p_{0}p_{1}}t2_{p_{2}p_{3}}^{h_{2}h_{3}}t2_{p_{4}p_{5}}^{h_{4}h_{5}}v_{p_{6}p_{7}}^{p_{8}p_{9}}t2_{p_{10}p_{11}}^{h_{6}h_{7}}t2_{p_{12}p_{13}}^{h_{8}h_{9}}\n + 8.138020833333333e-05 * \\Phi_{h_{0}h_{1}}^{p_{0}p_{1}}t2_{p_{2}p_{3}}^{h_{2}h_{3}}t2_{p_{4}p_{5}}^{h_{4}h_{5}}v_{p_{6}p_{7}}^{p_{8}p_{9}}t2_{p_{10}p_{11}}^{h_{6}h_{7}}t2_{p_{12}p_{13}}^{h_{8}h_{9}}\n + -8.138020833333333e-05 * \\Phi_{h_{0}h_{1}}^{p_{0}p_{1}}t2_{p_{2}p_{3}}^{h_{2}h_{3}}t2_{p_{4}p_{5}}^{h_{4}h_{5}}t2_{p_{6}p_{7}}^{h_{6}h_{7}}v_{p_{8}p_{9}}^{p_{10}p_{11}}t2_{p_{12}p_{13}}^{h_{8}h_{9}}\n + 8.138020833333333e-05 * \\Phi_{h_{0}h_{1}}^{p_{0}p_{1}}t2_{p_{2}p_{3}}^{h_{2}h_{3}}t2_{p_{4}p_{5}}^{h_{4}h_{5}}v_{p_{6}p_{7}}^{p_{8}p_{9}}t2_{p_{10}p_{11}}^{h_{6}h_{7}}t2_{p_{12}p_{13}}^{h_{8}h_{9}}\n + -8.138020833333333e-05 * \\Phi_{h_{0}h_{1}}^{p_{0}p_{1}}t2_{p_{2}p_{3}}^{h_{2}h_{3}}t2_{p_{4}p_{5}}^{h_{4}h_{5}}t2_{p_{6}p_{7}}^{h_{6}h_{7}}v_{p_{8}p_{9}}^{p_{10}p_{11}}t2_{p_{12}p_{13}}^{h_{8}h_{9}}\n + -8.138020833333333e-05 * \\Phi_{h_{0}h_{1}}^{p_{0}p_{1}}t2_{p_{2}p_{3}}^{h_{2}h_{3}}t2_{p_{4}p_{5}}^{h_{4}h_{5}}t2_{p_{6}p_{7}}^{h_{6}h_{7}}v_{p_{8}p_{9}}^{p_{10}p_{11}}t2_{p_{12}p_{13}}^{h_{8}h_{9}}\n + 8.138020833333333e-05 * \\Phi_{h_{0}h_{1}}^{p_{0}p_{1}}t2_{p_{2}p_{3}}^{h_{2}h_{3}}t2_{p_{4}p_{5}}^{h_{4}h_{5}}t2_{p_{6}p_{7}}^{h_{6}h_{7}}t2_{p_{8}p_{9}}^{h_{8}h_{9}}v_{p_{10}p_{11}}^{p_{12}p_{13}}\n + 0.5 * \\Phi_{h_{0}h_{1}}^{p_{0}p_{1}}v_{h_{2}h_{3}}^{h_{4}h_{5}}\n + 0.125 * \\Phi_{h_{0}h_{1}}^{p_{0}p_{1}}v_{h_{2}h_{3}}^{h_{4}h_{5}}t2_{p_{2}p_{3}}^{h_{6}h_{7}}\n + -0.125 * \\Phi_{h_{0}h_{1}}^{p_{0}p_{1}}t2_{p_{2}p_{3}}^{h_{2}h_{3}}v_{h_{4}h_{5}}^{h_{6}h_{7}}\n + 0.015625 * \\Phi_{h_{0}h_{1}}^{p_{0}p_{1}}v_{h_{2}h_{3}}^{h_{4}h_{5}}t2_{p_{2}p_{3}}^{h_{6}h_{7}}t2_{p_{4}p_{5}}^{h_{8}h_{9}}\n + -0.015625 * \\Phi_{h_{0}h_{1}}^{p_{0}p_{1}}t2_{p_{2}p_{3}}^{h_{2}h_{3}}v_{h_{4}h_{5}}^{h_{6}h_{7}}t2_{p_{4}p_{5}}^{h_{8}h_{9}}\n + -0.015625 * \\Phi_{h_{0}h_{1}}^{p_{0}p_{1}}t2_{p_{2}p_{3}}^{h_{2}h_{3}}v_{h_{4}h_{5}}^{h_{6}h_{7}}t2_{p_{4}p_{5}}^{h_{8}h_{9}}\n + 0.015625 * \\Phi_{h_{0}h_{1}}^{p_{0}p_{1}}t2_{p_{2}p_{3}}^{h_{2}h_{3}}t2_{p_{4}p_{5}}^{h_{4}h_{5}}v_{h_{6}h_{7}}^{h_{8}h_{9}}\n + 0.0013020833333333333 * \\Phi_{h_{0}h_{1}}^{p_{0}p_{1}}v_{h_{2}h_{3}}^{h_{4}h_{5}}t2_{p_{2}p_{3}}^{h_{6}h_{7}}t2_{p_{4}p_{5}}^{h_{8}h_{9}}t2_{p_{6}p_{7}}^{h_{10}h_{11}}\n + -0.0013020833333333333 * \\Phi_{h_{0}h_{1}}^{p_{0}p_{1}}t2_{p_{2}p_{3}}^{h_{2}h_{3}}v_{h_{4}h_{5}}^{h_{6}h_{7}}t2_{p_{4}p_{5}}^{h_{8}h_{9}}t2_{p_{6}p_{7}}^{h_{10}h_{11}}\n + -0.0013020833333333333 * \\Phi_{h_{0}h_{1}}^{p_{0}p_{1}}t2_{p_{2}p_{3}}^{h_{2}h_{3}}v_{h_{4}h_{5}}^{h_{6}h_{7}}t2_{p_{4}p_{5}}^{h_{8}h_{9}}t2_{p_{6}p_{7}}^{h_{10}h_{11}}\n + 0.0013020833333333333 * \\Phi_{h_{0}h_{1}}^{p_{0}p_{1}}t2_{p_{2}p_{3}}^{h_{2}h_{3}}t2_{p_{4}p_{5}}^{h_{4}h_{5}}v_{h_{6}h_{7}}^{h_{8}h_{9}}t2_{p_{6}p_{7}}^{h_{10}h_{11}}\n + -0.0013020833333333333 * \\Phi_{h_{0}h_{1}}^{p_{0}p_{1}}t2_{p_{2}p_{3}}^{h_{2}h_{3}}v_{h_{4}h_{5}}^{h_{6}h_{7}}t2_{p_{4}p_{5}}^{h_{8}h_{9}}t2_{p_{6}p_{7}}^{h_{10}h_{11}}\n + 0.0013020833333333333 * \\Phi_{h_{0}h_{1}}^{p_{0}p_{1}}t2_{p_{2}p_{3}}^{h_{2}h_{3}}t2_{p_{4}p_{5}}^{h_{4}h_{5}}v_{h_{6}h_{7}}^{h_{8}h_{9}}t2_{p_{6}p_{7}}^{h_{10}h_{11}}\n + 0.0013020833333333333 * \\Phi_{h_{0}h_{1}}^{p_{0}p_{1}}t2_{p_{2}p_{3}}^{h_{2}h_{3}}t2_{p_{4}p_{5}}^{h_{4}h_{5}}v_{h_{6}h_{7}}^{h_{8}h_{9}}t2_{p_{6}p_{7}}^{h_{10}h_{11}}\n + -0.0013020833333333333 * \\Phi_{h_{0}h_{1}}^{p_{0}p_{1}}t2_{p_{2}p_{3}}^{h_{2}h_{3}}t2_{p_{4}p_{5}}^{h_{4}h_{5}}t2_{p_{6}p_{7}}^{h_{6}h_{7}}v_{h_{8}h_{9}}^{h_{10}h_{11}}\n + 8.138020833333333e-05 * \\Phi_{h_{0}h_{1}}^{p_{0}p_{1}}v_{h_{2}h_{3}}^{h_{4}h_{5}}t2_{p_{2}p_{3}}^{h_{6}h_{7}}t2_{p_{4}p_{5}}^{h_{8}h_{9}}t2_{p_{6}p_{7}}^{h_{10}h_{11}}t2_{p_{8}p_{9}}^{h_{12}h_{13}}\n + -8.138020833333333e-05 * \\Phi_{h_{0}h_{1}}^{p_{0}p_{1}}t2_{p_{2}p_{3}}^{h_{2}h_{3}}v_{h_{4}h_{5}}^{h_{6}h_{7}}t2_{p_{4}p_{5}}^{h_{8}h_{9}}t2_{p_{6}p_{7}}^{h_{10}h_{11}}t2_{p_{8}p_{9}}^{h_{12}h_{13}}\n + -8.138020833333333e-05 * \\Phi_{h_{0}h_{1}}^{p_{0}p_{1}}t2_{p_{2}p_{3}}^{h_{2}h_{3}}v_{h_{4}h_{5}}^{h_{6}h_{7}}t2_{p_{4}p_{5}}^{h_{8}h_{9}}t2_{p_{6}p_{7}}^{h_{10}h_{11}}t2_{p_{8}p_{9}}^{h_{12}h_{13}}\n + 8.138020833333333e-05 * \\Phi_{h_{0}h_{1}}^{p_{0}p_{1}}t2_{p_{2}p_{3}}^{h_{2}h_{3}}t2_{p_{4}p_{5}}^{h_{4}h_{5}}v_{h_{6}h_{7}}^{h_{8}h_{9}}t2_{p_{6}p_{7}}^{h_{10}h_{11}}t2_{p_{8}p_{9}}^{h_{12}h_{13}}\n + -8.138020833333333e-05 * \\Phi_{h_{0}h_{1}}^{p_{0}p_{1}}t2_{p_{2}p_{3}}^{h_{2}h_{3}}v_{h_{4}h_{5}}^{h_{6}h_{7}}t2_{p_{4}p_{5}}^{h_{8}h_{9}}t2_{p_{6}p_{7}}^{h_{10}h_{11}}t2_{p_{8}p_{9}}^{h_{12}h_{13}}\n + 8.138020833333333e-05 * \\Phi_{h_{0}h_{1}}^{p_{0}p_{1}}t2_{p_{2}p_{3}}^{h_{2}h_{3}}t2_{p_{4}p_{5}}^{h_{4}h_{5}}v_{h_{6}h_{7}}^{h_{8}h_{9}}t2_{p_{6}p_{7}}^{h_{10}h_{11}}t2_{p_{8}p_{9}}^{h_{12}h_{13}}\n + 8.138020833333333e-05 * \\Phi_{h_{0}h_{1}}^{p_{0}p_{1}}t2_{p_{2}p_{3}}^{h_{2}h_{3}}t2_{p_{4}p_{5}}^{h_{4}h_{5}}v_{h_{6}h_{7}}^{h_{8}h_{9}}t2_{p_{6}p_{7}}^{h_{10}h_{11}}t2_{p_{8}p_{9}}^{h_{12}h_{13}}\n + -8.138020833333333e-05 * \\Phi_{h_{0}h_{1}}^{p_{0}p_{1}}t2_{p_{2}p_{3}}^{h_{2}h_{3}}t2_{p_{4}p_{5}}^{h_{4}h_{5}}t2_{p_{6}p_{7}}^{h_{6}h_{7}}v_{h_{8}h_{9}}^{h_{10}h_{11}}t2_{p_{8}p_{9}}^{h_{12}h_{13}}\n + -8.138020833333333e-05 * \\Phi_{h_{0}h_{1}}^{p_{0}p_{1}}t2_{p_{2}p_{3}}^{h_{2}h_{3}}v_{h_{4}h_{5}}^{h_{6}h_{7}}t2_{p_{4}p_{5}}^{h_{8}h_{9}}t2_{p_{6}p_{7}}^{h_{10}h_{11}}t2_{p_{8}p_{9}}^{h_{12}h_{13}}\n + 8.138020833333333e-05 * \\Phi_{h_{0}h_{1}}^{p_{0}p_{1}}t2_{p_{2}p_{3}}^{h_{2}h_{3}}t2_{p_{4}p_{5}}^{h_{4}h_{5}}v_{h_{6}h_{7}}^{h_{8}h_{9}}t2_{p_{6}p_{7}}^{h_{10}h_{11}}t2_{p_{8}p_{9}}^{h_{12}h_{13}}\n + 8.138020833333333e-05 * \\Phi_{h_{0}h_{1}}^{p_{0}p_{1}}t2_{p_{2}p_{3}}^{h_{2}h_{3}}t2_{p_{4}p_{5}}^{h_{4}h_{5}}v_{h_{6}h_{7}}^{h_{8}h_{9}}t2_{p_{6}p_{7}}^{h_{10}h_{11}}t2_{p_{8}p_{9}}^{h_{12}h_{13}}\n + -8.138020833333333e-05 * \\Phi_{h_{0}h_{1}}^{p_{0}p_{1}}t2_{p_{2}p_{3}}^{h_{2}h_{3}}t2_{p_{4}p_{5}}^{h_{4}h_{5}}t2_{p_{6}p_{7}}^{h_{6}h_{7}}v_{h_{8}h_{9}}^{h_{10}h_{11}}t2_{p_{8}p_{9}}^{h_{12}h_{13}}\n + 8.138020833333333e-05 * \\Phi_{h_{0}h_{1}}^{p_{0}p_{1}}t2_{p_{2}p_{3}}^{h_{2}h_{3}}t2_{p_{4}p_{5}}^{h_{4}h_{5}}v_{h_{6}h_{7}}^{h_{8}h_{9}}t2_{p_{6}p_{7}}^{h_{10}h_{11}}t2_{p_{8}p_{9}}^{h_{12}h_{13}}\n + -8.138020833333333e-05 * \\Phi_{h_{0}h_{1}}^{p_{0}p_{1}}t2_{p_{2}p_{3}}^{h_{2}h_{3}}t2_{p_{4}p_{5}}^{h_{4}h_{5}}t2_{p_{6}p_{7}}^{h_{6}h_{7}}v_{h_{8}h_{9}}^{h_{10}h_{11}}t2_{p_{8}p_{9}}^{h_{12}h_{13}}\n + -8.138020833333333e-05 * \\Phi_{h_{0}h_{1}}^{p_{0}p_{1}}t2_{p_{2}p_{3}}^{h_{2}h_{3}}t2_{p_{4}p_{5}}^{h_{4}h_{5}}t2_{p_{6}p_{7}}^{h_{6}h_{7}}v_{h_{8}h_{9}}^{h_{10}h_{11}}t2_{p_{8}p_{9}}^{h_{12}h_{13}}\n + 8.138020833333333e-05 * \\Phi_{h_{0}h_{1}}^{p_{0}p_{1}}t2_{p_{2}p_{3}}^{h_{2}h_{3}}t2_{p_{4}p_{5}}^{h_{4}h_{5}}t2_{p_{6}p_{7}}^{h_{6}h_{7}}t2_{p_{8}p_{9}}^{h_{8}h_{9}}v_{h_{10}h_{11}}^{h_{12}h_{13}}\n + 0.5 * \\Phi_{h_{0}h_{1}}^{p_{0}p_{1}}v_{h_{2}p_{2}}^{p_{3}h_{3}}\n + 0.125 * \\Phi_{h_{0}h_{1}}^{p_{0}p_{1}}v_{h_{2}p_{2}}^{p_{3}h_{3}}t2_{p_{4}p_{5}}^{h_{4}h_{5}}\n + -0.125 * \\Phi_{h_{0}h_{1}}^{p_{0}p_{1}}t2_{p_{2}p_{3}}^{h_{2}h_{3}}v_{h_{4}p_{4}}^{p_{5}h_{5}}\n + 0.015625 * \\Phi_{h_{0}h_{1}}^{p_{0}p_{1}}v_{h_{2}p_{2}}^{p_{3}h_{3}}t2_{p_{4}p_{5}}^{h_{4}h_{5}}t2_{p_{6}p_{7}}^{h_{6}h_{7}}\n + -0.015625 * \\Phi_{h_{0}h_{1}}^{p_{0}p_{1}}t2_{p_{2}p_{3}}^{h_{2}h_{3}}v_{h_{4}p_{4}}^{p_{5}h_{5}}t2_{p_{6}p_{7}}^{h_{6}h_{7}}\n + -0.015625 * \\Phi_{h_{0}h_{1}}^{p_{0}p_{1}}t2_{p_{2}p_{3}}^{h_{2}h_{3}}v_{h_{4}p_{4}}^{p_{5}h_{5}}t2_{p_{6}p_{7}}^{h_{6}h_{7}}\n + 0.015625 * \\Phi_{h_{0}h_{1}}^{p_{0}p_{1}}t2_{p_{2}p_{3}}^{h_{2}h_{3}}t2_{p_{4}p_{5}}^{h_{4}h_{5}}v_{h_{6}p_{6}}^{p_{7}h_{7}}\n + 0.0013020833333333333 * \\Phi_{h_{0}h_{1}}^{p_{0}p_{1}}v_{h_{2}p_{2}}^{p_{3}h_{3}}t2_{p_{4}p_{5}}^{h_{4}h_{5}}t2_{p_{6}p_{7}}^{h_{6}h_{7}}t2_{p_{8}p_{9}}^{h_{8}h_{9}}\n + -0.0013020833333333333 * \\Phi_{h_{0}h_{1}}^{p_{0}p_{1}}t2_{p_{2}p_{3}}^{h_{2}h_{3}}v_{h_{4}p_{4}}^{p_{5}h_{5}}t2_{p_{6}p_{7}}^{h_{6}h_{7}}t2_{p_{8}p_{9}}^{h_{8}h_{9}}\n + -0.0013020833333333333 * \\Phi_{h_{0}h_{1}}^{p_{0}p_{1}}t2_{p_{2}p_{3}}^{h_{2}h_{3}}v_{h_{4}p_{4}}^{p_{5}h_{5}}t2_{p_{6}p_{7}}^{h_{6}h_{7}}t2_{p_{8}p_{9}}^{h_{8}h_{9}}\n + 0.0013020833333333333 * \\Phi_{h_{0}h_{1}}^{p_{0}p_{1}}t2_{p_{2}p_{3}}^{h_{2}h_{3}}t2_{p_{4}p_{5}}^{h_{4}h_{5}}v_{h_{6}p_{6}}^{p_{7}h_{7}}t2_{p_{8}p_{9}}^{h_{8}h_{9}}\n + -0.0013020833333333333 * \\Phi_{h_{0}h_{1}}^{p_{0}p_{1}}t2_{p_{2}p_{3}}^{h_{2}h_{3}}v_{h_{4}p_{4}}^{p_{5}h_{5}}t2_{p_{6}p_{7}}^{h_{6}h_{7}}t2_{p_{8}p_{9}}^{h_{8}h_{9}}\n + 0.0013020833333333333 * \\Phi_{h_{0}h_{1}}^{p_{0}p_{1}}t2_{p_{2}p_{3}}^{h_{2}h_{3}}t2_{p_{4}p_{5}}^{h_{4}h_{5}}v_{h_{6}p_{6}}^{p_{7}h_{7}}t2_{p_{8}p_{9}}^{h_{8}h_{9}}\n + 0.0013020833333333333 * \\Phi_{h_{0}h_{1}}^{p_{0}p_{1}}t2_{p_{2}p_{3}}^{h_{2}h_{3}}t2_{p_{4}p_{5}}^{h_{4}h_{5}}v_{h_{6}p_{6}}^{p_{7}h_{7}}t2_{p_{8}p_{9}}^{h_{8}h_{9}}\n + -0.0013020833333333333 * \\Phi_{h_{0}h_{1}}^{p_{0}p_{1}}t2_{p_{2}p_{3}}^{h_{2}h_{3}}t2_{p_{4}p_{5}}^{h_{4}h_{5}}t2_{p_{6}p_{7}}^{h_{6}h_{7}}v_{h_{8}p_{8}}^{p_{9}h_{9}}\n + 8.138020833333333e-05 * \\Phi_{h_{0}h_{1}}^{p_{0}p_{1}}v_{h_{2}p_{2}}^{p_{3}h_{3}}t2_{p_{4}p_{5}}^{h_{4}h_{5}}t2_{p_{6}p_{7}}^{h_{6}h_{7}}t2_{p_{8}p_{9}}^{h_{8}h_{9}}t2_{p_{10}p_{11}}^{h_{10}h_{11}}\n + -8.138020833333333e-05 * \\Phi_{h_{0}h_{1}}^{p_{0}p_{1}}t2_{p_{2}p_{3}}^{h_{2}h_{3}}v_{h_{4}p_{4}}^{p_{5}h_{5}}t2_{p_{6}p_{7}}^{h_{6}h_{7}}t2_{p_{8}p_{9}}^{h_{8}h_{9}}t2_{p_{10}p_{11}}^{h_{10}h_{11}}\n + -8.138020833333333e-05 * \\Phi_{h_{0}h_{1}}^{p_{0}p_{1}}t2_{p_{2}p_{3}}^{h_{2}h_{3}}v_{h_{4}p_{4}}^{p_{5}h_{5}}t2_{p_{6}p_{7}}^{h_{6}h_{7}}t2_{p_{8}p_{9}}^{h_{8}h_{9}}t2_{p_{10}p_{11}}^{h_{10}h_{11}}\n + 8.138020833333333e-05 * \\Phi_{h_{0}h_{1}}^{p_{0}p_{1}}t2_{p_{2}p_{3}}^{h_{2}h_{3}}t2_{p_{4}p_{5}}^{h_{4}h_{5}}v_{h_{6}p_{6}}^{p_{7}h_{7}}t2_{p_{8}p_{9}}^{h_{8}h_{9}}t2_{p_{10}p_{11}}^{h_{10}h_{11}}\n + -8.138020833333333e-05 * \\Phi_{h_{0}h_{1}}^{p_{0}p_{1}}t2_{p_{2}p_{3}}^{h_{2}h_{3}}v_{h_{4}p_{4}}^{p_{5}h_{5}}t2_{p_{6}p_{7}}^{h_{6}h_{7}}t2_{p_{8}p_{9}}^{h_{8}h_{9}}t2_{p_{10}p_{11}}^{h_{10}h_{11}}\n + 8.138020833333333e-05 * \\Phi_{h_{0}h_{1}}^{p_{0}p_{1}}t2_{p_{2}p_{3}}^{h_{2}h_{3}}t2_{p_{4}p_{5}}^{h_{4}h_{5}}v_{h_{6}p_{6}}^{p_{7}h_{7}}t2_{p_{8}p_{9}}^{h_{8}h_{9}}t2_{p_{10}p_{11}}^{h_{10}h_{11}}\n + 8.138020833333333e-05 * \\Phi_{h_{0}h_{1}}^{p_{0}p_{1}}t2_{p_{2}p_{3}}^{h_{2}h_{3}}t2_{p_{4}p_{5}}^{h_{4}h_{5}}v_{h_{6}p_{6}}^{p_{7}h_{7}}t2_{p_{8}p_{9}}^{h_{8}h_{9}}t2_{p_{10}p_{11}}^{h_{10}h_{11}}\n + -8.138020833333333e-05 * \\Phi_{h_{0}h_{1}}^{p_{0}p_{1}}t2_{p_{2}p_{3}}^{h_{2}h_{3}}t2_{p_{4}p_{5}}^{h_{4}h_{5}}t2_{p_{6}p_{7}}^{h_{6}h_{7}}v_{h_{8}p_{8}}^{p_{9}h_{9}}t2_{p_{10}p_{11}}^{h_{10}h_{11}}\n + -8.138020833333333e-05 * \\Phi_{h_{0}h_{1}}^{p_{0}p_{1}}t2_{p_{2}p_{3}}^{h_{2}h_{3}}v_{h_{4}p_{4}}^{p_{5}h_{5}}t2_{p_{6}p_{7}}^{h_{6}h_{7}}t2_{p_{8}p_{9}}^{h_{8}h_{9}}t2_{p_{10}p_{11}}^{h_{10}h_{11}}\n + 8.138020833333333e-05 * \\Phi_{h_{0}h_{1}}^{p_{0}p_{1}}t2_{p_{2}p_{3}}^{h_{2}h_{3}}t2_{p_{4}p_{5}}^{h_{4}h_{5}}v_{h_{6}p_{6}}^{p_{7}h_{7}}t2_{p_{8}p_{9}}^{h_{8}h_{9}}t2_{p_{10}p_{11}}^{h_{10}h_{11}}\n + 8.138020833333333e-05 * \\Phi_{h_{0}h_{1}}^{p_{0}p_{1}}t2_{p_{2}p_{3}}^{h_{2}h_{3}}t2_{p_{4}p_{5}}^{h_{4}h_{5}}v_{h_{6}p_{6}}^{p_{7}h_{7}}t2_{p_{8}p_{9}}^{h_{8}h_{9}}t2_{p_{10}p_{11}}^{h_{10}h_{11}}\n + -8.138020833333333e-05 * \\Phi_{h_{0}h_{1}}^{p_{0}p_{1}}t2_{p_{2}p_{3}}^{h_{2}h_{3}}t2_{p_{4}p_{5}}^{h_{4}h_{5}}t2_{p_{6}p_{7}}^{h_{6}h_{7}}v_{h_{8}p_{8}}^{p_{9}h_{9}}t2_{p_{10}p_{11}}^{h_{10}h_{11}}\n + 8.138020833333333e-05 * \\Phi_{h_{0}h_{1}}^{p_{0}p_{1}}t2_{p_{2}p_{3}}^{h_{2}h_{3}}t2_{p_{4}p_{5}}^{h_{4}h_{5}}v_{h_{6}p_{6}}^{p_{7}h_{7}}t2_{p_{8}p_{9}}^{h_{8}h_{9}}t2_{p_{10}p_{11}}^{h_{10}h_{11}}\n + -8.138020833333333e-05 * \\Phi_{h_{0}h_{1}}^{p_{0}p_{1}}t2_{p_{2}p_{3}}^{h_{2}h_{3}}t2_{p_{4}p_{5}}^{h_{4}h_{5}}t2_{p_{6}p_{7}}^{h_{6}h_{7}}v_{h_{8}p_{8}}^{p_{9}h_{9}}t2_{p_{10}p_{11}}^{h_{10}h_{11}}\n + -8.138020833333333e-05 * \\Phi_{h_{0}h_{1}}^{p_{0}p_{1}}t2_{p_{2}p_{3}}^{h_{2}h_{3}}t2_{p_{4}p_{5}}^{h_{4}h_{5}}t2_{p_{6}p_{7}}^{h_{6}h_{7}}v_{h_{8}p_{8}}^{p_{9}h_{9}}t2_{p_{10}p_{11}}^{h_{10}h_{11}}\n + 8.138020833333333e-05 * \\Phi_{h_{0}h_{1}}^{p_{0}p_{1}}t2_{p_{2}p_{3}}^{h_{2}h_{3}}t2_{p_{4}p_{5}}^{h_{4}h_{5}}t2_{p_{6}p_{7}}^{h_{6}h_{7}}t2_{p_{8}p_{9}}^{h_{8}h_{9}}v_{h_{10}p_{10}}^{p_{11}h_{11}}\n + 0.5 * \\Phi_{h_{0}h_{1}}^{p_{0}p_{1}}v_{p_{2}h_{2}}^{p_{3}p_{4}}\n + 0.125 * \\Phi_{h_{0}h_{1}}^{p_{0}p_{1}}v_{p_{2}h_{2}}^{p_{3}p_{4}}t2_{p_{5}p_{6}}^{h_{3}h_{4}}\n + -0.125 * \\Phi_{h_{0}h_{1}}^{p_{0}p_{1}}t2_{p_{2}p_{3}}^{h_{2}h_{3}}v_{p_{4}h_{4}}^{p_{5}p_{6}}\n + 0.015625 * \\Phi_{h_{0}h_{1}}^{p_{0}p_{1}}v_{p_{2}h_{2}}^{p_{3}p_{4}}t2_{p_{5}p_{6}}^{h_{3}h_{4}}t2_{p_{7}p_{8}}^{h_{5}h_{6}}\n + -0.015625 * \\Phi_{h_{0}h_{1}}^{p_{0}p_{1}}t2_{p_{2}p_{3}}^{h_{2}h_{3}}v_{p_{4}h_{4}}^{p_{5}p_{6}}t2_{p_{7}p_{8}}^{h_{5}h_{6}}\n + -0.015625 * \\Phi_{h_{0}h_{1}}^{p_{0}p_{1}}t2_{p_{2}p_{3}}^{h_{2}h_{3}}v_{p_{4}h_{4}}^{p_{5}p_{6}}t2_{p_{7}p_{8}}^{h_{5}h_{6}}\n + 0.015625 * \\Phi_{h_{0}h_{1}}^{p_{0}p_{1}}t2_{p_{2}p_{3}}^{h_{2}h_{3}}t2_{p_{4}p_{5}}^{h_{4}h_{5}}v_{p_{6}h_{6}}^{p_{7}p_{8}}\n + 0.0013020833333333333 * \\Phi_{h_{0}h_{1}}^{p_{0}p_{1}}v_{p_{2}h_{2}}^{p_{3}p_{4}}t2_{p_{5}p_{6}}^{h_{3}h_{4}}t2_{p_{7}p_{8}}^{h_{5}h_{6}}t2_{p_{9}p_{10}}^{h_{7}h_{8}}\n + -0.0013020833333333333 * \\Phi_{h_{0}h_{1}}^{p_{0}p_{1}}t2_{p_{2}p_{3}}^{h_{2}h_{3}}v_{p_{4}h_{4}}^{p_{5}p_{6}}t2_{p_{7}p_{8}}^{h_{5}h_{6}}t2_{p_{9}p_{10}}^{h_{7}h_{8}}\n + -0.0013020833333333333 * \\Phi_{h_{0}h_{1}}^{p_{0}p_{1}}t2_{p_{2}p_{3}}^{h_{2}h_{3}}v_{p_{4}h_{4}}^{p_{5}p_{6}}t2_{p_{7}p_{8}}^{h_{5}h_{6}}t2_{p_{9}p_{10}}^{h_{7}h_{8}}\n + 0.0013020833333333333 * \\Phi_{h_{0}h_{1}}^{p_{0}p_{1}}t2_{p_{2}p_{3}}^{h_{2}h_{3}}t2_{p_{4}p_{5}}^{h_{4}h_{5}}v_{p_{6}h_{6}}^{p_{7}p_{8}}t2_{p_{9}p_{10}}^{h_{7}h_{8}}\n + -0.0013020833333333333 * \\Phi_{h_{0}h_{1}}^{p_{0}p_{1}}t2_{p_{2}p_{3}}^{h_{2}h_{3}}v_{p_{4}h_{4}}^{p_{5}p_{6}}t2_{p_{7}p_{8}}^{h_{5}h_{6}}t2_{p_{9}p_{10}}^{h_{7}h_{8}}\n + 0.0013020833333333333 * \\Phi_{h_{0}h_{1}}^{p_{0}p_{1}}t2_{p_{2}p_{3}}^{h_{2}h_{3}}t2_{p_{4}p_{5}}^{h_{4}h_{5}}v_{p_{6}h_{6}}^{p_{7}p_{8}}t2_{p_{9}p_{10}}^{h_{7}h_{8}}\n + 0.0013020833333333333 * \\Phi_{h_{0}h_{1}}^{p_{0}p_{1}}t2_{p_{2}p_{3}}^{h_{2}h_{3}}t2_{p_{4}p_{5}}^{h_{4}h_{5}}v_{p_{6}h_{6}}^{p_{7}p_{8}}t2_{p_{9}p_{10}}^{h_{7}h_{8}}\n + -0.0013020833333333333 * \\Phi_{h_{0}h_{1}}^{p_{0}p_{1}}t2_{p_{2}p_{3}}^{h_{2}h_{3}}t2_{p_{4}p_{5}}^{h_{4}h_{5}}t2_{p_{6}p_{7}}^{h_{6}h_{7}}v_{p_{8}h_{8}}^{p_{9}p_{10}}\n + 8.138020833333333e-05 * \\Phi_{h_{0}h_{1}}^{p_{0}p_{1}}v_{p_{2}h_{2}}^{p_{3}p_{4}}t2_{p_{5}p_{6}}^{h_{3}h_{4}}t2_{p_{7}p_{8}}^{h_{5}h_{6}}t2_{p_{9}p_{10}}^{h_{7}h_{8}}t2_{p_{11}p_{12}}^{h_{9}h_{10}}\n + -8.138020833333333e-05 * \\Phi_{h_{0}h_{1}}^{p_{0}p_{1}}t2_{p_{2}p_{3}}^{h_{2}h_{3}}v_{p_{4}h_{4}}^{p_{5}p_{6}}t2_{p_{7}p_{8}}^{h_{5}h_{6}}t2_{p_{9}p_{10}}^{h_{7}h_{8}}t2_{p_{11}p_{12}}^{h_{9}h_{10}}\n + -8.138020833333333e-05 * \\Phi_{h_{0}h_{1}}^{p_{0}p_{1}}t2_{p_{2}p_{3}}^{h_{2}h_{3}}v_{p_{4}h_{4}}^{p_{5}p_{6}}t2_{p_{7}p_{8}}^{h_{5}h_{6}}t2_{p_{9}p_{10}}^{h_{7}h_{8}}t2_{p_{11}p_{12}}^{h_{9}h_{10}}\n + 8.138020833333333e-05 * \\Phi_{h_{0}h_{1}}^{p_{0}p_{1}}t2_{p_{2}p_{3}}^{h_{2}h_{3}}t2_{p_{4}p_{5}}^{h_{4}h_{5}}v_{p_{6}h_{6}}^{p_{7}p_{8}}t2_{p_{9}p_{10}}^{h_{7}h_{8}}t2_{p_{11}p_{12}}^{h_{9}h_{10}}\n + -8.138020833333333e-05 * \\Phi_{h_{0}h_{1}}^{p_{0}p_{1}}t2_{p_{2}p_{3}}^{h_{2}h_{3}}v_{p_{4}h_{4}}^{p_{5}p_{6}}t2_{p_{7}p_{8}}^{h_{5}h_{6}}t2_{p_{9}p_{10}}^{h_{7}h_{8}}t2_{p_{11}p_{12}}^{h_{9}h_{10}}\n + 8.138020833333333e-05 * \\Phi_{h_{0}h_{1}}^{p_{0}p_{1}}t2_{p_{2}p_{3}}^{h_{2}h_{3}}t2_{p_{4}p_{5}}^{h_{4}h_{5}}v_{p_{6}h_{6}}^{p_{7}p_{8}}t2_{p_{9}p_{10}}^{h_{7}h_{8}}t2_{p_{11}p_{12}}^{h_{9}h_{10}}\n + 8.138020833333333e-05 * \\Phi_{h_{0}h_{1}}^{p_{0}p_{1}}t2_{p_{2}p_{3}}^{h_{2}h_{3}}t2_{p_{4}p_{5}}^{h_{4}h_{5}}v_{p_{6}h_{6}}^{p_{7}p_{8}}t2_{p_{9}p_{10}}^{h_{7}h_{8}}t2_{p_{11}p_{12}}^{h_{9}h_{10}}\n + -8.138020833333333e-05 * \\Phi_{h_{0}h_{1}}^{p_{0}p_{1}}t2_{p_{2}p_{3}}^{h_{2}h_{3}}t2_{p_{4}p_{5}}^{h_{4}h_{5}}t2_{p_{6}p_{7}}^{h_{6}h_{7}}v_{p_{8}h_{8}}^{p_{9}p_{10}}t2_{p_{11}p_{12}}^{h_{9}h_{10}}\n + -8.138020833333333e-05 * \\Phi_{h_{0}h_{1}}^{p_{0}p_{1}}t2_{p_{2}p_{3}}^{h_{2}h_{3}}v_{p_{4}h_{4}}^{p_{5}p_{6}}t2_{p_{7}p_{8}}^{h_{5}h_{6}}t2_{p_{9}p_{10}}^{h_{7}h_{8}}t2_{p_{11}p_{12}}^{h_{9}h_{10}}\n + 8.138020833333333e-05 * \\Phi_{h_{0}h_{1}}^{p_{0}p_{1}}t2_{p_{2}p_{3}}^{h_{2}h_{3}}t2_{p_{4}p_{5}}^{h_{4}h_{5}}v_{p_{6}h_{6}}^{p_{7}p_{8}}t2_{p_{9}p_{10}}^{h_{7}h_{8}}t2_{p_{11}p_{12}}^{h_{9}h_{10}}\n + 8.138020833333333e-05 * \\Phi_{h_{0}h_{1}}^{p_{0}p_{1}}t2_{p_{2}p_{3}}^{h_{2}h_{3}}t2_{p_{4}p_{5}}^{h_{4}h_{5}}v_{p_{6}h_{6}}^{p_{7}p_{8}}t2_{p_{9}p_{10}}^{h_{7}h_{8}}t2_{p_{11}p_{12}}^{h_{9}h_{10}}\n + -8.138020833333333e-05 * \\Phi_{h_{0}h_{1}}^{p_{0}p_{1}}t2_{p_{2}p_{3}}^{h_{2}h_{3}}t2_{p_{4}p_{5}}^{h_{4}h_{5}}t2_{p_{6}p_{7}}^{h_{6}h_{7}}v_{p_{8}h_{8}}^{p_{9}p_{10}}t2_{p_{11}p_{12}}^{h_{9}h_{10}}\n + 8.138020833333333e-05 * \\Phi_{h_{0}h_{1}}^{p_{0}p_{1}}t2_{p_{2}p_{3}}^{h_{2}h_{3}}t2_{p_{4}p_{5}}^{h_{4}h_{5}}v_{p_{6}h_{6}}^{p_{7}p_{8}}t2_{p_{9}p_{10}}^{h_{7}h_{8}}t2_{p_{11}p_{12}}^{h_{9}h_{10}}\n + -8.138020833333333e-05 * \\Phi_{h_{0}h_{1}}^{p_{0}p_{1}}t2_{p_{2}p_{3}}^{h_{2}h_{3}}t2_{p_{4}p_{5}}^{h_{4}h_{5}}t2_{p_{6}p_{7}}^{h_{6}h_{7}}v_{p_{8}h_{8}}^{p_{9}p_{10}}t2_{p_{11}p_{12}}^{h_{9}h_{10}}\n + -8.138020833333333e-05 * \\Phi_{h_{0}h_{1}}^{p_{0}p_{1}}t2_{p_{2}p_{3}}^{h_{2}h_{3}}t2_{p_{4}p_{5}}^{h_{4}h_{5}}t2_{p_{6}p_{7}}^{h_{6}h_{7}}v_{p_{8}h_{8}}^{p_{9}p_{10}}t2_{p_{11}p_{12}}^{h_{9}h_{10}}\n + 8.138020833333333e-05 * \\Phi_{h_{0}h_{1}}^{p_{0}p_{1}}t2_{p_{2}p_{3}}^{h_{2}h_{3}}t2_{p_{4}p_{5}}^{h_{4}h_{5}}t2_{p_{6}p_{7}}^{h_{6}h_{7}}t2_{p_{8}p_{9}}^{h_{8}h_{9}}v_{p_{10}h_{10}}^{p_{11}p_{12}}\n + 0.5 * \\Phi_{h_{0}h_{1}}^{p_{0}p_{1}}v_{h_{2}h_{3}}^{h_{4}p_{2}}\n + 0.125 * \\Phi_{h_{0}h_{1}}^{p_{0}p_{1}}v_{h_{2}h_{3}}^{h_{4}p_{2}}t2_{p_{3}p_{4}}^{h_{5}h_{6}}\n + -0.125 * \\Phi_{h_{0}h_{1}}^{p_{0}p_{1}}t2_{p_{2}p_{3}}^{h_{2}h_{3}}v_{h_{4}h_{5}}^{h_{6}p_{4}}\n + 0.015625 * \\Phi_{h_{0}h_{1}}^{p_{0}p_{1}}v_{h_{2}h_{3}}^{h_{4}p_{2}}t2_{p_{3}p_{4}}^{h_{5}h_{6}}t2_{p_{5}p_{6}}^{h_{7}h_{8}}\n + -0.015625 * \\Phi_{h_{0}h_{1}}^{p_{0}p_{1}}t2_{p_{2}p_{3}}^{h_{2}h_{3}}v_{h_{4}h_{5}}^{h_{6}p_{4}}t2_{p_{5}p_{6}}^{h_{7}h_{8}}\n + -0.015625 * \\Phi_{h_{0}h_{1}}^{p_{0}p_{1}}t2_{p_{2}p_{3}}^{h_{2}h_{3}}v_{h_{4}h_{5}}^{h_{6}p_{4}}t2_{p_{5}p_{6}}^{h_{7}h_{8}}\n + 0.015625 * \\Phi_{h_{0}h_{1}}^{p_{0}p_{1}}t2_{p_{2}p_{3}}^{h_{2}h_{3}}t2_{p_{4}p_{5}}^{h_{4}h_{5}}v_{h_{6}h_{7}}^{h_{8}p_{6}}\n + 0.0013020833333333333 * \\Phi_{h_{0}h_{1}}^{p_{0}p_{1}}v_{h_{2}h_{3}}^{h_{4}p_{2}}t2_{p_{3}p_{4}}^{h_{5}h_{6}}t2_{p_{5}p_{6}}^{h_{7}h_{8}}t2_{p_{7}p_{8}}^{h_{9}h_{10}}\n + -0.0013020833333333333 * \\Phi_{h_{0}h_{1}}^{p_{0}p_{1}}t2_{p_{2}p_{3}}^{h_{2}h_{3}}v_{h_{4}h_{5}}^{h_{6}p_{4}}t2_{p_{5}p_{6}}^{h_{7}h_{8}}t2_{p_{7}p_{8}}^{h_{9}h_{10}}\n + -0.0013020833333333333 * \\Phi_{h_{0}h_{1}}^{p_{0}p_{1}}t2_{p_{2}p_{3}}^{h_{2}h_{3}}v_{h_{4}h_{5}}^{h_{6}p_{4}}t2_{p_{5}p_{6}}^{h_{7}h_{8}}t2_{p_{7}p_{8}}^{h_{9}h_{10}}\n + 0.0013020833333333333 * \\Phi_{h_{0}h_{1}}^{p_{0}p_{1}}t2_{p_{2}p_{3}}^{h_{2}h_{3}}t2_{p_{4}p_{5}}^{h_{4}h_{5}}v_{h_{6}h_{7}}^{h_{8}p_{6}}t2_{p_{7}p_{8}}^{h_{9}h_{10}}\n + -0.0013020833333333333 * \\Phi_{h_{0}h_{1}}^{p_{0}p_{1}}t2_{p_{2}p_{3}}^{h_{2}h_{3}}v_{h_{4}h_{5}}^{h_{6}p_{4}}t2_{p_{5}p_{6}}^{h_{7}h_{8}}t2_{p_{7}p_{8}}^{h_{9}h_{10}}\n + 0.0013020833333333333 * \\Phi_{h_{0}h_{1}}^{p_{0}p_{1}}t2_{p_{2}p_{3}}^{h_{2}h_{3}}t2_{p_{4}p_{5}}^{h_{4}h_{5}}v_{h_{6}h_{7}}^{h_{8}p_{6}}t2_{p_{7}p_{8}}^{h_{9}h_{10}}\n + 0.0013020833333333333 * \\Phi_{h_{0}h_{1}}^{p_{0}p_{1}}t2_{p_{2}p_{3}}^{h_{2}h_{3}}t2_{p_{4}p_{5}}^{h_{4}h_{5}}v_{h_{6}h_{7}}^{h_{8}p_{6}}t2_{p_{7}p_{8}}^{h_{9}h_{10}}\n + -0.0013020833333333333 * \\Phi_{h_{0}h_{1}}^{p_{0}p_{1}}t2_{p_{2}p_{3}}^{h_{2}h_{3}}t2_{p_{4}p_{5}}^{h_{4}h_{5}}t2_{p_{6}p_{7}}^{h_{6}h_{7}}v_{h_{8}h_{9}}^{h_{10}p_{8}}\n + 8.138020833333333e-05 * \\Phi_{h_{0}h_{1}}^{p_{0}p_{1}}v_{h_{2}h_{3}}^{h_{4}p_{2}}t2_{p_{3}p_{4}}^{h_{5}h_{6}}t2_{p_{5}p_{6}}^{h_{7}h_{8}}t2_{p_{7}p_{8}}^{h_{9}h_{10}}t2_{p_{9}p_{10}}^{h_{11}h_{12}}\n + -8.138020833333333e-05 * \\Phi_{h_{0}h_{1}}^{p_{0}p_{1}}t2_{p_{2}p_{3}}^{h_{2}h_{3}}v_{h_{4}h_{5}}^{h_{6}p_{4}}t2_{p_{5}p_{6}}^{h_{7}h_{8}}t2_{p_{7}p_{8}}^{h_{9}h_{10}}t2_{p_{9}p_{10}}^{h_{11}h_{12}}\n + -8.138020833333333e-05 * \\Phi_{h_{0}h_{1}}^{p_{0}p_{1}}t2_{p_{2}p_{3}}^{h_{2}h_{3}}v_{h_{4}h_{5}}^{h_{6}p_{4}}t2_{p_{5}p_{6}}^{h_{7}h_{8}}t2_{p_{7}p_{8}}^{h_{9}h_{10}}t2_{p_{9}p_{10}}^{h_{11}h_{12}}\n + 8.138020833333333e-05 * \\Phi_{h_{0}h_{1}}^{p_{0}p_{1}}t2_{p_{2}p_{3}}^{h_{2}h_{3}}t2_{p_{4}p_{5}}^{h_{4}h_{5}}v_{h_{6}h_{7}}^{h_{8}p_{6}}t2_{p_{7}p_{8}}^{h_{9}h_{10}}t2_{p_{9}p_{10}}^{h_{11}h_{12}}\n + -8.138020833333333e-05 * \\Phi_{h_{0}h_{1}}^{p_{0}p_{1}}t2_{p_{2}p_{3}}^{h_{2}h_{3}}v_{h_{4}h_{5}}^{h_{6}p_{4}}t2_{p_{5}p_{6}}^{h_{7}h_{8}}t2_{p_{7}p_{8}}^{h_{9}h_{10}}t2_{p_{9}p_{10}}^{h_{11}h_{12}}\n + 8.138020833333333e-05 * \\Phi_{h_{0}h_{1}}^{p_{0}p_{1}}t2_{p_{2}p_{3}}^{h_{2}h_{3}}t2_{p_{4}p_{5}}^{h_{4}h_{5}}v_{h_{6}h_{7}}^{h_{8}p_{6}}t2_{p_{7}p_{8}}^{h_{9}h_{10}}t2_{p_{9}p_{10}}^{h_{11}h_{12}}\n + 8.138020833333333e-05 * \\Phi_{h_{0}h_{1}}^{p_{0}p_{1}}t2_{p_{2}p_{3}}^{h_{2}h_{3}}t2_{p_{4}p_{5}}^{h_{4}h_{5}}v_{h_{6}h_{7}}^{h_{8}p_{6}}t2_{p_{7}p_{8}}^{h_{9}h_{10}}t2_{p_{9}p_{10}}^{h_{11}h_{12}}\n + -8.138020833333333e-05 * \\Phi_{h_{0}h_{1}}^{p_{0}p_{1}}t2_{p_{2}p_{3}}^{h_{2}h_{3}}t2_{p_{4}p_{5}}^{h_{4}h_{5}}t2_{p_{6}p_{7}}^{h_{6}h_{7}}v_{h_{8}h_{9}}^{h_{10}p_{8}}t2_{p_{9}p_{10}}^{h_{11}h_{12}}\n + -8.138020833333333e-05 * \\Phi_{h_{0}h_{1}}^{p_{0}p_{1}}t2_{p_{2}p_{3}}^{h_{2}h_{3}}v_{h_{4}h_{5}}^{h_{6}p_{4}}t2_{p_{5}p_{6}}^{h_{7}h_{8}}t2_{p_{7}p_{8}}^{h_{9}h_{10}}t2_{p_{9}p_{10}}^{h_{11}h_{12}}\n + 8.138020833333333e-05 * \\Phi_{h_{0}h_{1}}^{p_{0}p_{1}}t2_{p_{2}p_{3}}^{h_{2}h_{3}}t2_{p_{4}p_{5}}^{h_{4}h_{5}}v_{h_{6}h_{7}}^{h_{8}p_{6}}t2_{p_{7}p_{8}}^{h_{9}h_{10}}t2_{p_{9}p_{10}}^{h_{11}h_{12}}\n + 8.138020833333333e-05 * \\Phi_{h_{0}h_{1}}^{p_{0}p_{1}}t2_{p_{2}p_{3}}^{h_{2}h_{3}}t2_{p_{4}p_{5}}^{h_{4}h_{5}}v_{h_{6}h_{7}}^{h_{8}p_{6}}t2_{p_{7}p_{8}}^{h_{9}h_{10}}t2_{p_{9}p_{10}}^{h_{11}h_{12}}\n + -8.138020833333333e-05 * \\Phi_{h_{0}h_{1}}^{p_{0}p_{1}}t2_{p_{2}p_{3}}^{h_{2}h_{3}}t2_{p_{4}p_{5}}^{h_{4}h_{5}}t2_{p_{6}p_{7}}^{h_{6}h_{7}}v_{h_{8}h_{9}}^{h_{10}p_{8}}t2_{p_{9}p_{10}}^{h_{11}h_{12}}\n + 8.138020833333333e-05 * \\Phi_{h_{0}h_{1}}^{p_{0}p_{1}}t2_{p_{2}p_{3}}^{h_{2}h_{3}}t2_{p_{4}p_{5}}^{h_{4}h_{5}}v_{h_{6}h_{7}}^{h_{8}p_{6}}t2_{p_{7}p_{8}}^{h_{9}h_{10}}t2_{p_{9}p_{10}}^{h_{11}h_{12}}\n + -8.138020833333333e-05 * \\Phi_{h_{0}h_{1}}^{p_{0}p_{1}}t2_{p_{2}p_{3}}^{h_{2}h_{3}}t2_{p_{4}p_{5}}^{h_{4}h_{5}}t2_{p_{6}p_{7}}^{h_{6}h_{7}}v_{h_{8}h_{9}}^{h_{10}p_{8}}t2_{p_{9}p_{10}}^{h_{11}h_{12}}\n + -8.138020833333333e-05 * \\Phi_{h_{0}h_{1}}^{p_{0}p_{1}}t2_{p_{2}p_{3}}^{h_{2}h_{3}}t2_{p_{4}p_{5}}^{h_{4}h_{5}}t2_{p_{6}p_{7}}^{h_{6}h_{7}}v_{h_{8}h_{9}}^{h_{10}p_{8}}t2_{p_{9}p_{10}}^{h_{11}h_{12}}\n + 8.138020833333333e-05 * \\Phi_{h_{0}h_{1}}^{p_{0}p_{1}}t2_{p_{2}p_{3}}^{h_{2}h_{3}}t2_{p_{4}p_{5}}^{h_{4}h_{5}}t2_{p_{6}p_{7}}^{h_{6}h_{7}}t2_{p_{8}p_{9}}^{h_{8}h_{9}}v_{h_{10}h_{11}}^{h_{12}p_{10}}\n + 0.5 * \\Phi_{h_{0}h_{1}}^{p_{0}p_{1}}v_{p_{2}p_{3}}^{p_{4}h_{2}}\n + 0.125 * \\Phi_{h_{0}h_{1}}^{p_{0}p_{1}}v_{p_{2}p_{3}}^{p_{4}h_{2}}t2_{p_{5}p_{6}}^{h_{3}h_{4}}\n + -0.125 * \\Phi_{h_{0}h_{1}}^{p_{0}p_{1}}t2_{p_{2}p_{3}}^{h_{2}h_{3}}v_{p_{4}p_{5}}^{p_{6}h_{4}}\n + 0.015625 * \\Phi_{h_{0}h_{1}}^{p_{0}p_{1}}v_{p_{2}p_{3}}^{p_{4}h_{2}}t2_{p_{5}p_{6}}^{h_{3}h_{4}}t2_{p_{7}p_{8}}^{h_{5}h_{6}}\n + -0.015625 * \\Phi_{h_{0}h_{1}}^{p_{0}p_{1}}t2_{p_{2}p_{3}}^{h_{2}h_{3}}v_{p_{4}p_{5}}^{p_{6}h_{4}}t2_{p_{7}p_{8}}^{h_{5}h_{6}}\n + -0.015625 * \\Phi_{h_{0}h_{1}}^{p_{0}p_{1}}t2_{p_{2}p_{3}}^{h_{2}h_{3}}v_{p_{4}p_{5}}^{p_{6}h_{4}}t2_{p_{7}p_{8}}^{h_{5}h_{6}}\n + 0.015625 * \\Phi_{h_{0}h_{1}}^{p_{0}p_{1}}t2_{p_{2}p_{3}}^{h_{2}h_{3}}t2_{p_{4}p_{5}}^{h_{4}h_{5}}v_{p_{6}p_{7}}^{p_{8}h_{6}}\n + 0.0013020833333333333 * \\Phi_{h_{0}h_{1}}^{p_{0}p_{1}}v_{p_{2}p_{3}}^{p_{4}h_{2}}t2_{p_{5}p_{6}}^{h_{3}h_{4}}t2_{p_{7}p_{8}}^{h_{5}h_{6}}t2_{p_{9}p_{10}}^{h_{7}h_{8}}\n + -0.0013020833333333333 * \\Phi_{h_{0}h_{1}}^{p_{0}p_{1}}t2_{p_{2}p_{3}}^{h_{2}h_{3}}v_{p_{4}p_{5}}^{p_{6}h_{4}}t2_{p_{7}p_{8}}^{h_{5}h_{6}}t2_{p_{9}p_{10}}^{h_{7}h_{8}}\n + -0.0013020833333333333 * \\Phi_{h_{0}h_{1}}^{p_{0}p_{1}}t2_{p_{2}p_{3}}^{h_{2}h_{3}}v_{p_{4}p_{5}}^{p_{6}h_{4}}t2_{p_{7}p_{8}}^{h_{5}h_{6}}t2_{p_{9}p_{10}}^{h_{7}h_{8}}\n + 0.0013020833333333333 * \\Phi_{h_{0}h_{1}}^{p_{0}p_{1}}t2_{p_{2}p_{3}}^{h_{2}h_{3}}t2_{p_{4}p_{5}}^{h_{4}h_{5}}v_{p_{6}p_{7}}^{p_{8}h_{6}}t2_{p_{9}p_{10}}^{h_{7}h_{8}}\n + -0.0013020833333333333 * \\Phi_{h_{0}h_{1}}^{p_{0}p_{1}}t2_{p_{2}p_{3}}^{h_{2}h_{3}}v_{p_{4}p_{5}}^{p_{6}h_{4}}t2_{p_{7}p_{8}}^{h_{5}h_{6}}t2_{p_{9}p_{10}}^{h_{7}h_{8}}\n + 0.0013020833333333333 * \\Phi_{h_{0}h_{1}}^{p_{0}p_{1}}t2_{p_{2}p_{3}}^{h_{2}h_{3}}t2_{p_{4}p_{5}}^{h_{4}h_{5}}v_{p_{6}p_{7}}^{p_{8}h_{6}}t2_{p_{9}p_{10}}^{h_{7}h_{8}}\n + 0.0013020833333333333 * \\Phi_{h_{0}h_{1}}^{p_{0}p_{1}}t2_{p_{2}p_{3}}^{h_{2}h_{3}}t2_{p_{4}p_{5}}^{h_{4}h_{5}}v_{p_{6}p_{7}}^{p_{8}h_{6}}t2_{p_{9}p_{10}}^{h_{7}h_{8}}\n + -0.0013020833333333333 * \\Phi_{h_{0}h_{1}}^{p_{0}p_{1}}t2_{p_{2}p_{3}}^{h_{2}h_{3}}t2_{p_{4}p_{5}}^{h_{4}h_{5}}t2_{p_{6}p_{7}}^{h_{6}h_{7}}v_{p_{8}p_{9}}^{p_{10}h_{8}}\n + 8.138020833333333e-05 * \\Phi_{h_{0}h_{1}}^{p_{0}p_{1}}v_{p_{2}p_{3}}^{p_{4}h_{2}}t2_{p_{5}p_{6}}^{h_{3}h_{4}}t2_{p_{7}p_{8}}^{h_{5}h_{6}}t2_{p_{9}p_{10}}^{h_{7}h_{8}}t2_{p_{11}p_{12}}^{h_{9}h_{10}}\n + -8.138020833333333e-05 * \\Phi_{h_{0}h_{1}}^{p_{0}p_{1}}t2_{p_{2}p_{3}}^{h_{2}h_{3}}v_{p_{4}p_{5}}^{p_{6}h_{4}}t2_{p_{7}p_{8}}^{h_{5}h_{6}}t2_{p_{9}p_{10}}^{h_{7}h_{8}}t2_{p_{11}p_{12}}^{h_{9}h_{10}}\n + -8.138020833333333e-05 * \\Phi_{h_{0}h_{1}}^{p_{0}p_{1}}t2_{p_{2}p_{3}}^{h_{2}h_{3}}v_{p_{4}p_{5}}^{p_{6}h_{4}}t2_{p_{7}p_{8}}^{h_{5}h_{6}}t2_{p_{9}p_{10}}^{h_{7}h_{8}}t2_{p_{11}p_{12}}^{h_{9}h_{10}}\n + 8.138020833333333e-05 * \\Phi_{h_{0}h_{1}}^{p_{0}p_{1}}t2_{p_{2}p_{3}}^{h_{2}h_{3}}t2_{p_{4}p_{5}}^{h_{4}h_{5}}v_{p_{6}p_{7}}^{p_{8}h_{6}}t2_{p_{9}p_{10}}^{h_{7}h_{8}}t2_{p_{11}p_{12}}^{h_{9}h_{10}}\n + -8.138020833333333e-05 * \\Phi_{h_{0}h_{1}}^{p_{0}p_{1}}t2_{p_{2}p_{3}}^{h_{2}h_{3}}v_{p_{4}p_{5}}^{p_{6}h_{4}}t2_{p_{7}p_{8}}^{h_{5}h_{6}}t2_{p_{9}p_{10}}^{h_{7}h_{8}}t2_{p_{11}p_{12}}^{h_{9}h_{10}}\n + 8.138020833333333e-05 * \\Phi_{h_{0}h_{1}}^{p_{0}p_{1}}t2_{p_{2}p_{3}}^{h_{2}h_{3}}t2_{p_{4}p_{5}}^{h_{4}h_{5}}v_{p_{6}p_{7}}^{p_{8}h_{6}}t2_{p_{9}p_{10}}^{h_{7}h_{8}}t2_{p_{11}p_{12}}^{h_{9}h_{10}}\n + 8.138020833333333e-05 * \\Phi_{h_{0}h_{1}}^{p_{0}p_{1}}t2_{p_{2}p_{3}}^{h_{2}h_{3}}t2_{p_{4}p_{5}}^{h_{4}h_{5}}v_{p_{6}p_{7}}^{p_{8}h_{6}}t2_{p_{9}p_{10}}^{h_{7}h_{8}}t2_{p_{11}p_{12}}^{h_{9}h_{10}}\n + -8.138020833333333e-05 * \\Phi_{h_{0}h_{1}}^{p_{0}p_{1}}t2_{p_{2}p_{3}}^{h_{2}h_{3}}t2_{p_{4}p_{5}}^{h_{4}h_{5}}t2_{p_{6}p_{7}}^{h_{6}h_{7}}v_{p_{8}p_{9}}^{p_{10}h_{8}}t2_{p_{11}p_{12}}^{h_{9}h_{10}}\n + -8.138020833333333e-05 * \\Phi_{h_{0}h_{1}}^{p_{0}p_{1}}t2_{p_{2}p_{3}}^{h_{2}h_{3}}v_{p_{4}p_{5}}^{p_{6}h_{4}}t2_{p_{7}p_{8}}^{h_{5}h_{6}}t2_{p_{9}p_{10}}^{h_{7}h_{8}}t2_{p_{11}p_{12}}^{h_{9}h_{10}}\n + 8.138020833333333e-05 * \\Phi_{h_{0}h_{1}}^{p_{0}p_{1}}t2_{p_{2}p_{3}}^{h_{2}h_{3}}t2_{p_{4}p_{5}}^{h_{4}h_{5}}v_{p_{6}p_{7}}^{p_{8}h_{6}}t2_{p_{9}p_{10}}^{h_{7}h_{8}}t2_{p_{11}p_{12}}^{h_{9}h_{10}}\n + 8.138020833333333e-05 * \\Phi_{h_{0}h_{1}}^{p_{0}p_{1}}t2_{p_{2}p_{3}}^{h_{2}h_{3}}t2_{p_{4}p_{5}}^{h_{4}h_{5}}v_{p_{6}p_{7}}^{p_{8}h_{6}}t2_{p_{9}p_{10}}^{h_{7}h_{8}}t2_{p_{11}p_{12}}^{h_{9}h_{10}}\n + -8.138020833333333e-05 * \\Phi_{h_{0}h_{1}}^{p_{0}p_{1}}t2_{p_{2}p_{3}}^{h_{2}h_{3}}t2_{p_{4}p_{5}}^{h_{4}h_{5}}t2_{p_{6}p_{7}}^{h_{6}h_{7}}v_{p_{8}p_{9}}^{p_{10}h_{8}}t2_{p_{11}p_{12}}^{h_{9}h_{10}}\n + 8.138020833333333e-05 * \\Phi_{h_{0}h_{1}}^{p_{0}p_{1}}t2_{p_{2}p_{3}}^{h_{2}h_{3}}t2_{p_{4}p_{5}}^{h_{4}h_{5}}v_{p_{6}p_{7}}^{p_{8}h_{6}}t2_{p_{9}p_{10}}^{h_{7}h_{8}}t2_{p_{11}p_{12}}^{h_{9}h_{10}}\n + -8.138020833333333e-05 * \\Phi_{h_{0}h_{1}}^{p_{0}p_{1}}t2_{p_{2}p_{3}}^{h_{2}h_{3}}t2_{p_{4}p_{5}}^{h_{4}h_{5}}t2_{p_{6}p_{7}}^{h_{6}h_{7}}v_{p_{8}p_{9}}^{p_{10}h_{8}}t2_{p_{11}p_{12}}^{h_{9}h_{10}}\n + -8.138020833333333e-05 * \\Phi_{h_{0}h_{1}}^{p_{0}p_{1}}t2_{p_{2}p_{3}}^{h_{2}h_{3}}t2_{p_{4}p_{5}}^{h_{4}h_{5}}t2_{p_{6}p_{7}}^{h_{6}h_{7}}v_{p_{8}p_{9}}^{p_{10}h_{8}}t2_{p_{11}p_{12}}^{h_{9}h_{10}}\n + 8.138020833333333e-05 * \\Phi_{h_{0}h_{1}}^{p_{0}p_{1}}t2_{p_{2}p_{3}}^{h_{2}h_{3}}t2_{p_{4}p_{5}}^{h_{4}h_{5}}t2_{p_{6}p_{7}}^{h_{6}h_{7}}t2_{p_{8}p_{9}}^{h_{8}h_{9}}v_{p_{10}p_{11}}^{p_{12}h_{10}}\n + 0.5 * \\Phi_{h_{0}h_{1}}^{p_{0}p_{1}}v_{h_{2}p_{2}}^{h_{3}h_{4}}\n + 0.125 * \\Phi_{h_{0}h_{1}}^{p_{0}p_{1}}v_{h_{2}p_{2}}^{h_{3}h_{4}}t2_{p_{3}p_{4}}^{h_{5}h_{6}}\n + -0.125 * \\Phi_{h_{0}h_{1}}^{p_{0}p_{1}}t2_{p_{2}p_{3}}^{h_{2}h_{3}}v_{h_{4}p_{4}}^{h_{5}h_{6}}\n + 0.015625 * \\Phi_{h_{0}h_{1}}^{p_{0}p_{1}}v_{h_{2}p_{2}}^{h_{3}h_{4}}t2_{p_{3}p_{4}}^{h_{5}h_{6}}t2_{p_{5}p_{6}}^{h_{7}h_{8}}\n + -0.015625 * \\Phi_{h_{0}h_{1}}^{p_{0}p_{1}}t2_{p_{2}p_{3}}^{h_{2}h_{3}}v_{h_{4}p_{4}}^{h_{5}h_{6}}t2_{p_{5}p_{6}}^{h_{7}h_{8}}\n + -0.015625 * \\Phi_{h_{0}h_{1}}^{p_{0}p_{1}}t2_{p_{2}p_{3}}^{h_{2}h_{3}}v_{h_{4}p_{4}}^{h_{5}h_{6}}t2_{p_{5}p_{6}}^{h_{7}h_{8}}\n + 0.015625 * \\Phi_{h_{0}h_{1}}^{p_{0}p_{1}}t2_{p_{2}p_{3}}^{h_{2}h_{3}}t2_{p_{4}p_{5}}^{h_{4}h_{5}}v_{h_{6}p_{6}}^{h_{7}h_{8}}\n + 0.0013020833333333333 * \\Phi_{h_{0}h_{1}}^{p_{0}p_{1}}v_{h_{2}p_{2}}^{h_{3}h_{4}}t2_{p_{3}p_{4}}^{h_{5}h_{6}}t2_{p_{5}p_{6}}^{h_{7}h_{8}}t2_{p_{7}p_{8}}^{h_{9}h_{10}}\n + -0.0013020833333333333 * \\Phi_{h_{0}h_{1}}^{p_{0}p_{1}}t2_{p_{2}p_{3}}^{h_{2}h_{3}}v_{h_{4}p_{4}}^{h_{5}h_{6}}t2_{p_{5}p_{6}}^{h_{7}h_{8}}t2_{p_{7}p_{8}}^{h_{9}h_{10}}\n + -0.0013020833333333333 * \\Phi_{h_{0}h_{1}}^{p_{0}p_{1}}t2_{p_{2}p_{3}}^{h_{2}h_{3}}v_{h_{4}p_{4}}^{h_{5}h_{6}}t2_{p_{5}p_{6}}^{h_{7}h_{8}}t2_{p_{7}p_{8}}^{h_{9}h_{10}}\n + 0.0013020833333333333 * \\Phi_{h_{0}h_{1}}^{p_{0}p_{1}}t2_{p_{2}p_{3}}^{h_{2}h_{3}}t2_{p_{4}p_{5}}^{h_{4}h_{5}}v_{h_{6}p_{6}}^{h_{7}h_{8}}t2_{p_{7}p_{8}}^{h_{9}h_{10}}\n + -0.0013020833333333333 * \\Phi_{h_{0}h_{1}}^{p_{0}p_{1}}t2_{p_{2}p_{3}}^{h_{2}h_{3}}v_{h_{4}p_{4}}^{h_{5}h_{6}}t2_{p_{5}p_{6}}^{h_{7}h_{8}}t2_{p_{7}p_{8}}^{h_{9}h_{10}}\n + 0.0013020833333333333 * \\Phi_{h_{0}h_{1}}^{p_{0}p_{1}}t2_{p_{2}p_{3}}^{h_{2}h_{3}}t2_{p_{4}p_{5}}^{h_{4}h_{5}}v_{h_{6}p_{6}}^{h_{7}h_{8}}t2_{p_{7}p_{8}}^{h_{9}h_{10}}\n + 0.0013020833333333333 * \\Phi_{h_{0}h_{1}}^{p_{0}p_{1}}t2_{p_{2}p_{3}}^{h_{2}h_{3}}t2_{p_{4}p_{5}}^{h_{4}h_{5}}v_{h_{6}p_{6}}^{h_{7}h_{8}}t2_{p_{7}p_{8}}^{h_{9}h_{10}}\n + -0.0013020833333333333 * \\Phi_{h_{0}h_{1}}^{p_{0}p_{1}}t2_{p_{2}p_{3}}^{h_{2}h_{3}}t2_{p_{4}p_{5}}^{h_{4}h_{5}}t2_{p_{6}p_{7}}^{h_{6}h_{7}}v_{h_{8}p_{8}}^{h_{9}h_{10}}\n + 8.138020833333333e-05 * \\Phi_{h_{0}h_{1}}^{p_{0}p_{1}}v_{h_{2}p_{2}}^{h_{3}h_{4}}t2_{p_{3}p_{4}}^{h_{5}h_{6}}t2_{p_{5}p_{6}}^{h_{7}h_{8}}t2_{p_{7}p_{8}}^{h_{9}h_{10}}t2_{p_{9}p_{10}}^{h_{11}h_{12}}\n + -8.138020833333333e-05 * \\Phi_{h_{0}h_{1}}^{p_{0}p_{1}}t2_{p_{2}p_{3}}^{h_{2}h_{3}}v_{h_{4}p_{4}}^{h_{5}h_{6}}t2_{p_{5}p_{6}}^{h_{7}h_{8}}t2_{p_{7}p_{8}}^{h_{9}h_{10}}t2_{p_{9}p_{10}}^{h_{11}h_{12}}\n + -8.138020833333333e-05 * \\Phi_{h_{0}h_{1}}^{p_{0}p_{1}}t2_{p_{2}p_{3}}^{h_{2}h_{3}}v_{h_{4}p_{4}}^{h_{5}h_{6}}t2_{p_{5}p_{6}}^{h_{7}h_{8}}t2_{p_{7}p_{8}}^{h_{9}h_{10}}t2_{p_{9}p_{10}}^{h_{11}h_{12}}\n + 8.138020833333333e-05 * \\Phi_{h_{0}h_{1}}^{p_{0}p_{1}}t2_{p_{2}p_{3}}^{h_{2}h_{3}}t2_{p_{4}p_{5}}^{h_{4}h_{5}}v_{h_{6}p_{6}}^{h_{7}h_{8}}t2_{p_{7}p_{8}}^{h_{9}h_{10}}t2_{p_{9}p_{10}}^{h_{11}h_{12}}\n + -8.138020833333333e-05 * \\Phi_{h_{0}h_{1}}^{p_{0}p_{1}}t2_{p_{2}p_{3}}^{h_{2}h_{3}}v_{h_{4}p_{4}}^{h_{5}h_{6}}t2_{p_{5}p_{6}}^{h_{7}h_{8}}t2_{p_{7}p_{8}}^{h_{9}h_{10}}t2_{p_{9}p_{10}}^{h_{11}h_{12}}\n + 8.138020833333333e-05 * \\Phi_{h_{0}h_{1}}^{p_{0}p_{1}}t2_{p_{2}p_{3}}^{h_{2}h_{3}}t2_{p_{4}p_{5}}^{h_{4}h_{5}}v_{h_{6}p_{6}}^{h_{7}h_{8}}t2_{p_{7}p_{8}}^{h_{9}h_{10}}t2_{p_{9}p_{10}}^{h_{11}h_{12}}\n + 8.138020833333333e-05 * \\Phi_{h_{0}h_{1}}^{p_{0}p_{1}}t2_{p_{2}p_{3}}^{h_{2}h_{3}}t2_{p_{4}p_{5}}^{h_{4}h_{5}}v_{h_{6}p_{6}}^{h_{7}h_{8}}t2_{p_{7}p_{8}}^{h_{9}h_{10}}t2_{p_{9}p_{10}}^{h_{11}h_{12}}\n + -8.138020833333333e-05 * \\Phi_{h_{0}h_{1}}^{p_{0}p_{1}}t2_{p_{2}p_{3}}^{h_{2}h_{3}}t2_{p_{4}p_{5}}^{h_{4}h_{5}}t2_{p_{6}p_{7}}^{h_{6}h_{7}}v_{h_{8}p_{8}}^{h_{9}h_{10}}t2_{p_{9}p_{10}}^{h_{11}h_{12}}\n + -8.138020833333333e-05 * \\Phi_{h_{0}h_{1}}^{p_{0}p_{1}}t2_{p_{2}p_{3}}^{h_{2}h_{3}}v_{h_{4}p_{4}}^{h_{5}h_{6}}t2_{p_{5}p_{6}}^{h_{7}h_{8}}t2_{p_{7}p_{8}}^{h_{9}h_{10}}t2_{p_{9}p_{10}}^{h_{11}h_{12}}\n + 8.138020833333333e-05 * \\Phi_{h_{0}h_{1}}^{p_{0}p_{1}}t2_{p_{2}p_{3}}^{h_{2}h_{3}}t2_{p_{4}p_{5}}^{h_{4}h_{5}}v_{h_{6}p_{6}}^{h_{7}h_{8}}t2_{p_{7}p_{8}}^{h_{9}h_{10}}t2_{p_{9}p_{10}}^{h_{11}h_{12}}\n + 8.138020833333333e-05 * \\Phi_{h_{0}h_{1}}^{p_{0}p_{1}}t2_{p_{2}p_{3}}^{h_{2}h_{3}}t2_{p_{4}p_{5}}^{h_{4}h_{5}}v_{h_{6}p_{6}}^{h_{7}h_{8}}t2_{p_{7}p_{8}}^{h_{9}h_{10}}t2_{p_{9}p_{10}}^{h_{11}h_{12}}\n + -8.138020833333333e-05 * \\Phi_{h_{0}h_{1}}^{p_{0}p_{1}}t2_{p_{2}p_{3}}^{h_{2}h_{3}}t2_{p_{4}p_{5}}^{h_{4}h_{5}}t2_{p_{6}p_{7}}^{h_{6}h_{7}}v_{h_{8}p_{8}}^{h_{9}h_{10}}t2_{p_{9}p_{10}}^{h_{11}h_{12}}\n + 8.138020833333333e-05 * \\Phi_{h_{0}h_{1}}^{p_{0}p_{1}}t2_{p_{2}p_{3}}^{h_{2}h_{3}}t2_{p_{4}p_{5}}^{h_{4}h_{5}}v_{h_{6}p_{6}}^{h_{7}h_{8}}t2_{p_{7}p_{8}}^{h_{9}h_{10}}t2_{p_{9}p_{10}}^{h_{11}h_{12}}\n + -8.138020833333333e-05 * \\Phi_{h_{0}h_{1}}^{p_{0}p_{1}}t2_{p_{2}p_{3}}^{h_{2}h_{3}}t2_{p_{4}p_{5}}^{h_{4}h_{5}}t2_{p_{6}p_{7}}^{h_{6}h_{7}}v_{h_{8}p_{8}}^{h_{9}h_{10}}t2_{p_{9}p_{10}}^{h_{11}h_{12}}\n + -8.138020833333333e-05 * \\Phi_{h_{0}h_{1}}^{p_{0}p_{1}}t2_{p_{2}p_{3}}^{h_{2}h_{3}}t2_{p_{4}p_{5}}^{h_{4}h_{5}}t2_{p_{6}p_{7}}^{h_{6}h_{7}}v_{h_{8}p_{8}}^{h_{9}h_{10}}t2_{p_{9}p_{10}}^{h_{11}h_{12}}\n + 8.138020833333333e-05 * \\Phi_{h_{0}h_{1}}^{p_{0}p_{1}}t2_{p_{2}p_{3}}^{h_{2}h_{3}}t2_{p_{4}p_{5}}^{h_{4}h_{5}}t2_{p_{6}p_{7}}^{h_{6}h_{7}}t2_{p_{8}p_{9}}^{h_{8}h_{9}}v_{h_{10}p_{10}}^{h_{11}h_{12}}\n + 0.5 * \\Phi_{h_{0}h_{1}}^{p_{0}p_{1}}v_{p_{2}p_{3}}^{h_{2}h_{3}}\n + 0.125 * \\Phi_{h_{0}h_{1}}^{p_{0}p_{1}}v_{p_{2}p_{3}}^{h_{2}h_{3}}t2_{p_{4}p_{5}}^{h_{4}h_{5}}\n + -0.125 * \\Phi_{h_{0}h_{1}}^{p_{0}p_{1}}t2_{p_{2}p_{3}}^{h_{2}h_{3}}v_{p_{4}p_{5}}^{h_{4}h_{5}}\n + 0.015625 * \\Phi_{h_{0}h_{1}}^{p_{0}p_{1}}v_{p_{2}p_{3}}^{h_{2}h_{3}}t2_{p_{4}p_{5}}^{h_{4}h_{5}}t2_{p_{6}p_{7}}^{h_{6}h_{7}}\n + -0.015625 * \\Phi_{h_{0}h_{1}}^{p_{0}p_{1}}t2_{p_{2}p_{3}}^{h_{2}h_{3}}v_{p_{4}p_{5}}^{h_{4}h_{5}}t2_{p_{6}p_{7}}^{h_{6}h_{7}}\n + -0.015625 * \\Phi_{h_{0}h_{1}}^{p_{0}p_{1}}t2_{p_{2}p_{3}}^{h_{2}h_{3}}v_{p_{4}p_{5}}^{h_{4}h_{5}}t2_{p_{6}p_{7}}^{h_{6}h_{7}}\n + 0.015625 * \\Phi_{h_{0}h_{1}}^{p_{0}p_{1}}t2_{p_{2}p_{3}}^{h_{2}h_{3}}t2_{p_{4}p_{5}}^{h_{4}h_{5}}v_{p_{6}p_{7}}^{h_{6}h_{7}}\n + 0.0013020833333333333 * \\Phi_{h_{0}h_{1}}^{p_{0}p_{1}}v_{p_{2}p_{3}}^{h_{2}h_{3}}t2_{p_{4}p_{5}}^{h_{4}h_{5}}t2_{p_{6}p_{7}}^{h_{6}h_{7}}t2_{p_{8}p_{9}}^{h_{8}h_{9}}\n + -0.0013020833333333333 * \\Phi_{h_{0}h_{1}}^{p_{0}p_{1}}t2_{p_{2}p_{3}}^{h_{2}h_{3}}v_{p_{4}p_{5}}^{h_{4}h_{5}}t2_{p_{6}p_{7}}^{h_{6}h_{7}}t2_{p_{8}p_{9}}^{h_{8}h_{9}}\n + -0.0013020833333333333 * \\Phi_{h_{0}h_{1}}^{p_{0}p_{1}}t2_{p_{2}p_{3}}^{h_{2}h_{3}}v_{p_{4}p_{5}}^{h_{4}h_{5}}t2_{p_{6}p_{7}}^{h_{6}h_{7}}t2_{p_{8}p_{9}}^{h_{8}h_{9}}\n + 0.0013020833333333333 * \\Phi_{h_{0}h_{1}}^{p_{0}p_{1}}t2_{p_{2}p_{3}}^{h_{2}h_{3}}t2_{p_{4}p_{5}}^{h_{4}h_{5}}v_{p_{6}p_{7}}^{h_{6}h_{7}}t2_{p_{8}p_{9}}^{h_{8}h_{9}}\n + -0.0013020833333333333 * \\Phi_{h_{0}h_{1}}^{p_{0}p_{1}}t2_{p_{2}p_{3}}^{h_{2}h_{3}}v_{p_{4}p_{5}}^{h_{4}h_{5}}t2_{p_{6}p_{7}}^{h_{6}h_{7}}t2_{p_{8}p_{9}}^{h_{8}h_{9}}\n + 0.0013020833333333333 * \\Phi_{h_{0}h_{1}}^{p_{0}p_{1}}t2_{p_{2}p_{3}}^{h_{2}h_{3}}t2_{p_{4}p_{5}}^{h_{4}h_{5}}v_{p_{6}p_{7}}^{h_{6}h_{7}}t2_{p_{8}p_{9}}^{h_{8}h_{9}}\n + 0.0013020833333333333 * \\Phi_{h_{0}h_{1}}^{p_{0}p_{1}}t2_{p_{2}p_{3}}^{h_{2}h_{3}}t2_{p_{4}p_{5}}^{h_{4}h_{5}}v_{p_{6}p_{7}}^{h_{6}h_{7}}t2_{p_{8}p_{9}}^{h_{8}h_{9}}\n + -0.0013020833333333333 * \\Phi_{h_{0}h_{1}}^{p_{0}p_{1}}t2_{p_{2}p_{3}}^{h_{2}h_{3}}t2_{p_{4}p_{5}}^{h_{4}h_{5}}t2_{p_{6}p_{7}}^{h_{6}h_{7}}v_{p_{8}p_{9}}^{h_{8}h_{9}}\n + 8.138020833333333e-05 * \\Phi_{h_{0}h_{1}}^{p_{0}p_{1}}v_{p_{2}p_{3}}^{h_{2}h_{3}}t2_{p_{4}p_{5}}^{h_{4}h_{5}}t2_{p_{6}p_{7}}^{h_{6}h_{7}}t2_{p_{8}p_{9}}^{h_{8}h_{9}}t2_{p_{10}p_{11}}^{h_{10}h_{11}}\n + -8.138020833333333e-05 * \\Phi_{h_{0}h_{1}}^{p_{0}p_{1}}t2_{p_{2}p_{3}}^{h_{2}h_{3}}v_{p_{4}p_{5}}^{h_{4}h_{5}}t2_{p_{6}p_{7}}^{h_{6}h_{7}}t2_{p_{8}p_{9}}^{h_{8}h_{9}}t2_{p_{10}p_{11}}^{h_{10}h_{11}}\n + -8.138020833333333e-05 * \\Phi_{h_{0}h_{1}}^{p_{0}p_{1}}t2_{p_{2}p_{3}}^{h_{2}h_{3}}v_{p_{4}p_{5}}^{h_{4}h_{5}}t2_{p_{6}p_{7}}^{h_{6}h_{7}}t2_{p_{8}p_{9}}^{h_{8}h_{9}}t2_{p_{10}p_{11}}^{h_{10}h_{11}}\n + 8.138020833333333e-05 * \\Phi_{h_{0}h_{1}}^{p_{0}p_{1}}t2_{p_{2}p_{3}}^{h_{2}h_{3}}t2_{p_{4}p_{5}}^{h_{4}h_{5}}v_{p_{6}p_{7}}^{h_{6}h_{7}}t2_{p_{8}p_{9}}^{h_{8}h_{9}}t2_{p_{10}p_{11}}^{h_{10}h_{11}}\n + -8.138020833333333e-05 * \\Phi_{h_{0}h_{1}}^{p_{0}p_{1}}t2_{p_{2}p_{3}}^{h_{2}h_{3}}v_{p_{4}p_{5}}^{h_{4}h_{5}}t2_{p_{6}p_{7}}^{h_{6}h_{7}}t2_{p_{8}p_{9}}^{h_{8}h_{9}}t2_{p_{10}p_{11}}^{h_{10}h_{11}}\n + 8.138020833333333e-05 * \\Phi_{h_{0}h_{1}}^{p_{0}p_{1}}t2_{p_{2}p_{3}}^{h_{2}h_{3}}t2_{p_{4}p_{5}}^{h_{4}h_{5}}v_{p_{6}p_{7}}^{h_{6}h_{7}}t2_{p_{8}p_{9}}^{h_{8}h_{9}}t2_{p_{10}p_{11}}^{h_{10}h_{11}}\n + 8.138020833333333e-05 * \\Phi_{h_{0}h_{1}}^{p_{0}p_{1}}t2_{p_{2}p_{3}}^{h_{2}h_{3}}t2_{p_{4}p_{5}}^{h_{4}h_{5}}v_{p_{6}p_{7}}^{h_{6}h_{7}}t2_{p_{8}p_{9}}^{h_{8}h_{9}}t2_{p_{10}p_{11}}^{h_{10}h_{11}}\n + -8.138020833333333e-05 * \\Phi_{h_{0}h_{1}}^{p_{0}p_{1}}t2_{p_{2}p_{3}}^{h_{2}h_{3}}t2_{p_{4}p_{5}}^{h_{4}h_{5}}t2_{p_{6}p_{7}}^{h_{6}h_{7}}v_{p_{8}p_{9}}^{h_{8}h_{9}}t2_{p_{10}p_{11}}^{h_{10}h_{11}}\n + -8.138020833333333e-05 * \\Phi_{h_{0}h_{1}}^{p_{0}p_{1}}t2_{p_{2}p_{3}}^{h_{2}h_{3}}v_{p_{4}p_{5}}^{h_{4}h_{5}}t2_{p_{6}p_{7}}^{h_{6}h_{7}}t2_{p_{8}p_{9}}^{h_{8}h_{9}}t2_{p_{10}p_{11}}^{h_{10}h_{11}}\n + 8.138020833333333e-05 * \\Phi_{h_{0}h_{1}}^{p_{0}p_{1}}t2_{p_{2}p_{3}}^{h_{2}h_{3}}t2_{p_{4}p_{5}}^{h_{4}h_{5}}v_{p_{6}p_{7}}^{h_{6}h_{7}}t2_{p_{8}p_{9}}^{h_{8}h_{9}}t2_{p_{10}p_{11}}^{h_{10}h_{11}}\n + 8.138020833333333e-05 * \\Phi_{h_{0}h_{1}}^{p_{0}p_{1}}t2_{p_{2}p_{3}}^{h_{2}h_{3}}t2_{p_{4}p_{5}}^{h_{4}h_{5}}v_{p_{6}p_{7}}^{h_{6}h_{7}}t2_{p_{8}p_{9}}^{h_{8}h_{9}}t2_{p_{10}p_{11}}^{h_{10}h_{11}}\n + -8.138020833333333e-05 * \\Phi_{h_{0}h_{1}}^{p_{0}p_{1}}t2_{p_{2}p_{3}}^{h_{2}h_{3}}t2_{p_{4}p_{5}}^{h_{4}h_{5}}t2_{p_{6}p_{7}}^{h_{6}h_{7}}v_{p_{8}p_{9}}^{h_{8}h_{9}}t2_{p_{10}p_{11}}^{h_{10}h_{11}}\n + 8.138020833333333e-05 * \\Phi_{h_{0}h_{1}}^{p_{0}p_{1}}t2_{p_{2}p_{3}}^{h_{2}h_{3}}t2_{p_{4}p_{5}}^{h_{4}h_{5}}v_{p_{6}p_{7}}^{h_{6}h_{7}}t2_{p_{8}p_{9}}^{h_{8}h_{9}}t2_{p_{10}p_{11}}^{h_{10}h_{11}}\n + -8.138020833333333e-05 * \\Phi_{h_{0}h_{1}}^{p_{0}p_{1}}t2_{p_{2}p_{3}}^{h_{2}h_{3}}t2_{p_{4}p_{5}}^{h_{4}h_{5}}t2_{p_{6}p_{7}}^{h_{6}h_{7}}v_{p_{8}p_{9}}^{h_{8}h_{9}}t2_{p_{10}p_{11}}^{h_{10}h_{11}}\n + -8.138020833333333e-05 * \\Phi_{h_{0}h_{1}}^{p_{0}p_{1}}t2_{p_{2}p_{3}}^{h_{2}h_{3}}t2_{p_{4}p_{5}}^{h_{4}h_{5}}t2_{p_{6}p_{7}}^{h_{6}h_{7}}v_{p_{8}p_{9}}^{h_{8}h_{9}}t2_{p_{10}p_{11}}^{h_{10}h_{11}}\n + 8.138020833333333e-05 * \\Phi_{h_{0}h_{1}}^{p_{0}p_{1}}t2_{p_{2}p_{3}}^{h_{2}h_{3}}t2_{p_{4}p_{5}}^{h_{4}h_{5}}t2_{p_{6}p_{7}}^{h_{6}h_{7}}t2_{p_{8}p_{9}}^{h_{8}h_{9}}v_{p_{10}p_{11}}^{h_{10}h_{11}}\n + 0.5 * \\Phi_{h_{0}h_{1}}^{p_{0}p_{1}}v_{h_{2}h_{3}}^{p_{2}p_{3}}\n + 0.125 * \\Phi_{h_{0}h_{1}}^{p_{0}p_{1}}v_{h_{2}h_{3}}^{p_{2}p_{3}}t2_{p_{4}p_{5}}^{h_{4}h_{5}}\n + -0.125 * \\Phi_{h_{0}h_{1}}^{p_{0}p_{1}}t2_{p_{2}p_{3}}^{h_{2}h_{3}}v_{h_{4}h_{5}}^{p_{4}p_{5}}\n + 0.015625 * \\Phi_{h_{0}h_{1}}^{p_{0}p_{1}}v_{h_{2}h_{3}}^{p_{2}p_{3}}t2_{p_{4}p_{5}}^{h_{4}h_{5}}t2_{p_{6}p_{7}}^{h_{6}h_{7}}\n + -0.015625 * \\Phi_{h_{0}h_{1}}^{p_{0}p_{1}}t2_{p_{2}p_{3}}^{h_{2}h_{3}}v_{h_{4}h_{5}}^{p_{4}p_{5}}t2_{p_{6}p_{7}}^{h_{6}h_{7}}\n + -0.015625 * \\Phi_{h_{0}h_{1}}^{p_{0}p_{1}}t2_{p_{2}p_{3}}^{h_{2}h_{3}}v_{h_{4}h_{5}}^{p_{4}p_{5}}t2_{p_{6}p_{7}}^{h_{6}h_{7}}\n + 0.015625 * \\Phi_{h_{0}h_{1}}^{p_{0}p_{1}}t2_{p_{2}p_{3}}^{h_{2}h_{3}}t2_{p_{4}p_{5}}^{h_{4}h_{5}}v_{h_{6}h_{7}}^{p_{6}p_{7}}\n + 0.0013020833333333333 * \\Phi_{h_{0}h_{1}}^{p_{0}p_{1}}v_{h_{2}h_{3}}^{p_{2}p_{3}}t2_{p_{4}p_{5}}^{h_{4}h_{5}}t2_{p_{6}p_{7}}^{h_{6}h_{7}}t2_{p_{8}p_{9}}^{h_{8}h_{9}}\n + -0.0013020833333333333 * \\Phi_{h_{0}h_{1}}^{p_{0}p_{1}}t2_{p_{2}p_{3}}^{h_{2}h_{3}}v_{h_{4}h_{5}}^{p_{4}p_{5}}t2_{p_{6}p_{7}}^{h_{6}h_{7}}t2_{p_{8}p_{9}}^{h_{8}h_{9}}\n + -0.0013020833333333333 * \\Phi_{h_{0}h_{1}}^{p_{0}p_{1}}t2_{p_{2}p_{3}}^{h_{2}h_{3}}v_{h_{4}h_{5}}^{p_{4}p_{5}}t2_{p_{6}p_{7}}^{h_{6}h_{7}}t2_{p_{8}p_{9}}^{h_{8}h_{9}}\n + 0.0013020833333333333 * \\Phi_{h_{0}h_{1}}^{p_{0}p_{1}}t2_{p_{2}p_{3}}^{h_{2}h_{3}}t2_{p_{4}p_{5}}^{h_{4}h_{5}}v_{h_{6}h_{7}}^{p_{6}p_{7}}t2_{p_{8}p_{9}}^{h_{8}h_{9}}\n + -0.0013020833333333333 * \\Phi_{h_{0}h_{1}}^{p_{0}p_{1}}t2_{p_{2}p_{3}}^{h_{2}h_{3}}v_{h_{4}h_{5}}^{p_{4}p_{5}}t2_{p_{6}p_{7}}^{h_{6}h_{7}}t2_{p_{8}p_{9}}^{h_{8}h_{9}}\n + 0.0013020833333333333 * \\Phi_{h_{0}h_{1}}^{p_{0}p_{1}}t2_{p_{2}p_{3}}^{h_{2}h_{3}}t2_{p_{4}p_{5}}^{h_{4}h_{5}}v_{h_{6}h_{7}}^{p_{6}p_{7}}t2_{p_{8}p_{9}}^{h_{8}h_{9}}\n + 0.0013020833333333333 * \\Phi_{h_{0}h_{1}}^{p_{0}p_{1}}t2_{p_{2}p_{3}}^{h_{2}h_{3}}t2_{p_{4}p_{5}}^{h_{4}h_{5}}v_{h_{6}h_{7}}^{p_{6}p_{7}}t2_{p_{8}p_{9}}^{h_{8}h_{9}}\n + -0.0013020833333333333 * \\Phi_{h_{0}h_{1}}^{p_{0}p_{1}}t2_{p_{2}p_{3}}^{h_{2}h_{3}}t2_{p_{4}p_{5}}^{h_{4}h_{5}}t2_{p_{6}p_{7}}^{h_{6}h_{7}}v_{h_{8}h_{9}}^{p_{8}p_{9}}\n + 8.138020833333333e-05 * \\Phi_{h_{0}h_{1}}^{p_{0}p_{1}}v_{h_{2}h_{3}}^{p_{2}p_{3}}t2_{p_{4}p_{5}}^{h_{4}h_{5}}t2_{p_{6}p_{7}}^{h_{6}h_{7}}t2_{p_{8}p_{9}}^{h_{8}h_{9}}t2_{p_{10}p_{11}}^{h_{10}h_{11}}\n + -8.138020833333333e-05 * \\Phi_{h_{0}h_{1}}^{p_{0}p_{1}}t2_{p_{2}p_{3}}^{h_{2}h_{3}}v_{h_{4}h_{5}}^{p_{4}p_{5}}t2_{p_{6}p_{7}}^{h_{6}h_{7}}t2_{p_{8}p_{9}}^{h_{8}h_{9}}t2_{p_{10}p_{11}}^{h_{10}h_{11}}\n + -8.138020833333333e-05 * \\Phi_{h_{0}h_{1}}^{p_{0}p_{1}}t2_{p_{2}p_{3}}^{h_{2}h_{3}}v_{h_{4}h_{5}}^{p_{4}p_{5}}t2_{p_{6}p_{7}}^{h_{6}h_{7}}t2_{p_{8}p_{9}}^{h_{8}h_{9}}t2_{p_{10}p_{11}}^{h_{10}h_{11}}\n + 8.138020833333333e-05 * \\Phi_{h_{0}h_{1}}^{p_{0}p_{1}}t2_{p_{2}p_{3}}^{h_{2}h_{3}}t2_{p_{4}p_{5}}^{h_{4}h_{5}}v_{h_{6}h_{7}}^{p_{6}p_{7}}t2_{p_{8}p_{9}}^{h_{8}h_{9}}t2_{p_{10}p_{11}}^{h_{10}h_{11}}\n + -8.138020833333333e-05 * \\Phi_{h_{0}h_{1}}^{p_{0}p_{1}}t2_{p_{2}p_{3}}^{h_{2}h_{3}}v_{h_{4}h_{5}}^{p_{4}p_{5}}t2_{p_{6}p_{7}}^{h_{6}h_{7}}t2_{p_{8}p_{9}}^{h_{8}h_{9}}t2_{p_{10}p_{11}}^{h_{10}h_{11}}\n + 8.138020833333333e-05 * \\Phi_{h_{0}h_{1}}^{p_{0}p_{1}}t2_{p_{2}p_{3}}^{h_{2}h_{3}}t2_{p_{4}p_{5}}^{h_{4}h_{5}}v_{h_{6}h_{7}}^{p_{6}p_{7}}t2_{p_{8}p_{9}}^{h_{8}h_{9}}t2_{p_{10}p_{11}}^{h_{10}h_{11}}\n + 8.138020833333333e-05 * \\Phi_{h_{0}h_{1}}^{p_{0}p_{1}}t2_{p_{2}p_{3}}^{h_{2}h_{3}}t2_{p_{4}p_{5}}^{h_{4}h_{5}}v_{h_{6}h_{7}}^{p_{6}p_{7}}t2_{p_{8}p_{9}}^{h_{8}h_{9}}t2_{p_{10}p_{11}}^{h_{10}h_{11}}\n + -8.138020833333333e-05 * \\Phi_{h_{0}h_{1}}^{p_{0}p_{1}}t2_{p_{2}p_{3}}^{h_{2}h_{3}}t2_{p_{4}p_{5}}^{h_{4}h_{5}}t2_{p_{6}p_{7}}^{h_{6}h_{7}}v_{h_{8}h_{9}}^{p_{8}p_{9}}t2_{p_{10}p_{11}}^{h_{10}h_{11}}\n + -8.138020833333333e-05 * \\Phi_{h_{0}h_{1}}^{p_{0}p_{1}}t2_{p_{2}p_{3}}^{h_{2}h_{3}}v_{h_{4}h_{5}}^{p_{4}p_{5}}t2_{p_{6}p_{7}}^{h_{6}h_{7}}t2_{p_{8}p_{9}}^{h_{8}h_{9}}t2_{p_{10}p_{11}}^{h_{10}h_{11}}\n + 8.138020833333333e-05 * \\Phi_{h_{0}h_{1}}^{p_{0}p_{1}}t2_{p_{2}p_{3}}^{h_{2}h_{3}}t2_{p_{4}p_{5}}^{h_{4}h_{5}}v_{h_{6}h_{7}}^{p_{6}p_{7}}t2_{p_{8}p_{9}}^{h_{8}h_{9}}t2_{p_{10}p_{11}}^{h_{10}h_{11}}\n + 8.138020833333333e-05 * \\Phi_{h_{0}h_{1}}^{p_{0}p_{1}}t2_{p_{2}p_{3}}^{h_{2}h_{3}}t2_{p_{4}p_{5}}^{h_{4}h_{5}}v_{h_{6}h_{7}}^{p_{6}p_{7}}t2_{p_{8}p_{9}}^{h_{8}h_{9}}t2_{p_{10}p_{11}}^{h_{10}h_{11}}\n + -8.138020833333333e-05 * \\Phi_{h_{0}h_{1}}^{p_{0}p_{1}}t2_{p_{2}p_{3}}^{h_{2}h_{3}}t2_{p_{4}p_{5}}^{h_{4}h_{5}}t2_{p_{6}p_{7}}^{h_{6}h_{7}}v_{h_{8}h_{9}}^{p_{8}p_{9}}t2_{p_{10}p_{11}}^{h_{10}h_{11}}\n + 8.138020833333333e-05 * \\Phi_{h_{0}h_{1}}^{p_{0}p_{1}}t2_{p_{2}p_{3}}^{h_{2}h_{3}}t2_{p_{4}p_{5}}^{h_{4}h_{5}}v_{h_{6}h_{7}}^{p_{6}p_{7}}t2_{p_{8}p_{9}}^{h_{8}h_{9}}t2_{p_{10}p_{11}}^{h_{10}h_{11}}\n + -8.138020833333333e-05 * \\Phi_{h_{0}h_{1}}^{p_{0}p_{1}}t2_{p_{2}p_{3}}^{h_{2}h_{3}}t2_{p_{4}p_{5}}^{h_{4}h_{5}}t2_{p_{6}p_{7}}^{h_{6}h_{7}}v_{h_{8}h_{9}}^{p_{8}p_{9}}t2_{p_{10}p_{11}}^{h_{10}h_{11}}\n + -8.138020833333333e-05 * \\Phi_{h_{0}h_{1}}^{p_{0}p_{1}}t2_{p_{2}p_{3}}^{h_{2}h_{3}}t2_{p_{4}p_{5}}^{h_{4}h_{5}}t2_{p_{6}p_{7}}^{h_{6}h_{7}}v_{h_{8}h_{9}}^{p_{8}p_{9}}t2_{p_{10}p_{11}}^{h_{10}h_{11}}\n + 8.138020833333333e-05 * \\Phi_{h_{0}h_{1}}^{p_{0}p_{1}}t2_{p_{2}p_{3}}^{h_{2}h_{3}}t2_{p_{4}p_{5}}^{h_{4}h_{5}}t2_{p_{6}p_{7}}^{h_{6}h_{7}}t2_{p_{8}p_{9}}^{h_{8}h_{9}}v_{h_{10}h_{11}}^{p_{10}p_{11}}\n"
     ]
    }
   ],
   "source": [
    "CCDDoublesResidual = TensorSum(CCDDoublesResidualSummandList)\n",
    "print(CCDDoublesResidual)"
   ]
  },
  {
   "cell_type": "code",
   "execution_count": 192,
   "metadata": {},
   "outputs": [
    {
     "output_type": "execute_result",
     "data": {
      "text/plain": [
       "403"
      ]
     },
     "metadata": {},
     "execution_count": 192
    }
   ],
   "source": [
    "len(CCDDoublesResidualSummandList)"
   ]
  },
  {
   "cell_type": "code",
   "execution_count": 193,
   "metadata": {},
   "outputs": [
    {
     "output_type": "stream",
     "name": "stdout",
     "text": [
      "2265.9064230309996\n-0.5 * \\Phi_{h_{2}h_{3}}^{p_{0}p_{1}}f_{p_{0}}^{p_{3}}t2_{p_{1}p_{3}}^{h_{2}h_{3}}\n + 1.0 * \\Phi_{h_{2}h_{3}}^{p_{0}p_{1}}f_{p_{0}}^{p_{3}}t2_{p_{3}p_{1}}^{h_{2}h_{3}}\n + 1.0 * \\Phi_{h_{2}h_{3}}^{p_{0}p_{1}}f_{p_{1}}^{p_{3}}t2_{p_{0}p_{3}}^{h_{2}h_{3}}\n + -0.5 * \\Phi_{h_{2}h_{3}}^{p_{0}p_{1}}f_{p_{1}}^{p_{3}}t2_{p_{3}p_{0}}^{h_{2}h_{3}}\n + 1.0 * \\Phi_{h_{3}h_{2}}^{p_{0}p_{1}}f_{p_{0}}^{p_{3}}t2_{p_{1}p_{3}}^{h_{2}h_{3}}\n + -0.5 * \\Phi_{h_{3}h_{2}}^{p_{0}p_{1}}f_{p_{0}}^{p_{3}}t2_{p_{3}p_{1}}^{h_{2}h_{3}}\n + -0.5 * \\Phi_{h_{3}h_{2}}^{p_{0}p_{1}}f_{p_{1}}^{p_{3}}t2_{p_{0}p_{3}}^{h_{2}h_{3}}\n + 1.0 * \\Phi_{h_{3}h_{2}}^{p_{0}p_{1}}f_{p_{1}}^{p_{3}}t2_{p_{3}p_{0}}^{h_{2}h_{3}}\n + 0.5 * \\Phi_{h_{3}h_{4}}^{p_{0}p_{1}}f_{h_{5}}^{h_{3}}t2_{p_{0}p_{1}}^{h_{4}h_{5}}\n + -1.0 * \\Phi_{h_{3}h_{4}}^{p_{0}p_{1}}f_{h_{5}}^{h_{3}}t2_{p_{1}p_{0}}^{h_{4}h_{5}}\n + -1.0 * \\Phi_{h_{3}h_{5}}^{p_{0}p_{1}}f_{h_{4}}^{h_{3}}t2_{p_{0}p_{1}}^{h_{4}h_{5}}\n + 0.5 * \\Phi_{h_{3}h_{5}}^{p_{0}p_{1}}f_{h_{4}}^{h_{3}}t2_{p_{1}p_{0}}^{h_{4}h_{5}}\n + -1.0 * \\Phi_{h_{4}h_{3}}^{p_{0}p_{1}}f_{h_{5}}^{h_{3}}t2_{p_{0}p_{1}}^{h_{4}h_{5}}\n + 0.5 * \\Phi_{h_{4}h_{3}}^{p_{0}p_{1}}f_{h_{5}}^{h_{3}}t2_{p_{1}p_{0}}^{h_{4}h_{5}}\n + 2.0 * \\Phi_{h_{4}h_{5}}^{p_{0}p_{1}}f_{h_{3}}^{h_{3}}t2_{p_{0}p_{1}}^{h_{4}h_{5}}\n + -1.0 * \\Phi_{h_{4}h_{5}}^{p_{0}p_{1}}f_{h_{3}}^{h_{3}}t2_{p_{1}p_{0}}^{h_{4}h_{5}}\n + 0.5 * \\Phi_{h_{5}h_{3}}^{p_{0}p_{1}}f_{h_{4}}^{h_{3}}t2_{p_{0}p_{1}}^{h_{4}h_{5}}\n + -1.0 * \\Phi_{h_{5}h_{3}}^{p_{0}p_{1}}f_{h_{4}}^{h_{3}}t2_{p_{1}p_{0}}^{h_{4}h_{5}}\n + -1.0 * \\Phi_{h_{5}h_{4}}^{p_{0}p_{1}}f_{h_{3}}^{h_{3}}t2_{p_{0}p_{1}}^{h_{4}h_{5}}\n + 2.0 * \\Phi_{h_{5}h_{4}}^{p_{0}p_{1}}f_{h_{3}}^{h_{3}}t2_{p_{1}p_{0}}^{h_{4}h_{5}}\n + -2.0 * \\Phi_{h_{2}h_{3}}^{p_{0}p_{1}}t2_{p_{0}p_{1}}^{h_{2}h_{3}}f_{h_{5}}^{h_{5}}\n + 1.0 * \\Phi_{h_{2}h_{3}}^{p_{0}p_{1}}t2_{p_{1}p_{0}}^{h_{2}h_{3}}f_{h_{5}}^{h_{5}}\n + 1.0 * \\Phi_{h_{3}h_{2}}^{p_{0}p_{1}}t2_{p_{0}p_{1}}^{h_{2}h_{3}}f_{h_{5}}^{h_{5}}\n + -2.0 * \\Phi_{h_{3}h_{2}}^{p_{0}p_{1}}t2_{p_{1}p_{0}}^{h_{2}h_{3}}f_{h_{5}}^{h_{5}}\n + -0.25 * \\Phi_{h_{2}h_{3}}^{p_{0}p_{1}}v_{p_{0}p_{1}}^{p_{4}p_{5}}t2_{p_{4}p_{5}}^{h_{2}h_{3}}\n + 0.5 * \\Phi_{h_{2}h_{3}}^{p_{0}p_{1}}v_{p_{0}p_{1}}^{p_{4}p_{5}}t2_{p_{5}p_{4}}^{h_{2}h_{3}}\n + 0.5 * \\Phi_{h_{2}h_{3}}^{p_{0}p_{1}}v_{p_{1}p_{0}}^{p_{4}p_{5}}t2_{p_{4}p_{5}}^{h_{2}h_{3}}\n + -0.25 * \\Phi_{h_{2}h_{3}}^{p_{0}p_{1}}v_{p_{1}p_{0}}^{p_{4}p_{5}}t2_{p_{5}p_{4}}^{h_{2}h_{3}}\n + 0.5 * \\Phi_{h_{3}h_{2}}^{p_{0}p_{1}}v_{p_{0}p_{1}}^{p_{4}p_{5}}t2_{p_{4}p_{5}}^{h_{2}h_{3}}\n + -0.25 * \\Phi_{h_{3}h_{2}}^{p_{0}p_{1}}v_{p_{0}p_{1}}^{p_{4}p_{5}}t2_{p_{5}p_{4}}^{h_{2}h_{3}}\n + -0.25 * \\Phi_{h_{3}h_{2}}^{p_{0}p_{1}}v_{p_{1}p_{0}}^{p_{4}p_{5}}t2_{p_{4}p_{5}}^{h_{2}h_{3}}\n + 0.5 * \\Phi_{h_{3}h_{2}}^{p_{0}p_{1}}v_{p_{1}p_{0}}^{p_{4}p_{5}}t2_{p_{5}p_{4}}^{h_{2}h_{3}}\n + -0.25 * \\Phi_{h_{4}h_{5}}^{p_{0}p_{1}}v_{h_{6}h_{7}}^{h_{4}h_{5}}t2_{p_{0}p_{1}}^{h_{6}h_{7}}\n + 0.5 * \\Phi_{h_{4}h_{5}}^{p_{0}p_{1}}v_{h_{7}h_{6}}^{h_{4}h_{5}}t2_{p_{0}p_{1}}^{h_{6}h_{7}}\n + 0.5 * \\Phi_{h_{4}h_{5}}^{p_{0}p_{1}}v_{h_{6}h_{7}}^{h_{4}h_{5}}t2_{p_{1}p_{0}}^{h_{6}h_{7}}\n + -0.25 * \\Phi_{h_{4}h_{5}}^{p_{0}p_{1}}v_{h_{7}h_{6}}^{h_{4}h_{5}}t2_{p_{1}p_{0}}^{h_{6}h_{7}}\n + 0.5 * \\Phi_{h_{4}h_{6}}^{p_{0}p_{1}}v_{h_{5}h_{7}}^{h_{4}h_{5}}t2_{p_{0}p_{1}}^{h_{6}h_{7}}\n + -0.25 * \\Phi_{h_{4}h_{6}}^{p_{0}p_{1}}v_{h_{7}h_{5}}^{h_{4}h_{5}}t2_{p_{0}p_{1}}^{h_{6}h_{7}}\n + -1.0 * \\Phi_{h_{4}h_{6}}^{p_{0}p_{1}}v_{h_{5}h_{7}}^{h_{4}h_{5}}t2_{p_{1}p_{0}}^{h_{6}h_{7}}\n + 0.5 * \\Phi_{h_{4}h_{6}}^{p_{0}p_{1}}v_{h_{7}h_{5}}^{h_{4}h_{5}}t2_{p_{1}p_{0}}^{h_{6}h_{7}}\n + -1.0 * \\Phi_{h_{4}h_{7}}^{p_{0}p_{1}}v_{h_{5}h_{6}}^{h_{4}h_{5}}t2_{p_{0}p_{1}}^{h_{6}h_{7}}\n + 0.5 * \\Phi_{h_{4}h_{7}}^{p_{0}p_{1}}v_{h_{6}h_{5}}^{h_{4}h_{5}}t2_{p_{0}p_{1}}^{h_{6}h_{7}}\n + 0.5 * \\Phi_{h_{4}h_{7}}^{p_{0}p_{1}}v_{h_{5}h_{6}}^{h_{4}h_{5}}t2_{p_{1}p_{0}}^{h_{6}h_{7}}\n + -0.25 * \\Phi_{h_{4}h_{7}}^{p_{0}p_{1}}v_{h_{6}h_{5}}^{h_{4}h_{5}}t2_{p_{1}p_{0}}^{h_{6}h_{7}}\n + 0.5 * \\Phi_{h_{5}h_{4}}^{p_{0}p_{1}}v_{h_{6}h_{7}}^{h_{4}h_{5}}t2_{p_{0}p_{1}}^{h_{6}h_{7}}\n + -0.25 * \\Phi_{h_{5}h_{4}}^{p_{0}p_{1}}v_{h_{7}h_{6}}^{h_{4}h_{5}}t2_{p_{0}p_{1}}^{h_{6}h_{7}}\n + -0.25 * \\Phi_{h_{5}h_{4}}^{p_{0}p_{1}}v_{h_{6}h_{7}}^{h_{4}h_{5}}t2_{p_{1}p_{0}}^{h_{6}h_{7}}\n + 0.5 * \\Phi_{h_{5}h_{4}}^{p_{0}p_{1}}v_{h_{7}h_{6}}^{h_{4}h_{5}}t2_{p_{1}p_{0}}^{h_{6}h_{7}}\n + -0.25 * \\Phi_{h_{5}h_{6}}^{p_{0}p_{1}}v_{h_{4}h_{7}}^{h_{4}h_{5}}t2_{p_{0}p_{1}}^{h_{6}h_{7}}\n + 0.5 * \\Phi_{h_{5}h_{6}}^{p_{0}p_{1}}v_{h_{7}h_{4}}^{h_{4}h_{5}}t2_{p_{0}p_{1}}^{h_{6}h_{7}}\n + 0.5 * \\Phi_{h_{5}h_{6}}^{p_{0}p_{1}}v_{h_{4}h_{7}}^{h_{4}h_{5}}t2_{p_{1}p_{0}}^{h_{6}h_{7}}\n + -1.0 * \\Phi_{h_{5}h_{6}}^{p_{0}p_{1}}v_{h_{7}h_{4}}^{h_{4}h_{5}}t2_{p_{1}p_{0}}^{h_{6}h_{7}}\n + 0.5 * \\Phi_{h_{5}h_{7}}^{p_{0}p_{1}}v_{h_{4}h_{6}}^{h_{4}h_{5}}t2_{p_{0}p_{1}}^{h_{6}h_{7}}\n + -1.0 * \\Phi_{h_{5}h_{7}}^{p_{0}p_{1}}v_{h_{6}h_{4}}^{h_{4}h_{5}}t2_{p_{0}p_{1}}^{h_{6}h_{7}}\n + -0.25 * \\Phi_{h_{5}h_{7}}^{p_{0}p_{1}}v_{h_{4}h_{6}}^{h_{4}h_{5}}t2_{p_{1}p_{0}}^{h_{6}h_{7}}\n + 0.5 * \\Phi_{h_{5}h_{7}}^{p_{0}p_{1}}v_{h_{6}h_{4}}^{h_{4}h_{5}}t2_{p_{1}p_{0}}^{h_{6}h_{7}}\n + -1.0 * \\Phi_{h_{6}h_{4}}^{p_{0}p_{1}}v_{h_{5}h_{7}}^{h_{4}h_{5}}t2_{p_{0}p_{1}}^{h_{6}h_{7}}\n + 0.5 * \\Phi_{h_{6}h_{4}}^{p_{0}p_{1}}v_{h_{7}h_{5}}^{h_{4}h_{5}}t2_{p_{0}p_{1}}^{h_{6}h_{7}}\n + 0.5 * \\Phi_{h_{6}h_{4}}^{p_{0}p_{1}}v_{h_{5}h_{7}}^{h_{4}h_{5}}t2_{p_{1}p_{0}}^{h_{6}h_{7}}\n + -0.25 * \\Phi_{h_{6}h_{4}}^{p_{0}p_{1}}v_{h_{7}h_{5}}^{h_{4}h_{5}}t2_{p_{1}p_{0}}^{h_{6}h_{7}}\n + 0.5 * \\Phi_{h_{6}h_{5}}^{p_{0}p_{1}}v_{h_{4}h_{7}}^{h_{4}h_{5}}t2_{p_{0}p_{1}}^{h_{6}h_{7}}\n + -1.0 * \\Phi_{h_{6}h_{5}}^{p_{0}p_{1}}v_{h_{7}h_{4}}^{h_{4}h_{5}}t2_{p_{0}p_{1}}^{h_{6}h_{7}}\n + -0.25 * \\Phi_{h_{6}h_{5}}^{p_{0}p_{1}}v_{h_{4}h_{7}}^{h_{4}h_{5}}t2_{p_{1}p_{0}}^{h_{6}h_{7}}\n + 0.5 * \\Phi_{h_{6}h_{5}}^{p_{0}p_{1}}v_{h_{7}h_{4}}^{h_{4}h_{5}}t2_{p_{1}p_{0}}^{h_{6}h_{7}}\n + -1.0 * \\Phi_{h_{6}h_{7}}^{p_{0}p_{1}}v_{h_{4}h_{5}}^{h_{4}h_{5}}t2_{p_{0}p_{1}}^{h_{6}h_{7}}\n + 2.0 * \\Phi_{h_{6}h_{7}}^{p_{0}p_{1}}v_{h_{5}h_{4}}^{h_{4}h_{5}}t2_{p_{0}p_{1}}^{h_{6}h_{7}}\n + 0.5 * \\Phi_{h_{6}h_{7}}^{p_{0}p_{1}}v_{h_{4}h_{5}}^{h_{4}h_{5}}t2_{p_{1}p_{0}}^{h_{6}h_{7}}\n + -1.0 * \\Phi_{h_{6}h_{7}}^{p_{0}p_{1}}v_{h_{5}h_{4}}^{h_{4}h_{5}}t2_{p_{1}p_{0}}^{h_{6}h_{7}}\n + 0.5 * \\Phi_{h_{7}h_{4}}^{p_{0}p_{1}}v_{h_{5}h_{6}}^{h_{4}h_{5}}t2_{p_{0}p_{1}}^{h_{6}h_{7}}\n + -0.25 * \\Phi_{h_{7}h_{4}}^{p_{0}p_{1}}v_{h_{6}h_{5}}^{h_{4}h_{5}}t2_{p_{0}p_{1}}^{h_{6}h_{7}}\n + -1.0 * \\Phi_{h_{7}h_{4}}^{p_{0}p_{1}}v_{h_{5}h_{6}}^{h_{4}h_{5}}t2_{p_{1}p_{0}}^{h_{6}h_{7}}\n + 0.5 * \\Phi_{h_{7}h_{4}}^{p_{0}p_{1}}v_{h_{6}h_{5}}^{h_{4}h_{5}}t2_{p_{1}p_{0}}^{h_{6}h_{7}}\n + -0.25 * \\Phi_{h_{7}h_{5}}^{p_{0}p_{1}}v_{h_{4}h_{6}}^{h_{4}h_{5}}t2_{p_{0}p_{1}}^{h_{6}h_{7}}\n + 0.5 * \\Phi_{h_{7}h_{5}}^{p_{0}p_{1}}v_{h_{6}h_{4}}^{h_{4}h_{5}}t2_{p_{0}p_{1}}^{h_{6}h_{7}}\n + 0.5 * \\Phi_{h_{7}h_{5}}^{p_{0}p_{1}}v_{h_{4}h_{6}}^{h_{4}h_{5}}t2_{p_{1}p_{0}}^{h_{6}h_{7}}\n + -1.0 * \\Phi_{h_{7}h_{5}}^{p_{0}p_{1}}v_{h_{6}h_{4}}^{h_{4}h_{5}}t2_{p_{1}p_{0}}^{h_{6}h_{7}}\n + 0.5 * \\Phi_{h_{7}h_{6}}^{p_{0}p_{1}}v_{h_{4}h_{5}}^{h_{4}h_{5}}t2_{p_{0}p_{1}}^{h_{6}h_{7}}\n + -1.0 * \\Phi_{h_{7}h_{6}}^{p_{0}p_{1}}v_{h_{5}h_{4}}^{h_{4}h_{5}}t2_{p_{0}p_{1}}^{h_{6}h_{7}}\n + -1.0 * \\Phi_{h_{7}h_{6}}^{p_{0}p_{1}}v_{h_{4}h_{5}}^{h_{4}h_{5}}t2_{p_{1}p_{0}}^{h_{6}h_{7}}\n + 2.0 * \\Phi_{h_{7}h_{6}}^{p_{0}p_{1}}v_{h_{5}h_{4}}^{h_{4}h_{5}}t2_{p_{1}p_{0}}^{h_{6}h_{7}}\n + 1.0 * \\Phi_{h_{2}h_{3}}^{p_{0}p_{1}}t2_{p_{0}p_{1}}^{h_{2}h_{3}}v_{h_{6}h_{7}}^{h_{6}h_{7}}\n + -2.0 * \\Phi_{h_{2}h_{3}}^{p_{0}p_{1}}t2_{p_{0}p_{1}}^{h_{2}h_{3}}v_{h_{7}h_{6}}^{h_{6}h_{7}}\n + -0.5 * \\Phi_{h_{2}h_{3}}^{p_{0}p_{1}}t2_{p_{1}p_{0}}^{h_{2}h_{3}}v_{h_{6}h_{7}}^{h_{6}h_{7}}\n + 1.0 * \\Phi_{h_{2}h_{3}}^{p_{0}p_{1}}t2_{p_{1}p_{0}}^{h_{2}h_{3}}v_{h_{7}h_{6}}^{h_{6}h_{7}}\n + -0.5 * \\Phi_{h_{3}h_{2}}^{p_{0}p_{1}}t2_{p_{0}p_{1}}^{h_{2}h_{3}}v_{h_{6}h_{7}}^{h_{6}h_{7}}\n + 1.0 * \\Phi_{h_{3}h_{2}}^{p_{0}p_{1}}t2_{p_{0}p_{1}}^{h_{2}h_{3}}v_{h_{7}h_{6}}^{h_{6}h_{7}}\n + 1.0 * \\Phi_{h_{3}h_{2}}^{p_{0}p_{1}}t2_{p_{1}p_{0}}^{h_{2}h_{3}}v_{h_{6}h_{7}}^{h_{6}h_{7}}\n + -2.0 * \\Phi_{h_{3}h_{2}}^{p_{0}p_{1}}t2_{p_{1}p_{0}}^{h_{2}h_{3}}v_{h_{7}h_{6}}^{h_{6}h_{7}}\n + -0.5 * \\Phi_{h_{3}h_{4}}^{p_{0}p_{1}}v_{h_{5}p_{0}}^{p_{3}h_{3}}t2_{p_{1}p_{3}}^{h_{4}h_{5}}\n + 0.25 * \\Phi_{h_{3}h_{4}}^{p_{0}p_{1}}v_{h_{5}p_{0}}^{p_{3}h_{3}}t2_{p_{3}p_{1}}^{h_{4}h_{5}}\n + 0.25 * \\Phi_{h_{3}h_{4}}^{p_{0}p_{1}}v_{h_{5}p_{1}}^{p_{3}h_{3}}t2_{p_{0}p_{3}}^{h_{4}h_{5}}\n + -0.5 * \\Phi_{h_{3}h_{4}}^{p_{0}p_{1}}v_{h_{5}p_{1}}^{p_{3}h_{3}}t2_{p_{3}p_{0}}^{h_{4}h_{5}}\n + 0.25 * \\Phi_{h_{3}h_{5}}^{p_{0}p_{1}}v_{h_{4}p_{0}}^{p_{3}h_{3}}t2_{p_{1}p_{3}}^{h_{4}h_{5}}\n + -0.5 * \\Phi_{h_{3}h_{5}}^{p_{0}p_{1}}v_{h_{4}p_{0}}^{p_{3}h_{3}}t2_{p_{3}p_{1}}^{h_{4}h_{5}}\n + -0.5 * \\Phi_{h_{3}h_{5}}^{p_{0}p_{1}}v_{h_{4}p_{1}}^{p_{3}h_{3}}t2_{p_{0}p_{3}}^{h_{4}h_{5}}\n + 0.25 * \\Phi_{h_{3}h_{5}}^{p_{0}p_{1}}v_{h_{4}p_{1}}^{p_{3}h_{3}}t2_{p_{3}p_{0}}^{h_{4}h_{5}}\n + 0.25 * \\Phi_{h_{4}h_{3}}^{p_{0}p_{1}}v_{h_{5}p_{0}}^{p_{3}h_{3}}t2_{p_{1}p_{3}}^{h_{4}h_{5}}\n + -0.5 * \\Phi_{h_{4}h_{3}}^{p_{0}p_{1}}v_{h_{5}p_{0}}^{p_{3}h_{3}}t2_{p_{3}p_{1}}^{h_{4}h_{5}}\n + -0.5 * \\Phi_{h_{4}h_{3}}^{p_{0}p_{1}}v_{h_{5}p_{1}}^{p_{3}h_{3}}t2_{p_{0}p_{3}}^{h_{4}h_{5}}\n + 0.25 * \\Phi_{h_{4}h_{3}}^{p_{0}p_{1}}v_{h_{5}p_{1}}^{p_{3}h_{3}}t2_{p_{3}p_{0}}^{h_{4}h_{5}}\n + -0.5 * \\Phi_{h_{4}h_{5}}^{p_{0}p_{1}}v_{h_{3}p_{0}}^{p_{3}h_{3}}t2_{p_{1}p_{3}}^{h_{4}h_{5}}\n + 1.0 * \\Phi_{h_{4}h_{5}}^{p_{0}p_{1}}v_{h_{3}p_{0}}^{p_{3}h_{3}}t2_{p_{3}p_{1}}^{h_{4}h_{5}}\n + 1.0 * \\Phi_{h_{4}h_{5}}^{p_{0}p_{1}}v_{h_{3}p_{1}}^{p_{3}h_{3}}t2_{p_{0}p_{3}}^{h_{4}h_{5}}\n + -0.5 * \\Phi_{h_{4}h_{5}}^{p_{0}p_{1}}v_{h_{3}p_{1}}^{p_{3}h_{3}}t2_{p_{3}p_{0}}^{h_{4}h_{5}}\n + -0.5 * \\Phi_{h_{5}h_{3}}^{p_{0}p_{1}}v_{h_{4}p_{0}}^{p_{3}h_{3}}t2_{p_{1}p_{3}}^{h_{4}h_{5}}\n + 0.25 * \\Phi_{h_{5}h_{3}}^{p_{0}p_{1}}v_{h_{4}p_{0}}^{p_{3}h_{3}}t2_{p_{3}p_{1}}^{h_{4}h_{5}}\n + 0.25 * \\Phi_{h_{5}h_{3}}^{p_{0}p_{1}}v_{h_{4}p_{1}}^{p_{3}h_{3}}t2_{p_{0}p_{3}}^{h_{4}h_{5}}\n + -0.5 * \\Phi_{h_{5}h_{3}}^{p_{0}p_{1}}v_{h_{4}p_{1}}^{p_{3}h_{3}}t2_{p_{3}p_{0}}^{h_{4}h_{5}}\n + 1.0 * \\Phi_{h_{5}h_{4}}^{p_{0}p_{1}}v_{h_{3}p_{0}}^{p_{3}h_{3}}t2_{p_{1}p_{3}}^{h_{4}h_{5}}\n + -0.5 * \\Phi_{h_{5}h_{4}}^{p_{0}p_{1}}v_{h_{3}p_{0}}^{p_{3}h_{3}}t2_{p_{3}p_{1}}^{h_{4}h_{5}}\n + -0.5 * \\Phi_{h_{5}h_{4}}^{p_{0}p_{1}}v_{h_{3}p_{1}}^{p_{3}h_{3}}t2_{p_{0}p_{3}}^{h_{4}h_{5}}\n + 1.0 * \\Phi_{h_{5}h_{4}}^{p_{0}p_{1}}v_{h_{3}p_{1}}^{p_{3}h_{3}}t2_{p_{3}p_{0}}^{h_{4}h_{5}}\n + 2.0 * \\Phi_{h_{2}h_{3}}^{p_{0}p_{1}}v_{p_{0}p_{1}}^{h_{2}h_{3}}\n + -1.0 * \\Phi_{h_{2}h_{3}}^{p_{0}p_{1}}v_{p_{1}p_{0}}^{h_{2}h_{3}}\n + -1.0 * \\Phi_{h_{3}h_{2}}^{p_{0}p_{1}}v_{p_{0}p_{1}}^{h_{2}h_{3}}\n + 2.0 * \\Phi_{h_{3}h_{2}}^{p_{0}p_{1}}v_{p_{1}p_{0}}^{h_{2}h_{3}}\n + 0.25 * \\Phi_{h_{4}h_{5}}^{p_{0}p_{1}}v_{h_{6}h_{7}}^{p_{2}p_{3}}t2_{p_{0}p_{1}}^{h_{4}h_{5}}t2_{p_{2}p_{3}}^{h_{6}h_{7}}\n + -0.125 * \\Phi_{h_{4}h_{5}}^{p_{0}p_{1}}v_{h_{6}h_{7}}^{p_{2}p_{3}}t2_{p_{0}p_{1}}^{h_{4}h_{5}}t2_{p_{3}p_{2}}^{h_{6}h_{7}}\n + -0.125 * \\Phi_{h_{4}h_{5}}^{p_{0}p_{1}}v_{h_{7}h_{6}}^{p_{2}p_{3}}t2_{p_{0}p_{1}}^{h_{4}h_{5}}t2_{p_{2}p_{3}}^{h_{6}h_{7}}\n + 0.25 * \\Phi_{h_{4}h_{5}}^{p_{0}p_{1}}v_{h_{7}h_{6}}^{p_{2}p_{3}}t2_{p_{0}p_{1}}^{h_{4}h_{5}}t2_{p_{3}p_{2}}^{h_{6}h_{7}}\n + -0.125 * \\Phi_{h_{4}h_{5}}^{p_{0}p_{1}}v_{h_{6}h_{7}}^{p_{2}p_{3}}t2_{p_{0}p_{2}}^{h_{4}h_{5}}t2_{p_{1}p_{3}}^{h_{6}h_{7}}\n + 0.0625 * \\Phi_{h_{4}h_{5}}^{p_{0}p_{1}}v_{h_{6}h_{7}}^{p_{2}p_{3}}t2_{p_{0}p_{3}}^{h_{4}h_{5}}t2_{p_{1}p_{2}}^{h_{6}h_{7}}\n + 0.0625 * \\Phi_{h_{4}h_{5}}^{p_{0}p_{1}}v_{h_{7}h_{6}}^{p_{2}p_{3}}t2_{p_{0}p_{2}}^{h_{4}h_{5}}t2_{p_{1}p_{3}}^{h_{6}h_{7}}\n + -0.125 * \\Phi_{h_{4}h_{5}}^{p_{0}p_{1}}v_{h_{7}h_{6}}^{p_{2}p_{3}}t2_{p_{0}p_{3}}^{h_{4}h_{5}}t2_{p_{1}p_{2}}^{h_{6}h_{7}}\n + 0.0625 * \\Phi_{h_{4}h_{5}}^{p_{0}p_{1}}v_{h_{6}h_{7}}^{p_{2}p_{3}}t2_{p_{0}p_{2}}^{h_{4}h_{5}}t2_{p_{3}p_{1}}^{h_{6}h_{7}}\n + -0.125 * \\Phi_{h_{4}h_{5}}^{p_{0}p_{1}}v_{h_{6}h_{7}}^{p_{2}p_{3}}t2_{p_{0}p_{3}}^{h_{4}h_{5}}t2_{p_{2}p_{1}}^{h_{6}h_{7}}\n + -0.125 * \\Phi_{h_{4}h_{5}}^{p_{0}p_{1}}v_{h_{7}h_{6}}^{p_{2}p_{3}}t2_{p_{0}p_{2}}^{h_{4}h_{5}}t2_{p_{3}p_{1}}^{h_{6}h_{7}}\n + 0.0625 * \\Phi_{h_{4}h_{5}}^{p_{0}p_{1}}v_{h_{7}h_{6}}^{p_{2}p_{3}}t2_{p_{0}p_{3}}^{h_{4}h_{5}}t2_{p_{2}p_{1}}^{h_{6}h_{7}}\n + -0.125 * \\Phi_{h_{4}h_{5}}^{p_{0}p_{1}}v_{h_{6}h_{7}}^{p_{2}p_{3}}t2_{p_{1}p_{0}}^{h_{4}h_{5}}t2_{p_{2}p_{3}}^{h_{6}h_{7}}\n + 0.0625 * \\Phi_{h_{4}h_{5}}^{p_{0}p_{1}}v_{h_{6}h_{7}}^{p_{2}p_{3}}t2_{p_{1}p_{0}}^{h_{4}h_{5}}t2_{p_{3}p_{2}}^{h_{6}h_{7}}\n + 0.0625 * \\Phi_{h_{4}h_{5}}^{p_{0}p_{1}}v_{h_{7}h_{6}}^{p_{2}p_{3}}t2_{p_{1}p_{0}}^{h_{4}h_{5}}t2_{p_{2}p_{3}}^{h_{6}h_{7}}\n + -0.125 * \\Phi_{h_{4}h_{5}}^{p_{0}p_{1}}v_{h_{7}h_{6}}^{p_{2}p_{3}}t2_{p_{1}p_{0}}^{h_{4}h_{5}}t2_{p_{3}p_{2}}^{h_{6}h_{7}}\n + 0.0625 * \\Phi_{h_{4}h_{5}}^{p_{0}p_{1}}v_{h_{6}h_{7}}^{p_{2}p_{3}}t2_{p_{2}p_{0}}^{h_{4}h_{5}}t2_{p_{1}p_{3}}^{h_{6}h_{7}}\n + -0.03125 * \\Phi_{h_{4}h_{5}}^{p_{0}p_{1}}v_{h_{6}h_{7}}^{p_{2}p_{3}}t2_{p_{3}p_{0}}^{h_{4}h_{5}}t2_{p_{1}p_{2}}^{h_{6}h_{7}}\n + -0.03125 * \\Phi_{h_{4}h_{5}}^{p_{0}p_{1}}v_{h_{7}h_{6}}^{p_{2}p_{3}}t2_{p_{2}p_{0}}^{h_{4}h_{5}}t2_{p_{1}p_{3}}^{h_{6}h_{7}}\n + 0.0625 * \\Phi_{h_{4}h_{5}}^{p_{0}p_{1}}v_{h_{7}h_{6}}^{p_{2}p_{3}}t2_{p_{3}p_{0}}^{h_{4}h_{5}}t2_{p_{1}p_{2}}^{h_{6}h_{7}}\n + -0.03125 * \\Phi_{h_{4}h_{5}}^{p_{0}p_{1}}v_{h_{6}h_{7}}^{p_{2}p_{3}}t2_{p_{2}p_{0}}^{h_{4}h_{5}}t2_{p_{3}p_{1}}^{h_{6}h_{7}}\n + 0.0625 * \\Phi_{h_{4}h_{5}}^{p_{0}p_{1}}v_{h_{6}h_{7}}^{p_{2}p_{3}}t2_{p_{3}p_{0}}^{h_{4}h_{5}}t2_{p_{2}p_{1}}^{h_{6}h_{7}}\n + 0.0625 * \\Phi_{h_{4}h_{5}}^{p_{0}p_{1}}v_{h_{7}h_{6}}^{p_{2}p_{3}}t2_{p_{2}p_{0}}^{h_{4}h_{5}}t2_{p_{3}p_{1}}^{h_{6}h_{7}}\n + -0.03125 * \\Phi_{h_{4}h_{5}}^{p_{0}p_{1}}v_{h_{7}h_{6}}^{p_{2}p_{3}}t2_{p_{3}p_{0}}^{h_{4}h_{5}}t2_{p_{2}p_{1}}^{h_{6}h_{7}}\n + 0.0625 * \\Phi_{h_{4}h_{5}}^{p_{0}p_{1}}v_{h_{6}h_{7}}^{p_{2}p_{3}}t2_{p_{1}p_{2}}^{h_{4}h_{5}}t2_{p_{0}p_{3}}^{h_{6}h_{7}}\n + -0.03125 * \\Phi_{h_{4}h_{5}}^{p_{0}p_{1}}v_{h_{6}h_{7}}^{p_{2}p_{3}}t2_{p_{1}p_{3}}^{h_{4}h_{5}}t2_{p_{0}p_{2}}^{h_{6}h_{7}}\n + -0.03125 * \\Phi_{h_{4}h_{5}}^{p_{0}p_{1}}v_{h_{7}h_{6}}^{p_{2}p_{3}}t2_{p_{1}p_{2}}^{h_{4}h_{5}}t2_{p_{0}p_{3}}^{h_{6}h_{7}}\n + 0.0625 * \\Phi_{h_{4}h_{5}}^{p_{0}p_{1}}v_{h_{7}h_{6}}^{p_{2}p_{3}}t2_{p_{1}p_{3}}^{h_{4}h_{5}}t2_{p_{0}p_{2}}^{h_{6}h_{7}}\n + -0.125 * \\Phi_{h_{4}h_{5}}^{p_{0}p_{1}}v_{h_{6}h_{7}}^{p_{2}p_{3}}t2_{p_{2}p_{1}}^{h_{4}h_{5}}t2_{p_{0}p_{3}}^{h_{6}h_{7}}\n + 0.0625 * \\Phi_{h_{4}h_{5}}^{p_{0}p_{1}}v_{h_{6}h_{7}}^{p_{2}p_{3}}t2_{p_{3}p_{1}}^{h_{4}h_{5}}t2_{p_{0}p_{2}}^{h_{6}h_{7}}\n + 0.0625 * \\Phi_{h_{4}h_{5}}^{p_{0}p_{1}}v_{h_{7}h_{6}}^{p_{2}p_{3}}t2_{p_{2}p_{1}}^{h_{4}h_{5}}t2_{p_{0}p_{3}}^{h_{6}h_{7}}\n + -0.125 * \\Phi_{h_{4}h_{5}}^{p_{0}p_{1}}v_{h_{7}h_{6}}^{p_{2}p_{3}}t2_{p_{3}p_{1}}^{h_{4}h_{5}}t2_{p_{0}p_{2}}^{h_{6}h_{7}}\n + 0.0625 * \\Phi_{h_{4}h_{5}}^{p_{0}p_{1}}v_{h_{6}h_{7}}^{p_{2}p_{3}}t2_{p_{2}p_{3}}^{h_{4}h_{5}}t2_{p_{0}p_{1}}^{h_{6}h_{7}}\n + -0.03125 * \\Phi_{h_{4}h_{5}}^{p_{0}p_{1}}v_{h_{6}h_{7}}^{p_{2}p_{3}}t2_{p_{3}p_{2}}^{h_{4}h_{5}}t2_{p_{0}p_{1}}^{h_{6}h_{7}}\n + -0.03125 * \\Phi_{h_{4}h_{5}}^{p_{0}p_{1}}v_{h_{7}h_{6}}^{p_{2}p_{3}}t2_{p_{2}p_{3}}^{h_{4}h_{5}}t2_{p_{0}p_{1}}^{h_{6}h_{7}}\n + 0.0625 * \\Phi_{h_{4}h_{5}}^{p_{0}p_{1}}v_{h_{7}h_{6}}^{p_{2}p_{3}}t2_{p_{3}p_{2}}^{h_{4}h_{5}}t2_{p_{0}p_{1}}^{h_{6}h_{7}}\n + -0.03125 * \\Phi_{h_{4}h_{5}}^{p_{0}p_{1}}v_{h_{6}h_{7}}^{p_{2}p_{3}}t2_{p_{1}p_{2}}^{h_{4}h_{5}}t2_{p_{3}p_{0}}^{h_{6}h_{7}}\n + 0.0625 * \\Phi_{h_{4}h_{5}}^{p_{0}p_{1}}v_{h_{6}h_{7}}^{p_{2}p_{3}}t2_{p_{1}p_{3}}^{h_{4}h_{5}}t2_{p_{2}p_{0}}^{h_{6}h_{7}}\n + 0.0625 * \\Phi_{h_{4}h_{5}}^{p_{0}p_{1}}v_{h_{7}h_{6}}^{p_{2}p_{3}}t2_{p_{1}p_{2}}^{h_{4}h_{5}}t2_{p_{3}p_{0}}^{h_{6}h_{7}}\n + -0.03125 * \\Phi_{h_{4}h_{5}}^{p_{0}p_{1}}v_{h_{7}h_{6}}^{p_{2}p_{3}}t2_{p_{1}p_{3}}^{h_{4}h_{5}}t2_{p_{2}p_{0}}^{h_{6}h_{7}}\n + 0.0625 * \\Phi_{h_{4}h_{5}}^{p_{0}p_{1}}v_{h_{6}h_{7}}^{p_{2}p_{3}}t2_{p_{2}p_{1}}^{h_{4}h_{5}}t2_{p_{3}p_{0}}^{h_{6}h_{7}}\n + -0.125 * \\Phi_{h_{4}h_{5}}^{p_{0}p_{1}}v_{h_{6}h_{7}}^{p_{2}p_{3}}t2_{p_{3}p_{1}}^{h_{4}h_{5}}t2_{p_{2}p_{0}}^{h_{6}h_{7}}\n + -0.125 * \\Phi_{h_{4}h_{5}}^{p_{0}p_{1}}v_{h_{7}h_{6}}^{p_{2}p_{3}}t2_{p_{2}p_{1}}^{h_{4}h_{5}}t2_{p_{3}p_{0}}^{h_{6}h_{7}}\n + 0.0625 * \\Phi_{h_{4}h_{5}}^{p_{0}p_{1}}v_{h_{7}h_{6}}^{p_{2}p_{3}}t2_{p_{3}p_{1}}^{h_{4}h_{5}}t2_{p_{2}p_{0}}^{h_{6}h_{7}}\n + -0.03125 * \\Phi_{h_{4}h_{5}}^{p_{0}p_{1}}v_{h_{6}h_{7}}^{p_{2}p_{3}}t2_{p_{2}p_{3}}^{h_{4}h_{5}}t2_{p_{1}p_{0}}^{h_{6}h_{7}}\n + 0.0625 * \\Phi_{h_{4}h_{5}}^{p_{0}p_{1}}v_{h_{6}h_{7}}^{p_{2}p_{3}}t2_{p_{3}p_{2}}^{h_{4}h_{5}}t2_{p_{1}p_{0}}^{h_{6}h_{7}}\n + 0.0625 * \\Phi_{h_{4}h_{5}}^{p_{0}p_{1}}v_{h_{7}h_{6}}^{p_{2}p_{3}}t2_{p_{2}p_{3}}^{h_{4}h_{5}}t2_{p_{1}p_{0}}^{h_{6}h_{7}}\n + -0.03125 * \\Phi_{h_{4}h_{5}}^{p_{0}p_{1}}v_{h_{7}h_{6}}^{p_{2}p_{3}}t2_{p_{3}p_{2}}^{h_{4}h_{5}}t2_{p_{1}p_{0}}^{h_{6}h_{7}}\n + -0.125 * \\Phi_{h_{4}h_{6}}^{p_{0}p_{1}}v_{h_{5}h_{7}}^{p_{2}p_{3}}t2_{p_{0}p_{1}}^{h_{4}h_{5}}t2_{p_{2}p_{3}}^{h_{6}h_{7}}\n + 0.0625 * \\Phi_{h_{4}h_{6}}^{p_{0}p_{1}}v_{h_{5}h_{7}}^{p_{2}p_{3}}t2_{p_{0}p_{1}}^{h_{4}h_{5}}t2_{p_{3}p_{2}}^{h_{6}h_{7}}\n + 0.0625 * \\Phi_{h_{4}h_{6}}^{p_{0}p_{1}}v_{h_{7}h_{5}}^{p_{2}p_{3}}t2_{p_{0}p_{1}}^{h_{4}h_{5}}t2_{p_{2}p_{3}}^{h_{6}h_{7}}\n + -0.125 * \\Phi_{h_{4}h_{6}}^{p_{0}p_{1}}v_{h_{7}h_{5}}^{p_{2}p_{3}}t2_{p_{0}p_{1}}^{h_{4}h_{5}}t2_{p_{3}p_{2}}^{h_{6}h_{7}}\n + 0.0625 * \\Phi_{h_{4}h_{6}}^{p_{0}p_{1}}v_{h_{5}h_{7}}^{p_{2}p_{3}}t2_{p_{0}p_{2}}^{h_{4}h_{5}}t2_{p_{1}p_{3}}^{h_{6}h_{7}}\n + -0.03125 * \\Phi_{h_{4}h_{6}}^{p_{0}p_{1}}v_{h_{5}h_{7}}^{p_{2}p_{3}}t2_{p_{0}p_{3}}^{h_{4}h_{5}}t2_{p_{1}p_{2}}^{h_{6}h_{7}}\n + -0.03125 * \\Phi_{h_{4}h_{6}}^{p_{0}p_{1}}v_{h_{7}h_{5}}^{p_{2}p_{3}}t2_{p_{0}p_{2}}^{h_{4}h_{5}}t2_{p_{1}p_{3}}^{h_{6}h_{7}}\n + 0.0625 * \\Phi_{h_{4}h_{6}}^{p_{0}p_{1}}v_{h_{7}h_{5}}^{p_{2}p_{3}}t2_{p_{0}p_{3}}^{h_{4}h_{5}}t2_{p_{1}p_{2}}^{h_{6}h_{7}}\n + -0.03125 * \\Phi_{h_{4}h_{6}}^{p_{0}p_{1}}v_{h_{5}h_{7}}^{p_{2}p_{3}}t2_{p_{0}p_{2}}^{h_{4}h_{5}}t2_{p_{3}p_{1}}^{h_{6}h_{7}}\n + 0.0625 * \\Phi_{h_{4}h_{6}}^{p_{0}p_{1}}v_{h_{5}h_{7}}^{p_{2}p_{3}}t2_{p_{0}p_{3}}^{h_{4}h_{5}}t2_{p_{2}p_{1}}^{h_{6}h_{7}}\n + 0.0625 * \\Phi_{h_{4}h_{6}}^{p_{0}p_{1}}v_{h_{7}h_{5}}^{p_{2}p_{3}}t2_{p_{0}p_{2}}^{h_{4}h_{5}}t2_{p_{3}p_{1}}^{h_{6}h_{7}}\n + -0.03125 * \\Phi_{h_{4}h_{6}}^{p_{0}p_{1}}v_{h_{7}h_{5}}^{p_{2}p_{3}}t2_{p_{0}p_{3}}^{h_{4}h_{5}}t2_{p_{2}p_{1}}^{h_{6}h_{7}}\n + 0.0625 * \\Phi_{h_{4}h_{6}}^{p_{0}p_{1}}v_{h_{5}h_{7}}^{p_{2}p_{3}}t2_{p_{1}p_{0}}^{h_{4}h_{5}}t2_{p_{2}p_{3}}^{h_{6}h_{7}}\n + -0.03125 * \\Phi_{h_{4}h_{6}}^{p_{0}p_{1}}v_{h_{5}h_{7}}^{p_{2}p_{3}}t2_{p_{1}p_{0}}^{h_{4}h_{5}}t2_{p_{3}p_{2}}^{h_{6}h_{7}}\n + -0.03125 * \\Phi_{h_{4}h_{6}}^{p_{0}p_{1}}v_{h_{7}h_{5}}^{p_{2}p_{3}}t2_{p_{1}p_{0}}^{h_{4}h_{5}}t2_{p_{2}p_{3}}^{h_{6}h_{7}}\n + 0.0625 * \\Phi_{h_{4}h_{6}}^{p_{0}p_{1}}v_{h_{7}h_{5}}^{p_{2}p_{3}}t2_{p_{1}p_{0}}^{h_{4}h_{5}}t2_{p_{3}p_{2}}^{h_{6}h_{7}}\n + -0.03125 * \\Phi_{h_{4}h_{6}}^{p_{0}p_{1}}v_{h_{5}h_{7}}^{p_{2}p_{3}}t2_{p_{2}p_{0}}^{h_{4}h_{5}}t2_{p_{1}p_{3}}^{h_{6}h_{7}}\n + 0.0625 * \\Phi_{h_{4}h_{6}}^{p_{0}p_{1}}v_{h_{5}h_{7}}^{p_{2}p_{3}}t2_{p_{3}p_{0}}^{h_{4}h_{5}}t2_{p_{1}p_{2}}^{h_{6}h_{7}}\n + 0.0625 * \\Phi_{h_{4}h_{6}}^{p_{0}p_{1}}v_{h_{7}h_{5}}^{p_{2}p_{3}}t2_{p_{2}p_{0}}^{h_{4}h_{5}}t2_{p_{1}p_{3}}^{h_{6}h_{7}}\n + -0.03125 * \\Phi_{h_{4}h_{6}}^{p_{0}p_{1}}v_{h_{7}h_{5}}^{p_{2}p_{3}}t2_{p_{3}p_{0}}^{h_{4}h_{5}}t2_{p_{1}p_{2}}^{h_{6}h_{7}}\n + 0.0625 * \\Phi_{h_{4}h_{6}}^{p_{0}p_{1}}v_{h_{5}h_{7}}^{p_{2}p_{3}}t2_{p_{2}p_{0}}^{h_{4}h_{5}}t2_{p_{3}p_{1}}^{h_{6}h_{7}}\n + -0.125 * \\Phi_{h_{4}h_{6}}^{p_{0}p_{1}}v_{h_{5}h_{7}}^{p_{2}p_{3}}t2_{p_{3}p_{0}}^{h_{4}h_{5}}t2_{p_{2}p_{1}}^{h_{6}h_{7}}\n + -0.125 * \\Phi_{h_{4}h_{6}}^{p_{0}p_{1}}v_{h_{7}h_{5}}^{p_{2}p_{3}}t2_{p_{2}p_{0}}^{h_{4}h_{5}}t2_{p_{3}p_{1}}^{h_{6}h_{7}}\n + 0.0625 * \\Phi_{h_{4}h_{6}}^{p_{0}p_{1}}v_{h_{7}h_{5}}^{p_{2}p_{3}}t2_{p_{3}p_{0}}^{h_{4}h_{5}}t2_{p_{2}p_{1}}^{h_{6}h_{7}}\n + -0.03125 * \\Phi_{h_{4}h_{6}}^{p_{0}p_{1}}v_{h_{5}h_{7}}^{p_{2}p_{3}}t2_{p_{1}p_{2}}^{h_{4}h_{5}}t2_{p_{0}p_{3}}^{h_{6}h_{7}}\n + 0.0625 * \\Phi_{h_{4}h_{6}}^{p_{0}p_{1}}v_{h_{5}h_{7}}^{p_{2}p_{3}}t2_{p_{1}p_{3}}^{h_{4}h_{5}}t2_{p_{0}p_{2}}^{h_{6}h_{7}}\n + 0.0625 * \\Phi_{h_{4}h_{6}}^{p_{0}p_{1}}v_{h_{7}h_{5}}^{p_{2}p_{3}}t2_{p_{1}p_{2}}^{h_{4}h_{5}}t2_{p_{0}p_{3}}^{h_{6}h_{7}}\n + -0.03125 * \\Phi_{h_{4}h_{6}}^{p_{0}p_{1}}v_{h_{7}h_{5}}^{p_{2}p_{3}}t2_{p_{1}p_{3}}^{h_{4}h_{5}}t2_{p_{0}p_{2}}^{h_{6}h_{7}}\n + 0.0625 * \\Phi_{h_{4}h_{6}}^{p_{0}p_{1}}v_{h_{5}h_{7}}^{p_{2}p_{3}}t2_{p_{2}p_{1}}^{h_{4}h_{5}}t2_{p_{0}p_{3}}^{h_{6}h_{7}}\n + -0.125 * \\Phi_{h_{4}h_{6}}^{p_{0}p_{1}}v_{h_{5}h_{7}}^{p_{2}p_{3}}t2_{p_{3}p_{1}}^{h_{4}h_{5}}t2_{p_{0}p_{2}}^{h_{6}h_{7}}\n + -0.125 * \\Phi_{h_{4}h_{6}}^{p_{0}p_{1}}v_{h_{7}h_{5}}^{p_{2}p_{3}}t2_{p_{2}p_{1}}^{h_{4}h_{5}}t2_{p_{0}p_{3}}^{h_{6}h_{7}}\n + 0.0625 * \\Phi_{h_{4}h_{6}}^{p_{0}p_{1}}v_{h_{7}h_{5}}^{p_{2}p_{3}}t2_{p_{3}p_{1}}^{h_{4}h_{5}}t2_{p_{0}p_{2}}^{h_{6}h_{7}}\n + -0.03125 * \\Phi_{h_{4}h_{6}}^{p_{0}p_{1}}v_{h_{5}h_{7}}^{p_{2}p_{3}}t2_{p_{2}p_{3}}^{h_{4}h_{5}}t2_{p_{0}p_{1}}^{h_{6}h_{7}}\n + 0.0625 * \\Phi_{h_{4}h_{6}}^{p_{0}p_{1}}v_{h_{5}h_{7}}^{p_{2}p_{3}}t2_{p_{3}p_{2}}^{h_{4}h_{5}}t2_{p_{0}p_{1}}^{h_{6}h_{7}}\n + 0.0625 * \\Phi_{h_{4}h_{6}}^{p_{0}p_{1}}v_{h_{7}h_{5}}^{p_{2}p_{3}}t2_{p_{2}p_{3}}^{h_{4}h_{5}}t2_{p_{0}p_{1}}^{h_{6}h_{7}}\n + -0.03125 * \\Phi_{h_{4}h_{6}}^{p_{0}p_{1}}v_{h_{7}h_{5}}^{p_{2}p_{3}}t2_{p_{3}p_{2}}^{h_{4}h_{5}}t2_{p_{0}p_{1}}^{h_{6}h_{7}}\n + 0.0625 * \\Phi_{h_{4}h_{6}}^{p_{0}p_{1}}v_{h_{5}h_{7}}^{p_{2}p_{3}}t2_{p_{1}p_{2}}^{h_{4}h_{5}}t2_{p_{3}p_{0}}^{h_{6}h_{7}}\n + -0.125 * \\Phi_{h_{4}h_{6}}^{p_{0}p_{1}}v_{h_{5}h_{7}}^{p_{2}p_{3}}t2_{p_{1}p_{3}}^{h_{4}h_{5}}t2_{p_{2}p_{0}}^{h_{6}h_{7}}\n + -0.125 * \\Phi_{h_{4}h_{6}}^{p_{0}p_{1}}v_{h_{7}h_{5}}^{p_{2}p_{3}}t2_{p_{1}p_{2}}^{h_{4}h_{5}}t2_{p_{3}p_{0}}^{h_{6}h_{7}}\n + 0.0625 * \\Phi_{h_{4}h_{6}}^{p_{0}p_{1}}v_{h_{7}h_{5}}^{p_{2}p_{3}}t2_{p_{1}p_{3}}^{h_{4}h_{5}}t2_{p_{2}p_{0}}^{h_{6}h_{7}}\n + -0.125 * \\Phi_{h_{4}h_{6}}^{p_{0}p_{1}}v_{h_{5}h_{7}}^{p_{2}p_{3}}t2_{p_{2}p_{1}}^{h_{4}h_{5}}t2_{p_{3}p_{0}}^{h_{6}h_{7}}\n + 0.25 * \\Phi_{h_{4}h_{6}}^{p_{0}p_{1}}v_{h_{5}h_{7}}^{p_{2}p_{3}}t2_{p_{3}p_{1}}^{h_{4}h_{5}}t2_{p_{2}p_{0}}^{h_{6}h_{7}}\n + 0.25 * \\Phi_{h_{4}h_{6}}^{p_{0}p_{1}}v_{h_{7}h_{5}}^{p_{2}p_{3}}t2_{p_{2}p_{1}}^{h_{4}h_{5}}t2_{p_{3}p_{0}}^{h_{6}h_{7}}\n + -0.125 * \\Phi_{h_{4}h_{6}}^{p_{0}p_{1}}v_{h_{7}h_{5}}^{p_{2}p_{3}}t2_{p_{3}p_{1}}^{h_{4}h_{5}}t2_{p_{2}p_{0}}^{h_{6}h_{7}}\n + 0.0625 * \\Phi_{h_{4}h_{6}}^{p_{0}p_{1}}v_{h_{5}h_{7}}^{p_{2}p_{3}}t2_{p_{2}p_{3}}^{h_{4}h_{5}}t2_{p_{1}p_{0}}^{h_{6}h_{7}}\n + -0.125 * \\Phi_{h_{4}h_{6}}^{p_{0}p_{1}}v_{h_{5}h_{7}}^{p_{2}p_{3}}t2_{p_{3}p_{2}}^{h_{4}h_{5}}t2_{p_{1}p_{0}}^{h_{6}h_{7}}\n + -0.125 * \\Phi_{h_{4}h_{6}}^{p_{0}p_{1}}v_{h_{7}h_{5}}^{p_{2}p_{3}}t2_{p_{2}p_{3}}^{h_{4}h_{5}}t2_{p_{1}p_{0}}^{h_{6}h_{7}}\n + 0.0625 * \\Phi_{h_{4}h_{6}}^{p_{0}p_{1}}v_{h_{7}h_{5}}^{p_{2}p_{3}}t2_{p_{3}p_{2}}^{h_{4}h_{5}}t2_{p_{1}p_{0}}^{h_{6}h_{7}}\n + 0.0625 * \\Phi_{h_{4}h_{7}}^{p_{0}p_{1}}v_{h_{5}h_{6}}^{p_{2}p_{3}}t2_{p_{0}p_{1}}^{h_{4}h_{5}}t2_{p_{2}p_{3}}^{h_{6}h_{7}}\n + -0.125 * \\Phi_{h_{4}h_{7}}^{p_{0}p_{1}}v_{h_{5}h_{6}}^{p_{2}p_{3}}t2_{p_{0}p_{1}}^{h_{4}h_{5}}t2_{p_{3}p_{2}}^{h_{6}h_{7}}\n + -0.125 * \\Phi_{h_{4}h_{7}}^{p_{0}p_{1}}v_{h_{6}h_{5}}^{p_{2}p_{3}}t2_{p_{0}p_{1}}^{h_{4}h_{5}}t2_{p_{2}p_{3}}^{h_{6}h_{7}}\n + 0.0625 * \\Phi_{h_{4}h_{7}}^{p_{0}p_{1}}v_{h_{6}h_{5}}^{p_{2}p_{3}}t2_{p_{0}p_{1}}^{h_{4}h_{5}}t2_{p_{3}p_{2}}^{h_{6}h_{7}}\n + -0.03125 * \\Phi_{h_{4}h_{7}}^{p_{0}p_{1}}v_{h_{5}h_{6}}^{p_{2}p_{3}}t2_{p_{0}p_{2}}^{h_{4}h_{5}}t2_{p_{1}p_{3}}^{h_{6}h_{7}}\n + 0.0625 * \\Phi_{h_{4}h_{7}}^{p_{0}p_{1}}v_{h_{5}h_{6}}^{p_{2}p_{3}}t2_{p_{0}p_{3}}^{h_{4}h_{5}}t2_{p_{1}p_{2}}^{h_{6}h_{7}}\n + 0.0625 * \\Phi_{h_{4}h_{7}}^{p_{0}p_{1}}v_{h_{6}h_{5}}^{p_{2}p_{3}}t2_{p_{0}p_{2}}^{h_{4}h_{5}}t2_{p_{1}p_{3}}^{h_{6}h_{7}}\n + -0.03125 * \\Phi_{h_{4}h_{7}}^{p_{0}p_{1}}v_{h_{6}h_{5}}^{p_{2}p_{3}}t2_{p_{0}p_{3}}^{h_{4}h_{5}}t2_{p_{1}p_{2}}^{h_{6}h_{7}}\n + 0.0625 * \\Phi_{h_{4}h_{7}}^{p_{0}p_{1}}v_{h_{5}h_{6}}^{p_{2}p_{3}}t2_{p_{0}p_{2}}^{h_{4}h_{5}}t2_{p_{3}p_{1}}^{h_{6}h_{7}}\n + -0.03125 * \\Phi_{h_{4}h_{7}}^{p_{0}p_{1}}v_{h_{5}h_{6}}^{p_{2}p_{3}}t2_{p_{0}p_{3}}^{h_{4}h_{5}}t2_{p_{2}p_{1}}^{h_{6}h_{7}}\n + -0.03125 * \\Phi_{h_{4}h_{7}}^{p_{0}p_{1}}v_{h_{6}h_{5}}^{p_{2}p_{3}}t2_{p_{0}p_{2}}^{h_{4}h_{5}}t2_{p_{3}p_{1}}^{h_{6}h_{7}}\n + 0.0625 * \\Phi_{h_{4}h_{7}}^{p_{0}p_{1}}v_{h_{6}h_{5}}^{p_{2}p_{3}}t2_{p_{0}p_{3}}^{h_{4}h_{5}}t2_{p_{2}p_{1}}^{h_{6}h_{7}}\n + -0.03125 * \\Phi_{h_{4}h_{7}}^{p_{0}p_{1}}v_{h_{5}h_{6}}^{p_{2}p_{3}}t2_{p_{1}p_{0}}^{h_{4}h_{5}}t2_{p_{2}p_{3}}^{h_{6}h_{7}}\n + 0.0625 * \\Phi_{h_{4}h_{7}}^{p_{0}p_{1}}v_{h_{5}h_{6}}^{p_{2}p_{3}}t2_{p_{1}p_{0}}^{h_{4}h_{5}}t2_{p_{3}p_{2}}^{h_{6}h_{7}}\n + 0.0625 * \\Phi_{h_{4}h_{7}}^{p_{0}p_{1}}v_{h_{6}h_{5}}^{p_{2}p_{3}}t2_{p_{1}p_{0}}^{h_{4}h_{5}}t2_{p_{2}p_{3}}^{h_{6}h_{7}}\n + -0.03125 * \\Phi_{h_{4}h_{7}}^{p_{0}p_{1}}v_{h_{6}h_{5}}^{p_{2}p_{3}}t2_{p_{1}p_{0}}^{h_{4}h_{5}}t2_{p_{3}p_{2}}^{h_{6}h_{7}}\n + 0.0625 * \\Phi_{h_{4}h_{7}}^{p_{0}p_{1}}v_{h_{5}h_{6}}^{p_{2}p_{3}}t2_{p_{2}p_{0}}^{h_{4}h_{5}}t2_{p_{1}p_{3}}^{h_{6}h_{7}}\n + -0.125 * \\Phi_{h_{4}h_{7}}^{p_{0}p_{1}}v_{h_{5}h_{6}}^{p_{2}p_{3}}t2_{p_{3}p_{0}}^{h_{4}h_{5}}t2_{p_{1}p_{2}}^{h_{6}h_{7}}\n + -0.125 * \\Phi_{h_{4}h_{7}}^{p_{0}p_{1}}v_{h_{6}h_{5}}^{p_{2}p_{3}}t2_{p_{2}p_{0}}^{h_{4}h_{5}}t2_{p_{1}p_{3}}^{h_{6}h_{7}}\n + 0.0625 * \\Phi_{h_{4}h_{7}}^{p_{0}p_{1}}v_{h_{6}h_{5}}^{p_{2}p_{3}}t2_{p_{3}p_{0}}^{h_{4}h_{5}}t2_{p_{1}p_{2}}^{h_{6}h_{7}}\n + -0.03125 * \\Phi_{h_{4}h_{7}}^{p_{0}p_{1}}v_{h_{5}h_{6}}^{p_{2}p_{3}}t2_{p_{2}p_{0}}^{h_{4}h_{5}}t2_{p_{3}p_{1}}^{h_{6}h_{7}}\n + 0.0625 * \\Phi_{h_{4}h_{7}}^{p_{0}p_{1}}v_{h_{5}h_{6}}^{p_{2}p_{3}}t2_{p_{3}p_{0}}^{h_{4}h_{5}}t2_{p_{2}p_{1}}^{h_{6}h_{7}}\n + 0.0625 * \\Phi_{h_{4}h_{7}}^{p_{0}p_{1}}v_{h_{6}h_{5}}^{p_{2}p_{3}}t2_{p_{2}p_{0}}^{h_{4}h_{5}}t2_{p_{3}p_{1}}^{h_{6}h_{7}}\n + -0.03125 * \\Phi_{h_{4}h_{7}}^{p_{0}p_{1}}v_{h_{6}h_{5}}^{p_{2}p_{3}}t2_{p_{3}p_{0}}^{h_{4}h_{5}}t2_{p_{2}p_{1}}^{h_{6}h_{7}}\n + 0.0625 * \\Phi_{h_{4}h_{7}}^{p_{0}p_{1}}v_{h_{5}h_{6}}^{p_{2}p_{3}}t2_{p_{1}p_{2}}^{h_{4}h_{5}}t2_{p_{0}p_{3}}^{h_{6}h_{7}}\n + -0.125 * \\Phi_{h_{4}h_{7}}^{p_{0}p_{1}}v_{h_{5}h_{6}}^{p_{2}p_{3}}t2_{p_{1}p_{3}}^{h_{4}h_{5}}t2_{p_{0}p_{2}}^{h_{6}h_{7}}\n + -0.125 * \\Phi_{h_{4}h_{7}}^{p_{0}p_{1}}v_{h_{6}h_{5}}^{p_{2}p_{3}}t2_{p_{1}p_{2}}^{h_{4}h_{5}}t2_{p_{0}p_{3}}^{h_{6}h_{7}}\n + 0.0625 * \\Phi_{h_{4}h_{7}}^{p_{0}p_{1}}v_{h_{6}h_{5}}^{p_{2}p_{3}}t2_{p_{1}p_{3}}^{h_{4}h_{5}}t2_{p_{0}p_{2}}^{h_{6}h_{7}}\n + -0.125 * \\Phi_{h_{4}h_{7}}^{p_{0}p_{1}}v_{h_{5}h_{6}}^{p_{2}p_{3}}t2_{p_{2}p_{1}}^{h_{4}h_{5}}t2_{p_{0}p_{3}}^{h_{6}h_{7}}\n + 0.25 * \\Phi_{h_{4}h_{7}}^{p_{0}p_{1}}v_{h_{5}h_{6}}^{p_{2}p_{3}}t2_{p_{3}p_{1}}^{h_{4}h_{5}}t2_{p_{0}p_{2}}^{h_{6}h_{7}}\n + 0.25 * \\Phi_{h_{4}h_{7}}^{p_{0}p_{1}}v_{h_{6}h_{5}}^{p_{2}p_{3}}t2_{p_{2}p_{1}}^{h_{4}h_{5}}t2_{p_{0}p_{3}}^{h_{6}h_{7}}\n + -0.125 * \\Phi_{h_{4}h_{7}}^{p_{0}p_{1}}v_{h_{6}h_{5}}^{p_{2}p_{3}}t2_{p_{3}p_{1}}^{h_{4}h_{5}}t2_{p_{0}p_{2}}^{h_{6}h_{7}}\n + 0.0625 * \\Phi_{h_{4}h_{7}}^{p_{0}p_{1}}v_{h_{5}h_{6}}^{p_{2}p_{3}}t2_{p_{2}p_{3}}^{h_{4}h_{5}}t2_{p_{0}p_{1}}^{h_{6}h_{7}}\n + -0.125 * \\Phi_{h_{4}h_{7}}^{p_{0}p_{1}}v_{h_{5}h_{6}}^{p_{2}p_{3}}t2_{p_{3}p_{2}}^{h_{4}h_{5}}t2_{p_{0}p_{1}}^{h_{6}h_{7}}\n + -0.125 * \\Phi_{h_{4}h_{7}}^{p_{0}p_{1}}v_{h_{6}h_{5}}^{p_{2}p_{3}}t2_{p_{2}p_{3}}^{h_{4}h_{5}}t2_{p_{0}p_{1}}^{h_{6}h_{7}}\n + 0.0625 * \\Phi_{h_{4}h_{7}}^{p_{0}p_{1}}v_{h_{6}h_{5}}^{p_{2}p_{3}}t2_{p_{3}p_{2}}^{h_{4}h_{5}}t2_{p_{0}p_{1}}^{h_{6}h_{7}}\n + -0.03125 * \\Phi_{h_{4}h_{7}}^{p_{0}p_{1}}v_{h_{5}h_{6}}^{p_{2}p_{3}}t2_{p_{1}p_{2}}^{h_{4}h_{5}}t2_{p_{3}p_{0}}^{h_{6}h_{7}}\n + 0.0625 * \\Phi_{h_{4}h_{7}}^{p_{0}p_{1}}v_{h_{5}h_{6}}^{p_{2}p_{3}}t2_{p_{1}p_{3}}^{h_{4}h_{5}}t2_{p_{2}p_{0}}^{h_{6}h_{7}}\n + 0.0625 * \\Phi_{h_{4}h_{7}}^{p_{0}p_{1}}v_{h_{6}h_{5}}^{p_{2}p_{3}}t2_{p_{1}p_{2}}^{h_{4}h_{5}}t2_{p_{3}p_{0}}^{h_{6}h_{7}}\n + -0.03125 * \\Phi_{h_{4}h_{7}}^{p_{0}p_{1}}v_{h_{6}h_{5}}^{p_{2}p_{3}}t2_{p_{1}p_{3}}^{h_{4}h_{5}}t2_{p_{2}p_{0}}^{h_{6}h_{7}}\n + 0.0625 * \\Phi_{h_{4}h_{7}}^{p_{0}p_{1}}v_{h_{5}h_{6}}^{p_{2}p_{3}}t2_{p_{2}p_{1}}^{h_{4}h_{5}}t2_{p_{3}p_{0}}^{h_{6}h_{7}}\n + -0.125 * \\Phi_{h_{4}h_{7}}^{p_{0}p_{1}}v_{h_{5}h_{6}}^{p_{2}p_{3}}t2_{p_{3}p_{1}}^{h_{4}h_{5}}t2_{p_{2}p_{0}}^{h_{6}h_{7}}\n + -0.125 * \\Phi_{h_{4}h_{7}}^{p_{0}p_{1}}v_{h_{6}h_{5}}^{p_{2}p_{3}}t2_{p_{2}p_{1}}^{h_{4}h_{5}}t2_{p_{3}p_{0}}^{h_{6}h_{7}}\n + 0.0625 * \\Phi_{h_{4}h_{7}}^{p_{0}p_{1}}v_{h_{6}h_{5}}^{p_{2}p_{3}}t2_{p_{3}p_{1}}^{h_{4}h_{5}}t2_{p_{2}p_{0}}^{h_{6}h_{7}}\n + -0.03125 * \\Phi_{h_{4}h_{7}}^{p_{0}p_{1}}v_{h_{5}h_{6}}^{p_{2}p_{3}}t2_{p_{2}p_{3}}^{h_{4}h_{5}}t2_{p_{1}p_{0}}^{h_{6}h_{7}}\n + 0.0625 * \\Phi_{h_{4}h_{7}}^{p_{0}p_{1}}v_{h_{5}h_{6}}^{p_{2}p_{3}}t2_{p_{3}p_{2}}^{h_{4}h_{5}}t2_{p_{1}p_{0}}^{h_{6}h_{7}}\n + 0.0625 * \\Phi_{h_{4}h_{7}}^{p_{0}p_{1}}v_{h_{6}h_{5}}^{p_{2}p_{3}}t2_{p_{2}p_{3}}^{h_{4}h_{5}}t2_{p_{1}p_{0}}^{h_{6}h_{7}}\n + -0.03125 * \\Phi_{h_{4}h_{7}}^{p_{0}p_{1}}v_{h_{6}h_{5}}^{p_{2}p_{3}}t2_{p_{3}p_{2}}^{h_{4}h_{5}}t2_{p_{1}p_{0}}^{h_{6}h_{7}}\n + -0.125 * \\Phi_{h_{5}h_{4}}^{p_{0}p_{1}}v_{h_{6}h_{7}}^{p_{2}p_{3}}t2_{p_{0}p_{1}}^{h_{4}h_{5}}t2_{p_{2}p_{3}}^{h_{6}h_{7}}\n + 0.0625 * \\Phi_{h_{5}h_{4}}^{p_{0}p_{1}}v_{h_{6}h_{7}}^{p_{2}p_{3}}t2_{p_{0}p_{1}}^{h_{4}h_{5}}t2_{p_{3}p_{2}}^{h_{6}h_{7}}\n + 0.0625 * \\Phi_{h_{5}h_{4}}^{p_{0}p_{1}}v_{h_{7}h_{6}}^{p_{2}p_{3}}t2_{p_{0}p_{1}}^{h_{4}h_{5}}t2_{p_{2}p_{3}}^{h_{6}h_{7}}\n + -0.125 * \\Phi_{h_{5}h_{4}}^{p_{0}p_{1}}v_{h_{7}h_{6}}^{p_{2}p_{3}}t2_{p_{0}p_{1}}^{h_{4}h_{5}}t2_{p_{3}p_{2}}^{h_{6}h_{7}}\n + 0.0625 * \\Phi_{h_{5}h_{4}}^{p_{0}p_{1}}v_{h_{6}h_{7}}^{p_{2}p_{3}}t2_{p_{0}p_{2}}^{h_{4}h_{5}}t2_{p_{1}p_{3}}^{h_{6}h_{7}}\n + -0.03125 * \\Phi_{h_{5}h_{4}}^{p_{0}p_{1}}v_{h_{6}h_{7}}^{p_{2}p_{3}}t2_{p_{0}p_{3}}^{h_{4}h_{5}}t2_{p_{1}p_{2}}^{h_{6}h_{7}}\n + -0.03125 * \\Phi_{h_{5}h_{4}}^{p_{0}p_{1}}v_{h_{7}h_{6}}^{p_{2}p_{3}}t2_{p_{0}p_{2}}^{h_{4}h_{5}}t2_{p_{1}p_{3}}^{h_{6}h_{7}}\n + 0.0625 * \\Phi_{h_{5}h_{4}}^{p_{0}p_{1}}v_{h_{7}h_{6}}^{p_{2}p_{3}}t2_{p_{0}p_{3}}^{h_{4}h_{5}}t2_{p_{1}p_{2}}^{h_{6}h_{7}}\n + -0.03125 * \\Phi_{h_{5}h_{4}}^{p_{0}p_{1}}v_{h_{6}h_{7}}^{p_{2}p_{3}}t2_{p_{0}p_{2}}^{h_{4}h_{5}}t2_{p_{3}p_{1}}^{h_{6}h_{7}}\n + 0.0625 * \\Phi_{h_{5}h_{4}}^{p_{0}p_{1}}v_{h_{6}h_{7}}^{p_{2}p_{3}}t2_{p_{0}p_{3}}^{h_{4}h_{5}}t2_{p_{2}p_{1}}^{h_{6}h_{7}}\n + 0.0625 * \\Phi_{h_{5}h_{4}}^{p_{0}p_{1}}v_{h_{7}h_{6}}^{p_{2}p_{3}}t2_{p_{0}p_{2}}^{h_{4}h_{5}}t2_{p_{3}p_{1}}^{h_{6}h_{7}}\n + -0.03125 * \\Phi_{h_{5}h_{4}}^{p_{0}p_{1}}v_{h_{7}h_{6}}^{p_{2}p_{3}}t2_{p_{0}p_{3}}^{h_{4}h_{5}}t2_{p_{2}p_{1}}^{h_{6}h_{7}}\n + 0.25 * \\Phi_{h_{5}h_{4}}^{p_{0}p_{1}}v_{h_{6}h_{7}}^{p_{2}p_{3}}t2_{p_{1}p_{0}}^{h_{4}h_{5}}t2_{p_{2}p_{3}}^{h_{6}h_{7}}\n + -0.125 * \\Phi_{h_{5}h_{4}}^{p_{0}p_{1}}v_{h_{6}h_{7}}^{p_{2}p_{3}}t2_{p_{1}p_{0}}^{h_{4}h_{5}}t2_{p_{3}p_{2}}^{h_{6}h_{7}}\n + -0.125 * \\Phi_{h_{5}h_{4}}^{p_{0}p_{1}}v_{h_{7}h_{6}}^{p_{2}p_{3}}t2_{p_{1}p_{0}}^{h_{4}h_{5}}t2_{p_{2}p_{3}}^{h_{6}h_{7}}\n + 0.25 * \\Phi_{h_{5}h_{4}}^{p_{0}p_{1}}v_{h_{7}h_{6}}^{p_{2}p_{3}}t2_{p_{1}p_{0}}^{h_{4}h_{5}}t2_{p_{3}p_{2}}^{h_{6}h_{7}}\n + -0.125 * \\Phi_{h_{5}h_{4}}^{p_{0}p_{1}}v_{h_{6}h_{7}}^{p_{2}p_{3}}t2_{p_{2}p_{0}}^{h_{4}h_{5}}t2_{p_{1}p_{3}}^{h_{6}h_{7}}\n + 0.0625 * \\Phi_{h_{5}h_{4}}^{p_{0}p_{1}}v_{h_{6}h_{7}}^{p_{2}p_{3}}t2_{p_{3}p_{0}}^{h_{4}h_{5}}t2_{p_{1}p_{2}}^{h_{6}h_{7}}\n + 0.0625 * \\Phi_{h_{5}h_{4}}^{p_{0}p_{1}}v_{h_{7}h_{6}}^{p_{2}p_{3}}t2_{p_{2}p_{0}}^{h_{4}h_{5}}t2_{p_{1}p_{3}}^{h_{6}h_{7}}\n + -0.125 * \\Phi_{h_{5}h_{4}}^{p_{0}p_{1}}v_{h_{7}h_{6}}^{p_{2}p_{3}}t2_{p_{3}p_{0}}^{h_{4}h_{5}}t2_{p_{1}p_{2}}^{h_{6}h_{7}}\n + 0.0625 * \\Phi_{h_{5}h_{4}}^{p_{0}p_{1}}v_{h_{6}h_{7}}^{p_{2}p_{3}}t2_{p_{2}p_{0}}^{h_{4}h_{5}}t2_{p_{3}p_{1}}^{h_{6}h_{7}}\n + -0.125 * \\Phi_{h_{5}h_{4}}^{p_{0}p_{1}}v_{h_{6}h_{7}}^{p_{2}p_{3}}t2_{p_{3}p_{0}}^{h_{4}h_{5}}t2_{p_{2}p_{1}}^{h_{6}h_{7}}\n + -0.125 * \\Phi_{h_{5}h_{4}}^{p_{0}p_{1}}v_{h_{7}h_{6}}^{p_{2}p_{3}}t2_{p_{2}p_{0}}^{h_{4}h_{5}}t2_{p_{3}p_{1}}^{h_{6}h_{7}}\n + 0.0625 * \\Phi_{h_{5}h_{4}}^{p_{0}p_{1}}v_{h_{7}h_{6}}^{p_{2}p_{3}}t2_{p_{3}p_{0}}^{h_{4}h_{5}}t2_{p_{2}p_{1}}^{h_{6}h_{7}}\n + -0.125 * \\Phi_{h_{5}h_{4}}^{p_{0}p_{1}}v_{h_{6}h_{7}}^{p_{2}p_{3}}t2_{p_{1}p_{2}}^{h_{4}h_{5}}t2_{p_{0}p_{3}}^{h_{6}h_{7}}\n + 0.0625 * \\Phi_{h_{5}h_{4}}^{p_{0}p_{1}}v_{h_{6}h_{7}}^{p_{2}p_{3}}t2_{p_{1}p_{3}}^{h_{4}h_{5}}t2_{p_{0}p_{2}}^{h_{6}h_{7}}\n + 0.0625 * \\Phi_{h_{5}h_{4}}^{p_{0}p_{1}}v_{h_{7}h_{6}}^{p_{2}p_{3}}t2_{p_{1}p_{2}}^{h_{4}h_{5}}t2_{p_{0}p_{3}}^{h_{6}h_{7}}\n + -0.125 * \\Phi_{h_{5}h_{4}}^{p_{0}p_{1}}v_{h_{7}h_{6}}^{p_{2}p_{3}}t2_{p_{1}p_{3}}^{h_{4}h_{5}}t2_{p_{0}p_{2}}^{h_{6}h_{7}}\n + 0.0625 * \\Phi_{h_{5}h_{4}}^{p_{0}p_{1}}v_{h_{6}h_{7}}^{p_{2}p_{3}}t2_{p_{2}p_{1}}^{h_{4}h_{5}}t2_{p_{0}p_{3}}^{h_{6}h_{7}}\n + -0.03125 * \\Phi_{h_{5}h_{4}}^{p_{0}p_{1}}v_{h_{6}h_{7}}^{p_{2}p_{3}}t2_{p_{3}p_{1}}^{h_{4}h_{5}}t2_{p_{0}p_{2}}^{h_{6}h_{7}}\n + -0.03125 * \\Phi_{h_{5}h_{4}}^{p_{0}p_{1}}v_{h_{7}h_{6}}^{p_{2}p_{3}}t2_{p_{2}p_{1}}^{h_{4}h_{5}}t2_{p_{0}p_{3}}^{h_{6}h_{7}}\n + 0.0625 * \\Phi_{h_{5}h_{4}}^{p_{0}p_{1}}v_{h_{7}h_{6}}^{p_{2}p_{3}}t2_{p_{3}p_{1}}^{h_{4}h_{5}}t2_{p_{0}p_{2}}^{h_{6}h_{7}}\n + -0.03125 * \\Phi_{h_{5}h_{4}}^{p_{0}p_{1}}v_{h_{6}h_{7}}^{p_{2}p_{3}}t2_{p_{2}p_{3}}^{h_{4}h_{5}}t2_{p_{0}p_{1}}^{h_{6}h_{7}}\n + 0.0625 * \\Phi_{h_{5}h_{4}}^{p_{0}p_{1}}v_{h_{6}h_{7}}^{p_{2}p_{3}}t2_{p_{3}p_{2}}^{h_{4}h_{5}}t2_{p_{0}p_{1}}^{h_{6}h_{7}}\n + 0.0625 * \\Phi_{h_{5}h_{4}}^{p_{0}p_{1}}v_{h_{7}h_{6}}^{p_{2}p_{3}}t2_{p_{2}p_{3}}^{h_{4}h_{5}}t2_{p_{0}p_{1}}^{h_{6}h_{7}}\n + -0.03125 * \\Phi_{h_{5}h_{4}}^{p_{0}p_{1}}v_{h_{7}h_{6}}^{p_{2}p_{3}}t2_{p_{3}p_{2}}^{h_{4}h_{5}}t2_{p_{0}p_{1}}^{h_{6}h_{7}}\n + 0.0625 * \\Phi_{h_{5}h_{4}}^{p_{0}p_{1}}v_{h_{6}h_{7}}^{p_{2}p_{3}}t2_{p_{1}p_{2}}^{h_{4}h_{5}}t2_{p_{3}p_{0}}^{h_{6}h_{7}}\n + -0.125 * \\Phi_{h_{5}h_{4}}^{p_{0}p_{1}}v_{h_{6}h_{7}}^{p_{2}p_{3}}t2_{p_{1}p_{3}}^{h_{4}h_{5}}t2_{p_{2}p_{0}}^{h_{6}h_{7}}\n + -0.125 * \\Phi_{h_{5}h_{4}}^{p_{0}p_{1}}v_{h_{7}h_{6}}^{p_{2}p_{3}}t2_{p_{1}p_{2}}^{h_{4}h_{5}}t2_{p_{3}p_{0}}^{h_{6}h_{7}}\n + 0.0625 * \\Phi_{h_{5}h_{4}}^{p_{0}p_{1}}v_{h_{7}h_{6}}^{p_{2}p_{3}}t2_{p_{1}p_{3}}^{h_{4}h_{5}}t2_{p_{2}p_{0}}^{h_{6}h_{7}}\n + -0.03125 * \\Phi_{h_{5}h_{4}}^{p_{0}p_{1}}v_{h_{6}h_{7}}^{p_{2}p_{3}}t2_{p_{2}p_{1}}^{h_{4}h_{5}}t2_{p_{3}p_{0}}^{h_{6}h_{7}}\n + 0.0625 * \\Phi_{h_{5}h_{4}}^{p_{0}p_{1}}v_{h_{6}h_{7}}^{p_{2}p_{3}}t2_{p_{3}p_{1}}^{h_{4}h_{5}}t2_{p_{2}p_{0}}^{h_{6}h_{7}}\n + 0.0625 * \\Phi_{h_{5}h_{4}}^{p_{0}p_{1}}v_{h_{7}h_{6}}^{p_{2}p_{3}}t2_{p_{2}p_{1}}^{h_{4}h_{5}}t2_{p_{3}p_{0}}^{h_{6}h_{7}}\n + -0.03125 * \\Phi_{h_{5}h_{4}}^{p_{0}p_{1}}v_{h_{7}h_{6}}^{p_{2}p_{3}}t2_{p_{3}p_{1}}^{h_{4}h_{5}}t2_{p_{2}p_{0}}^{h_{6}h_{7}}\n + 0.0625 * \\Phi_{h_{5}h_{4}}^{p_{0}p_{1}}v_{h_{6}h_{7}}^{p_{2}p_{3}}t2_{p_{2}p_{3}}^{h_{4}h_{5}}t2_{p_{1}p_{0}}^{h_{6}h_{7}}\n + -0.03125 * \\Phi_{h_{5}h_{4}}^{p_{0}p_{1}}v_{h_{6}h_{7}}^{p_{2}p_{3}}t2_{p_{3}p_{2}}^{h_{4}h_{5}}t2_{p_{1}p_{0}}^{h_{6}h_{7}}\n + -0.03125 * \\Phi_{h_{5}h_{4}}^{p_{0}p_{1}}v_{h_{7}h_{6}}^{p_{2}p_{3}}t2_{p_{2}p_{3}}^{h_{4}h_{5}}t2_{p_{1}p_{0}}^{h_{6}h_{7}}\n + 0.0625 * \\Phi_{h_{5}h_{4}}^{p_{0}p_{1}}v_{h_{7}h_{6}}^{p_{2}p_{3}}t2_{p_{3}p_{2}}^{h_{4}h_{5}}t2_{p_{1}p_{0}}^{h_{6}h_{7}}\n + 0.0625 * \\Phi_{h_{5}h_{6}}^{p_{0}p_{1}}v_{h_{4}h_{7}}^{p_{2}p_{3}}t2_{p_{0}p_{1}}^{h_{4}h_{5}}t2_{p_{2}p_{3}}^{h_{6}h_{7}}\n + -0.03125 * \\Phi_{h_{5}h_{6}}^{p_{0}p_{1}}v_{h_{4}h_{7}}^{p_{2}p_{3}}t2_{p_{0}p_{1}}^{h_{4}h_{5}}t2_{p_{3}p_{2}}^{h_{6}h_{7}}\n + -0.03125 * \\Phi_{h_{5}h_{6}}^{p_{0}p_{1}}v_{h_{7}h_{4}}^{p_{2}p_{3}}t2_{p_{0}p_{1}}^{h_{4}h_{5}}t2_{p_{2}p_{3}}^{h_{6}h_{7}}\n + 0.0625 * \\Phi_{h_{5}h_{6}}^{p_{0}p_{1}}v_{h_{7}h_{4}}^{p_{2}p_{3}}t2_{p_{0}p_{1}}^{h_{4}h_{5}}t2_{p_{3}p_{2}}^{h_{6}h_{7}}\n + -0.03125 * \\Phi_{h_{5}h_{6}}^{p_{0}p_{1}}v_{h_{4}h_{7}}^{p_{2}p_{3}}t2_{p_{0}p_{2}}^{h_{4}h_{5}}t2_{p_{1}p_{3}}^{h_{6}h_{7}}\n + 0.0625 * \\Phi_{h_{5}h_{6}}^{p_{0}p_{1}}v_{h_{4}h_{7}}^{p_{2}p_{3}}t2_{p_{0}p_{3}}^{h_{4}h_{5}}t2_{p_{1}p_{2}}^{h_{6}h_{7}}\n + 0.0625 * \\Phi_{h_{5}h_{6}}^{p_{0}p_{1}}v_{h_{7}h_{4}}^{p_{2}p_{3}}t2_{p_{0}p_{2}}^{h_{4}h_{5}}t2_{p_{1}p_{3}}^{h_{6}h_{7}}\n + -0.03125 * \\Phi_{h_{5}h_{6}}^{p_{0}p_{1}}v_{h_{7}h_{4}}^{p_{2}p_{3}}t2_{p_{0}p_{3}}^{h_{4}h_{5}}t2_{p_{1}p_{2}}^{h_{6}h_{7}}\n + 0.0625 * \\Phi_{h_{5}h_{6}}^{p_{0}p_{1}}v_{h_{4}h_{7}}^{p_{2}p_{3}}t2_{p_{0}p_{2}}^{h_{4}h_{5}}t2_{p_{3}p_{1}}^{h_{6}h_{7}}\n + -0.125 * \\Phi_{h_{5}h_{6}}^{p_{0}p_{1}}v_{h_{4}h_{7}}^{p_{2}p_{3}}t2_{p_{0}p_{3}}^{h_{4}h_{5}}t2_{p_{2}p_{1}}^{h_{6}h_{7}}\n + -0.125 * \\Phi_{h_{5}h_{6}}^{p_{0}p_{1}}v_{h_{7}h_{4}}^{p_{2}p_{3}}t2_{p_{0}p_{2}}^{h_{4}h_{5}}t2_{p_{3}p_{1}}^{h_{6}h_{7}}\n + 0.0625 * \\Phi_{h_{5}h_{6}}^{p_{0}p_{1}}v_{h_{7}h_{4}}^{p_{2}p_{3}}t2_{p_{0}p_{3}}^{h_{4}h_{5}}t2_{p_{2}p_{1}}^{h_{6}h_{7}}\n + -0.125 * \\Phi_{h_{5}h_{6}}^{p_{0}p_{1}}v_{h_{4}h_{7}}^{p_{2}p_{3}}t2_{p_{1}p_{0}}^{h_{4}h_{5}}t2_{p_{2}p_{3}}^{h_{6}h_{7}}\n + 0.0625 * \\Phi_{h_{5}h_{6}}^{p_{0}p_{1}}v_{h_{4}h_{7}}^{p_{2}p_{3}}t2_{p_{1}p_{0}}^{h_{4}h_{5}}t2_{p_{3}p_{2}}^{h_{6}h_{7}}\n + 0.0625 * \\Phi_{h_{5}h_{6}}^{p_{0}p_{1}}v_{h_{7}h_{4}}^{p_{2}p_{3}}t2_{p_{1}p_{0}}^{h_{4}h_{5}}t2_{p_{2}p_{3}}^{h_{6}h_{7}}\n + -0.125 * \\Phi_{h_{5}h_{6}}^{p_{0}p_{1}}v_{h_{7}h_{4}}^{p_{2}p_{3}}t2_{p_{1}p_{0}}^{h_{4}h_{5}}t2_{p_{3}p_{2}}^{h_{6}h_{7}}\n + 0.0625 * \\Phi_{h_{5}h_{6}}^{p_{0}p_{1}}v_{h_{4}h_{7}}^{p_{2}p_{3}}t2_{p_{2}p_{0}}^{h_{4}h_{5}}t2_{p_{1}p_{3}}^{h_{6}h_{7}}\n + -0.03125 * \\Phi_{h_{5}h_{6}}^{p_{0}p_{1}}v_{h_{4}h_{7}}^{p_{2}p_{3}}t2_{p_{3}p_{0}}^{h_{4}h_{5}}t2_{p_{1}p_{2}}^{h_{6}h_{7}}\n + -0.03125 * \\Phi_{h_{5}h_{6}}^{p_{0}p_{1}}v_{h_{7}h_{4}}^{p_{2}p_{3}}t2_{p_{2}p_{0}}^{h_{4}h_{5}}t2_{p_{1}p_{3}}^{h_{6}h_{7}}\n + 0.0625 * \\Phi_{h_{5}h_{6}}^{p_{0}p_{1}}v_{h_{7}h_{4}}^{p_{2}p_{3}}t2_{p_{3}p_{0}}^{h_{4}h_{5}}t2_{p_{1}p_{2}}^{h_{6}h_{7}}\n + -0.03125 * \\Phi_{h_{5}h_{6}}^{p_{0}p_{1}}v_{h_{4}h_{7}}^{p_{2}p_{3}}t2_{p_{2}p_{0}}^{h_{4}h_{5}}t2_{p_{3}p_{1}}^{h_{6}h_{7}}\n + 0.0625 * \\Phi_{h_{5}h_{6}}^{p_{0}p_{1}}v_{h_{4}h_{7}}^{p_{2}p_{3}}t2_{p_{3}p_{0}}^{h_{4}h_{5}}t2_{p_{2}p_{1}}^{h_{6}h_{7}}\n + 0.0625 * \\Phi_{h_{5}h_{6}}^{p_{0}p_{1}}v_{h_{7}h_{4}}^{p_{2}p_{3}}t2_{p_{2}p_{0}}^{h_{4}h_{5}}t2_{p_{3}p_{1}}^{h_{6}h_{7}}\n + -0.03125 * \\Phi_{h_{5}h_{6}}^{p_{0}p_{1}}v_{h_{7}h_{4}}^{p_{2}p_{3}}t2_{p_{3}p_{0}}^{h_{4}h_{5}}t2_{p_{2}p_{1}}^{h_{6}h_{7}}\n + 0.0625 * \\Phi_{h_{5}h_{6}}^{p_{0}p_{1}}v_{h_{4}h_{7}}^{p_{2}p_{3}}t2_{p_{1}p_{2}}^{h_{4}h_{5}}t2_{p_{0}p_{3}}^{h_{6}h_{7}}\n + -0.125 * \\Phi_{h_{5}h_{6}}^{p_{0}p_{1}}v_{h_{4}h_{7}}^{p_{2}p_{3}}t2_{p_{1}p_{3}}^{h_{4}h_{5}}t2_{p_{0}p_{2}}^{h_{6}h_{7}}\n + -0.125 * \\Phi_{h_{5}h_{6}}^{p_{0}p_{1}}v_{h_{7}h_{4}}^{p_{2}p_{3}}t2_{p_{1}p_{2}}^{h_{4}h_{5}}t2_{p_{0}p_{3}}^{h_{6}h_{7}}\n + 0.0625 * \\Phi_{h_{5}h_{6}}^{p_{0}p_{1}}v_{h_{7}h_{4}}^{p_{2}p_{3}}t2_{p_{1}p_{3}}^{h_{4}h_{5}}t2_{p_{0}p_{2}}^{h_{6}h_{7}}\n + -0.03125 * \\Phi_{h_{5}h_{6}}^{p_{0}p_{1}}v_{h_{4}h_{7}}^{p_{2}p_{3}}t2_{p_{2}p_{1}}^{h_{4}h_{5}}t2_{p_{0}p_{3}}^{h_{6}h_{7}}\n + 0.0625 * \\Phi_{h_{5}h_{6}}^{p_{0}p_{1}}v_{h_{4}h_{7}}^{p_{2}p_{3}}t2_{p_{3}p_{1}}^{h_{4}h_{5}}t2_{p_{0}p_{2}}^{h_{6}h_{7}}\n + 0.0625 * \\Phi_{h_{5}h_{6}}^{p_{0}p_{1}}v_{h_{7}h_{4}}^{p_{2}p_{3}}t2_{p_{2}p_{1}}^{h_{4}h_{5}}t2_{p_{0}p_{3}}^{h_{6}h_{7}}\n + -0.03125 * \\Phi_{h_{5}h_{6}}^{p_{0}p_{1}}v_{h_{7}h_{4}}^{p_{2}p_{3}}t2_{p_{3}p_{1}}^{h_{4}h_{5}}t2_{p_{0}p_{2}}^{h_{6}h_{7}}\n + 0.0625 * \\Phi_{h_{5}h_{6}}^{p_{0}p_{1}}v_{h_{4}h_{7}}^{p_{2}p_{3}}t2_{p_{2}p_{3}}^{h_{4}h_{5}}t2_{p_{0}p_{1}}^{h_{6}h_{7}}\n + -0.03125 * \\Phi_{h_{5}h_{6}}^{p_{0}p_{1}}v_{h_{4}h_{7}}^{p_{2}p_{3}}t2_{p_{3}p_{2}}^{h_{4}h_{5}}t2_{p_{0}p_{1}}^{h_{6}h_{7}}\n + -0.03125 * \\Phi_{h_{5}h_{6}}^{p_{0}p_{1}}v_{h_{7}h_{4}}^{p_{2}p_{3}}t2_{p_{2}p_{3}}^{h_{4}h_{5}}t2_{p_{0}p_{1}}^{h_{6}h_{7}}\n + 0.0625 * \\Phi_{h_{5}h_{6}}^{p_{0}p_{1}}v_{h_{7}h_{4}}^{p_{2}p_{3}}t2_{p_{3}p_{2}}^{h_{4}h_{5}}t2_{p_{0}p_{1}}^{h_{6}h_{7}}\n + -0.125 * \\Phi_{h_{5}h_{6}}^{p_{0}p_{1}}v_{h_{4}h_{7}}^{p_{2}p_{3}}t2_{p_{1}p_{2}}^{h_{4}h_{5}}t2_{p_{3}p_{0}}^{h_{6}h_{7}}\n + 0.25 * \\Phi_{h_{5}h_{6}}^{p_{0}p_{1}}v_{h_{4}h_{7}}^{p_{2}p_{3}}t2_{p_{1}p_{3}}^{h_{4}h_{5}}t2_{p_{2}p_{0}}^{h_{6}h_{7}}\n + 0.25 * \\Phi_{h_{5}h_{6}}^{p_{0}p_{1}}v_{h_{7}h_{4}}^{p_{2}p_{3}}t2_{p_{1}p_{2}}^{h_{4}h_{5}}t2_{p_{3}p_{0}}^{h_{6}h_{7}}\n + -0.125 * \\Phi_{h_{5}h_{6}}^{p_{0}p_{1}}v_{h_{7}h_{4}}^{p_{2}p_{3}}t2_{p_{1}p_{3}}^{h_{4}h_{5}}t2_{p_{2}p_{0}}^{h_{6}h_{7}}\n + 0.0625 * \\Phi_{h_{5}h_{6}}^{p_{0}p_{1}}v_{h_{4}h_{7}}^{p_{2}p_{3}}t2_{p_{2}p_{1}}^{h_{4}h_{5}}t2_{p_{3}p_{0}}^{h_{6}h_{7}}\n + -0.125 * \\Phi_{h_{5}h_{6}}^{p_{0}p_{1}}v_{h_{4}h_{7}}^{p_{2}p_{3}}t2_{p_{3}p_{1}}^{h_{4}h_{5}}t2_{p_{2}p_{0}}^{h_{6}h_{7}}\n + -0.125 * \\Phi_{h_{5}h_{6}}^{p_{0}p_{1}}v_{h_{7}h_{4}}^{p_{2}p_{3}}t2_{p_{2}p_{1}}^{h_{4}h_{5}}t2_{p_{3}p_{0}}^{h_{6}h_{7}}\n + 0.0625 * \\Phi_{h_{5}h_{6}}^{p_{0}p_{1}}v_{h_{7}h_{4}}^{p_{2}p_{3}}t2_{p_{3}p_{1}}^{h_{4}h_{5}}t2_{p_{2}p_{0}}^{h_{6}h_{7}}\n + -0.125 * \\Phi_{h_{5}h_{6}}^{p_{0}p_{1}}v_{h_{4}h_{7}}^{p_{2}p_{3}}t2_{p_{2}p_{3}}^{h_{4}h_{5}}t2_{p_{1}p_{0}}^{h_{6}h_{7}}\n + 0.0625 * \\Phi_{h_{5}h_{6}}^{p_{0}p_{1}}v_{h_{4}h_{7}}^{p_{2}p_{3}}t2_{p_{3}p_{2}}^{h_{4}h_{5}}t2_{p_{1}p_{0}}^{h_{6}h_{7}}\n + 0.0625 * \\Phi_{h_{5}h_{6}}^{p_{0}p_{1}}v_{h_{7}h_{4}}^{p_{2}p_{3}}t2_{p_{2}p_{3}}^{h_{4}h_{5}}t2_{p_{1}p_{0}}^{h_{6}h_{7}}\n + -0.125 * \\Phi_{h_{5}h_{6}}^{p_{0}p_{1}}v_{h_{7}h_{4}}^{p_{2}p_{3}}t2_{p_{3}p_{2}}^{h_{4}h_{5}}t2_{p_{1}p_{0}}^{h_{6}h_{7}}\n + -0.03125 * \\Phi_{h_{5}h_{7}}^{p_{0}p_{1}}v_{h_{4}h_{6}}^{p_{2}p_{3}}t2_{p_{0}p_{1}}^{h_{4}h_{5}}t2_{p_{2}p_{3}}^{h_{6}h_{7}}\n + 0.0625 * \\Phi_{h_{5}h_{7}}^{p_{0}p_{1}}v_{h_{4}h_{6}}^{p_{2}p_{3}}t2_{p_{0}p_{1}}^{h_{4}h_{5}}t2_{p_{3}p_{2}}^{h_{6}h_{7}}\n + 0.0625 * \\Phi_{h_{5}h_{7}}^{p_{0}p_{1}}v_{h_{6}h_{4}}^{p_{2}p_{3}}t2_{p_{0}p_{1}}^{h_{4}h_{5}}t2_{p_{2}p_{3}}^{h_{6}h_{7}}\n + -0.03125 * \\Phi_{h_{5}h_{7}}^{p_{0}p_{1}}v_{h_{6}h_{4}}^{p_{2}p_{3}}t2_{p_{0}p_{1}}^{h_{4}h_{5}}t2_{p_{3}p_{2}}^{h_{6}h_{7}}\n + 0.0625 * \\Phi_{h_{5}h_{7}}^{p_{0}p_{1}}v_{h_{4}h_{6}}^{p_{2}p_{3}}t2_{p_{0}p_{2}}^{h_{4}h_{5}}t2_{p_{1}p_{3}}^{h_{6}h_{7}}\n + -0.125 * \\Phi_{h_{5}h_{7}}^{p_{0}p_{1}}v_{h_{4}h_{6}}^{p_{2}p_{3}}t2_{p_{0}p_{3}}^{h_{4}h_{5}}t2_{p_{1}p_{2}}^{h_{6}h_{7}}\n + -0.125 * \\Phi_{h_{5}h_{7}}^{p_{0}p_{1}}v_{h_{6}h_{4}}^{p_{2}p_{3}}t2_{p_{0}p_{2}}^{h_{4}h_{5}}t2_{p_{1}p_{3}}^{h_{6}h_{7}}\n + 0.0625 * \\Phi_{h_{5}h_{7}}^{p_{0}p_{1}}v_{h_{6}h_{4}}^{p_{2}p_{3}}t2_{p_{0}p_{3}}^{h_{4}h_{5}}t2_{p_{1}p_{2}}^{h_{6}h_{7}}\n + -0.03125 * \\Phi_{h_{5}h_{7}}^{p_{0}p_{1}}v_{h_{4}h_{6}}^{p_{2}p_{3}}t2_{p_{0}p_{2}}^{h_{4}h_{5}}t2_{p_{3}p_{1}}^{h_{6}h_{7}}\n + 0.0625 * \\Phi_{h_{5}h_{7}}^{p_{0}p_{1}}v_{h_{4}h_{6}}^{p_{2}p_{3}}t2_{p_{0}p_{3}}^{h_{4}h_{5}}t2_{p_{2}p_{1}}^{h_{6}h_{7}}\n + 0.0625 * \\Phi_{h_{5}h_{7}}^{p_{0}p_{1}}v_{h_{6}h_{4}}^{p_{2}p_{3}}t2_{p_{0}p_{2}}^{h_{4}h_{5}}t2_{p_{3}p_{1}}^{h_{6}h_{7}}\n + -0.03125 * \\Phi_{h_{5}h_{7}}^{p_{0}p_{1}}v_{h_{6}h_{4}}^{p_{2}p_{3}}t2_{p_{0}p_{3}}^{h_{4}h_{5}}t2_{p_{2}p_{1}}^{h_{6}h_{7}}\n + 0.0625 * \\Phi_{h_{5}h_{7}}^{p_{0}p_{1}}v_{h_{4}h_{6}}^{p_{2}p_{3}}t2_{p_{1}p_{0}}^{h_{4}h_{5}}t2_{p_{2}p_{3}}^{h_{6}h_{7}}\n + -0.125 * \\Phi_{h_{5}h_{7}}^{p_{0}p_{1}}v_{h_{4}h_{6}}^{p_{2}p_{3}}t2_{p_{1}p_{0}}^{h_{4}h_{5}}t2_{p_{3}p_{2}}^{h_{6}h_{7}}\n + -0.125 * \\Phi_{h_{5}h_{7}}^{p_{0}p_{1}}v_{h_{6}h_{4}}^{p_{2}p_{3}}t2_{p_{1}p_{0}}^{h_{4}h_{5}}t2_{p_{2}p_{3}}^{h_{6}h_{7}}\n + 0.0625 * \\Phi_{h_{5}h_{7}}^{p_{0}p_{1}}v_{h_{6}h_{4}}^{p_{2}p_{3}}t2_{p_{1}p_{0}}^{h_{4}h_{5}}t2_{p_{3}p_{2}}^{h_{6}h_{7}}\n + -0.03125 * \\Phi_{h_{5}h_{7}}^{p_{0}p_{1}}v_{h_{4}h_{6}}^{p_{2}p_{3}}t2_{p_{2}p_{0}}^{h_{4}h_{5}}t2_{p_{1}p_{3}}^{h_{6}h_{7}}\n + 0.0625 * \\Phi_{h_{5}h_{7}}^{p_{0}p_{1}}v_{h_{4}h_{6}}^{p_{2}p_{3}}t2_{p_{3}p_{0}}^{h_{4}h_{5}}t2_{p_{1}p_{2}}^{h_{6}h_{7}}\n + 0.0625 * \\Phi_{h_{5}h_{7}}^{p_{0}p_{1}}v_{h_{6}h_{4}}^{p_{2}p_{3}}t2_{p_{2}p_{0}}^{h_{4}h_{5}}t2_{p_{1}p_{3}}^{h_{6}h_{7}}\n + -0.03125 * \\Phi_{h_{5}h_{7}}^{p_{0}p_{1}}v_{h_{6}h_{4}}^{p_{2}p_{3}}t2_{p_{3}p_{0}}^{h_{4}h_{5}}t2_{p_{1}p_{2}}^{h_{6}h_{7}}\n + 0.0625 * \\Phi_{h_{5}h_{7}}^{p_{0}p_{1}}v_{h_{4}h_{6}}^{p_{2}p_{3}}t2_{p_{2}p_{0}}^{h_{4}h_{5}}t2_{p_{3}p_{1}}^{h_{6}h_{7}}\n + -0.03125 * \\Phi_{h_{5}h_{7}}^{p_{0}p_{1}}v_{h_{4}h_{6}}^{p_{2}p_{3}}t2_{p_{3}p_{0}}^{h_{4}h_{5}}t2_{p_{2}p_{1}}^{h_{6}h_{7}}\n + -0.03125 * \\Phi_{h_{5}h_{7}}^{p_{0}p_{1}}v_{h_{6}h_{4}}^{p_{2}p_{3}}t2_{p_{2}p_{0}}^{h_{4}h_{5}}t2_{p_{3}p_{1}}^{h_{6}h_{7}}\n + 0.0625 * \\Phi_{h_{5}h_{7}}^{p_{0}p_{1}}v_{h_{6}h_{4}}^{p_{2}p_{3}}t2_{p_{3}p_{0}}^{h_{4}h_{5}}t2_{p_{2}p_{1}}^{h_{6}h_{7}}\n + -0.125 * \\Phi_{h_{5}h_{7}}^{p_{0}p_{1}}v_{h_{4}h_{6}}^{p_{2}p_{3}}t2_{p_{1}p_{2}}^{h_{4}h_{5}}t2_{p_{0}p_{3}}^{h_{6}h_{7}}\n + 0.25 * \\Phi_{h_{5}h_{7}}^{p_{0}p_{1}}v_{h_{4}h_{6}}^{p_{2}p_{3}}t2_{p_{1}p_{3}}^{h_{4}h_{5}}t2_{p_{0}p_{2}}^{h_{6}h_{7}}\n + 0.25 * \\Phi_{h_{5}h_{7}}^{p_{0}p_{1}}v_{h_{6}h_{4}}^{p_{2}p_{3}}t2_{p_{1}p_{2}}^{h_{4}h_{5}}t2_{p_{0}p_{3}}^{h_{6}h_{7}}\n + -0.125 * \\Phi_{h_{5}h_{7}}^{p_{0}p_{1}}v_{h_{6}h_{4}}^{p_{2}p_{3}}t2_{p_{1}p_{3}}^{h_{4}h_{5}}t2_{p_{0}p_{2}}^{h_{6}h_{7}}\n + 0.0625 * \\Phi_{h_{5}h_{7}}^{p_{0}p_{1}}v_{h_{4}h_{6}}^{p_{2}p_{3}}t2_{p_{2}p_{1}}^{h_{4}h_{5}}t2_{p_{0}p_{3}}^{h_{6}h_{7}}\n + -0.125 * \\Phi_{h_{5}h_{7}}^{p_{0}p_{1}}v_{h_{4}h_{6}}^{p_{2}p_{3}}t2_{p_{3}p_{1}}^{h_{4}h_{5}}t2_{p_{0}p_{2}}^{h_{6}h_{7}}\n + -0.125 * \\Phi_{h_{5}h_{7}}^{p_{0}p_{1}}v_{h_{6}h_{4}}^{p_{2}p_{3}}t2_{p_{2}p_{1}}^{h_{4}h_{5}}t2_{p_{0}p_{3}}^{h_{6}h_{7}}\n + 0.0625 * \\Phi_{h_{5}h_{7}}^{p_{0}p_{1}}v_{h_{6}h_{4}}^{p_{2}p_{3}}t2_{p_{3}p_{1}}^{h_{4}h_{5}}t2_{p_{0}p_{2}}^{h_{6}h_{7}}\n + -0.125 * \\Phi_{h_{5}h_{7}}^{p_{0}p_{1}}v_{h_{4}h_{6}}^{p_{2}p_{3}}t2_{p_{2}p_{3}}^{h_{4}h_{5}}t2_{p_{0}p_{1}}^{h_{6}h_{7}}\n + 0.0625 * \\Phi_{h_{5}h_{7}}^{p_{0}p_{1}}v_{h_{4}h_{6}}^{p_{2}p_{3}}t2_{p_{3}p_{2}}^{h_{4}h_{5}}t2_{p_{0}p_{1}}^{h_{6}h_{7}}\n + 0.0625 * \\Phi_{h_{5}h_{7}}^{p_{0}p_{1}}v_{h_{6}h_{4}}^{p_{2}p_{3}}t2_{p_{2}p_{3}}^{h_{4}h_{5}}t2_{p_{0}p_{1}}^{h_{6}h_{7}}\n + -0.125 * \\Phi_{h_{5}h_{7}}^{p_{0}p_{1}}v_{h_{6}h_{4}}^{p_{2}p_{3}}t2_{p_{3}p_{2}}^{h_{4}h_{5}}t2_{p_{0}p_{1}}^{h_{6}h_{7}}\n + 0.0625 * \\Phi_{h_{5}h_{7}}^{p_{0}p_{1}}v_{h_{4}h_{6}}^{p_{2}p_{3}}t2_{p_{1}p_{2}}^{h_{4}h_{5}}t2_{p_{3}p_{0}}^{h_{6}h_{7}}\n + -0.125 * \\Phi_{h_{5}h_{7}}^{p_{0}p_{1}}v_{h_{4}h_{6}}^{p_{2}p_{3}}t2_{p_{1}p_{3}}^{h_{4}h_{5}}t2_{p_{2}p_{0}}^{h_{6}h_{7}}\n + -0.125 * \\Phi_{h_{5}h_{7}}^{p_{0}p_{1}}v_{h_{6}h_{4}}^{p_{2}p_{3}}t2_{p_{1}p_{2}}^{h_{4}h_{5}}t2_{p_{3}p_{0}}^{h_{6}h_{7}}\n + 0.0625 * \\Phi_{h_{5}h_{7}}^{p_{0}p_{1}}v_{h_{6}h_{4}}^{p_{2}p_{3}}t2_{p_{1}p_{3}}^{h_{4}h_{5}}t2_{p_{2}p_{0}}^{h_{6}h_{7}}\n + -0.03125 * \\Phi_{h_{5}h_{7}}^{p_{0}p_{1}}v_{h_{4}h_{6}}^{p_{2}p_{3}}t2_{p_{2}p_{1}}^{h_{4}h_{5}}t2_{p_{3}p_{0}}^{h_{6}h_{7}}\n + 0.0625 * \\Phi_{h_{5}h_{7}}^{p_{0}p_{1}}v_{h_{4}h_{6}}^{p_{2}p_{3}}t2_{p_{3}p_{1}}^{h_{4}h_{5}}t2_{p_{2}p_{0}}^{h_{6}h_{7}}\n + 0.0625 * \\Phi_{h_{5}h_{7}}^{p_{0}p_{1}}v_{h_{6}h_{4}}^{p_{2}p_{3}}t2_{p_{2}p_{1}}^{h_{4}h_{5}}t2_{p_{3}p_{0}}^{h_{6}h_{7}}\n + -0.03125 * \\Phi_{h_{5}h_{7}}^{p_{0}p_{1}}v_{h_{6}h_{4}}^{p_{2}p_{3}}t2_{p_{3}p_{1}}^{h_{4}h_{5}}t2_{p_{2}p_{0}}^{h_{6}h_{7}}\n + 0.0625 * \\Phi_{h_{5}h_{7}}^{p_{0}p_{1}}v_{h_{4}h_{6}}^{p_{2}p_{3}}t2_{p_{2}p_{3}}^{h_{4}h_{5}}t2_{p_{1}p_{0}}^{h_{6}h_{7}}\n + -0.03125 * \\Phi_{h_{5}h_{7}}^{p_{0}p_{1}}v_{h_{4}h_{6}}^{p_{2}p_{3}}t2_{p_{3}p_{2}}^{h_{4}h_{5}}t2_{p_{1}p_{0}}^{h_{6}h_{7}}\n + -0.03125 * \\Phi_{h_{5}h_{7}}^{p_{0}p_{1}}v_{h_{6}h_{4}}^{p_{2}p_{3}}t2_{p_{2}p_{3}}^{h_{4}h_{5}}t2_{p_{1}p_{0}}^{h_{6}h_{7}}\n + 0.0625 * \\Phi_{h_{5}h_{7}}^{p_{0}p_{1}}v_{h_{6}h_{4}}^{p_{2}p_{3}}t2_{p_{3}p_{2}}^{h_{4}h_{5}}t2_{p_{1}p_{0}}^{h_{6}h_{7}}\n + 0.0625 * \\Phi_{h_{6}h_{4}}^{p_{0}p_{1}}v_{h_{5}h_{7}}^{p_{2}p_{3}}t2_{p_{0}p_{1}}^{h_{4}h_{5}}t2_{p_{2}p_{3}}^{h_{6}h_{7}}\n + -0.03125 * \\Phi_{h_{6}h_{4}}^{p_{0}p_{1}}v_{h_{5}h_{7}}^{p_{2}p_{3}}t2_{p_{0}p_{1}}^{h_{4}h_{5}}t2_{p_{3}p_{2}}^{h_{6}h_{7}}\n + -0.03125 * \\Phi_{h_{6}h_{4}}^{p_{0}p_{1}}v_{h_{7}h_{5}}^{p_{2}p_{3}}t2_{p_{0}p_{1}}^{h_{4}h_{5}}t2_{p_{2}p_{3}}^{h_{6}h_{7}}\n + 0.0625 * \\Phi_{h_{6}h_{4}}^{p_{0}p_{1}}v_{h_{7}h_{5}}^{p_{2}p_{3}}t2_{p_{0}p_{1}}^{h_{4}h_{5}}t2_{p_{3}p_{2}}^{h_{6}h_{7}}\n + -0.03125 * \\Phi_{h_{6}h_{4}}^{p_{0}p_{1}}v_{h_{5}h_{7}}^{p_{2}p_{3}}t2_{p_{0}p_{2}}^{h_{4}h_{5}}t2_{p_{1}p_{3}}^{h_{6}h_{7}}\n + 0.0625 * \\Phi_{h_{6}h_{4}}^{p_{0}p_{1}}v_{h_{5}h_{7}}^{p_{2}p_{3}}t2_{p_{0}p_{3}}^{h_{4}h_{5}}t2_{p_{1}p_{2}}^{h_{6}h_{7}}\n + 0.0625 * \\Phi_{h_{6}h_{4}}^{p_{0}p_{1}}v_{h_{7}h_{5}}^{p_{2}p_{3}}t2_{p_{0}p_{2}}^{h_{4}h_{5}}t2_{p_{1}p_{3}}^{h_{6}h_{7}}\n + -0.03125 * \\Phi_{h_{6}h_{4}}^{p_{0}p_{1}}v_{h_{7}h_{5}}^{p_{2}p_{3}}t2_{p_{0}p_{3}}^{h_{4}h_{5}}t2_{p_{1}p_{2}}^{h_{6}h_{7}}\n + 0.0625 * \\Phi_{h_{6}h_{4}}^{p_{0}p_{1}}v_{h_{5}h_{7}}^{p_{2}p_{3}}t2_{p_{0}p_{2}}^{h_{4}h_{5}}t2_{p_{3}p_{1}}^{h_{6}h_{7}}\n + -0.125 * \\Phi_{h_{6}h_{4}}^{p_{0}p_{1}}v_{h_{5}h_{7}}^{p_{2}p_{3}}t2_{p_{0}p_{3}}^{h_{4}h_{5}}t2_{p_{2}p_{1}}^{h_{6}h_{7}}\n + -0.125 * \\Phi_{h_{6}h_{4}}^{p_{0}p_{1}}v_{h_{7}h_{5}}^{p_{2}p_{3}}t2_{p_{0}p_{2}}^{h_{4}h_{5}}t2_{p_{3}p_{1}}^{h_{6}h_{7}}\n + 0.0625 * \\Phi_{h_{6}h_{4}}^{p_{0}p_{1}}v_{h_{7}h_{5}}^{p_{2}p_{3}}t2_{p_{0}p_{3}}^{h_{4}h_{5}}t2_{p_{2}p_{1}}^{h_{6}h_{7}}\n + -0.125 * \\Phi_{h_{6}h_{4}}^{p_{0}p_{1}}v_{h_{5}h_{7}}^{p_{2}p_{3}}t2_{p_{1}p_{0}}^{h_{4}h_{5}}t2_{p_{2}p_{3}}^{h_{6}h_{7}}\n + 0.0625 * \\Phi_{h_{6}h_{4}}^{p_{0}p_{1}}v_{h_{5}h_{7}}^{p_{2}p_{3}}t2_{p_{1}p_{0}}^{h_{4}h_{5}}t2_{p_{3}p_{2}}^{h_{6}h_{7}}\n + 0.0625 * \\Phi_{h_{6}h_{4}}^{p_{0}p_{1}}v_{h_{7}h_{5}}^{p_{2}p_{3}}t2_{p_{1}p_{0}}^{h_{4}h_{5}}t2_{p_{2}p_{3}}^{h_{6}h_{7}}\n + -0.125 * \\Phi_{h_{6}h_{4}}^{p_{0}p_{1}}v_{h_{7}h_{5}}^{p_{2}p_{3}}t2_{p_{1}p_{0}}^{h_{4}h_{5}}t2_{p_{3}p_{2}}^{h_{6}h_{7}}\n + 0.0625 * \\Phi_{h_{6}h_{4}}^{p_{0}p_{1}}v_{h_{5}h_{7}}^{p_{2}p_{3}}t2_{p_{2}p_{0}}^{h_{4}h_{5}}t2_{p_{1}p_{3}}^{h_{6}h_{7}}\n + -0.125 * \\Phi_{h_{6}h_{4}}^{p_{0}p_{1}}v_{h_{5}h_{7}}^{p_{2}p_{3}}t2_{p_{3}p_{0}}^{h_{4}h_{5}}t2_{p_{1}p_{2}}^{h_{6}h_{7}}\n + -0.125 * \\Phi_{h_{6}h_{4}}^{p_{0}p_{1}}v_{h_{7}h_{5}}^{p_{2}p_{3}}t2_{p_{2}p_{0}}^{h_{4}h_{5}}t2_{p_{1}p_{3}}^{h_{6}h_{7}}\n + 0.0625 * \\Phi_{h_{6}h_{4}}^{p_{0}p_{1}}v_{h_{7}h_{5}}^{p_{2}p_{3}}t2_{p_{3}p_{0}}^{h_{4}h_{5}}t2_{p_{1}p_{2}}^{h_{6}h_{7}}\n + -0.125 * \\Phi_{h_{6}h_{4}}^{p_{0}p_{1}}v_{h_{5}h_{7}}^{p_{2}p_{3}}t2_{p_{2}p_{0}}^{h_{4}h_{5}}t2_{p_{3}p_{1}}^{h_{6}h_{7}}\n + 0.25 * \\Phi_{h_{6}h_{4}}^{p_{0}p_{1}}v_{h_{5}h_{7}}^{p_{2}p_{3}}t2_{p_{3}p_{0}}^{h_{4}h_{5}}t2_{p_{2}p_{1}}^{h_{6}h_{7}}\n + 0.25 * \\Phi_{h_{6}h_{4}}^{p_{0}p_{1}}v_{h_{7}h_{5}}^{p_{2}p_{3}}t2_{p_{2}p_{0}}^{h_{4}h_{5}}t2_{p_{3}p_{1}}^{h_{6}h_{7}}\n + -0.125 * \\Phi_{h_{6}h_{4}}^{p_{0}p_{1}}v_{h_{7}h_{5}}^{p_{2}p_{3}}t2_{p_{3}p_{0}}^{h_{4}h_{5}}t2_{p_{2}p_{1}}^{h_{6}h_{7}}\n + 0.0625 * \\Phi_{h_{6}h_{4}}^{p_{0}p_{1}}v_{h_{5}h_{7}}^{p_{2}p_{3}}t2_{p_{1}p_{2}}^{h_{4}h_{5}}t2_{p_{0}p_{3}}^{h_{6}h_{7}}\n + -0.03125 * \\Phi_{h_{6}h_{4}}^{p_{0}p_{1}}v_{h_{5}h_{7}}^{p_{2}p_{3}}t2_{p_{1}p_{3}}^{h_{4}h_{5}}t2_{p_{0}p_{2}}^{h_{6}h_{7}}\n + -0.03125 * \\Phi_{h_{6}h_{4}}^{p_{0}p_{1}}v_{h_{7}h_{5}}^{p_{2}p_{3}}t2_{p_{1}p_{2}}^{h_{4}h_{5}}t2_{p_{0}p_{3}}^{h_{6}h_{7}}\n + 0.0625 * \\Phi_{h_{6}h_{4}}^{p_{0}p_{1}}v_{h_{7}h_{5}}^{p_{2}p_{3}}t2_{p_{1}p_{3}}^{h_{4}h_{5}}t2_{p_{0}p_{2}}^{h_{6}h_{7}}\n + -0.03125 * \\Phi_{h_{6}h_{4}}^{p_{0}p_{1}}v_{h_{5}h_{7}}^{p_{2}p_{3}}t2_{p_{2}p_{1}}^{h_{4}h_{5}}t2_{p_{0}p_{3}}^{h_{6}h_{7}}\n + 0.0625 * \\Phi_{h_{6}h_{4}}^{p_{0}p_{1}}v_{h_{5}h_{7}}^{p_{2}p_{3}}t2_{p_{3}p_{1}}^{h_{4}h_{5}}t2_{p_{0}p_{2}}^{h_{6}h_{7}}\n + 0.0625 * \\Phi_{h_{6}h_{4}}^{p_{0}p_{1}}v_{h_{7}h_{5}}^{p_{2}p_{3}}t2_{p_{2}p_{1}}^{h_{4}h_{5}}t2_{p_{0}p_{3}}^{h_{6}h_{7}}\n + -0.03125 * \\Phi_{h_{6}h_{4}}^{p_{0}p_{1}}v_{h_{7}h_{5}}^{p_{2}p_{3}}t2_{p_{3}p_{1}}^{h_{4}h_{5}}t2_{p_{0}p_{2}}^{h_{6}h_{7}}\n + 0.0625 * \\Phi_{h_{6}h_{4}}^{p_{0}p_{1}}v_{h_{5}h_{7}}^{p_{2}p_{3}}t2_{p_{2}p_{3}}^{h_{4}h_{5}}t2_{p_{0}p_{1}}^{h_{6}h_{7}}\n + -0.125 * \\Phi_{h_{6}h_{4}}^{p_{0}p_{1}}v_{h_{5}h_{7}}^{p_{2}p_{3}}t2_{p_{3}p_{2}}^{h_{4}h_{5}}t2_{p_{0}p_{1}}^{h_{6}h_{7}}\n + -0.125 * \\Phi_{h_{6}h_{4}}^{p_{0}p_{1}}v_{h_{7}h_{5}}^{p_{2}p_{3}}t2_{p_{2}p_{3}}^{h_{4}h_{5}}t2_{p_{0}p_{1}}^{h_{6}h_{7}}\n + 0.0625 * \\Phi_{h_{6}h_{4}}^{p_{0}p_{1}}v_{h_{7}h_{5}}^{p_{2}p_{3}}t2_{p_{3}p_{2}}^{h_{4}h_{5}}t2_{p_{0}p_{1}}^{h_{6}h_{7}}\n + -0.03125 * \\Phi_{h_{6}h_{4}}^{p_{0}p_{1}}v_{h_{5}h_{7}}^{p_{2}p_{3}}t2_{p_{1}p_{2}}^{h_{4}h_{5}}t2_{p_{3}p_{0}}^{h_{6}h_{7}}\n + 0.0625 * \\Phi_{h_{6}h_{4}}^{p_{0}p_{1}}v_{h_{5}h_{7}}^{p_{2}p_{3}}t2_{p_{1}p_{3}}^{h_{4}h_{5}}t2_{p_{2}p_{0}}^{h_{6}h_{7}}\n + 0.0625 * \\Phi_{h_{6}h_{4}}^{p_{0}p_{1}}v_{h_{7}h_{5}}^{p_{2}p_{3}}t2_{p_{1}p_{2}}^{h_{4}h_{5}}t2_{p_{3}p_{0}}^{h_{6}h_{7}}\n + -0.03125 * \\Phi_{h_{6}h_{4}}^{p_{0}p_{1}}v_{h_{7}h_{5}}^{p_{2}p_{3}}t2_{p_{1}p_{3}}^{h_{4}h_{5}}t2_{p_{2}p_{0}}^{h_{6}h_{7}}\n + 0.0625 * \\Phi_{h_{6}h_{4}}^{p_{0}p_{1}}v_{h_{5}h_{7}}^{p_{2}p_{3}}t2_{p_{2}p_{1}}^{h_{4}h_{5}}t2_{p_{3}p_{0}}^{h_{6}h_{7}}\n + -0.125 * \\Phi_{h_{6}h_{4}}^{p_{0}p_{1}}v_{h_{5}h_{7}}^{p_{2}p_{3}}t2_{p_{3}p_{1}}^{h_{4}h_{5}}t2_{p_{2}p_{0}}^{h_{6}h_{7}}\n + -0.125 * \\Phi_{h_{6}h_{4}}^{p_{0}p_{1}}v_{h_{7}h_{5}}^{p_{2}p_{3}}t2_{p_{2}p_{1}}^{h_{4}h_{5}}t2_{p_{3}p_{0}}^{h_{6}h_{7}}\n + 0.0625 * \\Phi_{h_{6}h_{4}}^{p_{0}p_{1}}v_{h_{7}h_{5}}^{p_{2}p_{3}}t2_{p_{3}p_{1}}^{h_{4}h_{5}}t2_{p_{2}p_{0}}^{h_{6}h_{7}}\n + -0.03125 * \\Phi_{h_{6}h_{4}}^{p_{0}p_{1}}v_{h_{5}h_{7}}^{p_{2}p_{3}}t2_{p_{2}p_{3}}^{h_{4}h_{5}}t2_{p_{1}p_{0}}^{h_{6}h_{7}}\n + 0.0625 * \\Phi_{h_{6}h_{4}}^{p_{0}p_{1}}v_{h_{5}h_{7}}^{p_{2}p_{3}}t2_{p_{3}p_{2}}^{h_{4}h_{5}}t2_{p_{1}p_{0}}^{h_{6}h_{7}}\n + 0.0625 * \\Phi_{h_{6}h_{4}}^{p_{0}p_{1}}v_{h_{7}h_{5}}^{p_{2}p_{3}}t2_{p_{2}p_{3}}^{h_{4}h_{5}}t2_{p_{1}p_{0}}^{h_{6}h_{7}}\n + -0.03125 * \\Phi_{h_{6}h_{4}}^{p_{0}p_{1}}v_{h_{7}h_{5}}^{p_{2}p_{3}}t2_{p_{3}p_{2}}^{h_{4}h_{5}}t2_{p_{1}p_{0}}^{h_{6}h_{7}}\n + -0.125 * \\Phi_{h_{6}h_{5}}^{p_{0}p_{1}}v_{h_{4}h_{7}}^{p_{2}p_{3}}t2_{p_{0}p_{1}}^{h_{4}h_{5}}t2_{p_{2}p_{3}}^{h_{6}h_{7}}\n + 0.0625 * \\Phi_{h_{6}h_{5}}^{p_{0}p_{1}}v_{h_{4}h_{7}}^{p_{2}p_{3}}t2_{p_{0}p_{1}}^{h_{4}h_{5}}t2_{p_{3}p_{2}}^{h_{6}h_{7}}\n + 0.0625 * \\Phi_{h_{6}h_{5}}^{p_{0}p_{1}}v_{h_{7}h_{4}}^{p_{2}p_{3}}t2_{p_{0}p_{1}}^{h_{4}h_{5}}t2_{p_{2}p_{3}}^{h_{6}h_{7}}\n + -0.125 * \\Phi_{h_{6}h_{5}}^{p_{0}p_{1}}v_{h_{7}h_{4}}^{p_{2}p_{3}}t2_{p_{0}p_{1}}^{h_{4}h_{5}}t2_{p_{3}p_{2}}^{h_{6}h_{7}}\n + 0.0625 * \\Phi_{h_{6}h_{5}}^{p_{0}p_{1}}v_{h_{4}h_{7}}^{p_{2}p_{3}}t2_{p_{0}p_{2}}^{h_{4}h_{5}}t2_{p_{1}p_{3}}^{h_{6}h_{7}}\n + -0.125 * \\Phi_{h_{6}h_{5}}^{p_{0}p_{1}}v_{h_{4}h_{7}}^{p_{2}p_{3}}t2_{p_{0}p_{3}}^{h_{4}h_{5}}t2_{p_{1}p_{2}}^{h_{6}h_{7}}\n + -0.125 * \\Phi_{h_{6}h_{5}}^{p_{0}p_{1}}v_{h_{7}h_{4}}^{p_{2}p_{3}}t2_{p_{0}p_{2}}^{h_{4}h_{5}}t2_{p_{1}p_{3}}^{h_{6}h_{7}}\n + 0.0625 * \\Phi_{h_{6}h_{5}}^{p_{0}p_{1}}v_{h_{7}h_{4}}^{p_{2}p_{3}}t2_{p_{0}p_{3}}^{h_{4}h_{5}}t2_{p_{1}p_{2}}^{h_{6}h_{7}}\n + -0.125 * \\Phi_{h_{6}h_{5}}^{p_{0}p_{1}}v_{h_{4}h_{7}}^{p_{2}p_{3}}t2_{p_{0}p_{2}}^{h_{4}h_{5}}t2_{p_{3}p_{1}}^{h_{6}h_{7}}\n + 0.25 * \\Phi_{h_{6}h_{5}}^{p_{0}p_{1}}v_{h_{4}h_{7}}^{p_{2}p_{3}}t2_{p_{0}p_{3}}^{h_{4}h_{5}}t2_{p_{2}p_{1}}^{h_{6}h_{7}}\n + 0.25 * \\Phi_{h_{6}h_{5}}^{p_{0}p_{1}}v_{h_{7}h_{4}}^{p_{2}p_{3}}t2_{p_{0}p_{2}}^{h_{4}h_{5}}t2_{p_{3}p_{1}}^{h_{6}h_{7}}\n + -0.125 * \\Phi_{h_{6}h_{5}}^{p_{0}p_{1}}v_{h_{7}h_{4}}^{p_{2}p_{3}}t2_{p_{0}p_{3}}^{h_{4}h_{5}}t2_{p_{2}p_{1}}^{h_{6}h_{7}}\n + 0.0625 * \\Phi_{h_{6}h_{5}}^{p_{0}p_{1}}v_{h_{4}h_{7}}^{p_{2}p_{3}}t2_{p_{1}p_{0}}^{h_{4}h_{5}}t2_{p_{2}p_{3}}^{h_{6}h_{7}}\n + -0.03125 * \\Phi_{h_{6}h_{5}}^{p_{0}p_{1}}v_{h_{4}h_{7}}^{p_{2}p_{3}}t2_{p_{1}p_{0}}^{h_{4}h_{5}}t2_{p_{3}p_{2}}^{h_{6}h_{7}}\n + -0.03125 * \\Phi_{h_{6}h_{5}}^{p_{0}p_{1}}v_{h_{7}h_{4}}^{p_{2}p_{3}}t2_{p_{1}p_{0}}^{h_{4}h_{5}}t2_{p_{2}p_{3}}^{h_{6}h_{7}}\n + 0.0625 * \\Phi_{h_{6}h_{5}}^{p_{0}p_{1}}v_{h_{7}h_{4}}^{p_{2}p_{3}}t2_{p_{1}p_{0}}^{h_{4}h_{5}}t2_{p_{3}p_{2}}^{h_{6}h_{7}}\n + -0.03125 * \\Phi_{h_{6}h_{5}}^{p_{0}p_{1}}v_{h_{4}h_{7}}^{p_{2}p_{3}}t2_{p_{2}p_{0}}^{h_{4}h_{5}}t2_{p_{1}p_{3}}^{h_{6}h_{7}}\n + 0.0625 * \\Phi_{h_{6}h_{5}}^{p_{0}p_{1}}v_{h_{4}h_{7}}^{p_{2}p_{3}}t2_{p_{3}p_{0}}^{h_{4}h_{5}}t2_{p_{1}p_{2}}^{h_{6}h_{7}}\n + 0.0625 * \\Phi_{h_{6}h_{5}}^{p_{0}p_{1}}v_{h_{7}h_{4}}^{p_{2}p_{3}}t2_{p_{2}p_{0}}^{h_{4}h_{5}}t2_{p_{1}p_{3}}^{h_{6}h_{7}}\n + -0.03125 * \\Phi_{h_{6}h_{5}}^{p_{0}p_{1}}v_{h_{7}h_{4}}^{p_{2}p_{3}}t2_{p_{3}p_{0}}^{h_{4}h_{5}}t2_{p_{1}p_{2}}^{h_{6}h_{7}}\n + 0.0625 * \\Phi_{h_{6}h_{5}}^{p_{0}p_{1}}v_{h_{4}h_{7}}^{p_{2}p_{3}}t2_{p_{2}p_{0}}^{h_{4}h_{5}}t2_{p_{3}p_{1}}^{h_{6}h_{7}}\n + -0.125 * \\Phi_{h_{6}h_{5}}^{p_{0}p_{1}}v_{h_{4}h_{7}}^{p_{2}p_{3}}t2_{p_{3}p_{0}}^{h_{4}h_{5}}t2_{p_{2}p_{1}}^{h_{6}h_{7}}\n + -0.125 * \\Phi_{h_{6}h_{5}}^{p_{0}p_{1}}v_{h_{7}h_{4}}^{p_{2}p_{3}}t2_{p_{2}p_{0}}^{h_{4}h_{5}}t2_{p_{3}p_{1}}^{h_{6}h_{7}}\n + 0.0625 * \\Phi_{h_{6}h_{5}}^{p_{0}p_{1}}v_{h_{7}h_{4}}^{p_{2}p_{3}}t2_{p_{3}p_{0}}^{h_{4}h_{5}}t2_{p_{2}p_{1}}^{h_{6}h_{7}}\n + -0.03125 * \\Phi_{h_{6}h_{5}}^{p_{0}p_{1}}v_{h_{4}h_{7}}^{p_{2}p_{3}}t2_{p_{1}p_{2}}^{h_{4}h_{5}}t2_{p_{0}p_{3}}^{h_{6}h_{7}}\n + 0.0625 * \\Phi_{h_{6}h_{5}}^{p_{0}p_{1}}v_{h_{4}h_{7}}^{p_{2}p_{3}}t2_{p_{1}p_{3}}^{h_{4}h_{5}}t2_{p_{0}p_{2}}^{h_{6}h_{7}}\n + 0.0625 * \\Phi_{h_{6}h_{5}}^{p_{0}p_{1}}v_{h_{7}h_{4}}^{p_{2}p_{3}}t2_{p_{1}p_{2}}^{h_{4}h_{5}}t2_{p_{0}p_{3}}^{h_{6}h_{7}}\n + -0.03125 * \\Phi_{h_{6}h_{5}}^{p_{0}p_{1}}v_{h_{7}h_{4}}^{p_{2}p_{3}}t2_{p_{1}p_{3}}^{h_{4}h_{5}}t2_{p_{0}p_{2}}^{h_{6}h_{7}}\n + 0.0625 * \\Phi_{h_{6}h_{5}}^{p_{0}p_{1}}v_{h_{4}h_{7}}^{p_{2}p_{3}}t2_{p_{2}p_{1}}^{h_{4}h_{5}}t2_{p_{0}p_{3}}^{h_{6}h_{7}}\n + -0.03125 * \\Phi_{h_{6}h_{5}}^{p_{0}p_{1}}v_{h_{4}h_{7}}^{p_{2}p_{3}}t2_{p_{3}p_{1}}^{h_{4}h_{5}}t2_{p_{0}p_{2}}^{h_{6}h_{7}}\n + -0.03125 * \\Phi_{h_{6}h_{5}}^{p_{0}p_{1}}v_{h_{7}h_{4}}^{p_{2}p_{3}}t2_{p_{2}p_{1}}^{h_{4}h_{5}}t2_{p_{0}p_{3}}^{h_{6}h_{7}}\n + 0.0625 * \\Phi_{h_{6}h_{5}}^{p_{0}p_{1}}v_{h_{7}h_{4}}^{p_{2}p_{3}}t2_{p_{3}p_{1}}^{h_{4}h_{5}}t2_{p_{0}p_{2}}^{h_{6}h_{7}}\n + -0.125 * \\Phi_{h_{6}h_{5}}^{p_{0}p_{1}}v_{h_{4}h_{7}}^{p_{2}p_{3}}t2_{p_{2}p_{3}}^{h_{4}h_{5}}t2_{p_{0}p_{1}}^{h_{6}h_{7}}\n + 0.0625 * \\Phi_{h_{6}h_{5}}^{p_{0}p_{1}}v_{h_{4}h_{7}}^{p_{2}p_{3}}t2_{p_{3}p_{2}}^{h_{4}h_{5}}t2_{p_{0}p_{1}}^{h_{6}h_{7}}\n + 0.0625 * \\Phi_{h_{6}h_{5}}^{p_{0}p_{1}}v_{h_{7}h_{4}}^{p_{2}p_{3}}t2_{p_{2}p_{3}}^{h_{4}h_{5}}t2_{p_{0}p_{1}}^{h_{6}h_{7}}\n + -0.125 * \\Phi_{h_{6}h_{5}}^{p_{0}p_{1}}v_{h_{7}h_{4}}^{p_{2}p_{3}}t2_{p_{3}p_{2}}^{h_{4}h_{5}}t2_{p_{0}p_{1}}^{h_{6}h_{7}}\n + 0.0625 * \\Phi_{h_{6}h_{5}}^{p_{0}p_{1}}v_{h_{4}h_{7}}^{p_{2}p_{3}}t2_{p_{1}p_{2}}^{h_{4}h_{5}}t2_{p_{3}p_{0}}^{h_{6}h_{7}}\n + -0.125 * \\Phi_{h_{6}h_{5}}^{p_{0}p_{1}}v_{h_{4}h_{7}}^{p_{2}p_{3}}t2_{p_{1}p_{3}}^{h_{4}h_{5}}t2_{p_{2}p_{0}}^{h_{6}h_{7}}\n + -0.125 * \\Phi_{h_{6}h_{5}}^{p_{0}p_{1}}v_{h_{7}h_{4}}^{p_{2}p_{3}}t2_{p_{1}p_{2}}^{h_{4}h_{5}}t2_{p_{3}p_{0}}^{h_{6}h_{7}}\n + 0.0625 * \\Phi_{h_{6}h_{5}}^{p_{0}p_{1}}v_{h_{7}h_{4}}^{p_{2}p_{3}}t2_{p_{1}p_{3}}^{h_{4}h_{5}}t2_{p_{2}p_{0}}^{h_{6}h_{7}}\n + -0.03125 * \\Phi_{h_{6}h_{5}}^{p_{0}p_{1}}v_{h_{4}h_{7}}^{p_{2}p_{3}}t2_{p_{2}p_{1}}^{h_{4}h_{5}}t2_{p_{3}p_{0}}^{h_{6}h_{7}}\n + 0.0625 * \\Phi_{h_{6}h_{5}}^{p_{0}p_{1}}v_{h_{4}h_{7}}^{p_{2}p_{3}}t2_{p_{3}p_{1}}^{h_{4}h_{5}}t2_{p_{2}p_{0}}^{h_{6}h_{7}}\n + 0.0625 * \\Phi_{h_{6}h_{5}}^{p_{0}p_{1}}v_{h_{7}h_{4}}^{p_{2}p_{3}}t2_{p_{2}p_{1}}^{h_{4}h_{5}}t2_{p_{3}p_{0}}^{h_{6}h_{7}}\n + -0.03125 * \\Phi_{h_{6}h_{5}}^{p_{0}p_{1}}v_{h_{7}h_{4}}^{p_{2}p_{3}}t2_{p_{3}p_{1}}^{h_{4}h_{5}}t2_{p_{2}p_{0}}^{h_{6}h_{7}}\n + 0.0625 * \\Phi_{h_{6}h_{5}}^{p_{0}p_{1}}v_{h_{4}h_{7}}^{p_{2}p_{3}}t2_{p_{2}p_{3}}^{h_{4}h_{5}}t2_{p_{1}p_{0}}^{h_{6}h_{7}}\n + -0.03125 * \\Phi_{h_{6}h_{5}}^{p_{0}p_{1}}v_{h_{4}h_{7}}^{p_{2}p_{3}}t2_{p_{3}p_{2}}^{h_{4}h_{5}}t2_{p_{1}p_{0}}^{h_{6}h_{7}}\n + -0.03125 * \\Phi_{h_{6}h_{5}}^{p_{0}p_{1}}v_{h_{7}h_{4}}^{p_{2}p_{3}}t2_{p_{2}p_{3}}^{h_{4}h_{5}}t2_{p_{1}p_{0}}^{h_{6}h_{7}}\n + 0.0625 * \\Phi_{h_{6}h_{5}}^{p_{0}p_{1}}v_{h_{7}h_{4}}^{p_{2}p_{3}}t2_{p_{3}p_{2}}^{h_{4}h_{5}}t2_{p_{1}p_{0}}^{h_{6}h_{7}}\n + 0.0625 * \\Phi_{h_{6}h_{7}}^{p_{0}p_{1}}v_{h_{4}h_{5}}^{p_{2}p_{3}}t2_{p_{0}p_{1}}^{h_{4}h_{5}}t2_{p_{2}p_{3}}^{h_{6}h_{7}}\n + -0.03125 * \\Phi_{h_{6}h_{7}}^{p_{0}p_{1}}v_{h_{4}h_{5}}^{p_{2}p_{3}}t2_{p_{0}p_{1}}^{h_{4}h_{5}}t2_{p_{3}p_{2}}^{h_{6}h_{7}}\n + -0.03125 * \\Phi_{h_{6}h_{7}}^{p_{0}p_{1}}v_{h_{5}h_{4}}^{p_{2}p_{3}}t2_{p_{0}p_{1}}^{h_{4}h_{5}}t2_{p_{2}p_{3}}^{h_{6}h_{7}}\n + 0.0625 * \\Phi_{h_{6}h_{7}}^{p_{0}p_{1}}v_{h_{5}h_{4}}^{p_{2}p_{3}}t2_{p_{0}p_{1}}^{h_{4}h_{5}}t2_{p_{3}p_{2}}^{h_{6}h_{7}}\n + -0.03125 * \\Phi_{h_{6}h_{7}}^{p_{0}p_{1}}v_{h_{4}h_{5}}^{p_{2}p_{3}}t2_{p_{0}p_{2}}^{h_{4}h_{5}}t2_{p_{1}p_{3}}^{h_{6}h_{7}}\n + 0.0625 * \\Phi_{h_{6}h_{7}}^{p_{0}p_{1}}v_{h_{4}h_{5}}^{p_{2}p_{3}}t2_{p_{0}p_{3}}^{h_{4}h_{5}}t2_{p_{1}p_{2}}^{h_{6}h_{7}}\n + 0.0625 * \\Phi_{h_{6}h_{7}}^{p_{0}p_{1}}v_{h_{5}h_{4}}^{p_{2}p_{3}}t2_{p_{0}p_{2}}^{h_{4}h_{5}}t2_{p_{1}p_{3}}^{h_{6}h_{7}}\n + -0.03125 * \\Phi_{h_{6}h_{7}}^{p_{0}p_{1}}v_{h_{5}h_{4}}^{p_{2}p_{3}}t2_{p_{0}p_{3}}^{h_{4}h_{5}}t2_{p_{1}p_{2}}^{h_{6}h_{7}}\n + 0.0625 * \\Phi_{h_{6}h_{7}}^{p_{0}p_{1}}v_{h_{4}h_{5}}^{p_{2}p_{3}}t2_{p_{0}p_{2}}^{h_{4}h_{5}}t2_{p_{3}p_{1}}^{h_{6}h_{7}}\n + -0.125 * \\Phi_{h_{6}h_{7}}^{p_{0}p_{1}}v_{h_{4}h_{5}}^{p_{2}p_{3}}t2_{p_{0}p_{3}}^{h_{4}h_{5}}t2_{p_{2}p_{1}}^{h_{6}h_{7}}\n + -0.125 * \\Phi_{h_{6}h_{7}}^{p_{0}p_{1}}v_{h_{5}h_{4}}^{p_{2}p_{3}}t2_{p_{0}p_{2}}^{h_{4}h_{5}}t2_{p_{3}p_{1}}^{h_{6}h_{7}}\n + 0.0625 * \\Phi_{h_{6}h_{7}}^{p_{0}p_{1}}v_{h_{5}h_{4}}^{p_{2}p_{3}}t2_{p_{0}p_{3}}^{h_{4}h_{5}}t2_{p_{2}p_{1}}^{h_{6}h_{7}}\n + -0.03125 * \\Phi_{h_{6}h_{7}}^{p_{0}p_{1}}v_{h_{4}h_{5}}^{p_{2}p_{3}}t2_{p_{1}p_{0}}^{h_{4}h_{5}}t2_{p_{2}p_{3}}^{h_{6}h_{7}}\n + 0.0625 * \\Phi_{h_{6}h_{7}}^{p_{0}p_{1}}v_{h_{4}h_{5}}^{p_{2}p_{3}}t2_{p_{1}p_{0}}^{h_{4}h_{5}}t2_{p_{3}p_{2}}^{h_{6}h_{7}}\n + 0.0625 * \\Phi_{h_{6}h_{7}}^{p_{0}p_{1}}v_{h_{5}h_{4}}^{p_{2}p_{3}}t2_{p_{1}p_{0}}^{h_{4}h_{5}}t2_{p_{2}p_{3}}^{h_{6}h_{7}}\n + -0.03125 * \\Phi_{h_{6}h_{7}}^{p_{0}p_{1}}v_{h_{5}h_{4}}^{p_{2}p_{3}}t2_{p_{1}p_{0}}^{h_{4}h_{5}}t2_{p_{3}p_{2}}^{h_{6}h_{7}}\n + 0.0625 * \\Phi_{h_{6}h_{7}}^{p_{0}p_{1}}v_{h_{4}h_{5}}^{p_{2}p_{3}}t2_{p_{2}p_{0}}^{h_{4}h_{5}}t2_{p_{1}p_{3}}^{h_{6}h_{7}}\n + -0.03125 * \\Phi_{h_{6}h_{7}}^{p_{0}p_{1}}v_{h_{4}h_{5}}^{p_{2}p_{3}}t2_{p_{3}p_{0}}^{h_{4}h_{5}}t2_{p_{1}p_{2}}^{h_{6}h_{7}}\n + -0.03125 * \\Phi_{h_{6}h_{7}}^{p_{0}p_{1}}v_{h_{5}h_{4}}^{p_{2}p_{3}}t2_{p_{2}p_{0}}^{h_{4}h_{5}}t2_{p_{1}p_{3}}^{h_{6}h_{7}}\n + 0.0625 * \\Phi_{h_{6}h_{7}}^{p_{0}p_{1}}v_{h_{5}h_{4}}^{p_{2}p_{3}}t2_{p_{3}p_{0}}^{h_{4}h_{5}}t2_{p_{1}p_{2}}^{h_{6}h_{7}}\n + -0.125 * \\Phi_{h_{6}h_{7}}^{p_{0}p_{1}}v_{h_{4}h_{5}}^{p_{2}p_{3}}t2_{p_{2}p_{0}}^{h_{4}h_{5}}t2_{p_{3}p_{1}}^{h_{6}h_{7}}\n + 0.0625 * \\Phi_{h_{6}h_{7}}^{p_{0}p_{1}}v_{h_{4}h_{5}}^{p_{2}p_{3}}t2_{p_{3}p_{0}}^{h_{4}h_{5}}t2_{p_{2}p_{1}}^{h_{6}h_{7}}\n + 0.0625 * \\Phi_{h_{6}h_{7}}^{p_{0}p_{1}}v_{h_{5}h_{4}}^{p_{2}p_{3}}t2_{p_{2}p_{0}}^{h_{4}h_{5}}t2_{p_{3}p_{1}}^{h_{6}h_{7}}\n + -0.125 * \\Phi_{h_{6}h_{7}}^{p_{0}p_{1}}v_{h_{5}h_{4}}^{p_{2}p_{3}}t2_{p_{3}p_{0}}^{h_{4}h_{5}}t2_{p_{2}p_{1}}^{h_{6}h_{7}}\n + 0.0625 * \\Phi_{h_{6}h_{7}}^{p_{0}p_{1}}v_{h_{4}h_{5}}^{p_{2}p_{3}}t2_{p_{1}p_{2}}^{h_{4}h_{5}}t2_{p_{0}p_{3}}^{h_{6}h_{7}}\n + -0.125 * \\Phi_{h_{6}h_{7}}^{p_{0}p_{1}}v_{h_{4}h_{5}}^{p_{2}p_{3}}t2_{p_{1}p_{3}}^{h_{4}h_{5}}t2_{p_{0}p_{2}}^{h_{6}h_{7}}\n + -0.125 * \\Phi_{h_{6}h_{7}}^{p_{0}p_{1}}v_{h_{5}h_{4}}^{p_{2}p_{3}}t2_{p_{1}p_{2}}^{h_{4}h_{5}}t2_{p_{0}p_{3}}^{h_{6}h_{7}}\n + 0.0625 * \\Phi_{h_{6}h_{7}}^{p_{0}p_{1}}v_{h_{5}h_{4}}^{p_{2}p_{3}}t2_{p_{1}p_{3}}^{h_{4}h_{5}}t2_{p_{0}p_{2}}^{h_{6}h_{7}}\n + -0.125 * \\Phi_{h_{6}h_{7}}^{p_{0}p_{1}}v_{h_{4}h_{5}}^{p_{2}p_{3}}t2_{p_{2}p_{1}}^{h_{4}h_{5}}t2_{p_{0}p_{3}}^{h_{6}h_{7}}\n + 0.0625 * \\Phi_{h_{6}h_{7}}^{p_{0}p_{1}}v_{h_{4}h_{5}}^{p_{2}p_{3}}t2_{p_{3}p_{1}}^{h_{4}h_{5}}t2_{p_{0}p_{2}}^{h_{6}h_{7}}\n + 0.0625 * \\Phi_{h_{6}h_{7}}^{p_{0}p_{1}}v_{h_{5}h_{4}}^{p_{2}p_{3}}t2_{p_{2}p_{1}}^{h_{4}h_{5}}t2_{p_{0}p_{3}}^{h_{6}h_{7}}\n + -0.125 * \\Phi_{h_{6}h_{7}}^{p_{0}p_{1}}v_{h_{5}h_{4}}^{p_{2}p_{3}}t2_{p_{3}p_{1}}^{h_{4}h_{5}}t2_{p_{0}p_{2}}^{h_{6}h_{7}}\n + 0.25 * \\Phi_{h_{6}h_{7}}^{p_{0}p_{1}}v_{h_{4}h_{5}}^{p_{2}p_{3}}t2_{p_{2}p_{3}}^{h_{4}h_{5}}t2_{p_{0}p_{1}}^{h_{6}h_{7}}\n + -0.125 * \\Phi_{h_{6}h_{7}}^{p_{0}p_{1}}v_{h_{4}h_{5}}^{p_{2}p_{3}}t2_{p_{3}p_{2}}^{h_{4}h_{5}}t2_{p_{0}p_{1}}^{h_{6}h_{7}}\n + -0.125 * \\Phi_{h_{6}h_{7}}^{p_{0}p_{1}}v_{h_{5}h_{4}}^{p_{2}p_{3}}t2_{p_{2}p_{3}}^{h_{4}h_{5}}t2_{p_{0}p_{1}}^{h_{6}h_{7}}\n + 0.25 * \\Phi_{h_{6}h_{7}}^{p_{0}p_{1}}v_{h_{5}h_{4}}^{p_{2}p_{3}}t2_{p_{3}p_{2}}^{h_{4}h_{5}}t2_{p_{0}p_{1}}^{h_{6}h_{7}}\n + -0.03125 * \\Phi_{h_{6}h_{7}}^{p_{0}p_{1}}v_{h_{4}h_{5}}^{p_{2}p_{3}}t2_{p_{1}p_{2}}^{h_{4}h_{5}}t2_{p_{3}p_{0}}^{h_{6}h_{7}}\n + 0.0625 * \\Phi_{h_{6}h_{7}}^{p_{0}p_{1}}v_{h_{4}h_{5}}^{p_{2}p_{3}}t2_{p_{1}p_{3}}^{h_{4}h_{5}}t2_{p_{2}p_{0}}^{h_{6}h_{7}}\n + 0.0625 * \\Phi_{h_{6}h_{7}}^{p_{0}p_{1}}v_{h_{5}h_{4}}^{p_{2}p_{3}}t2_{p_{1}p_{2}}^{h_{4}h_{5}}t2_{p_{3}p_{0}}^{h_{6}h_{7}}\n + -0.03125 * \\Phi_{h_{6}h_{7}}^{p_{0}p_{1}}v_{h_{5}h_{4}}^{p_{2}p_{3}}t2_{p_{1}p_{3}}^{h_{4}h_{5}}t2_{p_{2}p_{0}}^{h_{6}h_{7}}\n + 0.0625 * \\Phi_{h_{6}h_{7}}^{p_{0}p_{1}}v_{h_{4}h_{5}}^{p_{2}p_{3}}t2_{p_{2}p_{1}}^{h_{4}h_{5}}t2_{p_{3}p_{0}}^{h_{6}h_{7}}\n + -0.03125 * \\Phi_{h_{6}h_{7}}^{p_{0}p_{1}}v_{h_{4}h_{5}}^{p_{2}p_{3}}t2_{p_{3}p_{1}}^{h_{4}h_{5}}t2_{p_{2}p_{0}}^{h_{6}h_{7}}\n + -0.03125 * \\Phi_{h_{6}h_{7}}^{p_{0}p_{1}}v_{h_{5}h_{4}}^{p_{2}p_{3}}t2_{p_{2}p_{1}}^{h_{4}h_{5}}t2_{p_{3}p_{0}}^{h_{6}h_{7}}\n + 0.0625 * \\Phi_{h_{6}h_{7}}^{p_{0}p_{1}}v_{h_{5}h_{4}}^{p_{2}p_{3}}t2_{p_{3}p_{1}}^{h_{4}h_{5}}t2_{p_{2}p_{0}}^{h_{6}h_{7}}\n + -0.125 * \\Phi_{h_{6}h_{7}}^{p_{0}p_{1}}v_{h_{4}h_{5}}^{p_{2}p_{3}}t2_{p_{2}p_{3}}^{h_{4}h_{5}}t2_{p_{1}p_{0}}^{h_{6}h_{7}}\n + 0.0625 * \\Phi_{h_{6}h_{7}}^{p_{0}p_{1}}v_{h_{4}h_{5}}^{p_{2}p_{3}}t2_{p_{3}p_{2}}^{h_{4}h_{5}}t2_{p_{1}p_{0}}^{h_{6}h_{7}}\n + 0.0625 * \\Phi_{h_{6}h_{7}}^{p_{0}p_{1}}v_{h_{5}h_{4}}^{p_{2}p_{3}}t2_{p_{2}p_{3}}^{h_{4}h_{5}}t2_{p_{1}p_{0}}^{h_{6}h_{7}}\n + -0.125 * \\Phi_{h_{6}h_{7}}^{p_{0}p_{1}}v_{h_{5}h_{4}}^{p_{2}p_{3}}t2_{p_{3}p_{2}}^{h_{4}h_{5}}t2_{p_{1}p_{0}}^{h_{6}h_{7}}\n + -0.03125 * \\Phi_{h_{7}h_{4}}^{p_{0}p_{1}}v_{h_{5}h_{6}}^{p_{2}p_{3}}t2_{p_{0}p_{1}}^{h_{4}h_{5}}t2_{p_{2}p_{3}}^{h_{6}h_{7}}\n + 0.0625 * \\Phi_{h_{7}h_{4}}^{p_{0}p_{1}}v_{h_{5}h_{6}}^{p_{2}p_{3}}t2_{p_{0}p_{1}}^{h_{4}h_{5}}t2_{p_{3}p_{2}}^{h_{6}h_{7}}\n + 0.0625 * \\Phi_{h_{7}h_{4}}^{p_{0}p_{1}}v_{h_{6}h_{5}}^{p_{2}p_{3}}t2_{p_{0}p_{1}}^{h_{4}h_{5}}t2_{p_{2}p_{3}}^{h_{6}h_{7}}\n + -0.03125 * \\Phi_{h_{7}h_{4}}^{p_{0}p_{1}}v_{h_{6}h_{5}}^{p_{2}p_{3}}t2_{p_{0}p_{1}}^{h_{4}h_{5}}t2_{p_{3}p_{2}}^{h_{6}h_{7}}\n + 0.0625 * \\Phi_{h_{7}h_{4}}^{p_{0}p_{1}}v_{h_{5}h_{6}}^{p_{2}p_{3}}t2_{p_{0}p_{2}}^{h_{4}h_{5}}t2_{p_{1}p_{3}}^{h_{6}h_{7}}\n + -0.125 * \\Phi_{h_{7}h_{4}}^{p_{0}p_{1}}v_{h_{5}h_{6}}^{p_{2}p_{3}}t2_{p_{0}p_{3}}^{h_{4}h_{5}}t2_{p_{1}p_{2}}^{h_{6}h_{7}}\n + -0.125 * \\Phi_{h_{7}h_{4}}^{p_{0}p_{1}}v_{h_{6}h_{5}}^{p_{2}p_{3}}t2_{p_{0}p_{2}}^{h_{4}h_{5}}t2_{p_{1}p_{3}}^{h_{6}h_{7}}\n + 0.0625 * \\Phi_{h_{7}h_{4}}^{p_{0}p_{1}}v_{h_{6}h_{5}}^{p_{2}p_{3}}t2_{p_{0}p_{3}}^{h_{4}h_{5}}t2_{p_{1}p_{2}}^{h_{6}h_{7}}\n + -0.03125 * \\Phi_{h_{7}h_{4}}^{p_{0}p_{1}}v_{h_{5}h_{6}}^{p_{2}p_{3}}t2_{p_{0}p_{2}}^{h_{4}h_{5}}t2_{p_{3}p_{1}}^{h_{6}h_{7}}\n + 0.0625 * \\Phi_{h_{7}h_{4}}^{p_{0}p_{1}}v_{h_{5}h_{6}}^{p_{2}p_{3}}t2_{p_{0}p_{3}}^{h_{4}h_{5}}t2_{p_{2}p_{1}}^{h_{6}h_{7}}\n + 0.0625 * \\Phi_{h_{7}h_{4}}^{p_{0}p_{1}}v_{h_{6}h_{5}}^{p_{2}p_{3}}t2_{p_{0}p_{2}}^{h_{4}h_{5}}t2_{p_{3}p_{1}}^{h_{6}h_{7}}\n + -0.03125 * \\Phi_{h_{7}h_{4}}^{p_{0}p_{1}}v_{h_{6}h_{5}}^{p_{2}p_{3}}t2_{p_{0}p_{3}}^{h_{4}h_{5}}t2_{p_{2}p_{1}}^{h_{6}h_{7}}\n + 0.0625 * \\Phi_{h_{7}h_{4}}^{p_{0}p_{1}}v_{h_{5}h_{6}}^{p_{2}p_{3}}t2_{p_{1}p_{0}}^{h_{4}h_{5}}t2_{p_{2}p_{3}}^{h_{6}h_{7}}\n + -0.125 * \\Phi_{h_{7}h_{4}}^{p_{0}p_{1}}v_{h_{5}h_{6}}^{p_{2}p_{3}}t2_{p_{1}p_{0}}^{h_{4}h_{5}}t2_{p_{3}p_{2}}^{h_{6}h_{7}}\n + -0.125 * \\Phi_{h_{7}h_{4}}^{p_{0}p_{1}}v_{h_{6}h_{5}}^{p_{2}p_{3}}t2_{p_{1}p_{0}}^{h_{4}h_{5}}t2_{p_{2}p_{3}}^{h_{6}h_{7}}\n + 0.0625 * \\Phi_{h_{7}h_{4}}^{p_{0}p_{1}}v_{h_{6}h_{5}}^{p_{2}p_{3}}t2_{p_{1}p_{0}}^{h_{4}h_{5}}t2_{p_{3}p_{2}}^{h_{6}h_{7}}\n + -0.125 * \\Phi_{h_{7}h_{4}}^{p_{0}p_{1}}v_{h_{5}h_{6}}^{p_{2}p_{3}}t2_{p_{2}p_{0}}^{h_{4}h_{5}}t2_{p_{1}p_{3}}^{h_{6}h_{7}}\n + 0.25 * \\Phi_{h_{7}h_{4}}^{p_{0}p_{1}}v_{h_{5}h_{6}}^{p_{2}p_{3}}t2_{p_{3}p_{0}}^{h_{4}h_{5}}t2_{p_{1}p_{2}}^{h_{6}h_{7}}\n + 0.25 * \\Phi_{h_{7}h_{4}}^{p_{0}p_{1}}v_{h_{6}h_{5}}^{p_{2}p_{3}}t2_{p_{2}p_{0}}^{h_{4}h_{5}}t2_{p_{1}p_{3}}^{h_{6}h_{7}}\n + -0.125 * \\Phi_{h_{7}h_{4}}^{p_{0}p_{1}}v_{h_{6}h_{5}}^{p_{2}p_{3}}t2_{p_{3}p_{0}}^{h_{4}h_{5}}t2_{p_{1}p_{2}}^{h_{6}h_{7}}\n + 0.0625 * \\Phi_{h_{7}h_{4}}^{p_{0}p_{1}}v_{h_{5}h_{6}}^{p_{2}p_{3}}t2_{p_{2}p_{0}}^{h_{4}h_{5}}t2_{p_{3}p_{1}}^{h_{6}h_{7}}\n + -0.125 * \\Phi_{h_{7}h_{4}}^{p_{0}p_{1}}v_{h_{5}h_{6}}^{p_{2}p_{3}}t2_{p_{3}p_{0}}^{h_{4}h_{5}}t2_{p_{2}p_{1}}^{h_{6}h_{7}}\n + -0.125 * \\Phi_{h_{7}h_{4}}^{p_{0}p_{1}}v_{h_{6}h_{5}}^{p_{2}p_{3}}t2_{p_{2}p_{0}}^{h_{4}h_{5}}t2_{p_{3}p_{1}}^{h_{6}h_{7}}\n + 0.0625 * \\Phi_{h_{7}h_{4}}^{p_{0}p_{1}}v_{h_{6}h_{5}}^{p_{2}p_{3}}t2_{p_{3}p_{0}}^{h_{4}h_{5}}t2_{p_{2}p_{1}}^{h_{6}h_{7}}\n + -0.03125 * \\Phi_{h_{7}h_{4}}^{p_{0}p_{1}}v_{h_{5}h_{6}}^{p_{2}p_{3}}t2_{p_{1}p_{2}}^{h_{4}h_{5}}t2_{p_{0}p_{3}}^{h_{6}h_{7}}\n + 0.0625 * \\Phi_{h_{7}h_{4}}^{p_{0}p_{1}}v_{h_{5}h_{6}}^{p_{2}p_{3}}t2_{p_{1}p_{3}}^{h_{4}h_{5}}t2_{p_{0}p_{2}}^{h_{6}h_{7}}\n + 0.0625 * \\Phi_{h_{7}h_{4}}^{p_{0}p_{1}}v_{h_{6}h_{5}}^{p_{2}p_{3}}t2_{p_{1}p_{2}}^{h_{4}h_{5}}t2_{p_{0}p_{3}}^{h_{6}h_{7}}\n + -0.03125 * \\Phi_{h_{7}h_{4}}^{p_{0}p_{1}}v_{h_{6}h_{5}}^{p_{2}p_{3}}t2_{p_{1}p_{3}}^{h_{4}h_{5}}t2_{p_{0}p_{2}}^{h_{6}h_{7}}\n + 0.0625 * \\Phi_{h_{7}h_{4}}^{p_{0}p_{1}}v_{h_{5}h_{6}}^{p_{2}p_{3}}t2_{p_{2}p_{1}}^{h_{4}h_{5}}t2_{p_{0}p_{3}}^{h_{6}h_{7}}\n + -0.125 * \\Phi_{h_{7}h_{4}}^{p_{0}p_{1}}v_{h_{5}h_{6}}^{p_{2}p_{3}}t2_{p_{3}p_{1}}^{h_{4}h_{5}}t2_{p_{0}p_{2}}^{h_{6}h_{7}}\n + -0.125 * \\Phi_{h_{7}h_{4}}^{p_{0}p_{1}}v_{h_{6}h_{5}}^{p_{2}p_{3}}t2_{p_{2}p_{1}}^{h_{4}h_{5}}t2_{p_{0}p_{3}}^{h_{6}h_{7}}\n + 0.0625 * \\Phi_{h_{7}h_{4}}^{p_{0}p_{1}}v_{h_{6}h_{5}}^{p_{2}p_{3}}t2_{p_{3}p_{1}}^{h_{4}h_{5}}t2_{p_{0}p_{2}}^{h_{6}h_{7}}\n + -0.03125 * \\Phi_{h_{7}h_{4}}^{p_{0}p_{1}}v_{h_{5}h_{6}}^{p_{2}p_{3}}t2_{p_{2}p_{3}}^{h_{4}h_{5}}t2_{p_{0}p_{1}}^{h_{6}h_{7}}\n + 0.0625 * \\Phi_{h_{7}h_{4}}^{p_{0}p_{1}}v_{h_{5}h_{6}}^{p_{2}p_{3}}t2_{p_{3}p_{2}}^{h_{4}h_{5}}t2_{p_{0}p_{1}}^{h_{6}h_{7}}\n + 0.0625 * \\Phi_{h_{7}h_{4}}^{p_{0}p_{1}}v_{h_{6}h_{5}}^{p_{2}p_{3}}t2_{p_{2}p_{3}}^{h_{4}h_{5}}t2_{p_{0}p_{1}}^{h_{6}h_{7}}\n + -0.03125 * \\Phi_{h_{7}h_{4}}^{p_{0}p_{1}}v_{h_{6}h_{5}}^{p_{2}p_{3}}t2_{p_{3}p_{2}}^{h_{4}h_{5}}t2_{p_{0}p_{1}}^{h_{6}h_{7}}\n + 0.0625 * \\Phi_{h_{7}h_{4}}^{p_{0}p_{1}}v_{h_{5}h_{6}}^{p_{2}p_{3}}t2_{p_{1}p_{2}}^{h_{4}h_{5}}t2_{p_{3}p_{0}}^{h_{6}h_{7}}\n + -0.03125 * \\Phi_{h_{7}h_{4}}^{p_{0}p_{1}}v_{h_{5}h_{6}}^{p_{2}p_{3}}t2_{p_{1}p_{3}}^{h_{4}h_{5}}t2_{p_{2}p_{0}}^{h_{6}h_{7}}\n + -0.03125 * \\Phi_{h_{7}h_{4}}^{p_{0}p_{1}}v_{h_{6}h_{5}}^{p_{2}p_{3}}t2_{p_{1}p_{2}}^{h_{4}h_{5}}t2_{p_{3}p_{0}}^{h_{6}h_{7}}\n + 0.0625 * \\Phi_{h_{7}h_{4}}^{p_{0}p_{1}}v_{h_{6}h_{5}}^{p_{2}p_{3}}t2_{p_{1}p_{3}}^{h_{4}h_{5}}t2_{p_{2}p_{0}}^{h_{6}h_{7}}\n + -0.03125 * \\Phi_{h_{7}h_{4}}^{p_{0}p_{1}}v_{h_{5}h_{6}}^{p_{2}p_{3}}t2_{p_{2}p_{1}}^{h_{4}h_{5}}t2_{p_{3}p_{0}}^{h_{6}h_{7}}\n + 0.0625 * \\Phi_{h_{7}h_{4}}^{p_{0}p_{1}}v_{h_{5}h_{6}}^{p_{2}p_{3}}t2_{p_{3}p_{1}}^{h_{4}h_{5}}t2_{p_{2}p_{0}}^{h_{6}h_{7}}\n + 0.0625 * \\Phi_{h_{7}h_{4}}^{p_{0}p_{1}}v_{h_{6}h_{5}}^{p_{2}p_{3}}t2_{p_{2}p_{1}}^{h_{4}h_{5}}t2_{p_{3}p_{0}}^{h_{6}h_{7}}\n + -0.03125 * \\Phi_{h_{7}h_{4}}^{p_{0}p_{1}}v_{h_{6}h_{5}}^{p_{2}p_{3}}t2_{p_{3}p_{1}}^{h_{4}h_{5}}t2_{p_{2}p_{0}}^{h_{6}h_{7}}\n + 0.0625 * \\Phi_{h_{7}h_{4}}^{p_{0}p_{1}}v_{h_{5}h_{6}}^{p_{2}p_{3}}t2_{p_{2}p_{3}}^{h_{4}h_{5}}t2_{p_{1}p_{0}}^{h_{6}h_{7}}\n + -0.125 * \\Phi_{h_{7}h_{4}}^{p_{0}p_{1}}v_{h_{5}h_{6}}^{p_{2}p_{3}}t2_{p_{3}p_{2}}^{h_{4}h_{5}}t2_{p_{1}p_{0}}^{h_{6}h_{7}}\n + -0.125 * \\Phi_{h_{7}h_{4}}^{p_{0}p_{1}}v_{h_{6}h_{5}}^{p_{2}p_{3}}t2_{p_{2}p_{3}}^{h_{4}h_{5}}t2_{p_{1}p_{0}}^{h_{6}h_{7}}\n + 0.0625 * \\Phi_{h_{7}h_{4}}^{p_{0}p_{1}}v_{h_{6}h_{5}}^{p_{2}p_{3}}t2_{p_{3}p_{2}}^{h_{4}h_{5}}t2_{p_{1}p_{0}}^{h_{6}h_{7}}\n + 0.0625 * \\Phi_{h_{7}h_{5}}^{p_{0}p_{1}}v_{h_{4}h_{6}}^{p_{2}p_{3}}t2_{p_{0}p_{1}}^{h_{4}h_{5}}t2_{p_{2}p_{3}}^{h_{6}h_{7}}\n + -0.125 * \\Phi_{h_{7}h_{5}}^{p_{0}p_{1}}v_{h_{4}h_{6}}^{p_{2}p_{3}}t2_{p_{0}p_{1}}^{h_{4}h_{5}}t2_{p_{3}p_{2}}^{h_{6}h_{7}}\n + -0.125 * \\Phi_{h_{7}h_{5}}^{p_{0}p_{1}}v_{h_{6}h_{4}}^{p_{2}p_{3}}t2_{p_{0}p_{1}}^{h_{4}h_{5}}t2_{p_{2}p_{3}}^{h_{6}h_{7}}\n + 0.0625 * \\Phi_{h_{7}h_{5}}^{p_{0}p_{1}}v_{h_{6}h_{4}}^{p_{2}p_{3}}t2_{p_{0}p_{1}}^{h_{4}h_{5}}t2_{p_{3}p_{2}}^{h_{6}h_{7}}\n + -0.125 * \\Phi_{h_{7}h_{5}}^{p_{0}p_{1}}v_{h_{4}h_{6}}^{p_{2}p_{3}}t2_{p_{0}p_{2}}^{h_{4}h_{5}}t2_{p_{1}p_{3}}^{h_{6}h_{7}}\n + 0.25 * \\Phi_{h_{7}h_{5}}^{p_{0}p_{1}}v_{h_{4}h_{6}}^{p_{2}p_{3}}t2_{p_{0}p_{3}}^{h_{4}h_{5}}t2_{p_{1}p_{2}}^{h_{6}h_{7}}\n + 0.25 * \\Phi_{h_{7}h_{5}}^{p_{0}p_{1}}v_{h_{6}h_{4}}^{p_{2}p_{3}}t2_{p_{0}p_{2}}^{h_{4}h_{5}}t2_{p_{1}p_{3}}^{h_{6}h_{7}}\n + -0.125 * \\Phi_{h_{7}h_{5}}^{p_{0}p_{1}}v_{h_{6}h_{4}}^{p_{2}p_{3}}t2_{p_{0}p_{3}}^{h_{4}h_{5}}t2_{p_{1}p_{2}}^{h_{6}h_{7}}\n + 0.0625 * \\Phi_{h_{7}h_{5}}^{p_{0}p_{1}}v_{h_{4}h_{6}}^{p_{2}p_{3}}t2_{p_{0}p_{2}}^{h_{4}h_{5}}t2_{p_{3}p_{1}}^{h_{6}h_{7}}\n + -0.125 * \\Phi_{h_{7}h_{5}}^{p_{0}p_{1}}v_{h_{4}h_{6}}^{p_{2}p_{3}}t2_{p_{0}p_{3}}^{h_{4}h_{5}}t2_{p_{2}p_{1}}^{h_{6}h_{7}}\n + -0.125 * \\Phi_{h_{7}h_{5}}^{p_{0}p_{1}}v_{h_{6}h_{4}}^{p_{2}p_{3}}t2_{p_{0}p_{2}}^{h_{4}h_{5}}t2_{p_{3}p_{1}}^{h_{6}h_{7}}\n + 0.0625 * \\Phi_{h_{7}h_{5}}^{p_{0}p_{1}}v_{h_{6}h_{4}}^{p_{2}p_{3}}t2_{p_{0}p_{3}}^{h_{4}h_{5}}t2_{p_{2}p_{1}}^{h_{6}h_{7}}\n + -0.03125 * \\Phi_{h_{7}h_{5}}^{p_{0}p_{1}}v_{h_{4}h_{6}}^{p_{2}p_{3}}t2_{p_{1}p_{0}}^{h_{4}h_{5}}t2_{p_{2}p_{3}}^{h_{6}h_{7}}\n + 0.0625 * \\Phi_{h_{7}h_{5}}^{p_{0}p_{1}}v_{h_{4}h_{6}}^{p_{2}p_{3}}t2_{p_{1}p_{0}}^{h_{4}h_{5}}t2_{p_{3}p_{2}}^{h_{6}h_{7}}\n + 0.0625 * \\Phi_{h_{7}h_{5}}^{p_{0}p_{1}}v_{h_{6}h_{4}}^{p_{2}p_{3}}t2_{p_{1}p_{0}}^{h_{4}h_{5}}t2_{p_{2}p_{3}}^{h_{6}h_{7}}\n + -0.03125 * \\Phi_{h_{7}h_{5}}^{p_{0}p_{1}}v_{h_{6}h_{4}}^{p_{2}p_{3}}t2_{p_{1}p_{0}}^{h_{4}h_{5}}t2_{p_{3}p_{2}}^{h_{6}h_{7}}\n + 0.0625 * \\Phi_{h_{7}h_{5}}^{p_{0}p_{1}}v_{h_{4}h_{6}}^{p_{2}p_{3}}t2_{p_{2}p_{0}}^{h_{4}h_{5}}t2_{p_{1}p_{3}}^{h_{6}h_{7}}\n + -0.125 * \\Phi_{h_{7}h_{5}}^{p_{0}p_{1}}v_{h_{4}h_{6}}^{p_{2}p_{3}}t2_{p_{3}p_{0}}^{h_{4}h_{5}}t2_{p_{1}p_{2}}^{h_{6}h_{7}}\n + -0.125 * \\Phi_{h_{7}h_{5}}^{p_{0}p_{1}}v_{h_{6}h_{4}}^{p_{2}p_{3}}t2_{p_{2}p_{0}}^{h_{4}h_{5}}t2_{p_{1}p_{3}}^{h_{6}h_{7}}\n + 0.0625 * \\Phi_{h_{7}h_{5}}^{p_{0}p_{1}}v_{h_{6}h_{4}}^{p_{2}p_{3}}t2_{p_{3}p_{0}}^{h_{4}h_{5}}t2_{p_{1}p_{2}}^{h_{6}h_{7}}\n + -0.03125 * \\Phi_{h_{7}h_{5}}^{p_{0}p_{1}}v_{h_{4}h_{6}}^{p_{2}p_{3}}t2_{p_{2}p_{0}}^{h_{4}h_{5}}t2_{p_{3}p_{1}}^{h_{6}h_{7}}\n + 0.0625 * \\Phi_{h_{7}h_{5}}^{p_{0}p_{1}}v_{h_{4}h_{6}}^{p_{2}p_{3}}t2_{p_{3}p_{0}}^{h_{4}h_{5}}t2_{p_{2}p_{1}}^{h_{6}h_{7}}\n + 0.0625 * \\Phi_{h_{7}h_{5}}^{p_{0}p_{1}}v_{h_{6}h_{4}}^{p_{2}p_{3}}t2_{p_{2}p_{0}}^{h_{4}h_{5}}t2_{p_{3}p_{1}}^{h_{6}h_{7}}\n + -0.03125 * \\Phi_{h_{7}h_{5}}^{p_{0}p_{1}}v_{h_{6}h_{4}}^{p_{2}p_{3}}t2_{p_{3}p_{0}}^{h_{4}h_{5}}t2_{p_{2}p_{1}}^{h_{6}h_{7}}\n + 0.0625 * \\Phi_{h_{7}h_{5}}^{p_{0}p_{1}}v_{h_{4}h_{6}}^{p_{2}p_{3}}t2_{p_{1}p_{2}}^{h_{4}h_{5}}t2_{p_{0}p_{3}}^{h_{6}h_{7}}\n + -0.125 * \\Phi_{h_{7}h_{5}}^{p_{0}p_{1}}v_{h_{4}h_{6}}^{p_{2}p_{3}}t2_{p_{1}p_{3}}^{h_{4}h_{5}}t2_{p_{0}p_{2}}^{h_{6}h_{7}}\n + -0.125 * \\Phi_{h_{7}h_{5}}^{p_{0}p_{1}}v_{h_{6}h_{4}}^{p_{2}p_{3}}t2_{p_{1}p_{2}}^{h_{4}h_{5}}t2_{p_{0}p_{3}}^{h_{6}h_{7}}\n + 0.0625 * \\Phi_{h_{7}h_{5}}^{p_{0}p_{1}}v_{h_{6}h_{4}}^{p_{2}p_{3}}t2_{p_{1}p_{3}}^{h_{4}h_{5}}t2_{p_{0}p_{2}}^{h_{6}h_{7}}\n + -0.03125 * \\Phi_{h_{7}h_{5}}^{p_{0}p_{1}}v_{h_{4}h_{6}}^{p_{2}p_{3}}t2_{p_{2}p_{1}}^{h_{4}h_{5}}t2_{p_{0}p_{3}}^{h_{6}h_{7}}\n + 0.0625 * \\Phi_{h_{7}h_{5}}^{p_{0}p_{1}}v_{h_{4}h_{6}}^{p_{2}p_{3}}t2_{p_{3}p_{1}}^{h_{4}h_{5}}t2_{p_{0}p_{2}}^{h_{6}h_{7}}\n + 0.0625 * \\Phi_{h_{7}h_{5}}^{p_{0}p_{1}}v_{h_{6}h_{4}}^{p_{2}p_{3}}t2_{p_{2}p_{1}}^{h_{4}h_{5}}t2_{p_{0}p_{3}}^{h_{6}h_{7}}\n + -0.03125 * \\Phi_{h_{7}h_{5}}^{p_{0}p_{1}}v_{h_{6}h_{4}}^{p_{2}p_{3}}t2_{p_{3}p_{1}}^{h_{4}h_{5}}t2_{p_{0}p_{2}}^{h_{6}h_{7}}\n + 0.0625 * \\Phi_{h_{7}h_{5}}^{p_{0}p_{1}}v_{h_{4}h_{6}}^{p_{2}p_{3}}t2_{p_{2}p_{3}}^{h_{4}h_{5}}t2_{p_{0}p_{1}}^{h_{6}h_{7}}\n + -0.03125 * \\Phi_{h_{7}h_{5}}^{p_{0}p_{1}}v_{h_{4}h_{6}}^{p_{2}p_{3}}t2_{p_{3}p_{2}}^{h_{4}h_{5}}t2_{p_{0}p_{1}}^{h_{6}h_{7}}\n + -0.03125 * \\Phi_{h_{7}h_{5}}^{p_{0}p_{1}}v_{h_{6}h_{4}}^{p_{2}p_{3}}t2_{p_{2}p_{3}}^{h_{4}h_{5}}t2_{p_{0}p_{1}}^{h_{6}h_{7}}\n + 0.0625 * \\Phi_{h_{7}h_{5}}^{p_{0}p_{1}}v_{h_{6}h_{4}}^{p_{2}p_{3}}t2_{p_{3}p_{2}}^{h_{4}h_{5}}t2_{p_{0}p_{1}}^{h_{6}h_{7}}\n + -0.03125 * \\Phi_{h_{7}h_{5}}^{p_{0}p_{1}}v_{h_{4}h_{6}}^{p_{2}p_{3}}t2_{p_{1}p_{2}}^{h_{4}h_{5}}t2_{p_{3}p_{0}}^{h_{6}h_{7}}\n + 0.0625 * \\Phi_{h_{7}h_{5}}^{p_{0}p_{1}}v_{h_{4}h_{6}}^{p_{2}p_{3}}t2_{p_{1}p_{3}}^{h_{4}h_{5}}t2_{p_{2}p_{0}}^{h_{6}h_{7}}\n + 0.0625 * \\Phi_{h_{7}h_{5}}^{p_{0}p_{1}}v_{h_{6}h_{4}}^{p_{2}p_{3}}t2_{p_{1}p_{2}}^{h_{4}h_{5}}t2_{p_{3}p_{0}}^{h_{6}h_{7}}\n + -0.03125 * \\Phi_{h_{7}h_{5}}^{p_{0}p_{1}}v_{h_{6}h_{4}}^{p_{2}p_{3}}t2_{p_{1}p_{3}}^{h_{4}h_{5}}t2_{p_{2}p_{0}}^{h_{6}h_{7}}\n + 0.0625 * \\Phi_{h_{7}h_{5}}^{p_{0}p_{1}}v_{h_{4}h_{6}}^{p_{2}p_{3}}t2_{p_{2}p_{1}}^{h_{4}h_{5}}t2_{p_{3}p_{0}}^{h_{6}h_{7}}\n + -0.03125 * \\Phi_{h_{7}h_{5}}^{p_{0}p_{1}}v_{h_{4}h_{6}}^{p_{2}p_{3}}t2_{p_{3}p_{1}}^{h_{4}h_{5}}t2_{p_{2}p_{0}}^{h_{6}h_{7}}\n + -0.03125 * \\Phi_{h_{7}h_{5}}^{p_{0}p_{1}}v_{h_{6}h_{4}}^{p_{2}p_{3}}t2_{p_{2}p_{1}}^{h_{4}h_{5}}t2_{p_{3}p_{0}}^{h_{6}h_{7}}\n + 0.0625 * \\Phi_{h_{7}h_{5}}^{p_{0}p_{1}}v_{h_{6}h_{4}}^{p_{2}p_{3}}t2_{p_{3}p_{1}}^{h_{4}h_{5}}t2_{p_{2}p_{0}}^{h_{6}h_{7}}\n + -0.125 * \\Phi_{h_{7}h_{5}}^{p_{0}p_{1}}v_{h_{4}h_{6}}^{p_{2}p_{3}}t2_{p_{2}p_{3}}^{h_{4}h_{5}}t2_{p_{1}p_{0}}^{h_{6}h_{7}}\n + 0.0625 * \\Phi_{h_{7}h_{5}}^{p_{0}p_{1}}v_{h_{4}h_{6}}^{p_{2}p_{3}}t2_{p_{3}p_{2}}^{h_{4}h_{5}}t2_{p_{1}p_{0}}^{h_{6}h_{7}}\n + 0.0625 * \\Phi_{h_{7}h_{5}}^{p_{0}p_{1}}v_{h_{6}h_{4}}^{p_{2}p_{3}}t2_{p_{2}p_{3}}^{h_{4}h_{5}}t2_{p_{1}p_{0}}^{h_{6}h_{7}}\n + -0.125 * \\Phi_{h_{7}h_{5}}^{p_{0}p_{1}}v_{h_{6}h_{4}}^{p_{2}p_{3}}t2_{p_{3}p_{2}}^{h_{4}h_{5}}t2_{p_{1}p_{0}}^{h_{6}h_{7}}\n + -0.03125 * \\Phi_{h_{7}h_{6}}^{p_{0}p_{1}}v_{h_{4}h_{5}}^{p_{2}p_{3}}t2_{p_{0}p_{1}}^{h_{4}h_{5}}t2_{p_{2}p_{3}}^{h_{6}h_{7}}\n + 0.0625 * \\Phi_{h_{7}h_{6}}^{p_{0}p_{1}}v_{h_{4}h_{5}}^{p_{2}p_{3}}t2_{p_{0}p_{1}}^{h_{4}h_{5}}t2_{p_{3}p_{2}}^{h_{6}h_{7}}\n + 0.0625 * \\Phi_{h_{7}h_{6}}^{p_{0}p_{1}}v_{h_{5}h_{4}}^{p_{2}p_{3}}t2_{p_{0}p_{1}}^{h_{4}h_{5}}t2_{p_{2}p_{3}}^{h_{6}h_{7}}\n + -0.03125 * \\Phi_{h_{7}h_{6}}^{p_{0}p_{1}}v_{h_{5}h_{4}}^{p_{2}p_{3}}t2_{p_{0}p_{1}}^{h_{4}h_{5}}t2_{p_{3}p_{2}}^{h_{6}h_{7}}\n + 0.0625 * \\Phi_{h_{7}h_{6}}^{p_{0}p_{1}}v_{h_{4}h_{5}}^{p_{2}p_{3}}t2_{p_{0}p_{2}}^{h_{4}h_{5}}t2_{p_{1}p_{3}}^{h_{6}h_{7}}\n + -0.125 * \\Phi_{h_{7}h_{6}}^{p_{0}p_{1}}v_{h_{4}h_{5}}^{p_{2}p_{3}}t2_{p_{0}p_{3}}^{h_{4}h_{5}}t2_{p_{1}p_{2}}^{h_{6}h_{7}}\n + -0.125 * \\Phi_{h_{7}h_{6}}^{p_{0}p_{1}}v_{h_{5}h_{4}}^{p_{2}p_{3}}t2_{p_{0}p_{2}}^{h_{4}h_{5}}t2_{p_{1}p_{3}}^{h_{6}h_{7}}\n + 0.0625 * \\Phi_{h_{7}h_{6}}^{p_{0}p_{1}}v_{h_{5}h_{4}}^{p_{2}p_{3}}t2_{p_{0}p_{3}}^{h_{4}h_{5}}t2_{p_{1}p_{2}}^{h_{6}h_{7}}\n + -0.03125 * \\Phi_{h_{7}h_{6}}^{p_{0}p_{1}}v_{h_{4}h_{5}}^{p_{2}p_{3}}t2_{p_{0}p_{2}}^{h_{4}h_{5}}t2_{p_{3}p_{1}}^{h_{6}h_{7}}\n + 0.0625 * \\Phi_{h_{7}h_{6}}^{p_{0}p_{1}}v_{h_{4}h_{5}}^{p_{2}p_{3}}t2_{p_{0}p_{3}}^{h_{4}h_{5}}t2_{p_{2}p_{1}}^{h_{6}h_{7}}\n + 0.0625 * \\Phi_{h_{7}h_{6}}^{p_{0}p_{1}}v_{h_{5}h_{4}}^{p_{2}p_{3}}t2_{p_{0}p_{2}}^{h_{4}h_{5}}t2_{p_{3}p_{1}}^{h_{6}h_{7}}\n + -0.03125 * \\Phi_{h_{7}h_{6}}^{p_{0}p_{1}}v_{h_{5}h_{4}}^{p_{2}p_{3}}t2_{p_{0}p_{3}}^{h_{4}h_{5}}t2_{p_{2}p_{1}}^{h_{6}h_{7}}\n + 0.0625 * \\Phi_{h_{7}h_{6}}^{p_{0}p_{1}}v_{h_{4}h_{5}}^{p_{2}p_{3}}t2_{p_{1}p_{0}}^{h_{4}h_{5}}t2_{p_{2}p_{3}}^{h_{6}h_{7}}\n + -0.03125 * \\Phi_{h_{7}h_{6}}^{p_{0}p_{1}}v_{h_{4}h_{5}}^{p_{2}p_{3}}t2_{p_{1}p_{0}}^{h_{4}h_{5}}t2_{p_{3}p_{2}}^{h_{6}h_{7}}\n + -0.03125 * \\Phi_{h_{7}h_{6}}^{p_{0}p_{1}}v_{h_{5}h_{4}}^{p_{2}p_{3}}t2_{p_{1}p_{0}}^{h_{4}h_{5}}t2_{p_{2}p_{3}}^{h_{6}h_{7}}\n + 0.0625 * \\Phi_{h_{7}h_{6}}^{p_{0}p_{1}}v_{h_{5}h_{4}}^{p_{2}p_{3}}t2_{p_{1}p_{0}}^{h_{4}h_{5}}t2_{p_{3}p_{2}}^{h_{6}h_{7}}\n + -0.125 * \\Phi_{h_{7}h_{6}}^{p_{0}p_{1}}v_{h_{4}h_{5}}^{p_{2}p_{3}}t2_{p_{2}p_{0}}^{h_{4}h_{5}}t2_{p_{1}p_{3}}^{h_{6}h_{7}}\n + 0.0625 * \\Phi_{h_{7}h_{6}}^{p_{0}p_{1}}v_{h_{4}h_{5}}^{p_{2}p_{3}}t2_{p_{3}p_{0}}^{h_{4}h_{5}}t2_{p_{1}p_{2}}^{h_{6}h_{7}}\n + 0.0625 * \\Phi_{h_{7}h_{6}}^{p_{0}p_{1}}v_{h_{5}h_{4}}^{p_{2}p_{3}}t2_{p_{2}p_{0}}^{h_{4}h_{5}}t2_{p_{1}p_{3}}^{h_{6}h_{7}}\n + -0.125 * \\Phi_{h_{7}h_{6}}^{p_{0}p_{1}}v_{h_{5}h_{4}}^{p_{2}p_{3}}t2_{p_{3}p_{0}}^{h_{4}h_{5}}t2_{p_{1}p_{2}}^{h_{6}h_{7}}\n + 0.0625 * \\Phi_{h_{7}h_{6}}^{p_{0}p_{1}}v_{h_{4}h_{5}}^{p_{2}p_{3}}t2_{p_{2}p_{0}}^{h_{4}h_{5}}t2_{p_{3}p_{1}}^{h_{6}h_{7}}\n + -0.03125 * \\Phi_{h_{7}h_{6}}^{p_{0}p_{1}}v_{h_{4}h_{5}}^{p_{2}p_{3}}t2_{p_{3}p_{0}}^{h_{4}h_{5}}t2_{p_{2}p_{1}}^{h_{6}h_{7}}\n + -0.03125 * \\Phi_{h_{7}h_{6}}^{p_{0}p_{1}}v_{h_{5}h_{4}}^{p_{2}p_{3}}t2_{p_{2}p_{0}}^{h_{4}h_{5}}t2_{p_{3}p_{1}}^{h_{6}h_{7}}\n + 0.0625 * \\Phi_{h_{7}h_{6}}^{p_{0}p_{1}}v_{h_{5}h_{4}}^{p_{2}p_{3}}t2_{p_{3}p_{0}}^{h_{4}h_{5}}t2_{p_{2}p_{1}}^{h_{6}h_{7}}\n + -0.03125 * \\Phi_{h_{7}h_{6}}^{p_{0}p_{1}}v_{h_{4}h_{5}}^{p_{2}p_{3}}t2_{p_{1}p_{2}}^{h_{4}h_{5}}t2_{p_{0}p_{3}}^{h_{6}h_{7}}\n + 0.0625 * \\Phi_{h_{7}h_{6}}^{p_{0}p_{1}}v_{h_{4}h_{5}}^{p_{2}p_{3}}t2_{p_{1}p_{3}}^{h_{4}h_{5}}t2_{p_{0}p_{2}}^{h_{6}h_{7}}\n + 0.0625 * \\Phi_{h_{7}h_{6}}^{p_{0}p_{1}}v_{h_{5}h_{4}}^{p_{2}p_{3}}t2_{p_{1}p_{2}}^{h_{4}h_{5}}t2_{p_{0}p_{3}}^{h_{6}h_{7}}\n + -0.03125 * \\Phi_{h_{7}h_{6}}^{p_{0}p_{1}}v_{h_{5}h_{4}}^{p_{2}p_{3}}t2_{p_{1}p_{3}}^{h_{4}h_{5}}t2_{p_{0}p_{2}}^{h_{6}h_{7}}\n + 0.0625 * \\Phi_{h_{7}h_{6}}^{p_{0}p_{1}}v_{h_{4}h_{5}}^{p_{2}p_{3}}t2_{p_{2}p_{1}}^{h_{4}h_{5}}t2_{p_{0}p_{3}}^{h_{6}h_{7}}\n + -0.03125 * \\Phi_{h_{7}h_{6}}^{p_{0}p_{1}}v_{h_{4}h_{5}}^{p_{2}p_{3}}t2_{p_{3}p_{1}}^{h_{4}h_{5}}t2_{p_{0}p_{2}}^{h_{6}h_{7}}\n + -0.03125 * \\Phi_{h_{7}h_{6}}^{p_{0}p_{1}}v_{h_{5}h_{4}}^{p_{2}p_{3}}t2_{p_{2}p_{1}}^{h_{4}h_{5}}t2_{p_{0}p_{3}}^{h_{6}h_{7}}\n + 0.0625 * \\Phi_{h_{7}h_{6}}^{p_{0}p_{1}}v_{h_{5}h_{4}}^{p_{2}p_{3}}t2_{p_{3}p_{1}}^{h_{4}h_{5}}t2_{p_{0}p_{2}}^{h_{6}h_{7}}\n + -0.125 * \\Phi_{h_{7}h_{6}}^{p_{0}p_{1}}v_{h_{4}h_{5}}^{p_{2}p_{3}}t2_{p_{2}p_{3}}^{h_{4}h_{5}}t2_{p_{0}p_{1}}^{h_{6}h_{7}}\n + 0.0625 * \\Phi_{h_{7}h_{6}}^{p_{0}p_{1}}v_{h_{4}h_{5}}^{p_{2}p_{3}}t2_{p_{3}p_{2}}^{h_{4}h_{5}}t2_{p_{0}p_{1}}^{h_{6}h_{7}}\n + 0.0625 * \\Phi_{h_{7}h_{6}}^{p_{0}p_{1}}v_{h_{5}h_{4}}^{p_{2}p_{3}}t2_{p_{2}p_{3}}^{h_{4}h_{5}}t2_{p_{0}p_{1}}^{h_{6}h_{7}}\n + -0.125 * \\Phi_{h_{7}h_{6}}^{p_{0}p_{1}}v_{h_{5}h_{4}}^{p_{2}p_{3}}t2_{p_{3}p_{2}}^{h_{4}h_{5}}t2_{p_{0}p_{1}}^{h_{6}h_{7}}\n + 0.0625 * \\Phi_{h_{7}h_{6}}^{p_{0}p_{1}}v_{h_{4}h_{5}}^{p_{2}p_{3}}t2_{p_{1}p_{2}}^{h_{4}h_{5}}t2_{p_{3}p_{0}}^{h_{6}h_{7}}\n + -0.125 * \\Phi_{h_{7}h_{6}}^{p_{0}p_{1}}v_{h_{4}h_{5}}^{p_{2}p_{3}}t2_{p_{1}p_{3}}^{h_{4}h_{5}}t2_{p_{2}p_{0}}^{h_{6}h_{7}}\n + -0.125 * \\Phi_{h_{7}h_{6}}^{p_{0}p_{1}}v_{h_{5}h_{4}}^{p_{2}p_{3}}t2_{p_{1}p_{2}}^{h_{4}h_{5}}t2_{p_{3}p_{0}}^{h_{6}h_{7}}\n + 0.0625 * \\Phi_{h_{7}h_{6}}^{p_{0}p_{1}}v_{h_{5}h_{4}}^{p_{2}p_{3}}t2_{p_{1}p_{3}}^{h_{4}h_{5}}t2_{p_{2}p_{0}}^{h_{6}h_{7}}\n + -0.125 * \\Phi_{h_{7}h_{6}}^{p_{0}p_{1}}v_{h_{4}h_{5}}^{p_{2}p_{3}}t2_{p_{2}p_{1}}^{h_{4}h_{5}}t2_{p_{3}p_{0}}^{h_{6}h_{7}}\n + 0.0625 * \\Phi_{h_{7}h_{6}}^{p_{0}p_{1}}v_{h_{4}h_{5}}^{p_{2}p_{3}}t2_{p_{3}p_{1}}^{h_{4}h_{5}}t2_{p_{2}p_{0}}^{h_{6}h_{7}}\n + 0.0625 * \\Phi_{h_{7}h_{6}}^{p_{0}p_{1}}v_{h_{5}h_{4}}^{p_{2}p_{3}}t2_{p_{2}p_{1}}^{h_{4}h_{5}}t2_{p_{3}p_{0}}^{h_{6}h_{7}}\n + -0.125 * \\Phi_{h_{7}h_{6}}^{p_{0}p_{1}}v_{h_{5}h_{4}}^{p_{2}p_{3}}t2_{p_{3}p_{1}}^{h_{4}h_{5}}t2_{p_{2}p_{0}}^{h_{6}h_{7}}\n + 0.25 * \\Phi_{h_{7}h_{6}}^{p_{0}p_{1}}v_{h_{4}h_{5}}^{p_{2}p_{3}}t2_{p_{2}p_{3}}^{h_{4}h_{5}}t2_{p_{1}p_{0}}^{h_{6}h_{7}}\n + -0.125 * \\Phi_{h_{7}h_{6}}^{p_{0}p_{1}}v_{h_{4}h_{5}}^{p_{2}p_{3}}t2_{p_{3}p_{2}}^{h_{4}h_{5}}t2_{p_{1}p_{0}}^{h_{6}h_{7}}\n + -0.125 * \\Phi_{h_{7}h_{6}}^{p_{0}p_{1}}v_{h_{5}h_{4}}^{p_{2}p_{3}}t2_{p_{2}p_{3}}^{h_{4}h_{5}}t2_{p_{1}p_{0}}^{h_{6}h_{7}}\n + 0.25 * \\Phi_{h_{7}h_{6}}^{p_{0}p_{1}}v_{h_{5}h_{4}}^{p_{2}p_{3}}t2_{p_{3}p_{2}}^{h_{4}h_{5}}t2_{p_{1}p_{0}}^{h_{6}h_{7}}\n + -0.25 * \\Phi_{h_{2}h_{3}}^{p_{0}p_{1}}t2_{p_{0}p_{1}}^{h_{2}h_{3}}v_{h_{6}h_{7}}^{p_{4}p_{5}}t2_{p_{4}p_{5}}^{h_{6}h_{7}}\n + 0.125 * \\Phi_{h_{2}h_{3}}^{p_{0}p_{1}}t2_{p_{0}p_{1}}^{h_{2}h_{3}}v_{h_{6}h_{7}}^{p_{4}p_{5}}t2_{p_{5}p_{4}}^{h_{6}h_{7}}\n + 0.125 * \\Phi_{h_{2}h_{3}}^{p_{0}p_{1}}t2_{p_{0}p_{1}}^{h_{2}h_{3}}v_{h_{7}h_{6}}^{p_{4}p_{5}}t2_{p_{4}p_{5}}^{h_{6}h_{7}}\n + -0.25 * \\Phi_{h_{2}h_{3}}^{p_{0}p_{1}}t2_{p_{0}p_{1}}^{h_{2}h_{3}}v_{h_{7}h_{6}}^{p_{4}p_{5}}t2_{p_{5}p_{4}}^{h_{6}h_{7}}\n + 0.125 * \\Phi_{h_{2}h_{3}}^{p_{0}p_{1}}t2_{p_{1}p_{0}}^{h_{2}h_{3}}v_{h_{6}h_{7}}^{p_{4}p_{5}}t2_{p_{4}p_{5}}^{h_{6}h_{7}}\n + -0.0625 * \\Phi_{h_{2}h_{3}}^{p_{0}p_{1}}t2_{p_{1}p_{0}}^{h_{2}h_{3}}v_{h_{6}h_{7}}^{p_{4}p_{5}}t2_{p_{5}p_{4}}^{h_{6}h_{7}}\n + -0.0625 * \\Phi_{h_{2}h_{3}}^{p_{0}p_{1}}t2_{p_{1}p_{0}}^{h_{2}h_{3}}v_{h_{7}h_{6}}^{p_{4}p_{5}}t2_{p_{4}p_{5}}^{h_{6}h_{7}}\n + 0.125 * \\Phi_{h_{2}h_{3}}^{p_{0}p_{1}}t2_{p_{1}p_{0}}^{h_{2}h_{3}}v_{h_{7}h_{6}}^{p_{4}p_{5}}t2_{p_{5}p_{4}}^{h_{6}h_{7}}\n + 0.125 * \\Phi_{h_{3}h_{2}}^{p_{0}p_{1}}t2_{p_{0}p_{1}}^{h_{2}h_{3}}v_{h_{6}h_{7}}^{p_{4}p_{5}}t2_{p_{4}p_{5}}^{h_{6}h_{7}}\n + -0.0625 * \\Phi_{h_{3}h_{2}}^{p_{0}p_{1}}t2_{p_{0}p_{1}}^{h_{2}h_{3}}v_{h_{6}h_{7}}^{p_{4}p_{5}}t2_{p_{5}p_{4}}^{h_{6}h_{7}}\n + -0.0625 * \\Phi_{h_{3}h_{2}}^{p_{0}p_{1}}t2_{p_{0}p_{1}}^{h_{2}h_{3}}v_{h_{7}h_{6}}^{p_{4}p_{5}}t2_{p_{4}p_{5}}^{h_{6}h_{7}}\n + 0.125 * \\Phi_{h_{3}h_{2}}^{p_{0}p_{1}}t2_{p_{0}p_{1}}^{h_{2}h_{3}}v_{h_{7}h_{6}}^{p_{4}p_{5}}t2_{p_{5}p_{4}}^{h_{6}h_{7}}\n + -0.25 * \\Phi_{h_{3}h_{2}}^{p_{0}p_{1}}t2_{p_{1}p_{0}}^{h_{2}h_{3}}v_{h_{6}h_{7}}^{p_{4}p_{5}}t2_{p_{4}p_{5}}^{h_{6}h_{7}}\n + 0.125 * \\Phi_{h_{3}h_{2}}^{p_{0}p_{1}}t2_{p_{1}p_{0}}^{h_{2}h_{3}}v_{h_{6}h_{7}}^{p_{4}p_{5}}t2_{p_{5}p_{4}}^{h_{6}h_{7}}\n + 0.125 * \\Phi_{h_{3}h_{2}}^{p_{0}p_{1}}t2_{p_{1}p_{0}}^{h_{2}h_{3}}v_{h_{7}h_{6}}^{p_{4}p_{5}}t2_{p_{4}p_{5}}^{h_{6}h_{7}}\n + -0.25 * \\Phi_{h_{3}h_{2}}^{p_{0}p_{1}}t2_{p_{1}p_{0}}^{h_{2}h_{3}}v_{h_{7}h_{6}}^{p_{4}p_{5}}t2_{p_{5}p_{4}}^{h_{6}h_{7}}\n + -0.25 * \\Phi_{h_{2}h_{3}}^{p_{0}p_{1}}t2_{p_{0}p_{1}}^{h_{2}h_{3}}v_{h_{6}h_{7}}^{p_{4}p_{5}}t2_{p_{4}p_{5}}^{h_{6}h_{7}}\n + 0.125 * \\Phi_{h_{2}h_{3}}^{p_{0}p_{1}}t2_{p_{0}p_{1}}^{h_{2}h_{3}}v_{h_{6}h_{7}}^{p_{4}p_{5}}t2_{p_{5}p_{4}}^{h_{6}h_{7}}\n + 0.125 * \\Phi_{h_{2}h_{3}}^{p_{0}p_{1}}t2_{p_{0}p_{1}}^{h_{2}h_{3}}v_{h_{7}h_{6}}^{p_{4}p_{5}}t2_{p_{4}p_{5}}^{h_{6}h_{7}}\n + -0.25 * \\Phi_{h_{2}h_{3}}^{p_{0}p_{1}}t2_{p_{0}p_{1}}^{h_{2}h_{3}}v_{h_{7}h_{6}}^{p_{4}p_{5}}t2_{p_{5}p_{4}}^{h_{6}h_{7}}\n + 0.125 * \\Phi_{h_{2}h_{3}}^{p_{0}p_{1}}t2_{p_{1}p_{0}}^{h_{2}h_{3}}v_{h_{6}h_{7}}^{p_{4}p_{5}}t2_{p_{4}p_{5}}^{h_{6}h_{7}}\n + -0.0625 * \\Phi_{h_{2}h_{3}}^{p_{0}p_{1}}t2_{p_{1}p_{0}}^{h_{2}h_{3}}v_{h_{6}h_{7}}^{p_{4}p_{5}}t2_{p_{5}p_{4}}^{h_{6}h_{7}}\n + -0.0625 * \\Phi_{h_{2}h_{3}}^{p_{0}p_{1}}t2_{p_{1}p_{0}}^{h_{2}h_{3}}v_{h_{7}h_{6}}^{p_{4}p_{5}}t2_{p_{4}p_{5}}^{h_{6}h_{7}}\n + 0.125 * \\Phi_{h_{2}h_{3}}^{p_{0}p_{1}}t2_{p_{1}p_{0}}^{h_{2}h_{3}}v_{h_{7}h_{6}}^{p_{4}p_{5}}t2_{p_{5}p_{4}}^{h_{6}h_{7}}\n + 0.125 * \\Phi_{h_{3}h_{2}}^{p_{0}p_{1}}t2_{p_{0}p_{1}}^{h_{2}h_{3}}v_{h_{6}h_{7}}^{p_{4}p_{5}}t2_{p_{4}p_{5}}^{h_{6}h_{7}}\n + -0.0625 * \\Phi_{h_{3}h_{2}}^{p_{0}p_{1}}t2_{p_{0}p_{1}}^{h_{2}h_{3}}v_{h_{6}h_{7}}^{p_{4}p_{5}}t2_{p_{5}p_{4}}^{h_{6}h_{7}}\n + -0.0625 * \\Phi_{h_{3}h_{2}}^{p_{0}p_{1}}t2_{p_{0}p_{1}}^{h_{2}h_{3}}v_{h_{7}h_{6}}^{p_{4}p_{5}}t2_{p_{4}p_{5}}^{h_{6}h_{7}}\n + 0.125 * \\Phi_{h_{3}h_{2}}^{p_{0}p_{1}}t2_{p_{0}p_{1}}^{h_{2}h_{3}}v_{h_{7}h_{6}}^{p_{4}p_{5}}t2_{p_{5}p_{4}}^{h_{6}h_{7}}\n + -0.25 * \\Phi_{h_{3}h_{2}}^{p_{0}p_{1}}t2_{p_{1}p_{0}}^{h_{2}h_{3}}v_{h_{6}h_{7}}^{p_{4}p_{5}}t2_{p_{4}p_{5}}^{h_{6}h_{7}}\n + 0.125 * \\Phi_{h_{3}h_{2}}^{p_{0}p_{1}}t2_{p_{1}p_{0}}^{h_{2}h_{3}}v_{h_{6}h_{7}}^{p_{4}p_{5}}t2_{p_{5}p_{4}}^{h_{6}h_{7}}\n + 0.125 * \\Phi_{h_{3}h_{2}}^{p_{0}p_{1}}t2_{p_{1}p_{0}}^{h_{2}h_{3}}v_{h_{7}h_{6}}^{p_{4}p_{5}}t2_{p_{4}p_{5}}^{h_{6}h_{7}}\n + -0.25 * \\Phi_{h_{3}h_{2}}^{p_{0}p_{1}}t2_{p_{1}p_{0}}^{h_{2}h_{3}}v_{h_{7}h_{6}}^{p_{4}p_{5}}t2_{p_{5}p_{4}}^{h_{6}h_{7}}\n"
     ]
    }
   ],
   "source": [
    "time0 = time.time()\n",
    "contractedCCDDoublesResidual = evaluateWick(CCDDoublesResidual)\n",
    "time1 = time.time()\n",
    "print(time1-time0)\n",
    "print(contractedCCDDoublesResidual)"
   ]
  },
  {
   "cell_type": "code",
   "execution_count": 141,
   "metadata": {},
   "outputs": [],
   "source": [
    "testTensor1 = Tensor('test1', ['p','p'], ['h','h'])\n",
    "testTensor2 = Tensor('test2', ['h','h'], ['p','p'])"
   ]
  },
  {
   "cell_type": "code",
   "execution_count": 142,
   "metadata": {},
   "outputs": [
    {
     "output_type": "stream",
     "name": "stdout",
     "text": [
      "1.0 * test2_{h_{0}h_{1}}^{p_{0}p_{1}}test1_{p_{2}p_{3}}^{h_{2}h_{3}}\n"
     ]
    }
   ],
   "source": [
    "testProduct = testTensor2 * testTensor1\n",
    "print(testProduct)"
   ]
  },
  {
   "cell_type": "code",
   "execution_count": 143,
   "metadata": {},
   "outputs": [
    {
     "output_type": "execute_result",
     "data": {
      "text/plain": [
       "<__main__.Tensor at 0x1211d91c0>"
      ]
     },
     "metadata": {},
     "execution_count": 143
    }
   ],
   "source": [
    "testTensor2"
   ]
  },
  {
   "cell_type": "code",
   "execution_count": 147,
   "metadata": {},
   "outputs": [
    {
     "output_type": "execute_result",
     "data": {
      "text/plain": [
       "True"
      ]
     },
     "metadata": {},
     "execution_count": 147
    }
   ],
   "source": [
    "testProduct.vertexList[0].tensor is testTensor2"
   ]
  },
  {
   "cell_type": "code",
   "execution_count": 152,
   "metadata": {},
   "outputs": [
    {
     "output_type": "execute_result",
     "data": {
      "text/plain": [
       "<__main__.Vertex at 0x1211d9190>"
      ]
     },
     "metadata": {},
     "execution_count": 152
    }
   ],
   "source": [
    "testProduct.vertexList[0]"
   ]
  },
  {
   "cell_type": "code",
   "execution_count": 189,
   "metadata": {},
   "outputs": [
    {
     "output_type": "stream",
     "name": "stdout",
     "text": [
      "False\n"
     ]
    }
   ],
   "source": [
    "print(testProduct.vertexList[0].lowerIndices[0] == ('h_{0}', True))"
   ]
  },
  {
   "cell_type": "code",
   "execution_count": 148,
   "metadata": {},
   "outputs": [],
   "source": [
    "testProductCopy = copy(testProduct)"
   ]
  },
  {
   "cell_type": "code",
   "execution_count": 154,
   "metadata": {},
   "outputs": [
    {
     "output_type": "execute_result",
     "data": {
      "text/plain": [
       "True"
      ]
     },
     "metadata": {},
     "execution_count": 154
    }
   ],
   "source": [
    "testProductCopy.vertexList[0].tensor is testTensor2"
   ]
  },
  {
   "cell_type": "code",
   "execution_count": 155,
   "metadata": {},
   "outputs": [
    {
     "output_type": "stream",
     "name": "stdout",
     "text": [
      "4.0 * test2_{h_{2}h_{3}}^{p_{0}p_{1}}test1_{p_{0}p_{1}}^{h_{2}h_{3}}\n + -2.0 * test2_{h_{2}h_{3}}^{p_{0}p_{1}}test1_{p_{1}p_{0}}^{h_{2}h_{3}}\n + -2.0 * test2_{h_{3}h_{2}}^{p_{0}p_{1}}test1_{p_{0}p_{1}}^{h_{2}h_{3}}\n + 4.0 * test2_{h_{3}h_{2}}^{p_{0}p_{1}}test1_{p_{1}p_{0}}^{h_{2}h_{3}}\n"
     ]
    }
   ],
   "source": [
    "testWick = evaluateWick(testProduct)\n",
    "print(testWick)"
   ]
  },
  {
   "cell_type": "code",
   "execution_count": 161,
   "metadata": {},
   "outputs": [],
   "source": [
    "testTensor2.getShape(vacuum)"
   ]
  },
  {
   "cell_type": "code",
   "execution_count": 163,
   "metadata": {},
   "outputs": [
    {
     "output_type": "execute_result",
     "data": {
      "text/plain": [
       "<__main__.Tensor at 0x1211d91c0>"
      ]
     },
     "metadata": {},
     "execution_count": 163
    }
   ],
   "source": [
    "testTensor2"
   ]
  },
  {
   "cell_type": "code",
   "execution_count": 167,
   "metadata": {},
   "outputs": [
    {
     "output_type": "execute_result",
     "data": {
      "text/plain": [
       "array([[[[0.]]]])"
      ]
     },
     "metadata": {},
     "execution_count": 167
    }
   ],
   "source": [
    "testWick.summandList[2].tensorList[0].array"
   ]
  },
  {
   "cell_type": "code",
   "execution_count": 168,
   "metadata": {},
   "outputs": [
    {
     "output_type": "stream",
     "name": "stdout",
     "text": [
      "1.0 * test1_{p_{0}p_{1}}^{h_{0}h_{1}}test2_{h_{2}h_{3}}^{p_{2}p_{3}}\n + -1 * test2_{h_{0}h_{1}}^{p_{0}p_{1}}test1_{p_{2}p_{3}}^{h_{2}h_{3}}\n"
     ]
    }
   ],
   "source": [
    "testCommutator = commutator(testTensor1, testTensor2)\n",
    "print(testCommutator)"
   ]
  },
  {
   "cell_type": "code",
   "execution_count": 172,
   "metadata": {},
   "outputs": [
    {
     "output_type": "execute_result",
     "data": {
      "text/plain": [
       "[<__main__.Tensor at 0x1211d91c0>, <__main__.Tensor at 0x1211d92b0>]"
      ]
     },
     "metadata": {},
     "execution_count": 172
    }
   ],
   "source": [
    "testCommutator.summandList[1].tensorList"
   ]
  },
  {
   "cell_type": "code",
   "execution_count": 120,
   "metadata": {},
   "outputs": [],
   "source": [
    "def getAxis(vertex, index):\n",
    "    for a in range(vertex.excitationRank):\n",
    "        if vertex.lowerIndices[a] == index:\n",
    "            return a\n",
    "        elif vertex.upperIndices[a] == index:\n",
    "            return vertex.excitationRank + a"
   ]
  },
  {
   "cell_type": "code",
   "execution_count": 121,
   "metadata": {},
   "outputs": [
    {
     "output_type": "stream",
     "name": "stdout",
     "text": [
      "h_{2}\n"
     ]
    }
   ],
   "source": [
    "print(testProduct.summandList[0].vertexList[0].lowerIndices[0])"
   ]
  },
  {
   "cell_type": "code",
   "execution_count": 122,
   "metadata": {},
   "outputs": [
    {
     "output_type": "execute_result",
     "data": {
      "text/plain": [
       "1"
      ]
     },
     "metadata": {},
     "execution_count": 122
    }
   ],
   "source": [
    "getAxis(testProduct.summandList[0].vertexList[1], testProduct.summandList[0].vertexList[0].upperIndices[1])"
   ]
  },
  {
   "cell_type": "code",
   "execution_count": 133,
   "metadata": {},
   "outputs": [],
   "source": [
    "testTensor1.getShape(vacuum)"
   ]
  },
  {
   "cell_type": "code",
   "execution_count": 140,
   "metadata": {},
   "outputs": [
    {
     "output_type": "execute_result",
     "data": {
      "text/plain": [
       "<__main__.Tensor at 0x10defc1f0>"
      ]
     },
     "metadata": {},
     "execution_count": 140
    }
   ],
   "source": [
    "testTensor2"
   ]
  },
  {
   "cell_type": "code",
   "execution_count": 139,
   "metadata": {},
   "outputs": [
    {
     "output_type": "execute_result",
     "data": {
      "text/plain": [
       "<__main__.Tensor at 0x11fea2bb0>"
      ]
     },
     "metadata": {},
     "execution_count": 139
    }
   ],
   "source": [
    "testProduct.summandList[0].vertexList[0].tensor"
   ]
  },
  {
   "cell_type": "code",
   "execution_count": 144,
   "metadata": {},
   "outputs": [
    {
     "output_type": "execute_result",
     "data": {
      "text/plain": [
       "0.0"
      ]
     },
     "metadata": {},
     "execution_count": 144
    }
   ],
   "source": [
    "np.einsum('ijkl,klij->', testProduct.summandList[0].vertexList[0].tensor.array, testProduct.summandList[0].vertexList[1].tensor.array)"
   ]
  },
  {
   "cell_type": "code",
   "execution_count": 145,
   "metadata": {},
   "outputs": [
    {
     "output_type": "execute_result",
     "data": {
      "text/plain": [
       "0.0"
      ]
     },
     "metadata": {},
     "execution_count": 145
    }
   ],
   "source": [
    "np.einsum('ijkl,lkij->', testProduct.summandList[1].vertexList[0].tensor.array, testProduct.summandList[1].vertexList[1].tensor.array)"
   ]
  },
  {
   "cell_type": "code",
   "execution_count": 146,
   "metadata": {},
   "outputs": [
    {
     "output_type": "execute_result",
     "data": {
      "text/plain": [
       "0.0"
      ]
     },
     "metadata": {},
     "execution_count": 146
    }
   ],
   "source": [
    "np.einsum('jikl,klij->', testProduct.summandList[2].vertexList[0].tensor.array, testProduct.summandList[2].vertexList[1].tensor.array)"
   ]
  },
  {
   "cell_type": "code",
   "execution_count": 147,
   "metadata": {},
   "outputs": [
    {
     "output_type": "execute_result",
     "data": {
      "text/plain": [
       "0.0"
      ]
     },
     "metadata": {},
     "execution_count": 147
    }
   ],
   "source": [
    "np.einsum('jikl,lkij->', testProduct.summandList[2].vertexList[0].tensor.array, testProduct.summandList[2].vertexList[1].tensor.array)"
   ]
  },
  {
   "cell_type": "code",
   "execution_count": 207,
   "metadata": {},
   "outputs": [
    {
     "output_type": "stream",
     "name": "stdout",
     "text": [
      "abcd,cdab->\n-0.022207332862524486\nabcd,dcab->\n0.011103666431262243\nabcd,cdba->\n0.011103666431262243\nabcd,dcba->\n-0.022207332862524486\n-0.022207332862524486\n"
     ]
    }
   ],
   "source": [
    "CCDCorrelationEnergy = 0.\n",
    "for summand in testProduct.summandList:\n",
    "    einsumString = 'abcd,'\n",
    "    for i, index in enumerate(summand.vertexList[1].lowerIndices + summand.vertexList[1].upperIndices):\n",
    "       einsumString += einsumString[getAxis(summand.vertexList[0], index)]\n",
    "    einsumString += '->'\n",
    "    print(einsumString)\n",
    "    contribution = summand.prefactor * np.einsum(einsumString, summand.vertexList[0].tensor.array, summand.vertexList[1].tensor.array)\n",
    "    print(contribution)\n",
    "    CCDCorrelationEnergy += contribution\n",
    "print(CCDCorrelationEnergy)"
   ]
  },
  {
   "cell_type": "code",
   "execution_count": 247,
   "metadata": {},
   "outputs": [
    {
     "output_type": "execute_result",
     "data": {
      "text/plain": [
       "array([[6.54009511e-01, 1.11022302e-16, 8.32667268e-17, 6.45249427e-01],\n",
       "       [1.17961196e-16, 1.87521981e-01, 1.87521981e-01, 1.11022302e-16],\n",
       "       [1.04083409e-16, 1.87521981e-01, 1.87521981e-01, 5.55111512e-17],\n",
       "       [6.45249427e-01, 2.22044605e-16, 1.38777878e-16, 6.78136184e-01]])"
      ]
     },
     "metadata": {},
     "execution_count": 247
    }
   ],
   "source": [
    "eri"
   ]
  },
  {
   "cell_type": "code",
   "execution_count": 248,
   "metadata": {},
   "outputs": [],
   "source": [
    "integrals2body = eri.reshape((Norbs,Norbs,Norbs,Norbs))"
   ]
  },
  {
   "cell_type": "code",
   "execution_count": 191,
   "metadata": {},
   "outputs": [
    {
     "output_type": "execute_result",
     "data": {
      "text/plain": [
       "array([[[[6.54009511e-01, 1.11022302e-16],\n",
       "         [8.32667268e-17, 6.45249427e-01]],\n",
       "\n",
       "        [[1.17961196e-16, 1.87521981e-01],\n",
       "         [1.87521981e-01, 1.11022302e-16]]],\n",
       "\n",
       "\n",
       "       [[[1.04083409e-16, 1.87521981e-01],\n",
       "         [1.87521981e-01, 5.55111512e-17]],\n",
       "\n",
       "        [[6.45249427e-01, 2.22044605e-16],\n",
       "         [1.38777878e-16, 6.78136184e-01]]]])"
      ]
     },
     "metadata": {},
     "execution_count": 191
    }
   ],
   "source": [
    "integrals2body"
   ]
  },
  {
   "cell_type": "code",
   "execution_count": 192,
   "metadata": {},
   "outputs": [
    {
     "output_type": "stream",
     "name": "stdout",
     "text": [
      "v_{hh}^{pp}\n"
     ]
    }
   ],
   "source": [
    "print(vDiagrams[8])"
   ]
  },
  {
   "cell_type": "code",
   "execution_count": 249,
   "metadata": {},
   "outputs": [],
   "source": [
    "vDiagrams[8].array = integrals2body[:Nocc, :Nocc, Nocc:, Nocc:]"
   ]
  },
  {
   "cell_type": "code",
   "execution_count": 171,
   "metadata": {},
   "outputs": [
    {
     "output_type": "execute_result",
     "data": {
      "text/plain": [
       "array([[[[0.64524943]]]])"
      ]
     },
     "metadata": {},
     "execution_count": 171
    }
   ],
   "source": [
    "integrals2body[:Nocc, :Nocc, Nocc:, Nocc:]"
   ]
  },
  {
   "cell_type": "code",
   "execution_count": 194,
   "metadata": {},
   "outputs": [
    {
     "output_type": "execute_result",
     "data": {
      "text/plain": [
       "array([[[[0.64524943]]]])"
      ]
     },
     "metadata": {},
     "execution_count": 194
    }
   ],
   "source": [
    "vDiagrams[8].array"
   ]
  },
  {
   "cell_type": "code",
   "execution_count": 251,
   "metadata": {},
   "outputs": [],
   "source": [
    "t2.getShape(vacuum)"
   ]
  },
  {
   "cell_type": "code",
   "execution_count": 252,
   "metadata": {},
   "outputs": [],
   "source": [
    "t2.array[0,0,0,0] = -0.06883332846938728"
   ]
  },
  {
   "cell_type": "code",
   "execution_count": 244,
   "metadata": {},
   "outputs": [],
   "source": [
    "for diagram in vDiagrams:\n",
    "    diagram.getShape(vacuum)"
   ]
  },
  {
   "cell_type": "code",
   "execution_count": 198,
   "metadata": {},
   "outputs": [],
   "source": [
    "testProduct = evaluateWick(0.5 * vDiagrams[8] * 0.25 * t2)"
   ]
  },
  {
   "cell_type": "code",
   "execution_count": 200,
   "metadata": {},
   "outputs": [
    {
     "output_type": "stream",
     "name": "stdout",
     "text": [
      "0.5 * v_{h_{2}h_{3}}^{p_{0}p_{1}}t2_{p_{0}p_{1}}^{h_{2}h_{3}}\n + -0.25 * v_{h_{2}h_{3}}^{p_{0}p_{1}}t2_{p_{1}p_{0}}^{h_{2}h_{3}}\n + -0.25 * v_{h_{3}h_{2}}^{p_{0}p_{1}}t2_{p_{0}p_{1}}^{h_{2}h_{3}}\n + 0.5 * v_{h_{3}h_{2}}^{p_{0}p_{1}}t2_{p_{1}p_{0}}^{h_{2}h_{3}}\n"
     ]
    }
   ],
   "source": [
    "print(testProduct)"
   ]
  },
  {
   "cell_type": "code",
   "execution_count": 202,
   "metadata": {},
   "outputs": [
    {
     "output_type": "execute_result",
     "data": {
      "text/plain": [
       "-1.1248461440542483"
      ]
     },
     "metadata": {},
     "execution_count": 202
    }
   ],
   "source": [
    "CCDCorrelationEnergy + mf.e_tot"
   ]
  },
  {
   "cell_type": "code",
   "execution_count": 187,
   "metadata": {},
   "outputs": [
    {
     "output_type": "execute_result",
     "data": {
      "text/plain": [
       "(-1.1284543355083052,\n",
       " array([[ 9.90656547e-01,  2.77555756e-17],\n",
       "        [ 1.91460513e-17, -1.36380375e-01]]))"
      ]
     },
     "metadata": {},
     "execution_count": 187
    }
   ],
   "source": [
    "cisolver.kernel()"
   ]
  },
  {
   "cell_type": "code",
   "execution_count": 209,
   "metadata": {},
   "outputs": [
    {
     "output_type": "execute_result",
     "data": {
      "text/plain": [
       "{'g': [],\n",
       " 'p': [<__main__.Index at 0x126e896a0>, <__main__.Index at 0x126e89790>],\n",
       " 'h': [<__main__.Index at 0x126e898b0>, <__main__.Index at 0x126e89940>],\n",
       " 'a': []}"
      ]
     },
     "metadata": {},
     "execution_count": 209
    }
   ],
   "source": [
    "testProduct.summandList[0].lowerIndices"
   ]
  },
  {
   "cell_type": "code",
   "execution_count": 224,
   "metadata": {},
   "outputs": [],
   "source": [
    "import string\n",
    "import itertools"
   ]
  },
  {
   "cell_type": "code",
   "execution_count": 225,
   "metadata": {},
   "outputs": [],
   "source": [
    "indexLetters = string.ascii_lowercase"
   ]
  },
  {
   "cell_type": "code",
   "execution_count": 234,
   "metadata": {},
   "outputs": [
    {
     "output_type": "stream",
     "name": "stdout",
     "text": [
      "p_{0}\np_{1}\nh_{2}\nh_{3}\nh_{2}\nh_{3}\np_{0}\np_{1}\ncdab\nabcd\nabcd,cdab->\n-0.022207332862524486\np_{0}\np_{1}\nh_{2}\nh_{3}\nh_{2}\nh_{3}\np_{1}\np_{0}\ncdba\nabcd\nabcd,cdba->\n0.011103666431262243\np_{0}\np_{1}\nh_{2}\nh_{3}\nh_{3}\nh_{2}\np_{0}\np_{1}\ndcab\nabcd\nabdc,cdab->\n0.011103666431262243\np_{0}\np_{1}\nh_{2}\nh_{3}\nh_{3}\nh_{2}\np_{1}\np_{0}\ndcba\nabcd\nabdc,cdba->\n-0.022207332862524486\n-0.022207332862524486\n"
     ]
    }
   ],
   "source": [
    "CCDCorrelationEnergy = 0.\n",
    "for summand in testProduct.summandList:\n",
    "    lowerIndexList = list(itertools.chain.from_iterable([vertex.lowerIndices for vertex in summand.vertexList]))\n",
    "    upperIndexList = list(itertools.chain.from_iterable([vertex.upperIndices for vertex in summand.vertexList]))\n",
    "    for index in upperIndexList:\n",
    "        print(index)\n",
    "    for index in lowerIndexList:\n",
    "        print(index)\n",
    "    lowerIndexLetters = indexLetters[:sum([vertex.excitationRank for vertex in summand.vertexList])]\n",
    "    upperIndexLetters = ''\n",
    "    for lowerIndex in lowerIndexList:\n",
    "        for uI, upperIndex in enumerate(upperIndexList):\n",
    "            if upperIndex == lowerIndex:\n",
    "                upperIndexLetters += lowerIndexLetters[uI]\n",
    "    print(upperIndexLetters)\n",
    "    print(lowerIndexLetters)\n",
    "    einsumSubstrings = []\n",
    "    start = 0\n",
    "    for vertex in summand.vertexList:\n",
    "        end = start + vertex.excitationRank\n",
    "        einsumSubstring = lowerIndexLetters[start:end] + upperIndexLetters[start:end]\n",
    "        einsumSubstrings.append(einsumSubstring)\n",
    "        start = end\n",
    "    einsumString = ''\n",
    "    for sub in range(len(einsumSubstrings) - 1):\n",
    "        einsumString += einsumSubstrings[sub] + ','\n",
    "    einsumString += einsumSubstrings[-1] + '->'\n",
    "    print(einsumString)\n",
    "    contribution = summand.prefactor * np.einsum(einsumString, *[vertex.tensor.array for vertex in summand.vertexList])\n",
    "    print(contribution)\n",
    "    CCDCorrelationEnergy += contribution\n",
    "print(CCDCorrelationEnergy)"
   ]
  },
  {
   "cell_type": "code",
   "execution_count": 232,
   "metadata": {},
   "outputs": [],
   "source": [
    "testRes = testCCDDoublesResidual.summandList[0]"
   ]
  },
  {
   "cell_type": "code",
   "execution_count": 240,
   "metadata": {},
   "outputs": [
    {
     "output_type": "stream",
     "name": "stdout",
     "text": [
      "-0.5 * f_{p_{0}}^{p_{3}}t2_{p_{1}p_{3}}^{h_{2}h_{3}}\n"
     ]
    }
   ],
   "source": [
    "print(testRes)"
   ]
  },
  {
   "cell_type": "code",
   "execution_count": 226,
   "metadata": {},
   "outputs": [],
   "source": [
    "def getContractedArray(operatorProduct_):\n",
    "    lowerIndexList = list(itertools.chain.from_iterable([vertex.lowerIndices for vertex in operatorProduct_.vertexList]))\n",
    "    upperIndexList = list(itertools.chain.from_iterable([vertex.upperIndices for vertex in operatorProduct_.vertexList]))\n",
    "#    for index in lowerIndexList:\n",
    "#        print(index)\n",
    "#    for index in upperIndexList:\n",
    "#        print(index)\n",
    "    lowerIndexLetters = string.ascii_lowercase[:len(lowerIndexList)]\n",
    "    upperIndexLetters = ''\n",
    "    freeLowerIndexMask = np.ones(len(lowerIndexList))\n",
    "    freeUpperIndexMask = np.ones(len(upperIndexList))\n",
    "    nFreeUpperIndices = 0\n",
    "    for uI, upperIndex in enumerate(upperIndexList):\n",
    "        free = True\n",
    "        for lI, lowerIndex in enumerate(lowerIndexList):\n",
    "            if upperIndex == lowerIndex:\n",
    "                upperIndexLetters += lowerIndexLetters[lI]\n",
    "                freeLowerIndexMask[lI] = 0\n",
    "                freeUpperIndexMask[uI] = 0\n",
    "                free = False\n",
    "        if free:\n",
    "            upperIndexLetters += string.ascii_lowercase[len(lowerIndexList) + nFreeUpperIndices]\n",
    "            nFreeUpperIndices += 1\n",
    "#    print(lowerIndexLetters)\n",
    "#    print(upperIndexLetters)\n",
    "    freeLowerIndexLetters = \"\".join([lowerIndex for lI, lowerIndex in enumerate(lowerIndexLetters) if freeLowerIndexMask[lI]])\n",
    "    freeUpperIndexLetters = \"\".join([upperIndex for uI, upperIndex in enumerate(upperIndexLetters) if freeUpperIndexMask[uI]])\n",
    "#    print(freeLowerIndexLetters)\n",
    "#    print(freeUpperIndexLetters)\n",
    "    einsumSubstrings = []\n",
    "    start = 0\n",
    "    for vertex in operatorProduct_.vertexList:\n",
    "        end = start + vertex.excitationRank\n",
    "        einsumSubstring = lowerIndexLetters[start:end] + upperIndexLetters[start:end]\n",
    "        einsumSubstrings.append(einsumSubstring)\n",
    "        start = end\n",
    "    einsumString = \",\".join(einsumSubstrings)\n",
    "    einsumString += '->' + freeLowerIndexLetters + freeUpperIndexLetters\n",
    "#    print(einsumString)\n",
    "    print([vertex.tensor.array.shape for vertex in operatorProduct_.vertexList])\n",
    "    contribution = operatorProduct_.prefactor * np.einsum(einsumString, *[vertex.tensor.array for vertex in operatorProduct_.vertexList])\n",
    "#    print(contribution)\n",
    "    return contribution"
   ]
  },
  {
   "cell_type": "code",
   "execution_count": 308,
   "metadata": {},
   "outputs": [],
   "source": [
    "for s, summand in enumerate(testCCDDoublesResidual.summandList):\n",
    "    if (getContractedArray(summand).shape != getContractedArray(testCCDDoublesResidual.summandList[0]).shape):\n",
    "        print(s)"
   ]
  },
  {
   "cell_type": "code",
   "execution_count": 321,
   "metadata": {},
   "outputs": [
    {
     "output_type": "stream",
     "name": "stdout",
     "text": [
      "1.0 * \\Phi_{h_{2}h_{3}}^{p_{0}p_{1}}f_{p_{0}}^{p_{3}}t2_{p_{3}p_{1}}^{h_{2}h_{3}}\n"
     ]
    }
   ],
   "source": [
    "print(CCDDoublesResidual.summandList[1])"
   ]
  },
  {
   "cell_type": "code",
   "execution_count": 255,
   "metadata": {},
   "outputs": [
    {
     "output_type": "stream",
     "name": "stdout",
     "text": [
      "2.0 * f_{h_{1}}^{h_{1}}\n[(1, 1)]\n0.0\n-1.0 * v_{h_{2}h_{3}}^{h_{2}h_{3}}\n[(1, 1, 1, 1)]\n-0.0\n2.0 * v_{h_{3}h_{2}}^{h_{2}h_{3}}\n[(1, 1, 1, 1)]\n0.0\n0.5 * v_{h_{0}h_{1}}^{p_{0}p_{1}}t2_{p_{0}p_{1}}^{h_{0}h_{1}}\n[(1, 1, 1, 1), (1, 1, 1, 1)]\n-0.022207332862524486\n-0.25 * v_{h_{0}h_{1}}^{p_{0}p_{1}}t2_{p_{1}p_{0}}^{h_{0}h_{1}}\n[(1, 1, 1, 1), (1, 1, 1, 1)]\n0.011103666431262243\n-0.25 * v_{h_{0}h_{1}}^{p_{0}p_{1}}t2_{p_{0}p_{1}}^{h_{1}h_{0}}\n[(1, 1, 1, 1), (1, 1, 1, 1)]\n0.011103666431262243\n0.5 * v_{h_{0}h_{1}}^{p_{0}p_{1}}t2_{p_{1}p_{0}}^{h_{1}h_{0}}\n[(1, 1, 1, 1), (1, 1, 1, 1)]\n-0.022207332862524486\n"
     ]
    }
   ],
   "source": [
    "for t in CCDEnergy.summandList:\n",
    "    print(t)\n",
    "    print(getContractedArray(t))"
   ]
  },
  {
   "cell_type": "code",
   "execution_count": 231,
   "metadata": {},
   "outputs": [
    {
     "output_type": "error",
     "ename": "AttributeError",
     "evalue": "'Tensor' object has no attribute 'array'",
     "traceback": [
      "\u001b[0;31m---------------------------------------------------------------------------\u001b[0m",
      "\u001b[0;31mAttributeError\u001b[0m                            Traceback (most recent call last)",
      "\u001b[0;32m<ipython-input-231-f6709cdc18ca>\u001b[0m in \u001b[0;36m<module>\u001b[0;34m\u001b[0m\n\u001b[0;32m----> 1\u001b[0;31m \u001b[0mprint\u001b[0m\u001b[0;34m(\u001b[0m\u001b[0mgetContractedArray\u001b[0m\u001b[0;34m(\u001b[0m\u001b[0mtestCCDDoublesResidual\u001b[0m\u001b[0;34m.\u001b[0m\u001b[0msummandList\u001b[0m\u001b[0;34m[\u001b[0m\u001b[0;36m0\u001b[0m\u001b[0;34m]\u001b[0m\u001b[0;34m)\u001b[0m\u001b[0;34m)\u001b[0m\u001b[0;34m\u001b[0m\u001b[0;34m\u001b[0m\u001b[0m\n\u001b[0m",
      "\u001b[0;32m<ipython-input-226-36bc7a4832ba>\u001b[0m in \u001b[0;36mgetContractedArray\u001b[0;34m(operatorProduct_)\u001b[0m\n\u001b[1;32m     38\u001b[0m     \u001b[0meinsumString\u001b[0m \u001b[0;34m+=\u001b[0m \u001b[0;34m'->'\u001b[0m \u001b[0;34m+\u001b[0m \u001b[0mfreeLowerIndexLetters\u001b[0m \u001b[0;34m+\u001b[0m \u001b[0mfreeUpperIndexLetters\u001b[0m\u001b[0;34m\u001b[0m\u001b[0;34m\u001b[0m\u001b[0m\n\u001b[1;32m     39\u001b[0m \u001b[0;31m#    print(einsumString)\u001b[0m\u001b[0;34m\u001b[0m\u001b[0;34m\u001b[0m\u001b[0;34m\u001b[0m\u001b[0m\n\u001b[0;32m---> 40\u001b[0;31m     \u001b[0mprint\u001b[0m\u001b[0;34m(\u001b[0m\u001b[0;34m[\u001b[0m\u001b[0mvertex\u001b[0m\u001b[0;34m.\u001b[0m\u001b[0mtensor\u001b[0m\u001b[0;34m.\u001b[0m\u001b[0marray\u001b[0m\u001b[0;34m.\u001b[0m\u001b[0mshape\u001b[0m \u001b[0;32mfor\u001b[0m \u001b[0mvertex\u001b[0m \u001b[0;32min\u001b[0m \u001b[0moperatorProduct_\u001b[0m\u001b[0;34m.\u001b[0m\u001b[0mvertexList\u001b[0m\u001b[0;34m]\u001b[0m\u001b[0;34m)\u001b[0m\u001b[0;34m\u001b[0m\u001b[0;34m\u001b[0m\u001b[0m\n\u001b[0m\u001b[1;32m     41\u001b[0m     \u001b[0mcontribution\u001b[0m \u001b[0;34m=\u001b[0m \u001b[0moperatorProduct_\u001b[0m\u001b[0;34m.\u001b[0m\u001b[0mprefactor\u001b[0m \u001b[0;34m*\u001b[0m \u001b[0mnp\u001b[0m\u001b[0;34m.\u001b[0m\u001b[0meinsum\u001b[0m\u001b[0;34m(\u001b[0m\u001b[0meinsumString\u001b[0m\u001b[0;34m,\u001b[0m \u001b[0;34m*\u001b[0m\u001b[0;34m[\u001b[0m\u001b[0mvertex\u001b[0m\u001b[0;34m.\u001b[0m\u001b[0mtensor\u001b[0m\u001b[0;34m.\u001b[0m\u001b[0marray\u001b[0m \u001b[0;32mfor\u001b[0m \u001b[0mvertex\u001b[0m \u001b[0;32min\u001b[0m \u001b[0moperatorProduct_\u001b[0m\u001b[0;34m.\u001b[0m\u001b[0mvertexList\u001b[0m\u001b[0;34m]\u001b[0m\u001b[0;34m)\u001b[0m\u001b[0;34m\u001b[0m\u001b[0;34m\u001b[0m\u001b[0m\n\u001b[1;32m     42\u001b[0m \u001b[0;31m#    print(contribution)\u001b[0m\u001b[0;34m\u001b[0m\u001b[0;34m\u001b[0m\u001b[0;34m\u001b[0m\u001b[0m\n",
      "\u001b[0;32m<ipython-input-226-36bc7a4832ba>\u001b[0m in \u001b[0;36m<listcomp>\u001b[0;34m(.0)\u001b[0m\n\u001b[1;32m     38\u001b[0m     \u001b[0meinsumString\u001b[0m \u001b[0;34m+=\u001b[0m \u001b[0;34m'->'\u001b[0m \u001b[0;34m+\u001b[0m \u001b[0mfreeLowerIndexLetters\u001b[0m \u001b[0;34m+\u001b[0m \u001b[0mfreeUpperIndexLetters\u001b[0m\u001b[0;34m\u001b[0m\u001b[0;34m\u001b[0m\u001b[0m\n\u001b[1;32m     39\u001b[0m \u001b[0;31m#    print(einsumString)\u001b[0m\u001b[0;34m\u001b[0m\u001b[0;34m\u001b[0m\u001b[0;34m\u001b[0m\u001b[0m\n\u001b[0;32m---> 40\u001b[0;31m     \u001b[0mprint\u001b[0m\u001b[0;34m(\u001b[0m\u001b[0;34m[\u001b[0m\u001b[0mvertex\u001b[0m\u001b[0;34m.\u001b[0m\u001b[0mtensor\u001b[0m\u001b[0;34m.\u001b[0m\u001b[0marray\u001b[0m\u001b[0;34m.\u001b[0m\u001b[0mshape\u001b[0m \u001b[0;32mfor\u001b[0m \u001b[0mvertex\u001b[0m \u001b[0;32min\u001b[0m \u001b[0moperatorProduct_\u001b[0m\u001b[0;34m.\u001b[0m\u001b[0mvertexList\u001b[0m\u001b[0;34m]\u001b[0m\u001b[0;34m)\u001b[0m\u001b[0;34m\u001b[0m\u001b[0;34m\u001b[0m\u001b[0m\n\u001b[0m\u001b[1;32m     41\u001b[0m     \u001b[0mcontribution\u001b[0m \u001b[0;34m=\u001b[0m \u001b[0moperatorProduct_\u001b[0m\u001b[0;34m.\u001b[0m\u001b[0mprefactor\u001b[0m \u001b[0;34m*\u001b[0m \u001b[0mnp\u001b[0m\u001b[0;34m.\u001b[0m\u001b[0meinsum\u001b[0m\u001b[0;34m(\u001b[0m\u001b[0meinsumString\u001b[0m\u001b[0;34m,\u001b[0m \u001b[0;34m*\u001b[0m\u001b[0;34m[\u001b[0m\u001b[0mvertex\u001b[0m\u001b[0;34m.\u001b[0m\u001b[0mtensor\u001b[0m\u001b[0;34m.\u001b[0m\u001b[0marray\u001b[0m \u001b[0;32mfor\u001b[0m \u001b[0mvertex\u001b[0m \u001b[0;32min\u001b[0m \u001b[0moperatorProduct_\u001b[0m\u001b[0;34m.\u001b[0m\u001b[0mvertexList\u001b[0m\u001b[0;34m]\u001b[0m\u001b[0;34m)\u001b[0m\u001b[0;34m\u001b[0m\u001b[0;34m\u001b[0m\u001b[0m\n\u001b[1;32m     42\u001b[0m \u001b[0;31m#    print(contribution)\u001b[0m\u001b[0;34m\u001b[0m\u001b[0;34m\u001b[0m\u001b[0;34m\u001b[0m\u001b[0m\n",
      "\u001b[0;31mAttributeError\u001b[0m: 'Tensor' object has no attribute 'array'"
     ]
    }
   ],
   "source": [
    "print(getContractedArray(testCCDDoublesResidual.summandList[0]))"
   ]
  },
  {
   "cell_type": "code",
   "execution_count": 329,
   "metadata": {},
   "outputs": [
    {
     "output_type": "stream",
     "name": "stdout",
     "text": [
      "[[[[0. 0.]\n   [0. 0.]]]]\n"
     ]
    }
   ],
   "source": [
    "print(testCCDDoublesResidual.summandList[0].vertexList[1].tensor.array)"
   ]
  },
  {
   "cell_type": "code",
   "execution_count": 219,
   "metadata": {},
   "outputs": [],
   "source": [
    "t2.getShape(vacuum)\n",
    "t2.setArray(np.array([[[[-0.06883333]]]]))"
   ]
  },
  {
   "cell_type": "code",
   "execution_count": 307,
   "metadata": {},
   "outputs": [
    {
     "output_type": "execute_result",
     "data": {
      "text/plain": [
       "<__main__.TensorProduct at 0x11af598e0>"
      ]
     },
     "metadata": {},
     "execution_count": 307
    }
   ],
   "source": [
    "testCCDDoublesResidual.summandList.pop(3)"
   ]
  },
  {
   "cell_type": "code",
   "execution_count": 221,
   "metadata": {},
   "outputs": [
    {
     "output_type": "error",
     "ename": "NameError",
     "evalue": "name 'getContractedArray' is not defined",
     "traceback": [
      "\u001b[0;31m---------------------------------------------------------------------------\u001b[0m",
      "\u001b[0;31mNameError\u001b[0m                                 Traceback (most recent call last)",
      "\u001b[0;32m<ipython-input-221-7fa6c55ff924>\u001b[0m in \u001b[0;36m<module>\u001b[0;34m\u001b[0m\n\u001b[0;32m----> 1\u001b[0;31m \u001b[0mdoublesResidualArray\u001b[0m \u001b[0;34m=\u001b[0m \u001b[0msum\u001b[0m\u001b[0;34m(\u001b[0m\u001b[0;34m[\u001b[0m\u001b[0mgetContractedArray\u001b[0m\u001b[0;34m(\u001b[0m\u001b[0ms\u001b[0m\u001b[0;34m)\u001b[0m \u001b[0;32mfor\u001b[0m \u001b[0ms\u001b[0m \u001b[0;32min\u001b[0m \u001b[0mtestCCDDoublesResidual\u001b[0m\u001b[0;34m.\u001b[0m\u001b[0msummandList\u001b[0m\u001b[0;34m]\u001b[0m\u001b[0;34m)\u001b[0m\u001b[0;34m\u001b[0m\u001b[0;34m\u001b[0m\u001b[0m\n\u001b[0m",
      "\u001b[0;32m<ipython-input-221-7fa6c55ff924>\u001b[0m in \u001b[0;36m<listcomp>\u001b[0;34m(.0)\u001b[0m\n\u001b[0;32m----> 1\u001b[0;31m \u001b[0mdoublesResidualArray\u001b[0m \u001b[0;34m=\u001b[0m \u001b[0msum\u001b[0m\u001b[0;34m(\u001b[0m\u001b[0;34m[\u001b[0m\u001b[0mgetContractedArray\u001b[0m\u001b[0;34m(\u001b[0m\u001b[0ms\u001b[0m\u001b[0;34m)\u001b[0m \u001b[0;32mfor\u001b[0m \u001b[0ms\u001b[0m \u001b[0;32min\u001b[0m \u001b[0mtestCCDDoublesResidual\u001b[0m\u001b[0;34m.\u001b[0m\u001b[0msummandList\u001b[0m\u001b[0;34m]\u001b[0m\u001b[0;34m)\u001b[0m\u001b[0;34m\u001b[0m\u001b[0;34m\u001b[0m\u001b[0m\n\u001b[0m",
      "\u001b[0;31mNameError\u001b[0m: name 'getContractedArray' is not defined"
     ]
    }
   ],
   "source": [
    "doublesResidualArray = sum([getContractedArray(s) for s in testCCDDoublesResidual.summandList])"
   ]
  },
  {
   "cell_type": "code",
   "execution_count": 310,
   "metadata": {},
   "outputs": [
    {
     "output_type": "execute_result",
     "data": {
      "text/plain": [
       "array([[[[0., 0.],\n",
       "         [0., 0.]]]])"
      ]
     },
     "metadata": {},
     "execution_count": 310
    }
   ],
   "source": [
    "doublesResidualArray"
   ]
  },
  {
   "cell_type": "code",
   "execution_count": 311,
   "metadata": {},
   "outputs": [
    {
     "output_type": "stream",
     "name": "stdout",
     "text": [
      "Array is of wrong shape\n"
     ]
    }
   ],
   "source": [
    "doublesResidualTensor = Tensor('R', ['p', 'p'], ['h', 'h'], array=doublesResidualArray)"
   ]
  },
  {
   "cell_type": "code",
   "execution_count": 220,
   "metadata": {},
   "outputs": [
    {
     "output_type": "execute_result",
     "data": {
      "text/plain": [
       "array([[[[-0.06883333]]]])"
      ]
     },
     "metadata": {},
     "execution_count": 220
    }
   ],
   "source": [
    "t2.array"
   ]
  },
  {
   "cell_type": "code",
   "execution_count": 319,
   "metadata": {},
   "outputs": [
    {
     "output_type": "stream",
     "name": "stdout",
     "text": [
      "4.0 * \\Phi_{h_{2}h_{3}}^{p_{0}p_{1}}t2_{p_{0}p_{1}}^{h_{2}h_{3}}\n + -2.0 * \\Phi_{h_{2}h_{3}}^{p_{0}p_{1}}t2_{p_{1}p_{0}}^{h_{2}h_{3}}\n + -2.0 * \\Phi_{h_{3}h_{2}}^{p_{0}p_{1}}t2_{p_{0}p_{1}}^{h_{2}h_{3}}\n + 4.0 * \\Phi_{h_{3}h_{2}}^{p_{0}p_{1}}t2_{p_{1}p_{0}}^{h_{2}h_{3}}\n"
     ]
    }
   ],
   "source": [
    "print(evaluateWick(projectionDoubles * t2))"
   ]
  },
  {
   "cell_type": "code",
   "execution_count": 331,
   "metadata": {},
   "outputs": [
    {
     "output_type": "execute_result",
     "data": {
      "text/plain": [
       "<__main__.Tensor at 0x1192fe880>"
      ]
     },
     "metadata": {},
     "execution_count": 331
    }
   ],
   "source": [
    "testCCDDoublesResidual.summandList[0].vertexList[0].tensor"
   ]
  },
  {
   "cell_type": "code",
   "execution_count": 332,
   "metadata": {},
   "outputs": [
    {
     "output_type": "stream",
     "name": "stdout",
     "text": [
      "-0.5 * f_{p_{0}}^{p_{3}}t2_{p_{1}p_{3}}^{h_{2}h_{3}}\n"
     ]
    }
   ],
   "source": [
    "print(testCCDDoublesResidual.summandList[0])"
   ]
  },
  {
   "cell_type": "code",
   "execution_count": 387,
   "metadata": {},
   "outputs": [
    {
     "output_type": "stream",
     "name": "stdout",
     "text": [
      "2.0 * f_{h_{1}}^{h_{1}}\n + -1.0 * v_{h_{2}h_{3}}^{h_{2}h_{3}}\n + 2.0 * v_{h_{3}h_{2}}^{h_{2}h_{3}}\n + 0.5 * v_{h_{2}h_{3}}^{p_{0}p_{1}}t2_{p_{0}p_{1}}^{h_{2}h_{3}}\n + -0.25 * v_{h_{2}h_{3}}^{p_{0}p_{1}}t2_{p_{1}p_{0}}^{h_{2}h_{3}}\n + -0.25 * v_{h_{3}h_{2}}^{p_{0}p_{1}}t2_{p_{0}p_{1}}^{h_{2}h_{3}}\n + 0.5 * v_{h_{3}h_{2}}^{p_{0}p_{1}}t2_{p_{1}p_{0}}^{h_{2}h_{3}}\n"
     ]
    }
   ],
   "source": [
    "print(CCDEnergy)"
   ]
  },
  {
   "cell_type": "code",
   "execution_count": 395,
   "metadata": {},
   "outputs": [],
   "source": [
    "CCDEnergy.summandList[3].vertexList[1].tensor = t2"
   ]
  },
  {
   "cell_type": "code",
   "execution_count": 358,
   "metadata": {},
   "outputs": [
    {
     "output_type": "stream",
     "name": "stdout",
     "text": [
      "f_{h}^{h}\n"
     ]
    }
   ],
   "source": [
    "print(fDiagrams[3])"
   ]
  },
  {
   "cell_type": "code",
   "execution_count": 357,
   "metadata": {},
   "outputs": [
    {
     "output_type": "execute_result",
     "data": {
      "text/plain": [
       "array([[-1.18985062e+00,  2.60021255e-17],\n",
       "       [-4.71423569e-17, -5.33749102e-01]])"
      ]
     },
     "metadata": {},
     "execution_count": 357
    }
   ],
   "source": [
    "h1"
   ]
  },
  {
   "cell_type": "code",
   "execution_count": 359,
   "metadata": {},
   "outputs": [
    {
     "output_type": "execute_result",
     "data": {
      "text/plain": [
       "array([[-1.18985062]])"
      ]
     },
     "metadata": {},
     "execution_count": 359
    }
   ],
   "source": [
    "h1[:1,:1]"
   ]
  },
  {
   "cell_type": "code",
   "execution_count": 377,
   "metadata": {},
   "outputs": [
    {
     "output_type": "stream",
     "name": "stdout",
     "text": [
      "[[[[0.64524943]]]]\n"
     ]
    }
   ],
   "source": [
    "print(vDiagrams[8].array)"
   ]
  },
  {
   "cell_type": "code",
   "execution_count": 375,
   "metadata": {},
   "outputs": [],
   "source": [
    "vDiagrams[1].array = integrals2body[:1,:1,:1,:1]"
   ]
  },
  {
   "cell_type": "code",
   "execution_count": 364,
   "metadata": {},
   "outputs": [],
   "source": [
    "fDiagrams[3] = Tensor('f', ['h'], ['h'], h1[:1,:1])"
   ]
  },
  {
   "cell_type": "code",
   "execution_count": 366,
   "metadata": {},
   "outputs": [
    {
     "output_type": "stream",
     "name": "stdout",
     "text": [
      "[[-1.18985062]]\n"
     ]
    }
   ],
   "source": [
    "print(CCDEnergy.summandList[0].vertexList[0].tensor.array)"
   ]
  },
  {
   "cell_type": "code",
   "execution_count": 234,
   "metadata": {},
   "outputs": [
    {
     "output_type": "execute_result",
     "data": {
      "text/plain": [
       "[<__main__.Tensor at 0x1210af460>]"
      ]
     },
     "metadata": {},
     "execution_count": 234
    }
   ],
   "source": [
    "CCDEnergy.summandList[0].tensorList"
   ]
  },
  {
   "cell_type": "code",
   "execution_count": 235,
   "metadata": {},
   "outputs": [
    {
     "output_type": "execute_result",
     "data": {
      "text/plain": [
       "[<__main__.Tensor at 0x1218167c0>,\n",
       " <__main__.Tensor at 0x1217f3190>,\n",
       " <__main__.Tensor at 0x12178b7c0>,\n",
       " <__main__.Tensor at 0x1218a7190>]"
      ]
     },
     "metadata": {},
     "execution_count": 235
    }
   ],
   "source": [
    "fDiagrams"
   ]
  },
  {
   "cell_type": "code",
   "execution_count": 232,
   "metadata": {},
   "outputs": [
    {
     "output_type": "error",
     "ename": "AttributeError",
     "evalue": "'Tensor' object has no attribute 'array'",
     "traceback": [
      "\u001b[0;31m---------------------------------------------------------------------------\u001b[0m",
      "\u001b[0;31mAttributeError\u001b[0m                            Traceback (most recent call last)",
      "\u001b[0;32m<ipython-input-232-206e0bad582d>\u001b[0m in \u001b[0;36m<module>\u001b[0;34m\u001b[0m\n\u001b[0;32m----> 1\u001b[0;31m \u001b[0mprint\u001b[0m\u001b[0;34m(\u001b[0m\u001b[0msum\u001b[0m\u001b[0;34m(\u001b[0m\u001b[0;34m[\u001b[0m\u001b[0mgetContractedArray\u001b[0m\u001b[0;34m(\u001b[0m\u001b[0ms\u001b[0m\u001b[0;34m)\u001b[0m \u001b[0;32mfor\u001b[0m \u001b[0ms\u001b[0m \u001b[0;32min\u001b[0m \u001b[0mCCDEnergy\u001b[0m\u001b[0;34m.\u001b[0m\u001b[0msummandList\u001b[0m\u001b[0;34m]\u001b[0m\u001b[0;34m)\u001b[0m\u001b[0;34m)\u001b[0m\u001b[0;34m\u001b[0m\u001b[0;34m\u001b[0m\u001b[0m\n\u001b[0m",
      "\u001b[0;32m<ipython-input-232-206e0bad582d>\u001b[0m in \u001b[0;36m<listcomp>\u001b[0;34m(.0)\u001b[0m\n\u001b[0;32m----> 1\u001b[0;31m \u001b[0mprint\u001b[0m\u001b[0;34m(\u001b[0m\u001b[0msum\u001b[0m\u001b[0;34m(\u001b[0m\u001b[0;34m[\u001b[0m\u001b[0mgetContractedArray\u001b[0m\u001b[0;34m(\u001b[0m\u001b[0ms\u001b[0m\u001b[0;34m)\u001b[0m \u001b[0;32mfor\u001b[0m \u001b[0ms\u001b[0m \u001b[0;32min\u001b[0m \u001b[0mCCDEnergy\u001b[0m\u001b[0;34m.\u001b[0m\u001b[0msummandList\u001b[0m\u001b[0;34m]\u001b[0m\u001b[0;34m)\u001b[0m\u001b[0;34m)\u001b[0m\u001b[0;34m\u001b[0m\u001b[0;34m\u001b[0m\u001b[0m\n\u001b[0m",
      "\u001b[0;32m<ipython-input-226-36bc7a4832ba>\u001b[0m in \u001b[0;36mgetContractedArray\u001b[0;34m(operatorProduct_)\u001b[0m\n\u001b[1;32m     38\u001b[0m     \u001b[0meinsumString\u001b[0m \u001b[0;34m+=\u001b[0m \u001b[0;34m'->'\u001b[0m \u001b[0;34m+\u001b[0m \u001b[0mfreeLowerIndexLetters\u001b[0m \u001b[0;34m+\u001b[0m \u001b[0mfreeUpperIndexLetters\u001b[0m\u001b[0;34m\u001b[0m\u001b[0;34m\u001b[0m\u001b[0m\n\u001b[1;32m     39\u001b[0m \u001b[0;31m#    print(einsumString)\u001b[0m\u001b[0;34m\u001b[0m\u001b[0;34m\u001b[0m\u001b[0;34m\u001b[0m\u001b[0m\n\u001b[0;32m---> 40\u001b[0;31m     \u001b[0mprint\u001b[0m\u001b[0;34m(\u001b[0m\u001b[0;34m[\u001b[0m\u001b[0mvertex\u001b[0m\u001b[0;34m.\u001b[0m\u001b[0mtensor\u001b[0m\u001b[0;34m.\u001b[0m\u001b[0marray\u001b[0m\u001b[0;34m.\u001b[0m\u001b[0mshape\u001b[0m \u001b[0;32mfor\u001b[0m \u001b[0mvertex\u001b[0m \u001b[0;32min\u001b[0m \u001b[0moperatorProduct_\u001b[0m\u001b[0;34m.\u001b[0m\u001b[0mvertexList\u001b[0m\u001b[0;34m]\u001b[0m\u001b[0;34m)\u001b[0m\u001b[0;34m\u001b[0m\u001b[0;34m\u001b[0m\u001b[0m\n\u001b[0m\u001b[1;32m     41\u001b[0m     \u001b[0mcontribution\u001b[0m \u001b[0;34m=\u001b[0m \u001b[0moperatorProduct_\u001b[0m\u001b[0;34m.\u001b[0m\u001b[0mprefactor\u001b[0m \u001b[0;34m*\u001b[0m \u001b[0mnp\u001b[0m\u001b[0;34m.\u001b[0m\u001b[0meinsum\u001b[0m\u001b[0;34m(\u001b[0m\u001b[0meinsumString\u001b[0m\u001b[0;34m,\u001b[0m \u001b[0;34m*\u001b[0m\u001b[0;34m[\u001b[0m\u001b[0mvertex\u001b[0m\u001b[0;34m.\u001b[0m\u001b[0mtensor\u001b[0m\u001b[0;34m.\u001b[0m\u001b[0marray\u001b[0m \u001b[0;32mfor\u001b[0m \u001b[0mvertex\u001b[0m \u001b[0;32min\u001b[0m \u001b[0moperatorProduct_\u001b[0m\u001b[0;34m.\u001b[0m\u001b[0mvertexList\u001b[0m\u001b[0;34m]\u001b[0m\u001b[0;34m)\u001b[0m\u001b[0;34m\u001b[0m\u001b[0;34m\u001b[0m\u001b[0m\n\u001b[1;32m     42\u001b[0m \u001b[0;31m#    print(contribution)\u001b[0m\u001b[0;34m\u001b[0m\u001b[0;34m\u001b[0m\u001b[0;34m\u001b[0m\u001b[0m\n",
      "\u001b[0;32m<ipython-input-226-36bc7a4832ba>\u001b[0m in \u001b[0;36m<listcomp>\u001b[0;34m(.0)\u001b[0m\n\u001b[1;32m     38\u001b[0m     \u001b[0meinsumString\u001b[0m \u001b[0;34m+=\u001b[0m \u001b[0;34m'->'\u001b[0m \u001b[0;34m+\u001b[0m \u001b[0mfreeLowerIndexLetters\u001b[0m \u001b[0;34m+\u001b[0m \u001b[0mfreeUpperIndexLetters\u001b[0m\u001b[0;34m\u001b[0m\u001b[0;34m\u001b[0m\u001b[0m\n\u001b[1;32m     39\u001b[0m \u001b[0;31m#    print(einsumString)\u001b[0m\u001b[0;34m\u001b[0m\u001b[0;34m\u001b[0m\u001b[0;34m\u001b[0m\u001b[0m\n\u001b[0;32m---> 40\u001b[0;31m     \u001b[0mprint\u001b[0m\u001b[0;34m(\u001b[0m\u001b[0;34m[\u001b[0m\u001b[0mvertex\u001b[0m\u001b[0;34m.\u001b[0m\u001b[0mtensor\u001b[0m\u001b[0;34m.\u001b[0m\u001b[0marray\u001b[0m\u001b[0;34m.\u001b[0m\u001b[0mshape\u001b[0m \u001b[0;32mfor\u001b[0m \u001b[0mvertex\u001b[0m \u001b[0;32min\u001b[0m \u001b[0moperatorProduct_\u001b[0m\u001b[0;34m.\u001b[0m\u001b[0mvertexList\u001b[0m\u001b[0;34m]\u001b[0m\u001b[0;34m)\u001b[0m\u001b[0;34m\u001b[0m\u001b[0;34m\u001b[0m\u001b[0m\n\u001b[0m\u001b[1;32m     41\u001b[0m     \u001b[0mcontribution\u001b[0m \u001b[0;34m=\u001b[0m \u001b[0moperatorProduct_\u001b[0m\u001b[0;34m.\u001b[0m\u001b[0mprefactor\u001b[0m \u001b[0;34m*\u001b[0m \u001b[0mnp\u001b[0m\u001b[0;34m.\u001b[0m\u001b[0meinsum\u001b[0m\u001b[0;34m(\u001b[0m\u001b[0meinsumString\u001b[0m\u001b[0;34m,\u001b[0m \u001b[0;34m*\u001b[0m\u001b[0;34m[\u001b[0m\u001b[0mvertex\u001b[0m\u001b[0;34m.\u001b[0m\u001b[0mtensor\u001b[0m\u001b[0;34m.\u001b[0m\u001b[0marray\u001b[0m \u001b[0;32mfor\u001b[0m \u001b[0mvertex\u001b[0m \u001b[0;32min\u001b[0m \u001b[0moperatorProduct_\u001b[0m\u001b[0;34m.\u001b[0m\u001b[0mvertexList\u001b[0m\u001b[0;34m]\u001b[0m\u001b[0;34m)\u001b[0m\u001b[0;34m\u001b[0m\u001b[0;34m\u001b[0m\u001b[0m\n\u001b[1;32m     42\u001b[0m \u001b[0;31m#    print(contribution)\u001b[0m\u001b[0;34m\u001b[0m\u001b[0;34m\u001b[0m\u001b[0;34m\u001b[0m\u001b[0m\n",
      "\u001b[0;31mAttributeError\u001b[0m: 'Tensor' object has no attribute 'array'"
     ]
    }
   ],
   "source": [
    "print(sum([getContractedArray(s) for s in CCDEnergy.summandList]))"
   ]
  },
  {
   "cell_type": "code",
   "execution_count": 401,
   "metadata": {},
   "outputs": [
    {
     "output_type": "stream",
     "name": "stdout",
     "text": [
      "[(1, 1)]\n[(1, 1, 1, 1)]\n[(1, 1, 1, 1)]\n"
     ]
    },
    {
     "output_type": "execute_result",
     "data": {
      "text/plain": [
       "-1.1026388111917238"
      ]
     },
     "metadata": {},
     "execution_count": 401
    }
   ],
   "source": [
    "mol.energy_nuc() + sum([getContractedArray(s) for s in CCDEnergy.summandList[:3]])"
   ]
  },
  {
   "cell_type": "code",
   "execution_count": 402,
   "metadata": {},
   "outputs": [
    {
     "output_type": "execute_result",
     "data": {
      "text/plain": [
       "-1.1026388111917238"
      ]
     },
     "metadata": {},
     "execution_count": 402
    }
   ],
   "source": [
    "mf.e_tot"
   ]
  },
  {
   "cell_type": "code",
   "execution_count": null,
   "metadata": {},
   "outputs": [],
   "source": []
  }
 ],
 "metadata": {
  "kernelspec": {
   "name": "python3",
   "display_name": "Python 3.8.0 64-bit"
  },
  "language_info": {
   "codemirror_mode": {
    "name": "ipython",
    "version": 3
   },
   "file_extension": ".py",
   "mimetype": "text/x-python",
   "name": "python",
   "nbconvert_exporter": "python",
   "pygments_lexer": "ipython3",
   "version": "3.8.0"
  },
  "interpreter": {
   "hash": "aee8b7b246df8f9039afb4144a1f6fd8d2ca17a180786b69acc140d282b71a49"
  }
 },
 "nbformat": 4,
 "nbformat_minor": 2
}