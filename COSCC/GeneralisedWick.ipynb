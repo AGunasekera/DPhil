{
 "cells": [
  {
   "cell_type": "code",
   "execution_count": 1,
   "source": [
    "import numpy as np\n",
    "from numbers import Number\n",
    "from pyscf import gto, scf, ao2mo, fci\n",
    "from copy import deepcopy, copy\n",
    "from math import factorial\n",
    "import time\n",
    "\n",
    "#define vacuum\n",
    "#take in operator string\n",
    "#format: string of indices, bitstring of creation vs annihilation\n",
    "#return normal-ordered operator string plus contracted terms, according to Wick's theorem\n",
    "\n"
   ],
   "outputs": [],
   "metadata": {}
  },
  {
   "cell_type": "code",
   "execution_count": 2,
   "source": [
    "class Index:\n",
    "    '''\n",
    "    Class for an orbital index\n",
    "    name (str): name given to index\n",
    "    occupiedInVaccum (bool): whether the index refers to orbitals that are occupied in the vacuum (i.e. hole orbitals) or not (particle orbitals)\n",
    "    '''\n",
    "    def __init__(self, name, occupiedInVacuum):\n",
    "        self.name = name\n",
    "        self.occupiedInVacuum = occupiedInVacuum\n",
    "        self.tuple = (self.name, self.occupiedInVacuum)\n",
    "\n",
    "    def __hash__(self):\n",
    "        return hash(self.tuple)\n",
    "\n",
    "    def __eq__(self, other):\n",
    "        return self.tuple == other\n",
    "\n",
    "    def __str__(self):\n",
    "        return self.name"
   ],
   "outputs": [],
   "metadata": {}
  },
  {
   "cell_type": "code",
   "execution_count": 3,
   "source": [
    "class basicOperator:\n",
    "    '''\n",
    "    Class for a basic fermionic creation or annihilation operator, with arbitrary index\n",
    "    index (Index): the index for the orbitals on which this operator acts\n",
    "    creation_annihilation (bool): True for creation, False for annihilation\n",
    "    spin (bool): True for alpha, False for beta\n",
    "    quasi_cre_ann (bool): creation or annihilation with respect to Fermi vacuum\n",
    "    '''\n",
    "    def __init__(self, index_, creation_annihilation_, spin_):\n",
    "        self.index = index_\n",
    "        self.spin = spin_\n",
    "        self.creation_annihilation = creation_annihilation_\n",
    "        self.quasi_cre_ann = not (self.creation_annihilation == self.index.occupiedInVacuum)\n",
    "\n",
    "    def __copy__(self):\n",
    "        return basicOperator(self.index, self.creation_annihilation, self.spin)\n",
    "\n",
    "    def __str__(self):\n",
    "        string = \"a\"\n",
    "        if bool(self.creation_annihilation):\n",
    "            string = string + \"^\"\n",
    "        else:\n",
    "            string = string + \"_\"\n",
    "        if bool(self.spin):\n",
    "            string = string + \"{\" + self.index.__str__() + \"\\\\alpha}\"\n",
    "        else:\n",
    "            string = string + \"{\" + self.index.__str__() + \"\\\\beta}\"\n",
    "        return string\n",
    "\n",
    "    def __eq__(self, other):\n",
    "        if isinstance(other, basicOperator):\n",
    "            return self.index == other.index and self.spin == other.spin and self.creation_annihilation == other.creation_annihilation\n",
    "        return False\n",
    "\n",
    "    def conjugate(self):\n",
    "        return basicOperator(self.index, not self.creation_annihilation, self.spin)"
   ],
   "outputs": [],
   "metadata": {}
  },
  {
   "cell_type": "code",
   "execution_count": 4,
   "source": [
    "class operatorProduct:\n",
    "    def __init__(self, operatorList_=[], prefactor_=1., contractionsList_=[]):\n",
    "        self.operatorList = operatorList_\n",
    "        self.prefactor = prefactor_\n",
    "        self.contractionsList = contractionsList_\n",
    "\n",
    "    def isProportional(self, other):\n",
    "        if isinstance(other, operatorProduct):\n",
    "            return self.operatorList == other.operatorList and set(self.contractionsList) == set(other.contractionsList)\n",
    "        else:\n",
    "            return NotImplemented\n",
    "\n",
    "    def __copy__(self):\n",
    "        return operatorProduct(copy(self.operatorList), self.prefactor, copy(self.contractionsList))\n",
    "\n",
    "    def __str__(self):\n",
    "        string = str(self.prefactor)\n",
    "        if(len(self.operatorList) + len(self.contractionsList) > 0):\n",
    "            string = string + \" * \"\n",
    "        for o in self.operatorList:\n",
    "            string = string + o.__str__()\n",
    "        for contraction in self.contractionsList:\n",
    "            string = string + \"\\delta^{\" + contraction[0].__str__() + \"}_{\" + contraction[1].__str__() + \"}\"\n",
    "        return string\n",
    "\n",
    "    def __mul__(self, other):\n",
    "        if isinstance(other, operatorProduct):\n",
    "            return operatorProduct(self.operatorList + other.operatorList, self.prefactor * other.prefactor, self.contractionsList + other.contractionsList)\n",
    "        elif isinstance(other, operatorSum):\n",
    "            newSummandList = []\n",
    "            for s in other.summandList:\n",
    "                newSummandList.append(self * s)\n",
    "            return operatorSum(newSummandList)\n",
    "        elif isinstance(other, Number):\n",
    "            return operatorProduct(self.operatorList, self.prefactor * other, self.contractionsList)\n",
    "        else:\n",
    "            return NotImplemented\n",
    "\n",
    "    def __rmul__(self, other):\n",
    "        if isinstance(other, Number):\n",
    "            return operatorProduct(self.operatorList, other * self.prefactor, self.contractionsList)\n",
    "        else:\n",
    "            return NotImplemented\n",
    "\n",
    "    def __add__(self, other):\n",
    "        if isinstance(other, operatorProduct):\n",
    "            if self.isProportional(other):\n",
    "                return operatorProduct(self.operatorList, self.prefactor + other.prefactor, self.contractionsList)\n",
    "            else:\n",
    "                return operatorSum([self, other])\n",
    "        elif other == 0:\n",
    "            return self\n",
    "        else:\n",
    "            return NotImplemented\n",
    "\n",
    "    def __radd__(self, other):\n",
    "        if other == 0:\n",
    "            return self\n",
    "        else:\n",
    "            return NotImplemented\n",
    "\n",
    "    def __eq__(self, other):\n",
    "        if isinstance(other, operatorProduct):\n",
    "            return self.operatorList == other.operatorList and self.prefactor == other.prefactor and self.contractionsList == other.contractionsList\n",
    "        else:\n",
    "            return NotImplemented\n",
    "            \n",
    "    def checkNilpotency(self):\n",
    "        nonZero = True\n",
    "        i = 0\n",
    "        while i < len(self.operatorList):\n",
    "            j = i + 1\n",
    "            while j < len(self.operatorList):\n",
    "                if self.operatorList[j] == self.operatorList[i]:\n",
    "                    nonZero = False\n",
    "                elif self.operatorList[j] == self.operatorList[i].conjugate():\n",
    "                    break\n",
    "                j = j + 1\n",
    "            i = i + 1\n",
    "        return nonZero\n",
    "\n",
    "    def conjugate(self):\n",
    "        return operatorProduct([o.conjugate() for o in self.operatorList], np.conjugate(self.prefactor), self.contractionsList)"
   ],
   "outputs": [],
   "metadata": {}
  },
  {
   "cell_type": "code",
   "execution_count": 5,
   "source": [
    "class operatorSum:\n",
    "    def __init__(self, summandList_=[]):\n",
    "        self.summandList = self.collectSummandList(summandList_)\n",
    "\n",
    "    def collectSummandList(self, summandList):\n",
    "        oldSummandList = copy(summandList)\n",
    "        newSummandList = []\n",
    "        while len(oldSummandList) > 0:\n",
    "            newSummand = oldSummandList[0]\n",
    "            i = 1\n",
    "            while i < len(oldSummandList):\n",
    "                if newSummand.isProportional(oldSummandList[i]):\n",
    "                    newSummand += oldSummandList[i]\n",
    "                    oldSummandList.pop(i)\n",
    "                else:\n",
    "                    i += 1\n",
    "            newSummandList.append(newSummand)\n",
    "            oldSummandList.pop(0)\n",
    "        return newSummandList\n",
    "\n",
    "    def __copy__(self):\n",
    "        return operatorSum(copy(self.summandList))\n",
    "\n",
    "    def __str__(self):\n",
    "        if len(self.summandList) == 0:\n",
    "            return str(0)\n",
    "        string = self.summandList[0].__str__()\n",
    "        s = 1\n",
    "        while s < len(self.summandList):\n",
    "            string = string + \"\\n + \" + self.summandList[s].__str__()\n",
    "            s = s + 1\n",
    "        return string\n",
    "\n",
    "    def __add__(self, other):\n",
    "        if isinstance(other, operatorSum):\n",
    "            return operatorSum(self.summandList + other.summandList)\n",
    "        elif isinstance(other, operatorProduct):\n",
    "            if other.prefactor == 0:\n",
    "                return self\n",
    "            newSummandList = copy(self.summandList)\n",
    "            alreadyInSum = False\n",
    "            for summand in newSummandList:\n",
    "                if summand.isProportional(other):\n",
    "                    alreadyInSum = True\n",
    "                    summand.prefactor += other.prefactor\n",
    "            if not alreadyInSum:\n",
    "                newSummandList.append(other)\n",
    "            return operatorSum(newSummandList)\n",
    "        elif other == 0:\n",
    "            return self\n",
    "        else:\n",
    "            return NotImplemented\n",
    "            \n",
    "    def __radd__(self, other):\n",
    "        if isinstance(other, operatorProduct):\n",
    "            if other.prefactor == 0:\n",
    "                return self\n",
    "            newSummandList = copy(self.summandList)\n",
    "            alreadyInSum = False\n",
    "            for summand in newSummandList:\n",
    "                if summand.isProportional(other):\n",
    "                    alreadyInSum = True\n",
    "                    summand.prefactor += other.prefactor\n",
    "            if not alreadyInSum:\n",
    "                newSummandList.append(other)\n",
    "            return operatorSum(newSummandList)\n",
    "        elif other == 0:\n",
    "            return self\n",
    "        else:\n",
    "            return NotImplemented\n",
    "\n",
    "    def __mul__(self, other):\n",
    "        if isinstance(other, operatorProduct):\n",
    "            newSummandList = []\n",
    "            for s in self.summandList:\n",
    "                newSummandList.append(s * other)\n",
    "            return operatorSum(newSummandList)\n",
    "        elif isinstance(other, operatorSum):\n",
    "            newSummandList = []\n",
    "            for o in other.summandList:\n",
    "                partialSum = self * o\n",
    "                newSummandList = newSummandList + partialSum.summandList\n",
    "            return operatorSum(newSummandList)\n",
    "        elif isinstance(other, Number):\n",
    "            return operatorSum([self.summandList[s] * other for s in range(len(self.summandList))])\n",
    "        else:\n",
    "            return NotImplemented\n",
    "\n",
    "    def __rmul__(self, other):\n",
    "        if isinstance(other, operatorProduct):\n",
    "            newSummandList = []\n",
    "            for s in self.summandList:\n",
    "                newSummandList.append(other * s)\n",
    "            return operatorSum(newSummandList)\n",
    "        elif isinstance(other, Number):\n",
    "            return operatorSum([other * self.summandList[s] for s in range(len(self.summandList))])\n",
    "        else:\n",
    "            return NotImplemented\n",
    "\n",
    "    def conjugate(self):\n",
    "        return operatorSum([s.conjugate() for s in self.summandList])"
   ],
   "outputs": [],
   "metadata": {}
  },
  {
   "cell_type": "code",
   "execution_count": 6,
   "source": [
    "def normalOrder(operator):\n",
    "    '''\n",
    "    Input: an operatorProduct or operatorSum and a list corresponding to which orbitals are occupied in the Fermi vacuum\n",
    "    Output: normal ordered form of input, with respect to vacuum\n",
    "    '''\n",
    "    if isinstance(operator, operatorSum):\n",
    "        return operatorSum([normalOrder(product) for product in operator.summandList])\n",
    "    quasiCreationList, quasiAnnihilationList = [], []\n",
    "    quasiCreationCount = 0\n",
    "    sign = 1\n",
    "    for o in range(len(operator.operatorList)):\n",
    "        op = operator.operatorList[o]\n",
    "        if bool(op.quasi_cre_ann):\n",
    "            quasiCreationList.append(op)\n",
    "            if (o - quasiCreationCount) % 2 == 1:\n",
    "                sign = -sign\n",
    "            quasiCreationCount += 1\n",
    "        else:\n",
    "            quasiAnnihilationList.append(op)\n",
    "    return operatorProduct(quasiCreationList + quasiAnnihilationList, sign * operator.prefactor, operator.contractionsList)"
   ],
   "outputs": [],
   "metadata": {}
  },
  {
   "cell_type": "code",
   "execution_count": 7,
   "source": [
    "def anticommute(operatorProduct_, first):\n",
    "    '''\n",
    "    Apply fermionic anticommutation relation to two adjacent second-quantized operators in an operatorProduct\n",
    "    '''\n",
    "    operatorList_ = operatorProduct_.operatorList\n",
    "#    firstIndex = operatorList_[first].orbital\n",
    "#    secondIndex = operatorList_[first + 1].orbital\n",
    "    commutedTerm = operatorProduct(operatorList_[:first] + operatorList_[first + 1] + operatorList_[first] + operatorList_[first + 1:], operatorProduct_.prefactor * (-1))\n",
    "#    if operatorList_[first].quasi_cre_ann == operatorList_[second].quasi_cre_ann:\n",
    "    return commutedTerm\n",
    "#    elif firstIndex == secondIndex:\n",
    "#        contractedTerm = operatorProduct(operatorList_[:first] + operatorList_[first+2:], operatorProduct_.prefactor)\n",
    "#        return operatorSum([contractedTerm, commutedTerm])\n",
    "#    else:\n",
    "#        return commutedTerm"
   ],
   "outputs": [],
   "metadata": {}
  },
  {
   "cell_type": "code",
   "execution_count": 8,
   "source": [
    "def anticommuteInPlace(operatorProduct_, first):\n",
    "    '''\n",
    "    Apply fermionic anticommutation relation in place to two adjacent second-quantized operators in an operatorProduct\n",
    "    '''\n",
    "    operatorList_ = operatorProduct_.operatorList\n",
    "    if operatorList_ == []:\n",
    "        return\n",
    "    firstOperatorCopy = copy(operatorList_[first])\n",
    "    operatorList_[first], operatorList_[first + 1] = operatorList_[first + 1], firstOperatorCopy\n",
    "    operatorProduct_.prefactor = -operatorProduct_.prefactor\n",
    "    return"
   ],
   "outputs": [],
   "metadata": {}
  },
  {
   "cell_type": "code",
   "execution_count": 9,
   "source": [
    "def contract(operatorProduct_, first, second):\n",
    "    '''\n",
    "    Make a contraction between the indices of operators at the positions given by first and second in operatorProduct_\n",
    "    '''\n",
    "    operatorList_ = operatorProduct_.operatorList\n",
    "    existingContractions = operatorProduct_.contractionsList\n",
    "    if operatorList_ == []:\n",
    "        return operatorProduct_\n",
    "    firstIndex = operatorList_[first].index\n",
    "    secondIndex = operatorList_[second].index\n",
    "#    if firstIndex == secondIndex:\n",
    "    if firstIndex.occupiedInVacuum != secondIndex.occupiedInVacuum:\n",
    "        return operatorProduct([],0)\n",
    "    if operatorList_[first].spin != operatorList_[second].spin:\n",
    "        return operatorProduct([],0)\n",
    "    if operatorList_[first].quasi_cre_ann:\n",
    "        return operatorProduct([],0)\n",
    "    if not operatorList_[second].quasi_cre_ann:\n",
    "        return operatorProduct([],0)\n",
    "    else:\n",
    "        contractionTuple = tuple()\n",
    "        if operatorList_[first].creation_annihilation:\n",
    "            contractionTuple = (firstIndex, secondIndex)\n",
    "        else:\n",
    "            contractionTuple = (secondIndex, firstIndex)\n",
    "        return operatorProduct(operatorList_[:first] + operatorList_[first+1:second] + operatorList_[second + 1:], operatorProduct_.prefactor * ((-1) ** (1 + second - first)), existingContractions + [contractionTuple])"
   ],
   "outputs": [],
   "metadata": {}
  },
  {
   "cell_type": "code",
   "execution_count": 10,
   "source": [
    "def reorderForContraction(operatorProduct_, first, second):\n",
    "    '''\n",
    "    Reorder operators using anticommutation relation so that two operators to be contracted are in positions 0 and 1\n",
    "    '''\n",
    "    operatorProductCopy = copy(operatorProduct_)\n",
    "    i = first\n",
    "    j = second\n",
    "    while i > 0:\n",
    "        anticommuteInPlace(operatorProductCopy, i-1)\n",
    "        i = i - 1\n",
    "    while j > 1:\n",
    "        anticommuteInPlace(operatorProductCopy, j-1)\n",
    "        j = j - 1\n",
    "    return operatorProductCopy\n"
   ],
   "outputs": [],
   "metadata": {}
  },
  {
   "cell_type": "code",
   "execution_count": 11,
   "source": [
    "def reorderForMultipleContraction(operatorProduct_, pairsList):\n",
    "    '''\n",
    "    Reorder operators using anticommutation relation so that each pair of operators to be contracted are adjacent\n",
    "    '''\n",
    "    operatorProductCopy = copy(operatorProduct_)\n",
    "    finalPosition = 0\n",
    "    for positionPair in pairsList:\n",
    "        i = positionPair[0]\n",
    "        j = positionPair[1]\n",
    "        while i > finalPosition:\n",
    "            anticommuteInPlace(operatorProductCopy, i-1)\n",
    "            i = i - 1\n",
    "        while j > finalPosition + 1:\n",
    "            anticommuteInPlace(operatorProductCopy, j-1)\n",
    "            j = j - 1\n",
    "        finalPosition = finalPosition + 2\n",
    "    return operatorProductCopy"
   ],
   "outputs": [],
   "metadata": {}
  },
  {
   "cell_type": "code",
   "execution_count": 12,
   "source": [
    "def updateFlattenedPositionList(flattenedPositions):\n",
    "    for i in range(len(flattenedPositions)):\n",
    "        if flattenedPositions[i] > flattenedPositions[1]:\n",
    "            flattenedPositions[i] -= 2\n",
    "        elif flattenedPositions[i] > flattenedPositions[0]:\n",
    "            flattenedPositions[i] -= 1\n",
    "    return flattenedPositions[2:]"
   ],
   "outputs": [],
   "metadata": {}
  },
  {
   "cell_type": "code",
   "execution_count": 13,
   "source": [
    "def multipleContraction(operatorProduct_, positionPairsList):\n",
    "    '''\n",
    "    Contractions between multiple pairs of operators in a product, at the positions given by entries 2i and 2i+1 in positionPairsList\n",
    "    '''\n",
    "    product = copy(operatorProduct_)\n",
    "    while len(positionPairsList) > 0:\n",
    "#    for positionPair in pairsList:\n",
    "        reorderedProduct = reorderForContraction(product, positionPairsList[0], positionPairsList[1])\n",
    "        product = contract(reorderedProduct, 0, 1)\n",
    "        positionPairsList = updateFlattenedPositionList(positionPairsList) #NOTE: reduces length of positionPairsList by 2\n",
    "    return product"
   ],
   "outputs": [],
   "metadata": {}
  },
  {
   "cell_type": "code",
   "execution_count": 14,
   "source": [
    "def nFoldContractionFromStart(operatorProduct_, n):\n",
    "    product = copy(operatorProduct_)\n",
    "    if (2 * n <= len(product.operatorList)):\n",
    "        for i in range(n):\n",
    "            product = contract(product, 0, 1)\n",
    "    return product"
   ],
   "outputs": [],
   "metadata": {}
  },
  {
   "cell_type": "code",
   "execution_count": 15,
   "source": [
    "oP = operatorProduct([basicOperator(Index('p', False),1,1), basicOperator(Index('p', False),0,1)])\n",
    "nOP = normalOrder(oP)\n",
    "for i in range(len(nOP.operatorList)):\n",
    "    print(nOP.operatorList[i])\n",
    "\n",
    "print(oP)\n",
    "print(nOP)\n",
    "\n",
    "print((nOP + oP) * (nOP + oP))\n",
    "\n",
    "a = basicOperator(Index('p', False),1,1)\n",
    "b = basicOperator(Index('p', False),1,1)\n",
    "\n",
    "print(a==b)\n",
    "\n",
    "print((nOP * nOP).checkNilpotency())"
   ],
   "outputs": [
    {
     "output_type": "stream",
     "name": "stdout",
     "text": [
      "a^{p\\alpha}\n",
      "a_{p\\alpha}\n",
      "1.0 * a^{p\\alpha}a_{p\\alpha}\n",
      "1.0 * a^{p\\alpha}a_{p\\alpha}\n",
      "4.0 * a^{p\\alpha}a_{p\\alpha}a^{p\\alpha}a_{p\\alpha}\n",
      "True\n",
      "True\n"
     ]
    }
   ],
   "metadata": {}
  },
  {
   "cell_type": "code",
   "execution_count": 16,
   "source": [
    "oP2 = operatorProduct([basicOperator(Index('a', False),0,1), basicOperator(Index('b', False),0,1), basicOperator(Index('a', False),1,1), basicOperator(Index('b', False),1,1)])\n",
    "nOP2 = normalOrder(oP2)\n",
    "print(oP2)\n",
    "print(nOP2)\n",
    "\n",
    "print(\"----\")\n",
    "\n",
    "print(contract(oP2, 0,2))\n",
    "print(contract(oP2, 1,3))\n",
    "print(contract(contract(oP2, 0,2),0,1))\n",
    "print(nFoldContractionFromStart(oP2, 1))\n",
    "print(len(oP2.operatorList))\n",
    "\n",
    "print(\"----\")\n",
    "\n",
    "print(reorderForContraction(oP2,0,2))\n",
    "print(nFoldContractionFromStart(reorderForContraction(oP2,0,2), 1))\n",
    "\n",
    "print(\"----\")\n",
    "\n",
    "print(multipleContraction(oP2, []))"
   ],
   "outputs": [
    {
     "output_type": "stream",
     "name": "stdout",
     "text": [
      "1.0 * a_{a\\alpha}a_{b\\alpha}a^{a\\alpha}a^{b\\alpha}\n",
      "1.0 * a^{a\\alpha}a^{b\\alpha}a_{a\\alpha}a_{b\\alpha}\n",
      "----\n",
      "-1.0 * a_{b\\alpha}a^{b\\alpha}\\delta^{a}_{a}\n",
      "-1.0 * a_{a\\alpha}a^{a\\alpha}\\delta^{b}_{b}\n",
      "-1.0 * \\delta^{a}_{a}\\delta^{b}_{b}\n",
      "0\n",
      "4\n",
      "----\n",
      "-1.0 * a_{a\\alpha}a^{a\\alpha}a_{b\\alpha}a^{b\\alpha}\n",
      "-1.0 * a_{b\\alpha}a^{b\\alpha}\\delta^{a}_{a}\n",
      "----\n",
      "1.0 * a_{a\\alpha}a_{b\\alpha}a^{a\\alpha}a^{b\\alpha}\n"
     ]
    }
   ],
   "metadata": {}
  },
  {
   "cell_type": "code",
   "execution_count": 17,
   "source": [
    "bohr = 0.529177249\n",
    "\n",
    "H2sep = 1.605 * bohr\n",
    "\n",
    "mol = gto.Mole()\n",
    "mol.verbose = 1\n",
    "mol.atom = 'H 0 0 0; H 0 0 ' + str(H2sep)\n",
    "mol.basis = 'sto-3g'\n",
    "mol.spin = 0\n",
    "mol.build()\n",
    "\n",
    "Enuc = mol.energy_nuc()\n",
    "\n",
    "mf = scf.ROHF(mol)\n",
    "mf.kernel()\n",
    "\n",
    "h1 = mf.mo_coeff.T.dot(mf.get_hcore()).dot(mf.mo_coeff)\n",
    "eri = ao2mo.kernel(mol, mf.mo_coeff, compact=False)\n",
    "\n",
    "cisolver = fci.FCI(mol, mf.mo_coeff)\n",
    "\n",
    "Norbs = mol.nao\n",
    "Nocc = mf.nelectron_alpha\n",
    "vacuum = [1 for i in range(Nocc)] + [0 for i in range (Norbs - Nocc)]"
   ],
   "outputs": [],
   "metadata": {}
  },
  {
   "cell_type": "code",
   "execution_count": 18,
   "source": [
    "positionPairs = [(0,2),(1,3)]\n",
    "flattenedPositions = [pos for pair in positionPairs for pos in pair]\n",
    "print(flattenedPositions)\n",
    "flattenedPositionsAfterContraction = copy(flattenedPositions)\n",
    "for i in range(len(flattenedPositionsAfterContraction)):\n",
    "    if flattenedPositionsAfterContraction[i] > flattenedPositionsAfterContraction[1]:\n",
    "        flattenedPositionsAfterContraction[i] -= 2\n",
    "    elif flattenedPositionsAfterContraction[i] > flattenedPositionsAfterContraction[0]:\n",
    "        flattenedPositionsAfterContraction[i] -= 1\n",
    "print(flattenedPositionsAfterContraction[2:])\n",
    "print(flattenedPositions)"
   ],
   "outputs": [
    {
     "output_type": "stream",
     "name": "stdout",
     "text": [
      "[0, 2, 1, 3]\n",
      "[0, 1]\n",
      "[0, 2, 1, 3]\n"
     ]
    }
   ],
   "metadata": {}
  },
  {
   "cell_type": "code",
   "execution_count": 19,
   "source": [
    "def genPairOrderedLists(list_):\n",
    "    '''\n",
    "    Given an ordered list with an even number of elements, returns list of all permutations of that list where each adjacent pair is ordered, and where the first elements of pairs are ordered\n",
    "    '''\n",
    "    pairOrderedLists = []\n",
    "    if len(list_) == 2:\n",
    "        pairOrderedLists.append(list_)\n",
    "    else:\n",
    "        for i in range(1,len(list_)):\n",
    "            swappedList = [list_[0]] + [list_[i]] + list_[1:i]\n",
    "            if i < len(list_):\n",
    "                swappedList = swappedList + list_[i+1:]\n",
    "            subLists = genPairOrderedLists(swappedList[2:])\n",
    "            for l in range(len(subLists)):\n",
    "                pairOrderedLists.append(swappedList[:2] + subLists[l])\n",
    "    return pairOrderedLists"
   ],
   "outputs": [],
   "metadata": {}
  },
  {
   "cell_type": "code",
   "execution_count": 20,
   "source": [
    "objectList = [\"a\", \"b\", \"c\", \"d\", \"e\", \"f\"]\n",
    "print(genPairOrderedLists(objectList))"
   ],
   "outputs": [
    {
     "output_type": "stream",
     "name": "stdout",
     "text": [
      "[['a', 'b', 'c', 'd', 'e', 'f'], ['a', 'b', 'c', 'e', 'd', 'f'], ['a', 'b', 'c', 'f', 'd', 'e'], ['a', 'c', 'b', 'd', 'e', 'f'], ['a', 'c', 'b', 'e', 'd', 'f'], ['a', 'c', 'b', 'f', 'd', 'e'], ['a', 'd', 'b', 'c', 'e', 'f'], ['a', 'd', 'b', 'e', 'c', 'f'], ['a', 'd', 'b', 'f', 'c', 'e'], ['a', 'e', 'b', 'c', 'd', 'f'], ['a', 'e', 'b', 'd', 'c', 'f'], ['a', 'e', 'b', 'f', 'c', 'd'], ['a', 'f', 'b', 'c', 'd', 'e'], ['a', 'f', 'b', 'd', 'c', 'e'], ['a', 'f', 'b', 'e', 'c', 'd']]\n"
     ]
    }
   ],
   "metadata": {}
  },
  {
   "cell_type": "code",
   "execution_count": 21,
   "source": [
    "from itertools import combinations"
   ],
   "outputs": [],
   "metadata": {}
  },
  {
   "cell_type": "code",
   "execution_count": 22,
   "source": [
    "def getPositionsForMultipleContraction(operatorProduct_, n):\n",
    "    nOperators = len(operatorProduct_.operatorList)\n",
    "    operatorPositions = range(nOperators)\n",
    "    nToChoose = 2 * n\n",
    "    if nToChoose <= nOperators:\n",
    "        return combinations(operatorPositions, nToChoose)\n"
   ],
   "outputs": [],
   "metadata": {}
  },
  {
   "cell_type": "code",
   "execution_count": 23,
   "source": [
    "print(oP2)\n",
    "chosenPositions = getPositionsForMultipleContraction(oP2, 2)\n",
    "print([list(c) for c in chosenPositions])\n",
    "print([genPairOrderedLists(list(d)) for d in chosenPositions])"
   ],
   "outputs": [
    {
     "output_type": "stream",
     "name": "stdout",
     "text": [
      "1.0 * a_{a\\alpha}a_{b\\alpha}a^{a\\alpha}a^{b\\alpha}\n",
      "[[0, 1, 2, 3]]\n",
      "[]\n"
     ]
    }
   ],
   "metadata": {}
  },
  {
   "cell_type": "code",
   "execution_count": 24,
   "source": [
    "def sumNFoldContractions(operatorProduct_, n):\n",
    "    chosenPositions = getPositionsForMultipleContraction(operatorProduct_, n)\n",
    "    if n == 0:\n",
    "        return operatorProduct_\n",
    "    operatorSum_ = operatorSum([])\n",
    "    for c in chosenPositions:\n",
    "        pairOrderedList = genPairOrderedLists(list(c))\n",
    "        for l in pairOrderedList:\n",
    "            operatorSum_ = operatorSum_ + multipleContraction(operatorProduct_, l)\n",
    "    return operatorSum_"
   ],
   "outputs": [],
   "metadata": {}
  },
  {
   "cell_type": "code",
   "execution_count": 25,
   "source": [
    "print(oP2)\n",
    "print(multipleContraction(oP2, [0,2,1,3]))\n",
    "print(sumNFoldContractions(oP2, 1))"
   ],
   "outputs": [
    {
     "output_type": "stream",
     "name": "stdout",
     "text": [
      "1.0 * a_{a\\alpha}a_{b\\alpha}a^{a\\alpha}a^{b\\alpha}\n",
      "-1.0 * \\delta^{a}_{a}\\delta^{b}_{b}\n",
      "-1.0 * a_{b\\alpha}a^{b\\alpha}\\delta^{a}_{a}\n",
      " + 1.0 * a_{b\\alpha}a^{a\\alpha}\\delta^{b}_{a}\n",
      " + 1.0 * a_{a\\alpha}a^{b\\alpha}\\delta^{a}_{b}\n",
      " + -1.0 * a_{a\\alpha}a^{a\\alpha}\\delta^{b}_{b}\n"
     ]
    }
   ],
   "metadata": {}
  },
  {
   "cell_type": "code",
   "execution_count": 26,
   "source": [
    "def wickExpand(operator):\n",
    "    if isinstance(operator, operatorSum):\n",
    "        wickExpansion = operatorSum([])\n",
    "        for product in operator.summandList:\n",
    "            wickExpansion = wickExpansion + wickExpand(product)\n",
    "        return wickExpansion\n",
    "    wickExpansion = operatorSum([normalOrder(operator)])\n",
    "    highestOrder = len(operator.operatorList) // 2\n",
    "    for n in range(highestOrder):\n",
    "        wickExpansion = wickExpansion + sumNFoldContractions(operator, n + 1)\n",
    "    return normalOrder(wickExpansion)"
   ],
   "outputs": [],
   "metadata": {}
  },
  {
   "cell_type": "code",
   "execution_count": 27,
   "source": [
    "def vacuumExpectationValue(operator):\n",
    "    wickExpansion = wickExpand(operator)\n",
    "    vEV = operatorSum()\n",
    "    for summand in wickExpansion.summandList:\n",
    "        if summand.operatorList == []:\n",
    "            topologyAlreadyFound = False\n",
    "            for topology in vEV.summandList:\n",
    "                if set(summand.contractionsList) == set(topology.contractionsList):\n",
    "                    topology.prefactor += summand.prefactor\n",
    "                    topologyAlreadyFound = True\n",
    "            if not topologyAlreadyFound:\n",
    "                vEV += summand\n",
    "    return vEV"
   ],
   "outputs": [],
   "metadata": {}
  },
  {
   "cell_type": "code",
   "execution_count": 28,
   "source": [
    "print(oP2)\n",
    "print(wickExpand(oP2))\n",
    "print(vacuumExpectationValue(oP2))"
   ],
   "outputs": [
    {
     "output_type": "stream",
     "name": "stdout",
     "text": [
      "1.0 * a_{a\\alpha}a_{b\\alpha}a^{a\\alpha}a^{b\\alpha}\n",
      "1.0 * a^{a\\alpha}a^{b\\alpha}a_{a\\alpha}a_{b\\alpha}\n",
      " + 1.0 * a^{b\\alpha}a_{b\\alpha}\\delta^{a}_{a}\n",
      " + -1.0 * a^{a\\alpha}a_{b\\alpha}\\delta^{b}_{a}\n",
      " + -1.0 * a^{b\\alpha}a_{a\\alpha}\\delta^{a}_{b}\n",
      " + 1.0 * a^{a\\alpha}a_{a\\alpha}\\delta^{b}_{b}\n",
      " + -1.0 * \\delta^{a}_{a}\\delta^{b}_{b}\n",
      " + 1.0 * \\delta^{b}_{a}\\delta^{a}_{b}\n",
      "-1.0 * \\delta^{a}_{a}\\delta^{b}_{b}\n",
      " + 1.0 * \\delta^{b}_{a}\\delta^{a}_{b}\n"
     ]
    }
   ],
   "metadata": {}
  },
  {
   "cell_type": "code",
   "execution_count": 29,
   "source": [
    "#Particle number-conserving excitation operators, normal ordered with respect to true vacuum\n",
    "class excitation(operatorProduct):\n",
    "    def __init__(self, creationIndicesList_, annihilationIndicesList_, spinList_):\n",
    "        super(excitation, self).__init__()\n",
    "        self.operatorList = []\n",
    "        for i in range(len(creationIndicesList_)):\n",
    "            self.operatorList.append(basicOperator(creationIndicesList_[i], True, spinList_[i]))\n",
    "        for i in range(len(annihilationIndicesList_)):\n",
    "            self.operatorList.append(basicOperator(annihilationIndicesList_[i], False, spinList_[i+len(creationIndicesList_)]))"
   ],
   "outputs": [],
   "metadata": {}
  },
  {
   "cell_type": "code",
   "execution_count": 30,
   "source": [
    "class spinFreeExcitation(operatorSum):\n",
    "    def __init__(self, creationList_, annihilationList_):\n",
    "        self.summandList = []\n",
    "        spinLists = np.reshape(np.zeros(len(creationList_)), (1, -1))\n",
    "        for i in range(len(creationList_)):\n",
    "            newspinLists = copy(spinLists)\n",
    "            for s in range(len(spinLists)):\n",
    "                newspinLists[s,i] = 1\n",
    "            spinLists = np.concatenate((spinLists, newspinLists))\n",
    "        for l in range(len(spinLists)):\n",
    "            spinList = spinLists[l]\n",
    "            self.summandList.append(excitation(creationList_, annihilationList_, [*spinList, *spinList[::-1]]))"
   ],
   "outputs": [],
   "metadata": {}
  },
  {
   "cell_type": "code",
   "execution_count": 31,
   "source": [
    "aI = Index('a', True)\n",
    "bI = Index('b', True)\n",
    "cI = Index('c', True)\n",
    "dI = Index('d', True)\n",
    "rI = Index('r', False)\n",
    "sI = Index('s', False)\n",
    "tI = Index('t', False)\n",
    "uI = Index('u', False)"
   ],
   "outputs": [],
   "metadata": {}
  },
  {
   "cell_type": "code",
   "execution_count": 32,
   "source": [
    "testOperator = spinFreeExcitation([rI], [aI])"
   ],
   "outputs": [],
   "metadata": {}
  },
  {
   "cell_type": "code",
   "execution_count": 33,
   "source": [
    "print(testOperator)"
   ],
   "outputs": [
    {
     "output_type": "stream",
     "name": "stdout",
     "text": [
      "1.0 * a^{r\\beta}a_{a\\beta}\n",
      " + 1.0 * a^{r\\alpha}a_{a\\alpha}\n"
     ]
    }
   ],
   "metadata": {}
  },
  {
   "cell_type": "code",
   "execution_count": 34,
   "source": [
    "print(normalOrder(testOperator))"
   ],
   "outputs": [
    {
     "output_type": "stream",
     "name": "stdout",
     "text": [
      "1.0 * a^{r\\beta}a_{a\\beta}\n",
      " + 1.0 * a^{r\\alpha}a_{a\\alpha}\n"
     ]
    }
   ],
   "metadata": {}
  },
  {
   "cell_type": "code",
   "execution_count": 35,
   "source": [
    "print(wickExpand(testOperator))"
   ],
   "outputs": [
    {
     "output_type": "stream",
     "name": "stdout",
     "text": [
      "1.0 * a^{r\\beta}a_{a\\beta}\n",
      " + 1.0 * a^{r\\alpha}a_{a\\alpha}\n"
     ]
    }
   ],
   "metadata": {}
  },
  {
   "cell_type": "code",
   "execution_count": 36,
   "source": [
    "testOperator1 = spinFreeExcitation([sI], [bI])"
   ],
   "outputs": [],
   "metadata": {}
  },
  {
   "cell_type": "code",
   "execution_count": 37,
   "source": [
    "print(testOperator.conjugate() * testOperator1)"
   ],
   "outputs": [
    {
     "output_type": "stream",
     "name": "stdout",
     "text": [
      "1.0 * a_{r\\beta}a^{a\\beta}a^{s\\beta}a_{b\\beta}\n",
      " + 1.0 * a_{r\\alpha}a^{a\\alpha}a^{s\\beta}a_{b\\beta}\n",
      " + 1.0 * a_{r\\beta}a^{a\\beta}a^{s\\alpha}a_{b\\alpha}\n",
      " + 1.0 * a_{r\\alpha}a^{a\\alpha}a^{s\\alpha}a_{b\\alpha}\n"
     ]
    }
   ],
   "metadata": {}
  },
  {
   "cell_type": "code",
   "execution_count": 38,
   "source": [
    "print(wickExpand(testOperator.conjugate() * testOperator1))"
   ],
   "outputs": [
    {
     "output_type": "stream",
     "name": "stdout",
     "text": [
      "1.0 * a^{s\\beta}a_{b\\beta}a_{r\\beta}a^{a\\beta}\n",
      " + 1.0 * a_{b\\beta}a^{a\\beta}\\delta^{s}_{r}\n",
      " + 1.0 * a^{s\\beta}a_{r\\beta}\\delta^{a}_{b}\n",
      " + -2.0 * \\delta^{s}_{r}\\delta^{a}_{b}\n",
      " + 1.0 * a^{s\\beta}a_{b\\beta}a_{r\\alpha}a^{a\\alpha}\n",
      " + 1.0 * a^{s\\alpha}a_{b\\alpha}a_{r\\beta}a^{a\\beta}\n",
      " + 1.0 * a^{s\\alpha}a_{b\\alpha}a_{r\\alpha}a^{a\\alpha}\n",
      " + 1.0 * a_{b\\alpha}a^{a\\alpha}\\delta^{s}_{r}\n",
      " + 1.0 * a^{s\\alpha}a_{r\\alpha}\\delta^{a}_{b}\n"
     ]
    }
   ],
   "metadata": {}
  },
  {
   "cell_type": "code",
   "execution_count": 39,
   "source": [
    "def canContract(o1, o2):\n",
    "    if o1.quasi_cre_ann:\n",
    "        return 0\n",
    "    elif o2.quasi_cre_ann and (o1.spin == o2.spin):\n",
    "        return int(o1.index.occupiedInVacuum == o2.index.occupiedInVacuum)\n",
    "    else:\n",
    "        return 0"
   ],
   "outputs": [],
   "metadata": {}
  },
  {
   "cell_type": "code",
   "execution_count": 40,
   "source": [
    "def recursiveFullContraction(operatorProduct_, speedup=False):\n",
    "#    if isinstance(operatorProduct_, Number):\n",
    "#        return operatorProduct_\n",
    "    operatorList_ = operatorProduct_.operatorList\n",
    "    if speedup:\n",
    "        if not sum(o.quasi_cre_ann for o in operatorList_) == sum(not o.quasi_cre_ann for o in operatorList_):\n",
    "            return 0\n",
    "    existingContractions = operatorProduct_.contractionsList\n",
    "    if len(operatorList_) == 0:\n",
    "        return operatorProduct_\n",
    "    elif len(operatorList_) == 2:\n",
    "        if canContract(operatorList_[0], operatorList_[1]):\n",
    "            contractionTuple = tuple()\n",
    "            if operatorList_[0].creation_annihilation:\n",
    "                contractionTuple = (operatorList_[0].index, operatorList_[1].index)\n",
    "            else:\n",
    "                contractionTuple = (operatorList_[1].index, operatorList_[0].index)\n",
    "            return operatorProduct([], operatorProduct_.prefactor, existingContractions + [contractionTuple])\n",
    "        else:\n",
    "            return 0\n",
    "    elif len(operatorList_) % 2 == 0:\n",
    "        result = 0\n",
    "        for i in range(1, len(operatorList_) - 1):\n",
    "            if canContract(operatorList_[0], operatorList_[i]):\n",
    "                contractionTuple = tuple()\n",
    "                if operatorList_[0].creation_annihilation:\n",
    "                    contractionTuple = (operatorList_[0].index, operatorList_[i].index)\n",
    "                else:\n",
    "                    contractionTuple = (operatorList_[i].index, operatorList_[0].index)\n",
    "                result += pow(-1, i-1) * recursiveFullContraction(operatorProduct(operatorList_[1:i] + operatorList_[i+1:], operatorProduct_.prefactor, existingContractions + [contractionTuple]))\n",
    "        if canContract(operatorList_[0], operatorList_[-1]):\n",
    "            contractionTuple = tuple()\n",
    "            if operatorList_[0].creation_annihilation:\n",
    "                contractionTuple = (operatorList_[0].index, operatorList_[-1].index)\n",
    "            else:\n",
    "                contractionTuple = (operatorList_[-1].index, operatorList_[0].index)\n",
    "            result += recursiveFullContraction(operatorProduct(operatorList_[1:-1], operatorProduct_.prefactor, existingContractions + [contractionTuple]))\n",
    "        return result\n",
    "    else:\n",
    "        return 0"
   ],
   "outputs": [],
   "metadata": {}
  },
  {
   "cell_type": "code",
   "execution_count": 41,
   "source": [
    "print((testOperator.conjugate() * testOperator1).summandList[0])"
   ],
   "outputs": [
    {
     "output_type": "stream",
     "name": "stdout",
     "text": [
      "1.0 * a_{r\\beta}a^{a\\beta}a^{s\\beta}a_{b\\beta}\n"
     ]
    }
   ],
   "metadata": {}
  },
  {
   "cell_type": "code",
   "execution_count": 42,
   "source": [
    "print(recursiveFullContraction((testOperator.conjugate() * testOperator1).summandList[0]))"
   ],
   "outputs": [
    {
     "output_type": "stream",
     "name": "stdout",
     "text": [
      "-1.0 * \\delta^{s}_{r}\\delta^{a}_{b}\n"
     ]
    }
   ],
   "metadata": {}
  },
  {
   "cell_type": "code",
   "execution_count": 43,
   "source": [
    "def recursiveVacuumExpectationValue(operator, speedup=False, printing=False):\n",
    "    if isinstance(operator, operatorProduct):\n",
    "        return recursiveFullContraction(operator, speedup)\n",
    "    elif isinstance(operator, operatorSum):\n",
    "        result = operatorSum([])\n",
    "        for product in operator.summandList:\n",
    "            term = recursiveFullContraction(product, speedup)\n",
    "            if printing and term != 0.:\n",
    "                print(product)\n",
    "            result += term\n",
    "        return result\n",
    "    elif isinstance(operator, Number):\n",
    "        return operatorSum([operatorProduct([], operator)])\n",
    "    else:\n",
    "        return operatorSum([])"
   ],
   "outputs": [],
   "metadata": {}
  },
  {
   "cell_type": "code",
   "execution_count": 44,
   "source": [
    "print(vacuumExpectationValue(testOperator.conjugate() * testOperator1).summandList[0].contractionsList)"
   ],
   "outputs": [
    {
     "output_type": "stream",
     "name": "stdout",
     "text": [
      "[(<__main__.Index object at 0x11a4ebc40>, <__main__.Index object at 0x11a4eb9d0>), (<__main__.Index object at 0x11a4eb8b0>, <__main__.Index object at 0x115044190>)]\n"
     ]
    }
   ],
   "metadata": {}
  },
  {
   "cell_type": "code",
   "execution_count": 45,
   "source": [
    "class Tensor:\n",
    "    '''\n",
    "    Class for amplitude tensors of spin-free excitation operators\n",
    "    '''\n",
    "#    def __init__(self, name, lowerIndexTypesList, upperIndexTypesList, array=None):\n",
    "    def __init__(self, name, lowerIndexTypesList, upperIndexTypesList):\n",
    "        self.name = name\n",
    "        self.lowerIndexTypes = lowerIndexTypesList\n",
    "        self.upperIndexTypes = upperIndexTypesList\n",
    "        self.excitationRank = len(self.lowerIndexTypes)\n",
    "#        self.array = np.zeros(self.getShape())\n",
    "#        if array is not None:\n",
    "#            self.setArray(array)\n",
    "\n",
    "    def getShape(self, vacuum):\n",
    "        Norbs = len(vacuum)\n",
    "        Nocc = sum(vacuum)\n",
    "        shapeList = []\n",
    "        for iType in self.lowerIndexTypes:\n",
    "            if iType == 'g':\n",
    "                shapeList.append(Norbs)\n",
    "            elif iType == 'p':\n",
    "                shapeList.append(Norbs - Nocc)\n",
    "            elif iType == 'h':\n",
    "                shapeList.append(Nocc)\n",
    "            else:\n",
    "                print('Orbital index type Error')\n",
    "        for iType in self.upperIndexTypes:\n",
    "            if iType == 'g':\n",
    "                shapeList.append(Norbs)\n",
    "            elif iType == 'p':\n",
    "                shapeList.append(Norbs - Nocc)\n",
    "            elif iType == 'h':\n",
    "                shapeList.append(Nocc)\n",
    "            else:\n",
    "                print('Orbital index type Error')\n",
    "#        return tuple(shapeList)\n",
    "        self.array = np.zeros(tuple(shapeList))\n",
    "\n",
    "    def setArray(self, array):\n",
    "        if array.shape == self.array.shape:\n",
    "            self.array = array\n",
    "        else:\n",
    "            print(\"Array is of wrong shape\")\n",
    "\n",
    "    def getOperator(self):\n",
    "        return TensorProduct([self]).getOperator()\n",
    "#        operator = operatorSum([])\n",
    "#        it = np.nditer(self.array, flags=[\"multi_index\"])\n",
    "#        \n",
    "#        for i in it:\n",
    "#            indices = it.multi_index\n",
    "#            creationIndices = indices[:self.excitationRank]\n",
    "#            annihilationIndices = indices[self.excitationRank:]\n",
    "#            operator += i * spinFreeExcitation(creationIndices, annihilationIndices)\n",
    "#        return operator\n",
    "\n",
    "    def getDiagrams(self):\n",
    "        diagrams = []\n",
    "        lowerGeneralIndexCount = sum(i == 'g' for i in self.lowerIndexTypes)\n",
    "        lowerSplits = list(itertools.combinations_with_replacement(['h', 'p'], lowerGeneralIndexCount))\n",
    "        upperGeneralIndexCount = sum(i == 'g' for i in self.upperIndexTypes)\n",
    "        upperSplits = list(itertools.combinations_with_replacement(['h', 'p'], upperGeneralIndexCount))\n",
    "        for lowerSplit in lowerSplits:\n",
    "            lowerSlices = [slice(None)] * self.excitationRank\n",
    "            lowerSplitIndexTypes = list(lowerSplit)\n",
    "            lGI = 0\n",
    "            newLowerIndexTypes = copy.copy(self.lowerIndexTypes)\n",
    "            for lI in range(len(newLowerIndexTypes)):\n",
    "                if newLowerIndexTypes[lI] == 'g':\n",
    "                    newLI = lowerSplitIndexTypes[lGI]\n",
    "                    if newLI == 'h':\n",
    "                        lowerSlices[lI] = slice(None,Nocc)\n",
    "                    elif newLI == 'p':\n",
    "                        lowerSlices[lI] = slice(Nocc, None)\n",
    "                    newLowerIndexTypes[lI] = newLI\n",
    "                    lGI += 1\n",
    "            for upperSplit in upperSplits:\n",
    "                upperSlices = [slice(None)] * self.excitationRank\n",
    "                upperSplitIndexTypes = list(upperSplit)\n",
    "                uGI = 0\n",
    "                newUpperIndexTypes = copy.copy(self.upperIndexTypes)\n",
    "                for uI in range(len(newUpperIndexTypes)):\n",
    "                    if newUpperIndexTypes[uI] == 'g':\n",
    "                        newUI = upperSplitIndexTypes[uGI]\n",
    "                        if newUI == 'h':\n",
    "                            upperSlices[uI] = slice(None,Nocc)\n",
    "                        elif newUI == 'p':\n",
    "                            upperSlices[uI] = slice(Nocc, None)\n",
    "                        newUpperIndexTypes[uI] = newUI\n",
    "                        uGI += 1\n",
    "                slices = lowerSlices + upperSlices\n",
    "                print(lowerSplitIndexTypes)\n",
    "                print(upperSplitIndexTypes)\n",
    "                print(newLowerIndexTypes)\n",
    "                print(newUpperIndexTypes)\n",
    "                print(slices)\n",
    "                diagram = Tensor(self.name, newLowerIndexTypes, newUpperIndexTypes, self.array[slices])\n",
    "                diagrams.append(diagram)\n",
    "        return diagrams\n",
    "\n",
    "    def __add__(self, other):\n",
    "        if isinstance(other, Tensor):\n",
    "            return TensorSum([TensorProduct([self]), TensorProduct([other])])\n",
    "        elif other == 0:\n",
    "            return self\n",
    "        else:\n",
    "            return NotImplemented\n",
    "\n",
    "    def __radd__(self, other):\n",
    "        if other == 0:\n",
    "            return self\n",
    "        else:\n",
    "            return NotImplemented\n",
    "\n",
    "    def __mul__(self, other):\n",
    "        if isinstance(other, Tensor):\n",
    "            return TensorProduct([self, other])\n",
    "        elif isinstance(other, Number):\n",
    "            return TensorProduct([self], other)\n",
    "        else:\n",
    "            return NotImplemented\n",
    "\n",
    "    def __rmul__(self, other):\n",
    "        if isinstance(other, Number):\n",
    "            return TensorProduct([self], other)\n",
    "        else:\n",
    "            return NotImplemented\n",
    "\n",
    "    def __str__(self):\n",
    "        string = self.name + \"_{\"\n",
    "        for p in self.lowerIndexTypes:\n",
    "            string += p.__str__()\n",
    "        string += \"}^{\"\n",
    "        for q in self.upperIndexTypes:\n",
    "            string += q.__str__()\n",
    "        string += \"}\"\n",
    "        return string"
   ],
   "outputs": [],
   "metadata": {}
  },
  {
   "cell_type": "code",
   "execution_count": 46,
   "source": [
    "class Vertex:\n",
    "    '''\n",
    "    Class for amplitude tensors of spin-free excitation operators\n",
    "    '''\n",
    "    def __init__(self, tensor, lowerIndicesList, upperIndicesList):\n",
    "        self.name = tensor.name\n",
    "        self.tensor = tensor\n",
    "        self.lowerIndices = lowerIndicesList\n",
    "        self.upperIndices = upperIndicesList\n",
    "        self.excitationRank = len(self.lowerIndices)\n",
    "\n",
    "    def applyContraction(self, contraction):\n",
    "        for lowerIndex in self.lowerIndices:\n",
    "            if lowerIndex == contraction[0]:\n",
    "                lowerIndex = contraction[1]\n",
    "\n",
    "    def getOperator(self):\n",
    "        return spinFreeExcitation(self.lowerIndices, self.upperIndices)\n",
    "\n",
    "    def __copy__(self):\n",
    "        return vertex(self.tensor, self.lowerIndices, self.upperIndices)\n",
    "\n",
    "    def __str__(self):\n",
    "        string = self.name + \"_{\"\n",
    "        for p in self.lowerIndices:\n",
    "            string += p.__str__()\n",
    "        string += \"}^{\"\n",
    "        for q in self.upperIndices:\n",
    "            string += q.__str__()\n",
    "        string += \"}\"\n",
    "        return string"
   ],
   "outputs": [],
   "metadata": {}
  },
  {
   "cell_type": "code",
   "execution_count": 47,
   "source": [
    "class TensorProduct:\n",
    "    def __init__(self, tensorList, prefactor=1., vertexList=None):\n",
    "        self.tensorList = tensorList\n",
    "        self.lowerIndices = {'g':[], 'p':[], 'h':[], 'a':[]}\n",
    "        self.upperIndices = {'g':[], 'p':[], 'h':[], 'a':[]}\n",
    "        self.prefactor = prefactor\n",
    "        if vertexList is None:\n",
    "            self.vertexList = self.getVertexList(tensorList)\n",
    "\n",
    "    def applyContraction(self, contraction):\n",
    "        for vertex in self.vertexList:\n",
    "            vertex.applyContraction(contraction)\n",
    "        for orbitalType in self.lowerIndices:\n",
    "            if contraction[0] in self.lowerIndices[orbitalType]:\n",
    "                self.lowerIndices[orbitalType].remove(contraction[0])\n",
    "\n",
    "    def addNewIndex(self, orbitalType, lowerBool):\n",
    "        count = len(self.lowerIndices[orbitalType]) + len(self.upperIndices[orbitalType])\n",
    "        newIndexName = orbitalType + \"_{\" + str(count) + \"}\"\n",
    "        occupiedInVacuum = None\n",
    "        if orbitalType == \"h\" or orbitalType == \"a\":\n",
    "            occupiedInVacuum = True\n",
    "        elif orbitalType == \"p\":\n",
    "            occupiedInVacuum = False\n",
    "        newIndex = Index(newIndexName, occupiedInVacuum)\n",
    "        if lowerBool:\n",
    "            self.lowerIndices[orbitalType].append(newIndex)\n",
    "        else:\n",
    "            self.upperIndices[orbitalType].append(newIndex)\n",
    "        return newIndex\n",
    "\n",
    "    def getVertexList(self, tensorList_):\n",
    "        vertexList = []\n",
    "        for t in tensorList_:\n",
    "            lowerIndexList = []\n",
    "            for i in t.lowerIndexTypes:\n",
    "                lowerIndexList.append(self.addNewIndex(i, True))\n",
    "            upperIndexList = []\n",
    "            for i in t.upperIndexTypes:\n",
    "                upperIndexList.append(self.addNewIndex(i, False))\n",
    "            vertexList.append(Vertex(t, lowerIndexList, upperIndexList))\n",
    "        return vertexList\n",
    "\n",
    "    def getOperator(self):\n",
    "        operator = 1\n",
    "        for vertex in self.vertexList:\n",
    "            operator = operator * vertex.getOperator()\n",
    "        return operator\n",
    "\n",
    "    def getVacuumExpectationValue(self):\n",
    "        return vacuumExpectationValue(self.getOperator())\n",
    "\n",
    "    def __copy__(self):\n",
    "        return TensorProduct(copy(self.tensorList), self.prefactor)\n",
    "\n",
    "    def __add__(self, other):\n",
    "        if isinstance(other, TensorProduct):\n",
    "            return TensorSum([self, other])\n",
    "        elif isinstance(other, Tensor):\n",
    "            return TensorSum([self, TensorProduct([other])])\n",
    "        else:\n",
    "            return NotImplemented\n",
    "\n",
    "    def __radd__(self, other):\n",
    "        if isinstance(other, Tensor):\n",
    "            return TensorSum([TensorProduct([other]), self])\n",
    "        elif other == 0:\n",
    "            return self\n",
    "        else:\n",
    "            return NotImplemented\n",
    "\n",
    "    def __mul__(self, other):\n",
    "        if isinstance(other, Tensor):\n",
    "            return TensorProduct(self.tensorList + [other], self.prefactor)\n",
    "        elif isinstance(other, TensorProduct):\n",
    "            return TensorProduct(self.tensorList + other.tensorList, self.prefactor * other.prefactor)\n",
    "        elif isinstance(other, Number):\n",
    "            return TensorProduct(self.tensorList, self.prefactor * other)\n",
    "        else:\n",
    "            return NotImplemented\n",
    "\n",
    "    def __rmul__(self, other):\n",
    "        if isinstance(other, Tensor):\n",
    "            return TensorProduct([other] + self.tensorList, self.prefactor)\n",
    "        elif isinstance(other, Number):\n",
    "            return TensorProduct(self.tensorList, other * self.prefactor)\n",
    "        else:\n",
    "            return NotImplemented\n",
    "\n",
    "    def __str__(self):\n",
    "        string = str(self.prefactor)\n",
    "        if(len(self.vertexList) > 0):\n",
    "            string = string + \" * \"\n",
    "        for v in self.vertexList:\n",
    "            string += v.__str__()\n",
    "        return string"
   ],
   "outputs": [],
   "metadata": {}
  },
  {
   "cell_type": "code",
   "execution_count": 48,
   "source": [
    "class TensorSum:\n",
    "    def __init__(self, summandList):\n",
    "        self.summandList = summandList\n",
    "\n",
    "    def getOperator(self):\n",
    "        operator = 0\n",
    "        for summand in self.summandList:\n",
    "            operator = operator + summand.getOperator()\n",
    "        return operator\n",
    "\n",
    "    def __copy__(self):\n",
    "        return TensorSum(copy(self.summandList))\n",
    "\n",
    "    def __add__(self, other):\n",
    "        if isinstance(other, TensorSum):\n",
    "            return TensorSum(self.summandList + other.summandList)\n",
    "        elif isinstance(other, TensorProduct):\n",
    "            return TensorSum(self.summandList + [other])\n",
    "        elif isinstance(other, Tensor):\n",
    "            return TensorSum(self.summandList + [TensorProduct([other])])\n",
    "        else:\n",
    "            return NotImplemented\n",
    "\n",
    "    def __radd__(self, other):\n",
    "        if isinstance(other, TensorProduct):\n",
    "            return TensorSum([other] + self.summandList)\n",
    "        elif isinstance(other, Tensor):\n",
    "            return TensorSum(self.summandList + [TensorProduct([other])])\n",
    "        elif other == 0:\n",
    "            return self\n",
    "        else:\n",
    "            return NotImplemented\n",
    "\n",
    "    def __mul__(self, other):\n",
    "        if isinstance(other, Tensor) or isinstance(other, TensorProduct) or isinstance(other, TensorSum) or isinstance(other, Number):\n",
    "            return TensorSum([summand * other for summand in self.summandList])\n",
    "\n",
    "    def __rmul__(self, other):\n",
    "        if isinstance(other, Tensor) or isinstance(other, TensorProduct) or isinstance(other, TensorSum) or isinstance(other, Number):\n",
    "            return TensorSum([other * summand for summand in self.summandList])\n",
    "\n",
    "    def __str__(self):\n",
    "        if len(self.summandList) == 0:\n",
    "            return \"\"\n",
    "        string = self.summandList[0].__str__()\n",
    "        for summand in self.summandList[1:]:\n",
    "            string += \"\\n + \"\n",
    "            string += summand.__str__()\n",
    "        return string"
   ],
   "outputs": [],
   "metadata": {}
  },
  {
   "cell_type": "code",
   "execution_count": 49,
   "source": [
    "fDiagrams = [Tensor('f', ['p'], ['p']), Tensor('f', ['p'], ['h']), Tensor('f', ['h'], ['p']), Tensor('f', ['h'], ['h'])]"
   ],
   "outputs": [],
   "metadata": {}
  },
  {
   "cell_type": "code",
   "execution_count": 50,
   "source": [
    "vDiagrams = [Tensor('v', ['p', 'p'], ['p', 'p']), Tensor('v', ['h', 'h'], ['h', 'h']), Tensor('v', ['h', 'p'], ['p', 'h']), Tensor('v', ['p', 'h'], ['p', 'p']), Tensor('v', ['h', 'h'], ['h', 'p']), Tensor('v', ['p', 'p'], ['p', 'h']), Tensor('v', ['h', 'p'], ['h', 'h']), Tensor('v', ['p', 'p'], ['h', 'h']), Tensor('v', ['h', 'h'], ['p', 'p'])]"
   ],
   "outputs": [],
   "metadata": {}
  },
  {
   "cell_type": "code",
   "execution_count": 51,
   "source": [
    "t1 = Tensor('t1', ['p'], ['h'])\n",
    "t2 = Tensor('t2', ['p', 'p'], ['h', 'h'])"
   ],
   "outputs": [],
   "metadata": {}
  },
  {
   "cell_type": "code",
   "execution_count": 52,
   "source": [
    "term = vDiagrams[8] * t2\n",
    "#print(term, vacuumExpectationValue(term.getOperator()))"
   ],
   "outputs": [],
   "metadata": {}
  },
  {
   "cell_type": "code",
   "execution_count": 53,
   "source": [
    "fullContractions = vacuumExpectationValue(term.getOperator())"
   ],
   "outputs": [],
   "metadata": {}
  },
  {
   "cell_type": "code",
   "execution_count": 54,
   "source": [
    "recursiveFullContractions = recursiveVacuumExpectationValue(term.getOperator())"
   ],
   "outputs": [],
   "metadata": {}
  },
  {
   "cell_type": "code",
   "execution_count": 55,
   "source": [
    "for fC in fullContractions.summandList:\n",
    "    print(fC)"
   ],
   "outputs": [
    {
     "output_type": "stream",
     "name": "stdout",
     "text": [
      "4.0 * \\delta^{h_{0}}_{h_{2}}\\delta^{h_{1}}_{h_{3}}\\delta^{p_{2}}_{p_{0}}\\delta^{p_{3}}_{p_{1}}\n",
      "-2.0 * \\delta^{h_{0}}_{h_{2}}\\delta^{h_{1}}_{h_{3}}\\delta^{p_{3}}_{p_{0}}\\delta^{p_{2}}_{p_{1}}\n",
      "-2.0 * \\delta^{h_{0}}_{h_{3}}\\delta^{h_{1}}_{h_{2}}\\delta^{p_{2}}_{p_{0}}\\delta^{p_{3}}_{p_{1}}\n",
      "4.0 * \\delta^{h_{0}}_{h_{3}}\\delta^{h_{1}}_{h_{2}}\\delta^{p_{3}}_{p_{0}}\\delta^{p_{2}}_{p_{1}}\n"
     ]
    }
   ],
   "metadata": {}
  },
  {
   "cell_type": "code",
   "execution_count": 56,
   "source": [
    "print(fullContractions)"
   ],
   "outputs": [
    {
     "output_type": "stream",
     "name": "stdout",
     "text": [
      "4.0 * \\delta^{h_{0}}_{h_{2}}\\delta^{h_{1}}_{h_{3}}\\delta^{p_{2}}_{p_{0}}\\delta^{p_{3}}_{p_{1}}\n",
      " + -2.0 * \\delta^{h_{0}}_{h_{2}}\\delta^{h_{1}}_{h_{3}}\\delta^{p_{3}}_{p_{0}}\\delta^{p_{2}}_{p_{1}}\n",
      " + -2.0 * \\delta^{h_{0}}_{h_{3}}\\delta^{h_{1}}_{h_{2}}\\delta^{p_{2}}_{p_{0}}\\delta^{p_{3}}_{p_{1}}\n",
      " + 4.0 * \\delta^{h_{0}}_{h_{3}}\\delta^{h_{1}}_{h_{2}}\\delta^{p_{3}}_{p_{0}}\\delta^{p_{2}}_{p_{1}}\n"
     ]
    }
   ],
   "metadata": {}
  },
  {
   "cell_type": "code",
   "execution_count": 57,
   "source": [
    "print(recursiveFullContractions)"
   ],
   "outputs": [
    {
     "output_type": "stream",
     "name": "stdout",
     "text": [
      "4.0 * \\delta^{h_{0}}_{h_{2}}\\delta^{h_{1}}_{h_{3}}\\delta^{p_{2}}_{p_{0}}\\delta^{p_{3}}_{p_{1}}\n",
      " + -2.0 * \\delta^{h_{0}}_{h_{2}}\\delta^{h_{1}}_{h_{3}}\\delta^{p_{3}}_{p_{0}}\\delta^{p_{2}}_{p_{1}}\n",
      " + -2.0 * \\delta^{h_{0}}_{h_{3}}\\delta^{h_{1}}_{h_{2}}\\delta^{p_{2}}_{p_{0}}\\delta^{p_{3}}_{p_{1}}\n",
      " + 4.0 * \\delta^{h_{0}}_{h_{3}}\\delta^{h_{1}}_{h_{2}}\\delta^{p_{3}}_{p_{0}}\\delta^{p_{2}}_{p_{1}}\n"
     ]
    }
   ],
   "metadata": {}
  },
  {
   "cell_type": "code",
   "execution_count": 58,
   "source": [
    "print(term)"
   ],
   "outputs": [
    {
     "output_type": "stream",
     "name": "stdout",
     "text": [
      "1.0 * v_{h_{0}h_{1}}^{p_{0}p_{1}}t2_{p_{2}p_{3}}^{h_{2}h_{3}}\n"
     ]
    }
   ],
   "metadata": {}
  },
  {
   "cell_type": "code",
   "execution_count": 59,
   "source": [
    "contractedTerm = copy(term)"
   ],
   "outputs": [],
   "metadata": {}
  },
  {
   "cell_type": "code",
   "execution_count": 60,
   "source": [
    "top = recursiveFullContractions.summandList[0]"
   ],
   "outputs": [],
   "metadata": {}
  },
  {
   "cell_type": "code",
   "execution_count": 61,
   "source": [
    "print(top)"
   ],
   "outputs": [
    {
     "output_type": "stream",
     "name": "stdout",
     "text": [
      "4.0 * \\delta^{h_{0}}_{h_{2}}\\delta^{h_{1}}_{h_{3}}\\delta^{p_{2}}_{p_{0}}\\delta^{p_{3}}_{p_{1}}\n"
     ]
    }
   ],
   "metadata": {}
  },
  {
   "cell_type": "code",
   "execution_count": 62,
   "source": [
    "#contractedTerm.prefactor *= top.prefactor\n",
    "for v, vertex in enumerate(term.vertexList):\n",
    "    print(vertex)\n",
    "    for i, index in enumerate(vertex.lowerIndices):\n",
    "        print(index)\n",
    "        for c, contraction in enumerate(top.contractionsList):\n",
    "            print(contraction[0], contraction[1])\n",
    "            if term.vertexList[v].lowerIndices[i] == top.contractionsList[c][0]:\n",
    "                contractedTerm.vertexList[v].lowerIndices[i] = top.contractionsList[c][1]"
   ],
   "outputs": [
    {
     "output_type": "stream",
     "name": "stdout",
     "text": [
      "v_{h_{0}h_{1}}^{p_{0}p_{1}}\n",
      "h_{0}\n",
      "h_{0} h_{2}\n",
      "h_{1} h_{3}\n",
      "p_{2} p_{0}\n",
      "p_{3} p_{1}\n",
      "h_{1}\n",
      "h_{0} h_{2}\n",
      "h_{1} h_{3}\n",
      "p_{2} p_{0}\n",
      "p_{3} p_{1}\n",
      "t2_{p_{2}p_{3}}^{h_{2}h_{3}}\n",
      "p_{2}\n",
      "h_{0} h_{2}\n",
      "h_{1} h_{3}\n",
      "p_{2} p_{0}\n",
      "p_{3} p_{1}\n",
      "p_{3}\n",
      "h_{0} h_{2}\n",
      "h_{1} h_{3}\n",
      "p_{2} p_{0}\n",
      "p_{3} p_{1}\n"
     ]
    }
   ],
   "metadata": {}
  },
  {
   "cell_type": "code",
   "execution_count": 63,
   "source": [
    "print(contractedTerm)"
   ],
   "outputs": [
    {
     "output_type": "stream",
     "name": "stdout",
     "text": [
      "1.0 * v_{h_{2}h_{3}}^{p_{0}p_{1}}t2_{p_{0}p_{1}}^{h_{2}h_{3}}\n"
     ]
    }
   ],
   "metadata": {}
  },
  {
   "cell_type": "code",
   "execution_count": 64,
   "source": [
    "contractedTerm = top.prefactor * contractedTerm"
   ],
   "outputs": [],
   "metadata": {}
  },
  {
   "cell_type": "code",
   "execution_count": 65,
   "source": [
    "for c, contraction in enumerate(top.contractionsList):\n",
    "    print(contraction[0], contraction[1])\n",
    "    contractedTerm.applyContraction(contraction)"
   ],
   "outputs": [
    {
     "output_type": "stream",
     "name": "stdout",
     "text": [
      "h_{0} h_{2}\n",
      "h_{1} h_{3}\n",
      "p_{2} p_{0}\n",
      "p_{3} p_{1}\n"
     ]
    }
   ],
   "metadata": {}
  },
  {
   "cell_type": "code",
   "execution_count": 66,
   "source": [
    "print(top.contractionsList[0][0])"
   ],
   "outputs": [
    {
     "output_type": "stream",
     "name": "stdout",
     "text": [
      "h_{0}\n"
     ]
    }
   ],
   "metadata": {}
  },
  {
   "cell_type": "code",
   "execution_count": 67,
   "source": [
    "print(term.vertexList[0].lowerIndices[0] == top.contractionsList[0][0])"
   ],
   "outputs": [
    {
     "output_type": "stream",
     "name": "stdout",
     "text": [
      "True\n"
     ]
    }
   ],
   "metadata": {}
  },
  {
   "cell_type": "code",
   "execution_count": 68,
   "source": [
    "contractedTerm.vertexList[0].lowerIndices[0] = top.contractionsList[0][1]"
   ],
   "outputs": [],
   "metadata": {}
  },
  {
   "cell_type": "code",
   "execution_count": 69,
   "source": [
    "print(contractedTerm.vertexList[0].lowerIndices[0])"
   ],
   "outputs": [
    {
     "output_type": "stream",
     "name": "stdout",
     "text": [
      "h_{2}\n"
     ]
    }
   ],
   "metadata": {}
  },
  {
   "cell_type": "code",
   "execution_count": 70,
   "source": [
    "print(contractedTerm)"
   ],
   "outputs": [
    {
     "output_type": "stream",
     "name": "stdout",
     "text": [
      "4.0 * v_{h_{2}h_{1}}^{p_{0}p_{1}}t2_{p_{2}p_{3}}^{h_{2}h_{3}}\n"
     ]
    }
   ],
   "metadata": {}
  },
  {
   "cell_type": "code",
   "execution_count": 71,
   "source": [
    "contractionsList = fullContractions.summandList[0].contractionsList"
   ],
   "outputs": [],
   "metadata": {}
  },
  {
   "cell_type": "code",
   "execution_count": 72,
   "source": [
    "fullContractions.summandList[0].prefactor"
   ],
   "outputs": [
    {
     "output_type": "execute_result",
     "data": {
      "text/plain": [
       "4.0"
      ]
     },
     "metadata": {},
     "execution_count": 72
    }
   ],
   "metadata": {}
  },
  {
   "cell_type": "code",
   "execution_count": 73,
   "source": [
    "contractedTerm = copy(term) * 4"
   ],
   "outputs": [],
   "metadata": {}
  },
  {
   "cell_type": "code",
   "execution_count": 74,
   "source": [
    "contractedTerm.vertexList[0].lowerIndices"
   ],
   "outputs": [
    {
     "output_type": "execute_result",
     "data": {
      "text/plain": [
       "[<__main__.Index at 0x11a51fdc0>, <__main__.Index at 0x11a51fe20>]"
      ]
     },
     "metadata": {},
     "execution_count": 74
    }
   ],
   "metadata": {}
  },
  {
   "cell_type": "code",
   "execution_count": 75,
   "source": [
    "print(term)"
   ],
   "outputs": [
    {
     "output_type": "stream",
     "name": "stdout",
     "text": [
      "1.0 * v_{h_{0}h_{1}}^{p_{0}p_{1}}t2_{p_{2}p_{3}}^{h_{2}h_{3}}\n"
     ]
    }
   ],
   "metadata": {}
  },
  {
   "cell_type": "code",
   "execution_count": 76,
   "source": [
    "term.prefactor"
   ],
   "outputs": [
    {
     "output_type": "execute_result",
     "data": {
      "text/plain": [
       "1.0"
      ]
     },
     "metadata": {},
     "execution_count": 76
    }
   ],
   "metadata": {}
  },
  {
   "cell_type": "code",
   "execution_count": 77,
   "source": [
    "term = term * 4"
   ],
   "outputs": [],
   "metadata": {}
  },
  {
   "cell_type": "code",
   "execution_count": 78,
   "source": [
    "for vertex in contractedTerm.vertexList:\n",
    "    for i in range(len(vertex.lowerIndices)):\n",
    "        for contraction in contractionsList:\n",
    "            print(contraction[0], contraction[1])\n",
    "            if vertex.lowerIndices[i] == contraction[0]:\n",
    "                vertex.lowerIndices[i] = contraction[1]"
   ],
   "outputs": [
    {
     "output_type": "stream",
     "name": "stdout",
     "text": [
      "h_{0} h_{2}\n",
      "h_{1} h_{3}\n",
      "p_{2} p_{0}\n",
      "p_{3} p_{1}\n",
      "h_{0} h_{2}\n",
      "h_{1} h_{3}\n",
      "p_{2} p_{0}\n",
      "p_{3} p_{1}\n",
      "h_{0} h_{2}\n",
      "h_{1} h_{3}\n",
      "p_{2} p_{0}\n",
      "p_{3} p_{1}\n",
      "h_{0} h_{2}\n",
      "h_{1} h_{3}\n",
      "p_{2} p_{0}\n",
      "p_{3} p_{1}\n"
     ]
    }
   ],
   "metadata": {}
  },
  {
   "cell_type": "code",
   "execution_count": null,
   "source": [],
   "outputs": [],
   "metadata": {}
  },
  {
   "cell_type": "code",
   "execution_count": 79,
   "source": [
    "print(contractedTerm)"
   ],
   "outputs": [
    {
     "output_type": "stream",
     "name": "stdout",
     "text": [
      "4.0 * v_{h_{2}h_{3}}^{p_{0}p_{1}}t2_{p_{0}p_{1}}^{h_{2}h_{3}}\n"
     ]
    }
   ],
   "metadata": {}
  },
  {
   "cell_type": "code",
   "execution_count": 80,
   "source": [
    "del contractedTerm"
   ],
   "outputs": [],
   "metadata": {}
  },
  {
   "cell_type": "code",
   "execution_count": 81,
   "source": [
    "def evaluateWick(term):\n",
    "    '''\n",
    "    Wick's theorem applied to a term\n",
    "\n",
    "    input: term (TensorProduct)\n",
    "    output: sum of fully contracted terms (TensorSum)\n",
    "    '''\n",
    "    if isinstance(term, TensorSum):\n",
    "        return sum([evaluateWick(summand) for summand in term.summandList])\n",
    "    summandList = []\n",
    "    fullContractions = recursiveVacuumExpectationValue(term.getOperator(), speedup=True)\n",
    "    for topology in fullContractions.summandList:\n",
    "        contractionsList = topology.contractionsList\n",
    "        prefactor = topology.prefactor\n",
    "        contractedTerm = copy(term)\n",
    "        contractedTerm.prefactor *= topology.prefactor\n",
    "        for c, contraction in enumerate(contractionsList):\n",
    "            for v, vertex in reversed(list(enumerate(term.vertexList))):\n",
    "                if contraction[0] in vertex.lowerIndices:\n",
    "                    contractedTerm.vertexList[v].lowerIndices[vertex.lowerIndices.index(contraction[0])] = contraction[1]\n",
    "                    break\n",
    "                elif contraction[1] in vertex.upperIndices:\n",
    "                    contractedTerm.vertexList[v].upperIndices[vertex.upperIndices.index(contraction[1])] = contraction[0]\n",
    "                    break\n",
    "#            for i, index in enumerate(vertex.lowerIndices):\n",
    "#        for v, vertex in reversed(list(enumerate(term.vertexList))):\n",
    "#            for i, index in reversed(list(enumerate(vertex.lowerIndices))):\n",
    "#                for c, contraction in enumerate(topology.contractionsList):\n",
    "#                    if index == contraction[0]:\n",
    "#                        contractedTerm.vertexList[v].lowerIndices[i] = contraction[1]\n",
    "        summandList.append(contractedTerm)\n",
    "    return TensorSum(summandList)\n"
   ],
   "outputs": [],
   "metadata": {}
  },
  {
   "cell_type": "code",
   "execution_count": 82,
   "source": [
    "CCDEnergyTerms = sum([0.5 * d * t2 for d in vDiagrams])"
   ],
   "outputs": [],
   "metadata": {}
  },
  {
   "cell_type": "code",
   "execution_count": 83,
   "source": [
    "contractions = recursiveVacuumExpectationValue((vDiagrams[8] * t2).getOperator())"
   ],
   "outputs": [],
   "metadata": {}
  },
  {
   "cell_type": "code",
   "execution_count": 84,
   "source": [
    "print(contractions.summandList[1])"
   ],
   "outputs": [
    {
     "output_type": "stream",
     "name": "stdout",
     "text": [
      "-2.0 * \\delta^{h_{0}}_{h_{2}}\\delta^{h_{1}}_{h_{3}}\\delta^{p_{3}}_{p_{0}}\\delta^{p_{2}}_{p_{1}}\n"
     ]
    }
   ],
   "metadata": {}
  },
  {
   "cell_type": "code",
   "execution_count": 85,
   "source": [
    "for term in CCDEnergyTerms.summandList:\n",
    "    print(term)"
   ],
   "outputs": [
    {
     "output_type": "stream",
     "name": "stdout",
     "text": [
      "0.5 * v_{p_{0}p_{1}}^{p_{2}p_{3}}t2_{p_{4}p_{5}}^{h_{0}h_{1}}\n",
      "0.5 * v_{h_{0}h_{1}}^{h_{2}h_{3}}t2_{p_{0}p_{1}}^{h_{4}h_{5}}\n",
      "0.5 * v_{h_{0}p_{0}}^{p_{1}h_{1}}t2_{p_{2}p_{3}}^{h_{2}h_{3}}\n",
      "0.5 * v_{p_{0}h_{0}}^{p_{1}p_{2}}t2_{p_{3}p_{4}}^{h_{1}h_{2}}\n",
      "0.5 * v_{h_{0}h_{1}}^{h_{2}p_{0}}t2_{p_{1}p_{2}}^{h_{3}h_{4}}\n",
      "0.5 * v_{p_{0}p_{1}}^{p_{2}h_{0}}t2_{p_{3}p_{4}}^{h_{1}h_{2}}\n",
      "0.5 * v_{h_{0}p_{0}}^{h_{1}h_{2}}t2_{p_{1}p_{2}}^{h_{3}h_{4}}\n",
      "0.5 * v_{p_{0}p_{1}}^{h_{0}h_{1}}t2_{p_{2}p_{3}}^{h_{2}h_{3}}\n",
      "0.5 * v_{h_{0}h_{1}}^{p_{0}p_{1}}t2_{p_{2}p_{3}}^{h_{2}h_{3}}\n"
     ]
    }
   ],
   "metadata": {}
  },
  {
   "cell_type": "code",
   "execution_count": 86,
   "source": [
    "CCDEnergy = evaluateWick(CCDEnergyTerms)"
   ],
   "outputs": [],
   "metadata": {}
  },
  {
   "cell_type": "code",
   "execution_count": null,
   "source": [],
   "outputs": [],
   "metadata": {}
  },
  {
   "cell_type": "code",
   "execution_count": 87,
   "source": [
    "print(recursiveVacuumExpectationValue(CCDEnergyTerms.getOperator()))"
   ],
   "outputs": [
    {
     "output_type": "stream",
     "name": "stdout",
     "text": [
      "4.0 * \\delta^{h_{0}}_{h_{2}}\\delta^{h_{1}}_{h_{3}}\\delta^{p_{2}}_{p_{0}}\\delta^{p_{3}}_{p_{1}}\n",
      " + -2.0 * \\delta^{h_{0}}_{h_{2}}\\delta^{h_{1}}_{h_{3}}\\delta^{p_{3}}_{p_{0}}\\delta^{p_{2}}_{p_{1}}\n",
      " + -2.0 * \\delta^{h_{0}}_{h_{3}}\\delta^{h_{1}}_{h_{2}}\\delta^{p_{2}}_{p_{0}}\\delta^{p_{3}}_{p_{1}}\n",
      " + 4.0 * \\delta^{h_{0}}_{h_{3}}\\delta^{h_{1}}_{h_{2}}\\delta^{p_{3}}_{p_{0}}\\delta^{p_{2}}_{p_{1}}\n"
     ]
    }
   ],
   "metadata": {}
  },
  {
   "cell_type": "code",
   "execution_count": 88,
   "source": [
    "print(CCDEnergy)"
   ],
   "outputs": [
    {
     "output_type": "stream",
     "name": "stdout",
     "text": [
      "2.0 * v_{h_{0}h_{1}}^{p_{0}p_{1}}t2_{p_{0}p_{1}}^{h_{0}h_{1}}\n",
      " + -1.0 * v_{h_{0}h_{1}}^{p_{0}p_{1}}t2_{p_{1}p_{0}}^{h_{0}h_{1}}\n",
      " + -1.0 * v_{h_{0}h_{1}}^{p_{0}p_{1}}t2_{p_{0}p_{1}}^{h_{1}h_{0}}\n",
      " + 2.0 * v_{h_{0}h_{1}}^{p_{0}p_{1}}t2_{p_{1}p_{0}}^{h_{1}h_{0}}\n"
     ]
    }
   ],
   "metadata": {}
  },
  {
   "cell_type": "code",
   "execution_count": 89,
   "source": [
    "def commutator(operator1, operator2):\n",
    "    return operator1 * operator2 + (-1) * operator2 * operator1"
   ],
   "outputs": [],
   "metadata": {}
  },
  {
   "cell_type": "code",
   "execution_count": 90,
   "source": [
    "print(commutator(commutator(vDiagrams[8], t2), t2))"
   ],
   "outputs": [
    {
     "output_type": "stream",
     "name": "stdout",
     "text": [
      "1.0 * v_{h_{0}h_{1}}^{p_{0}p_{1}}t2_{p_{2}p_{3}}^{h_{2}h_{3}}t2_{p_{4}p_{5}}^{h_{4}h_{5}}\n",
      " + -1 * t2_{p_{0}p_{1}}^{h_{0}h_{1}}v_{h_{2}h_{3}}^{p_{2}p_{3}}t2_{p_{4}p_{5}}^{h_{4}h_{5}}\n",
      " + -1.0 * t2_{p_{0}p_{1}}^{h_{0}h_{1}}v_{h_{2}h_{3}}^{p_{2}p_{3}}t2_{p_{4}p_{5}}^{h_{4}h_{5}}\n",
      " + 1 * t2_{p_{0}p_{1}}^{h_{0}h_{1}}t2_{p_{2}p_{3}}^{h_{2}h_{3}}v_{h_{4}h_{5}}^{p_{4}p_{5}}\n"
     ]
    }
   ],
   "metadata": {}
  },
  {
   "cell_type": "code",
   "execution_count": 91,
   "source": [
    "def BCHSimilarityTransform(H, T, order):\n",
    "    result = H\n",
    "    for k in range(order):\n",
    "        nestedCommutator = H\n",
    "        for i in range(k + 1):\n",
    "            nestedCommutator = commutator(nestedCommutator, T)\n",
    "        result += (1 / factorial(k + 1)) * nestedCommutator\n",
    "    return result"
   ],
   "outputs": [],
   "metadata": {}
  },
  {
   "cell_type": "code",
   "execution_count": 92,
   "source": [
    "print(sum(vDiagrams))"
   ],
   "outputs": [
    {
     "output_type": "stream",
     "name": "stdout",
     "text": [
      "1.0 * v_{p_{0}p_{1}}^{p_{2}p_{3}}\n",
      " + 1.0 * v_{h_{0}h_{1}}^{h_{2}h_{3}}\n",
      " + 1.0 * v_{h_{0}p_{0}}^{p_{1}h_{1}}\n",
      " + 1.0 * v_{p_{0}h_{0}}^{p_{1}p_{2}}\n",
      " + 1.0 * v_{h_{0}h_{1}}^{h_{2}p_{0}}\n",
      " + 1.0 * v_{p_{0}p_{1}}^{p_{2}h_{0}}\n",
      " + 1.0 * v_{h_{0}p_{0}}^{h_{1}h_{2}}\n",
      " + 1.0 * v_{p_{0}p_{1}}^{h_{0}h_{1}}\n",
      " + 1.0 * v_{h_{0}h_{1}}^{p_{0}p_{1}}\n"
     ]
    }
   ],
   "metadata": {}
  },
  {
   "cell_type": "code",
   "execution_count": 93,
   "source": [
    "transformH = sum([BCHSimilarityTransform(d, (1./4.) * t2, 4) for d in fDiagrams] + [BCHSimilarityTransform((1./2.) * d, (1./4.) * t2, 4) for d in vDiagrams])"
   ],
   "outputs": [],
   "metadata": {}
  },
  {
   "cell_type": "code",
   "execution_count": 94,
   "source": [
    "print(transformH)"
   ],
   "outputs": [
    {
     "output_type": "stream",
     "name": "stdout",
     "text": [
      "0.25 * f_{p_{0}}^{p_{1}}t2_{p_{2}p_{3}}^{h_{0}h_{1}}\n",
      " + -0.25 * t2_{p_{0}p_{1}}^{h_{0}h_{1}}f_{p_{2}}^{p_{3}}\n",
      " + 1.0 * f_{p_{0}}^{p_{1}}\n",
      " + 0.03125 * f_{p_{0}}^{p_{1}}t2_{p_{2}p_{3}}^{h_{0}h_{1}}t2_{p_{4}p_{5}}^{h_{2}h_{3}}\n",
      " + -0.03125 * t2_{p_{0}p_{1}}^{h_{0}h_{1}}f_{p_{2}}^{p_{3}}t2_{p_{4}p_{5}}^{h_{2}h_{3}}\n",
      " + -0.03125 * t2_{p_{0}p_{1}}^{h_{0}h_{1}}f_{p_{2}}^{p_{3}}t2_{p_{4}p_{5}}^{h_{2}h_{3}}\n",
      " + 0.03125 * t2_{p_{0}p_{1}}^{h_{0}h_{1}}t2_{p_{2}p_{3}}^{h_{2}h_{3}}f_{p_{4}}^{p_{5}}\n",
      " + 0.0026041666666666665 * f_{p_{0}}^{p_{1}}t2_{p_{2}p_{3}}^{h_{0}h_{1}}t2_{p_{4}p_{5}}^{h_{2}h_{3}}t2_{p_{6}p_{7}}^{h_{4}h_{5}}\n",
      " + -0.0026041666666666665 * t2_{p_{0}p_{1}}^{h_{0}h_{1}}f_{p_{2}}^{p_{3}}t2_{p_{4}p_{5}}^{h_{2}h_{3}}t2_{p_{6}p_{7}}^{h_{4}h_{5}}\n",
      " + -0.0026041666666666665 * t2_{p_{0}p_{1}}^{h_{0}h_{1}}f_{p_{2}}^{p_{3}}t2_{p_{4}p_{5}}^{h_{2}h_{3}}t2_{p_{6}p_{7}}^{h_{4}h_{5}}\n",
      " + 0.0026041666666666665 * t2_{p_{0}p_{1}}^{h_{0}h_{1}}t2_{p_{2}p_{3}}^{h_{2}h_{3}}f_{p_{4}}^{p_{5}}t2_{p_{6}p_{7}}^{h_{4}h_{5}}\n",
      " + -0.0026041666666666665 * t2_{p_{0}p_{1}}^{h_{0}h_{1}}f_{p_{2}}^{p_{3}}t2_{p_{4}p_{5}}^{h_{2}h_{3}}t2_{p_{6}p_{7}}^{h_{4}h_{5}}\n",
      " + 0.0026041666666666665 * t2_{p_{0}p_{1}}^{h_{0}h_{1}}t2_{p_{2}p_{3}}^{h_{2}h_{3}}f_{p_{4}}^{p_{5}}t2_{p_{6}p_{7}}^{h_{4}h_{5}}\n",
      " + 0.0026041666666666665 * t2_{p_{0}p_{1}}^{h_{0}h_{1}}t2_{p_{2}p_{3}}^{h_{2}h_{3}}f_{p_{4}}^{p_{5}}t2_{p_{6}p_{7}}^{h_{4}h_{5}}\n",
      " + -0.0026041666666666665 * t2_{p_{0}p_{1}}^{h_{0}h_{1}}t2_{p_{2}p_{3}}^{h_{2}h_{3}}t2_{p_{4}p_{5}}^{h_{4}h_{5}}f_{p_{6}}^{p_{7}}\n",
      " + 0.00016276041666666666 * f_{p_{0}}^{p_{1}}t2_{p_{2}p_{3}}^{h_{0}h_{1}}t2_{p_{4}p_{5}}^{h_{2}h_{3}}t2_{p_{6}p_{7}}^{h_{4}h_{5}}t2_{p_{8}p_{9}}^{h_{6}h_{7}}\n",
      " + -0.00016276041666666666 * t2_{p_{0}p_{1}}^{h_{0}h_{1}}f_{p_{2}}^{p_{3}}t2_{p_{4}p_{5}}^{h_{2}h_{3}}t2_{p_{6}p_{7}}^{h_{4}h_{5}}t2_{p_{8}p_{9}}^{h_{6}h_{7}}\n",
      " + -0.00016276041666666666 * t2_{p_{0}p_{1}}^{h_{0}h_{1}}f_{p_{2}}^{p_{3}}t2_{p_{4}p_{5}}^{h_{2}h_{3}}t2_{p_{6}p_{7}}^{h_{4}h_{5}}t2_{p_{8}p_{9}}^{h_{6}h_{7}}\n",
      " + 0.00016276041666666666 * t2_{p_{0}p_{1}}^{h_{0}h_{1}}t2_{p_{2}p_{3}}^{h_{2}h_{3}}f_{p_{4}}^{p_{5}}t2_{p_{6}p_{7}}^{h_{4}h_{5}}t2_{p_{8}p_{9}}^{h_{6}h_{7}}\n",
      " + -0.00016276041666666666 * t2_{p_{0}p_{1}}^{h_{0}h_{1}}f_{p_{2}}^{p_{3}}t2_{p_{4}p_{5}}^{h_{2}h_{3}}t2_{p_{6}p_{7}}^{h_{4}h_{5}}t2_{p_{8}p_{9}}^{h_{6}h_{7}}\n",
      " + 0.00016276041666666666 * t2_{p_{0}p_{1}}^{h_{0}h_{1}}t2_{p_{2}p_{3}}^{h_{2}h_{3}}f_{p_{4}}^{p_{5}}t2_{p_{6}p_{7}}^{h_{4}h_{5}}t2_{p_{8}p_{9}}^{h_{6}h_{7}}\n",
      " + 0.00016276041666666666 * t2_{p_{0}p_{1}}^{h_{0}h_{1}}t2_{p_{2}p_{3}}^{h_{2}h_{3}}f_{p_{4}}^{p_{5}}t2_{p_{6}p_{7}}^{h_{4}h_{5}}t2_{p_{8}p_{9}}^{h_{6}h_{7}}\n",
      " + -0.00016276041666666666 * t2_{p_{0}p_{1}}^{h_{0}h_{1}}t2_{p_{2}p_{3}}^{h_{2}h_{3}}t2_{p_{4}p_{5}}^{h_{4}h_{5}}f_{p_{6}}^{p_{7}}t2_{p_{8}p_{9}}^{h_{6}h_{7}}\n",
      " + -0.00016276041666666666 * t2_{p_{0}p_{1}}^{h_{0}h_{1}}f_{p_{2}}^{p_{3}}t2_{p_{4}p_{5}}^{h_{2}h_{3}}t2_{p_{6}p_{7}}^{h_{4}h_{5}}t2_{p_{8}p_{9}}^{h_{6}h_{7}}\n",
      " + 0.00016276041666666666 * t2_{p_{0}p_{1}}^{h_{0}h_{1}}t2_{p_{2}p_{3}}^{h_{2}h_{3}}f_{p_{4}}^{p_{5}}t2_{p_{6}p_{7}}^{h_{4}h_{5}}t2_{p_{8}p_{9}}^{h_{6}h_{7}}\n",
      " + 0.00016276041666666666 * t2_{p_{0}p_{1}}^{h_{0}h_{1}}t2_{p_{2}p_{3}}^{h_{2}h_{3}}f_{p_{4}}^{p_{5}}t2_{p_{6}p_{7}}^{h_{4}h_{5}}t2_{p_{8}p_{9}}^{h_{6}h_{7}}\n",
      " + -0.00016276041666666666 * t2_{p_{0}p_{1}}^{h_{0}h_{1}}t2_{p_{2}p_{3}}^{h_{2}h_{3}}t2_{p_{4}p_{5}}^{h_{4}h_{5}}f_{p_{6}}^{p_{7}}t2_{p_{8}p_{9}}^{h_{6}h_{7}}\n",
      " + 0.00016276041666666666 * t2_{p_{0}p_{1}}^{h_{0}h_{1}}t2_{p_{2}p_{3}}^{h_{2}h_{3}}f_{p_{4}}^{p_{5}}t2_{p_{6}p_{7}}^{h_{4}h_{5}}t2_{p_{8}p_{9}}^{h_{6}h_{7}}\n",
      " + -0.00016276041666666666 * t2_{p_{0}p_{1}}^{h_{0}h_{1}}t2_{p_{2}p_{3}}^{h_{2}h_{3}}t2_{p_{4}p_{5}}^{h_{4}h_{5}}f_{p_{6}}^{p_{7}}t2_{p_{8}p_{9}}^{h_{6}h_{7}}\n",
      " + -0.00016276041666666666 * t2_{p_{0}p_{1}}^{h_{0}h_{1}}t2_{p_{2}p_{3}}^{h_{2}h_{3}}t2_{p_{4}p_{5}}^{h_{4}h_{5}}f_{p_{6}}^{p_{7}}t2_{p_{8}p_{9}}^{h_{6}h_{7}}\n",
      " + 0.00016276041666666666 * t2_{p_{0}p_{1}}^{h_{0}h_{1}}t2_{p_{2}p_{3}}^{h_{2}h_{3}}t2_{p_{4}p_{5}}^{h_{4}h_{5}}t2_{p_{6}p_{7}}^{h_{6}h_{7}}f_{p_{8}}^{p_{9}}\n",
      " + 0.25 * f_{p_{0}}^{h_{0}}t2_{p_{1}p_{2}}^{h_{1}h_{2}}\n",
      " + -0.25 * t2_{p_{0}p_{1}}^{h_{0}h_{1}}f_{p_{2}}^{h_{2}}\n",
      " + 1.0 * f_{p_{0}}^{h_{0}}\n",
      " + 0.03125 * f_{p_{0}}^{h_{0}}t2_{p_{1}p_{2}}^{h_{1}h_{2}}t2_{p_{3}p_{4}}^{h_{3}h_{4}}\n",
      " + -0.03125 * t2_{p_{0}p_{1}}^{h_{0}h_{1}}f_{p_{2}}^{h_{2}}t2_{p_{3}p_{4}}^{h_{3}h_{4}}\n",
      " + -0.03125 * t2_{p_{0}p_{1}}^{h_{0}h_{1}}f_{p_{2}}^{h_{2}}t2_{p_{3}p_{4}}^{h_{3}h_{4}}\n",
      " + 0.03125 * t2_{p_{0}p_{1}}^{h_{0}h_{1}}t2_{p_{2}p_{3}}^{h_{2}h_{3}}f_{p_{4}}^{h_{4}}\n",
      " + 0.0026041666666666665 * f_{p_{0}}^{h_{0}}t2_{p_{1}p_{2}}^{h_{1}h_{2}}t2_{p_{3}p_{4}}^{h_{3}h_{4}}t2_{p_{5}p_{6}}^{h_{5}h_{6}}\n",
      " + -0.0026041666666666665 * t2_{p_{0}p_{1}}^{h_{0}h_{1}}f_{p_{2}}^{h_{2}}t2_{p_{3}p_{4}}^{h_{3}h_{4}}t2_{p_{5}p_{6}}^{h_{5}h_{6}}\n",
      " + -0.0026041666666666665 * t2_{p_{0}p_{1}}^{h_{0}h_{1}}f_{p_{2}}^{h_{2}}t2_{p_{3}p_{4}}^{h_{3}h_{4}}t2_{p_{5}p_{6}}^{h_{5}h_{6}}\n",
      " + 0.0026041666666666665 * t2_{p_{0}p_{1}}^{h_{0}h_{1}}t2_{p_{2}p_{3}}^{h_{2}h_{3}}f_{p_{4}}^{h_{4}}t2_{p_{5}p_{6}}^{h_{5}h_{6}}\n",
      " + -0.0026041666666666665 * t2_{p_{0}p_{1}}^{h_{0}h_{1}}f_{p_{2}}^{h_{2}}t2_{p_{3}p_{4}}^{h_{3}h_{4}}t2_{p_{5}p_{6}}^{h_{5}h_{6}}\n",
      " + 0.0026041666666666665 * t2_{p_{0}p_{1}}^{h_{0}h_{1}}t2_{p_{2}p_{3}}^{h_{2}h_{3}}f_{p_{4}}^{h_{4}}t2_{p_{5}p_{6}}^{h_{5}h_{6}}\n",
      " + 0.0026041666666666665 * t2_{p_{0}p_{1}}^{h_{0}h_{1}}t2_{p_{2}p_{3}}^{h_{2}h_{3}}f_{p_{4}}^{h_{4}}t2_{p_{5}p_{6}}^{h_{5}h_{6}}\n",
      " + -0.0026041666666666665 * t2_{p_{0}p_{1}}^{h_{0}h_{1}}t2_{p_{2}p_{3}}^{h_{2}h_{3}}t2_{p_{4}p_{5}}^{h_{4}h_{5}}f_{p_{6}}^{h_{6}}\n",
      " + 0.00016276041666666666 * f_{p_{0}}^{h_{0}}t2_{p_{1}p_{2}}^{h_{1}h_{2}}t2_{p_{3}p_{4}}^{h_{3}h_{4}}t2_{p_{5}p_{6}}^{h_{5}h_{6}}t2_{p_{7}p_{8}}^{h_{7}h_{8}}\n",
      " + -0.00016276041666666666 * t2_{p_{0}p_{1}}^{h_{0}h_{1}}f_{p_{2}}^{h_{2}}t2_{p_{3}p_{4}}^{h_{3}h_{4}}t2_{p_{5}p_{6}}^{h_{5}h_{6}}t2_{p_{7}p_{8}}^{h_{7}h_{8}}\n",
      " + -0.00016276041666666666 * t2_{p_{0}p_{1}}^{h_{0}h_{1}}f_{p_{2}}^{h_{2}}t2_{p_{3}p_{4}}^{h_{3}h_{4}}t2_{p_{5}p_{6}}^{h_{5}h_{6}}t2_{p_{7}p_{8}}^{h_{7}h_{8}}\n",
      " + 0.00016276041666666666 * t2_{p_{0}p_{1}}^{h_{0}h_{1}}t2_{p_{2}p_{3}}^{h_{2}h_{3}}f_{p_{4}}^{h_{4}}t2_{p_{5}p_{6}}^{h_{5}h_{6}}t2_{p_{7}p_{8}}^{h_{7}h_{8}}\n",
      " + -0.00016276041666666666 * t2_{p_{0}p_{1}}^{h_{0}h_{1}}f_{p_{2}}^{h_{2}}t2_{p_{3}p_{4}}^{h_{3}h_{4}}t2_{p_{5}p_{6}}^{h_{5}h_{6}}t2_{p_{7}p_{8}}^{h_{7}h_{8}}\n",
      " + 0.00016276041666666666 * t2_{p_{0}p_{1}}^{h_{0}h_{1}}t2_{p_{2}p_{3}}^{h_{2}h_{3}}f_{p_{4}}^{h_{4}}t2_{p_{5}p_{6}}^{h_{5}h_{6}}t2_{p_{7}p_{8}}^{h_{7}h_{8}}\n",
      " + 0.00016276041666666666 * t2_{p_{0}p_{1}}^{h_{0}h_{1}}t2_{p_{2}p_{3}}^{h_{2}h_{3}}f_{p_{4}}^{h_{4}}t2_{p_{5}p_{6}}^{h_{5}h_{6}}t2_{p_{7}p_{8}}^{h_{7}h_{8}}\n",
      " + -0.00016276041666666666 * t2_{p_{0}p_{1}}^{h_{0}h_{1}}t2_{p_{2}p_{3}}^{h_{2}h_{3}}t2_{p_{4}p_{5}}^{h_{4}h_{5}}f_{p_{6}}^{h_{6}}t2_{p_{7}p_{8}}^{h_{7}h_{8}}\n",
      " + -0.00016276041666666666 * t2_{p_{0}p_{1}}^{h_{0}h_{1}}f_{p_{2}}^{h_{2}}t2_{p_{3}p_{4}}^{h_{3}h_{4}}t2_{p_{5}p_{6}}^{h_{5}h_{6}}t2_{p_{7}p_{8}}^{h_{7}h_{8}}\n",
      " + 0.00016276041666666666 * t2_{p_{0}p_{1}}^{h_{0}h_{1}}t2_{p_{2}p_{3}}^{h_{2}h_{3}}f_{p_{4}}^{h_{4}}t2_{p_{5}p_{6}}^{h_{5}h_{6}}t2_{p_{7}p_{8}}^{h_{7}h_{8}}\n",
      " + 0.00016276041666666666 * t2_{p_{0}p_{1}}^{h_{0}h_{1}}t2_{p_{2}p_{3}}^{h_{2}h_{3}}f_{p_{4}}^{h_{4}}t2_{p_{5}p_{6}}^{h_{5}h_{6}}t2_{p_{7}p_{8}}^{h_{7}h_{8}}\n",
      " + -0.00016276041666666666 * t2_{p_{0}p_{1}}^{h_{0}h_{1}}t2_{p_{2}p_{3}}^{h_{2}h_{3}}t2_{p_{4}p_{5}}^{h_{4}h_{5}}f_{p_{6}}^{h_{6}}t2_{p_{7}p_{8}}^{h_{7}h_{8}}\n",
      " + 0.00016276041666666666 * t2_{p_{0}p_{1}}^{h_{0}h_{1}}t2_{p_{2}p_{3}}^{h_{2}h_{3}}f_{p_{4}}^{h_{4}}t2_{p_{5}p_{6}}^{h_{5}h_{6}}t2_{p_{7}p_{8}}^{h_{7}h_{8}}\n",
      " + -0.00016276041666666666 * t2_{p_{0}p_{1}}^{h_{0}h_{1}}t2_{p_{2}p_{3}}^{h_{2}h_{3}}t2_{p_{4}p_{5}}^{h_{4}h_{5}}f_{p_{6}}^{h_{6}}t2_{p_{7}p_{8}}^{h_{7}h_{8}}\n",
      " + -0.00016276041666666666 * t2_{p_{0}p_{1}}^{h_{0}h_{1}}t2_{p_{2}p_{3}}^{h_{2}h_{3}}t2_{p_{4}p_{5}}^{h_{4}h_{5}}f_{p_{6}}^{h_{6}}t2_{p_{7}p_{8}}^{h_{7}h_{8}}\n",
      " + 0.00016276041666666666 * t2_{p_{0}p_{1}}^{h_{0}h_{1}}t2_{p_{2}p_{3}}^{h_{2}h_{3}}t2_{p_{4}p_{5}}^{h_{4}h_{5}}t2_{p_{6}p_{7}}^{h_{6}h_{7}}f_{p_{8}}^{h_{8}}\n",
      " + 0.25 * f_{h_{0}}^{p_{0}}t2_{p_{1}p_{2}}^{h_{1}h_{2}}\n",
      " + -0.25 * t2_{p_{0}p_{1}}^{h_{0}h_{1}}f_{h_{2}}^{p_{2}}\n",
      " + 1.0 * f_{h_{0}}^{p_{0}}\n",
      " + 0.03125 * f_{h_{0}}^{p_{0}}t2_{p_{1}p_{2}}^{h_{1}h_{2}}t2_{p_{3}p_{4}}^{h_{3}h_{4}}\n",
      " + -0.03125 * t2_{p_{0}p_{1}}^{h_{0}h_{1}}f_{h_{2}}^{p_{2}}t2_{p_{3}p_{4}}^{h_{3}h_{4}}\n",
      " + -0.03125 * t2_{p_{0}p_{1}}^{h_{0}h_{1}}f_{h_{2}}^{p_{2}}t2_{p_{3}p_{4}}^{h_{3}h_{4}}\n",
      " + 0.03125 * t2_{p_{0}p_{1}}^{h_{0}h_{1}}t2_{p_{2}p_{3}}^{h_{2}h_{3}}f_{h_{4}}^{p_{4}}\n",
      " + 0.0026041666666666665 * f_{h_{0}}^{p_{0}}t2_{p_{1}p_{2}}^{h_{1}h_{2}}t2_{p_{3}p_{4}}^{h_{3}h_{4}}t2_{p_{5}p_{6}}^{h_{5}h_{6}}\n",
      " + -0.0026041666666666665 * t2_{p_{0}p_{1}}^{h_{0}h_{1}}f_{h_{2}}^{p_{2}}t2_{p_{3}p_{4}}^{h_{3}h_{4}}t2_{p_{5}p_{6}}^{h_{5}h_{6}}\n",
      " + -0.0026041666666666665 * t2_{p_{0}p_{1}}^{h_{0}h_{1}}f_{h_{2}}^{p_{2}}t2_{p_{3}p_{4}}^{h_{3}h_{4}}t2_{p_{5}p_{6}}^{h_{5}h_{6}}\n",
      " + 0.0026041666666666665 * t2_{p_{0}p_{1}}^{h_{0}h_{1}}t2_{p_{2}p_{3}}^{h_{2}h_{3}}f_{h_{4}}^{p_{4}}t2_{p_{5}p_{6}}^{h_{5}h_{6}}\n",
      " + -0.0026041666666666665 * t2_{p_{0}p_{1}}^{h_{0}h_{1}}f_{h_{2}}^{p_{2}}t2_{p_{3}p_{4}}^{h_{3}h_{4}}t2_{p_{5}p_{6}}^{h_{5}h_{6}}\n",
      " + 0.0026041666666666665 * t2_{p_{0}p_{1}}^{h_{0}h_{1}}t2_{p_{2}p_{3}}^{h_{2}h_{3}}f_{h_{4}}^{p_{4}}t2_{p_{5}p_{6}}^{h_{5}h_{6}}\n",
      " + 0.0026041666666666665 * t2_{p_{0}p_{1}}^{h_{0}h_{1}}t2_{p_{2}p_{3}}^{h_{2}h_{3}}f_{h_{4}}^{p_{4}}t2_{p_{5}p_{6}}^{h_{5}h_{6}}\n",
      " + -0.0026041666666666665 * t2_{p_{0}p_{1}}^{h_{0}h_{1}}t2_{p_{2}p_{3}}^{h_{2}h_{3}}t2_{p_{4}p_{5}}^{h_{4}h_{5}}f_{h_{6}}^{p_{6}}\n",
      " + 0.00016276041666666666 * f_{h_{0}}^{p_{0}}t2_{p_{1}p_{2}}^{h_{1}h_{2}}t2_{p_{3}p_{4}}^{h_{3}h_{4}}t2_{p_{5}p_{6}}^{h_{5}h_{6}}t2_{p_{7}p_{8}}^{h_{7}h_{8}}\n",
      " + -0.00016276041666666666 * t2_{p_{0}p_{1}}^{h_{0}h_{1}}f_{h_{2}}^{p_{2}}t2_{p_{3}p_{4}}^{h_{3}h_{4}}t2_{p_{5}p_{6}}^{h_{5}h_{6}}t2_{p_{7}p_{8}}^{h_{7}h_{8}}\n",
      " + -0.00016276041666666666 * t2_{p_{0}p_{1}}^{h_{0}h_{1}}f_{h_{2}}^{p_{2}}t2_{p_{3}p_{4}}^{h_{3}h_{4}}t2_{p_{5}p_{6}}^{h_{5}h_{6}}t2_{p_{7}p_{8}}^{h_{7}h_{8}}\n",
      " + 0.00016276041666666666 * t2_{p_{0}p_{1}}^{h_{0}h_{1}}t2_{p_{2}p_{3}}^{h_{2}h_{3}}f_{h_{4}}^{p_{4}}t2_{p_{5}p_{6}}^{h_{5}h_{6}}t2_{p_{7}p_{8}}^{h_{7}h_{8}}\n",
      " + -0.00016276041666666666 * t2_{p_{0}p_{1}}^{h_{0}h_{1}}f_{h_{2}}^{p_{2}}t2_{p_{3}p_{4}}^{h_{3}h_{4}}t2_{p_{5}p_{6}}^{h_{5}h_{6}}t2_{p_{7}p_{8}}^{h_{7}h_{8}}\n",
      " + 0.00016276041666666666 * t2_{p_{0}p_{1}}^{h_{0}h_{1}}t2_{p_{2}p_{3}}^{h_{2}h_{3}}f_{h_{4}}^{p_{4}}t2_{p_{5}p_{6}}^{h_{5}h_{6}}t2_{p_{7}p_{8}}^{h_{7}h_{8}}\n",
      " + 0.00016276041666666666 * t2_{p_{0}p_{1}}^{h_{0}h_{1}}t2_{p_{2}p_{3}}^{h_{2}h_{3}}f_{h_{4}}^{p_{4}}t2_{p_{5}p_{6}}^{h_{5}h_{6}}t2_{p_{7}p_{8}}^{h_{7}h_{8}}\n",
      " + -0.00016276041666666666 * t2_{p_{0}p_{1}}^{h_{0}h_{1}}t2_{p_{2}p_{3}}^{h_{2}h_{3}}t2_{p_{4}p_{5}}^{h_{4}h_{5}}f_{h_{6}}^{p_{6}}t2_{p_{7}p_{8}}^{h_{7}h_{8}}\n",
      " + -0.00016276041666666666 * t2_{p_{0}p_{1}}^{h_{0}h_{1}}f_{h_{2}}^{p_{2}}t2_{p_{3}p_{4}}^{h_{3}h_{4}}t2_{p_{5}p_{6}}^{h_{5}h_{6}}t2_{p_{7}p_{8}}^{h_{7}h_{8}}\n",
      " + 0.00016276041666666666 * t2_{p_{0}p_{1}}^{h_{0}h_{1}}t2_{p_{2}p_{3}}^{h_{2}h_{3}}f_{h_{4}}^{p_{4}}t2_{p_{5}p_{6}}^{h_{5}h_{6}}t2_{p_{7}p_{8}}^{h_{7}h_{8}}\n",
      " + 0.00016276041666666666 * t2_{p_{0}p_{1}}^{h_{0}h_{1}}t2_{p_{2}p_{3}}^{h_{2}h_{3}}f_{h_{4}}^{p_{4}}t2_{p_{5}p_{6}}^{h_{5}h_{6}}t2_{p_{7}p_{8}}^{h_{7}h_{8}}\n",
      " + -0.00016276041666666666 * t2_{p_{0}p_{1}}^{h_{0}h_{1}}t2_{p_{2}p_{3}}^{h_{2}h_{3}}t2_{p_{4}p_{5}}^{h_{4}h_{5}}f_{h_{6}}^{p_{6}}t2_{p_{7}p_{8}}^{h_{7}h_{8}}\n",
      " + 0.00016276041666666666 * t2_{p_{0}p_{1}}^{h_{0}h_{1}}t2_{p_{2}p_{3}}^{h_{2}h_{3}}f_{h_{4}}^{p_{4}}t2_{p_{5}p_{6}}^{h_{5}h_{6}}t2_{p_{7}p_{8}}^{h_{7}h_{8}}\n",
      " + -0.00016276041666666666 * t2_{p_{0}p_{1}}^{h_{0}h_{1}}t2_{p_{2}p_{3}}^{h_{2}h_{3}}t2_{p_{4}p_{5}}^{h_{4}h_{5}}f_{h_{6}}^{p_{6}}t2_{p_{7}p_{8}}^{h_{7}h_{8}}\n",
      " + -0.00016276041666666666 * t2_{p_{0}p_{1}}^{h_{0}h_{1}}t2_{p_{2}p_{3}}^{h_{2}h_{3}}t2_{p_{4}p_{5}}^{h_{4}h_{5}}f_{h_{6}}^{p_{6}}t2_{p_{7}p_{8}}^{h_{7}h_{8}}\n",
      " + 0.00016276041666666666 * t2_{p_{0}p_{1}}^{h_{0}h_{1}}t2_{p_{2}p_{3}}^{h_{2}h_{3}}t2_{p_{4}p_{5}}^{h_{4}h_{5}}t2_{p_{6}p_{7}}^{h_{6}h_{7}}f_{h_{8}}^{p_{8}}\n",
      " + 0.25 * f_{h_{0}}^{h_{1}}t2_{p_{0}p_{1}}^{h_{2}h_{3}}\n",
      " + -0.25 * t2_{p_{0}p_{1}}^{h_{0}h_{1}}f_{h_{2}}^{h_{3}}\n",
      " + 1.0 * f_{h_{0}}^{h_{1}}\n",
      " + 0.03125 * f_{h_{0}}^{h_{1}}t2_{p_{0}p_{1}}^{h_{2}h_{3}}t2_{p_{2}p_{3}}^{h_{4}h_{5}}\n",
      " + -0.03125 * t2_{p_{0}p_{1}}^{h_{0}h_{1}}f_{h_{2}}^{h_{3}}t2_{p_{2}p_{3}}^{h_{4}h_{5}}\n",
      " + -0.03125 * t2_{p_{0}p_{1}}^{h_{0}h_{1}}f_{h_{2}}^{h_{3}}t2_{p_{2}p_{3}}^{h_{4}h_{5}}\n",
      " + 0.03125 * t2_{p_{0}p_{1}}^{h_{0}h_{1}}t2_{p_{2}p_{3}}^{h_{2}h_{3}}f_{h_{4}}^{h_{5}}\n",
      " + 0.0026041666666666665 * f_{h_{0}}^{h_{1}}t2_{p_{0}p_{1}}^{h_{2}h_{3}}t2_{p_{2}p_{3}}^{h_{4}h_{5}}t2_{p_{4}p_{5}}^{h_{6}h_{7}}\n",
      " + -0.0026041666666666665 * t2_{p_{0}p_{1}}^{h_{0}h_{1}}f_{h_{2}}^{h_{3}}t2_{p_{2}p_{3}}^{h_{4}h_{5}}t2_{p_{4}p_{5}}^{h_{6}h_{7}}\n",
      " + -0.0026041666666666665 * t2_{p_{0}p_{1}}^{h_{0}h_{1}}f_{h_{2}}^{h_{3}}t2_{p_{2}p_{3}}^{h_{4}h_{5}}t2_{p_{4}p_{5}}^{h_{6}h_{7}}\n",
      " + 0.0026041666666666665 * t2_{p_{0}p_{1}}^{h_{0}h_{1}}t2_{p_{2}p_{3}}^{h_{2}h_{3}}f_{h_{4}}^{h_{5}}t2_{p_{4}p_{5}}^{h_{6}h_{7}}\n",
      " + -0.0026041666666666665 * t2_{p_{0}p_{1}}^{h_{0}h_{1}}f_{h_{2}}^{h_{3}}t2_{p_{2}p_{3}}^{h_{4}h_{5}}t2_{p_{4}p_{5}}^{h_{6}h_{7}}\n",
      " + 0.0026041666666666665 * t2_{p_{0}p_{1}}^{h_{0}h_{1}}t2_{p_{2}p_{3}}^{h_{2}h_{3}}f_{h_{4}}^{h_{5}}t2_{p_{4}p_{5}}^{h_{6}h_{7}}\n",
      " + 0.0026041666666666665 * t2_{p_{0}p_{1}}^{h_{0}h_{1}}t2_{p_{2}p_{3}}^{h_{2}h_{3}}f_{h_{4}}^{h_{5}}t2_{p_{4}p_{5}}^{h_{6}h_{7}}\n",
      " + -0.0026041666666666665 * t2_{p_{0}p_{1}}^{h_{0}h_{1}}t2_{p_{2}p_{3}}^{h_{2}h_{3}}t2_{p_{4}p_{5}}^{h_{4}h_{5}}f_{h_{6}}^{h_{7}}\n",
      " + 0.00016276041666666666 * f_{h_{0}}^{h_{1}}t2_{p_{0}p_{1}}^{h_{2}h_{3}}t2_{p_{2}p_{3}}^{h_{4}h_{5}}t2_{p_{4}p_{5}}^{h_{6}h_{7}}t2_{p_{6}p_{7}}^{h_{8}h_{9}}\n",
      " + -0.00016276041666666666 * t2_{p_{0}p_{1}}^{h_{0}h_{1}}f_{h_{2}}^{h_{3}}t2_{p_{2}p_{3}}^{h_{4}h_{5}}t2_{p_{4}p_{5}}^{h_{6}h_{7}}t2_{p_{6}p_{7}}^{h_{8}h_{9}}\n",
      " + -0.00016276041666666666 * t2_{p_{0}p_{1}}^{h_{0}h_{1}}f_{h_{2}}^{h_{3}}t2_{p_{2}p_{3}}^{h_{4}h_{5}}t2_{p_{4}p_{5}}^{h_{6}h_{7}}t2_{p_{6}p_{7}}^{h_{8}h_{9}}\n",
      " + 0.00016276041666666666 * t2_{p_{0}p_{1}}^{h_{0}h_{1}}t2_{p_{2}p_{3}}^{h_{2}h_{3}}f_{h_{4}}^{h_{5}}t2_{p_{4}p_{5}}^{h_{6}h_{7}}t2_{p_{6}p_{7}}^{h_{8}h_{9}}\n",
      " + -0.00016276041666666666 * t2_{p_{0}p_{1}}^{h_{0}h_{1}}f_{h_{2}}^{h_{3}}t2_{p_{2}p_{3}}^{h_{4}h_{5}}t2_{p_{4}p_{5}}^{h_{6}h_{7}}t2_{p_{6}p_{7}}^{h_{8}h_{9}}\n",
      " + 0.00016276041666666666 * t2_{p_{0}p_{1}}^{h_{0}h_{1}}t2_{p_{2}p_{3}}^{h_{2}h_{3}}f_{h_{4}}^{h_{5}}t2_{p_{4}p_{5}}^{h_{6}h_{7}}t2_{p_{6}p_{7}}^{h_{8}h_{9}}\n",
      " + 0.00016276041666666666 * t2_{p_{0}p_{1}}^{h_{0}h_{1}}t2_{p_{2}p_{3}}^{h_{2}h_{3}}f_{h_{4}}^{h_{5}}t2_{p_{4}p_{5}}^{h_{6}h_{7}}t2_{p_{6}p_{7}}^{h_{8}h_{9}}\n",
      " + -0.00016276041666666666 * t2_{p_{0}p_{1}}^{h_{0}h_{1}}t2_{p_{2}p_{3}}^{h_{2}h_{3}}t2_{p_{4}p_{5}}^{h_{4}h_{5}}f_{h_{6}}^{h_{7}}t2_{p_{6}p_{7}}^{h_{8}h_{9}}\n",
      " + -0.00016276041666666666 * t2_{p_{0}p_{1}}^{h_{0}h_{1}}f_{h_{2}}^{h_{3}}t2_{p_{2}p_{3}}^{h_{4}h_{5}}t2_{p_{4}p_{5}}^{h_{6}h_{7}}t2_{p_{6}p_{7}}^{h_{8}h_{9}}\n",
      " + 0.00016276041666666666 * t2_{p_{0}p_{1}}^{h_{0}h_{1}}t2_{p_{2}p_{3}}^{h_{2}h_{3}}f_{h_{4}}^{h_{5}}t2_{p_{4}p_{5}}^{h_{6}h_{7}}t2_{p_{6}p_{7}}^{h_{8}h_{9}}\n",
      " + 0.00016276041666666666 * t2_{p_{0}p_{1}}^{h_{0}h_{1}}t2_{p_{2}p_{3}}^{h_{2}h_{3}}f_{h_{4}}^{h_{5}}t2_{p_{4}p_{5}}^{h_{6}h_{7}}t2_{p_{6}p_{7}}^{h_{8}h_{9}}\n",
      " + -0.00016276041666666666 * t2_{p_{0}p_{1}}^{h_{0}h_{1}}t2_{p_{2}p_{3}}^{h_{2}h_{3}}t2_{p_{4}p_{5}}^{h_{4}h_{5}}f_{h_{6}}^{h_{7}}t2_{p_{6}p_{7}}^{h_{8}h_{9}}\n",
      " + 0.00016276041666666666 * t2_{p_{0}p_{1}}^{h_{0}h_{1}}t2_{p_{2}p_{3}}^{h_{2}h_{3}}f_{h_{4}}^{h_{5}}t2_{p_{4}p_{5}}^{h_{6}h_{7}}t2_{p_{6}p_{7}}^{h_{8}h_{9}}\n",
      " + -0.00016276041666666666 * t2_{p_{0}p_{1}}^{h_{0}h_{1}}t2_{p_{2}p_{3}}^{h_{2}h_{3}}t2_{p_{4}p_{5}}^{h_{4}h_{5}}f_{h_{6}}^{h_{7}}t2_{p_{6}p_{7}}^{h_{8}h_{9}}\n",
      " + -0.00016276041666666666 * t2_{p_{0}p_{1}}^{h_{0}h_{1}}t2_{p_{2}p_{3}}^{h_{2}h_{3}}t2_{p_{4}p_{5}}^{h_{4}h_{5}}f_{h_{6}}^{h_{7}}t2_{p_{6}p_{7}}^{h_{8}h_{9}}\n",
      " + 0.00016276041666666666 * t2_{p_{0}p_{1}}^{h_{0}h_{1}}t2_{p_{2}p_{3}}^{h_{2}h_{3}}t2_{p_{4}p_{5}}^{h_{4}h_{5}}t2_{p_{6}p_{7}}^{h_{6}h_{7}}f_{h_{8}}^{h_{9}}\n",
      " + 0.5 * v_{p_{0}p_{1}}^{p_{2}p_{3}}\n",
      " + 0.125 * v_{p_{0}p_{1}}^{p_{2}p_{3}}t2_{p_{4}p_{5}}^{h_{0}h_{1}}\n",
      " + -0.125 * t2_{p_{0}p_{1}}^{h_{0}h_{1}}v_{p_{2}p_{3}}^{p_{4}p_{5}}\n",
      " + 0.015625 * v_{p_{0}p_{1}}^{p_{2}p_{3}}t2_{p_{4}p_{5}}^{h_{0}h_{1}}t2_{p_{6}p_{7}}^{h_{2}h_{3}}\n",
      " + -0.015625 * t2_{p_{0}p_{1}}^{h_{0}h_{1}}v_{p_{2}p_{3}}^{p_{4}p_{5}}t2_{p_{6}p_{7}}^{h_{2}h_{3}}\n",
      " + -0.015625 * t2_{p_{0}p_{1}}^{h_{0}h_{1}}v_{p_{2}p_{3}}^{p_{4}p_{5}}t2_{p_{6}p_{7}}^{h_{2}h_{3}}\n",
      " + 0.015625 * t2_{p_{0}p_{1}}^{h_{0}h_{1}}t2_{p_{2}p_{3}}^{h_{2}h_{3}}v_{p_{4}p_{5}}^{p_{6}p_{7}}\n",
      " + 0.0013020833333333333 * v_{p_{0}p_{1}}^{p_{2}p_{3}}t2_{p_{4}p_{5}}^{h_{0}h_{1}}t2_{p_{6}p_{7}}^{h_{2}h_{3}}t2_{p_{8}p_{9}}^{h_{4}h_{5}}\n",
      " + -0.0013020833333333333 * t2_{p_{0}p_{1}}^{h_{0}h_{1}}v_{p_{2}p_{3}}^{p_{4}p_{5}}t2_{p_{6}p_{7}}^{h_{2}h_{3}}t2_{p_{8}p_{9}}^{h_{4}h_{5}}\n",
      " + -0.0013020833333333333 * t2_{p_{0}p_{1}}^{h_{0}h_{1}}v_{p_{2}p_{3}}^{p_{4}p_{5}}t2_{p_{6}p_{7}}^{h_{2}h_{3}}t2_{p_{8}p_{9}}^{h_{4}h_{5}}\n",
      " + 0.0013020833333333333 * t2_{p_{0}p_{1}}^{h_{0}h_{1}}t2_{p_{2}p_{3}}^{h_{2}h_{3}}v_{p_{4}p_{5}}^{p_{6}p_{7}}t2_{p_{8}p_{9}}^{h_{4}h_{5}}\n",
      " + -0.0013020833333333333 * t2_{p_{0}p_{1}}^{h_{0}h_{1}}v_{p_{2}p_{3}}^{p_{4}p_{5}}t2_{p_{6}p_{7}}^{h_{2}h_{3}}t2_{p_{8}p_{9}}^{h_{4}h_{5}}\n",
      " + 0.0013020833333333333 * t2_{p_{0}p_{1}}^{h_{0}h_{1}}t2_{p_{2}p_{3}}^{h_{2}h_{3}}v_{p_{4}p_{5}}^{p_{6}p_{7}}t2_{p_{8}p_{9}}^{h_{4}h_{5}}\n",
      " + 0.0013020833333333333 * t2_{p_{0}p_{1}}^{h_{0}h_{1}}t2_{p_{2}p_{3}}^{h_{2}h_{3}}v_{p_{4}p_{5}}^{p_{6}p_{7}}t2_{p_{8}p_{9}}^{h_{4}h_{5}}\n",
      " + -0.0013020833333333333 * t2_{p_{0}p_{1}}^{h_{0}h_{1}}t2_{p_{2}p_{3}}^{h_{2}h_{3}}t2_{p_{4}p_{5}}^{h_{4}h_{5}}v_{p_{6}p_{7}}^{p_{8}p_{9}}\n",
      " + 8.138020833333333e-05 * v_{p_{0}p_{1}}^{p_{2}p_{3}}t2_{p_{4}p_{5}}^{h_{0}h_{1}}t2_{p_{6}p_{7}}^{h_{2}h_{3}}t2_{p_{8}p_{9}}^{h_{4}h_{5}}t2_{p_{10}p_{11}}^{h_{6}h_{7}}\n",
      " + -8.138020833333333e-05 * t2_{p_{0}p_{1}}^{h_{0}h_{1}}v_{p_{2}p_{3}}^{p_{4}p_{5}}t2_{p_{6}p_{7}}^{h_{2}h_{3}}t2_{p_{8}p_{9}}^{h_{4}h_{5}}t2_{p_{10}p_{11}}^{h_{6}h_{7}}\n",
      " + -8.138020833333333e-05 * t2_{p_{0}p_{1}}^{h_{0}h_{1}}v_{p_{2}p_{3}}^{p_{4}p_{5}}t2_{p_{6}p_{7}}^{h_{2}h_{3}}t2_{p_{8}p_{9}}^{h_{4}h_{5}}t2_{p_{10}p_{11}}^{h_{6}h_{7}}\n",
      " + 8.138020833333333e-05 * t2_{p_{0}p_{1}}^{h_{0}h_{1}}t2_{p_{2}p_{3}}^{h_{2}h_{3}}v_{p_{4}p_{5}}^{p_{6}p_{7}}t2_{p_{8}p_{9}}^{h_{4}h_{5}}t2_{p_{10}p_{11}}^{h_{6}h_{7}}\n",
      " + -8.138020833333333e-05 * t2_{p_{0}p_{1}}^{h_{0}h_{1}}v_{p_{2}p_{3}}^{p_{4}p_{5}}t2_{p_{6}p_{7}}^{h_{2}h_{3}}t2_{p_{8}p_{9}}^{h_{4}h_{5}}t2_{p_{10}p_{11}}^{h_{6}h_{7}}\n",
      " + 8.138020833333333e-05 * t2_{p_{0}p_{1}}^{h_{0}h_{1}}t2_{p_{2}p_{3}}^{h_{2}h_{3}}v_{p_{4}p_{5}}^{p_{6}p_{7}}t2_{p_{8}p_{9}}^{h_{4}h_{5}}t2_{p_{10}p_{11}}^{h_{6}h_{7}}\n",
      " + 8.138020833333333e-05 * t2_{p_{0}p_{1}}^{h_{0}h_{1}}t2_{p_{2}p_{3}}^{h_{2}h_{3}}v_{p_{4}p_{5}}^{p_{6}p_{7}}t2_{p_{8}p_{9}}^{h_{4}h_{5}}t2_{p_{10}p_{11}}^{h_{6}h_{7}}\n",
      " + -8.138020833333333e-05 * t2_{p_{0}p_{1}}^{h_{0}h_{1}}t2_{p_{2}p_{3}}^{h_{2}h_{3}}t2_{p_{4}p_{5}}^{h_{4}h_{5}}v_{p_{6}p_{7}}^{p_{8}p_{9}}t2_{p_{10}p_{11}}^{h_{6}h_{7}}\n",
      " + -8.138020833333333e-05 * t2_{p_{0}p_{1}}^{h_{0}h_{1}}v_{p_{2}p_{3}}^{p_{4}p_{5}}t2_{p_{6}p_{7}}^{h_{2}h_{3}}t2_{p_{8}p_{9}}^{h_{4}h_{5}}t2_{p_{10}p_{11}}^{h_{6}h_{7}}\n",
      " + 8.138020833333333e-05 * t2_{p_{0}p_{1}}^{h_{0}h_{1}}t2_{p_{2}p_{3}}^{h_{2}h_{3}}v_{p_{4}p_{5}}^{p_{6}p_{7}}t2_{p_{8}p_{9}}^{h_{4}h_{5}}t2_{p_{10}p_{11}}^{h_{6}h_{7}}\n",
      " + 8.138020833333333e-05 * t2_{p_{0}p_{1}}^{h_{0}h_{1}}t2_{p_{2}p_{3}}^{h_{2}h_{3}}v_{p_{4}p_{5}}^{p_{6}p_{7}}t2_{p_{8}p_{9}}^{h_{4}h_{5}}t2_{p_{10}p_{11}}^{h_{6}h_{7}}\n",
      " + -8.138020833333333e-05 * t2_{p_{0}p_{1}}^{h_{0}h_{1}}t2_{p_{2}p_{3}}^{h_{2}h_{3}}t2_{p_{4}p_{5}}^{h_{4}h_{5}}v_{p_{6}p_{7}}^{p_{8}p_{9}}t2_{p_{10}p_{11}}^{h_{6}h_{7}}\n",
      " + 8.138020833333333e-05 * t2_{p_{0}p_{1}}^{h_{0}h_{1}}t2_{p_{2}p_{3}}^{h_{2}h_{3}}v_{p_{4}p_{5}}^{p_{6}p_{7}}t2_{p_{8}p_{9}}^{h_{4}h_{5}}t2_{p_{10}p_{11}}^{h_{6}h_{7}}\n",
      " + -8.138020833333333e-05 * t2_{p_{0}p_{1}}^{h_{0}h_{1}}t2_{p_{2}p_{3}}^{h_{2}h_{3}}t2_{p_{4}p_{5}}^{h_{4}h_{5}}v_{p_{6}p_{7}}^{p_{8}p_{9}}t2_{p_{10}p_{11}}^{h_{6}h_{7}}\n",
      " + -8.138020833333333e-05 * t2_{p_{0}p_{1}}^{h_{0}h_{1}}t2_{p_{2}p_{3}}^{h_{2}h_{3}}t2_{p_{4}p_{5}}^{h_{4}h_{5}}v_{p_{6}p_{7}}^{p_{8}p_{9}}t2_{p_{10}p_{11}}^{h_{6}h_{7}}\n",
      " + 8.138020833333333e-05 * t2_{p_{0}p_{1}}^{h_{0}h_{1}}t2_{p_{2}p_{3}}^{h_{2}h_{3}}t2_{p_{4}p_{5}}^{h_{4}h_{5}}t2_{p_{6}p_{7}}^{h_{6}h_{7}}v_{p_{8}p_{9}}^{p_{10}p_{11}}\n",
      " + 0.5 * v_{h_{0}h_{1}}^{h_{2}h_{3}}\n",
      " + 0.125 * v_{h_{0}h_{1}}^{h_{2}h_{3}}t2_{p_{0}p_{1}}^{h_{4}h_{5}}\n",
      " + -0.125 * t2_{p_{0}p_{1}}^{h_{0}h_{1}}v_{h_{2}h_{3}}^{h_{4}h_{5}}\n",
      " + 0.015625 * v_{h_{0}h_{1}}^{h_{2}h_{3}}t2_{p_{0}p_{1}}^{h_{4}h_{5}}t2_{p_{2}p_{3}}^{h_{6}h_{7}}\n",
      " + -0.015625 * t2_{p_{0}p_{1}}^{h_{0}h_{1}}v_{h_{2}h_{3}}^{h_{4}h_{5}}t2_{p_{2}p_{3}}^{h_{6}h_{7}}\n",
      " + -0.015625 * t2_{p_{0}p_{1}}^{h_{0}h_{1}}v_{h_{2}h_{3}}^{h_{4}h_{5}}t2_{p_{2}p_{3}}^{h_{6}h_{7}}\n",
      " + 0.015625 * t2_{p_{0}p_{1}}^{h_{0}h_{1}}t2_{p_{2}p_{3}}^{h_{2}h_{3}}v_{h_{4}h_{5}}^{h_{6}h_{7}}\n",
      " + 0.0013020833333333333 * v_{h_{0}h_{1}}^{h_{2}h_{3}}t2_{p_{0}p_{1}}^{h_{4}h_{5}}t2_{p_{2}p_{3}}^{h_{6}h_{7}}t2_{p_{4}p_{5}}^{h_{8}h_{9}}\n",
      " + -0.0013020833333333333 * t2_{p_{0}p_{1}}^{h_{0}h_{1}}v_{h_{2}h_{3}}^{h_{4}h_{5}}t2_{p_{2}p_{3}}^{h_{6}h_{7}}t2_{p_{4}p_{5}}^{h_{8}h_{9}}\n",
      " + -0.0013020833333333333 * t2_{p_{0}p_{1}}^{h_{0}h_{1}}v_{h_{2}h_{3}}^{h_{4}h_{5}}t2_{p_{2}p_{3}}^{h_{6}h_{7}}t2_{p_{4}p_{5}}^{h_{8}h_{9}}\n",
      " + 0.0013020833333333333 * t2_{p_{0}p_{1}}^{h_{0}h_{1}}t2_{p_{2}p_{3}}^{h_{2}h_{3}}v_{h_{4}h_{5}}^{h_{6}h_{7}}t2_{p_{4}p_{5}}^{h_{8}h_{9}}\n",
      " + -0.0013020833333333333 * t2_{p_{0}p_{1}}^{h_{0}h_{1}}v_{h_{2}h_{3}}^{h_{4}h_{5}}t2_{p_{2}p_{3}}^{h_{6}h_{7}}t2_{p_{4}p_{5}}^{h_{8}h_{9}}\n",
      " + 0.0013020833333333333 * t2_{p_{0}p_{1}}^{h_{0}h_{1}}t2_{p_{2}p_{3}}^{h_{2}h_{3}}v_{h_{4}h_{5}}^{h_{6}h_{7}}t2_{p_{4}p_{5}}^{h_{8}h_{9}}\n",
      " + 0.0013020833333333333 * t2_{p_{0}p_{1}}^{h_{0}h_{1}}t2_{p_{2}p_{3}}^{h_{2}h_{3}}v_{h_{4}h_{5}}^{h_{6}h_{7}}t2_{p_{4}p_{5}}^{h_{8}h_{9}}\n",
      " + -0.0013020833333333333 * t2_{p_{0}p_{1}}^{h_{0}h_{1}}t2_{p_{2}p_{3}}^{h_{2}h_{3}}t2_{p_{4}p_{5}}^{h_{4}h_{5}}v_{h_{6}h_{7}}^{h_{8}h_{9}}\n",
      " + 8.138020833333333e-05 * v_{h_{0}h_{1}}^{h_{2}h_{3}}t2_{p_{0}p_{1}}^{h_{4}h_{5}}t2_{p_{2}p_{3}}^{h_{6}h_{7}}t2_{p_{4}p_{5}}^{h_{8}h_{9}}t2_{p_{6}p_{7}}^{h_{10}h_{11}}\n",
      " + -8.138020833333333e-05 * t2_{p_{0}p_{1}}^{h_{0}h_{1}}v_{h_{2}h_{3}}^{h_{4}h_{5}}t2_{p_{2}p_{3}}^{h_{6}h_{7}}t2_{p_{4}p_{5}}^{h_{8}h_{9}}t2_{p_{6}p_{7}}^{h_{10}h_{11}}\n",
      " + -8.138020833333333e-05 * t2_{p_{0}p_{1}}^{h_{0}h_{1}}v_{h_{2}h_{3}}^{h_{4}h_{5}}t2_{p_{2}p_{3}}^{h_{6}h_{7}}t2_{p_{4}p_{5}}^{h_{8}h_{9}}t2_{p_{6}p_{7}}^{h_{10}h_{11}}\n",
      " + 8.138020833333333e-05 * t2_{p_{0}p_{1}}^{h_{0}h_{1}}t2_{p_{2}p_{3}}^{h_{2}h_{3}}v_{h_{4}h_{5}}^{h_{6}h_{7}}t2_{p_{4}p_{5}}^{h_{8}h_{9}}t2_{p_{6}p_{7}}^{h_{10}h_{11}}\n",
      " + -8.138020833333333e-05 * t2_{p_{0}p_{1}}^{h_{0}h_{1}}v_{h_{2}h_{3}}^{h_{4}h_{5}}t2_{p_{2}p_{3}}^{h_{6}h_{7}}t2_{p_{4}p_{5}}^{h_{8}h_{9}}t2_{p_{6}p_{7}}^{h_{10}h_{11}}\n",
      " + 8.138020833333333e-05 * t2_{p_{0}p_{1}}^{h_{0}h_{1}}t2_{p_{2}p_{3}}^{h_{2}h_{3}}v_{h_{4}h_{5}}^{h_{6}h_{7}}t2_{p_{4}p_{5}}^{h_{8}h_{9}}t2_{p_{6}p_{7}}^{h_{10}h_{11}}\n",
      " + 8.138020833333333e-05 * t2_{p_{0}p_{1}}^{h_{0}h_{1}}t2_{p_{2}p_{3}}^{h_{2}h_{3}}v_{h_{4}h_{5}}^{h_{6}h_{7}}t2_{p_{4}p_{5}}^{h_{8}h_{9}}t2_{p_{6}p_{7}}^{h_{10}h_{11}}\n",
      " + -8.138020833333333e-05 * t2_{p_{0}p_{1}}^{h_{0}h_{1}}t2_{p_{2}p_{3}}^{h_{2}h_{3}}t2_{p_{4}p_{5}}^{h_{4}h_{5}}v_{h_{6}h_{7}}^{h_{8}h_{9}}t2_{p_{6}p_{7}}^{h_{10}h_{11}}\n",
      " + -8.138020833333333e-05 * t2_{p_{0}p_{1}}^{h_{0}h_{1}}v_{h_{2}h_{3}}^{h_{4}h_{5}}t2_{p_{2}p_{3}}^{h_{6}h_{7}}t2_{p_{4}p_{5}}^{h_{8}h_{9}}t2_{p_{6}p_{7}}^{h_{10}h_{11}}\n",
      " + 8.138020833333333e-05 * t2_{p_{0}p_{1}}^{h_{0}h_{1}}t2_{p_{2}p_{3}}^{h_{2}h_{3}}v_{h_{4}h_{5}}^{h_{6}h_{7}}t2_{p_{4}p_{5}}^{h_{8}h_{9}}t2_{p_{6}p_{7}}^{h_{10}h_{11}}\n",
      " + 8.138020833333333e-05 * t2_{p_{0}p_{1}}^{h_{0}h_{1}}t2_{p_{2}p_{3}}^{h_{2}h_{3}}v_{h_{4}h_{5}}^{h_{6}h_{7}}t2_{p_{4}p_{5}}^{h_{8}h_{9}}t2_{p_{6}p_{7}}^{h_{10}h_{11}}\n",
      " + -8.138020833333333e-05 * t2_{p_{0}p_{1}}^{h_{0}h_{1}}t2_{p_{2}p_{3}}^{h_{2}h_{3}}t2_{p_{4}p_{5}}^{h_{4}h_{5}}v_{h_{6}h_{7}}^{h_{8}h_{9}}t2_{p_{6}p_{7}}^{h_{10}h_{11}}\n",
      " + 8.138020833333333e-05 * t2_{p_{0}p_{1}}^{h_{0}h_{1}}t2_{p_{2}p_{3}}^{h_{2}h_{3}}v_{h_{4}h_{5}}^{h_{6}h_{7}}t2_{p_{4}p_{5}}^{h_{8}h_{9}}t2_{p_{6}p_{7}}^{h_{10}h_{11}}\n",
      " + -8.138020833333333e-05 * t2_{p_{0}p_{1}}^{h_{0}h_{1}}t2_{p_{2}p_{3}}^{h_{2}h_{3}}t2_{p_{4}p_{5}}^{h_{4}h_{5}}v_{h_{6}h_{7}}^{h_{8}h_{9}}t2_{p_{6}p_{7}}^{h_{10}h_{11}}\n",
      " + -8.138020833333333e-05 * t2_{p_{0}p_{1}}^{h_{0}h_{1}}t2_{p_{2}p_{3}}^{h_{2}h_{3}}t2_{p_{4}p_{5}}^{h_{4}h_{5}}v_{h_{6}h_{7}}^{h_{8}h_{9}}t2_{p_{6}p_{7}}^{h_{10}h_{11}}\n",
      " + 8.138020833333333e-05 * t2_{p_{0}p_{1}}^{h_{0}h_{1}}t2_{p_{2}p_{3}}^{h_{2}h_{3}}t2_{p_{4}p_{5}}^{h_{4}h_{5}}t2_{p_{6}p_{7}}^{h_{6}h_{7}}v_{h_{8}h_{9}}^{h_{10}h_{11}}\n",
      " + 0.5 * v_{h_{0}p_{0}}^{p_{1}h_{1}}\n",
      " + 0.125 * v_{h_{0}p_{0}}^{p_{1}h_{1}}t2_{p_{2}p_{3}}^{h_{2}h_{3}}\n",
      " + -0.125 * t2_{p_{0}p_{1}}^{h_{0}h_{1}}v_{h_{2}p_{2}}^{p_{3}h_{3}}\n",
      " + 0.015625 * v_{h_{0}p_{0}}^{p_{1}h_{1}}t2_{p_{2}p_{3}}^{h_{2}h_{3}}t2_{p_{4}p_{5}}^{h_{4}h_{5}}\n",
      " + -0.015625 * t2_{p_{0}p_{1}}^{h_{0}h_{1}}v_{h_{2}p_{2}}^{p_{3}h_{3}}t2_{p_{4}p_{5}}^{h_{4}h_{5}}\n",
      " + -0.015625 * t2_{p_{0}p_{1}}^{h_{0}h_{1}}v_{h_{2}p_{2}}^{p_{3}h_{3}}t2_{p_{4}p_{5}}^{h_{4}h_{5}}\n",
      " + 0.015625 * t2_{p_{0}p_{1}}^{h_{0}h_{1}}t2_{p_{2}p_{3}}^{h_{2}h_{3}}v_{h_{4}p_{4}}^{p_{5}h_{5}}\n",
      " + 0.0013020833333333333 * v_{h_{0}p_{0}}^{p_{1}h_{1}}t2_{p_{2}p_{3}}^{h_{2}h_{3}}t2_{p_{4}p_{5}}^{h_{4}h_{5}}t2_{p_{6}p_{7}}^{h_{6}h_{7}}\n",
      " + -0.0013020833333333333 * t2_{p_{0}p_{1}}^{h_{0}h_{1}}v_{h_{2}p_{2}}^{p_{3}h_{3}}t2_{p_{4}p_{5}}^{h_{4}h_{5}}t2_{p_{6}p_{7}}^{h_{6}h_{7}}\n",
      " + -0.0013020833333333333 * t2_{p_{0}p_{1}}^{h_{0}h_{1}}v_{h_{2}p_{2}}^{p_{3}h_{3}}t2_{p_{4}p_{5}}^{h_{4}h_{5}}t2_{p_{6}p_{7}}^{h_{6}h_{7}}\n",
      " + 0.0013020833333333333 * t2_{p_{0}p_{1}}^{h_{0}h_{1}}t2_{p_{2}p_{3}}^{h_{2}h_{3}}v_{h_{4}p_{4}}^{p_{5}h_{5}}t2_{p_{6}p_{7}}^{h_{6}h_{7}}\n",
      " + -0.0013020833333333333 * t2_{p_{0}p_{1}}^{h_{0}h_{1}}v_{h_{2}p_{2}}^{p_{3}h_{3}}t2_{p_{4}p_{5}}^{h_{4}h_{5}}t2_{p_{6}p_{7}}^{h_{6}h_{7}}\n",
      " + 0.0013020833333333333 * t2_{p_{0}p_{1}}^{h_{0}h_{1}}t2_{p_{2}p_{3}}^{h_{2}h_{3}}v_{h_{4}p_{4}}^{p_{5}h_{5}}t2_{p_{6}p_{7}}^{h_{6}h_{7}}\n",
      " + 0.0013020833333333333 * t2_{p_{0}p_{1}}^{h_{0}h_{1}}t2_{p_{2}p_{3}}^{h_{2}h_{3}}v_{h_{4}p_{4}}^{p_{5}h_{5}}t2_{p_{6}p_{7}}^{h_{6}h_{7}}\n",
      " + -0.0013020833333333333 * t2_{p_{0}p_{1}}^{h_{0}h_{1}}t2_{p_{2}p_{3}}^{h_{2}h_{3}}t2_{p_{4}p_{5}}^{h_{4}h_{5}}v_{h_{6}p_{6}}^{p_{7}h_{7}}\n",
      " + 8.138020833333333e-05 * v_{h_{0}p_{0}}^{p_{1}h_{1}}t2_{p_{2}p_{3}}^{h_{2}h_{3}}t2_{p_{4}p_{5}}^{h_{4}h_{5}}t2_{p_{6}p_{7}}^{h_{6}h_{7}}t2_{p_{8}p_{9}}^{h_{8}h_{9}}\n",
      " + -8.138020833333333e-05 * t2_{p_{0}p_{1}}^{h_{0}h_{1}}v_{h_{2}p_{2}}^{p_{3}h_{3}}t2_{p_{4}p_{5}}^{h_{4}h_{5}}t2_{p_{6}p_{7}}^{h_{6}h_{7}}t2_{p_{8}p_{9}}^{h_{8}h_{9}}\n",
      " + -8.138020833333333e-05 * t2_{p_{0}p_{1}}^{h_{0}h_{1}}v_{h_{2}p_{2}}^{p_{3}h_{3}}t2_{p_{4}p_{5}}^{h_{4}h_{5}}t2_{p_{6}p_{7}}^{h_{6}h_{7}}t2_{p_{8}p_{9}}^{h_{8}h_{9}}\n",
      " + 8.138020833333333e-05 * t2_{p_{0}p_{1}}^{h_{0}h_{1}}t2_{p_{2}p_{3}}^{h_{2}h_{3}}v_{h_{4}p_{4}}^{p_{5}h_{5}}t2_{p_{6}p_{7}}^{h_{6}h_{7}}t2_{p_{8}p_{9}}^{h_{8}h_{9}}\n",
      " + -8.138020833333333e-05 * t2_{p_{0}p_{1}}^{h_{0}h_{1}}v_{h_{2}p_{2}}^{p_{3}h_{3}}t2_{p_{4}p_{5}}^{h_{4}h_{5}}t2_{p_{6}p_{7}}^{h_{6}h_{7}}t2_{p_{8}p_{9}}^{h_{8}h_{9}}\n",
      " + 8.138020833333333e-05 * t2_{p_{0}p_{1}}^{h_{0}h_{1}}t2_{p_{2}p_{3}}^{h_{2}h_{3}}v_{h_{4}p_{4}}^{p_{5}h_{5}}t2_{p_{6}p_{7}}^{h_{6}h_{7}}t2_{p_{8}p_{9}}^{h_{8}h_{9}}\n",
      " + 8.138020833333333e-05 * t2_{p_{0}p_{1}}^{h_{0}h_{1}}t2_{p_{2}p_{3}}^{h_{2}h_{3}}v_{h_{4}p_{4}}^{p_{5}h_{5}}t2_{p_{6}p_{7}}^{h_{6}h_{7}}t2_{p_{8}p_{9}}^{h_{8}h_{9}}\n",
      " + -8.138020833333333e-05 * t2_{p_{0}p_{1}}^{h_{0}h_{1}}t2_{p_{2}p_{3}}^{h_{2}h_{3}}t2_{p_{4}p_{5}}^{h_{4}h_{5}}v_{h_{6}p_{6}}^{p_{7}h_{7}}t2_{p_{8}p_{9}}^{h_{8}h_{9}}\n",
      " + -8.138020833333333e-05 * t2_{p_{0}p_{1}}^{h_{0}h_{1}}v_{h_{2}p_{2}}^{p_{3}h_{3}}t2_{p_{4}p_{5}}^{h_{4}h_{5}}t2_{p_{6}p_{7}}^{h_{6}h_{7}}t2_{p_{8}p_{9}}^{h_{8}h_{9}}\n",
      " + 8.138020833333333e-05 * t2_{p_{0}p_{1}}^{h_{0}h_{1}}t2_{p_{2}p_{3}}^{h_{2}h_{3}}v_{h_{4}p_{4}}^{p_{5}h_{5}}t2_{p_{6}p_{7}}^{h_{6}h_{7}}t2_{p_{8}p_{9}}^{h_{8}h_{9}}\n",
      " + 8.138020833333333e-05 * t2_{p_{0}p_{1}}^{h_{0}h_{1}}t2_{p_{2}p_{3}}^{h_{2}h_{3}}v_{h_{4}p_{4}}^{p_{5}h_{5}}t2_{p_{6}p_{7}}^{h_{6}h_{7}}t2_{p_{8}p_{9}}^{h_{8}h_{9}}\n",
      " + -8.138020833333333e-05 * t2_{p_{0}p_{1}}^{h_{0}h_{1}}t2_{p_{2}p_{3}}^{h_{2}h_{3}}t2_{p_{4}p_{5}}^{h_{4}h_{5}}v_{h_{6}p_{6}}^{p_{7}h_{7}}t2_{p_{8}p_{9}}^{h_{8}h_{9}}\n",
      " + 8.138020833333333e-05 * t2_{p_{0}p_{1}}^{h_{0}h_{1}}t2_{p_{2}p_{3}}^{h_{2}h_{3}}v_{h_{4}p_{4}}^{p_{5}h_{5}}t2_{p_{6}p_{7}}^{h_{6}h_{7}}t2_{p_{8}p_{9}}^{h_{8}h_{9}}\n",
      " + -8.138020833333333e-05 * t2_{p_{0}p_{1}}^{h_{0}h_{1}}t2_{p_{2}p_{3}}^{h_{2}h_{3}}t2_{p_{4}p_{5}}^{h_{4}h_{5}}v_{h_{6}p_{6}}^{p_{7}h_{7}}t2_{p_{8}p_{9}}^{h_{8}h_{9}}\n",
      " + -8.138020833333333e-05 * t2_{p_{0}p_{1}}^{h_{0}h_{1}}t2_{p_{2}p_{3}}^{h_{2}h_{3}}t2_{p_{4}p_{5}}^{h_{4}h_{5}}v_{h_{6}p_{6}}^{p_{7}h_{7}}t2_{p_{8}p_{9}}^{h_{8}h_{9}}\n",
      " + 8.138020833333333e-05 * t2_{p_{0}p_{1}}^{h_{0}h_{1}}t2_{p_{2}p_{3}}^{h_{2}h_{3}}t2_{p_{4}p_{5}}^{h_{4}h_{5}}t2_{p_{6}p_{7}}^{h_{6}h_{7}}v_{h_{8}p_{8}}^{p_{9}h_{9}}\n",
      " + 0.5 * v_{p_{0}h_{0}}^{p_{1}p_{2}}\n",
      " + 0.125 * v_{p_{0}h_{0}}^{p_{1}p_{2}}t2_{p_{3}p_{4}}^{h_{1}h_{2}}\n",
      " + -0.125 * t2_{p_{0}p_{1}}^{h_{0}h_{1}}v_{p_{2}h_{2}}^{p_{3}p_{4}}\n",
      " + 0.015625 * v_{p_{0}h_{0}}^{p_{1}p_{2}}t2_{p_{3}p_{4}}^{h_{1}h_{2}}t2_{p_{5}p_{6}}^{h_{3}h_{4}}\n",
      " + -0.015625 * t2_{p_{0}p_{1}}^{h_{0}h_{1}}v_{p_{2}h_{2}}^{p_{3}p_{4}}t2_{p_{5}p_{6}}^{h_{3}h_{4}}\n",
      " + -0.015625 * t2_{p_{0}p_{1}}^{h_{0}h_{1}}v_{p_{2}h_{2}}^{p_{3}p_{4}}t2_{p_{5}p_{6}}^{h_{3}h_{4}}\n",
      " + 0.015625 * t2_{p_{0}p_{1}}^{h_{0}h_{1}}t2_{p_{2}p_{3}}^{h_{2}h_{3}}v_{p_{4}h_{4}}^{p_{5}p_{6}}\n",
      " + 0.0013020833333333333 * v_{p_{0}h_{0}}^{p_{1}p_{2}}t2_{p_{3}p_{4}}^{h_{1}h_{2}}t2_{p_{5}p_{6}}^{h_{3}h_{4}}t2_{p_{7}p_{8}}^{h_{5}h_{6}}\n",
      " + -0.0013020833333333333 * t2_{p_{0}p_{1}}^{h_{0}h_{1}}v_{p_{2}h_{2}}^{p_{3}p_{4}}t2_{p_{5}p_{6}}^{h_{3}h_{4}}t2_{p_{7}p_{8}}^{h_{5}h_{6}}\n",
      " + -0.0013020833333333333 * t2_{p_{0}p_{1}}^{h_{0}h_{1}}v_{p_{2}h_{2}}^{p_{3}p_{4}}t2_{p_{5}p_{6}}^{h_{3}h_{4}}t2_{p_{7}p_{8}}^{h_{5}h_{6}}\n",
      " + 0.0013020833333333333 * t2_{p_{0}p_{1}}^{h_{0}h_{1}}t2_{p_{2}p_{3}}^{h_{2}h_{3}}v_{p_{4}h_{4}}^{p_{5}p_{6}}t2_{p_{7}p_{8}}^{h_{5}h_{6}}\n",
      " + -0.0013020833333333333 * t2_{p_{0}p_{1}}^{h_{0}h_{1}}v_{p_{2}h_{2}}^{p_{3}p_{4}}t2_{p_{5}p_{6}}^{h_{3}h_{4}}t2_{p_{7}p_{8}}^{h_{5}h_{6}}\n",
      " + 0.0013020833333333333 * t2_{p_{0}p_{1}}^{h_{0}h_{1}}t2_{p_{2}p_{3}}^{h_{2}h_{3}}v_{p_{4}h_{4}}^{p_{5}p_{6}}t2_{p_{7}p_{8}}^{h_{5}h_{6}}\n",
      " + 0.0013020833333333333 * t2_{p_{0}p_{1}}^{h_{0}h_{1}}t2_{p_{2}p_{3}}^{h_{2}h_{3}}v_{p_{4}h_{4}}^{p_{5}p_{6}}t2_{p_{7}p_{8}}^{h_{5}h_{6}}\n",
      " + -0.0013020833333333333 * t2_{p_{0}p_{1}}^{h_{0}h_{1}}t2_{p_{2}p_{3}}^{h_{2}h_{3}}t2_{p_{4}p_{5}}^{h_{4}h_{5}}v_{p_{6}h_{6}}^{p_{7}p_{8}}\n",
      " + 8.138020833333333e-05 * v_{p_{0}h_{0}}^{p_{1}p_{2}}t2_{p_{3}p_{4}}^{h_{1}h_{2}}t2_{p_{5}p_{6}}^{h_{3}h_{4}}t2_{p_{7}p_{8}}^{h_{5}h_{6}}t2_{p_{9}p_{10}}^{h_{7}h_{8}}\n",
      " + -8.138020833333333e-05 * t2_{p_{0}p_{1}}^{h_{0}h_{1}}v_{p_{2}h_{2}}^{p_{3}p_{4}}t2_{p_{5}p_{6}}^{h_{3}h_{4}}t2_{p_{7}p_{8}}^{h_{5}h_{6}}t2_{p_{9}p_{10}}^{h_{7}h_{8}}\n",
      " + -8.138020833333333e-05 * t2_{p_{0}p_{1}}^{h_{0}h_{1}}v_{p_{2}h_{2}}^{p_{3}p_{4}}t2_{p_{5}p_{6}}^{h_{3}h_{4}}t2_{p_{7}p_{8}}^{h_{5}h_{6}}t2_{p_{9}p_{10}}^{h_{7}h_{8}}\n",
      " + 8.138020833333333e-05 * t2_{p_{0}p_{1}}^{h_{0}h_{1}}t2_{p_{2}p_{3}}^{h_{2}h_{3}}v_{p_{4}h_{4}}^{p_{5}p_{6}}t2_{p_{7}p_{8}}^{h_{5}h_{6}}t2_{p_{9}p_{10}}^{h_{7}h_{8}}\n",
      " + -8.138020833333333e-05 * t2_{p_{0}p_{1}}^{h_{0}h_{1}}v_{p_{2}h_{2}}^{p_{3}p_{4}}t2_{p_{5}p_{6}}^{h_{3}h_{4}}t2_{p_{7}p_{8}}^{h_{5}h_{6}}t2_{p_{9}p_{10}}^{h_{7}h_{8}}\n",
      " + 8.138020833333333e-05 * t2_{p_{0}p_{1}}^{h_{0}h_{1}}t2_{p_{2}p_{3}}^{h_{2}h_{3}}v_{p_{4}h_{4}}^{p_{5}p_{6}}t2_{p_{7}p_{8}}^{h_{5}h_{6}}t2_{p_{9}p_{10}}^{h_{7}h_{8}}\n",
      " + 8.138020833333333e-05 * t2_{p_{0}p_{1}}^{h_{0}h_{1}}t2_{p_{2}p_{3}}^{h_{2}h_{3}}v_{p_{4}h_{4}}^{p_{5}p_{6}}t2_{p_{7}p_{8}}^{h_{5}h_{6}}t2_{p_{9}p_{10}}^{h_{7}h_{8}}\n",
      " + -8.138020833333333e-05 * t2_{p_{0}p_{1}}^{h_{0}h_{1}}t2_{p_{2}p_{3}}^{h_{2}h_{3}}t2_{p_{4}p_{5}}^{h_{4}h_{5}}v_{p_{6}h_{6}}^{p_{7}p_{8}}t2_{p_{9}p_{10}}^{h_{7}h_{8}}\n",
      " + -8.138020833333333e-05 * t2_{p_{0}p_{1}}^{h_{0}h_{1}}v_{p_{2}h_{2}}^{p_{3}p_{4}}t2_{p_{5}p_{6}}^{h_{3}h_{4}}t2_{p_{7}p_{8}}^{h_{5}h_{6}}t2_{p_{9}p_{10}}^{h_{7}h_{8}}\n",
      " + 8.138020833333333e-05 * t2_{p_{0}p_{1}}^{h_{0}h_{1}}t2_{p_{2}p_{3}}^{h_{2}h_{3}}v_{p_{4}h_{4}}^{p_{5}p_{6}}t2_{p_{7}p_{8}}^{h_{5}h_{6}}t2_{p_{9}p_{10}}^{h_{7}h_{8}}\n",
      " + 8.138020833333333e-05 * t2_{p_{0}p_{1}}^{h_{0}h_{1}}t2_{p_{2}p_{3}}^{h_{2}h_{3}}v_{p_{4}h_{4}}^{p_{5}p_{6}}t2_{p_{7}p_{8}}^{h_{5}h_{6}}t2_{p_{9}p_{10}}^{h_{7}h_{8}}\n",
      " + -8.138020833333333e-05 * t2_{p_{0}p_{1}}^{h_{0}h_{1}}t2_{p_{2}p_{3}}^{h_{2}h_{3}}t2_{p_{4}p_{5}}^{h_{4}h_{5}}v_{p_{6}h_{6}}^{p_{7}p_{8}}t2_{p_{9}p_{10}}^{h_{7}h_{8}}\n",
      " + 8.138020833333333e-05 * t2_{p_{0}p_{1}}^{h_{0}h_{1}}t2_{p_{2}p_{3}}^{h_{2}h_{3}}v_{p_{4}h_{4}}^{p_{5}p_{6}}t2_{p_{7}p_{8}}^{h_{5}h_{6}}t2_{p_{9}p_{10}}^{h_{7}h_{8}}\n",
      " + -8.138020833333333e-05 * t2_{p_{0}p_{1}}^{h_{0}h_{1}}t2_{p_{2}p_{3}}^{h_{2}h_{3}}t2_{p_{4}p_{5}}^{h_{4}h_{5}}v_{p_{6}h_{6}}^{p_{7}p_{8}}t2_{p_{9}p_{10}}^{h_{7}h_{8}}\n",
      " + -8.138020833333333e-05 * t2_{p_{0}p_{1}}^{h_{0}h_{1}}t2_{p_{2}p_{3}}^{h_{2}h_{3}}t2_{p_{4}p_{5}}^{h_{4}h_{5}}v_{p_{6}h_{6}}^{p_{7}p_{8}}t2_{p_{9}p_{10}}^{h_{7}h_{8}}\n",
      " + 8.138020833333333e-05 * t2_{p_{0}p_{1}}^{h_{0}h_{1}}t2_{p_{2}p_{3}}^{h_{2}h_{3}}t2_{p_{4}p_{5}}^{h_{4}h_{5}}t2_{p_{6}p_{7}}^{h_{6}h_{7}}v_{p_{8}h_{8}}^{p_{9}p_{10}}\n",
      " + 0.5 * v_{h_{0}h_{1}}^{h_{2}p_{0}}\n",
      " + 0.125 * v_{h_{0}h_{1}}^{h_{2}p_{0}}t2_{p_{1}p_{2}}^{h_{3}h_{4}}\n",
      " + -0.125 * t2_{p_{0}p_{1}}^{h_{0}h_{1}}v_{h_{2}h_{3}}^{h_{4}p_{2}}\n",
      " + 0.015625 * v_{h_{0}h_{1}}^{h_{2}p_{0}}t2_{p_{1}p_{2}}^{h_{3}h_{4}}t2_{p_{3}p_{4}}^{h_{5}h_{6}}\n",
      " + -0.015625 * t2_{p_{0}p_{1}}^{h_{0}h_{1}}v_{h_{2}h_{3}}^{h_{4}p_{2}}t2_{p_{3}p_{4}}^{h_{5}h_{6}}\n",
      " + -0.015625 * t2_{p_{0}p_{1}}^{h_{0}h_{1}}v_{h_{2}h_{3}}^{h_{4}p_{2}}t2_{p_{3}p_{4}}^{h_{5}h_{6}}\n",
      " + 0.015625 * t2_{p_{0}p_{1}}^{h_{0}h_{1}}t2_{p_{2}p_{3}}^{h_{2}h_{3}}v_{h_{4}h_{5}}^{h_{6}p_{4}}\n",
      " + 0.0013020833333333333 * v_{h_{0}h_{1}}^{h_{2}p_{0}}t2_{p_{1}p_{2}}^{h_{3}h_{4}}t2_{p_{3}p_{4}}^{h_{5}h_{6}}t2_{p_{5}p_{6}}^{h_{7}h_{8}}\n",
      " + -0.0013020833333333333 * t2_{p_{0}p_{1}}^{h_{0}h_{1}}v_{h_{2}h_{3}}^{h_{4}p_{2}}t2_{p_{3}p_{4}}^{h_{5}h_{6}}t2_{p_{5}p_{6}}^{h_{7}h_{8}}\n",
      " + -0.0013020833333333333 * t2_{p_{0}p_{1}}^{h_{0}h_{1}}v_{h_{2}h_{3}}^{h_{4}p_{2}}t2_{p_{3}p_{4}}^{h_{5}h_{6}}t2_{p_{5}p_{6}}^{h_{7}h_{8}}\n",
      " + 0.0013020833333333333 * t2_{p_{0}p_{1}}^{h_{0}h_{1}}t2_{p_{2}p_{3}}^{h_{2}h_{3}}v_{h_{4}h_{5}}^{h_{6}p_{4}}t2_{p_{5}p_{6}}^{h_{7}h_{8}}\n",
      " + -0.0013020833333333333 * t2_{p_{0}p_{1}}^{h_{0}h_{1}}v_{h_{2}h_{3}}^{h_{4}p_{2}}t2_{p_{3}p_{4}}^{h_{5}h_{6}}t2_{p_{5}p_{6}}^{h_{7}h_{8}}\n",
      " + 0.0013020833333333333 * t2_{p_{0}p_{1}}^{h_{0}h_{1}}t2_{p_{2}p_{3}}^{h_{2}h_{3}}v_{h_{4}h_{5}}^{h_{6}p_{4}}t2_{p_{5}p_{6}}^{h_{7}h_{8}}\n",
      " + 0.0013020833333333333 * t2_{p_{0}p_{1}}^{h_{0}h_{1}}t2_{p_{2}p_{3}}^{h_{2}h_{3}}v_{h_{4}h_{5}}^{h_{6}p_{4}}t2_{p_{5}p_{6}}^{h_{7}h_{8}}\n",
      " + -0.0013020833333333333 * t2_{p_{0}p_{1}}^{h_{0}h_{1}}t2_{p_{2}p_{3}}^{h_{2}h_{3}}t2_{p_{4}p_{5}}^{h_{4}h_{5}}v_{h_{6}h_{7}}^{h_{8}p_{6}}\n",
      " + 8.138020833333333e-05 * v_{h_{0}h_{1}}^{h_{2}p_{0}}t2_{p_{1}p_{2}}^{h_{3}h_{4}}t2_{p_{3}p_{4}}^{h_{5}h_{6}}t2_{p_{5}p_{6}}^{h_{7}h_{8}}t2_{p_{7}p_{8}}^{h_{9}h_{10}}\n",
      " + -8.138020833333333e-05 * t2_{p_{0}p_{1}}^{h_{0}h_{1}}v_{h_{2}h_{3}}^{h_{4}p_{2}}t2_{p_{3}p_{4}}^{h_{5}h_{6}}t2_{p_{5}p_{6}}^{h_{7}h_{8}}t2_{p_{7}p_{8}}^{h_{9}h_{10}}\n",
      " + -8.138020833333333e-05 * t2_{p_{0}p_{1}}^{h_{0}h_{1}}v_{h_{2}h_{3}}^{h_{4}p_{2}}t2_{p_{3}p_{4}}^{h_{5}h_{6}}t2_{p_{5}p_{6}}^{h_{7}h_{8}}t2_{p_{7}p_{8}}^{h_{9}h_{10}}\n",
      " + 8.138020833333333e-05 * t2_{p_{0}p_{1}}^{h_{0}h_{1}}t2_{p_{2}p_{3}}^{h_{2}h_{3}}v_{h_{4}h_{5}}^{h_{6}p_{4}}t2_{p_{5}p_{6}}^{h_{7}h_{8}}t2_{p_{7}p_{8}}^{h_{9}h_{10}}\n",
      " + -8.138020833333333e-05 * t2_{p_{0}p_{1}}^{h_{0}h_{1}}v_{h_{2}h_{3}}^{h_{4}p_{2}}t2_{p_{3}p_{4}}^{h_{5}h_{6}}t2_{p_{5}p_{6}}^{h_{7}h_{8}}t2_{p_{7}p_{8}}^{h_{9}h_{10}}\n",
      " + 8.138020833333333e-05 * t2_{p_{0}p_{1}}^{h_{0}h_{1}}t2_{p_{2}p_{3}}^{h_{2}h_{3}}v_{h_{4}h_{5}}^{h_{6}p_{4}}t2_{p_{5}p_{6}}^{h_{7}h_{8}}t2_{p_{7}p_{8}}^{h_{9}h_{10}}\n",
      " + 8.138020833333333e-05 * t2_{p_{0}p_{1}}^{h_{0}h_{1}}t2_{p_{2}p_{3}}^{h_{2}h_{3}}v_{h_{4}h_{5}}^{h_{6}p_{4}}t2_{p_{5}p_{6}}^{h_{7}h_{8}}t2_{p_{7}p_{8}}^{h_{9}h_{10}}\n",
      " + -8.138020833333333e-05 * t2_{p_{0}p_{1}}^{h_{0}h_{1}}t2_{p_{2}p_{3}}^{h_{2}h_{3}}t2_{p_{4}p_{5}}^{h_{4}h_{5}}v_{h_{6}h_{7}}^{h_{8}p_{6}}t2_{p_{7}p_{8}}^{h_{9}h_{10}}\n",
      " + -8.138020833333333e-05 * t2_{p_{0}p_{1}}^{h_{0}h_{1}}v_{h_{2}h_{3}}^{h_{4}p_{2}}t2_{p_{3}p_{4}}^{h_{5}h_{6}}t2_{p_{5}p_{6}}^{h_{7}h_{8}}t2_{p_{7}p_{8}}^{h_{9}h_{10}}\n",
      " + 8.138020833333333e-05 * t2_{p_{0}p_{1}}^{h_{0}h_{1}}t2_{p_{2}p_{3}}^{h_{2}h_{3}}v_{h_{4}h_{5}}^{h_{6}p_{4}}t2_{p_{5}p_{6}}^{h_{7}h_{8}}t2_{p_{7}p_{8}}^{h_{9}h_{10}}\n",
      " + 8.138020833333333e-05 * t2_{p_{0}p_{1}}^{h_{0}h_{1}}t2_{p_{2}p_{3}}^{h_{2}h_{3}}v_{h_{4}h_{5}}^{h_{6}p_{4}}t2_{p_{5}p_{6}}^{h_{7}h_{8}}t2_{p_{7}p_{8}}^{h_{9}h_{10}}\n",
      " + -8.138020833333333e-05 * t2_{p_{0}p_{1}}^{h_{0}h_{1}}t2_{p_{2}p_{3}}^{h_{2}h_{3}}t2_{p_{4}p_{5}}^{h_{4}h_{5}}v_{h_{6}h_{7}}^{h_{8}p_{6}}t2_{p_{7}p_{8}}^{h_{9}h_{10}}\n",
      " + 8.138020833333333e-05 * t2_{p_{0}p_{1}}^{h_{0}h_{1}}t2_{p_{2}p_{3}}^{h_{2}h_{3}}v_{h_{4}h_{5}}^{h_{6}p_{4}}t2_{p_{5}p_{6}}^{h_{7}h_{8}}t2_{p_{7}p_{8}}^{h_{9}h_{10}}\n",
      " + -8.138020833333333e-05 * t2_{p_{0}p_{1}}^{h_{0}h_{1}}t2_{p_{2}p_{3}}^{h_{2}h_{3}}t2_{p_{4}p_{5}}^{h_{4}h_{5}}v_{h_{6}h_{7}}^{h_{8}p_{6}}t2_{p_{7}p_{8}}^{h_{9}h_{10}}\n",
      " + -8.138020833333333e-05 * t2_{p_{0}p_{1}}^{h_{0}h_{1}}t2_{p_{2}p_{3}}^{h_{2}h_{3}}t2_{p_{4}p_{5}}^{h_{4}h_{5}}v_{h_{6}h_{7}}^{h_{8}p_{6}}t2_{p_{7}p_{8}}^{h_{9}h_{10}}\n",
      " + 8.138020833333333e-05 * t2_{p_{0}p_{1}}^{h_{0}h_{1}}t2_{p_{2}p_{3}}^{h_{2}h_{3}}t2_{p_{4}p_{5}}^{h_{4}h_{5}}t2_{p_{6}p_{7}}^{h_{6}h_{7}}v_{h_{8}h_{9}}^{h_{10}p_{8}}\n",
      " + 0.5 * v_{p_{0}p_{1}}^{p_{2}h_{0}}\n",
      " + 0.125 * v_{p_{0}p_{1}}^{p_{2}h_{0}}t2_{p_{3}p_{4}}^{h_{1}h_{2}}\n",
      " + -0.125 * t2_{p_{0}p_{1}}^{h_{0}h_{1}}v_{p_{2}p_{3}}^{p_{4}h_{2}}\n",
      " + 0.015625 * v_{p_{0}p_{1}}^{p_{2}h_{0}}t2_{p_{3}p_{4}}^{h_{1}h_{2}}t2_{p_{5}p_{6}}^{h_{3}h_{4}}\n",
      " + -0.015625 * t2_{p_{0}p_{1}}^{h_{0}h_{1}}v_{p_{2}p_{3}}^{p_{4}h_{2}}t2_{p_{5}p_{6}}^{h_{3}h_{4}}\n",
      " + -0.015625 * t2_{p_{0}p_{1}}^{h_{0}h_{1}}v_{p_{2}p_{3}}^{p_{4}h_{2}}t2_{p_{5}p_{6}}^{h_{3}h_{4}}\n",
      " + 0.015625 * t2_{p_{0}p_{1}}^{h_{0}h_{1}}t2_{p_{2}p_{3}}^{h_{2}h_{3}}v_{p_{4}p_{5}}^{p_{6}h_{4}}\n",
      " + 0.0013020833333333333 * v_{p_{0}p_{1}}^{p_{2}h_{0}}t2_{p_{3}p_{4}}^{h_{1}h_{2}}t2_{p_{5}p_{6}}^{h_{3}h_{4}}t2_{p_{7}p_{8}}^{h_{5}h_{6}}\n",
      " + -0.0013020833333333333 * t2_{p_{0}p_{1}}^{h_{0}h_{1}}v_{p_{2}p_{3}}^{p_{4}h_{2}}t2_{p_{5}p_{6}}^{h_{3}h_{4}}t2_{p_{7}p_{8}}^{h_{5}h_{6}}\n",
      " + -0.0013020833333333333 * t2_{p_{0}p_{1}}^{h_{0}h_{1}}v_{p_{2}p_{3}}^{p_{4}h_{2}}t2_{p_{5}p_{6}}^{h_{3}h_{4}}t2_{p_{7}p_{8}}^{h_{5}h_{6}}\n",
      " + 0.0013020833333333333 * t2_{p_{0}p_{1}}^{h_{0}h_{1}}t2_{p_{2}p_{3}}^{h_{2}h_{3}}v_{p_{4}p_{5}}^{p_{6}h_{4}}t2_{p_{7}p_{8}}^{h_{5}h_{6}}\n",
      " + -0.0013020833333333333 * t2_{p_{0}p_{1}}^{h_{0}h_{1}}v_{p_{2}p_{3}}^{p_{4}h_{2}}t2_{p_{5}p_{6}}^{h_{3}h_{4}}t2_{p_{7}p_{8}}^{h_{5}h_{6}}\n",
      " + 0.0013020833333333333 * t2_{p_{0}p_{1}}^{h_{0}h_{1}}t2_{p_{2}p_{3}}^{h_{2}h_{3}}v_{p_{4}p_{5}}^{p_{6}h_{4}}t2_{p_{7}p_{8}}^{h_{5}h_{6}}\n",
      " + 0.0013020833333333333 * t2_{p_{0}p_{1}}^{h_{0}h_{1}}t2_{p_{2}p_{3}}^{h_{2}h_{3}}v_{p_{4}p_{5}}^{p_{6}h_{4}}t2_{p_{7}p_{8}}^{h_{5}h_{6}}\n",
      " + -0.0013020833333333333 * t2_{p_{0}p_{1}}^{h_{0}h_{1}}t2_{p_{2}p_{3}}^{h_{2}h_{3}}t2_{p_{4}p_{5}}^{h_{4}h_{5}}v_{p_{6}p_{7}}^{p_{8}h_{6}}\n",
      " + 8.138020833333333e-05 * v_{p_{0}p_{1}}^{p_{2}h_{0}}t2_{p_{3}p_{4}}^{h_{1}h_{2}}t2_{p_{5}p_{6}}^{h_{3}h_{4}}t2_{p_{7}p_{8}}^{h_{5}h_{6}}t2_{p_{9}p_{10}}^{h_{7}h_{8}}\n",
      " + -8.138020833333333e-05 * t2_{p_{0}p_{1}}^{h_{0}h_{1}}v_{p_{2}p_{3}}^{p_{4}h_{2}}t2_{p_{5}p_{6}}^{h_{3}h_{4}}t2_{p_{7}p_{8}}^{h_{5}h_{6}}t2_{p_{9}p_{10}}^{h_{7}h_{8}}\n",
      " + -8.138020833333333e-05 * t2_{p_{0}p_{1}}^{h_{0}h_{1}}v_{p_{2}p_{3}}^{p_{4}h_{2}}t2_{p_{5}p_{6}}^{h_{3}h_{4}}t2_{p_{7}p_{8}}^{h_{5}h_{6}}t2_{p_{9}p_{10}}^{h_{7}h_{8}}\n",
      " + 8.138020833333333e-05 * t2_{p_{0}p_{1}}^{h_{0}h_{1}}t2_{p_{2}p_{3}}^{h_{2}h_{3}}v_{p_{4}p_{5}}^{p_{6}h_{4}}t2_{p_{7}p_{8}}^{h_{5}h_{6}}t2_{p_{9}p_{10}}^{h_{7}h_{8}}\n",
      " + -8.138020833333333e-05 * t2_{p_{0}p_{1}}^{h_{0}h_{1}}v_{p_{2}p_{3}}^{p_{4}h_{2}}t2_{p_{5}p_{6}}^{h_{3}h_{4}}t2_{p_{7}p_{8}}^{h_{5}h_{6}}t2_{p_{9}p_{10}}^{h_{7}h_{8}}\n",
      " + 8.138020833333333e-05 * t2_{p_{0}p_{1}}^{h_{0}h_{1}}t2_{p_{2}p_{3}}^{h_{2}h_{3}}v_{p_{4}p_{5}}^{p_{6}h_{4}}t2_{p_{7}p_{8}}^{h_{5}h_{6}}t2_{p_{9}p_{10}}^{h_{7}h_{8}}\n",
      " + 8.138020833333333e-05 * t2_{p_{0}p_{1}}^{h_{0}h_{1}}t2_{p_{2}p_{3}}^{h_{2}h_{3}}v_{p_{4}p_{5}}^{p_{6}h_{4}}t2_{p_{7}p_{8}}^{h_{5}h_{6}}t2_{p_{9}p_{10}}^{h_{7}h_{8}}\n",
      " + -8.138020833333333e-05 * t2_{p_{0}p_{1}}^{h_{0}h_{1}}t2_{p_{2}p_{3}}^{h_{2}h_{3}}t2_{p_{4}p_{5}}^{h_{4}h_{5}}v_{p_{6}p_{7}}^{p_{8}h_{6}}t2_{p_{9}p_{10}}^{h_{7}h_{8}}\n",
      " + -8.138020833333333e-05 * t2_{p_{0}p_{1}}^{h_{0}h_{1}}v_{p_{2}p_{3}}^{p_{4}h_{2}}t2_{p_{5}p_{6}}^{h_{3}h_{4}}t2_{p_{7}p_{8}}^{h_{5}h_{6}}t2_{p_{9}p_{10}}^{h_{7}h_{8}}\n",
      " + 8.138020833333333e-05 * t2_{p_{0}p_{1}}^{h_{0}h_{1}}t2_{p_{2}p_{3}}^{h_{2}h_{3}}v_{p_{4}p_{5}}^{p_{6}h_{4}}t2_{p_{7}p_{8}}^{h_{5}h_{6}}t2_{p_{9}p_{10}}^{h_{7}h_{8}}\n",
      " + 8.138020833333333e-05 * t2_{p_{0}p_{1}}^{h_{0}h_{1}}t2_{p_{2}p_{3}}^{h_{2}h_{3}}v_{p_{4}p_{5}}^{p_{6}h_{4}}t2_{p_{7}p_{8}}^{h_{5}h_{6}}t2_{p_{9}p_{10}}^{h_{7}h_{8}}\n",
      " + -8.138020833333333e-05 * t2_{p_{0}p_{1}}^{h_{0}h_{1}}t2_{p_{2}p_{3}}^{h_{2}h_{3}}t2_{p_{4}p_{5}}^{h_{4}h_{5}}v_{p_{6}p_{7}}^{p_{8}h_{6}}t2_{p_{9}p_{10}}^{h_{7}h_{8}}\n",
      " + 8.138020833333333e-05 * t2_{p_{0}p_{1}}^{h_{0}h_{1}}t2_{p_{2}p_{3}}^{h_{2}h_{3}}v_{p_{4}p_{5}}^{p_{6}h_{4}}t2_{p_{7}p_{8}}^{h_{5}h_{6}}t2_{p_{9}p_{10}}^{h_{7}h_{8}}\n",
      " + -8.138020833333333e-05 * t2_{p_{0}p_{1}}^{h_{0}h_{1}}t2_{p_{2}p_{3}}^{h_{2}h_{3}}t2_{p_{4}p_{5}}^{h_{4}h_{5}}v_{p_{6}p_{7}}^{p_{8}h_{6}}t2_{p_{9}p_{10}}^{h_{7}h_{8}}\n",
      " + -8.138020833333333e-05 * t2_{p_{0}p_{1}}^{h_{0}h_{1}}t2_{p_{2}p_{3}}^{h_{2}h_{3}}t2_{p_{4}p_{5}}^{h_{4}h_{5}}v_{p_{6}p_{7}}^{p_{8}h_{6}}t2_{p_{9}p_{10}}^{h_{7}h_{8}}\n",
      " + 8.138020833333333e-05 * t2_{p_{0}p_{1}}^{h_{0}h_{1}}t2_{p_{2}p_{3}}^{h_{2}h_{3}}t2_{p_{4}p_{5}}^{h_{4}h_{5}}t2_{p_{6}p_{7}}^{h_{6}h_{7}}v_{p_{8}p_{9}}^{p_{10}h_{8}}\n",
      " + 0.5 * v_{h_{0}p_{0}}^{h_{1}h_{2}}\n",
      " + 0.125 * v_{h_{0}p_{0}}^{h_{1}h_{2}}t2_{p_{1}p_{2}}^{h_{3}h_{4}}\n",
      " + -0.125 * t2_{p_{0}p_{1}}^{h_{0}h_{1}}v_{h_{2}p_{2}}^{h_{3}h_{4}}\n",
      " + 0.015625 * v_{h_{0}p_{0}}^{h_{1}h_{2}}t2_{p_{1}p_{2}}^{h_{3}h_{4}}t2_{p_{3}p_{4}}^{h_{5}h_{6}}\n",
      " + -0.015625 * t2_{p_{0}p_{1}}^{h_{0}h_{1}}v_{h_{2}p_{2}}^{h_{3}h_{4}}t2_{p_{3}p_{4}}^{h_{5}h_{6}}\n",
      " + -0.015625 * t2_{p_{0}p_{1}}^{h_{0}h_{1}}v_{h_{2}p_{2}}^{h_{3}h_{4}}t2_{p_{3}p_{4}}^{h_{5}h_{6}}\n",
      " + 0.015625 * t2_{p_{0}p_{1}}^{h_{0}h_{1}}t2_{p_{2}p_{3}}^{h_{2}h_{3}}v_{h_{4}p_{4}}^{h_{5}h_{6}}\n",
      " + 0.0013020833333333333 * v_{h_{0}p_{0}}^{h_{1}h_{2}}t2_{p_{1}p_{2}}^{h_{3}h_{4}}t2_{p_{3}p_{4}}^{h_{5}h_{6}}t2_{p_{5}p_{6}}^{h_{7}h_{8}}\n",
      " + -0.0013020833333333333 * t2_{p_{0}p_{1}}^{h_{0}h_{1}}v_{h_{2}p_{2}}^{h_{3}h_{4}}t2_{p_{3}p_{4}}^{h_{5}h_{6}}t2_{p_{5}p_{6}}^{h_{7}h_{8}}\n",
      " + -0.0013020833333333333 * t2_{p_{0}p_{1}}^{h_{0}h_{1}}v_{h_{2}p_{2}}^{h_{3}h_{4}}t2_{p_{3}p_{4}}^{h_{5}h_{6}}t2_{p_{5}p_{6}}^{h_{7}h_{8}}\n",
      " + 0.0013020833333333333 * t2_{p_{0}p_{1}}^{h_{0}h_{1}}t2_{p_{2}p_{3}}^{h_{2}h_{3}}v_{h_{4}p_{4}}^{h_{5}h_{6}}t2_{p_{5}p_{6}}^{h_{7}h_{8}}\n",
      " + -0.0013020833333333333 * t2_{p_{0}p_{1}}^{h_{0}h_{1}}v_{h_{2}p_{2}}^{h_{3}h_{4}}t2_{p_{3}p_{4}}^{h_{5}h_{6}}t2_{p_{5}p_{6}}^{h_{7}h_{8}}\n",
      " + 0.0013020833333333333 * t2_{p_{0}p_{1}}^{h_{0}h_{1}}t2_{p_{2}p_{3}}^{h_{2}h_{3}}v_{h_{4}p_{4}}^{h_{5}h_{6}}t2_{p_{5}p_{6}}^{h_{7}h_{8}}\n",
      " + 0.0013020833333333333 * t2_{p_{0}p_{1}}^{h_{0}h_{1}}t2_{p_{2}p_{3}}^{h_{2}h_{3}}v_{h_{4}p_{4}}^{h_{5}h_{6}}t2_{p_{5}p_{6}}^{h_{7}h_{8}}\n",
      " + -0.0013020833333333333 * t2_{p_{0}p_{1}}^{h_{0}h_{1}}t2_{p_{2}p_{3}}^{h_{2}h_{3}}t2_{p_{4}p_{5}}^{h_{4}h_{5}}v_{h_{6}p_{6}}^{h_{7}h_{8}}\n",
      " + 8.138020833333333e-05 * v_{h_{0}p_{0}}^{h_{1}h_{2}}t2_{p_{1}p_{2}}^{h_{3}h_{4}}t2_{p_{3}p_{4}}^{h_{5}h_{6}}t2_{p_{5}p_{6}}^{h_{7}h_{8}}t2_{p_{7}p_{8}}^{h_{9}h_{10}}\n",
      " + -8.138020833333333e-05 * t2_{p_{0}p_{1}}^{h_{0}h_{1}}v_{h_{2}p_{2}}^{h_{3}h_{4}}t2_{p_{3}p_{4}}^{h_{5}h_{6}}t2_{p_{5}p_{6}}^{h_{7}h_{8}}t2_{p_{7}p_{8}}^{h_{9}h_{10}}\n",
      " + -8.138020833333333e-05 * t2_{p_{0}p_{1}}^{h_{0}h_{1}}v_{h_{2}p_{2}}^{h_{3}h_{4}}t2_{p_{3}p_{4}}^{h_{5}h_{6}}t2_{p_{5}p_{6}}^{h_{7}h_{8}}t2_{p_{7}p_{8}}^{h_{9}h_{10}}\n",
      " + 8.138020833333333e-05 * t2_{p_{0}p_{1}}^{h_{0}h_{1}}t2_{p_{2}p_{3}}^{h_{2}h_{3}}v_{h_{4}p_{4}}^{h_{5}h_{6}}t2_{p_{5}p_{6}}^{h_{7}h_{8}}t2_{p_{7}p_{8}}^{h_{9}h_{10}}\n",
      " + -8.138020833333333e-05 * t2_{p_{0}p_{1}}^{h_{0}h_{1}}v_{h_{2}p_{2}}^{h_{3}h_{4}}t2_{p_{3}p_{4}}^{h_{5}h_{6}}t2_{p_{5}p_{6}}^{h_{7}h_{8}}t2_{p_{7}p_{8}}^{h_{9}h_{10}}\n",
      " + 8.138020833333333e-05 * t2_{p_{0}p_{1}}^{h_{0}h_{1}}t2_{p_{2}p_{3}}^{h_{2}h_{3}}v_{h_{4}p_{4}}^{h_{5}h_{6}}t2_{p_{5}p_{6}}^{h_{7}h_{8}}t2_{p_{7}p_{8}}^{h_{9}h_{10}}\n",
      " + 8.138020833333333e-05 * t2_{p_{0}p_{1}}^{h_{0}h_{1}}t2_{p_{2}p_{3}}^{h_{2}h_{3}}v_{h_{4}p_{4}}^{h_{5}h_{6}}t2_{p_{5}p_{6}}^{h_{7}h_{8}}t2_{p_{7}p_{8}}^{h_{9}h_{10}}\n",
      " + -8.138020833333333e-05 * t2_{p_{0}p_{1}}^{h_{0}h_{1}}t2_{p_{2}p_{3}}^{h_{2}h_{3}}t2_{p_{4}p_{5}}^{h_{4}h_{5}}v_{h_{6}p_{6}}^{h_{7}h_{8}}t2_{p_{7}p_{8}}^{h_{9}h_{10}}\n",
      " + -8.138020833333333e-05 * t2_{p_{0}p_{1}}^{h_{0}h_{1}}v_{h_{2}p_{2}}^{h_{3}h_{4}}t2_{p_{3}p_{4}}^{h_{5}h_{6}}t2_{p_{5}p_{6}}^{h_{7}h_{8}}t2_{p_{7}p_{8}}^{h_{9}h_{10}}\n",
      " + 8.138020833333333e-05 * t2_{p_{0}p_{1}}^{h_{0}h_{1}}t2_{p_{2}p_{3}}^{h_{2}h_{3}}v_{h_{4}p_{4}}^{h_{5}h_{6}}t2_{p_{5}p_{6}}^{h_{7}h_{8}}t2_{p_{7}p_{8}}^{h_{9}h_{10}}\n",
      " + 8.138020833333333e-05 * t2_{p_{0}p_{1}}^{h_{0}h_{1}}t2_{p_{2}p_{3}}^{h_{2}h_{3}}v_{h_{4}p_{4}}^{h_{5}h_{6}}t2_{p_{5}p_{6}}^{h_{7}h_{8}}t2_{p_{7}p_{8}}^{h_{9}h_{10}}\n",
      " + -8.138020833333333e-05 * t2_{p_{0}p_{1}}^{h_{0}h_{1}}t2_{p_{2}p_{3}}^{h_{2}h_{3}}t2_{p_{4}p_{5}}^{h_{4}h_{5}}v_{h_{6}p_{6}}^{h_{7}h_{8}}t2_{p_{7}p_{8}}^{h_{9}h_{10}}\n",
      " + 8.138020833333333e-05 * t2_{p_{0}p_{1}}^{h_{0}h_{1}}t2_{p_{2}p_{3}}^{h_{2}h_{3}}v_{h_{4}p_{4}}^{h_{5}h_{6}}t2_{p_{5}p_{6}}^{h_{7}h_{8}}t2_{p_{7}p_{8}}^{h_{9}h_{10}}\n",
      " + -8.138020833333333e-05 * t2_{p_{0}p_{1}}^{h_{0}h_{1}}t2_{p_{2}p_{3}}^{h_{2}h_{3}}t2_{p_{4}p_{5}}^{h_{4}h_{5}}v_{h_{6}p_{6}}^{h_{7}h_{8}}t2_{p_{7}p_{8}}^{h_{9}h_{10}}\n",
      " + -8.138020833333333e-05 * t2_{p_{0}p_{1}}^{h_{0}h_{1}}t2_{p_{2}p_{3}}^{h_{2}h_{3}}t2_{p_{4}p_{5}}^{h_{4}h_{5}}v_{h_{6}p_{6}}^{h_{7}h_{8}}t2_{p_{7}p_{8}}^{h_{9}h_{10}}\n",
      " + 8.138020833333333e-05 * t2_{p_{0}p_{1}}^{h_{0}h_{1}}t2_{p_{2}p_{3}}^{h_{2}h_{3}}t2_{p_{4}p_{5}}^{h_{4}h_{5}}t2_{p_{6}p_{7}}^{h_{6}h_{7}}v_{h_{8}p_{8}}^{h_{9}h_{10}}\n",
      " + 0.5 * v_{p_{0}p_{1}}^{h_{0}h_{1}}\n",
      " + 0.125 * v_{p_{0}p_{1}}^{h_{0}h_{1}}t2_{p_{2}p_{3}}^{h_{2}h_{3}}\n",
      " + -0.125 * t2_{p_{0}p_{1}}^{h_{0}h_{1}}v_{p_{2}p_{3}}^{h_{2}h_{3}}\n",
      " + 0.015625 * v_{p_{0}p_{1}}^{h_{0}h_{1}}t2_{p_{2}p_{3}}^{h_{2}h_{3}}t2_{p_{4}p_{5}}^{h_{4}h_{5}}\n",
      " + -0.015625 * t2_{p_{0}p_{1}}^{h_{0}h_{1}}v_{p_{2}p_{3}}^{h_{2}h_{3}}t2_{p_{4}p_{5}}^{h_{4}h_{5}}\n",
      " + -0.015625 * t2_{p_{0}p_{1}}^{h_{0}h_{1}}v_{p_{2}p_{3}}^{h_{2}h_{3}}t2_{p_{4}p_{5}}^{h_{4}h_{5}}\n",
      " + 0.015625 * t2_{p_{0}p_{1}}^{h_{0}h_{1}}t2_{p_{2}p_{3}}^{h_{2}h_{3}}v_{p_{4}p_{5}}^{h_{4}h_{5}}\n",
      " + 0.0013020833333333333 * v_{p_{0}p_{1}}^{h_{0}h_{1}}t2_{p_{2}p_{3}}^{h_{2}h_{3}}t2_{p_{4}p_{5}}^{h_{4}h_{5}}t2_{p_{6}p_{7}}^{h_{6}h_{7}}\n",
      " + -0.0013020833333333333 * t2_{p_{0}p_{1}}^{h_{0}h_{1}}v_{p_{2}p_{3}}^{h_{2}h_{3}}t2_{p_{4}p_{5}}^{h_{4}h_{5}}t2_{p_{6}p_{7}}^{h_{6}h_{7}}\n",
      " + -0.0013020833333333333 * t2_{p_{0}p_{1}}^{h_{0}h_{1}}v_{p_{2}p_{3}}^{h_{2}h_{3}}t2_{p_{4}p_{5}}^{h_{4}h_{5}}t2_{p_{6}p_{7}}^{h_{6}h_{7}}\n",
      " + 0.0013020833333333333 * t2_{p_{0}p_{1}}^{h_{0}h_{1}}t2_{p_{2}p_{3}}^{h_{2}h_{3}}v_{p_{4}p_{5}}^{h_{4}h_{5}}t2_{p_{6}p_{7}}^{h_{6}h_{7}}\n",
      " + -0.0013020833333333333 * t2_{p_{0}p_{1}}^{h_{0}h_{1}}v_{p_{2}p_{3}}^{h_{2}h_{3}}t2_{p_{4}p_{5}}^{h_{4}h_{5}}t2_{p_{6}p_{7}}^{h_{6}h_{7}}\n",
      " + 0.0013020833333333333 * t2_{p_{0}p_{1}}^{h_{0}h_{1}}t2_{p_{2}p_{3}}^{h_{2}h_{3}}v_{p_{4}p_{5}}^{h_{4}h_{5}}t2_{p_{6}p_{7}}^{h_{6}h_{7}}\n",
      " + 0.0013020833333333333 * t2_{p_{0}p_{1}}^{h_{0}h_{1}}t2_{p_{2}p_{3}}^{h_{2}h_{3}}v_{p_{4}p_{5}}^{h_{4}h_{5}}t2_{p_{6}p_{7}}^{h_{6}h_{7}}\n",
      " + -0.0013020833333333333 * t2_{p_{0}p_{1}}^{h_{0}h_{1}}t2_{p_{2}p_{3}}^{h_{2}h_{3}}t2_{p_{4}p_{5}}^{h_{4}h_{5}}v_{p_{6}p_{7}}^{h_{6}h_{7}}\n",
      " + 8.138020833333333e-05 * v_{p_{0}p_{1}}^{h_{0}h_{1}}t2_{p_{2}p_{3}}^{h_{2}h_{3}}t2_{p_{4}p_{5}}^{h_{4}h_{5}}t2_{p_{6}p_{7}}^{h_{6}h_{7}}t2_{p_{8}p_{9}}^{h_{8}h_{9}}\n",
      " + -8.138020833333333e-05 * t2_{p_{0}p_{1}}^{h_{0}h_{1}}v_{p_{2}p_{3}}^{h_{2}h_{3}}t2_{p_{4}p_{5}}^{h_{4}h_{5}}t2_{p_{6}p_{7}}^{h_{6}h_{7}}t2_{p_{8}p_{9}}^{h_{8}h_{9}}\n",
      " + -8.138020833333333e-05 * t2_{p_{0}p_{1}}^{h_{0}h_{1}}v_{p_{2}p_{3}}^{h_{2}h_{3}}t2_{p_{4}p_{5}}^{h_{4}h_{5}}t2_{p_{6}p_{7}}^{h_{6}h_{7}}t2_{p_{8}p_{9}}^{h_{8}h_{9}}\n",
      " + 8.138020833333333e-05 * t2_{p_{0}p_{1}}^{h_{0}h_{1}}t2_{p_{2}p_{3}}^{h_{2}h_{3}}v_{p_{4}p_{5}}^{h_{4}h_{5}}t2_{p_{6}p_{7}}^{h_{6}h_{7}}t2_{p_{8}p_{9}}^{h_{8}h_{9}}\n",
      " + -8.138020833333333e-05 * t2_{p_{0}p_{1}}^{h_{0}h_{1}}v_{p_{2}p_{3}}^{h_{2}h_{3}}t2_{p_{4}p_{5}}^{h_{4}h_{5}}t2_{p_{6}p_{7}}^{h_{6}h_{7}}t2_{p_{8}p_{9}}^{h_{8}h_{9}}\n",
      " + 8.138020833333333e-05 * t2_{p_{0}p_{1}}^{h_{0}h_{1}}t2_{p_{2}p_{3}}^{h_{2}h_{3}}v_{p_{4}p_{5}}^{h_{4}h_{5}}t2_{p_{6}p_{7}}^{h_{6}h_{7}}t2_{p_{8}p_{9}}^{h_{8}h_{9}}\n",
      " + 8.138020833333333e-05 * t2_{p_{0}p_{1}}^{h_{0}h_{1}}t2_{p_{2}p_{3}}^{h_{2}h_{3}}v_{p_{4}p_{5}}^{h_{4}h_{5}}t2_{p_{6}p_{7}}^{h_{6}h_{7}}t2_{p_{8}p_{9}}^{h_{8}h_{9}}\n",
      " + -8.138020833333333e-05 * t2_{p_{0}p_{1}}^{h_{0}h_{1}}t2_{p_{2}p_{3}}^{h_{2}h_{3}}t2_{p_{4}p_{5}}^{h_{4}h_{5}}v_{p_{6}p_{7}}^{h_{6}h_{7}}t2_{p_{8}p_{9}}^{h_{8}h_{9}}\n",
      " + -8.138020833333333e-05 * t2_{p_{0}p_{1}}^{h_{0}h_{1}}v_{p_{2}p_{3}}^{h_{2}h_{3}}t2_{p_{4}p_{5}}^{h_{4}h_{5}}t2_{p_{6}p_{7}}^{h_{6}h_{7}}t2_{p_{8}p_{9}}^{h_{8}h_{9}}\n",
      " + 8.138020833333333e-05 * t2_{p_{0}p_{1}}^{h_{0}h_{1}}t2_{p_{2}p_{3}}^{h_{2}h_{3}}v_{p_{4}p_{5}}^{h_{4}h_{5}}t2_{p_{6}p_{7}}^{h_{6}h_{7}}t2_{p_{8}p_{9}}^{h_{8}h_{9}}\n",
      " + 8.138020833333333e-05 * t2_{p_{0}p_{1}}^{h_{0}h_{1}}t2_{p_{2}p_{3}}^{h_{2}h_{3}}v_{p_{4}p_{5}}^{h_{4}h_{5}}t2_{p_{6}p_{7}}^{h_{6}h_{7}}t2_{p_{8}p_{9}}^{h_{8}h_{9}}\n",
      " + -8.138020833333333e-05 * t2_{p_{0}p_{1}}^{h_{0}h_{1}}t2_{p_{2}p_{3}}^{h_{2}h_{3}}t2_{p_{4}p_{5}}^{h_{4}h_{5}}v_{p_{6}p_{7}}^{h_{6}h_{7}}t2_{p_{8}p_{9}}^{h_{8}h_{9}}\n",
      " + 8.138020833333333e-05 * t2_{p_{0}p_{1}}^{h_{0}h_{1}}t2_{p_{2}p_{3}}^{h_{2}h_{3}}v_{p_{4}p_{5}}^{h_{4}h_{5}}t2_{p_{6}p_{7}}^{h_{6}h_{7}}t2_{p_{8}p_{9}}^{h_{8}h_{9}}\n",
      " + -8.138020833333333e-05 * t2_{p_{0}p_{1}}^{h_{0}h_{1}}t2_{p_{2}p_{3}}^{h_{2}h_{3}}t2_{p_{4}p_{5}}^{h_{4}h_{5}}v_{p_{6}p_{7}}^{h_{6}h_{7}}t2_{p_{8}p_{9}}^{h_{8}h_{9}}\n",
      " + -8.138020833333333e-05 * t2_{p_{0}p_{1}}^{h_{0}h_{1}}t2_{p_{2}p_{3}}^{h_{2}h_{3}}t2_{p_{4}p_{5}}^{h_{4}h_{5}}v_{p_{6}p_{7}}^{h_{6}h_{7}}t2_{p_{8}p_{9}}^{h_{8}h_{9}}\n",
      " + 8.138020833333333e-05 * t2_{p_{0}p_{1}}^{h_{0}h_{1}}t2_{p_{2}p_{3}}^{h_{2}h_{3}}t2_{p_{4}p_{5}}^{h_{4}h_{5}}t2_{p_{6}p_{7}}^{h_{6}h_{7}}v_{p_{8}p_{9}}^{h_{8}h_{9}}\n",
      " + 0.5 * v_{h_{0}h_{1}}^{p_{0}p_{1}}\n",
      " + 0.125 * v_{h_{0}h_{1}}^{p_{0}p_{1}}t2_{p_{2}p_{3}}^{h_{2}h_{3}}\n",
      " + -0.125 * t2_{p_{0}p_{1}}^{h_{0}h_{1}}v_{h_{2}h_{3}}^{p_{2}p_{3}}\n",
      " + 0.015625 * v_{h_{0}h_{1}}^{p_{0}p_{1}}t2_{p_{2}p_{3}}^{h_{2}h_{3}}t2_{p_{4}p_{5}}^{h_{4}h_{5}}\n",
      " + -0.015625 * t2_{p_{0}p_{1}}^{h_{0}h_{1}}v_{h_{2}h_{3}}^{p_{2}p_{3}}t2_{p_{4}p_{5}}^{h_{4}h_{5}}\n",
      " + -0.015625 * t2_{p_{0}p_{1}}^{h_{0}h_{1}}v_{h_{2}h_{3}}^{p_{2}p_{3}}t2_{p_{4}p_{5}}^{h_{4}h_{5}}\n",
      " + 0.015625 * t2_{p_{0}p_{1}}^{h_{0}h_{1}}t2_{p_{2}p_{3}}^{h_{2}h_{3}}v_{h_{4}h_{5}}^{p_{4}p_{5}}\n",
      " + 0.0013020833333333333 * v_{h_{0}h_{1}}^{p_{0}p_{1}}t2_{p_{2}p_{3}}^{h_{2}h_{3}}t2_{p_{4}p_{5}}^{h_{4}h_{5}}t2_{p_{6}p_{7}}^{h_{6}h_{7}}\n",
      " + -0.0013020833333333333 * t2_{p_{0}p_{1}}^{h_{0}h_{1}}v_{h_{2}h_{3}}^{p_{2}p_{3}}t2_{p_{4}p_{5}}^{h_{4}h_{5}}t2_{p_{6}p_{7}}^{h_{6}h_{7}}\n",
      " + -0.0013020833333333333 * t2_{p_{0}p_{1}}^{h_{0}h_{1}}v_{h_{2}h_{3}}^{p_{2}p_{3}}t2_{p_{4}p_{5}}^{h_{4}h_{5}}t2_{p_{6}p_{7}}^{h_{6}h_{7}}\n",
      " + 0.0013020833333333333 * t2_{p_{0}p_{1}}^{h_{0}h_{1}}t2_{p_{2}p_{3}}^{h_{2}h_{3}}v_{h_{4}h_{5}}^{p_{4}p_{5}}t2_{p_{6}p_{7}}^{h_{6}h_{7}}\n",
      " + -0.0013020833333333333 * t2_{p_{0}p_{1}}^{h_{0}h_{1}}v_{h_{2}h_{3}}^{p_{2}p_{3}}t2_{p_{4}p_{5}}^{h_{4}h_{5}}t2_{p_{6}p_{7}}^{h_{6}h_{7}}\n",
      " + 0.0013020833333333333 * t2_{p_{0}p_{1}}^{h_{0}h_{1}}t2_{p_{2}p_{3}}^{h_{2}h_{3}}v_{h_{4}h_{5}}^{p_{4}p_{5}}t2_{p_{6}p_{7}}^{h_{6}h_{7}}\n",
      " + 0.0013020833333333333 * t2_{p_{0}p_{1}}^{h_{0}h_{1}}t2_{p_{2}p_{3}}^{h_{2}h_{3}}v_{h_{4}h_{5}}^{p_{4}p_{5}}t2_{p_{6}p_{7}}^{h_{6}h_{7}}\n",
      " + -0.0013020833333333333 * t2_{p_{0}p_{1}}^{h_{0}h_{1}}t2_{p_{2}p_{3}}^{h_{2}h_{3}}t2_{p_{4}p_{5}}^{h_{4}h_{5}}v_{h_{6}h_{7}}^{p_{6}p_{7}}\n",
      " + 8.138020833333333e-05 * v_{h_{0}h_{1}}^{p_{0}p_{1}}t2_{p_{2}p_{3}}^{h_{2}h_{3}}t2_{p_{4}p_{5}}^{h_{4}h_{5}}t2_{p_{6}p_{7}}^{h_{6}h_{7}}t2_{p_{8}p_{9}}^{h_{8}h_{9}}\n",
      " + -8.138020833333333e-05 * t2_{p_{0}p_{1}}^{h_{0}h_{1}}v_{h_{2}h_{3}}^{p_{2}p_{3}}t2_{p_{4}p_{5}}^{h_{4}h_{5}}t2_{p_{6}p_{7}}^{h_{6}h_{7}}t2_{p_{8}p_{9}}^{h_{8}h_{9}}\n",
      " + -8.138020833333333e-05 * t2_{p_{0}p_{1}}^{h_{0}h_{1}}v_{h_{2}h_{3}}^{p_{2}p_{3}}t2_{p_{4}p_{5}}^{h_{4}h_{5}}t2_{p_{6}p_{7}}^{h_{6}h_{7}}t2_{p_{8}p_{9}}^{h_{8}h_{9}}\n",
      " + 8.138020833333333e-05 * t2_{p_{0}p_{1}}^{h_{0}h_{1}}t2_{p_{2}p_{3}}^{h_{2}h_{3}}v_{h_{4}h_{5}}^{p_{4}p_{5}}t2_{p_{6}p_{7}}^{h_{6}h_{7}}t2_{p_{8}p_{9}}^{h_{8}h_{9}}\n",
      " + -8.138020833333333e-05 * t2_{p_{0}p_{1}}^{h_{0}h_{1}}v_{h_{2}h_{3}}^{p_{2}p_{3}}t2_{p_{4}p_{5}}^{h_{4}h_{5}}t2_{p_{6}p_{7}}^{h_{6}h_{7}}t2_{p_{8}p_{9}}^{h_{8}h_{9}}\n",
      " + 8.138020833333333e-05 * t2_{p_{0}p_{1}}^{h_{0}h_{1}}t2_{p_{2}p_{3}}^{h_{2}h_{3}}v_{h_{4}h_{5}}^{p_{4}p_{5}}t2_{p_{6}p_{7}}^{h_{6}h_{7}}t2_{p_{8}p_{9}}^{h_{8}h_{9}}\n",
      " + 8.138020833333333e-05 * t2_{p_{0}p_{1}}^{h_{0}h_{1}}t2_{p_{2}p_{3}}^{h_{2}h_{3}}v_{h_{4}h_{5}}^{p_{4}p_{5}}t2_{p_{6}p_{7}}^{h_{6}h_{7}}t2_{p_{8}p_{9}}^{h_{8}h_{9}}\n",
      " + -8.138020833333333e-05 * t2_{p_{0}p_{1}}^{h_{0}h_{1}}t2_{p_{2}p_{3}}^{h_{2}h_{3}}t2_{p_{4}p_{5}}^{h_{4}h_{5}}v_{h_{6}h_{7}}^{p_{6}p_{7}}t2_{p_{8}p_{9}}^{h_{8}h_{9}}\n",
      " + -8.138020833333333e-05 * t2_{p_{0}p_{1}}^{h_{0}h_{1}}v_{h_{2}h_{3}}^{p_{2}p_{3}}t2_{p_{4}p_{5}}^{h_{4}h_{5}}t2_{p_{6}p_{7}}^{h_{6}h_{7}}t2_{p_{8}p_{9}}^{h_{8}h_{9}}\n",
      " + 8.138020833333333e-05 * t2_{p_{0}p_{1}}^{h_{0}h_{1}}t2_{p_{2}p_{3}}^{h_{2}h_{3}}v_{h_{4}h_{5}}^{p_{4}p_{5}}t2_{p_{6}p_{7}}^{h_{6}h_{7}}t2_{p_{8}p_{9}}^{h_{8}h_{9}}\n",
      " + 8.138020833333333e-05 * t2_{p_{0}p_{1}}^{h_{0}h_{1}}t2_{p_{2}p_{3}}^{h_{2}h_{3}}v_{h_{4}h_{5}}^{p_{4}p_{5}}t2_{p_{6}p_{7}}^{h_{6}h_{7}}t2_{p_{8}p_{9}}^{h_{8}h_{9}}\n",
      " + -8.138020833333333e-05 * t2_{p_{0}p_{1}}^{h_{0}h_{1}}t2_{p_{2}p_{3}}^{h_{2}h_{3}}t2_{p_{4}p_{5}}^{h_{4}h_{5}}v_{h_{6}h_{7}}^{p_{6}p_{7}}t2_{p_{8}p_{9}}^{h_{8}h_{9}}\n",
      " + 8.138020833333333e-05 * t2_{p_{0}p_{1}}^{h_{0}h_{1}}t2_{p_{2}p_{3}}^{h_{2}h_{3}}v_{h_{4}h_{5}}^{p_{4}p_{5}}t2_{p_{6}p_{7}}^{h_{6}h_{7}}t2_{p_{8}p_{9}}^{h_{8}h_{9}}\n",
      " + -8.138020833333333e-05 * t2_{p_{0}p_{1}}^{h_{0}h_{1}}t2_{p_{2}p_{3}}^{h_{2}h_{3}}t2_{p_{4}p_{5}}^{h_{4}h_{5}}v_{h_{6}h_{7}}^{p_{6}p_{7}}t2_{p_{8}p_{9}}^{h_{8}h_{9}}\n",
      " + -8.138020833333333e-05 * t2_{p_{0}p_{1}}^{h_{0}h_{1}}t2_{p_{2}p_{3}}^{h_{2}h_{3}}t2_{p_{4}p_{5}}^{h_{4}h_{5}}v_{h_{6}h_{7}}^{p_{6}p_{7}}t2_{p_{8}p_{9}}^{h_{8}h_{9}}\n",
      " + 8.138020833333333e-05 * t2_{p_{0}p_{1}}^{h_{0}h_{1}}t2_{p_{2}p_{3}}^{h_{2}h_{3}}t2_{p_{4}p_{5}}^{h_{4}h_{5}}t2_{p_{6}p_{7}}^{h_{6}h_{7}}v_{h_{8}h_{9}}^{p_{8}p_{9}}\n"
     ]
    }
   ],
   "metadata": {
    "tags": []
   }
  },
  {
   "cell_type": "code",
   "execution_count": 95,
   "source": [
    "print(transformH.summandList[402])"
   ],
   "outputs": [
    {
     "output_type": "stream",
     "name": "stdout",
     "text": [
      "8.138020833333333e-05 * t2_{p_{0}p_{1}}^{h_{0}h_{1}}t2_{p_{2}p_{3}}^{h_{2}h_{3}}t2_{p_{4}p_{5}}^{h_{4}h_{5}}t2_{p_{6}p_{7}}^{h_{6}h_{7}}v_{h_{8}h_{9}}^{p_{8}p_{9}}\n"
     ]
    }
   ],
   "metadata": {}
  },
  {
   "cell_type": "code",
   "execution_count": 96,
   "source": [
    "print(t2 * t2)"
   ],
   "outputs": [
    {
     "output_type": "stream",
     "name": "stdout",
     "text": [
      "1.0 * t2_{p_{0}p_{1}}^{h_{0}h_{1}}t2_{p_{2}p_{3}}^{h_{2}h_{3}}\n"
     ]
    }
   ],
   "metadata": {}
  },
  {
   "cell_type": "code",
   "execution_count": null,
   "source": [],
   "outputs": [],
   "metadata": {}
  },
  {
   "cell_type": "code",
   "execution_count": 97,
   "source": [
    "time0 = time.time()\n",
    "first = evaluateWick(vDiagrams[8] * t2)\n",
    "time1 = time.time()\n",
    "print(time1-time0)\n",
    "print(first)"
   ],
   "outputs": [
    {
     "output_type": "stream",
     "name": "stdout",
     "text": [
      "0.005024202000640798\n",
      "4.0 * v_{h_{0}h_{1}}^{p_{0}p_{1}}t2_{p_{0}p_{1}}^{h_{0}h_{1}}\n",
      " + -2.0 * v_{h_{0}h_{1}}^{p_{0}p_{1}}t2_{p_{1}p_{0}}^{h_{0}h_{1}}\n",
      " + -2.0 * v_{h_{0}h_{1}}^{p_{0}p_{1}}t2_{p_{0}p_{1}}^{h_{1}h_{0}}\n",
      " + 4.0 * v_{h_{0}h_{1}}^{p_{0}p_{1}}t2_{p_{1}p_{0}}^{h_{1}h_{0}}\n"
     ]
    }
   ],
   "metadata": {}
  },
  {
   "cell_type": "code",
   "execution_count": 98,
   "source": [
    "time0 = time.time()\n",
    "second = evaluateWick(vDiagrams[8] * t2 * t2)\n",
    "time1 = time.time()\n",
    "print(time1-time0)\n",
    "print(second)"
   ],
   "outputs": [
    {
     "output_type": "stream",
     "name": "stdout",
     "text": [
      "0.0037560450000455603\n",
      "\n"
     ]
    }
   ],
   "metadata": {}
  },
  {
   "cell_type": "code",
   "execution_count": 99,
   "source": [
    "type(vDiagrams[8])"
   ],
   "outputs": [
    {
     "output_type": "execute_result",
     "data": {
      "text/plain": [
       "__main__.Tensor"
      ]
     },
     "metadata": {},
     "execution_count": 99
    }
   ],
   "metadata": {}
  },
  {
   "cell_type": "code",
   "execution_count": 100,
   "source": [
    "product = vDiagrams[8] * t2 * t2 * t2 * t2\n",
    "op = product.getOperator()\n",
    "time0 = time.time()\n",
    "firstContractions = recursiveVacuumExpectationValue(op.summandList[0])\n",
    "time1 = time.time()\n",
    "print(time1-time0)\n",
    "print(firstContractions)"
   ],
   "outputs": [
    {
     "output_type": "stream",
     "name": "stdout",
     "text": [
      "0.03723348300263751\n",
      "0\n"
     ]
    }
   ],
   "metadata": {}
  },
  {
   "cell_type": "code",
   "execution_count": 101,
   "source": [
    "time0 = time.time()\n",
    "CCDEnergyLastTerm = evaluateWick(transformH.summandList[402])\n",
    "time1 = time.time()\n",
    "print(time1-time0)\n",
    "print(CCDEnergyLastTerm)"
   ],
   "outputs": [
    {
     "output_type": "stream",
     "name": "stdout",
     "text": [
      "1.4770280929951696\n",
      "\n"
     ]
    }
   ],
   "metadata": {}
  },
  {
   "cell_type": "code",
   "execution_count": 102,
   "source": [
    "time0 = time.time()\n",
    "CCDEnergy = evaluateWick(transformH)\n",
    "time1 = time.time()\n",
    "print(time1-time0)\n",
    "print(CCDEnergy)"
   ],
   "outputs": [
    {
     "output_type": "stream",
     "name": "stdout",
     "text": [
      "155.20696738699917\n",
      "2.0 * f_{h_{1}}^{h_{1}}\n",
      " + -1.0 * v_{h_{2}h_{3}}^{h_{2}h_{3}}\n",
      " + 2.0 * v_{h_{3}h_{2}}^{h_{2}h_{3}}\n",
      " + 0.5 * v_{h_{0}h_{1}}^{p_{0}p_{1}}t2_{p_{0}p_{1}}^{h_{0}h_{1}}\n",
      " + -0.25 * v_{h_{0}h_{1}}^{p_{0}p_{1}}t2_{p_{1}p_{0}}^{h_{0}h_{1}}\n",
      " + -0.25 * v_{h_{0}h_{1}}^{p_{0}p_{1}}t2_{p_{0}p_{1}}^{h_{1}h_{0}}\n",
      " + 0.5 * v_{h_{0}h_{1}}^{p_{0}p_{1}}t2_{p_{1}p_{0}}^{h_{1}h_{0}}\n"
     ]
    }
   ],
   "metadata": {}
  },
  {
   "cell_type": "code",
   "execution_count": 103,
   "source": [
    "print(recursiveVacuumExpectationValue((vDiagrams[8] * t2).getOperator()))"
   ],
   "outputs": [
    {
     "output_type": "stream",
     "name": "stdout",
     "text": [
      "4.0 * \\delta^{h_{0}}_{h_{2}}\\delta^{h_{1}}_{h_{3}}\\delta^{p_{2}}_{p_{0}}\\delta^{p_{3}}_{p_{1}}\n",
      " + -2.0 * \\delta^{h_{0}}_{h_{2}}\\delta^{h_{1}}_{h_{3}}\\delta^{p_{3}}_{p_{0}}\\delta^{p_{2}}_{p_{1}}\n",
      " + -2.0 * \\delta^{h_{0}}_{h_{3}}\\delta^{h_{1}}_{h_{2}}\\delta^{p_{2}}_{p_{0}}\\delta^{p_{3}}_{p_{1}}\n",
      " + 4.0 * \\delta^{h_{0}}_{h_{3}}\\delta^{h_{1}}_{h_{2}}\\delta^{p_{3}}_{p_{0}}\\delta^{p_{2}}_{p_{1}}\n"
     ]
    }
   ],
   "metadata": {}
  },
  {
   "cell_type": "code",
   "execution_count": 104,
   "source": [
    "print(evaluateWick(vDiagrams[8] * t2))"
   ],
   "outputs": [
    {
     "output_type": "stream",
     "name": "stdout",
     "text": [
      "4.0 * v_{h_{0}h_{1}}^{p_{0}p_{1}}t2_{p_{0}p_{1}}^{h_{0}h_{1}}\n",
      " + -2.0 * v_{h_{0}h_{1}}^{p_{0}p_{1}}t2_{p_{1}p_{0}}^{h_{0}h_{1}}\n",
      " + -2.0 * v_{h_{0}h_{1}}^{p_{0}p_{1}}t2_{p_{0}p_{1}}^{h_{1}h_{0}}\n",
      " + 4.0 * v_{h_{0}h_{1}}^{p_{0}p_{1}}t2_{p_{1}p_{0}}^{h_{1}h_{0}}\n"
     ]
    }
   ],
   "metadata": {}
  },
  {
   "cell_type": "code",
   "execution_count": 105,
   "source": [
    "E = evaluateWick(vDiagrams[8] * t2)"
   ],
   "outputs": [],
   "metadata": {}
  },
  {
   "cell_type": "code",
   "execution_count": 106,
   "source": [
    "print(E.summandList[3].tensorList)"
   ],
   "outputs": [
    {
     "output_type": "stream",
     "name": "stdout",
     "text": [
      "[<__main__.Tensor object at 0x11a51fa60>, <__main__.Tensor object at 0x11a4f7cd0>]\n"
     ]
    }
   ],
   "metadata": {}
  },
  {
   "cell_type": "code",
   "execution_count": 107,
   "source": [
    "t2"
   ],
   "outputs": [
    {
     "output_type": "execute_result",
     "data": {
      "text/plain": [
       "<__main__.Tensor at 0x11a4f7cd0>"
      ]
     },
     "metadata": {},
     "execution_count": 107
    }
   ],
   "metadata": {}
  },
  {
   "cell_type": "code",
   "execution_count": 108,
   "source": [
    "projectionSingles = Tensor('\\Phi', ['h'], ['p'])\n",
    "projectionDoubles = Tensor('\\Phi', ['h', 'h'], ['p', 'p'])"
   ],
   "outputs": [],
   "metadata": {}
  },
  {
   "cell_type": "code",
   "execution_count": 109,
   "source": [
    "def projectionManifold(excitationLevel):\n",
    "    return Tensor('\\Phi', ['h'] * excitationLevel, ['p'] * excitationLevel)"
   ],
   "outputs": [],
   "metadata": {}
  },
  {
   "cell_type": "code",
   "execution_count": 110,
   "source": [
    "print(projectionManifold(2))"
   ],
   "outputs": [
    {
     "output_type": "stream",
     "name": "stdout",
     "text": [
      "\\Phi_{hh}^{pp}\n"
     ]
    }
   ],
   "metadata": {}
  },
  {
   "cell_type": "code",
   "execution_count": 111,
   "source": [
    "time0 = time.time()\n",
    "CCDDoublesResidual = evaluateWick(projectionManifold(2) *  transformH)\n",
    "time1 = time.time()\n",
    "print(time1-time0)\n",
    "print(CCDDoublesResidual)"
   ],
   "outputs": [
    {
     "output_type": "error",
     "ename": "KeyboardInterrupt",
     "evalue": "",
     "traceback": [
      "\u001b[0;31m---------------------------------------------------------------------------\u001b[0m",
      "\u001b[0;31mKeyboardInterrupt\u001b[0m                         Traceback (most recent call last)",
      "\u001b[0;32m<ipython-input-111-5dd642d4c4e4>\u001b[0m in \u001b[0;36m<module>\u001b[0;34m\u001b[0m\n\u001b[1;32m      1\u001b[0m \u001b[0mtime0\u001b[0m \u001b[0;34m=\u001b[0m \u001b[0mtime\u001b[0m\u001b[0;34m.\u001b[0m\u001b[0mtime\u001b[0m\u001b[0;34m(\u001b[0m\u001b[0;34m)\u001b[0m\u001b[0;34m\u001b[0m\u001b[0;34m\u001b[0m\u001b[0m\n\u001b[0;32m----> 2\u001b[0;31m \u001b[0mCCDDoublesResidual\u001b[0m \u001b[0;34m=\u001b[0m \u001b[0mevaluateWick\u001b[0m\u001b[0;34m(\u001b[0m\u001b[0mprojectionManifold\u001b[0m\u001b[0;34m(\u001b[0m\u001b[0;36m2\u001b[0m\u001b[0;34m)\u001b[0m \u001b[0;34m*\u001b[0m  \u001b[0mtransformH\u001b[0m\u001b[0;34m)\u001b[0m\u001b[0;34m\u001b[0m\u001b[0;34m\u001b[0m\u001b[0m\n\u001b[0m\u001b[1;32m      3\u001b[0m \u001b[0mtime1\u001b[0m \u001b[0;34m=\u001b[0m \u001b[0mtime\u001b[0m\u001b[0;34m.\u001b[0m\u001b[0mtime\u001b[0m\u001b[0;34m(\u001b[0m\u001b[0;34m)\u001b[0m\u001b[0;34m\u001b[0m\u001b[0;34m\u001b[0m\u001b[0m\n\u001b[1;32m      4\u001b[0m \u001b[0mprint\u001b[0m\u001b[0;34m(\u001b[0m\u001b[0mtime1\u001b[0m\u001b[0;34m-\u001b[0m\u001b[0mtime0\u001b[0m\u001b[0;34m)\u001b[0m\u001b[0;34m\u001b[0m\u001b[0;34m\u001b[0m\u001b[0m\n\u001b[1;32m      5\u001b[0m \u001b[0mprint\u001b[0m\u001b[0;34m(\u001b[0m\u001b[0mCCDDoublesResidual\u001b[0m\u001b[0;34m)\u001b[0m\u001b[0;34m\u001b[0m\u001b[0;34m\u001b[0m\u001b[0m\n",
      "\u001b[0;32m<ipython-input-81-a4b2f738fd32>\u001b[0m in \u001b[0;36mevaluateWick\u001b[0;34m(term)\u001b[0m\n\u001b[1;32m      7\u001b[0m     '''\n\u001b[1;32m      8\u001b[0m     \u001b[0;32mif\u001b[0m \u001b[0misinstance\u001b[0m\u001b[0;34m(\u001b[0m\u001b[0mterm\u001b[0m\u001b[0;34m,\u001b[0m \u001b[0mTensorSum\u001b[0m\u001b[0;34m)\u001b[0m\u001b[0;34m:\u001b[0m\u001b[0;34m\u001b[0m\u001b[0;34m\u001b[0m\u001b[0m\n\u001b[0;32m----> 9\u001b[0;31m         \u001b[0;32mreturn\u001b[0m \u001b[0msum\u001b[0m\u001b[0;34m(\u001b[0m\u001b[0;34m[\u001b[0m\u001b[0mevaluateWick\u001b[0m\u001b[0;34m(\u001b[0m\u001b[0msummand\u001b[0m\u001b[0;34m)\u001b[0m \u001b[0;32mfor\u001b[0m \u001b[0msummand\u001b[0m \u001b[0;32min\u001b[0m \u001b[0mterm\u001b[0m\u001b[0;34m.\u001b[0m\u001b[0msummandList\u001b[0m\u001b[0;34m]\u001b[0m\u001b[0;34m)\u001b[0m\u001b[0;34m\u001b[0m\u001b[0;34m\u001b[0m\u001b[0m\n\u001b[0m\u001b[1;32m     10\u001b[0m     \u001b[0msummandList\u001b[0m \u001b[0;34m=\u001b[0m \u001b[0;34m[\u001b[0m\u001b[0;34m]\u001b[0m\u001b[0;34m\u001b[0m\u001b[0;34m\u001b[0m\u001b[0m\n\u001b[1;32m     11\u001b[0m     \u001b[0mfullContractions\u001b[0m \u001b[0;34m=\u001b[0m \u001b[0mrecursiveVacuumExpectationValue\u001b[0m\u001b[0;34m(\u001b[0m\u001b[0mterm\u001b[0m\u001b[0;34m.\u001b[0m\u001b[0mgetOperator\u001b[0m\u001b[0;34m(\u001b[0m\u001b[0;34m)\u001b[0m\u001b[0;34m,\u001b[0m \u001b[0mspeedup\u001b[0m\u001b[0;34m=\u001b[0m\u001b[0;32mTrue\u001b[0m\u001b[0;34m)\u001b[0m\u001b[0;34m\u001b[0m\u001b[0;34m\u001b[0m\u001b[0m\n",
      "\u001b[0;32m<ipython-input-81-a4b2f738fd32>\u001b[0m in \u001b[0;36m<listcomp>\u001b[0;34m(.0)\u001b[0m\n\u001b[1;32m      7\u001b[0m     '''\n\u001b[1;32m      8\u001b[0m     \u001b[0;32mif\u001b[0m \u001b[0misinstance\u001b[0m\u001b[0;34m(\u001b[0m\u001b[0mterm\u001b[0m\u001b[0;34m,\u001b[0m \u001b[0mTensorSum\u001b[0m\u001b[0;34m)\u001b[0m\u001b[0;34m:\u001b[0m\u001b[0;34m\u001b[0m\u001b[0;34m\u001b[0m\u001b[0m\n\u001b[0;32m----> 9\u001b[0;31m         \u001b[0;32mreturn\u001b[0m \u001b[0msum\u001b[0m\u001b[0;34m(\u001b[0m\u001b[0;34m[\u001b[0m\u001b[0mevaluateWick\u001b[0m\u001b[0;34m(\u001b[0m\u001b[0msummand\u001b[0m\u001b[0;34m)\u001b[0m \u001b[0;32mfor\u001b[0m \u001b[0msummand\u001b[0m \u001b[0;32min\u001b[0m \u001b[0mterm\u001b[0m\u001b[0;34m.\u001b[0m\u001b[0msummandList\u001b[0m\u001b[0;34m]\u001b[0m\u001b[0;34m)\u001b[0m\u001b[0;34m\u001b[0m\u001b[0;34m\u001b[0m\u001b[0m\n\u001b[0m\u001b[1;32m     10\u001b[0m     \u001b[0msummandList\u001b[0m \u001b[0;34m=\u001b[0m \u001b[0;34m[\u001b[0m\u001b[0;34m]\u001b[0m\u001b[0;34m\u001b[0m\u001b[0;34m\u001b[0m\u001b[0m\n\u001b[1;32m     11\u001b[0m     \u001b[0mfullContractions\u001b[0m \u001b[0;34m=\u001b[0m \u001b[0mrecursiveVacuumExpectationValue\u001b[0m\u001b[0;34m(\u001b[0m\u001b[0mterm\u001b[0m\u001b[0;34m.\u001b[0m\u001b[0mgetOperator\u001b[0m\u001b[0;34m(\u001b[0m\u001b[0;34m)\u001b[0m\u001b[0;34m,\u001b[0m \u001b[0mspeedup\u001b[0m\u001b[0;34m=\u001b[0m\u001b[0;32mTrue\u001b[0m\u001b[0;34m)\u001b[0m\u001b[0;34m\u001b[0m\u001b[0;34m\u001b[0m\u001b[0m\n",
      "\u001b[0;32m<ipython-input-81-a4b2f738fd32>\u001b[0m in \u001b[0;36mevaluateWick\u001b[0;34m(term)\u001b[0m\n\u001b[1;32m      9\u001b[0m         \u001b[0;32mreturn\u001b[0m \u001b[0msum\u001b[0m\u001b[0;34m(\u001b[0m\u001b[0;34m[\u001b[0m\u001b[0mevaluateWick\u001b[0m\u001b[0;34m(\u001b[0m\u001b[0msummand\u001b[0m\u001b[0;34m)\u001b[0m \u001b[0;32mfor\u001b[0m \u001b[0msummand\u001b[0m \u001b[0;32min\u001b[0m \u001b[0mterm\u001b[0m\u001b[0;34m.\u001b[0m\u001b[0msummandList\u001b[0m\u001b[0;34m]\u001b[0m\u001b[0;34m)\u001b[0m\u001b[0;34m\u001b[0m\u001b[0;34m\u001b[0m\u001b[0m\n\u001b[1;32m     10\u001b[0m     \u001b[0msummandList\u001b[0m \u001b[0;34m=\u001b[0m \u001b[0;34m[\u001b[0m\u001b[0;34m]\u001b[0m\u001b[0;34m\u001b[0m\u001b[0;34m\u001b[0m\u001b[0m\n\u001b[0;32m---> 11\u001b[0;31m     \u001b[0mfullContractions\u001b[0m \u001b[0;34m=\u001b[0m \u001b[0mrecursiveVacuumExpectationValue\u001b[0m\u001b[0;34m(\u001b[0m\u001b[0mterm\u001b[0m\u001b[0;34m.\u001b[0m\u001b[0mgetOperator\u001b[0m\u001b[0;34m(\u001b[0m\u001b[0;34m)\u001b[0m\u001b[0;34m,\u001b[0m \u001b[0mspeedup\u001b[0m\u001b[0;34m=\u001b[0m\u001b[0;32mTrue\u001b[0m\u001b[0;34m)\u001b[0m\u001b[0;34m\u001b[0m\u001b[0;34m\u001b[0m\u001b[0m\n\u001b[0m\u001b[1;32m     12\u001b[0m     \u001b[0;32mfor\u001b[0m \u001b[0mtopology\u001b[0m \u001b[0;32min\u001b[0m \u001b[0mfullContractions\u001b[0m\u001b[0;34m.\u001b[0m\u001b[0msummandList\u001b[0m\u001b[0;34m:\u001b[0m\u001b[0;34m\u001b[0m\u001b[0;34m\u001b[0m\u001b[0m\n\u001b[1;32m     13\u001b[0m         \u001b[0mcontractionsList\u001b[0m \u001b[0;34m=\u001b[0m \u001b[0mtopology\u001b[0m\u001b[0;34m.\u001b[0m\u001b[0mcontractionsList\u001b[0m\u001b[0;34m\u001b[0m\u001b[0;34m\u001b[0m\u001b[0m\n",
      "\u001b[0;32m<ipython-input-47-cab9c2bd33e0>\u001b[0m in \u001b[0;36mgetOperator\u001b[0;34m(self)\u001b[0m\n\u001b[1;32m     45\u001b[0m         \u001b[0moperator\u001b[0m \u001b[0;34m=\u001b[0m \u001b[0;36m1\u001b[0m\u001b[0;34m\u001b[0m\u001b[0;34m\u001b[0m\u001b[0m\n\u001b[1;32m     46\u001b[0m         \u001b[0;32mfor\u001b[0m \u001b[0mvertex\u001b[0m \u001b[0;32min\u001b[0m \u001b[0mself\u001b[0m\u001b[0;34m.\u001b[0m\u001b[0mvertexList\u001b[0m\u001b[0;34m:\u001b[0m\u001b[0;34m\u001b[0m\u001b[0;34m\u001b[0m\u001b[0m\n\u001b[0;32m---> 47\u001b[0;31m             \u001b[0moperator\u001b[0m \u001b[0;34m=\u001b[0m \u001b[0moperator\u001b[0m \u001b[0;34m*\u001b[0m \u001b[0mvertex\u001b[0m\u001b[0;34m.\u001b[0m\u001b[0mgetOperator\u001b[0m\u001b[0;34m(\u001b[0m\u001b[0;34m)\u001b[0m\u001b[0;34m\u001b[0m\u001b[0;34m\u001b[0m\u001b[0m\n\u001b[0m\u001b[1;32m     48\u001b[0m         \u001b[0;32mreturn\u001b[0m \u001b[0moperator\u001b[0m\u001b[0;34m\u001b[0m\u001b[0;34m\u001b[0m\u001b[0m\n\u001b[1;32m     49\u001b[0m \u001b[0;34m\u001b[0m\u001b[0m\n",
      "\u001b[0;32m<ipython-input-5-02fa7403bc3b>\u001b[0m in \u001b[0;36m__mul__\u001b[0;34m(self, other)\u001b[0m\n\u001b[1;32m     81\u001b[0m                 \u001b[0mpartialSum\u001b[0m \u001b[0;34m=\u001b[0m \u001b[0mself\u001b[0m \u001b[0;34m*\u001b[0m \u001b[0mo\u001b[0m\u001b[0;34m\u001b[0m\u001b[0;34m\u001b[0m\u001b[0m\n\u001b[1;32m     82\u001b[0m                 \u001b[0mnewSummandList\u001b[0m \u001b[0;34m=\u001b[0m \u001b[0mnewSummandList\u001b[0m \u001b[0;34m+\u001b[0m \u001b[0mpartialSum\u001b[0m\u001b[0;34m.\u001b[0m\u001b[0msummandList\u001b[0m\u001b[0;34m\u001b[0m\u001b[0;34m\u001b[0m\u001b[0m\n\u001b[0;32m---> 83\u001b[0;31m             \u001b[0;32mreturn\u001b[0m \u001b[0moperatorSum\u001b[0m\u001b[0;34m(\u001b[0m\u001b[0mnewSummandList\u001b[0m\u001b[0;34m)\u001b[0m\u001b[0;34m\u001b[0m\u001b[0;34m\u001b[0m\u001b[0m\n\u001b[0m\u001b[1;32m     84\u001b[0m         \u001b[0;32melif\u001b[0m \u001b[0misinstance\u001b[0m\u001b[0;34m(\u001b[0m\u001b[0mother\u001b[0m\u001b[0;34m,\u001b[0m \u001b[0mNumber\u001b[0m\u001b[0;34m)\u001b[0m\u001b[0;34m:\u001b[0m\u001b[0;34m\u001b[0m\u001b[0;34m\u001b[0m\u001b[0m\n\u001b[1;32m     85\u001b[0m             \u001b[0;32mreturn\u001b[0m \u001b[0moperatorSum\u001b[0m\u001b[0;34m(\u001b[0m\u001b[0;34m[\u001b[0m\u001b[0mself\u001b[0m\u001b[0;34m.\u001b[0m\u001b[0msummandList\u001b[0m\u001b[0;34m[\u001b[0m\u001b[0ms\u001b[0m\u001b[0;34m]\u001b[0m \u001b[0;34m*\u001b[0m \u001b[0mother\u001b[0m \u001b[0;32mfor\u001b[0m \u001b[0ms\u001b[0m \u001b[0;32min\u001b[0m \u001b[0mrange\u001b[0m\u001b[0;34m(\u001b[0m\u001b[0mlen\u001b[0m\u001b[0;34m(\u001b[0m\u001b[0mself\u001b[0m\u001b[0;34m.\u001b[0m\u001b[0msummandList\u001b[0m\u001b[0;34m)\u001b[0m\u001b[0;34m)\u001b[0m\u001b[0;34m]\u001b[0m\u001b[0;34m)\u001b[0m\u001b[0;34m\u001b[0m\u001b[0;34m\u001b[0m\u001b[0m\n",
      "\u001b[0;32m<ipython-input-5-02fa7403bc3b>\u001b[0m in \u001b[0;36m__init__\u001b[0;34m(self, summandList_)\u001b[0m\n\u001b[1;32m      1\u001b[0m \u001b[0;32mclass\u001b[0m \u001b[0moperatorSum\u001b[0m\u001b[0;34m:\u001b[0m\u001b[0;34m\u001b[0m\u001b[0;34m\u001b[0m\u001b[0m\n\u001b[1;32m      2\u001b[0m     \u001b[0;32mdef\u001b[0m \u001b[0m__init__\u001b[0m\u001b[0;34m(\u001b[0m\u001b[0mself\u001b[0m\u001b[0;34m,\u001b[0m \u001b[0msummandList_\u001b[0m\u001b[0;34m=\u001b[0m\u001b[0;34m[\u001b[0m\u001b[0;34m]\u001b[0m\u001b[0;34m)\u001b[0m\u001b[0;34m:\u001b[0m\u001b[0;34m\u001b[0m\u001b[0;34m\u001b[0m\u001b[0m\n\u001b[0;32m----> 3\u001b[0;31m         \u001b[0mself\u001b[0m\u001b[0;34m.\u001b[0m\u001b[0msummandList\u001b[0m \u001b[0;34m=\u001b[0m \u001b[0mself\u001b[0m\u001b[0;34m.\u001b[0m\u001b[0mcollectSummandList\u001b[0m\u001b[0;34m(\u001b[0m\u001b[0msummandList_\u001b[0m\u001b[0;34m)\u001b[0m\u001b[0;34m\u001b[0m\u001b[0;34m\u001b[0m\u001b[0m\n\u001b[0m\u001b[1;32m      4\u001b[0m \u001b[0;34m\u001b[0m\u001b[0m\n\u001b[1;32m      5\u001b[0m     \u001b[0;32mdef\u001b[0m \u001b[0mcollectSummandList\u001b[0m\u001b[0;34m(\u001b[0m\u001b[0mself\u001b[0m\u001b[0;34m,\u001b[0m \u001b[0msummandList\u001b[0m\u001b[0;34m)\u001b[0m\u001b[0;34m:\u001b[0m\u001b[0;34m\u001b[0m\u001b[0;34m\u001b[0m\u001b[0m\n",
      "\u001b[0;32m<ipython-input-5-02fa7403bc3b>\u001b[0m in \u001b[0;36mcollectSummandList\u001b[0;34m(self, summandList)\u001b[0m\n\u001b[1;32m     10\u001b[0m             \u001b[0mi\u001b[0m \u001b[0;34m=\u001b[0m \u001b[0;36m1\u001b[0m\u001b[0;34m\u001b[0m\u001b[0;34m\u001b[0m\u001b[0m\n\u001b[1;32m     11\u001b[0m             \u001b[0;32mwhile\u001b[0m \u001b[0mi\u001b[0m \u001b[0;34m<\u001b[0m \u001b[0mlen\u001b[0m\u001b[0;34m(\u001b[0m\u001b[0moldSummandList\u001b[0m\u001b[0;34m)\u001b[0m\u001b[0;34m:\u001b[0m\u001b[0;34m\u001b[0m\u001b[0;34m\u001b[0m\u001b[0m\n\u001b[0;32m---> 12\u001b[0;31m                 \u001b[0;32mif\u001b[0m \u001b[0mnewSummand\u001b[0m\u001b[0;34m.\u001b[0m\u001b[0misProportional\u001b[0m\u001b[0;34m(\u001b[0m\u001b[0moldSummandList\u001b[0m\u001b[0;34m[\u001b[0m\u001b[0mi\u001b[0m\u001b[0;34m]\u001b[0m\u001b[0;34m)\u001b[0m\u001b[0;34m:\u001b[0m\u001b[0;34m\u001b[0m\u001b[0;34m\u001b[0m\u001b[0m\n\u001b[0m\u001b[1;32m     13\u001b[0m                     \u001b[0mnewSummand\u001b[0m \u001b[0;34m+=\u001b[0m \u001b[0moldSummandList\u001b[0m\u001b[0;34m[\u001b[0m\u001b[0mi\u001b[0m\u001b[0;34m]\u001b[0m\u001b[0;34m\u001b[0m\u001b[0;34m\u001b[0m\u001b[0m\n\u001b[1;32m     14\u001b[0m                     \u001b[0moldSummandList\u001b[0m\u001b[0;34m.\u001b[0m\u001b[0mpop\u001b[0m\u001b[0;34m(\u001b[0m\u001b[0mi\u001b[0m\u001b[0;34m)\u001b[0m\u001b[0;34m\u001b[0m\u001b[0;34m\u001b[0m\u001b[0m\n",
      "\u001b[0;32m<ipython-input-4-70f21693186c>\u001b[0m in \u001b[0;36misProportional\u001b[0;34m(self, other)\u001b[0m\n\u001b[1;32m      7\u001b[0m     \u001b[0;32mdef\u001b[0m \u001b[0misProportional\u001b[0m\u001b[0;34m(\u001b[0m\u001b[0mself\u001b[0m\u001b[0;34m,\u001b[0m \u001b[0mother\u001b[0m\u001b[0;34m)\u001b[0m\u001b[0;34m:\u001b[0m\u001b[0;34m\u001b[0m\u001b[0;34m\u001b[0m\u001b[0m\n\u001b[1;32m      8\u001b[0m         \u001b[0;32mif\u001b[0m \u001b[0misinstance\u001b[0m\u001b[0;34m(\u001b[0m\u001b[0mother\u001b[0m\u001b[0;34m,\u001b[0m \u001b[0moperatorProduct\u001b[0m\u001b[0;34m)\u001b[0m\u001b[0;34m:\u001b[0m\u001b[0;34m\u001b[0m\u001b[0;34m\u001b[0m\u001b[0m\n\u001b[0;32m----> 9\u001b[0;31m             \u001b[0;32mreturn\u001b[0m \u001b[0mself\u001b[0m\u001b[0;34m.\u001b[0m\u001b[0moperatorList\u001b[0m \u001b[0;34m==\u001b[0m \u001b[0mother\u001b[0m\u001b[0;34m.\u001b[0m\u001b[0moperatorList\u001b[0m \u001b[0;32mand\u001b[0m \u001b[0mset\u001b[0m\u001b[0;34m(\u001b[0m\u001b[0mself\u001b[0m\u001b[0;34m.\u001b[0m\u001b[0mcontractionsList\u001b[0m\u001b[0;34m)\u001b[0m \u001b[0;34m==\u001b[0m \u001b[0mset\u001b[0m\u001b[0;34m(\u001b[0m\u001b[0mother\u001b[0m\u001b[0;34m.\u001b[0m\u001b[0mcontractionsList\u001b[0m\u001b[0;34m)\u001b[0m\u001b[0;34m\u001b[0m\u001b[0;34m\u001b[0m\u001b[0m\n\u001b[0m\u001b[1;32m     10\u001b[0m         \u001b[0;32melse\u001b[0m\u001b[0;34m:\u001b[0m\u001b[0;34m\u001b[0m\u001b[0;34m\u001b[0m\u001b[0m\n\u001b[1;32m     11\u001b[0m             \u001b[0;32mreturn\u001b[0m \u001b[0mNotImplemented\u001b[0m\u001b[0;34m\u001b[0m\u001b[0;34m\u001b[0m\u001b[0m\n",
      "\u001b[0;32m<ipython-input-3-223881bd0f1c>\u001b[0m in \u001b[0;36m__eq__\u001b[0;34m(self, other)\u001b[0m\n\u001b[1;32m     30\u001b[0m     \u001b[0;32mdef\u001b[0m \u001b[0m__eq__\u001b[0m\u001b[0;34m(\u001b[0m\u001b[0mself\u001b[0m\u001b[0;34m,\u001b[0m \u001b[0mother\u001b[0m\u001b[0;34m)\u001b[0m\u001b[0;34m:\u001b[0m\u001b[0;34m\u001b[0m\u001b[0;34m\u001b[0m\u001b[0m\n\u001b[1;32m     31\u001b[0m         \u001b[0;32mif\u001b[0m \u001b[0misinstance\u001b[0m\u001b[0;34m(\u001b[0m\u001b[0mother\u001b[0m\u001b[0;34m,\u001b[0m \u001b[0mbasicOperator\u001b[0m\u001b[0;34m)\u001b[0m\u001b[0;34m:\u001b[0m\u001b[0;34m\u001b[0m\u001b[0;34m\u001b[0m\u001b[0m\n\u001b[0;32m---> 32\u001b[0;31m             \u001b[0;32mreturn\u001b[0m \u001b[0mself\u001b[0m\u001b[0;34m.\u001b[0m\u001b[0mindex\u001b[0m \u001b[0;34m==\u001b[0m \u001b[0mother\u001b[0m\u001b[0;34m.\u001b[0m\u001b[0mindex\u001b[0m \u001b[0;32mand\u001b[0m \u001b[0mself\u001b[0m\u001b[0;34m.\u001b[0m\u001b[0mspin\u001b[0m \u001b[0;34m==\u001b[0m \u001b[0mother\u001b[0m\u001b[0;34m.\u001b[0m\u001b[0mspin\u001b[0m \u001b[0;32mand\u001b[0m \u001b[0mself\u001b[0m\u001b[0;34m.\u001b[0m\u001b[0mcreation_annihilation\u001b[0m \u001b[0;34m==\u001b[0m \u001b[0mother\u001b[0m\u001b[0;34m.\u001b[0m\u001b[0mcreation_annihilation\u001b[0m\u001b[0;34m\u001b[0m\u001b[0;34m\u001b[0m\u001b[0m\n\u001b[0m\u001b[1;32m     33\u001b[0m         \u001b[0;32mreturn\u001b[0m \u001b[0;32mFalse\u001b[0m\u001b[0;34m\u001b[0m\u001b[0;34m\u001b[0m\u001b[0m\n\u001b[1;32m     34\u001b[0m \u001b[0;34m\u001b[0m\u001b[0m\n",
      "\u001b[0;32m<ipython-input-2-84ed226d9c18>\u001b[0m in \u001b[0;36m__eq__\u001b[0;34m(self, other)\u001b[0m\n\u001b[1;32m     14\u001b[0m \u001b[0;34m\u001b[0m\u001b[0m\n\u001b[1;32m     15\u001b[0m     \u001b[0;32mdef\u001b[0m \u001b[0m__eq__\u001b[0m\u001b[0;34m(\u001b[0m\u001b[0mself\u001b[0m\u001b[0;34m,\u001b[0m \u001b[0mother\u001b[0m\u001b[0;34m)\u001b[0m\u001b[0;34m:\u001b[0m\u001b[0;34m\u001b[0m\u001b[0;34m\u001b[0m\u001b[0m\n\u001b[0;32m---> 16\u001b[0;31m         \u001b[0;32mreturn\u001b[0m \u001b[0mself\u001b[0m\u001b[0;34m.\u001b[0m\u001b[0mtuple\u001b[0m \u001b[0;34m==\u001b[0m \u001b[0mother\u001b[0m\u001b[0;34m\u001b[0m\u001b[0;34m\u001b[0m\u001b[0m\n\u001b[0m\u001b[1;32m     17\u001b[0m \u001b[0;34m\u001b[0m\u001b[0m\n\u001b[1;32m     18\u001b[0m     \u001b[0;32mdef\u001b[0m \u001b[0m__str__\u001b[0m\u001b[0;34m(\u001b[0m\u001b[0mself\u001b[0m\u001b[0;34m)\u001b[0m\u001b[0;34m:\u001b[0m\u001b[0;34m\u001b[0m\u001b[0;34m\u001b[0m\u001b[0m\n",
      "\u001b[0;32m<ipython-input-2-84ed226d9c18>\u001b[0m in \u001b[0;36m__eq__\u001b[0;34m(self, other)\u001b[0m\n\u001b[1;32m     13\u001b[0m         \u001b[0;32mreturn\u001b[0m \u001b[0mhash\u001b[0m\u001b[0;34m(\u001b[0m\u001b[0mself\u001b[0m\u001b[0;34m.\u001b[0m\u001b[0mtuple\u001b[0m\u001b[0;34m)\u001b[0m\u001b[0;34m\u001b[0m\u001b[0;34m\u001b[0m\u001b[0m\n\u001b[1;32m     14\u001b[0m \u001b[0;34m\u001b[0m\u001b[0m\n\u001b[0;32m---> 15\u001b[0;31m     \u001b[0;32mdef\u001b[0m \u001b[0m__eq__\u001b[0m\u001b[0;34m(\u001b[0m\u001b[0mself\u001b[0m\u001b[0;34m,\u001b[0m \u001b[0mother\u001b[0m\u001b[0;34m)\u001b[0m\u001b[0;34m:\u001b[0m\u001b[0;34m\u001b[0m\u001b[0;34m\u001b[0m\u001b[0m\n\u001b[0m\u001b[1;32m     16\u001b[0m         \u001b[0;32mreturn\u001b[0m \u001b[0mself\u001b[0m\u001b[0;34m.\u001b[0m\u001b[0mtuple\u001b[0m \u001b[0;34m==\u001b[0m \u001b[0mother\u001b[0m\u001b[0;34m\u001b[0m\u001b[0;34m\u001b[0m\u001b[0m\n\u001b[1;32m     17\u001b[0m \u001b[0;34m\u001b[0m\u001b[0m\n",
      "\u001b[0;31mKeyboardInterrupt\u001b[0m: "
     ]
    }
   ],
   "metadata": {
    "tags": []
   }
  },
  {
   "cell_type": "code",
   "execution_count": 112,
   "source": [
    "print(time1-time0)"
   ],
   "outputs": [
    {
     "output_type": "stream",
     "name": "stdout",
     "text": [
      "-0.7201193800065084\n"
     ]
    }
   ],
   "metadata": {}
  },
  {
   "cell_type": "code",
   "execution_count": 113,
   "source": [
    "CCDDoublesResidual.summandList[0].tensorList"
   ],
   "outputs": [
    {
     "output_type": "error",
     "ename": "NameError",
     "evalue": "name 'CCDDoublesResidual' is not defined",
     "traceback": [
      "\u001b[0;31m---------------------------------------------------------------------------\u001b[0m",
      "\u001b[0;31mNameError\u001b[0m                                 Traceback (most recent call last)",
      "\u001b[0;32m<ipython-input-113-5ea2aae1f03b>\u001b[0m in \u001b[0;36m<module>\u001b[0;34m\u001b[0m\n\u001b[0;32m----> 1\u001b[0;31m \u001b[0mCCDDoublesResidual\u001b[0m\u001b[0;34m.\u001b[0m\u001b[0msummandList\u001b[0m\u001b[0;34m[\u001b[0m\u001b[0;36m0\u001b[0m\u001b[0;34m]\u001b[0m\u001b[0;34m.\u001b[0m\u001b[0mtensorList\u001b[0m\u001b[0;34m\u001b[0m\u001b[0;34m\u001b[0m\u001b[0m\n\u001b[0m",
      "\u001b[0;31mNameError\u001b[0m: name 'CCDDoublesResidual' is not defined"
     ]
    }
   ],
   "metadata": {}
  },
  {
   "cell_type": "code",
   "execution_count": 114,
   "source": [
    "for s in recursiveVacuumExpectationValue((projectionManifold(2) * transformH.summandList[0]).getOperator(), speedup=False).summandList:\n",
    "    print(s)"
   ],
   "outputs": [
    {
     "output_type": "stream",
     "name": "stdout",
     "text": [
      "-2.0 * \\delta^{h_{0}}_{h_{2}}\\delta^{h_{1}}_{h_{3}}\\delta^{p_{2}}_{p_{0}}\\delta^{p_{4}}_{p_{1}}\\delta^{p_{5}}_{p_{3}}\n",
      "4.0 * \\delta^{h_{0}}_{h_{2}}\\delta^{h_{1}}_{h_{3}}\\delta^{p_{2}}_{p_{0}}\\delta^{p_{5}}_{p_{1}}\\delta^{p_{4}}_{p_{3}}\n",
      "4.0 * \\delta^{h_{0}}_{h_{2}}\\delta^{h_{1}}_{h_{3}}\\delta^{p_{4}}_{p_{0}}\\delta^{p_{2}}_{p_{1}}\\delta^{p_{5}}_{p_{3}}\n",
      "-2.0 * \\delta^{h_{0}}_{h_{2}}\\delta^{h_{1}}_{h_{3}}\\delta^{p_{5}}_{p_{0}}\\delta^{p_{2}}_{p_{1}}\\delta^{p_{4}}_{p_{3}}\n",
      "4.0 * \\delta^{h_{0}}_{h_{3}}\\delta^{h_{1}}_{h_{2}}\\delta^{p_{2}}_{p_{0}}\\delta^{p_{4}}_{p_{1}}\\delta^{p_{5}}_{p_{3}}\n",
      "-2.0 * \\delta^{h_{0}}_{h_{3}}\\delta^{h_{1}}_{h_{2}}\\delta^{p_{2}}_{p_{0}}\\delta^{p_{5}}_{p_{1}}\\delta^{p_{4}}_{p_{3}}\n",
      "-2.0 * \\delta^{h_{0}}_{h_{3}}\\delta^{h_{1}}_{h_{2}}\\delta^{p_{4}}_{p_{0}}\\delta^{p_{2}}_{p_{1}}\\delta^{p_{5}}_{p_{3}}\n",
      "4.0 * \\delta^{h_{0}}_{h_{3}}\\delta^{h_{1}}_{h_{2}}\\delta^{p_{5}}_{p_{0}}\\delta^{p_{2}}_{p_{1}}\\delta^{p_{4}}_{p_{3}}\n"
     ]
    }
   ],
   "metadata": {}
  },
  {
   "cell_type": "code",
   "execution_count": 115,
   "source": [
    "print(CCDDoublesResidual)"
   ],
   "outputs": [
    {
     "output_type": "error",
     "ename": "NameError",
     "evalue": "name 'CCDDoublesResidual' is not defined",
     "traceback": [
      "\u001b[0;31m---------------------------------------------------------------------------\u001b[0m",
      "\u001b[0;31mNameError\u001b[0m                                 Traceback (most recent call last)",
      "\u001b[0;32m<ipython-input-115-6d4d9dc2f826>\u001b[0m in \u001b[0;36m<module>\u001b[0;34m\u001b[0m\n\u001b[0;32m----> 1\u001b[0;31m \u001b[0mprint\u001b[0m\u001b[0;34m(\u001b[0m\u001b[0mCCDDoublesResidual\u001b[0m\u001b[0;34m)\u001b[0m\u001b[0;34m\u001b[0m\u001b[0;34m\u001b[0m\u001b[0m\n\u001b[0m",
      "\u001b[0;31mNameError\u001b[0m: name 'CCDDoublesResidual' is not defined"
     ]
    }
   ],
   "metadata": {}
  },
  {
   "cell_type": "code",
   "execution_count": 116,
   "source": [
    "len(CCDDoublesResidual.summandList)"
   ],
   "outputs": [
    {
     "output_type": "error",
     "ename": "NameError",
     "evalue": "name 'CCDDoublesResidual' is not defined",
     "traceback": [
      "\u001b[0;31m---------------------------------------------------------------------------\u001b[0m",
      "\u001b[0;31mNameError\u001b[0m                                 Traceback (most recent call last)",
      "\u001b[0;32m<ipython-input-116-3a24dba55d16>\u001b[0m in \u001b[0;36m<module>\u001b[0;34m\u001b[0m\n\u001b[0;32m----> 1\u001b[0;31m \u001b[0mlen\u001b[0m\u001b[0;34m(\u001b[0m\u001b[0mCCDDoublesResidual\u001b[0m\u001b[0;34m.\u001b[0m\u001b[0msummandList\u001b[0m\u001b[0;34m)\u001b[0m\u001b[0;34m\u001b[0m\u001b[0;34m\u001b[0m\u001b[0m\n\u001b[0m",
      "\u001b[0;31mNameError\u001b[0m: name 'CCDDoublesResidual' is not defined"
     ]
    }
   ],
   "metadata": {}
  },
  {
   "cell_type": "code",
   "execution_count": 117,
   "source": [
    "testCCDDoublesResidual = copy(CCDDoublesResidual)"
   ],
   "outputs": [
    {
     "output_type": "error",
     "ename": "NameError",
     "evalue": "name 'CCDDoublesResidual' is not defined",
     "traceback": [
      "\u001b[0;31m---------------------------------------------------------------------------\u001b[0m",
      "\u001b[0;31mNameError\u001b[0m                                 Traceback (most recent call last)",
      "\u001b[0;32m<ipython-input-117-e7f69f2a303e>\u001b[0m in \u001b[0;36m<module>\u001b[0;34m\u001b[0m\n\u001b[0;32m----> 1\u001b[0;31m \u001b[0mtestCCDDoublesResidual\u001b[0m \u001b[0;34m=\u001b[0m \u001b[0mcopy\u001b[0m\u001b[0;34m(\u001b[0m\u001b[0mCCDDoublesResidual\u001b[0m\u001b[0;34m)\u001b[0m\u001b[0;34m\u001b[0m\u001b[0;34m\u001b[0m\u001b[0m\n\u001b[0m",
      "\u001b[0;31mNameError\u001b[0m: name 'CCDDoublesResidual' is not defined"
     ]
    }
   ],
   "metadata": {}
  },
  {
   "cell_type": "code",
   "execution_count": 118,
   "source": [
    "print(testCCDDoublesResidual.summandList[0].vertexList[0])"
   ],
   "outputs": [
    {
     "output_type": "error",
     "ename": "NameError",
     "evalue": "name 'testCCDDoublesResidual' is not defined",
     "traceback": [
      "\u001b[0;31m---------------------------------------------------------------------------\u001b[0m",
      "\u001b[0;31mNameError\u001b[0m                                 Traceback (most recent call last)",
      "\u001b[0;32m<ipython-input-118-cc5a29ac0774>\u001b[0m in \u001b[0;36m<module>\u001b[0;34m\u001b[0m\n\u001b[0;32m----> 1\u001b[0;31m \u001b[0mprint\u001b[0m\u001b[0;34m(\u001b[0m\u001b[0mtestCCDDoublesResidual\u001b[0m\u001b[0;34m.\u001b[0m\u001b[0msummandList\u001b[0m\u001b[0;34m[\u001b[0m\u001b[0;36m0\u001b[0m\u001b[0;34m]\u001b[0m\u001b[0;34m.\u001b[0m\u001b[0mvertexList\u001b[0m\u001b[0;34m[\u001b[0m\u001b[0;36m0\u001b[0m\u001b[0;34m]\u001b[0m\u001b[0;34m)\u001b[0m\u001b[0;34m\u001b[0m\u001b[0;34m\u001b[0m\u001b[0m\n\u001b[0m",
      "\u001b[0;31mNameError\u001b[0m: name 'testCCDDoublesResidual' is not defined"
     ]
    }
   ],
   "metadata": {}
  },
  {
   "cell_type": "code",
   "execution_count": 119,
   "source": [
    "for summand in testCCDDoublesResidual.summandList:\n",
    "    summand.vertexList.pop(0)"
   ],
   "outputs": [
    {
     "output_type": "error",
     "ename": "NameError",
     "evalue": "name 'testCCDDoublesResidual' is not defined",
     "traceback": [
      "\u001b[0;31m---------------------------------------------------------------------------\u001b[0m",
      "\u001b[0;31mNameError\u001b[0m                                 Traceback (most recent call last)",
      "\u001b[0;32m<ipython-input-119-6c1a79408c9c>\u001b[0m in \u001b[0;36m<module>\u001b[0;34m\u001b[0m\n\u001b[0;32m----> 1\u001b[0;31m \u001b[0;32mfor\u001b[0m \u001b[0msummand\u001b[0m \u001b[0;32min\u001b[0m \u001b[0mtestCCDDoublesResidual\u001b[0m\u001b[0;34m.\u001b[0m\u001b[0msummandList\u001b[0m\u001b[0;34m:\u001b[0m\u001b[0;34m\u001b[0m\u001b[0;34m\u001b[0m\u001b[0m\n\u001b[0m\u001b[1;32m      2\u001b[0m     \u001b[0msummand\u001b[0m\u001b[0;34m.\u001b[0m\u001b[0mvertexList\u001b[0m\u001b[0;34m.\u001b[0m\u001b[0mpop\u001b[0m\u001b[0;34m(\u001b[0m\u001b[0;36m0\u001b[0m\u001b[0;34m)\u001b[0m\u001b[0;34m\u001b[0m\u001b[0;34m\u001b[0m\u001b[0m\n",
      "\u001b[0;31mNameError\u001b[0m: name 'testCCDDoublesResidual' is not defined"
     ]
    }
   ],
   "metadata": {}
  },
  {
   "cell_type": "code",
   "execution_count": 117,
   "source": [
    "print(testCCDDoublesResidual)"
   ],
   "outputs": [
    {
     "output_type": "stream",
     "name": "stdout",
     "text": [
      "-0.5 * f_{p_{0}}^{p_{3}}t2_{p_{1}p_{3}}^{h_{2}h_{3}}\n",
      " + 1.0 * f_{p_{0}}^{p_{3}}t2_{p_{3}p_{1}}^{h_{2}h_{3}}\n",
      " + 1.0 * f_{p_{1}}^{p_{3}}t2_{p_{0}p_{3}}^{h_{2}h_{3}}\n",
      " + -0.5 * f_{p_{1}}^{p_{3}}t2_{p_{3}p_{0}}^{h_{2}h_{3}}\n",
      " + 1.0 * f_{p_{0}}^{p_{3}}t2_{p_{1}p_{3}}^{h_{2}h_{3}}\n",
      " + -0.5 * f_{p_{0}}^{p_{3}}t2_{p_{3}p_{1}}^{h_{2}h_{3}}\n",
      " + -0.5 * f_{p_{1}}^{p_{3}}t2_{p_{0}p_{3}}^{h_{2}h_{3}}\n",
      " + 1.0 * f_{p_{1}}^{p_{3}}t2_{p_{3}p_{0}}^{h_{2}h_{3}}\n",
      " + 0.5 * f_{h_{5}}^{h_{3}}t2_{p_{0}p_{1}}^{h_{4}h_{5}}\n",
      " + -1.0 * f_{h_{5}}^{h_{3}}t2_{p_{1}p_{0}}^{h_{4}h_{5}}\n",
      " + -1.0 * f_{h_{4}}^{h_{3}}t2_{p_{0}p_{1}}^{h_{4}h_{5}}\n",
      " + 0.5 * f_{h_{4}}^{h_{3}}t2_{p_{1}p_{0}}^{h_{4}h_{5}}\n",
      " + -1.0 * f_{h_{5}}^{h_{3}}t2_{p_{0}p_{1}}^{h_{4}h_{5}}\n",
      " + 0.5 * f_{h_{5}}^{h_{3}}t2_{p_{1}p_{0}}^{h_{4}h_{5}}\n",
      " + 2.0 * f_{h_{3}}^{h_{3}}t2_{p_{0}p_{1}}^{h_{4}h_{5}}\n",
      " + -1.0 * f_{h_{3}}^{h_{3}}t2_{p_{1}p_{0}}^{h_{4}h_{5}}\n",
      " + 0.5 * f_{h_{4}}^{h_{3}}t2_{p_{0}p_{1}}^{h_{4}h_{5}}\n",
      " + -1.0 * f_{h_{4}}^{h_{3}}t2_{p_{1}p_{0}}^{h_{4}h_{5}}\n",
      " + -1.0 * f_{h_{3}}^{h_{3}}t2_{p_{0}p_{1}}^{h_{4}h_{5}}\n",
      " + 2.0 * f_{h_{3}}^{h_{3}}t2_{p_{1}p_{0}}^{h_{4}h_{5}}\n",
      " + -2.0 * t2_{p_{0}p_{1}}^{h_{2}h_{3}}f_{h_{5}}^{h_{5}}\n",
      " + 1.0 * t2_{p_{1}p_{0}}^{h_{2}h_{3}}f_{h_{5}}^{h_{5}}\n",
      " + 1.0 * t2_{p_{0}p_{1}}^{h_{2}h_{3}}f_{h_{5}}^{h_{5}}\n",
      " + -2.0 * t2_{p_{1}p_{0}}^{h_{2}h_{3}}f_{h_{5}}^{h_{5}}\n",
      " + -0.25 * v_{p_{0}p_{1}}^{p_{4}p_{5}}t2_{p_{4}p_{5}}^{h_{2}h_{3}}\n",
      " + 0.5 * v_{p_{0}p_{1}}^{p_{4}p_{5}}t2_{p_{5}p_{4}}^{h_{2}h_{3}}\n",
      " + 0.5 * v_{p_{1}p_{0}}^{p_{4}p_{5}}t2_{p_{4}p_{5}}^{h_{2}h_{3}}\n",
      " + -0.25 * v_{p_{1}p_{0}}^{p_{4}p_{5}}t2_{p_{5}p_{4}}^{h_{2}h_{3}}\n",
      " + 0.5 * v_{p_{0}p_{1}}^{p_{4}p_{5}}t2_{p_{4}p_{5}}^{h_{2}h_{3}}\n",
      " + -0.25 * v_{p_{0}p_{1}}^{p_{4}p_{5}}t2_{p_{5}p_{4}}^{h_{2}h_{3}}\n",
      " + -0.25 * v_{p_{1}p_{0}}^{p_{4}p_{5}}t2_{p_{4}p_{5}}^{h_{2}h_{3}}\n",
      " + 0.5 * v_{p_{1}p_{0}}^{p_{4}p_{5}}t2_{p_{5}p_{4}}^{h_{2}h_{3}}\n",
      " + -0.25 * v_{h_{6}h_{7}}^{h_{4}h_{5}}t2_{p_{0}p_{1}}^{h_{6}h_{7}}\n",
      " + 0.5 * v_{h_{7}h_{6}}^{h_{4}h_{5}}t2_{p_{0}p_{1}}^{h_{6}h_{7}}\n",
      " + 0.5 * v_{h_{6}h_{7}}^{h_{4}h_{5}}t2_{p_{1}p_{0}}^{h_{6}h_{7}}\n",
      " + -0.25 * v_{h_{7}h_{6}}^{h_{4}h_{5}}t2_{p_{1}p_{0}}^{h_{6}h_{7}}\n",
      " + 0.5 * v_{h_{5}h_{7}}^{h_{4}h_{5}}t2_{p_{0}p_{1}}^{h_{6}h_{7}}\n",
      " + -0.25 * v_{h_{7}h_{5}}^{h_{4}h_{5}}t2_{p_{0}p_{1}}^{h_{6}h_{7}}\n",
      " + -1.0 * v_{h_{5}h_{7}}^{h_{4}h_{5}}t2_{p_{1}p_{0}}^{h_{6}h_{7}}\n",
      " + 0.5 * v_{h_{7}h_{5}}^{h_{4}h_{5}}t2_{p_{1}p_{0}}^{h_{6}h_{7}}\n",
      " + -1.0 * v_{h_{5}h_{6}}^{h_{4}h_{5}}t2_{p_{0}p_{1}}^{h_{6}h_{7}}\n",
      " + 0.5 * v_{h_{6}h_{5}}^{h_{4}h_{5}}t2_{p_{0}p_{1}}^{h_{6}h_{7}}\n",
      " + 0.5 * v_{h_{5}h_{6}}^{h_{4}h_{5}}t2_{p_{1}p_{0}}^{h_{6}h_{7}}\n",
      " + -0.25 * v_{h_{6}h_{5}}^{h_{4}h_{5}}t2_{p_{1}p_{0}}^{h_{6}h_{7}}\n",
      " + 0.5 * v_{h_{6}h_{7}}^{h_{4}h_{5}}t2_{p_{0}p_{1}}^{h_{6}h_{7}}\n",
      " + -0.25 * v_{h_{7}h_{6}}^{h_{4}h_{5}}t2_{p_{0}p_{1}}^{h_{6}h_{7}}\n",
      " + -0.25 * v_{h_{6}h_{7}}^{h_{4}h_{5}}t2_{p_{1}p_{0}}^{h_{6}h_{7}}\n",
      " + 0.5 * v_{h_{7}h_{6}}^{h_{4}h_{5}}t2_{p_{1}p_{0}}^{h_{6}h_{7}}\n",
      " + -0.25 * v_{h_{4}h_{7}}^{h_{4}h_{5}}t2_{p_{0}p_{1}}^{h_{6}h_{7}}\n",
      " + 0.5 * v_{h_{7}h_{4}}^{h_{4}h_{5}}t2_{p_{0}p_{1}}^{h_{6}h_{7}}\n",
      " + 0.5 * v_{h_{4}h_{7}}^{h_{4}h_{5}}t2_{p_{1}p_{0}}^{h_{6}h_{7}}\n",
      " + -1.0 * v_{h_{7}h_{4}}^{h_{4}h_{5}}t2_{p_{1}p_{0}}^{h_{6}h_{7}}\n",
      " + 0.5 * v_{h_{4}h_{6}}^{h_{4}h_{5}}t2_{p_{0}p_{1}}^{h_{6}h_{7}}\n",
      " + -1.0 * v_{h_{6}h_{4}}^{h_{4}h_{5}}t2_{p_{0}p_{1}}^{h_{6}h_{7}}\n",
      " + -0.25 * v_{h_{4}h_{6}}^{h_{4}h_{5}}t2_{p_{1}p_{0}}^{h_{6}h_{7}}\n",
      " + 0.5 * v_{h_{6}h_{4}}^{h_{4}h_{5}}t2_{p_{1}p_{0}}^{h_{6}h_{7}}\n",
      " + -1.0 * v_{h_{5}h_{7}}^{h_{4}h_{5}}t2_{p_{0}p_{1}}^{h_{6}h_{7}}\n",
      " + 0.5 * v_{h_{7}h_{5}}^{h_{4}h_{5}}t2_{p_{0}p_{1}}^{h_{6}h_{7}}\n",
      " + 0.5 * v_{h_{5}h_{7}}^{h_{4}h_{5}}t2_{p_{1}p_{0}}^{h_{6}h_{7}}\n",
      " + -0.25 * v_{h_{7}h_{5}}^{h_{4}h_{5}}t2_{p_{1}p_{0}}^{h_{6}h_{7}}\n",
      " + 0.5 * v_{h_{4}h_{7}}^{h_{4}h_{5}}t2_{p_{0}p_{1}}^{h_{6}h_{7}}\n",
      " + -1.0 * v_{h_{7}h_{4}}^{h_{4}h_{5}}t2_{p_{0}p_{1}}^{h_{6}h_{7}}\n",
      " + -0.25 * v_{h_{4}h_{7}}^{h_{4}h_{5}}t2_{p_{1}p_{0}}^{h_{6}h_{7}}\n",
      " + 0.5 * v_{h_{7}h_{4}}^{h_{4}h_{5}}t2_{p_{1}p_{0}}^{h_{6}h_{7}}\n",
      " + -1.0 * v_{h_{4}h_{5}}^{h_{4}h_{5}}t2_{p_{0}p_{1}}^{h_{6}h_{7}}\n",
      " + 2.0 * v_{h_{5}h_{4}}^{h_{4}h_{5}}t2_{p_{0}p_{1}}^{h_{6}h_{7}}\n",
      " + 0.5 * v_{h_{4}h_{5}}^{h_{4}h_{5}}t2_{p_{1}p_{0}}^{h_{6}h_{7}}\n",
      " + -1.0 * v_{h_{5}h_{4}}^{h_{4}h_{5}}t2_{p_{1}p_{0}}^{h_{6}h_{7}}\n",
      " + 0.5 * v_{h_{5}h_{6}}^{h_{4}h_{5}}t2_{p_{0}p_{1}}^{h_{6}h_{7}}\n",
      " + -0.25 * v_{h_{6}h_{5}}^{h_{4}h_{5}}t2_{p_{0}p_{1}}^{h_{6}h_{7}}\n",
      " + -1.0 * v_{h_{5}h_{6}}^{h_{4}h_{5}}t2_{p_{1}p_{0}}^{h_{6}h_{7}}\n",
      " + 0.5 * v_{h_{6}h_{5}}^{h_{4}h_{5}}t2_{p_{1}p_{0}}^{h_{6}h_{7}}\n",
      " + -0.25 * v_{h_{4}h_{6}}^{h_{4}h_{5}}t2_{p_{0}p_{1}}^{h_{6}h_{7}}\n",
      " + 0.5 * v_{h_{6}h_{4}}^{h_{4}h_{5}}t2_{p_{0}p_{1}}^{h_{6}h_{7}}\n",
      " + 0.5 * v_{h_{4}h_{6}}^{h_{4}h_{5}}t2_{p_{1}p_{0}}^{h_{6}h_{7}}\n",
      " + -1.0 * v_{h_{6}h_{4}}^{h_{4}h_{5}}t2_{p_{1}p_{0}}^{h_{6}h_{7}}\n",
      " + 0.5 * v_{h_{4}h_{5}}^{h_{4}h_{5}}t2_{p_{0}p_{1}}^{h_{6}h_{7}}\n",
      " + -1.0 * v_{h_{5}h_{4}}^{h_{4}h_{5}}t2_{p_{0}p_{1}}^{h_{6}h_{7}}\n",
      " + -1.0 * v_{h_{4}h_{5}}^{h_{4}h_{5}}t2_{p_{1}p_{0}}^{h_{6}h_{7}}\n",
      " + 2.0 * v_{h_{5}h_{4}}^{h_{4}h_{5}}t2_{p_{1}p_{0}}^{h_{6}h_{7}}\n",
      " + 1.0 * t2_{p_{0}p_{1}}^{h_{2}h_{3}}v_{h_{6}h_{7}}^{h_{6}h_{7}}\n",
      " + -2.0 * t2_{p_{0}p_{1}}^{h_{2}h_{3}}v_{h_{7}h_{6}}^{h_{6}h_{7}}\n",
      " + -0.5 * t2_{p_{1}p_{0}}^{h_{2}h_{3}}v_{h_{6}h_{7}}^{h_{6}h_{7}}\n",
      " + 1.0 * t2_{p_{1}p_{0}}^{h_{2}h_{3}}v_{h_{7}h_{6}}^{h_{6}h_{7}}\n",
      " + -0.5 * t2_{p_{0}p_{1}}^{h_{2}h_{3}}v_{h_{6}h_{7}}^{h_{6}h_{7}}\n",
      " + 1.0 * t2_{p_{0}p_{1}}^{h_{2}h_{3}}v_{h_{7}h_{6}}^{h_{6}h_{7}}\n",
      " + 1.0 * t2_{p_{1}p_{0}}^{h_{2}h_{3}}v_{h_{6}h_{7}}^{h_{6}h_{7}}\n",
      " + -2.0 * t2_{p_{1}p_{0}}^{h_{2}h_{3}}v_{h_{7}h_{6}}^{h_{6}h_{7}}\n",
      " + -0.5 * v_{h_{5}p_{0}}^{p_{3}h_{3}}t2_{p_{1}p_{3}}^{h_{4}h_{5}}\n",
      " + 0.25 * v_{h_{5}p_{0}}^{p_{3}h_{3}}t2_{p_{3}p_{1}}^{h_{4}h_{5}}\n",
      " + 0.25 * v_{h_{5}p_{1}}^{p_{3}h_{3}}t2_{p_{0}p_{3}}^{h_{4}h_{5}}\n",
      " + -0.5 * v_{h_{5}p_{1}}^{p_{3}h_{3}}t2_{p_{3}p_{0}}^{h_{4}h_{5}}\n",
      " + 0.25 * v_{h_{4}p_{0}}^{p_{3}h_{3}}t2_{p_{1}p_{3}}^{h_{4}h_{5}}\n",
      " + -0.5 * v_{h_{4}p_{0}}^{p_{3}h_{3}}t2_{p_{3}p_{1}}^{h_{4}h_{5}}\n",
      " + -0.5 * v_{h_{4}p_{1}}^{p_{3}h_{3}}t2_{p_{0}p_{3}}^{h_{4}h_{5}}\n",
      " + 0.25 * v_{h_{4}p_{1}}^{p_{3}h_{3}}t2_{p_{3}p_{0}}^{h_{4}h_{5}}\n",
      " + 0.25 * v_{h_{5}p_{0}}^{p_{3}h_{3}}t2_{p_{1}p_{3}}^{h_{4}h_{5}}\n",
      " + -0.5 * v_{h_{5}p_{0}}^{p_{3}h_{3}}t2_{p_{3}p_{1}}^{h_{4}h_{5}}\n",
      " + -0.5 * v_{h_{5}p_{1}}^{p_{3}h_{3}}t2_{p_{0}p_{3}}^{h_{4}h_{5}}\n",
      " + 0.25 * v_{h_{5}p_{1}}^{p_{3}h_{3}}t2_{p_{3}p_{0}}^{h_{4}h_{5}}\n",
      " + -0.5 * v_{h_{3}p_{0}}^{p_{3}h_{3}}t2_{p_{1}p_{3}}^{h_{4}h_{5}}\n",
      " + 1.0 * v_{h_{3}p_{0}}^{p_{3}h_{3}}t2_{p_{3}p_{1}}^{h_{4}h_{5}}\n",
      " + 1.0 * v_{h_{3}p_{1}}^{p_{3}h_{3}}t2_{p_{0}p_{3}}^{h_{4}h_{5}}\n",
      " + -0.5 * v_{h_{3}p_{1}}^{p_{3}h_{3}}t2_{p_{3}p_{0}}^{h_{4}h_{5}}\n",
      " + -0.5 * v_{h_{4}p_{0}}^{p_{3}h_{3}}t2_{p_{1}p_{3}}^{h_{4}h_{5}}\n",
      " + 0.25 * v_{h_{4}p_{0}}^{p_{3}h_{3}}t2_{p_{3}p_{1}}^{h_{4}h_{5}}\n",
      " + 0.25 * v_{h_{4}p_{1}}^{p_{3}h_{3}}t2_{p_{0}p_{3}}^{h_{4}h_{5}}\n",
      " + -0.5 * v_{h_{4}p_{1}}^{p_{3}h_{3}}t2_{p_{3}p_{0}}^{h_{4}h_{5}}\n",
      " + 1.0 * v_{h_{3}p_{0}}^{p_{3}h_{3}}t2_{p_{1}p_{3}}^{h_{4}h_{5}}\n",
      " + -0.5 * v_{h_{3}p_{0}}^{p_{3}h_{3}}t2_{p_{3}p_{1}}^{h_{4}h_{5}}\n",
      " + -0.5 * v_{h_{3}p_{1}}^{p_{3}h_{3}}t2_{p_{0}p_{3}}^{h_{4}h_{5}}\n",
      " + 1.0 * v_{h_{3}p_{1}}^{p_{3}h_{3}}t2_{p_{3}p_{0}}^{h_{4}h_{5}}\n",
      " + 2.0 * v_{p_{0}p_{1}}^{h_{2}h_{3}}\n",
      " + -1.0 * v_{p_{1}p_{0}}^{h_{2}h_{3}}\n",
      " + -1.0 * v_{p_{0}p_{1}}^{h_{2}h_{3}}\n",
      " + 2.0 * v_{p_{1}p_{0}}^{h_{2}h_{3}}\n",
      " + 0.25 * v_{h_{6}h_{7}}^{p_{2}p_{3}}t2_{p_{0}p_{1}}^{h_{4}h_{5}}t2_{p_{2}p_{3}}^{h_{6}h_{7}}\n",
      " + -0.125 * v_{h_{6}h_{7}}^{p_{2}p_{3}}t2_{p_{0}p_{1}}^{h_{4}h_{5}}t2_{p_{3}p_{2}}^{h_{6}h_{7}}\n",
      " + -0.125 * v_{h_{7}h_{6}}^{p_{2}p_{3}}t2_{p_{0}p_{1}}^{h_{4}h_{5}}t2_{p_{2}p_{3}}^{h_{6}h_{7}}\n",
      " + 0.25 * v_{h_{7}h_{6}}^{p_{2}p_{3}}t2_{p_{0}p_{1}}^{h_{4}h_{5}}t2_{p_{3}p_{2}}^{h_{6}h_{7}}\n",
      " + -0.125 * v_{h_{6}h_{7}}^{p_{2}p_{3}}t2_{p_{0}p_{2}}^{h_{4}h_{5}}t2_{p_{1}p_{3}}^{h_{6}h_{7}}\n",
      " + 0.0625 * v_{h_{6}h_{7}}^{p_{2}p_{3}}t2_{p_{0}p_{3}}^{h_{4}h_{5}}t2_{p_{1}p_{2}}^{h_{6}h_{7}}\n",
      " + 0.0625 * v_{h_{7}h_{6}}^{p_{2}p_{3}}t2_{p_{0}p_{2}}^{h_{4}h_{5}}t2_{p_{1}p_{3}}^{h_{6}h_{7}}\n",
      " + -0.125 * v_{h_{7}h_{6}}^{p_{2}p_{3}}t2_{p_{0}p_{3}}^{h_{4}h_{5}}t2_{p_{1}p_{2}}^{h_{6}h_{7}}\n",
      " + 0.0625 * v_{h_{6}h_{7}}^{p_{2}p_{3}}t2_{p_{0}p_{2}}^{h_{4}h_{5}}t2_{p_{3}p_{1}}^{h_{6}h_{7}}\n",
      " + -0.125 * v_{h_{6}h_{7}}^{p_{2}p_{3}}t2_{p_{0}p_{3}}^{h_{4}h_{5}}t2_{p_{2}p_{1}}^{h_{6}h_{7}}\n",
      " + -0.125 * v_{h_{7}h_{6}}^{p_{2}p_{3}}t2_{p_{0}p_{2}}^{h_{4}h_{5}}t2_{p_{3}p_{1}}^{h_{6}h_{7}}\n",
      " + 0.0625 * v_{h_{7}h_{6}}^{p_{2}p_{3}}t2_{p_{0}p_{3}}^{h_{4}h_{5}}t2_{p_{2}p_{1}}^{h_{6}h_{7}}\n",
      " + -0.125 * v_{h_{6}h_{7}}^{p_{2}p_{3}}t2_{p_{1}p_{0}}^{h_{4}h_{5}}t2_{p_{2}p_{3}}^{h_{6}h_{7}}\n",
      " + 0.0625 * v_{h_{6}h_{7}}^{p_{2}p_{3}}t2_{p_{1}p_{0}}^{h_{4}h_{5}}t2_{p_{3}p_{2}}^{h_{6}h_{7}}\n",
      " + 0.0625 * v_{h_{7}h_{6}}^{p_{2}p_{3}}t2_{p_{1}p_{0}}^{h_{4}h_{5}}t2_{p_{2}p_{3}}^{h_{6}h_{7}}\n",
      " + -0.125 * v_{h_{7}h_{6}}^{p_{2}p_{3}}t2_{p_{1}p_{0}}^{h_{4}h_{5}}t2_{p_{3}p_{2}}^{h_{6}h_{7}}\n",
      " + 0.0625 * v_{h_{6}h_{7}}^{p_{2}p_{3}}t2_{p_{2}p_{0}}^{h_{4}h_{5}}t2_{p_{1}p_{3}}^{h_{6}h_{7}}\n",
      " + -0.03125 * v_{h_{6}h_{7}}^{p_{2}p_{3}}t2_{p_{3}p_{0}}^{h_{4}h_{5}}t2_{p_{1}p_{2}}^{h_{6}h_{7}}\n",
      " + -0.03125 * v_{h_{7}h_{6}}^{p_{2}p_{3}}t2_{p_{2}p_{0}}^{h_{4}h_{5}}t2_{p_{1}p_{3}}^{h_{6}h_{7}}\n",
      " + 0.0625 * v_{h_{7}h_{6}}^{p_{2}p_{3}}t2_{p_{3}p_{0}}^{h_{4}h_{5}}t2_{p_{1}p_{2}}^{h_{6}h_{7}}\n",
      " + -0.03125 * v_{h_{6}h_{7}}^{p_{2}p_{3}}t2_{p_{2}p_{0}}^{h_{4}h_{5}}t2_{p_{3}p_{1}}^{h_{6}h_{7}}\n",
      " + 0.0625 * v_{h_{6}h_{7}}^{p_{2}p_{3}}t2_{p_{3}p_{0}}^{h_{4}h_{5}}t2_{p_{2}p_{1}}^{h_{6}h_{7}}\n",
      " + 0.0625 * v_{h_{7}h_{6}}^{p_{2}p_{3}}t2_{p_{2}p_{0}}^{h_{4}h_{5}}t2_{p_{3}p_{1}}^{h_{6}h_{7}}\n",
      " + -0.03125 * v_{h_{7}h_{6}}^{p_{2}p_{3}}t2_{p_{3}p_{0}}^{h_{4}h_{5}}t2_{p_{2}p_{1}}^{h_{6}h_{7}}\n",
      " + 0.0625 * v_{h_{6}h_{7}}^{p_{2}p_{3}}t2_{p_{1}p_{2}}^{h_{4}h_{5}}t2_{p_{0}p_{3}}^{h_{6}h_{7}}\n",
      " + -0.03125 * v_{h_{6}h_{7}}^{p_{2}p_{3}}t2_{p_{1}p_{3}}^{h_{4}h_{5}}t2_{p_{0}p_{2}}^{h_{6}h_{7}}\n",
      " + -0.03125 * v_{h_{7}h_{6}}^{p_{2}p_{3}}t2_{p_{1}p_{2}}^{h_{4}h_{5}}t2_{p_{0}p_{3}}^{h_{6}h_{7}}\n",
      " + 0.0625 * v_{h_{7}h_{6}}^{p_{2}p_{3}}t2_{p_{1}p_{3}}^{h_{4}h_{5}}t2_{p_{0}p_{2}}^{h_{6}h_{7}}\n",
      " + -0.125 * v_{h_{6}h_{7}}^{p_{2}p_{3}}t2_{p_{2}p_{1}}^{h_{4}h_{5}}t2_{p_{0}p_{3}}^{h_{6}h_{7}}\n",
      " + 0.0625 * v_{h_{6}h_{7}}^{p_{2}p_{3}}t2_{p_{3}p_{1}}^{h_{4}h_{5}}t2_{p_{0}p_{2}}^{h_{6}h_{7}}\n",
      " + 0.0625 * v_{h_{7}h_{6}}^{p_{2}p_{3}}t2_{p_{2}p_{1}}^{h_{4}h_{5}}t2_{p_{0}p_{3}}^{h_{6}h_{7}}\n",
      " + -0.125 * v_{h_{7}h_{6}}^{p_{2}p_{3}}t2_{p_{3}p_{1}}^{h_{4}h_{5}}t2_{p_{0}p_{2}}^{h_{6}h_{7}}\n",
      " + 0.0625 * v_{h_{6}h_{7}}^{p_{2}p_{3}}t2_{p_{2}p_{3}}^{h_{4}h_{5}}t2_{p_{0}p_{1}}^{h_{6}h_{7}}\n",
      " + -0.03125 * v_{h_{6}h_{7}}^{p_{2}p_{3}}t2_{p_{3}p_{2}}^{h_{4}h_{5}}t2_{p_{0}p_{1}}^{h_{6}h_{7}}\n",
      " + -0.03125 * v_{h_{7}h_{6}}^{p_{2}p_{3}}t2_{p_{2}p_{3}}^{h_{4}h_{5}}t2_{p_{0}p_{1}}^{h_{6}h_{7}}\n",
      " + 0.0625 * v_{h_{7}h_{6}}^{p_{2}p_{3}}t2_{p_{3}p_{2}}^{h_{4}h_{5}}t2_{p_{0}p_{1}}^{h_{6}h_{7}}\n",
      " + -0.03125 * v_{h_{6}h_{7}}^{p_{2}p_{3}}t2_{p_{1}p_{2}}^{h_{4}h_{5}}t2_{p_{3}p_{0}}^{h_{6}h_{7}}\n",
      " + 0.0625 * v_{h_{6}h_{7}}^{p_{2}p_{3}}t2_{p_{1}p_{3}}^{h_{4}h_{5}}t2_{p_{2}p_{0}}^{h_{6}h_{7}}\n",
      " + 0.0625 * v_{h_{7}h_{6}}^{p_{2}p_{3}}t2_{p_{1}p_{2}}^{h_{4}h_{5}}t2_{p_{3}p_{0}}^{h_{6}h_{7}}\n",
      " + -0.03125 * v_{h_{7}h_{6}}^{p_{2}p_{3}}t2_{p_{1}p_{3}}^{h_{4}h_{5}}t2_{p_{2}p_{0}}^{h_{6}h_{7}}\n",
      " + 0.0625 * v_{h_{6}h_{7}}^{p_{2}p_{3}}t2_{p_{2}p_{1}}^{h_{4}h_{5}}t2_{p_{3}p_{0}}^{h_{6}h_{7}}\n",
      " + -0.125 * v_{h_{6}h_{7}}^{p_{2}p_{3}}t2_{p_{3}p_{1}}^{h_{4}h_{5}}t2_{p_{2}p_{0}}^{h_{6}h_{7}}\n",
      " + -0.125 * v_{h_{7}h_{6}}^{p_{2}p_{3}}t2_{p_{2}p_{1}}^{h_{4}h_{5}}t2_{p_{3}p_{0}}^{h_{6}h_{7}}\n",
      " + 0.0625 * v_{h_{7}h_{6}}^{p_{2}p_{3}}t2_{p_{3}p_{1}}^{h_{4}h_{5}}t2_{p_{2}p_{0}}^{h_{6}h_{7}}\n",
      " + -0.03125 * v_{h_{6}h_{7}}^{p_{2}p_{3}}t2_{p_{2}p_{3}}^{h_{4}h_{5}}t2_{p_{1}p_{0}}^{h_{6}h_{7}}\n",
      " + 0.0625 * v_{h_{6}h_{7}}^{p_{2}p_{3}}t2_{p_{3}p_{2}}^{h_{4}h_{5}}t2_{p_{1}p_{0}}^{h_{6}h_{7}}\n",
      " + 0.0625 * v_{h_{7}h_{6}}^{p_{2}p_{3}}t2_{p_{2}p_{3}}^{h_{4}h_{5}}t2_{p_{1}p_{0}}^{h_{6}h_{7}}\n",
      " + -0.03125 * v_{h_{7}h_{6}}^{p_{2}p_{3}}t2_{p_{3}p_{2}}^{h_{4}h_{5}}t2_{p_{1}p_{0}}^{h_{6}h_{7}}\n",
      " + -0.125 * v_{h_{5}h_{7}}^{p_{2}p_{3}}t2_{p_{0}p_{1}}^{h_{4}h_{5}}t2_{p_{2}p_{3}}^{h_{6}h_{7}}\n",
      " + 0.0625 * v_{h_{5}h_{7}}^{p_{2}p_{3}}t2_{p_{0}p_{1}}^{h_{4}h_{5}}t2_{p_{3}p_{2}}^{h_{6}h_{7}}\n",
      " + 0.0625 * v_{h_{7}h_{5}}^{p_{2}p_{3}}t2_{p_{0}p_{1}}^{h_{4}h_{5}}t2_{p_{2}p_{3}}^{h_{6}h_{7}}\n",
      " + -0.125 * v_{h_{7}h_{5}}^{p_{2}p_{3}}t2_{p_{0}p_{1}}^{h_{4}h_{5}}t2_{p_{3}p_{2}}^{h_{6}h_{7}}\n",
      " + 0.0625 * v_{h_{5}h_{7}}^{p_{2}p_{3}}t2_{p_{0}p_{2}}^{h_{4}h_{5}}t2_{p_{1}p_{3}}^{h_{6}h_{7}}\n",
      " + -0.03125 * v_{h_{5}h_{7}}^{p_{2}p_{3}}t2_{p_{0}p_{3}}^{h_{4}h_{5}}t2_{p_{1}p_{2}}^{h_{6}h_{7}}\n",
      " + -0.03125 * v_{h_{7}h_{5}}^{p_{2}p_{3}}t2_{p_{0}p_{2}}^{h_{4}h_{5}}t2_{p_{1}p_{3}}^{h_{6}h_{7}}\n",
      " + 0.0625 * v_{h_{7}h_{5}}^{p_{2}p_{3}}t2_{p_{0}p_{3}}^{h_{4}h_{5}}t2_{p_{1}p_{2}}^{h_{6}h_{7}}\n",
      " + -0.03125 * v_{h_{5}h_{7}}^{p_{2}p_{3}}t2_{p_{0}p_{2}}^{h_{4}h_{5}}t2_{p_{3}p_{1}}^{h_{6}h_{7}}\n",
      " + 0.0625 * v_{h_{5}h_{7}}^{p_{2}p_{3}}t2_{p_{0}p_{3}}^{h_{4}h_{5}}t2_{p_{2}p_{1}}^{h_{6}h_{7}}\n",
      " + 0.0625 * v_{h_{7}h_{5}}^{p_{2}p_{3}}t2_{p_{0}p_{2}}^{h_{4}h_{5}}t2_{p_{3}p_{1}}^{h_{6}h_{7}}\n",
      " + -0.03125 * v_{h_{7}h_{5}}^{p_{2}p_{3}}t2_{p_{0}p_{3}}^{h_{4}h_{5}}t2_{p_{2}p_{1}}^{h_{6}h_{7}}\n",
      " + 0.0625 * v_{h_{5}h_{7}}^{p_{2}p_{3}}t2_{p_{1}p_{0}}^{h_{4}h_{5}}t2_{p_{2}p_{3}}^{h_{6}h_{7}}\n",
      " + -0.03125 * v_{h_{5}h_{7}}^{p_{2}p_{3}}t2_{p_{1}p_{0}}^{h_{4}h_{5}}t2_{p_{3}p_{2}}^{h_{6}h_{7}}\n",
      " + -0.03125 * v_{h_{7}h_{5}}^{p_{2}p_{3}}t2_{p_{1}p_{0}}^{h_{4}h_{5}}t2_{p_{2}p_{3}}^{h_{6}h_{7}}\n",
      " + 0.0625 * v_{h_{7}h_{5}}^{p_{2}p_{3}}t2_{p_{1}p_{0}}^{h_{4}h_{5}}t2_{p_{3}p_{2}}^{h_{6}h_{7}}\n",
      " + -0.03125 * v_{h_{5}h_{7}}^{p_{2}p_{3}}t2_{p_{2}p_{0}}^{h_{4}h_{5}}t2_{p_{1}p_{3}}^{h_{6}h_{7}}\n",
      " + 0.0625 * v_{h_{5}h_{7}}^{p_{2}p_{3}}t2_{p_{3}p_{0}}^{h_{4}h_{5}}t2_{p_{1}p_{2}}^{h_{6}h_{7}}\n",
      " + 0.0625 * v_{h_{7}h_{5}}^{p_{2}p_{3}}t2_{p_{2}p_{0}}^{h_{4}h_{5}}t2_{p_{1}p_{3}}^{h_{6}h_{7}}\n",
      " + -0.03125 * v_{h_{7}h_{5}}^{p_{2}p_{3}}t2_{p_{3}p_{0}}^{h_{4}h_{5}}t2_{p_{1}p_{2}}^{h_{6}h_{7}}\n",
      " + 0.0625 * v_{h_{5}h_{7}}^{p_{2}p_{3}}t2_{p_{2}p_{0}}^{h_{4}h_{5}}t2_{p_{3}p_{1}}^{h_{6}h_{7}}\n",
      " + -0.125 * v_{h_{5}h_{7}}^{p_{2}p_{3}}t2_{p_{3}p_{0}}^{h_{4}h_{5}}t2_{p_{2}p_{1}}^{h_{6}h_{7}}\n",
      " + -0.125 * v_{h_{7}h_{5}}^{p_{2}p_{3}}t2_{p_{2}p_{0}}^{h_{4}h_{5}}t2_{p_{3}p_{1}}^{h_{6}h_{7}}\n",
      " + 0.0625 * v_{h_{7}h_{5}}^{p_{2}p_{3}}t2_{p_{3}p_{0}}^{h_{4}h_{5}}t2_{p_{2}p_{1}}^{h_{6}h_{7}}\n",
      " + -0.03125 * v_{h_{5}h_{7}}^{p_{2}p_{3}}t2_{p_{1}p_{2}}^{h_{4}h_{5}}t2_{p_{0}p_{3}}^{h_{6}h_{7}}\n",
      " + 0.0625 * v_{h_{5}h_{7}}^{p_{2}p_{3}}t2_{p_{1}p_{3}}^{h_{4}h_{5}}t2_{p_{0}p_{2}}^{h_{6}h_{7}}\n",
      " + 0.0625 * v_{h_{7}h_{5}}^{p_{2}p_{3}}t2_{p_{1}p_{2}}^{h_{4}h_{5}}t2_{p_{0}p_{3}}^{h_{6}h_{7}}\n",
      " + -0.03125 * v_{h_{7}h_{5}}^{p_{2}p_{3}}t2_{p_{1}p_{3}}^{h_{4}h_{5}}t2_{p_{0}p_{2}}^{h_{6}h_{7}}\n",
      " + 0.0625 * v_{h_{5}h_{7}}^{p_{2}p_{3}}t2_{p_{2}p_{1}}^{h_{4}h_{5}}t2_{p_{0}p_{3}}^{h_{6}h_{7}}\n",
      " + -0.125 * v_{h_{5}h_{7}}^{p_{2}p_{3}}t2_{p_{3}p_{1}}^{h_{4}h_{5}}t2_{p_{0}p_{2}}^{h_{6}h_{7}}\n",
      " + -0.125 * v_{h_{7}h_{5}}^{p_{2}p_{3}}t2_{p_{2}p_{1}}^{h_{4}h_{5}}t2_{p_{0}p_{3}}^{h_{6}h_{7}}\n",
      " + 0.0625 * v_{h_{7}h_{5}}^{p_{2}p_{3}}t2_{p_{3}p_{1}}^{h_{4}h_{5}}t2_{p_{0}p_{2}}^{h_{6}h_{7}}\n",
      " + -0.03125 * v_{h_{5}h_{7}}^{p_{2}p_{3}}t2_{p_{2}p_{3}}^{h_{4}h_{5}}t2_{p_{0}p_{1}}^{h_{6}h_{7}}\n",
      " + 0.0625 * v_{h_{5}h_{7}}^{p_{2}p_{3}}t2_{p_{3}p_{2}}^{h_{4}h_{5}}t2_{p_{0}p_{1}}^{h_{6}h_{7}}\n",
      " + 0.0625 * v_{h_{7}h_{5}}^{p_{2}p_{3}}t2_{p_{2}p_{3}}^{h_{4}h_{5}}t2_{p_{0}p_{1}}^{h_{6}h_{7}}\n",
      " + -0.03125 * v_{h_{7}h_{5}}^{p_{2}p_{3}}t2_{p_{3}p_{2}}^{h_{4}h_{5}}t2_{p_{0}p_{1}}^{h_{6}h_{7}}\n",
      " + 0.0625 * v_{h_{5}h_{7}}^{p_{2}p_{3}}t2_{p_{1}p_{2}}^{h_{4}h_{5}}t2_{p_{3}p_{0}}^{h_{6}h_{7}}\n",
      " + -0.125 * v_{h_{5}h_{7}}^{p_{2}p_{3}}t2_{p_{1}p_{3}}^{h_{4}h_{5}}t2_{p_{2}p_{0}}^{h_{6}h_{7}}\n",
      " + -0.125 * v_{h_{7}h_{5}}^{p_{2}p_{3}}t2_{p_{1}p_{2}}^{h_{4}h_{5}}t2_{p_{3}p_{0}}^{h_{6}h_{7}}\n",
      " + 0.0625 * v_{h_{7}h_{5}}^{p_{2}p_{3}}t2_{p_{1}p_{3}}^{h_{4}h_{5}}t2_{p_{2}p_{0}}^{h_{6}h_{7}}\n",
      " + -0.125 * v_{h_{5}h_{7}}^{p_{2}p_{3}}t2_{p_{2}p_{1}}^{h_{4}h_{5}}t2_{p_{3}p_{0}}^{h_{6}h_{7}}\n",
      " + 0.25 * v_{h_{5}h_{7}}^{p_{2}p_{3}}t2_{p_{3}p_{1}}^{h_{4}h_{5}}t2_{p_{2}p_{0}}^{h_{6}h_{7}}\n",
      " + 0.25 * v_{h_{7}h_{5}}^{p_{2}p_{3}}t2_{p_{2}p_{1}}^{h_{4}h_{5}}t2_{p_{3}p_{0}}^{h_{6}h_{7}}\n",
      " + -0.125 * v_{h_{7}h_{5}}^{p_{2}p_{3}}t2_{p_{3}p_{1}}^{h_{4}h_{5}}t2_{p_{2}p_{0}}^{h_{6}h_{7}}\n",
      " + 0.0625 * v_{h_{5}h_{7}}^{p_{2}p_{3}}t2_{p_{2}p_{3}}^{h_{4}h_{5}}t2_{p_{1}p_{0}}^{h_{6}h_{7}}\n",
      " + -0.125 * v_{h_{5}h_{7}}^{p_{2}p_{3}}t2_{p_{3}p_{2}}^{h_{4}h_{5}}t2_{p_{1}p_{0}}^{h_{6}h_{7}}\n",
      " + -0.125 * v_{h_{7}h_{5}}^{p_{2}p_{3}}t2_{p_{2}p_{3}}^{h_{4}h_{5}}t2_{p_{1}p_{0}}^{h_{6}h_{7}}\n",
      " + 0.0625 * v_{h_{7}h_{5}}^{p_{2}p_{3}}t2_{p_{3}p_{2}}^{h_{4}h_{5}}t2_{p_{1}p_{0}}^{h_{6}h_{7}}\n",
      " + 0.0625 * v_{h_{5}h_{6}}^{p_{2}p_{3}}t2_{p_{0}p_{1}}^{h_{4}h_{5}}t2_{p_{2}p_{3}}^{h_{6}h_{7}}\n",
      " + -0.125 * v_{h_{5}h_{6}}^{p_{2}p_{3}}t2_{p_{0}p_{1}}^{h_{4}h_{5}}t2_{p_{3}p_{2}}^{h_{6}h_{7}}\n",
      " + -0.125 * v_{h_{6}h_{5}}^{p_{2}p_{3}}t2_{p_{0}p_{1}}^{h_{4}h_{5}}t2_{p_{2}p_{3}}^{h_{6}h_{7}}\n",
      " + 0.0625 * v_{h_{6}h_{5}}^{p_{2}p_{3}}t2_{p_{0}p_{1}}^{h_{4}h_{5}}t2_{p_{3}p_{2}}^{h_{6}h_{7}}\n",
      " + -0.03125 * v_{h_{5}h_{6}}^{p_{2}p_{3}}t2_{p_{0}p_{2}}^{h_{4}h_{5}}t2_{p_{1}p_{3}}^{h_{6}h_{7}}\n",
      " + 0.0625 * v_{h_{5}h_{6}}^{p_{2}p_{3}}t2_{p_{0}p_{3}}^{h_{4}h_{5}}t2_{p_{1}p_{2}}^{h_{6}h_{7}}\n",
      " + 0.0625 * v_{h_{6}h_{5}}^{p_{2}p_{3}}t2_{p_{0}p_{2}}^{h_{4}h_{5}}t2_{p_{1}p_{3}}^{h_{6}h_{7}}\n",
      " + -0.03125 * v_{h_{6}h_{5}}^{p_{2}p_{3}}t2_{p_{0}p_{3}}^{h_{4}h_{5}}t2_{p_{1}p_{2}}^{h_{6}h_{7}}\n",
      " + 0.0625 * v_{h_{5}h_{6}}^{p_{2}p_{3}}t2_{p_{0}p_{2}}^{h_{4}h_{5}}t2_{p_{3}p_{1}}^{h_{6}h_{7}}\n",
      " + -0.03125 * v_{h_{5}h_{6}}^{p_{2}p_{3}}t2_{p_{0}p_{3}}^{h_{4}h_{5}}t2_{p_{2}p_{1}}^{h_{6}h_{7}}\n",
      " + -0.03125 * v_{h_{6}h_{5}}^{p_{2}p_{3}}t2_{p_{0}p_{2}}^{h_{4}h_{5}}t2_{p_{3}p_{1}}^{h_{6}h_{7}}\n",
      " + 0.0625 * v_{h_{6}h_{5}}^{p_{2}p_{3}}t2_{p_{0}p_{3}}^{h_{4}h_{5}}t2_{p_{2}p_{1}}^{h_{6}h_{7}}\n",
      " + -0.03125 * v_{h_{5}h_{6}}^{p_{2}p_{3}}t2_{p_{1}p_{0}}^{h_{4}h_{5}}t2_{p_{2}p_{3}}^{h_{6}h_{7}}\n",
      " + 0.0625 * v_{h_{5}h_{6}}^{p_{2}p_{3}}t2_{p_{1}p_{0}}^{h_{4}h_{5}}t2_{p_{3}p_{2}}^{h_{6}h_{7}}\n",
      " + 0.0625 * v_{h_{6}h_{5}}^{p_{2}p_{3}}t2_{p_{1}p_{0}}^{h_{4}h_{5}}t2_{p_{2}p_{3}}^{h_{6}h_{7}}\n",
      " + -0.03125 * v_{h_{6}h_{5}}^{p_{2}p_{3}}t2_{p_{1}p_{0}}^{h_{4}h_{5}}t2_{p_{3}p_{2}}^{h_{6}h_{7}}\n",
      " + 0.0625 * v_{h_{5}h_{6}}^{p_{2}p_{3}}t2_{p_{2}p_{0}}^{h_{4}h_{5}}t2_{p_{1}p_{3}}^{h_{6}h_{7}}\n",
      " + -0.125 * v_{h_{5}h_{6}}^{p_{2}p_{3}}t2_{p_{3}p_{0}}^{h_{4}h_{5}}t2_{p_{1}p_{2}}^{h_{6}h_{7}}\n",
      " + -0.125 * v_{h_{6}h_{5}}^{p_{2}p_{3}}t2_{p_{2}p_{0}}^{h_{4}h_{5}}t2_{p_{1}p_{3}}^{h_{6}h_{7}}\n",
      " + 0.0625 * v_{h_{6}h_{5}}^{p_{2}p_{3}}t2_{p_{3}p_{0}}^{h_{4}h_{5}}t2_{p_{1}p_{2}}^{h_{6}h_{7}}\n",
      " + -0.03125 * v_{h_{5}h_{6}}^{p_{2}p_{3}}t2_{p_{2}p_{0}}^{h_{4}h_{5}}t2_{p_{3}p_{1}}^{h_{6}h_{7}}\n",
      " + 0.0625 * v_{h_{5}h_{6}}^{p_{2}p_{3}}t2_{p_{3}p_{0}}^{h_{4}h_{5}}t2_{p_{2}p_{1}}^{h_{6}h_{7}}\n",
      " + 0.0625 * v_{h_{6}h_{5}}^{p_{2}p_{3}}t2_{p_{2}p_{0}}^{h_{4}h_{5}}t2_{p_{3}p_{1}}^{h_{6}h_{7}}\n",
      " + -0.03125 * v_{h_{6}h_{5}}^{p_{2}p_{3}}t2_{p_{3}p_{0}}^{h_{4}h_{5}}t2_{p_{2}p_{1}}^{h_{6}h_{7}}\n",
      " + 0.0625 * v_{h_{5}h_{6}}^{p_{2}p_{3}}t2_{p_{1}p_{2}}^{h_{4}h_{5}}t2_{p_{0}p_{3}}^{h_{6}h_{7}}\n",
      " + -0.125 * v_{h_{5}h_{6}}^{p_{2}p_{3}}t2_{p_{1}p_{3}}^{h_{4}h_{5}}t2_{p_{0}p_{2}}^{h_{6}h_{7}}\n",
      " + -0.125 * v_{h_{6}h_{5}}^{p_{2}p_{3}}t2_{p_{1}p_{2}}^{h_{4}h_{5}}t2_{p_{0}p_{3}}^{h_{6}h_{7}}\n",
      " + 0.0625 * v_{h_{6}h_{5}}^{p_{2}p_{3}}t2_{p_{1}p_{3}}^{h_{4}h_{5}}t2_{p_{0}p_{2}}^{h_{6}h_{7}}\n",
      " + -0.125 * v_{h_{5}h_{6}}^{p_{2}p_{3}}t2_{p_{2}p_{1}}^{h_{4}h_{5}}t2_{p_{0}p_{3}}^{h_{6}h_{7}}\n",
      " + 0.25 * v_{h_{5}h_{6}}^{p_{2}p_{3}}t2_{p_{3}p_{1}}^{h_{4}h_{5}}t2_{p_{0}p_{2}}^{h_{6}h_{7}}\n",
      " + 0.25 * v_{h_{6}h_{5}}^{p_{2}p_{3}}t2_{p_{2}p_{1}}^{h_{4}h_{5}}t2_{p_{0}p_{3}}^{h_{6}h_{7}}\n",
      " + -0.125 * v_{h_{6}h_{5}}^{p_{2}p_{3}}t2_{p_{3}p_{1}}^{h_{4}h_{5}}t2_{p_{0}p_{2}}^{h_{6}h_{7}}\n",
      " + 0.0625 * v_{h_{5}h_{6}}^{p_{2}p_{3}}t2_{p_{2}p_{3}}^{h_{4}h_{5}}t2_{p_{0}p_{1}}^{h_{6}h_{7}}\n",
      " + -0.125 * v_{h_{5}h_{6}}^{p_{2}p_{3}}t2_{p_{3}p_{2}}^{h_{4}h_{5}}t2_{p_{0}p_{1}}^{h_{6}h_{7}}\n",
      " + -0.125 * v_{h_{6}h_{5}}^{p_{2}p_{3}}t2_{p_{2}p_{3}}^{h_{4}h_{5}}t2_{p_{0}p_{1}}^{h_{6}h_{7}}\n",
      " + 0.0625 * v_{h_{6}h_{5}}^{p_{2}p_{3}}t2_{p_{3}p_{2}}^{h_{4}h_{5}}t2_{p_{0}p_{1}}^{h_{6}h_{7}}\n",
      " + -0.03125 * v_{h_{5}h_{6}}^{p_{2}p_{3}}t2_{p_{1}p_{2}}^{h_{4}h_{5}}t2_{p_{3}p_{0}}^{h_{6}h_{7}}\n",
      " + 0.0625 * v_{h_{5}h_{6}}^{p_{2}p_{3}}t2_{p_{1}p_{3}}^{h_{4}h_{5}}t2_{p_{2}p_{0}}^{h_{6}h_{7}}\n",
      " + 0.0625 * v_{h_{6}h_{5}}^{p_{2}p_{3}}t2_{p_{1}p_{2}}^{h_{4}h_{5}}t2_{p_{3}p_{0}}^{h_{6}h_{7}}\n",
      " + -0.03125 * v_{h_{6}h_{5}}^{p_{2}p_{3}}t2_{p_{1}p_{3}}^{h_{4}h_{5}}t2_{p_{2}p_{0}}^{h_{6}h_{7}}\n",
      " + 0.0625 * v_{h_{5}h_{6}}^{p_{2}p_{3}}t2_{p_{2}p_{1}}^{h_{4}h_{5}}t2_{p_{3}p_{0}}^{h_{6}h_{7}}\n",
      " + -0.125 * v_{h_{5}h_{6}}^{p_{2}p_{3}}t2_{p_{3}p_{1}}^{h_{4}h_{5}}t2_{p_{2}p_{0}}^{h_{6}h_{7}}\n",
      " + -0.125 * v_{h_{6}h_{5}}^{p_{2}p_{3}}t2_{p_{2}p_{1}}^{h_{4}h_{5}}t2_{p_{3}p_{0}}^{h_{6}h_{7}}\n",
      " + 0.0625 * v_{h_{6}h_{5}}^{p_{2}p_{3}}t2_{p_{3}p_{1}}^{h_{4}h_{5}}t2_{p_{2}p_{0}}^{h_{6}h_{7}}\n",
      " + -0.03125 * v_{h_{5}h_{6}}^{p_{2}p_{3}}t2_{p_{2}p_{3}}^{h_{4}h_{5}}t2_{p_{1}p_{0}}^{h_{6}h_{7}}\n",
      " + 0.0625 * v_{h_{5}h_{6}}^{p_{2}p_{3}}t2_{p_{3}p_{2}}^{h_{4}h_{5}}t2_{p_{1}p_{0}}^{h_{6}h_{7}}\n",
      " + 0.0625 * v_{h_{6}h_{5}}^{p_{2}p_{3}}t2_{p_{2}p_{3}}^{h_{4}h_{5}}t2_{p_{1}p_{0}}^{h_{6}h_{7}}\n",
      " + -0.03125 * v_{h_{6}h_{5}}^{p_{2}p_{3}}t2_{p_{3}p_{2}}^{h_{4}h_{5}}t2_{p_{1}p_{0}}^{h_{6}h_{7}}\n",
      " + -0.125 * v_{h_{6}h_{7}}^{p_{2}p_{3}}t2_{p_{0}p_{1}}^{h_{4}h_{5}}t2_{p_{2}p_{3}}^{h_{6}h_{7}}\n",
      " + 0.0625 * v_{h_{6}h_{7}}^{p_{2}p_{3}}t2_{p_{0}p_{1}}^{h_{4}h_{5}}t2_{p_{3}p_{2}}^{h_{6}h_{7}}\n",
      " + 0.0625 * v_{h_{7}h_{6}}^{p_{2}p_{3}}t2_{p_{0}p_{1}}^{h_{4}h_{5}}t2_{p_{2}p_{3}}^{h_{6}h_{7}}\n",
      " + -0.125 * v_{h_{7}h_{6}}^{p_{2}p_{3}}t2_{p_{0}p_{1}}^{h_{4}h_{5}}t2_{p_{3}p_{2}}^{h_{6}h_{7}}\n",
      " + 0.0625 * v_{h_{6}h_{7}}^{p_{2}p_{3}}t2_{p_{0}p_{2}}^{h_{4}h_{5}}t2_{p_{1}p_{3}}^{h_{6}h_{7}}\n",
      " + -0.03125 * v_{h_{6}h_{7}}^{p_{2}p_{3}}t2_{p_{0}p_{3}}^{h_{4}h_{5}}t2_{p_{1}p_{2}}^{h_{6}h_{7}}\n",
      " + -0.03125 * v_{h_{7}h_{6}}^{p_{2}p_{3}}t2_{p_{0}p_{2}}^{h_{4}h_{5}}t2_{p_{1}p_{3}}^{h_{6}h_{7}}\n",
      " + 0.0625 * v_{h_{7}h_{6}}^{p_{2}p_{3}}t2_{p_{0}p_{3}}^{h_{4}h_{5}}t2_{p_{1}p_{2}}^{h_{6}h_{7}}\n",
      " + -0.03125 * v_{h_{6}h_{7}}^{p_{2}p_{3}}t2_{p_{0}p_{2}}^{h_{4}h_{5}}t2_{p_{3}p_{1}}^{h_{6}h_{7}}\n",
      " + 0.0625 * v_{h_{6}h_{7}}^{p_{2}p_{3}}t2_{p_{0}p_{3}}^{h_{4}h_{5}}t2_{p_{2}p_{1}}^{h_{6}h_{7}}\n",
      " + 0.0625 * v_{h_{7}h_{6}}^{p_{2}p_{3}}t2_{p_{0}p_{2}}^{h_{4}h_{5}}t2_{p_{3}p_{1}}^{h_{6}h_{7}}\n",
      " + -0.03125 * v_{h_{7}h_{6}}^{p_{2}p_{3}}t2_{p_{0}p_{3}}^{h_{4}h_{5}}t2_{p_{2}p_{1}}^{h_{6}h_{7}}\n",
      " + 0.25 * v_{h_{6}h_{7}}^{p_{2}p_{3}}t2_{p_{1}p_{0}}^{h_{4}h_{5}}t2_{p_{2}p_{3}}^{h_{6}h_{7}}\n",
      " + -0.125 * v_{h_{6}h_{7}}^{p_{2}p_{3}}t2_{p_{1}p_{0}}^{h_{4}h_{5}}t2_{p_{3}p_{2}}^{h_{6}h_{7}}\n",
      " + -0.125 * v_{h_{7}h_{6}}^{p_{2}p_{3}}t2_{p_{1}p_{0}}^{h_{4}h_{5}}t2_{p_{2}p_{3}}^{h_{6}h_{7}}\n",
      " + 0.25 * v_{h_{7}h_{6}}^{p_{2}p_{3}}t2_{p_{1}p_{0}}^{h_{4}h_{5}}t2_{p_{3}p_{2}}^{h_{6}h_{7}}\n",
      " + -0.125 * v_{h_{6}h_{7}}^{p_{2}p_{3}}t2_{p_{2}p_{0}}^{h_{4}h_{5}}t2_{p_{1}p_{3}}^{h_{6}h_{7}}\n",
      " + 0.0625 * v_{h_{6}h_{7}}^{p_{2}p_{3}}t2_{p_{3}p_{0}}^{h_{4}h_{5}}t2_{p_{1}p_{2}}^{h_{6}h_{7}}\n",
      " + 0.0625 * v_{h_{7}h_{6}}^{p_{2}p_{3}}t2_{p_{2}p_{0}}^{h_{4}h_{5}}t2_{p_{1}p_{3}}^{h_{6}h_{7}}\n",
      " + -0.125 * v_{h_{7}h_{6}}^{p_{2}p_{3}}t2_{p_{3}p_{0}}^{h_{4}h_{5}}t2_{p_{1}p_{2}}^{h_{6}h_{7}}\n",
      " + 0.0625 * v_{h_{6}h_{7}}^{p_{2}p_{3}}t2_{p_{2}p_{0}}^{h_{4}h_{5}}t2_{p_{3}p_{1}}^{h_{6}h_{7}}\n",
      " + -0.125 * v_{h_{6}h_{7}}^{p_{2}p_{3}}t2_{p_{3}p_{0}}^{h_{4}h_{5}}t2_{p_{2}p_{1}}^{h_{6}h_{7}}\n",
      " + -0.125 * v_{h_{7}h_{6}}^{p_{2}p_{3}}t2_{p_{2}p_{0}}^{h_{4}h_{5}}t2_{p_{3}p_{1}}^{h_{6}h_{7}}\n",
      " + 0.0625 * v_{h_{7}h_{6}}^{p_{2}p_{3}}t2_{p_{3}p_{0}}^{h_{4}h_{5}}t2_{p_{2}p_{1}}^{h_{6}h_{7}}\n",
      " + -0.125 * v_{h_{6}h_{7}}^{p_{2}p_{3}}t2_{p_{1}p_{2}}^{h_{4}h_{5}}t2_{p_{0}p_{3}}^{h_{6}h_{7}}\n",
      " + 0.0625 * v_{h_{6}h_{7}}^{p_{2}p_{3}}t2_{p_{1}p_{3}}^{h_{4}h_{5}}t2_{p_{0}p_{2}}^{h_{6}h_{7}}\n",
      " + 0.0625 * v_{h_{7}h_{6}}^{p_{2}p_{3}}t2_{p_{1}p_{2}}^{h_{4}h_{5}}t2_{p_{0}p_{3}}^{h_{6}h_{7}}\n",
      " + -0.125 * v_{h_{7}h_{6}}^{p_{2}p_{3}}t2_{p_{1}p_{3}}^{h_{4}h_{5}}t2_{p_{0}p_{2}}^{h_{6}h_{7}}\n",
      " + 0.0625 * v_{h_{6}h_{7}}^{p_{2}p_{3}}t2_{p_{2}p_{1}}^{h_{4}h_{5}}t2_{p_{0}p_{3}}^{h_{6}h_{7}}\n",
      " + -0.03125 * v_{h_{6}h_{7}}^{p_{2}p_{3}}t2_{p_{3}p_{1}}^{h_{4}h_{5}}t2_{p_{0}p_{2}}^{h_{6}h_{7}}\n",
      " + -0.03125 * v_{h_{7}h_{6}}^{p_{2}p_{3}}t2_{p_{2}p_{1}}^{h_{4}h_{5}}t2_{p_{0}p_{3}}^{h_{6}h_{7}}\n",
      " + 0.0625 * v_{h_{7}h_{6}}^{p_{2}p_{3}}t2_{p_{3}p_{1}}^{h_{4}h_{5}}t2_{p_{0}p_{2}}^{h_{6}h_{7}}\n",
      " + -0.03125 * v_{h_{6}h_{7}}^{p_{2}p_{3}}t2_{p_{2}p_{3}}^{h_{4}h_{5}}t2_{p_{0}p_{1}}^{h_{6}h_{7}}\n",
      " + 0.0625 * v_{h_{6}h_{7}}^{p_{2}p_{3}}t2_{p_{3}p_{2}}^{h_{4}h_{5}}t2_{p_{0}p_{1}}^{h_{6}h_{7}}\n",
      " + 0.0625 * v_{h_{7}h_{6}}^{p_{2}p_{3}}t2_{p_{2}p_{3}}^{h_{4}h_{5}}t2_{p_{0}p_{1}}^{h_{6}h_{7}}\n",
      " + -0.03125 * v_{h_{7}h_{6}}^{p_{2}p_{3}}t2_{p_{3}p_{2}}^{h_{4}h_{5}}t2_{p_{0}p_{1}}^{h_{6}h_{7}}\n",
      " + 0.0625 * v_{h_{6}h_{7}}^{p_{2}p_{3}}t2_{p_{1}p_{2}}^{h_{4}h_{5}}t2_{p_{3}p_{0}}^{h_{6}h_{7}}\n",
      " + -0.125 * v_{h_{6}h_{7}}^{p_{2}p_{3}}t2_{p_{1}p_{3}}^{h_{4}h_{5}}t2_{p_{2}p_{0}}^{h_{6}h_{7}}\n",
      " + -0.125 * v_{h_{7}h_{6}}^{p_{2}p_{3}}t2_{p_{1}p_{2}}^{h_{4}h_{5}}t2_{p_{3}p_{0}}^{h_{6}h_{7}}\n",
      " + 0.0625 * v_{h_{7}h_{6}}^{p_{2}p_{3}}t2_{p_{1}p_{3}}^{h_{4}h_{5}}t2_{p_{2}p_{0}}^{h_{6}h_{7}}\n",
      " + -0.03125 * v_{h_{6}h_{7}}^{p_{2}p_{3}}t2_{p_{2}p_{1}}^{h_{4}h_{5}}t2_{p_{3}p_{0}}^{h_{6}h_{7}}\n",
      " + 0.0625 * v_{h_{6}h_{7}}^{p_{2}p_{3}}t2_{p_{3}p_{1}}^{h_{4}h_{5}}t2_{p_{2}p_{0}}^{h_{6}h_{7}}\n",
      " + 0.0625 * v_{h_{7}h_{6}}^{p_{2}p_{3}}t2_{p_{2}p_{1}}^{h_{4}h_{5}}t2_{p_{3}p_{0}}^{h_{6}h_{7}}\n",
      " + -0.03125 * v_{h_{7}h_{6}}^{p_{2}p_{3}}t2_{p_{3}p_{1}}^{h_{4}h_{5}}t2_{p_{2}p_{0}}^{h_{6}h_{7}}\n",
      " + 0.0625 * v_{h_{6}h_{7}}^{p_{2}p_{3}}t2_{p_{2}p_{3}}^{h_{4}h_{5}}t2_{p_{1}p_{0}}^{h_{6}h_{7}}\n",
      " + -0.03125 * v_{h_{6}h_{7}}^{p_{2}p_{3}}t2_{p_{3}p_{2}}^{h_{4}h_{5}}t2_{p_{1}p_{0}}^{h_{6}h_{7}}\n",
      " + -0.03125 * v_{h_{7}h_{6}}^{p_{2}p_{3}}t2_{p_{2}p_{3}}^{h_{4}h_{5}}t2_{p_{1}p_{0}}^{h_{6}h_{7}}\n",
      " + 0.0625 * v_{h_{7}h_{6}}^{p_{2}p_{3}}t2_{p_{3}p_{2}}^{h_{4}h_{5}}t2_{p_{1}p_{0}}^{h_{6}h_{7}}\n",
      " + 0.0625 * v_{h_{4}h_{7}}^{p_{2}p_{3}}t2_{p_{0}p_{1}}^{h_{4}h_{5}}t2_{p_{2}p_{3}}^{h_{6}h_{7}}\n",
      " + -0.03125 * v_{h_{4}h_{7}}^{p_{2}p_{3}}t2_{p_{0}p_{1}}^{h_{4}h_{5}}t2_{p_{3}p_{2}}^{h_{6}h_{7}}\n",
      " + -0.03125 * v_{h_{7}h_{4}}^{p_{2}p_{3}}t2_{p_{0}p_{1}}^{h_{4}h_{5}}t2_{p_{2}p_{3}}^{h_{6}h_{7}}\n",
      " + 0.0625 * v_{h_{7}h_{4}}^{p_{2}p_{3}}t2_{p_{0}p_{1}}^{h_{4}h_{5}}t2_{p_{3}p_{2}}^{h_{6}h_{7}}\n",
      " + -0.03125 * v_{h_{4}h_{7}}^{p_{2}p_{3}}t2_{p_{0}p_{2}}^{h_{4}h_{5}}t2_{p_{1}p_{3}}^{h_{6}h_{7}}\n",
      " + 0.0625 * v_{h_{4}h_{7}}^{p_{2}p_{3}}t2_{p_{0}p_{3}}^{h_{4}h_{5}}t2_{p_{1}p_{2}}^{h_{6}h_{7}}\n",
      " + 0.0625 * v_{h_{7}h_{4}}^{p_{2}p_{3}}t2_{p_{0}p_{2}}^{h_{4}h_{5}}t2_{p_{1}p_{3}}^{h_{6}h_{7}}\n",
      " + -0.03125 * v_{h_{7}h_{4}}^{p_{2}p_{3}}t2_{p_{0}p_{3}}^{h_{4}h_{5}}t2_{p_{1}p_{2}}^{h_{6}h_{7}}\n",
      " + 0.0625 * v_{h_{4}h_{7}}^{p_{2}p_{3}}t2_{p_{0}p_{2}}^{h_{4}h_{5}}t2_{p_{3}p_{1}}^{h_{6}h_{7}}\n",
      " + -0.125 * v_{h_{4}h_{7}}^{p_{2}p_{3}}t2_{p_{0}p_{3}}^{h_{4}h_{5}}t2_{p_{2}p_{1}}^{h_{6}h_{7}}\n",
      " + -0.125 * v_{h_{7}h_{4}}^{p_{2}p_{3}}t2_{p_{0}p_{2}}^{h_{4}h_{5}}t2_{p_{3}p_{1}}^{h_{6}h_{7}}\n",
      " + 0.0625 * v_{h_{7}h_{4}}^{p_{2}p_{3}}t2_{p_{0}p_{3}}^{h_{4}h_{5}}t2_{p_{2}p_{1}}^{h_{6}h_{7}}\n",
      " + -0.125 * v_{h_{4}h_{7}}^{p_{2}p_{3}}t2_{p_{1}p_{0}}^{h_{4}h_{5}}t2_{p_{2}p_{3}}^{h_{6}h_{7}}\n",
      " + 0.0625 * v_{h_{4}h_{7}}^{p_{2}p_{3}}t2_{p_{1}p_{0}}^{h_{4}h_{5}}t2_{p_{3}p_{2}}^{h_{6}h_{7}}\n",
      " + 0.0625 * v_{h_{7}h_{4}}^{p_{2}p_{3}}t2_{p_{1}p_{0}}^{h_{4}h_{5}}t2_{p_{2}p_{3}}^{h_{6}h_{7}}\n",
      " + -0.125 * v_{h_{7}h_{4}}^{p_{2}p_{3}}t2_{p_{1}p_{0}}^{h_{4}h_{5}}t2_{p_{3}p_{2}}^{h_{6}h_{7}}\n",
      " + 0.0625 * v_{h_{4}h_{7}}^{p_{2}p_{3}}t2_{p_{2}p_{0}}^{h_{4}h_{5}}t2_{p_{1}p_{3}}^{h_{6}h_{7}}\n",
      " + -0.03125 * v_{h_{4}h_{7}}^{p_{2}p_{3}}t2_{p_{3}p_{0}}^{h_{4}h_{5}}t2_{p_{1}p_{2}}^{h_{6}h_{7}}\n",
      " + -0.03125 * v_{h_{7}h_{4}}^{p_{2}p_{3}}t2_{p_{2}p_{0}}^{h_{4}h_{5}}t2_{p_{1}p_{3}}^{h_{6}h_{7}}\n",
      " + 0.0625 * v_{h_{7}h_{4}}^{p_{2}p_{3}}t2_{p_{3}p_{0}}^{h_{4}h_{5}}t2_{p_{1}p_{2}}^{h_{6}h_{7}}\n",
      " + -0.03125 * v_{h_{4}h_{7}}^{p_{2}p_{3}}t2_{p_{2}p_{0}}^{h_{4}h_{5}}t2_{p_{3}p_{1}}^{h_{6}h_{7}}\n",
      " + 0.0625 * v_{h_{4}h_{7}}^{p_{2}p_{3}}t2_{p_{3}p_{0}}^{h_{4}h_{5}}t2_{p_{2}p_{1}}^{h_{6}h_{7}}\n",
      " + 0.0625 * v_{h_{7}h_{4}}^{p_{2}p_{3}}t2_{p_{2}p_{0}}^{h_{4}h_{5}}t2_{p_{3}p_{1}}^{h_{6}h_{7}}\n",
      " + -0.03125 * v_{h_{7}h_{4}}^{p_{2}p_{3}}t2_{p_{3}p_{0}}^{h_{4}h_{5}}t2_{p_{2}p_{1}}^{h_{6}h_{7}}\n",
      " + 0.0625 * v_{h_{4}h_{7}}^{p_{2}p_{3}}t2_{p_{1}p_{2}}^{h_{4}h_{5}}t2_{p_{0}p_{3}}^{h_{6}h_{7}}\n",
      " + -0.125 * v_{h_{4}h_{7}}^{p_{2}p_{3}}t2_{p_{1}p_{3}}^{h_{4}h_{5}}t2_{p_{0}p_{2}}^{h_{6}h_{7}}\n",
      " + -0.125 * v_{h_{7}h_{4}}^{p_{2}p_{3}}t2_{p_{1}p_{2}}^{h_{4}h_{5}}t2_{p_{0}p_{3}}^{h_{6}h_{7}}\n",
      " + 0.0625 * v_{h_{7}h_{4}}^{p_{2}p_{3}}t2_{p_{1}p_{3}}^{h_{4}h_{5}}t2_{p_{0}p_{2}}^{h_{6}h_{7}}\n",
      " + -0.03125 * v_{h_{4}h_{7}}^{p_{2}p_{3}}t2_{p_{2}p_{1}}^{h_{4}h_{5}}t2_{p_{0}p_{3}}^{h_{6}h_{7}}\n",
      " + 0.0625 * v_{h_{4}h_{7}}^{p_{2}p_{3}}t2_{p_{3}p_{1}}^{h_{4}h_{5}}t2_{p_{0}p_{2}}^{h_{6}h_{7}}\n",
      " + 0.0625 * v_{h_{7}h_{4}}^{p_{2}p_{3}}t2_{p_{2}p_{1}}^{h_{4}h_{5}}t2_{p_{0}p_{3}}^{h_{6}h_{7}}\n",
      " + -0.03125 * v_{h_{7}h_{4}}^{p_{2}p_{3}}t2_{p_{3}p_{1}}^{h_{4}h_{5}}t2_{p_{0}p_{2}}^{h_{6}h_{7}}\n",
      " + 0.0625 * v_{h_{4}h_{7}}^{p_{2}p_{3}}t2_{p_{2}p_{3}}^{h_{4}h_{5}}t2_{p_{0}p_{1}}^{h_{6}h_{7}}\n",
      " + -0.03125 * v_{h_{4}h_{7}}^{p_{2}p_{3}}t2_{p_{3}p_{2}}^{h_{4}h_{5}}t2_{p_{0}p_{1}}^{h_{6}h_{7}}\n",
      " + -0.03125 * v_{h_{7}h_{4}}^{p_{2}p_{3}}t2_{p_{2}p_{3}}^{h_{4}h_{5}}t2_{p_{0}p_{1}}^{h_{6}h_{7}}\n",
      " + 0.0625 * v_{h_{7}h_{4}}^{p_{2}p_{3}}t2_{p_{3}p_{2}}^{h_{4}h_{5}}t2_{p_{0}p_{1}}^{h_{6}h_{7}}\n",
      " + -0.125 * v_{h_{4}h_{7}}^{p_{2}p_{3}}t2_{p_{1}p_{2}}^{h_{4}h_{5}}t2_{p_{3}p_{0}}^{h_{6}h_{7}}\n",
      " + 0.25 * v_{h_{4}h_{7}}^{p_{2}p_{3}}t2_{p_{1}p_{3}}^{h_{4}h_{5}}t2_{p_{2}p_{0}}^{h_{6}h_{7}}\n",
      " + 0.25 * v_{h_{7}h_{4}}^{p_{2}p_{3}}t2_{p_{1}p_{2}}^{h_{4}h_{5}}t2_{p_{3}p_{0}}^{h_{6}h_{7}}\n",
      " + -0.125 * v_{h_{7}h_{4}}^{p_{2}p_{3}}t2_{p_{1}p_{3}}^{h_{4}h_{5}}t2_{p_{2}p_{0}}^{h_{6}h_{7}}\n",
      " + 0.0625 * v_{h_{4}h_{7}}^{p_{2}p_{3}}t2_{p_{2}p_{1}}^{h_{4}h_{5}}t2_{p_{3}p_{0}}^{h_{6}h_{7}}\n",
      " + -0.125 * v_{h_{4}h_{7}}^{p_{2}p_{3}}t2_{p_{3}p_{1}}^{h_{4}h_{5}}t2_{p_{2}p_{0}}^{h_{6}h_{7}}\n",
      " + -0.125 * v_{h_{7}h_{4}}^{p_{2}p_{3}}t2_{p_{2}p_{1}}^{h_{4}h_{5}}t2_{p_{3}p_{0}}^{h_{6}h_{7}}\n",
      " + 0.0625 * v_{h_{7}h_{4}}^{p_{2}p_{3}}t2_{p_{3}p_{1}}^{h_{4}h_{5}}t2_{p_{2}p_{0}}^{h_{6}h_{7}}\n",
      " + -0.125 * v_{h_{4}h_{7}}^{p_{2}p_{3}}t2_{p_{2}p_{3}}^{h_{4}h_{5}}t2_{p_{1}p_{0}}^{h_{6}h_{7}}\n",
      " + 0.0625 * v_{h_{4}h_{7}}^{p_{2}p_{3}}t2_{p_{3}p_{2}}^{h_{4}h_{5}}t2_{p_{1}p_{0}}^{h_{6}h_{7}}\n",
      " + 0.0625 * v_{h_{7}h_{4}}^{p_{2}p_{3}}t2_{p_{2}p_{3}}^{h_{4}h_{5}}t2_{p_{1}p_{0}}^{h_{6}h_{7}}\n",
      " + -0.125 * v_{h_{7}h_{4}}^{p_{2}p_{3}}t2_{p_{3}p_{2}}^{h_{4}h_{5}}t2_{p_{1}p_{0}}^{h_{6}h_{7}}\n",
      " + -0.03125 * v_{h_{4}h_{6}}^{p_{2}p_{3}}t2_{p_{0}p_{1}}^{h_{4}h_{5}}t2_{p_{2}p_{3}}^{h_{6}h_{7}}\n",
      " + 0.0625 * v_{h_{4}h_{6}}^{p_{2}p_{3}}t2_{p_{0}p_{1}}^{h_{4}h_{5}}t2_{p_{3}p_{2}}^{h_{6}h_{7}}\n",
      " + 0.0625 * v_{h_{6}h_{4}}^{p_{2}p_{3}}t2_{p_{0}p_{1}}^{h_{4}h_{5}}t2_{p_{2}p_{3}}^{h_{6}h_{7}}\n",
      " + -0.03125 * v_{h_{6}h_{4}}^{p_{2}p_{3}}t2_{p_{0}p_{1}}^{h_{4}h_{5}}t2_{p_{3}p_{2}}^{h_{6}h_{7}}\n",
      " + 0.0625 * v_{h_{4}h_{6}}^{p_{2}p_{3}}t2_{p_{0}p_{2}}^{h_{4}h_{5}}t2_{p_{1}p_{3}}^{h_{6}h_{7}}\n",
      " + -0.125 * v_{h_{4}h_{6}}^{p_{2}p_{3}}t2_{p_{0}p_{3}}^{h_{4}h_{5}}t2_{p_{1}p_{2}}^{h_{6}h_{7}}\n",
      " + -0.125 * v_{h_{6}h_{4}}^{p_{2}p_{3}}t2_{p_{0}p_{2}}^{h_{4}h_{5}}t2_{p_{1}p_{3}}^{h_{6}h_{7}}\n",
      " + 0.0625 * v_{h_{6}h_{4}}^{p_{2}p_{3}}t2_{p_{0}p_{3}}^{h_{4}h_{5}}t2_{p_{1}p_{2}}^{h_{6}h_{7}}\n",
      " + -0.03125 * v_{h_{4}h_{6}}^{p_{2}p_{3}}t2_{p_{0}p_{2}}^{h_{4}h_{5}}t2_{p_{3}p_{1}}^{h_{6}h_{7}}\n",
      " + 0.0625 * v_{h_{4}h_{6}}^{p_{2}p_{3}}t2_{p_{0}p_{3}}^{h_{4}h_{5}}t2_{p_{2}p_{1}}^{h_{6}h_{7}}\n",
      " + 0.0625 * v_{h_{6}h_{4}}^{p_{2}p_{3}}t2_{p_{0}p_{2}}^{h_{4}h_{5}}t2_{p_{3}p_{1}}^{h_{6}h_{7}}\n",
      " + -0.03125 * v_{h_{6}h_{4}}^{p_{2}p_{3}}t2_{p_{0}p_{3}}^{h_{4}h_{5}}t2_{p_{2}p_{1}}^{h_{6}h_{7}}\n",
      " + 0.0625 * v_{h_{4}h_{6}}^{p_{2}p_{3}}t2_{p_{1}p_{0}}^{h_{4}h_{5}}t2_{p_{2}p_{3}}^{h_{6}h_{7}}\n",
      " + -0.125 * v_{h_{4}h_{6}}^{p_{2}p_{3}}t2_{p_{1}p_{0}}^{h_{4}h_{5}}t2_{p_{3}p_{2}}^{h_{6}h_{7}}\n",
      " + -0.125 * v_{h_{6}h_{4}}^{p_{2}p_{3}}t2_{p_{1}p_{0}}^{h_{4}h_{5}}t2_{p_{2}p_{3}}^{h_{6}h_{7}}\n",
      " + 0.0625 * v_{h_{6}h_{4}}^{p_{2}p_{3}}t2_{p_{1}p_{0}}^{h_{4}h_{5}}t2_{p_{3}p_{2}}^{h_{6}h_{7}}\n",
      " + -0.03125 * v_{h_{4}h_{6}}^{p_{2}p_{3}}t2_{p_{2}p_{0}}^{h_{4}h_{5}}t2_{p_{1}p_{3}}^{h_{6}h_{7}}\n",
      " + 0.0625 * v_{h_{4}h_{6}}^{p_{2}p_{3}}t2_{p_{3}p_{0}}^{h_{4}h_{5}}t2_{p_{1}p_{2}}^{h_{6}h_{7}}\n",
      " + 0.0625 * v_{h_{6}h_{4}}^{p_{2}p_{3}}t2_{p_{2}p_{0}}^{h_{4}h_{5}}t2_{p_{1}p_{3}}^{h_{6}h_{7}}\n",
      " + -0.03125 * v_{h_{6}h_{4}}^{p_{2}p_{3}}t2_{p_{3}p_{0}}^{h_{4}h_{5}}t2_{p_{1}p_{2}}^{h_{6}h_{7}}\n",
      " + 0.0625 * v_{h_{4}h_{6}}^{p_{2}p_{3}}t2_{p_{2}p_{0}}^{h_{4}h_{5}}t2_{p_{3}p_{1}}^{h_{6}h_{7}}\n",
      " + -0.03125 * v_{h_{4}h_{6}}^{p_{2}p_{3}}t2_{p_{3}p_{0}}^{h_{4}h_{5}}t2_{p_{2}p_{1}}^{h_{6}h_{7}}\n",
      " + -0.03125 * v_{h_{6}h_{4}}^{p_{2}p_{3}}t2_{p_{2}p_{0}}^{h_{4}h_{5}}t2_{p_{3}p_{1}}^{h_{6}h_{7}}\n",
      " + 0.0625 * v_{h_{6}h_{4}}^{p_{2}p_{3}}t2_{p_{3}p_{0}}^{h_{4}h_{5}}t2_{p_{2}p_{1}}^{h_{6}h_{7}}\n",
      " + -0.125 * v_{h_{4}h_{6}}^{p_{2}p_{3}}t2_{p_{1}p_{2}}^{h_{4}h_{5}}t2_{p_{0}p_{3}}^{h_{6}h_{7}}\n",
      " + 0.25 * v_{h_{4}h_{6}}^{p_{2}p_{3}}t2_{p_{1}p_{3}}^{h_{4}h_{5}}t2_{p_{0}p_{2}}^{h_{6}h_{7}}\n",
      " + 0.25 * v_{h_{6}h_{4}}^{p_{2}p_{3}}t2_{p_{1}p_{2}}^{h_{4}h_{5}}t2_{p_{0}p_{3}}^{h_{6}h_{7}}\n",
      " + -0.125 * v_{h_{6}h_{4}}^{p_{2}p_{3}}t2_{p_{1}p_{3}}^{h_{4}h_{5}}t2_{p_{0}p_{2}}^{h_{6}h_{7}}\n",
      " + 0.0625 * v_{h_{4}h_{6}}^{p_{2}p_{3}}t2_{p_{2}p_{1}}^{h_{4}h_{5}}t2_{p_{0}p_{3}}^{h_{6}h_{7}}\n",
      " + -0.125 * v_{h_{4}h_{6}}^{p_{2}p_{3}}t2_{p_{3}p_{1}}^{h_{4}h_{5}}t2_{p_{0}p_{2}}^{h_{6}h_{7}}\n",
      " + -0.125 * v_{h_{6}h_{4}}^{p_{2}p_{3}}t2_{p_{2}p_{1}}^{h_{4}h_{5}}t2_{p_{0}p_{3}}^{h_{6}h_{7}}\n",
      " + 0.0625 * v_{h_{6}h_{4}}^{p_{2}p_{3}}t2_{p_{3}p_{1}}^{h_{4}h_{5}}t2_{p_{0}p_{2}}^{h_{6}h_{7}}\n",
      " + -0.125 * v_{h_{4}h_{6}}^{p_{2}p_{3}}t2_{p_{2}p_{3}}^{h_{4}h_{5}}t2_{p_{0}p_{1}}^{h_{6}h_{7}}\n",
      " + 0.0625 * v_{h_{4}h_{6}}^{p_{2}p_{3}}t2_{p_{3}p_{2}}^{h_{4}h_{5}}t2_{p_{0}p_{1}}^{h_{6}h_{7}}\n",
      " + 0.0625 * v_{h_{6}h_{4}}^{p_{2}p_{3}}t2_{p_{2}p_{3}}^{h_{4}h_{5}}t2_{p_{0}p_{1}}^{h_{6}h_{7}}\n",
      " + -0.125 * v_{h_{6}h_{4}}^{p_{2}p_{3}}t2_{p_{3}p_{2}}^{h_{4}h_{5}}t2_{p_{0}p_{1}}^{h_{6}h_{7}}\n",
      " + 0.0625 * v_{h_{4}h_{6}}^{p_{2}p_{3}}t2_{p_{1}p_{2}}^{h_{4}h_{5}}t2_{p_{3}p_{0}}^{h_{6}h_{7}}\n",
      " + -0.125 * v_{h_{4}h_{6}}^{p_{2}p_{3}}t2_{p_{1}p_{3}}^{h_{4}h_{5}}t2_{p_{2}p_{0}}^{h_{6}h_{7}}\n",
      " + -0.125 * v_{h_{6}h_{4}}^{p_{2}p_{3}}t2_{p_{1}p_{2}}^{h_{4}h_{5}}t2_{p_{3}p_{0}}^{h_{6}h_{7}}\n",
      " + 0.0625 * v_{h_{6}h_{4}}^{p_{2}p_{3}}t2_{p_{1}p_{3}}^{h_{4}h_{5}}t2_{p_{2}p_{0}}^{h_{6}h_{7}}\n",
      " + -0.03125 * v_{h_{4}h_{6}}^{p_{2}p_{3}}t2_{p_{2}p_{1}}^{h_{4}h_{5}}t2_{p_{3}p_{0}}^{h_{6}h_{7}}\n",
      " + 0.0625 * v_{h_{4}h_{6}}^{p_{2}p_{3}}t2_{p_{3}p_{1}}^{h_{4}h_{5}}t2_{p_{2}p_{0}}^{h_{6}h_{7}}\n",
      " + 0.0625 * v_{h_{6}h_{4}}^{p_{2}p_{3}}t2_{p_{2}p_{1}}^{h_{4}h_{5}}t2_{p_{3}p_{0}}^{h_{6}h_{7}}\n",
      " + -0.03125 * v_{h_{6}h_{4}}^{p_{2}p_{3}}t2_{p_{3}p_{1}}^{h_{4}h_{5}}t2_{p_{2}p_{0}}^{h_{6}h_{7}}\n",
      " + 0.0625 * v_{h_{4}h_{6}}^{p_{2}p_{3}}t2_{p_{2}p_{3}}^{h_{4}h_{5}}t2_{p_{1}p_{0}}^{h_{6}h_{7}}\n",
      " + -0.03125 * v_{h_{4}h_{6}}^{p_{2}p_{3}}t2_{p_{3}p_{2}}^{h_{4}h_{5}}t2_{p_{1}p_{0}}^{h_{6}h_{7}}\n",
      " + -0.03125 * v_{h_{6}h_{4}}^{p_{2}p_{3}}t2_{p_{2}p_{3}}^{h_{4}h_{5}}t2_{p_{1}p_{0}}^{h_{6}h_{7}}\n",
      " + 0.0625 * v_{h_{6}h_{4}}^{p_{2}p_{3}}t2_{p_{3}p_{2}}^{h_{4}h_{5}}t2_{p_{1}p_{0}}^{h_{6}h_{7}}\n",
      " + 0.0625 * v_{h_{5}h_{7}}^{p_{2}p_{3}}t2_{p_{0}p_{1}}^{h_{4}h_{5}}t2_{p_{2}p_{3}}^{h_{6}h_{7}}\n",
      " + -0.03125 * v_{h_{5}h_{7}}^{p_{2}p_{3}}t2_{p_{0}p_{1}}^{h_{4}h_{5}}t2_{p_{3}p_{2}}^{h_{6}h_{7}}\n",
      " + -0.03125 * v_{h_{7}h_{5}}^{p_{2}p_{3}}t2_{p_{0}p_{1}}^{h_{4}h_{5}}t2_{p_{2}p_{3}}^{h_{6}h_{7}}\n",
      " + 0.0625 * v_{h_{7}h_{5}}^{p_{2}p_{3}}t2_{p_{0}p_{1}}^{h_{4}h_{5}}t2_{p_{3}p_{2}}^{h_{6}h_{7}}\n",
      " + -0.03125 * v_{h_{5}h_{7}}^{p_{2}p_{3}}t2_{p_{0}p_{2}}^{h_{4}h_{5}}t2_{p_{1}p_{3}}^{h_{6}h_{7}}\n",
      " + 0.0625 * v_{h_{5}h_{7}}^{p_{2}p_{3}}t2_{p_{0}p_{3}}^{h_{4}h_{5}}t2_{p_{1}p_{2}}^{h_{6}h_{7}}\n",
      " + 0.0625 * v_{h_{7}h_{5}}^{p_{2}p_{3}}t2_{p_{0}p_{2}}^{h_{4}h_{5}}t2_{p_{1}p_{3}}^{h_{6}h_{7}}\n",
      " + -0.03125 * v_{h_{7}h_{5}}^{p_{2}p_{3}}t2_{p_{0}p_{3}}^{h_{4}h_{5}}t2_{p_{1}p_{2}}^{h_{6}h_{7}}\n",
      " + 0.0625 * v_{h_{5}h_{7}}^{p_{2}p_{3}}t2_{p_{0}p_{2}}^{h_{4}h_{5}}t2_{p_{3}p_{1}}^{h_{6}h_{7}}\n",
      " + -0.125 * v_{h_{5}h_{7}}^{p_{2}p_{3}}t2_{p_{0}p_{3}}^{h_{4}h_{5}}t2_{p_{2}p_{1}}^{h_{6}h_{7}}\n",
      " + -0.125 * v_{h_{7}h_{5}}^{p_{2}p_{3}}t2_{p_{0}p_{2}}^{h_{4}h_{5}}t2_{p_{3}p_{1}}^{h_{6}h_{7}}\n",
      " + 0.0625 * v_{h_{7}h_{5}}^{p_{2}p_{3}}t2_{p_{0}p_{3}}^{h_{4}h_{5}}t2_{p_{2}p_{1}}^{h_{6}h_{7}}\n",
      " + -0.125 * v_{h_{5}h_{7}}^{p_{2}p_{3}}t2_{p_{1}p_{0}}^{h_{4}h_{5}}t2_{p_{2}p_{3}}^{h_{6}h_{7}}\n",
      " + 0.0625 * v_{h_{5}h_{7}}^{p_{2}p_{3}}t2_{p_{1}p_{0}}^{h_{4}h_{5}}t2_{p_{3}p_{2}}^{h_{6}h_{7}}\n",
      " + 0.0625 * v_{h_{7}h_{5}}^{p_{2}p_{3}}t2_{p_{1}p_{0}}^{h_{4}h_{5}}t2_{p_{2}p_{3}}^{h_{6}h_{7}}\n",
      " + -0.125 * v_{h_{7}h_{5}}^{p_{2}p_{3}}t2_{p_{1}p_{0}}^{h_{4}h_{5}}t2_{p_{3}p_{2}}^{h_{6}h_{7}}\n",
      " + 0.0625 * v_{h_{5}h_{7}}^{p_{2}p_{3}}t2_{p_{2}p_{0}}^{h_{4}h_{5}}t2_{p_{1}p_{3}}^{h_{6}h_{7}}\n",
      " + -0.125 * v_{h_{5}h_{7}}^{p_{2}p_{3}}t2_{p_{3}p_{0}}^{h_{4}h_{5}}t2_{p_{1}p_{2}}^{h_{6}h_{7}}\n",
      " + -0.125 * v_{h_{7}h_{5}}^{p_{2}p_{3}}t2_{p_{2}p_{0}}^{h_{4}h_{5}}t2_{p_{1}p_{3}}^{h_{6}h_{7}}\n",
      " + 0.0625 * v_{h_{7}h_{5}}^{p_{2}p_{3}}t2_{p_{3}p_{0}}^{h_{4}h_{5}}t2_{p_{1}p_{2}}^{h_{6}h_{7}}\n",
      " + -0.125 * v_{h_{5}h_{7}}^{p_{2}p_{3}}t2_{p_{2}p_{0}}^{h_{4}h_{5}}t2_{p_{3}p_{1}}^{h_{6}h_{7}}\n",
      " + 0.25 * v_{h_{5}h_{7}}^{p_{2}p_{3}}t2_{p_{3}p_{0}}^{h_{4}h_{5}}t2_{p_{2}p_{1}}^{h_{6}h_{7}}\n",
      " + 0.25 * v_{h_{7}h_{5}}^{p_{2}p_{3}}t2_{p_{2}p_{0}}^{h_{4}h_{5}}t2_{p_{3}p_{1}}^{h_{6}h_{7}}\n",
      " + -0.125 * v_{h_{7}h_{5}}^{p_{2}p_{3}}t2_{p_{3}p_{0}}^{h_{4}h_{5}}t2_{p_{2}p_{1}}^{h_{6}h_{7}}\n",
      " + 0.0625 * v_{h_{5}h_{7}}^{p_{2}p_{3}}t2_{p_{1}p_{2}}^{h_{4}h_{5}}t2_{p_{0}p_{3}}^{h_{6}h_{7}}\n",
      " + -0.03125 * v_{h_{5}h_{7}}^{p_{2}p_{3}}t2_{p_{1}p_{3}}^{h_{4}h_{5}}t2_{p_{0}p_{2}}^{h_{6}h_{7}}\n",
      " + -0.03125 * v_{h_{7}h_{5}}^{p_{2}p_{3}}t2_{p_{1}p_{2}}^{h_{4}h_{5}}t2_{p_{0}p_{3}}^{h_{6}h_{7}}\n",
      " + 0.0625 * v_{h_{7}h_{5}}^{p_{2}p_{3}}t2_{p_{1}p_{3}}^{h_{4}h_{5}}t2_{p_{0}p_{2}}^{h_{6}h_{7}}\n",
      " + -0.03125 * v_{h_{5}h_{7}}^{p_{2}p_{3}}t2_{p_{2}p_{1}}^{h_{4}h_{5}}t2_{p_{0}p_{3}}^{h_{6}h_{7}}\n",
      " + 0.0625 * v_{h_{5}h_{7}}^{p_{2}p_{3}}t2_{p_{3}p_{1}}^{h_{4}h_{5}}t2_{p_{0}p_{2}}^{h_{6}h_{7}}\n",
      " + 0.0625 * v_{h_{7}h_{5}}^{p_{2}p_{3}}t2_{p_{2}p_{1}}^{h_{4}h_{5}}t2_{p_{0}p_{3}}^{h_{6}h_{7}}\n",
      " + -0.03125 * v_{h_{7}h_{5}}^{p_{2}p_{3}}t2_{p_{3}p_{1}}^{h_{4}h_{5}}t2_{p_{0}p_{2}}^{h_{6}h_{7}}\n",
      " + 0.0625 * v_{h_{5}h_{7}}^{p_{2}p_{3}}t2_{p_{2}p_{3}}^{h_{4}h_{5}}t2_{p_{0}p_{1}}^{h_{6}h_{7}}\n",
      " + -0.125 * v_{h_{5}h_{7}}^{p_{2}p_{3}}t2_{p_{3}p_{2}}^{h_{4}h_{5}}t2_{p_{0}p_{1}}^{h_{6}h_{7}}\n",
      " + -0.125 * v_{h_{7}h_{5}}^{p_{2}p_{3}}t2_{p_{2}p_{3}}^{h_{4}h_{5}}t2_{p_{0}p_{1}}^{h_{6}h_{7}}\n",
      " + 0.0625 * v_{h_{7}h_{5}}^{p_{2}p_{3}}t2_{p_{3}p_{2}}^{h_{4}h_{5}}t2_{p_{0}p_{1}}^{h_{6}h_{7}}\n",
      " + -0.03125 * v_{h_{5}h_{7}}^{p_{2}p_{3}}t2_{p_{1}p_{2}}^{h_{4}h_{5}}t2_{p_{3}p_{0}}^{h_{6}h_{7}}\n",
      " + 0.0625 * v_{h_{5}h_{7}}^{p_{2}p_{3}}t2_{p_{1}p_{3}}^{h_{4}h_{5}}t2_{p_{2}p_{0}}^{h_{6}h_{7}}\n",
      " + 0.0625 * v_{h_{7}h_{5}}^{p_{2}p_{3}}t2_{p_{1}p_{2}}^{h_{4}h_{5}}t2_{p_{3}p_{0}}^{h_{6}h_{7}}\n",
      " + -0.03125 * v_{h_{7}h_{5}}^{p_{2}p_{3}}t2_{p_{1}p_{3}}^{h_{4}h_{5}}t2_{p_{2}p_{0}}^{h_{6}h_{7}}\n",
      " + 0.0625 * v_{h_{5}h_{7}}^{p_{2}p_{3}}t2_{p_{2}p_{1}}^{h_{4}h_{5}}t2_{p_{3}p_{0}}^{h_{6}h_{7}}\n",
      " + -0.125 * v_{h_{5}h_{7}}^{p_{2}p_{3}}t2_{p_{3}p_{1}}^{h_{4}h_{5}}t2_{p_{2}p_{0}}^{h_{6}h_{7}}\n",
      " + -0.125 * v_{h_{7}h_{5}}^{p_{2}p_{3}}t2_{p_{2}p_{1}}^{h_{4}h_{5}}t2_{p_{3}p_{0}}^{h_{6}h_{7}}\n",
      " + 0.0625 * v_{h_{7}h_{5}}^{p_{2}p_{3}}t2_{p_{3}p_{1}}^{h_{4}h_{5}}t2_{p_{2}p_{0}}^{h_{6}h_{7}}\n",
      " + -0.03125 * v_{h_{5}h_{7}}^{p_{2}p_{3}}t2_{p_{2}p_{3}}^{h_{4}h_{5}}t2_{p_{1}p_{0}}^{h_{6}h_{7}}\n",
      " + 0.0625 * v_{h_{5}h_{7}}^{p_{2}p_{3}}t2_{p_{3}p_{2}}^{h_{4}h_{5}}t2_{p_{1}p_{0}}^{h_{6}h_{7}}\n",
      " + 0.0625 * v_{h_{7}h_{5}}^{p_{2}p_{3}}t2_{p_{2}p_{3}}^{h_{4}h_{5}}t2_{p_{1}p_{0}}^{h_{6}h_{7}}\n",
      " + -0.03125 * v_{h_{7}h_{5}}^{p_{2}p_{3}}t2_{p_{3}p_{2}}^{h_{4}h_{5}}t2_{p_{1}p_{0}}^{h_{6}h_{7}}\n",
      " + -0.125 * v_{h_{4}h_{7}}^{p_{2}p_{3}}t2_{p_{0}p_{1}}^{h_{4}h_{5}}t2_{p_{2}p_{3}}^{h_{6}h_{7}}\n",
      " + 0.0625 * v_{h_{4}h_{7}}^{p_{2}p_{3}}t2_{p_{0}p_{1}}^{h_{4}h_{5}}t2_{p_{3}p_{2}}^{h_{6}h_{7}}\n",
      " + 0.0625 * v_{h_{7}h_{4}}^{p_{2}p_{3}}t2_{p_{0}p_{1}}^{h_{4}h_{5}}t2_{p_{2}p_{3}}^{h_{6}h_{7}}\n",
      " + -0.125 * v_{h_{7}h_{4}}^{p_{2}p_{3}}t2_{p_{0}p_{1}}^{h_{4}h_{5}}t2_{p_{3}p_{2}}^{h_{6}h_{7}}\n",
      " + 0.0625 * v_{h_{4}h_{7}}^{p_{2}p_{3}}t2_{p_{0}p_{2}}^{h_{4}h_{5}}t2_{p_{1}p_{3}}^{h_{6}h_{7}}\n",
      " + -0.125 * v_{h_{4}h_{7}}^{p_{2}p_{3}}t2_{p_{0}p_{3}}^{h_{4}h_{5}}t2_{p_{1}p_{2}}^{h_{6}h_{7}}\n",
      " + -0.125 * v_{h_{7}h_{4}}^{p_{2}p_{3}}t2_{p_{0}p_{2}}^{h_{4}h_{5}}t2_{p_{1}p_{3}}^{h_{6}h_{7}}\n",
      " + 0.0625 * v_{h_{7}h_{4}}^{p_{2}p_{3}}t2_{p_{0}p_{3}}^{h_{4}h_{5}}t2_{p_{1}p_{2}}^{h_{6}h_{7}}\n",
      " + -0.125 * v_{h_{4}h_{7}}^{p_{2}p_{3}}t2_{p_{0}p_{2}}^{h_{4}h_{5}}t2_{p_{3}p_{1}}^{h_{6}h_{7}}\n",
      " + 0.25 * v_{h_{4}h_{7}}^{p_{2}p_{3}}t2_{p_{0}p_{3}}^{h_{4}h_{5}}t2_{p_{2}p_{1}}^{h_{6}h_{7}}\n",
      " + 0.25 * v_{h_{7}h_{4}}^{p_{2}p_{3}}t2_{p_{0}p_{2}}^{h_{4}h_{5}}t2_{p_{3}p_{1}}^{h_{6}h_{7}}\n",
      " + -0.125 * v_{h_{7}h_{4}}^{p_{2}p_{3}}t2_{p_{0}p_{3}}^{h_{4}h_{5}}t2_{p_{2}p_{1}}^{h_{6}h_{7}}\n",
      " + 0.0625 * v_{h_{4}h_{7}}^{p_{2}p_{3}}t2_{p_{1}p_{0}}^{h_{4}h_{5}}t2_{p_{2}p_{3}}^{h_{6}h_{7}}\n",
      " + -0.03125 * v_{h_{4}h_{7}}^{p_{2}p_{3}}t2_{p_{1}p_{0}}^{h_{4}h_{5}}t2_{p_{3}p_{2}}^{h_{6}h_{7}}\n",
      " + -0.03125 * v_{h_{7}h_{4}}^{p_{2}p_{3}}t2_{p_{1}p_{0}}^{h_{4}h_{5}}t2_{p_{2}p_{3}}^{h_{6}h_{7}}\n",
      " + 0.0625 * v_{h_{7}h_{4}}^{p_{2}p_{3}}t2_{p_{1}p_{0}}^{h_{4}h_{5}}t2_{p_{3}p_{2}}^{h_{6}h_{7}}\n",
      " + -0.03125 * v_{h_{4}h_{7}}^{p_{2}p_{3}}t2_{p_{2}p_{0}}^{h_{4}h_{5}}t2_{p_{1}p_{3}}^{h_{6}h_{7}}\n",
      " + 0.0625 * v_{h_{4}h_{7}}^{p_{2}p_{3}}t2_{p_{3}p_{0}}^{h_{4}h_{5}}t2_{p_{1}p_{2}}^{h_{6}h_{7}}\n",
      " + 0.0625 * v_{h_{7}h_{4}}^{p_{2}p_{3}}t2_{p_{2}p_{0}}^{h_{4}h_{5}}t2_{p_{1}p_{3}}^{h_{6}h_{7}}\n",
      " + -0.03125 * v_{h_{7}h_{4}}^{p_{2}p_{3}}t2_{p_{3}p_{0}}^{h_{4}h_{5}}t2_{p_{1}p_{2}}^{h_{6}h_{7}}\n",
      " + 0.0625 * v_{h_{4}h_{7}}^{p_{2}p_{3}}t2_{p_{2}p_{0}}^{h_{4}h_{5}}t2_{p_{3}p_{1}}^{h_{6}h_{7}}\n",
      " + -0.125 * v_{h_{4}h_{7}}^{p_{2}p_{3}}t2_{p_{3}p_{0}}^{h_{4}h_{5}}t2_{p_{2}p_{1}}^{h_{6}h_{7}}\n",
      " + -0.125 * v_{h_{7}h_{4}}^{p_{2}p_{3}}t2_{p_{2}p_{0}}^{h_{4}h_{5}}t2_{p_{3}p_{1}}^{h_{6}h_{7}}\n",
      " + 0.0625 * v_{h_{7}h_{4}}^{p_{2}p_{3}}t2_{p_{3}p_{0}}^{h_{4}h_{5}}t2_{p_{2}p_{1}}^{h_{6}h_{7}}\n",
      " + -0.03125 * v_{h_{4}h_{7}}^{p_{2}p_{3}}t2_{p_{1}p_{2}}^{h_{4}h_{5}}t2_{p_{0}p_{3}}^{h_{6}h_{7}}\n",
      " + 0.0625 * v_{h_{4}h_{7}}^{p_{2}p_{3}}t2_{p_{1}p_{3}}^{h_{4}h_{5}}t2_{p_{0}p_{2}}^{h_{6}h_{7}}\n",
      " + 0.0625 * v_{h_{7}h_{4}}^{p_{2}p_{3}}t2_{p_{1}p_{2}}^{h_{4}h_{5}}t2_{p_{0}p_{3}}^{h_{6}h_{7}}\n",
      " + -0.03125 * v_{h_{7}h_{4}}^{p_{2}p_{3}}t2_{p_{1}p_{3}}^{h_{4}h_{5}}t2_{p_{0}p_{2}}^{h_{6}h_{7}}\n",
      " + 0.0625 * v_{h_{4}h_{7}}^{p_{2}p_{3}}t2_{p_{2}p_{1}}^{h_{4}h_{5}}t2_{p_{0}p_{3}}^{h_{6}h_{7}}\n",
      " + -0.03125 * v_{h_{4}h_{7}}^{p_{2}p_{3}}t2_{p_{3}p_{1}}^{h_{4}h_{5}}t2_{p_{0}p_{2}}^{h_{6}h_{7}}\n",
      " + -0.03125 * v_{h_{7}h_{4}}^{p_{2}p_{3}}t2_{p_{2}p_{1}}^{h_{4}h_{5}}t2_{p_{0}p_{3}}^{h_{6}h_{7}}\n",
      " + 0.0625 * v_{h_{7}h_{4}}^{p_{2}p_{3}}t2_{p_{3}p_{1}}^{h_{4}h_{5}}t2_{p_{0}p_{2}}^{h_{6}h_{7}}\n",
      " + -0.125 * v_{h_{4}h_{7}}^{p_{2}p_{3}}t2_{p_{2}p_{3}}^{h_{4}h_{5}}t2_{p_{0}p_{1}}^{h_{6}h_{7}}\n",
      " + 0.0625 * v_{h_{4}h_{7}}^{p_{2}p_{3}}t2_{p_{3}p_{2}}^{h_{4}h_{5}}t2_{p_{0}p_{1}}^{h_{6}h_{7}}\n",
      " + 0.0625 * v_{h_{7}h_{4}}^{p_{2}p_{3}}t2_{p_{2}p_{3}}^{h_{4}h_{5}}t2_{p_{0}p_{1}}^{h_{6}h_{7}}\n",
      " + -0.125 * v_{h_{7}h_{4}}^{p_{2}p_{3}}t2_{p_{3}p_{2}}^{h_{4}h_{5}}t2_{p_{0}p_{1}}^{h_{6}h_{7}}\n",
      " + 0.0625 * v_{h_{4}h_{7}}^{p_{2}p_{3}}t2_{p_{1}p_{2}}^{h_{4}h_{5}}t2_{p_{3}p_{0}}^{h_{6}h_{7}}\n",
      " + -0.125 * v_{h_{4}h_{7}}^{p_{2}p_{3}}t2_{p_{1}p_{3}}^{h_{4}h_{5}}t2_{p_{2}p_{0}}^{h_{6}h_{7}}\n",
      " + -0.125 * v_{h_{7}h_{4}}^{p_{2}p_{3}}t2_{p_{1}p_{2}}^{h_{4}h_{5}}t2_{p_{3}p_{0}}^{h_{6}h_{7}}\n",
      " + 0.0625 * v_{h_{7}h_{4}}^{p_{2}p_{3}}t2_{p_{1}p_{3}}^{h_{4}h_{5}}t2_{p_{2}p_{0}}^{h_{6}h_{7}}\n",
      " + -0.03125 * v_{h_{4}h_{7}}^{p_{2}p_{3}}t2_{p_{2}p_{1}}^{h_{4}h_{5}}t2_{p_{3}p_{0}}^{h_{6}h_{7}}\n",
      " + 0.0625 * v_{h_{4}h_{7}}^{p_{2}p_{3}}t2_{p_{3}p_{1}}^{h_{4}h_{5}}t2_{p_{2}p_{0}}^{h_{6}h_{7}}\n",
      " + 0.0625 * v_{h_{7}h_{4}}^{p_{2}p_{3}}t2_{p_{2}p_{1}}^{h_{4}h_{5}}t2_{p_{3}p_{0}}^{h_{6}h_{7}}\n",
      " + -0.03125 * v_{h_{7}h_{4}}^{p_{2}p_{3}}t2_{p_{3}p_{1}}^{h_{4}h_{5}}t2_{p_{2}p_{0}}^{h_{6}h_{7}}\n",
      " + 0.0625 * v_{h_{4}h_{7}}^{p_{2}p_{3}}t2_{p_{2}p_{3}}^{h_{4}h_{5}}t2_{p_{1}p_{0}}^{h_{6}h_{7}}\n",
      " + -0.03125 * v_{h_{4}h_{7}}^{p_{2}p_{3}}t2_{p_{3}p_{2}}^{h_{4}h_{5}}t2_{p_{1}p_{0}}^{h_{6}h_{7}}\n",
      " + -0.03125 * v_{h_{7}h_{4}}^{p_{2}p_{3}}t2_{p_{2}p_{3}}^{h_{4}h_{5}}t2_{p_{1}p_{0}}^{h_{6}h_{7}}\n",
      " + 0.0625 * v_{h_{7}h_{4}}^{p_{2}p_{3}}t2_{p_{3}p_{2}}^{h_{4}h_{5}}t2_{p_{1}p_{0}}^{h_{6}h_{7}}\n",
      " + 0.0625 * v_{h_{4}h_{5}}^{p_{2}p_{3}}t2_{p_{0}p_{1}}^{h_{4}h_{5}}t2_{p_{2}p_{3}}^{h_{6}h_{7}}\n",
      " + -0.03125 * v_{h_{4}h_{5}}^{p_{2}p_{3}}t2_{p_{0}p_{1}}^{h_{4}h_{5}}t2_{p_{3}p_{2}}^{h_{6}h_{7}}\n",
      " + -0.03125 * v_{h_{5}h_{4}}^{p_{2}p_{3}}t2_{p_{0}p_{1}}^{h_{4}h_{5}}t2_{p_{2}p_{3}}^{h_{6}h_{7}}\n",
      " + 0.0625 * v_{h_{5}h_{4}}^{p_{2}p_{3}}t2_{p_{0}p_{1}}^{h_{4}h_{5}}t2_{p_{3}p_{2}}^{h_{6}h_{7}}\n",
      " + -0.03125 * v_{h_{4}h_{5}}^{p_{2}p_{3}}t2_{p_{0}p_{2}}^{h_{4}h_{5}}t2_{p_{1}p_{3}}^{h_{6}h_{7}}\n",
      " + 0.0625 * v_{h_{4}h_{5}}^{p_{2}p_{3}}t2_{p_{0}p_{3}}^{h_{4}h_{5}}t2_{p_{1}p_{2}}^{h_{6}h_{7}}\n",
      " + 0.0625 * v_{h_{5}h_{4}}^{p_{2}p_{3}}t2_{p_{0}p_{2}}^{h_{4}h_{5}}t2_{p_{1}p_{3}}^{h_{6}h_{7}}\n",
      " + -0.03125 * v_{h_{5}h_{4}}^{p_{2}p_{3}}t2_{p_{0}p_{3}}^{h_{4}h_{5}}t2_{p_{1}p_{2}}^{h_{6}h_{7}}\n",
      " + 0.0625 * v_{h_{4}h_{5}}^{p_{2}p_{3}}t2_{p_{0}p_{2}}^{h_{4}h_{5}}t2_{p_{3}p_{1}}^{h_{6}h_{7}}\n",
      " + -0.125 * v_{h_{4}h_{5}}^{p_{2}p_{3}}t2_{p_{0}p_{3}}^{h_{4}h_{5}}t2_{p_{2}p_{1}}^{h_{6}h_{7}}\n",
      " + -0.125 * v_{h_{5}h_{4}}^{p_{2}p_{3}}t2_{p_{0}p_{2}}^{h_{4}h_{5}}t2_{p_{3}p_{1}}^{h_{6}h_{7}}\n",
      " + 0.0625 * v_{h_{5}h_{4}}^{p_{2}p_{3}}t2_{p_{0}p_{3}}^{h_{4}h_{5}}t2_{p_{2}p_{1}}^{h_{6}h_{7}}\n",
      " + -0.03125 * v_{h_{4}h_{5}}^{p_{2}p_{3}}t2_{p_{1}p_{0}}^{h_{4}h_{5}}t2_{p_{2}p_{3}}^{h_{6}h_{7}}\n",
      " + 0.0625 * v_{h_{4}h_{5}}^{p_{2}p_{3}}t2_{p_{1}p_{0}}^{h_{4}h_{5}}t2_{p_{3}p_{2}}^{h_{6}h_{7}}\n",
      " + 0.0625 * v_{h_{5}h_{4}}^{p_{2}p_{3}}t2_{p_{1}p_{0}}^{h_{4}h_{5}}t2_{p_{2}p_{3}}^{h_{6}h_{7}}\n",
      " + -0.03125 * v_{h_{5}h_{4}}^{p_{2}p_{3}}t2_{p_{1}p_{0}}^{h_{4}h_{5}}t2_{p_{3}p_{2}}^{h_{6}h_{7}}\n",
      " + 0.0625 * v_{h_{4}h_{5}}^{p_{2}p_{3}}t2_{p_{2}p_{0}}^{h_{4}h_{5}}t2_{p_{1}p_{3}}^{h_{6}h_{7}}\n",
      " + -0.03125 * v_{h_{4}h_{5}}^{p_{2}p_{3}}t2_{p_{3}p_{0}}^{h_{4}h_{5}}t2_{p_{1}p_{2}}^{h_{6}h_{7}}\n",
      " + -0.03125 * v_{h_{5}h_{4}}^{p_{2}p_{3}}t2_{p_{2}p_{0}}^{h_{4}h_{5}}t2_{p_{1}p_{3}}^{h_{6}h_{7}}\n",
      " + 0.0625 * v_{h_{5}h_{4}}^{p_{2}p_{3}}t2_{p_{3}p_{0}}^{h_{4}h_{5}}t2_{p_{1}p_{2}}^{h_{6}h_{7}}\n",
      " + -0.125 * v_{h_{4}h_{5}}^{p_{2}p_{3}}t2_{p_{2}p_{0}}^{h_{4}h_{5}}t2_{p_{3}p_{1}}^{h_{6}h_{7}}\n",
      " + 0.0625 * v_{h_{4}h_{5}}^{p_{2}p_{3}}t2_{p_{3}p_{0}}^{h_{4}h_{5}}t2_{p_{2}p_{1}}^{h_{6}h_{7}}\n",
      " + 0.0625 * v_{h_{5}h_{4}}^{p_{2}p_{3}}t2_{p_{2}p_{0}}^{h_{4}h_{5}}t2_{p_{3}p_{1}}^{h_{6}h_{7}}\n",
      " + -0.125 * v_{h_{5}h_{4}}^{p_{2}p_{3}}t2_{p_{3}p_{0}}^{h_{4}h_{5}}t2_{p_{2}p_{1}}^{h_{6}h_{7}}\n",
      " + 0.0625 * v_{h_{4}h_{5}}^{p_{2}p_{3}}t2_{p_{1}p_{2}}^{h_{4}h_{5}}t2_{p_{0}p_{3}}^{h_{6}h_{7}}\n",
      " + -0.125 * v_{h_{4}h_{5}}^{p_{2}p_{3}}t2_{p_{1}p_{3}}^{h_{4}h_{5}}t2_{p_{0}p_{2}}^{h_{6}h_{7}}\n",
      " + -0.125 * v_{h_{5}h_{4}}^{p_{2}p_{3}}t2_{p_{1}p_{2}}^{h_{4}h_{5}}t2_{p_{0}p_{3}}^{h_{6}h_{7}}\n",
      " + 0.0625 * v_{h_{5}h_{4}}^{p_{2}p_{3}}t2_{p_{1}p_{3}}^{h_{4}h_{5}}t2_{p_{0}p_{2}}^{h_{6}h_{7}}\n",
      " + -0.125 * v_{h_{4}h_{5}}^{p_{2}p_{3}}t2_{p_{2}p_{1}}^{h_{4}h_{5}}t2_{p_{0}p_{3}}^{h_{6}h_{7}}\n",
      " + 0.0625 * v_{h_{4}h_{5}}^{p_{2}p_{3}}t2_{p_{3}p_{1}}^{h_{4}h_{5}}t2_{p_{0}p_{2}}^{h_{6}h_{7}}\n",
      " + 0.0625 * v_{h_{5}h_{4}}^{p_{2}p_{3}}t2_{p_{2}p_{1}}^{h_{4}h_{5}}t2_{p_{0}p_{3}}^{h_{6}h_{7}}\n",
      " + -0.125 * v_{h_{5}h_{4}}^{p_{2}p_{3}}t2_{p_{3}p_{1}}^{h_{4}h_{5}}t2_{p_{0}p_{2}}^{h_{6}h_{7}}\n",
      " + 0.25 * v_{h_{4}h_{5}}^{p_{2}p_{3}}t2_{p_{2}p_{3}}^{h_{4}h_{5}}t2_{p_{0}p_{1}}^{h_{6}h_{7}}\n",
      " + -0.125 * v_{h_{4}h_{5}}^{p_{2}p_{3}}t2_{p_{3}p_{2}}^{h_{4}h_{5}}t2_{p_{0}p_{1}}^{h_{6}h_{7}}\n",
      " + -0.125 * v_{h_{5}h_{4}}^{p_{2}p_{3}}t2_{p_{2}p_{3}}^{h_{4}h_{5}}t2_{p_{0}p_{1}}^{h_{6}h_{7}}\n",
      " + 0.25 * v_{h_{5}h_{4}}^{p_{2}p_{3}}t2_{p_{3}p_{2}}^{h_{4}h_{5}}t2_{p_{0}p_{1}}^{h_{6}h_{7}}\n",
      " + -0.03125 * v_{h_{4}h_{5}}^{p_{2}p_{3}}t2_{p_{1}p_{2}}^{h_{4}h_{5}}t2_{p_{3}p_{0}}^{h_{6}h_{7}}\n",
      " + 0.0625 * v_{h_{4}h_{5}}^{p_{2}p_{3}}t2_{p_{1}p_{3}}^{h_{4}h_{5}}t2_{p_{2}p_{0}}^{h_{6}h_{7}}\n",
      " + 0.0625 * v_{h_{5}h_{4}}^{p_{2}p_{3}}t2_{p_{1}p_{2}}^{h_{4}h_{5}}t2_{p_{3}p_{0}}^{h_{6}h_{7}}\n",
      " + -0.03125 * v_{h_{5}h_{4}}^{p_{2}p_{3}}t2_{p_{1}p_{3}}^{h_{4}h_{5}}t2_{p_{2}p_{0}}^{h_{6}h_{7}}\n",
      " + 0.0625 * v_{h_{4}h_{5}}^{p_{2}p_{3}}t2_{p_{2}p_{1}}^{h_{4}h_{5}}t2_{p_{3}p_{0}}^{h_{6}h_{7}}\n",
      " + -0.03125 * v_{h_{4}h_{5}}^{p_{2}p_{3}}t2_{p_{3}p_{1}}^{h_{4}h_{5}}t2_{p_{2}p_{0}}^{h_{6}h_{7}}\n",
      " + -0.03125 * v_{h_{5}h_{4}}^{p_{2}p_{3}}t2_{p_{2}p_{1}}^{h_{4}h_{5}}t2_{p_{3}p_{0}}^{h_{6}h_{7}}\n",
      " + 0.0625 * v_{h_{5}h_{4}}^{p_{2}p_{3}}t2_{p_{3}p_{1}}^{h_{4}h_{5}}t2_{p_{2}p_{0}}^{h_{6}h_{7}}\n",
      " + -0.125 * v_{h_{4}h_{5}}^{p_{2}p_{3}}t2_{p_{2}p_{3}}^{h_{4}h_{5}}t2_{p_{1}p_{0}}^{h_{6}h_{7}}\n",
      " + 0.0625 * v_{h_{4}h_{5}}^{p_{2}p_{3}}t2_{p_{3}p_{2}}^{h_{4}h_{5}}t2_{p_{1}p_{0}}^{h_{6}h_{7}}\n",
      " + 0.0625 * v_{h_{5}h_{4}}^{p_{2}p_{3}}t2_{p_{2}p_{3}}^{h_{4}h_{5}}t2_{p_{1}p_{0}}^{h_{6}h_{7}}\n",
      " + -0.125 * v_{h_{5}h_{4}}^{p_{2}p_{3}}t2_{p_{3}p_{2}}^{h_{4}h_{5}}t2_{p_{1}p_{0}}^{h_{6}h_{7}}\n",
      " + -0.03125 * v_{h_{5}h_{6}}^{p_{2}p_{3}}t2_{p_{0}p_{1}}^{h_{4}h_{5}}t2_{p_{2}p_{3}}^{h_{6}h_{7}}\n",
      " + 0.0625 * v_{h_{5}h_{6}}^{p_{2}p_{3}}t2_{p_{0}p_{1}}^{h_{4}h_{5}}t2_{p_{3}p_{2}}^{h_{6}h_{7}}\n",
      " + 0.0625 * v_{h_{6}h_{5}}^{p_{2}p_{3}}t2_{p_{0}p_{1}}^{h_{4}h_{5}}t2_{p_{2}p_{3}}^{h_{6}h_{7}}\n",
      " + -0.03125 * v_{h_{6}h_{5}}^{p_{2}p_{3}}t2_{p_{0}p_{1}}^{h_{4}h_{5}}t2_{p_{3}p_{2}}^{h_{6}h_{7}}\n",
      " + 0.0625 * v_{h_{5}h_{6}}^{p_{2}p_{3}}t2_{p_{0}p_{2}}^{h_{4}h_{5}}t2_{p_{1}p_{3}}^{h_{6}h_{7}}\n",
      " + -0.125 * v_{h_{5}h_{6}}^{p_{2}p_{3}}t2_{p_{0}p_{3}}^{h_{4}h_{5}}t2_{p_{1}p_{2}}^{h_{6}h_{7}}\n",
      " + -0.125 * v_{h_{6}h_{5}}^{p_{2}p_{3}}t2_{p_{0}p_{2}}^{h_{4}h_{5}}t2_{p_{1}p_{3}}^{h_{6}h_{7}}\n",
      " + 0.0625 * v_{h_{6}h_{5}}^{p_{2}p_{3}}t2_{p_{0}p_{3}}^{h_{4}h_{5}}t2_{p_{1}p_{2}}^{h_{6}h_{7}}\n",
      " + -0.03125 * v_{h_{5}h_{6}}^{p_{2}p_{3}}t2_{p_{0}p_{2}}^{h_{4}h_{5}}t2_{p_{3}p_{1}}^{h_{6}h_{7}}\n",
      " + 0.0625 * v_{h_{5}h_{6}}^{p_{2}p_{3}}t2_{p_{0}p_{3}}^{h_{4}h_{5}}t2_{p_{2}p_{1}}^{h_{6}h_{7}}\n",
      " + 0.0625 * v_{h_{6}h_{5}}^{p_{2}p_{3}}t2_{p_{0}p_{2}}^{h_{4}h_{5}}t2_{p_{3}p_{1}}^{h_{6}h_{7}}\n",
      " + -0.03125 * v_{h_{6}h_{5}}^{p_{2}p_{3}}t2_{p_{0}p_{3}}^{h_{4}h_{5}}t2_{p_{2}p_{1}}^{h_{6}h_{7}}\n",
      " + 0.0625 * v_{h_{5}h_{6}}^{p_{2}p_{3}}t2_{p_{1}p_{0}}^{h_{4}h_{5}}t2_{p_{2}p_{3}}^{h_{6}h_{7}}\n",
      " + -0.125 * v_{h_{5}h_{6}}^{p_{2}p_{3}}t2_{p_{1}p_{0}}^{h_{4}h_{5}}t2_{p_{3}p_{2}}^{h_{6}h_{7}}\n",
      " + -0.125 * v_{h_{6}h_{5}}^{p_{2}p_{3}}t2_{p_{1}p_{0}}^{h_{4}h_{5}}t2_{p_{2}p_{3}}^{h_{6}h_{7}}\n",
      " + 0.0625 * v_{h_{6}h_{5}}^{p_{2}p_{3}}t2_{p_{1}p_{0}}^{h_{4}h_{5}}t2_{p_{3}p_{2}}^{h_{6}h_{7}}\n",
      " + -0.125 * v_{h_{5}h_{6}}^{p_{2}p_{3}}t2_{p_{2}p_{0}}^{h_{4}h_{5}}t2_{p_{1}p_{3}}^{h_{6}h_{7}}\n",
      " + 0.25 * v_{h_{5}h_{6}}^{p_{2}p_{3}}t2_{p_{3}p_{0}}^{h_{4}h_{5}}t2_{p_{1}p_{2}}^{h_{6}h_{7}}\n",
      " + 0.25 * v_{h_{6}h_{5}}^{p_{2}p_{3}}t2_{p_{2}p_{0}}^{h_{4}h_{5}}t2_{p_{1}p_{3}}^{h_{6}h_{7}}\n",
      " + -0.125 * v_{h_{6}h_{5}}^{p_{2}p_{3}}t2_{p_{3}p_{0}}^{h_{4}h_{5}}t2_{p_{1}p_{2}}^{h_{6}h_{7}}\n",
      " + 0.0625 * v_{h_{5}h_{6}}^{p_{2}p_{3}}t2_{p_{2}p_{0}}^{h_{4}h_{5}}t2_{p_{3}p_{1}}^{h_{6}h_{7}}\n",
      " + -0.125 * v_{h_{5}h_{6}}^{p_{2}p_{3}}t2_{p_{3}p_{0}}^{h_{4}h_{5}}t2_{p_{2}p_{1}}^{h_{6}h_{7}}\n",
      " + -0.125 * v_{h_{6}h_{5}}^{p_{2}p_{3}}t2_{p_{2}p_{0}}^{h_{4}h_{5}}t2_{p_{3}p_{1}}^{h_{6}h_{7}}\n",
      " + 0.0625 * v_{h_{6}h_{5}}^{p_{2}p_{3}}t2_{p_{3}p_{0}}^{h_{4}h_{5}}t2_{p_{2}p_{1}}^{h_{6}h_{7}}\n",
      " + -0.03125 * v_{h_{5}h_{6}}^{p_{2}p_{3}}t2_{p_{1}p_{2}}^{h_{4}h_{5}}t2_{p_{0}p_{3}}^{h_{6}h_{7}}\n",
      " + 0.0625 * v_{h_{5}h_{6}}^{p_{2}p_{3}}t2_{p_{1}p_{3}}^{h_{4}h_{5}}t2_{p_{0}p_{2}}^{h_{6}h_{7}}\n",
      " + 0.0625 * v_{h_{6}h_{5}}^{p_{2}p_{3}}t2_{p_{1}p_{2}}^{h_{4}h_{5}}t2_{p_{0}p_{3}}^{h_{6}h_{7}}\n",
      " + -0.03125 * v_{h_{6}h_{5}}^{p_{2}p_{3}}t2_{p_{1}p_{3}}^{h_{4}h_{5}}t2_{p_{0}p_{2}}^{h_{6}h_{7}}\n",
      " + 0.0625 * v_{h_{5}h_{6}}^{p_{2}p_{3}}t2_{p_{2}p_{1}}^{h_{4}h_{5}}t2_{p_{0}p_{3}}^{h_{6}h_{7}}\n",
      " + -0.125 * v_{h_{5}h_{6}}^{p_{2}p_{3}}t2_{p_{3}p_{1}}^{h_{4}h_{5}}t2_{p_{0}p_{2}}^{h_{6}h_{7}}\n",
      " + -0.125 * v_{h_{6}h_{5}}^{p_{2}p_{3}}t2_{p_{2}p_{1}}^{h_{4}h_{5}}t2_{p_{0}p_{3}}^{h_{6}h_{7}}\n",
      " + 0.0625 * v_{h_{6}h_{5}}^{p_{2}p_{3}}t2_{p_{3}p_{1}}^{h_{4}h_{5}}t2_{p_{0}p_{2}}^{h_{6}h_{7}}\n",
      " + -0.03125 * v_{h_{5}h_{6}}^{p_{2}p_{3}}t2_{p_{2}p_{3}}^{h_{4}h_{5}}t2_{p_{0}p_{1}}^{h_{6}h_{7}}\n",
      " + 0.0625 * v_{h_{5}h_{6}}^{p_{2}p_{3}}t2_{p_{3}p_{2}}^{h_{4}h_{5}}t2_{p_{0}p_{1}}^{h_{6}h_{7}}\n",
      " + 0.0625 * v_{h_{6}h_{5}}^{p_{2}p_{3}}t2_{p_{2}p_{3}}^{h_{4}h_{5}}t2_{p_{0}p_{1}}^{h_{6}h_{7}}\n",
      " + -0.03125 * v_{h_{6}h_{5}}^{p_{2}p_{3}}t2_{p_{3}p_{2}}^{h_{4}h_{5}}t2_{p_{0}p_{1}}^{h_{6}h_{7}}\n",
      " + 0.0625 * v_{h_{5}h_{6}}^{p_{2}p_{3}}t2_{p_{1}p_{2}}^{h_{4}h_{5}}t2_{p_{3}p_{0}}^{h_{6}h_{7}}\n",
      " + -0.03125 * v_{h_{5}h_{6}}^{p_{2}p_{3}}t2_{p_{1}p_{3}}^{h_{4}h_{5}}t2_{p_{2}p_{0}}^{h_{6}h_{7}}\n",
      " + -0.03125 * v_{h_{6}h_{5}}^{p_{2}p_{3}}t2_{p_{1}p_{2}}^{h_{4}h_{5}}t2_{p_{3}p_{0}}^{h_{6}h_{7}}\n",
      " + 0.0625 * v_{h_{6}h_{5}}^{p_{2}p_{3}}t2_{p_{1}p_{3}}^{h_{4}h_{5}}t2_{p_{2}p_{0}}^{h_{6}h_{7}}\n",
      " + -0.03125 * v_{h_{5}h_{6}}^{p_{2}p_{3}}t2_{p_{2}p_{1}}^{h_{4}h_{5}}t2_{p_{3}p_{0}}^{h_{6}h_{7}}\n",
      " + 0.0625 * v_{h_{5}h_{6}}^{p_{2}p_{3}}t2_{p_{3}p_{1}}^{h_{4}h_{5}}t2_{p_{2}p_{0}}^{h_{6}h_{7}}\n",
      " + 0.0625 * v_{h_{6}h_{5}}^{p_{2}p_{3}}t2_{p_{2}p_{1}}^{h_{4}h_{5}}t2_{p_{3}p_{0}}^{h_{6}h_{7}}\n",
      " + -0.03125 * v_{h_{6}h_{5}}^{p_{2}p_{3}}t2_{p_{3}p_{1}}^{h_{4}h_{5}}t2_{p_{2}p_{0}}^{h_{6}h_{7}}\n",
      " + 0.0625 * v_{h_{5}h_{6}}^{p_{2}p_{3}}t2_{p_{2}p_{3}}^{h_{4}h_{5}}t2_{p_{1}p_{0}}^{h_{6}h_{7}}\n",
      " + -0.125 * v_{h_{5}h_{6}}^{p_{2}p_{3}}t2_{p_{3}p_{2}}^{h_{4}h_{5}}t2_{p_{1}p_{0}}^{h_{6}h_{7}}\n",
      " + -0.125 * v_{h_{6}h_{5}}^{p_{2}p_{3}}t2_{p_{2}p_{3}}^{h_{4}h_{5}}t2_{p_{1}p_{0}}^{h_{6}h_{7}}\n",
      " + 0.0625 * v_{h_{6}h_{5}}^{p_{2}p_{3}}t2_{p_{3}p_{2}}^{h_{4}h_{5}}t2_{p_{1}p_{0}}^{h_{6}h_{7}}\n",
      " + 0.0625 * v_{h_{4}h_{6}}^{p_{2}p_{3}}t2_{p_{0}p_{1}}^{h_{4}h_{5}}t2_{p_{2}p_{3}}^{h_{6}h_{7}}\n",
      " + -0.125 * v_{h_{4}h_{6}}^{p_{2}p_{3}}t2_{p_{0}p_{1}}^{h_{4}h_{5}}t2_{p_{3}p_{2}}^{h_{6}h_{7}}\n",
      " + -0.125 * v_{h_{6}h_{4}}^{p_{2}p_{3}}t2_{p_{0}p_{1}}^{h_{4}h_{5}}t2_{p_{2}p_{3}}^{h_{6}h_{7}}\n",
      " + 0.0625 * v_{h_{6}h_{4}}^{p_{2}p_{3}}t2_{p_{0}p_{1}}^{h_{4}h_{5}}t2_{p_{3}p_{2}}^{h_{6}h_{7}}\n",
      " + -0.125 * v_{h_{4}h_{6}}^{p_{2}p_{3}}t2_{p_{0}p_{2}}^{h_{4}h_{5}}t2_{p_{1}p_{3}}^{h_{6}h_{7}}\n",
      " + 0.25 * v_{h_{4}h_{6}}^{p_{2}p_{3}}t2_{p_{0}p_{3}}^{h_{4}h_{5}}t2_{p_{1}p_{2}}^{h_{6}h_{7}}\n",
      " + 0.25 * v_{h_{6}h_{4}}^{p_{2}p_{3}}t2_{p_{0}p_{2}}^{h_{4}h_{5}}t2_{p_{1}p_{3}}^{h_{6}h_{7}}\n",
      " + -0.125 * v_{h_{6}h_{4}}^{p_{2}p_{3}}t2_{p_{0}p_{3}}^{h_{4}h_{5}}t2_{p_{1}p_{2}}^{h_{6}h_{7}}\n",
      " + 0.0625 * v_{h_{4}h_{6}}^{p_{2}p_{3}}t2_{p_{0}p_{2}}^{h_{4}h_{5}}t2_{p_{3}p_{1}}^{h_{6}h_{7}}\n",
      " + -0.125 * v_{h_{4}h_{6}}^{p_{2}p_{3}}t2_{p_{0}p_{3}}^{h_{4}h_{5}}t2_{p_{2}p_{1}}^{h_{6}h_{7}}\n",
      " + -0.125 * v_{h_{6}h_{4}}^{p_{2}p_{3}}t2_{p_{0}p_{2}}^{h_{4}h_{5}}t2_{p_{3}p_{1}}^{h_{6}h_{7}}\n",
      " + 0.0625 * v_{h_{6}h_{4}}^{p_{2}p_{3}}t2_{p_{0}p_{3}}^{h_{4}h_{5}}t2_{p_{2}p_{1}}^{h_{6}h_{7}}\n",
      " + -0.03125 * v_{h_{4}h_{6}}^{p_{2}p_{3}}t2_{p_{1}p_{0}}^{h_{4}h_{5}}t2_{p_{2}p_{3}}^{h_{6}h_{7}}\n",
      " + 0.0625 * v_{h_{4}h_{6}}^{p_{2}p_{3}}t2_{p_{1}p_{0}}^{h_{4}h_{5}}t2_{p_{3}p_{2}}^{h_{6}h_{7}}\n",
      " + 0.0625 * v_{h_{6}h_{4}}^{p_{2}p_{3}}t2_{p_{1}p_{0}}^{h_{4}h_{5}}t2_{p_{2}p_{3}}^{h_{6}h_{7}}\n",
      " + -0.03125 * v_{h_{6}h_{4}}^{p_{2}p_{3}}t2_{p_{1}p_{0}}^{h_{4}h_{5}}t2_{p_{3}p_{2}}^{h_{6}h_{7}}\n",
      " + 0.0625 * v_{h_{4}h_{6}}^{p_{2}p_{3}}t2_{p_{2}p_{0}}^{h_{4}h_{5}}t2_{p_{1}p_{3}}^{h_{6}h_{7}}\n",
      " + -0.125 * v_{h_{4}h_{6}}^{p_{2}p_{3}}t2_{p_{3}p_{0}}^{h_{4}h_{5}}t2_{p_{1}p_{2}}^{h_{6}h_{7}}\n",
      " + -0.125 * v_{h_{6}h_{4}}^{p_{2}p_{3}}t2_{p_{2}p_{0}}^{h_{4}h_{5}}t2_{p_{1}p_{3}}^{h_{6}h_{7}}\n",
      " + 0.0625 * v_{h_{6}h_{4}}^{p_{2}p_{3}}t2_{p_{3}p_{0}}^{h_{4}h_{5}}t2_{p_{1}p_{2}}^{h_{6}h_{7}}\n",
      " + -0.03125 * v_{h_{4}h_{6}}^{p_{2}p_{3}}t2_{p_{2}p_{0}}^{h_{4}h_{5}}t2_{p_{3}p_{1}}^{h_{6}h_{7}}\n",
      " + 0.0625 * v_{h_{4}h_{6}}^{p_{2}p_{3}}t2_{p_{3}p_{0}}^{h_{4}h_{5}}t2_{p_{2}p_{1}}^{h_{6}h_{7}}\n",
      " + 0.0625 * v_{h_{6}h_{4}}^{p_{2}p_{3}}t2_{p_{2}p_{0}}^{h_{4}h_{5}}t2_{p_{3}p_{1}}^{h_{6}h_{7}}\n",
      " + -0.03125 * v_{h_{6}h_{4}}^{p_{2}p_{3}}t2_{p_{3}p_{0}}^{h_{4}h_{5}}t2_{p_{2}p_{1}}^{h_{6}h_{7}}\n",
      " + 0.0625 * v_{h_{4}h_{6}}^{p_{2}p_{3}}t2_{p_{1}p_{2}}^{h_{4}h_{5}}t2_{p_{0}p_{3}}^{h_{6}h_{7}}\n",
      " + -0.125 * v_{h_{4}h_{6}}^{p_{2}p_{3}}t2_{p_{1}p_{3}}^{h_{4}h_{5}}t2_{p_{0}p_{2}}^{h_{6}h_{7}}\n",
      " + -0.125 * v_{h_{6}h_{4}}^{p_{2}p_{3}}t2_{p_{1}p_{2}}^{h_{4}h_{5}}t2_{p_{0}p_{3}}^{h_{6}h_{7}}\n",
      " + 0.0625 * v_{h_{6}h_{4}}^{p_{2}p_{3}}t2_{p_{1}p_{3}}^{h_{4}h_{5}}t2_{p_{0}p_{2}}^{h_{6}h_{7}}\n",
      " + -0.03125 * v_{h_{4}h_{6}}^{p_{2}p_{3}}t2_{p_{2}p_{1}}^{h_{4}h_{5}}t2_{p_{0}p_{3}}^{h_{6}h_{7}}\n",
      " + 0.0625 * v_{h_{4}h_{6}}^{p_{2}p_{3}}t2_{p_{3}p_{1}}^{h_{4}h_{5}}t2_{p_{0}p_{2}}^{h_{6}h_{7}}\n",
      " + 0.0625 * v_{h_{6}h_{4}}^{p_{2}p_{3}}t2_{p_{2}p_{1}}^{h_{4}h_{5}}t2_{p_{0}p_{3}}^{h_{6}h_{7}}\n",
      " + -0.03125 * v_{h_{6}h_{4}}^{p_{2}p_{3}}t2_{p_{3}p_{1}}^{h_{4}h_{5}}t2_{p_{0}p_{2}}^{h_{6}h_{7}}\n",
      " + 0.0625 * v_{h_{4}h_{6}}^{p_{2}p_{3}}t2_{p_{2}p_{3}}^{h_{4}h_{5}}t2_{p_{0}p_{1}}^{h_{6}h_{7}}\n",
      " + -0.03125 * v_{h_{4}h_{6}}^{p_{2}p_{3}}t2_{p_{3}p_{2}}^{h_{4}h_{5}}t2_{p_{0}p_{1}}^{h_{6}h_{7}}\n",
      " + -0.03125 * v_{h_{6}h_{4}}^{p_{2}p_{3}}t2_{p_{2}p_{3}}^{h_{4}h_{5}}t2_{p_{0}p_{1}}^{h_{6}h_{7}}\n",
      " + 0.0625 * v_{h_{6}h_{4}}^{p_{2}p_{3}}t2_{p_{3}p_{2}}^{h_{4}h_{5}}t2_{p_{0}p_{1}}^{h_{6}h_{7}}\n",
      " + -0.03125 * v_{h_{4}h_{6}}^{p_{2}p_{3}}t2_{p_{1}p_{2}}^{h_{4}h_{5}}t2_{p_{3}p_{0}}^{h_{6}h_{7}}\n",
      " + 0.0625 * v_{h_{4}h_{6}}^{p_{2}p_{3}}t2_{p_{1}p_{3}}^{h_{4}h_{5}}t2_{p_{2}p_{0}}^{h_{6}h_{7}}\n",
      " + 0.0625 * v_{h_{6}h_{4}}^{p_{2}p_{3}}t2_{p_{1}p_{2}}^{h_{4}h_{5}}t2_{p_{3}p_{0}}^{h_{6}h_{7}}\n",
      " + -0.03125 * v_{h_{6}h_{4}}^{p_{2}p_{3}}t2_{p_{1}p_{3}}^{h_{4}h_{5}}t2_{p_{2}p_{0}}^{h_{6}h_{7}}\n",
      " + 0.0625 * v_{h_{4}h_{6}}^{p_{2}p_{3}}t2_{p_{2}p_{1}}^{h_{4}h_{5}}t2_{p_{3}p_{0}}^{h_{6}h_{7}}\n",
      " + -0.03125 * v_{h_{4}h_{6}}^{p_{2}p_{3}}t2_{p_{3}p_{1}}^{h_{4}h_{5}}t2_{p_{2}p_{0}}^{h_{6}h_{7}}\n",
      " + -0.03125 * v_{h_{6}h_{4}}^{p_{2}p_{3}}t2_{p_{2}p_{1}}^{h_{4}h_{5}}t2_{p_{3}p_{0}}^{h_{6}h_{7}}\n",
      " + 0.0625 * v_{h_{6}h_{4}}^{p_{2}p_{3}}t2_{p_{3}p_{1}}^{h_{4}h_{5}}t2_{p_{2}p_{0}}^{h_{6}h_{7}}\n",
      " + -0.125 * v_{h_{4}h_{6}}^{p_{2}p_{3}}t2_{p_{2}p_{3}}^{h_{4}h_{5}}t2_{p_{1}p_{0}}^{h_{6}h_{7}}\n",
      " + 0.0625 * v_{h_{4}h_{6}}^{p_{2}p_{3}}t2_{p_{3}p_{2}}^{h_{4}h_{5}}t2_{p_{1}p_{0}}^{h_{6}h_{7}}\n",
      " + 0.0625 * v_{h_{6}h_{4}}^{p_{2}p_{3}}t2_{p_{2}p_{3}}^{h_{4}h_{5}}t2_{p_{1}p_{0}}^{h_{6}h_{7}}\n",
      " + -0.125 * v_{h_{6}h_{4}}^{p_{2}p_{3}}t2_{p_{3}p_{2}}^{h_{4}h_{5}}t2_{p_{1}p_{0}}^{h_{6}h_{7}}\n",
      " + -0.03125 * v_{h_{4}h_{5}}^{p_{2}p_{3}}t2_{p_{0}p_{1}}^{h_{4}h_{5}}t2_{p_{2}p_{3}}^{h_{6}h_{7}}\n",
      " + 0.0625 * v_{h_{4}h_{5}}^{p_{2}p_{3}}t2_{p_{0}p_{1}}^{h_{4}h_{5}}t2_{p_{3}p_{2}}^{h_{6}h_{7}}\n",
      " + 0.0625 * v_{h_{5}h_{4}}^{p_{2}p_{3}}t2_{p_{0}p_{1}}^{h_{4}h_{5}}t2_{p_{2}p_{3}}^{h_{6}h_{7}}\n",
      " + -0.03125 * v_{h_{5}h_{4}}^{p_{2}p_{3}}t2_{p_{0}p_{1}}^{h_{4}h_{5}}t2_{p_{3}p_{2}}^{h_{6}h_{7}}\n",
      " + 0.0625 * v_{h_{4}h_{5}}^{p_{2}p_{3}}t2_{p_{0}p_{2}}^{h_{4}h_{5}}t2_{p_{1}p_{3}}^{h_{6}h_{7}}\n",
      " + -0.125 * v_{h_{4}h_{5}}^{p_{2}p_{3}}t2_{p_{0}p_{3}}^{h_{4}h_{5}}t2_{p_{1}p_{2}}^{h_{6}h_{7}}\n",
      " + -0.125 * v_{h_{5}h_{4}}^{p_{2}p_{3}}t2_{p_{0}p_{2}}^{h_{4}h_{5}}t2_{p_{1}p_{3}}^{h_{6}h_{7}}\n",
      " + 0.0625 * v_{h_{5}h_{4}}^{p_{2}p_{3}}t2_{p_{0}p_{3}}^{h_{4}h_{5}}t2_{p_{1}p_{2}}^{h_{6}h_{7}}\n",
      " + -0.03125 * v_{h_{4}h_{5}}^{p_{2}p_{3}}t2_{p_{0}p_{2}}^{h_{4}h_{5}}t2_{p_{3}p_{1}}^{h_{6}h_{7}}\n",
      " + 0.0625 * v_{h_{4}h_{5}}^{p_{2}p_{3}}t2_{p_{0}p_{3}}^{h_{4}h_{5}}t2_{p_{2}p_{1}}^{h_{6}h_{7}}\n",
      " + 0.0625 * v_{h_{5}h_{4}}^{p_{2}p_{3}}t2_{p_{0}p_{2}}^{h_{4}h_{5}}t2_{p_{3}p_{1}}^{h_{6}h_{7}}\n",
      " + -0.03125 * v_{h_{5}h_{4}}^{p_{2}p_{3}}t2_{p_{0}p_{3}}^{h_{4}h_{5}}t2_{p_{2}p_{1}}^{h_{6}h_{7}}\n",
      " + 0.0625 * v_{h_{4}h_{5}}^{p_{2}p_{3}}t2_{p_{1}p_{0}}^{h_{4}h_{5}}t2_{p_{2}p_{3}}^{h_{6}h_{7}}\n",
      " + -0.03125 * v_{h_{4}h_{5}}^{p_{2}p_{3}}t2_{p_{1}p_{0}}^{h_{4}h_{5}}t2_{p_{3}p_{2}}^{h_{6}h_{7}}\n",
      " + -0.03125 * v_{h_{5}h_{4}}^{p_{2}p_{3}}t2_{p_{1}p_{0}}^{h_{4}h_{5}}t2_{p_{2}p_{3}}^{h_{6}h_{7}}\n",
      " + 0.0625 * v_{h_{5}h_{4}}^{p_{2}p_{3}}t2_{p_{1}p_{0}}^{h_{4}h_{5}}t2_{p_{3}p_{2}}^{h_{6}h_{7}}\n",
      " + -0.125 * v_{h_{4}h_{5}}^{p_{2}p_{3}}t2_{p_{2}p_{0}}^{h_{4}h_{5}}t2_{p_{1}p_{3}}^{h_{6}h_{7}}\n",
      " + 0.0625 * v_{h_{4}h_{5}}^{p_{2}p_{3}}t2_{p_{3}p_{0}}^{h_{4}h_{5}}t2_{p_{1}p_{2}}^{h_{6}h_{7}}\n",
      " + 0.0625 * v_{h_{5}h_{4}}^{p_{2}p_{3}}t2_{p_{2}p_{0}}^{h_{4}h_{5}}t2_{p_{1}p_{3}}^{h_{6}h_{7}}\n",
      " + -0.125 * v_{h_{5}h_{4}}^{p_{2}p_{3}}t2_{p_{3}p_{0}}^{h_{4}h_{5}}t2_{p_{1}p_{2}}^{h_{6}h_{7}}\n",
      " + 0.0625 * v_{h_{4}h_{5}}^{p_{2}p_{3}}t2_{p_{2}p_{0}}^{h_{4}h_{5}}t2_{p_{3}p_{1}}^{h_{6}h_{7}}\n",
      " + -0.03125 * v_{h_{4}h_{5}}^{p_{2}p_{3}}t2_{p_{3}p_{0}}^{h_{4}h_{5}}t2_{p_{2}p_{1}}^{h_{6}h_{7}}\n",
      " + -0.03125 * v_{h_{5}h_{4}}^{p_{2}p_{3}}t2_{p_{2}p_{0}}^{h_{4}h_{5}}t2_{p_{3}p_{1}}^{h_{6}h_{7}}\n",
      " + 0.0625 * v_{h_{5}h_{4}}^{p_{2}p_{3}}t2_{p_{3}p_{0}}^{h_{4}h_{5}}t2_{p_{2}p_{1}}^{h_{6}h_{7}}\n",
      " + -0.03125 * v_{h_{4}h_{5}}^{p_{2}p_{3}}t2_{p_{1}p_{2}}^{h_{4}h_{5}}t2_{p_{0}p_{3}}^{h_{6}h_{7}}\n",
      " + 0.0625 * v_{h_{4}h_{5}}^{p_{2}p_{3}}t2_{p_{1}p_{3}}^{h_{4}h_{5}}t2_{p_{0}p_{2}}^{h_{6}h_{7}}\n",
      " + 0.0625 * v_{h_{5}h_{4}}^{p_{2}p_{3}}t2_{p_{1}p_{2}}^{h_{4}h_{5}}t2_{p_{0}p_{3}}^{h_{6}h_{7}}\n",
      " + -0.03125 * v_{h_{5}h_{4}}^{p_{2}p_{3}}t2_{p_{1}p_{3}}^{h_{4}h_{5}}t2_{p_{0}p_{2}}^{h_{6}h_{7}}\n",
      " + 0.0625 * v_{h_{4}h_{5}}^{p_{2}p_{3}}t2_{p_{2}p_{1}}^{h_{4}h_{5}}t2_{p_{0}p_{3}}^{h_{6}h_{7}}\n",
      " + -0.03125 * v_{h_{4}h_{5}}^{p_{2}p_{3}}t2_{p_{3}p_{1}}^{h_{4}h_{5}}t2_{p_{0}p_{2}}^{h_{6}h_{7}}\n",
      " + -0.03125 * v_{h_{5}h_{4}}^{p_{2}p_{3}}t2_{p_{2}p_{1}}^{h_{4}h_{5}}t2_{p_{0}p_{3}}^{h_{6}h_{7}}\n",
      " + 0.0625 * v_{h_{5}h_{4}}^{p_{2}p_{3}}t2_{p_{3}p_{1}}^{h_{4}h_{5}}t2_{p_{0}p_{2}}^{h_{6}h_{7}}\n",
      " + -0.125 * v_{h_{4}h_{5}}^{p_{2}p_{3}}t2_{p_{2}p_{3}}^{h_{4}h_{5}}t2_{p_{0}p_{1}}^{h_{6}h_{7}}\n",
      " + 0.0625 * v_{h_{4}h_{5}}^{p_{2}p_{3}}t2_{p_{3}p_{2}}^{h_{4}h_{5}}t2_{p_{0}p_{1}}^{h_{6}h_{7}}\n",
      " + 0.0625 * v_{h_{5}h_{4}}^{p_{2}p_{3}}t2_{p_{2}p_{3}}^{h_{4}h_{5}}t2_{p_{0}p_{1}}^{h_{6}h_{7}}\n",
      " + -0.125 * v_{h_{5}h_{4}}^{p_{2}p_{3}}t2_{p_{3}p_{2}}^{h_{4}h_{5}}t2_{p_{0}p_{1}}^{h_{6}h_{7}}\n",
      " + 0.0625 * v_{h_{4}h_{5}}^{p_{2}p_{3}}t2_{p_{1}p_{2}}^{h_{4}h_{5}}t2_{p_{3}p_{0}}^{h_{6}h_{7}}\n",
      " + -0.125 * v_{h_{4}h_{5}}^{p_{2}p_{3}}t2_{p_{1}p_{3}}^{h_{4}h_{5}}t2_{p_{2}p_{0}}^{h_{6}h_{7}}\n",
      " + -0.125 * v_{h_{5}h_{4}}^{p_{2}p_{3}}t2_{p_{1}p_{2}}^{h_{4}h_{5}}t2_{p_{3}p_{0}}^{h_{6}h_{7}}\n",
      " + 0.0625 * v_{h_{5}h_{4}}^{p_{2}p_{3}}t2_{p_{1}p_{3}}^{h_{4}h_{5}}t2_{p_{2}p_{0}}^{h_{6}h_{7}}\n",
      " + -0.125 * v_{h_{4}h_{5}}^{p_{2}p_{3}}t2_{p_{2}p_{1}}^{h_{4}h_{5}}t2_{p_{3}p_{0}}^{h_{6}h_{7}}\n",
      " + 0.0625 * v_{h_{4}h_{5}}^{p_{2}p_{3}}t2_{p_{3}p_{1}}^{h_{4}h_{5}}t2_{p_{2}p_{0}}^{h_{6}h_{7}}\n",
      " + 0.0625 * v_{h_{5}h_{4}}^{p_{2}p_{3}}t2_{p_{2}p_{1}}^{h_{4}h_{5}}t2_{p_{3}p_{0}}^{h_{6}h_{7}}\n",
      " + -0.125 * v_{h_{5}h_{4}}^{p_{2}p_{3}}t2_{p_{3}p_{1}}^{h_{4}h_{5}}t2_{p_{2}p_{0}}^{h_{6}h_{7}}\n",
      " + 0.25 * v_{h_{4}h_{5}}^{p_{2}p_{3}}t2_{p_{2}p_{3}}^{h_{4}h_{5}}t2_{p_{1}p_{0}}^{h_{6}h_{7}}\n",
      " + -0.125 * v_{h_{4}h_{5}}^{p_{2}p_{3}}t2_{p_{3}p_{2}}^{h_{4}h_{5}}t2_{p_{1}p_{0}}^{h_{6}h_{7}}\n",
      " + -0.125 * v_{h_{5}h_{4}}^{p_{2}p_{3}}t2_{p_{2}p_{3}}^{h_{4}h_{5}}t2_{p_{1}p_{0}}^{h_{6}h_{7}}\n",
      " + 0.25 * v_{h_{5}h_{4}}^{p_{2}p_{3}}t2_{p_{3}p_{2}}^{h_{4}h_{5}}t2_{p_{1}p_{0}}^{h_{6}h_{7}}\n",
      " + -0.25 * t2_{p_{0}p_{1}}^{h_{2}h_{3}}v_{h_{6}h_{7}}^{p_{4}p_{5}}t2_{p_{4}p_{5}}^{h_{6}h_{7}}\n",
      " + 0.125 * t2_{p_{0}p_{1}}^{h_{2}h_{3}}v_{h_{6}h_{7}}^{p_{4}p_{5}}t2_{p_{5}p_{4}}^{h_{6}h_{7}}\n",
      " + 0.125 * t2_{p_{0}p_{1}}^{h_{2}h_{3}}v_{h_{7}h_{6}}^{p_{4}p_{5}}t2_{p_{4}p_{5}}^{h_{6}h_{7}}\n",
      " + -0.25 * t2_{p_{0}p_{1}}^{h_{2}h_{3}}v_{h_{7}h_{6}}^{p_{4}p_{5}}t2_{p_{5}p_{4}}^{h_{6}h_{7}}\n",
      " + 0.125 * t2_{p_{1}p_{0}}^{h_{2}h_{3}}v_{h_{6}h_{7}}^{p_{4}p_{5}}t2_{p_{4}p_{5}}^{h_{6}h_{7}}\n",
      " + -0.0625 * t2_{p_{1}p_{0}}^{h_{2}h_{3}}v_{h_{6}h_{7}}^{p_{4}p_{5}}t2_{p_{5}p_{4}}^{h_{6}h_{7}}\n",
      " + -0.0625 * t2_{p_{1}p_{0}}^{h_{2}h_{3}}v_{h_{7}h_{6}}^{p_{4}p_{5}}t2_{p_{4}p_{5}}^{h_{6}h_{7}}\n",
      " + 0.125 * t2_{p_{1}p_{0}}^{h_{2}h_{3}}v_{h_{7}h_{6}}^{p_{4}p_{5}}t2_{p_{5}p_{4}}^{h_{6}h_{7}}\n",
      " + 0.125 * t2_{p_{0}p_{1}}^{h_{2}h_{3}}v_{h_{6}h_{7}}^{p_{4}p_{5}}t2_{p_{4}p_{5}}^{h_{6}h_{7}}\n",
      " + -0.0625 * t2_{p_{0}p_{1}}^{h_{2}h_{3}}v_{h_{6}h_{7}}^{p_{4}p_{5}}t2_{p_{5}p_{4}}^{h_{6}h_{7}}\n",
      " + -0.0625 * t2_{p_{0}p_{1}}^{h_{2}h_{3}}v_{h_{7}h_{6}}^{p_{4}p_{5}}t2_{p_{4}p_{5}}^{h_{6}h_{7}}\n",
      " + 0.125 * t2_{p_{0}p_{1}}^{h_{2}h_{3}}v_{h_{7}h_{6}}^{p_{4}p_{5}}t2_{p_{5}p_{4}}^{h_{6}h_{7}}\n",
      " + -0.25 * t2_{p_{1}p_{0}}^{h_{2}h_{3}}v_{h_{6}h_{7}}^{p_{4}p_{5}}t2_{p_{4}p_{5}}^{h_{6}h_{7}}\n",
      " + 0.125 * t2_{p_{1}p_{0}}^{h_{2}h_{3}}v_{h_{6}h_{7}}^{p_{4}p_{5}}t2_{p_{5}p_{4}}^{h_{6}h_{7}}\n",
      " + 0.125 * t2_{p_{1}p_{0}}^{h_{2}h_{3}}v_{h_{7}h_{6}}^{p_{4}p_{5}}t2_{p_{4}p_{5}}^{h_{6}h_{7}}\n",
      " + -0.25 * t2_{p_{1}p_{0}}^{h_{2}h_{3}}v_{h_{7}h_{6}}^{p_{4}p_{5}}t2_{p_{5}p_{4}}^{h_{6}h_{7}}\n",
      " + -0.25 * t2_{p_{0}p_{1}}^{h_{2}h_{3}}v_{h_{6}h_{7}}^{p_{4}p_{5}}t2_{p_{4}p_{5}}^{h_{6}h_{7}}\n",
      " + 0.125 * t2_{p_{0}p_{1}}^{h_{2}h_{3}}v_{h_{6}h_{7}}^{p_{4}p_{5}}t2_{p_{5}p_{4}}^{h_{6}h_{7}}\n",
      " + 0.125 * t2_{p_{0}p_{1}}^{h_{2}h_{3}}v_{h_{7}h_{6}}^{p_{4}p_{5}}t2_{p_{4}p_{5}}^{h_{6}h_{7}}\n",
      " + -0.25 * t2_{p_{0}p_{1}}^{h_{2}h_{3}}v_{h_{7}h_{6}}^{p_{4}p_{5}}t2_{p_{5}p_{4}}^{h_{6}h_{7}}\n",
      " + 0.125 * t2_{p_{1}p_{0}}^{h_{2}h_{3}}v_{h_{6}h_{7}}^{p_{4}p_{5}}t2_{p_{4}p_{5}}^{h_{6}h_{7}}\n",
      " + -0.0625 * t2_{p_{1}p_{0}}^{h_{2}h_{3}}v_{h_{6}h_{7}}^{p_{4}p_{5}}t2_{p_{5}p_{4}}^{h_{6}h_{7}}\n",
      " + -0.0625 * t2_{p_{1}p_{0}}^{h_{2}h_{3}}v_{h_{7}h_{6}}^{p_{4}p_{5}}t2_{p_{4}p_{5}}^{h_{6}h_{7}}\n",
      " + 0.125 * t2_{p_{1}p_{0}}^{h_{2}h_{3}}v_{h_{7}h_{6}}^{p_{4}p_{5}}t2_{p_{5}p_{4}}^{h_{6}h_{7}}\n",
      " + 0.125 * t2_{p_{0}p_{1}}^{h_{2}h_{3}}v_{h_{6}h_{7}}^{p_{4}p_{5}}t2_{p_{4}p_{5}}^{h_{6}h_{7}}\n",
      " + -0.0625 * t2_{p_{0}p_{1}}^{h_{2}h_{3}}v_{h_{6}h_{7}}^{p_{4}p_{5}}t2_{p_{5}p_{4}}^{h_{6}h_{7}}\n",
      " + -0.0625 * t2_{p_{0}p_{1}}^{h_{2}h_{3}}v_{h_{7}h_{6}}^{p_{4}p_{5}}t2_{p_{4}p_{5}}^{h_{6}h_{7}}\n",
      " + 0.125 * t2_{p_{0}p_{1}}^{h_{2}h_{3}}v_{h_{7}h_{6}}^{p_{4}p_{5}}t2_{p_{5}p_{4}}^{h_{6}h_{7}}\n",
      " + -0.25 * t2_{p_{1}p_{0}}^{h_{2}h_{3}}v_{h_{6}h_{7}}^{p_{4}p_{5}}t2_{p_{4}p_{5}}^{h_{6}h_{7}}\n",
      " + 0.125 * t2_{p_{1}p_{0}}^{h_{2}h_{3}}v_{h_{6}h_{7}}^{p_{4}p_{5}}t2_{p_{5}p_{4}}^{h_{6}h_{7}}\n",
      " + 0.125 * t2_{p_{1}p_{0}}^{h_{2}h_{3}}v_{h_{7}h_{6}}^{p_{4}p_{5}}t2_{p_{4}p_{5}}^{h_{6}h_{7}}\n",
      " + -0.25 * t2_{p_{1}p_{0}}^{h_{2}h_{3}}v_{h_{7}h_{6}}^{p_{4}p_{5}}t2_{p_{5}p_{4}}^{h_{6}h_{7}}\n"
     ]
    }
   ],
   "metadata": {}
  },
  {
   "cell_type": "code",
   "execution_count": 190,
   "source": [
    "CCDDoublesResidualSummandList = [s for s in (projectionManifold(2) * transformH).summandList if (s.vertexList[0].lowerIndices == [('h_{0}', True), ('h_{1}', True)] and s.vertexList[0].upperIndices == [('p_{0}', False), ('p_{1}', False)])]"
   ],
   "outputs": [],
   "metadata": {}
  },
  {
   "cell_type": "code",
   "execution_count": 191,
   "source": [
    "CCDDoublesResidual = TensorSum(CCDDoublesResidualSummandList)\n",
    "print(CCDDoublesResidual)"
   ],
   "outputs": [
    {
     "output_type": "stream",
     "name": "stdout",
     "text": [
      "0.25 * \\Phi_{h_{0}h_{1}}^{p_{0}p_{1}}f_{p_{2}}^{p_{3}}t2_{p_{4}p_{5}}^{h_{2}h_{3}}\n",
      " + -0.25 * \\Phi_{h_{0}h_{1}}^{p_{0}p_{1}}t2_{p_{2}p_{3}}^{h_{2}h_{3}}f_{p_{4}}^{p_{5}}\n",
      " + 1.0 * \\Phi_{h_{0}h_{1}}^{p_{0}p_{1}}f_{p_{2}}^{p_{3}}\n",
      " + 0.03125 * \\Phi_{h_{0}h_{1}}^{p_{0}p_{1}}f_{p_{2}}^{p_{3}}t2_{p_{4}p_{5}}^{h_{2}h_{3}}t2_{p_{6}p_{7}}^{h_{4}h_{5}}\n",
      " + -0.03125 * \\Phi_{h_{0}h_{1}}^{p_{0}p_{1}}t2_{p_{2}p_{3}}^{h_{2}h_{3}}f_{p_{4}}^{p_{5}}t2_{p_{6}p_{7}}^{h_{4}h_{5}}\n",
      " + -0.03125 * \\Phi_{h_{0}h_{1}}^{p_{0}p_{1}}t2_{p_{2}p_{3}}^{h_{2}h_{3}}f_{p_{4}}^{p_{5}}t2_{p_{6}p_{7}}^{h_{4}h_{5}}\n",
      " + 0.03125 * \\Phi_{h_{0}h_{1}}^{p_{0}p_{1}}t2_{p_{2}p_{3}}^{h_{2}h_{3}}t2_{p_{4}p_{5}}^{h_{4}h_{5}}f_{p_{6}}^{p_{7}}\n",
      " + 0.0026041666666666665 * \\Phi_{h_{0}h_{1}}^{p_{0}p_{1}}f_{p_{2}}^{p_{3}}t2_{p_{4}p_{5}}^{h_{2}h_{3}}t2_{p_{6}p_{7}}^{h_{4}h_{5}}t2_{p_{8}p_{9}}^{h_{6}h_{7}}\n",
      " + -0.0026041666666666665 * \\Phi_{h_{0}h_{1}}^{p_{0}p_{1}}t2_{p_{2}p_{3}}^{h_{2}h_{3}}f_{p_{4}}^{p_{5}}t2_{p_{6}p_{7}}^{h_{4}h_{5}}t2_{p_{8}p_{9}}^{h_{6}h_{7}}\n",
      " + -0.0026041666666666665 * \\Phi_{h_{0}h_{1}}^{p_{0}p_{1}}t2_{p_{2}p_{3}}^{h_{2}h_{3}}f_{p_{4}}^{p_{5}}t2_{p_{6}p_{7}}^{h_{4}h_{5}}t2_{p_{8}p_{9}}^{h_{6}h_{7}}\n",
      " + 0.0026041666666666665 * \\Phi_{h_{0}h_{1}}^{p_{0}p_{1}}t2_{p_{2}p_{3}}^{h_{2}h_{3}}t2_{p_{4}p_{5}}^{h_{4}h_{5}}f_{p_{6}}^{p_{7}}t2_{p_{8}p_{9}}^{h_{6}h_{7}}\n",
      " + -0.0026041666666666665 * \\Phi_{h_{0}h_{1}}^{p_{0}p_{1}}t2_{p_{2}p_{3}}^{h_{2}h_{3}}f_{p_{4}}^{p_{5}}t2_{p_{6}p_{7}}^{h_{4}h_{5}}t2_{p_{8}p_{9}}^{h_{6}h_{7}}\n",
      " + 0.0026041666666666665 * \\Phi_{h_{0}h_{1}}^{p_{0}p_{1}}t2_{p_{2}p_{3}}^{h_{2}h_{3}}t2_{p_{4}p_{5}}^{h_{4}h_{5}}f_{p_{6}}^{p_{7}}t2_{p_{8}p_{9}}^{h_{6}h_{7}}\n",
      " + 0.0026041666666666665 * \\Phi_{h_{0}h_{1}}^{p_{0}p_{1}}t2_{p_{2}p_{3}}^{h_{2}h_{3}}t2_{p_{4}p_{5}}^{h_{4}h_{5}}f_{p_{6}}^{p_{7}}t2_{p_{8}p_{9}}^{h_{6}h_{7}}\n",
      " + -0.0026041666666666665 * \\Phi_{h_{0}h_{1}}^{p_{0}p_{1}}t2_{p_{2}p_{3}}^{h_{2}h_{3}}t2_{p_{4}p_{5}}^{h_{4}h_{5}}t2_{p_{6}p_{7}}^{h_{6}h_{7}}f_{p_{8}}^{p_{9}}\n",
      " + 0.00016276041666666666 * \\Phi_{h_{0}h_{1}}^{p_{0}p_{1}}f_{p_{2}}^{p_{3}}t2_{p_{4}p_{5}}^{h_{2}h_{3}}t2_{p_{6}p_{7}}^{h_{4}h_{5}}t2_{p_{8}p_{9}}^{h_{6}h_{7}}t2_{p_{10}p_{11}}^{h_{8}h_{9}}\n",
      " + -0.00016276041666666666 * \\Phi_{h_{0}h_{1}}^{p_{0}p_{1}}t2_{p_{2}p_{3}}^{h_{2}h_{3}}f_{p_{4}}^{p_{5}}t2_{p_{6}p_{7}}^{h_{4}h_{5}}t2_{p_{8}p_{9}}^{h_{6}h_{7}}t2_{p_{10}p_{11}}^{h_{8}h_{9}}\n",
      " + -0.00016276041666666666 * \\Phi_{h_{0}h_{1}}^{p_{0}p_{1}}t2_{p_{2}p_{3}}^{h_{2}h_{3}}f_{p_{4}}^{p_{5}}t2_{p_{6}p_{7}}^{h_{4}h_{5}}t2_{p_{8}p_{9}}^{h_{6}h_{7}}t2_{p_{10}p_{11}}^{h_{8}h_{9}}\n",
      " + 0.00016276041666666666 * \\Phi_{h_{0}h_{1}}^{p_{0}p_{1}}t2_{p_{2}p_{3}}^{h_{2}h_{3}}t2_{p_{4}p_{5}}^{h_{4}h_{5}}f_{p_{6}}^{p_{7}}t2_{p_{8}p_{9}}^{h_{6}h_{7}}t2_{p_{10}p_{11}}^{h_{8}h_{9}}\n",
      " + -0.00016276041666666666 * \\Phi_{h_{0}h_{1}}^{p_{0}p_{1}}t2_{p_{2}p_{3}}^{h_{2}h_{3}}f_{p_{4}}^{p_{5}}t2_{p_{6}p_{7}}^{h_{4}h_{5}}t2_{p_{8}p_{9}}^{h_{6}h_{7}}t2_{p_{10}p_{11}}^{h_{8}h_{9}}\n",
      " + 0.00016276041666666666 * \\Phi_{h_{0}h_{1}}^{p_{0}p_{1}}t2_{p_{2}p_{3}}^{h_{2}h_{3}}t2_{p_{4}p_{5}}^{h_{4}h_{5}}f_{p_{6}}^{p_{7}}t2_{p_{8}p_{9}}^{h_{6}h_{7}}t2_{p_{10}p_{11}}^{h_{8}h_{9}}\n",
      " + 0.00016276041666666666 * \\Phi_{h_{0}h_{1}}^{p_{0}p_{1}}t2_{p_{2}p_{3}}^{h_{2}h_{3}}t2_{p_{4}p_{5}}^{h_{4}h_{5}}f_{p_{6}}^{p_{7}}t2_{p_{8}p_{9}}^{h_{6}h_{7}}t2_{p_{10}p_{11}}^{h_{8}h_{9}}\n",
      " + -0.00016276041666666666 * \\Phi_{h_{0}h_{1}}^{p_{0}p_{1}}t2_{p_{2}p_{3}}^{h_{2}h_{3}}t2_{p_{4}p_{5}}^{h_{4}h_{5}}t2_{p_{6}p_{7}}^{h_{6}h_{7}}f_{p_{8}}^{p_{9}}t2_{p_{10}p_{11}}^{h_{8}h_{9}}\n",
      " + -0.00016276041666666666 * \\Phi_{h_{0}h_{1}}^{p_{0}p_{1}}t2_{p_{2}p_{3}}^{h_{2}h_{3}}f_{p_{4}}^{p_{5}}t2_{p_{6}p_{7}}^{h_{4}h_{5}}t2_{p_{8}p_{9}}^{h_{6}h_{7}}t2_{p_{10}p_{11}}^{h_{8}h_{9}}\n",
      " + 0.00016276041666666666 * \\Phi_{h_{0}h_{1}}^{p_{0}p_{1}}t2_{p_{2}p_{3}}^{h_{2}h_{3}}t2_{p_{4}p_{5}}^{h_{4}h_{5}}f_{p_{6}}^{p_{7}}t2_{p_{8}p_{9}}^{h_{6}h_{7}}t2_{p_{10}p_{11}}^{h_{8}h_{9}}\n",
      " + 0.00016276041666666666 * \\Phi_{h_{0}h_{1}}^{p_{0}p_{1}}t2_{p_{2}p_{3}}^{h_{2}h_{3}}t2_{p_{4}p_{5}}^{h_{4}h_{5}}f_{p_{6}}^{p_{7}}t2_{p_{8}p_{9}}^{h_{6}h_{7}}t2_{p_{10}p_{11}}^{h_{8}h_{9}}\n",
      " + -0.00016276041666666666 * \\Phi_{h_{0}h_{1}}^{p_{0}p_{1}}t2_{p_{2}p_{3}}^{h_{2}h_{3}}t2_{p_{4}p_{5}}^{h_{4}h_{5}}t2_{p_{6}p_{7}}^{h_{6}h_{7}}f_{p_{8}}^{p_{9}}t2_{p_{10}p_{11}}^{h_{8}h_{9}}\n",
      " + 0.00016276041666666666 * \\Phi_{h_{0}h_{1}}^{p_{0}p_{1}}t2_{p_{2}p_{3}}^{h_{2}h_{3}}t2_{p_{4}p_{5}}^{h_{4}h_{5}}f_{p_{6}}^{p_{7}}t2_{p_{8}p_{9}}^{h_{6}h_{7}}t2_{p_{10}p_{11}}^{h_{8}h_{9}}\n",
      " + -0.00016276041666666666 * \\Phi_{h_{0}h_{1}}^{p_{0}p_{1}}t2_{p_{2}p_{3}}^{h_{2}h_{3}}t2_{p_{4}p_{5}}^{h_{4}h_{5}}t2_{p_{6}p_{7}}^{h_{6}h_{7}}f_{p_{8}}^{p_{9}}t2_{p_{10}p_{11}}^{h_{8}h_{9}}\n",
      " + -0.00016276041666666666 * \\Phi_{h_{0}h_{1}}^{p_{0}p_{1}}t2_{p_{2}p_{3}}^{h_{2}h_{3}}t2_{p_{4}p_{5}}^{h_{4}h_{5}}t2_{p_{6}p_{7}}^{h_{6}h_{7}}f_{p_{8}}^{p_{9}}t2_{p_{10}p_{11}}^{h_{8}h_{9}}\n",
      " + 0.00016276041666666666 * \\Phi_{h_{0}h_{1}}^{p_{0}p_{1}}t2_{p_{2}p_{3}}^{h_{2}h_{3}}t2_{p_{4}p_{5}}^{h_{4}h_{5}}t2_{p_{6}p_{7}}^{h_{6}h_{7}}t2_{p_{8}p_{9}}^{h_{8}h_{9}}f_{p_{10}}^{p_{11}}\n",
      " + 0.25 * \\Phi_{h_{0}h_{1}}^{p_{0}p_{1}}f_{p_{2}}^{h_{2}}t2_{p_{3}p_{4}}^{h_{3}h_{4}}\n",
      " + -0.25 * \\Phi_{h_{0}h_{1}}^{p_{0}p_{1}}t2_{p_{2}p_{3}}^{h_{2}h_{3}}f_{p_{4}}^{h_{4}}\n",
      " + 1.0 * \\Phi_{h_{0}h_{1}}^{p_{0}p_{1}}f_{p_{2}}^{h_{2}}\n",
      " + 0.03125 * \\Phi_{h_{0}h_{1}}^{p_{0}p_{1}}f_{p_{2}}^{h_{2}}t2_{p_{3}p_{4}}^{h_{3}h_{4}}t2_{p_{5}p_{6}}^{h_{5}h_{6}}\n",
      " + -0.03125 * \\Phi_{h_{0}h_{1}}^{p_{0}p_{1}}t2_{p_{2}p_{3}}^{h_{2}h_{3}}f_{p_{4}}^{h_{4}}t2_{p_{5}p_{6}}^{h_{5}h_{6}}\n",
      " + -0.03125 * \\Phi_{h_{0}h_{1}}^{p_{0}p_{1}}t2_{p_{2}p_{3}}^{h_{2}h_{3}}f_{p_{4}}^{h_{4}}t2_{p_{5}p_{6}}^{h_{5}h_{6}}\n",
      " + 0.03125 * \\Phi_{h_{0}h_{1}}^{p_{0}p_{1}}t2_{p_{2}p_{3}}^{h_{2}h_{3}}t2_{p_{4}p_{5}}^{h_{4}h_{5}}f_{p_{6}}^{h_{6}}\n",
      " + 0.0026041666666666665 * \\Phi_{h_{0}h_{1}}^{p_{0}p_{1}}f_{p_{2}}^{h_{2}}t2_{p_{3}p_{4}}^{h_{3}h_{4}}t2_{p_{5}p_{6}}^{h_{5}h_{6}}t2_{p_{7}p_{8}}^{h_{7}h_{8}}\n",
      " + -0.0026041666666666665 * \\Phi_{h_{0}h_{1}}^{p_{0}p_{1}}t2_{p_{2}p_{3}}^{h_{2}h_{3}}f_{p_{4}}^{h_{4}}t2_{p_{5}p_{6}}^{h_{5}h_{6}}t2_{p_{7}p_{8}}^{h_{7}h_{8}}\n",
      " + -0.0026041666666666665 * \\Phi_{h_{0}h_{1}}^{p_{0}p_{1}}t2_{p_{2}p_{3}}^{h_{2}h_{3}}f_{p_{4}}^{h_{4}}t2_{p_{5}p_{6}}^{h_{5}h_{6}}t2_{p_{7}p_{8}}^{h_{7}h_{8}}\n",
      " + 0.0026041666666666665 * \\Phi_{h_{0}h_{1}}^{p_{0}p_{1}}t2_{p_{2}p_{3}}^{h_{2}h_{3}}t2_{p_{4}p_{5}}^{h_{4}h_{5}}f_{p_{6}}^{h_{6}}t2_{p_{7}p_{8}}^{h_{7}h_{8}}\n",
      " + -0.0026041666666666665 * \\Phi_{h_{0}h_{1}}^{p_{0}p_{1}}t2_{p_{2}p_{3}}^{h_{2}h_{3}}f_{p_{4}}^{h_{4}}t2_{p_{5}p_{6}}^{h_{5}h_{6}}t2_{p_{7}p_{8}}^{h_{7}h_{8}}\n",
      " + 0.0026041666666666665 * \\Phi_{h_{0}h_{1}}^{p_{0}p_{1}}t2_{p_{2}p_{3}}^{h_{2}h_{3}}t2_{p_{4}p_{5}}^{h_{4}h_{5}}f_{p_{6}}^{h_{6}}t2_{p_{7}p_{8}}^{h_{7}h_{8}}\n",
      " + 0.0026041666666666665 * \\Phi_{h_{0}h_{1}}^{p_{0}p_{1}}t2_{p_{2}p_{3}}^{h_{2}h_{3}}t2_{p_{4}p_{5}}^{h_{4}h_{5}}f_{p_{6}}^{h_{6}}t2_{p_{7}p_{8}}^{h_{7}h_{8}}\n",
      " + -0.0026041666666666665 * \\Phi_{h_{0}h_{1}}^{p_{0}p_{1}}t2_{p_{2}p_{3}}^{h_{2}h_{3}}t2_{p_{4}p_{5}}^{h_{4}h_{5}}t2_{p_{6}p_{7}}^{h_{6}h_{7}}f_{p_{8}}^{h_{8}}\n",
      " + 0.00016276041666666666 * \\Phi_{h_{0}h_{1}}^{p_{0}p_{1}}f_{p_{2}}^{h_{2}}t2_{p_{3}p_{4}}^{h_{3}h_{4}}t2_{p_{5}p_{6}}^{h_{5}h_{6}}t2_{p_{7}p_{8}}^{h_{7}h_{8}}t2_{p_{9}p_{10}}^{h_{9}h_{10}}\n",
      " + -0.00016276041666666666 * \\Phi_{h_{0}h_{1}}^{p_{0}p_{1}}t2_{p_{2}p_{3}}^{h_{2}h_{3}}f_{p_{4}}^{h_{4}}t2_{p_{5}p_{6}}^{h_{5}h_{6}}t2_{p_{7}p_{8}}^{h_{7}h_{8}}t2_{p_{9}p_{10}}^{h_{9}h_{10}}\n",
      " + -0.00016276041666666666 * \\Phi_{h_{0}h_{1}}^{p_{0}p_{1}}t2_{p_{2}p_{3}}^{h_{2}h_{3}}f_{p_{4}}^{h_{4}}t2_{p_{5}p_{6}}^{h_{5}h_{6}}t2_{p_{7}p_{8}}^{h_{7}h_{8}}t2_{p_{9}p_{10}}^{h_{9}h_{10}}\n",
      " + 0.00016276041666666666 * \\Phi_{h_{0}h_{1}}^{p_{0}p_{1}}t2_{p_{2}p_{3}}^{h_{2}h_{3}}t2_{p_{4}p_{5}}^{h_{4}h_{5}}f_{p_{6}}^{h_{6}}t2_{p_{7}p_{8}}^{h_{7}h_{8}}t2_{p_{9}p_{10}}^{h_{9}h_{10}}\n",
      " + -0.00016276041666666666 * \\Phi_{h_{0}h_{1}}^{p_{0}p_{1}}t2_{p_{2}p_{3}}^{h_{2}h_{3}}f_{p_{4}}^{h_{4}}t2_{p_{5}p_{6}}^{h_{5}h_{6}}t2_{p_{7}p_{8}}^{h_{7}h_{8}}t2_{p_{9}p_{10}}^{h_{9}h_{10}}\n",
      " + 0.00016276041666666666 * \\Phi_{h_{0}h_{1}}^{p_{0}p_{1}}t2_{p_{2}p_{3}}^{h_{2}h_{3}}t2_{p_{4}p_{5}}^{h_{4}h_{5}}f_{p_{6}}^{h_{6}}t2_{p_{7}p_{8}}^{h_{7}h_{8}}t2_{p_{9}p_{10}}^{h_{9}h_{10}}\n",
      " + 0.00016276041666666666 * \\Phi_{h_{0}h_{1}}^{p_{0}p_{1}}t2_{p_{2}p_{3}}^{h_{2}h_{3}}t2_{p_{4}p_{5}}^{h_{4}h_{5}}f_{p_{6}}^{h_{6}}t2_{p_{7}p_{8}}^{h_{7}h_{8}}t2_{p_{9}p_{10}}^{h_{9}h_{10}}\n",
      " + -0.00016276041666666666 * \\Phi_{h_{0}h_{1}}^{p_{0}p_{1}}t2_{p_{2}p_{3}}^{h_{2}h_{3}}t2_{p_{4}p_{5}}^{h_{4}h_{5}}t2_{p_{6}p_{7}}^{h_{6}h_{7}}f_{p_{8}}^{h_{8}}t2_{p_{9}p_{10}}^{h_{9}h_{10}}\n",
      " + -0.00016276041666666666 * \\Phi_{h_{0}h_{1}}^{p_{0}p_{1}}t2_{p_{2}p_{3}}^{h_{2}h_{3}}f_{p_{4}}^{h_{4}}t2_{p_{5}p_{6}}^{h_{5}h_{6}}t2_{p_{7}p_{8}}^{h_{7}h_{8}}t2_{p_{9}p_{10}}^{h_{9}h_{10}}\n",
      " + 0.00016276041666666666 * \\Phi_{h_{0}h_{1}}^{p_{0}p_{1}}t2_{p_{2}p_{3}}^{h_{2}h_{3}}t2_{p_{4}p_{5}}^{h_{4}h_{5}}f_{p_{6}}^{h_{6}}t2_{p_{7}p_{8}}^{h_{7}h_{8}}t2_{p_{9}p_{10}}^{h_{9}h_{10}}\n",
      " + 0.00016276041666666666 * \\Phi_{h_{0}h_{1}}^{p_{0}p_{1}}t2_{p_{2}p_{3}}^{h_{2}h_{3}}t2_{p_{4}p_{5}}^{h_{4}h_{5}}f_{p_{6}}^{h_{6}}t2_{p_{7}p_{8}}^{h_{7}h_{8}}t2_{p_{9}p_{10}}^{h_{9}h_{10}}\n",
      " + -0.00016276041666666666 * \\Phi_{h_{0}h_{1}}^{p_{0}p_{1}}t2_{p_{2}p_{3}}^{h_{2}h_{3}}t2_{p_{4}p_{5}}^{h_{4}h_{5}}t2_{p_{6}p_{7}}^{h_{6}h_{7}}f_{p_{8}}^{h_{8}}t2_{p_{9}p_{10}}^{h_{9}h_{10}}\n",
      " + 0.00016276041666666666 * \\Phi_{h_{0}h_{1}}^{p_{0}p_{1}}t2_{p_{2}p_{3}}^{h_{2}h_{3}}t2_{p_{4}p_{5}}^{h_{4}h_{5}}f_{p_{6}}^{h_{6}}t2_{p_{7}p_{8}}^{h_{7}h_{8}}t2_{p_{9}p_{10}}^{h_{9}h_{10}}\n",
      " + -0.00016276041666666666 * \\Phi_{h_{0}h_{1}}^{p_{0}p_{1}}t2_{p_{2}p_{3}}^{h_{2}h_{3}}t2_{p_{4}p_{5}}^{h_{4}h_{5}}t2_{p_{6}p_{7}}^{h_{6}h_{7}}f_{p_{8}}^{h_{8}}t2_{p_{9}p_{10}}^{h_{9}h_{10}}\n",
      " + -0.00016276041666666666 * \\Phi_{h_{0}h_{1}}^{p_{0}p_{1}}t2_{p_{2}p_{3}}^{h_{2}h_{3}}t2_{p_{4}p_{5}}^{h_{4}h_{5}}t2_{p_{6}p_{7}}^{h_{6}h_{7}}f_{p_{8}}^{h_{8}}t2_{p_{9}p_{10}}^{h_{9}h_{10}}\n",
      " + 0.00016276041666666666 * \\Phi_{h_{0}h_{1}}^{p_{0}p_{1}}t2_{p_{2}p_{3}}^{h_{2}h_{3}}t2_{p_{4}p_{5}}^{h_{4}h_{5}}t2_{p_{6}p_{7}}^{h_{6}h_{7}}t2_{p_{8}p_{9}}^{h_{8}h_{9}}f_{p_{10}}^{h_{10}}\n",
      " + 0.25 * \\Phi_{h_{0}h_{1}}^{p_{0}p_{1}}f_{h_{2}}^{p_{2}}t2_{p_{3}p_{4}}^{h_{3}h_{4}}\n",
      " + -0.25 * \\Phi_{h_{0}h_{1}}^{p_{0}p_{1}}t2_{p_{2}p_{3}}^{h_{2}h_{3}}f_{h_{4}}^{p_{4}}\n",
      " + 1.0 * \\Phi_{h_{0}h_{1}}^{p_{0}p_{1}}f_{h_{2}}^{p_{2}}\n",
      " + 0.03125 * \\Phi_{h_{0}h_{1}}^{p_{0}p_{1}}f_{h_{2}}^{p_{2}}t2_{p_{3}p_{4}}^{h_{3}h_{4}}t2_{p_{5}p_{6}}^{h_{5}h_{6}}\n",
      " + -0.03125 * \\Phi_{h_{0}h_{1}}^{p_{0}p_{1}}t2_{p_{2}p_{3}}^{h_{2}h_{3}}f_{h_{4}}^{p_{4}}t2_{p_{5}p_{6}}^{h_{5}h_{6}}\n",
      " + -0.03125 * \\Phi_{h_{0}h_{1}}^{p_{0}p_{1}}t2_{p_{2}p_{3}}^{h_{2}h_{3}}f_{h_{4}}^{p_{4}}t2_{p_{5}p_{6}}^{h_{5}h_{6}}\n",
      " + 0.03125 * \\Phi_{h_{0}h_{1}}^{p_{0}p_{1}}t2_{p_{2}p_{3}}^{h_{2}h_{3}}t2_{p_{4}p_{5}}^{h_{4}h_{5}}f_{h_{6}}^{p_{6}}\n",
      " + 0.0026041666666666665 * \\Phi_{h_{0}h_{1}}^{p_{0}p_{1}}f_{h_{2}}^{p_{2}}t2_{p_{3}p_{4}}^{h_{3}h_{4}}t2_{p_{5}p_{6}}^{h_{5}h_{6}}t2_{p_{7}p_{8}}^{h_{7}h_{8}}\n",
      " + -0.0026041666666666665 * \\Phi_{h_{0}h_{1}}^{p_{0}p_{1}}t2_{p_{2}p_{3}}^{h_{2}h_{3}}f_{h_{4}}^{p_{4}}t2_{p_{5}p_{6}}^{h_{5}h_{6}}t2_{p_{7}p_{8}}^{h_{7}h_{8}}\n",
      " + -0.0026041666666666665 * \\Phi_{h_{0}h_{1}}^{p_{0}p_{1}}t2_{p_{2}p_{3}}^{h_{2}h_{3}}f_{h_{4}}^{p_{4}}t2_{p_{5}p_{6}}^{h_{5}h_{6}}t2_{p_{7}p_{8}}^{h_{7}h_{8}}\n",
      " + 0.0026041666666666665 * \\Phi_{h_{0}h_{1}}^{p_{0}p_{1}}t2_{p_{2}p_{3}}^{h_{2}h_{3}}t2_{p_{4}p_{5}}^{h_{4}h_{5}}f_{h_{6}}^{p_{6}}t2_{p_{7}p_{8}}^{h_{7}h_{8}}\n",
      " + -0.0026041666666666665 * \\Phi_{h_{0}h_{1}}^{p_{0}p_{1}}t2_{p_{2}p_{3}}^{h_{2}h_{3}}f_{h_{4}}^{p_{4}}t2_{p_{5}p_{6}}^{h_{5}h_{6}}t2_{p_{7}p_{8}}^{h_{7}h_{8}}\n",
      " + 0.0026041666666666665 * \\Phi_{h_{0}h_{1}}^{p_{0}p_{1}}t2_{p_{2}p_{3}}^{h_{2}h_{3}}t2_{p_{4}p_{5}}^{h_{4}h_{5}}f_{h_{6}}^{p_{6}}t2_{p_{7}p_{8}}^{h_{7}h_{8}}\n",
      " + 0.0026041666666666665 * \\Phi_{h_{0}h_{1}}^{p_{0}p_{1}}t2_{p_{2}p_{3}}^{h_{2}h_{3}}t2_{p_{4}p_{5}}^{h_{4}h_{5}}f_{h_{6}}^{p_{6}}t2_{p_{7}p_{8}}^{h_{7}h_{8}}\n",
      " + -0.0026041666666666665 * \\Phi_{h_{0}h_{1}}^{p_{0}p_{1}}t2_{p_{2}p_{3}}^{h_{2}h_{3}}t2_{p_{4}p_{5}}^{h_{4}h_{5}}t2_{p_{6}p_{7}}^{h_{6}h_{7}}f_{h_{8}}^{p_{8}}\n",
      " + 0.00016276041666666666 * \\Phi_{h_{0}h_{1}}^{p_{0}p_{1}}f_{h_{2}}^{p_{2}}t2_{p_{3}p_{4}}^{h_{3}h_{4}}t2_{p_{5}p_{6}}^{h_{5}h_{6}}t2_{p_{7}p_{8}}^{h_{7}h_{8}}t2_{p_{9}p_{10}}^{h_{9}h_{10}}\n",
      " + -0.00016276041666666666 * \\Phi_{h_{0}h_{1}}^{p_{0}p_{1}}t2_{p_{2}p_{3}}^{h_{2}h_{3}}f_{h_{4}}^{p_{4}}t2_{p_{5}p_{6}}^{h_{5}h_{6}}t2_{p_{7}p_{8}}^{h_{7}h_{8}}t2_{p_{9}p_{10}}^{h_{9}h_{10}}\n",
      " + -0.00016276041666666666 * \\Phi_{h_{0}h_{1}}^{p_{0}p_{1}}t2_{p_{2}p_{3}}^{h_{2}h_{3}}f_{h_{4}}^{p_{4}}t2_{p_{5}p_{6}}^{h_{5}h_{6}}t2_{p_{7}p_{8}}^{h_{7}h_{8}}t2_{p_{9}p_{10}}^{h_{9}h_{10}}\n",
      " + 0.00016276041666666666 * \\Phi_{h_{0}h_{1}}^{p_{0}p_{1}}t2_{p_{2}p_{3}}^{h_{2}h_{3}}t2_{p_{4}p_{5}}^{h_{4}h_{5}}f_{h_{6}}^{p_{6}}t2_{p_{7}p_{8}}^{h_{7}h_{8}}t2_{p_{9}p_{10}}^{h_{9}h_{10}}\n",
      " + -0.00016276041666666666 * \\Phi_{h_{0}h_{1}}^{p_{0}p_{1}}t2_{p_{2}p_{3}}^{h_{2}h_{3}}f_{h_{4}}^{p_{4}}t2_{p_{5}p_{6}}^{h_{5}h_{6}}t2_{p_{7}p_{8}}^{h_{7}h_{8}}t2_{p_{9}p_{10}}^{h_{9}h_{10}}\n",
      " + 0.00016276041666666666 * \\Phi_{h_{0}h_{1}}^{p_{0}p_{1}}t2_{p_{2}p_{3}}^{h_{2}h_{3}}t2_{p_{4}p_{5}}^{h_{4}h_{5}}f_{h_{6}}^{p_{6}}t2_{p_{7}p_{8}}^{h_{7}h_{8}}t2_{p_{9}p_{10}}^{h_{9}h_{10}}\n",
      " + 0.00016276041666666666 * \\Phi_{h_{0}h_{1}}^{p_{0}p_{1}}t2_{p_{2}p_{3}}^{h_{2}h_{3}}t2_{p_{4}p_{5}}^{h_{4}h_{5}}f_{h_{6}}^{p_{6}}t2_{p_{7}p_{8}}^{h_{7}h_{8}}t2_{p_{9}p_{10}}^{h_{9}h_{10}}\n",
      " + -0.00016276041666666666 * \\Phi_{h_{0}h_{1}}^{p_{0}p_{1}}t2_{p_{2}p_{3}}^{h_{2}h_{3}}t2_{p_{4}p_{5}}^{h_{4}h_{5}}t2_{p_{6}p_{7}}^{h_{6}h_{7}}f_{h_{8}}^{p_{8}}t2_{p_{9}p_{10}}^{h_{9}h_{10}}\n",
      " + -0.00016276041666666666 * \\Phi_{h_{0}h_{1}}^{p_{0}p_{1}}t2_{p_{2}p_{3}}^{h_{2}h_{3}}f_{h_{4}}^{p_{4}}t2_{p_{5}p_{6}}^{h_{5}h_{6}}t2_{p_{7}p_{8}}^{h_{7}h_{8}}t2_{p_{9}p_{10}}^{h_{9}h_{10}}\n",
      " + 0.00016276041666666666 * \\Phi_{h_{0}h_{1}}^{p_{0}p_{1}}t2_{p_{2}p_{3}}^{h_{2}h_{3}}t2_{p_{4}p_{5}}^{h_{4}h_{5}}f_{h_{6}}^{p_{6}}t2_{p_{7}p_{8}}^{h_{7}h_{8}}t2_{p_{9}p_{10}}^{h_{9}h_{10}}\n",
      " + 0.00016276041666666666 * \\Phi_{h_{0}h_{1}}^{p_{0}p_{1}}t2_{p_{2}p_{3}}^{h_{2}h_{3}}t2_{p_{4}p_{5}}^{h_{4}h_{5}}f_{h_{6}}^{p_{6}}t2_{p_{7}p_{8}}^{h_{7}h_{8}}t2_{p_{9}p_{10}}^{h_{9}h_{10}}\n",
      " + -0.00016276041666666666 * \\Phi_{h_{0}h_{1}}^{p_{0}p_{1}}t2_{p_{2}p_{3}}^{h_{2}h_{3}}t2_{p_{4}p_{5}}^{h_{4}h_{5}}t2_{p_{6}p_{7}}^{h_{6}h_{7}}f_{h_{8}}^{p_{8}}t2_{p_{9}p_{10}}^{h_{9}h_{10}}\n",
      " + 0.00016276041666666666 * \\Phi_{h_{0}h_{1}}^{p_{0}p_{1}}t2_{p_{2}p_{3}}^{h_{2}h_{3}}t2_{p_{4}p_{5}}^{h_{4}h_{5}}f_{h_{6}}^{p_{6}}t2_{p_{7}p_{8}}^{h_{7}h_{8}}t2_{p_{9}p_{10}}^{h_{9}h_{10}}\n",
      " + -0.00016276041666666666 * \\Phi_{h_{0}h_{1}}^{p_{0}p_{1}}t2_{p_{2}p_{3}}^{h_{2}h_{3}}t2_{p_{4}p_{5}}^{h_{4}h_{5}}t2_{p_{6}p_{7}}^{h_{6}h_{7}}f_{h_{8}}^{p_{8}}t2_{p_{9}p_{10}}^{h_{9}h_{10}}\n",
      " + -0.00016276041666666666 * \\Phi_{h_{0}h_{1}}^{p_{0}p_{1}}t2_{p_{2}p_{3}}^{h_{2}h_{3}}t2_{p_{4}p_{5}}^{h_{4}h_{5}}t2_{p_{6}p_{7}}^{h_{6}h_{7}}f_{h_{8}}^{p_{8}}t2_{p_{9}p_{10}}^{h_{9}h_{10}}\n",
      " + 0.00016276041666666666 * \\Phi_{h_{0}h_{1}}^{p_{0}p_{1}}t2_{p_{2}p_{3}}^{h_{2}h_{3}}t2_{p_{4}p_{5}}^{h_{4}h_{5}}t2_{p_{6}p_{7}}^{h_{6}h_{7}}t2_{p_{8}p_{9}}^{h_{8}h_{9}}f_{h_{10}}^{p_{10}}\n",
      " + 0.25 * \\Phi_{h_{0}h_{1}}^{p_{0}p_{1}}f_{h_{2}}^{h_{3}}t2_{p_{2}p_{3}}^{h_{4}h_{5}}\n",
      " + -0.25 * \\Phi_{h_{0}h_{1}}^{p_{0}p_{1}}t2_{p_{2}p_{3}}^{h_{2}h_{3}}f_{h_{4}}^{h_{5}}\n",
      " + 1.0 * \\Phi_{h_{0}h_{1}}^{p_{0}p_{1}}f_{h_{2}}^{h_{3}}\n",
      " + 0.03125 * \\Phi_{h_{0}h_{1}}^{p_{0}p_{1}}f_{h_{2}}^{h_{3}}t2_{p_{2}p_{3}}^{h_{4}h_{5}}t2_{p_{4}p_{5}}^{h_{6}h_{7}}\n",
      " + -0.03125 * \\Phi_{h_{0}h_{1}}^{p_{0}p_{1}}t2_{p_{2}p_{3}}^{h_{2}h_{3}}f_{h_{4}}^{h_{5}}t2_{p_{4}p_{5}}^{h_{6}h_{7}}\n",
      " + -0.03125 * \\Phi_{h_{0}h_{1}}^{p_{0}p_{1}}t2_{p_{2}p_{3}}^{h_{2}h_{3}}f_{h_{4}}^{h_{5}}t2_{p_{4}p_{5}}^{h_{6}h_{7}}\n",
      " + 0.03125 * \\Phi_{h_{0}h_{1}}^{p_{0}p_{1}}t2_{p_{2}p_{3}}^{h_{2}h_{3}}t2_{p_{4}p_{5}}^{h_{4}h_{5}}f_{h_{6}}^{h_{7}}\n",
      " + 0.0026041666666666665 * \\Phi_{h_{0}h_{1}}^{p_{0}p_{1}}f_{h_{2}}^{h_{3}}t2_{p_{2}p_{3}}^{h_{4}h_{5}}t2_{p_{4}p_{5}}^{h_{6}h_{7}}t2_{p_{6}p_{7}}^{h_{8}h_{9}}\n",
      " + -0.0026041666666666665 * \\Phi_{h_{0}h_{1}}^{p_{0}p_{1}}t2_{p_{2}p_{3}}^{h_{2}h_{3}}f_{h_{4}}^{h_{5}}t2_{p_{4}p_{5}}^{h_{6}h_{7}}t2_{p_{6}p_{7}}^{h_{8}h_{9}}\n",
      " + -0.0026041666666666665 * \\Phi_{h_{0}h_{1}}^{p_{0}p_{1}}t2_{p_{2}p_{3}}^{h_{2}h_{3}}f_{h_{4}}^{h_{5}}t2_{p_{4}p_{5}}^{h_{6}h_{7}}t2_{p_{6}p_{7}}^{h_{8}h_{9}}\n",
      " + 0.0026041666666666665 * \\Phi_{h_{0}h_{1}}^{p_{0}p_{1}}t2_{p_{2}p_{3}}^{h_{2}h_{3}}t2_{p_{4}p_{5}}^{h_{4}h_{5}}f_{h_{6}}^{h_{7}}t2_{p_{6}p_{7}}^{h_{8}h_{9}}\n",
      " + -0.0026041666666666665 * \\Phi_{h_{0}h_{1}}^{p_{0}p_{1}}t2_{p_{2}p_{3}}^{h_{2}h_{3}}f_{h_{4}}^{h_{5}}t2_{p_{4}p_{5}}^{h_{6}h_{7}}t2_{p_{6}p_{7}}^{h_{8}h_{9}}\n",
      " + 0.0026041666666666665 * \\Phi_{h_{0}h_{1}}^{p_{0}p_{1}}t2_{p_{2}p_{3}}^{h_{2}h_{3}}t2_{p_{4}p_{5}}^{h_{4}h_{5}}f_{h_{6}}^{h_{7}}t2_{p_{6}p_{7}}^{h_{8}h_{9}}\n",
      " + 0.0026041666666666665 * \\Phi_{h_{0}h_{1}}^{p_{0}p_{1}}t2_{p_{2}p_{3}}^{h_{2}h_{3}}t2_{p_{4}p_{5}}^{h_{4}h_{5}}f_{h_{6}}^{h_{7}}t2_{p_{6}p_{7}}^{h_{8}h_{9}}\n",
      " + -0.0026041666666666665 * \\Phi_{h_{0}h_{1}}^{p_{0}p_{1}}t2_{p_{2}p_{3}}^{h_{2}h_{3}}t2_{p_{4}p_{5}}^{h_{4}h_{5}}t2_{p_{6}p_{7}}^{h_{6}h_{7}}f_{h_{8}}^{h_{9}}\n",
      " + 0.00016276041666666666 * \\Phi_{h_{0}h_{1}}^{p_{0}p_{1}}f_{h_{2}}^{h_{3}}t2_{p_{2}p_{3}}^{h_{4}h_{5}}t2_{p_{4}p_{5}}^{h_{6}h_{7}}t2_{p_{6}p_{7}}^{h_{8}h_{9}}t2_{p_{8}p_{9}}^{h_{10}h_{11}}\n",
      " + -0.00016276041666666666 * \\Phi_{h_{0}h_{1}}^{p_{0}p_{1}}t2_{p_{2}p_{3}}^{h_{2}h_{3}}f_{h_{4}}^{h_{5}}t2_{p_{4}p_{5}}^{h_{6}h_{7}}t2_{p_{6}p_{7}}^{h_{8}h_{9}}t2_{p_{8}p_{9}}^{h_{10}h_{11}}\n",
      " + -0.00016276041666666666 * \\Phi_{h_{0}h_{1}}^{p_{0}p_{1}}t2_{p_{2}p_{3}}^{h_{2}h_{3}}f_{h_{4}}^{h_{5}}t2_{p_{4}p_{5}}^{h_{6}h_{7}}t2_{p_{6}p_{7}}^{h_{8}h_{9}}t2_{p_{8}p_{9}}^{h_{10}h_{11}}\n",
      " + 0.00016276041666666666 * \\Phi_{h_{0}h_{1}}^{p_{0}p_{1}}t2_{p_{2}p_{3}}^{h_{2}h_{3}}t2_{p_{4}p_{5}}^{h_{4}h_{5}}f_{h_{6}}^{h_{7}}t2_{p_{6}p_{7}}^{h_{8}h_{9}}t2_{p_{8}p_{9}}^{h_{10}h_{11}}\n",
      " + -0.00016276041666666666 * \\Phi_{h_{0}h_{1}}^{p_{0}p_{1}}t2_{p_{2}p_{3}}^{h_{2}h_{3}}f_{h_{4}}^{h_{5}}t2_{p_{4}p_{5}}^{h_{6}h_{7}}t2_{p_{6}p_{7}}^{h_{8}h_{9}}t2_{p_{8}p_{9}}^{h_{10}h_{11}}\n",
      " + 0.00016276041666666666 * \\Phi_{h_{0}h_{1}}^{p_{0}p_{1}}t2_{p_{2}p_{3}}^{h_{2}h_{3}}t2_{p_{4}p_{5}}^{h_{4}h_{5}}f_{h_{6}}^{h_{7}}t2_{p_{6}p_{7}}^{h_{8}h_{9}}t2_{p_{8}p_{9}}^{h_{10}h_{11}}\n",
      " + 0.00016276041666666666 * \\Phi_{h_{0}h_{1}}^{p_{0}p_{1}}t2_{p_{2}p_{3}}^{h_{2}h_{3}}t2_{p_{4}p_{5}}^{h_{4}h_{5}}f_{h_{6}}^{h_{7}}t2_{p_{6}p_{7}}^{h_{8}h_{9}}t2_{p_{8}p_{9}}^{h_{10}h_{11}}\n",
      " + -0.00016276041666666666 * \\Phi_{h_{0}h_{1}}^{p_{0}p_{1}}t2_{p_{2}p_{3}}^{h_{2}h_{3}}t2_{p_{4}p_{5}}^{h_{4}h_{5}}t2_{p_{6}p_{7}}^{h_{6}h_{7}}f_{h_{8}}^{h_{9}}t2_{p_{8}p_{9}}^{h_{10}h_{11}}\n",
      " + -0.00016276041666666666 * \\Phi_{h_{0}h_{1}}^{p_{0}p_{1}}t2_{p_{2}p_{3}}^{h_{2}h_{3}}f_{h_{4}}^{h_{5}}t2_{p_{4}p_{5}}^{h_{6}h_{7}}t2_{p_{6}p_{7}}^{h_{8}h_{9}}t2_{p_{8}p_{9}}^{h_{10}h_{11}}\n",
      " + 0.00016276041666666666 * \\Phi_{h_{0}h_{1}}^{p_{0}p_{1}}t2_{p_{2}p_{3}}^{h_{2}h_{3}}t2_{p_{4}p_{5}}^{h_{4}h_{5}}f_{h_{6}}^{h_{7}}t2_{p_{6}p_{7}}^{h_{8}h_{9}}t2_{p_{8}p_{9}}^{h_{10}h_{11}}\n",
      " + 0.00016276041666666666 * \\Phi_{h_{0}h_{1}}^{p_{0}p_{1}}t2_{p_{2}p_{3}}^{h_{2}h_{3}}t2_{p_{4}p_{5}}^{h_{4}h_{5}}f_{h_{6}}^{h_{7}}t2_{p_{6}p_{7}}^{h_{8}h_{9}}t2_{p_{8}p_{9}}^{h_{10}h_{11}}\n",
      " + -0.00016276041666666666 * \\Phi_{h_{0}h_{1}}^{p_{0}p_{1}}t2_{p_{2}p_{3}}^{h_{2}h_{3}}t2_{p_{4}p_{5}}^{h_{4}h_{5}}t2_{p_{6}p_{7}}^{h_{6}h_{7}}f_{h_{8}}^{h_{9}}t2_{p_{8}p_{9}}^{h_{10}h_{11}}\n",
      " + 0.00016276041666666666 * \\Phi_{h_{0}h_{1}}^{p_{0}p_{1}}t2_{p_{2}p_{3}}^{h_{2}h_{3}}t2_{p_{4}p_{5}}^{h_{4}h_{5}}f_{h_{6}}^{h_{7}}t2_{p_{6}p_{7}}^{h_{8}h_{9}}t2_{p_{8}p_{9}}^{h_{10}h_{11}}\n",
      " + -0.00016276041666666666 * \\Phi_{h_{0}h_{1}}^{p_{0}p_{1}}t2_{p_{2}p_{3}}^{h_{2}h_{3}}t2_{p_{4}p_{5}}^{h_{4}h_{5}}t2_{p_{6}p_{7}}^{h_{6}h_{7}}f_{h_{8}}^{h_{9}}t2_{p_{8}p_{9}}^{h_{10}h_{11}}\n",
      " + -0.00016276041666666666 * \\Phi_{h_{0}h_{1}}^{p_{0}p_{1}}t2_{p_{2}p_{3}}^{h_{2}h_{3}}t2_{p_{4}p_{5}}^{h_{4}h_{5}}t2_{p_{6}p_{7}}^{h_{6}h_{7}}f_{h_{8}}^{h_{9}}t2_{p_{8}p_{9}}^{h_{10}h_{11}}\n",
      " + 0.00016276041666666666 * \\Phi_{h_{0}h_{1}}^{p_{0}p_{1}}t2_{p_{2}p_{3}}^{h_{2}h_{3}}t2_{p_{4}p_{5}}^{h_{4}h_{5}}t2_{p_{6}p_{7}}^{h_{6}h_{7}}t2_{p_{8}p_{9}}^{h_{8}h_{9}}f_{h_{10}}^{h_{11}}\n",
      " + 0.5 * \\Phi_{h_{0}h_{1}}^{p_{0}p_{1}}v_{p_{2}p_{3}}^{p_{4}p_{5}}\n",
      " + 0.125 * \\Phi_{h_{0}h_{1}}^{p_{0}p_{1}}v_{p_{2}p_{3}}^{p_{4}p_{5}}t2_{p_{6}p_{7}}^{h_{2}h_{3}}\n",
      " + -0.125 * \\Phi_{h_{0}h_{1}}^{p_{0}p_{1}}t2_{p_{2}p_{3}}^{h_{2}h_{3}}v_{p_{4}p_{5}}^{p_{6}p_{7}}\n",
      " + 0.015625 * \\Phi_{h_{0}h_{1}}^{p_{0}p_{1}}v_{p_{2}p_{3}}^{p_{4}p_{5}}t2_{p_{6}p_{7}}^{h_{2}h_{3}}t2_{p_{8}p_{9}}^{h_{4}h_{5}}\n",
      " + -0.015625 * \\Phi_{h_{0}h_{1}}^{p_{0}p_{1}}t2_{p_{2}p_{3}}^{h_{2}h_{3}}v_{p_{4}p_{5}}^{p_{6}p_{7}}t2_{p_{8}p_{9}}^{h_{4}h_{5}}\n",
      " + -0.015625 * \\Phi_{h_{0}h_{1}}^{p_{0}p_{1}}t2_{p_{2}p_{3}}^{h_{2}h_{3}}v_{p_{4}p_{5}}^{p_{6}p_{7}}t2_{p_{8}p_{9}}^{h_{4}h_{5}}\n",
      " + 0.015625 * \\Phi_{h_{0}h_{1}}^{p_{0}p_{1}}t2_{p_{2}p_{3}}^{h_{2}h_{3}}t2_{p_{4}p_{5}}^{h_{4}h_{5}}v_{p_{6}p_{7}}^{p_{8}p_{9}}\n",
      " + 0.0013020833333333333 * \\Phi_{h_{0}h_{1}}^{p_{0}p_{1}}v_{p_{2}p_{3}}^{p_{4}p_{5}}t2_{p_{6}p_{7}}^{h_{2}h_{3}}t2_{p_{8}p_{9}}^{h_{4}h_{5}}t2_{p_{10}p_{11}}^{h_{6}h_{7}}\n",
      " + -0.0013020833333333333 * \\Phi_{h_{0}h_{1}}^{p_{0}p_{1}}t2_{p_{2}p_{3}}^{h_{2}h_{3}}v_{p_{4}p_{5}}^{p_{6}p_{7}}t2_{p_{8}p_{9}}^{h_{4}h_{5}}t2_{p_{10}p_{11}}^{h_{6}h_{7}}\n",
      " + -0.0013020833333333333 * \\Phi_{h_{0}h_{1}}^{p_{0}p_{1}}t2_{p_{2}p_{3}}^{h_{2}h_{3}}v_{p_{4}p_{5}}^{p_{6}p_{7}}t2_{p_{8}p_{9}}^{h_{4}h_{5}}t2_{p_{10}p_{11}}^{h_{6}h_{7}}\n",
      " + 0.0013020833333333333 * \\Phi_{h_{0}h_{1}}^{p_{0}p_{1}}t2_{p_{2}p_{3}}^{h_{2}h_{3}}t2_{p_{4}p_{5}}^{h_{4}h_{5}}v_{p_{6}p_{7}}^{p_{8}p_{9}}t2_{p_{10}p_{11}}^{h_{6}h_{7}}\n",
      " + -0.0013020833333333333 * \\Phi_{h_{0}h_{1}}^{p_{0}p_{1}}t2_{p_{2}p_{3}}^{h_{2}h_{3}}v_{p_{4}p_{5}}^{p_{6}p_{7}}t2_{p_{8}p_{9}}^{h_{4}h_{5}}t2_{p_{10}p_{11}}^{h_{6}h_{7}}\n",
      " + 0.0013020833333333333 * \\Phi_{h_{0}h_{1}}^{p_{0}p_{1}}t2_{p_{2}p_{3}}^{h_{2}h_{3}}t2_{p_{4}p_{5}}^{h_{4}h_{5}}v_{p_{6}p_{7}}^{p_{8}p_{9}}t2_{p_{10}p_{11}}^{h_{6}h_{7}}\n",
      " + 0.0013020833333333333 * \\Phi_{h_{0}h_{1}}^{p_{0}p_{1}}t2_{p_{2}p_{3}}^{h_{2}h_{3}}t2_{p_{4}p_{5}}^{h_{4}h_{5}}v_{p_{6}p_{7}}^{p_{8}p_{9}}t2_{p_{10}p_{11}}^{h_{6}h_{7}}\n",
      " + -0.0013020833333333333 * \\Phi_{h_{0}h_{1}}^{p_{0}p_{1}}t2_{p_{2}p_{3}}^{h_{2}h_{3}}t2_{p_{4}p_{5}}^{h_{4}h_{5}}t2_{p_{6}p_{7}}^{h_{6}h_{7}}v_{p_{8}p_{9}}^{p_{10}p_{11}}\n",
      " + 8.138020833333333e-05 * \\Phi_{h_{0}h_{1}}^{p_{0}p_{1}}v_{p_{2}p_{3}}^{p_{4}p_{5}}t2_{p_{6}p_{7}}^{h_{2}h_{3}}t2_{p_{8}p_{9}}^{h_{4}h_{5}}t2_{p_{10}p_{11}}^{h_{6}h_{7}}t2_{p_{12}p_{13}}^{h_{8}h_{9}}\n",
      " + -8.138020833333333e-05 * \\Phi_{h_{0}h_{1}}^{p_{0}p_{1}}t2_{p_{2}p_{3}}^{h_{2}h_{3}}v_{p_{4}p_{5}}^{p_{6}p_{7}}t2_{p_{8}p_{9}}^{h_{4}h_{5}}t2_{p_{10}p_{11}}^{h_{6}h_{7}}t2_{p_{12}p_{13}}^{h_{8}h_{9}}\n",
      " + -8.138020833333333e-05 * \\Phi_{h_{0}h_{1}}^{p_{0}p_{1}}t2_{p_{2}p_{3}}^{h_{2}h_{3}}v_{p_{4}p_{5}}^{p_{6}p_{7}}t2_{p_{8}p_{9}}^{h_{4}h_{5}}t2_{p_{10}p_{11}}^{h_{6}h_{7}}t2_{p_{12}p_{13}}^{h_{8}h_{9}}\n",
      " + 8.138020833333333e-05 * \\Phi_{h_{0}h_{1}}^{p_{0}p_{1}}t2_{p_{2}p_{3}}^{h_{2}h_{3}}t2_{p_{4}p_{5}}^{h_{4}h_{5}}v_{p_{6}p_{7}}^{p_{8}p_{9}}t2_{p_{10}p_{11}}^{h_{6}h_{7}}t2_{p_{12}p_{13}}^{h_{8}h_{9}}\n",
      " + -8.138020833333333e-05 * \\Phi_{h_{0}h_{1}}^{p_{0}p_{1}}t2_{p_{2}p_{3}}^{h_{2}h_{3}}v_{p_{4}p_{5}}^{p_{6}p_{7}}t2_{p_{8}p_{9}}^{h_{4}h_{5}}t2_{p_{10}p_{11}}^{h_{6}h_{7}}t2_{p_{12}p_{13}}^{h_{8}h_{9}}\n",
      " + 8.138020833333333e-05 * \\Phi_{h_{0}h_{1}}^{p_{0}p_{1}}t2_{p_{2}p_{3}}^{h_{2}h_{3}}t2_{p_{4}p_{5}}^{h_{4}h_{5}}v_{p_{6}p_{7}}^{p_{8}p_{9}}t2_{p_{10}p_{11}}^{h_{6}h_{7}}t2_{p_{12}p_{13}}^{h_{8}h_{9}}\n",
      " + 8.138020833333333e-05 * \\Phi_{h_{0}h_{1}}^{p_{0}p_{1}}t2_{p_{2}p_{3}}^{h_{2}h_{3}}t2_{p_{4}p_{5}}^{h_{4}h_{5}}v_{p_{6}p_{7}}^{p_{8}p_{9}}t2_{p_{10}p_{11}}^{h_{6}h_{7}}t2_{p_{12}p_{13}}^{h_{8}h_{9}}\n",
      " + -8.138020833333333e-05 * \\Phi_{h_{0}h_{1}}^{p_{0}p_{1}}t2_{p_{2}p_{3}}^{h_{2}h_{3}}t2_{p_{4}p_{5}}^{h_{4}h_{5}}t2_{p_{6}p_{7}}^{h_{6}h_{7}}v_{p_{8}p_{9}}^{p_{10}p_{11}}t2_{p_{12}p_{13}}^{h_{8}h_{9}}\n",
      " + -8.138020833333333e-05 * \\Phi_{h_{0}h_{1}}^{p_{0}p_{1}}t2_{p_{2}p_{3}}^{h_{2}h_{3}}v_{p_{4}p_{5}}^{p_{6}p_{7}}t2_{p_{8}p_{9}}^{h_{4}h_{5}}t2_{p_{10}p_{11}}^{h_{6}h_{7}}t2_{p_{12}p_{13}}^{h_{8}h_{9}}\n",
      " + 8.138020833333333e-05 * \\Phi_{h_{0}h_{1}}^{p_{0}p_{1}}t2_{p_{2}p_{3}}^{h_{2}h_{3}}t2_{p_{4}p_{5}}^{h_{4}h_{5}}v_{p_{6}p_{7}}^{p_{8}p_{9}}t2_{p_{10}p_{11}}^{h_{6}h_{7}}t2_{p_{12}p_{13}}^{h_{8}h_{9}}\n",
      " + 8.138020833333333e-05 * \\Phi_{h_{0}h_{1}}^{p_{0}p_{1}}t2_{p_{2}p_{3}}^{h_{2}h_{3}}t2_{p_{4}p_{5}}^{h_{4}h_{5}}v_{p_{6}p_{7}}^{p_{8}p_{9}}t2_{p_{10}p_{11}}^{h_{6}h_{7}}t2_{p_{12}p_{13}}^{h_{8}h_{9}}\n",
      " + -8.138020833333333e-05 * \\Phi_{h_{0}h_{1}}^{p_{0}p_{1}}t2_{p_{2}p_{3}}^{h_{2}h_{3}}t2_{p_{4}p_{5}}^{h_{4}h_{5}}t2_{p_{6}p_{7}}^{h_{6}h_{7}}v_{p_{8}p_{9}}^{p_{10}p_{11}}t2_{p_{12}p_{13}}^{h_{8}h_{9}}\n",
      " + 8.138020833333333e-05 * \\Phi_{h_{0}h_{1}}^{p_{0}p_{1}}t2_{p_{2}p_{3}}^{h_{2}h_{3}}t2_{p_{4}p_{5}}^{h_{4}h_{5}}v_{p_{6}p_{7}}^{p_{8}p_{9}}t2_{p_{10}p_{11}}^{h_{6}h_{7}}t2_{p_{12}p_{13}}^{h_{8}h_{9}}\n",
      " + -8.138020833333333e-05 * \\Phi_{h_{0}h_{1}}^{p_{0}p_{1}}t2_{p_{2}p_{3}}^{h_{2}h_{3}}t2_{p_{4}p_{5}}^{h_{4}h_{5}}t2_{p_{6}p_{7}}^{h_{6}h_{7}}v_{p_{8}p_{9}}^{p_{10}p_{11}}t2_{p_{12}p_{13}}^{h_{8}h_{9}}\n",
      " + -8.138020833333333e-05 * \\Phi_{h_{0}h_{1}}^{p_{0}p_{1}}t2_{p_{2}p_{3}}^{h_{2}h_{3}}t2_{p_{4}p_{5}}^{h_{4}h_{5}}t2_{p_{6}p_{7}}^{h_{6}h_{7}}v_{p_{8}p_{9}}^{p_{10}p_{11}}t2_{p_{12}p_{13}}^{h_{8}h_{9}}\n",
      " + 8.138020833333333e-05 * \\Phi_{h_{0}h_{1}}^{p_{0}p_{1}}t2_{p_{2}p_{3}}^{h_{2}h_{3}}t2_{p_{4}p_{5}}^{h_{4}h_{5}}t2_{p_{6}p_{7}}^{h_{6}h_{7}}t2_{p_{8}p_{9}}^{h_{8}h_{9}}v_{p_{10}p_{11}}^{p_{12}p_{13}}\n",
      " + 0.5 * \\Phi_{h_{0}h_{1}}^{p_{0}p_{1}}v_{h_{2}h_{3}}^{h_{4}h_{5}}\n",
      " + 0.125 * \\Phi_{h_{0}h_{1}}^{p_{0}p_{1}}v_{h_{2}h_{3}}^{h_{4}h_{5}}t2_{p_{2}p_{3}}^{h_{6}h_{7}}\n",
      " + -0.125 * \\Phi_{h_{0}h_{1}}^{p_{0}p_{1}}t2_{p_{2}p_{3}}^{h_{2}h_{3}}v_{h_{4}h_{5}}^{h_{6}h_{7}}\n",
      " + 0.015625 * \\Phi_{h_{0}h_{1}}^{p_{0}p_{1}}v_{h_{2}h_{3}}^{h_{4}h_{5}}t2_{p_{2}p_{3}}^{h_{6}h_{7}}t2_{p_{4}p_{5}}^{h_{8}h_{9}}\n",
      " + -0.015625 * \\Phi_{h_{0}h_{1}}^{p_{0}p_{1}}t2_{p_{2}p_{3}}^{h_{2}h_{3}}v_{h_{4}h_{5}}^{h_{6}h_{7}}t2_{p_{4}p_{5}}^{h_{8}h_{9}}\n",
      " + -0.015625 * \\Phi_{h_{0}h_{1}}^{p_{0}p_{1}}t2_{p_{2}p_{3}}^{h_{2}h_{3}}v_{h_{4}h_{5}}^{h_{6}h_{7}}t2_{p_{4}p_{5}}^{h_{8}h_{9}}\n",
      " + 0.015625 * \\Phi_{h_{0}h_{1}}^{p_{0}p_{1}}t2_{p_{2}p_{3}}^{h_{2}h_{3}}t2_{p_{4}p_{5}}^{h_{4}h_{5}}v_{h_{6}h_{7}}^{h_{8}h_{9}}\n",
      " + 0.0013020833333333333 * \\Phi_{h_{0}h_{1}}^{p_{0}p_{1}}v_{h_{2}h_{3}}^{h_{4}h_{5}}t2_{p_{2}p_{3}}^{h_{6}h_{7}}t2_{p_{4}p_{5}}^{h_{8}h_{9}}t2_{p_{6}p_{7}}^{h_{10}h_{11}}\n",
      " + -0.0013020833333333333 * \\Phi_{h_{0}h_{1}}^{p_{0}p_{1}}t2_{p_{2}p_{3}}^{h_{2}h_{3}}v_{h_{4}h_{5}}^{h_{6}h_{7}}t2_{p_{4}p_{5}}^{h_{8}h_{9}}t2_{p_{6}p_{7}}^{h_{10}h_{11}}\n",
      " + -0.0013020833333333333 * \\Phi_{h_{0}h_{1}}^{p_{0}p_{1}}t2_{p_{2}p_{3}}^{h_{2}h_{3}}v_{h_{4}h_{5}}^{h_{6}h_{7}}t2_{p_{4}p_{5}}^{h_{8}h_{9}}t2_{p_{6}p_{7}}^{h_{10}h_{11}}\n",
      " + 0.0013020833333333333 * \\Phi_{h_{0}h_{1}}^{p_{0}p_{1}}t2_{p_{2}p_{3}}^{h_{2}h_{3}}t2_{p_{4}p_{5}}^{h_{4}h_{5}}v_{h_{6}h_{7}}^{h_{8}h_{9}}t2_{p_{6}p_{7}}^{h_{10}h_{11}}\n",
      " + -0.0013020833333333333 * \\Phi_{h_{0}h_{1}}^{p_{0}p_{1}}t2_{p_{2}p_{3}}^{h_{2}h_{3}}v_{h_{4}h_{5}}^{h_{6}h_{7}}t2_{p_{4}p_{5}}^{h_{8}h_{9}}t2_{p_{6}p_{7}}^{h_{10}h_{11}}\n",
      " + 0.0013020833333333333 * \\Phi_{h_{0}h_{1}}^{p_{0}p_{1}}t2_{p_{2}p_{3}}^{h_{2}h_{3}}t2_{p_{4}p_{5}}^{h_{4}h_{5}}v_{h_{6}h_{7}}^{h_{8}h_{9}}t2_{p_{6}p_{7}}^{h_{10}h_{11}}\n",
      " + 0.0013020833333333333 * \\Phi_{h_{0}h_{1}}^{p_{0}p_{1}}t2_{p_{2}p_{3}}^{h_{2}h_{3}}t2_{p_{4}p_{5}}^{h_{4}h_{5}}v_{h_{6}h_{7}}^{h_{8}h_{9}}t2_{p_{6}p_{7}}^{h_{10}h_{11}}\n",
      " + -0.0013020833333333333 * \\Phi_{h_{0}h_{1}}^{p_{0}p_{1}}t2_{p_{2}p_{3}}^{h_{2}h_{3}}t2_{p_{4}p_{5}}^{h_{4}h_{5}}t2_{p_{6}p_{7}}^{h_{6}h_{7}}v_{h_{8}h_{9}}^{h_{10}h_{11}}\n",
      " + 8.138020833333333e-05 * \\Phi_{h_{0}h_{1}}^{p_{0}p_{1}}v_{h_{2}h_{3}}^{h_{4}h_{5}}t2_{p_{2}p_{3}}^{h_{6}h_{7}}t2_{p_{4}p_{5}}^{h_{8}h_{9}}t2_{p_{6}p_{7}}^{h_{10}h_{11}}t2_{p_{8}p_{9}}^{h_{12}h_{13}}\n",
      " + -8.138020833333333e-05 * \\Phi_{h_{0}h_{1}}^{p_{0}p_{1}}t2_{p_{2}p_{3}}^{h_{2}h_{3}}v_{h_{4}h_{5}}^{h_{6}h_{7}}t2_{p_{4}p_{5}}^{h_{8}h_{9}}t2_{p_{6}p_{7}}^{h_{10}h_{11}}t2_{p_{8}p_{9}}^{h_{12}h_{13}}\n",
      " + -8.138020833333333e-05 * \\Phi_{h_{0}h_{1}}^{p_{0}p_{1}}t2_{p_{2}p_{3}}^{h_{2}h_{3}}v_{h_{4}h_{5}}^{h_{6}h_{7}}t2_{p_{4}p_{5}}^{h_{8}h_{9}}t2_{p_{6}p_{7}}^{h_{10}h_{11}}t2_{p_{8}p_{9}}^{h_{12}h_{13}}\n",
      " + 8.138020833333333e-05 * \\Phi_{h_{0}h_{1}}^{p_{0}p_{1}}t2_{p_{2}p_{3}}^{h_{2}h_{3}}t2_{p_{4}p_{5}}^{h_{4}h_{5}}v_{h_{6}h_{7}}^{h_{8}h_{9}}t2_{p_{6}p_{7}}^{h_{10}h_{11}}t2_{p_{8}p_{9}}^{h_{12}h_{13}}\n",
      " + -8.138020833333333e-05 * \\Phi_{h_{0}h_{1}}^{p_{0}p_{1}}t2_{p_{2}p_{3}}^{h_{2}h_{3}}v_{h_{4}h_{5}}^{h_{6}h_{7}}t2_{p_{4}p_{5}}^{h_{8}h_{9}}t2_{p_{6}p_{7}}^{h_{10}h_{11}}t2_{p_{8}p_{9}}^{h_{12}h_{13}}\n",
      " + 8.138020833333333e-05 * \\Phi_{h_{0}h_{1}}^{p_{0}p_{1}}t2_{p_{2}p_{3}}^{h_{2}h_{3}}t2_{p_{4}p_{5}}^{h_{4}h_{5}}v_{h_{6}h_{7}}^{h_{8}h_{9}}t2_{p_{6}p_{7}}^{h_{10}h_{11}}t2_{p_{8}p_{9}}^{h_{12}h_{13}}\n",
      " + 8.138020833333333e-05 * \\Phi_{h_{0}h_{1}}^{p_{0}p_{1}}t2_{p_{2}p_{3}}^{h_{2}h_{3}}t2_{p_{4}p_{5}}^{h_{4}h_{5}}v_{h_{6}h_{7}}^{h_{8}h_{9}}t2_{p_{6}p_{7}}^{h_{10}h_{11}}t2_{p_{8}p_{9}}^{h_{12}h_{13}}\n",
      " + -8.138020833333333e-05 * \\Phi_{h_{0}h_{1}}^{p_{0}p_{1}}t2_{p_{2}p_{3}}^{h_{2}h_{3}}t2_{p_{4}p_{5}}^{h_{4}h_{5}}t2_{p_{6}p_{7}}^{h_{6}h_{7}}v_{h_{8}h_{9}}^{h_{10}h_{11}}t2_{p_{8}p_{9}}^{h_{12}h_{13}}\n",
      " + -8.138020833333333e-05 * \\Phi_{h_{0}h_{1}}^{p_{0}p_{1}}t2_{p_{2}p_{3}}^{h_{2}h_{3}}v_{h_{4}h_{5}}^{h_{6}h_{7}}t2_{p_{4}p_{5}}^{h_{8}h_{9}}t2_{p_{6}p_{7}}^{h_{10}h_{11}}t2_{p_{8}p_{9}}^{h_{12}h_{13}}\n",
      " + 8.138020833333333e-05 * \\Phi_{h_{0}h_{1}}^{p_{0}p_{1}}t2_{p_{2}p_{3}}^{h_{2}h_{3}}t2_{p_{4}p_{5}}^{h_{4}h_{5}}v_{h_{6}h_{7}}^{h_{8}h_{9}}t2_{p_{6}p_{7}}^{h_{10}h_{11}}t2_{p_{8}p_{9}}^{h_{12}h_{13}}\n",
      " + 8.138020833333333e-05 * \\Phi_{h_{0}h_{1}}^{p_{0}p_{1}}t2_{p_{2}p_{3}}^{h_{2}h_{3}}t2_{p_{4}p_{5}}^{h_{4}h_{5}}v_{h_{6}h_{7}}^{h_{8}h_{9}}t2_{p_{6}p_{7}}^{h_{10}h_{11}}t2_{p_{8}p_{9}}^{h_{12}h_{13}}\n",
      " + -8.138020833333333e-05 * \\Phi_{h_{0}h_{1}}^{p_{0}p_{1}}t2_{p_{2}p_{3}}^{h_{2}h_{3}}t2_{p_{4}p_{5}}^{h_{4}h_{5}}t2_{p_{6}p_{7}}^{h_{6}h_{7}}v_{h_{8}h_{9}}^{h_{10}h_{11}}t2_{p_{8}p_{9}}^{h_{12}h_{13}}\n",
      " + 8.138020833333333e-05 * \\Phi_{h_{0}h_{1}}^{p_{0}p_{1}}t2_{p_{2}p_{3}}^{h_{2}h_{3}}t2_{p_{4}p_{5}}^{h_{4}h_{5}}v_{h_{6}h_{7}}^{h_{8}h_{9}}t2_{p_{6}p_{7}}^{h_{10}h_{11}}t2_{p_{8}p_{9}}^{h_{12}h_{13}}\n",
      " + -8.138020833333333e-05 * \\Phi_{h_{0}h_{1}}^{p_{0}p_{1}}t2_{p_{2}p_{3}}^{h_{2}h_{3}}t2_{p_{4}p_{5}}^{h_{4}h_{5}}t2_{p_{6}p_{7}}^{h_{6}h_{7}}v_{h_{8}h_{9}}^{h_{10}h_{11}}t2_{p_{8}p_{9}}^{h_{12}h_{13}}\n",
      " + -8.138020833333333e-05 * \\Phi_{h_{0}h_{1}}^{p_{0}p_{1}}t2_{p_{2}p_{3}}^{h_{2}h_{3}}t2_{p_{4}p_{5}}^{h_{4}h_{5}}t2_{p_{6}p_{7}}^{h_{6}h_{7}}v_{h_{8}h_{9}}^{h_{10}h_{11}}t2_{p_{8}p_{9}}^{h_{12}h_{13}}\n",
      " + 8.138020833333333e-05 * \\Phi_{h_{0}h_{1}}^{p_{0}p_{1}}t2_{p_{2}p_{3}}^{h_{2}h_{3}}t2_{p_{4}p_{5}}^{h_{4}h_{5}}t2_{p_{6}p_{7}}^{h_{6}h_{7}}t2_{p_{8}p_{9}}^{h_{8}h_{9}}v_{h_{10}h_{11}}^{h_{12}h_{13}}\n",
      " + 0.5 * \\Phi_{h_{0}h_{1}}^{p_{0}p_{1}}v_{h_{2}p_{2}}^{p_{3}h_{3}}\n",
      " + 0.125 * \\Phi_{h_{0}h_{1}}^{p_{0}p_{1}}v_{h_{2}p_{2}}^{p_{3}h_{3}}t2_{p_{4}p_{5}}^{h_{4}h_{5}}\n",
      " + -0.125 * \\Phi_{h_{0}h_{1}}^{p_{0}p_{1}}t2_{p_{2}p_{3}}^{h_{2}h_{3}}v_{h_{4}p_{4}}^{p_{5}h_{5}}\n",
      " + 0.015625 * \\Phi_{h_{0}h_{1}}^{p_{0}p_{1}}v_{h_{2}p_{2}}^{p_{3}h_{3}}t2_{p_{4}p_{5}}^{h_{4}h_{5}}t2_{p_{6}p_{7}}^{h_{6}h_{7}}\n",
      " + -0.015625 * \\Phi_{h_{0}h_{1}}^{p_{0}p_{1}}t2_{p_{2}p_{3}}^{h_{2}h_{3}}v_{h_{4}p_{4}}^{p_{5}h_{5}}t2_{p_{6}p_{7}}^{h_{6}h_{7}}\n",
      " + -0.015625 * \\Phi_{h_{0}h_{1}}^{p_{0}p_{1}}t2_{p_{2}p_{3}}^{h_{2}h_{3}}v_{h_{4}p_{4}}^{p_{5}h_{5}}t2_{p_{6}p_{7}}^{h_{6}h_{7}}\n",
      " + 0.015625 * \\Phi_{h_{0}h_{1}}^{p_{0}p_{1}}t2_{p_{2}p_{3}}^{h_{2}h_{3}}t2_{p_{4}p_{5}}^{h_{4}h_{5}}v_{h_{6}p_{6}}^{p_{7}h_{7}}\n",
      " + 0.0013020833333333333 * \\Phi_{h_{0}h_{1}}^{p_{0}p_{1}}v_{h_{2}p_{2}}^{p_{3}h_{3}}t2_{p_{4}p_{5}}^{h_{4}h_{5}}t2_{p_{6}p_{7}}^{h_{6}h_{7}}t2_{p_{8}p_{9}}^{h_{8}h_{9}}\n",
      " + -0.0013020833333333333 * \\Phi_{h_{0}h_{1}}^{p_{0}p_{1}}t2_{p_{2}p_{3}}^{h_{2}h_{3}}v_{h_{4}p_{4}}^{p_{5}h_{5}}t2_{p_{6}p_{7}}^{h_{6}h_{7}}t2_{p_{8}p_{9}}^{h_{8}h_{9}}\n",
      " + -0.0013020833333333333 * \\Phi_{h_{0}h_{1}}^{p_{0}p_{1}}t2_{p_{2}p_{3}}^{h_{2}h_{3}}v_{h_{4}p_{4}}^{p_{5}h_{5}}t2_{p_{6}p_{7}}^{h_{6}h_{7}}t2_{p_{8}p_{9}}^{h_{8}h_{9}}\n",
      " + 0.0013020833333333333 * \\Phi_{h_{0}h_{1}}^{p_{0}p_{1}}t2_{p_{2}p_{3}}^{h_{2}h_{3}}t2_{p_{4}p_{5}}^{h_{4}h_{5}}v_{h_{6}p_{6}}^{p_{7}h_{7}}t2_{p_{8}p_{9}}^{h_{8}h_{9}}\n",
      " + -0.0013020833333333333 * \\Phi_{h_{0}h_{1}}^{p_{0}p_{1}}t2_{p_{2}p_{3}}^{h_{2}h_{3}}v_{h_{4}p_{4}}^{p_{5}h_{5}}t2_{p_{6}p_{7}}^{h_{6}h_{7}}t2_{p_{8}p_{9}}^{h_{8}h_{9}}\n",
      " + 0.0013020833333333333 * \\Phi_{h_{0}h_{1}}^{p_{0}p_{1}}t2_{p_{2}p_{3}}^{h_{2}h_{3}}t2_{p_{4}p_{5}}^{h_{4}h_{5}}v_{h_{6}p_{6}}^{p_{7}h_{7}}t2_{p_{8}p_{9}}^{h_{8}h_{9}}\n",
      " + 0.0013020833333333333 * \\Phi_{h_{0}h_{1}}^{p_{0}p_{1}}t2_{p_{2}p_{3}}^{h_{2}h_{3}}t2_{p_{4}p_{5}}^{h_{4}h_{5}}v_{h_{6}p_{6}}^{p_{7}h_{7}}t2_{p_{8}p_{9}}^{h_{8}h_{9}}\n",
      " + -0.0013020833333333333 * \\Phi_{h_{0}h_{1}}^{p_{0}p_{1}}t2_{p_{2}p_{3}}^{h_{2}h_{3}}t2_{p_{4}p_{5}}^{h_{4}h_{5}}t2_{p_{6}p_{7}}^{h_{6}h_{7}}v_{h_{8}p_{8}}^{p_{9}h_{9}}\n",
      " + 8.138020833333333e-05 * \\Phi_{h_{0}h_{1}}^{p_{0}p_{1}}v_{h_{2}p_{2}}^{p_{3}h_{3}}t2_{p_{4}p_{5}}^{h_{4}h_{5}}t2_{p_{6}p_{7}}^{h_{6}h_{7}}t2_{p_{8}p_{9}}^{h_{8}h_{9}}t2_{p_{10}p_{11}}^{h_{10}h_{11}}\n",
      " + -8.138020833333333e-05 * \\Phi_{h_{0}h_{1}}^{p_{0}p_{1}}t2_{p_{2}p_{3}}^{h_{2}h_{3}}v_{h_{4}p_{4}}^{p_{5}h_{5}}t2_{p_{6}p_{7}}^{h_{6}h_{7}}t2_{p_{8}p_{9}}^{h_{8}h_{9}}t2_{p_{10}p_{11}}^{h_{10}h_{11}}\n",
      " + -8.138020833333333e-05 * \\Phi_{h_{0}h_{1}}^{p_{0}p_{1}}t2_{p_{2}p_{3}}^{h_{2}h_{3}}v_{h_{4}p_{4}}^{p_{5}h_{5}}t2_{p_{6}p_{7}}^{h_{6}h_{7}}t2_{p_{8}p_{9}}^{h_{8}h_{9}}t2_{p_{10}p_{11}}^{h_{10}h_{11}}\n",
      " + 8.138020833333333e-05 * \\Phi_{h_{0}h_{1}}^{p_{0}p_{1}}t2_{p_{2}p_{3}}^{h_{2}h_{3}}t2_{p_{4}p_{5}}^{h_{4}h_{5}}v_{h_{6}p_{6}}^{p_{7}h_{7}}t2_{p_{8}p_{9}}^{h_{8}h_{9}}t2_{p_{10}p_{11}}^{h_{10}h_{11}}\n",
      " + -8.138020833333333e-05 * \\Phi_{h_{0}h_{1}}^{p_{0}p_{1}}t2_{p_{2}p_{3}}^{h_{2}h_{3}}v_{h_{4}p_{4}}^{p_{5}h_{5}}t2_{p_{6}p_{7}}^{h_{6}h_{7}}t2_{p_{8}p_{9}}^{h_{8}h_{9}}t2_{p_{10}p_{11}}^{h_{10}h_{11}}\n",
      " + 8.138020833333333e-05 * \\Phi_{h_{0}h_{1}}^{p_{0}p_{1}}t2_{p_{2}p_{3}}^{h_{2}h_{3}}t2_{p_{4}p_{5}}^{h_{4}h_{5}}v_{h_{6}p_{6}}^{p_{7}h_{7}}t2_{p_{8}p_{9}}^{h_{8}h_{9}}t2_{p_{10}p_{11}}^{h_{10}h_{11}}\n",
      " + 8.138020833333333e-05 * \\Phi_{h_{0}h_{1}}^{p_{0}p_{1}}t2_{p_{2}p_{3}}^{h_{2}h_{3}}t2_{p_{4}p_{5}}^{h_{4}h_{5}}v_{h_{6}p_{6}}^{p_{7}h_{7}}t2_{p_{8}p_{9}}^{h_{8}h_{9}}t2_{p_{10}p_{11}}^{h_{10}h_{11}}\n",
      " + -8.138020833333333e-05 * \\Phi_{h_{0}h_{1}}^{p_{0}p_{1}}t2_{p_{2}p_{3}}^{h_{2}h_{3}}t2_{p_{4}p_{5}}^{h_{4}h_{5}}t2_{p_{6}p_{7}}^{h_{6}h_{7}}v_{h_{8}p_{8}}^{p_{9}h_{9}}t2_{p_{10}p_{11}}^{h_{10}h_{11}}\n",
      " + -8.138020833333333e-05 * \\Phi_{h_{0}h_{1}}^{p_{0}p_{1}}t2_{p_{2}p_{3}}^{h_{2}h_{3}}v_{h_{4}p_{4}}^{p_{5}h_{5}}t2_{p_{6}p_{7}}^{h_{6}h_{7}}t2_{p_{8}p_{9}}^{h_{8}h_{9}}t2_{p_{10}p_{11}}^{h_{10}h_{11}}\n",
      " + 8.138020833333333e-05 * \\Phi_{h_{0}h_{1}}^{p_{0}p_{1}}t2_{p_{2}p_{3}}^{h_{2}h_{3}}t2_{p_{4}p_{5}}^{h_{4}h_{5}}v_{h_{6}p_{6}}^{p_{7}h_{7}}t2_{p_{8}p_{9}}^{h_{8}h_{9}}t2_{p_{10}p_{11}}^{h_{10}h_{11}}\n",
      " + 8.138020833333333e-05 * \\Phi_{h_{0}h_{1}}^{p_{0}p_{1}}t2_{p_{2}p_{3}}^{h_{2}h_{3}}t2_{p_{4}p_{5}}^{h_{4}h_{5}}v_{h_{6}p_{6}}^{p_{7}h_{7}}t2_{p_{8}p_{9}}^{h_{8}h_{9}}t2_{p_{10}p_{11}}^{h_{10}h_{11}}\n",
      " + -8.138020833333333e-05 * \\Phi_{h_{0}h_{1}}^{p_{0}p_{1}}t2_{p_{2}p_{3}}^{h_{2}h_{3}}t2_{p_{4}p_{5}}^{h_{4}h_{5}}t2_{p_{6}p_{7}}^{h_{6}h_{7}}v_{h_{8}p_{8}}^{p_{9}h_{9}}t2_{p_{10}p_{11}}^{h_{10}h_{11}}\n",
      " + 8.138020833333333e-05 * \\Phi_{h_{0}h_{1}}^{p_{0}p_{1}}t2_{p_{2}p_{3}}^{h_{2}h_{3}}t2_{p_{4}p_{5}}^{h_{4}h_{5}}v_{h_{6}p_{6}}^{p_{7}h_{7}}t2_{p_{8}p_{9}}^{h_{8}h_{9}}t2_{p_{10}p_{11}}^{h_{10}h_{11}}\n",
      " + -8.138020833333333e-05 * \\Phi_{h_{0}h_{1}}^{p_{0}p_{1}}t2_{p_{2}p_{3}}^{h_{2}h_{3}}t2_{p_{4}p_{5}}^{h_{4}h_{5}}t2_{p_{6}p_{7}}^{h_{6}h_{7}}v_{h_{8}p_{8}}^{p_{9}h_{9}}t2_{p_{10}p_{11}}^{h_{10}h_{11}}\n",
      " + -8.138020833333333e-05 * \\Phi_{h_{0}h_{1}}^{p_{0}p_{1}}t2_{p_{2}p_{3}}^{h_{2}h_{3}}t2_{p_{4}p_{5}}^{h_{4}h_{5}}t2_{p_{6}p_{7}}^{h_{6}h_{7}}v_{h_{8}p_{8}}^{p_{9}h_{9}}t2_{p_{10}p_{11}}^{h_{10}h_{11}}\n",
      " + 8.138020833333333e-05 * \\Phi_{h_{0}h_{1}}^{p_{0}p_{1}}t2_{p_{2}p_{3}}^{h_{2}h_{3}}t2_{p_{4}p_{5}}^{h_{4}h_{5}}t2_{p_{6}p_{7}}^{h_{6}h_{7}}t2_{p_{8}p_{9}}^{h_{8}h_{9}}v_{h_{10}p_{10}}^{p_{11}h_{11}}\n",
      " + 0.5 * \\Phi_{h_{0}h_{1}}^{p_{0}p_{1}}v_{p_{2}h_{2}}^{p_{3}p_{4}}\n",
      " + 0.125 * \\Phi_{h_{0}h_{1}}^{p_{0}p_{1}}v_{p_{2}h_{2}}^{p_{3}p_{4}}t2_{p_{5}p_{6}}^{h_{3}h_{4}}\n",
      " + -0.125 * \\Phi_{h_{0}h_{1}}^{p_{0}p_{1}}t2_{p_{2}p_{3}}^{h_{2}h_{3}}v_{p_{4}h_{4}}^{p_{5}p_{6}}\n",
      " + 0.015625 * \\Phi_{h_{0}h_{1}}^{p_{0}p_{1}}v_{p_{2}h_{2}}^{p_{3}p_{4}}t2_{p_{5}p_{6}}^{h_{3}h_{4}}t2_{p_{7}p_{8}}^{h_{5}h_{6}}\n",
      " + -0.015625 * \\Phi_{h_{0}h_{1}}^{p_{0}p_{1}}t2_{p_{2}p_{3}}^{h_{2}h_{3}}v_{p_{4}h_{4}}^{p_{5}p_{6}}t2_{p_{7}p_{8}}^{h_{5}h_{6}}\n",
      " + -0.015625 * \\Phi_{h_{0}h_{1}}^{p_{0}p_{1}}t2_{p_{2}p_{3}}^{h_{2}h_{3}}v_{p_{4}h_{4}}^{p_{5}p_{6}}t2_{p_{7}p_{8}}^{h_{5}h_{6}}\n",
      " + 0.015625 * \\Phi_{h_{0}h_{1}}^{p_{0}p_{1}}t2_{p_{2}p_{3}}^{h_{2}h_{3}}t2_{p_{4}p_{5}}^{h_{4}h_{5}}v_{p_{6}h_{6}}^{p_{7}p_{8}}\n",
      " + 0.0013020833333333333 * \\Phi_{h_{0}h_{1}}^{p_{0}p_{1}}v_{p_{2}h_{2}}^{p_{3}p_{4}}t2_{p_{5}p_{6}}^{h_{3}h_{4}}t2_{p_{7}p_{8}}^{h_{5}h_{6}}t2_{p_{9}p_{10}}^{h_{7}h_{8}}\n",
      " + -0.0013020833333333333 * \\Phi_{h_{0}h_{1}}^{p_{0}p_{1}}t2_{p_{2}p_{3}}^{h_{2}h_{3}}v_{p_{4}h_{4}}^{p_{5}p_{6}}t2_{p_{7}p_{8}}^{h_{5}h_{6}}t2_{p_{9}p_{10}}^{h_{7}h_{8}}\n",
      " + -0.0013020833333333333 * \\Phi_{h_{0}h_{1}}^{p_{0}p_{1}}t2_{p_{2}p_{3}}^{h_{2}h_{3}}v_{p_{4}h_{4}}^{p_{5}p_{6}}t2_{p_{7}p_{8}}^{h_{5}h_{6}}t2_{p_{9}p_{10}}^{h_{7}h_{8}}\n",
      " + 0.0013020833333333333 * \\Phi_{h_{0}h_{1}}^{p_{0}p_{1}}t2_{p_{2}p_{3}}^{h_{2}h_{3}}t2_{p_{4}p_{5}}^{h_{4}h_{5}}v_{p_{6}h_{6}}^{p_{7}p_{8}}t2_{p_{9}p_{10}}^{h_{7}h_{8}}\n",
      " + -0.0013020833333333333 * \\Phi_{h_{0}h_{1}}^{p_{0}p_{1}}t2_{p_{2}p_{3}}^{h_{2}h_{3}}v_{p_{4}h_{4}}^{p_{5}p_{6}}t2_{p_{7}p_{8}}^{h_{5}h_{6}}t2_{p_{9}p_{10}}^{h_{7}h_{8}}\n",
      " + 0.0013020833333333333 * \\Phi_{h_{0}h_{1}}^{p_{0}p_{1}}t2_{p_{2}p_{3}}^{h_{2}h_{3}}t2_{p_{4}p_{5}}^{h_{4}h_{5}}v_{p_{6}h_{6}}^{p_{7}p_{8}}t2_{p_{9}p_{10}}^{h_{7}h_{8}}\n",
      " + 0.0013020833333333333 * \\Phi_{h_{0}h_{1}}^{p_{0}p_{1}}t2_{p_{2}p_{3}}^{h_{2}h_{3}}t2_{p_{4}p_{5}}^{h_{4}h_{5}}v_{p_{6}h_{6}}^{p_{7}p_{8}}t2_{p_{9}p_{10}}^{h_{7}h_{8}}\n",
      " + -0.0013020833333333333 * \\Phi_{h_{0}h_{1}}^{p_{0}p_{1}}t2_{p_{2}p_{3}}^{h_{2}h_{3}}t2_{p_{4}p_{5}}^{h_{4}h_{5}}t2_{p_{6}p_{7}}^{h_{6}h_{7}}v_{p_{8}h_{8}}^{p_{9}p_{10}}\n",
      " + 8.138020833333333e-05 * \\Phi_{h_{0}h_{1}}^{p_{0}p_{1}}v_{p_{2}h_{2}}^{p_{3}p_{4}}t2_{p_{5}p_{6}}^{h_{3}h_{4}}t2_{p_{7}p_{8}}^{h_{5}h_{6}}t2_{p_{9}p_{10}}^{h_{7}h_{8}}t2_{p_{11}p_{12}}^{h_{9}h_{10}}\n",
      " + -8.138020833333333e-05 * \\Phi_{h_{0}h_{1}}^{p_{0}p_{1}}t2_{p_{2}p_{3}}^{h_{2}h_{3}}v_{p_{4}h_{4}}^{p_{5}p_{6}}t2_{p_{7}p_{8}}^{h_{5}h_{6}}t2_{p_{9}p_{10}}^{h_{7}h_{8}}t2_{p_{11}p_{12}}^{h_{9}h_{10}}\n",
      " + -8.138020833333333e-05 * \\Phi_{h_{0}h_{1}}^{p_{0}p_{1}}t2_{p_{2}p_{3}}^{h_{2}h_{3}}v_{p_{4}h_{4}}^{p_{5}p_{6}}t2_{p_{7}p_{8}}^{h_{5}h_{6}}t2_{p_{9}p_{10}}^{h_{7}h_{8}}t2_{p_{11}p_{12}}^{h_{9}h_{10}}\n",
      " + 8.138020833333333e-05 * \\Phi_{h_{0}h_{1}}^{p_{0}p_{1}}t2_{p_{2}p_{3}}^{h_{2}h_{3}}t2_{p_{4}p_{5}}^{h_{4}h_{5}}v_{p_{6}h_{6}}^{p_{7}p_{8}}t2_{p_{9}p_{10}}^{h_{7}h_{8}}t2_{p_{11}p_{12}}^{h_{9}h_{10}}\n",
      " + -8.138020833333333e-05 * \\Phi_{h_{0}h_{1}}^{p_{0}p_{1}}t2_{p_{2}p_{3}}^{h_{2}h_{3}}v_{p_{4}h_{4}}^{p_{5}p_{6}}t2_{p_{7}p_{8}}^{h_{5}h_{6}}t2_{p_{9}p_{10}}^{h_{7}h_{8}}t2_{p_{11}p_{12}}^{h_{9}h_{10}}\n",
      " + 8.138020833333333e-05 * \\Phi_{h_{0}h_{1}}^{p_{0}p_{1}}t2_{p_{2}p_{3}}^{h_{2}h_{3}}t2_{p_{4}p_{5}}^{h_{4}h_{5}}v_{p_{6}h_{6}}^{p_{7}p_{8}}t2_{p_{9}p_{10}}^{h_{7}h_{8}}t2_{p_{11}p_{12}}^{h_{9}h_{10}}\n",
      " + 8.138020833333333e-05 * \\Phi_{h_{0}h_{1}}^{p_{0}p_{1}}t2_{p_{2}p_{3}}^{h_{2}h_{3}}t2_{p_{4}p_{5}}^{h_{4}h_{5}}v_{p_{6}h_{6}}^{p_{7}p_{8}}t2_{p_{9}p_{10}}^{h_{7}h_{8}}t2_{p_{11}p_{12}}^{h_{9}h_{10}}\n",
      " + -8.138020833333333e-05 * \\Phi_{h_{0}h_{1}}^{p_{0}p_{1}}t2_{p_{2}p_{3}}^{h_{2}h_{3}}t2_{p_{4}p_{5}}^{h_{4}h_{5}}t2_{p_{6}p_{7}}^{h_{6}h_{7}}v_{p_{8}h_{8}}^{p_{9}p_{10}}t2_{p_{11}p_{12}}^{h_{9}h_{10}}\n",
      " + -8.138020833333333e-05 * \\Phi_{h_{0}h_{1}}^{p_{0}p_{1}}t2_{p_{2}p_{3}}^{h_{2}h_{3}}v_{p_{4}h_{4}}^{p_{5}p_{6}}t2_{p_{7}p_{8}}^{h_{5}h_{6}}t2_{p_{9}p_{10}}^{h_{7}h_{8}}t2_{p_{11}p_{12}}^{h_{9}h_{10}}\n",
      " + 8.138020833333333e-05 * \\Phi_{h_{0}h_{1}}^{p_{0}p_{1}}t2_{p_{2}p_{3}}^{h_{2}h_{3}}t2_{p_{4}p_{5}}^{h_{4}h_{5}}v_{p_{6}h_{6}}^{p_{7}p_{8}}t2_{p_{9}p_{10}}^{h_{7}h_{8}}t2_{p_{11}p_{12}}^{h_{9}h_{10}}\n",
      " + 8.138020833333333e-05 * \\Phi_{h_{0}h_{1}}^{p_{0}p_{1}}t2_{p_{2}p_{3}}^{h_{2}h_{3}}t2_{p_{4}p_{5}}^{h_{4}h_{5}}v_{p_{6}h_{6}}^{p_{7}p_{8}}t2_{p_{9}p_{10}}^{h_{7}h_{8}}t2_{p_{11}p_{12}}^{h_{9}h_{10}}\n",
      " + -8.138020833333333e-05 * \\Phi_{h_{0}h_{1}}^{p_{0}p_{1}}t2_{p_{2}p_{3}}^{h_{2}h_{3}}t2_{p_{4}p_{5}}^{h_{4}h_{5}}t2_{p_{6}p_{7}}^{h_{6}h_{7}}v_{p_{8}h_{8}}^{p_{9}p_{10}}t2_{p_{11}p_{12}}^{h_{9}h_{10}}\n",
      " + 8.138020833333333e-05 * \\Phi_{h_{0}h_{1}}^{p_{0}p_{1}}t2_{p_{2}p_{3}}^{h_{2}h_{3}}t2_{p_{4}p_{5}}^{h_{4}h_{5}}v_{p_{6}h_{6}}^{p_{7}p_{8}}t2_{p_{9}p_{10}}^{h_{7}h_{8}}t2_{p_{11}p_{12}}^{h_{9}h_{10}}\n",
      " + -8.138020833333333e-05 * \\Phi_{h_{0}h_{1}}^{p_{0}p_{1}}t2_{p_{2}p_{3}}^{h_{2}h_{3}}t2_{p_{4}p_{5}}^{h_{4}h_{5}}t2_{p_{6}p_{7}}^{h_{6}h_{7}}v_{p_{8}h_{8}}^{p_{9}p_{10}}t2_{p_{11}p_{12}}^{h_{9}h_{10}}\n",
      " + -8.138020833333333e-05 * \\Phi_{h_{0}h_{1}}^{p_{0}p_{1}}t2_{p_{2}p_{3}}^{h_{2}h_{3}}t2_{p_{4}p_{5}}^{h_{4}h_{5}}t2_{p_{6}p_{7}}^{h_{6}h_{7}}v_{p_{8}h_{8}}^{p_{9}p_{10}}t2_{p_{11}p_{12}}^{h_{9}h_{10}}\n",
      " + 8.138020833333333e-05 * \\Phi_{h_{0}h_{1}}^{p_{0}p_{1}}t2_{p_{2}p_{3}}^{h_{2}h_{3}}t2_{p_{4}p_{5}}^{h_{4}h_{5}}t2_{p_{6}p_{7}}^{h_{6}h_{7}}t2_{p_{8}p_{9}}^{h_{8}h_{9}}v_{p_{10}h_{10}}^{p_{11}p_{12}}\n",
      " + 0.5 * \\Phi_{h_{0}h_{1}}^{p_{0}p_{1}}v_{h_{2}h_{3}}^{h_{4}p_{2}}\n",
      " + 0.125 * \\Phi_{h_{0}h_{1}}^{p_{0}p_{1}}v_{h_{2}h_{3}}^{h_{4}p_{2}}t2_{p_{3}p_{4}}^{h_{5}h_{6}}\n",
      " + -0.125 * \\Phi_{h_{0}h_{1}}^{p_{0}p_{1}}t2_{p_{2}p_{3}}^{h_{2}h_{3}}v_{h_{4}h_{5}}^{h_{6}p_{4}}\n",
      " + 0.015625 * \\Phi_{h_{0}h_{1}}^{p_{0}p_{1}}v_{h_{2}h_{3}}^{h_{4}p_{2}}t2_{p_{3}p_{4}}^{h_{5}h_{6}}t2_{p_{5}p_{6}}^{h_{7}h_{8}}\n",
      " + -0.015625 * \\Phi_{h_{0}h_{1}}^{p_{0}p_{1}}t2_{p_{2}p_{3}}^{h_{2}h_{3}}v_{h_{4}h_{5}}^{h_{6}p_{4}}t2_{p_{5}p_{6}}^{h_{7}h_{8}}\n",
      " + -0.015625 * \\Phi_{h_{0}h_{1}}^{p_{0}p_{1}}t2_{p_{2}p_{3}}^{h_{2}h_{3}}v_{h_{4}h_{5}}^{h_{6}p_{4}}t2_{p_{5}p_{6}}^{h_{7}h_{8}}\n",
      " + 0.015625 * \\Phi_{h_{0}h_{1}}^{p_{0}p_{1}}t2_{p_{2}p_{3}}^{h_{2}h_{3}}t2_{p_{4}p_{5}}^{h_{4}h_{5}}v_{h_{6}h_{7}}^{h_{8}p_{6}}\n",
      " + 0.0013020833333333333 * \\Phi_{h_{0}h_{1}}^{p_{0}p_{1}}v_{h_{2}h_{3}}^{h_{4}p_{2}}t2_{p_{3}p_{4}}^{h_{5}h_{6}}t2_{p_{5}p_{6}}^{h_{7}h_{8}}t2_{p_{7}p_{8}}^{h_{9}h_{10}}\n",
      " + -0.0013020833333333333 * \\Phi_{h_{0}h_{1}}^{p_{0}p_{1}}t2_{p_{2}p_{3}}^{h_{2}h_{3}}v_{h_{4}h_{5}}^{h_{6}p_{4}}t2_{p_{5}p_{6}}^{h_{7}h_{8}}t2_{p_{7}p_{8}}^{h_{9}h_{10}}\n",
      " + -0.0013020833333333333 * \\Phi_{h_{0}h_{1}}^{p_{0}p_{1}}t2_{p_{2}p_{3}}^{h_{2}h_{3}}v_{h_{4}h_{5}}^{h_{6}p_{4}}t2_{p_{5}p_{6}}^{h_{7}h_{8}}t2_{p_{7}p_{8}}^{h_{9}h_{10}}\n",
      " + 0.0013020833333333333 * \\Phi_{h_{0}h_{1}}^{p_{0}p_{1}}t2_{p_{2}p_{3}}^{h_{2}h_{3}}t2_{p_{4}p_{5}}^{h_{4}h_{5}}v_{h_{6}h_{7}}^{h_{8}p_{6}}t2_{p_{7}p_{8}}^{h_{9}h_{10}}\n",
      " + -0.0013020833333333333 * \\Phi_{h_{0}h_{1}}^{p_{0}p_{1}}t2_{p_{2}p_{3}}^{h_{2}h_{3}}v_{h_{4}h_{5}}^{h_{6}p_{4}}t2_{p_{5}p_{6}}^{h_{7}h_{8}}t2_{p_{7}p_{8}}^{h_{9}h_{10}}\n",
      " + 0.0013020833333333333 * \\Phi_{h_{0}h_{1}}^{p_{0}p_{1}}t2_{p_{2}p_{3}}^{h_{2}h_{3}}t2_{p_{4}p_{5}}^{h_{4}h_{5}}v_{h_{6}h_{7}}^{h_{8}p_{6}}t2_{p_{7}p_{8}}^{h_{9}h_{10}}\n",
      " + 0.0013020833333333333 * \\Phi_{h_{0}h_{1}}^{p_{0}p_{1}}t2_{p_{2}p_{3}}^{h_{2}h_{3}}t2_{p_{4}p_{5}}^{h_{4}h_{5}}v_{h_{6}h_{7}}^{h_{8}p_{6}}t2_{p_{7}p_{8}}^{h_{9}h_{10}}\n",
      " + -0.0013020833333333333 * \\Phi_{h_{0}h_{1}}^{p_{0}p_{1}}t2_{p_{2}p_{3}}^{h_{2}h_{3}}t2_{p_{4}p_{5}}^{h_{4}h_{5}}t2_{p_{6}p_{7}}^{h_{6}h_{7}}v_{h_{8}h_{9}}^{h_{10}p_{8}}\n",
      " + 8.138020833333333e-05 * \\Phi_{h_{0}h_{1}}^{p_{0}p_{1}}v_{h_{2}h_{3}}^{h_{4}p_{2}}t2_{p_{3}p_{4}}^{h_{5}h_{6}}t2_{p_{5}p_{6}}^{h_{7}h_{8}}t2_{p_{7}p_{8}}^{h_{9}h_{10}}t2_{p_{9}p_{10}}^{h_{11}h_{12}}\n",
      " + -8.138020833333333e-05 * \\Phi_{h_{0}h_{1}}^{p_{0}p_{1}}t2_{p_{2}p_{3}}^{h_{2}h_{3}}v_{h_{4}h_{5}}^{h_{6}p_{4}}t2_{p_{5}p_{6}}^{h_{7}h_{8}}t2_{p_{7}p_{8}}^{h_{9}h_{10}}t2_{p_{9}p_{10}}^{h_{11}h_{12}}\n",
      " + -8.138020833333333e-05 * \\Phi_{h_{0}h_{1}}^{p_{0}p_{1}}t2_{p_{2}p_{3}}^{h_{2}h_{3}}v_{h_{4}h_{5}}^{h_{6}p_{4}}t2_{p_{5}p_{6}}^{h_{7}h_{8}}t2_{p_{7}p_{8}}^{h_{9}h_{10}}t2_{p_{9}p_{10}}^{h_{11}h_{12}}\n",
      " + 8.138020833333333e-05 * \\Phi_{h_{0}h_{1}}^{p_{0}p_{1}}t2_{p_{2}p_{3}}^{h_{2}h_{3}}t2_{p_{4}p_{5}}^{h_{4}h_{5}}v_{h_{6}h_{7}}^{h_{8}p_{6}}t2_{p_{7}p_{8}}^{h_{9}h_{10}}t2_{p_{9}p_{10}}^{h_{11}h_{12}}\n",
      " + -8.138020833333333e-05 * \\Phi_{h_{0}h_{1}}^{p_{0}p_{1}}t2_{p_{2}p_{3}}^{h_{2}h_{3}}v_{h_{4}h_{5}}^{h_{6}p_{4}}t2_{p_{5}p_{6}}^{h_{7}h_{8}}t2_{p_{7}p_{8}}^{h_{9}h_{10}}t2_{p_{9}p_{10}}^{h_{11}h_{12}}\n",
      " + 8.138020833333333e-05 * \\Phi_{h_{0}h_{1}}^{p_{0}p_{1}}t2_{p_{2}p_{3}}^{h_{2}h_{3}}t2_{p_{4}p_{5}}^{h_{4}h_{5}}v_{h_{6}h_{7}}^{h_{8}p_{6}}t2_{p_{7}p_{8}}^{h_{9}h_{10}}t2_{p_{9}p_{10}}^{h_{11}h_{12}}\n",
      " + 8.138020833333333e-05 * \\Phi_{h_{0}h_{1}}^{p_{0}p_{1}}t2_{p_{2}p_{3}}^{h_{2}h_{3}}t2_{p_{4}p_{5}}^{h_{4}h_{5}}v_{h_{6}h_{7}}^{h_{8}p_{6}}t2_{p_{7}p_{8}}^{h_{9}h_{10}}t2_{p_{9}p_{10}}^{h_{11}h_{12}}\n",
      " + -8.138020833333333e-05 * \\Phi_{h_{0}h_{1}}^{p_{0}p_{1}}t2_{p_{2}p_{3}}^{h_{2}h_{3}}t2_{p_{4}p_{5}}^{h_{4}h_{5}}t2_{p_{6}p_{7}}^{h_{6}h_{7}}v_{h_{8}h_{9}}^{h_{10}p_{8}}t2_{p_{9}p_{10}}^{h_{11}h_{12}}\n",
      " + -8.138020833333333e-05 * \\Phi_{h_{0}h_{1}}^{p_{0}p_{1}}t2_{p_{2}p_{3}}^{h_{2}h_{3}}v_{h_{4}h_{5}}^{h_{6}p_{4}}t2_{p_{5}p_{6}}^{h_{7}h_{8}}t2_{p_{7}p_{8}}^{h_{9}h_{10}}t2_{p_{9}p_{10}}^{h_{11}h_{12}}\n",
      " + 8.138020833333333e-05 * \\Phi_{h_{0}h_{1}}^{p_{0}p_{1}}t2_{p_{2}p_{3}}^{h_{2}h_{3}}t2_{p_{4}p_{5}}^{h_{4}h_{5}}v_{h_{6}h_{7}}^{h_{8}p_{6}}t2_{p_{7}p_{8}}^{h_{9}h_{10}}t2_{p_{9}p_{10}}^{h_{11}h_{12}}\n",
      " + 8.138020833333333e-05 * \\Phi_{h_{0}h_{1}}^{p_{0}p_{1}}t2_{p_{2}p_{3}}^{h_{2}h_{3}}t2_{p_{4}p_{5}}^{h_{4}h_{5}}v_{h_{6}h_{7}}^{h_{8}p_{6}}t2_{p_{7}p_{8}}^{h_{9}h_{10}}t2_{p_{9}p_{10}}^{h_{11}h_{12}}\n",
      " + -8.138020833333333e-05 * \\Phi_{h_{0}h_{1}}^{p_{0}p_{1}}t2_{p_{2}p_{3}}^{h_{2}h_{3}}t2_{p_{4}p_{5}}^{h_{4}h_{5}}t2_{p_{6}p_{7}}^{h_{6}h_{7}}v_{h_{8}h_{9}}^{h_{10}p_{8}}t2_{p_{9}p_{10}}^{h_{11}h_{12}}\n",
      " + 8.138020833333333e-05 * \\Phi_{h_{0}h_{1}}^{p_{0}p_{1}}t2_{p_{2}p_{3}}^{h_{2}h_{3}}t2_{p_{4}p_{5}}^{h_{4}h_{5}}v_{h_{6}h_{7}}^{h_{8}p_{6}}t2_{p_{7}p_{8}}^{h_{9}h_{10}}t2_{p_{9}p_{10}}^{h_{11}h_{12}}\n",
      " + -8.138020833333333e-05 * \\Phi_{h_{0}h_{1}}^{p_{0}p_{1}}t2_{p_{2}p_{3}}^{h_{2}h_{3}}t2_{p_{4}p_{5}}^{h_{4}h_{5}}t2_{p_{6}p_{7}}^{h_{6}h_{7}}v_{h_{8}h_{9}}^{h_{10}p_{8}}t2_{p_{9}p_{10}}^{h_{11}h_{12}}\n",
      " + -8.138020833333333e-05 * \\Phi_{h_{0}h_{1}}^{p_{0}p_{1}}t2_{p_{2}p_{3}}^{h_{2}h_{3}}t2_{p_{4}p_{5}}^{h_{4}h_{5}}t2_{p_{6}p_{7}}^{h_{6}h_{7}}v_{h_{8}h_{9}}^{h_{10}p_{8}}t2_{p_{9}p_{10}}^{h_{11}h_{12}}\n",
      " + 8.138020833333333e-05 * \\Phi_{h_{0}h_{1}}^{p_{0}p_{1}}t2_{p_{2}p_{3}}^{h_{2}h_{3}}t2_{p_{4}p_{5}}^{h_{4}h_{5}}t2_{p_{6}p_{7}}^{h_{6}h_{7}}t2_{p_{8}p_{9}}^{h_{8}h_{9}}v_{h_{10}h_{11}}^{h_{12}p_{10}}\n",
      " + 0.5 * \\Phi_{h_{0}h_{1}}^{p_{0}p_{1}}v_{p_{2}p_{3}}^{p_{4}h_{2}}\n",
      " + 0.125 * \\Phi_{h_{0}h_{1}}^{p_{0}p_{1}}v_{p_{2}p_{3}}^{p_{4}h_{2}}t2_{p_{5}p_{6}}^{h_{3}h_{4}}\n",
      " + -0.125 * \\Phi_{h_{0}h_{1}}^{p_{0}p_{1}}t2_{p_{2}p_{3}}^{h_{2}h_{3}}v_{p_{4}p_{5}}^{p_{6}h_{4}}\n",
      " + 0.015625 * \\Phi_{h_{0}h_{1}}^{p_{0}p_{1}}v_{p_{2}p_{3}}^{p_{4}h_{2}}t2_{p_{5}p_{6}}^{h_{3}h_{4}}t2_{p_{7}p_{8}}^{h_{5}h_{6}}\n",
      " + -0.015625 * \\Phi_{h_{0}h_{1}}^{p_{0}p_{1}}t2_{p_{2}p_{3}}^{h_{2}h_{3}}v_{p_{4}p_{5}}^{p_{6}h_{4}}t2_{p_{7}p_{8}}^{h_{5}h_{6}}\n",
      " + -0.015625 * \\Phi_{h_{0}h_{1}}^{p_{0}p_{1}}t2_{p_{2}p_{3}}^{h_{2}h_{3}}v_{p_{4}p_{5}}^{p_{6}h_{4}}t2_{p_{7}p_{8}}^{h_{5}h_{6}}\n",
      " + 0.015625 * \\Phi_{h_{0}h_{1}}^{p_{0}p_{1}}t2_{p_{2}p_{3}}^{h_{2}h_{3}}t2_{p_{4}p_{5}}^{h_{4}h_{5}}v_{p_{6}p_{7}}^{p_{8}h_{6}}\n",
      " + 0.0013020833333333333 * \\Phi_{h_{0}h_{1}}^{p_{0}p_{1}}v_{p_{2}p_{3}}^{p_{4}h_{2}}t2_{p_{5}p_{6}}^{h_{3}h_{4}}t2_{p_{7}p_{8}}^{h_{5}h_{6}}t2_{p_{9}p_{10}}^{h_{7}h_{8}}\n",
      " + -0.0013020833333333333 * \\Phi_{h_{0}h_{1}}^{p_{0}p_{1}}t2_{p_{2}p_{3}}^{h_{2}h_{3}}v_{p_{4}p_{5}}^{p_{6}h_{4}}t2_{p_{7}p_{8}}^{h_{5}h_{6}}t2_{p_{9}p_{10}}^{h_{7}h_{8}}\n",
      " + -0.0013020833333333333 * \\Phi_{h_{0}h_{1}}^{p_{0}p_{1}}t2_{p_{2}p_{3}}^{h_{2}h_{3}}v_{p_{4}p_{5}}^{p_{6}h_{4}}t2_{p_{7}p_{8}}^{h_{5}h_{6}}t2_{p_{9}p_{10}}^{h_{7}h_{8}}\n",
      " + 0.0013020833333333333 * \\Phi_{h_{0}h_{1}}^{p_{0}p_{1}}t2_{p_{2}p_{3}}^{h_{2}h_{3}}t2_{p_{4}p_{5}}^{h_{4}h_{5}}v_{p_{6}p_{7}}^{p_{8}h_{6}}t2_{p_{9}p_{10}}^{h_{7}h_{8}}\n",
      " + -0.0013020833333333333 * \\Phi_{h_{0}h_{1}}^{p_{0}p_{1}}t2_{p_{2}p_{3}}^{h_{2}h_{3}}v_{p_{4}p_{5}}^{p_{6}h_{4}}t2_{p_{7}p_{8}}^{h_{5}h_{6}}t2_{p_{9}p_{10}}^{h_{7}h_{8}}\n",
      " + 0.0013020833333333333 * \\Phi_{h_{0}h_{1}}^{p_{0}p_{1}}t2_{p_{2}p_{3}}^{h_{2}h_{3}}t2_{p_{4}p_{5}}^{h_{4}h_{5}}v_{p_{6}p_{7}}^{p_{8}h_{6}}t2_{p_{9}p_{10}}^{h_{7}h_{8}}\n",
      " + 0.0013020833333333333 * \\Phi_{h_{0}h_{1}}^{p_{0}p_{1}}t2_{p_{2}p_{3}}^{h_{2}h_{3}}t2_{p_{4}p_{5}}^{h_{4}h_{5}}v_{p_{6}p_{7}}^{p_{8}h_{6}}t2_{p_{9}p_{10}}^{h_{7}h_{8}}\n",
      " + -0.0013020833333333333 * \\Phi_{h_{0}h_{1}}^{p_{0}p_{1}}t2_{p_{2}p_{3}}^{h_{2}h_{3}}t2_{p_{4}p_{5}}^{h_{4}h_{5}}t2_{p_{6}p_{7}}^{h_{6}h_{7}}v_{p_{8}p_{9}}^{p_{10}h_{8}}\n",
      " + 8.138020833333333e-05 * \\Phi_{h_{0}h_{1}}^{p_{0}p_{1}}v_{p_{2}p_{3}}^{p_{4}h_{2}}t2_{p_{5}p_{6}}^{h_{3}h_{4}}t2_{p_{7}p_{8}}^{h_{5}h_{6}}t2_{p_{9}p_{10}}^{h_{7}h_{8}}t2_{p_{11}p_{12}}^{h_{9}h_{10}}\n",
      " + -8.138020833333333e-05 * \\Phi_{h_{0}h_{1}}^{p_{0}p_{1}}t2_{p_{2}p_{3}}^{h_{2}h_{3}}v_{p_{4}p_{5}}^{p_{6}h_{4}}t2_{p_{7}p_{8}}^{h_{5}h_{6}}t2_{p_{9}p_{10}}^{h_{7}h_{8}}t2_{p_{11}p_{12}}^{h_{9}h_{10}}\n",
      " + -8.138020833333333e-05 * \\Phi_{h_{0}h_{1}}^{p_{0}p_{1}}t2_{p_{2}p_{3}}^{h_{2}h_{3}}v_{p_{4}p_{5}}^{p_{6}h_{4}}t2_{p_{7}p_{8}}^{h_{5}h_{6}}t2_{p_{9}p_{10}}^{h_{7}h_{8}}t2_{p_{11}p_{12}}^{h_{9}h_{10}}\n",
      " + 8.138020833333333e-05 * \\Phi_{h_{0}h_{1}}^{p_{0}p_{1}}t2_{p_{2}p_{3}}^{h_{2}h_{3}}t2_{p_{4}p_{5}}^{h_{4}h_{5}}v_{p_{6}p_{7}}^{p_{8}h_{6}}t2_{p_{9}p_{10}}^{h_{7}h_{8}}t2_{p_{11}p_{12}}^{h_{9}h_{10}}\n",
      " + -8.138020833333333e-05 * \\Phi_{h_{0}h_{1}}^{p_{0}p_{1}}t2_{p_{2}p_{3}}^{h_{2}h_{3}}v_{p_{4}p_{5}}^{p_{6}h_{4}}t2_{p_{7}p_{8}}^{h_{5}h_{6}}t2_{p_{9}p_{10}}^{h_{7}h_{8}}t2_{p_{11}p_{12}}^{h_{9}h_{10}}\n",
      " + 8.138020833333333e-05 * \\Phi_{h_{0}h_{1}}^{p_{0}p_{1}}t2_{p_{2}p_{3}}^{h_{2}h_{3}}t2_{p_{4}p_{5}}^{h_{4}h_{5}}v_{p_{6}p_{7}}^{p_{8}h_{6}}t2_{p_{9}p_{10}}^{h_{7}h_{8}}t2_{p_{11}p_{12}}^{h_{9}h_{10}}\n",
      " + 8.138020833333333e-05 * \\Phi_{h_{0}h_{1}}^{p_{0}p_{1}}t2_{p_{2}p_{3}}^{h_{2}h_{3}}t2_{p_{4}p_{5}}^{h_{4}h_{5}}v_{p_{6}p_{7}}^{p_{8}h_{6}}t2_{p_{9}p_{10}}^{h_{7}h_{8}}t2_{p_{11}p_{12}}^{h_{9}h_{10}}\n",
      " + -8.138020833333333e-05 * \\Phi_{h_{0}h_{1}}^{p_{0}p_{1}}t2_{p_{2}p_{3}}^{h_{2}h_{3}}t2_{p_{4}p_{5}}^{h_{4}h_{5}}t2_{p_{6}p_{7}}^{h_{6}h_{7}}v_{p_{8}p_{9}}^{p_{10}h_{8}}t2_{p_{11}p_{12}}^{h_{9}h_{10}}\n",
      " + -8.138020833333333e-05 * \\Phi_{h_{0}h_{1}}^{p_{0}p_{1}}t2_{p_{2}p_{3}}^{h_{2}h_{3}}v_{p_{4}p_{5}}^{p_{6}h_{4}}t2_{p_{7}p_{8}}^{h_{5}h_{6}}t2_{p_{9}p_{10}}^{h_{7}h_{8}}t2_{p_{11}p_{12}}^{h_{9}h_{10}}\n",
      " + 8.138020833333333e-05 * \\Phi_{h_{0}h_{1}}^{p_{0}p_{1}}t2_{p_{2}p_{3}}^{h_{2}h_{3}}t2_{p_{4}p_{5}}^{h_{4}h_{5}}v_{p_{6}p_{7}}^{p_{8}h_{6}}t2_{p_{9}p_{10}}^{h_{7}h_{8}}t2_{p_{11}p_{12}}^{h_{9}h_{10}}\n",
      " + 8.138020833333333e-05 * \\Phi_{h_{0}h_{1}}^{p_{0}p_{1}}t2_{p_{2}p_{3}}^{h_{2}h_{3}}t2_{p_{4}p_{5}}^{h_{4}h_{5}}v_{p_{6}p_{7}}^{p_{8}h_{6}}t2_{p_{9}p_{10}}^{h_{7}h_{8}}t2_{p_{11}p_{12}}^{h_{9}h_{10}}\n",
      " + -8.138020833333333e-05 * \\Phi_{h_{0}h_{1}}^{p_{0}p_{1}}t2_{p_{2}p_{3}}^{h_{2}h_{3}}t2_{p_{4}p_{5}}^{h_{4}h_{5}}t2_{p_{6}p_{7}}^{h_{6}h_{7}}v_{p_{8}p_{9}}^{p_{10}h_{8}}t2_{p_{11}p_{12}}^{h_{9}h_{10}}\n",
      " + 8.138020833333333e-05 * \\Phi_{h_{0}h_{1}}^{p_{0}p_{1}}t2_{p_{2}p_{3}}^{h_{2}h_{3}}t2_{p_{4}p_{5}}^{h_{4}h_{5}}v_{p_{6}p_{7}}^{p_{8}h_{6}}t2_{p_{9}p_{10}}^{h_{7}h_{8}}t2_{p_{11}p_{12}}^{h_{9}h_{10}}\n",
      " + -8.138020833333333e-05 * \\Phi_{h_{0}h_{1}}^{p_{0}p_{1}}t2_{p_{2}p_{3}}^{h_{2}h_{3}}t2_{p_{4}p_{5}}^{h_{4}h_{5}}t2_{p_{6}p_{7}}^{h_{6}h_{7}}v_{p_{8}p_{9}}^{p_{10}h_{8}}t2_{p_{11}p_{12}}^{h_{9}h_{10}}\n",
      " + -8.138020833333333e-05 * \\Phi_{h_{0}h_{1}}^{p_{0}p_{1}}t2_{p_{2}p_{3}}^{h_{2}h_{3}}t2_{p_{4}p_{5}}^{h_{4}h_{5}}t2_{p_{6}p_{7}}^{h_{6}h_{7}}v_{p_{8}p_{9}}^{p_{10}h_{8}}t2_{p_{11}p_{12}}^{h_{9}h_{10}}\n",
      " + 8.138020833333333e-05 * \\Phi_{h_{0}h_{1}}^{p_{0}p_{1}}t2_{p_{2}p_{3}}^{h_{2}h_{3}}t2_{p_{4}p_{5}}^{h_{4}h_{5}}t2_{p_{6}p_{7}}^{h_{6}h_{7}}t2_{p_{8}p_{9}}^{h_{8}h_{9}}v_{p_{10}p_{11}}^{p_{12}h_{10}}\n",
      " + 0.5 * \\Phi_{h_{0}h_{1}}^{p_{0}p_{1}}v_{h_{2}p_{2}}^{h_{3}h_{4}}\n",
      " + 0.125 * \\Phi_{h_{0}h_{1}}^{p_{0}p_{1}}v_{h_{2}p_{2}}^{h_{3}h_{4}}t2_{p_{3}p_{4}}^{h_{5}h_{6}}\n",
      " + -0.125 * \\Phi_{h_{0}h_{1}}^{p_{0}p_{1}}t2_{p_{2}p_{3}}^{h_{2}h_{3}}v_{h_{4}p_{4}}^{h_{5}h_{6}}\n",
      " + 0.015625 * \\Phi_{h_{0}h_{1}}^{p_{0}p_{1}}v_{h_{2}p_{2}}^{h_{3}h_{4}}t2_{p_{3}p_{4}}^{h_{5}h_{6}}t2_{p_{5}p_{6}}^{h_{7}h_{8}}\n",
      " + -0.015625 * \\Phi_{h_{0}h_{1}}^{p_{0}p_{1}}t2_{p_{2}p_{3}}^{h_{2}h_{3}}v_{h_{4}p_{4}}^{h_{5}h_{6}}t2_{p_{5}p_{6}}^{h_{7}h_{8}}\n",
      " + -0.015625 * \\Phi_{h_{0}h_{1}}^{p_{0}p_{1}}t2_{p_{2}p_{3}}^{h_{2}h_{3}}v_{h_{4}p_{4}}^{h_{5}h_{6}}t2_{p_{5}p_{6}}^{h_{7}h_{8}}\n",
      " + 0.015625 * \\Phi_{h_{0}h_{1}}^{p_{0}p_{1}}t2_{p_{2}p_{3}}^{h_{2}h_{3}}t2_{p_{4}p_{5}}^{h_{4}h_{5}}v_{h_{6}p_{6}}^{h_{7}h_{8}}\n",
      " + 0.0013020833333333333 * \\Phi_{h_{0}h_{1}}^{p_{0}p_{1}}v_{h_{2}p_{2}}^{h_{3}h_{4}}t2_{p_{3}p_{4}}^{h_{5}h_{6}}t2_{p_{5}p_{6}}^{h_{7}h_{8}}t2_{p_{7}p_{8}}^{h_{9}h_{10}}\n",
      " + -0.0013020833333333333 * \\Phi_{h_{0}h_{1}}^{p_{0}p_{1}}t2_{p_{2}p_{3}}^{h_{2}h_{3}}v_{h_{4}p_{4}}^{h_{5}h_{6}}t2_{p_{5}p_{6}}^{h_{7}h_{8}}t2_{p_{7}p_{8}}^{h_{9}h_{10}}\n",
      " + -0.0013020833333333333 * \\Phi_{h_{0}h_{1}}^{p_{0}p_{1}}t2_{p_{2}p_{3}}^{h_{2}h_{3}}v_{h_{4}p_{4}}^{h_{5}h_{6}}t2_{p_{5}p_{6}}^{h_{7}h_{8}}t2_{p_{7}p_{8}}^{h_{9}h_{10}}\n",
      " + 0.0013020833333333333 * \\Phi_{h_{0}h_{1}}^{p_{0}p_{1}}t2_{p_{2}p_{3}}^{h_{2}h_{3}}t2_{p_{4}p_{5}}^{h_{4}h_{5}}v_{h_{6}p_{6}}^{h_{7}h_{8}}t2_{p_{7}p_{8}}^{h_{9}h_{10}}\n",
      " + -0.0013020833333333333 * \\Phi_{h_{0}h_{1}}^{p_{0}p_{1}}t2_{p_{2}p_{3}}^{h_{2}h_{3}}v_{h_{4}p_{4}}^{h_{5}h_{6}}t2_{p_{5}p_{6}}^{h_{7}h_{8}}t2_{p_{7}p_{8}}^{h_{9}h_{10}}\n",
      " + 0.0013020833333333333 * \\Phi_{h_{0}h_{1}}^{p_{0}p_{1}}t2_{p_{2}p_{3}}^{h_{2}h_{3}}t2_{p_{4}p_{5}}^{h_{4}h_{5}}v_{h_{6}p_{6}}^{h_{7}h_{8}}t2_{p_{7}p_{8}}^{h_{9}h_{10}}\n",
      " + 0.0013020833333333333 * \\Phi_{h_{0}h_{1}}^{p_{0}p_{1}}t2_{p_{2}p_{3}}^{h_{2}h_{3}}t2_{p_{4}p_{5}}^{h_{4}h_{5}}v_{h_{6}p_{6}}^{h_{7}h_{8}}t2_{p_{7}p_{8}}^{h_{9}h_{10}}\n",
      " + -0.0013020833333333333 * \\Phi_{h_{0}h_{1}}^{p_{0}p_{1}}t2_{p_{2}p_{3}}^{h_{2}h_{3}}t2_{p_{4}p_{5}}^{h_{4}h_{5}}t2_{p_{6}p_{7}}^{h_{6}h_{7}}v_{h_{8}p_{8}}^{h_{9}h_{10}}\n",
      " + 8.138020833333333e-05 * \\Phi_{h_{0}h_{1}}^{p_{0}p_{1}}v_{h_{2}p_{2}}^{h_{3}h_{4}}t2_{p_{3}p_{4}}^{h_{5}h_{6}}t2_{p_{5}p_{6}}^{h_{7}h_{8}}t2_{p_{7}p_{8}}^{h_{9}h_{10}}t2_{p_{9}p_{10}}^{h_{11}h_{12}}\n",
      " + -8.138020833333333e-05 * \\Phi_{h_{0}h_{1}}^{p_{0}p_{1}}t2_{p_{2}p_{3}}^{h_{2}h_{3}}v_{h_{4}p_{4}}^{h_{5}h_{6}}t2_{p_{5}p_{6}}^{h_{7}h_{8}}t2_{p_{7}p_{8}}^{h_{9}h_{10}}t2_{p_{9}p_{10}}^{h_{11}h_{12}}\n",
      " + -8.138020833333333e-05 * \\Phi_{h_{0}h_{1}}^{p_{0}p_{1}}t2_{p_{2}p_{3}}^{h_{2}h_{3}}v_{h_{4}p_{4}}^{h_{5}h_{6}}t2_{p_{5}p_{6}}^{h_{7}h_{8}}t2_{p_{7}p_{8}}^{h_{9}h_{10}}t2_{p_{9}p_{10}}^{h_{11}h_{12}}\n",
      " + 8.138020833333333e-05 * \\Phi_{h_{0}h_{1}}^{p_{0}p_{1}}t2_{p_{2}p_{3}}^{h_{2}h_{3}}t2_{p_{4}p_{5}}^{h_{4}h_{5}}v_{h_{6}p_{6}}^{h_{7}h_{8}}t2_{p_{7}p_{8}}^{h_{9}h_{10}}t2_{p_{9}p_{10}}^{h_{11}h_{12}}\n",
      " + -8.138020833333333e-05 * \\Phi_{h_{0}h_{1}}^{p_{0}p_{1}}t2_{p_{2}p_{3}}^{h_{2}h_{3}}v_{h_{4}p_{4}}^{h_{5}h_{6}}t2_{p_{5}p_{6}}^{h_{7}h_{8}}t2_{p_{7}p_{8}}^{h_{9}h_{10}}t2_{p_{9}p_{10}}^{h_{11}h_{12}}\n",
      " + 8.138020833333333e-05 * \\Phi_{h_{0}h_{1}}^{p_{0}p_{1}}t2_{p_{2}p_{3}}^{h_{2}h_{3}}t2_{p_{4}p_{5}}^{h_{4}h_{5}}v_{h_{6}p_{6}}^{h_{7}h_{8}}t2_{p_{7}p_{8}}^{h_{9}h_{10}}t2_{p_{9}p_{10}}^{h_{11}h_{12}}\n",
      " + 8.138020833333333e-05 * \\Phi_{h_{0}h_{1}}^{p_{0}p_{1}}t2_{p_{2}p_{3}}^{h_{2}h_{3}}t2_{p_{4}p_{5}}^{h_{4}h_{5}}v_{h_{6}p_{6}}^{h_{7}h_{8}}t2_{p_{7}p_{8}}^{h_{9}h_{10}}t2_{p_{9}p_{10}}^{h_{11}h_{12}}\n",
      " + -8.138020833333333e-05 * \\Phi_{h_{0}h_{1}}^{p_{0}p_{1}}t2_{p_{2}p_{3}}^{h_{2}h_{3}}t2_{p_{4}p_{5}}^{h_{4}h_{5}}t2_{p_{6}p_{7}}^{h_{6}h_{7}}v_{h_{8}p_{8}}^{h_{9}h_{10}}t2_{p_{9}p_{10}}^{h_{11}h_{12}}\n",
      " + -8.138020833333333e-05 * \\Phi_{h_{0}h_{1}}^{p_{0}p_{1}}t2_{p_{2}p_{3}}^{h_{2}h_{3}}v_{h_{4}p_{4}}^{h_{5}h_{6}}t2_{p_{5}p_{6}}^{h_{7}h_{8}}t2_{p_{7}p_{8}}^{h_{9}h_{10}}t2_{p_{9}p_{10}}^{h_{11}h_{12}}\n",
      " + 8.138020833333333e-05 * \\Phi_{h_{0}h_{1}}^{p_{0}p_{1}}t2_{p_{2}p_{3}}^{h_{2}h_{3}}t2_{p_{4}p_{5}}^{h_{4}h_{5}}v_{h_{6}p_{6}}^{h_{7}h_{8}}t2_{p_{7}p_{8}}^{h_{9}h_{10}}t2_{p_{9}p_{10}}^{h_{11}h_{12}}\n",
      " + 8.138020833333333e-05 * \\Phi_{h_{0}h_{1}}^{p_{0}p_{1}}t2_{p_{2}p_{3}}^{h_{2}h_{3}}t2_{p_{4}p_{5}}^{h_{4}h_{5}}v_{h_{6}p_{6}}^{h_{7}h_{8}}t2_{p_{7}p_{8}}^{h_{9}h_{10}}t2_{p_{9}p_{10}}^{h_{11}h_{12}}\n",
      " + -8.138020833333333e-05 * \\Phi_{h_{0}h_{1}}^{p_{0}p_{1}}t2_{p_{2}p_{3}}^{h_{2}h_{3}}t2_{p_{4}p_{5}}^{h_{4}h_{5}}t2_{p_{6}p_{7}}^{h_{6}h_{7}}v_{h_{8}p_{8}}^{h_{9}h_{10}}t2_{p_{9}p_{10}}^{h_{11}h_{12}}\n",
      " + 8.138020833333333e-05 * \\Phi_{h_{0}h_{1}}^{p_{0}p_{1}}t2_{p_{2}p_{3}}^{h_{2}h_{3}}t2_{p_{4}p_{5}}^{h_{4}h_{5}}v_{h_{6}p_{6}}^{h_{7}h_{8}}t2_{p_{7}p_{8}}^{h_{9}h_{10}}t2_{p_{9}p_{10}}^{h_{11}h_{12}}\n",
      " + -8.138020833333333e-05 * \\Phi_{h_{0}h_{1}}^{p_{0}p_{1}}t2_{p_{2}p_{3}}^{h_{2}h_{3}}t2_{p_{4}p_{5}}^{h_{4}h_{5}}t2_{p_{6}p_{7}}^{h_{6}h_{7}}v_{h_{8}p_{8}}^{h_{9}h_{10}}t2_{p_{9}p_{10}}^{h_{11}h_{12}}\n",
      " + -8.138020833333333e-05 * \\Phi_{h_{0}h_{1}}^{p_{0}p_{1}}t2_{p_{2}p_{3}}^{h_{2}h_{3}}t2_{p_{4}p_{5}}^{h_{4}h_{5}}t2_{p_{6}p_{7}}^{h_{6}h_{7}}v_{h_{8}p_{8}}^{h_{9}h_{10}}t2_{p_{9}p_{10}}^{h_{11}h_{12}}\n",
      " + 8.138020833333333e-05 * \\Phi_{h_{0}h_{1}}^{p_{0}p_{1}}t2_{p_{2}p_{3}}^{h_{2}h_{3}}t2_{p_{4}p_{5}}^{h_{4}h_{5}}t2_{p_{6}p_{7}}^{h_{6}h_{7}}t2_{p_{8}p_{9}}^{h_{8}h_{9}}v_{h_{10}p_{10}}^{h_{11}h_{12}}\n",
      " + 0.5 * \\Phi_{h_{0}h_{1}}^{p_{0}p_{1}}v_{p_{2}p_{3}}^{h_{2}h_{3}}\n",
      " + 0.125 * \\Phi_{h_{0}h_{1}}^{p_{0}p_{1}}v_{p_{2}p_{3}}^{h_{2}h_{3}}t2_{p_{4}p_{5}}^{h_{4}h_{5}}\n",
      " + -0.125 * \\Phi_{h_{0}h_{1}}^{p_{0}p_{1}}t2_{p_{2}p_{3}}^{h_{2}h_{3}}v_{p_{4}p_{5}}^{h_{4}h_{5}}\n",
      " + 0.015625 * \\Phi_{h_{0}h_{1}}^{p_{0}p_{1}}v_{p_{2}p_{3}}^{h_{2}h_{3}}t2_{p_{4}p_{5}}^{h_{4}h_{5}}t2_{p_{6}p_{7}}^{h_{6}h_{7}}\n",
      " + -0.015625 * \\Phi_{h_{0}h_{1}}^{p_{0}p_{1}}t2_{p_{2}p_{3}}^{h_{2}h_{3}}v_{p_{4}p_{5}}^{h_{4}h_{5}}t2_{p_{6}p_{7}}^{h_{6}h_{7}}\n",
      " + -0.015625 * \\Phi_{h_{0}h_{1}}^{p_{0}p_{1}}t2_{p_{2}p_{3}}^{h_{2}h_{3}}v_{p_{4}p_{5}}^{h_{4}h_{5}}t2_{p_{6}p_{7}}^{h_{6}h_{7}}\n",
      " + 0.015625 * \\Phi_{h_{0}h_{1}}^{p_{0}p_{1}}t2_{p_{2}p_{3}}^{h_{2}h_{3}}t2_{p_{4}p_{5}}^{h_{4}h_{5}}v_{p_{6}p_{7}}^{h_{6}h_{7}}\n",
      " + 0.0013020833333333333 * \\Phi_{h_{0}h_{1}}^{p_{0}p_{1}}v_{p_{2}p_{3}}^{h_{2}h_{3}}t2_{p_{4}p_{5}}^{h_{4}h_{5}}t2_{p_{6}p_{7}}^{h_{6}h_{7}}t2_{p_{8}p_{9}}^{h_{8}h_{9}}\n",
      " + -0.0013020833333333333 * \\Phi_{h_{0}h_{1}}^{p_{0}p_{1}}t2_{p_{2}p_{3}}^{h_{2}h_{3}}v_{p_{4}p_{5}}^{h_{4}h_{5}}t2_{p_{6}p_{7}}^{h_{6}h_{7}}t2_{p_{8}p_{9}}^{h_{8}h_{9}}\n",
      " + -0.0013020833333333333 * \\Phi_{h_{0}h_{1}}^{p_{0}p_{1}}t2_{p_{2}p_{3}}^{h_{2}h_{3}}v_{p_{4}p_{5}}^{h_{4}h_{5}}t2_{p_{6}p_{7}}^{h_{6}h_{7}}t2_{p_{8}p_{9}}^{h_{8}h_{9}}\n",
      " + 0.0013020833333333333 * \\Phi_{h_{0}h_{1}}^{p_{0}p_{1}}t2_{p_{2}p_{3}}^{h_{2}h_{3}}t2_{p_{4}p_{5}}^{h_{4}h_{5}}v_{p_{6}p_{7}}^{h_{6}h_{7}}t2_{p_{8}p_{9}}^{h_{8}h_{9}}\n",
      " + -0.0013020833333333333 * \\Phi_{h_{0}h_{1}}^{p_{0}p_{1}}t2_{p_{2}p_{3}}^{h_{2}h_{3}}v_{p_{4}p_{5}}^{h_{4}h_{5}}t2_{p_{6}p_{7}}^{h_{6}h_{7}}t2_{p_{8}p_{9}}^{h_{8}h_{9}}\n",
      " + 0.0013020833333333333 * \\Phi_{h_{0}h_{1}}^{p_{0}p_{1}}t2_{p_{2}p_{3}}^{h_{2}h_{3}}t2_{p_{4}p_{5}}^{h_{4}h_{5}}v_{p_{6}p_{7}}^{h_{6}h_{7}}t2_{p_{8}p_{9}}^{h_{8}h_{9}}\n",
      " + 0.0013020833333333333 * \\Phi_{h_{0}h_{1}}^{p_{0}p_{1}}t2_{p_{2}p_{3}}^{h_{2}h_{3}}t2_{p_{4}p_{5}}^{h_{4}h_{5}}v_{p_{6}p_{7}}^{h_{6}h_{7}}t2_{p_{8}p_{9}}^{h_{8}h_{9}}\n",
      " + -0.0013020833333333333 * \\Phi_{h_{0}h_{1}}^{p_{0}p_{1}}t2_{p_{2}p_{3}}^{h_{2}h_{3}}t2_{p_{4}p_{5}}^{h_{4}h_{5}}t2_{p_{6}p_{7}}^{h_{6}h_{7}}v_{p_{8}p_{9}}^{h_{8}h_{9}}\n",
      " + 8.138020833333333e-05 * \\Phi_{h_{0}h_{1}}^{p_{0}p_{1}}v_{p_{2}p_{3}}^{h_{2}h_{3}}t2_{p_{4}p_{5}}^{h_{4}h_{5}}t2_{p_{6}p_{7}}^{h_{6}h_{7}}t2_{p_{8}p_{9}}^{h_{8}h_{9}}t2_{p_{10}p_{11}}^{h_{10}h_{11}}\n",
      " + -8.138020833333333e-05 * \\Phi_{h_{0}h_{1}}^{p_{0}p_{1}}t2_{p_{2}p_{3}}^{h_{2}h_{3}}v_{p_{4}p_{5}}^{h_{4}h_{5}}t2_{p_{6}p_{7}}^{h_{6}h_{7}}t2_{p_{8}p_{9}}^{h_{8}h_{9}}t2_{p_{10}p_{11}}^{h_{10}h_{11}}\n",
      " + -8.138020833333333e-05 * \\Phi_{h_{0}h_{1}}^{p_{0}p_{1}}t2_{p_{2}p_{3}}^{h_{2}h_{3}}v_{p_{4}p_{5}}^{h_{4}h_{5}}t2_{p_{6}p_{7}}^{h_{6}h_{7}}t2_{p_{8}p_{9}}^{h_{8}h_{9}}t2_{p_{10}p_{11}}^{h_{10}h_{11}}\n",
      " + 8.138020833333333e-05 * \\Phi_{h_{0}h_{1}}^{p_{0}p_{1}}t2_{p_{2}p_{3}}^{h_{2}h_{3}}t2_{p_{4}p_{5}}^{h_{4}h_{5}}v_{p_{6}p_{7}}^{h_{6}h_{7}}t2_{p_{8}p_{9}}^{h_{8}h_{9}}t2_{p_{10}p_{11}}^{h_{10}h_{11}}\n",
      " + -8.138020833333333e-05 * \\Phi_{h_{0}h_{1}}^{p_{0}p_{1}}t2_{p_{2}p_{3}}^{h_{2}h_{3}}v_{p_{4}p_{5}}^{h_{4}h_{5}}t2_{p_{6}p_{7}}^{h_{6}h_{7}}t2_{p_{8}p_{9}}^{h_{8}h_{9}}t2_{p_{10}p_{11}}^{h_{10}h_{11}}\n",
      " + 8.138020833333333e-05 * \\Phi_{h_{0}h_{1}}^{p_{0}p_{1}}t2_{p_{2}p_{3}}^{h_{2}h_{3}}t2_{p_{4}p_{5}}^{h_{4}h_{5}}v_{p_{6}p_{7}}^{h_{6}h_{7}}t2_{p_{8}p_{9}}^{h_{8}h_{9}}t2_{p_{10}p_{11}}^{h_{10}h_{11}}\n",
      " + 8.138020833333333e-05 * \\Phi_{h_{0}h_{1}}^{p_{0}p_{1}}t2_{p_{2}p_{3}}^{h_{2}h_{3}}t2_{p_{4}p_{5}}^{h_{4}h_{5}}v_{p_{6}p_{7}}^{h_{6}h_{7}}t2_{p_{8}p_{9}}^{h_{8}h_{9}}t2_{p_{10}p_{11}}^{h_{10}h_{11}}\n",
      " + -8.138020833333333e-05 * \\Phi_{h_{0}h_{1}}^{p_{0}p_{1}}t2_{p_{2}p_{3}}^{h_{2}h_{3}}t2_{p_{4}p_{5}}^{h_{4}h_{5}}t2_{p_{6}p_{7}}^{h_{6}h_{7}}v_{p_{8}p_{9}}^{h_{8}h_{9}}t2_{p_{10}p_{11}}^{h_{10}h_{11}}\n",
      " + -8.138020833333333e-05 * \\Phi_{h_{0}h_{1}}^{p_{0}p_{1}}t2_{p_{2}p_{3}}^{h_{2}h_{3}}v_{p_{4}p_{5}}^{h_{4}h_{5}}t2_{p_{6}p_{7}}^{h_{6}h_{7}}t2_{p_{8}p_{9}}^{h_{8}h_{9}}t2_{p_{10}p_{11}}^{h_{10}h_{11}}\n",
      " + 8.138020833333333e-05 * \\Phi_{h_{0}h_{1}}^{p_{0}p_{1}}t2_{p_{2}p_{3}}^{h_{2}h_{3}}t2_{p_{4}p_{5}}^{h_{4}h_{5}}v_{p_{6}p_{7}}^{h_{6}h_{7}}t2_{p_{8}p_{9}}^{h_{8}h_{9}}t2_{p_{10}p_{11}}^{h_{10}h_{11}}\n",
      " + 8.138020833333333e-05 * \\Phi_{h_{0}h_{1}}^{p_{0}p_{1}}t2_{p_{2}p_{3}}^{h_{2}h_{3}}t2_{p_{4}p_{5}}^{h_{4}h_{5}}v_{p_{6}p_{7}}^{h_{6}h_{7}}t2_{p_{8}p_{9}}^{h_{8}h_{9}}t2_{p_{10}p_{11}}^{h_{10}h_{11}}\n",
      " + -8.138020833333333e-05 * \\Phi_{h_{0}h_{1}}^{p_{0}p_{1}}t2_{p_{2}p_{3}}^{h_{2}h_{3}}t2_{p_{4}p_{5}}^{h_{4}h_{5}}t2_{p_{6}p_{7}}^{h_{6}h_{7}}v_{p_{8}p_{9}}^{h_{8}h_{9}}t2_{p_{10}p_{11}}^{h_{10}h_{11}}\n",
      " + 8.138020833333333e-05 * \\Phi_{h_{0}h_{1}}^{p_{0}p_{1}}t2_{p_{2}p_{3}}^{h_{2}h_{3}}t2_{p_{4}p_{5}}^{h_{4}h_{5}}v_{p_{6}p_{7}}^{h_{6}h_{7}}t2_{p_{8}p_{9}}^{h_{8}h_{9}}t2_{p_{10}p_{11}}^{h_{10}h_{11}}\n",
      " + -8.138020833333333e-05 * \\Phi_{h_{0}h_{1}}^{p_{0}p_{1}}t2_{p_{2}p_{3}}^{h_{2}h_{3}}t2_{p_{4}p_{5}}^{h_{4}h_{5}}t2_{p_{6}p_{7}}^{h_{6}h_{7}}v_{p_{8}p_{9}}^{h_{8}h_{9}}t2_{p_{10}p_{11}}^{h_{10}h_{11}}\n",
      " + -8.138020833333333e-05 * \\Phi_{h_{0}h_{1}}^{p_{0}p_{1}}t2_{p_{2}p_{3}}^{h_{2}h_{3}}t2_{p_{4}p_{5}}^{h_{4}h_{5}}t2_{p_{6}p_{7}}^{h_{6}h_{7}}v_{p_{8}p_{9}}^{h_{8}h_{9}}t2_{p_{10}p_{11}}^{h_{10}h_{11}}\n",
      " + 8.138020833333333e-05 * \\Phi_{h_{0}h_{1}}^{p_{0}p_{1}}t2_{p_{2}p_{3}}^{h_{2}h_{3}}t2_{p_{4}p_{5}}^{h_{4}h_{5}}t2_{p_{6}p_{7}}^{h_{6}h_{7}}t2_{p_{8}p_{9}}^{h_{8}h_{9}}v_{p_{10}p_{11}}^{h_{10}h_{11}}\n",
      " + 0.5 * \\Phi_{h_{0}h_{1}}^{p_{0}p_{1}}v_{h_{2}h_{3}}^{p_{2}p_{3}}\n",
      " + 0.125 * \\Phi_{h_{0}h_{1}}^{p_{0}p_{1}}v_{h_{2}h_{3}}^{p_{2}p_{3}}t2_{p_{4}p_{5}}^{h_{4}h_{5}}\n",
      " + -0.125 * \\Phi_{h_{0}h_{1}}^{p_{0}p_{1}}t2_{p_{2}p_{3}}^{h_{2}h_{3}}v_{h_{4}h_{5}}^{p_{4}p_{5}}\n",
      " + 0.015625 * \\Phi_{h_{0}h_{1}}^{p_{0}p_{1}}v_{h_{2}h_{3}}^{p_{2}p_{3}}t2_{p_{4}p_{5}}^{h_{4}h_{5}}t2_{p_{6}p_{7}}^{h_{6}h_{7}}\n",
      " + -0.015625 * \\Phi_{h_{0}h_{1}}^{p_{0}p_{1}}t2_{p_{2}p_{3}}^{h_{2}h_{3}}v_{h_{4}h_{5}}^{p_{4}p_{5}}t2_{p_{6}p_{7}}^{h_{6}h_{7}}\n",
      " + -0.015625 * \\Phi_{h_{0}h_{1}}^{p_{0}p_{1}}t2_{p_{2}p_{3}}^{h_{2}h_{3}}v_{h_{4}h_{5}}^{p_{4}p_{5}}t2_{p_{6}p_{7}}^{h_{6}h_{7}}\n",
      " + 0.015625 * \\Phi_{h_{0}h_{1}}^{p_{0}p_{1}}t2_{p_{2}p_{3}}^{h_{2}h_{3}}t2_{p_{4}p_{5}}^{h_{4}h_{5}}v_{h_{6}h_{7}}^{p_{6}p_{7}}\n",
      " + 0.0013020833333333333 * \\Phi_{h_{0}h_{1}}^{p_{0}p_{1}}v_{h_{2}h_{3}}^{p_{2}p_{3}}t2_{p_{4}p_{5}}^{h_{4}h_{5}}t2_{p_{6}p_{7}}^{h_{6}h_{7}}t2_{p_{8}p_{9}}^{h_{8}h_{9}}\n",
      " + -0.0013020833333333333 * \\Phi_{h_{0}h_{1}}^{p_{0}p_{1}}t2_{p_{2}p_{3}}^{h_{2}h_{3}}v_{h_{4}h_{5}}^{p_{4}p_{5}}t2_{p_{6}p_{7}}^{h_{6}h_{7}}t2_{p_{8}p_{9}}^{h_{8}h_{9}}\n",
      " + -0.0013020833333333333 * \\Phi_{h_{0}h_{1}}^{p_{0}p_{1}}t2_{p_{2}p_{3}}^{h_{2}h_{3}}v_{h_{4}h_{5}}^{p_{4}p_{5}}t2_{p_{6}p_{7}}^{h_{6}h_{7}}t2_{p_{8}p_{9}}^{h_{8}h_{9}}\n",
      " + 0.0013020833333333333 * \\Phi_{h_{0}h_{1}}^{p_{0}p_{1}}t2_{p_{2}p_{3}}^{h_{2}h_{3}}t2_{p_{4}p_{5}}^{h_{4}h_{5}}v_{h_{6}h_{7}}^{p_{6}p_{7}}t2_{p_{8}p_{9}}^{h_{8}h_{9}}\n",
      " + -0.0013020833333333333 * \\Phi_{h_{0}h_{1}}^{p_{0}p_{1}}t2_{p_{2}p_{3}}^{h_{2}h_{3}}v_{h_{4}h_{5}}^{p_{4}p_{5}}t2_{p_{6}p_{7}}^{h_{6}h_{7}}t2_{p_{8}p_{9}}^{h_{8}h_{9}}\n",
      " + 0.0013020833333333333 * \\Phi_{h_{0}h_{1}}^{p_{0}p_{1}}t2_{p_{2}p_{3}}^{h_{2}h_{3}}t2_{p_{4}p_{5}}^{h_{4}h_{5}}v_{h_{6}h_{7}}^{p_{6}p_{7}}t2_{p_{8}p_{9}}^{h_{8}h_{9}}\n",
      " + 0.0013020833333333333 * \\Phi_{h_{0}h_{1}}^{p_{0}p_{1}}t2_{p_{2}p_{3}}^{h_{2}h_{3}}t2_{p_{4}p_{5}}^{h_{4}h_{5}}v_{h_{6}h_{7}}^{p_{6}p_{7}}t2_{p_{8}p_{9}}^{h_{8}h_{9}}\n",
      " + -0.0013020833333333333 * \\Phi_{h_{0}h_{1}}^{p_{0}p_{1}}t2_{p_{2}p_{3}}^{h_{2}h_{3}}t2_{p_{4}p_{5}}^{h_{4}h_{5}}t2_{p_{6}p_{7}}^{h_{6}h_{7}}v_{h_{8}h_{9}}^{p_{8}p_{9}}\n",
      " + 8.138020833333333e-05 * \\Phi_{h_{0}h_{1}}^{p_{0}p_{1}}v_{h_{2}h_{3}}^{p_{2}p_{3}}t2_{p_{4}p_{5}}^{h_{4}h_{5}}t2_{p_{6}p_{7}}^{h_{6}h_{7}}t2_{p_{8}p_{9}}^{h_{8}h_{9}}t2_{p_{10}p_{11}}^{h_{10}h_{11}}\n",
      " + -8.138020833333333e-05 * \\Phi_{h_{0}h_{1}}^{p_{0}p_{1}}t2_{p_{2}p_{3}}^{h_{2}h_{3}}v_{h_{4}h_{5}}^{p_{4}p_{5}}t2_{p_{6}p_{7}}^{h_{6}h_{7}}t2_{p_{8}p_{9}}^{h_{8}h_{9}}t2_{p_{10}p_{11}}^{h_{10}h_{11}}\n",
      " + -8.138020833333333e-05 * \\Phi_{h_{0}h_{1}}^{p_{0}p_{1}}t2_{p_{2}p_{3}}^{h_{2}h_{3}}v_{h_{4}h_{5}}^{p_{4}p_{5}}t2_{p_{6}p_{7}}^{h_{6}h_{7}}t2_{p_{8}p_{9}}^{h_{8}h_{9}}t2_{p_{10}p_{11}}^{h_{10}h_{11}}\n",
      " + 8.138020833333333e-05 * \\Phi_{h_{0}h_{1}}^{p_{0}p_{1}}t2_{p_{2}p_{3}}^{h_{2}h_{3}}t2_{p_{4}p_{5}}^{h_{4}h_{5}}v_{h_{6}h_{7}}^{p_{6}p_{7}}t2_{p_{8}p_{9}}^{h_{8}h_{9}}t2_{p_{10}p_{11}}^{h_{10}h_{11}}\n",
      " + -8.138020833333333e-05 * \\Phi_{h_{0}h_{1}}^{p_{0}p_{1}}t2_{p_{2}p_{3}}^{h_{2}h_{3}}v_{h_{4}h_{5}}^{p_{4}p_{5}}t2_{p_{6}p_{7}}^{h_{6}h_{7}}t2_{p_{8}p_{9}}^{h_{8}h_{9}}t2_{p_{10}p_{11}}^{h_{10}h_{11}}\n",
      " + 8.138020833333333e-05 * \\Phi_{h_{0}h_{1}}^{p_{0}p_{1}}t2_{p_{2}p_{3}}^{h_{2}h_{3}}t2_{p_{4}p_{5}}^{h_{4}h_{5}}v_{h_{6}h_{7}}^{p_{6}p_{7}}t2_{p_{8}p_{9}}^{h_{8}h_{9}}t2_{p_{10}p_{11}}^{h_{10}h_{11}}\n",
      " + 8.138020833333333e-05 * \\Phi_{h_{0}h_{1}}^{p_{0}p_{1}}t2_{p_{2}p_{3}}^{h_{2}h_{3}}t2_{p_{4}p_{5}}^{h_{4}h_{5}}v_{h_{6}h_{7}}^{p_{6}p_{7}}t2_{p_{8}p_{9}}^{h_{8}h_{9}}t2_{p_{10}p_{11}}^{h_{10}h_{11}}\n",
      " + -8.138020833333333e-05 * \\Phi_{h_{0}h_{1}}^{p_{0}p_{1}}t2_{p_{2}p_{3}}^{h_{2}h_{3}}t2_{p_{4}p_{5}}^{h_{4}h_{5}}t2_{p_{6}p_{7}}^{h_{6}h_{7}}v_{h_{8}h_{9}}^{p_{8}p_{9}}t2_{p_{10}p_{11}}^{h_{10}h_{11}}\n",
      " + -8.138020833333333e-05 * \\Phi_{h_{0}h_{1}}^{p_{0}p_{1}}t2_{p_{2}p_{3}}^{h_{2}h_{3}}v_{h_{4}h_{5}}^{p_{4}p_{5}}t2_{p_{6}p_{7}}^{h_{6}h_{7}}t2_{p_{8}p_{9}}^{h_{8}h_{9}}t2_{p_{10}p_{11}}^{h_{10}h_{11}}\n",
      " + 8.138020833333333e-05 * \\Phi_{h_{0}h_{1}}^{p_{0}p_{1}}t2_{p_{2}p_{3}}^{h_{2}h_{3}}t2_{p_{4}p_{5}}^{h_{4}h_{5}}v_{h_{6}h_{7}}^{p_{6}p_{7}}t2_{p_{8}p_{9}}^{h_{8}h_{9}}t2_{p_{10}p_{11}}^{h_{10}h_{11}}\n",
      " + 8.138020833333333e-05 * \\Phi_{h_{0}h_{1}}^{p_{0}p_{1}}t2_{p_{2}p_{3}}^{h_{2}h_{3}}t2_{p_{4}p_{5}}^{h_{4}h_{5}}v_{h_{6}h_{7}}^{p_{6}p_{7}}t2_{p_{8}p_{9}}^{h_{8}h_{9}}t2_{p_{10}p_{11}}^{h_{10}h_{11}}\n",
      " + -8.138020833333333e-05 * \\Phi_{h_{0}h_{1}}^{p_{0}p_{1}}t2_{p_{2}p_{3}}^{h_{2}h_{3}}t2_{p_{4}p_{5}}^{h_{4}h_{5}}t2_{p_{6}p_{7}}^{h_{6}h_{7}}v_{h_{8}h_{9}}^{p_{8}p_{9}}t2_{p_{10}p_{11}}^{h_{10}h_{11}}\n",
      " + 8.138020833333333e-05 * \\Phi_{h_{0}h_{1}}^{p_{0}p_{1}}t2_{p_{2}p_{3}}^{h_{2}h_{3}}t2_{p_{4}p_{5}}^{h_{4}h_{5}}v_{h_{6}h_{7}}^{p_{6}p_{7}}t2_{p_{8}p_{9}}^{h_{8}h_{9}}t2_{p_{10}p_{11}}^{h_{10}h_{11}}\n",
      " + -8.138020833333333e-05 * \\Phi_{h_{0}h_{1}}^{p_{0}p_{1}}t2_{p_{2}p_{3}}^{h_{2}h_{3}}t2_{p_{4}p_{5}}^{h_{4}h_{5}}t2_{p_{6}p_{7}}^{h_{6}h_{7}}v_{h_{8}h_{9}}^{p_{8}p_{9}}t2_{p_{10}p_{11}}^{h_{10}h_{11}}\n",
      " + -8.138020833333333e-05 * \\Phi_{h_{0}h_{1}}^{p_{0}p_{1}}t2_{p_{2}p_{3}}^{h_{2}h_{3}}t2_{p_{4}p_{5}}^{h_{4}h_{5}}t2_{p_{6}p_{7}}^{h_{6}h_{7}}v_{h_{8}h_{9}}^{p_{8}p_{9}}t2_{p_{10}p_{11}}^{h_{10}h_{11}}\n",
      " + 8.138020833333333e-05 * \\Phi_{h_{0}h_{1}}^{p_{0}p_{1}}t2_{p_{2}p_{3}}^{h_{2}h_{3}}t2_{p_{4}p_{5}}^{h_{4}h_{5}}t2_{p_{6}p_{7}}^{h_{6}h_{7}}t2_{p_{8}p_{9}}^{h_{8}h_{9}}v_{h_{10}h_{11}}^{p_{10}p_{11}}\n"
     ]
    }
   ],
   "metadata": {}
  },
  {
   "cell_type": "code",
   "execution_count": 192,
   "source": [
    "len(CCDDoublesResidualSummandList)"
   ],
   "outputs": [
    {
     "output_type": "execute_result",
     "data": {
      "text/plain": [
       "403"
      ]
     },
     "metadata": {},
     "execution_count": 192
    }
   ],
   "metadata": {}
  },
  {
   "cell_type": "code",
   "execution_count": 193,
   "source": [
    "time0 = time.time()\n",
    "contractedCCDDoublesResidual = evaluateWick(CCDDoublesResidual)\n",
    "time1 = time.time()\n",
    "print(time1-time0)\n",
    "print(contractedCCDDoublesResidual)"
   ],
   "outputs": [
    {
     "output_type": "stream",
     "name": "stdout",
     "text": [
      "2265.9064230309996\n",
      "-0.5 * \\Phi_{h_{2}h_{3}}^{p_{0}p_{1}}f_{p_{0}}^{p_{3}}t2_{p_{1}p_{3}}^{h_{2}h_{3}}\n",
      " + 1.0 * \\Phi_{h_{2}h_{3}}^{p_{0}p_{1}}f_{p_{0}}^{p_{3}}t2_{p_{3}p_{1}}^{h_{2}h_{3}}\n",
      " + 1.0 * \\Phi_{h_{2}h_{3}}^{p_{0}p_{1}}f_{p_{1}}^{p_{3}}t2_{p_{0}p_{3}}^{h_{2}h_{3}}\n",
      " + -0.5 * \\Phi_{h_{2}h_{3}}^{p_{0}p_{1}}f_{p_{1}}^{p_{3}}t2_{p_{3}p_{0}}^{h_{2}h_{3}}\n",
      " + 1.0 * \\Phi_{h_{3}h_{2}}^{p_{0}p_{1}}f_{p_{0}}^{p_{3}}t2_{p_{1}p_{3}}^{h_{2}h_{3}}\n",
      " + -0.5 * \\Phi_{h_{3}h_{2}}^{p_{0}p_{1}}f_{p_{0}}^{p_{3}}t2_{p_{3}p_{1}}^{h_{2}h_{3}}\n",
      " + -0.5 * \\Phi_{h_{3}h_{2}}^{p_{0}p_{1}}f_{p_{1}}^{p_{3}}t2_{p_{0}p_{3}}^{h_{2}h_{3}}\n",
      " + 1.0 * \\Phi_{h_{3}h_{2}}^{p_{0}p_{1}}f_{p_{1}}^{p_{3}}t2_{p_{3}p_{0}}^{h_{2}h_{3}}\n",
      " + 0.5 * \\Phi_{h_{3}h_{4}}^{p_{0}p_{1}}f_{h_{5}}^{h_{3}}t2_{p_{0}p_{1}}^{h_{4}h_{5}}\n",
      " + -1.0 * \\Phi_{h_{3}h_{4}}^{p_{0}p_{1}}f_{h_{5}}^{h_{3}}t2_{p_{1}p_{0}}^{h_{4}h_{5}}\n",
      " + -1.0 * \\Phi_{h_{3}h_{5}}^{p_{0}p_{1}}f_{h_{4}}^{h_{3}}t2_{p_{0}p_{1}}^{h_{4}h_{5}}\n",
      " + 0.5 * \\Phi_{h_{3}h_{5}}^{p_{0}p_{1}}f_{h_{4}}^{h_{3}}t2_{p_{1}p_{0}}^{h_{4}h_{5}}\n",
      " + -1.0 * \\Phi_{h_{4}h_{3}}^{p_{0}p_{1}}f_{h_{5}}^{h_{3}}t2_{p_{0}p_{1}}^{h_{4}h_{5}}\n",
      " + 0.5 * \\Phi_{h_{4}h_{3}}^{p_{0}p_{1}}f_{h_{5}}^{h_{3}}t2_{p_{1}p_{0}}^{h_{4}h_{5}}\n",
      " + 2.0 * \\Phi_{h_{4}h_{5}}^{p_{0}p_{1}}f_{h_{3}}^{h_{3}}t2_{p_{0}p_{1}}^{h_{4}h_{5}}\n",
      " + -1.0 * \\Phi_{h_{4}h_{5}}^{p_{0}p_{1}}f_{h_{3}}^{h_{3}}t2_{p_{1}p_{0}}^{h_{4}h_{5}}\n",
      " + 0.5 * \\Phi_{h_{5}h_{3}}^{p_{0}p_{1}}f_{h_{4}}^{h_{3}}t2_{p_{0}p_{1}}^{h_{4}h_{5}}\n",
      " + -1.0 * \\Phi_{h_{5}h_{3}}^{p_{0}p_{1}}f_{h_{4}}^{h_{3}}t2_{p_{1}p_{0}}^{h_{4}h_{5}}\n",
      " + -1.0 * \\Phi_{h_{5}h_{4}}^{p_{0}p_{1}}f_{h_{3}}^{h_{3}}t2_{p_{0}p_{1}}^{h_{4}h_{5}}\n",
      " + 2.0 * \\Phi_{h_{5}h_{4}}^{p_{0}p_{1}}f_{h_{3}}^{h_{3}}t2_{p_{1}p_{0}}^{h_{4}h_{5}}\n",
      " + -2.0 * \\Phi_{h_{2}h_{3}}^{p_{0}p_{1}}t2_{p_{0}p_{1}}^{h_{2}h_{3}}f_{h_{5}}^{h_{5}}\n",
      " + 1.0 * \\Phi_{h_{2}h_{3}}^{p_{0}p_{1}}t2_{p_{1}p_{0}}^{h_{2}h_{3}}f_{h_{5}}^{h_{5}}\n",
      " + 1.0 * \\Phi_{h_{3}h_{2}}^{p_{0}p_{1}}t2_{p_{0}p_{1}}^{h_{2}h_{3}}f_{h_{5}}^{h_{5}}\n",
      " + -2.0 * \\Phi_{h_{3}h_{2}}^{p_{0}p_{1}}t2_{p_{1}p_{0}}^{h_{2}h_{3}}f_{h_{5}}^{h_{5}}\n",
      " + -0.25 * \\Phi_{h_{2}h_{3}}^{p_{0}p_{1}}v_{p_{0}p_{1}}^{p_{4}p_{5}}t2_{p_{4}p_{5}}^{h_{2}h_{3}}\n",
      " + 0.5 * \\Phi_{h_{2}h_{3}}^{p_{0}p_{1}}v_{p_{0}p_{1}}^{p_{4}p_{5}}t2_{p_{5}p_{4}}^{h_{2}h_{3}}\n",
      " + 0.5 * \\Phi_{h_{2}h_{3}}^{p_{0}p_{1}}v_{p_{1}p_{0}}^{p_{4}p_{5}}t2_{p_{4}p_{5}}^{h_{2}h_{3}}\n",
      " + -0.25 * \\Phi_{h_{2}h_{3}}^{p_{0}p_{1}}v_{p_{1}p_{0}}^{p_{4}p_{5}}t2_{p_{5}p_{4}}^{h_{2}h_{3}}\n",
      " + 0.5 * \\Phi_{h_{3}h_{2}}^{p_{0}p_{1}}v_{p_{0}p_{1}}^{p_{4}p_{5}}t2_{p_{4}p_{5}}^{h_{2}h_{3}}\n",
      " + -0.25 * \\Phi_{h_{3}h_{2}}^{p_{0}p_{1}}v_{p_{0}p_{1}}^{p_{4}p_{5}}t2_{p_{5}p_{4}}^{h_{2}h_{3}}\n",
      " + -0.25 * \\Phi_{h_{3}h_{2}}^{p_{0}p_{1}}v_{p_{1}p_{0}}^{p_{4}p_{5}}t2_{p_{4}p_{5}}^{h_{2}h_{3}}\n",
      " + 0.5 * \\Phi_{h_{3}h_{2}}^{p_{0}p_{1}}v_{p_{1}p_{0}}^{p_{4}p_{5}}t2_{p_{5}p_{4}}^{h_{2}h_{3}}\n",
      " + -0.25 * \\Phi_{h_{4}h_{5}}^{p_{0}p_{1}}v_{h_{6}h_{7}}^{h_{4}h_{5}}t2_{p_{0}p_{1}}^{h_{6}h_{7}}\n",
      " + 0.5 * \\Phi_{h_{4}h_{5}}^{p_{0}p_{1}}v_{h_{7}h_{6}}^{h_{4}h_{5}}t2_{p_{0}p_{1}}^{h_{6}h_{7}}\n",
      " + 0.5 * \\Phi_{h_{4}h_{5}}^{p_{0}p_{1}}v_{h_{6}h_{7}}^{h_{4}h_{5}}t2_{p_{1}p_{0}}^{h_{6}h_{7}}\n",
      " + -0.25 * \\Phi_{h_{4}h_{5}}^{p_{0}p_{1}}v_{h_{7}h_{6}}^{h_{4}h_{5}}t2_{p_{1}p_{0}}^{h_{6}h_{7}}\n",
      " + 0.5 * \\Phi_{h_{4}h_{6}}^{p_{0}p_{1}}v_{h_{5}h_{7}}^{h_{4}h_{5}}t2_{p_{0}p_{1}}^{h_{6}h_{7}}\n",
      " + -0.25 * \\Phi_{h_{4}h_{6}}^{p_{0}p_{1}}v_{h_{7}h_{5}}^{h_{4}h_{5}}t2_{p_{0}p_{1}}^{h_{6}h_{7}}\n",
      " + -1.0 * \\Phi_{h_{4}h_{6}}^{p_{0}p_{1}}v_{h_{5}h_{7}}^{h_{4}h_{5}}t2_{p_{1}p_{0}}^{h_{6}h_{7}}\n",
      " + 0.5 * \\Phi_{h_{4}h_{6}}^{p_{0}p_{1}}v_{h_{7}h_{5}}^{h_{4}h_{5}}t2_{p_{1}p_{0}}^{h_{6}h_{7}}\n",
      " + -1.0 * \\Phi_{h_{4}h_{7}}^{p_{0}p_{1}}v_{h_{5}h_{6}}^{h_{4}h_{5}}t2_{p_{0}p_{1}}^{h_{6}h_{7}}\n",
      " + 0.5 * \\Phi_{h_{4}h_{7}}^{p_{0}p_{1}}v_{h_{6}h_{5}}^{h_{4}h_{5}}t2_{p_{0}p_{1}}^{h_{6}h_{7}}\n",
      " + 0.5 * \\Phi_{h_{4}h_{7}}^{p_{0}p_{1}}v_{h_{5}h_{6}}^{h_{4}h_{5}}t2_{p_{1}p_{0}}^{h_{6}h_{7}}\n",
      " + -0.25 * \\Phi_{h_{4}h_{7}}^{p_{0}p_{1}}v_{h_{6}h_{5}}^{h_{4}h_{5}}t2_{p_{1}p_{0}}^{h_{6}h_{7}}\n",
      " + 0.5 * \\Phi_{h_{5}h_{4}}^{p_{0}p_{1}}v_{h_{6}h_{7}}^{h_{4}h_{5}}t2_{p_{0}p_{1}}^{h_{6}h_{7}}\n",
      " + -0.25 * \\Phi_{h_{5}h_{4}}^{p_{0}p_{1}}v_{h_{7}h_{6}}^{h_{4}h_{5}}t2_{p_{0}p_{1}}^{h_{6}h_{7}}\n",
      " + -0.25 * \\Phi_{h_{5}h_{4}}^{p_{0}p_{1}}v_{h_{6}h_{7}}^{h_{4}h_{5}}t2_{p_{1}p_{0}}^{h_{6}h_{7}}\n",
      " + 0.5 * \\Phi_{h_{5}h_{4}}^{p_{0}p_{1}}v_{h_{7}h_{6}}^{h_{4}h_{5}}t2_{p_{1}p_{0}}^{h_{6}h_{7}}\n",
      " + -0.25 * \\Phi_{h_{5}h_{6}}^{p_{0}p_{1}}v_{h_{4}h_{7}}^{h_{4}h_{5}}t2_{p_{0}p_{1}}^{h_{6}h_{7}}\n",
      " + 0.5 * \\Phi_{h_{5}h_{6}}^{p_{0}p_{1}}v_{h_{7}h_{4}}^{h_{4}h_{5}}t2_{p_{0}p_{1}}^{h_{6}h_{7}}\n",
      " + 0.5 * \\Phi_{h_{5}h_{6}}^{p_{0}p_{1}}v_{h_{4}h_{7}}^{h_{4}h_{5}}t2_{p_{1}p_{0}}^{h_{6}h_{7}}\n",
      " + -1.0 * \\Phi_{h_{5}h_{6}}^{p_{0}p_{1}}v_{h_{7}h_{4}}^{h_{4}h_{5}}t2_{p_{1}p_{0}}^{h_{6}h_{7}}\n",
      " + 0.5 * \\Phi_{h_{5}h_{7}}^{p_{0}p_{1}}v_{h_{4}h_{6}}^{h_{4}h_{5}}t2_{p_{0}p_{1}}^{h_{6}h_{7}}\n",
      " + -1.0 * \\Phi_{h_{5}h_{7}}^{p_{0}p_{1}}v_{h_{6}h_{4}}^{h_{4}h_{5}}t2_{p_{0}p_{1}}^{h_{6}h_{7}}\n",
      " + -0.25 * \\Phi_{h_{5}h_{7}}^{p_{0}p_{1}}v_{h_{4}h_{6}}^{h_{4}h_{5}}t2_{p_{1}p_{0}}^{h_{6}h_{7}}\n",
      " + 0.5 * \\Phi_{h_{5}h_{7}}^{p_{0}p_{1}}v_{h_{6}h_{4}}^{h_{4}h_{5}}t2_{p_{1}p_{0}}^{h_{6}h_{7}}\n",
      " + -1.0 * \\Phi_{h_{6}h_{4}}^{p_{0}p_{1}}v_{h_{5}h_{7}}^{h_{4}h_{5}}t2_{p_{0}p_{1}}^{h_{6}h_{7}}\n",
      " + 0.5 * \\Phi_{h_{6}h_{4}}^{p_{0}p_{1}}v_{h_{7}h_{5}}^{h_{4}h_{5}}t2_{p_{0}p_{1}}^{h_{6}h_{7}}\n",
      " + 0.5 * \\Phi_{h_{6}h_{4}}^{p_{0}p_{1}}v_{h_{5}h_{7}}^{h_{4}h_{5}}t2_{p_{1}p_{0}}^{h_{6}h_{7}}\n",
      " + -0.25 * \\Phi_{h_{6}h_{4}}^{p_{0}p_{1}}v_{h_{7}h_{5}}^{h_{4}h_{5}}t2_{p_{1}p_{0}}^{h_{6}h_{7}}\n",
      " + 0.5 * \\Phi_{h_{6}h_{5}}^{p_{0}p_{1}}v_{h_{4}h_{7}}^{h_{4}h_{5}}t2_{p_{0}p_{1}}^{h_{6}h_{7}}\n",
      " + -1.0 * \\Phi_{h_{6}h_{5}}^{p_{0}p_{1}}v_{h_{7}h_{4}}^{h_{4}h_{5}}t2_{p_{0}p_{1}}^{h_{6}h_{7}}\n",
      " + -0.25 * \\Phi_{h_{6}h_{5}}^{p_{0}p_{1}}v_{h_{4}h_{7}}^{h_{4}h_{5}}t2_{p_{1}p_{0}}^{h_{6}h_{7}}\n",
      " + 0.5 * \\Phi_{h_{6}h_{5}}^{p_{0}p_{1}}v_{h_{7}h_{4}}^{h_{4}h_{5}}t2_{p_{1}p_{0}}^{h_{6}h_{7}}\n",
      " + -1.0 * \\Phi_{h_{6}h_{7}}^{p_{0}p_{1}}v_{h_{4}h_{5}}^{h_{4}h_{5}}t2_{p_{0}p_{1}}^{h_{6}h_{7}}\n",
      " + 2.0 * \\Phi_{h_{6}h_{7}}^{p_{0}p_{1}}v_{h_{5}h_{4}}^{h_{4}h_{5}}t2_{p_{0}p_{1}}^{h_{6}h_{7}}\n",
      " + 0.5 * \\Phi_{h_{6}h_{7}}^{p_{0}p_{1}}v_{h_{4}h_{5}}^{h_{4}h_{5}}t2_{p_{1}p_{0}}^{h_{6}h_{7}}\n",
      " + -1.0 * \\Phi_{h_{6}h_{7}}^{p_{0}p_{1}}v_{h_{5}h_{4}}^{h_{4}h_{5}}t2_{p_{1}p_{0}}^{h_{6}h_{7}}\n",
      " + 0.5 * \\Phi_{h_{7}h_{4}}^{p_{0}p_{1}}v_{h_{5}h_{6}}^{h_{4}h_{5}}t2_{p_{0}p_{1}}^{h_{6}h_{7}}\n",
      " + -0.25 * \\Phi_{h_{7}h_{4}}^{p_{0}p_{1}}v_{h_{6}h_{5}}^{h_{4}h_{5}}t2_{p_{0}p_{1}}^{h_{6}h_{7}}\n",
      " + -1.0 * \\Phi_{h_{7}h_{4}}^{p_{0}p_{1}}v_{h_{5}h_{6}}^{h_{4}h_{5}}t2_{p_{1}p_{0}}^{h_{6}h_{7}}\n",
      " + 0.5 * \\Phi_{h_{7}h_{4}}^{p_{0}p_{1}}v_{h_{6}h_{5}}^{h_{4}h_{5}}t2_{p_{1}p_{0}}^{h_{6}h_{7}}\n",
      " + -0.25 * \\Phi_{h_{7}h_{5}}^{p_{0}p_{1}}v_{h_{4}h_{6}}^{h_{4}h_{5}}t2_{p_{0}p_{1}}^{h_{6}h_{7}}\n",
      " + 0.5 * \\Phi_{h_{7}h_{5}}^{p_{0}p_{1}}v_{h_{6}h_{4}}^{h_{4}h_{5}}t2_{p_{0}p_{1}}^{h_{6}h_{7}}\n",
      " + 0.5 * \\Phi_{h_{7}h_{5}}^{p_{0}p_{1}}v_{h_{4}h_{6}}^{h_{4}h_{5}}t2_{p_{1}p_{0}}^{h_{6}h_{7}}\n",
      " + -1.0 * \\Phi_{h_{7}h_{5}}^{p_{0}p_{1}}v_{h_{6}h_{4}}^{h_{4}h_{5}}t2_{p_{1}p_{0}}^{h_{6}h_{7}}\n",
      " + 0.5 * \\Phi_{h_{7}h_{6}}^{p_{0}p_{1}}v_{h_{4}h_{5}}^{h_{4}h_{5}}t2_{p_{0}p_{1}}^{h_{6}h_{7}}\n",
      " + -1.0 * \\Phi_{h_{7}h_{6}}^{p_{0}p_{1}}v_{h_{5}h_{4}}^{h_{4}h_{5}}t2_{p_{0}p_{1}}^{h_{6}h_{7}}\n",
      " + -1.0 * \\Phi_{h_{7}h_{6}}^{p_{0}p_{1}}v_{h_{4}h_{5}}^{h_{4}h_{5}}t2_{p_{1}p_{0}}^{h_{6}h_{7}}\n",
      " + 2.0 * \\Phi_{h_{7}h_{6}}^{p_{0}p_{1}}v_{h_{5}h_{4}}^{h_{4}h_{5}}t2_{p_{1}p_{0}}^{h_{6}h_{7}}\n",
      " + 1.0 * \\Phi_{h_{2}h_{3}}^{p_{0}p_{1}}t2_{p_{0}p_{1}}^{h_{2}h_{3}}v_{h_{6}h_{7}}^{h_{6}h_{7}}\n",
      " + -2.0 * \\Phi_{h_{2}h_{3}}^{p_{0}p_{1}}t2_{p_{0}p_{1}}^{h_{2}h_{3}}v_{h_{7}h_{6}}^{h_{6}h_{7}}\n",
      " + -0.5 * \\Phi_{h_{2}h_{3}}^{p_{0}p_{1}}t2_{p_{1}p_{0}}^{h_{2}h_{3}}v_{h_{6}h_{7}}^{h_{6}h_{7}}\n",
      " + 1.0 * \\Phi_{h_{2}h_{3}}^{p_{0}p_{1}}t2_{p_{1}p_{0}}^{h_{2}h_{3}}v_{h_{7}h_{6}}^{h_{6}h_{7}}\n",
      " + -0.5 * \\Phi_{h_{3}h_{2}}^{p_{0}p_{1}}t2_{p_{0}p_{1}}^{h_{2}h_{3}}v_{h_{6}h_{7}}^{h_{6}h_{7}}\n",
      " + 1.0 * \\Phi_{h_{3}h_{2}}^{p_{0}p_{1}}t2_{p_{0}p_{1}}^{h_{2}h_{3}}v_{h_{7}h_{6}}^{h_{6}h_{7}}\n",
      " + 1.0 * \\Phi_{h_{3}h_{2}}^{p_{0}p_{1}}t2_{p_{1}p_{0}}^{h_{2}h_{3}}v_{h_{6}h_{7}}^{h_{6}h_{7}}\n",
      " + -2.0 * \\Phi_{h_{3}h_{2}}^{p_{0}p_{1}}t2_{p_{1}p_{0}}^{h_{2}h_{3}}v_{h_{7}h_{6}}^{h_{6}h_{7}}\n",
      " + -0.5 * \\Phi_{h_{3}h_{4}}^{p_{0}p_{1}}v_{h_{5}p_{0}}^{p_{3}h_{3}}t2_{p_{1}p_{3}}^{h_{4}h_{5}}\n",
      " + 0.25 * \\Phi_{h_{3}h_{4}}^{p_{0}p_{1}}v_{h_{5}p_{0}}^{p_{3}h_{3}}t2_{p_{3}p_{1}}^{h_{4}h_{5}}\n",
      " + 0.25 * \\Phi_{h_{3}h_{4}}^{p_{0}p_{1}}v_{h_{5}p_{1}}^{p_{3}h_{3}}t2_{p_{0}p_{3}}^{h_{4}h_{5}}\n",
      " + -0.5 * \\Phi_{h_{3}h_{4}}^{p_{0}p_{1}}v_{h_{5}p_{1}}^{p_{3}h_{3}}t2_{p_{3}p_{0}}^{h_{4}h_{5}}\n",
      " + 0.25 * \\Phi_{h_{3}h_{5}}^{p_{0}p_{1}}v_{h_{4}p_{0}}^{p_{3}h_{3}}t2_{p_{1}p_{3}}^{h_{4}h_{5}}\n",
      " + -0.5 * \\Phi_{h_{3}h_{5}}^{p_{0}p_{1}}v_{h_{4}p_{0}}^{p_{3}h_{3}}t2_{p_{3}p_{1}}^{h_{4}h_{5}}\n",
      " + -0.5 * \\Phi_{h_{3}h_{5}}^{p_{0}p_{1}}v_{h_{4}p_{1}}^{p_{3}h_{3}}t2_{p_{0}p_{3}}^{h_{4}h_{5}}\n",
      " + 0.25 * \\Phi_{h_{3}h_{5}}^{p_{0}p_{1}}v_{h_{4}p_{1}}^{p_{3}h_{3}}t2_{p_{3}p_{0}}^{h_{4}h_{5}}\n",
      " + 0.25 * \\Phi_{h_{4}h_{3}}^{p_{0}p_{1}}v_{h_{5}p_{0}}^{p_{3}h_{3}}t2_{p_{1}p_{3}}^{h_{4}h_{5}}\n",
      " + -0.5 * \\Phi_{h_{4}h_{3}}^{p_{0}p_{1}}v_{h_{5}p_{0}}^{p_{3}h_{3}}t2_{p_{3}p_{1}}^{h_{4}h_{5}}\n",
      " + -0.5 * \\Phi_{h_{4}h_{3}}^{p_{0}p_{1}}v_{h_{5}p_{1}}^{p_{3}h_{3}}t2_{p_{0}p_{3}}^{h_{4}h_{5}}\n",
      " + 0.25 * \\Phi_{h_{4}h_{3}}^{p_{0}p_{1}}v_{h_{5}p_{1}}^{p_{3}h_{3}}t2_{p_{3}p_{0}}^{h_{4}h_{5}}\n",
      " + -0.5 * \\Phi_{h_{4}h_{5}}^{p_{0}p_{1}}v_{h_{3}p_{0}}^{p_{3}h_{3}}t2_{p_{1}p_{3}}^{h_{4}h_{5}}\n",
      " + 1.0 * \\Phi_{h_{4}h_{5}}^{p_{0}p_{1}}v_{h_{3}p_{0}}^{p_{3}h_{3}}t2_{p_{3}p_{1}}^{h_{4}h_{5}}\n",
      " + 1.0 * \\Phi_{h_{4}h_{5}}^{p_{0}p_{1}}v_{h_{3}p_{1}}^{p_{3}h_{3}}t2_{p_{0}p_{3}}^{h_{4}h_{5}}\n",
      " + -0.5 * \\Phi_{h_{4}h_{5}}^{p_{0}p_{1}}v_{h_{3}p_{1}}^{p_{3}h_{3}}t2_{p_{3}p_{0}}^{h_{4}h_{5}}\n",
      " + -0.5 * \\Phi_{h_{5}h_{3}}^{p_{0}p_{1}}v_{h_{4}p_{0}}^{p_{3}h_{3}}t2_{p_{1}p_{3}}^{h_{4}h_{5}}\n",
      " + 0.25 * \\Phi_{h_{5}h_{3}}^{p_{0}p_{1}}v_{h_{4}p_{0}}^{p_{3}h_{3}}t2_{p_{3}p_{1}}^{h_{4}h_{5}}\n",
      " + 0.25 * \\Phi_{h_{5}h_{3}}^{p_{0}p_{1}}v_{h_{4}p_{1}}^{p_{3}h_{3}}t2_{p_{0}p_{3}}^{h_{4}h_{5}}\n",
      " + -0.5 * \\Phi_{h_{5}h_{3}}^{p_{0}p_{1}}v_{h_{4}p_{1}}^{p_{3}h_{3}}t2_{p_{3}p_{0}}^{h_{4}h_{5}}\n",
      " + 1.0 * \\Phi_{h_{5}h_{4}}^{p_{0}p_{1}}v_{h_{3}p_{0}}^{p_{3}h_{3}}t2_{p_{1}p_{3}}^{h_{4}h_{5}}\n",
      " + -0.5 * \\Phi_{h_{5}h_{4}}^{p_{0}p_{1}}v_{h_{3}p_{0}}^{p_{3}h_{3}}t2_{p_{3}p_{1}}^{h_{4}h_{5}}\n",
      " + -0.5 * \\Phi_{h_{5}h_{4}}^{p_{0}p_{1}}v_{h_{3}p_{1}}^{p_{3}h_{3}}t2_{p_{0}p_{3}}^{h_{4}h_{5}}\n",
      " + 1.0 * \\Phi_{h_{5}h_{4}}^{p_{0}p_{1}}v_{h_{3}p_{1}}^{p_{3}h_{3}}t2_{p_{3}p_{0}}^{h_{4}h_{5}}\n",
      " + 2.0 * \\Phi_{h_{2}h_{3}}^{p_{0}p_{1}}v_{p_{0}p_{1}}^{h_{2}h_{3}}\n",
      " + -1.0 * \\Phi_{h_{2}h_{3}}^{p_{0}p_{1}}v_{p_{1}p_{0}}^{h_{2}h_{3}}\n",
      " + -1.0 * \\Phi_{h_{3}h_{2}}^{p_{0}p_{1}}v_{p_{0}p_{1}}^{h_{2}h_{3}}\n",
      " + 2.0 * \\Phi_{h_{3}h_{2}}^{p_{0}p_{1}}v_{p_{1}p_{0}}^{h_{2}h_{3}}\n",
      " + 0.25 * \\Phi_{h_{4}h_{5}}^{p_{0}p_{1}}v_{h_{6}h_{7}}^{p_{2}p_{3}}t2_{p_{0}p_{1}}^{h_{4}h_{5}}t2_{p_{2}p_{3}}^{h_{6}h_{7}}\n",
      " + -0.125 * \\Phi_{h_{4}h_{5}}^{p_{0}p_{1}}v_{h_{6}h_{7}}^{p_{2}p_{3}}t2_{p_{0}p_{1}}^{h_{4}h_{5}}t2_{p_{3}p_{2}}^{h_{6}h_{7}}\n",
      " + -0.125 * \\Phi_{h_{4}h_{5}}^{p_{0}p_{1}}v_{h_{7}h_{6}}^{p_{2}p_{3}}t2_{p_{0}p_{1}}^{h_{4}h_{5}}t2_{p_{2}p_{3}}^{h_{6}h_{7}}\n",
      " + 0.25 * \\Phi_{h_{4}h_{5}}^{p_{0}p_{1}}v_{h_{7}h_{6}}^{p_{2}p_{3}}t2_{p_{0}p_{1}}^{h_{4}h_{5}}t2_{p_{3}p_{2}}^{h_{6}h_{7}}\n",
      " + -0.125 * \\Phi_{h_{4}h_{5}}^{p_{0}p_{1}}v_{h_{6}h_{7}}^{p_{2}p_{3}}t2_{p_{0}p_{2}}^{h_{4}h_{5}}t2_{p_{1}p_{3}}^{h_{6}h_{7}}\n",
      " + 0.0625 * \\Phi_{h_{4}h_{5}}^{p_{0}p_{1}}v_{h_{6}h_{7}}^{p_{2}p_{3}}t2_{p_{0}p_{3}}^{h_{4}h_{5}}t2_{p_{1}p_{2}}^{h_{6}h_{7}}\n",
      " + 0.0625 * \\Phi_{h_{4}h_{5}}^{p_{0}p_{1}}v_{h_{7}h_{6}}^{p_{2}p_{3}}t2_{p_{0}p_{2}}^{h_{4}h_{5}}t2_{p_{1}p_{3}}^{h_{6}h_{7}}\n",
      " + -0.125 * \\Phi_{h_{4}h_{5}}^{p_{0}p_{1}}v_{h_{7}h_{6}}^{p_{2}p_{3}}t2_{p_{0}p_{3}}^{h_{4}h_{5}}t2_{p_{1}p_{2}}^{h_{6}h_{7}}\n",
      " + 0.0625 * \\Phi_{h_{4}h_{5}}^{p_{0}p_{1}}v_{h_{6}h_{7}}^{p_{2}p_{3}}t2_{p_{0}p_{2}}^{h_{4}h_{5}}t2_{p_{3}p_{1}}^{h_{6}h_{7}}\n",
      " + -0.125 * \\Phi_{h_{4}h_{5}}^{p_{0}p_{1}}v_{h_{6}h_{7}}^{p_{2}p_{3}}t2_{p_{0}p_{3}}^{h_{4}h_{5}}t2_{p_{2}p_{1}}^{h_{6}h_{7}}\n",
      " + -0.125 * \\Phi_{h_{4}h_{5}}^{p_{0}p_{1}}v_{h_{7}h_{6}}^{p_{2}p_{3}}t2_{p_{0}p_{2}}^{h_{4}h_{5}}t2_{p_{3}p_{1}}^{h_{6}h_{7}}\n",
      " + 0.0625 * \\Phi_{h_{4}h_{5}}^{p_{0}p_{1}}v_{h_{7}h_{6}}^{p_{2}p_{3}}t2_{p_{0}p_{3}}^{h_{4}h_{5}}t2_{p_{2}p_{1}}^{h_{6}h_{7}}\n",
      " + -0.125 * \\Phi_{h_{4}h_{5}}^{p_{0}p_{1}}v_{h_{6}h_{7}}^{p_{2}p_{3}}t2_{p_{1}p_{0}}^{h_{4}h_{5}}t2_{p_{2}p_{3}}^{h_{6}h_{7}}\n",
      " + 0.0625 * \\Phi_{h_{4}h_{5}}^{p_{0}p_{1}}v_{h_{6}h_{7}}^{p_{2}p_{3}}t2_{p_{1}p_{0}}^{h_{4}h_{5}}t2_{p_{3}p_{2}}^{h_{6}h_{7}}\n",
      " + 0.0625 * \\Phi_{h_{4}h_{5}}^{p_{0}p_{1}}v_{h_{7}h_{6}}^{p_{2}p_{3}}t2_{p_{1}p_{0}}^{h_{4}h_{5}}t2_{p_{2}p_{3}}^{h_{6}h_{7}}\n",
      " + -0.125 * \\Phi_{h_{4}h_{5}}^{p_{0}p_{1}}v_{h_{7}h_{6}}^{p_{2}p_{3}}t2_{p_{1}p_{0}}^{h_{4}h_{5}}t2_{p_{3}p_{2}}^{h_{6}h_{7}}\n",
      " + 0.0625 * \\Phi_{h_{4}h_{5}}^{p_{0}p_{1}}v_{h_{6}h_{7}}^{p_{2}p_{3}}t2_{p_{2}p_{0}}^{h_{4}h_{5}}t2_{p_{1}p_{3}}^{h_{6}h_{7}}\n",
      " + -0.03125 * \\Phi_{h_{4}h_{5}}^{p_{0}p_{1}}v_{h_{6}h_{7}}^{p_{2}p_{3}}t2_{p_{3}p_{0}}^{h_{4}h_{5}}t2_{p_{1}p_{2}}^{h_{6}h_{7}}\n",
      " + -0.03125 * \\Phi_{h_{4}h_{5}}^{p_{0}p_{1}}v_{h_{7}h_{6}}^{p_{2}p_{3}}t2_{p_{2}p_{0}}^{h_{4}h_{5}}t2_{p_{1}p_{3}}^{h_{6}h_{7}}\n",
      " + 0.0625 * \\Phi_{h_{4}h_{5}}^{p_{0}p_{1}}v_{h_{7}h_{6}}^{p_{2}p_{3}}t2_{p_{3}p_{0}}^{h_{4}h_{5}}t2_{p_{1}p_{2}}^{h_{6}h_{7}}\n",
      " + -0.03125 * \\Phi_{h_{4}h_{5}}^{p_{0}p_{1}}v_{h_{6}h_{7}}^{p_{2}p_{3}}t2_{p_{2}p_{0}}^{h_{4}h_{5}}t2_{p_{3}p_{1}}^{h_{6}h_{7}}\n",
      " + 0.0625 * \\Phi_{h_{4}h_{5}}^{p_{0}p_{1}}v_{h_{6}h_{7}}^{p_{2}p_{3}}t2_{p_{3}p_{0}}^{h_{4}h_{5}}t2_{p_{2}p_{1}}^{h_{6}h_{7}}\n",
      " + 0.0625 * \\Phi_{h_{4}h_{5}}^{p_{0}p_{1}}v_{h_{7}h_{6}}^{p_{2}p_{3}}t2_{p_{2}p_{0}}^{h_{4}h_{5}}t2_{p_{3}p_{1}}^{h_{6}h_{7}}\n",
      " + -0.03125 * \\Phi_{h_{4}h_{5}}^{p_{0}p_{1}}v_{h_{7}h_{6}}^{p_{2}p_{3}}t2_{p_{3}p_{0}}^{h_{4}h_{5}}t2_{p_{2}p_{1}}^{h_{6}h_{7}}\n",
      " + 0.0625 * \\Phi_{h_{4}h_{5}}^{p_{0}p_{1}}v_{h_{6}h_{7}}^{p_{2}p_{3}}t2_{p_{1}p_{2}}^{h_{4}h_{5}}t2_{p_{0}p_{3}}^{h_{6}h_{7}}\n",
      " + -0.03125 * \\Phi_{h_{4}h_{5}}^{p_{0}p_{1}}v_{h_{6}h_{7}}^{p_{2}p_{3}}t2_{p_{1}p_{3}}^{h_{4}h_{5}}t2_{p_{0}p_{2}}^{h_{6}h_{7}}\n",
      " + -0.03125 * \\Phi_{h_{4}h_{5}}^{p_{0}p_{1}}v_{h_{7}h_{6}}^{p_{2}p_{3}}t2_{p_{1}p_{2}}^{h_{4}h_{5}}t2_{p_{0}p_{3}}^{h_{6}h_{7}}\n",
      " + 0.0625 * \\Phi_{h_{4}h_{5}}^{p_{0}p_{1}}v_{h_{7}h_{6}}^{p_{2}p_{3}}t2_{p_{1}p_{3}}^{h_{4}h_{5}}t2_{p_{0}p_{2}}^{h_{6}h_{7}}\n",
      " + -0.125 * \\Phi_{h_{4}h_{5}}^{p_{0}p_{1}}v_{h_{6}h_{7}}^{p_{2}p_{3}}t2_{p_{2}p_{1}}^{h_{4}h_{5}}t2_{p_{0}p_{3}}^{h_{6}h_{7}}\n",
      " + 0.0625 * \\Phi_{h_{4}h_{5}}^{p_{0}p_{1}}v_{h_{6}h_{7}}^{p_{2}p_{3}}t2_{p_{3}p_{1}}^{h_{4}h_{5}}t2_{p_{0}p_{2}}^{h_{6}h_{7}}\n",
      " + 0.0625 * \\Phi_{h_{4}h_{5}}^{p_{0}p_{1}}v_{h_{7}h_{6}}^{p_{2}p_{3}}t2_{p_{2}p_{1}}^{h_{4}h_{5}}t2_{p_{0}p_{3}}^{h_{6}h_{7}}\n",
      " + -0.125 * \\Phi_{h_{4}h_{5}}^{p_{0}p_{1}}v_{h_{7}h_{6}}^{p_{2}p_{3}}t2_{p_{3}p_{1}}^{h_{4}h_{5}}t2_{p_{0}p_{2}}^{h_{6}h_{7}}\n",
      " + 0.0625 * \\Phi_{h_{4}h_{5}}^{p_{0}p_{1}}v_{h_{6}h_{7}}^{p_{2}p_{3}}t2_{p_{2}p_{3}}^{h_{4}h_{5}}t2_{p_{0}p_{1}}^{h_{6}h_{7}}\n",
      " + -0.03125 * \\Phi_{h_{4}h_{5}}^{p_{0}p_{1}}v_{h_{6}h_{7}}^{p_{2}p_{3}}t2_{p_{3}p_{2}}^{h_{4}h_{5}}t2_{p_{0}p_{1}}^{h_{6}h_{7}}\n",
      " + -0.03125 * \\Phi_{h_{4}h_{5}}^{p_{0}p_{1}}v_{h_{7}h_{6}}^{p_{2}p_{3}}t2_{p_{2}p_{3}}^{h_{4}h_{5}}t2_{p_{0}p_{1}}^{h_{6}h_{7}}\n",
      " + 0.0625 * \\Phi_{h_{4}h_{5}}^{p_{0}p_{1}}v_{h_{7}h_{6}}^{p_{2}p_{3}}t2_{p_{3}p_{2}}^{h_{4}h_{5}}t2_{p_{0}p_{1}}^{h_{6}h_{7}}\n",
      " + -0.03125 * \\Phi_{h_{4}h_{5}}^{p_{0}p_{1}}v_{h_{6}h_{7}}^{p_{2}p_{3}}t2_{p_{1}p_{2}}^{h_{4}h_{5}}t2_{p_{3}p_{0}}^{h_{6}h_{7}}\n",
      " + 0.0625 * \\Phi_{h_{4}h_{5}}^{p_{0}p_{1}}v_{h_{6}h_{7}}^{p_{2}p_{3}}t2_{p_{1}p_{3}}^{h_{4}h_{5}}t2_{p_{2}p_{0}}^{h_{6}h_{7}}\n",
      " + 0.0625 * \\Phi_{h_{4}h_{5}}^{p_{0}p_{1}}v_{h_{7}h_{6}}^{p_{2}p_{3}}t2_{p_{1}p_{2}}^{h_{4}h_{5}}t2_{p_{3}p_{0}}^{h_{6}h_{7}}\n",
      " + -0.03125 * \\Phi_{h_{4}h_{5}}^{p_{0}p_{1}}v_{h_{7}h_{6}}^{p_{2}p_{3}}t2_{p_{1}p_{3}}^{h_{4}h_{5}}t2_{p_{2}p_{0}}^{h_{6}h_{7}}\n",
      " + 0.0625 * \\Phi_{h_{4}h_{5}}^{p_{0}p_{1}}v_{h_{6}h_{7}}^{p_{2}p_{3}}t2_{p_{2}p_{1}}^{h_{4}h_{5}}t2_{p_{3}p_{0}}^{h_{6}h_{7}}\n",
      " + -0.125 * \\Phi_{h_{4}h_{5}}^{p_{0}p_{1}}v_{h_{6}h_{7}}^{p_{2}p_{3}}t2_{p_{3}p_{1}}^{h_{4}h_{5}}t2_{p_{2}p_{0}}^{h_{6}h_{7}}\n",
      " + -0.125 * \\Phi_{h_{4}h_{5}}^{p_{0}p_{1}}v_{h_{7}h_{6}}^{p_{2}p_{3}}t2_{p_{2}p_{1}}^{h_{4}h_{5}}t2_{p_{3}p_{0}}^{h_{6}h_{7}}\n",
      " + 0.0625 * \\Phi_{h_{4}h_{5}}^{p_{0}p_{1}}v_{h_{7}h_{6}}^{p_{2}p_{3}}t2_{p_{3}p_{1}}^{h_{4}h_{5}}t2_{p_{2}p_{0}}^{h_{6}h_{7}}\n",
      " + -0.03125 * \\Phi_{h_{4}h_{5}}^{p_{0}p_{1}}v_{h_{6}h_{7}}^{p_{2}p_{3}}t2_{p_{2}p_{3}}^{h_{4}h_{5}}t2_{p_{1}p_{0}}^{h_{6}h_{7}}\n",
      " + 0.0625 * \\Phi_{h_{4}h_{5}}^{p_{0}p_{1}}v_{h_{6}h_{7}}^{p_{2}p_{3}}t2_{p_{3}p_{2}}^{h_{4}h_{5}}t2_{p_{1}p_{0}}^{h_{6}h_{7}}\n",
      " + 0.0625 * \\Phi_{h_{4}h_{5}}^{p_{0}p_{1}}v_{h_{7}h_{6}}^{p_{2}p_{3}}t2_{p_{2}p_{3}}^{h_{4}h_{5}}t2_{p_{1}p_{0}}^{h_{6}h_{7}}\n",
      " + -0.03125 * \\Phi_{h_{4}h_{5}}^{p_{0}p_{1}}v_{h_{7}h_{6}}^{p_{2}p_{3}}t2_{p_{3}p_{2}}^{h_{4}h_{5}}t2_{p_{1}p_{0}}^{h_{6}h_{7}}\n",
      " + -0.125 * \\Phi_{h_{4}h_{6}}^{p_{0}p_{1}}v_{h_{5}h_{7}}^{p_{2}p_{3}}t2_{p_{0}p_{1}}^{h_{4}h_{5}}t2_{p_{2}p_{3}}^{h_{6}h_{7}}\n",
      " + 0.0625 * \\Phi_{h_{4}h_{6}}^{p_{0}p_{1}}v_{h_{5}h_{7}}^{p_{2}p_{3}}t2_{p_{0}p_{1}}^{h_{4}h_{5}}t2_{p_{3}p_{2}}^{h_{6}h_{7}}\n",
      " + 0.0625 * \\Phi_{h_{4}h_{6}}^{p_{0}p_{1}}v_{h_{7}h_{5}}^{p_{2}p_{3}}t2_{p_{0}p_{1}}^{h_{4}h_{5}}t2_{p_{2}p_{3}}^{h_{6}h_{7}}\n",
      " + -0.125 * \\Phi_{h_{4}h_{6}}^{p_{0}p_{1}}v_{h_{7}h_{5}}^{p_{2}p_{3}}t2_{p_{0}p_{1}}^{h_{4}h_{5}}t2_{p_{3}p_{2}}^{h_{6}h_{7}}\n",
      " + 0.0625 * \\Phi_{h_{4}h_{6}}^{p_{0}p_{1}}v_{h_{5}h_{7}}^{p_{2}p_{3}}t2_{p_{0}p_{2}}^{h_{4}h_{5}}t2_{p_{1}p_{3}}^{h_{6}h_{7}}\n",
      " + -0.03125 * \\Phi_{h_{4}h_{6}}^{p_{0}p_{1}}v_{h_{5}h_{7}}^{p_{2}p_{3}}t2_{p_{0}p_{3}}^{h_{4}h_{5}}t2_{p_{1}p_{2}}^{h_{6}h_{7}}\n",
      " + -0.03125 * \\Phi_{h_{4}h_{6}}^{p_{0}p_{1}}v_{h_{7}h_{5}}^{p_{2}p_{3}}t2_{p_{0}p_{2}}^{h_{4}h_{5}}t2_{p_{1}p_{3}}^{h_{6}h_{7}}\n",
      " + 0.0625 * \\Phi_{h_{4}h_{6}}^{p_{0}p_{1}}v_{h_{7}h_{5}}^{p_{2}p_{3}}t2_{p_{0}p_{3}}^{h_{4}h_{5}}t2_{p_{1}p_{2}}^{h_{6}h_{7}}\n",
      " + -0.03125 * \\Phi_{h_{4}h_{6}}^{p_{0}p_{1}}v_{h_{5}h_{7}}^{p_{2}p_{3}}t2_{p_{0}p_{2}}^{h_{4}h_{5}}t2_{p_{3}p_{1}}^{h_{6}h_{7}}\n",
      " + 0.0625 * \\Phi_{h_{4}h_{6}}^{p_{0}p_{1}}v_{h_{5}h_{7}}^{p_{2}p_{3}}t2_{p_{0}p_{3}}^{h_{4}h_{5}}t2_{p_{2}p_{1}}^{h_{6}h_{7}}\n",
      " + 0.0625 * \\Phi_{h_{4}h_{6}}^{p_{0}p_{1}}v_{h_{7}h_{5}}^{p_{2}p_{3}}t2_{p_{0}p_{2}}^{h_{4}h_{5}}t2_{p_{3}p_{1}}^{h_{6}h_{7}}\n",
      " + -0.03125 * \\Phi_{h_{4}h_{6}}^{p_{0}p_{1}}v_{h_{7}h_{5}}^{p_{2}p_{3}}t2_{p_{0}p_{3}}^{h_{4}h_{5}}t2_{p_{2}p_{1}}^{h_{6}h_{7}}\n",
      " + 0.0625 * \\Phi_{h_{4}h_{6}}^{p_{0}p_{1}}v_{h_{5}h_{7}}^{p_{2}p_{3}}t2_{p_{1}p_{0}}^{h_{4}h_{5}}t2_{p_{2}p_{3}}^{h_{6}h_{7}}\n",
      " + -0.03125 * \\Phi_{h_{4}h_{6}}^{p_{0}p_{1}}v_{h_{5}h_{7}}^{p_{2}p_{3}}t2_{p_{1}p_{0}}^{h_{4}h_{5}}t2_{p_{3}p_{2}}^{h_{6}h_{7}}\n",
      " + -0.03125 * \\Phi_{h_{4}h_{6}}^{p_{0}p_{1}}v_{h_{7}h_{5}}^{p_{2}p_{3}}t2_{p_{1}p_{0}}^{h_{4}h_{5}}t2_{p_{2}p_{3}}^{h_{6}h_{7}}\n",
      " + 0.0625 * \\Phi_{h_{4}h_{6}}^{p_{0}p_{1}}v_{h_{7}h_{5}}^{p_{2}p_{3}}t2_{p_{1}p_{0}}^{h_{4}h_{5}}t2_{p_{3}p_{2}}^{h_{6}h_{7}}\n",
      " + -0.03125 * \\Phi_{h_{4}h_{6}}^{p_{0}p_{1}}v_{h_{5}h_{7}}^{p_{2}p_{3}}t2_{p_{2}p_{0}}^{h_{4}h_{5}}t2_{p_{1}p_{3}}^{h_{6}h_{7}}\n",
      " + 0.0625 * \\Phi_{h_{4}h_{6}}^{p_{0}p_{1}}v_{h_{5}h_{7}}^{p_{2}p_{3}}t2_{p_{3}p_{0}}^{h_{4}h_{5}}t2_{p_{1}p_{2}}^{h_{6}h_{7}}\n",
      " + 0.0625 * \\Phi_{h_{4}h_{6}}^{p_{0}p_{1}}v_{h_{7}h_{5}}^{p_{2}p_{3}}t2_{p_{2}p_{0}}^{h_{4}h_{5}}t2_{p_{1}p_{3}}^{h_{6}h_{7}}\n",
      " + -0.03125 * \\Phi_{h_{4}h_{6}}^{p_{0}p_{1}}v_{h_{7}h_{5}}^{p_{2}p_{3}}t2_{p_{3}p_{0}}^{h_{4}h_{5}}t2_{p_{1}p_{2}}^{h_{6}h_{7}}\n",
      " + 0.0625 * \\Phi_{h_{4}h_{6}}^{p_{0}p_{1}}v_{h_{5}h_{7}}^{p_{2}p_{3}}t2_{p_{2}p_{0}}^{h_{4}h_{5}}t2_{p_{3}p_{1}}^{h_{6}h_{7}}\n",
      " + -0.125 * \\Phi_{h_{4}h_{6}}^{p_{0}p_{1}}v_{h_{5}h_{7}}^{p_{2}p_{3}}t2_{p_{3}p_{0}}^{h_{4}h_{5}}t2_{p_{2}p_{1}}^{h_{6}h_{7}}\n",
      " + -0.125 * \\Phi_{h_{4}h_{6}}^{p_{0}p_{1}}v_{h_{7}h_{5}}^{p_{2}p_{3}}t2_{p_{2}p_{0}}^{h_{4}h_{5}}t2_{p_{3}p_{1}}^{h_{6}h_{7}}\n",
      " + 0.0625 * \\Phi_{h_{4}h_{6}}^{p_{0}p_{1}}v_{h_{7}h_{5}}^{p_{2}p_{3}}t2_{p_{3}p_{0}}^{h_{4}h_{5}}t2_{p_{2}p_{1}}^{h_{6}h_{7}}\n",
      " + -0.03125 * \\Phi_{h_{4}h_{6}}^{p_{0}p_{1}}v_{h_{5}h_{7}}^{p_{2}p_{3}}t2_{p_{1}p_{2}}^{h_{4}h_{5}}t2_{p_{0}p_{3}}^{h_{6}h_{7}}\n",
      " + 0.0625 * \\Phi_{h_{4}h_{6}}^{p_{0}p_{1}}v_{h_{5}h_{7}}^{p_{2}p_{3}}t2_{p_{1}p_{3}}^{h_{4}h_{5}}t2_{p_{0}p_{2}}^{h_{6}h_{7}}\n",
      " + 0.0625 * \\Phi_{h_{4}h_{6}}^{p_{0}p_{1}}v_{h_{7}h_{5}}^{p_{2}p_{3}}t2_{p_{1}p_{2}}^{h_{4}h_{5}}t2_{p_{0}p_{3}}^{h_{6}h_{7}}\n",
      " + -0.03125 * \\Phi_{h_{4}h_{6}}^{p_{0}p_{1}}v_{h_{7}h_{5}}^{p_{2}p_{3}}t2_{p_{1}p_{3}}^{h_{4}h_{5}}t2_{p_{0}p_{2}}^{h_{6}h_{7}}\n",
      " + 0.0625 * \\Phi_{h_{4}h_{6}}^{p_{0}p_{1}}v_{h_{5}h_{7}}^{p_{2}p_{3}}t2_{p_{2}p_{1}}^{h_{4}h_{5}}t2_{p_{0}p_{3}}^{h_{6}h_{7}}\n",
      " + -0.125 * \\Phi_{h_{4}h_{6}}^{p_{0}p_{1}}v_{h_{5}h_{7}}^{p_{2}p_{3}}t2_{p_{3}p_{1}}^{h_{4}h_{5}}t2_{p_{0}p_{2}}^{h_{6}h_{7}}\n",
      " + -0.125 * \\Phi_{h_{4}h_{6}}^{p_{0}p_{1}}v_{h_{7}h_{5}}^{p_{2}p_{3}}t2_{p_{2}p_{1}}^{h_{4}h_{5}}t2_{p_{0}p_{3}}^{h_{6}h_{7}}\n",
      " + 0.0625 * \\Phi_{h_{4}h_{6}}^{p_{0}p_{1}}v_{h_{7}h_{5}}^{p_{2}p_{3}}t2_{p_{3}p_{1}}^{h_{4}h_{5}}t2_{p_{0}p_{2}}^{h_{6}h_{7}}\n",
      " + -0.03125 * \\Phi_{h_{4}h_{6}}^{p_{0}p_{1}}v_{h_{5}h_{7}}^{p_{2}p_{3}}t2_{p_{2}p_{3}}^{h_{4}h_{5}}t2_{p_{0}p_{1}}^{h_{6}h_{7}}\n",
      " + 0.0625 * \\Phi_{h_{4}h_{6}}^{p_{0}p_{1}}v_{h_{5}h_{7}}^{p_{2}p_{3}}t2_{p_{3}p_{2}}^{h_{4}h_{5}}t2_{p_{0}p_{1}}^{h_{6}h_{7}}\n",
      " + 0.0625 * \\Phi_{h_{4}h_{6}}^{p_{0}p_{1}}v_{h_{7}h_{5}}^{p_{2}p_{3}}t2_{p_{2}p_{3}}^{h_{4}h_{5}}t2_{p_{0}p_{1}}^{h_{6}h_{7}}\n",
      " + -0.03125 * \\Phi_{h_{4}h_{6}}^{p_{0}p_{1}}v_{h_{7}h_{5}}^{p_{2}p_{3}}t2_{p_{3}p_{2}}^{h_{4}h_{5}}t2_{p_{0}p_{1}}^{h_{6}h_{7}}\n",
      " + 0.0625 * \\Phi_{h_{4}h_{6}}^{p_{0}p_{1}}v_{h_{5}h_{7}}^{p_{2}p_{3}}t2_{p_{1}p_{2}}^{h_{4}h_{5}}t2_{p_{3}p_{0}}^{h_{6}h_{7}}\n",
      " + -0.125 * \\Phi_{h_{4}h_{6}}^{p_{0}p_{1}}v_{h_{5}h_{7}}^{p_{2}p_{3}}t2_{p_{1}p_{3}}^{h_{4}h_{5}}t2_{p_{2}p_{0}}^{h_{6}h_{7}}\n",
      " + -0.125 * \\Phi_{h_{4}h_{6}}^{p_{0}p_{1}}v_{h_{7}h_{5}}^{p_{2}p_{3}}t2_{p_{1}p_{2}}^{h_{4}h_{5}}t2_{p_{3}p_{0}}^{h_{6}h_{7}}\n",
      " + 0.0625 * \\Phi_{h_{4}h_{6}}^{p_{0}p_{1}}v_{h_{7}h_{5}}^{p_{2}p_{3}}t2_{p_{1}p_{3}}^{h_{4}h_{5}}t2_{p_{2}p_{0}}^{h_{6}h_{7}}\n",
      " + -0.125 * \\Phi_{h_{4}h_{6}}^{p_{0}p_{1}}v_{h_{5}h_{7}}^{p_{2}p_{3}}t2_{p_{2}p_{1}}^{h_{4}h_{5}}t2_{p_{3}p_{0}}^{h_{6}h_{7}}\n",
      " + 0.25 * \\Phi_{h_{4}h_{6}}^{p_{0}p_{1}}v_{h_{5}h_{7}}^{p_{2}p_{3}}t2_{p_{3}p_{1}}^{h_{4}h_{5}}t2_{p_{2}p_{0}}^{h_{6}h_{7}}\n",
      " + 0.25 * \\Phi_{h_{4}h_{6}}^{p_{0}p_{1}}v_{h_{7}h_{5}}^{p_{2}p_{3}}t2_{p_{2}p_{1}}^{h_{4}h_{5}}t2_{p_{3}p_{0}}^{h_{6}h_{7}}\n",
      " + -0.125 * \\Phi_{h_{4}h_{6}}^{p_{0}p_{1}}v_{h_{7}h_{5}}^{p_{2}p_{3}}t2_{p_{3}p_{1}}^{h_{4}h_{5}}t2_{p_{2}p_{0}}^{h_{6}h_{7}}\n",
      " + 0.0625 * \\Phi_{h_{4}h_{6}}^{p_{0}p_{1}}v_{h_{5}h_{7}}^{p_{2}p_{3}}t2_{p_{2}p_{3}}^{h_{4}h_{5}}t2_{p_{1}p_{0}}^{h_{6}h_{7}}\n",
      " + -0.125 * \\Phi_{h_{4}h_{6}}^{p_{0}p_{1}}v_{h_{5}h_{7}}^{p_{2}p_{3}}t2_{p_{3}p_{2}}^{h_{4}h_{5}}t2_{p_{1}p_{0}}^{h_{6}h_{7}}\n",
      " + -0.125 * \\Phi_{h_{4}h_{6}}^{p_{0}p_{1}}v_{h_{7}h_{5}}^{p_{2}p_{3}}t2_{p_{2}p_{3}}^{h_{4}h_{5}}t2_{p_{1}p_{0}}^{h_{6}h_{7}}\n",
      " + 0.0625 * \\Phi_{h_{4}h_{6}}^{p_{0}p_{1}}v_{h_{7}h_{5}}^{p_{2}p_{3}}t2_{p_{3}p_{2}}^{h_{4}h_{5}}t2_{p_{1}p_{0}}^{h_{6}h_{7}}\n",
      " + 0.0625 * \\Phi_{h_{4}h_{7}}^{p_{0}p_{1}}v_{h_{5}h_{6}}^{p_{2}p_{3}}t2_{p_{0}p_{1}}^{h_{4}h_{5}}t2_{p_{2}p_{3}}^{h_{6}h_{7}}\n",
      " + -0.125 * \\Phi_{h_{4}h_{7}}^{p_{0}p_{1}}v_{h_{5}h_{6}}^{p_{2}p_{3}}t2_{p_{0}p_{1}}^{h_{4}h_{5}}t2_{p_{3}p_{2}}^{h_{6}h_{7}}\n",
      " + -0.125 * \\Phi_{h_{4}h_{7}}^{p_{0}p_{1}}v_{h_{6}h_{5}}^{p_{2}p_{3}}t2_{p_{0}p_{1}}^{h_{4}h_{5}}t2_{p_{2}p_{3}}^{h_{6}h_{7}}\n",
      " + 0.0625 * \\Phi_{h_{4}h_{7}}^{p_{0}p_{1}}v_{h_{6}h_{5}}^{p_{2}p_{3}}t2_{p_{0}p_{1}}^{h_{4}h_{5}}t2_{p_{3}p_{2}}^{h_{6}h_{7}}\n",
      " + -0.03125 * \\Phi_{h_{4}h_{7}}^{p_{0}p_{1}}v_{h_{5}h_{6}}^{p_{2}p_{3}}t2_{p_{0}p_{2}}^{h_{4}h_{5}}t2_{p_{1}p_{3}}^{h_{6}h_{7}}\n",
      " + 0.0625 * \\Phi_{h_{4}h_{7}}^{p_{0}p_{1}}v_{h_{5}h_{6}}^{p_{2}p_{3}}t2_{p_{0}p_{3}}^{h_{4}h_{5}}t2_{p_{1}p_{2}}^{h_{6}h_{7}}\n",
      " + 0.0625 * \\Phi_{h_{4}h_{7}}^{p_{0}p_{1}}v_{h_{6}h_{5}}^{p_{2}p_{3}}t2_{p_{0}p_{2}}^{h_{4}h_{5}}t2_{p_{1}p_{3}}^{h_{6}h_{7}}\n",
      " + -0.03125 * \\Phi_{h_{4}h_{7}}^{p_{0}p_{1}}v_{h_{6}h_{5}}^{p_{2}p_{3}}t2_{p_{0}p_{3}}^{h_{4}h_{5}}t2_{p_{1}p_{2}}^{h_{6}h_{7}}\n",
      " + 0.0625 * \\Phi_{h_{4}h_{7}}^{p_{0}p_{1}}v_{h_{5}h_{6}}^{p_{2}p_{3}}t2_{p_{0}p_{2}}^{h_{4}h_{5}}t2_{p_{3}p_{1}}^{h_{6}h_{7}}\n",
      " + -0.03125 * \\Phi_{h_{4}h_{7}}^{p_{0}p_{1}}v_{h_{5}h_{6}}^{p_{2}p_{3}}t2_{p_{0}p_{3}}^{h_{4}h_{5}}t2_{p_{2}p_{1}}^{h_{6}h_{7}}\n",
      " + -0.03125 * \\Phi_{h_{4}h_{7}}^{p_{0}p_{1}}v_{h_{6}h_{5}}^{p_{2}p_{3}}t2_{p_{0}p_{2}}^{h_{4}h_{5}}t2_{p_{3}p_{1}}^{h_{6}h_{7}}\n",
      " + 0.0625 * \\Phi_{h_{4}h_{7}}^{p_{0}p_{1}}v_{h_{6}h_{5}}^{p_{2}p_{3}}t2_{p_{0}p_{3}}^{h_{4}h_{5}}t2_{p_{2}p_{1}}^{h_{6}h_{7}}\n",
      " + -0.03125 * \\Phi_{h_{4}h_{7}}^{p_{0}p_{1}}v_{h_{5}h_{6}}^{p_{2}p_{3}}t2_{p_{1}p_{0}}^{h_{4}h_{5}}t2_{p_{2}p_{3}}^{h_{6}h_{7}}\n",
      " + 0.0625 * \\Phi_{h_{4}h_{7}}^{p_{0}p_{1}}v_{h_{5}h_{6}}^{p_{2}p_{3}}t2_{p_{1}p_{0}}^{h_{4}h_{5}}t2_{p_{3}p_{2}}^{h_{6}h_{7}}\n",
      " + 0.0625 * \\Phi_{h_{4}h_{7}}^{p_{0}p_{1}}v_{h_{6}h_{5}}^{p_{2}p_{3}}t2_{p_{1}p_{0}}^{h_{4}h_{5}}t2_{p_{2}p_{3}}^{h_{6}h_{7}}\n",
      " + -0.03125 * \\Phi_{h_{4}h_{7}}^{p_{0}p_{1}}v_{h_{6}h_{5}}^{p_{2}p_{3}}t2_{p_{1}p_{0}}^{h_{4}h_{5}}t2_{p_{3}p_{2}}^{h_{6}h_{7}}\n",
      " + 0.0625 * \\Phi_{h_{4}h_{7}}^{p_{0}p_{1}}v_{h_{5}h_{6}}^{p_{2}p_{3}}t2_{p_{2}p_{0}}^{h_{4}h_{5}}t2_{p_{1}p_{3}}^{h_{6}h_{7}}\n",
      " + -0.125 * \\Phi_{h_{4}h_{7}}^{p_{0}p_{1}}v_{h_{5}h_{6}}^{p_{2}p_{3}}t2_{p_{3}p_{0}}^{h_{4}h_{5}}t2_{p_{1}p_{2}}^{h_{6}h_{7}}\n",
      " + -0.125 * \\Phi_{h_{4}h_{7}}^{p_{0}p_{1}}v_{h_{6}h_{5}}^{p_{2}p_{3}}t2_{p_{2}p_{0}}^{h_{4}h_{5}}t2_{p_{1}p_{3}}^{h_{6}h_{7}}\n",
      " + 0.0625 * \\Phi_{h_{4}h_{7}}^{p_{0}p_{1}}v_{h_{6}h_{5}}^{p_{2}p_{3}}t2_{p_{3}p_{0}}^{h_{4}h_{5}}t2_{p_{1}p_{2}}^{h_{6}h_{7}}\n",
      " + -0.03125 * \\Phi_{h_{4}h_{7}}^{p_{0}p_{1}}v_{h_{5}h_{6}}^{p_{2}p_{3}}t2_{p_{2}p_{0}}^{h_{4}h_{5}}t2_{p_{3}p_{1}}^{h_{6}h_{7}}\n",
      " + 0.0625 * \\Phi_{h_{4}h_{7}}^{p_{0}p_{1}}v_{h_{5}h_{6}}^{p_{2}p_{3}}t2_{p_{3}p_{0}}^{h_{4}h_{5}}t2_{p_{2}p_{1}}^{h_{6}h_{7}}\n",
      " + 0.0625 * \\Phi_{h_{4}h_{7}}^{p_{0}p_{1}}v_{h_{6}h_{5}}^{p_{2}p_{3}}t2_{p_{2}p_{0}}^{h_{4}h_{5}}t2_{p_{3}p_{1}}^{h_{6}h_{7}}\n",
      " + -0.03125 * \\Phi_{h_{4}h_{7}}^{p_{0}p_{1}}v_{h_{6}h_{5}}^{p_{2}p_{3}}t2_{p_{3}p_{0}}^{h_{4}h_{5}}t2_{p_{2}p_{1}}^{h_{6}h_{7}}\n",
      " + 0.0625 * \\Phi_{h_{4}h_{7}}^{p_{0}p_{1}}v_{h_{5}h_{6}}^{p_{2}p_{3}}t2_{p_{1}p_{2}}^{h_{4}h_{5}}t2_{p_{0}p_{3}}^{h_{6}h_{7}}\n",
      " + -0.125 * \\Phi_{h_{4}h_{7}}^{p_{0}p_{1}}v_{h_{5}h_{6}}^{p_{2}p_{3}}t2_{p_{1}p_{3}}^{h_{4}h_{5}}t2_{p_{0}p_{2}}^{h_{6}h_{7}}\n",
      " + -0.125 * \\Phi_{h_{4}h_{7}}^{p_{0}p_{1}}v_{h_{6}h_{5}}^{p_{2}p_{3}}t2_{p_{1}p_{2}}^{h_{4}h_{5}}t2_{p_{0}p_{3}}^{h_{6}h_{7}}\n",
      " + 0.0625 * \\Phi_{h_{4}h_{7}}^{p_{0}p_{1}}v_{h_{6}h_{5}}^{p_{2}p_{3}}t2_{p_{1}p_{3}}^{h_{4}h_{5}}t2_{p_{0}p_{2}}^{h_{6}h_{7}}\n",
      " + -0.125 * \\Phi_{h_{4}h_{7}}^{p_{0}p_{1}}v_{h_{5}h_{6}}^{p_{2}p_{3}}t2_{p_{2}p_{1}}^{h_{4}h_{5}}t2_{p_{0}p_{3}}^{h_{6}h_{7}}\n",
      " + 0.25 * \\Phi_{h_{4}h_{7}}^{p_{0}p_{1}}v_{h_{5}h_{6}}^{p_{2}p_{3}}t2_{p_{3}p_{1}}^{h_{4}h_{5}}t2_{p_{0}p_{2}}^{h_{6}h_{7}}\n",
      " + 0.25 * \\Phi_{h_{4}h_{7}}^{p_{0}p_{1}}v_{h_{6}h_{5}}^{p_{2}p_{3}}t2_{p_{2}p_{1}}^{h_{4}h_{5}}t2_{p_{0}p_{3}}^{h_{6}h_{7}}\n",
      " + -0.125 * \\Phi_{h_{4}h_{7}}^{p_{0}p_{1}}v_{h_{6}h_{5}}^{p_{2}p_{3}}t2_{p_{3}p_{1}}^{h_{4}h_{5}}t2_{p_{0}p_{2}}^{h_{6}h_{7}}\n",
      " + 0.0625 * \\Phi_{h_{4}h_{7}}^{p_{0}p_{1}}v_{h_{5}h_{6}}^{p_{2}p_{3}}t2_{p_{2}p_{3}}^{h_{4}h_{5}}t2_{p_{0}p_{1}}^{h_{6}h_{7}}\n",
      " + -0.125 * \\Phi_{h_{4}h_{7}}^{p_{0}p_{1}}v_{h_{5}h_{6}}^{p_{2}p_{3}}t2_{p_{3}p_{2}}^{h_{4}h_{5}}t2_{p_{0}p_{1}}^{h_{6}h_{7}}\n",
      " + -0.125 * \\Phi_{h_{4}h_{7}}^{p_{0}p_{1}}v_{h_{6}h_{5}}^{p_{2}p_{3}}t2_{p_{2}p_{3}}^{h_{4}h_{5}}t2_{p_{0}p_{1}}^{h_{6}h_{7}}\n",
      " + 0.0625 * \\Phi_{h_{4}h_{7}}^{p_{0}p_{1}}v_{h_{6}h_{5}}^{p_{2}p_{3}}t2_{p_{3}p_{2}}^{h_{4}h_{5}}t2_{p_{0}p_{1}}^{h_{6}h_{7}}\n",
      " + -0.03125 * \\Phi_{h_{4}h_{7}}^{p_{0}p_{1}}v_{h_{5}h_{6}}^{p_{2}p_{3}}t2_{p_{1}p_{2}}^{h_{4}h_{5}}t2_{p_{3}p_{0}}^{h_{6}h_{7}}\n",
      " + 0.0625 * \\Phi_{h_{4}h_{7}}^{p_{0}p_{1}}v_{h_{5}h_{6}}^{p_{2}p_{3}}t2_{p_{1}p_{3}}^{h_{4}h_{5}}t2_{p_{2}p_{0}}^{h_{6}h_{7}}\n",
      " + 0.0625 * \\Phi_{h_{4}h_{7}}^{p_{0}p_{1}}v_{h_{6}h_{5}}^{p_{2}p_{3}}t2_{p_{1}p_{2}}^{h_{4}h_{5}}t2_{p_{3}p_{0}}^{h_{6}h_{7}}\n",
      " + -0.03125 * \\Phi_{h_{4}h_{7}}^{p_{0}p_{1}}v_{h_{6}h_{5}}^{p_{2}p_{3}}t2_{p_{1}p_{3}}^{h_{4}h_{5}}t2_{p_{2}p_{0}}^{h_{6}h_{7}}\n",
      " + 0.0625 * \\Phi_{h_{4}h_{7}}^{p_{0}p_{1}}v_{h_{5}h_{6}}^{p_{2}p_{3}}t2_{p_{2}p_{1}}^{h_{4}h_{5}}t2_{p_{3}p_{0}}^{h_{6}h_{7}}\n",
      " + -0.125 * \\Phi_{h_{4}h_{7}}^{p_{0}p_{1}}v_{h_{5}h_{6}}^{p_{2}p_{3}}t2_{p_{3}p_{1}}^{h_{4}h_{5}}t2_{p_{2}p_{0}}^{h_{6}h_{7}}\n",
      " + -0.125 * \\Phi_{h_{4}h_{7}}^{p_{0}p_{1}}v_{h_{6}h_{5}}^{p_{2}p_{3}}t2_{p_{2}p_{1}}^{h_{4}h_{5}}t2_{p_{3}p_{0}}^{h_{6}h_{7}}\n",
      " + 0.0625 * \\Phi_{h_{4}h_{7}}^{p_{0}p_{1}}v_{h_{6}h_{5}}^{p_{2}p_{3}}t2_{p_{3}p_{1}}^{h_{4}h_{5}}t2_{p_{2}p_{0}}^{h_{6}h_{7}}\n",
      " + -0.03125 * \\Phi_{h_{4}h_{7}}^{p_{0}p_{1}}v_{h_{5}h_{6}}^{p_{2}p_{3}}t2_{p_{2}p_{3}}^{h_{4}h_{5}}t2_{p_{1}p_{0}}^{h_{6}h_{7}}\n",
      " + 0.0625 * \\Phi_{h_{4}h_{7}}^{p_{0}p_{1}}v_{h_{5}h_{6}}^{p_{2}p_{3}}t2_{p_{3}p_{2}}^{h_{4}h_{5}}t2_{p_{1}p_{0}}^{h_{6}h_{7}}\n",
      " + 0.0625 * \\Phi_{h_{4}h_{7}}^{p_{0}p_{1}}v_{h_{6}h_{5}}^{p_{2}p_{3}}t2_{p_{2}p_{3}}^{h_{4}h_{5}}t2_{p_{1}p_{0}}^{h_{6}h_{7}}\n",
      " + -0.03125 * \\Phi_{h_{4}h_{7}}^{p_{0}p_{1}}v_{h_{6}h_{5}}^{p_{2}p_{3}}t2_{p_{3}p_{2}}^{h_{4}h_{5}}t2_{p_{1}p_{0}}^{h_{6}h_{7}}\n",
      " + -0.125 * \\Phi_{h_{5}h_{4}}^{p_{0}p_{1}}v_{h_{6}h_{7}}^{p_{2}p_{3}}t2_{p_{0}p_{1}}^{h_{4}h_{5}}t2_{p_{2}p_{3}}^{h_{6}h_{7}}\n",
      " + 0.0625 * \\Phi_{h_{5}h_{4}}^{p_{0}p_{1}}v_{h_{6}h_{7}}^{p_{2}p_{3}}t2_{p_{0}p_{1}}^{h_{4}h_{5}}t2_{p_{3}p_{2}}^{h_{6}h_{7}}\n",
      " + 0.0625 * \\Phi_{h_{5}h_{4}}^{p_{0}p_{1}}v_{h_{7}h_{6}}^{p_{2}p_{3}}t2_{p_{0}p_{1}}^{h_{4}h_{5}}t2_{p_{2}p_{3}}^{h_{6}h_{7}}\n",
      " + -0.125 * \\Phi_{h_{5}h_{4}}^{p_{0}p_{1}}v_{h_{7}h_{6}}^{p_{2}p_{3}}t2_{p_{0}p_{1}}^{h_{4}h_{5}}t2_{p_{3}p_{2}}^{h_{6}h_{7}}\n",
      " + 0.0625 * \\Phi_{h_{5}h_{4}}^{p_{0}p_{1}}v_{h_{6}h_{7}}^{p_{2}p_{3}}t2_{p_{0}p_{2}}^{h_{4}h_{5}}t2_{p_{1}p_{3}}^{h_{6}h_{7}}\n",
      " + -0.03125 * \\Phi_{h_{5}h_{4}}^{p_{0}p_{1}}v_{h_{6}h_{7}}^{p_{2}p_{3}}t2_{p_{0}p_{3}}^{h_{4}h_{5}}t2_{p_{1}p_{2}}^{h_{6}h_{7}}\n",
      " + -0.03125 * \\Phi_{h_{5}h_{4}}^{p_{0}p_{1}}v_{h_{7}h_{6}}^{p_{2}p_{3}}t2_{p_{0}p_{2}}^{h_{4}h_{5}}t2_{p_{1}p_{3}}^{h_{6}h_{7}}\n",
      " + 0.0625 * \\Phi_{h_{5}h_{4}}^{p_{0}p_{1}}v_{h_{7}h_{6}}^{p_{2}p_{3}}t2_{p_{0}p_{3}}^{h_{4}h_{5}}t2_{p_{1}p_{2}}^{h_{6}h_{7}}\n",
      " + -0.03125 * \\Phi_{h_{5}h_{4}}^{p_{0}p_{1}}v_{h_{6}h_{7}}^{p_{2}p_{3}}t2_{p_{0}p_{2}}^{h_{4}h_{5}}t2_{p_{3}p_{1}}^{h_{6}h_{7}}\n",
      " + 0.0625 * \\Phi_{h_{5}h_{4}}^{p_{0}p_{1}}v_{h_{6}h_{7}}^{p_{2}p_{3}}t2_{p_{0}p_{3}}^{h_{4}h_{5}}t2_{p_{2}p_{1}}^{h_{6}h_{7}}\n",
      " + 0.0625 * \\Phi_{h_{5}h_{4}}^{p_{0}p_{1}}v_{h_{7}h_{6}}^{p_{2}p_{3}}t2_{p_{0}p_{2}}^{h_{4}h_{5}}t2_{p_{3}p_{1}}^{h_{6}h_{7}}\n",
      " + -0.03125 * \\Phi_{h_{5}h_{4}}^{p_{0}p_{1}}v_{h_{7}h_{6}}^{p_{2}p_{3}}t2_{p_{0}p_{3}}^{h_{4}h_{5}}t2_{p_{2}p_{1}}^{h_{6}h_{7}}\n",
      " + 0.25 * \\Phi_{h_{5}h_{4}}^{p_{0}p_{1}}v_{h_{6}h_{7}}^{p_{2}p_{3}}t2_{p_{1}p_{0}}^{h_{4}h_{5}}t2_{p_{2}p_{3}}^{h_{6}h_{7}}\n",
      " + -0.125 * \\Phi_{h_{5}h_{4}}^{p_{0}p_{1}}v_{h_{6}h_{7}}^{p_{2}p_{3}}t2_{p_{1}p_{0}}^{h_{4}h_{5}}t2_{p_{3}p_{2}}^{h_{6}h_{7}}\n",
      " + -0.125 * \\Phi_{h_{5}h_{4}}^{p_{0}p_{1}}v_{h_{7}h_{6}}^{p_{2}p_{3}}t2_{p_{1}p_{0}}^{h_{4}h_{5}}t2_{p_{2}p_{3}}^{h_{6}h_{7}}\n",
      " + 0.25 * \\Phi_{h_{5}h_{4}}^{p_{0}p_{1}}v_{h_{7}h_{6}}^{p_{2}p_{3}}t2_{p_{1}p_{0}}^{h_{4}h_{5}}t2_{p_{3}p_{2}}^{h_{6}h_{7}}\n",
      " + -0.125 * \\Phi_{h_{5}h_{4}}^{p_{0}p_{1}}v_{h_{6}h_{7}}^{p_{2}p_{3}}t2_{p_{2}p_{0}}^{h_{4}h_{5}}t2_{p_{1}p_{3}}^{h_{6}h_{7}}\n",
      " + 0.0625 * \\Phi_{h_{5}h_{4}}^{p_{0}p_{1}}v_{h_{6}h_{7}}^{p_{2}p_{3}}t2_{p_{3}p_{0}}^{h_{4}h_{5}}t2_{p_{1}p_{2}}^{h_{6}h_{7}}\n",
      " + 0.0625 * \\Phi_{h_{5}h_{4}}^{p_{0}p_{1}}v_{h_{7}h_{6}}^{p_{2}p_{3}}t2_{p_{2}p_{0}}^{h_{4}h_{5}}t2_{p_{1}p_{3}}^{h_{6}h_{7}}\n",
      " + -0.125 * \\Phi_{h_{5}h_{4}}^{p_{0}p_{1}}v_{h_{7}h_{6}}^{p_{2}p_{3}}t2_{p_{3}p_{0}}^{h_{4}h_{5}}t2_{p_{1}p_{2}}^{h_{6}h_{7}}\n",
      " + 0.0625 * \\Phi_{h_{5}h_{4}}^{p_{0}p_{1}}v_{h_{6}h_{7}}^{p_{2}p_{3}}t2_{p_{2}p_{0}}^{h_{4}h_{5}}t2_{p_{3}p_{1}}^{h_{6}h_{7}}\n",
      " + -0.125 * \\Phi_{h_{5}h_{4}}^{p_{0}p_{1}}v_{h_{6}h_{7}}^{p_{2}p_{3}}t2_{p_{3}p_{0}}^{h_{4}h_{5}}t2_{p_{2}p_{1}}^{h_{6}h_{7}}\n",
      " + -0.125 * \\Phi_{h_{5}h_{4}}^{p_{0}p_{1}}v_{h_{7}h_{6}}^{p_{2}p_{3}}t2_{p_{2}p_{0}}^{h_{4}h_{5}}t2_{p_{3}p_{1}}^{h_{6}h_{7}}\n",
      " + 0.0625 * \\Phi_{h_{5}h_{4}}^{p_{0}p_{1}}v_{h_{7}h_{6}}^{p_{2}p_{3}}t2_{p_{3}p_{0}}^{h_{4}h_{5}}t2_{p_{2}p_{1}}^{h_{6}h_{7}}\n",
      " + -0.125 * \\Phi_{h_{5}h_{4}}^{p_{0}p_{1}}v_{h_{6}h_{7}}^{p_{2}p_{3}}t2_{p_{1}p_{2}}^{h_{4}h_{5}}t2_{p_{0}p_{3}}^{h_{6}h_{7}}\n",
      " + 0.0625 * \\Phi_{h_{5}h_{4}}^{p_{0}p_{1}}v_{h_{6}h_{7}}^{p_{2}p_{3}}t2_{p_{1}p_{3}}^{h_{4}h_{5}}t2_{p_{0}p_{2}}^{h_{6}h_{7}}\n",
      " + 0.0625 * \\Phi_{h_{5}h_{4}}^{p_{0}p_{1}}v_{h_{7}h_{6}}^{p_{2}p_{3}}t2_{p_{1}p_{2}}^{h_{4}h_{5}}t2_{p_{0}p_{3}}^{h_{6}h_{7}}\n",
      " + -0.125 * \\Phi_{h_{5}h_{4}}^{p_{0}p_{1}}v_{h_{7}h_{6}}^{p_{2}p_{3}}t2_{p_{1}p_{3}}^{h_{4}h_{5}}t2_{p_{0}p_{2}}^{h_{6}h_{7}}\n",
      " + 0.0625 * \\Phi_{h_{5}h_{4}}^{p_{0}p_{1}}v_{h_{6}h_{7}}^{p_{2}p_{3}}t2_{p_{2}p_{1}}^{h_{4}h_{5}}t2_{p_{0}p_{3}}^{h_{6}h_{7}}\n",
      " + -0.03125 * \\Phi_{h_{5}h_{4}}^{p_{0}p_{1}}v_{h_{6}h_{7}}^{p_{2}p_{3}}t2_{p_{3}p_{1}}^{h_{4}h_{5}}t2_{p_{0}p_{2}}^{h_{6}h_{7}}\n",
      " + -0.03125 * \\Phi_{h_{5}h_{4}}^{p_{0}p_{1}}v_{h_{7}h_{6}}^{p_{2}p_{3}}t2_{p_{2}p_{1}}^{h_{4}h_{5}}t2_{p_{0}p_{3}}^{h_{6}h_{7}}\n",
      " + 0.0625 * \\Phi_{h_{5}h_{4}}^{p_{0}p_{1}}v_{h_{7}h_{6}}^{p_{2}p_{3}}t2_{p_{3}p_{1}}^{h_{4}h_{5}}t2_{p_{0}p_{2}}^{h_{6}h_{7}}\n",
      " + -0.03125 * \\Phi_{h_{5}h_{4}}^{p_{0}p_{1}}v_{h_{6}h_{7}}^{p_{2}p_{3}}t2_{p_{2}p_{3}}^{h_{4}h_{5}}t2_{p_{0}p_{1}}^{h_{6}h_{7}}\n",
      " + 0.0625 * \\Phi_{h_{5}h_{4}}^{p_{0}p_{1}}v_{h_{6}h_{7}}^{p_{2}p_{3}}t2_{p_{3}p_{2}}^{h_{4}h_{5}}t2_{p_{0}p_{1}}^{h_{6}h_{7}}\n",
      " + 0.0625 * \\Phi_{h_{5}h_{4}}^{p_{0}p_{1}}v_{h_{7}h_{6}}^{p_{2}p_{3}}t2_{p_{2}p_{3}}^{h_{4}h_{5}}t2_{p_{0}p_{1}}^{h_{6}h_{7}}\n",
      " + -0.03125 * \\Phi_{h_{5}h_{4}}^{p_{0}p_{1}}v_{h_{7}h_{6}}^{p_{2}p_{3}}t2_{p_{3}p_{2}}^{h_{4}h_{5}}t2_{p_{0}p_{1}}^{h_{6}h_{7}}\n",
      " + 0.0625 * \\Phi_{h_{5}h_{4}}^{p_{0}p_{1}}v_{h_{6}h_{7}}^{p_{2}p_{3}}t2_{p_{1}p_{2}}^{h_{4}h_{5}}t2_{p_{3}p_{0}}^{h_{6}h_{7}}\n",
      " + -0.125 * \\Phi_{h_{5}h_{4}}^{p_{0}p_{1}}v_{h_{6}h_{7}}^{p_{2}p_{3}}t2_{p_{1}p_{3}}^{h_{4}h_{5}}t2_{p_{2}p_{0}}^{h_{6}h_{7}}\n",
      " + -0.125 * \\Phi_{h_{5}h_{4}}^{p_{0}p_{1}}v_{h_{7}h_{6}}^{p_{2}p_{3}}t2_{p_{1}p_{2}}^{h_{4}h_{5}}t2_{p_{3}p_{0}}^{h_{6}h_{7}}\n",
      " + 0.0625 * \\Phi_{h_{5}h_{4}}^{p_{0}p_{1}}v_{h_{7}h_{6}}^{p_{2}p_{3}}t2_{p_{1}p_{3}}^{h_{4}h_{5}}t2_{p_{2}p_{0}}^{h_{6}h_{7}}\n",
      " + -0.03125 * \\Phi_{h_{5}h_{4}}^{p_{0}p_{1}}v_{h_{6}h_{7}}^{p_{2}p_{3}}t2_{p_{2}p_{1}}^{h_{4}h_{5}}t2_{p_{3}p_{0}}^{h_{6}h_{7}}\n",
      " + 0.0625 * \\Phi_{h_{5}h_{4}}^{p_{0}p_{1}}v_{h_{6}h_{7}}^{p_{2}p_{3}}t2_{p_{3}p_{1}}^{h_{4}h_{5}}t2_{p_{2}p_{0}}^{h_{6}h_{7}}\n",
      " + 0.0625 * \\Phi_{h_{5}h_{4}}^{p_{0}p_{1}}v_{h_{7}h_{6}}^{p_{2}p_{3}}t2_{p_{2}p_{1}}^{h_{4}h_{5}}t2_{p_{3}p_{0}}^{h_{6}h_{7}}\n",
      " + -0.03125 * \\Phi_{h_{5}h_{4}}^{p_{0}p_{1}}v_{h_{7}h_{6}}^{p_{2}p_{3}}t2_{p_{3}p_{1}}^{h_{4}h_{5}}t2_{p_{2}p_{0}}^{h_{6}h_{7}}\n",
      " + 0.0625 * \\Phi_{h_{5}h_{4}}^{p_{0}p_{1}}v_{h_{6}h_{7}}^{p_{2}p_{3}}t2_{p_{2}p_{3}}^{h_{4}h_{5}}t2_{p_{1}p_{0}}^{h_{6}h_{7}}\n",
      " + -0.03125 * \\Phi_{h_{5}h_{4}}^{p_{0}p_{1}}v_{h_{6}h_{7}}^{p_{2}p_{3}}t2_{p_{3}p_{2}}^{h_{4}h_{5}}t2_{p_{1}p_{0}}^{h_{6}h_{7}}\n",
      " + -0.03125 * \\Phi_{h_{5}h_{4}}^{p_{0}p_{1}}v_{h_{7}h_{6}}^{p_{2}p_{3}}t2_{p_{2}p_{3}}^{h_{4}h_{5}}t2_{p_{1}p_{0}}^{h_{6}h_{7}}\n",
      " + 0.0625 * \\Phi_{h_{5}h_{4}}^{p_{0}p_{1}}v_{h_{7}h_{6}}^{p_{2}p_{3}}t2_{p_{3}p_{2}}^{h_{4}h_{5}}t2_{p_{1}p_{0}}^{h_{6}h_{7}}\n",
      " + 0.0625 * \\Phi_{h_{5}h_{6}}^{p_{0}p_{1}}v_{h_{4}h_{7}}^{p_{2}p_{3}}t2_{p_{0}p_{1}}^{h_{4}h_{5}}t2_{p_{2}p_{3}}^{h_{6}h_{7}}\n",
      " + -0.03125 * \\Phi_{h_{5}h_{6}}^{p_{0}p_{1}}v_{h_{4}h_{7}}^{p_{2}p_{3}}t2_{p_{0}p_{1}}^{h_{4}h_{5}}t2_{p_{3}p_{2}}^{h_{6}h_{7}}\n",
      " + -0.03125 * \\Phi_{h_{5}h_{6}}^{p_{0}p_{1}}v_{h_{7}h_{4}}^{p_{2}p_{3}}t2_{p_{0}p_{1}}^{h_{4}h_{5}}t2_{p_{2}p_{3}}^{h_{6}h_{7}}\n",
      " + 0.0625 * \\Phi_{h_{5}h_{6}}^{p_{0}p_{1}}v_{h_{7}h_{4}}^{p_{2}p_{3}}t2_{p_{0}p_{1}}^{h_{4}h_{5}}t2_{p_{3}p_{2}}^{h_{6}h_{7}}\n",
      " + -0.03125 * \\Phi_{h_{5}h_{6}}^{p_{0}p_{1}}v_{h_{4}h_{7}}^{p_{2}p_{3}}t2_{p_{0}p_{2}}^{h_{4}h_{5}}t2_{p_{1}p_{3}}^{h_{6}h_{7}}\n",
      " + 0.0625 * \\Phi_{h_{5}h_{6}}^{p_{0}p_{1}}v_{h_{4}h_{7}}^{p_{2}p_{3}}t2_{p_{0}p_{3}}^{h_{4}h_{5}}t2_{p_{1}p_{2}}^{h_{6}h_{7}}\n",
      " + 0.0625 * \\Phi_{h_{5}h_{6}}^{p_{0}p_{1}}v_{h_{7}h_{4}}^{p_{2}p_{3}}t2_{p_{0}p_{2}}^{h_{4}h_{5}}t2_{p_{1}p_{3}}^{h_{6}h_{7}}\n",
      " + -0.03125 * \\Phi_{h_{5}h_{6}}^{p_{0}p_{1}}v_{h_{7}h_{4}}^{p_{2}p_{3}}t2_{p_{0}p_{3}}^{h_{4}h_{5}}t2_{p_{1}p_{2}}^{h_{6}h_{7}}\n",
      " + 0.0625 * \\Phi_{h_{5}h_{6}}^{p_{0}p_{1}}v_{h_{4}h_{7}}^{p_{2}p_{3}}t2_{p_{0}p_{2}}^{h_{4}h_{5}}t2_{p_{3}p_{1}}^{h_{6}h_{7}}\n",
      " + -0.125 * \\Phi_{h_{5}h_{6}}^{p_{0}p_{1}}v_{h_{4}h_{7}}^{p_{2}p_{3}}t2_{p_{0}p_{3}}^{h_{4}h_{5}}t2_{p_{2}p_{1}}^{h_{6}h_{7}}\n",
      " + -0.125 * \\Phi_{h_{5}h_{6}}^{p_{0}p_{1}}v_{h_{7}h_{4}}^{p_{2}p_{3}}t2_{p_{0}p_{2}}^{h_{4}h_{5}}t2_{p_{3}p_{1}}^{h_{6}h_{7}}\n",
      " + 0.0625 * \\Phi_{h_{5}h_{6}}^{p_{0}p_{1}}v_{h_{7}h_{4}}^{p_{2}p_{3}}t2_{p_{0}p_{3}}^{h_{4}h_{5}}t2_{p_{2}p_{1}}^{h_{6}h_{7}}\n",
      " + -0.125 * \\Phi_{h_{5}h_{6}}^{p_{0}p_{1}}v_{h_{4}h_{7}}^{p_{2}p_{3}}t2_{p_{1}p_{0}}^{h_{4}h_{5}}t2_{p_{2}p_{3}}^{h_{6}h_{7}}\n",
      " + 0.0625 * \\Phi_{h_{5}h_{6}}^{p_{0}p_{1}}v_{h_{4}h_{7}}^{p_{2}p_{3}}t2_{p_{1}p_{0}}^{h_{4}h_{5}}t2_{p_{3}p_{2}}^{h_{6}h_{7}}\n",
      " + 0.0625 * \\Phi_{h_{5}h_{6}}^{p_{0}p_{1}}v_{h_{7}h_{4}}^{p_{2}p_{3}}t2_{p_{1}p_{0}}^{h_{4}h_{5}}t2_{p_{2}p_{3}}^{h_{6}h_{7}}\n",
      " + -0.125 * \\Phi_{h_{5}h_{6}}^{p_{0}p_{1}}v_{h_{7}h_{4}}^{p_{2}p_{3}}t2_{p_{1}p_{0}}^{h_{4}h_{5}}t2_{p_{3}p_{2}}^{h_{6}h_{7}}\n",
      " + 0.0625 * \\Phi_{h_{5}h_{6}}^{p_{0}p_{1}}v_{h_{4}h_{7}}^{p_{2}p_{3}}t2_{p_{2}p_{0}}^{h_{4}h_{5}}t2_{p_{1}p_{3}}^{h_{6}h_{7}}\n",
      " + -0.03125 * \\Phi_{h_{5}h_{6}}^{p_{0}p_{1}}v_{h_{4}h_{7}}^{p_{2}p_{3}}t2_{p_{3}p_{0}}^{h_{4}h_{5}}t2_{p_{1}p_{2}}^{h_{6}h_{7}}\n",
      " + -0.03125 * \\Phi_{h_{5}h_{6}}^{p_{0}p_{1}}v_{h_{7}h_{4}}^{p_{2}p_{3}}t2_{p_{2}p_{0}}^{h_{4}h_{5}}t2_{p_{1}p_{3}}^{h_{6}h_{7}}\n",
      " + 0.0625 * \\Phi_{h_{5}h_{6}}^{p_{0}p_{1}}v_{h_{7}h_{4}}^{p_{2}p_{3}}t2_{p_{3}p_{0}}^{h_{4}h_{5}}t2_{p_{1}p_{2}}^{h_{6}h_{7}}\n",
      " + -0.03125 * \\Phi_{h_{5}h_{6}}^{p_{0}p_{1}}v_{h_{4}h_{7}}^{p_{2}p_{3}}t2_{p_{2}p_{0}}^{h_{4}h_{5}}t2_{p_{3}p_{1}}^{h_{6}h_{7}}\n",
      " + 0.0625 * \\Phi_{h_{5}h_{6}}^{p_{0}p_{1}}v_{h_{4}h_{7}}^{p_{2}p_{3}}t2_{p_{3}p_{0}}^{h_{4}h_{5}}t2_{p_{2}p_{1}}^{h_{6}h_{7}}\n",
      " + 0.0625 * \\Phi_{h_{5}h_{6}}^{p_{0}p_{1}}v_{h_{7}h_{4}}^{p_{2}p_{3}}t2_{p_{2}p_{0}}^{h_{4}h_{5}}t2_{p_{3}p_{1}}^{h_{6}h_{7}}\n",
      " + -0.03125 * \\Phi_{h_{5}h_{6}}^{p_{0}p_{1}}v_{h_{7}h_{4}}^{p_{2}p_{3}}t2_{p_{3}p_{0}}^{h_{4}h_{5}}t2_{p_{2}p_{1}}^{h_{6}h_{7}}\n",
      " + 0.0625 * \\Phi_{h_{5}h_{6}}^{p_{0}p_{1}}v_{h_{4}h_{7}}^{p_{2}p_{3}}t2_{p_{1}p_{2}}^{h_{4}h_{5}}t2_{p_{0}p_{3}}^{h_{6}h_{7}}\n",
      " + -0.125 * \\Phi_{h_{5}h_{6}}^{p_{0}p_{1}}v_{h_{4}h_{7}}^{p_{2}p_{3}}t2_{p_{1}p_{3}}^{h_{4}h_{5}}t2_{p_{0}p_{2}}^{h_{6}h_{7}}\n",
      " + -0.125 * \\Phi_{h_{5}h_{6}}^{p_{0}p_{1}}v_{h_{7}h_{4}}^{p_{2}p_{3}}t2_{p_{1}p_{2}}^{h_{4}h_{5}}t2_{p_{0}p_{3}}^{h_{6}h_{7}}\n",
      " + 0.0625 * \\Phi_{h_{5}h_{6}}^{p_{0}p_{1}}v_{h_{7}h_{4}}^{p_{2}p_{3}}t2_{p_{1}p_{3}}^{h_{4}h_{5}}t2_{p_{0}p_{2}}^{h_{6}h_{7}}\n",
      " + -0.03125 * \\Phi_{h_{5}h_{6}}^{p_{0}p_{1}}v_{h_{4}h_{7}}^{p_{2}p_{3}}t2_{p_{2}p_{1}}^{h_{4}h_{5}}t2_{p_{0}p_{3}}^{h_{6}h_{7}}\n",
      " + 0.0625 * \\Phi_{h_{5}h_{6}}^{p_{0}p_{1}}v_{h_{4}h_{7}}^{p_{2}p_{3}}t2_{p_{3}p_{1}}^{h_{4}h_{5}}t2_{p_{0}p_{2}}^{h_{6}h_{7}}\n",
      " + 0.0625 * \\Phi_{h_{5}h_{6}}^{p_{0}p_{1}}v_{h_{7}h_{4}}^{p_{2}p_{3}}t2_{p_{2}p_{1}}^{h_{4}h_{5}}t2_{p_{0}p_{3}}^{h_{6}h_{7}}\n",
      " + -0.03125 * \\Phi_{h_{5}h_{6}}^{p_{0}p_{1}}v_{h_{7}h_{4}}^{p_{2}p_{3}}t2_{p_{3}p_{1}}^{h_{4}h_{5}}t2_{p_{0}p_{2}}^{h_{6}h_{7}}\n",
      " + 0.0625 * \\Phi_{h_{5}h_{6}}^{p_{0}p_{1}}v_{h_{4}h_{7}}^{p_{2}p_{3}}t2_{p_{2}p_{3}}^{h_{4}h_{5}}t2_{p_{0}p_{1}}^{h_{6}h_{7}}\n",
      " + -0.03125 * \\Phi_{h_{5}h_{6}}^{p_{0}p_{1}}v_{h_{4}h_{7}}^{p_{2}p_{3}}t2_{p_{3}p_{2}}^{h_{4}h_{5}}t2_{p_{0}p_{1}}^{h_{6}h_{7}}\n",
      " + -0.03125 * \\Phi_{h_{5}h_{6}}^{p_{0}p_{1}}v_{h_{7}h_{4}}^{p_{2}p_{3}}t2_{p_{2}p_{3}}^{h_{4}h_{5}}t2_{p_{0}p_{1}}^{h_{6}h_{7}}\n",
      " + 0.0625 * \\Phi_{h_{5}h_{6}}^{p_{0}p_{1}}v_{h_{7}h_{4}}^{p_{2}p_{3}}t2_{p_{3}p_{2}}^{h_{4}h_{5}}t2_{p_{0}p_{1}}^{h_{6}h_{7}}\n",
      " + -0.125 * \\Phi_{h_{5}h_{6}}^{p_{0}p_{1}}v_{h_{4}h_{7}}^{p_{2}p_{3}}t2_{p_{1}p_{2}}^{h_{4}h_{5}}t2_{p_{3}p_{0}}^{h_{6}h_{7}}\n",
      " + 0.25 * \\Phi_{h_{5}h_{6}}^{p_{0}p_{1}}v_{h_{4}h_{7}}^{p_{2}p_{3}}t2_{p_{1}p_{3}}^{h_{4}h_{5}}t2_{p_{2}p_{0}}^{h_{6}h_{7}}\n",
      " + 0.25 * \\Phi_{h_{5}h_{6}}^{p_{0}p_{1}}v_{h_{7}h_{4}}^{p_{2}p_{3}}t2_{p_{1}p_{2}}^{h_{4}h_{5}}t2_{p_{3}p_{0}}^{h_{6}h_{7}}\n",
      " + -0.125 * \\Phi_{h_{5}h_{6}}^{p_{0}p_{1}}v_{h_{7}h_{4}}^{p_{2}p_{3}}t2_{p_{1}p_{3}}^{h_{4}h_{5}}t2_{p_{2}p_{0}}^{h_{6}h_{7}}\n",
      " + 0.0625 * \\Phi_{h_{5}h_{6}}^{p_{0}p_{1}}v_{h_{4}h_{7}}^{p_{2}p_{3}}t2_{p_{2}p_{1}}^{h_{4}h_{5}}t2_{p_{3}p_{0}}^{h_{6}h_{7}}\n",
      " + -0.125 * \\Phi_{h_{5}h_{6}}^{p_{0}p_{1}}v_{h_{4}h_{7}}^{p_{2}p_{3}}t2_{p_{3}p_{1}}^{h_{4}h_{5}}t2_{p_{2}p_{0}}^{h_{6}h_{7}}\n",
      " + -0.125 * \\Phi_{h_{5}h_{6}}^{p_{0}p_{1}}v_{h_{7}h_{4}}^{p_{2}p_{3}}t2_{p_{2}p_{1}}^{h_{4}h_{5}}t2_{p_{3}p_{0}}^{h_{6}h_{7}}\n",
      " + 0.0625 * \\Phi_{h_{5}h_{6}}^{p_{0}p_{1}}v_{h_{7}h_{4}}^{p_{2}p_{3}}t2_{p_{3}p_{1}}^{h_{4}h_{5}}t2_{p_{2}p_{0}}^{h_{6}h_{7}}\n",
      " + -0.125 * \\Phi_{h_{5}h_{6}}^{p_{0}p_{1}}v_{h_{4}h_{7}}^{p_{2}p_{3}}t2_{p_{2}p_{3}}^{h_{4}h_{5}}t2_{p_{1}p_{0}}^{h_{6}h_{7}}\n",
      " + 0.0625 * \\Phi_{h_{5}h_{6}}^{p_{0}p_{1}}v_{h_{4}h_{7}}^{p_{2}p_{3}}t2_{p_{3}p_{2}}^{h_{4}h_{5}}t2_{p_{1}p_{0}}^{h_{6}h_{7}}\n",
      " + 0.0625 * \\Phi_{h_{5}h_{6}}^{p_{0}p_{1}}v_{h_{7}h_{4}}^{p_{2}p_{3}}t2_{p_{2}p_{3}}^{h_{4}h_{5}}t2_{p_{1}p_{0}}^{h_{6}h_{7}}\n",
      " + -0.125 * \\Phi_{h_{5}h_{6}}^{p_{0}p_{1}}v_{h_{7}h_{4}}^{p_{2}p_{3}}t2_{p_{3}p_{2}}^{h_{4}h_{5}}t2_{p_{1}p_{0}}^{h_{6}h_{7}}\n",
      " + -0.03125 * \\Phi_{h_{5}h_{7}}^{p_{0}p_{1}}v_{h_{4}h_{6}}^{p_{2}p_{3}}t2_{p_{0}p_{1}}^{h_{4}h_{5}}t2_{p_{2}p_{3}}^{h_{6}h_{7}}\n",
      " + 0.0625 * \\Phi_{h_{5}h_{7}}^{p_{0}p_{1}}v_{h_{4}h_{6}}^{p_{2}p_{3}}t2_{p_{0}p_{1}}^{h_{4}h_{5}}t2_{p_{3}p_{2}}^{h_{6}h_{7}}\n",
      " + 0.0625 * \\Phi_{h_{5}h_{7}}^{p_{0}p_{1}}v_{h_{6}h_{4}}^{p_{2}p_{3}}t2_{p_{0}p_{1}}^{h_{4}h_{5}}t2_{p_{2}p_{3}}^{h_{6}h_{7}}\n",
      " + -0.03125 * \\Phi_{h_{5}h_{7}}^{p_{0}p_{1}}v_{h_{6}h_{4}}^{p_{2}p_{3}}t2_{p_{0}p_{1}}^{h_{4}h_{5}}t2_{p_{3}p_{2}}^{h_{6}h_{7}}\n",
      " + 0.0625 * \\Phi_{h_{5}h_{7}}^{p_{0}p_{1}}v_{h_{4}h_{6}}^{p_{2}p_{3}}t2_{p_{0}p_{2}}^{h_{4}h_{5}}t2_{p_{1}p_{3}}^{h_{6}h_{7}}\n",
      " + -0.125 * \\Phi_{h_{5}h_{7}}^{p_{0}p_{1}}v_{h_{4}h_{6}}^{p_{2}p_{3}}t2_{p_{0}p_{3}}^{h_{4}h_{5}}t2_{p_{1}p_{2}}^{h_{6}h_{7}}\n",
      " + -0.125 * \\Phi_{h_{5}h_{7}}^{p_{0}p_{1}}v_{h_{6}h_{4}}^{p_{2}p_{3}}t2_{p_{0}p_{2}}^{h_{4}h_{5}}t2_{p_{1}p_{3}}^{h_{6}h_{7}}\n",
      " + 0.0625 * \\Phi_{h_{5}h_{7}}^{p_{0}p_{1}}v_{h_{6}h_{4}}^{p_{2}p_{3}}t2_{p_{0}p_{3}}^{h_{4}h_{5}}t2_{p_{1}p_{2}}^{h_{6}h_{7}}\n",
      " + -0.03125 * \\Phi_{h_{5}h_{7}}^{p_{0}p_{1}}v_{h_{4}h_{6}}^{p_{2}p_{3}}t2_{p_{0}p_{2}}^{h_{4}h_{5}}t2_{p_{3}p_{1}}^{h_{6}h_{7}}\n",
      " + 0.0625 * \\Phi_{h_{5}h_{7}}^{p_{0}p_{1}}v_{h_{4}h_{6}}^{p_{2}p_{3}}t2_{p_{0}p_{3}}^{h_{4}h_{5}}t2_{p_{2}p_{1}}^{h_{6}h_{7}}\n",
      " + 0.0625 * \\Phi_{h_{5}h_{7}}^{p_{0}p_{1}}v_{h_{6}h_{4}}^{p_{2}p_{3}}t2_{p_{0}p_{2}}^{h_{4}h_{5}}t2_{p_{3}p_{1}}^{h_{6}h_{7}}\n",
      " + -0.03125 * \\Phi_{h_{5}h_{7}}^{p_{0}p_{1}}v_{h_{6}h_{4}}^{p_{2}p_{3}}t2_{p_{0}p_{3}}^{h_{4}h_{5}}t2_{p_{2}p_{1}}^{h_{6}h_{7}}\n",
      " + 0.0625 * \\Phi_{h_{5}h_{7}}^{p_{0}p_{1}}v_{h_{4}h_{6}}^{p_{2}p_{3}}t2_{p_{1}p_{0}}^{h_{4}h_{5}}t2_{p_{2}p_{3}}^{h_{6}h_{7}}\n",
      " + -0.125 * \\Phi_{h_{5}h_{7}}^{p_{0}p_{1}}v_{h_{4}h_{6}}^{p_{2}p_{3}}t2_{p_{1}p_{0}}^{h_{4}h_{5}}t2_{p_{3}p_{2}}^{h_{6}h_{7}}\n",
      " + -0.125 * \\Phi_{h_{5}h_{7}}^{p_{0}p_{1}}v_{h_{6}h_{4}}^{p_{2}p_{3}}t2_{p_{1}p_{0}}^{h_{4}h_{5}}t2_{p_{2}p_{3}}^{h_{6}h_{7}}\n",
      " + 0.0625 * \\Phi_{h_{5}h_{7}}^{p_{0}p_{1}}v_{h_{6}h_{4}}^{p_{2}p_{3}}t2_{p_{1}p_{0}}^{h_{4}h_{5}}t2_{p_{3}p_{2}}^{h_{6}h_{7}}\n",
      " + -0.03125 * \\Phi_{h_{5}h_{7}}^{p_{0}p_{1}}v_{h_{4}h_{6}}^{p_{2}p_{3}}t2_{p_{2}p_{0}}^{h_{4}h_{5}}t2_{p_{1}p_{3}}^{h_{6}h_{7}}\n",
      " + 0.0625 * \\Phi_{h_{5}h_{7}}^{p_{0}p_{1}}v_{h_{4}h_{6}}^{p_{2}p_{3}}t2_{p_{3}p_{0}}^{h_{4}h_{5}}t2_{p_{1}p_{2}}^{h_{6}h_{7}}\n",
      " + 0.0625 * \\Phi_{h_{5}h_{7}}^{p_{0}p_{1}}v_{h_{6}h_{4}}^{p_{2}p_{3}}t2_{p_{2}p_{0}}^{h_{4}h_{5}}t2_{p_{1}p_{3}}^{h_{6}h_{7}}\n",
      " + -0.03125 * \\Phi_{h_{5}h_{7}}^{p_{0}p_{1}}v_{h_{6}h_{4}}^{p_{2}p_{3}}t2_{p_{3}p_{0}}^{h_{4}h_{5}}t2_{p_{1}p_{2}}^{h_{6}h_{7}}\n",
      " + 0.0625 * \\Phi_{h_{5}h_{7}}^{p_{0}p_{1}}v_{h_{4}h_{6}}^{p_{2}p_{3}}t2_{p_{2}p_{0}}^{h_{4}h_{5}}t2_{p_{3}p_{1}}^{h_{6}h_{7}}\n",
      " + -0.03125 * \\Phi_{h_{5}h_{7}}^{p_{0}p_{1}}v_{h_{4}h_{6}}^{p_{2}p_{3}}t2_{p_{3}p_{0}}^{h_{4}h_{5}}t2_{p_{2}p_{1}}^{h_{6}h_{7}}\n",
      " + -0.03125 * \\Phi_{h_{5}h_{7}}^{p_{0}p_{1}}v_{h_{6}h_{4}}^{p_{2}p_{3}}t2_{p_{2}p_{0}}^{h_{4}h_{5}}t2_{p_{3}p_{1}}^{h_{6}h_{7}}\n",
      " + 0.0625 * \\Phi_{h_{5}h_{7}}^{p_{0}p_{1}}v_{h_{6}h_{4}}^{p_{2}p_{3}}t2_{p_{3}p_{0}}^{h_{4}h_{5}}t2_{p_{2}p_{1}}^{h_{6}h_{7}}\n",
      " + -0.125 * \\Phi_{h_{5}h_{7}}^{p_{0}p_{1}}v_{h_{4}h_{6}}^{p_{2}p_{3}}t2_{p_{1}p_{2}}^{h_{4}h_{5}}t2_{p_{0}p_{3}}^{h_{6}h_{7}}\n",
      " + 0.25 * \\Phi_{h_{5}h_{7}}^{p_{0}p_{1}}v_{h_{4}h_{6}}^{p_{2}p_{3}}t2_{p_{1}p_{3}}^{h_{4}h_{5}}t2_{p_{0}p_{2}}^{h_{6}h_{7}}\n",
      " + 0.25 * \\Phi_{h_{5}h_{7}}^{p_{0}p_{1}}v_{h_{6}h_{4}}^{p_{2}p_{3}}t2_{p_{1}p_{2}}^{h_{4}h_{5}}t2_{p_{0}p_{3}}^{h_{6}h_{7}}\n",
      " + -0.125 * \\Phi_{h_{5}h_{7}}^{p_{0}p_{1}}v_{h_{6}h_{4}}^{p_{2}p_{3}}t2_{p_{1}p_{3}}^{h_{4}h_{5}}t2_{p_{0}p_{2}}^{h_{6}h_{7}}\n",
      " + 0.0625 * \\Phi_{h_{5}h_{7}}^{p_{0}p_{1}}v_{h_{4}h_{6}}^{p_{2}p_{3}}t2_{p_{2}p_{1}}^{h_{4}h_{5}}t2_{p_{0}p_{3}}^{h_{6}h_{7}}\n",
      " + -0.125 * \\Phi_{h_{5}h_{7}}^{p_{0}p_{1}}v_{h_{4}h_{6}}^{p_{2}p_{3}}t2_{p_{3}p_{1}}^{h_{4}h_{5}}t2_{p_{0}p_{2}}^{h_{6}h_{7}}\n",
      " + -0.125 * \\Phi_{h_{5}h_{7}}^{p_{0}p_{1}}v_{h_{6}h_{4}}^{p_{2}p_{3}}t2_{p_{2}p_{1}}^{h_{4}h_{5}}t2_{p_{0}p_{3}}^{h_{6}h_{7}}\n",
      " + 0.0625 * \\Phi_{h_{5}h_{7}}^{p_{0}p_{1}}v_{h_{6}h_{4}}^{p_{2}p_{3}}t2_{p_{3}p_{1}}^{h_{4}h_{5}}t2_{p_{0}p_{2}}^{h_{6}h_{7}}\n",
      " + -0.125 * \\Phi_{h_{5}h_{7}}^{p_{0}p_{1}}v_{h_{4}h_{6}}^{p_{2}p_{3}}t2_{p_{2}p_{3}}^{h_{4}h_{5}}t2_{p_{0}p_{1}}^{h_{6}h_{7}}\n",
      " + 0.0625 * \\Phi_{h_{5}h_{7}}^{p_{0}p_{1}}v_{h_{4}h_{6}}^{p_{2}p_{3}}t2_{p_{3}p_{2}}^{h_{4}h_{5}}t2_{p_{0}p_{1}}^{h_{6}h_{7}}\n",
      " + 0.0625 * \\Phi_{h_{5}h_{7}}^{p_{0}p_{1}}v_{h_{6}h_{4}}^{p_{2}p_{3}}t2_{p_{2}p_{3}}^{h_{4}h_{5}}t2_{p_{0}p_{1}}^{h_{6}h_{7}}\n",
      " + -0.125 * \\Phi_{h_{5}h_{7}}^{p_{0}p_{1}}v_{h_{6}h_{4}}^{p_{2}p_{3}}t2_{p_{3}p_{2}}^{h_{4}h_{5}}t2_{p_{0}p_{1}}^{h_{6}h_{7}}\n",
      " + 0.0625 * \\Phi_{h_{5}h_{7}}^{p_{0}p_{1}}v_{h_{4}h_{6}}^{p_{2}p_{3}}t2_{p_{1}p_{2}}^{h_{4}h_{5}}t2_{p_{3}p_{0}}^{h_{6}h_{7}}\n",
      " + -0.125 * \\Phi_{h_{5}h_{7}}^{p_{0}p_{1}}v_{h_{4}h_{6}}^{p_{2}p_{3}}t2_{p_{1}p_{3}}^{h_{4}h_{5}}t2_{p_{2}p_{0}}^{h_{6}h_{7}}\n",
      " + -0.125 * \\Phi_{h_{5}h_{7}}^{p_{0}p_{1}}v_{h_{6}h_{4}}^{p_{2}p_{3}}t2_{p_{1}p_{2}}^{h_{4}h_{5}}t2_{p_{3}p_{0}}^{h_{6}h_{7}}\n",
      " + 0.0625 * \\Phi_{h_{5}h_{7}}^{p_{0}p_{1}}v_{h_{6}h_{4}}^{p_{2}p_{3}}t2_{p_{1}p_{3}}^{h_{4}h_{5}}t2_{p_{2}p_{0}}^{h_{6}h_{7}}\n",
      " + -0.03125 * \\Phi_{h_{5}h_{7}}^{p_{0}p_{1}}v_{h_{4}h_{6}}^{p_{2}p_{3}}t2_{p_{2}p_{1}}^{h_{4}h_{5}}t2_{p_{3}p_{0}}^{h_{6}h_{7}}\n",
      " + 0.0625 * \\Phi_{h_{5}h_{7}}^{p_{0}p_{1}}v_{h_{4}h_{6}}^{p_{2}p_{3}}t2_{p_{3}p_{1}}^{h_{4}h_{5}}t2_{p_{2}p_{0}}^{h_{6}h_{7}}\n",
      " + 0.0625 * \\Phi_{h_{5}h_{7}}^{p_{0}p_{1}}v_{h_{6}h_{4}}^{p_{2}p_{3}}t2_{p_{2}p_{1}}^{h_{4}h_{5}}t2_{p_{3}p_{0}}^{h_{6}h_{7}}\n",
      " + -0.03125 * \\Phi_{h_{5}h_{7}}^{p_{0}p_{1}}v_{h_{6}h_{4}}^{p_{2}p_{3}}t2_{p_{3}p_{1}}^{h_{4}h_{5}}t2_{p_{2}p_{0}}^{h_{6}h_{7}}\n",
      " + 0.0625 * \\Phi_{h_{5}h_{7}}^{p_{0}p_{1}}v_{h_{4}h_{6}}^{p_{2}p_{3}}t2_{p_{2}p_{3}}^{h_{4}h_{5}}t2_{p_{1}p_{0}}^{h_{6}h_{7}}\n",
      " + -0.03125 * \\Phi_{h_{5}h_{7}}^{p_{0}p_{1}}v_{h_{4}h_{6}}^{p_{2}p_{3}}t2_{p_{3}p_{2}}^{h_{4}h_{5}}t2_{p_{1}p_{0}}^{h_{6}h_{7}}\n",
      " + -0.03125 * \\Phi_{h_{5}h_{7}}^{p_{0}p_{1}}v_{h_{6}h_{4}}^{p_{2}p_{3}}t2_{p_{2}p_{3}}^{h_{4}h_{5}}t2_{p_{1}p_{0}}^{h_{6}h_{7}}\n",
      " + 0.0625 * \\Phi_{h_{5}h_{7}}^{p_{0}p_{1}}v_{h_{6}h_{4}}^{p_{2}p_{3}}t2_{p_{3}p_{2}}^{h_{4}h_{5}}t2_{p_{1}p_{0}}^{h_{6}h_{7}}\n",
      " + 0.0625 * \\Phi_{h_{6}h_{4}}^{p_{0}p_{1}}v_{h_{5}h_{7}}^{p_{2}p_{3}}t2_{p_{0}p_{1}}^{h_{4}h_{5}}t2_{p_{2}p_{3}}^{h_{6}h_{7}}\n",
      " + -0.03125 * \\Phi_{h_{6}h_{4}}^{p_{0}p_{1}}v_{h_{5}h_{7}}^{p_{2}p_{3}}t2_{p_{0}p_{1}}^{h_{4}h_{5}}t2_{p_{3}p_{2}}^{h_{6}h_{7}}\n",
      " + -0.03125 * \\Phi_{h_{6}h_{4}}^{p_{0}p_{1}}v_{h_{7}h_{5}}^{p_{2}p_{3}}t2_{p_{0}p_{1}}^{h_{4}h_{5}}t2_{p_{2}p_{3}}^{h_{6}h_{7}}\n",
      " + 0.0625 * \\Phi_{h_{6}h_{4}}^{p_{0}p_{1}}v_{h_{7}h_{5}}^{p_{2}p_{3}}t2_{p_{0}p_{1}}^{h_{4}h_{5}}t2_{p_{3}p_{2}}^{h_{6}h_{7}}\n",
      " + -0.03125 * \\Phi_{h_{6}h_{4}}^{p_{0}p_{1}}v_{h_{5}h_{7}}^{p_{2}p_{3}}t2_{p_{0}p_{2}}^{h_{4}h_{5}}t2_{p_{1}p_{3}}^{h_{6}h_{7}}\n",
      " + 0.0625 * \\Phi_{h_{6}h_{4}}^{p_{0}p_{1}}v_{h_{5}h_{7}}^{p_{2}p_{3}}t2_{p_{0}p_{3}}^{h_{4}h_{5}}t2_{p_{1}p_{2}}^{h_{6}h_{7}}\n",
      " + 0.0625 * \\Phi_{h_{6}h_{4}}^{p_{0}p_{1}}v_{h_{7}h_{5}}^{p_{2}p_{3}}t2_{p_{0}p_{2}}^{h_{4}h_{5}}t2_{p_{1}p_{3}}^{h_{6}h_{7}}\n",
      " + -0.03125 * \\Phi_{h_{6}h_{4}}^{p_{0}p_{1}}v_{h_{7}h_{5}}^{p_{2}p_{3}}t2_{p_{0}p_{3}}^{h_{4}h_{5}}t2_{p_{1}p_{2}}^{h_{6}h_{7}}\n",
      " + 0.0625 * \\Phi_{h_{6}h_{4}}^{p_{0}p_{1}}v_{h_{5}h_{7}}^{p_{2}p_{3}}t2_{p_{0}p_{2}}^{h_{4}h_{5}}t2_{p_{3}p_{1}}^{h_{6}h_{7}}\n",
      " + -0.125 * \\Phi_{h_{6}h_{4}}^{p_{0}p_{1}}v_{h_{5}h_{7}}^{p_{2}p_{3}}t2_{p_{0}p_{3}}^{h_{4}h_{5}}t2_{p_{2}p_{1}}^{h_{6}h_{7}}\n",
      " + -0.125 * \\Phi_{h_{6}h_{4}}^{p_{0}p_{1}}v_{h_{7}h_{5}}^{p_{2}p_{3}}t2_{p_{0}p_{2}}^{h_{4}h_{5}}t2_{p_{3}p_{1}}^{h_{6}h_{7}}\n",
      " + 0.0625 * \\Phi_{h_{6}h_{4}}^{p_{0}p_{1}}v_{h_{7}h_{5}}^{p_{2}p_{3}}t2_{p_{0}p_{3}}^{h_{4}h_{5}}t2_{p_{2}p_{1}}^{h_{6}h_{7}}\n",
      " + -0.125 * \\Phi_{h_{6}h_{4}}^{p_{0}p_{1}}v_{h_{5}h_{7}}^{p_{2}p_{3}}t2_{p_{1}p_{0}}^{h_{4}h_{5}}t2_{p_{2}p_{3}}^{h_{6}h_{7}}\n",
      " + 0.0625 * \\Phi_{h_{6}h_{4}}^{p_{0}p_{1}}v_{h_{5}h_{7}}^{p_{2}p_{3}}t2_{p_{1}p_{0}}^{h_{4}h_{5}}t2_{p_{3}p_{2}}^{h_{6}h_{7}}\n",
      " + 0.0625 * \\Phi_{h_{6}h_{4}}^{p_{0}p_{1}}v_{h_{7}h_{5}}^{p_{2}p_{3}}t2_{p_{1}p_{0}}^{h_{4}h_{5}}t2_{p_{2}p_{3}}^{h_{6}h_{7}}\n",
      " + -0.125 * \\Phi_{h_{6}h_{4}}^{p_{0}p_{1}}v_{h_{7}h_{5}}^{p_{2}p_{3}}t2_{p_{1}p_{0}}^{h_{4}h_{5}}t2_{p_{3}p_{2}}^{h_{6}h_{7}}\n",
      " + 0.0625 * \\Phi_{h_{6}h_{4}}^{p_{0}p_{1}}v_{h_{5}h_{7}}^{p_{2}p_{3}}t2_{p_{2}p_{0}}^{h_{4}h_{5}}t2_{p_{1}p_{3}}^{h_{6}h_{7}}\n",
      " + -0.125 * \\Phi_{h_{6}h_{4}}^{p_{0}p_{1}}v_{h_{5}h_{7}}^{p_{2}p_{3}}t2_{p_{3}p_{0}}^{h_{4}h_{5}}t2_{p_{1}p_{2}}^{h_{6}h_{7}}\n",
      " + -0.125 * \\Phi_{h_{6}h_{4}}^{p_{0}p_{1}}v_{h_{7}h_{5}}^{p_{2}p_{3}}t2_{p_{2}p_{0}}^{h_{4}h_{5}}t2_{p_{1}p_{3}}^{h_{6}h_{7}}\n",
      " + 0.0625 * \\Phi_{h_{6}h_{4}}^{p_{0}p_{1}}v_{h_{7}h_{5}}^{p_{2}p_{3}}t2_{p_{3}p_{0}}^{h_{4}h_{5}}t2_{p_{1}p_{2}}^{h_{6}h_{7}}\n",
      " + -0.125 * \\Phi_{h_{6}h_{4}}^{p_{0}p_{1}}v_{h_{5}h_{7}}^{p_{2}p_{3}}t2_{p_{2}p_{0}}^{h_{4}h_{5}}t2_{p_{3}p_{1}}^{h_{6}h_{7}}\n",
      " + 0.25 * \\Phi_{h_{6}h_{4}}^{p_{0}p_{1}}v_{h_{5}h_{7}}^{p_{2}p_{3}}t2_{p_{3}p_{0}}^{h_{4}h_{5}}t2_{p_{2}p_{1}}^{h_{6}h_{7}}\n",
      " + 0.25 * \\Phi_{h_{6}h_{4}}^{p_{0}p_{1}}v_{h_{7}h_{5}}^{p_{2}p_{3}}t2_{p_{2}p_{0}}^{h_{4}h_{5}}t2_{p_{3}p_{1}}^{h_{6}h_{7}}\n",
      " + -0.125 * \\Phi_{h_{6}h_{4}}^{p_{0}p_{1}}v_{h_{7}h_{5}}^{p_{2}p_{3}}t2_{p_{3}p_{0}}^{h_{4}h_{5}}t2_{p_{2}p_{1}}^{h_{6}h_{7}}\n",
      " + 0.0625 * \\Phi_{h_{6}h_{4}}^{p_{0}p_{1}}v_{h_{5}h_{7}}^{p_{2}p_{3}}t2_{p_{1}p_{2}}^{h_{4}h_{5}}t2_{p_{0}p_{3}}^{h_{6}h_{7}}\n",
      " + -0.03125 * \\Phi_{h_{6}h_{4}}^{p_{0}p_{1}}v_{h_{5}h_{7}}^{p_{2}p_{3}}t2_{p_{1}p_{3}}^{h_{4}h_{5}}t2_{p_{0}p_{2}}^{h_{6}h_{7}}\n",
      " + -0.03125 * \\Phi_{h_{6}h_{4}}^{p_{0}p_{1}}v_{h_{7}h_{5}}^{p_{2}p_{3}}t2_{p_{1}p_{2}}^{h_{4}h_{5}}t2_{p_{0}p_{3}}^{h_{6}h_{7}}\n",
      " + 0.0625 * \\Phi_{h_{6}h_{4}}^{p_{0}p_{1}}v_{h_{7}h_{5}}^{p_{2}p_{3}}t2_{p_{1}p_{3}}^{h_{4}h_{5}}t2_{p_{0}p_{2}}^{h_{6}h_{7}}\n",
      " + -0.03125 * \\Phi_{h_{6}h_{4}}^{p_{0}p_{1}}v_{h_{5}h_{7}}^{p_{2}p_{3}}t2_{p_{2}p_{1}}^{h_{4}h_{5}}t2_{p_{0}p_{3}}^{h_{6}h_{7}}\n",
      " + 0.0625 * \\Phi_{h_{6}h_{4}}^{p_{0}p_{1}}v_{h_{5}h_{7}}^{p_{2}p_{3}}t2_{p_{3}p_{1}}^{h_{4}h_{5}}t2_{p_{0}p_{2}}^{h_{6}h_{7}}\n",
      " + 0.0625 * \\Phi_{h_{6}h_{4}}^{p_{0}p_{1}}v_{h_{7}h_{5}}^{p_{2}p_{3}}t2_{p_{2}p_{1}}^{h_{4}h_{5}}t2_{p_{0}p_{3}}^{h_{6}h_{7}}\n",
      " + -0.03125 * \\Phi_{h_{6}h_{4}}^{p_{0}p_{1}}v_{h_{7}h_{5}}^{p_{2}p_{3}}t2_{p_{3}p_{1}}^{h_{4}h_{5}}t2_{p_{0}p_{2}}^{h_{6}h_{7}}\n",
      " + 0.0625 * \\Phi_{h_{6}h_{4}}^{p_{0}p_{1}}v_{h_{5}h_{7}}^{p_{2}p_{3}}t2_{p_{2}p_{3}}^{h_{4}h_{5}}t2_{p_{0}p_{1}}^{h_{6}h_{7}}\n",
      " + -0.125 * \\Phi_{h_{6}h_{4}}^{p_{0}p_{1}}v_{h_{5}h_{7}}^{p_{2}p_{3}}t2_{p_{3}p_{2}}^{h_{4}h_{5}}t2_{p_{0}p_{1}}^{h_{6}h_{7}}\n",
      " + -0.125 * \\Phi_{h_{6}h_{4}}^{p_{0}p_{1}}v_{h_{7}h_{5}}^{p_{2}p_{3}}t2_{p_{2}p_{3}}^{h_{4}h_{5}}t2_{p_{0}p_{1}}^{h_{6}h_{7}}\n",
      " + 0.0625 * \\Phi_{h_{6}h_{4}}^{p_{0}p_{1}}v_{h_{7}h_{5}}^{p_{2}p_{3}}t2_{p_{3}p_{2}}^{h_{4}h_{5}}t2_{p_{0}p_{1}}^{h_{6}h_{7}}\n",
      " + -0.03125 * \\Phi_{h_{6}h_{4}}^{p_{0}p_{1}}v_{h_{5}h_{7}}^{p_{2}p_{3}}t2_{p_{1}p_{2}}^{h_{4}h_{5}}t2_{p_{3}p_{0}}^{h_{6}h_{7}}\n",
      " + 0.0625 * \\Phi_{h_{6}h_{4}}^{p_{0}p_{1}}v_{h_{5}h_{7}}^{p_{2}p_{3}}t2_{p_{1}p_{3}}^{h_{4}h_{5}}t2_{p_{2}p_{0}}^{h_{6}h_{7}}\n",
      " + 0.0625 * \\Phi_{h_{6}h_{4}}^{p_{0}p_{1}}v_{h_{7}h_{5}}^{p_{2}p_{3}}t2_{p_{1}p_{2}}^{h_{4}h_{5}}t2_{p_{3}p_{0}}^{h_{6}h_{7}}\n",
      " + -0.03125 * \\Phi_{h_{6}h_{4}}^{p_{0}p_{1}}v_{h_{7}h_{5}}^{p_{2}p_{3}}t2_{p_{1}p_{3}}^{h_{4}h_{5}}t2_{p_{2}p_{0}}^{h_{6}h_{7}}\n",
      " + 0.0625 * \\Phi_{h_{6}h_{4}}^{p_{0}p_{1}}v_{h_{5}h_{7}}^{p_{2}p_{3}}t2_{p_{2}p_{1}}^{h_{4}h_{5}}t2_{p_{3}p_{0}}^{h_{6}h_{7}}\n",
      " + -0.125 * \\Phi_{h_{6}h_{4}}^{p_{0}p_{1}}v_{h_{5}h_{7}}^{p_{2}p_{3}}t2_{p_{3}p_{1}}^{h_{4}h_{5}}t2_{p_{2}p_{0}}^{h_{6}h_{7}}\n",
      " + -0.125 * \\Phi_{h_{6}h_{4}}^{p_{0}p_{1}}v_{h_{7}h_{5}}^{p_{2}p_{3}}t2_{p_{2}p_{1}}^{h_{4}h_{5}}t2_{p_{3}p_{0}}^{h_{6}h_{7}}\n",
      " + 0.0625 * \\Phi_{h_{6}h_{4}}^{p_{0}p_{1}}v_{h_{7}h_{5}}^{p_{2}p_{3}}t2_{p_{3}p_{1}}^{h_{4}h_{5}}t2_{p_{2}p_{0}}^{h_{6}h_{7}}\n",
      " + -0.03125 * \\Phi_{h_{6}h_{4}}^{p_{0}p_{1}}v_{h_{5}h_{7}}^{p_{2}p_{3}}t2_{p_{2}p_{3}}^{h_{4}h_{5}}t2_{p_{1}p_{0}}^{h_{6}h_{7}}\n",
      " + 0.0625 * \\Phi_{h_{6}h_{4}}^{p_{0}p_{1}}v_{h_{5}h_{7}}^{p_{2}p_{3}}t2_{p_{3}p_{2}}^{h_{4}h_{5}}t2_{p_{1}p_{0}}^{h_{6}h_{7}}\n",
      " + 0.0625 * \\Phi_{h_{6}h_{4}}^{p_{0}p_{1}}v_{h_{7}h_{5}}^{p_{2}p_{3}}t2_{p_{2}p_{3}}^{h_{4}h_{5}}t2_{p_{1}p_{0}}^{h_{6}h_{7}}\n",
      " + -0.03125 * \\Phi_{h_{6}h_{4}}^{p_{0}p_{1}}v_{h_{7}h_{5}}^{p_{2}p_{3}}t2_{p_{3}p_{2}}^{h_{4}h_{5}}t2_{p_{1}p_{0}}^{h_{6}h_{7}}\n",
      " + -0.125 * \\Phi_{h_{6}h_{5}}^{p_{0}p_{1}}v_{h_{4}h_{7}}^{p_{2}p_{3}}t2_{p_{0}p_{1}}^{h_{4}h_{5}}t2_{p_{2}p_{3}}^{h_{6}h_{7}}\n",
      " + 0.0625 * \\Phi_{h_{6}h_{5}}^{p_{0}p_{1}}v_{h_{4}h_{7}}^{p_{2}p_{3}}t2_{p_{0}p_{1}}^{h_{4}h_{5}}t2_{p_{3}p_{2}}^{h_{6}h_{7}}\n",
      " + 0.0625 * \\Phi_{h_{6}h_{5}}^{p_{0}p_{1}}v_{h_{7}h_{4}}^{p_{2}p_{3}}t2_{p_{0}p_{1}}^{h_{4}h_{5}}t2_{p_{2}p_{3}}^{h_{6}h_{7}}\n",
      " + -0.125 * \\Phi_{h_{6}h_{5}}^{p_{0}p_{1}}v_{h_{7}h_{4}}^{p_{2}p_{3}}t2_{p_{0}p_{1}}^{h_{4}h_{5}}t2_{p_{3}p_{2}}^{h_{6}h_{7}}\n",
      " + 0.0625 * \\Phi_{h_{6}h_{5}}^{p_{0}p_{1}}v_{h_{4}h_{7}}^{p_{2}p_{3}}t2_{p_{0}p_{2}}^{h_{4}h_{5}}t2_{p_{1}p_{3}}^{h_{6}h_{7}}\n",
      " + -0.125 * \\Phi_{h_{6}h_{5}}^{p_{0}p_{1}}v_{h_{4}h_{7}}^{p_{2}p_{3}}t2_{p_{0}p_{3}}^{h_{4}h_{5}}t2_{p_{1}p_{2}}^{h_{6}h_{7}}\n",
      " + -0.125 * \\Phi_{h_{6}h_{5}}^{p_{0}p_{1}}v_{h_{7}h_{4}}^{p_{2}p_{3}}t2_{p_{0}p_{2}}^{h_{4}h_{5}}t2_{p_{1}p_{3}}^{h_{6}h_{7}}\n",
      " + 0.0625 * \\Phi_{h_{6}h_{5}}^{p_{0}p_{1}}v_{h_{7}h_{4}}^{p_{2}p_{3}}t2_{p_{0}p_{3}}^{h_{4}h_{5}}t2_{p_{1}p_{2}}^{h_{6}h_{7}}\n",
      " + -0.125 * \\Phi_{h_{6}h_{5}}^{p_{0}p_{1}}v_{h_{4}h_{7}}^{p_{2}p_{3}}t2_{p_{0}p_{2}}^{h_{4}h_{5}}t2_{p_{3}p_{1}}^{h_{6}h_{7}}\n",
      " + 0.25 * \\Phi_{h_{6}h_{5}}^{p_{0}p_{1}}v_{h_{4}h_{7}}^{p_{2}p_{3}}t2_{p_{0}p_{3}}^{h_{4}h_{5}}t2_{p_{2}p_{1}}^{h_{6}h_{7}}\n",
      " + 0.25 * \\Phi_{h_{6}h_{5}}^{p_{0}p_{1}}v_{h_{7}h_{4}}^{p_{2}p_{3}}t2_{p_{0}p_{2}}^{h_{4}h_{5}}t2_{p_{3}p_{1}}^{h_{6}h_{7}}\n",
      " + -0.125 * \\Phi_{h_{6}h_{5}}^{p_{0}p_{1}}v_{h_{7}h_{4}}^{p_{2}p_{3}}t2_{p_{0}p_{3}}^{h_{4}h_{5}}t2_{p_{2}p_{1}}^{h_{6}h_{7}}\n",
      " + 0.0625 * \\Phi_{h_{6}h_{5}}^{p_{0}p_{1}}v_{h_{4}h_{7}}^{p_{2}p_{3}}t2_{p_{1}p_{0}}^{h_{4}h_{5}}t2_{p_{2}p_{3}}^{h_{6}h_{7}}\n",
      " + -0.03125 * \\Phi_{h_{6}h_{5}}^{p_{0}p_{1}}v_{h_{4}h_{7}}^{p_{2}p_{3}}t2_{p_{1}p_{0}}^{h_{4}h_{5}}t2_{p_{3}p_{2}}^{h_{6}h_{7}}\n",
      " + -0.03125 * \\Phi_{h_{6}h_{5}}^{p_{0}p_{1}}v_{h_{7}h_{4}}^{p_{2}p_{3}}t2_{p_{1}p_{0}}^{h_{4}h_{5}}t2_{p_{2}p_{3}}^{h_{6}h_{7}}\n",
      " + 0.0625 * \\Phi_{h_{6}h_{5}}^{p_{0}p_{1}}v_{h_{7}h_{4}}^{p_{2}p_{3}}t2_{p_{1}p_{0}}^{h_{4}h_{5}}t2_{p_{3}p_{2}}^{h_{6}h_{7}}\n",
      " + -0.03125 * \\Phi_{h_{6}h_{5}}^{p_{0}p_{1}}v_{h_{4}h_{7}}^{p_{2}p_{3}}t2_{p_{2}p_{0}}^{h_{4}h_{5}}t2_{p_{1}p_{3}}^{h_{6}h_{7}}\n",
      " + 0.0625 * \\Phi_{h_{6}h_{5}}^{p_{0}p_{1}}v_{h_{4}h_{7}}^{p_{2}p_{3}}t2_{p_{3}p_{0}}^{h_{4}h_{5}}t2_{p_{1}p_{2}}^{h_{6}h_{7}}\n",
      " + 0.0625 * \\Phi_{h_{6}h_{5}}^{p_{0}p_{1}}v_{h_{7}h_{4}}^{p_{2}p_{3}}t2_{p_{2}p_{0}}^{h_{4}h_{5}}t2_{p_{1}p_{3}}^{h_{6}h_{7}}\n",
      " + -0.03125 * \\Phi_{h_{6}h_{5}}^{p_{0}p_{1}}v_{h_{7}h_{4}}^{p_{2}p_{3}}t2_{p_{3}p_{0}}^{h_{4}h_{5}}t2_{p_{1}p_{2}}^{h_{6}h_{7}}\n",
      " + 0.0625 * \\Phi_{h_{6}h_{5}}^{p_{0}p_{1}}v_{h_{4}h_{7}}^{p_{2}p_{3}}t2_{p_{2}p_{0}}^{h_{4}h_{5}}t2_{p_{3}p_{1}}^{h_{6}h_{7}}\n",
      " + -0.125 * \\Phi_{h_{6}h_{5}}^{p_{0}p_{1}}v_{h_{4}h_{7}}^{p_{2}p_{3}}t2_{p_{3}p_{0}}^{h_{4}h_{5}}t2_{p_{2}p_{1}}^{h_{6}h_{7}}\n",
      " + -0.125 * \\Phi_{h_{6}h_{5}}^{p_{0}p_{1}}v_{h_{7}h_{4}}^{p_{2}p_{3}}t2_{p_{2}p_{0}}^{h_{4}h_{5}}t2_{p_{3}p_{1}}^{h_{6}h_{7}}\n",
      " + 0.0625 * \\Phi_{h_{6}h_{5}}^{p_{0}p_{1}}v_{h_{7}h_{4}}^{p_{2}p_{3}}t2_{p_{3}p_{0}}^{h_{4}h_{5}}t2_{p_{2}p_{1}}^{h_{6}h_{7}}\n",
      " + -0.03125 * \\Phi_{h_{6}h_{5}}^{p_{0}p_{1}}v_{h_{4}h_{7}}^{p_{2}p_{3}}t2_{p_{1}p_{2}}^{h_{4}h_{5}}t2_{p_{0}p_{3}}^{h_{6}h_{7}}\n",
      " + 0.0625 * \\Phi_{h_{6}h_{5}}^{p_{0}p_{1}}v_{h_{4}h_{7}}^{p_{2}p_{3}}t2_{p_{1}p_{3}}^{h_{4}h_{5}}t2_{p_{0}p_{2}}^{h_{6}h_{7}}\n",
      " + 0.0625 * \\Phi_{h_{6}h_{5}}^{p_{0}p_{1}}v_{h_{7}h_{4}}^{p_{2}p_{3}}t2_{p_{1}p_{2}}^{h_{4}h_{5}}t2_{p_{0}p_{3}}^{h_{6}h_{7}}\n",
      " + -0.03125 * \\Phi_{h_{6}h_{5}}^{p_{0}p_{1}}v_{h_{7}h_{4}}^{p_{2}p_{3}}t2_{p_{1}p_{3}}^{h_{4}h_{5}}t2_{p_{0}p_{2}}^{h_{6}h_{7}}\n",
      " + 0.0625 * \\Phi_{h_{6}h_{5}}^{p_{0}p_{1}}v_{h_{4}h_{7}}^{p_{2}p_{3}}t2_{p_{2}p_{1}}^{h_{4}h_{5}}t2_{p_{0}p_{3}}^{h_{6}h_{7}}\n",
      " + -0.03125 * \\Phi_{h_{6}h_{5}}^{p_{0}p_{1}}v_{h_{4}h_{7}}^{p_{2}p_{3}}t2_{p_{3}p_{1}}^{h_{4}h_{5}}t2_{p_{0}p_{2}}^{h_{6}h_{7}}\n",
      " + -0.03125 * \\Phi_{h_{6}h_{5}}^{p_{0}p_{1}}v_{h_{7}h_{4}}^{p_{2}p_{3}}t2_{p_{2}p_{1}}^{h_{4}h_{5}}t2_{p_{0}p_{3}}^{h_{6}h_{7}}\n",
      " + 0.0625 * \\Phi_{h_{6}h_{5}}^{p_{0}p_{1}}v_{h_{7}h_{4}}^{p_{2}p_{3}}t2_{p_{3}p_{1}}^{h_{4}h_{5}}t2_{p_{0}p_{2}}^{h_{6}h_{7}}\n",
      " + -0.125 * \\Phi_{h_{6}h_{5}}^{p_{0}p_{1}}v_{h_{4}h_{7}}^{p_{2}p_{3}}t2_{p_{2}p_{3}}^{h_{4}h_{5}}t2_{p_{0}p_{1}}^{h_{6}h_{7}}\n",
      " + 0.0625 * \\Phi_{h_{6}h_{5}}^{p_{0}p_{1}}v_{h_{4}h_{7}}^{p_{2}p_{3}}t2_{p_{3}p_{2}}^{h_{4}h_{5}}t2_{p_{0}p_{1}}^{h_{6}h_{7}}\n",
      " + 0.0625 * \\Phi_{h_{6}h_{5}}^{p_{0}p_{1}}v_{h_{7}h_{4}}^{p_{2}p_{3}}t2_{p_{2}p_{3}}^{h_{4}h_{5}}t2_{p_{0}p_{1}}^{h_{6}h_{7}}\n",
      " + -0.125 * \\Phi_{h_{6}h_{5}}^{p_{0}p_{1}}v_{h_{7}h_{4}}^{p_{2}p_{3}}t2_{p_{3}p_{2}}^{h_{4}h_{5}}t2_{p_{0}p_{1}}^{h_{6}h_{7}}\n",
      " + 0.0625 * \\Phi_{h_{6}h_{5}}^{p_{0}p_{1}}v_{h_{4}h_{7}}^{p_{2}p_{3}}t2_{p_{1}p_{2}}^{h_{4}h_{5}}t2_{p_{3}p_{0}}^{h_{6}h_{7}}\n",
      " + -0.125 * \\Phi_{h_{6}h_{5}}^{p_{0}p_{1}}v_{h_{4}h_{7}}^{p_{2}p_{3}}t2_{p_{1}p_{3}}^{h_{4}h_{5}}t2_{p_{2}p_{0}}^{h_{6}h_{7}}\n",
      " + -0.125 * \\Phi_{h_{6}h_{5}}^{p_{0}p_{1}}v_{h_{7}h_{4}}^{p_{2}p_{3}}t2_{p_{1}p_{2}}^{h_{4}h_{5}}t2_{p_{3}p_{0}}^{h_{6}h_{7}}\n",
      " + 0.0625 * \\Phi_{h_{6}h_{5}}^{p_{0}p_{1}}v_{h_{7}h_{4}}^{p_{2}p_{3}}t2_{p_{1}p_{3}}^{h_{4}h_{5}}t2_{p_{2}p_{0}}^{h_{6}h_{7}}\n",
      " + -0.03125 * \\Phi_{h_{6}h_{5}}^{p_{0}p_{1}}v_{h_{4}h_{7}}^{p_{2}p_{3}}t2_{p_{2}p_{1}}^{h_{4}h_{5}}t2_{p_{3}p_{0}}^{h_{6}h_{7}}\n",
      " + 0.0625 * \\Phi_{h_{6}h_{5}}^{p_{0}p_{1}}v_{h_{4}h_{7}}^{p_{2}p_{3}}t2_{p_{3}p_{1}}^{h_{4}h_{5}}t2_{p_{2}p_{0}}^{h_{6}h_{7}}\n",
      " + 0.0625 * \\Phi_{h_{6}h_{5}}^{p_{0}p_{1}}v_{h_{7}h_{4}}^{p_{2}p_{3}}t2_{p_{2}p_{1}}^{h_{4}h_{5}}t2_{p_{3}p_{0}}^{h_{6}h_{7}}\n",
      " + -0.03125 * \\Phi_{h_{6}h_{5}}^{p_{0}p_{1}}v_{h_{7}h_{4}}^{p_{2}p_{3}}t2_{p_{3}p_{1}}^{h_{4}h_{5}}t2_{p_{2}p_{0}}^{h_{6}h_{7}}\n",
      " + 0.0625 * \\Phi_{h_{6}h_{5}}^{p_{0}p_{1}}v_{h_{4}h_{7}}^{p_{2}p_{3}}t2_{p_{2}p_{3}}^{h_{4}h_{5}}t2_{p_{1}p_{0}}^{h_{6}h_{7}}\n",
      " + -0.03125 * \\Phi_{h_{6}h_{5}}^{p_{0}p_{1}}v_{h_{4}h_{7}}^{p_{2}p_{3}}t2_{p_{3}p_{2}}^{h_{4}h_{5}}t2_{p_{1}p_{0}}^{h_{6}h_{7}}\n",
      " + -0.03125 * \\Phi_{h_{6}h_{5}}^{p_{0}p_{1}}v_{h_{7}h_{4}}^{p_{2}p_{3}}t2_{p_{2}p_{3}}^{h_{4}h_{5}}t2_{p_{1}p_{0}}^{h_{6}h_{7}}\n",
      " + 0.0625 * \\Phi_{h_{6}h_{5}}^{p_{0}p_{1}}v_{h_{7}h_{4}}^{p_{2}p_{3}}t2_{p_{3}p_{2}}^{h_{4}h_{5}}t2_{p_{1}p_{0}}^{h_{6}h_{7}}\n",
      " + 0.0625 * \\Phi_{h_{6}h_{7}}^{p_{0}p_{1}}v_{h_{4}h_{5}}^{p_{2}p_{3}}t2_{p_{0}p_{1}}^{h_{4}h_{5}}t2_{p_{2}p_{3}}^{h_{6}h_{7}}\n",
      " + -0.03125 * \\Phi_{h_{6}h_{7}}^{p_{0}p_{1}}v_{h_{4}h_{5}}^{p_{2}p_{3}}t2_{p_{0}p_{1}}^{h_{4}h_{5}}t2_{p_{3}p_{2}}^{h_{6}h_{7}}\n",
      " + -0.03125 * \\Phi_{h_{6}h_{7}}^{p_{0}p_{1}}v_{h_{5}h_{4}}^{p_{2}p_{3}}t2_{p_{0}p_{1}}^{h_{4}h_{5}}t2_{p_{2}p_{3}}^{h_{6}h_{7}}\n",
      " + 0.0625 * \\Phi_{h_{6}h_{7}}^{p_{0}p_{1}}v_{h_{5}h_{4}}^{p_{2}p_{3}}t2_{p_{0}p_{1}}^{h_{4}h_{5}}t2_{p_{3}p_{2}}^{h_{6}h_{7}}\n",
      " + -0.03125 * \\Phi_{h_{6}h_{7}}^{p_{0}p_{1}}v_{h_{4}h_{5}}^{p_{2}p_{3}}t2_{p_{0}p_{2}}^{h_{4}h_{5}}t2_{p_{1}p_{3}}^{h_{6}h_{7}}\n",
      " + 0.0625 * \\Phi_{h_{6}h_{7}}^{p_{0}p_{1}}v_{h_{4}h_{5}}^{p_{2}p_{3}}t2_{p_{0}p_{3}}^{h_{4}h_{5}}t2_{p_{1}p_{2}}^{h_{6}h_{7}}\n",
      " + 0.0625 * \\Phi_{h_{6}h_{7}}^{p_{0}p_{1}}v_{h_{5}h_{4}}^{p_{2}p_{3}}t2_{p_{0}p_{2}}^{h_{4}h_{5}}t2_{p_{1}p_{3}}^{h_{6}h_{7}}\n",
      " + -0.03125 * \\Phi_{h_{6}h_{7}}^{p_{0}p_{1}}v_{h_{5}h_{4}}^{p_{2}p_{3}}t2_{p_{0}p_{3}}^{h_{4}h_{5}}t2_{p_{1}p_{2}}^{h_{6}h_{7}}\n",
      " + 0.0625 * \\Phi_{h_{6}h_{7}}^{p_{0}p_{1}}v_{h_{4}h_{5}}^{p_{2}p_{3}}t2_{p_{0}p_{2}}^{h_{4}h_{5}}t2_{p_{3}p_{1}}^{h_{6}h_{7}}\n",
      " + -0.125 * \\Phi_{h_{6}h_{7}}^{p_{0}p_{1}}v_{h_{4}h_{5}}^{p_{2}p_{3}}t2_{p_{0}p_{3}}^{h_{4}h_{5}}t2_{p_{2}p_{1}}^{h_{6}h_{7}}\n",
      " + -0.125 * \\Phi_{h_{6}h_{7}}^{p_{0}p_{1}}v_{h_{5}h_{4}}^{p_{2}p_{3}}t2_{p_{0}p_{2}}^{h_{4}h_{5}}t2_{p_{3}p_{1}}^{h_{6}h_{7}}\n",
      " + 0.0625 * \\Phi_{h_{6}h_{7}}^{p_{0}p_{1}}v_{h_{5}h_{4}}^{p_{2}p_{3}}t2_{p_{0}p_{3}}^{h_{4}h_{5}}t2_{p_{2}p_{1}}^{h_{6}h_{7}}\n",
      " + -0.03125 * \\Phi_{h_{6}h_{7}}^{p_{0}p_{1}}v_{h_{4}h_{5}}^{p_{2}p_{3}}t2_{p_{1}p_{0}}^{h_{4}h_{5}}t2_{p_{2}p_{3}}^{h_{6}h_{7}}\n",
      " + 0.0625 * \\Phi_{h_{6}h_{7}}^{p_{0}p_{1}}v_{h_{4}h_{5}}^{p_{2}p_{3}}t2_{p_{1}p_{0}}^{h_{4}h_{5}}t2_{p_{3}p_{2}}^{h_{6}h_{7}}\n",
      " + 0.0625 * \\Phi_{h_{6}h_{7}}^{p_{0}p_{1}}v_{h_{5}h_{4}}^{p_{2}p_{3}}t2_{p_{1}p_{0}}^{h_{4}h_{5}}t2_{p_{2}p_{3}}^{h_{6}h_{7}}\n",
      " + -0.03125 * \\Phi_{h_{6}h_{7}}^{p_{0}p_{1}}v_{h_{5}h_{4}}^{p_{2}p_{3}}t2_{p_{1}p_{0}}^{h_{4}h_{5}}t2_{p_{3}p_{2}}^{h_{6}h_{7}}\n",
      " + 0.0625 * \\Phi_{h_{6}h_{7}}^{p_{0}p_{1}}v_{h_{4}h_{5}}^{p_{2}p_{3}}t2_{p_{2}p_{0}}^{h_{4}h_{5}}t2_{p_{1}p_{3}}^{h_{6}h_{7}}\n",
      " + -0.03125 * \\Phi_{h_{6}h_{7}}^{p_{0}p_{1}}v_{h_{4}h_{5}}^{p_{2}p_{3}}t2_{p_{3}p_{0}}^{h_{4}h_{5}}t2_{p_{1}p_{2}}^{h_{6}h_{7}}\n",
      " + -0.03125 * \\Phi_{h_{6}h_{7}}^{p_{0}p_{1}}v_{h_{5}h_{4}}^{p_{2}p_{3}}t2_{p_{2}p_{0}}^{h_{4}h_{5}}t2_{p_{1}p_{3}}^{h_{6}h_{7}}\n",
      " + 0.0625 * \\Phi_{h_{6}h_{7}}^{p_{0}p_{1}}v_{h_{5}h_{4}}^{p_{2}p_{3}}t2_{p_{3}p_{0}}^{h_{4}h_{5}}t2_{p_{1}p_{2}}^{h_{6}h_{7}}\n",
      " + -0.125 * \\Phi_{h_{6}h_{7}}^{p_{0}p_{1}}v_{h_{4}h_{5}}^{p_{2}p_{3}}t2_{p_{2}p_{0}}^{h_{4}h_{5}}t2_{p_{3}p_{1}}^{h_{6}h_{7}}\n",
      " + 0.0625 * \\Phi_{h_{6}h_{7}}^{p_{0}p_{1}}v_{h_{4}h_{5}}^{p_{2}p_{3}}t2_{p_{3}p_{0}}^{h_{4}h_{5}}t2_{p_{2}p_{1}}^{h_{6}h_{7}}\n",
      " + 0.0625 * \\Phi_{h_{6}h_{7}}^{p_{0}p_{1}}v_{h_{5}h_{4}}^{p_{2}p_{3}}t2_{p_{2}p_{0}}^{h_{4}h_{5}}t2_{p_{3}p_{1}}^{h_{6}h_{7}}\n",
      " + -0.125 * \\Phi_{h_{6}h_{7}}^{p_{0}p_{1}}v_{h_{5}h_{4}}^{p_{2}p_{3}}t2_{p_{3}p_{0}}^{h_{4}h_{5}}t2_{p_{2}p_{1}}^{h_{6}h_{7}}\n",
      " + 0.0625 * \\Phi_{h_{6}h_{7}}^{p_{0}p_{1}}v_{h_{4}h_{5}}^{p_{2}p_{3}}t2_{p_{1}p_{2}}^{h_{4}h_{5}}t2_{p_{0}p_{3}}^{h_{6}h_{7}}\n",
      " + -0.125 * \\Phi_{h_{6}h_{7}}^{p_{0}p_{1}}v_{h_{4}h_{5}}^{p_{2}p_{3}}t2_{p_{1}p_{3}}^{h_{4}h_{5}}t2_{p_{0}p_{2}}^{h_{6}h_{7}}\n",
      " + -0.125 * \\Phi_{h_{6}h_{7}}^{p_{0}p_{1}}v_{h_{5}h_{4}}^{p_{2}p_{3}}t2_{p_{1}p_{2}}^{h_{4}h_{5}}t2_{p_{0}p_{3}}^{h_{6}h_{7}}\n",
      " + 0.0625 * \\Phi_{h_{6}h_{7}}^{p_{0}p_{1}}v_{h_{5}h_{4}}^{p_{2}p_{3}}t2_{p_{1}p_{3}}^{h_{4}h_{5}}t2_{p_{0}p_{2}}^{h_{6}h_{7}}\n",
      " + -0.125 * \\Phi_{h_{6}h_{7}}^{p_{0}p_{1}}v_{h_{4}h_{5}}^{p_{2}p_{3}}t2_{p_{2}p_{1}}^{h_{4}h_{5}}t2_{p_{0}p_{3}}^{h_{6}h_{7}}\n",
      " + 0.0625 * \\Phi_{h_{6}h_{7}}^{p_{0}p_{1}}v_{h_{4}h_{5}}^{p_{2}p_{3}}t2_{p_{3}p_{1}}^{h_{4}h_{5}}t2_{p_{0}p_{2}}^{h_{6}h_{7}}\n",
      " + 0.0625 * \\Phi_{h_{6}h_{7}}^{p_{0}p_{1}}v_{h_{5}h_{4}}^{p_{2}p_{3}}t2_{p_{2}p_{1}}^{h_{4}h_{5}}t2_{p_{0}p_{3}}^{h_{6}h_{7}}\n",
      " + -0.125 * \\Phi_{h_{6}h_{7}}^{p_{0}p_{1}}v_{h_{5}h_{4}}^{p_{2}p_{3}}t2_{p_{3}p_{1}}^{h_{4}h_{5}}t2_{p_{0}p_{2}}^{h_{6}h_{7}}\n",
      " + 0.25 * \\Phi_{h_{6}h_{7}}^{p_{0}p_{1}}v_{h_{4}h_{5}}^{p_{2}p_{3}}t2_{p_{2}p_{3}}^{h_{4}h_{5}}t2_{p_{0}p_{1}}^{h_{6}h_{7}}\n",
      " + -0.125 * \\Phi_{h_{6}h_{7}}^{p_{0}p_{1}}v_{h_{4}h_{5}}^{p_{2}p_{3}}t2_{p_{3}p_{2}}^{h_{4}h_{5}}t2_{p_{0}p_{1}}^{h_{6}h_{7}}\n",
      " + -0.125 * \\Phi_{h_{6}h_{7}}^{p_{0}p_{1}}v_{h_{5}h_{4}}^{p_{2}p_{3}}t2_{p_{2}p_{3}}^{h_{4}h_{5}}t2_{p_{0}p_{1}}^{h_{6}h_{7}}\n",
      " + 0.25 * \\Phi_{h_{6}h_{7}}^{p_{0}p_{1}}v_{h_{5}h_{4}}^{p_{2}p_{3}}t2_{p_{3}p_{2}}^{h_{4}h_{5}}t2_{p_{0}p_{1}}^{h_{6}h_{7}}\n",
      " + -0.03125 * \\Phi_{h_{6}h_{7}}^{p_{0}p_{1}}v_{h_{4}h_{5}}^{p_{2}p_{3}}t2_{p_{1}p_{2}}^{h_{4}h_{5}}t2_{p_{3}p_{0}}^{h_{6}h_{7}}\n",
      " + 0.0625 * \\Phi_{h_{6}h_{7}}^{p_{0}p_{1}}v_{h_{4}h_{5}}^{p_{2}p_{3}}t2_{p_{1}p_{3}}^{h_{4}h_{5}}t2_{p_{2}p_{0}}^{h_{6}h_{7}}\n",
      " + 0.0625 * \\Phi_{h_{6}h_{7}}^{p_{0}p_{1}}v_{h_{5}h_{4}}^{p_{2}p_{3}}t2_{p_{1}p_{2}}^{h_{4}h_{5}}t2_{p_{3}p_{0}}^{h_{6}h_{7}}\n",
      " + -0.03125 * \\Phi_{h_{6}h_{7}}^{p_{0}p_{1}}v_{h_{5}h_{4}}^{p_{2}p_{3}}t2_{p_{1}p_{3}}^{h_{4}h_{5}}t2_{p_{2}p_{0}}^{h_{6}h_{7}}\n",
      " + 0.0625 * \\Phi_{h_{6}h_{7}}^{p_{0}p_{1}}v_{h_{4}h_{5}}^{p_{2}p_{3}}t2_{p_{2}p_{1}}^{h_{4}h_{5}}t2_{p_{3}p_{0}}^{h_{6}h_{7}}\n",
      " + -0.03125 * \\Phi_{h_{6}h_{7}}^{p_{0}p_{1}}v_{h_{4}h_{5}}^{p_{2}p_{3}}t2_{p_{3}p_{1}}^{h_{4}h_{5}}t2_{p_{2}p_{0}}^{h_{6}h_{7}}\n",
      " + -0.03125 * \\Phi_{h_{6}h_{7}}^{p_{0}p_{1}}v_{h_{5}h_{4}}^{p_{2}p_{3}}t2_{p_{2}p_{1}}^{h_{4}h_{5}}t2_{p_{3}p_{0}}^{h_{6}h_{7}}\n",
      " + 0.0625 * \\Phi_{h_{6}h_{7}}^{p_{0}p_{1}}v_{h_{5}h_{4}}^{p_{2}p_{3}}t2_{p_{3}p_{1}}^{h_{4}h_{5}}t2_{p_{2}p_{0}}^{h_{6}h_{7}}\n",
      " + -0.125 * \\Phi_{h_{6}h_{7}}^{p_{0}p_{1}}v_{h_{4}h_{5}}^{p_{2}p_{3}}t2_{p_{2}p_{3}}^{h_{4}h_{5}}t2_{p_{1}p_{0}}^{h_{6}h_{7}}\n",
      " + 0.0625 * \\Phi_{h_{6}h_{7}}^{p_{0}p_{1}}v_{h_{4}h_{5}}^{p_{2}p_{3}}t2_{p_{3}p_{2}}^{h_{4}h_{5}}t2_{p_{1}p_{0}}^{h_{6}h_{7}}\n",
      " + 0.0625 * \\Phi_{h_{6}h_{7}}^{p_{0}p_{1}}v_{h_{5}h_{4}}^{p_{2}p_{3}}t2_{p_{2}p_{3}}^{h_{4}h_{5}}t2_{p_{1}p_{0}}^{h_{6}h_{7}}\n",
      " + -0.125 * \\Phi_{h_{6}h_{7}}^{p_{0}p_{1}}v_{h_{5}h_{4}}^{p_{2}p_{3}}t2_{p_{3}p_{2}}^{h_{4}h_{5}}t2_{p_{1}p_{0}}^{h_{6}h_{7}}\n",
      " + -0.03125 * \\Phi_{h_{7}h_{4}}^{p_{0}p_{1}}v_{h_{5}h_{6}}^{p_{2}p_{3}}t2_{p_{0}p_{1}}^{h_{4}h_{5}}t2_{p_{2}p_{3}}^{h_{6}h_{7}}\n",
      " + 0.0625 * \\Phi_{h_{7}h_{4}}^{p_{0}p_{1}}v_{h_{5}h_{6}}^{p_{2}p_{3}}t2_{p_{0}p_{1}}^{h_{4}h_{5}}t2_{p_{3}p_{2}}^{h_{6}h_{7}}\n",
      " + 0.0625 * \\Phi_{h_{7}h_{4}}^{p_{0}p_{1}}v_{h_{6}h_{5}}^{p_{2}p_{3}}t2_{p_{0}p_{1}}^{h_{4}h_{5}}t2_{p_{2}p_{3}}^{h_{6}h_{7}}\n",
      " + -0.03125 * \\Phi_{h_{7}h_{4}}^{p_{0}p_{1}}v_{h_{6}h_{5}}^{p_{2}p_{3}}t2_{p_{0}p_{1}}^{h_{4}h_{5}}t2_{p_{3}p_{2}}^{h_{6}h_{7}}\n",
      " + 0.0625 * \\Phi_{h_{7}h_{4}}^{p_{0}p_{1}}v_{h_{5}h_{6}}^{p_{2}p_{3}}t2_{p_{0}p_{2}}^{h_{4}h_{5}}t2_{p_{1}p_{3}}^{h_{6}h_{7}}\n",
      " + -0.125 * \\Phi_{h_{7}h_{4}}^{p_{0}p_{1}}v_{h_{5}h_{6}}^{p_{2}p_{3}}t2_{p_{0}p_{3}}^{h_{4}h_{5}}t2_{p_{1}p_{2}}^{h_{6}h_{7}}\n",
      " + -0.125 * \\Phi_{h_{7}h_{4}}^{p_{0}p_{1}}v_{h_{6}h_{5}}^{p_{2}p_{3}}t2_{p_{0}p_{2}}^{h_{4}h_{5}}t2_{p_{1}p_{3}}^{h_{6}h_{7}}\n",
      " + 0.0625 * \\Phi_{h_{7}h_{4}}^{p_{0}p_{1}}v_{h_{6}h_{5}}^{p_{2}p_{3}}t2_{p_{0}p_{3}}^{h_{4}h_{5}}t2_{p_{1}p_{2}}^{h_{6}h_{7}}\n",
      " + -0.03125 * \\Phi_{h_{7}h_{4}}^{p_{0}p_{1}}v_{h_{5}h_{6}}^{p_{2}p_{3}}t2_{p_{0}p_{2}}^{h_{4}h_{5}}t2_{p_{3}p_{1}}^{h_{6}h_{7}}\n",
      " + 0.0625 * \\Phi_{h_{7}h_{4}}^{p_{0}p_{1}}v_{h_{5}h_{6}}^{p_{2}p_{3}}t2_{p_{0}p_{3}}^{h_{4}h_{5}}t2_{p_{2}p_{1}}^{h_{6}h_{7}}\n",
      " + 0.0625 * \\Phi_{h_{7}h_{4}}^{p_{0}p_{1}}v_{h_{6}h_{5}}^{p_{2}p_{3}}t2_{p_{0}p_{2}}^{h_{4}h_{5}}t2_{p_{3}p_{1}}^{h_{6}h_{7}}\n",
      " + -0.03125 * \\Phi_{h_{7}h_{4}}^{p_{0}p_{1}}v_{h_{6}h_{5}}^{p_{2}p_{3}}t2_{p_{0}p_{3}}^{h_{4}h_{5}}t2_{p_{2}p_{1}}^{h_{6}h_{7}}\n",
      " + 0.0625 * \\Phi_{h_{7}h_{4}}^{p_{0}p_{1}}v_{h_{5}h_{6}}^{p_{2}p_{3}}t2_{p_{1}p_{0}}^{h_{4}h_{5}}t2_{p_{2}p_{3}}^{h_{6}h_{7}}\n",
      " + -0.125 * \\Phi_{h_{7}h_{4}}^{p_{0}p_{1}}v_{h_{5}h_{6}}^{p_{2}p_{3}}t2_{p_{1}p_{0}}^{h_{4}h_{5}}t2_{p_{3}p_{2}}^{h_{6}h_{7}}\n",
      " + -0.125 * \\Phi_{h_{7}h_{4}}^{p_{0}p_{1}}v_{h_{6}h_{5}}^{p_{2}p_{3}}t2_{p_{1}p_{0}}^{h_{4}h_{5}}t2_{p_{2}p_{3}}^{h_{6}h_{7}}\n",
      " + 0.0625 * \\Phi_{h_{7}h_{4}}^{p_{0}p_{1}}v_{h_{6}h_{5}}^{p_{2}p_{3}}t2_{p_{1}p_{0}}^{h_{4}h_{5}}t2_{p_{3}p_{2}}^{h_{6}h_{7}}\n",
      " + -0.125 * \\Phi_{h_{7}h_{4}}^{p_{0}p_{1}}v_{h_{5}h_{6}}^{p_{2}p_{3}}t2_{p_{2}p_{0}}^{h_{4}h_{5}}t2_{p_{1}p_{3}}^{h_{6}h_{7}}\n",
      " + 0.25 * \\Phi_{h_{7}h_{4}}^{p_{0}p_{1}}v_{h_{5}h_{6}}^{p_{2}p_{3}}t2_{p_{3}p_{0}}^{h_{4}h_{5}}t2_{p_{1}p_{2}}^{h_{6}h_{7}}\n",
      " + 0.25 * \\Phi_{h_{7}h_{4}}^{p_{0}p_{1}}v_{h_{6}h_{5}}^{p_{2}p_{3}}t2_{p_{2}p_{0}}^{h_{4}h_{5}}t2_{p_{1}p_{3}}^{h_{6}h_{7}}\n",
      " + -0.125 * \\Phi_{h_{7}h_{4}}^{p_{0}p_{1}}v_{h_{6}h_{5}}^{p_{2}p_{3}}t2_{p_{3}p_{0}}^{h_{4}h_{5}}t2_{p_{1}p_{2}}^{h_{6}h_{7}}\n",
      " + 0.0625 * \\Phi_{h_{7}h_{4}}^{p_{0}p_{1}}v_{h_{5}h_{6}}^{p_{2}p_{3}}t2_{p_{2}p_{0}}^{h_{4}h_{5}}t2_{p_{3}p_{1}}^{h_{6}h_{7}}\n",
      " + -0.125 * \\Phi_{h_{7}h_{4}}^{p_{0}p_{1}}v_{h_{5}h_{6}}^{p_{2}p_{3}}t2_{p_{3}p_{0}}^{h_{4}h_{5}}t2_{p_{2}p_{1}}^{h_{6}h_{7}}\n",
      " + -0.125 * \\Phi_{h_{7}h_{4}}^{p_{0}p_{1}}v_{h_{6}h_{5}}^{p_{2}p_{3}}t2_{p_{2}p_{0}}^{h_{4}h_{5}}t2_{p_{3}p_{1}}^{h_{6}h_{7}}\n",
      " + 0.0625 * \\Phi_{h_{7}h_{4}}^{p_{0}p_{1}}v_{h_{6}h_{5}}^{p_{2}p_{3}}t2_{p_{3}p_{0}}^{h_{4}h_{5}}t2_{p_{2}p_{1}}^{h_{6}h_{7}}\n",
      " + -0.03125 * \\Phi_{h_{7}h_{4}}^{p_{0}p_{1}}v_{h_{5}h_{6}}^{p_{2}p_{3}}t2_{p_{1}p_{2}}^{h_{4}h_{5}}t2_{p_{0}p_{3}}^{h_{6}h_{7}}\n",
      " + 0.0625 * \\Phi_{h_{7}h_{4}}^{p_{0}p_{1}}v_{h_{5}h_{6}}^{p_{2}p_{3}}t2_{p_{1}p_{3}}^{h_{4}h_{5}}t2_{p_{0}p_{2}}^{h_{6}h_{7}}\n",
      " + 0.0625 * \\Phi_{h_{7}h_{4}}^{p_{0}p_{1}}v_{h_{6}h_{5}}^{p_{2}p_{3}}t2_{p_{1}p_{2}}^{h_{4}h_{5}}t2_{p_{0}p_{3}}^{h_{6}h_{7}}\n",
      " + -0.03125 * \\Phi_{h_{7}h_{4}}^{p_{0}p_{1}}v_{h_{6}h_{5}}^{p_{2}p_{3}}t2_{p_{1}p_{3}}^{h_{4}h_{5}}t2_{p_{0}p_{2}}^{h_{6}h_{7}}\n",
      " + 0.0625 * \\Phi_{h_{7}h_{4}}^{p_{0}p_{1}}v_{h_{5}h_{6}}^{p_{2}p_{3}}t2_{p_{2}p_{1}}^{h_{4}h_{5}}t2_{p_{0}p_{3}}^{h_{6}h_{7}}\n",
      " + -0.125 * \\Phi_{h_{7}h_{4}}^{p_{0}p_{1}}v_{h_{5}h_{6}}^{p_{2}p_{3}}t2_{p_{3}p_{1}}^{h_{4}h_{5}}t2_{p_{0}p_{2}}^{h_{6}h_{7}}\n",
      " + -0.125 * \\Phi_{h_{7}h_{4}}^{p_{0}p_{1}}v_{h_{6}h_{5}}^{p_{2}p_{3}}t2_{p_{2}p_{1}}^{h_{4}h_{5}}t2_{p_{0}p_{3}}^{h_{6}h_{7}}\n",
      " + 0.0625 * \\Phi_{h_{7}h_{4}}^{p_{0}p_{1}}v_{h_{6}h_{5}}^{p_{2}p_{3}}t2_{p_{3}p_{1}}^{h_{4}h_{5}}t2_{p_{0}p_{2}}^{h_{6}h_{7}}\n",
      " + -0.03125 * \\Phi_{h_{7}h_{4}}^{p_{0}p_{1}}v_{h_{5}h_{6}}^{p_{2}p_{3}}t2_{p_{2}p_{3}}^{h_{4}h_{5}}t2_{p_{0}p_{1}}^{h_{6}h_{7}}\n",
      " + 0.0625 * \\Phi_{h_{7}h_{4}}^{p_{0}p_{1}}v_{h_{5}h_{6}}^{p_{2}p_{3}}t2_{p_{3}p_{2}}^{h_{4}h_{5}}t2_{p_{0}p_{1}}^{h_{6}h_{7}}\n",
      " + 0.0625 * \\Phi_{h_{7}h_{4}}^{p_{0}p_{1}}v_{h_{6}h_{5}}^{p_{2}p_{3}}t2_{p_{2}p_{3}}^{h_{4}h_{5}}t2_{p_{0}p_{1}}^{h_{6}h_{7}}\n",
      " + -0.03125 * \\Phi_{h_{7}h_{4}}^{p_{0}p_{1}}v_{h_{6}h_{5}}^{p_{2}p_{3}}t2_{p_{3}p_{2}}^{h_{4}h_{5}}t2_{p_{0}p_{1}}^{h_{6}h_{7}}\n",
      " + 0.0625 * \\Phi_{h_{7}h_{4}}^{p_{0}p_{1}}v_{h_{5}h_{6}}^{p_{2}p_{3}}t2_{p_{1}p_{2}}^{h_{4}h_{5}}t2_{p_{3}p_{0}}^{h_{6}h_{7}}\n",
      " + -0.03125 * \\Phi_{h_{7}h_{4}}^{p_{0}p_{1}}v_{h_{5}h_{6}}^{p_{2}p_{3}}t2_{p_{1}p_{3}}^{h_{4}h_{5}}t2_{p_{2}p_{0}}^{h_{6}h_{7}}\n",
      " + -0.03125 * \\Phi_{h_{7}h_{4}}^{p_{0}p_{1}}v_{h_{6}h_{5}}^{p_{2}p_{3}}t2_{p_{1}p_{2}}^{h_{4}h_{5}}t2_{p_{3}p_{0}}^{h_{6}h_{7}}\n",
      " + 0.0625 * \\Phi_{h_{7}h_{4}}^{p_{0}p_{1}}v_{h_{6}h_{5}}^{p_{2}p_{3}}t2_{p_{1}p_{3}}^{h_{4}h_{5}}t2_{p_{2}p_{0}}^{h_{6}h_{7}}\n",
      " + -0.03125 * \\Phi_{h_{7}h_{4}}^{p_{0}p_{1}}v_{h_{5}h_{6}}^{p_{2}p_{3}}t2_{p_{2}p_{1}}^{h_{4}h_{5}}t2_{p_{3}p_{0}}^{h_{6}h_{7}}\n",
      " + 0.0625 * \\Phi_{h_{7}h_{4}}^{p_{0}p_{1}}v_{h_{5}h_{6}}^{p_{2}p_{3}}t2_{p_{3}p_{1}}^{h_{4}h_{5}}t2_{p_{2}p_{0}}^{h_{6}h_{7}}\n",
      " + 0.0625 * \\Phi_{h_{7}h_{4}}^{p_{0}p_{1}}v_{h_{6}h_{5}}^{p_{2}p_{3}}t2_{p_{2}p_{1}}^{h_{4}h_{5}}t2_{p_{3}p_{0}}^{h_{6}h_{7}}\n",
      " + -0.03125 * \\Phi_{h_{7}h_{4}}^{p_{0}p_{1}}v_{h_{6}h_{5}}^{p_{2}p_{3}}t2_{p_{3}p_{1}}^{h_{4}h_{5}}t2_{p_{2}p_{0}}^{h_{6}h_{7}}\n",
      " + 0.0625 * \\Phi_{h_{7}h_{4}}^{p_{0}p_{1}}v_{h_{5}h_{6}}^{p_{2}p_{3}}t2_{p_{2}p_{3}}^{h_{4}h_{5}}t2_{p_{1}p_{0}}^{h_{6}h_{7}}\n",
      " + -0.125 * \\Phi_{h_{7}h_{4}}^{p_{0}p_{1}}v_{h_{5}h_{6}}^{p_{2}p_{3}}t2_{p_{3}p_{2}}^{h_{4}h_{5}}t2_{p_{1}p_{0}}^{h_{6}h_{7}}\n",
      " + -0.125 * \\Phi_{h_{7}h_{4}}^{p_{0}p_{1}}v_{h_{6}h_{5}}^{p_{2}p_{3}}t2_{p_{2}p_{3}}^{h_{4}h_{5}}t2_{p_{1}p_{0}}^{h_{6}h_{7}}\n",
      " + 0.0625 * \\Phi_{h_{7}h_{4}}^{p_{0}p_{1}}v_{h_{6}h_{5}}^{p_{2}p_{3}}t2_{p_{3}p_{2}}^{h_{4}h_{5}}t2_{p_{1}p_{0}}^{h_{6}h_{7}}\n",
      " + 0.0625 * \\Phi_{h_{7}h_{5}}^{p_{0}p_{1}}v_{h_{4}h_{6}}^{p_{2}p_{3}}t2_{p_{0}p_{1}}^{h_{4}h_{5}}t2_{p_{2}p_{3}}^{h_{6}h_{7}}\n",
      " + -0.125 * \\Phi_{h_{7}h_{5}}^{p_{0}p_{1}}v_{h_{4}h_{6}}^{p_{2}p_{3}}t2_{p_{0}p_{1}}^{h_{4}h_{5}}t2_{p_{3}p_{2}}^{h_{6}h_{7}}\n",
      " + -0.125 * \\Phi_{h_{7}h_{5}}^{p_{0}p_{1}}v_{h_{6}h_{4}}^{p_{2}p_{3}}t2_{p_{0}p_{1}}^{h_{4}h_{5}}t2_{p_{2}p_{3}}^{h_{6}h_{7}}\n",
      " + 0.0625 * \\Phi_{h_{7}h_{5}}^{p_{0}p_{1}}v_{h_{6}h_{4}}^{p_{2}p_{3}}t2_{p_{0}p_{1}}^{h_{4}h_{5}}t2_{p_{3}p_{2}}^{h_{6}h_{7}}\n",
      " + -0.125 * \\Phi_{h_{7}h_{5}}^{p_{0}p_{1}}v_{h_{4}h_{6}}^{p_{2}p_{3}}t2_{p_{0}p_{2}}^{h_{4}h_{5}}t2_{p_{1}p_{3}}^{h_{6}h_{7}}\n",
      " + 0.25 * \\Phi_{h_{7}h_{5}}^{p_{0}p_{1}}v_{h_{4}h_{6}}^{p_{2}p_{3}}t2_{p_{0}p_{3}}^{h_{4}h_{5}}t2_{p_{1}p_{2}}^{h_{6}h_{7}}\n",
      " + 0.25 * \\Phi_{h_{7}h_{5}}^{p_{0}p_{1}}v_{h_{6}h_{4}}^{p_{2}p_{3}}t2_{p_{0}p_{2}}^{h_{4}h_{5}}t2_{p_{1}p_{3}}^{h_{6}h_{7}}\n",
      " + -0.125 * \\Phi_{h_{7}h_{5}}^{p_{0}p_{1}}v_{h_{6}h_{4}}^{p_{2}p_{3}}t2_{p_{0}p_{3}}^{h_{4}h_{5}}t2_{p_{1}p_{2}}^{h_{6}h_{7}}\n",
      " + 0.0625 * \\Phi_{h_{7}h_{5}}^{p_{0}p_{1}}v_{h_{4}h_{6}}^{p_{2}p_{3}}t2_{p_{0}p_{2}}^{h_{4}h_{5}}t2_{p_{3}p_{1}}^{h_{6}h_{7}}\n",
      " + -0.125 * \\Phi_{h_{7}h_{5}}^{p_{0}p_{1}}v_{h_{4}h_{6}}^{p_{2}p_{3}}t2_{p_{0}p_{3}}^{h_{4}h_{5}}t2_{p_{2}p_{1}}^{h_{6}h_{7}}\n",
      " + -0.125 * \\Phi_{h_{7}h_{5}}^{p_{0}p_{1}}v_{h_{6}h_{4}}^{p_{2}p_{3}}t2_{p_{0}p_{2}}^{h_{4}h_{5}}t2_{p_{3}p_{1}}^{h_{6}h_{7}}\n",
      " + 0.0625 * \\Phi_{h_{7}h_{5}}^{p_{0}p_{1}}v_{h_{6}h_{4}}^{p_{2}p_{3}}t2_{p_{0}p_{3}}^{h_{4}h_{5}}t2_{p_{2}p_{1}}^{h_{6}h_{7}}\n",
      " + -0.03125 * \\Phi_{h_{7}h_{5}}^{p_{0}p_{1}}v_{h_{4}h_{6}}^{p_{2}p_{3}}t2_{p_{1}p_{0}}^{h_{4}h_{5}}t2_{p_{2}p_{3}}^{h_{6}h_{7}}\n",
      " + 0.0625 * \\Phi_{h_{7}h_{5}}^{p_{0}p_{1}}v_{h_{4}h_{6}}^{p_{2}p_{3}}t2_{p_{1}p_{0}}^{h_{4}h_{5}}t2_{p_{3}p_{2}}^{h_{6}h_{7}}\n",
      " + 0.0625 * \\Phi_{h_{7}h_{5}}^{p_{0}p_{1}}v_{h_{6}h_{4}}^{p_{2}p_{3}}t2_{p_{1}p_{0}}^{h_{4}h_{5}}t2_{p_{2}p_{3}}^{h_{6}h_{7}}\n",
      " + -0.03125 * \\Phi_{h_{7}h_{5}}^{p_{0}p_{1}}v_{h_{6}h_{4}}^{p_{2}p_{3}}t2_{p_{1}p_{0}}^{h_{4}h_{5}}t2_{p_{3}p_{2}}^{h_{6}h_{7}}\n",
      " + 0.0625 * \\Phi_{h_{7}h_{5}}^{p_{0}p_{1}}v_{h_{4}h_{6}}^{p_{2}p_{3}}t2_{p_{2}p_{0}}^{h_{4}h_{5}}t2_{p_{1}p_{3}}^{h_{6}h_{7}}\n",
      " + -0.125 * \\Phi_{h_{7}h_{5}}^{p_{0}p_{1}}v_{h_{4}h_{6}}^{p_{2}p_{3}}t2_{p_{3}p_{0}}^{h_{4}h_{5}}t2_{p_{1}p_{2}}^{h_{6}h_{7}}\n",
      " + -0.125 * \\Phi_{h_{7}h_{5}}^{p_{0}p_{1}}v_{h_{6}h_{4}}^{p_{2}p_{3}}t2_{p_{2}p_{0}}^{h_{4}h_{5}}t2_{p_{1}p_{3}}^{h_{6}h_{7}}\n",
      " + 0.0625 * \\Phi_{h_{7}h_{5}}^{p_{0}p_{1}}v_{h_{6}h_{4}}^{p_{2}p_{3}}t2_{p_{3}p_{0}}^{h_{4}h_{5}}t2_{p_{1}p_{2}}^{h_{6}h_{7}}\n",
      " + -0.03125 * \\Phi_{h_{7}h_{5}}^{p_{0}p_{1}}v_{h_{4}h_{6}}^{p_{2}p_{3}}t2_{p_{2}p_{0}}^{h_{4}h_{5}}t2_{p_{3}p_{1}}^{h_{6}h_{7}}\n",
      " + 0.0625 * \\Phi_{h_{7}h_{5}}^{p_{0}p_{1}}v_{h_{4}h_{6}}^{p_{2}p_{3}}t2_{p_{3}p_{0}}^{h_{4}h_{5}}t2_{p_{2}p_{1}}^{h_{6}h_{7}}\n",
      " + 0.0625 * \\Phi_{h_{7}h_{5}}^{p_{0}p_{1}}v_{h_{6}h_{4}}^{p_{2}p_{3}}t2_{p_{2}p_{0}}^{h_{4}h_{5}}t2_{p_{3}p_{1}}^{h_{6}h_{7}}\n",
      " + -0.03125 * \\Phi_{h_{7}h_{5}}^{p_{0}p_{1}}v_{h_{6}h_{4}}^{p_{2}p_{3}}t2_{p_{3}p_{0}}^{h_{4}h_{5}}t2_{p_{2}p_{1}}^{h_{6}h_{7}}\n",
      " + 0.0625 * \\Phi_{h_{7}h_{5}}^{p_{0}p_{1}}v_{h_{4}h_{6}}^{p_{2}p_{3}}t2_{p_{1}p_{2}}^{h_{4}h_{5}}t2_{p_{0}p_{3}}^{h_{6}h_{7}}\n",
      " + -0.125 * \\Phi_{h_{7}h_{5}}^{p_{0}p_{1}}v_{h_{4}h_{6}}^{p_{2}p_{3}}t2_{p_{1}p_{3}}^{h_{4}h_{5}}t2_{p_{0}p_{2}}^{h_{6}h_{7}}\n",
      " + -0.125 * \\Phi_{h_{7}h_{5}}^{p_{0}p_{1}}v_{h_{6}h_{4}}^{p_{2}p_{3}}t2_{p_{1}p_{2}}^{h_{4}h_{5}}t2_{p_{0}p_{3}}^{h_{6}h_{7}}\n",
      " + 0.0625 * \\Phi_{h_{7}h_{5}}^{p_{0}p_{1}}v_{h_{6}h_{4}}^{p_{2}p_{3}}t2_{p_{1}p_{3}}^{h_{4}h_{5}}t2_{p_{0}p_{2}}^{h_{6}h_{7}}\n",
      " + -0.03125 * \\Phi_{h_{7}h_{5}}^{p_{0}p_{1}}v_{h_{4}h_{6}}^{p_{2}p_{3}}t2_{p_{2}p_{1}}^{h_{4}h_{5}}t2_{p_{0}p_{3}}^{h_{6}h_{7}}\n",
      " + 0.0625 * \\Phi_{h_{7}h_{5}}^{p_{0}p_{1}}v_{h_{4}h_{6}}^{p_{2}p_{3}}t2_{p_{3}p_{1}}^{h_{4}h_{5}}t2_{p_{0}p_{2}}^{h_{6}h_{7}}\n",
      " + 0.0625 * \\Phi_{h_{7}h_{5}}^{p_{0}p_{1}}v_{h_{6}h_{4}}^{p_{2}p_{3}}t2_{p_{2}p_{1}}^{h_{4}h_{5}}t2_{p_{0}p_{3}}^{h_{6}h_{7}}\n",
      " + -0.03125 * \\Phi_{h_{7}h_{5}}^{p_{0}p_{1}}v_{h_{6}h_{4}}^{p_{2}p_{3}}t2_{p_{3}p_{1}}^{h_{4}h_{5}}t2_{p_{0}p_{2}}^{h_{6}h_{7}}\n",
      " + 0.0625 * \\Phi_{h_{7}h_{5}}^{p_{0}p_{1}}v_{h_{4}h_{6}}^{p_{2}p_{3}}t2_{p_{2}p_{3}}^{h_{4}h_{5}}t2_{p_{0}p_{1}}^{h_{6}h_{7}}\n",
      " + -0.03125 * \\Phi_{h_{7}h_{5}}^{p_{0}p_{1}}v_{h_{4}h_{6}}^{p_{2}p_{3}}t2_{p_{3}p_{2}}^{h_{4}h_{5}}t2_{p_{0}p_{1}}^{h_{6}h_{7}}\n",
      " + -0.03125 * \\Phi_{h_{7}h_{5}}^{p_{0}p_{1}}v_{h_{6}h_{4}}^{p_{2}p_{3}}t2_{p_{2}p_{3}}^{h_{4}h_{5}}t2_{p_{0}p_{1}}^{h_{6}h_{7}}\n",
      " + 0.0625 * \\Phi_{h_{7}h_{5}}^{p_{0}p_{1}}v_{h_{6}h_{4}}^{p_{2}p_{3}}t2_{p_{3}p_{2}}^{h_{4}h_{5}}t2_{p_{0}p_{1}}^{h_{6}h_{7}}\n",
      " + -0.03125 * \\Phi_{h_{7}h_{5}}^{p_{0}p_{1}}v_{h_{4}h_{6}}^{p_{2}p_{3}}t2_{p_{1}p_{2}}^{h_{4}h_{5}}t2_{p_{3}p_{0}}^{h_{6}h_{7}}\n",
      " + 0.0625 * \\Phi_{h_{7}h_{5}}^{p_{0}p_{1}}v_{h_{4}h_{6}}^{p_{2}p_{3}}t2_{p_{1}p_{3}}^{h_{4}h_{5}}t2_{p_{2}p_{0}}^{h_{6}h_{7}}\n",
      " + 0.0625 * \\Phi_{h_{7}h_{5}}^{p_{0}p_{1}}v_{h_{6}h_{4}}^{p_{2}p_{3}}t2_{p_{1}p_{2}}^{h_{4}h_{5}}t2_{p_{3}p_{0}}^{h_{6}h_{7}}\n",
      " + -0.03125 * \\Phi_{h_{7}h_{5}}^{p_{0}p_{1}}v_{h_{6}h_{4}}^{p_{2}p_{3}}t2_{p_{1}p_{3}}^{h_{4}h_{5}}t2_{p_{2}p_{0}}^{h_{6}h_{7}}\n",
      " + 0.0625 * \\Phi_{h_{7}h_{5}}^{p_{0}p_{1}}v_{h_{4}h_{6}}^{p_{2}p_{3}}t2_{p_{2}p_{1}}^{h_{4}h_{5}}t2_{p_{3}p_{0}}^{h_{6}h_{7}}\n",
      " + -0.03125 * \\Phi_{h_{7}h_{5}}^{p_{0}p_{1}}v_{h_{4}h_{6}}^{p_{2}p_{3}}t2_{p_{3}p_{1}}^{h_{4}h_{5}}t2_{p_{2}p_{0}}^{h_{6}h_{7}}\n",
      " + -0.03125 * \\Phi_{h_{7}h_{5}}^{p_{0}p_{1}}v_{h_{6}h_{4}}^{p_{2}p_{3}}t2_{p_{2}p_{1}}^{h_{4}h_{5}}t2_{p_{3}p_{0}}^{h_{6}h_{7}}\n",
      " + 0.0625 * \\Phi_{h_{7}h_{5}}^{p_{0}p_{1}}v_{h_{6}h_{4}}^{p_{2}p_{3}}t2_{p_{3}p_{1}}^{h_{4}h_{5}}t2_{p_{2}p_{0}}^{h_{6}h_{7}}\n",
      " + -0.125 * \\Phi_{h_{7}h_{5}}^{p_{0}p_{1}}v_{h_{4}h_{6}}^{p_{2}p_{3}}t2_{p_{2}p_{3}}^{h_{4}h_{5}}t2_{p_{1}p_{0}}^{h_{6}h_{7}}\n",
      " + 0.0625 * \\Phi_{h_{7}h_{5}}^{p_{0}p_{1}}v_{h_{4}h_{6}}^{p_{2}p_{3}}t2_{p_{3}p_{2}}^{h_{4}h_{5}}t2_{p_{1}p_{0}}^{h_{6}h_{7}}\n",
      " + 0.0625 * \\Phi_{h_{7}h_{5}}^{p_{0}p_{1}}v_{h_{6}h_{4}}^{p_{2}p_{3}}t2_{p_{2}p_{3}}^{h_{4}h_{5}}t2_{p_{1}p_{0}}^{h_{6}h_{7}}\n",
      " + -0.125 * \\Phi_{h_{7}h_{5}}^{p_{0}p_{1}}v_{h_{6}h_{4}}^{p_{2}p_{3}}t2_{p_{3}p_{2}}^{h_{4}h_{5}}t2_{p_{1}p_{0}}^{h_{6}h_{7}}\n",
      " + -0.03125 * \\Phi_{h_{7}h_{6}}^{p_{0}p_{1}}v_{h_{4}h_{5}}^{p_{2}p_{3}}t2_{p_{0}p_{1}}^{h_{4}h_{5}}t2_{p_{2}p_{3}}^{h_{6}h_{7}}\n",
      " + 0.0625 * \\Phi_{h_{7}h_{6}}^{p_{0}p_{1}}v_{h_{4}h_{5}}^{p_{2}p_{3}}t2_{p_{0}p_{1}}^{h_{4}h_{5}}t2_{p_{3}p_{2}}^{h_{6}h_{7}}\n",
      " + 0.0625 * \\Phi_{h_{7}h_{6}}^{p_{0}p_{1}}v_{h_{5}h_{4}}^{p_{2}p_{3}}t2_{p_{0}p_{1}}^{h_{4}h_{5}}t2_{p_{2}p_{3}}^{h_{6}h_{7}}\n",
      " + -0.03125 * \\Phi_{h_{7}h_{6}}^{p_{0}p_{1}}v_{h_{5}h_{4}}^{p_{2}p_{3}}t2_{p_{0}p_{1}}^{h_{4}h_{5}}t2_{p_{3}p_{2}}^{h_{6}h_{7}}\n",
      " + 0.0625 * \\Phi_{h_{7}h_{6}}^{p_{0}p_{1}}v_{h_{4}h_{5}}^{p_{2}p_{3}}t2_{p_{0}p_{2}}^{h_{4}h_{5}}t2_{p_{1}p_{3}}^{h_{6}h_{7}}\n",
      " + -0.125 * \\Phi_{h_{7}h_{6}}^{p_{0}p_{1}}v_{h_{4}h_{5}}^{p_{2}p_{3}}t2_{p_{0}p_{3}}^{h_{4}h_{5}}t2_{p_{1}p_{2}}^{h_{6}h_{7}}\n",
      " + -0.125 * \\Phi_{h_{7}h_{6}}^{p_{0}p_{1}}v_{h_{5}h_{4}}^{p_{2}p_{3}}t2_{p_{0}p_{2}}^{h_{4}h_{5}}t2_{p_{1}p_{3}}^{h_{6}h_{7}}\n",
      " + 0.0625 * \\Phi_{h_{7}h_{6}}^{p_{0}p_{1}}v_{h_{5}h_{4}}^{p_{2}p_{3}}t2_{p_{0}p_{3}}^{h_{4}h_{5}}t2_{p_{1}p_{2}}^{h_{6}h_{7}}\n",
      " + -0.03125 * \\Phi_{h_{7}h_{6}}^{p_{0}p_{1}}v_{h_{4}h_{5}}^{p_{2}p_{3}}t2_{p_{0}p_{2}}^{h_{4}h_{5}}t2_{p_{3}p_{1}}^{h_{6}h_{7}}\n",
      " + 0.0625 * \\Phi_{h_{7}h_{6}}^{p_{0}p_{1}}v_{h_{4}h_{5}}^{p_{2}p_{3}}t2_{p_{0}p_{3}}^{h_{4}h_{5}}t2_{p_{2}p_{1}}^{h_{6}h_{7}}\n",
      " + 0.0625 * \\Phi_{h_{7}h_{6}}^{p_{0}p_{1}}v_{h_{5}h_{4}}^{p_{2}p_{3}}t2_{p_{0}p_{2}}^{h_{4}h_{5}}t2_{p_{3}p_{1}}^{h_{6}h_{7}}\n",
      " + -0.03125 * \\Phi_{h_{7}h_{6}}^{p_{0}p_{1}}v_{h_{5}h_{4}}^{p_{2}p_{3}}t2_{p_{0}p_{3}}^{h_{4}h_{5}}t2_{p_{2}p_{1}}^{h_{6}h_{7}}\n",
      " + 0.0625 * \\Phi_{h_{7}h_{6}}^{p_{0}p_{1}}v_{h_{4}h_{5}}^{p_{2}p_{3}}t2_{p_{1}p_{0}}^{h_{4}h_{5}}t2_{p_{2}p_{3}}^{h_{6}h_{7}}\n",
      " + -0.03125 * \\Phi_{h_{7}h_{6}}^{p_{0}p_{1}}v_{h_{4}h_{5}}^{p_{2}p_{3}}t2_{p_{1}p_{0}}^{h_{4}h_{5}}t2_{p_{3}p_{2}}^{h_{6}h_{7}}\n",
      " + -0.03125 * \\Phi_{h_{7}h_{6}}^{p_{0}p_{1}}v_{h_{5}h_{4}}^{p_{2}p_{3}}t2_{p_{1}p_{0}}^{h_{4}h_{5}}t2_{p_{2}p_{3}}^{h_{6}h_{7}}\n",
      " + 0.0625 * \\Phi_{h_{7}h_{6}}^{p_{0}p_{1}}v_{h_{5}h_{4}}^{p_{2}p_{3}}t2_{p_{1}p_{0}}^{h_{4}h_{5}}t2_{p_{3}p_{2}}^{h_{6}h_{7}}\n",
      " + -0.125 * \\Phi_{h_{7}h_{6}}^{p_{0}p_{1}}v_{h_{4}h_{5}}^{p_{2}p_{3}}t2_{p_{2}p_{0}}^{h_{4}h_{5}}t2_{p_{1}p_{3}}^{h_{6}h_{7}}\n",
      " + 0.0625 * \\Phi_{h_{7}h_{6}}^{p_{0}p_{1}}v_{h_{4}h_{5}}^{p_{2}p_{3}}t2_{p_{3}p_{0}}^{h_{4}h_{5}}t2_{p_{1}p_{2}}^{h_{6}h_{7}}\n",
      " + 0.0625 * \\Phi_{h_{7}h_{6}}^{p_{0}p_{1}}v_{h_{5}h_{4}}^{p_{2}p_{3}}t2_{p_{2}p_{0}}^{h_{4}h_{5}}t2_{p_{1}p_{3}}^{h_{6}h_{7}}\n",
      " + -0.125 * \\Phi_{h_{7}h_{6}}^{p_{0}p_{1}}v_{h_{5}h_{4}}^{p_{2}p_{3}}t2_{p_{3}p_{0}}^{h_{4}h_{5}}t2_{p_{1}p_{2}}^{h_{6}h_{7}}\n",
      " + 0.0625 * \\Phi_{h_{7}h_{6}}^{p_{0}p_{1}}v_{h_{4}h_{5}}^{p_{2}p_{3}}t2_{p_{2}p_{0}}^{h_{4}h_{5}}t2_{p_{3}p_{1}}^{h_{6}h_{7}}\n",
      " + -0.03125 * \\Phi_{h_{7}h_{6}}^{p_{0}p_{1}}v_{h_{4}h_{5}}^{p_{2}p_{3}}t2_{p_{3}p_{0}}^{h_{4}h_{5}}t2_{p_{2}p_{1}}^{h_{6}h_{7}}\n",
      " + -0.03125 * \\Phi_{h_{7}h_{6}}^{p_{0}p_{1}}v_{h_{5}h_{4}}^{p_{2}p_{3}}t2_{p_{2}p_{0}}^{h_{4}h_{5}}t2_{p_{3}p_{1}}^{h_{6}h_{7}}\n",
      " + 0.0625 * \\Phi_{h_{7}h_{6}}^{p_{0}p_{1}}v_{h_{5}h_{4}}^{p_{2}p_{3}}t2_{p_{3}p_{0}}^{h_{4}h_{5}}t2_{p_{2}p_{1}}^{h_{6}h_{7}}\n",
      " + -0.03125 * \\Phi_{h_{7}h_{6}}^{p_{0}p_{1}}v_{h_{4}h_{5}}^{p_{2}p_{3}}t2_{p_{1}p_{2}}^{h_{4}h_{5}}t2_{p_{0}p_{3}}^{h_{6}h_{7}}\n",
      " + 0.0625 * \\Phi_{h_{7}h_{6}}^{p_{0}p_{1}}v_{h_{4}h_{5}}^{p_{2}p_{3}}t2_{p_{1}p_{3}}^{h_{4}h_{5}}t2_{p_{0}p_{2}}^{h_{6}h_{7}}\n",
      " + 0.0625 * \\Phi_{h_{7}h_{6}}^{p_{0}p_{1}}v_{h_{5}h_{4}}^{p_{2}p_{3}}t2_{p_{1}p_{2}}^{h_{4}h_{5}}t2_{p_{0}p_{3}}^{h_{6}h_{7}}\n",
      " + -0.03125 * \\Phi_{h_{7}h_{6}}^{p_{0}p_{1}}v_{h_{5}h_{4}}^{p_{2}p_{3}}t2_{p_{1}p_{3}}^{h_{4}h_{5}}t2_{p_{0}p_{2}}^{h_{6}h_{7}}\n",
      " + 0.0625 * \\Phi_{h_{7}h_{6}}^{p_{0}p_{1}}v_{h_{4}h_{5}}^{p_{2}p_{3}}t2_{p_{2}p_{1}}^{h_{4}h_{5}}t2_{p_{0}p_{3}}^{h_{6}h_{7}}\n",
      " + -0.03125 * \\Phi_{h_{7}h_{6}}^{p_{0}p_{1}}v_{h_{4}h_{5}}^{p_{2}p_{3}}t2_{p_{3}p_{1}}^{h_{4}h_{5}}t2_{p_{0}p_{2}}^{h_{6}h_{7}}\n",
      " + -0.03125 * \\Phi_{h_{7}h_{6}}^{p_{0}p_{1}}v_{h_{5}h_{4}}^{p_{2}p_{3}}t2_{p_{2}p_{1}}^{h_{4}h_{5}}t2_{p_{0}p_{3}}^{h_{6}h_{7}}\n",
      " + 0.0625 * \\Phi_{h_{7}h_{6}}^{p_{0}p_{1}}v_{h_{5}h_{4}}^{p_{2}p_{3}}t2_{p_{3}p_{1}}^{h_{4}h_{5}}t2_{p_{0}p_{2}}^{h_{6}h_{7}}\n",
      " + -0.125 * \\Phi_{h_{7}h_{6}}^{p_{0}p_{1}}v_{h_{4}h_{5}}^{p_{2}p_{3}}t2_{p_{2}p_{3}}^{h_{4}h_{5}}t2_{p_{0}p_{1}}^{h_{6}h_{7}}\n",
      " + 0.0625 * \\Phi_{h_{7}h_{6}}^{p_{0}p_{1}}v_{h_{4}h_{5}}^{p_{2}p_{3}}t2_{p_{3}p_{2}}^{h_{4}h_{5}}t2_{p_{0}p_{1}}^{h_{6}h_{7}}\n",
      " + 0.0625 * \\Phi_{h_{7}h_{6}}^{p_{0}p_{1}}v_{h_{5}h_{4}}^{p_{2}p_{3}}t2_{p_{2}p_{3}}^{h_{4}h_{5}}t2_{p_{0}p_{1}}^{h_{6}h_{7}}\n",
      " + -0.125 * \\Phi_{h_{7}h_{6}}^{p_{0}p_{1}}v_{h_{5}h_{4}}^{p_{2}p_{3}}t2_{p_{3}p_{2}}^{h_{4}h_{5}}t2_{p_{0}p_{1}}^{h_{6}h_{7}}\n",
      " + 0.0625 * \\Phi_{h_{7}h_{6}}^{p_{0}p_{1}}v_{h_{4}h_{5}}^{p_{2}p_{3}}t2_{p_{1}p_{2}}^{h_{4}h_{5}}t2_{p_{3}p_{0}}^{h_{6}h_{7}}\n",
      " + -0.125 * \\Phi_{h_{7}h_{6}}^{p_{0}p_{1}}v_{h_{4}h_{5}}^{p_{2}p_{3}}t2_{p_{1}p_{3}}^{h_{4}h_{5}}t2_{p_{2}p_{0}}^{h_{6}h_{7}}\n",
      " + -0.125 * \\Phi_{h_{7}h_{6}}^{p_{0}p_{1}}v_{h_{5}h_{4}}^{p_{2}p_{3}}t2_{p_{1}p_{2}}^{h_{4}h_{5}}t2_{p_{3}p_{0}}^{h_{6}h_{7}}\n",
      " + 0.0625 * \\Phi_{h_{7}h_{6}}^{p_{0}p_{1}}v_{h_{5}h_{4}}^{p_{2}p_{3}}t2_{p_{1}p_{3}}^{h_{4}h_{5}}t2_{p_{2}p_{0}}^{h_{6}h_{7}}\n",
      " + -0.125 * \\Phi_{h_{7}h_{6}}^{p_{0}p_{1}}v_{h_{4}h_{5}}^{p_{2}p_{3}}t2_{p_{2}p_{1}}^{h_{4}h_{5}}t2_{p_{3}p_{0}}^{h_{6}h_{7}}\n",
      " + 0.0625 * \\Phi_{h_{7}h_{6}}^{p_{0}p_{1}}v_{h_{4}h_{5}}^{p_{2}p_{3}}t2_{p_{3}p_{1}}^{h_{4}h_{5}}t2_{p_{2}p_{0}}^{h_{6}h_{7}}\n",
      " + 0.0625 * \\Phi_{h_{7}h_{6}}^{p_{0}p_{1}}v_{h_{5}h_{4}}^{p_{2}p_{3}}t2_{p_{2}p_{1}}^{h_{4}h_{5}}t2_{p_{3}p_{0}}^{h_{6}h_{7}}\n",
      " + -0.125 * \\Phi_{h_{7}h_{6}}^{p_{0}p_{1}}v_{h_{5}h_{4}}^{p_{2}p_{3}}t2_{p_{3}p_{1}}^{h_{4}h_{5}}t2_{p_{2}p_{0}}^{h_{6}h_{7}}\n",
      " + 0.25 * \\Phi_{h_{7}h_{6}}^{p_{0}p_{1}}v_{h_{4}h_{5}}^{p_{2}p_{3}}t2_{p_{2}p_{3}}^{h_{4}h_{5}}t2_{p_{1}p_{0}}^{h_{6}h_{7}}\n",
      " + -0.125 * \\Phi_{h_{7}h_{6}}^{p_{0}p_{1}}v_{h_{4}h_{5}}^{p_{2}p_{3}}t2_{p_{3}p_{2}}^{h_{4}h_{5}}t2_{p_{1}p_{0}}^{h_{6}h_{7}}\n",
      " + -0.125 * \\Phi_{h_{7}h_{6}}^{p_{0}p_{1}}v_{h_{5}h_{4}}^{p_{2}p_{3}}t2_{p_{2}p_{3}}^{h_{4}h_{5}}t2_{p_{1}p_{0}}^{h_{6}h_{7}}\n",
      " + 0.25 * \\Phi_{h_{7}h_{6}}^{p_{0}p_{1}}v_{h_{5}h_{4}}^{p_{2}p_{3}}t2_{p_{3}p_{2}}^{h_{4}h_{5}}t2_{p_{1}p_{0}}^{h_{6}h_{7}}\n",
      " + -0.25 * \\Phi_{h_{2}h_{3}}^{p_{0}p_{1}}t2_{p_{0}p_{1}}^{h_{2}h_{3}}v_{h_{6}h_{7}}^{p_{4}p_{5}}t2_{p_{4}p_{5}}^{h_{6}h_{7}}\n",
      " + 0.125 * \\Phi_{h_{2}h_{3}}^{p_{0}p_{1}}t2_{p_{0}p_{1}}^{h_{2}h_{3}}v_{h_{6}h_{7}}^{p_{4}p_{5}}t2_{p_{5}p_{4}}^{h_{6}h_{7}}\n",
      " + 0.125 * \\Phi_{h_{2}h_{3}}^{p_{0}p_{1}}t2_{p_{0}p_{1}}^{h_{2}h_{3}}v_{h_{7}h_{6}}^{p_{4}p_{5}}t2_{p_{4}p_{5}}^{h_{6}h_{7}}\n",
      " + -0.25 * \\Phi_{h_{2}h_{3}}^{p_{0}p_{1}}t2_{p_{0}p_{1}}^{h_{2}h_{3}}v_{h_{7}h_{6}}^{p_{4}p_{5}}t2_{p_{5}p_{4}}^{h_{6}h_{7}}\n",
      " + 0.125 * \\Phi_{h_{2}h_{3}}^{p_{0}p_{1}}t2_{p_{1}p_{0}}^{h_{2}h_{3}}v_{h_{6}h_{7}}^{p_{4}p_{5}}t2_{p_{4}p_{5}}^{h_{6}h_{7}}\n",
      " + -0.0625 * \\Phi_{h_{2}h_{3}}^{p_{0}p_{1}}t2_{p_{1}p_{0}}^{h_{2}h_{3}}v_{h_{6}h_{7}}^{p_{4}p_{5}}t2_{p_{5}p_{4}}^{h_{6}h_{7}}\n",
      " + -0.0625 * \\Phi_{h_{2}h_{3}}^{p_{0}p_{1}}t2_{p_{1}p_{0}}^{h_{2}h_{3}}v_{h_{7}h_{6}}^{p_{4}p_{5}}t2_{p_{4}p_{5}}^{h_{6}h_{7}}\n",
      " + 0.125 * \\Phi_{h_{2}h_{3}}^{p_{0}p_{1}}t2_{p_{1}p_{0}}^{h_{2}h_{3}}v_{h_{7}h_{6}}^{p_{4}p_{5}}t2_{p_{5}p_{4}}^{h_{6}h_{7}}\n",
      " + 0.125 * \\Phi_{h_{3}h_{2}}^{p_{0}p_{1}}t2_{p_{0}p_{1}}^{h_{2}h_{3}}v_{h_{6}h_{7}}^{p_{4}p_{5}}t2_{p_{4}p_{5}}^{h_{6}h_{7}}\n",
      " + -0.0625 * \\Phi_{h_{3}h_{2}}^{p_{0}p_{1}}t2_{p_{0}p_{1}}^{h_{2}h_{3}}v_{h_{6}h_{7}}^{p_{4}p_{5}}t2_{p_{5}p_{4}}^{h_{6}h_{7}}\n",
      " + -0.0625 * \\Phi_{h_{3}h_{2}}^{p_{0}p_{1}}t2_{p_{0}p_{1}}^{h_{2}h_{3}}v_{h_{7}h_{6}}^{p_{4}p_{5}}t2_{p_{4}p_{5}}^{h_{6}h_{7}}\n",
      " + 0.125 * \\Phi_{h_{3}h_{2}}^{p_{0}p_{1}}t2_{p_{0}p_{1}}^{h_{2}h_{3}}v_{h_{7}h_{6}}^{p_{4}p_{5}}t2_{p_{5}p_{4}}^{h_{6}h_{7}}\n",
      " + -0.25 * \\Phi_{h_{3}h_{2}}^{p_{0}p_{1}}t2_{p_{1}p_{0}}^{h_{2}h_{3}}v_{h_{6}h_{7}}^{p_{4}p_{5}}t2_{p_{4}p_{5}}^{h_{6}h_{7}}\n",
      " + 0.125 * \\Phi_{h_{3}h_{2}}^{p_{0}p_{1}}t2_{p_{1}p_{0}}^{h_{2}h_{3}}v_{h_{6}h_{7}}^{p_{4}p_{5}}t2_{p_{5}p_{4}}^{h_{6}h_{7}}\n",
      " + 0.125 * \\Phi_{h_{3}h_{2}}^{p_{0}p_{1}}t2_{p_{1}p_{0}}^{h_{2}h_{3}}v_{h_{7}h_{6}}^{p_{4}p_{5}}t2_{p_{4}p_{5}}^{h_{6}h_{7}}\n",
      " + -0.25 * \\Phi_{h_{3}h_{2}}^{p_{0}p_{1}}t2_{p_{1}p_{0}}^{h_{2}h_{3}}v_{h_{7}h_{6}}^{p_{4}p_{5}}t2_{p_{5}p_{4}}^{h_{6}h_{7}}\n",
      " + -0.25 * \\Phi_{h_{2}h_{3}}^{p_{0}p_{1}}t2_{p_{0}p_{1}}^{h_{2}h_{3}}v_{h_{6}h_{7}}^{p_{4}p_{5}}t2_{p_{4}p_{5}}^{h_{6}h_{7}}\n",
      " + 0.125 * \\Phi_{h_{2}h_{3}}^{p_{0}p_{1}}t2_{p_{0}p_{1}}^{h_{2}h_{3}}v_{h_{6}h_{7}}^{p_{4}p_{5}}t2_{p_{5}p_{4}}^{h_{6}h_{7}}\n",
      " + 0.125 * \\Phi_{h_{2}h_{3}}^{p_{0}p_{1}}t2_{p_{0}p_{1}}^{h_{2}h_{3}}v_{h_{7}h_{6}}^{p_{4}p_{5}}t2_{p_{4}p_{5}}^{h_{6}h_{7}}\n",
      " + -0.25 * \\Phi_{h_{2}h_{3}}^{p_{0}p_{1}}t2_{p_{0}p_{1}}^{h_{2}h_{3}}v_{h_{7}h_{6}}^{p_{4}p_{5}}t2_{p_{5}p_{4}}^{h_{6}h_{7}}\n",
      " + 0.125 * \\Phi_{h_{2}h_{3}}^{p_{0}p_{1}}t2_{p_{1}p_{0}}^{h_{2}h_{3}}v_{h_{6}h_{7}}^{p_{4}p_{5}}t2_{p_{4}p_{5}}^{h_{6}h_{7}}\n",
      " + -0.0625 * \\Phi_{h_{2}h_{3}}^{p_{0}p_{1}}t2_{p_{1}p_{0}}^{h_{2}h_{3}}v_{h_{6}h_{7}}^{p_{4}p_{5}}t2_{p_{5}p_{4}}^{h_{6}h_{7}}\n",
      " + -0.0625 * \\Phi_{h_{2}h_{3}}^{p_{0}p_{1}}t2_{p_{1}p_{0}}^{h_{2}h_{3}}v_{h_{7}h_{6}}^{p_{4}p_{5}}t2_{p_{4}p_{5}}^{h_{6}h_{7}}\n",
      " + 0.125 * \\Phi_{h_{2}h_{3}}^{p_{0}p_{1}}t2_{p_{1}p_{0}}^{h_{2}h_{3}}v_{h_{7}h_{6}}^{p_{4}p_{5}}t2_{p_{5}p_{4}}^{h_{6}h_{7}}\n",
      " + 0.125 * \\Phi_{h_{3}h_{2}}^{p_{0}p_{1}}t2_{p_{0}p_{1}}^{h_{2}h_{3}}v_{h_{6}h_{7}}^{p_{4}p_{5}}t2_{p_{4}p_{5}}^{h_{6}h_{7}}\n",
      " + -0.0625 * \\Phi_{h_{3}h_{2}}^{p_{0}p_{1}}t2_{p_{0}p_{1}}^{h_{2}h_{3}}v_{h_{6}h_{7}}^{p_{4}p_{5}}t2_{p_{5}p_{4}}^{h_{6}h_{7}}\n",
      " + -0.0625 * \\Phi_{h_{3}h_{2}}^{p_{0}p_{1}}t2_{p_{0}p_{1}}^{h_{2}h_{3}}v_{h_{7}h_{6}}^{p_{4}p_{5}}t2_{p_{4}p_{5}}^{h_{6}h_{7}}\n",
      " + 0.125 * \\Phi_{h_{3}h_{2}}^{p_{0}p_{1}}t2_{p_{0}p_{1}}^{h_{2}h_{3}}v_{h_{7}h_{6}}^{p_{4}p_{5}}t2_{p_{5}p_{4}}^{h_{6}h_{7}}\n",
      " + -0.25 * \\Phi_{h_{3}h_{2}}^{p_{0}p_{1}}t2_{p_{1}p_{0}}^{h_{2}h_{3}}v_{h_{6}h_{7}}^{p_{4}p_{5}}t2_{p_{4}p_{5}}^{h_{6}h_{7}}\n",
      " + 0.125 * \\Phi_{h_{3}h_{2}}^{p_{0}p_{1}}t2_{p_{1}p_{0}}^{h_{2}h_{3}}v_{h_{6}h_{7}}^{p_{4}p_{5}}t2_{p_{5}p_{4}}^{h_{6}h_{7}}\n",
      " + 0.125 * \\Phi_{h_{3}h_{2}}^{p_{0}p_{1}}t2_{p_{1}p_{0}}^{h_{2}h_{3}}v_{h_{7}h_{6}}^{p_{4}p_{5}}t2_{p_{4}p_{5}}^{h_{6}h_{7}}\n",
      " + -0.25 * \\Phi_{h_{3}h_{2}}^{p_{0}p_{1}}t2_{p_{1}p_{0}}^{h_{2}h_{3}}v_{h_{7}h_{6}}^{p_{4}p_{5}}t2_{p_{5}p_{4}}^{h_{6}h_{7}}\n"
     ]
    }
   ],
   "metadata": {}
  },
  {
   "cell_type": "code",
   "execution_count": 120,
   "source": [
    "testTensor1 = Tensor('test1', ['p','p'], ['h','h'])\n",
    "testTensor2 = Tensor('test2', ['h','h'], ['p','p'])"
   ],
   "outputs": [],
   "metadata": {}
  },
  {
   "cell_type": "code",
   "execution_count": 121,
   "source": [
    "testProduct = testTensor2 * testTensor1\n",
    "print(testProduct)"
   ],
   "outputs": [
    {
     "output_type": "stream",
     "name": "stdout",
     "text": [
      "1.0 * test2_{h_{0}h_{1}}^{p_{0}p_{1}}test1_{p_{2}p_{3}}^{h_{2}h_{3}}\n"
     ]
    }
   ],
   "metadata": {}
  },
  {
   "cell_type": "code",
   "execution_count": 122,
   "source": [
    "testTensor2"
   ],
   "outputs": [
    {
     "output_type": "execute_result",
     "data": {
      "text/plain": [
       "<__main__.Tensor at 0x11aa98910>"
      ]
     },
     "metadata": {},
     "execution_count": 122
    }
   ],
   "metadata": {}
  },
  {
   "cell_type": "code",
   "execution_count": 123,
   "source": [
    "testProduct.vertexList[0].tensor is testTensor2"
   ],
   "outputs": [
    {
     "output_type": "execute_result",
     "data": {
      "text/plain": [
       "True"
      ]
     },
     "metadata": {},
     "execution_count": 123
    }
   ],
   "metadata": {}
  },
  {
   "cell_type": "code",
   "execution_count": 124,
   "source": [
    "testProduct.vertexList[0]"
   ],
   "outputs": [
    {
     "output_type": "execute_result",
     "data": {
      "text/plain": [
       "<__main__.Vertex at 0x11aa98a00>"
      ]
     },
     "metadata": {},
     "execution_count": 124
    }
   ],
   "metadata": {}
  },
  {
   "cell_type": "code",
   "execution_count": 125,
   "source": [
    "print(testProduct.vertexList[0].lowerIndices[0] == ('h_{0}', True))"
   ],
   "outputs": [
    {
     "output_type": "stream",
     "name": "stdout",
     "text": [
      "True\n"
     ]
    }
   ],
   "metadata": {}
  },
  {
   "cell_type": "code",
   "execution_count": 126,
   "source": [
    "testProductCopy = copy(testProduct)"
   ],
   "outputs": [],
   "metadata": {}
  },
  {
   "cell_type": "code",
   "execution_count": 127,
   "source": [
    "testProductCopy.vertexList[0].tensor is testTensor2"
   ],
   "outputs": [
    {
     "output_type": "execute_result",
     "data": {
      "text/plain": [
       "True"
      ]
     },
     "metadata": {},
     "execution_count": 127
    }
   ],
   "metadata": {}
  },
  {
   "cell_type": "code",
   "execution_count": 128,
   "source": [
    "testWick = evaluateWick(testProduct)\n",
    "print(testWick)"
   ],
   "outputs": [
    {
     "output_type": "stream",
     "name": "stdout",
     "text": [
      "4.0 * test2_{h_{0}h_{1}}^{p_{0}p_{1}}test1_{p_{0}p_{1}}^{h_{0}h_{1}}\n",
      " + -2.0 * test2_{h_{0}h_{1}}^{p_{0}p_{1}}test1_{p_{1}p_{0}}^{h_{0}h_{1}}\n",
      " + -2.0 * test2_{h_{0}h_{1}}^{p_{0}p_{1}}test1_{p_{0}p_{1}}^{h_{1}h_{0}}\n",
      " + 4.0 * test2_{h_{0}h_{1}}^{p_{0}p_{1}}test1_{p_{1}p_{0}}^{h_{1}h_{0}}\n"
     ]
    }
   ],
   "metadata": {}
  },
  {
   "cell_type": "code",
   "execution_count": 129,
   "source": [
    "testTensor2.getShape(vacuum)"
   ],
   "outputs": [],
   "metadata": {}
  },
  {
   "cell_type": "code",
   "execution_count": 130,
   "source": [
    "testTensor2"
   ],
   "outputs": [
    {
     "output_type": "execute_result",
     "data": {
      "text/plain": [
       "<__main__.Tensor at 0x11aa98910>"
      ]
     },
     "metadata": {},
     "execution_count": 130
    }
   ],
   "metadata": {}
  },
  {
   "cell_type": "code",
   "execution_count": 142,
   "source": [
    "testWick.summandList[2].tensorList[0].array"
   ],
   "outputs": [
    {
     "output_type": "execute_result",
     "data": {
      "text/plain": [
       "array([[[[0.]]]])"
      ]
     },
     "metadata": {},
     "execution_count": 142
    }
   ],
   "metadata": {}
  },
  {
   "cell_type": "code",
   "execution_count": 132,
   "source": [
    "testCommutator = commutator(testTensor1, testTensor2)\n",
    "print(testCommutator)"
   ],
   "outputs": [
    {
     "output_type": "stream",
     "name": "stdout",
     "text": [
      "1.0 * test1_{p_{0}p_{1}}^{h_{0}h_{1}}test2_{h_{2}h_{3}}^{p_{2}p_{3}}\n",
      " + -1 * test2_{h_{0}h_{1}}^{p_{0}p_{1}}test1_{p_{2}p_{3}}^{h_{2}h_{3}}\n"
     ]
    }
   ],
   "metadata": {}
  },
  {
   "cell_type": "code",
   "execution_count": 133,
   "source": [
    "testCommutator.summandList[1].tensorList"
   ],
   "outputs": [
    {
     "output_type": "execute_result",
     "data": {
      "text/plain": [
       "[<__main__.Tensor at 0x11aa98910>, <__main__.Tensor at 0x11aa98610>]"
      ]
     },
     "metadata": {},
     "execution_count": 133
    }
   ],
   "metadata": {}
  },
  {
   "cell_type": "code",
   "execution_count": 134,
   "source": [
    "def getAxis(vertex, index):\n",
    "    for a in range(vertex.excitationRank):\n",
    "        if vertex.lowerIndices[a] == index:\n",
    "            return a\n",
    "        elif vertex.upperIndices[a] == index:\n",
    "            return vertex.excitationRank + a"
   ],
   "outputs": [],
   "metadata": {}
  },
  {
   "cell_type": "code",
   "execution_count": 139,
   "source": [
    "print(testWick.summandList[0].vertexList[0].lowerIndices[0])"
   ],
   "outputs": [
    {
     "output_type": "stream",
     "name": "stdout",
     "text": [
      "h_{0}\n"
     ]
    }
   ],
   "metadata": {}
  },
  {
   "cell_type": "code",
   "execution_count": 140,
   "source": [
    "getAxis(testWick.summandList[0].vertexList[1], testWick.summandList[0].vertexList[0].upperIndices[1])"
   ],
   "outputs": [
    {
     "output_type": "execute_result",
     "data": {
      "text/plain": [
       "1"
      ]
     },
     "metadata": {},
     "execution_count": 140
    }
   ],
   "metadata": {}
  },
  {
   "cell_type": "code",
   "execution_count": 143,
   "source": [
    "testTensor1.getShape(vacuum)"
   ],
   "outputs": [],
   "metadata": {}
  },
  {
   "cell_type": "code",
   "execution_count": 146,
   "source": [
    "testTensor2"
   ],
   "outputs": [
    {
     "output_type": "execute_result",
     "data": {
      "text/plain": [
       "<__main__.Tensor at 0x11aa98910>"
      ]
     },
     "metadata": {},
     "execution_count": 146
    }
   ],
   "metadata": {}
  },
  {
   "cell_type": "code",
   "execution_count": 145,
   "source": [
    "testWick.summandList[0].vertexList[0].tensor"
   ],
   "outputs": [
    {
     "output_type": "execute_result",
     "data": {
      "text/plain": [
       "<__main__.Tensor at 0x11aa98910>"
      ]
     },
     "metadata": {},
     "execution_count": 145
    }
   ],
   "metadata": {}
  },
  {
   "cell_type": "code",
   "execution_count": 144,
   "source": [
    "np.einsum('ijkl,klij->', testProduct.summandList[0].vertexList[0].tensor.array, testProduct.summandList[0].vertexList[1].tensor.array)"
   ],
   "outputs": [
    {
     "output_type": "execute_result",
     "data": {
      "text/plain": [
       "0.0"
      ]
     },
     "metadata": {},
     "execution_count": 144
    }
   ],
   "metadata": {}
  },
  {
   "cell_type": "code",
   "execution_count": 145,
   "source": [
    "np.einsum('ijkl,lkij->', testProduct.summandList[1].vertexList[0].tensor.array, testProduct.summandList[1].vertexList[1].tensor.array)"
   ],
   "outputs": [
    {
     "output_type": "execute_result",
     "data": {
      "text/plain": [
       "0.0"
      ]
     },
     "metadata": {},
     "execution_count": 145
    }
   ],
   "metadata": {}
  },
  {
   "cell_type": "code",
   "execution_count": 146,
   "source": [
    "np.einsum('jikl,klij->', testProduct.summandList[2].vertexList[0].tensor.array, testProduct.summandList[2].vertexList[1].tensor.array)"
   ],
   "outputs": [
    {
     "output_type": "execute_result",
     "data": {
      "text/plain": [
       "0.0"
      ]
     },
     "metadata": {},
     "execution_count": 146
    }
   ],
   "metadata": {}
  },
  {
   "cell_type": "code",
   "execution_count": 147,
   "source": [
    "np.einsum('jikl,lkij->', testProduct.summandList[2].vertexList[0].tensor.array, testProduct.summandList[2].vertexList[1].tensor.array)"
   ],
   "outputs": [
    {
     "output_type": "execute_result",
     "data": {
      "text/plain": [
       "0.0"
      ]
     },
     "metadata": {},
     "execution_count": 147
    }
   ],
   "metadata": {}
  },
  {
   "cell_type": "code",
   "execution_count": 207,
   "source": [
    "CCDCorrelationEnergy = 0.\n",
    "for summand in testProduct.summandList:\n",
    "    einsumString = 'abcd,'\n",
    "    for i, index in enumerate(summand.vertexList[1].lowerIndices + summand.vertexList[1].upperIndices):\n",
    "       einsumString += einsumString[getAxis(summand.vertexList[0], index)]\n",
    "    einsumString += '->'\n",
    "    print(einsumString)\n",
    "    contribution = summand.prefactor * np.einsum(einsumString, summand.vertexList[0].tensor.array, summand.vertexList[1].tensor.array)\n",
    "    print(contribution)\n",
    "    CCDCorrelationEnergy += contribution\n",
    "print(CCDCorrelationEnergy)"
   ],
   "outputs": [
    {
     "output_type": "stream",
     "name": "stdout",
     "text": [
      "abcd,cdab->\n",
      "-0.022207332862524486\n",
      "abcd,dcab->\n",
      "0.011103666431262243\n",
      "abcd,cdba->\n",
      "0.011103666431262243\n",
      "abcd,dcba->\n",
      "-0.022207332862524486\n",
      "-0.022207332862524486\n"
     ]
    }
   ],
   "metadata": {}
  },
  {
   "cell_type": "code",
   "execution_count": 247,
   "source": [
    "eri"
   ],
   "outputs": [
    {
     "output_type": "execute_result",
     "data": {
      "text/plain": [
       "array([[6.54009511e-01, 1.11022302e-16, 8.32667268e-17, 6.45249427e-01],\n",
       "       [1.17961196e-16, 1.87521981e-01, 1.87521981e-01, 1.11022302e-16],\n",
       "       [1.04083409e-16, 1.87521981e-01, 1.87521981e-01, 5.55111512e-17],\n",
       "       [6.45249427e-01, 2.22044605e-16, 1.38777878e-16, 6.78136184e-01]])"
      ]
     },
     "metadata": {},
     "execution_count": 247
    }
   ],
   "metadata": {}
  },
  {
   "cell_type": "code",
   "execution_count": 248,
   "source": [
    "integrals2body = eri.reshape((Norbs,Norbs,Norbs,Norbs))"
   ],
   "outputs": [],
   "metadata": {}
  },
  {
   "cell_type": "code",
   "execution_count": 191,
   "source": [
    "integrals2body"
   ],
   "outputs": [
    {
     "output_type": "execute_result",
     "data": {
      "text/plain": [
       "array([[[[6.54009511e-01, 1.11022302e-16],\n",
       "         [8.32667268e-17, 6.45249427e-01]],\n",
       "\n",
       "        [[1.17961196e-16, 1.87521981e-01],\n",
       "         [1.87521981e-01, 1.11022302e-16]]],\n",
       "\n",
       "\n",
       "       [[[1.04083409e-16, 1.87521981e-01],\n",
       "         [1.87521981e-01, 5.55111512e-17]],\n",
       "\n",
       "        [[6.45249427e-01, 2.22044605e-16],\n",
       "         [1.38777878e-16, 6.78136184e-01]]]])"
      ]
     },
     "metadata": {},
     "execution_count": 191
    }
   ],
   "metadata": {}
  },
  {
   "cell_type": "code",
   "execution_count": 192,
   "source": [
    "print(vDiagrams[8])"
   ],
   "outputs": [
    {
     "output_type": "stream",
     "name": "stdout",
     "text": [
      "v_{hh}^{pp}\n"
     ]
    }
   ],
   "metadata": {}
  },
  {
   "cell_type": "code",
   "execution_count": 112,
   "source": [
    "vDiagrams[8].array = integrals2body[:Nocc, :Nocc, Nocc:, Nocc:]"
   ],
   "outputs": [
    {
     "output_type": "error",
     "ename": "NameError",
     "evalue": "name 'integrals2body' is not defined",
     "traceback": [
      "\u001b[0;31m---------------------------------------------------------------------------\u001b[0m",
      "\u001b[0;31mNameError\u001b[0m                                 Traceback (most recent call last)",
      "\u001b[0;32m<ipython-input-112-13038aa8953c>\u001b[0m in \u001b[0;36m<module>\u001b[0;34m\u001b[0m\n\u001b[0;32m----> 1\u001b[0;31m \u001b[0mvDiagrams\u001b[0m\u001b[0;34m[\u001b[0m\u001b[0;36m8\u001b[0m\u001b[0;34m]\u001b[0m\u001b[0;34m.\u001b[0m\u001b[0marray\u001b[0m \u001b[0;34m=\u001b[0m \u001b[0mintegrals2body\u001b[0m\u001b[0;34m[\u001b[0m\u001b[0;34m:\u001b[0m\u001b[0mNocc\u001b[0m\u001b[0;34m,\u001b[0m \u001b[0;34m:\u001b[0m\u001b[0mNocc\u001b[0m\u001b[0;34m,\u001b[0m \u001b[0mNocc\u001b[0m\u001b[0;34m:\u001b[0m\u001b[0;34m,\u001b[0m \u001b[0mNocc\u001b[0m\u001b[0;34m:\u001b[0m\u001b[0;34m]\u001b[0m\u001b[0;34m\u001b[0m\u001b[0;34m\u001b[0m\u001b[0m\n\u001b[0m",
      "\u001b[0;31mNameError\u001b[0m: name 'integrals2body' is not defined"
     ]
    }
   ],
   "metadata": {}
  },
  {
   "cell_type": "code",
   "execution_count": 171,
   "source": [
    "integrals2body[:Nocc, :Nocc, Nocc:, Nocc:]"
   ],
   "outputs": [
    {
     "output_type": "execute_result",
     "data": {
      "text/plain": [
       "array([[[[0.64524943]]]])"
      ]
     },
     "metadata": {},
     "execution_count": 171
    }
   ],
   "metadata": {}
  },
  {
   "cell_type": "code",
   "execution_count": 194,
   "source": [
    "vDiagrams[8].array"
   ],
   "outputs": [
    {
     "output_type": "execute_result",
     "data": {
      "text/plain": [
       "array([[[[0.64524943]]]])"
      ]
     },
     "metadata": {},
     "execution_count": 194
    }
   ],
   "metadata": {}
  },
  {
   "cell_type": "code",
   "execution_count": 251,
   "source": [
    "t2.getShape(vacuum)"
   ],
   "outputs": [],
   "metadata": {}
  },
  {
   "cell_type": "code",
   "execution_count": 252,
   "source": [
    "t2.array[0,0,0,0] = -0.06883332846938728"
   ],
   "outputs": [],
   "metadata": {}
  },
  {
   "cell_type": "code",
   "execution_count": 244,
   "source": [
    "for diagram in vDiagrams:\n",
    "    diagram.getShape(vacuum)"
   ],
   "outputs": [],
   "metadata": {}
  },
  {
   "cell_type": "code",
   "execution_count": 198,
   "source": [
    "testProduct = evaluateWick(0.5 * vDiagrams[8] * 0.25 * t2)"
   ],
   "outputs": [],
   "metadata": {}
  },
  {
   "cell_type": "code",
   "execution_count": 200,
   "source": [
    "print(testProduct)"
   ],
   "outputs": [
    {
     "output_type": "stream",
     "name": "stdout",
     "text": [
      "0.5 * v_{h_{2}h_{3}}^{p_{0}p_{1}}t2_{p_{0}p_{1}}^{h_{2}h_{3}}\n",
      " + -0.25 * v_{h_{2}h_{3}}^{p_{0}p_{1}}t2_{p_{1}p_{0}}^{h_{2}h_{3}}\n",
      " + -0.25 * v_{h_{3}h_{2}}^{p_{0}p_{1}}t2_{p_{0}p_{1}}^{h_{2}h_{3}}\n",
      " + 0.5 * v_{h_{3}h_{2}}^{p_{0}p_{1}}t2_{p_{1}p_{0}}^{h_{2}h_{3}}\n"
     ]
    }
   ],
   "metadata": {}
  },
  {
   "cell_type": "code",
   "execution_count": 202,
   "source": [
    "CCDCorrelationEnergy + mf.e_tot"
   ],
   "outputs": [
    {
     "output_type": "execute_result",
     "data": {
      "text/plain": [
       "-1.1248461440542483"
      ]
     },
     "metadata": {},
     "execution_count": 202
    }
   ],
   "metadata": {}
  },
  {
   "cell_type": "code",
   "execution_count": 187,
   "source": [
    "cisolver.kernel()"
   ],
   "outputs": [
    {
     "output_type": "execute_result",
     "data": {
      "text/plain": [
       "(-1.1284543355083052,\n",
       " array([[ 9.90656547e-01,  2.77555756e-17],\n",
       "        [ 1.91460513e-17, -1.36380375e-01]]))"
      ]
     },
     "metadata": {},
     "execution_count": 187
    }
   ],
   "metadata": {}
  },
  {
   "cell_type": "code",
   "execution_count": 209,
   "source": [
    "testProduct.summandList[0].lowerIndices"
   ],
   "outputs": [
    {
     "output_type": "execute_result",
     "data": {
      "text/plain": [
       "{'g': [],\n",
       " 'p': [<__main__.Index at 0x126e896a0>, <__main__.Index at 0x126e89790>],\n",
       " 'h': [<__main__.Index at 0x126e898b0>, <__main__.Index at 0x126e89940>],\n",
       " 'a': []}"
      ]
     },
     "metadata": {},
     "execution_count": 209
    }
   ],
   "metadata": {}
  },
  {
   "cell_type": "code",
   "execution_count": 155,
   "source": [
    "import string\n",
    "import itertools"
   ],
   "outputs": [],
   "metadata": {}
  },
  {
   "cell_type": "code",
   "execution_count": 156,
   "source": [
    "indexLetters = string.ascii_lowercase"
   ],
   "outputs": [],
   "metadata": {}
  },
  {
   "cell_type": "code",
   "execution_count": 234,
   "source": [
    "CCDCorrelationEnergy = 0.\n",
    "for summand in testProduct.summandList:\n",
    "    lowerIndexList = list(itertools.chain.from_iterable([vertex.lowerIndices for vertex in summand.vertexList]))\n",
    "    upperIndexList = list(itertools.chain.from_iterable([vertex.upperIndices for vertex in summand.vertexList]))\n",
    "    for index in upperIndexList:\n",
    "        print(index)\n",
    "    for index in lowerIndexList:\n",
    "        print(index)\n",
    "    lowerIndexLetters = indexLetters[:sum([vertex.excitationRank for vertex in summand.vertexList])]\n",
    "    upperIndexLetters = ''\n",
    "    for lowerIndex in lowerIndexList:\n",
    "        for uI, upperIndex in enumerate(upperIndexList):\n",
    "            if upperIndex == lowerIndex:\n",
    "                upperIndexLetters += lowerIndexLetters[uI]\n",
    "    print(upperIndexLetters)\n",
    "    print(lowerIndexLetters)\n",
    "    einsumSubstrings = []\n",
    "    start = 0\n",
    "    for vertex in summand.vertexList:\n",
    "        end = start + vertex.excitationRank\n",
    "        einsumSubstring = lowerIndexLetters[start:end] + upperIndexLetters[start:end]\n",
    "        einsumSubstrings.append(einsumSubstring)\n",
    "        start = end\n",
    "    einsumString = ''\n",
    "    for sub in range(len(einsumSubstrings) - 1):\n",
    "        einsumString += einsumSubstrings[sub] + ','\n",
    "    einsumString += einsumSubstrings[-1] + '->'\n",
    "    print(einsumString)\n",
    "    contribution = summand.prefactor * np.einsum(einsumString, *[vertex.tensor.array for vertex in summand.vertexList])\n",
    "    print(contribution)\n",
    "    CCDCorrelationEnergy += contribution\n",
    "print(CCDCorrelationEnergy)"
   ],
   "outputs": [
    {
     "output_type": "stream",
     "name": "stdout",
     "text": [
      "p_{0}\n",
      "p_{1}\n",
      "h_{2}\n",
      "h_{3}\n",
      "h_{2}\n",
      "h_{3}\n",
      "p_{0}\n",
      "p_{1}\n",
      "cdab\n",
      "abcd\n",
      "abcd,cdab->\n",
      "-0.022207332862524486\n",
      "p_{0}\n",
      "p_{1}\n",
      "h_{2}\n",
      "h_{3}\n",
      "h_{2}\n",
      "h_{3}\n",
      "p_{1}\n",
      "p_{0}\n",
      "cdba\n",
      "abcd\n",
      "abcd,cdba->\n",
      "0.011103666431262243\n",
      "p_{0}\n",
      "p_{1}\n",
      "h_{2}\n",
      "h_{3}\n",
      "h_{3}\n",
      "h_{2}\n",
      "p_{0}\n",
      "p_{1}\n",
      "dcab\n",
      "abcd\n",
      "abdc,cdab->\n",
      "0.011103666431262243\n",
      "p_{0}\n",
      "p_{1}\n",
      "h_{2}\n",
      "h_{3}\n",
      "h_{3}\n",
      "h_{2}\n",
      "p_{1}\n",
      "p_{0}\n",
      "dcba\n",
      "abcd\n",
      "abdc,cdba->\n",
      "-0.022207332862524486\n",
      "-0.022207332862524486\n"
     ]
    }
   ],
   "metadata": {}
  },
  {
   "cell_type": "code",
   "execution_count": 232,
   "source": [
    "testRes = testCCDDoublesResidual.summandList[0]"
   ],
   "outputs": [],
   "metadata": {}
  },
  {
   "cell_type": "code",
   "execution_count": 240,
   "source": [
    "print(testRes)"
   ],
   "outputs": [
    {
     "output_type": "stream",
     "name": "stdout",
     "text": [
      "-0.5 * f_{p_{0}}^{p_{3}}t2_{p_{1}p_{3}}^{h_{2}h_{3}}\n"
     ]
    }
   ],
   "metadata": {}
  },
  {
   "cell_type": "code",
   "execution_count": 212,
   "source": [
    "def getContractedArray(tensorProduct_, targetLowerIndexList=None, targetUpperIndexList=None):\n",
    "    lowerIndexList = list(itertools.chain.from_iterable([vertex.lowerIndices for vertex in tensorProduct_.vertexList]))\n",
    "    upperIndexList = list(itertools.chain.from_iterable([vertex.upperIndices for vertex in tensorProduct_.vertexList]))\n",
    "    for index in lowerIndexList:\n",
    "        print(index)\n",
    "    for index in upperIndexList:\n",
    "        print(index)\n",
    "    lowerIndexLetters = string.ascii_lowercase[:len(lowerIndexList)]\n",
    "    upperIndexLetters = ''\n",
    "    freeLowerIndexMask = np.ones(len(lowerIndexList))\n",
    "    freeUpperIndexMask = np.ones(len(upperIndexList))\n",
    "    nFreeUpperIndices = 0\n",
    "    newLowerIndexList = copy(lowerIndexList)\n",
    "    newUpperIndexList = copy(upperIndexList)\n",
    "    for uI, upperIndex in enumerate(upperIndexList):\n",
    "        free = True\n",
    "        for lI, lowerIndex in enumerate(lowerIndexList):\n",
    "            if upperIndex == lowerIndex:\n",
    "                upperIndexLetters += lowerIndexLetters[lI]\n",
    "                freeLowerIndexMask[lI] = 0\n",
    "                freeUpperIndexMask[uI] = 0\n",
    "                newLowerIndexList.pop(lI)\n",
    "                free = False\n",
    "        if free:\n",
    "            upperIndexLetters += string.ascii_lowercase[len(lowerIndexList) + nFreeUpperIndices]\n",
    "            nFreeUpperIndices += 1\n",
    "    print(lowerIndexLetters)\n",
    "    print(upperIndexLetters)\n",
    "    newLowerIndexList = [lowerIndex for lI, lowerIndex in enumerate(lowerIndexList) if freeLowerIndexMask[lI]]\n",
    "    newUpperIndexList = [upperIndex for uI, upperIndex in enumerate(upperIndexList) if freeUpperIndexMask[uI]]\n",
    "    print(*newLowerIndexList)\n",
    "    print(*newUpperIndexList)\n",
    "    summandZero = False\n",
    "    if targetLowerIndexList == None and targetUpperIndexList == None:\n",
    "        targetLowerIndexList = newLowerIndexList\n",
    "        targetUpperIndexList = newUpperIndexList\n",
    "        summandZero = True\n",
    "    freeLowerIndexLetters = \"\".join([lowerIndexLetters[lowerIndexList.index(lowerIndex)] for lowerIndex in targetLowerIndexList])\n",
    "    freeUpperIndexLetters = \"\".join([upperIndexLetters[upperIndexList.index(upperIndex)] for upperIndex in targetUpperIndexList])\n",
    "    print(freeLowerIndexLetters)\n",
    "    print(freeUpperIndexLetters)\n",
    "    einsumSubstrings = []\n",
    "    start = 0\n",
    "    for vertex in tensorProduct_.vertexList:\n",
    "        end = start + vertex.excitationRank\n",
    "        einsumSubstring = lowerIndexLetters[start:end] + upperIndexLetters[start:end]\n",
    "        einsumSubstrings.append(einsumSubstring)\n",
    "        start = end\n",
    "    einsumString = \",\".join(einsumSubstrings)\n",
    "    einsumString += '->' + freeLowerIndexLetters + freeUpperIndexLetters\n",
    "    print(einsumString)\n",
    "    print([vertex.tensor.array.shape for vertex in tensorProduct_.vertexList])\n",
    "    contribution = tensorProduct_.prefactor * np.einsum(einsumString, *[vertex.tensor.array for vertex in tensorProduct_.vertexList])\n",
    "    print(contribution)\n",
    "    if summandZero:\n",
    "        return contribution, newLowerIndexList, newUpperIndexList\n",
    "    return contribution"
   ],
   "outputs": [],
   "metadata": {}
  },
  {
   "cell_type": "code",
   "execution_count": 216,
   "source": [
    "def contractTensorSum(tensorSum_):\n",
    "    contractedArray, lowerIndexList, upperIndexList = getContractedArray(tensorSum_.summandList[0])\n",
    "    i = 1\n",
    "    while i < len(tensorSum_.summandList):\n",
    "        contractedArray += getContractedArray(tensorSum_.summandList[i], lowerIndexList, upperIndexList)\n",
    "    return contractedArray"
   ],
   "outputs": [],
   "metadata": {}
  },
  {
   "cell_type": "code",
   "execution_count": 308,
   "source": [
    "for s, summand in enumerate(testCCDDoublesResidual.summandList):\n",
    "    if (getContractedArray(summand).shape != getContractedArray(testCCDDoublesResidual.summandList[0]).shape):\n",
    "        print(s)"
   ],
   "outputs": [],
   "metadata": {}
  },
  {
   "cell_type": "code",
   "execution_count": 321,
   "source": [
    "print(CCDDoublesResidual.summandList[1])"
   ],
   "outputs": [
    {
     "output_type": "stream",
     "name": "stdout",
     "text": [
      "1.0 * \\Phi_{h_{2}h_{3}}^{p_{0}p_{1}}f_{p_{0}}^{p_{3}}t2_{p_{3}p_{1}}^{h_{2}h_{3}}\n"
     ]
    }
   ],
   "metadata": {}
  },
  {
   "cell_type": "code",
   "execution_count": 255,
   "source": [
    "for t in CCDEnergy.summandList:\n",
    "    print(t)\n",
    "    print(getContractedArray(t))"
   ],
   "outputs": [
    {
     "output_type": "stream",
     "name": "stdout",
     "text": [
      "2.0 * f_{h_{1}}^{h_{1}}\n",
      "[(1, 1)]\n",
      "0.0\n",
      "-1.0 * v_{h_{2}h_{3}}^{h_{2}h_{3}}\n",
      "[(1, 1, 1, 1)]\n",
      "-0.0\n",
      "2.0 * v_{h_{3}h_{2}}^{h_{2}h_{3}}\n",
      "[(1, 1, 1, 1)]\n",
      "0.0\n",
      "0.5 * v_{h_{0}h_{1}}^{p_{0}p_{1}}t2_{p_{0}p_{1}}^{h_{0}h_{1}}\n",
      "[(1, 1, 1, 1), (1, 1, 1, 1)]\n",
      "-0.022207332862524486\n",
      "-0.25 * v_{h_{0}h_{1}}^{p_{0}p_{1}}t2_{p_{1}p_{0}}^{h_{0}h_{1}}\n",
      "[(1, 1, 1, 1), (1, 1, 1, 1)]\n",
      "0.011103666431262243\n",
      "-0.25 * v_{h_{0}h_{1}}^{p_{0}p_{1}}t2_{p_{0}p_{1}}^{h_{1}h_{0}}\n",
      "[(1, 1, 1, 1), (1, 1, 1, 1)]\n",
      "0.011103666431262243\n",
      "0.5 * v_{h_{0}h_{1}}^{p_{0}p_{1}}t2_{p_{1}p_{0}}^{h_{1}h_{0}}\n",
      "[(1, 1, 1, 1), (1, 1, 1, 1)]\n",
      "-0.022207332862524486\n"
     ]
    }
   ],
   "metadata": {}
  },
  {
   "cell_type": "code",
   "execution_count": 231,
   "source": [
    "print(getContractedArray(testCCDDoublesResidual.summandList[0]))"
   ],
   "outputs": [
    {
     "output_type": "error",
     "ename": "AttributeError",
     "evalue": "'Tensor' object has no attribute 'array'",
     "traceback": [
      "\u001b[0;31m---------------------------------------------------------------------------\u001b[0m",
      "\u001b[0;31mAttributeError\u001b[0m                            Traceback (most recent call last)",
      "\u001b[0;32m<ipython-input-231-f6709cdc18ca>\u001b[0m in \u001b[0;36m<module>\u001b[0;34m\u001b[0m\n\u001b[0;32m----> 1\u001b[0;31m \u001b[0mprint\u001b[0m\u001b[0;34m(\u001b[0m\u001b[0mgetContractedArray\u001b[0m\u001b[0;34m(\u001b[0m\u001b[0mtestCCDDoublesResidual\u001b[0m\u001b[0;34m.\u001b[0m\u001b[0msummandList\u001b[0m\u001b[0;34m[\u001b[0m\u001b[0;36m0\u001b[0m\u001b[0;34m]\u001b[0m\u001b[0;34m)\u001b[0m\u001b[0;34m)\u001b[0m\u001b[0;34m\u001b[0m\u001b[0;34m\u001b[0m\u001b[0m\n\u001b[0m",
      "\u001b[0;32m<ipython-input-226-36bc7a4832ba>\u001b[0m in \u001b[0;36mgetContractedArray\u001b[0;34m(operatorProduct_)\u001b[0m\n\u001b[1;32m     38\u001b[0m     \u001b[0meinsumString\u001b[0m \u001b[0;34m+=\u001b[0m \u001b[0;34m'->'\u001b[0m \u001b[0;34m+\u001b[0m \u001b[0mfreeLowerIndexLetters\u001b[0m \u001b[0;34m+\u001b[0m \u001b[0mfreeUpperIndexLetters\u001b[0m\u001b[0;34m\u001b[0m\u001b[0;34m\u001b[0m\u001b[0m\n\u001b[1;32m     39\u001b[0m \u001b[0;31m#    print(einsumString)\u001b[0m\u001b[0;34m\u001b[0m\u001b[0;34m\u001b[0m\u001b[0;34m\u001b[0m\u001b[0m\n\u001b[0;32m---> 40\u001b[0;31m     \u001b[0mprint\u001b[0m\u001b[0;34m(\u001b[0m\u001b[0;34m[\u001b[0m\u001b[0mvertex\u001b[0m\u001b[0;34m.\u001b[0m\u001b[0mtensor\u001b[0m\u001b[0;34m.\u001b[0m\u001b[0marray\u001b[0m\u001b[0;34m.\u001b[0m\u001b[0mshape\u001b[0m \u001b[0;32mfor\u001b[0m \u001b[0mvertex\u001b[0m \u001b[0;32min\u001b[0m \u001b[0moperatorProduct_\u001b[0m\u001b[0;34m.\u001b[0m\u001b[0mvertexList\u001b[0m\u001b[0;34m]\u001b[0m\u001b[0;34m)\u001b[0m\u001b[0;34m\u001b[0m\u001b[0;34m\u001b[0m\u001b[0m\n\u001b[0m\u001b[1;32m     41\u001b[0m     \u001b[0mcontribution\u001b[0m \u001b[0;34m=\u001b[0m \u001b[0moperatorProduct_\u001b[0m\u001b[0;34m.\u001b[0m\u001b[0mprefactor\u001b[0m \u001b[0;34m*\u001b[0m \u001b[0mnp\u001b[0m\u001b[0;34m.\u001b[0m\u001b[0meinsum\u001b[0m\u001b[0;34m(\u001b[0m\u001b[0meinsumString\u001b[0m\u001b[0;34m,\u001b[0m \u001b[0;34m*\u001b[0m\u001b[0;34m[\u001b[0m\u001b[0mvertex\u001b[0m\u001b[0;34m.\u001b[0m\u001b[0mtensor\u001b[0m\u001b[0;34m.\u001b[0m\u001b[0marray\u001b[0m \u001b[0;32mfor\u001b[0m \u001b[0mvertex\u001b[0m \u001b[0;32min\u001b[0m \u001b[0moperatorProduct_\u001b[0m\u001b[0;34m.\u001b[0m\u001b[0mvertexList\u001b[0m\u001b[0;34m]\u001b[0m\u001b[0;34m)\u001b[0m\u001b[0;34m\u001b[0m\u001b[0;34m\u001b[0m\u001b[0m\n\u001b[1;32m     42\u001b[0m \u001b[0;31m#    print(contribution)\u001b[0m\u001b[0;34m\u001b[0m\u001b[0;34m\u001b[0m\u001b[0;34m\u001b[0m\u001b[0m\n",
      "\u001b[0;32m<ipython-input-226-36bc7a4832ba>\u001b[0m in \u001b[0;36m<listcomp>\u001b[0;34m(.0)\u001b[0m\n\u001b[1;32m     38\u001b[0m     \u001b[0meinsumString\u001b[0m \u001b[0;34m+=\u001b[0m \u001b[0;34m'->'\u001b[0m \u001b[0;34m+\u001b[0m \u001b[0mfreeLowerIndexLetters\u001b[0m \u001b[0;34m+\u001b[0m \u001b[0mfreeUpperIndexLetters\u001b[0m\u001b[0;34m\u001b[0m\u001b[0;34m\u001b[0m\u001b[0m\n\u001b[1;32m     39\u001b[0m \u001b[0;31m#    print(einsumString)\u001b[0m\u001b[0;34m\u001b[0m\u001b[0;34m\u001b[0m\u001b[0;34m\u001b[0m\u001b[0m\n\u001b[0;32m---> 40\u001b[0;31m     \u001b[0mprint\u001b[0m\u001b[0;34m(\u001b[0m\u001b[0;34m[\u001b[0m\u001b[0mvertex\u001b[0m\u001b[0;34m.\u001b[0m\u001b[0mtensor\u001b[0m\u001b[0;34m.\u001b[0m\u001b[0marray\u001b[0m\u001b[0;34m.\u001b[0m\u001b[0mshape\u001b[0m \u001b[0;32mfor\u001b[0m \u001b[0mvertex\u001b[0m \u001b[0;32min\u001b[0m \u001b[0moperatorProduct_\u001b[0m\u001b[0;34m.\u001b[0m\u001b[0mvertexList\u001b[0m\u001b[0;34m]\u001b[0m\u001b[0;34m)\u001b[0m\u001b[0;34m\u001b[0m\u001b[0;34m\u001b[0m\u001b[0m\n\u001b[0m\u001b[1;32m     41\u001b[0m     \u001b[0mcontribution\u001b[0m \u001b[0;34m=\u001b[0m \u001b[0moperatorProduct_\u001b[0m\u001b[0;34m.\u001b[0m\u001b[0mprefactor\u001b[0m \u001b[0;34m*\u001b[0m \u001b[0mnp\u001b[0m\u001b[0;34m.\u001b[0m\u001b[0meinsum\u001b[0m\u001b[0;34m(\u001b[0m\u001b[0meinsumString\u001b[0m\u001b[0;34m,\u001b[0m \u001b[0;34m*\u001b[0m\u001b[0;34m[\u001b[0m\u001b[0mvertex\u001b[0m\u001b[0;34m.\u001b[0m\u001b[0mtensor\u001b[0m\u001b[0;34m.\u001b[0m\u001b[0marray\u001b[0m \u001b[0;32mfor\u001b[0m \u001b[0mvertex\u001b[0m \u001b[0;32min\u001b[0m \u001b[0moperatorProduct_\u001b[0m\u001b[0;34m.\u001b[0m\u001b[0mvertexList\u001b[0m\u001b[0;34m]\u001b[0m\u001b[0;34m)\u001b[0m\u001b[0;34m\u001b[0m\u001b[0;34m\u001b[0m\u001b[0m\n\u001b[1;32m     42\u001b[0m \u001b[0;31m#    print(contribution)\u001b[0m\u001b[0;34m\u001b[0m\u001b[0;34m\u001b[0m\u001b[0;34m\u001b[0m\u001b[0m\n",
      "\u001b[0;31mAttributeError\u001b[0m: 'Tensor' object has no attribute 'array'"
     ]
    }
   ],
   "metadata": {}
  },
  {
   "cell_type": "code",
   "execution_count": 329,
   "source": [
    "print(testCCDDoublesResidual.summandList[0].vertexList[1].tensor.array)"
   ],
   "outputs": [
    {
     "output_type": "stream",
     "name": "stdout",
     "text": [
      "[[[[0. 0.]\n",
      "   [0. 0.]]]]\n"
     ]
    }
   ],
   "metadata": {}
  },
  {
   "cell_type": "code",
   "execution_count": 219,
   "source": [
    "t2.getShape(vacuum)\n",
    "t2.setArray(np.array([[[[-0.06883333]]]]))"
   ],
   "outputs": [],
   "metadata": {}
  },
  {
   "cell_type": "code",
   "execution_count": 307,
   "source": [
    "testCCDDoublesResidual.summandList.pop(3)"
   ],
   "outputs": [
    {
     "output_type": "execute_result",
     "data": {
      "text/plain": [
       "<__main__.TensorProduct at 0x11af598e0>"
      ]
     },
     "metadata": {},
     "execution_count": 307
    }
   ],
   "metadata": {}
  },
  {
   "cell_type": "code",
   "execution_count": 221,
   "source": [
    "doublesResidualArray = sum([getContractedArray(s) for s in testCCDDoublesResidual.summandList])"
   ],
   "outputs": [
    {
     "output_type": "error",
     "ename": "NameError",
     "evalue": "name 'getContractedArray' is not defined",
     "traceback": [
      "\u001b[0;31m---------------------------------------------------------------------------\u001b[0m",
      "\u001b[0;31mNameError\u001b[0m                                 Traceback (most recent call last)",
      "\u001b[0;32m<ipython-input-221-7fa6c55ff924>\u001b[0m in \u001b[0;36m<module>\u001b[0;34m\u001b[0m\n\u001b[0;32m----> 1\u001b[0;31m \u001b[0mdoublesResidualArray\u001b[0m \u001b[0;34m=\u001b[0m \u001b[0msum\u001b[0m\u001b[0;34m(\u001b[0m\u001b[0;34m[\u001b[0m\u001b[0mgetContractedArray\u001b[0m\u001b[0;34m(\u001b[0m\u001b[0ms\u001b[0m\u001b[0;34m)\u001b[0m \u001b[0;32mfor\u001b[0m \u001b[0ms\u001b[0m \u001b[0;32min\u001b[0m \u001b[0mtestCCDDoublesResidual\u001b[0m\u001b[0;34m.\u001b[0m\u001b[0msummandList\u001b[0m\u001b[0;34m]\u001b[0m\u001b[0;34m)\u001b[0m\u001b[0;34m\u001b[0m\u001b[0;34m\u001b[0m\u001b[0m\n\u001b[0m",
      "\u001b[0;32m<ipython-input-221-7fa6c55ff924>\u001b[0m in \u001b[0;36m<listcomp>\u001b[0;34m(.0)\u001b[0m\n\u001b[0;32m----> 1\u001b[0;31m \u001b[0mdoublesResidualArray\u001b[0m \u001b[0;34m=\u001b[0m \u001b[0msum\u001b[0m\u001b[0;34m(\u001b[0m\u001b[0;34m[\u001b[0m\u001b[0mgetContractedArray\u001b[0m\u001b[0;34m(\u001b[0m\u001b[0ms\u001b[0m\u001b[0;34m)\u001b[0m \u001b[0;32mfor\u001b[0m \u001b[0ms\u001b[0m \u001b[0;32min\u001b[0m \u001b[0mtestCCDDoublesResidual\u001b[0m\u001b[0;34m.\u001b[0m\u001b[0msummandList\u001b[0m\u001b[0;34m]\u001b[0m\u001b[0;34m)\u001b[0m\u001b[0;34m\u001b[0m\u001b[0;34m\u001b[0m\u001b[0m\n\u001b[0m",
      "\u001b[0;31mNameError\u001b[0m: name 'getContractedArray' is not defined"
     ]
    }
   ],
   "metadata": {}
  },
  {
   "cell_type": "code",
   "execution_count": 310,
   "source": [
    "doublesResidualArray"
   ],
   "outputs": [
    {
     "output_type": "execute_result",
     "data": {
      "text/plain": [
       "array([[[[0., 0.],\n",
       "         [0., 0.]]]])"
      ]
     },
     "metadata": {},
     "execution_count": 310
    }
   ],
   "metadata": {}
  },
  {
   "cell_type": "code",
   "execution_count": 311,
   "source": [
    "doublesResidualTensor = Tensor('R', ['p', 'p'], ['h', 'h'], array=doublesResidualArray)"
   ],
   "outputs": [
    {
     "output_type": "stream",
     "name": "stdout",
     "text": [
      "Array is of wrong shape\n"
     ]
    }
   ],
   "metadata": {}
  },
  {
   "cell_type": "code",
   "execution_count": 220,
   "source": [
    "t2.array"
   ],
   "outputs": [
    {
     "output_type": "execute_result",
     "data": {
      "text/plain": [
       "array([[[[-0.06883333]]]])"
      ]
     },
     "metadata": {},
     "execution_count": 220
    }
   ],
   "metadata": {}
  },
  {
   "cell_type": "code",
   "execution_count": 319,
   "source": [
    "print(evaluateWick(projectionDoubles * t2))"
   ],
   "outputs": [
    {
     "output_type": "stream",
     "name": "stdout",
     "text": [
      "4.0 * \\Phi_{h_{2}h_{3}}^{p_{0}p_{1}}t2_{p_{0}p_{1}}^{h_{2}h_{3}}\n",
      " + -2.0 * \\Phi_{h_{2}h_{3}}^{p_{0}p_{1}}t2_{p_{1}p_{0}}^{h_{2}h_{3}}\n",
      " + -2.0 * \\Phi_{h_{3}h_{2}}^{p_{0}p_{1}}t2_{p_{0}p_{1}}^{h_{2}h_{3}}\n",
      " + 4.0 * \\Phi_{h_{3}h_{2}}^{p_{0}p_{1}}t2_{p_{1}p_{0}}^{h_{2}h_{3}}\n"
     ]
    }
   ],
   "metadata": {}
  },
  {
   "cell_type": "code",
   "execution_count": 331,
   "source": [
    "testCCDDoublesResidual.summandList[0].vertexList[0].tensor"
   ],
   "outputs": [
    {
     "output_type": "execute_result",
     "data": {
      "text/plain": [
       "<__main__.Tensor at 0x1192fe880>"
      ]
     },
     "metadata": {},
     "execution_count": 331
    }
   ],
   "metadata": {}
  },
  {
   "cell_type": "code",
   "execution_count": 332,
   "source": [
    "print(testCCDDoublesResidual.summandList[0])"
   ],
   "outputs": [
    {
     "output_type": "stream",
     "name": "stdout",
     "text": [
      "-0.5 * f_{p_{0}}^{p_{3}}t2_{p_{1}p_{3}}^{h_{2}h_{3}}\n"
     ]
    }
   ],
   "metadata": {}
  },
  {
   "cell_type": "code",
   "execution_count": 387,
   "source": [
    "print(CCDEnergy)"
   ],
   "outputs": [
    {
     "output_type": "stream",
     "name": "stdout",
     "text": [
      "2.0 * f_{h_{1}}^{h_{1}}\n",
      " + -1.0 * v_{h_{2}h_{3}}^{h_{2}h_{3}}\n",
      " + 2.0 * v_{h_{3}h_{2}}^{h_{2}h_{3}}\n",
      " + 0.5 * v_{h_{2}h_{3}}^{p_{0}p_{1}}t2_{p_{0}p_{1}}^{h_{2}h_{3}}\n",
      " + -0.25 * v_{h_{2}h_{3}}^{p_{0}p_{1}}t2_{p_{1}p_{0}}^{h_{2}h_{3}}\n",
      " + -0.25 * v_{h_{3}h_{2}}^{p_{0}p_{1}}t2_{p_{0}p_{1}}^{h_{2}h_{3}}\n",
      " + 0.5 * v_{h_{3}h_{2}}^{p_{0}p_{1}}t2_{p_{1}p_{0}}^{h_{2}h_{3}}\n"
     ]
    }
   ],
   "metadata": {}
  },
  {
   "cell_type": "code",
   "execution_count": 395,
   "source": [
    "CCDEnergy.summandList[3].vertexList[1].tensor = t2"
   ],
   "outputs": [],
   "metadata": {}
  },
  {
   "cell_type": "code",
   "execution_count": 358,
   "source": [
    "print(fDiagrams[3])"
   ],
   "outputs": [
    {
     "output_type": "stream",
     "name": "stdout",
     "text": [
      "f_{h}^{h}\n"
     ]
    }
   ],
   "metadata": {}
  },
  {
   "cell_type": "code",
   "execution_count": 357,
   "source": [
    "h1"
   ],
   "outputs": [
    {
     "output_type": "execute_result",
     "data": {
      "text/plain": [
       "array([[-1.18985062e+00,  2.60021255e-17],\n",
       "       [-4.71423569e-17, -5.33749102e-01]])"
      ]
     },
     "metadata": {},
     "execution_count": 357
    }
   ],
   "metadata": {}
  },
  {
   "cell_type": "code",
   "execution_count": 359,
   "source": [
    "h1[:1,:1]"
   ],
   "outputs": [
    {
     "output_type": "execute_result",
     "data": {
      "text/plain": [
       "array([[-1.18985062]])"
      ]
     },
     "metadata": {},
     "execution_count": 359
    }
   ],
   "metadata": {}
  },
  {
   "cell_type": "code",
   "execution_count": 377,
   "source": [
    "print(vDiagrams[8].array)"
   ],
   "outputs": [
    {
     "output_type": "stream",
     "name": "stdout",
     "text": [
      "[[[[0.64524943]]]]\n"
     ]
    }
   ],
   "metadata": {}
  },
  {
   "cell_type": "code",
   "execution_count": 375,
   "source": [
    "vDiagrams[1].array = integrals2body[:1,:1,:1,:1]"
   ],
   "outputs": [],
   "metadata": {}
  },
  {
   "cell_type": "code",
   "execution_count": 364,
   "source": [
    "fDiagrams[3] = Tensor('f', ['h'], ['h'], h1[:1,:1])"
   ],
   "outputs": [],
   "metadata": {}
  },
  {
   "cell_type": "code",
   "execution_count": 366,
   "source": [
    "print(CCDEnergy.summandList[0].vertexList[0].tensor.array)"
   ],
   "outputs": [
    {
     "output_type": "stream",
     "name": "stdout",
     "text": [
      "[[-1.18985062]]\n"
     ]
    }
   ],
   "metadata": {}
  },
  {
   "cell_type": "code",
   "execution_count": 234,
   "source": [
    "CCDEnergy.summandList[0].tensorList"
   ],
   "outputs": [
    {
     "output_type": "execute_result",
     "data": {
      "text/plain": [
       "[<__main__.Tensor at 0x1210af460>]"
      ]
     },
     "metadata": {},
     "execution_count": 234
    }
   ],
   "metadata": {}
  },
  {
   "cell_type": "code",
   "execution_count": 235,
   "source": [
    "fDiagrams"
   ],
   "outputs": [
    {
     "output_type": "execute_result",
     "data": {
      "text/plain": [
       "[<__main__.Tensor at 0x1218167c0>,\n",
       " <__main__.Tensor at 0x1217f3190>,\n",
       " <__main__.Tensor at 0x12178b7c0>,\n",
       " <__main__.Tensor at 0x1218a7190>]"
      ]
     },
     "metadata": {},
     "execution_count": 235
    }
   ],
   "metadata": {}
  },
  {
   "cell_type": "code",
   "execution_count": 232,
   "source": [
    "print(sum([getContractedArray(s) for s in CCDEnergy.summandList]))"
   ],
   "outputs": [
    {
     "output_type": "error",
     "ename": "AttributeError",
     "evalue": "'Tensor' object has no attribute 'array'",
     "traceback": [
      "\u001b[0;31m---------------------------------------------------------------------------\u001b[0m",
      "\u001b[0;31mAttributeError\u001b[0m                            Traceback (most recent call last)",
      "\u001b[0;32m<ipython-input-232-206e0bad582d>\u001b[0m in \u001b[0;36m<module>\u001b[0;34m\u001b[0m\n\u001b[0;32m----> 1\u001b[0;31m \u001b[0mprint\u001b[0m\u001b[0;34m(\u001b[0m\u001b[0msum\u001b[0m\u001b[0;34m(\u001b[0m\u001b[0;34m[\u001b[0m\u001b[0mgetContractedArray\u001b[0m\u001b[0;34m(\u001b[0m\u001b[0ms\u001b[0m\u001b[0;34m)\u001b[0m \u001b[0;32mfor\u001b[0m \u001b[0ms\u001b[0m \u001b[0;32min\u001b[0m \u001b[0mCCDEnergy\u001b[0m\u001b[0;34m.\u001b[0m\u001b[0msummandList\u001b[0m\u001b[0;34m]\u001b[0m\u001b[0;34m)\u001b[0m\u001b[0;34m)\u001b[0m\u001b[0;34m\u001b[0m\u001b[0;34m\u001b[0m\u001b[0m\n\u001b[0m",
      "\u001b[0;32m<ipython-input-232-206e0bad582d>\u001b[0m in \u001b[0;36m<listcomp>\u001b[0;34m(.0)\u001b[0m\n\u001b[0;32m----> 1\u001b[0;31m \u001b[0mprint\u001b[0m\u001b[0;34m(\u001b[0m\u001b[0msum\u001b[0m\u001b[0;34m(\u001b[0m\u001b[0;34m[\u001b[0m\u001b[0mgetContractedArray\u001b[0m\u001b[0;34m(\u001b[0m\u001b[0ms\u001b[0m\u001b[0;34m)\u001b[0m \u001b[0;32mfor\u001b[0m \u001b[0ms\u001b[0m \u001b[0;32min\u001b[0m \u001b[0mCCDEnergy\u001b[0m\u001b[0;34m.\u001b[0m\u001b[0msummandList\u001b[0m\u001b[0;34m]\u001b[0m\u001b[0;34m)\u001b[0m\u001b[0;34m)\u001b[0m\u001b[0;34m\u001b[0m\u001b[0;34m\u001b[0m\u001b[0m\n\u001b[0m",
      "\u001b[0;32m<ipython-input-226-36bc7a4832ba>\u001b[0m in \u001b[0;36mgetContractedArray\u001b[0;34m(operatorProduct_)\u001b[0m\n\u001b[1;32m     38\u001b[0m     \u001b[0meinsumString\u001b[0m \u001b[0;34m+=\u001b[0m \u001b[0;34m'->'\u001b[0m \u001b[0;34m+\u001b[0m \u001b[0mfreeLowerIndexLetters\u001b[0m \u001b[0;34m+\u001b[0m \u001b[0mfreeUpperIndexLetters\u001b[0m\u001b[0;34m\u001b[0m\u001b[0;34m\u001b[0m\u001b[0m\n\u001b[1;32m     39\u001b[0m \u001b[0;31m#    print(einsumString)\u001b[0m\u001b[0;34m\u001b[0m\u001b[0;34m\u001b[0m\u001b[0;34m\u001b[0m\u001b[0m\n\u001b[0;32m---> 40\u001b[0;31m     \u001b[0mprint\u001b[0m\u001b[0;34m(\u001b[0m\u001b[0;34m[\u001b[0m\u001b[0mvertex\u001b[0m\u001b[0;34m.\u001b[0m\u001b[0mtensor\u001b[0m\u001b[0;34m.\u001b[0m\u001b[0marray\u001b[0m\u001b[0;34m.\u001b[0m\u001b[0mshape\u001b[0m \u001b[0;32mfor\u001b[0m \u001b[0mvertex\u001b[0m \u001b[0;32min\u001b[0m \u001b[0moperatorProduct_\u001b[0m\u001b[0;34m.\u001b[0m\u001b[0mvertexList\u001b[0m\u001b[0;34m]\u001b[0m\u001b[0;34m)\u001b[0m\u001b[0;34m\u001b[0m\u001b[0;34m\u001b[0m\u001b[0m\n\u001b[0m\u001b[1;32m     41\u001b[0m     \u001b[0mcontribution\u001b[0m \u001b[0;34m=\u001b[0m \u001b[0moperatorProduct_\u001b[0m\u001b[0;34m.\u001b[0m\u001b[0mprefactor\u001b[0m \u001b[0;34m*\u001b[0m \u001b[0mnp\u001b[0m\u001b[0;34m.\u001b[0m\u001b[0meinsum\u001b[0m\u001b[0;34m(\u001b[0m\u001b[0meinsumString\u001b[0m\u001b[0;34m,\u001b[0m \u001b[0;34m*\u001b[0m\u001b[0;34m[\u001b[0m\u001b[0mvertex\u001b[0m\u001b[0;34m.\u001b[0m\u001b[0mtensor\u001b[0m\u001b[0;34m.\u001b[0m\u001b[0marray\u001b[0m \u001b[0;32mfor\u001b[0m \u001b[0mvertex\u001b[0m \u001b[0;32min\u001b[0m \u001b[0moperatorProduct_\u001b[0m\u001b[0;34m.\u001b[0m\u001b[0mvertexList\u001b[0m\u001b[0;34m]\u001b[0m\u001b[0;34m)\u001b[0m\u001b[0;34m\u001b[0m\u001b[0;34m\u001b[0m\u001b[0m\n\u001b[1;32m     42\u001b[0m \u001b[0;31m#    print(contribution)\u001b[0m\u001b[0;34m\u001b[0m\u001b[0;34m\u001b[0m\u001b[0;34m\u001b[0m\u001b[0m\n",
      "\u001b[0;32m<ipython-input-226-36bc7a4832ba>\u001b[0m in \u001b[0;36m<listcomp>\u001b[0;34m(.0)\u001b[0m\n\u001b[1;32m     38\u001b[0m     \u001b[0meinsumString\u001b[0m \u001b[0;34m+=\u001b[0m \u001b[0;34m'->'\u001b[0m \u001b[0;34m+\u001b[0m \u001b[0mfreeLowerIndexLetters\u001b[0m \u001b[0;34m+\u001b[0m \u001b[0mfreeUpperIndexLetters\u001b[0m\u001b[0;34m\u001b[0m\u001b[0;34m\u001b[0m\u001b[0m\n\u001b[1;32m     39\u001b[0m \u001b[0;31m#    print(einsumString)\u001b[0m\u001b[0;34m\u001b[0m\u001b[0;34m\u001b[0m\u001b[0;34m\u001b[0m\u001b[0m\n\u001b[0;32m---> 40\u001b[0;31m     \u001b[0mprint\u001b[0m\u001b[0;34m(\u001b[0m\u001b[0;34m[\u001b[0m\u001b[0mvertex\u001b[0m\u001b[0;34m.\u001b[0m\u001b[0mtensor\u001b[0m\u001b[0;34m.\u001b[0m\u001b[0marray\u001b[0m\u001b[0;34m.\u001b[0m\u001b[0mshape\u001b[0m \u001b[0;32mfor\u001b[0m \u001b[0mvertex\u001b[0m \u001b[0;32min\u001b[0m \u001b[0moperatorProduct_\u001b[0m\u001b[0;34m.\u001b[0m\u001b[0mvertexList\u001b[0m\u001b[0;34m]\u001b[0m\u001b[0;34m)\u001b[0m\u001b[0;34m\u001b[0m\u001b[0;34m\u001b[0m\u001b[0m\n\u001b[0m\u001b[1;32m     41\u001b[0m     \u001b[0mcontribution\u001b[0m \u001b[0;34m=\u001b[0m \u001b[0moperatorProduct_\u001b[0m\u001b[0;34m.\u001b[0m\u001b[0mprefactor\u001b[0m \u001b[0;34m*\u001b[0m \u001b[0mnp\u001b[0m\u001b[0;34m.\u001b[0m\u001b[0meinsum\u001b[0m\u001b[0;34m(\u001b[0m\u001b[0meinsumString\u001b[0m\u001b[0;34m,\u001b[0m \u001b[0;34m*\u001b[0m\u001b[0;34m[\u001b[0m\u001b[0mvertex\u001b[0m\u001b[0;34m.\u001b[0m\u001b[0mtensor\u001b[0m\u001b[0;34m.\u001b[0m\u001b[0marray\u001b[0m \u001b[0;32mfor\u001b[0m \u001b[0mvertex\u001b[0m \u001b[0;32min\u001b[0m \u001b[0moperatorProduct_\u001b[0m\u001b[0;34m.\u001b[0m\u001b[0mvertexList\u001b[0m\u001b[0;34m]\u001b[0m\u001b[0;34m)\u001b[0m\u001b[0;34m\u001b[0m\u001b[0;34m\u001b[0m\u001b[0m\n\u001b[1;32m     42\u001b[0m \u001b[0;31m#    print(contribution)\u001b[0m\u001b[0;34m\u001b[0m\u001b[0;34m\u001b[0m\u001b[0;34m\u001b[0m\u001b[0m\n",
      "\u001b[0;31mAttributeError\u001b[0m: 'Tensor' object has no attribute 'array'"
     ]
    }
   ],
   "metadata": {}
  },
  {
   "cell_type": "code",
   "execution_count": 401,
   "source": [
    "mol.energy_nuc() + sum([getContractedArray(s) for s in CCDEnergy.summandList[:3]])"
   ],
   "outputs": [
    {
     "output_type": "stream",
     "name": "stdout",
     "text": [
      "[(1, 1)]\n",
      "[(1, 1, 1, 1)]\n",
      "[(1, 1, 1, 1)]\n"
     ]
    },
    {
     "output_type": "execute_result",
     "data": {
      "text/plain": [
       "-1.1026388111917238"
      ]
     },
     "metadata": {},
     "execution_count": 401
    }
   ],
   "metadata": {}
  },
  {
   "cell_type": "code",
   "execution_count": 402,
   "source": [
    "mf.e_tot"
   ],
   "outputs": [
    {
     "output_type": "execute_result",
     "data": {
      "text/plain": [
       "-1.1026388111917238"
      ]
     },
     "metadata": {},
     "execution_count": 402
    }
   ],
   "metadata": {}
  },
  {
   "cell_type": "code",
   "execution_count": 107,
   "source": [
    "print(E.summandList[0])"
   ],
   "outputs": [
    {
     "output_type": "stream",
     "name": "stdout",
     "text": [
      "4.0 * v_{h_{0}h_{1}}^{p_{0}p_{1}}t2_{p_{0}p_{1}}^{h_{0}h_{1}}\n"
     ]
    }
   ],
   "metadata": {}
  },
  {
   "cell_type": "code",
   "execution_count": 109,
   "source": [
    "t2.getShape(vacuum)"
   ],
   "outputs": [],
   "metadata": {}
  },
  {
   "cell_type": "code",
   "execution_count": 111,
   "source": [
    "vDiagrams[8].array"
   ],
   "outputs": [
    {
     "output_type": "error",
     "ename": "AttributeError",
     "evalue": "'Tensor' object has no attribute 'array'",
     "traceback": [
      "\u001b[0;31m---------------------------------------------------------------------------\u001b[0m",
      "\u001b[0;31mAttributeError\u001b[0m                            Traceback (most recent call last)",
      "\u001b[0;32m<ipython-input-111-e60123d26f81>\u001b[0m in \u001b[0;36m<module>\u001b[0;34m\u001b[0m\n\u001b[0;32m----> 1\u001b[0;31m \u001b[0mvDiagrams\u001b[0m\u001b[0;34m[\u001b[0m\u001b[0;36m8\u001b[0m\u001b[0;34m]\u001b[0m\u001b[0;34m.\u001b[0m\u001b[0marray\u001b[0m\u001b[0;34m\u001b[0m\u001b[0;34m\u001b[0m\u001b[0m\n\u001b[0m",
      "\u001b[0;31mAttributeError\u001b[0m: 'Tensor' object has no attribute 'array'"
     ]
    }
   ],
   "metadata": {}
  },
  {
   "cell_type": "code",
   "execution_count": 148,
   "source": [
    "testTensor1.array = np.arange(4).reshape((2,2))"
   ],
   "outputs": [],
   "metadata": {}
  },
  {
   "cell_type": "code",
   "execution_count": 149,
   "source": [
    "testTensor1.array"
   ],
   "outputs": [
    {
     "output_type": "execute_result",
     "data": {
      "text/plain": [
       "array([[0, 1],\n",
       "       [2, 3]])"
      ]
     },
     "metadata": {},
     "execution_count": 149
    }
   ],
   "metadata": {}
  },
  {
   "cell_type": "code",
   "execution_count": 150,
   "source": [
    "testTensor2.array = np.arange(4,8).reshape((2,2))"
   ],
   "outputs": [],
   "metadata": {}
  },
  {
   "cell_type": "code",
   "execution_count": 151,
   "source": [
    "testTensor2.array"
   ],
   "outputs": [
    {
     "output_type": "execute_result",
     "data": {
      "text/plain": [
       "array([[4, 5],\n",
       "       [6, 7]])"
      ]
     },
     "metadata": {},
     "execution_count": 151
    }
   ],
   "metadata": {}
  },
  {
   "cell_type": "code",
   "execution_count": 152,
   "source": [
    "print(testWick)"
   ],
   "outputs": [
    {
     "output_type": "stream",
     "name": "stdout",
     "text": [
      "4.0 * test2_{h_{0}h_{1}}^{p_{0}p_{1}}test1_{p_{0}p_{1}}^{h_{0}h_{1}}\n",
      " + -2.0 * test2_{h_{0}h_{1}}^{p_{0}p_{1}}test1_{p_{1}p_{0}}^{h_{0}h_{1}}\n",
      " + -2.0 * test2_{h_{0}h_{1}}^{p_{0}p_{1}}test1_{p_{0}p_{1}}^{h_{1}h_{0}}\n",
      " + 4.0 * test2_{h_{0}h_{1}}^{p_{0}p_{1}}test1_{p_{1}p_{0}}^{h_{1}h_{0}}\n"
     ]
    }
   ],
   "metadata": {}
  },
  {
   "cell_type": "code",
   "execution_count": 157,
   "source": [
    "getContractedArray(testWick.summandList[0])"
   ],
   "outputs": [
    {
     "output_type": "stream",
     "name": "stdout",
     "text": [
      "[(2, 2), (2, 2)]\n"
     ]
    },
    {
     "output_type": "error",
     "ename": "ValueError",
     "evalue": "einstein sum subscripts string contains too many subscripts for operand 0",
     "traceback": [
      "\u001b[0;31m---------------------------------------------------------------------------\u001b[0m",
      "\u001b[0;31mValueError\u001b[0m                                Traceback (most recent call last)",
      "\u001b[0;32m<ipython-input-157-cb6b19dd063c>\u001b[0m in \u001b[0;36m<module>\u001b[0;34m\u001b[0m\n\u001b[0;32m----> 1\u001b[0;31m \u001b[0mgetContractedArray\u001b[0m\u001b[0;34m(\u001b[0m\u001b[0mtestWick\u001b[0m\u001b[0;34m.\u001b[0m\u001b[0msummandList\u001b[0m\u001b[0;34m[\u001b[0m\u001b[0;36m0\u001b[0m\u001b[0;34m]\u001b[0m\u001b[0;34m)\u001b[0m\u001b[0;34m\u001b[0m\u001b[0;34m\u001b[0m\u001b[0m\n\u001b[0m",
      "\u001b[0;32m<ipython-input-147-36bc7a4832ba>\u001b[0m in \u001b[0;36mgetContractedArray\u001b[0;34m(operatorProduct_)\u001b[0m\n\u001b[1;32m     39\u001b[0m \u001b[0;31m#    print(einsumString)\u001b[0m\u001b[0;34m\u001b[0m\u001b[0;34m\u001b[0m\u001b[0;34m\u001b[0m\u001b[0m\n\u001b[1;32m     40\u001b[0m     \u001b[0mprint\u001b[0m\u001b[0;34m(\u001b[0m\u001b[0;34m[\u001b[0m\u001b[0mvertex\u001b[0m\u001b[0;34m.\u001b[0m\u001b[0mtensor\u001b[0m\u001b[0;34m.\u001b[0m\u001b[0marray\u001b[0m\u001b[0;34m.\u001b[0m\u001b[0mshape\u001b[0m \u001b[0;32mfor\u001b[0m \u001b[0mvertex\u001b[0m \u001b[0;32min\u001b[0m \u001b[0moperatorProduct_\u001b[0m\u001b[0;34m.\u001b[0m\u001b[0mvertexList\u001b[0m\u001b[0;34m]\u001b[0m\u001b[0;34m)\u001b[0m\u001b[0;34m\u001b[0m\u001b[0;34m\u001b[0m\u001b[0m\n\u001b[0;32m---> 41\u001b[0;31m     \u001b[0mcontribution\u001b[0m \u001b[0;34m=\u001b[0m \u001b[0moperatorProduct_\u001b[0m\u001b[0;34m.\u001b[0m\u001b[0mprefactor\u001b[0m \u001b[0;34m*\u001b[0m \u001b[0mnp\u001b[0m\u001b[0;34m.\u001b[0m\u001b[0meinsum\u001b[0m\u001b[0;34m(\u001b[0m\u001b[0meinsumString\u001b[0m\u001b[0;34m,\u001b[0m \u001b[0;34m*\u001b[0m\u001b[0;34m[\u001b[0m\u001b[0mvertex\u001b[0m\u001b[0;34m.\u001b[0m\u001b[0mtensor\u001b[0m\u001b[0;34m.\u001b[0m\u001b[0marray\u001b[0m \u001b[0;32mfor\u001b[0m \u001b[0mvertex\u001b[0m \u001b[0;32min\u001b[0m \u001b[0moperatorProduct_\u001b[0m\u001b[0;34m.\u001b[0m\u001b[0mvertexList\u001b[0m\u001b[0;34m]\u001b[0m\u001b[0;34m)\u001b[0m\u001b[0;34m\u001b[0m\u001b[0;34m\u001b[0m\u001b[0m\n\u001b[0m\u001b[1;32m     42\u001b[0m \u001b[0;31m#    print(contribution)\u001b[0m\u001b[0;34m\u001b[0m\u001b[0;34m\u001b[0m\u001b[0;34m\u001b[0m\u001b[0m\n\u001b[1;32m     43\u001b[0m     \u001b[0;32mreturn\u001b[0m \u001b[0mcontribution\u001b[0m\u001b[0;34m\u001b[0m\u001b[0;34m\u001b[0m\u001b[0m\n",
      "\u001b[0;32m<__array_function__ internals>\u001b[0m in \u001b[0;36meinsum\u001b[0;34m(*args, **kwargs)\u001b[0m\n",
      "\u001b[0;32m/Library/Frameworks/Python.framework/Versions/3.8/lib/python3.8/site-packages/numpy/core/einsumfunc.py\u001b[0m in \u001b[0;36meinsum\u001b[0;34m(*operands, **kwargs)\u001b[0m\n\u001b[1;32m   1354\u001b[0m     \u001b[0;31m# If no optimization, run pure einsum\u001b[0m\u001b[0;34m\u001b[0m\u001b[0;34m\u001b[0m\u001b[0;34m\u001b[0m\u001b[0m\n\u001b[1;32m   1355\u001b[0m     \u001b[0;32mif\u001b[0m \u001b[0moptimize_arg\u001b[0m \u001b[0;32mis\u001b[0m \u001b[0;32mFalse\u001b[0m\u001b[0;34m:\u001b[0m\u001b[0;34m\u001b[0m\u001b[0;34m\u001b[0m\u001b[0m\n\u001b[0;32m-> 1356\u001b[0;31m         \u001b[0;32mreturn\u001b[0m \u001b[0mc_einsum\u001b[0m\u001b[0;34m(\u001b[0m\u001b[0;34m*\u001b[0m\u001b[0moperands\u001b[0m\u001b[0;34m,\u001b[0m \u001b[0;34m**\u001b[0m\u001b[0mkwargs\u001b[0m\u001b[0;34m)\u001b[0m\u001b[0;34m\u001b[0m\u001b[0;34m\u001b[0m\u001b[0m\n\u001b[0m\u001b[1;32m   1357\u001b[0m \u001b[0;34m\u001b[0m\u001b[0m\n\u001b[1;32m   1358\u001b[0m     \u001b[0mvalid_einsum_kwargs\u001b[0m \u001b[0;34m=\u001b[0m \u001b[0;34m[\u001b[0m\u001b[0;34m'out'\u001b[0m\u001b[0;34m,\u001b[0m \u001b[0;34m'dtype'\u001b[0m\u001b[0;34m,\u001b[0m \u001b[0;34m'order'\u001b[0m\u001b[0;34m,\u001b[0m \u001b[0;34m'casting'\u001b[0m\u001b[0;34m]\u001b[0m\u001b[0;34m\u001b[0m\u001b[0;34m\u001b[0m\u001b[0m\n",
      "\u001b[0;31mValueError\u001b[0m: einstein sum subscripts string contains too many subscripts for operand 0"
     ]
    }
   ],
   "metadata": {}
  },
  {
   "cell_type": "code",
   "execution_count": 187,
   "source": [
    "testContractions = evaluateWick(projectionDoubles * fDiagrams[0] * t1 * t1)"
   ],
   "outputs": [],
   "metadata": {}
  },
  {
   "cell_type": "code",
   "execution_count": 188,
   "source": [
    "print(testContractions)"
   ],
   "outputs": [
    {
     "output_type": "stream",
     "name": "stdout",
     "text": [
      "4.0 * \\Phi_{h_{0}h_{1}}^{p_{0}p_{1}}f_{p_{0}}^{p_{3}}t1_{p_{1}}^{h_{0}}t1_{p_{3}}^{h_{1}}\n",
      " + -2.0 * \\Phi_{h_{0}h_{1}}^{p_{0}p_{1}}f_{p_{0}}^{p_{3}}t1_{p_{3}}^{h_{0}}t1_{p_{1}}^{h_{1}}\n",
      " + -2.0 * \\Phi_{h_{0}h_{1}}^{p_{0}p_{1}}f_{p_{1}}^{p_{3}}t1_{p_{0}}^{h_{0}}t1_{p_{3}}^{h_{1}}\n",
      " + 4.0 * \\Phi_{h_{0}h_{1}}^{p_{0}p_{1}}f_{p_{1}}^{p_{3}}t1_{p_{3}}^{h_{0}}t1_{p_{0}}^{h_{1}}\n",
      " + -2.0 * \\Phi_{h_{0}h_{1}}^{p_{0}p_{1}}f_{p_{0}}^{p_{3}}t1_{p_{1}}^{h_{1}}t1_{p_{3}}^{h_{0}}\n",
      " + 4.0 * \\Phi_{h_{0}h_{1}}^{p_{0}p_{1}}f_{p_{0}}^{p_{3}}t1_{p_{3}}^{h_{1}}t1_{p_{1}}^{h_{0}}\n",
      " + 4.0 * \\Phi_{h_{0}h_{1}}^{p_{0}p_{1}}f_{p_{1}}^{p_{3}}t1_{p_{0}}^{h_{1}}t1_{p_{3}}^{h_{0}}\n",
      " + -2.0 * \\Phi_{h_{0}h_{1}}^{p_{0}p_{1}}f_{p_{1}}^{p_{3}}t1_{p_{3}}^{h_{1}}t1_{p_{0}}^{h_{0}}\n"
     ]
    }
   ],
   "metadata": {}
  },
  {
   "cell_type": "code",
   "execution_count": 189,
   "source": [
    "testResidual = copy(testContractions)"
   ],
   "outputs": [],
   "metadata": {}
  },
  {
   "cell_type": "code",
   "execution_count": 190,
   "source": [
    "for summand in testResidual.summandList:\n",
    "    summand.vertexList.pop(0)\n",
    "    summand.tensorList.pop(0)"
   ],
   "outputs": [],
   "metadata": {}
  },
  {
   "cell_type": "code",
   "execution_count": 191,
   "source": [
    "print(testResidual)"
   ],
   "outputs": [
    {
     "output_type": "stream",
     "name": "stdout",
     "text": [
      "4.0 * f_{p_{0}}^{p_{3}}t1_{p_{1}}^{h_{0}}t1_{p_{3}}^{h_{1}}\n",
      " + -2.0 * f_{p_{0}}^{p_{3}}t1_{p_{3}}^{h_{0}}t1_{p_{1}}^{h_{1}}\n",
      " + -2.0 * f_{p_{1}}^{p_{3}}t1_{p_{0}}^{h_{0}}t1_{p_{3}}^{h_{1}}\n",
      " + 4.0 * f_{p_{1}}^{p_{3}}t1_{p_{3}}^{h_{0}}t1_{p_{0}}^{h_{1}}\n",
      " + -2.0 * f_{p_{0}}^{p_{3}}t1_{p_{1}}^{h_{1}}t1_{p_{3}}^{h_{0}}\n",
      " + 4.0 * f_{p_{0}}^{p_{3}}t1_{p_{3}}^{h_{1}}t1_{p_{1}}^{h_{0}}\n",
      " + 4.0 * f_{p_{1}}^{p_{3}}t1_{p_{0}}^{h_{1}}t1_{p_{3}}^{h_{0}}\n",
      " + -2.0 * f_{p_{1}}^{p_{3}}t1_{p_{3}}^{h_{1}}t1_{p_{0}}^{h_{0}}\n"
     ]
    }
   ],
   "metadata": {}
  },
  {
   "cell_type": "code",
   "execution_count": 195,
   "source": [
    "fDiagrams[0].array = np.arange(6,10).reshape((2,2))\n",
    "t1.array = np.arange(6).reshape((2,3))"
   ],
   "outputs": [],
   "metadata": {}
  },
  {
   "cell_type": "code",
   "execution_count": 217,
   "source": [
    "arr, ls1, ls2 = getContractedArray(testResidual.summandList[0])"
   ],
   "outputs": [
    {
     "output_type": "stream",
     "name": "stdout",
     "text": [
      "p_{0}\n",
      "p_{1}\n",
      "p_{3}\n",
      "p_{3}\n",
      "h_{0}\n",
      "h_{1}\n",
      "abc\n",
      "cde\n",
      "p_{0} p_{1}\n",
      "h_{0} h_{1}\n",
      "ab\n",
      "de\n",
      "ac,bd,ce->abde\n",
      "[(2, 2), (2, 3), (2, 3)]\n",
      "[[[[   0.    0.    0.]\n",
      "   [  84.  136.  188.]\n",
      "   [ 168.  272.  376.]]\n",
      "\n",
      "  [[ 252.  408.  564.]\n",
      "   [ 336.  544.  752.]\n",
      "   [ 420.  680.  940.]]]\n",
      "\n",
      "\n",
      " [[[   0.    0.    0.]\n",
      "   [ 108.  176.  244.]\n",
      "   [ 216.  352.  488.]]\n",
      "\n",
      "  [[ 324.  528.  732.]\n",
      "   [ 432.  704.  976.]\n",
      "   [ 540.  880. 1220.]]]]\n"
     ]
    }
   ],
   "metadata": {}
  },
  {
   "cell_type": "code",
   "execution_count": 220,
   "source": [
    "getContractedArray(testResidual.summandList[5], ls1, ls2)"
   ],
   "outputs": [
    {
     "output_type": "stream",
     "name": "stdout",
     "text": [
      "p_{0}\n",
      "p_{3}\n",
      "p_{1}\n",
      "p_{3}\n",
      "h_{1}\n",
      "h_{0}\n",
      "abc\n",
      "bde\n",
      "p_{0} p_{1}\n",
      "h_{1} h_{0}\n",
      "ac\n",
      "ed\n",
      "ab,bd,ce->aced\n",
      "[(2, 2), (2, 3), (2, 3)]\n",
      "[[[[   0.    0.    0.]\n",
      "   [  84.  136.  188.]\n",
      "   [ 168.  272.  376.]]\n",
      "\n",
      "  [[ 252.  408.  564.]\n",
      "   [ 336.  544.  752.]\n",
      "   [ 420.  680.  940.]]]\n",
      "\n",
      "\n",
      " [[[   0.    0.    0.]\n",
      "   [ 108.  176.  244.]\n",
      "   [ 216.  352.  488.]]\n",
      "\n",
      "  [[ 324.  528.  732.]\n",
      "   [ 432.  704.  976.]\n",
      "   [ 540.  880. 1220.]]]]\n"
     ]
    },
    {
     "output_type": "execute_result",
     "data": {
      "text/plain": [
       "array([[[[   0.,    0.,    0.],\n",
       "         [  84.,  136.,  188.],\n",
       "         [ 168.,  272.,  376.]],\n",
       "\n",
       "        [[ 252.,  408.,  564.],\n",
       "         [ 336.,  544.,  752.],\n",
       "         [ 420.,  680.,  940.]]],\n",
       "\n",
       "\n",
       "       [[[   0.,    0.,    0.],\n",
       "         [ 108.,  176.,  244.],\n",
       "         [ 216.,  352.,  488.]],\n",
       "\n",
       "        [[ 324.,  528.,  732.],\n",
       "         [ 432.,  704.,  976.],\n",
       "         [ 540.,  880., 1220.]]]])"
      ]
     },
     "metadata": {},
     "execution_count": 220
    }
   ],
   "metadata": {}
  },
  {
   "cell_type": "code",
   "execution_count": null,
   "source": [
    "contractTensorSum(testResidual)"
   ],
   "outputs": [],
   "metadata": {}
  },
  {
   "cell_type": "code",
   "execution_count": null,
   "source": [],
   "outputs": [],
   "metadata": {}
  }
 ],
 "metadata": {
  "kernelspec": {
   "name": "python3",
   "display_name": "Python 3.8.0 64-bit"
  },
  "language_info": {
   "codemirror_mode": {
    "name": "ipython",
    "version": 3
   },
   "file_extension": ".py",
   "mimetype": "text/x-python",
   "name": "python",
   "nbconvert_exporter": "python",
   "pygments_lexer": "ipython3",
   "version": "3.8.0"
  },
  "interpreter": {
   "hash": "aee8b7b246df8f9039afb4144a1f6fd8d2ca17a180786b69acc140d282b71a49"
  }
 },
 "nbformat": 4,
 "nbformat_minor": 2
}