{
 "cells": [
  {
   "cell_type": "code",
   "execution_count": 1,
   "metadata": {},
   "outputs": [],
   "source": [
    "import numpy as np\n",
    "from numbers import Number\n",
    "from pyscf import fci\n",
    "from copy import deepcopy, copy\n",
    "from math import factorial\n",
    "import time\n",
    "\n",
    "#define vacuum\n",
    "#take in operator string\n",
    "#format: string of indices, bitstring of creation vs annihilation\n",
    "#return normal-ordered operator string plus contracted terms, according to Wick's theorem\n",
    "\n"
   ]
  },
  {
   "cell_type": "code",
   "execution_count": 2,
   "metadata": {},
   "outputs": [
    {
     "output_type": "stream",
     "name": "stdout",
     "text": [
      "[1, 1, 0]\n"
     ]
    }
   ],
   "source": [
    "Norbs = 3\n",
    "Nocc = 2\n",
    "vacuumOccupations = [1 for i in range(Nocc)] + [0 for i in range (Norbs - Nocc)]\n",
    "print(vacuumOccupations)"
   ]
  },
  {
   "cell_type": "code",
   "execution_count": 3,
   "metadata": {},
   "outputs": [],
   "source": [
    "class Index:\n",
    "    '''\n",
    "    Class for an orbital index\n",
    "    name (str): name given to index\n",
    "    occupiedInVaccum (bool): whether the index refers to orbitals that are occupied in the vacuum (i.e. hole orbitals) or not (particle orbitals)\n",
    "    '''\n",
    "    def __init__(self, name, occupiedInVacuum):\n",
    "        self.name = name\n",
    "        self.occupiedInVacuum = occupiedInVacuum\n",
    "        self.tuple = (self.name, self.occupiedInVacuum)\n",
    "\n",
    "    def __hash__(self):\n",
    "        return hash(self.tuple)\n",
    "\n",
    "    def __eq__(self, other):\n",
    "        return self.tuple == other\n",
    "\n",
    "    def __str__(self):\n",
    "        return self.name"
   ]
  },
  {
   "cell_type": "code",
   "execution_count": 4,
   "metadata": {},
   "outputs": [],
   "source": [
    "class basicOperator:\n",
    "    '''\n",
    "    Class for a basic fermionic creation or annihilation operator, with arbitrary index\n",
    "    index (Index): the index for the orbitals on which this operator acts\n",
    "    creation_annihilation (bool): True for creation, False for annihilation\n",
    "    spin (bool): True for alpha, False for beta\n",
    "    quasi_cre_ann (bool): creation or annihilation with respect to Fermi vacuum\n",
    "    '''\n",
    "    def __init__(self, index_, creation_annihilation_, spin_):\n",
    "        self.index = index_\n",
    "        self.spin = spin_\n",
    "        self.creation_annihilation = creation_annihilation_\n",
    "        self.quasi_cre_ann = not (self.creation_annihilation == self.index.occupiedInVacuum)\n",
    "\n",
    "    def __str__(self):\n",
    "        string = \"a\"\n",
    "        if bool(self.creation_annihilation):\n",
    "            string = string + \"^\"\n",
    "        else:\n",
    "            string = string + \"_\"\n",
    "        if bool(self.spin):\n",
    "            string = string + \"{\" + self.index.__str__() + \"\\\\alpha}\"\n",
    "        else:\n",
    "            string = string + \"{\" + self.index.__str__() + \"\\\\beta}\"\n",
    "        return string\n",
    "\n",
    "    def __eq__(self, other):\n",
    "        if isinstance(other, basicOperator):\n",
    "            return self.index == other.index and self.spin == other.spin and self.creation_annihilation == other.creation_annihilation\n",
    "        return False\n",
    "\n",
    "    def conjugate(self):\n",
    "        return basicOperator(self.index, not self.creation_annihilation, self.spin)"
   ]
  },
  {
   "cell_type": "code",
   "execution_count": 5,
   "metadata": {},
   "outputs": [],
   "source": [
    "class operatorProduct:\n",
    "    def __init__(self, operatorList_=[], prefactor_=1., contractionsList_=[]):\n",
    "        self.operatorList = operatorList_\n",
    "        self.prefactor = prefactor_\n",
    "        self.contractionsList = contractionsList_\n",
    "\n",
    "    def isProportional(self, other):\n",
    "        if isinstance(other, operatorProduct):\n",
    "            return self.operatorList == other.operatorList and set(self.contractionsList) == set(other.contractionsList)\n",
    "        else:\n",
    "            return NotImplemented\n",
    "\n",
    "    def __str__(self):\n",
    "        string = str(self.prefactor)\n",
    "        if(len(self.operatorList) + len(self.contractionsList) > 0):\n",
    "            string = string + \" * \"\n",
    "        for o in self.operatorList:\n",
    "            string = string + o.__str__()\n",
    "        for contraction in self.contractionsList:\n",
    "            string = string + \"\\delta^{\" + contraction[0].__str__() + \"}_{\" + contraction[1].__str__() + \"}\"\n",
    "        return string\n",
    "\n",
    "    def __mul__(self, other):\n",
    "        if isinstance(other, operatorProduct):\n",
    "            return operatorProduct(self.operatorList + other.operatorList, self.prefactor * other.prefactor, self.contractionsList + other.contractionsList)\n",
    "        elif isinstance(other, operatorSum):\n",
    "            newSummandList = []\n",
    "            for s in other.summandList:\n",
    "                newSummandList.append(self * s)\n",
    "            return operatorSum(newSummandList)\n",
    "        elif isinstance(other, Number):\n",
    "            return operatorProduct(self.operatorList, self.prefactor * other, self.contractionsList)\n",
    "        else:\n",
    "            return NotImplemented\n",
    "\n",
    "    def __rmul__(self, other):\n",
    "        if isinstance(other, Number):\n",
    "            return operatorProduct(self.operatorList, other * self.prefactor, self.contractionsList)\n",
    "        else:\n",
    "            return NotImplemented\n",
    "\n",
    "    def __add__(self, other):\n",
    "        if isinstance(other, operatorProduct):\n",
    "            if self.isProportional(other):\n",
    "                return operatorProduct(self.operatorList, self.prefactor + other.prefactor, self.contractionsList)\n",
    "            else:\n",
    "                return operatorSum([self, other])\n",
    "        elif other == 0:\n",
    "            return self\n",
    "        else:\n",
    "            return NotImplemented\n",
    "\n",
    "    def __radd__(self, other):\n",
    "        if other == 0:\n",
    "            return self\n",
    "        else:\n",
    "            return NotImplemented\n",
    "\n",
    "    def __eq__(self, other):\n",
    "        if isinstance(other, operatorProduct):\n",
    "            return self.operatorList == other.operatorList and self.prefactor == other.prefactor and self.contractionsList == other.contractionsList\n",
    "        else:\n",
    "            return NotImplemented\n",
    "            \n",
    "    def checkNilpotency(self):\n",
    "        nonZero = True\n",
    "        i = 0\n",
    "        while i < len(self.operatorList):\n",
    "            j = i + 1\n",
    "            while j < len(self.operatorList):\n",
    "                if self.operatorList[j] == self.operatorList[i]:\n",
    "                    nonZero = False\n",
    "                elif self.operatorList[j] == self.operatorList[i].conjugate():\n",
    "                    break\n",
    "                j = j + 1\n",
    "            i = i + 1\n",
    "        return nonZero\n",
    "\n",
    "    def conjugate(self):\n",
    "        return operatorProduct([o.conjugate() for o in self.operatorList], np.conjugate(self.prefactor), self.contractionsList)"
   ]
  },
  {
   "cell_type": "code",
   "execution_count": 6,
   "metadata": {},
   "outputs": [],
   "source": [
    "class operatorSum:\n",
    "    def __init__(self, summandList_=[]):\n",
    "        self.summandList = self.collectSummandList(summandList_)\n",
    "\n",
    "\n",
    "    def collectSummandList(self, summandList):\n",
    "        oldSummandList = deepcopy(summandList)\n",
    "        newSummandList = []\n",
    "        while len(oldSummandList) > 0:\n",
    "            newSummand = oldSummandList[0]\n",
    "            i = 1\n",
    "            while i < len(oldSummandList):\n",
    "                if newSummand.isProportional(oldSummandList[i]):\n",
    "                    newSummand += oldSummandList[i]\n",
    "                    del oldSummandList[i]\n",
    "                else:\n",
    "                    i += 1\n",
    "            newSummandList.append(newSummand)\n",
    "            del oldSummandList[0]\n",
    "        return newSummandList\n",
    "\n",
    "    def __str__(self):\n",
    "        if len(self.summandList) == 0:\n",
    "            return str(0)\n",
    "        string = self.summandList[0].__str__()\n",
    "        s = 1\n",
    "        while s < len(self.summandList):\n",
    "            string = string + \"\\n + \" + self.summandList[s].__str__()\n",
    "            s = s + 1\n",
    "        return string\n",
    "\n",
    "    def __add__(self, other):\n",
    "        if isinstance(other, operatorSum):\n",
    "            return operatorSum(self.summandList + other.summandList)\n",
    "        elif isinstance(other, operatorProduct):\n",
    "            if other.prefactor == 0:\n",
    "                return self\n",
    "            newSummandList = copy(self.summandList)\n",
    "            alreadyInSum = False\n",
    "            for summand in newSummandList:\n",
    "                if summand.isProportional(other):\n",
    "                    alreadyInSum = True\n",
    "                    summand.prefactor += other.prefactor\n",
    "            if not alreadyInSum:\n",
    "                newSummandList.append(other)\n",
    "            return operatorSum(newSummandList)\n",
    "        elif other == 0:\n",
    "            return self\n",
    "        else:\n",
    "            return NotImplemented\n",
    "            \n",
    "    def __radd__(self, other):\n",
    "        if isinstance(other, operatorProduct):\n",
    "            if other.prefactor == 0:\n",
    "                return self\n",
    "            newSummandList = copy(self.summandList)\n",
    "            alreadyInSum = False\n",
    "            for summand in newSummandList:\n",
    "                if summand.isProportional(other):\n",
    "                    alreadyInSum = True\n",
    "                    summand.prefactor += other.prefactor\n",
    "            if not alreadyInSum:\n",
    "                newSummandList.append(other)\n",
    "            return operatorSum(newSummandList)\n",
    "        elif other == 0:\n",
    "            return self\n",
    "        else:\n",
    "            return NotImplemented\n",
    "\n",
    "    def __mul__(self, other):\n",
    "        if isinstance(other, operatorProduct):\n",
    "            newSummandList = []\n",
    "            for s in self.summandList:\n",
    "                newSummandList.append(s * other)\n",
    "            return operatorSum(newSummandList)\n",
    "        elif isinstance(other, operatorSum):\n",
    "            newSummandList = []\n",
    "            for o in other.summandList:\n",
    "                partialSum = self * o\n",
    "                newSummandList = newSummandList + partialSum.summandList\n",
    "            return operatorSum(newSummandList)\n",
    "        elif isinstance(other, Number):\n",
    "            return operatorSum([self.summandList[s] * other for s in range(len(self.summandList))])\n",
    "        else:\n",
    "            return NotImplemented\n",
    "\n",
    "    def __rmul__(self, other):\n",
    "        if isinstance(other, operatorProduct):\n",
    "            newSummandList = []\n",
    "            for s in self.summandList:\n",
    "                newSummandList.append(other * s)\n",
    "            return operatorSum(newSummandList)\n",
    "        elif isinstance(other, Number):\n",
    "            return operatorSum([other * self.summandList[s] for s in range(len(self.summandList))])\n",
    "        else:\n",
    "            return NotImplemented\n",
    "\n",
    "    def conjugate(self):\n",
    "        return operatorSum([s.conjugate() for s in self.summandList])"
   ]
  },
  {
   "cell_type": "code",
   "execution_count": 7,
   "metadata": {},
   "outputs": [],
   "source": [
    "def normalOrder(operator):\n",
    "    '''\n",
    "    Input: an operatorProduct or operatorSum and a list corresponding to which orbitals are occupied in the Fermi vacuum\n",
    "    Output: normal ordered form of input, with respect to vacuum\n",
    "    '''\n",
    "    if isinstance(operator, operatorSum):\n",
    "        return operatorSum([normalOrder(product) for product in operator.summandList])\n",
    "    quasiCreationList, quasiAnnihilationList = [], []\n",
    "    quasiCreationCount = 0\n",
    "    sign = 1\n",
    "    for o in range(len(operator.operatorList)):\n",
    "        op = operator.operatorList[o]\n",
    "        if bool(op.quasi_cre_ann):\n",
    "            quasiCreationList.append(op)\n",
    "            if (o - quasiCreationCount) % 2 == 1:\n",
    "                sign = -sign\n",
    "            quasiCreationCount += 1\n",
    "        else:\n",
    "            quasiAnnihilationList.append(op)\n",
    "    return operatorProduct(quasiCreationList + quasiAnnihilationList, sign * operator.prefactor, operator.contractionsList)"
   ]
  },
  {
   "cell_type": "code",
   "execution_count": 8,
   "metadata": {},
   "outputs": [
    {
     "output_type": "stream",
     "name": "stdout",
     "text": [
      "a^{p\\alpha}\na_{p\\alpha}\n1.0 * a^{p\\alpha}a_{p\\alpha}\n1.0 * a^{p\\alpha}a_{p\\alpha}\n4.0 * a^{p\\alpha}a_{p\\alpha}a^{p\\alpha}a_{p\\alpha}\nTrue\nTrue\n"
     ]
    }
   ],
   "source": [
    "oP = operatorProduct([basicOperator(Index('p', False),1,1), basicOperator(Index('p', False),0,1)])\n",
    "nOP = normalOrder(oP)\n",
    "for i in range(len(nOP.operatorList)):\n",
    "    print(nOP.operatorList[i])\n",
    "\n",
    "print(oP)\n",
    "print(nOP)\n",
    "\n",
    "print((nOP + oP) * (nOP + oP))\n",
    "\n",
    "a = basicOperator(Index('p', False),1,1)\n",
    "b = basicOperator(Index('p', False),1,1)\n",
    "\n",
    "print(a==b)\n",
    "\n",
    "print((nOP * nOP).checkNilpotency())"
   ]
  },
  {
   "cell_type": "code",
   "execution_count": 9,
   "metadata": {},
   "outputs": [],
   "source": [
    "def anticommute(operatorProduct_, first):\n",
    "    '''\n",
    "    Apply fermionic anticommutation relation to two adjacent second-quantized operators in an operatorProduct\n",
    "    '''\n",
    "    operatorList_ = operatorProduct_.operatorList\n",
    "#    firstIndex = operatorList_[first].orbital\n",
    "#    secondIndex = operatorList_[first + 1].orbital\n",
    "    commutedTerm = operatorProduct(operatorList_[:first] + operatorList_[first + 1] + operatorList_[first] + operatorList_[first + 1:], operatorProduct_.prefactor * (-1))\n",
    "#    if operatorList_[first].quasi_cre_ann == operatorList_[second].quasi_cre_ann:\n",
    "    return commutedTerm\n",
    "#    elif firstIndex == secondIndex:\n",
    "#        contractedTerm = operatorProduct(operatorList_[:first] + operatorList_[first+2:], operatorProduct_.prefactor)\n",
    "#        return operatorSum([contractedTerm, commutedTerm])\n",
    "#    else:\n",
    "#        return commutedTerm"
   ]
  },
  {
   "cell_type": "code",
   "execution_count": 10,
   "metadata": {},
   "outputs": [],
   "source": [
    "def anticommuteInPlace(operatorProduct_, first):\n",
    "    '''\n",
    "    Apply fermionic anticommutation relation in place to two adjacent second-quantized operators in an operatorProduct\n",
    "    '''\n",
    "    operatorList_ = operatorProduct_.operatorList\n",
    "    if operatorList_ == []:\n",
    "        return\n",
    "    firstOperatorCopy = deepcopy(operatorList_[first])\n",
    "    operatorList_[first], operatorList_[first + 1] = operatorList_[first + 1], firstOperatorCopy\n",
    "    operatorProduct_.prefactor = -operatorProduct_.prefactor\n",
    "    return"
   ]
  },
  {
   "cell_type": "code",
   "execution_count": 11,
   "metadata": {},
   "outputs": [],
   "source": [
    "def contract(operatorProduct_, first, second):\n",
    "    '''\n",
    "    Make a contraction between the indices of operators at the positions given by first and second in operatorProduct_\n",
    "    '''\n",
    "    operatorList_ = operatorProduct_.operatorList\n",
    "    existingContractions = operatorProduct_.contractionsList\n",
    "    if operatorList_ == []:\n",
    "        return operatorProduct_\n",
    "    firstIndex = operatorList_[first].index\n",
    "    secondIndex = operatorList_[second].index\n",
    "#    if firstIndex == secondIndex:\n",
    "    if firstIndex.occupiedInVacuum != secondIndex.occupiedInVacuum:\n",
    "        return operatorProduct([],0)\n",
    "    if operatorList_[first].spin != operatorList_[second].spin:\n",
    "        return operatorProduct([],0)\n",
    "    if operatorList_[first].quasi_cre_ann:\n",
    "        return operatorProduct([],0)\n",
    "    if not operatorList_[second].quasi_cre_ann:\n",
    "        return operatorProduct([],0)\n",
    "    else:\n",
    "        contractionTuple = tuple()\n",
    "        if operatorList_[first].creation_annihilation:\n",
    "            contractionTuple = (firstIndex, secondIndex)\n",
    "        else:\n",
    "            contractionTuple = (secondIndex, firstIndex)\n",
    "        return operatorProduct(operatorList_[:first] + operatorList_[first+1:second] + operatorList_[second + 1:], operatorProduct_.prefactor * ((-1) ** (1 + second - first)), existingContractions + [contractionTuple])"
   ]
  },
  {
   "cell_type": "code",
   "execution_count": 12,
   "metadata": {},
   "outputs": [],
   "source": [
    "def reorderForContraction(operatorProduct_, first, second):\n",
    "    '''\n",
    "    Reorder operators using anticommutation relation so that two operators to be contracted are in positions 0 and 1\n",
    "    '''\n",
    "    operatorProductCopy = deepcopy(operatorProduct_)\n",
    "    i = first\n",
    "    j = second\n",
    "    while i > 0:\n",
    "        anticommuteInPlace(operatorProductCopy, i-1)\n",
    "        i = i - 1\n",
    "    while j > 1:\n",
    "        anticommuteInPlace(operatorProductCopy, j-1)\n",
    "        j = j - 1\n",
    "    return operatorProductCopy\n"
   ]
  },
  {
   "cell_type": "code",
   "execution_count": 13,
   "metadata": {},
   "outputs": [],
   "source": [
    "def reorderForMultipleContraction(operatorProduct_, pairsList):\n",
    "    '''\n",
    "    Reorder operators using anticommutation relation so that each pair of operators to be contracted are adjacent\n",
    "    '''\n",
    "    operatorProductCopy = deepcopy(operatorProduct_)\n",
    "    finalPosition = 0\n",
    "    for positionPair in pairsList:\n",
    "        i = positionPair[0]\n",
    "        j = positionPair[1]\n",
    "        while i > finalPosition:\n",
    "            anticommuteInPlace(operatorProductCopy, i-1)\n",
    "            i = i - 1\n",
    "        while j > finalPosition + 1:\n",
    "            anticommuteInPlace(operatorProductCopy, j-1)\n",
    "            j = j - 1\n",
    "        finalPosition = finalPosition + 2\n",
    "    return operatorProductCopy"
   ]
  },
  {
   "cell_type": "code",
   "execution_count": 14,
   "metadata": {},
   "outputs": [],
   "source": [
    "def updateFlattenedPositionList(flattenedPositions):\n",
    "    for i in range(len(flattenedPositions)):\n",
    "        if flattenedPositions[i] > flattenedPositions[1]:\n",
    "            flattenedPositions[i] -= 2\n",
    "        elif flattenedPositions[i] > flattenedPositions[0]:\n",
    "            flattenedPositions[i] -= 1\n",
    "    return flattenedPositions[2:]"
   ]
  },
  {
   "cell_type": "code",
   "execution_count": 15,
   "metadata": {},
   "outputs": [],
   "source": [
    "def multipleContraction(operatorProduct_, positionPairsList):\n",
    "    '''\n",
    "    Contractions between multiple pairs of operators in a product, at the positions given by entries 2i and 2i+1 in positionPairsList\n",
    "    '''\n",
    "    product = deepcopy(operatorProduct_)\n",
    "    while len(positionPairsList) > 0:\n",
    "#    for positionPair in pairsList:\n",
    "        reorderedProduct = reorderForContraction(product, positionPairsList[0], positionPairsList[1])\n",
    "        product = contract(reorderedProduct, 0, 1)\n",
    "        positionPairsList = updateFlattenedPositionList(positionPairsList) #NOTE: reduces length of positionPairsList by 2\n",
    "    return product"
   ]
  },
  {
   "cell_type": "code",
   "execution_count": 16,
   "metadata": {},
   "outputs": [],
   "source": [
    "def nFoldContractionFromStart(operatorProduct_, n):\n",
    "    product = deepcopy(operatorProduct_)\n",
    "    if (2 * n <= len(product.operatorList)):\n",
    "        for i in range(n):\n",
    "            product = contract(product, 0, 1)\n",
    "    return product"
   ]
  },
  {
   "cell_type": "code",
   "execution_count": 17,
   "metadata": {},
   "outputs": [
    {
     "output_type": "stream",
     "name": "stdout",
     "text": [
      "1.0 * a_{a\\alpha}a_{b\\alpha}a^{a\\alpha}a^{b\\alpha}\n1.0 * a^{a\\alpha}a^{b\\alpha}a_{a\\alpha}a_{b\\alpha}\n----\n-1.0 * a_{b\\alpha}a^{b\\alpha}\\delta^{a}_{a}\n-1.0 * a_{a\\alpha}a^{a\\alpha}\\delta^{b}_{b}\n-1.0 * \\delta^{a}_{a}\\delta^{b}_{b}\n0\n4\n----\n-1.0 * a_{a\\alpha}a^{a\\alpha}a_{b\\alpha}a^{b\\alpha}\n-1.0 * a_{b\\alpha}a^{b\\alpha}\\delta^{a}_{a}\n----\n1.0 * a_{a\\alpha}a_{b\\alpha}a^{a\\alpha}a^{b\\alpha}\n"
     ]
    }
   ],
   "source": [
    "oP2 = operatorProduct([basicOperator(Index('a', False),0,1), basicOperator(Index('b', False),0,1), basicOperator(Index('a', False),1,1), basicOperator(Index('b', False),1,1)])\n",
    "nOP2 = normalOrder(oP2)\n",
    "print(oP2)\n",
    "print(nOP2)\n",
    "\n",
    "print(\"----\")\n",
    "\n",
    "print(contract(oP2, 0,2))\n",
    "print(contract(oP2, 1,3))\n",
    "print(contract(contract(oP2, 0,2),0,1))\n",
    "print(nFoldContractionFromStart(oP2, 1))\n",
    "print(len(oP2.operatorList))\n",
    "\n",
    "print(\"----\")\n",
    "\n",
    "print(reorderForContraction(oP2,0,2))\n",
    "print(nFoldContractionFromStart(reorderForContraction(oP2,0,2), 1))\n",
    "\n",
    "print(\"----\")\n",
    "\n",
    "print(multipleContraction(oP2, []))"
   ]
  },
  {
   "cell_type": "code",
   "execution_count": 18,
   "metadata": {},
   "outputs": [
    {
     "output_type": "stream",
     "name": "stdout",
     "text": [
      "[0, 2, 1, 3]\n[0, 1]\n[0, 2, 1, 3]\n"
     ]
    }
   ],
   "source": [
    "positionPairs = [(0,2),(1,3)]\n",
    "flattenedPositions = [pos for pair in positionPairs for pos in pair]\n",
    "print(flattenedPositions)\n",
    "flattenedPositionsAfterContraction = deepcopy(flattenedPositions)\n",
    "for i in range(len(flattenedPositionsAfterContraction)):\n",
    "    if flattenedPositionsAfterContraction[i] > flattenedPositionsAfterContraction[1]:\n",
    "        flattenedPositionsAfterContraction[i] -= 2\n",
    "    elif flattenedPositionsAfterContraction[i] > flattenedPositionsAfterContraction[0]:\n",
    "        flattenedPositionsAfterContraction[i] -= 1\n",
    "print(flattenedPositionsAfterContraction[2:])\n",
    "print(flattenedPositions)"
   ]
  },
  {
   "cell_type": "code",
   "execution_count": 19,
   "metadata": {},
   "outputs": [],
   "source": [
    "def genPairOrderedLists(list_):\n",
    "    '''\n",
    "    Given an ordered list with an even number of elements, returns list of all permutations of that list where each adjacent pair is ordered, and where the first elements of pairs are ordered\n",
    "    '''\n",
    "    pairOrderedLists = []\n",
    "    if len(list_) == 2:\n",
    "        pairOrderedLists.append(list_)\n",
    "    else:\n",
    "        for i in range(1,len(list_)):\n",
    "            swappedList = [list_[0]] + [list_[i]] + list_[1:i]\n",
    "            if i < len(list_):\n",
    "                swappedList = swappedList + list_[i+1:]\n",
    "            subLists = genPairOrderedLists(swappedList[2:])\n",
    "            for l in range(len(subLists)):\n",
    "                pairOrderedLists.append(swappedList[:2] + subLists[l])\n",
    "    return pairOrderedLists"
   ]
  },
  {
   "cell_type": "code",
   "execution_count": 20,
   "metadata": {},
   "outputs": [
    {
     "output_type": "stream",
     "name": "stdout",
     "text": [
      "[['a', 'b', 'c', 'd', 'e', 'f'], ['a', 'b', 'c', 'e', 'd', 'f'], ['a', 'b', 'c', 'f', 'd', 'e'], ['a', 'c', 'b', 'd', 'e', 'f'], ['a', 'c', 'b', 'e', 'd', 'f'], ['a', 'c', 'b', 'f', 'd', 'e'], ['a', 'd', 'b', 'c', 'e', 'f'], ['a', 'd', 'b', 'e', 'c', 'f'], ['a', 'd', 'b', 'f', 'c', 'e'], ['a', 'e', 'b', 'c', 'd', 'f'], ['a', 'e', 'b', 'd', 'c', 'f'], ['a', 'e', 'b', 'f', 'c', 'd'], ['a', 'f', 'b', 'c', 'd', 'e'], ['a', 'f', 'b', 'd', 'c', 'e'], ['a', 'f', 'b', 'e', 'c', 'd']]\n"
     ]
    }
   ],
   "source": [
    "objectList = [\"a\", \"b\", \"c\", \"d\", \"e\", \"f\"]\n",
    "print(genPairOrderedLists(objectList))"
   ]
  },
  {
   "cell_type": "code",
   "execution_count": 21,
   "metadata": {},
   "outputs": [],
   "source": [
    "from itertools import combinations"
   ]
  },
  {
   "cell_type": "code",
   "execution_count": 22,
   "metadata": {},
   "outputs": [],
   "source": [
    "def getPositionsForMultipleContraction(operatorProduct_, n):\n",
    "    nOperators = len(operatorProduct_.operatorList)\n",
    "    operatorPositions = range(nOperators)\n",
    "    nToChoose = 2 * n\n",
    "    if nToChoose <= nOperators:\n",
    "        return combinations(operatorPositions, nToChoose)\n"
   ]
  },
  {
   "cell_type": "code",
   "execution_count": 23,
   "metadata": {},
   "outputs": [
    {
     "output_type": "stream",
     "name": "stdout",
     "text": [
      "1.0 * a_{a\\alpha}a_{b\\alpha}a^{a\\alpha}a^{b\\alpha}\n[[0, 1, 2, 3]]\n[]\n"
     ]
    }
   ],
   "source": [
    "print(oP2)\n",
    "chosenPositions = getPositionsForMultipleContraction(oP2, 2)\n",
    "print([list(c) for c in chosenPositions])\n",
    "print([genPairOrderedLists(list(d)) for d in chosenPositions])"
   ]
  },
  {
   "cell_type": "code",
   "execution_count": 24,
   "metadata": {},
   "outputs": [],
   "source": [
    "def sumNFoldContractions(operatorProduct_, n):\n",
    "    chosenPositions = getPositionsForMultipleContraction(operatorProduct_, n)\n",
    "    if n == 0:\n",
    "        return operatorProduct_\n",
    "    operatorSum_ = operatorSum([])\n",
    "    for c in chosenPositions:\n",
    "        pairOrderedList = genPairOrderedLists(list(c))\n",
    "        for l in pairOrderedList:\n",
    "            operatorSum_ = operatorSum_ + multipleContraction(operatorProduct_, l)\n",
    "    return operatorSum_"
   ]
  },
  {
   "cell_type": "code",
   "execution_count": 25,
   "metadata": {},
   "outputs": [
    {
     "output_type": "stream",
     "name": "stdout",
     "text": [
      "1.0 * a_{a\\alpha}a_{b\\alpha}a^{a\\alpha}a^{b\\alpha}\n-1.0 * \\delta^{a}_{a}\\delta^{b}_{b}\n-1.0 * a_{b\\alpha}a^{b\\alpha}\\delta^{a}_{a}\n + 1.0 * a_{b\\alpha}a^{a\\alpha}\\delta^{b}_{a}\n + 1.0 * a_{a\\alpha}a^{b\\alpha}\\delta^{a}_{b}\n + -1.0 * a_{a\\alpha}a^{a\\alpha}\\delta^{b}_{b}\n"
     ]
    }
   ],
   "source": [
    "print(oP2)\n",
    "print(multipleContraction(oP2, [0,2,1,3]))\n",
    "print(sumNFoldContractions(oP2, 1))"
   ]
  },
  {
   "cell_type": "code",
   "execution_count": 26,
   "metadata": {},
   "outputs": [],
   "source": [
    "def wickExpand(operator):\n",
    "    if isinstance(operator, operatorSum):\n",
    "        wickExpansion = operatorSum([])\n",
    "        for product in operator.summandList:\n",
    "            wickExpansion = wickExpansion + wickExpand(product)\n",
    "        return wickExpansion\n",
    "    wickExpansion = operatorSum([normalOrder(operator)])\n",
    "    highestOrder = len(operator.operatorList) // 2\n",
    "    for n in range(highestOrder):\n",
    "        wickExpansion = wickExpansion + sumNFoldContractions(operator, n + 1)\n",
    "    return normalOrder(wickExpansion)"
   ]
  },
  {
   "cell_type": "code",
   "execution_count": 27,
   "metadata": {},
   "outputs": [],
   "source": [
    "def vacuumExpectationValue(operator):\n",
    "    wickExpansion = wickExpand(operator)\n",
    "    vEV = operatorSum()\n",
    "    for summand in wickExpansion.summandList:\n",
    "        if summand.operatorList == []:\n",
    "            topologyAlreadyFound = False\n",
    "            for topology in vEV.summandList:\n",
    "                if set(summand.contractionsList) == set(topology.contractionsList):\n",
    "                    topology.prefactor += summand.prefactor\n",
    "                    topologyAlreadyFound = True\n",
    "            if not topologyAlreadyFound:\n",
    "                vEV += summand\n",
    "    return vEV"
   ]
  },
  {
   "cell_type": "code",
   "execution_count": 28,
   "metadata": {},
   "outputs": [
    {
     "output_type": "stream",
     "name": "stdout",
     "text": [
      "1.0 * a_{a\\alpha}a_{b\\alpha}a^{a\\alpha}a^{b\\alpha}\n",
      "1.0 * a^{a\\alpha}a^{b\\alpha}a_{a\\alpha}a_{b\\alpha}\n",
      " + 1.0 * a^{b\\alpha}a_{b\\alpha}\\delta^{a}_{a}\n",
      " + -1.0 * a^{a\\alpha}a_{b\\alpha}\\delta^{b}_{a}\n",
      " + -1.0 * a^{b\\alpha}a_{a\\alpha}\\delta^{a}_{b}\n",
      " + 1.0 * a^{a\\alpha}a_{a\\alpha}\\delta^{b}_{b}\n",
      " + -1.0 * \\delta^{a}_{a}\\delta^{b}_{b}\n",
      " + 1.0 * \\delta^{b}_{a}\\delta^{a}_{b}\n",
      "-1.0 * \\delta^{a}_{a}\\delta^{b}_{b}\n",
      " + 1.0 * \\delta^{b}_{a}\\delta^{a}_{b}\n"
     ]
    }
   ],
   "source": [
    "print(oP2)\n",
    "print(wickExpand(oP2))\n",
    "print(vacuumExpectationValue(oP2))"
   ]
  },
  {
   "cell_type": "code",
   "execution_count": 29,
   "metadata": {},
   "outputs": [],
   "source": [
    "#Particle number-conserving excitation operators, normal ordered with respect to true vacuum\n",
    "class excitation(operatorProduct):\n",
    "    def __init__(self, creationIndicesList_, annihilationIndicesList_, spinList_):\n",
    "        super(excitation, self).__init__()\n",
    "        self.operatorList = []\n",
    "        for i in range(len(creationIndicesList_)):\n",
    "            self.operatorList.append(basicOperator(creationIndicesList_[i], True, spinList_[i]))\n",
    "        for i in range(len(annihilationIndicesList_)):\n",
    "            self.operatorList.append(basicOperator(annihilationIndicesList_[i], False, spinList_[i+len(creationIndicesList_)]))"
   ]
  },
  {
   "cell_type": "code",
   "execution_count": 30,
   "metadata": {},
   "outputs": [],
   "source": [
    "class spinFreeExcitation(operatorSum):\n",
    "    def __init__(self, creationList_, annihilationList_):\n",
    "        self.summandList = []\n",
    "        spinLists = np.reshape(np.zeros(len(creationList_)), (1, -1))\n",
    "        for i in range(len(creationList_)):\n",
    "            newspinLists = deepcopy(spinLists)\n",
    "            for s in range(len(spinLists)):\n",
    "                newspinLists[s,i] = 1\n",
    "            spinLists = np.concatenate((spinLists, newspinLists))\n",
    "        for l in range(len(spinLists)):\n",
    "            spinList = spinLists[l]\n",
    "            self.summandList.append(excitation(creationList_, annihilationList_, [*spinList, *spinList[::-1]]))"
   ]
  },
  {
   "cell_type": "code",
   "execution_count": 31,
   "metadata": {},
   "outputs": [],
   "source": [
    "aI = Index('a', True)\n",
    "bI = Index('b', True)\n",
    "cI = Index('c', True)\n",
    "dI = Index('d', True)\n",
    "rI = Index('r', False)\n",
    "sI = Index('s', False)\n",
    "tI = Index('t', False)\n",
    "uI = Index('u', False)"
   ]
  },
  {
   "cell_type": "code",
   "execution_count": 32,
   "metadata": {},
   "outputs": [],
   "source": [
    "testOperator = spinFreeExcitation([rI], [aI])"
   ]
  },
  {
   "cell_type": "code",
   "execution_count": 33,
   "metadata": {},
   "outputs": [
    {
     "output_type": "stream",
     "name": "stdout",
     "text": [
      "1.0 * a^{r\\beta}a_{a\\beta}\n + 1.0 * a^{r\\alpha}a_{a\\alpha}\n"
     ]
    }
   ],
   "source": [
    "print(testOperator)"
   ]
  },
  {
   "cell_type": "code",
   "execution_count": 34,
   "metadata": {},
   "outputs": [
    {
     "output_type": "stream",
     "name": "stdout",
     "text": [
      "1.0 * a^{r\\beta}a_{a\\beta}\n + 1.0 * a^{r\\alpha}a_{a\\alpha}\n"
     ]
    }
   ],
   "source": [
    "print(normalOrder(testOperator))"
   ]
  },
  {
   "cell_type": "code",
   "execution_count": 35,
   "metadata": {},
   "outputs": [
    {
     "output_type": "stream",
     "name": "stdout",
     "text": [
      "1.0 * a^{r\\beta}a_{a\\beta}\n + 1.0 * a^{r\\alpha}a_{a\\alpha}\n"
     ]
    }
   ],
   "source": [
    "print(wickExpand(testOperator))"
   ]
  },
  {
   "cell_type": "code",
   "execution_count": 36,
   "metadata": {},
   "outputs": [],
   "source": [
    "testOperator1 = spinFreeExcitation([sI], [bI])"
   ]
  },
  {
   "cell_type": "code",
   "execution_count": 37,
   "metadata": {},
   "outputs": [
    {
     "output_type": "stream",
     "name": "stdout",
     "text": [
      "1.0 * a_{r\\beta}a^{a\\beta}a^{s\\beta}a_{b\\beta}\n + 1.0 * a_{r\\alpha}a^{a\\alpha}a^{s\\beta}a_{b\\beta}\n + 1.0 * a_{r\\beta}a^{a\\beta}a^{s\\alpha}a_{b\\alpha}\n + 1.0 * a_{r\\alpha}a^{a\\alpha}a^{s\\alpha}a_{b\\alpha}\n"
     ]
    }
   ],
   "source": [
    "print(testOperator.conjugate() * testOperator1)"
   ]
  },
  {
   "cell_type": "code",
   "execution_count": 38,
   "metadata": {},
   "outputs": [
    {
     "output_type": "stream",
     "name": "stdout",
     "text": [
      "1.0 * a^{s\\beta}a_{b\\beta}a_{r\\beta}a^{a\\beta}\n + 1.0 * a_{b\\beta}a^{a\\beta}\\delta^{s}_{r}\n + 1.0 * a^{s\\beta}a_{r\\beta}\\delta^{a}_{b}\n + -2.0 * \\delta^{s}_{r}\\delta^{a}_{b}\n + 1.0 * a^{s\\beta}a_{b\\beta}a_{r\\alpha}a^{a\\alpha}\n + 1.0 * a^{s\\alpha}a_{b\\alpha}a_{r\\beta}a^{a\\beta}\n + 1.0 * a^{s\\alpha}a_{b\\alpha}a_{r\\alpha}a^{a\\alpha}\n + 1.0 * a_{b\\alpha}a^{a\\alpha}\\delta^{s}_{r}\n + 1.0 * a^{s\\alpha}a_{r\\alpha}\\delta^{a}_{b}\n"
     ]
    }
   ],
   "source": [
    "print(wickExpand(testOperator.conjugate() * testOperator1))"
   ]
  },
  {
   "cell_type": "code",
   "execution_count": 39,
   "metadata": {},
   "outputs": [],
   "source": [
    "def canContract(o1, o2):\n",
    "    if o1.quasi_cre_ann:\n",
    "        return 0\n",
    "    elif o2.quasi_cre_ann and (o1.spin == o2.spin):\n",
    "        return int(o1.index.occupiedInVacuum == o2.index.occupiedInVacuum)\n",
    "    else:\n",
    "        return 0"
   ]
  },
  {
   "cell_type": "code",
   "execution_count": 40,
   "metadata": {},
   "outputs": [],
   "source": [
    "def recursiveFullContraction(operatorProduct_, speedup=False):\n",
    "#    if isinstance(operatorProduct_, Number):\n",
    "#        return operatorProduct_\n",
    "    operatorList_ = operatorProduct_.operatorList\n",
    "    if speedup:\n",
    "        if not sum(o.quasi_cre_ann for o in operatorList_) == sum(not o.quasi_cre_ann for o in operatorList_):\n",
    "            return 0\n",
    "    existingContractions = operatorProduct_.contractionsList\n",
    "    if len(operatorList_) == 0:\n",
    "        return operatorProduct_\n",
    "    elif len(operatorList_) == 2:\n",
    "        if canContract(operatorList_[0], operatorList_[1]):\n",
    "            contractionTuple = tuple()\n",
    "            if operatorList_[0].creation_annihilation:\n",
    "                contractionTuple = (operatorList_[0].index, operatorList_[1].index)\n",
    "            else:\n",
    "                contractionTuple = (operatorList_[1].index, operatorList_[0].index)\n",
    "            return operatorProduct([], operatorProduct_.prefactor, existingContractions + [contractionTuple])\n",
    "        else:\n",
    "            return operatorProduct([], 0., [])\n",
    "    elif len(operatorList_) % 2 == 0:\n",
    "        result = 0\n",
    "        for i in range(1, len(operatorList_) - 1):\n",
    "            if canContract(operatorList_[0], operatorList_[i]):\n",
    "                contractionTuple = tuple()\n",
    "                if operatorList_[0].creation_annihilation:\n",
    "                    contractionTuple = (operatorList_[0].index, operatorList_[i].index)\n",
    "                else:\n",
    "                    contractionTuple = (operatorList_[i].index, operatorList_[0].index)\n",
    "                result += pow(-1, i-1) * recursiveFullContraction(operatorProduct(operatorList_[1:i] + operatorList_[i+1:], operatorProduct_.prefactor, existingContractions + [contractionTuple]))\n",
    "        if canContract(operatorList_[0], operatorList_[-1]):\n",
    "            contractionTuple = tuple()\n",
    "            if operatorList_[0].creation_annihilation:\n",
    "                contractionTuple = (operatorList_[0].index, operatorList_[-1].index)\n",
    "            else:\n",
    "                contractionTuple = (operatorList_[-1].index, operatorList_[0].index)\n",
    "            result += recursiveFullContraction(operatorProduct(operatorList_[1:-1], operatorProduct_.prefactor, existingContractions + [contractionTuple]))\n",
    "        return result\n",
    "    else:\n",
    "        return 0"
   ]
  },
  {
   "cell_type": "code",
   "execution_count": 41,
   "metadata": {},
   "outputs": [
    {
     "output_type": "stream",
     "name": "stdout",
     "text": [
      "1.0 * a_{r\\beta}a^{a\\beta}a^{s\\beta}a_{b\\beta}\n"
     ]
    }
   ],
   "source": [
    "print((testOperator.conjugate() * testOperator1).summandList[0])"
   ]
  },
  {
   "cell_type": "code",
   "execution_count": 42,
   "metadata": {},
   "outputs": [
    {
     "output_type": "stream",
     "name": "stdout",
     "text": [
      "-1.0 * \\delta^{s}_{r}\\delta^{a}_{b}\n"
     ]
    }
   ],
   "source": [
    "print(recursiveFullContraction((testOperator.conjugate() * testOperator1).summandList[0]))"
   ]
  },
  {
   "cell_type": "code",
   "execution_count": 43,
   "metadata": {},
   "outputs": [],
   "source": [
    "def recursiveVacuumExpectationValue(operator, speedup=False, printing=False):\n",
    "    if isinstance(operator, operatorProduct):\n",
    "        return recursiveFullContraction(operator, speedup)\n",
    "    elif isinstance(operator, operatorSum):\n",
    "        result = operatorSum([])\n",
    "        for product in operator.summandList:\n",
    "            term = recursiveFullContraction(product, speedup)\n",
    "            if printing and term != 0.:\n",
    "                print(product)\n",
    "            result += term\n",
    "        return result\n",
    "    elif isinstance(operator, Number):\n",
    "        return operatorSum([operatorProduct([], operator)])\n",
    "    else:\n",
    "        return operatorSum([])"
   ]
  },
  {
   "cell_type": "code",
   "execution_count": 44,
   "metadata": {},
   "outputs": [
    {
     "output_type": "stream",
     "name": "stdout",
     "text": [
      "[(<__main__.Index object at 0x1177ffa30>, <__main__.Index object at 0x1177ffe20>), (<__main__.Index object at 0x1177f7820>, <__main__.Index object at 0x117801700>)]\n"
     ]
    }
   ],
   "source": [
    "print(vacuumExpectationValue(testOperator.conjugate() * testOperator1).summandList[0].contractionsList)"
   ]
  },
  {
   "cell_type": "code",
   "execution_count": 45,
   "metadata": {},
   "outputs": [],
   "source": [
    "class Tensor:\n",
    "    '''\n",
    "    Class for amplitude tensors of spin-free excitation operators\n",
    "    '''\n",
    "    def __init__(self, name, lowerIndexTypesList, upperIndexTypesList, array=None):\n",
    "        self.name = name\n",
    "        self.lowerIndexTypes = lowerIndexTypesList\n",
    "        self.upperIndexTypes = upperIndexTypesList\n",
    "        self.excitationRank = len(self.lowerIndexTypes)\n",
    "        self.array = np.zeros(self.getShape())\n",
    "        if array is not None:\n",
    "            self.setArray(array)\n",
    "\n",
    "    def getShape(self):\n",
    "        shapeList = []\n",
    "        for iType in self.lowerIndexTypes:\n",
    "            if iType == 'g':\n",
    "                shapeList.append(Norbs)\n",
    "            elif iType == 'p':\n",
    "                shapeList.append(Norbs - Nocc)\n",
    "            elif iType == 'h':\n",
    "                shapeList.append(Nocc)\n",
    "            else:\n",
    "                print('Orbital index type Error')\n",
    "        for iType in self.upperIndexTypes:\n",
    "            if iType == 'g':\n",
    "                shapeList.append(Norbs)\n",
    "            elif iType == 'p':\n",
    "                shapeList.append(Norbs - Nocc)\n",
    "            elif iType == 'h':\n",
    "                shapeList.append(Nocc)\n",
    "            else:\n",
    "                print('Orbital index type Error')\n",
    "        return tuple(shapeList)\n",
    "\n",
    "    def setArray(self, array):\n",
    "        if array.shape == self.array.shape:\n",
    "            self.array = array\n",
    "        else:\n",
    "            print(\"Array is of wrong shape\")\n",
    "\n",
    "    def getOperator(self):\n",
    "        return TensorProduct([self]).getOperator()\n",
    "#        operator = operatorSum([])\n",
    "#        it = np.nditer(self.array, flags=[\"multi_index\"])\n",
    "#        \n",
    "#        for i in it:\n",
    "#            indices = it.multi_index\n",
    "#            creationIndices = indices[:self.excitationRank]\n",
    "#            annihilationIndices = indices[self.excitationRank:]\n",
    "#            operator += i * spinFreeExcitation(creationIndices, annihilationIndices)\n",
    "#        return operator\n",
    "\n",
    "    def getDiagrams(self):\n",
    "        diagrams = []\n",
    "        lowerGeneralIndexCount = sum(i == 'g' for i in self.lowerIndexTypes)\n",
    "        lowerSplits = list(itertools.combinations_with_replacement(['h', 'p'], lowerGeneralIndexCount))\n",
    "        upperGeneralIndexCount = sum(i == 'g' for i in self.upperIndexTypes)\n",
    "        upperSplits = list(itertools.combinations_with_replacement(['h', 'p'], upperGeneralIndexCount))\n",
    "        for lowerSplit in lowerSplits:\n",
    "            lowerSlices = [slice(None)] * self.excitationRank\n",
    "            lowerSplitIndexTypes = list(lowerSplit)\n",
    "            lGI = 0\n",
    "            newLowerIndexTypes = copy.copy(self.lowerIndexTypes)\n",
    "            for lI in range(len(newLowerIndexTypes)):\n",
    "                if newLowerIndexTypes[lI] == 'g':\n",
    "                    newLI = lowerSplitIndexTypes[lGI]\n",
    "                    if newLI == 'h':\n",
    "                        lowerSlices[lI] = slice(None,Nocc)\n",
    "                    elif newLI == 'p':\n",
    "                        lowerSlices[lI] = slice(Nocc, None)\n",
    "                    newLowerIndexTypes[lI] = newLI\n",
    "                    lGI += 1\n",
    "            for upperSplit in upperSplits:\n",
    "                upperSlices = [slice(None)] * self.excitationRank\n",
    "                upperSplitIndexTypes = list(upperSplit)\n",
    "                uGI = 0\n",
    "                newUpperIndexTypes = copy.copy(self.upperIndexTypes)\n",
    "                for uI in range(len(newUpperIndexTypes)):\n",
    "                    if newUpperIndexTypes[uI] == 'g':\n",
    "                        newUI = upperSplitIndexTypes[uGI]\n",
    "                        if newUI == 'h':\n",
    "                            upperSlices[uI] = slice(None,Nocc)\n",
    "                        elif newUI == 'p':\n",
    "                            upperSlices[uI] = slice(Nocc, None)\n",
    "                        newUpperIndexTypes[uI] = newUI\n",
    "                        uGI += 1\n",
    "                slices = lowerSlices + upperSlices\n",
    "                print(lowerSplitIndexTypes)\n",
    "                print(upperSplitIndexTypes)\n",
    "                print(newLowerIndexTypes)\n",
    "                print(newUpperIndexTypes)\n",
    "                print(slices)\n",
    "                diagram = Tensor(self.name, newLowerIndexTypes, newUpperIndexTypes, self.array[slices])\n",
    "                diagrams.append(diagram)\n",
    "        return diagrams\n",
    "\n",
    "    def __add__(self, other):\n",
    "        if isinstance(other, Tensor):\n",
    "            return TensorSum([TensorProduct([self]), TensorProduct([other])])\n",
    "        elif other == 0:\n",
    "            return self\n",
    "        else:\n",
    "            return NotImplemented\n",
    "\n",
    "    def __radd__(self, other):\n",
    "        if other == 0:\n",
    "            return self\n",
    "        else:\n",
    "            return NotImplemented\n",
    "\n",
    "    def __mul__(self, other):\n",
    "        if isinstance(other, Tensor):\n",
    "            return TensorProduct([self, other])\n",
    "        elif isinstance(other, Number):\n",
    "            return TensorProduct([self], other)\n",
    "        else:\n",
    "            return NotImplemented\n",
    "\n",
    "    def __rmul__(self, other):\n",
    "        if isinstance(other, Number):\n",
    "            return TensorProduct([self], other)\n",
    "        else:\n",
    "            return NotImplemented\n",
    "\n",
    "    def __str__(self):\n",
    "        string = self.name + \"_{\"\n",
    "        for p in self.lowerIndexTypes:\n",
    "            string += p.__str__()\n",
    "        string += \"}^{\"\n",
    "        for q in self.upperIndexTypes:\n",
    "            string += q.__str__()\n",
    "        string += \"}\"\n",
    "        return string"
   ]
  },
  {
   "cell_type": "code",
   "execution_count": 46,
   "metadata": {},
   "outputs": [],
   "source": [
    "class Vertex:\n",
    "    '''\n",
    "    Class for amplitude tensors of spin-free excitation operators\n",
    "    '''\n",
    "    def __init__(self, tensor, lowerIndicesList, upperIndicesList):\n",
    "        self.name = tensor.name\n",
    "        self.tensor = tensor\n",
    "        self.lowerIndices = lowerIndicesList\n",
    "        self.upperIndices = upperIndicesList\n",
    "        self.excitationRank = len(self.lowerIndices)\n",
    "\n",
    "    def applyContraction(self, contraction):\n",
    "        for lowerIndex in self.lowerIndices:\n",
    "            if lowerIndex == contraction[0]:\n",
    "                lowerIndex = contraction[1]\n",
    "\n",
    "    def getOperator(self):\n",
    "        return spinFreeExcitation(self.lowerIndices, self.upperIndices)\n",
    "\n",
    "    def __str__(self):\n",
    "        string = self.name + \"_{\"\n",
    "        for p in self.lowerIndices:\n",
    "            string += p.__str__()\n",
    "        string += \"}^{\"\n",
    "        for q in self.upperIndices:\n",
    "            string += q.__str__()\n",
    "        string += \"}\"\n",
    "        return string"
   ]
  },
  {
   "cell_type": "code",
   "execution_count": 47,
   "metadata": {},
   "outputs": [],
   "source": [
    "class TensorProduct:\n",
    "    def __init__(self, tensorList, prefactor=1.):\n",
    "        self.tensorList = tensorList\n",
    "        self.lowerIndices = {'g':[], 'p':[], 'h':[], 'a':[]}\n",
    "        self.upperIndices = {'g':[], 'p':[], 'h':[], 'a':[]}\n",
    "        self.vertexList = self.getVertexList(tensorList)\n",
    "        self.prefactor = prefactor\n",
    "\n",
    "    def applyContraction(self, contraction):\n",
    "        for vertex in self.vertexList:\n",
    "            vertex.applyContraction(contraction)\n",
    "        for orbitalType in self.lowerIndices:\n",
    "            if contraction[0] in self.lowerIndices[orbitalType]:\n",
    "                self.lowerIndices[orbitalType].remove(contraction[0])\n",
    "\n",
    "    def addNewIndex(self, orbitalType, lowerBool):\n",
    "        count = len(self.lowerIndices[orbitalType]) + len(self.upperIndices[orbitalType])\n",
    "        newIndexName = orbitalType + \"_{\" + str(count) + \"}\"\n",
    "        occupiedInVacuum = None\n",
    "        if orbitalType == \"h\" or orbitalType == \"a\":\n",
    "            occupiedInVacuum = True\n",
    "        elif orbitalType == \"p\":\n",
    "            occupiedInVacuum = False\n",
    "        newIndex = Index(newIndexName, occupiedInVacuum)\n",
    "        if lowerBool:\n",
    "            self.lowerIndices[orbitalType].append(newIndex)\n",
    "        else:\n",
    "            self.upperIndices[orbitalType].append(newIndex)\n",
    "        return newIndex\n",
    "\n",
    "    def getVertexList(self, tensorList_):\n",
    "        vertexList = []\n",
    "        for t in tensorList_:\n",
    "            lowerIndexList = []\n",
    "            for i in t.lowerIndexTypes:\n",
    "                lowerIndexList.append(self.addNewIndex(i, True))\n",
    "            upperIndexList = []\n",
    "            for i in t.upperIndexTypes:\n",
    "                upperIndexList.append(self.addNewIndex(i, False))\n",
    "            vertexList.append(Vertex(t, lowerIndexList, upperIndexList))\n",
    "        return vertexList\n",
    "\n",
    "    def getOperator(self):\n",
    "        operator = 1\n",
    "        for vertex in self.vertexList:\n",
    "            operator = operator * vertex.getOperator()\n",
    "        return operator\n",
    "\n",
    "    def getVacuumExpectationValue(self):\n",
    "        return vacuumExpectationValue(self.getOperator())\n",
    "\n",
    "    def __add__(self, other):\n",
    "        if isinstance(other, TensorProduct):\n",
    "            return TensorSum([self, other])\n",
    "        elif isinstance(other, Tensor):\n",
    "            return TensorSum([self, TensorProduct([other])])\n",
    "        else:\n",
    "            return NotImplemented\n",
    "\n",
    "    def __radd__(self, other):\n",
    "        if isinstance(other, Tensor):\n",
    "            return TensorSum([TensorProduct([other]), self])\n",
    "        elif other == 0:\n",
    "            return self\n",
    "        else:\n",
    "            return NotImplemented\n",
    "\n",
    "    def __mul__(self, other):\n",
    "        if isinstance(other, Tensor):\n",
    "            return TensorProduct(self.tensorList + [other], self.prefactor)\n",
    "        elif isinstance(other, TensorProduct):\n",
    "            return TensorProduct(self.tensorList + other.tensorList, self.prefactor * other.prefactor)\n",
    "        elif isinstance(other, Number):\n",
    "            return TensorProduct(self.tensorList, self.prefactor * other)\n",
    "        else:\n",
    "            return NotImplemented\n",
    "\n",
    "    def __rmul__(self, other):\n",
    "        if isinstance(other, Tensor):\n",
    "            return TensorProduct([other] + self.tensorList, self.prefactor)\n",
    "        elif isinstance(other, Number):\n",
    "            return TensorProduct(self.tensorList, other * self.prefactor)\n",
    "        else:\n",
    "            return NotImplemented\n",
    "\n",
    "    def __str__(self):\n",
    "        string = str(self.prefactor)\n",
    "        if(len(self.vertexList) > 0):\n",
    "            string = string + \" * \"\n",
    "        for v in self.vertexList:\n",
    "            string += v.__str__()\n",
    "        return string"
   ]
  },
  {
   "cell_type": "code",
   "execution_count": 48,
   "metadata": {},
   "outputs": [],
   "source": [
    "class TensorSum:\n",
    "    def __init__(self, summandList):\n",
    "        self.summandList = summandList\n",
    "\n",
    "    def getOperator(self):\n",
    "        operator = 0\n",
    "        for summand in self.summandList:\n",
    "            operator = operator + summand.getOperator()\n",
    "        return operator\n",
    "\n",
    "    def __add__(self, other):\n",
    "        if isinstance(other, TensorSum):\n",
    "            return TensorSum(self.summandList + other.summandList)\n",
    "        elif isinstance(other, TensorProduct):\n",
    "            return TensorSum(self.summandList + [other])\n",
    "        elif isinstance(other, Tensor):\n",
    "            return TensorSum(self.summandList + [TensorProduct([other])])\n",
    "        else:\n",
    "            return NotImplemented\n",
    "\n",
    "    def __radd__(self, other):\n",
    "        if isinstance(other, TensorProduct):\n",
    "            return TensorSum([other] + self.summandList)\n",
    "        elif isinstance(other, Tensor):\n",
    "            return TensorSum(self.summandList + [TensorProduct([other])])\n",
    "        elif other == 0:\n",
    "            return self\n",
    "        else:\n",
    "            return NotImplemented\n",
    "\n",
    "    def __mul__(self, other):\n",
    "        if isinstance(other, Tensor) or isinstance(other, TensorProduct) or isinstance(other, TensorSum) or isinstance(other, Number):\n",
    "            return TensorSum([summand * other for summand in self.summandList])\n",
    "\n",
    "    def __rmul__(self, other):\n",
    "        if isinstance(other, Tensor) or isinstance(other, TensorProduct) or isinstance(other, TensorSum) or isinstance(other, Number):\n",
    "            return TensorSum([other * summand for summand in self.summandList])\n",
    "\n",
    "    def __str__(self):\n",
    "        if len(self.summandList) == 0:\n",
    "            return \"\"\n",
    "        string = self.summandList[0].__str__()\n",
    "        for summand in self.summandList[1:]:\n",
    "            string += \"\\n + \"\n",
    "            string += summand.__str__()\n",
    "        return string"
   ]
  },
  {
   "cell_type": "code",
   "execution_count": 49,
   "metadata": {},
   "outputs": [],
   "source": [
    "fDiagrams = [Tensor('f', ['p'], ['p']), Tensor('f', ['p'], ['h']), Tensor('f', ['h'], ['p']), Tensor('f', ['h'], ['h'])]"
   ]
  },
  {
   "cell_type": "code",
   "execution_count": 50,
   "metadata": {},
   "outputs": [],
   "source": [
    "vDiagrams = [Tensor('v', ['p', 'p'], ['p', 'p']), Tensor('v', ['h', 'h'], ['h', 'h']), Tensor('v', ['h', 'p'], ['p', 'h']), Tensor('v', ['p', 'h'], ['p', 'p']), Tensor('v', ['h', 'h'], ['h', 'p']), Tensor('v', ['p', 'p'], ['p', 'h']), Tensor('v', ['h', 'p'], ['h', 'h']), Tensor('v', ['p', 'p'], ['h', 'h']), Tensor('v', ['h', 'h'], ['p', 'p'])]"
   ]
  },
  {
   "cell_type": "code",
   "execution_count": 51,
   "metadata": {},
   "outputs": [],
   "source": [
    "t1 = Tensor('t1', ['p'], ['h'])\n",
    "t2 = Tensor('t2', ['p', 'p'], ['h', 'h'])"
   ]
  },
  {
   "cell_type": "code",
   "execution_count": 52,
   "metadata": {},
   "outputs": [],
   "source": [
    "term = vDiagrams[8] * t2\n",
    "#print(term, vacuumExpectationValue(term.getOperator()))"
   ]
  },
  {
   "cell_type": "code",
   "execution_count": 53,
   "metadata": {},
   "outputs": [],
   "source": [
    "fullContractions = vacuumExpectationValue(term.getOperator())"
   ]
  },
  {
   "cell_type": "code",
   "execution_count": 54,
   "metadata": {},
   "outputs": [],
   "source": [
    "recursiveFullContractions = recursiveVacuumExpectationValue(term.getOperator())"
   ]
  },
  {
   "cell_type": "code",
   "execution_count": 55,
   "metadata": {},
   "outputs": [
    {
     "output_type": "stream",
     "name": "stdout",
     "text": [
      "4.0 * \\delta^{h_{0}}_{h_{2}}\\delta^{h_{1}}_{h_{3}}\\delta^{p_{2}}_{p_{0}}\\delta^{p_{3}}_{p_{1}}\n-2.0 * \\delta^{h_{0}}_{h_{2}}\\delta^{h_{1}}_{h_{3}}\\delta^{p_{3}}_{p_{0}}\\delta^{p_{2}}_{p_{1}}\n-2.0 * \\delta^{h_{0}}_{h_{3}}\\delta^{h_{1}}_{h_{2}}\\delta^{p_{2}}_{p_{0}}\\delta^{p_{3}}_{p_{1}}\n4.0 * \\delta^{h_{0}}_{h_{3}}\\delta^{h_{1}}_{h_{2}}\\delta^{p_{3}}_{p_{0}}\\delta^{p_{2}}_{p_{1}}\n"
     ]
    }
   ],
   "source": [
    "for fC in fullContractions.summandList:\n",
    "    print(fC)"
   ]
  },
  {
   "cell_type": "code",
   "execution_count": 56,
   "metadata": {},
   "outputs": [
    {
     "output_type": "stream",
     "name": "stdout",
     "text": [
      "4.0 * \\delta^{h_{0}}_{h_{2}}\\delta^{h_{1}}_{h_{3}}\\delta^{p_{2}}_{p_{0}}\\delta^{p_{3}}_{p_{1}}\n + -2.0 * \\delta^{h_{0}}_{h_{2}}\\delta^{h_{1}}_{h_{3}}\\delta^{p_{3}}_{p_{0}}\\delta^{p_{2}}_{p_{1}}\n + -2.0 * \\delta^{h_{0}}_{h_{3}}\\delta^{h_{1}}_{h_{2}}\\delta^{p_{2}}_{p_{0}}\\delta^{p_{3}}_{p_{1}}\n + 4.0 * \\delta^{h_{0}}_{h_{3}}\\delta^{h_{1}}_{h_{2}}\\delta^{p_{3}}_{p_{0}}\\delta^{p_{2}}_{p_{1}}\n"
     ]
    }
   ],
   "source": [
    "print(fullContractions)"
   ]
  },
  {
   "cell_type": "code",
   "execution_count": 57,
   "metadata": {},
   "outputs": [
    {
     "output_type": "stream",
     "name": "stdout",
     "text": [
      "4.0 * \\delta^{h_{0}}_{h_{2}}\\delta^{h_{1}}_{h_{3}}\\delta^{p_{2}}_{p_{0}}\\delta^{p_{3}}_{p_{1}}\n + -2.0 * \\delta^{h_{0}}_{h_{2}}\\delta^{h_{1}}_{h_{3}}\\delta^{p_{3}}_{p_{0}}\\delta^{p_{2}}_{p_{1}}\n + -2.0 * \\delta^{h_{0}}_{h_{3}}\\delta^{h_{1}}_{h_{2}}\\delta^{p_{2}}_{p_{0}}\\delta^{p_{3}}_{p_{1}}\n + 4.0 * \\delta^{h_{0}}_{h_{3}}\\delta^{h_{1}}_{h_{2}}\\delta^{p_{3}}_{p_{0}}\\delta^{p_{2}}_{p_{1}}\n"
     ]
    }
   ],
   "source": [
    "print(recursiveFullContractions)"
   ]
  },
  {
   "cell_type": "code",
   "execution_count": 58,
   "metadata": {},
   "outputs": [
    {
     "output_type": "stream",
     "name": "stdout",
     "text": [
      "1.0 * v_{h_{0}h_{1}}^{p_{0}p_{1}}t2_{p_{2}p_{3}}^{h_{2}h_{3}}\n"
     ]
    }
   ],
   "source": [
    "print(term)"
   ]
  },
  {
   "cell_type": "code",
   "execution_count": 59,
   "metadata": {},
   "outputs": [],
   "source": [
    "contractedTerm = deepcopy(term)"
   ]
  },
  {
   "cell_type": "code",
   "execution_count": 60,
   "metadata": {},
   "outputs": [],
   "source": [
    "top = recursiveFullContractions.summandList[0]"
   ]
  },
  {
   "cell_type": "code",
   "execution_count": 61,
   "metadata": {},
   "outputs": [
    {
     "output_type": "stream",
     "name": "stdout",
     "text": [
      "4.0 * \\delta^{h_{0}}_{h_{2}}\\delta^{h_{1}}_{h_{3}}\\delta^{p_{2}}_{p_{0}}\\delta^{p_{3}}_{p_{1}}\n"
     ]
    }
   ],
   "source": [
    "print(top)"
   ]
  },
  {
   "cell_type": "code",
   "execution_count": 62,
   "metadata": {},
   "outputs": [
    {
     "output_type": "stream",
     "name": "stdout",
     "text": [
      "v_{h_{0}h_{1}}^{p_{0}p_{1}}\nh_{0}\nh_{0} h_{2}\nh_{1} h_{3}\np_{2} p_{0}\np_{3} p_{1}\nh_{1}\nh_{0} h_{2}\nh_{1} h_{3}\np_{2} p_{0}\np_{3} p_{1}\nt2_{p_{2}p_{3}}^{h_{2}h_{3}}\np_{2}\nh_{0} h_{2}\nh_{1} h_{3}\np_{2} p_{0}\np_{3} p_{1}\np_{3}\nh_{0} h_{2}\nh_{1} h_{3}\np_{2} p_{0}\np_{3} p_{1}\n"
     ]
    }
   ],
   "source": [
    "#contractedTerm.prefactor *= top.prefactor\n",
    "for v, vertex in enumerate(term.vertexList):\n",
    "    print(vertex)\n",
    "    for i, index in enumerate(vertex.lowerIndices):\n",
    "        print(index)\n",
    "        for c, contraction in enumerate(top.contractionsList):\n",
    "            print(contraction[0], contraction[1])\n",
    "            if term.vertexList[v].lowerIndices[i] == top.contractionsList[c][0]:\n",
    "                contractedTerm.vertexList[v].lowerIndices[i] = top.contractionsList[c][1]"
   ]
  },
  {
   "cell_type": "code",
   "execution_count": 63,
   "metadata": {},
   "outputs": [
    {
     "output_type": "stream",
     "name": "stdout",
     "text": [
      "1.0 * v_{h_{2}h_{3}}^{p_{0}p_{1}}t2_{p_{0}p_{1}}^{h_{2}h_{3}}\n"
     ]
    }
   ],
   "source": [
    "print(contractedTerm)"
   ]
  },
  {
   "cell_type": "code",
   "execution_count": 64,
   "metadata": {},
   "outputs": [],
   "source": [
    "contractedTerm = top.prefactor * contractedTerm"
   ]
  },
  {
   "cell_type": "code",
   "execution_count": 65,
   "metadata": {},
   "outputs": [
    {
     "output_type": "stream",
     "name": "stdout",
     "text": [
      "h_{0} h_{2}\nh_{1} h_{3}\np_{2} p_{0}\np_{3} p_{1}\n"
     ]
    }
   ],
   "source": [
    "for c, contraction in enumerate(top.contractionsList):\n",
    "    print(contraction[0], contraction[1])\n",
    "    contractedTerm.applyContraction(contraction)"
   ]
  },
  {
   "cell_type": "code",
   "execution_count": 66,
   "metadata": {},
   "outputs": [
    {
     "output_type": "stream",
     "name": "stdout",
     "text": [
      "h_{0}\n"
     ]
    }
   ],
   "source": [
    "print(top.contractionsList[0][0])"
   ]
  },
  {
   "cell_type": "code",
   "execution_count": 67,
   "metadata": {},
   "outputs": [
    {
     "output_type": "stream",
     "name": "stdout",
     "text": [
      "True\n"
     ]
    }
   ],
   "source": [
    "print(term.vertexList[0].lowerIndices[0] == top.contractionsList[0][0])"
   ]
  },
  {
   "cell_type": "code",
   "execution_count": 68,
   "metadata": {},
   "outputs": [],
   "source": [
    "contractedTerm.vertexList[0].lowerIndices[0] = top.contractionsList[0][1]"
   ]
  },
  {
   "cell_type": "code",
   "execution_count": 69,
   "metadata": {},
   "outputs": [
    {
     "output_type": "stream",
     "name": "stdout",
     "text": [
      "h_{2}\n"
     ]
    }
   ],
   "source": [
    "print(contractedTerm.vertexList[0].lowerIndices[0])"
   ]
  },
  {
   "cell_type": "code",
   "execution_count": 70,
   "metadata": {},
   "outputs": [
    {
     "output_type": "stream",
     "name": "stdout",
     "text": [
      "4.0 * v_{h_{2}h_{1}}^{p_{0}p_{1}}t2_{p_{2}p_{3}}^{h_{2}h_{3}}\n"
     ]
    }
   ],
   "source": [
    "print(contractedTerm)"
   ]
  },
  {
   "cell_type": "code",
   "execution_count": 71,
   "metadata": {},
   "outputs": [],
   "source": [
    "contractionsList = fullContractions.summandList[0].contractionsList"
   ]
  },
  {
   "cell_type": "code",
   "execution_count": 72,
   "metadata": {},
   "outputs": [
    {
     "output_type": "execute_result",
     "data": {
      "text/plain": [
       "4.0"
      ]
     },
     "metadata": {},
     "execution_count": 72
    }
   ],
   "source": [
    "fullContractions.summandList[0].prefactor"
   ]
  },
  {
   "cell_type": "code",
   "execution_count": 73,
   "metadata": {},
   "outputs": [],
   "source": [
    "contractedTerm = deepcopy(term) * 4"
   ]
  },
  {
   "cell_type": "code",
   "execution_count": 74,
   "metadata": {},
   "outputs": [
    {
     "output_type": "execute_result",
     "data": {
      "text/plain": [
       "[<__main__.Index at 0x1094faa30>, <__main__.Index at 0x1178577c0>]"
      ]
     },
     "metadata": {},
     "execution_count": 74
    }
   ],
   "source": [
    "contractedTerm.vertexList[0].lowerIndices"
   ]
  },
  {
   "cell_type": "code",
   "execution_count": 75,
   "metadata": {},
   "outputs": [
    {
     "output_type": "stream",
     "name": "stdout",
     "text": [
      "1.0 * v_{h_{0}h_{1}}^{p_{0}p_{1}}t2_{p_{2}p_{3}}^{h_{2}h_{3}}\n"
     ]
    }
   ],
   "source": [
    "print(term)"
   ]
  },
  {
   "cell_type": "code",
   "execution_count": 76,
   "metadata": {},
   "outputs": [
    {
     "output_type": "execute_result",
     "data": {
      "text/plain": [
       "1.0"
      ]
     },
     "metadata": {},
     "execution_count": 76
    }
   ],
   "source": [
    "term.prefactor"
   ]
  },
  {
   "cell_type": "code",
   "execution_count": 77,
   "metadata": {},
   "outputs": [],
   "source": [
    "term = term * 4"
   ]
  },
  {
   "cell_type": "code",
   "execution_count": 78,
   "metadata": {},
   "outputs": [
    {
     "output_type": "stream",
     "name": "stdout",
     "text": [
      "h_{0} h_{2}\nh_{1} h_{3}\np_{2} p_{0}\np_{3} p_{1}\nh_{0} h_{2}\nh_{1} h_{3}\np_{2} p_{0}\np_{3} p_{1}\nh_{0} h_{2}\nh_{1} h_{3}\np_{2} p_{0}\np_{3} p_{1}\nh_{0} h_{2}\nh_{1} h_{3}\np_{2} p_{0}\np_{3} p_{1}\n"
     ]
    }
   ],
   "source": [
    "for vertex in contractedTerm.vertexList:\n",
    "    for i in range(len(vertex.lowerIndices)):\n",
    "        for contraction in contractionsList:\n",
    "            print(contraction[0], contraction[1])\n",
    "            if vertex.lowerIndices[i] == contraction[0]:\n",
    "                vertex.lowerIndices[i] = contraction[1]"
   ]
  },
  {
   "cell_type": "code",
   "execution_count": null,
   "metadata": {},
   "outputs": [],
   "source": []
  },
  {
   "cell_type": "code",
   "execution_count": 79,
   "metadata": {},
   "outputs": [
    {
     "output_type": "stream",
     "name": "stdout",
     "text": [
      "4.0 * v_{h_{2}h_{3}}^{p_{0}p_{1}}t2_{p_{0}p_{1}}^{h_{2}h_{3}}\n"
     ]
    }
   ],
   "source": [
    "print(contractedTerm)"
   ]
  },
  {
   "cell_type": "code",
   "execution_count": 80,
   "metadata": {},
   "outputs": [],
   "source": [
    "del contractedTerm"
   ]
  },
  {
   "cell_type": "code",
   "execution_count": 81,
   "metadata": {},
   "outputs": [],
   "source": [
    "def evaluateWick(term):\n",
    "    '''\n",
    "    Wick's theorem applied to a term\n",
    "\n",
    "    input: term (TensorProduct)\n",
    "    output: sum of fully contracted terms (TensorSum)\n",
    "    '''\n",
    "    if isinstance(term, TensorSum):\n",
    "        return sum([evaluateWick(summand) for summand in term.summandList])\n",
    "    summandList = []\n",
    "    fullContractions = recursiveVacuumExpectationValue(term.getOperator(), speedup=True)\n",
    "    for topology in fullContractions.summandList:\n",
    "        contractionsList = topology.contractionsList\n",
    "        prefactor = topology.prefactor\n",
    "        contractedTerm = deepcopy(term)\n",
    "        contractedTerm.prefactor *= topology.prefactor\n",
    "        for v, vertex in enumerate(term.vertexList):\n",
    "            for i, index in enumerate(vertex.lowerIndices):\n",
    "                for c, contraction in enumerate(topology.contractionsList):\n",
    "                    if index == contraction[0]:\n",
    "                        contractedTerm.vertexList[v].lowerIndices[i] = contraction[1]\n",
    "        summandList.append(contractedTerm)\n",
    "    return TensorSum(summandList)\n"
   ]
  },
  {
   "cell_type": "code",
   "execution_count": 82,
   "metadata": {},
   "outputs": [],
   "source": [
    "CCDEnergyTerms = sum([0.5 * d * t2 for d in vDiagrams])"
   ]
  },
  {
   "cell_type": "code",
   "execution_count": 83,
   "metadata": {},
   "outputs": [],
   "source": [
    "contractions = recursiveVacuumExpectationValue((vDiagrams[8] * t2).getOperator())"
   ]
  },
  {
   "cell_type": "code",
   "execution_count": 84,
   "metadata": {},
   "outputs": [
    {
     "output_type": "stream",
     "name": "stdout",
     "text": [
      "-2.0 * \\delta^{h_{0}}_{h_{2}}\\delta^{h_{1}}_{h_{3}}\\delta^{p_{3}}_{p_{0}}\\delta^{p_{2}}_{p_{1}}\n"
     ]
    }
   ],
   "source": [
    "print(contractions.summandList[1])"
   ]
  },
  {
   "cell_type": "code",
   "execution_count": null,
   "metadata": {},
   "outputs": [],
   "source": []
  },
  {
   "cell_type": "code",
   "execution_count": 85,
   "metadata": {},
   "outputs": [],
   "source": [
    "CCDEnergy = evaluateWick(CCDEnergyTerms)"
   ]
  },
  {
   "cell_type": "code",
   "execution_count": null,
   "metadata": {},
   "outputs": [],
   "source": []
  },
  {
   "cell_type": "code",
   "execution_count": 86,
   "metadata": {},
   "outputs": [
    {
     "output_type": "stream",
     "name": "stdout",
     "text": [
      "4.0 * \\delta^{h_{0}}_{h_{2}}\\delta^{h_{1}}_{h_{3}}\\delta^{p_{2}}_{p_{0}}\\delta^{p_{3}}_{p_{1}}\n + -2.0 * \\delta^{h_{0}}_{h_{2}}\\delta^{h_{1}}_{h_{3}}\\delta^{p_{3}}_{p_{0}}\\delta^{p_{2}}_{p_{1}}\n + -2.0 * \\delta^{h_{0}}_{h_{3}}\\delta^{h_{1}}_{h_{2}}\\delta^{p_{2}}_{p_{0}}\\delta^{p_{3}}_{p_{1}}\n + 4.0 * \\delta^{h_{0}}_{h_{3}}\\delta^{h_{1}}_{h_{2}}\\delta^{p_{3}}_{p_{0}}\\delta^{p_{2}}_{p_{1}}\n"
     ]
    }
   ],
   "source": [
    "print(recursiveVacuumExpectationValue(CCDEnergyTerms.getOperator()))"
   ]
  },
  {
   "cell_type": "code",
   "execution_count": 87,
   "metadata": {},
   "outputs": [
    {
     "output_type": "stream",
     "name": "stdout",
     "text": [
      "2.0 * v_{h_{2}h_{3}}^{p_{0}p_{1}}t2_{p_{0}p_{1}}^{h_{2}h_{3}}\n + -1.0 * v_{h_{2}h_{3}}^{p_{0}p_{1}}t2_{p_{1}p_{0}}^{h_{2}h_{3}}\n + -1.0 * v_{h_{3}h_{2}}^{p_{0}p_{1}}t2_{p_{0}p_{1}}^{h_{2}h_{3}}\n + 2.0 * v_{h_{3}h_{2}}^{p_{0}p_{1}}t2_{p_{1}p_{0}}^{h_{2}h_{3}}\n"
     ]
    }
   ],
   "source": [
    "print(CCDEnergy)"
   ]
  },
  {
   "cell_type": "code",
   "execution_count": 88,
   "metadata": {},
   "outputs": [],
   "source": [
    "def commutator(operator1, operator2):\n",
    "    return operator1 * operator2 + (-1) * operator2 * operator1"
   ]
  },
  {
   "cell_type": "code",
   "execution_count": 89,
   "metadata": {},
   "outputs": [
    {
     "output_type": "stream",
     "name": "stdout",
     "text": [
      "1.0 * v_{h_{0}h_{1}}^{p_{0}p_{1}}t2_{p_{2}p_{3}}^{h_{2}h_{3}}t2_{p_{4}p_{5}}^{h_{4}h_{5}}\n + -1 * t2_{p_{0}p_{1}}^{h_{0}h_{1}}v_{h_{2}h_{3}}^{p_{2}p_{3}}t2_{p_{4}p_{5}}^{h_{4}h_{5}}\n + -1.0 * t2_{p_{0}p_{1}}^{h_{0}h_{1}}v_{h_{2}h_{3}}^{p_{2}p_{3}}t2_{p_{4}p_{5}}^{h_{4}h_{5}}\n + 1 * t2_{p_{0}p_{1}}^{h_{0}h_{1}}t2_{p_{2}p_{3}}^{h_{2}h_{3}}v_{h_{4}h_{5}}^{p_{4}p_{5}}\n"
     ]
    }
   ],
   "source": [
    "print(commutator(commutator(vDiagrams[8], t2), t2))"
   ]
  },
  {
   "cell_type": "code",
   "execution_count": 90,
   "metadata": {},
   "outputs": [],
   "source": [
    "def BCHSimilarityTransform(H, T, order):\n",
    "    result = H\n",
    "    for k in range(order):\n",
    "        nestedCommutator = H\n",
    "        for i in range(k + 1):\n",
    "            nestedCommutator = commutator(nestedCommutator, T)\n",
    "        result += (1 / factorial(k + 1)) * nestedCommutator\n",
    "    return result"
   ]
  },
  {
   "cell_type": "code",
   "execution_count": 91,
   "metadata": {},
   "outputs": [
    {
     "output_type": "stream",
     "name": "stdout",
     "text": [
      "1.0 * v_{p_{0}p_{1}}^{p_{2}p_{3}}\n + 1.0 * v_{h_{0}h_{1}}^{h_{2}h_{3}}\n + 1.0 * v_{h_{0}p_{0}}^{p_{1}h_{1}}\n + 1.0 * v_{p_{0}h_{0}}^{p_{1}p_{2}}\n + 1.0 * v_{h_{0}h_{1}}^{h_{2}p_{0}}\n + 1.0 * v_{p_{0}p_{1}}^{p_{2}h_{0}}\n + 1.0 * v_{h_{0}p_{0}}^{h_{1}h_{2}}\n + 1.0 * v_{p_{0}p_{1}}^{h_{0}h_{1}}\n + 1.0 * v_{h_{0}h_{1}}^{p_{0}p_{1}}\n"
     ]
    }
   ],
   "source": [
    "print(sum(vDiagrams))"
   ]
  },
  {
   "cell_type": "code",
   "execution_count": 92,
   "metadata": {},
   "outputs": [],
   "source": [
    "transformH = sum([BCHSimilarityTransform(d, (1./4.) * t2, 4) for d in fDiagrams] + [BCHSimilarityTransform((1./2.) * d, (1./4.) * t2, 4) for d in vDiagrams])"
   ]
  },
  {
   "cell_type": "code",
   "execution_count": 93,
   "metadata": {
    "tags": [
     "outputPrepend"
    ]
   },
   "outputs": [
    {
     "output_type": "stream",
     "name": "stdout",
     "text": [
      "8020833333333e-05 * t2_{p_{0}p_{1}}^{h_{0}h_{1}}v_{h_{2}h_{3}}^{h_{4}p_{2}}t2_{p_{3}p_{4}}^{h_{5}h_{6}}t2_{p_{5}p_{6}}^{h_{7}h_{8}}t2_{p_{7}p_{8}}^{h_{9}h_{10}}\n + -8.138020833333333e-05 * t2_{p_{0}p_{1}}^{h_{0}h_{1}}v_{h_{2}h_{3}}^{h_{4}p_{2}}t2_{p_{3}p_{4}}^{h_{5}h_{6}}t2_{p_{5}p_{6}}^{h_{7}h_{8}}t2_{p_{7}p_{8}}^{h_{9}h_{10}}\n + 8.138020833333333e-05 * t2_{p_{0}p_{1}}^{h_{0}h_{1}}t2_{p_{2}p_{3}}^{h_{2}h_{3}}v_{h_{4}h_{5}}^{h_{6}p_{4}}t2_{p_{5}p_{6}}^{h_{7}h_{8}}t2_{p_{7}p_{8}}^{h_{9}h_{10}}\n + -8.138020833333333e-05 * t2_{p_{0}p_{1}}^{h_{0}h_{1}}v_{h_{2}h_{3}}^{h_{4}p_{2}}t2_{p_{3}p_{4}}^{h_{5}h_{6}}t2_{p_{5}p_{6}}^{h_{7}h_{8}}t2_{p_{7}p_{8}}^{h_{9}h_{10}}\n + 8.138020833333333e-05 * t2_{p_{0}p_{1}}^{h_{0}h_{1}}t2_{p_{2}p_{3}}^{h_{2}h_{3}}v_{h_{4}h_{5}}^{h_{6}p_{4}}t2_{p_{5}p_{6}}^{h_{7}h_{8}}t2_{p_{7}p_{8}}^{h_{9}h_{10}}\n + 8.138020833333333e-05 * t2_{p_{0}p_{1}}^{h_{0}h_{1}}t2_{p_{2}p_{3}}^{h_{2}h_{3}}v_{h_{4}h_{5}}^{h_{6}p_{4}}t2_{p_{5}p_{6}}^{h_{7}h_{8}}t2_{p_{7}p_{8}}^{h_{9}h_{10}}\n + -8.138020833333333e-05 * t2_{p_{0}p_{1}}^{h_{0}h_{1}}t2_{p_{2}p_{3}}^{h_{2}h_{3}}t2_{p_{4}p_{5}}^{h_{4}h_{5}}v_{h_{6}h_{7}}^{h_{8}p_{6}}t2_{p_{7}p_{8}}^{h_{9}h_{10}}\n + -8.138020833333333e-05 * t2_{p_{0}p_{1}}^{h_{0}h_{1}}v_{h_{2}h_{3}}^{h_{4}p_{2}}t2_{p_{3}p_{4}}^{h_{5}h_{6}}t2_{p_{5}p_{6}}^{h_{7}h_{8}}t2_{p_{7}p_{8}}^{h_{9}h_{10}}\n + 8.138020833333333e-05 * t2_{p_{0}p_{1}}^{h_{0}h_{1}}t2_{p_{2}p_{3}}^{h_{2}h_{3}}v_{h_{4}h_{5}}^{h_{6}p_{4}}t2_{p_{5}p_{6}}^{h_{7}h_{8}}t2_{p_{7}p_{8}}^{h_{9}h_{10}}\n + 8.138020833333333e-05 * t2_{p_{0}p_{1}}^{h_{0}h_{1}}t2_{p_{2}p_{3}}^{h_{2}h_{3}}v_{h_{4}h_{5}}^{h_{6}p_{4}}t2_{p_{5}p_{6}}^{h_{7}h_{8}}t2_{p_{7}p_{8}}^{h_{9}h_{10}}\n + -8.138020833333333e-05 * t2_{p_{0}p_{1}}^{h_{0}h_{1}}t2_{p_{2}p_{3}}^{h_{2}h_{3}}t2_{p_{4}p_{5}}^{h_{4}h_{5}}v_{h_{6}h_{7}}^{h_{8}p_{6}}t2_{p_{7}p_{8}}^{h_{9}h_{10}}\n + 8.138020833333333e-05 * t2_{p_{0}p_{1}}^{h_{0}h_{1}}t2_{p_{2}p_{3}}^{h_{2}h_{3}}v_{h_{4}h_{5}}^{h_{6}p_{4}}t2_{p_{5}p_{6}}^{h_{7}h_{8}}t2_{p_{7}p_{8}}^{h_{9}h_{10}}\n + -8.138020833333333e-05 * t2_{p_{0}p_{1}}^{h_{0}h_{1}}t2_{p_{2}p_{3}}^{h_{2}h_{3}}t2_{p_{4}p_{5}}^{h_{4}h_{5}}v_{h_{6}h_{7}}^{h_{8}p_{6}}t2_{p_{7}p_{8}}^{h_{9}h_{10}}\n + -8.138020833333333e-05 * t2_{p_{0}p_{1}}^{h_{0}h_{1}}t2_{p_{2}p_{3}}^{h_{2}h_{3}}t2_{p_{4}p_{5}}^{h_{4}h_{5}}v_{h_{6}h_{7}}^{h_{8}p_{6}}t2_{p_{7}p_{8}}^{h_{9}h_{10}}\n + 8.138020833333333e-05 * t2_{p_{0}p_{1}}^{h_{0}h_{1}}t2_{p_{2}p_{3}}^{h_{2}h_{3}}t2_{p_{4}p_{5}}^{h_{4}h_{5}}t2_{p_{6}p_{7}}^{h_{6}h_{7}}v_{h_{8}h_{9}}^{h_{10}p_{8}}\n + 0.5 * v_{p_{0}p_{1}}^{p_{2}h_{0}}\n + 0.125 * v_{p_{0}p_{1}}^{p_{2}h_{0}}t2_{p_{3}p_{4}}^{h_{1}h_{2}}\n + -0.125 * t2_{p_{0}p_{1}}^{h_{0}h_{1}}v_{p_{2}p_{3}}^{p_{4}h_{2}}\n + 0.015625 * v_{p_{0}p_{1}}^{p_{2}h_{0}}t2_{p_{3}p_{4}}^{h_{1}h_{2}}t2_{p_{5}p_{6}}^{h_{3}h_{4}}\n + -0.015625 * t2_{p_{0}p_{1}}^{h_{0}h_{1}}v_{p_{2}p_{3}}^{p_{4}h_{2}}t2_{p_{5}p_{6}}^{h_{3}h_{4}}\n + -0.015625 * t2_{p_{0}p_{1}}^{h_{0}h_{1}}v_{p_{2}p_{3}}^{p_{4}h_{2}}t2_{p_{5}p_{6}}^{h_{3}h_{4}}\n + 0.015625 * t2_{p_{0}p_{1}}^{h_{0}h_{1}}t2_{p_{2}p_{3}}^{h_{2}h_{3}}v_{p_{4}p_{5}}^{p_{6}h_{4}}\n + 0.0013020833333333333 * v_{p_{0}p_{1}}^{p_{2}h_{0}}t2_{p_{3}p_{4}}^{h_{1}h_{2}}t2_{p_{5}p_{6}}^{h_{3}h_{4}}t2_{p_{7}p_{8}}^{h_{5}h_{6}}\n + -0.0013020833333333333 * t2_{p_{0}p_{1}}^{h_{0}h_{1}}v_{p_{2}p_{3}}^{p_{4}h_{2}}t2_{p_{5}p_{6}}^{h_{3}h_{4}}t2_{p_{7}p_{8}}^{h_{5}h_{6}}\n + -0.0013020833333333333 * t2_{p_{0}p_{1}}^{h_{0}h_{1}}v_{p_{2}p_{3}}^{p_{4}h_{2}}t2_{p_{5}p_{6}}^{h_{3}h_{4}}t2_{p_{7}p_{8}}^{h_{5}h_{6}}\n + 0.0013020833333333333 * t2_{p_{0}p_{1}}^{h_{0}h_{1}}t2_{p_{2}p_{3}}^{h_{2}h_{3}}v_{p_{4}p_{5}}^{p_{6}h_{4}}t2_{p_{7}p_{8}}^{h_{5}h_{6}}\n + -0.0013020833333333333 * t2_{p_{0}p_{1}}^{h_{0}h_{1}}v_{p_{2}p_{3}}^{p_{4}h_{2}}t2_{p_{5}p_{6}}^{h_{3}h_{4}}t2_{p_{7}p_{8}}^{h_{5}h_{6}}\n + 0.0013020833333333333 * t2_{p_{0}p_{1}}^{h_{0}h_{1}}t2_{p_{2}p_{3}}^{h_{2}h_{3}}v_{p_{4}p_{5}}^{p_{6}h_{4}}t2_{p_{7}p_{8}}^{h_{5}h_{6}}\n + 0.0013020833333333333 * t2_{p_{0}p_{1}}^{h_{0}h_{1}}t2_{p_{2}p_{3}}^{h_{2}h_{3}}v_{p_{4}p_{5}}^{p_{6}h_{4}}t2_{p_{7}p_{8}}^{h_{5}h_{6}}\n + -0.0013020833333333333 * t2_{p_{0}p_{1}}^{h_{0}h_{1}}t2_{p_{2}p_{3}}^{h_{2}h_{3}}t2_{p_{4}p_{5}}^{h_{4}h_{5}}v_{p_{6}p_{7}}^{p_{8}h_{6}}\n + 8.138020833333333e-05 * v_{p_{0}p_{1}}^{p_{2}h_{0}}t2_{p_{3}p_{4}}^{h_{1}h_{2}}t2_{p_{5}p_{6}}^{h_{3}h_{4}}t2_{p_{7}p_{8}}^{h_{5}h_{6}}t2_{p_{9}p_{10}}^{h_{7}h_{8}}\n + -8.138020833333333e-05 * t2_{p_{0}p_{1}}^{h_{0}h_{1}}v_{p_{2}p_{3}}^{p_{4}h_{2}}t2_{p_{5}p_{6}}^{h_{3}h_{4}}t2_{p_{7}p_{8}}^{h_{5}h_{6}}t2_{p_{9}p_{10}}^{h_{7}h_{8}}\n + -8.138020833333333e-05 * t2_{p_{0}p_{1}}^{h_{0}h_{1}}v_{p_{2}p_{3}}^{p_{4}h_{2}}t2_{p_{5}p_{6}}^{h_{3}h_{4}}t2_{p_{7}p_{8}}^{h_{5}h_{6}}t2_{p_{9}p_{10}}^{h_{7}h_{8}}\n + 8.138020833333333e-05 * t2_{p_{0}p_{1}}^{h_{0}h_{1}}t2_{p_{2}p_{3}}^{h_{2}h_{3}}v_{p_{4}p_{5}}^{p_{6}h_{4}}t2_{p_{7}p_{8}}^{h_{5}h_{6}}t2_{p_{9}p_{10}}^{h_{7}h_{8}}\n + -8.138020833333333e-05 * t2_{p_{0}p_{1}}^{h_{0}h_{1}}v_{p_{2}p_{3}}^{p_{4}h_{2}}t2_{p_{5}p_{6}}^{h_{3}h_{4}}t2_{p_{7}p_{8}}^{h_{5}h_{6}}t2_{p_{9}p_{10}}^{h_{7}h_{8}}\n + 8.138020833333333e-05 * t2_{p_{0}p_{1}}^{h_{0}h_{1}}t2_{p_{2}p_{3}}^{h_{2}h_{3}}v_{p_{4}p_{5}}^{p_{6}h_{4}}t2_{p_{7}p_{8}}^{h_{5}h_{6}}t2_{p_{9}p_{10}}^{h_{7}h_{8}}\n + 8.138020833333333e-05 * t2_{p_{0}p_{1}}^{h_{0}h_{1}}t2_{p_{2}p_{3}}^{h_{2}h_{3}}v_{p_{4}p_{5}}^{p_{6}h_{4}}t2_{p_{7}p_{8}}^{h_{5}h_{6}}t2_{p_{9}p_{10}}^{h_{7}h_{8}}\n + -8.138020833333333e-05 * t2_{p_{0}p_{1}}^{h_{0}h_{1}}t2_{p_{2}p_{3}}^{h_{2}h_{3}}t2_{p_{4}p_{5}}^{h_{4}h_{5}}v_{p_{6}p_{7}}^{p_{8}h_{6}}t2_{p_{9}p_{10}}^{h_{7}h_{8}}\n + -8.138020833333333e-05 * t2_{p_{0}p_{1}}^{h_{0}h_{1}}v_{p_{2}p_{3}}^{p_{4}h_{2}}t2_{p_{5}p_{6}}^{h_{3}h_{4}}t2_{p_{7}p_{8}}^{h_{5}h_{6}}t2_{p_{9}p_{10}}^{h_{7}h_{8}}\n + 8.138020833333333e-05 * t2_{p_{0}p_{1}}^{h_{0}h_{1}}t2_{p_{2}p_{3}}^{h_{2}h_{3}}v_{p_{4}p_{5}}^{p_{6}h_{4}}t2_{p_{7}p_{8}}^{h_{5}h_{6}}t2_{p_{9}p_{10}}^{h_{7}h_{8}}\n + 8.138020833333333e-05 * t2_{p_{0}p_{1}}^{h_{0}h_{1}}t2_{p_{2}p_{3}}^{h_{2}h_{3}}v_{p_{4}p_{5}}^{p_{6}h_{4}}t2_{p_{7}p_{8}}^{h_{5}h_{6}}t2_{p_{9}p_{10}}^{h_{7}h_{8}}\n + -8.138020833333333e-05 * t2_{p_{0}p_{1}}^{h_{0}h_{1}}t2_{p_{2}p_{3}}^{h_{2}h_{3}}t2_{p_{4}p_{5}}^{h_{4}h_{5}}v_{p_{6}p_{7}}^{p_{8}h_{6}}t2_{p_{9}p_{10}}^{h_{7}h_{8}}\n + 8.138020833333333e-05 * t2_{p_{0}p_{1}}^{h_{0}h_{1}}t2_{p_{2}p_{3}}^{h_{2}h_{3}}v_{p_{4}p_{5}}^{p_{6}h_{4}}t2_{p_{7}p_{8}}^{h_{5}h_{6}}t2_{p_{9}p_{10}}^{h_{7}h_{8}}\n + -8.138020833333333e-05 * t2_{p_{0}p_{1}}^{h_{0}h_{1}}t2_{p_{2}p_{3}}^{h_{2}h_{3}}t2_{p_{4}p_{5}}^{h_{4}h_{5}}v_{p_{6}p_{7}}^{p_{8}h_{6}}t2_{p_{9}p_{10}}^{h_{7}h_{8}}\n + -8.138020833333333e-05 * t2_{p_{0}p_{1}}^{h_{0}h_{1}}t2_{p_{2}p_{3}}^{h_{2}h_{3}}t2_{p_{4}p_{5}}^{h_{4}h_{5}}v_{p_{6}p_{7}}^{p_{8}h_{6}}t2_{p_{9}p_{10}}^{h_{7}h_{8}}\n + 8.138020833333333e-05 * t2_{p_{0}p_{1}}^{h_{0}h_{1}}t2_{p_{2}p_{3}}^{h_{2}h_{3}}t2_{p_{4}p_{5}}^{h_{4}h_{5}}t2_{p_{6}p_{7}}^{h_{6}h_{7}}v_{p_{8}p_{9}}^{p_{10}h_{8}}\n + 0.5 * v_{h_{0}p_{0}}^{h_{1}h_{2}}\n + 0.125 * v_{h_{0}p_{0}}^{h_{1}h_{2}}t2_{p_{1}p_{2}}^{h_{3}h_{4}}\n + -0.125 * t2_{p_{0}p_{1}}^{h_{0}h_{1}}v_{h_{2}p_{2}}^{h_{3}h_{4}}\n + 0.015625 * v_{h_{0}p_{0}}^{h_{1}h_{2}}t2_{p_{1}p_{2}}^{h_{3}h_{4}}t2_{p_{3}p_{4}}^{h_{5}h_{6}}\n + -0.015625 * t2_{p_{0}p_{1}}^{h_{0}h_{1}}v_{h_{2}p_{2}}^{h_{3}h_{4}}t2_{p_{3}p_{4}}^{h_{5}h_{6}}\n + -0.015625 * t2_{p_{0}p_{1}}^{h_{0}h_{1}}v_{h_{2}p_{2}}^{h_{3}h_{4}}t2_{p_{3}p_{4}}^{h_{5}h_{6}}\n + 0.015625 * t2_{p_{0}p_{1}}^{h_{0}h_{1}}t2_{p_{2}p_{3}}^{h_{2}h_{3}}v_{h_{4}p_{4}}^{h_{5}h_{6}}\n + 0.0013020833333333333 * v_{h_{0}p_{0}}^{h_{1}h_{2}}t2_{p_{1}p_{2}}^{h_{3}h_{4}}t2_{p_{3}p_{4}}^{h_{5}h_{6}}t2_{p_{5}p_{6}}^{h_{7}h_{8}}\n + -0.0013020833333333333 * t2_{p_{0}p_{1}}^{h_{0}h_{1}}v_{h_{2}p_{2}}^{h_{3}h_{4}}t2_{p_{3}p_{4}}^{h_{5}h_{6}}t2_{p_{5}p_{6}}^{h_{7}h_{8}}\n + -0.0013020833333333333 * t2_{p_{0}p_{1}}^{h_{0}h_{1}}v_{h_{2}p_{2}}^{h_{3}h_{4}}t2_{p_{3}p_{4}}^{h_{5}h_{6}}t2_{p_{5}p_{6}}^{h_{7}h_{8}}\n + 0.0013020833333333333 * t2_{p_{0}p_{1}}^{h_{0}h_{1}}t2_{p_{2}p_{3}}^{h_{2}h_{3}}v_{h_{4}p_{4}}^{h_{5}h_{6}}t2_{p_{5}p_{6}}^{h_{7}h_{8}}\n + -0.0013020833333333333 * t2_{p_{0}p_{1}}^{h_{0}h_{1}}v_{h_{2}p_{2}}^{h_{3}h_{4}}t2_{p_{3}p_{4}}^{h_{5}h_{6}}t2_{p_{5}p_{6}}^{h_{7}h_{8}}\n + 0.0013020833333333333 * t2_{p_{0}p_{1}}^{h_{0}h_{1}}t2_{p_{2}p_{3}}^{h_{2}h_{3}}v_{h_{4}p_{4}}^{h_{5}h_{6}}t2_{p_{5}p_{6}}^{h_{7}h_{8}}\n + 0.0013020833333333333 * t2_{p_{0}p_{1}}^{h_{0}h_{1}}t2_{p_{2}p_{3}}^{h_{2}h_{3}}v_{h_{4}p_{4}}^{h_{5}h_{6}}t2_{p_{5}p_{6}}^{h_{7}h_{8}}\n + -0.0013020833333333333 * t2_{p_{0}p_{1}}^{h_{0}h_{1}}t2_{p_{2}p_{3}}^{h_{2}h_{3}}t2_{p_{4}p_{5}}^{h_{4}h_{5}}v_{h_{6}p_{6}}^{h_{7}h_{8}}\n + 8.138020833333333e-05 * v_{h_{0}p_{0}}^{h_{1}h_{2}}t2_{p_{1}p_{2}}^{h_{3}h_{4}}t2_{p_{3}p_{4}}^{h_{5}h_{6}}t2_{p_{5}p_{6}}^{h_{7}h_{8}}t2_{p_{7}p_{8}}^{h_{9}h_{10}}\n + -8.138020833333333e-05 * t2_{p_{0}p_{1}}^{h_{0}h_{1}}v_{h_{2}p_{2}}^{h_{3}h_{4}}t2_{p_{3}p_{4}}^{h_{5}h_{6}}t2_{p_{5}p_{6}}^{h_{7}h_{8}}t2_{p_{7}p_{8}}^{h_{9}h_{10}}\n + -8.138020833333333e-05 * t2_{p_{0}p_{1}}^{h_{0}h_{1}}v_{h_{2}p_{2}}^{h_{3}h_{4}}t2_{p_{3}p_{4}}^{h_{5}h_{6}}t2_{p_{5}p_{6}}^{h_{7}h_{8}}t2_{p_{7}p_{8}}^{h_{9}h_{10}}\n + 8.138020833333333e-05 * t2_{p_{0}p_{1}}^{h_{0}h_{1}}t2_{p_{2}p_{3}}^{h_{2}h_{3}}v_{h_{4}p_{4}}^{h_{5}h_{6}}t2_{p_{5}p_{6}}^{h_{7}h_{8}}t2_{p_{7}p_{8}}^{h_{9}h_{10}}\n + -8.138020833333333e-05 * t2_{p_{0}p_{1}}^{h_{0}h_{1}}v_{h_{2}p_{2}}^{h_{3}h_{4}}t2_{p_{3}p_{4}}^{h_{5}h_{6}}t2_{p_{5}p_{6}}^{h_{7}h_{8}}t2_{p_{7}p_{8}}^{h_{9}h_{10}}\n + 8.138020833333333e-05 * t2_{p_{0}p_{1}}^{h_{0}h_{1}}t2_{p_{2}p_{3}}^{h_{2}h_{3}}v_{h_{4}p_{4}}^{h_{5}h_{6}}t2_{p_{5}p_{6}}^{h_{7}h_{8}}t2_{p_{7}p_{8}}^{h_{9}h_{10}}\n + 8.138020833333333e-05 * t2_{p_{0}p_{1}}^{h_{0}h_{1}}t2_{p_{2}p_{3}}^{h_{2}h_{3}}v_{h_{4}p_{4}}^{h_{5}h_{6}}t2_{p_{5}p_{6}}^{h_{7}h_{8}}t2_{p_{7}p_{8}}^{h_{9}h_{10}}\n + -8.138020833333333e-05 * t2_{p_{0}p_{1}}^{h_{0}h_{1}}t2_{p_{2}p_{3}}^{h_{2}h_{3}}t2_{p_{4}p_{5}}^{h_{4}h_{5}}v_{h_{6}p_{6}}^{h_{7}h_{8}}t2_{p_{7}p_{8}}^{h_{9}h_{10}}\n + -8.138020833333333e-05 * t2_{p_{0}p_{1}}^{h_{0}h_{1}}v_{h_{2}p_{2}}^{h_{3}h_{4}}t2_{p_{3}p_{4}}^{h_{5}h_{6}}t2_{p_{5}p_{6}}^{h_{7}h_{8}}t2_{p_{7}p_{8}}^{h_{9}h_{10}}\n + 8.138020833333333e-05 * t2_{p_{0}p_{1}}^{h_{0}h_{1}}t2_{p_{2}p_{3}}^{h_{2}h_{3}}v_{h_{4}p_{4}}^{h_{5}h_{6}}t2_{p_{5}p_{6}}^{h_{7}h_{8}}t2_{p_{7}p_{8}}^{h_{9}h_{10}}\n + 8.138020833333333e-05 * t2_{p_{0}p_{1}}^{h_{0}h_{1}}t2_{p_{2}p_{3}}^{h_{2}h_{3}}v_{h_{4}p_{4}}^{h_{5}h_{6}}t2_{p_{5}p_{6}}^{h_{7}h_{8}}t2_{p_{7}p_{8}}^{h_{9}h_{10}}\n + -8.138020833333333e-05 * t2_{p_{0}p_{1}}^{h_{0}h_{1}}t2_{p_{2}p_{3}}^{h_{2}h_{3}}t2_{p_{4}p_{5}}^{h_{4}h_{5}}v_{h_{6}p_{6}}^{h_{7}h_{8}}t2_{p_{7}p_{8}}^{h_{9}h_{10}}\n + 8.138020833333333e-05 * t2_{p_{0}p_{1}}^{h_{0}h_{1}}t2_{p_{2}p_{3}}^{h_{2}h_{3}}v_{h_{4}p_{4}}^{h_{5}h_{6}}t2_{p_{5}p_{6}}^{h_{7}h_{8}}t2_{p_{7}p_{8}}^{h_{9}h_{10}}\n + -8.138020833333333e-05 * t2_{p_{0}p_{1}}^{h_{0}h_{1}}t2_{p_{2}p_{3}}^{h_{2}h_{3}}t2_{p_{4}p_{5}}^{h_{4}h_{5}}v_{h_{6}p_{6}}^{h_{7}h_{8}}t2_{p_{7}p_{8}}^{h_{9}h_{10}}\n + -8.138020833333333e-05 * t2_{p_{0}p_{1}}^{h_{0}h_{1}}t2_{p_{2}p_{3}}^{h_{2}h_{3}}t2_{p_{4}p_{5}}^{h_{4}h_{5}}v_{h_{6}p_{6}}^{h_{7}h_{8}}t2_{p_{7}p_{8}}^{h_{9}h_{10}}\n + 8.138020833333333e-05 * t2_{p_{0}p_{1}}^{h_{0}h_{1}}t2_{p_{2}p_{3}}^{h_{2}h_{3}}t2_{p_{4}p_{5}}^{h_{4}h_{5}}t2_{p_{6}p_{7}}^{h_{6}h_{7}}v_{h_{8}p_{8}}^{h_{9}h_{10}}\n + 0.5 * v_{p_{0}p_{1}}^{h_{0}h_{1}}\n + 0.125 * v_{p_{0}p_{1}}^{h_{0}h_{1}}t2_{p_{2}p_{3}}^{h_{2}h_{3}}\n + -0.125 * t2_{p_{0}p_{1}}^{h_{0}h_{1}}v_{p_{2}p_{3}}^{h_{2}h_{3}}\n + 0.015625 * v_{p_{0}p_{1}}^{h_{0}h_{1}}t2_{p_{2}p_{3}}^{h_{2}h_{3}}t2_{p_{4}p_{5}}^{h_{4}h_{5}}\n + -0.015625 * t2_{p_{0}p_{1}}^{h_{0}h_{1}}v_{p_{2}p_{3}}^{h_{2}h_{3}}t2_{p_{4}p_{5}}^{h_{4}h_{5}}\n + -0.015625 * t2_{p_{0}p_{1}}^{h_{0}h_{1}}v_{p_{2}p_{3}}^{h_{2}h_{3}}t2_{p_{4}p_{5}}^{h_{4}h_{5}}\n + 0.015625 * t2_{p_{0}p_{1}}^{h_{0}h_{1}}t2_{p_{2}p_{3}}^{h_{2}h_{3}}v_{p_{4}p_{5}}^{h_{4}h_{5}}\n + 0.0013020833333333333 * v_{p_{0}p_{1}}^{h_{0}h_{1}}t2_{p_{2}p_{3}}^{h_{2}h_{3}}t2_{p_{4}p_{5}}^{h_{4}h_{5}}t2_{p_{6}p_{7}}^{h_{6}h_{7}}\n + -0.0013020833333333333 * t2_{p_{0}p_{1}}^{h_{0}h_{1}}v_{p_{2}p_{3}}^{h_{2}h_{3}}t2_{p_{4}p_{5}}^{h_{4}h_{5}}t2_{p_{6}p_{7}}^{h_{6}h_{7}}\n + -0.0013020833333333333 * t2_{p_{0}p_{1}}^{h_{0}h_{1}}v_{p_{2}p_{3}}^{h_{2}h_{3}}t2_{p_{4}p_{5}}^{h_{4}h_{5}}t2_{p_{6}p_{7}}^{h_{6}h_{7}}\n + 0.0013020833333333333 * t2_{p_{0}p_{1}}^{h_{0}h_{1}}t2_{p_{2}p_{3}}^{h_{2}h_{3}}v_{p_{4}p_{5}}^{h_{4}h_{5}}t2_{p_{6}p_{7}}^{h_{6}h_{7}}\n + -0.0013020833333333333 * t2_{p_{0}p_{1}}^{h_{0}h_{1}}v_{p_{2}p_{3}}^{h_{2}h_{3}}t2_{p_{4}p_{5}}^{h_{4}h_{5}}t2_{p_{6}p_{7}}^{h_{6}h_{7}}\n + 0.0013020833333333333 * t2_{p_{0}p_{1}}^{h_{0}h_{1}}t2_{p_{2}p_{3}}^{h_{2}h_{3}}v_{p_{4}p_{5}}^{h_{4}h_{5}}t2_{p_{6}p_{7}}^{h_{6}h_{7}}\n + 0.0013020833333333333 * t2_{p_{0}p_{1}}^{h_{0}h_{1}}t2_{p_{2}p_{3}}^{h_{2}h_{3}}v_{p_{4}p_{5}}^{h_{4}h_{5}}t2_{p_{6}p_{7}}^{h_{6}h_{7}}\n + -0.0013020833333333333 * t2_{p_{0}p_{1}}^{h_{0}h_{1}}t2_{p_{2}p_{3}}^{h_{2}h_{3}}t2_{p_{4}p_{5}}^{h_{4}h_{5}}v_{p_{6}p_{7}}^{h_{6}h_{7}}\n + 8.138020833333333e-05 * v_{p_{0}p_{1}}^{h_{0}h_{1}}t2_{p_{2}p_{3}}^{h_{2}h_{3}}t2_{p_{4}p_{5}}^{h_{4}h_{5}}t2_{p_{6}p_{7}}^{h_{6}h_{7}}t2_{p_{8}p_{9}}^{h_{8}h_{9}}\n + -8.138020833333333e-05 * t2_{p_{0}p_{1}}^{h_{0}h_{1}}v_{p_{2}p_{3}}^{h_{2}h_{3}}t2_{p_{4}p_{5}}^{h_{4}h_{5}}t2_{p_{6}p_{7}}^{h_{6}h_{7}}t2_{p_{8}p_{9}}^{h_{8}h_{9}}\n + -8.138020833333333e-05 * t2_{p_{0}p_{1}}^{h_{0}h_{1}}v_{p_{2}p_{3}}^{h_{2}h_{3}}t2_{p_{4}p_{5}}^{h_{4}h_{5}}t2_{p_{6}p_{7}}^{h_{6}h_{7}}t2_{p_{8}p_{9}}^{h_{8}h_{9}}\n + 8.138020833333333e-05 * t2_{p_{0}p_{1}}^{h_{0}h_{1}}t2_{p_{2}p_{3}}^{h_{2}h_{3}}v_{p_{4}p_{5}}^{h_{4}h_{5}}t2_{p_{6}p_{7}}^{h_{6}h_{7}}t2_{p_{8}p_{9}}^{h_{8}h_{9}}\n + -8.138020833333333e-05 * t2_{p_{0}p_{1}}^{h_{0}h_{1}}v_{p_{2}p_{3}}^{h_{2}h_{3}}t2_{p_{4}p_{5}}^{h_{4}h_{5}}t2_{p_{6}p_{7}}^{h_{6}h_{7}}t2_{p_{8}p_{9}}^{h_{8}h_{9}}\n + 8.138020833333333e-05 * t2_{p_{0}p_{1}}^{h_{0}h_{1}}t2_{p_{2}p_{3}}^{h_{2}h_{3}}v_{p_{4}p_{5}}^{h_{4}h_{5}}t2_{p_{6}p_{7}}^{h_{6}h_{7}}t2_{p_{8}p_{9}}^{h_{8}h_{9}}\n + 8.138020833333333e-05 * t2_{p_{0}p_{1}}^{h_{0}h_{1}}t2_{p_{2}p_{3}}^{h_{2}h_{3}}v_{p_{4}p_{5}}^{h_{4}h_{5}}t2_{p_{6}p_{7}}^{h_{6}h_{7}}t2_{p_{8}p_{9}}^{h_{8}h_{9}}\n + -8.138020833333333e-05 * t2_{p_{0}p_{1}}^{h_{0}h_{1}}t2_{p_{2}p_{3}}^{h_{2}h_{3}}t2_{p_{4}p_{5}}^{h_{4}h_{5}}v_{p_{6}p_{7}}^{h_{6}h_{7}}t2_{p_{8}p_{9}}^{h_{8}h_{9}}\n + -8.138020833333333e-05 * t2_{p_{0}p_{1}}^{h_{0}h_{1}}v_{p_{2}p_{3}}^{h_{2}h_{3}}t2_{p_{4}p_{5}}^{h_{4}h_{5}}t2_{p_{6}p_{7}}^{h_{6}h_{7}}t2_{p_{8}p_{9}}^{h_{8}h_{9}}\n + 8.138020833333333e-05 * t2_{p_{0}p_{1}}^{h_{0}h_{1}}t2_{p_{2}p_{3}}^{h_{2}h_{3}}v_{p_{4}p_{5}}^{h_{4}h_{5}}t2_{p_{6}p_{7}}^{h_{6}h_{7}}t2_{p_{8}p_{9}}^{h_{8}h_{9}}\n + 8.138020833333333e-05 * t2_{p_{0}p_{1}}^{h_{0}h_{1}}t2_{p_{2}p_{3}}^{h_{2}h_{3}}v_{p_{4}p_{5}}^{h_{4}h_{5}}t2_{p_{6}p_{7}}^{h_{6}h_{7}}t2_{p_{8}p_{9}}^{h_{8}h_{9}}\n + -8.138020833333333e-05 * t2_{p_{0}p_{1}}^{h_{0}h_{1}}t2_{p_{2}p_{3}}^{h_{2}h_{3}}t2_{p_{4}p_{5}}^{h_{4}h_{5}}v_{p_{6}p_{7}}^{h_{6}h_{7}}t2_{p_{8}p_{9}}^{h_{8}h_{9}}\n + 8.138020833333333e-05 * t2_{p_{0}p_{1}}^{h_{0}h_{1}}t2_{p_{2}p_{3}}^{h_{2}h_{3}}v_{p_{4}p_{5}}^{h_{4}h_{5}}t2_{p_{6}p_{7}}^{h_{6}h_{7}}t2_{p_{8}p_{9}}^{h_{8}h_{9}}\n + -8.138020833333333e-05 * t2_{p_{0}p_{1}}^{h_{0}h_{1}}t2_{p_{2}p_{3}}^{h_{2}h_{3}}t2_{p_{4}p_{5}}^{h_{4}h_{5}}v_{p_{6}p_{7}}^{h_{6}h_{7}}t2_{p_{8}p_{9}}^{h_{8}h_{9}}\n + -8.138020833333333e-05 * t2_{p_{0}p_{1}}^{h_{0}h_{1}}t2_{p_{2}p_{3}}^{h_{2}h_{3}}t2_{p_{4}p_{5}}^{h_{4}h_{5}}v_{p_{6}p_{7}}^{h_{6}h_{7}}t2_{p_{8}p_{9}}^{h_{8}h_{9}}\n + 8.138020833333333e-05 * t2_{p_{0}p_{1}}^{h_{0}h_{1}}t2_{p_{2}p_{3}}^{h_{2}h_{3}}t2_{p_{4}p_{5}}^{h_{4}h_{5}}t2_{p_{6}p_{7}}^{h_{6}h_{7}}v_{p_{8}p_{9}}^{h_{8}h_{9}}\n + 0.5 * v_{h_{0}h_{1}}^{p_{0}p_{1}}\n + 0.125 * v_{h_{0}h_{1}}^{p_{0}p_{1}}t2_{p_{2}p_{3}}^{h_{2}h_{3}}\n + -0.125 * t2_{p_{0}p_{1}}^{h_{0}h_{1}}v_{h_{2}h_{3}}^{p_{2}p_{3}}\n + 0.015625 * v_{h_{0}h_{1}}^{p_{0}p_{1}}t2_{p_{2}p_{3}}^{h_{2}h_{3}}t2_{p_{4}p_{5}}^{h_{4}h_{5}}\n + -0.015625 * t2_{p_{0}p_{1}}^{h_{0}h_{1}}v_{h_{2}h_{3}}^{p_{2}p_{3}}t2_{p_{4}p_{5}}^{h_{4}h_{5}}\n + -0.015625 * t2_{p_{0}p_{1}}^{h_{0}h_{1}}v_{h_{2}h_{3}}^{p_{2}p_{3}}t2_{p_{4}p_{5}}^{h_{4}h_{5}}\n + 0.015625 * t2_{p_{0}p_{1}}^{h_{0}h_{1}}t2_{p_{2}p_{3}}^{h_{2}h_{3}}v_{h_{4}h_{5}}^{p_{4}p_{5}}\n + 0.0013020833333333333 * v_{h_{0}h_{1}}^{p_{0}p_{1}}t2_{p_{2}p_{3}}^{h_{2}h_{3}}t2_{p_{4}p_{5}}^{h_{4}h_{5}}t2_{p_{6}p_{7}}^{h_{6}h_{7}}\n + -0.0013020833333333333 * t2_{p_{0}p_{1}}^{h_{0}h_{1}}v_{h_{2}h_{3}}^{p_{2}p_{3}}t2_{p_{4}p_{5}}^{h_{4}h_{5}}t2_{p_{6}p_{7}}^{h_{6}h_{7}}\n + -0.0013020833333333333 * t2_{p_{0}p_{1}}^{h_{0}h_{1}}v_{h_{2}h_{3}}^{p_{2}p_{3}}t2_{p_{4}p_{5}}^{h_{4}h_{5}}t2_{p_{6}p_{7}}^{h_{6}h_{7}}\n + 0.0013020833333333333 * t2_{p_{0}p_{1}}^{h_{0}h_{1}}t2_{p_{2}p_{3}}^{h_{2}h_{3}}v_{h_{4}h_{5}}^{p_{4}p_{5}}t2_{p_{6}p_{7}}^{h_{6}h_{7}}\n + -0.0013020833333333333 * t2_{p_{0}p_{1}}^{h_{0}h_{1}}v_{h_{2}h_{3}}^{p_{2}p_{3}}t2_{p_{4}p_{5}}^{h_{4}h_{5}}t2_{p_{6}p_{7}}^{h_{6}h_{7}}\n + 0.0013020833333333333 * t2_{p_{0}p_{1}}^{h_{0}h_{1}}t2_{p_{2}p_{3}}^{h_{2}h_{3}}v_{h_{4}h_{5}}^{p_{4}p_{5}}t2_{p_{6}p_{7}}^{h_{6}h_{7}}\n + 0.0013020833333333333 * t2_{p_{0}p_{1}}^{h_{0}h_{1}}t2_{p_{2}p_{3}}^{h_{2}h_{3}}v_{h_{4}h_{5}}^{p_{4}p_{5}}t2_{p_{6}p_{7}}^{h_{6}h_{7}}\n + -0.0013020833333333333 * t2_{p_{0}p_{1}}^{h_{0}h_{1}}t2_{p_{2}p_{3}}^{h_{2}h_{3}}t2_{p_{4}p_{5}}^{h_{4}h_{5}}v_{h_{6}h_{7}}^{p_{6}p_{7}}\n + 8.138020833333333e-05 * v_{h_{0}h_{1}}^{p_{0}p_{1}}t2_{p_{2}p_{3}}^{h_{2}h_{3}}t2_{p_{4}p_{5}}^{h_{4}h_{5}}t2_{p_{6}p_{7}}^{h_{6}h_{7}}t2_{p_{8}p_{9}}^{h_{8}h_{9}}\n + -8.138020833333333e-05 * t2_{p_{0}p_{1}}^{h_{0}h_{1}}v_{h_{2}h_{3}}^{p_{2}p_{3}}t2_{p_{4}p_{5}}^{h_{4}h_{5}}t2_{p_{6}p_{7}}^{h_{6}h_{7}}t2_{p_{8}p_{9}}^{h_{8}h_{9}}\n + -8.138020833333333e-05 * t2_{p_{0}p_{1}}^{h_{0}h_{1}}v_{h_{2}h_{3}}^{p_{2}p_{3}}t2_{p_{4}p_{5}}^{h_{4}h_{5}}t2_{p_{6}p_{7}}^{h_{6}h_{7}}t2_{p_{8}p_{9}}^{h_{8}h_{9}}\n + 8.138020833333333e-05 * t2_{p_{0}p_{1}}^{h_{0}h_{1}}t2_{p_{2}p_{3}}^{h_{2}h_{3}}v_{h_{4}h_{5}}^{p_{4}p_{5}}t2_{p_{6}p_{7}}^{h_{6}h_{7}}t2_{p_{8}p_{9}}^{h_{8}h_{9}}\n + -8.138020833333333e-05 * t2_{p_{0}p_{1}}^{h_{0}h_{1}}v_{h_{2}h_{3}}^{p_{2}p_{3}}t2_{p_{4}p_{5}}^{h_{4}h_{5}}t2_{p_{6}p_{7}}^{h_{6}h_{7}}t2_{p_{8}p_{9}}^{h_{8}h_{9}}\n + 8.138020833333333e-05 * t2_{p_{0}p_{1}}^{h_{0}h_{1}}t2_{p_{2}p_{3}}^{h_{2}h_{3}}v_{h_{4}h_{5}}^{p_{4}p_{5}}t2_{p_{6}p_{7}}^{h_{6}h_{7}}t2_{p_{8}p_{9}}^{h_{8}h_{9}}\n + 8.138020833333333e-05 * t2_{p_{0}p_{1}}^{h_{0}h_{1}}t2_{p_{2}p_{3}}^{h_{2}h_{3}}v_{h_{4}h_{5}}^{p_{4}p_{5}}t2_{p_{6}p_{7}}^{h_{6}h_{7}}t2_{p_{8}p_{9}}^{h_{8}h_{9}}\n + -8.138020833333333e-05 * t2_{p_{0}p_{1}}^{h_{0}h_{1}}t2_{p_{2}p_{3}}^{h_{2}h_{3}}t2_{p_{4}p_{5}}^{h_{4}h_{5}}v_{h_{6}h_{7}}^{p_{6}p_{7}}t2_{p_{8}p_{9}}^{h_{8}h_{9}}\n + -8.138020833333333e-05 * t2_{p_{0}p_{1}}^{h_{0}h_{1}}v_{h_{2}h_{3}}^{p_{2}p_{3}}t2_{p_{4}p_{5}}^{h_{4}h_{5}}t2_{p_{6}p_{7}}^{h_{6}h_{7}}t2_{p_{8}p_{9}}^{h_{8}h_{9}}\n + 8.138020833333333e-05 * t2_{p_{0}p_{1}}^{h_{0}h_{1}}t2_{p_{2}p_{3}}^{h_{2}h_{3}}v_{h_{4}h_{5}}^{p_{4}p_{5}}t2_{p_{6}p_{7}}^{h_{6}h_{7}}t2_{p_{8}p_{9}}^{h_{8}h_{9}}\n + 8.138020833333333e-05 * t2_{p_{0}p_{1}}^{h_{0}h_{1}}t2_{p_{2}p_{3}}^{h_{2}h_{3}}v_{h_{4}h_{5}}^{p_{4}p_{5}}t2_{p_{6}p_{7}}^{h_{6}h_{7}}t2_{p_{8}p_{9}}^{h_{8}h_{9}}\n + -8.138020833333333e-05 * t2_{p_{0}p_{1}}^{h_{0}h_{1}}t2_{p_{2}p_{3}}^{h_{2}h_{3}}t2_{p_{4}p_{5}}^{h_{4}h_{5}}v_{h_{6}h_{7}}^{p_{6}p_{7}}t2_{p_{8}p_{9}}^{h_{8}h_{9}}\n + 8.138020833333333e-05 * t2_{p_{0}p_{1}}^{h_{0}h_{1}}t2_{p_{2}p_{3}}^{h_{2}h_{3}}v_{h_{4}h_{5}}^{p_{4}p_{5}}t2_{p_{6}p_{7}}^{h_{6}h_{7}}t2_{p_{8}p_{9}}^{h_{8}h_{9}}\n + -8.138020833333333e-05 * t2_{p_{0}p_{1}}^{h_{0}h_{1}}t2_{p_{2}p_{3}}^{h_{2}h_{3}}t2_{p_{4}p_{5}}^{h_{4}h_{5}}v_{h_{6}h_{7}}^{p_{6}p_{7}}t2_{p_{8}p_{9}}^{h_{8}h_{9}}\n + -8.138020833333333e-05 * t2_{p_{0}p_{1}}^{h_{0}h_{1}}t2_{p_{2}p_{3}}^{h_{2}h_{3}}t2_{p_{4}p_{5}}^{h_{4}h_{5}}v_{h_{6}h_{7}}^{p_{6}p_{7}}t2_{p_{8}p_{9}}^{h_{8}h_{9}}\n + 8.138020833333333e-05 * t2_{p_{0}p_{1}}^{h_{0}h_{1}}t2_{p_{2}p_{3}}^{h_{2}h_{3}}t2_{p_{4}p_{5}}^{h_{4}h_{5}}t2_{p_{6}p_{7}}^{h_{6}h_{7}}v_{h_{8}h_{9}}^{p_{8}p_{9}}\n"
     ]
    }
   ],
   "source": [
    "print(transformH)"
   ]
  },
  {
   "cell_type": "code",
   "execution_count": 94,
   "metadata": {},
   "outputs": [
    {
     "output_type": "stream",
     "name": "stdout",
     "text": [
      "8.138020833333333e-05 * t2_{p_{0}p_{1}}^{h_{0}h_{1}}t2_{p_{2}p_{3}}^{h_{2}h_{3}}t2_{p_{4}p_{5}}^{h_{4}h_{5}}t2_{p_{6}p_{7}}^{h_{6}h_{7}}v_{h_{8}h_{9}}^{p_{8}p_{9}}\n"
     ]
    }
   ],
   "source": [
    "print(transformH.summandList[402])"
   ]
  },
  {
   "cell_type": "code",
   "execution_count": 95,
   "metadata": {},
   "outputs": [
    {
     "output_type": "stream",
     "name": "stdout",
     "text": [
      "1.0 * t2_{p_{0}p_{1}}^{h_{0}h_{1}}t2_{p_{2}p_{3}}^{h_{2}h_{3}}\n"
     ]
    }
   ],
   "source": [
    "print(t2 * t2)"
   ]
  },
  {
   "cell_type": "code",
   "execution_count": null,
   "metadata": {},
   "outputs": [],
   "source": []
  },
  {
   "cell_type": "code",
   "execution_count": 96,
   "metadata": {},
   "outputs": [
    {
     "output_type": "stream",
     "name": "stdout",
     "text": [
      "0.01987029799965967\n4.0 * v_{h_{2}h_{3}}^{p_{0}p_{1}}t2_{p_{0}p_{1}}^{h_{2}h_{3}}\n + -2.0 * v_{h_{2}h_{3}}^{p_{0}p_{1}}t2_{p_{1}p_{0}}^{h_{2}h_{3}}\n + -2.0 * v_{h_{3}h_{2}}^{p_{0}p_{1}}t2_{p_{0}p_{1}}^{h_{2}h_{3}}\n + 4.0 * v_{h_{3}h_{2}}^{p_{0}p_{1}}t2_{p_{1}p_{0}}^{h_{2}h_{3}}\n"
     ]
    }
   ],
   "source": [
    "time0 = time.time()\n",
    "first = evaluateWick(vDiagrams[8] * t2)\n",
    "time1 = time.time()\n",
    "print(time1-time0)\n",
    "print(first)"
   ]
  },
  {
   "cell_type": "code",
   "execution_count": 97,
   "metadata": {},
   "outputs": [
    {
     "output_type": "stream",
     "name": "stdout",
     "text": [
      "0.049566360999961034\n\n"
     ]
    }
   ],
   "source": [
    "time0 = time.time()\n",
    "second = evaluateWick(vDiagrams[8] * t2 * t2)\n",
    "time1 = time.time()\n",
    "print(time1-time0)\n",
    "print(second)"
   ]
  },
  {
   "cell_type": "code",
   "execution_count": 98,
   "metadata": {},
   "outputs": [
    {
     "output_type": "execute_result",
     "data": {
      "text/plain": [
       "__main__.Tensor"
      ]
     },
     "metadata": {},
     "execution_count": 98
    }
   ],
   "source": [
    "type(vDiagrams[8])"
   ]
  },
  {
   "cell_type": "code",
   "execution_count": 99,
   "metadata": {},
   "outputs": [
    {
     "output_type": "stream",
     "name": "stdout",
     "text": [
      "0.0557633270000224\n0\n"
     ]
    }
   ],
   "source": [
    "product = vDiagrams[8] * t2 * t2 * t2 * t2\n",
    "op = product.getOperator()\n",
    "time0 = time.time()\n",
    "firstContractions = recursiveVacuumExpectationValue(op.summandList[0])\n",
    "time1 = time.time()\n",
    "print(time1-time0)\n",
    "print(firstContractions)"
   ]
  },
  {
   "cell_type": "code",
   "execution_count": 100,
   "metadata": {},
   "outputs": [
    {
     "output_type": "stream",
     "name": "stdout",
     "text": [
      "3.785675672999787\n\n"
     ]
    }
   ],
   "source": [
    "time0 = time.time()\n",
    "CCDEnergyLastTerm = evaluateWick(transformH.summandList[402])\n",
    "time1 = time.time()\n",
    "print(time1-time0)\n",
    "print(CCDEnergyLastTerm)"
   ]
  },
  {
   "cell_type": "code",
   "execution_count": 101,
   "metadata": {},
   "outputs": [
    {
     "output_type": "stream",
     "name": "stdout",
     "text": [
      "342.6817413099998\n2.0 * f_{h_{1}}^{h_{1}}\n + -1.0 * v_{h_{2}h_{3}}^{h_{2}h_{3}}\n + 2.0 * v_{h_{3}h_{2}}^{h_{2}h_{3}}\n + 0.5 * v_{h_{2}h_{3}}^{p_{0}p_{1}}t2_{p_{0}p_{1}}^{h_{2}h_{3}}\n + -0.25 * v_{h_{2}h_{3}}^{p_{0}p_{1}}t2_{p_{1}p_{0}}^{h_{2}h_{3}}\n + -0.25 * v_{h_{3}h_{2}}^{p_{0}p_{1}}t2_{p_{0}p_{1}}^{h_{2}h_{3}}\n + 0.5 * v_{h_{3}h_{2}}^{p_{0}p_{1}}t2_{p_{1}p_{0}}^{h_{2}h_{3}}\n"
     ]
    }
   ],
   "source": [
    "time0 = time.time()\n",
    "CCDEnergy = evaluateWick(transformH)\n",
    "time1 = time.time()\n",
    "print(time1-time0)\n",
    "print(CCDEnergy)"
   ]
  },
  {
   "cell_type": "code",
   "execution_count": 102,
   "metadata": {},
   "outputs": [
    {
     "output_type": "stream",
     "name": "stdout",
     "text": [
      "4.0 * \\delta^{h_{0}}_{h_{2}}\\delta^{h_{1}}_{h_{3}}\\delta^{p_{2}}_{p_{0}}\\delta^{p_{3}}_{p_{1}}\n + -2.0 * \\delta^{h_{0}}_{h_{2}}\\delta^{h_{1}}_{h_{3}}\\delta^{p_{3}}_{p_{0}}\\delta^{p_{2}}_{p_{1}}\n + -2.0 * \\delta^{h_{0}}_{h_{3}}\\delta^{h_{1}}_{h_{2}}\\delta^{p_{2}}_{p_{0}}\\delta^{p_{3}}_{p_{1}}\n + 4.0 * \\delta^{h_{0}}_{h_{3}}\\delta^{h_{1}}_{h_{2}}\\delta^{p_{3}}_{p_{0}}\\delta^{p_{2}}_{p_{1}}\n"
     ]
    }
   ],
   "source": [
    "print(recursiveVacuumExpectationValue((vDiagrams[8] * t2).getOperator()))"
   ]
  },
  {
   "cell_type": "code",
   "execution_count": 103,
   "metadata": {},
   "outputs": [
    {
     "output_type": "stream",
     "name": "stdout",
     "text": [
      "4.0 * v_{h_{2}h_{3}}^{p_{0}p_{1}}t2_{p_{0}p_{1}}^{h_{2}h_{3}}\n + -2.0 * v_{h_{2}h_{3}}^{p_{0}p_{1}}t2_{p_{1}p_{0}}^{h_{2}h_{3}}\n + -2.0 * v_{h_{3}h_{2}}^{p_{0}p_{1}}t2_{p_{0}p_{1}}^{h_{2}h_{3}}\n + 4.0 * v_{h_{3}h_{2}}^{p_{0}p_{1}}t2_{p_{1}p_{0}}^{h_{2}h_{3}}\n"
     ]
    }
   ],
   "source": [
    "print(evaluateWick(vDiagrams[8] * t2))"
   ]
  },
  {
   "cell_type": "code",
   "execution_count": 104,
   "metadata": {},
   "outputs": [],
   "source": [
    "E = evaluateWick(vDiagrams[8] * t2)"
   ]
  },
  {
   "cell_type": "code",
   "execution_count": 105,
   "metadata": {},
   "outputs": [
    {
     "output_type": "stream",
     "name": "stdout",
     "text": [
      "[<__main__.Vertex object at 0x118401100>, <__main__.Vertex object at 0x118401550>]\n"
     ]
    }
   ],
   "source": [
    "print(E.summandList[0].vertexList)"
   ]
  },
  {
   "cell_type": "code",
   "execution_count": 106,
   "metadata": {},
   "outputs": [],
   "source": [
    "projectionSingles = Tensor('\\Phi', ['h'], ['p'])\n",
    "projectionDoubles = Tensor('\\Phi', ['h', 'h'], ['p', 'p'])"
   ]
  },
  {
   "cell_type": "code",
   "execution_count": 107,
   "metadata": {},
   "outputs": [],
   "source": [
    "def projectionManifold(excitationLevel):\n",
    "    return Tensor('\\Phi', ['h'] * excitationLevel, ['p'] * excitationLevel)"
   ]
  },
  {
   "cell_type": "code",
   "execution_count": 108,
   "metadata": {},
   "outputs": [
    {
     "output_type": "stream",
     "name": "stdout",
     "text": [
      "\\Phi_{hh}^{pp}\n"
     ]
    }
   ],
   "source": [
    "print(projectionManifold(2))"
   ]
  },
  {
   "cell_type": "code",
   "execution_count": 110,
   "metadata": {
    "tags": [
     "outputPrepend"
    ]
   },
   "outputs": [
    {
     "output_type": "stream",
     "name": "stdout",
     "text": [
      "{p_{3}p_{0}}^{h_{4}h_{5}}t2_{p_{1}p_{2}}^{h_{6}h_{7}}\n + 0.25 * \\Phi_{h_{7}h_{4}}^{p_{0}p_{1}}v_{h_{6}h_{5}}^{p_{2}p_{3}}t2_{p_{2}p_{0}}^{h_{4}h_{5}}t2_{p_{1}p_{3}}^{h_{6}h_{7}}\n + -0.125 * \\Phi_{h_{7}h_{4}}^{p_{0}p_{1}}v_{h_{6}h_{5}}^{p_{2}p_{3}}t2_{p_{3}p_{0}}^{h_{4}h_{5}}t2_{p_{1}p_{2}}^{h_{6}h_{7}}\n + 0.0625 * \\Phi_{h_{7}h_{4}}^{p_{0}p_{1}}v_{h_{5}h_{6}}^{p_{2}p_{3}}t2_{p_{2}p_{0}}^{h_{4}h_{5}}t2_{p_{3}p_{1}}^{h_{6}h_{7}}\n + -0.125 * \\Phi_{h_{7}h_{4}}^{p_{0}p_{1}}v_{h_{5}h_{6}}^{p_{2}p_{3}}t2_{p_{3}p_{0}}^{h_{4}h_{5}}t2_{p_{2}p_{1}}^{h_{6}h_{7}}\n + -0.125 * \\Phi_{h_{7}h_{4}}^{p_{0}p_{1}}v_{h_{6}h_{5}}^{p_{2}p_{3}}t2_{p_{2}p_{0}}^{h_{4}h_{5}}t2_{p_{3}p_{1}}^{h_{6}h_{7}}\n + 0.0625 * \\Phi_{h_{7}h_{4}}^{p_{0}p_{1}}v_{h_{6}h_{5}}^{p_{2}p_{3}}t2_{p_{3}p_{0}}^{h_{4}h_{5}}t2_{p_{2}p_{1}}^{h_{6}h_{7}}\n + -0.03125 * \\Phi_{h_{7}h_{4}}^{p_{0}p_{1}}v_{h_{5}h_{6}}^{p_{2}p_{3}}t2_{p_{1}p_{2}}^{h_{4}h_{5}}t2_{p_{0}p_{3}}^{h_{6}h_{7}}\n + 0.0625 * \\Phi_{h_{7}h_{4}}^{p_{0}p_{1}}v_{h_{5}h_{6}}^{p_{2}p_{3}}t2_{p_{1}p_{3}}^{h_{4}h_{5}}t2_{p_{0}p_{2}}^{h_{6}h_{7}}\n + 0.0625 * \\Phi_{h_{7}h_{4}}^{p_{0}p_{1}}v_{h_{6}h_{5}}^{p_{2}p_{3}}t2_{p_{1}p_{2}}^{h_{4}h_{5}}t2_{p_{0}p_{3}}^{h_{6}h_{7}}\n + -0.03125 * \\Phi_{h_{7}h_{4}}^{p_{0}p_{1}}v_{h_{6}h_{5}}^{p_{2}p_{3}}t2_{p_{1}p_{3}}^{h_{4}h_{5}}t2_{p_{0}p_{2}}^{h_{6}h_{7}}\n + 0.0625 * \\Phi_{h_{7}h_{4}}^{p_{0}p_{1}}v_{h_{5}h_{6}}^{p_{2}p_{3}}t2_{p_{2}p_{1}}^{h_{4}h_{5}}t2_{p_{0}p_{3}}^{h_{6}h_{7}}\n + -0.125 * \\Phi_{h_{7}h_{4}}^{p_{0}p_{1}}v_{h_{5}h_{6}}^{p_{2}p_{3}}t2_{p_{3}p_{1}}^{h_{4}h_{5}}t2_{p_{0}p_{2}}^{h_{6}h_{7}}\n + -0.125 * \\Phi_{h_{7}h_{4}}^{p_{0}p_{1}}v_{h_{6}h_{5}}^{p_{2}p_{3}}t2_{p_{2}p_{1}}^{h_{4}h_{5}}t2_{p_{0}p_{3}}^{h_{6}h_{7}}\n + 0.0625 * \\Phi_{h_{7}h_{4}}^{p_{0}p_{1}}v_{h_{6}h_{5}}^{p_{2}p_{3}}t2_{p_{3}p_{1}}^{h_{4}h_{5}}t2_{p_{0}p_{2}}^{h_{6}h_{7}}\n + -0.03125 * \\Phi_{h_{7}h_{4}}^{p_{0}p_{1}}v_{h_{5}h_{6}}^{p_{2}p_{3}}t2_{p_{2}p_{3}}^{h_{4}h_{5}}t2_{p_{0}p_{1}}^{h_{6}h_{7}}\n + 0.0625 * \\Phi_{h_{7}h_{4}}^{p_{0}p_{1}}v_{h_{5}h_{6}}^{p_{2}p_{3}}t2_{p_{3}p_{2}}^{h_{4}h_{5}}t2_{p_{0}p_{1}}^{h_{6}h_{7}}\n + 0.0625 * \\Phi_{h_{7}h_{4}}^{p_{0}p_{1}}v_{h_{6}h_{5}}^{p_{2}p_{3}}t2_{p_{2}p_{3}}^{h_{4}h_{5}}t2_{p_{0}p_{1}}^{h_{6}h_{7}}\n + -0.03125 * \\Phi_{h_{7}h_{4}}^{p_{0}p_{1}}v_{h_{6}h_{5}}^{p_{2}p_{3}}t2_{p_{3}p_{2}}^{h_{4}h_{5}}t2_{p_{0}p_{1}}^{h_{6}h_{7}}\n + 0.0625 * \\Phi_{h_{7}h_{4}}^{p_{0}p_{1}}v_{h_{5}h_{6}}^{p_{2}p_{3}}t2_{p_{1}p_{2}}^{h_{4}h_{5}}t2_{p_{3}p_{0}}^{h_{6}h_{7}}\n + -0.03125 * \\Phi_{h_{7}h_{4}}^{p_{0}p_{1}}v_{h_{5}h_{6}}^{p_{2}p_{3}}t2_{p_{1}p_{3}}^{h_{4}h_{5}}t2_{p_{2}p_{0}}^{h_{6}h_{7}}\n + -0.03125 * \\Phi_{h_{7}h_{4}}^{p_{0}p_{1}}v_{h_{6}h_{5}}^{p_{2}p_{3}}t2_{p_{1}p_{2}}^{h_{4}h_{5}}t2_{p_{3}p_{0}}^{h_{6}h_{7}}\n + 0.0625 * \\Phi_{h_{7}h_{4}}^{p_{0}p_{1}}v_{h_{6}h_{5}}^{p_{2}p_{3}}t2_{p_{1}p_{3}}^{h_{4}h_{5}}t2_{p_{2}p_{0}}^{h_{6}h_{7}}\n + -0.03125 * \\Phi_{h_{7}h_{4}}^{p_{0}p_{1}}v_{h_{5}h_{6}}^{p_{2}p_{3}}t2_{p_{2}p_{1}}^{h_{4}h_{5}}t2_{p_{3}p_{0}}^{h_{6}h_{7}}\n + 0.0625 * \\Phi_{h_{7}h_{4}}^{p_{0}p_{1}}v_{h_{5}h_{6}}^{p_{2}p_{3}}t2_{p_{3}p_{1}}^{h_{4}h_{5}}t2_{p_{2}p_{0}}^{h_{6}h_{7}}\n + 0.0625 * \\Phi_{h_{7}h_{4}}^{p_{0}p_{1}}v_{h_{6}h_{5}}^{p_{2}p_{3}}t2_{p_{2}p_{1}}^{h_{4}h_{5}}t2_{p_{3}p_{0}}^{h_{6}h_{7}}\n + -0.03125 * \\Phi_{h_{7}h_{4}}^{p_{0}p_{1}}v_{h_{6}h_{5}}^{p_{2}p_{3}}t2_{p_{3}p_{1}}^{h_{4}h_{5}}t2_{p_{2}p_{0}}^{h_{6}h_{7}}\n + 0.0625 * \\Phi_{h_{7}h_{4}}^{p_{0}p_{1}}v_{h_{5}h_{6}}^{p_{2}p_{3}}t2_{p_{2}p_{3}}^{h_{4}h_{5}}t2_{p_{1}p_{0}}^{h_{6}h_{7}}\n + -0.125 * \\Phi_{h_{7}h_{4}}^{p_{0}p_{1}}v_{h_{5}h_{6}}^{p_{2}p_{3}}t2_{p_{3}p_{2}}^{h_{4}h_{5}}t2_{p_{1}p_{0}}^{h_{6}h_{7}}\n + -0.125 * \\Phi_{h_{7}h_{4}}^{p_{0}p_{1}}v_{h_{6}h_{5}}^{p_{2}p_{3}}t2_{p_{2}p_{3}}^{h_{4}h_{5}}t2_{p_{1}p_{0}}^{h_{6}h_{7}}\n + 0.0625 * \\Phi_{h_{7}h_{4}}^{p_{0}p_{1}}v_{h_{6}h_{5}}^{p_{2}p_{3}}t2_{p_{3}p_{2}}^{h_{4}h_{5}}t2_{p_{1}p_{0}}^{h_{6}h_{7}}\n + 0.0625 * \\Phi_{h_{7}h_{5}}^{p_{0}p_{1}}v_{h_{4}h_{6}}^{p_{2}p_{3}}t2_{p_{0}p_{1}}^{h_{4}h_{5}}t2_{p_{2}p_{3}}^{h_{6}h_{7}}\n + -0.125 * \\Phi_{h_{7}h_{5}}^{p_{0}p_{1}}v_{h_{4}h_{6}}^{p_{2}p_{3}}t2_{p_{0}p_{1}}^{h_{4}h_{5}}t2_{p_{3}p_{2}}^{h_{6}h_{7}}\n + -0.125 * \\Phi_{h_{7}h_{5}}^{p_{0}p_{1}}v_{h_{6}h_{4}}^{p_{2}p_{3}}t2_{p_{0}p_{1}}^{h_{4}h_{5}}t2_{p_{2}p_{3}}^{h_{6}h_{7}}\n + 0.0625 * \\Phi_{h_{7}h_{5}}^{p_{0}p_{1}}v_{h_{6}h_{4}}^{p_{2}p_{3}}t2_{p_{0}p_{1}}^{h_{4}h_{5}}t2_{p_{3}p_{2}}^{h_{6}h_{7}}\n + -0.125 * \\Phi_{h_{7}h_{5}}^{p_{0}p_{1}}v_{h_{4}h_{6}}^{p_{2}p_{3}}t2_{p_{0}p_{2}}^{h_{4}h_{5}}t2_{p_{1}p_{3}}^{h_{6}h_{7}}\n + 0.25 * \\Phi_{h_{7}h_{5}}^{p_{0}p_{1}}v_{h_{4}h_{6}}^{p_{2}p_{3}}t2_{p_{0}p_{3}}^{h_{4}h_{5}}t2_{p_{1}p_{2}}^{h_{6}h_{7}}\n + 0.25 * \\Phi_{h_{7}h_{5}}^{p_{0}p_{1}}v_{h_{6}h_{4}}^{p_{2}p_{3}}t2_{p_{0}p_{2}}^{h_{4}h_{5}}t2_{p_{1}p_{3}}^{h_{6}h_{7}}\n + -0.125 * \\Phi_{h_{7}h_{5}}^{p_{0}p_{1}}v_{h_{6}h_{4}}^{p_{2}p_{3}}t2_{p_{0}p_{3}}^{h_{4}h_{5}}t2_{p_{1}p_{2}}^{h_{6}h_{7}}\n + 0.0625 * \\Phi_{h_{7}h_{5}}^{p_{0}p_{1}}v_{h_{4}h_{6}}^{p_{2}p_{3}}t2_{p_{0}p_{2}}^{h_{4}h_{5}}t2_{p_{3}p_{1}}^{h_{6}h_{7}}\n + -0.125 * \\Phi_{h_{7}h_{5}}^{p_{0}p_{1}}v_{h_{4}h_{6}}^{p_{2}p_{3}}t2_{p_{0}p_{3}}^{h_{4}h_{5}}t2_{p_{2}p_{1}}^{h_{6}h_{7}}\n + -0.125 * \\Phi_{h_{7}h_{5}}^{p_{0}p_{1}}v_{h_{6}h_{4}}^{p_{2}p_{3}}t2_{p_{0}p_{2}}^{h_{4}h_{5}}t2_{p_{3}p_{1}}^{h_{6}h_{7}}\n + 0.0625 * \\Phi_{h_{7}h_{5}}^{p_{0}p_{1}}v_{h_{6}h_{4}}^{p_{2}p_{3}}t2_{p_{0}p_{3}}^{h_{4}h_{5}}t2_{p_{2}p_{1}}^{h_{6}h_{7}}\n + -0.03125 * \\Phi_{h_{7}h_{5}}^{p_{0}p_{1}}v_{h_{4}h_{6}}^{p_{2}p_{3}}t2_{p_{1}p_{0}}^{h_{4}h_{5}}t2_{p_{2}p_{3}}^{h_{6}h_{7}}\n + 0.0625 * \\Phi_{h_{7}h_{5}}^{p_{0}p_{1}}v_{h_{4}h_{6}}^{p_{2}p_{3}}t2_{p_{1}p_{0}}^{h_{4}h_{5}}t2_{p_{3}p_{2}}^{h_{6}h_{7}}\n + 0.0625 * \\Phi_{h_{7}h_{5}}^{p_{0}p_{1}}v_{h_{6}h_{4}}^{p_{2}p_{3}}t2_{p_{1}p_{0}}^{h_{4}h_{5}}t2_{p_{2}p_{3}}^{h_{6}h_{7}}\n + -0.03125 * \\Phi_{h_{7}h_{5}}^{p_{0}p_{1}}v_{h_{6}h_{4}}^{p_{2}p_{3}}t2_{p_{1}p_{0}}^{h_{4}h_{5}}t2_{p_{3}p_{2}}^{h_{6}h_{7}}\n + 0.0625 * \\Phi_{h_{7}h_{5}}^{p_{0}p_{1}}v_{h_{4}h_{6}}^{p_{2}p_{3}}t2_{p_{2}p_{0}}^{h_{4}h_{5}}t2_{p_{1}p_{3}}^{h_{6}h_{7}}\n + -0.125 * \\Phi_{h_{7}h_{5}}^{p_{0}p_{1}}v_{h_{4}h_{6}}^{p_{2}p_{3}}t2_{p_{3}p_{0}}^{h_{4}h_{5}}t2_{p_{1}p_{2}}^{h_{6}h_{7}}\n + -0.125 * \\Phi_{h_{7}h_{5}}^{p_{0}p_{1}}v_{h_{6}h_{4}}^{p_{2}p_{3}}t2_{p_{2}p_{0}}^{h_{4}h_{5}}t2_{p_{1}p_{3}}^{h_{6}h_{7}}\n + 0.0625 * \\Phi_{h_{7}h_{5}}^{p_{0}p_{1}}v_{h_{6}h_{4}}^{p_{2}p_{3}}t2_{p_{3}p_{0}}^{h_{4}h_{5}}t2_{p_{1}p_{2}}^{h_{6}h_{7}}\n + -0.03125 * \\Phi_{h_{7}h_{5}}^{p_{0}p_{1}}v_{h_{4}h_{6}}^{p_{2}p_{3}}t2_{p_{2}p_{0}}^{h_{4}h_{5}}t2_{p_{3}p_{1}}^{h_{6}h_{7}}\n + 0.0625 * \\Phi_{h_{7}h_{5}}^{p_{0}p_{1}}v_{h_{4}h_{6}}^{p_{2}p_{3}}t2_{p_{3}p_{0}}^{h_{4}h_{5}}t2_{p_{2}p_{1}}^{h_{6}h_{7}}\n + 0.0625 * \\Phi_{h_{7}h_{5}}^{p_{0}p_{1}}v_{h_{6}h_{4}}^{p_{2}p_{3}}t2_{p_{2}p_{0}}^{h_{4}h_{5}}t2_{p_{3}p_{1}}^{h_{6}h_{7}}\n + -0.03125 * \\Phi_{h_{7}h_{5}}^{p_{0}p_{1}}v_{h_{6}h_{4}}^{p_{2}p_{3}}t2_{p_{3}p_{0}}^{h_{4}h_{5}}t2_{p_{2}p_{1}}^{h_{6}h_{7}}\n + 0.0625 * \\Phi_{h_{7}h_{5}}^{p_{0}p_{1}}v_{h_{4}h_{6}}^{p_{2}p_{3}}t2_{p_{1}p_{2}}^{h_{4}h_{5}}t2_{p_{0}p_{3}}^{h_{6}h_{7}}\n + -0.125 * \\Phi_{h_{7}h_{5}}^{p_{0}p_{1}}v_{h_{4}h_{6}}^{p_{2}p_{3}}t2_{p_{1}p_{3}}^{h_{4}h_{5}}t2_{p_{0}p_{2}}^{h_{6}h_{7}}\n + -0.125 * \\Phi_{h_{7}h_{5}}^{p_{0}p_{1}}v_{h_{6}h_{4}}^{p_{2}p_{3}}t2_{p_{1}p_{2}}^{h_{4}h_{5}}t2_{p_{0}p_{3}}^{h_{6}h_{7}}\n + 0.0625 * \\Phi_{h_{7}h_{5}}^{p_{0}p_{1}}v_{h_{6}h_{4}}^{p_{2}p_{3}}t2_{p_{1}p_{3}}^{h_{4}h_{5}}t2_{p_{0}p_{2}}^{h_{6}h_{7}}\n + -0.03125 * \\Phi_{h_{7}h_{5}}^{p_{0}p_{1}}v_{h_{4}h_{6}}^{p_{2}p_{3}}t2_{p_{2}p_{1}}^{h_{4}h_{5}}t2_{p_{0}p_{3}}^{h_{6}h_{7}}\n + 0.0625 * \\Phi_{h_{7}h_{5}}^{p_{0}p_{1}}v_{h_{4}h_{6}}^{p_{2}p_{3}}t2_{p_{3}p_{1}}^{h_{4}h_{5}}t2_{p_{0}p_{2}}^{h_{6}h_{7}}\n + 0.0625 * \\Phi_{h_{7}h_{5}}^{p_{0}p_{1}}v_{h_{6}h_{4}}^{p_{2}p_{3}}t2_{p_{2}p_{1}}^{h_{4}h_{5}}t2_{p_{0}p_{3}}^{h_{6}h_{7}}\n + -0.03125 * \\Phi_{h_{7}h_{5}}^{p_{0}p_{1}}v_{h_{6}h_{4}}^{p_{2}p_{3}}t2_{p_{3}p_{1}}^{h_{4}h_{5}}t2_{p_{0}p_{2}}^{h_{6}h_{7}}\n + 0.0625 * \\Phi_{h_{7}h_{5}}^{p_{0}p_{1}}v_{h_{4}h_{6}}^{p_{2}p_{3}}t2_{p_{2}p_{3}}^{h_{4}h_{5}}t2_{p_{0}p_{1}}^{h_{6}h_{7}}\n + -0.03125 * \\Phi_{h_{7}h_{5}}^{p_{0}p_{1}}v_{h_{4}h_{6}}^{p_{2}p_{3}}t2_{p_{3}p_{2}}^{h_{4}h_{5}}t2_{p_{0}p_{1}}^{h_{6}h_{7}}\n + -0.03125 * \\Phi_{h_{7}h_{5}}^{p_{0}p_{1}}v_{h_{6}h_{4}}^{p_{2}p_{3}}t2_{p_{2}p_{3}}^{h_{4}h_{5}}t2_{p_{0}p_{1}}^{h_{6}h_{7}}\n + 0.0625 * \\Phi_{h_{7}h_{5}}^{p_{0}p_{1}}v_{h_{6}h_{4}}^{p_{2}p_{3}}t2_{p_{3}p_{2}}^{h_{4}h_{5}}t2_{p_{0}p_{1}}^{h_{6}h_{7}}\n + -0.03125 * \\Phi_{h_{7}h_{5}}^{p_{0}p_{1}}v_{h_{4}h_{6}}^{p_{2}p_{3}}t2_{p_{1}p_{2}}^{h_{4}h_{5}}t2_{p_{3}p_{0}}^{h_{6}h_{7}}\n + 0.0625 * \\Phi_{h_{7}h_{5}}^{p_{0}p_{1}}v_{h_{4}h_{6}}^{p_{2}p_{3}}t2_{p_{1}p_{3}}^{h_{4}h_{5}}t2_{p_{2}p_{0}}^{h_{6}h_{7}}\n + 0.0625 * \\Phi_{h_{7}h_{5}}^{p_{0}p_{1}}v_{h_{6}h_{4}}^{p_{2}p_{3}}t2_{p_{1}p_{2}}^{h_{4}h_{5}}t2_{p_{3}p_{0}}^{h_{6}h_{7}}\n + -0.03125 * \\Phi_{h_{7}h_{5}}^{p_{0}p_{1}}v_{h_{6}h_{4}}^{p_{2}p_{3}}t2_{p_{1}p_{3}}^{h_{4}h_{5}}t2_{p_{2}p_{0}}^{h_{6}h_{7}}\n + 0.0625 * \\Phi_{h_{7}h_{5}}^{p_{0}p_{1}}v_{h_{4}h_{6}}^{p_{2}p_{3}}t2_{p_{2}p_{1}}^{h_{4}h_{5}}t2_{p_{3}p_{0}}^{h_{6}h_{7}}\n + -0.03125 * \\Phi_{h_{7}h_{5}}^{p_{0}p_{1}}v_{h_{4}h_{6}}^{p_{2}p_{3}}t2_{p_{3}p_{1}}^{h_{4}h_{5}}t2_{p_{2}p_{0}}^{h_{6}h_{7}}\n + -0.03125 * \\Phi_{h_{7}h_{5}}^{p_{0}p_{1}}v_{h_{6}h_{4}}^{p_{2}p_{3}}t2_{p_{2}p_{1}}^{h_{4}h_{5}}t2_{p_{3}p_{0}}^{h_{6}h_{7}}\n + 0.0625 * \\Phi_{h_{7}h_{5}}^{p_{0}p_{1}}v_{h_{6}h_{4}}^{p_{2}p_{3}}t2_{p_{3}p_{1}}^{h_{4}h_{5}}t2_{p_{2}p_{0}}^{h_{6}h_{7}}\n + -0.125 * \\Phi_{h_{7}h_{5}}^{p_{0}p_{1}}v_{h_{4}h_{6}}^{p_{2}p_{3}}t2_{p_{2}p_{3}}^{h_{4}h_{5}}t2_{p_{1}p_{0}}^{h_{6}h_{7}}\n + 0.0625 * \\Phi_{h_{7}h_{5}}^{p_{0}p_{1}}v_{h_{4}h_{6}}^{p_{2}p_{3}}t2_{p_{3}p_{2}}^{h_{4}h_{5}}t2_{p_{1}p_{0}}^{h_{6}h_{7}}\n + 0.0625 * \\Phi_{h_{7}h_{5}}^{p_{0}p_{1}}v_{h_{6}h_{4}}^{p_{2}p_{3}}t2_{p_{2}p_{3}}^{h_{4}h_{5}}t2_{p_{1}p_{0}}^{h_{6}h_{7}}\n + -0.125 * \\Phi_{h_{7}h_{5}}^{p_{0}p_{1}}v_{h_{6}h_{4}}^{p_{2}p_{3}}t2_{p_{3}p_{2}}^{h_{4}h_{5}}t2_{p_{1}p_{0}}^{h_{6}h_{7}}\n + -0.03125 * \\Phi_{h_{7}h_{6}}^{p_{0}p_{1}}v_{h_{4}h_{5}}^{p_{2}p_{3}}t2_{p_{0}p_{1}}^{h_{4}h_{5}}t2_{p_{2}p_{3}}^{h_{6}h_{7}}\n + 0.0625 * \\Phi_{h_{7}h_{6}}^{p_{0}p_{1}}v_{h_{4}h_{5}}^{p_{2}p_{3}}t2_{p_{0}p_{1}}^{h_{4}h_{5}}t2_{p_{3}p_{2}}^{h_{6}h_{7}}\n + 0.0625 * \\Phi_{h_{7}h_{6}}^{p_{0}p_{1}}v_{h_{5}h_{4}}^{p_{2}p_{3}}t2_{p_{0}p_{1}}^{h_{4}h_{5}}t2_{p_{2}p_{3}}^{h_{6}h_{7}}\n + -0.03125 * \\Phi_{h_{7}h_{6}}^{p_{0}p_{1}}v_{h_{5}h_{4}}^{p_{2}p_{3}}t2_{p_{0}p_{1}}^{h_{4}h_{5}}t2_{p_{3}p_{2}}^{h_{6}h_{7}}\n + 0.0625 * \\Phi_{h_{7}h_{6}}^{p_{0}p_{1}}v_{h_{4}h_{5}}^{p_{2}p_{3}}t2_{p_{0}p_{2}}^{h_{4}h_{5}}t2_{p_{1}p_{3}}^{h_{6}h_{7}}\n + -0.125 * \\Phi_{h_{7}h_{6}}^{p_{0}p_{1}}v_{h_{4}h_{5}}^{p_{2}p_{3}}t2_{p_{0}p_{3}}^{h_{4}h_{5}}t2_{p_{1}p_{2}}^{h_{6}h_{7}}\n + -0.125 * \\Phi_{h_{7}h_{6}}^{p_{0}p_{1}}v_{h_{5}h_{4}}^{p_{2}p_{3}}t2_{p_{0}p_{2}}^{h_{4}h_{5}}t2_{p_{1}p_{3}}^{h_{6}h_{7}}\n + 0.0625 * \\Phi_{h_{7}h_{6}}^{p_{0}p_{1}}v_{h_{5}h_{4}}^{p_{2}p_{3}}t2_{p_{0}p_{3}}^{h_{4}h_{5}}t2_{p_{1}p_{2}}^{h_{6}h_{7}}\n + -0.03125 * \\Phi_{h_{7}h_{6}}^{p_{0}p_{1}}v_{h_{4}h_{5}}^{p_{2}p_{3}}t2_{p_{0}p_{2}}^{h_{4}h_{5}}t2_{p_{3}p_{1}}^{h_{6}h_{7}}\n + 0.0625 * \\Phi_{h_{7}h_{6}}^{p_{0}p_{1}}v_{h_{4}h_{5}}^{p_{2}p_{3}}t2_{p_{0}p_{3}}^{h_{4}h_{5}}t2_{p_{2}p_{1}}^{h_{6}h_{7}}\n + 0.0625 * \\Phi_{h_{7}h_{6}}^{p_{0}p_{1}}v_{h_{5}h_{4}}^{p_{2}p_{3}}t2_{p_{0}p_{2}}^{h_{4}h_{5}}t2_{p_{3}p_{1}}^{h_{6}h_{7}}\n + -0.03125 * \\Phi_{h_{7}h_{6}}^{p_{0}p_{1}}v_{h_{5}h_{4}}^{p_{2}p_{3}}t2_{p_{0}p_{3}}^{h_{4}h_{5}}t2_{p_{2}p_{1}}^{h_{6}h_{7}}\n + 0.0625 * \\Phi_{h_{7}h_{6}}^{p_{0}p_{1}}v_{h_{4}h_{5}}^{p_{2}p_{3}}t2_{p_{1}p_{0}}^{h_{4}h_{5}}t2_{p_{2}p_{3}}^{h_{6}h_{7}}\n + -0.03125 * \\Phi_{h_{7}h_{6}}^{p_{0}p_{1}}v_{h_{4}h_{5}}^{p_{2}p_{3}}t2_{p_{1}p_{0}}^{h_{4}h_{5}}t2_{p_{3}p_{2}}^{h_{6}h_{7}}\n + -0.03125 * \\Phi_{h_{7}h_{6}}^{p_{0}p_{1}}v_{h_{5}h_{4}}^{p_{2}p_{3}}t2_{p_{1}p_{0}}^{h_{4}h_{5}}t2_{p_{2}p_{3}}^{h_{6}h_{7}}\n + 0.0625 * \\Phi_{h_{7}h_{6}}^{p_{0}p_{1}}v_{h_{5}h_{4}}^{p_{2}p_{3}}t2_{p_{1}p_{0}}^{h_{4}h_{5}}t2_{p_{3}p_{2}}^{h_{6}h_{7}}\n + -0.125 * \\Phi_{h_{7}h_{6}}^{p_{0}p_{1}}v_{h_{4}h_{5}}^{p_{2}p_{3}}t2_{p_{2}p_{0}}^{h_{4}h_{5}}t2_{p_{1}p_{3}}^{h_{6}h_{7}}\n + 0.0625 * \\Phi_{h_{7}h_{6}}^{p_{0}p_{1}}v_{h_{4}h_{5}}^{p_{2}p_{3}}t2_{p_{3}p_{0}}^{h_{4}h_{5}}t2_{p_{1}p_{2}}^{h_{6}h_{7}}\n + 0.0625 * \\Phi_{h_{7}h_{6}}^{p_{0}p_{1}}v_{h_{5}h_{4}}^{p_{2}p_{3}}t2_{p_{2}p_{0}}^{h_{4}h_{5}}t2_{p_{1}p_{3}}^{h_{6}h_{7}}\n + -0.125 * \\Phi_{h_{7}h_{6}}^{p_{0}p_{1}}v_{h_{5}h_{4}}^{p_{2}p_{3}}t2_{p_{3}p_{0}}^{h_{4}h_{5}}t2_{p_{1}p_{2}}^{h_{6}h_{7}}\n + 0.0625 * \\Phi_{h_{7}h_{6}}^{p_{0}p_{1}}v_{h_{4}h_{5}}^{p_{2}p_{3}}t2_{p_{2}p_{0}}^{h_{4}h_{5}}t2_{p_{3}p_{1}}^{h_{6}h_{7}}\n + -0.03125 * \\Phi_{h_{7}h_{6}}^{p_{0}p_{1}}v_{h_{4}h_{5}}^{p_{2}p_{3}}t2_{p_{3}p_{0}}^{h_{4}h_{5}}t2_{p_{2}p_{1}}^{h_{6}h_{7}}\n + -0.03125 * \\Phi_{h_{7}h_{6}}^{p_{0}p_{1}}v_{h_{5}h_{4}}^{p_{2}p_{3}}t2_{p_{2}p_{0}}^{h_{4}h_{5}}t2_{p_{3}p_{1}}^{h_{6}h_{7}}\n + 0.0625 * \\Phi_{h_{7}h_{6}}^{p_{0}p_{1}}v_{h_{5}h_{4}}^{p_{2}p_{3}}t2_{p_{3}p_{0}}^{h_{4}h_{5}}t2_{p_{2}p_{1}}^{h_{6}h_{7}}\n + -0.03125 * \\Phi_{h_{7}h_{6}}^{p_{0}p_{1}}v_{h_{4}h_{5}}^{p_{2}p_{3}}t2_{p_{1}p_{2}}^{h_{4}h_{5}}t2_{p_{0}p_{3}}^{h_{6}h_{7}}\n + 0.0625 * \\Phi_{h_{7}h_{6}}^{p_{0}p_{1}}v_{h_{4}h_{5}}^{p_{2}p_{3}}t2_{p_{1}p_{3}}^{h_{4}h_{5}}t2_{p_{0}p_{2}}^{h_{6}h_{7}}\n + 0.0625 * \\Phi_{h_{7}h_{6}}^{p_{0}p_{1}}v_{h_{5}h_{4}}^{p_{2}p_{3}}t2_{p_{1}p_{2}}^{h_{4}h_{5}}t2_{p_{0}p_{3}}^{h_{6}h_{7}}\n + -0.03125 * \\Phi_{h_{7}h_{6}}^{p_{0}p_{1}}v_{h_{5}h_{4}}^{p_{2}p_{3}}t2_{p_{1}p_{3}}^{h_{4}h_{5}}t2_{p_{0}p_{2}}^{h_{6}h_{7}}\n + 0.0625 * \\Phi_{h_{7}h_{6}}^{p_{0}p_{1}}v_{h_{4}h_{5}}^{p_{2}p_{3}}t2_{p_{2}p_{1}}^{h_{4}h_{5}}t2_{p_{0}p_{3}}^{h_{6}h_{7}}\n + -0.03125 * \\Phi_{h_{7}h_{6}}^{p_{0}p_{1}}v_{h_{4}h_{5}}^{p_{2}p_{3}}t2_{p_{3}p_{1}}^{h_{4}h_{5}}t2_{p_{0}p_{2}}^{h_{6}h_{7}}\n + -0.03125 * \\Phi_{h_{7}h_{6}}^{p_{0}p_{1}}v_{h_{5}h_{4}}^{p_{2}p_{3}}t2_{p_{2}p_{1}}^{h_{4}h_{5}}t2_{p_{0}p_{3}}^{h_{6}h_{7}}\n + 0.0625 * \\Phi_{h_{7}h_{6}}^{p_{0}p_{1}}v_{h_{5}h_{4}}^{p_{2}p_{3}}t2_{p_{3}p_{1}}^{h_{4}h_{5}}t2_{p_{0}p_{2}}^{h_{6}h_{7}}\n + -0.125 * \\Phi_{h_{7}h_{6}}^{p_{0}p_{1}}v_{h_{4}h_{5}}^{p_{2}p_{3}}t2_{p_{2}p_{3}}^{h_{4}h_{5}}t2_{p_{0}p_{1}}^{h_{6}h_{7}}\n + 0.0625 * \\Phi_{h_{7}h_{6}}^{p_{0}p_{1}}v_{h_{4}h_{5}}^{p_{2}p_{3}}t2_{p_{3}p_{2}}^{h_{4}h_{5}}t2_{p_{0}p_{1}}^{h_{6}h_{7}}\n + 0.0625 * \\Phi_{h_{7}h_{6}}^{p_{0}p_{1}}v_{h_{5}h_{4}}^{p_{2}p_{3}}t2_{p_{2}p_{3}}^{h_{4}h_{5}}t2_{p_{0}p_{1}}^{h_{6}h_{7}}\n + -0.125 * \\Phi_{h_{7}h_{6}}^{p_{0}p_{1}}v_{h_{5}h_{4}}^{p_{2}p_{3}}t2_{p_{3}p_{2}}^{h_{4}h_{5}}t2_{p_{0}p_{1}}^{h_{6}h_{7}}\n + 0.0625 * \\Phi_{h_{7}h_{6}}^{p_{0}p_{1}}v_{h_{4}h_{5}}^{p_{2}p_{3}}t2_{p_{1}p_{2}}^{h_{4}h_{5}}t2_{p_{3}p_{0}}^{h_{6}h_{7}}\n + -0.125 * \\Phi_{h_{7}h_{6}}^{p_{0}p_{1}}v_{h_{4}h_{5}}^{p_{2}p_{3}}t2_{p_{1}p_{3}}^{h_{4}h_{5}}t2_{p_{2}p_{0}}^{h_{6}h_{7}}\n + -0.125 * \\Phi_{h_{7}h_{6}}^{p_{0}p_{1}}v_{h_{5}h_{4}}^{p_{2}p_{3}}t2_{p_{1}p_{2}}^{h_{4}h_{5}}t2_{p_{3}p_{0}}^{h_{6}h_{7}}\n + 0.0625 * \\Phi_{h_{7}h_{6}}^{p_{0}p_{1}}v_{h_{5}h_{4}}^{p_{2}p_{3}}t2_{p_{1}p_{3}}^{h_{4}h_{5}}t2_{p_{2}p_{0}}^{h_{6}h_{7}}\n + -0.125 * \\Phi_{h_{7}h_{6}}^{p_{0}p_{1}}v_{h_{4}h_{5}}^{p_{2}p_{3}}t2_{p_{2}p_{1}}^{h_{4}h_{5}}t2_{p_{3}p_{0}}^{h_{6}h_{7}}\n + 0.0625 * \\Phi_{h_{7}h_{6}}^{p_{0}p_{1}}v_{h_{4}h_{5}}^{p_{2}p_{3}}t2_{p_{3}p_{1}}^{h_{4}h_{5}}t2_{p_{2}p_{0}}^{h_{6}h_{7}}\n + 0.0625 * \\Phi_{h_{7}h_{6}}^{p_{0}p_{1}}v_{h_{5}h_{4}}^{p_{2}p_{3}}t2_{p_{2}p_{1}}^{h_{4}h_{5}}t2_{p_{3}p_{0}}^{h_{6}h_{7}}\n + -0.125 * \\Phi_{h_{7}h_{6}}^{p_{0}p_{1}}v_{h_{5}h_{4}}^{p_{2}p_{3}}t2_{p_{3}p_{1}}^{h_{4}h_{5}}t2_{p_{2}p_{0}}^{h_{6}h_{7}}\n + 0.25 * \\Phi_{h_{7}h_{6}}^{p_{0}p_{1}}v_{h_{4}h_{5}}^{p_{2}p_{3}}t2_{p_{2}p_{3}}^{h_{4}h_{5}}t2_{p_{1}p_{0}}^{h_{6}h_{7}}\n + -0.125 * \\Phi_{h_{7}h_{6}}^{p_{0}p_{1}}v_{h_{4}h_{5}}^{p_{2}p_{3}}t2_{p_{3}p_{2}}^{h_{4}h_{5}}t2_{p_{1}p_{0}}^{h_{6}h_{7}}\n + -0.125 * \\Phi_{h_{7}h_{6}}^{p_{0}p_{1}}v_{h_{5}h_{4}}^{p_{2}p_{3}}t2_{p_{2}p_{3}}^{h_{4}h_{5}}t2_{p_{1}p_{0}}^{h_{6}h_{7}}\n + 0.25 * \\Phi_{h_{7}h_{6}}^{p_{0}p_{1}}v_{h_{5}h_{4}}^{p_{2}p_{3}}t2_{p_{3}p_{2}}^{h_{4}h_{5}}t2_{p_{1}p_{0}}^{h_{6}h_{7}}\n + -0.25 * \\Phi_{h_{2}h_{3}}^{p_{0}p_{1}}t2_{p_{0}p_{1}}^{h_{2}h_{3}}v_{h_{6}h_{7}}^{p_{4}p_{5}}t2_{p_{4}p_{5}}^{h_{6}h_{7}}\n + 0.125 * \\Phi_{h_{2}h_{3}}^{p_{0}p_{1}}t2_{p_{0}p_{1}}^{h_{2}h_{3}}v_{h_{6}h_{7}}^{p_{4}p_{5}}t2_{p_{5}p_{4}}^{h_{6}h_{7}}\n + 0.125 * \\Phi_{h_{2}h_{3}}^{p_{0}p_{1}}t2_{p_{0}p_{1}}^{h_{2}h_{3}}v_{h_{7}h_{6}}^{p_{4}p_{5}}t2_{p_{4}p_{5}}^{h_{6}h_{7}}\n + -0.25 * \\Phi_{h_{2}h_{3}}^{p_{0}p_{1}}t2_{p_{0}p_{1}}^{h_{2}h_{3}}v_{h_{7}h_{6}}^{p_{4}p_{5}}t2_{p_{5}p_{4}}^{h_{6}h_{7}}\n + 0.125 * \\Phi_{h_{2}h_{3}}^{p_{0}p_{1}}t2_{p_{1}p_{0}}^{h_{2}h_{3}}v_{h_{6}h_{7}}^{p_{4}p_{5}}t2_{p_{4}p_{5}}^{h_{6}h_{7}}\n + -0.0625 * \\Phi_{h_{2}h_{3}}^{p_{0}p_{1}}t2_{p_{1}p_{0}}^{h_{2}h_{3}}v_{h_{6}h_{7}}^{p_{4}p_{5}}t2_{p_{5}p_{4}}^{h_{6}h_{7}}\n + -0.0625 * \\Phi_{h_{2}h_{3}}^{p_{0}p_{1}}t2_{p_{1}p_{0}}^{h_{2}h_{3}}v_{h_{7}h_{6}}^{p_{4}p_{5}}t2_{p_{4}p_{5}}^{h_{6}h_{7}}\n + 0.125 * \\Phi_{h_{2}h_{3}}^{p_{0}p_{1}}t2_{p_{1}p_{0}}^{h_{2}h_{3}}v_{h_{7}h_{6}}^{p_{4}p_{5}}t2_{p_{5}p_{4}}^{h_{6}h_{7}}\n + 0.125 * \\Phi_{h_{3}h_{2}}^{p_{0}p_{1}}t2_{p_{0}p_{1}}^{h_{2}h_{3}}v_{h_{6}h_{7}}^{p_{4}p_{5}}t2_{p_{4}p_{5}}^{h_{6}h_{7}}\n + -0.0625 * \\Phi_{h_{3}h_{2}}^{p_{0}p_{1}}t2_{p_{0}p_{1}}^{h_{2}h_{3}}v_{h_{6}h_{7}}^{p_{4}p_{5}}t2_{p_{5}p_{4}}^{h_{6}h_{7}}\n + -0.0625 * \\Phi_{h_{3}h_{2}}^{p_{0}p_{1}}t2_{p_{0}p_{1}}^{h_{2}h_{3}}v_{h_{7}h_{6}}^{p_{4}p_{5}}t2_{p_{4}p_{5}}^{h_{6}h_{7}}\n + 0.125 * \\Phi_{h_{3}h_{2}}^{p_{0}p_{1}}t2_{p_{0}p_{1}}^{h_{2}h_{3}}v_{h_{7}h_{6}}^{p_{4}p_{5}}t2_{p_{5}p_{4}}^{h_{6}h_{7}}\n + -0.25 * \\Phi_{h_{3}h_{2}}^{p_{0}p_{1}}t2_{p_{1}p_{0}}^{h_{2}h_{3}}v_{h_{6}h_{7}}^{p_{4}p_{5}}t2_{p_{4}p_{5}}^{h_{6}h_{7}}\n + 0.125 * \\Phi_{h_{3}h_{2}}^{p_{0}p_{1}}t2_{p_{1}p_{0}}^{h_{2}h_{3}}v_{h_{6}h_{7}}^{p_{4}p_{5}}t2_{p_{5}p_{4}}^{h_{6}h_{7}}\n + 0.125 * \\Phi_{h_{3}h_{2}}^{p_{0}p_{1}}t2_{p_{1}p_{0}}^{h_{2}h_{3}}v_{h_{7}h_{6}}^{p_{4}p_{5}}t2_{p_{4}p_{5}}^{h_{6}h_{7}}\n + -0.25 * \\Phi_{h_{3}h_{2}}^{p_{0}p_{1}}t2_{p_{1}p_{0}}^{h_{2}h_{3}}v_{h_{7}h_{6}}^{p_{4}p_{5}}t2_{p_{5}p_{4}}^{h_{6}h_{7}}\n + -0.25 * \\Phi_{h_{2}h_{3}}^{p_{0}p_{1}}t2_{p_{0}p_{1}}^{h_{2}h_{3}}v_{h_{6}h_{7}}^{p_{4}p_{5}}t2_{p_{4}p_{5}}^{h_{6}h_{7}}\n + 0.125 * \\Phi_{h_{2}h_{3}}^{p_{0}p_{1}}t2_{p_{0}p_{1}}^{h_{2}h_{3}}v_{h_{6}h_{7}}^{p_{4}p_{5}}t2_{p_{5}p_{4}}^{h_{6}h_{7}}\n + 0.125 * \\Phi_{h_{2}h_{3}}^{p_{0}p_{1}}t2_{p_{0}p_{1}}^{h_{2}h_{3}}v_{h_{7}h_{6}}^{p_{4}p_{5}}t2_{p_{4}p_{5}}^{h_{6}h_{7}}\n + -0.25 * \\Phi_{h_{2}h_{3}}^{p_{0}p_{1}}t2_{p_{0}p_{1}}^{h_{2}h_{3}}v_{h_{7}h_{6}}^{p_{4}p_{5}}t2_{p_{5}p_{4}}^{h_{6}h_{7}}\n + 0.125 * \\Phi_{h_{2}h_{3}}^{p_{0}p_{1}}t2_{p_{1}p_{0}}^{h_{2}h_{3}}v_{h_{6}h_{7}}^{p_{4}p_{5}}t2_{p_{4}p_{5}}^{h_{6}h_{7}}\n + -0.0625 * \\Phi_{h_{2}h_{3}}^{p_{0}p_{1}}t2_{p_{1}p_{0}}^{h_{2}h_{3}}v_{h_{6}h_{7}}^{p_{4}p_{5}}t2_{p_{5}p_{4}}^{h_{6}h_{7}}\n + -0.0625 * \\Phi_{h_{2}h_{3}}^{p_{0}p_{1}}t2_{p_{1}p_{0}}^{h_{2}h_{3}}v_{h_{7}h_{6}}^{p_{4}p_{5}}t2_{p_{4}p_{5}}^{h_{6}h_{7}}\n + 0.125 * \\Phi_{h_{2}h_{3}}^{p_{0}p_{1}}t2_{p_{1}p_{0}}^{h_{2}h_{3}}v_{h_{7}h_{6}}^{p_{4}p_{5}}t2_{p_{5}p_{4}}^{h_{6}h_{7}}\n + 0.125 * \\Phi_{h_{3}h_{2}}^{p_{0}p_{1}}t2_{p_{0}p_{1}}^{h_{2}h_{3}}v_{h_{6}h_{7}}^{p_{4}p_{5}}t2_{p_{4}p_{5}}^{h_{6}h_{7}}\n + -0.0625 * \\Phi_{h_{3}h_{2}}^{p_{0}p_{1}}t2_{p_{0}p_{1}}^{h_{2}h_{3}}v_{h_{6}h_{7}}^{p_{4}p_{5}}t2_{p_{5}p_{4}}^{h_{6}h_{7}}\n + -0.0625 * \\Phi_{h_{3}h_{2}}^{p_{0}p_{1}}t2_{p_{0}p_{1}}^{h_{2}h_{3}}v_{h_{7}h_{6}}^{p_{4}p_{5}}t2_{p_{4}p_{5}}^{h_{6}h_{7}}\n + 0.125 * \\Phi_{h_{3}h_{2}}^{p_{0}p_{1}}t2_{p_{0}p_{1}}^{h_{2}h_{3}}v_{h_{7}h_{6}}^{p_{4}p_{5}}t2_{p_{5}p_{4}}^{h_{6}h_{7}}\n + -0.25 * \\Phi_{h_{3}h_{2}}^{p_{0}p_{1}}t2_{p_{1}p_{0}}^{h_{2}h_{3}}v_{h_{6}h_{7}}^{p_{4}p_{5}}t2_{p_{4}p_{5}}^{h_{6}h_{7}}\n + 0.125 * \\Phi_{h_{3}h_{2}}^{p_{0}p_{1}}t2_{p_{1}p_{0}}^{h_{2}h_{3}}v_{h_{6}h_{7}}^{p_{4}p_{5}}t2_{p_{5}p_{4}}^{h_{6}h_{7}}\n + 0.125 * \\Phi_{h_{3}h_{2}}^{p_{0}p_{1}}t2_{p_{1}p_{0}}^{h_{2}h_{3}}v_{h_{7}h_{6}}^{p_{4}p_{5}}t2_{p_{4}p_{5}}^{h_{6}h_{7}}\n + -0.25 * \\Phi_{h_{3}h_{2}}^{p_{0}p_{1}}t2_{p_{1}p_{0}}^{h_{2}h_{3}}v_{h_{7}h_{6}}^{p_{4}p_{5}}t2_{p_{5}p_{4}}^{h_{6}h_{7}}\n"
     ]
    }
   ],
   "source": [
    "time0 = time.time()\n",
    "CCDDoublesResidual = evaluateWick(projectionManifold(2) *  transformH)\n",
    "time1 = time.time()\n",
    "print(time1-time0)\n",
    "print(CCDDoublesResidual)"
   ]
  },
  {
   "cell_type": "code",
   "execution_count": 111,
   "metadata": {},
   "outputs": [
    {
     "output_type": "stream",
     "name": "stdout",
     "text": [
      "4724.987857120001\n"
     ]
    }
   ],
   "source": [
    "print(time1-time0)"
   ]
  },
  {
   "cell_type": "code",
   "execution_count": 112,
   "metadata": {},
   "outputs": [
    {
     "output_type": "stream",
     "name": "stdout",
     "text": [
      "-0.5 * \\Phi_{h_{2}h_{3}}^{p_{0}p_{1}}f_{p_{0}}^{p_{3}}t2_{p_{1}p_{3}}^{h_{2}h_{3}}\n + 1.0 * \\Phi_{h_{2}h_{3}}^{p_{0}p_{1}}f_{p_{0}}^{p_{3}}t2_{p_{3}p_{1}}^{h_{2}h_{3}}\n + 1.0 * \\Phi_{h_{2}h_{3}}^{p_{0}p_{1}}f_{p_{1}}^{p_{3}}t2_{p_{0}p_{3}}^{h_{2}h_{3}}\n + 0.0 * \\Phi_{h_{0}h_{1}}^{p_{0}p_{1}}f_{p_{2}}^{p_{3}}t2_{p_{4}p_{5}}^{h_{2}h_{3}}\n + -0.5 * \\Phi_{h_{2}h_{3}}^{p_{0}p_{1}}f_{p_{1}}^{p_{3}}t2_{p_{3}p_{0}}^{h_{2}h_{3}}\n + 1.0 * \\Phi_{h_{3}h_{2}}^{p_{0}p_{1}}f_{p_{0}}^{p_{3}}t2_{p_{1}p_{3}}^{h_{2}h_{3}}\n + -0.5 * \\Phi_{h_{3}h_{2}}^{p_{0}p_{1}}f_{p_{0}}^{p_{3}}t2_{p_{3}p_{1}}^{h_{2}h_{3}}\n + -0.5 * \\Phi_{h_{3}h_{2}}^{p_{0}p_{1}}f_{p_{1}}^{p_{3}}t2_{p_{0}p_{3}}^{h_{2}h_{3}}\n + 1.0 * \\Phi_{h_{3}h_{2}}^{p_{0}p_{1}}f_{p_{1}}^{p_{3}}t2_{p_{3}p_{0}}^{h_{2}h_{3}}\n + 0.5 * \\Phi_{h_{3}h_{4}}^{p_{0}p_{1}}f_{h_{5}}^{h_{3}}t2_{p_{0}p_{1}}^{h_{4}h_{5}}\n + -1.0 * \\Phi_{h_{3}h_{4}}^{p_{0}p_{1}}f_{h_{5}}^{h_{3}}t2_{p_{1}p_{0}}^{h_{4}h_{5}}\n + -1.0 * \\Phi_{h_{3}h_{5}}^{p_{0}p_{1}}f_{h_{4}}^{h_{3}}t2_{p_{0}p_{1}}^{h_{4}h_{5}}\n + 0.5 * \\Phi_{h_{3}h_{5}}^{p_{0}p_{1}}f_{h_{4}}^{h_{3}}t2_{p_{1}p_{0}}^{h_{4}h_{5}}\n + -1.0 * \\Phi_{h_{4}h_{3}}^{p_{0}p_{1}}f_{h_{5}}^{h_{3}}t2_{p_{0}p_{1}}^{h_{4}h_{5}}\n + 0.5 * \\Phi_{h_{4}h_{3}}^{p_{0}p_{1}}f_{h_{5}}^{h_{3}}t2_{p_{1}p_{0}}^{h_{4}h_{5}}\n + 2.0 * \\Phi_{h_{4}h_{5}}^{p_{0}p_{1}}f_{h_{3}}^{h_{3}}t2_{p_{0}p_{1}}^{h_{4}h_{5}}\n + -1.0 * \\Phi_{h_{4}h_{5}}^{p_{0}p_{1}}f_{h_{3}}^{h_{3}}t2_{p_{1}p_{0}}^{h_{4}h_{5}}\n + 0.5 * \\Phi_{h_{5}h_{3}}^{p_{0}p_{1}}f_{h_{4}}^{h_{3}}t2_{p_{0}p_{1}}^{h_{4}h_{5}}\n + -1.0 * \\Phi_{h_{5}h_{3}}^{p_{0}p_{1}}f_{h_{4}}^{h_{3}}t2_{p_{1}p_{0}}^{h_{4}h_{5}}\n + -1.0 * \\Phi_{h_{5}h_{4}}^{p_{0}p_{1}}f_{h_{3}}^{h_{3}}t2_{p_{0}p_{1}}^{h_{4}h_{5}}\n + 2.0 * \\Phi_{h_{5}h_{4}}^{p_{0}p_{1}}f_{h_{3}}^{h_{3}}t2_{p_{1}p_{0}}^{h_{4}h_{5}}\n + -2.0 * \\Phi_{h_{2}h_{3}}^{p_{0}p_{1}}t2_{p_{0}p_{1}}^{h_{2}h_{3}}f_{h_{5}}^{h_{5}}\n + 1.0 * \\Phi_{h_{2}h_{3}}^{p_{0}p_{1}}t2_{p_{1}p_{0}}^{h_{2}h_{3}}f_{h_{5}}^{h_{5}}\n + 1.0 * \\Phi_{h_{3}h_{2}}^{p_{0}p_{1}}t2_{p_{0}p_{1}}^{h_{2}h_{3}}f_{h_{5}}^{h_{5}}\n + -2.0 * \\Phi_{h_{3}h_{2}}^{p_{0}p_{1}}t2_{p_{1}p_{0}}^{h_{2}h_{3}}f_{h_{5}}^{h_{5}}\n + -0.0 * \\Phi_{h_{0}h_{1}}^{p_{0}p_{1}}t2_{p_{2}p_{3}}^{h_{2}h_{3}}f_{h_{4}}^{h_{5}}\n + -0.25 * \\Phi_{h_{2}h_{3}}^{p_{0}p_{1}}v_{p_{0}p_{1}}^{p_{4}p_{5}}t2_{p_{4}p_{5}}^{h_{2}h_{3}}\n + 0.5 * \\Phi_{h_{2}h_{3}}^{p_{0}p_{1}}v_{p_{0}p_{1}}^{p_{4}p_{5}}t2_{p_{5}p_{4}}^{h_{2}h_{3}}\n + 0.5 * \\Phi_{h_{2}h_{3}}^{p_{0}p_{1}}v_{p_{1}p_{0}}^{p_{4}p_{5}}t2_{p_{4}p_{5}}^{h_{2}h_{3}}\n + -0.25 * \\Phi_{h_{2}h_{3}}^{p_{0}p_{1}}v_{p_{1}p_{0}}^{p_{4}p_{5}}t2_{p_{5}p_{4}}^{h_{2}h_{3}}\n + 0.5 * \\Phi_{h_{3}h_{2}}^{p_{0}p_{1}}v_{p_{0}p_{1}}^{p_{4}p_{5}}t2_{p_{4}p_{5}}^{h_{2}h_{3}}\n + -0.25 * \\Phi_{h_{3}h_{2}}^{p_{0}p_{1}}v_{p_{0}p_{1}}^{p_{4}p_{5}}t2_{p_{5}p_{4}}^{h_{2}h_{3}}\n + -0.25 * \\Phi_{h_{3}h_{2}}^{p_{0}p_{1}}v_{p_{1}p_{0}}^{p_{4}p_{5}}t2_{p_{4}p_{5}}^{h_{2}h_{3}}\n + 0.5 * \\Phi_{h_{3}h_{2}}^{p_{0}p_{1}}v_{p_{1}p_{0}}^{p_{4}p_{5}}t2_{p_{5}p_{4}}^{h_{2}h_{3}}\n + -0.25 * \\Phi_{h_{4}h_{5}}^{p_{0}p_{1}}v_{h_{6}h_{7}}^{h_{4}h_{5}}t2_{p_{0}p_{1}}^{h_{6}h_{7}}\n + 0.5 * \\Phi_{h_{4}h_{5}}^{p_{0}p_{1}}v_{h_{7}h_{6}}^{h_{4}h_{5}}t2_{p_{0}p_{1}}^{h_{6}h_{7}}\n + 0.5 * \\Phi_{h_{4}h_{5}}^{p_{0}p_{1}}v_{h_{6}h_{7}}^{h_{4}h_{5}}t2_{p_{1}p_{0}}^{h_{6}h_{7}}\n + -0.25 * \\Phi_{h_{4}h_{5}}^{p_{0}p_{1}}v_{h_{7}h_{6}}^{h_{4}h_{5}}t2_{p_{1}p_{0}}^{h_{6}h_{7}}\n + 0.5 * \\Phi_{h_{4}h_{6}}^{p_{0}p_{1}}v_{h_{5}h_{7}}^{h_{4}h_{5}}t2_{p_{0}p_{1}}^{h_{6}h_{7}}\n + -0.25 * \\Phi_{h_{4}h_{6}}^{p_{0}p_{1}}v_{h_{7}h_{5}}^{h_{4}h_{5}}t2_{p_{0}p_{1}}^{h_{6}h_{7}}\n + -1.0 * \\Phi_{h_{4}h_{6}}^{p_{0}p_{1}}v_{h_{5}h_{7}}^{h_{4}h_{5}}t2_{p_{1}p_{0}}^{h_{6}h_{7}}\n + 0.5 * \\Phi_{h_{4}h_{6}}^{p_{0}p_{1}}v_{h_{7}h_{5}}^{h_{4}h_{5}}t2_{p_{1}p_{0}}^{h_{6}h_{7}}\n + -1.0 * \\Phi_{h_{4}h_{7}}^{p_{0}p_{1}}v_{h_{5}h_{6}}^{h_{4}h_{5}}t2_{p_{0}p_{1}}^{h_{6}h_{7}}\n + 0.5 * \\Phi_{h_{4}h_{7}}^{p_{0}p_{1}}v_{h_{6}h_{5}}^{h_{4}h_{5}}t2_{p_{0}p_{1}}^{h_{6}h_{7}}\n + 0.5 * \\Phi_{h_{4}h_{7}}^{p_{0}p_{1}}v_{h_{5}h_{6}}^{h_{4}h_{5}}t2_{p_{1}p_{0}}^{h_{6}h_{7}}\n + -0.25 * \\Phi_{h_{4}h_{7}}^{p_{0}p_{1}}v_{h_{6}h_{5}}^{h_{4}h_{5}}t2_{p_{1}p_{0}}^{h_{6}h_{7}}\n + 0.5 * \\Phi_{h_{5}h_{4}}^{p_{0}p_{1}}v_{h_{6}h_{7}}^{h_{4}h_{5}}t2_{p_{0}p_{1}}^{h_{6}h_{7}}\n + -0.25 * \\Phi_{h_{5}h_{4}}^{p_{0}p_{1}}v_{h_{7}h_{6}}^{h_{4}h_{5}}t2_{p_{0}p_{1}}^{h_{6}h_{7}}\n + -0.25 * \\Phi_{h_{5}h_{4}}^{p_{0}p_{1}}v_{h_{6}h_{7}}^{h_{4}h_{5}}t2_{p_{1}p_{0}}^{h_{6}h_{7}}\n + 0.5 * \\Phi_{h_{5}h_{4}}^{p_{0}p_{1}}v_{h_{7}h_{6}}^{h_{4}h_{5}}t2_{p_{1}p_{0}}^{h_{6}h_{7}}\n + -0.25 * \\Phi_{h_{5}h_{6}}^{p_{0}p_{1}}v_{h_{4}h_{7}}^{h_{4}h_{5}}t2_{p_{0}p_{1}}^{h_{6}h_{7}}\n + 0.5 * \\Phi_{h_{5}h_{6}}^{p_{0}p_{1}}v_{h_{7}h_{4}}^{h_{4}h_{5}}t2_{p_{0}p_{1}}^{h_{6}h_{7}}\n + 0.5 * \\Phi_{h_{5}h_{6}}^{p_{0}p_{1}}v_{h_{4}h_{7}}^{h_{4}h_{5}}t2_{p_{1}p_{0}}^{h_{6}h_{7}}\n + -1.0 * \\Phi_{h_{5}h_{6}}^{p_{0}p_{1}}v_{h_{7}h_{4}}^{h_{4}h_{5}}t2_{p_{1}p_{0}}^{h_{6}h_{7}}\n + 0.5 * \\Phi_{h_{5}h_{7}}^{p_{0}p_{1}}v_{h_{4}h_{6}}^{h_{4}h_{5}}t2_{p_{0}p_{1}}^{h_{6}h_{7}}\n + -1.0 * \\Phi_{h_{5}h_{7}}^{p_{0}p_{1}}v_{h_{6}h_{4}}^{h_{4}h_{5}}t2_{p_{0}p_{1}}^{h_{6}h_{7}}\n + -0.25 * \\Phi_{h_{5}h_{7}}^{p_{0}p_{1}}v_{h_{4}h_{6}}^{h_{4}h_{5}}t2_{p_{1}p_{0}}^{h_{6}h_{7}}\n + 0.5 * \\Phi_{h_{5}h_{7}}^{p_{0}p_{1}}v_{h_{6}h_{4}}^{h_{4}h_{5}}t2_{p_{1}p_{0}}^{h_{6}h_{7}}\n + -1.0 * \\Phi_{h_{6}h_{4}}^{p_{0}p_{1}}v_{h_{5}h_{7}}^{h_{4}h_{5}}t2_{p_{0}p_{1}}^{h_{6}h_{7}}\n + 0.5 * \\Phi_{h_{6}h_{4}}^{p_{0}p_{1}}v_{h_{7}h_{5}}^{h_{4}h_{5}}t2_{p_{0}p_{1}}^{h_{6}h_{7}}\n + 0.5 * \\Phi_{h_{6}h_{4}}^{p_{0}p_{1}}v_{h_{5}h_{7}}^{h_{4}h_{5}}t2_{p_{1}p_{0}}^{h_{6}h_{7}}\n + -0.25 * \\Phi_{h_{6}h_{4}}^{p_{0}p_{1}}v_{h_{7}h_{5}}^{h_{4}h_{5}}t2_{p_{1}p_{0}}^{h_{6}h_{7}}\n + 0.5 * \\Phi_{h_{6}h_{5}}^{p_{0}p_{1}}v_{h_{4}h_{7}}^{h_{4}h_{5}}t2_{p_{0}p_{1}}^{h_{6}h_{7}}\n + -1.0 * \\Phi_{h_{6}h_{5}}^{p_{0}p_{1}}v_{h_{7}h_{4}}^{h_{4}h_{5}}t2_{p_{0}p_{1}}^{h_{6}h_{7}}\n + -0.25 * \\Phi_{h_{6}h_{5}}^{p_{0}p_{1}}v_{h_{4}h_{7}}^{h_{4}h_{5}}t2_{p_{1}p_{0}}^{h_{6}h_{7}}\n + 0.5 * \\Phi_{h_{6}h_{5}}^{p_{0}p_{1}}v_{h_{7}h_{4}}^{h_{4}h_{5}}t2_{p_{1}p_{0}}^{h_{6}h_{7}}\n + -1.0 * \\Phi_{h_{6}h_{7}}^{p_{0}p_{1}}v_{h_{4}h_{5}}^{h_{4}h_{5}}t2_{p_{0}p_{1}}^{h_{6}h_{7}}\n + 2.0 * \\Phi_{h_{6}h_{7}}^{p_{0}p_{1}}v_{h_{5}h_{4}}^{h_{4}h_{5}}t2_{p_{0}p_{1}}^{h_{6}h_{7}}\n + 0.5 * \\Phi_{h_{6}h_{7}}^{p_{0}p_{1}}v_{h_{4}h_{5}}^{h_{4}h_{5}}t2_{p_{1}p_{0}}^{h_{6}h_{7}}\n + -1.0 * \\Phi_{h_{6}h_{7}}^{p_{0}p_{1}}v_{h_{5}h_{4}}^{h_{4}h_{5}}t2_{p_{1}p_{0}}^{h_{6}h_{7}}\n + 0.5 * \\Phi_{h_{7}h_{4}}^{p_{0}p_{1}}v_{h_{5}h_{6}}^{h_{4}h_{5}}t2_{p_{0}p_{1}}^{h_{6}h_{7}}\n + -0.25 * \\Phi_{h_{7}h_{4}}^{p_{0}p_{1}}v_{h_{6}h_{5}}^{h_{4}h_{5}}t2_{p_{0}p_{1}}^{h_{6}h_{7}}\n + -1.0 * \\Phi_{h_{7}h_{4}}^{p_{0}p_{1}}v_{h_{5}h_{6}}^{h_{4}h_{5}}t2_{p_{1}p_{0}}^{h_{6}h_{7}}\n + 0.5 * \\Phi_{h_{7}h_{4}}^{p_{0}p_{1}}v_{h_{6}h_{5}}^{h_{4}h_{5}}t2_{p_{1}p_{0}}^{h_{6}h_{7}}\n + -0.25 * \\Phi_{h_{7}h_{5}}^{p_{0}p_{1}}v_{h_{4}h_{6}}^{h_{4}h_{5}}t2_{p_{0}p_{1}}^{h_{6}h_{7}}\n + 0.5 * \\Phi_{h_{7}h_{5}}^{p_{0}p_{1}}v_{h_{6}h_{4}}^{h_{4}h_{5}}t2_{p_{0}p_{1}}^{h_{6}h_{7}}\n + 0.5 * \\Phi_{h_{7}h_{5}}^{p_{0}p_{1}}v_{h_{4}h_{6}}^{h_{4}h_{5}}t2_{p_{1}p_{0}}^{h_{6}h_{7}}\n + -1.0 * \\Phi_{h_{7}h_{5}}^{p_{0}p_{1}}v_{h_{6}h_{4}}^{h_{4}h_{5}}t2_{p_{1}p_{0}}^{h_{6}h_{7}}\n + 0.5 * \\Phi_{h_{7}h_{6}}^{p_{0}p_{1}}v_{h_{4}h_{5}}^{h_{4}h_{5}}t2_{p_{0}p_{1}}^{h_{6}h_{7}}\n + -1.0 * \\Phi_{h_{7}h_{6}}^{p_{0}p_{1}}v_{h_{5}h_{4}}^{h_{4}h_{5}}t2_{p_{0}p_{1}}^{h_{6}h_{7}}\n + -1.0 * \\Phi_{h_{7}h_{6}}^{p_{0}p_{1}}v_{h_{4}h_{5}}^{h_{4}h_{5}}t2_{p_{1}p_{0}}^{h_{6}h_{7}}\n + 2.0 * \\Phi_{h_{7}h_{6}}^{p_{0}p_{1}}v_{h_{5}h_{4}}^{h_{4}h_{5}}t2_{p_{1}p_{0}}^{h_{6}h_{7}}\n + 1.0 * \\Phi_{h_{2}h_{3}}^{p_{0}p_{1}}t2_{p_{0}p_{1}}^{h_{2}h_{3}}v_{h_{6}h_{7}}^{h_{6}h_{7}}\n + -2.0 * \\Phi_{h_{2}h_{3}}^{p_{0}p_{1}}t2_{p_{0}p_{1}}^{h_{2}h_{3}}v_{h_{7}h_{6}}^{h_{6}h_{7}}\n + -0.5 * \\Phi_{h_{2}h_{3}}^{p_{0}p_{1}}t2_{p_{1}p_{0}}^{h_{2}h_{3}}v_{h_{6}h_{7}}^{h_{6}h_{7}}\n + 1.0 * \\Phi_{h_{2}h_{3}}^{p_{0}p_{1}}t2_{p_{1}p_{0}}^{h_{2}h_{3}}v_{h_{7}h_{6}}^{h_{6}h_{7}}\n + -0.5 * \\Phi_{h_{3}h_{2}}^{p_{0}p_{1}}t2_{p_{0}p_{1}}^{h_{2}h_{3}}v_{h_{6}h_{7}}^{h_{6}h_{7}}\n + 1.0 * \\Phi_{h_{3}h_{2}}^{p_{0}p_{1}}t2_{p_{0}p_{1}}^{h_{2}h_{3}}v_{h_{7}h_{6}}^{h_{6}h_{7}}\n + 1.0 * \\Phi_{h_{3}h_{2}}^{p_{0}p_{1}}t2_{p_{1}p_{0}}^{h_{2}h_{3}}v_{h_{6}h_{7}}^{h_{6}h_{7}}\n + -2.0 * \\Phi_{h_{3}h_{2}}^{p_{0}p_{1}}t2_{p_{1}p_{0}}^{h_{2}h_{3}}v_{h_{7}h_{6}}^{h_{6}h_{7}}\n + -0.5 * \\Phi_{h_{3}h_{4}}^{p_{0}p_{1}}v_{h_{5}p_{0}}^{p_{3}h_{3}}t2_{p_{1}p_{3}}^{h_{4}h_{5}}\n + 0.25 * \\Phi_{h_{3}h_{4}}^{p_{0}p_{1}}v_{h_{5}p_{0}}^{p_{3}h_{3}}t2_{p_{3}p_{1}}^{h_{4}h_{5}}\n + 0.25 * \\Phi_{h_{3}h_{4}}^{p_{0}p_{1}}v_{h_{5}p_{1}}^{p_{3}h_{3}}t2_{p_{0}p_{3}}^{h_{4}h_{5}}\n + 0.0 * \\Phi_{h_{0}h_{1}}^{p_{0}p_{1}}v_{h_{2}p_{2}}^{p_{3}h_{3}}t2_{p_{4}p_{5}}^{h_{4}h_{5}}\n + -0.5 * \\Phi_{h_{3}h_{4}}^{p_{0}p_{1}}v_{h_{5}p_{1}}^{p_{3}h_{3}}t2_{p_{3}p_{0}}^{h_{4}h_{5}}\n + 0.25 * \\Phi_{h_{3}h_{5}}^{p_{0}p_{1}}v_{h_{4}p_{0}}^{p_{3}h_{3}}t2_{p_{1}p_{3}}^{h_{4}h_{5}}\n + -0.5 * \\Phi_{h_{3}h_{5}}^{p_{0}p_{1}}v_{h_{4}p_{0}}^{p_{3}h_{3}}t2_{p_{3}p_{1}}^{h_{4}h_{5}}\n + -0.5 * \\Phi_{h_{3}h_{5}}^{p_{0}p_{1}}v_{h_{4}p_{1}}^{p_{3}h_{3}}t2_{p_{0}p_{3}}^{h_{4}h_{5}}\n + 0.25 * \\Phi_{h_{3}h_{5}}^{p_{0}p_{1}}v_{h_{4}p_{1}}^{p_{3}h_{3}}t2_{p_{3}p_{0}}^{h_{4}h_{5}}\n + 0.25 * \\Phi_{h_{4}h_{3}}^{p_{0}p_{1}}v_{h_{5}p_{0}}^{p_{3}h_{3}}t2_{p_{1}p_{3}}^{h_{4}h_{5}}\n + -0.5 * \\Phi_{h_{4}h_{3}}^{p_{0}p_{1}}v_{h_{5}p_{0}}^{p_{3}h_{3}}t2_{p_{3}p_{1}}^{h_{4}h_{5}}\n + -0.5 * \\Phi_{h_{4}h_{3}}^{p_{0}p_{1}}v_{h_{5}p_{1}}^{p_{3}h_{3}}t2_{p_{0}p_{3}}^{h_{4}h_{5}}\n + 0.25 * \\Phi_{h_{4}h_{3}}^{p_{0}p_{1}}v_{h_{5}p_{1}}^{p_{3}h_{3}}t2_{p_{3}p_{0}}^{h_{4}h_{5}}\n + -0.5 * \\Phi_{h_{4}h_{5}}^{p_{0}p_{1}}v_{h_{3}p_{0}}^{p_{3}h_{3}}t2_{p_{1}p_{3}}^{h_{4}h_{5}}\n + 1.0 * \\Phi_{h_{4}h_{5}}^{p_{0}p_{1}}v_{h_{3}p_{0}}^{p_{3}h_{3}}t2_{p_{3}p_{1}}^{h_{4}h_{5}}\n + 1.0 * \\Phi_{h_{4}h_{5}}^{p_{0}p_{1}}v_{h_{3}p_{1}}^{p_{3}h_{3}}t2_{p_{0}p_{3}}^{h_{4}h_{5}}\n + -0.5 * \\Phi_{h_{4}h_{5}}^{p_{0}p_{1}}v_{h_{3}p_{1}}^{p_{3}h_{3}}t2_{p_{3}p_{0}}^{h_{4}h_{5}}\n + -0.5 * \\Phi_{h_{5}h_{3}}^{p_{0}p_{1}}v_{h_{4}p_{0}}^{p_{3}h_{3}}t2_{p_{1}p_{3}}^{h_{4}h_{5}}\n + 0.25 * \\Phi_{h_{5}h_{3}}^{p_{0}p_{1}}v_{h_{4}p_{0}}^{p_{3}h_{3}}t2_{p_{3}p_{1}}^{h_{4}h_{5}}\n + 0.25 * \\Phi_{h_{5}h_{3}}^{p_{0}p_{1}}v_{h_{4}p_{1}}^{p_{3}h_{3}}t2_{p_{0}p_{3}}^{h_{4}h_{5}}\n + -0.5 * \\Phi_{h_{5}h_{3}}^{p_{0}p_{1}}v_{h_{4}p_{1}}^{p_{3}h_{3}}t2_{p_{3}p_{0}}^{h_{4}h_{5}}\n + 1.0 * \\Phi_{h_{5}h_{4}}^{p_{0}p_{1}}v_{h_{3}p_{0}}^{p_{3}h_{3}}t2_{p_{1}p_{3}}^{h_{4}h_{5}}\n + -0.5 * \\Phi_{h_{5}h_{4}}^{p_{0}p_{1}}v_{h_{3}p_{0}}^{p_{3}h_{3}}t2_{p_{3}p_{1}}^{h_{4}h_{5}}\n + -0.5 * \\Phi_{h_{5}h_{4}}^{p_{0}p_{1}}v_{h_{3}p_{1}}^{p_{3}h_{3}}t2_{p_{0}p_{3}}^{h_{4}h_{5}}\n + 1.0 * \\Phi_{h_{5}h_{4}}^{p_{0}p_{1}}v_{h_{3}p_{1}}^{p_{3}h_{3}}t2_{p_{3}p_{0}}^{h_{4}h_{5}}\n + 2.0 * \\Phi_{h_{2}h_{3}}^{p_{0}p_{1}}v_{p_{0}p_{1}}^{h_{2}h_{3}}\n + -1.0 * \\Phi_{h_{2}h_{3}}^{p_{0}p_{1}}v_{p_{1}p_{0}}^{h_{2}h_{3}}\n + -1.0 * \\Phi_{h_{3}h_{2}}^{p_{0}p_{1}}v_{p_{0}p_{1}}^{h_{2}h_{3}}\n + 2.0 * \\Phi_{h_{3}h_{2}}^{p_{0}p_{1}}v_{p_{1}p_{0}}^{h_{2}h_{3}}\n + 0.25 * \\Phi_{h_{4}h_{5}}^{p_{0}p_{1}}v_{h_{6}h_{7}}^{p_{2}p_{3}}t2_{p_{0}p_{1}}^{h_{4}h_{5}}t2_{p_{2}p_{3}}^{h_{6}h_{7}}\n + -0.125 * \\Phi_{h_{4}h_{5}}^{p_{0}p_{1}}v_{h_{6}h_{7}}^{p_{2}p_{3}}t2_{p_{0}p_{1}}^{h_{4}h_{5}}t2_{p_{3}p_{2}}^{h_{6}h_{7}}\n + -0.125 * \\Phi_{h_{4}h_{5}}^{p_{0}p_{1}}v_{h_{7}h_{6}}^{p_{2}p_{3}}t2_{p_{0}p_{1}}^{h_{4}h_{5}}t2_{p_{2}p_{3}}^{h_{6}h_{7}}\n + 0.25 * \\Phi_{h_{4}h_{5}}^{p_{0}p_{1}}v_{h_{7}h_{6}}^{p_{2}p_{3}}t2_{p_{0}p_{1}}^{h_{4}h_{5}}t2_{p_{3}p_{2}}^{h_{6}h_{7}}\n + -0.125 * \\Phi_{h_{4}h_{5}}^{p_{0}p_{1}}v_{h_{6}h_{7}}^{p_{2}p_{3}}t2_{p_{0}p_{2}}^{h_{4}h_{5}}t2_{p_{1}p_{3}}^{h_{6}h_{7}}\n + 0.0625 * \\Phi_{h_{4}h_{5}}^{p_{0}p_{1}}v_{h_{6}h_{7}}^{p_{2}p_{3}}t2_{p_{0}p_{3}}^{h_{4}h_{5}}t2_{p_{1}p_{2}}^{h_{6}h_{7}}\n + 0.0625 * \\Phi_{h_{4}h_{5}}^{p_{0}p_{1}}v_{h_{7}h_{6}}^{p_{2}p_{3}}t2_{p_{0}p_{2}}^{h_{4}h_{5}}t2_{p_{1}p_{3}}^{h_{6}h_{7}}\n + -0.125 * \\Phi_{h_{4}h_{5}}^{p_{0}p_{1}}v_{h_{7}h_{6}}^{p_{2}p_{3}}t2_{p_{0}p_{3}}^{h_{4}h_{5}}t2_{p_{1}p_{2}}^{h_{6}h_{7}}\n + 0.0625 * \\Phi_{h_{4}h_{5}}^{p_{0}p_{1}}v_{h_{6}h_{7}}^{p_{2}p_{3}}t2_{p_{0}p_{2}}^{h_{4}h_{5}}t2_{p_{3}p_{1}}^{h_{6}h_{7}}\n + -0.125 * \\Phi_{h_{4}h_{5}}^{p_{0}p_{1}}v_{h_{6}h_{7}}^{p_{2}p_{3}}t2_{p_{0}p_{3}}^{h_{4}h_{5}}t2_{p_{2}p_{1}}^{h_{6}h_{7}}\n + -0.125 * \\Phi_{h_{4}h_{5}}^{p_{0}p_{1}}v_{h_{7}h_{6}}^{p_{2}p_{3}}t2_{p_{0}p_{2}}^{h_{4}h_{5}}t2_{p_{3}p_{1}}^{h_{6}h_{7}}\n + 0.0625 * \\Phi_{h_{4}h_{5}}^{p_{0}p_{1}}v_{h_{7}h_{6}}^{p_{2}p_{3}}t2_{p_{0}p_{3}}^{h_{4}h_{5}}t2_{p_{2}p_{1}}^{h_{6}h_{7}}\n + -0.125 * \\Phi_{h_{4}h_{5}}^{p_{0}p_{1}}v_{h_{6}h_{7}}^{p_{2}p_{3}}t2_{p_{1}p_{0}}^{h_{4}h_{5}}t2_{p_{2}p_{3}}^{h_{6}h_{7}}\n + 0.0625 * \\Phi_{h_{4}h_{5}}^{p_{0}p_{1}}v_{h_{6}h_{7}}^{p_{2}p_{3}}t2_{p_{1}p_{0}}^{h_{4}h_{5}}t2_{p_{3}p_{2}}^{h_{6}h_{7}}\n + 0.0625 * \\Phi_{h_{4}h_{5}}^{p_{0}p_{1}}v_{h_{7}h_{6}}^{p_{2}p_{3}}t2_{p_{1}p_{0}}^{h_{4}h_{5}}t2_{p_{2}p_{3}}^{h_{6}h_{7}}\n + -0.125 * \\Phi_{h_{4}h_{5}}^{p_{0}p_{1}}v_{h_{7}h_{6}}^{p_{2}p_{3}}t2_{p_{1}p_{0}}^{h_{4}h_{5}}t2_{p_{3}p_{2}}^{h_{6}h_{7}}\n + 0.0625 * \\Phi_{h_{4}h_{5}}^{p_{0}p_{1}}v_{h_{6}h_{7}}^{p_{2}p_{3}}t2_{p_{2}p_{0}}^{h_{4}h_{5}}t2_{p_{1}p_{3}}^{h_{6}h_{7}}\n + -0.03125 * \\Phi_{h_{4}h_{5}}^{p_{0}p_{1}}v_{h_{6}h_{7}}^{p_{2}p_{3}}t2_{p_{3}p_{0}}^{h_{4}h_{5}}t2_{p_{1}p_{2}}^{h_{6}h_{7}}\n + -0.03125 * \\Phi_{h_{4}h_{5}}^{p_{0}p_{1}}v_{h_{7}h_{6}}^{p_{2}p_{3}}t2_{p_{2}p_{0}}^{h_{4}h_{5}}t2_{p_{1}p_{3}}^{h_{6}h_{7}}\n + 0.0625 * \\Phi_{h_{4}h_{5}}^{p_{0}p_{1}}v_{h_{7}h_{6}}^{p_{2}p_{3}}t2_{p_{3}p_{0}}^{h_{4}h_{5}}t2_{p_{1}p_{2}}^{h_{6}h_{7}}\n + -0.03125 * \\Phi_{h_{4}h_{5}}^{p_{0}p_{1}}v_{h_{6}h_{7}}^{p_{2}p_{3}}t2_{p_{2}p_{0}}^{h_{4}h_{5}}t2_{p_{3}p_{1}}^{h_{6}h_{7}}\n + 0.0625 * \\Phi_{h_{4}h_{5}}^{p_{0}p_{1}}v_{h_{6}h_{7}}^{p_{2}p_{3}}t2_{p_{3}p_{0}}^{h_{4}h_{5}}t2_{p_{2}p_{1}}^{h_{6}h_{7}}\n + 0.0625 * \\Phi_{h_{4}h_{5}}^{p_{0}p_{1}}v_{h_{7}h_{6}}^{p_{2}p_{3}}t2_{p_{2}p_{0}}^{h_{4}h_{5}}t2_{p_{3}p_{1}}^{h_{6}h_{7}}\n + -0.03125 * \\Phi_{h_{4}h_{5}}^{p_{0}p_{1}}v_{h_{7}h_{6}}^{p_{2}p_{3}}t2_{p_{3}p_{0}}^{h_{4}h_{5}}t2_{p_{2}p_{1}}^{h_{6}h_{7}}\n + 0.0625 * \\Phi_{h_{4}h_{5}}^{p_{0}p_{1}}v_{h_{6}h_{7}}^{p_{2}p_{3}}t2_{p_{1}p_{2}}^{h_{4}h_{5}}t2_{p_{0}p_{3}}^{h_{6}h_{7}}\n + -0.03125 * \\Phi_{h_{4}h_{5}}^{p_{0}p_{1}}v_{h_{6}h_{7}}^{p_{2}p_{3}}t2_{p_{1}p_{3}}^{h_{4}h_{5}}t2_{p_{0}p_{2}}^{h_{6}h_{7}}\n + -0.03125 * \\Phi_{h_{4}h_{5}}^{p_{0}p_{1}}v_{h_{7}h_{6}}^{p_{2}p_{3}}t2_{p_{1}p_{2}}^{h_{4}h_{5}}t2_{p_{0}p_{3}}^{h_{6}h_{7}}\n + 0.0625 * \\Phi_{h_{4}h_{5}}^{p_{0}p_{1}}v_{h_{7}h_{6}}^{p_{2}p_{3}}t2_{p_{1}p_{3}}^{h_{4}h_{5}}t2_{p_{0}p_{2}}^{h_{6}h_{7}}\n + -0.125 * \\Phi_{h_{4}h_{5}}^{p_{0}p_{1}}v_{h_{6}h_{7}}^{p_{2}p_{3}}t2_{p_{2}p_{1}}^{h_{4}h_{5}}t2_{p_{0}p_{3}}^{h_{6}h_{7}}\n + 0.0625 * \\Phi_{h_{4}h_{5}}^{p_{0}p_{1}}v_{h_{6}h_{7}}^{p_{2}p_{3}}t2_{p_{3}p_{1}}^{h_{4}h_{5}}t2_{p_{0}p_{2}}^{h_{6}h_{7}}\n + 0.0625 * \\Phi_{h_{4}h_{5}}^{p_{0}p_{1}}v_{h_{7}h_{6}}^{p_{2}p_{3}}t2_{p_{2}p_{1}}^{h_{4}h_{5}}t2_{p_{0}p_{3}}^{h_{6}h_{7}}\n + -0.125 * \\Phi_{h_{4}h_{5}}^{p_{0}p_{1}}v_{h_{7}h_{6}}^{p_{2}p_{3}}t2_{p_{3}p_{1}}^{h_{4}h_{5}}t2_{p_{0}p_{2}}^{h_{6}h_{7}}\n + 0.0625 * \\Phi_{h_{4}h_{5}}^{p_{0}p_{1}}v_{h_{6}h_{7}}^{p_{2}p_{3}}t2_{p_{2}p_{3}}^{h_{4}h_{5}}t2_{p_{0}p_{1}}^{h_{6}h_{7}}\n + -0.03125 * \\Phi_{h_{4}h_{5}}^{p_{0}p_{1}}v_{h_{6}h_{7}}^{p_{2}p_{3}}t2_{p_{3}p_{2}}^{h_{4}h_{5}}t2_{p_{0}p_{1}}^{h_{6}h_{7}}\n + -0.03125 * \\Phi_{h_{4}h_{5}}^{p_{0}p_{1}}v_{h_{7}h_{6}}^{p_{2}p_{3}}t2_{p_{2}p_{3}}^{h_{4}h_{5}}t2_{p_{0}p_{1}}^{h_{6}h_{7}}\n + 0.0625 * \\Phi_{h_{4}h_{5}}^{p_{0}p_{1}}v_{h_{7}h_{6}}^{p_{2}p_{3}}t2_{p_{3}p_{2}}^{h_{4}h_{5}}t2_{p_{0}p_{1}}^{h_{6}h_{7}}\n + -0.03125 * \\Phi_{h_{4}h_{5}}^{p_{0}p_{1}}v_{h_{6}h_{7}}^{p_{2}p_{3}}t2_{p_{1}p_{2}}^{h_{4}h_{5}}t2_{p_{3}p_{0}}^{h_{6}h_{7}}\n + 0.0625 * \\Phi_{h_{4}h_{5}}^{p_{0}p_{1}}v_{h_{6}h_{7}}^{p_{2}p_{3}}t2_{p_{1}p_{3}}^{h_{4}h_{5}}t2_{p_{2}p_{0}}^{h_{6}h_{7}}\n + 0.0625 * \\Phi_{h_{4}h_{5}}^{p_{0}p_{1}}v_{h_{7}h_{6}}^{p_{2}p_{3}}t2_{p_{1}p_{2}}^{h_{4}h_{5}}t2_{p_{3}p_{0}}^{h_{6}h_{7}}\n + -0.03125 * \\Phi_{h_{4}h_{5}}^{p_{0}p_{1}}v_{h_{7}h_{6}}^{p_{2}p_{3}}t2_{p_{1}p_{3}}^{h_{4}h_{5}}t2_{p_{2}p_{0}}^{h_{6}h_{7}}\n + 0.0625 * \\Phi_{h_{4}h_{5}}^{p_{0}p_{1}}v_{h_{6}h_{7}}^{p_{2}p_{3}}t2_{p_{2}p_{1}}^{h_{4}h_{5}}t2_{p_{3}p_{0}}^{h_{6}h_{7}}\n + -0.125 * \\Phi_{h_{4}h_{5}}^{p_{0}p_{1}}v_{h_{6}h_{7}}^{p_{2}p_{3}}t2_{p_{3}p_{1}}^{h_{4}h_{5}}t2_{p_{2}p_{0}}^{h_{6}h_{7}}\n + -0.125 * \\Phi_{h_{4}h_{5}}^{p_{0}p_{1}}v_{h_{7}h_{6}}^{p_{2}p_{3}}t2_{p_{2}p_{1}}^{h_{4}h_{5}}t2_{p_{3}p_{0}}^{h_{6}h_{7}}\n + 0.0625 * \\Phi_{h_{4}h_{5}}^{p_{0}p_{1}}v_{h_{7}h_{6}}^{p_{2}p_{3}}t2_{p_{3}p_{1}}^{h_{4}h_{5}}t2_{p_{2}p_{0}}^{h_{6}h_{7}}\n + -0.03125 * \\Phi_{h_{4}h_{5}}^{p_{0}p_{1}}v_{h_{6}h_{7}}^{p_{2}p_{3}}t2_{p_{2}p_{3}}^{h_{4}h_{5}}t2_{p_{1}p_{0}}^{h_{6}h_{7}}\n + 0.0625 * \\Phi_{h_{4}h_{5}}^{p_{0}p_{1}}v_{h_{6}h_{7}}^{p_{2}p_{3}}t2_{p_{3}p_{2}}^{h_{4}h_{5}}t2_{p_{1}p_{0}}^{h_{6}h_{7}}\n + 0.0625 * \\Phi_{h_{4}h_{5}}^{p_{0}p_{1}}v_{h_{7}h_{6}}^{p_{2}p_{3}}t2_{p_{2}p_{3}}^{h_{4}h_{5}}t2_{p_{1}p_{0}}^{h_{6}h_{7}}\n + -0.03125 * \\Phi_{h_{4}h_{5}}^{p_{0}p_{1}}v_{h_{7}h_{6}}^{p_{2}p_{3}}t2_{p_{3}p_{2}}^{h_{4}h_{5}}t2_{p_{1}p_{0}}^{h_{6}h_{7}}\n + -0.125 * \\Phi_{h_{4}h_{6}}^{p_{0}p_{1}}v_{h_{5}h_{7}}^{p_{2}p_{3}}t2_{p_{0}p_{1}}^{h_{4}h_{5}}t2_{p_{2}p_{3}}^{h_{6}h_{7}}\n + 0.0625 * \\Phi_{h_{4}h_{6}}^{p_{0}p_{1}}v_{h_{5}h_{7}}^{p_{2}p_{3}}t2_{p_{0}p_{1}}^{h_{4}h_{5}}t2_{p_{3}p_{2}}^{h_{6}h_{7}}\n + 0.0625 * \\Phi_{h_{4}h_{6}}^{p_{0}p_{1}}v_{h_{7}h_{5}}^{p_{2}p_{3}}t2_{p_{0}p_{1}}^{h_{4}h_{5}}t2_{p_{2}p_{3}}^{h_{6}h_{7}}\n + -0.125 * \\Phi_{h_{4}h_{6}}^{p_{0}p_{1}}v_{h_{7}h_{5}}^{p_{2}p_{3}}t2_{p_{0}p_{1}}^{h_{4}h_{5}}t2_{p_{3}p_{2}}^{h_{6}h_{7}}\n + 0.0625 * \\Phi_{h_{4}h_{6}}^{p_{0}p_{1}}v_{h_{5}h_{7}}^{p_{2}p_{3}}t2_{p_{0}p_{2}}^{h_{4}h_{5}}t2_{p_{1}p_{3}}^{h_{6}h_{7}}\n + -0.03125 * \\Phi_{h_{4}h_{6}}^{p_{0}p_{1}}v_{h_{5}h_{7}}^{p_{2}p_{3}}t2_{p_{0}p_{3}}^{h_{4}h_{5}}t2_{p_{1}p_{2}}^{h_{6}h_{7}}\n + -0.03125 * \\Phi_{h_{4}h_{6}}^{p_{0}p_{1}}v_{h_{7}h_{5}}^{p_{2}p_{3}}t2_{p_{0}p_{2}}^{h_{4}h_{5}}t2_{p_{1}p_{3}}^{h_{6}h_{7}}\n + 0.0625 * \\Phi_{h_{4}h_{6}}^{p_{0}p_{1}}v_{h_{7}h_{5}}^{p_{2}p_{3}}t2_{p_{0}p_{3}}^{h_{4}h_{5}}t2_{p_{1}p_{2}}^{h_{6}h_{7}}\n + -0.03125 * \\Phi_{h_{4}h_{6}}^{p_{0}p_{1}}v_{h_{5}h_{7}}^{p_{2}p_{3}}t2_{p_{0}p_{2}}^{h_{4}h_{5}}t2_{p_{3}p_{1}}^{h_{6}h_{7}}\n + 0.0625 * \\Phi_{h_{4}h_{6}}^{p_{0}p_{1}}v_{h_{5}h_{7}}^{p_{2}p_{3}}t2_{p_{0}p_{3}}^{h_{4}h_{5}}t2_{p_{2}p_{1}}^{h_{6}h_{7}}\n + 0.0625 * \\Phi_{h_{4}h_{6}}^{p_{0}p_{1}}v_{h_{7}h_{5}}^{p_{2}p_{3}}t2_{p_{0}p_{2}}^{h_{4}h_{5}}t2_{p_{3}p_{1}}^{h_{6}h_{7}}\n + -0.03125 * \\Phi_{h_{4}h_{6}}^{p_{0}p_{1}}v_{h_{7}h_{5}}^{p_{2}p_{3}}t2_{p_{0}p_{3}}^{h_{4}h_{5}}t2_{p_{2}p_{1}}^{h_{6}h_{7}}\n + 0.0625 * \\Phi_{h_{4}h_{6}}^{p_{0}p_{1}}v_{h_{5}h_{7}}^{p_{2}p_{3}}t2_{p_{1}p_{0}}^{h_{4}h_{5}}t2_{p_{2}p_{3}}^{h_{6}h_{7}}\n + -0.03125 * \\Phi_{h_{4}h_{6}}^{p_{0}p_{1}}v_{h_{5}h_{7}}^{p_{2}p_{3}}t2_{p_{1}p_{0}}^{h_{4}h_{5}}t2_{p_{3}p_{2}}^{h_{6}h_{7}}\n + -0.03125 * \\Phi_{h_{4}h_{6}}^{p_{0}p_{1}}v_{h_{7}h_{5}}^{p_{2}p_{3}}t2_{p_{1}p_{0}}^{h_{4}h_{5}}t2_{p_{2}p_{3}}^{h_{6}h_{7}}\n + 0.0625 * \\Phi_{h_{4}h_{6}}^{p_{0}p_{1}}v_{h_{7}h_{5}}^{p_{2}p_{3}}t2_{p_{1}p_{0}}^{h_{4}h_{5}}t2_{p_{3}p_{2}}^{h_{6}h_{7}}\n + -0.03125 * \\Phi_{h_{4}h_{6}}^{p_{0}p_{1}}v_{h_{5}h_{7}}^{p_{2}p_{3}}t2_{p_{2}p_{0}}^{h_{4}h_{5}}t2_{p_{1}p_{3}}^{h_{6}h_{7}}\n + 0.0625 * \\Phi_{h_{4}h_{6}}^{p_{0}p_{1}}v_{h_{5}h_{7}}^{p_{2}p_{3}}t2_{p_{3}p_{0}}^{h_{4}h_{5}}t2_{p_{1}p_{2}}^{h_{6}h_{7}}\n + 0.0625 * \\Phi_{h_{4}h_{6}}^{p_{0}p_{1}}v_{h_{7}h_{5}}^{p_{2}p_{3}}t2_{p_{2}p_{0}}^{h_{4}h_{5}}t2_{p_{1}p_{3}}^{h_{6}h_{7}}\n + -0.03125 * \\Phi_{h_{4}h_{6}}^{p_{0}p_{1}}v_{h_{7}h_{5}}^{p_{2}p_{3}}t2_{p_{3}p_{0}}^{h_{4}h_{5}}t2_{p_{1}p_{2}}^{h_{6}h_{7}}\n + 0.0625 * \\Phi_{h_{4}h_{6}}^{p_{0}p_{1}}v_{h_{5}h_{7}}^{p_{2}p_{3}}t2_{p_{2}p_{0}}^{h_{4}h_{5}}t2_{p_{3}p_{1}}^{h_{6}h_{7}}\n + -0.125 * \\Phi_{h_{4}h_{6}}^{p_{0}p_{1}}v_{h_{5}h_{7}}^{p_{2}p_{3}}t2_{p_{3}p_{0}}^{h_{4}h_{5}}t2_{p_{2}p_{1}}^{h_{6}h_{7}}\n + -0.125 * \\Phi_{h_{4}h_{6}}^{p_{0}p_{1}}v_{h_{7}h_{5}}^{p_{2}p_{3}}t2_{p_{2}p_{0}}^{h_{4}h_{5}}t2_{p_{3}p_{1}}^{h_{6}h_{7}}\n + 0.0625 * \\Phi_{h_{4}h_{6}}^{p_{0}p_{1}}v_{h_{7}h_{5}}^{p_{2}p_{3}}t2_{p_{3}p_{0}}^{h_{4}h_{5}}t2_{p_{2}p_{1}}^{h_{6}h_{7}}\n + -0.03125 * \\Phi_{h_{4}h_{6}}^{p_{0}p_{1}}v_{h_{5}h_{7}}^{p_{2}p_{3}}t2_{p_{1}p_{2}}^{h_{4}h_{5}}t2_{p_{0}p_{3}}^{h_{6}h_{7}}\n + 0.0625 * \\Phi_{h_{4}h_{6}}^{p_{0}p_{1}}v_{h_{5}h_{7}}^{p_{2}p_{3}}t2_{p_{1}p_{3}}^{h_{4}h_{5}}t2_{p_{0}p_{2}}^{h_{6}h_{7}}\n + 0.0625 * \\Phi_{h_{4}h_{6}}^{p_{0}p_{1}}v_{h_{7}h_{5}}^{p_{2}p_{3}}t2_{p_{1}p_{2}}^{h_{4}h_{5}}t2_{p_{0}p_{3}}^{h_{6}h_{7}}\n + -0.03125 * \\Phi_{h_{4}h_{6}}^{p_{0}p_{1}}v_{h_{7}h_{5}}^{p_{2}p_{3}}t2_{p_{1}p_{3}}^{h_{4}h_{5}}t2_{p_{0}p_{2}}^{h_{6}h_{7}}\n + 0.0625 * \\Phi_{h_{4}h_{6}}^{p_{0}p_{1}}v_{h_{5}h_{7}}^{p_{2}p_{3}}t2_{p_{2}p_{1}}^{h_{4}h_{5}}t2_{p_{0}p_{3}}^{h_{6}h_{7}}\n + -0.125 * \\Phi_{h_{4}h_{6}}^{p_{0}p_{1}}v_{h_{5}h_{7}}^{p_{2}p_{3}}t2_{p_{3}p_{1}}^{h_{4}h_{5}}t2_{p_{0}p_{2}}^{h_{6}h_{7}}\n + -0.125 * \\Phi_{h_{4}h_{6}}^{p_{0}p_{1}}v_{h_{7}h_{5}}^{p_{2}p_{3}}t2_{p_{2}p_{1}}^{h_{4}h_{5}}t2_{p_{0}p_{3}}^{h_{6}h_{7}}\n + 0.0625 * \\Phi_{h_{4}h_{6}}^{p_{0}p_{1}}v_{h_{7}h_{5}}^{p_{2}p_{3}}t2_{p_{3}p_{1}}^{h_{4}h_{5}}t2_{p_{0}p_{2}}^{h_{6}h_{7}}\n + -0.03125 * \\Phi_{h_{4}h_{6}}^{p_{0}p_{1}}v_{h_{5}h_{7}}^{p_{2}p_{3}}t2_{p_{2}p_{3}}^{h_{4}h_{5}}t2_{p_{0}p_{1}}^{h_{6}h_{7}}\n + 0.0625 * \\Phi_{h_{4}h_{6}}^{p_{0}p_{1}}v_{h_{5}h_{7}}^{p_{2}p_{3}}t2_{p_{3}p_{2}}^{h_{4}h_{5}}t2_{p_{0}p_{1}}^{h_{6}h_{7}}\n + 0.0625 * \\Phi_{h_{4}h_{6}}^{p_{0}p_{1}}v_{h_{7}h_{5}}^{p_{2}p_{3}}t2_{p_{2}p_{3}}^{h_{4}h_{5}}t2_{p_{0}p_{1}}^{h_{6}h_{7}}\n + -0.03125 * \\Phi_{h_{4}h_{6}}^{p_{0}p_{1}}v_{h_{7}h_{5}}^{p_{2}p_{3}}t2_{p_{3}p_{2}}^{h_{4}h_{5}}t2_{p_{0}p_{1}}^{h_{6}h_{7}}\n + 0.0625 * \\Phi_{h_{4}h_{6}}^{p_{0}p_{1}}v_{h_{5}h_{7}}^{p_{2}p_{3}}t2_{p_{1}p_{2}}^{h_{4}h_{5}}t2_{p_{3}p_{0}}^{h_{6}h_{7}}\n + -0.125 * \\Phi_{h_{4}h_{6}}^{p_{0}p_{1}}v_{h_{5}h_{7}}^{p_{2}p_{3}}t2_{p_{1}p_{3}}^{h_{4}h_{5}}t2_{p_{2}p_{0}}^{h_{6}h_{7}}\n + -0.125 * \\Phi_{h_{4}h_{6}}^{p_{0}p_{1}}v_{h_{7}h_{5}}^{p_{2}p_{3}}t2_{p_{1}p_{2}}^{h_{4}h_{5}}t2_{p_{3}p_{0}}^{h_{6}h_{7}}\n + 0.0625 * \\Phi_{h_{4}h_{6}}^{p_{0}p_{1}}v_{h_{7}h_{5}}^{p_{2}p_{3}}t2_{p_{1}p_{3}}^{h_{4}h_{5}}t2_{p_{2}p_{0}}^{h_{6}h_{7}}\n + -0.125 * \\Phi_{h_{4}h_{6}}^{p_{0}p_{1}}v_{h_{5}h_{7}}^{p_{2}p_{3}}t2_{p_{2}p_{1}}^{h_{4}h_{5}}t2_{p_{3}p_{0}}^{h_{6}h_{7}}\n + 0.25 * \\Phi_{h_{4}h_{6}}^{p_{0}p_{1}}v_{h_{5}h_{7}}^{p_{2}p_{3}}t2_{p_{3}p_{1}}^{h_{4}h_{5}}t2_{p_{2}p_{0}}^{h_{6}h_{7}}\n + 0.25 * \\Phi_{h_{4}h_{6}}^{p_{0}p_{1}}v_{h_{7}h_{5}}^{p_{2}p_{3}}t2_{p_{2}p_{1}}^{h_{4}h_{5}}t2_{p_{3}p_{0}}^{h_{6}h_{7}}\n + -0.125 * \\Phi_{h_{4}h_{6}}^{p_{0}p_{1}}v_{h_{7}h_{5}}^{p_{2}p_{3}}t2_{p_{3}p_{1}}^{h_{4}h_{5}}t2_{p_{2}p_{0}}^{h_{6}h_{7}}\n + 0.0625 * \\Phi_{h_{4}h_{6}}^{p_{0}p_{1}}v_{h_{5}h_{7}}^{p_{2}p_{3}}t2_{p_{2}p_{3}}^{h_{4}h_{5}}t2_{p_{1}p_{0}}^{h_{6}h_{7}}\n + -0.125 * \\Phi_{h_{4}h_{6}}^{p_{0}p_{1}}v_{h_{5}h_{7}}^{p_{2}p_{3}}t2_{p_{3}p_{2}}^{h_{4}h_{5}}t2_{p_{1}p_{0}}^{h_{6}h_{7}}\n + -0.125 * \\Phi_{h_{4}h_{6}}^{p_{0}p_{1}}v_{h_{7}h_{5}}^{p_{2}p_{3}}t2_{p_{2}p_{3}}^{h_{4}h_{5}}t2_{p_{1}p_{0}}^{h_{6}h_{7}}\n + 0.0625 * \\Phi_{h_{4}h_{6}}^{p_{0}p_{1}}v_{h_{7}h_{5}}^{p_{2}p_{3}}t2_{p_{3}p_{2}}^{h_{4}h_{5}}t2_{p_{1}p_{0}}^{h_{6}h_{7}}\n + 0.0625 * \\Phi_{h_{4}h_{7}}^{p_{0}p_{1}}v_{h_{5}h_{6}}^{p_{2}p_{3}}t2_{p_{0}p_{1}}^{h_{4}h_{5}}t2_{p_{2}p_{3}}^{h_{6}h_{7}}\n + -0.125 * \\Phi_{h_{4}h_{7}}^{p_{0}p_{1}}v_{h_{5}h_{6}}^{p_{2}p_{3}}t2_{p_{0}p_{1}}^{h_{4}h_{5}}t2_{p_{3}p_{2}}^{h_{6}h_{7}}\n + -0.125 * \\Phi_{h_{4}h_{7}}^{p_{0}p_{1}}v_{h_{6}h_{5}}^{p_{2}p_{3}}t2_{p_{0}p_{1}}^{h_{4}h_{5}}t2_{p_{2}p_{3}}^{h_{6}h_{7}}\n + 0.0625 * \\Phi_{h_{4}h_{7}}^{p_{0}p_{1}}v_{h_{6}h_{5}}^{p_{2}p_{3}}t2_{p_{0}p_{1}}^{h_{4}h_{5}}t2_{p_{3}p_{2}}^{h_{6}h_{7}}\n + -0.03125 * \\Phi_{h_{4}h_{7}}^{p_{0}p_{1}}v_{h_{5}h_{6}}^{p_{2}p_{3}}t2_{p_{0}p_{2}}^{h_{4}h_{5}}t2_{p_{1}p_{3}}^{h_{6}h_{7}}\n + 0.0625 * \\Phi_{h_{4}h_{7}}^{p_{0}p_{1}}v_{h_{5}h_{6}}^{p_{2}p_{3}}t2_{p_{0}p_{3}}^{h_{4}h_{5}}t2_{p_{1}p_{2}}^{h_{6}h_{7}}\n + 0.0625 * \\Phi_{h_{4}h_{7}}^{p_{0}p_{1}}v_{h_{6}h_{5}}^{p_{2}p_{3}}t2_{p_{0}p_{2}}^{h_{4}h_{5}}t2_{p_{1}p_{3}}^{h_{6}h_{7}}\n + -0.03125 * \\Phi_{h_{4}h_{7}}^{p_{0}p_{1}}v_{h_{6}h_{5}}^{p_{2}p_{3}}t2_{p_{0}p_{3}}^{h_{4}h_{5}}t2_{p_{1}p_{2}}^{h_{6}h_{7}}\n + 0.0625 * \\Phi_{h_{4}h_{7}}^{p_{0}p_{1}}v_{h_{5}h_{6}}^{p_{2}p_{3}}t2_{p_{0}p_{2}}^{h_{4}h_{5}}t2_{p_{3}p_{1}}^{h_{6}h_{7}}\n + -0.03125 * \\Phi_{h_{4}h_{7}}^{p_{0}p_{1}}v_{h_{5}h_{6}}^{p_{2}p_{3}}t2_{p_{0}p_{3}}^{h_{4}h_{5}}t2_{p_{2}p_{1}}^{h_{6}h_{7}}\n + -0.03125 * \\Phi_{h_{4}h_{7}}^{p_{0}p_{1}}v_{h_{6}h_{5}}^{p_{2}p_{3}}t2_{p_{0}p_{2}}^{h_{4}h_{5}}t2_{p_{3}p_{1}}^{h_{6}h_{7}}\n + 0.0625 * \\Phi_{h_{4}h_{7}}^{p_{0}p_{1}}v_{h_{6}h_{5}}^{p_{2}p_{3}}t2_{p_{0}p_{3}}^{h_{4}h_{5}}t2_{p_{2}p_{1}}^{h_{6}h_{7}}\n + -0.03125 * \\Phi_{h_{4}h_{7}}^{p_{0}p_{1}}v_{h_{5}h_{6}}^{p_{2}p_{3}}t2_{p_{1}p_{0}}^{h_{4}h_{5}}t2_{p_{2}p_{3}}^{h_{6}h_{7}}\n + 0.0625 * \\Phi_{h_{4}h_{7}}^{p_{0}p_{1}}v_{h_{5}h_{6}}^{p_{2}p_{3}}t2_{p_{1}p_{0}}^{h_{4}h_{5}}t2_{p_{3}p_{2}}^{h_{6}h_{7}}\n + 0.0625 * \\Phi_{h_{4}h_{7}}^{p_{0}p_{1}}v_{h_{6}h_{5}}^{p_{2}p_{3}}t2_{p_{1}p_{0}}^{h_{4}h_{5}}t2_{p_{2}p_{3}}^{h_{6}h_{7}}\n + -0.03125 * \\Phi_{h_{4}h_{7}}^{p_{0}p_{1}}v_{h_{6}h_{5}}^{p_{2}p_{3}}t2_{p_{1}p_{0}}^{h_{4}h_{5}}t2_{p_{3}p_{2}}^{h_{6}h_{7}}\n + 0.0625 * \\Phi_{h_{4}h_{7}}^{p_{0}p_{1}}v_{h_{5}h_{6}}^{p_{2}p_{3}}t2_{p_{2}p_{0}}^{h_{4}h_{5}}t2_{p_{1}p_{3}}^{h_{6}h_{7}}\n + -0.125 * \\Phi_{h_{4}h_{7}}^{p_{0}p_{1}}v_{h_{5}h_{6}}^{p_{2}p_{3}}t2_{p_{3}p_{0}}^{h_{4}h_{5}}t2_{p_{1}p_{2}}^{h_{6}h_{7}}\n + -0.125 * \\Phi_{h_{4}h_{7}}^{p_{0}p_{1}}v_{h_{6}h_{5}}^{p_{2}p_{3}}t2_{p_{2}p_{0}}^{h_{4}h_{5}}t2_{p_{1}p_{3}}^{h_{6}h_{7}}\n + 0.0625 * \\Phi_{h_{4}h_{7}}^{p_{0}p_{1}}v_{h_{6}h_{5}}^{p_{2}p_{3}}t2_{p_{3}p_{0}}^{h_{4}h_{5}}t2_{p_{1}p_{2}}^{h_{6}h_{7}}\n + -0.03125 * \\Phi_{h_{4}h_{7}}^{p_{0}p_{1}}v_{h_{5}h_{6}}^{p_{2}p_{3}}t2_{p_{2}p_{0}}^{h_{4}h_{5}}t2_{p_{3}p_{1}}^{h_{6}h_{7}}\n + 0.0625 * \\Phi_{h_{4}h_{7}}^{p_{0}p_{1}}v_{h_{5}h_{6}}^{p_{2}p_{3}}t2_{p_{3}p_{0}}^{h_{4}h_{5}}t2_{p_{2}p_{1}}^{h_{6}h_{7}}\n + 0.0625 * \\Phi_{h_{4}h_{7}}^{p_{0}p_{1}}v_{h_{6}h_{5}}^{p_{2}p_{3}}t2_{p_{2}p_{0}}^{h_{4}h_{5}}t2_{p_{3}p_{1}}^{h_{6}h_{7}}\n + -0.03125 * \\Phi_{h_{4}h_{7}}^{p_{0}p_{1}}v_{h_{6}h_{5}}^{p_{2}p_{3}}t2_{p_{3}p_{0}}^{h_{4}h_{5}}t2_{p_{2}p_{1}}^{h_{6}h_{7}}\n + 0.0625 * \\Phi_{h_{4}h_{7}}^{p_{0}p_{1}}v_{h_{5}h_{6}}^{p_{2}p_{3}}t2_{p_{1}p_{2}}^{h_{4}h_{5}}t2_{p_{0}p_{3}}^{h_{6}h_{7}}\n + -0.125 * \\Phi_{h_{4}h_{7}}^{p_{0}p_{1}}v_{h_{5}h_{6}}^{p_{2}p_{3}}t2_{p_{1}p_{3}}^{h_{4}h_{5}}t2_{p_{0}p_{2}}^{h_{6}h_{7}}\n + -0.125 * \\Phi_{h_{4}h_{7}}^{p_{0}p_{1}}v_{h_{6}h_{5}}^{p_{2}p_{3}}t2_{p_{1}p_{2}}^{h_{4}h_{5}}t2_{p_{0}p_{3}}^{h_{6}h_{7}}\n + 0.0625 * \\Phi_{h_{4}h_{7}}^{p_{0}p_{1}}v_{h_{6}h_{5}}^{p_{2}p_{3}}t2_{p_{1}p_{3}}^{h_{4}h_{5}}t2_{p_{0}p_{2}}^{h_{6}h_{7}}\n + -0.125 * \\Phi_{h_{4}h_{7}}^{p_{0}p_{1}}v_{h_{5}h_{6}}^{p_{2}p_{3}}t2_{p_{2}p_{1}}^{h_{4}h_{5}}t2_{p_{0}p_{3}}^{h_{6}h_{7}}\n + 0.25 * \\Phi_{h_{4}h_{7}}^{p_{0}p_{1}}v_{h_{5}h_{6}}^{p_{2}p_{3}}t2_{p_{3}p_{1}}^{h_{4}h_{5}}t2_{p_{0}p_{2}}^{h_{6}h_{7}}\n + 0.25 * \\Phi_{h_{4}h_{7}}^{p_{0}p_{1}}v_{h_{6}h_{5}}^{p_{2}p_{3}}t2_{p_{2}p_{1}}^{h_{4}h_{5}}t2_{p_{0}p_{3}}^{h_{6}h_{7}}\n + -0.125 * \\Phi_{h_{4}h_{7}}^{p_{0}p_{1}}v_{h_{6}h_{5}}^{p_{2}p_{3}}t2_{p_{3}p_{1}}^{h_{4}h_{5}}t2_{p_{0}p_{2}}^{h_{6}h_{7}}\n + 0.0625 * \\Phi_{h_{4}h_{7}}^{p_{0}p_{1}}v_{h_{5}h_{6}}^{p_{2}p_{3}}t2_{p_{2}p_{3}}^{h_{4}h_{5}}t2_{p_{0}p_{1}}^{h_{6}h_{7}}\n + -0.125 * \\Phi_{h_{4}h_{7}}^{p_{0}p_{1}}v_{h_{5}h_{6}}^{p_{2}p_{3}}t2_{p_{3}p_{2}}^{h_{4}h_{5}}t2_{p_{0}p_{1}}^{h_{6}h_{7}}\n + -0.125 * \\Phi_{h_{4}h_{7}}^{p_{0}p_{1}}v_{h_{6}h_{5}}^{p_{2}p_{3}}t2_{p_{2}p_{3}}^{h_{4}h_{5}}t2_{p_{0}p_{1}}^{h_{6}h_{7}}\n + 0.0625 * \\Phi_{h_{4}h_{7}}^{p_{0}p_{1}}v_{h_{6}h_{5}}^{p_{2}p_{3}}t2_{p_{3}p_{2}}^{h_{4}h_{5}}t2_{p_{0}p_{1}}^{h_{6}h_{7}}\n + -0.03125 * \\Phi_{h_{4}h_{7}}^{p_{0}p_{1}}v_{h_{5}h_{6}}^{p_{2}p_{3}}t2_{p_{1}p_{2}}^{h_{4}h_{5}}t2_{p_{3}p_{0}}^{h_{6}h_{7}}\n + 0.0625 * \\Phi_{h_{4}h_{7}}^{p_{0}p_{1}}v_{h_{5}h_{6}}^{p_{2}p_{3}}t2_{p_{1}p_{3}}^{h_{4}h_{5}}t2_{p_{2}p_{0}}^{h_{6}h_{7}}\n + 0.0625 * \\Phi_{h_{4}h_{7}}^{p_{0}p_{1}}v_{h_{6}h_{5}}^{p_{2}p_{3}}t2_{p_{1}p_{2}}^{h_{4}h_{5}}t2_{p_{3}p_{0}}^{h_{6}h_{7}}\n + -0.03125 * \\Phi_{h_{4}h_{7}}^{p_{0}p_{1}}v_{h_{6}h_{5}}^{p_{2}p_{3}}t2_{p_{1}p_{3}}^{h_{4}h_{5}}t2_{p_{2}p_{0}}^{h_{6}h_{7}}\n + 0.0625 * \\Phi_{h_{4}h_{7}}^{p_{0}p_{1}}v_{h_{5}h_{6}}^{p_{2}p_{3}}t2_{p_{2}p_{1}}^{h_{4}h_{5}}t2_{p_{3}p_{0}}^{h_{6}h_{7}}\n + -0.125 * \\Phi_{h_{4}h_{7}}^{p_{0}p_{1}}v_{h_{5}h_{6}}^{p_{2}p_{3}}t2_{p_{3}p_{1}}^{h_{4}h_{5}}t2_{p_{2}p_{0}}^{h_{6}h_{7}}\n + -0.125 * \\Phi_{h_{4}h_{7}}^{p_{0}p_{1}}v_{h_{6}h_{5}}^{p_{2}p_{3}}t2_{p_{2}p_{1}}^{h_{4}h_{5}}t2_{p_{3}p_{0}}^{h_{6}h_{7}}\n + 0.0625 * \\Phi_{h_{4}h_{7}}^{p_{0}p_{1}}v_{h_{6}h_{5}}^{p_{2}p_{3}}t2_{p_{3}p_{1}}^{h_{4}h_{5}}t2_{p_{2}p_{0}}^{h_{6}h_{7}}\n + -0.03125 * \\Phi_{h_{4}h_{7}}^{p_{0}p_{1}}v_{h_{5}h_{6}}^{p_{2}p_{3}}t2_{p_{2}p_{3}}^{h_{4}h_{5}}t2_{p_{1}p_{0}}^{h_{6}h_{7}}\n + 0.0625 * \\Phi_{h_{4}h_{7}}^{p_{0}p_{1}}v_{h_{5}h_{6}}^{p_{2}p_{3}}t2_{p_{3}p_{2}}^{h_{4}h_{5}}t2_{p_{1}p_{0}}^{h_{6}h_{7}}\n + 0.0625 * \\Phi_{h_{4}h_{7}}^{p_{0}p_{1}}v_{h_{6}h_{5}}^{p_{2}p_{3}}t2_{p_{2}p_{3}}^{h_{4}h_{5}}t2_{p_{1}p_{0}}^{h_{6}h_{7}}\n + -0.03125 * \\Phi_{h_{4}h_{7}}^{p_{0}p_{1}}v_{h_{6}h_{5}}^{p_{2}p_{3}}t2_{p_{3}p_{2}}^{h_{4}h_{5}}t2_{p_{1}p_{0}}^{h_{6}h_{7}}\n + -0.125 * \\Phi_{h_{5}h_{4}}^{p_{0}p_{1}}v_{h_{6}h_{7}}^{p_{2}p_{3}}t2_{p_{0}p_{1}}^{h_{4}h_{5}}t2_{p_{2}p_{3}}^{h_{6}h_{7}}\n + 0.0625 * \\Phi_{h_{5}h_{4}}^{p_{0}p_{1}}v_{h_{6}h_{7}}^{p_{2}p_{3}}t2_{p_{0}p_{1}}^{h_{4}h_{5}}t2_{p_{3}p_{2}}^{h_{6}h_{7}}\n + 0.0625 * \\Phi_{h_{5}h_{4}}^{p_{0}p_{1}}v_{h_{7}h_{6}}^{p_{2}p_{3}}t2_{p_{0}p_{1}}^{h_{4}h_{5}}t2_{p_{2}p_{3}}^{h_{6}h_{7}}\n + -0.125 * \\Phi_{h_{5}h_{4}}^{p_{0}p_{1}}v_{h_{7}h_{6}}^{p_{2}p_{3}}t2_{p_{0}p_{1}}^{h_{4}h_{5}}t2_{p_{3}p_{2}}^{h_{6}h_{7}}\n + 0.0625 * \\Phi_{h_{5}h_{4}}^{p_{0}p_{1}}v_{h_{6}h_{7}}^{p_{2}p_{3}}t2_{p_{0}p_{2}}^{h_{4}h_{5}}t2_{p_{1}p_{3}}^{h_{6}h_{7}}\n + -0.03125 * \\Phi_{h_{5}h_{4}}^{p_{0}p_{1}}v_{h_{6}h_{7}}^{p_{2}p_{3}}t2_{p_{0}p_{3}}^{h_{4}h_{5}}t2_{p_{1}p_{2}}^{h_{6}h_{7}}\n + -0.03125 * \\Phi_{h_{5}h_{4}}^{p_{0}p_{1}}v_{h_{7}h_{6}}^{p_{2}p_{3}}t2_{p_{0}p_{2}}^{h_{4}h_{5}}t2_{p_{1}p_{3}}^{h_{6}h_{7}}\n + 0.0625 * \\Phi_{h_{5}h_{4}}^{p_{0}p_{1}}v_{h_{7}h_{6}}^{p_{2}p_{3}}t2_{p_{0}p_{3}}^{h_{4}h_{5}}t2_{p_{1}p_{2}}^{h_{6}h_{7}}\n + -0.03125 * \\Phi_{h_{5}h_{4}}^{p_{0}p_{1}}v_{h_{6}h_{7}}^{p_{2}p_{3}}t2_{p_{0}p_{2}}^{h_{4}h_{5}}t2_{p_{3}p_{1}}^{h_{6}h_{7}}\n + 0.0625 * \\Phi_{h_{5}h_{4}}^{p_{0}p_{1}}v_{h_{6}h_{7}}^{p_{2}p_{3}}t2_{p_{0}p_{3}}^{h_{4}h_{5}}t2_{p_{2}p_{1}}^{h_{6}h_{7}}\n + 0.0625 * \\Phi_{h_{5}h_{4}}^{p_{0}p_{1}}v_{h_{7}h_{6}}^{p_{2}p_{3}}t2_{p_{0}p_{2}}^{h_{4}h_{5}}t2_{p_{3}p_{1}}^{h_{6}h_{7}}\n + -0.03125 * \\Phi_{h_{5}h_{4}}^{p_{0}p_{1}}v_{h_{7}h_{6}}^{p_{2}p_{3}}t2_{p_{0}p_{3}}^{h_{4}h_{5}}t2_{p_{2}p_{1}}^{h_{6}h_{7}}\n + 0.25 * \\Phi_{h_{5}h_{4}}^{p_{0}p_{1}}v_{h_{6}h_{7}}^{p_{2}p_{3}}t2_{p_{1}p_{0}}^{h_{4}h_{5}}t2_{p_{2}p_{3}}^{h_{6}h_{7}}\n + -0.125 * \\Phi_{h_{5}h_{4}}^{p_{0}p_{1}}v_{h_{6}h_{7}}^{p_{2}p_{3}}t2_{p_{1}p_{0}}^{h_{4}h_{5}}t2_{p_{3}p_{2}}^{h_{6}h_{7}}\n + -0.125 * \\Phi_{h_{5}h_{4}}^{p_{0}p_{1}}v_{h_{7}h_{6}}^{p_{2}p_{3}}t2_{p_{1}p_{0}}^{h_{4}h_{5}}t2_{p_{2}p_{3}}^{h_{6}h_{7}}\n + 0.25 * \\Phi_{h_{5}h_{4}}^{p_{0}p_{1}}v_{h_{7}h_{6}}^{p_{2}p_{3}}t2_{p_{1}p_{0}}^{h_{4}h_{5}}t2_{p_{3}p_{2}}^{h_{6}h_{7}}\n + -0.125 * \\Phi_{h_{5}h_{4}}^{p_{0}p_{1}}v_{h_{6}h_{7}}^{p_{2}p_{3}}t2_{p_{2}p_{0}}^{h_{4}h_{5}}t2_{p_{1}p_{3}}^{h_{6}h_{7}}\n + 0.0625 * \\Phi_{h_{5}h_{4}}^{p_{0}p_{1}}v_{h_{6}h_{7}}^{p_{2}p_{3}}t2_{p_{3}p_{0}}^{h_{4}h_{5}}t2_{p_{1}p_{2}}^{h_{6}h_{7}}\n + 0.0625 * \\Phi_{h_{5}h_{4}}^{p_{0}p_{1}}v_{h_{7}h_{6}}^{p_{2}p_{3}}t2_{p_{2}p_{0}}^{h_{4}h_{5}}t2_{p_{1}p_{3}}^{h_{6}h_{7}}\n + -0.125 * \\Phi_{h_{5}h_{4}}^{p_{0}p_{1}}v_{h_{7}h_{6}}^{p_{2}p_{3}}t2_{p_{3}p_{0}}^{h_{4}h_{5}}t2_{p_{1}p_{2}}^{h_{6}h_{7}}\n + 0.0625 * \\Phi_{h_{5}h_{4}}^{p_{0}p_{1}}v_{h_{6}h_{7}}^{p_{2}p_{3}}t2_{p_{2}p_{0}}^{h_{4}h_{5}}t2_{p_{3}p_{1}}^{h_{6}h_{7}}\n + -0.125 * \\Phi_{h_{5}h_{4}}^{p_{0}p_{1}}v_{h_{6}h_{7}}^{p_{2}p_{3}}t2_{p_{3}p_{0}}^{h_{4}h_{5}}t2_{p_{2}p_{1}}^{h_{6}h_{7}}\n + -0.125 * \\Phi_{h_{5}h_{4}}^{p_{0}p_{1}}v_{h_{7}h_{6}}^{p_{2}p_{3}}t2_{p_{2}p_{0}}^{h_{4}h_{5}}t2_{p_{3}p_{1}}^{h_{6}h_{7}}\n + 0.0625 * \\Phi_{h_{5}h_{4}}^{p_{0}p_{1}}v_{h_{7}h_{6}}^{p_{2}p_{3}}t2_{p_{3}p_{0}}^{h_{4}h_{5}}t2_{p_{2}p_{1}}^{h_{6}h_{7}}\n + -0.125 * \\Phi_{h_{5}h_{4}}^{p_{0}p_{1}}v_{h_{6}h_{7}}^{p_{2}p_{3}}t2_{p_{1}p_{2}}^{h_{4}h_{5}}t2_{p_{0}p_{3}}^{h_{6}h_{7}}\n + 0.0625 * \\Phi_{h_{5}h_{4}}^{p_{0}p_{1}}v_{h_{6}h_{7}}^{p_{2}p_{3}}t2_{p_{1}p_{3}}^{h_{4}h_{5}}t2_{p_{0}p_{2}}^{h_{6}h_{7}}\n + 0.0625 * \\Phi_{h_{5}h_{4}}^{p_{0}p_{1}}v_{h_{7}h_{6}}^{p_{2}p_{3}}t2_{p_{1}p_{2}}^{h_{4}h_{5}}t2_{p_{0}p_{3}}^{h_{6}h_{7}}\n + -0.125 * \\Phi_{h_{5}h_{4}}^{p_{0}p_{1}}v_{h_{7}h_{6}}^{p_{2}p_{3}}t2_{p_{1}p_{3}}^{h_{4}h_{5}}t2_{p_{0}p_{2}}^{h_{6}h_{7}}\n + 0.0625 * \\Phi_{h_{5}h_{4}}^{p_{0}p_{1}}v_{h_{6}h_{7}}^{p_{2}p_{3}}t2_{p_{2}p_{1}}^{h_{4}h_{5}}t2_{p_{0}p_{3}}^{h_{6}h_{7}}\n + -0.03125 * \\Phi_{h_{5}h_{4}}^{p_{0}p_{1}}v_{h_{6}h_{7}}^{p_{2}p_{3}}t2_{p_{3}p_{1}}^{h_{4}h_{5}}t2_{p_{0}p_{2}}^{h_{6}h_{7}}\n + -0.03125 * \\Phi_{h_{5}h_{4}}^{p_{0}p_{1}}v_{h_{7}h_{6}}^{p_{2}p_{3}}t2_{p_{2}p_{1}}^{h_{4}h_{5}}t2_{p_{0}p_{3}}^{h_{6}h_{7}}\n + 0.0625 * \\Phi_{h_{5}h_{4}}^{p_{0}p_{1}}v_{h_{7}h_{6}}^{p_{2}p_{3}}t2_{p_{3}p_{1}}^{h_{4}h_{5}}t2_{p_{0}p_{2}}^{h_{6}h_{7}}\n + -0.03125 * \\Phi_{h_{5}h_{4}}^{p_{0}p_{1}}v_{h_{6}h_{7}}^{p_{2}p_{3}}t2_{p_{2}p_{3}}^{h_{4}h_{5}}t2_{p_{0}p_{1}}^{h_{6}h_{7}}\n + 0.0625 * \\Phi_{h_{5}h_{4}}^{p_{0}p_{1}}v_{h_{6}h_{7}}^{p_{2}p_{3}}t2_{p_{3}p_{2}}^{h_{4}h_{5}}t2_{p_{0}p_{1}}^{h_{6}h_{7}}\n + 0.0625 * \\Phi_{h_{5}h_{4}}^{p_{0}p_{1}}v_{h_{7}h_{6}}^{p_{2}p_{3}}t2_{p_{2}p_{3}}^{h_{4}h_{5}}t2_{p_{0}p_{1}}^{h_{6}h_{7}}\n + -0.03125 * \\Phi_{h_{5}h_{4}}^{p_{0}p_{1}}v_{h_{7}h_{6}}^{p_{2}p_{3}}t2_{p_{3}p_{2}}^{h_{4}h_{5}}t2_{p_{0}p_{1}}^{h_{6}h_{7}}\n + 0.0625 * \\Phi_{h_{5}h_{4}}^{p_{0}p_{1}}v_{h_{6}h_{7}}^{p_{2}p_{3}}t2_{p_{1}p_{2}}^{h_{4}h_{5}}t2_{p_{3}p_{0}}^{h_{6}h_{7}}\n + -0.125 * \\Phi_{h_{5}h_{4}}^{p_{0}p_{1}}v_{h_{6}h_{7}}^{p_{2}p_{3}}t2_{p_{1}p_{3}}^{h_{4}h_{5}}t2_{p_{2}p_{0}}^{h_{6}h_{7}}\n + -0.125 * \\Phi_{h_{5}h_{4}}^{p_{0}p_{1}}v_{h_{7}h_{6}}^{p_{2}p_{3}}t2_{p_{1}p_{2}}^{h_{4}h_{5}}t2_{p_{3}p_{0}}^{h_{6}h_{7}}\n + 0.0625 * \\Phi_{h_{5}h_{4}}^{p_{0}p_{1}}v_{h_{7}h_{6}}^{p_{2}p_{3}}t2_{p_{1}p_{3}}^{h_{4}h_{5}}t2_{p_{2}p_{0}}^{h_{6}h_{7}}\n + -0.03125 * \\Phi_{h_{5}h_{4}}^{p_{0}p_{1}}v_{h_{6}h_{7}}^{p_{2}p_{3}}t2_{p_{2}p_{1}}^{h_{4}h_{5}}t2_{p_{3}p_{0}}^{h_{6}h_{7}}\n + 0.0625 * \\Phi_{h_{5}h_{4}}^{p_{0}p_{1}}v_{h_{6}h_{7}}^{p_{2}p_{3}}t2_{p_{3}p_{1}}^{h_{4}h_{5}}t2_{p_{2}p_{0}}^{h_{6}h_{7}}\n + 0.0625 * \\Phi_{h_{5}h_{4}}^{p_{0}p_{1}}v_{h_{7}h_{6}}^{p_{2}p_{3}}t2_{p_{2}p_{1}}^{h_{4}h_{5}}t2_{p_{3}p_{0}}^{h_{6}h_{7}}\n + -0.03125 * \\Phi_{h_{5}h_{4}}^{p_{0}p_{1}}v_{h_{7}h_{6}}^{p_{2}p_{3}}t2_{p_{3}p_{1}}^{h_{4}h_{5}}t2_{p_{2}p_{0}}^{h_{6}h_{7}}\n + 0.0625 * \\Phi_{h_{5}h_{4}}^{p_{0}p_{1}}v_{h_{6}h_{7}}^{p_{2}p_{3}}t2_{p_{2}p_{3}}^{h_{4}h_{5}}t2_{p_{1}p_{0}}^{h_{6}h_{7}}\n + -0.03125 * \\Phi_{h_{5}h_{4}}^{p_{0}p_{1}}v_{h_{6}h_{7}}^{p_{2}p_{3}}t2_{p_{3}p_{2}}^{h_{4}h_{5}}t2_{p_{1}p_{0}}^{h_{6}h_{7}}\n + -0.03125 * \\Phi_{h_{5}h_{4}}^{p_{0}p_{1}}v_{h_{7}h_{6}}^{p_{2}p_{3}}t2_{p_{2}p_{3}}^{h_{4}h_{5}}t2_{p_{1}p_{0}}^{h_{6}h_{7}}\n + 0.0625 * \\Phi_{h_{5}h_{4}}^{p_{0}p_{1}}v_{h_{7}h_{6}}^{p_{2}p_{3}}t2_{p_{3}p_{2}}^{h_{4}h_{5}}t2_{p_{1}p_{0}}^{h_{6}h_{7}}\n + 0.0625 * \\Phi_{h_{5}h_{6}}^{p_{0}p_{1}}v_{h_{4}h_{7}}^{p_{2}p_{3}}t2_{p_{0}p_{1}}^{h_{4}h_{5}}t2_{p_{2}p_{3}}^{h_{6}h_{7}}\n + -0.03125 * \\Phi_{h_{5}h_{6}}^{p_{0}p_{1}}v_{h_{4}h_{7}}^{p_{2}p_{3}}t2_{p_{0}p_{1}}^{h_{4}h_{5}}t2_{p_{3}p_{2}}^{h_{6}h_{7}}\n + -0.03125 * \\Phi_{h_{5}h_{6}}^{p_{0}p_{1}}v_{h_{7}h_{4}}^{p_{2}p_{3}}t2_{p_{0}p_{1}}^{h_{4}h_{5}}t2_{p_{2}p_{3}}^{h_{6}h_{7}}\n + 0.0625 * \\Phi_{h_{5}h_{6}}^{p_{0}p_{1}}v_{h_{7}h_{4}}^{p_{2}p_{3}}t2_{p_{0}p_{1}}^{h_{4}h_{5}}t2_{p_{3}p_{2}}^{h_{6}h_{7}}\n + -0.03125 * \\Phi_{h_{5}h_{6}}^{p_{0}p_{1}}v_{h_{4}h_{7}}^{p_{2}p_{3}}t2_{p_{0}p_{2}}^{h_{4}h_{5}}t2_{p_{1}p_{3}}^{h_{6}h_{7}}\n + 0.0625 * \\Phi_{h_{5}h_{6}}^{p_{0}p_{1}}v_{h_{4}h_{7}}^{p_{2}p_{3}}t2_{p_{0}p_{3}}^{h_{4}h_{5}}t2_{p_{1}p_{2}}^{h_{6}h_{7}}\n + 0.0625 * \\Phi_{h_{5}h_{6}}^{p_{0}p_{1}}v_{h_{7}h_{4}}^{p_{2}p_{3}}t2_{p_{0}p_{2}}^{h_{4}h_{5}}t2_{p_{1}p_{3}}^{h_{6}h_{7}}\n + -0.03125 * \\Phi_{h_{5}h_{6}}^{p_{0}p_{1}}v_{h_{7}h_{4}}^{p_{2}p_{3}}t2_{p_{0}p_{3}}^{h_{4}h_{5}}t2_{p_{1}p_{2}}^{h_{6}h_{7}}\n + 0.0625 * \\Phi_{h_{5}h_{6}}^{p_{0}p_{1}}v_{h_{4}h_{7}}^{p_{2}p_{3}}t2_{p_{0}p_{2}}^{h_{4}h_{5}}t2_{p_{3}p_{1}}^{h_{6}h_{7}}\n + -0.125 * \\Phi_{h_{5}h_{6}}^{p_{0}p_{1}}v_{h_{4}h_{7}}^{p_{2}p_{3}}t2_{p_{0}p_{3}}^{h_{4}h_{5}}t2_{p_{2}p_{1}}^{h_{6}h_{7}}\n + -0.125 * \\Phi_{h_{5}h_{6}}^{p_{0}p_{1}}v_{h_{7}h_{4}}^{p_{2}p_{3}}t2_{p_{0}p_{2}}^{h_{4}h_{5}}t2_{p_{3}p_{1}}^{h_{6}h_{7}}\n + 0.0625 * \\Phi_{h_{5}h_{6}}^{p_{0}p_{1}}v_{h_{7}h_{4}}^{p_{2}p_{3}}t2_{p_{0}p_{3}}^{h_{4}h_{5}}t2_{p_{2}p_{1}}^{h_{6}h_{7}}\n + -0.125 * \\Phi_{h_{5}h_{6}}^{p_{0}p_{1}}v_{h_{4}h_{7}}^{p_{2}p_{3}}t2_{p_{1}p_{0}}^{h_{4}h_{5}}t2_{p_{2}p_{3}}^{h_{6}h_{7}}\n + 0.0625 * \\Phi_{h_{5}h_{6}}^{p_{0}p_{1}}v_{h_{4}h_{7}}^{p_{2}p_{3}}t2_{p_{1}p_{0}}^{h_{4}h_{5}}t2_{p_{3}p_{2}}^{h_{6}h_{7}}\n + 0.0625 * \\Phi_{h_{5}h_{6}}^{p_{0}p_{1}}v_{h_{7}h_{4}}^{p_{2}p_{3}}t2_{p_{1}p_{0}}^{h_{4}h_{5}}t2_{p_{2}p_{3}}^{h_{6}h_{7}}\n + -0.125 * \\Phi_{h_{5}h_{6}}^{p_{0}p_{1}}v_{h_{7}h_{4}}^{p_{2}p_{3}}t2_{p_{1}p_{0}}^{h_{4}h_{5}}t2_{p_{3}p_{2}}^{h_{6}h_{7}}\n + 0.0625 * \\Phi_{h_{5}h_{6}}^{p_{0}p_{1}}v_{h_{4}h_{7}}^{p_{2}p_{3}}t2_{p_{2}p_{0}}^{h_{4}h_{5}}t2_{p_{1}p_{3}}^{h_{6}h_{7}}\n + -0.03125 * \\Phi_{h_{5}h_{6}}^{p_{0}p_{1}}v_{h_{4}h_{7}}^{p_{2}p_{3}}t2_{p_{3}p_{0}}^{h_{4}h_{5}}t2_{p_{1}p_{2}}^{h_{6}h_{7}}\n + -0.03125 * \\Phi_{h_{5}h_{6}}^{p_{0}p_{1}}v_{h_{7}h_{4}}^{p_{2}p_{3}}t2_{p_{2}p_{0}}^{h_{4}h_{5}}t2_{p_{1}p_{3}}^{h_{6}h_{7}}\n + 0.0625 * \\Phi_{h_{5}h_{6}}^{p_{0}p_{1}}v_{h_{7}h_{4}}^{p_{2}p_{3}}t2_{p_{3}p_{0}}^{h_{4}h_{5}}t2_{p_{1}p_{2}}^{h_{6}h_{7}}\n + -0.03125 * \\Phi_{h_{5}h_{6}}^{p_{0}p_{1}}v_{h_{4}h_{7}}^{p_{2}p_{3}}t2_{p_{2}p_{0}}^{h_{4}h_{5}}t2_{p_{3}p_{1}}^{h_{6}h_{7}}\n + 0.0625 * \\Phi_{h_{5}h_{6}}^{p_{0}p_{1}}v_{h_{4}h_{7}}^{p_{2}p_{3}}t2_{p_{3}p_{0}}^{h_{4}h_{5}}t2_{p_{2}p_{1}}^{h_{6}h_{7}}\n + 0.0625 * \\Phi_{h_{5}h_{6}}^{p_{0}p_{1}}v_{h_{7}h_{4}}^{p_{2}p_{3}}t2_{p_{2}p_{0}}^{h_{4}h_{5}}t2_{p_{3}p_{1}}^{h_{6}h_{7}}\n + -0.03125 * \\Phi_{h_{5}h_{6}}^{p_{0}p_{1}}v_{h_{7}h_{4}}^{p_{2}p_{3}}t2_{p_{3}p_{0}}^{h_{4}h_{5}}t2_{p_{2}p_{1}}^{h_{6}h_{7}}\n + 0.0625 * \\Phi_{h_{5}h_{6}}^{p_{0}p_{1}}v_{h_{4}h_{7}}^{p_{2}p_{3}}t2_{p_{1}p_{2}}^{h_{4}h_{5}}t2_{p_{0}p_{3}}^{h_{6}h_{7}}\n + -0.125 * \\Phi_{h_{5}h_{6}}^{p_{0}p_{1}}v_{h_{4}h_{7}}^{p_{2}p_{3}}t2_{p_{1}p_{3}}^{h_{4}h_{5}}t2_{p_{0}p_{2}}^{h_{6}h_{7}}\n + -0.125 * \\Phi_{h_{5}h_{6}}^{p_{0}p_{1}}v_{h_{7}h_{4}}^{p_{2}p_{3}}t2_{p_{1}p_{2}}^{h_{4}h_{5}}t2_{p_{0}p_{3}}^{h_{6}h_{7}}\n + 0.0625 * \\Phi_{h_{5}h_{6}}^{p_{0}p_{1}}v_{h_{7}h_{4}}^{p_{2}p_{3}}t2_{p_{1}p_{3}}^{h_{4}h_{5}}t2_{p_{0}p_{2}}^{h_{6}h_{7}}\n + -0.03125 * \\Phi_{h_{5}h_{6}}^{p_{0}p_{1}}v_{h_{4}h_{7}}^{p_{2}p_{3}}t2_{p_{2}p_{1}}^{h_{4}h_{5}}t2_{p_{0}p_{3}}^{h_{6}h_{7}}\n + 0.0625 * \\Phi_{h_{5}h_{6}}^{p_{0}p_{1}}v_{h_{4}h_{7}}^{p_{2}p_{3}}t2_{p_{3}p_{1}}^{h_{4}h_{5}}t2_{p_{0}p_{2}}^{h_{6}h_{7}}\n + 0.0625 * \\Phi_{h_{5}h_{6}}^{p_{0}p_{1}}v_{h_{7}h_{4}}^{p_{2}p_{3}}t2_{p_{2}p_{1}}^{h_{4}h_{5}}t2_{p_{0}p_{3}}^{h_{6}h_{7}}\n + -0.03125 * \\Phi_{h_{5}h_{6}}^{p_{0}p_{1}}v_{h_{7}h_{4}}^{p_{2}p_{3}}t2_{p_{3}p_{1}}^{h_{4}h_{5}}t2_{p_{0}p_{2}}^{h_{6}h_{7}}\n + 0.0625 * \\Phi_{h_{5}h_{6}}^{p_{0}p_{1}}v_{h_{4}h_{7}}^{p_{2}p_{3}}t2_{p_{2}p_{3}}^{h_{4}h_{5}}t2_{p_{0}p_{1}}^{h_{6}h_{7}}\n + -0.03125 * \\Phi_{h_{5}h_{6}}^{p_{0}p_{1}}v_{h_{4}h_{7}}^{p_{2}p_{3}}t2_{p_{3}p_{2}}^{h_{4}h_{5}}t2_{p_{0}p_{1}}^{h_{6}h_{7}}\n + -0.03125 * \\Phi_{h_{5}h_{6}}^{p_{0}p_{1}}v_{h_{7}h_{4}}^{p_{2}p_{3}}t2_{p_{2}p_{3}}^{h_{4}h_{5}}t2_{p_{0}p_{1}}^{h_{6}h_{7}}\n + 0.0625 * \\Phi_{h_{5}h_{6}}^{p_{0}p_{1}}v_{h_{7}h_{4}}^{p_{2}p_{3}}t2_{p_{3}p_{2}}^{h_{4}h_{5}}t2_{p_{0}p_{1}}^{h_{6}h_{7}}\n + -0.125 * \\Phi_{h_{5}h_{6}}^{p_{0}p_{1}}v_{h_{4}h_{7}}^{p_{2}p_{3}}t2_{p_{1}p_{2}}^{h_{4}h_{5}}t2_{p_{3}p_{0}}^{h_{6}h_{7}}\n + 0.25 * \\Phi_{h_{5}h_{6}}^{p_{0}p_{1}}v_{h_{4}h_{7}}^{p_{2}p_{3}}t2_{p_{1}p_{3}}^{h_{4}h_{5}}t2_{p_{2}p_{0}}^{h_{6}h_{7}}\n + 0.25 * \\Phi_{h_{5}h_{6}}^{p_{0}p_{1}}v_{h_{7}h_{4}}^{p_{2}p_{3}}t2_{p_{1}p_{2}}^{h_{4}h_{5}}t2_{p_{3}p_{0}}^{h_{6}h_{7}}\n + -0.125 * \\Phi_{h_{5}h_{6}}^{p_{0}p_{1}}v_{h_{7}h_{4}}^{p_{2}p_{3}}t2_{p_{1}p_{3}}^{h_{4}h_{5}}t2_{p_{2}p_{0}}^{h_{6}h_{7}}\n + 0.0625 * \\Phi_{h_{5}h_{6}}^{p_{0}p_{1}}v_{h_{4}h_{7}}^{p_{2}p_{3}}t2_{p_{2}p_{1}}^{h_{4}h_{5}}t2_{p_{3}p_{0}}^{h_{6}h_{7}}\n + -0.125 * \\Phi_{h_{5}h_{6}}^{p_{0}p_{1}}v_{h_{4}h_{7}}^{p_{2}p_{3}}t2_{p_{3}p_{1}}^{h_{4}h_{5}}t2_{p_{2}p_{0}}^{h_{6}h_{7}}\n + -0.125 * \\Phi_{h_{5}h_{6}}^{p_{0}p_{1}}v_{h_{7}h_{4}}^{p_{2}p_{3}}t2_{p_{2}p_{1}}^{h_{4}h_{5}}t2_{p_{3}p_{0}}^{h_{6}h_{7}}\n + 0.0625 * \\Phi_{h_{5}h_{6}}^{p_{0}p_{1}}v_{h_{7}h_{4}}^{p_{2}p_{3}}t2_{p_{3}p_{1}}^{h_{4}h_{5}}t2_{p_{2}p_{0}}^{h_{6}h_{7}}\n + -0.125 * \\Phi_{h_{5}h_{6}}^{p_{0}p_{1}}v_{h_{4}h_{7}}^{p_{2}p_{3}}t2_{p_{2}p_{3}}^{h_{4}h_{5}}t2_{p_{1}p_{0}}^{h_{6}h_{7}}\n + 0.0625 * \\Phi_{h_{5}h_{6}}^{p_{0}p_{1}}v_{h_{4}h_{7}}^{p_{2}p_{3}}t2_{p_{3}p_{2}}^{h_{4}h_{5}}t2_{p_{1}p_{0}}^{h_{6}h_{7}}\n + 0.0625 * \\Phi_{h_{5}h_{6}}^{p_{0}p_{1}}v_{h_{7}h_{4}}^{p_{2}p_{3}}t2_{p_{2}p_{3}}^{h_{4}h_{5}}t2_{p_{1}p_{0}}^{h_{6}h_{7}}\n + -0.125 * \\Phi_{h_{5}h_{6}}^{p_{0}p_{1}}v_{h_{7}h_{4}}^{p_{2}p_{3}}t2_{p_{3}p_{2}}^{h_{4}h_{5}}t2_{p_{1}p_{0}}^{h_{6}h_{7}}\n + -0.03125 * \\Phi_{h_{5}h_{7}}^{p_{0}p_{1}}v_{h_{4}h_{6}}^{p_{2}p_{3}}t2_{p_{0}p_{1}}^{h_{4}h_{5}}t2_{p_{2}p_{3}}^{h_{6}h_{7}}\n + 0.0625 * \\Phi_{h_{5}h_{7}}^{p_{0}p_{1}}v_{h_{4}h_{6}}^{p_{2}p_{3}}t2_{p_{0}p_{1}}^{h_{4}h_{5}}t2_{p_{3}p_{2}}^{h_{6}h_{7}}\n + 0.0625 * \\Phi_{h_{5}h_{7}}^{p_{0}p_{1}}v_{h_{6}h_{4}}^{p_{2}p_{3}}t2_{p_{0}p_{1}}^{h_{4}h_{5}}t2_{p_{2}p_{3}}^{h_{6}h_{7}}\n + -0.03125 * \\Phi_{h_{5}h_{7}}^{p_{0}p_{1}}v_{h_{6}h_{4}}^{p_{2}p_{3}}t2_{p_{0}p_{1}}^{h_{4}h_{5}}t2_{p_{3}p_{2}}^{h_{6}h_{7}}\n + 0.0625 * \\Phi_{h_{5}h_{7}}^{p_{0}p_{1}}v_{h_{4}h_{6}}^{p_{2}p_{3}}t2_{p_{0}p_{2}}^{h_{4}h_{5}}t2_{p_{1}p_{3}}^{h_{6}h_{7}}\n + -0.125 * \\Phi_{h_{5}h_{7}}^{p_{0}p_{1}}v_{h_{4}h_{6}}^{p_{2}p_{3}}t2_{p_{0}p_{3}}^{h_{4}h_{5}}t2_{p_{1}p_{2}}^{h_{6}h_{7}}\n + -0.125 * \\Phi_{h_{5}h_{7}}^{p_{0}p_{1}}v_{h_{6}h_{4}}^{p_{2}p_{3}}t2_{p_{0}p_{2}}^{h_{4}h_{5}}t2_{p_{1}p_{3}}^{h_{6}h_{7}}\n + 0.0625 * \\Phi_{h_{5}h_{7}}^{p_{0}p_{1}}v_{h_{6}h_{4}}^{p_{2}p_{3}}t2_{p_{0}p_{3}}^{h_{4}h_{5}}t2_{p_{1}p_{2}}^{h_{6}h_{7}}\n + -0.03125 * \\Phi_{h_{5}h_{7}}^{p_{0}p_{1}}v_{h_{4}h_{6}}^{p_{2}p_{3}}t2_{p_{0}p_{2}}^{h_{4}h_{5}}t2_{p_{3}p_{1}}^{h_{6}h_{7}}\n + 0.0625 * \\Phi_{h_{5}h_{7}}^{p_{0}p_{1}}v_{h_{4}h_{6}}^{p_{2}p_{3}}t2_{p_{0}p_{3}}^{h_{4}h_{5}}t2_{p_{2}p_{1}}^{h_{6}h_{7}}\n + 0.0625 * \\Phi_{h_{5}h_{7}}^{p_{0}p_{1}}v_{h_{6}h_{4}}^{p_{2}p_{3}}t2_{p_{0}p_{2}}^{h_{4}h_{5}}t2_{p_{3}p_{1}}^{h_{6}h_{7}}\n + -0.03125 * \\Phi_{h_{5}h_{7}}^{p_{0}p_{1}}v_{h_{6}h_{4}}^{p_{2}p_{3}}t2_{p_{0}p_{3}}^{h_{4}h_{5}}t2_{p_{2}p_{1}}^{h_{6}h_{7}}\n + 0.0625 * \\Phi_{h_{5}h_{7}}^{p_{0}p_{1}}v_{h_{4}h_{6}}^{p_{2}p_{3}}t2_{p_{1}p_{0}}^{h_{4}h_{5}}t2_{p_{2}p_{3}}^{h_{6}h_{7}}\n + -0.125 * \\Phi_{h_{5}h_{7}}^{p_{0}p_{1}}v_{h_{4}h_{6}}^{p_{2}p_{3}}t2_{p_{1}p_{0}}^{h_{4}h_{5}}t2_{p_{3}p_{2}}^{h_{6}h_{7}}\n + -0.125 * \\Phi_{h_{5}h_{7}}^{p_{0}p_{1}}v_{h_{6}h_{4}}^{p_{2}p_{3}}t2_{p_{1}p_{0}}^{h_{4}h_{5}}t2_{p_{2}p_{3}}^{h_{6}h_{7}}\n + 0.0625 * \\Phi_{h_{5}h_{7}}^{p_{0}p_{1}}v_{h_{6}h_{4}}^{p_{2}p_{3}}t2_{p_{1}p_{0}}^{h_{4}h_{5}}t2_{p_{3}p_{2}}^{h_{6}h_{7}}\n + -0.03125 * \\Phi_{h_{5}h_{7}}^{p_{0}p_{1}}v_{h_{4}h_{6}}^{p_{2}p_{3}}t2_{p_{2}p_{0}}^{h_{4}h_{5}}t2_{p_{1}p_{3}}^{h_{6}h_{7}}\n + 0.0625 * \\Phi_{h_{5}h_{7}}^{p_{0}p_{1}}v_{h_{4}h_{6}}^{p_{2}p_{3}}t2_{p_{3}p_{0}}^{h_{4}h_{5}}t2_{p_{1}p_{2}}^{h_{6}h_{7}}\n + 0.0625 * \\Phi_{h_{5}h_{7}}^{p_{0}p_{1}}v_{h_{6}h_{4}}^{p_{2}p_{3}}t2_{p_{2}p_{0}}^{h_{4}h_{5}}t2_{p_{1}p_{3}}^{h_{6}h_{7}}\n + -0.03125 * \\Phi_{h_{5}h_{7}}^{p_{0}p_{1}}v_{h_{6}h_{4}}^{p_{2}p_{3}}t2_{p_{3}p_{0}}^{h_{4}h_{5}}t2_{p_{1}p_{2}}^{h_{6}h_{7}}\n + 0.0625 * \\Phi_{h_{5}h_{7}}^{p_{0}p_{1}}v_{h_{4}h_{6}}^{p_{2}p_{3}}t2_{p_{2}p_{0}}^{h_{4}h_{5}}t2_{p_{3}p_{1}}^{h_{6}h_{7}}\n + -0.03125 * \\Phi_{h_{5}h_{7}}^{p_{0}p_{1}}v_{h_{4}h_{6}}^{p_{2}p_{3}}t2_{p_{3}p_{0}}^{h_{4}h_{5}}t2_{p_{2}p_{1}}^{h_{6}h_{7}}\n + -0.03125 * \\Phi_{h_{5}h_{7}}^{p_{0}p_{1}}v_{h_{6}h_{4}}^{p_{2}p_{3}}t2_{p_{2}p_{0}}^{h_{4}h_{5}}t2_{p_{3}p_{1}}^{h_{6}h_{7}}\n + 0.0625 * \\Phi_{h_{5}h_{7}}^{p_{0}p_{1}}v_{h_{6}h_{4}}^{p_{2}p_{3}}t2_{p_{3}p_{0}}^{h_{4}h_{5}}t2_{p_{2}p_{1}}^{h_{6}h_{7}}\n + -0.125 * \\Phi_{h_{5}h_{7}}^{p_{0}p_{1}}v_{h_{4}h_{6}}^{p_{2}p_{3}}t2_{p_{1}p_{2}}^{h_{4}h_{5}}t2_{p_{0}p_{3}}^{h_{6}h_{7}}\n + 0.25 * \\Phi_{h_{5}h_{7}}^{p_{0}p_{1}}v_{h_{4}h_{6}}^{p_{2}p_{3}}t2_{p_{1}p_{3}}^{h_{4}h_{5}}t2_{p_{0}p_{2}}^{h_{6}h_{7}}\n + 0.25 * \\Phi_{h_{5}h_{7}}^{p_{0}p_{1}}v_{h_{6}h_{4}}^{p_{2}p_{3}}t2_{p_{1}p_{2}}^{h_{4}h_{5}}t2_{p_{0}p_{3}}^{h_{6}h_{7}}\n + -0.125 * \\Phi_{h_{5}h_{7}}^{p_{0}p_{1}}v_{h_{6}h_{4}}^{p_{2}p_{3}}t2_{p_{1}p_{3}}^{h_{4}h_{5}}t2_{p_{0}p_{2}}^{h_{6}h_{7}}\n + 0.0625 * \\Phi_{h_{5}h_{7}}^{p_{0}p_{1}}v_{h_{4}h_{6}}^{p_{2}p_{3}}t2_{p_{2}p_{1}}^{h_{4}h_{5}}t2_{p_{0}p_{3}}^{h_{6}h_{7}}\n + -0.125 * \\Phi_{h_{5}h_{7}}^{p_{0}p_{1}}v_{h_{4}h_{6}}^{p_{2}p_{3}}t2_{p_{3}p_{1}}^{h_{4}h_{5}}t2_{p_{0}p_{2}}^{h_{6}h_{7}}\n + -0.125 * \\Phi_{h_{5}h_{7}}^{p_{0}p_{1}}v_{h_{6}h_{4}}^{p_{2}p_{3}}t2_{p_{2}p_{1}}^{h_{4}h_{5}}t2_{p_{0}p_{3}}^{h_{6}h_{7}}\n + 0.0625 * \\Phi_{h_{5}h_{7}}^{p_{0}p_{1}}v_{h_{6}h_{4}}^{p_{2}p_{3}}t2_{p_{3}p_{1}}^{h_{4}h_{5}}t2_{p_{0}p_{2}}^{h_{6}h_{7}}\n + -0.125 * \\Phi_{h_{5}h_{7}}^{p_{0}p_{1}}v_{h_{4}h_{6}}^{p_{2}p_{3}}t2_{p_{2}p_{3}}^{h_{4}h_{5}}t2_{p_{0}p_{1}}^{h_{6}h_{7}}\n + 0.0625 * \\Phi_{h_{5}h_{7}}^{p_{0}p_{1}}v_{h_{4}h_{6}}^{p_{2}p_{3}}t2_{p_{3}p_{2}}^{h_{4}h_{5}}t2_{p_{0}p_{1}}^{h_{6}h_{7}}\n + 0.0625 * \\Phi_{h_{5}h_{7}}^{p_{0}p_{1}}v_{h_{6}h_{4}}^{p_{2}p_{3}}t2_{p_{2}p_{3}}^{h_{4}h_{5}}t2_{p_{0}p_{1}}^{h_{6}h_{7}}\n + -0.125 * \\Phi_{h_{5}h_{7}}^{p_{0}p_{1}}v_{h_{6}h_{4}}^{p_{2}p_{3}}t2_{p_{3}p_{2}}^{h_{4}h_{5}}t2_{p_{0}p_{1}}^{h_{6}h_{7}}\n + 0.0625 * \\Phi_{h_{5}h_{7}}^{p_{0}p_{1}}v_{h_{4}h_{6}}^{p_{2}p_{3}}t2_{p_{1}p_{2}}^{h_{4}h_{5}}t2_{p_{3}p_{0}}^{h_{6}h_{7}}\n + -0.125 * \\Phi_{h_{5}h_{7}}^{p_{0}p_{1}}v_{h_{4}h_{6}}^{p_{2}p_{3}}t2_{p_{1}p_{3}}^{h_{4}h_{5}}t2_{p_{2}p_{0}}^{h_{6}h_{7}}\n + -0.125 * \\Phi_{h_{5}h_{7}}^{p_{0}p_{1}}v_{h_{6}h_{4}}^{p_{2}p_{3}}t2_{p_{1}p_{2}}^{h_{4}h_{5}}t2_{p_{3}p_{0}}^{h_{6}h_{7}}\n + 0.0625 * \\Phi_{h_{5}h_{7}}^{p_{0}p_{1}}v_{h_{6}h_{4}}^{p_{2}p_{3}}t2_{p_{1}p_{3}}^{h_{4}h_{5}}t2_{p_{2}p_{0}}^{h_{6}h_{7}}\n + -0.03125 * \\Phi_{h_{5}h_{7}}^{p_{0}p_{1}}v_{h_{4}h_{6}}^{p_{2}p_{3}}t2_{p_{2}p_{1}}^{h_{4}h_{5}}t2_{p_{3}p_{0}}^{h_{6}h_{7}}\n + 0.0625 * \\Phi_{h_{5}h_{7}}^{p_{0}p_{1}}v_{h_{4}h_{6}}^{p_{2}p_{3}}t2_{p_{3}p_{1}}^{h_{4}h_{5}}t2_{p_{2}p_{0}}^{h_{6}h_{7}}\n + 0.0625 * \\Phi_{h_{5}h_{7}}^{p_{0}p_{1}}v_{h_{6}h_{4}}^{p_{2}p_{3}}t2_{p_{2}p_{1}}^{h_{4}h_{5}}t2_{p_{3}p_{0}}^{h_{6}h_{7}}\n + -0.03125 * \\Phi_{h_{5}h_{7}}^{p_{0}p_{1}}v_{h_{6}h_{4}}^{p_{2}p_{3}}t2_{p_{3}p_{1}}^{h_{4}h_{5}}t2_{p_{2}p_{0}}^{h_{6}h_{7}}\n + 0.0625 * \\Phi_{h_{5}h_{7}}^{p_{0}p_{1}}v_{h_{4}h_{6}}^{p_{2}p_{3}}t2_{p_{2}p_{3}}^{h_{4}h_{5}}t2_{p_{1}p_{0}}^{h_{6}h_{7}}\n + -0.03125 * \\Phi_{h_{5}h_{7}}^{p_{0}p_{1}}v_{h_{4}h_{6}}^{p_{2}p_{3}}t2_{p_{3}p_{2}}^{h_{4}h_{5}}t2_{p_{1}p_{0}}^{h_{6}h_{7}}\n + -0.03125 * \\Phi_{h_{5}h_{7}}^{p_{0}p_{1}}v_{h_{6}h_{4}}^{p_{2}p_{3}}t2_{p_{2}p_{3}}^{h_{4}h_{5}}t2_{p_{1}p_{0}}^{h_{6}h_{7}}\n + 0.0625 * \\Phi_{h_{5}h_{7}}^{p_{0}p_{1}}v_{h_{6}h_{4}}^{p_{2}p_{3}}t2_{p_{3}p_{2}}^{h_{4}h_{5}}t2_{p_{1}p_{0}}^{h_{6}h_{7}}\n + 0.0625 * \\Phi_{h_{6}h_{4}}^{p_{0}p_{1}}v_{h_{5}h_{7}}^{p_{2}p_{3}}t2_{p_{0}p_{1}}^{h_{4}h_{5}}t2_{p_{2}p_{3}}^{h_{6}h_{7}}\n + -0.03125 * \\Phi_{h_{6}h_{4}}^{p_{0}p_{1}}v_{h_{5}h_{7}}^{p_{2}p_{3}}t2_{p_{0}p_{1}}^{h_{4}h_{5}}t2_{p_{3}p_{2}}^{h_{6}h_{7}}\n + -0.03125 * \\Phi_{h_{6}h_{4}}^{p_{0}p_{1}}v_{h_{7}h_{5}}^{p_{2}p_{3}}t2_{p_{0}p_{1}}^{h_{4}h_{5}}t2_{p_{2}p_{3}}^{h_{6}h_{7}}\n + 0.0625 * \\Phi_{h_{6}h_{4}}^{p_{0}p_{1}}v_{h_{7}h_{5}}^{p_{2}p_{3}}t2_{p_{0}p_{1}}^{h_{4}h_{5}}t2_{p_{3}p_{2}}^{h_{6}h_{7}}\n + -0.03125 * \\Phi_{h_{6}h_{4}}^{p_{0}p_{1}}v_{h_{5}h_{7}}^{p_{2}p_{3}}t2_{p_{0}p_{2}}^{h_{4}h_{5}}t2_{p_{1}p_{3}}^{h_{6}h_{7}}\n + 0.0625 * \\Phi_{h_{6}h_{4}}^{p_{0}p_{1}}v_{h_{5}h_{7}}^{p_{2}p_{3}}t2_{p_{0}p_{3}}^{h_{4}h_{5}}t2_{p_{1}p_{2}}^{h_{6}h_{7}}\n + 0.0625 * \\Phi_{h_{6}h_{4}}^{p_{0}p_{1}}v_{h_{7}h_{5}}^{p_{2}p_{3}}t2_{p_{0}p_{2}}^{h_{4}h_{5}}t2_{p_{1}p_{3}}^{h_{6}h_{7}}\n + -0.03125 * \\Phi_{h_{6}h_{4}}^{p_{0}p_{1}}v_{h_{7}h_{5}}^{p_{2}p_{3}}t2_{p_{0}p_{3}}^{h_{4}h_{5}}t2_{p_{1}p_{2}}^{h_{6}h_{7}}\n + 0.0625 * \\Phi_{h_{6}h_{4}}^{p_{0}p_{1}}v_{h_{5}h_{7}}^{p_{2}p_{3}}t2_{p_{0}p_{2}}^{h_{4}h_{5}}t2_{p_{3}p_{1}}^{h_{6}h_{7}}\n + -0.125 * \\Phi_{h_{6}h_{4}}^{p_{0}p_{1}}v_{h_{5}h_{7}}^{p_{2}p_{3}}t2_{p_{0}p_{3}}^{h_{4}h_{5}}t2_{p_{2}p_{1}}^{h_{6}h_{7}}\n + -0.125 * \\Phi_{h_{6}h_{4}}^{p_{0}p_{1}}v_{h_{7}h_{5}}^{p_{2}p_{3}}t2_{p_{0}p_{2}}^{h_{4}h_{5}}t2_{p_{3}p_{1}}^{h_{6}h_{7}}\n + 0.0625 * \\Phi_{h_{6}h_{4}}^{p_{0}p_{1}}v_{h_{7}h_{5}}^{p_{2}p_{3}}t2_{p_{0}p_{3}}^{h_{4}h_{5}}t2_{p_{2}p_{1}}^{h_{6}h_{7}}\n + -0.125 * \\Phi_{h_{6}h_{4}}^{p_{0}p_{1}}v_{h_{5}h_{7}}^{p_{2}p_{3}}t2_{p_{1}p_{0}}^{h_{4}h_{5}}t2_{p_{2}p_{3}}^{h_{6}h_{7}}\n + 0.0625 * \\Phi_{h_{6}h_{4}}^{p_{0}p_{1}}v_{h_{5}h_{7}}^{p_{2}p_{3}}t2_{p_{1}p_{0}}^{h_{4}h_{5}}t2_{p_{3}p_{2}}^{h_{6}h_{7}}\n + 0.0625 * \\Phi_{h_{6}h_{4}}^{p_{0}p_{1}}v_{h_{7}h_{5}}^{p_{2}p_{3}}t2_{p_{1}p_{0}}^{h_{4}h_{5}}t2_{p_{2}p_{3}}^{h_{6}h_{7}}\n + -0.125 * \\Phi_{h_{6}h_{4}}^{p_{0}p_{1}}v_{h_{7}h_{5}}^{p_{2}p_{3}}t2_{p_{1}p_{0}}^{h_{4}h_{5}}t2_{p_{3}p_{2}}^{h_{6}h_{7}}\n + 0.0625 * \\Phi_{h_{6}h_{4}}^{p_{0}p_{1}}v_{h_{5}h_{7}}^{p_{2}p_{3}}t2_{p_{2}p_{0}}^{h_{4}h_{5}}t2_{p_{1}p_{3}}^{h_{6}h_{7}}\n + -0.125 * \\Phi_{h_{6}h_{4}}^{p_{0}p_{1}}v_{h_{5}h_{7}}^{p_{2}p_{3}}t2_{p_{3}p_{0}}^{h_{4}h_{5}}t2_{p_{1}p_{2}}^{h_{6}h_{7}}\n + -0.125 * \\Phi_{h_{6}h_{4}}^{p_{0}p_{1}}v_{h_{7}h_{5}}^{p_{2}p_{3}}t2_{p_{2}p_{0}}^{h_{4}h_{5}}t2_{p_{1}p_{3}}^{h_{6}h_{7}}\n + 0.0625 * \\Phi_{h_{6}h_{4}}^{p_{0}p_{1}}v_{h_{7}h_{5}}^{p_{2}p_{3}}t2_{p_{3}p_{0}}^{h_{4}h_{5}}t2_{p_{1}p_{2}}^{h_{6}h_{7}}\n + -0.125 * \\Phi_{h_{6}h_{4}}^{p_{0}p_{1}}v_{h_{5}h_{7}}^{p_{2}p_{3}}t2_{p_{2}p_{0}}^{h_{4}h_{5}}t2_{p_{3}p_{1}}^{h_{6}h_{7}}\n + 0.25 * \\Phi_{h_{6}h_{4}}^{p_{0}p_{1}}v_{h_{5}h_{7}}^{p_{2}p_{3}}t2_{p_{3}p_{0}}^{h_{4}h_{5}}t2_{p_{2}p_{1}}^{h_{6}h_{7}}\n + 0.25 * \\Phi_{h_{6}h_{4}}^{p_{0}p_{1}}v_{h_{7}h_{5}}^{p_{2}p_{3}}t2_{p_{2}p_{0}}^{h_{4}h_{5}}t2_{p_{3}p_{1}}^{h_{6}h_{7}}\n + -0.125 * \\Phi_{h_{6}h_{4}}^{p_{0}p_{1}}v_{h_{7}h_{5}}^{p_{2}p_{3}}t2_{p_{3}p_{0}}^{h_{4}h_{5}}t2_{p_{2}p_{1}}^{h_{6}h_{7}}\n + 0.0625 * \\Phi_{h_{6}h_{4}}^{p_{0}p_{1}}v_{h_{5}h_{7}}^{p_{2}p_{3}}t2_{p_{1}p_{2}}^{h_{4}h_{5}}t2_{p_{0}p_{3}}^{h_{6}h_{7}}\n + -0.03125 * \\Phi_{h_{6}h_{4}}^{p_{0}p_{1}}v_{h_{5}h_{7}}^{p_{2}p_{3}}t2_{p_{1}p_{3}}^{h_{4}h_{5}}t2_{p_{0}p_{2}}^{h_{6}h_{7}}\n + -0.03125 * \\Phi_{h_{6}h_{4}}^{p_{0}p_{1}}v_{h_{7}h_{5}}^{p_{2}p_{3}}t2_{p_{1}p_{2}}^{h_{4}h_{5}}t2_{p_{0}p_{3}}^{h_{6}h_{7}}\n + 0.0625 * \\Phi_{h_{6}h_{4}}^{p_{0}p_{1}}v_{h_{7}h_{5}}^{p_{2}p_{3}}t2_{p_{1}p_{3}}^{h_{4}h_{5}}t2_{p_{0}p_{2}}^{h_{6}h_{7}}\n + -0.03125 * \\Phi_{h_{6}h_{4}}^{p_{0}p_{1}}v_{h_{5}h_{7}}^{p_{2}p_{3}}t2_{p_{2}p_{1}}^{h_{4}h_{5}}t2_{p_{0}p_{3}}^{h_{6}h_{7}}\n + 0.0625 * \\Phi_{h_{6}h_{4}}^{p_{0}p_{1}}v_{h_{5}h_{7}}^{p_{2}p_{3}}t2_{p_{3}p_{1}}^{h_{4}h_{5}}t2_{p_{0}p_{2}}^{h_{6}h_{7}}\n + 0.0625 * \\Phi_{h_{6}h_{4}}^{p_{0}p_{1}}v_{h_{7}h_{5}}^{p_{2}p_{3}}t2_{p_{2}p_{1}}^{h_{4}h_{5}}t2_{p_{0}p_{3}}^{h_{6}h_{7}}\n + -0.03125 * \\Phi_{h_{6}h_{4}}^{p_{0}p_{1}}v_{h_{7}h_{5}}^{p_{2}p_{3}}t2_{p_{3}p_{1}}^{h_{4}h_{5}}t2_{p_{0}p_{2}}^{h_{6}h_{7}}\n + 0.0625 * \\Phi_{h_{6}h_{4}}^{p_{0}p_{1}}v_{h_{5}h_{7}}^{p_{2}p_{3}}t2_{p_{2}p_{3}}^{h_{4}h_{5}}t2_{p_{0}p_{1}}^{h_{6}h_{7}}\n + -0.125 * \\Phi_{h_{6}h_{4}}^{p_{0}p_{1}}v_{h_{5}h_{7}}^{p_{2}p_{3}}t2_{p_{3}p_{2}}^{h_{4}h_{5}}t2_{p_{0}p_{1}}^{h_{6}h_{7}}\n + -0.125 * \\Phi_{h_{6}h_{4}}^{p_{0}p_{1}}v_{h_{7}h_{5}}^{p_{2}p_{3}}t2_{p_{2}p_{3}}^{h_{4}h_{5}}t2_{p_{0}p_{1}}^{h_{6}h_{7}}\n + 0.0625 * \\Phi_{h_{6}h_{4}}^{p_{0}p_{1}}v_{h_{7}h_{5}}^{p_{2}p_{3}}t2_{p_{3}p_{2}}^{h_{4}h_{5}}t2_{p_{0}p_{1}}^{h_{6}h_{7}}\n + -0.03125 * \\Phi_{h_{6}h_{4}}^{p_{0}p_{1}}v_{h_{5}h_{7}}^{p_{2}p_{3}}t2_{p_{1}p_{2}}^{h_{4}h_{5}}t2_{p_{3}p_{0}}^{h_{6}h_{7}}\n + 0.0625 * \\Phi_{h_{6}h_{4}}^{p_{0}p_{1}}v_{h_{5}h_{7}}^{p_{2}p_{3}}t2_{p_{1}p_{3}}^{h_{4}h_{5}}t2_{p_{2}p_{0}}^{h_{6}h_{7}}\n + 0.0625 * \\Phi_{h_{6}h_{4}}^{p_{0}p_{1}}v_{h_{7}h_{5}}^{p_{2}p_{3}}t2_{p_{1}p_{2}}^{h_{4}h_{5}}t2_{p_{3}p_{0}}^{h_{6}h_{7}}\n + -0.03125 * \\Phi_{h_{6}h_{4}}^{p_{0}p_{1}}v_{h_{7}h_{5}}^{p_{2}p_{3}}t2_{p_{1}p_{3}}^{h_{4}h_{5}}t2_{p_{2}p_{0}}^{h_{6}h_{7}}\n + 0.0625 * \\Phi_{h_{6}h_{4}}^{p_{0}p_{1}}v_{h_{5}h_{7}}^{p_{2}p_{3}}t2_{p_{2}p_{1}}^{h_{4}h_{5}}t2_{p_{3}p_{0}}^{h_{6}h_{7}}\n + -0.125 * \\Phi_{h_{6}h_{4}}^{p_{0}p_{1}}v_{h_{5}h_{7}}^{p_{2}p_{3}}t2_{p_{3}p_{1}}^{h_{4}h_{5}}t2_{p_{2}p_{0}}^{h_{6}h_{7}}\n + -0.125 * \\Phi_{h_{6}h_{4}}^{p_{0}p_{1}}v_{h_{7}h_{5}}^{p_{2}p_{3}}t2_{p_{2}p_{1}}^{h_{4}h_{5}}t2_{p_{3}p_{0}}^{h_{6}h_{7}}\n + 0.0625 * \\Phi_{h_{6}h_{4}}^{p_{0}p_{1}}v_{h_{7}h_{5}}^{p_{2}p_{3}}t2_{p_{3}p_{1}}^{h_{4}h_{5}}t2_{p_{2}p_{0}}^{h_{6}h_{7}}\n + -0.03125 * \\Phi_{h_{6}h_{4}}^{p_{0}p_{1}}v_{h_{5}h_{7}}^{p_{2}p_{3}}t2_{p_{2}p_{3}}^{h_{4}h_{5}}t2_{p_{1}p_{0}}^{h_{6}h_{7}}\n + 0.0625 * \\Phi_{h_{6}h_{4}}^{p_{0}p_{1}}v_{h_{5}h_{7}}^{p_{2}p_{3}}t2_{p_{3}p_{2}}^{h_{4}h_{5}}t2_{p_{1}p_{0}}^{h_{6}h_{7}}\n + 0.0625 * \\Phi_{h_{6}h_{4}}^{p_{0}p_{1}}v_{h_{7}h_{5}}^{p_{2}p_{3}}t2_{p_{2}p_{3}}^{h_{4}h_{5}}t2_{p_{1}p_{0}}^{h_{6}h_{7}}\n + -0.03125 * \\Phi_{h_{6}h_{4}}^{p_{0}p_{1}}v_{h_{7}h_{5}}^{p_{2}p_{3}}t2_{p_{3}p_{2}}^{h_{4}h_{5}}t2_{p_{1}p_{0}}^{h_{6}h_{7}}\n + -0.125 * \\Phi_{h_{6}h_{5}}^{p_{0}p_{1}}v_{h_{4}h_{7}}^{p_{2}p_{3}}t2_{p_{0}p_{1}}^{h_{4}h_{5}}t2_{p_{2}p_{3}}^{h_{6}h_{7}}\n + 0.0625 * \\Phi_{h_{6}h_{5}}^{p_{0}p_{1}}v_{h_{4}h_{7}}^{p_{2}p_{3}}t2_{p_{0}p_{1}}^{h_{4}h_{5}}t2_{p_{3}p_{2}}^{h_{6}h_{7}}\n + 0.0625 * \\Phi_{h_{6}h_{5}}^{p_{0}p_{1}}v_{h_{7}h_{4}}^{p_{2}p_{3}}t2_{p_{0}p_{1}}^{h_{4}h_{5}}t2_{p_{2}p_{3}}^{h_{6}h_{7}}\n + -0.125 * \\Phi_{h_{6}h_{5}}^{p_{0}p_{1}}v_{h_{7}h_{4}}^{p_{2}p_{3}}t2_{p_{0}p_{1}}^{h_{4}h_{5}}t2_{p_{3}p_{2}}^{h_{6}h_{7}}\n + 0.0625 * \\Phi_{h_{6}h_{5}}^{p_{0}p_{1}}v_{h_{4}h_{7}}^{p_{2}p_{3}}t2_{p_{0}p_{2}}^{h_{4}h_{5}}t2_{p_{1}p_{3}}^{h_{6}h_{7}}\n + -0.125 * \\Phi_{h_{6}h_{5}}^{p_{0}p_{1}}v_{h_{4}h_{7}}^{p_{2}p_{3}}t2_{p_{0}p_{3}}^{h_{4}h_{5}}t2_{p_{1}p_{2}}^{h_{6}h_{7}}\n + -0.125 * \\Phi_{h_{6}h_{5}}^{p_{0}p_{1}}v_{h_{7}h_{4}}^{p_{2}p_{3}}t2_{p_{0}p_{2}}^{h_{4}h_{5}}t2_{p_{1}p_{3}}^{h_{6}h_{7}}\n + 0.0625 * \\Phi_{h_{6}h_{5}}^{p_{0}p_{1}}v_{h_{7}h_{4}}^{p_{2}p_{3}}t2_{p_{0}p_{3}}^{h_{4}h_{5}}t2_{p_{1}p_{2}}^{h_{6}h_{7}}\n + -0.125 * \\Phi_{h_{6}h_{5}}^{p_{0}p_{1}}v_{h_{4}h_{7}}^{p_{2}p_{3}}t2_{p_{0}p_{2}}^{h_{4}h_{5}}t2_{p_{3}p_{1}}^{h_{6}h_{7}}\n + 0.25 * \\Phi_{h_{6}h_{5}}^{p_{0}p_{1}}v_{h_{4}h_{7}}^{p_{2}p_{3}}t2_{p_{0}p_{3}}^{h_{4}h_{5}}t2_{p_{2}p_{1}}^{h_{6}h_{7}}\n + 0.25 * \\Phi_{h_{6}h_{5}}^{p_{0}p_{1}}v_{h_{7}h_{4}}^{p_{2}p_{3}}t2_{p_{0}p_{2}}^{h_{4}h_{5}}t2_{p_{3}p_{1}}^{h_{6}h_{7}}\n + -0.125 * \\Phi_{h_{6}h_{5}}^{p_{0}p_{1}}v_{h_{7}h_{4}}^{p_{2}p_{3}}t2_{p_{0}p_{3}}^{h_{4}h_{5}}t2_{p_{2}p_{1}}^{h_{6}h_{7}}\n + 0.0625 * \\Phi_{h_{6}h_{5}}^{p_{0}p_{1}}v_{h_{4}h_{7}}^{p_{2}p_{3}}t2_{p_{1}p_{0}}^{h_{4}h_{5}}t2_{p_{2}p_{3}}^{h_{6}h_{7}}\n + -0.03125 * \\Phi_{h_{6}h_{5}}^{p_{0}p_{1}}v_{h_{4}h_{7}}^{p_{2}p_{3}}t2_{p_{1}p_{0}}^{h_{4}h_{5}}t2_{p_{3}p_{2}}^{h_{6}h_{7}}\n + -0.03125 * \\Phi_{h_{6}h_{5}}^{p_{0}p_{1}}v_{h_{7}h_{4}}^{p_{2}p_{3}}t2_{p_{1}p_{0}}^{h_{4}h_{5}}t2_{p_{2}p_{3}}^{h_{6}h_{7}}\n + 0.0625 * \\Phi_{h_{6}h_{5}}^{p_{0}p_{1}}v_{h_{7}h_{4}}^{p_{2}p_{3}}t2_{p_{1}p_{0}}^{h_{4}h_{5}}t2_{p_{3}p_{2}}^{h_{6}h_{7}}\n + -0.03125 * \\Phi_{h_{6}h_{5}}^{p_{0}p_{1}}v_{h_{4}h_{7}}^{p_{2}p_{3}}t2_{p_{2}p_{0}}^{h_{4}h_{5}}t2_{p_{1}p_{3}}^{h_{6}h_{7}}\n + 0.0625 * \\Phi_{h_{6}h_{5}}^{p_{0}p_{1}}v_{h_{4}h_{7}}^{p_{2}p_{3}}t2_{p_{3}p_{0}}^{h_{4}h_{5}}t2_{p_{1}p_{2}}^{h_{6}h_{7}}\n + 0.0625 * \\Phi_{h_{6}h_{5}}^{p_{0}p_{1}}v_{h_{7}h_{4}}^{p_{2}p_{3}}t2_{p_{2}p_{0}}^{h_{4}h_{5}}t2_{p_{1}p_{3}}^{h_{6}h_{7}}\n + -0.03125 * \\Phi_{h_{6}h_{5}}^{p_{0}p_{1}}v_{h_{7}h_{4}}^{p_{2}p_{3}}t2_{p_{3}p_{0}}^{h_{4}h_{5}}t2_{p_{1}p_{2}}^{h_{6}h_{7}}\n + 0.0625 * \\Phi_{h_{6}h_{5}}^{p_{0}p_{1}}v_{h_{4}h_{7}}^{p_{2}p_{3}}t2_{p_{2}p_{0}}^{h_{4}h_{5}}t2_{p_{3}p_{1}}^{h_{6}h_{7}}\n + -0.125 * \\Phi_{h_{6}h_{5}}^{p_{0}p_{1}}v_{h_{4}h_{7}}^{p_{2}p_{3}}t2_{p_{3}p_{0}}^{h_{4}h_{5}}t2_{p_{2}p_{1}}^{h_{6}h_{7}}\n + -0.125 * \\Phi_{h_{6}h_{5}}^{p_{0}p_{1}}v_{h_{7}h_{4}}^{p_{2}p_{3}}t2_{p_{2}p_{0}}^{h_{4}h_{5}}t2_{p_{3}p_{1}}^{h_{6}h_{7}}\n + 0.0625 * \\Phi_{h_{6}h_{5}}^{p_{0}p_{1}}v_{h_{7}h_{4}}^{p_{2}p_{3}}t2_{p_{3}p_{0}}^{h_{4}h_{5}}t2_{p_{2}p_{1}}^{h_{6}h_{7}}\n + -0.03125 * \\Phi_{h_{6}h_{5}}^{p_{0}p_{1}}v_{h_{4}h_{7}}^{p_{2}p_{3}}t2_{p_{1}p_{2}}^{h_{4}h_{5}}t2_{p_{0}p_{3}}^{h_{6}h_{7}}\n + 0.0625 * \\Phi_{h_{6}h_{5}}^{p_{0}p_{1}}v_{h_{4}h_{7}}^{p_{2}p_{3}}t2_{p_{1}p_{3}}^{h_{4}h_{5}}t2_{p_{0}p_{2}}^{h_{6}h_{7}}\n + 0.0625 * \\Phi_{h_{6}h_{5}}^{p_{0}p_{1}}v_{h_{7}h_{4}}^{p_{2}p_{3}}t2_{p_{1}p_{2}}^{h_{4}h_{5}}t2_{p_{0}p_{3}}^{h_{6}h_{7}}\n + -0.03125 * \\Phi_{h_{6}h_{5}}^{p_{0}p_{1}}v_{h_{7}h_{4}}^{p_{2}p_{3}}t2_{p_{1}p_{3}}^{h_{4}h_{5}}t2_{p_{0}p_{2}}^{h_{6}h_{7}}\n + 0.0625 * \\Phi_{h_{6}h_{5}}^{p_{0}p_{1}}v_{h_{4}h_{7}}^{p_{2}p_{3}}t2_{p_{2}p_{1}}^{h_{4}h_{5}}t2_{p_{0}p_{3}}^{h_{6}h_{7}}\n + -0.03125 * \\Phi_{h_{6}h_{5}}^{p_{0}p_{1}}v_{h_{4}h_{7}}^{p_{2}p_{3}}t2_{p_{3}p_{1}}^{h_{4}h_{5}}t2_{p_{0}p_{2}}^{h_{6}h_{7}}\n + -0.03125 * \\Phi_{h_{6}h_{5}}^{p_{0}p_{1}}v_{h_{7}h_{4}}^{p_{2}p_{3}}t2_{p_{2}p_{1}}^{h_{4}h_{5}}t2_{p_{0}p_{3}}^{h_{6}h_{7}}\n + 0.0625 * \\Phi_{h_{6}h_{5}}^{p_{0}p_{1}}v_{h_{7}h_{4}}^{p_{2}p_{3}}t2_{p_{3}p_{1}}^{h_{4}h_{5}}t2_{p_{0}p_{2}}^{h_{6}h_{7}}\n + -0.125 * \\Phi_{h_{6}h_{5}}^{p_{0}p_{1}}v_{h_{4}h_{7}}^{p_{2}p_{3}}t2_{p_{2}p_{3}}^{h_{4}h_{5}}t2_{p_{0}p_{1}}^{h_{6}h_{7}}\n + 0.0625 * \\Phi_{h_{6}h_{5}}^{p_{0}p_{1}}v_{h_{4}h_{7}}^{p_{2}p_{3}}t2_{p_{3}p_{2}}^{h_{4}h_{5}}t2_{p_{0}p_{1}}^{h_{6}h_{7}}\n + 0.0625 * \\Phi_{h_{6}h_{5}}^{p_{0}p_{1}}v_{h_{7}h_{4}}^{p_{2}p_{3}}t2_{p_{2}p_{3}}^{h_{4}h_{5}}t2_{p_{0}p_{1}}^{h_{6}h_{7}}\n + -0.125 * \\Phi_{h_{6}h_{5}}^{p_{0}p_{1}}v_{h_{7}h_{4}}^{p_{2}p_{3}}t2_{p_{3}p_{2}}^{h_{4}h_{5}}t2_{p_{0}p_{1}}^{h_{6}h_{7}}\n + 0.0625 * \\Phi_{h_{6}h_{5}}^{p_{0}p_{1}}v_{h_{4}h_{7}}^{p_{2}p_{3}}t2_{p_{1}p_{2}}^{h_{4}h_{5}}t2_{p_{3}p_{0}}^{h_{6}h_{7}}\n + -0.125 * \\Phi_{h_{6}h_{5}}^{p_{0}p_{1}}v_{h_{4}h_{7}}^{p_{2}p_{3}}t2_{p_{1}p_{3}}^{h_{4}h_{5}}t2_{p_{2}p_{0}}^{h_{6}h_{7}}\n + -0.125 * \\Phi_{h_{6}h_{5}}^{p_{0}p_{1}}v_{h_{7}h_{4}}^{p_{2}p_{3}}t2_{p_{1}p_{2}}^{h_{4}h_{5}}t2_{p_{3}p_{0}}^{h_{6}h_{7}}\n + 0.0625 * \\Phi_{h_{6}h_{5}}^{p_{0}p_{1}}v_{h_{7}h_{4}}^{p_{2}p_{3}}t2_{p_{1}p_{3}}^{h_{4}h_{5}}t2_{p_{2}p_{0}}^{h_{6}h_{7}}\n + -0.03125 * \\Phi_{h_{6}h_{5}}^{p_{0}p_{1}}v_{h_{4}h_{7}}^{p_{2}p_{3}}t2_{p_{2}p_{1}}^{h_{4}h_{5}}t2_{p_{3}p_{0}}^{h_{6}h_{7}}\n + 0.0625 * \\Phi_{h_{6}h_{5}}^{p_{0}p_{1}}v_{h_{4}h_{7}}^{p_{2}p_{3}}t2_{p_{3}p_{1}}^{h_{4}h_{5}}t2_{p_{2}p_{0}}^{h_{6}h_{7}}\n + 0.0625 * \\Phi_{h_{6}h_{5}}^{p_{0}p_{1}}v_{h_{7}h_{4}}^{p_{2}p_{3}}t2_{p_{2}p_{1}}^{h_{4}h_{5}}t2_{p_{3}p_{0}}^{h_{6}h_{7}}\n + -0.03125 * \\Phi_{h_{6}h_{5}}^{p_{0}p_{1}}v_{h_{7}h_{4}}^{p_{2}p_{3}}t2_{p_{3}p_{1}}^{h_{4}h_{5}}t2_{p_{2}p_{0}}^{h_{6}h_{7}}\n + 0.0625 * \\Phi_{h_{6}h_{5}}^{p_{0}p_{1}}v_{h_{4}h_{7}}^{p_{2}p_{3}}t2_{p_{2}p_{3}}^{h_{4}h_{5}}t2_{p_{1}p_{0}}^{h_{6}h_{7}}\n + -0.03125 * \\Phi_{h_{6}h_{5}}^{p_{0}p_{1}}v_{h_{4}h_{7}}^{p_{2}p_{3}}t2_{p_{3}p_{2}}^{h_{4}h_{5}}t2_{p_{1}p_{0}}^{h_{6}h_{7}}\n + -0.03125 * \\Phi_{h_{6}h_{5}}^{p_{0}p_{1}}v_{h_{7}h_{4}}^{p_{2}p_{3}}t2_{p_{2}p_{3}}^{h_{4}h_{5}}t2_{p_{1}p_{0}}^{h_{6}h_{7}}\n + 0.0625 * \\Phi_{h_{6}h_{5}}^{p_{0}p_{1}}v_{h_{7}h_{4}}^{p_{2}p_{3}}t2_{p_{3}p_{2}}^{h_{4}h_{5}}t2_{p_{1}p_{0}}^{h_{6}h_{7}}\n + 0.0625 * \\Phi_{h_{6}h_{7}}^{p_{0}p_{1}}v_{h_{4}h_{5}}^{p_{2}p_{3}}t2_{p_{0}p_{1}}^{h_{4}h_{5}}t2_{p_{2}p_{3}}^{h_{6}h_{7}}\n + -0.03125 * \\Phi_{h_{6}h_{7}}^{p_{0}p_{1}}v_{h_{4}h_{5}}^{p_{2}p_{3}}t2_{p_{0}p_{1}}^{h_{4}h_{5}}t2_{p_{3}p_{2}}^{h_{6}h_{7}}\n + -0.03125 * \\Phi_{h_{6}h_{7}}^{p_{0}p_{1}}v_{h_{5}h_{4}}^{p_{2}p_{3}}t2_{p_{0}p_{1}}^{h_{4}h_{5}}t2_{p_{2}p_{3}}^{h_{6}h_{7}}\n + 0.0625 * \\Phi_{h_{6}h_{7}}^{p_{0}p_{1}}v_{h_{5}h_{4}}^{p_{2}p_{3}}t2_{p_{0}p_{1}}^{h_{4}h_{5}}t2_{p_{3}p_{2}}^{h_{6}h_{7}}\n + -0.03125 * \\Phi_{h_{6}h_{7}}^{p_{0}p_{1}}v_{h_{4}h_{5}}^{p_{2}p_{3}}t2_{p_{0}p_{2}}^{h_{4}h_{5}}t2_{p_{1}p_{3}}^{h_{6}h_{7}}\n + 0.0625 * \\Phi_{h_{6}h_{7}}^{p_{0}p_{1}}v_{h_{4}h_{5}}^{p_{2}p_{3}}t2_{p_{0}p_{3}}^{h_{4}h_{5}}t2_{p_{1}p_{2}}^{h_{6}h_{7}}\n + 0.0625 * \\Phi_{h_{6}h_{7}}^{p_{0}p_{1}}v_{h_{5}h_{4}}^{p_{2}p_{3}}t2_{p_{0}p_{2}}^{h_{4}h_{5}}t2_{p_{1}p_{3}}^{h_{6}h_{7}}\n + -0.03125 * \\Phi_{h_{6}h_{7}}^{p_{0}p_{1}}v_{h_{5}h_{4}}^{p_{2}p_{3}}t2_{p_{0}p_{3}}^{h_{4}h_{5}}t2_{p_{1}p_{2}}^{h_{6}h_{7}}\n + 0.0625 * \\Phi_{h_{6}h_{7}}^{p_{0}p_{1}}v_{h_{4}h_{5}}^{p_{2}p_{3}}t2_{p_{0}p_{2}}^{h_{4}h_{5}}t2_{p_{3}p_{1}}^{h_{6}h_{7}}\n + -0.125 * \\Phi_{h_{6}h_{7}}^{p_{0}p_{1}}v_{h_{4}h_{5}}^{p_{2}p_{3}}t2_{p_{0}p_{3}}^{h_{4}h_{5}}t2_{p_{2}p_{1}}^{h_{6}h_{7}}\n + -0.125 * \\Phi_{h_{6}h_{7}}^{p_{0}p_{1}}v_{h_{5}h_{4}}^{p_{2}p_{3}}t2_{p_{0}p_{2}}^{h_{4}h_{5}}t2_{p_{3}p_{1}}^{h_{6}h_{7}}\n + 0.0625 * \\Phi_{h_{6}h_{7}}^{p_{0}p_{1}}v_{h_{5}h_{4}}^{p_{2}p_{3}}t2_{p_{0}p_{3}}^{h_{4}h_{5}}t2_{p_{2}p_{1}}^{h_{6}h_{7}}\n + -0.03125 * \\Phi_{h_{6}h_{7}}^{p_{0}p_{1}}v_{h_{4}h_{5}}^{p_{2}p_{3}}t2_{p_{1}p_{0}}^{h_{4}h_{5}}t2_{p_{2}p_{3}}^{h_{6}h_{7}}\n + 0.0625 * \\Phi_{h_{6}h_{7}}^{p_{0}p_{1}}v_{h_{4}h_{5}}^{p_{2}p_{3}}t2_{p_{1}p_{0}}^{h_{4}h_{5}}t2_{p_{3}p_{2}}^{h_{6}h_{7}}\n + 0.0625 * \\Phi_{h_{6}h_{7}}^{p_{0}p_{1}}v_{h_{5}h_{4}}^{p_{2}p_{3}}t2_{p_{1}p_{0}}^{h_{4}h_{5}}t2_{p_{2}p_{3}}^{h_{6}h_{7}}\n + -0.03125 * \\Phi_{h_{6}h_{7}}^{p_{0}p_{1}}v_{h_{5}h_{4}}^{p_{2}p_{3}}t2_{p_{1}p_{0}}^{h_{4}h_{5}}t2_{p_{3}p_{2}}^{h_{6}h_{7}}\n + 0.0625 * \\Phi_{h_{6}h_{7}}^{p_{0}p_{1}}v_{h_{4}h_{5}}^{p_{2}p_{3}}t2_{p_{2}p_{0}}^{h_{4}h_{5}}t2_{p_{1}p_{3}}^{h_{6}h_{7}}\n + -0.03125 * \\Phi_{h_{6}h_{7}}^{p_{0}p_{1}}v_{h_{4}h_{5}}^{p_{2}p_{3}}t2_{p_{3}p_{0}}^{h_{4}h_{5}}t2_{p_{1}p_{2}}^{h_{6}h_{7}}\n + -0.03125 * \\Phi_{h_{6}h_{7}}^{p_{0}p_{1}}v_{h_{5}h_{4}}^{p_{2}p_{3}}t2_{p_{2}p_{0}}^{h_{4}h_{5}}t2_{p_{1}p_{3}}^{h_{6}h_{7}}\n + 0.0625 * \\Phi_{h_{6}h_{7}}^{p_{0}p_{1}}v_{h_{5}h_{4}}^{p_{2}p_{3}}t2_{p_{3}p_{0}}^{h_{4}h_{5}}t2_{p_{1}p_{2}}^{h_{6}h_{7}}\n + -0.125 * \\Phi_{h_{6}h_{7}}^{p_{0}p_{1}}v_{h_{4}h_{5}}^{p_{2}p_{3}}t2_{p_{2}p_{0}}^{h_{4}h_{5}}t2_{p_{3}p_{1}}^{h_{6}h_{7}}\n + 0.0625 * \\Phi_{h_{6}h_{7}}^{p_{0}p_{1}}v_{h_{4}h_{5}}^{p_{2}p_{3}}t2_{p_{3}p_{0}}^{h_{4}h_{5}}t2_{p_{2}p_{1}}^{h_{6}h_{7}}\n + 0.0625 * \\Phi_{h_{6}h_{7}}^{p_{0}p_{1}}v_{h_{5}h_{4}}^{p_{2}p_{3}}t2_{p_{2}p_{0}}^{h_{4}h_{5}}t2_{p_{3}p_{1}}^{h_{6}h_{7}}\n + -0.125 * \\Phi_{h_{6}h_{7}}^{p_{0}p_{1}}v_{h_{5}h_{4}}^{p_{2}p_{3}}t2_{p_{3}p_{0}}^{h_{4}h_{5}}t2_{p_{2}p_{1}}^{h_{6}h_{7}}\n + 0.0625 * \\Phi_{h_{6}h_{7}}^{p_{0}p_{1}}v_{h_{4}h_{5}}^{p_{2}p_{3}}t2_{p_{1}p_{2}}^{h_{4}h_{5}}t2_{p_{0}p_{3}}^{h_{6}h_{7}}\n + -0.125 * \\Phi_{h_{6}h_{7}}^{p_{0}p_{1}}v_{h_{4}h_{5}}^{p_{2}p_{3}}t2_{p_{1}p_{3}}^{h_{4}h_{5}}t2_{p_{0}p_{2}}^{h_{6}h_{7}}\n + -0.125 * \\Phi_{h_{6}h_{7}}^{p_{0}p_{1}}v_{h_{5}h_{4}}^{p_{2}p_{3}}t2_{p_{1}p_{2}}^{h_{4}h_{5}}t2_{p_{0}p_{3}}^{h_{6}h_{7}}\n + 0.0625 * \\Phi_{h_{6}h_{7}}^{p_{0}p_{1}}v_{h_{5}h_{4}}^{p_{2}p_{3}}t2_{p_{1}p_{3}}^{h_{4}h_{5}}t2_{p_{0}p_{2}}^{h_{6}h_{7}}\n + -0.125 * \\Phi_{h_{6}h_{7}}^{p_{0}p_{1}}v_{h_{4}h_{5}}^{p_{2}p_{3}}t2_{p_{2}p_{1}}^{h_{4}h_{5}}t2_{p_{0}p_{3}}^{h_{6}h_{7}}\n + 0.0625 * \\Phi_{h_{6}h_{7}}^{p_{0}p_{1}}v_{h_{4}h_{5}}^{p_{2}p_{3}}t2_{p_{3}p_{1}}^{h_{4}h_{5}}t2_{p_{0}p_{2}}^{h_{6}h_{7}}\n + 0.0625 * \\Phi_{h_{6}h_{7}}^{p_{0}p_{1}}v_{h_{5}h_{4}}^{p_{2}p_{3}}t2_{p_{2}p_{1}}^{h_{4}h_{5}}t2_{p_{0}p_{3}}^{h_{6}h_{7}}\n + -0.125 * \\Phi_{h_{6}h_{7}}^{p_{0}p_{1}}v_{h_{5}h_{4}}^{p_{2}p_{3}}t2_{p_{3}p_{1}}^{h_{4}h_{5}}t2_{p_{0}p_{2}}^{h_{6}h_{7}}\n + 0.25 * \\Phi_{h_{6}h_{7}}^{p_{0}p_{1}}v_{h_{4}h_{5}}^{p_{2}p_{3}}t2_{p_{2}p_{3}}^{h_{4}h_{5}}t2_{p_{0}p_{1}}^{h_{6}h_{7}}\n + -0.125 * \\Phi_{h_{6}h_{7}}^{p_{0}p_{1}}v_{h_{4}h_{5}}^{p_{2}p_{3}}t2_{p_{3}p_{2}}^{h_{4}h_{5}}t2_{p_{0}p_{1}}^{h_{6}h_{7}}\n + -0.125 * \\Phi_{h_{6}h_{7}}^{p_{0}p_{1}}v_{h_{5}h_{4}}^{p_{2}p_{3}}t2_{p_{2}p_{3}}^{h_{4}h_{5}}t2_{p_{0}p_{1}}^{h_{6}h_{7}}\n + 0.25 * \\Phi_{h_{6}h_{7}}^{p_{0}p_{1}}v_{h_{5}h_{4}}^{p_{2}p_{3}}t2_{p_{3}p_{2}}^{h_{4}h_{5}}t2_{p_{0}p_{1}}^{h_{6}h_{7}}\n + -0.03125 * \\Phi_{h_{6}h_{7}}^{p_{0}p_{1}}v_{h_{4}h_{5}}^{p_{2}p_{3}}t2_{p_{1}p_{2}}^{h_{4}h_{5}}t2_{p_{3}p_{0}}^{h_{6}h_{7}}\n + 0.0625 * \\Phi_{h_{6}h_{7}}^{p_{0}p_{1}}v_{h_{4}h_{5}}^{p_{2}p_{3}}t2_{p_{1}p_{3}}^{h_{4}h_{5}}t2_{p_{2}p_{0}}^{h_{6}h_{7}}\n + 0.0625 * \\Phi_{h_{6}h_{7}}^{p_{0}p_{1}}v_{h_{5}h_{4}}^{p_{2}p_{3}}t2_{p_{1}p_{2}}^{h_{4}h_{5}}t2_{p_{3}p_{0}}^{h_{6}h_{7}}\n + -0.03125 * \\Phi_{h_{6}h_{7}}^{p_{0}p_{1}}v_{h_{5}h_{4}}^{p_{2}p_{3}}t2_{p_{1}p_{3}}^{h_{4}h_{5}}t2_{p_{2}p_{0}}^{h_{6}h_{7}}\n + 0.0625 * \\Phi_{h_{6}h_{7}}^{p_{0}p_{1}}v_{h_{4}h_{5}}^{p_{2}p_{3}}t2_{p_{2}p_{1}}^{h_{4}h_{5}}t2_{p_{3}p_{0}}^{h_{6}h_{7}}\n + -0.03125 * \\Phi_{h_{6}h_{7}}^{p_{0}p_{1}}v_{h_{4}h_{5}}^{p_{2}p_{3}}t2_{p_{3}p_{1}}^{h_{4}h_{5}}t2_{p_{2}p_{0}}^{h_{6}h_{7}}\n + -0.03125 * \\Phi_{h_{6}h_{7}}^{p_{0}p_{1}}v_{h_{5}h_{4}}^{p_{2}p_{3}}t2_{p_{2}p_{1}}^{h_{4}h_{5}}t2_{p_{3}p_{0}}^{h_{6}h_{7}}\n + 0.0625 * \\Phi_{h_{6}h_{7}}^{p_{0}p_{1}}v_{h_{5}h_{4}}^{p_{2}p_{3}}t2_{p_{3}p_{1}}^{h_{4}h_{5}}t2_{p_{2}p_{0}}^{h_{6}h_{7}}\n + -0.125 * \\Phi_{h_{6}h_{7}}^{p_{0}p_{1}}v_{h_{4}h_{5}}^{p_{2}p_{3}}t2_{p_{2}p_{3}}^{h_{4}h_{5}}t2_{p_{1}p_{0}}^{h_{6}h_{7}}\n + 0.0625 * \\Phi_{h_{6}h_{7}}^{p_{0}p_{1}}v_{h_{4}h_{5}}^{p_{2}p_{3}}t2_{p_{3}p_{2}}^{h_{4}h_{5}}t2_{p_{1}p_{0}}^{h_{6}h_{7}}\n + 0.0625 * \\Phi_{h_{6}h_{7}}^{p_{0}p_{1}}v_{h_{5}h_{4}}^{p_{2}p_{3}}t2_{p_{2}p_{3}}^{h_{4}h_{5}}t2_{p_{1}p_{0}}^{h_{6}h_{7}}\n + -0.125 * \\Phi_{h_{6}h_{7}}^{p_{0}p_{1}}v_{h_{5}h_{4}}^{p_{2}p_{3}}t2_{p_{3}p_{2}}^{h_{4}h_{5}}t2_{p_{1}p_{0}}^{h_{6}h_{7}}\n + -0.03125 * \\Phi_{h_{7}h_{4}}^{p_{0}p_{1}}v_{h_{5}h_{6}}^{p_{2}p_{3}}t2_{p_{0}p_{1}}^{h_{4}h_{5}}t2_{p_{2}p_{3}}^{h_{6}h_{7}}\n + 0.0625 * \\Phi_{h_{7}h_{4}}^{p_{0}p_{1}}v_{h_{5}h_{6}}^{p_{2}p_{3}}t2_{p_{0}p_{1}}^{h_{4}h_{5}}t2_{p_{3}p_{2}}^{h_{6}h_{7}}\n + 0.0625 * \\Phi_{h_{7}h_{4}}^{p_{0}p_{1}}v_{h_{6}h_{5}}^{p_{2}p_{3}}t2_{p_{0}p_{1}}^{h_{4}h_{5}}t2_{p_{2}p_{3}}^{h_{6}h_{7}}\n + -0.03125 * \\Phi_{h_{7}h_{4}}^{p_{0}p_{1}}v_{h_{6}h_{5}}^{p_{2}p_{3}}t2_{p_{0}p_{1}}^{h_{4}h_{5}}t2_{p_{3}p_{2}}^{h_{6}h_{7}}\n + 0.0625 * \\Phi_{h_{7}h_{4}}^{p_{0}p_{1}}v_{h_{5}h_{6}}^{p_{2}p_{3}}t2_{p_{0}p_{2}}^{h_{4}h_{5}}t2_{p_{1}p_{3}}^{h_{6}h_{7}}\n + -0.125 * \\Phi_{h_{7}h_{4}}^{p_{0}p_{1}}v_{h_{5}h_{6}}^{p_{2}p_{3}}t2_{p_{0}p_{3}}^{h_{4}h_{5}}t2_{p_{1}p_{2}}^{h_{6}h_{7}}\n + -0.125 * \\Phi_{h_{7}h_{4}}^{p_{0}p_{1}}v_{h_{6}h_{5}}^{p_{2}p_{3}}t2_{p_{0}p_{2}}^{h_{4}h_{5}}t2_{p_{1}p_{3}}^{h_{6}h_{7}}\n + 0.0625 * \\Phi_{h_{7}h_{4}}^{p_{0}p_{1}}v_{h_{6}h_{5}}^{p_{2}p_{3}}t2_{p_{0}p_{3}}^{h_{4}h_{5}}t2_{p_{1}p_{2}}^{h_{6}h_{7}}\n + -0.03125 * \\Phi_{h_{7}h_{4}}^{p_{0}p_{1}}v_{h_{5}h_{6}}^{p_{2}p_{3}}t2_{p_{0}p_{2}}^{h_{4}h_{5}}t2_{p_{3}p_{1}}^{h_{6}h_{7}}\n + 0.0625 * \\Phi_{h_{7}h_{4}}^{p_{0}p_{1}}v_{h_{5}h_{6}}^{p_{2}p_{3}}t2_{p_{0}p_{3}}^{h_{4}h_{5}}t2_{p_{2}p_{1}}^{h_{6}h_{7}}\n + 0.0625 * \\Phi_{h_{7}h_{4}}^{p_{0}p_{1}}v_{h_{6}h_{5}}^{p_{2}p_{3}}t2_{p_{0}p_{2}}^{h_{4}h_{5}}t2_{p_{3}p_{1}}^{h_{6}h_{7}}\n + -0.03125 * \\Phi_{h_{7}h_{4}}^{p_{0}p_{1}}v_{h_{6}h_{5}}^{p_{2}p_{3}}t2_{p_{0}p_{3}}^{h_{4}h_{5}}t2_{p_{2}p_{1}}^{h_{6}h_{7}}\n + 0.0625 * \\Phi_{h_{7}h_{4}}^{p_{0}p_{1}}v_{h_{5}h_{6}}^{p_{2}p_{3}}t2_{p_{1}p_{0}}^{h_{4}h_{5}}t2_{p_{2}p_{3}}^{h_{6}h_{7}}\n + -0.125 * \\Phi_{h_{7}h_{4}}^{p_{0}p_{1}}v_{h_{5}h_{6}}^{p_{2}p_{3}}t2_{p_{1}p_{0}}^{h_{4}h_{5}}t2_{p_{3}p_{2}}^{h_{6}h_{7}}\n + -0.125 * \\Phi_{h_{7}h_{4}}^{p_{0}p_{1}}v_{h_{6}h_{5}}^{p_{2}p_{3}}t2_{p_{1}p_{0}}^{h_{4}h_{5}}t2_{p_{2}p_{3}}^{h_{6}h_{7}}\n + 0.0625 * \\Phi_{h_{7}h_{4}}^{p_{0}p_{1}}v_{h_{6}h_{5}}^{p_{2}p_{3}}t2_{p_{1}p_{0}}^{h_{4}h_{5}}t2_{p_{3}p_{2}}^{h_{6}h_{7}}\n + -0.125 * \\Phi_{h_{7}h_{4}}^{p_{0}p_{1}}v_{h_{5}h_{6}}^{p_{2}p_{3}}t2_{p_{2}p_{0}}^{h_{4}h_{5}}t2_{p_{1}p_{3}}^{h_{6}h_{7}}\n + 0.25 * \\Phi_{h_{7}h_{4}}^{p_{0}p_{1}}v_{h_{5}h_{6}}^{p_{2}p_{3}}t2_{p_{3}p_{0}}^{h_{4}h_{5}}t2_{p_{1}p_{2}}^{h_{6}h_{7}}\n + 0.25 * \\Phi_{h_{7}h_{4}}^{p_{0}p_{1}}v_{h_{6}h_{5}}^{p_{2}p_{3}}t2_{p_{2}p_{0}}^{h_{4}h_{5}}t2_{p_{1}p_{3}}^{h_{6}h_{7}}\n + -0.125 * \\Phi_{h_{7}h_{4}}^{p_{0}p_{1}}v_{h_{6}h_{5}}^{p_{2}p_{3}}t2_{p_{3}p_{0}}^{h_{4}h_{5}}t2_{p_{1}p_{2}}^{h_{6}h_{7}}\n + 0.0625 * \\Phi_{h_{7}h_{4}}^{p_{0}p_{1}}v_{h_{5}h_{6}}^{p_{2}p_{3}}t2_{p_{2}p_{0}}^{h_{4}h_{5}}t2_{p_{3}p_{1}}^{h_{6}h_{7}}\n + -0.125 * \\Phi_{h_{7}h_{4}}^{p_{0}p_{1}}v_{h_{5}h_{6}}^{p_{2}p_{3}}t2_{p_{3}p_{0}}^{h_{4}h_{5}}t2_{p_{2}p_{1}}^{h_{6}h_{7}}\n + -0.125 * \\Phi_{h_{7}h_{4}}^{p_{0}p_{1}}v_{h_{6}h_{5}}^{p_{2}p_{3}}t2_{p_{2}p_{0}}^{h_{4}h_{5}}t2_{p_{3}p_{1}}^{h_{6}h_{7}}\n + 0.0625 * \\Phi_{h_{7}h_{4}}^{p_{0}p_{1}}v_{h_{6}h_{5}}^{p_{2}p_{3}}t2_{p_{3}p_{0}}^{h_{4}h_{5}}t2_{p_{2}p_{1}}^{h_{6}h_{7}}\n + -0.03125 * \\Phi_{h_{7}h_{4}}^{p_{0}p_{1}}v_{h_{5}h_{6}}^{p_{2}p_{3}}t2_{p_{1}p_{2}}^{h_{4}h_{5}}t2_{p_{0}p_{3}}^{h_{6}h_{7}}\n + 0.0625 * \\Phi_{h_{7}h_{4}}^{p_{0}p_{1}}v_{h_{5}h_{6}}^{p_{2}p_{3}}t2_{p_{1}p_{3}}^{h_{4}h_{5}}t2_{p_{0}p_{2}}^{h_{6}h_{7}}\n + 0.0625 * \\Phi_{h_{7}h_{4}}^{p_{0}p_{1}}v_{h_{6}h_{5}}^{p_{2}p_{3}}t2_{p_{1}p_{2}}^{h_{4}h_{5}}t2_{p_{0}p_{3}}^{h_{6}h_{7}}\n + -0.03125 * \\Phi_{h_{7}h_{4}}^{p_{0}p_{1}}v_{h_{6}h_{5}}^{p_{2}p_{3}}t2_{p_{1}p_{3}}^{h_{4}h_{5}}t2_{p_{0}p_{2}}^{h_{6}h_{7}}\n + 0.0625 * \\Phi_{h_{7}h_{4}}^{p_{0}p_{1}}v_{h_{5}h_{6}}^{p_{2}p_{3}}t2_{p_{2}p_{1}}^{h_{4}h_{5}}t2_{p_{0}p_{3}}^{h_{6}h_{7}}\n + -0.125 * \\Phi_{h_{7}h_{4}}^{p_{0}p_{1}}v_{h_{5}h_{6}}^{p_{2}p_{3}}t2_{p_{3}p_{1}}^{h_{4}h_{5}}t2_{p_{0}p_{2}}^{h_{6}h_{7}}\n + -0.125 * \\Phi_{h_{7}h_{4}}^{p_{0}p_{1}}v_{h_{6}h_{5}}^{p_{2}p_{3}}t2_{p_{2}p_{1}}^{h_{4}h_{5}}t2_{p_{0}p_{3}}^{h_{6}h_{7}}\n + 0.0625 * \\Phi_{h_{7}h_{4}}^{p_{0}p_{1}}v_{h_{6}h_{5}}^{p_{2}p_{3}}t2_{p_{3}p_{1}}^{h_{4}h_{5}}t2_{p_{0}p_{2}}^{h_{6}h_{7}}\n + -0.03125 * \\Phi_{h_{7}h_{4}}^{p_{0}p_{1}}v_{h_{5}h_{6}}^{p_{2}p_{3}}t2_{p_{2}p_{3}}^{h_{4}h_{5}}t2_{p_{0}p_{1}}^{h_{6}h_{7}}\n + 0.0625 * \\Phi_{h_{7}h_{4}}^{p_{0}p_{1}}v_{h_{5}h_{6}}^{p_{2}p_{3}}t2_{p_{3}p_{2}}^{h_{4}h_{5}}t2_{p_{0}p_{1}}^{h_{6}h_{7}}\n + 0.0625 * \\Phi_{h_{7}h_{4}}^{p_{0}p_{1}}v_{h_{6}h_{5}}^{p_{2}p_{3}}t2_{p_{2}p_{3}}^{h_{4}h_{5}}t2_{p_{0}p_{1}}^{h_{6}h_{7}}\n + -0.03125 * \\Phi_{h_{7}h_{4}}^{p_{0}p_{1}}v_{h_{6}h_{5}}^{p_{2}p_{3}}t2_{p_{3}p_{2}}^{h_{4}h_{5}}t2_{p_{0}p_{1}}^{h_{6}h_{7}}\n + 0.0625 * \\Phi_{h_{7}h_{4}}^{p_{0}p_{1}}v_{h_{5}h_{6}}^{p_{2}p_{3}}t2_{p_{1}p_{2}}^{h_{4}h_{5}}t2_{p_{3}p_{0}}^{h_{6}h_{7}}\n + -0.03125 * \\Phi_{h_{7}h_{4}}^{p_{0}p_{1}}v_{h_{5}h_{6}}^{p_{2}p_{3}}t2_{p_{1}p_{3}}^{h_{4}h_{5}}t2_{p_{2}p_{0}}^{h_{6}h_{7}}\n + -0.03125 * \\Phi_{h_{7}h_{4}}^{p_{0}p_{1}}v_{h_{6}h_{5}}^{p_{2}p_{3}}t2_{p_{1}p_{2}}^{h_{4}h_{5}}t2_{p_{3}p_{0}}^{h_{6}h_{7}}\n + 0.0625 * \\Phi_{h_{7}h_{4}}^{p_{0}p_{1}}v_{h_{6}h_{5}}^{p_{2}p_{3}}t2_{p_{1}p_{3}}^{h_{4}h_{5}}t2_{p_{2}p_{0}}^{h_{6}h_{7}}\n + -0.03125 * \\Phi_{h_{7}h_{4}}^{p_{0}p_{1}}v_{h_{5}h_{6}}^{p_{2}p_{3}}t2_{p_{2}p_{1}}^{h_{4}h_{5}}t2_{p_{3}p_{0}}^{h_{6}h_{7}}\n + 0.0625 * \\Phi_{h_{7}h_{4}}^{p_{0}p_{1}}v_{h_{5}h_{6}}^{p_{2}p_{3}}t2_{p_{3}p_{1}}^{h_{4}h_{5}}t2_{p_{2}p_{0}}^{h_{6}h_{7}}\n + 0.0625 * \\Phi_{h_{7}h_{4}}^{p_{0}p_{1}}v_{h_{6}h_{5}}^{p_{2}p_{3}}t2_{p_{2}p_{1}}^{h_{4}h_{5}}t2_{p_{3}p_{0}}^{h_{6}h_{7}}\n + -0.03125 * \\Phi_{h_{7}h_{4}}^{p_{0}p_{1}}v_{h_{6}h_{5}}^{p_{2}p_{3}}t2_{p_{3}p_{1}}^{h_{4}h_{5}}t2_{p_{2}p_{0}}^{h_{6}h_{7}}\n + 0.0625 * \\Phi_{h_{7}h_{4}}^{p_{0}p_{1}}v_{h_{5}h_{6}}^{p_{2}p_{3}}t2_{p_{2}p_{3}}^{h_{4}h_{5}}t2_{p_{1}p_{0}}^{h_{6}h_{7}}\n + -0.125 * \\Phi_{h_{7}h_{4}}^{p_{0}p_{1}}v_{h_{5}h_{6}}^{p_{2}p_{3}}t2_{p_{3}p_{2}}^{h_{4}h_{5}}t2_{p_{1}p_{0}}^{h_{6}h_{7}}\n + -0.125 * \\Phi_{h_{7}h_{4}}^{p_{0}p_{1}}v_{h_{6}h_{5}}^{p_{2}p_{3}}t2_{p_{2}p_{3}}^{h_{4}h_{5}}t2_{p_{1}p_{0}}^{h_{6}h_{7}}\n + 0.0625 * \\Phi_{h_{7}h_{4}}^{p_{0}p_{1}}v_{h_{6}h_{5}}^{p_{2}p_{3}}t2_{p_{3}p_{2}}^{h_{4}h_{5}}t2_{p_{1}p_{0}}^{h_{6}h_{7}}\n + 0.0625 * \\Phi_{h_{7}h_{5}}^{p_{0}p_{1}}v_{h_{4}h_{6}}^{p_{2}p_{3}}t2_{p_{0}p_{1}}^{h_{4}h_{5}}t2_{p_{2}p_{3}}^{h_{6}h_{7}}\n + -0.125 * \\Phi_{h_{7}h_{5}}^{p_{0}p_{1}}v_{h_{4}h_{6}}^{p_{2}p_{3}}t2_{p_{0}p_{1}}^{h_{4}h_{5}}t2_{p_{3}p_{2}}^{h_{6}h_{7}}\n + -0.125 * \\Phi_{h_{7}h_{5}}^{p_{0}p_{1}}v_{h_{6}h_{4}}^{p_{2}p_{3}}t2_{p_{0}p_{1}}^{h_{4}h_{5}}t2_{p_{2}p_{3}}^{h_{6}h_{7}}\n + 0.0625 * \\Phi_{h_{7}h_{5}}^{p_{0}p_{1}}v_{h_{6}h_{4}}^{p_{2}p_{3}}t2_{p_{0}p_{1}}^{h_{4}h_{5}}t2_{p_{3}p_{2}}^{h_{6}h_{7}}\n + -0.125 * \\Phi_{h_{7}h_{5}}^{p_{0}p_{1}}v_{h_{4}h_{6}}^{p_{2}p_{3}}t2_{p_{0}p_{2}}^{h_{4}h_{5}}t2_{p_{1}p_{3}}^{h_{6}h_{7}}\n + 0.25 * \\Phi_{h_{7}h_{5}}^{p_{0}p_{1}}v_{h_{4}h_{6}}^{p_{2}p_{3}}t2_{p_{0}p_{3}}^{h_{4}h_{5}}t2_{p_{1}p_{2}}^{h_{6}h_{7}}\n + 0.25 * \\Phi_{h_{7}h_{5}}^{p_{0}p_{1}}v_{h_{6}h_{4}}^{p_{2}p_{3}}t2_{p_{0}p_{2}}^{h_{4}h_{5}}t2_{p_{1}p_{3}}^{h_{6}h_{7}}\n + -0.125 * \\Phi_{h_{7}h_{5}}^{p_{0}p_{1}}v_{h_{6}h_{4}}^{p_{2}p_{3}}t2_{p_{0}p_{3}}^{h_{4}h_{5}}t2_{p_{1}p_{2}}^{h_{6}h_{7}}\n + 0.0625 * \\Phi_{h_{7}h_{5}}^{p_{0}p_{1}}v_{h_{4}h_{6}}^{p_{2}p_{3}}t2_{p_{0}p_{2}}^{h_{4}h_{5}}t2_{p_{3}p_{1}}^{h_{6}h_{7}}\n + -0.125 * \\Phi_{h_{7}h_{5}}^{p_{0}p_{1}}v_{h_{4}h_{6}}^{p_{2}p_{3}}t2_{p_{0}p_{3}}^{h_{4}h_{5}}t2_{p_{2}p_{1}}^{h_{6}h_{7}}\n + -0.125 * \\Phi_{h_{7}h_{5}}^{p_{0}p_{1}}v_{h_{6}h_{4}}^{p_{2}p_{3}}t2_{p_{0}p_{2}}^{h_{4}h_{5}}t2_{p_{3}p_{1}}^{h_{6}h_{7}}\n + 0.0625 * \\Phi_{h_{7}h_{5}}^{p_{0}p_{1}}v_{h_{6}h_{4}}^{p_{2}p_{3}}t2_{p_{0}p_{3}}^{h_{4}h_{5}}t2_{p_{2}p_{1}}^{h_{6}h_{7}}\n + -0.03125 * \\Phi_{h_{7}h_{5}}^{p_{0}p_{1}}v_{h_{4}h_{6}}^{p_{2}p_{3}}t2_{p_{1}p_{0}}^{h_{4}h_{5}}t2_{p_{2}p_{3}}^{h_{6}h_{7}}\n + 0.0625 * \\Phi_{h_{7}h_{5}}^{p_{0}p_{1}}v_{h_{4}h_{6}}^{p_{2}p_{3}}t2_{p_{1}p_{0}}^{h_{4}h_{5}}t2_{p_{3}p_{2}}^{h_{6}h_{7}}\n + 0.0625 * \\Phi_{h_{7}h_{5}}^{p_{0}p_{1}}v_{h_{6}h_{4}}^{p_{2}p_{3}}t2_{p_{1}p_{0}}^{h_{4}h_{5}}t2_{p_{2}p_{3}}^{h_{6}h_{7}}\n + -0.03125 * \\Phi_{h_{7}h_{5}}^{p_{0}p_{1}}v_{h_{6}h_{4}}^{p_{2}p_{3}}t2_{p_{1}p_{0}}^{h_{4}h_{5}}t2_{p_{3}p_{2}}^{h_{6}h_{7}}\n + 0.0625 * \\Phi_{h_{7}h_{5}}^{p_{0}p_{1}}v_{h_{4}h_{6}}^{p_{2}p_{3}}t2_{p_{2}p_{0}}^{h_{4}h_{5}}t2_{p_{1}p_{3}}^{h_{6}h_{7}}\n + -0.125 * \\Phi_{h_{7}h_{5}}^{p_{0}p_{1}}v_{h_{4}h_{6}}^{p_{2}p_{3}}t2_{p_{3}p_{0}}^{h_{4}h_{5}}t2_{p_{1}p_{2}}^{h_{6}h_{7}}\n + -0.125 * \\Phi_{h_{7}h_{5}}^{p_{0}p_{1}}v_{h_{6}h_{4}}^{p_{2}p_{3}}t2_{p_{2}p_{0}}^{h_{4}h_{5}}t2_{p_{1}p_{3}}^{h_{6}h_{7}}\n + 0.0625 * \\Phi_{h_{7}h_{5}}^{p_{0}p_{1}}v_{h_{6}h_{4}}^{p_{2}p_{3}}t2_{p_{3}p_{0}}^{h_{4}h_{5}}t2_{p_{1}p_{2}}^{h_{6}h_{7}}\n + -0.03125 * \\Phi_{h_{7}h_{5}}^{p_{0}p_{1}}v_{h_{4}h_{6}}^{p_{2}p_{3}}t2_{p_{2}p_{0}}^{h_{4}h_{5}}t2_{p_{3}p_{1}}^{h_{6}h_{7}}\n + 0.0625 * \\Phi_{h_{7}h_{5}}^{p_{0}p_{1}}v_{h_{4}h_{6}}^{p_{2}p_{3}}t2_{p_{3}p_{0}}^{h_{4}h_{5}}t2_{p_{2}p_{1}}^{h_{6}h_{7}}\n + 0.0625 * \\Phi_{h_{7}h_{5}}^{p_{0}p_{1}}v_{h_{6}h_{4}}^{p_{2}p_{3}}t2_{p_{2}p_{0}}^{h_{4}h_{5}}t2_{p_{3}p_{1}}^{h_{6}h_{7}}\n + -0.03125 * \\Phi_{h_{7}h_{5}}^{p_{0}p_{1}}v_{h_{6}h_{4}}^{p_{2}p_{3}}t2_{p_{3}p_{0}}^{h_{4}h_{5}}t2_{p_{2}p_{1}}^{h_{6}h_{7}}\n + 0.0625 * \\Phi_{h_{7}h_{5}}^{p_{0}p_{1}}v_{h_{4}h_{6}}^{p_{2}p_{3}}t2_{p_{1}p_{2}}^{h_{4}h_{5}}t2_{p_{0}p_{3}}^{h_{6}h_{7}}\n + -0.125 * \\Phi_{h_{7}h_{5}}^{p_{0}p_{1}}v_{h_{4}h_{6}}^{p_{2}p_{3}}t2_{p_{1}p_{3}}^{h_{4}h_{5}}t2_{p_{0}p_{2}}^{h_{6}h_{7}}\n + -0.125 * \\Phi_{h_{7}h_{5}}^{p_{0}p_{1}}v_{h_{6}h_{4}}^{p_{2}p_{3}}t2_{p_{1}p_{2}}^{h_{4}h_{5}}t2_{p_{0}p_{3}}^{h_{6}h_{7}}\n + 0.0625 * \\Phi_{h_{7}h_{5}}^{p_{0}p_{1}}v_{h_{6}h_{4}}^{p_{2}p_{3}}t2_{p_{1}p_{3}}^{h_{4}h_{5}}t2_{p_{0}p_{2}}^{h_{6}h_{7}}\n + -0.03125 * \\Phi_{h_{7}h_{5}}^{p_{0}p_{1}}v_{h_{4}h_{6}}^{p_{2}p_{3}}t2_{p_{2}p_{1}}^{h_{4}h_{5}}t2_{p_{0}p_{3}}^{h_{6}h_{7}}\n + 0.0625 * \\Phi_{h_{7}h_{5}}^{p_{0}p_{1}}v_{h_{4}h_{6}}^{p_{2}p_{3}}t2_{p_{3}p_{1}}^{h_{4}h_{5}}t2_{p_{0}p_{2}}^{h_{6}h_{7}}\n + 0.0625 * \\Phi_{h_{7}h_{5}}^{p_{0}p_{1}}v_{h_{6}h_{4}}^{p_{2}p_{3}}t2_{p_{2}p_{1}}^{h_{4}h_{5}}t2_{p_{0}p_{3}}^{h_{6}h_{7}}\n + -0.03125 * \\Phi_{h_{7}h_{5}}^{p_{0}p_{1}}v_{h_{6}h_{4}}^{p_{2}p_{3}}t2_{p_{3}p_{1}}^{h_{4}h_{5}}t2_{p_{0}p_{2}}^{h_{6}h_{7}}\n + 0.0625 * \\Phi_{h_{7}h_{5}}^{p_{0}p_{1}}v_{h_{4}h_{6}}^{p_{2}p_{3}}t2_{p_{2}p_{3}}^{h_{4}h_{5}}t2_{p_{0}p_{1}}^{h_{6}h_{7}}\n + -0.03125 * \\Phi_{h_{7}h_{5}}^{p_{0}p_{1}}v_{h_{4}h_{6}}^{p_{2}p_{3}}t2_{p_{3}p_{2}}^{h_{4}h_{5}}t2_{p_{0}p_{1}}^{h_{6}h_{7}}\n + -0.03125 * \\Phi_{h_{7}h_{5}}^{p_{0}p_{1}}v_{h_{6}h_{4}}^{p_{2}p_{3}}t2_{p_{2}p_{3}}^{h_{4}h_{5}}t2_{p_{0}p_{1}}^{h_{6}h_{7}}\n + 0.0625 * \\Phi_{h_{7}h_{5}}^{p_{0}p_{1}}v_{h_{6}h_{4}}^{p_{2}p_{3}}t2_{p_{3}p_{2}}^{h_{4}h_{5}}t2_{p_{0}p_{1}}^{h_{6}h_{7}}\n + -0.03125 * \\Phi_{h_{7}h_{5}}^{p_{0}p_{1}}v_{h_{4}h_{6}}^{p_{2}p_{3}}t2_{p_{1}p_{2}}^{h_{4}h_{5}}t2_{p_{3}p_{0}}^{h_{6}h_{7}}\n + 0.0625 * \\Phi_{h_{7}h_{5}}^{p_{0}p_{1}}v_{h_{4}h_{6}}^{p_{2}p_{3}}t2_{p_{1}p_{3}}^{h_{4}h_{5}}t2_{p_{2}p_{0}}^{h_{6}h_{7}}\n + 0.0625 * \\Phi_{h_{7}h_{5}}^{p_{0}p_{1}}v_{h_{6}h_{4}}^{p_{2}p_{3}}t2_{p_{1}p_{2}}^{h_{4}h_{5}}t2_{p_{3}p_{0}}^{h_{6}h_{7}}\n + -0.03125 * \\Phi_{h_{7}h_{5}}^{p_{0}p_{1}}v_{h_{6}h_{4}}^{p_{2}p_{3}}t2_{p_{1}p_{3}}^{h_{4}h_{5}}t2_{p_{2}p_{0}}^{h_{6}h_{7}}\n + 0.0625 * \\Phi_{h_{7}h_{5}}^{p_{0}p_{1}}v_{h_{4}h_{6}}^{p_{2}p_{3}}t2_{p_{2}p_{1}}^{h_{4}h_{5}}t2_{p_{3}p_{0}}^{h_{6}h_{7}}\n + -0.03125 * \\Phi_{h_{7}h_{5}}^{p_{0}p_{1}}v_{h_{4}h_{6}}^{p_{2}p_{3}}t2_{p_{3}p_{1}}^{h_{4}h_{5}}t2_{p_{2}p_{0}}^{h_{6}h_{7}}\n + -0.03125 * \\Phi_{h_{7}h_{5}}^{p_{0}p_{1}}v_{h_{6}h_{4}}^{p_{2}p_{3}}t2_{p_{2}p_{1}}^{h_{4}h_{5}}t2_{p_{3}p_{0}}^{h_{6}h_{7}}\n + 0.0625 * \\Phi_{h_{7}h_{5}}^{p_{0}p_{1}}v_{h_{6}h_{4}}^{p_{2}p_{3}}t2_{p_{3}p_{1}}^{h_{4}h_{5}}t2_{p_{2}p_{0}}^{h_{6}h_{7}}\n + -0.125 * \\Phi_{h_{7}h_{5}}^{p_{0}p_{1}}v_{h_{4}h_{6}}^{p_{2}p_{3}}t2_{p_{2}p_{3}}^{h_{4}h_{5}}t2_{p_{1}p_{0}}^{h_{6}h_{7}}\n + 0.0625 * \\Phi_{h_{7}h_{5}}^{p_{0}p_{1}}v_{h_{4}h_{6}}^{p_{2}p_{3}}t2_{p_{3}p_{2}}^{h_{4}h_{5}}t2_{p_{1}p_{0}}^{h_{6}h_{7}}\n + 0.0625 * \\Phi_{h_{7}h_{5}}^{p_{0}p_{1}}v_{h_{6}h_{4}}^{p_{2}p_{3}}t2_{p_{2}p_{3}}^{h_{4}h_{5}}t2_{p_{1}p_{0}}^{h_{6}h_{7}}\n + -0.125 * \\Phi_{h_{7}h_{5}}^{p_{0}p_{1}}v_{h_{6}h_{4}}^{p_{2}p_{3}}t2_{p_{3}p_{2}}^{h_{4}h_{5}}t2_{p_{1}p_{0}}^{h_{6}h_{7}}\n + -0.03125 * \\Phi_{h_{7}h_{6}}^{p_{0}p_{1}}v_{h_{4}h_{5}}^{p_{2}p_{3}}t2_{p_{0}p_{1}}^{h_{4}h_{5}}t2_{p_{2}p_{3}}^{h_{6}h_{7}}\n + 0.0625 * \\Phi_{h_{7}h_{6}}^{p_{0}p_{1}}v_{h_{4}h_{5}}^{p_{2}p_{3}}t2_{p_{0}p_{1}}^{h_{4}h_{5}}t2_{p_{3}p_{2}}^{h_{6}h_{7}}\n + 0.0625 * \\Phi_{h_{7}h_{6}}^{p_{0}p_{1}}v_{h_{5}h_{4}}^{p_{2}p_{3}}t2_{p_{0}p_{1}}^{h_{4}h_{5}}t2_{p_{2}p_{3}}^{h_{6}h_{7}}\n + -0.03125 * \\Phi_{h_{7}h_{6}}^{p_{0}p_{1}}v_{h_{5}h_{4}}^{p_{2}p_{3}}t2_{p_{0}p_{1}}^{h_{4}h_{5}}t2_{p_{3}p_{2}}^{h_{6}h_{7}}\n + 0.0625 * \\Phi_{h_{7}h_{6}}^{p_{0}p_{1}}v_{h_{4}h_{5}}^{p_{2}p_{3}}t2_{p_{0}p_{2}}^{h_{4}h_{5}}t2_{p_{1}p_{3}}^{h_{6}h_{7}}\n + -0.125 * \\Phi_{h_{7}h_{6}}^{p_{0}p_{1}}v_{h_{4}h_{5}}^{p_{2}p_{3}}t2_{p_{0}p_{3}}^{h_{4}h_{5}}t2_{p_{1}p_{2}}^{h_{6}h_{7}}\n + -0.125 * \\Phi_{h_{7}h_{6}}^{p_{0}p_{1}}v_{h_{5}h_{4}}^{p_{2}p_{3}}t2_{p_{0}p_{2}}^{h_{4}h_{5}}t2_{p_{1}p_{3}}^{h_{6}h_{7}}\n + 0.0625 * \\Phi_{h_{7}h_{6}}^{p_{0}p_{1}}v_{h_{5}h_{4}}^{p_{2}p_{3}}t2_{p_{0}p_{3}}^{h_{4}h_{5}}t2_{p_{1}p_{2}}^{h_{6}h_{7}}\n + -0.03125 * \\Phi_{h_{7}h_{6}}^{p_{0}p_{1}}v_{h_{4}h_{5}}^{p_{2}p_{3}}t2_{p_{0}p_{2}}^{h_{4}h_{5}}t2_{p_{3}p_{1}}^{h_{6}h_{7}}\n + 0.0625 * \\Phi_{h_{7}h_{6}}^{p_{0}p_{1}}v_{h_{4}h_{5}}^{p_{2}p_{3}}t2_{p_{0}p_{3}}^{h_{4}h_{5}}t2_{p_{2}p_{1}}^{h_{6}h_{7}}\n + 0.0625 * \\Phi_{h_{7}h_{6}}^{p_{0}p_{1}}v_{h_{5}h_{4}}^{p_{2}p_{3}}t2_{p_{0}p_{2}}^{h_{4}h_{5}}t2_{p_{3}p_{1}}^{h_{6}h_{7}}\n + -0.03125 * \\Phi_{h_{7}h_{6}}^{p_{0}p_{1}}v_{h_{5}h_{4}}^{p_{2}p_{3}}t2_{p_{0}p_{3}}^{h_{4}h_{5}}t2_{p_{2}p_{1}}^{h_{6}h_{7}}\n + 0.0625 * \\Phi_{h_{7}h_{6}}^{p_{0}p_{1}}v_{h_{4}h_{5}}^{p_{2}p_{3}}t2_{p_{1}p_{0}}^{h_{4}h_{5}}t2_{p_{2}p_{3}}^{h_{6}h_{7}}\n + -0.03125 * \\Phi_{h_{7}h_{6}}^{p_{0}p_{1}}v_{h_{4}h_{5}}^{p_{2}p_{3}}t2_{p_{1}p_{0}}^{h_{4}h_{5}}t2_{p_{3}p_{2}}^{h_{6}h_{7}}\n + -0.03125 * \\Phi_{h_{7}h_{6}}^{p_{0}p_{1}}v_{h_{5}h_{4}}^{p_{2}p_{3}}t2_{p_{1}p_{0}}^{h_{4}h_{5}}t2_{p_{2}p_{3}}^{h_{6}h_{7}}\n + 0.0625 * \\Phi_{h_{7}h_{6}}^{p_{0}p_{1}}v_{h_{5}h_{4}}^{p_{2}p_{3}}t2_{p_{1}p_{0}}^{h_{4}h_{5}}t2_{p_{3}p_{2}}^{h_{6}h_{7}}\n + -0.125 * \\Phi_{h_{7}h_{6}}^{p_{0}p_{1}}v_{h_{4}h_{5}}^{p_{2}p_{3}}t2_{p_{2}p_{0}}^{h_{4}h_{5}}t2_{p_{1}p_{3}}^{h_{6}h_{7}}\n + 0.0625 * \\Phi_{h_{7}h_{6}}^{p_{0}p_{1}}v_{h_{4}h_{5}}^{p_{2}p_{3}}t2_{p_{3}p_{0}}^{h_{4}h_{5}}t2_{p_{1}p_{2}}^{h_{6}h_{7}}\n + 0.0625 * \\Phi_{h_{7}h_{6}}^{p_{0}p_{1}}v_{h_{5}h_{4}}^{p_{2}p_{3}}t2_{p_{2}p_{0}}^{h_{4}h_{5}}t2_{p_{1}p_{3}}^{h_{6}h_{7}}\n + -0.125 * \\Phi_{h_{7}h_{6}}^{p_{0}p_{1}}v_{h_{5}h_{4}}^{p_{2}p_{3}}t2_{p_{3}p_{0}}^{h_{4}h_{5}}t2_{p_{1}p_{2}}^{h_{6}h_{7}}\n + 0.0625 * \\Phi_{h_{7}h_{6}}^{p_{0}p_{1}}v_{h_{4}h_{5}}^{p_{2}p_{3}}t2_{p_{2}p_{0}}^{h_{4}h_{5}}t2_{p_{3}p_{1}}^{h_{6}h_{7}}\n + -0.03125 * \\Phi_{h_{7}h_{6}}^{p_{0}p_{1}}v_{h_{4}h_{5}}^{p_{2}p_{3}}t2_{p_{3}p_{0}}^{h_{4}h_{5}}t2_{p_{2}p_{1}}^{h_{6}h_{7}}\n + -0.03125 * \\Phi_{h_{7}h_{6}}^{p_{0}p_{1}}v_{h_{5}h_{4}}^{p_{2}p_{3}}t2_{p_{2}p_{0}}^{h_{4}h_{5}}t2_{p_{3}p_{1}}^{h_{6}h_{7}}\n + 0.0625 * \\Phi_{h_{7}h_{6}}^{p_{0}p_{1}}v_{h_{5}h_{4}}^{p_{2}p_{3}}t2_{p_{3}p_{0}}^{h_{4}h_{5}}t2_{p_{2}p_{1}}^{h_{6}h_{7}}\n + -0.03125 * \\Phi_{h_{7}h_{6}}^{p_{0}p_{1}}v_{h_{4}h_{5}}^{p_{2}p_{3}}t2_{p_{1}p_{2}}^{h_{4}h_{5}}t2_{p_{0}p_{3}}^{h_{6}h_{7}}\n + 0.0625 * \\Phi_{h_{7}h_{6}}^{p_{0}p_{1}}v_{h_{4}h_{5}}^{p_{2}p_{3}}t2_{p_{1}p_{3}}^{h_{4}h_{5}}t2_{p_{0}p_{2}}^{h_{6}h_{7}}\n + 0.0625 * \\Phi_{h_{7}h_{6}}^{p_{0}p_{1}}v_{h_{5}h_{4}}^{p_{2}p_{3}}t2_{p_{1}p_{2}}^{h_{4}h_{5}}t2_{p_{0}p_{3}}^{h_{6}h_{7}}\n + -0.03125 * \\Phi_{h_{7}h_{6}}^{p_{0}p_{1}}v_{h_{5}h_{4}}^{p_{2}p_{3}}t2_{p_{1}p_{3}}^{h_{4}h_{5}}t2_{p_{0}p_{2}}^{h_{6}h_{7}}\n + 0.0625 * \\Phi_{h_{7}h_{6}}^{p_{0}p_{1}}v_{h_{4}h_{5}}^{p_{2}p_{3}}t2_{p_{2}p_{1}}^{h_{4}h_{5}}t2_{p_{0}p_{3}}^{h_{6}h_{7}}\n + -0.03125 * \\Phi_{h_{7}h_{6}}^{p_{0}p_{1}}v_{h_{4}h_{5}}^{p_{2}p_{3}}t2_{p_{3}p_{1}}^{h_{4}h_{5}}t2_{p_{0}p_{2}}^{h_{6}h_{7}}\n + -0.03125 * \\Phi_{h_{7}h_{6}}^{p_{0}p_{1}}v_{h_{5}h_{4}}^{p_{2}p_{3}}t2_{p_{2}p_{1}}^{h_{4}h_{5}}t2_{p_{0}p_{3}}^{h_{6}h_{7}}\n + 0.0625 * \\Phi_{h_{7}h_{6}}^{p_{0}p_{1}}v_{h_{5}h_{4}}^{p_{2}p_{3}}t2_{p_{3}p_{1}}^{h_{4}h_{5}}t2_{p_{0}p_{2}}^{h_{6}h_{7}}\n + -0.125 * \\Phi_{h_{7}h_{6}}^{p_{0}p_{1}}v_{h_{4}h_{5}}^{p_{2}p_{3}}t2_{p_{2}p_{3}}^{h_{4}h_{5}}t2_{p_{0}p_{1}}^{h_{6}h_{7}}\n + 0.0625 * \\Phi_{h_{7}h_{6}}^{p_{0}p_{1}}v_{h_{4}h_{5}}^{p_{2}p_{3}}t2_{p_{3}p_{2}}^{h_{4}h_{5}}t2_{p_{0}p_{1}}^{h_{6}h_{7}}\n + 0.0625 * \\Phi_{h_{7}h_{6}}^{p_{0}p_{1}}v_{h_{5}h_{4}}^{p_{2}p_{3}}t2_{p_{2}p_{3}}^{h_{4}h_{5}}t2_{p_{0}p_{1}}^{h_{6}h_{7}}\n + -0.125 * \\Phi_{h_{7}h_{6}}^{p_{0}p_{1}}v_{h_{5}h_{4}}^{p_{2}p_{3}}t2_{p_{3}p_{2}}^{h_{4}h_{5}}t2_{p_{0}p_{1}}^{h_{6}h_{7}}\n + 0.0625 * \\Phi_{h_{7}h_{6}}^{p_{0}p_{1}}v_{h_{4}h_{5}}^{p_{2}p_{3}}t2_{p_{1}p_{2}}^{h_{4}h_{5}}t2_{p_{3}p_{0}}^{h_{6}h_{7}}\n + -0.125 * \\Phi_{h_{7}h_{6}}^{p_{0}p_{1}}v_{h_{4}h_{5}}^{p_{2}p_{3}}t2_{p_{1}p_{3}}^{h_{4}h_{5}}t2_{p_{2}p_{0}}^{h_{6}h_{7}}\n + -0.125 * \\Phi_{h_{7}h_{6}}^{p_{0}p_{1}}v_{h_{5}h_{4}}^{p_{2}p_{3}}t2_{p_{1}p_{2}}^{h_{4}h_{5}}t2_{p_{3}p_{0}}^{h_{6}h_{7}}\n + 0.0625 * \\Phi_{h_{7}h_{6}}^{p_{0}p_{1}}v_{h_{5}h_{4}}^{p_{2}p_{3}}t2_{p_{1}p_{3}}^{h_{4}h_{5}}t2_{p_{2}p_{0}}^{h_{6}h_{7}}\n + -0.125 * \\Phi_{h_{7}h_{6}}^{p_{0}p_{1}}v_{h_{4}h_{5}}^{p_{2}p_{3}}t2_{p_{2}p_{1}}^{h_{4}h_{5}}t2_{p_{3}p_{0}}^{h_{6}h_{7}}\n + 0.0625 * \\Phi_{h_{7}h_{6}}^{p_{0}p_{1}}v_{h_{4}h_{5}}^{p_{2}p_{3}}t2_{p_{3}p_{1}}^{h_{4}h_{5}}t2_{p_{2}p_{0}}^{h_{6}h_{7}}\n + 0.0625 * \\Phi_{h_{7}h_{6}}^{p_{0}p_{1}}v_{h_{5}h_{4}}^{p_{2}p_{3}}t2_{p_{2}p_{1}}^{h_{4}h_{5}}t2_{p_{3}p_{0}}^{h_{6}h_{7}}\n + -0.125 * \\Phi_{h_{7}h_{6}}^{p_{0}p_{1}}v_{h_{5}h_{4}}^{p_{2}p_{3}}t2_{p_{3}p_{1}}^{h_{4}h_{5}}t2_{p_{2}p_{0}}^{h_{6}h_{7}}\n + 0.25 * \\Phi_{h_{7}h_{6}}^{p_{0}p_{1}}v_{h_{4}h_{5}}^{p_{2}p_{3}}t2_{p_{2}p_{3}}^{h_{4}h_{5}}t2_{p_{1}p_{0}}^{h_{6}h_{7}}\n + -0.125 * \\Phi_{h_{7}h_{6}}^{p_{0}p_{1}}v_{h_{4}h_{5}}^{p_{2}p_{3}}t2_{p_{3}p_{2}}^{h_{4}h_{5}}t2_{p_{1}p_{0}}^{h_{6}h_{7}}\n + -0.125 * \\Phi_{h_{7}h_{6}}^{p_{0}p_{1}}v_{h_{5}h_{4}}^{p_{2}p_{3}}t2_{p_{2}p_{3}}^{h_{4}h_{5}}t2_{p_{1}p_{0}}^{h_{6}h_{7}}\n + 0.25 * \\Phi_{h_{7}h_{6}}^{p_{0}p_{1}}v_{h_{5}h_{4}}^{p_{2}p_{3}}t2_{p_{3}p_{2}}^{h_{4}h_{5}}t2_{p_{1}p_{0}}^{h_{6}h_{7}}\n + -0.25 * \\Phi_{h_{2}h_{3}}^{p_{0}p_{1}}t2_{p_{0}p_{1}}^{h_{2}h_{3}}v_{h_{6}h_{7}}^{p_{4}p_{5}}t2_{p_{4}p_{5}}^{h_{6}h_{7}}\n + 0.125 * \\Phi_{h_{2}h_{3}}^{p_{0}p_{1}}t2_{p_{0}p_{1}}^{h_{2}h_{3}}v_{h_{6}h_{7}}^{p_{4}p_{5}}t2_{p_{5}p_{4}}^{h_{6}h_{7}}\n + 0.125 * \\Phi_{h_{2}h_{3}}^{p_{0}p_{1}}t2_{p_{0}p_{1}}^{h_{2}h_{3}}v_{h_{7}h_{6}}^{p_{4}p_{5}}t2_{p_{4}p_{5}}^{h_{6}h_{7}}\n + -0.25 * \\Phi_{h_{2}h_{3}}^{p_{0}p_{1}}t2_{p_{0}p_{1}}^{h_{2}h_{3}}v_{h_{7}h_{6}}^{p_{4}p_{5}}t2_{p_{5}p_{4}}^{h_{6}h_{7}}\n + 0.125 * \\Phi_{h_{2}h_{3}}^{p_{0}p_{1}}t2_{p_{1}p_{0}}^{h_{2}h_{3}}v_{h_{6}h_{7}}^{p_{4}p_{5}}t2_{p_{4}p_{5}}^{h_{6}h_{7}}\n + -0.0625 * \\Phi_{h_{2}h_{3}}^{p_{0}p_{1}}t2_{p_{1}p_{0}}^{h_{2}h_{3}}v_{h_{6}h_{7}}^{p_{4}p_{5}}t2_{p_{5}p_{4}}^{h_{6}h_{7}}\n + -0.0625 * \\Phi_{h_{2}h_{3}}^{p_{0}p_{1}}t2_{p_{1}p_{0}}^{h_{2}h_{3}}v_{h_{7}h_{6}}^{p_{4}p_{5}}t2_{p_{4}p_{5}}^{h_{6}h_{7}}\n + 0.125 * \\Phi_{h_{2}h_{3}}^{p_{0}p_{1}}t2_{p_{1}p_{0}}^{h_{2}h_{3}}v_{h_{7}h_{6}}^{p_{4}p_{5}}t2_{p_{5}p_{4}}^{h_{6}h_{7}}\n + 0.125 * \\Phi_{h_{3}h_{2}}^{p_{0}p_{1}}t2_{p_{0}p_{1}}^{h_{2}h_{3}}v_{h_{6}h_{7}}^{p_{4}p_{5}}t2_{p_{4}p_{5}}^{h_{6}h_{7}}\n + -0.0625 * \\Phi_{h_{3}h_{2}}^{p_{0}p_{1}}t2_{p_{0}p_{1}}^{h_{2}h_{3}}v_{h_{6}h_{7}}^{p_{4}p_{5}}t2_{p_{5}p_{4}}^{h_{6}h_{7}}\n + -0.0625 * \\Phi_{h_{3}h_{2}}^{p_{0}p_{1}}t2_{p_{0}p_{1}}^{h_{2}h_{3}}v_{h_{7}h_{6}}^{p_{4}p_{5}}t2_{p_{4}p_{5}}^{h_{6}h_{7}}\n + 0.125 * \\Phi_{h_{3}h_{2}}^{p_{0}p_{1}}t2_{p_{0}p_{1}}^{h_{2}h_{3}}v_{h_{7}h_{6}}^{p_{4}p_{5}}t2_{p_{5}p_{4}}^{h_{6}h_{7}}\n + -0.25 * \\Phi_{h_{3}h_{2}}^{p_{0}p_{1}}t2_{p_{1}p_{0}}^{h_{2}h_{3}}v_{h_{6}h_{7}}^{p_{4}p_{5}}t2_{p_{4}p_{5}}^{h_{6}h_{7}}\n + 0.125 * \\Phi_{h_{3}h_{2}}^{p_{0}p_{1}}t2_{p_{1}p_{0}}^{h_{2}h_{3}}v_{h_{6}h_{7}}^{p_{4}p_{5}}t2_{p_{5}p_{4}}^{h_{6}h_{7}}\n + 0.125 * \\Phi_{h_{3}h_{2}}^{p_{0}p_{1}}t2_{p_{1}p_{0}}^{h_{2}h_{3}}v_{h_{7}h_{6}}^{p_{4}p_{5}}t2_{p_{4}p_{5}}^{h_{6}h_{7}}\n + -0.25 * \\Phi_{h_{3}h_{2}}^{p_{0}p_{1}}t2_{p_{1}p_{0}}^{h_{2}h_{3}}v_{h_{7}h_{6}}^{p_{4}p_{5}}t2_{p_{5}p_{4}}^{h_{6}h_{7}}\n + -0.25 * \\Phi_{h_{2}h_{3}}^{p_{0}p_{1}}t2_{p_{0}p_{1}}^{h_{2}h_{3}}v_{h_{6}h_{7}}^{p_{4}p_{5}}t2_{p_{4}p_{5}}^{h_{6}h_{7}}\n + 0.125 * \\Phi_{h_{2}h_{3}}^{p_{0}p_{1}}t2_{p_{0}p_{1}}^{h_{2}h_{3}}v_{h_{6}h_{7}}^{p_{4}p_{5}}t2_{p_{5}p_{4}}^{h_{6}h_{7}}\n + 0.125 * \\Phi_{h_{2}h_{3}}^{p_{0}p_{1}}t2_{p_{0}p_{1}}^{h_{2}h_{3}}v_{h_{7}h_{6}}^{p_{4}p_{5}}t2_{p_{4}p_{5}}^{h_{6}h_{7}}\n + -0.25 * \\Phi_{h_{2}h_{3}}^{p_{0}p_{1}}t2_{p_{0}p_{1}}^{h_{2}h_{3}}v_{h_{7}h_{6}}^{p_{4}p_{5}}t2_{p_{5}p_{4}}^{h_{6}h_{7}}\n + 0.125 * \\Phi_{h_{2}h_{3}}^{p_{0}p_{1}}t2_{p_{1}p_{0}}^{h_{2}h_{3}}v_{h_{6}h_{7}}^{p_{4}p_{5}}t2_{p_{4}p_{5}}^{h_{6}h_{7}}\n + -0.0625 * \\Phi_{h_{2}h_{3}}^{p_{0}p_{1}}t2_{p_{1}p_{0}}^{h_{2}h_{3}}v_{h_{6}h_{7}}^{p_{4}p_{5}}t2_{p_{5}p_{4}}^{h_{6}h_{7}}\n + -0.0625 * \\Phi_{h_{2}h_{3}}^{p_{0}p_{1}}t2_{p_{1}p_{0}}^{h_{2}h_{3}}v_{h_{7}h_{6}}^{p_{4}p_{5}}t2_{p_{4}p_{5}}^{h_{6}h_{7}}\n + 0.125 * \\Phi_{h_{2}h_{3}}^{p_{0}p_{1}}t2_{p_{1}p_{0}}^{h_{2}h_{3}}v_{h_{7}h_{6}}^{p_{4}p_{5}}t2_{p_{5}p_{4}}^{h_{6}h_{7}}\n + 0.125 * \\Phi_{h_{3}h_{2}}^{p_{0}p_{1}}t2_{p_{0}p_{1}}^{h_{2}h_{3}}v_{h_{6}h_{7}}^{p_{4}p_{5}}t2_{p_{4}p_{5}}^{h_{6}h_{7}}\n + -0.0625 * \\Phi_{h_{3}h_{2}}^{p_{0}p_{1}}t2_{p_{0}p_{1}}^{h_{2}h_{3}}v_{h_{6}h_{7}}^{p_{4}p_{5}}t2_{p_{5}p_{4}}^{h_{6}h_{7}}\n + -0.0625 * \\Phi_{h_{3}h_{2}}^{p_{0}p_{1}}t2_{p_{0}p_{1}}^{h_{2}h_{3}}v_{h_{7}h_{6}}^{p_{4}p_{5}}t2_{p_{4}p_{5}}^{h_{6}h_{7}}\n + 0.125 * \\Phi_{h_{3}h_{2}}^{p_{0}p_{1}}t2_{p_{0}p_{1}}^{h_{2}h_{3}}v_{h_{7}h_{6}}^{p_{4}p_{5}}t2_{p_{5}p_{4}}^{h_{6}h_{7}}\n + -0.25 * \\Phi_{h_{3}h_{2}}^{p_{0}p_{1}}t2_{p_{1}p_{0}}^{h_{2}h_{3}}v_{h_{6}h_{7}}^{p_{4}p_{5}}t2_{p_{4}p_{5}}^{h_{6}h_{7}}\n + 0.125 * \\Phi_{h_{3}h_{2}}^{p_{0}p_{1}}t2_{p_{1}p_{0}}^{h_{2}h_{3}}v_{h_{6}h_{7}}^{p_{4}p_{5}}t2_{p_{5}p_{4}}^{h_{6}h_{7}}\n + 0.125 * \\Phi_{h_{3}h_{2}}^{p_{0}p_{1}}t2_{p_{1}p_{0}}^{h_{2}h_{3}}v_{h_{7}h_{6}}^{p_{4}p_{5}}t2_{p_{4}p_{5}}^{h_{6}h_{7}}\n + -0.25 * \\Phi_{h_{3}h_{2}}^{p_{0}p_{1}}t2_{p_{1}p_{0}}^{h_{2}h_{3}}v_{h_{7}h_{6}}^{p_{4}p_{5}}t2_{p_{5}p_{4}}^{h_{6}h_{7}}\n"
     ]
    }
   ],
   "source": [
    "print(CCDDoublesResidual)"
   ]
  },
  {
   "cell_type": "code",
   "execution_count": 113,
   "metadata": {},
   "outputs": [
    {
     "output_type": "execute_result",
     "data": {
      "text/plain": [
       "727"
      ]
     },
     "metadata": {},
     "execution_count": 113
    }
   ],
   "source": [
    "len(CCDDoublesResidual.summandList)"
   ]
  },
  {
   "cell_type": "code",
   "execution_count": 114,
   "metadata": {},
   "outputs": [],
   "source": [
    "testCCDDoublesResidual = deepcopy(CCDDoublesResidual)"
   ]
  },
  {
   "cell_type": "code",
   "execution_count": 117,
   "metadata": {},
   "outputs": [
    {
     "output_type": "stream",
     "name": "stdout",
     "text": [
      "\\Phi_{h_{2}h_{3}}^{p_{0}p_{1}}\n"
     ]
    }
   ],
   "source": [
    "print(testCCDDoublesResidual.summandList[0].vertexList[0])"
   ]
  },
  {
   "cell_type": "code",
   "execution_count": 118,
   "metadata": {},
   "outputs": [],
   "source": [
    "for summand in testCCDDoublesResidual.summandList:\n",
    "    summand.vertexList.pop(0)"
   ]
  },
  {
   "cell_type": "code",
   "execution_count": 119,
   "metadata": {},
   "outputs": [
    {
     "output_type": "stream",
     "name": "stdout",
     "text": [
      "-0.5 * f_{p_{0}}^{p_{3}}t2_{p_{1}p_{3}}^{h_{2}h_{3}}\n + 1.0 * f_{p_{0}}^{p_{3}}t2_{p_{3}p_{1}}^{h_{2}h_{3}}\n + 1.0 * f_{p_{1}}^{p_{3}}t2_{p_{0}p_{3}}^{h_{2}h_{3}}\n + 0.0 * f_{p_{2}}^{p_{3}}t2_{p_{4}p_{5}}^{h_{2}h_{3}}\n + -0.5 * f_{p_{1}}^{p_{3}}t2_{p_{3}p_{0}}^{h_{2}h_{3}}\n + 1.0 * f_{p_{0}}^{p_{3}}t2_{p_{1}p_{3}}^{h_{2}h_{3}}\n + -0.5 * f_{p_{0}}^{p_{3}}t2_{p_{3}p_{1}}^{h_{2}h_{3}}\n + -0.5 * f_{p_{1}}^{p_{3}}t2_{p_{0}p_{3}}^{h_{2}h_{3}}\n + 1.0 * f_{p_{1}}^{p_{3}}t2_{p_{3}p_{0}}^{h_{2}h_{3}}\n + 0.5 * f_{h_{5}}^{h_{3}}t2_{p_{0}p_{1}}^{h_{4}h_{5}}\n + -1.0 * f_{h_{5}}^{h_{3}}t2_{p_{1}p_{0}}^{h_{4}h_{5}}\n + -1.0 * f_{h_{4}}^{h_{3}}t2_{p_{0}p_{1}}^{h_{4}h_{5}}\n + 0.5 * f_{h_{4}}^{h_{3}}t2_{p_{1}p_{0}}^{h_{4}h_{5}}\n + -1.0 * f_{h_{5}}^{h_{3}}t2_{p_{0}p_{1}}^{h_{4}h_{5}}\n + 0.5 * f_{h_{5}}^{h_{3}}t2_{p_{1}p_{0}}^{h_{4}h_{5}}\n + 2.0 * f_{h_{3}}^{h_{3}}t2_{p_{0}p_{1}}^{h_{4}h_{5}}\n + -1.0 * f_{h_{3}}^{h_{3}}t2_{p_{1}p_{0}}^{h_{4}h_{5}}\n + 0.5 * f_{h_{4}}^{h_{3}}t2_{p_{0}p_{1}}^{h_{4}h_{5}}\n + -1.0 * f_{h_{4}}^{h_{3}}t2_{p_{1}p_{0}}^{h_{4}h_{5}}\n + -1.0 * f_{h_{3}}^{h_{3}}t2_{p_{0}p_{1}}^{h_{4}h_{5}}\n + 2.0 * f_{h_{3}}^{h_{3}}t2_{p_{1}p_{0}}^{h_{4}h_{5}}\n + -2.0 * t2_{p_{0}p_{1}}^{h_{2}h_{3}}f_{h_{5}}^{h_{5}}\n + 1.0 * t2_{p_{1}p_{0}}^{h_{2}h_{3}}f_{h_{5}}^{h_{5}}\n + 1.0 * t2_{p_{0}p_{1}}^{h_{2}h_{3}}f_{h_{5}}^{h_{5}}\n + -2.0 * t2_{p_{1}p_{0}}^{h_{2}h_{3}}f_{h_{5}}^{h_{5}}\n + -0.0 * t2_{p_{2}p_{3}}^{h_{2}h_{3}}f_{h_{4}}^{h_{5}}\n + -0.25 * v_{p_{0}p_{1}}^{p_{4}p_{5}}t2_{p_{4}p_{5}}^{h_{2}h_{3}}\n + 0.5 * v_{p_{0}p_{1}}^{p_{4}p_{5}}t2_{p_{5}p_{4}}^{h_{2}h_{3}}\n + 0.5 * v_{p_{1}p_{0}}^{p_{4}p_{5}}t2_{p_{4}p_{5}}^{h_{2}h_{3}}\n + -0.25 * v_{p_{1}p_{0}}^{p_{4}p_{5}}t2_{p_{5}p_{4}}^{h_{2}h_{3}}\n + 0.5 * v_{p_{0}p_{1}}^{p_{4}p_{5}}t2_{p_{4}p_{5}}^{h_{2}h_{3}}\n + -0.25 * v_{p_{0}p_{1}}^{p_{4}p_{5}}t2_{p_{5}p_{4}}^{h_{2}h_{3}}\n + -0.25 * v_{p_{1}p_{0}}^{p_{4}p_{5}}t2_{p_{4}p_{5}}^{h_{2}h_{3}}\n + 0.5 * v_{p_{1}p_{0}}^{p_{4}p_{5}}t2_{p_{5}p_{4}}^{h_{2}h_{3}}\n + -0.25 * v_{h_{6}h_{7}}^{h_{4}h_{5}}t2_{p_{0}p_{1}}^{h_{6}h_{7}}\n + 0.5 * v_{h_{7}h_{6}}^{h_{4}h_{5}}t2_{p_{0}p_{1}}^{h_{6}h_{7}}\n + 0.5 * v_{h_{6}h_{7}}^{h_{4}h_{5}}t2_{p_{1}p_{0}}^{h_{6}h_{7}}\n + -0.25 * v_{h_{7}h_{6}}^{h_{4}h_{5}}t2_{p_{1}p_{0}}^{h_{6}h_{7}}\n + 0.5 * v_{h_{5}h_{7}}^{h_{4}h_{5}}t2_{p_{0}p_{1}}^{h_{6}h_{7}}\n + -0.25 * v_{h_{7}h_{5}}^{h_{4}h_{5}}t2_{p_{0}p_{1}}^{h_{6}h_{7}}\n + -1.0 * v_{h_{5}h_{7}}^{h_{4}h_{5}}t2_{p_{1}p_{0}}^{h_{6}h_{7}}\n + 0.5 * v_{h_{7}h_{5}}^{h_{4}h_{5}}t2_{p_{1}p_{0}}^{h_{6}h_{7}}\n + -1.0 * v_{h_{5}h_{6}}^{h_{4}h_{5}}t2_{p_{0}p_{1}}^{h_{6}h_{7}}\n + 0.5 * v_{h_{6}h_{5}}^{h_{4}h_{5}}t2_{p_{0}p_{1}}^{h_{6}h_{7}}\n + 0.5 * v_{h_{5}h_{6}}^{h_{4}h_{5}}t2_{p_{1}p_{0}}^{h_{6}h_{7}}\n + -0.25 * v_{h_{6}h_{5}}^{h_{4}h_{5}}t2_{p_{1}p_{0}}^{h_{6}h_{7}}\n + 0.5 * v_{h_{6}h_{7}}^{h_{4}h_{5}}t2_{p_{0}p_{1}}^{h_{6}h_{7}}\n + -0.25 * v_{h_{7}h_{6}}^{h_{4}h_{5}}t2_{p_{0}p_{1}}^{h_{6}h_{7}}\n + -0.25 * v_{h_{6}h_{7}}^{h_{4}h_{5}}t2_{p_{1}p_{0}}^{h_{6}h_{7}}\n + 0.5 * v_{h_{7}h_{6}}^{h_{4}h_{5}}t2_{p_{1}p_{0}}^{h_{6}h_{7}}\n + -0.25 * v_{h_{4}h_{7}}^{h_{4}h_{5}}t2_{p_{0}p_{1}}^{h_{6}h_{7}}\n + 0.5 * v_{h_{7}h_{4}}^{h_{4}h_{5}}t2_{p_{0}p_{1}}^{h_{6}h_{7}}\n + 0.5 * v_{h_{4}h_{7}}^{h_{4}h_{5}}t2_{p_{1}p_{0}}^{h_{6}h_{7}}\n + -1.0 * v_{h_{7}h_{4}}^{h_{4}h_{5}}t2_{p_{1}p_{0}}^{h_{6}h_{7}}\n + 0.5 * v_{h_{4}h_{6}}^{h_{4}h_{5}}t2_{p_{0}p_{1}}^{h_{6}h_{7}}\n + -1.0 * v_{h_{6}h_{4}}^{h_{4}h_{5}}t2_{p_{0}p_{1}}^{h_{6}h_{7}}\n + -0.25 * v_{h_{4}h_{6}}^{h_{4}h_{5}}t2_{p_{1}p_{0}}^{h_{6}h_{7}}\n + 0.5 * v_{h_{6}h_{4}}^{h_{4}h_{5}}t2_{p_{1}p_{0}}^{h_{6}h_{7}}\n + -1.0 * v_{h_{5}h_{7}}^{h_{4}h_{5}}t2_{p_{0}p_{1}}^{h_{6}h_{7}}\n + 0.5 * v_{h_{7}h_{5}}^{h_{4}h_{5}}t2_{p_{0}p_{1}}^{h_{6}h_{7}}\n + 0.5 * v_{h_{5}h_{7}}^{h_{4}h_{5}}t2_{p_{1}p_{0}}^{h_{6}h_{7}}\n + -0.25 * v_{h_{7}h_{5}}^{h_{4}h_{5}}t2_{p_{1}p_{0}}^{h_{6}h_{7}}\n + 0.5 * v_{h_{4}h_{7}}^{h_{4}h_{5}}t2_{p_{0}p_{1}}^{h_{6}h_{7}}\n + -1.0 * v_{h_{7}h_{4}}^{h_{4}h_{5}}t2_{p_{0}p_{1}}^{h_{6}h_{7}}\n + -0.25 * v_{h_{4}h_{7}}^{h_{4}h_{5}}t2_{p_{1}p_{0}}^{h_{6}h_{7}}\n + 0.5 * v_{h_{7}h_{4}}^{h_{4}h_{5}}t2_{p_{1}p_{0}}^{h_{6}h_{7}}\n + -1.0 * v_{h_{4}h_{5}}^{h_{4}h_{5}}t2_{p_{0}p_{1}}^{h_{6}h_{7}}\n + 2.0 * v_{h_{5}h_{4}}^{h_{4}h_{5}}t2_{p_{0}p_{1}}^{h_{6}h_{7}}\n + 0.5 * v_{h_{4}h_{5}}^{h_{4}h_{5}}t2_{p_{1}p_{0}}^{h_{6}h_{7}}\n + -1.0 * v_{h_{5}h_{4}}^{h_{4}h_{5}}t2_{p_{1}p_{0}}^{h_{6}h_{7}}\n + 0.5 * v_{h_{5}h_{6}}^{h_{4}h_{5}}t2_{p_{0}p_{1}}^{h_{6}h_{7}}\n + -0.25 * v_{h_{6}h_{5}}^{h_{4}h_{5}}t2_{p_{0}p_{1}}^{h_{6}h_{7}}\n + -1.0 * v_{h_{5}h_{6}}^{h_{4}h_{5}}t2_{p_{1}p_{0}}^{h_{6}h_{7}}\n + 0.5 * v_{h_{6}h_{5}}^{h_{4}h_{5}}t2_{p_{1}p_{0}}^{h_{6}h_{7}}\n + -0.25 * v_{h_{4}h_{6}}^{h_{4}h_{5}}t2_{p_{0}p_{1}}^{h_{6}h_{7}}\n + 0.5 * v_{h_{6}h_{4}}^{h_{4}h_{5}}t2_{p_{0}p_{1}}^{h_{6}h_{7}}\n + 0.5 * v_{h_{4}h_{6}}^{h_{4}h_{5}}t2_{p_{1}p_{0}}^{h_{6}h_{7}}\n + -1.0 * v_{h_{6}h_{4}}^{h_{4}h_{5}}t2_{p_{1}p_{0}}^{h_{6}h_{7}}\n + 0.5 * v_{h_{4}h_{5}}^{h_{4}h_{5}}t2_{p_{0}p_{1}}^{h_{6}h_{7}}\n + -1.0 * v_{h_{5}h_{4}}^{h_{4}h_{5}}t2_{p_{0}p_{1}}^{h_{6}h_{7}}\n + -1.0 * v_{h_{4}h_{5}}^{h_{4}h_{5}}t2_{p_{1}p_{0}}^{h_{6}h_{7}}\n + 2.0 * v_{h_{5}h_{4}}^{h_{4}h_{5}}t2_{p_{1}p_{0}}^{h_{6}h_{7}}\n + 1.0 * t2_{p_{0}p_{1}}^{h_{2}h_{3}}v_{h_{6}h_{7}}^{h_{6}h_{7}}\n + -2.0 * t2_{p_{0}p_{1}}^{h_{2}h_{3}}v_{h_{7}h_{6}}^{h_{6}h_{7}}\n + -0.5 * t2_{p_{1}p_{0}}^{h_{2}h_{3}}v_{h_{6}h_{7}}^{h_{6}h_{7}}\n + 1.0 * t2_{p_{1}p_{0}}^{h_{2}h_{3}}v_{h_{7}h_{6}}^{h_{6}h_{7}}\n + -0.5 * t2_{p_{0}p_{1}}^{h_{2}h_{3}}v_{h_{6}h_{7}}^{h_{6}h_{7}}\n + 1.0 * t2_{p_{0}p_{1}}^{h_{2}h_{3}}v_{h_{7}h_{6}}^{h_{6}h_{7}}\n + 1.0 * t2_{p_{1}p_{0}}^{h_{2}h_{3}}v_{h_{6}h_{7}}^{h_{6}h_{7}}\n + -2.0 * t2_{p_{1}p_{0}}^{h_{2}h_{3}}v_{h_{7}h_{6}}^{h_{6}h_{7}}\n + -0.5 * v_{h_{5}p_{0}}^{p_{3}h_{3}}t2_{p_{1}p_{3}}^{h_{4}h_{5}}\n + 0.25 * v_{h_{5}p_{0}}^{p_{3}h_{3}}t2_{p_{3}p_{1}}^{h_{4}h_{5}}\n + 0.25 * v_{h_{5}p_{1}}^{p_{3}h_{3}}t2_{p_{0}p_{3}}^{h_{4}h_{5}}\n + 0.0 * v_{h_{2}p_{2}}^{p_{3}h_{3}}t2_{p_{4}p_{5}}^{h_{4}h_{5}}\n + -0.5 * v_{h_{5}p_{1}}^{p_{3}h_{3}}t2_{p_{3}p_{0}}^{h_{4}h_{5}}\n + 0.25 * v_{h_{4}p_{0}}^{p_{3}h_{3}}t2_{p_{1}p_{3}}^{h_{4}h_{5}}\n + -0.5 * v_{h_{4}p_{0}}^{p_{3}h_{3}}t2_{p_{3}p_{1}}^{h_{4}h_{5}}\n + -0.5 * v_{h_{4}p_{1}}^{p_{3}h_{3}}t2_{p_{0}p_{3}}^{h_{4}h_{5}}\n + 0.25 * v_{h_{4}p_{1}}^{p_{3}h_{3}}t2_{p_{3}p_{0}}^{h_{4}h_{5}}\n + 0.25 * v_{h_{5}p_{0}}^{p_{3}h_{3}}t2_{p_{1}p_{3}}^{h_{4}h_{5}}\n + -0.5 * v_{h_{5}p_{0}}^{p_{3}h_{3}}t2_{p_{3}p_{1}}^{h_{4}h_{5}}\n + -0.5 * v_{h_{5}p_{1}}^{p_{3}h_{3}}t2_{p_{0}p_{3}}^{h_{4}h_{5}}\n + 0.25 * v_{h_{5}p_{1}}^{p_{3}h_{3}}t2_{p_{3}p_{0}}^{h_{4}h_{5}}\n + -0.5 * v_{h_{3}p_{0}}^{p_{3}h_{3}}t2_{p_{1}p_{3}}^{h_{4}h_{5}}\n + 1.0 * v_{h_{3}p_{0}}^{p_{3}h_{3}}t2_{p_{3}p_{1}}^{h_{4}h_{5}}\n + 1.0 * v_{h_{3}p_{1}}^{p_{3}h_{3}}t2_{p_{0}p_{3}}^{h_{4}h_{5}}\n + -0.5 * v_{h_{3}p_{1}}^{p_{3}h_{3}}t2_{p_{3}p_{0}}^{h_{4}h_{5}}\n + -0.5 * v_{h_{4}p_{0}}^{p_{3}h_{3}}t2_{p_{1}p_{3}}^{h_{4}h_{5}}\n + 0.25 * v_{h_{4}p_{0}}^{p_{3}h_{3}}t2_{p_{3}p_{1}}^{h_{4}h_{5}}\n + 0.25 * v_{h_{4}p_{1}}^{p_{3}h_{3}}t2_{p_{0}p_{3}}^{h_{4}h_{5}}\n + -0.5 * v_{h_{4}p_{1}}^{p_{3}h_{3}}t2_{p_{3}p_{0}}^{h_{4}h_{5}}\n + 1.0 * v_{h_{3}p_{0}}^{p_{3}h_{3}}t2_{p_{1}p_{3}}^{h_{4}h_{5}}\n + -0.5 * v_{h_{3}p_{0}}^{p_{3}h_{3}}t2_{p_{3}p_{1}}^{h_{4}h_{5}}\n + -0.5 * v_{h_{3}p_{1}}^{p_{3}h_{3}}t2_{p_{0}p_{3}}^{h_{4}h_{5}}\n + 1.0 * v_{h_{3}p_{1}}^{p_{3}h_{3}}t2_{p_{3}p_{0}}^{h_{4}h_{5}}\n + 2.0 * v_{p_{0}p_{1}}^{h_{2}h_{3}}\n + -1.0 * v_{p_{1}p_{0}}^{h_{2}h_{3}}\n + -1.0 * v_{p_{0}p_{1}}^{h_{2}h_{3}}\n + 2.0 * v_{p_{1}p_{0}}^{h_{2}h_{3}}\n + 0.25 * v_{h_{6}h_{7}}^{p_{2}p_{3}}t2_{p_{0}p_{1}}^{h_{4}h_{5}}t2_{p_{2}p_{3}}^{h_{6}h_{7}}\n + -0.125 * v_{h_{6}h_{7}}^{p_{2}p_{3}}t2_{p_{0}p_{1}}^{h_{4}h_{5}}t2_{p_{3}p_{2}}^{h_{6}h_{7}}\n + -0.125 * v_{h_{7}h_{6}}^{p_{2}p_{3}}t2_{p_{0}p_{1}}^{h_{4}h_{5}}t2_{p_{2}p_{3}}^{h_{6}h_{7}}\n + 0.25 * v_{h_{7}h_{6}}^{p_{2}p_{3}}t2_{p_{0}p_{1}}^{h_{4}h_{5}}t2_{p_{3}p_{2}}^{h_{6}h_{7}}\n + -0.125 * v_{h_{6}h_{7}}^{p_{2}p_{3}}t2_{p_{0}p_{2}}^{h_{4}h_{5}}t2_{p_{1}p_{3}}^{h_{6}h_{7}}\n + 0.0625 * v_{h_{6}h_{7}}^{p_{2}p_{3}}t2_{p_{0}p_{3}}^{h_{4}h_{5}}t2_{p_{1}p_{2}}^{h_{6}h_{7}}\n + 0.0625 * v_{h_{7}h_{6}}^{p_{2}p_{3}}t2_{p_{0}p_{2}}^{h_{4}h_{5}}t2_{p_{1}p_{3}}^{h_{6}h_{7}}\n + -0.125 * v_{h_{7}h_{6}}^{p_{2}p_{3}}t2_{p_{0}p_{3}}^{h_{4}h_{5}}t2_{p_{1}p_{2}}^{h_{6}h_{7}}\n + 0.0625 * v_{h_{6}h_{7}}^{p_{2}p_{3}}t2_{p_{0}p_{2}}^{h_{4}h_{5}}t2_{p_{3}p_{1}}^{h_{6}h_{7}}\n + -0.125 * v_{h_{6}h_{7}}^{p_{2}p_{3}}t2_{p_{0}p_{3}}^{h_{4}h_{5}}t2_{p_{2}p_{1}}^{h_{6}h_{7}}\n + -0.125 * v_{h_{7}h_{6}}^{p_{2}p_{3}}t2_{p_{0}p_{2}}^{h_{4}h_{5}}t2_{p_{3}p_{1}}^{h_{6}h_{7}}\n + 0.0625 * v_{h_{7}h_{6}}^{p_{2}p_{3}}t2_{p_{0}p_{3}}^{h_{4}h_{5}}t2_{p_{2}p_{1}}^{h_{6}h_{7}}\n + -0.125 * v_{h_{6}h_{7}}^{p_{2}p_{3}}t2_{p_{1}p_{0}}^{h_{4}h_{5}}t2_{p_{2}p_{3}}^{h_{6}h_{7}}\n + 0.0625 * v_{h_{6}h_{7}}^{p_{2}p_{3}}t2_{p_{1}p_{0}}^{h_{4}h_{5}}t2_{p_{3}p_{2}}^{h_{6}h_{7}}\n + 0.0625 * v_{h_{7}h_{6}}^{p_{2}p_{3}}t2_{p_{1}p_{0}}^{h_{4}h_{5}}t2_{p_{2}p_{3}}^{h_{6}h_{7}}\n + -0.125 * v_{h_{7}h_{6}}^{p_{2}p_{3}}t2_{p_{1}p_{0}}^{h_{4}h_{5}}t2_{p_{3}p_{2}}^{h_{6}h_{7}}\n + 0.0625 * v_{h_{6}h_{7}}^{p_{2}p_{3}}t2_{p_{2}p_{0}}^{h_{4}h_{5}}t2_{p_{1}p_{3}}^{h_{6}h_{7}}\n + -0.03125 * v_{h_{6}h_{7}}^{p_{2}p_{3}}t2_{p_{3}p_{0}}^{h_{4}h_{5}}t2_{p_{1}p_{2}}^{h_{6}h_{7}}\n + -0.03125 * v_{h_{7}h_{6}}^{p_{2}p_{3}}t2_{p_{2}p_{0}}^{h_{4}h_{5}}t2_{p_{1}p_{3}}^{h_{6}h_{7}}\n + 0.0625 * v_{h_{7}h_{6}}^{p_{2}p_{3}}t2_{p_{3}p_{0}}^{h_{4}h_{5}}t2_{p_{1}p_{2}}^{h_{6}h_{7}}\n + -0.03125 * v_{h_{6}h_{7}}^{p_{2}p_{3}}t2_{p_{2}p_{0}}^{h_{4}h_{5}}t2_{p_{3}p_{1}}^{h_{6}h_{7}}\n + 0.0625 * v_{h_{6}h_{7}}^{p_{2}p_{3}}t2_{p_{3}p_{0}}^{h_{4}h_{5}}t2_{p_{2}p_{1}}^{h_{6}h_{7}}\n + 0.0625 * v_{h_{7}h_{6}}^{p_{2}p_{3}}t2_{p_{2}p_{0}}^{h_{4}h_{5}}t2_{p_{3}p_{1}}^{h_{6}h_{7}}\n + -0.03125 * v_{h_{7}h_{6}}^{p_{2}p_{3}}t2_{p_{3}p_{0}}^{h_{4}h_{5}}t2_{p_{2}p_{1}}^{h_{6}h_{7}}\n + 0.0625 * v_{h_{6}h_{7}}^{p_{2}p_{3}}t2_{p_{1}p_{2}}^{h_{4}h_{5}}t2_{p_{0}p_{3}}^{h_{6}h_{7}}\n + -0.03125 * v_{h_{6}h_{7}}^{p_{2}p_{3}}t2_{p_{1}p_{3}}^{h_{4}h_{5}}t2_{p_{0}p_{2}}^{h_{6}h_{7}}\n + -0.03125 * v_{h_{7}h_{6}}^{p_{2}p_{3}}t2_{p_{1}p_{2}}^{h_{4}h_{5}}t2_{p_{0}p_{3}}^{h_{6}h_{7}}\n + 0.0625 * v_{h_{7}h_{6}}^{p_{2}p_{3}}t2_{p_{1}p_{3}}^{h_{4}h_{5}}t2_{p_{0}p_{2}}^{h_{6}h_{7}}\n + -0.125 * v_{h_{6}h_{7}}^{p_{2}p_{3}}t2_{p_{2}p_{1}}^{h_{4}h_{5}}t2_{p_{0}p_{3}}^{h_{6}h_{7}}\n + 0.0625 * v_{h_{6}h_{7}}^{p_{2}p_{3}}t2_{p_{3}p_{1}}^{h_{4}h_{5}}t2_{p_{0}p_{2}}^{h_{6}h_{7}}\n + 0.0625 * v_{h_{7}h_{6}}^{p_{2}p_{3}}t2_{p_{2}p_{1}}^{h_{4}h_{5}}t2_{p_{0}p_{3}}^{h_{6}h_{7}}\n + -0.125 * v_{h_{7}h_{6}}^{p_{2}p_{3}}t2_{p_{3}p_{1}}^{h_{4}h_{5}}t2_{p_{0}p_{2}}^{h_{6}h_{7}}\n + 0.0625 * v_{h_{6}h_{7}}^{p_{2}p_{3}}t2_{p_{2}p_{3}}^{h_{4}h_{5}}t2_{p_{0}p_{1}}^{h_{6}h_{7}}\n + -0.03125 * v_{h_{6}h_{7}}^{p_{2}p_{3}}t2_{p_{3}p_{2}}^{h_{4}h_{5}}t2_{p_{0}p_{1}}^{h_{6}h_{7}}\n + -0.03125 * v_{h_{7}h_{6}}^{p_{2}p_{3}}t2_{p_{2}p_{3}}^{h_{4}h_{5}}t2_{p_{0}p_{1}}^{h_{6}h_{7}}\n + 0.0625 * v_{h_{7}h_{6}}^{p_{2}p_{3}}t2_{p_{3}p_{2}}^{h_{4}h_{5}}t2_{p_{0}p_{1}}^{h_{6}h_{7}}\n + -0.03125 * v_{h_{6}h_{7}}^{p_{2}p_{3}}t2_{p_{1}p_{2}}^{h_{4}h_{5}}t2_{p_{3}p_{0}}^{h_{6}h_{7}}\n + 0.0625 * v_{h_{6}h_{7}}^{p_{2}p_{3}}t2_{p_{1}p_{3}}^{h_{4}h_{5}}t2_{p_{2}p_{0}}^{h_{6}h_{7}}\n + 0.0625 * v_{h_{7}h_{6}}^{p_{2}p_{3}}t2_{p_{1}p_{2}}^{h_{4}h_{5}}t2_{p_{3}p_{0}}^{h_{6}h_{7}}\n + -0.03125 * v_{h_{7}h_{6}}^{p_{2}p_{3}}t2_{p_{1}p_{3}}^{h_{4}h_{5}}t2_{p_{2}p_{0}}^{h_{6}h_{7}}\n + 0.0625 * v_{h_{6}h_{7}}^{p_{2}p_{3}}t2_{p_{2}p_{1}}^{h_{4}h_{5}}t2_{p_{3}p_{0}}^{h_{6}h_{7}}\n + -0.125 * v_{h_{6}h_{7}}^{p_{2}p_{3}}t2_{p_{3}p_{1}}^{h_{4}h_{5}}t2_{p_{2}p_{0}}^{h_{6}h_{7}}\n + -0.125 * v_{h_{7}h_{6}}^{p_{2}p_{3}}t2_{p_{2}p_{1}}^{h_{4}h_{5}}t2_{p_{3}p_{0}}^{h_{6}h_{7}}\n + 0.0625 * v_{h_{7}h_{6}}^{p_{2}p_{3}}t2_{p_{3}p_{1}}^{h_{4}h_{5}}t2_{p_{2}p_{0}}^{h_{6}h_{7}}\n + -0.03125 * v_{h_{6}h_{7}}^{p_{2}p_{3}}t2_{p_{2}p_{3}}^{h_{4}h_{5}}t2_{p_{1}p_{0}}^{h_{6}h_{7}}\n + 0.0625 * v_{h_{6}h_{7}}^{p_{2}p_{3}}t2_{p_{3}p_{2}}^{h_{4}h_{5}}t2_{p_{1}p_{0}}^{h_{6}h_{7}}\n + 0.0625 * v_{h_{7}h_{6}}^{p_{2}p_{3}}t2_{p_{2}p_{3}}^{h_{4}h_{5}}t2_{p_{1}p_{0}}^{h_{6}h_{7}}\n + -0.03125 * v_{h_{7}h_{6}}^{p_{2}p_{3}}t2_{p_{3}p_{2}}^{h_{4}h_{5}}t2_{p_{1}p_{0}}^{h_{6}h_{7}}\n + -0.125 * v_{h_{5}h_{7}}^{p_{2}p_{3}}t2_{p_{0}p_{1}}^{h_{4}h_{5}}t2_{p_{2}p_{3}}^{h_{6}h_{7}}\n + 0.0625 * v_{h_{5}h_{7}}^{p_{2}p_{3}}t2_{p_{0}p_{1}}^{h_{4}h_{5}}t2_{p_{3}p_{2}}^{h_{6}h_{7}}\n + 0.0625 * v_{h_{7}h_{5}}^{p_{2}p_{3}}t2_{p_{0}p_{1}}^{h_{4}h_{5}}t2_{p_{2}p_{3}}^{h_{6}h_{7}}\n + -0.125 * v_{h_{7}h_{5}}^{p_{2}p_{3}}t2_{p_{0}p_{1}}^{h_{4}h_{5}}t2_{p_{3}p_{2}}^{h_{6}h_{7}}\n + 0.0625 * v_{h_{5}h_{7}}^{p_{2}p_{3}}t2_{p_{0}p_{2}}^{h_{4}h_{5}}t2_{p_{1}p_{3}}^{h_{6}h_{7}}\n + -0.03125 * v_{h_{5}h_{7}}^{p_{2}p_{3}}t2_{p_{0}p_{3}}^{h_{4}h_{5}}t2_{p_{1}p_{2}}^{h_{6}h_{7}}\n + -0.03125 * v_{h_{7}h_{5}}^{p_{2}p_{3}}t2_{p_{0}p_{2}}^{h_{4}h_{5}}t2_{p_{1}p_{3}}^{h_{6}h_{7}}\n + 0.0625 * v_{h_{7}h_{5}}^{p_{2}p_{3}}t2_{p_{0}p_{3}}^{h_{4}h_{5}}t2_{p_{1}p_{2}}^{h_{6}h_{7}}\n + -0.03125 * v_{h_{5}h_{7}}^{p_{2}p_{3}}t2_{p_{0}p_{2}}^{h_{4}h_{5}}t2_{p_{3}p_{1}}^{h_{6}h_{7}}\n + 0.0625 * v_{h_{5}h_{7}}^{p_{2}p_{3}}t2_{p_{0}p_{3}}^{h_{4}h_{5}}t2_{p_{2}p_{1}}^{h_{6}h_{7}}\n + 0.0625 * v_{h_{7}h_{5}}^{p_{2}p_{3}}t2_{p_{0}p_{2}}^{h_{4}h_{5}}t2_{p_{3}p_{1}}^{h_{6}h_{7}}\n + -0.03125 * v_{h_{7}h_{5}}^{p_{2}p_{3}}t2_{p_{0}p_{3}}^{h_{4}h_{5}}t2_{p_{2}p_{1}}^{h_{6}h_{7}}\n + 0.0625 * v_{h_{5}h_{7}}^{p_{2}p_{3}}t2_{p_{1}p_{0}}^{h_{4}h_{5}}t2_{p_{2}p_{3}}^{h_{6}h_{7}}\n + -0.03125 * v_{h_{5}h_{7}}^{p_{2}p_{3}}t2_{p_{1}p_{0}}^{h_{4}h_{5}}t2_{p_{3}p_{2}}^{h_{6}h_{7}}\n + -0.03125 * v_{h_{7}h_{5}}^{p_{2}p_{3}}t2_{p_{1}p_{0}}^{h_{4}h_{5}}t2_{p_{2}p_{3}}^{h_{6}h_{7}}\n + 0.0625 * v_{h_{7}h_{5}}^{p_{2}p_{3}}t2_{p_{1}p_{0}}^{h_{4}h_{5}}t2_{p_{3}p_{2}}^{h_{6}h_{7}}\n + -0.03125 * v_{h_{5}h_{7}}^{p_{2}p_{3}}t2_{p_{2}p_{0}}^{h_{4}h_{5}}t2_{p_{1}p_{3}}^{h_{6}h_{7}}\n + 0.0625 * v_{h_{5}h_{7}}^{p_{2}p_{3}}t2_{p_{3}p_{0}}^{h_{4}h_{5}}t2_{p_{1}p_{2}}^{h_{6}h_{7}}\n + 0.0625 * v_{h_{7}h_{5}}^{p_{2}p_{3}}t2_{p_{2}p_{0}}^{h_{4}h_{5}}t2_{p_{1}p_{3}}^{h_{6}h_{7}}\n + -0.03125 * v_{h_{7}h_{5}}^{p_{2}p_{3}}t2_{p_{3}p_{0}}^{h_{4}h_{5}}t2_{p_{1}p_{2}}^{h_{6}h_{7}}\n + 0.0625 * v_{h_{5}h_{7}}^{p_{2}p_{3}}t2_{p_{2}p_{0}}^{h_{4}h_{5}}t2_{p_{3}p_{1}}^{h_{6}h_{7}}\n + -0.125 * v_{h_{5}h_{7}}^{p_{2}p_{3}}t2_{p_{3}p_{0}}^{h_{4}h_{5}}t2_{p_{2}p_{1}}^{h_{6}h_{7}}\n + -0.125 * v_{h_{7}h_{5}}^{p_{2}p_{3}}t2_{p_{2}p_{0}}^{h_{4}h_{5}}t2_{p_{3}p_{1}}^{h_{6}h_{7}}\n + 0.0625 * v_{h_{7}h_{5}}^{p_{2}p_{3}}t2_{p_{3}p_{0}}^{h_{4}h_{5}}t2_{p_{2}p_{1}}^{h_{6}h_{7}}\n + -0.03125 * v_{h_{5}h_{7}}^{p_{2}p_{3}}t2_{p_{1}p_{2}}^{h_{4}h_{5}}t2_{p_{0}p_{3}}^{h_{6}h_{7}}\n + 0.0625 * v_{h_{5}h_{7}}^{p_{2}p_{3}}t2_{p_{1}p_{3}}^{h_{4}h_{5}}t2_{p_{0}p_{2}}^{h_{6}h_{7}}\n + 0.0625 * v_{h_{7}h_{5}}^{p_{2}p_{3}}t2_{p_{1}p_{2}}^{h_{4}h_{5}}t2_{p_{0}p_{3}}^{h_{6}h_{7}}\n + -0.03125 * v_{h_{7}h_{5}}^{p_{2}p_{3}}t2_{p_{1}p_{3}}^{h_{4}h_{5}}t2_{p_{0}p_{2}}^{h_{6}h_{7}}\n + 0.0625 * v_{h_{5}h_{7}}^{p_{2}p_{3}}t2_{p_{2}p_{1}}^{h_{4}h_{5}}t2_{p_{0}p_{3}}^{h_{6}h_{7}}\n + -0.125 * v_{h_{5}h_{7}}^{p_{2}p_{3}}t2_{p_{3}p_{1}}^{h_{4}h_{5}}t2_{p_{0}p_{2}}^{h_{6}h_{7}}\n + -0.125 * v_{h_{7}h_{5}}^{p_{2}p_{3}}t2_{p_{2}p_{1}}^{h_{4}h_{5}}t2_{p_{0}p_{3}}^{h_{6}h_{7}}\n + 0.0625 * v_{h_{7}h_{5}}^{p_{2}p_{3}}t2_{p_{3}p_{1}}^{h_{4}h_{5}}t2_{p_{0}p_{2}}^{h_{6}h_{7}}\n + -0.03125 * v_{h_{5}h_{7}}^{p_{2}p_{3}}t2_{p_{2}p_{3}}^{h_{4}h_{5}}t2_{p_{0}p_{1}}^{h_{6}h_{7}}\n + 0.0625 * v_{h_{5}h_{7}}^{p_{2}p_{3}}t2_{p_{3}p_{2}}^{h_{4}h_{5}}t2_{p_{0}p_{1}}^{h_{6}h_{7}}\n + 0.0625 * v_{h_{7}h_{5}}^{p_{2}p_{3}}t2_{p_{2}p_{3}}^{h_{4}h_{5}}t2_{p_{0}p_{1}}^{h_{6}h_{7}}\n + -0.03125 * v_{h_{7}h_{5}}^{p_{2}p_{3}}t2_{p_{3}p_{2}}^{h_{4}h_{5}}t2_{p_{0}p_{1}}^{h_{6}h_{7}}\n + 0.0625 * v_{h_{5}h_{7}}^{p_{2}p_{3}}t2_{p_{1}p_{2}}^{h_{4}h_{5}}t2_{p_{3}p_{0}}^{h_{6}h_{7}}\n + -0.125 * v_{h_{5}h_{7}}^{p_{2}p_{3}}t2_{p_{1}p_{3}}^{h_{4}h_{5}}t2_{p_{2}p_{0}}^{h_{6}h_{7}}\n + -0.125 * v_{h_{7}h_{5}}^{p_{2}p_{3}}t2_{p_{1}p_{2}}^{h_{4}h_{5}}t2_{p_{3}p_{0}}^{h_{6}h_{7}}\n + 0.0625 * v_{h_{7}h_{5}}^{p_{2}p_{3}}t2_{p_{1}p_{3}}^{h_{4}h_{5}}t2_{p_{2}p_{0}}^{h_{6}h_{7}}\n + -0.125 * v_{h_{5}h_{7}}^{p_{2}p_{3}}t2_{p_{2}p_{1}}^{h_{4}h_{5}}t2_{p_{3}p_{0}}^{h_{6}h_{7}}\n + 0.25 * v_{h_{5}h_{7}}^{p_{2}p_{3}}t2_{p_{3}p_{1}}^{h_{4}h_{5}}t2_{p_{2}p_{0}}^{h_{6}h_{7}}\n + 0.25 * v_{h_{7}h_{5}}^{p_{2}p_{3}}t2_{p_{2}p_{1}}^{h_{4}h_{5}}t2_{p_{3}p_{0}}^{h_{6}h_{7}}\n + -0.125 * v_{h_{7}h_{5}}^{p_{2}p_{3}}t2_{p_{3}p_{1}}^{h_{4}h_{5}}t2_{p_{2}p_{0}}^{h_{6}h_{7}}\n + 0.0625 * v_{h_{5}h_{7}}^{p_{2}p_{3}}t2_{p_{2}p_{3}}^{h_{4}h_{5}}t2_{p_{1}p_{0}}^{h_{6}h_{7}}\n + -0.125 * v_{h_{5}h_{7}}^{p_{2}p_{3}}t2_{p_{3}p_{2}}^{h_{4}h_{5}}t2_{p_{1}p_{0}}^{h_{6}h_{7}}\n + -0.125 * v_{h_{7}h_{5}}^{p_{2}p_{3}}t2_{p_{2}p_{3}}^{h_{4}h_{5}}t2_{p_{1}p_{0}}^{h_{6}h_{7}}\n + 0.0625 * v_{h_{7}h_{5}}^{p_{2}p_{3}}t2_{p_{3}p_{2}}^{h_{4}h_{5}}t2_{p_{1}p_{0}}^{h_{6}h_{7}}\n + 0.0625 * v_{h_{5}h_{6}}^{p_{2}p_{3}}t2_{p_{0}p_{1}}^{h_{4}h_{5}}t2_{p_{2}p_{3}}^{h_{6}h_{7}}\n + -0.125 * v_{h_{5}h_{6}}^{p_{2}p_{3}}t2_{p_{0}p_{1}}^{h_{4}h_{5}}t2_{p_{3}p_{2}}^{h_{6}h_{7}}\n + -0.125 * v_{h_{6}h_{5}}^{p_{2}p_{3}}t2_{p_{0}p_{1}}^{h_{4}h_{5}}t2_{p_{2}p_{3}}^{h_{6}h_{7}}\n + 0.0625 * v_{h_{6}h_{5}}^{p_{2}p_{3}}t2_{p_{0}p_{1}}^{h_{4}h_{5}}t2_{p_{3}p_{2}}^{h_{6}h_{7}}\n + -0.03125 * v_{h_{5}h_{6}}^{p_{2}p_{3}}t2_{p_{0}p_{2}}^{h_{4}h_{5}}t2_{p_{1}p_{3}}^{h_{6}h_{7}}\n + 0.0625 * v_{h_{5}h_{6}}^{p_{2}p_{3}}t2_{p_{0}p_{3}}^{h_{4}h_{5}}t2_{p_{1}p_{2}}^{h_{6}h_{7}}\n + 0.0625 * v_{h_{6}h_{5}}^{p_{2}p_{3}}t2_{p_{0}p_{2}}^{h_{4}h_{5}}t2_{p_{1}p_{3}}^{h_{6}h_{7}}\n + -0.03125 * v_{h_{6}h_{5}}^{p_{2}p_{3}}t2_{p_{0}p_{3}}^{h_{4}h_{5}}t2_{p_{1}p_{2}}^{h_{6}h_{7}}\n + 0.0625 * v_{h_{5}h_{6}}^{p_{2}p_{3}}t2_{p_{0}p_{2}}^{h_{4}h_{5}}t2_{p_{3}p_{1}}^{h_{6}h_{7}}\n + -0.03125 * v_{h_{5}h_{6}}^{p_{2}p_{3}}t2_{p_{0}p_{3}}^{h_{4}h_{5}}t2_{p_{2}p_{1}}^{h_{6}h_{7}}\n + -0.03125 * v_{h_{6}h_{5}}^{p_{2}p_{3}}t2_{p_{0}p_{2}}^{h_{4}h_{5}}t2_{p_{3}p_{1}}^{h_{6}h_{7}}\n + 0.0625 * v_{h_{6}h_{5}}^{p_{2}p_{3}}t2_{p_{0}p_{3}}^{h_{4}h_{5}}t2_{p_{2}p_{1}}^{h_{6}h_{7}}\n + -0.03125 * v_{h_{5}h_{6}}^{p_{2}p_{3}}t2_{p_{1}p_{0}}^{h_{4}h_{5}}t2_{p_{2}p_{3}}^{h_{6}h_{7}}\n + 0.0625 * v_{h_{5}h_{6}}^{p_{2}p_{3}}t2_{p_{1}p_{0}}^{h_{4}h_{5}}t2_{p_{3}p_{2}}^{h_{6}h_{7}}\n + 0.0625 * v_{h_{6}h_{5}}^{p_{2}p_{3}}t2_{p_{1}p_{0}}^{h_{4}h_{5}}t2_{p_{2}p_{3}}^{h_{6}h_{7}}\n + -0.03125 * v_{h_{6}h_{5}}^{p_{2}p_{3}}t2_{p_{1}p_{0}}^{h_{4}h_{5}}t2_{p_{3}p_{2}}^{h_{6}h_{7}}\n + 0.0625 * v_{h_{5}h_{6}}^{p_{2}p_{3}}t2_{p_{2}p_{0}}^{h_{4}h_{5}}t2_{p_{1}p_{3}}^{h_{6}h_{7}}\n + -0.125 * v_{h_{5}h_{6}}^{p_{2}p_{3}}t2_{p_{3}p_{0}}^{h_{4}h_{5}}t2_{p_{1}p_{2}}^{h_{6}h_{7}}\n + -0.125 * v_{h_{6}h_{5}}^{p_{2}p_{3}}t2_{p_{2}p_{0}}^{h_{4}h_{5}}t2_{p_{1}p_{3}}^{h_{6}h_{7}}\n + 0.0625 * v_{h_{6}h_{5}}^{p_{2}p_{3}}t2_{p_{3}p_{0}}^{h_{4}h_{5}}t2_{p_{1}p_{2}}^{h_{6}h_{7}}\n + -0.03125 * v_{h_{5}h_{6}}^{p_{2}p_{3}}t2_{p_{2}p_{0}}^{h_{4}h_{5}}t2_{p_{3}p_{1}}^{h_{6}h_{7}}\n + 0.0625 * v_{h_{5}h_{6}}^{p_{2}p_{3}}t2_{p_{3}p_{0}}^{h_{4}h_{5}}t2_{p_{2}p_{1}}^{h_{6}h_{7}}\n + 0.0625 * v_{h_{6}h_{5}}^{p_{2}p_{3}}t2_{p_{2}p_{0}}^{h_{4}h_{5}}t2_{p_{3}p_{1}}^{h_{6}h_{7}}\n + -0.03125 * v_{h_{6}h_{5}}^{p_{2}p_{3}}t2_{p_{3}p_{0}}^{h_{4}h_{5}}t2_{p_{2}p_{1}}^{h_{6}h_{7}}\n + 0.0625 * v_{h_{5}h_{6}}^{p_{2}p_{3}}t2_{p_{1}p_{2}}^{h_{4}h_{5}}t2_{p_{0}p_{3}}^{h_{6}h_{7}}\n + -0.125 * v_{h_{5}h_{6}}^{p_{2}p_{3}}t2_{p_{1}p_{3}}^{h_{4}h_{5}}t2_{p_{0}p_{2}}^{h_{6}h_{7}}\n + -0.125 * v_{h_{6}h_{5}}^{p_{2}p_{3}}t2_{p_{1}p_{2}}^{h_{4}h_{5}}t2_{p_{0}p_{3}}^{h_{6}h_{7}}\n + 0.0625 * v_{h_{6}h_{5}}^{p_{2}p_{3}}t2_{p_{1}p_{3}}^{h_{4}h_{5}}t2_{p_{0}p_{2}}^{h_{6}h_{7}}\n + -0.125 * v_{h_{5}h_{6}}^{p_{2}p_{3}}t2_{p_{2}p_{1}}^{h_{4}h_{5}}t2_{p_{0}p_{3}}^{h_{6}h_{7}}\n + 0.25 * v_{h_{5}h_{6}}^{p_{2}p_{3}}t2_{p_{3}p_{1}}^{h_{4}h_{5}}t2_{p_{0}p_{2}}^{h_{6}h_{7}}\n + 0.25 * v_{h_{6}h_{5}}^{p_{2}p_{3}}t2_{p_{2}p_{1}}^{h_{4}h_{5}}t2_{p_{0}p_{3}}^{h_{6}h_{7}}\n + -0.125 * v_{h_{6}h_{5}}^{p_{2}p_{3}}t2_{p_{3}p_{1}}^{h_{4}h_{5}}t2_{p_{0}p_{2}}^{h_{6}h_{7}}\n + 0.0625 * v_{h_{5}h_{6}}^{p_{2}p_{3}}t2_{p_{2}p_{3}}^{h_{4}h_{5}}t2_{p_{0}p_{1}}^{h_{6}h_{7}}\n + -0.125 * v_{h_{5}h_{6}}^{p_{2}p_{3}}t2_{p_{3}p_{2}}^{h_{4}h_{5}}t2_{p_{0}p_{1}}^{h_{6}h_{7}}\n + -0.125 * v_{h_{6}h_{5}}^{p_{2}p_{3}}t2_{p_{2}p_{3}}^{h_{4}h_{5}}t2_{p_{0}p_{1}}^{h_{6}h_{7}}\n + 0.0625 * v_{h_{6}h_{5}}^{p_{2}p_{3}}t2_{p_{3}p_{2}}^{h_{4}h_{5}}t2_{p_{0}p_{1}}^{h_{6}h_{7}}\n + -0.03125 * v_{h_{5}h_{6}}^{p_{2}p_{3}}t2_{p_{1}p_{2}}^{h_{4}h_{5}}t2_{p_{3}p_{0}}^{h_{6}h_{7}}\n + 0.0625 * v_{h_{5}h_{6}}^{p_{2}p_{3}}t2_{p_{1}p_{3}}^{h_{4}h_{5}}t2_{p_{2}p_{0}}^{h_{6}h_{7}}\n + 0.0625 * v_{h_{6}h_{5}}^{p_{2}p_{3}}t2_{p_{1}p_{2}}^{h_{4}h_{5}}t2_{p_{3}p_{0}}^{h_{6}h_{7}}\n + -0.03125 * v_{h_{6}h_{5}}^{p_{2}p_{3}}t2_{p_{1}p_{3}}^{h_{4}h_{5}}t2_{p_{2}p_{0}}^{h_{6}h_{7}}\n + 0.0625 * v_{h_{5}h_{6}}^{p_{2}p_{3}}t2_{p_{2}p_{1}}^{h_{4}h_{5}}t2_{p_{3}p_{0}}^{h_{6}h_{7}}\n + -0.125 * v_{h_{5}h_{6}}^{p_{2}p_{3}}t2_{p_{3}p_{1}}^{h_{4}h_{5}}t2_{p_{2}p_{0}}^{h_{6}h_{7}}\n + -0.125 * v_{h_{6}h_{5}}^{p_{2}p_{3}}t2_{p_{2}p_{1}}^{h_{4}h_{5}}t2_{p_{3}p_{0}}^{h_{6}h_{7}}\n + 0.0625 * v_{h_{6}h_{5}}^{p_{2}p_{3}}t2_{p_{3}p_{1}}^{h_{4}h_{5}}t2_{p_{2}p_{0}}^{h_{6}h_{7}}\n + -0.03125 * v_{h_{5}h_{6}}^{p_{2}p_{3}}t2_{p_{2}p_{3}}^{h_{4}h_{5}}t2_{p_{1}p_{0}}^{h_{6}h_{7}}\n + 0.0625 * v_{h_{5}h_{6}}^{p_{2}p_{3}}t2_{p_{3}p_{2}}^{h_{4}h_{5}}t2_{p_{1}p_{0}}^{h_{6}h_{7}}\n + 0.0625 * v_{h_{6}h_{5}}^{p_{2}p_{3}}t2_{p_{2}p_{3}}^{h_{4}h_{5}}t2_{p_{1}p_{0}}^{h_{6}h_{7}}\n + -0.03125 * v_{h_{6}h_{5}}^{p_{2}p_{3}}t2_{p_{3}p_{2}}^{h_{4}h_{5}}t2_{p_{1}p_{0}}^{h_{6}h_{7}}\n + -0.125 * v_{h_{6}h_{7}}^{p_{2}p_{3}}t2_{p_{0}p_{1}}^{h_{4}h_{5}}t2_{p_{2}p_{3}}^{h_{6}h_{7}}\n + 0.0625 * v_{h_{6}h_{7}}^{p_{2}p_{3}}t2_{p_{0}p_{1}}^{h_{4}h_{5}}t2_{p_{3}p_{2}}^{h_{6}h_{7}}\n + 0.0625 * v_{h_{7}h_{6}}^{p_{2}p_{3}}t2_{p_{0}p_{1}}^{h_{4}h_{5}}t2_{p_{2}p_{3}}^{h_{6}h_{7}}\n + -0.125 * v_{h_{7}h_{6}}^{p_{2}p_{3}}t2_{p_{0}p_{1}}^{h_{4}h_{5}}t2_{p_{3}p_{2}}^{h_{6}h_{7}}\n + 0.0625 * v_{h_{6}h_{7}}^{p_{2}p_{3}}t2_{p_{0}p_{2}}^{h_{4}h_{5}}t2_{p_{1}p_{3}}^{h_{6}h_{7}}\n + -0.03125 * v_{h_{6}h_{7}}^{p_{2}p_{3}}t2_{p_{0}p_{3}}^{h_{4}h_{5}}t2_{p_{1}p_{2}}^{h_{6}h_{7}}\n + -0.03125 * v_{h_{7}h_{6}}^{p_{2}p_{3}}t2_{p_{0}p_{2}}^{h_{4}h_{5}}t2_{p_{1}p_{3}}^{h_{6}h_{7}}\n + 0.0625 * v_{h_{7}h_{6}}^{p_{2}p_{3}}t2_{p_{0}p_{3}}^{h_{4}h_{5}}t2_{p_{1}p_{2}}^{h_{6}h_{7}}\n + -0.03125 * v_{h_{6}h_{7}}^{p_{2}p_{3}}t2_{p_{0}p_{2}}^{h_{4}h_{5}}t2_{p_{3}p_{1}}^{h_{6}h_{7}}\n + 0.0625 * v_{h_{6}h_{7}}^{p_{2}p_{3}}t2_{p_{0}p_{3}}^{h_{4}h_{5}}t2_{p_{2}p_{1}}^{h_{6}h_{7}}\n + 0.0625 * v_{h_{7}h_{6}}^{p_{2}p_{3}}t2_{p_{0}p_{2}}^{h_{4}h_{5}}t2_{p_{3}p_{1}}^{h_{6}h_{7}}\n + -0.03125 * v_{h_{7}h_{6}}^{p_{2}p_{3}}t2_{p_{0}p_{3}}^{h_{4}h_{5}}t2_{p_{2}p_{1}}^{h_{6}h_{7}}\n + 0.25 * v_{h_{6}h_{7}}^{p_{2}p_{3}}t2_{p_{1}p_{0}}^{h_{4}h_{5}}t2_{p_{2}p_{3}}^{h_{6}h_{7}}\n + -0.125 * v_{h_{6}h_{7}}^{p_{2}p_{3}}t2_{p_{1}p_{0}}^{h_{4}h_{5}}t2_{p_{3}p_{2}}^{h_{6}h_{7}}\n + -0.125 * v_{h_{7}h_{6}}^{p_{2}p_{3}}t2_{p_{1}p_{0}}^{h_{4}h_{5}}t2_{p_{2}p_{3}}^{h_{6}h_{7}}\n + 0.25 * v_{h_{7}h_{6}}^{p_{2}p_{3}}t2_{p_{1}p_{0}}^{h_{4}h_{5}}t2_{p_{3}p_{2}}^{h_{6}h_{7}}\n + -0.125 * v_{h_{6}h_{7}}^{p_{2}p_{3}}t2_{p_{2}p_{0}}^{h_{4}h_{5}}t2_{p_{1}p_{3}}^{h_{6}h_{7}}\n + 0.0625 * v_{h_{6}h_{7}}^{p_{2}p_{3}}t2_{p_{3}p_{0}}^{h_{4}h_{5}}t2_{p_{1}p_{2}}^{h_{6}h_{7}}\n + 0.0625 * v_{h_{7}h_{6}}^{p_{2}p_{3}}t2_{p_{2}p_{0}}^{h_{4}h_{5}}t2_{p_{1}p_{3}}^{h_{6}h_{7}}\n + -0.125 * v_{h_{7}h_{6}}^{p_{2}p_{3}}t2_{p_{3}p_{0}}^{h_{4}h_{5}}t2_{p_{1}p_{2}}^{h_{6}h_{7}}\n + 0.0625 * v_{h_{6}h_{7}}^{p_{2}p_{3}}t2_{p_{2}p_{0}}^{h_{4}h_{5}}t2_{p_{3}p_{1}}^{h_{6}h_{7}}\n + -0.125 * v_{h_{6}h_{7}}^{p_{2}p_{3}}t2_{p_{3}p_{0}}^{h_{4}h_{5}}t2_{p_{2}p_{1}}^{h_{6}h_{7}}\n + -0.125 * v_{h_{7}h_{6}}^{p_{2}p_{3}}t2_{p_{2}p_{0}}^{h_{4}h_{5}}t2_{p_{3}p_{1}}^{h_{6}h_{7}}\n + 0.0625 * v_{h_{7}h_{6}}^{p_{2}p_{3}}t2_{p_{3}p_{0}}^{h_{4}h_{5}}t2_{p_{2}p_{1}}^{h_{6}h_{7}}\n + -0.125 * v_{h_{6}h_{7}}^{p_{2}p_{3}}t2_{p_{1}p_{2}}^{h_{4}h_{5}}t2_{p_{0}p_{3}}^{h_{6}h_{7}}\n + 0.0625 * v_{h_{6}h_{7}}^{p_{2}p_{3}}t2_{p_{1}p_{3}}^{h_{4}h_{5}}t2_{p_{0}p_{2}}^{h_{6}h_{7}}\n + 0.0625 * v_{h_{7}h_{6}}^{p_{2}p_{3}}t2_{p_{1}p_{2}}^{h_{4}h_{5}}t2_{p_{0}p_{3}}^{h_{6}h_{7}}\n + -0.125 * v_{h_{7}h_{6}}^{p_{2}p_{3}}t2_{p_{1}p_{3}}^{h_{4}h_{5}}t2_{p_{0}p_{2}}^{h_{6}h_{7}}\n + 0.0625 * v_{h_{6}h_{7}}^{p_{2}p_{3}}t2_{p_{2}p_{1}}^{h_{4}h_{5}}t2_{p_{0}p_{3}}^{h_{6}h_{7}}\n + -0.03125 * v_{h_{6}h_{7}}^{p_{2}p_{3}}t2_{p_{3}p_{1}}^{h_{4}h_{5}}t2_{p_{0}p_{2}}^{h_{6}h_{7}}\n + -0.03125 * v_{h_{7}h_{6}}^{p_{2}p_{3}}t2_{p_{2}p_{1}}^{h_{4}h_{5}}t2_{p_{0}p_{3}}^{h_{6}h_{7}}\n + 0.0625 * v_{h_{7}h_{6}}^{p_{2}p_{3}}t2_{p_{3}p_{1}}^{h_{4}h_{5}}t2_{p_{0}p_{2}}^{h_{6}h_{7}}\n + -0.03125 * v_{h_{6}h_{7}}^{p_{2}p_{3}}t2_{p_{2}p_{3}}^{h_{4}h_{5}}t2_{p_{0}p_{1}}^{h_{6}h_{7}}\n + 0.0625 * v_{h_{6}h_{7}}^{p_{2}p_{3}}t2_{p_{3}p_{2}}^{h_{4}h_{5}}t2_{p_{0}p_{1}}^{h_{6}h_{7}}\n + 0.0625 * v_{h_{7}h_{6}}^{p_{2}p_{3}}t2_{p_{2}p_{3}}^{h_{4}h_{5}}t2_{p_{0}p_{1}}^{h_{6}h_{7}}\n + -0.03125 * v_{h_{7}h_{6}}^{p_{2}p_{3}}t2_{p_{3}p_{2}}^{h_{4}h_{5}}t2_{p_{0}p_{1}}^{h_{6}h_{7}}\n + 0.0625 * v_{h_{6}h_{7}}^{p_{2}p_{3}}t2_{p_{1}p_{2}}^{h_{4}h_{5}}t2_{p_{3}p_{0}}^{h_{6}h_{7}}\n + -0.125 * v_{h_{6}h_{7}}^{p_{2}p_{3}}t2_{p_{1}p_{3}}^{h_{4}h_{5}}t2_{p_{2}p_{0}}^{h_{6}h_{7}}\n + -0.125 * v_{h_{7}h_{6}}^{p_{2}p_{3}}t2_{p_{1}p_{2}}^{h_{4}h_{5}}t2_{p_{3}p_{0}}^{h_{6}h_{7}}\n + 0.0625 * v_{h_{7}h_{6}}^{p_{2}p_{3}}t2_{p_{1}p_{3}}^{h_{4}h_{5}}t2_{p_{2}p_{0}}^{h_{6}h_{7}}\n + -0.03125 * v_{h_{6}h_{7}}^{p_{2}p_{3}}t2_{p_{2}p_{1}}^{h_{4}h_{5}}t2_{p_{3}p_{0}}^{h_{6}h_{7}}\n + 0.0625 * v_{h_{6}h_{7}}^{p_{2}p_{3}}t2_{p_{3}p_{1}}^{h_{4}h_{5}}t2_{p_{2}p_{0}}^{h_{6}h_{7}}\n + 0.0625 * v_{h_{7}h_{6}}^{p_{2}p_{3}}t2_{p_{2}p_{1}}^{h_{4}h_{5}}t2_{p_{3}p_{0}}^{h_{6}h_{7}}\n + -0.03125 * v_{h_{7}h_{6}}^{p_{2}p_{3}}t2_{p_{3}p_{1}}^{h_{4}h_{5}}t2_{p_{2}p_{0}}^{h_{6}h_{7}}\n + 0.0625 * v_{h_{6}h_{7}}^{p_{2}p_{3}}t2_{p_{2}p_{3}}^{h_{4}h_{5}}t2_{p_{1}p_{0}}^{h_{6}h_{7}}\n + -0.03125 * v_{h_{6}h_{7}}^{p_{2}p_{3}}t2_{p_{3}p_{2}}^{h_{4}h_{5}}t2_{p_{1}p_{0}}^{h_{6}h_{7}}\n + -0.03125 * v_{h_{7}h_{6}}^{p_{2}p_{3}}t2_{p_{2}p_{3}}^{h_{4}h_{5}}t2_{p_{1}p_{0}}^{h_{6}h_{7}}\n + 0.0625 * v_{h_{7}h_{6}}^{p_{2}p_{3}}t2_{p_{3}p_{2}}^{h_{4}h_{5}}t2_{p_{1}p_{0}}^{h_{6}h_{7}}\n + 0.0625 * v_{h_{4}h_{7}}^{p_{2}p_{3}}t2_{p_{0}p_{1}}^{h_{4}h_{5}}t2_{p_{2}p_{3}}^{h_{6}h_{7}}\n + -0.03125 * v_{h_{4}h_{7}}^{p_{2}p_{3}}t2_{p_{0}p_{1}}^{h_{4}h_{5}}t2_{p_{3}p_{2}}^{h_{6}h_{7}}\n + -0.03125 * v_{h_{7}h_{4}}^{p_{2}p_{3}}t2_{p_{0}p_{1}}^{h_{4}h_{5}}t2_{p_{2}p_{3}}^{h_{6}h_{7}}\n + 0.0625 * v_{h_{7}h_{4}}^{p_{2}p_{3}}t2_{p_{0}p_{1}}^{h_{4}h_{5}}t2_{p_{3}p_{2}}^{h_{6}h_{7}}\n + -0.03125 * v_{h_{4}h_{7}}^{p_{2}p_{3}}t2_{p_{0}p_{2}}^{h_{4}h_{5}}t2_{p_{1}p_{3}}^{h_{6}h_{7}}\n + 0.0625 * v_{h_{4}h_{7}}^{p_{2}p_{3}}t2_{p_{0}p_{3}}^{h_{4}h_{5}}t2_{p_{1}p_{2}}^{h_{6}h_{7}}\n + 0.0625 * v_{h_{7}h_{4}}^{p_{2}p_{3}}t2_{p_{0}p_{2}}^{h_{4}h_{5}}t2_{p_{1}p_{3}}^{h_{6}h_{7}}\n + -0.03125 * v_{h_{7}h_{4}}^{p_{2}p_{3}}t2_{p_{0}p_{3}}^{h_{4}h_{5}}t2_{p_{1}p_{2}}^{h_{6}h_{7}}\n + 0.0625 * v_{h_{4}h_{7}}^{p_{2}p_{3}}t2_{p_{0}p_{2}}^{h_{4}h_{5}}t2_{p_{3}p_{1}}^{h_{6}h_{7}}\n + -0.125 * v_{h_{4}h_{7}}^{p_{2}p_{3}}t2_{p_{0}p_{3}}^{h_{4}h_{5}}t2_{p_{2}p_{1}}^{h_{6}h_{7}}\n + -0.125 * v_{h_{7}h_{4}}^{p_{2}p_{3}}t2_{p_{0}p_{2}}^{h_{4}h_{5}}t2_{p_{3}p_{1}}^{h_{6}h_{7}}\n + 0.0625 * v_{h_{7}h_{4}}^{p_{2}p_{3}}t2_{p_{0}p_{3}}^{h_{4}h_{5}}t2_{p_{2}p_{1}}^{h_{6}h_{7}}\n + -0.125 * v_{h_{4}h_{7}}^{p_{2}p_{3}}t2_{p_{1}p_{0}}^{h_{4}h_{5}}t2_{p_{2}p_{3}}^{h_{6}h_{7}}\n + 0.0625 * v_{h_{4}h_{7}}^{p_{2}p_{3}}t2_{p_{1}p_{0}}^{h_{4}h_{5}}t2_{p_{3}p_{2}}^{h_{6}h_{7}}\n + 0.0625 * v_{h_{7}h_{4}}^{p_{2}p_{3}}t2_{p_{1}p_{0}}^{h_{4}h_{5}}t2_{p_{2}p_{3}}^{h_{6}h_{7}}\n + -0.125 * v_{h_{7}h_{4}}^{p_{2}p_{3}}t2_{p_{1}p_{0}}^{h_{4}h_{5}}t2_{p_{3}p_{2}}^{h_{6}h_{7}}\n + 0.0625 * v_{h_{4}h_{7}}^{p_{2}p_{3}}t2_{p_{2}p_{0}}^{h_{4}h_{5}}t2_{p_{1}p_{3}}^{h_{6}h_{7}}\n + -0.03125 * v_{h_{4}h_{7}}^{p_{2}p_{3}}t2_{p_{3}p_{0}}^{h_{4}h_{5}}t2_{p_{1}p_{2}}^{h_{6}h_{7}}\n + -0.03125 * v_{h_{7}h_{4}}^{p_{2}p_{3}}t2_{p_{2}p_{0}}^{h_{4}h_{5}}t2_{p_{1}p_{3}}^{h_{6}h_{7}}\n + 0.0625 * v_{h_{7}h_{4}}^{p_{2}p_{3}}t2_{p_{3}p_{0}}^{h_{4}h_{5}}t2_{p_{1}p_{2}}^{h_{6}h_{7}}\n + -0.03125 * v_{h_{4}h_{7}}^{p_{2}p_{3}}t2_{p_{2}p_{0}}^{h_{4}h_{5}}t2_{p_{3}p_{1}}^{h_{6}h_{7}}\n + 0.0625 * v_{h_{4}h_{7}}^{p_{2}p_{3}}t2_{p_{3}p_{0}}^{h_{4}h_{5}}t2_{p_{2}p_{1}}^{h_{6}h_{7}}\n + 0.0625 * v_{h_{7}h_{4}}^{p_{2}p_{3}}t2_{p_{2}p_{0}}^{h_{4}h_{5}}t2_{p_{3}p_{1}}^{h_{6}h_{7}}\n + -0.03125 * v_{h_{7}h_{4}}^{p_{2}p_{3}}t2_{p_{3}p_{0}}^{h_{4}h_{5}}t2_{p_{2}p_{1}}^{h_{6}h_{7}}\n + 0.0625 * v_{h_{4}h_{7}}^{p_{2}p_{3}}t2_{p_{1}p_{2}}^{h_{4}h_{5}}t2_{p_{0}p_{3}}^{h_{6}h_{7}}\n + -0.125 * v_{h_{4}h_{7}}^{p_{2}p_{3}}t2_{p_{1}p_{3}}^{h_{4}h_{5}}t2_{p_{0}p_{2}}^{h_{6}h_{7}}\n + -0.125 * v_{h_{7}h_{4}}^{p_{2}p_{3}}t2_{p_{1}p_{2}}^{h_{4}h_{5}}t2_{p_{0}p_{3}}^{h_{6}h_{7}}\n + 0.0625 * v_{h_{7}h_{4}}^{p_{2}p_{3}}t2_{p_{1}p_{3}}^{h_{4}h_{5}}t2_{p_{0}p_{2}}^{h_{6}h_{7}}\n + -0.03125 * v_{h_{4}h_{7}}^{p_{2}p_{3}}t2_{p_{2}p_{1}}^{h_{4}h_{5}}t2_{p_{0}p_{3}}^{h_{6}h_{7}}\n + 0.0625 * v_{h_{4}h_{7}}^{p_{2}p_{3}}t2_{p_{3}p_{1}}^{h_{4}h_{5}}t2_{p_{0}p_{2}}^{h_{6}h_{7}}\n + 0.0625 * v_{h_{7}h_{4}}^{p_{2}p_{3}}t2_{p_{2}p_{1}}^{h_{4}h_{5}}t2_{p_{0}p_{3}}^{h_{6}h_{7}}\n + -0.03125 * v_{h_{7}h_{4}}^{p_{2}p_{3}}t2_{p_{3}p_{1}}^{h_{4}h_{5}}t2_{p_{0}p_{2}}^{h_{6}h_{7}}\n + 0.0625 * v_{h_{4}h_{7}}^{p_{2}p_{3}}t2_{p_{2}p_{3}}^{h_{4}h_{5}}t2_{p_{0}p_{1}}^{h_{6}h_{7}}\n + -0.03125 * v_{h_{4}h_{7}}^{p_{2}p_{3}}t2_{p_{3}p_{2}}^{h_{4}h_{5}}t2_{p_{0}p_{1}}^{h_{6}h_{7}}\n + -0.03125 * v_{h_{7}h_{4}}^{p_{2}p_{3}}t2_{p_{2}p_{3}}^{h_{4}h_{5}}t2_{p_{0}p_{1}}^{h_{6}h_{7}}\n + 0.0625 * v_{h_{7}h_{4}}^{p_{2}p_{3}}t2_{p_{3}p_{2}}^{h_{4}h_{5}}t2_{p_{0}p_{1}}^{h_{6}h_{7}}\n + -0.125 * v_{h_{4}h_{7}}^{p_{2}p_{3}}t2_{p_{1}p_{2}}^{h_{4}h_{5}}t2_{p_{3}p_{0}}^{h_{6}h_{7}}\n + 0.25 * v_{h_{4}h_{7}}^{p_{2}p_{3}}t2_{p_{1}p_{3}}^{h_{4}h_{5}}t2_{p_{2}p_{0}}^{h_{6}h_{7}}\n + 0.25 * v_{h_{7}h_{4}}^{p_{2}p_{3}}t2_{p_{1}p_{2}}^{h_{4}h_{5}}t2_{p_{3}p_{0}}^{h_{6}h_{7}}\n + -0.125 * v_{h_{7}h_{4}}^{p_{2}p_{3}}t2_{p_{1}p_{3}}^{h_{4}h_{5}}t2_{p_{2}p_{0}}^{h_{6}h_{7}}\n + 0.0625 * v_{h_{4}h_{7}}^{p_{2}p_{3}}t2_{p_{2}p_{1}}^{h_{4}h_{5}}t2_{p_{3}p_{0}}^{h_{6}h_{7}}\n + -0.125 * v_{h_{4}h_{7}}^{p_{2}p_{3}}t2_{p_{3}p_{1}}^{h_{4}h_{5}}t2_{p_{2}p_{0}}^{h_{6}h_{7}}\n + -0.125 * v_{h_{7}h_{4}}^{p_{2}p_{3}}t2_{p_{2}p_{1}}^{h_{4}h_{5}}t2_{p_{3}p_{0}}^{h_{6}h_{7}}\n + 0.0625 * v_{h_{7}h_{4}}^{p_{2}p_{3}}t2_{p_{3}p_{1}}^{h_{4}h_{5}}t2_{p_{2}p_{0}}^{h_{6}h_{7}}\n + -0.125 * v_{h_{4}h_{7}}^{p_{2}p_{3}}t2_{p_{2}p_{3}}^{h_{4}h_{5}}t2_{p_{1}p_{0}}^{h_{6}h_{7}}\n + 0.0625 * v_{h_{4}h_{7}}^{p_{2}p_{3}}t2_{p_{3}p_{2}}^{h_{4}h_{5}}t2_{p_{1}p_{0}}^{h_{6}h_{7}}\n + 0.0625 * v_{h_{7}h_{4}}^{p_{2}p_{3}}t2_{p_{2}p_{3}}^{h_{4}h_{5}}t2_{p_{1}p_{0}}^{h_{6}h_{7}}\n + -0.125 * v_{h_{7}h_{4}}^{p_{2}p_{3}}t2_{p_{3}p_{2}}^{h_{4}h_{5}}t2_{p_{1}p_{0}}^{h_{6}h_{7}}\n + -0.03125 * v_{h_{4}h_{6}}^{p_{2}p_{3}}t2_{p_{0}p_{1}}^{h_{4}h_{5}}t2_{p_{2}p_{3}}^{h_{6}h_{7}}\n + 0.0625 * v_{h_{4}h_{6}}^{p_{2}p_{3}}t2_{p_{0}p_{1}}^{h_{4}h_{5}}t2_{p_{3}p_{2}}^{h_{6}h_{7}}\n + 0.0625 * v_{h_{6}h_{4}}^{p_{2}p_{3}}t2_{p_{0}p_{1}}^{h_{4}h_{5}}t2_{p_{2}p_{3}}^{h_{6}h_{7}}\n + -0.03125 * v_{h_{6}h_{4}}^{p_{2}p_{3}}t2_{p_{0}p_{1}}^{h_{4}h_{5}}t2_{p_{3}p_{2}}^{h_{6}h_{7}}\n + 0.0625 * v_{h_{4}h_{6}}^{p_{2}p_{3}}t2_{p_{0}p_{2}}^{h_{4}h_{5}}t2_{p_{1}p_{3}}^{h_{6}h_{7}}\n + -0.125 * v_{h_{4}h_{6}}^{p_{2}p_{3}}t2_{p_{0}p_{3}}^{h_{4}h_{5}}t2_{p_{1}p_{2}}^{h_{6}h_{7}}\n + -0.125 * v_{h_{6}h_{4}}^{p_{2}p_{3}}t2_{p_{0}p_{2}}^{h_{4}h_{5}}t2_{p_{1}p_{3}}^{h_{6}h_{7}}\n + 0.0625 * v_{h_{6}h_{4}}^{p_{2}p_{3}}t2_{p_{0}p_{3}}^{h_{4}h_{5}}t2_{p_{1}p_{2}}^{h_{6}h_{7}}\n + -0.03125 * v_{h_{4}h_{6}}^{p_{2}p_{3}}t2_{p_{0}p_{2}}^{h_{4}h_{5}}t2_{p_{3}p_{1}}^{h_{6}h_{7}}\n + 0.0625 * v_{h_{4}h_{6}}^{p_{2}p_{3}}t2_{p_{0}p_{3}}^{h_{4}h_{5}}t2_{p_{2}p_{1}}^{h_{6}h_{7}}\n + 0.0625 * v_{h_{6}h_{4}}^{p_{2}p_{3}}t2_{p_{0}p_{2}}^{h_{4}h_{5}}t2_{p_{3}p_{1}}^{h_{6}h_{7}}\n + -0.03125 * v_{h_{6}h_{4}}^{p_{2}p_{3}}t2_{p_{0}p_{3}}^{h_{4}h_{5}}t2_{p_{2}p_{1}}^{h_{6}h_{7}}\n + 0.0625 * v_{h_{4}h_{6}}^{p_{2}p_{3}}t2_{p_{1}p_{0}}^{h_{4}h_{5}}t2_{p_{2}p_{3}}^{h_{6}h_{7}}\n + -0.125 * v_{h_{4}h_{6}}^{p_{2}p_{3}}t2_{p_{1}p_{0}}^{h_{4}h_{5}}t2_{p_{3}p_{2}}^{h_{6}h_{7}}\n + -0.125 * v_{h_{6}h_{4}}^{p_{2}p_{3}}t2_{p_{1}p_{0}}^{h_{4}h_{5}}t2_{p_{2}p_{3}}^{h_{6}h_{7}}\n + 0.0625 * v_{h_{6}h_{4}}^{p_{2}p_{3}}t2_{p_{1}p_{0}}^{h_{4}h_{5}}t2_{p_{3}p_{2}}^{h_{6}h_{7}}\n + -0.03125 * v_{h_{4}h_{6}}^{p_{2}p_{3}}t2_{p_{2}p_{0}}^{h_{4}h_{5}}t2_{p_{1}p_{3}}^{h_{6}h_{7}}\n + 0.0625 * v_{h_{4}h_{6}}^{p_{2}p_{3}}t2_{p_{3}p_{0}}^{h_{4}h_{5}}t2_{p_{1}p_{2}}^{h_{6}h_{7}}\n + 0.0625 * v_{h_{6}h_{4}}^{p_{2}p_{3}}t2_{p_{2}p_{0}}^{h_{4}h_{5}}t2_{p_{1}p_{3}}^{h_{6}h_{7}}\n + -0.03125 * v_{h_{6}h_{4}}^{p_{2}p_{3}}t2_{p_{3}p_{0}}^{h_{4}h_{5}}t2_{p_{1}p_{2}}^{h_{6}h_{7}}\n + 0.0625 * v_{h_{4}h_{6}}^{p_{2}p_{3}}t2_{p_{2}p_{0}}^{h_{4}h_{5}}t2_{p_{3}p_{1}}^{h_{6}h_{7}}\n + -0.03125 * v_{h_{4}h_{6}}^{p_{2}p_{3}}t2_{p_{3}p_{0}}^{h_{4}h_{5}}t2_{p_{2}p_{1}}^{h_{6}h_{7}}\n + -0.03125 * v_{h_{6}h_{4}}^{p_{2}p_{3}}t2_{p_{2}p_{0}}^{h_{4}h_{5}}t2_{p_{3}p_{1}}^{h_{6}h_{7}}\n + 0.0625 * v_{h_{6}h_{4}}^{p_{2}p_{3}}t2_{p_{3}p_{0}}^{h_{4}h_{5}}t2_{p_{2}p_{1}}^{h_{6}h_{7}}\n + -0.125 * v_{h_{4}h_{6}}^{p_{2}p_{3}}t2_{p_{1}p_{2}}^{h_{4}h_{5}}t2_{p_{0}p_{3}}^{h_{6}h_{7}}\n + 0.25 * v_{h_{4}h_{6}}^{p_{2}p_{3}}t2_{p_{1}p_{3}}^{h_{4}h_{5}}t2_{p_{0}p_{2}}^{h_{6}h_{7}}\n + 0.25 * v_{h_{6}h_{4}}^{p_{2}p_{3}}t2_{p_{1}p_{2}}^{h_{4}h_{5}}t2_{p_{0}p_{3}}^{h_{6}h_{7}}\n + -0.125 * v_{h_{6}h_{4}}^{p_{2}p_{3}}t2_{p_{1}p_{3}}^{h_{4}h_{5}}t2_{p_{0}p_{2}}^{h_{6}h_{7}}\n + 0.0625 * v_{h_{4}h_{6}}^{p_{2}p_{3}}t2_{p_{2}p_{1}}^{h_{4}h_{5}}t2_{p_{0}p_{3}}^{h_{6}h_{7}}\n + -0.125 * v_{h_{4}h_{6}}^{p_{2}p_{3}}t2_{p_{3}p_{1}}^{h_{4}h_{5}}t2_{p_{0}p_{2}}^{h_{6}h_{7}}\n + -0.125 * v_{h_{6}h_{4}}^{p_{2}p_{3}}t2_{p_{2}p_{1}}^{h_{4}h_{5}}t2_{p_{0}p_{3}}^{h_{6}h_{7}}\n + 0.0625 * v_{h_{6}h_{4}}^{p_{2}p_{3}}t2_{p_{3}p_{1}}^{h_{4}h_{5}}t2_{p_{0}p_{2}}^{h_{6}h_{7}}\n + -0.125 * v_{h_{4}h_{6}}^{p_{2}p_{3}}t2_{p_{2}p_{3}}^{h_{4}h_{5}}t2_{p_{0}p_{1}}^{h_{6}h_{7}}\n + 0.0625 * v_{h_{4}h_{6}}^{p_{2}p_{3}}t2_{p_{3}p_{2}}^{h_{4}h_{5}}t2_{p_{0}p_{1}}^{h_{6}h_{7}}\n + 0.0625 * v_{h_{6}h_{4}}^{p_{2}p_{3}}t2_{p_{2}p_{3}}^{h_{4}h_{5}}t2_{p_{0}p_{1}}^{h_{6}h_{7}}\n + -0.125 * v_{h_{6}h_{4}}^{p_{2}p_{3}}t2_{p_{3}p_{2}}^{h_{4}h_{5}}t2_{p_{0}p_{1}}^{h_{6}h_{7}}\n + 0.0625 * v_{h_{4}h_{6}}^{p_{2}p_{3}}t2_{p_{1}p_{2}}^{h_{4}h_{5}}t2_{p_{3}p_{0}}^{h_{6}h_{7}}\n + -0.125 * v_{h_{4}h_{6}}^{p_{2}p_{3}}t2_{p_{1}p_{3}}^{h_{4}h_{5}}t2_{p_{2}p_{0}}^{h_{6}h_{7}}\n + -0.125 * v_{h_{6}h_{4}}^{p_{2}p_{3}}t2_{p_{1}p_{2}}^{h_{4}h_{5}}t2_{p_{3}p_{0}}^{h_{6}h_{7}}\n + 0.0625 * v_{h_{6}h_{4}}^{p_{2}p_{3}}t2_{p_{1}p_{3}}^{h_{4}h_{5}}t2_{p_{2}p_{0}}^{h_{6}h_{7}}\n + -0.03125 * v_{h_{4}h_{6}}^{p_{2}p_{3}}t2_{p_{2}p_{1}}^{h_{4}h_{5}}t2_{p_{3}p_{0}}^{h_{6}h_{7}}\n + 0.0625 * v_{h_{4}h_{6}}^{p_{2}p_{3}}t2_{p_{3}p_{1}}^{h_{4}h_{5}}t2_{p_{2}p_{0}}^{h_{6}h_{7}}\n + 0.0625 * v_{h_{6}h_{4}}^{p_{2}p_{3}}t2_{p_{2}p_{1}}^{h_{4}h_{5}}t2_{p_{3}p_{0}}^{h_{6}h_{7}}\n + -0.03125 * v_{h_{6}h_{4}}^{p_{2}p_{3}}t2_{p_{3}p_{1}}^{h_{4}h_{5}}t2_{p_{2}p_{0}}^{h_{6}h_{7}}\n + 0.0625 * v_{h_{4}h_{6}}^{p_{2}p_{3}}t2_{p_{2}p_{3}}^{h_{4}h_{5}}t2_{p_{1}p_{0}}^{h_{6}h_{7}}\n + -0.03125 * v_{h_{4}h_{6}}^{p_{2}p_{3}}t2_{p_{3}p_{2}}^{h_{4}h_{5}}t2_{p_{1}p_{0}}^{h_{6}h_{7}}\n + -0.03125 * v_{h_{6}h_{4}}^{p_{2}p_{3}}t2_{p_{2}p_{3}}^{h_{4}h_{5}}t2_{p_{1}p_{0}}^{h_{6}h_{7}}\n + 0.0625 * v_{h_{6}h_{4}}^{p_{2}p_{3}}t2_{p_{3}p_{2}}^{h_{4}h_{5}}t2_{p_{1}p_{0}}^{h_{6}h_{7}}\n + 0.0625 * v_{h_{5}h_{7}}^{p_{2}p_{3}}t2_{p_{0}p_{1}}^{h_{4}h_{5}}t2_{p_{2}p_{3}}^{h_{6}h_{7}}\n + -0.03125 * v_{h_{5}h_{7}}^{p_{2}p_{3}}t2_{p_{0}p_{1}}^{h_{4}h_{5}}t2_{p_{3}p_{2}}^{h_{6}h_{7}}\n + -0.03125 * v_{h_{7}h_{5}}^{p_{2}p_{3}}t2_{p_{0}p_{1}}^{h_{4}h_{5}}t2_{p_{2}p_{3}}^{h_{6}h_{7}}\n + 0.0625 * v_{h_{7}h_{5}}^{p_{2}p_{3}}t2_{p_{0}p_{1}}^{h_{4}h_{5}}t2_{p_{3}p_{2}}^{h_{6}h_{7}}\n + -0.03125 * v_{h_{5}h_{7}}^{p_{2}p_{3}}t2_{p_{0}p_{2}}^{h_{4}h_{5}}t2_{p_{1}p_{3}}^{h_{6}h_{7}}\n + 0.0625 * v_{h_{5}h_{7}}^{p_{2}p_{3}}t2_{p_{0}p_{3}}^{h_{4}h_{5}}t2_{p_{1}p_{2}}^{h_{6}h_{7}}\n + 0.0625 * v_{h_{7}h_{5}}^{p_{2}p_{3}}t2_{p_{0}p_{2}}^{h_{4}h_{5}}t2_{p_{1}p_{3}}^{h_{6}h_{7}}\n + -0.03125 * v_{h_{7}h_{5}}^{p_{2}p_{3}}t2_{p_{0}p_{3}}^{h_{4}h_{5}}t2_{p_{1}p_{2}}^{h_{6}h_{7}}\n + 0.0625 * v_{h_{5}h_{7}}^{p_{2}p_{3}}t2_{p_{0}p_{2}}^{h_{4}h_{5}}t2_{p_{3}p_{1}}^{h_{6}h_{7}}\n + -0.125 * v_{h_{5}h_{7}}^{p_{2}p_{3}}t2_{p_{0}p_{3}}^{h_{4}h_{5}}t2_{p_{2}p_{1}}^{h_{6}h_{7}}\n + -0.125 * v_{h_{7}h_{5}}^{p_{2}p_{3}}t2_{p_{0}p_{2}}^{h_{4}h_{5}}t2_{p_{3}p_{1}}^{h_{6}h_{7}}\n + 0.0625 * v_{h_{7}h_{5}}^{p_{2}p_{3}}t2_{p_{0}p_{3}}^{h_{4}h_{5}}t2_{p_{2}p_{1}}^{h_{6}h_{7}}\n + -0.125 * v_{h_{5}h_{7}}^{p_{2}p_{3}}t2_{p_{1}p_{0}}^{h_{4}h_{5}}t2_{p_{2}p_{3}}^{h_{6}h_{7}}\n + 0.0625 * v_{h_{5}h_{7}}^{p_{2}p_{3}}t2_{p_{1}p_{0}}^{h_{4}h_{5}}t2_{p_{3}p_{2}}^{h_{6}h_{7}}\n + 0.0625 * v_{h_{7}h_{5}}^{p_{2}p_{3}}t2_{p_{1}p_{0}}^{h_{4}h_{5}}t2_{p_{2}p_{3}}^{h_{6}h_{7}}\n + -0.125 * v_{h_{7}h_{5}}^{p_{2}p_{3}}t2_{p_{1}p_{0}}^{h_{4}h_{5}}t2_{p_{3}p_{2}}^{h_{6}h_{7}}\n + 0.0625 * v_{h_{5}h_{7}}^{p_{2}p_{3}}t2_{p_{2}p_{0}}^{h_{4}h_{5}}t2_{p_{1}p_{3}}^{h_{6}h_{7}}\n + -0.125 * v_{h_{5}h_{7}}^{p_{2}p_{3}}t2_{p_{3}p_{0}}^{h_{4}h_{5}}t2_{p_{1}p_{2}}^{h_{6}h_{7}}\n + -0.125 * v_{h_{7}h_{5}}^{p_{2}p_{3}}t2_{p_{2}p_{0}}^{h_{4}h_{5}}t2_{p_{1}p_{3}}^{h_{6}h_{7}}\n + 0.0625 * v_{h_{7}h_{5}}^{p_{2}p_{3}}t2_{p_{3}p_{0}}^{h_{4}h_{5}}t2_{p_{1}p_{2}}^{h_{6}h_{7}}\n + -0.125 * v_{h_{5}h_{7}}^{p_{2}p_{3}}t2_{p_{2}p_{0}}^{h_{4}h_{5}}t2_{p_{3}p_{1}}^{h_{6}h_{7}}\n + 0.25 * v_{h_{5}h_{7}}^{p_{2}p_{3}}t2_{p_{3}p_{0}}^{h_{4}h_{5}}t2_{p_{2}p_{1}}^{h_{6}h_{7}}\n + 0.25 * v_{h_{7}h_{5}}^{p_{2}p_{3}}t2_{p_{2}p_{0}}^{h_{4}h_{5}}t2_{p_{3}p_{1}}^{h_{6}h_{7}}\n + -0.125 * v_{h_{7}h_{5}}^{p_{2}p_{3}}t2_{p_{3}p_{0}}^{h_{4}h_{5}}t2_{p_{2}p_{1}}^{h_{6}h_{7}}\n + 0.0625 * v_{h_{5}h_{7}}^{p_{2}p_{3}}t2_{p_{1}p_{2}}^{h_{4}h_{5}}t2_{p_{0}p_{3}}^{h_{6}h_{7}}\n + -0.03125 * v_{h_{5}h_{7}}^{p_{2}p_{3}}t2_{p_{1}p_{3}}^{h_{4}h_{5}}t2_{p_{0}p_{2}}^{h_{6}h_{7}}\n + -0.03125 * v_{h_{7}h_{5}}^{p_{2}p_{3}}t2_{p_{1}p_{2}}^{h_{4}h_{5}}t2_{p_{0}p_{3}}^{h_{6}h_{7}}\n + 0.0625 * v_{h_{7}h_{5}}^{p_{2}p_{3}}t2_{p_{1}p_{3}}^{h_{4}h_{5}}t2_{p_{0}p_{2}}^{h_{6}h_{7}}\n + -0.03125 * v_{h_{5}h_{7}}^{p_{2}p_{3}}t2_{p_{2}p_{1}}^{h_{4}h_{5}}t2_{p_{0}p_{3}}^{h_{6}h_{7}}\n + 0.0625 * v_{h_{5}h_{7}}^{p_{2}p_{3}}t2_{p_{3}p_{1}}^{h_{4}h_{5}}t2_{p_{0}p_{2}}^{h_{6}h_{7}}\n + 0.0625 * v_{h_{7}h_{5}}^{p_{2}p_{3}}t2_{p_{2}p_{1}}^{h_{4}h_{5}}t2_{p_{0}p_{3}}^{h_{6}h_{7}}\n + -0.03125 * v_{h_{7}h_{5}}^{p_{2}p_{3}}t2_{p_{3}p_{1}}^{h_{4}h_{5}}t2_{p_{0}p_{2}}^{h_{6}h_{7}}\n + 0.0625 * v_{h_{5}h_{7}}^{p_{2}p_{3}}t2_{p_{2}p_{3}}^{h_{4}h_{5}}t2_{p_{0}p_{1}}^{h_{6}h_{7}}\n + -0.125 * v_{h_{5}h_{7}}^{p_{2}p_{3}}t2_{p_{3}p_{2}}^{h_{4}h_{5}}t2_{p_{0}p_{1}}^{h_{6}h_{7}}\n + -0.125 * v_{h_{7}h_{5}}^{p_{2}p_{3}}t2_{p_{2}p_{3}}^{h_{4}h_{5}}t2_{p_{0}p_{1}}^{h_{6}h_{7}}\n + 0.0625 * v_{h_{7}h_{5}}^{p_{2}p_{3}}t2_{p_{3}p_{2}}^{h_{4}h_{5}}t2_{p_{0}p_{1}}^{h_{6}h_{7}}\n + -0.03125 * v_{h_{5}h_{7}}^{p_{2}p_{3}}t2_{p_{1}p_{2}}^{h_{4}h_{5}}t2_{p_{3}p_{0}}^{h_{6}h_{7}}\n + 0.0625 * v_{h_{5}h_{7}}^{p_{2}p_{3}}t2_{p_{1}p_{3}}^{h_{4}h_{5}}t2_{p_{2}p_{0}}^{h_{6}h_{7}}\n + 0.0625 * v_{h_{7}h_{5}}^{p_{2}p_{3}}t2_{p_{1}p_{2}}^{h_{4}h_{5}}t2_{p_{3}p_{0}}^{h_{6}h_{7}}\n + -0.03125 * v_{h_{7}h_{5}}^{p_{2}p_{3}}t2_{p_{1}p_{3}}^{h_{4}h_{5}}t2_{p_{2}p_{0}}^{h_{6}h_{7}}\n + 0.0625 * v_{h_{5}h_{7}}^{p_{2}p_{3}}t2_{p_{2}p_{1}}^{h_{4}h_{5}}t2_{p_{3}p_{0}}^{h_{6}h_{7}}\n + -0.125 * v_{h_{5}h_{7}}^{p_{2}p_{3}}t2_{p_{3}p_{1}}^{h_{4}h_{5}}t2_{p_{2}p_{0}}^{h_{6}h_{7}}\n + -0.125 * v_{h_{7}h_{5}}^{p_{2}p_{3}}t2_{p_{2}p_{1}}^{h_{4}h_{5}}t2_{p_{3}p_{0}}^{h_{6}h_{7}}\n + 0.0625 * v_{h_{7}h_{5}}^{p_{2}p_{3}}t2_{p_{3}p_{1}}^{h_{4}h_{5}}t2_{p_{2}p_{0}}^{h_{6}h_{7}}\n + -0.03125 * v_{h_{5}h_{7}}^{p_{2}p_{3}}t2_{p_{2}p_{3}}^{h_{4}h_{5}}t2_{p_{1}p_{0}}^{h_{6}h_{7}}\n + 0.0625 * v_{h_{5}h_{7}}^{p_{2}p_{3}}t2_{p_{3}p_{2}}^{h_{4}h_{5}}t2_{p_{1}p_{0}}^{h_{6}h_{7}}\n + 0.0625 * v_{h_{7}h_{5}}^{p_{2}p_{3}}t2_{p_{2}p_{3}}^{h_{4}h_{5}}t2_{p_{1}p_{0}}^{h_{6}h_{7}}\n + -0.03125 * v_{h_{7}h_{5}}^{p_{2}p_{3}}t2_{p_{3}p_{2}}^{h_{4}h_{5}}t2_{p_{1}p_{0}}^{h_{6}h_{7}}\n + -0.125 * v_{h_{4}h_{7}}^{p_{2}p_{3}}t2_{p_{0}p_{1}}^{h_{4}h_{5}}t2_{p_{2}p_{3}}^{h_{6}h_{7}}\n + 0.0625 * v_{h_{4}h_{7}}^{p_{2}p_{3}}t2_{p_{0}p_{1}}^{h_{4}h_{5}}t2_{p_{3}p_{2}}^{h_{6}h_{7}}\n + 0.0625 * v_{h_{7}h_{4}}^{p_{2}p_{3}}t2_{p_{0}p_{1}}^{h_{4}h_{5}}t2_{p_{2}p_{3}}^{h_{6}h_{7}}\n + -0.125 * v_{h_{7}h_{4}}^{p_{2}p_{3}}t2_{p_{0}p_{1}}^{h_{4}h_{5}}t2_{p_{3}p_{2}}^{h_{6}h_{7}}\n + 0.0625 * v_{h_{4}h_{7}}^{p_{2}p_{3}}t2_{p_{0}p_{2}}^{h_{4}h_{5}}t2_{p_{1}p_{3}}^{h_{6}h_{7}}\n + -0.125 * v_{h_{4}h_{7}}^{p_{2}p_{3}}t2_{p_{0}p_{3}}^{h_{4}h_{5}}t2_{p_{1}p_{2}}^{h_{6}h_{7}}\n + -0.125 * v_{h_{7}h_{4}}^{p_{2}p_{3}}t2_{p_{0}p_{2}}^{h_{4}h_{5}}t2_{p_{1}p_{3}}^{h_{6}h_{7}}\n + 0.0625 * v_{h_{7}h_{4}}^{p_{2}p_{3}}t2_{p_{0}p_{3}}^{h_{4}h_{5}}t2_{p_{1}p_{2}}^{h_{6}h_{7}}\n + -0.125 * v_{h_{4}h_{7}}^{p_{2}p_{3}}t2_{p_{0}p_{2}}^{h_{4}h_{5}}t2_{p_{3}p_{1}}^{h_{6}h_{7}}\n + 0.25 * v_{h_{4}h_{7}}^{p_{2}p_{3}}t2_{p_{0}p_{3}}^{h_{4}h_{5}}t2_{p_{2}p_{1}}^{h_{6}h_{7}}\n + 0.25 * v_{h_{7}h_{4}}^{p_{2}p_{3}}t2_{p_{0}p_{2}}^{h_{4}h_{5}}t2_{p_{3}p_{1}}^{h_{6}h_{7}}\n + -0.125 * v_{h_{7}h_{4}}^{p_{2}p_{3}}t2_{p_{0}p_{3}}^{h_{4}h_{5}}t2_{p_{2}p_{1}}^{h_{6}h_{7}}\n + 0.0625 * v_{h_{4}h_{7}}^{p_{2}p_{3}}t2_{p_{1}p_{0}}^{h_{4}h_{5}}t2_{p_{2}p_{3}}^{h_{6}h_{7}}\n + -0.03125 * v_{h_{4}h_{7}}^{p_{2}p_{3}}t2_{p_{1}p_{0}}^{h_{4}h_{5}}t2_{p_{3}p_{2}}^{h_{6}h_{7}}\n + -0.03125 * v_{h_{7}h_{4}}^{p_{2}p_{3}}t2_{p_{1}p_{0}}^{h_{4}h_{5}}t2_{p_{2}p_{3}}^{h_{6}h_{7}}\n + 0.0625 * v_{h_{7}h_{4}}^{p_{2}p_{3}}t2_{p_{1}p_{0}}^{h_{4}h_{5}}t2_{p_{3}p_{2}}^{h_{6}h_{7}}\n + -0.03125 * v_{h_{4}h_{7}}^{p_{2}p_{3}}t2_{p_{2}p_{0}}^{h_{4}h_{5}}t2_{p_{1}p_{3}}^{h_{6}h_{7}}\n + 0.0625 * v_{h_{4}h_{7}}^{p_{2}p_{3}}t2_{p_{3}p_{0}}^{h_{4}h_{5}}t2_{p_{1}p_{2}}^{h_{6}h_{7}}\n + 0.0625 * v_{h_{7}h_{4}}^{p_{2}p_{3}}t2_{p_{2}p_{0}}^{h_{4}h_{5}}t2_{p_{1}p_{3}}^{h_{6}h_{7}}\n + -0.03125 * v_{h_{7}h_{4}}^{p_{2}p_{3}}t2_{p_{3}p_{0}}^{h_{4}h_{5}}t2_{p_{1}p_{2}}^{h_{6}h_{7}}\n + 0.0625 * v_{h_{4}h_{7}}^{p_{2}p_{3}}t2_{p_{2}p_{0}}^{h_{4}h_{5}}t2_{p_{3}p_{1}}^{h_{6}h_{7}}\n + -0.125 * v_{h_{4}h_{7}}^{p_{2}p_{3}}t2_{p_{3}p_{0}}^{h_{4}h_{5}}t2_{p_{2}p_{1}}^{h_{6}h_{7}}\n + -0.125 * v_{h_{7}h_{4}}^{p_{2}p_{3}}t2_{p_{2}p_{0}}^{h_{4}h_{5}}t2_{p_{3}p_{1}}^{h_{6}h_{7}}\n + 0.0625 * v_{h_{7}h_{4}}^{p_{2}p_{3}}t2_{p_{3}p_{0}}^{h_{4}h_{5}}t2_{p_{2}p_{1}}^{h_{6}h_{7}}\n + -0.03125 * v_{h_{4}h_{7}}^{p_{2}p_{3}}t2_{p_{1}p_{2}}^{h_{4}h_{5}}t2_{p_{0}p_{3}}^{h_{6}h_{7}}\n + 0.0625 * v_{h_{4}h_{7}}^{p_{2}p_{3}}t2_{p_{1}p_{3}}^{h_{4}h_{5}}t2_{p_{0}p_{2}}^{h_{6}h_{7}}\n + 0.0625 * v_{h_{7}h_{4}}^{p_{2}p_{3}}t2_{p_{1}p_{2}}^{h_{4}h_{5}}t2_{p_{0}p_{3}}^{h_{6}h_{7}}\n + -0.03125 * v_{h_{7}h_{4}}^{p_{2}p_{3}}t2_{p_{1}p_{3}}^{h_{4}h_{5}}t2_{p_{0}p_{2}}^{h_{6}h_{7}}\n + 0.0625 * v_{h_{4}h_{7}}^{p_{2}p_{3}}t2_{p_{2}p_{1}}^{h_{4}h_{5}}t2_{p_{0}p_{3}}^{h_{6}h_{7}}\n + -0.03125 * v_{h_{4}h_{7}}^{p_{2}p_{3}}t2_{p_{3}p_{1}}^{h_{4}h_{5}}t2_{p_{0}p_{2}}^{h_{6}h_{7}}\n + -0.03125 * v_{h_{7}h_{4}}^{p_{2}p_{3}}t2_{p_{2}p_{1}}^{h_{4}h_{5}}t2_{p_{0}p_{3}}^{h_{6}h_{7}}\n + 0.0625 * v_{h_{7}h_{4}}^{p_{2}p_{3}}t2_{p_{3}p_{1}}^{h_{4}h_{5}}t2_{p_{0}p_{2}}^{h_{6}h_{7}}\n + -0.125 * v_{h_{4}h_{7}}^{p_{2}p_{3}}t2_{p_{2}p_{3}}^{h_{4}h_{5}}t2_{p_{0}p_{1}}^{h_{6}h_{7}}\n + 0.0625 * v_{h_{4}h_{7}}^{p_{2}p_{3}}t2_{p_{3}p_{2}}^{h_{4}h_{5}}t2_{p_{0}p_{1}}^{h_{6}h_{7}}\n + 0.0625 * v_{h_{7}h_{4}}^{p_{2}p_{3}}t2_{p_{2}p_{3}}^{h_{4}h_{5}}t2_{p_{0}p_{1}}^{h_{6}h_{7}}\n + -0.125 * v_{h_{7}h_{4}}^{p_{2}p_{3}}t2_{p_{3}p_{2}}^{h_{4}h_{5}}t2_{p_{0}p_{1}}^{h_{6}h_{7}}\n + 0.0625 * v_{h_{4}h_{7}}^{p_{2}p_{3}}t2_{p_{1}p_{2}}^{h_{4}h_{5}}t2_{p_{3}p_{0}}^{h_{6}h_{7}}\n + -0.125 * v_{h_{4}h_{7}}^{p_{2}p_{3}}t2_{p_{1}p_{3}}^{h_{4}h_{5}}t2_{p_{2}p_{0}}^{h_{6}h_{7}}\n + -0.125 * v_{h_{7}h_{4}}^{p_{2}p_{3}}t2_{p_{1}p_{2}}^{h_{4}h_{5}}t2_{p_{3}p_{0}}^{h_{6}h_{7}}\n + 0.0625 * v_{h_{7}h_{4}}^{p_{2}p_{3}}t2_{p_{1}p_{3}}^{h_{4}h_{5}}t2_{p_{2}p_{0}}^{h_{6}h_{7}}\n + -0.03125 * v_{h_{4}h_{7}}^{p_{2}p_{3}}t2_{p_{2}p_{1}}^{h_{4}h_{5}}t2_{p_{3}p_{0}}^{h_{6}h_{7}}\n + 0.0625 * v_{h_{4}h_{7}}^{p_{2}p_{3}}t2_{p_{3}p_{1}}^{h_{4}h_{5}}t2_{p_{2}p_{0}}^{h_{6}h_{7}}\n + 0.0625 * v_{h_{7}h_{4}}^{p_{2}p_{3}}t2_{p_{2}p_{1}}^{h_{4}h_{5}}t2_{p_{3}p_{0}}^{h_{6}h_{7}}\n + -0.03125 * v_{h_{7}h_{4}}^{p_{2}p_{3}}t2_{p_{3}p_{1}}^{h_{4}h_{5}}t2_{p_{2}p_{0}}^{h_{6}h_{7}}\n + 0.0625 * v_{h_{4}h_{7}}^{p_{2}p_{3}}t2_{p_{2}p_{3}}^{h_{4}h_{5}}t2_{p_{1}p_{0}}^{h_{6}h_{7}}\n + -0.03125 * v_{h_{4}h_{7}}^{p_{2}p_{3}}t2_{p_{3}p_{2}}^{h_{4}h_{5}}t2_{p_{1}p_{0}}^{h_{6}h_{7}}\n + -0.03125 * v_{h_{7}h_{4}}^{p_{2}p_{3}}t2_{p_{2}p_{3}}^{h_{4}h_{5}}t2_{p_{1}p_{0}}^{h_{6}h_{7}}\n + 0.0625 * v_{h_{7}h_{4}}^{p_{2}p_{3}}t2_{p_{3}p_{2}}^{h_{4}h_{5}}t2_{p_{1}p_{0}}^{h_{6}h_{7}}\n + 0.0625 * v_{h_{4}h_{5}}^{p_{2}p_{3}}t2_{p_{0}p_{1}}^{h_{4}h_{5}}t2_{p_{2}p_{3}}^{h_{6}h_{7}}\n + -0.03125 * v_{h_{4}h_{5}}^{p_{2}p_{3}}t2_{p_{0}p_{1}}^{h_{4}h_{5}}t2_{p_{3}p_{2}}^{h_{6}h_{7}}\n + -0.03125 * v_{h_{5}h_{4}}^{p_{2}p_{3}}t2_{p_{0}p_{1}}^{h_{4}h_{5}}t2_{p_{2}p_{3}}^{h_{6}h_{7}}\n + 0.0625 * v_{h_{5}h_{4}}^{p_{2}p_{3}}t2_{p_{0}p_{1}}^{h_{4}h_{5}}t2_{p_{3}p_{2}}^{h_{6}h_{7}}\n + -0.03125 * v_{h_{4}h_{5}}^{p_{2}p_{3}}t2_{p_{0}p_{2}}^{h_{4}h_{5}}t2_{p_{1}p_{3}}^{h_{6}h_{7}}\n + 0.0625 * v_{h_{4}h_{5}}^{p_{2}p_{3}}t2_{p_{0}p_{3}}^{h_{4}h_{5}}t2_{p_{1}p_{2}}^{h_{6}h_{7}}\n + 0.0625 * v_{h_{5}h_{4}}^{p_{2}p_{3}}t2_{p_{0}p_{2}}^{h_{4}h_{5}}t2_{p_{1}p_{3}}^{h_{6}h_{7}}\n + -0.03125 * v_{h_{5}h_{4}}^{p_{2}p_{3}}t2_{p_{0}p_{3}}^{h_{4}h_{5}}t2_{p_{1}p_{2}}^{h_{6}h_{7}}\n + 0.0625 * v_{h_{4}h_{5}}^{p_{2}p_{3}}t2_{p_{0}p_{2}}^{h_{4}h_{5}}t2_{p_{3}p_{1}}^{h_{6}h_{7}}\n + -0.125 * v_{h_{4}h_{5}}^{p_{2}p_{3}}t2_{p_{0}p_{3}}^{h_{4}h_{5}}t2_{p_{2}p_{1}}^{h_{6}h_{7}}\n + -0.125 * v_{h_{5}h_{4}}^{p_{2}p_{3}}t2_{p_{0}p_{2}}^{h_{4}h_{5}}t2_{p_{3}p_{1}}^{h_{6}h_{7}}\n + 0.0625 * v_{h_{5}h_{4}}^{p_{2}p_{3}}t2_{p_{0}p_{3}}^{h_{4}h_{5}}t2_{p_{2}p_{1}}^{h_{6}h_{7}}\n + -0.03125 * v_{h_{4}h_{5}}^{p_{2}p_{3}}t2_{p_{1}p_{0}}^{h_{4}h_{5}}t2_{p_{2}p_{3}}^{h_{6}h_{7}}\n + 0.0625 * v_{h_{4}h_{5}}^{p_{2}p_{3}}t2_{p_{1}p_{0}}^{h_{4}h_{5}}t2_{p_{3}p_{2}}^{h_{6}h_{7}}\n + 0.0625 * v_{h_{5}h_{4}}^{p_{2}p_{3}}t2_{p_{1}p_{0}}^{h_{4}h_{5}}t2_{p_{2}p_{3}}^{h_{6}h_{7}}\n + -0.03125 * v_{h_{5}h_{4}}^{p_{2}p_{3}}t2_{p_{1}p_{0}}^{h_{4}h_{5}}t2_{p_{3}p_{2}}^{h_{6}h_{7}}\n + 0.0625 * v_{h_{4}h_{5}}^{p_{2}p_{3}}t2_{p_{2}p_{0}}^{h_{4}h_{5}}t2_{p_{1}p_{3}}^{h_{6}h_{7}}\n + -0.03125 * v_{h_{4}h_{5}}^{p_{2}p_{3}}t2_{p_{3}p_{0}}^{h_{4}h_{5}}t2_{p_{1}p_{2}}^{h_{6}h_{7}}\n + -0.03125 * v_{h_{5}h_{4}}^{p_{2}p_{3}}t2_{p_{2}p_{0}}^{h_{4}h_{5}}t2_{p_{1}p_{3}}^{h_{6}h_{7}}\n + 0.0625 * v_{h_{5}h_{4}}^{p_{2}p_{3}}t2_{p_{3}p_{0}}^{h_{4}h_{5}}t2_{p_{1}p_{2}}^{h_{6}h_{7}}\n + -0.125 * v_{h_{4}h_{5}}^{p_{2}p_{3}}t2_{p_{2}p_{0}}^{h_{4}h_{5}}t2_{p_{3}p_{1}}^{h_{6}h_{7}}\n + 0.0625 * v_{h_{4}h_{5}}^{p_{2}p_{3}}t2_{p_{3}p_{0}}^{h_{4}h_{5}}t2_{p_{2}p_{1}}^{h_{6}h_{7}}\n + 0.0625 * v_{h_{5}h_{4}}^{p_{2}p_{3}}t2_{p_{2}p_{0}}^{h_{4}h_{5}}t2_{p_{3}p_{1}}^{h_{6}h_{7}}\n + -0.125 * v_{h_{5}h_{4}}^{p_{2}p_{3}}t2_{p_{3}p_{0}}^{h_{4}h_{5}}t2_{p_{2}p_{1}}^{h_{6}h_{7}}\n + 0.0625 * v_{h_{4}h_{5}}^{p_{2}p_{3}}t2_{p_{1}p_{2}}^{h_{4}h_{5}}t2_{p_{0}p_{3}}^{h_{6}h_{7}}\n + -0.125 * v_{h_{4}h_{5}}^{p_{2}p_{3}}t2_{p_{1}p_{3}}^{h_{4}h_{5}}t2_{p_{0}p_{2}}^{h_{6}h_{7}}\n + -0.125 * v_{h_{5}h_{4}}^{p_{2}p_{3}}t2_{p_{1}p_{2}}^{h_{4}h_{5}}t2_{p_{0}p_{3}}^{h_{6}h_{7}}\n + 0.0625 * v_{h_{5}h_{4}}^{p_{2}p_{3}}t2_{p_{1}p_{3}}^{h_{4}h_{5}}t2_{p_{0}p_{2}}^{h_{6}h_{7}}\n + -0.125 * v_{h_{4}h_{5}}^{p_{2}p_{3}}t2_{p_{2}p_{1}}^{h_{4}h_{5}}t2_{p_{0}p_{3}}^{h_{6}h_{7}}\n + 0.0625 * v_{h_{4}h_{5}}^{p_{2}p_{3}}t2_{p_{3}p_{1}}^{h_{4}h_{5}}t2_{p_{0}p_{2}}^{h_{6}h_{7}}\n + 0.0625 * v_{h_{5}h_{4}}^{p_{2}p_{3}}t2_{p_{2}p_{1}}^{h_{4}h_{5}}t2_{p_{0}p_{3}}^{h_{6}h_{7}}\n + -0.125 * v_{h_{5}h_{4}}^{p_{2}p_{3}}t2_{p_{3}p_{1}}^{h_{4}h_{5}}t2_{p_{0}p_{2}}^{h_{6}h_{7}}\n + 0.25 * v_{h_{4}h_{5}}^{p_{2}p_{3}}t2_{p_{2}p_{3}}^{h_{4}h_{5}}t2_{p_{0}p_{1}}^{h_{6}h_{7}}\n + -0.125 * v_{h_{4}h_{5}}^{p_{2}p_{3}}t2_{p_{3}p_{2}}^{h_{4}h_{5}}t2_{p_{0}p_{1}}^{h_{6}h_{7}}\n + -0.125 * v_{h_{5}h_{4}}^{p_{2}p_{3}}t2_{p_{2}p_{3}}^{h_{4}h_{5}}t2_{p_{0}p_{1}}^{h_{6}h_{7}}\n + 0.25 * v_{h_{5}h_{4}}^{p_{2}p_{3}}t2_{p_{3}p_{2}}^{h_{4}h_{5}}t2_{p_{0}p_{1}}^{h_{6}h_{7}}\n + -0.03125 * v_{h_{4}h_{5}}^{p_{2}p_{3}}t2_{p_{1}p_{2}}^{h_{4}h_{5}}t2_{p_{3}p_{0}}^{h_{6}h_{7}}\n + 0.0625 * v_{h_{4}h_{5}}^{p_{2}p_{3}}t2_{p_{1}p_{3}}^{h_{4}h_{5}}t2_{p_{2}p_{0}}^{h_{6}h_{7}}\n + 0.0625 * v_{h_{5}h_{4}}^{p_{2}p_{3}}t2_{p_{1}p_{2}}^{h_{4}h_{5}}t2_{p_{3}p_{0}}^{h_{6}h_{7}}\n + -0.03125 * v_{h_{5}h_{4}}^{p_{2}p_{3}}t2_{p_{1}p_{3}}^{h_{4}h_{5}}t2_{p_{2}p_{0}}^{h_{6}h_{7}}\n + 0.0625 * v_{h_{4}h_{5}}^{p_{2}p_{3}}t2_{p_{2}p_{1}}^{h_{4}h_{5}}t2_{p_{3}p_{0}}^{h_{6}h_{7}}\n + -0.03125 * v_{h_{4}h_{5}}^{p_{2}p_{3}}t2_{p_{3}p_{1}}^{h_{4}h_{5}}t2_{p_{2}p_{0}}^{h_{6}h_{7}}\n + -0.03125 * v_{h_{5}h_{4}}^{p_{2}p_{3}}t2_{p_{2}p_{1}}^{h_{4}h_{5}}t2_{p_{3}p_{0}}^{h_{6}h_{7}}\n + 0.0625 * v_{h_{5}h_{4}}^{p_{2}p_{3}}t2_{p_{3}p_{1}}^{h_{4}h_{5}}t2_{p_{2}p_{0}}^{h_{6}h_{7}}\n + -0.125 * v_{h_{4}h_{5}}^{p_{2}p_{3}}t2_{p_{2}p_{3}}^{h_{4}h_{5}}t2_{p_{1}p_{0}}^{h_{6}h_{7}}\n + 0.0625 * v_{h_{4}h_{5}}^{p_{2}p_{3}}t2_{p_{3}p_{2}}^{h_{4}h_{5}}t2_{p_{1}p_{0}}^{h_{6}h_{7}}\n + 0.0625 * v_{h_{5}h_{4}}^{p_{2}p_{3}}t2_{p_{2}p_{3}}^{h_{4}h_{5}}t2_{p_{1}p_{0}}^{h_{6}h_{7}}\n + -0.125 * v_{h_{5}h_{4}}^{p_{2}p_{3}}t2_{p_{3}p_{2}}^{h_{4}h_{5}}t2_{p_{1}p_{0}}^{h_{6}h_{7}}\n + -0.03125 * v_{h_{5}h_{6}}^{p_{2}p_{3}}t2_{p_{0}p_{1}}^{h_{4}h_{5}}t2_{p_{2}p_{3}}^{h_{6}h_{7}}\n + 0.0625 * v_{h_{5}h_{6}}^{p_{2}p_{3}}t2_{p_{0}p_{1}}^{h_{4}h_{5}}t2_{p_{3}p_{2}}^{h_{6}h_{7}}\n + 0.0625 * v_{h_{6}h_{5}}^{p_{2}p_{3}}t2_{p_{0}p_{1}}^{h_{4}h_{5}}t2_{p_{2}p_{3}}^{h_{6}h_{7}}\n + -0.03125 * v_{h_{6}h_{5}}^{p_{2}p_{3}}t2_{p_{0}p_{1}}^{h_{4}h_{5}}t2_{p_{3}p_{2}}^{h_{6}h_{7}}\n + 0.0625 * v_{h_{5}h_{6}}^{p_{2}p_{3}}t2_{p_{0}p_{2}}^{h_{4}h_{5}}t2_{p_{1}p_{3}}^{h_{6}h_{7}}\n + -0.125 * v_{h_{5}h_{6}}^{p_{2}p_{3}}t2_{p_{0}p_{3}}^{h_{4}h_{5}}t2_{p_{1}p_{2}}^{h_{6}h_{7}}\n + -0.125 * v_{h_{6}h_{5}}^{p_{2}p_{3}}t2_{p_{0}p_{2}}^{h_{4}h_{5}}t2_{p_{1}p_{3}}^{h_{6}h_{7}}\n + 0.0625 * v_{h_{6}h_{5}}^{p_{2}p_{3}}t2_{p_{0}p_{3}}^{h_{4}h_{5}}t2_{p_{1}p_{2}}^{h_{6}h_{7}}\n + -0.03125 * v_{h_{5}h_{6}}^{p_{2}p_{3}}t2_{p_{0}p_{2}}^{h_{4}h_{5}}t2_{p_{3}p_{1}}^{h_{6}h_{7}}\n + 0.0625 * v_{h_{5}h_{6}}^{p_{2}p_{3}}t2_{p_{0}p_{3}}^{h_{4}h_{5}}t2_{p_{2}p_{1}}^{h_{6}h_{7}}\n + 0.0625 * v_{h_{6}h_{5}}^{p_{2}p_{3}}t2_{p_{0}p_{2}}^{h_{4}h_{5}}t2_{p_{3}p_{1}}^{h_{6}h_{7}}\n + -0.03125 * v_{h_{6}h_{5}}^{p_{2}p_{3}}t2_{p_{0}p_{3}}^{h_{4}h_{5}}t2_{p_{2}p_{1}}^{h_{6}h_{7}}\n + 0.0625 * v_{h_{5}h_{6}}^{p_{2}p_{3}}t2_{p_{1}p_{0}}^{h_{4}h_{5}}t2_{p_{2}p_{3}}^{h_{6}h_{7}}\n + -0.125 * v_{h_{5}h_{6}}^{p_{2}p_{3}}t2_{p_{1}p_{0}}^{h_{4}h_{5}}t2_{p_{3}p_{2}}^{h_{6}h_{7}}\n + -0.125 * v_{h_{6}h_{5}}^{p_{2}p_{3}}t2_{p_{1}p_{0}}^{h_{4}h_{5}}t2_{p_{2}p_{3}}^{h_{6}h_{7}}\n + 0.0625 * v_{h_{6}h_{5}}^{p_{2}p_{3}}t2_{p_{1}p_{0}}^{h_{4}h_{5}}t2_{p_{3}p_{2}}^{h_{6}h_{7}}\n + -0.125 * v_{h_{5}h_{6}}^{p_{2}p_{3}}t2_{p_{2}p_{0}}^{h_{4}h_{5}}t2_{p_{1}p_{3}}^{h_{6}h_{7}}\n + 0.25 * v_{h_{5}h_{6}}^{p_{2}p_{3}}t2_{p_{3}p_{0}}^{h_{4}h_{5}}t2_{p_{1}p_{2}}^{h_{6}h_{7}}\n + 0.25 * v_{h_{6}h_{5}}^{p_{2}p_{3}}t2_{p_{2}p_{0}}^{h_{4}h_{5}}t2_{p_{1}p_{3}}^{h_{6}h_{7}}\n + -0.125 * v_{h_{6}h_{5}}^{p_{2}p_{3}}t2_{p_{3}p_{0}}^{h_{4}h_{5}}t2_{p_{1}p_{2}}^{h_{6}h_{7}}\n + 0.0625 * v_{h_{5}h_{6}}^{p_{2}p_{3}}t2_{p_{2}p_{0}}^{h_{4}h_{5}}t2_{p_{3}p_{1}}^{h_{6}h_{7}}\n + -0.125 * v_{h_{5}h_{6}}^{p_{2}p_{3}}t2_{p_{3}p_{0}}^{h_{4}h_{5}}t2_{p_{2}p_{1}}^{h_{6}h_{7}}\n + -0.125 * v_{h_{6}h_{5}}^{p_{2}p_{3}}t2_{p_{2}p_{0}}^{h_{4}h_{5}}t2_{p_{3}p_{1}}^{h_{6}h_{7}}\n + 0.0625 * v_{h_{6}h_{5}}^{p_{2}p_{3}}t2_{p_{3}p_{0}}^{h_{4}h_{5}}t2_{p_{2}p_{1}}^{h_{6}h_{7}}\n + -0.03125 * v_{h_{5}h_{6}}^{p_{2}p_{3}}t2_{p_{1}p_{2}}^{h_{4}h_{5}}t2_{p_{0}p_{3}}^{h_{6}h_{7}}\n + 0.0625 * v_{h_{5}h_{6}}^{p_{2}p_{3}}t2_{p_{1}p_{3}}^{h_{4}h_{5}}t2_{p_{0}p_{2}}^{h_{6}h_{7}}\n + 0.0625 * v_{h_{6}h_{5}}^{p_{2}p_{3}}t2_{p_{1}p_{2}}^{h_{4}h_{5}}t2_{p_{0}p_{3}}^{h_{6}h_{7}}\n + -0.03125 * v_{h_{6}h_{5}}^{p_{2}p_{3}}t2_{p_{1}p_{3}}^{h_{4}h_{5}}t2_{p_{0}p_{2}}^{h_{6}h_{7}}\n + 0.0625 * v_{h_{5}h_{6}}^{p_{2}p_{3}}t2_{p_{2}p_{1}}^{h_{4}h_{5}}t2_{p_{0}p_{3}}^{h_{6}h_{7}}\n + -0.125 * v_{h_{5}h_{6}}^{p_{2}p_{3}}t2_{p_{3}p_{1}}^{h_{4}h_{5}}t2_{p_{0}p_{2}}^{h_{6}h_{7}}\n + -0.125 * v_{h_{6}h_{5}}^{p_{2}p_{3}}t2_{p_{2}p_{1}}^{h_{4}h_{5}}t2_{p_{0}p_{3}}^{h_{6}h_{7}}\n + 0.0625 * v_{h_{6}h_{5}}^{p_{2}p_{3}}t2_{p_{3}p_{1}}^{h_{4}h_{5}}t2_{p_{0}p_{2}}^{h_{6}h_{7}}\n + -0.03125 * v_{h_{5}h_{6}}^{p_{2}p_{3}}t2_{p_{2}p_{3}}^{h_{4}h_{5}}t2_{p_{0}p_{1}}^{h_{6}h_{7}}\n + 0.0625 * v_{h_{5}h_{6}}^{p_{2}p_{3}}t2_{p_{3}p_{2}}^{h_{4}h_{5}}t2_{p_{0}p_{1}}^{h_{6}h_{7}}\n + 0.0625 * v_{h_{6}h_{5}}^{p_{2}p_{3}}t2_{p_{2}p_{3}}^{h_{4}h_{5}}t2_{p_{0}p_{1}}^{h_{6}h_{7}}\n + -0.03125 * v_{h_{6}h_{5}}^{p_{2}p_{3}}t2_{p_{3}p_{2}}^{h_{4}h_{5}}t2_{p_{0}p_{1}}^{h_{6}h_{7}}\n + 0.0625 * v_{h_{5}h_{6}}^{p_{2}p_{3}}t2_{p_{1}p_{2}}^{h_{4}h_{5}}t2_{p_{3}p_{0}}^{h_{6}h_{7}}\n + -0.03125 * v_{h_{5}h_{6}}^{p_{2}p_{3}}t2_{p_{1}p_{3}}^{h_{4}h_{5}}t2_{p_{2}p_{0}}^{h_{6}h_{7}}\n + -0.03125 * v_{h_{6}h_{5}}^{p_{2}p_{3}}t2_{p_{1}p_{2}}^{h_{4}h_{5}}t2_{p_{3}p_{0}}^{h_{6}h_{7}}\n + 0.0625 * v_{h_{6}h_{5}}^{p_{2}p_{3}}t2_{p_{1}p_{3}}^{h_{4}h_{5}}t2_{p_{2}p_{0}}^{h_{6}h_{7}}\n + -0.03125 * v_{h_{5}h_{6}}^{p_{2}p_{3}}t2_{p_{2}p_{1}}^{h_{4}h_{5}}t2_{p_{3}p_{0}}^{h_{6}h_{7}}\n + 0.0625 * v_{h_{5}h_{6}}^{p_{2}p_{3}}t2_{p_{3}p_{1}}^{h_{4}h_{5}}t2_{p_{2}p_{0}}^{h_{6}h_{7}}\n + 0.0625 * v_{h_{6}h_{5}}^{p_{2}p_{3}}t2_{p_{2}p_{1}}^{h_{4}h_{5}}t2_{p_{3}p_{0}}^{h_{6}h_{7}}\n + -0.03125 * v_{h_{6}h_{5}}^{p_{2}p_{3}}t2_{p_{3}p_{1}}^{h_{4}h_{5}}t2_{p_{2}p_{0}}^{h_{6}h_{7}}\n + 0.0625 * v_{h_{5}h_{6}}^{p_{2}p_{3}}t2_{p_{2}p_{3}}^{h_{4}h_{5}}t2_{p_{1}p_{0}}^{h_{6}h_{7}}\n + -0.125 * v_{h_{5}h_{6}}^{p_{2}p_{3}}t2_{p_{3}p_{2}}^{h_{4}h_{5}}t2_{p_{1}p_{0}}^{h_{6}h_{7}}\n + -0.125 * v_{h_{6}h_{5}}^{p_{2}p_{3}}t2_{p_{2}p_{3}}^{h_{4}h_{5}}t2_{p_{1}p_{0}}^{h_{6}h_{7}}\n + 0.0625 * v_{h_{6}h_{5}}^{p_{2}p_{3}}t2_{p_{3}p_{2}}^{h_{4}h_{5}}t2_{p_{1}p_{0}}^{h_{6}h_{7}}\n + 0.0625 * v_{h_{4}h_{6}}^{p_{2}p_{3}}t2_{p_{0}p_{1}}^{h_{4}h_{5}}t2_{p_{2}p_{3}}^{h_{6}h_{7}}\n + -0.125 * v_{h_{4}h_{6}}^{p_{2}p_{3}}t2_{p_{0}p_{1}}^{h_{4}h_{5}}t2_{p_{3}p_{2}}^{h_{6}h_{7}}\n + -0.125 * v_{h_{6}h_{4}}^{p_{2}p_{3}}t2_{p_{0}p_{1}}^{h_{4}h_{5}}t2_{p_{2}p_{3}}^{h_{6}h_{7}}\n + 0.0625 * v_{h_{6}h_{4}}^{p_{2}p_{3}}t2_{p_{0}p_{1}}^{h_{4}h_{5}}t2_{p_{3}p_{2}}^{h_{6}h_{7}}\n + -0.125 * v_{h_{4}h_{6}}^{p_{2}p_{3}}t2_{p_{0}p_{2}}^{h_{4}h_{5}}t2_{p_{1}p_{3}}^{h_{6}h_{7}}\n + 0.25 * v_{h_{4}h_{6}}^{p_{2}p_{3}}t2_{p_{0}p_{3}}^{h_{4}h_{5}}t2_{p_{1}p_{2}}^{h_{6}h_{7}}\n + 0.25 * v_{h_{6}h_{4}}^{p_{2}p_{3}}t2_{p_{0}p_{2}}^{h_{4}h_{5}}t2_{p_{1}p_{3}}^{h_{6}h_{7}}\n + -0.125 * v_{h_{6}h_{4}}^{p_{2}p_{3}}t2_{p_{0}p_{3}}^{h_{4}h_{5}}t2_{p_{1}p_{2}}^{h_{6}h_{7}}\n + 0.0625 * v_{h_{4}h_{6}}^{p_{2}p_{3}}t2_{p_{0}p_{2}}^{h_{4}h_{5}}t2_{p_{3}p_{1}}^{h_{6}h_{7}}\n + -0.125 * v_{h_{4}h_{6}}^{p_{2}p_{3}}t2_{p_{0}p_{3}}^{h_{4}h_{5}}t2_{p_{2}p_{1}}^{h_{6}h_{7}}\n + -0.125 * v_{h_{6}h_{4}}^{p_{2}p_{3}}t2_{p_{0}p_{2}}^{h_{4}h_{5}}t2_{p_{3}p_{1}}^{h_{6}h_{7}}\n + 0.0625 * v_{h_{6}h_{4}}^{p_{2}p_{3}}t2_{p_{0}p_{3}}^{h_{4}h_{5}}t2_{p_{2}p_{1}}^{h_{6}h_{7}}\n + -0.03125 * v_{h_{4}h_{6}}^{p_{2}p_{3}}t2_{p_{1}p_{0}}^{h_{4}h_{5}}t2_{p_{2}p_{3}}^{h_{6}h_{7}}\n + 0.0625 * v_{h_{4}h_{6}}^{p_{2}p_{3}}t2_{p_{1}p_{0}}^{h_{4}h_{5}}t2_{p_{3}p_{2}}^{h_{6}h_{7}}\n + 0.0625 * v_{h_{6}h_{4}}^{p_{2}p_{3}}t2_{p_{1}p_{0}}^{h_{4}h_{5}}t2_{p_{2}p_{3}}^{h_{6}h_{7}}\n + -0.03125 * v_{h_{6}h_{4}}^{p_{2}p_{3}}t2_{p_{1}p_{0}}^{h_{4}h_{5}}t2_{p_{3}p_{2}}^{h_{6}h_{7}}\n + 0.0625 * v_{h_{4}h_{6}}^{p_{2}p_{3}}t2_{p_{2}p_{0}}^{h_{4}h_{5}}t2_{p_{1}p_{3}}^{h_{6}h_{7}}\n + -0.125 * v_{h_{4}h_{6}}^{p_{2}p_{3}}t2_{p_{3}p_{0}}^{h_{4}h_{5}}t2_{p_{1}p_{2}}^{h_{6}h_{7}}\n + -0.125 * v_{h_{6}h_{4}}^{p_{2}p_{3}}t2_{p_{2}p_{0}}^{h_{4}h_{5}}t2_{p_{1}p_{3}}^{h_{6}h_{7}}\n + 0.0625 * v_{h_{6}h_{4}}^{p_{2}p_{3}}t2_{p_{3}p_{0}}^{h_{4}h_{5}}t2_{p_{1}p_{2}}^{h_{6}h_{7}}\n + -0.03125 * v_{h_{4}h_{6}}^{p_{2}p_{3}}t2_{p_{2}p_{0}}^{h_{4}h_{5}}t2_{p_{3}p_{1}}^{h_{6}h_{7}}\n + 0.0625 * v_{h_{4}h_{6}}^{p_{2}p_{3}}t2_{p_{3}p_{0}}^{h_{4}h_{5}}t2_{p_{2}p_{1}}^{h_{6}h_{7}}\n + 0.0625 * v_{h_{6}h_{4}}^{p_{2}p_{3}}t2_{p_{2}p_{0}}^{h_{4}h_{5}}t2_{p_{3}p_{1}}^{h_{6}h_{7}}\n + -0.03125 * v_{h_{6}h_{4}}^{p_{2}p_{3}}t2_{p_{3}p_{0}}^{h_{4}h_{5}}t2_{p_{2}p_{1}}^{h_{6}h_{7}}\n + 0.0625 * v_{h_{4}h_{6}}^{p_{2}p_{3}}t2_{p_{1}p_{2}}^{h_{4}h_{5}}t2_{p_{0}p_{3}}^{h_{6}h_{7}}\n + -0.125 * v_{h_{4}h_{6}}^{p_{2}p_{3}}t2_{p_{1}p_{3}}^{h_{4}h_{5}}t2_{p_{0}p_{2}}^{h_{6}h_{7}}\n + -0.125 * v_{h_{6}h_{4}}^{p_{2}p_{3}}t2_{p_{1}p_{2}}^{h_{4}h_{5}}t2_{p_{0}p_{3}}^{h_{6}h_{7}}\n + 0.0625 * v_{h_{6}h_{4}}^{p_{2}p_{3}}t2_{p_{1}p_{3}}^{h_{4}h_{5}}t2_{p_{0}p_{2}}^{h_{6}h_{7}}\n + -0.03125 * v_{h_{4}h_{6}}^{p_{2}p_{3}}t2_{p_{2}p_{1}}^{h_{4}h_{5}}t2_{p_{0}p_{3}}^{h_{6}h_{7}}\n + 0.0625 * v_{h_{4}h_{6}}^{p_{2}p_{3}}t2_{p_{3}p_{1}}^{h_{4}h_{5}}t2_{p_{0}p_{2}}^{h_{6}h_{7}}\n + 0.0625 * v_{h_{6}h_{4}}^{p_{2}p_{3}}t2_{p_{2}p_{1}}^{h_{4}h_{5}}t2_{p_{0}p_{3}}^{h_{6}h_{7}}\n + -0.03125 * v_{h_{6}h_{4}}^{p_{2}p_{3}}t2_{p_{3}p_{1}}^{h_{4}h_{5}}t2_{p_{0}p_{2}}^{h_{6}h_{7}}\n + 0.0625 * v_{h_{4}h_{6}}^{p_{2}p_{3}}t2_{p_{2}p_{3}}^{h_{4}h_{5}}t2_{p_{0}p_{1}}^{h_{6}h_{7}}\n + -0.03125 * v_{h_{4}h_{6}}^{p_{2}p_{3}}t2_{p_{3}p_{2}}^{h_{4}h_{5}}t2_{p_{0}p_{1}}^{h_{6}h_{7}}\n + -0.03125 * v_{h_{6}h_{4}}^{p_{2}p_{3}}t2_{p_{2}p_{3}}^{h_{4}h_{5}}t2_{p_{0}p_{1}}^{h_{6}h_{7}}\n + 0.0625 * v_{h_{6}h_{4}}^{p_{2}p_{3}}t2_{p_{3}p_{2}}^{h_{4}h_{5}}t2_{p_{0}p_{1}}^{h_{6}h_{7}}\n + -0.03125 * v_{h_{4}h_{6}}^{p_{2}p_{3}}t2_{p_{1}p_{2}}^{h_{4}h_{5}}t2_{p_{3}p_{0}}^{h_{6}h_{7}}\n + 0.0625 * v_{h_{4}h_{6}}^{p_{2}p_{3}}t2_{p_{1}p_{3}}^{h_{4}h_{5}}t2_{p_{2}p_{0}}^{h_{6}h_{7}}\n + 0.0625 * v_{h_{6}h_{4}}^{p_{2}p_{3}}t2_{p_{1}p_{2}}^{h_{4}h_{5}}t2_{p_{3}p_{0}}^{h_{6}h_{7}}\n + -0.03125 * v_{h_{6}h_{4}}^{p_{2}p_{3}}t2_{p_{1}p_{3}}^{h_{4}h_{5}}t2_{p_{2}p_{0}}^{h_{6}h_{7}}\n + 0.0625 * v_{h_{4}h_{6}}^{p_{2}p_{3}}t2_{p_{2}p_{1}}^{h_{4}h_{5}}t2_{p_{3}p_{0}}^{h_{6}h_{7}}\n + -0.03125 * v_{h_{4}h_{6}}^{p_{2}p_{3}}t2_{p_{3}p_{1}}^{h_{4}h_{5}}t2_{p_{2}p_{0}}^{h_{6}h_{7}}\n + -0.03125 * v_{h_{6}h_{4}}^{p_{2}p_{3}}t2_{p_{2}p_{1}}^{h_{4}h_{5}}t2_{p_{3}p_{0}}^{h_{6}h_{7}}\n + 0.0625 * v_{h_{6}h_{4}}^{p_{2}p_{3}}t2_{p_{3}p_{1}}^{h_{4}h_{5}}t2_{p_{2}p_{0}}^{h_{6}h_{7}}\n + -0.125 * v_{h_{4}h_{6}}^{p_{2}p_{3}}t2_{p_{2}p_{3}}^{h_{4}h_{5}}t2_{p_{1}p_{0}}^{h_{6}h_{7}}\n + 0.0625 * v_{h_{4}h_{6}}^{p_{2}p_{3}}t2_{p_{3}p_{2}}^{h_{4}h_{5}}t2_{p_{1}p_{0}}^{h_{6}h_{7}}\n + 0.0625 * v_{h_{6}h_{4}}^{p_{2}p_{3}}t2_{p_{2}p_{3}}^{h_{4}h_{5}}t2_{p_{1}p_{0}}^{h_{6}h_{7}}\n + -0.125 * v_{h_{6}h_{4}}^{p_{2}p_{3}}t2_{p_{3}p_{2}}^{h_{4}h_{5}}t2_{p_{1}p_{0}}^{h_{6}h_{7}}\n + -0.03125 * v_{h_{4}h_{5}}^{p_{2}p_{3}}t2_{p_{0}p_{1}}^{h_{4}h_{5}}t2_{p_{2}p_{3}}^{h_{6}h_{7}}\n + 0.0625 * v_{h_{4}h_{5}}^{p_{2}p_{3}}t2_{p_{0}p_{1}}^{h_{4}h_{5}}t2_{p_{3}p_{2}}^{h_{6}h_{7}}\n + 0.0625 * v_{h_{5}h_{4}}^{p_{2}p_{3}}t2_{p_{0}p_{1}}^{h_{4}h_{5}}t2_{p_{2}p_{3}}^{h_{6}h_{7}}\n + -0.03125 * v_{h_{5}h_{4}}^{p_{2}p_{3}}t2_{p_{0}p_{1}}^{h_{4}h_{5}}t2_{p_{3}p_{2}}^{h_{6}h_{7}}\n + 0.0625 * v_{h_{4}h_{5}}^{p_{2}p_{3}}t2_{p_{0}p_{2}}^{h_{4}h_{5}}t2_{p_{1}p_{3}}^{h_{6}h_{7}}\n + -0.125 * v_{h_{4}h_{5}}^{p_{2}p_{3}}t2_{p_{0}p_{3}}^{h_{4}h_{5}}t2_{p_{1}p_{2}}^{h_{6}h_{7}}\n + -0.125 * v_{h_{5}h_{4}}^{p_{2}p_{3}}t2_{p_{0}p_{2}}^{h_{4}h_{5}}t2_{p_{1}p_{3}}^{h_{6}h_{7}}\n + 0.0625 * v_{h_{5}h_{4}}^{p_{2}p_{3}}t2_{p_{0}p_{3}}^{h_{4}h_{5}}t2_{p_{1}p_{2}}^{h_{6}h_{7}}\n + -0.03125 * v_{h_{4}h_{5}}^{p_{2}p_{3}}t2_{p_{0}p_{2}}^{h_{4}h_{5}}t2_{p_{3}p_{1}}^{h_{6}h_{7}}\n + 0.0625 * v_{h_{4}h_{5}}^{p_{2}p_{3}}t2_{p_{0}p_{3}}^{h_{4}h_{5}}t2_{p_{2}p_{1}}^{h_{6}h_{7}}\n + 0.0625 * v_{h_{5}h_{4}}^{p_{2}p_{3}}t2_{p_{0}p_{2}}^{h_{4}h_{5}}t2_{p_{3}p_{1}}^{h_{6}h_{7}}\n + -0.03125 * v_{h_{5}h_{4}}^{p_{2}p_{3}}t2_{p_{0}p_{3}}^{h_{4}h_{5}}t2_{p_{2}p_{1}}^{h_{6}h_{7}}\n + 0.0625 * v_{h_{4}h_{5}}^{p_{2}p_{3}}t2_{p_{1}p_{0}}^{h_{4}h_{5}}t2_{p_{2}p_{3}}^{h_{6}h_{7}}\n + -0.03125 * v_{h_{4}h_{5}}^{p_{2}p_{3}}t2_{p_{1}p_{0}}^{h_{4}h_{5}}t2_{p_{3}p_{2}}^{h_{6}h_{7}}\n + -0.03125 * v_{h_{5}h_{4}}^{p_{2}p_{3}}t2_{p_{1}p_{0}}^{h_{4}h_{5}}t2_{p_{2}p_{3}}^{h_{6}h_{7}}\n + 0.0625 * v_{h_{5}h_{4}}^{p_{2}p_{3}}t2_{p_{1}p_{0}}^{h_{4}h_{5}}t2_{p_{3}p_{2}}^{h_{6}h_{7}}\n + -0.125 * v_{h_{4}h_{5}}^{p_{2}p_{3}}t2_{p_{2}p_{0}}^{h_{4}h_{5}}t2_{p_{1}p_{3}}^{h_{6}h_{7}}\n + 0.0625 * v_{h_{4}h_{5}}^{p_{2}p_{3}}t2_{p_{3}p_{0}}^{h_{4}h_{5}}t2_{p_{1}p_{2}}^{h_{6}h_{7}}\n + 0.0625 * v_{h_{5}h_{4}}^{p_{2}p_{3}}t2_{p_{2}p_{0}}^{h_{4}h_{5}}t2_{p_{1}p_{3}}^{h_{6}h_{7}}\n + -0.125 * v_{h_{5}h_{4}}^{p_{2}p_{3}}t2_{p_{3}p_{0}}^{h_{4}h_{5}}t2_{p_{1}p_{2}}^{h_{6}h_{7}}\n + 0.0625 * v_{h_{4}h_{5}}^{p_{2}p_{3}}t2_{p_{2}p_{0}}^{h_{4}h_{5}}t2_{p_{3}p_{1}}^{h_{6}h_{7}}\n + -0.03125 * v_{h_{4}h_{5}}^{p_{2}p_{3}}t2_{p_{3}p_{0}}^{h_{4}h_{5}}t2_{p_{2}p_{1}}^{h_{6}h_{7}}\n + -0.03125 * v_{h_{5}h_{4}}^{p_{2}p_{3}}t2_{p_{2}p_{0}}^{h_{4}h_{5}}t2_{p_{3}p_{1}}^{h_{6}h_{7}}\n + 0.0625 * v_{h_{5}h_{4}}^{p_{2}p_{3}}t2_{p_{3}p_{0}}^{h_{4}h_{5}}t2_{p_{2}p_{1}}^{h_{6}h_{7}}\n + -0.03125 * v_{h_{4}h_{5}}^{p_{2}p_{3}}t2_{p_{1}p_{2}}^{h_{4}h_{5}}t2_{p_{0}p_{3}}^{h_{6}h_{7}}\n + 0.0625 * v_{h_{4}h_{5}}^{p_{2}p_{3}}t2_{p_{1}p_{3}}^{h_{4}h_{5}}t2_{p_{0}p_{2}}^{h_{6}h_{7}}\n + 0.0625 * v_{h_{5}h_{4}}^{p_{2}p_{3}}t2_{p_{1}p_{2}}^{h_{4}h_{5}}t2_{p_{0}p_{3}}^{h_{6}h_{7}}\n + -0.03125 * v_{h_{5}h_{4}}^{p_{2}p_{3}}t2_{p_{1}p_{3}}^{h_{4}h_{5}}t2_{p_{0}p_{2}}^{h_{6}h_{7}}\n + 0.0625 * v_{h_{4}h_{5}}^{p_{2}p_{3}}t2_{p_{2}p_{1}}^{h_{4}h_{5}}t2_{p_{0}p_{3}}^{h_{6}h_{7}}\n + -0.03125 * v_{h_{4}h_{5}}^{p_{2}p_{3}}t2_{p_{3}p_{1}}^{h_{4}h_{5}}t2_{p_{0}p_{2}}^{h_{6}h_{7}}\n + -0.03125 * v_{h_{5}h_{4}}^{p_{2}p_{3}}t2_{p_{2}p_{1}}^{h_{4}h_{5}}t2_{p_{0}p_{3}}^{h_{6}h_{7}}\n + 0.0625 * v_{h_{5}h_{4}}^{p_{2}p_{3}}t2_{p_{3}p_{1}}^{h_{4}h_{5}}t2_{p_{0}p_{2}}^{h_{6}h_{7}}\n + -0.125 * v_{h_{4}h_{5}}^{p_{2}p_{3}}t2_{p_{2}p_{3}}^{h_{4}h_{5}}t2_{p_{0}p_{1}}^{h_{6}h_{7}}\n + 0.0625 * v_{h_{4}h_{5}}^{p_{2}p_{3}}t2_{p_{3}p_{2}}^{h_{4}h_{5}}t2_{p_{0}p_{1}}^{h_{6}h_{7}}\n + 0.0625 * v_{h_{5}h_{4}}^{p_{2}p_{3}}t2_{p_{2}p_{3}}^{h_{4}h_{5}}t2_{p_{0}p_{1}}^{h_{6}h_{7}}\n + -0.125 * v_{h_{5}h_{4}}^{p_{2}p_{3}}t2_{p_{3}p_{2}}^{h_{4}h_{5}}t2_{p_{0}p_{1}}^{h_{6}h_{7}}\n + 0.0625 * v_{h_{4}h_{5}}^{p_{2}p_{3}}t2_{p_{1}p_{2}}^{h_{4}h_{5}}t2_{p_{3}p_{0}}^{h_{6}h_{7}}\n + -0.125 * v_{h_{4}h_{5}}^{p_{2}p_{3}}t2_{p_{1}p_{3}}^{h_{4}h_{5}}t2_{p_{2}p_{0}}^{h_{6}h_{7}}\n + -0.125 * v_{h_{5}h_{4}}^{p_{2}p_{3}}t2_{p_{1}p_{2}}^{h_{4}h_{5}}t2_{p_{3}p_{0}}^{h_{6}h_{7}}\n + 0.0625 * v_{h_{5}h_{4}}^{p_{2}p_{3}}t2_{p_{1}p_{3}}^{h_{4}h_{5}}t2_{p_{2}p_{0}}^{h_{6}h_{7}}\n + -0.125 * v_{h_{4}h_{5}}^{p_{2}p_{3}}t2_{p_{2}p_{1}}^{h_{4}h_{5}}t2_{p_{3}p_{0}}^{h_{6}h_{7}}\n + 0.0625 * v_{h_{4}h_{5}}^{p_{2}p_{3}}t2_{p_{3}p_{1}}^{h_{4}h_{5}}t2_{p_{2}p_{0}}^{h_{6}h_{7}}\n + 0.0625 * v_{h_{5}h_{4}}^{p_{2}p_{3}}t2_{p_{2}p_{1}}^{h_{4}h_{5}}t2_{p_{3}p_{0}}^{h_{6}h_{7}}\n + -0.125 * v_{h_{5}h_{4}}^{p_{2}p_{3}}t2_{p_{3}p_{1}}^{h_{4}h_{5}}t2_{p_{2}p_{0}}^{h_{6}h_{7}}\n + 0.25 * v_{h_{4}h_{5}}^{p_{2}p_{3}}t2_{p_{2}p_{3}}^{h_{4}h_{5}}t2_{p_{1}p_{0}}^{h_{6}h_{7}}\n + -0.125 * v_{h_{4}h_{5}}^{p_{2}p_{3}}t2_{p_{3}p_{2}}^{h_{4}h_{5}}t2_{p_{1}p_{0}}^{h_{6}h_{7}}\n + -0.125 * v_{h_{5}h_{4}}^{p_{2}p_{3}}t2_{p_{2}p_{3}}^{h_{4}h_{5}}t2_{p_{1}p_{0}}^{h_{6}h_{7}}\n + 0.25 * v_{h_{5}h_{4}}^{p_{2}p_{3}}t2_{p_{3}p_{2}}^{h_{4}h_{5}}t2_{p_{1}p_{0}}^{h_{6}h_{7}}\n + -0.25 * t2_{p_{0}p_{1}}^{h_{2}h_{3}}v_{h_{6}h_{7}}^{p_{4}p_{5}}t2_{p_{4}p_{5}}^{h_{6}h_{7}}\n + 0.125 * t2_{p_{0}p_{1}}^{h_{2}h_{3}}v_{h_{6}h_{7}}^{p_{4}p_{5}}t2_{p_{5}p_{4}}^{h_{6}h_{7}}\n + 0.125 * t2_{p_{0}p_{1}}^{h_{2}h_{3}}v_{h_{7}h_{6}}^{p_{4}p_{5}}t2_{p_{4}p_{5}}^{h_{6}h_{7}}\n + -0.25 * t2_{p_{0}p_{1}}^{h_{2}h_{3}}v_{h_{7}h_{6}}^{p_{4}p_{5}}t2_{p_{5}p_{4}}^{h_{6}h_{7}}\n + 0.125 * t2_{p_{1}p_{0}}^{h_{2}h_{3}}v_{h_{6}h_{7}}^{p_{4}p_{5}}t2_{p_{4}p_{5}}^{h_{6}h_{7}}\n + -0.0625 * t2_{p_{1}p_{0}}^{h_{2}h_{3}}v_{h_{6}h_{7}}^{p_{4}p_{5}}t2_{p_{5}p_{4}}^{h_{6}h_{7}}\n + -0.0625 * t2_{p_{1}p_{0}}^{h_{2}h_{3}}v_{h_{7}h_{6}}^{p_{4}p_{5}}t2_{p_{4}p_{5}}^{h_{6}h_{7}}\n + 0.125 * t2_{p_{1}p_{0}}^{h_{2}h_{3}}v_{h_{7}h_{6}}^{p_{4}p_{5}}t2_{p_{5}p_{4}}^{h_{6}h_{7}}\n + 0.125 * t2_{p_{0}p_{1}}^{h_{2}h_{3}}v_{h_{6}h_{7}}^{p_{4}p_{5}}t2_{p_{4}p_{5}}^{h_{6}h_{7}}\n + -0.0625 * t2_{p_{0}p_{1}}^{h_{2}h_{3}}v_{h_{6}h_{7}}^{p_{4}p_{5}}t2_{p_{5}p_{4}}^{h_{6}h_{7}}\n + -0.0625 * t2_{p_{0}p_{1}}^{h_{2}h_{3}}v_{h_{7}h_{6}}^{p_{4}p_{5}}t2_{p_{4}p_{5}}^{h_{6}h_{7}}\n + 0.125 * t2_{p_{0}p_{1}}^{h_{2}h_{3}}v_{h_{7}h_{6}}^{p_{4}p_{5}}t2_{p_{5}p_{4}}^{h_{6}h_{7}}\n + -0.25 * t2_{p_{1}p_{0}}^{h_{2}h_{3}}v_{h_{6}h_{7}}^{p_{4}p_{5}}t2_{p_{4}p_{5}}^{h_{6}h_{7}}\n + 0.125 * t2_{p_{1}p_{0}}^{h_{2}h_{3}}v_{h_{6}h_{7}}^{p_{4}p_{5}}t2_{p_{5}p_{4}}^{h_{6}h_{7}}\n + 0.125 * t2_{p_{1}p_{0}}^{h_{2}h_{3}}v_{h_{7}h_{6}}^{p_{4}p_{5}}t2_{p_{4}p_{5}}^{h_{6}h_{7}}\n + -0.25 * t2_{p_{1}p_{0}}^{h_{2}h_{3}}v_{h_{7}h_{6}}^{p_{4}p_{5}}t2_{p_{5}p_{4}}^{h_{6}h_{7}}\n + -0.25 * t2_{p_{0}p_{1}}^{h_{2}h_{3}}v_{h_{6}h_{7}}^{p_{4}p_{5}}t2_{p_{4}p_{5}}^{h_{6}h_{7}}\n + 0.125 * t2_{p_{0}p_{1}}^{h_{2}h_{3}}v_{h_{6}h_{7}}^{p_{4}p_{5}}t2_{p_{5}p_{4}}^{h_{6}h_{7}}\n + 0.125 * t2_{p_{0}p_{1}}^{h_{2}h_{3}}v_{h_{7}h_{6}}^{p_{4}p_{5}}t2_{p_{4}p_{5}}^{h_{6}h_{7}}\n + -0.25 * t2_{p_{0}p_{1}}^{h_{2}h_{3}}v_{h_{7}h_{6}}^{p_{4}p_{5}}t2_{p_{5}p_{4}}^{h_{6}h_{7}}\n + 0.125 * t2_{p_{1}p_{0}}^{h_{2}h_{3}}v_{h_{6}h_{7}}^{p_{4}p_{5}}t2_{p_{4}p_{5}}^{h_{6}h_{7}}\n + -0.0625 * t2_{p_{1}p_{0}}^{h_{2}h_{3}}v_{h_{6}h_{7}}^{p_{4}p_{5}}t2_{p_{5}p_{4}}^{h_{6}h_{7}}\n + -0.0625 * t2_{p_{1}p_{0}}^{h_{2}h_{3}}v_{h_{7}h_{6}}^{p_{4}p_{5}}t2_{p_{4}p_{5}}^{h_{6}h_{7}}\n + 0.125 * t2_{p_{1}p_{0}}^{h_{2}h_{3}}v_{h_{7}h_{6}}^{p_{4}p_{5}}t2_{p_{5}p_{4}}^{h_{6}h_{7}}\n + 0.125 * t2_{p_{0}p_{1}}^{h_{2}h_{3}}v_{h_{6}h_{7}}^{p_{4}p_{5}}t2_{p_{4}p_{5}}^{h_{6}h_{7}}\n + -0.0625 * t2_{p_{0}p_{1}}^{h_{2}h_{3}}v_{h_{6}h_{7}}^{p_{4}p_{5}}t2_{p_{5}p_{4}}^{h_{6}h_{7}}\n + -0.0625 * t2_{p_{0}p_{1}}^{h_{2}h_{3}}v_{h_{7}h_{6}}^{p_{4}p_{5}}t2_{p_{4}p_{5}}^{h_{6}h_{7}}\n + 0.125 * t2_{p_{0}p_{1}}^{h_{2}h_{3}}v_{h_{7}h_{6}}^{p_{4}p_{5}}t2_{p_{5}p_{4}}^{h_{6}h_{7}}\n + -0.25 * t2_{p_{1}p_{0}}^{h_{2}h_{3}}v_{h_{6}h_{7}}^{p_{4}p_{5}}t2_{p_{4}p_{5}}^{h_{6}h_{7}}\n + 0.125 * t2_{p_{1}p_{0}}^{h_{2}h_{3}}v_{h_{6}h_{7}}^{p_{4}p_{5}}t2_{p_{5}p_{4}}^{h_{6}h_{7}}\n + 0.125 * t2_{p_{1}p_{0}}^{h_{2}h_{3}}v_{h_{7}h_{6}}^{p_{4}p_{5}}t2_{p_{4}p_{5}}^{h_{6}h_{7}}\n + -0.25 * t2_{p_{1}p_{0}}^{h_{2}h_{3}}v_{h_{7}h_{6}}^{p_{4}p_{5}}t2_{p_{5}p_{4}}^{h_{6}h_{7}}\n"
     ]
    }
   ],
   "source": [
    "print(testCCDDoublesResidual)"
   ]
  },
  {
   "cell_type": "code",
   "execution_count": null,
   "metadata": {},
   "outputs": [],
   "source": []
  }
 ],
 "metadata": {
  "kernelspec": {
   "display_name": "Python 3",
   "language": "python",
   "name": "python3"
  },
  "language_info": {
   "codemirror_mode": {
    "name": "ipython",
    "version": 3
   },
   "file_extension": ".py",
   "mimetype": "text/x-python",
   "name": "python",
   "nbconvert_exporter": "python",
   "pygments_lexer": "ipython3",
   "version": "3.8.0"
  }
 },
 "nbformat": 4,
 "nbformat_minor": 2
}