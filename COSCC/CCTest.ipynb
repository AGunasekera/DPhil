{
 "metadata": {
  "language_info": {
   "codemirror_mode": {
    "name": "ipython",
    "version": 3
   },
   "file_extension": ".py",
   "mimetype": "text/x-python",
   "name": "python",
   "nbconvert_exporter": "python",
   "pygments_lexer": "ipython3",
   "version": "3.8.0"
  },
  "orig_nbformat": 2,
  "kernelspec": {
   "name": "python3",
   "display_name": "Python 3.8.0 64-bit"
  },
  "interpreter": {
   "hash": "aee8b7b246df8f9039afb4144a1f6fd8d2ca17a180786b69acc140d282b71a49"
  }
 },
 "nbformat": 4,
 "nbformat_minor": 2,
 "cells": [
  {
   "cell_type": "code",
   "execution_count": 1,
   "source": [
    "from pyscf import gto, scf, ao2mo, fci\n",
    "import CC, Wick\n"
   ],
   "outputs": [],
   "metadata": {}
  },
  {
   "cell_type": "code",
   "execution_count": 2,
   "source": [
    "bohr = 0.529177249\n",
    "\n",
    "H2sep = 1.605 * bohr\n",
    "\n",
    "mol = gto.Mole()\n",
    "mol.verbose = 1\n",
    "mol.atom = 'H 0 0 0; H 0 0 ' + str(H2sep)\n",
    "mol.basis = 'sto-3g'\n",
    "mol.spin = 0\n",
    "mol.build()\n",
    "\n",
    "Enuc = mol.energy_nuc()\n",
    "\n",
    "mf = scf.ROHF(mol)\n",
    "mf.kernel()\n",
    "\n",
    "h1 = mf.mo_coeff.T.dot(mf.get_hcore()).dot(mf.mo_coeff)\n",
    "eri = ao2mo.kernel(mol, mf.mo_coeff)\n",
    "\n",
    "cisolver = fci.FCI(mol, mf.mo_coeff)"
   ],
   "outputs": [],
   "metadata": {}
  },
  {
   "cell_type": "code",
   "execution_count": 3,
   "source": [
    "cisolver.kernel()"
   ],
   "outputs": [
    {
     "output_type": "execute_result",
     "data": {
      "text/plain": [
       "(-1.1284543355083052,\n",
       " array([[ 9.90656547e-01,  2.77555756e-17],\n",
       "        [ 1.91460513e-17, -1.36380375e-01]]))"
      ]
     },
     "metadata": {},
     "execution_count": 3
    }
   ],
   "metadata": {}
  },
  {
   "cell_type": "code",
   "execution_count": 4,
   "source": [
    "H2CCSD = CC.coupledCluster(mf, range(1,3))"
   ],
   "outputs": [
    {
     "output_type": "stream",
     "name": "stdout",
     "text": [
      "2\n"
     ]
    }
   ],
   "metadata": {}
  },
  {
   "cell_type": "code",
   "execution_count": 9,
   "source": [
    "H2CCSDExcitations = H2CCSD[0]\n",
    "H2CCSDAmplitudes = H2CCSD[1]\n",
    "H2CCSDClusterOperator = CC.getClusterOperator(H2CCSDExcitations, H2CCSDAmplitudes)"
   ],
   "outputs": [
    {
     "output_type": "error",
     "ename": "TypeError",
     "evalue": "'operatorSum' object is not subscriptable",
     "traceback": [
      "\u001b[0;31m---------------------------------------------------------------------------\u001b[0m",
      "\u001b[0;31mTypeError\u001b[0m                                 Traceback (most recent call last)",
      "\u001b[0;32m<ipython-input-9-95407c691acd>\u001b[0m in \u001b[0;36m<module>\u001b[0;34m\u001b[0m\n\u001b[0;32m----> 1\u001b[0;31m \u001b[0mH2CCSDExcitations\u001b[0m \u001b[0;34m=\u001b[0m \u001b[0mH2CCSDClusterOperator\u001b[0m\u001b[0;34m[\u001b[0m\u001b[0;36m0\u001b[0m\u001b[0;34m]\u001b[0m\u001b[0;34m\u001b[0m\u001b[0;34m\u001b[0m\u001b[0m\n\u001b[0m\u001b[1;32m      2\u001b[0m \u001b[0mH2CCSDAmplitudes\u001b[0m \u001b[0;34m=\u001b[0m \u001b[0mH2CCSDClusterOperator\u001b[0m\u001b[0;34m[\u001b[0m\u001b[0;36m1\u001b[0m\u001b[0;34m]\u001b[0m\u001b[0;34m\u001b[0m\u001b[0;34m\u001b[0m\u001b[0m\n\u001b[1;32m      3\u001b[0m \u001b[0mH2CCSDClusterOperator\u001b[0m \u001b[0;34m=\u001b[0m \u001b[0mCC\u001b[0m\u001b[0;34m.\u001b[0m\u001b[0mgetClusterOperator\u001b[0m\u001b[0;34m(\u001b[0m\u001b[0mH2CCSDExcitations\u001b[0m\u001b[0;34m,\u001b[0m \u001b[0mH2CCSDAmplitudes\u001b[0m\u001b[0;34m)\u001b[0m\u001b[0;34m\u001b[0m\u001b[0;34m\u001b[0m\u001b[0m\n",
      "\u001b[0;31mTypeError\u001b[0m: 'operatorSum' object is not subscriptable"
     ]
    }
   ],
   "metadata": {}
  },
  {
   "cell_type": "code",
   "execution_count": 24,
   "source": [
    "print(H2CCSDClusterOperator)"
   ],
   "outputs": [
    {
     "output_type": "stream",
     "name": "stdout",
     "text": [
      "-0.0\n",
      " + -4.394149808727142e-17 * a^{1\\alpha}a_{0\\alpha}\n",
      " + -4.394149808727142e-17 * a^{1\\beta}a_{0\\beta}\n",
      " + -0.06883332874447325 * a^{1\\alpha}a^{1\\beta}a_{0\\beta}a_{0\\alpha}\n",
      " + -0.06883332874447325 * a^{1\\beta}a^{1\\alpha}a_{0\\alpha}a_{0\\beta}\n"
     ]
    }
   ],
   "metadata": {}
  },
  {
   "cell_type": "code",
   "execution_count": 25,
   "source": [
    "hamiltonian = CC.get1bodyHamiltonian(mf) + CC.get2bodyHamiltonian(mf)"
   ],
   "outputs": [],
   "metadata": {}
  },
  {
   "cell_type": "code",
   "execution_count": 26,
   "source": [
    "waveOperator = CC.exponentialOperator(H2CCSDClusterOperator, 4)\n",
    "inverseWaveOperator = CC.exponentialOperator((-1) * H2CCSDClusterOperator, 4)"
   ],
   "outputs": [],
   "metadata": {}
  },
  {
   "cell_type": "code",
   "execution_count": 27,
   "source": [
    "CCSDEnergy = Wick.vacuumExpectationValue(inverseWaveOperator * hamiltonian * waveOperator, [1,0]) + mol.energy_nuc()\n",
    "print(CCSDEnergy)"
   ],
   "outputs": [
    {
     "output_type": "stream",
     "name": "stdout",
     "text": [
      "-1.1284543355083052\n"
     ]
    }
   ],
   "metadata": {}
  },
  {
   "cell_type": "code",
   "execution_count": 28,
   "source": [
    "print(CC.BCHSimilarityTransform(hamiltonian, CC.spinFreeNtupleExcitation((1,1), (0,0)), 4))"
   ],
   "outputs": [
    {
     "output_type": "stream",
     "name": "stdout",
     "text": [
      "0.0\n",
      " + -4.7142356915405136e-17 * a^{1\\alpha}a_{0\\alpha}\n",
      " + -0.5337491016607854 * a^{1\\alpha}a_{1\\alpha}\n",
      " + -4.7142356915405136e-17 * a^{1\\beta}a_{0\\beta}\n",
      " + -0.5337491016607854 * a^{1\\beta}a_{1\\beta}\n",
      " + -1.1898506186070186 * a^{0\\alpha}a_{0\\alpha}\n",
      " + 2.600212552842601e-17 * a^{0\\alpha}a_{1\\alpha}\n",
      " + -1.1898506186070186 * a^{0\\beta}a_{0\\beta}\n",
      " + 2.600212552842601e-17 * a^{0\\beta}a_{1\\beta}\n",
      " + 0.0\n",
      " + 0.0\n",
      " + 0.0\n",
      " + 0.0\n",
      " + 0.0\n",
      " + 0.3226247132942424 * a^{0\\alpha}a^{1\\alpha}a_{1\\alpha}a_{0\\alpha}\n",
      " + 0.0\n",
      " + 4.163336342344337e-17 * a^{0\\alpha}a^{1\\beta}a_{0\\beta}a_{0\\alpha}\n",
      " + 0.3226247132942424 * a^{0\\alpha}a^{1\\beta}a_{1\\beta}a_{0\\alpha}\n",
      " + 2.7755575615628914e-17 * a^{0\\alpha}a^{1\\beta}a_{1\\beta}a_{1\\alpha}\n",
      " + 0.0\n",
      " + 0.0\n",
      " + 0.0\n",
      " + 0.0\n",
      " + 4.163336342344337e-17 * a^{0\\beta}a^{1\\alpha}a_{0\\alpha}a_{0\\beta}\n",
      " + 0.3226247132942424 * a^{0\\beta}a^{1\\alpha}a_{1\\alpha}a_{0\\beta}\n",
      " + 2.7755575615628914e-17 * a^{0\\beta}a^{1\\alpha}a_{1\\alpha}a_{1\\beta}\n",
      " + 0.0\n",
      " + 0.3226247132942424 * a^{0\\beta}a^{1\\beta}a_{1\\beta}a_{0\\beta}\n",
      " + 0.0\n",
      " + 0.0\n",
      " + 0.3226247132942422 * a^{1\\alpha}a^{0\\alpha}a_{0\\alpha}a_{1\\alpha}\n",
      " + 0.0\n",
      " + 5.204170427930421e-17 * a^{1\\alpha}a^{0\\beta}a_{0\\beta}a_{0\\alpha}\n",
      " + 0.3226247132942422 * a^{1\\alpha}a^{0\\beta}a_{0\\beta}a_{1\\alpha}\n",
      " + 6.938893903907228e-17 * a^{1\\alpha}a^{0\\beta}a_{1\\beta}a_{1\\alpha}\n",
      " + 0.0\n",
      " + 0.0\n",
      " + 0.0\n",
      " + 0.0\n",
      " + 0.09376099045135429 * a^{1\\alpha}a^{1\\beta}a_{0\\beta}a_{0\\alpha}\n",
      " + 6.938893903907228e-17 * a^{1\\alpha}a^{1\\beta}a_{0\\beta}a_{1\\alpha}\n",
      " + 2.7755575615628914e-17 * a^{1\\alpha}a^{1\\beta}a_{1\\beta}a_{0\\alpha}\n",
      " + 0.33906809184265285 * a^{1\\alpha}a^{1\\beta}a_{1\\beta}a_{1\\alpha}\n",
      " + 5.204170427930421e-17 * a^{1\\beta}a^{0\\alpha}a_{0\\alpha}a_{0\\beta}\n",
      " + 0.3226247132942422 * a^{1\\beta}a^{0\\alpha}a_{0\\alpha}a_{1\\beta}\n",
      " + 6.938893903907228e-17 * a^{1\\beta}a^{0\\alpha}a_{1\\alpha}a_{1\\beta}\n",
      " + 0.0\n",
      " + 0.3226247132942422 * a^{1\\beta}a^{0\\beta}a_{0\\beta}a_{1\\beta}\n",
      " + 0.0\n",
      " + 0.09376099045135429 * a^{1\\beta}a^{1\\alpha}a_{0\\alpha}a_{0\\beta}\n",
      " + 6.938893903907228e-17 * a^{1\\beta}a^{1\\alpha}a_{0\\alpha}a_{1\\beta}\n",
      " + 2.7755575615628914e-17 * a^{1\\beta}a^{1\\alpha}a_{1\\alpha}a_{0\\beta}\n",
      " + 0.33906809184265285 * a^{1\\beta}a^{1\\alpha}a_{1\\alpha}a_{1\\beta}\n",
      " + 0.0\n",
      " + 0.0\n",
      " + 0.0\n",
      " + 0.0\n",
      " + 0.3270047556780619 * a^{0\\alpha}a^{0\\beta}a_{0\\beta}a_{0\\alpha}\n",
      " + 5.204170427930421e-17 * a^{0\\alpha}a^{0\\beta}a_{0\\beta}a_{1\\alpha}\n",
      " + 4.163336342344337e-17 * a^{0\\alpha}a^{0\\beta}a_{1\\beta}a_{0\\alpha}\n",
      " + 0.09376099045135429 * a^{0\\alpha}a^{0\\beta}a_{1\\beta}a_{1\\alpha}\n",
      " + 0.3270047556780619 * a^{0\\beta}a^{0\\alpha}a_{0\\alpha}a_{0\\beta}\n",
      " + 5.204170427930421e-17 * a^{0\\beta}a^{0\\alpha}a_{0\\alpha}a_{1\\beta}\n",
      " + 4.163336342344337e-17 * a^{0\\beta}a^{0\\alpha}a_{1\\alpha}a_{0\\beta}\n",
      " + 0.09376099045135429 * a^{0\\beta}a^{0\\alpha}a_{1\\alpha}a_{1\\beta}\n",
      " + 1.1898506186070186 * a^{1\\alpha}a^{1\\beta}a_{0\\beta}a_{0\\alpha}a^{0\\alpha}a_{0\\alpha}\n",
      " + -2.600212552842601e-17 * a^{1\\alpha}a^{1\\beta}a_{0\\beta}a_{0\\alpha}a^{0\\alpha}a_{1\\alpha}\n",
      " + 1.1898506186070186 * a^{1\\alpha}a^{1\\beta}a_{0\\beta}a_{0\\alpha}a^{0\\beta}a_{0\\beta}\n",
      " + -2.600212552842601e-17 * a^{1\\alpha}a^{1\\beta}a_{0\\beta}a_{0\\alpha}a^{0\\beta}a_{1\\beta}\n",
      " + -0.5337491016607854 * a^{1\\alpha}a_{1\\alpha}a^{1\\alpha}a^{1\\beta}a_{0\\beta}a_{0\\alpha}\n",
      " + -0.5337491016607854 * a^{1\\alpha}a_{1\\alpha}a^{1\\beta}a^{1\\alpha}a_{0\\alpha}a_{0\\beta}\n",
      " + 1.1898506186070186 * a^{1\\beta}a^{1\\alpha}a_{0\\alpha}a_{0\\beta}a^{0\\alpha}a_{0\\alpha}\n",
      " + -2.600212552842601e-17 * a^{1\\beta}a^{1\\alpha}a_{0\\alpha}a_{0\\beta}a^{0\\alpha}a_{1\\alpha}\n",
      " + 1.1898506186070186 * a^{1\\beta}a^{1\\alpha}a_{0\\alpha}a_{0\\beta}a^{0\\beta}a_{0\\beta}\n",
      " + -2.600212552842601e-17 * a^{1\\beta}a^{1\\alpha}a_{0\\alpha}a_{0\\beta}a^{0\\beta}a_{1\\beta}\n",
      " + -0.5337491016607854 * a^{1\\beta}a_{1\\beta}a^{1\\alpha}a^{1\\beta}a_{0\\beta}a_{0\\alpha}\n",
      " + -0.5337491016607854 * a^{1\\beta}a_{1\\beta}a^{1\\beta}a^{1\\alpha}a_{0\\alpha}a_{0\\beta}\n",
      " + 2.600212552842601e-17 * a^{0\\alpha}a_{1\\alpha}a^{1\\alpha}a^{1\\beta}a_{0\\beta}a_{0\\alpha}\n",
      " + 2.600212552842601e-17 * a^{0\\alpha}a_{1\\alpha}a^{1\\beta}a^{1\\alpha}a_{0\\alpha}a_{0\\beta}\n",
      " + 2.600212552842601e-17 * a^{0\\beta}a_{1\\beta}a^{1\\alpha}a^{1\\beta}a_{0\\beta}a_{0\\alpha}\n",
      " + 2.600212552842601e-17 * a^{0\\beta}a_{1\\beta}a^{1\\beta}a^{1\\alpha}a_{0\\alpha}a_{0\\beta}\n",
      " + 2.7755575615628914e-17 * a^{0\\alpha}a^{1\\beta}a_{1\\beta}a_{1\\alpha}a^{1\\alpha}a^{1\\beta}a_{0\\beta}a_{0\\alpha}\n",
      " + 2.7755575615628914e-17 * a^{0\\alpha}a^{1\\beta}a_{1\\beta}a_{1\\alpha}a^{1\\beta}a^{1\\alpha}a_{0\\alpha}a_{0\\beta}\n",
      " + 2.7755575615628914e-17 * a^{0\\beta}a^{1\\alpha}a_{1\\alpha}a_{1\\beta}a^{1\\alpha}a^{1\\beta}a_{0\\beta}a_{0\\alpha}\n",
      " + 2.7755575615628914e-17 * a^{0\\beta}a^{1\\alpha}a_{1\\alpha}a_{1\\beta}a^{1\\beta}a^{1\\alpha}a_{0\\alpha}a_{0\\beta}\n",
      " + 6.938893903907228e-17 * a^{1\\alpha}a^{0\\beta}a_{1\\beta}a_{1\\alpha}a^{1\\alpha}a^{1\\beta}a_{0\\beta}a_{0\\alpha}\n",
      " + 6.938893903907228e-17 * a^{1\\alpha}a^{0\\beta}a_{1\\beta}a_{1\\alpha}a^{1\\beta}a^{1\\alpha}a_{0\\alpha}a_{0\\beta}\n",
      " + -0.3270047556780619 * a^{1\\alpha}a^{1\\beta}a_{0\\beta}a_{0\\alpha}a^{0\\alpha}a^{0\\beta}a_{0\\beta}a_{0\\alpha}\n",
      " + -5.204170427930421e-17 * a^{1\\alpha}a^{1\\beta}a_{0\\beta}a_{0\\alpha}a^{0\\alpha}a^{0\\beta}a_{0\\beta}a_{1\\alpha}\n",
      " + -4.163336342344337e-17 * a^{1\\alpha}a^{1\\beta}a_{0\\beta}a_{0\\alpha}a^{0\\alpha}a^{0\\beta}a_{1\\beta}a_{0\\alpha}\n",
      " + -0.09376099045135429 * a^{1\\alpha}a^{1\\beta}a_{0\\beta}a_{0\\alpha}a^{0\\alpha}a^{0\\beta}a_{1\\beta}a_{1\\alpha}\n",
      " + -0.3270047556780619 * a^{1\\alpha}a^{1\\beta}a_{0\\beta}a_{0\\alpha}a^{0\\beta}a^{0\\alpha}a_{0\\alpha}a_{0\\beta}\n",
      " + -5.204170427930421e-17 * a^{1\\alpha}a^{1\\beta}a_{0\\beta}a_{0\\alpha}a^{0\\beta}a^{0\\alpha}a_{0\\alpha}a_{1\\beta}\n",
      " + -4.163336342344337e-17 * a^{1\\alpha}a^{1\\beta}a_{0\\beta}a_{0\\alpha}a^{0\\beta}a^{0\\alpha}a_{1\\alpha}a_{0\\beta}\n",
      " + -0.09376099045135429 * a^{1\\alpha}a^{1\\beta}a_{0\\beta}a_{0\\alpha}a^{0\\beta}a^{0\\alpha}a_{1\\alpha}a_{1\\beta}\n",
      " + 0.33906809184265285 * a^{1\\alpha}a^{1\\beta}a_{1\\beta}a_{1\\alpha}a^{1\\alpha}a^{1\\beta}a_{0\\beta}a_{0\\alpha}\n",
      " + 0.33906809184265285 * a^{1\\alpha}a^{1\\beta}a_{1\\beta}a_{1\\alpha}a^{1\\beta}a^{1\\alpha}a_{0\\alpha}a_{0\\beta}\n",
      " + 6.938893903907228e-17 * a^{1\\beta}a^{0\\alpha}a_{1\\alpha}a_{1\\beta}a^{1\\alpha}a^{1\\beta}a_{0\\beta}a_{0\\alpha}\n",
      " + 6.938893903907228e-17 * a^{1\\beta}a^{0\\alpha}a_{1\\alpha}a_{1\\beta}a^{1\\beta}a^{1\\alpha}a_{0\\alpha}a_{0\\beta}\n",
      " + -0.3270047556780619 * a^{1\\beta}a^{1\\alpha}a_{0\\alpha}a_{0\\beta}a^{0\\alpha}a^{0\\beta}a_{0\\beta}a_{0\\alpha}\n",
      " + -5.204170427930421e-17 * a^{1\\beta}a^{1\\alpha}a_{0\\alpha}a_{0\\beta}a^{0\\alpha}a^{0\\beta}a_{0\\beta}a_{1\\alpha}\n",
      " + -4.163336342344337e-17 * a^{1\\beta}a^{1\\alpha}a_{0\\alpha}a_{0\\beta}a^{0\\alpha}a^{0\\beta}a_{1\\beta}a_{0\\alpha}\n",
      " + -0.09376099045135429 * a^{1\\beta}a^{1\\alpha}a_{0\\alpha}a_{0\\beta}a^{0\\alpha}a^{0\\beta}a_{1\\beta}a_{1\\alpha}\n",
      " + -0.3270047556780619 * a^{1\\beta}a^{1\\alpha}a_{0\\alpha}a_{0\\beta}a^{0\\beta}a^{0\\alpha}a_{0\\alpha}a_{0\\beta}\n",
      " + -5.204170427930421e-17 * a^{1\\beta}a^{1\\alpha}a_{0\\alpha}a_{0\\beta}a^{0\\beta}a^{0\\alpha}a_{0\\alpha}a_{1\\beta}\n",
      " + -4.163336342344337e-17 * a^{1\\beta}a^{1\\alpha}a_{0\\alpha}a_{0\\beta}a^{0\\beta}a^{0\\alpha}a_{1\\alpha}a_{0\\beta}\n",
      " + -0.09376099045135429 * a^{1\\beta}a^{1\\alpha}a_{0\\alpha}a_{0\\beta}a^{0\\beta}a^{0\\alpha}a_{1\\alpha}a_{1\\beta}\n",
      " + 0.33906809184265285 * a^{1\\beta}a^{1\\alpha}a_{1\\alpha}a_{1\\beta}a^{1\\alpha}a^{1\\beta}a_{0\\beta}a_{0\\alpha}\n",
      " + 0.33906809184265285 * a^{1\\beta}a^{1\\alpha}a_{1\\alpha}a_{1\\beta}a^{1\\beta}a^{1\\alpha}a_{0\\alpha}a_{0\\beta}\n",
      " + 0.09376099045135429 * a^{0\\alpha}a^{0\\beta}a_{1\\beta}a_{1\\alpha}a^{1\\alpha}a^{1\\beta}a_{0\\beta}a_{0\\alpha}\n",
      " + 0.09376099045135429 * a^{0\\alpha}a^{0\\beta}a_{1\\beta}a_{1\\alpha}a^{1\\beta}a^{1\\alpha}a_{0\\alpha}a_{0\\beta}\n",
      " + 0.09376099045135429 * a^{0\\beta}a^{0\\alpha}a_{1\\alpha}a_{1\\beta}a^{1\\alpha}a^{1\\beta}a_{0\\beta}a_{0\\alpha}\n",
      " + 0.09376099045135429 * a^{0\\beta}a^{0\\alpha}a_{1\\alpha}a_{1\\beta}a^{1\\beta}a^{1\\alpha}a_{0\\alpha}a_{0\\beta}\n",
      " + -0.09376099045135429 * a^{1\\alpha}a^{1\\beta}a_{0\\beta}a_{0\\alpha}a^{0\\alpha}a^{0\\beta}a_{1\\beta}a_{1\\alpha}a^{1\\alpha}a^{1\\beta}a_{0\\beta}a_{0\\alpha}\n",
      " + -0.09376099045135429 * a^{1\\alpha}a^{1\\beta}a_{0\\beta}a_{0\\alpha}a^{0\\alpha}a^{0\\beta}a_{1\\beta}a_{1\\alpha}a^{1\\beta}a^{1\\alpha}a_{0\\alpha}a_{0\\beta}\n",
      " + -0.09376099045135429 * a^{1\\alpha}a^{1\\beta}a_{0\\beta}a_{0\\alpha}a^{0\\beta}a^{0\\alpha}a_{1\\alpha}a_{1\\beta}a^{1\\alpha}a^{1\\beta}a_{0\\beta}a_{0\\alpha}\n",
      " + -0.09376099045135429 * a^{1\\alpha}a^{1\\beta}a_{0\\beta}a_{0\\alpha}a^{0\\beta}a^{0\\alpha}a_{1\\alpha}a_{1\\beta}a^{1\\beta}a^{1\\alpha}a_{0\\alpha}a_{0\\beta}\n",
      " + -0.09376099045135429 * a^{1\\beta}a^{1\\alpha}a_{0\\alpha}a_{0\\beta}a^{0\\alpha}a^{0\\beta}a_{1\\beta}a_{1\\alpha}a^{1\\alpha}a^{1\\beta}a_{0\\beta}a_{0\\alpha}\n",
      " + -0.09376099045135429 * a^{1\\beta}a^{1\\alpha}a_{0\\alpha}a_{0\\beta}a^{0\\alpha}a^{0\\beta}a_{1\\beta}a_{1\\alpha}a^{1\\beta}a^{1\\alpha}a_{0\\alpha}a_{0\\beta}\n",
      " + -0.09376099045135429 * a^{1\\beta}a^{1\\alpha}a_{0\\alpha}a_{0\\beta}a^{0\\beta}a^{0\\alpha}a_{1\\alpha}a_{1\\beta}a^{1\\alpha}a^{1\\beta}a_{0\\beta}a_{0\\alpha}\n",
      " + -0.09376099045135429 * a^{1\\beta}a^{1\\alpha}a_{0\\alpha}a_{0\\beta}a^{0\\beta}a^{0\\alpha}a_{1\\alpha}a_{1\\beta}a^{1\\beta}a^{1\\alpha}a_{0\\alpha}a_{0\\beta}\n"
     ]
    }
   ],
   "metadata": {}
  },
  {
   "cell_type": "code",
   "execution_count": 29,
   "source": [
    "print(hamiltonian)"
   ],
   "outputs": [
    {
     "output_type": "stream",
     "name": "stdout",
     "text": [
      "-1.1898506186070186 * a^{0\\alpha}a_{0\\alpha}\n",
      " + 2.600212552842601e-17 * a^{0\\alpha}a_{1\\alpha}\n",
      " + -1.1898506186070186 * a^{0\\beta}a_{0\\beta}\n",
      " + 2.600212552842601e-17 * a^{0\\beta}a_{1\\beta}\n",
      " + -4.7142356915405136e-17 * a^{1\\alpha}a_{0\\alpha}\n",
      " + -0.5337491016607854 * a^{1\\alpha}a_{1\\alpha}\n",
      " + -4.7142356915405136e-17 * a^{1\\beta}a_{0\\beta}\n",
      " + -0.5337491016607854 * a^{1\\beta}a_{1\\beta}\n",
      " + 0.0\n",
      " + 0.0\n",
      " + 0.0\n",
      " + 0.0\n",
      " + 0.3270047556780619 * a^{0\\alpha}a^{0\\beta}a_{0\\beta}a_{0\\alpha}\n",
      " + 5.204170427930421e-17 * a^{0\\alpha}a^{0\\beta}a_{0\\beta}a_{1\\alpha}\n",
      " + 4.163336342344337e-17 * a^{0\\alpha}a^{0\\beta}a_{1\\beta}a_{0\\alpha}\n",
      " + 0.09376099045135429 * a^{0\\alpha}a^{0\\beta}a_{1\\beta}a_{1\\alpha}\n",
      " + 4.163336342344337e-17 * a^{0\\alpha}a^{1\\alpha}a_{0\\alpha}a_{0\\alpha}\n",
      " + 0.3226247132942424 * a^{0\\alpha}a^{1\\alpha}a_{1\\alpha}a_{0\\alpha}\n",
      " + 2.7755575615628914e-17 * a^{0\\alpha}a^{1\\alpha}a_{1\\alpha}a_{1\\alpha}\n",
      " + 4.163336342344337e-17 * a^{0\\alpha}a^{1\\beta}a_{0\\beta}a_{0\\alpha}\n",
      " + 0.3226247132942424 * a^{0\\alpha}a^{1\\beta}a_{1\\beta}a_{0\\alpha}\n",
      " + 2.7755575615628914e-17 * a^{0\\alpha}a^{1\\beta}a_{1\\beta}a_{1\\alpha}\n",
      " + 0.3270047556780619 * a^{0\\beta}a^{0\\alpha}a_{0\\alpha}a_{0\\beta}\n",
      " + 5.204170427930421e-17 * a^{0\\beta}a^{0\\alpha}a_{0\\alpha}a_{1\\beta}\n",
      " + 4.163336342344337e-17 * a^{0\\beta}a^{0\\alpha}a_{1\\alpha}a_{0\\beta}\n",
      " + 0.09376099045135429 * a^{0\\beta}a^{0\\alpha}a_{1\\alpha}a_{1\\beta}\n",
      " + 0.3270047556780619 * a^{0\\beta}a^{0\\beta}a_{0\\beta}a_{0\\beta}\n",
      " + 5.204170427930421e-17 * a^{0\\beta}a^{0\\beta}a_{0\\beta}a_{1\\beta}\n",
      " + 4.163336342344337e-17 * a^{0\\beta}a^{0\\beta}a_{1\\beta}a_{0\\beta}\n",
      " + 0.09376099045135429 * a^{0\\beta}a^{0\\beta}a_{1\\beta}a_{1\\beta}\n",
      " + 4.163336342344337e-17 * a^{0\\beta}a^{1\\alpha}a_{0\\alpha}a_{0\\beta}\n",
      " + 0.3226247132942424 * a^{0\\beta}a^{1\\alpha}a_{1\\alpha}a_{0\\beta}\n",
      " + 2.7755575615628914e-17 * a^{0\\beta}a^{1\\alpha}a_{1\\alpha}a_{1\\beta}\n",
      " + 4.163336342344337e-17 * a^{0\\beta}a^{1\\beta}a_{0\\beta}a_{0\\beta}\n",
      " + 0.3226247132942424 * a^{0\\beta}a^{1\\beta}a_{1\\beta}a_{0\\beta}\n",
      " + 2.7755575615628914e-17 * a^{0\\beta}a^{1\\beta}a_{1\\beta}a_{1\\beta}\n",
      " + 5.204170427930421e-17 * a^{1\\alpha}a^{0\\alpha}a_{0\\alpha}a_{0\\alpha}\n",
      " + 0.3226247132942422 * a^{1\\alpha}a^{0\\alpha}a_{0\\alpha}a_{1\\alpha}\n",
      " + 6.938893903907228e-17 * a^{1\\alpha}a^{0\\alpha}a_{1\\alpha}a_{1\\alpha}\n",
      " + 5.204170427930421e-17 * a^{1\\alpha}a^{0\\beta}a_{0\\beta}a_{0\\alpha}\n",
      " + 0.3226247132942422 * a^{1\\alpha}a^{0\\beta}a_{0\\beta}a_{1\\alpha}\n",
      " + 6.938893903907228e-17 * a^{1\\alpha}a^{0\\beta}a_{1\\beta}a_{1\\alpha}\n",
      " + 0.09376099045135429 * a^{1\\alpha}a^{1\\alpha}a_{0\\alpha}a_{0\\alpha}\n",
      " + 6.938893903907228e-17 * a^{1\\alpha}a^{1\\alpha}a_{0\\alpha}a_{1\\alpha}\n",
      " + 2.7755575615628914e-17 * a^{1\\alpha}a^{1\\alpha}a_{1\\alpha}a_{0\\alpha}\n",
      " + 0.33906809184265285 * a^{1\\alpha}a^{1\\alpha}a_{1\\alpha}a_{1\\alpha}\n",
      " + 0.09376099045135429 * a^{1\\alpha}a^{1\\beta}a_{0\\beta}a_{0\\alpha}\n",
      " + 6.938893903907228e-17 * a^{1\\alpha}a^{1\\beta}a_{0\\beta}a_{1\\alpha}\n",
      " + 2.7755575615628914e-17 * a^{1\\alpha}a^{1\\beta}a_{1\\beta}a_{0\\alpha}\n",
      " + 0.33906809184265285 * a^{1\\alpha}a^{1\\beta}a_{1\\beta}a_{1\\alpha}\n",
      " + 5.204170427930421e-17 * a^{1\\beta}a^{0\\alpha}a_{0\\alpha}a_{0\\beta}\n",
      " + 0.3226247132942422 * a^{1\\beta}a^{0\\alpha}a_{0\\alpha}a_{1\\beta}\n",
      " + 6.938893903907228e-17 * a^{1\\beta}a^{0\\alpha}a_{1\\alpha}a_{1\\beta}\n",
      " + 5.204170427930421e-17 * a^{1\\beta}a^{0\\beta}a_{0\\beta}a_{0\\beta}\n",
      " + 0.3226247132942422 * a^{1\\beta}a^{0\\beta}a_{0\\beta}a_{1\\beta}\n",
      " + 6.938893903907228e-17 * a^{1\\beta}a^{0\\beta}a_{1\\beta}a_{1\\beta}\n",
      " + 0.09376099045135429 * a^{1\\beta}a^{1\\alpha}a_{0\\alpha}a_{0\\beta}\n",
      " + 6.938893903907228e-17 * a^{1\\beta}a^{1\\alpha}a_{0\\alpha}a_{1\\beta}\n",
      " + 2.7755575615628914e-17 * a^{1\\beta}a^{1\\alpha}a_{1\\alpha}a_{0\\beta}\n",
      " + 0.33906809184265285 * a^{1\\beta}a^{1\\alpha}a_{1\\alpha}a_{1\\beta}\n",
      " + 0.09376099045135429 * a^{1\\beta}a^{1\\beta}a_{0\\beta}a_{0\\beta}\n",
      " + 6.938893903907228e-17 * a^{1\\beta}a^{1\\beta}a_{0\\beta}a_{1\\beta}\n",
      " + 2.7755575615628914e-17 * a^{1\\beta}a^{1\\beta}a_{1\\beta}a_{0\\beta}\n",
      " + 0.33906809184265285 * a^{1\\beta}a^{1\\beta}a_{1\\beta}a_{1\\beta}\n"
     ]
    }
   ],
   "metadata": {}
  },
  {
   "cell_type": "code",
   "execution_count": 30,
   "source": [
    "print(CC.spinFreeNtupleExcitation((1,1), (0,0)).conjugate() * CC.BCHSimilarityTransform(hamiltonian, CC.spinFreeNtupleExcitation((1,1), (0,0)), 4))"
   ],
   "outputs": [
    {
     "output_type": "stream",
     "name": "stdout",
     "text": [
      "0.0\n",
      " + 0.0 * a^{0\\alpha}a^{0\\beta}a_{1\\beta}a_{1\\alpha}\n",
      " + 0.0 * a^{0\\beta}a^{0\\alpha}a_{1\\alpha}a_{1\\beta}\n",
      " + -4.7142356915405136e-17 * a^{0\\alpha}a^{0\\beta}a_{1\\beta}a_{1\\alpha}a^{1\\alpha}a_{0\\alpha}\n",
      " + -0.5337491016607854 * a^{0\\alpha}a^{0\\beta}a_{1\\beta}a_{1\\alpha}a^{1\\alpha}a_{1\\alpha}\n",
      " + -4.7142356915405136e-17 * a^{0\\alpha}a^{0\\beta}a_{1\\beta}a_{1\\alpha}a^{1\\beta}a_{0\\beta}\n",
      " + -0.5337491016607854 * a^{0\\alpha}a^{0\\beta}a_{1\\beta}a_{1\\alpha}a^{1\\beta}a_{1\\beta}\n",
      " + -4.7142356915405136e-17 * a^{0\\beta}a^{0\\alpha}a_{1\\alpha}a_{1\\beta}a^{1\\alpha}a_{0\\alpha}\n",
      " + -0.5337491016607854 * a^{0\\beta}a^{0\\alpha}a_{1\\alpha}a_{1\\beta}a^{1\\alpha}a_{1\\alpha}\n",
      " + -4.7142356915405136e-17 * a^{0\\beta}a^{0\\alpha}a_{1\\alpha}a_{1\\beta}a^{1\\beta}a_{0\\beta}\n",
      " + -0.5337491016607854 * a^{0\\beta}a^{0\\alpha}a_{1\\alpha}a_{1\\beta}a^{1\\beta}a_{1\\beta}\n",
      " + 0.09376099045135429 * a^{0\\alpha}a^{0\\beta}a_{1\\beta}a_{1\\alpha}a^{1\\alpha}a^{1\\beta}a_{0\\beta}a_{0\\alpha}\n",
      " + 6.938893903907228e-17 * a^{0\\alpha}a^{0\\beta}a_{1\\beta}a_{1\\alpha}a^{1\\alpha}a^{1\\beta}a_{0\\beta}a_{1\\alpha}\n",
      " + 2.7755575615628914e-17 * a^{0\\alpha}a^{0\\beta}a_{1\\beta}a_{1\\alpha}a^{1\\alpha}a^{1\\beta}a_{1\\beta}a_{0\\alpha}\n",
      " + 0.33906809184265285 * a^{0\\alpha}a^{0\\beta}a_{1\\beta}a_{1\\alpha}a^{1\\alpha}a^{1\\beta}a_{1\\beta}a_{1\\alpha}\n",
      " + 0.09376099045135429 * a^{0\\alpha}a^{0\\beta}a_{1\\beta}a_{1\\alpha}a^{1\\beta}a^{1\\alpha}a_{0\\alpha}a_{0\\beta}\n",
      " + 6.938893903907228e-17 * a^{0\\alpha}a^{0\\beta}a_{1\\beta}a_{1\\alpha}a^{1\\beta}a^{1\\alpha}a_{0\\alpha}a_{1\\beta}\n",
      " + 2.7755575615628914e-17 * a^{0\\alpha}a^{0\\beta}a_{1\\beta}a_{1\\alpha}a^{1\\beta}a^{1\\alpha}a_{1\\alpha}a_{0\\beta}\n",
      " + 0.33906809184265285 * a^{0\\alpha}a^{0\\beta}a_{1\\beta}a_{1\\alpha}a^{1\\beta}a^{1\\alpha}a_{1\\alpha}a_{1\\beta}\n",
      " + 0.09376099045135429 * a^{0\\beta}a^{0\\alpha}a_{1\\alpha}a_{1\\beta}a^{1\\alpha}a^{1\\beta}a_{0\\beta}a_{0\\alpha}\n",
      " + 6.938893903907228e-17 * a^{0\\beta}a^{0\\alpha}a_{1\\alpha}a_{1\\beta}a^{1\\alpha}a^{1\\beta}a_{0\\beta}a_{1\\alpha}\n",
      " + 2.7755575615628914e-17 * a^{0\\beta}a^{0\\alpha}a_{1\\alpha}a_{1\\beta}a^{1\\alpha}a^{1\\beta}a_{1\\beta}a_{0\\alpha}\n",
      " + 0.33906809184265285 * a^{0\\beta}a^{0\\alpha}a_{1\\alpha}a_{1\\beta}a^{1\\alpha}a^{1\\beta}a_{1\\beta}a_{1\\alpha}\n",
      " + 0.09376099045135429 * a^{0\\beta}a^{0\\alpha}a_{1\\alpha}a_{1\\beta}a^{1\\beta}a^{1\\alpha}a_{0\\alpha}a_{0\\beta}\n",
      " + 6.938893903907228e-17 * a^{0\\beta}a^{0\\alpha}a_{1\\alpha}a_{1\\beta}a^{1\\beta}a^{1\\alpha}a_{0\\alpha}a_{1\\beta}\n",
      " + 2.7755575615628914e-17 * a^{0\\beta}a^{0\\alpha}a_{1\\alpha}a_{1\\beta}a^{1\\beta}a^{1\\alpha}a_{1\\alpha}a_{0\\beta}\n",
      " + 0.33906809184265285 * a^{0\\beta}a^{0\\alpha}a_{1\\alpha}a_{1\\beta}a^{1\\beta}a^{1\\alpha}a_{1\\alpha}a_{1\\beta}\n",
      " + 1.1898506186070186 * a^{0\\alpha}a^{0\\beta}a_{1\\beta}a_{1\\alpha}a^{1\\alpha}a^{1\\beta}a_{0\\beta}a_{0\\alpha}a^{0\\alpha}a_{0\\alpha}\n",
      " + -2.600212552842601e-17 * a^{0\\alpha}a^{0\\beta}a_{1\\beta}a_{1\\alpha}a^{1\\alpha}a^{1\\beta}a_{0\\beta}a_{0\\alpha}a^{0\\alpha}a_{1\\alpha}\n",
      " + 1.1898506186070186 * a^{0\\alpha}a^{0\\beta}a_{1\\beta}a_{1\\alpha}a^{1\\alpha}a^{1\\beta}a_{0\\beta}a_{0\\alpha}a^{0\\beta}a_{0\\beta}\n",
      " + -2.600212552842601e-17 * a^{0\\alpha}a^{0\\beta}a_{1\\beta}a_{1\\alpha}a^{1\\alpha}a^{1\\beta}a_{0\\beta}a_{0\\alpha}a^{0\\beta}a_{1\\beta}\n",
      " + -0.5337491016607854 * a^{0\\alpha}a^{0\\beta}a_{1\\beta}a_{1\\alpha}a^{1\\alpha}a_{1\\alpha}a^{1\\alpha}a^{1\\beta}a_{0\\beta}a_{0\\alpha}\n",
      " + -0.5337491016607854 * a^{0\\alpha}a^{0\\beta}a_{1\\beta}a_{1\\alpha}a^{1\\alpha}a_{1\\alpha}a^{1\\beta}a^{1\\alpha}a_{0\\alpha}a_{0\\beta}\n",
      " + 1.1898506186070186 * a^{0\\alpha}a^{0\\beta}a_{1\\beta}a_{1\\alpha}a^{1\\beta}a^{1\\alpha}a_{0\\alpha}a_{0\\beta}a^{0\\alpha}a_{0\\alpha}\n",
      " + -2.600212552842601e-17 * a^{0\\alpha}a^{0\\beta}a_{1\\beta}a_{1\\alpha}a^{1\\beta}a^{1\\alpha}a_{0\\alpha}a_{0\\beta}a^{0\\alpha}a_{1\\alpha}\n",
      " + 1.1898506186070186 * a^{0\\alpha}a^{0\\beta}a_{1\\beta}a_{1\\alpha}a^{1\\beta}a^{1\\alpha}a_{0\\alpha}a_{0\\beta}a^{0\\beta}a_{0\\beta}\n",
      " + -2.600212552842601e-17 * a^{0\\alpha}a^{0\\beta}a_{1\\beta}a_{1\\alpha}a^{1\\beta}a^{1\\alpha}a_{0\\alpha}a_{0\\beta}a^{0\\beta}a_{1\\beta}\n",
      " + -0.5337491016607854 * a^{0\\alpha}a^{0\\beta}a_{1\\beta}a_{1\\alpha}a^{1\\beta}a_{1\\beta}a^{1\\alpha}a^{1\\beta}a_{0\\beta}a_{0\\alpha}\n",
      " + -0.5337491016607854 * a^{0\\alpha}a^{0\\beta}a_{1\\beta}a_{1\\alpha}a^{1\\beta}a_{1\\beta}a^{1\\beta}a^{1\\alpha}a_{0\\alpha}a_{0\\beta}\n",
      " + 1.1898506186070186 * a^{0\\beta}a^{0\\alpha}a_{1\\alpha}a_{1\\beta}a^{1\\alpha}a^{1\\beta}a_{0\\beta}a_{0\\alpha}a^{0\\alpha}a_{0\\alpha}\n",
      " + -2.600212552842601e-17 * a^{0\\beta}a^{0\\alpha}a_{1\\alpha}a_{1\\beta}a^{1\\alpha}a^{1\\beta}a_{0\\beta}a_{0\\alpha}a^{0\\alpha}a_{1\\alpha}\n",
      " + 1.1898506186070186 * a^{0\\beta}a^{0\\alpha}a_{1\\alpha}a_{1\\beta}a^{1\\alpha}a^{1\\beta}a_{0\\beta}a_{0\\alpha}a^{0\\beta}a_{0\\beta}\n",
      " + -2.600212552842601e-17 * a^{0\\beta}a^{0\\alpha}a_{1\\alpha}a_{1\\beta}a^{1\\alpha}a^{1\\beta}a_{0\\beta}a_{0\\alpha}a^{0\\beta}a_{1\\beta}\n",
      " + -0.5337491016607854 * a^{0\\beta}a^{0\\alpha}a_{1\\alpha}a_{1\\beta}a^{1\\alpha}a_{1\\alpha}a^{1\\alpha}a^{1\\beta}a_{0\\beta}a_{0\\alpha}\n",
      " + -0.5337491016607854 * a^{0\\beta}a^{0\\alpha}a_{1\\alpha}a_{1\\beta}a^{1\\alpha}a_{1\\alpha}a^{1\\beta}a^{1\\alpha}a_{0\\alpha}a_{0\\beta}\n",
      " + 1.1898506186070186 * a^{0\\beta}a^{0\\alpha}a_{1\\alpha}a_{1\\beta}a^{1\\beta}a^{1\\alpha}a_{0\\alpha}a_{0\\beta}a^{0\\alpha}a_{0\\alpha}\n",
      " + -2.600212552842601e-17 * a^{0\\beta}a^{0\\alpha}a_{1\\alpha}a_{1\\beta}a^{1\\beta}a^{1\\alpha}a_{0\\alpha}a_{0\\beta}a^{0\\alpha}a_{1\\alpha}\n",
      " + 1.1898506186070186 * a^{0\\beta}a^{0\\alpha}a_{1\\alpha}a_{1\\beta}a^{1\\beta}a^{1\\alpha}a_{0\\alpha}a_{0\\beta}a^{0\\beta}a_{0\\beta}\n",
      " + -2.600212552842601e-17 * a^{0\\beta}a^{0\\alpha}a_{1\\alpha}a_{1\\beta}a^{1\\beta}a^{1\\alpha}a_{0\\alpha}a_{0\\beta}a^{0\\beta}a_{1\\beta}\n",
      " + -0.5337491016607854 * a^{0\\beta}a^{0\\alpha}a_{1\\alpha}a_{1\\beta}a^{1\\beta}a_{1\\beta}a^{1\\alpha}a^{1\\beta}a_{0\\beta}a_{0\\alpha}\n",
      " + -0.5337491016607854 * a^{0\\beta}a^{0\\alpha}a_{1\\alpha}a_{1\\beta}a^{1\\beta}a_{1\\beta}a^{1\\beta}a^{1\\alpha}a_{0\\alpha}a_{0\\beta}\n",
      " + -0.3270047556780619 * a^{0\\alpha}a^{0\\beta}a_{1\\beta}a_{1\\alpha}a^{1\\alpha}a^{1\\beta}a_{0\\beta}a_{0\\alpha}a^{0\\alpha}a^{0\\beta}a_{0\\beta}a_{0\\alpha}\n",
      " + -5.204170427930421e-17 * a^{0\\alpha}a^{0\\beta}a_{1\\beta}a_{1\\alpha}a^{1\\alpha}a^{1\\beta}a_{0\\beta}a_{0\\alpha}a^{0\\alpha}a^{0\\beta}a_{0\\beta}a_{1\\alpha}\n",
      " + -4.163336342344337e-17 * a^{0\\alpha}a^{0\\beta}a_{1\\beta}a_{1\\alpha}a^{1\\alpha}a^{1\\beta}a_{0\\beta}a_{0\\alpha}a^{0\\alpha}a^{0\\beta}a_{1\\beta}a_{0\\alpha}\n",
      " + -0.09376099045135429 * a^{0\\alpha}a^{0\\beta}a_{1\\beta}a_{1\\alpha}a^{1\\alpha}a^{1\\beta}a_{0\\beta}a_{0\\alpha}a^{0\\alpha}a^{0\\beta}a_{1\\beta}a_{1\\alpha}\n",
      " + -0.3270047556780619 * a^{0\\alpha}a^{0\\beta}a_{1\\beta}a_{1\\alpha}a^{1\\alpha}a^{1\\beta}a_{0\\beta}a_{0\\alpha}a^{0\\beta}a^{0\\alpha}a_{0\\alpha}a_{0\\beta}\n",
      " + -5.204170427930421e-17 * a^{0\\alpha}a^{0\\beta}a_{1\\beta}a_{1\\alpha}a^{1\\alpha}a^{1\\beta}a_{0\\beta}a_{0\\alpha}a^{0\\beta}a^{0\\alpha}a_{0\\alpha}a_{1\\beta}\n",
      " + -4.163336342344337e-17 * a^{0\\alpha}a^{0\\beta}a_{1\\beta}a_{1\\alpha}a^{1\\alpha}a^{1\\beta}a_{0\\beta}a_{0\\alpha}a^{0\\beta}a^{0\\alpha}a_{1\\alpha}a_{0\\beta}\n",
      " + -0.09376099045135429 * a^{0\\alpha}a^{0\\beta}a_{1\\beta}a_{1\\alpha}a^{1\\alpha}a^{1\\beta}a_{0\\beta}a_{0\\alpha}a^{0\\beta}a^{0\\alpha}a_{1\\alpha}a_{1\\beta}\n",
      " + 0.33906809184265285 * a^{0\\alpha}a^{0\\beta}a_{1\\beta}a_{1\\alpha}a^{1\\alpha}a^{1\\beta}a_{1\\beta}a_{1\\alpha}a^{1\\alpha}a^{1\\beta}a_{0\\beta}a_{0\\alpha}\n",
      " + 0.33906809184265285 * a^{0\\alpha}a^{0\\beta}a_{1\\beta}a_{1\\alpha}a^{1\\alpha}a^{1\\beta}a_{1\\beta}a_{1\\alpha}a^{1\\beta}a^{1\\alpha}a_{0\\alpha}a_{0\\beta}\n",
      " + -0.3270047556780619 * a^{0\\alpha}a^{0\\beta}a_{1\\beta}a_{1\\alpha}a^{1\\beta}a^{1\\alpha}a_{0\\alpha}a_{0\\beta}a^{0\\alpha}a^{0\\beta}a_{0\\beta}a_{0\\alpha}\n",
      " + -5.204170427930421e-17 * a^{0\\alpha}a^{0\\beta}a_{1\\beta}a_{1\\alpha}a^{1\\beta}a^{1\\alpha}a_{0\\alpha}a_{0\\beta}a^{0\\alpha}a^{0\\beta}a_{0\\beta}a_{1\\alpha}\n",
      " + -4.163336342344337e-17 * a^{0\\alpha}a^{0\\beta}a_{1\\beta}a_{1\\alpha}a^{1\\beta}a^{1\\alpha}a_{0\\alpha}a_{0\\beta}a^{0\\alpha}a^{0\\beta}a_{1\\beta}a_{0\\alpha}\n",
      " + -0.09376099045135429 * a^{0\\alpha}a^{0\\beta}a_{1\\beta}a_{1\\alpha}a^{1\\beta}a^{1\\alpha}a_{0\\alpha}a_{0\\beta}a^{0\\alpha}a^{0\\beta}a_{1\\beta}a_{1\\alpha}\n",
      " + -0.3270047556780619 * a^{0\\alpha}a^{0\\beta}a_{1\\beta}a_{1\\alpha}a^{1\\beta}a^{1\\alpha}a_{0\\alpha}a_{0\\beta}a^{0\\beta}a^{0\\alpha}a_{0\\alpha}a_{0\\beta}\n",
      " + -5.204170427930421e-17 * a^{0\\alpha}a^{0\\beta}a_{1\\beta}a_{1\\alpha}a^{1\\beta}a^{1\\alpha}a_{0\\alpha}a_{0\\beta}a^{0\\beta}a^{0\\alpha}a_{0\\alpha}a_{1\\beta}\n",
      " + -4.163336342344337e-17 * a^{0\\alpha}a^{0\\beta}a_{1\\beta}a_{1\\alpha}a^{1\\beta}a^{1\\alpha}a_{0\\alpha}a_{0\\beta}a^{0\\beta}a^{0\\alpha}a_{1\\alpha}a_{0\\beta}\n",
      " + -0.09376099045135429 * a^{0\\alpha}a^{0\\beta}a_{1\\beta}a_{1\\alpha}a^{1\\beta}a^{1\\alpha}a_{0\\alpha}a_{0\\beta}a^{0\\beta}a^{0\\alpha}a_{1\\alpha}a_{1\\beta}\n",
      " + 0.33906809184265285 * a^{0\\alpha}a^{0\\beta}a_{1\\beta}a_{1\\alpha}a^{1\\beta}a^{1\\alpha}a_{1\\alpha}a_{1\\beta}a^{1\\alpha}a^{1\\beta}a_{0\\beta}a_{0\\alpha}\n",
      " + 0.33906809184265285 * a^{0\\alpha}a^{0\\beta}a_{1\\beta}a_{1\\alpha}a^{1\\beta}a^{1\\alpha}a_{1\\alpha}a_{1\\beta}a^{1\\beta}a^{1\\alpha}a_{0\\alpha}a_{0\\beta}\n",
      " + -0.3270047556780619 * a^{0\\beta}a^{0\\alpha}a_{1\\alpha}a_{1\\beta}a^{1\\alpha}a^{1\\beta}a_{0\\beta}a_{0\\alpha}a^{0\\alpha}a^{0\\beta}a_{0\\beta}a_{0\\alpha}\n",
      " + -5.204170427930421e-17 * a^{0\\beta}a^{0\\alpha}a_{1\\alpha}a_{1\\beta}a^{1\\alpha}a^{1\\beta}a_{0\\beta}a_{0\\alpha}a^{0\\alpha}a^{0\\beta}a_{0\\beta}a_{1\\alpha}\n",
      " + -4.163336342344337e-17 * a^{0\\beta}a^{0\\alpha}a_{1\\alpha}a_{1\\beta}a^{1\\alpha}a^{1\\beta}a_{0\\beta}a_{0\\alpha}a^{0\\alpha}a^{0\\beta}a_{1\\beta}a_{0\\alpha}\n",
      " + -0.09376099045135429 * a^{0\\beta}a^{0\\alpha}a_{1\\alpha}a_{1\\beta}a^{1\\alpha}a^{1\\beta}a_{0\\beta}a_{0\\alpha}a^{0\\alpha}a^{0\\beta}a_{1\\beta}a_{1\\alpha}\n",
      " + -0.3270047556780619 * a^{0\\beta}a^{0\\alpha}a_{1\\alpha}a_{1\\beta}a^{1\\alpha}a^{1\\beta}a_{0\\beta}a_{0\\alpha}a^{0\\beta}a^{0\\alpha}a_{0\\alpha}a_{0\\beta}\n",
      " + -5.204170427930421e-17 * a^{0\\beta}a^{0\\alpha}a_{1\\alpha}a_{1\\beta}a^{1\\alpha}a^{1\\beta}a_{0\\beta}a_{0\\alpha}a^{0\\beta}a^{0\\alpha}a_{0\\alpha}a_{1\\beta}\n",
      " + -4.163336342344337e-17 * a^{0\\beta}a^{0\\alpha}a_{1\\alpha}a_{1\\beta}a^{1\\alpha}a^{1\\beta}a_{0\\beta}a_{0\\alpha}a^{0\\beta}a^{0\\alpha}a_{1\\alpha}a_{0\\beta}\n",
      " + -0.09376099045135429 * a^{0\\beta}a^{0\\alpha}a_{1\\alpha}a_{1\\beta}a^{1\\alpha}a^{1\\beta}a_{0\\beta}a_{0\\alpha}a^{0\\beta}a^{0\\alpha}a_{1\\alpha}a_{1\\beta}\n",
      " + 0.33906809184265285 * a^{0\\beta}a^{0\\alpha}a_{1\\alpha}a_{1\\beta}a^{1\\alpha}a^{1\\beta}a_{1\\beta}a_{1\\alpha}a^{1\\alpha}a^{1\\beta}a_{0\\beta}a_{0\\alpha}\n",
      " + 0.33906809184265285 * a^{0\\beta}a^{0\\alpha}a_{1\\alpha}a_{1\\beta}a^{1\\alpha}a^{1\\beta}a_{1\\beta}a_{1\\alpha}a^{1\\beta}a^{1\\alpha}a_{0\\alpha}a_{0\\beta}\n",
      " + -0.3270047556780619 * a^{0\\beta}a^{0\\alpha}a_{1\\alpha}a_{1\\beta}a^{1\\beta}a^{1\\alpha}a_{0\\alpha}a_{0\\beta}a^{0\\alpha}a^{0\\beta}a_{0\\beta}a_{0\\alpha}\n",
      " + -5.204170427930421e-17 * a^{0\\beta}a^{0\\alpha}a_{1\\alpha}a_{1\\beta}a^{1\\beta}a^{1\\alpha}a_{0\\alpha}a_{0\\beta}a^{0\\alpha}a^{0\\beta}a_{0\\beta}a_{1\\alpha}\n",
      " + -4.163336342344337e-17 * a^{0\\beta}a^{0\\alpha}a_{1\\alpha}a_{1\\beta}a^{1\\beta}a^{1\\alpha}a_{0\\alpha}a_{0\\beta}a^{0\\alpha}a^{0\\beta}a_{1\\beta}a_{0\\alpha}\n",
      " + -0.09376099045135429 * a^{0\\beta}a^{0\\alpha}a_{1\\alpha}a_{1\\beta}a^{1\\beta}a^{1\\alpha}a_{0\\alpha}a_{0\\beta}a^{0\\alpha}a^{0\\beta}a_{1\\beta}a_{1\\alpha}\n",
      " + -0.3270047556780619 * a^{0\\beta}a^{0\\alpha}a_{1\\alpha}a_{1\\beta}a^{1\\beta}a^{1\\alpha}a_{0\\alpha}a_{0\\beta}a^{0\\beta}a^{0\\alpha}a_{0\\alpha}a_{0\\beta}\n",
      " + -5.204170427930421e-17 * a^{0\\beta}a^{0\\alpha}a_{1\\alpha}a_{1\\beta}a^{1\\beta}a^{1\\alpha}a_{0\\alpha}a_{0\\beta}a^{0\\beta}a^{0\\alpha}a_{0\\alpha}a_{1\\beta}\n",
      " + -4.163336342344337e-17 * a^{0\\beta}a^{0\\alpha}a_{1\\alpha}a_{1\\beta}a^{1\\beta}a^{1\\alpha}a_{0\\alpha}a_{0\\beta}a^{0\\beta}a^{0\\alpha}a_{1\\alpha}a_{0\\beta}\n",
      " + -0.09376099045135429 * a^{0\\beta}a^{0\\alpha}a_{1\\alpha}a_{1\\beta}a^{1\\beta}a^{1\\alpha}a_{0\\alpha}a_{0\\beta}a^{0\\beta}a^{0\\alpha}a_{1\\alpha}a_{1\\beta}\n",
      " + 0.33906809184265285 * a^{0\\beta}a^{0\\alpha}a_{1\\alpha}a_{1\\beta}a^{1\\beta}a^{1\\alpha}a_{1\\alpha}a_{1\\beta}a^{1\\alpha}a^{1\\beta}a_{0\\beta}a_{0\\alpha}\n",
      " + 0.33906809184265285 * a^{0\\beta}a^{0\\alpha}a_{1\\alpha}a_{1\\beta}a^{1\\beta}a^{1\\alpha}a_{1\\alpha}a_{1\\beta}a^{1\\beta}a^{1\\alpha}a_{0\\alpha}a_{0\\beta}\n",
      " + -0.09376099045135429 * a^{0\\alpha}a^{0\\beta}a_{1\\beta}a_{1\\alpha}a^{1\\alpha}a^{1\\beta}a_{0\\beta}a_{0\\alpha}a^{0\\alpha}a^{0\\beta}a_{1\\beta}a_{1\\alpha}a^{1\\alpha}a^{1\\beta}a_{0\\beta}a_{0\\alpha}\n",
      " + -0.09376099045135429 * a^{0\\alpha}a^{0\\beta}a_{1\\beta}a_{1\\alpha}a^{1\\alpha}a^{1\\beta}a_{0\\beta}a_{0\\alpha}a^{0\\alpha}a^{0\\beta}a_{1\\beta}a_{1\\alpha}a^{1\\beta}a^{1\\alpha}a_{0\\alpha}a_{0\\beta}\n",
      " + -0.09376099045135429 * a^{0\\alpha}a^{0\\beta}a_{1\\beta}a_{1\\alpha}a^{1\\alpha}a^{1\\beta}a_{0\\beta}a_{0\\alpha}a^{0\\beta}a^{0\\alpha}a_{1\\alpha}a_{1\\beta}a^{1\\alpha}a^{1\\beta}a_{0\\beta}a_{0\\alpha}\n",
      " + -0.09376099045135429 * a^{0\\alpha}a^{0\\beta}a_{1\\beta}a_{1\\alpha}a^{1\\alpha}a^{1\\beta}a_{0\\beta}a_{0\\alpha}a^{0\\beta}a^{0\\alpha}a_{1\\alpha}a_{1\\beta}a^{1\\beta}a^{1\\alpha}a_{0\\alpha}a_{0\\beta}\n",
      " + -0.09376099045135429 * a^{0\\alpha}a^{0\\beta}a_{1\\beta}a_{1\\alpha}a^{1\\beta}a^{1\\alpha}a_{0\\alpha}a_{0\\beta}a^{0\\alpha}a^{0\\beta}a_{1\\beta}a_{1\\alpha}a^{1\\alpha}a^{1\\beta}a_{0\\beta}a_{0\\alpha}\n",
      " + -0.09376099045135429 * a^{0\\alpha}a^{0\\beta}a_{1\\beta}a_{1\\alpha}a^{1\\beta}a^{1\\alpha}a_{0\\alpha}a_{0\\beta}a^{0\\alpha}a^{0\\beta}a_{1\\beta}a_{1\\alpha}a^{1\\beta}a^{1\\alpha}a_{0\\alpha}a_{0\\beta}\n",
      " + -0.09376099045135429 * a^{0\\alpha}a^{0\\beta}a_{1\\beta}a_{1\\alpha}a^{1\\beta}a^{1\\alpha}a_{0\\alpha}a_{0\\beta}a^{0\\beta}a^{0\\alpha}a_{1\\alpha}a_{1\\beta}a^{1\\alpha}a^{1\\beta}a_{0\\beta}a_{0\\alpha}\n",
      " + -0.09376099045135429 * a^{0\\alpha}a^{0\\beta}a_{1\\beta}a_{1\\alpha}a^{1\\beta}a^{1\\alpha}a_{0\\alpha}a_{0\\beta}a^{0\\beta}a^{0\\alpha}a_{1\\alpha}a_{1\\beta}a^{1\\beta}a^{1\\alpha}a_{0\\alpha}a_{0\\beta}\n",
      " + -0.09376099045135429 * a^{0\\beta}a^{0\\alpha}a_{1\\alpha}a_{1\\beta}a^{1\\alpha}a^{1\\beta}a_{0\\beta}a_{0\\alpha}a^{0\\alpha}a^{0\\beta}a_{1\\beta}a_{1\\alpha}a^{1\\alpha}a^{1\\beta}a_{0\\beta}a_{0\\alpha}\n",
      " + -0.09376099045135429 * a^{0\\beta}a^{0\\alpha}a_{1\\alpha}a_{1\\beta}a^{1\\alpha}a^{1\\beta}a_{0\\beta}a_{0\\alpha}a^{0\\alpha}a^{0\\beta}a_{1\\beta}a_{1\\alpha}a^{1\\beta}a^{1\\alpha}a_{0\\alpha}a_{0\\beta}\n",
      " + -0.09376099045135429 * a^{0\\beta}a^{0\\alpha}a_{1\\alpha}a_{1\\beta}a^{1\\alpha}a^{1\\beta}a_{0\\beta}a_{0\\alpha}a^{0\\beta}a^{0\\alpha}a_{1\\alpha}a_{1\\beta}a^{1\\alpha}a^{1\\beta}a_{0\\beta}a_{0\\alpha}\n",
      " + -0.09376099045135429 * a^{0\\beta}a^{0\\alpha}a_{1\\alpha}a_{1\\beta}a^{1\\alpha}a^{1\\beta}a_{0\\beta}a_{0\\alpha}a^{0\\beta}a^{0\\alpha}a_{1\\alpha}a_{1\\beta}a^{1\\beta}a^{1\\alpha}a_{0\\alpha}a_{0\\beta}\n",
      " + -0.09376099045135429 * a^{0\\beta}a^{0\\alpha}a_{1\\alpha}a_{1\\beta}a^{1\\beta}a^{1\\alpha}a_{0\\alpha}a_{0\\beta}a^{0\\alpha}a^{0\\beta}a_{1\\beta}a_{1\\alpha}a^{1\\alpha}a^{1\\beta}a_{0\\beta}a_{0\\alpha}\n",
      " + -0.09376099045135429 * a^{0\\beta}a^{0\\alpha}a_{1\\alpha}a_{1\\beta}a^{1\\beta}a^{1\\alpha}a_{0\\alpha}a_{0\\beta}a^{0\\alpha}a^{0\\beta}a_{1\\beta}a_{1\\alpha}a^{1\\beta}a^{1\\alpha}a_{0\\alpha}a_{0\\beta}\n",
      " + -0.09376099045135429 * a^{0\\beta}a^{0\\alpha}a_{1\\alpha}a_{1\\beta}a^{1\\beta}a^{1\\alpha}a_{0\\alpha}a_{0\\beta}a^{0\\beta}a^{0\\alpha}a_{1\\alpha}a_{1\\beta}a^{1\\alpha}a^{1\\beta}a_{0\\beta}a_{0\\alpha}\n",
      " + -0.09376099045135429 * a^{0\\beta}a^{0\\alpha}a_{1\\alpha}a_{1\\beta}a^{1\\beta}a^{1\\alpha}a_{0\\alpha}a_{0\\beta}a^{0\\beta}a^{0\\alpha}a_{1\\alpha}a_{1\\beta}a^{1\\beta}a^{1\\alpha}a_{0\\alpha}a_{0\\beta}\n"
     ]
    }
   ],
   "metadata": {}
  },
  {
   "cell_type": "code",
   "execution_count": 31,
   "source": [
    "print(CC.spinFreeDoubleExcitation(1,2,3,4))"
   ],
   "outputs": [
    {
     "output_type": "stream",
     "name": "stdout",
     "text": [
      "1.0 * a^{1\\alpha}a^{2\\alpha}a_{4\\alpha}a_{3\\alpha}\n",
      " + 1.0 * a^{1\\alpha}a^{2\\beta}a_{4\\beta}a_{3\\alpha}\n",
      " + 1.0 * a^{1\\beta}a^{2\\alpha}a_{4\\alpha}a_{3\\beta}\n",
      " + 1.0 * a^{1\\beta}a^{2\\beta}a_{4\\beta}a_{3\\beta}\n"
     ]
    }
   ],
   "metadata": {}
  },
  {
   "cell_type": "markdown",
   "source": [
    "Larger basis set calculation"
   ],
   "metadata": {}
  },
  {
   "cell_type": "code",
   "execution_count": 32,
   "source": [
    "mol = gto.Mole()\n",
    "mol.verbose = 1\n",
    "mol.atom = 'H 0 0 0; H 0 0 ' + str(H2sep)\n",
    "mol.basis = '6-31g'\n",
    "mol.spin = 0\n",
    "mol.build()\n",
    "\n",
    "Enuc = mol.energy_nuc()\n",
    "\n",
    "mf = scf.ROHF(mol)\n",
    "mf.kernel()\n",
    "\n",
    "h1 = mf.mo_coeff.T.dot(mf.get_hcore()).dot(mf.mo_coeff)\n",
    "eri = ao2mo.kernel(mol, mf.mo_coeff)\n",
    "\n",
    "Norbs = mol.nao\n",
    "Nocc = mf.nelectron_alpha\n",
    "vacuum = [1] * Nocc + [0] * (Norbs - Nocc)\n",
    "\n",
    "cisolver = fci.FCI(mol, mf.mo_coeff)"
   ],
   "outputs": [],
   "metadata": {}
  },
  {
   "cell_type": "code",
   "execution_count": 33,
   "source": [
    "cisolver.kernel()"
   ],
   "outputs": [
    {
     "output_type": "execute_result",
     "data": {
      "text/plain": [
       "(-1.1461680985775962,\n",
       " array([[ 9.90466208e-01,  1.31838984e-15,  8.70605454e-03,\n",
       "          3.41814448e-16],\n",
       "        [ 1.40666155e-15, -9.91540669e-02, -1.18751575e-16,\n",
       "         -5.11213337e-02],\n",
       "        [ 8.70605454e-03, -1.46893055e-16, -4.48764561e-02,\n",
       "         -8.66372876e-17],\n",
       "        [ 3.04169713e-16, -5.11213337e-02, -9.25545999e-17,\n",
       "         -4.18675608e-02]]))"
      ]
     },
     "metadata": {},
     "execution_count": 33
    }
   ],
   "metadata": {}
  },
  {
   "cell_type": "code",
   "execution_count": 34,
   "source": [
    "H2CCSD = CC.coupledCluster(mf, range(1,3))"
   ],
   "outputs": [
    {
     "output_type": "stream",
     "name": "stdout",
     "text": [
      "9\n"
     ]
    }
   ],
   "metadata": {}
  },
  {
   "cell_type": "code",
   "execution_count": null,
   "source": [
    "H2CCSDExcitations = H2CCSD[0]\n",
    "H2CCSDAmplitudes = H2CCSD[1]\n",
    "H2CCSDClusterOperator = CC.getClusterOperator(H2CCSDExcitations, H2CCSDAmplitudes)"
   ],
   "outputs": [],
   "metadata": {}
  },
  {
   "cell_type": "code",
   "execution_count": null,
   "source": [
    "print(H2CCSDClusterOperator)"
   ],
   "outputs": [],
   "metadata": {}
  },
  {
   "cell_type": "code",
   "execution_count": null,
   "source": [
    "hamiltonian = CC.get1bodyHamiltonian(mf) + CC.get2bodyHamiltonian(mf)"
   ],
   "outputs": [],
   "metadata": {}
  },
  {
   "cell_type": "code",
   "execution_count": null,
   "source": [
    "waveOperator = CC.exponentialOperator(H2CCSDClusterOperator, 4)\n",
    "inverseWaveOperator = CC.exponentialOperator((-1) * H2CCSDClusterOperator, 4)"
   ],
   "outputs": [],
   "metadata": {}
  },
  {
   "cell_type": "code",
   "execution_count": null,
   "source": [
    "CCSDEnergy = Wick.vacuumExpectationValue(inverseWaveOperator * hamiltonian * waveOperator, vacuum) + mol.energy_nuc()\n",
    "print(CCSDEnergy)"
   ],
   "outputs": [],
   "metadata": {}
  },
  {
   "cell_type": "code",
   "execution_count": null,
   "source": [
    "mol = gto.Mole()\n",
    "mol.verbose = 1\n",
    "mol.atom = 'Be 0 0 0'\n",
    "mol.basis = 'sto-3g'\n",
    "mol.spin = 0\n",
    "mol.build()\n",
    "\n",
    "Enuc = mol.energy_nuc()\n",
    "\n",
    "mf = scf.ROHF(mol)\n",
    "mf.kernel()\n",
    "\n",
    "h1 = mf.mo_coeff.T.dot(mf.get_hcore()).dot(mf.mo_coeff)\n",
    "eri = ao2mo.kernel(mol, mf.mo_coeff)\n",
    "\n",
    "Norbs = mol.nao\n",
    "Nocc = mf.nelectron_alpha\n",
    "vacuum = [1] * Nocc + [0] * (Norbs - Nocc)\n",
    "\n",
    "cisolver = fci.FCI(mol, mf.mo_coeff)"
   ],
   "outputs": [],
   "metadata": {}
  },
  {
   "cell_type": "code",
   "execution_count": null,
   "source": [
    "cisolver.kernel()"
   ],
   "outputs": [
    {
     "output_type": "display_data",
     "data": {
      "text/plain": [
       "(-1.1461680985775962,\n",
       " array([[ 9.90466208e-01,  1.31838984e-15,  8.70605454e-03,\n",
       "          3.41814448e-16],\n",
       "        [ 1.40666155e-15, -9.91540669e-02, -1.18751575e-16,\n",
       "         -5.11213337e-02],\n",
       "        [ 8.70605454e-03, -1.46893055e-16, -4.48764561e-02,\n",
       "         -8.66372876e-17],\n",
       "        [ 3.04169713e-16, -5.11213337e-02, -9.25545999e-17,\n",
       "         -4.18675608e-02]]))"
      ]
     },
     "metadata": {}
    }
   ],
   "metadata": {}
  },
  {
   "cell_type": "code",
   "execution_count": null,
   "source": [
    "BeCCSD = CC.coupledCluster(mf, range(1,3))"
   ],
   "outputs": [
    {
     "output_type": "stream",
     "name": "stdout",
     "text": [
      "9\n"
     ]
    }
   ],
   "metadata": {}
  },
  {
   "cell_type": "code",
   "execution_count": null,
   "source": [
    "BeCCSDExcitations = BeCCSD[0]\n",
    "BeCCSDAmplitudes = BeCCSD[1]\n",
    "BeCCSDClusterOperator = CC.getClusterOperator(BeCCSDExcitations, BeCCSDAmplitudes)"
   ],
   "outputs": [],
   "metadata": {}
  },
  {
   "cell_type": "code",
   "execution_count": null,
   "source": [
    "print(BeCCSDClusterOperator)"
   ],
   "outputs": [],
   "metadata": {}
  },
  {
   "cell_type": "code",
   "execution_count": null,
   "source": [
    "hamiltonian = CC.get1bodyHamiltonian(mf) + CC.get2bodyHamiltonian(mf)"
   ],
   "outputs": [],
   "metadata": {}
  },
  {
   "cell_type": "code",
   "execution_count": null,
   "source": [
    "waveOperator = CC.exponentialOperator(BeCCSDClusterOperator, 4)\n",
    "inverseWaveOperator = CC.exponentialOperator((-1) * BeCCSDClusterOperator, 4)"
   ],
   "outputs": [],
   "metadata": {}
  },
  {
   "cell_type": "code",
   "execution_count": null,
   "source": [
    "CCSDEnergy = Wick.vacuumExpectationValue(inverseWaveOperator * hamiltonian * waveOperator, vacuum) + mol.energy_nuc()\n",
    "print(CCSDEnergy)"
   ],
   "outputs": [],
   "metadata": {}
  }
 ]
}