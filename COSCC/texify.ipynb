{
 "cells": [
  {
   "cell_type": "code",
   "execution_count": null,
   "source": [
    "def texify(equations, filename):\n",
    "    f = open(filename + \".tex\", \"w\")\n",
    "    f.write(\"\\documentclass{minimal}\")\n",
    "    f.write(\"\")\n",
    "    f.write(\"\\begin{document}\")\n",
    "    for equation in equations:\n",
    "        f.write(\"\")\n",
    "        texifySingleEquation(equation, f)\n",
    "    f.write(\"\\end{document}\")\n",
    "    f.close()\n"
   ],
   "outputs": [],
   "metadata": {}
  },
  {
   "cell_type": "code",
   "execution_count": null,
   "source": [
    "def texifySingleEquation(equation, file):\n",
    "    file.write(\"$$\")\n",
    "    file.write(equation.__str__())\n",
    "    file.write(\"$$\")"
   ],
   "outputs": [],
   "metadata": {}
  }
 ],
 "metadata": {
  "orig_nbformat": 4,
  "language_info": {
   "name": "python"
  }
 },
 "nbformat": 4,
 "nbformat_minor": 2
}