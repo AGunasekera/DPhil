{
 "metadata": {
  "language_info": {
   "codemirror_mode": {
    "name": "ipython",
    "version": 3
   },
   "file_extension": ".py",
   "mimetype": "text/x-python",
   "name": "python",
   "nbconvert_exporter": "python",
   "pygments_lexer": "ipython3",
   "version": "3.8.0-final"
  },
  "orig_nbformat": 2,
  "kernelspec": {
   "name": "python3",
   "display_name": "Python 3.8.0 64-bit",
   "metadata": {
    "interpreter": {
     "hash": "082e9a3bcad0a290d0001e938aa60b99250c6c2ef33a923c00b70f9826caf4b7"
    }
   }
  }
 },
 "nbformat": 4,
 "nbformat_minor": 2,
 "cells": [
  {
   "cell_type": "code",
   "execution_count": 1,
   "metadata": {},
   "outputs": [],
   "source": [
    "import numpy as np\n",
    "from pyscf import fci\n",
    "\n",
    "#define vacuum\n",
    "#take in operator string\n",
    "#format: string of indices, bitstring of creation vs annihilation\n",
    "#return normal-ordered operator string plus contracted terms, according to Wick's theorem\n",
    "\n"
   ]
  },
  {
   "cell_type": "code",
   "execution_count": 56,
   "metadata": {},
   "outputs": [],
   "source": [
    "class operatorString:\n",
    "    def __init__(self, indexString, creationOrAnnihilation, alphaOrBeta):\n",
    "        #list of indices in the string of second-quantised operators\n",
    "        self.iS = indexString\n",
    "        #bitstring of same length, with 1 corresponding to creation and 0 for annihilation\n",
    "        self.cOA = creationOrAnnihilation\n",
    "        #bitstring of same length, with 1 corresponding to alpha and 0 for beta\n",
    "        self.aOB = alphaOrBeta\n",
    "\n",
    "    #Apply the string of second-quantised operators to an arbitrary state object\n",
    "    def apply(self, state):\n",
    "        i = len(self.iS)\n",
    "        while(i > 0):\n",
    "            i = i - 1\n",
    "            print(i)\n",
    "            print(self.iS[i])\n",
    "            print(self.cOA[i])\n",
    "            print(self.aOB[i])\n",
    "            neleca, nelecb = state.nelec[0], state.nelec[1]\n",
    "            if bool(self.cOA[i]):\n",
    "                if bool(self.aOB[i]):\n",
    "                    state.setArray(fci.addons.cre_a(state.array, state.norb, state.nelec, self.iS[i]))\n",
    "                    state.setNelec = (neleca + 1, nelecb)\n",
    "                else:\n",
    "                    state.setArray(fci.addons.cre_b(state.array, state.norb, state.nelec, self.iS[i]))\n",
    "                    state.setNelec = (neleca, nelecb + 1)\n",
    "            else:\n",
    "                if bool(self.aOB[i]):\n",
    "                    state.setArray(fci.addons.des_a(state.array, state.norb, state.nelec, self.iS[i]))\n",
    "                    state.setNelec = (neleca - 1, nelecb)\n",
    "                else:\n",
    "                    state.setArray(fci.addons.des_b(state.array, state.norb, state.nelec, self.iS[i]))\n",
    "                    state.setNelec = (neleca, nelecb - 1)\n",
    "        return state"
   ]
  },
  {
   "cell_type": "code",
   "execution_count": 57,
   "metadata": {},
   "outputs": [],
   "source": [
    "class state:\n",
    "    def __init__(self, array_, norb_, nelec_):\n",
    "        self.array = array_\n",
    "        self.norb = norb_\n",
    "        self.nelec = nelec_\n",
    "\n",
    "    def getArray(self):\n",
    "        return self.array\n",
    "\n",
    "    def getNorb(self):\n",
    "        return self.norb\n",
    "    \n",
    "    def getNelec(self):\n",
    "        return self.nelec\n",
    "\n",
    "    def setArray(self, array_):\n",
    "        self.array = array_\n",
    "\n",
    "    def setNorb(self, norb_):\n",
    "        self.norb = norb_\n",
    "\n",
    "    def setNelec(self, nelec_):\n",
    "        self.nelec = nelec_"
   ]
  },
  {
   "cell_type": "code",
   "execution_count": 58,
   "metadata": {},
   "outputs": [],
   "source": [
    "ref = state(np.array([[1.,0.,0.],[0.,0.,0.],[0.,0.,0.]]), 3, (2,1))"
   ]
  },
  {
   "cell_type": "code",
   "execution_count": 59,
   "metadata": {},
   "outputs": [],
   "source": [
    "opStr = operatorString([1],[1],[0])"
   ]
  },
  {
   "cell_type": "code",
   "execution_count": 60,
   "metadata": {},
   "outputs": [
    {
     "output_type": "stream",
     "name": "stdout",
     "text": [
      "0\n1\n1\n0\n"
     ]
    }
   ],
   "source": [
    "state = opStr.apply(ref)"
   ]
  },
  {
   "cell_type": "code",
   "execution_count": 61,
   "metadata": {},
   "outputs": [
    {
     "output_type": "execute_result",
     "data": {
      "text/plain": [
       "(2, 1)"
      ]
     },
     "metadata": {},
     "execution_count": 61
    }
   ],
   "source": [
    "ref.nelec"
   ]
  },
  {
   "cell_type": "code",
   "execution_count": 62,
   "metadata": {},
   "outputs": [
    {
     "output_type": "execute_result",
     "data": {
      "text/plain": [
       "(2, 1)"
      ]
     },
     "metadata": {},
     "execution_count": 62
    }
   ],
   "source": [
    "state.nelec"
   ]
  },
  {
   "cell_type": "code",
   "execution_count": null,
   "metadata": {},
   "outputs": [],
   "source": []
  }
 ]
}