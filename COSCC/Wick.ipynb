{
 "cells": [
  {
   "cell_type": "code",
   "execution_count": 391,
   "metadata": {},
   "outputs": [],
   "source": [
    "import numpy as np\n",
    "from numbers import Number\n",
    "from pyscf import fci\n",
    "from copy import deepcopy, copy\n",
    "\n",
    "#define vacuum\n",
    "#take in operator string\n",
    "#format: string of indices, bitstring of creation vs annihilation\n",
    "#return normal-ordered operator string plus contracted terms, according to Wick's theorem\n",
    "\n"
   ]
  },
  {
   "cell_type": "code",
   "execution_count": 392,
   "metadata": {},
   "outputs": [
    {
     "output_type": "stream",
     "name": "stdout",
     "text": [
      "[1, 1, 0]\n"
     ]
    }
   ],
   "source": [
    "norbs = 3\n",
    "Nocc = 2\n",
    "vacuumOccupations = [1 for i in range(Nocc)] + [0 for i in range (norbs - Nocc)]\n",
    "print(vacuumOccupations)"
   ]
  },
  {
   "cell_type": "code",
   "execution_count": 393,
   "metadata": {},
   "outputs": [],
   "source": [
    "class basicOperator:\n",
    "    def __init__(self, orbital_, creation_annihilation_, spin_):\n",
    "        self.orbital = orbital_ #orbital index\n",
    "        self.spin = spin_ #1 for alpha, 0 for beta\n",
    "        self.creation_annihilation = creation_annihilation_ #1 for creation, 0 for annihilation\n",
    "        self.quasi_cre_ann = self.creation_annihilation\n",
    "\n",
    "    def applyFermiVacuum(self, vacuum):\n",
    "        self.quasi_cre_ann = (vacuum[self.orbital] and (not self.creation_annihilation)) or (not vacuum[self.orbital] and self.creation_annihilation)\n",
    "\n",
    "    def __str__(self):\n",
    "        string = \"a\"\n",
    "        if bool(self.creation_annihilation):\n",
    "            string = string + \"^\"\n",
    "        else:\n",
    "            string = string + \"_\"\n",
    "        if bool(self.spin):\n",
    "            string = string + \"{\" + str(self.orbital) + \"\\\\alpha}\"\n",
    "        else:\n",
    "            string = string + \"{\" + str(self.orbital) + \"\\\\beta}\"\n",
    "        return string\n",
    "\n",
    "    def __eq__(self, other):\n",
    "        if isinstance(other, basicOperator):\n",
    "            return self.orbital == other.orbital and self.spin == other.spin and self.creation_annihilation == other.creation_annihilation\n",
    "        return False\n",
    "\n",
    "    def conjugate(self):\n",
    "        return basicOperator(self.orbital, not self.creation_annihilation, self.spin)\n",
    "\n",
    "    def apply(self, state):\n",
    "        neleca, nelecb = state.nelec[0], state.nelec[1]\n",
    "        norb = state.norb\n",
    "        if bool(self.creation_annihilation):\n",
    "            if bool(self.spin):\n",
    "#                if neleca == norb:\n",
    "#                    state.array = np.array([[0.]])\n",
    "#                    state.nelec = (0, 0)\n",
    "#                else:\n",
    "                state.array = fci.addons.cre_a(state.array, state.norb, state.nelec, self.orbital)\n",
    "                state.nelec = (neleca + 1, nelecb)\n",
    "            else:\n",
    "#                if nelecb == norb:\n",
    "#                    state.array = np.array([[0.]])\n",
    "#                    state.nelec = (0, 0)\n",
    "#                else:\n",
    "                state.array = fci.addons.cre_b(state.array, state.norb, state.nelec, self.orbital)\n",
    "                state.nelec = (neleca, nelecb + 1)\n",
    "        else:\n",
    "            if bool(self.spin):\n",
    "#                if neleca == 0:\n",
    "#                    state.array = np.array([[0.]])\n",
    "#                    state.nelec = (0, 0)\n",
    "#                else:\n",
    "                state.array = fci.addons.des_a(state.array, state.norb, state.nelec, self.orbital)\n",
    "                state.nelec = (neleca - 1, nelecb)\n",
    "            else:\n",
    "#                if nelecb == 0:\n",
    "#                    state.array = np.array([[0.]])\n",
    "#                    state.nelec = (0, 0)\n",
    "#                else:\n",
    "                state.array = fci.addons.des_b(state.array, state.norb, state.nelec, self.orbital)\n",
    "                state.nelec = (neleca, nelecb - 1)"
   ]
  },
  {
   "cell_type": "code",
   "execution_count": 394,
   "metadata": {},
   "outputs": [],
   "source": [
    "class operatorProduct:\n",
    "    def __init__(self, operatorList_, prefactor_=1.):\n",
    "        self.operatorList = operatorList_\n",
    "        self.prefactor = prefactor_\n",
    "\n",
    "    def __str__(self):\n",
    "        string = str(self.prefactor)\n",
    "        if(len(self.operatorList) > 0):\n",
    "            string = string + \" * \"\n",
    "        for o in self.operatorList:\n",
    "            string = string + o.__str__()\n",
    "        return string\n",
    "\n",
    "    def __mul__(self, other):\n",
    "        if isinstance(other, operatorProduct):\n",
    "            return operatorProduct(self.operatorList + other.operatorList, self.prefactor * other.prefactor)\n",
    "        elif isinstance(other, operatorSum):\n",
    "            newSummandList = []\n",
    "            for s in other.summandList:\n",
    "                newSummandList.append(self * s)\n",
    "            return operatorSum(newSummandList)\n",
    "        elif isinstance(other, Number):\n",
    "            return operatorProduct(self.operatorList, self.prefactor * other)\n",
    "\n",
    "    def __rmul__(self, other):\n",
    "        if isinstance(other, Number):\n",
    "            return operatorProduct(self.operatorList, other * self.prefactor)\n",
    "\n",
    "    def __add__(self, other):\n",
    "        if isinstance(other, operatorProduct):\n",
    "            return operatorSum([self, other])\n",
    "        elif isinstance(other, operatorSum):\n",
    "            return operatorSum([self, other.summandList])\n",
    "\n",
    "    def __eq__(self, other):\n",
    "        if isinstance(other, operatorProduct):\n",
    "            return self.operatorList == other.operatorList and self.prefactor == other.prefactor\n",
    "\n",
    "    def checkNilpotency(self):\n",
    "        nonZero = True\n",
    "        i = 0\n",
    "        while i < len(self.operatorList):\n",
    "            j = i + 1\n",
    "            while j < len(self.operatorList):\n",
    "                if self.operatorList[j] == self.operatorList[i]:\n",
    "                    nonZero = False\n",
    "                elif self.operatorList[j] == self.operatorList[i].conjugate():\n",
    "                    break\n",
    "                j = j + 1\n",
    "            i = i + 1\n",
    "        return int(nonZero)\n",
    "\n",
    "    def conjugate(self):\n",
    "        return operatorProduct([o.conjugate() for o in self.operatorList], np.conjugate(self.prefactor))\n",
    "\n",
    "    def apply(self, state):\n",
    "        i = len(self.operatorList)\n",
    "        while i>0:\n",
    "            i = i - 1\n",
    "            self.operatorList[i].apply(state)"
   ]
  },
  {
   "cell_type": "code",
   "execution_count": 507,
   "metadata": {},
   "outputs": [],
   "source": [
    "class operatorSum:\n",
    "    def __init__(self, summandList_):\n",
    "        self.summandList = summandList_\n",
    "\n",
    "    def __str__(self):\n",
    "        string = self.summandList[0].__str__()\n",
    "        s = 1\n",
    "        while s < len(self.summandList):\n",
    "            string = string + \" + \" + self.summandList[s].__str__()\n",
    "            s = s + 1\n",
    "        return string\n",
    "\n",
    "    def __add__(self, other):\n",
    "        if isinstance(other, operatorSum):\n",
    "            return operatorSum(self.summandList + other.summandList)\n",
    "        elif isinstance(other, operatorProduct):\n",
    "            if other.prefactor == 0:\n",
    "                return self\n",
    "            return operatorSum(self.summandList + [other])\n",
    "            \n",
    "    def __radd__(self, other):\n",
    "        if isinstance(other, operatorProduct):\n",
    "            if other.prefactor == 0:\n",
    "                return self\n",
    "            return operatorSum([other] + self.summandList)\n",
    "\n",
    "    def __mul__(self, other):\n",
    "        if isinstance(other, operatorProduct):\n",
    "            newSummandList = []\n",
    "            for s in self.summandList:\n",
    "                newSummandList.append(s * other)\n",
    "            return operatorSum(newSummandList)\n",
    "        elif isinstance(other, operatorSum):\n",
    "            newSummandList = []\n",
    "            for o in other.summandList:\n",
    "                partialSum = self * o\n",
    "                newSummandList = newSummandList + partialSum.summandList\n",
    "            return operatorSum(newSummandList)\n",
    "        elif isinstance(other, Number):\n",
    "            return operatorSum([self.summandList[s] * other for s in range(len(self.summandList))])\n",
    "\n",
    "    def __rmul__(self, other):\n",
    "        if isinstance(other, operatorProduct):\n",
    "            newSummandList = []\n",
    "            for s in self.summandList:\n",
    "                newSummandList.append(other * s)\n",
    "            return operatorSum(newSummandList)\n",
    "        elif isinstance(other, Number):\n",
    "            return operatorSum([other * self.summandList[s] for s in range(len(self.summandList))])\n",
    "\n",
    "    def apply(self, state_):\n",
    "        result = state(np.array([[0.]]), state_.norb, state_.nelec)\n",
    "        for o in self.summandList:\n",
    "            statecopy = deepcopy(state_)\n",
    "            o.apply(statecopy)\n",
    "            print(statecopy.array)\n",
    "            result = statecopy + result\n",
    "            print(result.array)\n",
    "#        state1, state2 = copy(state), copy(state)\n",
    "#        self.operator1.apply(state1)\n",
    "#        self.operator2.apply(state2)\n",
    "#        state = state1 + state2\n",
    "        state_ = deepcopy(result)\n",
    "        print(state_.array)"
   ]
  },
  {
   "cell_type": "code",
   "execution_count": 575,
   "metadata": {},
   "outputs": [],
   "source": [
    "def normalOrder(operator, vacuum):\n",
    "    '''\n",
    "    Input: an operatorProduct or operatorSum and a list corresponding to which orbitals are occupied in the Fermi vacuum\n",
    "    Output: normal ordered form of input, with respect to vacuum\n",
    "    '''\n",
    "    if isinstance(operator, operatorSum):\n",
    "        return operatorSum([normalOrder(product, vacuum) for product in operator.summandList])\n",
    "    quasiCreationList, quasiAnnihilationList = [], []\n",
    "    quasiCreationCount = 0\n",
    "    sign = 1\n",
    "    for o in range(len(operator.operatorList)):\n",
    "        op = operator.operatorList[o]\n",
    "#        print(operator.orbital)\n",
    "#        print(operator.creation_annihilation)\n",
    "#        print(operator.spin)\n",
    "        op.applyFermiVacuum(vacuum)\n",
    "        if bool(op.quasi_cre_ann):\n",
    "            quasiCreationList.append(op)\n",
    "            if (o - quasiCreationCount) % 2 == 1:\n",
    "                sign = -sign\n",
    "            quasiCreationCount += 1\n",
    "        else:\n",
    "            quasiAnnihilationList.append(op)\n",
    "    return operatorProduct(quasiCreationList + quasiAnnihilationList, sign * operator.prefactor)"
   ]
  },
  {
   "cell_type": "code",
   "execution_count": 576,
   "metadata": {},
   "outputs": [
    {
     "output_type": "stream",
     "name": "stdout",
     "text": [
      "a_{1\\alpha}\na^{1\\alpha}\n1.0 * a^{1\\alpha}a_{1\\alpha}\n-1.0 * a_{1\\alpha}a^{1\\alpha}\n1.0 * a_{1\\alpha}a^{1\\alpha}a_{1\\alpha}a^{1\\alpha} + -1.0 * a^{1\\alpha}a_{1\\alpha}a_{1\\alpha}a^{1\\alpha} + -1.0 * a_{1\\alpha}a^{1\\alpha}a^{1\\alpha}a_{1\\alpha} + 1.0 * a^{1\\alpha}a_{1\\alpha}a^{1\\alpha}a_{1\\alpha}\nTrue\n1\n"
     ]
    }
   ],
   "source": [
    "oP = operatorProduct([basicOperator(1,1,1), basicOperator(1,0,1)])\n",
    "nOP = normalOrder(oP, vacuumOccupations)\n",
    "for i in range(len(nOP.operatorList)):\n",
    "    print(nOP.operatorList[i])\n",
    "\n",
    "print(oP)\n",
    "print(nOP)\n",
    "\n",
    "print((nOP + oP) * (nOP + oP))\n",
    "\n",
    "a = basicOperator(1,1,1)\n",
    "b = basicOperator(1,1,1)\n",
    "\n",
    "print(a==b)\n",
    "\n",
    "print((nOP * nOP).checkNilpotency())"
   ]
  },
  {
   "cell_type": "code",
   "execution_count": 577,
   "metadata": {},
   "outputs": [],
   "source": [
    "def anticommute(operatorProduct_, first):\n",
    "    '''\n",
    "    Apply fermionic anticommutation relation to two adjacent second-quantized operators in an operatorProduct\n",
    "    '''\n",
    "    operatorList_ = operatorProduct_.operatorList\n",
    "#    firstIndex = operatorList_[first].orbital\n",
    "#    secondIndex = operatorList_[first + 1].orbital\n",
    "    commutedTerm = operatorProduct(operatorList_[:first] + operatorList_[first + 1] + operatorList_[first] + operatorList_[first + 1:], operatorProduct_.prefactor * (-1))\n",
    "#    if operatorList_[first].quasi_cre_ann == operatorList_[second].quasi_cre_ann:\n",
    "    return commutedTerm\n",
    "#    elif firstIndex == secondIndex:\n",
    "#        contractedTerm = operatorProduct(operatorList_[:first] + operatorList_[first+2:], operatorProduct_.prefactor)\n",
    "#        return operatorSum([contractedTerm, commutedTerm])\n",
    "#    else:\n",
    "#        return commutedTerm"
   ]
  },
  {
   "cell_type": "code",
   "execution_count": 578,
   "metadata": {},
   "outputs": [],
   "source": [
    "def anticommuteInPlace(operatorProduct_, first):\n",
    "    '''\n",
    "    Apply fermionic anticommutation relation in place to two adjacent second-quantized operators in an operatorProduct\n",
    "    '''\n",
    "    operatorList_ = operatorProduct_.operatorList\n",
    "    if operatorProduct_ == []:\n",
    "        return\n",
    "    firstOperatorCopy = deepcopy(operatorList_[first])\n",
    "    operatorList_[first], operatorList_[first + 1] = operatorList_[first + 1], firstOperatorCopy\n",
    "    operatorProduct_.prefactor = -operatorProduct_.prefactor\n",
    "    return"
   ]
  },
  {
   "cell_type": "code",
   "execution_count": 579,
   "metadata": {},
   "outputs": [],
   "source": [
    "def contract(operatorProduct_, first, second):\n",
    "    '''\n",
    "    Make a contraction between the indices of operators at the positions given by first and second in operatorProduct_\n",
    "    '''\n",
    "    operatorList_ = operatorProduct_.operatorList\n",
    "    if operatorList_ == []:\n",
    "        return operatorProduct_\n",
    "    firstIndex = operatorList_[first].orbital\n",
    "    secondIndex = operatorList_[second].orbital\n",
    "    if firstIndex == secondIndex:\n",
    "        if not bool(operatorList_[first].quasi_cre_ann) and bool(operatorList_[second].quasi_cre_ann):\n",
    "            return operatorProduct(operatorList_[:first] + operatorList_[first+1:second] + operatorList_[second + 1:], operatorProduct_.prefactor * ((-1) ** (1 + second - first)))\n",
    "    return operatorProduct([],0)"
   ]
  },
  {
   "cell_type": "code",
   "execution_count": 580,
   "metadata": {},
   "outputs": [],
   "source": [
    "def reorderForContraction(operatorProduct_, first, second):\n",
    "    '''\n",
    "    Reorder operators using anticommutation relation so that two operators to be contracted are in positions 0 and 1\n",
    "    '''\n",
    "    operatorProductCopy = deepcopy(operatorProduct_)\n",
    "    i = first\n",
    "    j = second\n",
    "    while i > 0:\n",
    "        anticommuteInPlace(operatorProductCopy, i-1)\n",
    "        i = i - 1\n",
    "    while j > 1:\n",
    "        anticommuteInPlace(operatorProductCopy, j-1)\n",
    "        j = j - 1\n",
    "    return operatorProductCopy\n"
   ]
  },
  {
   "cell_type": "code",
   "execution_count": 581,
   "metadata": {},
   "outputs": [],
   "source": [
    "def reorderForMultipleContraction(operatorProduct_, pairsList):\n",
    "    '''\n",
    "    Reorder operators using anticommutation relation so that each pair of operators to be contracted are adjacent\n",
    "    '''\n",
    "    operatorProductCopy = deepcopy(operatorProduct_)\n",
    "    finalPosition = 0\n",
    "    for positionPair in pairsList:\n",
    "        i = positionPair[0]\n",
    "        j = positionPair[1]\n",
    "        while i > finalPosition:\n",
    "            anticommuteInPlace(operatorProductCopy, i-1)\n",
    "            i = i - 1\n",
    "        while j > finalPosition + 1:\n",
    "            anticommuteInPlace(operatorProductCopy, j-1)\n",
    "            j = j - 1\n",
    "        finalPosition = finalPosition + 2\n",
    "    return operatorProductCopy"
   ]
  },
  {
   "cell_type": "code",
   "execution_count": 582,
   "metadata": {},
   "outputs": [],
   "source": [
    "def updateFlattenedPositionList(flattenedPositions):\n",
    "    for i in range(len(flattenedPositions)):\n",
    "        if flattenedPositions[i] > flattenedPositions[1]:\n",
    "            flattenedPositions[i] -= 2\n",
    "        elif flattenedPositions[i] > flattenedPositions[0]:\n",
    "            flattenedPositions[i] -= 1\n",
    "    return flattenedPositions[2:]"
   ]
  },
  {
   "cell_type": "code",
   "execution_count": 583,
   "metadata": {},
   "outputs": [],
   "source": [
    "def multipleContraction(operatorProduct_, positionPairsList):\n",
    "    '''\n",
    "    Contractions between multiple pairs of operators in a product, at the positions given by entries 2i and 2i+1 in positionPairsList\n",
    "    '''\n",
    "    product = deepcopy(operatorProduct_)\n",
    "    while len(positionPairsList) > 0:\n",
    "#    for positionPair in pairsList:\n",
    "        reorderedProduct = reorderForContraction(product, positionPairsList[0], positionPairsList[1])\n",
    "        product = contract(reorderedProduct, 0, 1)\n",
    "        positionPairsList = updateFlattenedPositionList(positionPairsList) #NOTE: reduces length of positionPairsList by 2\n",
    "    return product"
   ]
  },
  {
   "cell_type": "code",
   "execution_count": 584,
   "metadata": {},
   "outputs": [],
   "source": [
    "def nFoldContractionFromStart(operatorProduct_, n):\n",
    "    product = deepcopy(operatorProduct_)\n",
    "    if (2 * n <= len(product.operatorList)):\n",
    "        for i in range(n):\n",
    "            product = contract(product, 0, 1)\n",
    "    return product"
   ]
  },
  {
   "cell_type": "code",
   "execution_count": 672,
   "metadata": {},
   "outputs": [
    {
     "output_type": "stream",
     "name": "stdout",
     "text": [
      "1.0 * a_{0\\alpha}a_{1\\alpha}a^{0\\alpha}a^{1\\alpha}\n1.0 * a^{0\\alpha}a^{1\\alpha}a_{0\\alpha}a_{1\\alpha}\n----\n-1.0 * a_{1\\alpha}a^{1\\alpha}\n-1.0 * a_{0\\alpha}a^{0\\alpha}\n-1.0\n0\n4\n----\n-1.0 * a_{0\\alpha}a^{0\\alpha}a_{1\\alpha}a^{1\\alpha}\n-1.0 * a_{1\\alpha}a^{1\\alpha}\n----\n1.0 * a_{0\\alpha}a_{1\\alpha}a^{0\\alpha}a^{1\\alpha}\n"
     ]
    }
   ],
   "source": [
    "vacuumOccupations2 = [0,0,0]\n",
    "oP2 = operatorProduct([basicOperator(0,0,1), basicOperator(1,0,1), basicOperator(0,1,1), basicOperator(1,1,1)])\n",
    "nOP2 = normalOrder(oP2, vacuumOccupations2)\n",
    "print(oP2)\n",
    "print(nOP2)\n",
    "\n",
    "print(\"----\")\n",
    "\n",
    "print(contract(oP2, 0,2))\n",
    "print(contract(oP2, 1,3))\n",
    "print(contract(contract(oP2, 0,2),0,1))\n",
    "print(nFoldContractionFromStart(oP2, 1))\n",
    "print(len(oP2.operatorList))\n",
    "\n",
    "print(\"----\")\n",
    "\n",
    "print(reorderForContraction(oP2,0,2))\n",
    "print(nFoldContractionFromStart(reorderForContraction(oP2,0,2), 1))\n",
    "\n",
    "print(\"----\")\n",
    "\n",
    "print(multipleContraction(oP2, []))"
   ]
  },
  {
   "cell_type": "code",
   "execution_count": 586,
   "metadata": {},
   "outputs": [
    {
     "output_type": "stream",
     "name": "stdout",
     "text": [
      "[0, 2, 1, 3]\n[0, 1]\n[0, 2, 1, 3]\n"
     ]
    }
   ],
   "source": [
    "positionPairs = [(0,2),(1,3)]\n",
    "flattenedPositions = [pos for pair in positionPairs for pos in pair]\n",
    "print(flattenedPositions)\n",
    "flattenedPositionsAfterContraction = deepcopy(flattenedPositions)\n",
    "for i in range(len(flattenedPositionsAfterContraction)):\n",
    "    if flattenedPositionsAfterContraction[i] > flattenedPositionsAfterContraction[1]:\n",
    "        flattenedPositionsAfterContraction[i] -= 2\n",
    "    elif flattenedPositionsAfterContraction[i] > flattenedPositionsAfterContraction[0]:\n",
    "        flattenedPositionsAfterContraction[i] -= 1\n",
    "print(flattenedPositionsAfterContraction[2:])\n",
    "print(flattenedPositions)"
   ]
  },
  {
   "cell_type": "code",
   "execution_count": 587,
   "metadata": {},
   "outputs": [],
   "source": [
    "def genPairOrderedLists(list_):\n",
    "    '''\n",
    "    Given an ordered list with an even number of elements, returns list of all permutations of that list where each adjacent pair is ordered, and where the first elements of pairs are ordered\n",
    "    '''\n",
    "    pairOrderedLists = []\n",
    "    if len(list_) == 2:\n",
    "        pairOrderedLists.append(list_)\n",
    "    else:\n",
    "        for i in range(1,len(list_)):\n",
    "            swappedList = [list_[0]] + [list_[i]] + list_[1:i]\n",
    "            if i < len(list_):\n",
    "                swappedList = swappedList + list_[i+1:]\n",
    "            subLists = genPairOrderedLists(swappedList[2:])\n",
    "            for l in range(len(subLists)):\n",
    "                pairOrderedLists.append(swappedList[:2] + subLists[l])\n",
    "    return pairOrderedLists"
   ]
  },
  {
   "cell_type": "code",
   "execution_count": 588,
   "metadata": {},
   "outputs": [
    {
     "output_type": "stream",
     "name": "stdout",
     "text": [
      "[['a', 'b', 'c', 'd', 'e', 'f'], ['a', 'b', 'c', 'e', 'd', 'f'], ['a', 'b', 'c', 'f', 'd', 'e'], ['a', 'c', 'b', 'd', 'e', 'f'], ['a', 'c', 'b', 'e', 'd', 'f'], ['a', 'c', 'b', 'f', 'd', 'e'], ['a', 'd', 'b', 'c', 'e', 'f'], ['a', 'd', 'b', 'e', 'c', 'f'], ['a', 'd', 'b', 'f', 'c', 'e'], ['a', 'e', 'b', 'c', 'd', 'f'], ['a', 'e', 'b', 'd', 'c', 'f'], ['a', 'e', 'b', 'f', 'c', 'd'], ['a', 'f', 'b', 'c', 'd', 'e'], ['a', 'f', 'b', 'd', 'c', 'e'], ['a', 'f', 'b', 'e', 'c', 'd']]\n"
     ]
    }
   ],
   "source": [
    "objectList = [\"a\", \"b\", \"c\", \"d\", \"e\", \"f\"]\n",
    "print(genPairOrderedLists(objectList))"
   ]
  },
  {
   "cell_type": "code",
   "execution_count": 589,
   "metadata": {},
   "outputs": [],
   "source": [
    "from itertools import combinations"
   ]
  },
  {
   "cell_type": "code",
   "execution_count": 590,
   "metadata": {},
   "outputs": [],
   "source": [
    "def getPositionsForMultipleContraction(operatorProduct_, n):\n",
    "    nOperators = len(operatorProduct_.operatorList)\n",
    "    operatorPositions = range(nOperators)\n",
    "    nToChoose = 2 * n\n",
    "    if nToChoose <= nOperators:\n",
    "        return combinations(operatorPositions, nToChoose)\n"
   ]
  },
  {
   "cell_type": "code",
   "execution_count": 591,
   "metadata": {},
   "outputs": [
    {
     "output_type": "stream",
     "name": "stdout",
     "text": [
      "1.0 * a_{0\\alpha}a^{0\\alpha}a_{1\\alpha}a^{1\\alpha}\n[[0, 1, 2, 3]]\n[]\n"
     ]
    }
   ],
   "source": [
    "print(oP2)\n",
    "chosenPositions = getPositionsForMultipleContraction(oP2, 2)\n",
    "print([list(c) for c in chosenPositions])\n",
    "print([genPairOrderedLists(list(d)) for d in chosenPositions])"
   ]
  },
  {
   "cell_type": "code",
   "execution_count": 592,
   "metadata": {},
   "outputs": [],
   "source": [
    "def sumNFoldContractions(operatorProduct_, n):\n",
    "    chosenPositions = getPositionsForMultipleContraction(operatorProduct_, n)\n",
    "    if n == 0:\n",
    "        return operatorProduct_\n",
    "    operatorSum_ = operatorSum([])\n",
    "    for c in chosenPositions:\n",
    "        pairOrderedList = genPairOrderedLists(list(c))\n",
    "        for l in pairOrderedList:\n",
    "            operatorSum_ = operatorSum_ + multipleContraction(operatorProduct_, l)\n",
    "    return operatorSum_"
   ]
  },
  {
   "cell_type": "code",
   "execution_count": 644,
   "metadata": {},
   "outputs": [
    {
     "output_type": "stream",
     "name": "stdout",
     "text": [
      "1.0 * a_{0\\alpha}a_{1\\alpha}a^{0\\alpha}a^{1\\alpha}\n-1.0\n-1.0 * a_{1\\alpha}a^{1\\alpha} + -1.0 * a_{0\\alpha}a^{0\\alpha}\n"
     ]
    }
   ],
   "source": [
    "print(oP2)\n",
    "print(multipleContraction(oP2, [0,2,1,3]))\n",
    "print(sumNFoldContractions(oP2, 1))"
   ]
  },
  {
   "cell_type": "code",
   "execution_count": 1,
   "metadata": {},
   "outputs": [],
   "source": [
    "def wickExpand(operator, vacuum):\n",
    "    if isinstance(operator, operatorSum):\n",
    "        wickExpansion = operatorSum([], 0.)\n",
    "        for product in operator.summandList:\n",
    "            wickExpansion = wickExpansion + wickExpand(product, vacuum)\n",
    "        return wickExpansion\n",
    "    wickExpansion = operatorSum([normalOrder(operator, vacuum)])\n",
    "    highestOrder = len(operator.operatorList) // 2\n",
    "    for n in range(highestOrder):\n",
    "        wickExpansion = wickExpansion + sumNFoldContractions(operator, n + 1)\n",
    "    return normalOrder(wickExpansion, vacuum)"
   ]
  },
  {
   "cell_type": "code",
   "execution_count": 666,
   "metadata": {},
   "outputs": [],
   "source": [
    "def vacuumExpectationValue(operator, vacuum):\n",
    "    wickExpansion = wickExpand(operator, vacuum)\n",
    "    vEV = 0.\n",
    "    for summand in wickExpansion.summandList:\n",
    "        if summand.operatorList == []:\n",
    "            vEV =+ summand.prefactor\n",
    "    return vEV"
   ]
  },
  {
   "cell_type": "code",
   "execution_count": 671,
   "metadata": {},
   "outputs": [
    {
     "output_type": "stream",
     "name": "stdout",
     "text": [
      "1.0 * a_{0\\alpha}a_{1\\alpha}a^{0\\alpha}a^{1\\alpha}\n[1, 1, 0]\n1.0 * a_{0\\alpha}a_{1\\alpha}a^{0\\alpha}a^{1\\alpha}\n0.0\n"
     ]
    }
   ],
   "source": [
    "print(oP2)\n",
    "print(vacuumOccupations)\n",
    "print(wickExpand(oP2, vacuumOccupations))\n",
    "print(vacuumExpectationValue(oP2, vacuumOccupations))"
   ]
  },
  {
   "cell_type": "code",
   "execution_count": 595,
   "metadata": {},
   "outputs": [],
   "source": [
    "#Particle number-conserving excitation operators, normal ordered with respect to true vacuum\n",
    "class excitation(operatorProduct):\n",
    "    def __init__(self, creationList_, annihilationList_, spinList_):\n",
    "        self.operatorList = []\n",
    "        for i in range(len(creationList_)):\n",
    "            self.operatorList.append(basicOperator(creationList_[i], 1, spinList_[i]))\n",
    "        for i in range(len(annihilationList_)):\n",
    "            self.operatorList.append(basicOperator(annihilationList_[i], 0, spinList_[i+len(creationList_)]))"
   ]
  },
  {
   "cell_type": "code",
   "execution_count": 596,
   "metadata": {},
   "outputs": [],
   "source": [
    "class spinFreeExcitation(operatorSum):\n",
    "    def __init__(self, creationList_, annihilationList_):\n",
    "        self.operatorList = []\n",
    "        spinLists = np.reshape(np.zeros(len(creationList_)), (1, -1))\n",
    "        for i in range(len(creationList_)):\n",
    "            newspinLists = deepcopy(spinLists)\n",
    "            for s in range(len(spinLists)):\n",
    "                newspinLists[s,i] = 1\n",
    "            spinLists = np.concatenate((spinLists, newspinLists))\n",
    "        for l in range(len(spinLists)):\n",
    "            spinList = spinLists[l]\n",
    "            self.operatorList.append(excitation(creationList_, annihilationList_, [*spinList, *spinList[::-1]]))"
   ]
  },
  {
   "cell_type": "code",
   "execution_count": 597,
   "metadata": {},
   "outputs": [],
   "source": [
    "class operatorString:\n",
    "    def __init__(self, string_):\n",
    "        self.string = string_\n",
    "        #list of indices in the string of second-quantised operators\n",
    "        self.iS = []\n",
    "        #bitstring of same length, with 1 corresponding to creation and 0 for annihilation\n",
    "        self.cOA = []\n",
    "        #bitstring of same length, with 1 corresponding to alpha and 0 for beta\n",
    "        self.aOB = []\n",
    "\n",
    "    #Get indices, alpha or beta, and creation or annihilation from string\n",
    "    def parse(self):\n",
    "        c = 0\n",
    "        while c < len(self.string) - 1:\n",
    "            self.iS.append(int(self.string[c]))\n",
    "            if self.string[c+1] == \"a\":\n",
    "                    self.aOB.append(1)\n",
    "            elif self.string[c+1] == \"b\":\n",
    "                    self.aOB.append(0)\n",
    "            if c < len(self.string) - 2 and self.string[c+2] == \"+\":\n",
    "                self.cOA.append(1)\n",
    "                c = c + 3\n",
    "            else:\n",
    "                self.cOA.append(0)\n",
    "                c = c + 2\n",
    "\n",
    "    #Change string based on new indices, alpha or beta, and creation or annihilation\n",
    "    def updateString(self):\n",
    "        self.string = \"\"\n",
    "        i = 0\n",
    "        while i < len(self.iS):\n",
    "            if bool(self.cOA[i]):\n",
    "                if bool(self.aOB[i]):\n",
    "                    self.string = self.string + str(self.iS[i]) + \"a+\"\n",
    "                else:\n",
    "                    self.string = self.string + str(self.iS[i]) + \"b+\"\n",
    "            else:\n",
    "                if bool(self.aOB[i]):\n",
    "                    self.string = self.string + str(self.iS[i]) + \"a\"\n",
    "                else:\n",
    "                    self.string = self.string + str(self.iS[i]) + \"b\"\n",
    "            i = i + 1\n",
    "\n",
    "    #Apply the string of second-quantised operators to an arbitrary state object\n",
    "    #Note that nelec does not yet account for the state being completely annihilated\n",
    "    def apply(self, state):\n",
    "        i = len(self.iS)\n",
    "        while(i > 0):\n",
    "            i = i - 1\n",
    "#            print(i)\n",
    "#            print(self.iS[i])\n",
    "#            print(self.cOA[i])\n",
    "#            print(self.aOB[i])\n",
    "            neleca, nelecb = state.nelec[0], state.nelec[1]\n",
    "            if bool(self.cOA[i]):\n",
    "                if bool(self.aOB[i]):\n",
    "                    state.array = fci.addons.cre_a(state.array, state.norb, state.nelec, self.iS[i])\n",
    "                    state.nelec = (neleca + 1, nelecb)\n",
    "                else:\n",
    "                    state.array = fci.addons.cre_b(state.array, state.norb, state.nelec, self.iS[i])\n",
    "                    state.nelec = (neleca, nelecb + 1)\n",
    "            else:\n",
    "                if bool(self.aOB[i]):\n",
    "                    state.array = fci.addons.des_a(state.array, state.norb, state.nelec, self.iS[i])\n",
    "                    state.nelec = (neleca - 1, nelecb)\n",
    "                else:\n",
    "                    state.array = fci.addons.des_b(state.array, state.norb, state.nelec, self.iS[i])\n",
    "                    state.nelec = (neleca, nelecb - 1)"
   ]
  },
  {
   "cell_type": "code",
   "execution_count": 598,
   "metadata": {},
   "outputs": [],
   "source": [
    "class state:\n",
    "    def __init__(self, array_, norb_, nelec_):\n",
    "        self.array = array_\n",
    "        self.norb = norb_\n",
    "        self.nelec = nelec_\n",
    "\n",
    "    def __add__(self, other):\n",
    "        if (other.array == 0.).all():\n",
    "            return self\n",
    "        elif (self.array == 0.).all():\n",
    "            return other\n",
    "        elif self.norb == other.norb and self.nelec == other.nelec:\n",
    "            newArray = self.array + other.array\n",
    "            return state(newArray, self.norb, self.nelec)\n",
    "        else:\n",
    "            print(\"Adding states of different orbital or particle numbers or different spin projections is not supported. Returning original state\")\n",
    "            return self\n",
    "\n",
    "    def __radd__(self, other):\n",
    "        if other == 0:\n",
    "            return self\n",
    "        else:\n",
    "            return self.__add__(other)\n"
   ]
  },
  {
   "cell_type": "code",
   "execution_count": null,
   "metadata": {},
   "outputs": [],
   "source": []
  },
  {
   "cell_type": "code",
   "execution_count": 599,
   "metadata": {},
   "outputs": [],
   "source": [
    "ref = state(np.array([[1.,0.,0.],[0.,0.,0.],[0.,0.,0.]]), 3, (2,1))"
   ]
  },
  {
   "cell_type": "code",
   "execution_count": 600,
   "metadata": {},
   "outputs": [],
   "source": [
    "new = deepcopy(ref)"
   ]
  },
  {
   "cell_type": "code",
   "execution_count": 601,
   "metadata": {},
   "outputs": [],
   "source": [
    "des0a, des0b = basicOperator(0,0,1), basicOperator(0,0,0)\n",
    "des1a, des1b = basicOperator(1,0,1), basicOperator(1,0,0)\n",
    "des2a, des2b = basicOperator(2,0,1), basicOperator(2,0,0)\n",
    "\n",
    "cre0a, cre0b = basicOperator(0,1,1), basicOperator(0,1,0)\n",
    "cre1a, cre1b = basicOperator(1,1,1), basicOperator(1,1,0)\n",
    "cre2a, cre2b = basicOperator(2,1,1), basicOperator(2,1,0)"
   ]
  },
  {
   "cell_type": "code",
   "execution_count": 602,
   "metadata": {},
   "outputs": [],
   "source": [
    "exc12a = operatorProduct([cre2a, des1a])\n",
    "exc12b = operatorProduct([cre2b, des1b])\n",
    "exc12 = operatorSum([exc12a, exc12b])"
   ]
  },
  {
   "cell_type": "code",
   "execution_count": 603,
   "metadata": {},
   "outputs": [
    {
     "output_type": "execute_result",
     "data": {
      "text/plain": [
       "array([[1., 0., 0.],\n",
       "       [0., 0., 0.],\n",
       "       [0., 0., 0.]])"
      ]
     },
     "metadata": {},
     "execution_count": 603
    }
   ],
   "source": [
    "new.array"
   ]
  },
  {
   "cell_type": "code",
   "execution_count": 604,
   "metadata": {},
   "outputs": [
    {
     "output_type": "stream",
     "name": "stdout",
     "text": [
      "[[0. 0. 0.]\n [1. 0. 0.]\n [0. 0. 0.]]\n[[0. 0. 0.]\n [1. 0. 0.]\n [0. 0. 0.]]\n[[0. 0. 0.]\n [0. 0. 0.]\n [0. 0. 0.]]\n[[0. 0. 0.]\n [1. 0. 0.]\n [0. 0. 0.]]\n[[0. 0. 0.]\n [1. 0. 0.]\n [0. 0. 0.]]\n"
     ]
    }
   ],
   "source": [
    "exc12.apply(new)"
   ]
  },
  {
   "cell_type": "code",
   "execution_count": 605,
   "metadata": {},
   "outputs": [
    {
     "output_type": "execute_result",
     "data": {
      "text/plain": [
       "array([[1., 0., 0.],\n",
       "       [0., 0., 0.],\n",
       "       [0., 0., 0.]])"
      ]
     },
     "metadata": {},
     "execution_count": 605
    }
   ],
   "source": [
    "new.array"
   ]
  },
  {
   "cell_type": "code",
   "execution_count": 606,
   "metadata": {},
   "outputs": [
    {
     "output_type": "execute_result",
     "data": {
      "text/plain": [
       "(2, 1)"
      ]
     },
     "metadata": {},
     "execution_count": 606
    }
   ],
   "source": [
    "new.nelec"
   ]
  },
  {
   "cell_type": "code",
   "execution_count": 607,
   "metadata": {},
   "outputs": [],
   "source": [
    "opStr = operatorString(\"0a1b+2a+\")\n",
    "opStr.parse()"
   ]
  },
  {
   "cell_type": "code",
   "execution_count": 608,
   "metadata": {},
   "outputs": [
    {
     "output_type": "execute_result",
     "data": {
      "text/plain": [
       "[0, 1, 2]"
      ]
     },
     "metadata": {},
     "execution_count": 608
    }
   ],
   "source": [
    "opStr.iS"
   ]
  },
  {
   "cell_type": "code",
   "execution_count": 609,
   "metadata": {},
   "outputs": [],
   "source": [
    "new = deepcopy(ref)\n",
    "opStr.apply(new)"
   ]
  },
  {
   "cell_type": "code",
   "execution_count": 610,
   "metadata": {},
   "outputs": [
    {
     "output_type": "execute_result",
     "data": {
      "text/plain": [
       "(2, 1)"
      ]
     },
     "metadata": {},
     "execution_count": 610
    }
   ],
   "source": [
    "ref.nelec"
   ]
  },
  {
   "cell_type": "code",
   "execution_count": 611,
   "metadata": {},
   "outputs": [
    {
     "output_type": "execute_result",
     "data": {
      "text/plain": [
       "(2, 2)"
      ]
     },
     "metadata": {},
     "execution_count": 611
    }
   ],
   "source": [
    "new.nelec"
   ]
  },
  {
   "cell_type": "code",
   "execution_count": 612,
   "metadata": {},
   "outputs": [
    {
     "output_type": "execute_result",
     "data": {
      "text/plain": [
       "array([[ 0.,  0.,  0.],\n",
       "       [ 0.,  0.,  0.],\n",
       "       [-1.,  0.,  0.]])"
      ]
     },
     "metadata": {},
     "execution_count": 612
    }
   ],
   "source": [
    "new.array"
   ]
  },
  {
   "cell_type": "code",
   "execution_count": 613,
   "metadata": {},
   "outputs": [
    {
     "output_type": "stream",
     "name": "stdout",
     "text": [
      "0a+0b+1a+\n[0, 0, 1]\n[1, 0, 1]\n[1, 1, 1]\n"
     ]
    }
   ],
   "source": [
    "opStr1 = operatorString(\"0a+0b+1a+\")\n",
    "opStr1.parse()\n",
    "print(opStr1.string)\n",
    "print(opStr1.iS)\n",
    "print(opStr1.aOB)\n",
    "print(opStr1.cOA)"
   ]
  },
  {
   "cell_type": "code",
   "execution_count": 614,
   "metadata": {},
   "outputs": [],
   "source": [
    "opStr2 = copy(opStr1)"
   ]
  },
  {
   "cell_type": "code",
   "execution_count": 615,
   "metadata": {},
   "outputs": [
    {
     "output_type": "execute_result",
     "data": {
      "text/plain": [
       "str"
      ]
     },
     "metadata": {},
     "execution_count": 615
    }
   ],
   "source": [
    "type(opStr2.string)"
   ]
  },
  {
   "cell_type": "code",
   "execution_count": 616,
   "metadata": {},
   "outputs": [
    {
     "output_type": "stream",
     "name": "stdout",
     "text": [
      "0a+0b+1a+\n[0, 0, 2]\n[1, 0, 1]\n[1, 1, 1]\n"
     ]
    }
   ],
   "source": [
    "opStr2.iS[2] = 2\n",
    "print(opStr2.string)\n",
    "print(opStr2.iS)\n",
    "print(opStr2.aOB)\n",
    "print(opStr2.cOA)"
   ]
  },
  {
   "cell_type": "code",
   "execution_count": 617,
   "metadata": {},
   "outputs": [],
   "source": [
    "opStr2.updateString()"
   ]
  },
  {
   "cell_type": "code",
   "execution_count": 618,
   "metadata": {},
   "outputs": [
    {
     "output_type": "execute_result",
     "data": {
      "text/plain": [
       "'0a+0b+2a+'"
      ]
     },
     "metadata": {},
     "execution_count": 618
    }
   ],
   "source": [
    "opStr2.string"
   ]
  },
  {
   "cell_type": "code",
   "execution_count": 619,
   "metadata": {},
   "outputs": [
    {
     "output_type": "execute_result",
     "data": {
      "text/plain": [
       "array([[1., 0., 0.],\n",
       "       [0., 0., 0.],\n",
       "       [0., 0., 0.]])"
      ]
     },
     "metadata": {},
     "execution_count": 619
    }
   ],
   "source": [
    "ref.array"
   ]
  },
  {
   "cell_type": "code",
   "execution_count": 620,
   "metadata": {},
   "outputs": [],
   "source": [
    "new = copy(ref)"
   ]
  },
  {
   "cell_type": "code",
   "execution_count": 621,
   "metadata": {},
   "outputs": [
    {
     "output_type": "execute_result",
     "data": {
      "text/plain": [
       "array([[1., 0., 0.],\n",
       "       [0., 0., 0.],\n",
       "       [0., 0., 0.]])"
      ]
     },
     "metadata": {},
     "execution_count": 621
    }
   ],
   "source": [
    "new.array"
   ]
  },
  {
   "cell_type": "code",
   "execution_count": 622,
   "metadata": {},
   "outputs": [],
   "source": [
    "opStr.apply(new)"
   ]
  },
  {
   "cell_type": "code",
   "execution_count": 623,
   "metadata": {},
   "outputs": [
    {
     "output_type": "execute_result",
     "data": {
      "text/plain": [
       "array([[ 0.,  0.,  0.],\n",
       "       [ 0.,  0.,  0.],\n",
       "       [-1.,  0.,  0.]])"
      ]
     },
     "metadata": {},
     "execution_count": 623
    }
   ],
   "source": [
    "new.array"
   ]
  },
  {
   "cell_type": "code",
   "execution_count": 624,
   "metadata": {},
   "outputs": [],
   "source": [
    "cre0a = basicOperator(0,1,1)"
   ]
  },
  {
   "cell_type": "code",
   "execution_count": 625,
   "metadata": {},
   "outputs": [],
   "source": [
    "cre0a.apply(new)"
   ]
  },
  {
   "cell_type": "code",
   "execution_count": 626,
   "metadata": {},
   "outputs": [
    {
     "output_type": "execute_result",
     "data": {
      "text/plain": [
       "array([[-1.,  0.,  0.]])"
      ]
     },
     "metadata": {},
     "execution_count": 626
    }
   ],
   "source": [
    "new.array"
   ]
  },
  {
   "cell_type": "code",
   "execution_count": 627,
   "metadata": {},
   "outputs": [
    {
     "output_type": "execute_result",
     "data": {
      "text/plain": [
       "(3, 2)"
      ]
     },
     "metadata": {},
     "execution_count": 627
    }
   ],
   "source": [
    "new.nelec"
   ]
  },
  {
   "cell_type": "code",
   "execution_count": 628,
   "metadata": {},
   "outputs": [],
   "source": [
    "des1 = operatorSum([basicOperator(1,1,0), basicOperator(1,0,0)])"
   ]
  },
  {
   "cell_type": "code",
   "execution_count": 629,
   "metadata": {
    "scrolled": true
   },
   "outputs": [
    {
     "output_type": "stream",
     "name": "stdout",
     "text": [
      "[[0.]]\n[[0.]]\n[[1. 0. 0.]]\n[[1. 0. 0.]]\n[[1. 0. 0.]]\n"
     ]
    }
   ],
   "source": [
    "des1.apply(new)"
   ]
  },
  {
   "cell_type": "code",
   "execution_count": 630,
   "metadata": {
    "scrolled": true
   },
   "outputs": [],
   "source": [
    "E12 = spinFreeExcitation([2],[1])"
   ]
  },
  {
   "cell_type": "code",
   "execution_count": 631,
   "metadata": {},
   "outputs": [
    {
     "output_type": "error",
     "ename": "AttributeError",
     "evalue": "'spinFreeExcitation' object has no attribute 'summandList'",
     "traceback": [
      "\u001b[0;31m---------------------------------------------------------------------------\u001b[0m",
      "\u001b[0;31mAttributeError\u001b[0m                            Traceback (most recent call last)",
      "\u001b[0;32m<ipython-input-631-78aa4313b543>\u001b[0m in \u001b[0;36m<module>\u001b[0;34m\u001b[0m\n\u001b[0;32m----> 1\u001b[0;31m \u001b[0mE12\u001b[0m\u001b[0;34m.\u001b[0m\u001b[0mapply\u001b[0m\u001b[0;34m(\u001b[0m\u001b[0mnew\u001b[0m\u001b[0;34m)\u001b[0m\u001b[0;34m\u001b[0m\u001b[0;34m\u001b[0m\u001b[0m\n\u001b[0m",
      "\u001b[0;32m<ipython-input-507-2aedf095e403>\u001b[0m in \u001b[0;36mapply\u001b[0;34m(self, state_)\u001b[0m\n\u001b[1;32m     51\u001b[0m     \u001b[0;32mdef\u001b[0m \u001b[0mapply\u001b[0m\u001b[0;34m(\u001b[0m\u001b[0mself\u001b[0m\u001b[0;34m,\u001b[0m \u001b[0mstate_\u001b[0m\u001b[0;34m)\u001b[0m\u001b[0;34m:\u001b[0m\u001b[0;34m\u001b[0m\u001b[0;34m\u001b[0m\u001b[0m\n\u001b[1;32m     52\u001b[0m         \u001b[0mresult\u001b[0m \u001b[0;34m=\u001b[0m \u001b[0mstate\u001b[0m\u001b[0;34m(\u001b[0m\u001b[0mnp\u001b[0m\u001b[0;34m.\u001b[0m\u001b[0marray\u001b[0m\u001b[0;34m(\u001b[0m\u001b[0;34m[\u001b[0m\u001b[0;34m[\u001b[0m\u001b[0;36m0.\u001b[0m\u001b[0;34m]\u001b[0m\u001b[0;34m]\u001b[0m\u001b[0;34m)\u001b[0m\u001b[0;34m,\u001b[0m \u001b[0mstate_\u001b[0m\u001b[0;34m.\u001b[0m\u001b[0mnorb\u001b[0m\u001b[0;34m,\u001b[0m \u001b[0mstate_\u001b[0m\u001b[0;34m.\u001b[0m\u001b[0mnelec\u001b[0m\u001b[0;34m)\u001b[0m\u001b[0;34m\u001b[0m\u001b[0;34m\u001b[0m\u001b[0m\n\u001b[0;32m---> 53\u001b[0;31m         \u001b[0;32mfor\u001b[0m \u001b[0mo\u001b[0m \u001b[0;32min\u001b[0m \u001b[0mself\u001b[0m\u001b[0;34m.\u001b[0m\u001b[0msummandList\u001b[0m\u001b[0;34m:\u001b[0m\u001b[0;34m\u001b[0m\u001b[0;34m\u001b[0m\u001b[0m\n\u001b[0m\u001b[1;32m     54\u001b[0m             \u001b[0mstatecopy\u001b[0m \u001b[0;34m=\u001b[0m \u001b[0mdeepcopy\u001b[0m\u001b[0;34m(\u001b[0m\u001b[0mstate_\u001b[0m\u001b[0;34m)\u001b[0m\u001b[0;34m\u001b[0m\u001b[0;34m\u001b[0m\u001b[0m\n\u001b[1;32m     55\u001b[0m             \u001b[0mo\u001b[0m\u001b[0;34m.\u001b[0m\u001b[0mapply\u001b[0m\u001b[0;34m(\u001b[0m\u001b[0mstatecopy\u001b[0m\u001b[0;34m)\u001b[0m\u001b[0;34m\u001b[0m\u001b[0;34m\u001b[0m\u001b[0m\n",
      "\u001b[0;31mAttributeError\u001b[0m: 'spinFreeExcitation' object has no attribute 'summandList'"
     ]
    }
   ],
   "source": [
    "E12.apply(new)"
   ]
  },
  {
   "cell_type": "code",
   "execution_count": 458,
   "metadata": {},
   "outputs": [
    {
     "output_type": "execute_result",
     "data": {
      "text/plain": [
       "array([[-1.,  0.,  0.]])"
      ]
     },
     "metadata": {},
     "execution_count": 458
    }
   ],
   "source": [
    "new.array"
   ]
  },
  {
   "cell_type": "code",
   "execution_count": 459,
   "metadata": {},
   "outputs": [],
   "source": [
    "des1a.apply(new)"
   ]
  },
  {
   "cell_type": "code",
   "execution_count": 460,
   "metadata": {},
   "outputs": [
    {
     "output_type": "execute_result",
     "data": {
      "text/plain": [
       "(2, 2)"
      ]
     },
     "metadata": {},
     "execution_count": 460
    }
   ],
   "source": [
    "new.nelec"
   ]
  },
  {
   "cell_type": "code",
   "execution_count": 461,
   "metadata": {},
   "outputs": [
    {
     "output_type": "execute_result",
     "data": {
      "text/plain": [
       "array([[ 0.,  0.,  0.],\n",
       "       [ 1., -0., -0.],\n",
       "       [ 0.,  0.,  0.]])"
      ]
     },
     "metadata": {},
     "execution_count": 461
    }
   ],
   "source": [
    "new.array"
   ]
  },
  {
   "cell_type": "code",
   "execution_count": 462,
   "metadata": {},
   "outputs": [
    {
     "output_type": "execute_result",
     "data": {
      "text/plain": [
       "array([[1., 0., 0.],\n",
       "       [0., 0., 0.],\n",
       "       [0., 0., 0.]])"
      ]
     },
     "metadata": {},
     "execution_count": 462
    }
   ],
   "source": [
    "ref.array"
   ]
  },
  {
   "cell_type": "code",
   "execution_count": 463,
   "metadata": {},
   "outputs": [
    {
     "output_type": "execute_result",
     "data": {
      "text/plain": [
       "(2, 1)"
      ]
     },
     "metadata": {},
     "execution_count": 463
    }
   ],
   "source": [
    "ref.nelec"
   ]
  },
  {
   "cell_type": "code",
   "execution_count": 464,
   "metadata": {},
   "outputs": [],
   "source": [
    "new = copy(ref)"
   ]
  },
  {
   "cell_type": "code",
   "execution_count": 465,
   "metadata": {},
   "outputs": [],
   "source": [
    "des1b.apply(new)"
   ]
  },
  {
   "cell_type": "code",
   "execution_count": 466,
   "metadata": {},
   "outputs": [
    {
     "output_type": "execute_result",
     "data": {
      "text/plain": [
       "array([[0.],\n",
       "       [0.],\n",
       "       [0.]])"
      ]
     },
     "metadata": {},
     "execution_count": 466
    }
   ],
   "source": [
    "new.array"
   ]
  },
  {
   "cell_type": "code",
   "execution_count": 467,
   "metadata": {},
   "outputs": [
    {
     "output_type": "execute_result",
     "data": {
      "text/plain": [
       "(2, 0)"
      ]
     },
     "metadata": {},
     "execution_count": 467
    }
   ],
   "source": [
    "new.nelec"
   ]
  },
  {
   "cell_type": "code",
   "execution_count": 468,
   "metadata": {},
   "outputs": [
    {
     "output_type": "execute_result",
     "data": {
      "text/plain": [
       "__main__.state"
      ]
     },
     "metadata": {},
     "execution_count": 468
    }
   ],
   "source": [
    "type(new)"
   ]
  },
  {
   "cell_type": "code",
   "execution_count": 469,
   "metadata": {},
   "outputs": [
    {
     "output_type": "execute_result",
     "data": {
      "text/plain": [
       "array([[1., 0., 0.],\n",
       "       [0., 0., 0.],\n",
       "       [0., 0., 0.]])"
      ]
     },
     "metadata": {},
     "execution_count": 469
    }
   ],
   "source": [
    "ref.array"
   ]
  }
 ],
 "metadata": {
  "kernelspec": {
   "display_name": "Python 3",
   "language": "python",
   "name": "python3"
  },
  "language_info": {
   "codemirror_mode": {
    "name": "ipython",
    "version": 3
   },
   "file_extension": ".py",
   "mimetype": "text/x-python",
   "name": "python",
   "nbconvert_exporter": "python",
   "pygments_lexer": "ipython3",
   "version": "3.8.0-final"
  }
 },
 "nbformat": 4,
 "nbformat_minor": 2
}