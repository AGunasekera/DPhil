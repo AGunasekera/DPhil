{
 "metadata": {
  "language_info": {
   "codemirror_mode": {
    "name": "ipython",
    "version": 3
   },
   "file_extension": ".py",
   "mimetype": "text/x-python",
   "name": "python",
   "nbconvert_exporter": "python",
   "pygments_lexer": "ipython3",
   "version": "3.8.0-final"
  },
  "orig_nbformat": 2,
  "kernelspec": {
   "name": "python3",
   "display_name": "Python 3.8.0 64-bit",
   "metadata": {
    "interpreter": {
     "hash": "082e9a3bcad0a290d0001e938aa60b99250c6c2ef33a923c00b70f9826caf4b7"
    }
   }
  }
 },
 "nbformat": 4,
 "nbformat_minor": 2,
 "cells": [
  {
   "cell_type": "code",
   "execution_count": 1,
   "metadata": {},
   "outputs": [],
   "source": [
    "import numpy as np\n",
    "from pyscf import fci\n",
    "from copy import deepcopy, copy\n",
    "\n",
    "#define vacuum\n",
    "#take in operator string\n",
    "#format: string of indices, bitstring of creation vs annihilation\n",
    "#return normal-ordered operator string plus contracted terms, according to Wick's theorem\n",
    "\n"
   ]
  },
  {
   "cell_type": "code",
   "execution_count": 2,
   "metadata": {},
   "outputs": [],
   "source": [
    "class basicOperator:\n",
    "    def __init__(self, orbital_, creation_annihilation_, spin_):\n",
    "        self.orbital = orbital_ #orbital index\n",
    "        self.spin = spin_ #1 for alpha, 0 for beta\n",
    "        self.creation_annihilation = creation_annihilation_ #1 for creation, 0 for annihilation\n",
    "\n",
    "    def apply(self, state):\n",
    "        neleca, nelecb = state.nelec[0], state.nelec[1]\n",
    "        if bool(self.creation_annihilation):\n",
    "            if bool(self.spin):\n",
    "                state.array = fci.addons.cre_a(state.array, state.norb, state.nelec, self.orbital)\n",
    "                state.nelec = (neleca + 1, nelecb)\n",
    "            else:\n",
    "                state.array = fci.addons.cre_b(state.array, state.norb, state.nelec, self.orbital)\n",
    "                state.nelec = (neleca, nelecb + 1)\n",
    "        else:\n",
    "            if bool(self.spin):\n",
    "                state.array = fci.addons.des_a(state.array, state.norb, state.nelec, self.orbital)\n",
    "                state.nelec = (neleca - 1, nelecb)\n",
    "            else:\n",
    "                state.array = fci.addons.des_b(state.array, state.norb, state.nelec, self.orbital)\n",
    "                state.nelec = (neleca, nelecb - 1)"
   ]
  },
  {
   "cell_type": "code",
   "execution_count": 74,
   "metadata": {},
   "outputs": [],
   "source": [
    "class operatorSum:\n",
    "    def __init__(self, operatorList_):\n",
    "        self.operatorList = operatorList_\n",
    "\n",
    "    def apply(self, state):\n",
    "        result = 0\n",
    "        for o in self.operatorList:\n",
    "            statecopy = copy(state)\n",
    "            o.apply(statecopy)\n",
    "            result = statecopy + result\n",
    "#        state1, state2 = copy(state), copy(state)\n",
    "#        self.operator1.apply(state1)\n",
    "#        self.operator2.apply(state2)\n",
    "#        state = state1 + state2\n",
    "        state = result"
   ]
  },
  {
   "cell_type": "code",
   "execution_count": 72,
   "metadata": {},
   "outputs": [],
   "source": [
    "class operatorProduct:\n",
    "    def __init__(self, operatorList_):\n",
    "        self.operatorList = operatorList_\n",
    "\n",
    "    def apply(self, state):\n",
    "        i = len(self.operatorList)\n",
    "        while i>0:\n",
    "            i = i - 1\n",
    "            self.operatorList[i].apply(state)"
   ]
  },
  {
   "cell_type": "code",
   "execution_count": 73,
   "metadata": {},
   "outputs": [],
   "source": [
    "#Normal-ordered particle number-conserving excitation operators\n",
    "class excitation(operatorProduct):\n",
    "    def __init__(self, creationList_, annihilationList_, spinList_):\n",
    "        self.operatorList = []\n",
    "        for i in range(len(creationList_)):\n",
    "            self.operatorList.append(basicOperator(creationList_[i], 1, spinList_[i]))\n",
    "        for i in range(len(annihilationList_)):\n",
    "            self.operatorList.append(basicOperator(annihilationList_[i], 0, spinList_[i+len(creationList_)]))"
   ]
  },
  {
   "cell_type": "code",
   "execution_count": 77,
   "metadata": {},
   "outputs": [],
   "source": [
    "class spinFreeExcitation(operatorSum):\n",
    "    def __init__(self, creationList_, annihilationList_):\n",
    "        self.operatorList = []\n",
    "        spinLists = np.reshape(np.zeros(len(creationList_)), (1, -1))\n",
    "        for i in range(len(creationList_)):\n",
    "            newspinLists = spinLists.copy()\n",
    "            for s in range(len(spinLists)):\n",
    "                newspinLists[s,i] = 1\n",
    "            spinLists = np.concatenate((spinLists, newspinLists))\n",
    "        for l in range(len(spinLists)):\n",
    "            spinList = spinLists[l]\n",
    "            self.operatorList.append(excitation(creationList_, annihilationList_, spinList + spinList[::-1]))"
   ]
  },
  {
   "cell_type": "code",
   "execution_count": 4,
   "metadata": {},
   "outputs": [],
   "source": [
    "class operatorString:\n",
    "    def __init__(self, string_):\n",
    "        self.string = string_\n",
    "        #list of indices in the string of second-quantised operators\n",
    "        self.iS = []\n",
    "        #bitstring of same length, with 1 corresponding to creation and 0 for annihilation\n",
    "        self.cOA = []\n",
    "        #bitstring of same length, with 1 corresponding to alpha and 0 for beta\n",
    "        self.aOB = []\n",
    "\n",
    "    #Get indices, alpha or beta, and creation or annihilation from string\n",
    "    def parse(self):\n",
    "        c = 0\n",
    "        while c < len(self.string) - 1:\n",
    "            self.iS.append(int(self.string[c]))\n",
    "            if self.string[c+1] == \"a\":\n",
    "                    self.aOB.append(1)\n",
    "            elif self.string[c+1] == \"b\":\n",
    "                    self.aOB.append(0)\n",
    "            if c < len(self.string) - 2 and self.string[c+2] == \"+\":\n",
    "                self.cOA.append(1)\n",
    "                c = c + 3\n",
    "            else:\n",
    "                self.cOA.append(0)\n",
    "                c = c + 2\n",
    "\n",
    "    #Change string based on new indices, alpha or beta, and creation or annihilation\n",
    "    def updateString(self):\n",
    "        self.string = \"\"\n",
    "        i = 0\n",
    "        while i < len(self.iS):\n",
    "            if bool(self.cOA[i]):\n",
    "                if bool(self.aOB[i]):\n",
    "                    self.string = self.string + str(self.iS[i]) + \"a+\"\n",
    "                else:\n",
    "                    self.string = self.string + str(self.iS[i]) + \"b+\"\n",
    "            else:\n",
    "                if bool(self.aOB[i]):\n",
    "                    self.string = self.string + str(self.iS[i]) + \"a\"\n",
    "                else:\n",
    "                    self.string = self.string + str(self.iS[i]) + \"b\"\n",
    "            i = i + 1\n",
    "\n",
    "    #Apply the string of second-quantised operators to an arbitrary state object\n",
    "    #Note that nelec does not yet account for the state being completely annihilated\n",
    "    def apply(self, state):\n",
    "        i = len(self.iS)\n",
    "        while(i > 0):\n",
    "            i = i - 1\n",
    "#            print(i)\n",
    "#            print(self.iS[i])\n",
    "#            print(self.cOA[i])\n",
    "#            print(self.aOB[i])\n",
    "            neleca, nelecb = state.nelec[0], state.nelec[1]\n",
    "            if bool(self.cOA[i]):\n",
    "                if bool(self.aOB[i]):\n",
    "                    state.array = fci.addons.cre_a(state.array, state.norb, state.nelec, self.iS[i])\n",
    "                    state.nelec = (neleca + 1, nelecb)\n",
    "                else:\n",
    "                    state.array = fci.addons.cre_b(state.array, state.norb, state.nelec, self.iS[i])\n",
    "                    state.nelec = (neleca, nelecb + 1)\n",
    "            else:\n",
    "                if bool(self.aOB[i]):\n",
    "                    state.array = fci.addons.des_a(state.array, state.norb, state.nelec, self.iS[i])\n",
    "                    state.nelec = (neleca - 1, nelecb)\n",
    "                else:\n",
    "                    state.array = fci.addons.des_b(state.array, state.norb, state.nelec, self.iS[i])\n",
    "                    state.nelec = (neleca, nelecb - 1)"
   ]
  },
  {
   "cell_type": "code",
   "execution_count": 82,
   "metadata": {},
   "outputs": [],
   "source": [
    "class state:\n",
    "    def __init__(self, array_, norb_, nelec_):\n",
    "        self.array = array_\n",
    "        self.norb = norb_\n",
    "        self.nelec = nelec_\n",
    "\n",
    "    def __add__(self, other):\n",
    "        if other == 0:\n",
    "            return self\n",
    "        elif self.norb == other.norb and self.nelec == other.nelec:\n",
    "            newArray = self.array + other.array\n",
    "            return state(newArray, self.norb, self.nelec)\n",
    "        else:\n",
    "            print(\"Adding states of different orbital or particle numbers or different spin projections is not supported. Returning original state\")\n",
    "            return self\n",
    "\n",
    "    def __radd__(self, other):\n",
    "        if other == 0:\n",
    "            return self\n",
    "        else:\n",
    "            return self.__add__(other)\n"
   ]
  },
  {
   "cell_type": "code",
   "execution_count": 84,
   "metadata": {},
   "outputs": [],
   "source": [
    "ref = state(np.array([[1.,0.,0.],[0.,0.,0.],[0.,0.,0.]]), 3, (2,1))"
   ]
  },
  {
   "cell_type": "code",
   "execution_count": 85,
   "metadata": {},
   "outputs": [],
   "source": [
    "opStr = operatorString(\"0a1b+2a+\")\n",
    "opStr.parse()"
   ]
  },
  {
   "cell_type": "code",
   "execution_count": 86,
   "metadata": {},
   "outputs": [
    {
     "output_type": "execute_result",
     "data": {
      "text/plain": [
       "[0, 1, 2]"
      ]
     },
     "metadata": {},
     "execution_count": 86
    }
   ],
   "source": [
    "opStr.iS"
   ]
  },
  {
   "cell_type": "code",
   "execution_count": 87,
   "metadata": {},
   "outputs": [
    {
     "output_type": "stream",
     "name": "stdout",
     "text": [
      "2\n2\n1\n1\n1\n1\n1\n0\n0\n0\n0\n1\n"
     ]
    }
   ],
   "source": [
    "new = deepcopy(ref)\n",
    "opStr.apply(new)"
   ]
  },
  {
   "cell_type": "code",
   "execution_count": 88,
   "metadata": {},
   "outputs": [
    {
     "output_type": "execute_result",
     "data": {
      "text/plain": [
       "(2, 1)"
      ]
     },
     "metadata": {},
     "execution_count": 88
    }
   ],
   "source": [
    "ref.nelec"
   ]
  },
  {
   "cell_type": "code",
   "execution_count": 89,
   "metadata": {},
   "outputs": [
    {
     "output_type": "execute_result",
     "data": {
      "text/plain": [
       "(2, 2)"
      ]
     },
     "metadata": {},
     "execution_count": 89
    }
   ],
   "source": [
    "new.nelec"
   ]
  },
  {
   "cell_type": "code",
   "execution_count": 90,
   "metadata": {},
   "outputs": [
    {
     "output_type": "execute_result",
     "data": {
      "text/plain": [
       "array([[ 0.,  0.,  0.],\n",
       "       [ 0.,  0.,  0.],\n",
       "       [-1.,  0.,  0.]])"
      ]
     },
     "metadata": {},
     "execution_count": 90
    }
   ],
   "source": [
    "new.array"
   ]
  },
  {
   "cell_type": "code",
   "execution_count": 91,
   "metadata": {},
   "outputs": [
    {
     "output_type": "stream",
     "name": "stdout",
     "text": [
      "0a+0b+1a+\n[0, 0, 1]\n[1, 0, 1]\n[1, 1, 1]\n"
     ]
    }
   ],
   "source": [
    "opStr1 = operatorString(\"0a+0b+1a+\")\n",
    "opStr1.parse()\n",
    "print(opStr1.string)\n",
    "print(opStr1.iS)\n",
    "print(opStr1.aOB)\n",
    "print(opStr1.cOA)"
   ]
  },
  {
   "cell_type": "code",
   "execution_count": 92,
   "metadata": {},
   "outputs": [],
   "source": [
    "opStr2 = copy(opStr1)"
   ]
  },
  {
   "cell_type": "code",
   "execution_count": 93,
   "metadata": {},
   "outputs": [
    {
     "output_type": "execute_result",
     "data": {
      "text/plain": [
       "str"
      ]
     },
     "metadata": {},
     "execution_count": 93
    }
   ],
   "source": [
    "type(opStr2.string)"
   ]
  },
  {
   "cell_type": "code",
   "execution_count": 94,
   "metadata": {},
   "outputs": [
    {
     "output_type": "stream",
     "name": "stdout",
     "text": [
      "0a+0b+1a+\n[0, 0, 2]\n[1, 0, 1]\n[1, 1, 1]\n"
     ]
    }
   ],
   "source": [
    "opStr2.iS[2] = 2\n",
    "print(opStr2.string)\n",
    "print(opStr2.iS)\n",
    "print(opStr2.aOB)\n",
    "print(opStr2.cOA)"
   ]
  },
  {
   "cell_type": "code",
   "execution_count": 95,
   "metadata": {},
   "outputs": [],
   "source": [
    "opStr2.updateString()"
   ]
  },
  {
   "cell_type": "code",
   "execution_count": 96,
   "metadata": {},
   "outputs": [
    {
     "output_type": "execute_result",
     "data": {
      "text/plain": [
       "'0a+0b+2a+'"
      ]
     },
     "metadata": {},
     "execution_count": 96
    }
   ],
   "source": [
    "opStr2.string"
   ]
  },
  {
   "cell_type": "code",
   "execution_count": 97,
   "metadata": {},
   "outputs": [
    {
     "output_type": "execute_result",
     "data": {
      "text/plain": [
       "array([[1., 0., 0.],\n",
       "       [0., 0., 0.],\n",
       "       [0., 0., 0.]])"
      ]
     },
     "metadata": {},
     "execution_count": 97
    }
   ],
   "source": [
    "ref.array"
   ]
  },
  {
   "cell_type": "code",
   "execution_count": 98,
   "metadata": {},
   "outputs": [],
   "source": [
    "new = copy(ref)"
   ]
  },
  {
   "cell_type": "code",
   "execution_count": 99,
   "metadata": {},
   "outputs": [
    {
     "output_type": "execute_result",
     "data": {
      "text/plain": [
       "array([[1., 0., 0.],\n",
       "       [0., 0., 0.],\n",
       "       [0., 0., 0.]])"
      ]
     },
     "metadata": {},
     "execution_count": 99
    }
   ],
   "source": [
    "new.array"
   ]
  },
  {
   "cell_type": "code",
   "execution_count": 100,
   "metadata": {},
   "outputs": [
    {
     "output_type": "stream",
     "name": "stdout",
     "text": [
      "2\n2\n1\n1\n1\n1\n1\n0\n0\n0\n0\n1\n"
     ]
    }
   ],
   "source": [
    "opStr.apply(new)"
   ]
  },
  {
   "cell_type": "code",
   "execution_count": 101,
   "metadata": {},
   "outputs": [
    {
     "output_type": "execute_result",
     "data": {
      "text/plain": [
       "array([[ 0.,  0.,  0.],\n",
       "       [ 0.,  0.,  0.],\n",
       "       [-1.,  0.,  0.]])"
      ]
     },
     "metadata": {},
     "execution_count": 101
    }
   ],
   "source": [
    "new.array"
   ]
  },
  {
   "cell_type": "code",
   "execution_count": 102,
   "metadata": {},
   "outputs": [],
   "source": [
    "cre0a = basicOperator(0,1,1)"
   ]
  },
  {
   "cell_type": "code",
   "execution_count": 103,
   "metadata": {},
   "outputs": [],
   "source": [
    "cre0a.apply(new)"
   ]
  },
  {
   "cell_type": "code",
   "execution_count": 104,
   "metadata": {},
   "outputs": [
    {
     "output_type": "execute_result",
     "data": {
      "text/plain": [
       "array([[-1.,  0.,  0.]])"
      ]
     },
     "metadata": {},
     "execution_count": 104
    }
   ],
   "source": [
    "new.array"
   ]
  },
  {
   "cell_type": "code",
   "execution_count": 105,
   "metadata": {},
   "outputs": [
    {
     "output_type": "execute_result",
     "data": {
      "text/plain": [
       "(3, 2)"
      ]
     },
     "metadata": {},
     "execution_count": 105
    }
   ],
   "source": [
    "new.nelec"
   ]
  },
  {
   "cell_type": "code",
   "execution_count": 107,
   "metadata": {},
   "outputs": [],
   "source": [
    "des1 = operatorSum([basicOperator(1,1,0), basicOperator(1,0,0)])"
   ]
  },
  {
   "cell_type": "code",
   "execution_count": 108,
   "metadata": {},
   "outputs": [
    {
     "output_type": "stream",
     "name": "stdout",
     "text": [
      "Adding states of different orbital or particle numbers or different spin projections is not supported. Returning original state\n"
     ]
    }
   ],
   "source": [
    "des1.apply(new)"
   ]
  },
  {
   "cell_type": "code",
   "execution_count": 109,
   "metadata": {},
   "outputs": [],
   "source": [
    "E12 = spinFreeExcitation([2],[1])"
   ]
  },
  {
   "cell_type": "code",
   "execution_count": 110,
   "metadata": {},
   "outputs": [
    {
     "output_type": "stream",
     "name": "stdout",
     "text": [
      "Adding states of different orbital or particle numbers or different spin projections is not supported. Returning original state\n"
     ]
    }
   ],
   "source": [
    "E12.apply(new)"
   ]
  },
  {
   "cell_type": "code",
   "execution_count": null,
   "metadata": {},
   "outputs": [],
   "source": []
  }
 ]
}