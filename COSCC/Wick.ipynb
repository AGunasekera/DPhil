{
 "cells": [
  {
   "cell_type": "code",
   "execution_count": 4,
   "metadata": {},
   "outputs": [],
   "source": [
    "import numpy as np\n",
    "from pyscf import fci\n",
    "from copy import deepcopy, copy\n",
    "\n",
    "#define vacuum\n",
    "#take in operator string\n",
    "#format: string of indices, bitstring of creation vs annihilation\n",
    "#return normal-ordered operator string plus contracted terms, according to Wick's theorem\n",
    "\n"
   ]
  },
  {
   "cell_type": "code",
   "execution_count": 5,
   "metadata": {},
   "outputs": [
    {
     "output_type": "stream",
     "name": "stdout",
     "text": [
      "[1, 1, 0]\n"
     ]
    }
   ],
   "source": [
    "norbs = 3\n",
    "Nalpha = 2\n",
    "vacuumOccupations = [1 for i in range(Nalpha)] + [0 for i in range (norbs - Nalpha)]\n",
    "print(vacuumOccupations)"
   ]
  },
  {
   "cell_type": "code",
   "execution_count": 76,
   "metadata": {},
   "outputs": [],
   "source": [
    "class basicOperator:\n",
    "    def __init__(self, orbital_, creation_annihilation_, spin_):\n",
    "        self.orbital = orbital_ #orbital index\n",
    "        self.spin = spin_ #1 for alpha, 0 for beta\n",
    "        self.creation_annihilation = creation_annihilation_ #1 for creation, 0 for annihilation\n",
    "#        self.quasi_cre_ann = None\n",
    "\n",
    "    def __str__(self):\n",
    "        string = \"a\"\n",
    "        if bool(self.creation_annihilation):\n",
    "            string = string + \"^\"\n",
    "        else:\n",
    "            string = string + \"_\"\n",
    "        if bool(self.spin):\n",
    "            string = string + \"{\" + str(self.orbital) + \"\\\\alpha}\"\n",
    "        else:\n",
    "            string = string + \"{\" + str(self.orbital) + \"\\\\beta}\"\n",
    "        return string\n",
    "\n",
    "    def apply(self, state):\n",
    "        neleca, nelecb = state.nelec[0], state.nelec[1]\n",
    "        norb = state.norb\n",
    "        if bool(self.creation_annihilation):\n",
    "            if bool(self.spin):\n",
    "#                if neleca == norb:\n",
    "#                    state.array = np.array([[0.]])\n",
    "#                    state.nelec = (0, 0)\n",
    "#                else:\n",
    "                state.array = fci.addons.cre_a(state.array, state.norb, state.nelec, self.orbital)\n",
    "                state.nelec = (neleca + 1, nelecb)\n",
    "            else:\n",
    "#                if nelecb == norb:\n",
    "#                    state.array = np.array([[0.]])\n",
    "#                    state.nelec = (0, 0)\n",
    "#                else:\n",
    "                state.array = fci.addons.cre_b(state.array, state.norb, state.nelec, self.orbital)\n",
    "                state.nelec = (neleca, nelecb + 1)\n",
    "        else:\n",
    "            if bool(self.spin):\n",
    "#                if neleca == 0:\n",
    "#                    state.array = np.array([[0.]])\n",
    "#                    state.nelec = (0, 0)\n",
    "#                else:\n",
    "                state.array = fci.addons.des_a(state.array, state.norb, state.nelec, self.orbital)\n",
    "                state.nelec = (neleca - 1, nelecb)\n",
    "            else:\n",
    "#                if nelecb == 0:\n",
    "#                    state.array = np.array([[0.]])\n",
    "#                    state.nelec = (0, 0)\n",
    "#                else:\n",
    "                state.array = fci.addons.des_b(state.array, state.norb, state.nelec, self.orbital)\n",
    "                state.nelec = (neleca, nelecb - 1)"
   ]
  },
  {
   "cell_type": "code",
   "execution_count": 77,
   "metadata": {},
   "outputs": [],
   "source": [
    "class operatorSum:\n",
    "    def __init__(self, operatorList_):\n",
    "        self.operatorList = operatorList_\n",
    "\n",
    "    def apply(self, state_):\n",
    "        result = state(np.array([[0.]]), state_.norb, state_.nelec)\n",
    "        for o in self.operatorList:\n",
    "            statecopy = copy(state_)\n",
    "            o.apply(statecopy)\n",
    "            print(statecopy.array)\n",
    "            result = statecopy + result\n",
    "            print(result.array)\n",
    "#        state1, state2 = copy(state), copy(state)\n",
    "#        self.operator1.apply(state1)\n",
    "#        self.operator2.apply(state2)\n",
    "#        state = state1 + state2\n",
    "        state_ = copy(result)\n",
    "        print(state_.array)"
   ]
  },
  {
   "cell_type": "code",
   "execution_count": 78,
   "metadata": {},
   "outputs": [],
   "source": [
    "class operatorProduct:\n",
    "    def __init__(self, operatorList_):\n",
    "        self.operatorList = operatorList_\n",
    "\n",
    "    def apply(self, state):\n",
    "        i = len(self.operatorList)\n",
    "        while i>0:\n",
    "            i = i - 1\n",
    "            self.operatorList[i].apply(state)"
   ]
  },
  {
   "cell_type": "code",
   "execution_count": 79,
   "metadata": {},
   "outputs": [],
   "source": [
    "def normalOrder(operatorProduct_, vacuum):\n",
    "    '''\n",
    "    Input: an operatorProduct and a list corresponding to which orbitals are occupied in the Fermi vacuum\n",
    "    Output: operatorProduct_ normal ordered with respect to vacuum\n",
    "    '''\n",
    "    quasiCreationList, quasiAnnihilationList = [], []\n",
    "    for o in range(len(operatorProduct_.operatorList)):\n",
    "        operator = operatorProduct_.operatorList[o]\n",
    "        print(operator.orbital)\n",
    "        print(operator.creation_annihilation)\n",
    "        print(operator.spin)\n",
    "        if bool(operator.creation_annihilation):\n",
    "            if bool(vacuum[operator.orbital]):\n",
    "                quasiAnnihilationList.append(operator)\n",
    "            else:\n",
    "                quasiCreationList.append(operator)\n",
    "        else:\n",
    "            if bool(vacuum[operator.orbital]):\n",
    "                quasiCreationList.append(operator)\n",
    "            else:\n",
    "                quasiAnnihilationList.append(operator)\n",
    "    return operatorProduct(quasiCreationList + quasiAnnihilationList)"
   ]
  },
  {
   "cell_type": "code",
   "execution_count": 84,
   "metadata": {},
   "outputs": [
    {
     "output_type": "stream",
     "name": "stdout",
     "text": [
      "1\n1\n1\n2\n1\n1\na^{2\\alpha}\na^{1\\alpha}\n"
     ]
    }
   ],
   "source": [
    "oP = operatorProduct([basicOperator(1,1,1), basicOperator(2,1,1)])\n",
    "nOP = normalOrder(oP, vacuumOccupations)\n",
    "for i in range(len(nOP.operatorList)):\n",
    "    print(nOP.operatorList[i])"
   ]
  },
  {
   "cell_type": "code",
   "execution_count": 11,
   "metadata": {},
   "outputs": [],
   "source": [
    "#Normal-ordered particle number-conserving excitation operators\n",
    "class excitation(operatorProduct):\n",
    "    def __init__(self, creationList_, annihilationList_, spinList_):\n",
    "        self.operatorList = []\n",
    "        for i in range(len(creationList_)):\n",
    "            self.operatorList.append(basicOperator(creationList_[i], 1, spinList_[i]))\n",
    "        for i in range(len(annihilationList_)):\n",
    "            self.operatorList.append(basicOperator(annihilationList_[i], 0, spinList_[i+len(creationList_)]))"
   ]
  },
  {
   "cell_type": "code",
   "execution_count": 12,
   "metadata": {},
   "outputs": [],
   "source": [
    "class spinFreeExcitation(operatorSum):\n",
    "    def __init__(self, creationList_, annihilationList_):\n",
    "        self.operatorList = []\n",
    "        spinLists = np.reshape(np.zeros(len(creationList_)), (1, -1))\n",
    "        for i in range(len(creationList_)):\n",
    "            newspinLists = spinLists.copy()\n",
    "            for s in range(len(spinLists)):\n",
    "                newspinLists[s,i] = 1\n",
    "            spinLists = np.concatenate((spinLists, newspinLists))\n",
    "        for l in range(len(spinLists)):\n",
    "            spinList = spinLists[l]\n",
    "            self.operatorList.append(excitation(creationList_, annihilationList_, [*spinList, *spinList[::-1]]))"
   ]
  },
  {
   "cell_type": "code",
   "execution_count": 13,
   "metadata": {},
   "outputs": [],
   "source": [
    "class operatorString:\n",
    "    def __init__(self, string_):\n",
    "        self.string = string_\n",
    "        #list of indices in the string of second-quantised operators\n",
    "        self.iS = []\n",
    "        #bitstring of same length, with 1 corresponding to creation and 0 for annihilation\n",
    "        self.cOA = []\n",
    "        #bitstring of same length, with 1 corresponding to alpha and 0 for beta\n",
    "        self.aOB = []\n",
    "\n",
    "    #Get indices, alpha or beta, and creation or annihilation from string\n",
    "    def parse(self):\n",
    "        c = 0\n",
    "        while c < len(self.string) - 1:\n",
    "            self.iS.append(int(self.string[c]))\n",
    "            if self.string[c+1] == \"a\":\n",
    "                    self.aOB.append(1)\n",
    "            elif self.string[c+1] == \"b\":\n",
    "                    self.aOB.append(0)\n",
    "            if c < len(self.string) - 2 and self.string[c+2] == \"+\":\n",
    "                self.cOA.append(1)\n",
    "                c = c + 3\n",
    "            else:\n",
    "                self.cOA.append(0)\n",
    "                c = c + 2\n",
    "\n",
    "    #Change string based on new indices, alpha or beta, and creation or annihilation\n",
    "    def updateString(self):\n",
    "        self.string = \"\"\n",
    "        i = 0\n",
    "        while i < len(self.iS):\n",
    "            if bool(self.cOA[i]):\n",
    "                if bool(self.aOB[i]):\n",
    "                    self.string = self.string + str(self.iS[i]) + \"a+\"\n",
    "                else:\n",
    "                    self.string = self.string + str(self.iS[i]) + \"b+\"\n",
    "            else:\n",
    "                if bool(self.aOB[i]):\n",
    "                    self.string = self.string + str(self.iS[i]) + \"a\"\n",
    "                else:\n",
    "                    self.string = self.string + str(self.iS[i]) + \"b\"\n",
    "            i = i + 1\n",
    "\n",
    "    #Apply the string of second-quantised operators to an arbitrary state object\n",
    "    #Note that nelec does not yet account for the state being completely annihilated\n",
    "    def apply(self, state):\n",
    "        i = len(self.iS)\n",
    "        while(i > 0):\n",
    "            i = i - 1\n",
    "#            print(i)\n",
    "#            print(self.iS[i])\n",
    "#            print(self.cOA[i])\n",
    "#            print(self.aOB[i])\n",
    "            neleca, nelecb = state.nelec[0], state.nelec[1]\n",
    "            if bool(self.cOA[i]):\n",
    "                if bool(self.aOB[i]):\n",
    "                    state.array = fci.addons.cre_a(state.array, state.norb, state.nelec, self.iS[i])\n",
    "                    state.nelec = (neleca + 1, nelecb)\n",
    "                else:\n",
    "                    state.array = fci.addons.cre_b(state.array, state.norb, state.nelec, self.iS[i])\n",
    "                    state.nelec = (neleca, nelecb + 1)\n",
    "            else:\n",
    "                if bool(self.aOB[i]):\n",
    "                    state.array = fci.addons.des_a(state.array, state.norb, state.nelec, self.iS[i])\n",
    "                    state.nelec = (neleca - 1, nelecb)\n",
    "                else:\n",
    "                    state.array = fci.addons.des_b(state.array, state.norb, state.nelec, self.iS[i])\n",
    "                    state.nelec = (neleca, nelecb - 1)"
   ]
  },
  {
   "cell_type": "code",
   "execution_count": 14,
   "metadata": {},
   "outputs": [],
   "source": [
    "class state:\n",
    "    def __init__(self, array_, norb_, nelec_):\n",
    "        self.array = array_\n",
    "        self.norb = norb_\n",
    "        self.nelec = nelec_\n",
    "\n",
    "    def __add__(self, other):\n",
    "        if (other.array == 0.).all():\n",
    "            return self\n",
    "        elif (self.array == 0.).all():\n",
    "            return other\n",
    "        elif self.norb == other.norb and self.nelec == other.nelec:\n",
    "            newArray = self.array + other.array\n",
    "            return state(newArray, self.norb, self.nelec)\n",
    "        else:\n",
    "            print(\"Adding states of different orbital or particle numbers or different spin projections is not supported. Returning original state\")\n",
    "            return self\n",
    "\n",
    "    def __radd__(self, other):\n",
    "        if other == 0:\n",
    "            return self\n",
    "        else:\n",
    "            return self.__add__(other)\n"
   ]
  },
  {
   "cell_type": "code",
   "execution_count": null,
   "metadata": {},
   "outputs": [],
   "source": []
  },
  {
   "cell_type": "code",
   "execution_count": 15,
   "metadata": {},
   "outputs": [],
   "source": [
    "ref = state(np.array([[1.,0.,0.],[0.,0.,0.],[0.,0.,0.]]), 3, (2,1))"
   ]
  },
  {
   "cell_type": "code",
   "execution_count": 16,
   "metadata": {},
   "outputs": [],
   "source": [
    "new = copy(ref)"
   ]
  },
  {
   "cell_type": "code",
   "execution_count": 17,
   "metadata": {},
   "outputs": [],
   "source": [
    "des0a, des0b = basicOperator(0,0,1), basicOperator(0,0,0)\n",
    "des1a, des1b = basicOperator(1,0,1), basicOperator(1,0,0)\n",
    "des2a, des2b = basicOperator(2,0,1), basicOperator(2,0,0)\n",
    "\n",
    "cre0a, cre0b = basicOperator(0,1,1), basicOperator(0,1,0)\n",
    "cre1a, cre1b = basicOperator(1,1,1), basicOperator(1,1,0)\n",
    "cre2a, cre2b = basicOperator(2,1,1), basicOperator(2,1,0)"
   ]
  },
  {
   "cell_type": "code",
   "execution_count": 18,
   "metadata": {},
   "outputs": [],
   "source": [
    "exc12a = operatorProduct([cre2a, des1a])\n",
    "exc12b = operatorProduct([cre2b, des1b])\n",
    "exc12 = operatorSum([exc12a, exc12b])"
   ]
  },
  {
   "cell_type": "code",
   "execution_count": 19,
   "metadata": {},
   "outputs": [
    {
     "output_type": "execute_result",
     "data": {
      "text/plain": [
       "array([[1., 0., 0.],\n",
       "       [0., 0., 0.],\n",
       "       [0., 0., 0.]])"
      ]
     },
     "metadata": {},
     "execution_count": 19
    }
   ],
   "source": [
    "new.array"
   ]
  },
  {
   "cell_type": "code",
   "execution_count": 20,
   "metadata": {},
   "outputs": [
    {
     "output_type": "stream",
     "name": "stdout",
     "text": [
      "[[0. 0. 0.]\n [1. 0. 0.]\n [0. 0. 0.]]\n[[0. 0. 0.]\n [1. 0. 0.]\n [0. 0. 0.]]\n[[0. 0. 0.]\n [0. 0. 0.]\n [0. 0. 0.]]\n[[0. 0. 0.]\n [1. 0. 0.]\n [0. 0. 0.]]\n[[0. 0. 0.]\n [1. 0. 0.]\n [0. 0. 0.]]\n"
     ]
    }
   ],
   "source": [
    "exc12.apply(new)"
   ]
  },
  {
   "cell_type": "code",
   "execution_count": 21,
   "metadata": {},
   "outputs": [
    {
     "output_type": "execute_result",
     "data": {
      "text/plain": [
       "array([[1., 0., 0.],\n",
       "       [0., 0., 0.],\n",
       "       [0., 0., 0.]])"
      ]
     },
     "metadata": {},
     "execution_count": 21
    }
   ],
   "source": [
    "new.array"
   ]
  },
  {
   "cell_type": "code",
   "execution_count": 22,
   "metadata": {},
   "outputs": [
    {
     "output_type": "execute_result",
     "data": {
      "text/plain": [
       "(2, 1)"
      ]
     },
     "metadata": {},
     "execution_count": 22
    }
   ],
   "source": [
    "new.nelec"
   ]
  },
  {
   "cell_type": "code",
   "execution_count": 23,
   "metadata": {},
   "outputs": [],
   "source": [
    "opStr = operatorString(\"0a1b+2a+\")\n",
    "opStr.parse()"
   ]
  },
  {
   "cell_type": "code",
   "execution_count": 24,
   "metadata": {},
   "outputs": [
    {
     "output_type": "execute_result",
     "data": {
      "text/plain": [
       "[0, 1, 2]"
      ]
     },
     "metadata": {},
     "execution_count": 24
    }
   ],
   "source": [
    "opStr.iS"
   ]
  },
  {
   "cell_type": "code",
   "execution_count": 25,
   "metadata": {},
   "outputs": [],
   "source": [
    "new = deepcopy(ref)\n",
    "opStr.apply(new)"
   ]
  },
  {
   "cell_type": "code",
   "execution_count": 26,
   "metadata": {},
   "outputs": [
    {
     "output_type": "execute_result",
     "data": {
      "text/plain": [
       "(2, 1)"
      ]
     },
     "metadata": {},
     "execution_count": 26
    }
   ],
   "source": [
    "ref.nelec"
   ]
  },
  {
   "cell_type": "code",
   "execution_count": 27,
   "metadata": {},
   "outputs": [
    {
     "output_type": "execute_result",
     "data": {
      "text/plain": [
       "(2, 2)"
      ]
     },
     "metadata": {},
     "execution_count": 27
    }
   ],
   "source": [
    "new.nelec"
   ]
  },
  {
   "cell_type": "code",
   "execution_count": 28,
   "metadata": {},
   "outputs": [
    {
     "output_type": "execute_result",
     "data": {
      "text/plain": [
       "array([[ 0.,  0.,  0.],\n",
       "       [ 0.,  0.,  0.],\n",
       "       [-1.,  0.,  0.]])"
      ]
     },
     "metadata": {},
     "execution_count": 28
    }
   ],
   "source": [
    "new.array"
   ]
  },
  {
   "cell_type": "code",
   "execution_count": 29,
   "metadata": {},
   "outputs": [
    {
     "output_type": "stream",
     "name": "stdout",
     "text": [
      "0a+0b+1a+\n[0, 0, 1]\n[1, 0, 1]\n[1, 1, 1]\n"
     ]
    }
   ],
   "source": [
    "opStr1 = operatorString(\"0a+0b+1a+\")\n",
    "opStr1.parse()\n",
    "print(opStr1.string)\n",
    "print(opStr1.iS)\n",
    "print(opStr1.aOB)\n",
    "print(opStr1.cOA)"
   ]
  },
  {
   "cell_type": "code",
   "execution_count": 30,
   "metadata": {},
   "outputs": [],
   "source": [
    "opStr2 = copy(opStr1)"
   ]
  },
  {
   "cell_type": "code",
   "execution_count": 31,
   "metadata": {},
   "outputs": [
    {
     "output_type": "execute_result",
     "data": {
      "text/plain": [
       "str"
      ]
     },
     "metadata": {},
     "execution_count": 31
    }
   ],
   "source": [
    "type(opStr2.string)"
   ]
  },
  {
   "cell_type": "code",
   "execution_count": 32,
   "metadata": {},
   "outputs": [
    {
     "output_type": "stream",
     "name": "stdout",
     "text": [
      "0a+0b+1a+\n[0, 0, 2]\n[1, 0, 1]\n[1, 1, 1]\n"
     ]
    }
   ],
   "source": [
    "opStr2.iS[2] = 2\n",
    "print(opStr2.string)\n",
    "print(opStr2.iS)\n",
    "print(opStr2.aOB)\n",
    "print(opStr2.cOA)"
   ]
  },
  {
   "cell_type": "code",
   "execution_count": 33,
   "metadata": {},
   "outputs": [],
   "source": [
    "opStr2.updateString()"
   ]
  },
  {
   "cell_type": "code",
   "execution_count": 34,
   "metadata": {},
   "outputs": [
    {
     "output_type": "execute_result",
     "data": {
      "text/plain": [
       "'0a+0b+2a+'"
      ]
     },
     "metadata": {},
     "execution_count": 34
    }
   ],
   "source": [
    "opStr2.string"
   ]
  },
  {
   "cell_type": "code",
   "execution_count": 35,
   "metadata": {},
   "outputs": [
    {
     "output_type": "execute_result",
     "data": {
      "text/plain": [
       "array([[1., 0., 0.],\n",
       "       [0., 0., 0.],\n",
       "       [0., 0., 0.]])"
      ]
     },
     "metadata": {},
     "execution_count": 35
    }
   ],
   "source": [
    "ref.array"
   ]
  },
  {
   "cell_type": "code",
   "execution_count": 36,
   "metadata": {},
   "outputs": [],
   "source": [
    "new = copy(ref)"
   ]
  },
  {
   "cell_type": "code",
   "execution_count": 37,
   "metadata": {},
   "outputs": [
    {
     "output_type": "execute_result",
     "data": {
      "text/plain": [
       "array([[1., 0., 0.],\n",
       "       [0., 0., 0.],\n",
       "       [0., 0., 0.]])"
      ]
     },
     "metadata": {},
     "execution_count": 37
    }
   ],
   "source": [
    "new.array"
   ]
  },
  {
   "cell_type": "code",
   "execution_count": 38,
   "metadata": {},
   "outputs": [],
   "source": [
    "opStr.apply(new)"
   ]
  },
  {
   "cell_type": "code",
   "execution_count": 39,
   "metadata": {},
   "outputs": [
    {
     "output_type": "execute_result",
     "data": {
      "text/plain": [
       "array([[ 0.,  0.,  0.],\n",
       "       [ 0.,  0.,  0.],\n",
       "       [-1.,  0.,  0.]])"
      ]
     },
     "metadata": {},
     "execution_count": 39
    }
   ],
   "source": [
    "new.array"
   ]
  },
  {
   "cell_type": "code",
   "execution_count": 40,
   "metadata": {},
   "outputs": [],
   "source": [
    "cre0a = basicOperator(0,1,1)"
   ]
  },
  {
   "cell_type": "code",
   "execution_count": 41,
   "metadata": {},
   "outputs": [],
   "source": [
    "cre0a.apply(new)"
   ]
  },
  {
   "cell_type": "code",
   "execution_count": 42,
   "metadata": {},
   "outputs": [
    {
     "output_type": "execute_result",
     "data": {
      "text/plain": [
       "array([[-1.,  0.,  0.]])"
      ]
     },
     "metadata": {},
     "execution_count": 42
    }
   ],
   "source": [
    "new.array"
   ]
  },
  {
   "cell_type": "code",
   "execution_count": 43,
   "metadata": {},
   "outputs": [
    {
     "output_type": "execute_result",
     "data": {
      "text/plain": [
       "(3, 2)"
      ]
     },
     "metadata": {},
     "execution_count": 43
    }
   ],
   "source": [
    "new.nelec"
   ]
  },
  {
   "cell_type": "code",
   "execution_count": 44,
   "metadata": {},
   "outputs": [],
   "source": [
    "des1 = operatorSum([basicOperator(1,1,0), basicOperator(1,0,0)])"
   ]
  },
  {
   "cell_type": "code",
   "execution_count": 45,
   "metadata": {
    "scrolled": true
   },
   "outputs": [
    {
     "output_type": "stream",
     "name": "stdout",
     "text": [
      "[[0.]]\n[[0.]]\n[[1. 0. 0.]]\n[[1. 0. 0.]]\n[[1. 0. 0.]]\n"
     ]
    }
   ],
   "source": [
    "des1.apply(new)"
   ]
  },
  {
   "cell_type": "code",
   "execution_count": 46,
   "metadata": {
    "scrolled": true
   },
   "outputs": [],
   "source": [
    "E12 = spinFreeExcitation([2],[1])"
   ]
  },
  {
   "cell_type": "code",
   "execution_count": 47,
   "metadata": {},
   "outputs": [
    {
     "output_type": "stream",
     "name": "stdout",
     "text": [
      "[[ 0. -1. -0.]]\n[[ 0. -1. -0.]]\n[[0. 0. 0.]]\n[[ 0. -1. -0.]]\n[[ 0. -1. -0.]]\n"
     ]
    }
   ],
   "source": [
    "E12.apply(new)"
   ]
  },
  {
   "cell_type": "code",
   "execution_count": 48,
   "metadata": {},
   "outputs": [
    {
     "output_type": "execute_result",
     "data": {
      "text/plain": [
       "array([[-1.,  0.,  0.]])"
      ]
     },
     "metadata": {},
     "execution_count": 48
    }
   ],
   "source": [
    "new.array"
   ]
  },
  {
   "cell_type": "code",
   "execution_count": 49,
   "metadata": {},
   "outputs": [],
   "source": [
    "des1a.apply(new)"
   ]
  },
  {
   "cell_type": "code",
   "execution_count": 50,
   "metadata": {},
   "outputs": [
    {
     "output_type": "execute_result",
     "data": {
      "text/plain": [
       "(2, 2)"
      ]
     },
     "metadata": {},
     "execution_count": 50
    }
   ],
   "source": [
    "new.nelec"
   ]
  },
  {
   "cell_type": "code",
   "execution_count": 51,
   "metadata": {},
   "outputs": [
    {
     "output_type": "execute_result",
     "data": {
      "text/plain": [
       "array([[ 0.,  0.,  0.],\n",
       "       [ 1., -0., -0.],\n",
       "       [ 0.,  0.,  0.]])"
      ]
     },
     "metadata": {},
     "execution_count": 51
    }
   ],
   "source": [
    "new.array"
   ]
  },
  {
   "cell_type": "code",
   "execution_count": 52,
   "metadata": {},
   "outputs": [
    {
     "output_type": "execute_result",
     "data": {
      "text/plain": [
       "array([[1., 0., 0.],\n",
       "       [0., 0., 0.],\n",
       "       [0., 0., 0.]])"
      ]
     },
     "metadata": {},
     "execution_count": 52
    }
   ],
   "source": [
    "ref.array"
   ]
  },
  {
   "cell_type": "code",
   "execution_count": 53,
   "metadata": {},
   "outputs": [
    {
     "output_type": "execute_result",
     "data": {
      "text/plain": [
       "(2, 1)"
      ]
     },
     "metadata": {},
     "execution_count": 53
    }
   ],
   "source": [
    "ref.nelec"
   ]
  },
  {
   "cell_type": "code",
   "execution_count": 54,
   "metadata": {},
   "outputs": [],
   "source": [
    "new = copy(ref)"
   ]
  },
  {
   "cell_type": "code",
   "execution_count": 55,
   "metadata": {},
   "outputs": [],
   "source": [
    "des1b.apply(new)"
   ]
  },
  {
   "cell_type": "code",
   "execution_count": 56,
   "metadata": {},
   "outputs": [
    {
     "output_type": "execute_result",
     "data": {
      "text/plain": [
       "array([[0.],\n",
       "       [0.],\n",
       "       [0.]])"
      ]
     },
     "metadata": {},
     "execution_count": 56
    }
   ],
   "source": [
    "new.array"
   ]
  },
  {
   "cell_type": "code",
   "execution_count": 57,
   "metadata": {},
   "outputs": [
    {
     "output_type": "execute_result",
     "data": {
      "text/plain": [
       "(2, 0)"
      ]
     },
     "metadata": {},
     "execution_count": 57
    }
   ],
   "source": [
    "new.nelec"
   ]
  },
  {
   "cell_type": "code",
   "execution_count": 58,
   "metadata": {},
   "outputs": [
    {
     "output_type": "execute_result",
     "data": {
      "text/plain": [
       "__main__.state"
      ]
     },
     "metadata": {},
     "execution_count": 58
    }
   ],
   "source": [
    "type(new)"
   ]
  },
  {
   "cell_type": "code",
   "execution_count": 59,
   "metadata": {},
   "outputs": [
    {
     "output_type": "execute_result",
     "data": {
      "text/plain": [
       "array([[1., 0., 0.],\n",
       "       [0., 0., 0.],\n",
       "       [0., 0., 0.]])"
      ]
     },
     "metadata": {},
     "execution_count": 59
    }
   ],
   "source": [
    "ref.array"
   ]
  }
 ],
 "metadata": {
  "kernelspec": {
   "display_name": "Python 3",
   "language": "python",
   "name": "python3"
  },
  "language_info": {
   "codemirror_mode": {
    "name": "ipython",
    "version": 3
   },
   "file_extension": ".py",
   "mimetype": "text/x-python",
   "name": "python",
   "nbconvert_exporter": "python",
   "pygments_lexer": "ipython3",
   "version": "3.8.0-final"
  }
 },
 "nbformat": 4,
 "nbformat_minor": 2
}