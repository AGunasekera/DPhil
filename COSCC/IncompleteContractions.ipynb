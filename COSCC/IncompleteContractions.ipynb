{
 "cells": [
  {
   "cell_type": "code",
   "execution_count": 1,
   "metadata": {},
   "outputs": [],
   "source": [
    "from time import time\n",
    "from GeneralisedWick import *\n",
    "import CC, texify\n",
    "from pyscf import cc, mp"
   ]
  },
  {
   "cell_type": "code",
   "execution_count": 2,
   "metadata": {},
   "outputs": [],
   "source": [
    "fockTensor = Tensor(\"f\", ['g'], ['g'])\n",
    "h2Tensor = Tensor(\"v\", ['g', 'g'], ['g', 'g'])\n",
    "\n",
    "fockTensor.getAllDiagramsGeneral()\n",
    "h2Tensor.getAllDiagramsGeneral()\n",
    "\n",
    "t1Tensor = Tensor(\"{t_{1}}\", ['p'], ['h'])\n",
    "t2Tensor = Tensor(\"{t_{2}}\", ['p', 'p'], ['h', 'h'])"
   ]
  },
  {
   "cell_type": "code",
   "execution_count": 3,
   "metadata": {},
   "outputs": [],
   "source": [
    "uncontracted = evaluateWickFree(TensorProduct([t2Tensor]), True, (['p', 'p'], ['h', 'h']))"
   ]
  },
  {
   "cell_type": "code",
   "execution_count": 4,
   "metadata": {},
   "outputs": [
    {
     "name": "stdout",
     "output_type": "stream",
     "text": [
      "0.25 * {t_{2}}_{p_{0}p_{1}}^{h_{0}h_{1}}\n",
      " + 0.25 * {t_{2}}_{p_{0}p_{1}}^{h_{0}h_{1}}\n",
      " + 0.25 * {t_{2}}_{p_{0}p_{1}}^{h_{0}h_{1}}\n",
      " + 0.25 * {t_{2}}_{p_{0}p_{1}}^{h_{0}h_{1}}\n"
     ]
    }
   ],
   "source": [
    "print(uncontracted)"
   ]
  },
  {
   "cell_type": "code",
   "execution_count": 5,
   "metadata": {},
   "outputs": [
    {
     "name": "stdout",
     "output_type": "stream",
     "text": [
      "1.0 * a^{p_{0}\\beta}a^{p_{1}\\beta}a_{h_{1}\\beta}a_{h_{0}\\beta}\n",
      " + 1.0 * a^{p_{0}\\alpha}a^{p_{1}\\beta}a_{h_{1}\\beta}a_{h_{0}\\alpha}\n",
      " + 1.0 * a^{p_{0}\\beta}a^{p_{1}\\alpha}a_{h_{1}\\alpha}a_{h_{0}\\beta}\n",
      " + 1.0 * a^{p_{0}\\alpha}a^{p_{1}\\alpha}a_{h_{1}\\alpha}a_{h_{0}\\alpha}\n"
     ]
    }
   ],
   "source": [
    "print(TensorProduct([t2Tensor]).getOperator(True))"
   ]
  },
  {
   "cell_type": "code",
   "execution_count": 6,
   "metadata": {},
   "outputs": [
    {
     "name": "stdout",
     "output_type": "stream",
     "text": [
      "1.0 * a^{p_{0}\\beta}a^{p_{1}\\beta}a_{h_{1}\\beta}a_{h_{0}\\beta}\n",
      " + 1.0 * a^{p_{0}\\alpha}a^{p_{1}\\beta}a_{h_{1}\\beta}a_{h_{0}\\alpha}\n",
      " + 1.0 * a^{p_{0}\\beta}a^{p_{1}\\alpha}a_{h_{1}\\alpha}a_{h_{0}\\beta}\n",
      " + 1.0 * a^{p_{0}\\alpha}a^{p_{1}\\alpha}a_{h_{1}\\alpha}a_{h_{0}\\alpha}\n"
     ]
    }
   ],
   "source": [
    "print(uncontracted.getOperator(True))"
   ]
  }
 ],
 "metadata": {
  "interpreter": {
   "hash": "31f2aee4e71d21fbe5cf8b01ff0e069b9275f58929596ceb00d14d90e3e16cd6"
  },
  "kernelspec": {
   "display_name": "Python 3.6.8 64-bit",
   "language": "python",
   "name": "python3"
  },
  "language_info": {
   "codemirror_mode": {
    "name": "ipython",
    "version": 3
   },
   "file_extension": ".py",
   "mimetype": "text/x-python",
   "name": "python",
   "nbconvert_exporter": "python",
   "pygments_lexer": "ipython3",
   "version": "3.6.8"
  },
  "orig_nbformat": 4
 },
 "nbformat": 4,
 "nbformat_minor": 2
}
